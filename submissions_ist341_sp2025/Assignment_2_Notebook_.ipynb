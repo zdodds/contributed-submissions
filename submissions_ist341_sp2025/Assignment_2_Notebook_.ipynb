{
  "cells": [
    {
      "cell_type": "markdown",
      "source": [
        "# Welcome back, IST 341!\n",
        "\n",
        "### _Assignment 2 Notebook: Strings, Slicing, and Functions_\n",
        "\n",
        "Featuring!\n",
        "+ Strings-as-data, including indexing and slicing\n",
        "+ Python's cells: _Functions_\n",
        "+ Functional control: _Recursion_!\n",
        "\n",
        "Onward!"
      ],
      "metadata": {
        "id": "UrkiOTiDEjwp"
      }
    },
    {
      "cell_type": "markdown",
      "source": [
        "### <font color=\"FireBrick\"><b>Overview of this week's Python Notebook</b> (this notebook)</font>\n",
        "\n",
        "Last week introduced Python's _conditionals_.\n",
        "+ In fact, we \"completed\" them!\n",
        "+ _All_ computational decision making is expressed from the building blocks of `if` `elif` and `else` !\n",
        "\n",
        "This week, we add _data transformation_\n",
        "+ Processes transforming input data to output data.\n",
        "+ This is \"computing,\" most stereotypically...\n",
        "\n",
        "This notebook has three main challenges, each with a few subparts:\n",
        "+ string and list operations, called _slicing_ and _indexing_\n",
        "+ user-defined functions: functions are the ***cells*** of software!\n",
        "+ control with functions: _recursion_ as a problem-solving strategy\n",
        "\n",
        "Let's dive in!"
      ],
      "metadata": {
        "id": "NoXM4SE7QVPh"
      }
    },
    {
      "cell_type": "markdown",
      "source": [
        "### <font color=\"DodgerBlue\"><b>Make your own copy of this notebook (as in each week)</b></font>\n",
        "\n",
        "**Submitting** -- When you're ready to submit, be sure to\n",
        "+ **share** the notebook with me -- for maximum ease, please use two addresses:\n",
        "   + `zdodds@gmail.com`   `dodds@g.hmc.edu`\n",
        "+ and also **submit** the url to your notebook at the appropriate spot on Canvas"
      ],
      "metadata": {
        "id": "M7dzL4m4fPYf"
      }
    },
    {
      "cell_type": "markdown",
      "source": [
        "# Operations on Strings and Lists\n",
        "\n",
        "### Indexing and Slicing\n",
        "\n",
        "It's familiar to operate on numeric data.\n",
        "\n",
        "It's equally possible -- and important -- to operate on _string_ and _list_ data -- in fact, for biological and biochemical applications, string operations are more fundamental than numeric ones!\n"
      ],
      "metadata": {
        "id": "SqlZ-RCK6jJV"
      }
    },
    {
      "cell_type": "markdown",
      "source": [
        "### Examples of operating on strings\n",
        "\n",
        "The next few cells show a few examples of\n",
        "+ **indexing**, which produces a single element from a string or list\n",
        "+ **slicing**, which produces a substring or sublist\n",
        "\n",
        "Let's try them with strings.\n",
        "\n",
        "First, \"positive\" indexing:"
      ],
      "metadata": {
        "id": "0e0JxCVbJY3C"
      }
    },
    {
      "cell_type": "code",
      "source": [
        "#\n",
        "# here is a string, named c\n",
        "#\n",
        "\n",
        "c = \"claremont\"\n",
        "\n",
        "# let's see c[0], c[1], c[2], and c[3]\n",
        "print(\"c[0] is\", c[0])      # here, the index is 0\n",
        "print(\"c[1] is\", c[1])      # here, the index is 1\n",
        "print(\"c[2] is\", c[2])      # here, the index is 2\n",
        "print(\"c[3] is\", c[3])      # here, the index is 3"
      ],
      "metadata": {
        "id": "Hsf6KmaGiiYr",
        "colab": {
          "base_uri": "https://localhost:8080/"
        },
        "outputId": "53600e33-0f90-42b4-9abb-9bda6cffc0be"
      },
      "execution_count": null,
      "outputs": [
        {
          "output_type": "stream",
          "name": "stdout",
          "text": [
            "c[0] is c\n",
            "c[1] is l\n",
            "c[2] is a\n",
            "c[3] is r\n"
          ]
        }
      ]
    },
    {
      "cell_type": "markdown",
      "source": [
        "### Watch out!\n",
        "+ Above, ``c[0]`` is the _string_ \"c\"  (Python does not show the quotes)\n",
        "+ And, ``c[1]`` is the _string_ \"l\"  \n",
        "+ And so on...\n",
        "\n"
      ],
      "metadata": {
        "id": "MzL1u3KwjS6o"
      }
    },
    {
      "cell_type": "markdown",
      "source": [
        "## Notice that indexing starts at 0!  (Watch out!)\n",
        "+ For the string named ``c``\n",
        "+ The initial (first) element of ``c`` is ``c[0]``\n",
        "  + which is, in fact, ``'c'``\n",
        "+ The next (second) element is ``c[1]``\n",
        "  + which is, in fact, ``'l'``\n",
        "+ The next (third) element is ``c[2]``\n",
        "  + which is, in fact, ``'a'``\n",
        "+ and so on...\n",
        "\n",
        "<br>\n",
        "\n",
        "Notice the difference between the _variable_ ``c`` and the literal _string_ ``'c'``\n",
        "+ Python may not always print those quotes!\n",
        "\n",
        "<br>\n",
        "\n",
        "Also, Python supports \"negative\" indexing:"
      ],
      "metadata": {
        "id": "i7ub3ivJlssy"
      }
    },
    {
      "cell_type": "code",
      "source": [
        "c = \"claremont\"\n",
        "\n",
        "# let's see c[-1], c[-2], c[-3], and c[-4]\n",
        "print(\"c[-1] is\", c[-1])      # here, the index is 1\n",
        "print(\"c[-2] is\", c[-2])      # here, the index is 2\n",
        "print(\"c[-3] is\", c[-3])      # here, the index is 3\n",
        "print(\"c[-4] is\", c[-4])      # here, the index is 4"
      ],
      "metadata": {
        "id": "ILIDXchRwY3B",
        "colab": {
          "base_uri": "https://localhost:8080/"
        },
        "outputId": "75465ada-584d-4d1a-d6ae-43c51c5bae54"
      },
      "execution_count": null,
      "outputs": [
        {
          "output_type": "stream",
          "name": "stdout",
          "text": [
            "c[-1] is t\n",
            "c[-2] is n\n",
            "c[-3] is o\n",
            "c[-4] is m\n"
          ]
        }
      ]
    },
    {
      "cell_type": "markdown",
      "source": [
        "### Notice that a negative index counts ***from the right end*** !\n",
        "+ So, ``c[-1]``  is the last character in the string ``c``\n",
        "+ And ``c[-2]``  is the second-to-last character in the string ``c``\n",
        "+ And ``c[-3]``  is the third-to-last character in the string ``c``\n",
        "+ And so on..."
      ],
      "metadata": {
        "id": "JuiNRDa_wn6N"
      }
    },
    {
      "cell_type": "markdown",
      "source": [
        "### You can also add strings together...\n",
        "+ for example, you can create the string ``\"car\"`` by adding"
      ],
      "metadata": {
        "id": "ziB60GVQkZW-"
      }
    },
    {
      "cell_type": "code",
      "source": [
        "answer = c[0] + c[2] + c[3]\n",
        "print(\"answer is\", answer)"
      ],
      "metadata": {
        "id": "4j6_YnWPkq8t",
        "colab": {
          "base_uri": "https://localhost:8080/"
        },
        "outputId": "165a88fc-a6f3-413e-8d78-cc8ef4686c0f"
      },
      "execution_count": null,
      "outputs": [
        {
          "output_type": "stream",
          "name": "stdout",
          "text": [
            "answer is car\n"
          ]
        }
      ]
    },
    {
      "cell_type": "markdown",
      "source": [
        "_What if I'm both positive and negative?!_\n",
        "\n",
        "There's no problem mixing positive and negative indices:"
      ],
      "metadata": {
        "id": "8zPYIsadxJ9T"
      }
    },
    {
      "cell_type": "code",
      "source": [
        "answer = c[0] + c[2] + c[-6]  # index 3 and index -6 are the same for 'claremont'\n",
        "print(\"answer is\", answer)"
      ],
      "metadata": {
        "id": "2_RsTgPXxOcs",
        "colab": {
          "base_uri": "https://localhost:8080/"
        },
        "outputId": "991df77b-2807-4e8a-9225-aaa88c6f987f"
      },
      "execution_count": null,
      "outputs": [
        {
          "output_type": "stream",
          "name": "stdout",
          "text": [
            "answer is car\n"
          ]
        }
      ]
    },
    {
      "cell_type": "markdown",
      "source": [
        "### Out-of-bounds errors...  (``IndexErrors``)\n",
        "+ If an index is out of bounds, Python will give an ``IndexError``\n",
        "+ Run the next cell to see this happen.\n",
        "+ No problem -- good information to get...!"
      ],
      "metadata": {
        "id": "1O9GIYlJlZNG"
      }
    },
    {
      "cell_type": "code",
      "source": [
        "c[20]     # The index 20 is out of bounds... this will error"
      ],
      "metadata": {
        "id": "xhoYxrphlbCO",
        "colab": {
          "base_uri": "https://localhost:8080/",
          "height": 141
        },
        "outputId": "fb7eabaf-d8f1-4f2d-d267-13c25dde50e8"
      },
      "execution_count": null,
      "outputs": [
        {
          "output_type": "error",
          "ename": "IndexError",
          "evalue": "string index out of range",
          "traceback": [
            "\u001b[0;31m---------------------------------------------------------------------------\u001b[0m",
            "\u001b[0;31mIndexError\u001b[0m                                Traceback (most recent call last)",
            "\u001b[0;32m<ipython-input-5-21d223a96a58>\u001b[0m in \u001b[0;36m<cell line: 0>\u001b[0;34m()\u001b[0m\n\u001b[0;32m----> 1\u001b[0;31m \u001b[0mc\u001b[0m\u001b[0;34m[\u001b[0m\u001b[0;36m20\u001b[0m\u001b[0;34m]\u001b[0m     \u001b[0;31m# The index 20 is out of bounds... this will error\u001b[0m\u001b[0;34m\u001b[0m\u001b[0;34m\u001b[0m\u001b[0m\n\u001b[0m",
            "\u001b[0;31mIndexError\u001b[0m: string index out of range"
          ]
        }
      ]
    },
    {
      "cell_type": "markdown",
      "source": [
        "### <font color=\"darkblue\"><b>Your task</b></font>:  Five words from the 5C's\n",
        "\n",
        "Below, there are five strings from the 5C's\n",
        "+ Your challenge is to _assemble_ a word from the letters of each string\n",
        "  + a _different_ word than the name itself, for sure\n",
        "  + you'll need to \"find/construct\" the word!\n",
        "  + You should find a word of _four or more letters_\n",
        "+ Here, you will use _indexing_ to access each letter\n",
        "  + remember that positive indexing starts at 0\n",
        "  + negative indexing starts at -1\n",
        "+ Create it by indexing into each string\n",
        "+ One example is provided\n",
        "+ Challenge:\n",
        "  + Can you find a five letter word in some?\n",
        "  + Six letters?\n",
        "  + (_More? This is new: we don't know the limits..._)"
      ],
      "metadata": {
        "id": "0Piq1D5ymuPw"
      }
    },
    {
      "cell_type": "code",
      "source": [
        "#\n",
        "# 5 words from the 5Cs\n",
        "\n",
        "# here are five 5C strings:\n",
        "\n",
        "#    012345678     for reference\n",
        "c = \"claremont\"\n",
        "g = \"graduate\"\n",
        "m = \"mckenna\"          # we'll skip m\n",
        "s = \"scripps\"\n",
        "p = \"pitzer\"\n",
        "h = \"harvey\"\n",
        "#    012345        for reference\n",
        "\n",
        "# Your challenge: assemble one four-or-more letter word from each\n",
        "# See if you can find a six letter word for one or more of them?!\n",
        "\n",
        "# Example from c: real\n",
        "print(\"Assembling real from c: \", c[3] + c[4] + c[2] + c[1])\n",
        "\n",
        "# Example from c:    # find a different one from c:\n",
        "print(\"Assembling clear from c: \", c[0]+ c[1]+ c[4]+ c[2]+ c[3] )\n",
        "\n",
        "print(\"Assembling atom from c: \", c[2]+ c[-1]+ c[-3]+ c[-4] )\n",
        "\n",
        "print(\"Assembling team from c: \", c[-1]+ c[4]+ c[2]+ c[5] )\n",
        "\n",
        "print(\"Assembling rental  from c: \", c[3]+ c[4]+ c[-2]+ c[-1]+ c[2]+ c[1] )\n",
        "\n",
        "print(\"Assembling romance  from c: \", c[3]+ c[-3]+ c[-4]+ c[2]+ c[-2]+ c[0]+ c[4] )\n",
        "\n",
        "# Example from g:\n",
        "print(\"Assembling great  from g: \", g[0]+ g[1]+ g[-1]+ g[2]+ g[-2] )\n",
        "\n",
        "\n",
        "s = \"scripps\"\n",
        "# Example from s:\n",
        "print(\"Assembling price from s: \", s[-2] + s[2:4] + s[1] + p[-2])\n",
        "\n",
        "print(\"Assembling pics from s: \", s[-2] + s[3] + s[1] + s[0])\n",
        "\n",
        "print(\"Assembling scrip from s: \", s[:5])\n",
        "\n",
        "p = \"pitzer\"\n",
        "# Example from p:\n",
        "print(\"Assembling trip from p: \", p[2] + p[-1] + p[1] + p[0])\n",
        "\n",
        "h = \"harvey\"\n",
        "# Example from h:\n",
        "print(\"Assembling heavy from h: \", h[0] + h[-2] + h[1] + h[3] + h[-1])\n",
        "\n",
        "# Example from c and g:\n",
        "c = \"claremont\"\n",
        "g = \"graduate\"\n",
        "print(\"Assembling rectangular from c and g: \", c[3] + g[-1] + c[0] + c[-1] + c[2] + c[-2] + g[0] + g[4] + c[1] + g[2] + c[3] )\n",
        "\n",
        "# Example from s, p and h:\n",
        "s = \"scripps\"\n",
        "p = \"pitzer\"\n",
        "h = \"harvey\"\n",
        "print(\"Assembling hyperactive from s, p and h: \", h[0] + h[-1] + p[0] + p[-2] + s[2] + h[1] + s[1] + p[2] + s[3] + h[-3] + p[-2] )\n",
        "\n",
        "\n",
        "\n",
        "\n",
        "p = \"pitzer\"\n",
        "h = \"harvey\"\n",
        "#    012345        for reference\n",
        "print(\"Assembling tire from p: \", p[2:0:-1]  + p[-1:-3:-1] )"
      ],
      "metadata": {
        "id": "wokDpfQGpYOf",
        "colab": {
          "base_uri": "https://localhost:8080/"
        },
        "outputId": "b494422e-3ac0-49d2-bcec-9f4e2bac9254"
      },
      "execution_count": null,
      "outputs": [
        {
          "output_type": "stream",
          "name": "stdout",
          "text": [
            "Assembling real from c:  real\n",
            "Assembling clear from c:  clear\n",
            "Assembling atom from c:  atom\n",
            "Assembling team from c:  team\n",
            "Assembling rental  from c:  rental\n",
            "Assembling romance  from c:  romance\n",
            "Assembling great  from g:  great\n",
            "Assembling price from s:  price\n",
            "Assembling pics from s:  pics\n",
            "Assembling scrip from s:  scrip\n",
            "Assembling trip from p:  trip\n",
            "Assembling heavy from h:  heavy\n",
            "Assembling rectangular from c and g:  rectangular\n",
            "Assembling hyperactive from s, p and h:  hyperactive\n",
            "Assembling tire from p:  tire\n"
          ]
        }
      ]
    },
    {
      "cell_type": "markdown",
      "source": [
        "## Slicing\n",
        "+ Slicing uses a start index and an end index\n",
        "  + Notice that it captures ***up to but not including*** the end!\n",
        "  + This takes getting used to\n",
        "  + It's consistent across Python, at least\n",
        "+ The next cell has five examples, using our 5C-strings:"
      ],
      "metadata": {
        "id": "K_LWwBoViBzE"
      }
    },
    {
      "cell_type": "code",
      "source": [
        "#    012345678     for reference\n",
        "c = \"claremont\"\n",
        "g = \"graduate\"\n",
        "m = \"mckenna\"\n",
        "s = \"scripps\"\n",
        "p = \"pitzer\"\n",
        "h = \"harvey\"\n",
        "#    012345        for reference\n",
        "\n",
        "# slicing examples\n",
        "\n",
        "print(\"c[0:3] is \", c[0:3])\n",
        "print(\"g[-3:] is \", g[-3:])\n",
        "print(\"m[2:-2] is \", m[2:-2])\n",
        "print(\"s[2:5] is \", s[2:5])\n",
        "print(\"p[:2] is \", p[:2])      # what if an index is mising?\n",
        "print(\"h[-2:] is \", h[-2:])    # ditto, for the other index"
      ],
      "metadata": {
        "id": "3e8KSUJVrjiL",
        "colab": {
          "base_uri": "https://localhost:8080/"
        },
        "outputId": "c065c891-0e5c-4077-b603-4720b935a769"
      },
      "execution_count": null,
      "outputs": [
        {
          "output_type": "stream",
          "name": "stdout",
          "text": [
            "c[0:3] is  cla\n",
            "g[-3:] is  ate\n",
            "m[2:-2] is  ken\n",
            "s[2:5] is  rip\n",
            "p[:2] is  pi\n",
            "h[-2:] is  ey\n"
          ]
        }
      ]
    },
    {
      "cell_type": "markdown",
      "source": [
        "### <font color=\"darkblue\"><b>Your task</b></font>:  Five \"cross-campus\" slices\n",
        "\n",
        "In a similar spirit to the per-campus indexing, above -\n",
        "+ Your challeng is to create five \"cross-campus slices\" -- words or phrases that use two or more slices from different strings\n",
        "+ Here, you will use _slicing_ to access more than one letter in each piece\n",
        "+ One example is provided - it's ok to _also_ have single letters\n",
        "  + but you need at least two slices for each.\n",
        "+ We look forward to seeing what's possible!?!!"
      ],
      "metadata": {
        "id": "WyYCORthtPAT"
      }
    },
    {
      "cell_type": "code",
      "source": [
        "#\n",
        "# 5 \"cross-campus slices\" from these 5C strings:\n",
        "c = \"claremont\"\n",
        "g = \"graduate\"\n",
        "m = \"mckenna\"\n",
        "s = \"scripps\"\n",
        "p = \"pitzer\"\n",
        "h = \"harvey\"\n",
        "\n",
        "# Your challenge: assemble five four-or-more-letter words\n",
        "# Each should use two-or-more-letters from two-or-more strings!\n",
        "# It's ok to add single letters, in addition!\n",
        "# positive or negative indices: up to you...  (your \"slicing mood\"?)\n",
        "\n",
        "# Example 0 (ours):\n",
        "print(\"Creating pithon: \", p[0:3] + h[0] + c[6:8])  # Python, almost!\n",
        "\n",
        "# Example 1:\n",
        "print(\"Creating pint: \", p[0:2] + c[7:]) #\n",
        "\n",
        "# Example 2:\n",
        "print(\"Creating very clear script: \", h[3:5] + h[2] + h[-1] + c[:2] + g[-1] + c[2:4] + s[:5] + p[2])\n",
        "# Example 3:\n",
        "print(\"Creating hard luck: \", h[:3] + g[3] + c[1] + g[4] + m[1:3])\n",
        "# Example 4:\n",
        "print(\"Creating ken ate lemon: \", m[2:5] + g[5:] + c[1] + c[4:8] )\n",
        "# Example 5:\n",
        "print(\"Creating grape pie: \", g[:3] + s[4] + g[-1] + p[0:2] + p[-2])"
      ],
      "metadata": {
        "id": "nd3R_NpGt20u",
        "colab": {
          "base_uri": "https://localhost:8080/"
        },
        "outputId": "306dfdb2-4371-4dae-beee-91d254c538c7"
      },
      "execution_count": null,
      "outputs": [
        {
          "output_type": "stream",
          "name": "stdout",
          "text": [
            "Creating pithon:  pithon\n",
            "Creating pint:  pint\n",
            "Creating very clear script:  veryclearscript\n",
            "Creating hard luck:  hardluck\n",
            "Creating ken ate lemon:  kenatelemon\n",
            "Creating grape pie:  grapepie\n"
          ]
        }
      ]
    },
    {
      "cell_type": "code",
      "source": [
        "# 'harvey'  'claremont'"
      ],
      "metadata": {
        "id": "vYMMvfMBgor4"
      },
      "execution_count": null,
      "outputs": []
    },
    {
      "cell_type": "markdown",
      "source": [
        "## I say &nbsp;&nbsp;  <tt>h[-1] + c[2] + h[-1]</tt> &nbsp; !\n",
        "\n",
        "... which is <tt>\"yay\"</tt> !\n",
        "\n",
        "\n",
        "We will expand on indexing and slicing in future notebooks ...\n",
        "+ It's one of Python's strengths"
      ],
      "metadata": {
        "id": "HUqoILuTvh2z"
      }
    },
    {
      "cell_type": "markdown",
      "source": [
        "# Functions\n",
        "\n",
        "Functions are \"software's cells\":\n",
        "+ Like cells, they are self-contained\n",
        "+ Like cells, they are the essential building blocks for ~~life~~ software\n",
        "+ Like cells, they carefully control how things \"enter\" and \"exit\"\n",
        "+ Like cells, we can reason about their _overall function_ (ignoring their internals)\n",
        "+ Like cells, we can also reason about their internal mechanisms/instructions\n",
        "+ Like cells, larger structures are composed by assembling lots of them together -- in cooperation or competition\n",
        "\n",
        "Software is always an interrelated, carefully-constructed collection of functions. So, we'll be building functions throughout Sci10...\n",
        "\n",
        "<br>\n",
        "\n",
        "Let's see some... then build some!\n",
        "\n",
        "The next cell defines a function that doubles its input:"
      ],
      "metadata": {
        "id": "IHspQgMgdkbg"
      }
    },
    {
      "cell_type": "code",
      "source": [
        "#\n",
        "# This cell defines a function named   dbl\n",
        "\n",
        "def dbl(x):\n",
        "    \"\"\" Result: dbl returns twice its argument\n",
        "        Argument x: a number (int or float)\n",
        "    \"\"\"\n",
        "    return 2*x\n",
        "\n",
        "\n",
        "# Try running this cell!\n",
        "\n",
        "# dbl(23)    # this calls the function dbl"
      ],
      "metadata": {
        "id": "L-114dhN0xCQ"
      },
      "execution_count": null,
      "outputs": []
    },
    {
      "cell_type": "markdown",
      "source": [
        "Running the cell above won't do anything!\n",
        "\n",
        "The function has been _defined_, but it has not yet been ***run***\n",
        "\n",
        "Run it in the next cell:"
      ],
      "metadata": {
        "id": "crNbsrXa1BV3"
      }
    },
    {
      "cell_type": "code",
      "source": [
        "# Call dbl\n",
        "\n",
        "dbl(23)\n",
        "\n",
        "dbl(5)\n"
      ],
      "metadata": {
        "id": "VEnq4WF-1LJ-",
        "colab": {
          "base_uri": "https://localhost:8080/"
        },
        "outputId": "4537f11a-fcbd-4bd3-af91-051f3cb35b9b"
      },
      "execution_count": null,
      "outputs": [
        {
          "output_type": "execute_result",
          "data": {
            "text/plain": [
              "10"
            ]
          },
          "metadata": {},
          "execution_count": 6
        }
      ]
    },
    {
      "cell_type": "markdown",
      "source": [
        "### Follow the data!\n",
        "\n",
        "A key to understanding what a function does and how it operates is _following the data_\n",
        "+ For the example above, follow the ``23`` that is input, in the parens, of the cell above...\n",
        "+ It is passed into the top line of the function in the previous cell -- the line with the ``def`` keyword\n",
        "+ As it is passed in, ***the function names it ``x``***\n",
        "+ Within the function, it computes two-times-x with ``2*x``\n",
        "+ Within the function, it will ``return`` that value ``2*x``\n",
        "+ That output value is double the input value\n",
        "+ That output value is returned -- and used -- and shown -- when the function is called!\n",
        "\n",
        "It works with strings, too:"
      ],
      "metadata": {
        "id": "HMcWNMdO1aj_"
      }
    },
    {
      "cell_type": "code",
      "source": [
        "# call dbl with a string\n",
        "\n",
        "dbl('wow ')"
      ],
      "metadata": {
        "id": "lgvkt-fi2xiP",
        "colab": {
          "base_uri": "https://localhost:8080/",
          "height": 36
        },
        "outputId": "d09681e0-9562-4cde-d985-28968c7c0800"
      },
      "execution_count": null,
      "outputs": [
        {
          "output_type": "execute_result",
          "data": {
            "text/plain": [
              "'wow wow '"
            ],
            "application/vnd.google.colaboratory.intrinsic+json": {
              "type": "string"
            }
          },
          "metadata": {},
          "execution_count": 3
        }
      ]
    },
    {
      "cell_type": "markdown",
      "source": [
        "## Signature and Docstring\n",
        "\n",
        "The first line of a Python function is called its _signature_. The function signature includes the keyword ```def``, the name of the function, and a parenthesized list of arguments (inputs) to the function.\n",
        "\n",
        "**Docstring**    \n",
        "\n",
        "Directly underneath the signature is a string inside triple quotes ``\"\"\"`` — this is called the docstring, short for \"documentation string.\" In Sci10 we will asks you to include a docstring in all of your functions (even simple ones such as these), so that you will develop the habit early on.\n",
        "\n",
        "It's future you -- who's most often wondering what previous code does -- that most appreciates this! A docstring should describe the function's arguments and result (return value).\n",
        "\n",
        "Most importantly, Docstrings are how your functions become part of _Python's built-in help system_.  To see this, type\n",
        "\n",
        "``help(dbl)``\n",
        "\n"
      ],
      "metadata": {
        "id": "0yr7Jufd282e"
      }
    },
    {
      "cell_type": "code",
      "source": [
        "help(dbl)"
      ],
      "metadata": {
        "id": "WOTZTOCf3wQO"
      },
      "execution_count": null,
      "outputs": []
    },
    {
      "cell_type": "markdown",
      "source": [
        "... and you will see that Python provides the docstring as the help!\n",
        "\n",
        "In fact, Python's in-built help system _is_ docstrings! This self-documenting feature in Python is especially important for making your functions understandable, both to others and to yourself.\n",
        "\n",
        "**Syntax Warning**\n",
        "\n",
        "The first set of triple quotes of a docstring needs to be indented underneath the function definition def line, at the same level of indentation as the rest of block of code that defines the function."
      ],
      "metadata": {
        "id": "n13oGJ833wt-"
      }
    },
    {
      "cell_type": "markdown",
      "source": [
        "### <font color=\"darkblue\"><b>Next task:  &nbsp; Function Building</b></font>\n",
        "\n",
        "Dive in!  These next few cells ask you to define -- and test -- several different functions.\n",
        "+ There are a couple of extra-credit functions, as well...\n",
        "\n",
        "For each one,\n",
        "+ be sure to include a docstring that describes what your function does and what its arguments are.\n",
        "+ See the ``tpl`` example, next, for a reasonable starting point and guide\n",
        "+ _Syntax errors_?  Inevitable!  Take a look at the message, and ask us or others.\n",
        "+ Be sure to use the tests provided to check your function's behavior...\n"
      ],
      "metadata": {
        "id": "meZNmZg4CpfP"
      }
    },
    {
      "cell_type": "markdown",
      "source": [
        "**Example problem**:\n",
        "\n",
        "Write the function tpl(x), which accepts a numeric argument and returns three times that argument.\n",
        "\n",
        "Two tests are provided (be sure to test them - and be sure they work!)\n",
        "\n",
        "**Answer to example problem**:"
      ],
      "metadata": {
        "id": "Df6JmCjd4v4-"
      }
    },
    {
      "cell_type": "code",
      "source": [
        "def tpl(x):\n",
        "    \"\"\" Return value: tpl returns thrice its argument\n",
        "        Argument x: a number (int or float)\n",
        "    \"\"\"\n",
        "    return 3*x\n",
        "\n",
        "\n",
        "# Two tests are provided:\n",
        "print(\"tpl(10) should be 30 <->\", tpl(10))\n",
        "print(\"tpl(46/3) should be 46 <->\", tpl(46/3))"
      ],
      "metadata": {
        "id": "PX16cW1aLQq1",
        "colab": {
          "base_uri": "https://localhost:8080/"
        },
        "outputId": "f5780bf7-9351-4a3f-e5fc-ca3af6384688"
      },
      "execution_count": null,
      "outputs": [
        {
          "output_type": "stream",
          "name": "stdout",
          "text": [
            "tpl(10) should be 30 <-> 30\n",
            "tpl(46/3) should be 46 <-> 46.0\n"
          ]
        }
      ]
    },
    {
      "cell_type": "markdown",
      "source": [
        "### <font color=\"darkblue\"><b>Function to write #1: &nbsp; ``sq``</b></font>\n",
        "\n",
        "The function ``sq(x)`` should accept a numeric argument named ``x``.\n",
        "\n",
        "Then, ``sq`` should return the square of its argument.\n",
        "\n",
        "Note that this is the _square_, not the square root. (The square is ``x`` times itself...)"
      ],
      "metadata": {
        "id": "p4_1hG1R5swE"
      }
    },
    {
      "cell_type": "code",
      "source": [
        "#\n",
        "# space for your sq function  (use the previous examples to get started!)\n",
        "def sq(x):\n",
        "    \"\"\"\n",
        "    Return the square of the input argument x.\n",
        "    Argument x: a number (int or float)\n",
        "    \"\"\"\n",
        "    return x * x\n",
        "\n",
        "\n",
        "\n",
        "# be sure these two tests work!\n",
        "# you'll need to \"comment them back in\":\n",
        "\n",
        "print(\"sq(10) should be 100 <->\", sq(10))\n",
        "print(\"sq(46) should be 2116 <->\", sq(46))\n",
        "print(\"sq(12) should be 144 <->\", sq(12))\n",
        "print(\"sq(-10) should be 100 <->\", sq(-10))\n",
        "print(\"sq(0.5) should be 0.25 <->\", sq(0.5))"
      ],
      "metadata": {
        "id": "E7-THYx_6BGU",
        "colab": {
          "base_uri": "https://localhost:8080/"
        },
        "outputId": "bbd0b5f4-199a-4862-bcad-8c95f651018c"
      },
      "execution_count": null,
      "outputs": [
        {
          "output_type": "stream",
          "name": "stdout",
          "text": [
            "sq(10) should be 100 <-> 100\n",
            "sq(46) should be 2116 <-> 2116\n",
            "sq(12) should be 144 <-> 144\n",
            "sq(-10) should be 100 <-> 100\n",
            "sq(0.5) should be 0.25 <-> 0.25\n"
          ]
        }
      ]
    },
    {
      "cell_type": "markdown",
      "source": [
        "### <font color=\"darkblue\"><b>Function to write #2: &nbsp; ``checkends``</b></font>\n",
        "\n",
        "The function ``checkends(s)`` should take in one _string_ input, naming it ``s``.\n",
        "+ Then, ``checkends(s)`` should return ``True`` if the first character in ``s`` is the same as the last character in ``s``. It returns False otherwise.\n",
        "+ (The checkends function does not have to work on the empty string, the string ``''`` )\n",
        "+ There is a hint below. Suggestion: Read through the examples first!\n",
        "\n",
        "The examples will help explain ``checkends`` — read them over now, and be sure to try them once you have a first draft of your function. Notice that the fourth, final example below is the string of **one** space character, which is different from the empty string, which contains no characters:"
      ],
      "metadata": {
        "id": "5_FYMevzngjP"
      }
    },
    {
      "cell_type": "code",
      "source": [
        "#\n",
        "# your checkends function\n",
        "def checkends(s):\n",
        "    \"\"\"\n",
        "    Returns True if the first and last characters of the string s are the same.\n",
        "    Otherwise, returns False.\n",
        "    \"\"\"\n",
        "    if s[0] == s[-1]:\n",
        "        return True\n",
        "    else:\n",
        "        return False\n",
        "\n",
        "\n",
        "\n",
        "\n",
        "\n",
        "# be sure these four tests work!  Comment them in:\n",
        "\n",
        "print(\"checkends('no match') should be False <->\", checkends('no match'))\n",
        "print(\"checkends('hah! a match') should be True <->\", checkends('hah! a match'))\n",
        "\n",
        "print(\"checkends('q') should be True <->\", checkends('q'))\n",
        "print(\"checkends(' ') should be True <->\", checkends(' '))  # single space"
      ],
      "metadata": {
        "id": "TdMmKsnnomCG",
        "colab": {
          "base_uri": "https://localhost:8080/"
        },
        "outputId": "8867cad8-1b06-4567-a38d-f9441f31d5e9"
      },
      "execution_count": null,
      "outputs": [
        {
          "output_type": "stream",
          "name": "stdout",
          "text": [
            "checkends('no match') should be False <-> False\n",
            "checkends('hah! a match') should be True <-> True\n",
            "checkends('q') should be True <-> True\n",
            "checkends(' ') should be True <-> True\n"
          ]
        }
      ]
    },
    {
      "cell_type": "markdown",
      "source": [
        "### Hints on ``checkends``:\n",
        "\n",
        "For this function you could use an if and else construction...here is a start:\n",
        "<code><pre>\n",
        "    if s[0] == ______ :\n",
        "        return True\n",
        "    else:\n",
        "        return False\n",
        "</pre></code>\n",
        "\n",
        "Notice that\n",
        "+ the key idea for the \"last character\" is missing in the first line above - you'll need to fill that in!\n",
        "+ ``True`` and ``False`` are built-in to Python. They are a data type called \"booleans.\"\n",
        "  + Aside: booleans are the smallest unit of data: 1 bit!\n",
        "+  You might build a solution that doesn't use the ``if`` and ``else`` at all - ok. Good to continue using conditionals, too."
      ],
      "metadata": {
        "id": "T29LBHxFo7LS"
      }
    },
    {
      "cell_type": "code",
      "source": [
        "def checkends_noif(s):\n",
        "    \"\"\"\n",
        "    Alternate Implementation Without if/else.\n",
        "    Returns True if the first and last characters of the string s are the same.\n",
        "    Otherwise, returns False.\n",
        "    \"\"\"\n",
        "    return s[0] == s[-1]\n",
        "\n",
        "\n",
        "print(\"checkends('no match') should be False <->\", checkends_noif('no match'))\n",
        "print(\"checkends('hah! a match') should be True <->\", checkends_noif('hah! a match'))\n",
        "\n",
        "print(\"checkends('q') should be True <->\", checkends_noif('q'))\n",
        "print(\"checkends(' ') should be True <->\", checkends_noif(' '))  # single space\n"
      ],
      "metadata": {
        "colab": {
          "base_uri": "https://localhost:8080/"
        },
        "id": "1qQJfOcrET9T",
        "outputId": "8f6f9cee-8d36-4e3b-c349-77e3b1261b86"
      },
      "execution_count": null,
      "outputs": [
        {
          "output_type": "stream",
          "name": "stdout",
          "text": [
            "checkends('no match') should be False <-> False\n",
            "checkends('hah! a match') should be True <-> True\n",
            "checkends('q') should be True <-> True\n",
            "checkends(' ') should be True <-> True\n"
          ]
        }
      ]
    },
    {
      "cell_type": "markdown",
      "source": [
        "### <font color=\"darkblue\"><b>Function to use: &nbsp; ``len``</b></font>\n",
        "\n",
        "There are severall functions so important that they are built in to Python.\n",
        "\n",
        "Even among those, one of the most important is ``len(s)``, which\n",
        "+ returns the _number of characters_ in the input string, ``s``\n",
        "+ run and look over the examples below\n",
        "\n",
        "Feel free to use ``len`` wherever it is useful (which is a lot!)\n",
        "+ You'll want to use it for the next function, #3\n",
        "\n",
        "<br>\n",
        "\n",
        "Here are examples of ``len`` in action:"
      ],
      "metadata": {
        "id": "pEdvdtJFqJOA"
      }
    },
    {
      "cell_type": "code",
      "source": [
        "# be sure to digest these examples of len\n",
        "\n",
        "print(\"len('claremont') should be 9 <->\", len('claremont'))  # 9 characters\n",
        "print(\"len('this is a really long string') should be 28 <->\", len('this is a really long string'))\n",
        "print()\n",
        "\n",
        "print(\"len('q') should be 1 <->\", len('q'))    # one character, 'q'\n",
        "print(\"len(' ') should be 1 <->\", len(' '))    # single space, len is 1\n",
        "print()\n",
        "\n",
        "print(\"len('') should be 0 <->\", len(''))    # single space, len is 0"
      ],
      "metadata": {
        "id": "O0HL-kOcs-gm",
        "colab": {
          "base_uri": "https://localhost:8080/"
        },
        "outputId": "c74ffa50-af57-4477-9b39-0bfea8604ccc"
      },
      "execution_count": null,
      "outputs": [
        {
          "output_type": "stream",
          "name": "stdout",
          "text": [
            "len('claremont') should be 9 <-> 9\n",
            "len('this is a really long string') should be 28 <-> 28\n",
            "\n",
            "len('q') should be 1 <-> 1\n",
            "len(' ') should be 1 <-> 1\n",
            "\n",
            "len('') should be 0 <-> 0\n"
          ]
        }
      ]
    },
    {
      "cell_type": "markdown",
      "source": [
        "### <font color=\"darkblue\"><b>Function to write #3: &nbsp; ``flipside``</b></font>\n",
        "\n",
        "The function ``flipside(s)`` should take in a _string_ ``s`` and\n",
        "+ returns a string whose first half is ``s``'s second half and whose second half is ``s``'s first half.\n",
        "+ if ``len(s)`` (the length of ``s``) is odd, the \"first half\" of s is considered to have one fewer character than the second half.\n",
        "+ Accordingly, the second half of the returned string will be one shorter than the first half in these cases.\n",
        "+ here you may want to use the built-in function ``len(s)``, which returns the length of its input string, ``s``\n",
        "\n",
        "There's also a hint after the examples below. First, check out the examples..."
      ],
      "metadata": {
        "id": "lknN8A0mqB8v"
      }
    },
    {
      "cell_type": "code",
      "source": [
        "#\n",
        "# your flipside function\n",
        "def flipside(s):\n",
        "    \"\"\"\n",
        "    flipside function will return a string whose first half is the second half of s\n",
        "    and whose second half is the first half of s.\n",
        "    \"\"\"\n",
        "    middle = len(s) // 2  # Determine the midpoint of the string\n",
        "    return s[middle:] + s[:middle]\n",
        "\n",
        "\n",
        "\n",
        "\n",
        "# be sure these tests work!  Comment them in:\n",
        "\n",
        "print(\"flipside('homework') should be 'workhome' <->\", flipside('homework'))\n",
        "print(\"flipside('poptart') should be 'tartpop' <->\", flipside('poptart'))    # shorter first half\n",
        "print(\"flipside('carpet') should be 'petcar' <->\", flipside('carpet'))\n",
        "print(\"flipside('HelloWorld') should be 'WorldHello' ->\", flipside('HelloWorld'))\n",
        "print(\"flipside('12345') should be '34512' ->\", flipside('12345'))"
      ],
      "metadata": {
        "id": "Kg3wUXTKt8fJ",
        "colab": {
          "base_uri": "https://localhost:8080/"
        },
        "outputId": "99f6cbcf-b065-4fd3-c1e3-3d27edce288d"
      },
      "execution_count": null,
      "outputs": [
        {
          "output_type": "stream",
          "name": "stdout",
          "text": [
            "flipside('homework') should be 'workhome' <-> workhome\n",
            "flipside('poptart') should be 'tartpop' <-> tartpop\n",
            "flipside('carpet') should be 'petcar' <-> petcar\n",
            "flipside('HelloWorld') should be 'WorldHello' -> WorldHello\n",
            "flipside('12345') should be '34512' -> 34512\n"
          ]
        }
      ]
    },
    {
      "cell_type": "markdown",
      "source": [
        "**Note**: Python will ***not*** print the quotes around the right-hand sides (the outputs).\n",
        "\n",
        "This is ok!  They are still strings..."
      ],
      "metadata": {
        "id": "_DFsWCzjxoXO"
      }
    },
    {
      "cell_type": "markdown",
      "source": [
        "The ``flipside`` function is simpler if you create a variable equal to ``len(s)//2`` on the first line, e.g.,\n",
        "\n",
        "<pre><code>def flipside(s):\n",
        "    \"\"\" Put your docstring here.\n",
        "    \"\"\"\n",
        "    x = len(s)//2\n",
        "    return   _____________\n",
        "</code></pre>\n",
        "\n",
        "where the ``return`` statement is still needed:\n",
        "+ The missing ``return`` statement will use the variable ``x`` twice\n",
        "+ which is why it's nice to give it a name, rather than type and re-type it!\n",
        "\n",
        "Side comment: the name ``x`` isn't a great variable name here:\n",
        "+  ``l`` (lowercase ``l``, suggesting \"length\") might be better\n",
        "+ however, ``l`` looks too much like the number ``1`` ...\n",
        "+ Optional:  _What name might be better than both ``x`` and ``l``?_\n",
        "   + **a name that has a meaning and reletive to the variable will be better such as \"middle\" or \"middlevalue\".**\n",
        "+ Leading question: what does ``x`` really _represent_ here?!\n",
        "   + **It represents the index value that splits the string into two halves and then returns the string after swapping the two halves.**"
      ],
      "metadata": {
        "id": "hcUim9XEt8vt"
      }
    },
    {
      "cell_type": "markdown",
      "source": [
        "### <font color=\"darkblue\"><b>Function to write #4: &nbsp; ``transcribe_one``</b></font>\n",
        "\n",
        "The function ``transcribe_one(s)`` should take in a _string_ ``s`` and\n",
        "+ if ``s`` is a single lowercase letter, ``'a'``, then ``transcribe_one`` should return the single lowercase letter ``'u'``\n",
        "+ if ``s`` is a single lowercase letter, ``'c'``, then ``transcribe_one`` should return the single lowercase letter ``'g'``\n",
        "+ if ``s`` is a single lowercase letter, ``'g'``, then ``transcribe_one`` should return the single lowercase letter ``'c'``\n",
        "+ if ``s`` is a single lowercase letter, ``'t'``, then ``transcribe_one`` should return the single lowercase letter ``'a'``\n",
        "+ if the input ``s`` is any other string or is more than one letter or is zero characters (the empty string), then ``transcribe_one`` should return the empty string\n",
        "+ again, you will want to use the built-in function ``len(s)``, which returns the length of its input string, ``s``\n",
        "+ again, Python won't print the quotes around the right-hand outputs:"
      ],
      "metadata": {
        "id": "j6M0QQq3wWs2"
      }
    },
    {
      "cell_type": "code",
      "source": [
        "#\n",
        "# your transcribe_one function\n",
        "def transcribe_one(s):\n",
        "    \"\"\"\n",
        "    This function will takes the string s and returns:\n",
        "       - 'u' if s == 'a'\n",
        "       - 'g' if s == 'c'\n",
        "       - 'c' if s == 'g'\n",
        "       - 'a' if s == 't'\n",
        "       - '' (empty string) if s is any other string or if its length is not 1\n",
        "    \"\"\"\n",
        "    if len(s) != 1:\n",
        "        return \"\"\n",
        "    elif s == 'a':\n",
        "        return 'u'\n",
        "    elif s == 'c':\n",
        "        return 'g'\n",
        "    elif s == 'g':\n",
        "        return 'c'\n",
        "    elif s == 't':\n",
        "        return 'a'\n",
        "    else:\n",
        "        return \"\"\n",
        "\n",
        "# be sure these tests work!  Comment them in:\n",
        "\n",
        "print(\"transcribe_one('a') should be 'u' <->\", transcribe_one('a'))\n",
        "print(\"transcribe_one('c') should be 'g' <->\", transcribe_one('c'))\n",
        "print(\"transcribe_one('g') should be 'c' <->\", transcribe_one('g'))\n",
        "print(\"transcribe_one('t') should be 'a' <->\", transcribe_one('t'))\n",
        "print()\n",
        "\n",
        "print(\"transcribe_one('claremont') should be '' <->\", transcribe_one('claremont'))  # will really look empty!\n",
        "print(\"transcribe_one('') should also be '' <->\", transcribe_one(''))     # will also really look empty!\n",
        "print(\"transcribe_one('h') should also be '' <->\", transcribe_one(''))    # will also really look empty!\n"
      ],
      "metadata": {
        "id": "CmiTU8Tpxhls",
        "colab": {
          "base_uri": "https://localhost:8080/"
        },
        "outputId": "35f684d1-bbc8-458b-9783-34264bbf29ec"
      },
      "execution_count": null,
      "outputs": [
        {
          "output_type": "stream",
          "name": "stdout",
          "text": [
            "transcribe_one('a') should be 'u' <-> u\n",
            "transcribe_one('c') should be 'g' <-> g\n",
            "transcribe_one('g') should be 'c' <-> c\n",
            "transcribe_one('t') should be 'a' <-> a\n",
            "\n",
            "transcribe_one('claremont') should be '' <-> \n",
            "transcribe_one('') should also be '' <-> \n",
            "transcribe_one('h') should also be '' <-> \n"
          ]
        }
      ]
    },
    {
      "cell_type": "markdown",
      "source": [
        "### <font color=\"darkblue\"><b>Function to write #5: &nbsp; ``convertFromSeconds``</b></font>\n",
        "\n",
        "Next, write ``convertFromSeconds(s)``\n",
        "+ Here, ``s`` is an integer input, not a string\n",
        "+ ``convertFromSeconds(s)`` takes in a nonnegative integer number of seconds ``s`` and returns a list (we'll call it ``L``) of four nonnegative integers that represents that number of seconds in more conventional units of time, such that:\n",
        "  + The initial element represents a number of days.\n",
        "  + The next element represents a number of hours.\n",
        "  + The next element represents a number of minutes.\n",
        "  + The final one represents a number of seconds.\n",
        "\n",
        "You should be sure that\n",
        "+ ``0 ≤ seconds < 60`` (i.e., the maximum should be 59!)\n",
        "+ ``0 ≤ minutes < 60``\n",
        "+ ``0 ≤ hours < 24``\n",
        "+ There are no limits on the number of days.\n",
        "\n",
        "For instance, here are two examples:\n",
        "+ ``convertFromSeconds(610)`` should return ``[0, 0, 10, 10]``\n",
        "+ ``convertFromSeconds(100000)`` should return ``[1, 3, 46, 40]``\n",
        "  \n",
        "Think about it -- feel free to use the hint below!"
      ],
      "metadata": {
        "id": "tJwIalc_S4An"
      }
    },
    {
      "cell_type": "code",
      "source": [
        "#\n",
        "# here, write convertFromSeconds(s)\n",
        "def convertFromSeconds(s):\n",
        "    \"\"\"\n",
        "    Takes a nonnegative integer number of seconds `s` and returns a list\n",
        "    [days, hours, minutes, seconds], representing that duration.\n",
        "    \"\"\"\n",
        "    days = s // (24 * 60 * 60)  # Number of days\n",
        "    s = s % (24 * 60 * 60)      # The leftover\n",
        "    hours = s // (60 * 60)      # Number of hours\n",
        "    s = s % (60 * 60)           # Remaining seconds after calculating hours\n",
        "    minutes = s // 60           # Number of minutes\n",
        "    seconds = s % 60            # Remaining seconds\n",
        "\n",
        "    return [days, hours, minutes, seconds]\n",
        "\n",
        "\n",
        "\n",
        "# Try these tests!\n",
        "print(\"convertFromSeconds(610) should return [0, 0, 10, 10] <->\", convertFromSeconds(610))\n",
        "print(\"convertFromSeconds(100000) should return [1, 3, 46, 40] <->\", convertFromSeconds(100000))\n",
        "#"
      ],
      "metadata": {
        "id": "yahclybPVLr9",
        "colab": {
          "base_uri": "https://localhost:8080/"
        },
        "outputId": "111c1cc5-bcef-4364-ccad-594ad918ab13"
      },
      "execution_count": null,
      "outputs": [
        {
          "output_type": "stream",
          "name": "stdout",
          "text": [
            "convertFromSeconds(610) should return [0, 0, 10, 10] <-> [0, 0, 10, 10]\n",
            "convertFromSeconds(100000) should return [1, 3, 46, 40] <-> [1, 3, 46, 40]\n"
          ]
        }
      ]
    },
    {
      "cell_type": "markdown",
      "source": [
        "### Hint for ``convertFromSeconds``\n",
        "\n",
        "How to do this?    \n",
        "+ Feel free to copy and paste this starter code that uses four variables:\n",
        "```\n",
        "def convertFromSeconds(s):\n",
        "    days = s // (24*60*60)  # Number of days\n",
        "    s = s % (24*60*60)      # The leftover\n",
        "    hours =\n",
        "    minutes =\n",
        "    seconds =\n",
        "    return [days, hours, minutes, seconds]\n",
        "```\n",
        "\n",
        "The idea here is that when those four variables are all correctly set, you can return them all in a list, which is the final line:\n",
        "+ ``return [days, hours, minutes, seconds]``\n",
        "+ For instance, the line that sets days is ``days = s // (24*60*60)``\n",
        "\n",
        "What would be other lines be?!"
      ],
      "metadata": {
        "id": "qDqixd8MVMS_"
      }
    },
    {
      "cell_type": "markdown",
      "source": [
        "# <font color=\"darkblue\"><b>Recursion!</b></font>\n",
        "\n",
        "A very powerful approach to problem-solving is _recursion_\n",
        "\n",
        "It finds and uses a situation's _self-similarity_ to solve a problem:\n",
        "+ self-similarity sometimes feels less \"natural\" than sequencing\n",
        "+ however, there are problems where self-similarity is a much better fit\n",
        "+ also, if a problem is solvable, it's _always_ possible to solve it with recursion\n",
        "  + to be fair, it's also always possible to solve it with sequence-based approaches (iteration)\n",
        "  + that said, _humans_ who are familiar with both -- they tend to have a much bigger set of solution-techniques!"
      ],
      "metadata": {
        "id": "xQFAXxqkQUfm"
      }
    },
    {
      "cell_type": "markdown",
      "source": [
        "### Recursive function examples\n",
        "+ A great way to build recursive problem-solving is to, first, try some complete examples\n",
        "+ Here are several -- from class and beyond:"
      ],
      "metadata": {
        "id": "YCnyoiONRcPJ"
      }
    },
    {
      "cell_type": "code",
      "source": [
        "#\n",
        "# Example of a recursive function\n",
        "#\n",
        "\n",
        "def replace_i(s):\n",
        "  \"\"\" input: a string s\n",
        "      output: a new string like s, with\n",
        "              all lowercase i's with !'s (exclamantion points)\n",
        "  \"\"\"\n",
        "  if s == \"\":\n",
        "    return s\n",
        "  elif s[0] == \"i\":\n",
        "    return \"!\" + replace_i(s[1:])\n",
        "  else:\n",
        "    return s[0] + replace_i(s[1:])\n",
        "\n",
        "# tests!\n",
        "print(\"replace_i('alien') should be      al!en      <->\", replace_i('alien'))\n",
        "print(\"replace_i('aiiiiiieee') should be a!!!!!!eee <->\", replace_i('aiiiiiieee'))\n",
        "print(\"replace_i('icily') should be      !c!ly      <->\", replace_i('icily'))\n",
        "print(\"replace_i('claremont') should be  claremont  <->\", replace_i('claremont'))"
      ],
      "metadata": {
        "id": "s_J3TZPO0ZnA",
        "colab": {
          "base_uri": "https://localhost:8080/"
        },
        "outputId": "01dea87c-1bcf-4412-c1fe-f332dcee9113"
      },
      "execution_count": null,
      "outputs": [
        {
          "output_type": "stream",
          "name": "stdout",
          "text": [
            "replace_i('alien') should be      al!en      <-> al!en\n",
            "replace_i('aiiiiiieee') should be a!!!!!!eee <-> a!!!!!!eee\n",
            "replace_i('icily') should be      !c!ly      <-> !c!ly\n",
            "replace_i('claremont') should be  claremont  <-> claremont\n"
          ]
        }
      ]
    },
    {
      "cell_type": "markdown",
      "source": [
        "### Chat GPT!\n",
        "\n",
        "Write 1-2 sentences that describe _how_ ``replace_i('icily')`` returns ``!c!ly`` - that is, what the data and function are doing...\n",
        "+ _Optional:  You're welcome to \"ChatGPT\" this!_\n",
        "+ If you do, still write a few sentences sharing the results and whether they were helpful?!\n",
        "  + It would be interesting to ChatGPT that...\n",
        "  + this is up to you, but do include a reflection!"
      ],
      "metadata": {
        "id": "y2jlqSrPnYF3"
      }
    },
    {
      "cell_type": "markdown",
      "source": [
        "### Your description of how ``replace_i('icily')`` returns ``!c!ly``\n",
        "\n",
        "Feel free to use this space...\n",
        "\n",
        "\n",
        "\n",
        "**The function always starts with the first letter to check if it is i then it will return ! to the print function otherwise, the letter remained unchanged. It will continue again but from the second letter, if it is i then it will return !. The function will repeat itself to the last letter.**\n",
        "\n",
        "...................................................\n",
        "\n",
        "\n",
        "**Chat GPT answer:**\n",
        "\n",
        "Step-by-Step Explanation:\n",
        "\n",
        "The function starts with the string 'icily'.\n",
        "\n",
        "It looks at the first letter:\n",
        "\n",
        "The first letter is 'i', so it changes it to '!' and then works on the rest of the string 'cily'.\n",
        "Next, the function works on 'cily':\n",
        "\n",
        "The first letter is 'c', which is not 'i', so it keeps 'c' and works on the rest of the string 'ily'.\n",
        "Now, it works on 'ily':\n",
        "\n",
        "The first letter is 'i', so it changes it to '!' and works on the rest of the string 'ly'.\n",
        "Then, it works on 'ly':\n",
        "\n",
        "The first letter is 'l', which is not 'i', so it keeps 'l' and works on the rest of the string 'y'.\n",
        "Finally, it works on 'y':\n",
        "\n",
        "The first letter is 'y', which is not 'i', so it keeps 'y'.\n",
        "Now, there’s nothing left to work on (the string is empty), so it stops.\n",
        "\n",
        "After working on each piece, the function puts them all back together:\n",
        "\n",
        "**'!' + 'c' + '!' + 'l' + 'y' = !c!ly.**\n",
        "\n",
        "..........................................................\n",
        "\n",
        "Using AI will be helpful in such cases because it generates more details and step-by-step of the data created by the function which makes it easier to understand.\n",
        "\n"
      ],
      "metadata": {
        "id": "aQ6XK4CBYLY9"
      }
    },
    {
      "cell_type": "code",
      "source": [
        "#\n",
        "# The vowel-counting example from class...\n",
        "#\n",
        "\n",
        "#\n",
        "# vwl examples from class\n",
        "#\n",
        "def vwl(s):\n",
        "    \"\"\"vwl returns the number of vowels in s\n",
        "       Argument: s, which will be a string\n",
        "    \"\"\"\n",
        "    if s == '':\n",
        "        return 0   # no vowels in the empty string\n",
        "    elif s[0] in 'aeiou':\n",
        "        return 1 + vwl(s[1:])   # count 1 for the vowel\n",
        "    else:\n",
        "        return 0 + vwl(s[1:])   # The 0 + isn't necessary but looks nice\n",
        "\n",
        "#\n",
        "# Tests!\n",
        "print( \"vwl('sequoia') should be 5 <-> \", vwl('sequoia') )\n",
        "print( \"vwl('bcdfg') should be 0 <-> \", vwl('bcdfg') )\n",
        "print( \"vwl('e') should be 1 <-> \", vwl('e') )\n",
        "print( \"vwl('This sentence has nine vowels.') should be 9 <-> \", vwl('This sentence has nine vowels.') )\n",
        "\n",
        "#\n",
        "# here are keepvwl and dropvwl, also from class:\n",
        "\n",
        "\n",
        "#\n",
        "# keepvwl example from class\n",
        "#\n",
        "def keepvwl(s):\n",
        "    \"\"\"keepvwl returns the vowels in s\n",
        "       Argument: s, which will be a string\n",
        "       Return value: a string with all of s's vowels, in order\n",
        "    \"\"\"\n",
        "    if s == '':\n",
        "        return ''   # return the empty string\n",
        "    elif s[0] in 'aeiou':\n",
        "        return s[0] + keepvwl(s[1:]) # keep s[0], since it's a vowel\n",
        "    else:\n",
        "        return '' + keepvwl(s[1:])   # '' isn't necessary but fits conceptually!\n",
        "\n",
        "\n",
        "#\n",
        "# dropvwl example from class\n",
        "#\n",
        "def dropvwl(s):\n",
        "    \"\"\"dropvwl returns the non-vowels in s.  Note that \"non-vowels\" includes\n",
        "         characters that are not alphabetic.\n",
        "       Argument: s, which will be a string\n",
        "       Return value: s with the vowels removed\n",
        "    \"\"\"\n",
        "    if s == '':\n",
        "        return ''   # return the empty string\n",
        "    elif s[0] in 'aeiou':\n",
        "        return '' + dropvwl(s[1:])   # drop s[0], since it's a vowel\n",
        "    else:\n",
        "        return s[0] + dropvwl(s[1:])   # keep s[0], since it's NOT a vowel!\n",
        "\n"
      ],
      "metadata": {
        "id": "SwEJqySrXNhK",
        "colab": {
          "base_uri": "https://localhost:8080/"
        },
        "outputId": "c4b3ae8a-e3d7-48a7-d68d-f2031d5e00d4"
      },
      "execution_count": null,
      "outputs": [
        {
          "output_type": "stream",
          "name": "stdout",
          "text": [
            "vwl('sequoia') should be 5 <->  5\n",
            "vwl('bcdfg') should be 0 <->  0\n",
            "vwl('e') should be 1 <->  1\n",
            "vwl('This sentence has nine vowels.') should be 9 <->  9\n"
          ]
        }
      ]
    },
    {
      "cell_type": "code",
      "source": [
        "# fun - functions continue to exist in other cells\n",
        "# try it:\n",
        "\n",
        "replace_i('aliiien')   # a three-i'ed alien: exciting!!!"
      ],
      "metadata": {
        "id": "PYzCMuGDcUwf",
        "colab": {
          "base_uri": "https://localhost:8080/",
          "height": 36
        },
        "outputId": "61bcb21e-961e-44a8-8f88-c03986aaec11"
      },
      "execution_count": null,
      "outputs": [
        {
          "output_type": "execute_result",
          "data": {
            "text/plain": [
              "'al!!!en'"
            ],
            "application/vnd.google.colaboratory.intrinsic+json": {
              "type": "string"
            }
          },
          "metadata": {},
          "execution_count": 28
        }
      ]
    },
    {
      "cell_type": "markdown",
      "source": [
        "### <font color=\"darkblue\"><b>Recursive function #1</b> &nbsp; The full ``transcribe`` function!</b></font>\n",
        "\n",
        "\n",
        "The function ``transcribe(s)`` should take in a _string_ ``s`` and return a new string with all of ``s``'s transcribable characters, transcribed!\n",
        "+ That is, every ``a`` becomes ``u``, every ``c`` becomes ``g`` (and vice versa), and every ``t`` becomes an ``a``\n",
        "+ any non-transcribable characters should be dropped/omitted from the output\n",
        "  + or, you can replace them with an underscore: ``_``\n",
        "\n",
        "<br>\n",
        "\n",
        "How to do this?\n",
        "+ Take a look at the ``replaceIs`` function above\n",
        "+ Consider where you will be able to use ``transcribe_one``\n",
        "  + You wrote that, above -- you should definitely use it!\n",
        "+ That said, these can get somewhat addictive...\n",
        "\n",
        "\n",
        "\n"
      ],
      "metadata": {
        "id": "VBp9aff1zE1g"
      }
    },
    {
      "cell_type": "code",
      "source": [
        "#\n",
        "# A full transcribe function\n",
        "def transcribe(s):\n",
        "    \"\"\"\n",
        "    The function will takes the  string s and returns a new string by replacing some characters as below:\n",
        "    - 'a' -> 'u',\n",
        "    - 'c' -> 'g',\n",
        "    - 'g' -> 'c',\n",
        "    - 't' -> 'a'.\n",
        "    - Non-transcribable characters are dropped.\n",
        "    \"\"\"\n",
        "    if s == \"\":  #if the string is empty, return an empty string\n",
        "        return \"\"\n",
        "\n",
        "    # Get the transcription for the first character\n",
        "    first_transcribed = transcribe_one(s[0])\n",
        "\n",
        "    # Recursively transcribe the rest of the string\n",
        "    return first_transcribed + transcribe(s[1:])\n",
        "\n",
        "\n",
        "\n",
        "# If you work on this, please create 4-6 tests showing how it does:\n",
        "\n",
        "# tests here...\n",
        "# model them from the above tests...\n",
        "\n",
        "# Test cases\n",
        "print(\"transcribe('acgt') should be 'ugca': \", transcribe('acgt'))\n",
        "print(\"transcribe('aaaggttcc') should be 'uuuccaagg': \", transcribe('aaaggttcc'))\n",
        "print(\"transcribe('xacy') should be 'ug': \", transcribe('xacy'))\n",
        "print(\"transcribe('') should be '': \", transcribe(''))\n",
        "print(\"transcribe('gggg') should be 'cccc': \", transcribe('gggg'))\n",
        "print(\"transcribe('tcatgc') should be 'aguacg': \", transcribe('tcatgc'))\n",
        "print(\"transcribe('python') should be 'a': \", transcribe('python'))\n"
      ],
      "metadata": {
        "id": "3rB0k5_CcnqP",
        "colab": {
          "base_uri": "https://localhost:8080/"
        },
        "outputId": "22405f8a-d87a-47b9-e2c9-067f6c57e639"
      },
      "execution_count": null,
      "outputs": [
        {
          "output_type": "stream",
          "name": "stdout",
          "text": [
            "transcribe('acgt') should be 'ugca':  ugca\n",
            "transcribe('aaaggttcc') should be 'uuuccaagg':  uuuccaagg\n",
            "transcribe('xacy') should be 'ug':  ug\n",
            "transcribe('') should be '':  \n",
            "transcribe('gggg') should be 'cccc':  cccc\n",
            "transcribe('tcatgc') should be 'aguacg':  aguacg\n",
            "transcribe('python') should be 'a':  a\n"
          ]
        }
      ]
    },
    {
      "cell_type": "markdown",
      "source": [
        "### <font color=\"darkblue\">A ``letterScore`` function for scrabble</b></font>\n",
        "\n",
        "\n",
        "The function ``letterScore(s)`` should take in a single-character _string_ ``c`` and return it's scrabble score -- ***it only works when ``c`` is a single-character string!***\n",
        "\n",
        "Here is an image summarizing the scores:\n",
        "\n",
        "<img src=\"https://sandbox.dodona.be/en/activities/1515945638/description/Iy6_hxTCnswvzFz3/media/scrabble.jpg\" height=200>\n",
        "\n",
        "and here are the scores, written out:\n",
        "+ (1 point)-A, E, I, O, U, L, N, S, T, R\n",
        "+ (2 points)-D, G.\n",
        "+ (3 points)-B, C, M, P.\n",
        "+ (4 points)-F, H, V, W, Y.\n",
        "+ (5 points)-K.\n",
        "+ (8 points)- J, X.\n",
        "+ (10 points)-Q, Z.\n",
        "+ these should work for uppercase or lowercase!\n",
        "+ other characters - non letters, punctuation, numbers, ... should score 0 (zero points)\n",
        "\n",
        "<br>\n",
        "\n",
        "Hints!\n",
        "+ use the ``in`` operator\n",
        "+ For example, ``if c in \"qzQz\":`` is a great conditional to use!\n",
        "+ In that case, the correct body would be ``return 10``\n",
        "+ and so on...\n",
        "\n",
        "This ``letterScore`` function is ***not*** recursive.\n",
        "+ However, the ``scrabbleScore`` function - next one - is a great example of recursion...\n"
      ],
      "metadata": {
        "id": "ZPCh74xsYsqG"
      }
    },
    {
      "cell_type": "code",
      "source": [
        "#\n",
        "# here, write your letterScore function\n",
        "def letterScore(c):\n",
        "    \"\"\"\n",
        "    The function takes single-character string c and returns its Scrabble Score.\n",
        "    Returns 0 for non-alphabet characters or invalid input.\n",
        "    \"\"\"\n",
        "    c = c.lower()  # Convert to lowercase\n",
        "\n",
        "    if c in \"aeioulnstr\":\n",
        "        return 1\n",
        "    elif c in \"dg\":\n",
        "        return 2\n",
        "    elif c in \"bcmp\":\n",
        "        return 3\n",
        "    elif c in \"fhvwy\":\n",
        "        return 4\n",
        "    elif c in \"k\":\n",
        "        return 5\n",
        "    elif c in \"jx\":\n",
        "        return 8\n",
        "    elif c in \"qz\":\n",
        "        return 10\n",
        "    else:\n",
        "        return 0  # For any other character, return 0\n",
        "\n",
        "\n",
        "\n",
        "\n",
        "# be sure to try these tests!\n",
        "\n",
        "print( \"letterScore('h') should be  4 :\",  letterScore('h') )\n",
        "print( \"letterScore('c') should be  3 :\",  letterScore('c') )\n",
        "print( \"letterScore('a') should be  1 :\",  letterScore('a') )\n",
        "print( \"letterScore('z') should be 10 :\",  letterScore('z') )\n",
        "print( \"letterScore('^') should be  0 :\",  letterScore('^') )"
      ],
      "metadata": {
        "id": "-g7OUYQ_YrAq",
        "colab": {
          "base_uri": "https://localhost:8080/"
        },
        "outputId": "78eda711-e5db-438f-ebed-ef7d7d3bf69c"
      },
      "execution_count": null,
      "outputs": [
        {
          "output_type": "stream",
          "name": "stdout",
          "text": [
            "letterScore('h') should be  4 : 4\n",
            "letterScore('c') should be  3 : 3\n",
            "letterScore('a') should be  1 : 1\n",
            "letterScore('z') should be 10 : 10\n",
            "letterScore('^') should be  0 : 0\n"
          ]
        }
      ]
    },
    {
      "cell_type": "markdown",
      "source": [
        "### <font color=\"darkblue\"><b>Recursive function #2</b> &nbsp; The full ``scrabbleScore`` function!</b></font>\n",
        "\n",
        "Here is ``scrabbleScore``'s description:\n",
        "+ ``scrabbleScore(S)`` should take a string argument ``S``, which can have any characters, and\n",
        "+ should return the Scrabble score of that string.\n",
        "+ Any non-letter should contribute a ``0`` score (notice that letterScore already does this! No need to redo it!)\n",
        "+ we're ignoring the fact that, in the game of Scrabble, the availability of each letter tile is limited… .\n",
        "\n",
        "<br>\n",
        "\n",
        "Hint: the ``vwl`` recursive example is a good starting point, because:\n",
        "+ ``vwl`` is really a simpler scoring function...\n",
        "+ it gives ``1`` to each vowel and\n",
        "+ it gives ``0`` to each non-vowel!\n",
        "\n",
        "This is very similar!\n",
        "+ Be sure to use ``letterScore`` -- don't rewrite it!\n",
        "+ You shouldn't have more than 6 lines inside ``scrabbleScore``\n",
        "+ In fact, 4 lines is possible!"
      ],
      "metadata": {
        "id": "YHj8x6ZBaj-9"
      }
    },
    {
      "cell_type": "code",
      "source": [
        "#\n",
        "# here, write your scabbleScore function\n",
        "def scrabbleScore(s):\n",
        "    \"\"\"\n",
        "    Takes string s and returns the total Scrabble score for that string.\n",
        "    \"\"\"\n",
        "    if s == \"\":  # if the string is empty, return 0\n",
        "        return 0\n",
        "\n",
        "    return letterScore(s[0]) + scrabbleScore(s[1:])\n",
        "\n",
        "\n",
        "# be sure to try these tests!\n",
        "\n",
        "#\n",
        "# Tests\n",
        "#\n",
        "print( \"scrabbleScore('quetzal')           should be  25 :\",  scrabbleScore('quetzal') )\n",
        "print( \"scrabbleScore('jonquil')           should be  23 :\",  scrabbleScore('jonquil') )\n",
        "print( \"scrabbleScore('syzygy')            should be  25 :\",  scrabbleScore('syzygy') )\n",
        "print( \"scrabbleScore('?!@#$%^&*()')       should be  0 :\",  scrabbleScore('?!@#$%^&*()') )\n",
        "print( \"scrabbleScore('')                  should be  0 :\",  scrabbleScore('') )\n",
        "print( \"scrabbleScore('abcdefghijklmnopqrstuvwxyz') should be  87 :\",  scrabbleScore('abcdefghijklmnopqrstuvwxyz') )"
      ],
      "metadata": {
        "id": "Y9k27yvYbWad",
        "colab": {
          "base_uri": "https://localhost:8080/"
        },
        "outputId": "c004ccf2-f790-445f-cb0e-ec0c4d083979"
      },
      "execution_count": null,
      "outputs": [
        {
          "output_type": "stream",
          "name": "stdout",
          "text": [
            "scrabbleScore('quetzal')           should be  25 : 25\n",
            "scrabbleScore('jonquil')           should be  23 : 23\n",
            "scrabbleScore('syzygy')            should be  25 : 25\n",
            "scrabbleScore('?!@#$%^&*()')       should be  0 : 0\n",
            "scrabbleScore('')                  should be  0 : 0\n",
            "scrabbleScore('abcdefghijklmnopqrstuvwxyz') should be  87 : 87\n"
          ]
        }
      ]
    },
    {
      "cell_type": "markdown",
      "source": [
        "### <font color=\"darkblue\"><b>Recursive function #3</b> &nbsp; Your own string-transformer </b></font>\n",
        "\n",
        "For this final (required) recursive function, write your own variation of ``replaceIs`` and the functions ``keepvwl`` and ``dropvwl`` from class.\n",
        "\n",
        "It doesn't have to be more elaborate, just personalized. Here are three ideas just to jog your own thinking:\n",
        "+ You could convert all of the ``a`` characters to the at sign ``@``\n",
        "+ Other familiar substitutions with punctuation, etc.\n",
        "+ You could double the vowels and leave the consonants alone\n",
        "+ Or, could triple the ``i``'s and leave all others alone\n",
        "+ Also, ``s[0].lower()`` returns a lower-case version of ``s[0]``\n",
        "+ and ``s[0].upper()`` returns an upper-case version of ``s[0]``\n",
        "+ this means you could switch around different cases, etc.\n",
        "+ perhaps ``spOngEbObbIfYIng`` an input string?!\n",
        "\n",
        "Many, many possibilities exist -- create one of your own\n",
        "+ as well as some tests that show it off (at least 3)\n"
      ],
      "metadata": {
        "id": "O6GO-cJWdCGk"
      }
    },
    {
      "cell_type": "code",
      "source": [
        "#\n",
        "# here, write your own string-transforming function\n",
        "#       be sure to use recursion and write at least three tests...\n",
        "\n",
        "def transform(s):\n",
        "    \"\"\"\n",
        "    Recursively transforms the string s:\n",
        "    - Keeps vowels from s using \"keepvwl\".\n",
        "    - Replaces non-vowels with '_'.\n",
        "    \"\"\"\n",
        "    if s == \"\":\n",
        "        return \"\"\n",
        "\n",
        "\n",
        "    first_char = s[0]\n",
        "    if first_char in keepvwl(s):\n",
        "        return first_char + transform(s[1:])\n",
        "    else:\n",
        "        return \"_\" + transform(s[1:])\n",
        "\n",
        "\n",
        "# your tests here:\n",
        "# Test cases for transform\n",
        "print(\"transform('helloworld') should be '_e__o_o___':\", transform('helloworld'))\n",
        "print(\"transform('Python') should be '____o_':\", transform('Python'))\n",
        "print(\"transform('aeiou') should be 'aeiou':\", transform('aeiou'))\n",
        "print(\"transform('123abc!') should be '___a___':\", transform('123abc!'))\n"
      ],
      "metadata": {
        "id": "k1ymDNDGdr8f",
        "colab": {
          "base_uri": "https://localhost:8080/"
        },
        "outputId": "282de79a-8af4-49f0-a28a-32d33f4532b0"
      },
      "execution_count": null,
      "outputs": [
        {
          "output_type": "stream",
          "name": "stdout",
          "text": [
            "transform('helloworld') should be '_e__o_o___': _e__o_o___\n",
            "transform('Python') should be '____o_': ____o_\n",
            "transform('aeiou') should be 'aeiou': aeiou\n",
            "transform('123abc!') should be '___a___': ___a___\n"
          ]
        }
      ]
    },
    {
      "cell_type": "markdown",
      "source": [
        "# Extra credit\n",
        "\n",
        "(of up to +8.42 points)\n",
        "\n",
        "## _Pig Latin_!\n",
        "\n",
        "This totally-optional problem asks you to write two functions that implement an English-to-Pig-Latin translator...\n",
        "\n",
        "### Warm up\n",
        "+ Write ``pigletLatin(s)``, which accepts an argument that is a string s. s will be a single word consisting of lowercase letters.\n",
        "+ Then, ``pigletLatin`` should return the translation of ``s`` to \"piglet latin,\" which has these rules:\n",
        "  + If the argument has no letters at all (the empty string), your function should return the empty string\n",
        "  + If the argument begins with a vowel, the piglet latin result simply appends the string 'way' at the end. 'y' will be considered a consonant, and not a vowel, for this problem.\n",
        "  + Example: ``pigletLatin('one')`` returns ``'oneway'``\n",
        "    + Python may not print the quotes...\n",
        "  + If the argument begins with a consonant, the piglet latin result is identical to the argument, except that the argument's initial consonant is at the end of the word instead of the beginning and it's followed by the string 'ay'.\n",
        "    + Example: ``pigletLatin('be')`` returns ``'ebay'``\n",
        "+ Be sure to write at least one test using print—and one using assert!\n",
        "Of course, this is not full pig Latin, because it does not handle words beginning with multiple consonants correctly.\n",
        "  + For example, ``pigletLatin('string')`` returns ``'tringsay'``\n",
        "\n",
        "\n",
        "### The full Pig Latin challenge\n",
        "\n",
        "Ok!  \n",
        "\n",
        "The full challenge is to create a function called ``pigLatin(s)`` that handles the rules above and handles more than one initial consonant correctly in the translation to pig Latin.\n",
        "\n",
        "That is, ``pigLatin`` moves all of the initial consonants to the end of the word before adding ``'ay'``. (You will want to write and use a helper function to do this—see the hint below.)\n",
        "\n",
        "Also, ``pigLatin`` should handle an initial 'y' either as a consonant OR as a vowel, depending on whether the y is followed by a vowel or consonant, respectively:\n",
        "+ If an initial 'y' is followed by a vowel ('yes', 'yodel'), then the 'y' is considered a consonant.\n",
        "+ If an initial 'y' is followed by a consonant ('yttrium', element #39), then the 'y' is considered a vowel.\n",
        "+ That is, 'yes' has an initial y acting as a consonant. The word 'yttrium', however, (element #39) has an initial y acting as a vowel. (Admittedly, there aren't many 'y'-as-vowel instances: ylem, ytterbium, element #70, and Yggdrasil, a mythic tree.)\n",
        "\n",
        "\n",
        "We share some examples with which to put your pigLatin to the test!\n",
        "<code><pre>\n",
        "print( \"pigLatin('string')             should be  'ingstray'   :\",  pigLatin('string') )\n",
        "print( \"pigLatin('yttrium')            should be  'yttriumway' :\",  pigLatin('yttrium') )\n",
        "print( \"pigLatin('yoohoo')             should be  'oohooyay'   :\",  pigLatin('yoohoo') )\n",
        "print( \"pigLatin('stymie')             should be  'ymiestay'   :\",  pigLatin('stymie') )\n",
        "</pre></code>\n",
        "\n"
      ],
      "metadata": {
        "id": "PzdxCu9Zbie4"
      }
    },
    {
      "cell_type": "code",
      "source": [
        "#\n",
        "# Here is space to write pigletLatin and pigLatin!\n",
        "#\n",
        "\n",
        "\n",
        "def pigletLatin(s):\n",
        "    \"\"\"\n",
        "    The function receives single lowercase word s \"string\":\n",
        "    - If the string is empty, return an empty string.\n",
        "    - If the string starts with a vowel, add \"way\" to the end.\n",
        "    - If the string starts with a consonant, move the first letter to the end and add \"ay\".\n",
        "    \"\"\"\n",
        "    vowels = \"aeiou\"\n",
        "\n",
        "    if s == \"\":\n",
        "        return \"\"\n",
        "    elif s[0] in vowels:\n",
        "        return s + \"way\"\n",
        "    else:\n",
        "        return s[1:] + s[0] + \"ay\"\n",
        "\n",
        "print(\"pigletLatin('one') should return 'oneway':\", pigletLatin('one'))\n",
        "print(\"pigletLatin('be') should return 'ebay':\", pigletLatin('be'))\n",
        "print(\"pigletLatin('string') should return 'tringsay':\", pigletLatin('string'))\n",
        "print(\"pigletLatin('') should return '':\", pigletLatin(''))\n",
        "\n",
        "\n",
        "\n",
        "\n",
        "# be sure to try these tests!\n",
        "# print( \"pigLatin('string')             should be  'ingstray'   :\",  pigLatin('string') )\n",
        "# print( \"pigLatin('yttrium')            should be  'yttriumway' :\",  pigLatin('yttrium') )\n",
        "# print( \"pigLatin('yoohoo')             should be  'oohooyay'   :\",  pigLatin('yoohoo') )\n",
        "# print( \"pigLatin('stymie')             should be  'ymiestay'   :\",  pigLatin('stymie') )"
      ],
      "metadata": {
        "id": "PYmP4CRJcwSn",
        "colab": {
          "base_uri": "https://localhost:8080/"
        },
        "outputId": "33fbe65c-8236-4b32-b246-7db3f54ca099"
      },
      "execution_count": null,
      "outputs": [
        {
          "output_type": "stream",
          "name": "stdout",
          "text": [
            "pigletLatin('one') should return 'oneway': oneway\n",
            "pigletLatin('be') should return 'ebay': ebay\n",
            "pigletLatin('string') should return 'tringsay': tringsay\n",
            "pigletLatin('') should return '': \n"
          ]
        }
      ]
    },
    {
      "cell_type": "markdown",
      "source": [
        "# Congratulations!\n",
        "\n",
        "You have created your first _computational cells_\n",
        "+ At least, for IST 341...\n",
        "+ Mother Nature embraces you,\n",
        "  + not only as a descendant,\n",
        "  + but as a co-author... !"
      ],
      "metadata": {
        "id": "yGx-b4xGc00A"
      }
    },
    {
      "cell_type": "markdown",
      "source": [
        "# Submitting...\n",
        "\n",
        "Be sure to submit the url of _your_ copy -- with the challenges, questions, and programs composed --\n",
        "+ to Canvas in the appropriate spot\n",
        "+ by Friday evening -- of the following week -- any time\n",
        "+ shared with me (ZD)  ``zdodds@gmail.com`` and ``dodds@g.hmc.edu``\n",
        "\n",
        "Remember that there is lots of tutoring support, as well as office-hour support available...\n",
        "+ Thank you, Oke!\n",
        "\n",
        "\n",
        "<br>\n",
        "\n",
        "As a reminder, our programming goals match the goals of the course -- we're  seeking, among other things:\n",
        "+ creativity/novelty\n",
        "+ personalization/individual context\n",
        "+ exploration and understanding (does it run?)"
      ],
      "metadata": {
        "id": "rNHGo2zHWUuo"
      }
    },
    {
      "cell_type": "code",
      "source": [],
      "metadata": {
        "id": "A3z6sZvMRjlC"
      },
      "execution_count": null,
      "outputs": []
    },
    {
      "cell_type": "code",
      "source": [
        "!git clone https://github.com/dektar/command-line-treasure-hunt.git"
      ],
      "metadata": {
        "id": "swiTAmNcueNA"
      },
      "execution_count": null,
      "outputs": []
    },
    {
      "cell_type": "code",
      "source": [
        "cd command-line-treasure-hunt"
      ],
      "metadata": {
        "id": "Go9I7aaPRtg0"
      },
      "execution_count": null,
      "outputs": []
    },
    {
      "cell_type": "code",
      "source": [
        "pwd"
      ],
      "metadata": {
        "id": "Nw94SBaSRvLc"
      },
      "execution_count": null,
      "outputs": []
    },
    {
      "cell_type": "markdown",
      "source": [
        "# <font color=\"DodgerBlue\"><b>EC!</b></font> &nbsp; Small Treasure Hunt\n",
        "\n",
        "If you'd like to exercise your command-line skills and explore a small \"treasure hunt\" as you do... try the following challenge:\n",
        "\n",
        "+ Run the ``git`` command and, once it's finished,\n",
        "+ run the ``cd`` command and\n",
        "+ then the ``pwd`` command:\n",
        "\n"
      ],
      "metadata": {
        "id": "y811eECNuf3L"
      }
    },
    {
      "cell_type": "code",
      "source": [
        "!git clone https://github.com/dektar/command-line-treasure-hunt.git"
      ],
      "metadata": {
        "id": "8zkSfqMFRzHF"
      },
      "execution_count": null,
      "outputs": []
    },
    {
      "cell_type": "code",
      "source": [
        "cd command-line-treasure-hunt"
      ],
      "metadata": {
        "id": "mLhEmgOlR2IL"
      },
      "execution_count": null,
      "outputs": []
    },
    {
      "cell_type": "code",
      "source": [
        "pwd"
      ],
      "metadata": {
        "id": "8DmwEGmCSE3H"
      },
      "execution_count": null,
      "outputs": []
    },
    {
      "cell_type": "markdown",
      "source": [
        "If everything has gone well, you should be in the ``/content/command-line-treasure-hunt`` directory.\n",
        "\n",
        "From here, use the command line to find the hidden treasure!\n",
        "You can use:\n",
        "+ ``cd`` to change directories\n",
        "+ ``ls`` to list files in a directory\n",
        "+ ``pwd`` to find out where you currently are\n",
        "+ ``cat`` to print a file to the terminal\n",
        "\n",
        "plus, you'll learn some new commands along the way... .\n"
      ],
      "metadata": {
        "id": "OChkFSKQRzVs"
      }
    },
    {
      "cell_type": "markdown",
      "source": [
        "Ready to get started? Onward!\n",
        "\n",
        "Start by typing `ls` in the terminal to list files,\n",
        "and you see this output:\n",
        "\n",
        "```\n",
        "garden house README.md\n",
        "```\n",
        "\n",
        "The words ``garden`` ``house`` are bold or a different color because they are directories. ``README.md`` is a file. Type ``cat README.md`` in the terminal to see the contents of this file!\n",
        "\n",
        "Now let's go exploring. Go into the garden directory: ``cd garden``.\n",
        "Once you get there, use ``ls`` to see what's around, and use ``cat README.md`` to see your next set of instructions.\n",
        "\n",
        "```\n",
        "cd garden\n",
        "ls\n",
        "cat README.md\n",
        "```\n",
        "\n",
        "<br>\n",
        "\n",
        "You can add as many cells as you like -- and leave them -- and all of the progress (and possibly dead-ends they represent) in this notebook when you submmit it. 😃\n",
        "\n",
        "Good luck adventuring!\n"
      ],
      "metadata": {
        "id": "yyBS5VVWSUJI"
      }
    },
    {
      "cell_type": "code",
      "source": [
        "ls\n"
      ],
      "metadata": {
        "id": "pmoGH6xYSVFx"
      },
      "execution_count": null,
      "outputs": []
    },
    {
      "cell_type": "code",
      "source": [
        "cd garden"
      ],
      "metadata": {
        "id": "4cNMUU5ISeK0"
      },
      "execution_count": null,
      "outputs": []
    },
    {
      "cell_type": "markdown",
      "source": [],
      "metadata": {
        "id": "SjCLWfzkTQlS"
      }
    },
    {
      "cell_type": "code",
      "source": [
        "ls"
      ],
      "metadata": {
        "id": "w1kyR-qiSiQt"
      },
      "execution_count": null,
      "outputs": []
    },
    {
      "cell_type": "code",
      "source": [
        "cat README.md"
      ],
      "metadata": {
        "id": "_yZ697z2Si5b"
      },
      "execution_count": null,
      "outputs": []
    },
    {
      "cell_type": "markdown",
      "source": [
        "You'll need more than this... !"
      ],
      "metadata": {
        "id": "P0C0U33STO_7"
      }
    }
  ],
  "metadata": {
    "colab": {
      "provenance": []
    },
    "kernelspec": {
      "display_name": "Python 3",
      "name": "python3"
    },
    "language_info": {
      "name": "python"
    }
  },
  "nbformat": 4,
  "nbformat_minor": 0
}