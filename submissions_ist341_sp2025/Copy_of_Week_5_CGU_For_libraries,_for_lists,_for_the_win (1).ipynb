{
  "cells": [
    {
      "cell_type": "markdown",
      "source": [
        "# IST 341: Hi, everyone!\n",
        "\n",
        "### Assignment <u>5</u> Notebook: &nbsp; _For Lists_\n",
        "\n",
        "... and for the win, since _For Lists_ are Python's \"best feature\"\n",
        "\n",
        "Featuring:\n",
        "+ _For Lists_, aka _List Comprehensions_\n",
        "+ the <tt>for</tt> syntax, used for looping\n",
        "+ _Applications_: lots!\n",
        "  + functions of many sorts\n",
        "  + estimating pi-from-pie (well, pi-from-circles-and-darts!) and other simulations...\n",
        "  + incorporating <tt>libraries</tt> into our code! Here, it's <tt>requests</tt> (Yay!)\n",
        "+ plus, there is a reading-with-response that invites thinking about _algorithmic fairness and bias_\n",
        "  + a topic that is _increasingly_ important -- and pertinent!"
      ],
      "metadata": {
        "id": "UrkiOTiDEjwp"
      }
    },
    {
      "cell_type": "markdown",
      "source": [
        "### <font color=\"FireBrick\"><b>Overview of this week's Python Notebook</b> (this notebook)</font>\n",
        "\n",
        "**Last week** introduced the \"first-rest\" pattern that\n",
        "+ composed functions to \"process one element\" and then \"continue the process...\"\n",
        "+ this was a starting example of using loops\n",
        "\n",
        "<br>\n",
        "\n",
        "**This week** we emphasize lists and <tt>for</tt> syntax:\n",
        "+ Together, these _\"For Lists\"_ are elegant and powerful\n",
        "+ Python's official name for them is _List Comprehensions_\n",
        "+ They expand the power and variety of simulation-and-analysis that we can take on ...\n",
        "+ Plus, remember that the _next_ assignment will be a **Looping** challenge that uses [PythonBat](https://codingbat.com/python)\n",
        "  + You won't put the PythonBat functions into a notebook...\n",
        "\n",
        "<br>\n",
        "\n",
        "Let's dive in!"
      ],
      "metadata": {
        "id": "NoXM4SE7QVPh"
      }
    },
    {
      "cell_type": "markdown",
      "source": [
        "### <font color=\"DodgerBlue\"><b>Make your own copy of this notebook (as in each week)</b></font>\n",
        "\n",
        "**Submitting** -- When you're ready to submit, be sure to\n",
        "+ **share** the notebook with me at\n",
        "   + `zdodds@gmail.com`\n",
        "+ and also **submit** the url to your notebook at the appropriate spot on Canvas\n",
        "\n",
        "That makes it easiest to read and run!"
      ],
      "metadata": {
        "id": "M7dzL4m4fPYf"
      }
    },
    {
      "cell_type": "markdown",
      "source": [
        "# Lists!\n",
        "\n",
        "We have done a lot with strings so far, but there is an even more general sequence datatype: **lists**.  \n",
        "\n",
        "This week, we will emphasize lists, starting with five built-in functions:\n",
        "+ ``len(L)`` returns the length of a list ``L``\n",
        "+ ``max(L)`` returns ``L``'s largest element and ``min`` returns ``L``'s smallest element\n",
        "+ ``sum(L)`` adds up all of the elements (if they're numbers; if not, it's an error)\n",
        "+ ``range(low,hi)`` creates lists from ``low`` up to but not including ``hi``\n",
        "\n",
        "Try them out:"
      ],
      "metadata": {
        "id": "avPkcx0jJrJG"
      }
    },
    {
      "cell_type": "code",
      "source": [
        "L = [ 'CGU', 'CMC', 'PIT', 'SCR', 'POM', 'HMC' ]\n",
        "print(\"len(L) is\", len(L))\n",
        "print(max(L), min(L))     # just for fun, try max and min of this L:  We win! (Why?!)"
      ],
      "metadata": {
        "id": "b-rEnj4lKyNc",
        "colab": {
          "base_uri": "https://localhost:8080/"
        },
        "outputId": "249133ef-7d1b-45d1-d46f-1eda35d68fa0"
      },
      "execution_count": null,
      "outputs": [
        {
          "output_type": "stream",
          "name": "stdout",
          "text": [
            "len(L) is 6\n",
            "SCR CGU\n"
          ]
        }
      ]
    },
    {
      "cell_type": "code",
      "source": [
        "L = [1, 2, 40, 3 ]\n",
        "print(\"max(L) is\", max(L))\n",
        "print(\"min(L) is\", min(L))\n",
        "print(\"sum(L) is\", sum(L))"
      ],
      "metadata": {
        "id": "AAp1PLczK_JE",
        "colab": {
          "base_uri": "https://localhost:8080/"
        },
        "outputId": "cc3fba1b-932f-496b-ef6a-ec8aa21b8d6d"
      },
      "execution_count": null,
      "outputs": [
        {
          "output_type": "stream",
          "name": "stdout",
          "text": [
            "max(L) is 40\n",
            "min(L) is 1\n",
            "sum(L) is 46\n"
          ]
        }
      ]
    },
    {
      "cell_type": "code",
      "source": [
        "L = range(1,43)\n",
        "print(\"L is\", L)   # Uh oh... it won't create the list unless we tell it to..."
      ],
      "metadata": {
        "id": "dsXFyTKxLj_w",
        "colab": {
          "base_uri": "https://localhost:8080/"
        },
        "outputId": "5a5aa3a2-9bcb-414f-aebd-b6cacad506ff"
      },
      "execution_count": null,
      "outputs": [
        {
          "output_type": "stream",
          "name": "stdout",
          "text": [
            "L is range(1, 43)\n"
          ]
        }
      ]
    },
    {
      "cell_type": "code",
      "source": [
        "L = list(range(1,367))  # ask it to create the list values...\n",
        "print(\"L is\", L)  # Aha!"
      ],
      "metadata": {
        "id": "dy9qf_d3MEzf",
        "colab": {
          "base_uri": "https://localhost:8080/"
        },
        "outputId": "ebd13547-02a0-4f93-dea3-7322e9c688d8"
      },
      "execution_count": null,
      "outputs": [
        {
          "output_type": "stream",
          "name": "stdout",
          "text": [
            "L is [1, 2, 3, 4, 5, 6, 7, 8, 9, 10, 11, 12, 13, 14, 15, 16, 17, 18, 19, 20, 21, 22, 23, 24, 25, 26, 27, 28, 29, 30, 31, 32, 33, 34, 35, 36, 37, 38, 39, 40, 41, 42, 43, 44, 45, 46, 47, 48, 49, 50, 51, 52, 53, 54, 55, 56, 57, 58, 59, 60, 61, 62, 63, 64, 65, 66, 67, 68, 69, 70, 71, 72, 73, 74, 75, 76, 77, 78, 79, 80, 81, 82, 83, 84, 85, 86, 87, 88, 89, 90, 91, 92, 93, 94, 95, 96, 97, 98, 99, 100, 101, 102, 103, 104, 105, 106, 107, 108, 109, 110, 111, 112, 113, 114, 115, 116, 117, 118, 119, 120, 121, 122, 123, 124, 125, 126, 127, 128, 129, 130, 131, 132, 133, 134, 135, 136, 137, 138, 139, 140, 141, 142, 143, 144, 145, 146, 147, 148, 149, 150, 151, 152, 153, 154, 155, 156, 157, 158, 159, 160, 161, 162, 163, 164, 165, 166, 167, 168, 169, 170, 171, 172, 173, 174, 175, 176, 177, 178, 179, 180, 181, 182, 183, 184, 185, 186, 187, 188, 189, 190, 191, 192, 193, 194, 195, 196, 197, 198, 199, 200, 201, 202, 203, 204, 205, 206, 207, 208, 209, 210, 211, 212, 213, 214, 215, 216, 217, 218, 219, 220, 221, 222, 223, 224, 225, 226, 227, 228, 229, 230, 231, 232, 233, 234, 235, 236, 237, 238, 239, 240, 241, 242, 243, 244, 245, 246, 247, 248, 249, 250, 251, 252, 253, 254, 255, 256, 257, 258, 259, 260, 261, 262, 263, 264, 265, 266, 267, 268, 269, 270, 271, 272, 273, 274, 275, 276, 277, 278, 279, 280, 281, 282, 283, 284, 285, 286, 287, 288, 289, 290, 291, 292, 293, 294, 295, 296, 297, 298, 299, 300, 301, 302, 303, 304, 305, 306, 307, 308, 309, 310, 311, 312, 313, 314, 315, 316, 317, 318, 319, 320, 321, 322, 323, 324, 325, 326, 327, 328, 329, 330, 331, 332, 333, 334, 335, 336, 337, 338, 339, 340, 341, 342, 343, 344, 345, 346, 347, 348, 349, 350, 351, 352, 353, 354, 355, 356, 357, 358, 359, 360, 361, 362, 363, 364, 365, 366]\n"
          ]
        }
      ]
    },
    {
      "cell_type": "code",
      "source": [
        "print(\"max(L) is\", max(L))    # ... up to but _not_ including the endpoint!"
      ],
      "metadata": {
        "id": "O8OF1BjrMR70",
        "colab": {
          "base_uri": "https://localhost:8080/"
        },
        "outputId": "a0d23c16-4183-40a9-cd52-76631ce074e4"
      },
      "execution_count": null,
      "outputs": [
        {
          "output_type": "stream",
          "name": "stdout",
          "text": [
            "max(L) is 366\n"
          ]
        }
      ]
    },
    {
      "cell_type": "markdown",
      "source": [
        "Nice! &nbsp; Let's put lists to work!\n",
        "\n",
        "<br>\n",
        "\n",
        "### <font color=\"Coral\"><b>Task #1</b></font>: Adding from 1 to 100...\n",
        "\n",
        "In the cell below, combine some of the list functions above to add up all of the numbers from 1 to 100 and print the result.\n",
        "\n",
        "Be sure to _include_ the number 100 in your addition! (What will this require...?!)\n"
      ],
      "metadata": {
        "id": "ZJdyu1n5Mgzm"
      }
    },
    {
      "cell_type": "code",
      "source": [
        "#\n",
        "# Gauss's number: adding from 1 to 100\n",
        "#\n",
        "print(sum(list(range(101))))"
      ],
      "metadata": {
        "id": "LEDEazbCNCb5",
        "colab": {
          "base_uri": "https://localhost:8080/"
        },
        "outputId": "bc7c434b-cf77-4d8c-afea-98abb99bc34b"
      },
      "execution_count": null,
      "outputs": [
        {
          "output_type": "stream",
          "name": "stdout",
          "text": [
            "5050\n"
          ]
        }
      ]
    },
    {
      "cell_type": "markdown",
      "source": [
        "Now, let's _add_ another powerful element: the ``for`` keyword:"
      ],
      "metadata": {
        "id": "6GlAqoGFNZJg"
      }
    },
    {
      "cell_type": "markdown",
      "source": [
        "# <b>Example</b>:  ``vwl_once(c) and vwl_all(s)``\n",
        "\n",
        "In last week's notebook, you used ``vwl_once`` and ``vwl_all``:\n",
        "+ ``vwl_once`` scored a vowel as a ``1``, other characters as ``0``\n",
        "+ ``vwl_all`` used ``vwl_once`` to count all vowles in an input string\n",
        "\n",
        "Here is ``vwl_once(c)``. Be sure to run it:\n"
      ],
      "metadata": {
        "id": "9BqFJ1etLRzR"
      }
    },
    {
      "cell_type": "code",
      "source": [
        "# single-character substitution:\n",
        "\n",
        "def vwl_once(c):\n",
        "  \"\"\" vwl_once returns 1 for a single vowel, 0 otherwise\n",
        "  \"\"\"\n",
        "  if c in 'aeiou': return 1\n",
        "  else: return 0\n",
        "\n",
        "# two tests:\n",
        "print(\"vwl_once('a') should be 1 <->\", vwl_once('a'))\n",
        "print(\"vwl_once('b') should be 0 <->\", vwl_once('b'))"
      ],
      "metadata": {
        "id": "1krVLOH0HQsC",
        "colab": {
          "base_uri": "https://localhost:8080/"
        },
        "outputId": "542245cb-c600-43bc-fc40-085aade84383"
      },
      "execution_count": null,
      "outputs": [
        {
          "output_type": "stream",
          "name": "stdout",
          "text": [
            "vwl_once('a') should be 1 <-> 1\n",
            "vwl_once('b') should be 0 <-> 0\n"
          ]
        }
      ]
    },
    {
      "cell_type": "markdown",
      "source": [
        "This week, we will use a different approach to ``vwl_all``\n",
        "+ The next cell has an example of a _For List_, or _List Comprehension_.\n",
        "+ Try it!\n",
        "+ See if you can tell what it has done"
      ],
      "metadata": {
        "id": "_PtRB7aiHDc4"
      }
    },
    {
      "cell_type": "code",
      "source": [
        "s = \"claremont\"\n",
        "print(\"s is\", s)\n",
        "print()\n",
        "\n",
        "LC = [ vwl_once(c) for c in s ]\n",
        "print(\"LC is\", LC)"
      ],
      "metadata": {
        "id": "LdKzI7ynHL4C",
        "colab": {
          "base_uri": "https://localhost:8080/"
        },
        "outputId": "04d34164-72c7-4261-c9b3-d61be60a948f"
      },
      "execution_count": null,
      "outputs": [
        {
          "output_type": "stream",
          "name": "stdout",
          "text": [
            "s is claremont\n",
            "\n",
            "LC is [0, 0, 1, 0, 1, 0, 1, 0, 0]\n"
          ]
        }
      ]
    },
    {
      "cell_type": "markdown",
      "source": [
        "**Aha!**  Line 5 has created a list ``LC`` that\n",
        "+ contains the output of ``vwl_once`` for each letter in ``s``!\n",
        "\n",
        "_How does it work?_\n",
        "+ it uses the ``for`` keyword to create a _loop_ inside a list\n",
        "  + notice that the whole thing is wrapped in ``[ ]`` square brackets\n",
        "+ it defines a variable ``c``\n",
        "+ it _assigns_ the variable ``c`` to _each element in ``s``_\n",
        "+ and it runs ``vwl_once(c)`` on each\n",
        "\n",
        "``LC`` is a list of all the outputs, one for each input character ``c`` in ``s``\n",
        "\n",
        "Here is a second example:"
      ],
      "metadata": {
        "id": "OqZdoDHnHrJP"
      }
    },
    {
      "cell_type": "code",
      "source": [
        "s = \"audio\"\n",
        "print(\"s is\", s)\n",
        "print()\n",
        "\n",
        "LC = [ vwl_once(c) for c in s ]\n",
        "print(\"LC is\", LC)"
      ],
      "metadata": {
        "id": "vy_huY5WOT7c",
        "colab": {
          "base_uri": "https://localhost:8080/"
        },
        "outputId": "93570741-b242-4f1b-cf24-da8ab2db3130"
      },
      "execution_count": null,
      "outputs": [
        {
          "output_type": "stream",
          "name": "stdout",
          "text": [
            "s is audio\n",
            "\n",
            "LC is [1, 1, 0, 1, 1]\n"
          ]
        }
      ]
    },
    {
      "cell_type": "markdown",
      "source": [
        "``audio`` has the vowel-pattern ``[1, 1, 0, 1, 1]``\n",
        "\n",
        "Find more!\n",
        "\n",
        "### <font color=\"Coral\"><b>Task #2</b></font>: More vowel patterns...\n",
        "\n",
        "Below, write four more examples of list comprehensions. <br> Copy-paste-and-edit the examples above.\n",
        "\n",
        "Find English words whose vowel-patterns are\n",
        "+ ``[0, 1, 0, 1, 0]``\n",
        "+ ``[0, 0, 0, 1, 0, 0]``\n",
        "+ ``[1, 0, 1, 1, 0, 0, 1, 0]   # I may need more of this...``\n",
        "+ and one more \"unusual\" pattern of your choice...\n",
        "\n",
        "<br><br>\n",
        "Feel free to"
      ],
      "metadata": {
        "id": "L-BzuGsbOhXc"
      }
    },
    {
      "cell_type": "code",
      "source": [
        "#\n",
        "# feel free to use this cell to check your vowel-patterns.\n",
        "#      This example is a starting point.\n",
        "#      You'll want to copy-paste-and-change it:\n",
        "s = \"state\"\n",
        "LC = [ vwl_once(c) for c in s ]\n",
        "print(\"LC is\", LC)\n",
        "\n",
        "s = \"shrink\"\n",
        "LC = [ vwl_once(c) for c in s ]\n",
        "print(\"LC is\", LC)\n",
        "\n",
        "s = \"amounted\"\n",
        "LC = [ vwl_once(c) for c in s ]\n",
        "print(\"LC is\", LC)\n",
        "\n",
        "s = \"manipulative\"\n",
        "LC = [ vwl_once(c) for c in s ]\n",
        "print(\"LC is\", LC)\n",
        "\n",
        "s = \"strengths\"\n",
        "LC = [ vwl_once(c) for c in s ]\n",
        "print(\"LC is\", LC)\n"
      ],
      "metadata": {
        "id": "ok9LwagFiE8B",
        "colab": {
          "base_uri": "https://localhost:8080/"
        },
        "outputId": "ceb92ed1-5d4d-4a24-dd9c-62db23ff39c2"
      },
      "execution_count": null,
      "outputs": [
        {
          "output_type": "stream",
          "name": "stdout",
          "text": [
            "LC is [0, 0, 1, 0, 1]\n",
            "LC is [0, 0, 0, 1, 0, 0]\n",
            "LC is [1, 0, 1, 1, 0, 0, 1, 0]\n",
            "LC is [0, 1, 0, 1, 0, 1, 0, 1, 0, 1, 0, 1]\n",
            "LC is [0, 0, 0, 1, 0, 0, 0, 0, 0]\n"
          ]
        }
      ]
    },
    {
      "cell_type": "markdown",
      "source": [
        "Let's ``sum``!\n",
        "\n",
        "Along with ``sum``, we can use these ideas to implement ``vwl_all(s)``, which returns the total number of vowels in an input string ``s``:"
      ],
      "metadata": {
        "id": "W8syB1DtQIEt"
      }
    },
    {
      "cell_type": "code",
      "source": [
        "#\n",
        "# vwl_all using this technique\n",
        "#\n",
        "\n",
        "def vwl_all(s):\n",
        "  \"\"\" returns the total # of vowels in s, a string\n",
        "  \"\"\"\n",
        "  LC = [ vwl_once(c) for c in s ]\n",
        "  total = sum(LC)  # add them all up!\n",
        "  return total\n",
        "\n",
        "# two tests:\n",
        "print(\"vwl_all('claremont') should be 3 <->\", vwl_all('claremont'))\n",
        "print(\"vwl_all('caffeine') should be 4 <->\", vwl_all('caffeine'))\n"
      ],
      "metadata": {
        "id": "N2xQq8CsQbBn",
        "colab": {
          "base_uri": "https://localhost:8080/"
        },
        "outputId": "4d7478c5-4fef-4aef-9469-dbad2e843f65"
      },
      "execution_count": null,
      "outputs": [
        {
          "output_type": "stream",
          "name": "stdout",
          "text": [
            "vwl_all('claremont') should be 3 <-> 3\n",
            "vwl_all('caffeine') should be 4 <-> 4\n"
          ]
        }
      ]
    },
    {
      "cell_type": "markdown",
      "source": [
        "### List comprehensions\n",
        "\n",
        "The syntax above is called a _list comprehension_ in Python\n",
        "+ More evocative names might have been possible!\n",
        "+ I would have preferred _For List_\n",
        "+ or, even better, _Fun List_\n",
        "+ (its most common use is running a function on each element)\n",
        "\n",
        "Alas, it's _List Comprehension_\n",
        "+ as a reminder, I'll often use ``LC``\n",
        "+ However, _any_ variable name can be used to name the result\n",
        "\n"
      ],
      "metadata": {
        "id": "pvfJW18zIxqO"
      }
    },
    {
      "cell_type": "markdown",
      "source": [
        "Here is a second example, using ``scrabble`` and an analysis using the results. <br> Then, you'll write two more.\n",
        "\n",
        "### **Example 2**: ``scrabble``\n",
        "+ ``scrabble_one`` returns one letter's score\n",
        "+ ``scrabble_all`` uses a list comprehension to score a full string"
      ],
      "metadata": {
        "id": "3LQkGTOTJk33"
      }
    },
    {
      "cell_type": "code",
      "source": [
        "# scrabble-scoring\n",
        "\n",
        "def scrabble_one(c):\n",
        "  \"\"\" returns the scrabble score of one character, c\n",
        "  \"\"\"\n",
        "  c = c.lower()\n",
        "  if c in 'alienorstu':   return 1\n",
        "  elif c in 'dg':         return 2\n",
        "  elif c in 'bcmp':       return 3\n",
        "  elif c in 'fhvwy':      return 4\n",
        "  elif c in 'k':          return 5\n",
        "  elif c in 'jx':         return 8\n",
        "  elif c in 'qz':         return 10\n",
        "  else:                   return 0\n",
        "\n",
        "# tests:\n",
        "print(\"scrabble_one('q') should be 10 <->\", scrabble_one('q'))\n",
        "print(\"scrabble_one('!') should be 0 <->\", scrabble_one('!'))\n",
        "print(\"scrabble_one('u') should be 1 <->\", scrabble_one('u'))"
      ],
      "metadata": {
        "id": "1CnqGkrNS-ts",
        "colab": {
          "base_uri": "https://localhost:8080/"
        },
        "outputId": "03f9aa73-a4ec-4452-d5bb-b79030ec4e95"
      },
      "execution_count": null,
      "outputs": [
        {
          "output_type": "stream",
          "name": "stdout",
          "text": [
            "scrabble_one('q') should be 10 <-> 10\n",
            "scrabble_one('!') should be 0 <-> 0\n",
            "scrabble_one('u') should be 1 <-> 1\n"
          ]
        }
      ]
    },
    {
      "cell_type": "markdown",
      "source": [
        "``scrabble_one`` provides scores, and <br>  ``scrabble_all`` then uses the same pattern as ``vwl_all``:"
      ],
      "metadata": {
        "id": "a_3CwdhzUA5M"
      }
    },
    {
      "cell_type": "code",
      "source": [
        "#\n",
        "# scrabble_all using this technique\n",
        "#\n",
        "\n",
        "def scrabble_all(s):\n",
        "  \"\"\" returns the total scrabble score of s\n",
        "  \"\"\"\n",
        "  LC = [ scrabble_one(c) for c in s ]\n",
        "  total = sum(LC)  # add them all up!\n",
        "  return total\n",
        "\n",
        "\n",
        "# two tests:\n",
        "print(\"scrabble_all('Zany Sci Ten Quiz') should be 46 <->\", scrabble_all('Zany Sci Ten Quiz'))\n",
        "print(\"scrabble_all('Claremont') should be 13 <->\", scrabble_all('Claremont'))\n",
        "print(\"scrabble_all('abcdefghijklmnopqrstuvwxyz!') should be 87 <->\", scrabble_all('abcdefghijklmnopqrstuvwxyz!'))"
      ],
      "metadata": {
        "id": "ble5vYdpUPGL",
        "colab": {
          "base_uri": "https://localhost:8080/"
        },
        "outputId": "ef0ae585-b7a4-494a-d517-0dbe48515ecd"
      },
      "execution_count": null,
      "outputs": [
        {
          "output_type": "stream",
          "name": "stdout",
          "text": [
            "scrabble_all('Zany Sci Ten Quiz') should be 46 <-> 46\n",
            "scrabble_all('Claremont') should be 13 <-> 13\n",
            "scrabble_all('abcdefghijklmnopqrstuvwxyz!') should be 87 <-> 87\n"
          ]
        }
      ]
    },
    {
      "cell_type": "markdown",
      "source": [
        "### <b>Example analysis</b>\n",
        "\n",
        "Using ``scrabble_all`` we analyze the scrabble-score richness of Plankton vs Patrick, both raw score and per-character:\n",
        "\n",
        "\n",
        "\n",
        "\n",
        "\n"
      ],
      "metadata": {
        "id": "S3fIcroiHwp1"
      }
    },
    {
      "cell_type": "code",
      "source": [
        "# Here are the two texts:\n",
        "\n",
        "PLANKTON = \"\"\"I'm As Evil As Ever. I'll Prove It\n",
        "Right Now By Stealing The Krabby Patty Secret Formula.\"\"\"\n",
        "\n",
        "PATRICK = \"\"\"I can't hear you.\n",
        "It's too dark in here.\"\"\""
      ],
      "metadata": {
        "id": "0rNonriYXG0E"
      },
      "execution_count": null,
      "outputs": []
    },
    {
      "cell_type": "code",
      "source": [
        "#\n",
        "# raw scrabble comparison\n",
        "#\n",
        "\n",
        "print(\"PLANKTON, total score:\", scrabble_all(PLANKTON))\n",
        "print(\"PATRICK, total score:\", scrabble_all(PATRICK))"
      ],
      "metadata": {
        "id": "Lgg2ULLRXN99",
        "colab": {
          "base_uri": "https://localhost:8080/"
        },
        "outputId": "1596e734-af53-4634-bc86-3b723e6e6caa"
      },
      "execution_count": null,
      "outputs": [
        {
          "output_type": "stream",
          "name": "stdout",
          "text": [
            "PLANKTON, total score: 121\n",
            "PATRICK, total score: 44\n"
          ]
        }
      ]
    },
    {
      "cell_type": "code",
      "source": [
        "#\n",
        "# per-character (\"average/expected\") scrabble comparison\n",
        "#\n",
        "\n",
        "print(\"PLANKTON, per-char score:\", scrabble_all(PLANKTON)/len(PLANKTON))\n",
        "print(\"PATRICK, per-char score:\", scrabble_all(PATRICK)/len(PATRICK))"
      ],
      "metadata": {
        "id": "pcoLCWciXkrL",
        "colab": {
          "base_uri": "https://localhost:8080/"
        },
        "outputId": "ab6ae6ef-c24e-47ac-bb67-be7010786b3c"
      },
      "execution_count": null,
      "outputs": [
        {
          "output_type": "stream",
          "name": "stdout",
          "text": [
            "PLANKTON, per-char score: 1.3595505617977528\n",
            "PATRICK, per-char score: 1.1\n"
          ]
        }
      ]
    },
    {
      "cell_type": "markdown",
      "source": [
        "### Some more list-comprehension examples...\n",
        "\n",
        "Practice with these, then you'll develop an application for analyzing prose..."
      ],
      "metadata": {
        "id": "22bfgVx5wqYI"
      }
    },
    {
      "cell_type": "code",
      "source": [
        "\n",
        "# let's see a \"plain\"  LC   (list comprehension)\n",
        "\n",
        "[ 2*x for x in [0,1,2,3,4,5] ]\n",
        "\n",
        "# it _should_ result in     [0, 2, 4, 6, 8, 10]"
      ],
      "metadata": {
        "id": "Sxd7c-rCwzyn",
        "colab": {
          "base_uri": "https://localhost:8080/"
        },
        "outputId": "d2adf46f-7fd6-4f5a-837c-241f4143fcd6"
      },
      "execution_count": null,
      "outputs": [
        {
          "output_type": "execute_result",
          "data": {
            "text/plain": [
              "[0, 2, 4, 6, 8, 10]"
            ]
          },
          "metadata": {},
          "execution_count": 18
        }
      ]
    },
    {
      "cell_type": "code",
      "source": [
        "\n",
        "# let's see a few more  list comprehensions.  For sure, we can name them:\n",
        "\n",
        "A  =  [ 10*x for x in [0,1,2,3,4,5] if x%2==0]   # notice the \"if\"! (there's no else...)\n",
        "print(A)"
      ],
      "metadata": {
        "id": "wdnNCJfUxAMX",
        "colab": {
          "base_uri": "https://localhost:8080/"
        },
        "outputId": "1249e644-0793-4904-d319-3059af61e9f2"
      },
      "execution_count": null,
      "outputs": [
        {
          "output_type": "stream",
          "name": "stdout",
          "text": [
            "[0, 20, 40]\n"
          ]
        }
      ]
    },
    {
      "cell_type": "code",
      "source": [
        "\n",
        "B = [ y*21 for y in list(range(0,3)) ]    # remember what range does?\n",
        "print(B)\n",
        "\n",
        "\n"
      ],
      "metadata": {
        "id": "YXdY3txdxFjo",
        "colab": {
          "base_uri": "https://localhost:8080/"
        },
        "outputId": "c820052b-5ce7-47de-9025-0502d0426fc3"
      },
      "execution_count": null,
      "outputs": [
        {
          "output_type": "stream",
          "name": "stdout",
          "text": [
            "[0, 21, 42]\n"
          ]
        }
      ]
    },
    {
      "cell_type": "code",
      "source": [
        "C = [ s[1] for s in [\"hi\", \"7Cs!\"] ]      # doesn't have to be numbers...\n",
        "print(C)"
      ],
      "metadata": {
        "id": "KtYWuLGrxGRV",
        "colab": {
          "base_uri": "https://localhost:8080/"
        },
        "outputId": "c7e0c5d2-8616-4a32-8e61-17ef4b853dd8"
      },
      "execution_count": null,
      "outputs": [
        {
          "output_type": "stream",
          "name": "stdout",
          "text": [
            "['i', 'C']\n"
          ]
        }
      ]
    },
    {
      "cell_type": "code",
      "source": [
        "\n",
        "# Let's try thinking about these...\n",
        "\n",
        "\"\"\"\n",
        "A = [ n+2 for n in   range(40,42) ]\n",
        "B = [ 42 for z in [0,1,2] ]\n",
        "C = [ z for z in [42,42] ]\n",
        "D = [ s[::-2] for s in ['fungic','y!a!y!'] ]\n",
        "L = [ [len(w),w] for w in  ['Hi','IST'] ]\n",
        "\n",
        "A: [42, 43]\n",
        "B; [43, 43, 43]\n",
        "C: [42, 42]\n",
        "D: ['cgu', '!!!']\n",
        "L: [['2', 'hi'], ['3', 'IST']]\n",
        "\"\"\"\n",
        "\n",
        "# then, see if they work the way you predict...\n",
        "A = [ n+2 for n in   range(40,42) ]\n",
        "B = [ 42 for z in [0,1,2] ]\n",
        "C = [ z for z in [42,42] ]\n",
        "D = [ s[::-2] for s in ['fungic','y!a!y!'] ]\n",
        "L = [ [len(w),w] for w in  ['Hi','IST'] ]\n",
        "\n",
        "print(A, '\\n' , B, '\\n', C, '\\n', D, '\\n', L, sep='')"
      ],
      "metadata": {
        "id": "Eoj_EonMxJml",
        "colab": {
          "base_uri": "https://localhost:8080/"
        },
        "outputId": "814286c8-ada7-4e19-86a4-ea3dffd72124"
      },
      "execution_count": null,
      "outputs": [
        {
          "output_type": "stream",
          "name": "stdout",
          "text": [
            "[42, 43]\n",
            "[42, 42, 42]\n",
            "[42, 42]\n",
            "['cgu', '!!!']\n",
            "[[2, 'Hi'], [3, 'IST']]\n"
          ]
        }
      ]
    },
    {
      "cell_type": "markdown",
      "source": [
        "_Ok!_  Now to create and apply some of our own...\n",
        "\n"
      ],
      "metadata": {
        "id": "0Ec9EGdzxQ_d"
      }
    },
    {
      "cell_type": "markdown",
      "source": [
        "### <font color=\"Coral\"><b>Task #3</b></font>: Punctuation scoring...\n",
        "\n",
        "_Stylometry_ is a field that quantifies stylistic features of language, especially to identify or characterize a specific author. Many _stylometric_ features have been proposed; one of the most persistent is _punctuation density_.\n",
        "\n",
        "Here, you'll\n",
        "+ use the LC technique to write a function to measure punctuation in a string (prose)\n",
        "+ compare two of your (prose) papers with two of another author's (prose) papers\n",
        "+ see if the results suggest a different _punctuation density_ between your and the other author's styles!\n",
        "+ similar to the sequences we're obtaining from the water-treatment plant, such a small number of samples can suggest whether/how to look further -- but isn't definitive by itself...\n"
      ],
      "metadata": {
        "id": "khE-AiioX2q7"
      }
    },
    {
      "cell_type": "code",
      "source": [
        "#\n",
        "# here, [1] create a function that scores punctuation as 1 and non-punctuation as 0, pun_one\n",
        "#       [2] use the list-comprehension technique to create a punctuation-scoring function, pun_all\n",
        "\n",
        "# use the above examples as a starting point!\n",
        "def pun_one(c):\n",
        "  if c in '.,(){}[]?!-–—\\'\":;…':\n",
        "    return 1\n",
        "  else:\n",
        "    return 0\n",
        "\n",
        "\n",
        "def pun_all(s):\n",
        "  LC = [pun_one(c) for c in s]\n",
        "  return sum(LC)\n",
        "\n",
        "\n",
        "\n",
        "\n",
        "\n",
        "# tests\n",
        "print(\"pun_all(PLANKTON) should be 4 <->\", pun_all(PLANKTON))\n",
        "print(\"pun_all(PATRICK) should be 4 <->\", pun_all(PATRICK))\n",
        "# They're more similar, punctuation-wise than scrabble-wise"
      ],
      "metadata": {
        "id": "Oeyk-5dbZZXq",
        "colab": {
          "base_uri": "https://localhost:8080/"
        },
        "outputId": "2055a053-2385-45c6-8445-bfcee5d736ca"
      },
      "execution_count": null,
      "outputs": [
        {
          "output_type": "stream",
          "name": "stdout",
          "text": [
            "pun_all(PLANKTON) should be 4 <-> 4\n",
            "pun_all(PATRICK) should be 4 <-> 4\n"
          ]
        }
      ]
    },
    {
      "cell_type": "markdown",
      "source": [
        "### An **advantage** of LCs:\n",
        "\n",
        "... is _efficiency_, both faster and more memory-efficient.\n",
        "\n",
        "For stylometric analysis, the more text you have, the more representative the results will be.\n",
        "\n",
        "Lsat time, we used one paragraph. This time, use two full documents:\n",
        "+ Copy-and-paste below two full papers you authored (if they're longer ones, great!)\n",
        "+ Copy-and-paste below two full papers authored by someone else\n",
        "+ Run all four to find the absolute and per-character use of punctuation in your style and the other author's style\n",
        "+ Are they different enough to suggest further investigation?\n",
        "\n"
      ],
      "metadata": {
        "id": "HIh3hTB-aali"
      }
    },
    {
      "cell_type": "markdown",
      "source": [
        "### Suggestions for \"other\" authors?\n",
        "+ exchange papers/prose and compare with a friend (fun!)\n",
        "+ there are lots of other opportunities, e.g.,\n",
        "  + [work by Rosalind Franklin](https://www.nature.com/articles/171740a0)  (likely need to be on campus to access this from Nature)\n",
        "  + [work by Jennifer Doudna](https://www.ncbi.nlm.nih.gov/pmc/articles/PMC6286148/)  (this one _might_ open anywhere)\n",
        "  + [copy a subset of Shakespeare's work](https://ocw.mit.edu/ans7870/6/6.006/s08/lecturenotes/files/t8.shakespeare.txt)  (this is openly available and plain-text)\n",
        "  + Don't worry about weird/unreadable characters\n",
        "    + as long as the results don't crash,\n",
        "    + those characters will likely be ignored by your scoring functions"
      ],
      "metadata": {
        "id": "NcPLA4k8f0ht"
      }
    },
    {
      "cell_type": "code",
      "source": [
        "#\n",
        "# The two works of yours and two of another author's (\"theirs\")\n",
        "#     These can - and should - be large\n",
        "#\n",
        "\n",
        "YOURS1 = \"\"\" I would have pulled away then, if I could, but small, firm, fingers pulled me forward unrelentingly into the dark.\n",
        "     “You should always be prepared for the unexpected.” He said. “Otherwise the Click Clacks will come for you.”\n",
        "     “Well, how am I supposed to prepare for the unexpected if it’s, well,  unexpected?”\n",
        "     I could feel, but not see, the boy’s hand move as he shrugged. “I don’t know. The unexpected should be expected, no?”\n",
        "     Click. Clack.\n",
        "     I wondered how children even came up with these things. I certainly wouldn’t have been able to come up with something so illogical and far-fetched. At least they definitely aren’t lacking in creativity.\n",
        "     The boy had sat down on the bed now, pulling me down with him. I asked, “Then, how come everyone hasn’t been “drank” by the Click Clacks? I’m sure not everyone always expects the unexpected.”\n",
        "     “They just got lucky.” He said ominously.\n",
        "     I couldn’t think of anything else to say, so I let the silence drape over us like a curtain of darkness. It was quiet. Too quiet.\n",
        "     Click. Clack.\n",
        "     I blinked and tried to will away the thought of the Click Clacks. The house was old, and the click clacks were probably just the creaks of the old house in the wind. The story had made me more apprehensive than I would admit. It was even making me hear things.\n",
        "     I felt a prickle along my spine, like spiders crawling. I had a feeling the boy was staring at me, even in the pitch blackness of the attic. There was a rustle as he moved, then I could feel his breath against my ear.\n",
        "     “But you didn’t.”\n",
        "     It was but a whisper, but it chilled me to my core. My heart pounded, and I couldn’t say a word. Reaching out towards the boy, I tried to grab him, but my hand just passed through air. The darkness seemed even more suffocating now.\n",
        "     Click. Clack.\n",
        "     I heard the tip-tap of footsteps, deafening in the silence. They came from all around me, cocooning me with the roar. It almost sounded like millions of spiders crawling towards me. I felt a huge presence emanating from behind me, but I couldn’t turn around. Even if I did, I wouldn’t have been able to see what it was. My instincts screamed at me to run, to hide, to do something to escape. But I knew I wouldn’t be able to make it through the door. I knew I had to stay still. I knew I wouldn’t be able to escape anyways.\n",
        "     Click. Clack.\n",
        "     Thousands of tiny eyes surrounded me, barely noticeable. The moment seemed to drag out for an eternity. Anticipation flooded my mind with horrifying images. My heart pounded. My eyes strained. My stomach roiled and I was hyper aware of every sound, every touch, every glint of light reflecting off the eyes. Then, I heard a whoosh. And the moment shattered.\n",
        "     The thing grabbed my arm just as I tried to get up and flee. It pulled me towards it and the spiders, yes, the eyes were spiders, closing in on me. I struggled. I twisted. I tried to bite. But nothing could get me out of its cold embrace.\n",
        "     Click. Clack.\n",
        "     The lights flickered on for a moment, and I saw a dark shadow, vaguely humanoid. Shadowy tendrils that were the spiders radiated off of it. That shadow was the thing. That, I now knew for certain, was a Click Clack. The lights flickered off again and I felt the Click Clack reach down its ‘head’. A bite. A scream. It hurt. I was scared. I was terrified. Light flooded the room. Then, all I could see was darkness.\n",
        "\n",
        "\"\"\"\n",
        "# click clack the rattlebag my ending\n",
        "YOURS2 = \"\"\" Mahmoud opened his eyes, still burning from the tear gas, and looked around. The Hungarian soldiers were still there, but the crowd had dispersed. He spotted many people heading away from the border, and those that didn’t, were taken by the soldiers to who-knows-where. Scanning his surroundings, he looked for Waleed and his parents, but they were nowhere to be seen.\n",
        "     There! He saw them, unconscious, being taken into Hungary by the soldiers. Mahmoud stood up with shaky knees and ran over, shouting “Wait! Please! Where are you taking them?”\n",
        "     As he approached, a soldier pushed him away, making Mahmoud stumble. “Why don’t you just let us go through Hungary? We don’t even want to stay! Please!” He shouted.\n",
        "     The soldier sighed, as if exasperated, and grabbed Mahmoud, pulling him to where they were taking his family. He noticed Waleed twitch, signaling that he was probably waking up.\n",
        "     “Waleed! Can you try to wake Mom and Dad up? I don’t know where they’re taking us!”\n",
        "     Waleed just shrugged, nodding towards his bound arms. “Who knows? Maybe they’re taking us to Austria.”\n",
        "     Mahmoud glared at his brother. “Do you think they would willingly help us?” He only received a halfhearted grunt in response. Defeated, Mahmoud struggled against the soldier who was half dragging, half leading him, but the soldier was far stronger and healthier than Mahmoud.\n",
        "     He ignored Mahmoud and led him towards a group of people who were also being detained. They were tied up and thrown into a van, and so was Mahmoud’s family. Struggling again, Mahmoud tried to free his hands unsuccessfully. He was manhandled into the van, and behind him, the door closed. Through the small window, he could see his surroundings move. They were headed back over the border.\n",
        "     Over the border, out of Hungary, and away from Germany.\n",
        "\n",
        "\"\"\"\n",
        "# when we were reading refugee\n",
        "\n",
        "THEIRS1 = \"\"\" AFTER THE MOVIE was over it suddenly came to us that Cherry and Marcia\n",
        "didn't have a way to get home. Two-Bit gallantly offered to walk them home--- the west\n",
        "side of town was only about twenty miles away--- but they wanted to call their parents\n",
        "and have them come and get them. Two-Bit finally talked them into letting us drive them\n",
        "home in his car. I think they were still half-scared of us. They were getting over it,\n",
        "though, as we walked to Two-Bit's house to pick up the car. It seemed funny to me that\n",
        "Socs--- if these girls were any example--- were just like us. They liked the Beatles and\n",
        "thought Elvis Presley was out, and we thought the Beatles were rank and that Elvis was\n",
        "tuff, but that seemed the only difference to me. Of course greasy girls would have acted a\n",
        "lot tougher, but there was a basic sameness. I thought maybe it was money that separated\n",
        "us.\n",
        "\"No,\" Cherry said slowly when I said this. \"It's not just money. Part of it is, but\n",
        "not all. You greasers have a different set of values. You're more emotional. We're\n",
        "sophisticated--- cool to the point of not feeling anything. Nothing is real with us. You\n",
        "know, sometimes I'll catch myself talking to a girl-friend, and realize I don't mean half of\n",
        "what I'm saying. I don't really think a beer blast on the river bottom is super-cool, but I'll\n",
        "rave about one to a girl-friend just to be saying something.\" She smiled at me. \"I never\n",
        "told anyone that. I think you're the first person I've ever really gotten through to.\"\n",
        "She was coming through to me all right, probably because I was a greaser, and\n",
        "younger; she didn't have to keep her guard up with me.\n",
        "\"Rat race is a perfect name for it,\" she said. \"We're always going and going and\n",
        "going, and never asking where. Did you ever hear of having more than you wanted? So\n",
        "that you couldn't want anything else and then started looking for something else to want?\n",
        "It seems like we're always searching for something to satisfy us, and never finding it.\n",
        "Maybe if we could lose our cool. we could.\"\n",
        "\"\"\"\n",
        "\n",
        "THEIRS2 = \"\"\" I WOKE UP LATE IN the afternoon. For a second I didn't know where I was.\n",
        "You know how it is, when you wake up in a strange place and wonder where in the world\n",
        "you are, until memory comes rushing over you like a wave. I half convinced myself that I\n",
        "had dreamed everything that had happened the night before. I'm really home in bed, I\n",
        "thought. It's late and both Darry and Sodapop are up. Darry's cooking breakfast, and in a\n",
        "minute he and Soda will come in and drag me out of bed and wrestle me down and tickle\n",
        "me until I think I'll die if they don't stop. It's me and Soda's turn to do the dishes after we\n",
        "eat, and then we'll all go outside and play football. Johnny and Two-Bit and I will get\n",
        "Darry on our side, since Johnny and I are so small and Darry's the best player. It'll go like\n",
        "the usual weekend morning. I tried telling myself that while I lay on the cold rock floor,\n",
        "wrapped up in Dally's jacket and listening to the wind rushing through the trees' dry\n",
        "leaves outside.\n",
        "Finally I quit pretending and pushed myself up. I was stiff and sore from sleeping\n",
        "on that hard floor, but I had never slept so soundly. I was still groggy. I pushed off\n",
        "Johnny's jeans jacket, which had somehow got thrown across me, and blinked, scratching\n",
        "my head. It was awful quiet, with just the sound of rushing wind in the trees. Suddenly I\n",
        "realized that Johnny wasn't there.\n",
        "\"Johnny?\" I called loudly, and that old wooden church echoed me, onny onny... I\n",
        "looked around wildly, almost panic-stricken, but then caught sight of some crooked\n",
        "lettering written in the dust of the floor. Went to get supplies. Be back soon. J.C.\n",
        "I sighed, and went to the pump to get a drink. The water from it was like liquid ice\n",
        "and it tasted funny, but it was water. I splashed some on my face and that woke me up\n",
        "pretty quick. I wiped my face off on Johnny's jacket and sat down on the back steps. The\n",
        "hill the church was on dropped off suddenly about twenty feet from the back door, and\n",
        "you could see for miles and miles. It was like sitting on the top of the world.\n",
        "\"\"\"\n",
        "# reading the outsiders for english right now...\n",
        "# WHY IS EVERYTHING HERE FROM E N G L I S H"
      ],
      "metadata": {
        "id": "bnbtW18FdGbe"
      },
      "execution_count": null,
      "outputs": []
    },
    {
      "cell_type": "code",
      "source": [
        "len(THEIRS2)"
      ],
      "metadata": {
        "id": "DBq9xxixhMCU",
        "colab": {
          "base_uri": "https://localhost:8080/"
        },
        "outputId": "7d783c24-a55e-4cd2-d04c-b85a9b5f28ba"
      },
      "execution_count": null,
      "outputs": [
        {
          "output_type": "execute_result",
          "data": {
            "text/plain": [
              "2037"
            ]
          },
          "metadata": {},
          "execution_count": 25
        }
      ]
    },
    {
      "cell_type": "code",
      "source": [
        "#\n",
        "# Here, run your punctuation-comparisons (absolute counts)\n",
        "#\n",
        "\n",
        "print(\"pun_all(YOURS1) is\", pun_all(YOURS1))\n",
        "print(\"pun_all(YOURS2) is\", pun_all(YOURS2))\n",
        "print(\"pun_all(THEIRS1) is\", pun_all(THEIRS1))\n",
        "print(\"pun_all(THEIRS2) is\", pun_all(THEIRS2))"
      ],
      "metadata": {
        "id": "LuPv_mZ5dVS-",
        "colab": {
          "base_uri": "https://localhost:8080/"
        },
        "outputId": "3f4e0635-8add-4295-bec5-b7e1eb0b2686"
      },
      "execution_count": null,
      "outputs": [
        {
          "output_type": "stream",
          "name": "stdout",
          "text": [
            "pun_all(YOURS1) is 118\n",
            "pun_all(YOURS2) is 62\n",
            "pun_all(THEIRS1) is 93\n",
            "pun_all(THEIRS2) is 71\n"
          ]
        }
      ]
    },
    {
      "cell_type": "code",
      "source": [
        "#\n",
        "# Here, run your punctuation-comparisons (relative, per-character counts)\n",
        "#\n",
        "print(\"punctuation per character in YOURS1 is\", pun_all(YOURS1)/len(YOURS1))\n",
        "print(\"punctuation per character in YOURS2 is\", pun_all(YOURS2)/len(YOURS2))\n",
        "print(\"punctuation per character in THEIRS1 is\", pun_all(THEIRS1)/len(THEIRS1))\n",
        "print(\"punctuation per character in THEIRS2 is\", pun_all(THEIRS2)/len(THEIRS2))"
      ],
      "metadata": {
        "id": "aa7OXaM3eIqO",
        "colab": {
          "base_uri": "https://localhost:8080/"
        },
        "outputId": "9407b624-0b86-40a9-9695-604116ef6b3f"
      },
      "execution_count": null,
      "outputs": [
        {
          "output_type": "stream",
          "name": "stdout",
          "text": [
            "punctuation per character in YOURS1 is 0.03432228039557882\n",
            "punctuation per character in YOURS2 is 0.03371397498640565\n",
            "punctuation per character in THEIRS1 is 0.046314741035856574\n",
            "punctuation per character in THEIRS2 is 0.03485517918507609\n"
          ]
        }
      ]
    },
    {
      "cell_type": "markdown",
      "source": [
        "If you'd like to try some additional stylistic-analysis, <br> see the \"Emotional Punctuation\" extra crdit (at the bottom of the notebook...)\n",
        "\n",
        "\n",
        "\n"
      ],
      "metadata": {
        "id": "_t4sXUfRs2g-"
      }
    },
    {
      "cell_type": "markdown",
      "source": [
        "### Next, we use list comprehensions for _analysis_:\n",
        "+ the number-guessing game\n",
        "+ the two-dice-rolling experiment (counting \"doubles\")\n",
        "+ the birthday-room experiment\n",
        "+ the Monty Hall (three-curtain) game, switch vs. stay...\n",
        "+ the random-walk **you'll analyze these**\n",
        "+ estimating pi **you'll _write_ and analyze these** !\n",
        "\n",
        "Onward!"
      ],
      "metadata": {
        "id": "jzQVp6yF6kgn"
      }
    },
    {
      "cell_type": "code",
      "source": [
        "#\n",
        "# Example while loop: the \"guessing game\"\n",
        "#\n",
        "\n",
        "from random import *\n",
        "\n",
        "def guess( hidden ):\n",
        "    \"\"\"\n",
        "        have the computer guess numbers until it gets the \"hidden\" value\n",
        "        return the number of guesses\n",
        "    \"\"\"\n",
        "    guess = hidden - 1      # start with a wrong guess + don't count it as a guess\n",
        "    number_of_guesses = 0   # start with no guesses made so far...\n",
        "\n",
        "    while guess != hidden:\n",
        "        #print(\"I guess\", guess)  # comment this out - avoid printing when analyzing!\n",
        "        guess = choice( range(0,100) )  # 0 to 99, inclusive\n",
        "        number_of_guesses += 1\n",
        "\n",
        "    return number_of_guesses\n",
        "\n",
        "# test our function!\n",
        "guess(42)"
      ],
      "metadata": {
        "id": "cTCBx52m6sCR",
        "colab": {
          "base_uri": "https://localhost:8080/"
        },
        "outputId": "98494824-59a6-4033-9c30-d50778b22c87"
      },
      "execution_count": null,
      "outputs": [
        {
          "output_type": "execute_result",
          "data": {
            "text/plain": [
              "68"
            ]
          },
          "metadata": {},
          "execution_count": 28
        }
      ]
    },
    {
      "cell_type": "code",
      "source": [
        "# Let's run 10 number-guessing experiments!\n",
        "\n",
        "L = [ guess(42) for i in range(10) ]\n",
        "print(L)\n",
        "\n",
        "# 10 experiments: let's see them!!"
      ],
      "metadata": {
        "id": "6Vc1kZxz6zwa",
        "colab": {
          "base_uri": "https://localhost:8080/"
        },
        "outputId": "65e1592e-78c8-4f9d-8435-775ab818b187"
      },
      "execution_count": null,
      "outputs": [
        {
          "output_type": "stream",
          "name": "stdout",
          "text": [
            "[67, 123, 49, 169, 39, 48, 254, 183, 33, 191]\n"
          ]
        }
      ]
    },
    {
      "cell_type": "code",
      "source": [
        "# Let's see what the average results were\n",
        "print(\"len(L) is\", len(L))\n",
        "ave = sum(L)/len(L)\n",
        "print(\"average is\", ave )\n",
        "\n",
        "# try min and max, count of 42's, count of 92's, etc.\n",
        "print(\"min(L) is\", min(L), \"and max(L) is\", max(L))\n",
        "has3 = ['3' for i in L if '3' in str(i)]\n",
        "print(\"number of numbers with 3 is\", len(has3))"
      ],
      "metadata": {
        "id": "aseFoD1P63US",
        "colab": {
          "base_uri": "https://localhost:8080/"
        },
        "outputId": "37165a1e-e5d5-467e-a838-206ec9ec1a66"
      },
      "execution_count": null,
      "outputs": [
        {
          "output_type": "stream",
          "name": "stdout",
          "text": [
            "len(L) is 10\n",
            "average is 115.6\n",
            "min(L) is 33 and max(L) is 254\n",
            "number of numbers with 3 is 4\n"
          ]
        }
      ]
    },
    {
      "cell_type": "markdown",
      "source": [
        "### Next, an example with our dice-rolling experiment..."
      ],
      "metadata": {
        "id": "OlW1n-SZ66kW"
      }
    },
    {
      "cell_type": "code",
      "source": [
        "#\n",
        "# Let's try again... with the dice-rolling experiment\n",
        "#\n",
        "\n",
        "from random import choice\n",
        "\n",
        "def count_doubles( num_rolls ):\n",
        "    \"\"\"\n",
        "        have the computer roll two six-sided dice, counting the # of doubles\n",
        "        (same value on both dice)\n",
        "        Then, return the number of doubles...\n",
        "    \"\"\"\n",
        "    numdoubles = 0       # start with no doubles so far...\n",
        "\n",
        "    for i in range(0,num_rolls):   # roll repeatedly: i keeps track\n",
        "        d1 = choice( [1,2,3,4,5,6] )  # 0 to 6, inclusive\n",
        "        d2 = choice( range(1,7) )     # 0 to 6, inclusive\n",
        "        if d1 == d2:\n",
        "            numdoubles += 1\n",
        "            you = \"🙂\"\n",
        "        else:\n",
        "            you = \" \"\n",
        "\n",
        "        #print(\"run\", i, \"roll:\", d1, d2, you, flush=True)\n",
        "        #time.sleep(.01)\n",
        "\n",
        "    return numdoubles\n",
        "\n",
        "# test our function!\n",
        "count_doubles(300)"
      ],
      "metadata": {
        "id": "9Qle_IDf7YTU",
        "colab": {
          "base_uri": "https://localhost:8080/"
        },
        "outputId": "3d1bc92c-17f3-4771-a9d9-3aec25d97d6a"
      },
      "execution_count": null,
      "outputs": [
        {
          "output_type": "execute_result",
          "data": {
            "text/plain": [
              "49"
            ]
          },
          "metadata": {},
          "execution_count": 31
        }
      ]
    },
    {
      "cell_type": "code",
      "source": [
        "L = [ count_doubles(300) for i in range(1000) ]\n",
        "print(\"doubles-counting: L[0:5] are\", L[0:5])\n",
        "print(\"doubles-counting: L[-5:] are\", L[-5:])\n",
        "#\n",
        "# Let's see what the average results were\n",
        "print(\"len(L) is\", len(L))\n",
        "ave = sum(L)/len(L)\n",
        "print(\"average is\", ave )\n",
        "\n",
        "# try min and max, count of 42's, count of 92's, etc.\n",
        "print(\"min(L) is\", min(L), \"and max(L) is\", max(L))\n",
        "more = ['m' for i in L if i > 60]\n",
        "print('# of #\\'s more than 60 is', len(more))"
      ],
      "metadata": {
        "id": "6tX-dj3m7hVW",
        "colab": {
          "base_uri": "https://localhost:8080/"
        },
        "outputId": "b9469245-47cb-42d4-9cde-89aa9b8eb147"
      },
      "execution_count": null,
      "outputs": [
        {
          "output_type": "stream",
          "name": "stdout",
          "text": [
            "doubles-counting: L[0:5] are [66, 51, 51, 49, 41]\n",
            "doubles-counting: L[-5:] are [41, 49, 50, 45, 43]\n",
            "len(L) is 1000\n",
            "average is 49.974\n",
            "min(L) is 32 and max(L) is 74\n",
            "# of #'s more than 60 is 45\n"
          ]
        }
      ]
    },
    {
      "cell_type": "markdown",
      "source": [
        "### Let's try the birthday-room..."
      ],
      "metadata": {
        "id": "YKyjzTAc7mHs"
      }
    },
    {
      "cell_type": "code",
      "source": [
        "\n",
        "# let's try our birthday-room experiment:\n",
        "\n",
        "from random import choice\n",
        "\n",
        "def birthday_room( days_in_year = 365 ):    # note: default input!\n",
        "    \"\"\"\n",
        "        run the birthday room experiment once!\n",
        "    \"\"\"\n",
        "    B = []\n",
        "    next_bday = choice( range(0,days_in_year) )\n",
        "\n",
        "    while next_bday not in B:\n",
        "        B += [ next_bday ]\n",
        "        next_bday = choice( range(0,days_in_year) )\n",
        "\n",
        "    B += [ next_bday ]\n",
        "    return B\n",
        "\n",
        "\n",
        "\n",
        "# test our three-curtain-game, many times:\n",
        "result = birthday_room()   # use the default value\n",
        "print(result)"
      ],
      "metadata": {
        "id": "cy-ChVtH7w98",
        "colab": {
          "base_uri": "https://localhost:8080/"
        },
        "outputId": "5b57a1b0-571a-47cf-d61a-ea1c80532cb9"
      },
      "execution_count": null,
      "outputs": [
        {
          "output_type": "stream",
          "name": "stdout",
          "text": [
            "[132, 146, 333, 332, 253, 30, 318, 122, 255, 30]\n"
          ]
        }
      ]
    },
    {
      "cell_type": "code",
      "source": [
        "\n",
        "L = [ len(birthday_room()) for i in range(1000) ]\n",
        "print(\"birthday room: L[0:5] are\", L[0:5])\n",
        "print(\"birthday room: L[-5:] are\", L[-5:])\n",
        "#\n",
        "# Let's see what the average results were\n",
        "print(\"len(L) is\", len(L))\n",
        "ave = sum(L)/len(L)\n",
        "print(\"average is\", ave )\n",
        "\n",
        "# try min and max, count of 42's, count of 92's, etc.\n",
        "print(\"min(L) is\", min(L), \"and max(L) is\", max(L))\n",
        "ten = ['t' for i in L if i < 10]\n",
        "print('less than 10:', len(ten))\n",
        "print('percentage less than 10:', (len(ten)/len(L))*100, '%')\n",
        "fifty = ['f' for i in L if i > 50]\n",
        "print('more than 50:', len(fifty))\n",
        "print('percentage more than 50:', (len(fifty)/len(L))*100, '%')"
      ],
      "metadata": {
        "id": "HZVqUUnS76MF",
        "colab": {
          "base_uri": "https://localhost:8080/"
        },
        "outputId": "87465e75-1f9a-4825-b220-ede11da8bb07"
      },
      "execution_count": null,
      "outputs": [
        {
          "output_type": "stream",
          "name": "stdout",
          "text": [
            "birthday room: L[0:5] are [17, 40, 45, 32, 20]\n",
            "birthday room: L[-5:] are [9, 12, 28, 20, 13]\n",
            "len(L) is 1000\n",
            "average is 25.241\n",
            "min(L) is 2 and max(L) is 76\n",
            "less than 10: 93\n",
            "percentage less than 10: 9.3 %\n",
            "more than 50: 39\n",
            "percentage more than 50: 3.9 %\n"
          ]
        }
      ]
    },
    {
      "cell_type": "markdown",
      "source": [
        "### The Monty-Hall (three-curtain) switch/stay challenge:"
      ],
      "metadata": {
        "id": "aTcC1Aa477EF"
      }
    },
    {
      "cell_type": "code",
      "source": [
        "#\n",
        "# Example Monte Carlo simulation: the Monte-Carlo Monte Hall paradox\n",
        "#\n",
        "\n",
        "from random import choice\n",
        "\n",
        "def count_wins( N, original_choice, stay_or_switch ):\n",
        "    \"\"\"\n",
        "        run the Monte Hall paradox N times, with\n",
        "        original_choice, which can be 1, 2, or 3 and\n",
        "        stay_or_switch, which can be \"stay\" or \"switch\"\n",
        "        Count the number of wins and return that number.\n",
        "    \"\"\"\n",
        "    numwins = 0       # start with no wins so far...\n",
        "\n",
        "    for i in range(1,N+1):      # run repeatedly: i keeps track\n",
        "        win_curtain = choice([1,2,3])   # the curtain with the grand prize\n",
        "        original_choice = original_choice      # just a reminder that we have this variable\n",
        "        stay_or_switch = stay_or_switch        # a reminder that we have this, too\n",
        "\n",
        "        result = \"\"\n",
        "        if original_choice == win_curtain and stay_or_switch == \"stay\": result = \" Win!!!\"\n",
        "        elif original_choice == win_curtain and stay_or_switch == \"switch\": result = \"lose...\"\n",
        "        elif original_choice != win_curtain and stay_or_switch == \"stay\": result = \"lose...\"\n",
        "        elif original_choice != win_curtain and stay_or_switch == \"switch\": result = \" Win!!!\"\n",
        "\n",
        "        #print(\"run\", i, \"you\", result, flush=True)\n",
        "        #time.sleep(.025)\n",
        "\n",
        "        if result == \" Win!!!\":\n",
        "            numwins += 1\n",
        "\n",
        "\n",
        "    return numwins\n",
        "\n",
        "# test our three-curtain-game, many times:\n",
        "count_wins(300, 1, \"stay\")"
      ],
      "metadata": {
        "id": "IaOvr7c17_OV",
        "outputId": "c2e540be-3575-482a-e53e-18aeff9d7ed4",
        "colab": {
          "base_uri": "https://localhost:8080/"
        }
      },
      "execution_count": null,
      "outputs": [
        {
          "output_type": "execute_result",
          "data": {
            "text/plain": [
              "115"
            ]
          },
          "metadata": {},
          "execution_count": 35
        }
      ]
    },
    {
      "cell_type": "code",
      "source": [
        "\n",
        "L = [ count_wins(300,1,\"stay\") for i in range(1000) ]\n",
        "print(\"curtain game: L[0:5] are\", L[0:5])\n",
        "print(\"curtain game: L[-5:] are\", L[-5:])\n",
        "#\n",
        "# Let's see what the average results were\n",
        "print(\"len(L) is\", len(L))\n",
        "ave = sum(L)/len(L)\n",
        "print(\"average is\", ave )\n",
        "\n",
        "# try min and max, count of 42's, count of 92's, etc.\n",
        "print(\"min(L) is\", min(L), \"and max(L) is\", max(L))\n",
        "third = ['h' for i in L if i < 100]\n",
        "print('less than a third won:', len(third))\n",
        "print('percentage less than a third won:', (len(third)/len(L))*100, '%')\n",
        "half = ['f' for i in L if i > 150]\n",
        "print('more than half won', len(half))\n",
        "print('percentage more than half won:', (len(half)/len(L))*100, '%')"
      ],
      "metadata": {
        "id": "bf68cWHx8BwX",
        "colab": {
          "base_uri": "https://localhost:8080/"
        },
        "outputId": "12ea1e93-5557-4797-9361-7cd41962d8bb"
      },
      "execution_count": null,
      "outputs": [
        {
          "output_type": "stream",
          "name": "stdout",
          "text": [
            "curtain game: L[0:5] are [93, 96, 96, 106, 99]\n",
            "curtain game: L[-5:] are [96, 98, 95, 89, 102]\n",
            "len(L) is 1000\n",
            "average is 99.864\n",
            "min(L) is 73 and max(L) is 124\n",
            "less than a third won: 490\n",
            "percentage less than a third won: 49.0 %\n",
            "more than half won 0\n",
            "percentage more than half won: 0.0 %\n"
          ]
        }
      ]
    },
    {
      "cell_type": "markdown",
      "source": [
        "## <b><font color=\"Coral\">Task #4</font></b>: Analyzing random walks of radius ``r``\n",
        "\n",
        "Here, the random-walk code is complete:"
      ],
      "metadata": {
        "id": "Xt65wY6E8EJl"
      }
    },
    {
      "cell_type": "code",
      "source": [
        "#\n",
        "# First, the random-walking code:\n",
        "#\n",
        "\n",
        "import random\n",
        "\n",
        "def rs():\n",
        "    \"\"\"One random step\"\"\"\n",
        "    return random.choice([-1, 1])\n",
        "\n",
        "def rwalk(radius):\n",
        "    \"\"\"Random walk between -radius and +radius  (starting at 0 by default)\"\"\"\n",
        "    totalsteps = 0          # Starting value of totalsteps (_not_ final value!)\n",
        "    start = 0               # Start location (_not_ the total # of steps)\n",
        "\n",
        "    while True:             # Run \"forever\" (really, until a return or break)\n",
        "        if start == -radius or start == radius:\n",
        "            return totalsteps # Phew!  Return totalsteps (stops the while loop)\n",
        "\n",
        "        start = start + rs()\n",
        "        totalsteps += 1     # addn totalsteps 1 (for all who miss Hmmm :-)\n",
        "\n",
        "        # print(\"at:\", start, flush=True) # To see what's happening / debugging\n",
        "        # ASCII = \"|\" + \"_\"*(start- -radius) + \"S\" + \"_\"*(radius-start) + \"|\"\n",
        "        # print(ASCII, flush=True) # To see what's happening / debugging\n",
        "\n",
        "    # it can never get here!\n",
        "\n",
        "# Let's test it:\n",
        "rwalk(5)   # walk randomly within our radius... until we hit a wall!"
      ],
      "metadata": {
        "id": "aUaJmE3D8QJ3",
        "colab": {
          "base_uri": "https://localhost:8080/"
        },
        "outputId": "6ad0fe11-b1c7-45c2-f1f1-f74e545da3b3"
      },
      "execution_count": null,
      "outputs": [
        {
          "output_type": "execute_result",
          "data": {
            "text/plain": [
              "27"
            ]
          },
          "metadata": {},
          "execution_count": 37
        }
      ]
    },
    {
      "cell_type": "markdown",
      "source": [
        "Your task: analyze the function ``rwalk`` for different values of the radius\n",
        "\n",
        "The next cell gets you started and asks the specific questions:"
      ],
      "metadata": {
        "id": "pCrrerSW8cnJ"
      }
    },
    {
      "cell_type": "code",
      "source": [
        "\n",
        "# Analyze!\n",
        "# create List Comprehensions that run rwalk(5) for 1000 times\n",
        "\n",
        "# Here is a starting example:\n",
        "L = [ rwalk(5) for i in range(1000) ]\n",
        "\n",
        "# then, find the average of those 1000 experiments for rwalk(5)\n",
        "average = sum(L)/len(L)\n",
        "print(\"The average for radius==5 (for 1000 trials) was\", average)\n",
        "\n",
        "\n",
        "# Next, try it for more values...\n",
        "# Then, you'll create a hypothesis about what's happening!\n",
        "\n"
      ],
      "metadata": {
        "id": "hHOPOnav8qyp",
        "colab": {
          "base_uri": "https://localhost:8080/"
        },
        "outputId": "d0cfe4bb-70ad-4a3c-8e4b-d50608422a15"
      },
      "execution_count": null,
      "outputs": [
        {
          "output_type": "stream",
          "name": "stdout",
          "text": [
            "The average for radius==5 (for 1000 trials) was 25.142\n"
          ]
        }
      ]
    },
    {
      "cell_type": "markdown",
      "source": [
        "#### <font color=\"Coral\"><b>Processes to try out</b></font>\n",
        "+ In the next cell, repeat the above for a radius of 6, 7, 8, 9, and 10\n",
        "+ It's fast to do:  Copy and paste and edit!!"
      ],
      "metadata": {
        "id": "6YttN3PVhOz8"
      }
    },
    {
      "cell_type": "code",
      "source": [
        "# Repeat the above for a radius of 6, 7, 8, 9, and 10\n",
        "# It's fast to do:  Copy and paste and edit!!\n",
        "\n",
        "L = [ rwalk(5) for i in range(1000) ]\n",
        "average = sum(L)/len(L)\n",
        "print(\"The average for radius==5 (for 1000 trials) was\", average)\n",
        "\n",
        "\n",
        "L = [ rwalk(6) for i in range(1000) ]\n",
        "average = sum(L)/len(L)\n",
        "print(\"The average for radius==6 (for 1000 trials) was\", average)"
      ],
      "metadata": {
        "id": "l8JZFP0W9TRp",
        "colab": {
          "base_uri": "https://localhost:8080/"
        },
        "outputId": "79fcc761-796b-465a-c3d0-4cfddb233a2d"
      },
      "execution_count": null,
      "outputs": [
        {
          "output_type": "stream",
          "name": "stdout",
          "text": [
            "The average for radius==5 (for 1000 trials) was 24.932\n",
            "The average for radius==6 (for 1000 trials) was 34.676\n"
          ]
        }
      ]
    },
    {
      "cell_type": "markdown",
      "source": [
        "#### <font color=\"Coral\"><b>Questions to answer</b></font>\n",
        "+ On average, how many steps does it seem to take to get \"to the edge\" when radius = r?\n",
        "<br> r<sup>2</sup>\n",
        "\n",
        "+ How far away from the start would you expect our walker to be after 49 steps? after 100 steps?\n",
        "<br> 49: 7 away\n",
        "<br> 100: 10 away\n",
        "+ How far away from the start would you expect our walker to be after STEPS steps?\n",
        "<br> $\\sqrt{STEPS}$\n",
        "\n",
        "<br>\n",
        "\n",
        "Feel free to answer these questions right in this cell:\n",
        "\n",
        "<br>\n",
        "<br>\n",
        "\n",
        "\n",
        "\n",
        "\n",
        "\n",
        "\n",
        "<br>\n",
        "<br>\n",
        "<br>\n",
        "<br>\n",
        "<br>"
      ],
      "metadata": {
        "id": "ju9ZVOtKg3hU"
      }
    },
    {
      "cell_type": "markdown",
      "source": [
        "<br>\n",
        "<hr>\n",
        "<br>\n",
        "\n",
        "# <b>Libraries!</b>\n",
        "\n",
        "Python's deepest strength is the expanse of its _human_-community... .\n",
        "\n",
        "That is reflected, first-and-foremost, in its amazing slate of _libraries_\n",
        "+ Each library is a set of Python files (and, sometimes, other languages) that humans have assembled to address a task or need (or for fun or for exploration or ...)\n",
        "+ The <tt>import</tt> statement is how we access these libraries.\n",
        "\n",
        "The examples below introduce the <tt>requests</tt> library and show off its ability - using Python - to \"scrape\" websites and make \"API calls\"\n",
        "+ To \"scrape\" usually means to \"request the source of a webpage\"\n",
        "+ To make \"API calls\" usually means to \"access some _advertised_ raw data\"\n",
        "\n",
        "The webpage we will scrape is [this simple one I made](https://www.cs.hmc.edu/~dodds/demo.html). (Yay!)\n",
        "\n",
        "The raw data we will access is from the [International Space Station's API](http://open-notify.org/Open-Notify-API/ISS-Location-Now/)...\n",
        "\n"
      ],
      "metadata": {
        "id": "QhOHmwdLYfqN"
      }
    },
    {
      "cell_type": "code",
      "source": [
        "#\n",
        "# see if we have the requests library...\n",
        "#\n",
        "\n",
        "import requests"
      ],
      "metadata": {
        "id": "bRflpUeWeXA5"
      },
      "execution_count": null,
      "outputs": []
    },
    {
      "cell_type": "code",
      "source": [
        "#\n",
        "# let's try it on a simple webpage\n",
        "#\n",
        "\n",
        "#\n",
        "# we assign the url and obtain the api-call result into result\n",
        "#    Note that result will be an object that contains many fields (not a simple string)\n",
        "#\n",
        "\n",
        "url = \"https://www.cs.hmc.edu/~dodds/demo.html\"\n",
        "result = requests.get(url)\n",
        "result\n",
        "\n",
        "# if it succeeded, you should see <Response [200]>\n",
        "# See the list of HTTP reponse codes for the full set!"
      ],
      "metadata": {
        "id": "7wYQAzd8ebPt",
        "colab": {
          "base_uri": "https://localhost:8080/"
        },
        "outputId": "09136952-8d06-491f-f97c-891d5525760d"
      },
      "execution_count": null,
      "outputs": [
        {
          "output_type": "execute_result",
          "data": {
            "text/plain": [
              "<Response [200]>"
            ]
          },
          "metadata": {},
          "execution_count": 41
        }
      ]
    },
    {
      "cell_type": "markdown",
      "source": [
        "[Here is Wikipedia's list of all HTTP response codes](https://en.wikipedia.org/wiki/List_of_HTTP_status_codes)\n",
        "+ 100's: information\n",
        "+ 200's: success           \n",
        "+ 300's: redirects\n",
        "+ 400's + 500's: errors\n",
        "\n",
        "Perhaps familiar:  404 <br>\n",
        "Especially fun:  418"
      ],
      "metadata": {
        "id": "2ICfZVIPedl7"
      }
    },
    {
      "cell_type": "code",
      "source": [
        "#\n",
        "# when exploring, you'll often obtain an unfamiliar object.\n",
        "# Here, we'll ask what type it is\n",
        "type(result)"
      ],
      "metadata": {
        "id": "vdlGB2y5eoPj",
        "colab": {
          "base_uri": "https://localhost:8080/",
          "height": 138
        },
        "outputId": "3bfdfec5-1e37-42cd-fa96-0be6332b77a3"
      },
      "execution_count": null,
      "outputs": [
        {
          "output_type": "execute_result",
          "data": {
            "text/plain": [
              "requests.models.Response"
            ],
            "text/html": [
              "<div style=\"max-width:800px; border: 1px solid var(--colab-border-color);\"><style>\n",
              "      pre.function-repr-contents {\n",
              "        overflow-x: auto;\n",
              "        padding: 8px 12px;\n",
              "        max-height: 500px;\n",
              "      }\n",
              "\n",
              "      pre.function-repr-contents.function-repr-contents-collapsed {\n",
              "        cursor: pointer;\n",
              "        max-height: 100px;\n",
              "      }\n",
              "    </style>\n",
              "    <pre style=\"white-space: initial; background:\n",
              "         var(--colab-secondary-surface-color); padding: 8px 12px;\n",
              "         border-bottom: 1px solid var(--colab-border-color);\"><b>requests.models.Response</b><br/>def __init__()</pre><pre class=\"function-repr-contents function-repr-contents-collapsed\" style=\"\"><a class=\"filepath\" style=\"display:none\" href=\"#\">/usr/local/lib/python3.11/dist-packages/requests/models.py</a>The :class:`Response &lt;Response&gt;` object, which contains a\n",
              "server&#x27;s response to an HTTP request.</pre>\n",
              "      <script>\n",
              "      if (google.colab.kernel.accessAllowed && google.colab.files && google.colab.files.view) {\n",
              "        for (const element of document.querySelectorAll('.filepath')) {\n",
              "          element.style.display = 'block'\n",
              "          element.onclick = (event) => {\n",
              "            event.preventDefault();\n",
              "            event.stopPropagation();\n",
              "            google.colab.files.view(element.textContent, 640);\n",
              "          };\n",
              "        }\n",
              "      }\n",
              "      for (const element of document.querySelectorAll('.function-repr-contents')) {\n",
              "        element.onclick = (event) => {\n",
              "          event.preventDefault();\n",
              "          event.stopPropagation();\n",
              "          element.classList.toggle('function-repr-contents-collapsed');\n",
              "        };\n",
              "      }\n",
              "      </script>\n",
              "      </div>"
            ]
          },
          "metadata": {},
          "execution_count": 42
        }
      ]
    },
    {
      "cell_type": "markdown",
      "source": [
        "How to access the data inside this object, ``result`` ?\n",
        "\n",
        "One way: [Head over to the online documentation](https://requests.readthedocs.io/en/latest/api/#requests.Response)\n",
        "\n",
        "In addition, you can \"look around\" in Python:\n",
        "\n",
        "Notice - the <tt>for</tt> loop! 😃"
      ],
      "metadata": {
        "id": "LMwyLARjeqZD"
      }
    },
    {
      "cell_type": "code",
      "source": [
        "# We can print all of the data members in an object with dir\n",
        "# Since dir returns a list, we will grab that list and loop over it:\n",
        "all_fields = dir(result)\n",
        "\n",
        "for field in all_fields:\n",
        "    if \"_\" not in field:\n",
        "        print(field)"
      ],
      "metadata": {
        "id": "p97FU0EoebxV",
        "colab": {
          "base_uri": "https://localhost:8080/"
        },
        "outputId": "1980d66f-7537-442f-c619-61a17bc249be"
      },
      "execution_count": null,
      "outputs": [
        {
          "output_type": "stream",
          "name": "stdout",
          "text": [
            "close\n",
            "connection\n",
            "content\n",
            "cookies\n",
            "elapsed\n",
            "encoding\n",
            "headers\n",
            "history\n",
            "json\n",
            "links\n",
            "next\n",
            "ok\n",
            "raw\n",
            "reason\n",
            "request\n",
            "text\n",
            "url\n"
          ]
        }
      ]
    },
    {
      "cell_type": "markdown",
      "source": [
        "Here, we will use <tt>f-strings</tt> to print four of the pieces of data inside <tt>result</tt>"
      ],
      "metadata": {
        "id": "ahi8U39Qe8ck"
      }
    },
    {
      "cell_type": "code",
      "source": [
        "#\n",
        "# Let's try printing a few of those fields (data members):\n",
        "print(f\"result.url         is {result.url}\")  # the original url\n",
        "print(f\"result.raw         is {result.raw}\")  # another object!\n",
        "print(f\"result.encoding    is {result.encoding}\")  # utf-8 is very common\n",
        "print(f\"result.status_code is {result.status_code}\")  # 200 is success!"
      ],
      "metadata": {
        "id": "6A_k2K_Oe79x",
        "colab": {
          "base_uri": "https://localhost:8080/"
        },
        "outputId": "c1c253d7-a728-422c-e40c-1b74925c5661"
      },
      "execution_count": null,
      "outputs": [
        {
          "output_type": "stream",
          "name": "stdout",
          "text": [
            "result.url         is https://www.cs.hmc.edu/~dodds/demo.html\n",
            "result.raw         is <urllib3.response.HTTPResponse object at 0x7add7d62d630>\n",
            "result.encoding    is ISO-8859-1\n",
            "result.status_code is 200\n"
          ]
        }
      ]
    },
    {
      "cell_type": "code",
      "source": [
        "# In this case, the result is a text file (HTML) Let's see it!\n",
        "contents = result.text\n",
        "print(contents)"
      ],
      "metadata": {
        "id": "h4NyWZh-fDLn",
        "colab": {
          "base_uri": "https://localhost:8080/"
        },
        "outputId": "a2fc8d5f-d7bd-4deb-a134-8d947bba2653"
      },
      "execution_count": null,
      "outputs": [
        {
          "output_type": "stream",
          "name": "stdout",
          "text": [
            "<html>\n",
            "  <head>\n",
            "    <title>My streamlined website</title>\n",
            "  </head>\n",
            "  <body>\n",
            "    <h1> Welcome! </h1>\n",
            "    <h2> The best numbers </h2>\n",
            "\n",
            "    <div id=\"numberlist\">\n",
            "      <ol>\n",
            "\t<li class=\"number\"> 35 </li>\n",
            "\t<li class=\"number\"> 42 </li>\n",
            "\t<li class=\"number\"> <a href=\"https://en.wikipedia.org/wiki/Rayo%27s_number\">Rayo's number</a> </li>\n",
            "      </ol>\n",
            "    </div>\n",
            "\n",
            "    <img src=\"./spam.jpg\" height=\"84px\">\n",
            "    <br><br>\n",
            "\n",
            "    <h2> The <s>only</s> best snacks </h2>\n",
            "\n",
            "    <div id=\"snacklist\">\n",
            "      <ul>\n",
            "\t<li class=\"snack\"> Poptarts </li>\n",
            "\t<li class=\"snack\"> Chocolate </li>\n",
            "\t<li class=\"snack\"> Coffee </li>\n",
            "      </ul>\n",
            "    </div>\n",
            "\n",
            "<!--    <a href=\"./demo_cat.html\">Aliens <3 cats!</a>  -->\n",
            "\n",
            "    <img src=\"./alien.png\" height=\"101px\">\n",
            "\n",
            "  </body>\n",
            "</html>\n",
            "\n",
            "\n",
            "\n",
            "\n"
          ]
        }
      ]
    },
    {
      "cell_type": "code",
      "source": [
        "# Yay!\n",
        "# This shows that you are able to \"scrape\" an arbitrary HTML page...\n",
        "\n",
        "# Now, we're off to more _structured_ data-gathering..."
      ],
      "metadata": {
        "id": "L3pQ7KNsfF8r"
      },
      "execution_count": null,
      "outputs": []
    },
    {
      "cell_type": "markdown",
      "source": [
        "#### Traversing the world - and web - <i>without a browser</i>.   \n",
        "\n",
        "<b>Using the ISS APIs</b>\n",
        "\n",
        "+ Here, you'll make some calls using `requests` to, first, the International Space Station API\n",
        "+ and, then, the US Geological Survey's earthquake API\n",
        "+ \"API\" is short for \"Application Programming Interface\"\n",
        "  + Admittedly, this is not a very informative name:\n",
        "  + The API is the set of services, which are functions and/or urls, provided by some software or site"
      ],
      "metadata": {
        "id": "7EViIbZ_fHc_"
      }
    },
    {
      "cell_type": "markdown",
      "source": [
        "Let's try it with the International Space Station api at [http://api.open-notify.org/iss-now.json](http://api.open-notify.org/iss-now.json)\n",
        "+ [This page has documentation on the ISS API](http://open-notify.org/Open-Notify-API/ISS-Location-Now/)"
      ],
      "metadata": {
        "id": "Ux6yqtZBfLQy"
      }
    },
    {
      "cell_type": "code",
      "source": [
        "#\n",
        "# we assign the url and obtain the api-call result into result\n",
        "#    Note that result will be an object that contains many fields (not a simple string)\n",
        "#\n",
        "\n",
        "import requests\n",
        "\n",
        "url = \"http://api.open-notify.org/iss-now.json\"   # this is sometimes called an \"endpoint\" ...\n",
        "result = requests.get(url)\n",
        "result\n",
        "\n",
        "# if it succeeds, you should see <Response [200]>"
      ],
      "metadata": {
        "id": "-m-JyBd7fJhU",
        "colab": {
          "base_uri": "https://localhost:8080/"
        },
        "outputId": "a437de0f-961c-4e09-d38c-fa103e07826a"
      },
      "execution_count": null,
      "outputs": [
        {
          "output_type": "execute_result",
          "data": {
            "text/plain": [
              "<Response [200]>"
            ]
          },
          "metadata": {},
          "execution_count": 47
        }
      ]
    },
    {
      "cell_type": "code",
      "source": [
        "#\n",
        "# Let's try printing those shorter fields from before:\n",
        "print(f\"result.url         is {result.url}\")  # the original url\n",
        "print(f\"result.raw         is {result.raw}\")  # another object!\n",
        "print(f\"result.encoding    is {result.encoding}\")  # utf-8 is very common\n",
        "print(f\"result.status_code is {result.status_code}\")  # 200 is success!"
      ],
      "metadata": {
        "id": "Du795XlBfPdQ",
        "colab": {
          "base_uri": "https://localhost:8080/"
        },
        "outputId": "c1550319-df6e-4d43-da39-a10a564c50ef"
      },
      "execution_count": null,
      "outputs": [
        {
          "output_type": "stream",
          "name": "stdout",
          "text": [
            "result.url         is http://api.open-notify.org/iss-now.json\n",
            "result.raw         is <urllib3.response.HTTPResponse object at 0x7add7d62fbb0>\n",
            "result.encoding    is utf-8\n",
            "result.status_code is 200\n"
          ]
        }
      ]
    },
    {
      "cell_type": "code",
      "source": [
        "#\n",
        "# In this case, we know the result is a JSON file, and we can obtain it that way:\n",
        "json_contents = result.json()\n",
        "print(json_contents)\n",
        "\n",
        "# Remember:  json_contents will be a _dictionary_"
      ],
      "metadata": {
        "id": "Dne0gFhHfQQk",
        "colab": {
          "base_uri": "https://localhost:8080/"
        },
        "outputId": "f5f6e9f5-9812-4e3d-aec9-4e5a3975385c"
      },
      "execution_count": null,
      "outputs": [
        {
          "output_type": "stream",
          "name": "stdout",
          "text": [
            "{'iss_position': {'latitude': '-47.4815', 'longitude': '-152.3876'}, 'message': 'success', 'timestamp': 1741565510}\n"
          ]
        }
      ]
    },
    {
      "cell_type": "code",
      "source": [
        "#\n",
        "# Let's see how dictionaries work:\n",
        "\n",
        "json_contents['message']\n",
        "\n",
        "# thought experiment:  could we access the other components? What _types_ are they?!!"
      ],
      "metadata": {
        "id": "UQWuhT4MfTwS",
        "colab": {
          "base_uri": "https://localhost:8080/",
          "height": 35
        },
        "outputId": "895a3269-151b-42a6-be48-da86d97f06fa"
      },
      "execution_count": null,
      "outputs": [
        {
          "output_type": "execute_result",
          "data": {
            "text/plain": [
              "'success'"
            ],
            "application/vnd.google.colaboratory.intrinsic+json": {
              "type": "string"
            }
          },
          "metadata": {},
          "execution_count": 50
        }
      ]
    },
    {
      "cell_type": "markdown",
      "source": [
        "## JSON\n",
        "\n",
        "####  Let's make a brief JSON visit in Python\n",
        "\n",
        "In Python, the curly braces <tt>{</tt> and <tt>}</tt> show that data is in a ***dictionary***\n",
        "\n",
        "Dictionaries are much more flexible than lists!\n",
        "\n",
        "Alas, that means they are more complex:"
      ],
      "metadata": {
        "id": "QsuRZkTKfg-I"
      }
    },
    {
      "cell_type": "code",
      "source": [
        "# JSON is a javascript dictionary format -- almost the same as a Python dictionary:\n",
        "data = { 'key':'value',  'fave':42,  'list':[5,6,7,{'mascot':'Aliiien'}] }\n",
        "print(data)"
      ],
      "metadata": {
        "id": "nKo1OS5gfhri",
        "colab": {
          "base_uri": "https://localhost:8080/"
        },
        "outputId": "8007b103-ccff-4d63-a6f6-84c494692aa1"
      },
      "execution_count": null,
      "outputs": [
        {
          "output_type": "stream",
          "name": "stdout",
          "text": [
            "{'key': 'value', 'fave': 42, 'list': [5, 6, 7, {'mascot': 'Aliiien'}]}\n"
          ]
        }
      ]
    },
    {
      "cell_type": "code",
      "source": [
        "data['list']\n"
      ],
      "metadata": {
        "colab": {
          "base_uri": "https://localhost:8080/"
        },
        "id": "94KNlCpqFqgr",
        "outputId": "d63be91e-c577-4f3d-deda-4b00165b8b8a"
      },
      "execution_count": null,
      "outputs": [
        {
          "output_type": "execute_result",
          "data": {
            "text/plain": [
              "[5, 6, 7, {'mascot': 'Aliiien'}]"
            ]
          },
          "metadata": {},
          "execution_count": 52
        }
      ]
    },
    {
      "cell_type": "code",
      "source": [
        "data['list'][3]['mascot']\n"
      ],
      "metadata": {
        "colab": {
          "base_uri": "https://localhost:8080/",
          "height": 35
        },
        "id": "Icd8BN3AF0Cv",
        "outputId": "a6a114a0-6449-46dc-fd7c-b76cdc057bb6"
      },
      "execution_count": null,
      "outputs": [
        {
          "output_type": "execute_result",
          "data": {
            "text/plain": [
              "'Aliiien'"
            ],
            "application/vnd.google.colaboratory.intrinsic+json": {
              "type": "string"
            }
          },
          "metadata": {},
          "execution_count": 53
        }
      ]
    },
    {
      "cell_type": "markdown",
      "source": [
        "Most of the time this will be done for us by the ``requests`` library. So, we will simply receive the dictionary of data sent.\n",
        "\n",
        "Then, the trick is to \"extract\" the data fragments we want. (Sometimes it feels like forensics - or archaeology!) Try excavating items one **layer** at a time..."
      ],
      "metadata": {
        "id": "UUlgOVTRf3O-"
      }
    },
    {
      "cell_type": "markdown",
      "source": [
        "#### Remember: &nbsp; <i>not</i> every url returns json data...\n",
        "+ The url [https://www.cs.hmc.edu/~dodds/demo.html](https://www.cs.hmc.edu/~dodds/demo.html) returns a plain-text file with _markup_ text\n",
        "+ that is to say, with HTML tags, such as `<title>Title</title>` to designate the components of its content\n",
        "+ HTML stands for _hypertext markup language_   \n",
        "+ Often anything with tags similar to `<b>be bold!</b>` is called \"markup.\"\n",
        "\n",
        "Let's try our 5C homepages: they're HTML, not JSON:"
      ],
      "metadata": {
        "id": "n2ydEX9qf5u0"
      }
    },
    {
      "cell_type": "code",
      "source": [
        "#\n",
        "# here, we will obtain plain-text results from a request\n",
        "# url = \"https://www.cs.hmc.edu/~dodds/demo.html\"  # try it + source\n",
        "# url = \"https://www.scrippscollege.edu/\"          # another possible site... 403\n",
        "# url = \"https://www.pitzer.edu/\"                  # another possible site... 200\n",
        "# url = \"https://www.cmc.edu/\"                     # and another!             200\n",
        "# url = \"https://www.cgu.edu/\"                       # Yay CGU!               403\n",
        "result = requests.get(url)\n",
        "print(f\"result is {result}\")        # Question: is the result a \"200\" response?!"
      ],
      "metadata": {
        "id": "PWb8L8DXgH0e",
        "colab": {
          "base_uri": "https://localhost:8080/"
        },
        "outputId": "c585b3ee-5491-4d26-be2d-7980f44aa8a7"
      },
      "execution_count": null,
      "outputs": [
        {
          "output_type": "stream",
          "name": "stdout",
          "text": [
            "result is <Response [200]>\n"
          ]
        }
      ]
    },
    {
      "cell_type": "markdown",
      "source": [
        "#### For the moment, we will focus on API calls providing JSON\n",
        "+ We're reading-aligned, as we should be!\n",
        "+ The open-ended problem (the finale in this notebook) offers the _option_ of using raw html -- up to you...\n",
        "\n",
        "<br>\n",
        "\n",
        "<b>Let's try another ISS \"endpoint\" ~ one with all of the <i>people</i> in space.</b>\n",
        "\n",
        "It's at this url:  [http://api.open-notify.org/astros.json](http://api.open-notify.org/astros.json)"
      ],
      "metadata": {
        "id": "vkiBGFRrgFpp"
      }
    },
    {
      "cell_type": "code",
      "source": [
        "#\n",
        "# we assign the url and use requests.get to obtain the result into result_astro\n",
        "#\n",
        "#    Remember, result_astro will be an object that contains many fields (not a simple string)\n",
        "#\n",
        "\n",
        "import requests\n",
        "\n",
        "url = \"http://api.open-notify.org/astros.json\"   # this is sometimes called an \"endpoint\" ...\n",
        "result_astro = requests.get(url)\n",
        "result_astro\n",
        "\n",
        "# if it succeeded, you should see <Response [200]>"
      ],
      "metadata": {
        "id": "sH86gZ2Lf4Gc",
        "colab": {
          "base_uri": "https://localhost:8080/"
        },
        "outputId": "8f923b71-2308-4340-bbea-90f9bf707f30"
      },
      "execution_count": null,
      "outputs": [
        {
          "output_type": "execute_result",
          "data": {
            "text/plain": [
              "<Response [200]>"
            ]
          },
          "metadata": {},
          "execution_count": 55
        }
      ]
    },
    {
      "cell_type": "code",
      "source": [
        "# If the request succeeded, we know the result is a JSON file, and we can obtain it that way.\n",
        "# Let's call our dictionary something more specific:\n",
        "\n",
        "astronauts = result_astro.json()\n",
        "print(astronauts)\n",
        "\n",
        "d = astronauts     # shorter to type\n",
        "\n",
        "# Remember:  astronauts will be a _dictionary_\n",
        "\n",
        "note = \"\"\" here's yesterday evening's result - it _should_ be the same this morning!\n",
        "\n",
        "{\"people\": [{\"craft\": \"ISS\", \"name\": \"Oleg Kononenko\"}, {\"craft\": \"ISS\", \"name\": \"Nikolai Chub\"},\n",
        "{\"craft\": \"ISS\", \"name\": \"Tracy Caldwell Dyson\"}, {\"craft\": \"ISS\", \"name\": \"Matthew Dominick\"},\n",
        "{\"craft\": \"ISS\", \"name\": \"Michael Barratt\"}, {\"craft\": \"ISS\", \"name\": \"Jeanette Epps\"},\n",
        "{\"craft\": \"ISS\", \"name\": \"Alexander Grebenkin\"}, {\"craft\": \"ISS\", \"name\": \"Butch Wilmore\"},\n",
        "{\"craft\": \"ISS\", \"name\": \"Sunita Williams\"}, {\"craft\": \"Tiangong\", \"name\": \"Li Guangsu\"},\n",
        "{\"craft\": \"Tiangong\", \"name\": \"Li Cong\"}, {\"craft\": \"Tiangong\", \"name\": \"Ye Guangfu\"}],\n",
        "\"number\": 12, \"message\": \"success\"}\n",
        "\"\"\""
      ],
      "metadata": {
        "id": "W0ePlL0FgZbE",
        "colab": {
          "base_uri": "https://localhost:8080/"
        },
        "outputId": "98ee2519-8a30-46bc-f41e-6270bb11b0da"
      },
      "execution_count": null,
      "outputs": [
        {
          "output_type": "stream",
          "name": "stdout",
          "text": [
            "{'people': [{'craft': 'ISS', 'name': 'Oleg Kononenko'}, {'craft': 'ISS', 'name': 'Nikolai Chub'}, {'craft': 'ISS', 'name': 'Tracy Caldwell Dyson'}, {'craft': 'ISS', 'name': 'Matthew Dominick'}, {'craft': 'ISS', 'name': 'Michael Barratt'}, {'craft': 'ISS', 'name': 'Jeanette Epps'}, {'craft': 'ISS', 'name': 'Alexander Grebenkin'}, {'craft': 'ISS', 'name': 'Butch Wilmore'}, {'craft': 'ISS', 'name': 'Sunita Williams'}, {'craft': 'Tiangong', 'name': 'Li Guangsu'}, {'craft': 'Tiangong', 'name': 'Li Cong'}, {'craft': 'Tiangong', 'name': 'Ye Guangfu'}], 'number': 12, 'message': 'success'}\n"
          ]
        }
      ]
    },
    {
      "cell_type": "markdown",
      "source": [
        "This is pretty intricate. Let's try unpacking this - _parsing it_ - with an in-class break-out challenge."
      ],
      "metadata": {
        "id": "0jtQGFX3gdj_"
      }
    },
    {
      "cell_type": "code",
      "source": [
        "# use this cell for the in-class challenges, which will be\n",
        "#    (1) to extract the value 12 from the dictionary d\n",
        "d['number']\n",
        "#    (2) to extract the name \"Sunita Williams\" from the dictionary d\n",
        "d['people'][8]['name']"
      ],
      "metadata": {
        "id": "iVA69g64dWZ_",
        "colab": {
          "base_uri": "https://localhost:8080/",
          "height": 35
        },
        "outputId": "2886d00d-de6f-4b47-f0ff-cd2e0ff2662a"
      },
      "execution_count": null,
      "outputs": [
        {
          "output_type": "execute_result",
          "data": {
            "text/plain": [
              "'Sunita Williams'"
            ],
            "application/vnd.google.colaboratory.intrinsic+json": {
              "type": "string"
            }
          },
          "metadata": {},
          "execution_count": 57
        }
      ]
    },
    {
      "cell_type": "markdown",
      "source": [
        "#### <font color=\"Coral\"><b>Astronaut challenges!</b></font>\n",
        "+ use the above example to extract <tt>\"Jeanette Epps\"</tt> from the data in the dictionary <tt>d</tt>\n",
        "+ use the above example to extract the string <tt>\"ok\"</tt> from the data in the dictionary <tt>d</tt>. <b>Hint</b>: use the name <tt>\"Nikolai Chub\"</tt>"
      ],
      "metadata": {
        "id": "Y8SR9ePvdZYD"
      }
    },
    {
      "cell_type": "code",
      "source": [
        "# use this cell - based on the example above - to share your solutions to the Astronaut challenges...\n",
        "d['people'][5]['name']\n",
        "d['people'][0]['name'][:-3:-1]"
      ],
      "metadata": {
        "id": "sBALADkjeRrL",
        "colab": {
          "base_uri": "https://localhost:8080/",
          "height": 35
        },
        "outputId": "416d45d4-6cd5-4bfc-d3c5-fa1306737f77"
      },
      "execution_count": null,
      "outputs": [
        {
          "output_type": "execute_result",
          "data": {
            "text/plain": [
              "'ok'"
            ],
            "application/vnd.google.colaboratory.intrinsic+json": {
              "type": "string"
            }
          },
          "metadata": {},
          "execution_count": 58
        }
      ]
    },
    {
      "cell_type": "markdown",
      "source": [
        "#### <font color=\"Coral\"><b>Your-own API-call and webscraping challenge!</b></font>\n",
        "+ There are two parts of this challenge:\n",
        "+ find another API, and then\n",
        "  + make a programmatic call to that API\n",
        "  + and extract a piece of data -- of your choice -- from the results\n",
        "  + and print it out (with context)\n",
        "+ then, find a _plain_ webpage that allows scraping\n",
        "  + scrape that page\n",
        "  + and print out the source!\n",
        "  + <b><font color=\"DodgerBlue\">  extra credit </b></font> &nbsp;&nbsp; for extracting an interesting piece of information from the page -- for example, using slicing, or using the <tt>find</tt> function.\n",
        "\n",
        "\n",
        "<br>\n",
        "\n",
        "You've done it! You've both\n",
        "+ used an API (an application programming interface, which provided a JSON), and\n",
        "+ scraped a webpage (the source of a page that you'd see in a browser)\n",
        "\n",
        "Congrats!!\n",
        "\n",
        "<br>\n",
        "<hr>\n",
        "<br>\n",
        "\n",
        "The final part of the notebook investigates the ***ethics*** of API calling and webscraping."
      ],
      "metadata": {
        "id": "6_n8Pys9eXt1"
      }
    },
    {
      "cell_type": "code",
      "source": [
        "#\n",
        "# use this cell for your API call - and data-extraction\n",
        "#\n",
        "url = 'https://catfact.ninja/facts?page=31'\n",
        "result_url = requests.get(url)\n",
        "result_url\n",
        "cat = result_url.json()\n",
        "print('Why happy cats are good: \"', cat['data'][9]['fact'], '\"', sep='')"
      ],
      "metadata": {
        "id": "xs0Dapv7gHBI",
        "colab": {
          "base_uri": "https://localhost:8080/"
        },
        "outputId": "800e8441-27a2-47f5-ce2a-29e59ac5497a"
      },
      "execution_count": null,
      "outputs": [
        {
          "output_type": "stream",
          "name": "stdout",
          "text": [
            "Why happy cats are good: \"A cat has the power to sometimes heal themselves by purring. A domestic cat's purr has a frequency of between 25 and 150 Hertz, which happens to be the frequency at which muscles and bones best grow and repair themselves. \"\n"
          ]
        }
      ]
    },
    {
      "cell_type": "code",
      "source": [
        "#\n",
        "# use this cell for your webscraping call - optional data-extraction\n",
        "#\n",
        "url = 'https://tilde.pt/~fimdomeio/index2.html'\n",
        "result_url = requests.get(url)\n",
        "type(result_url)\n",
        "contents = result_url.text\n",
        "print(contents)"
      ],
      "metadata": {
        "id": "hDPHHDwZgJLx",
        "colab": {
          "base_uri": "https://localhost:8080/"
        },
        "outputId": "3fa091de-8b0d-4279-9788-79ed74c15606"
      },
      "execution_count": null,
      "outputs": [
        {
          "output_type": "stream",
          "name": "stdout",
          "text": [
            "<!DOCTYPE html>\n",
            "4:q:q\n",
            "<html lang=\"en\" v=\"0.5\">\n",
            "\t<head>\n",
            "\t\t<meta charset=\"UTF-8\">\n",
            "\t\t<meta name=\"copyright\" content=\"by fimdomeio. All content under CC0 license\">\n",
            "\t\t<title>Web 0.5</title>\n",
            "\t\t<style>\n",
            "  body {\n",
            "\tfont-family: monospace;\n",
            "}\n",
            "      body:after  {\n",
            "\t      position: fixed;\n",
            "\t      content: \"this is a web 0.5 site. Your browser is way to powerful for this. Runs best in text only browser.\";\n",
            "\t      top: 0;\n",
            "\t      left: 0;\n",
            "\t      right: 0;\n",
            "\t      bottom: 0;\n",
            "\t      background:black;\n",
            "\t      color: white;\n",
            "      }\n",
            "\t\t</style>\n",
            "\t</head>\n",
            "\t<body>\n",
            "\t\t<nav>\n",
            "\t\t\t<ul>\n",
            "\t\t\t\t<li><a href=\"index.html\">home</a></li>\n",
            "\t\t\t\t<li><a href=\"webring.html\">webring</a></li>\n",
            "\n",
            "\t\t\t</ul>\n",
            "\t\t</nav>\n",
            "\t\t<h1>Welcome to the web 0.5</h1>\n",
            "\n",
            "\t\t<p>I've seen people daydreaming about the lost spirit of the web of 90's. This is something even better (or worse depending on how you look at it).</p>\n",
            "\t\t<p>This is an experiment. Is it possible to build a community of people around a one simple block for regular browsers?</p>\n",
            "\n",
            "\t\t<h2>How do I join the network?</h2>\n",
            "\t\t<p>Just copy this page and then change contents but keep the css and make it your own. This is just basic html, nothing complex. Host it wherever you want. Send me a mail to alexandre@fimdomeio.com with a title and a link and I'll add it to the <a href=\"/webring.html\">webring of known web 0.5 sites</a>. I'll add any link unless I'm legally unable to do so. I reserve the right to add a comment if I morally object some content.</p>\n",
            "\n",
            "\t\t<p>Rules for belonging are:</p>\n",
            "\t\t<ul>\n",
            "\t\t\t<li>All content is under <a href=\"https://creativecommons.org/publicdomain/zero/1.0/legalcode.txt\">CC0 [RWTO]</a> License.</li>\n",
            "\t\t\t<li>Links to the outside web should be followed by [RW] <i>Regular Web</i>, or [RWTO] <i>Regular Web text only</i>.</li>\n",
            "\t\t\t<li>No css other than the one included to prevent normal browsers from showing the contents</li>\n",
            "\t\t\t<li>No javascript</li>\n",
            "\t\t\t<li>You can set cookies to keep user sessions</li>\n",
            "\t\t\t<li>No images. You can provide a downloadable archives to override this limitation.</li>\n",
            "\t\t\t<li>Don't be evil, use the regular web for that please.</li>\n",
            "\t\t</ul>\n",
            "\n",
            "\t\t<p>My Personal recomendation is to keep it simple. Not having to deal with most of technical bagage involved in creating a web page can be a very liberating experience.</p>\n",
            "\n",
            "\t</body>\n",
            "</html>\n",
            "\n",
            "\n"
          ]
        }
      ]
    },
    {
      "cell_type": "code",
      "source": [
        "print('this is what happened when I clicked on it TwT:', contents[292:389])\n",
        "print('amazing advice:', contents[2032:2083])"
      ],
      "metadata": {
        "colab": {
          "base_uri": "https://localhost:8080/"
        },
        "id": "KAkGVGGqj_zp",
        "outputId": "ce727f74-aa4a-472d-dd25-65a219908bb6"
      },
      "execution_count": null,
      "outputs": [
        {
          "output_type": "stream",
          "name": "stdout",
          "text": [
            "this is what happened when I clicked on it TwT: this is a web 0.5 site. Your browser is way to powerful for this. Runs best in text only browser.\n",
            "amazing advice: Don't be evil, use the regular web for that please.\n"
          ]
        }
      ]
    },
    {
      "cell_type": "markdown",
      "source": [
        "#### You have a great start with libraries!\n",
        "\n",
        "We'll return to do more in future weeks...\n",
        "+ You might create a final project that involves scraping or API calls!\n",
        "+ It's increasingly common as more and more of our interactions are via browsers, the path to automation is via <tt>requests</tt>, _API calls_, and \"scraping\" ...\n",
        "\n",
        "As one dramatic example, **ChatGPT**'s entire knowledgebase is scraped from the web!"
      ],
      "metadata": {
        "id": "OMZB8Id4ge78"
      }
    },
    {
      "cell_type": "markdown",
      "source": [
        "<br>\n",
        "<hr>\n",
        "<br>\n",
        "\n",
        "# <b>Reading</b> this week\n",
        "\n",
        "<i>(When) Is webscraping legal and/or ethical?</i>\n",
        "\n",
        "<br>\n",
        "\n",
        "This week's reading includes \"1++\" short articles - about libraries, API calls, and webscraping. They investigate _what's ethical_ and _what's not_ ...\n",
        "\n",
        "<br>\n",
        "\n",
        "The first article  is entitled, [\"Is Web Scraping Ethical,\"](https://scrapeops.io/web-scraping-playbook/ethics-of-web-scraping/) by ScrapeOps.io. They're not impartial: they're a webscraping-tools company!\n",
        "\n",
        "<br>\n",
        "\n",
        "The \"+\" is the Facebook/Meta Terms of Service. (Perhaps that makes it \"+1\" instead of \"1+\"?)  This is  ***not***  asking you to read the whole document! Rather, this is specifically [Section 3, Subsection 2 \"What you can share and do on Meta Products.\"](https://www.facebook.com/terms/?section_id=section_3)  It's relatively short: it's one \"screenful.\"  \n",
        "\n",
        "<br>\n",
        "\n",
        "A second \"+\" is the following flowchart, by Sophie Chou of the MIT Media Lab and Pro Publica. Her original article was scraped (!?) by the Wayback Machine and so is available from there, as well.\n",
        "\n",
        "<br>\n",
        "\n",
        "<img src=\"https://www.storybench.org/wp-content/uploads/2016/04/flowchart_final.jpeg\">\n",
        "\n",
        "<br>\n",
        "\n",
        "Then, in response to these resources, reflect on any one or more of these three prompts:   \n",
        "+ (Prompt A) Look over Sophie Chiu's \"Should you scrape?\" flowchart. Find one decision node that you particularly agree -- or disagree -- with. Elaborate on why. (Feel free to note whether you feel this hw is keeping to the chart!)  \n",
        "+ (Prompt B) At the end of the first article there is a set of \"Principles for Responsible Scraping\" Looking that over, find one principle you particularly agree -- or disagree -- with and elaborate on why.\n",
        "+ (Prompt C) Having read some of Facebook's ToS, consider its stated requirement 3.2.3:  \"You may not access or collect data from our Products using automated means (without our prior permission).\"  Elaborate on what you think is included in the phrase \"automated means\" -- as well as what that phrase doesn't include.   \n",
        "\n",
        "As with each week's reading, responses should be carefully considered, but need not be very long (~5 or so sentences is wonderful).  \n"
      ],
      "metadata": {
        "id": "KcRkHHe_d0hP"
      }
    },
    {
      "cell_type": "markdown",
      "source": [
        "<br>\n",
        "<hr>\n",
        "<br>\n",
        "\n",
        "Feel free to use this cell for your thoughts on the ethics/fairness of webscraping:\n",
        "\n",
        "<br>\n",
        "<br>\n",
        "\n",
        "Prompt C: I think 'automated means' is when something takes things from the site when a person is not there to do it themselves. This would include writing code to do it for you, since a person is not actuallllllllly there to get the information themselves. However, using the browser to access the information is not 'automated', because, even thouuuuuuugh it is through whatever the browser is doing, the person is still physically controlling when and how to interact with the page. I think that as long as the person is doing at least most of the work and not relying on something else to do access and evaluate the information for them, then it is not 'automated', so webscraping would probably be considered 'automated'. (still kinda confused on what exactly it is though, even after much internet surfing)\n",
        "\n",
        "\n",
        "\n",
        "\n",
        "<br>\n",
        "<br>\n",
        "<hr>\n",
        "<br>\n",
        "I keep accidentally adding extra letters so I decided to just go with the flow :D"
      ],
      "metadata": {
        "id": "v4LH9D6UeGKO"
      }
    },
    {
      "cell_type": "markdown",
      "source": [
        "### **Congrats!**\n",
        "\n",
        "You have pulled together some of Python's most powerful - and most popular - features:\n",
        "+ to write functions that score different properties of interest\n",
        "  + vowels, scrabble scores, punctuation, ...\n",
        "  + pretty much anything you might need to measure is expressible using the list-comprehension strategy\n",
        "+ to use those functions in the analysis of authentic data (the prose)\n",
        "+ and to use those functions to run simulations and analyze the results!\n",
        "\n",
        "<br>"
      ],
      "metadata": {
        "id": "nKiRFkmIdubH"
      }
    },
    {
      "cell_type": "markdown",
      "source": [
        "# Submitting...\n",
        "\n",
        "Be sure to submit the url of _your_ copy -- with the challenges, questions, and programs composed --\n",
        "+ to Canvas in the appropriate spot\n",
        "+ by the appropriate Friday evening at 11:42pm\n",
        "+ shared with me (ZD)  ``zdodds@gmail.com``\n",
        "\n",
        "Remember that there are office-hours available, with me - and with CGU's Python tutor(s), as well!\n",
        "\n",
        "<br>\n",
        "\n",
        "\n",
        "As a reminder, the programming parts of Sci10 match the spirit of the course, in seeking, among other things:\n",
        "+ creativity/novelty\n",
        "+ personalization/individual context\n",
        "+ exploration and understanding (does it run?)"
      ],
      "metadata": {
        "id": "rNHGo2zHWUuo"
      }
    },
    {
      "cell_type": "markdown",
      "source": [
        "# <font color=\"DodgerBlue\"><b>Extra Credit</b></font>: pi-estimation challenge!"
      ],
      "metadata": {
        "id": "_hp27Xav6jAy"
      }
    },
    {
      "cell_type": "markdown",
      "source": [
        "### <font color=\"darkblue\"><b>Extra credit</b></font>: Estimating pi from \"pie\" ...\n",
        "\n",
        "\n",
        "Really, it's estimating pi from a circle!\n",
        "\n",
        "This is extra credit (up to +10) and _totally optional_ ...\n",
        "\n",
        "We'll motivate it in class, in one of the two weeks before this is due. 😀\n",
        "\n"
      ],
      "metadata": {
        "id": "BxwKcw4TePg2"
      }
    },
    {
      "cell_type": "code",
      "source": [
        "\n",
        "#\n",
        "# throwing a single dart\n",
        "#\n",
        "\n",
        "import random\n",
        "\n",
        "def dart():\n",
        "    \"\"\"Throws one dart between (-1,-1) and (1,1).\n",
        "       Returns True if it lands in the unit circle; otherwise, False.\n",
        "    \"\"\"\n",
        "    x = random.uniform(-1, 1)\n",
        "    y = random.uniform(-1, 1)\n",
        "    print(\"(x,y) are\", (x,y))   # you'll want to comment this out...\n",
        "\n",
        "    if x**2 + y**2 < 1:\n",
        "        return True  # HIT (within the unit circle)\n",
        "    else:\n",
        "        return False # missed (landed in one of the corners)\n",
        "\n",
        "# try it!\n",
        "result = dart()\n",
        "print(\"result is\", result)\n",
        "\n"
      ],
      "metadata": {
        "id": "2c29w_AHiR0i",
        "colab": {
          "base_uri": "https://localhost:8080/"
        },
        "outputId": "cb1fd0a1-618b-4b80-8330-fa20706fb933"
      },
      "execution_count": null,
      "outputs": [
        {
          "output_type": "stream",
          "name": "stdout",
          "text": [
            "(x,y) are (0.5139929317473213, -0.93063118113095)\n",
            "result is False\n"
          ]
        }
      ]
    },
    {
      "cell_type": "markdown",
      "source": [
        "### Try it in a loop:"
      ],
      "metadata": {
        "id": "yd9sxJ5v4xQe"
      }
    },
    {
      "cell_type": "code",
      "source": [
        "# Try it ten times in a loop:\n",
        "\n",
        "for i in range(10):\n",
        "    result = dart()\n",
        "    if result == True:\n",
        "        print(\"   HIT the circle!\")\n",
        "    else:\n",
        "        print(\"   missed...\")\n",
        "\n",
        "\n",
        "# try adding up the number of hits, the number of total throws\n",
        "# remember that pi is approximately 4*hits/throws   (cool!)"
      ],
      "metadata": {
        "id": "31DIxlFx4zgJ",
        "colab": {
          "base_uri": "https://localhost:8080/"
        },
        "outputId": "9d43c108-52b2-4988-92fb-7a89754c88f4"
      },
      "execution_count": null,
      "outputs": [
        {
          "output_type": "stream",
          "name": "stdout",
          "text": [
            "(x,y) are (0.6003476097998384, -0.9514883916017989)\n",
            "   missed...\n",
            "(x,y) are (0.3895642051345283, -0.7522728061644983)\n",
            "   HIT the circle!\n",
            "(x,y) are (0.02321539997796629, -0.5778123989267248)\n",
            "   HIT the circle!\n",
            "(x,y) are (0.4979238178459193, 0.48076466381927196)\n",
            "   HIT the circle!\n",
            "(x,y) are (-0.7933778194353147, 0.7846325853913934)\n",
            "   missed...\n",
            "(x,y) are (0.005767695763531311, 0.6351196323984059)\n",
            "   HIT the circle!\n",
            "(x,y) are (-0.04695178531338606, 0.21895559993315006)\n",
            "   HIT the circle!\n",
            "(x,y) are (-0.27008127200110565, 0.870960443688922)\n",
            "   HIT the circle!\n",
            "(x,y) are (0.27993789068677155, 0.00215915367477737)\n",
            "   HIT the circle!\n",
            "(x,y) are (0.9669696891991884, 0.3916086701655217)\n",
            "   missed...\n"
          ]
        }
      ]
    },
    {
      "cell_type": "markdown",
      "source": [
        "### Expand this into <tt>forpi</tt>\n",
        "\n",
        "For a detailed explanation, see [the forpi/whilepi challenge](https://www.cs.hmc.edu/twiki/bin/view/CS5Fall2021/PiFromPieGold)"
      ],
      "metadata": {
        "id": "MSDf71jv48L_"
      }
    },
    {
      "cell_type": "code",
      "source": [
        "\n",
        "#\n",
        "# Write forpi(n)\n",
        "#\n",
        "\n",
        "#\n",
        "# For the full explanation, see https://www.cs.hmc.edu/twiki/bin/view/CS5Fall2021/PiFromPieGold\n",
        "#\n",
        "\n",
        "\n",
        "# This is only a starting point\n",
        "def forpi(N):\n",
        "    \"\"\"Throws N darts, estimating pi.\"\"\"\n",
        "    pi = 42     # A suitably poor initial estimate\n",
        "    throws = 0  # No throws yet\n",
        "    hits = 0    # No \"hits\" yet  (hits ~ in the circle)\n",
        "\n",
        "    return hits\n",
        "\n",
        "# Try it!\n",
        "forpi(10)"
      ],
      "metadata": {
        "id": "fA8GFgYl5EbH",
        "colab": {
          "base_uri": "https://localhost:8080/"
        },
        "outputId": "8340ba80-63c5-4a6f-a4d5-0843d6cfd33c"
      },
      "execution_count": null,
      "outputs": [
        {
          "output_type": "execute_result",
          "data": {
            "text/plain": [
              "0"
            ]
          },
          "metadata": {},
          "execution_count": 1
        }
      ]
    },
    {
      "cell_type": "markdown",
      "source": [
        "### Expand this into <tt>whilepi</tt>\n",
        "\n",
        "Again, a detailed explanation is available at [the forpi/whilepi challenge](https://www.cs.hmc.edu/twiki/bin/view/CS5Fall2021/PiFromPieGold)"
      ],
      "metadata": {
        "id": "NsCKY7oc5RJ0"
      }
    },
    {
      "cell_type": "code",
      "source": [
        "\n",
        "#\n",
        "# Write whilepi(n)\n",
        "#\n",
        "\n",
        "#\n",
        "# For the full explanation, see https://www.cs.hmc.edu/twiki/bin/view/CS5Fall2021/PiFromPieGold\n",
        "#\n",
        "\n",
        "\n",
        "# This is only a starting point\n",
        "def whilepi(err):\n",
        "    \"\"\"Throws N darts, estimating pi.\"\"\"\n",
        "    pi = 42     # A suitably poor initial estimate\n",
        "    throws = 0  # No throws yet\n",
        "    hits = 0    # No \"hits\" yet  (hits ~ in the circle)\n",
        "\n",
        "    return throws\n",
        "\n",
        "\n",
        "# Try it!\n",
        "whilepi(.01)"
      ],
      "metadata": {
        "id": "V8PEMATc5YcF"
      },
      "execution_count": null,
      "outputs": []
    },
    {
      "cell_type": "markdown",
      "source": [
        "<br>\n",
        "\n",
        "### <font color=\"darkblue\"><b>Also Extra Credit: pi-analysis</b></font>  \n",
        "\n",
        "Now, to put these to use!\n",
        "\n",
        "To analyze these, you should first create new versions that don't print anything!\n",
        "+ <b>create two new functions, below...</b>\n",
        "  + ``forpi_np(N)`` should be just like ``forpi`` but with no printing\n",
        "  + ``whilepi_np(N)`` should be just like ``whilepi`` but with no printing\n",
        "\n",
        "Reminders and guidance:\n",
        "+ They will still return the appropriate value, just as they have been doing above.\n",
        "+ Remember that `forpi_np(N)` returns the estimate of pi after N throws.\n",
        "+ remember that `whilepi_np(err)` returns the number of throws to estimate pi within err of 𝝅\n",
        "+ So, to that end, copy, paste, and rename your two functions, `forpi` and `whilepi`:\n",
        "\n",
        "<br>\n",
        "\n",
        "+ Create `forpi_np(N)` — the np means no printing.\n",
        "+ Similarly, create `whilepi_np(err)`\n",
        "\n",
        "<br>\n",
        "\n",
        "Then, using our List Comprehension techniques (see previous problems!) to analyze the behavior of our two pi-estimating functions:\n",
        "+ Use `range(742)` so that you're running 742 trials at a time...\n",
        "+ Other values are welcome    (It's surprisingly easy to give your machine much more work than it can handle!)\n",
        "+ Include answers (in a markdown cell or a comment in a code cell) to answer:\n",
        "\n",
        "<br>\n",
        "\n",
        "Questions:\n",
        "+ On average, how close to 𝝅 does `forpi_np(N)` get when `N = 1, 10, 100, 1000`  ?\n",
        "+ On average, how many throws are needed for `whilepi_np(e)` to get within `e = 1, .1, .01, 0.001` ?\n",
        "+ Note that these don't adhere to a clear function in the way that `rwalk` did...\n",
        "+ Here, the goal is seeing the trends, rather than eliciting an exact relationship.\n",
        "\n",
        "<br>\n",
        "\n",
        "Bigger-picture questions:\n",
        "+ Does forpi or whilepi estimate 𝝅 more efficiently? Why?\n",
        "+ Does forpi or whilepi estimate 𝝅 more accurately? Why?\n",
        "\n",
        "Just one phrase suffices on these, for sure..."
      ],
      "metadata": {
        "id": "_fNMCuTy5cSz"
      }
    },
    {
      "cell_type": "markdown",
      "source": [
        "### <font color=\"darkblue\"><b>Alternative and also Optional</b> &nbsp; _Emotional_ punctuation differences... ?!</b></font>\n",
        "\n",
        "Totally optional, as ever, for up to +4.6 points of extra credit:\n",
        "\n",
        "The punctuation-scoring functions ``pun_one`` and ``pun_all`` were more limited than they needed to be -- in their ability to distinguish authors:\n",
        "+ they were simply measuring a single dimension: the _amount_ of punctuation used\n",
        "\n",
        "However, the different punctuation marks themsleves are very idiosyncratic -- and very telling -- with respect to a particular author's style.\n",
        "\n",
        "For this extra-credit challenge, create at least two _additional_ punctuation-measuring functions (in the same manner and style as all the ones above), and then\n",
        "+ measure the _relative_ frequency of certain punctuation relative to the overall amount of punctuation in a string of prose\n",
        "+ do this for at least two marks - or sets of marks\n",
        "  + for example, how much of an _exclamation-point_ user are you?\n",
        "  + question marks?\n",
        "  + parens? quotes? hashtags?  There are so many!\n",
        "\n",
        "Then, compare that relative-frequence of _particular_ punctuation marks between your works (above) and the other author's works (again above).\n",
        "\n",
        "<br>\n",
        "\n",
        "Share the results: **Which punctuation usage is most telling in  distinguishing/separating the two styles?**\n",
        "\n",
        "\n",
        "\n",
        "\n"
      ],
      "metadata": {
        "id": "VBp9aff1zE1g"
      }
    },
    {
      "cell_type": "code",
      "source": [
        "#\n",
        "# Your additional punctuation-style explorations (optional!)\n",
        "#\n",
        "\n",
        "\n"
      ],
      "metadata": {
        "id": "PYzCMuGDcUwf"
      },
      "execution_count": null,
      "outputs": []
    },
    {
      "cell_type": "markdown",
      "source": [
        "Hitorinbo Envy :D\n",
        "\n",
        "\n",
        "jsdhjfihidhjwsjfifswjdjdikfjjkfhsksdfjsjdfjwkhjdfjjddjhdjhsdjhdjdjwjdjhsjwhdfhsjjshsjfjdhsdjfhjfdskasdjjdhshshfjkkfjdsjjfdhsjssjdhjskhjdjsjsjjshsjfjdssjhddjhjfhsjsjfhjjdjkfjdjdvjdhjdfhjdhfjdjjfjfhjfjkkfhfkfjhhfkfdjjdfdjdjfjjdjfjkfjfjkfdjkfkhfkfjkvklfjfkjjfkjjkkfljvkfjjkkbjkfkbkvdfkkvjkbjfkvvfkbkfjkkfvkdkvfkjfdjkvfljvkdlsjfjvkfdkbkfkbfkbkdjdfjkffkvjvfkdkvkkjfkljvcjkklvffdkvjkfkvbjkvkkdvklvjdklvkvgfkjdkvdlkfjvfkdlkkfjlfklbljflkl;blbgldkklvgfd;kflbljlklkfdlll;lffl;lbgf;dldj\n",
        "\n",
        "(Don't question it)"
      ],
      "metadata": {
        "id": "l-U0TsiCTceu"
      }
    }
  ],
  "metadata": {
    "colab": {
      "provenance": [],
      "toc_visible": true
    },
    "kernelspec": {
      "display_name": "Python 3",
      "name": "python3"
    },
    "language_info": {
      "name": "python"
    }
  },
  "nbformat": 4,
  "nbformat_minor": 0
}