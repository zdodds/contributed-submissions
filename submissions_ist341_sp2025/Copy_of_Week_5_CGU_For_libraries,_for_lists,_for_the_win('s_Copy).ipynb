{
  "cells": [
    {
      "cell_type": "markdown",
      "source": [
        "# IST 341: Hi, everyone!\n",
        "\n",
        "### Assignment <u>5</u> Notebook: &nbsp; _For Lists_\n",
        "\n",
        "... and for the win, since _For Lists_ are Python's \"best feature\"\n",
        "\n",
        "Featuring:\n",
        "+ _For Lists_, aka _List Comprehensions_\n",
        "+ the <tt>for</tt> syntax, used for looping\n",
        "+ _Applications_: lots!\n",
        "  + functions of many sorts\n",
        "  + estimating pi-from-pie (well, pi-from-circles-and-darts!) and other simulations...\n",
        "  + incorporating <tt>libraries</tt> into our code! Here, it's <tt>requests</tt> (Yay!)\n",
        "+ plus, there is a reading-with-response that invites thinking about _algorithmic fairness and bias_\n",
        "  + a topic that is _increasingly_ important -- and pertinent!"
      ],
      "metadata": {
        "id": "UrkiOTiDEjwp"
      }
    },
    {
      "cell_type": "markdown",
      "source": [
        "### <font color=\"FireBrick\"><b>Overview of this week's Python Notebook</b> (this notebook)</font>\n",
        "\n",
        "**Last week** introduced the \"first-rest\" pattern that\n",
        "+ composed functions to \"process one element\" and then \"continue the process...\"\n",
        "+ this was a starting example of using loops\n",
        "\n",
        "<br>\n",
        "\n",
        "**This week** we emphasize lists and <tt>for</tt> syntax:\n",
        "+ Together, these _\"For Lists\"_ are elegant and powerful\n",
        "+ Python's official name for them is _List Comprehensions_\n",
        "+ They expand the power and variety of simulation-and-analysis that we can take on ...\n",
        "+ Plus, remember that the _next_ assignment will be a **Looping** challenge that uses [PythonBat](https://codingbat.com/python)\n",
        "  + You won't put the PythonBat functions into a notebook...\n",
        "\n",
        "<br>\n",
        "\n",
        "Let's dive in!"
      ],
      "metadata": {
        "id": "NoXM4SE7QVPh"
      }
    },
    {
      "cell_type": "code",
      "source": [
        "#\n",
        "# Live Demo\n",
        "#\n",
        "\n",
        "print (\"Start to guess...\")\n",
        "\n",
        "guess = 41\n",
        "\n",
        "if guess != 42:\n",
        "  print(\"Not the right guess\")\n",
        "  guess=input(\"GuessAgain:\")\n",
        "  guess=int(guess)\n",
        "\n",
        "print(\"Guessing done!\")"
      ],
      "metadata": {
        "id": "VRw0fnZaoYBh",
        "outputId": "42a982fd-4b6c-496a-9635-8f5d3f2d8061",
        "colab": {
          "base_uri": "https://localhost:8080/",
          "height": 391
        }
      },
      "execution_count": null,
      "outputs": [
        {
          "metadata": {
            "tags": null
          },
          "name": "stdout",
          "output_type": "stream",
          "text": [
            "Start to guess...\n",
            "Not the right guess\n"
          ]
        },
        {
          "output_type": "error",
          "ename": "KeyboardInterrupt",
          "evalue": "Interrupted by user",
          "traceback": [
            "\u001b[0;31m---------------------------------------------------------------------------\u001b[0m",
            "\u001b[0;31mKeyboardInterrupt\u001b[0m                         Traceback (most recent call last)",
            "\u001b[0;32m<ipython-input-1-4b48873297a6>\u001b[0m in \u001b[0;36m<cell line: 0>\u001b[0;34m()\u001b[0m\n\u001b[1;32m      9\u001b[0m \u001b[0;32mif\u001b[0m \u001b[0mguess\u001b[0m \u001b[0;34m!=\u001b[0m \u001b[0;36m42\u001b[0m\u001b[0;34m:\u001b[0m\u001b[0;34m\u001b[0m\u001b[0;34m\u001b[0m\u001b[0m\n\u001b[1;32m     10\u001b[0m   \u001b[0mprint\u001b[0m\u001b[0;34m(\u001b[0m\u001b[0;34m\"Not the right guess\"\u001b[0m\u001b[0;34m)\u001b[0m\u001b[0;34m\u001b[0m\u001b[0;34m\u001b[0m\u001b[0m\n\u001b[0;32m---> 11\u001b[0;31m   \u001b[0mguess\u001b[0m\u001b[0;34m=\u001b[0m\u001b[0minput\u001b[0m\u001b[0;34m(\u001b[0m\u001b[0;34m\"GuessAgain:\"\u001b[0m\u001b[0;34m)\u001b[0m\u001b[0;34m\u001b[0m\u001b[0;34m\u001b[0m\u001b[0m\n\u001b[0m\u001b[1;32m     12\u001b[0m   \u001b[0mguess\u001b[0m\u001b[0;34m=\u001b[0m\u001b[0mint\u001b[0m\u001b[0;34m(\u001b[0m\u001b[0mguess\u001b[0m\u001b[0;34m)\u001b[0m\u001b[0;34m\u001b[0m\u001b[0;34m\u001b[0m\u001b[0m\n\u001b[1;32m     13\u001b[0m \u001b[0;34m\u001b[0m\u001b[0m\n",
            "\u001b[0;32m/usr/local/lib/python3.11/dist-packages/ipykernel/kernelbase.py\u001b[0m in \u001b[0;36mraw_input\u001b[0;34m(self, prompt)\u001b[0m\n\u001b[1;32m   1175\u001b[0m                 \u001b[0;34m\"raw_input was called, but this frontend does not support input requests.\"\u001b[0m\u001b[0;34m\u001b[0m\u001b[0;34m\u001b[0m\u001b[0m\n\u001b[1;32m   1176\u001b[0m             )\n\u001b[0;32m-> 1177\u001b[0;31m         return self._input_request(\n\u001b[0m\u001b[1;32m   1178\u001b[0m             \u001b[0mstr\u001b[0m\u001b[0;34m(\u001b[0m\u001b[0mprompt\u001b[0m\u001b[0;34m)\u001b[0m\u001b[0;34m,\u001b[0m\u001b[0;34m\u001b[0m\u001b[0;34m\u001b[0m\u001b[0m\n\u001b[1;32m   1179\u001b[0m             \u001b[0mself\u001b[0m\u001b[0;34m.\u001b[0m\u001b[0m_parent_ident\u001b[0m\u001b[0;34m[\u001b[0m\u001b[0;34m\"shell\"\u001b[0m\u001b[0;34m]\u001b[0m\u001b[0;34m,\u001b[0m\u001b[0;34m\u001b[0m\u001b[0;34m\u001b[0m\u001b[0m\n",
            "\u001b[0;32m/usr/local/lib/python3.11/dist-packages/ipykernel/kernelbase.py\u001b[0m in \u001b[0;36m_input_request\u001b[0;34m(self, prompt, ident, parent, password)\u001b[0m\n\u001b[1;32m   1217\u001b[0m             \u001b[0;32mexcept\u001b[0m \u001b[0mKeyboardInterrupt\u001b[0m\u001b[0;34m:\u001b[0m\u001b[0;34m\u001b[0m\u001b[0;34m\u001b[0m\u001b[0m\n\u001b[1;32m   1218\u001b[0m                 \u001b[0;31m# re-raise KeyboardInterrupt, to truncate traceback\u001b[0m\u001b[0;34m\u001b[0m\u001b[0;34m\u001b[0m\u001b[0m\n\u001b[0;32m-> 1219\u001b[0;31m                 \u001b[0;32mraise\u001b[0m \u001b[0mKeyboardInterrupt\u001b[0m\u001b[0;34m(\u001b[0m\u001b[0;34m\"Interrupted by user\"\u001b[0m\u001b[0;34m)\u001b[0m \u001b[0;32mfrom\u001b[0m \u001b[0;32mNone\u001b[0m\u001b[0;34m\u001b[0m\u001b[0;34m\u001b[0m\u001b[0m\n\u001b[0m\u001b[1;32m   1220\u001b[0m             \u001b[0;32mexcept\u001b[0m \u001b[0mException\u001b[0m\u001b[0;34m:\u001b[0m\u001b[0;34m\u001b[0m\u001b[0;34m\u001b[0m\u001b[0m\n\u001b[1;32m   1221\u001b[0m                 \u001b[0mself\u001b[0m\u001b[0;34m.\u001b[0m\u001b[0mlog\u001b[0m\u001b[0;34m.\u001b[0m\u001b[0mwarning\u001b[0m\u001b[0;34m(\u001b[0m\u001b[0;34m\"Invalid Message:\"\u001b[0m\u001b[0;34m,\u001b[0m \u001b[0mexc_info\u001b[0m\u001b[0;34m=\u001b[0m\u001b[0;32mTrue\u001b[0m\u001b[0;34m)\u001b[0m\u001b[0;34m\u001b[0m\u001b[0;34m\u001b[0m\u001b[0m\n",
            "\u001b[0;31mKeyboardInterrupt\u001b[0m: Interrupted by user"
          ]
        }
      ]
    },
    {
      "cell_type": "markdown",
      "source": [
        "### <font color=\"DodgerBlue\"><b>Make your own copy of this notebook (as in each week)</b></font>\n",
        "\n",
        "**Submitting** -- When you're ready to submit, be sure to\n",
        "+ **share** the notebook with me at\n",
        "   + `zdodds@gmail.com`\n",
        "+ and also **submit** the url to your notebook at the appropriate spot on Canvas\n",
        "\n",
        "That makes it easiest to read and run!"
      ],
      "metadata": {
        "id": "M7dzL4m4fPYf"
      }
    },
    {
      "cell_type": "markdown",
      "source": [
        "# Lists!\n",
        "\n",
        "We have done a lot with strings so far, but there is an even more general sequence datatype: **lists**.  \n",
        "\n",
        "This week, we will emphasize lists, starting with five built-in functions:\n",
        "+ ``len(L)`` returns the length of a list ``L``\n",
        "+ ``max(L)`` returns ``L``'s largest element and ``min`` returns ``L``'s smallest element\n",
        "+ ``sum(L)`` adds up all of the elements (if they're numbers; if not, it's an error)\n",
        "+ ``range(low,hi)`` creates lists from ``low`` up to but not including ``hi``\n",
        "\n",
        "Try them out:"
      ],
      "metadata": {
        "id": "avPkcx0jJrJG"
      }
    },
    {
      "cell_type": "code",
      "source": [
        "L = [ 'CGU', 'CMC', 'PIT', 'SCR', 'POM', 'HMC' ]\n",
        "print(\"len(L) is\", len(L))     # just for fun, try max and min of this L:  We win! (Why?!)"
      ],
      "metadata": {
        "id": "b-rEnj4lKyNc",
        "colab": {
          "base_uri": "https://localhost:8080/"
        },
        "outputId": "6bffb09d-6968-4036-cb47-8c198ff4e532"
      },
      "execution_count": null,
      "outputs": [
        {
          "output_type": "stream",
          "name": "stdout",
          "text": [
            "len(L) is 6\n"
          ]
        }
      ]
    },
    {
      "cell_type": "code",
      "source": [
        "L = [1, 2, 40, 3 ]\n",
        "print(\"max(L) is\", max(L))\n",
        "print(\"min(L) is\", min(L))\n",
        "print(\"sum(L) is\", sum(L))"
      ],
      "metadata": {
        "id": "AAp1PLczK_JE",
        "colab": {
          "base_uri": "https://localhost:8080/"
        },
        "outputId": "6413424e-9a14-4ba8-9116-ce755235c9be"
      },
      "execution_count": null,
      "outputs": [
        {
          "output_type": "stream",
          "name": "stdout",
          "text": [
            "max(L) is 40\n",
            "min(L) is 1\n",
            "sum(L) is 46\n"
          ]
        }
      ]
    },
    {
      "cell_type": "code",
      "source": [
        "L = range(1,43)\n",
        "print(\"L is\", L)   # Uh oh... it won't create the list unless we tell it to..."
      ],
      "metadata": {
        "id": "dsXFyTKxLj_w",
        "colab": {
          "base_uri": "https://localhost:8080/"
        },
        "outputId": "7ff1937e-8c19-4674-fc59-45059380042a"
      },
      "execution_count": null,
      "outputs": [
        {
          "output_type": "stream",
          "name": "stdout",
          "text": [
            "L is range(1, 43)\n"
          ]
        }
      ]
    },
    {
      "cell_type": "code",
      "source": [
        "L = list(range(1,35))  # ask it to create the list values...\n",
        "print(\"L is\", L)  # Aha!"
      ],
      "metadata": {
        "id": "dy9qf_d3MEzf",
        "colab": {
          "base_uri": "https://localhost:8080/"
        },
        "outputId": "a049bfa2-dbd0-4ead-bb1f-c6fd8b95b927"
      },
      "execution_count": null,
      "outputs": [
        {
          "output_type": "stream",
          "name": "stdout",
          "text": [
            "L is [1, 2, 3, 4, 5, 6, 7, 8, 9, 10, 11, 12, 13, 14, 15, 16, 17, 18, 19, 20, 21, 22, 23, 24, 25, 26, 27, 28, 29, 30, 31, 32, 33, 34]\n"
          ]
        }
      ]
    },
    {
      "cell_type": "code",
      "source": [
        "print(\"max(L) is\", max(L))    # ... up to but _not_ including the endpoint!"
      ],
      "metadata": {
        "id": "O8OF1BjrMR70",
        "colab": {
          "base_uri": "https://localhost:8080/"
        },
        "outputId": "9325c46a-69ee-429d-94c6-725183c95597"
      },
      "execution_count": null,
      "outputs": [
        {
          "output_type": "stream",
          "name": "stdout",
          "text": [
            "max(L) is 34\n"
          ]
        }
      ]
    },
    {
      "cell_type": "markdown",
      "source": [
        "Nice! &nbsp; Let's put lists to work!\n",
        "\n",
        "<br>\n",
        "\n",
        "### <font color=\"Coral\"><b>Task #1</b></font>: Adding from 1 to 100...\n",
        "\n",
        "In the cell below, combine some of the list functions above to add up all of the numbers from 1 to 100 and print the result.\n",
        "\n",
        "Be sure to _include_ the number 100 in your addition! (What will this require...?!)\n"
      ],
      "metadata": {
        "id": "ZJdyu1n5Mgzm"
      }
    },
    {
      "cell_type": "code",
      "source": [
        "#\n",
        "# Gauss's number: adding from 1 to 100\n",
        "#\n",
        "L = list(range(1,101))\n",
        "print(\"sum(L) is\", sum(L))\n"
      ],
      "metadata": {
        "id": "LEDEazbCNCb5",
        "colab": {
          "base_uri": "https://localhost:8080/"
        },
        "outputId": "5c31ebe0-5d76-42d6-9a4a-b19faf6283a1"
      },
      "execution_count": null,
      "outputs": [
        {
          "output_type": "stream",
          "name": "stdout",
          "text": [
            "sum(L) is 5050\n"
          ]
        }
      ]
    },
    {
      "cell_type": "markdown",
      "source": [
        "Now, let's _add_ another powerful element: the ``for`` keyword:"
      ],
      "metadata": {
        "id": "6GlAqoGFNZJg"
      }
    },
    {
      "cell_type": "markdown",
      "source": [
        "# <b>Example</b>:  ``vwl_once(c) and vwl_all(s)``\n",
        "\n",
        "In last week's notebook, you used ``vwl_once`` and ``vwl_all``:\n",
        "+ ``vwl_once`` scored a vowel as a ``1``, other characters as ``0``\n",
        "+ ``vwl_all`` used ``vwl_once`` to count all vowles in an input string\n",
        "\n",
        "Here is ``vwl_once(c)``. Be sure to run it:\n"
      ],
      "metadata": {
        "id": "9BqFJ1etLRzR"
      }
    },
    {
      "cell_type": "code",
      "source": [
        "# single-character substitution:\n",
        "\n",
        "def vwl_once(c):\n",
        "  \"\"\" vwl_once returns 1 for a single vowel, 0 otherwise\n",
        "  \"\"\"\n",
        "  if c in 'aeiou': return 1\n",
        "  else: return 0\n",
        "\n",
        "# two tests:\n",
        "print(\"vwl_once('a') should be 1 <->\", vwl_once('a'))\n",
        "print(\"vwl_once('b') should be 0 <->\", vwl_once('b'))"
      ],
      "metadata": {
        "id": "1krVLOH0HQsC",
        "colab": {
          "base_uri": "https://localhost:8080/"
        },
        "outputId": "6feca6eb-9c42-4f53-fd44-803b82a44cdd"
      },
      "execution_count": null,
      "outputs": [
        {
          "output_type": "stream",
          "name": "stdout",
          "text": [
            "vwl_once('a') should be 1 <-> 1\n",
            "vwl_once('b') should be 0 <-> 0\n"
          ]
        }
      ]
    },
    {
      "cell_type": "markdown",
      "source": [
        "This week, we will use a different approach to ``vwl_all``\n",
        "+ The next cell has an example of a _For List_, or _List Comprehension_.\n",
        "+ Try it!\n",
        "+ See if you can tell what it has done"
      ],
      "metadata": {
        "id": "_PtRB7aiHDc4"
      }
    },
    {
      "cell_type": "code",
      "source": [
        "s = \"claremont\"\n",
        "print(\"s is\", s)\n",
        "print()\n",
        "\n",
        "LC = [ vwl_once(c) for c in s ]\n",
        "print(\"LC is\", LC)"
      ],
      "metadata": {
        "id": "LdKzI7ynHL4C",
        "colab": {
          "base_uri": "https://localhost:8080/"
        },
        "outputId": "9f8e15e4-dfb6-4f0f-afdd-881a8e6838e3"
      },
      "execution_count": null,
      "outputs": [
        {
          "output_type": "stream",
          "name": "stdout",
          "text": [
            "s is claremont\n",
            "\n",
            "LC is [0, 0, 1, 0, 1, 0, 1, 0, 0]\n"
          ]
        }
      ]
    },
    {
      "cell_type": "markdown",
      "source": [
        "**Aha!**  Line 5 has created a list ``LC`` that\n",
        "+ contains the output of ``vwl_once`` for each letter in ``s``!\n",
        "\n",
        "_How does it work?_\n",
        "+ it uses the ``for`` keyword to create a _loop_ inside a list\n",
        "  + notice that the whole thing is wrapped in ``[ ]`` square brackets\n",
        "+ it defines a variable ``c``\n",
        "+ it _assigns_ the variable ``c`` to _each element in ``s``_\n",
        "+ and it runs ``vwl_once(c)`` on each\n",
        "\n",
        "``LC`` is a list of all the outputs, one for each input character ``c`` in ``s``\n",
        "\n",
        "Here is a second example:"
      ],
      "metadata": {
        "id": "OqZdoDHnHrJP"
      }
    },
    {
      "cell_type": "code",
      "source": [
        "s = \"audio\"\n",
        "print(\"s is\", s)\n",
        "print()\n",
        "\n",
        "LC = [ vwl_once(c) for c in s ]\n",
        "print(\"LC is\", LC)"
      ],
      "metadata": {
        "id": "vy_huY5WOT7c"
      },
      "execution_count": null,
      "outputs": []
    },
    {
      "cell_type": "markdown",
      "source": [
        "``audio`` has the vowel-pattern ``[1, 1, 0, 1, 1]``\n",
        "\n",
        "Find more!\n",
        "\n",
        "### <font color=\"Coral\"><b>Task #2</b></font>: More vowel patterns...\n",
        "\n",
        "Below, write four more examples of list comprehensions. <br> Copy-paste-and-edit the examples above.\n",
        "\n",
        "Find English words whose vowel-patterns are\n",
        "+ ``[0, 1, 0, 1, 0]``\n",
        "+ ``[0, 0, 0, 1, 0, 0]``\n",
        "+ ``[1, 0, 1, 1, 0, 0, 1, 0]   # I may need more of this...``\n",
        "+ and one more \"unusual\" pattern of your choice...\n",
        "\n",
        "<br><br>\n",
        "Feel free to"
      ],
      "metadata": {
        "id": "L-BzuGsbOhXc"
      }
    },
    {
      "cell_type": "code",
      "source": [
        "#\n",
        "# feel free to use this cell to check your vowel-patterns.\n",
        "#      This example is a starting point.\n",
        "#      You'll want to copy-paste-and-change it:\n",
        "s = \"major\"\n",
        "print(\"s is\", s)\n",
        "print()\n",
        "\n",
        "LC = [ vwl_once(c) for c in s ]\n",
        "print(\"LC is\", LC)\n",
        "\n",
        "d = 'thrift'\n",
        "LC2 = [ vwl_once(c) for c in d ]\n",
        "print(\"LC2 is\", LC2)\n",
        "\n",
        "f = 'analogic'\n",
        "LC3 = [ vwl_once(c) for c in f ]\n",
        "print(\"LC3 is\", LC3)"
      ],
      "metadata": {
        "id": "ok9LwagFiE8B",
        "colab": {
          "base_uri": "https://localhost:8080/"
        },
        "outputId": "6289d9a4-e265-4157-8056-4703789e7dfc"
      },
      "execution_count": null,
      "outputs": [
        {
          "output_type": "stream",
          "name": "stdout",
          "text": [
            "s is major\n",
            "\n",
            "LC is [0, 1, 0, 1, 0]\n",
            "LC2 is [0, 0, 0, 1, 0, 0]\n",
            "LC3 is [1, 0, 1, 0, 1, 0, 1, 0]\n"
          ]
        }
      ]
    },
    {
      "cell_type": "markdown",
      "source": [
        "Let's ``sum``!\n",
        "\n",
        "Along with ``sum``, we can use these ideas to implement ``vwl_all(s)``, which returns the total number of vowels in an input string ``s``:"
      ],
      "metadata": {
        "id": "W8syB1DtQIEt"
      }
    },
    {
      "cell_type": "code",
      "source": [
        "#\n",
        "# vwl_all using this technique\n",
        "#\n",
        "\n",
        "def vwl_all(s):\n",
        "  \"\"\" returns the total # of vowels in s, a string\n",
        "  \"\"\"\n",
        "  LC = [ vwl_once(c) for c in s ]\n",
        "  total = sum(LC)  # add them all up!\n",
        "  return total\n",
        "\n",
        "# two tests:\n",
        "print(\"vwl_all('claremont') should be 3 <->\", vwl_all('claremont'))\n",
        "print(\"vwl_all('caffeine') should be 4 <->\", vwl_all('caffeine'))\n"
      ],
      "metadata": {
        "id": "N2xQq8CsQbBn",
        "colab": {
          "base_uri": "https://localhost:8080/"
        },
        "outputId": "f0f563d0-827a-4736-ffc4-6b4035ea2ed4"
      },
      "execution_count": null,
      "outputs": [
        {
          "output_type": "stream",
          "name": "stdout",
          "text": [
            "vwl_all('claremont') should be 3 <-> 3\n",
            "vwl_all('caffeine') should be 4 <-> 4\n"
          ]
        }
      ]
    },
    {
      "cell_type": "markdown",
      "source": [
        "### List comprehensions\n",
        "\n",
        "The syntax above is called a _list comprehension_ in Python\n",
        "+ More evocative names might have been possible!\n",
        "+ I would have preferred _For List_\n",
        "+ or, even better, _Fun List_\n",
        "+ (its most common use is running a function on each element)\n",
        "\n",
        "Alas, it's _List Comprehension_\n",
        "+ as a reminder, I'll often use ``LC``\n",
        "+ However, _any_ variable name can be used to name the result\n",
        "\n"
      ],
      "metadata": {
        "id": "pvfJW18zIxqO"
      }
    },
    {
      "cell_type": "markdown",
      "source": [
        "Here is a second example, using ``scrabble`` and an analysis using the results. <br> Then, you'll write two more.\n",
        "\n",
        "### **Example 2**: ``scrabble``\n",
        "+ ``scrabble_one`` returns one letter's score\n",
        "+ ``scrabble_all`` uses a list comprehension to score a full string"
      ],
      "metadata": {
        "id": "3LQkGTOTJk33"
      }
    },
    {
      "cell_type": "code",
      "source": [
        "# scrabble-scoring\n",
        "\n",
        "def scrabble_one(c):\n",
        "  \"\"\" returns the scrabble score of one character, c\n",
        "  \"\"\"\n",
        "  c = c.lower()\n",
        "  if c in 'aeilnorstu':   return 1\n",
        "  elif c in 'dg':         return 2\n",
        "  elif c in 'bcmp':       return 3\n",
        "  elif c in 'fhvwy':      return 4\n",
        "  elif c in 'k':          return 5\n",
        "  elif c in 'jx':         return 8\n",
        "  elif c in 'qz':         return 10\n",
        "  else:                   return 0\n",
        "\n",
        "# tests:\n",
        "print(\"scrabble_one('q') should be 10 <->\", scrabble_one('q'))\n",
        "print(\"scrabble_one('!') should be 0 <->\", scrabble_one('!'))\n",
        "print(\"scrabble_one('u') should be 1 <->\", scrabble_one('u'))"
      ],
      "metadata": {
        "id": "1CnqGkrNS-ts",
        "colab": {
          "base_uri": "https://localhost:8080/"
        },
        "outputId": "42565948-9f62-488e-a1cc-0e61d24e3a1e"
      },
      "execution_count": null,
      "outputs": [
        {
          "output_type": "stream",
          "name": "stdout",
          "text": [
            "scrabble_one('q') should be 10 <-> 10\n",
            "scrabble_one('!') should be 0 <-> 0\n",
            "scrabble_one('u') should be 1 <-> 1\n"
          ]
        }
      ]
    },
    {
      "cell_type": "markdown",
      "source": [
        "``scrabble_one`` provides scores, and <br>  ``scrabble_all`` then uses the same pattern as ``vwl_all``:"
      ],
      "metadata": {
        "id": "a_3CwdhzUA5M"
      }
    },
    {
      "cell_type": "code",
      "source": [
        "#\n",
        "# scrabble_all using this technique\n",
        "#\n",
        "\n",
        "def scrabble_all(s):\n",
        "  \"\"\" returns the total scrabble score of s\n",
        "  \"\"\"\n",
        "  LC = [ scrabble_one(c) for c in s ]\n",
        "  total = sum(LC)  # add them all up!\n",
        "  return total\n",
        "\n",
        "\n",
        "# two tests:\n",
        "print(\"scrabble_all('Zany Sci Ten Quiz') should be 46 <->\", scrabble_all('Zany Sci Ten Quiz'))\n",
        "print(\"scrabble_all('Claremont') should be 13 <->\", scrabble_all('Claremont'))\n",
        "print(\"scrabble_all('abcdefghijklmnopqrstuvwxyz!') should be 87 <->\", scrabble_all('abcdefghijklmnopqrstuvwxyz!'))"
      ],
      "metadata": {
        "id": "ble5vYdpUPGL",
        "colab": {
          "base_uri": "https://localhost:8080/"
        },
        "outputId": "e1c6f2ba-e293-4c0b-8050-3ab4f8a5ca35"
      },
      "execution_count": null,
      "outputs": [
        {
          "output_type": "stream",
          "name": "stdout",
          "text": [
            "scrabble_all('Zany Sci Ten Quiz') should be 46 <-> 46\n",
            "scrabble_all('Claremont') should be 13 <-> 13\n",
            "scrabble_all('abcdefghijklmnopqrstuvwxyz!') should be 87 <-> 87\n"
          ]
        }
      ]
    },
    {
      "cell_type": "markdown",
      "source": [
        "### <b>Example analysis</b>\n",
        "\n",
        "Using ``scrabble_all`` we analyze the scrabble-score richness of Plankton vs Patrick, both raw score and per-character:\n",
        "\n",
        "\n",
        "\n",
        "\n",
        "\n"
      ],
      "metadata": {
        "id": "S3fIcroiHwp1"
      }
    },
    {
      "cell_type": "code",
      "source": [
        "# Here are the two texts:\n",
        "\n",
        "PLANKTON = \"\"\"I'm As Evil As Ever. I'll Prove It\n",
        "Right Now By Stealing The Krabby Patty Secret Formula.\"\"\"\n",
        "\n",
        "PATRICK = \"\"\"I can't hear you.\n",
        "It's too dark in here.\"\"\""
      ],
      "metadata": {
        "id": "0rNonriYXG0E"
      },
      "execution_count": null,
      "outputs": []
    },
    {
      "cell_type": "code",
      "source": [
        "#\n",
        "# raw scrabble comparison\n",
        "#\n",
        "\n",
        "print(\"PLANKTON, total score:\", scrabble_all(PLANKTON))\n",
        "print(\"PATRICK, total score:\", scrabble_all(PATRICK))"
      ],
      "metadata": {
        "id": "Lgg2ULLRXN99",
        "colab": {
          "base_uri": "https://localhost:8080/"
        },
        "outputId": "96c42cc6-e13d-4d63-b37b-616310c373a9"
      },
      "execution_count": null,
      "outputs": [
        {
          "output_type": "stream",
          "name": "stdout",
          "text": [
            "PLANKTON, total score: 121\n",
            "PATRICK, total score: 44\n"
          ]
        }
      ]
    },
    {
      "cell_type": "code",
      "source": [
        "#\n",
        "# per-character (\"average/expected\") scrabble comparison\n",
        "#\n",
        "\n",
        "print(\"PLANKTON, per-char score:\", scrabble_all(PLANKTON)/len(PLANKTON))\n",
        "print(\"PATRICK, per-char score:\", scrabble_all(PATRICK)/len(PATRICK))"
      ],
      "metadata": {
        "id": "pcoLCWciXkrL",
        "colab": {
          "base_uri": "https://localhost:8080/"
        },
        "outputId": "f69ab600-5dae-4289-fd65-4b19108d7be4"
      },
      "execution_count": null,
      "outputs": [
        {
          "output_type": "stream",
          "name": "stdout",
          "text": [
            "PLANKTON, per-char score: 1.3595505617977528\n",
            "PATRICK, per-char score: 1.1\n"
          ]
        }
      ]
    },
    {
      "cell_type": "markdown",
      "source": [
        "### Some more list-comprehension examples...\n",
        "\n",
        "Practice with these, then you'll develop an application for analyzing prose..."
      ],
      "metadata": {
        "id": "22bfgVx5wqYI"
      }
    },
    {
      "cell_type": "code",
      "source": [
        "\n",
        "# let's see a \"plain\"  LC   (list comprehension)\n",
        "\n",
        "[ 2*x for x in [0,1,2,3,4,5] ]\n",
        "\n",
        "# it _should_ result in     [0, 2, 4, 6, 8, 10]"
      ],
      "metadata": {
        "id": "Sxd7c-rCwzyn",
        "colab": {
          "base_uri": "https://localhost:8080/"
        },
        "outputId": "ec2d1528-e6ed-42dc-cf0f-839929b88c55"
      },
      "execution_count": null,
      "outputs": [
        {
          "output_type": "execute_result",
          "data": {
            "text/plain": [
              "[0, 2, 4, 6, 8, 10]"
            ]
          },
          "metadata": {},
          "execution_count": 20
        }
      ]
    },
    {
      "cell_type": "code",
      "source": [
        "\n",
        "# let's see a few more  list comprehensions.  For sure, we can name them:\n",
        "\n",
        "A  =  [ 10*x for x in [0,1,2,3,4,5] if x%2==0]   # notice the \"if\"! (there's no else...)\n",
        "print(A)"
      ],
      "metadata": {
        "id": "wdnNCJfUxAMX",
        "colab": {
          "base_uri": "https://localhost:8080/"
        },
        "outputId": "6fcc4654-c6e5-4b8d-f862-42dbab98cc83"
      },
      "execution_count": null,
      "outputs": [
        {
          "output_type": "stream",
          "name": "stdout",
          "text": [
            "[0, 20, 40]\n"
          ]
        }
      ]
    },
    {
      "cell_type": "code",
      "source": [
        "\n",
        "B = [ y*21 for y in list(range(0,3)) ]    # remember what range does?\n",
        "print(B)"
      ],
      "metadata": {
        "id": "YXdY3txdxFjo",
        "colab": {
          "base_uri": "https://localhost:8080/"
        },
        "outputId": "eb490c59-a314-4bc4-d69d-b0a3c63223aa"
      },
      "execution_count": null,
      "outputs": [
        {
          "output_type": "stream",
          "name": "stdout",
          "text": [
            "[0, 21, 42]\n"
          ]
        }
      ]
    },
    {
      "cell_type": "code",
      "source": [
        "C = [ s[1] for s in [\"hi\", \"7Cs!\"] ]      # doesn't have to be numbers...\n",
        "print(C)"
      ],
      "metadata": {
        "id": "KtYWuLGrxGRV",
        "colab": {
          "base_uri": "https://localhost:8080/"
        },
        "outputId": "42ef8324-06ca-4c06-dcf2-29836d378b73"
      },
      "execution_count": null,
      "outputs": [
        {
          "output_type": "stream",
          "name": "stdout",
          "text": [
            "['i', 'C']\n"
          ]
        }
      ]
    },
    {
      "cell_type": "code",
      "source": [
        "\n",
        "# Let's try thinking about these...\n",
        "\n",
        "\"\"\"\n",
        "A = [ n+2 for n in   range(40,42) ]\n",
        "B = [ 42 for z in [0,1,2] ]\n",
        "C = [ z for z in [42,42] ]\n",
        "D = [ s[::-2] for s in ['fungic','y!a!y!'] ]\n",
        "L = [ [len(w),w] for w in  ['Hi','IST'] ]\n",
        "\"\"\"\n",
        "\n",
        "# then, see if they work the way you predict..."
      ],
      "metadata": {
        "id": "Eoj_EonMxJml",
        "colab": {
          "base_uri": "https://localhost:8080/",
          "height": 35
        },
        "outputId": "842271ae-a851-40c3-b501-c19d33a8a42c"
      },
      "execution_count": null,
      "outputs": [
        {
          "output_type": "execute_result",
          "data": {
            "text/plain": [
              "\"\\nA = [ n+2 for n in   range(40,42) ]\\nB = [ 42 for z in [0,1,2] ]\\nC = [ z for z in [42,42] ]\\nD = [ s[::-2] for s in ['fungic','y!a!y!'] ]\\nL = [ [len(w),w] for w in  ['Hi','IST'] ]\\n\""
            ],
            "application/vnd.google.colaboratory.intrinsic+json": {
              "type": "string"
            }
          },
          "metadata": {},
          "execution_count": 24
        }
      ]
    },
    {
      "cell_type": "markdown",
      "source": [
        "_Ok!_  Now to create and apply some of our own...\n",
        "\n"
      ],
      "metadata": {
        "id": "0Ec9EGdzxQ_d"
      }
    },
    {
      "cell_type": "markdown",
      "source": [
        "### <font color=\"Coral\"><b>Task #3</b></font>: Punctuation scoring...\n",
        "\n",
        "_Stylometry_ is a field that quantifies stylistic features of language, especially to identify or characterize a specific author. Many _stylometric_ features have been proposed; one of the most persistent is _punctuation density_.\n",
        "\n",
        "Here, you'll\n",
        "+ use the LC technique to write a function to measure punctuation in a string (prose)\n",
        "+ compare two of your (prose) papers with two of another author's (prose) papers\n",
        "+ see if the results suggest a different _punctuation density_ between your and the other author's styles!\n",
        "+ similar to the sequences we're obtaining from the water-treatment plant, such a small number of samples can suggest whether/how to look further -- but isn't definitive by itself...\n"
      ],
      "metadata": {
        "id": "khE-AiioX2q7"
      }
    },
    {
      "cell_type": "code",
      "source": [
        "#\n",
        "# here, [1] create a function that scores punctuation as 1 and non-punctuation as 0, pun_one\n",
        "#       [2] use the list-comprehension technique to create a punctuation-scoring function, pun_all\n",
        "\n",
        "# use the above examples as a starting point!\n",
        "def pun_one(x):\n",
        "  \"\"\" pun_one returns 1 for punctuation, 0 otherwise\n",
        "  \"\"\"\n",
        "  if x in '.,;:!?@#$%^&*()-={}[]\"\\'': return 1\n",
        "  else: return 0\n",
        "\n",
        "def pun_all(z):\n",
        "  \"\"\" returns the total # of punctuation in z, a string\n",
        "  \"\"\"\n",
        "  LP = [ pun_one(x) for x in z ]\n",
        "  total = sum(LP)  # add them all up!\n",
        "  return total\n",
        "#\n",
        "\n",
        "\n",
        "\n",
        "\n",
        "# tests\n",
        "print(\"pun_all(PLANKTON) should be 4 <->\", pun_all(PLANKTON))\n",
        "print(\"pun_all(PATRICK) should be 4 <->\", pun_all(PATRICK))\n",
        "print('I had to include the apostrophes...')\n",
        "# They're more similar, punctuation-wise than scrabble-wise"
      ],
      "metadata": {
        "id": "Oeyk-5dbZZXq",
        "colab": {
          "base_uri": "https://localhost:8080/"
        },
        "outputId": "1bf932b3-c0c9-4bac-f793-e7db20ecae9b"
      },
      "execution_count": null,
      "outputs": [
        {
          "output_type": "stream",
          "name": "stdout",
          "text": [
            "pun_all(PLANKTON) should be 4 <-> 4\n",
            "pun_all(PATRICK) should be 4 <-> 4\n",
            "I had to include the apostrophes...\n"
          ]
        }
      ]
    },
    {
      "cell_type": "markdown",
      "source": [
        "### An **advantage** of LCs:\n",
        "\n",
        "... is _efficiency_, both faster and more memory-efficient.\n",
        "\n",
        "For stylometric analysis, the more text you have, the more representative the results will be.\n",
        "\n",
        "Lsat time, we used one paragraph. This time, use two full documents:\n",
        "+ Copy-and-paste below two full papers you authored (if they're longer ones, great!)\n",
        "+ Copy-and-paste below two full papers authored by someone else\n",
        "+ Run all four to find the absolute and per-character use of punctuation in your style and the other author's style\n",
        "+ Are they different enough to suggest further investigation?\n",
        "\n"
      ],
      "metadata": {
        "id": "HIh3hTB-aali"
      }
    },
    {
      "cell_type": "markdown",
      "source": [
        "### Suggestions for \"other\" authors?\n",
        "+ exchange papers/prose and compare with a friend (fun!)\n",
        "+ there are lots of other opportunities, e.g.,\n",
        "  + [work by Rosalind Franklin](https://www.nature.com/articles/171740a0)  (likely need to be on campus to access this from Nature)\n",
        "  + [work by Jennifer Doudna](https://www.ncbi.nlm.nih.gov/pmc/articles/PMC6286148/)  (this one _might_ open anywhere)\n",
        "  + [copy a subset of Shakespeare's work](https://ocw.mit.edu/ans7870/6/6.006/s08/lecturenotes/files/t8.shakespeare.txt)  (this is openly available and plain-text)\n",
        "  + Don't worry about weird/unreadable characters\n",
        "    + as long as the results don't crash,\n",
        "    + those characters will likely be ignored by your scoring functions"
      ],
      "metadata": {
        "id": "NcPLA4k8f0ht"
      }
    },
    {
      "cell_type": "code",
      "source": [
        "#\n",
        "# The two works of yours and two of another author's (\"theirs\")\n",
        "#     These can - and should - be large\n",
        "print(\"I hope my undergrad self can out-puncuate Deepseek AI\")\n",
        "\n",
        "YOURS1 = \"\"\"  Masculinities within John Marston\n",
        "Red Dead Redemption tells a story from the viewpoint of John Marston. John Marston is an interesting character because of his past and the actions that he has committed. John Marston used to be an outlaw in a gang that raided, kidnapped and murdered and yet the character begins the game being more level-headed, calm and polite - particularly towards women. While people were far less politically correct in the early 1900s in which this game takes place, men and women are treated in a very particular fashion in the game design. While all of the women, namely Bonnie MacFarlane, are capable - more often than not, they portray a damsel-in-distress. It leaves the choice for the player to defend these women or not. John Marston’s character does not portray the very obvious, over-the-top masculinity. He portrays and follows many of the ‘unspoken’ rules of masculinity: John Marston is fairly strong and quiet and really only shares his story with Bonnie. At least in the beginning, John Marston keeps his story a secret and refuses to tell anyone his past. The protagonist also “never lets anyone see him sweat,” seeing as how he was shot in the beginning of the game and shows little signs to the public. These types of masculinities are the ones that John Marston most personify.\n",
        "\tWith Red Dead Redemption, there is some focus on masculinity - every choice in a video game is well thought out when it comes to game development. However, mostly because Rockstar Games is skilled at catering to their audience. With a largely emotionless male cowboy, it allows male players to control John Marston and live their power fantasy, masculine dreams. After all, much of the audience for console gamers identify as male. I personally know many gamers that love masculinity in video games and dislike it when their character portrays elements of femininity. Even when Samus takes off her helmet to reveal her gender, gamers were upset because they thought they were playing a male. The writing in the game lends to masculine undertones as well, often reinforcing ideas that “women shouldn’t be able to do this” and “men are meant to do this.” The gameplay, particularly the slow motion shooting, makes it really easy to live a power fantasy and kill many people in an instant, which makes players feel really macho. All of this leads to toxicity when it comes to existing as a male. This is because it disallows males to be influenced by anything other than what they are exposed to in media.\n",
        "\n",
        "\"\"\"\n",
        "#undergrad writing...\n",
        "YOURS2 = \"\"\"  Portal 2: Rules of Play\n",
        "\tThe reason Portal (2007) and Portal 2 (2011) are different from a game like Tomb Raider (2013) is because of the progression within the game. Tomb Raider is largely a linear game with branching paths, but with Portal, there is very clearly only one way to progress through the game. There are literal doors that block progression and if the players are unable to figure out the puzzle within the test chambers, the game is unbeatable. There are rules that Portal developers, Valve, put into play that define the game and it’s gameplay elements. Within the first couple minutes of gameplay, the player is presented with a simple puzzle: put the cube on the big red button. Shortly afterwards, the game opens up portals that the player must walk through and this allows the players ample time to analyze what happened while simultaneously displaying the rules of the game. If something goes into a blue portal, it comes out the orange portal and vice versa. Later, it is revealed that momentum plays a part as well. “Speedy-thing goes in, speedy-thing goes out,” as character, GlaDOS, puts it. Most of the game revolves around these core mechanics that are presented to the player in a slow and steady fashion.\n",
        "These are the rules of the game and players are unable to progress without an understanding of these mechanics, a ludus game design with flat ideological structure. After the rules are established, control is given to the player after the first couple of test chambers so that they may make the portals for themselves. Portal leaves little room for emergent gameplay, as there is typically one way for the average player to beat a level and there aren’t too many systems of rules going on at once. From a gameplay perspective, there is rarely a time in the game where you are challenged by an enemy AI (despite GlaDOS being exactly that, narratively) besides the turrets, which are simple “shoot anything in front of it” objects.\n",
        "\tPhysics plays a large role in Portal as players will need to launch themselves and objects into doors, buttons and rooms. Valve designed it into the game by making it one of the primary focuses into the puzzles. Often times you are jumping through a portal at terminal velocity in order to propel out the other portal at the same speed. This gives the player something of a roller-coaster feeling as they soar through the air. Most importantly, it makes the player feel in control of their movements, as they are the reason for figuring out each puzzle. The game never gives a large hint or a helping hand. It does not insult the players’ intelligence - it allows them ample time to fully comprehend the rules of the game.  On the topic of duration, the player mostly never has a portion of the game where they are stressed for time, but time can play an important role during the puzzles, as players will occasionally have to time portal placements in order to build momentum.\n",
        "Furthermore, the first-person perspective is important in Portal as the emphasis lies in the puzzles. The first-person perspective helps players conceptualize outcomes along with allowing players a more precise control in their actions, including the most important part of the game - placing portals. The perspective allows the gameplay to shine - not detracting from it with role-play or character development (a game that pleases ludologists. Probably.) While the player can see their character if they try hard enough, the character doesn’t speak or develop over the game allowing the player to tie their own experiences with these games. The controls are fairly simple and tight, placing emphasis on mechanics of movements within the confines of the rules in order to add complexity, rather than an initially complex control layout. The only thing that may be fairly jarring for players is the camera jerk when a player goes through a portal through the ceiling. The first person camera spins, sometimes a full 180 degrees, in order to allow the player to always be upright. Portal is first and foremost, a puzzle game that has a set of rules that the player must abide by. These rules are followed, tested and played with in different, increasingly difficult levels. There is no in-game reward other than the satisfaction of figuring it out and progressing, leading to a fair, yet triumphant experience for players.\n",
        "\n",
        "\"\"\"\n",
        "\n",
        "#write me a 2 page essay on john marston from red dead redemption and how he portrays \"unspoken\" rules of masculinity\n",
        "THEIRS1 = \"\"\"  John Marston and the Unspoken Rules of Masculinity in Red Dead Redemption\n",
        "\n",
        "John Marston, the protagonist of Rockstar Games' Red Dead Redemption, is a quintessential representation of the rugged, morally complex antihero. Set in the dying days of the American Old West, Marston’s journey is not just one of redemption but also a nuanced exploration of masculinity. Through his character, the game delves into the \"unspoken rules\" of masculinity—those societal expectations and codes of conduct that define what it means to be a man in a harsh, unforgiving world. Marston embodies these rules in his actions, relationships, and struggles, offering a compelling commentary on the pressures and contradictions of traditional masculinity.\n",
        "\n",
        "The Stoic Provider\n",
        "One of the most prominent unspoken rules of masculinity that John Marston embodies is the expectation to be a stoic provider. From the outset, Marston’s motivations are deeply tied to his role as a husband and father. Forced into a mission to hunt down his former gang members by federal agents who threaten his family, Marston’s actions are driven by his commitment to protect and provide for his wife, Abigail, and son, Jack. This aligns with the traditional masculine ideal of the man as the protector and breadwinner, willing to endure hardship and danger for the sake of his family.\n",
        "\n",
        "However, Marston’s stoicism often masks his vulnerability. He rarely expresses his fears or emotions openly, adhering to the unspoken rule that men must remain strong and unflinching in the face of adversity. This emotional restraint is particularly evident in his interactions with Abigail, where his love and concern are conveyed through actions rather than words. For instance, his relentless pursuit of his former gang members, despite the personal cost, demonstrates his unwavering dedication to securing his family’s future. Yet, this stoicism also isolates him, highlighting the emotional toll of adhering to these rigid masculine norms.\n",
        "\n",
        "The Code of Honor\n",
        "Another unspoken rule of masculinity that Marston embodies is the adherence to a personal code of honor. In the lawless world of the Old West, where institutions are corrupt and justice is often arbitrary, Marston’s sense of morality becomes a defining aspect of his character. He operates by a set of principles that prioritize loyalty, fairness, and respect, even as he navigates a morally gray world.\n",
        "\n",
        "Marston’s code of honor is most evident in his interactions with others. He helps strangers in need, stands up for the oppressed, and shows respect to those who earn it. However, this code is not without its contradictions. As a former outlaw, Marston has a violent past, and his journey is marked by moments of brutality. Yet, these actions are often framed as necessary evils, reflecting the unspoken rule that men must sometimes resort to violence to protect what they hold dear. This duality underscores the complexity of masculinity, where the line between heroism and villainy is often blurred.\n",
        "\n",
        "The Burden of Independence\n",
        "Independence is another key aspect of traditional masculinity that Marston embodies. Throughout the game, he is portrayed as a self-reliant figure, capable of surviving in the harsh wilderness and overcoming formidable challenges on his own. This independence is a source of pride for Marston, but it also becomes a burden. The unspoken rule that men must rely on themselves and avoid showing weakness often leaves him isolated and vulnerable.\n",
        "\n",
        "Marston’s independence is particularly evident in his reluctance to ask for help. Even when faced with overwhelming odds, he prefers to tackle problems on his own, reflecting the societal expectation that men must be self-sufficient. This trait is both a strength and a flaw, as it often leads him into dangerous situations that could have been avoided with collaboration. Ultimately, Marston’s journey suggests that true strength lies not in isolation but in the ability to forge meaningful connections with others.\n",
        "\n",
        "The Struggle for Redemption\n",
        "At its core, Red Dead Redemption is a story of redemption, and Marston’s quest to atone for his past sins is deeply tied to his understanding of masculinity. The unspoken rule that men must take responsibility for their actions and seek redemption is a central theme of the game. Marston’s willingness to confront his past and make amends reflects his commitment to this ideal.\n",
        "\n",
        "However, the game also critiques the notion that redemption is a straightforward or achievable goal. Marston’s efforts to leave his violent past behind are constantly thwarted by the world around him, suggesting that the expectations placed on men to be both strong and morally upright are often unrealistic. His ultimate fate—a tragic and inevitable consequence of his past—underscores the futility of trying to conform to these rigid masculine ideals.\n",
        "\n",
        "Conclusion\n",
        "John Marston is a complex and multifaceted character who embodies the unspoken rules of masculinity in a way that is both compelling and critical. Through his stoicism, code of honor, independence, and quest for redemption, Marston reflects the societal expectations placed on men to be strong, self-reliant, and morally upright. Yet, his story also highlights the contradictions and costs of these ideals, offering a nuanced commentary on the pressures of traditional masculinity.\n",
        "\n",
        "In the end, Marston’s journey is not just one of personal redemption but also a reflection on the broader struggles of men to navigate the expectations placed upon them. His character reminds us that true strength lies not in adhering to rigid norms but in embracing vulnerability, forging connections, and striving for a more authentic and compassionate understanding of what it means to be a man. Through John Marston, Red Dead Redemption challenges players to reconsider the unspoken rules of masculinity and the impact they have on individuals and society as a whole.\n",
        "\"\"\"\n",
        "\n",
        "THEIRS2 = \"\"\"  The Difference in Progression Between Portal and Tomb Raider: Rules of Play and Ludus Design Principles\n",
        "\n",
        "The Portal series and the Tomb Raider franchise are two iconic examples of video games that, while both falling under the broader category of action-adventure, employ vastly different approaches to progression, player engagement, and game design principles. These differences are particularly evident when examining the \"rules of play\" and the concept of \"ludus,\" a term coined by game theorist Roger Caillois to describe structured, goal-oriented games. By analyzing these two franchises, we can explore how their design philosophies shape player experiences and progression systems.\n",
        "\n",
        "Rules of Play in Portal\n",
        "The Portal series, developed by Valve, is a masterclass in minimalist game design. Its rules of play are deceptively simple: players are equipped with a portal gun that creates two connected portals on flat surfaces, allowing them to navigate through space in innovative ways. The game’s progression is built around this single mechanic, which is gradually expanded and complicated through increasingly challenging puzzles.\n",
        "\n",
        "The rules of play in Portal are tightly defined and consistent. Each level introduces new elements, such as energy balls, light bridges, or tractor beams, but these are always integrated into the core portal mechanic. This creates a sense of mastery as players learn to manipulate the environment within the game’s established rules. The progression is linear but deeply satisfying, as each puzzle builds on the skills and knowledge acquired in previous levels.\n",
        "\n",
        "The Portal series exemplifies the \"ludus\" principle, as it is highly structured and goal-oriented. Each level has a clear objective: reach the exit. The game’s design ensures that players are constantly challenged but never overwhelmed, as the rules are introduced incrementally. This approach fosters a sense of accomplishment and intellectual satisfaction, as players must think creatively within the constraints of the game’s mechanics.\n",
        "\n",
        "Rules of Play in Tomb Raider\n",
        "In contrast, the Tomb Raider franchise, particularly its modern reboot series developed by Crystal Dynamics, adopts a more open and exploratory approach to progression. The rules of play in Tomb Raider are broader and more varied, encompassing combat, exploration, puzzle-solving, and platforming. The game’s progression is tied to both narrative development and character growth, as players guide Lara Croft through her transformation from a vulnerable survivor to a confident adventurer.\n",
        "\n",
        "The rules of play in Tomb Raider are less rigid than those in Portal. While there are specific mechanics, such as climbing, shooting, and crafting, the game allows for a greater degree of player agency. Exploration is encouraged, with hidden tombs, collectibles, and side quests providing opportunities for non-linear progression. This creates a more immersive and dynamic experience, as players can choose how to engage with the game world.\n",
        "\n",
        "However, Tomb Raider still adheres to the \"ludus\" principle, as it maintains a clear structure and set of goals. The narrative drives the progression, with each chapter advancing the story and introducing new challenges. The game’s design balances freedom with direction, ensuring that players are always working toward a specific objective, whether it’s solving a puzzle, defeating enemies, or uncovering the next piece of the story.\n",
        "\n",
        "Comparing Progression and Ludus Design\n",
        "The key difference in progression between Portal and Tomb Raider lies in their approach to player engagement and the application of ludus principles. Portal focuses on intellectual challenge and mastery of a single mechanic, creating a tightly controlled and highly satisfying experience. Its progression is linear and incremental, with each level serving as a stepping stone to greater complexity. This design reinforces the ludus principle by providing clear goals and a structured path to achievement.\n",
        "\n",
        "Tomb Raider, on the other hand, emphasizes exploration, narrative, and character development. Its progression is more open-ended, allowing players to engage with the game world in diverse ways. While it still adheres to the ludus principle through its structured narrative and objectives, it offers greater flexibility in how those objectives are achieved. This creates a more varied and immersive experience, appealing to players who enjoy both challenge and storytelling.\n",
        "\n",
        "Conclusion\n",
        "The Portal series and the Tomb Raider franchise represent two distinct approaches to progression and game design within the action-adventure genre. Portal’s minimalist design and focus on intellectual challenge exemplify the ludus principle through its tightly defined rules of play and linear progression. In contrast, Tomb Raider embraces a broader set of mechanics and a more open-ended structure, balancing ludus with elements of exploration and narrative depth.\n",
        "\n",
        "Both franchises demonstrate how the rules of play and ludus principles can be applied in different ways to create engaging and memorable experiences. Portal challenges players to think creatively within a constrained framework, while Tomb Raider invites them to explore a rich and dynamic world. Together, they highlight the versatility of video games as a medium and the myriad ways in which designers can craft compelling progression systems. Whether through the precision of Portal or the expansiveness of Tomb Raider, both approaches offer unique insights into the art of game design and the enduring appeal of structured, goal-oriented play.\n",
        "\"\"\""
      ],
      "metadata": {
        "id": "bnbtW18FdGbe",
        "colab": {
          "base_uri": "https://localhost:8080/"
        },
        "outputId": "1bcc2e86-9b15-4406-895b-87a2b45ccbf2"
      },
      "execution_count": null,
      "outputs": [
        {
          "output_type": "stream",
          "name": "stdout",
          "text": [
            "I hope my undergrad self can out-puncuate Deepseek AI\n"
          ]
        }
      ]
    },
    {
      "cell_type": "code",
      "source": [
        "print(len(THEIRS1))\n",
        "print(len(YOURS1))\n",
        "print(len(THEIRS2))\n",
        "print(len(YOURS2))\n",
        "print('always has to 1-up me..')"
      ],
      "metadata": {
        "id": "DBq9xxixhMCU",
        "colab": {
          "base_uri": "https://localhost:8080/"
        },
        "outputId": "abbd91f8-a7d8-4480-c73d-57b74283ff51"
      },
      "execution_count": null,
      "outputs": [
        {
          "output_type": "stream",
          "name": "stdout",
          "text": [
            "5934\n",
            "2528\n",
            "5591\n",
            "4372\n"
          ]
        }
      ]
    },
    {
      "cell_type": "code",
      "source": [
        "#\n",
        "# Here, run your punctuation-comparisons (absolute counts)\n",
        "#\n",
        "print(pun_all(YOURS1))\n",
        "print(pun_all(THEIRS1))\n",
        "print(pun_all(YOURS2))\n",
        "print(pun_all(THEIRS2))\n"
      ],
      "metadata": {
        "id": "LuPv_mZ5dVS-",
        "colab": {
          "base_uri": "https://localhost:8080/"
        },
        "outputId": "db215f8a-1ace-4ee1-e556-171c0a4715e3"
      },
      "execution_count": null,
      "outputs": [
        {
          "output_type": "stream",
          "name": "stdout",
          "text": [
            "49\n",
            "107\n",
            "92\n",
            "116\n"
          ]
        }
      ]
    },
    {
      "cell_type": "code",
      "source": [
        "#\n",
        "# Here, run your punctuation-comparisons (relative, per-character counts)\n",
        "#\n",
        "print(pun_all(YOURS1)/len(YOURS1))\n",
        "print(pun_all(THEIRS1)/len(THEIRS1))\n",
        "print(pun_all(YOURS2)/len(YOURS2))\n",
        "print(pun_all(THEIRS2)/len(THEIRS2))\n"
      ],
      "metadata": {
        "id": "aa7OXaM3eIqO",
        "colab": {
          "base_uri": "https://localhost:8080/"
        },
        "outputId": "da250aae-97c7-4f6d-985c-7310e6d40361"
      },
      "execution_count": null,
      "outputs": [
        {
          "output_type": "stream",
          "name": "stdout",
          "text": [
            "0.019382911392405063\n",
            "0.018031681833501855\n",
            "0.021043000914913082\n",
            "0.02074763011983545\n"
          ]
        }
      ]
    },
    {
      "cell_type": "markdown",
      "source": [
        "If you'd like to try some additional stylistic-analysis, <br> see the \"Emotional Punctuation\" extra crdit (at the bottom of the notebook...)\n",
        "\n",
        "\n",
        "\n"
      ],
      "metadata": {
        "id": "_t4sXUfRs2g-"
      }
    },
    {
      "cell_type": "markdown",
      "source": [
        "### Next, we use list comprehensions for _analysis_:\n",
        "+ the number-guessing game\n",
        "+ the two-dice-rolling experiment (counting \"doubles\")\n",
        "+ the birthday-room experiment\n",
        "+ the Monty Hall (three-curtain) game, switch vs. stay...\n",
        "+ the random-walk **you'll analyze these**\n",
        "+ estimating pi **you'll _write_ and analyze these** !\n",
        "\n",
        "Onward!"
      ],
      "metadata": {
        "id": "jzQVp6yF6kgn"
      }
    },
    {
      "cell_type": "code",
      "source": [
        "#\n",
        "# Example while loop: the \"guessing game\"\n",
        "#\n",
        "\n",
        "from random import *\n",
        "\n",
        "def guess( hidden ):\n",
        "    \"\"\"\n",
        "        have the computer guess numbers until it gets the \"hidden\" value\n",
        "        return the number of guesses\n",
        "    \"\"\"\n",
        "    guess = hidden - 1      # start with a wrong guess + don't count it as a guess\n",
        "    number_of_guesses = 0   # start with no guesses made so far...\n",
        "\n",
        "    while guess != hidden:\n",
        "        #print(\"I guess\", guess)  # comment this out - avoid printing when analyzing!\n",
        "        guess = choice( range(0,100) )  # 0 to 99, inclusive\n",
        "        number_of_guesses += 1\n",
        "\n",
        "    return number_of_guesses\n",
        "\n",
        "# test our function!\n",
        "guess(42)"
      ],
      "metadata": {
        "id": "cTCBx52m6sCR",
        "colab": {
          "base_uri": "https://localhost:8080/"
        },
        "outputId": "9fe25d1f-123e-4bd8-992a-bfaf3693a7ff"
      },
      "execution_count": null,
      "outputs": [
        {
          "output_type": "execute_result",
          "data": {
            "text/plain": [
              "4"
            ]
          },
          "metadata": {},
          "execution_count": 46
        }
      ]
    },
    {
      "cell_type": "code",
      "source": [
        "# Let's run 10 number-guessing experiments!\n",
        "\n",
        "L = [ guess(42) for i in range(10) ]\n",
        "print(L)\n",
        "\n",
        "# 10 experiments: let's see them!!"
      ],
      "metadata": {
        "id": "6Vc1kZxz6zwa",
        "colab": {
          "base_uri": "https://localhost:8080/"
        },
        "outputId": "2c951c39-a6c5-42b1-a305-d0110db59586"
      },
      "execution_count": null,
      "outputs": [
        {
          "output_type": "stream",
          "name": "stdout",
          "text": [
            "[43, 20, 205, 31, 8, 52, 24, 41, 60, 7]\n"
          ]
        }
      ]
    },
    {
      "cell_type": "code",
      "source": [
        "# Let's see what the average results were\n",
        "print(\"len(L) is\", len(L))\n",
        "ave = sum(L)/len(L)\n",
        "print(\"average is\", ave )\n",
        "\n",
        "# try min and max, count of 42's, count of 92's, etc."
      ],
      "metadata": {
        "id": "aseFoD1P63US",
        "colab": {
          "base_uri": "https://localhost:8080/"
        },
        "outputId": "d1a1aa23-effb-465a-872f-5ac0adc85ca6"
      },
      "execution_count": null,
      "outputs": [
        {
          "output_type": "stream",
          "name": "stdout",
          "text": [
            "len(L) is 10\n",
            "average is 49.1\n"
          ]
        }
      ]
    },
    {
      "cell_type": "markdown",
      "source": [
        "### Next, an example with our dice-rolling experiment..."
      ],
      "metadata": {
        "id": "OlW1n-SZ66kW"
      }
    },
    {
      "cell_type": "code",
      "source": [
        "#\n",
        "# Let's try again... with the dice-rolling experiment\n",
        "#\n",
        "\n",
        "from random import choice\n",
        "\n",
        "def count_doubles( num_rolls ):\n",
        "    \"\"\"\n",
        "        have the computer roll two six-sided dice, counting the # of doubles\n",
        "        (same value on both dice)\n",
        "        Then, return the number of doubles...\n",
        "    \"\"\"\n",
        "    numdoubles = 0       # start with no doubles so far...\n",
        "\n",
        "    for i in range(0,num_rolls):   # roll repeatedly: i keeps track\n",
        "        d1 = choice( [1,2,3,4,5,6] )  # 0 to 6, inclusive\n",
        "        d2 = choice( range(1,7) )     # 0 to 6, inclusive\n",
        "        if d1 == d2:\n",
        "            numdoubles += 1\n",
        "            you = \"🙂\"\n",
        "        else:\n",
        "            you = \" \"\n",
        "\n",
        "        #print(\"run\", i, \"roll:\", d1, d2, you, flush=True)\n",
        "        #time.sleep(.01)\n",
        "\n",
        "    return numdoubles\n",
        "\n",
        "# test our function!\n",
        "count_doubles(300)"
      ],
      "metadata": {
        "id": "9Qle_IDf7YTU",
        "colab": {
          "base_uri": "https://localhost:8080/"
        },
        "outputId": "26c11631-adac-4d24-f0db-eab4a00449b3"
      },
      "execution_count": null,
      "outputs": [
        {
          "output_type": "execute_result",
          "data": {
            "text/plain": [
              "54"
            ]
          },
          "metadata": {},
          "execution_count": 52
        }
      ]
    },
    {
      "cell_type": "code",
      "source": [
        "L = [ count_doubles(300) for i in range(1000) ]\n",
        "print(\"doubles-counting: L[0:5] are\", L[0:5])\n",
        "print(\"doubles-counting: L[-5:] are\", L[-5:])\n",
        "#\n",
        "# Let's see what the average results were\n",
        "# print(\"len(L) is\", len(L))\n",
        "# ave = sum(L)/len(L)\n",
        "# print(\"average is\", ave )\n",
        "\n",
        "# try min and max, count of 42's, count of 92's, etc."
      ],
      "metadata": {
        "id": "6tX-dj3m7hVW",
        "colab": {
          "base_uri": "https://localhost:8080/"
        },
        "outputId": "6d7738bd-ac85-476b-a7e3-b54f4e60a74e"
      },
      "execution_count": null,
      "outputs": [
        {
          "output_type": "stream",
          "name": "stdout",
          "text": [
            "doubles-counting: L[0:5] are [52, 62, 52, 54, 49]\n",
            "doubles-counting: L[-5:] are [51, 45, 43, 46, 48]\n"
          ]
        }
      ]
    },
    {
      "cell_type": "markdown",
      "source": [
        "### Let's try the birthday-room..."
      ],
      "metadata": {
        "id": "YKyjzTAc7mHs"
      }
    },
    {
      "cell_type": "code",
      "source": [
        "\n",
        "# let's try our birthday-room experiment:\n",
        "\n",
        "from random import choice\n",
        "\n",
        "def birthday_room( days_in_year = 365 ):    # note: default input!\n",
        "    \"\"\"\n",
        "        run the birthday room experiment once!\n",
        "    \"\"\"\n",
        "    B = []\n",
        "    next_bday = choice( range(0,days_in_year) )\n",
        "\n",
        "    while next_bday not in B:\n",
        "        B += [ next_bday ]\n",
        "        next_bday = choice( range(0,days_in_year) )\n",
        "\n",
        "    B += [ next_bday ]\n",
        "    return B\n",
        "\n",
        "\n",
        "\n",
        "# test our three-curtain-game, many times:\n",
        "result = birthday_room()   # use the default value\n",
        "print(result)"
      ],
      "metadata": {
        "id": "cy-ChVtH7w98",
        "colab": {
          "base_uri": "https://localhost:8080/"
        },
        "outputId": "590bc068-0736-49f1-a0d6-c8d8b6cb588b"
      },
      "execution_count": null,
      "outputs": [
        {
          "output_type": "stream",
          "name": "stdout",
          "text": [
            "[219, 338, 121, 311, 14, 272, 152, 161, 177, 128, 356, 105, 111, 346, 302, 231, 218, 144, 269, 203, 277, 142, 274, 332, 93, 32, 1, 174, 77, 131, 238, 46, 90, 297, 325, 22, 122, 176, 79, 250, 225, 119, 245, 146, 235, 9, 139, 155, 232, 47, 357, 246, 220, 127, 343, 214, 271, 343]\n"
          ]
        }
      ]
    },
    {
      "cell_type": "code",
      "source": [
        "LC = [ len(birthday_room()) for i in range(10) ]\n",
        "print(LC)\n",
        "sum(LC) /len(LC)"
      ],
      "metadata": {
        "colab": {
          "base_uri": "https://localhost:8080/"
        },
        "id": "FasZBf3Usyaz",
        "outputId": "182bba9e-f6b9-43b2-e786-3e84d152c9cd"
      },
      "execution_count": null,
      "outputs": [
        {
          "output_type": "stream",
          "name": "stdout",
          "text": [
            "[8, 42, 13, 10, 22, 54, 28, 13, 26, 60]\n"
          ]
        },
        {
          "output_type": "execute_result",
          "data": {
            "text/plain": [
              "27.6"
            ]
          },
          "metadata": {},
          "execution_count": 8
        }
      ]
    },
    {
      "cell_type": "code",
      "source": [
        "\n",
        "L = [ len(birthday_room()) for i in range(100) ]\n",
        "print(\"birthday room: L[0:5] are\", L[0:5])\n",
        "print(\"birthday room: L[-5:] are\", L[-5:])\n",
        "#\n",
        "# Let's see what the average results were\n",
        "print(\"len(L) is\", len(L))\n",
        "ave = sum(L)/len(L)\n",
        "print(\"average is\", ave )\n",
        "print(\"Max is\", max(L))\n",
        "# try min and max, count of 42's, count of 92's, etc."
      ],
      "metadata": {
        "id": "HZVqUUnS76MF",
        "colab": {
          "base_uri": "https://localhost:8080/"
        },
        "outputId": "e3863f22-35eb-4e78-e1b8-588fc8e5e59c"
      },
      "execution_count": null,
      "outputs": [
        {
          "output_type": "stream",
          "name": "stdout",
          "text": [
            "birthday room: L[0:5] are [7, 32, 27, 26, 17]\n",
            "birthday room: L[-5:] are [48, 33, 34, 18, 36]\n",
            "len(L) is 100\n",
            "average is 26.54\n",
            "Max is 60\n"
          ]
        }
      ]
    },
    {
      "cell_type": "code",
      "source": [
        "[ x**2 for x in [3,5,7]]"
      ],
      "metadata": {
        "colab": {
          "base_uri": "https://localhost:8080/"
        },
        "id": "PbSomewIu-ZK",
        "outputId": "b29fd4f3-45db-43d8-9a52-d1e091be9199"
      },
      "execution_count": null,
      "outputs": [
        {
          "output_type": "execute_result",
          "data": {
            "text/plain": [
              "[9, 25, 49]"
            ]
          },
          "metadata": {},
          "execution_count": 13
        }
      ]
    },
    {
      "cell_type": "code",
      "source": [
        "[ s[0] for s in [\"ash\", \"IST341_Participant_8\", \"mohammed\"]]"
      ],
      "metadata": {
        "colab": {
          "base_uri": "https://localhost:8080/"
        },
        "id": "pScxh69dvuq4",
        "outputId": "3a43c854-21b6-4245-ef86-e11eb3f4abc6"
      },
      "execution_count": null,
      "outputs": [
        {
          "output_type": "execute_result",
          "data": {
            "text/plain": [
              "['a', 'i', 'm']"
            ]
          },
          "metadata": {},
          "execution_count": 14
        }
      ]
    },
    {
      "cell_type": "markdown",
      "source": [
        "### The Monty-Hall (three-curtain) switch/stay challenge:"
      ],
      "metadata": {
        "id": "aTcC1Aa477EF"
      }
    },
    {
      "cell_type": "code",
      "source": [
        "#\n",
        "# Example Monte Carlo simulation: the Monte-Carlo Monte Hall paradox\n",
        "#\n",
        "\n",
        "from random import choice\n",
        "\n",
        "def count_wins( N, original_choice, stay_or_switch ):\n",
        "    \"\"\"\n",
        "        run the Monte Hall paradox N times, with\n",
        "        original_choice, which can be 1, 2, or 3 and\n",
        "        stay_or_switch, which can be \"stay\" or \"switch\"\n",
        "        Count the number of wins and return that number.\n",
        "    \"\"\"\n",
        "    numwins = 0       # start with no wins so far...\n",
        "\n",
        "    for i in range(1,N+1):      # run repeatedly: i keeps track\n",
        "        win_curtain = choice([1,2,3])   # the curtain with the grand prize\n",
        "        original_choice = original_choice      # just a reminder that we have this variable\n",
        "        stay_or_switch = stay_or_switch        # a reminder that we have this, too\n",
        "\n",
        "        result = \"\"\n",
        "        if original_choice == win_curtain and stay_or_switch == \"stay\": result = \" Win!!!\"\n",
        "        elif original_choice == win_curtain and stay_or_switch == \"switch\": result = \"lose...\"\n",
        "        elif original_choice != win_curtain and stay_or_switch == \"stay\": result = \"lose...\"\n",
        "        elif original_choice != win_curtain and stay_or_switch == \"switch\": result = \" Win!!!\"\n",
        "\n",
        "        #print(\"run\", i, \"you\", result, flush=True)\n",
        "        #time.sleep(.025)\n",
        "\n",
        "        if result == \" Win!!!\":\n",
        "            numwins += 1\n",
        "\n",
        "\n",
        "    return numwins\n",
        "\n",
        "# test our three-curtain-game, many times:\n",
        "count_wins(300, 1, \"stay\")"
      ],
      "metadata": {
        "id": "IaOvr7c17_OV",
        "colab": {
          "base_uri": "https://localhost:8080/"
        },
        "outputId": "e0cdfa35-a453-47a3-9cbf-55c1b32d6da5"
      },
      "execution_count": null,
      "outputs": [
        {
          "output_type": "execute_result",
          "data": {
            "text/plain": [
              "111"
            ]
          },
          "metadata": {},
          "execution_count": 54
        }
      ]
    },
    {
      "cell_type": "code",
      "source": [
        "\n",
        "L = [ count_wins(300,1,\"stay\") for i in range(1000) ]\n",
        "print(\"curtain game: L[0:5] are\", L[0:5])\n",
        "print(\"curtain game: L[-5:] are\", L[-5:])\n",
        "#\n",
        "# Let's see what the average results were\n",
        "# print(\"len(L) is\", len(L))\n",
        "# ave = sum(L)/len(L)\n",
        "# print(\"average is\", ave )\n",
        "\n",
        "# try min and max, count of 42's, count of 92's, etc."
      ],
      "metadata": {
        "id": "bf68cWHx8BwX",
        "colab": {
          "base_uri": "https://localhost:8080/"
        },
        "outputId": "a19bbf13-5113-44c2-b737-0ea69547aae4"
      },
      "execution_count": null,
      "outputs": [
        {
          "output_type": "stream",
          "name": "stdout",
          "text": [
            "curtain game: L[0:5] are [90, 91, 99, 101, 96]\n",
            "curtain game: L[-5:] are [104, 100, 97, 119, 101]\n"
          ]
        }
      ]
    },
    {
      "cell_type": "markdown",
      "source": [
        "## <b><font color=\"Coral\">Task #4</font></b>: Analyzing random walks of radius ``r``\n",
        "\n",
        "Here, the random-walk code is complete:"
      ],
      "metadata": {
        "id": "Xt65wY6E8EJl"
      }
    },
    {
      "cell_type": "code",
      "source": [
        "#\n",
        "# First, the random-walking code:\n",
        "#\n",
        "\n",
        "import random\n",
        "\n",
        "def rs():\n",
        "    \"\"\"One random step\"\"\"\n",
        "    return random.choice([-1, 1])\n",
        "\n",
        "def rwalk(radius):\n",
        "    \"\"\"Random walk between -radius and +radius  (starting at 0 by default)\"\"\"\n",
        "    totalsteps = 0          # Starting value of totalsteps (_not_ final value!)\n",
        "    start = 0               # Start location (_not_ the total # of steps)\n",
        "\n",
        "    while True:             # Run \"forever\" (really, until a return or break)\n",
        "        if start == -radius or start == radius:\n",
        "            return totalsteps # Phew!  Return totalsteps (stops the while loop)\n",
        "\n",
        "        start = start + rs()\n",
        "        totalsteps += 1     # addn totalsteps 1 (for all who miss Hmmm :-)\n",
        "\n",
        "        #print(\"at:\", start, flush=True) # To see what's happening / debugging\n",
        "        # ASCII = \"|\" + \"_\"*(start- -radius) + \"S\" + \"_\"*(radius-start) + \"|\"\n",
        "        # print(ASCII, flush=True) # To see what's happening / debugging\n",
        "\n",
        "    # it can never get here!\n",
        "\n",
        "# Let's test it:\n",
        "rwalk(5)   # walk randomly within our radius... until we hit a wall!"
      ],
      "metadata": {
        "id": "aUaJmE3D8QJ3",
        "colab": {
          "base_uri": "https://localhost:8080/"
        },
        "outputId": "368cf3d7-b7ac-4af8-cf6b-c18baaac68f8"
      },
      "execution_count": null,
      "outputs": [
        {
          "output_type": "execute_result",
          "data": {
            "text/plain": [
              "17"
            ]
          },
          "metadata": {},
          "execution_count": 62
        }
      ]
    },
    {
      "cell_type": "markdown",
      "source": [
        "Your task: analyze the function ``rwalk`` for different values of the radius\n",
        "\n",
        "The next cell gets you started and asks the specific questions:"
      ],
      "metadata": {
        "id": "pCrrerSW8cnJ"
      }
    },
    {
      "cell_type": "code",
      "source": [
        "\n",
        "# Analyze!\n",
        "# create List Comprehensions that run rwalk(5) for 1000 times\n",
        "\n",
        "# Here is a starting example:\n",
        "L = [ rwalk(5) for i in range(1000) ]\n",
        "\n",
        "# then, find the average of those 1000 experiments for rwalk(5)\n",
        "average = sum(L)/len(L)\n",
        "print(\"The average for radius==5 (for 1000 trials) was\", average)\n",
        "\n",
        "\n",
        "# Next, try it for more values...\n",
        "# Then, you'll create a hypothesis about what's happening!\n",
        "Q = [ rwalk(4) for i in range(1000) ]\n",
        "average2 = sum(Q)/len(Q)\n",
        "print(\"The average for radius==4 (for 1000 trials) was\", average2)"
      ],
      "metadata": {
        "id": "hHOPOnav8qyp",
        "colab": {
          "base_uri": "https://localhost:8080/"
        },
        "outputId": "002fb6fa-d5c4-443c-d1e4-cac5967ad4bc"
      },
      "execution_count": null,
      "outputs": [
        {
          "output_type": "stream",
          "name": "stdout",
          "text": [
            "The average for radius==5 (for 1000 trials) was 23.608\n",
            "The average for radius==50 (for 1000 trials) was 16.122\n"
          ]
        }
      ]
    },
    {
      "cell_type": "markdown",
      "source": [
        "#### <font color=\"Coral\"><b>Processes to try out</b></font>\n",
        "+ In the next cell, repeat the above for a radius of 6, 7, 8, 9, and 10\n",
        "+ It's fast to do:  Copy and paste and edit!!"
      ],
      "metadata": {
        "id": "6YttN3PVhOz8"
      }
    },
    {
      "cell_type": "code",
      "source": [
        "# Repeat the above for a radius of 6, 7, 8, 9, and 10\n",
        "# It's fast to do:  Copy and paste and edit!!\n",
        "# Here is a starting example:\n",
        "Q = [ rwalk(4) for i in range(1000) ]\n",
        "average2 = sum(Q)/len(Q)\n",
        "print(\"The average for radius==4 (for 1000 trials) was\", average2)\n",
        "\n",
        "W = [ rwalk(6) for i in range(1000) ]\n",
        "average3 = sum(W)/len(W)\n",
        "print(\"The average for radius==6 (for 1000 trials) was\", average3)\n",
        "\n",
        "E = [ rwalk(7) for i in range(1000) ]\n",
        "average4 = sum(E)/len(E)\n",
        "print(\"The average for radius==7 (for 1000 trials) was\", average4)\n",
        "\n",
        "R = [ rwalk(8) for i in range(1000) ]\n",
        "average5 = sum(R)/len(R)\n",
        "print(\"The average for radius==8 (for 1000 trials) was\", average5)\n",
        "\n",
        "T = [ rwalk(9) for i in range(1000) ]\n",
        "average6 = sum(T)/len(T)\n",
        "print(\"The average for radius==9 (for 1000 trials) was\", average6)\n",
        "\n",
        "Y = [ rwalk(10) for i in range(1000) ]\n",
        "average7 = sum(Y)/len(Y)\n",
        "print(\"The average for radius==10 (for 1000 trials) was\", average7)"
      ],
      "metadata": {
        "id": "l8JZFP0W9TRp",
        "colab": {
          "base_uri": "https://localhost:8080/"
        },
        "outputId": "5d88232b-b015-4b01-c9c0-1fd3645dec10"
      },
      "execution_count": null,
      "outputs": [
        {
          "output_type": "stream",
          "name": "stdout",
          "text": [
            "The average for radius==4 (for 1000 trials) was 15.906\n",
            "The average for radius==6 (for 1000 trials) was 36.82\n",
            "The average for radius==7 (for 1000 trials) was 50.01\n",
            "The average for radius==8 (for 1000 trials) was 61.436\n",
            "The average for radius==9 (for 1000 trials) was 83.018\n",
            "The average for radius==10 (for 1000 trials) was 97.464\n"
          ]
        }
      ]
    },
    {
      "cell_type": "markdown",
      "source": [
        "#### <font color=\"Coral\"><b>Questions to answer</b></font>\n",
        "+ On average, how many steps does it seem to take to get \"to the edge\" when radius = r? **r^2**\n",
        "+ How far away from the start would you expect our walker to be after 49 steps? after 100 steps? **7, 10**\n",
        "+ How far away from the start would you expect our walker to be after STEPS steps?  **Take the square root of STEPS**\n",
        "\n",
        "<br>\n",
        "\n",
        "Feel free to answer these questions right in this cell:\n",
        "\n",
        "<br>\n",
        "<br>\n",
        "\n",
        "\n",
        "\n",
        "\n",
        "\n",
        "\n",
        "<br>\n",
        "<br>\n",
        "<br>\n",
        "<br>\n",
        "<br>"
      ],
      "metadata": {
        "id": "ju9ZVOtKg3hU"
      }
    },
    {
      "cell_type": "markdown",
      "source": [
        "<br>\n",
        "<hr>\n",
        "<br>\n",
        "\n",
        "# <b>Libraries!</b>\n",
        "\n",
        "Python's deepest strength is the expanse of its _human_-community... .\n",
        "\n",
        "That is reflected, first-and-foremost, in its amazing slate of _libraries_\n",
        "+ Each library is a set of Python files (and, sometimes, other languages) that humans have assembled to address a task or need (or for fun or for exploration or ...)\n",
        "+ The <tt>import</tt> statement is how we access these libraries.\n",
        "\n",
        "The examples below introduce the <tt>requests</tt> library and show off its ability - using Python - to \"scrape\" websites and make \"API calls\"\n",
        "+ To \"scrape\" usually means to \"request the source of a webpage\"\n",
        "+ To make \"API calls\" usually means to \"access some _advertised_ raw data\"\n",
        "\n",
        "The webpage we will scrape is [this simple one I made](https://www.cs.hmc.edu/~dodds/demo.html). (Yay!)\n",
        "\n",
        "The raw data we will access is from the [International Space Station's API](http://open-notify.org/Open-Notify-API/ISS-Location-Now/)...\n",
        "\n"
      ],
      "metadata": {
        "id": "QhOHmwdLYfqN"
      }
    },
    {
      "cell_type": "code",
      "source": [
        "#\n",
        "# see if we have the requests library...\n",
        "#\n",
        "\n",
        "import requests"
      ],
      "metadata": {
        "id": "bRflpUeWeXA5"
      },
      "execution_count": null,
      "outputs": []
    },
    {
      "cell_type": "code",
      "source": [
        "#\n",
        "# let's try it on a simple webpage\n",
        "#\n",
        "\n",
        "#\n",
        "# we assign the url and obtain the api-call result into result\n",
        "#    Note that result will be an object that contains many fields (not a simple string)\n",
        "#\n",
        "\n",
        "url = \"https://www.cs.hmc.edu/~dodds/demo.html\"\n",
        "result = requests.get(url)\n",
        "result\n",
        "\n",
        "# if it succeeded, you should see <Response [200]>\n",
        "# See the list of HTTP reponse codes for the full set!"
      ],
      "metadata": {
        "id": "7wYQAzd8ebPt",
        "colab": {
          "base_uri": "https://localhost:8080/"
        },
        "outputId": "4af2a529-6247-4bc1-980f-d752b8acb28a"
      },
      "execution_count": null,
      "outputs": [
        {
          "output_type": "execute_result",
          "data": {
            "text/plain": [
              "<Response [200]>"
            ]
          },
          "metadata": {},
          "execution_count": 72
        }
      ]
    },
    {
      "cell_type": "markdown",
      "source": [
        "[Here is Wikipedia's list of all HTTP response codes](https://en.wikipedia.org/wiki/List_of_HTTP_status_codes)\n",
        "+ 100's: information\n",
        "+ 200's: success           \n",
        "+ 300's: redirects\n",
        "+ 400's + 500's: errors\n",
        "\n",
        "Perhaps familiar:  404 <br>\n",
        "Especially fun:  418"
      ],
      "metadata": {
        "id": "2ICfZVIPedl7"
      }
    },
    {
      "cell_type": "code",
      "source": [
        "#\n",
        "# when exploring, you'll often obtain an unfamiliar object.\n",
        "# Here, we'll ask what type it is\n",
        "type(result)"
      ],
      "metadata": {
        "id": "vdlGB2y5eoPj",
        "colab": {
          "base_uri": "https://localhost:8080/",
          "height": 138
        },
        "outputId": "4127dc8c-8cd7-4abf-d647-dd84fa20098c"
      },
      "execution_count": null,
      "outputs": [
        {
          "output_type": "execute_result",
          "data": {
            "text/plain": [
              "requests.models.Response"
            ],
            "text/html": [
              "<div style=\"max-width:800px; border: 1px solid var(--colab-border-color);\"><style>\n",
              "      pre.function-repr-contents {\n",
              "        overflow-x: auto;\n",
              "        padding: 8px 12px;\n",
              "        max-height: 500px;\n",
              "      }\n",
              "\n",
              "      pre.function-repr-contents.function-repr-contents-collapsed {\n",
              "        cursor: pointer;\n",
              "        max-height: 100px;\n",
              "      }\n",
              "    </style>\n",
              "    <pre style=\"white-space: initial; background:\n",
              "         var(--colab-secondary-surface-color); padding: 8px 12px;\n",
              "         border-bottom: 1px solid var(--colab-border-color);\"><b>requests.models.Response</b><br/>def __init__()</pre><pre class=\"function-repr-contents function-repr-contents-collapsed\" style=\"\"><a class=\"filepath\" style=\"display:none\" href=\"#\">/usr/local/lib/python3.11/dist-packages/requests/models.py</a>The :class:`Response &lt;Response&gt;` object, which contains a\n",
              "server&#x27;s response to an HTTP request.</pre>\n",
              "      <script>\n",
              "      if (google.colab.kernel.accessAllowed && google.colab.files && google.colab.files.view) {\n",
              "        for (const element of document.querySelectorAll('.filepath')) {\n",
              "          element.style.display = 'block'\n",
              "          element.onclick = (event) => {\n",
              "            event.preventDefault();\n",
              "            event.stopPropagation();\n",
              "            google.colab.files.view(element.textContent, 640);\n",
              "          };\n",
              "        }\n",
              "      }\n",
              "      for (const element of document.querySelectorAll('.function-repr-contents')) {\n",
              "        element.onclick = (event) => {\n",
              "          event.preventDefault();\n",
              "          event.stopPropagation();\n",
              "          element.classList.toggle('function-repr-contents-collapsed');\n",
              "        };\n",
              "      }\n",
              "      </script>\n",
              "      </div>"
            ]
          },
          "metadata": {},
          "execution_count": 73
        }
      ]
    },
    {
      "cell_type": "markdown",
      "source": [
        "How to access the data inside this object, ``result`` ?\n",
        "\n",
        "One way: [Head over to the online documentation](https://requests.readthedocs.io/en/latest/api/#requests.Response)\n",
        "\n",
        "In addition, you can \"look around\" in Python:\n",
        "\n",
        "Notice - the <tt>for</tt> loop! 😃"
      ],
      "metadata": {
        "id": "LMwyLARjeqZD"
      }
    },
    {
      "cell_type": "code",
      "source": [
        "# We can print all of the data members in an object with dir\n",
        "# Since dir returns a list, we will grab that list and loop over it:\n",
        "all_fields = dir(result)\n",
        "\n",
        "for field in all_fields:\n",
        "    if \"_\" not in field:\n",
        "        print(field)"
      ],
      "metadata": {
        "id": "p97FU0EoebxV",
        "colab": {
          "base_uri": "https://localhost:8080/"
        },
        "outputId": "784b4eb6-944c-4552-aabf-8a201e719c2d"
      },
      "execution_count": null,
      "outputs": [
        {
          "output_type": "stream",
          "name": "stdout",
          "text": [
            "close\n",
            "connection\n",
            "content\n",
            "cookies\n",
            "elapsed\n",
            "encoding\n",
            "headers\n",
            "history\n",
            "json\n",
            "links\n",
            "next\n",
            "ok\n",
            "raw\n",
            "reason\n",
            "request\n",
            "text\n",
            "url\n"
          ]
        }
      ]
    },
    {
      "cell_type": "markdown",
      "source": [
        "Here, we will use <tt>f-strings</tt> to print four of the pieces of data inside <tt>result</tt>"
      ],
      "metadata": {
        "id": "ahi8U39Qe8ck"
      }
    },
    {
      "cell_type": "code",
      "source": [
        "#\n",
        "# Let's try printing a few of those fields (data members):\n",
        "print(f\"result.url         is {result.url}\")  # the original url\n",
        "print(f\"result.raw         is {result.raw}\")  # another object!\n",
        "print(f\"result.encoding    is {result.encoding}\")  # utf-8 is very common\n",
        "print(f\"result.status_code is {result.status_code}\")  # 200 is success!"
      ],
      "metadata": {
        "id": "6A_k2K_Oe79x",
        "colab": {
          "base_uri": "https://localhost:8080/"
        },
        "outputId": "06232d56-f1c3-4eee-ff36-058adaa97ff1"
      },
      "execution_count": null,
      "outputs": [
        {
          "output_type": "stream",
          "name": "stdout",
          "text": [
            "result.url         is https://www.cs.hmc.edu/~dodds/demo.html\n",
            "result.raw         is <urllib3.response.HTTPResponse object at 0x7ad7c45a1870>\n",
            "result.encoding    is ISO-8859-1\n",
            "result.status_code is 200\n"
          ]
        }
      ]
    },
    {
      "cell_type": "code",
      "source": [
        "# In this case, the result is a text file (HTML) Let's see it!\n",
        "contents = result.text\n",
        "print(contents)"
      ],
      "metadata": {
        "id": "h4NyWZh-fDLn",
        "colab": {
          "base_uri": "https://localhost:8080/"
        },
        "outputId": "ba889e6b-4c0b-42bb-9691-8a96d67a7949"
      },
      "execution_count": null,
      "outputs": [
        {
          "output_type": "stream",
          "name": "stdout",
          "text": [
            "<html>\n",
            "  <head>\n",
            "    <title>My streamlined website</title>\n",
            "  </head>\n",
            "  <body>\n",
            "    <h1> Welcome! </h1>\n",
            "    <h2> The best numbers </h2>\n",
            "\n",
            "    <div id=\"numberlist\">\n",
            "      <ol>\n",
            "\t<li class=\"number\"> 35 </li>\n",
            "\t<li class=\"number\"> 42 </li>\n",
            "\t<li class=\"number\"> <a href=\"https://en.wikipedia.org/wiki/Rayo%27s_number\">Rayo's number</a> </li>\n",
            "      </ol>\n",
            "    </div>\n",
            "\n",
            "    <img src=\"./spam.jpg\" height=\"84px\">\n",
            "    <br><br>\n",
            "\n",
            "    <h2> The <s>only</s> best snacks </h2>\n",
            "\n",
            "    <div id=\"snacklist\">\n",
            "      <ul>\n",
            "\t<li class=\"snack\"> Poptarts </li>\n",
            "\t<li class=\"snack\"> Chocolate </li>\n",
            "\t<li class=\"snack\"> Coffee </li>\n",
            "      </ul>\n",
            "    </div>\n",
            "\n",
            "<!--    <a href=\"./demo_cat.html\">Aliens <3 cats!</a>  -->\n",
            "\n",
            "    <img src=\"./alien.png\" height=\"101px\">\n",
            "\n",
            "  </body>\n",
            "</html>\n",
            "\n",
            "\n",
            "\n",
            "\n"
          ]
        }
      ]
    },
    {
      "cell_type": "code",
      "source": [
        "# Yay!\n",
        "# This shows that you are able to \"scrape\" an arbitrary HTML page...\n",
        "\n",
        "# Now, we're off to more _structured_ data-gathering..."
      ],
      "metadata": {
        "id": "L3pQ7KNsfF8r"
      },
      "execution_count": null,
      "outputs": []
    },
    {
      "cell_type": "markdown",
      "source": [
        "#### Traversing the world - and web - <i>without a browser</i>.   \n",
        "\n",
        "<b>Using the ISS APIs</b>\n",
        "\n",
        "+ Here, you'll make some calls using `requests` to, first, the International Space Station API\n",
        "+ and, then, the US Geological Survey's earthquake API\n",
        "+ \"API\" is short for \"Application Programming Interface\"\n",
        "  + Admittedly, this is not a very informative name:\n",
        "  + The API is the set of services, which are functions and/or urls, provided by some software or site"
      ],
      "metadata": {
        "id": "7EViIbZ_fHc_"
      }
    },
    {
      "cell_type": "markdown",
      "source": [
        "Let's try it with the International Space Station api at [http://api.open-notify.org/iss-now.json](http://api.open-notify.org/iss-now.json)\n",
        "+ [This page has documentation on the ISS API](http://open-notify.org/Open-Notify-API/ISS-Location-Now/)"
      ],
      "metadata": {
        "id": "Ux6yqtZBfLQy"
      }
    },
    {
      "cell_type": "code",
      "source": [
        "#\n",
        "# we assign the url and obtain the api-call result into result\n",
        "#    Note that result will be an object that contains many fields (not a simple string)\n",
        "#\n",
        "\n",
        "import requests\n",
        "\n",
        "url = \"http://api.open-notify.org/iss-now.json\"   # this is sometimes called an \"endpoint\" ...\n",
        "result = requests.get(url)\n",
        "result\n",
        "\n",
        "# if it succeeds, you should see <Response [200]>"
      ],
      "metadata": {
        "id": "-m-JyBd7fJhU",
        "colab": {
          "base_uri": "https://localhost:8080/"
        },
        "outputId": "62a12af9-2559-4cf9-ef57-4bb4e51215ba"
      },
      "execution_count": null,
      "outputs": [
        {
          "output_type": "execute_result",
          "data": {
            "text/plain": [
              "<Response [200]>"
            ]
          },
          "metadata": {},
          "execution_count": 76
        }
      ]
    },
    {
      "cell_type": "code",
      "source": [
        "#\n",
        "# Let's try printing those shorter fields from before:\n",
        "print(f\"result.url         is {result.url}\")  # the original url\n",
        "print(f\"result.raw         is {result.raw}\")  # another object!\n",
        "print(f\"result.encoding    is {result.encoding}\")  # utf-8 is very common\n",
        "print(f\"result.status_code is {result.status_code}\")  # 200 is success!"
      ],
      "metadata": {
        "id": "Du795XlBfPdQ",
        "colab": {
          "base_uri": "https://localhost:8080/"
        },
        "outputId": "d920dc5e-e312-4c49-886e-498feece2261"
      },
      "execution_count": null,
      "outputs": [
        {
          "output_type": "stream",
          "name": "stdout",
          "text": [
            "result.url         is http://api.open-notify.org/iss-now.json\n",
            "result.raw         is <urllib3.response.HTTPResponse object at 0x7902f5b36050>\n",
            "result.encoding    is utf-8\n",
            "result.status_code is 200\n"
          ]
        }
      ]
    },
    {
      "cell_type": "code",
      "source": [
        "#\n",
        "# In this case, we know the result is a JSON file, and we can obtain it that way:\n",
        "json_contents = result.json()\n",
        "print(json_contents)\n",
        "\n",
        "# Remember:  json_contents will be a _dictionary_"
      ],
      "metadata": {
        "id": "Dne0gFhHfQQk",
        "colab": {
          "base_uri": "https://localhost:8080/"
        },
        "outputId": "438b13b7-0d52-4b4f-f668-23e0b01f35c0"
      },
      "execution_count": null,
      "outputs": [
        {
          "output_type": "stream",
          "name": "stdout",
          "text": [
            "{'timestamp': 1741913039, 'message': 'success', 'iss_position': {'latitude': '46.7044', 'longitude': '-67.3490'}}\n"
          ]
        }
      ]
    },
    {
      "cell_type": "code",
      "source": [
        "#\n",
        "# Let's see how dictionaries work:\n",
        "\n",
        "json_contents['message']\n",
        "\n",
        "# thought experiment:  could we access the other components? What _types_ are they?!!"
      ],
      "metadata": {
        "id": "UQWuhT4MfTwS",
        "colab": {
          "base_uri": "https://localhost:8080/",
          "height": 35
        },
        "outputId": "5fd1f12d-94d3-4a63-bcab-41687c930d51"
      },
      "execution_count": null,
      "outputs": [
        {
          "output_type": "execute_result",
          "data": {
            "text/plain": [
              "'success'"
            ],
            "application/vnd.google.colaboratory.intrinsic+json": {
              "type": "string"
            }
          },
          "metadata": {},
          "execution_count": 79
        }
      ]
    },
    {
      "cell_type": "markdown",
      "source": [
        "## JSON\n",
        "\n",
        "####  Let's make a brief JSON visit in Python\n",
        "\n",
        "In Python, the curly braces <tt>{</tt> and <tt>}</tt> show that data is in a ***dictionary***\n",
        "\n",
        "Dictionaries are much more flexible than lists!\n",
        "\n",
        "Alas, that means they are more complex:"
      ],
      "metadata": {
        "id": "QsuRZkTKfg-I"
      }
    },
    {
      "cell_type": "code",
      "source": [
        "# JSON is a javascript dictionary format -- almost the same as a Python dictionary:\n",
        "data = { 'key':'value',  'fave':42,  'list':[5,6,7,{'mascot':'Aliiien'}] }\n",
        "print(data)"
      ],
      "metadata": {
        "id": "nKo1OS5gfhri"
      },
      "execution_count": null,
      "outputs": []
    },
    {
      "cell_type": "markdown",
      "source": [
        "Most of the time this will be done for us by the ``requests`` library. So, we will simply receive the dictionary of data sent.\n",
        "\n",
        "Then, the trick is to \"extract\" the data fragments we want. (Sometimes it feels like forensics - or archaeology!) Try excavating items one **layer** at a time..."
      ],
      "metadata": {
        "id": "UUlgOVTRf3O-"
      }
    },
    {
      "cell_type": "markdown",
      "source": [
        "#### Remember: &nbsp; <i>not</i> every url returns json data...\n",
        "+ The url [https://www.cs.hmc.edu/~dodds/demo.html](https://www.cs.hmc.edu/~dodds/demo.html) returns a plain-text file with _markup_ text\n",
        "+ that is to say, with HTML tags, such as `<title>Title</title>` to designate the components of its content\n",
        "+ HTML stands for _hypertext markup language_   \n",
        "+ Often anything with tags similar to `<b>be bold!</b>` is called \"markup.\"\n",
        "\n",
        "Let's try our 5C homepages: they're HTML, not JSON:"
      ],
      "metadata": {
        "id": "n2ydEX9qf5u0"
      }
    },
    {
      "cell_type": "code",
      "source": [
        "#\n",
        "# here, we will obtain plain-text results from a request\n",
        "url = \"https://www.cs.hmc.edu/~dodds/demo.html\"  # try it + source\n",
        "# url = \"https://www.scrippscollege.edu/\"          # another possible site...\n",
        "# url = \"https://www.pitzer.edu/\"                  # another possible site...\n",
        "# url = \"https://www.cmc.edu/\"                     # and another!\n",
        "# url = \"https://www.cgu.edu/\"                       # Yay CGU!\n",
        "result = requests.get(url)\n",
        "print(f\"result is {result}\")        # Question: is the result a \"200\" response?!"
      ],
      "metadata": {
        "id": "PWb8L8DXgH0e",
        "colab": {
          "base_uri": "https://localhost:8080/"
        },
        "outputId": "637a82b6-9314-4659-9773-fa1e1fb2a95d"
      },
      "execution_count": null,
      "outputs": [
        {
          "output_type": "stream",
          "name": "stdout",
          "text": [
            "result is <Response [200]>\n"
          ]
        }
      ]
    },
    {
      "cell_type": "markdown",
      "source": [
        "#### For the moment, we will focus on API calls providing JSON\n",
        "+ We're reading-aligned, as we should be!\n",
        "+ The open-ended problem (the finale in this notebook) offers the _option_ of using raw html -- up to you...\n",
        "\n",
        "<br>\n",
        "\n",
        "<b>Let's try another ISS \"endpoint\" ~ one with all of the <i>people</i> in space.</b>\n",
        "\n",
        "It's at this url:  [http://api.open-notify.org/astros.json](http://api.open-notify.org/astros.json)"
      ],
      "metadata": {
        "id": "vkiBGFRrgFpp"
      }
    },
    {
      "cell_type": "code",
      "source": [
        "#\n",
        "# we assign the url and use requests.get to obtain the result into result_astro\n",
        "#\n",
        "#    Remember, result_astro will be an object that contains many fields (not a simple string)\n",
        "#\n",
        "\n",
        "import requests\n",
        "\n",
        "url = \"http://api.open-notify.org/astros.json\"   # this is sometimes called an \"endpoint\" ...\n",
        "result_astro = requests.get(url)\n",
        "result_astro\n",
        "\n",
        "# if it succeeded, you should see <Response [200]>"
      ],
      "metadata": {
        "id": "sH86gZ2Lf4Gc",
        "colab": {
          "base_uri": "https://localhost:8080/"
        },
        "outputId": "3925ad0a-ba1b-4f70-c882-fe581652bf7a"
      },
      "execution_count": null,
      "outputs": [
        {
          "output_type": "execute_result",
          "data": {
            "text/plain": [
              "<Response [200]>"
            ]
          },
          "metadata": {},
          "execution_count": 83
        }
      ]
    },
    {
      "cell_type": "code",
      "source": [
        "# If the request succeeded, we know the result is a JSON file, and we can obtain it that way.\n",
        "# Let's call our dictionary something more specific:\n",
        "\n",
        "astronauts = result_astro.json()\n",
        "print(astronauts)\n",
        "\n",
        "d = astronauts     # shorter to type\n",
        "\n",
        "# Remember:  astronauts will be a _dictionary_\n",
        "\n",
        "note = \"\"\" here's yesterday evening's result - it _should_ be the same this morning!\n",
        "\n",
        "{\"people\": [{\"craft\": \"ISS\", \"name\": \"Oleg Kononenko\"}, {\"craft\": \"ISS\", \"name\": \"Nikolai Chub\"},\n",
        "{\"craft\": \"ISS\", \"name\": \"Tracy Caldwell Dyson\"}, {\"craft\": \"ISS\", \"name\": \"Matthew Dominick\"},\n",
        "{\"craft\": \"ISS\", \"name\": \"Michael Barratt\"}, {\"craft\": \"ISS\", \"name\": \"Jeanette Epps\"},\n",
        "{\"craft\": \"ISS\", \"name\": \"Alexander Grebenkin\"}, {\"craft\": \"ISS\", \"name\": \"Butch Wilmore\"},\n",
        "{\"craft\": \"ISS\", \"name\": \"Sunita Williams\"}, {\"craft\": \"Tiangong\", \"name\": \"Li Guangsu\"},\n",
        "{\"craft\": \"Tiangong\", \"name\": \"Li Cong\"}, {\"craft\": \"Tiangong\", \"name\": \"Ye Guangfu\"}],\n",
        "\"number\": 12, \"message\": \"success\"}\n",
        "\"\"\""
      ],
      "metadata": {
        "id": "W0ePlL0FgZbE",
        "colab": {
          "base_uri": "https://localhost:8080/"
        },
        "outputId": "1376772a-89ad-4387-b562-220b67c6f44f"
      },
      "execution_count": null,
      "outputs": [
        {
          "output_type": "stream",
          "name": "stdout",
          "text": [
            "{'people': [{'craft': 'ISS', 'name': 'Oleg Kononenko'}, {'craft': 'ISS', 'name': 'Nikolai Chub'}, {'craft': 'ISS', 'name': 'Tracy Caldwell Dyson'}, {'craft': 'ISS', 'name': 'Matthew Dominick'}, {'craft': 'ISS', 'name': 'Michael Barratt'}, {'craft': 'ISS', 'name': 'Jeanette Epps'}, {'craft': 'ISS', 'name': 'Alexander Grebenkin'}, {'craft': 'ISS', 'name': 'Butch Wilmore'}, {'craft': 'ISS', 'name': 'Sunita Williams'}, {'craft': 'Tiangong', 'name': 'Li Guangsu'}, {'craft': 'Tiangong', 'name': 'Li Cong'}, {'craft': 'Tiangong', 'name': 'Ye Guangfu'}], 'number': 12, 'message': 'success'}\n"
          ]
        }
      ]
    },
    {
      "cell_type": "markdown",
      "source": [
        "This is pretty intricate. Let's try unpacking this - _parsing it_ - with an in-class break-out challenge."
      ],
      "metadata": {
        "id": "0jtQGFX3gdj_"
      }
    },
    {
      "cell_type": "code",
      "source": [
        "# use this cell for the in-class challenges, which will be\n",
        "#    (1) to extract the value 12 from the dictionary d\n",
        "TA = d['number']\n",
        "print(TA)\n",
        "#    (2) to extract the name \"Sunita Williams\" from the dictionary d\n",
        "for astronaut in d[\"people\"]:\n",
        "    if astronaut[\"name\"] == \"Sunita Williams\":\n",
        "        print(astronaut[\"name\"])\n",
        "        break\n"
      ],
      "metadata": {
        "id": "iVA69g64dWZ_",
        "colab": {
          "base_uri": "https://localhost:8080/"
        },
        "outputId": "e3448a16-a579-4a8d-cc21-d0670f0b17d2"
      },
      "execution_count": null,
      "outputs": [
        {
          "output_type": "stream",
          "name": "stdout",
          "text": [
            "12\n",
            "Sunita Williams\n"
          ]
        }
      ]
    },
    {
      "cell_type": "markdown",
      "source": [
        "#### <font color=\"Coral\"><b>Astronaut challenges!</b></font>\n",
        "+ use the above example to extract <tt>\"Jeanette Epps\"</tt> from the data in the dictionary <tt>d</tt>\n",
        "+ use the above example to extract the string <tt>\"ok\"</tt> from the data in the dictionary <tt>d</tt>. <b>Hint</b>: use the name <tt>\"Nikolai Chub\"</tt>"
      ],
      "metadata": {
        "id": "Y8SR9ePvdZYD"
      }
    },
    {
      "cell_type": "code",
      "source": [
        "# use this cell - based on the example above - to share your solutions to the Astronaut challenges...\n",
        "for astronaut in d[\"people\"]:\n",
        "    if astronaut[\"name\"] == \"Jeanette Epps\":\n",
        "        print(astronaut[\"name\"])\n",
        "        break\n",
        "# Step 1: Locate the dictionary for \"Nikolai Chub\"\n",
        "for astronaut in d[\"people\"]:\n",
        "    if astronaut[\"name\"] == \"Nikolai Chub\":\n",
        "        name = astronaut[\"name\"]\n",
        "        print(name[3] + name[2])\n",
        "        break"
      ],
      "metadata": {
        "id": "sBALADkjeRrL",
        "colab": {
          "base_uri": "https://localhost:8080/"
        },
        "outputId": "04473ee9-a209-4827-d6c4-ad31d9534783"
      },
      "execution_count": null,
      "outputs": [
        {
          "output_type": "stream",
          "name": "stdout",
          "text": [
            "Jeanette Epps\n",
            "ok\n"
          ]
        }
      ]
    },
    {
      "cell_type": "markdown",
      "source": [
        "#### <font color=\"Coral\"><b>Your-own API-call and webscraping challenge!</b></font>\n",
        "+ There are two parts of this challenge:\n",
        "+ find another API, and then\n",
        "  + make a programmatic call to that API\n",
        "  + and extract a piece of data -- of your choice -- from the results\n",
        "  + and print it out (with context)\n",
        "+ then, find a _plain_ webpage that allows scraping\n",
        "  + scrape that page\n",
        "  + and print out the source!\n",
        "  + <b><font color=\"DodgerBlue\">  extra credit </b></font> &nbsp;&nbsp; for extracting an interesting piece of information from the page -- for example, using slicing, or using the <tt>find</tt> function.\n",
        "\n",
        "\n",
        "<br>\n",
        "\n",
        "You've done it! You've both\n",
        "+ used an API (an application programming interface, which provided a JSON), and\n",
        "+ scraped a webpage (the source of a page that you'd see in a browser)\n",
        "\n",
        "Congrats!!\n",
        "\n",
        "<br>\n",
        "<hr>\n",
        "<br>\n",
        "\n",
        "The final part of the notebook investigates the ***ethics*** of API calling and webscraping."
      ],
      "metadata": {
        "id": "6_n8Pys9eXt1"
      }
    },
    {
      "cell_type": "code",
      "source": [
        "#\n",
        "# use this cell for your API call - and data-extraction\n",
        "#import requests\n",
        "\n",
        "url = \"https://catfact.ninja/fact\"   # this is sometimes called an \"endpoint\" ...\n",
        "result_cf = requests.get(url)\n",
        "result_cf"
      ],
      "metadata": {
        "id": "xs0Dapv7gHBI",
        "colab": {
          "base_uri": "https://localhost:8080/"
        },
        "outputId": "4376201a-534e-405a-836f-ab2bb35161cf"
      },
      "execution_count": null,
      "outputs": [
        {
          "output_type": "execute_result",
          "data": {
            "text/plain": [
              "<Response [200]>"
            ]
          },
          "metadata": {},
          "execution_count": 107
        }
      ]
    },
    {
      "cell_type": "code",
      "source": [
        "#\n",
        "# use this cell for your webscraping call - optional data-extraction\n",
        "#\n",
        "\n",
        "cat_fact = result_cf.text\n",
        "print(cat_fact)"
      ],
      "metadata": {
        "id": "hDPHHDwZgJLx",
        "colab": {
          "base_uri": "https://localhost:8080/"
        },
        "outputId": "e7caa2be-f0b8-4af2-c3e0-4ebc5aab3583"
      },
      "execution_count": null,
      "outputs": [
        {
          "output_type": "stream",
          "name": "stdout",
          "text": [
            "{\"fact\":\"The most traveled cat is Hamlet, who escaped from his carrier while on a flight. He hid for seven weeks behind a panel on the airplane. By the time he was discovered, he had traveled nearly 373,000 miles (600,000 km).\",\"length\":217}\n"
          ]
        }
      ]
    },
    {
      "cell_type": "markdown",
      "source": [
        "#### You have a great start with libraries!\n",
        "\n",
        "We'll return to do more in future weeks...\n",
        "+ You might create a final project that involves scraping or API calls!\n",
        "+ It's increasingly common as more and more of our interactions are via browsers, the path to automation is via <tt>requests</tt>, _API calls_, and \"scraping\" ...\n",
        "\n",
        "As one dramatic example, **ChatGPT**'s entire knowledgebase is scraped from the web!"
      ],
      "metadata": {
        "id": "OMZB8Id4ge78"
      }
    },
    {
      "cell_type": "markdown",
      "source": [
        "<br>\n",
        "<hr>\n",
        "<br>\n",
        "\n",
        "# <b>Reading</b> this week\n",
        "\n",
        "<i>(When) Is webscraping legal and/or ethical?</i>\n",
        "\n",
        "<br>\n",
        "\n",
        "This week's reading includes \"1++\" short articles - about libraries, API calls, and webscraping. They investigate _what's ethical_ and _what's not_ ...\n",
        "\n",
        "<br>\n",
        "\n",
        "The first article  is entitled, [\"Is Web Scraping Ethical,\"](https://scrapeops.io/web-scraping-playbook/ethics-of-web-scraping/) by ScrapeOps.io. They're not impartial: they're a webscraping-tools company!\n",
        "\n",
        "<br>\n",
        "\n",
        "The \"+\" is the Facebook/Meta Terms of Service. (Perhaps that makes it \"+1\" instead of \"1+\"?)  This is  ***not***  asking you to read the whole document! Rather, this is specifically [Section 3, Subsection 2 \"What you can share and do on Meta Products.\"](https://www.facebook.com/terms/?section_id=section_3)  It's relatively short: it's one \"screenful.\"  \n",
        "\n",
        "<br>\n",
        "\n",
        "A second \"+\" is the following flowchart, by Sophie Chou of the MIT Media Lab and Pro Publica. Her original article was scraped (!?) by the Wayback Machine and so is available from there, as well.\n",
        "\n",
        "<br>\n",
        "\n",
        "<img src=\"https://www.storybench.org/wp-content/uploads/2016/04/flowchart_final.jpeg\">\n",
        "\n",
        "<br>\n",
        "\n",
        "Then, in response to these resources, reflect on any one or more of these three prompts:   \n",
        "+ (Prompt A) Look over Sophie Chiu's \"Should you scrape?\" flowchart. Find one decision node that you particularly agree -- or disagree -- with. Elaborate on why. (Feel free to note whether you feel this hw is keeping to the chart!)  \n",
        "+ (Prompt B) At the end of the first article there is a set of \"Principles for Responsible Scraping\" Looking that over, find one principle you particularly agree -- or disagree -- with and elaborate on why.\n",
        "+ (Prompt C) Having read some of Facebook's ToS, consider its stated requirement 3.2.3:  \"You may not access or collect data from our Products using automated means (without our prior permission).\"  Elaborate on what you think is included in the phrase \"automated means\" -- as well as what that phrase doesn't include.   \n",
        "\n",
        "As with each week's reading, responses should be carefully considered, but need not be very long (~5 or so sentences is wonderful).  \n"
      ],
      "metadata": {
        "id": "KcRkHHe_d0hP"
      }
    },
    {
      "cell_type": "markdown",
      "source": [
        "<br>\n",
        "<hr>\n",
        "<br>\n",
        "\n",
        "Feel free to use this cell for your thoughts on the ethics/fairness of webscraping:\n",
        "\n",
        "I agree with responsible and ethical web scraping. I believe there are definitely unethical uses such as the bots that scalp and screw over humans trying to buy concert tickets. But outright disallowing the spread of information isn't the key to progress. Information should be fairly freely available and public datasets and information can help people analyze trends, collect data and use that data to make informed decisions, for example. While it's important to follow ToS and source information properly, web scraping can allow knowledge and information to be available without infringing on rights or causing harm.\n",
        "<br>\n",
        "<br>\n",
        "\n",
        "\n",
        "\n",
        "\n",
        "\n",
        "\n",
        "<br>\n",
        "<br>\n",
        "<hr>\n",
        "<br>\n",
        "\n"
      ],
      "metadata": {
        "id": "v4LH9D6UeGKO"
      }
    },
    {
      "cell_type": "markdown",
      "source": [
        "### **Congrats!**\n",
        "\n",
        "You have pulled together some of Python's most powerful - and most popular - features:\n",
        "+ to write functions that score different properties of interest\n",
        "  + vowels, scrabble scores, punctuation, ...\n",
        "  + pretty much anything you might need to measure is expressible using the list-comprehension strategy\n",
        "+ to use those functions in the analysis of authentic data (the prose)\n",
        "+ and to use those functions to run simulations and analyze the results!\n",
        "\n",
        "<br>"
      ],
      "metadata": {
        "id": "nKiRFkmIdubH"
      }
    },
    {
      "cell_type": "markdown",
      "source": [
        "# Submitting...\n",
        "\n",
        "Be sure to submit the url of _your_ copy -- with the challenges, questions, and programs composed --\n",
        "+ to Canvas in the appropriate spot\n",
        "+ by the appropriate Friday evening at 11:42pm\n",
        "+ shared with me (ZD)  ``zdodds@gmail.com``\n",
        "\n",
        "Remember that there are office-hours available, with me - and with CGU's Python tutor(s), as well!\n",
        "\n",
        "<br>\n",
        "\n",
        "\n",
        "As a reminder, the programming parts of Sci10 match the spirit of the course, in seeking, among other things:\n",
        "+ creativity/novelty\n",
        "+ personalization/individual context\n",
        "+ exploration and understanding (does it run?)"
      ],
      "metadata": {
        "id": "rNHGo2zHWUuo"
      }
    },
    {
      "cell_type": "markdown",
      "source": [
        "# <font color=\"DodgerBlue\"><b>Extra Credit</b></font>: pi-estimation challenge!"
      ],
      "metadata": {
        "id": "_hp27Xav6jAy"
      }
    },
    {
      "cell_type": "markdown",
      "source": [
        "### <font color=\"darkblue\"><b>Extra credit</b></font>: Estimating pi from \"pie\" ...\n",
        "\n",
        "\n",
        "Really, it's estimating pi from a circle!\n",
        "\n",
        "This is extra credit (up to +10) and _totally optional_ ...\n",
        "\n",
        "We'll motivate it in class, in one of the two weeks before this is due. 😀\n",
        "\n"
      ],
      "metadata": {
        "id": "BxwKcw4TePg2"
      }
    },
    {
      "cell_type": "code",
      "source": [
        "\n",
        "#\n",
        "# throwing a single dart\n",
        "#\n",
        "\n",
        "import random\n",
        "\n",
        "def dart():\n",
        "    \"\"\"Throws one dart between (-1,-1) and (1,1).\n",
        "       Returns True if it lands in the unit circle; otherwise, False.\n",
        "    \"\"\"\n",
        "    x = random.uniform(-1, 1)\n",
        "    y = random.uniform(-1, 1)\n",
        "    print(\"(x,y) are\", (x,y))   # you'll want to comment this out...\n",
        "\n",
        "    if x**2 + y**2 < 1:\n",
        "        return True  # HIT (within the unit circle)\n",
        "    else:\n",
        "        return False # missed (landed in one of the corners)\n",
        "\n",
        "# try it!\n",
        "result = dart()\n",
        "print(\"result is\", result)\n",
        "\n"
      ],
      "metadata": {
        "id": "2c29w_AHiR0i"
      },
      "execution_count": null,
      "outputs": []
    },
    {
      "cell_type": "markdown",
      "source": [
        "### Try it in a loop:"
      ],
      "metadata": {
        "id": "yd9sxJ5v4xQe"
      }
    },
    {
      "cell_type": "code",
      "source": [
        "# Try it ten times in a loop:\n",
        "\n",
        "for i in range(10):\n",
        "    result = dart()\n",
        "    if result == True:\n",
        "        print(\"   HIT the circle!\")\n",
        "    else:\n",
        "        print(\"   missed...\")\n",
        "\n",
        "\n",
        "# try adding up the number of hits, the number of total throws\n",
        "# remember that pi is approximately 4*hits/throws   (cool!)"
      ],
      "metadata": {
        "id": "31DIxlFx4zgJ"
      },
      "execution_count": null,
      "outputs": []
    },
    {
      "cell_type": "markdown",
      "source": [
        "### Expand this into <tt>forpi</tt>\n",
        "\n",
        "For a detailed explanation, see [the forpi/whilepi challenge](https://www.cs.hmc.edu/twiki/bin/view/CS5Fall2021/PiFromPieGold)"
      ],
      "metadata": {
        "id": "MSDf71jv48L_"
      }
    },
    {
      "cell_type": "code",
      "source": [
        "\n",
        "#\n",
        "# Write forpi(n)\n",
        "#\n",
        "\n",
        "#\n",
        "# For the full explanation, see https://www.cs.hmc.edu/twiki/bin/view/CS5Fall2021/PiFromPieGold\n",
        "#\n",
        "\n",
        "\n",
        "# This is only a starting point\n",
        "def forpi(N):\n",
        "    \"\"\"Throws N darts, estimating pi.\"\"\"\n",
        "    pi = 42     # A suitably poor initial estimate\n",
        "    throws = 0  # No throws yet\n",
        "    hits = 0    # No \"hits\" yet  (hits ~ in the circle)\n",
        "\n",
        "    return hits\n",
        "\n",
        "# Try it!\n",
        "forpi(10)"
      ],
      "metadata": {
        "id": "fA8GFgYl5EbH"
      },
      "execution_count": null,
      "outputs": []
    },
    {
      "cell_type": "markdown",
      "source": [
        "### Expand this into <tt>whilepi</tt>\n",
        "\n",
        "Again, a detailed explanation is available at [the forpi/whilepi challenge](https://www.cs.hmc.edu/twiki/bin/view/CS5Fall2021/PiFromPieGold)"
      ],
      "metadata": {
        "id": "NsCKY7oc5RJ0"
      }
    },
    {
      "cell_type": "code",
      "source": [
        "\n",
        "#\n",
        "# Write whilepi(n)\n",
        "#\n",
        "\n",
        "#\n",
        "# For the full explanation, see https://www.cs.hmc.edu/twiki/bin/view/CS5Fall2021/PiFromPieGold\n",
        "#\n",
        "\n",
        "\n",
        "# This is only a starting point\n",
        "def whilepi(err):\n",
        "    \"\"\"Throws N darts, estimating pi.\"\"\"\n",
        "    pi = 42     # A suitably poor initial estimate\n",
        "    throws = 0  # No throws yet\n",
        "    hits = 0    # No \"hits\" yet  (hits ~ in the circle)\n",
        "\n",
        "    return throws\n",
        "\n",
        "\n",
        "# Try it!\n",
        "whilepi(.01)"
      ],
      "metadata": {
        "id": "V8PEMATc5YcF"
      },
      "execution_count": null,
      "outputs": []
    },
    {
      "cell_type": "markdown",
      "source": [
        "<br>\n",
        "\n",
        "### <font color=\"darkblue\"><b>Also Extra Credit: pi-analysis</b></font>  \n",
        "\n",
        "Now, to put these to use!\n",
        "\n",
        "To analyze these, you should first create new versions that don't print anything!\n",
        "+ <b>create two new functions, below...</b>\n",
        "  + ``forpi_np(N)`` should be just like ``forpi`` but with no printing\n",
        "  + ``whilepi_np(N)`` should be just like ``whilepi`` but with no printing\n",
        "\n",
        "Reminders and guidance:\n",
        "+ They will still return the appropriate value, just as they have been doing above.\n",
        "+ Remember that `forpi_np(N)` returns the estimate of pi after N throws.\n",
        "+ remember that `whilepi_np(err)` returns the number of throws to estimate pi within err of 𝝅\n",
        "+ So, to that end, copy, paste, and rename your two functions, `forpi` and `whilepi`:\n",
        "\n",
        "<br>\n",
        "\n",
        "+ Create `forpi_np(N)` — the np means no printing.\n",
        "+ Similarly, create `whilepi_np(err)`\n",
        "\n",
        "<br>\n",
        "\n",
        "Then, using our List Comprehension techniques (see previous problems!) to analyze the behavior of our two pi-estimating functions:\n",
        "+ Use `range(742)` so that you're running 742 trials at a time...\n",
        "+ Other values are welcome    (It's surprisingly easy to give your machine much more work than it can handle!)\n",
        "+ Include answers (in a markdown cell or a comment in a code cell) to answer:\n",
        "\n",
        "<br>\n",
        "\n",
        "Questions:\n",
        "+ On average, how close to 𝝅 does `forpi_np(N)` get when `N = 1, 10, 100, 1000`  ?\n",
        "+ On average, how many throws are needed for `whilepi_np(e)` to get within `e = 1, .1, .01, 0.001` ?\n",
        "+ Note that these don't adhere to a clear function in the way that `rwalk` did...\n",
        "+ Here, the goal is seeing the trends, rather than eliciting an exact relationship.\n",
        "\n",
        "<br>\n",
        "\n",
        "Bigger-picture questions:\n",
        "+ Does forpi or whilepi estimate 𝝅 more efficiently? Why?\n",
        "+ Does forpi or whilepi estimate 𝝅 more accurately? Why?\n",
        "\n",
        "Just one phrase suffices on these, for sure..."
      ],
      "metadata": {
        "id": "_fNMCuTy5cSz"
      }
    },
    {
      "cell_type": "markdown",
      "source": [
        "### <font color=\"darkblue\"><b>Alternative and also Optional</b> &nbsp; _Emotional_ punctuation differences... ?!</b></font>\n",
        "\n",
        "Totally optional, as ever, for up to +4.6 points of extra credit:\n",
        "\n",
        "The punctuation-scoring functions ``pun_one`` and ``pun_all`` were more limited than they needed to be -- in their ability to distinguish authors:\n",
        "+ they were simply measuring a single dimension: the _amount_ of punctuation used\n",
        "\n",
        "However, the different punctuation marks themsleves are very idiosyncratic -- and very telling -- with respect to a particular author's style.\n",
        "\n",
        "For this extra-credit challenge, create at least two _additional_ punctuation-measuring functions (in the same manner and style as all the ones above), and then\n",
        "+ measure the _relative_ frequency of certain punctuation relative to the overall amount of punctuation in a string of prose\n",
        "+ do this for at least two marks - or sets of marks\n",
        "  + for example, how much of an _exclamation-point_ user are you?\n",
        "  + question marks?\n",
        "  + parens? quotes? hashtags?  There are so many!\n",
        "\n",
        "Then, compare that relative-frequence of _particular_ punctuation marks between your works (above) and the other author's works (again above).\n",
        "\n",
        "<br>\n",
        "\n",
        "Share the results: **Which punctuation usage is most telling in  distinguishing/separating the two styles?**\n",
        "\n",
        "\n",
        "\n",
        "\n"
      ],
      "metadata": {
        "id": "VBp9aff1zE1g"
      }
    },
    {
      "cell_type": "code",
      "source": [
        "#\n",
        "# Your additional punctuation-style explorations (optional!)\n",
        "#\n",
        "\n",
        "\n"
      ],
      "metadata": {
        "id": "PYzCMuGDcUwf"
      },
      "execution_count": null,
      "outputs": []
    }
  ],
  "metadata": {
    "colab": {
      "provenance": []
    },
    "kernelspec": {
      "display_name": "Python 3",
      "name": "python3"
    },
    "language_info": {
      "name": "python"
    }
  },
  "nbformat": 4,
  "nbformat_minor": 0
}