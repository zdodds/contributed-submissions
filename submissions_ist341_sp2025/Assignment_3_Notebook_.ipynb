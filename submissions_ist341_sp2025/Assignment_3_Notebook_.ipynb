{
  "cells": [
    {
      "cell_type": "markdown",
      "source": [
        "# Welcome back, IST 341!\n",
        "\n",
        "### _Assignment 3 Notebook: Functions, Loops, and Monte Carlo!_\n",
        "\n",
        "This week is functions first -- and all the rest.\n",
        "\n",
        "Featuring:\n",
        "+ A few self-similar function applications\n",
        "+ An introduction to _looping_ functions\n",
        "+ Monte Carlo Applications! The \"birthday room\" and \"sleepwalker\" (random walks)\n",
        "+ A reading and response on ChatGPT, naturally\n",
        "  + Feel free to ChatGPT it ...\n",
        "  + ... in which case, respond to its response!"
      ],
      "metadata": {
        "id": "UrkiOTiDEjwp"
      }
    },
    {
      "cell_type": "markdown",
      "source": [
        "### <font color=\"DodgerBlue\"><b>Make your own copy of this notebook (as in each week)</b></font>\n",
        "\n",
        "**Submitting** -- When you're ready to submit, be sure to\n",
        "+ **share** the notebook with the <font color=\"darkblue\">instructor</font> (_hi!_):\n",
        "   + `zdodds@gmail.com`\n",
        "+ and also **submit** the url to your notebook at the appropriate spot on Canvas\n"
      ],
      "metadata": {
        "id": "M7dzL4m4fPYf"
      }
    },
    {
      "cell_type": "markdown",
      "source": [
        "# <b>Leading example</b>:  ``i2I_once``\n",
        "\n",
        "The alien is seeking a capital ``'I'``!\n",
        "\n",
        "The function ``i2I_once(s)`` takes in a string ``s``\n",
        "From there,\n",
        "+ if ``s`` is the single character ``'i'``, the function returns a capital ``'I'``\n",
        "+ otherwise, the function returns the original input, ``s``\n",
        "\n",
        "Try it!\n",
        "\n",
        "<b>Shortcut</b>: <tt>control-/</tt> comments and uncomments..."
      ],
      "metadata": {
        "id": "9BqFJ1etLRzR"
      }
    },
    {
      "cell_type": "code",
      "source": [
        "# single-character substitution:\n",
        "\n",
        "def i2I_once(s):\n",
        "  \"\"\" i2I_once changes an input 'i' to an output 'I'\n",
        "      all other inputs remain the same\n",
        "  \"\"\"\n",
        "  if s == 'i':\n",
        "    return 'I'\n",
        "  else:\n",
        "    return s\n",
        "\n",
        "# tests are in the next cell..."
      ],
      "metadata": {
        "id": "1krVLOH0HQsC"
      },
      "execution_count": null,
      "outputs": []
    },
    {
      "cell_type": "code",
      "source": [
        "# Tests to try for i2I_once  (Try control-/ to uncomment them!)\n",
        "\n",
        "print(\"i2I_once('i') should be 'I' <->\", i2I_once('i'))\n",
        "print(\"i2I_once('j') should be 'j' <->\", i2I_once('j'))\n",
        "print()\n",
        "\n",
        "print(\"i2I_once('alien') should be 'alien' <->\", i2I_once('alien'))\n",
        "print(\"i2I_once('icicle') should be 'icicle' <->\", i2I_once('icicle'))"
      ],
      "metadata": {
        "id": "Y421urjHHTDd",
        "colab": {
          "base_uri": "https://localhost:8080/"
        },
        "outputId": "cee0ba60-eed2-4690-adfe-47659c46d156"
      },
      "execution_count": null,
      "outputs": [
        {
          "output_type": "stream",
          "name": "stdout",
          "text": [
            "i2I_once('i') should be 'I' <-> I\n",
            "i2I_once('j') should be 'j' <-> j\n",
            "\n",
            "i2I_once('alien') should be 'alien' <-> alien\n",
            "i2I_once('icicle') should be 'icicle' <-> icicle\n"
          ]
        }
      ]
    },
    {
      "cell_type": "markdown",
      "source": [
        "## <b>The problem</b>\n",
        "\n",
        "The \"problem\" is that ``i2I_once`` only works on single-character strings. But... <br> **we'd like it to work on <u>every</u> character in a string!**\n",
        "\n",
        "<br>\n",
        "\n",
        "## <b>The solution!</b>\n",
        "\n",
        "We create a second function, ``i2I_all(s)`` which\n",
        "+ calls ``i2I_once`` on the ***first*** character, ``s[0]``\n",
        "+ then, calls ``i2I_all`` on the ***rest***, ``s[1:]``\n",
        "\n",
        "<b>Important!</b> There needs to be a way to stop!\n",
        "+ The function checks if the input ``s`` has no characters...\n",
        "+ in that case, there is nothing to substitute, and the empty string ``''`` is returned\n",
        "\n",
        "Try it!\n",
        "\n"
      ],
      "metadata": {
        "id": "S3fIcroiHwp1"
      }
    },
    {
      "cell_type": "code",
      "source": [
        "# multiple-character substitution\n",
        "\n",
        "def i2I_all(s):\n",
        "  \"\"\" changes i to I for all characters in the input, s \"\"\"\n",
        "  if s == '':       # EMPTY case!\n",
        "    return ''\n",
        "  else:\n",
        "    return i2I_once(s[0]) + i2I_all(s[1:])  # FIRST and REST\n",
        "\n",
        "# tests are in the next cell..."
      ],
      "metadata": {
        "id": "BdvSdeIXHUHB"
      },
      "execution_count": null,
      "outputs": []
    },
    {
      "cell_type": "code",
      "source": [
        "# Tests to try for i2I_all\n",
        "\n",
        "print(\"i2I_all('alien') should be 'alIen' <->\", i2I_all('alien'))\n",
        "print(\"i2I_all('aliiien') should be 'alIIIen' <->\", i2I_all('aliiien'))\n",
        "print()\n",
        "\n",
        "print(\"i2I_all('icicle') should be 'IcIcle' <->\", i2I_all('icicle'))\n",
        "print(\"i2I_all('No eyes to see here') should be 'No eyes to see here' <->\", i2I_all('No eyes to see here'))"
      ],
      "metadata": {
        "id": "lX1tlDNbHVq-",
        "colab": {
          "base_uri": "https://localhost:8080/"
        },
        "outputId": "8837b84a-22fc-4b3a-e709-4dfd5de72433"
      },
      "execution_count": null,
      "outputs": [
        {
          "output_type": "stream",
          "name": "stdout",
          "text": [
            "i2I_all('alien') should be 'alIen' <-> alIen\n",
            "i2I_all('aliiien') should be 'alIIIen' <-> alIIIen\n",
            "\n",
            "i2I_all('icicle') should be 'IcIcle' <-> IcIcle\n",
            "i2I_all('No eyes to see here') should be 'No eyes to see here' <-> No eyes to see here\n"
          ]
        }
      ]
    },
    {
      "cell_type": "markdown",
      "source": [
        "## <b>An <i>alternative</i> solution...</b>\n",
        "\n",
        "The above solution uses only conditionals (`if` and `else`) and function-calls. Because the function calls _itself_, it's called **recursive** .\n",
        "\n",
        "<br>\n",
        "\n",
        "An alternative approach -- and one that, to be honest, is more often used in practice, uses a **loop**.  Loops express _repetition_. It's a bit glib, but in one sense computers are really just machines for running loops... <font size=\"-2\">That said, the loops are almost always inside functions!</font>  \n",
        "\n",
        "## <b>The <i>Loop</i> solution!</b>\n",
        "\n",
        "We create a second solution, ``i2I_all_loop(s)`` which\n",
        "+ loops over each character, giving each one the name `c` - and then\n",
        "+ calls ``i2I_once`` on ***each*** of those characters, `c`\n",
        "+ and, meanwhile, adds up all of the transformed characters\n",
        "+ In the end, it returns the final **result**.\n",
        "\n",
        "Try it!"
      ],
      "metadata": {
        "id": "BSsaKb79M-pZ"
      }
    },
    {
      "cell_type": "code",
      "source": [
        "# multiple-character substitution\n",
        "\n",
        "def i2I_all_loop(s):\n",
        "  \"\"\" changes i to I for all characters in the input, s \"\"\"\n",
        "  result = ''        # the result starts as the EMPTY string!\n",
        "\n",
        "  for c in s:        # c is the name we are giving to EACH element in s (that is, each character in s)\n",
        "    result = result + i2I_once(c)   # each time, we add the new transformed output to the end of result\n",
        "    print(\"result is\", result)    # uncomment this to see the process, in action!\n",
        "\n",
        "  return result      # at the end, we return the final, completely-created result string!\n",
        "\n",
        "# tests are in the next cell..."
      ],
      "metadata": {
        "id": "Zar7ZreiOGAl"
      },
      "execution_count": null,
      "outputs": []
    },
    {
      "cell_type": "code",
      "source": [
        "# Tests to try for i2I_all_loop\n",
        "\n",
        "print(\"i2I_all_loop('alien') should be 'alIen' <->\", i2I_all_loop('alien'))\n",
        "print(\"i2I_all_loop('aliiien') should be 'alIIIen' <->\", i2I_all_loop('aliiien'))\n",
        "print()\n",
        "\n",
        "print(\"i2I_all_loop('icicle') should be 'IcIcle' <->\", i2I_all_loop('icicle'))\n",
        "print(\"i2I_all_loop('No eyes to see here') should be 'No eyes to see here' <->\", i2I_all_loop('No eyes to see here'))"
      ],
      "metadata": {
        "id": "8AUnOPghPEPJ",
        "colab": {
          "base_uri": "https://localhost:8080/"
        },
        "outputId": "336dc3b9-3ff9-4033-bd5e-65d4910eb94a"
      },
      "execution_count": null,
      "outputs": [
        {
          "output_type": "stream",
          "name": "stdout",
          "text": [
            "result is a\n",
            "result is al\n",
            "result is alI\n",
            "result is alIe\n",
            "result is alIen\n",
            "i2I_all_loop('alien') should be 'alIen' <-> alIen\n",
            "result is a\n",
            "result is al\n",
            "result is alI\n",
            "result is alII\n",
            "result is alIII\n",
            "result is alIIIe\n",
            "result is alIIIen\n",
            "i2I_all_loop('aliiien') should be 'alIIIen' <-> alIIIen\n",
            "\n",
            "result is I\n",
            "result is Ic\n",
            "result is IcI\n",
            "result is IcIc\n",
            "result is IcIcl\n",
            "result is IcIcle\n",
            "i2I_all_loop('icicle') should be 'IcIcle' <-> IcIcle\n",
            "result is N\n",
            "result is No\n",
            "result is No \n",
            "result is No e\n",
            "result is No ey\n",
            "result is No eye\n",
            "result is No eyes\n",
            "result is No eyes \n",
            "result is No eyes t\n",
            "result is No eyes to\n",
            "result is No eyes to \n",
            "result is No eyes to s\n",
            "result is No eyes to se\n",
            "result is No eyes to see\n",
            "result is No eyes to see \n",
            "result is No eyes to see h\n",
            "result is No eyes to see he\n",
            "result is No eyes to see her\n",
            "result is No eyes to see here\n",
            "i2I_all_loop('No eyes to see here') should be 'No eyes to see here' <-> No eyes to see here\n"
          ]
        }
      ]
    },
    {
      "cell_type": "markdown",
      "source": [
        "### Recursion expresses \"the future\"  (Wow!)\n",
        "\n",
        "In a sense, recursion's power is its ability to express <i>... and all the future stuff...</i>  \n",
        "\n",
        "\"Knowing\" or, at least, _calling_ the future is quite a feat!\n",
        "\n",
        "As an example, here is a number-guessing game,\n",
        "+ where it's the _computer_ that has to do the guessing:"
      ],
      "metadata": {
        "id": "KDcoGajZ4Hed"
      }
    },
    {
      "cell_type": "code",
      "source": [
        "#\n",
        "# Example of recursion-as-future:\n",
        "#\n",
        "\n",
        "from random import *\n",
        "\n",
        "def guess( hidden ):\n",
        "    \"\"\"\n",
        "        have the computer guess numbers until it gets the \"hidden\" value\n",
        "        return the number of guesses\n",
        "    \"\"\"\n",
        "    this_guess = choice(range(0,100))  # 0 to 99, inclusive\n",
        "\n",
        "    if this_guess == hidden:\n",
        "        print(\"I guessed it!\")\n",
        "        return 1                         # it only took one guess!\n",
        "\n",
        "    else:\n",
        "        return 1 + guess( hidden )  # 1 for this guess, PLUS all future guesses!\n",
        "\n",
        "# test our function!\n",
        "guess(42)"
      ],
      "metadata": {
        "colab": {
          "base_uri": "https://localhost:8080/"
        },
        "id": "uB7xNCEW4gR9",
        "outputId": "86721ed3-266f-48a5-9d74-fee085172484"
      },
      "execution_count": null,
      "outputs": [
        {
          "output_type": "stream",
          "name": "stdout",
          "text": [
            "I guessed it!\n"
          ]
        },
        {
          "output_type": "execute_result",
          "data": {
            "text/plain": [
              "176"
            ]
          },
          "metadata": {},
          "execution_count": 22
        }
      ]
    },
    {
      "cell_type": "markdown",
      "source": [
        "## Loops or Recursion: _Your choice_ ...\n",
        "\n",
        "For these next-few functions, feel free to use loops or recursion.\n",
        "\n",
        "_Suggestion_:  &nbsp; Copy-and-edit the solutions above. Adapt them to the new problem at hand!\n",
        "\n",
        "_Disclaimer_: &nbsp; This is how ***all*** software is created in professional practice: adapting old software that had been solving similar problems!\n",
        "\n",
        "<br>\n",
        "\n",
        "<hr>\n",
        "\n",
        "<br>"
      ],
      "metadata": {
        "id": "pA1aLiC6OGz0"
      }
    },
    {
      "cell_type": "markdown",
      "source": [
        "### <font color=\"darkblue\"><b>Task #1</b></font>: ``spongebobbify_each(s)``\n",
        "\n",
        "The ``i2I_all`` and `i2I_all_loop` and ``i2I_once`` patterns are very powerful -- and very general. Even universal!\n",
        "\n",
        "For <b>task #1</b>, the goal is to write ``spongebobbify_each(s)`` whose goal is to return a randomly-capitalized version of the input string ``s``. For example,\n",
        "\n",
        "``spongebobbify_all('where's gary?')`` might return ``WhERe's gARy?``\n",
        "+ or, it might return ``wHEre'S GArY?``\n",
        "\n",
        "First, we share Python's built-in upper-case and lower-case functions:"
      ],
      "metadata": {
        "id": "E3dQ1H0xLjg_"
      }
    },
    {
      "cell_type": "code",
      "source": [
        "s = 'shout!'\n",
        "print(\"s is\", s)\n",
        "print(\"s.upper() is\", s.upper())"
      ],
      "metadata": {
        "id": "Vw6cf77XOHGi",
        "colab": {
          "base_uri": "https://localhost:8080/"
        },
        "outputId": "0d0ebef8-6fae-4e24-c74c-da1d63c05bf2"
      },
      "execution_count": null,
      "outputs": [
        {
          "output_type": "stream",
          "name": "stdout",
          "text": [
            "s is shout!\n",
            "s.upper() is SHOUT!\n"
          ]
        }
      ]
    },
    {
      "cell_type": "code",
      "source": [
        "s = 'WHISPER...'\n",
        "print(\"s is\", s)\n",
        "print(\"s.lower() is\", s.lower())"
      ],
      "metadata": {
        "id": "UWJ2vrgyOUC0",
        "colab": {
          "base_uri": "https://localhost:8080/"
        },
        "outputId": "09aca3d8-3f09-4dfc-8382-49a58f7900d3"
      },
      "execution_count": null,
      "outputs": [
        {
          "output_type": "stream",
          "name": "stdout",
          "text": [
            "s is WHISPER...\n",
            "s.lower() is whisper...\n"
          ]
        }
      ]
    },
    {
      "cell_type": "markdown",
      "source": [
        "Notice that\n",
        "+ ``s.upper()`` returns a fully upper-cased version of ``s``\n",
        "+ ``s.lower()`` returns a fully lower-cased version of ``s``\n",
        "+ in both cases, non-letters are left alone..."
      ],
      "metadata": {
        "id": "Ja9-9JfLOiFn"
      }
    },
    {
      "cell_type": "markdown",
      "source": [
        "### We provide the ``once`` ...\n",
        "\n",
        "We provide the one-character version, ``spongebobbify_once(s)``\n",
        "+ Notice that it uses the ``random.choice`` function\n",
        "+ It was the same one we used in rock-paper-scissors\n",
        "\n",
        "Try it out:"
      ],
      "metadata": {
        "id": "R6i_1gFfN_7D"
      }
    },
    {
      "cell_type": "code",
      "source": [
        "# We provide the one-character version, in this case:\n",
        "import random                  #  get the random library\n",
        "\n",
        "def spongebobbify_once(s):\n",
        "  \"\"\" returns the input, randomly \"upper-cased\" or \"lower-cased\" \"\"\"\n",
        "  result = random.choice( [s.upper(), s.lower()] )   # choose one at random\n",
        "  return result\n",
        "\n",
        "# Tests in the next cell..."
      ],
      "metadata": {
        "id": "LiIQoH8hHXP-"
      },
      "execution_count": null,
      "outputs": []
    },
    {
      "cell_type": "code",
      "source": [
        "# Tests to try for spongebobbify_once\n",
        "# There are not \"right\" answers, so we just test them:\n",
        "\n",
        "print(spongebobbify_once('F is for friends who do stuff together!'))\n",
        "print(spongebobbify_once('I knew I shouldn\\'t have gotten out of bed today.'))\n",
        "print()\n",
        "\n",
        "# but we want to use it on single letters!\n",
        "print(spongebobbify_once('a'))\n",
        "print(spongebobbify_once('b'))\n",
        "print(spongebobbify_once('c'))\n",
        "print(spongebobbify_once('d'))\n",
        "print(spongebobbify_once('e'))"
      ],
      "metadata": {
        "id": "uYfr7ERRWaev",
        "colab": {
          "base_uri": "https://localhost:8080/"
        },
        "outputId": "314252ad-e9bf-4fcf-f799-8a29a7dd706e"
      },
      "execution_count": null,
      "outputs": [
        {
          "output_type": "stream",
          "name": "stdout",
          "text": [
            "F IS FOR FRIENDS WHO DO STUFF TOGETHER!\n",
            "I KNEW I SHOULDN'T HAVE GOTTEN OUT OF BED TODAY.\n",
            "\n",
            "A\n",
            "B\n",
            "C\n",
            "d\n",
            "E\n"
          ]
        }
      ]
    },
    {
      "cell_type": "markdown",
      "source": [
        "## Now, ``spongebobify_each(s)``\n",
        "\n",
        "<b>Your task</b> is to write ``spongebobify_each(s)``\n",
        "\n",
        "Use the `i2I_all(s)` OR `i2I_all_loop(s)` as guidance and as a template/example. <br>\n",
        "Then, adapt from there:\n",
        "+ How much can be re-used?\n",
        "+ How much works as-is?\n",
        "+ Experiment!\n",
        "\n",
        "It's a remarkably versatile approach!\n",
        "\n",
        "Try our ~~tests~~ quotes -- and add three tests/quotes of your own:\n"
      ],
      "metadata": {
        "id": "nBFQKUs9YY1K"
      }
    },
    {
      "cell_type": "code",
      "source": [
        "# Here, write your  spongebobify_all(s)\n",
        "# A. Recursive Version:\n",
        "def spongebobbify_each_R(s):\n",
        "    from random import choice\n",
        "\n",
        "\n",
        "    def spongebobbify_char(ch):\n",
        "        return choice([ch.upper(), ch.lower()])\n",
        "    if s == \"\":\n",
        "        return \"\"\n",
        "\n",
        "    return spongebobbify_char(s[0]) + spongebobbify_each_R(s[1:])\n",
        "\n",
        "\n",
        "\n",
        "\n",
        "# Try our tests (next cell) and add three of your own...\n",
        "# Preferably sBoB QuoTeS..."
      ],
      "metadata": {
        "id": "fGGZ9ApSZEW1"
      },
      "execution_count": null,
      "outputs": []
    },
    {
      "cell_type": "code",
      "source": [
        "# Tests to try for spongebobbify_once\n",
        "# There are not \"right\" answers, so we just test them:\n",
        "\n",
        "print(spongebobbify_each_R('F is for friends who do stuff together!'))\n",
        "print(spongebobbify_each_R('I knew I shouldn\\'t have gotten out of bed today.'))\n",
        "print(spongebobbify_each_R('The inner machinations of my mind are an enigma. - Patrick'))\n",
        "print()\n",
        "\n",
        "# Your tests here:\n",
        "print(spongebobbify_each_R(\"The best time to wear a striped sweater is all the time.\"))\n",
        "print(spongebobbify_each_R(\"Stupidity isn’t a virus, but it sure is spreading like one.\"))\n",
        "print(spongebobbify_each_R(\"Always follow your heart unless your heart is bad with directions.\"))"
      ],
      "metadata": {
        "id": "geZNGG45ZMlJ",
        "colab": {
          "base_uri": "https://localhost:8080/"
        },
        "outputId": "b50e2324-e3af-4de4-f536-258bcfb8d22a"
      },
      "execution_count": null,
      "outputs": [
        {
          "output_type": "stream",
          "name": "stdout",
          "text": [
            "F Is FOR FRIEnDS Who Do stUFF tOGeTHer!\n",
            "I kNeW i ShOuLdn'T HAvE gOtTen OUT Of Bed tODAy.\n",
            "the iNNER maChiNaTIOns of mY mInd aRe An eNIGma. - paTRick\n",
            "\n",
            "thE BESt TimE tO WEAr A sTrIPed sWEaTer is AlL thE TImE.\n",
            "sTupidIty iSN’T a ViruS, BuT iT surE is SpReaDING liKE onE.\n",
            "AlwaYs fOLLOW yOUR HearT uNLESs YOUR hEArt IS BAD WiTH DIRectiONS.\n"
          ]
        }
      ]
    },
    {
      "cell_type": "markdown",
      "source": [
        "### <font color=\"darkblue\"><b>Task #2</b></font>: ``encode_each(s)`` and ``decode_each(s)``\n",
        "\n",
        "also ``encode_once(s)`` and ``decode_once(s)``\n",
        "\n",
        "<br>\n",
        "\n",
        "_Any_ substitution is possible with our key idea:\n",
        "+ replace the **first** element: the ``once``\n",
        "+ continue the process with the **rest**: another ``all``\n",
        "+ be sure to **stop** (``return ''``) when no input remains!\n",
        "\n",
        "For <b>task #2</b>, we invite you to create your own ``encode`` and ``decode`` functions:\n",
        "\n",
        "<br>\n",
        "\n",
        "Your encode (``encode_once`` and ``encode_all``) should\n",
        "+ replace at least ten letters with other characters\n",
        "  + your choice - other letters, punctuation, emojis ``\"☕⚽ 🦔\"`` or some other one-to-one substitution\n",
        "  + totally ok to substitute more than ten: less readable\n",
        "  + it can't be random, because it needs to be reversible!\n",
        "  + use the loop approach or the recursion approach -- up to you! (Both work...)\n",
        "\n",
        "<br>\n",
        "\n",
        "Your decode (``decode_once`` and ``decode_each``) should\n",
        "+ reverse the effects of your encode functions\n",
        "\n",
        "<br>\n",
        "\n",
        "Then, run our tests -- and add three tests of your own\n",
        "+ let's say at least a sentence, or so, in size..."
      ],
      "metadata": {
        "id": "PTNNYYC3TBrA"
      }
    },
    {
      "cell_type": "code",
      "source": [
        "#\n",
        "# Use this cell -- and/or create more cells -- for your encode and decode functions\n",
        "# There will be four functions in total!\n",
        "#\n",
        "# Characters we want to encode:\n",
        "encode_src = \"aeioubstcg\"\n",
        "\n",
        "# Matching symbols to encode:\n",
        "encode_tgt = \"@3!0µß$+©9\"\n",
        "\n",
        "\n",
        "def encode_once(ch):\n",
        "    # Find the index of ch in the source string\n",
        "    idx = encode_src.find(ch)\n",
        "    if idx != -1:\n",
        "        # If found, return the matching target character\n",
        "        return encode_tgt[idx]\n",
        "    else:\n",
        "        # Otherwise, return unchanged\n",
        "        return ch\n",
        "\n",
        "def decode_once(ch):\n",
        "    idx = encode_tgt.find(ch)\n",
        "    if idx != -1:\n",
        "        return encode_src[idx]\n",
        "    else:\n",
        "        return ch\n",
        "\n",
        "def encode_each(s):\n",
        "    result = \"\"\n",
        "    for ch in s:\n",
        "        result += encode_once(ch)\n",
        "    return result\n",
        "\n",
        "def decode_each(s):\n",
        "    result = \"\"\n",
        "    for ch in s:\n",
        "        result += decode_once(ch)\n",
        "    return result\n",
        "\n",
        "\n",
        "\n",
        "# Our tests are below. Then, add three tests of your own:"
      ],
      "metadata": {
        "id": "Ofu844mMVsjg"
      },
      "execution_count": null,
      "outputs": []
    },
    {
      "cell_type": "code",
      "source": [
        "CGU = \"\"\"Claremont Graduate University prepares individuals to be leaders\n",
        "for positive change in the world. Unique in its transdisciplinary approach,\n",
        "the university is dedicated to the creation, dissemination, and application\n",
        "of new knowledge and diverse perspectives through research, practice,\n",
        "creative works, and community engagement.\n",
        "\"\"\"\n",
        "E = encode_each(CGU)\n",
        "print(\"encode_all(CGU) is\", E)\n",
        "D = decode_each(E)\n",
        "print(\"decode_all(E) is\", D)  # should be the original!\n",
        "\n",
        "CMC = \"\"\"Claremont McKenna College's mission is to educate its students\n",
        "for thoughtful and productive lives and responsible leadership in\n",
        "business, government, and the professions, and to support faculty\n",
        "and student scholarship that contribute to intellectual vitality\n",
        "and the understanding of public policy issues.\"\"\"\n",
        "\n",
        "E = encode_each(CMC)\n",
        "print(\"encode_all(CMC) is\", E)\n",
        "\n",
        "D = decode_each(E)\n",
        "print(\"decode_all(E) is\", D)  # should be the original!\n",
        "\n",
        "SCR = \"\"\"The mission of Scripps College is to educate women to\n",
        "develop their intellects and talents through active participation\n",
        "in a community of scholars, so that as graduates they may contribute\n",
        "to society through public and private lives of leadership, service,\n",
        "integrity, and creativity..\"\"\"\n",
        "\n",
        "E = encode_each(SCR)\n",
        "print(\"encode_all(SCR) is\", E)\n",
        "\n",
        "D = decode_each(E)\n",
        "print(\"decode_all(E) is\", D)  # should be the original!\n",
        "\n"
      ],
      "metadata": {
        "id": "LzyRnUL6V1uw",
        "colab": {
          "base_uri": "https://localhost:8080/"
        },
        "outputId": "30db645e-faa5-4661-a723-3bad87fb374e"
      },
      "execution_count": null,
      "outputs": [
        {
          "output_type": "stream",
          "name": "stdout",
          "text": [
            "encode_all(CGU) is Cl@r3m0n+ Gr@dµ@+3 Un!v3r$!+y pr3p@r3$ !nd!v!dµ@l$ +0 ß3 l3@d3r$\n",
            "f0r p0$!+!v3 ©h@n93 !n +h3 w0rld. Un!qµ3 !n !+$ +r@n$d!$©!pl!n@ry @ppr0@©h,\n",
            "+h3 µn!v3r$!+y !$ d3d!©@+3d +0 +h3 ©r3@+!0n, d!$$3m!n@+!0n, @nd @ppl!©@+!0n\n",
            "0f n3w kn0wl3d93 @nd d!v3r$3 p3r$p3©+!v3$ +hr0µ9h r3$3@r©h, pr@©+!©3,\n",
            "©r3@+!v3 w0rk$, @nd ©0mmµn!+y 3n9@93m3n+.\n",
            "\n",
            "decode_all(E) is Claremont Graduate University prepares individuals to be leaders\n",
            "for positive change in the world. Unique in its transdisciplinary approach,\n",
            "the university is dedicated to the creation, dissemination, and application\n",
            "of new knowledge and diverse perspectives through research, practice,\n",
            "creative works, and community engagement.\n",
            "\n",
            "encode_all(CMC) is Cl@r3m0n+ M©K3nn@ C0ll393'$ m!$$!0n !$ +0 3dµ©@+3 !+$ $+µd3n+$\n",
            "f0r +h0µ9h+fµl @nd pr0dµ©+!v3 l!v3$ @nd r3$p0n$!ßl3 l3@d3r$h!p !n\n",
            "ßµ$!n3$$, 90v3rnm3n+, @nd +h3 pr0f3$$!0n$, @nd +0 $µpp0r+ f@©µl+y\n",
            "@nd $+µd3n+ $©h0l@r$h!p +h@+ ©0n+r!ßµ+3 +0 !n+3ll3©+µ@l v!+@l!+y\n",
            "@nd +h3 µnd3r$+@nd!n9 0f pµßl!© p0l!©y !$$µ3$.\n",
            "decode_all(E) is Claremont McKenna College's mission is to educate its students\n",
            "for thoughtful and productive lives and responsible leadership in\n",
            "business, government, and the professions, and to support faculty\n",
            "and student scholarship that contribute to intellectual vitality\n",
            "and the understanding of public policy issues.\n",
            "encode_all(SCR) is Th3 m!$$!0n 0f S©r!pp$ C0ll393 !$ +0 3dµ©@+3 w0m3n +0\n",
            "d3v3l0p +h3!r !n+3ll3©+$ @nd +@l3n+$ +hr0µ9h @©+!v3 p@r+!©!p@+!0n\n",
            "!n @ ©0mmµn!+y 0f $©h0l@r$, $0 +h@+ @$ 9r@dµ@+3$ +h3y m@y ©0n+r!ßµ+3\n",
            "+0 $0©!3+y +hr0µ9h pµßl!© @nd pr!v@+3 l!v3$ 0f l3@d3r$h!p, $3rv!©3,\n",
            "!n+39r!+y, @nd ©r3@+!v!+y..\n",
            "decode_all(E) is The mission of Scripps College is to educate women to\n",
            "develop their intellects and talents through active participation\n",
            "in a community of scholars, so that as graduates they may contribute\n",
            "to society through public and private lives of leadership, service,\n",
            "integrity, and creativity..\n"
          ]
        }
      ]
    },
    {
      "cell_type": "code",
      "source": [
        "#\n",
        "# Above - or here - include three encode/decode tests of your own...\n",
        "## Example test\n",
        "original = \"I have to get a coffee.\"\n",
        "encoded  = encode_each(original)\n",
        "decoded  = decode_each(encoded)\n",
        "\n",
        "print(\"Original:\", original)\n",
        "print(\"Encoded :\", encoded)\n",
        "print(\"Decoded :\", decoded)  # Should match \"I have to get coffee.\"\n",
        "\n",
        "# Two fun \"treasure-hunt\" test sentences:\n",
        "test2 = \"\"\"When the moon is full, the silent dunes will speak the verse of midnight starlight,\n",
        "           and an iron door conceals the vault guarded by living flames will be revealed.\"\"\"\n",
        "test3 = \"\"\"My name is Maximus Decimus Meridius, commander of the Armies of the North,\n",
        "           General of the Felix Legions and loyal servant to the true emperor, Marcus Aurelius.\n",
        "           Father to a murdered son, husband to a murdered wife. And I will have my vengeance,\n",
        "           in this life or the next.” (Gladiator, 2000).\"\"\"\n",
        "\n",
        "# Encode and decode each sentence\n",
        "encoded2 = encode_each(test2)\n",
        "decoded2 = decode_each(encoded2)\n",
        "\n",
        "encoded3 = encode_each(test3)\n",
        "decoded3 = decode_each(encoded3)\n",
        "\n",
        "# Print results\n",
        "print(\"Original 2\", test2)\n",
        "print(\"Encoded 2 :\", encoded2)\n",
        "print(\"Decoded 2 :\", decoded2)\n",
        "print()\n",
        "print(\"Original 3:\", test3)\n",
        "print(\"Encoded 3 :\", encoded3)\n",
        "print(\"Decoded 3 :\", decoded3)\n"
      ],
      "metadata": {
        "id": "sJ9Wcp1GeCgj",
        "colab": {
          "base_uri": "https://localhost:8080/"
        },
        "outputId": "fd5551a4-02e8-4369-9534-c8cefd03f526"
      },
      "execution_count": null,
      "outputs": [
        {
          "output_type": "stream",
          "name": "stdout",
          "text": [
            "Original: I have to get a coffee.\n",
            "Encoded : I h@v3 +0 93+ @ ©0ff33.\n",
            "Decoded : I have to get a coffee.\n",
            "Original 2 When the moon is full, the silent dunes will speak the verse of midnight starlight, \n",
            "           and an iron door conceals the vault guarded by living flames will be revealed.\n",
            "Encoded 2 : Wh3n +h3 m00n !$ fµll, +h3 $!l3n+ dµn3$ w!ll $p3@k +h3 v3r$3 0f m!dn!9h+ $+@rl!9h+, \n",
            "           @nd @n !r0n d00r ©0n©3@l$ +h3 v@µl+ 9µ@rd3d ßy l!v!n9 fl@m3$ w!ll ß3 r3v3@l3d.\n",
            "Decoded 2 : When the moon is full, the silent dunes will speak the verse of midnight starlight, \n",
            "           and an iron door conceals the vault guarded by living flames will be revealed.\n",
            "\n",
            "Original 3: My name is Maximus Decimus Meridius, commander of the Armies of the North, \n",
            "           General of the Felix Legions and loyal servant to the true emperor, Marcus Aurelius. \n",
            "           Father to a murdered son, husband to a murdered wife. And I will have my vengeance, \n",
            "           in this life or the next.” (Gladiator, 2000).\n",
            "Encoded 3 : My n@m3 !$ M@x!mµ$ D3©!mµ$ M3r!d!µ$, ©0mm@nd3r 0f +h3 Arm!3$ 0f +h3 N0r+h, \n",
            "           G3n3r@l 0f +h3 F3l!x L39!0n$ @nd l0y@l $3rv@n+ +0 +h3 +rµ3 3mp3r0r, M@r©µ$ Aµr3l!µ$. \n",
            "           F@+h3r +0 @ mµrd3r3d $0n, hµ$ß@nd +0 @ mµrd3r3d w!f3. And I w!ll h@v3 my v3n93@n©3, \n",
            "           !n +h!$ l!f3 0r +h3 n3x+.” (Gl@d!@+0r, 2000).\n",
            "Decoded 3 : My name is Maximus Decimus Meridius, commander of the Armies of the North, \n",
            "           General of the Felix Legions and loyal servant to the true emperor, Marcus Aurelius. \n",
            "           Father to a murdered son, husband to a murdered wife. And I will have my vengeance, \n",
            "           in this life or the next.” (Gladiator, 2ooo).\n"
          ]
        }
      ]
    },
    {
      "cell_type": "markdown",
      "source": [
        "### <font color=\"darkblue\"><b>Task #3: Counting!</b></font> &nbsp; ``vwl_once(s)`` and ``vwl_count(s)``\n",
        "\n",
        "<br>\n",
        "\n",
        "This technique handles _any_ substitution, even numeric ones!\n",
        "\n",
        "Next, our goal will be to ***count*** the number of vowels in an input string ``s``:\n",
        "+ we use ``vwl_once(s)`` to give a count of ``1`` to vowels\n",
        "+ and we give a count of ``0`` to everything that's not a vowel\n",
        "+ For now, we'll count ``aeiou`` as vowels, and their uppercase selves\n",
        "\n",
        "Then, **you** will write  ``vwl_count(s)`` to handle arbitrary-sized inputs!\n",
        "+ The first functions is written, as shown below.\n",
        "+ The second one is prepared, and your task is to complete it...\n",
        "+ It will be very much like previous functions!\n",
        "\n",
        "<br>\n",
        "\n",
        "Then, try it out -- analyze the \"vowel-content\" of the three mission statements above -- and test your own and a friend's prose-paragraphs:"
      ],
      "metadata": {
        "id": "yquk1xgWXz2z"
      }
    },
    {
      "cell_type": "code",
      "source": [
        "#\n",
        "# Here are vwl_once and vwl_all\n",
        "#\n",
        "\n",
        "def vwl_once(s):\n",
        "  \"\"\" returns a score of 1 for single-character vowels aeiou\n",
        "      returns a score of 0 for everything else\n",
        "  \"\"\"\n",
        "  if len(s) != 1:    # not a single-character? score is 0\n",
        "    return 0\n",
        "  else:\n",
        "    s = s.lower()    # simplify by making s lower case\n",
        "    if s in 'aeiou':      # if s is in that string, it's a vowel: score is 1\n",
        "      return 1\n",
        "    else:                 # if not: score is 0\n",
        "      return 0\n",
        "\n",
        "\n",
        "def vwl_count(s):\n",
        "  \"\"\" returns the total \"vowel-score for an input string s\n",
        "      that is, we return the number of vowels in s\n",
        "  \"\"\"\n",
        "  total = 0\n",
        "  for ch in s:\n",
        "        total += vwl_once(ch)\n",
        "  return total\n",
        "\n",
        "  # you need to write this one!\n",
        "  # use the previous examples (especially the \"each\" examples) as a guide! :-)\n",
        "\n",
        "\n",
        "\n",
        "# Tests and tests-to-write are in the next cells:"
      ],
      "metadata": {
        "id": "ffMaiI26eIZQ"
      },
      "execution_count": null,
      "outputs": []
    },
    {
      "cell_type": "code",
      "source": [
        "print(\"vwl_count('English usually has lots of vowels.') should be 10 <->\", vwl_count('English usually has lots of vowels.'))\n",
        "print(\"The CGU mission statement has this many vowels: (let's see!) <->\", vwl_count(CGU))"
      ],
      "metadata": {
        "id": "YCtNmfnZetpe",
        "colab": {
          "base_uri": "https://localhost:8080/"
        },
        "outputId": "6850ccc9-66c5-4d15-9123-cac5cd58261c"
      },
      "execution_count": null,
      "outputs": [
        {
          "output_type": "stream",
          "name": "stdout",
          "text": [
            "vwl_count('English usually has lots of vowels.') should be 10 <-> 10\n",
            "The CGU mission statement has this many vowels: (let's see!) <-> 110\n"
          ]
        }
      ]
    },
    {
      "cell_type": "code",
      "source": [
        "#\n",
        "# Part 1 task: determine which mission statement has the most vowels-per-character!\n",
        "#\n",
        "#        Hint: count the vowels, then use len to determine vowels-per-character!\n",
        "#        Compare the three strings already defined above:   CGU,  CMC,  and SCR\n",
        "\n",
        "def vowel_density(s):\n",
        "    # number of vowels\n",
        "    v_count = vwl_count(s)\n",
        "    # total characters\n",
        "    length = len(s)\n",
        "    if length == 0:\n",
        "        return 0\n",
        "    else:\n",
        "        return v_count / length\n",
        "\n",
        "CGU_density = vowel_density(CGU)\n",
        "CMC_density = vowel_density(CMC)\n",
        "SCR_density = vowel_density(SCR)\n",
        "\n",
        "print(\"CGU density =\", CGU_density)\n",
        "print(\"CMC density =\", CMC_density)\n",
        "print(\"SCR density =\", SCR_density)\n",
        "\n",
        "densities = [\n",
        "    (\"CGU\", CGU_density),\n",
        "    (\"CMC\", CMC_density),\n",
        "    (\"SCR\", SCR_density)\n",
        "]\n",
        "densities.sort(key=lambda x: x[1], reverse=True)  # sort descending by density\n",
        "\n",
        "print(\"\\nMission statement with highest vowels-per-character is:\", densities[0][0])\n",
        "\n"
      ],
      "metadata": {
        "id": "Vy2Q-bAdcIzB",
        "colab": {
          "base_uri": "https://localhost:8080/"
        },
        "outputId": "676f89df-126e-480b-ae1d-35e5a571eae6"
      },
      "execution_count": null,
      "outputs": [
        {
          "output_type": "stream",
          "name": "stdout",
          "text": [
            "CGU density = 0.3343465045592705\n",
            "CMC density = 0.30392156862745096\n",
            "SCR density = 0.3204225352112676\n",
            "\n",
            "Mission statement with highest vowels-per-character is: CGU\n"
          ]
        }
      ]
    },
    {
      "cell_type": "code",
      "source": [
        "#\n",
        "# Part 2 task: determine whose prose is more vowel-rich?\n",
        "# + find a paragraph of prose you've written\n",
        "# + find a paragraph a friend has written (or another one that you have!)\n",
        "#\n",
        "# Assign each to a variable:\n",
        "\n",
        "Hope = \"\"\"  From the crumbling watchtower, the lone sentinel gazed upon the horizon,\n",
        "where storm clouds gathered like an omen. The ancient kingdom’s banners lay torn\n",
        "amidst the rubble, and whispers of a forgotten prophecy echoed through the wind.\n",
        "Despite the looming darkness, a spark of hope burned in the hearts of those\n",
        "who still remembered the old legends.\n",
        "\"\"\"\n",
        "\n",
        "Fight = \"\"\"  High above the silent planet, a colossal flagship drifted through\n",
        "the cosmic haze. Its corridors glowed with flickering lights, revealing the scars\n",
        "of countless battles. Within its steel chambers, the crew prepared for a final stand,\n",
        "uncertain whether they would safeguard their galaxy or witness its last dawn.\n",
        "\"\"\"\n",
        "\n",
        "print(\"Hope ratio :\", vowel_density(Hope))\n",
        "print(\"Fight ratio:\", vowel_density(Fight))\n",
        "\n",
        "if vowel_density(Hope) > vowel_density(Fight):\n",
        "    print(\"Hope paragraph is more vowel-rich!\")\n",
        "elif vowel_density(Hope) < vowel_density(Fight):\n",
        "    print(\"Fight paragraph is more vowel-rich!\")\n",
        "else:\n",
        "    print(\"Both paragraphs have the same vowel ratio!\")\n"
      ],
      "metadata": {
        "id": "qNmOUfXrckDv",
        "colab": {
          "base_uri": "https://localhost:8080/"
        },
        "outputId": "753822ea-7d7b-4e56-da76-bd11ea9f4038"
      },
      "execution_count": null,
      "outputs": [
        {
          "output_type": "stream",
          "name": "stdout",
          "text": [
            "Hope ratio : 0.28205128205128205\n",
            "Fight ratio: 0.2770700636942675\n",
            "Hope paragraph is more vowel-rich!\n"
          ]
        }
      ]
    },
    {
      "cell_type": "markdown",
      "metadata": {
        "id": "keRyNeHE3gF4"
      },
      "source": [
        "<br>\n",
        "\n",
        "# Loops!\n",
        "\n",
        "in addition, this notebook combines last week's ideas (functions and slicing/indexing) with the most important time-saving capability of programming languages: <i>repetition</i>\n",
        "\n",
        "That is, we're diving into <i><b>loops</b></i>\n",
        "\n",
        "In addition, we explore more deeply a library we used in the rock-paper-scissors problem, namely the <b><tt>random</tt></b> library.\n",
        "\n",
        "Together, <i>randomness</i> and <i>loops</i> are a powerful combination. Later in this notebook, you will create a <i>Monte Carlo simulations</i> using randomness-within-loops.\n",
        "\n",
        "<hr>\n",
        "\n",
        "## Onward!\n",
        "\n",
        "<br>"
      ]
    },
    {
      "cell_type": "code",
      "execution_count": null,
      "metadata": {
        "id": "djYWrO0u3gGA"
      },
      "outputs": [],
      "source": [
        "\n",
        "# this imports the library named random\n",
        "\n",
        "import random\n",
        "\n",
        "# once it's imported, you are able to call random.choice(L) for any sequence L\n",
        "# try it:"
      ]
    },
    {
      "cell_type": "code",
      "execution_count": null,
      "metadata": {
        "id": "RPrqK2Sr3gGC",
        "colab": {
          "base_uri": "https://localhost:8080/"
        },
        "outputId": "9e1d8e2e-c31e-4d67-8600-7113a104b5ff"
      },
      "outputs": [
        {
          "output_type": "stream",
          "name": "stdout",
          "text": [
            "result is university\n"
          ]
        }
      ],
      "source": [
        "\n",
        "# Try out random.choice -- several times!\n",
        "result = random.choice( ['claremont', 'graduate', 'university'] )\n",
        "print(\"result is\", result)"
      ]
    },
    {
      "cell_type": "code",
      "execution_count": null,
      "metadata": {
        "id": "AReUp5wT3gGD",
        "colab": {
          "base_uri": "https://localhost:8080/"
        },
        "outputId": "a622e320-f510-4096-eaf0-ad1d66d7a58f"
      },
      "outputs": [
        {
          "output_type": "stream",
          "name": "stdout",
          "text": [
            "result is graduate\n",
            "result is university\n",
            "result is graduate\n",
            "result is claremont\n",
            "result is university\n",
            "result is claremont\n",
            "result is graduate\n",
            "result is university\n",
            "result is claremont\n",
            "result is graduate\n"
          ]
        }
      ],
      "source": [
        "\n",
        "# let's see a loop do this 10 times!\n",
        "\n",
        "for i in range(10):                # loop 10 times\n",
        "    result = random.choice( ['claremont', 'graduate', 'university'] ) # choose\n",
        "    print(\"result is\", result)     # print"
      ]
    },
    {
      "cell_type": "code",
      "execution_count": null,
      "metadata": {
        "id": "8aAzqlsj3gGF"
      },
      "outputs": [],
      "source": [
        "\n",
        "#\n",
        "# you can also import a library can be imported by using this line:\n",
        "\n",
        "from random import *\n",
        "\n",
        "# when the above line is run, you are able to call choice(L) for any sequence L\n",
        "#\n",
        "# note that you won't need random.choice(L)\n",
        "# let's try it!"
      ]
    },
    {
      "cell_type": "code",
      "execution_count": null,
      "metadata": {
        "id": "SKvXsosu3gGG",
        "colab": {
          "base_uri": "https://localhost:8080/"
        },
        "outputId": "934f1f0a-c4dd-49e7-c4b9-a59522800f9b"
      },
      "outputs": [
        {
          "output_type": "stream",
          "name": "stdout",
          "text": [
            "result is rock\n"
          ]
        }
      ],
      "source": [
        "\n",
        "result = choice( [\"rock\", \"paper\", \"scissors\"] )\n",
        "print(\"result is\", result)"
      ]
    },
    {
      "cell_type": "code",
      "execution_count": null,
      "metadata": {
        "id": "KMZMwPDR3gGH",
        "colab": {
          "base_uri": "https://localhost:8080/"
        },
        "outputId": "2f99e85b-5249-47c5-94ae-ddf4099eb157"
      },
      "outputs": [
        {
          "output_type": "stream",
          "name": "stdout",
          "text": [
            "[0, 1, 2, 3, 4, 5, 6, 7, 8, 9, 10, 11, 12, 13, 14, 15, 16, 17, 18, 19, 20, 21, 22, 23, 24, 25, 26, 27, 28, 29, 30, 31, 32, 33, 34, 35, 36, 37, 38, 39, 40, 41, 42, 43, 44, 45, 46, 47, 48, 49, 50, 51, 52, 53, 54, 55, 56, 57, 58, 59, 60, 61, 62, 63, 64, 65, 66, 67, 68, 69, 70, 71, 72, 73, 74, 75, 76, 77, 78, 79, 80, 81, 82, 83, 84, 85, 86, 87, 88, 89, 90, 91, 92, 93, 94, 95, 96, 97, 98, 99]\n",
            "[1, 2, 3, 4, 5, 6, 7, 8, 9, 10, 11, 12, 13, 14]\n"
          ]
        }
      ],
      "source": [
        "\n",
        "# Python can create lists of any integers you'd like...\n",
        "L = list(range(0,100))    # try different values; try omitting/changing the 0\n",
        "print(L)\n",
        "M = list(range (1,15) )\n",
        "print(M)"
      ]
    },
    {
      "cell_type": "code",
      "execution_count": null,
      "metadata": {
        "id": "hjbvKcOx3gGI",
        "colab": {
          "base_uri": "https://localhost:8080/"
        },
        "outputId": "394ce2a1-fd83-4875-a29e-02a3bb2d4a37"
      },
      "outputs": [
        {
          "output_type": "stream",
          "name": "stdout",
          "text": [
            "result is 19\n"
          ]
        }
      ],
      "source": [
        "\n",
        "# combining these, we can choose random integers from a list\n",
        "result = choice( range(0,100) )   # from 0 to 99\n",
        "print(\"result is\", result)"
      ]
    },
    {
      "cell_type": "code",
      "execution_count": null,
      "metadata": {
        "id": "-vct4ZWf3gGJ",
        "colab": {
          "base_uri": "https://localhost:8080/"
        },
        "outputId": "84b855de-7af3-4d8c-b5c1-1af6c3f84df6"
      },
      "outputs": [
        {
          "output_type": "stream",
          "name": "stdout",
          "text": [
            "result is 29\n",
            "result is 81\n",
            "result is 5\n",
            "result is 64\n",
            "result is 10\n",
            "result is 32\n",
            "result is 59\n",
            "result is 37\n",
            "result is 4\n",
            "result is 25\n"
          ]
        }
      ],
      "source": [
        "\n",
        "# let's run this 10 times!\n",
        "for i in range(0,10):\n",
        "    result = choice( range(0,100) )   # from 0 to 99\n",
        "    print(\"result is\", result)"
      ]
    },
    {
      "cell_type": "code",
      "execution_count": null,
      "metadata": {
        "id": "jqs9df3l3gGJ",
        "colab": {
          "base_uri": "https://localhost:8080/"
        },
        "outputId": "c0ec890e-6566-4c36-8281-7f58181cebcc"
      },
      "outputs": [
        {
          "output_type": "stream",
          "name": "stdout",
          "text": [
            "i is 0\n",
            "i is 1\n",
            "i is 2\n"
          ]
        }
      ],
      "source": [
        "\n",
        "# let's get more comfortable with loops...\n",
        "\n",
        "for i in [0,1,2]:     # Key: What variable is being defined and set?!\n",
        "    print(\"i is\", i)\n"
      ]
    },
    {
      "cell_type": "code",
      "execution_count": null,
      "metadata": {
        "id": "eb2C9OKS3gGJ",
        "colab": {
          "base_uri": "https://localhost:8080/"
        },
        "outputId": "67e5e4fb-7d35-42a4-cc6d-b95690226717"
      },
      "outputs": [
        {
          "output_type": "stream",
          "name": "stdout",
          "text": [
            "i is 0\n",
            "i is 1\n",
            "i is 2\n"
          ]
        }
      ],
      "source": [
        "\n",
        "# Note that range(0,3) generates [0,1,2]\n",
        "\n",
        "for i in range(0,3):     # Key: What variable is being defined and set?!\n",
        "    print(\"i is\", i)\n",
        "\n",
        "# When would you _not_ want to use range for integers?"
      ]
    },
    {
      "cell_type": "code",
      "execution_count": null,
      "metadata": {
        "id": "H8qzyqaS3gGU",
        "colab": {
          "base_uri": "https://localhost:8080/"
        },
        "outputId": "112967eb-c3ed-4cea-9012-7039c8128871"
      },
      "outputs": [
        {
          "output_type": "stream",
          "name": "stdout",
          "text": [
            "x is 2\n",
            "x is 15\n",
            "x is 2025\n"
          ]
        }
      ],
      "source": [
        "\n",
        "# Usually i is for counting, x is for other things (wise, not req.)\n",
        "\n",
        "for x in [2,15,2025]:     # Key: the loop variable\n",
        "    print(\"x is\", x)\n",
        "\n",
        "# When would you _not_ want to use range for integers?\n",
        "#\n",
        "# we wouldn’t want to use range(...) if our numbers aren’t in a sequence\n",
        "# or if we have only a few specific values to loop through."
      ]
    },
    {
      "cell_type": "code",
      "execution_count": null,
      "metadata": {
        "id": "SCG79oyN3gGU",
        "colab": {
          "base_uri": "https://localhost:8080/"
        },
        "outputId": "3e692a5d-3287-474d-c980-e9e3028b7ba9"
      },
      "outputs": [
        {
          "output_type": "stream",
          "name": "stdout",
          "text": [
            "Happy birthday!\n",
            "total =  1\n",
            "Happy birthday!\n",
            "total =  2\n",
            "Happy birthday!\n",
            "total =  3\n",
            "Happy birthday!\n",
            "total =  4\n",
            "Happy birthday!\n",
            "total =  5\n",
            "Happy birthday!\n",
            "total =  6\n",
            "Happy birthday!\n",
            "total =  7\n",
            "Happy birthday!\n",
            "total =  8\n",
            "Happy birthday!\n",
            "total =  9\n",
            "Happy birthday!\n",
            "total =  10\n",
            "Happy birthday!\n",
            "total =  11\n",
            "Happy birthday!\n",
            "total =  12\n",
            "Happy birthday!\n",
            "total =  13\n",
            "Happy birthday!\n",
            "total =  14\n",
            "Happy birthday!\n",
            "total =  15\n",
            "Happy birthday!\n",
            "total =  16\n",
            "Happy birthday!\n",
            "total =  17\n",
            "Happy birthday!\n",
            "total =  18\n",
            "Happy birthday!\n",
            "total =  19\n",
            "Happy birthday!\n",
            "total =  20\n",
            "Happy birthday!\n",
            "total =  21\n",
            "Happy birthday!\n",
            "total =  22\n",
            "Happy birthday!\n",
            "total =  23\n",
            "Happy birthday!\n",
            "total =  24\n",
            "Happy birthday!\n",
            "total =  25\n",
            "Happy birthday!\n",
            "total =  26\n",
            "Happy birthday!\n",
            "total =  27\n",
            "Happy birthday!\n",
            "total =  28\n",
            "Happy birthday!\n",
            "total =  29\n",
            "Happy birthday!\n",
            "total =  30\n",
            "Happy birthday!\n",
            "total =  31\n",
            "Happy birthday!\n",
            "total =  32\n",
            "Happy birthday!\n",
            "total =  33\n",
            "Happy birthday!\n",
            "total =  34\n",
            "Happy birthday!\n",
            "total =  35\n",
            "Happy birthday!\n",
            "total =  36\n",
            "Happy birthday!\n",
            "total =  37\n",
            "Happy birthday!\n",
            "total =  38\n",
            "Happy birthday!\n",
            "total =  39\n",
            "Happy birthday!\n",
            "total =  40\n",
            "Happy birthday!\n",
            "total =  41\n",
            "Happy birthday!\n",
            "total =  42\n"
          ]
        }
      ],
      "source": [
        "\n",
        "# How could we get this to print \"Happy birthday!\" 42 times?\n",
        "total = 0\n",
        "for i in range(42):\n",
        "    total= i + 1\n",
        "    print('Happy birthday!')\n",
        "    print(\"total = \", total)"
      ]
    },
    {
      "cell_type": "markdown",
      "metadata": {
        "id": "7KFo8pX73gGV"
      },
      "source": [
        "<br>\n",
        "\n",
        "#### Functions often use loops... Watch out!\n",
        "+ <tt><b>return</b></tt> is <i>more powerful</i> than the loop\n",
        "+ <tt><b>return</b></tt> <i>always</i> wins!\n",
        "\n",
        "Take a look:"
      ]
    },
    {
      "cell_type": "code",
      "execution_count": null,
      "metadata": {
        "id": "hzE-We7i3gGV",
        "colab": {
          "base_uri": "https://localhost:8080/"
        },
        "outputId": "4cb66ea6-0647-43aa-b501-01dd6b8e9685"
      },
      "outputs": [
        {
          "output_type": "stream",
          "name": "stdout",
          "text": [
            "i is 0\n",
            "i is 1\n",
            "i is 2\n"
          ]
        }
      ],
      "source": [
        "\n",
        "# return _after_ a loop:\n",
        "\n",
        "def funA():\n",
        "    for i in range(0,3):\n",
        "        print(\"i is\", i)\n",
        "    return\n",
        "\n",
        "# why does this not print anything?!??\n",
        "# The function will not run until it is called by its name.\n",
        "# I call it here:\n",
        "funA()"
      ]
    },
    {
      "cell_type": "code",
      "execution_count": null,
      "metadata": {
        "id": "n4nsuJUZ3gGW",
        "colab": {
          "base_uri": "https://localhost:8080/"
        },
        "outputId": "b286f050-13c5-43da-9315-37222aa32698"
      },
      "outputs": [
        {
          "output_type": "stream",
          "name": "stdout",
          "text": [
            "i is 0\n",
            "i is 0\n",
            "i is 1\n",
            "i is 2\n"
          ]
        }
      ],
      "source": [
        "\n",
        "# return _within_ a loop:\n",
        "\n",
        "def funB():\n",
        "    for i in range(0,3):\n",
        "        print(\"i is\", i)\n",
        "        return\n",
        "\n",
        "# What do we need here?  (Is this what you expect?!)\n",
        "# When a return statement is inside a loop, it stops the entire function immediately on the first iteration.\n",
        "# It’s “stronger” than the loop.\n",
        "\n",
        "funB()\n",
        "\n",
        "# If we want to print the whole range of the list, we have to put the \"return\" outside the loop\n",
        "def funB3():\n",
        "    for i in range(0,3):\n",
        "        print(\"i is\", i)\n",
        "    return\n",
        "\n",
        "# Function Call:\n",
        "funB3()\n"
      ]
    },
    {
      "cell_type": "code",
      "execution_count": null,
      "metadata": {
        "id": "KTm78DFX3gGW",
        "colab": {
          "base_uri": "https://localhost:8080/"
        },
        "outputId": "4ed3cb8b-4861-4072-e2a0-e2ea0d6e12d7"
      },
      "outputs": [
        {
          "output_type": "stream",
          "name": "stdout",
          "text": [
            "i is 2\n"
          ]
        }
      ],
      "source": [
        "\n",
        "# let's add an if statement (a conditional)\n",
        "#              ... to test different indentations\n",
        "\n",
        "def funB1():\n",
        "    for i in range(1,6):\n",
        "        if i%2 == 0:\n",
        "            print(\"i is\", i)\n",
        "            return\n",
        "funB1()\n",
        "\n",
        "# when the test is true \"i == 2\", the return statement executes and entire function ends immediately.\n",
        "# it never gets to check i = 3, 4, or 5."
      ]
    },
    {
      "cell_type": "markdown",
      "metadata": {
        "id": "U1e4MYjc3gGW"
      },
      "source": [
        "<br>\n",
        "\n",
        "#### Accumulators\n",
        "+ a <i>very</i> common approach is to use a loop to <i>accumulate</i> a desired result\n",
        "+ the idea is to start the result at a \"nothing\" value, which is not always zero...\n",
        "+ then operate on it until it becomes the final result!\n",
        "\n",
        "#### factorial\n",
        "+ <pre>fac(5) == 1*2*3*4*5</pre>\n",
        "+ <pre>fac(N) == 1*2*3*4* ... *(N-2)*(N-1)*N</pre>\n",
        "\n",
        "#### addup\n",
        "+ <pre>addup(5) == 1+2+3+4+5</pre>\n",
        "+ <pre>addup(N) == 1+2+3+4+ ... +(N-2)+(N-1)+N</pre>\n",
        "\n",
        "<br>"
      ]
    },
    {
      "cell_type": "code",
      "execution_count": null,
      "metadata": {
        "id": "NZhaHVNV3gGY",
        "colab": {
          "base_uri": "https://localhost:8080/"
        },
        "outputId": "5e632987-074c-4205-fce6-e91df1189a37"
      },
      "outputs": [
        {
          "output_type": "execute_result",
          "data": {
            "text/plain": [
              "10"
            ]
          },
          "metadata": {},
          "execution_count": 119
        }
      ],
      "source": [
        "\n",
        "# an add-em-up function\n",
        "\n",
        "def addup(N):\n",
        "    \"\"\" adds from 1 through N (inclusive)\n",
        "    \"\"\"\n",
        "    result = 0\n",
        "\n",
        "    for x in range(1,N+1):\n",
        "        result = result + x\n",
        "\n",
        "    return result\n",
        "\n",
        "# addup(4) should be 0+1+2+3+4 == 10\n",
        "addup(4)\n"
      ]
    },
    {
      "cell_type": "code",
      "execution_count": null,
      "metadata": {
        "id": "JscgqV1Q3gGY",
        "colab": {
          "base_uri": "https://localhost:8080/"
        },
        "outputId": "204ef5a0-91d7-4e6b-96d0-93d9537fee1d"
      },
      "outputs": [
        {
          "output_type": "execute_result",
          "data": {
            "text/plain": [
              "24"
            ]
          },
          "metadata": {},
          "execution_count": 121
        }
      ],
      "source": [
        "\n",
        "# an factorial function\n",
        "\n",
        "def fac(N):\n",
        "    \"\"\" a factorial function, returns the factorial of the input N\n",
        "    \"\"\"\n",
        "    result = 1\n",
        "\n",
        "    for x in range(1,N+1):\n",
        "        result = result*x\n",
        "\n",
        "    return result\n",
        "\n",
        "# fac(4) should be 1*2*3*4 == 24\n",
        "fac(4)"
      ]
    },
    {
      "cell_type": "code",
      "execution_count": null,
      "metadata": {
        "id": "RchpwL0V3gGZ",
        "colab": {
          "base_uri": "https://localhost:8080/"
        },
        "outputId": "214238ce-a8a4-4f53-b6e4-59d710869a1f"
      },
      "outputs": [
        {
          "output_type": "stream",
          "name": "stdout",
          "text": [
            "40\n",
            "40\n",
            "fore!\n",
            "tee\n",
            "40\n",
            "40\n",
            "fore!\n",
            "tee\n",
            "tttto\n",
            "tttto \n"
          ]
        }
      ],
      "source": [
        "\n",
        "\n",
        "#Loops we tried in our \"breakout quiz\":\n",
        "\n",
        "# upper left\n",
        "result = 1\n",
        "for x in [2,5,1,4]:\n",
        "    result *= x\n",
        "print(result)\n",
        "\n",
        "# upper right\n",
        "x = 0\n",
        "for i in range(4):\n",
        "    x += 10\n",
        "print(x)\n",
        "\n",
        "# lower left\n",
        "L = ['golf','fore!','club','tee']\n",
        "for i in range(len(L)):\n",
        "    if i%2 == 1:\n",
        "        print(L[i])\n",
        "\n",
        "#Loops we tried in our \"breakout quiz\":\n",
        "\n",
        "# upper left\n",
        "result = 1\n",
        "for x in [2,5,1,4]:\n",
        "    result *= x\n",
        "print(result)\n",
        "\n",
        "# upper right\n",
        "x = 0\n",
        "for i in range(4):\n",
        "    x += 10\n",
        "print(x)\n",
        "\n",
        "# lower left\n",
        "L = ['golf','fore!','club','tee']\n",
        "for i in range(len(L)):\n",
        "    if i%2 == 1:\n",
        "        print(L[i])\n",
        "\n",
        "\n",
        "\n",
        "# lower right\n",
        "S = 'time to think this over! '\n",
        "result = ''\n",
        "for i in range(len(S)):\n",
        "    if S[i-1] == ' ':\n",
        "        result += S[i]\n",
        "print(result)\n",
        "result += S[i]\n",
        "print(result)"
      ]
    },
    {
      "cell_type": "code",
      "execution_count": null,
      "metadata": {
        "id": "FNuv6DoJ3gGa",
        "colab": {
          "base_uri": "https://localhost:8080/"
        },
        "outputId": "4c20ae8a-bf23-467d-9dd7-088a5d03fc23"
      },
      "outputs": [
        {
          "output_type": "stream",
          "name": "stdout",
          "text": [
            "Start!\n"
          ]
        }
      ],
      "source": [
        "\n",
        "# staging area...\n",
        "\n",
        "print(\"Start!\")\n"
      ]
    },
    {
      "cell_type": "markdown",
      "source": [
        "### <font color=\"darkblue\"><b>Task #4: For Looping!</b></font>\n",
        "\n",
        "Below, create your functions that use loops:\n",
        "+ ``summer(L)``\n",
        "+ ``summedOdds(L)``\n",
        "+ ``summedExcept(exc,L)``\n",
        "+ ``summedUpto(exc,L)``\n",
        "\n",
        "Each one has full detail in its description:"
      ],
      "metadata": {
        "id": "PbR-kxDD6MGA"
      }
    },
    {
      "cell_type": "code",
      "execution_count": null,
      "metadata": {
        "id": "E5d6udae3gGa"
      },
      "outputs": [],
      "source": [
        "\n",
        "#\n",
        "# Functions with for loops to write:\n",
        "#\n",
        "# for loops:\n",
        "#\n",
        "# summer(L)               returns the sum of the #'s in L\n",
        "# summedOdds(L)           returns the sum of the _odd_ #'s in L\n",
        "# summedExcept(exc, L)    returns the sum of all #'s in L not equal to exc\n",
        "#                                 exc is the \"exception\"\n",
        "# summedUpto(exc, L)      returns the sum of all #'s in L upto exc (not including exc)\n",
        "\n",
        "\n",
        "# examples:\n",
        "#       summer( [2,3,4,1] )    ->  10\n",
        "#   summedOdds( [2,3,4,1] )    ->   4\n",
        "# summedExcept( 4, [2,3,4,1] ) ->   6\n",
        "#   summedUpto( 4, [2,3,4,1] ) ->   5"
      ]
    },
    {
      "cell_type": "code",
      "execution_count": null,
      "metadata": {
        "id": "IxqR0uRC3gGa",
        "colab": {
          "base_uri": "https://localhost:8080/"
        },
        "outputId": "3ec28c46-4cd9-4956-9e12-83521c30954a"
      },
      "outputs": [
        {
          "output_type": "stream",
          "name": "stdout",
          "text": [
            "summer( [2,3,4,1] )  should be 10 <-> 10\n",
            "summer( [35,3,4,100] )  should be 142 <-> 142\n"
          ]
        }
      ],
      "source": [
        "#\n",
        "# here, write the summer function!\n",
        "#\n",
        "\n",
        "def summer(L):\n",
        "    \"\"\" uses a for loop to add and return all of the elements in L\n",
        "    \"\"\"\n",
        "    total = 0\n",
        "    for x in L:\n",
        "        total = total + x\n",
        "    return total\n",
        "\n",
        "\n",
        "\n",
        "# Here are two tests -- be sure to try them!\n",
        "print(\"summer( [2,3,4,1] )  should be 10 <->\", summer( [2,3,4,1] ))\n",
        "print(\"summer( [35,3,4,100] )  should be 142 <->\", summer( [35,3,4,100] ))"
      ]
    },
    {
      "cell_type": "code",
      "execution_count": null,
      "metadata": {
        "id": "QN6ZBN9w3gGa",
        "colab": {
          "base_uri": "https://localhost:8080/"
        },
        "outputId": "a4a8d209-641c-4cf1-ed82-690d346fa48a"
      },
      "outputs": [
        {
          "output_type": "stream",
          "name": "stdout",
          "text": [
            "summedOdds( [2,3,4,1] )  should be 4 <-> 4\n",
            "summedOdds( [35,3,4,100] )  should be 38 <-> 38\n"
          ]
        }
      ],
      "source": [
        "#\n",
        "# here, write the summedOdds function!\n",
        "#\n",
        "\n",
        "def summedOdds(L):\n",
        "    \"\"\" uses a for loop to add and return all of the _odd_ elements in L\n",
        "    \"\"\"\n",
        "    total = 0\n",
        "    for x in L:\n",
        "        if x % 2 != 0:\n",
        "            total = total + x\n",
        "    return total\n",
        "\n",
        "\n",
        "\n",
        "# Here are two tests -- be sure to try them!\n",
        "print(\"summedOdds( [2,3,4,1] )  should be 4 <->\", summedOdds( [2,3,4,1] ))\n",
        "print(\"summedOdds( [35,3,4,100] )  should be 38 <->\", summedOdds( [35,3,4,100] ))"
      ]
    },
    {
      "cell_type": "code",
      "execution_count": null,
      "metadata": {
        "id": "9XkwO1Yb3gGb",
        "colab": {
          "base_uri": "https://localhost:8080/"
        },
        "outputId": "2a676991-307b-43dd-b21a-12135a278905"
      },
      "outputs": [
        {
          "output_type": "stream",
          "name": "stdout",
          "text": [
            "summedExcept( 4, [2,3,4,1] )  should be 6 <-> 6\n",
            "summedExcept( 4, [35,3,4,100] )  should be 138 <-> 138\n"
          ]
        }
      ],
      "source": [
        "#\n",
        "# here, write the summedExcept function!\n",
        "#\n",
        "\n",
        "def summedExcept( exc, L ):\n",
        "    \"\"\" include a short description here!\n",
        "    \"\"\"\n",
        "    total = 0\n",
        "    for x in L:\n",
        "        if x != exc:\n",
        "            total = total + x\n",
        "    return total\n",
        "\n",
        "# Here are two tests -- be sure to try them!\n",
        "print(\"summedExcept( 4, [2,3,4,1] )  should be 6 <->\", summedExcept( 4, [2,3,4,1] ))\n",
        "print(\"summedExcept( 4, [35,3,4,100] )  should be 138 <->\", summedExcept( 4, [35,3,4,100] ))"
      ]
    },
    {
      "cell_type": "code",
      "execution_count": null,
      "metadata": {
        "id": "FpoOHpGc3gGb",
        "colab": {
          "base_uri": "https://localhost:8080/"
        },
        "outputId": "3712276a-7130-4224-c0b2-c191cf89a4f1"
      },
      "outputs": [
        {
          "output_type": "stream",
          "name": "stdout",
          "text": [
            "summedUpto( 4, [2,3,4,1] )  should be 5 <-> 5\n",
            "summedUpto( 100, [35,3,4,100] )  should be 42 <-> 42\n"
          ]
        }
      ],
      "source": [
        "#\n",
        "# here, write the summedUpto function!\n",
        "#\n",
        "\n",
        "def summedUpto( exc, L ):\n",
        "    \"\"\" include a short description here!\n",
        "    \"\"\"\n",
        "    total = 0\n",
        "    for x in L:\n",
        "        if x == exc:\n",
        "            break\n",
        "        total = total + x\n",
        "    return total\n",
        "\n",
        "\n",
        "\n",
        "# Here are two tests -- be sure to try them!\n",
        "print(\"summedUpto( 4, [2,3,4,1] )  should be 5 <->\", summedUpto( 4, [2,3,4,1] ))\n",
        "print(\"summedUpto( 100, [35,3,4,100] )  should be 42 <->\", summedUpto( 100, [35,3,4,100] ))"
      ]
    },
    {
      "cell_type": "code",
      "execution_count": null,
      "metadata": {
        "id": "im7h59uw3gGb",
        "colab": {
          "base_uri": "https://localhost:8080/"
        },
        "outputId": "66c893cc-4be1-4cfa-84ce-c2e562fb2c79"
      },
      "outputs": [
        {
          "output_type": "execute_result",
          "data": {
            "text/plain": [
              "240"
            ]
          },
          "metadata": {},
          "execution_count": 175
        }
      ],
      "source": [
        "\n",
        "#\n",
        "# Example while loop: the \"guessing game\"\n",
        "#\n",
        "\n",
        "from random import *\n",
        "\n",
        "def guess( hidden ):\n",
        "    \"\"\"\n",
        "        have the computer guess numbers until it gets the \"hidden\" value\n",
        "        return the number of guesses\n",
        "    \"\"\"\n",
        "    guess = -1      # start with a wrong guess and don't count it as a guess\n",
        "    number_of_guesses = 0   # start with no guesses made so far...\n",
        "\n",
        "    while guess != hidden:\n",
        "        guess = choice( range(0,100) )  # 0 to 99, inclusive\n",
        "        number_of_guesses += 1\n",
        "\n",
        "    return number_of_guesses\n",
        "\n",
        "# test our function!\n",
        "guess(42)"
      ]
    },
    {
      "cell_type": "markdown",
      "source": [
        "### <font color=\"darkblue\"><b>Task #5: While Looping!</b></font>\n",
        "\n",
        "Below, create your functions that use _while_ loops:\n",
        "+ ``guess_between(low,high)``\n",
        "+ ``listTilRepeat(high)``\n",
        "\n",
        "Each one has more detail in its description.\n",
        "\n",
        "Notice that the ``listTilRepeat`` function ***is*** the birthday paradox!"
      ],
      "metadata": {
        "id": "A68UyzcD6W4g"
      }
    },
    {
      "cell_type": "code",
      "execution_count": null,
      "metadata": {
        "id": "Sib6asIv3gGn"
      },
      "outputs": [],
      "source": [
        "\n",
        "#\n",
        "# Functions with while loops to write:\n",
        "#\n",
        "\n",
        "# guess_between(low,high) like guess, but until it gets a number anywhere between\n",
        "#                         low and high. Specifically, until it guesses\n",
        "#                         less than high, and greater than or equal to low.\n",
        "#\n",
        "#\n",
        "# listTilRepeat(high)     accumulates a list of values in range(0,high) until one repeats\n",
        "#                         and returns the whole list\n",
        "#\n",
        "\n",
        "\n",
        "# examples (don't forget the randomness will change things!)\n",
        "#\n",
        "# guess_between(40,50)   ->   8    (on average, around 10)\n",
        "#\n",
        "# listTilRepeat(10)      ->   [4, 7, 8, 3, 7]     (the final # must be a repeat)\n",
        "# listTilRepeat(10)      ->   [2, 1, 9, 9]     (the final # must be a repeat)\n"
      ]
    },
    {
      "cell_type": "code",
      "execution_count": null,
      "metadata": {
        "id": "eAbbImBL3gGv"
      },
      "outputs": [],
      "source": [
        "#\n",
        "# here, write guess_between\n",
        "#\n",
        "\n",
        "def guess_between(low,high):\n",
        "    \"\"\" guesses a # from 0 to 99 (inclusive) until\n",
        "        it gets one that is strictly less than high and\n",
        "        greater than or equal to low\n",
        "        Then, this function returns the total # of guesses made\n",
        "    \"\"\"\n",
        "    guess = -1\n",
        "    number_of_guesses = 0\n",
        "\n",
        "\n",
        "    while not (low <= guess < high):\n",
        "        guess = choice(range(0, 100))\n",
        "        number_of_guesses += 1\n",
        "\n",
        "    return number_of_guesses\n"
      ]
    },
    {
      "cell_type": "code",
      "source": [
        "#\n",
        "# be sure to test your guess_between here -- and leave the test in the notebook!\n",
        "#\n",
        "print(\"guess_between(40,50) ->\", guess_between(40,50))\n",
        "print(\"guess_between(10,20) ->\", guess_between(10,20))\n",
        "print(\"guess_between(20,80) ->\", guess_between(20,80))\n",
        "print(\"guess_between(21,42) ->\", guess_between(21,42))"
      ],
      "metadata": {
        "id": "wrh7eQOHAWi0",
        "colab": {
          "base_uri": "https://localhost:8080/"
        },
        "outputId": "e7bb6ce4-70f1-4657-9194-3fb30f798205"
      },
      "execution_count": null,
      "outputs": [
        {
          "output_type": "stream",
          "name": "stdout",
          "text": [
            "guess_between(40,50) -> 12\n",
            "guess_between(10,20) -> 2\n",
            "guess_between(20,80) -> 1\n",
            "guess_between(21,42) -> 3\n"
          ]
        }
      ]
    },
    {
      "cell_type": "code",
      "execution_count": null,
      "metadata": {
        "id": "9HnVqdj83gGw",
        "colab": {
          "base_uri": "https://localhost:8080/"
        },
        "outputId": "3f53bd57-9aef-4f6f-e387-415b92c8046b"
      },
      "outputs": [
        {
          "output_type": "stream",
          "name": "stdout",
          "text": [
            "Before: L is [3, 4]\n",
            " After: L is [3, 4, 42]\n"
          ]
        }
      ],
      "source": [
        "\n",
        "# Try out adding elements to Lists\n",
        "\n",
        "L = [3,4]\n",
        "print(\"Before: L is\", L)\n",
        "\n",
        "guess = 42\n",
        "L = L + [guess]\n",
        "print(\" After: L is\", L)"
      ]
    },
    {
      "cell_type": "code",
      "execution_count": null,
      "metadata": {
        "id": "7v9qoep83gGx"
      },
      "outputs": [],
      "source": [
        "#\n",
        "# here, write listTilRepeat\n",
        "#\n",
        "\n",
        "def listTilRepeat(high):\n",
        "    \"\"\" this f'n accumulates random guesses into a list, L, until a repeat is found\n",
        "        it then returns the list (the final element should be repeated, somewhere)\n",
        "    \"\"\"\n",
        "\n",
        "    L = []\n",
        "\n",
        "    while True:\n",
        "        g = choice(range(1, high+1))\n",
        "        if g in L:\n",
        "            L.append(g)\n",
        "            return L\n",
        "        else:\n",
        "            L.append(g)"
      ]
    },
    {
      "cell_type": "code",
      "source": [
        "#\n",
        "# be sure to test your listTilRepeat here -- and leave the test in the notebook!\n",
        "#\n",
        "print(\"listTilRepeat(10) ->\", listTilRepeat(10))\n",
        "print(\"listTilRepeat(10) ->\", listTilRepeat(10))\n",
        "print(\"listTilRepeat(18) ->\", listTilRepeat(18))\n",
        "print(\"listTilRepeat(42) ->\", listTilRepeat(42))"
      ],
      "metadata": {
        "id": "iWvncComAdAa",
        "colab": {
          "base_uri": "https://localhost:8080/"
        },
        "outputId": "ed9df95a-acd6-4a13-9b54-e9d3455dc720"
      },
      "execution_count": null,
      "outputs": [
        {
          "output_type": "stream",
          "name": "stdout",
          "text": [
            "listTilRepeat(10) -> [10, 5, 9, 10]\n",
            "listTilRepeat(10) -> [2, 10, 8, 1, 6, 9, 6]\n",
            "listTilRepeat(18) -> [15, 13, 10, 4, 9, 2, 10]\n",
            "listTilRepeat(42) -> [40, 39, 38, 19, 14, 9, 27, 14]\n"
          ]
        }
      ]
    },
    {
      "cell_type": "code",
      "execution_count": null,
      "metadata": {
        "id": "Y8bY1Hag3gGx"
      },
      "outputs": [],
      "source": [
        "\n",
        "# The birthday paradox is the fact that\n",
        "#     listTilRepeat(365) has surprisingly few elements!\n",
        "#\n",
        "# Run listTilRepeat(365) a few times and print its _length_ each time\n",
        "#     (Don't print the lists... it's too much to digest.)\n",
        "#\n",
        "# To many people, the results feel counterintuitive!\n",
        "\n",
        "# print(\"listTilRepeat(365) ->\", listTilRepeat(365))"
      ]
    },
    {
      "cell_type": "markdown",
      "metadata": {
        "id": "rGp1vbmb3gf5"
      },
      "source": [
        "<br>\n",
        "\n",
        "# Monte Carlo simulations\n",
        "+ ... are repeated actions that involve repetition and randomness\n",
        "+ that is, loops!\n",
        "\n",
        "In fact, the guessing and birthday challenges above _are_ examples of Monte Carlo simulations.\n",
        "\n",
        "Next, you'll try a few more:\n",
        "+ Our in-class guessing game, dice-rolling challenge, and three-curtain challenge...\n",
        "+ Then, you'll try the \"sleepwalker\" (a single random walker)\n",
        "\n",
        "Finally, you'll adapt the single random walker to a two-walker simulation of your own design! There are lots of ideas:\n",
        "+ Have two random walkers \"race\" to the middle (which might be a poptart...)\n",
        "+ Have two random walkers \"race\" to the walls\n",
        "+ Have them wander until they find each other\n",
        "+ Have the walls close in on them!\n",
        "+ Have them chase another object that's moving around...\n",
        "+ ... and so on!\n",
        "\n",
        "The key is to have\n",
        "+ **two** independently-wandering \"actors\"\n",
        "+ within a \"line\" or \"world\" that you can print out...\n",
        "+ ... with a backstory that you've invented,\n",
        "+ and then animate the result!\n",
        "\n",
        "<br>\n",
        "\n",
        "Looking forward to it!"
      ]
    },
    {
      "cell_type": "code",
      "execution_count": null,
      "metadata": {
        "id": "TAw-VXXQ3gf6",
        "colab": {
          "base_uri": "https://localhost:8080/"
        },
        "outputId": "ff5856d5-e4d6-47f7-a7e5-7bc172ed1fb5"
      },
      "outputs": [
        {
          "output_type": "execute_result",
          "data": {
            "text/plain": [
              "214"
            ]
          },
          "metadata": {},
          "execution_count": 5
        }
      ],
      "source": [
        "\n",
        "#\n",
        "# Example while loop: the \"guessing game\"\n",
        "#\n",
        "\n",
        "from random import *\n",
        "\n",
        "def guess( hidden ):\n",
        "    \"\"\"\n",
        "        have the computer guess numbers until it gets the \"hidden\" value\n",
        "        return the number of guesses\n",
        "    \"\"\"\n",
        "    guess = hidden - 1      # start with a wrong guess + don't count it as a guess\n",
        "    number_of_guesses = 0   # start with no guesses made so far...\n",
        "\n",
        "    while guess != hidden:\n",
        "        guess = choice( range(0,100) )  # 0 to 99, inclusive\n",
        "        number_of_guesses += 1\n",
        "\n",
        "    return number_of_guesses\n",
        "\n",
        "# test our function!\n",
        "guess(42)"
      ]
    },
    {
      "cell_type": "code",
      "execution_count": null,
      "metadata": {
        "id": "pMj48CN63gf8",
        "colab": {
          "base_uri": "https://localhost:8080/"
        },
        "outputId": "a5991d21-aad6-4088-cb61-dc2faf22ddd5"
      },
      "outputs": [
        {
          "output_type": "stream",
          "name": "stdout",
          "text": [
            "run 0 roll: 3 1  \n",
            "run 1 roll: 6 6 🙂\n",
            "run 2 roll: 4 5  \n",
            "run 3 roll: 2 1  \n",
            "run 4 roll: 2 1  \n",
            "run 5 roll: 5 5 🙂\n",
            "run 6 roll: 3 5  \n",
            "run 7 roll: 4 2  \n",
            "run 8 roll: 2 1  \n",
            "run 9 roll: 3 6  \n"
          ]
        },
        {
          "output_type": "execute_result",
          "data": {
            "text/plain": [
              "2"
            ]
          },
          "metadata": {},
          "execution_count": 16
        }
      ],
      "source": [
        "\n",
        "#\n",
        "# Example Monte Carlo simulation: rolling two dice and counting doubles\n",
        "#\n",
        "\n",
        "from random import *\n",
        "import time # Import the time module\n",
        "\n",
        "def count_doubles( num_rolls ):\n",
        "    \"\"\"\n",
        "        have the computer roll two six-sided dice, counting the # of doubles\n",
        "        (same value on both dice)\n",
        "        Then, return the number of doubles...\n",
        "    \"\"\"\n",
        "    numdoubles = 0       # start with no doubles so far...\n",
        "\n",
        "    for i in range(0,num_rolls):   # roll repeatedly: i keeps track\n",
        "        d1 = choice( [1,2,3,4,5,6] )  # 0 to 6, inclusive\n",
        "        d2 = choice( range(1,7) )     # 0 to 6, inclusive\n",
        "        if d1 == d2:\n",
        "            numdoubles += 1\n",
        "            you = \"🙂\"\n",
        "        else:\n",
        "            you = \" \"\n",
        "\n",
        "        print(\"run\", i, \"roll:\", d1, d2, you, flush=True)\n",
        "        time.sleep(.01)\n",
        "\n",
        "    return numdoubles\n",
        "\n",
        "# test our function!\n",
        "count_doubles(10)"
      ]
    },
    {
      "cell_type": "code",
      "execution_count": null,
      "metadata": {
        "id": "k4rkSYX_3gf9",
        "colab": {
          "base_uri": "https://localhost:8080/"
        },
        "outputId": "26b4fca8-2c55-4f53-96e7-9512b15a490b"
      },
      "outputs": [
        {
          "output_type": "stream",
          "name": "stdout",
          "text": [
            "run 1 you lose...\n",
            "run 2 you lose...\n",
            "run 3 you lose...\n",
            "run 4 you lose...\n",
            "run 5 you lose...\n",
            "run 6 you lose...\n",
            "run 7 you lose...\n",
            "run 8 you lose...\n",
            "run 9 you lose...\n",
            "run 10 you  Win!!!\n"
          ]
        },
        {
          "output_type": "execute_result",
          "data": {
            "text/plain": [
              "1"
            ]
          },
          "metadata": {},
          "execution_count": 19
        }
      ],
      "source": [
        "\n",
        "#\n",
        "# Example Monte Carlo simulation: the Monte-Carlo Monte Hall paradox\n",
        "#\n",
        "import random\n",
        "import time\n",
        "\n",
        "def count_wins( N, original_choice, stay_or_switch ):\n",
        "    \"\"\"\n",
        "        run the Monte Hall paradox N times, with\n",
        "        original_choice, which can be 1, 2, or 3 and\n",
        "        stay_or_switch, which can be \"stay\" or \"switch\"\n",
        "        Count the number of wins and return that number.\n",
        "    \"\"\"\n",
        "    numwins = 0       # start with no wins so far...\n",
        "\n",
        "    for i in range(1,N+1):      # run repeatedly: i keeps track\n",
        "        win_curtain = random.choice([1,2,3])   # the curtain with the grand prize\n",
        "        original_choice = original_choice      # just a reminder that we have this variable\n",
        "        stay_or_switch = stay_or_switch        # a reminder that we have this, too\n",
        "\n",
        "        result = \"\"\n",
        "        if original_choice == win_curtain and stay_or_switch == \"stay\": result = \" Win!!!\"\n",
        "        elif original_choice == win_curtain and stay_or_switch == \"switch\": result = \"lose...\"\n",
        "        elif original_choice != win_curtain and stay_or_switch == \"stay\": result = \"lose...\"\n",
        "        elif original_choice != win_curtain and stay_or_switch == \"switch\": result = \" Win!!!\"\n",
        "\n",
        "        print(\"run\", i, \"you\", result, flush=True)\n",
        "        time.sleep(.025)\n",
        "\n",
        "        if result == \" Win!!!\":\n",
        "            numwins += 1\n",
        "    return numwins\n",
        "# test our three-curtain-game, many times:\n",
        "count_wins(10, 1, \"stay\")"
      ]
    },
    {
      "cell_type": "code",
      "execution_count": null,
      "metadata": {
        "id": "MawBqtpX3gf-",
        "colab": {
          "base_uri": "https://localhost:8080/"
        },
        "outputId": "a1659b87-e185-4210-997a-bade17ba51d7"
      },
      "outputs": [
        {
          "output_type": "stream",
          "name": "stdout",
          "text": [
            "At location: 47\n",
            "At location: 46\n",
            "At location: 47\n",
            "At location: 46\n",
            "At location: 47\n",
            "At location: 48\n",
            "At location: 49\n",
            "At location: 50\n",
            "At location: 51\n",
            "At location: 50\n"
          ]
        },
        {
          "output_type": "execute_result",
          "data": {
            "text/plain": [
              "50"
            ]
          },
          "metadata": {},
          "execution_count": 29
        }
      ],
      "source": [
        "\n",
        "\n",
        "# More Monte Carlo simulations!\n",
        "\n",
        "#\n",
        "# Example of a random-walk (but no animation is intended here...)\n",
        "#\n",
        "\n",
        "import random\n",
        "\n",
        "def rs():\n",
        "    \"\"\" One random step \"\"\"\n",
        "    return random.choice([-1, 1])\n",
        "\n",
        "\n",
        "def rpos(start,N):\n",
        "    \"\"\" wander from start for N steps, printing as we go\n",
        "        return the position at the end (the final \"current\" position)\n",
        "    \"\"\"\n",
        "    current = start        # our current position begins at start...\n",
        "\n",
        "    for i in range(N):     # step repeatedly:  i keeps track from 0..N\n",
        "        print(\"At location:\", current)\n",
        "        current = current + rs()  # add one step,\n",
        "\n",
        "    print(\"At location:\", current)\n",
        "    return current\n",
        "\n",
        "\n",
        "# let's test it, perhaps start at 47 and take 9 steps...\n",
        "rpos(47,9)"
      ]
    },
    {
      "cell_type": "code",
      "execution_count": null,
      "metadata": {
        "id": "vgqXW52w3gf_",
        "colab": {
          "base_uri": "https://localhost:8080/"
        },
        "outputId": "19fa04eb-a726-4f63-ebed-c8cf969b25a5"
      },
      "outputs": [
        {
          "output_type": "stream",
          "name": "stdout",
          "text": [
            "|____S______|\n",
            "|_____S_____|\n",
            "|____S______|\n",
            "|_____S_____|\n",
            "|______S____|\n",
            "|_______S___|\n",
            "|________S__|\n",
            "|_________S_|\n",
            "|__________S|\n"
          ]
        },
        {
          "output_type": "execute_result",
          "data": {
            "text/plain": [
              "9"
            ]
          },
          "metadata": {},
          "execution_count": 34
        }
      ],
      "source": [
        "\n",
        "# Monte Carlo simulation #2... the random-walker\n",
        "# Task #1:  understand the _single_ \"sleepwalker\":\n",
        "#           change the character sleepwalking to something else, emoji, etc.\n",
        "#           change the \"walls\" to something else\n",
        "#           change the \"sidewalk\" to something else (water, air, walls, ...)\n",
        "#           try it with some different inputs... then you'll be ready for task 2\n",
        "import time\n",
        "import random\n",
        "\n",
        "def rs():\n",
        "    \"\"\" One random step \"\"\"\n",
        "    return random.choice([-1, 1])\n",
        "\n",
        "def rwalk(start, low, high):\n",
        "    \"\"\" Random walk between -radius and +radius  (starting at 0 by default) \"\"\"\n",
        "    totalsteps = 0          # Initial value of totalsteps (_not_ final value!)\n",
        "    current = start         # Current location (_not_ the total # of steps)\n",
        "\n",
        "    while True:             # Run \"forever\" (really, until a return or break)\n",
        "        if current <= low:  # too low!\n",
        "            return totalsteps # Phew!  Return totalsteps (stops the while loop)\n",
        "        elif current >= high: # too high!\n",
        "            return totalsteps # Phew!  Return totalsteps (stops the while loop)\n",
        "        else:\n",
        "            current = current + rs()  # take a step\n",
        "            totalsteps += 1           # count it\n",
        "\n",
        "            # let's animate!\n",
        "            left_side = current - low   # distance on the left of our sleepwalker\n",
        "            right_side = high - current\n",
        "            print(\"|\" + \"_\"*left_side + \"S\" + \"_\"*right_side + \"|\", flush=True)  # a start of our \"ASCIImation\"\n",
        "            time.sleep(0.042)\n",
        "    # the code can never get here!\n",
        "# You will need to add the right-hand side, too\n",
        "# Then, improve your sleepwalker!\n",
        "# let's try it!  rwalk(tart, low, high)\n",
        "rwalk(5,0,10)\n",
        "# rwalk(15,0,30)\n"
      ]
    },
    {
      "cell_type": "markdown",
      "source": [
        "### <font color=\"darkblue\"><b>Task #6: Your own wandering!</b></font>\n",
        "\n",
        "Below, create a variation of the random-walker examples above and below. Be sure\n",
        "+ You have at least two random wanderers\n",
        "+ You include an aesthetic customization of your choice\n",
        "+ You include an algorithmic personalization of your choice\n",
        "\n",
        "These can be very fun...\n",
        "\n",
        "I look forward to all of your ***wandering***!"
      ],
      "metadata": {
        "id": "XM07iJfP7VMf"
      }
    },
    {
      "cell_type": "code",
      "execution_count": null,
      "metadata": {
        "id": "t8S3Gu6Y3ggB"
      },
      "outputs": [],
      "source": [
        "#\n",
        "# Task #2:  create a _two_ sleepwalker animation!\n",
        "#           For an example _idea_ see the next cell...\n",
        "\n"
      ]
    },
    {
      "cell_type": "code",
      "execution_count": null,
      "metadata": {
        "id": "1zZ5kFlm3ggA"
      },
      "outputs": [],
      "source": [
        "\n",
        "# here is an _example_ of a two-sleepwalker animation idea\n",
        "# a starting point has been written... but only one wanderer is wandering!\n",
        "# your task is to make sure TWO wanderers are wandering... in a fashion you design...\n",
        "\n",
        "import time\n",
        "import random\n",
        "\n",
        "def rs():\n",
        "    \"\"\" One random step \"\"\"\n",
        "    return random.choice([-1, 1])\n",
        "def print_poptarts(pST, pSM):\n",
        "    \"\"\" print the two poptarts! \"\"\"\n",
        "    if pST < pSM:\n",
        "        pLeft = pST;   cLeft = \"\\033[6;33;41m\" + \"P\" + \"\\033[0m\"\n",
        "        pRight = pSM;  cRight = \"\\033[6;36;43m\" + \"P\" + \"\\033[0m\"\n",
        "    else:\n",
        "        pLeft = pSM;   cLeft = \"\\033[6;36;43m\" + \"P\" + \"\\033[0m\"\n",
        "        pRight = pST;  cRight = \"\\033[6;33;41m\" + \"P\" + \"\\033[0m\"\n",
        "\n",
        "    left_space = (pLeft-0)\n",
        "    middle_space = (pRight-pLeft)\n",
        "    right_space = (30-pRight)\n",
        "    print(\"CGU|\" + \"_\"*left_space + cLeft + \"_\"*middle_space + cRight + \"_\"*right_space + \"|Toaster\", flush=True)\n",
        "def poptart_race(pST, pSM):\n",
        "    \"\"\"\n",
        "        This simulator observes two poptarts, pST, pSM (you can guess the flavors...)\n",
        "        wandering between 0 and 30.\n",
        "        Call this with\n",
        "               poptart_race(10, 20)\n",
        "           or  poptart_race(pST=10, pSM=20)    # this is the same as the line above\n",
        "        The endpoints are always at 0 and 30. We check that  0 < pST < 30 and 0 < pSM < 30\n",
        "        Other values to try:  poptart_race(18, 22)    # evenly spaced\n",
        "                              poptart_race(5, 15)     # uneven spacing: pST is closer...\n",
        "    \"\"\"\n",
        "    num_steps = 0       # count the number of steps\n",
        "    while 0 < pST < 30:\n",
        "        print_poptarts(pST, pSM)   # print the current poptart-configuration!\n",
        "        pST = pST + rs()           # take a random step for the strawberry poptart...\n",
        "        num_steps += 1             # add 1 to our count of steps (in the variable num_steps)\n",
        "        time.sleep(0.05)           # pause a bit, to add drama!\n",
        "\n",
        "    # finished with the while loop!\n",
        "    return num_steps\n",
        "\n"
      ]
    },
    {
      "cell_type": "code",
      "source": [
        "poptart_race(10, 20)"
      ],
      "metadata": {
        "id": "VbhjtXudzAC4"
      },
      "execution_count": null,
      "outputs": []
    },
    {
      "cell_type": "markdown",
      "metadata": {
        "id": "IrzyA63F3ggB"
      },
      "source": [
        "\n",
        "<br>\n",
        "\n",
        "#### Hints, suggestions, and other references\n",
        "+ Be sure that there is a <i>finishing condition</i>\n",
        "+ Have a meaningful return value - such as the number of steps\n",
        "+ There should be some interaction between the wandering agents (each other), as well as between the wanderers and the endpoints, e.g., walls, cliffs, wells, teleports, etc.\n",
        "\n",
        "<br>\n",
        "\n",
        "As a few possible examples, you might consider:\n",
        "+ two wanderers that are trying to reach an item between them (see above)\n",
        "+ two wanderers that are unable to switch places (they \"bounce\"), with the simulation ending when one—or both—reach the walls\n",
        "+ two endpoints of a single \"entity\" that's trying to consume the whole environment (reach both sides)\n",
        "+ a single wanderer hoping to avoid an \"obstacle\" that is also a wanderer... it moves around and/or (dis)appears: a moving obstacle definitely counts as a second wanderer\n",
        "+ one or both walls can be a \"wanderer\"\n",
        "+ there are many more possibilities, for sure!\n",
        "\n",
        "\n",
        "<br>\n",
        "\n",
        "Other resources/references:\n",
        "+ [Lots of ideas are here at the cs5 page](https://www.cs.hmc.edu/twiki/bin/view/CS5Fall2019/SleepwalkingStudentGold)\n",
        "+ You can also add emojis and other unicode characters\n",
        "+ And you can change the colors -- see the next couple of cells for examples...\n",
        "+ [Here is the terminal-colors in Python page](https://www.cs.hmc.edu/twiki/bin/view/CS5/TerminalColorsInPython)"
      ]
    },
    {
      "cell_type": "code",
      "execution_count": null,
      "metadata": {
        "id": "CpFeTj_83ggC"
      },
      "outputs": [],
      "source": [
        "import time\n",
        "\n",
        "# emoji test\n",
        "emoji_list = [ \"♫\", \"♪\" ]\n",
        "for i in range(1,10):\n",
        "    left_side = i\n",
        "    right_side = (10-i)\n",
        "\n",
        "    e = \"🙂\"\n",
        "    # e = random.choice(emoji_list)\n",
        "\n",
        "    print(\"|\" + \"_\"*left_side + e + \"_\"*right_side + \"|\", flush=True)\n",
        "    time.sleep(0.25)"
      ]
    },
    {
      "cell_type": "code",
      "execution_count": null,
      "metadata": {
        "id": "jhB1t4kZ3ggC"
      },
      "outputs": [],
      "source": [
        "print(\"\\nbefore: \" + \"\\033[6;30;43m\" + \"This text uses 6;30;43 .\" + \"\\033[0m\" + \" :end\\n\")"
      ]
    },
    {
      "cell_type": "markdown",
      "source": [
        "Here's an example with the black-and-gold text:"
      ],
      "metadata": {
        "id": "mp0pOdGpQ8cA"
      }
    },
    {
      "cell_type": "code",
      "source": [
        "import time\n",
        "\n",
        "def gold_bg(text):\n",
        "    return \"\\033[6;30;43m\" + text + \"\\033[0m\"\n",
        "\n",
        "# gold_bg test\n",
        "for i in range(1,10):\n",
        "    left_side = i\n",
        "    right_side = (10-i)\n",
        "\n",
        "    e = \"E\"\n",
        "    # e = random.choice(emoji_list)\n",
        "\n",
        "    print(\"|\" + \"_\"*left_side + gold_bg(e) + \"_\"*right_side + \"|\", flush=True)\n",
        "    time.sleep(0.25)\n",
        "\n",
        "# by Zach\n",
        "\n",
        "# REVERSE gold_bg test\n",
        "for i in range(10,0,-1):\n",
        "    left_side = i\n",
        "    right_side = (10-i)\n",
        "\n",
        "    e = \"E\"\n",
        "    # e = random.choice(emoji_list)\n",
        "\n",
        "    print(\"|\" + gold_bg(\"_\"*left_side) + e + gold_bg(\"_\"*right_side) + \"|\", flush=True)\n",
        "    time.sleep(0.25)"
      ],
      "metadata": {
        "id": "Ow8QYU-dQ_Xg"
      },
      "execution_count": null,
      "outputs": []
    },
    {
      "cell_type": "markdown",
      "metadata": {
        "id": "234UmAAE3ggD"
      },
      "source": [
        "<br>\n",
        "\n",
        "####  Complete!\n",
        "+ When you have ~~completed~~ your two-sleepwalker simulation, be sure that you have at least one run held in the output of your cell(s)\n",
        "+ More than one run is ok, too\n",
        "+ Remember, once you've defined a function, you're able to run it in many cells afterwards...\n",
        "\n",
        "<br>\n",
        "\n",
        "Then, submit this to its Gradescope spot..."
      ]
    },
    {
      "cell_type": "code",
      "source": [
        "### Simulation Game ###\n",
        "#\n",
        "#The Cats, Mouse and Cheese Game\n",
        "#\n",
        "# cat1 = \"🐱\"\n",
        "# cat2 = \"🐈\"\n",
        "# mouse= \"🐭\"\n",
        "# cheese = \"🧀\"\n",
        "#\n",
        "''' The cheese appears in a random location, and the mouse attempts to catch\n",
        "the cheese by moving randomly. Each cat randomly moves left or right with each\n",
        "step. If a cat lands on the mouse, that cat scores a point, and the mouse\n",
        "respawns in a different random position. The same process applies to the\n",
        "mouse trying to catch the cheese.\n",
        "'''\n",
        "\n",
        "import random\n",
        "import time\n",
        "\n",
        "def cats_mouse_cheese_game():\n",
        "    # Emojis\n",
        "    cat1_emoji = \"🐱\"\n",
        "    cat2_emoji = \"🐈\"\n",
        "    mouse_emoji = \"🐭\"\n",
        "    cheese_emoji = \"🧀\"\n",
        "\n",
        "    world_length = 14  # This means we have 15 horizontal positions in each round.\n",
        "    max_steps = 30\n",
        "\n",
        "    # Initial positions\n",
        "    cat1_pos = 2\n",
        "    cat2_pos = 17\n",
        "    mouse_pos = 10\n",
        "    cheese_pos = random.randint(0, world_length)\n",
        "\n",
        "    cat1_score = 0\n",
        "    cat2_score = 0\n",
        "    mouse_score = 0\n",
        "\n",
        "    for step in range(1, max_steps + 1):\n",
        "        cat1_pos += random.choice([-1, 1])\n",
        "        cat2_pos += random.choice([-1, 1])\n",
        "        mouse_pos += random.choice([-1, 1])\n",
        "\n",
        "        cat1_pos = max(0, min(cat1_pos, world_length))\n",
        "        cat2_pos = max(0, min(cat2_pos, world_length))\n",
        "        mouse_pos = max(0, min(mouse_pos, world_length))\n",
        "\n",
        "        caught_messages = []\n",
        "\n",
        "        mouse_caught = False\n",
        "\n",
        "        if cat1_pos == mouse_pos:\n",
        "            cat1_score += 1\n",
        "            caught_messages.append(\"Cat1 caught the mouse!\")\n",
        "            mouse_caught = True\n",
        "\n",
        "        if cat2_pos == mouse_pos:\n",
        "            cat2_score += 1\n",
        "            caught_messages.append(\"Cat2 caught the mouse!\")\n",
        "            mouse_caught = True\n",
        "\n",
        "        if mouse_caught:\n",
        "            # Respawn the mouse at a new random position\n",
        "            mouse_pos = random.randint(0, world_length)\n",
        "\n",
        "        if mouse_pos == cheese_pos:\n",
        "            mouse_score += 1\n",
        "            caught_messages.append(\"Mouse caught the cheese!\")\n",
        "\n",
        "            cheese_pos = random.randint(0, world_length)\n",
        "\n",
        "        line = \"\"\n",
        "        for i in range(world_length + 1):\n",
        "\n",
        "            if i == cat1_pos and i == cat2_pos and i == mouse_pos and i == cheese_pos:\n",
        "                line += cat1_emoji + cat2_emoji + mouse_emoji + cheese_emoji\n",
        "            elif i == cat1_pos and i == cat2_pos and i == mouse_pos:\n",
        "                line += cat1_emoji + cat2_emoji + mouse_emoji\n",
        "            elif i == cat1_pos and i == cat2_pos and i == cheese_pos:\n",
        "                line += cat1_emoji + cat2_emoji + cheese_emoji\n",
        "            elif i == cat1_pos and i == mouse_pos and i == cheese_pos:\n",
        "                line += cat1_emoji + mouse_emoji + cheese_emoji\n",
        "            elif i == cat2_pos and i == mouse_pos and i == cheese_pos:\n",
        "                line += cat2_emoji + mouse_emoji + cheese_emoji\n",
        "            elif i == cat1_pos and i == cat2_pos:\n",
        "                line += cat1_emoji + cat2_emoji\n",
        "            elif i == cat1_pos and i == mouse_pos:\n",
        "                line += cat1_emoji + mouse_emoji\n",
        "            elif i == cat1_pos and i == cheese_pos:\n",
        "                line += cat1_emoji + cheese_emoji\n",
        "            elif i == cat2_pos and i == mouse_pos:\n",
        "                line += cat2_emoji + mouse_emoji\n",
        "            elif i == cat2_pos and i == cheese_pos:\n",
        "                line += cat2_emoji + cheese_emoji\n",
        "            elif i == mouse_pos and i == cheese_pos:\n",
        "                line += mouse_emoji + cheese_emoji\n",
        "            elif i == cat1_pos:\n",
        "                line += cat1_emoji\n",
        "            elif i == cat2_pos:\n",
        "                line += cat2_emoji\n",
        "            elif i == mouse_pos:\n",
        "                line += mouse_emoji\n",
        "            elif i == cheese_pos:\n",
        "                line += cheese_emoji\n",
        "            else:\n",
        "                line += \"_\"\n",
        "\n",
        "        # Print the scene + the scores so far\n",
        "        print(\n",
        "            f\"{line} | step {step}, \"\n",
        "            f\"cat1: {cat1_score}, cat2: {cat2_score}, mouse: {mouse_score}\",\n",
        "            flush=True\n",
        "        )\n",
        "\n",
        "        # If anything was caught, print those messages\n",
        "        for msg in caught_messages:\n",
        "            print(\"   ->\", msg)\n",
        "\n",
        "        # Pause briefly to watch the \"animation\"\n",
        "        time.sleep(0.5)\n",
        "\n",
        "    # After the loop, print final results\n",
        "    print(\"\\nFinal scores:\")\n",
        "    print(\"Cat1 :\", cat1_score)\n",
        "    print(\"Cat2 :\", cat2_score)\n",
        "    print(\"Mouse:\", mouse_score)\n",
        "\n",
        "    # Determine the winner\n",
        "    highest = max(cat1_score, cat2_score, mouse_score)\n",
        "    winners = []\n",
        "    if cat1_score == highest:\n",
        "        winners.append(\"Cat1\")\n",
        "    if cat2_score == highest:\n",
        "        winners.append(\"Cat2\")\n",
        "    if mouse_score == highest:\n",
        "        winners.append(\"Mouse\")\n",
        "\n",
        "    if len(winners) == 1:\n",
        "        print(f\"{winners[0]} wins! 🏆\")\n",
        "    else:\n",
        "        print(\"It's a tie between:\", \" and \".join(winners), \"!\")\n",
        "\n",
        "cats_mouse_cheese_game()\n"
      ],
      "metadata": {
        "colab": {
          "base_uri": "https://localhost:8080/"
        },
        "id": "KZ4_gOxnzZQ_",
        "outputId": "579af5fa-ab44-40db-aadb-339810a6246f"
      },
      "execution_count": null,
      "outputs": [
        {
          "output_type": "stream",
          "name": "stdout",
          "text": [
            "___🐱🧀_____🐭____🐈 | step 1, cat1: 0, cat2: 0, mouse: 0\n",
            "___🧀🐱___🐭_____🐈 | step 2, cat1: 0, cat2: 0, mouse: 0\n",
            "___🧀_🐱_🐭_____🐈_ | step 3, cat1: 0, cat2: 0, mouse: 0\n",
            "___🧀__🐱_🐭_____🐈 | step 4, cat1: 0, cat2: 0, mouse: 0\n",
            "___🧀___🐱🐭_____🐈 | step 5, cat1: 1, cat2: 0, mouse: 0\n",
            "   -> Cat1 caught the mouse!\n",
            "___🧀___🐭🐱_____🐈 | step 6, cat1: 1, cat2: 0, mouse: 0\n",
            "___🧀____🐭🐱___🐈_ | step 7, cat1: 1, cat2: 0, mouse: 0\n",
            "___🧀___🐭🐱_____🐈 | step 8, cat1: 1, cat2: 0, mouse: 0\n",
            "___🧀____🐭🐱____🐈 | step 9, cat1: 1, cat2: 0, mouse: 0\n",
            "___🧀_____🐭🐱___🐈 | step 10, cat1: 1, cat2: 0, mouse: 0\n",
            "___🧀______🐭🐱__🐈 | step 11, cat1: 1, cat2: 0, mouse: 0\n",
            "___🧀_____🐭__🐱🐈_ | step 12, cat1: 1, cat2: 0, mouse: 0\n",
            "___🧀______🐭🐱🐈__ | step 13, cat1: 1, cat2: 0, mouse: 0\n",
            "___🧀_____🐭__🐱🐈_ | step 14, cat1: 1, cat2: 0, mouse: 0\n",
            "___🧀____🐭____🐱🐈 | step 15, cat1: 1, cat2: 0, mouse: 0\n",
            "___🧀___🐭____🐱🐈_ | step 16, cat1: 1, cat2: 0, mouse: 0\n",
            "___🧀____🐭___🐈🐱_ | step 17, cat1: 1, cat2: 0, mouse: 0\n",
            "___🧀___🐭___🐈🐱__ | step 18, cat1: 1, cat2: 0, mouse: 0\n",
            "___🧀____🐭_🐈__🐱_ | step 19, cat1: 1, cat2: 0, mouse: 0\n",
            "___🧀__🐭__🐈____🐱 | step 20, cat1: 1, cat2: 1, mouse: 0\n",
            "   -> Cat2 caught the mouse!\n",
            "___🧀___🐭🐈____🐱_ | step 21, cat1: 1, cat2: 1, mouse: 0\n",
            "___🧀____🐭🐈__🐱__ | step 22, cat1: 1, cat2: 1, mouse: 0\n",
            "___🧀_____🐭🐈🐱___ | step 23, cat1: 1, cat2: 1, mouse: 0\n",
            "___🧀_____🐈🐭_🐱__ | step 24, cat1: 1, cat2: 1, mouse: 0\n",
            "___🧀______🐈🐭_🐱_ | step 25, cat1: 1, cat2: 1, mouse: 0\n",
            "___🧀_____🐈🐭___🐱 | step 26, cat1: 1, cat2: 1, mouse: 0\n",
            "___🧀______🐈🐭_🐱_ | step 27, cat1: 1, cat2: 1, mouse: 0\n",
            "___🧀______🐭🐈🐱__ | step 28, cat1: 1, cat2: 1, mouse: 0\n",
            "___🧀_______🐭🐈🐱_ | step 29, cat1: 1, cat2: 1, mouse: 0\n",
            "___🧀______🐭_🐱🐈_ | step 30, cat1: 1, cat2: 1, mouse: 0\n",
            "\n",
            "Final scores:\n",
            "Cat1 : 1\n",
            "Cat2 : 1\n",
            "Mouse: 0\n",
            "It's a tie between: Cat1 and Cat2 !\n"
          ]
        }
      ]
    },
    {
      "cell_type": "markdown",
      "source": [
        "# <font color=\"DarkBlue\"><b>Task #7</b></font>: Reading and Response on _ChatGPT_\n",
        "\n",
        "Of course, we have to have a ChatGPT article!\n",
        "\n",
        "Happily, the NYTimes has written many of these 😀\n",
        "+ [NYTimes article](https://www.nytimes.com/2023/02/03/technology/chatgpt-openai-artificial-intelligence.html)\n",
        "+ [Local pdf in case the above link does not work](https://drive.google.com/file/d/1SUhVAcDPcC80FfMyKUSt6EmKHOo7eImf/view?usp=sharing)\n",
        "\n",
        "The article summarizes\n",
        "+ the surprising progress in _generative AI_\n",
        "+ including both text and images\n",
        "+ and looks ahead at what's coming...\n",
        "\n",
        "<br>\n",
        "\n",
        "When you've read the article, share a short paragraph that describes\n",
        "+ your thoughts on \"Should ChatGPT be called 'sentient'?\"  That is, is it \"thinking,\" in the way you use that word. Why or why not...\n",
        "+ or, your thoughts on the differences between ChatGPT's \"thinking\" and \"human thinking\": how would you describe those?\n",
        "+ or, share your thoughts on _which traditionally-human activity_ will ChatGPT have the largest influence on, over the next 2-3 years?\n",
        "\n",
        "<br>\n",
        "\n",
        "Also, **feel free to use ChatGPT** to write your response to these prompts above... If you do this, then:\n",
        "+ add your thoughts on how well ChatGPT was able to answer the prompt\n",
        "+ also, share whether you agree, disagree, or derive some other opinion with respect to ChatGPT's self-description!\n",
        "\n",
        "<br>\n",
        "\n",
        "It's an interesting era in which we live!"
      ],
      "metadata": {
        "id": "7pzngEXA4h8U"
      }
    },
    {
      "cell_type": "markdown",
      "source": [
        "### Feel free to use this cell for your thoughts\n",
        "\n",
        "During my design science research class (DSR) with Professor Chatterjee, we explored the question, \"Can robots or AI have consciousness in the future?\" To address this topic, we read several articles on human consciousness. I found it challenging to grasp the concept of consciousness. Human consciousness drives our feelings and senses, which can lead to experiences of happiness or sadness. These emotions are not merely mental states; they also influence our physical state and how we perceive the external world.\n",
        "\n",
        "In contrast, AI lacks this depth of experience because it is limited to the confines of computer chips. Additionally, AI cannot be classified as \"sentient\" since sentience involves the capacity to feel suffering, particularly as a result of empathy for others or regret over one's own decisions. One article emphasized the importance of understanding human consciousness more thoroughly before attempting to implement any of its aspects into robots or AI systems. Personally, I believe it is premature to conclude that advanced AI will acquire consciousness or become \"sentient\" in the near future.\n",
        "<br><br>\n",
        "\n",
        "------------------------------------------\n",
        "**This is Chat GPT response about the article:**\n",
        "\n",
        "\"After reading How ChatGPT Kicked Off an A.I. Arms Race, I’m struck by how quickly generative A.I. tools have evolved—and how much hype surrounds them. Although ChatGPT can produce remarkably human-like text, it’s not “sentient” in the way we usually define consciousness; it’s essentially predicting what words should come next based on patterns in massive training data. That said, it can still transform many fields—education, content creation, and search engines—within just the next few years, because it automates tasks once reserved for human writers and coders. I think the biggest difference between ChatGPT’s “thinking” and human thinking is that ChatGPT has no personal experiences or emotions; it recombines existing information rather than genuinely experiencing or reflecting. Over the next two or three years, I expect ChatGPT (and successors like GPT-4) to push other tech giants and startups to integrate large language models everywhere, sparking both exciting innovations and serious debates about authenticity, regulation, and ethical use.\"\n",
        "\n",
        "------------------------------\n",
        "\n",
        "It agrees with my point about what I said about gen AI can not having a human consciousness: \"it’s not “sentient” in the way we usually define consciousness\".\n",
        "In my experience, ChatGPT’s responses are often clear and coherent, but it can still produce factual errors or biased outputs. This underscores the idea that it’s not truly “reasoning” the way humans do, but it can imitate human reasoning in that it seems to have self-awareness."
      ],
      "metadata": {
        "id": "dtcBswtz6M7y"
      }
    },
    {
      "cell_type": "markdown",
      "source": [
        "# Submitting...\n",
        "\n",
        "Be sure to submit the url of _your_ copy -- with the challenges, questions, and programs composed --\n",
        "+ to Canvas in the appropriate spot\n",
        "+ by the appropriate Frisay evening (any time)\n",
        "+ shared with me (ZD)  ``zdodds@gmail.com``\n",
        "\n",
        "Remember that there is lots of tutoring support, as well as office-hour support available...  \n",
        "\n",
        "<br>\n",
        "\n",
        "\n",
        "As a reminder, the programming parts of IST341 match the spirit of the course, in seeking, among other things:\n",
        "+ creativity/novelty\n",
        "+ personalization/individual context\n",
        "+ exploration and understanding (does it run?)"
      ],
      "metadata": {
        "id": "rNHGo2zHWUuo"
      }
    }
  ],
  "metadata": {
    "colab": {
      "provenance": []
    },
    "kernelspec": {
      "display_name": "Python 3",
      "name": "python3"
    },
    "language_info": {
      "name": "python"
    }
  },
  "nbformat": 4,
  "nbformat_minor": 0
}