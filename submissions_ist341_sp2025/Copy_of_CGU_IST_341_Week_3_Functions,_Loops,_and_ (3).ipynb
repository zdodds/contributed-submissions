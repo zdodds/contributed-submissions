{
  "cells": [
    {
      "cell_type": "markdown",
      "source": [
        "# Welcome back, IST 341!\n",
        "\n",
        "### _Assignment 3 Notebook: Functions, Loops, and Monte Carlo!_\n",
        "\n",
        "This week is functions first -- and all the rest.\n",
        "\n",
        "Featuring:\n",
        "+ A few self-similar function applications\n",
        "+ An introduction to _looping_ functions\n",
        "+ Monte Carlo Applications! The \"birthday room\" and \"sleepwalker\" (random walks)\n",
        "+ A reading and response on ChatGPT, naturally\n",
        "  + Feel free to ChatGPT it ...\n",
        "  + ... in which case, respond to its response!"
      ],
      "metadata": {
        "id": "UrkiOTiDEjwp"
      }
    },
    {
      "cell_type": "markdown",
      "source": [
        "### <font color=\"DodgerBlue\"><b>Make your own copy of this notebook (as in each week)</b></font>\n",
        "\n",
        "**Submitting** -- When you're ready to submit, be sure to\n",
        "+ **share** the notebook with the <font color=\"darkblue\">instructor</font> (_hi!_):\n",
        "   + `zdodds@gmail.com`\n",
        "+ and also **submit** the url to your notebook at the appropriate spot on Canvas\n"
      ],
      "metadata": {
        "id": "M7dzL4m4fPYf"
      }
    },
    {
      "cell_type": "markdown",
      "source": [
        "# <b>Leading example</b>:  ``i2I_once``\n",
        "\n",
        "The alien is seeking a capital ``'I'``!\n",
        "\n",
        "The function ``i2I_once(s)`` takes in a string ``s``\n",
        "From there,\n",
        "+ if ``s`` is the single character ``'i'``, the function returns a capital ``'I'``\n",
        "+ otherwise, the function returns the original input, ``s``\n",
        "\n",
        "Try it!\n",
        "\n",
        "<b>Shortcut</b>: <tt>control-/</tt> comments and uncomments..."
      ],
      "metadata": {
        "id": "9BqFJ1etLRzR"
      }
    },
    {
      "cell_type": "code",
      "source": [
        "# single-character substitution:\n",
        "\n",
        "def i2I_once(s):\n",
        "  \"\"\" i2I_once changes an input 'i' to an output 'I'\n",
        "      all other inputs remain the same\n",
        "  \"\"\"\n",
        "  if s == 'i':\n",
        "    return 'I'\n",
        "  else:\n",
        "    return s\n",
        "\n",
        "# tests are in the next cell..."
      ],
      "metadata": {
        "id": "1krVLOH0HQsC"
      },
      "execution_count": null,
      "outputs": []
    },
    {
      "cell_type": "code",
      "source": [
        "# Tests to try for i2I_once  (Try control-/ to uncomment them!)\n",
        "\n",
        "print(\"i2I_once('i') should be 'I' <->\", i2I_once('i'))\n",
        "print(\"i2I_once('j') should be 'j' <->\", i2I_once('j'))\n",
        "print()\n",
        "\n",
        "print(\"i2I_once('alien') should be 'alien' <->\", i2I_once('alien'))\n",
        "print(\"i2I_once('icicle') should be 'icicle' <->\", i2I_once('icicle'))"
      ],
      "metadata": {
        "id": "Y421urjHHTDd",
        "colab": {
          "base_uri": "https://localhost:8080/"
        },
        "outputId": "278da1fe-24ed-4cad-b4e9-943ecdd01150"
      },
      "execution_count": null,
      "outputs": [
        {
          "output_type": "stream",
          "name": "stdout",
          "text": [
            "i2I_once('i') should be 'I' <-> I\n",
            "i2I_once('j') should be 'j' <-> j\n",
            "\n",
            "i2I_once('alien') should be 'alien' <-> alien\n",
            "i2I_once('icicle') should be 'icicle' <-> icicle\n"
          ]
        }
      ]
    },
    {
      "cell_type": "markdown",
      "source": [
        "## <b>The problem</b>\n",
        "\n",
        "The \"problem\" is that ``i2I_once`` only works on single-character strings. But... <br> **we'd like it to work on <u>every</u> character in a string!**\n",
        "\n",
        "<br>\n",
        "\n",
        "## <b>The solution!</b>\n",
        "\n",
        "We create a second function, ``i2I_all(s)`` which\n",
        "+ calls ``i2I_once`` on the ***first*** character, ``s[0]``\n",
        "+ then, calls ``i2I_all`` on the ***rest***, ``s[1:]``\n",
        "\n",
        "<b>Important!</b> There needs to be a way to stop!\n",
        "+ The function checks if the input ``s`` has no characters...\n",
        "+ in that case, there is nothing to substitute, and the empty string ``''`` is returned\n",
        "\n",
        "Try it!\n",
        "\n"
      ],
      "metadata": {
        "id": "S3fIcroiHwp1"
      }
    },
    {
      "cell_type": "code",
      "source": [
        "# multiple-character substitution\n",
        "\n",
        "def i2I_all(s):\n",
        "  \"\"\" changes i to I for all characters in the input, s \"\"\"\n",
        "  if s == '':       # EMPTY case!\n",
        "    return ''\n",
        "  else:\n",
        "    return i2I_once(s[0]) + i2I_all(s[1:])  # FIRST and REST\n",
        "\n",
        "# tests are in the next cell..."
      ],
      "metadata": {
        "id": "BdvSdeIXHUHB"
      },
      "execution_count": null,
      "outputs": []
    },
    {
      "cell_type": "code",
      "source": [
        "# Tests to try for i2I_all\n",
        "\n",
        "print(\"i2I_all('alien') should be 'alIen' <->\", i2I_all('alien'))\n",
        "print(\"i2I_all('aliiien') should be 'alIIIen' <->\", i2I_all('aliiien'))\n",
        "print()\n",
        "\n",
        "print(\"i2I_all('icicle') should be 'IcIcle' <->\", i2I_all('icicle'))\n",
        "print(\"i2I_all('No eyes to see here') should be 'No eyes to see here' <->\", i2I_all('No eyes to see here'))"
      ],
      "metadata": {
        "id": "lX1tlDNbHVq-",
        "colab": {
          "base_uri": "https://localhost:8080/"
        },
        "outputId": "72e5ceb8-41fc-4742-9bc9-29c455c8518a"
      },
      "execution_count": null,
      "outputs": [
        {
          "output_type": "stream",
          "name": "stdout",
          "text": [
            "i2I_all('alien') should be 'alIen' <-> alIen\n",
            "i2I_all('aliiien') should be 'alIIIen' <-> alIIIen\n",
            "\n",
            "i2I_all('icicle') should be 'IcIcle' <-> IcIcle\n",
            "i2I_all('No eyes to see here') should be 'No eyes to see here' <-> No eyes to see here\n"
          ]
        }
      ]
    },
    {
      "cell_type": "markdown",
      "source": [
        "## <b>An <i>alternative</i> solution...</b>\n",
        "\n",
        "The above solution uses only conditionals (`if` and `else`) and function-calls. Because the function calls _itself_, it's called **recursive** .\n",
        "\n",
        "<br>\n",
        "\n",
        "An alternative approach -- and one that, to be honest, is more often used in practice, uses a **loop**.  Loops express _repetition_. It's a bit glib, but in one sense computers are really just machines for running loops... <font size=\"-2\">That said, the loops are almost always inside functions!</font>  \n",
        "\n",
        "## <b>The <i>Loop</i> solution!</b>\n",
        "\n",
        "We create a second solution, ``i2I_all_loop(s)`` which\n",
        "+ loops over each character, giving each one the name `c` - and then\n",
        "+ calls ``i2I_once`` on ***each*** of those characters, `c`\n",
        "+ and, meanwhile, adds up all of the transformed characters\n",
        "+ In the end, it returns the final **result**.\n",
        "\n",
        "Try it!"
      ],
      "metadata": {
        "id": "BSsaKb79M-pZ"
      }
    },
    {
      "cell_type": "code",
      "source": [
        "# multiple-character substitution\n",
        "\n",
        "def i2I_all_loop(s):\n",
        "  \"\"\" changes i to I for all characters in the input, s \"\"\"\n",
        "  result = ''        # the result starts as the EMPTY string!\n",
        "\n",
        "  for c in s:        # c is the name we are giving to EACH element in s (that is, each character in s)\n",
        "    result = result + i2I_once(c)   # each time, we add the new transformed output to the end of result\n",
        "    # print(\"result is\", result)    # uncomment this to see the process, in action!\n",
        "\n",
        "  return result      # at the end, we return the final, completely-created result string!\n",
        "\n",
        "# tests are in the next cell..."
      ],
      "metadata": {
        "id": "Zar7ZreiOGAl"
      },
      "execution_count": null,
      "outputs": []
    },
    {
      "cell_type": "code",
      "source": [
        "# Tests to try for i2I_all_loop\n",
        "\n",
        "print(\"i2I_all_loop('alien') should be 'alIen' <->\", i2I_all_loop('alien'))\n",
        "print(\"i2I_all_loop('aliiien') should be 'alIIIen' <->\", i2I_all_loop('aliiien'))\n",
        "print()\n",
        "\n",
        "print(\"i2I_all_loop('icicle') should be 'IcIcle' <->\", i2I_all_loop('icicle'))\n",
        "print(\"i2I_all_loop('No eyes to see here') should be 'No eyes to see here' <->\", i2I_all_loop('No eyes to see here'))"
      ],
      "metadata": {
        "id": "8AUnOPghPEPJ",
        "colab": {
          "base_uri": "https://localhost:8080/"
        },
        "outputId": "ec7b6de2-23f6-4e03-cdaf-907d257f8e8f"
      },
      "execution_count": null,
      "outputs": [
        {
          "output_type": "stream",
          "name": "stdout",
          "text": [
            "i2I_all_loop('alien') should be 'alIen' <-> alIen\n",
            "i2I_all_loop('aliiien') should be 'alIIIen' <-> alIIIen\n",
            "\n",
            "i2I_all_loop('icicle') should be 'IcIcle' <-> IcIcle\n",
            "i2I_all_loop('No eyes to see here') should be 'No eyes to see here' <-> No eyes to see here\n"
          ]
        }
      ]
    },
    {
      "cell_type": "markdown",
      "source": [
        "### Recursion expresses \"the future\"  (Wow!)\n",
        "\n",
        "In a sense, recursion's power is its ability to express <i>... and all the future stuff...</i>  \n",
        "\n",
        "\"Knowing\" or, at least, _calling_ the future is quite a feat!\n",
        "\n",
        "As an example, here is a number-guessing game,\n",
        "+ where it's the _computer_ that has to do the guessing:"
      ],
      "metadata": {
        "id": "KDcoGajZ4Hed"
      }
    },
    {
      "cell_type": "code",
      "source": [
        "#\n",
        "# Example of recursion-as-future:\n",
        "#\n",
        "\n",
        "from random import *\n",
        "\n",
        "def guess( hidden ):\n",
        "    \"\"\"\n",
        "        have the computer guess numbers until it gets the \"hidden\" value\n",
        "        return the number of guesses\n",
        "    \"\"\"\n",
        "    this_guess = choice( range(0,100) )  # 0 to 99, inclusive\n",
        "\n",
        "    if this_guess == hidden:\n",
        "        print(\"I guessed it!\")\n",
        "        return 1                         # it only took one guess!\n",
        "\n",
        "    else:\n",
        "        return 1 + guess( hidden )  # 1 for this guess, PLUS all future guesses!\n",
        "\n",
        "# test our function!\n",
        "guess(42)"
      ],
      "metadata": {
        "colab": {
          "base_uri": "https://localhost:8080/"
        },
        "id": "uB7xNCEW4gR9",
        "outputId": "1eebf03d-93bc-4a71-9ddc-e929f71e6a9a"
      },
      "execution_count": null,
      "outputs": [
        {
          "output_type": "stream",
          "name": "stdout",
          "text": [
            "I guessed it!\n"
          ]
        },
        {
          "output_type": "execute_result",
          "data": {
            "text/plain": [
              "163"
            ]
          },
          "metadata": {},
          "execution_count": 7
        }
      ]
    },
    {
      "cell_type": "markdown",
      "source": [
        "## Loops or Recursion: _Your choice_ ...\n",
        "\n",
        "For these next-few functions, feel free to use loops or recursion.\n",
        "\n",
        "_Suggestion_:  &nbsp; Copy-and-edit the solutions above. Adapt them to the new problem at hand!\n",
        "\n",
        "_Disclaimer_: &nbsp; This is how ***all*** software is created in professional practice: adapting old software that had been solving similar problems!\n",
        "\n",
        "<br>\n",
        "\n",
        "<hr>\n",
        "\n",
        "<br>"
      ],
      "metadata": {
        "id": "pA1aLiC6OGz0"
      }
    },
    {
      "cell_type": "markdown",
      "source": [
        "### <font color=\"darkblue\"><b>Task #1</b></font>: ``spongebobbify_each(s)``\n",
        "\n",
        "The ``i2I_all`` and `i2I_all_loop` and ``i2I_once`` patterns are very powerful -- and very general. Even universal!\n",
        "\n",
        "For <b>task #1</b>, the goal is to write ``spongebobbify_each(s)`` whose goal is to return a randomly-capitalized version of the input string ``s``. For example,\n",
        "\n",
        "``spongebobbify_all('where's gary?')`` might return ``WhERe's gARy?``\n",
        "+ or, it might return ``wHEre'S GArY?``\n",
        "\n",
        "First, we share Python's built-in upper-case and lower-case functions:"
      ],
      "metadata": {
        "id": "E3dQ1H0xLjg_"
      }
    },
    {
      "cell_type": "code",
      "source": [
        "s = 'shout!'\n",
        "print(\"s is\", s)\n",
        "print(\"s.upper() is\", s.upper())"
      ],
      "metadata": {
        "id": "Vw6cf77XOHGi",
        "colab": {
          "base_uri": "https://localhost:8080/"
        },
        "outputId": "f425d5c6-2279-4c1a-af4d-d4f44c0fb6e0"
      },
      "execution_count": null,
      "outputs": [
        {
          "output_type": "stream",
          "name": "stdout",
          "text": [
            "s is shout!\n",
            "s.upper() is SHOUT!\n"
          ]
        }
      ]
    },
    {
      "cell_type": "code",
      "source": [
        "s = 'WHISPER...'\n",
        "print(\"s is\", s)\n",
        "print(\"s.lower() is\", s.lower())"
      ],
      "metadata": {
        "id": "UWJ2vrgyOUC0",
        "colab": {
          "base_uri": "https://localhost:8080/"
        },
        "outputId": "78002737-617c-4159-c027-18ad78a49cb5"
      },
      "execution_count": null,
      "outputs": [
        {
          "output_type": "stream",
          "name": "stdout",
          "text": [
            "s is WHISPER...\n",
            "s.lower() is whisper...\n"
          ]
        }
      ]
    },
    {
      "cell_type": "code",
      "source": [
        "import random\n",
        "\n",
        "def spongebobbify_each(s):\n",
        "    \"\"\"Returns a randomly capitalized version of the input string.\n",
        "\n",
        "    Argument:\n",
        "    s -- A string\n",
        "\n",
        "    Returns:\n",
        "    A string where each letter is randomly converted to upper or lower case.\n",
        "    \"\"\"\n",
        "    return ''.join(random.choice([char.upper(), char.lower()]) for char in s)\n",
        "\n",
        "# Test cases\n",
        "print(\"spongebobbify_each(\\\"where's gary?\\\") ->\", spongebobbify_each(\"where's gary?\"))\n",
        "print(\"spongebobbify_each(\\\"hello world\\\") ->\", spongebobbify_each(\"hello world\"))\n",
        "print(\"spongebobbify_each(\\\"Python programming\\\") ->\", spongebobbify_each(\"Python programming\"))\n",
        "print(\"spongebobbify_each(\\\"spongebob squarepants!\\\") ->\", spongebobbify_each(\"spongebob squarepants!\"))\n",
        "print(\"spongebobbify_each(\\\"this is so random\\\") ->\", spongebobbify_each(\"this is so random\"))\n"
      ],
      "metadata": {
        "colab": {
          "base_uri": "https://localhost:8080/"
        },
        "id": "_ZlpUkz_35N6",
        "outputId": "6aba6acc-ec9f-49c0-e210-6b92603832da"
      },
      "execution_count": null,
      "outputs": [
        {
          "output_type": "stream",
          "name": "stdout",
          "text": [
            "spongebobbify_each(\"where's gary?\") -> WheRE'S Gary?\n",
            "spongebobbify_each(\"hello world\") -> HELlo WoRld\n",
            "spongebobbify_each(\"Python programming\") -> PytHoN prOgrAMMIng\n",
            "spongebobbify_each(\"spongebob squarepants!\") -> spoNGebOb SQuarePAntS!\n",
            "spongebobbify_each(\"this is so random\") -> this iS sO RANdOM\n"
          ]
        }
      ]
    },
    {
      "cell_type": "markdown",
      "source": [
        "Notice that\n",
        "+ ``s.upper()`` returns a fully upper-cased version of ``s``\n",
        "+ ``s.lower()`` returns a fully lower-cased version of ``s``\n",
        "+ in both cases, non-letters are left alone..."
      ],
      "metadata": {
        "id": "Ja9-9JfLOiFn"
      }
    },
    {
      "cell_type": "markdown",
      "source": [
        "### We provide the ``once`` ...\n",
        "\n",
        "We provide the one-character version, ``spongebobbify_once(s)``\n",
        "+ Notice that it uses the ``random.choice`` function\n",
        "+ It was the same one we used in rock-paper-scissors\n",
        "\n",
        "Try it out:"
      ],
      "metadata": {
        "id": "R6i_1gFfN_7D"
      }
    },
    {
      "cell_type": "code",
      "source": [
        "# We provide the one-character version, in this case:\n",
        "import random                  #  get the random library\n",
        "\n",
        "def spongebobbify_once(s):\n",
        "  \"\"\" returns the input, randomly \"upper-cased\" or \"lower-cased\" \"\"\"\n",
        "  result = random.choice( [s.upper(), s.lower()] )   # choose one at random\n",
        "  return result\n",
        "\n",
        "# Tests in the next cell..."
      ],
      "metadata": {
        "id": "LiIQoH8hHXP-"
      },
      "execution_count": null,
      "outputs": []
    },
    {
      "cell_type": "code",
      "source": [
        "# Tests to try for spongebobbify_once\n",
        "# There are not \"right\" answers, so we just test them:\n",
        "\n",
        "print(spongebobbify_once('F is for friends who do stuff together!'))\n",
        "print(spongebobbify_once('I knew I shouldn\\'t have gotten out of bed today.'))\n",
        "print()\n",
        "\n",
        "# but we want to use it on single letters!\n",
        "print(spongebobbify_once('a'))\n",
        "print(spongebobbify_once('b'))\n",
        "print(spongebobbify_once('c'))\n",
        "print(spongebobbify_once('d'))\n",
        "print(spongebobbify_once('e'))"
      ],
      "metadata": {
        "id": "uYfr7ERRWaev",
        "colab": {
          "base_uri": "https://localhost:8080/"
        },
        "outputId": "2faced60-52a0-41cd-d821-477f13751dda"
      },
      "execution_count": null,
      "outputs": [
        {
          "output_type": "stream",
          "name": "stdout",
          "text": [
            "f is for friends who do stuff together!\n",
            "I KNEW I SHOULDN'T HAVE GOTTEN OUT OF BED TODAY.\n",
            "\n",
            "A\n",
            "B\n",
            "C\n",
            "d\n",
            "E\n"
          ]
        }
      ]
    },
    {
      "cell_type": "markdown",
      "source": [
        "## Now, ``spongebobify_each(s)``\n",
        "\n",
        "<b>Your task</b> is to write ``spongebobify_each(s)``\n",
        "\n",
        "Use the `i2I_all(s)` OR `i2I_all_loop(s)` as guidance and as a template/example. <br>\n",
        "Then, adapt from there:\n",
        "+ How much can be re-used?\n",
        "+ How much works as-is?\n",
        "+ Experiment!\n",
        "\n",
        "It's a remarkably versatile approach!\n",
        "\n",
        "Try our ~~tests~~ quotes -- and add three tests/quotes of your own:\n"
      ],
      "metadata": {
        "id": "nBFQKUs9YY1K"
      }
    },
    {
      "cell_type": "code",
      "source": [
        "# Here, write your  spongebobify_all(s)\n",
        "#\n",
        "import random\n",
        "\n",
        "def spongebobify_each(s):\n",
        "    \"\"\"Returns a randomly capitalized version of the input string.\n",
        "\n",
        "    Argument:\n",
        "    s -- A string\n",
        "\n",
        "    Returns:\n",
        "    A string where each letter is randomly converted to upper or lower case.\n",
        "    \"\"\"\n",
        "    result = \"\"  # Initialize an empty result string\n",
        "    for char in s:\n",
        "        # Randomly decide if the character should be uppercase or lowercase\n",
        "        result += random.choice([char.upper(), char.lower()])\n",
        "    return result\n",
        "\n",
        "\n",
        "\n",
        "# Try our tests (next cell) and add three of your own...\n",
        "# Preferably sBoB QuoTeS..."
      ],
      "metadata": {
        "id": "fGGZ9ApSZEW1"
      },
      "execution_count": null,
      "outputs": []
    },
    {
      "cell_type": "code",
      "source": [
        "# Tests to try for spongebobbify_once\n",
        "# Tests to try for spongebobbify_once\n",
        "# Tests to try for spongebobbify_once\n",
        "# Tests to try for spongebobbify_once\n",
        "# There are not \"right\" answers, so we just test them:\n",
        "\n",
        "print(\"spongebobbify_all('F is for friends who do stuff together!')\")\n",
        "print(\"spongebobbify_all('I knew I shouldn\\'t have gotten out of bed today.')\")\n",
        "print(\"spongebobbify_all('The inner machinations of my mind are an enigma. - Patrick')\")\n",
        "print(\"spongebobify_each(\\\"spongebob squarepants!\\\") ->\", spongebobify_each(\"spongebob squarepants!\"))\n",
        "print(\"spongebobify_each(\\\"I love coding!\\\") ->\", spongebobify_each(\"I love coding!\"))\n",
        "print(\"spongebobify_each(\\\"This is an interesting assignment.\\\") ->\", spongebobify_each(\"This is an interesting assignment.\"))\n",
        "\n",
        "\n",
        "# Your tests here:"
      ],
      "metadata": {
        "id": "geZNGG45ZMlJ",
        "colab": {
          "base_uri": "https://localhost:8080/"
        },
        "outputId": "eae4f5b2-68a4-4f60-8ccf-eb2a1060a1ea"
      },
      "execution_count": null,
      "outputs": [
        {
          "output_type": "stream",
          "name": "stdout",
          "text": [
            "spongebobbify_all('F is for friends who do stuff together!')\n",
            "spongebobbify_all('I knew I shouldn't have gotten out of bed today.')\n",
            "spongebobbify_all('The inner machinations of my mind are an enigma. - Patrick')\n",
            "spongebobify_each(\"spongebob squarepants!\") -> sPONgEbOB SquAREPAnTS!\n",
            "spongebobify_each(\"I love coding!\") -> i LOVE coDing!\n",
            "spongebobify_each(\"This is an interesting assignment.\") -> ThiS iS aN iNTereSTiNg asSigNment.\n"
          ]
        }
      ]
    },
    {
      "cell_type": "markdown",
      "source": [
        "### <font color=\"darkblue\"><b>Task #2</b></font>: ``encode_each(s)`` and ``decode_each(s)``\n",
        "\n",
        "also ``encode_once(s)`` and ``decode_once(s)``\n",
        "\n",
        "<br>\n",
        "\n",
        "_Any_ substitution is possible with our key idea:\n",
        "+ replace the **first** element: the ``once``\n",
        "+ continue the process with the **rest**: another ``all``\n",
        "+ be sure to **stop** (``return ''``) when no input remains!\n",
        "\n",
        "For <b>task #2</b>, we invite you to create your own ``encode`` and ``decode`` functions:\n",
        "\n",
        "<br>\n",
        "\n",
        "Your encode (``encode_once`` and ``encode_all``) should\n",
        "+ replace at least ten letters with other characters\n",
        "  + your choice - other letters, punctuation, emojis ``\"☕⚽ 🦔\"`` or some other one-to-one substitution\n",
        "  + totally ok to substitute more than ten: less readable\n",
        "  + it can't be random, because it needs to be reversible!\n",
        "  + use the loop approach or the recursion approach -- up to you! (Both work...)\n",
        "\n",
        "<br>\n",
        "\n",
        "Your decode (``decode_once`` and ``decode_each``) should\n",
        "+ reverse the effects of your encode functions\n",
        "\n",
        "<br>\n",
        "\n",
        "Then, run our tests -- and add three tests of your own\n",
        "+ let's say at least a sentence, or so, in size..."
      ],
      "metadata": {
        "id": "PTNNYYC3TBrA"
      }
    },
    {
      "cell_type": "code",
      "source": [
        "#\n",
        "# Use this cell -- and/or create more cells -- for your encode and decode functions\n",
        "# There will be four functions in total!\n",
        "#\n",
        "def encode_each(s):\n",
        "    \"\"\"Encodes a string by replacing characters using ENCODE_MAP.\n",
        "\n",
        "    Argument:\n",
        "    s -- The original string\n",
        "\n",
        "    Returns:\n",
        "    The encoded string with substitutions.\n",
        "    \"\"\"\n",
        "    result = \"\"\n",
        "    for char in s:\n",
        "        result += ENCODE_MAP.get(char.lower(), char)  # Keep unchanged if not in map\n",
        "    return result\n",
        "\n",
        "# Test encoding\n",
        "print(\"encode_each('hello world') ->\", encode_each(\"hello world\"))\n",
        "\n",
        "\n",
        "def decode_each(s):\n",
        "    \"\"\"Decodes a string by replacing encoded characters back to their original form.\n",
        "\n",
        "    Argument:\n",
        "    s -- The encoded string\n",
        "\n",
        "    Returns:\n",
        "    The decoded string back to its original form.\n",
        "    \"\"\"\n",
        "    result = \"\"\n",
        "    for char in s:\n",
        "        result += DECODE_MAP.get(char, char)  # Keep unchanged if not in map\n",
        "    return result\n",
        "\n",
        "# Test decoding\n",
        "encoded_msg = encode_each(\"hello world\")\n",
        "print(\"decode_each(encoded_msg) ->\", decode_each(encoded_msg))\n",
        "\n",
        "def encode_once(s):\n",
        "    \"\"\"Recursively encodes a string by replacing characters using ENCODE_MAP.\"\"\"\n",
        "    if s == \"\":\n",
        "        return \"\"  # Base case: Empty string remains empty\n",
        "    return ENCODE_MAP.get(s[0].lower(), s[0]) + encode_once(s[1:])  # Replace first, recurse on rest\n",
        "\n",
        "# Test encoding (recursive)\n",
        "print(\"encode_once('hello world') ->\", encode_once(\"hello world\"))\n",
        "\n",
        "def decode_once(s):\n",
        "    \"\"\"Recursively decodes a string by replacing encoded characters back to their original form.\"\"\"\n",
        "    if s == \"\":\n",
        "        return \"\"  # Base case: Empty string remains empty\n",
        "    return DECODE_MAP.get(s[0], s[0]) + decode_once(s[1:])  # Replace first, recurse on rest\n",
        "\n",
        "# Test decoding (recursive)\n",
        "encoded_msg = encode_once(\"hello world\")\n",
        "print(\"decode_once(encoded_msg) ->\", decode_once(encoded_msg))\n",
        "\n",
        "\n",
        "# Our tests are below. Then, add three tests of your own:"
      ],
      "metadata": {
        "id": "Ofu844mMVsjg",
        "colab": {
          "base_uri": "https://localhost:8080/"
        },
        "outputId": "d26dd83c-6c08-401d-d48a-ac4e17f4b4c0"
      },
      "execution_count": null,
      "outputs": [
        {
          "output_type": "stream",
          "name": "stdout",
          "text": [
            "encode_each('hello world') -> #3110 ω0Я1Δ\n",
            "decode_each(encoded_msg) -> hello world\n",
            "encode_once('hello world') -> #3110 ω0Я1Δ\n",
            "decode_once(encoded_msg) -> hello world\n"
          ]
        }
      ]
    },
    {
      "cell_type": "code",
      "source": [
        "CGU = \"\"\"Claremont Graduate University prepares individuals to be leaders\n",
        "for positive change in the world. Unique in its transdisciplinary approach,\n",
        "the university is dedicated to the creation, dissemination, and application\n",
        "of new knowledge and diverse perspectives through research, practice,\n",
        "creative works, and community engagement.\n",
        "\"\"\"\n",
        "\n",
        "E = encode_each(CGU)\n",
        "print(\"encode_all(CGU) is\", E)\n",
        "\n",
        "D = decode_each(E)\n",
        "print(\"decode_all(E) is\", D)  # should be the original!\n",
        "\n",
        "\n",
        "CMC = \"\"\"Claremont McKenna College's mission is to educate its students\n",
        "for thoughtful and productive lives and responsible leadership in\n",
        "business, government, and the professions, and to support faculty\n",
        "and student scholarship that contribute to intellectual vitality\n",
        "and the understanding of public policy issues.\"\"\"\n",
        "\n",
        "E = encode_each(CMC)\n",
        "print(\"encode_all(CMC) is\", E)\n",
        "\n",
        "D = decode_each(E)\n",
        "print(\"decode_all(E) is\", D)  # should be the original!\n",
        "\n",
        "\n",
        "SCR = \"\"\"The mission of Scripps College is to educate women to\n",
        "develop their intellects and talents through active participation\n",
        "in a community of scholars, so that as graduates they may contribute\n",
        "to society through public and private lives of leadership, service,\n",
        "integrity, and creativity..\"\"\"\n",
        "\n",
        "E = encode_each(SCR)\n",
        "print(\"encode_all(SCR) is\", E)\n",
        "\n",
        "D = decode_each(E)\n",
        "print(\"decode_all(E) is\", D)  # should be the original!\n",
        "\n"
      ],
      "metadata": {
        "id": "LzyRnUL6V1uw",
        "colab": {
          "base_uri": "https://localhost:8080/"
        },
        "outputId": "4ffa6a82-9b78-4692-ccd4-9cdce5daf091"
      },
      "execution_count": null,
      "outputs": [
        {
          "output_type": "stream",
          "name": "stdout",
          "text": [
            "encode_all(CGU) is ©1@Я3м0η† 9Я@Δµ@†3 µη!√3Я$!†¥ ρЯ3ρ@Я3$ !ηΔ!√!Δµ@1$ †0 83 13@Δ3Я$\n",
            "ƒ0Я ρ0$!†!√3 ©#@η93 !η †#3 ω0Я1Δ. µη!¶µ3 !η !†$ †Я@η$Δ!$©!ρ1!η@Я¥ @ρρЯ0@©#,\n",
            "†#3 µη!√3Я$!†¥ !$ Δ3Δ!©@†3Δ †0 †#3 ©Я3@†!0η, Δ!$$3м!η@†!0η, @ηΔ @ρρ1!©@†!0η\n",
            "0ƒ η3ω κη0ω13Δ93 @ηΔ Δ!√3Я$3 ρ3Я$ρ3©†!√3$ †#Я0µ9# Я3$3@Я©#, ρЯ@©†!©3,\n",
            "©Я3@†!√3 ω0Яκ$, @ηΔ ©0ммµη!†¥ 3η9@93м3η†.\n",
            "\n",
            "decode_all(E) is claremont graduate university prepares individuals to be leaders\n",
            "for positive change in the world. unique in its transdisciplinary approach,\n",
            "the university is dedicated to the creation, dissemination, and application\n",
            "of new knowledge and diverse perspectives through research, practice,\n",
            "creative works, and community engagement.\n",
            "\n",
            "encode_all(CMC) is ©1@Я3м0η† м©κ3ηη@ ©011393'$ м!$$!0η !$ †0 3Δµ©@†3 !†$ $†µΔ3η†$\n",
            "ƒ0Я †#0µ9#†ƒµ1 @ηΔ ρЯ0Δµ©†!√3 1!√3$ @ηΔ Я3$ρ0η$!813 13@Δ3Я$#!ρ !η\n",
            "8µ$!η3$$, 90√3Яηм3η†, @ηΔ †#3 ρЯ0ƒ3$$!0η$, @ηΔ †0 $µρρ0Я† ƒ@©µ1†¥\n",
            "@ηΔ $†µΔ3η† $©#01@Я$#!ρ †#@† ©0η†Я!8µ†3 †0 !η†3113©†µ@1 √!†@1!†¥\n",
            "@ηΔ †#3 µηΔ3Я$†@ηΔ!η9 0ƒ ρµ81!© ρ01!©¥ !$$µ3$.\n",
            "decode_all(E) is claremont mckenna college's mission is to educate its students\n",
            "for thoughtful and productive lives and responsible leadership in\n",
            "business, government, and the professions, and to support faculty\n",
            "and student scholarship that contribute to intellectual vitality\n",
            "and the understanding of public policy issues.\n",
            "encode_all(SCR) is †#3 м!$$!0η 0ƒ $©Я!ρρ$ ©011393 !$ †0 3Δµ©@†3 ω0м3η †0\n",
            "Δ3√310ρ †#3!Я !η†3113©†$ @ηΔ †@13η†$ †#Я0µ9# @©†!√3 ρ@Я†!©!ρ@†!0η\n",
            "!η @ ©0ммµη!†¥ 0ƒ $©#01@Я$, $0 †#@† @$ 9Я@Δµ@†3$ †#3¥ м@¥ ©0η†Я!8µ†3\n",
            "†0 $0©!3†¥ †#Я0µ9# ρµ81!© @ηΔ ρЯ!√@†3 1!√3$ 0ƒ 13@Δ3Я$#!ρ, $3Я√!©3,\n",
            "!η†39Я!†¥, @ηΔ ©Я3@†!√!†¥..\n",
            "decode_all(E) is the mission of scripps college is to educate women to\n",
            "develop their intellects and talents through active participation\n",
            "in a community of scholars, so that as graduates they may contribute\n",
            "to society through public and private lives of leadership, service,\n",
            "integrity, and creativity..\n"
          ]
        }
      ]
    },
    {
      "cell_type": "code",
      "source": [
        "#\n",
        "# Above - or here - include three encode/decode tests of your own...\n",
        "#\n",
        "test_sentences = [\n",
        "    \"SpongeBob SquarePants is the best!\",\n",
        "    \"Python programming is fun.\",\n",
        "    \"Let's encode and decode this message.\"\n",
        "]\n",
        "\n",
        "# Run tests\n",
        "for sentence in test_sentences:\n",
        "    encoded = encode_each(sentence)\n",
        "    decoded = decode_each(encoded)\n",
        "    print(f\"\\nOriginal: {sentence}\")\n",
        "    print(f\"Encoded: {encoded}\")\n",
        "    print(f\"Decoded: {decoded}\")\n"
      ],
      "metadata": {
        "id": "sJ9Wcp1GeCgj",
        "colab": {
          "base_uri": "https://localhost:8080/"
        },
        "outputId": "67ac6960-1eab-4666-f47f-6c532a362d4f"
      },
      "execution_count": null,
      "outputs": [
        {
          "output_type": "stream",
          "name": "stdout",
          "text": [
            "\n",
            "Original: SpongeBob SquarePants is the best!\n",
            "Encoded: $ρ0η93808 $¶µ@Я3ρ@η†$ !$ †#3 83$†!\n",
            "Decoded: spongebob squarepants is the besti\n",
            "\n",
            "Original: Python programming is fun.\n",
            "Encoded: ρ¥†#0η ρЯ09Я@мм!η9 !$ ƒµη.\n",
            "Decoded: python programming is fun.\n",
            "\n",
            "Original: Let's encode and decode this message.\n",
            "Encoded: 13†'$ 3η©0Δ3 @ηΔ Δ3©0Δ3 †#!$ м3$$@93.\n",
            "Decoded: let's encode and decode this message.\n"
          ]
        }
      ]
    },
    {
      "cell_type": "code",
      "source": [
        "def fun4():\n",
        "  for i in range(1,6):\n",
        "    if i%2 == 0:\n",
        "      print(\"i is\", i)\n",
        "  return"
      ],
      "metadata": {
        "id": "ffpNnu4nuph-"
      },
      "execution_count": null,
      "outputs": []
    },
    {
      "cell_type": "markdown",
      "source": [
        "### <font color=\"darkblue\"><b>Task #3: Counting!</b></font> &nbsp; ``vwl_once(s)`` and ``vwl_count(s)``\n",
        "\n",
        "<br>\n",
        "\n",
        "This technique handles _any_ substitution, even numeric ones!\n",
        "\n",
        "Next, our goal will be to ***count*** the number of vowels in an input string ``s``:\n",
        "+ we use ``vwl_once(s)`` to give a count of ``1`` to vowels\n",
        "+ and we give a count of ``0`` to everything that's not a vowel\n",
        "+ For now, we'll count ``aeiou`` as vowels, and their uppercase selves\n",
        "\n",
        "Then, **you** will write  ``vwl_count(s)`` to handle arbitrary-sized inputs!\n",
        "+ The first functions is written, as shown below.\n",
        "+ The second one is prepared, and your task is to complete it...\n",
        "+ It will be very much like previous functions!\n",
        "\n",
        "<br>\n",
        "\n",
        "Then, try it out -- analyze the \"vowel-content\" of the three mission statements above -- and test your own and a friend's prose-paragraphs:"
      ],
      "metadata": {
        "id": "yquk1xgWXz2z"
      }
    },
    {
      "cell_type": "code",
      "source": [
        "#\n",
        "# Here are vwl_once and vwl_all\n",
        "#\n",
        "\n",
        "def vwl_once(s):\n",
        "  \"\"\" returns a score of 1 for single-character vowels aeiou\n",
        "      returns a score of 0 for everything else\n",
        "  \"\"\"\n",
        "  if len(s) != 1:    # not a single-character? score is 0\n",
        "    return 0\n",
        "  else:\n",
        "    s = s.lower()    # simplify by making s lower case\n",
        "    if s in 'aeiou':      # if s is in that string, it's a vowel: score is 1\n",
        "      return 1\n",
        "    else:                 # if not: score is 0\n",
        "      return 0\n",
        "\n",
        "\n",
        "def vwl_count(s):\n",
        "  \"\"\" returns the total \"vowel-score for an input string s\n",
        "      that is, we return the number of vowels in s\n",
        "  \"\"\"\n",
        "  # you need to write this one!\n",
        "  # use the previous examples (especially the \"each\" examples) as a guide! :-)\n",
        "\n",
        "def vwl_once(s):\n",
        "    \"\"\"Returns 1 if the character is a vowel, otherwise 0.\n",
        "\n",
        "    Argument:\n",
        "    s -- A single character string\n",
        "\n",
        "    Returns:\n",
        "    1 if vowel, 0 if not.\n",
        "    \"\"\"\n",
        "    return 1 if s.lower() in 'aeiou' else 0\n",
        "\n",
        "# Test cases for single character input\n",
        "print(\"vwl_once('a') should be 1 <->\", vwl_once('a'))\n",
        "print(\"vwl_once('b') should be 0 <->\", vwl_once('b'))\n",
        "print(\"vwl_once('E') should be 1 <->\", vwl_once('E'))\n",
        "print(\"vwl_once('z') should be 0 <->\", vwl_once('z'))\n",
        "print(\"vwl_once('O') should be 1 <->\", vwl_once('O'))\n",
        "\n",
        "\n",
        "def vwl_count(s):\n",
        "    \"\"\"Counts the number of vowels in the input string s.\n",
        "\n",
        "    Argument:\n",
        "    s -- A string\n",
        "\n",
        "    Returns:\n",
        "    The total number of vowels in s.\n",
        "    \"\"\"\n",
        "    if s == \"\":  # Base case: empty string has 0 vowels\n",
        "        return 0\n",
        "    return vwl_once(s[0]) + vwl_count(s[1:])  # Sum vowels recursively\n",
        "\n",
        "# Test cases for counting vowels\n",
        "print(\"vwl_count('hello') should be 2 <->\", vwl_count('hello'))\n",
        "print(\"vwl_count('Python') should be 1 <->\", vwl_count('Python'))\n",
        "print(\"vwl_count('aeiou') should be 5 <->\", vwl_count('aeiou'))\n",
        "print(\"vwl_count('xyz') should be 0 <->\", vwl_count('xyz'))\n",
        "print(\"vwl_count('This is a test sentence.') should be 7 <->\", vwl_count('This is a test sentence.'))\n",
        "\n",
        "\n",
        "# Tests and tests-to-write are in the next cells:"
      ],
      "metadata": {
        "id": "ffMaiI26eIZQ",
        "colab": {
          "base_uri": "https://localhost:8080/"
        },
        "outputId": "58ec3d00-5ff9-4781-ea21-2dc6dfb00928"
      },
      "execution_count": null,
      "outputs": [
        {
          "output_type": "stream",
          "name": "stdout",
          "text": [
            "vwl_once('a') should be 1 <-> 1\n",
            "vwl_once('b') should be 0 <-> 0\n",
            "vwl_once('E') should be 1 <-> 1\n",
            "vwl_once('z') should be 0 <-> 0\n",
            "vwl_once('O') should be 1 <-> 1\n",
            "vwl_count('hello') should be 2 <-> 2\n",
            "vwl_count('Python') should be 1 <-> 1\n",
            "vwl_count('aeiou') should be 5 <-> 5\n",
            "vwl_count('xyz') should be 0 <-> 0\n",
            "vwl_count('This is a test sentence.') should be 7 <-> 7\n"
          ]
        }
      ]
    },
    {
      "cell_type": "code",
      "source": [
        "print(\"vwl_count('English usually has lots of vowels.') should be 10 <->\", vwl_count('English usually has lots of vowels.'))\n",
        "print(\"The CGU mission statement has this many vowels: (let's see!) <->\", vwl_count(CGU))"
      ],
      "metadata": {
        "id": "YCtNmfnZetpe",
        "colab": {
          "base_uri": "https://localhost:8080/"
        },
        "outputId": "efb3ca7d-9d0a-403a-b944-49418c796e09"
      },
      "execution_count": null,
      "outputs": [
        {
          "output_type": "stream",
          "name": "stdout",
          "text": [
            "vwl_count('English usually has lots of vowels.') should be 10 <-> 10\n",
            "The CGU mission statement has this many vowels: (let's see!) <-> 110\n"
          ]
        }
      ]
    },
    {
      "cell_type": "code",
      "source": [
        "#\n",
        "# Part 1 task: determine which mission statement has the most vowels-per-character!\n",
        "#\n",
        "#        Hint: count the vowels, then use len to determine vowels-per-character!\n",
        "#        Compare the three strings already defined above:   CGU,  CMC,  and SCR\n",
        "\n",
        "def compare_vowel_count(cgu, cmc, scr):\n",
        "    \"\"\"Determines which mission statement has the most vowels.\n",
        "\n",
        "    Arguments:\n",
        "    cgu -- Mission statement of CGU\n",
        "    cmc -- Mission statement of CMC\n",
        "    scr -- Mission statement of SCR\n",
        "\n",
        "    Returns:\n",
        "    The name of the institution with the highest number of vowels.\n",
        "    \"\"\"\n",
        "    # Count vowels in each mission statement\n",
        "    cgu_vowel_count = vwl_count(cgu)\n",
        "    cmc_vowel_count = vwl_count(cmc)\n",
        "    scr_vowel_count = vwl_count(scr)\n",
        "\n",
        "    # Print results\n",
        "    print(f\"CGU Vowel Count: {cgu_vowel_count}\")\n",
        "    print(f\"CMC Vowel Count: {cmc_vowel_count}\")\n",
        "    print(f\"SCR Vowel Count: {scr_vowel_count}\")\n",
        "\n",
        "    # Determine which has the most vowels\n",
        "    max_vowels = max(cgu_vowel_count, cmc_vowel_count, scr_vowel_count)\n",
        "\n",
        "    if max_vowels == cgu_vowel_count:\n",
        "        return \"CGU has the most vowels!\"\n",
        "    elif max_vowels == cmc_vowel_count:\n",
        "        return \"CMC has the most vowels!\"\n",
        "    else:\n",
        "        return \"SCR has the most vowels!\"\n",
        "\n",
        "# Mission statements (Replace with actual statements)\n",
        "cgu_mission = \"Claremont Graduate University is a graduate-only research university.\"\n",
        "cmc_mission = \"Claremont McKenna College fosters leadership, innovation, and impact.\"\n",
        "scr_mission = \"Scripps College empowers women through interdisciplinary liberal arts education.\"\n",
        "\n",
        "# Compare and determine the winner\n",
        "result = compare_vowel_count(cgu_mission, cmc_mission, scr_mission)\n",
        "print(result)\n",
        "\n"
      ],
      "metadata": {
        "id": "Vy2Q-bAdcIzB",
        "colab": {
          "base_uri": "https://localhost:8080/"
        },
        "outputId": "cc948946-12b1-44ba-a720-22dfccedc0b6"
      },
      "execution_count": null,
      "outputs": [
        {
          "output_type": "stream",
          "name": "stdout",
          "text": [
            "CGU Vowel Count: 25\n",
            "CMC Vowel Count: 22\n",
            "SCR Vowel Count: 26\n",
            "SCR has the most vowels!\n"
          ]
        }
      ]
    },
    {
      "cell_type": "code",
      "source": [
        "#\n",
        "# Part 2 task: determine whose prose is more vowel-rich?\n",
        "# + find a paragraph of prose you've written\n",
        "# + find a paragraph a friend has written (or another one that you have!)\n",
        "#\n",
        "# Assign each to a variable:\n",
        "\n",
        "YOURS = \"\"\"  <paste your prose here\n",
        "it's ok to have multiple lines inside\n",
        "triple-quoted strings>\n",
        "\"\"\"\n",
        "\n",
        "THEIRS = \"\"\"  <paste _their_ prose here\n",
        "again, ok to have multiple lines inside\n",
        "triple-quoted strings>\n",
        "\"\"\"\n",
        "\n",
        "#\n",
        "# This analysis is similar to the mission statements...\n",
        "#\n",
        "\n",
        "def vwl_count(s):\n",
        "    \"\"\"Counts the number of vowels in the input string s.\n",
        "\n",
        "    Argument:\n",
        "    s -- A string\n",
        "\n",
        "    Returns:\n",
        "    The total number of vowels in s.\n",
        "    \"\"\"\n",
        "    if s == \"\":  # Base case: empty string has 0 vowels\n",
        "        return 0\n",
        "    return (1 if s[0].lower() in 'aeiou' else 0) + vwl_count(s[1:])  # Sum vowels recursively\n",
        "\n",
        "def compare_prose_vowels(yours, theirs):\n",
        "    \"\"\"Determines which prose contains more vowels.\n",
        "\n",
        "    Arguments:\n",
        "    yours -- A paragraph of prose written by you\n",
        "    theirs -- A paragraph of prose written by someone else\n",
        "\n",
        "    Returns:\n",
        "    The prose (YOURS or THEIRS) that contains the most vowels.\n",
        "    \"\"\"\n",
        "    # Count vowels in both prose paragraphs\n",
        "    yours_vowel_count = vwl_count(yours)\n",
        "    theirs_vowel_count = vwl_count(theirs)\n",
        "\n",
        "    # Print results\n",
        "    print(f\"Your Vowel Count: {yours_vowel_count}\")\n",
        "    print(f\"Their Vowel Count: {theirs_vowel_count}\")\n",
        "\n",
        "    # Determine which has the most vowels\n",
        "    if yours_vowel_count > theirs_vowel_count:\n",
        "        return \"Your prose has more vowels!\"\n",
        "    elif theirs_vowel_count > yours_vowel_count:\n",
        "        return \"Their prose has more vowels!\"\n",
        "    else:\n",
        "        return \"Both prose paragraphs have the same number of vowels!\"\n",
        "\n",
        "# Assign prose to variables\n",
        "YOURS = \"\"\"The evolution of artificial intelligence has transformed modern technology in ways that were once unimaginable.\n",
        "From natural language processing to autonomous systems, AI continues to shape our future.\n",
        "With each advancement, ethical considerations become increasingly important, ensuring responsible development.\"\"\"\n",
        "\n",
        "THEIRS = \"\"\"Throughout history, technological progress has always been a double-edged sword.\n",
        "While innovation leads to efficiency and new opportunities, it also brings challenges and disruptions.\n",
        "Balancing these aspects is crucial for sustainable development and a better society.\"\"\"\n",
        "\n",
        "# Compare and determine the winner\n",
        "result = compare_prose_vowels(YOURS, THEIRS)\n",
        "print(result)\n"
      ],
      "metadata": {
        "id": "qNmOUfXrckDv",
        "colab": {
          "base_uri": "https://localhost:8080/"
        },
        "outputId": "b866b8a7-cbc6-430a-aab9-e58a780218bf"
      },
      "execution_count": null,
      "outputs": [
        {
          "output_type": "stream",
          "name": "stdout",
          "text": [
            "Your Vowel Count: 109\n",
            "Their Vowel Count: 87\n",
            "Your prose has more vowels!\n"
          ]
        }
      ]
    },
    {
      "cell_type": "markdown",
      "metadata": {
        "id": "keRyNeHE3gF4"
      },
      "source": [
        "<br>\n",
        "\n",
        "# Loops!\n",
        "\n",
        "in addition, this notebook combines last week's ideas (functions and slicing/indexing) with the most important time-saving capability of programming languages: <i>repetition</i>\n",
        "\n",
        "That is, we're diving into <i><b>loops</b></i>\n",
        "\n",
        "In addition, we explore more deeply a library we used in the rock-paper-scissors problem, namely the <b><tt>random</tt></b> library.\n",
        "\n",
        "Together, <i>randomness</i> and <i>loops</i> are a powerful combination. Later in this notebook, you will create a <i>Monte Carlo simulations</i> using randomness-within-loops.\n",
        "\n",
        "<hr>\n",
        "\n",
        "## Onward!\n",
        "\n",
        "<br>"
      ]
    },
    {
      "cell_type": "code",
      "execution_count": null,
      "metadata": {
        "id": "djYWrO0u3gGA"
      },
      "outputs": [],
      "source": [
        "\n",
        "# this imports the library named random\n",
        "\n",
        "import random\n",
        "\n",
        "# once it's imported, you are able to call random.choice(L) for any sequence L\n",
        "# try it:"
      ]
    },
    {
      "cell_type": "code",
      "execution_count": null,
      "metadata": {
        "id": "RPrqK2Sr3gGC",
        "colab": {
          "base_uri": "https://localhost:8080/"
        },
        "outputId": "48cbacd2-986d-42b1-ecfe-bec116cbee32"
      },
      "outputs": [
        {
          "output_type": "stream",
          "name": "stdout",
          "text": [
            "result is university\n"
          ]
        }
      ],
      "source": [
        "\n",
        "# Try out random.choice -- several times!\n",
        "result = random.choice( ['claremont', 'graduate', 'university'] )\n",
        "print(\"result is\", result)"
      ]
    },
    {
      "cell_type": "code",
      "execution_count": null,
      "metadata": {
        "id": "AReUp5wT3gGD",
        "colab": {
          "base_uri": "https://localhost:8080/"
        },
        "outputId": "2220c7e6-c851-4df5-83a4-871939a91807"
      },
      "outputs": [
        {
          "output_type": "stream",
          "name": "stdout",
          "text": [
            "result is university\n",
            "result is claremont\n",
            "result is university\n",
            "result is claremont\n",
            "result is graduate\n",
            "result is graduate\n",
            "result is university\n",
            "result is claremont\n",
            "result is graduate\n",
            "result is university\n"
          ]
        }
      ],
      "source": [
        "\n",
        "# let's see a loop do this 10 times!\n",
        "\n",
        "for i in range(10):                # loop 10 times\n",
        "    result = random.choice( ['claremont', 'graduate', 'university'] ) # choose\n",
        "    print(\"result is\", result)     # print"
      ]
    },
    {
      "cell_type": "code",
      "execution_count": null,
      "metadata": {
        "id": "8aAzqlsj3gGF"
      },
      "outputs": [],
      "source": [
        "\n",
        "#\n",
        "# you can also import a library can be imported by using this line:\n",
        "\n",
        "from random import *\n",
        "\n",
        "# when the above line is run, you are able to call choice(L) for any sequence L\n",
        "#\n",
        "# note that you won't need random.choice(L)\n",
        "# let's try it!"
      ]
    },
    {
      "cell_type": "code",
      "execution_count": null,
      "metadata": {
        "id": "SKvXsosu3gGG",
        "colab": {
          "base_uri": "https://localhost:8080/"
        },
        "outputId": "e29f3bd5-1e76-4125-813a-f98606830474"
      },
      "outputs": [
        {
          "output_type": "stream",
          "name": "stdout",
          "text": [
            "result is paper\n"
          ]
        }
      ],
      "source": [
        "\n",
        "result = choice( [\"rock\", \"paper\", \"scissors\"] )\n",
        "print(\"result is\", result)"
      ]
    },
    {
      "cell_type": "code",
      "execution_count": null,
      "metadata": {
        "id": "KMZMwPDR3gGH",
        "colab": {
          "base_uri": "https://localhost:8080/"
        },
        "outputId": "16edea9d-e835-478a-8e8d-0e90ae8dce1e"
      },
      "outputs": [
        {
          "output_type": "stream",
          "name": "stdout",
          "text": [
            "[0, 1, 2, 3, 4, 5, 6, 7, 8, 9, 10, 11, 12, 13, 14, 15, 16, 17, 18, 19, 20, 21, 22, 23, 24, 25, 26, 27, 28, 29, 30, 31, 32, 33, 34, 35, 36, 37, 38, 39, 40, 41, 42, 43, 44, 45, 46, 47, 48, 49, 50, 51, 52, 53, 54, 55, 56, 57, 58, 59, 60, 61, 62, 63, 64, 65, 66, 67, 68, 69, 70, 71, 72, 73, 74, 75, 76, 77, 78, 79, 80, 81, 82, 83, 84, 85, 86, 87, 88, 89, 90, 91, 92, 93, 94, 95, 96, 97, 98, 99]\n"
          ]
        }
      ],
      "source": [
        "\n",
        "# Python can create lists of any integers you'd like...\n",
        "L = list(range(0,100))    # try different values; try omitting/changing the 0\n",
        "print(L)"
      ]
    },
    {
      "cell_type": "code",
      "execution_count": null,
      "metadata": {
        "id": "hjbvKcOx3gGI",
        "colab": {
          "base_uri": "https://localhost:8080/"
        },
        "outputId": "eeb7fbfd-f48e-491d-c6b3-d1677b248db2"
      },
      "outputs": [
        {
          "output_type": "stream",
          "name": "stdout",
          "text": [
            "result is 28\n"
          ]
        }
      ],
      "source": [
        "\n",
        "# combining these, we can choose random integers from a list\n",
        "result = choice( range(0,100) )   # from 0 to 99\n",
        "print(\"result is\", result)"
      ]
    },
    {
      "cell_type": "code",
      "execution_count": null,
      "metadata": {
        "id": "-vct4ZWf3gGJ",
        "colab": {
          "base_uri": "https://localhost:8080/"
        },
        "outputId": "d3cd2df3-f580-4d91-984c-f7b1cc50eda7"
      },
      "outputs": [
        {
          "output_type": "stream",
          "name": "stdout",
          "text": [
            "result is 54\n",
            "result is 86\n",
            "result is 73\n",
            "result is 85\n",
            "result is 9\n",
            "result is 8\n",
            "result is 31\n",
            "result is 52\n",
            "result is 46\n",
            "result is 7\n"
          ]
        }
      ],
      "source": [
        "\n",
        "# let's run this 10 times!\n",
        "for i in range(0,10):\n",
        "    result = choice( range(0,100) )   # from 0 to 99\n",
        "    print(\"result is\", result)"
      ]
    },
    {
      "cell_type": "code",
      "execution_count": null,
      "metadata": {
        "id": "jqs9df3l3gGJ",
        "colab": {
          "base_uri": "https://localhost:8080/"
        },
        "outputId": "0244500d-4516-4fb1-e450-a7766d5b4b04"
      },
      "outputs": [
        {
          "output_type": "stream",
          "name": "stdout",
          "text": [
            "i is 0\n",
            "i is 1\n",
            "i is 2\n"
          ]
        }
      ],
      "source": [
        "\n",
        "# let's get more comfortable with loops...\n",
        "\n",
        "for i in [0,1,2]:     # Key: What variable is being defined and set?!\n",
        "    print(\"i is\", i)\n"
      ]
    },
    {
      "cell_type": "code",
      "execution_count": null,
      "metadata": {
        "id": "eb2C9OKS3gGJ",
        "colab": {
          "base_uri": "https://localhost:8080/"
        },
        "outputId": "b7124f72-e991-4151-a1de-d34d218a9119"
      },
      "outputs": [
        {
          "output_type": "stream",
          "name": "stdout",
          "text": [
            "i is 0\n",
            "i is 1\n",
            "i is 2\n"
          ]
        }
      ],
      "source": [
        "\n",
        "# Note that range(0,3) generates [0,1,2]\n",
        "\n",
        "for i in range(0,3):     # Key: What variable is being defined and set?!\n",
        "    print(\"i is\", i)\n",
        "\n",
        "# When would you _not_ want to use range for integers?"
      ]
    },
    {
      "cell_type": "code",
      "execution_count": null,
      "metadata": {
        "id": "H8qzyqaS3gGU",
        "colab": {
          "base_uri": "https://localhost:8080/"
        },
        "outputId": "5c52ebe2-483b-4b98-d2ac-8025d9217483"
      },
      "outputs": [
        {
          "output_type": "stream",
          "name": "stdout",
          "text": [
            "x is 2\n",
            "x is 15\n",
            "x is 2025\n"
          ]
        }
      ],
      "source": [
        "\n",
        "# Usually i is for counting, x is for other things (wise, not req.)\n",
        "\n",
        "for x in [2,15,2025]:     # Key: the loop variable\n",
        "    print(\"x is\", x)\n",
        "\n",
        "# When would you _not_ want to use range for integers?"
      ]
    },
    {
      "cell_type": "code",
      "execution_count": null,
      "metadata": {
        "id": "SCG79oyN3gGU",
        "colab": {
          "base_uri": "https://localhost:8080/"
        },
        "outputId": "785640df-a8ea-419d-d703-1c14bf10543a"
      },
      "outputs": [
        {
          "output_type": "stream",
          "name": "stdout",
          "text": [
            "Happy birthday!\n",
            "Happy birthday!\n",
            "Happy birthday!\n",
            "Happy birthday!\n",
            "Happy birthday!\n",
            "Happy birthday!\n",
            "Happy birthday!\n",
            "Happy birthday!\n",
            "Happy birthday!\n",
            "Happy birthday!\n",
            "Happy birthday!\n",
            "Happy birthday!\n",
            "Happy birthday!\n",
            "Happy birthday!\n",
            "Happy birthday!\n",
            "Happy birthday!\n",
            "Happy birthday!\n",
            "Happy birthday!\n",
            "Happy birthday!\n",
            "Happy birthday!\n",
            "Happy birthday!\n",
            "Happy birthday!\n",
            "Happy birthday!\n",
            "Happy birthday!\n",
            "Happy birthday!\n",
            "Happy birthday!\n",
            "Happy birthday!\n",
            "Happy birthday!\n",
            "Happy birthday!\n",
            "Happy birthday!\n",
            "Happy birthday!\n",
            "Happy birthday!\n",
            "Happy birthday!\n",
            "Happy birthday!\n",
            "Happy birthday!\n",
            "Happy birthday!\n",
            "Happy birthday!\n",
            "Happy birthday!\n",
            "Happy birthday!\n",
            "Happy birthday!\n",
            "Happy birthday!\n",
            "Happy birthday!\n"
          ]
        }
      ],
      "source": [
        "# How could we get this to print \"Happy birthday!\" 42 times?\n",
        "\n",
        "for i in range(42):\n",
        "    print('Happy birthday!')"
      ]
    },
    {
      "cell_type": "markdown",
      "metadata": {
        "id": "7KFo8pX73gGV"
      },
      "source": [
        "<br>\n",
        "\n",
        "#### Functions often use loops... Watch out!\n",
        "+ <tt><b>return</b></tt> is <i>more powerful</i> than the loop\n",
        "+ <tt><b>return</b></tt> <i>always</i> wins!\n",
        "\n",
        "Take a look:"
      ]
    },
    {
      "cell_type": "code",
      "execution_count": null,
      "metadata": {
        "id": "hzE-We7i3gGV",
        "colab": {
          "base_uri": "https://localhost:8080/"
        },
        "outputId": "93977d7a-3c6f-451f-bad7-48af5b865758"
      },
      "outputs": [
        {
          "output_type": "stream",
          "name": "stdout",
          "text": [
            "i is 0\n",
            "i is 1\n",
            "i is 2\n"
          ]
        }
      ],
      "source": [
        "\n",
        "# return _after_ a loop:\n",
        "\n",
        "def funA():\n",
        "    for i in range(0,3):\n",
        "        print(\"i is\", i)\n",
        "    return\n",
        "\n",
        "# why does this not print anything?!??\n",
        "# We need to call the function in order to get a result.\n",
        "\n",
        "def funA():\n",
        "    for i in range(0, 3):\n",
        "        print(\"i is\", i)\n",
        "    return  # This return is optional, as Python functions return None by default.\n",
        "\n",
        "# Call the function to see output\n",
        "funA()\n"
      ]
    },
    {
      "cell_type": "code",
      "execution_count": null,
      "metadata": {
        "id": "n4nsuJUZ3gGW",
        "colab": {
          "base_uri": "https://localhost:8080/"
        },
        "outputId": "19ee543a-61de-4747-c247-168d63c29f04"
      },
      "outputs": [
        {
          "output_type": "stream",
          "name": "stdout",
          "text": [
            "i is 0\n",
            "i is 1\n",
            "i is 2\n"
          ]
        }
      ],
      "source": [
        "\n",
        "# return _within_ a loop:\n",
        "\n",
        "def funB():\n",
        "    for i in range(0,3):\n",
        "       print(\"i is\", i)\n",
        "\n",
        "# What do we need here?  (Is this what you expect?!)\n",
        "funB()\n",
        "#We need to call the function again and since it's a loop we don't need a return"
      ]
    },
    {
      "cell_type": "code",
      "execution_count": null,
      "metadata": {
        "id": "KTm78DFX3gGW",
        "colab": {
          "base_uri": "https://localhost:8080/"
        },
        "outputId": "cc668c42-8025-4854-acbb-42031d3dcfac"
      },
      "outputs": [
        {
          "output_type": "stream",
          "name": "stdout",
          "text": [
            "i is 2\n",
            "i is 4\n"
          ]
        }
      ],
      "source": [
        "\n",
        "# let's add an if statement (a conditional)\n",
        "#              ... to test different indentations\n",
        "\n",
        "def funB1():\n",
        "    for i in range(1,6):\n",
        "        if i%2 == 0:\n",
        "            print(\"i is\", i)\n",
        "funB1()\n"
      ]
    },
    {
      "cell_type": "markdown",
      "metadata": {
        "id": "U1e4MYjc3gGW"
      },
      "source": [
        "<br>\n",
        "\n",
        "#### Accumulators\n",
        "+ a <i>very</i> common approach is to use a loop to <i>accumulate</i> a desired result\n",
        "+ the idea is to start the result at a \"nothing\" value, which is not always zero...\n",
        "+ then operate on it until it becomes the final result!\n",
        "\n",
        "#### factorial\n",
        "+ <pre>fac(5) == 1*2*3*4*5</pre>\n",
        "+ <pre>fac(N) == 1*2*3*4* ... *(N-2)*(N-1)*N</pre>\n",
        "\n",
        "#### addup\n",
        "+ <pre>addup(5) == 1+2+3+4+5</pre>\n",
        "+ <pre>addup(N) == 1+2+3+4+ ... +(N-2)+(N-1)+N</pre>\n",
        "\n",
        "<br>"
      ]
    },
    {
      "cell_type": "code",
      "execution_count": null,
      "metadata": {
        "id": "NZhaHVNV3gGY",
        "colab": {
          "base_uri": "https://localhost:8080/"
        },
        "outputId": "96f0ce9e-a807-470b-8c8e-4f68a68de4b5"
      },
      "outputs": [
        {
          "output_type": "stream",
          "name": "stdout",
          "text": [
            "addup(4) should be 0+1+2+3+4 == 10\n"
          ]
        }
      ],
      "source": [
        "\n",
        "# an add-em-up function\n",
        "\n",
        "def addup(N):\n",
        "    \"\"\" adds from 1 through N (inclusive)\n",
        "    \"\"\"\n",
        "    result = 0\n",
        "\n",
        "    for x in range(1,N+1):\n",
        "        result = result + x\n",
        "\n",
        "    return result\n",
        "N = 4\n",
        "result = addup(N)\n",
        "print(f\"addup({N}) should be 0+1+2+3+{N} == {result}\")\n",
        "# addup(4) should be 0+1+2+3+4 == 10"
      ]
    },
    {
      "cell_type": "code",
      "execution_count": null,
      "metadata": {
        "id": "JscgqV1Q3gGY",
        "colab": {
          "base_uri": "https://localhost:8080/"
        },
        "outputId": "2e53e8b3-9c13-43f2-db91-812205b5c385"
      },
      "outputs": [
        {
          "output_type": "stream",
          "name": "stdout",
          "text": [
            "fac(4) should be 1*2*3*4 == 24\n"
          ]
        }
      ],
      "source": [
        "\n",
        "# an factorial function\n",
        "\n",
        "def fac(N):\n",
        "    \"\"\" a factorial function, returns the factorial of the input N\n",
        "    \"\"\"\n",
        "    result = 1\n",
        "\n",
        "    for x in range(1,N+1):\n",
        "        result = result * x\n",
        "\n",
        "    return result\n",
        "N = 4\n",
        "result = fac(N)\n",
        "print(f\"fac({N}) should be 1*2*3*4 == {result}\")\n",
        "# fac(4) should be 1*2*3*4 == 24"
      ]
    },
    {
      "cell_type": "code",
      "execution_count": null,
      "metadata": {
        "id": "RchpwL0V3gGZ",
        "colab": {
          "base_uri": "https://localhost:8080/",
          "height": 122
        },
        "outputId": "5db10b7a-8072-4f43-f1ac-dad6f53c4bab"
      },
      "outputs": [
        {
          "output_type": "execute_result",
          "data": {
            "text/plain": [
              "'\\n\\nLoops we tried in our \"breakout quiz\":\\n\\n# upper left\\nresult = 1\\nfor x in [2,5,1,4]:\\n    result *= x\\nprint(result)\\n\\n# upper right\\nx = 0\\nfor i in range(4):\\n    x += 10\\nprint(x)\\n\\n# lower left\\nL = [\\'golf\\',\\'fore!\\',\\'club\\',\\'tee\\']\\nfor i in range(len(L)):\\n    if i%2 == 1:\\n        print(L[i])\\n\\n# lower right\\nS = \\'time to think this over! \\'\\nresult = \\'\\'\\nfor i in range(len(S)):\\n    if S[i-1] == \\' \\'\\n        result += S[i]\\nprint(result)\\n\\n'"
            ],
            "application/vnd.google.colaboratory.intrinsic+json": {
              "type": "string"
            }
          },
          "metadata": {},
          "execution_count": 33
        }
      ],
      "source": [
        "\"\"\"\n",
        "\n",
        "Loops we tried in our \"breakout quiz\":\n",
        "\n",
        "# upper left\n",
        "result = 1\n",
        "for x in [2,5,1,4]:\n",
        "    result *= x\n",
        "print(result)\n",
        "\n",
        "# upper right\n",
        "x = 0\n",
        "for i in range(4):\n",
        "    x += 10\n",
        "print(x)\n",
        "\n",
        "# lower left\n",
        "L = ['golf','fore!','club','tee']\n",
        "for i in range(len(L)):\n",
        "    if i%2 == 1:\n",
        "        print(L[i])\n",
        "\n",
        "# lower right\n",
        "S = 'time to think this over! '\n",
        "result = ''\n",
        "for i in range(len(S)):\n",
        "    if S[i-1] == ' '\n",
        "        result += S[i]\n",
        "print(result)\n",
        "\n",
        "\"\"\""
      ]
    },
    {
      "cell_type": "code",
      "execution_count": null,
      "metadata": {
        "id": "FNuv6DoJ3gGa",
        "colab": {
          "base_uri": "https://localhost:8080/"
        },
        "outputId": "eedfb9b1-9311-4749-94d5-689854e902fe"
      },
      "outputs": [
        {
          "output_type": "stream",
          "name": "stdout",
          "text": [
            "Start!\n"
          ]
        }
      ],
      "source": [
        "\n",
        "# staging area...\n",
        "\n",
        "print(\"Start!\")\n"
      ]
    },
    {
      "cell_type": "markdown",
      "source": [
        "### <font color=\"darkblue\"><b>Task #4: For Looping!</b></font>\n",
        "\n",
        "Below, create your functions that use loops:\n",
        "+ ``summer(L)``\n",
        "+ ``summedOdds(L)``\n",
        "+ ``summedExcept(exc,L)``\n",
        "+ ``summedUpto(exc,L)``\n",
        "\n",
        "Each one has full detail in its description:"
      ],
      "metadata": {
        "id": "PbR-kxDD6MGA"
      }
    },
    {
      "cell_type": "code",
      "execution_count": null,
      "metadata": {
        "id": "E5d6udae3gGa",
        "colab": {
          "base_uri": "https://localhost:8080/"
        },
        "outputId": "670db79f-84a1-4bcc-f30d-b590f69282bd"
      },
      "outputs": [
        {
          "output_type": "stream",
          "name": "stdout",
          "text": [
            "summer([2,3,4,1]) should be 10 <-> 10\n",
            "summedOdds([2,3,4,1]) should be 4 <-> 4\n"
          ]
        }
      ],
      "source": [
        "\n",
        "#\n",
        "# Functions with for loops to write:\n",
        "#\n",
        "# for loops:\n",
        "#\n",
        "# summer(L)               returns the sum of the #'s in L\n",
        "# summedOdds(L)           returns the sum of the _odd_ #'s in L\n",
        "# summedExcept(exc, L)    returns the sum of all #'s in L not equal to exc\n",
        "# summedUpto(exc, L)      returns the sum of all #'s in L upto exc (not including exc)\n",
        "\n",
        "\n",
        "# examples:\n",
        "#       summer( [2,3,4,1] )    ->  10\n",
        "#   summedOdds( [2,3,4,1] )    ->   4\n",
        "# summedExcept( 4, [2,3,4,1] ) ->   6\n",
        "#   summedUpto( 4, [2,3,4,1] ) ->   5"
      ]
    },
    {
      "cell_type": "code",
      "execution_count": null,
      "metadata": {
        "id": "IxqR0uRC3gGa",
        "colab": {
          "base_uri": "https://localhost:8080/"
        },
        "outputId": "a94f8882-09aa-4b8e-ea40-cc16b16e7e88"
      },
      "outputs": [
        {
          "output_type": "stream",
          "name": "stdout",
          "text": [
            "summer( [2,3,4,1] )  should be 10 <-> 10\n",
            "summer( [35,3,4,100] )  should be 142 <-> 142\n"
          ]
        }
      ],
      "source": [
        "#\n",
        "# here, write the summer function!\n",
        "#\n",
        "\n",
        "def summer(L):\n",
        "  \"\"\" uses a for loop to add and return all of the elements in L\n",
        "  \"\"\"\n",
        "  total = 0\n",
        "  for num in L:\n",
        "        total += num\n",
        "  return total\n",
        "\n",
        "\n",
        "# Here are two tests -- be sure to try them!\n",
        "print(\"summer( [2,3,4,1] )  should be 10 <->\", summer( [2,3,4,1] ))\n",
        "print(\"summer( [35,3,4,100] )  should be 142 <->\", summer( [35,3,4,100] ))"
      ]
    },
    {
      "cell_type": "code",
      "execution_count": null,
      "metadata": {
        "id": "QN6ZBN9w3gGa",
        "colab": {
          "base_uri": "https://localhost:8080/"
        },
        "outputId": "056447fb-971e-4425-8fab-e51871b396fd"
      },
      "outputs": [
        {
          "output_type": "stream",
          "name": "stdout",
          "text": [
            "summedOdds( [2,3,4,1] )  should be 4 <-> 4\n",
            "summedOdds( [35,3,4,100] )  should be 38 <-> 38\n"
          ]
        }
      ],
      "source": [
        "#\n",
        "# here, write the summedOdds function!\n",
        "#\n",
        "\n",
        "def summedOdds(L):\n",
        "    \"\"\" uses a for loop to add and return all of the _odd_ elements in L\n",
        "    \"\"\"\n",
        "    total = 0\n",
        "    for num in L:\n",
        "        if num % 2 == 1:  # Check if the number is odd\n",
        "            total += num\n",
        "    return total\n",
        "\n",
        "\n",
        "# Here are two tests -- be sure to try them!\n",
        "print(\"summedOdds( [2,3,4,1] )  should be 4 <->\", summedOdds( [2,3,4,1] ))\n",
        "print(\"summedOdds( [35,3,4,100] )  should be 38 <->\", summedOdds( [35,3,4,100] ))"
      ]
    },
    {
      "cell_type": "code",
      "execution_count": null,
      "metadata": {
        "id": "9XkwO1Yb3gGb",
        "colab": {
          "base_uri": "https://localhost:8080/"
        },
        "outputId": "92e92d91-6ba1-4b5a-fab9-574f97878588"
      },
      "outputs": [
        {
          "output_type": "stream",
          "name": "stdout",
          "text": [
            "summedExcept( 4, [2,3,4,1] )  should be 6 <-> 6\n",
            "summedExcept( 4, [35,3,4,100] )  should be 138 <-> 138\n"
          ]
        }
      ],
      "source": [
        "#\n",
        "# here, write the summedExcept function!\n",
        "#\n",
        "\n",
        "def summedExcept( exc, L ):\n",
        "    \"\"\" include a short description here!\n",
        "    \"\"\"\n",
        "    total = 0\n",
        "    for num in L:\n",
        "        if num != exc:  # Skip the exception number\n",
        "            total += num\n",
        "    return total\n",
        "\n",
        "\n",
        "# Here are two tests -- be sure to try them!\n",
        "print(\"summedExcept( 4, [2,3,4,1] )  should be 6 <->\", summedExcept( 4, [2,3,4,1] ))\n",
        "print(\"summedExcept( 4, [35,3,4,100] )  should be 138 <->\", summedExcept( 4, [35,3,4,100] ))\n",
        "\n"
      ]
    },
    {
      "cell_type": "code",
      "execution_count": null,
      "metadata": {
        "id": "FpoOHpGc3gGb",
        "colab": {
          "base_uri": "https://localhost:8080/"
        },
        "outputId": "ed08ed15-2295-4487-e53d-8dcb0ecd2b7e"
      },
      "outputs": [
        {
          "output_type": "stream",
          "name": "stdout",
          "text": [
            "summedUpto( 4, [2,3,4,1] )  should be 5 <-> 5\n",
            "summedUpto( 100, [35,3,4,100] )  should be 42 <-> 42\n"
          ]
        }
      ],
      "source": [
        "#\n",
        "# here, write the summedUpto function!\n",
        "#\n",
        "\n",
        "def summedUpto( exc, L ):\n",
        "    \"\"\" include a short description here!\n",
        "    \"\"\"\n",
        "    total = 0\n",
        "    for num in L:\n",
        "        if num == exc:  # Stop summing when 'exc' is found\n",
        "            break\n",
        "        total += num\n",
        "    return total\n",
        "\n",
        "\n",
        "\n",
        "\n",
        "\n",
        "# Here are two tests -- be sure to try them!\n",
        "print(\"summedUpto( 4, [2,3,4,1] )  should be 5 <->\", summedUpto( 4, [2,3,4,1] ))\n",
        "print(\"summedUpto( 100, [35,3,4,100] )  should be 42 <->\", summedUpto( 100, [35,3,4,100] ))"
      ]
    },
    {
      "cell_type": "code",
      "execution_count": null,
      "metadata": {
        "id": "im7h59uw3gGb",
        "colab": {
          "base_uri": "https://localhost:8080/"
        },
        "outputId": "85e7ca21-d595-40ec-8c57-db417156f9c8"
      },
      "outputs": [
        {
          "output_type": "execute_result",
          "data": {
            "text/plain": [
              "45"
            ]
          },
          "metadata": {},
          "execution_count": 49
        }
      ],
      "source": [
        "\n",
        "#\n",
        "# Example while loop: the \"guessing game\"\n",
        "#\n",
        "\n",
        "from random import *\n",
        "\n",
        "def guess( hidden ):\n",
        "    \"\"\"\n",
        "        have the computer guess numbers until it gets the \"hidden\" value\n",
        "        return the number of guesses\n",
        "    \"\"\"\n",
        "    guess = -1      # start with a wrong guess and don't count it as a guess\n",
        "    number_of_guesses = 0   # start with no guesses made so far...\n",
        "\n",
        "    while guess != hidden:\n",
        "        guess = choice( range(0,100) )  # 0 to 99, inclusive\n",
        "        number_of_guesses += 1\n",
        "\n",
        "    return number_of_guesses\n",
        "\n",
        "# test our function!\n",
        "guess(42)"
      ]
    },
    {
      "cell_type": "markdown",
      "source": [
        "### <font color=\"darkblue\"><b>Task #5: While Looping!</b></font>\n",
        "\n",
        "Below, create your functions that use _while_ loops:\n",
        "+ ``guess_between(low,high)``\n",
        "+ ``listTilRepeat(high)``\n",
        "\n",
        "Each one has more detail in its description.\n",
        "\n",
        "Notice that the ``listTilRepeat`` function ***is*** the birthday paradox!"
      ],
      "metadata": {
        "id": "A68UyzcD6W4g"
      }
    },
    {
      "cell_type": "code",
      "execution_count": null,
      "metadata": {
        "id": "Sib6asIv3gGn"
      },
      "outputs": [],
      "source": [
        "\n",
        "#\n",
        "# Functions with while loops to write:\n",
        "#\n",
        "\n",
        "# guess_between(low,high) like guess, but until it gets a number anywhere between\n",
        "#                         low and high. Specifically, until it guesses\n",
        "#                         less than high, and greater than or equal to low.\n",
        "#\n",
        "#\n",
        "# listTilRepeat(high)     accumulates a list of values in range(0,high) until one repeats\n",
        "#                         and returns the whole list\n",
        "#\n",
        "\n",
        "\n",
        "# examples (don't forget the randomness will change things!)\n",
        "#\n",
        "# guess_between(40,50)   ->   8    (on average, around 10)\n",
        "#\n",
        "# listTilRepeat(10)      ->   [4, 7, 8, 3, 7]     (the final # must be a repeat)\n",
        "# listTilRepeat(10)      ->   [2, 1, 9, 9]     (the final # must be a repeat)\n"
      ]
    },
    {
      "cell_type": "code",
      "execution_count": null,
      "metadata": {
        "id": "eAbbImBL3gGv"
      },
      "outputs": [],
      "source": [
        "#\n",
        "# here, write guess_between\n",
        "#\n",
        "import random # Import the random module\n",
        "def guess_between(low,high):\n",
        "    \"\"\" guesses a # from 0 to 99 (inclusive) until\n",
        "        it gets one that is strictly less than high and\n",
        "        greater than or equal to low\n",
        "        Then, this function returns the total # of guesses made\n",
        "    \"\"\"\n",
        "\n",
        "    guess = random.randint(0, 100)  # Start with a random number\n",
        "    while not (low <= guess < high):  # Keep guessing until within range\n",
        "        guess = random.randint(0, 100)\n",
        "    return guess"
      ]
    },
    {
      "cell_type": "code",
      "source": [
        "#\n",
        "# be sure to test your guess_between here -- and leave the test in the notebook!\n",
        "#\n",
        "print(\"guess_between(40,50) ->\", guess_between(40, 50))\n",
        "print(\"guess_between(10,20) ->\", guess_between(10, 20))"
      ],
      "metadata": {
        "id": "wrh7eQOHAWi0",
        "colab": {
          "base_uri": "https://localhost:8080/"
        },
        "outputId": "b62c95b2-2ff6-44f5-f90a-632b9cea823d"
      },
      "execution_count": null,
      "outputs": [
        {
          "output_type": "stream",
          "name": "stdout",
          "text": [
            "guess_between(40,50) -> 40\n",
            "guess_between(10,20) -> 18\n"
          ]
        }
      ]
    },
    {
      "cell_type": "code",
      "execution_count": null,
      "metadata": {
        "id": "9HnVqdj83gGw",
        "colab": {
          "base_uri": "https://localhost:8080/"
        },
        "outputId": "57dbf6fb-0745-4e25-ceac-f1786bab24fd"
      },
      "outputs": [
        {
          "output_type": "stream",
          "name": "stdout",
          "text": [
            "Before: L is [3, 4]\n",
            " After: L is [3, 4, 42]\n"
          ]
        }
      ],
      "source": [
        "\n",
        "# Try out adding elements to Lists\n",
        "\n",
        "L = [3,4]\n",
        "print(\"Before: L is\", L)\n",
        "\n",
        "guess = 42\n",
        "L = L + [guess]\n",
        "print(\" After: L is\", L)"
      ]
    },
    {
      "cell_type": "code",
      "execution_count": null,
      "metadata": {
        "id": "7v9qoep83gGx"
      },
      "outputs": [],
      "source": [
        "#\n",
        "# here, write listTilRepeat\n",
        "#\n",
        "\n",
        "def listTilRepeat(high):\n",
        "    \"\"\" this f'n accumulates random guesses into a list, L, until a repeat is found\n",
        "        it then returns the list (the final element should be repeated, somewhere)\n",
        "    \"\"\"\n",
        "    seen = set()  # Track numbers seen so far\n",
        "    numbers = []  # Store generated numbers\n",
        "\n",
        "    while True:\n",
        "        num = random.randint(0, high - 1)  # Generate a random number within range\n",
        "        if num in seen:  # Stop if it's a repeat\n",
        "            numbers.append(num)\n",
        "            break\n",
        "        seen.add(num)\n",
        "        numbers.append(num)\n",
        "\n",
        "    return numbers"
      ]
    },
    {
      "cell_type": "code",
      "source": [
        "#\n",
        "# be sure to test your listTilRepeat here -- and leave the test in the notebook!\n",
        "#\n",
        "print(\"listTilRepeat(10) ->\", listTilRepeat(10))\n",
        "print(\"listTilRepeat(5) ->\", listTilRepeat(5))\n",
        "print(\"listTilRepeat(15) ->\", listTilRepeat(15))\n"
      ],
      "metadata": {
        "id": "iWvncComAdAa",
        "colab": {
          "base_uri": "https://localhost:8080/"
        },
        "outputId": "f35410f6-73c4-48d9-bd62-19c50550d50d"
      },
      "execution_count": null,
      "outputs": [
        {
          "output_type": "stream",
          "name": "stdout",
          "text": [
            "listTilRepeat(10) -> [4, 1, 8, 6, 7, 8]\n",
            "listTilRepeat(5) -> [3, 2, 1, 1]\n",
            "listTilRepeat(15) -> [0, 14, 5, 1, 3, 7, 10, 3]\n"
          ]
        }
      ]
    },
    {
      "cell_type": "code",
      "execution_count": null,
      "metadata": {
        "id": "Y8bY1Hag3gGx"
      },
      "outputs": [],
      "source": [
        "\n",
        "# The birthday paradox is the fact that\n",
        "#     listTilRepeat(365) has surprisingly few elements!\n",
        "#\n",
        "# Run listTilRepeat(365) a few times and print its _length_ each time\n",
        "#     (Don't print the lists... it's too much to digest.)\n",
        "#\n",
        "# To many people, the results feel counterintuitive!"
      ]
    },
    {
      "cell_type": "markdown",
      "metadata": {
        "id": "rGp1vbmb3gf5"
      },
      "source": [
        "<br>\n",
        "\n",
        "# Monte Carlo simulations\n",
        "+ ... are repeated actions that involve repetition and randomness\n",
        "+ that is, loops!\n",
        "\n",
        "In fact, the guessing and birthday challenges above _are_ examples of Monte Carlo simulations.\n",
        "\n",
        "Next, you'll try a few more:\n",
        "+ Our in-class guessing game, dice-rolling challenge, and three-curtain challenge...\n",
        "+ Then, you'll try the \"sleepwalker\" (a single random walker)\n",
        "\n",
        "Finally, you'll adapt the single random walker to a two-walker simulation of your own design! There are lots of ideas:\n",
        "+ Have two random walkers \"race\" to the middle (which might be a poptart...)\n",
        "+ Have two random walkers \"race\" to the walls\n",
        "+ Have them wander until they find each other\n",
        "+ Have the walls close in on them!\n",
        "+ Have them chase another object that's moving around...\n",
        "+ ... and so on!\n",
        "\n",
        "The key is to have\n",
        "+ **two** independently-wandering \"actors\"\n",
        "+ within a \"line\" or \"world\" that you can print out...\n",
        "+ ... with a backstory that you've invented,\n",
        "+ and then animate the result!\n",
        "\n",
        "<br>\n",
        "\n",
        "Looking forward to it!"
      ]
    },
    {
      "cell_type": "code",
      "execution_count": null,
      "metadata": {
        "id": "TAw-VXXQ3gf6",
        "colab": {
          "base_uri": "https://localhost:8080/"
        },
        "outputId": "6fe7504d-e1e1-4819-8330-8de8c8293288"
      },
      "outputs": [
        {
          "output_type": "execute_result",
          "data": {
            "text/plain": [
              "36"
            ]
          },
          "metadata": {},
          "execution_count": 61
        }
      ],
      "source": [
        "\n",
        "#\n",
        "# Example while loop: the \"guessing game\"\n",
        "#\n",
        "\n",
        "from random import *\n",
        "\n",
        "def guess( hidden ):\n",
        "    \"\"\"\n",
        "        have the computer guess numbers until it gets the \"hidden\" value\n",
        "        return the number of guesses\n",
        "    \"\"\"\n",
        "    guess = hidden - 1      # start with a wrong guess + don't count it as a guess\n",
        "    number_of_guesses = 0   # start with no guesses made so far...\n",
        "\n",
        "    while guess != hidden:\n",
        "        guess = choice( range(0,100) )  # 0 to 99, inclusive\n",
        "        number_of_guesses += 1\n",
        "\n",
        "    return number_of_guesses\n",
        "\n",
        "# test our function!\n",
        "guess(42)"
      ]
    },
    {
      "cell_type": "code",
      "execution_count": null,
      "metadata": {
        "id": "pMj48CN63gf8",
        "colab": {
          "base_uri": "https://localhost:8080/"
        },
        "outputId": "914024e1-db4a-4da7-cc70-159e7c1b8277"
      },
      "outputs": [
        {
          "output_type": "stream",
          "name": "stdout",
          "text": [
            "run 0 roll: 3 5  \n",
            "run 1 roll: 1 6  \n",
            "run 2 roll: 5 3  \n",
            "run 3 roll: 6 6 🙂\n",
            "run 4 roll: 3 1  \n",
            "run 5 roll: 4 1  \n",
            "run 6 roll: 6 6 🙂\n",
            "run 7 roll: 3 6  \n",
            "run 8 roll: 1 1 🙂\n",
            "run 9 roll: 4 3  \n"
          ]
        },
        {
          "output_type": "execute_result",
          "data": {
            "text/plain": [
              "3"
            ]
          },
          "metadata": {},
          "execution_count": 63
        }
      ],
      "source": [
        "\n",
        "#\n",
        "# Example Monte Carlo simulation: rolling two dice and counting doubles\n",
        "#\n",
        "\n",
        "from random import *\n",
        "import time\n",
        "\n",
        "def count_doubles( num_rolls ):\n",
        "    \"\"\"\n",
        "        have the computer roll two six-sided dice, counting the # of doubles\n",
        "        (same value on both dice)\n",
        "        Then, return the number of doubles...\n",
        "    \"\"\"\n",
        "    numdoubles = 0       # start with no doubles so far...\n",
        "\n",
        "    for i in range(0,num_rolls):   # roll repeatedly: i keeps track\n",
        "        d1 = choice( [1,2,3,4,5,6] )  # 0 to 6, inclusive\n",
        "        d2 = choice( range(1,7) )     # 0 to 6, inclusive\n",
        "        if d1 == d2:\n",
        "            numdoubles += 1\n",
        "            you = \"🙂\"\n",
        "        else:\n",
        "            you = \" \"\n",
        "\n",
        "        print(\"run\", i, \"roll:\", d1, d2, you, flush=True)\n",
        "        time.sleep(.01)\n",
        "\n",
        "    return numdoubles\n",
        "\n",
        "# test our function!\n",
        "count_doubles(10)"
      ]
    },
    {
      "cell_type": "code",
      "execution_count": null,
      "metadata": {
        "id": "k4rkSYX_3gf9",
        "colab": {
          "base_uri": "https://localhost:8080/"
        },
        "outputId": "d72f8e31-6174-44f1-83a0-516032fe7cac"
      },
      "outputs": [
        {
          "output_type": "stream",
          "name": "stdout",
          "text": [
            "run 1 you  Win!!!\n",
            "run 2 you lose...\n",
            "run 3 you lose...\n",
            "run 4 you  Win!!!\n",
            "run 5 you  Win!!!\n",
            "run 6 you lose...\n",
            "run 7 you  Win!!!\n",
            "run 8 you lose...\n",
            "run 9 you lose...\n",
            "run 10 you lose...\n"
          ]
        },
        {
          "output_type": "execute_result",
          "data": {
            "text/plain": [
              "4"
            ]
          },
          "metadata": {},
          "execution_count": 64
        }
      ],
      "source": [
        "\n",
        "#\n",
        "# Example Monte Carlo simulation: the Monte-Carlo Monte Hall paradox\n",
        "#\n",
        "\n",
        "import random\n",
        "import time\n",
        "\n",
        "def count_wins( N, original_choice, stay_or_switch ):\n",
        "    \"\"\"\n",
        "        run the Monte Hall paradox N times, with\n",
        "        original_choice, which can be 1, 2, or 3 and\n",
        "        stay_or_switch, which can be \"stay\" or \"switch\"\n",
        "        Count the number of wins and return that number.\n",
        "    \"\"\"\n",
        "    numwins = 0       # start with no wins so far...\n",
        "\n",
        "    for i in range(1,N+1):      # run repeatedly: i keeps track\n",
        "        win_curtain = random.choice([1,2,3])   # the curtain with the grand prize\n",
        "        original_choice = original_choice      # just a reminder that we have this variable\n",
        "        stay_or_switch = stay_or_switch        # a reminder that we have this, too\n",
        "\n",
        "        result = \"\"\n",
        "        if original_choice == win_curtain and stay_or_switch == \"stay\": result = \" Win!!!\"\n",
        "        elif original_choice == win_curtain and stay_or_switch == \"switch\": result = \"lose...\"\n",
        "        elif original_choice != win_curtain and stay_or_switch == \"stay\": result = \"lose...\"\n",
        "        elif original_choice != win_curtain and stay_or_switch == \"switch\": result = \" Win!!!\"\n",
        "\n",
        "        print(\"run\", i, \"you\", result, flush=True)\n",
        "        time.sleep(.025)\n",
        "\n",
        "        if result == \" Win!!!\":\n",
        "            numwins += 1\n",
        "\n",
        "\n",
        "    return numwins\n",
        "\n",
        "# test our three-curtain-game, many times:\n",
        "count_wins(10, 1, \"stay\")"
      ]
    },
    {
      "cell_type": "code",
      "execution_count": null,
      "metadata": {
        "id": "MawBqtpX3gf-",
        "colab": {
          "base_uri": "https://localhost:8080/"
        },
        "outputId": "0fc110f5-1055-4afb-9de4-f488bf1d14f9"
      },
      "outputs": [
        {
          "output_type": "stream",
          "name": "stdout",
          "text": [
            "At location: 47\n",
            "At location: 46\n",
            "At location: 47\n",
            "At location: 48\n",
            "At location: 49\n",
            "At location: 48\n",
            "At location: 47\n",
            "At location: 48\n",
            "At location: 49\n",
            "At location: 48\n"
          ]
        },
        {
          "output_type": "execute_result",
          "data": {
            "text/plain": [
              "48"
            ]
          },
          "metadata": {},
          "execution_count": 65
        }
      ],
      "source": [
        "\n",
        "\n",
        "# More Monte Carlo simulations!\n",
        "\n",
        "#\n",
        "# Example of a random-walk (but no animation is intended here...)\n",
        "#\n",
        "\n",
        "import random\n",
        "\n",
        "def rs():\n",
        "    \"\"\" One random step \"\"\"\n",
        "    return random.choice([-1, 1])\n",
        "\n",
        "\n",
        "def rpos(start,N):\n",
        "    \"\"\" wander from start for N steps, printing as we go\n",
        "        return the position at the end (the final \"current\" position)\n",
        "    \"\"\"\n",
        "    current = start        # our current position begins at start...\n",
        "\n",
        "    for i in range(N):     # step repeatedly:  i keeps track from 0..N\n",
        "        print(\"At location:\", current)\n",
        "        current = current + rs()  # add one step,\n",
        "\n",
        "    print(\"At location:\", current)\n",
        "    return current\n",
        "\n",
        "\n",
        "# let's test it, perhaps start at 47 and take 9 steps...\n",
        "rpos(47,9)"
      ]
    },
    {
      "cell_type": "code",
      "execution_count": null,
      "metadata": {
        "id": "vgqXW52w3gf_",
        "colab": {
          "base_uri": "https://localhost:8080/"
        },
        "outputId": "ddb60dc8-6b2f-4dec-98ce-1e2d57a82064"
      },
      "outputs": [
        {
          "output_type": "stream",
          "name": "stdout",
          "text": [
            "🌲~~~~😴~~~~~~🌲\n",
            "🌲~~~😴~~~~~~~🌲\n",
            "🌲~~~~😴~~~~~~🌲\n",
            "🌲~~~~~😴~~~~~🌲\n",
            "🌲~~~~~~😴~~~~🌲\n",
            "🌲~~~~~~~😴~~~🌲\n",
            "🌲~~~~~~~~😴~~🌲\n",
            "🌲~~~~~~~~~😴~🌲\n",
            "🌲~~~~~~~~~~😴🌲\n"
          ]
        },
        {
          "output_type": "execute_result",
          "data": {
            "text/plain": [
              "9"
            ]
          },
          "metadata": {},
          "execution_count": 70
        }
      ],
      "source": [
        "\n",
        "# Monte Carlo simulation #2... the random-walker\n",
        "\n",
        "#\n",
        "# Task #1:  understand the _single_ \"sleepwalker\":\n",
        "#           change the character sleepwalking to something else, emoji, etc.\n",
        "#           change the \"walls\" to something else\n",
        "#           change the \"sidewalk\" to something else (water, air, walls, ...)\n",
        "#           try it with some different inputs... then you'll be ready for task 2\n",
        "\n",
        "import time\n",
        "import random\n",
        "\n",
        "\n",
        "def rs():\n",
        "    \"\"\"One random step (-1 or +1).\"\"\"\n",
        "    return random.choice([-1, 1])\n",
        "\n",
        "def rwalk(start, low, high):\n",
        "    \"\"\"Random walk with animated display.\n",
        "\n",
        "    Arguments:\n",
        "    start -- Starting position\n",
        "    low   -- Left boundary\n",
        "    high  -- Right boundary\n",
        "\n",
        "    Returns:\n",
        "    The total number of steps taken before hitting a boundary.\n",
        "    \"\"\"\n",
        "    totalsteps = 0\n",
        "    current = start\n",
        "\n",
        "    # Customize visual elements\n",
        "    walker = \"😴\"    # Sleepwalker character\n",
        "    path = \"~\"       # Path type (e.g., \"~\" for water, \" \" for air, \"🛤\" for road)\n",
        "    wall = \"🌲\"      # Wall/boundary type (e.g., \"🏰\" for castle walls)\n",
        "\n",
        "    while True:\n",
        "        if current <= low:  # Left boundary reached\n",
        "            return totalsteps\n",
        "        elif current >= high:  # Right boundary reached\n",
        "            return totalsteps\n",
        "        else:\n",
        "            current += rs()  # Take a step\n",
        "            totalsteps += 1\n",
        "\n",
        "            # Animate the walker\n",
        "            left_side = current - low\n",
        "            right_side = high - current\n",
        "            print(wall + path*left_side + walker + path*right_side + wall, flush=True)\n",
        "            time.sleep(0.05)  # Adjust animation speed\n",
        "\n",
        "# Try different settings\n",
        "rwalk(5, 0, 10)  # Start at 5, boundaries at 0 and 10\n",
        "# rwalk(15, 0, 15)  # Uncomment to try a longer range\n",
        "\n",
        "\n",
        "    # the code can never get here!\n",
        "\n"
      ]
    },
    {
      "cell_type": "markdown",
      "source": [
        "### <font color=\"darkblue\"><b>Task #6: Your own wandering!</b></font>\n",
        "\n",
        "Below, create a variation of the random-walker examples above and below. Be sure\n",
        "+ You have at least two random wanderers\n",
        "+ You include an aesthetic customization of your choice\n",
        "+ You include an algorithmic personalization of your choice\n",
        "\n",
        "These can be very fun...\n",
        "\n",
        "I look forward to all of your ***wandering***!"
      ],
      "metadata": {
        "id": "XM07iJfP7VMf"
      }
    },
    {
      "cell_type": "code",
      "execution_count": null,
      "metadata": {
        "id": "t8S3Gu6Y3ggB",
        "colab": {
          "base_uri": "https://localhost:8080/"
        },
        "outputId": "6711088d-8cf1-4d4a-d9db-9cb55b2693c7"
      },
      "outputs": [
        {
          "output_type": "stream",
          "name": "stdout",
          "text": [
            "🌲····🐾···········🤖····🌲\n",
            "🌲·····🐾···········🤖···🌲\n",
            "🌲····🐾···········🤖····🌲\n",
            "🌲···🐾···········🤖·····🌲\n",
            "🌲··🐾·············🤖····🌲\n",
            "🌲·🐾···············🤖···🌲\n",
            "🌲·🐾················🤖··🌲\n",
            "🌲·🐾···············🤖···🌲\n",
            "🌲··🐾···············🤖··🌲\n",
            "🌲·🐾···············🤖···🌲\n",
            "🌲··🐾···············🤖··🌲\n",
            "🌲··🐾··············🤖···🌲\n",
            "🌲···🐾············🤖····🌲\n",
            "🌲··🐾··············🤖···🌲\n",
            "🌲·🐾················🤖··🌲\n",
            "🌲··🐾················🤖·🌲\n",
            "🌲·🐾··················🤖🌲\n",
            "🌲··🐾·················🤖🌲\n",
            "🌲·🐾·················🤖·🌲\n",
            "🌲🐾··················🤖·🌲\n",
            "🌲🐾···················🤖🌲\n",
            "🌲·🐾·················🤖·🌲\n",
            "🌲🐾·················🤖··🌲\n",
            "🌲🐾················🤖···🌲\n",
            "🌲·🐾················🤖··🌲\n",
            "🌲··🐾················🤖·🌲\n",
            "🌲·🐾··················🤖🌲\n",
            "🌲··🐾················🤖·🌲\n",
            "🌲·🐾··················🤖🌲\n",
            "🌲··🐾················🤖·🌲\n"
          ]
        }
      ],
      "source": [
        "#\n",
        "# Task #2:  create a _two_ sleepwalker animation!\n",
        "#           For an example _idea_ see the next cell...\n",
        "\n",
        "import time\n",
        "import random\n",
        "\n",
        "def rs():\n",
        "    \"\"\"One random step (-1, 0, or +1) with slight bias for movement forward.\"\"\"\n",
        "    return random.choices([-1, 0, 1], weights=[4, 1, 5])[0]\n",
        "\n",
        "def random_walkers(start1, start2, low, high, steps=50):\n",
        "    \"\"\"Simulates two random walkers moving on a 1D path.\n",
        "\n",
        "    Arguments:\n",
        "    start1 -- Starting position of first walker\n",
        "    start2 -- Starting position of second walker\n",
        "    low    -- Left boundary\n",
        "    high   -- Right boundary\n",
        "    steps  -- Maximum number of steps\n",
        "\n",
        "    Returns:\n",
        "    None (prints animation of walkers)\n",
        "    \"\"\"\n",
        "    walker1 = \"🐾\"   # Walker 1 (Animal footprints)\n",
        "    walker2 = \"🤖\"   # Walker 2 (Robot)\n",
        "    path = \"·\"       # Aesthetic path\n",
        "    wall = \"🌲\"      # Walls (forest theme)\n",
        "\n",
        "    pos1, pos2 = start1, start2  # Initialize positions\n",
        "\n",
        "    for _ in range(steps):\n",
        "        # Move walkers\n",
        "        pos1 += rs()  # Random movement\n",
        "        pos2 += rs()  # Random movement\n",
        "\n",
        "        # Keep walkers inside boundaries\n",
        "        pos1 = max(low, min(high, pos1))\n",
        "        pos2 = max(low, min(high, pos2))\n",
        "\n",
        "        # Create visual representation\n",
        "        left_side = min(pos1, pos2) - low\n",
        "        right_side = high - max(pos1, pos2)\n",
        "\n",
        "        # Ensure characters are placed correctly\n",
        "        if pos1 < pos2:\n",
        "            line = wall + path * left_side + walker1 + path * (pos2 - pos1 - 1) + walker2 + path * right_side + wall\n",
        "        elif pos1 > pos2:\n",
        "            line = wall + path * left_side + walker2 + path * (pos1 - pos2 - 1) + walker1 + path * right_side + wall\n",
        "        else:\n",
        "            line = wall + path * left_side + \"🔥\" + path * right_side + wall  # 🔥 if they collide\n",
        "\n",
        "        # Print and animate\n",
        "        print(line, flush=True)\n",
        "        time.sleep(0.1)\n",
        "\n",
        "# Run the simulation\n",
        "random_walkers(start1=5, start2=15, low=0, high=20, steps=30)\n"
      ]
    },
    {
      "cell_type": "code",
      "execution_count": null,
      "metadata": {
        "id": "1zZ5kFlm3ggA"
      },
      "outputs": [],
      "source": [
        "\n",
        "# here is an _example_ of a two-sleepwalker animation idea\n",
        "# a starting point has been written... but only one wanderer is wandering!\n",
        "# your task is to make sure TWO wanderers are wandering... in a fashion you design...\n",
        "\n",
        "import time\n",
        "import random\n",
        "\n",
        "def rs():\n",
        "    \"\"\" One random step \"\"\"\n",
        "    return random.choice([-1, 1])\n",
        "\n",
        "def print_poptarts(pST, pSM):\n",
        "    \"\"\" print the two poptarts! \"\"\"\n",
        "    if pST < pSM:\n",
        "        pLeft = pST;   cLeft = \"\\033[6;33;41m\" + \"P\" + \"\\033[0m\"\n",
        "        pRight = pSM;  cRight = \"\\033[6;36;43m\" + \"P\" + \"\\033[0m\"\n",
        "    else:\n",
        "        pLeft = pSM;   cLeft = \"\\033[6;36;43m\" + \"P\" + \"\\033[0m\"\n",
        "        pRight = pST;  cRight = \"\\033[6;33;41m\" + \"P\" + \"\\033[0m\"\n",
        "\n",
        "    left_space = (pLeft-0)\n",
        "    middle_space = (pRight-pLeft)\n",
        "    right_space = (30-pRight)\n",
        "\n",
        "    print(\"CGU|\" + \"_\"*left_space + cLeft + \"_\"*middle_space + cRight + \"_\"*right_space + \"|Toaster\", flush=True)\n",
        "\n",
        "\n",
        "def poptart_race(pST, pSM):\n",
        "    \"\"\"\n",
        "        This simulator observes two poptarts, pST, pSM (you can guess the flavors...)\n",
        "        wandering between 0 and 30.\n",
        "\n",
        "        Call this with\n",
        "               poptart_race(10, 20)\n",
        "           or  poptart_race(pST=10, pSM=20)    # this is the same as the line above\n",
        "\n",
        "        The endpoints are always at 0 and 30. We check that  0 < pST < 30 and 0 < pSM < 30\n",
        "\n",
        "        Other values to try:  poptart_race(18, 22)    # evenly spaced\n",
        "                              poptart_race(5, 15)     # uneven spacing: pST is closer...\n",
        "    \"\"\"\n",
        "    num_steps = 0       # count the number of steps\n",
        "\n",
        "    while 0 < pST < 30:\n",
        "        print_poptarts(pST, pSM)   # print the current poptart-configuration!\n",
        "        pST = pST + rs()           # take a random step for the strawberry poptart...\n",
        "        num_steps += 1             # add 1 to our count of steps (in the variable num_steps)\n",
        "        time.sleep(0.05)           # pause a bit, to add drama!\n",
        "\n",
        "    # finished with the while loop!\n",
        "    return num_steps\n",
        "\n"
      ]
    },
    {
      "cell_type": "code",
      "source": [
        "poptart_race(10, 20)"
      ],
      "metadata": {
        "id": "VbhjtXudzAC4",
        "colab": {
          "base_uri": "https://localhost:8080/"
        },
        "outputId": "c790ccad-0c5f-4ba1-888b-a294a931ed68"
      },
      "execution_count": null,
      "outputs": [
        {
          "output_type": "stream",
          "name": "stdout",
          "text": [
            "CGU|__________\u001b[6;33;41mP\u001b[0m__________\u001b[6;36;43mP\u001b[0m__________|Toaster\n",
            "CGU|___________\u001b[6;33;41mP\u001b[0m_________\u001b[6;36;43mP\u001b[0m__________|Toaster\n",
            "CGU|__________\u001b[6;33;41mP\u001b[0m__________\u001b[6;36;43mP\u001b[0m__________|Toaster\n",
            "CGU|_________\u001b[6;33;41mP\u001b[0m___________\u001b[6;36;43mP\u001b[0m__________|Toaster\n",
            "CGU|________\u001b[6;33;41mP\u001b[0m____________\u001b[6;36;43mP\u001b[0m__________|Toaster\n",
            "CGU|_______\u001b[6;33;41mP\u001b[0m_____________\u001b[6;36;43mP\u001b[0m__________|Toaster\n",
            "CGU|______\u001b[6;33;41mP\u001b[0m______________\u001b[6;36;43mP\u001b[0m__________|Toaster\n",
            "CGU|_______\u001b[6;33;41mP\u001b[0m_____________\u001b[6;36;43mP\u001b[0m__________|Toaster\n",
            "CGU|________\u001b[6;33;41mP\u001b[0m____________\u001b[6;36;43mP\u001b[0m__________|Toaster\n",
            "CGU|_______\u001b[6;33;41mP\u001b[0m_____________\u001b[6;36;43mP\u001b[0m__________|Toaster\n",
            "CGU|________\u001b[6;33;41mP\u001b[0m____________\u001b[6;36;43mP\u001b[0m__________|Toaster\n",
            "CGU|_________\u001b[6;33;41mP\u001b[0m___________\u001b[6;36;43mP\u001b[0m__________|Toaster\n",
            "CGU|________\u001b[6;33;41mP\u001b[0m____________\u001b[6;36;43mP\u001b[0m__________|Toaster\n",
            "CGU|_______\u001b[6;33;41mP\u001b[0m_____________\u001b[6;36;43mP\u001b[0m__________|Toaster\n",
            "CGU|________\u001b[6;33;41mP\u001b[0m____________\u001b[6;36;43mP\u001b[0m__________|Toaster\n",
            "CGU|_________\u001b[6;33;41mP\u001b[0m___________\u001b[6;36;43mP\u001b[0m__________|Toaster\n",
            "CGU|________\u001b[6;33;41mP\u001b[0m____________\u001b[6;36;43mP\u001b[0m__________|Toaster\n",
            "CGU|_________\u001b[6;33;41mP\u001b[0m___________\u001b[6;36;43mP\u001b[0m__________|Toaster\n",
            "CGU|________\u001b[6;33;41mP\u001b[0m____________\u001b[6;36;43mP\u001b[0m__________|Toaster\n",
            "CGU|_________\u001b[6;33;41mP\u001b[0m___________\u001b[6;36;43mP\u001b[0m__________|Toaster\n",
            "CGU|________\u001b[6;33;41mP\u001b[0m____________\u001b[6;36;43mP\u001b[0m__________|Toaster\n",
            "CGU|_______\u001b[6;33;41mP\u001b[0m_____________\u001b[6;36;43mP\u001b[0m__________|Toaster\n",
            "CGU|________\u001b[6;33;41mP\u001b[0m____________\u001b[6;36;43mP\u001b[0m__________|Toaster\n",
            "CGU|_______\u001b[6;33;41mP\u001b[0m_____________\u001b[6;36;43mP\u001b[0m__________|Toaster\n",
            "CGU|______\u001b[6;33;41mP\u001b[0m______________\u001b[6;36;43mP\u001b[0m__________|Toaster\n",
            "CGU|_______\u001b[6;33;41mP\u001b[0m_____________\u001b[6;36;43mP\u001b[0m__________|Toaster\n",
            "CGU|______\u001b[6;33;41mP\u001b[0m______________\u001b[6;36;43mP\u001b[0m__________|Toaster\n",
            "CGU|_____\u001b[6;33;41mP\u001b[0m_______________\u001b[6;36;43mP\u001b[0m__________|Toaster\n",
            "CGU|____\u001b[6;33;41mP\u001b[0m________________\u001b[6;36;43mP\u001b[0m__________|Toaster\n",
            "CGU|_____\u001b[6;33;41mP\u001b[0m_______________\u001b[6;36;43mP\u001b[0m__________|Toaster\n",
            "CGU|______\u001b[6;33;41mP\u001b[0m______________\u001b[6;36;43mP\u001b[0m__________|Toaster\n",
            "CGU|_____\u001b[6;33;41mP\u001b[0m_______________\u001b[6;36;43mP\u001b[0m__________|Toaster\n",
            "CGU|____\u001b[6;33;41mP\u001b[0m________________\u001b[6;36;43mP\u001b[0m__________|Toaster\n",
            "CGU|_____\u001b[6;33;41mP\u001b[0m_______________\u001b[6;36;43mP\u001b[0m__________|Toaster\n",
            "CGU|____\u001b[6;33;41mP\u001b[0m________________\u001b[6;36;43mP\u001b[0m__________|Toaster\n",
            "CGU|___\u001b[6;33;41mP\u001b[0m_________________\u001b[6;36;43mP\u001b[0m__________|Toaster\n",
            "CGU|____\u001b[6;33;41mP\u001b[0m________________\u001b[6;36;43mP\u001b[0m__________|Toaster\n",
            "CGU|___\u001b[6;33;41mP\u001b[0m_________________\u001b[6;36;43mP\u001b[0m__________|Toaster\n",
            "CGU|__\u001b[6;33;41mP\u001b[0m__________________\u001b[6;36;43mP\u001b[0m__________|Toaster\n",
            "CGU|___\u001b[6;33;41mP\u001b[0m_________________\u001b[6;36;43mP\u001b[0m__________|Toaster\n",
            "CGU|__\u001b[6;33;41mP\u001b[0m__________________\u001b[6;36;43mP\u001b[0m__________|Toaster\n",
            "CGU|_\u001b[6;33;41mP\u001b[0m___________________\u001b[6;36;43mP\u001b[0m__________|Toaster\n",
            "CGU|__\u001b[6;33;41mP\u001b[0m__________________\u001b[6;36;43mP\u001b[0m__________|Toaster\n",
            "CGU|_\u001b[6;33;41mP\u001b[0m___________________\u001b[6;36;43mP\u001b[0m__________|Toaster\n",
            "CGU|__\u001b[6;33;41mP\u001b[0m__________________\u001b[6;36;43mP\u001b[0m__________|Toaster\n",
            "CGU|_\u001b[6;33;41mP\u001b[0m___________________\u001b[6;36;43mP\u001b[0m__________|Toaster\n",
            "CGU|__\u001b[6;33;41mP\u001b[0m__________________\u001b[6;36;43mP\u001b[0m__________|Toaster\n",
            "CGU|___\u001b[6;33;41mP\u001b[0m_________________\u001b[6;36;43mP\u001b[0m__________|Toaster\n",
            "CGU|__\u001b[6;33;41mP\u001b[0m__________________\u001b[6;36;43mP\u001b[0m__________|Toaster\n",
            "CGU|___\u001b[6;33;41mP\u001b[0m_________________\u001b[6;36;43mP\u001b[0m__________|Toaster\n",
            "CGU|____\u001b[6;33;41mP\u001b[0m________________\u001b[6;36;43mP\u001b[0m__________|Toaster\n",
            "CGU|_____\u001b[6;33;41mP\u001b[0m_______________\u001b[6;36;43mP\u001b[0m__________|Toaster\n",
            "CGU|____\u001b[6;33;41mP\u001b[0m________________\u001b[6;36;43mP\u001b[0m__________|Toaster\n",
            "CGU|_____\u001b[6;33;41mP\u001b[0m_______________\u001b[6;36;43mP\u001b[0m__________|Toaster\n",
            "CGU|______\u001b[6;33;41mP\u001b[0m______________\u001b[6;36;43mP\u001b[0m__________|Toaster\n",
            "CGU|_______\u001b[6;33;41mP\u001b[0m_____________\u001b[6;36;43mP\u001b[0m__________|Toaster\n",
            "CGU|______\u001b[6;33;41mP\u001b[0m______________\u001b[6;36;43mP\u001b[0m__________|Toaster\n",
            "CGU|_____\u001b[6;33;41mP\u001b[0m_______________\u001b[6;36;43mP\u001b[0m__________|Toaster\n",
            "CGU|____\u001b[6;33;41mP\u001b[0m________________\u001b[6;36;43mP\u001b[0m__________|Toaster\n",
            "CGU|_____\u001b[6;33;41mP\u001b[0m_______________\u001b[6;36;43mP\u001b[0m__________|Toaster\n",
            "CGU|______\u001b[6;33;41mP\u001b[0m______________\u001b[6;36;43mP\u001b[0m__________|Toaster\n",
            "CGU|_____\u001b[6;33;41mP\u001b[0m_______________\u001b[6;36;43mP\u001b[0m__________|Toaster\n",
            "CGU|____\u001b[6;33;41mP\u001b[0m________________\u001b[6;36;43mP\u001b[0m__________|Toaster\n",
            "CGU|_____\u001b[6;33;41mP\u001b[0m_______________\u001b[6;36;43mP\u001b[0m__________|Toaster\n",
            "CGU|____\u001b[6;33;41mP\u001b[0m________________\u001b[6;36;43mP\u001b[0m__________|Toaster\n",
            "CGU|_____\u001b[6;33;41mP\u001b[0m_______________\u001b[6;36;43mP\u001b[0m__________|Toaster\n",
            "CGU|____\u001b[6;33;41mP\u001b[0m________________\u001b[6;36;43mP\u001b[0m__________|Toaster\n",
            "CGU|___\u001b[6;33;41mP\u001b[0m_________________\u001b[6;36;43mP\u001b[0m__________|Toaster\n",
            "CGU|__\u001b[6;33;41mP\u001b[0m__________________\u001b[6;36;43mP\u001b[0m__________|Toaster\n",
            "CGU|___\u001b[6;33;41mP\u001b[0m_________________\u001b[6;36;43mP\u001b[0m__________|Toaster\n",
            "CGU|__\u001b[6;33;41mP\u001b[0m__________________\u001b[6;36;43mP\u001b[0m__________|Toaster\n",
            "CGU|___\u001b[6;33;41mP\u001b[0m_________________\u001b[6;36;43mP\u001b[0m__________|Toaster\n",
            "CGU|__\u001b[6;33;41mP\u001b[0m__________________\u001b[6;36;43mP\u001b[0m__________|Toaster\n",
            "CGU|_\u001b[6;33;41mP\u001b[0m___________________\u001b[6;36;43mP\u001b[0m__________|Toaster\n"
          ]
        },
        {
          "output_type": "execute_result",
          "data": {
            "text/plain": [
              "74"
            ]
          },
          "metadata": {},
          "execution_count": 75
        }
      ]
    },
    {
      "cell_type": "markdown",
      "metadata": {
        "id": "IrzyA63F3ggB"
      },
      "source": [
        "\n",
        "<br>\n",
        "\n",
        "#### Hints, suggestions, and other references\n",
        "+ Be sure that there is a <i>finishing condition</i>\n",
        "+ Have a meaningful return value - such as the number of steps\n",
        "+ There should be some interaction between the wandering agents (each other), as well as between the wanderers and the endpoints, e.g., walls, cliffs, wells, teleports, etc.\n",
        "\n",
        "<br>\n",
        "\n",
        "As a few possible examples, you might consider:\n",
        "+ two wanderers that are trying to reach an item between them (see above)\n",
        "+ two wanderers that are unable to switch places (they \"bounce\"), with the simulation ending when one—or both—reach the walls\n",
        "+ two endpoints of a single \"entity\" that's trying to consume the whole environment (reach both sides)\n",
        "+ a single wanderer hoping to avoid an \"obstacle\" that is also a wanderer... it moves around and/or (dis)appears: a moving obstacle definitely counts as a second wanderer\n",
        "+ one or both walls can be a \"wanderer\"\n",
        "+ there are many more possibilities, for sure!\n",
        "\n",
        "\n",
        "<br>\n",
        "\n",
        "Other resources/references:\n",
        "+ [Lots of ideas are here at the cs5 page](https://www.cs.hmc.edu/twiki/bin/view/CS5Fall2019/SleepwalkingStudentGold)\n",
        "+ You can also add emojis and other unicode characters\n",
        "+ And you can change the colors -- see the next couple of cells for examples...\n",
        "+ [Here is the terminal-colors in Python page](https://www.cs.hmc.edu/twiki/bin/view/CS5/TerminalColorsInPython)"
      ]
    },
    {
      "cell_type": "code",
      "execution_count": null,
      "metadata": {
        "id": "CpFeTj_83ggC",
        "colab": {
          "base_uri": "https://localhost:8080/"
        },
        "outputId": "40bc8fca-7fbf-4435-99f4-940607dfab91"
      },
      "outputs": [
        {
          "output_type": "stream",
          "name": "stdout",
          "text": [
            "|_🙂_________|\n",
            "|__🙂________|\n",
            "|___🙂_______|\n",
            "|____🙂______|\n",
            "|_____🙂_____|\n",
            "|______🙂____|\n",
            "|_______🙂___|\n",
            "|________🙂__|\n",
            "|_________🙂_|\n"
          ]
        }
      ],
      "source": [
        "import time\n",
        "\n",
        "# emoji test\n",
        "emoji_list = [ \"♫\", \"♪\" ]\n",
        "for i in range(1,10):\n",
        "    left_side = i\n",
        "    right_side = (10-i)\n",
        "\n",
        "    e = \"🙂\"\n",
        "    # e = random.choice(emoji_list)\n",
        "\n",
        "    print(\"|\" + \"_\"*left_side + e + \"_\"*right_side + \"|\", flush=True)\n",
        "    time.sleep(0.25)"
      ]
    },
    {
      "cell_type": "code",
      "execution_count": null,
      "metadata": {
        "id": "jhB1t4kZ3ggC",
        "colab": {
          "base_uri": "https://localhost:8080/"
        },
        "outputId": "18cdd358-1235-4b7b-c364-453d8da53ffc"
      },
      "outputs": [
        {
          "output_type": "stream",
          "name": "stdout",
          "text": [
            "\n",
            "before: \u001b[6;30;43mThis text uses 6;30;43 .\u001b[0m :end\n",
            "\n"
          ]
        }
      ],
      "source": [
        "print(\"\\nbefore: \" + \"\\033[6;30;43m\" + \"This text uses 6;30;43 .\" + \"\\033[0m\" + \" :end\\n\")"
      ]
    },
    {
      "cell_type": "markdown",
      "source": [
        "Here's an example with the black-and-gold text:"
      ],
      "metadata": {
        "id": "mp0pOdGpQ8cA"
      }
    },
    {
      "cell_type": "code",
      "source": [
        "import time\n",
        "\n",
        "def gold_bg(text):\n",
        "    return \"\\033[6;30;43m\" + text + \"\\033[0m\"\n",
        "\n",
        "# gold_bg test\n",
        "for i in range(1,10):\n",
        "    left_side = i\n",
        "    right_side = (10-i)\n",
        "\n",
        "    e = \"E\"\n",
        "    # e = random.choice(emoji_list)\n",
        "\n",
        "    print(\"|\" + \"_\"*left_side + gold_bg(e) + \"_\"*right_side + \"|\", flush=True)\n",
        "    time.sleep(0.25)\n",
        "\n",
        "# by Zach\n",
        "\n",
        "# REVERSE gold_bg test\n",
        "for i in range(10,0,-1):\n",
        "    left_side = i\n",
        "    right_side = (10-i)\n",
        "\n",
        "    e = \"E\"\n",
        "    # e = random.choice(emoji_list)\n",
        "\n",
        "    print(\"|\" + gold_bg(\"_\"*left_side) + e + gold_bg(\"_\"*right_side) + \"|\", flush=True)\n",
        "    time.sleep(0.25)"
      ],
      "metadata": {
        "id": "Ow8QYU-dQ_Xg",
        "colab": {
          "base_uri": "https://localhost:8080/"
        },
        "outputId": "f782034b-b340-4ddd-d541-71d8d661e982"
      },
      "execution_count": null,
      "outputs": [
        {
          "output_type": "stream",
          "name": "stdout",
          "text": [
            "|_\u001b[6;30;43mE\u001b[0m_________|\n",
            "|__\u001b[6;30;43mE\u001b[0m________|\n",
            "|___\u001b[6;30;43mE\u001b[0m_______|\n",
            "|____\u001b[6;30;43mE\u001b[0m______|\n",
            "|_____\u001b[6;30;43mE\u001b[0m_____|\n",
            "|______\u001b[6;30;43mE\u001b[0m____|\n",
            "|_______\u001b[6;30;43mE\u001b[0m___|\n",
            "|________\u001b[6;30;43mE\u001b[0m__|\n",
            "|_________\u001b[6;30;43mE\u001b[0m_|\n",
            "|\u001b[6;30;43m__________\u001b[0mE\u001b[6;30;43m\u001b[0m|\n",
            "|\u001b[6;30;43m_________\u001b[0mE\u001b[6;30;43m_\u001b[0m|\n",
            "|\u001b[6;30;43m________\u001b[0mE\u001b[6;30;43m__\u001b[0m|\n",
            "|\u001b[6;30;43m_______\u001b[0mE\u001b[6;30;43m___\u001b[0m|\n",
            "|\u001b[6;30;43m______\u001b[0mE\u001b[6;30;43m____\u001b[0m|\n",
            "|\u001b[6;30;43m_____\u001b[0mE\u001b[6;30;43m_____\u001b[0m|\n",
            "|\u001b[6;30;43m____\u001b[0mE\u001b[6;30;43m______\u001b[0m|\n",
            "|\u001b[6;30;43m___\u001b[0mE\u001b[6;30;43m_______\u001b[0m|\n",
            "|\u001b[6;30;43m__\u001b[0mE\u001b[6;30;43m________\u001b[0m|\n",
            "|\u001b[6;30;43m_\u001b[0mE\u001b[6;30;43m_________\u001b[0m|\n"
          ]
        }
      ]
    },
    {
      "cell_type": "markdown",
      "metadata": {
        "id": "234UmAAE3ggD"
      },
      "source": [
        "<br>\n",
        "\n",
        "####  Complete!\n",
        "+ When you have ~~completed~~ your two-sleepwalker simulation, be sure that you have at least one run held in the output of your cell(s)\n",
        "+ More than one run is ok, too\n",
        "+ Remember, once you've defined a function, you're able to run it in many cells afterwards...\n",
        "\n",
        "<br>\n",
        "\n",
        "Then, submit this to its Gradescope spot..."
      ]
    },
    {
      "cell_type": "markdown",
      "source": [
        "# <font color=\"DarkBlue\"><b>Task #7</b></font>: Reading and Response on _ChatGPT_\n",
        "\n",
        "Of course, we have to have a ChatGPT article!\n",
        "\n",
        "Happily, the NYTimes has written many of these 😀\n",
        "+ [NYTimes article](https://www.nytimes.com/2023/02/03/technology/chatgpt-openai-artificial-intelligence.html)\n",
        "+ [Local pdf in case the above link does not work](https://drive.google.com/file/d/1SUhVAcDPcC80FfMyKUSt6EmKHOo7eImf/view?usp=sharing)\n",
        "\n",
        "The article summarizes\n",
        "+ the surprising progress in _generative AI_\n",
        "+ including both text and images\n",
        "+ and looks ahead at what's coming...\n",
        "\n",
        "<br>\n",
        "\n",
        "When you've read the article, share a short paragraph that describes\n",
        "+ your thoughts on \"Should ChatGPT be called 'sentient'?\"  That is, is it \"thinking,\" in the way you use that word. Why or why not...\n",
        "+ or, your thoughts on the differences between ChatGPT's \"thinking\" and \"human thinking\": how would you describe those?\n",
        "+ or, share your thoughts on _which traditionally-human activity_ will ChatGPT have the largest influence on, over the next 2-3 years?\n",
        "\n",
        "<br>\n",
        "\n",
        "Also, **feel free to use ChatGPT** to write your response to these prompts above... If you do this, then:\n",
        "+ add your thoughts on how well ChatGPT was able to answer the prompt\n",
        "+ also, share whether you agree, disagree, or derive some other opinion with respect to ChatGPT's self-description!\n",
        "\n",
        "<br>\n",
        "\n",
        "It's an interesting era in which we live!"
      ],
      "metadata": {
        "id": "7pzngEXA4h8U"
      }
    },
    {
      "cell_type": "markdown",
      "source": [
        "### Feel free to use this cell for your thoughts\n",
        "\n",
        "... or ChatGPT's thoughts, and your thoughts about those!\n",
        "\n",
        "<br><br>#\n",
        "### # <font color=\"DarkBlue\">**Thoughts on ChatGPT's \"Thinking\" vs. Human Thinking**  \n",
        "\n",
        "# <font color=\"limeGreen\">ChatGPT is not sentient—it does not \"think\" in the way humans do. Instead, it predicts words based on vast amounts of data and learned patterns, without consciousness, emotions, or self-awareness. While it can mimic reasoning, creativity, and even humor, it lacks true understanding of concepts. Human thinking is experiential, driven by emotions, instincts, and the ability to form genuine self-directed goals, whereas ChatGPT simply processes text based on probabilities.  \n",
        "\n",
        "# <font color=\"limegreen\">However, AI like ChatGPT will massively impact knowledge-based professions over the next 2-3 years. Fields such as education, content creation, programming, and even legal analysis will see an AI-assisted transformation, streamlining repetitive tasks while still requiring human oversight for critical thinking and ethical judgment.  \n",
        "\n",
        "---\n",
        "\n",
        "### <font color=\"DarkBlue\">**Using ChatGPT to Answer This Prompt**  \n",
        "# <font color=\"limegreen\">I asked ChatGPT for its own opinion, and it generated a logical and well-structured response. It correctly described itself as non-sentient, emphasizing the difference between statistical text generation and true cognition. While I agree with its self-description, I think that as AI improves, it may become harder to distinguish statistical intelligence from true understanding—which could blur the lines of perception in public debates about AI's role in society.  \n",
        "\n",
        "# <font color=\"Purple\">🚀 **We are living in a fascinating time, where AI’s rapid progress challenges our definitions of intelligence and creativity!**\n",
        "\n",
        "\n",
        "<br><br>"
      ],
      "metadata": {
        "id": "dtcBswtz6M7y"
      }
    },
    {
      "cell_type": "markdown",
      "source": [
        "# Submitting...\n",
        "\n",
        "Be sure to submit the url of _your_ copy -- with the challenges, questions, and programs composed --\n",
        "+ to Canvas in the appropriate spot\n",
        "+ by the appropriate Frisay evening (any time)\n",
        "+ shared with me (ZD)  ``zdodds@gmail.com``\n",
        "\n",
        "Remember that there is lots of tutoring support, as well as office-hour support available...  \n",
        "\n",
        "<br>\n",
        "\n",
        "\n",
        "As a reminder, the programming parts of IST341 match the spirit of the course, in seeking, among other things:\n",
        "+ creativity/novelty\n",
        "+ personalization/individual context\n",
        "+ exploration and understanding (does it run?)"
      ],
      "metadata": {
        "id": "rNHGo2zHWUuo"
      }
    }
  ],
  "metadata": {
    "colab": {
      "provenance": []
    },
    "kernelspec": {
      "display_name": "Python 3",
      "name": "python3"
    },
    "language_info": {
      "name": "python"
    }
  },
  "nbformat": 4,
  "nbformat_minor": 0
}