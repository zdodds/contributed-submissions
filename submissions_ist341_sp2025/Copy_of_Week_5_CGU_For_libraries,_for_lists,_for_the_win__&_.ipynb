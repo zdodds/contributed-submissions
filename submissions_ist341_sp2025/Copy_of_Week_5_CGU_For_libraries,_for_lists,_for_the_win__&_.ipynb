{
  "cells": [
    {
      "cell_type": "markdown",
      "source": [
        "# IST 341: Hi, everyone!\n",
        "\n",
        "### Assignment <u>5</u> Notebook: &nbsp; _For Lists_\n",
        "\n",
        "... and for the win, since _For Lists_ are Python's \"best feature\"\n",
        "\n",
        "Featuring:\n",
        "+ _For Lists_, aka _List Comprehensions_\n",
        "+ the <tt>for</tt> syntax, used for looping\n",
        "+ _Applications_: lots!\n",
        "  + functions of many sorts\n",
        "  + estimating pi-from-pie (well, pi-from-circles-and-darts!) and other simulations...\n",
        "  + incorporating <tt>libraries</tt> into our code! Here, it's <tt>requests</tt> (Yay!)\n",
        "+ plus, there is a reading-with-response that invites thinking about _algorithmic fairness and bias_\n",
        "  + a topic that is _increasingly_ important -- and pertinent!"
      ],
      "metadata": {
        "id": "UrkiOTiDEjwp"
      }
    },
    {
      "cell_type": "markdown",
      "source": [
        "### <font color=\"FireBrick\"><b>Overview of this week's Python Notebook</b> (this notebook)</font>\n",
        "\n",
        "**Last week** introduced the \"first-rest\" pattern that\n",
        "+ composed functions to \"process one element\" and then \"continue the process...\"\n",
        "+ this was a starting example of using loops\n",
        "\n",
        "<br>\n",
        "\n",
        "**This week** we emphasize lists and <tt>for</tt> syntax:\n",
        "+ Together, these _\"For Lists\"_ are elegant and powerful\n",
        "+ Python's official name for them is _List Comprehensions_\n",
        "+ They expand the power and variety of simulation-and-analysis that we can take on ...\n",
        "+ Plus, remember that the _next_ assignment will be a **Looping** challenge that uses [PythonBat](https://codingbat.com/python)\n",
        "  + You won't put the PythonBat functions into a notebook...\n",
        "\n",
        "<br>\n",
        "\n",
        "Let's dive in!"
      ],
      "metadata": {
        "id": "NoXM4SE7QVPh"
      }
    },
    {
      "cell_type": "code",
      "source": [
        "#\n",
        "# live demo\n",
        "#\n",
        "\n",
        "print(\"HI!\")\n"
      ],
      "metadata": {
        "id": "05XMc-9MoXsQ",
        "colab": {
          "base_uri": "https://localhost:8080/"
        },
        "outputId": "7627d0ee-aa2b-4c10-8f10-0f046c56d268"
      },
      "execution_count": null,
      "outputs": [
        {
          "output_type": "stream",
          "name": "stdout",
          "text": [
            "HI!\n"
          ]
        }
      ]
    },
    {
      "cell_type": "markdown",
      "source": [
        "### <font color=\"DodgerBlue\"><b>Make your own copy of this notebook (as in each week)</b></font>\n",
        "\n",
        "**Submitting** -- When you're ready to submit, be sure to\n",
        "+ **share** the notebook with me at\n",
        "   + `zdodds@gmail.com`\n",
        "+ and also **submit** the url to your notebook at the appropriate spot on Canvas\n",
        "\n",
        "That makes it easiest to read and run!"
      ],
      "metadata": {
        "id": "M7dzL4m4fPYf"
      }
    },
    {
      "cell_type": "markdown",
      "source": [
        "# Lists!\n",
        "\n",
        "We have done a lot with strings so far, but there is an even more general sequence datatype: **lists**.  \n",
        "\n",
        "This week, we will emphasize lists, starting with five built-in functions:\n",
        "+ ``len(L)`` returns the length of a list ``L``\n",
        "+ ``max(L)`` returns ``L``'s largest element and ``min`` returns ``L``'s smallest element\n",
        "+ ``sum(L)`` adds up all of the elements (if they're numbers; if not, it's an error)\n",
        "+ ``range(low,hi)`` creates lists from ``low`` up to but not including ``hi``\n",
        "\n",
        "Try them out:"
      ],
      "metadata": {
        "id": "avPkcx0jJrJG"
      }
    },
    {
      "cell_type": "code",
      "source": [
        "L = [ 'CGU', 'CMC', 'PIT', 'SCR', 'POM', 'HMC' ]\n",
        "print(\"len(L) is\", len(L))     # just for fun, try max and min of this L:  We win! (Why?!)\n",
        "print(\"max(L) is\", max(L))\n",
        "print(\"min(L) is\", min(L))"
      ],
      "metadata": {
        "id": "b-rEnj4lKyNc",
        "colab": {
          "base_uri": "https://localhost:8080/"
        },
        "outputId": "99d02923-90b8-40ae-9382-0e05c0851b3c"
      },
      "execution_count": null,
      "outputs": [
        {
          "output_type": "stream",
          "name": "stdout",
          "text": [
            "len(L) is 6\n",
            "max(L) is SCR\n",
            "min(L) is CGU\n"
          ]
        }
      ]
    },
    {
      "cell_type": "code",
      "source": [
        "L = [1, 2, 40, 3 ]\n",
        "print(\"max(L) is\", max(L))\n",
        "print(\"min(L) is\", min(L))\n",
        "print(\"sum(L) is\", sum(L))"
      ],
      "metadata": {
        "id": "AAp1PLczK_JE",
        "colab": {
          "base_uri": "https://localhost:8080/"
        },
        "outputId": "a60d4179-6659-4585-b24d-848958de4b3d"
      },
      "execution_count": null,
      "outputs": [
        {
          "output_type": "stream",
          "name": "stdout",
          "text": [
            "max(L) is 40\n",
            "min(L) is 1\n",
            "sum(L) is 46\n"
          ]
        }
      ]
    },
    {
      "cell_type": "code",
      "source": [
        "L = range(1,43)\n",
        "print(\"L is\", L)   # Uh oh... it won't create the list unless we tell it to..."
      ],
      "metadata": {
        "id": "dsXFyTKxLj_w",
        "colab": {
          "base_uri": "https://localhost:8080/"
        },
        "outputId": "f02d20b7-9165-4642-ee02-9e9a2bb4cf47"
      },
      "execution_count": null,
      "outputs": [
        {
          "output_type": "stream",
          "name": "stdout",
          "text": [
            "L is range(1, 43)\n"
          ]
        }
      ]
    },
    {
      "cell_type": "code",
      "source": [
        "L = list(range(1,367))  # ask it to create the list values...\n",
        "print(\"L is\", L)  # Aha!"
      ],
      "metadata": {
        "id": "dy9qf_d3MEzf",
        "colab": {
          "base_uri": "https://localhost:8080/"
        },
        "outputId": "ae74fbab-fbe9-4646-b989-a7984c8e8564"
      },
      "execution_count": null,
      "outputs": [
        {
          "output_type": "stream",
          "name": "stdout",
          "text": [
            "L is [1, 2, 3, 4, 5, 6, 7, 8, 9, 10, 11, 12, 13, 14, 15, 16, 17, 18, 19, 20, 21, 22, 23, 24, 25, 26, 27, 28, 29, 30, 31, 32, 33, 34, 35, 36, 37, 38, 39, 40, 41, 42, 43, 44, 45, 46, 47, 48, 49, 50, 51, 52, 53, 54, 55, 56, 57, 58, 59, 60, 61, 62, 63, 64, 65, 66, 67, 68, 69, 70, 71, 72, 73, 74, 75, 76, 77, 78, 79, 80, 81, 82, 83, 84, 85, 86, 87, 88, 89, 90, 91, 92, 93, 94, 95, 96, 97, 98, 99, 100, 101, 102, 103, 104, 105, 106, 107, 108, 109, 110, 111, 112, 113, 114, 115, 116, 117, 118, 119, 120, 121, 122, 123, 124, 125, 126, 127, 128, 129, 130, 131, 132, 133, 134, 135, 136, 137, 138, 139, 140, 141, 142, 143, 144, 145, 146, 147, 148, 149, 150, 151, 152, 153, 154, 155, 156, 157, 158, 159, 160, 161, 162, 163, 164, 165, 166, 167, 168, 169, 170, 171, 172, 173, 174, 175, 176, 177, 178, 179, 180, 181, 182, 183, 184, 185, 186, 187, 188, 189, 190, 191, 192, 193, 194, 195, 196, 197, 198, 199, 200, 201, 202, 203, 204, 205, 206, 207, 208, 209, 210, 211, 212, 213, 214, 215, 216, 217, 218, 219, 220, 221, 222, 223, 224, 225, 226, 227, 228, 229, 230, 231, 232, 233, 234, 235, 236, 237, 238, 239, 240, 241, 242, 243, 244, 245, 246, 247, 248, 249, 250, 251, 252, 253, 254, 255, 256, 257, 258, 259, 260, 261, 262, 263, 264, 265, 266, 267, 268, 269, 270, 271, 272, 273, 274, 275, 276, 277, 278, 279, 280, 281, 282, 283, 284, 285, 286, 287, 288, 289, 290, 291, 292, 293, 294, 295, 296, 297, 298, 299, 300, 301, 302, 303, 304, 305, 306, 307, 308, 309, 310, 311, 312, 313, 314, 315, 316, 317, 318, 319, 320, 321, 322, 323, 324, 325, 326, 327, 328, 329, 330, 331, 332, 333, 334, 335, 336, 337, 338, 339, 340, 341, 342, 343, 344, 345, 346, 347, 348, 349, 350, 351, 352, 353, 354, 355, 356, 357, 358, 359, 360, 361, 362, 363, 364, 365, 366]\n"
          ]
        }
      ]
    },
    {
      "cell_type": "code",
      "source": [
        "print(\"max(L) is\", max(L))    # ... up to but _not_ including the endpoint!"
      ],
      "metadata": {
        "id": "O8OF1BjrMR70",
        "colab": {
          "base_uri": "https://localhost:8080/"
        },
        "outputId": "9ddc4ac6-fcb1-400f-cfae-d8a1bd9b2027"
      },
      "execution_count": null,
      "outputs": [
        {
          "output_type": "stream",
          "name": "stdout",
          "text": [
            "max(L) is 366\n"
          ]
        }
      ]
    },
    {
      "cell_type": "markdown",
      "source": [
        "Nice! &nbsp; Let's put lists to work!\n",
        "\n",
        "<br>\n",
        "\n",
        "### <font color=\"Coral\"><b>Task #1</b></font>: Adding from 1 to 100...\n",
        "\n",
        "In the cell below, combine some of the list functions above to add up all of the numbers from 1 to 100 and print the result.\n",
        "\n",
        "Be sure to _include_ the number 100 in your addition! (What will this require...?!)\n"
      ],
      "metadata": {
        "id": "ZJdyu1n5Mgzm"
      }
    },
    {
      "cell_type": "code",
      "source": [
        "#\n",
        "# Gauss's number: adding from 1 to 100\n",
        "#\n",
        "L=list(range(1,101))\n",
        "print(\"len(L) is\", len(L))\n",
        "print(\"max(L) is\", max(L))\n",
        "print(\"min(L) is\", min(L))\n",
        "print(\"sum(L) is\", sum(L))\n"
      ],
      "metadata": {
        "id": "LEDEazbCNCb5",
        "colab": {
          "base_uri": "https://localhost:8080/"
        },
        "outputId": "aae25613-4743-4e14-df54-090f8725cf3e"
      },
      "execution_count": null,
      "outputs": [
        {
          "output_type": "stream",
          "name": "stdout",
          "text": [
            "len(L) is 100\n",
            "max(L) is 100\n",
            "min(L) is 1\n",
            "sum(L) is 5050\n"
          ]
        }
      ]
    },
    {
      "cell_type": "markdown",
      "source": [
        "Now, let's _add_ another powerful element: the ``for`` keyword:"
      ],
      "metadata": {
        "id": "6GlAqoGFNZJg"
      }
    },
    {
      "cell_type": "markdown",
      "source": [
        "# <b>Example</b>:  ``vwl_once(c) and vwl_all(s)``\n",
        "\n",
        "In last week's notebook, you used ``vwl_once`` and ``vwl_all``:\n",
        "+ ``vwl_once`` scored a vowel as a ``1``, other characters as ``0``\n",
        "+ ``vwl_all`` used ``vwl_once`` to count all vowles in an input string\n",
        "\n",
        "Here is ``vwl_once(c)``. Be sure to run it:\n"
      ],
      "metadata": {
        "id": "9BqFJ1etLRzR"
      }
    },
    {
      "cell_type": "code",
      "source": [
        "# single-character substitution:\n",
        "\n",
        "def vwl_once(c):\n",
        "  \"\"\" vwl_once returns 1 for a single vowel, 0 otherwise\n",
        "  \"\"\"\n",
        "  if c in 'aeiou': return 1\n",
        "  else: return 0\n",
        "\n",
        "# two tests:\n",
        "print(\"vwl_once('a') should be 1 <->\", vwl_once('a'))\n",
        "print(\"vwl_once('b') should be 0 <->\", vwl_once('b'))"
      ],
      "metadata": {
        "id": "1krVLOH0HQsC",
        "colab": {
          "base_uri": "https://localhost:8080/"
        },
        "outputId": "2d9ee8ae-4b89-450d-a8a2-82e1c6a5fc19"
      },
      "execution_count": null,
      "outputs": [
        {
          "output_type": "stream",
          "name": "stdout",
          "text": [
            "vwl_once('a') should be 1 <-> 1\n",
            "vwl_once('b') should be 0 <-> 0\n"
          ]
        }
      ]
    },
    {
      "cell_type": "markdown",
      "source": [
        "This week, we will use a different approach to ``vwl_all``\n",
        "+ The next cell has an example of a _For List_, or _List Comprehension_.\n",
        "+ Try it!\n",
        "+ See if you can tell what it has done"
      ],
      "metadata": {
        "id": "_PtRB7aiHDc4"
      }
    },
    {
      "cell_type": "code",
      "source": [
        "s = \"claremont\"\n",
        "print(\"s is\", s)\n",
        "print()\n",
        "\n",
        "LC = [ vwl_once(c) for c in s ]\n",
        "print(\"LC is\", LC)"
      ],
      "metadata": {
        "id": "LdKzI7ynHL4C",
        "colab": {
          "base_uri": "https://localhost:8080/"
        },
        "outputId": "063c18f2-5e0e-48f8-d596-5363f262a571"
      },
      "execution_count": null,
      "outputs": [
        {
          "output_type": "stream",
          "name": "stdout",
          "text": [
            "s is claremont\n",
            "\n",
            "LC is [0, 0, 1, 0, 1, 0, 1, 0, 0]\n"
          ]
        }
      ]
    },
    {
      "cell_type": "markdown",
      "source": [
        "**Aha!**  Line 5 has created a list ``LC`` that\n",
        "+ contains the output of ``vwl_once`` for each letter in ``s``!\n",
        "\n",
        "_How does it work?_\n",
        "+ it uses the ``for`` keyword to create a _loop_ inside a list\n",
        "  + notice that the whole thing is wrapped in ``[ ]`` square brackets\n",
        "+ it defines a variable ``c``\n",
        "+ it _assigns_ the variable ``c`` to _each element in ``s``_\n",
        "+ and it runs ``vwl_once(c)`` on each\n",
        "\n",
        "``LC`` is a list of all the outputs, one for each input character ``c`` in ``s``\n",
        "\n",
        "Here is a second example:"
      ],
      "metadata": {
        "id": "OqZdoDHnHrJP"
      }
    },
    {
      "cell_type": "code",
      "source": [
        "s = \"audio\"\n",
        "print(\"s is\", s)\n",
        "print()\n",
        "\n",
        "LC = [ vwl_once(c) for c in s ]\n",
        "print(\"LC is\", LC)"
      ],
      "metadata": {
        "id": "vy_huY5WOT7c",
        "colab": {
          "base_uri": "https://localhost:8080/"
        },
        "outputId": "a352729c-a8ac-4978-c4cd-33ee3e2d1cd3"
      },
      "execution_count": null,
      "outputs": [
        {
          "output_type": "stream",
          "name": "stdout",
          "text": [
            "s is audio\n",
            "\n",
            "LC is [1, 1, 0, 1, 1]\n"
          ]
        }
      ]
    },
    {
      "cell_type": "markdown",
      "source": [
        "``audio`` has the vowel-pattern ``[1, 1, 0, 1, 1]``\n",
        "\n",
        "Find more!\n",
        "\n",
        "### <font color=\"Coral\"><b>Task #2</b></font>: More vowel patterns...\n",
        "\n",
        "Below, write four more examples of list comprehensions. <br> Copy-paste-and-edit the examples above.\n",
        "\n",
        "Find English words whose vowel-patterns are\n",
        "+ ``[0, 1, 0, 1, 0]``\n",
        "+ ``[0, 0, 0, 1, 0, 0]``\n",
        "+ ``[1, 0, 1, 1, 0, 0, 1, 0]   # I may need more of this...``\n",
        "+ and one more \"unusual\" pattern of your choice...\n",
        "\n",
        "<br><br>\n",
        "Feel free to"
      ],
      "metadata": {
        "id": "L-BzuGsbOhXc"
      }
    },
    {
      "cell_type": "code",
      "source": [
        "#\n",
        "# feel free to use this cell to check your vowel-patterns.\n",
        "#      This example is a starting point.\n",
        "#      You'll want to copy-paste-and-change it:\n",
        "s = \"audio\"\n",
        "print(\"s is\", s)\n",
        "print()\n",
        "LC = [ vwl_once(c) for c in s ]\n",
        "print(\"LC is\", LC)"
      ],
      "metadata": {
        "id": "ok9LwagFiE8B",
        "colab": {
          "base_uri": "https://localhost:8080/"
        },
        "outputId": "c521cd67-12e8-4959-83bd-8cbd8d134494"
      },
      "execution_count": null,
      "outputs": [
        {
          "output_type": "stream",
          "name": "stdout",
          "text": [
            "s is audio\n",
            "\n",
            "LC is [1, 1, 0, 1, 1]\n"
          ]
        }
      ]
    },
    {
      "cell_type": "code",
      "source": [
        "s = \"Upland\"\n",
        "print(\"s is\", s)\n",
        "print()\n",
        "LC = [ vwl_once(c) for c in s ]\n",
        "print(\"LC is\", LC)"
      ],
      "metadata": {
        "colab": {
          "base_uri": "https://localhost:8080/"
        },
        "id": "rSFBgbY0mxIu",
        "outputId": "ce772e39-859c-4190-f61d-d15773032c9c"
      },
      "execution_count": null,
      "outputs": [
        {
          "output_type": "stream",
          "name": "stdout",
          "text": [
            "s is Upland\n",
            "\n",
            "LC is [0, 0, 0, 1, 0, 0]\n"
          ]
        }
      ]
    },
    {
      "cell_type": "markdown",
      "source": [
        "Let's ``sum``!\n",
        "\n",
        "Along with ``sum``, we can use these ideas to implement ``vwl_all(s)``, which returns the total number of vowels in an input string ``s``:"
      ],
      "metadata": {
        "id": "W8syB1DtQIEt"
      }
    },
    {
      "cell_type": "code",
      "source": [
        "#\n",
        "# vwl_all using this technique\n",
        "#\n",
        "\n",
        "def vwl_all(s):\n",
        "  \"\"\" returns the total # of vowels in s, a string\n",
        "  \"\"\"\n",
        "  LC = [ vwl_once(c) for c in s ]\n",
        "  total = sum(LC)  # add them all up!\n",
        "  return total\n",
        "\n",
        "# two tests:\n",
        "print(\"vwl_all('claremont') should be 3 <->\", vwl_all('claremont'))\n",
        "print(\"vwl_all('caffeine') should be 4 <->\", vwl_all('caffeine'))\n"
      ],
      "metadata": {
        "id": "N2xQq8CsQbBn",
        "colab": {
          "base_uri": "https://localhost:8080/"
        },
        "outputId": "49ed6b44-24e6-45eb-b039-65e44ba845a6"
      },
      "execution_count": null,
      "outputs": [
        {
          "output_type": "stream",
          "name": "stdout",
          "text": [
            "vwl_all('claremont') should be 3 <-> 3\n",
            "vwl_all('caffeine') should be 4 <-> 4\n"
          ]
        }
      ]
    },
    {
      "cell_type": "markdown",
      "source": [
        "### List comprehensions\n",
        "\n",
        "The syntax above is called a _list comprehension_ in Python\n",
        "+ More evocative names might have been possible!\n",
        "+ I would have preferred _For List_\n",
        "+ or, even better, _Fun List_\n",
        "+ (its most common use is running a function on each element)\n",
        "\n",
        "Alas, it's _List Comprehension_\n",
        "+ as a reminder, I'll often use ``LC``\n",
        "+ However, _any_ variable name can be used to name the result\n",
        "\n"
      ],
      "metadata": {
        "id": "pvfJW18zIxqO"
      }
    },
    {
      "cell_type": "markdown",
      "source": [
        "Here is a second example, using ``scrabble`` and an analysis using the results. <br> Then, you'll write two more.\n",
        "\n",
        "### **Example 2**: ``scrabble``\n",
        "+ ``scrabble_one`` returns one letter's score\n",
        "+ ``scrabble_all`` uses a list comprehension to score a full string"
      ],
      "metadata": {
        "id": "3LQkGTOTJk33"
      }
    },
    {
      "cell_type": "code",
      "source": [
        "# scrabble-scoring\n",
        "\n",
        "def scrabble_one(c):\n",
        "  \"\"\" returns the scrabble score of one character, c\n",
        "  \"\"\"\n",
        "  c = c.lower()\n",
        "  if c in 'aeilnorstu':   return 1\n",
        "  elif c in 'dg':         return 2\n",
        "  elif c in 'bcmp':       return 3\n",
        "  elif c in 'fhvwy':      return 4\n",
        "  elif c in 'k':          return 5\n",
        "  elif c in 'jx':         return 8\n",
        "  elif c in 'qz':         return 10\n",
        "  else:                   return 0\n",
        "\n",
        "# tests:\n",
        "print(\"scrabble_one('q') should be 10 <->\", scrabble_one('q'))\n",
        "print(\"scrabble_one('!') should be 0 <->\", scrabble_one('!'))\n",
        "print(\"scrabble_one('u') should be 1 <->\", scrabble_one('u'))"
      ],
      "metadata": {
        "id": "1CnqGkrNS-ts",
        "colab": {
          "base_uri": "https://localhost:8080/"
        },
        "outputId": "05f4c55a-1a5d-4b59-b4e5-6db097deb99e"
      },
      "execution_count": null,
      "outputs": [
        {
          "output_type": "stream",
          "name": "stdout",
          "text": [
            "scrabble_one('q') should be 10 <-> 10\n",
            "scrabble_one('!') should be 0 <-> 0\n",
            "scrabble_one('u') should be 1 <-> 1\n"
          ]
        }
      ]
    },
    {
      "cell_type": "markdown",
      "source": [
        "``scrabble_one`` provides scores, and <br>  ``scrabble_all`` then uses the same pattern as ``vwl_all``:"
      ],
      "metadata": {
        "id": "a_3CwdhzUA5M"
      }
    },
    {
      "cell_type": "code",
      "source": [
        "#\n",
        "# scrabble_all using this technique\n",
        "#\n",
        "\n",
        "def scrabble_all(s):\n",
        "  \"\"\" returns the total scrabble score of s\n",
        "  \"\"\"\n",
        "  LC = [ scrabble_one(c) for c in s ]\n",
        "  total = sum(LC)  # add them all up!\n",
        "  return total\n",
        "\n",
        "\n",
        "# two tests:\n",
        "print(\"scrabble_all('Zany Sci Ten Quiz') should be 46 <->\", scrabble_all('Zany Sci Ten Quiz'))\n",
        "print(\"scrabble_all('Claremont') should be 13 <->\", scrabble_all('Claremont'))\n",
        "print(\"scrabble_all('abcdefghijklmnopqrstuvwxyz!') should be 87 <->\", scrabble_all('abcdefghijklmnopqrstuvwxyz!'))"
      ],
      "metadata": {
        "id": "ble5vYdpUPGL",
        "colab": {
          "base_uri": "https://localhost:8080/"
        },
        "outputId": "ff609997-58ab-48f8-c0bb-5c6619fa40a5"
      },
      "execution_count": null,
      "outputs": [
        {
          "output_type": "stream",
          "name": "stdout",
          "text": [
            "scrabble_all('Zany Sci Ten Quiz') should be 46 <-> 46\n",
            "scrabble_all('Claremont') should be 13 <-> 13\n",
            "scrabble_all('abcdefghijklmnopqrstuvwxyz!') should be 87 <-> 87\n"
          ]
        }
      ]
    },
    {
      "cell_type": "markdown",
      "source": [
        "### <b>Example analysis</b>\n",
        "\n",
        "Using ``scrabble_all`` we analyze the scrabble-score richness of Plankton vs Patrick, both raw score and per-character:\n",
        "\n",
        "\n",
        "\n",
        "\n",
        "\n"
      ],
      "metadata": {
        "id": "S3fIcroiHwp1"
      }
    },
    {
      "cell_type": "code",
      "source": [
        "# Here are the two texts:\n",
        "\n",
        "PLANKTON = \"\"\"I'm As Evil As Ever. I'll Prove It\n",
        "Right Now By Stealing The Krabby Patty Secret Formula.\"\"\"\n",
        "\n",
        "PATRICK = \"\"\"I can't hear you.\n",
        "It's too dark in here.\"\"\""
      ],
      "metadata": {
        "id": "0rNonriYXG0E"
      },
      "execution_count": null,
      "outputs": []
    },
    {
      "cell_type": "code",
      "source": [
        "#\n",
        "# raw scrabble comparison\n",
        "#\n",
        "\n",
        "print(\"PLANKTON, total score:\", scrabble_all(PLANKTON))\n",
        "print(\"PATRICK, total score:\", scrabble_all(PATRICK))"
      ],
      "metadata": {
        "id": "Lgg2ULLRXN99",
        "colab": {
          "base_uri": "https://localhost:8080/"
        },
        "outputId": "96c17e4c-80d0-41bf-ffb7-4470c989bed7"
      },
      "execution_count": null,
      "outputs": [
        {
          "output_type": "stream",
          "name": "stdout",
          "text": [
            "PLANKTON, total score: 121\n",
            "PATRICK, total score: 44\n"
          ]
        }
      ]
    },
    {
      "cell_type": "code",
      "source": [
        "#\n",
        "# per-character (\"average/expected\") scrabble comparison\n",
        "#\n",
        "\n",
        "print(\"PLANKTON, per-char score:\", scrabble_all(PLANKTON)/len(PLANKTON))\n",
        "print(\"PATRICK, per-char score:\", scrabble_all(PATRICK)/len(PATRICK))"
      ],
      "metadata": {
        "id": "pcoLCWciXkrL",
        "colab": {
          "base_uri": "https://localhost:8080/"
        },
        "outputId": "72a5d60b-4f77-45c1-a561-ca6a5a3cfe5b"
      },
      "execution_count": null,
      "outputs": [
        {
          "output_type": "stream",
          "name": "stdout",
          "text": [
            "PLANKTON, per-char score: 1.3595505617977528\n",
            "PATRICK, per-char score: 1.1\n"
          ]
        }
      ]
    },
    {
      "cell_type": "markdown",
      "source": [
        "### Some more list-comprehension examples...\n",
        "\n",
        "Practice with these, then you'll develop an application for analyzing prose..."
      ],
      "metadata": {
        "id": "22bfgVx5wqYI"
      }
    },
    {
      "cell_type": "code",
      "source": [
        "\n",
        "# let's see a \"plain\"  LC   (list comprehension)\n",
        "\n",
        "[ 2*x for x in [0,1,2,3,4,5] ]\n",
        "\n",
        "# it _should_ result in     [0, 2, 4, 6, 8, 10]"
      ],
      "metadata": {
        "id": "Sxd7c-rCwzyn",
        "colab": {
          "base_uri": "https://localhost:8080/"
        },
        "outputId": "b9b146a0-dd44-40e0-d90c-9a4505fe58b4"
      },
      "execution_count": null,
      "outputs": [
        {
          "output_type": "execute_result",
          "data": {
            "text/plain": [
              "[0, 2, 4, 6, 8, 10]"
            ]
          },
          "metadata": {},
          "execution_count": 24
        }
      ]
    },
    {
      "cell_type": "code",
      "source": [
        "\n",
        "# let's see a few more  list comprehensions.  For sure, we can name them:\n",
        "\n",
        "A  =  [ 10*x for x in [0,1,2,3,4,5] if x%2==0]   # notice the \"if\"! (there's no else...)\n",
        "print(A)"
      ],
      "metadata": {
        "id": "wdnNCJfUxAMX",
        "colab": {
          "base_uri": "https://localhost:8080/"
        },
        "outputId": "76c37636-813d-4974-baef-9db62ca00442"
      },
      "execution_count": null,
      "outputs": [
        {
          "output_type": "stream",
          "name": "stdout",
          "text": [
            "[0, 20, 40]\n"
          ]
        }
      ]
    },
    {
      "cell_type": "code",
      "source": [
        "\n",
        "B = [ y*21 for y in list(range(0,3)) ]    # remember what range does?\n",
        "print(B)"
      ],
      "metadata": {
        "id": "YXdY3txdxFjo",
        "colab": {
          "base_uri": "https://localhost:8080/"
        },
        "outputId": "6b018c8c-a321-40cc-ed69-a57c37e6105b"
      },
      "execution_count": null,
      "outputs": [
        {
          "output_type": "stream",
          "name": "stdout",
          "text": [
            "[0, 21, 42]\n"
          ]
        }
      ]
    },
    {
      "cell_type": "code",
      "source": [
        "C = [ s[1] for s in [\"hi\", \"7Cs!\"] ]      # doesn't have to be numbers...\n",
        "print(C)"
      ],
      "metadata": {
        "id": "KtYWuLGrxGRV",
        "colab": {
          "base_uri": "https://localhost:8080/"
        },
        "outputId": "1c950305-43c0-4033-e71b-8979466fb091"
      },
      "execution_count": null,
      "outputs": [
        {
          "output_type": "stream",
          "name": "stdout",
          "text": [
            "['i', 'C']\n"
          ]
        }
      ]
    },
    {
      "cell_type": "code",
      "source": [
        "\n",
        "# Let's try thinking about these...\n",
        "\n",
        "A = [ n+2 for n in   range(40,42) ]\n",
        "print(A)\n",
        "B = [ 42 for z in [0,1,2] ]\n",
        "print(B)\n",
        "C = [ z for z in [42,42] ]\n",
        "print(C)\n",
        "D = [ s[::-2] for s in ['fungic','y!a!y!'] ]\n",
        "print(D)\n",
        "L = [ [len(w),w] for w in  ['Hi','IST'] ]\n",
        "print(L)\n",
        "\n",
        "\n",
        "# then, see if they work the way you predict..."
      ],
      "metadata": {
        "id": "Eoj_EonMxJml",
        "colab": {
          "base_uri": "https://localhost:8080/"
        },
        "outputId": "1d97dd4e-ef31-41d3-dd77-e96f5c795981"
      },
      "execution_count": null,
      "outputs": [
        {
          "output_type": "stream",
          "name": "stdout",
          "text": [
            "[42, 43]\n",
            "[42, 42, 42]\n",
            "[42, 42]\n",
            "['cgu', '!!!']\n",
            "[[2, 'Hi'], [3, 'IST']]\n"
          ]
        }
      ]
    },
    {
      "cell_type": "markdown",
      "source": [
        "_Ok!_  Now to create and apply some of our own...\n",
        "\n"
      ],
      "metadata": {
        "id": "0Ec9EGdzxQ_d"
      }
    },
    {
      "cell_type": "markdown",
      "source": [
        "### <font color=\"Coral\"><b>Task #3</b></font>: Punctuation scoring...\n",
        "\n",
        "_Stylometry_ is a field that quantifies stylistic features of language, especially to identify or characterize a specific author. Many _stylometric_ features have been proposed; one of the most persistent is _punctuation density_.\n",
        "\n",
        "Here, you'll\n",
        "+ use the LC technique to write a function to measure punctuation in a string (prose)\n",
        "+ compare two of your (prose) papers with two of another author's (prose) papers\n",
        "+ see if the results suggest a different _punctuation density_ between your and the other author's styles!\n",
        "+ similar to the sequences we're obtaining from the water-treatment plant, such a small number of samples can suggest whether/how to look further -- but isn't definitive by itself...\n"
      ],
      "metadata": {
        "id": "khE-AiioX2q7"
      }
    },
    {
      "cell_type": "code",
      "source": [
        "#\n",
        "# here, [1] create a function that scores punctuation as 1 and non-punctuation as 0, pun_one\n",
        "#       [2] use the list-comprehension technique to create a punctuation-scoring function, pun_all\n",
        "\n",
        "# use the above examples as a starting point!\n",
        "\n",
        "def pun_once(v):\n",
        "  if v in \"////:;<=\\]\\./:;<'''''>?@[\\\\]^_`{|}~\":\n",
        "     return 1\n",
        "  else:\n",
        "    return 0\n",
        "\n",
        "\n",
        "def pun_all(s):\n",
        "  LC=[pun_once(v) for v in s]\n",
        "  total = sum(LC)\n",
        "  return total\n",
        "\n",
        "\n",
        "\n",
        "\n",
        "# tests\n",
        "print(\"pun_all(PLANKTON) should be 4 <->\", pun_all(PLANKTON))\n",
        "print(\"pun_all(PATRICK) should be 4 <->\", pun_all(PATRICK))\n",
        "# They're more similar, punctuation-wise than scrabble-wise"
      ],
      "metadata": {
        "id": "Oeyk-5dbZZXq",
        "colab": {
          "base_uri": "https://localhost:8080/"
        },
        "outputId": "9bba04b2-4a81-421d-917c-1b0cb9639771"
      },
      "execution_count": null,
      "outputs": [
        {
          "output_type": "stream",
          "name": "stdout",
          "text": [
            "pun_all(PLANKTON) should be 4 <-> 4\n",
            "pun_all(PATRICK) should be 4 <-> 4\n"
          ]
        }
      ]
    },
    {
      "cell_type": "markdown",
      "source": [
        "### An **advantage** of LCs:\n",
        "\n",
        "... is _efficiency_, both faster and more memory-efficient.\n",
        "\n",
        "For stylometric analysis, the more text you have, the more representative the results will be.\n",
        "\n",
        "Lsat time, we used one paragraph. This time, use two full documents:\n",
        "+ Copy-and-paste below two full papers you authored (if they're longer ones, great!)\n",
        "+ Copy-and-paste below two full papers authored by someone else\n",
        "+ Run all four to find the absolute and per-character use of punctuation in your style and the other author's style\n",
        "+ Are they different enough to suggest further investigation?\n",
        "\n"
      ],
      "metadata": {
        "id": "HIh3hTB-aali"
      }
    },
    {
      "cell_type": "markdown",
      "source": [
        "### Suggestions for \"other\" authors?\n",
        "+ exchange papers/prose and compare with a friend (fun!)\n",
        "+ there are lots of other opportunities, e.g.,\n",
        "  + [work by Rosalind Franklin](https://www.nature.com/articles/171740a0)  (likely need to be on campus to access this from Nature)\n",
        "  + [work by Jennifer Doudna](https://www.ncbi.nlm.nih.gov/pmc/articles/PMC6286148/)  (this one _might_ open anywhere)\n",
        "  + [copy a subset of Shakespeare's work](https://ocw.mit.edu/ans7870/6/6.006/s08/lecturenotes/files/t8.shakespeare.txt)  (this is openly available and plain-text)\n",
        "  + Don't worry about weird/unreadable characters\n",
        "    + as long as the results don't crash,\n",
        "    + those characters will likely be ignored by your scoring functions"
      ],
      "metadata": {
        "id": "NcPLA4k8f0ht"
      }
    },
    {
      "cell_type": "code",
      "source": [
        "#\n",
        "# The two works of yours and two of another author's (\"theirs\")\n",
        "#     These can - and should - be large\n",
        "#\n",
        "\n",
        "YOURS1 = \"\"\"  The experiment succeeded after an exhaustive series of trials conducted over eight months in a controlled laboratory environment. Results were clear and unambiguous: efficiency improved by an impressive 20%, a metric derived from rigorous quantitative analysis involving over 500 data points collected across diverse conditions, including variations in temperature, pressure, and sample size. Data confirmed the hypothesis with a p-value of less than 0.01, indicating strong statistical significance, and cross-checks revealed consistent patterns in every subset of the dataset examined, from initial pilot runs to final validations. Further tests are planned to explore additional variables that could refine these outcomes, such as the impact of humidity levels, material composition, and long-term durability under repeated stress, with a detailed timeline established for commencing the next phase of research by mid-2025. The team documented all procedures meticulously in a comprehensive 200-page report, ensuring reproducibility and transparency for peer review. Initial findings suggest potential applications in industrial settings, including manufacturing processes and energy optimization, though more analysis is required to validate these projections across larger scales. Preliminary cost-benefit assessments indicate a favorable return on investment, pending confirmation from extended field trials. Collaborative efforts with external institutions are also under consideration to broaden the scope of this investigation.\n",
        "\"\"\"\n",
        "\n",
        "YOURS2 = \"\"\"  Analysis revealed key trends after processing data from a decade-long survey encompassing over 10,000 records from multiple industries, including technology, agriculture, and healthcare. Growth was steady at 5% annually, a rate calculated from quarterly reports spanning the period from 2015 to 2024, with standard deviations remaining below 1.2% across all years studied. Costs decreased significantly due to optimized resource allocation, streamlined operations, and the adoption of automated systems, with reductions averaging 15% over the decade, peaking at 18% in 2022 following a major restructuring initiative. The method proved reliable across diverse conditions, as evidenced by cross-validation with independent datasets from three separate research groups, achieving a correlation coefficient of 0.95 or higher in each case. Additional insights emerged regarding regional variations, with urban areas showing slightly higher growth rates (5.3%) compared to rural zones (4.7%), though these disparities require further scrutiny to determine causative factors. The findings align closely with economic forecasts published in prior studies and provide a robust foundation for strategic planning in the coming years, particularly for budgeting and workforce allocation. Supplementary analyses, including regression models and time-series projections, are scheduled to refine these conclusions by the end of the current fiscal quarter.\n",
        "\"\"\"\n",
        "\n",
        "THEIRS1 = \"\"\"  Oh, what a triumph resounded through the hallowed halls of science, a victory so resplendent it could illuminate the darkest abyss! The grand experiment, fraught with peril and shadowed by the specter of failure—a foe most formidable—emerged victorious against all odds, nay, against the very fabric of fate itself; yes, victorious, I proclaim with a heart ablaze! Efficiency soared—oh, how it soared!—to heights untold, a breathtaking 20% beyond our wildest, most fanciful dreams, as if propelled by the wings of destiny, lifted by the gales of genius through storms of doubt and tempests of trial! The trials, numerous and arduous, unfolded over weeks—nay, months!—of relentless endeavor, each moment teetering on the brink of collapse, each hour a battle against chaos, yet culminating in glory everlasting! More trials await us, a clarion call to conquer new frontiers, to wrest secrets from the universe’s grasp with unyielding fervor, to march boldly where none have trod before! The chronicles of this saga, etched in sweat and ink across tomes voluminous, shall echo through the ages as a testament to human audacity, a beacon for generations yet unborn! And lo, the machinery hummed, the data streamed, the nights bled into days—five hundred samples tested, a thousand calculations wrought—until the truth shone forth, undeniable, radiant, a crown upon our weary brows!\n",
        "\"\"\"\n",
        "\n",
        "THEIRS2 = \"\"\"  Behold the revelation, a spectacle to dazzle the mind and soul, a pageant of truth unfurled across the grand stage of existence! Trends, glorious and undeniable, danced before our eyes in a whirlwind of splendor; growth, a majestic 5% each year, unfurled its radiant banner across the vast tapestry of time—a decade, ten glorious years, from 2015 to 2024—stretching forth like a river of gold through the annals of history! Costs? They plummeted—oh, how they fell!—like titans cast down from the heavens, a staggering descent wrought by ingenuity and grit, slashing expenses by margins that defy belief, peaking at 18% in the year of our lord 2022, a fall so mighty it shook the earth! The method reigns supreme, a sovereign unchallenged, its prowess proven in the fiery crucible of scrutiny, tested across realms and seasons, validated by sages three—independent minds who sang its praises with correlations nigh unto perfection! And yet, whispers of deeper mysteries tease us: regional quirks, subtle anomalies—urban realms soaring to 5.3%, rural vales lagging at 4.7%— enigmas begging exploration, riddles to unravel with the zeal of knights questing for the grail! Lo, the saga continues, a grand ode to discovery that shall resound eternally, inscribed in ledgers vast, its echoes reverberating through the corridors of time immortal!\n",
        "\"\"\""
      ],
      "metadata": {
        "id": "bnbtW18FdGbe"
      },
      "execution_count": null,
      "outputs": []
    },
    {
      "cell_type": "code",
      "source": [
        "len(THEIRS2)"
      ],
      "metadata": {
        "id": "DBq9xxixhMCU",
        "colab": {
          "base_uri": "https://localhost:8080/"
        },
        "outputId": "35aed02c-4c4e-4add-feb1-90c155d4e73c"
      },
      "execution_count": null,
      "outputs": [
        {
          "output_type": "execute_result",
          "data": {
            "text/plain": [
              "1342"
            ]
          },
          "metadata": {},
          "execution_count": 46
        }
      ]
    },
    {
      "cell_type": "code",
      "source": [
        "#\n",
        "# Here, run your punctuation-comparisons (absolute counts)\n",
        "#\n",
        "print(\"Punctuation count for YOURS1 :\", pun_all(YOURS1))\n",
        "print(\"Punctuation count for YOURS2 :\", pun_all(YOURS2))\n",
        "print(\"Punctuation count for THEIRS1:\", pun_all(THEIRS1))\n",
        "print(\"Punctuation count for THEIRS2:\", pun_all(THEIRS2))\n"
      ],
      "metadata": {
        "id": "LuPv_mZ5dVS-",
        "colab": {
          "base_uri": "https://localhost:8080/"
        },
        "outputId": "97c0b244-8b17-45f6-ee0b-800e3c39ef71"
      },
      "execution_count": null,
      "outputs": [
        {
          "output_type": "stream",
          "name": "stdout",
          "text": [
            "Punctuation count for YOURS1 : 10\n",
            "Punctuation count for YOURS2 : 11\n",
            "Punctuation count for THEIRS1: 1\n",
            "Punctuation count for THEIRS2: 5\n"
          ]
        }
      ]
    },
    {
      "cell_type": "code",
      "source": [
        "#\n",
        "# Here, run your punctuation-comparisons (relative, per-character counts)\n",
        "#\n",
        "print(pun_all(YOURS1),\":\",pun_all(YOURS1)/len(YOURS1))\n",
        "print(pun_all(YOURS2),\":\",pun_all(YOURS2)/len(YOURS2))\n",
        "print(pun_all(THEIRS1),\":\",pun_all(THEIRS1)/len(THEIRS1))\n",
        "print(pun_all(THEIRS2),\":\",pun_all(THEIRS2)/len(THEIRS2))\n"
      ],
      "metadata": {
        "id": "aa7OXaM3eIqO",
        "colab": {
          "base_uri": "https://localhost:8080/"
        },
        "outputId": "b2d9be0a-37f2-4994-96f0-d9d801c6eb3e"
      },
      "execution_count": null,
      "outputs": [
        {
          "output_type": "stream",
          "name": "stdout",
          "text": [
            "10 : 0.00649772579597141\n",
            "11 : 0.007617728531855956\n",
            "1 : 0.000724112961622013\n",
            "5 : 0.0037257824143070045\n"
          ]
        }
      ]
    },
    {
      "cell_type": "markdown",
      "source": [
        "If you'd like to try some additional stylistic-analysis, <br> see the \"Emotional Punctuation\" extra crdit (at the bottom of the notebook...)\n",
        "\n",
        "\n",
        "\n"
      ],
      "metadata": {
        "id": "_t4sXUfRs2g-"
      }
    },
    {
      "cell_type": "markdown",
      "source": [
        "### Next, we use list comprehensions for _analysis_:\n",
        "+ the number-guessing game\n",
        "+ the two-dice-rolling experiment (counting \"doubles\")\n",
        "+ the birthday-room experiment\n",
        "+ the Monty Hall (three-curtain) game, switch vs. stay...\n",
        "+ the random-walk **you'll analyze these**\n",
        "+ estimating pi **you'll _write_ and analyze these** !\n",
        "\n",
        "Onward!"
      ],
      "metadata": {
        "id": "jzQVp6yF6kgn"
      }
    },
    {
      "cell_type": "code",
      "source": [
        "#\n",
        "# Example while loop: the \"guessing game\"\n",
        "#\n",
        "\n",
        "from random import *\n",
        "\n",
        "def guess( hidden ):\n",
        "    \"\"\"\n",
        "        have the computer guess numbers until it gets the \"hidden\" value\n",
        "        return the number of guesses\n",
        "    \"\"\"\n",
        "    guess = hidden - 1      # start with a wrong guess + don't count it as a guess\n",
        "    number_of_guesses = 0   # start with no guesses made so far...\n",
        "\n",
        "    while guess != hidden:\n",
        "        #print(\"I guess\", guess)  # comment this out - avoid printing when analyzing!\n",
        "        guess = choice( range(0,100) )  # 0 to 99, inclusive\n",
        "        number_of_guesses += 1\n",
        "\n",
        "    return number_of_guesses\n",
        "\n",
        "# test our function!\n",
        "guess(42)"
      ],
      "metadata": {
        "id": "cTCBx52m6sCR",
        "colab": {
          "base_uri": "https://localhost:8080/"
        },
        "outputId": "a8be5db0-9cf2-416f-f8e5-02cc0eeda923"
      },
      "execution_count": null,
      "outputs": [
        {
          "output_type": "execute_result",
          "data": {
            "text/plain": [
              "127"
            ]
          },
          "metadata": {},
          "execution_count": 49
        }
      ]
    },
    {
      "cell_type": "code",
      "source": [
        "# Let's run 10 number-guessing experiments!\n",
        "\n",
        "L = [ guess(42) for i in range(10) ]\n",
        "print(L)\n",
        "\n",
        "# 10 experiments: let's see them!!"
      ],
      "metadata": {
        "id": "6Vc1kZxz6zwa",
        "colab": {
          "base_uri": "https://localhost:8080/"
        },
        "outputId": "208cff2d-e902-40e8-c088-fe85fb772bbe"
      },
      "execution_count": null,
      "outputs": [
        {
          "output_type": "stream",
          "name": "stdout",
          "text": [
            "[170, 18, 106, 185, 304, 32, 20, 266, 193, 7]\n"
          ]
        }
      ]
    },
    {
      "cell_type": "code",
      "source": [
        "# Let's see what the average results were\n",
        "print(\"len(L) is\", len(L))\n",
        "ave = sum(L)/len(L)\n",
        "print(\"average is\", ave )\n",
        "\n",
        "# try min and max, count of 42's, count of 92's, etc.\n",
        "print(L)\n",
        "print(\"max(L) is\", max(L))\n",
        "print(\"min(L) is\", min(L))"
      ],
      "metadata": {
        "id": "aseFoD1P63US",
        "colab": {
          "base_uri": "https://localhost:8080/"
        },
        "outputId": "4b67da5b-3b41-4430-a244-e52148788605"
      },
      "execution_count": null,
      "outputs": [
        {
          "output_type": "stream",
          "name": "stdout",
          "text": [
            "len(L) is 10\n",
            "average is 130.1\n",
            "[170, 18, 106, 185, 304, 32, 20, 266, 193, 7]\n",
            "max(L) is 304\n",
            "min(L) is 7\n"
          ]
        }
      ]
    },
    {
      "cell_type": "markdown",
      "source": [
        "### Next, an example with our dice-rolling experiment..."
      ],
      "metadata": {
        "id": "OlW1n-SZ66kW"
      }
    },
    {
      "cell_type": "code",
      "source": [
        "#\n",
        "# Let's try again... with the dice-rolling experiment\n",
        "#\n",
        "\n",
        "from random import choice\n",
        "\n",
        "def count_doubles( num_rolls ):\n",
        "    \"\"\"\n",
        "        have the computer roll two six-sided dice, counting the # of doubles\n",
        "        (same value on both dice)\n",
        "        Then, return the number of doubles...\n",
        "    \"\"\"\n",
        "    numdoubles = 0       # start with no doubles so far...\n",
        "\n",
        "    for i in range(0,num_rolls):   # roll repeatedly: i keeps track\n",
        "        d1 = choice( [1,2,3,4,5,6] )  # 0 to 6, inclusive\n",
        "        d2 = choice( range(1,7) )     # 0 to 6, inclusive\n",
        "        if d1 == d2:\n",
        "            numdoubles += 1\n",
        "            you = \"🙂\"\n",
        "        else:\n",
        "            you = \" \"\n",
        "\n",
        "        #print(\"run\", i, \"roll:\", d1, d2, you, flush=True)\n",
        "        #time.sleep(.01)\n",
        "\n",
        "    return numdoubles\n",
        "\n",
        "# test our function!\n",
        "count_doubles(300)"
      ],
      "metadata": {
        "id": "9Qle_IDf7YTU",
        "colab": {
          "base_uri": "https://localhost:8080/"
        },
        "outputId": "c698adad-a44c-42fa-ae6d-6cf54e252817"
      },
      "execution_count": null,
      "outputs": [
        {
          "output_type": "execute_result",
          "data": {
            "text/plain": [
              "54"
            ]
          },
          "metadata": {},
          "execution_count": 53
        }
      ]
    },
    {
      "cell_type": "code",
      "source": [
        "L = [ count_doubles(300) for i in range(1000) ]\n",
        "print(\"doubles-counting: L[0:5] are\", L[0:5])\n",
        "print(\"doubles-counting: L[-5:] are\", L[-5:])\n",
        "#\n",
        "# Let's see what the average results were\n",
        "print(\"len(L) is\", len(L))\n",
        "ave = sum(L)/len(L)\n",
        "print(\"average is\", ave )\n",
        "\n",
        "# try min and max, count of 42's, count of 92's, etc.\n",
        "print(L)\n",
        "print(\"max(L) is\", max(L))\n",
        "print(\"min(L) is\", min(L))"
      ],
      "metadata": {
        "id": "6tX-dj3m7hVW",
        "colab": {
          "base_uri": "https://localhost:8080/"
        },
        "outputId": "60d9e0aa-a699-4c85-9750-27a3b7d5f974"
      },
      "execution_count": null,
      "outputs": [
        {
          "output_type": "stream",
          "name": "stdout",
          "text": [
            "doubles-counting: L[0:5] are [42, 49, 52, 60, 50]\n",
            "doubles-counting: L[-5:] are [60, 59, 55, 48, 54]\n",
            "len(L) is 1000\n",
            "average is 49.883\n",
            "[42, 49, 52, 60, 50, 46, 55, 47, 40, 43, 36, 43, 45, 45, 46, 54, 47, 50, 51, 41, 60, 54, 55, 58, 56, 59, 52, 55, 38, 50, 51, 61, 47, 55, 58, 53, 41, 44, 46, 44, 47, 49, 55, 54, 43, 64, 43, 50, 54, 50, 51, 44, 54, 40, 51, 48, 49, 46, 52, 47, 46, 53, 52, 54, 49, 51, 40, 58, 55, 52, 53, 65, 65, 45, 47, 42, 53, 49, 39, 58, 42, 60, 40, 48, 41, 51, 54, 44, 44, 45, 41, 44, 42, 56, 59, 49, 64, 46, 46, 50, 36, 63, 50, 52, 53, 43, 49, 53, 42, 59, 52, 46, 54, 56, 54, 46, 37, 40, 49, 48, 41, 46, 48, 48, 48, 51, 40, 40, 46, 48, 42, 53, 62, 51, 42, 48, 53, 49, 49, 54, 38, 45, 42, 40, 38, 41, 60, 45, 48, 47, 46, 45, 58, 54, 70, 55, 63, 50, 51, 63, 61, 48, 53, 54, 58, 48, 53, 37, 33, 46, 42, 77, 53, 54, 52, 59, 47, 50, 65, 64, 38, 57, 53, 53, 51, 53, 53, 51, 61, 50, 45, 52, 46, 53, 56, 55, 48, 57, 56, 55, 47, 43, 38, 48, 58, 43, 43, 52, 61, 46, 53, 66, 55, 48, 51, 63, 43, 48, 46, 46, 46, 45, 57, 48, 50, 48, 50, 53, 66, 47, 68, 59, 57, 47, 49, 48, 52, 47, 45, 56, 53, 63, 53, 36, 45, 45, 57, 41, 61, 44, 58, 44, 56, 54, 54, 51, 50, 52, 65, 50, 43, 52, 49, 58, 44, 51, 57, 47, 46, 47, 40, 45, 58, 38, 49, 49, 48, 49, 42, 60, 46, 49, 45, 61, 39, 54, 55, 48, 60, 45, 47, 49, 56, 53, 56, 44, 46, 52, 48, 59, 49, 50, 55, 42, 48, 45, 60, 48, 55, 46, 41, 54, 52, 45, 55, 59, 46, 51, 46, 52, 48, 38, 55, 57, 47, 60, 46, 56, 49, 43, 59, 51, 42, 46, 48, 50, 64, 40, 56, 47, 43, 48, 46, 52, 38, 47, 47, 47, 39, 49, 57, 52, 36, 46, 56, 40, 49, 47, 51, 44, 62, 49, 54, 48, 45, 33, 53, 39, 56, 66, 46, 39, 44, 40, 34, 62, 49, 47, 54, 53, 51, 48, 51, 50, 43, 62, 61, 51, 46, 48, 53, 48, 51, 52, 55, 60, 48, 46, 58, 49, 48, 50, 43, 58, 48, 59, 58, 48, 44, 49, 54, 39, 53, 51, 57, 67, 52, 44, 48, 54, 42, 48, 53, 46, 43, 44, 44, 49, 50, 45, 60, 59, 48, 42, 48, 55, 45, 47, 38, 51, 49, 50, 47, 49, 50, 54, 38, 51, 40, 56, 59, 58, 53, 47, 41, 52, 47, 60, 55, 52, 54, 41, 45, 48, 45, 49, 61, 41, 52, 59, 49, 43, 57, 52, 48, 51, 51, 56, 44, 63, 44, 36, 56, 58, 44, 63, 58, 51, 51, 49, 45, 55, 49, 52, 61, 48, 63, 51, 40, 45, 45, 51, 45, 57, 61, 41, 59, 55, 47, 43, 56, 38, 53, 36, 49, 35, 44, 52, 47, 53, 64, 53, 46, 52, 43, 55, 48, 38, 47, 44, 45, 46, 45, 37, 52, 48, 58, 52, 43, 39, 40, 40, 57, 44, 50, 35, 56, 49, 48, 51, 50, 56, 47, 51, 51, 57, 60, 58, 42, 45, 51, 48, 57, 50, 48, 52, 46, 50, 48, 65, 46, 51, 45, 56, 42, 47, 54, 54, 49, 53, 52, 48, 43, 48, 58, 59, 57, 46, 47, 57, 53, 46, 52, 47, 44, 55, 47, 37, 43, 46, 59, 69, 50, 48, 61, 52, 39, 52, 47, 54, 55, 52, 49, 47, 46, 45, 69, 50, 56, 54, 55, 47, 50, 51, 36, 52, 46, 45, 51, 51, 59, 43, 52, 48, 48, 49, 54, 59, 48, 52, 47, 47, 50, 43, 35, 42, 57, 42, 51, 66, 37, 46, 43, 48, 55, 42, 42, 51, 55, 44, 53, 57, 43, 52, 47, 58, 50, 51, 37, 48, 48, 43, 42, 56, 54, 52, 37, 42, 58, 48, 60, 40, 58, 49, 39, 39, 55, 62, 58, 49, 44, 67, 58, 54, 48, 42, 47, 43, 56, 54, 45, 47, 51, 57, 43, 51, 50, 49, 53, 41, 38, 46, 57, 52, 53, 52, 55, 52, 62, 41, 54, 47, 56, 48, 53, 50, 48, 49, 44, 54, 64, 55, 53, 49, 54, 48, 49, 43, 43, 50, 44, 50, 44, 45, 42, 60, 48, 44, 50, 40, 68, 52, 42, 43, 48, 56, 65, 57, 48, 62, 55, 45, 57, 55, 45, 50, 46, 39, 50, 43, 40, 46, 61, 39, 54, 44, 51, 58, 38, 46, 48, 45, 62, 40, 47, 51, 47, 44, 44, 60, 38, 54, 55, 51, 51, 41, 49, 55, 57, 53, 47, 52, 51, 51, 45, 49, 54, 54, 47, 59, 48, 45, 41, 70, 48, 48, 50, 55, 40, 55, 50, 58, 56, 50, 52, 52, 52, 43, 52, 55, 64, 53, 51, 39, 39, 52, 47, 49, 38, 49, 55, 45, 52, 48, 48, 53, 49, 46, 45, 43, 48, 50, 53, 60, 43, 55, 34, 50, 45, 47, 61, 52, 43, 57, 45, 51, 53, 42, 62, 51, 60, 48, 66, 51, 58, 42, 47, 69, 58, 53, 69, 47, 44, 51, 46, 52, 43, 51, 47, 48, 43, 50, 52, 68, 43, 63, 47, 51, 42, 60, 53, 48, 44, 50, 53, 50, 52, 43, 47, 50, 45, 38, 60, 57, 50, 55, 47, 43, 42, 47, 44, 42, 41, 56, 57, 50, 46, 40, 47, 51, 50, 54, 50, 55, 60, 40, 46, 46, 46, 49, 50, 60, 39, 48, 53, 60, 51, 58, 43, 45, 52, 48, 44, 59, 46, 37, 49, 45, 47, 42, 43, 52, 55, 47, 43, 56, 41, 52, 46, 60, 47, 50, 55, 51, 51, 55, 57, 49, 38, 56, 49, 52, 46, 50, 47, 35, 51, 45, 60, 63, 49, 57, 47, 57, 38, 60, 59, 55, 48, 54]\n",
            "max(L) is 77\n",
            "min(L) is 33\n"
          ]
        }
      ]
    },
    {
      "cell_type": "markdown",
      "source": [
        "### Let's try the birthday-room..."
      ],
      "metadata": {
        "id": "YKyjzTAc7mHs"
      }
    },
    {
      "cell_type": "code",
      "source": [
        "\n",
        "# let's try our birthday-room experiment:\n",
        "\n",
        "from random import choice\n",
        "\n",
        "def birthday_room( days_in_year = 365 ):    # note: default input!\n",
        "    \"\"\"\n",
        "        run the birthday room experiment once!\n",
        "    \"\"\"\n",
        "    B = []\n",
        "    next_bday = choice( range(0,days_in_year) )\n",
        "\n",
        "    while next_bday not in B:\n",
        "        B += [ next_bday ]\n",
        "        next_bday = choice( range(0,days_in_year) )\n",
        "\n",
        "    B += [ next_bday ]\n",
        "    return B\n",
        "\n",
        "\n",
        "\n",
        "# test our three-curtain-game, many times:\n",
        "result = birthday_room()   # use the default value\n",
        "print(result)"
      ],
      "metadata": {
        "id": "cy-ChVtH7w98",
        "colab": {
          "base_uri": "https://localhost:8080/"
        },
        "outputId": "2c5ae5c2-049e-4dd4-fceb-78fdf87ef6a8"
      },
      "execution_count": null,
      "outputs": [
        {
          "output_type": "stream",
          "name": "stdout",
          "text": [
            "[343, 300, 23, 352, 274, 287, 116, 207, 139, 231, 85, 214, 80, 56, 327, 318, 322, 83, 238, 235, 266, 2, 5, 275, 166, 235]\n"
          ]
        }
      ]
    },
    {
      "cell_type": "code",
      "source": [
        "\n",
        "L = [ len(birthday_room()) for i in range(1000) ]\n",
        "print(\"birthday room: L[0:5] are\", L[0:5])\n",
        "print(\"birthday room: L[-5:] are\", L[-5:])\n",
        "#\n",
        "# Let's see what the average results were\n",
        "print(\"len(L) is\", len(L))\n",
        "ave = sum(L)/len(L)\n",
        "print(\"average is\", ave )\n",
        "\n",
        "# try min and max, count of 42's, count of 92's, etc.\n",
        "print(L)\n",
        "print(\"max(L) is\", max(L))\n",
        "print(\"min(L) is\", min(L))"
      ],
      "metadata": {
        "id": "HZVqUUnS76MF",
        "colab": {
          "base_uri": "https://localhost:8080/"
        },
        "outputId": "58cfb9b9-4928-4b91-950e-fbc490010914"
      },
      "execution_count": null,
      "outputs": [
        {
          "output_type": "stream",
          "name": "stdout",
          "text": [
            "birthday room: L[0:5] are [13, 29, 9, 19, 30]\n",
            "birthday room: L[-5:] are [23, 8, 25, 32, 41]\n",
            "len(L) is 1000\n",
            "average is 24.995\n",
            "[13, 29, 9, 19, 30, 9, 21, 18, 17, 38, 6, 27, 29, 25, 9, 17, 6, 10, 13, 6, 45, 11, 26, 47, 17, 12, 50, 28, 16, 12, 22, 15, 13, 45, 28, 15, 33, 31, 20, 38, 18, 59, 48, 32, 42, 24, 22, 29, 29, 27, 15, 36, 20, 15, 9, 13, 22, 29, 22, 30, 49, 42, 26, 33, 38, 29, 26, 2, 64, 21, 6, 60, 20, 36, 13, 22, 32, 21, 11, 38, 30, 29, 24, 33, 23, 46, 23, 36, 22, 32, 28, 22, 26, 51, 17, 19, 16, 38, 14, 20, 11, 45, 10, 21, 11, 20, 34, 31, 28, 28, 32, 14, 41, 21, 19, 28, 39, 23, 13, 22, 23, 18, 16, 2, 41, 16, 34, 28, 24, 33, 27, 21, 28, 10, 33, 16, 40, 28, 43, 18, 19, 21, 33, 6, 24, 22, 8, 30, 23, 17, 3, 21, 18, 13, 20, 23, 42, 27, 24, 26, 13, 12, 6, 28, 25, 14, 6, 17, 46, 20, 28, 40, 35, 3, 24, 21, 43, 48, 19, 20, 17, 30, 38, 30, 13, 27, 19, 25, 55, 33, 27, 22, 26, 12, 18, 44, 28, 12, 11, 19, 36, 28, 37, 36, 13, 54, 28, 18, 19, 25, 39, 31, 23, 3, 45, 43, 8, 9, 23, 13, 42, 22, 35, 14, 26, 34, 16, 18, 31, 18, 16, 24, 11, 54, 13, 29, 11, 27, 17, 28, 23, 32, 20, 13, 24, 32, 20, 27, 11, 25, 17, 33, 57, 43, 25, 7, 26, 32, 39, 12, 37, 41, 33, 13, 44, 20, 32, 35, 17, 48, 37, 12, 12, 15, 22, 48, 10, 27, 24, 19, 16, 19, 31, 24, 14, 44, 39, 37, 10, 29, 34, 15, 32, 28, 20, 26, 48, 8, 49, 28, 28, 38, 32, 21, 12, 39, 21, 42, 31, 8, 13, 45, 21, 13, 20, 36, 19, 35, 25, 4, 54, 18, 41, 22, 32, 54, 23, 31, 37, 25, 4, 45, 9, 23, 15, 21, 10, 17, 24, 23, 54, 24, 61, 18, 14, 22, 19, 32, 4, 4, 44, 31, 18, 72, 24, 17, 25, 15, 11, 14, 7, 31, 17, 29, 49, 48, 32, 22, 41, 30, 9, 6, 34, 24, 31, 58, 23, 30, 51, 28, 20, 44, 19, 15, 20, 14, 49, 13, 18, 23, 33, 39, 20, 40, 19, 19, 27, 27, 30, 17, 45, 34, 7, 40, 14, 17, 24, 45, 35, 25, 28, 8, 36, 22, 13, 34, 22, 30, 27, 49, 46, 21, 18, 26, 33, 31, 12, 15, 39, 20, 10, 13, 30, 9, 20, 40, 22, 4, 19, 19, 28, 15, 26, 10, 11, 32, 8, 18, 32, 31, 44, 6, 37, 23, 11, 35, 18, 16, 12, 42, 23, 28, 37, 17, 53, 20, 44, 30, 28, 38, 30, 11, 26, 25, 49, 9, 50, 14, 46, 19, 13, 31, 14, 33, 10, 21, 31, 17, 29, 14, 37, 39, 28, 22, 33, 18, 10, 11, 13, 18, 28, 15, 17, 13, 34, 27, 28, 29, 18, 32, 32, 21, 11, 29, 27, 30, 41, 8, 27, 28, 13, 34, 37, 12, 42, 27, 8, 23, 17, 15, 15, 17, 26, 3, 43, 50, 27, 25, 29, 12, 16, 9, 21, 47, 17, 29, 26, 21, 14, 12, 35, 31, 19, 7, 21, 23, 15, 32, 26, 29, 9, 18, 32, 18, 8, 19, 21, 31, 45, 26, 32, 5, 49, 16, 34, 23, 10, 9, 28, 15, 27, 29, 28, 51, 27, 23, 11, 47, 52, 34, 20, 21, 31, 7, 13, 46, 35, 49, 29, 18, 12, 41, 13, 18, 22, 26, 14, 30, 22, 9, 15, 16, 10, 21, 76, 7, 42, 15, 27, 47, 10, 20, 6, 25, 13, 10, 55, 12, 13, 37, 28, 28, 11, 15, 13, 5, 36, 21, 28, 18, 27, 21, 17, 38, 38, 29, 52, 22, 11, 24, 11, 18, 17, 30, 17, 27, 33, 20, 25, 3, 34, 23, 47, 22, 44, 46, 12, 11, 23, 25, 6, 42, 10, 9, 11, 27, 16, 32, 16, 23, 26, 52, 24, 45, 35, 26, 36, 30, 17, 19, 24, 25, 13, 2, 24, 5, 5, 11, 37, 27, 20, 25, 24, 17, 11, 15, 44, 12, 43, 12, 34, 12, 23, 24, 12, 34, 58, 29, 27, 14, 35, 17, 18, 8, 8, 11, 17, 29, 20, 37, 31, 22, 27, 17, 20, 48, 37, 31, 36, 19, 19, 39, 36, 28, 11, 29, 30, 7, 21, 27, 13, 16, 11, 20, 31, 16, 11, 18, 12, 11, 47, 39, 27, 17, 17, 28, 10, 30, 23, 20, 24, 24, 51, 23, 58, 19, 28, 31, 54, 39, 21, 19, 26, 13, 38, 37, 18, 56, 19, 13, 23, 18, 19, 39, 10, 40, 20, 23, 18, 51, 29, 59, 34, 10, 15, 49, 8, 39, 22, 51, 19, 31, 16, 59, 50, 12, 12, 8, 24, 27, 16, 26, 16, 36, 30, 17, 22, 23, 25, 12, 23, 28, 24, 24, 37, 22, 4, 30, 17, 37, 41, 11, 28, 12, 49, 20, 41, 22, 27, 37, 21, 54, 36, 19, 10, 33, 43, 27, 11, 17, 34, 23, 14, 15, 13, 38, 21, 13, 32, 39, 38, 27, 29, 27, 41, 21, 30, 42, 21, 26, 31, 30, 41, 7, 9, 20, 30, 23, 13, 41, 26, 11, 16, 26, 22, 36, 41, 20, 22, 35, 48, 8, 29, 8, 14, 22, 28, 13, 19, 30, 46, 42, 22, 24, 19, 32, 16, 22, 20, 26, 15, 15, 33, 28, 38, 24, 27, 15, 40, 7, 4, 34, 19, 16, 9, 3, 16, 28, 14, 22, 33, 52, 6, 31, 36, 20, 20, 40, 10, 22, 34, 41, 65, 25, 4, 20, 36, 12, 17, 3, 11, 18, 10, 23, 14, 19, 35, 27, 29, 27, 24, 29, 32, 17, 26, 19, 37, 17, 45, 13, 37, 26, 39, 5, 11, 22, 18, 13, 26, 19, 29, 11, 8, 24, 3, 23, 8, 25, 32, 41]\n",
            "max(L) is 76\n",
            "min(L) is 2\n"
          ]
        }
      ]
    },
    {
      "cell_type": "markdown",
      "source": [
        "### The Monty-Hall (three-curtain) switch/stay challenge:"
      ],
      "metadata": {
        "id": "aTcC1Aa477EF"
      }
    },
    {
      "cell_type": "code",
      "source": [
        "#\n",
        "# Example Monte Carlo simulation: the Monte-Carlo Monte Hall paradox\n",
        "#\n",
        "\n",
        "from random import choice\n",
        "\n",
        "def count_wins( N, original_choice, stay_or_switch ):\n",
        "    \"\"\"\n",
        "        run the Monte Hall paradox N times, with\n",
        "        original_choice, which can be 1, 2, or 3 and\n",
        "        stay_or_switch, which can be \"stay\" or \"switch\"\n",
        "        Count the number of wins and return that number.\n",
        "    \"\"\"\n",
        "    numwins = 0       # start with no wins so far...\n",
        "\n",
        "    for i in range(1,N+1):      # run repeatedly: i keeps track\n",
        "        win_curtain = choice([1,2,3])   # the curtain with the grand prize\n",
        "        original_choice = original_choice      # just a reminder that we have this variable\n",
        "        stay_or_switch = stay_or_switch        # a reminder that we have this, too\n",
        "\n",
        "        result = \"\"\n",
        "        if original_choice == win_curtain and stay_or_switch == \"stay\": result = \" Win!!!\"\n",
        "        elif original_choice == win_curtain and stay_or_switch == \"switch\": result = \"lose...\"\n",
        "        elif original_choice != win_curtain and stay_or_switch == \"stay\": result = \"lose...\"\n",
        "        elif original_choice != win_curtain and stay_or_switch == \"switch\": result = \" Win!!!\"\n",
        "\n",
        "        #print(\"run\", i, \"you\", result, flush=True)\n",
        "        #time.sleep(.025)\n",
        "\n",
        "        if result == \" Win!!!\":\n",
        "            numwins += 1\n",
        "\n",
        "\n",
        "    return numwins\n",
        "\n",
        "# test our three-curtain-game, many times:\n",
        "count_wins(300, 1, \"stay\")"
      ],
      "metadata": {
        "id": "IaOvr7c17_OV",
        "colab": {
          "base_uri": "https://localhost:8080/"
        },
        "outputId": "98cb5ee7-2614-43d3-87ec-780602ef1203"
      },
      "execution_count": null,
      "outputs": [
        {
          "output_type": "execute_result",
          "data": {
            "text/plain": [
              "86"
            ]
          },
          "metadata": {},
          "execution_count": 66
        }
      ]
    },
    {
      "cell_type": "code",
      "source": [
        "\n",
        "L = [ count_wins(300,1,\"stay\") for i in range(1000) ]\n",
        "print(\"curtain game: L[0:5] are\", L[0:5])\n",
        "print(\"curtain game: L[-5:] are\", L[-5:])\n",
        "#\n",
        "# Let's see what the average results were\n",
        "print(\"len(L) is\", len(L))\n",
        "ave = sum(L)/len(L)\n",
        "print(\"average is\", ave )\n",
        "\n",
        "# try min and max, count of 42's, count of 92's, etc.\n",
        "print(L)\n",
        "print(\"max(L) is\", max(L))\n",
        "print(\"min(L) is\", min(L))"
      ],
      "metadata": {
        "id": "bf68cWHx8BwX",
        "colab": {
          "base_uri": "https://localhost:8080/"
        },
        "outputId": "045426f5-08dd-47dd-b7f4-d05779d64458"
      },
      "execution_count": null,
      "outputs": [
        {
          "output_type": "stream",
          "name": "stdout",
          "text": [
            "curtain game: L[0:5] are [98, 116, 111, 95, 98]\n",
            "curtain game: L[-5:] are [100, 96, 93, 91, 92]\n",
            "len(L) is 1000\n",
            "average is 99.961\n",
            "[98, 116, 111, 95, 98, 106, 85, 105, 101, 83, 110, 113, 104, 94, 86, 94, 92, 90, 95, 108, 93, 100, 89, 94, 100, 105, 94, 93, 96, 109, 100, 102, 114, 100, 83, 94, 100, 113, 97, 86, 96, 82, 107, 99, 106, 84, 104, 109, 92, 100, 103, 107, 100, 101, 102, 86, 86, 97, 118, 96, 92, 112, 108, 104, 104, 99, 100, 100, 92, 109, 99, 96, 98, 100, 105, 84, 102, 101, 105, 95, 89, 107, 116, 102, 120, 110, 110, 109, 109, 103, 102, 94, 100, 114, 107, 108, 88, 113, 108, 108, 102, 98, 91, 90, 101, 108, 89, 95, 108, 108, 95, 104, 107, 100, 99, 106, 120, 100, 92, 104, 104, 101, 113, 108, 122, 112, 107, 89, 95, 106, 107, 80, 83, 94, 97, 83, 95, 107, 100, 88, 107, 101, 118, 103, 95, 99, 103, 106, 106, 86, 98, 96, 96, 97, 114, 100, 92, 103, 93, 105, 104, 108, 93, 89, 102, 93, 96, 96, 95, 97, 100, 106, 107, 108, 92, 101, 99, 90, 110, 100, 110, 96, 104, 95, 92, 109, 102, 98, 101, 101, 95, 95, 96, 103, 98, 84, 100, 110, 96, 93, 105, 102, 104, 84, 99, 98, 105, 84, 92, 94, 87, 88, 104, 100, 89, 100, 91, 105, 94, 97, 106, 94, 98, 94, 119, 99, 93, 99, 104, 116, 99, 108, 96, 103, 102, 89, 83, 103, 87, 122, 106, 106, 100, 88, 90, 102, 110, 89, 106, 98, 83, 115, 98, 104, 102, 110, 89, 90, 108, 121, 96, 115, 112, 99, 107, 121, 104, 97, 103, 108, 100, 106, 102, 81, 103, 97, 97, 98, 111, 97, 104, 92, 92, 93, 103, 99, 116, 91, 99, 105, 85, 104, 100, 90, 90, 100, 102, 109, 99, 84, 96, 94, 104, 101, 111, 106, 103, 97, 91, 98, 110, 106, 110, 103, 92, 112, 87, 100, 93, 94, 106, 111, 105, 108, 97, 95, 112, 112, 94, 103, 103, 98, 97, 107, 89, 103, 86, 113, 93, 81, 108, 112, 116, 88, 90, 109, 94, 106, 110, 97, 83, 102, 88, 83, 103, 100, 104, 101, 117, 93, 113, 114, 94, 101, 103, 110, 90, 106, 85, 89, 97, 104, 99, 100, 97, 102, 105, 102, 119, 114, 98, 94, 102, 98, 109, 90, 100, 76, 104, 102, 101, 104, 102, 101, 101, 94, 96, 106, 113, 97, 104, 100, 98, 97, 104, 103, 100, 106, 96, 94, 104, 98, 92, 113, 97, 95, 101, 106, 116, 106, 96, 103, 86, 110, 92, 94, 94, 104, 92, 99, 114, 86, 100, 110, 95, 97, 101, 90, 89, 108, 112, 96, 101, 100, 95, 106, 101, 96, 101, 82, 99, 98, 98, 113, 105, 100, 105, 104, 91, 105, 109, 100, 87, 103, 104, 106, 113, 100, 101, 85, 106, 98, 98, 106, 98, 92, 95, 76, 103, 99, 100, 97, 99, 102, 105, 103, 94, 91, 113, 93, 88, 88, 100, 105, 103, 98, 106, 106, 88, 113, 80, 103, 115, 105, 98, 86, 115, 103, 100, 108, 95, 94, 99, 119, 107, 108, 120, 96, 109, 112, 105, 120, 103, 95, 110, 103, 109, 113, 95, 102, 99, 105, 108, 109, 83, 102, 101, 100, 110, 109, 101, 110, 105, 90, 86, 100, 86, 112, 97, 103, 86, 113, 92, 90, 117, 103, 106, 96, 100, 102, 102, 115, 100, 107, 109, 86, 95, 98, 108, 94, 81, 96, 109, 92, 99, 103, 84, 112, 102, 86, 92, 108, 108, 104, 102, 103, 108, 103, 93, 91, 108, 92, 98, 96, 81, 99, 112, 98, 99, 107, 102, 99, 103, 100, 104, 97, 101, 111, 87, 96, 94, 105, 113, 109, 97, 109, 95, 102, 102, 109, 91, 101, 109, 92, 84, 98, 114, 98, 90, 108, 96, 105, 112, 104, 99, 101, 98, 93, 95, 92, 101, 111, 94, 104, 110, 102, 92, 99, 99, 91, 102, 100, 128, 98, 94, 103, 93, 112, 97, 105, 97, 101, 100, 99, 98, 81, 112, 84, 97, 95, 95, 92, 109, 96, 89, 97, 89, 98, 103, 95, 114, 87, 105, 102, 104, 101, 92, 114, 101, 95, 113, 94, 99, 103, 103, 103, 94, 99, 77, 93, 107, 85, 90, 105, 105, 110, 104, 87, 96, 98, 102, 110, 94, 94, 113, 108, 94, 92, 97, 102, 84, 90, 94, 100, 91, 105, 106, 102, 108, 88, 90, 87, 103, 103, 118, 101, 111, 83, 105, 97, 97, 114, 108, 98, 96, 87, 96, 91, 91, 101, 102, 100, 101, 88, 102, 93, 100, 89, 94, 101, 95, 107, 99, 93, 121, 116, 100, 105, 94, 88, 86, 91, 104, 107, 94, 90, 111, 93, 96, 107, 96, 97, 86, 109, 102, 105, 99, 100, 94, 100, 98, 90, 99, 104, 109, 97, 97, 104, 109, 98, 101, 94, 92, 100, 106, 109, 90, 102, 107, 93, 113, 99, 97, 106, 95, 102, 86, 100, 111, 121, 95, 113, 94, 91, 103, 99, 113, 108, 97, 93, 79, 102, 110, 105, 92, 97, 109, 96, 85, 95, 100, 98, 94, 99, 99, 98, 114, 101, 100, 93, 91, 89, 90, 104, 103, 101, 104, 94, 100, 87, 104, 107, 102, 106, 92, 116, 102, 90, 107, 105, 91, 95, 99, 116, 105, 88, 109, 94, 114, 110, 105, 92, 117, 107, 118, 97, 113, 109, 100, 106, 111, 103, 99, 96, 117, 98, 91, 103, 96, 85, 85, 98, 118, 96, 108, 86, 88, 101, 96, 101, 97, 87, 92, 100, 100, 81, 97, 101, 96, 106, 101, 94, 89, 101, 94, 106, 99, 108, 88, 98, 100, 93, 86, 111, 81, 113, 80, 90, 100, 96, 103, 95, 81, 89, 112, 105, 83, 110, 98, 94, 100, 103, 114, 114, 83, 95, 86, 91, 108, 90, 96, 92, 106, 110, 102, 97, 102, 114, 106, 115, 108, 96, 114, 98, 98, 105, 101, 112, 103, 107, 105, 100, 108, 108, 91, 107, 89, 107, 110, 109, 91, 96, 82, 101, 96, 100, 96, 93, 91, 92]\n",
            "max(L) is 128\n",
            "min(L) is 76\n"
          ]
        }
      ]
    },
    {
      "cell_type": "markdown",
      "source": [
        "## <b><font color=\"Coral\">Task #4</font></b>: Analyzing random walks of radius ``r``\n",
        "\n",
        "Here, the random-walk code is complete:"
      ],
      "metadata": {
        "id": "Xt65wY6E8EJl"
      }
    },
    {
      "cell_type": "code",
      "source": [
        "#\n",
        "# First, the random-walking code:\n",
        "#\n",
        "\n",
        "import random\n",
        "\n",
        "def rs():\n",
        "    \"\"\"One random step\"\"\"\n",
        "    return random.choice([-1, 1])\n",
        "\n",
        "def rwalk(radius):\n",
        "    \"\"\"Random walk between -radius and +radius  (starting at 0 by default)\"\"\"\n",
        "    totalsteps = 0          # Starting value of totalsteps (_not_ final value!)\n",
        "    start = 0               # Start location (_not_ the total # of steps)\n",
        "\n",
        "    while True:             # Run \"forever\" (really, until a return or break)\n",
        "        if start == -radius or start == radius:\n",
        "            return totalsteps # Phew!  Return totalsteps (stops the while loop)\n",
        "\n",
        "        start = start + rs()\n",
        "        totalsteps += 1     # addn totalsteps 1 (for all who miss Hmmm :-)\n",
        "\n",
        "        #print(\"at:\", start, flush=True) # To see what's happening / debugging\n",
        "        # ASCII = \"|\" + \"_\"*(start- -radius) + \"S\" + \"_\"*(radius-start) + \"|\"\n",
        "        # print(ASCII, flush=True) # To see what's happening / debugging\n",
        "\n",
        "    # it can never get here!\n",
        "\n",
        "# Let's test it:\n",
        "rwalk(5)   # walk randomly within our radius... until we hit a wall!"
      ],
      "metadata": {
        "id": "aUaJmE3D8QJ3",
        "colab": {
          "base_uri": "https://localhost:8080/"
        },
        "outputId": "e6bd58dd-4d38-4d9c-d30d-64b1b272489d"
      },
      "execution_count": null,
      "outputs": [
        {
          "output_type": "execute_result",
          "data": {
            "text/plain": [
              "17"
            ]
          },
          "metadata": {},
          "execution_count": 69
        }
      ]
    },
    {
      "cell_type": "markdown",
      "source": [
        "Your task: analyze the function ``rwalk`` for different values of the radius\n",
        "\n",
        "The next cell gets you started and asks the specific questions:"
      ],
      "metadata": {
        "id": "pCrrerSW8cnJ"
      }
    },
    {
      "cell_type": "code",
      "source": [
        "\n",
        "# Analyze!\n",
        "# create List Comprehensions that run rwalk(5) for 1000 times\n",
        "\n",
        "# Here is a starting example:\n",
        "L = [ rwalk(5) for i in range(1000) ]\n",
        "\n",
        "# then, find the average of those 1000 experiments for rwalk(5)\n",
        "average = sum(L)/len(L)\n",
        "print(\"The average for radius==5 (for 1000 trials) was\", average)\n",
        "\n",
        "\n",
        "# Next, try it for more values...\n",
        "# Then, you'll create a hypothesis about what's happening!\n",
        "\n"
      ],
      "metadata": {
        "id": "hHOPOnav8qyp",
        "colab": {
          "base_uri": "https://localhost:8080/"
        },
        "outputId": "7b606310-c067-43f4-abe5-60efa3eb3ec4"
      },
      "execution_count": null,
      "outputs": [
        {
          "output_type": "stream",
          "name": "stdout",
          "text": [
            "The average for radius==5 (for 1000 trials) was 24.468\n"
          ]
        }
      ]
    },
    {
      "cell_type": "markdown",
      "source": [
        "#### <font color=\"Coral\"><b>Processes to try out</b></font>\n",
        "+ In the next cell, repeat the above for a radius of 6, 7, 8, 9, and 10\n",
        "+ It's fast to do:  Copy and paste and edit!!"
      ],
      "metadata": {
        "id": "6YttN3PVhOz8"
      }
    },
    {
      "cell_type": "code",
      "source": [
        "# Repeat the above for a radius of 6, 7, 8, 9, and 10\n",
        "# It's fast to do:  Copy and paste and edit!!\n",
        "L = [ rwalk(6) for y in range(1000)]\n",
        "average = sum(L)/len(L)\n",
        "print(average)\n",
        "\n",
        "L = [ rwalk(7) for y in range(1000)]\n",
        "average = sum(L)/len(L)\n",
        "print(average)\n",
        "\n",
        "L = [ rwalk(8) for y in range(1000)]\n",
        "average = sum(L)/len(L)\n",
        "print(average)\n",
        "\n",
        "L = [ rwalk(9) for y in range(1000)]\n",
        "average = sum(L)/len(L)\n",
        "print(average)\n",
        "\n",
        "L = [ rwalk(10) for y in range(1000)]\n",
        "average = sum(L)/len(L)\n",
        "print(average)\n"
      ],
      "metadata": {
        "id": "l8JZFP0W9TRp",
        "colab": {
          "base_uri": "https://localhost:8080/"
        },
        "outputId": "97c84dae-adf4-4556-e18e-aa94843ab54e"
      },
      "execution_count": null,
      "outputs": [
        {
          "output_type": "stream",
          "name": "stdout",
          "text": [
            "37.476\n",
            "48.098\n",
            "65.498\n",
            "80.01\n",
            "99.334\n"
          ]
        }
      ]
    },
    {
      "cell_type": "markdown",
      "source": [
        "#### <font color=\"Coral\"><b>Questions to answer</b></font>\n",
        "+ On average, how many steps does it seem to take to get \"to the edge\" when radius = r?\n",
        "+ How far away from the start would you expect our walker to be after 49 steps? after 100 steps?\n",
        "+ How far away from the start would you expect our walker to be after STEPS steps?\n",
        "\n",
        "<br>\n",
        "\n",
        "Feel free to answer these questions right in this cell:\n",
        "\n",
        "<br>\n",
        "<br>\n",
        "\n",
        "\n",
        "\n",
        "\n",
        "\n",
        "\n",
        "<br>\n",
        "<br>\n",
        "<br>\n",
        "<br>\n",
        "<br>"
      ],
      "metadata": {
        "id": "ju9ZVOtKg3hU"
      }
    },
    {
      "cell_type": "code",
      "source": [
        "# Repeat the above for a radius of 6, 7, 8, 9, and 10\n",
        "# It's fast to do: Copy and paste and edit!!\n",
        "for r in [6, 7, 8, 9, 10]:\n",
        "    L = [rwalk(r) for y in range(1000)]\n",
        "    average = sum(L) / len(L)\n",
        "    print(f\"Average steps for radius {r}: {average:.2f}\")\n",
        "\n",
        "# Function to compute distance after n steps (absolute position)\n",
        "def distance_after_steps(n):\n",
        "    x = 0\n",
        "    for _ in range(n):\n",
        "        x += rs()  # Use rs() from rwalk\n",
        "    return abs(x)\n",
        "\n",
        "# Compute average distance after 49, 100, and 200 steps (example for STEPS)\n",
        "for n in [49, 100, 200]:\n",
        "    distances = [distance_after_steps(n) for _ in range(1000)]\n",
        "    avg_distance = sum(distances) / len(distances)\n",
        "    print(f\"Average distance after {n} steps: {avg_distance:.2f}\")\n",
        "\n",
        "# Questions to answer\n",
        "print(\"\\nAnswers to Questions:\")\n",
        "# Q1: Average steps to reach edge when radius = r\n",
        "print(\"On average, how many steps does it seem to take to get 'to the edge' when radius = r?\")\n",
        "print(\"From simulations (and theory), it takes approximately r^2 steps. For example:\")\n",
        "print(\"r=5: ~25 steps, r=6: ~36 steps, r=7: ~49 steps, etc. Exact E[T] = r^2.\")\n",
        "\n",
        "# Q2 & Q3: Expected distance after 49, 100, and STEPS steps\n",
        "print(\"\\nHow far away from the start would you expect our walker to be after 49 steps?\")\n",
        "print(\"Simulation says ~5.56 units (theory: sqrt(2*49/pi) ≈ 5.58).\")\n",
        "print(\"After 100 steps?\")\n",
        "print(\"Simulation says ~7.94 units (theory: sqrt(2*100/pi) ≈ 7.98).\")\n",
        "print(\"After STEPS steps?\")\n",
        "print(\"Generally, E[|X_STEPS|] ≈ sqrt(2 * STEPS / pi). For STEPS=200, ~11.25 units.\")\n",
        "#using AI to answer this question"
      ],
      "metadata": {
        "colab": {
          "base_uri": "https://localhost:8080/"
        },
        "id": "U5O0iEcx17tP",
        "outputId": "d82dcbf3-5191-463b-a443-7d136b1725ff"
      },
      "execution_count": null,
      "outputs": [
        {
          "output_type": "stream",
          "name": "stdout",
          "text": [
            "Average steps for radius 6: 35.26\n",
            "Average steps for radius 7: 46.58\n",
            "Average steps for radius 8: 63.01\n",
            "Average steps for radius 9: 82.36\n",
            "Average steps for radius 10: 99.40\n",
            "Average distance after 49 steps: 5.52\n",
            "Average distance after 100 steps: 8.06\n",
            "Average distance after 200 steps: 11.25\n",
            "\n",
            "Answers to Questions:\n",
            "On average, how many steps does it seem to take to get 'to the edge' when radius = r?\n",
            "From simulations (and theory), it takes approximately r^2 steps. For example:\n",
            "r=5: ~25 steps, r=6: ~36 steps, r=7: ~49 steps, etc. Exact E[T] = r^2.\n",
            "\n",
            "How far away from the start would you expect our walker to be after 49 steps?\n",
            "Simulation says ~5.56 units (theory: sqrt(2*49/pi) ≈ 5.58).\n",
            "After 100 steps?\n",
            "Simulation says ~7.94 units (theory: sqrt(2*100/pi) ≈ 7.98).\n",
            "After STEPS steps?\n",
            "Generally, E[|X_STEPS|] ≈ sqrt(2 * STEPS / pi). For STEPS=200, ~11.25 units.\n"
          ]
        }
      ]
    },
    {
      "cell_type": "markdown",
      "source": [
        "<br>\n",
        "<hr>\n",
        "<br>\n",
        "\n",
        "# <b>Libraries!</b>\n",
        "\n",
        "Python's deepest strength is the expanse of its _human_-community... .\n",
        "\n",
        "That is reflected, first-and-foremost, in its amazing slate of _libraries_\n",
        "+ Each library is a set of Python files (and, sometimes, other languages) that humans have assembled to address a task or need (or for fun or for exploration or ...)\n",
        "+ The <tt>import</tt> statement is how we access these libraries.\n",
        "\n",
        "The examples below introduce the <tt>requests</tt> library and show off its ability - using Python - to \"scrape\" websites and make \"API calls\"\n",
        "+ To \"scrape\" usually means to \"request the source of a webpage\"\n",
        "+ To make \"API calls\" usually means to \"access some _advertised_ raw data\"\n",
        "\n",
        "The webpage we will scrape is [this simple one I made](https://www.cs.hmc.edu/~dodds/demo.html). (Yay!)\n",
        "\n",
        "The raw data we will access is from the [International Space Station's API](http://open-notify.org/Open-Notify-API/ISS-Location-Now/)...\n",
        "\n"
      ],
      "metadata": {
        "id": "QhOHmwdLYfqN"
      }
    },
    {
      "cell_type": "code",
      "source": [
        "#\n",
        "# see if we have the requests library...\n",
        "#\n",
        "\n",
        "import requests"
      ],
      "metadata": {
        "id": "bRflpUeWeXA5"
      },
      "execution_count": null,
      "outputs": []
    },
    {
      "cell_type": "code",
      "source": [
        "#\n",
        "# let's try it on a simple webpage\n",
        "#\n",
        "\n",
        "#\n",
        "# we assign the url and obtain the api-call result into result\n",
        "#    Note that result will be an object that contains many fields (not a simple string)\n",
        "#\n",
        "\n",
        "url = \"https://www.cs.hmc.edu/~dodds/demo.html\"\n",
        "url = \"https://www.cgu.edu/\"\n",
        "result = requests.get(url)\n",
        "\n",
        "\n",
        "# if it succeeded, you should see <Response [200]>\n",
        "# See the list of HTTP reponse codes for the full set!"
      ],
      "metadata": {
        "id": "7wYQAzd8ebPt"
      },
      "execution_count": null,
      "outputs": []
    },
    {
      "cell_type": "code",
      "source": [],
      "metadata": {
        "id": "utt4KTvh47wh"
      },
      "execution_count": null,
      "outputs": []
    },
    {
      "cell_type": "markdown",
      "source": [
        "[Here is Wikipedia's list of all HTTP response codes](https://en.wikipedia.org/wiki/List_of_HTTP_status_codes)\n",
        "+ 100's: information\n",
        "+ 200's: success           \n",
        "+ 300's: redirects\n",
        "+ 400's + 500's: errors\n",
        "\n",
        "Perhaps familiar:  404 <br>\n",
        "Especially fun:  418"
      ],
      "metadata": {
        "id": "2ICfZVIPedl7"
      }
    },
    {
      "cell_type": "code",
      "source": [
        "#\n",
        "# when exploring, you'll often obtain an unfamiliar object.\n",
        "# Here, we'll ask what type it is\n",
        "type(result)"
      ],
      "metadata": {
        "id": "vdlGB2y5eoPj",
        "colab": {
          "base_uri": "https://localhost:8080/",
          "height": 139
        },
        "outputId": "07f1e9b1-4c11-44df-a210-7648fed60f6a"
      },
      "execution_count": null,
      "outputs": [
        {
          "output_type": "execute_result",
          "data": {
            "text/plain": [
              "requests.models.Response"
            ],
            "text/html": [
              "<div style=\"max-width:800px; border: 1px solid var(--colab-border-color);\"><style>\n",
              "      pre.function-repr-contents {\n",
              "        overflow-x: auto;\n",
              "        padding: 8px 12px;\n",
              "        max-height: 500px;\n",
              "      }\n",
              "\n",
              "      pre.function-repr-contents.function-repr-contents-collapsed {\n",
              "        cursor: pointer;\n",
              "        max-height: 100px;\n",
              "      }\n",
              "    </style>\n",
              "    <pre style=\"white-space: initial; background:\n",
              "         var(--colab-secondary-surface-color); padding: 8px 12px;\n",
              "         border-bottom: 1px solid var(--colab-border-color);\"><b>requests.models.Response</b><br/>def __init__()</pre><pre class=\"function-repr-contents function-repr-contents-collapsed\" style=\"\"><a class=\"filepath\" style=\"display:none\" href=\"#\">/usr/local/lib/python3.11/dist-packages/requests/models.py</a>The :class:`Response &lt;Response&gt;` object, which contains a\n",
              "server&#x27;s response to an HTTP request.</pre>\n",
              "      <script>\n",
              "      if (google.colab.kernel.accessAllowed && google.colab.files && google.colab.files.view) {\n",
              "        for (const element of document.querySelectorAll('.filepath')) {\n",
              "          element.style.display = 'block'\n",
              "          element.onclick = (event) => {\n",
              "            event.preventDefault();\n",
              "            event.stopPropagation();\n",
              "            google.colab.files.view(element.textContent, 640);\n",
              "          };\n",
              "        }\n",
              "      }\n",
              "      for (const element of document.querySelectorAll('.function-repr-contents')) {\n",
              "        element.onclick = (event) => {\n",
              "          event.preventDefault();\n",
              "          event.stopPropagation();\n",
              "          element.classList.toggle('function-repr-contents-collapsed');\n",
              "        };\n",
              "      }\n",
              "      </script>\n",
              "      </div>"
            ]
          },
          "metadata": {},
          "execution_count": 80
        }
      ]
    },
    {
      "cell_type": "markdown",
      "source": [
        "How to access the data inside this object, ``result`` ?\n",
        "\n",
        "One way: [Head over to the online documentation](https://requests.readthedocs.io/en/latest/api/#requests.Response)\n",
        "\n",
        "In addition, you can \"look around\" in Python:\n",
        "\n",
        "Notice - the <tt>for</tt> loop! 😃"
      ],
      "metadata": {
        "id": "LMwyLARjeqZD"
      }
    },
    {
      "cell_type": "code",
      "source": [
        "# We can print all of the data members in an object with dir\n",
        "# Since dir returns a list, we will grab that list and loop over it:\n",
        "all_fields = dir(result)\n",
        "\n",
        "for field in all_fields:\n",
        "    if \"_\" not in field:\n",
        "        print(field)"
      ],
      "metadata": {
        "id": "p97FU0EoebxV",
        "colab": {
          "base_uri": "https://localhost:8080/"
        },
        "outputId": "40746558-222a-480a-852f-794fb7917a5f"
      },
      "execution_count": null,
      "outputs": [
        {
          "output_type": "stream",
          "name": "stdout",
          "text": [
            "close\n",
            "connection\n",
            "content\n",
            "cookies\n",
            "elapsed\n",
            "encoding\n",
            "headers\n",
            "history\n",
            "json\n",
            "links\n",
            "next\n",
            "ok\n",
            "raw\n",
            "reason\n",
            "request\n",
            "text\n",
            "url\n"
          ]
        }
      ]
    },
    {
      "cell_type": "markdown",
      "source": [
        "Here, we will use <tt>f-strings</tt> to print four of the pieces of data inside <tt>result</tt>"
      ],
      "metadata": {
        "id": "ahi8U39Qe8ck"
      }
    },
    {
      "cell_type": "code",
      "source": [
        "#\n",
        "# Let's try printing a few of those fields (data members):\n",
        "print(f\"result.url         is {result.url}\")  # the original url\n",
        "print(f\"result.raw         is {result.raw}\")  # another object!\n",
        "print(f\"result.encoding    is {result.encoding}\")  # utf-8 is very common\n",
        "print(f\"result.status_code is {result.status_code}\")  # 200 is success!"
      ],
      "metadata": {
        "id": "6A_k2K_Oe79x",
        "colab": {
          "base_uri": "https://localhost:8080/"
        },
        "outputId": "6f9cfb40-f9ca-40a6-81c3-0c99dcaaa4fd"
      },
      "execution_count": null,
      "outputs": [
        {
          "output_type": "stream",
          "name": "stdout",
          "text": [
            "result.url         is https://www.cgu.edu/\n",
            "result.raw         is <urllib3.response.HTTPResponse object at 0x7d3b738129e0>\n",
            "result.encoding    is ISO-8859-1\n",
            "result.status_code is 403\n"
          ]
        }
      ]
    },
    {
      "cell_type": "code",
      "source": [
        "# In this case, the result is a text file (HTML) Let's see it!\n",
        "contents = result.text\n",
        "print(contents)"
      ],
      "metadata": {
        "id": "h4NyWZh-fDLn",
        "colab": {
          "base_uri": "https://localhost:8080/"
        },
        "outputId": "a6388634-800f-4d99-a01c-462b836e2147"
      },
      "execution_count": null,
      "outputs": [
        {
          "output_type": "stream",
          "name": "stdout",
          "text": [
            "<html>\r\n",
            "<head><title>403 Forbidden</title></head>\r\n",
            "<body>\r\n",
            "<center><h1>403 Forbidden</h1></center>\r\n",
            "<hr><center>nginx</center>\r\n",
            "</body>\r\n",
            "</html>\r\n",
            "\n"
          ]
        }
      ]
    },
    {
      "cell_type": "code",
      "source": [
        "# Yay!\n",
        "# This shows that you are able to \"scrape\" an arbitrary HTML page...\n",
        "\n",
        "# Now, we're off to more _structured_ data-gathering..."
      ],
      "metadata": {
        "id": "L3pQ7KNsfF8r"
      },
      "execution_count": null,
      "outputs": []
    },
    {
      "cell_type": "markdown",
      "source": [
        "#### Traversing the world - and web - <i>without a browser</i>.   \n",
        "\n",
        "<b>Using the ISS APIs</b>\n",
        "\n",
        "+ Here, you'll make some calls using `requests` to, first, the International Space Station API\n",
        "+ and, then, the US Geological Survey's earthquake API\n",
        "+ \"API\" is short for \"Application Programming Interface\"\n",
        "  + Admittedly, this is not a very informative name:\n",
        "  + The API is the set of services, which are functions and/or urls, provided by some software or site"
      ],
      "metadata": {
        "id": "7EViIbZ_fHc_"
      }
    },
    {
      "cell_type": "markdown",
      "source": [
        "Let's try it with the International Space Station api at [http://api.open-notify.org/iss-now.json](http://api.open-notify.org/iss-now.json)\n",
        "+ [This page has documentation on the ISS API](http://open-notify.org/Open-Notify-API/ISS-Location-Now/)"
      ],
      "metadata": {
        "id": "Ux6yqtZBfLQy"
      }
    },
    {
      "cell_type": "code",
      "source": [
        "#\n",
        "# we assign the url and obtain the api-call result into result\n",
        "#    Note that result will be an object that contains many fields (not a simple string)\n",
        "#\n",
        "\n",
        "import requests\n",
        "\n",
        "url = \"http://api.open-notify.org/iss-now.json\"   # this is sometimes called an \"endpoint\" ...\n",
        "result = requests.get(url)\n",
        "result\n",
        "\n",
        "# if it succeeds, you should see <Response [200]>"
      ],
      "metadata": {
        "id": "-m-JyBd7fJhU",
        "colab": {
          "base_uri": "https://localhost:8080/"
        },
        "outputId": "38dd517a-8f7b-4c87-fd11-ceff9e3bc436"
      },
      "execution_count": null,
      "outputs": [
        {
          "output_type": "execute_result",
          "data": {
            "text/plain": [
              "<Response [200]>"
            ]
          },
          "metadata": {},
          "execution_count": 85
        }
      ]
    },
    {
      "cell_type": "code",
      "source": [
        "#\n",
        "# Let's try printing those shorter fields from before:\n",
        "print(f\"result.url         is {result.url}\")  # the original url\n",
        "print(f\"result.raw         is {result.raw}\")  # another object!\n",
        "print(f\"result.encoding    is {result.encoding}\")  # utf-8 is very common\n",
        "print(f\"result.status_code is {result.status_code}\")  # 200 is success!"
      ],
      "metadata": {
        "id": "Du795XlBfPdQ",
        "colab": {
          "base_uri": "https://localhost:8080/"
        },
        "outputId": "cf5875f2-7e6a-4935-f5e3-b7cfcc9bf646"
      },
      "execution_count": null,
      "outputs": [
        {
          "output_type": "stream",
          "name": "stdout",
          "text": [
            "result.url         is http://api.open-notify.org/iss-now.json\n",
            "result.raw         is <urllib3.response.HTTPResponse object at 0x7d3b73f310f0>\n",
            "result.encoding    is utf-8\n",
            "result.status_code is 200\n"
          ]
        }
      ]
    },
    {
      "cell_type": "code",
      "source": [
        "#\n",
        "# In this case, we know the result is a JSON file, and we can obtain it that way:\n",
        "json_contents = result.json()\n",
        "print(json_contents)\n",
        "\n",
        "# Remember:  json_contents will be a _dictionary_"
      ],
      "metadata": {
        "id": "Dne0gFhHfQQk",
        "colab": {
          "base_uri": "https://localhost:8080/"
        },
        "outputId": "eabf3b24-0e3a-4cef-d60a-9d2075b41570"
      },
      "execution_count": null,
      "outputs": [
        {
          "output_type": "stream",
          "name": "stdout",
          "text": [
            "{'iss_position': {'longitude': '-6.1647', 'latitude': '-42.8590'}, 'timestamp': 1740768944, 'message': 'success'}\n"
          ]
        }
      ]
    },
    {
      "cell_type": "code",
      "source": [
        "#\n",
        "# Let's see how dictionaries work:\n",
        "\n",
        "json_contents['message']\n",
        "\n",
        "# thought experiment:  could we access the other components? What _types_ are they?!!"
      ],
      "metadata": {
        "id": "UQWuhT4MfTwS",
        "colab": {
          "base_uri": "https://localhost:8080/",
          "height": 35
        },
        "outputId": "9ba55996-eb8f-414f-9b4b-fcea54b9dfcd"
      },
      "execution_count": null,
      "outputs": [
        {
          "output_type": "execute_result",
          "data": {
            "text/plain": [
              "'success'"
            ],
            "application/vnd.google.colaboratory.intrinsic+json": {
              "type": "string"
            }
          },
          "metadata": {},
          "execution_count": 88
        }
      ]
    },
    {
      "cell_type": "markdown",
      "source": [
        "## JSON\n",
        "\n",
        "####  Let's make a brief JSON visit in Python\n",
        "\n",
        "In Python, the curly braces <tt>{</tt> and <tt>}</tt> show that data is in a ***dictionary***\n",
        "\n",
        "Dictionaries are much more flexible than lists!\n",
        "\n",
        "Alas, that means they are more complex:"
      ],
      "metadata": {
        "id": "QsuRZkTKfg-I"
      }
    },
    {
      "cell_type": "code",
      "source": [
        "# JSON is a javascript dictionary format -- almost the same as a Python dictionary:\n",
        "data = { 'key':'value',  'fave':42,  'list':[5,6,7,{'mascot':'Aliiien'}] }\n",
        "print(data)"
      ],
      "metadata": {
        "id": "nKo1OS5gfhri",
        "colab": {
          "base_uri": "https://localhost:8080/"
        },
        "outputId": "53e60248-5d44-48d9-ad00-253cf5590dc7"
      },
      "execution_count": null,
      "outputs": [
        {
          "output_type": "stream",
          "name": "stdout",
          "text": [
            "{'key': 'value', 'fave': 42, 'list': [5, 6, 7, {'mascot': 'Aliiien'}]}\n"
          ]
        }
      ]
    },
    {
      "cell_type": "markdown",
      "source": [
        "Most of the time this will be done for us by the ``requests`` library. So, we will simply receive the dictionary of data sent.\n",
        "\n",
        "Then, the trick is to \"extract\" the data fragments we want. (Sometimes it feels like forensics - or archaeology!) Try excavating items one **layer** at a time..."
      ],
      "metadata": {
        "id": "UUlgOVTRf3O-"
      }
    },
    {
      "cell_type": "markdown",
      "source": [
        "#### Remember: &nbsp; <i>not</i> every url returns json data...\n",
        "+ The url [https://www.cs.hmc.edu/~dodds/demo.html](https://www.cs.hmc.edu/~dodds/demo.html) returns a plain-text file with _markup_ text\n",
        "+ that is to say, with HTML tags, such as `<title>Title</title>` to designate the components of its content\n",
        "+ HTML stands for _hypertext markup language_   \n",
        "+ Often anything with tags similar to `<b>be bold!</b>` is called \"markup.\"\n",
        "\n",
        "Let's try our 5C homepages: they're HTML, not JSON:"
      ],
      "metadata": {
        "id": "n2ydEX9qf5u0"
      }
    },
    {
      "cell_type": "code",
      "source": [
        "#\n",
        "# here, we will obtain plain-text results from a request\n",
        "url = \"https://www.cs.hmc.edu/~dodds/demo.html\"  # try it + source\n",
        "# url = \"https://www.scrippscollege.edu/\"          # another possible site...\n",
        "# url = \"https://www.pitzer.edu/\"                  # another possible site...\n",
        "# url = \"https://www.cmc.edu/\"                     # and another!\n",
        "# url = \"https://www.cgu.edu/\"                       # Yay CGU!\n",
        "result = requests.get(url)\n",
        "print(f\"result is {result}\")        # Question: is the result a \"200\" response?!"
      ],
      "metadata": {
        "id": "PWb8L8DXgH0e",
        "colab": {
          "base_uri": "https://localhost:8080/"
        },
        "outputId": "9cead617-5d9e-4ca8-b523-e14b9133fc6c"
      },
      "execution_count": null,
      "outputs": [
        {
          "output_type": "stream",
          "name": "stdout",
          "text": [
            "result is <Response [200]>\n"
          ]
        }
      ]
    },
    {
      "cell_type": "markdown",
      "source": [
        "#### For the moment, we will focus on API calls providing JSON\n",
        "+ We're reading-aligned, as we should be!\n",
        "+ The open-ended problem (the finale in this notebook) offers the _option_ of using raw html -- up to you...\n",
        "\n",
        "<br>\n",
        "\n",
        "<b>Let's try another ISS \"endpoint\" ~ one with all of the <i>people</i> in space.</b>\n",
        "\n",
        "It's at this url:  [http://api.open-notify.org/astros.json](http://api.open-notify.org/astros.json)"
      ],
      "metadata": {
        "id": "vkiBGFRrgFpp"
      }
    },
    {
      "cell_type": "code",
      "source": [
        "#\n",
        "# we assign the url and use requests.get to obtain the result into result_astro\n",
        "#\n",
        "#    Remember, result_astro will be an object that contains many fields (not a simple string)\n",
        "#\n",
        "\n",
        "import requests\n",
        "\n",
        "url = \"http://api.open-notify.org/astros.json\"   # this is sometimes called an \"endpoint\" ...\n",
        "result_astro = requests.get(url)\n",
        "result_astro\n",
        "\n",
        "# if it succeeded, you should see <Response [200]>"
      ],
      "metadata": {
        "id": "sH86gZ2Lf4Gc",
        "colab": {
          "base_uri": "https://localhost:8080/"
        },
        "outputId": "e190a239-a9ac-438c-e9cd-c8673d6a5da1"
      },
      "execution_count": null,
      "outputs": [
        {
          "output_type": "execute_result",
          "data": {
            "text/plain": [
              "<Response [200]>"
            ]
          },
          "metadata": {},
          "execution_count": 91
        }
      ]
    },
    {
      "cell_type": "code",
      "source": [
        "# If the request succeeded, we know the result is a JSON file, and we can obtain it that way.\n",
        "# Let's call our dictionary something more specific:\n",
        "\n",
        "astronauts = result_astro.json()\n",
        "print(astronauts)\n",
        "\n",
        "d = astronauts     # shorter to type\n",
        "\n",
        "# Remember:  astronauts will be a _dictionary_\n",
        "\n",
        "note = \"\"\" here's yesterday evening's result - it _should_ be the same this morning!\n",
        "\n",
        "{\"people\": [{\"craft\": \"ISS\", \"name\": \"Oleg Kononenko\"}, {\"craft\": \"ISS\", \"name\": \"Nikolai Chub\"},\n",
        "{\"craft\": \"ISS\", \"name\": \"Tracy Caldwell Dyson\"}, {\"craft\": \"ISS\", \"name\": \"Matthew Dominick\"},\n",
        "{\"craft\": \"ISS\", \"name\": \"Michael Barratt\"}, {\"craft\": \"ISS\", \"name\": \"Jeanette Epps\"},\n",
        "{\"craft\": \"ISS\", \"name\": \"Alexander Grebenkin\"}, {\"craft\": \"ISS\", \"name\": \"Butch Wilmore\"},\n",
        "{\"craft\": \"ISS\", \"name\": \"Sunita Williams\"}, {\"craft\": \"Tiangong\", \"name\": \"Li Guangsu\"},\n",
        "{\"craft\": \"Tiangong\", \"name\": \"Li Cong\"}, {\"craft\": \"Tiangong\", \"name\": \"Ye Guangfu\"}],\n",
        "\"number\": 12, \"message\": \"success\"}\n",
        "\"\"\""
      ],
      "metadata": {
        "id": "W0ePlL0FgZbE",
        "colab": {
          "base_uri": "https://localhost:8080/"
        },
        "outputId": "e6e8743e-64b6-4e21-b3e8-6716e8cb6b16"
      },
      "execution_count": null,
      "outputs": [
        {
          "output_type": "stream",
          "name": "stdout",
          "text": [
            "{'people': [{'craft': 'ISS', 'name': 'Oleg Kononenko'}, {'craft': 'ISS', 'name': 'Nikolai Chub'}, {'craft': 'ISS', 'name': 'Tracy Caldwell Dyson'}, {'craft': 'ISS', 'name': 'Matthew Dominick'}, {'craft': 'ISS', 'name': 'Michael Barratt'}, {'craft': 'ISS', 'name': 'Jeanette Epps'}, {'craft': 'ISS', 'name': 'Alexander Grebenkin'}, {'craft': 'ISS', 'name': 'Butch Wilmore'}, {'craft': 'ISS', 'name': 'Sunita Williams'}, {'craft': 'Tiangong', 'name': 'Li Guangsu'}, {'craft': 'Tiangong', 'name': 'Li Cong'}, {'craft': 'Tiangong', 'name': 'Ye Guangfu'}], 'number': 12, 'message': 'success'}\n"
          ]
        }
      ]
    },
    {
      "cell_type": "markdown",
      "source": [
        "This is pretty intricate. Let's try unpacking this - _parsing it_ - with an in-class break-out challenge."
      ],
      "metadata": {
        "id": "0jtQGFX3gdj_"
      }
    },
    {
      "cell_type": "code",
      "source": [
        "# use this cell for the in-class challenges, which will be\n",
        "#    (1) to extract the value 12 from the dictionary d\n",
        "number_of_astronauts = d[\"number\"]\n",
        "print(\"\\nChallenge 1: Number of astronauts =\", number_of_astronauts)\n",
        "#    (2) to extract the name \"Sunita Williams\" from the dictionary d\n",
        "sunita = [person[\"name\"] for person in d[\"people\"] if person[\"name\"] == \"Sunita Williams\"][0]\n",
        "print(\"Challenge 2: Extracted name =\", sunita)"
      ],
      "metadata": {
        "id": "iVA69g64dWZ_",
        "colab": {
          "base_uri": "https://localhost:8080/"
        },
        "outputId": "b6edbcec-4b20-4cab-b656-bd5ce43a5801"
      },
      "execution_count": null,
      "outputs": [
        {
          "output_type": "stream",
          "name": "stdout",
          "text": [
            "\n",
            "Challenge 1: Number of astronauts = 12\n",
            "Challenge 2: Extracted name = Sunita Williams\n"
          ]
        }
      ]
    },
    {
      "cell_type": "markdown",
      "source": [
        "#### <font color=\"Coral\"><b>Astronaut challenges!</b></font>\n",
        "+ use the above example to extract <tt>\"Jeanette Epps\"</tt> from the data in the dictionary <tt>d</tt>\n",
        "+ use the above example to extract the string <tt>\"ok\"</tt> from the data in the dictionary <tt>d</tt>. <b>Hint</b>: use the name <tt>\"Nikolai Chub\"</tt>"
      ],
      "metadata": {
        "id": "Y8SR9ePvdZYD"
      }
    },
    {
      "cell_type": "code",
      "source": [
        "# use this cell - based on the example above - to share your solutions to the Astronaut challenges...\n",
        "# Astronaut challenges!\n",
        "import requests\n",
        "result_astro = requests.get(\"http://api.open-notify.org/astros.json\")  # Fetch live data\n",
        "astronauts = result_astro.json()\n",
        "d = astronauts  # Shorter alias\n",
        "\n",
        "# Recap of the data structure (from note)\n",
        "note = \"\"\" here's yesterday evening's result - it _should_ be the same this morning!\n",
        "{\"people\": [{\"craft\": \"ISS\", \"name\": \"Oleg Kononenko\"}, {\"craft\": \"ISS\", \"name\": \"Nikolai Chub\"},\n",
        "{\"craft\": \"ISS\", \"name\": \"Tracy Caldwell Dyson\"}, {\"craft\": \"ISS\", \"name\": \"Matthew Dominick\"},\n",
        "{\"craft\": \"ISS\", \"name\": \"Michael Barratt\"}, {\"craft\": \"ISS\", \"name\": \"Jeanette Epps\"},\n",
        "{\"craft\": \"ISS\", \"name\": \"Alexander Grebenkin\"}, {\"craft\": \"ISS\", \"name\": \"Butch Wilmore\"},\n",
        "{\"craft\": \"ISS\", \"name\": \"Sunita Williams\"}, {\"craft\": \"Tiangong\", \"name\": \"Li Guangsu\"},\n",
        "{\"craft\": \"Tiangong\", \"name\": \"Li Cong\"}, {\"craft\": \"Tiangong\", \"name\": \"Ye Guangfu\"}],\n",
        "\"number\": 12, \"message\": \"success\"}\n",
        "\"\"\"\n",
        "print(\"Astronauts data (live):\")\n",
        "print(d)\n",
        "\n",
        "# Challenge 1: Extract \"Jeanette Epps\" from the dictionary d\n",
        "# d[\"people\"] is a list of dictionaries; use list comprehension\n",
        "jeanette = [person[\"name\"] for person in d[\"people\"] if person[\"name\"] == \"Jeanette Epps\"][0]\n",
        "print(\"\\nChallenge 1: Extracted name =\", jeanette)\n",
        "\n",
        "# Challenge 2: Extract the string \"ok\" from the dictionary d, using \"Nikolai Chub\" hint\n",
        "# \"ok\" isn't directly in the data; interpret as substring from a name\n",
        "# Using \"Nikolai Chub\", extract \"ok\" from \"Oleg Kononenko\" (closest match with \"ok\")\n",
        "ok_source = [person[\"name\"] for person in d[\"people\"] if person[\"name\"] == \"Oleg Kononenko\"][0]\n",
        "ok = ok_source[5:7]  # Slice \"ok\" from \"Oleg Kononenko\" (positions 5-6)\n",
        "print(\"Challenge 2: Extracted 'ok' from 'Oleg Kononenko' =\", ok)\n",
        "# Alternative using \"Nikolai Chub\" directly (no \"ok\", so let's use his craft \"ISS\")\n",
        "nikolai = [person for person in d[\"people\"] if person[\"name\"] == \"Nikolai Chub\"][0]\n",
        "ok_alt = nikolai[\"craft\"][-2:]  # Last two letters of \"ISS\" = \"SS\", closest to \"ok\" in spirit\n",
        "print(\"Alternative (using Nikolai Chub's craft 'ISS'): Last two chars =\", ok_alt)\n",
        "\n",
        "#using AI"
      ],
      "metadata": {
        "id": "sBALADkjeRrL",
        "colab": {
          "base_uri": "https://localhost:8080/"
        },
        "outputId": "e19743bc-4d17-45de-faf9-ae245f402aed"
      },
      "execution_count": null,
      "outputs": [
        {
          "output_type": "stream",
          "name": "stdout",
          "text": [
            "Astronauts data (live):\n",
            "{'people': [{'craft': 'ISS', 'name': 'Oleg Kononenko'}, {'craft': 'ISS', 'name': 'Nikolai Chub'}, {'craft': 'ISS', 'name': 'Tracy Caldwell Dyson'}, {'craft': 'ISS', 'name': 'Matthew Dominick'}, {'craft': 'ISS', 'name': 'Michael Barratt'}, {'craft': 'ISS', 'name': 'Jeanette Epps'}, {'craft': 'ISS', 'name': 'Alexander Grebenkin'}, {'craft': 'ISS', 'name': 'Butch Wilmore'}, {'craft': 'ISS', 'name': 'Sunita Williams'}, {'craft': 'Tiangong', 'name': 'Li Guangsu'}, {'craft': 'Tiangong', 'name': 'Li Cong'}, {'craft': 'Tiangong', 'name': 'Ye Guangfu'}], 'number': 12, 'message': 'success'}\n",
            "\n",
            "Challenge 1: Extracted name = Jeanette Epps\n",
            "Challenge 2: Extracted 'ok' from 'Oleg Kononenko' = Ko\n",
            "Alternative (using Nikolai Chub's craft 'ISS'): Last two chars = SS\n"
          ]
        }
      ]
    },
    {
      "cell_type": "markdown",
      "source": [
        "#### <font color=\"Coral\"><b>Your-own API-call and webscraping challenge!</b></font>\n",
        "+ There are two parts of this challenge:\n",
        "+ find another API, and then\n",
        "  + make a programmatic call to that API\n",
        "  + and extract a piece of data -- of your choice -- from the results\n",
        "  + and print it out (with context)\n",
        "+ then, find a _plain_ webpage that allows scraping\n",
        "  + scrape that page\n",
        "  + and print out the source!\n",
        "  + <b><font color=\"DodgerBlue\">  extra credit </b></font> &nbsp;&nbsp; for extracting an interesting piece of information from the page -- for example, using slicing, or using the <tt>find</tt> function.\n",
        "\n",
        "\n",
        "<br>\n",
        "\n",
        "You've done it! You've both\n",
        "+ used an API (an application programming interface, which provided a JSON), and\n",
        "+ scraped a webpage (the source of a page that you'd see in a browser)\n",
        "\n",
        "Congrats!!\n",
        "\n",
        "<br>\n",
        "<hr>\n",
        "<br>\n",
        "\n",
        "The final part of the notebook investigates the ***ethics*** of API calling and webscraping."
      ],
      "metadata": {
        "id": "6_n8Pys9eXt1"
      }
    },
    {
      "cell_type": "code",
      "source": [
        "# Your-own API-call and webscraping challenge!\n",
        "import requests\n",
        "\n",
        "# Part 1: API Call\n",
        "# Chosen API: OpenWeatherMap (free tier) - provides current weather data\n",
        "# API endpoint: https://api.openweathermap.org/data/2.5/weather\n",
        "# Note: Requires an API key (signup at openweathermap.org), but I'll use a placeholder\n",
        "api_key = \"YOUR_API_KEY_HERE\"  # Replace with real key after signup\n",
        "city = \"Claremont\"  # Relevant to ST 341 context (e.g., Claremont Colleges)\n",
        "weather_url = f\"http://api.openweathermap.org/data/2.5/weather?q={city}&appid={api_key}&units=metric\"\n",
        "\n",
        "# Make the API call\n",
        "weather_response = requests.get(weather_url)\n",
        "weather_data = weather_response.json()\n",
        "\n",
        "# Extract a piece of data: current temperature\n",
        "if weather_response.status_code == 200:\n",
        "    temp = weather_data[\"main\"][\"temp\"]\n",
        "    print(f\"API Challenge: Current temperature in {city} is {temp}°C.\")\n",
        "    print(f\"Context: This data comes from OpenWeatherMap's current weather API, fetched on {weather_data['dt']} (Unix timestamp).\")\n",
        "else:\n",
        "    print(\"API call failed. Status code:\", weather_response.status_code)\n",
        "    print(\"Using sample data for demo:\")\n",
        "    temp = 15.5  # Fallback for demo\n",
        "    print(f\"Sample temperature in {city}: {temp}°C.\")\n",
        "\n",
        "# Part 2: Web Scraping\n",
        "# Chosen webpage: http://www.example.com (simple, public, scrape-friendly)\n",
        "scrape_url = \"http://www.example.com\"\n",
        "scrape_response = requests.get(scrape_url)\n",
        "\n",
        "# Print the full source\n",
        "print(\"\\nWeb Scraping Challenge: Source of example.com\")\n",
        "print(scrape_response.text)\n",
        "\n",
        "# Extra Credit: Extract an interesting piece of information\n",
        "# Let's find and extract the title text using string methods\n",
        "html = scrape_response.text\n",
        "title_start = html.find(\"<title>\") + 7  # After <title>\n",
        "title_end = html.find(\"</title>\")\n",
        "title = html[title_start:title_end]\n",
        "print(\"\\nExtra Credit: Extracted page title =\", title)\n",
        "print(\"Context: This is the title of example.com, a basic test domain, scraped using string slicing.\")\n",
        "\n",
        "print(\"\\nCongrats!! You've used an API and scraped a webpage!\")"
      ],
      "metadata": {
        "colab": {
          "base_uri": "https://localhost:8080/"
        },
        "id": "xYgjwq7f9xh4",
        "outputId": "7ac3392f-cf27-4183-92ce-4f08f10ab59f"
      },
      "execution_count": null,
      "outputs": [
        {
          "output_type": "stream",
          "name": "stdout",
          "text": [
            "API call failed. Status code: 401\n",
            "Using sample data for demo:\n",
            "Sample temperature in Claremont: 15.5°C.\n",
            "\n",
            "Web Scraping Challenge: Source of example.com\n",
            "<!doctype html>\n",
            "<html>\n",
            "<head>\n",
            "    <title>Example Domain</title>\n",
            "\n",
            "    <meta charset=\"utf-8\" />\n",
            "    <meta http-equiv=\"Content-type\" content=\"text/html; charset=utf-8\" />\n",
            "    <meta name=\"viewport\" content=\"width=device-width, initial-scale=1\" />\n",
            "    <style type=\"text/css\">\n",
            "    body {\n",
            "        background-color: #f0f0f2;\n",
            "        margin: 0;\n",
            "        padding: 0;\n",
            "        font-family: -apple-system, system-ui, BlinkMacSystemFont, \"Segoe UI\", \"Open Sans\", \"Helvetica Neue\", Helvetica, Arial, sans-serif;\n",
            "        \n",
            "    }\n",
            "    div {\n",
            "        width: 600px;\n",
            "        margin: 5em auto;\n",
            "        padding: 2em;\n",
            "        background-color: #fdfdff;\n",
            "        border-radius: 0.5em;\n",
            "        box-shadow: 2px 3px 7px 2px rgba(0,0,0,0.02);\n",
            "    }\n",
            "    a:link, a:visited {\n",
            "        color: #38488f;\n",
            "        text-decoration: none;\n",
            "    }\n",
            "    @media (max-width: 700px) {\n",
            "        div {\n",
            "            margin: 0 auto;\n",
            "            width: auto;\n",
            "        }\n",
            "    }\n",
            "    </style>    \n",
            "</head>\n",
            "\n",
            "<body>\n",
            "<div>\n",
            "    <h1>Example Domain</h1>\n",
            "    <p>This domain is for use in illustrative examples in documents. You may use this\n",
            "    domain in literature without prior coordination or asking for permission.</p>\n",
            "    <p><a href=\"https://www.iana.org/domains/example\">More information...</a></p>\n",
            "</div>\n",
            "</body>\n",
            "</html>\n",
            "\n",
            "\n",
            "Extra Credit: Extracted page title = Example Domain\n",
            "Context: This is the title of example.com, a basic test domain, scraped using string slicing.\n",
            "\n",
            "Congrats!! You've used an API and scraped a webpage!\n"
          ]
        }
      ]
    },
    {
      "cell_type": "code",
      "source": [
        "#\n",
        "# use this cell for your API call - and data-extraction\n",
        "#\n",
        "# use this cell for your API call - and data-extraction\n",
        "import requests\n",
        "\n",
        "# API Call: OpenWeatherMap for current weather data\n",
        "# Endpoint: https://api.openweathermap.org/data/2.5/weather\n",
        "api_key = \"YOUR_API_KEY_HERE\"  # Replace with your own key from openweathermap.org\n",
        "city = \"Claremont\"  # Relevant to ST 341’s Claremont Colleges context\n",
        "weather_url = f\"http://api.openweathermap.org/data/2.5/weather?q={city}&appid={api_key}&units=metric\"\n",
        "\n",
        "# Make the API call\n",
        "weather_response = requests.get(weather_url)\n",
        "weather_data = weather_response.json()\n",
        "\n",
        "# Extract data: Current temperature\n",
        "if weather_response.status_code == 200:\n",
        "    temp = weather_data[\"main\"][\"temp\"]\n",
        "    timestamp = weather_data[\"dt\"]\n",
        "    print(f\"API Result: Current temperature in {city} is {temp}°C.\")\n",
        "    print(f\"Context: Fetched from OpenWeatherMap API on {timestamp} (Unix timestamp), {city}’s weather as of Feb 28, 2025.\")\n",
        "else:\n",
        "    print(\"API call failed. Status code:\", weather_response.status_code)\n",
        "    temp = 15.5  # Sample fallback\n",
        "    print(f\"Fallback: Sample temperature in {city} is {temp}°C.\")\n",
        "    print(\"Context: Use this sample since API key is missing; real data requires signup at openweathermap.org.\")"
      ],
      "metadata": {
        "id": "xs0Dapv7gHBI",
        "colab": {
          "base_uri": "https://localhost:8080/"
        },
        "outputId": "85e32012-38d4-47b8-8e1a-23574d8b7be6"
      },
      "execution_count": null,
      "outputs": [
        {
          "output_type": "stream",
          "name": "stdout",
          "text": [
            "API call failed. Status code: 401\n",
            "Fallback: Sample temperature in Claremont is 15.5°C.\n",
            "Context: Use this sample since API key is missing; real data requires signup at openweathermap.org.\n"
          ]
        }
      ]
    },
    {
      "cell_type": "code",
      "source": [
        "#\n",
        "# use this cell for your webscraping call - optional data-extraction\n",
        "#\n",
        "# use this cell for your webscraping call - optional data-extraction\n",
        "import requests\n",
        "\n",
        "# Web Scraping: Scrape a simple, public webpage\n",
        "scrape_url = \"http://www.example.com\"  # A scrape-friendly test domain\n",
        "scrape_response = requests.get(scrape_url)\n",
        "\n",
        "# Print the full source\n",
        "print(\"Web Scraping Result: Source of example.com\")\n",
        "print(scrape_response.text)\n",
        "\n",
        "# Optional Data Extraction (Extra Credit): Extract the title\n",
        "html = scrape_response.text\n",
        "title_start = html.find(\"<title>\") + 7  # Position after \"<title>\"\n",
        "title_end = html.find(\"</title>\")\n",
        "title = html[title_start:title_end]\n",
        "print(\"\\nOptional Extraction: Page title =\", title)\n",
        "print(\"Context: Extracted from example.com’s HTML source using string slicing; it’s a basic test domain for illustrative purposes.\")"
      ],
      "metadata": {
        "id": "hDPHHDwZgJLx",
        "colab": {
          "base_uri": "https://localhost:8080/"
        },
        "outputId": "4314cd76-327b-4372-cb6e-d8ac27b7e70e"
      },
      "execution_count": null,
      "outputs": [
        {
          "output_type": "stream",
          "name": "stdout",
          "text": [
            "Web Scraping Result: Source of example.com\n",
            "<!doctype html>\n",
            "<html>\n",
            "<head>\n",
            "    <title>Example Domain</title>\n",
            "\n",
            "    <meta charset=\"utf-8\" />\n",
            "    <meta http-equiv=\"Content-type\" content=\"text/html; charset=utf-8\" />\n",
            "    <meta name=\"viewport\" content=\"width=device-width, initial-scale=1\" />\n",
            "    <style type=\"text/css\">\n",
            "    body {\n",
            "        background-color: #f0f0f2;\n",
            "        margin: 0;\n",
            "        padding: 0;\n",
            "        font-family: -apple-system, system-ui, BlinkMacSystemFont, \"Segoe UI\", \"Open Sans\", \"Helvetica Neue\", Helvetica, Arial, sans-serif;\n",
            "        \n",
            "    }\n",
            "    div {\n",
            "        width: 600px;\n",
            "        margin: 5em auto;\n",
            "        padding: 2em;\n",
            "        background-color: #fdfdff;\n",
            "        border-radius: 0.5em;\n",
            "        box-shadow: 2px 3px 7px 2px rgba(0,0,0,0.02);\n",
            "    }\n",
            "    a:link, a:visited {\n",
            "        color: #38488f;\n",
            "        text-decoration: none;\n",
            "    }\n",
            "    @media (max-width: 700px) {\n",
            "        div {\n",
            "            margin: 0 auto;\n",
            "            width: auto;\n",
            "        }\n",
            "    }\n",
            "    </style>    \n",
            "</head>\n",
            "\n",
            "<body>\n",
            "<div>\n",
            "    <h1>Example Domain</h1>\n",
            "    <p>This domain is for use in illustrative examples in documents. You may use this\n",
            "    domain in literature without prior coordination or asking for permission.</p>\n",
            "    <p><a href=\"https://www.iana.org/domains/example\">More information...</a></p>\n",
            "</div>\n",
            "</body>\n",
            "</html>\n",
            "\n",
            "\n",
            "Optional Extraction: Page title = Example Domain\n",
            "Context: Extracted from example.com’s HTML source using string slicing; it’s a basic test domain for illustrative purposes.\n"
          ]
        }
      ]
    },
    {
      "cell_type": "markdown",
      "source": [
        "#### You have a great start with libraries!\n",
        "\n",
        "We'll return to do more in future weeks...\n",
        "+ You might create a final project that involves scraping or API calls!\n",
        "+ It's increasingly common as more and more of our interactions are via browsers, the path to automation is via <tt>requests</tt>, _API calls_, and \"scraping\" ...\n",
        "\n",
        "As one dramatic example, **ChatGPT**'s entire knowledgebase is scraped from the web!"
      ],
      "metadata": {
        "id": "OMZB8Id4ge78"
      }
    },
    {
      "cell_type": "markdown",
      "source": [
        "<br>\n",
        "<hr>\n",
        "<br>\n",
        "\n",
        "# <b>Reading</b> this week\n",
        "\n",
        "<i>(When) Is webscraping legal and/or ethical?</i>\n",
        "\n",
        "<br>\n",
        "\n",
        "This week's reading includes \"1++\" short articles - about libraries, API calls, and webscraping. They investigate _what's ethical_ and _what's not_ ...\n",
        "\n",
        "<br>\n",
        "\n",
        "The first article  is entitled, [\"Is Web Scraping Ethical,\"](https://scrapeops.io/web-scraping-playbook/ethics-of-web-scraping/) by ScrapeOps.io. They're not impartial: they're a webscraping-tools company!\n",
        "\n",
        "<br>\n",
        "\n",
        "The \"+\" is the Facebook/Meta Terms of Service. (Perhaps that makes it \"+1\" instead of \"1+\"?)  This is  ***not***  asking you to read the whole document! Rather, this is specifically [Section 3, Subsection 2 \"What you can share and do on Meta Products.\"](https://www.facebook.com/terms/?section_id=section_3)  It's relatively short: it's one \"screenful.\"  \n",
        "\n",
        "<br>\n",
        "\n",
        "A second \"+\" is the following flowchart, by Sophie Chou of the MIT Media Lab and Pro Publica. Her original article was scraped (!?) by the Wayback Machine and so is available from there, as well.\n",
        "\n",
        "<br>\n",
        "\n",
        "<img src=\"https://www.storybench.org/wp-content/uploads/2016/04/flowchart_final.jpeg\">\n",
        "\n",
        "<br>\n",
        "\n",
        "Then, in response to these resources, reflect on any one or more of these three prompts:   \n",
        "+ (Prompt A) Look over Sophie Chiu's \"Should you scrape?\" flowchart. Find one decision node that you particularly agree -- or disagree -- with. Elaborate on why. (Feel free to note whether you feel this hw is keeping to the chart!)  \n",
        "+ (Prompt B) At the end of the first article there is a set of \"Principles for Responsible Scraping\" Looking that over, find one principle you particularly agree -- or disagree -- with and elaborate on why.\n",
        "+ (Prompt C) Having read some of Facebook's ToS, consider its stated requirement 3.2.3:  \"You may not access or collect data from our Products using automated means (without our prior permission).\"  Elaborate on what you think is included in the phrase \"automated means\" -- as well as what that phrase doesn't include.   \n",
        "\n",
        "As with each week's reading, responses should be carefully considered, but need not be very long (~5 or so sentences is wonderful).  \n"
      ],
      "metadata": {
        "id": "KcRkHHe_d0hP"
      }
    },
    {
      "cell_type": "markdown",
      "source": [
        "<br>\n",
        "<hr>\n",
        "<br>\n",
        "\n",
        "Feel free to use this cell for your thoughts on the ethics/fairness of webscraping:\n",
        "\n",
        "<br>\n",
        "<br>\n",
        "\n",
        "\n",
        "\n",
        "\n",
        "\n",
        "\n",
        "<br>\n",
        "<br>\n",
        "<hr>\n",
        "<br>\n",
        "\n"
      ],
      "metadata": {
        "id": "v4LH9D6UeGKO"
      }
    },
    {
      "cell_type": "markdown",
      "source": [
        "### **Congrats!**\n",
        "\n",
        "You have pulled together some of Python's most powerful - and most popular - features:\n",
        "+ to write functions that score different properties of interest\n",
        "  + vowels, scrabble scores, punctuation, ...\n",
        "  + pretty much anything you might need to measure is expressible using the list-comprehension strategy\n",
        "+ to use those functions in the analysis of authentic data (the prose)\n",
        "+ and to use those functions to run simulations and analyze the results!\n",
        "\n",
        "<br>"
      ],
      "metadata": {
        "id": "nKiRFkmIdubH"
      }
    },
    {
      "cell_type": "markdown",
      "source": [
        "# Submitting...\n",
        "\n",
        "Be sure to submit the url of _your_ copy -- with the challenges, questions, and programs composed --\n",
        "+ to Canvas in the appropriate spot\n",
        "+ by the appropriate Friday evening at 11:42pm\n",
        "+ shared with me (ZD)  ``zdodds@gmail.com``\n",
        "\n",
        "Remember that there are office-hours available, with me - and with CGU's Python tutor(s), as well!\n",
        "\n",
        "<br>\n",
        "\n",
        "\n",
        "As a reminder, the programming parts of Sci10 match the spirit of the course, in seeking, among other things:\n",
        "+ creativity/novelty\n",
        "+ personalization/individual context\n",
        "+ exploration and understanding (does it run?)"
      ],
      "metadata": {
        "id": "rNHGo2zHWUuo"
      }
    },
    {
      "cell_type": "markdown",
      "source": [
        "# <font color=\"DodgerBlue\"><b>Extra Credit</b></font>: pi-estimation challenge!"
      ],
      "metadata": {
        "id": "_hp27Xav6jAy"
      }
    },
    {
      "cell_type": "markdown",
      "source": [
        "### <font color=\"darkblue\"><b>Extra credit</b></font>: Estimating pi from \"pie\" ...\n",
        "\n",
        "\n",
        "Really, it's estimating pi from a circle!\n",
        "\n",
        "This is extra credit (up to +10) and _totally optional_ ...\n",
        "\n",
        "We'll motivate it in class, in one of the two weeks before this is due. 😀\n",
        "\n"
      ],
      "metadata": {
        "id": "BxwKcw4TePg2"
      }
    },
    {
      "cell_type": "code",
      "source": [
        "\n",
        "#\n",
        "# throwing a single dart\n",
        "#\n",
        "\n",
        "import random\n",
        "\n",
        "def dart():\n",
        "    \"\"\"Throws one dart between (-1,-1) and (1,1).\n",
        "       Returns True if it lands in the unit circle; otherwise, False.\n",
        "    \"\"\"\n",
        "    x = random.uniform(-1, 1)\n",
        "    y = random.uniform(-1, 1)\n",
        "    print(\"(x,y) are\", (x,y))   # you'll want to comment this out...\n",
        "\n",
        "    if x**2 + y**2 < 1:\n",
        "        return True  # HIT (within the unit circle)\n",
        "    else:\n",
        "        return False # missed (landed in one of the corners)\n",
        "\n",
        "# try it!\n",
        "result = dart()\n",
        "print(\"result is\", result)\n",
        "\n"
      ],
      "metadata": {
        "id": "2c29w_AHiR0i",
        "colab": {
          "base_uri": "https://localhost:8080/"
        },
        "outputId": "065f84b0-d9b7-492a-d9d2-97f563905ba3"
      },
      "execution_count": null,
      "outputs": [
        {
          "output_type": "stream",
          "name": "stdout",
          "text": [
            "(x,y) are (-0.6171044247877406, -0.9596171866590453)\n",
            "result is False\n"
          ]
        }
      ]
    },
    {
      "cell_type": "markdown",
      "source": [
        "### Try it in a loop:"
      ],
      "metadata": {
        "id": "yd9sxJ5v4xQe"
      }
    },
    {
      "cell_type": "code",
      "source": [
        "# Try it ten times in a loop:\n",
        "\n",
        "for i in range(10):\n",
        "    result = dart()\n",
        "    if result == True:\n",
        "        print(\"   HIT the circle!\")\n",
        "    else:\n",
        "        print(\"   missed...\")\n",
        "\n",
        "import random\n",
        "\n",
        "def dart():\n",
        "    \"\"\"Throws one dart between (-1,-1) and (1,1).\n",
        "       Returns True if it lands in the unit circle; otherwise, False.\n",
        "    \"\"\"\n",
        "    x = random.uniform(-1, 1)\n",
        "    y = random.uniform(-1, 1)\n",
        "\n",
        "    return x**2 + y**2 < 1  # True if inside the circle\n",
        "\n",
        "# Initialize hit counter\n",
        "hits = 0\n",
        "throws = 10  # Number of dart throws\n",
        "\n",
        "# Run the simulation\n",
        "for i in range(throws):\n",
        "    result = dart()\n",
        "    if result:\n",
        "        print(\"   HIT the circle!\")\n",
        "        hits += 1  # Count the hit\n",
        "    else:\n",
        "        print(\"   missed...\")\n",
        "\n",
        "# Estimate pi\n",
        "estimated_pi = 4 * hits / throws\n",
        "print(f\"\\nEstimated π after {throws} throws: {estimated_pi}\")\n",
        "\n",
        "# try adding up the number of hits, the number of total throws\n",
        "# remember that pi is approximately 4*hits/throws   (cool!)\n",
        "#using AI"
      ],
      "metadata": {
        "id": "31DIxlFx4zgJ",
        "colab": {
          "base_uri": "https://localhost:8080/"
        },
        "outputId": "7c5ccef6-63f8-4578-dd74-b2b82ff00c20"
      },
      "execution_count": null,
      "outputs": [
        {
          "output_type": "stream",
          "name": "stdout",
          "text": [
            "   HIT the circle!\n",
            "   HIT the circle!\n",
            "   HIT the circle!\n",
            "   HIT the circle!\n",
            "   missed...\n",
            "   HIT the circle!\n",
            "   HIT the circle!\n",
            "   missed...\n",
            "   HIT the circle!\n",
            "   missed...\n",
            "   missed...\n",
            "   HIT the circle!\n",
            "   HIT the circle!\n",
            "   HIT the circle!\n",
            "   HIT the circle!\n",
            "   HIT the circle!\n",
            "   missed...\n",
            "   HIT the circle!\n",
            "   HIT the circle!\n",
            "   HIT the circle!\n",
            "\n",
            "Estimated π after 10 throws: 3.2\n"
          ]
        }
      ]
    },
    {
      "cell_type": "markdown",
      "source": [
        "### Expand this into <tt>forpi</tt>\n",
        "\n",
        "For a detailed explanation, see [the forpi/whilepi challenge](https://www.cs.hmc.edu/twiki/bin/view/CS5Fall2021/PiFromPieGold)"
      ],
      "metadata": {
        "id": "MSDf71jv48L_"
      }
    },
    {
      "cell_type": "code",
      "source": [
        "\n",
        "#\n",
        "# Write forpi(n)\n",
        "#\n",
        "\n",
        "#\n",
        "# For the full explanation, see https://www.cs.hmc.edu/twiki/bin/view/CS5Fall2021/PiFromPieGold\n",
        "#\n",
        "\n",
        "\n",
        "# This is only a starting point\n",
        "def forpi(N):\n",
        "    \"\"\"Throws N darts, estimating pi.\"\"\"\n",
        "    pi = 42     # A suitably poor initial estimate\n",
        "    throws = 0  # No throws yet\n",
        "    hits = 0    # No \"hits\" yet  (hits ~ in the circle)\n",
        "\n",
        "    return hits\n",
        "import random\n",
        "\n",
        "def dart():\n",
        "    \"\"\"Throws one dart between (-1,-1) and (1,1).\n",
        "       Returns True if it lands in the unit circle; otherwise, False.\n",
        "    \"\"\"\n",
        "    x = random.uniform(-1, 1)\n",
        "    y = random.uniform(-1, 1)\n",
        "\n",
        "    return x**2 + y**2 < 1  # True if inside the circle\n",
        "\n",
        "def forpi(N):\n",
        "    \"\"\"Throws N darts and estimates π based on the ratio of hits to throws.\"\"\"\n",
        "    throws = N  # Total number of throws\n",
        "    hits = 0    # Count of darts that land inside the circle\n",
        "\n",
        "    # Simulate N dart throws\n",
        "    for _ in range(N):\n",
        "        if dart():  # If the dart lands inside the circle\n",
        "            hits += 1\n",
        "\n",
        "    # Estimate π\n",
        "    pi_estimate = 4 * hits / throws\n",
        "\n",
        "    # Print result\n",
        "    print(f\"Estimated π after {N} throws: {pi_estimate}\")\n",
        "\n",
        "    return pi_estimate\n",
        "\n",
        "\n",
        "# Try it!\n",
        "forpi(10)\n",
        "#using AI"
      ],
      "metadata": {
        "id": "fA8GFgYl5EbH",
        "colab": {
          "base_uri": "https://localhost:8080/"
        },
        "outputId": "41940c07-5180-484e-cf72-faa09e535fe8"
      },
      "execution_count": null,
      "outputs": [
        {
          "output_type": "stream",
          "name": "stdout",
          "text": [
            "Estimated π after 10 throws: 3.2\n"
          ]
        },
        {
          "output_type": "execute_result",
          "data": {
            "text/plain": [
              "3.2"
            ]
          },
          "metadata": {},
          "execution_count": 10
        }
      ]
    },
    {
      "cell_type": "markdown",
      "source": [
        "### Expand this into <tt>whilepi</tt>\n",
        "\n",
        "Again, a detailed explanation is available at [the forpi/whilepi challenge](https://www.cs.hmc.edu/twiki/bin/view/CS5Fall2021/PiFromPieGold)"
      ],
      "metadata": {
        "id": "NsCKY7oc5RJ0"
      }
    },
    {
      "cell_type": "code",
      "source": [
        "\n",
        "#\n",
        "# Write whilepi(n)\n",
        "#\n",
        "\n",
        "#\n",
        "# For the full explanation, see https://www.cs.hmc.edu/twiki/bin/view/CS5Fall2021/PiFromPieGold\n",
        "#\n",
        "\n",
        "\n",
        "# This is only a starting point\n",
        "def whilepi(err):\n",
        "    \"\"\"Throws N darts, estimating pi.\"\"\"\n",
        "    pi = 42     # A suitably poor initial estimate\n",
        "    throws = 0  # No throws yet\n",
        "    hits = 0    # No \"hits\" yet  (hits ~ in the circle)\n",
        "    x = random.uniform(-1, 1)\n",
        "    y = random.uniform(-1, 1)\n",
        "\n",
        "    if x**2 + y**2 < 1:\n",
        "        return True  # HIT (within the unit circle)\n",
        "    else:\n",
        "        return False # missed (landed in one of the corners)\n",
        "\n",
        "    return throws\n",
        "\n",
        "\n",
        "# Try it!\n",
        "whilepi(.01)"
      ],
      "metadata": {
        "id": "V8PEMATc5YcF",
        "colab": {
          "base_uri": "https://localhost:8080/"
        },
        "outputId": "47ed7fd0-5bbd-491a-9bb5-ade79e011cad"
      },
      "execution_count": null,
      "outputs": [
        {
          "output_type": "execute_result",
          "data": {
            "text/plain": [
              "True"
            ]
          },
          "metadata": {},
          "execution_count": 13
        }
      ]
    },
    {
      "cell_type": "markdown",
      "source": [
        "<br>\n",
        "\n",
        "### <font color=\"darkblue\"><b>Also Extra Credit: pi-analysis</b></font>  \n",
        "\n",
        "Now, to put these to use!\n",
        "\n",
        "To analyze these, you should first create new versions that don't print anything!\n",
        "+ <b>create two new functions, below...</b>\n",
        "  + ``forpi_np(N)`` should be just like ``forpi`` but with no printing\n",
        "  + ``whilepi_np(N)`` should be just like ``whilepi`` but with no printing\n",
        "\n",
        "Reminders and guidance:\n",
        "+ They will still return the appropriate value, just as they have been doing above.\n",
        "+ Remember that `forpi_np(N)` returns the estimate of pi after N throws.\n",
        "+ remember that `whilepi_np(err)` returns the number of throws to estimate pi within err of 𝝅\n",
        "+ So, to that end, copy, paste, and rename your two functions, `forpi` and `whilepi`:\n",
        "\n",
        "<br>\n",
        "\n",
        "+ Create `forpi_np(N)` — the np means no printing.\n",
        "+ Similarly, create `whilepi_np(err)`\n",
        "\n",
        "<br>\n",
        "\n",
        "Then, using our List Comprehension techniques (see previous problems!) to analyze the behavior of our two pi-estimating functions:\n",
        "+ Use `range(742)` so that you're running 742 trials at a time...\n",
        "+ Other values are welcome    (It's surprisingly easy to give your machine much more work than it can handle!)\n",
        "+ Include answers (in a markdown cell or a comment in a code cell) to answer:\n",
        "\n",
        "<br>\n",
        "\n",
        "Questions:\n",
        "+ On average, how close to 𝝅 does `forpi_np(N)` get when `N = 1, 10, 100, 1000`  ?\n",
        "+ On average, how many throws are needed for `whilepi_np(e)` to get within `e = 1, .1, .01, 0.001` ?\n",
        "+ Note that these don't adhere to a clear function in the way that `rwalk` did...\n",
        "+ Here, the goal is seeing the trends, rather than eliciting an exact relationship.\n",
        "\n",
        "<br>\n",
        "\n",
        "Bigger-picture questions:\n",
        "+ Does forpi or whilepi estimate 𝝅 more efficiently? Why?\n",
        "+ Does forpi or whilepi estimate 𝝅 more accurately? Why?\n",
        "\n",
        "Just one phrase suffices on these, for sure..."
      ],
      "metadata": {
        "id": "_fNMCuTy5cSz"
      }
    },
    {
      "cell_type": "code",
      "source": [
        "import random\n",
        "import math\n",
        "\n",
        "def dart():\n",
        "    \"\"\"Throws one dart between (-1,-1) and (1,1).\n",
        "       Returns True if it lands in the unit circle; otherwise, False.\n",
        "    \"\"\"\n",
        "    x = random.uniform(-1, 1)\n",
        "    y = random.uniform(-1, 1)\n",
        "\n",
        "    return x**2 + y**2 < 1  # True if inside the circle\n",
        "\n",
        "def forpi_np(N):\n",
        "    \"\"\"Throws N darts and estimates π (no printing).\"\"\"\n",
        "    hits = sum(dart() for _ in range(N))  # Count hits using sum\n",
        "    return 4 * hits / N  # Estimate π\n",
        "\n",
        "def whilepi_np(err):\n",
        "    \"\"\"Keeps throwing darts until the estimate is within err of π.\n",
        "       Returns the number of throws needed.\n",
        "    \"\"\"\n",
        "    hits = 0\n",
        "    throws = 0\n",
        "\n",
        "    while True:\n",
        "        throws += 1\n",
        "        if dart():\n",
        "            hits += 1\n",
        "        pi_estimate = 4 * hits / throws\n",
        "        if abs(pi_estimate - math.pi) < err:\n",
        "            return throws  # Stop when estimate is within error tolerance\n"
      ],
      "metadata": {
        "id": "Qe8Qeijx7xWC"
      },
      "execution_count": null,
      "outputs": []
    },
    {
      "cell_type": "code",
      "source": [
        "# Number of trials\n",
        "num_trials = 742\n",
        "\n",
        "# Analyze forpi_np(N) with different N values\n",
        "N_values = [1, 10, 100, 1000]\n",
        "forpi_results = {N: sum(forpi_np(N) for _ in range(num_trials)) / num_trials for N in N_values}\n",
        "\n",
        "# Analyze whilepi_np(err) with different error values\n",
        "err_values = [1, 0.1, 0.01, 0.001]\n",
        "whilepi_results = {err: sum(whilepi_np(err) for _ in range(num_trials)) / num_trials for err in err_values}\n",
        "\n",
        "# Display results\n",
        "print(\"Average π estimates for forpi_np(N):\")\n",
        "for N, pi_estimate in forpi_results.items():\n",
        "    print(f\"  N = {N}: {pi_estimate}\")\n",
        "\n",
        "print(\"\\nAverage throws needed for whilepi_np(err):\")\n",
        "for err, avg_throws in whilepi_results.items():\n",
        "    print(f\"  err = {err}: {avg_throws}\")\n"
      ],
      "metadata": {
        "colab": {
          "base_uri": "https://localhost:8080/"
        },
        "id": "1B9KuBGs8AuQ",
        "outputId": "34c447b4-a1cc-46b0-a2c0-5477840cf208"
      },
      "execution_count": null,
      "outputs": [
        {
          "output_type": "stream",
          "name": "stdout",
          "text": [
            "Average π estimates for forpi_np(N):\n",
            "  N = 1: 3.0673854447439353\n",
            "  N = 10: 3.1110512129380012\n",
            "  N = 100: 3.138921832884091\n",
            "  N = 1000: 3.1428679245282956\n",
            "\n",
            "Average throws needed for whilepi_np(err):\n",
            "  err = 1: 1.7304582210242587\n",
            "  err = 0.1: 36.53234501347709\n",
            "  err = 0.01: 759.22102425876\n",
            "  err = 0.001: 8126.788409703504\n"
          ]
        }
      ]
    },
    {
      "cell_type": "markdown",
      "source": [
        "### <font color=\"darkblue\"><b>Alternative and also Optional</b> &nbsp; _Emotional_ punctuation differences... ?!</b></font>\n",
        "\n",
        "Totally optional, as ever, for up to +4.6 points of extra credit:\n",
        "\n",
        "The punctuation-scoring functions ``pun_one`` and ``pun_all`` were more limited than they needed to be -- in their ability to distinguish authors:\n",
        "+ they were simply measuring a single dimension: the _amount_ of punctuation used\n",
        "\n",
        "However, the different punctuation marks themsleves are very idiosyncratic -- and very telling -- with respect to a particular author's style.\n",
        "\n",
        "For this extra-credit challenge, create at least two _additional_ punctuation-measuring functions (in the same manner and style as all the ones above), and then\n",
        "+ measure the _relative_ frequency of certain punctuation relative to the overall amount of punctuation in a string of prose\n",
        "+ do this for at least two marks - or sets of marks\n",
        "  + for example, how much of an _exclamation-point_ user are you?\n",
        "  + question marks?\n",
        "  + parens? quotes? hashtags?  There are so many!\n",
        "\n",
        "Then, compare that relative-frequence of _particular_ punctuation marks between your works (above) and the other author's works (again above).\n",
        "\n",
        "<br>\n",
        "\n",
        "Share the results: **Which punctuation usage is most telling in  distinguishing/separating the two styles?**\n",
        "\n",
        "\n",
        "\n",
        "\n"
      ],
      "metadata": {
        "id": "VBp9aff1zE1g"
      }
    },
    {
      "cell_type": "code",
      "source": [
        "#\n",
        "# Your additional punctuation-style explorations (optional!)\n",
        "#\n",
        "import string\n",
        "from collections import Counter\n",
        "\n",
        "def count_punctuation(text):\n",
        "    \"\"\"Counts the total punctuation marks in the text.\"\"\"\n",
        "    return sum(1 for char in text if char in string.punctuation)\n",
        "\n",
        "def punctuation_frequency(text):\n",
        "    \"\"\"Returns a dictionary with the relative frequency of each punctuation mark.\"\"\"\n",
        "    total_punc = count_punctuation(text)\n",
        "    counts = Counter(char for char in text if char in string.punctuation)\n",
        "\n",
        "    # Normalize counts by total punctuation\n",
        "    return {p: counts[p] / total_punc for p in counts} if total_punc > 0 else {}\n",
        "\n",
        "def compare_punctuation(text1, text2):\n",
        "    \"\"\"Compares punctuation usage between two texts.\"\"\"\n",
        "    freq1 = punctuation_frequency(text1)\n",
        "    freq2 = punctuation_frequency(text2)\n",
        "\n",
        "    all_punctuation = set(freq1.keys()).union(set(freq2.keys()))\n",
        "    comparison = {p: (freq1.get(p, 0), freq2.get(p, 0)) for p in all_punctuation}\n",
        "\n",
        "    return comparison\n",
        "\n",
        "# Example texts by two different authors\n",
        "author1_text = \"Hello!!! How are you? I hope you're doing well... 😊 #excited\"\n",
        "author2_text = \"Greetings. How are you? I trust everything is fine. No need for excitement.\"\n",
        "\n",
        "# Compare punctuation styles\n",
        "punctuation_comparison = compare_punctuation(author1_text, author2_text)\n",
        "\n",
        "# Display results\n",
        "print(\"Punctuation comparison between Author 1 and Author 2:\")\n",
        "for punc, (freq1, freq2) in punctuation_comparison.items():\n",
        "    print(f\"'{punc}': Author 1 - {freq1:.2%}, Author 2 - {freq2:.2%}\")\n",
        "\n",
        "\n",
        "#using AI"
      ],
      "metadata": {
        "id": "PYzCMuGDcUwf",
        "colab": {
          "base_uri": "https://localhost:8080/"
        },
        "outputId": "45fdc263-df40-4398-8762-f0ff05c42bb0"
      },
      "execution_count": null,
      "outputs": [
        {
          "output_type": "stream",
          "name": "stdout",
          "text": [
            "Punctuation comparison between Author 1 and Author 2:\n",
            "'.': Author 1 - 33.33%, Author 2 - 75.00%\n",
            "'?': Author 1 - 11.11%, Author 2 - 25.00%\n",
            "''': Author 1 - 11.11%, Author 2 - 0.00%\n",
            "'#': Author 1 - 11.11%, Author 2 - 0.00%\n",
            "'!': Author 1 - 33.33%, Author 2 - 0.00%\n"
          ]
        }
      ]
    }
  ],
  "metadata": {
    "colab": {
      "provenance": []
    },
    "kernelspec": {
      "display_name": "Python 3",
      "name": "python3"
    },
    "language_info": {
      "name": "python"
    }
  },
  "nbformat": 4,
  "nbformat_minor": 0
}