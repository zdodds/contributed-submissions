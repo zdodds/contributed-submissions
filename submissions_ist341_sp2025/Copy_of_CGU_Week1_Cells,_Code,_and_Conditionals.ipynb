{
  "cells": [
    {
      "cell_type": "markdown",
      "metadata": {
        "id": "NoXM4SE7QVPh"
      },
      "source": [
        "# Welcome to IST 341, everyone!!!!!!\n",
        "\n",
        "##### 'Tis Meeeeeeeeeeeee (LX)\n",
        "+ yay\n"
      ]
    },
    {
      "cell_type": "code",
      "source": [
        "# prompt: how to stop the code from runni"
      ],
      "metadata": {
        "id": "YIzrEP_usbpi",
        "colab": {
          "base_uri": "https://localhost:8080/"
        },
        "outputId": "72df9b3b-7584-4510-f015-76ab843ccea0"
      },
      "execution_count": null,
      "outputs": [
        {
          "output_type": "stream",
          "name": "stdout",
          "text": [
            "hi\n"
          ]
        }
      ]
    },
    {
      "cell_type": "code",
      "source": [
        "# prompt: how to stop the code from running in a code cell from a code cell\n",
        "\n",
        "import os\n",
        "import signal\n",
        "\n",
        "# This function sends a SIGINT signal to the current process, effectively interrupting it.\n",
        "def stop_current_process():\n",
        "  os.kill(os.getpid(), signal.SIGINT)\n",
        "\n",
        "# Example usage:  Uncomment to test\n",
        "# stop_current_process()"
      ],
      "metadata": {
        "id": "abo_xdk3HGXo"
      },
      "execution_count": null,
      "outputs": []
    },
    {
      "cell_type": "markdown",
      "metadata": {
        "id": "XYrs0QreNBM8"
      },
      "source": [
        "### <font color=\"maroon\"><b>Welcome to Python notebooks! 🐍</b></font>\n",
        "\n",
        "***Computing*** is a **powerful** technique for _discovery_, in IS and IT, in science and <u>engineering</u> , and in many fields.\n",
        "\n",
        "This Python notebook ~~interleaves~~ descriptions with its computations. Both text and code are hosted in ***cells***:\n",
        "   + _description cells_, like this cell, are in **markdown**, a widely-used language for <u>presenting</u> ideas with text, pictures, etc. 📖\n",
        "   + Markdown can be **bold**\n",
        "   + _computation cells_, which you will see just below, are in **Python**, a widely-used ***language*** for <u>executing</u> ideas, that is, _code_  💻\n",
        "\n",
        "In the following cells, you'll create a description with some details about yourself.\n",
        "\n",
        "In the cells after that, you'll read, run, and compose ~~Java~~ Python scripts (snippets)\n",
        "\n",
        "\n"
      ]
    },
    {
      "cell_type": "code",
      "source": [],
      "metadata": {
        "id": "cwvfwfoIDk4I"
      },
      "execution_count": null,
      "outputs": []
    },
    {
      "cell_type": "markdown",
      "source": [
        "hellooooooooooooooooooooooooo"
      ],
      "metadata": {
        "id": "0s26N1e0fmHN"
      }
    },
    {
      "cell_type": "code",
      "source": [],
      "metadata": {
        "id": "4ilBikTVfkbh"
      },
      "execution_count": null,
      "outputs": []
    },
    {
      "cell_type": "markdown",
      "source": [],
      "metadata": {
        "id": "oZjbPbOxfj-r"
      }
    },
    {
      "cell_type": "markdown",
      "metadata": {
        "id": "ki_QjFa6dkUY"
      },
      "source": [
        "### <font color=\"FireBrick\"><b>Overview of Week1's Python Notebook</b> (this notebook)</font>\n",
        "\n",
        "This notebook itself offers examples and guidance for diving in to computing with Python and communicating with notebooks and markdown.\n",
        "\n",
        "This assignment, solo or in a team of 2-3, asks you to\n",
        "+ work through the examples,\n",
        "+ trying out examples as they arise\n",
        "+ answering questions that are interspersed\n",
        "+ writing new cells, markdown or Python, as the challenges arise\n",
        "\n",
        "Specifically, there are several waypoints in this notebook:\n",
        "1. when you complete an \"introduction\" markdown cell, about yourself\n",
        "2. when you have tried out and generated new data of various types\n",
        "3. when you have worked on the \"Four fours\" problem (finding all but 4!)\n",
        "4. when you've run and analyzed the first (very unfair) rock-paper-scissors example\n",
        "5. when you've created a fair - and complete - RPS example\n",
        "6. and, when you've authored a choose-your-own-adventure interactive fiction, using a number of different control structures to navigate various story-threads..., and\n",
        "7. reading an article about how language can influence thought -- and then reflecting on how you've \"bumped into the boundaries\" of language!  \n",
        "\n",
        "\n"
      ]
    },
    {
      "cell_type": "markdown",
      "metadata": {
        "id": "M7dzL4m4fPYf"
      },
      "source": [
        "# Make your own <u>copy</u> of this notebook\n",
        "\n",
        "### Do this now...   &nbsp;&nbsp; _Troubles? Let me know._\n",
        "\n",
        "<br>\n",
        "\n",
        "With the starter notebook, you'll be able to read the content.\n",
        "When signed in with Google, you'll be able to run it.\n",
        "But you won't be able to _edit_ until you have your own copy.\n",
        "\n",
        "So, to get started, make your own copy of this notebook:\n",
        "+ it will be stored in your space in Google Drive\n",
        "+ you'll need to use Google credentials to make a copy and run cells\n",
        "+ from there, you can edit, answer, and compose\n",
        "\n",
        "<br>\n",
        "\n",
        "### Submitting\n",
        "\n",
        "When you're ready to submit, be sure to\n",
        "+ **share** your new copied-and-edited notebook with me:\n",
        "   + `zdodds@gmail.com`\n",
        "+ and **submit** the url to your new copied-and-edited notebook at the appropriate spot on Canvas"
      ]
    },
    {
      "cell_type": "markdown",
      "metadata": {
        "id": "SqlZ-RCK6jJV"
      },
      "source": [
        "# Markdown cells"
      ]
    },
    {
      "cell_type": "markdown",
      "metadata": {
        "id": "0e0JxCVbJY3C"
      },
      "source": [
        "### Your task\n",
        "\n",
        "The next few cells show a few example introductions...\n",
        "\n",
        "__Your task__ is to create a new markdown cell that answers the same questions as these...\n",
        "\n",
        "If you're working in a team, create one for each person."
      ]
    },
    {
      "cell_type": "markdown",
      "metadata": {
        "id": "bvOcPiH26gpY"
      },
      "source": [
        "### <font color=\"DodgerBlue\"><b>Introduction: Zach</b></font>\n",
        "+ _Name_: `EHEHEHEHEHEHEHE`\n",
        "+ _School_:  Harvey Mudd -- plus, CGU!\n",
        "+ _Two favorite things_:  \n",
        "   + My favorite beverage is __coffee__ and\n",
        "   + one of my many favorite snacks are __poptarts__\n",
        "   \n",
        "   <font size=\"-3\"> I see you like poptarts </font>\n",
        "   \n",
        "   <font size=\"-3\"> Would you like to join the Cult of Flowers and Poptarts? ehehhehehehheehehe </font>\n",
        "\n",
        "+ _Two least-favorite things_:   \n",
        "   + My least-favorite coffee is __decaf__ and\n",
        "   + my least-favorite poptarts-flavor is <b>[ranch dressing](https://www.kztv10.com/hidden-valley-ranch-flavored-pop-tarts-box-viral/)</b> [Not a real thing!]\n",
        "+ _Links to 4-6 things_ I find interesting/fun/inspiring/informative etc:\n",
        "   + The first chat bot that can actually chat:   [ChatGPT](https://openai.com/blog/chatgpt/)  &nbsp;  (Yay!)\n",
        "   + The long-running [Tiobe Index page](https://www.tiobe.com/tiobe-index/) &nbsp; (I tend to check this once a month... :-)\n",
        "   + An animation of a white blood cell squeezing through a blood vessel:  [The Inner Life of the Cell](https://xvivo.com/examples/the-inner-life-of-the-cell/) <br> <!-- To me, this is the \"Star Trek\" of Biology... -->  <font size=\"-2\">Here is Veritasium's less dramatic and more understandable version: [Body's Molecular Machines](https://www.youtube.com/watch?v=X_tYrnv_o6A)</font>\n",
        "   + The [color-names page where I found DodgerBlue](https://www.w3schools.com/colors/colors_names.asp)!\n",
        "   + The [Markdown Reference I used](https://www.markdownguide.org/basic-syntax/)\n",
        "   + A [page with my picture - admittedly, from a while ago!](https://www.hmc.edu/about/news/experts/zachary-dodds/)\n",
        "   + It's [FOOOOOOOOOD](https://www.foodnetwork.com/)\n",
        "\n",
        "<br>"
      ]
    },
    {
      "cell_type": "markdown",
      "metadata": {
        "id": "QNwjzF1czSez"
      },
      "source": [
        "### <font color=\"darkgold\"><b>Introduction: the Three-Eyed Alien</b></font>\n",
        "\n",
        "+ _Name_:  Three-eyed alien\n",
        "+ _School_:  HMC, CGU, happy anywhere in Claremont or the known universe!\n",
        "+ _Two favorite things_:  \n",
        "   + My favorite number is __42__\n",
        "   + My favorite number-of-eyes is __3__\n",
        "+ _Two least-favorite things_:   \n",
        "   + Really dislike __lack of space__\n",
        "   + and __slower-than-light travel__\n",
        "+ _Links to 4-6 things_ that are interesting/fun/inspiring/informative etc:\n",
        "   + [Cousins at Disney](https://toystory.disney.com/aliens) &nbsp; but real aliens are 2d, not 3d!\n",
        "   + Favorite site for [hats](https://www.etsy.com/market/magenta_wool_hat) &nbsp;\n",
        "   + Skiing about 60 miles from Claremont: &nbsp; [Bear Mountain](https://www.bigbearmountainresort.com/)  \n",
        "   + [Fish n Chips poptarts!](https://www.pinterest.com/pin/486670303483830609/) &nbsp; Not sold to humans, I'm afraid...\n",
        "   + a [page with other three-eyed alien pictures - from Etsy!](https://www.etsy.com/ca/market/three_eyed_alien)\n"
      ]
    },
    {
      "cell_type": "markdown",
      "metadata": {
        "id": "axrlZzixXIV1"
      },
      "source": [
        "### <font color=\"FireBrick\"><b>Introduction: You!</b></font>\n",
        "\n",
        "+ _Name:_ <font color=\"violet\">_L i a n n a &nbsp; X i e_</font>\n",
        "+ _School:_ El Roble <font size=\"-2\">It's CUSD but I'm not sure if its got blue fences... strange... or not, who knows</font>\n",
        "+ _Two favorite things:_ <br>\n",
        "<font size=\"4\"> <b>B I R D S S S S S S S S S</b> </font> <br>\n",
        "my friend's cat, Selene (who is very very very cute and soft <3)\n",
        "+ _Two least-favorite things:_ <br>\n",
        "horror things scare the life out of me _shudders_\n",
        " <br>***bugs*** TwT\n",
        "+ _Links to 4-6 things_ that are interesting/fun/inspiring/etc:\n",
        "   + [When the AI in Colab doesn't work...](https://lmarena.ai/)\n",
        "   + I always love some good [cat memes](https://cheezburger.com/38848005/21-fantasy-feline-memes-catching-cat-comedy-and-toss-it-your-way-like-a-coin-to-the-witcher)\n",
        "   + and so on...\n",
        "   + I don't like getting my picture taken :') (if i did I might have found something) BUT [this (the Taste of Claremont photo)](https://rotaryclaremont.com/) is probably the closest I'm going to get (I helped set up last year wih my friend)\n",
        "   + Oh, and also [this](https://www.facebook.com/ElRoblePanthers/posts/879588099360472/) or [that](https://www.facebook.com/RotaryofClaremont) might have me &nbsp; s o m e w h e r e &nbsp; since I'm in Interact Club (Rotary thingy) and was in XC last year >:D\n",
        "   +[Some must needed info](https://www.google.com/url?sa=i&url=https%3A%2F%2Fteeturtle.com%2Fproducts%2Fbird-birb-borb&psig=AOvVaw19Tsz6wX2J7XM6nfBvdY2B&ust=1740344832795000&source=images&cd=vfe&opi=89978449&ved=0CBQQjRxqFwoTCIDekO-X2IsDFQAAAAAdAAAAABAf)\n",
        "   +[Very neccesary](hhttps://www.audubon.org/news/when-bird-birb-extremely-important-guide)"
      ]
    },
    {
      "cell_type": "markdown",
      "metadata": {
        "id": "YReRJVZLXUG0"
      },
      "source": [
        "### <font color=\"Indigo\"><b>Introduction: You, two!  (if a team of two)</b></font>\n",
        "\n",
        "E H E H E H E H E H E H E H E H E"
      ]
    },
    {
      "cell_type": "markdown",
      "metadata": {
        "id": "IHspQgMgdkbg"
      },
      "source": [
        "# Code cells"
      ]
    },
    {
      "cell_type": "code",
      "source": [
        "2**3"
      ],
      "metadata": {
        "colab": {
          "base_uri": "https://localhost:8080/"
        },
        "id": "bMi2NqggqNma",
        "outputId": "7211345a-19aa-4958-89fd-3b8dc493c428"
      },
      "execution_count": null,
      "outputs": [
        {
          "output_type": "execute_result",
          "data": {
            "text/plain": [
              "8"
            ]
          },
          "metadata": {},
          "execution_count": 5
        }
      ]
    },
    {
      "cell_type": "code",
      "source": [
        "2^3"
      ],
      "metadata": {
        "colab": {
          "base_uri": "https://localhost:8080/"
        },
        "id": "x-9NTal3qahc",
        "outputId": "2b500668-d333-43e6-fa99-b2a38a269a3e"
      },
      "execution_count": null,
      "outputs": [
        {
          "output_type": "execute_result",
          "data": {
            "text/plain": [
              "1"
            ]
          },
          "metadata": {},
          "execution_count": 9
        }
      ]
    },
    {
      "cell_type": "code",
      "source": [
        "2//3\n"
      ],
      "metadata": {
        "colab": {
          "base_uri": "https://localhost:8080/"
        },
        "id": "_vL1QEcrqu4e",
        "outputId": "23899e76-6e82-4807-e56d-e4224cf519ca"
      },
      "execution_count": null,
      "outputs": [
        {
          "output_type": "execute_result",
          "data": {
            "text/plain": [
              "0"
            ]
          },
          "metadata": {},
          "execution_count": 10
        }
      ]
    },
    {
      "cell_type": "code",
      "source": [],
      "metadata": {
        "id": "ZVubU5SvqxBN"
      },
      "execution_count": null,
      "outputs": []
    },
    {
      "cell_type": "markdown",
      "metadata": {
        "id": "meZNmZg4CpfP"
      },
      "source": [
        "### <font color=\"darkblue\"><b>Code cells: &nbsp; <i>Executable</i> expression</b></font>\n",
        "\n",
        "The next section of this notebook demonstrates several *code cells* and invites you to try - and build - several of your own.\n",
        "\n",
        "This next cell holds a short, scripted conversation. Try it:\n",
        "\n",
        "(ChatGPT, it is not!)\n"
      ]
    },
    {
      "cell_type": "code",
      "execution_count": null,
      "metadata": {
        "id": "PX16cW1aLQq1",
        "colab": {
          "base_uri": "https://localhost:8080/"
        },
        "outputId": "d31588ab-ff35-4657-c5ed-8e025d96fc91"
      },
      "outputs": [
        {
          "output_type": "stream",
          "name": "stdout",
          "text": [
            "What is your name? Lianna\n",
            "Welcome, Lianna\n",
            "\n",
            "My favorite number is 42, naturally.\n",
            "What is your favorite number? 333\n",
            "\n",
            "Nice! 333 is solid. And very numeric!\n",
            "Plus, it's close to the best number, 42.\n"
          ]
        }
      ],
      "source": [
        "# This is a code cell.\n",
        "# To run it, click play at left or type ctrl-enter (cmd-enter)\n",
        "\n",
        "\n",
        "answer = input(\"What is your name? \")\n",
        "print(\"Welcome,\", answer)\n",
        "print()\n",
        "\n",
        "print(\"My favorite number is 42, naturally.\")\n",
        "fav_num = input(\"What is your favorite number? \")\n",
        "print()\n",
        "\n",
        "print(\"Nice!\", fav_num, \"is solid. And very numeric!\")\n",
        "print(\"Plus, it's close to the best number, 42.\")"
      ]
    },
    {
      "cell_type": "code",
      "source": [
        "answer"
      ],
      "metadata": {
        "colab": {
          "base_uri": "https://localhost:8080/",
          "height": 35
        },
        "id": "dhlmK0oBrTAB",
        "outputId": "0834341e-f326-4db0-a4c0-69cae32b538a"
      },
      "execution_count": null,
      "outputs": [
        {
          "output_type": "execute_result",
          "data": {
            "text/plain": [
              "'Lianna'"
            ],
            "application/vnd.google.colaboratory.intrinsic+json": {
              "type": "string"
            }
          },
          "metadata": {},
          "execution_count": 13
        }
      ]
    },
    {
      "cell_type": "code",
      "source": [
        "fav_num"
      ],
      "metadata": {
        "colab": {
          "base_uri": "https://localhost:8080/",
          "height": 35
        },
        "id": "oG5_Rx-4rV_e",
        "outputId": "2cb8a29d-e846-47f5-8b6d-da7b4b08243c"
      },
      "execution_count": null,
      "outputs": [
        {
          "output_type": "execute_result",
          "data": {
            "text/plain": [
              "'333'"
            ],
            "application/vnd.google.colaboratory.intrinsic+json": {
              "type": "string"
            }
          },
          "metadata": {},
          "execution_count": 14
        }
      ]
    },
    {
      "cell_type": "code",
      "source": [
        "fav_color = input(\"What is your favorite color?\")"
      ],
      "metadata": {
        "id": "gAATLXK6rYFj"
      },
      "execution_count": null,
      "outputs": []
    },
    {
      "cell_type": "markdown",
      "metadata": {
        "id": "yzbg8tydDRFF"
      },
      "source": [
        "### <font color=\"darkblue\"><b>Variables and <i>values</i></b></font>\n",
        "\n",
        "The above cell, when run, interacts with a user. Notice!\n",
        "+ The <tt>input</tt> function pauses for user input.\n",
        "+ The <tt>answer</tt> variable \"catches\" the user's input.\n",
        "+ The <tt>print</tt> function, well, prints things!\n",
        "+ The single-equals-sign <tt>=</tt> is <u>assignment</u>\n",
        "   + it's <u><i>assigning</i></u> the left-side <i>variable</i> to be a name for the right-side <i>value</i>\n",
        "   + thus, the variable <tt>answer</tt> is a name for the user's input (what the user typed)\n",
        "   + and, the variable <tt>fav_num</tt> is a name for the next user input (what the user typed)\n"
      ]
    },
    {
      "cell_type": "markdown",
      "metadata": {
        "id": "D9PhlqFUbqkL"
      },
      "source": [
        "### <font color=\"darkblue\"><b><i>Variables</i> vs. <i>values</i></b></font>\n",
        "\n",
        "This is an important distinction: <i>variables</i> vs. <i>values</i>:\n",
        "+ Variables give names to values. For example,\n",
        "+ The <tt>answer</tt> variable gives the name <tt>answer</tt> to the user's first input.\n",
        "+ The <tt>fav_num</tt> variable gives the name <tt>fav_num</tt> to the user's second input.\n",
        "\n",
        "In the next cell, notice that <tt>fav_num</tt> continues to hold the user-input value:"
      ]
    },
    {
      "cell_type": "code",
      "execution_count": null,
      "metadata": {
        "id": "zfjuDVZSE6kd"
      },
      "outputs": [],
      "source": [
        "print(\"fav_num is\", fav_num)"
      ]
    },
    {
      "cell_type": "markdown",
      "source": [
        "### <font color=\"darkblue\"><b><i>Short AI Challenge</i></b></font>\n",
        "+ <tt>fav_num</tt> is a <i>string</i> not an <i>integer</i>\n",
        "+ that is, <tt>fav_num</tt> is a sequence of characters, not a numeric value\n",
        "\n",
        "<b><font color=\"Cinnamon\">Challenge</font></b>: Use AI to print the number that's one BIGGER than <tt>fav_num</tt>. That is, <tt>fav_num+1</tt>\n",
        "+ This is tricky, because we need to create an integer in order to add 1\n",
        "+ See if you can work with AI to make this work!\n",
        "+ Be sure what you're printing uses <tt>fav_num</tt>\n",
        "+ That way, it will work <i>no matter the value</i> that <tt>fav_num</tt> has!"
      ],
      "metadata": {
        "id": "tfSroVG_BGlD"
      }
    },
    {
      "cell_type": "code",
      "source": [
        "print(int(fav_num)+1)"
      ],
      "metadata": {
        "id": "H4jGTuxEAhN-",
        "colab": {
          "base_uri": "https://localhost:8080/"
        },
        "outputId": "bb3c74da-cb6c-4a85-f3ec-ca6b3cc26766"
      },
      "execution_count": null,
      "outputs": [
        {
          "output_type": "stream",
          "name": "stdout",
          "text": [
            "334\n"
          ]
        }
      ]
    },
    {
      "cell_type": "markdown",
      "metadata": {
        "id": "yKgcC7vqR_V7"
      },
      "source": [
        "### <font color=\"darkblue\"><b><i>Operators</i> and <i>Composition</i></b></font>\n",
        "\n",
        "CS usually means _Computer Science_\n",
        "\n",
        "However, CS is more accurately thought of as _Compositional Science_:\n",
        "+ Software/programs are collections of small behaviors, carefully composed together  \n",
        "+ Computers themselves are simply large compositions of smaller machines, each of which contributes to the whole\n",
        "\n",
        "The conceptual effort of CS is predominantly creating _compositions_\n",
        "+ Determining the pieces needed for the task at hand, then\n",
        "+ Assembling those pieces into the overall system desired\n",
        "\n",
        "<br>\n",
        "\n",
        "If CS is _Compositional Science_, let's dive in!\n",
        "\n",
        "We'll use the Four fours challenge.\n",
        "\n",
        "First, try out some example ___computations___:"
      ]
    },
    {
      "cell_type": "code",
      "execution_count": null,
      "metadata": {
        "id": "Bxj7vIZFYio3"
      },
      "outputs": [],
      "source": [
        "# This is a code-cell, which should be runnable with the arrow,\n",
        "# also with (control-enter) or (command-return)\n",
        "\n",
        "35 + 7"
      ]
    },
    {
      "cell_type": "code",
      "execution_count": null,
      "metadata": {
        "id": "MSbR9gE5Ym-W"
      },
      "outputs": [],
      "source": [
        "# Try running this cell to compute a googol\n",
        "# This is the number after which Google was named!\n",
        "\n",
        "10**100   # ** is power operator"
      ]
    },
    {
      "cell_type": "code",
      "execution_count": null,
      "metadata": {
        "id": "_5uXKX2KYyjk"
      },
      "outputs": [],
      "source": [
        "# This cell imports the math library and then runs a function from it.\n",
        "# (The square root of 4 is 2, as you'll see :-)\n",
        "\n",
        "from math import *    # imports the sqrt function and others\n",
        "sqrt(4)"
      ]
    },
    {
      "cell_type": "code",
      "execution_count": null,
      "metadata": {
        "id": "L6vcRkZWY1aL"
      },
      "outputs": [],
      "source": [
        "# Here is an example of the \"factorial\" function. factorial(4) is 1*2*3*4, which is 24\n",
        "\n",
        "factorial(10)     # also imported from the math library"
      ]
    },
    {
      "cell_type": "code",
      "source": [
        "1*2*3*4*5*6*7*8*9*10"
      ],
      "metadata": {
        "id": "6pcaQF7xRKTD"
      },
      "execution_count": null,
      "outputs": []
    },
    {
      "cell_type": "code",
      "execution_count": null,
      "metadata": {
        "id": "mVQwZMOyZel9",
        "colab": {
          "base_uri": "https://localhost:8080/"
        },
        "outputId": "182ee4d7-fb06-4668-b973-b57da6c20c06"
      },
      "outputs": [
        {
          "output_type": "stream",
          "name": "stdout",
          "text": [
            "Zero is 0\n",
            "One is 1.0\n",
            "Two is 2.0\n"
          ]
        }
      ],
      "source": [
        "# This cell shows how printing works. Try it!\n",
        "# It should print:   Zero is 0\n",
        "#             and:   One is 1       actually, 1.0, This is ok!\n",
        "#\n",
        "# Notice that this sets you up for the Four fours challenge!\n",
        "\n",
        "print(\"Zero is\", 4+4-4-4)\n",
        "print(\"One is\", 4/4*4/4)                 # Uh oh! No non-fours allowed!!\n",
        "print(\"Two is\", (4/4)+(4/4))   # Uh oh! This is incorrect... temporarily\n",
        "\n",
        "\n",
        "\n"
      ]
    },
    {
      "cell_type": "code",
      "source": [
        "-4 + sqrt(4) + factorial(4) - 4"
      ],
      "metadata": {
        "id": "qpBNpg3iT6WJ"
      },
      "execution_count": null,
      "outputs": []
    },
    {
      "cell_type": "markdown",
      "metadata": {
        "id": "n8v3V2pNaMY0"
      },
      "source": [
        "### <font color=\"darkblue\"><b><i>Challenge</i>: Four fours</b></font>\n",
        "\n",
        "+ The challenge: add several more lines similar to the above line to compute values from `0` to `24`\n",
        "  + you should compute at least 21 of these 25 values (from 0 through 24) using exactly four fours -- and no other numbers).\n",
        "  + why only 21 of the 25 possibilities? So that you can skip <u>four</u>, if they give you trouble!\n",
        "  \n",
        "<br>\n",
        "\n",
        "+ You may use any of Python's arithmetic operations:\n",
        "  + `-`    subtraction or negation\n",
        "  + `*`    multiplication\n",
        "  + `/`    division\n",
        "  + `(   )`    parentheses for grouping\n",
        "  + `**`    power\n",
        "\n",
        "<br>\n",
        "\n",
        "#### hints and notes:\n",
        "+ Results with decimals: 1.0, 2.0, etc. are totally OK!\n",
        "+ You may also use 44 or 4.4, each of which count as two fours,\n",
        "+ or .4, which counts as one four.\n",
        "+ or, `sqrt`, for example `math.sqrt(4)` (or others, from the `math` library\n",
        "+ or, `factorial`, for example `math.factorial(4)` (or others).\n",
        "\n",
        "#### desired results:\n",
        "Here are what the results, but not the source code, will look like.\n",
        "Remember you need only 21 of them!\n",
        "\n",
        "<code><pre>\n",
        "Zero is 0\n",
        "One is 1\n",
        "Two is 2\n",
        "Three is 3\n",
        "Four is 4\n",
        "Five is 5\n",
        "Six is 6\n",
        "Seven is 7\n",
        "Eight is 8\n",
        "Nine is 9\n",
        "Ten is 10\n",
        "Eleven is 11\n",
        "Twelve is 12\n",
        "Thirteen is 13\n",
        "Fourteen is 14\n",
        "Fifteen is 15\n",
        "Sixteen is 16\n",
        "Seventeen is 17\n",
        "Eighteen is 18\n",
        "Nineteen is 19\n",
        "Twenty is 20\n",
        "Twenty-one is 21\n",
        "Twenty-two is 22\n",
        "Twenty-three is 23\n",
        "Twenty-four is 24\n",
        "Twenty-five is 25\n",
        "</pre></code>\n",
        "\n",
        "\n",
        "\n",
        "\n",
        "\n",
        "\n"
      ]
    },
    {
      "cell_type": "markdown",
      "source": [
        "### <font color=\"darkblue\"><b>Use AI!</b></font>\n",
        "\n",
        "You're encouraged to use AI to help you...\n",
        "\n",
        "Remember -- AI can be helpful, and AI can be misleading.\n",
        "\n",
        "The skill of our era:\n",
        "+ <b><i>keep AI's help</i></b>\n",
        "+ skip what's unhelpful\n",
        "+ practice <i><u>describing</u></i> that difference...\n",
        "  + to yourself...\n",
        "  + to others..."
      ],
      "metadata": {
        "id": "iRS2xfeAEeOR"
      }
    },
    {
      "cell_type": "code",
      "source": [],
      "metadata": {
        "id": "bKNTfuQjFQiT"
      },
      "execution_count": null,
      "outputs": []
    },
    {
      "cell_type": "code",
      "execution_count": null,
      "metadata": {
        "id": "sKyO0_HEaXXs",
        "colab": {
          "base_uri": "https://localhost:8080/"
        },
        "outputId": "5263dbea-d89a-41c1-b49f-29cd488c9e8c"
      },
      "outputs": [
        {
          "output_type": "stream",
          "name": "stdout",
          "text": [
            "Zero is 0\n",
            "One is 1\n",
            "Two is 2\n",
            "Three is 3\n",
            "Four is 4\n",
            "Five is 5\n",
            "Six is 6\n",
            "Seven is 7\n",
            "Eight is 8\n",
            "Nine is 9\n",
            "Ten is 10\n",
            "Eleven is 11\n",
            "Twelve is 12\n",
            "Thirteen is 13\n",
            "Fourteen is 14\n",
            "Fifteen is 15\n",
            "Sixteen is 16\n",
            "Seventeen is 17\n",
            "Eighteen is 18\n",
            "Nineteen is 19\n",
            "Twenty is 20\n",
            "Twenty-one is 21\n"
          ]
        }
      ],
      "source": [
        "#\n",
        "#  Here is a space for your explorations and solutions\n",
        "#       to the Four fours challenge.\n",
        "#\n",
        "# This will get you started.\n",
        "\n",
        "import math\n",
        "\n",
        "print(\"Zero is\", int(4+4-4-4))\n",
        "print(\"One is\", int((4/4)*(4/4)))  # yay!  exactly four fours - and no other digits\n",
        "print(\"Two is\", int((4/4)+(4/4)))\n",
        "print(\"Three is\", int((4+4+4)/4))\n",
        "print(\"Four is\", int(math.sqrt(4)*math.sqrt(4)))\n",
        "print(\"Five is\", int(4+(math.sqrt(4)-(4/4))))\n",
        "print(\"Six is\", int(4+(math.sqrt(4))*(4/4)))\n",
        "print(\"Seven is\", int(4+(math.sqrt(4))+(4/4)))\n",
        "print(\"Eight is\", int(4+4+4-4))\n",
        "print(\"Nine is\", int(4+4+4/4))\n",
        "print(\"Ten is\", int(44/4-(4/4)))\n",
        "print(\"Eleven is\", int(44/4*4/4))\n",
        "print(\"Twelve is\", int(math.sqrt(4)*((4+4)-math.sqrt(4))))\n",
        "print(\"Thirteen is\", int(44/4+math.sqrt(4)))\n",
        "print(\"Fourteen is\", int(4*4-4/math.sqrt(4)))\n",
        "print(\"Fifteen is\", int(4*4-4/4))\n",
        "print(\"Sixteen is\", int(4*4*4/4))\n",
        "print(\"Seventeen is\", int(4*4+4/4))\n",
        "print(\"Eighteen is\", int(4*4+4/math.sqrt(4)))\n",
        "print(\"Nineteen is\", int(math.factorial(4)-(4+4/4)))\n",
        "print(\"Twenty is\", int(4*4+math.sqrt(4)+math.sqrt(4)))\n",
        "print(\"Twenty-one is\", int(math.factorial(4)-(4-4/4)))\n",
        "#that weird floating decimal point makes me angry\n",
        "#so I got rid of it\n",
        "#yay ehehehehe :D"
      ]
    },
    {
      "cell_type": "markdown",
      "metadata": {
        "id": "3AJ4cFJsMAMs"
      },
      "source": [
        "### <font color=\"darkblue\"><b>Data</b></font>\n",
        "\n",
        "The Four fours challenge uses _only_ numeric data, stereotypical of computing.\n",
        "\n",
        "In general, however, data can be numeric or sequential.\n",
        "\n",
        "Here are the two most important examples of each:\n",
        "+ <tt>46</tt>, <tt>42</tt>, <tt>-40</tt>, <tt>0</tt>, and <tt>1000000000000</tt> are <i>integers</i>. Integers are a _numeric_ type.\n",
        "   + in Python they are of type <font color=\"darkred\"><b><tt>int</tt></b></font>\n",
        "+ <tt>3.14</tt>, <tt>46.0</tt>, <tt>-.001</tt> are <i>floating-point</i> values: numeric with a fractional part - even if that fractional part is zero.\n",
        "   + in Python these are of type <font color=\"darkred\"><b><tt>float</tt></b></font>\n",
        "+ <tt>\"claremont\"</tt>, <tt>'Python'</tt>, and <tt>\"ATG\"</tt> are <i>strings</i>. They are sequences of characters. Single-quotes <tt>'like this'</tt> and double-quotes <tt>\"like this\"</tt> are both ok and both equivalent.\n",
        "   + strings in Python are of type <font color=\"darkred\"><b><tt>str</tt></b></font>\n",
        "+ <tt>[4,6]</tt>, <tt>[4,5,6]</tt>, <tt>[ \"scripps\", \"pitzer\", \"cgu\" ]</tt>, and <tt>[ [7,\"scripps\"], [6,\"pitzer\"], [3,\"cgu\"] ]</tt> are <i>lists</i>, sequences of anything at all...\n",
        "   + in Python they are of type <font color=\"darkred\"><b><tt>list</tt></b></font>\n",
        "\n",
        "The next cell provides working examples.\n",
        "\n",
        "The following cell asks you to create one of each -- with your own context added. :-)"
      ]
    },
    {
      "cell_type": "code",
      "execution_count": null,
      "metadata": {
        "id": "q1maiptdOM7E",
        "colab": {
          "base_uri": "https://localhost:8080/"
        },
        "outputId": "5f3b82ec-7f6e-4029-fa20-f87aab6d9561"
      },
      "outputs": [
        {
          "output_type": "stream",
          "name": "stdout",
          "text": [
            "Our examples:\n",
            "\n",
            "fav_num is 46 \n",
            "  type(fav_num) is <class 'int'>\n",
            "\n",
            "pi is 3.14 \n",
            "  type(pi) is <class 'float'>\n",
            "\n",
            "inator_creator is Dr. Heinz Doofenshmirtz \n",
            "  type(inator_creator) is <class 'str'>\n",
            "\n",
            "L is ['jan', 31, 'feb', 28, 'mar', 31] \n",
            "  type(L) is <class 'list'>\n",
            "\n"
          ]
        }
      ],
      "source": [
        "#\n",
        "# examples of the most important four types of data\n",
        "#   Numeric:     int, float\n",
        "#   Sequential:  str, list\n",
        "#\n",
        "\n",
        "print(\"Our examples:\")\n",
        "print()\n",
        "\n",
        "fav_num = 46      # an int\n",
        "pi = 3.14         # a float\n",
        "\n",
        "inator_creator = 'Dr. Heinz Doofenshmirtz'  # a string\n",
        "L = [\"jan\", 31, \"feb\", 28, \"mar\", 31]       # a list, of ints and strings\n",
        "\n",
        "#\n",
        "# now, let's print them -- and print their types:\n",
        "#\n",
        "print(\"fav_num is\", fav_num, \"\\n  type(fav_num) is\", type(fav_num))\n",
        "print()  # prints a blank line, \"\\n\" is another way to go to a newline\n",
        "\n",
        "print(\"pi is\", pi, \"\\n  type(pi) is\", type(pi))\n",
        "print()\n",
        "\n",
        "print(\"inator_creator is\", inator_creator, \"\\n  type(inator_creator) is\", type(inator_creator))\n",
        "print()\n",
        "\n",
        "print(\"L is\", L, \"\\n  type(L) is\", type(L))\n",
        "print()\n",
        "\n",
        "\n",
        "#\n",
        "# You'll notice that Python uses <class 'int'> instead of int, and so on...\n",
        "# No worries!\n",
        "#"
      ]
    },
    {
      "cell_type": "code",
      "execution_count": null,
      "metadata": {
        "id": "ZZ4wnCP5bx5u",
        "colab": {
          "base_uri": "https://localhost:8080/"
        },
        "outputId": "ee12012a-9036-4ebe-c5cb-e94c76133f1d"
      },
      "outputs": [
        {
          "output_type": "stream",
          "name": "stdout",
          "text": [
            "Your examples:\n",
            "\n",
            "fav_food is I have no idea \n",
            "  type(fav_food) is <class 'str'>\n",
            "\n",
            "Sanrio_Characters are ['Cinnomoroll', 'My Melody', 'Kuromi', 'Pochacco', 'Pompompurin', 'Hello Kitty', 'and more!'] \n",
            "  type(Sanrio_Characters) is <class 'list'>\n",
            "\n",
            "Crewed_Moon_Landings is 6 \n",
            "  type(Crewed_Moon_Landings) is <class 'int'>\n",
            "\n",
            "nice_number is 3.33 \n",
            "  type(nice_number) is <class 'float'>\n",
            "\n"
          ]
        }
      ],
      "source": [
        "#\n",
        "# Here, create at least one example of int, float, str, and list data\n",
        "#\n",
        "#     + Feel free to copy-and-paste-then-edit from the above cell\n",
        "#\n",
        "#     + The objective is to try out variables, assignment, and printing\n",
        "#     + with your own names, data, etc.\n",
        "#\n",
        "#     + Try it out...  Creativity is the goal...\n",
        "#\n",
        "#     + Errors?  Ask us - or whoever's next to you... :-)\n",
        "#\n",
        "#\n",
        "\n",
        "print(\"Your examples:\")\n",
        "print()\n",
        "\n",
        "fav_food = \"I have no idea\"\n",
        "print(\"fav_food is\", fav_food, \"\\n  type(fav_food) is\", type(fav_food))\n",
        "print()\n",
        "\n",
        "Sanrio_Characters = ['Cinnomoroll', 'My Melody', 'Kuromi', 'Pochacco', 'Pompompurin', 'Hello Kitty', 'and more!']\n",
        "print(\"Sanrio_Characters are\", Sanrio_Characters, \"\\n  type(Sanrio_Characters) is\", type(Sanrio_Characters))\n",
        "print()\n",
        "\n",
        "Crewed_Moon_Landings = 6\n",
        "print(\"Crewed_Moon_Landings is\", Crewed_Moon_Landings, \"\\n  type(Crewed_Moon_Landings) is\", type(Crewed_Moon_Landings))\n",
        "print()\n",
        "\n",
        "nice_number = 3.33\n",
        "print(\"nice_number is\", nice_number, \"\\n  type(nice_number) is\", type(nice_number))\n",
        "print()"
      ]
    },
    {
      "cell_type": "markdown",
      "metadata": {
        "id": "ffp0PnOAFEid"
      },
      "source": [
        "### <font color=\"darkblue\"><b>A notebook's cells are global...</b></font>\n",
        "\n",
        "All notebook cells <u>share</u> a set of variables and their values!\n",
        "+ These are called <tt>global</tt> variables and values.\n",
        "+ These global variables and values are really convenient for exploration\n",
        "   + We can just keep exploring, cell-by-cell.\n",
        "+ It runs into trouble, however, when variable names get re-used (<i>Aargh!</i>)\n",
        "   + Re-use of a variable is called <i><b>clobbering</b></i>\n",
        "\n",
        "Let's clobber <tt>fav_num</tt> here:\n"
      ]
    },
    {
      "cell_type": "code",
      "execution_count": null,
      "metadata": {
        "id": "w2TFwHq1IIuR",
        "colab": {
          "base_uri": "https://localhost:8080/"
        },
        "outputId": "79e1ec2f-43e2-445b-cc10-5b31bf2279f7"
      },
      "outputs": [
        {
          "output_type": "stream",
          "name": "stdout",
          "text": [
            "fav_num before is 1925\n",
            "fav_num after is 1925\n"
          ]
        }
      ],
      "source": [
        "#\n",
        "# example of clobbering fav_num\n",
        "#\n",
        "\n",
        "print(\"fav_num before is\", fav_num)\n",
        "\n",
        "fav_num = 1925            # Founded it!  (This was CGU's founding year.)\n",
        "\n",
        "print(\"fav_num after is\", fav_num)\n"
      ]
    },
    {
      "cell_type": "code",
      "execution_count": null,
      "metadata": {
        "id": "Li_RTYycImxB"
      },
      "outputs": [],
      "source": [
        "#\n",
        "# Thought experiment:\n",
        "#   What do you think happens if you re-run the above cell?!\n",
        "#   Try it out... No need to answer the question beyond trying it! :-)\n",
        "#"
      ]
    },
    {
      "cell_type": "markdown",
      "metadata": {
        "id": "5s912UI0uUIQ"
      },
      "source": [
        "# <font color=\"darkblue\"><b>Conditionals</b></font>\n",
        "\n",
        "### Conditionals are <i>Code Paths</i>\n",
        "\n",
        "In Python, all decisions are made through three keywords:\n",
        "+ <tt>if</tt>, <tt>elif</tt>, and <tt>else</tt>  \n",
        "+ These allow you to make decisions based on the value of data\n",
        "+ And those decisions can direct code to take different actions.\n",
        "\n",
        "These control structures are called ***conditionals***\n",
        "\n",
        "As an example of a conditional control structure, try the following cell.\n",
        "\n",
        "It plays a very unfair (and impolite) version of rock-paper-scissors:"
      ]
    },
    {
      "cell_type": "code",
      "source": [
        "comp = \"rock\"\n",
        "user = \"paper\"\n",
        "\n",
        "if comp == 'paper' and user == 'paper':\n",
        "    print('We tie. Try again?')\n",
        "\n",
        "elif comp == 'rock':\n",
        "\n",
        "    if user == 'scissors':\n",
        "        print('I win! *_*')\n",
        "    else:\n",
        "        print('You win. Aargh!')"
      ],
      "metadata": {
        "id": "wcPI5RwlYXxv",
        "colab": {
          "base_uri": "https://localhost:8080/"
        },
        "outputId": "7c7b6410-f50c-4f5e-88e8-0cfcf90de4f9"
      },
      "execution_count": null,
      "outputs": [
        {
          "output_type": "stream",
          "name": "stdout",
          "text": [
            "You win. Aargh!\n"
          ]
        }
      ]
    },
    {
      "cell_type": "code",
      "source": [
        "# A very unfair game of rock-paper-scissors\n",
        "\n",
        "user_name = input(\"What is your name? \")\n",
        "print(\"Welcome,\", user_name, \"!\")\n",
        "print()\n",
        "\n",
        "print(\"I challenge you to rock-paper-scissors! Prepare to be vanquished!\")\n",
        "\n",
        "user_choice = input(\"Which do you choose? (rock/paper/scissors):\")\n",
        "print()\n",
        "\n",
        "if user_choice == \"rock\":\n",
        "  print(\"You chose\", user_choice)\n",
        "  print(\"But I chose paper...\")   # this doesn't seem fair...\n",
        "  print(\"My paper smothers your rock!\")\n",
        "\n",
        "elif user_choice == \"paper\":\n",
        "  print(\"You chose\", user_choice, \"?\")\n",
        "  print(\"I'm sorry: My scissors have confetti'd you!\")\n",
        "\n",
        "else:\n",
        "  print(\"You chose\", user_choice)\n",
        "  print(\"Wow. You chose poorly!\")\n",
        "  print(\"I win.\")\n",
        "\n",
        "\n",
        "print()\n",
        "print(\"Try again, if you dare...\")\n"
      ],
      "metadata": {
        "colab": {
          "base_uri": "https://localhost:8080/"
        },
        "id": "tLY1jm6xYz0K",
        "outputId": "ef010ea5-bcad-4922-f836-2ad3c3321fd3"
      },
      "execution_count": null,
      "outputs": [
        {
          "output_type": "stream",
          "name": "stdout",
          "text": [
            "What is your name? rock\n",
            "Welcome, rock !\n",
            "\n",
            "I challenge you to rock-paper-scissors! Prepare to be vanquished!\n",
            "Which do you choose? (rock/paper/scissors):rock\n",
            "\n",
            "You chose rock\n",
            "But I chose paper...\n",
            "My paper smothers your rock!\n",
            "You chose rock\n",
            "Wow. You chose poorly!\n",
            "I win.\n",
            "\n",
            "Try again, if you dare...\n"
          ]
        }
      ]
    },
    {
      "cell_type": "markdown",
      "metadata": {
        "id": "LVDqFSCqz_Qa"
      },
      "source": [
        "### <u><b>To Do</b></u>\n",
        "\n",
        "### Run the above cell several times...\n",
        "\n",
        "+ Try different inputs, including <tt>rock</tt>, <tt>paper</tt>, <tt>scissors</tt>, and some others. Experiment!\n",
        "+ In each case, consider the results...\n",
        "\n",
        "<br>\n",
        "\n",
        "### <u><b>To Answer</b></u>\n",
        "\n",
        "Feel free to include your answers here, just after each question. (A couple of these are completed as examples.)\n",
        "\n",
        "+ In the above cell, which lines run when <tt>user_choice</tt> is equal to ``\"rock\"``?\n",
        "   + <b>Answer</b>:  lines 13-15, the <tt>if</tt> block's body, are run in this case\n",
        "+ In the above cell, which lines run when <tt>user_choice</tt> is equal to ``\"paper\"``?\n",
        "   + <b>Answer</b>: 17-19\n",
        "+ In the above cell, which lines run when <tt>user_choice</tt> is equal to ``\"Paper\"``? (Hint: it's different than above!)\n",
        "   + <b>Answer</b>: lines 21-24\n",
        "+ In the above cell, which lines run when <tt>user_choice</tt> is equal to <tt>POPTARTS!</tt>?\n",
        "   + <b>Answer</b>: lines 21-24\n",
        "+ If you delete just the <tt>if</tt> block (lines 12-15) entirely, how does the program's behavior change?\n",
        "   + <b>Answer</b>:  This breaks the code: it's a syntax error to have an <tt>elif</tt> or an <tt>else</tt> without an initial <tt>if</tt>!\n",
        "+ What if you delete just the <tt>elif</tt> block (lines 17-19)?\n",
        "   + <b>Answer</b>: paper no longer gets its own response :(\n",
        "+ What if you delete just the <tt>else</tt> block (lines 21-24)?\n",
        "   + <b>Answer</b>: there is no response at all when anything but \"paper\" or \"rock\" is inputted\n",
        "+ What if you change just the keyword <tt>elif</tt> to the keyword <tt>if</tt> on line 17? How does the program's behavior change?\n",
        "   + <b>Answer</b>: the else block runs as well if rock is chosen, and nothing changes when paper or anything else is chosen\n",
        "<br>\n",
        "\n",
        "### <u><b>To Notice</b></u>\n",
        "\n",
        "+ In the above cell, notice that to **test** if a variable is equal to a value, Python uses two equal signs\n",
        "   + <tt>user_choice == \"rock\"</tt> is a <u>test</u>\n",
        "+ On the other hand, to **set** a variable to a value, Python uses one equal sign\n",
        "  + <tt>user_choice = input(\"Which?\")</tt> <i>sets</i> <tt>user_choice</tt>. (It's not a test.)\n",
        "+ The **body** of each conditional block is indented. This is how Python knows when the block ends.\n",
        "   + When its indentation ends, so does that _block_ of code.\n",
        "\n",
        "\n"
      ]
    },
    {
      "cell_type": "markdown",
      "metadata": {
        "id": "b5Nkx_-LC0SM"
      },
      "source": [
        "# <font color=\"darkblue\"><b><i>Nested</i> Conditionals</b></font>\n",
        "\n",
        "That's it!\n",
        "\n",
        "Incredibly, that's all there is to know about conditionals!\n",
        "\n",
        "(Although there's value to practicing further!)\n",
        "\n",
        "Even more incredibly, ***this is all that's needed for <u>any</u> computational decision-making at all***\n",
        "+ <tt>if</tt>, <tt>elif</tt>, and <tt>else</tt> are all that are needed\n",
        "+ Every conditional must begin with an <tt>if</tt>. The <tt>elif</tt> and <tt>else</tt> blocks are optional.\n",
        "+ Sophistication, power, and intricacy can be built through ***nesting***\n",
        "\n",
        "Below is a more sophisticated -- and more fair -- rock-paper-scissors example. + It uses _nested_ conditionals to keep track of both the user's choice and the computer's choice.\n",
        "\n",
        "You'll see the line <tt>comp_choice = random.choice([\"rock\",\"paper\",\"scissors\"])</tt>\n",
        "+ This line makes a random choice from the three options\n",
        "+ It assigns that choice to the variable <tt>comp_choice</tt>\n",
        "+ We don't know which it's chosen!\n",
        "\n",
        "Try it out!"
      ]
    },
    {
      "cell_type": "code",
      "execution_count": null,
      "metadata": {
        "id": "0EGxVgVmIDOu"
      },
      "outputs": [],
      "source": [
        "#\n",
        "# A fairer but incomplete game of rock-paper-scissors\n",
        "#\n",
        "\n",
        "import random       # imports a library (named random)\n",
        "                    # for making random choices\n",
        "\n",
        "user_name = input(\"What is your name? \")\n",
        "print(\"Welcome,\", user_name, \"!\")\n",
        "print()\n",
        "\n",
        "print(\"Ready for RPS? Choose wisely!!\")\n",
        "user_choice = input(\"Which do you choose? (rock/paper/scissors):\")\n",
        "comp_choice = random.choice([\"rock\",\"paper\",\"scissors\"])\n",
        "print()\n",
        "\n",
        "# We print both choices\n",
        "print(\"You chose\", user_choice)\n",
        "print(\"  I chose\", comp_choice)\n",
        "print()\n",
        "\n",
        "\n",
        "# We can handle different possibilities with nested conditionals\n",
        "\n",
        "if user_choice == \"rock\":\n",
        "\n",
        "  if comp_choice == \"rock\":\n",
        "    print('Aargh! We tied but my rock was rockier!)')\n",
        "  elif comp_choice == \"paper\":\n",
        "    print(\"I win! My paper outclasses any rock!\")\n",
        "  else:\n",
        "    print('Alack! Your rock cast my scissors asunder.')\n",
        "\n",
        "else:\n",
        "\n",
        "  print(\"You have ventured into the unknown...\")\n",
        "  print(\"... but I probably won!!\")\n",
        "\n",
        "\n",
        "\n",
        "print()\n",
        "print(\"Try again!\")\n"
      ]
    },
    {
      "cell_type": "markdown",
      "metadata": {
        "id": "uMmkLijNKtFa"
      },
      "source": [
        "# <font color=\"darkblue\"><b>Your Task: a <i>real</i> RPS...</b></font>\n",
        "\n",
        "Above is a _start_ to a real RPS challenge. It's fair, but incomplete.\n",
        "\n",
        "<br>\n",
        "\n",
        "Your task, in the following cell, is to create a complete, fair-playing RPS-like game:\n",
        "+ it should run and should handle at least nine possibilities correctly\n",
        "+ they can be rock-paper-scissors or your own options...\n",
        "+ use creative/personalized dialog!\n",
        "\n",
        "<br>\n",
        "\n",
        "There are lots of extra-credit possibilities, as well:\n",
        "+ create an RPS-variation of your own design\n",
        "   + There are several variants that involve bears.\n",
        "   + Perhaps bear-stag-sagehen?\n",
        "   + Could have more than three options, e.g., [rock-paper-scissors-lizard-spock](https://www.youtube.com/watch?v=x5Q6-wMx-K8)\n",
        "+ use better/sharper dialog!\n",
        "+ include \"easter eggs\" - for example, different behavior if the name is recognized...\n",
        "   + With conditionals, there's no limit to the code-paths possible...\n",
        "\n",
        "<br>\n",
        "\n",
        "But, don't spend too much time on RPS...\n",
        "\n",
        "... because the final task, your Python Adventure, awaits!\n"
      ]
    },
    {
      "cell_type": "code",
      "execution_count": null,
      "metadata": {
        "id": "fcLcTxiwPAOQ",
        "colab": {
          "base_uri": "https://localhost:8080/",
          "height": 722
        },
        "outputId": "2804343b-eee5-4f68-f4c5-ecdf358a10f1"
      },
      "outputs": [
        {
          "output_type": "stream",
          "name": "stdout",
          "text": [
            "What is your name? lianna\n",
            "Hi, lianna! :D\n",
            "\n",
            "Let's play bird-stone-worm-fish-plant!\n",
            "Do you know how to play? (yes, no) yes\n",
            "\n",
            "Great!\n",
            "Which do you choose? (bird/stone/worm/fish/plant):plant\n",
            "I see, you chose plant\n",
            "and I chose fish\n",
            "\n",
            "My fish took a bite out of your planty plant!\n",
            "Yes! I win! Better luck next time, ehehe.\n",
            "\n",
            "Play again? (yes/no)yes\n",
            "Which do you choose? (bird/stone/worm/fish/plant):stone\n",
            "I see, you chose stone\n",
            "and I chose fish\n",
            "\n",
            "My fish swam right into your stone!\n",
            "No! I lost! :( Good job!\n",
            "\n"
          ]
        },
        {
          "output_type": "error",
          "ename": "KeyboardInterrupt",
          "evalue": "Interrupted by user",
          "traceback": [
            "\u001b[0;31m---------------------------------------------------------------------------\u001b[0m",
            "\u001b[0;31mKeyboardInterrupt\u001b[0m                         Traceback (most recent call last)",
            "\u001b[0;32m<ipython-input-1-a65780029c49>\u001b[0m in \u001b[0;36m<cell line: 0>\u001b[0;34m()\u001b[0m\n\u001b[1;32m    151\u001b[0m     \u001b[0mprint\u001b[0m \u001b[0;34m(\u001b[0m\u001b[0;34m\"Ok! Bye!\"\u001b[0m\u001b[0;34m)\u001b[0m\u001b[0;34m\u001b[0m\u001b[0;34m\u001b[0m\u001b[0m\n\u001b[1;32m    152\u001b[0m \u001b[0;34m\u001b[0m\u001b[0m\n\u001b[0;32m--> 153\u001b[0;31m \u001b[0mle_game\u001b[0m\u001b[0;34m(\u001b[0m\u001b[0;34m)\u001b[0m\u001b[0;34m\u001b[0m\u001b[0;34m\u001b[0m\u001b[0m\n\u001b[0m",
            "\u001b[0;32m<ipython-input-1-a65780029c49>\u001b[0m in \u001b[0;36mle_game\u001b[0;34m()\u001b[0m\n\u001b[1;32m    146\u001b[0m   \u001b[0;32mif\u001b[0m \u001b[0mplay_again\u001b[0m \u001b[0;34m==\u001b[0m \u001b[0;34m\"yes\"\u001b[0m\u001b[0;34m:\u001b[0m\u001b[0;34m\u001b[0m\u001b[0;34m\u001b[0m\u001b[0m\n\u001b[1;32m    147\u001b[0m     \u001b[0mplay_again\u001b[0m \u001b[0;34m=\u001b[0m \u001b[0;34m\"h\"\u001b[0m\u001b[0;34m\u001b[0m\u001b[0;34m\u001b[0m\u001b[0m\n\u001b[0;32m--> 148\u001b[0;31m     \u001b[0mle_game\u001b[0m\u001b[0;34m(\u001b[0m\u001b[0;34m)\u001b[0m\u001b[0;34m\u001b[0m\u001b[0;34m\u001b[0m\u001b[0m\n\u001b[0m\u001b[1;32m    149\u001b[0m \u001b[0;34m\u001b[0m\u001b[0m\n\u001b[1;32m    150\u001b[0m   \u001b[0;32melse\u001b[0m\u001b[0;34m:\u001b[0m\u001b[0;34m\u001b[0m\u001b[0;34m\u001b[0m\u001b[0m\n",
            "\u001b[0;32m<ipython-input-1-a65780029c49>\u001b[0m in \u001b[0;36mle_game\u001b[0;34m()\u001b[0m\n\u001b[1;32m    143\u001b[0m \u001b[0;34m\u001b[0m\u001b[0m\n\u001b[1;32m    144\u001b[0m   \u001b[0mprint\u001b[0m\u001b[0;34m(\u001b[0m\u001b[0;34m)\u001b[0m\u001b[0;34m\u001b[0m\u001b[0;34m\u001b[0m\u001b[0m\n\u001b[0;32m--> 145\u001b[0;31m   \u001b[0mplay_again\u001b[0m \u001b[0;34m=\u001b[0m \u001b[0minput\u001b[0m\u001b[0;34m(\u001b[0m\u001b[0;34m\"Play again? (yes/no)\"\u001b[0m\u001b[0;34m)\u001b[0m\u001b[0;34m\u001b[0m\u001b[0;34m\u001b[0m\u001b[0m\n\u001b[0m\u001b[1;32m    146\u001b[0m   \u001b[0;32mif\u001b[0m \u001b[0mplay_again\u001b[0m \u001b[0;34m==\u001b[0m \u001b[0;34m\"yes\"\u001b[0m\u001b[0;34m:\u001b[0m\u001b[0;34m\u001b[0m\u001b[0;34m\u001b[0m\u001b[0m\n\u001b[1;32m    147\u001b[0m     \u001b[0mplay_again\u001b[0m \u001b[0;34m=\u001b[0m \u001b[0;34m\"h\"\u001b[0m\u001b[0;34m\u001b[0m\u001b[0;34m\u001b[0m\u001b[0m\n",
            "\u001b[0;32m/usr/local/lib/python3.11/dist-packages/ipykernel/kernelbase.py\u001b[0m in \u001b[0;36mraw_input\u001b[0;34m(self, prompt)\u001b[0m\n\u001b[1;32m    849\u001b[0m                 \u001b[0;34m\"raw_input was called, but this frontend does not support input requests.\"\u001b[0m\u001b[0;34m\u001b[0m\u001b[0;34m\u001b[0m\u001b[0m\n\u001b[1;32m    850\u001b[0m             )\n\u001b[0;32m--> 851\u001b[0;31m         return self._input_request(str(prompt),\n\u001b[0m\u001b[1;32m    852\u001b[0m             \u001b[0mself\u001b[0m\u001b[0;34m.\u001b[0m\u001b[0m_parent_ident\u001b[0m\u001b[0;34m,\u001b[0m\u001b[0;34m\u001b[0m\u001b[0;34m\u001b[0m\u001b[0m\n\u001b[1;32m    853\u001b[0m             \u001b[0mself\u001b[0m\u001b[0;34m.\u001b[0m\u001b[0m_parent_header\u001b[0m\u001b[0;34m,\u001b[0m\u001b[0;34m\u001b[0m\u001b[0;34m\u001b[0m\u001b[0m\n",
            "\u001b[0;32m/usr/local/lib/python3.11/dist-packages/ipykernel/kernelbase.py\u001b[0m in \u001b[0;36m_input_request\u001b[0;34m(self, prompt, ident, parent, password)\u001b[0m\n\u001b[1;32m    893\u001b[0m             \u001b[0;32mexcept\u001b[0m \u001b[0mKeyboardInterrupt\u001b[0m\u001b[0;34m:\u001b[0m\u001b[0;34m\u001b[0m\u001b[0;34m\u001b[0m\u001b[0m\n\u001b[1;32m    894\u001b[0m                 \u001b[0;31m# re-raise KeyboardInterrupt, to truncate traceback\u001b[0m\u001b[0;34m\u001b[0m\u001b[0;34m\u001b[0m\u001b[0m\n\u001b[0;32m--> 895\u001b[0;31m                 \u001b[0;32mraise\u001b[0m \u001b[0mKeyboardInterrupt\u001b[0m\u001b[0;34m(\u001b[0m\u001b[0;34m\"Interrupted by user\"\u001b[0m\u001b[0;34m)\u001b[0m \u001b[0;32mfrom\u001b[0m \u001b[0;32mNone\u001b[0m\u001b[0;34m\u001b[0m\u001b[0;34m\u001b[0m\u001b[0m\n\u001b[0m\u001b[1;32m    896\u001b[0m             \u001b[0;32mexcept\u001b[0m \u001b[0mException\u001b[0m \u001b[0;32mas\u001b[0m \u001b[0me\u001b[0m\u001b[0;34m:\u001b[0m\u001b[0;34m\u001b[0m\u001b[0;34m\u001b[0m\u001b[0m\n\u001b[1;32m    897\u001b[0m                 \u001b[0mself\u001b[0m\u001b[0;34m.\u001b[0m\u001b[0mlog\u001b[0m\u001b[0;34m.\u001b[0m\u001b[0mwarning\u001b[0m\u001b[0;34m(\u001b[0m\u001b[0;34m\"Invalid Message:\"\u001b[0m\u001b[0;34m,\u001b[0m \u001b[0mexc_info\u001b[0m\u001b[0;34m=\u001b[0m\u001b[0;32mTrue\u001b[0m\u001b[0;34m)\u001b[0m\u001b[0;34m\u001b[0m\u001b[0;34m\u001b[0m\u001b[0m\n",
            "\u001b[0;31mKeyboardInterrupt\u001b[0m: Interrupted by user"
          ]
        }
      ],
      "source": [
        "#\n",
        "#\n",
        "# I made a rock paper scissors variant :D\n",
        "# Yay! kskakgkvgxkvgkgksgv\n",
        "\n",
        "\n",
        "\n",
        "\n",
        "import random\n",
        "\n",
        "user_name = input(\"What is your name? \")\n",
        "print(\"Hi, \", user_name, \"! :D\", sep='')\n",
        "print()\n",
        "\n",
        "def intro():\n",
        "  \"\"\"this is the intro/tutorial to the game\"\"\"\n",
        "  print(\"the 'bird' eats the 'worm' and the 'fish',\")\n",
        "  print(\"the 'stone' impales the 'bird' and the 'fish' (it is a very sharp stone),\")\n",
        "  print(\"the 'worm' tunnels through the 'stone' and the eats the 'plant',\")\n",
        "  print(\"the 'fish' eats the 'plant' and the 'worm',\")\n",
        "  print(\"and the 'plant' traps the 'bird' and cracks the 'rock'\")\n",
        "  print()\n",
        "\n",
        "print(\"Let's play bird-stone-worm-fish-plant!\")\n",
        "understand = input (\"Do you know how to play? (yes, no) \")\n",
        "print()\n",
        "if understand == \"no\":\n",
        "  print(\"Here,\")\n",
        "  intro()\n",
        "  understand = input (\"Do you understand now? (yes, no) \")\n",
        "\n",
        "  if understand == \"no\":\n",
        "    print(\"*sigh*\")\n",
        "    print(\"Fine, let me explain it one more time\")\n",
        "    print()\n",
        "    intro()\n",
        "    print(\"I will assume you understand now\")\n",
        "  else:\n",
        "    print(\"Great!\")\n",
        "\n",
        "else:\n",
        "  print(\"Great!\")\n",
        "\n",
        "def le_game():\n",
        "  \"\"\"le game\"\"\"\n",
        "  user_choice = input(\"Which do you choose? (bird/stone/worm/fish/plant):\").lower()\n",
        "  comp_choice = random.choice([\"bird\",\"stone\",\"worm\", \"fish\", \"plant\"])\n",
        "  print(\"I see, you chose\", user_choice)\n",
        "  print(\"and I chose\", comp_choice)\n",
        "  print()\n",
        "\n",
        "  if user_choice == \"bird\":\n",
        "    if comp_choice == \"bird\":\n",
        "      print(\"My bird and your bird say hi to each other.\")\n",
        "      print(\"It's a tie!\")\n",
        "    elif comp_choice == \"stone\":\n",
        "      print(\"My stone flies into your bird, knocking it down.\")\n",
        "      print(\"Yes! I win! Better luck next time, ehehe.\")\n",
        "    elif comp_choice == \"worm\":\n",
        "      print(\"My worm was enjoying its little wormy day until your bird swooped down.\")\n",
        "      print(\"No! I lost! :( Good job!\")\n",
        "    elif comp_choice == \"fish\":\n",
        "      print(\"My fish was swimming down the river when your bird decided it wanted a snack!\")\n",
        "      print(\"No! I lost! :( Good job!\")\n",
        "    else:\n",
        "      print(\"My big planty vines snuck up behind your bird and pinned down its wings!\")\n",
        "      print(\"Yes! I win! Better luck next time, ehehe.\")\n",
        "\n",
        "  elif user_choice == \"stone\":\n",
        "    if comp_choice == \"bird\":\n",
        "      print(\"My bird was flying until your stone smacked it in the face!\")\n",
        "      print(\"No! I lost! :( Good job!\")\n",
        "    elif comp_choice == \"stone\":\n",
        "      print(\"Both of our stones sit there. The end.\")\n",
        "      print(\"It's a tie!\")\n",
        "    elif comp_choice == \"worm\":\n",
        "      print(\"My worm encountered your stone and tunneled right through it!\")\n",
        "      print(\"Yes! I win! Better luck next time, ehehe.\")\n",
        "    elif comp_choice == \"fish\":\n",
        "      print(\"My fish swam right into your stone!\")\n",
        "      print(\"No! I lost! :( Good job!\")\n",
        "    else:\n",
        "      print(\"My plant sprouted up right in the middle of your stone!\")\n",
        "      print(\"Yes! I win! Better luck next time, ehehe.\")\n",
        "\n",
        "  elif user_choice == \"worm\":\n",
        "    if comp_choice == \"bird\":\n",
        "      print(\"My bird decided it was hungry and picked your worm up for a snak!\")\n",
        "      print(\"Yes! I win! Better luck next time, ehehe.\")\n",
        "    elif comp_choice == \"stone\":\n",
        "      print(\"My stone was minding its own business when your worm came and tunneled through it...\")\n",
        "      print(\"No! I lost! :( Good job!\")\n",
        "    elif comp_choice == \"worm\":\n",
        "      print(\"Both of our worms decide to chomp some dirt together.\")\n",
        "      print(\"It's a tie!\")\n",
        "    elif comp_choice == \"fish\":\n",
        "      print(\"My fish saw your worm and gobbled it up!\")\n",
        "      print(\"Yes! I win! Better luck next time, ehehe.\")\n",
        "    else:\n",
        "      print(\"My planty weed became your worm's dinner.\")\n",
        "      print(\"No! I lost! :( Good job!\")\n",
        "\n",
        "  elif user_choice == \"fish\":\n",
        "    if comp_choice == \"bird\":\n",
        "      print(\"My bird noticed your fish and decided it was hungry.\")\n",
        "      print(\"Yes! I win! Better luck next time, ehehe.\")\n",
        "    elif comp_choice == \"stone\":\n",
        "      print(\"My stone blocked your fish's path, and wasn't noticed until it was too late...\")\n",
        "      print(\"Yes! I win! Better luck next time, ehehe.\")\n",
        "    elif comp_choice == \"worm\":\n",
        "      print(\"My worm wriggled straight into your fish's mouth!\")\n",
        "      print(\"No! I lost! :( Good job!\")\n",
        "    elif comp_choice == \"fish\":\n",
        "      print(\"Our fish see each other and become friends.\")\n",
        "      print(\"It's a tie!\")\n",
        "    else:\n",
        "      print(\"My very planty seaweed's very planty existence was cut short by your fish.\")\n",
        "      print(\"No! I lost! :( Good job!\")\n",
        "\n",
        "  elif user_choice == \"plant\":\n",
        "    if comp_choice == \"bird\":\n",
        "      print(\"My bird flew right into your planty tree's branches!\")\n",
        "      print(\"No! I lost! :( Good job!\")\n",
        "    elif comp_choice == \"stone\":\n",
        "      print(\"My stone was very rudely cracked in half by your planty weed.\")\n",
        "      print(\"No! I lost! :( Good job!\")\n",
        "    elif comp_choice == \"worm\":\n",
        "      print(\"My worm chomped a whole hole through your planty leaf.\")\n",
        "      print(\"Yes! I win! Better luck next time, ehehe.\")\n",
        "    elif comp_choice == \"fish\":\n",
        "      print(\"My fish took a bite out of your planty plant!\")\n",
        "      print(\"Yes! I win! Better luck next time, ehehe.\")\n",
        "    else:\n",
        "      print(\"Both of our plants look for the sunlight.\")\n",
        "      print(\"It's a tie!\")\n",
        "\n",
        "  else:\n",
        "    print(\"It looks like what you chose doesn't make sense...\")\n",
        "    print(\"Please choose again.\")\n",
        "    print(\"AND MAKE SURE YOU CHOOSE RIGHT THIS TIME!!! >:(\")\n",
        "    print()\n",
        "    le_game()\n",
        "\n",
        "  print()\n",
        "  play_again = input(\"Play again? (yes/no)\")\n",
        "  if play_again == \"yes\":\n",
        "    play_again = \"h\"\n",
        "    le_game()\n",
        "\n",
        "  else:\n",
        "    print (\"Ok! Bye!\")\n",
        "\n",
        "le_game()"
      ]
    },
    {
      "cell_type": "markdown",
      "metadata": {
        "id": "z5GHXttzVHYV"
      },
      "source": [
        "# <font color=\"darkblue\"><b>Adventure! (example)</b></font>\n",
        "\n",
        "Try running the cell below and then read it over.\n",
        "\n",
        "It is an example \"interactive fiction\" adventure:\n",
        "+ featuring poptarts  (naturally)\n",
        "+ with multiple outcomes available  (only two, in this case)\n",
        "\n",
        "With this as an example, the final problem asks you to create-your-own-adventure...  (see the details below)."
      ]
    },
    {
      "cell_type": "code",
      "execution_count": null,
      "metadata": {
        "id": "M2KYNZknVNJr",
        "colab": {
          "base_uri": "https://localhost:8080/"
        },
        "outputId": "acf2f087-e808-466e-d889-caa717688ddb"
      },
      "outputs": [
        {
          "output_type": "stream",
          "name": "stdout",
          "text": [
            "What do they call you, worthy adventurer? li\n",
            "\n",
            "Welcome, li -- to the UnderMine, a labyrinth\n",
            "beneath CGU's unending academic complex, with weighty\n",
            "wonders and unreal quantities...of poptarts!\n",
            "\n",
            "Your quest: To find--and partake of--a poptart!\n",
            "\n",
            "What flavor do you seek? strawberry\n",
            "Wise! You show deep poptart experience.\n",
            "\n",
            "On to the quest!\n",
            "\n",
            "\n",
            "A corridor stretches before you; its dim lighting betrays, to\n",
            "one side, a table supporting nameless forms of inorganic bulk\n",
            "and, to the other, a door ajar, leaking laughter--is that\n",
            "laughter?--of lab-goers.\n",
            "\n",
            "Do you choose the table or the door? [table/door] d\n",
            "\n",
            "You push the door into a gathering of sagefowl, athenas,\n",
            "and stags alike, all relishing their tasks. Teamwork and\n",
            "merriment abound here, except...\n",
            "\n",
            "...they have consumed ALL of the poptarts! Drifts of wrappers\n",
            "coat the floor.  Dizzy, you grasp for a pastry. None is at\n",
            "hand. You exhale and slip under the teeming tide of foil as\n",
            "it finishes winding around you.\n",
            "Farewell, li .\n"
          ]
        }
      ],
      "source": [
        "# Title for this example adventure:   The Quest.\n",
        "#\n",
        "# Notes on how to \"win\" or \"lose\" this adventure:\n",
        "#   To win, choose the table.\n",
        "#   To lose, choose the door.\n",
        "\n",
        "\n",
        "def adventure():\n",
        "    \"\"\"This function runs one session of interactive fiction\n",
        "       Well, it's \"fiction,\" depending on the pill color chosen...\n",
        "       Arguments: no arguments (prompted text doesn't count as an argument)\n",
        "       Results: no results     (printing doesn't count as a result)\n",
        "    \"\"\"\n",
        "    user_name = input(\"What do they call you, worthy adventurer? \")\n",
        "\n",
        "    print()\n",
        "    print(\"Welcome,\", user_name, \"-- to the UnderMine, a labyrinth\")\n",
        "    print(\"beneath CGU's unending academic complex, with weighty\")\n",
        "    print(\"wonders and unreal quantities...of poptarts!\")\n",
        "    print()\n",
        "\n",
        "    print(\"Your quest: To find--and partake of--a poptart!\")\n",
        "    print()\n",
        "    flavor = input(\"What flavor do you seek? \")\n",
        "    if flavor == \"strawberry\":\n",
        "        print(\"Wise! You show deep poptart experience.\")\n",
        "    elif flavor == \"s'mores\":\n",
        "        print(\"The taste of the campfire: well chosen, adventurer!\")\n",
        "    else:\n",
        "        print(\"Each to their own, then.\")\n",
        "    print()\n",
        "\n",
        "    print(\"On to the quest!\\n\\n\")\n",
        "    print(\"A corridor stretches before you; its dim lighting betrays, to\")\n",
        "    print(\"one side, a table supporting nameless forms of inorganic bulk\")\n",
        "    print(\"and, to the other, a door ajar, leaking laughter--is that\")\n",
        "    print(\"laughter?--of lab-goers.\")\n",
        "    print()\n",
        "\n",
        "    choice1 = input(\"Do you choose the table or the door? [table/door] \")\n",
        "    print()\n",
        "\n",
        "    if choice1 == \"table\":\n",
        "        print(\"As you approach the table, its hazy burdens loom ever larger,\")\n",
        "        print(\"until...\")\n",
        "        print()\n",
        "        print(\"...they resolve into unending stacks of poptarts, foil\")\n",
        "        print(\"shimmering.  You succeed, sumptuously, in sating the\")\n",
        "        print(\"challenge--and your hunger.\")\n",
        "        print(\"Go well,\", user_name, \"!\")\n",
        "\n",
        "    else:\n",
        "        print(\"You push the door into a gathering of sagefowl, athenas,\")\n",
        "        print(\"and stags alike, all relishing their tasks. Teamwork and\")\n",
        "        print(\"merriment abound here, except...\")\n",
        "        print()\n",
        "        print(\"...they have consumed ALL of the poptarts! Drifts of wrappers\")\n",
        "        print(\"coat the floor.  Dizzy, you grasp for a pastry. None is at\")\n",
        "        print(\"hand. You exhale and slip under the teeming tide of foil as\")\n",
        "        print(\"it finishes winding around you.\")\n",
        "        print(\"Farewell,\", user_name, \".\")\n",
        "\n",
        "\n",
        "#\n",
        "# The above adventure is defined in a _function_  (next week: functions!)\n",
        "#\n",
        "# This means it's defined, but it does not run until we call it.\n",
        "# This line below calls it:\n",
        "adventure()"
      ]
    },
    {
      "cell_type": "markdown",
      "metadata": {
        "id": "oqzSX1aKDhq-"
      },
      "source": [
        "# <font color=\"darkblue\"><b>Adventure (Yours!)</b></font>\n",
        "\n",
        "### Interactive Fiction\n",
        "\n",
        "For this problem, you-the-author should create a Python program (built on the starting template above) that is a work of interactive fiction, a.k.a., a choose-your-own-adventure program.\n",
        "\n",
        "Its goals are\n",
        "+ to build experience with control structures! Your adventure needs at least 5 <tt>if</tt>-based control structures, noted below.\n",
        "+ to begin writing code in a function (the template does this using <tt>def adventure():</tt> at the top of the cell) -- and then running it (by calling <tt>adventure()</tt> at the bottom of the cell\n",
        "+ to invite story-telling (in Python)!\n",
        "\n",
        "<br>\n",
        "\n",
        "### Conditional structures to include:\n",
        "\n",
        "The example story includes two if-based control structures: (a) an <tt>if-elif-else</tt> and (b) an <tt>if-else</tt>\n",
        "\n",
        "For this challenge, you use each of five conditional control structures in a creative way that affects the story or dialog\n",
        "+ They don't have to appear in this or any order\n",
        "+ You're welcome to have many more than this, if you wish!\n",
        "+ Here are the control structures to be sure to include:\n",
        "   + An `if`, `elif`, and `else` control structure (with exactly one `elif`)\n",
        "   + An `if`, `elif`, `elif`, ... and `else` control structure (with at least two `elif`s and a trailing `else`)\n",
        "   + An `if`, `else` control structure (with zero `elif`s)\n",
        "   + An `if`, `elif`, ... control structure (with one or more `elif`s but no trailing `else` at all)\n",
        "   + A plain `if` control structure (with no trailing `elif` nor trailing `else` at all)\n",
        "\n",
        "<i>Keep things light!</i>\n",
        "+ There are forums for all forms of expression, and this one's goals is really contextualizing conditionals in CS.\n",
        "+ Know that, poentially, lots of people (our tutors! us!) will read—and run—your story: we look forward to it!\n",
        "+ It's appreciated if you describe how to \"win\" your adventure at the top of your cell, in a comment\n",
        "\n",
        "Also, please be mindful of the time you spend!\n",
        "\n",
        "The goal here is _not_ to take a lot of time.\n",
        "+ It's easy to let time slip away: the poptart adventure above took much longer than I originally thought it would—and it has only two control structures!\n",
        "\n",
        "<br>\n",
        "\n",
        "### I look forward to your adventure!\n"
      ]
    },
    {
      "cell_type": "code",
      "execution_count": null,
      "metadata": {
        "id": "3CuGtAfYPqCi",
        "colab": {
          "base_uri": "https://localhost:8080/"
        },
        "outputId": "af34ab05-151b-4ed9-aa8b-226ffe36fd4a"
      },
      "outputs": [
        {
          "output_type": "stream",
          "name": "stdout",
          "text": [
            "Welcome to the Flower Garden.\n",
            "There are many flowers in this garden.\n",
            "Your goal is to find the Red Camellia.\n",
            "Use your knowledge of Victorian Era flower meanings to find it!\n",
            "Good luck!\n",
            "~~~~~~~~~~~~~~~~~~\n",
            "You find yourself in a clearing surrounded by small stone walls.\n",
            "There is a fence in one of the four walls.\n",
            "That must be where you are supposed to go.\n",
            "You see two large garden beds, both filled with purple flowers.\n",
            "On the left are clematises, the right, lilacs.\n",
            "Between them, there is a table. Upon the table, there is a letter and a dictionary of flowers.\n",
            "You pocket the dictionary before reading the letter.\n",
            "It says:\n",
            "       The key lies in the mind, but remembering times past will only trap you.\n",
            "\n",
            "BE CAREFUL WITH YOUR CHOICES!!!\n",
            "INVESTIGATING THE WRONG THING HAS CONSEQUENCES.\n",
            "What do you do now? (1/2/3/4) \n",
            " 1. Investigate the clematises \n",
            " 2. Investigate the lilacs \n",
            " 3. Look up clematis in the flower dictionary \n",
            " 4. Look up lilac in the flower dictionary \n",
            " 1\n",
            "\n",
            "You investigate the clematises.\n",
            "Inside the largest flower, there is a shiny purple key.\n",
            "You take the key and walk over to the fence.\n",
            "With bated breath, you insert and turn the key.\n",
            "The fence swings open.\n",
            "\n",
            "\n",
            "You step through the gates and find yourself in another area identical to the last.\n",
            "The only difference is that the flowers are pure white.\n",
            "The applethorn and the asphodel.\n",
            "The fence gates swing shut behind you with a loud boom.\n",
            "Turning around, you see that it dissolved into the wall.\n",
            "Oh well. You aren't going to go back there again.\n",
            "Turning back around, you see a beautiful arched doorway at the far end.\n",
            "That must be the way out.\n",
            "Once again, there is a letter for you to read.\n",
            "It says:\n",
            "       Fear not death, but the untrustworthy. Fear not regrets, but \n",
            " the outwardly charming.\n",
            "\n",
            "BE CAREFUL WITH YOUR CHOICES.\n",
            "INVESTIGATING THE WRONG THING HAS C O N S E Q U E N C E S!!!\n",
            "What do you do now? \n",
            " 1. Investigate the applethorns \n",
            " 2. Investigate the asphodels \n",
            " 3. Look up applethorn in the flower dictionary \n",
            " 4. Look up asphodel in the flower dictionary \n",
            " 2\n",
            "\n",
            "You investigate the asphodels.\n",
            "The first asphodel you touch wilts beneath your fingers.\n",
            "You behin to feel apprehensive.\n",
            "Then, the flower snaps off, and you can see a shiny thing in the hollow stem.\n",
            "It turns out to be a gleaming silver key, delicate and small.\n",
            "You pick it up and take it over to the door, careful not to snap it.\n",
            "The key slides in smoothly, turning with a satisfying click.\n",
            "You turn the doorknob, and the doors open.\n",
            "\n",
            "\n",
            "The garden layout is about the same as before, except for one thing.\n",
            "Well, a few things.\n",
            "It is filled with brilliant red flowers, and in the center, a deep crimson flowerbush grows.\n",
            "It is the Red Camellia.\n",
            "You hesitantly step forward and touch it, and a warm feeling sprouts in your chest.\n",
            "You feel like you can perservere through the darkest of times.\n",
            "That what you hold dear will never be separated from you.\n",
            "The world fades to black.\n",
            "\n",
            "When you wake up, you realize it had been a dream.\n",
            "But it had been a good one.\n",
            "\n",
            "~~~~~~~~~~~~~~~~~~\n",
            "You win!\n",
            "Good job :D\n",
            "(P.S., the advertiser didn't stop by, but join the Cult of Flowers and Poptarts!! ^u^)\n"
          ]
        }
      ],
      "source": [
        "# Title for this adventure: The Flower Garden\n",
        "#\n",
        "# To win,\n",
        "# Don't input anything random more than 3 times\n",
        "# And choose clematis and asphodel\n",
        "# (After the intro input 1 then 2)\n",
        "# To lose,\n",
        "# Choose lilac or applethorn or input random things 4 or more times\n",
        "\n",
        "\n",
        "\n",
        "\n",
        "def my_adventure():\n",
        "    \"\"\"my adventure\n",
        "    (obviously)\"\"\"\n",
        "    global strikes\n",
        "    strikes = 0\n",
        "    clematis = 0\n",
        "    asphodel = 0\n",
        "    last_name = 'nothing! :D'\n",
        "\n",
        "    def lose():\n",
        "      print()\n",
        "      print('You lose, sorry :(')\n",
        "      playagain = input(\"Play again? (yes/no) \")\n",
        "      if playagain == \"yes\":\n",
        "        from IPython.display import clear_output\n",
        "        clear_output()\n",
        "        print('restarting...')\n",
        "        my_adventure()\n",
        "      else:\n",
        "        print(\"Bye!\")\n",
        "        def stop_current_process():\n",
        "          import os\n",
        "          import signal\n",
        "          os.kill(os.getpid(), signal.SIGINT)\n",
        "        stop_current_process()\n",
        "\n",
        "    def strike():\n",
        "      \"\"\"don't do this or you lose !\"\"\"\n",
        "      if strikes == 1:\n",
        "        print(\"No, no, no! That's not an option!\")\n",
        "        print(\"Make sure you only type the number.\")\n",
        "        print(\"No dot or space or anything else.\")\n",
        "        print(\"This is your first strike, so I'll let you off this time.\")\n",
        "        print(\"Be careful, though. 3 strikes and you lose!\")\n",
        "        print()\n",
        "      elif strikes == 2:\n",
        "        print(\"Be careful!\")\n",
        "        print(\"3 strikes and you lose!\")\n",
        "        print(\"This is strike 2.\")\n",
        "        print()\n",
        "      elif strikes == 3:\n",
        "        print(\"Be careful!\")\n",
        "        print(\"3 strikes and you lose!\")\n",
        "        print(\"This is the last strike.\")\n",
        "        print()\n",
        "      else:\n",
        "        print(\"You've done this too many times! >:(\")\n",
        "        lose()\n",
        "\n",
        "\n",
        "\n",
        "\n",
        "    user_name = input(\"What is the moniker that you go by? (First name please) \")\n",
        "    if user_name.lower() == \"zach\" or user_name.lower() == \"zachary\":\n",
        "      print(\"Oh!\")\n",
        "      last_name = input(\"What be your surname? \")\n",
        "      if last_name.lower() == \"dodds\":\n",
        "        print(\"Aha!\")\n",
        "        print()\n",
        "        print(\"...You see a shadowy figure walk towards you.\")\n",
        "        print(\"It says 'You like poptarts, right?\")\n",
        "        print(\"You nod.\")\n",
        "        print(\"'Then join the Cult of Flowers and Poptarts! ehehehehe'\")\n",
        "        print(\"It slinks away.\")\n",
        "        print()\n",
        "        print(\"Odd.\")\n",
        "        print()\n",
        "        print(\"You feel a sudden urge to eat a poptart.\")\n",
        "      else:\n",
        "        print(\"Oh.\")\n",
        "        print(\"Sorry, I thought you were someone else.\")\n",
        "    else:\n",
        "      print(\"Hmmm... Where have I heard that name before? \\n...\")\n",
        "    print()\n",
        "    print(\"Anyways\")\n",
        "    print(\"Hello, \", user_name, \"!\", sep='')\n",
        "    print(\"I am the narrator.\")\n",
        "    print('I suspect you will be hearing me a lot.')\n",
        "    print()\n",
        "    def choice1():\n",
        "      choices = input(\"1. So you're not just a voice in my head? \\n2. Hello there, narrator \\n(input 1 or 2!) \\n \")\n",
        "      if choices == \"1\":\n",
        "        print(\"*gasp* Of course I'm not!\")\n",
        "      elif choices == \"2\":\n",
        "        print(\"Hello to you too! (I like you already! :D)\")\n",
        "      else:\n",
        "        global strikes\n",
        "        strikes = int(strikes) + 1\n",
        "        strike()\n",
        "        choice1()\n",
        "    choice1()\n",
        "\n",
        "    print(\"Now that I know you, let's begin!\")\n",
        "    input(\"Input anything to begin!\")\n",
        "\n",
        "    from IPython.display import clear_output\n",
        "    clear_output()\n",
        "\n",
        "    print(\"Welcome to the Flower Garden.\")\n",
        "    print(\"There are many flowers in this garden.\")\n",
        "    print(\"Your goal is to find the Red Camellia.\")\n",
        "    print(\"Use your knowledge of Victorian Era flower meanings to find it!\")\n",
        "    print(\"Good luck!\")\n",
        "    print(\"~~~~~~~~~~~~~~~~~~\")\n",
        "    print(\"You find yourself in a clearing surrounded by small stone walls.\")\n",
        "    print(\"There is a fence in one of the four walls.\")\n",
        "    print(\"That must be where you are supposed to go.\")\n",
        "    print(\"You see two large garden beds, both filled with purple flowers.\")\n",
        "    print(\"On the left are clematises, the right, lilacs.\")\n",
        "    print(\"Between them, there is a table. Upon the table, there is a letter and a dictionary of flowers.\")\n",
        "    print(\"You pocket the dictionary before reading the letter.\")\n",
        "    print(\"It says:\")\n",
        "    print(\"       The key lies in the mind, but remembering times past will only trap you.\")\n",
        "    print()\n",
        "\n",
        "    def choice2():\n",
        "      print(\"BE CAREFUL WITH YOUR CHOICES!!!\")\n",
        "      print(\"INVESTIGATING THE WRONG THING HAS CONSEQUENCES.\")\n",
        "      clematis = input(\"What do you do now? (1/2/3/4) \\n 1. Investigate the clematises \\n 2. Investigate the lilacs \\n 3. Look up clematis in the flower dictionary \\n 4. Look up lilac in the flower dictionary \\n \")\n",
        "      print()\n",
        "      if clematis == '1':\n",
        "        print(\"You investigate the clematises.\")\n",
        "        print(\"Inside the largest flower, there is a shiny purple key.\")\n",
        "        print(\"You take the key and walk over to the fence.\")\n",
        "        print(\"With bated breath, you insert and turn the key.\")\n",
        "        print(\"The fence swings open.\")\n",
        "        print()\n",
        "        print()\n",
        "      elif clematis == '2':\n",
        "        print(\"You investigate the lilacs.\")\n",
        "        print(\"When you touch the petals if one of the lilacs, you begin to feel dizzy.\")\n",
        "        print(\"Flashes of color appear in your vision, eventually becoming what seems to be...\")\n",
        "        print(\"memories.\")\n",
        "        print(\"Memories from when you didn't even know you could remember.\")\n",
        "        print(\"Both good and bad.\")\n",
        "        print(\"You don't even realize when you pass out until you wake up in your bed.\")\n",
        "        print(\"Had it been a dream all along?\")\n",
        "        lose()\n",
        "      elif clematis == '3':\n",
        "        print(\"You look up clematis in the dictionary.\")\n",
        "        print(\"The dictionary says:\")\n",
        "        print(\"       The clematis is a flowering vine that represents \\n mental acuity, cleverness, and ingenuity.\")\n",
        "        print()\n",
        "        choice2()\n",
        "      elif clematis == '4':\n",
        "        print(\"You look up lilac in the dictionary.\")\n",
        "        print(\"The dictionary says:\")\n",
        "        print(\"       The lilac is a flowering bush that represents old love, \\n renewal, and rememberance.\")\n",
        "        print()\n",
        "        choice2()\n",
        "      else:\n",
        "        global strikes\n",
        "        strikes = int(strikes) + 1\n",
        "        strike()\n",
        "        choice2()\n",
        "\n",
        "    choice2()\n",
        "    print(\"You step through the gates and find yourself in another area identical to the last.\")\n",
        "    print(\"The only difference is that the flowers are pure white.\")\n",
        "    print(\"The applethorn and the asphodel.\")\n",
        "    print(\"The fence gates swing shut behind you with a loud boom.\")\n",
        "    print(\"Turning around, you see that it dissolved into the wall.\")\n",
        "    print(\"Oh well. You aren't going to go back there again.\")\n",
        "    print(\"Turning back around, you see a beautiful arched doorway at the far end.\")\n",
        "    print(\"That must be the way out.\")\n",
        "    print(\"Once again, there is a letter for you to read.\")\n",
        "    print(\"It says:\")\n",
        "    print(\"       Fear not death, but the untrustworthy. Fear not regrets, but \\n the outwardly charming.\")\n",
        "    print()\n",
        "\n",
        "    def choice3():\n",
        "      print(\"BE CAREFUL WITH YOUR CHOICES.\")\n",
        "      print(\"INVESTIGATING THE WRONG THING HAS C O N S E Q U E N C E S!!!\")\n",
        "      asphodel = input(\"What do you do now? \\n 1. Investigate the applethorns \\n 2. Investigate the asphodels \\n 3. Look up applethorn in the flower dictionary \\n 4. Look up asphodel in the flower dictionary \\n \")\n",
        "      print()\n",
        "      if asphodel == '1':\n",
        "        print(\"You investigate the applethorns.\")\n",
        "        print(\"As you get closer to the applethorns, it's sweet scent allures you.\")\n",
        "        print(\"A tingling feeling tells you this is dangerous, but you can't seem to move away.\")\n",
        "        print(\"You touch a flower.\")\n",
        "        print(\"The scent of the applethorns engulf you, and you faint.\")\n",
        "        print(\"You wake up in your bed.\")\n",
        "        print(\"Had it been a dream all along?\")\n",
        "        lose()\n",
        "      elif asphodel == '2':\n",
        "        print(\"You investigate the asphodels.\")\n",
        "        print(\"The first asphodel you touch wilts beneath your fingers.\")\n",
        "        print(\"You behin to feel apprehensive.\")\n",
        "        print(\"Then, the flower snaps off, and you can see a shiny thing in the hollow stem.\")\n",
        "        print(\"It turns out to be a gleaming silver key, delicate and small.\")\n",
        "        print(\"You pick it up and take it over to the door, careful not to snap it.\")\n",
        "        print(\"The key slides in smoothly, turning with a satisfying click.\")\n",
        "        print(\"You turn the doorknob, and the doors open.\")\n",
        "        print()\n",
        "        print()\n",
        "      elif asphodel == '3':\n",
        "        print(\"You look up applethorn in the dictionary.\")\n",
        "        print(\"The dictionary says:\")\n",
        "        print(\"       The applethorn is a poisonous flowering plant that symbolizes \\n deceitful charm.\")\n",
        "        choice3()\n",
        "      elif asphodel == '4':\n",
        "        print(\"You look up asphodel in the dictionary.\")\n",
        "        print(\"The dictionary says:\")\n",
        "        print(\"       The asphodel is a lily that symbolizes death, literally \\n meaning 'My regrets follow you to the grave.'\")\n",
        "        choice3()\n",
        "      else:\n",
        "        global strikes\n",
        "        strikes = int(strikes) + 1\n",
        "        strike()\n",
        "        choice3()\n",
        "    choice3()\n",
        "\n",
        "    print(\"The garden layout is about the same as before, except for one thing.\")\n",
        "    print(\"Well, a few things.\")\n",
        "    print(\"It is filled with brilliant red flowers, and in the center, a deep crimson flowerbush grows.\")\n",
        "    print(\"It is the Red Camellia.\")\n",
        "    print(\"You hesitantly step forward and touch it, and a warm feeling sprouts in your chest.\")\n",
        "    print(\"You feel like you can perservere through the darkest of times.\")\n",
        "    print(\"That what you hold dear will never be separated from you.\")\n",
        "    print(\"The world fades to black.\")\n",
        "    print()\n",
        "    print(\"When you wake up, you realize it had been a dream.\")\n",
        "    print(\"But it had been a good one.\")\n",
        "    print()\n",
        "    print(\"~~~~~~~~~~~~~~~~~~\")\n",
        "    print(\"You win!\")\n",
        "    print(\"Good job :D\")\n",
        "    if last_name.lower() != \"dodds\":\n",
        "      print(\"(P.S., the advertiser didn't stop by, but join the Cult of Flowers and Poptarts!! ^u^)\")\n",
        "\n",
        "\n",
        "\n",
        "\n",
        "\n",
        "\n",
        "#\n",
        "# The above adventure is defined in a _function_  (next week: functions!)\n",
        "#\n",
        "# This means it's defined, but it does not run until we call it.\n",
        "# This line below calls it:\n",
        "my_adventure()"
      ]
    },
    {
      "cell_type": "code",
      "source": [],
      "metadata": {
        "id": "n-Pt_fFjukRY"
      },
      "execution_count": null,
      "outputs": []
    },
    {
      "cell_type": "markdown",
      "metadata": {
        "id": "_hi9IzD5eb-O"
      },
      "source": [
        "# <font color=\"darkblue\"><b>Reading and Response</b></font>\n",
        "\n",
        "### There is often a \"reading-and-response challenge\"\n",
        "+ There is usually one of these each week...\n",
        "+ It often complements the programming portion for that week...\n",
        "+ **Response**    We ask you to compose a response to each article. It can be short (4-5 sentences is great), and the goal is to engage with something in each article and incorporate your own thoughts and experiences into your response.\n",
        "  + The responses are worth about 5 points each week.\n",
        "  + Include your response in the cell below...\\\n",
        "  \n",
        "\n",
        "<br>\n",
        "\n",
        "### This week's reading is about _language_\n",
        "+ Here is the [article in the NYTimes](https://www.nytimes.com/2010/08/29/magazine/29language-t.html)\n",
        "+ Here is a [local pdf copy](https://www.cs.hmc.edu/twiki/pub/CS5/Reading0Gold/language_shapes.pdf), in case you don't have access the NYTimes version\n",
        "\n",
        "<br>\n",
        "\n",
        "#### What to do...\n",
        "\n",
        "+ After you have read the above excerpt (or whole article), create a response to the article that addresses one or both of the following prompts in a plain-text file named hw0pr0.txt, which you should submit through the submissions system.\n",
        "  + Have there been moments in which you felt that your language or another language \"got in the way\" of something you wanted to accomplish? That is, have you \"bumped into a language's boundaries,\" in the manner suggested by the article? Elaborate briefly.  or\n",
        "  + To what extent do artificial languages (such as Python or Picobot) have the ability to shape human thought, if at all? Or are such languages fundamentally different from human ones, such as Guugu Yimithirr and English?\n",
        "+ You only need write a few sentences in the next cell down; a paragraph of 4-6 sentences certainly suffices. More are welcome, but the real goal is that your response shows you have thought about the article and added your own experience or insights to its ideas.\n",
        "\n"
      ]
    },
    {
      "cell_type": "markdown",
      "metadata": {
        "id": "lGWfvhGde9RA"
      },
      "source": [
        "## <font color=\"darkblue\"><b>Response to \"Does language shape how we think?!\"</b></font>\n",
        "\n",
        "<br>\n",
        "\n",
        "When two different languages mix, there are going to be some things that get lost in translation. Some languages develop words or phrases for certain things while others simply don't, and when that happens, it is really hard to get the point across. For me, sometimes when I ask my mom to explain a Chinese phrase, I do not understand it because there is no good way to translate it to English. This always makes me super frustrated since I just don't get it, kinda like the boy who had trouble dancing when he couldn't tell which direction was which. It's like knowing that you *should* understand but you just don't.\n",
        "\n",
        "\n",
        "<br>\n",
        "<br>"
      ]
    },
    {
      "cell_type": "markdown",
      "metadata": {
        "id": "rNHGo2zHWUuo"
      },
      "source": [
        "# <B>Submitting...</B>\n",
        "\n",
        "Be sure to submit the url of _your_ copy -- with the challenges, questions, and programs composed --\n",
        "+ to Canvas in the appropriate spot\n",
        "+ by the _following_ Friday evening, any time...\n",
        "\n",
        "Remember that there is lots of cgu-based tutoring support (the Python tutoring), as well as office-hour support available...\n",
        "\n",
        "<br>\n",
        "\n",
        "The programming parts of IST341, especially this one, seek poptarts -- as well as\n",
        "+ creativity/novelty\n",
        "+ personalization/individual context\n",
        "+ exploration and understanding (does it run?)"
      ]
    }
  ],
  "metadata": {
    "colab": {
      "provenance": []
    },
    "kernelspec": {
      "display_name": "Python 3",
      "name": "python3"
    },
    "language_info": {
      "name": "python"
    }
  },
  "nbformat": 4,
  "nbformat_minor": 0
}