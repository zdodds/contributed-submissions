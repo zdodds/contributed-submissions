{
  "cells": [
    {
      "cell_type": "markdown",
      "source": [
        "# Welcome back, IST 341!\n",
        "\n",
        "### _Assignment 3 Notebook: Functions, Loops, and Monte Carlo!_\n",
        "\n",
        "This week is functions first -- and all the rest.\n",
        "\n",
        "Featuring:\n",
        "+ A few self-similar function applications\n",
        "+ An introduction to _looping_ functions\n",
        "+ Monte Carlo Applications! The \"birthday room\" and \"sleepwalker\" (random walks)\n",
        "+ A reading and response on ChatGPT, naturally\n",
        "  + Feel free to ChatGPT it ...\n",
        "  + ... in which case, respond to its response!"
      ],
      "metadata": {
        "id": "UrkiOTiDEjwp"
      }
    },
    {
      "cell_type": "markdown",
      "source": [
        "### <font color=\"DodgerBlue\"><b>Make your own copy of this notebook (as in each week)</b></font>\n",
        "\n",
        "**Submitting** -- When you're ready to submit, be sure to\n",
        "+ **share** the notebook with the <font color=\"darkblue\">instructor</font> (_hi!_):\n",
        "   + `zdodds@gmail.com`\n",
        "+ and also **submit** the url to your notebook at the appropriate spot on Canvas\n"
      ],
      "metadata": {
        "id": "M7dzL4m4fPYf"
      }
    },
    {
      "cell_type": "markdown",
      "source": [
        "# <b>Leading example</b>:  ``i2I_once``\n",
        "\n",
        "The alien is seeking a capital ``'I'``!\n",
        "\n",
        "The function ``i2I_once(s)`` takes in a string ``s``\n",
        "From there,\n",
        "+ if ``s`` is the single character ``'i'``, the function returns a capital ``'I'``\n",
        "+ otherwise, the function returns the original input, ``s``\n",
        "\n",
        "Try it!\n",
        "\n",
        "<b>Shortcut</b>: <tt>control-/</tt> comments and uncomments..."
      ],
      "metadata": {
        "id": "9BqFJ1etLRzR"
      }
    },
    {
      "cell_type": "code",
      "source": [
        "# single-character substitution:\n",
        "\n",
        "def i2I_once(s):\n",
        "  \"\"\" i2I_once changes an input 'i' to an output 'I'\n",
        "      all other inputs remain the same\n",
        "  \"\"\"\n",
        "  if s == 'i':\n",
        "    return 'I'\n",
        "  else:\n",
        "    return s\n",
        "\n",
        "# tests are in the next cell..."
      ],
      "metadata": {
        "id": "1krVLOH0HQsC"
      },
      "execution_count": null,
      "outputs": []
    },
    {
      "cell_type": "code",
      "source": [
        "# Tests to try for i2I_once  (Try control-/ to uncomment them!)\n",
        "\n",
        "print(\"i2I_once('i') should be 'I' <->\", i2I_once('i'))\n",
        "print(\"i2I_once('j') should be 'j' <->\", i2I_once('j'))\n",
        "print()\n",
        "\n",
        "print(\"i2I_once('alien') should be 'alien' <->\", i2I_once('alien'))\n",
        "print(\"i2I_once('icicle') should be 'icicle' <->\", i2I_once('icicle'))"
      ],
      "metadata": {
        "id": "Y421urjHHTDd",
        "colab": {
          "base_uri": "https://localhost:8080/"
        },
        "outputId": "5ff289bf-c929-44c1-a6f4-502e0854dd58"
      },
      "execution_count": null,
      "outputs": [
        {
          "output_type": "stream",
          "name": "stdout",
          "text": [
            "i2I_once('i') should be 'I' <-> I\n",
            "i2I_once('j') should be 'j' <-> j\n",
            "\n",
            "i2I_once('alien') should be 'alien' <-> alien\n",
            "i2I_once('icicle') should be 'icicle' <-> icicle\n"
          ]
        }
      ]
    },
    {
      "cell_type": "markdown",
      "source": [
        "## <b>The problem</b>\n",
        "\n",
        "The \"problem\" is that ``i2I_once`` only works on single-character strings. But... <br> **we'd like it to work on <u>every</u> character in a string!**\n",
        "\n",
        "<br>\n",
        "\n",
        "## <b>The solution!</b>\n",
        "\n",
        "We create a second function, ``i2I_all(s)`` which\n",
        "+ calls ``i2I_once`` on the ***first*** character, ``s[0]``\n",
        "+ then, calls ``i2I_all`` on the ***rest***, ``s[1:]``\n",
        "\n",
        "<b>Important!</b> There needs to be a way to stop!\n",
        "+ The function checks if the input ``s`` has no characters...\n",
        "+ in that case, there is nothing to substitute, and the empty string ``''`` is returned\n",
        "\n",
        "Try it!\n",
        "\n"
      ],
      "metadata": {
        "id": "S3fIcroiHwp1"
      }
    },
    {
      "cell_type": "code",
      "source": [
        "# multiple-character substitution\n",
        "\n",
        "def i2I_all(s):\n",
        "  \"\"\" changes i to I for all characters in the input, s \"\"\"\n",
        "  if s == '':       # EMPTY case!\n",
        "    return ''\n",
        "  else:\n",
        "    return i2I_once(s[0]) + i2I_all(s[1:])  # FIRST and REST\n",
        "\n",
        "# tests are in the next cell..."
      ],
      "metadata": {
        "id": "BdvSdeIXHUHB"
      },
      "execution_count": null,
      "outputs": []
    },
    {
      "cell_type": "code",
      "source": [
        "# Tests to try for i2I_all\n",
        "\n",
        "print(\"i2I_all('alien') should be 'alIen' <->\", i2I_all('alien'))\n",
        "print(\"i2I_all('aliiien') should be 'alIIIen' <->\", i2I_all('aliiien'))\n",
        "print()\n",
        "\n",
        "print(\"i2I_all('icicle') should be 'IcIcle' <->\", i2I_all('icicle'))\n",
        "print(\"i2I_all('No eyes to see here') should be 'No eyes to see here' <->\", i2I_all('No eyes to see here'))"
      ],
      "metadata": {
        "id": "lX1tlDNbHVq-",
        "colab": {
          "base_uri": "https://localhost:8080/"
        },
        "outputId": "83c42ee1-4900-4b64-d2e1-e086cbb02268"
      },
      "execution_count": null,
      "outputs": [
        {
          "output_type": "stream",
          "name": "stdout",
          "text": [
            "i2I_all('alien') should be 'alIen' <-> alIen\n",
            "i2I_all('aliiien') should be 'alIIIen' <-> alIIIen\n",
            "\n",
            "i2I_all('icicle') should be 'IcIcle' <-> IcIcle\n",
            "i2I_all('No eyes to see here') should be 'No eyes to see here' <-> No eyes to see here\n"
          ]
        }
      ]
    },
    {
      "cell_type": "markdown",
      "source": [
        "## <b>An <i>alternative</i> solution...</b>\n",
        "\n",
        "The above solution uses only conditionals (`if` and `else`) and function-calls. Because the function calls _itself_, it's called **recursive** .\n",
        "\n",
        "<br>\n",
        "\n",
        "An alternative approach -- and one that, to be honest, is more often used in practice, uses a **loop**.  Loops express _repetition_. It's a bit glib, but in one sense computers are really just machines for running loops... <font size=\"-2\">That said, the loops are almost always inside functions!</font>  \n",
        "\n",
        "## <b>The <i>Loop</i> solution!</b>\n",
        "\n",
        "We create a second solution, ``i2I_all_loop(s)`` which\n",
        "+ loops over each character, giving each one the name `c` - and then\n",
        "+ calls ``i2I_once`` on ***each*** of those characters, `c`\n",
        "+ and, meanwhile, adds up all of the transformed characters\n",
        "+ In the end, it returns the final **result**.\n",
        "\n",
        "Try it!"
      ],
      "metadata": {
        "id": "BSsaKb79M-pZ"
      }
    },
    {
      "cell_type": "code",
      "source": [
        "# multiple-character substitution\n",
        "\n",
        "def i2I_all_loop(s):\n",
        "  \"\"\" changes i to I for all characters in the input, s \"\"\"\n",
        "  result = ''        # the result starts as the EMPTY string!\n",
        "\n",
        "  for c in s:        # c is the name we are giving to EACH element in s (that is, each character in s)\n",
        "    result = result + i2I_once(c)   # each time, we add the new transformed output to the end of result\n",
        "    # print(\"result is\", result)    # uncomment this to see the process, in action!\n",
        "\n",
        "  return result      # at the end, we return the final, completely-created result string!\n",
        "\n",
        "# tests are in the next cell..."
      ],
      "metadata": {
        "id": "Zar7ZreiOGAl"
      },
      "execution_count": null,
      "outputs": []
    },
    {
      "cell_type": "code",
      "source": [
        "# Tests to try for i2I_all_loop\n",
        "\n",
        "print(\"i2I_all_loop('alien') should be 'alIen' <->\", i2I_all_loop('alien'))\n",
        "print(\"i2I_all_loop('aliiien') should be 'alIIIen' <->\", i2I_all_loop('aliiien'))\n",
        "print()\n",
        "\n",
        "print(\"i2I_all_loop('icicle') should be 'IcIcle' <->\", i2I_all_loop('icicle'))\n",
        "print(\"i2I_all_loop('No eyes to see here') should be 'No eyes to see here' <->\", i2I_all_loop('No eyes to see here'))"
      ],
      "metadata": {
        "id": "8AUnOPghPEPJ",
        "colab": {
          "base_uri": "https://localhost:8080/"
        },
        "outputId": "569df976-b5ef-4b78-cd48-26fcee34a4c7"
      },
      "execution_count": null,
      "outputs": [
        {
          "output_type": "stream",
          "name": "stdout",
          "text": [
            "i2I_all_loop('alien') should be 'alIen' <-> alIen\n",
            "i2I_all_loop('aliiien') should be 'alIIIen' <-> alIIIen\n",
            "\n",
            "i2I_all_loop('icicle') should be 'IcIcle' <-> IcIcle\n",
            "i2I_all_loop('No eyes to see here') should be 'No eyes to see here' <-> No eyes to see here\n"
          ]
        }
      ]
    },
    {
      "cell_type": "markdown",
      "source": [
        "### Recursion expresses \"the future\"  (Wow!)\n",
        "\n",
        "In a sense, recursion's power is its ability to express <i>... and all the future stuff...</i>  \n",
        "\n",
        "\"Knowing\" or, at least, _calling_ the future is quite a feat!\n",
        "\n",
        "As an example, here is a number-guessing game,\n",
        "+ where it's the _computer_ that has to do the guessing:"
      ],
      "metadata": {
        "id": "KDcoGajZ4Hed"
      }
    },
    {
      "cell_type": "code",
      "source": [
        "#\n",
        "# Example of recursion-as-future:\n",
        "#\n",
        "\n",
        "from random import *\n",
        "\n",
        "def guess( hidden ):\n",
        "    \"\"\"\n",
        "        have the computer guess numbers until it gets the \"hidden\" value\n",
        "        return the number of guesses\n",
        "    \"\"\"\n",
        "    this_guess = choice( range(0,100) )  # 0 to 99, inclusive\n",
        "\n",
        "    if this_guess == hidden:\n",
        "        print(\"I guessed it!\")\n",
        "        return 1                         # it only took one guess!\n",
        "\n",
        "    else:\n",
        "        return 1 + guess( hidden )  # 1 for this guess, PLUS all future guesses!\n",
        "\n",
        "# test our function!\n",
        "guess(42)"
      ],
      "metadata": {
        "colab": {
          "base_uri": "https://localhost:8080/"
        },
        "id": "uB7xNCEW4gR9",
        "outputId": "220f9e6c-886a-48d8-a7ca-972f031268b6"
      },
      "execution_count": null,
      "outputs": [
        {
          "output_type": "stream",
          "name": "stdout",
          "text": [
            "I guessed it!\n"
          ]
        },
        {
          "output_type": "execute_result",
          "data": {
            "text/plain": [
              "154"
            ]
          },
          "metadata": {},
          "execution_count": 8
        }
      ]
    },
    {
      "cell_type": "markdown",
      "source": [
        "## Loops or Recursion: _Your choice_ ...\n",
        "\n",
        "For these next-few functions, feel free to use loops or recursion.\n",
        "\n",
        "_Suggestion_:  &nbsp; Copy-and-edit the solutions above. Adapt them to the new problem at hand!\n",
        "\n",
        "_Disclaimer_: &nbsp; This is how ***all*** software is created in professional practice: adapting old software that had been solving similar problems!\n",
        "\n",
        "<br>\n",
        "\n",
        "<hr>\n",
        "\n",
        "<br>"
      ],
      "metadata": {
        "id": "pA1aLiC6OGz0"
      }
    },
    {
      "cell_type": "markdown",
      "source": [
        "### <font color=\"darkblue\"><b>Task #1</b></font>: ``spongebobbify_each(s)``\n",
        "\n",
        "The ``i2I_all`` and `i2I_all_loop` and ``i2I_once`` patterns are very powerful -- and very general. Even universal!\n",
        "\n",
        "For <b>task #1</b>, the goal is to write ``spongebobbify_each(s)`` whose goal is to return a randomly-capitalized version of the input string ``s``. For example,\n",
        "\n",
        "``spongebobbify_all('where's gary?')`` might return ``WhERe's gARy?``\n",
        "+ or, it might return ``wHEre'S GArY?``\n",
        "\n",
        "First, we share Python's built-in upper-case and lower-case functions:"
      ],
      "metadata": {
        "id": "E3dQ1H0xLjg_"
      }
    },
    {
      "cell_type": "code",
      "source": [
        "s = 'shout!'\n",
        "print(\"s is\", s)\n",
        "print(\"s.upper() is\", s.upper())"
      ],
      "metadata": {
        "id": "Vw6cf77XOHGi",
        "colab": {
          "base_uri": "https://localhost:8080/"
        },
        "outputId": "3bb8ed2a-c43c-4e51-d2ee-4663a29171b5"
      },
      "execution_count": null,
      "outputs": [
        {
          "output_type": "stream",
          "name": "stdout",
          "text": [
            "s is shout!\n",
            "s.upper() is SHOUT!\n"
          ]
        }
      ]
    },
    {
      "cell_type": "code",
      "source": [
        "s = 'WHISPER...'\n",
        "print(\"s is\", s)\n",
        "print(\"s.lower() is\", s.lower())"
      ],
      "metadata": {
        "id": "UWJ2vrgyOUC0",
        "colab": {
          "base_uri": "https://localhost:8080/"
        },
        "outputId": "03a3f5eb-5a31-47c0-b01f-6b433d278bbf"
      },
      "execution_count": null,
      "outputs": [
        {
          "output_type": "stream",
          "name": "stdout",
          "text": [
            "s is WHISPER...\n",
            "s.lower() is whisper...\n"
          ]
        }
      ]
    },
    {
      "cell_type": "markdown",
      "source": [
        "Notice that\n",
        "+ ``s.upper()`` returns a fully upper-cased version of ``s``\n",
        "+ ``s.lower()`` returns a fully lower-cased version of ``s``\n",
        "+ in both cases, non-letters are left alone..."
      ],
      "metadata": {
        "id": "Ja9-9JfLOiFn"
      }
    },
    {
      "cell_type": "markdown",
      "source": [
        "### We provide the ``once`` ...\n",
        "\n",
        "We provide the one-character version, ``spongebobbify_once(s)``\n",
        "+ Notice that it uses the ``random.choice`` function\n",
        "+ It was the same one we used in rock-paper-scissors\n",
        "\n",
        "Try it out:"
      ],
      "metadata": {
        "id": "R6i_1gFfN_7D"
      }
    },
    {
      "cell_type": "code",
      "source": [
        "# We provide the one-character version, in this case:\n",
        "import random                  #  get the random library\n",
        "\n",
        "def spongebobbify_once(s):\n",
        "  \"\"\" returns the input, randomly \"upper-cased\" or \"lower-cased\" \"\"\"\n",
        "  result = random.choice( [s.upper(), s.lower()] )   # choose one at random\n",
        "  return result\n",
        "\n",
        "# Tests in the next cell..."
      ],
      "metadata": {
        "id": "LiIQoH8hHXP-"
      },
      "execution_count": null,
      "outputs": []
    },
    {
      "cell_type": "code",
      "source": [
        "# Tests to try for spongebobbify_once\n",
        "# There are not \"right\" answers, so we just test them:\n",
        "\n",
        "print(spongebobbify_once('F is for friends who do stuff together!'))\n",
        "print(spongebobbify_once('I knew I shouldn\\'t have gotten out of bed today.'))\n",
        "print()\n",
        "\n",
        "# but we want to use it on single letters!\n",
        "print(spongebobbify_once('a'))\n",
        "print(spongebobbify_once('b'))\n",
        "print(spongebobbify_once('c'))\n",
        "print(spongebobbify_once('d'))\n",
        "print(spongebobbify_once('e'))"
      ],
      "metadata": {
        "id": "uYfr7ERRWaev",
        "colab": {
          "base_uri": "https://localhost:8080/"
        },
        "outputId": "81788b18-47bf-431f-8c52-dcb7d42786aa"
      },
      "execution_count": null,
      "outputs": [
        {
          "output_type": "stream",
          "name": "stdout",
          "text": [
            "f is for friends who do stuff together!\n",
            "I KNEW I SHOULDN'T HAVE GOTTEN OUT OF BED TODAY.\n",
            "\n",
            "a\n",
            "b\n",
            "C\n",
            "d\n",
            "e\n"
          ]
        }
      ]
    },
    {
      "cell_type": "markdown",
      "source": [
        "## Now, ``spongebobify_each(s)``\n",
        "\n",
        "<b>Your task</b> is to write ``spongebobify_each(s)``\n",
        "\n",
        "Use the `i2I_all(s)` OR `i2I_all_loop(s)` as guidance and as a template/example. <br>\n",
        "Then, adapt from there:\n",
        "+ How much can be re-used?\n",
        "+ How much works as-is?\n",
        "+ Experiment!\n",
        "\n",
        "It's a remarkably versatile approach!\n",
        "\n",
        "Try our ~~tests~~ quotes -- and add three tests/quotes of your own:\n"
      ],
      "metadata": {
        "id": "nBFQKUs9YY1K"
      }
    },
    {
      "cell_type": "code",
      "source": [
        "# Here, write your  spongebobify_all(s)\n",
        "#\n",
        "def spongebobbify_all(s):\n",
        "  \"\"\" returns the input, randomly \"upper-cased\" or \"lower-cased\" \"\"\"\n",
        "  result = ''        # the result starts as the EMPTY string!\n",
        "  for c in s:        # c is the name we are giving to EACH element in s (that is, each character in s)\n",
        "    result += spongebobbify_once(c)\n",
        "  return result\n",
        "\n",
        "# Try our tests (next cell) and add three of your own...\n",
        "# Preferably sBoB QuoTeS..."
      ],
      "metadata": {
        "id": "fGGZ9ApSZEW1"
      },
      "execution_count": null,
      "outputs": []
    },
    {
      "cell_type": "code",
      "source": [
        "# Tests to try for spongebobbify_once\n",
        "# There are not \"right\" answers, so we just test them:\n",
        "\n",
        "print(spongebobbify_all('F is for friends who do stuff together!'))\n",
        "print(spongebobbify_all('I knew I shouldn\\'t have gotten out of bed today.'))\n",
        "print(spongebobbify_all('The inner machinations of my mind are an enigma. - Patrick'))\n",
        "print()\n",
        "\n",
        "# Your tests here:\n",
        "print(spongebobbify_all('Basketball is fun!'))\n",
        "print(spongebobbify_all('IST341_Participant_10 caesar makes good music!'))\n",
        "print(spongebobbify_all('helloooooooo'))\n",
        "print()"
      ],
      "metadata": {
        "id": "geZNGG45ZMlJ",
        "colab": {
          "base_uri": "https://localhost:8080/"
        },
        "outputId": "ecc8a7b7-6f4e-42ce-dfae-9340bfe9f33c"
      },
      "execution_count": null,
      "outputs": [
        {
          "output_type": "stream",
          "name": "stdout",
          "text": [
            "f iS fOR frieNDS WHo do StUFf TogetHEr!\n",
            "i knEW i ShOuLDn'T hAve GoTTeN OUt OF bED tOday.\n",
            "THe INNEr MaCHInaTIOnS Of my MinD are an enIGMa. - PATRiCk\n",
            "\n",
            "BaskETBALl Is FuN!\n",
            "IST341_Participant_10 cAESAr mAkes Good muSiC!\n",
            "hELLOOOooOOo\n",
            "\n"
          ]
        }
      ]
    },
    {
      "cell_type": "markdown",
      "source": [
        "### <font color=\"darkblue\"><b>Task #2</b></font>: ``encode_each(s)`` and ``decode_each(s)``\n",
        "\n",
        "also ``encode_once(s)`` and ``decode_once(s)``\n",
        "\n",
        "<br>\n",
        "\n",
        "_Any_ substitution is possible with our key idea:\n",
        "+ replace the **first** element: the ``once``\n",
        "+ continue the process with the **rest**: another ``all``\n",
        "+ be sure to **stop** (``return ''``) when no input remains!\n",
        "\n",
        "For <b>task #2</b>, we invite you to create your own ``encode`` and ``decode`` functions:\n",
        "\n",
        "<br>\n",
        "\n",
        "Your encode (``encode_once`` and ``encode_all``) should\n",
        "+ replace at least ten letters with other characters\n",
        "  + your choice - other letters, punctuation, emojis ``\"☕⚽ 🦔\"`` or some other one-to-one substitution\n",
        "  + totally ok to substitute more than ten: less readable\n",
        "  + it can't be random, because it needs to be reversible!\n",
        "  + use the loop approach or the recursion approach -- up to you! (Both work...)\n",
        "\n",
        "<br>\n",
        "\n",
        "Your decode (``decode_once`` and ``decode_each``) should\n",
        "+ reverse the effects of your encode functions\n",
        "\n",
        "<br>\n",
        "\n",
        "Then, run our tests -- and add three tests of your own\n",
        "+ let's say at least a sentence, or so, in size..."
      ],
      "metadata": {
        "id": "PTNNYYC3TBrA"
      }
    },
    {
      "cell_type": "code",
      "source": [
        "#\n",
        "# Use this cell -- and/or create more cells -- for your encode and decode functions\n",
        "# There will be four functions in total!\n",
        "#\n",
        "def encode_once(s):\n",
        "  \"\"\"encodes a single character by subbing it w/ another character \"\"\"\n",
        "  encode_subs = {'a':'!', 'b':'@', 'c':'#', 'd':'$', 'e':'%', 'f':'^', 'g':'&', 'h':'*', 'i':'(', 'j':')'}\n",
        "  if s in encode_subs:\n",
        "    return encode_subs[s]\n",
        "  else:\n",
        "    return s\n",
        "\n",
        "def decode_once(s):\n",
        "  \"\"\"decodes a single character by subbing it w/ another character \"\"\"\n",
        "  decode_subs = {'!':'a', '@':'b', '#':'c', '$':'d', '%':'e', '^':'f', '&':'g', '*':'h', '(':'i', ')':'j'}\n",
        "  if s in decode_subs:\n",
        "    return decode_subs[s]\n",
        "  return s\n",
        "\n",
        "def encode_each(s):\n",
        "  \"\"\"encodes a string by encoding each character \"\"\"\n",
        "  result = ''\n",
        "  for c in s:\n",
        "    result += encode_once(c)\n",
        "  return result\n",
        "\n",
        "def decode_each(s):\n",
        "  \"\"\"decodes a string by decoding each character\"\"\"\n",
        "  result = ''\n",
        "  for c in s:\n",
        "    result += decode_once(c)\n",
        "  return result\n",
        "\n",
        "# Our tests are below. Then, add three tests of your own:"
      ],
      "metadata": {
        "id": "Ofu844mMVsjg"
      },
      "execution_count": null,
      "outputs": []
    },
    {
      "cell_type": "code",
      "source": [
        "CGU = \"\"\"Claremont Graduate University prepares individuals to be leaders\n",
        "for positive change in the world. Unique in its transdisciplinary approach,\n",
        "the university is dedicated to the creation, dissemination, and application\n",
        "of new knowledge and diverse perspectives through research, practice,\n",
        "creative works, and community engagement.\n",
        "\"\"\"\n",
        "\n",
        "E = encode_each(CGU)\n",
        "print(\"encode_all(CGU) is\", E)\n",
        "\n",
        "D = decode_each(E)\n",
        "print(\"decode_all(E) is\", D)  # should be the original!\n",
        "\n",
        "\n",
        "CMC = \"\"\"Claremont McKenna College's mission is to educate its students\n",
        "for thoughtful and productive lives and responsible leadership in\n",
        "business, government, and the professions, and to support faculty\n",
        "and student scholarship that contribute to intellectual vitality\n",
        "and the understanding of public policy issues.\"\"\"\n",
        "\n",
        "E = encode_each(CMC)\n",
        "print(\"encode_all(CMC) is\", E)\n",
        "\n",
        "D = decode_each(E)\n",
        "print(\"decode_all(E) is\", D)  # should be the original!\n",
        "\n",
        "\n",
        "SCR = \"\"\"The mission of Scripps College is to educate women to\n",
        "develop their intellects and talents through active participation\n",
        "in a community of scholars, so that as graduates they may contribute\n",
        "to society through public and private lives of leadership, service,\n",
        "integrity, and creativity..\"\"\"\n",
        "\n",
        "E = encode_each(SCR)\n",
        "print(\"encode_all(SCR) is\", E)\n",
        "\n",
        "D = decode_each(E)\n",
        "print(\"decode_all(E) is\", D)  # should be the original!\n",
        "\n"
      ],
      "metadata": {
        "id": "LzyRnUL6V1uw",
        "colab": {
          "base_uri": "https://localhost:8080/"
        },
        "outputId": "bac73957-19d6-4aef-ac6f-e8a247bd0167"
      },
      "execution_count": null,
      "outputs": [
        {
          "output_type": "stream",
          "name": "stdout",
          "text": [
            "encode_all(CGU) is Cl!r%mont Gr!$u!t% Un(v%rs(ty pr%p!r%s (n$(v($u!ls to @% l%!$%rs\n",
            "^or pos(t(v% #*!n&% (n t*% worl$. Un(qu% (n (ts tr!ns$(s#(pl(n!ry !ppro!#*,\n",
            "t*% un(v%rs(ty (s $%$(#!t%$ to t*% #r%!t(on, $(ss%m(n!t(on, !n$ !ppl(#!t(on\n",
            "o^ n%w knowl%$&% !n$ $(v%rs% p%rsp%#t(v%s t*rou&* r%s%!r#*, pr!#t(#%,\n",
            "#r%!t(v% works, !n$ #ommun(ty %n&!&%m%nt.\n",
            "\n",
            "decode_all(E) is Claremont Graduate University prepares individuals to be leaders\n",
            "for positive change in the world. Unique in its transdisciplinary approach,\n",
            "the university is dedicated to the creation, dissemination, and application\n",
            "of new knowledge and diverse perspectives through research, practice,\n",
            "creative works, and community engagement.\n",
            "\n",
            "encode_all(CMC) is Cl!r%mont M#K%nn! Coll%&%'s m(ss(on (s to %$u#!t% (ts stu$%nts\n",
            "^or t*ou&*t^ul !n$ pro$u#t(v% l(v%s !n$ r%spons(@l% l%!$%rs*(p (n\n",
            "@us(n%ss, &ov%rnm%nt, !n$ t*% pro^%ss(ons, !n$ to support ^!#ulty\n",
            "!n$ stu$%nt s#*ol!rs*(p t*!t #ontr(@ut% to (nt%ll%#tu!l v(t!l(ty\n",
            "!n$ t*% un$%rst!n$(n& o^ pu@l(# pol(#y (ssu%s.\n",
            "decode_all(E) is Claremont McKenna College's mission is to educate its students\n",
            "for thoughtful and productive lives and responsible leadership in\n",
            "business, government, and the professions, and to support faculty\n",
            "and student scholarship that contribute to intellectual vitality\n",
            "and the understanding of public policy issues.\n",
            "encode_all(SCR) is T*% m(ss(on o^ S#r(pps Coll%&% (s to %$u#!t% wom%n to\n",
            "$%v%lop t*%(r (nt%ll%#ts !n$ t!l%nts t*rou&* !#t(v% p!rt(#(p!t(on\n",
            "(n ! #ommun(ty o^ s#*ol!rs, so t*!t !s &r!$u!t%s t*%y m!y #ontr(@ut%\n",
            "to so#(%ty t*rou&* pu@l(# !n$ pr(v!t% l(v%s o^ l%!$%rs*(p, s%rv(#%,\n",
            "(nt%&r(ty, !n$ #r%!t(v(ty..\n",
            "decode_all(E) is The mission of Scripps College is to educate women to\n",
            "develop their intellects and talents through active participation\n",
            "in a community of scholars, so that as graduates they may contribute\n",
            "to society through public and private lives of leadership, service,\n",
            "integrity, and creativity..\n"
          ]
        }
      ]
    },
    {
      "cell_type": "code",
      "source": [
        "#\n",
        "# Above - or here - include three encode/decode tests of your own...\n",
        "E = encode_each('abcdefghij')\n",
        "print(\"encode_each('abcdefghij') is\", E)\n",
        "D = decode_each(E)\n",
        "print(\"decode_all(E) is\", D)\n",
        "\n",
        "E = encode_each('hi my name is IST341_Participant_7')\n",
        "print(\"encode_each('hi my name is IST341_Participant_7') is\", E)\n",
        "D = decode_each(E)\n",
        "print(\"decode_all(E) is\", D)\n",
        "\n",
        "E = encode_each('i like to play basketball')\n",
        "print(\"encode_each('i like to play basketball') is\", E)\n",
        "D = decode_each(E)\n",
        "print(\"decode_all(E) is\", D)\n",
        "\n",
        "#"
      ],
      "metadata": {
        "id": "sJ9Wcp1GeCgj",
        "colab": {
          "base_uri": "https://localhost:8080/"
        },
        "outputId": "5ce28873-26b3-443f-be2f-aaeda04f3eb1"
      },
      "execution_count": null,
      "outputs": [
        {
          "output_type": "stream",
          "name": "stdout",
          "text": [
            "encode_each('abcdefghij') is !@#$%^&*()\n",
            "decode_all(E) is abcdefghij\n",
            "encode_each('hi my name is IST341_Participant_7') is *( my n!m% (s #*!rl(z%\n",
            "decode_all(E) is hi my name is IST341_Participant_7\n",
            "encode_each('i like to play basketball') is ( l(k% to pl!y @!sk%t@!ll\n",
            "decode_all(E) is i like to play basketball\n"
          ]
        }
      ]
    },
    {
      "cell_type": "markdown",
      "source": [
        "### <font color=\"darkblue\"><b>Task #3: Counting!</b></font> &nbsp; ``vwl_once(s)`` and ``vwl_count(s)``\n",
        "\n",
        "<br>\n",
        "\n",
        "This technique handles _any_ substitution, even numeric ones!\n",
        "\n",
        "Next, our goal will be to ***count*** the number of vowels in an input string ``s``:\n",
        "+ we use ``vwl_once(s)`` to give a count of ``1`` to vowels\n",
        "+ and we give a count of ``0`` to everything that's not a vowel\n",
        "+ For now, we'll count ``aeiou`` as vowels, and their uppercase selves\n",
        "\n",
        "Then, **you** will write  ``vwl_count(s)`` to handle arbitrary-sized inputs!\n",
        "+ The first functions is written, as shown below.\n",
        "+ The second one is prepared, and your task is to complete it...\n",
        "+ It will be very much like previous functions!\n",
        "\n",
        "<br>\n",
        "\n",
        "Then, try it out -- analyze the \"vowel-content\" of the three mission statements above -- and test your own and a friend's prose-paragraphs:"
      ],
      "metadata": {
        "id": "yquk1xgWXz2z"
      }
    },
    {
      "cell_type": "code",
      "source": [
        "#\n",
        "# Here are vwl_once and vwl_all\n",
        "#\n",
        "\n",
        "def vwl_once(s):\n",
        "  \"\"\" returns a score of 1 for single-character vowels aeiou\n",
        "      returns a score of 0 for everything else\n",
        "  \"\"\"\n",
        "  if len(s) != 1:    # not a single-character? score is 0\n",
        "    return 0\n",
        "  else:\n",
        "    s = s.lower()    # simplify by making s lower case\n",
        "    if s in 'aeiou':      # if s is in that string, it's a vowel: score is 1\n",
        "      return 1\n",
        "    else:                 # if not: score is 0\n",
        "      return 0\n",
        "\n",
        "\n",
        "def vwl_count(s):\n",
        "  \"\"\" returns the total \"vowel-score for an input string s\n",
        "      that is, we return the number of vowels in s\n",
        "  \"\"\"\n",
        "  # you need to write this one!\n",
        "  # use the previous examples (especially the \"each\" examples) as a guide! :-)\n",
        "  count = 0\n",
        "  for c in s:\n",
        "    count += vwl_once(c)\n",
        "  return count\n",
        "\n",
        "\n",
        "# Tests and tests-to-write are in the next cells:"
      ],
      "metadata": {
        "id": "ffMaiI26eIZQ"
      },
      "execution_count": null,
      "outputs": []
    },
    {
      "cell_type": "code",
      "source": [
        "CGU = \"\"\"Claremont Graduate University prepares individuals to be leaders\n",
        "for positive change in the world. Unique in its transdisciplinary approach,\n",
        "the university is dedicated to the creation, dissemination, and application\n",
        "of new knowledge and diverse perspectives through research, practice,\n",
        "creative works, and community engagement.\n",
        "\"\"\"\n",
        "\n",
        "CMC = \"\"\"Claremont McKenna College's mission is to educate its students\n",
        "for thoughtful and productive lives and responsible leadership in\n",
        "business, government, and the professions, and to support faculty\n",
        "and student scholarship that contribute to intellectual vitality\n",
        "and the understanding of public policy issues.\"\"\"\n",
        "\n",
        "SCR = \"\"\"The mission of Scripps College is to educate women to\n",
        "develop their intellects and talents through active participation\n",
        "in a community of scholars, so that as graduates they may contribute\n",
        "to society through public and private lives of leadership, service,\n",
        "integrity, and creativity..\"\"\"\n"
      ],
      "metadata": {
        "id": "VU1OjFC94arW"
      },
      "execution_count": null,
      "outputs": []
    },
    {
      "cell_type": "code",
      "source": [
        "print(\"vwl_count('English usually has lots of vowels.') should be 10 <->\", vwl_count('English usually has lots of vowels.'))\n",
        "print(\"The CGU mission statement has this many vowels: (let's see!) <->\", vwl_count(CGU))"
      ],
      "metadata": {
        "id": "YCtNmfnZetpe",
        "colab": {
          "base_uri": "https://localhost:8080/"
        },
        "outputId": "f46ca8e2-f82b-4a9b-90ab-2c42a3ac5c97"
      },
      "execution_count": null,
      "outputs": [
        {
          "output_type": "stream",
          "name": "stdout",
          "text": [
            "vwl_count('English usually has lots of vowels.') should be 10 <-> 10\n",
            "The CGU mission statement has this many vowels: (let's see!) <-> 110\n"
          ]
        }
      ]
    },
    {
      "cell_type": "code",
      "source": [
        "#\n",
        "# Part 1 task: determine which mission statement has the most vowels-per-character!\n",
        "#\n",
        "#        Hint: count the vowels, then use len to determine vowels-per-character!\n",
        "#        Compare the three strings already defined above:   CGU,  CMC,  and SCR\n",
        "CGU_ratio = vwl_count(CGU) / len(CGU)\n",
        "CMC_ratio = vwl_count(CMC) / len(CMC)\n",
        "SCR_ratio = vwl_count(SCR) / len(SCR)\n",
        "\n",
        "print(\"The CGU mission statement has this many vowels-per-character: <->\", CGU_ratio)\n",
        "print(\"The CMC mission statement has this many vowels-per-character: <->\", CMC_ratio)\n",
        "print(\"The SCR mission statement has this many vowels-per-character: <->\", SCR_ratio)\n",
        "\n",
        "print(max(CGU_ratio, CMC_ratio, SCR_ratio))\n",
        "\n"
      ],
      "metadata": {
        "id": "Vy2Q-bAdcIzB",
        "colab": {
          "base_uri": "https://localhost:8080/"
        },
        "outputId": "40a80c5f-35d8-4ad3-cfc2-5797d43d67e7"
      },
      "execution_count": null,
      "outputs": [
        {
          "output_type": "stream",
          "name": "stdout",
          "text": [
            "The CGU mission statement has this many vowels-per-character: <-> 0.3343465045592705\n",
            "The CMC mission statement has this many vowels-per-character: <-> 0.30392156862745096\n",
            "The SCR mission statement has this many vowels-per-character: <-> 0.3204225352112676\n",
            "0.3343465045592705\n"
          ]
        }
      ]
    },
    {
      "cell_type": "code",
      "source": [
        "#\n",
        "# Part 2 task: determine whose prose is more vowel-rich?\n",
        "# + find a paragraph of prose you've written\n",
        "# + find a paragraph a friend has written (or another one that you have!)\n",
        "#\n",
        "# Assign each to a variable:\n",
        "\n",
        "YOURS = \"\"\"The Databases Final Project compiled all of the skills and tools we learned throughout the semester, which I enjoyed. This project has shown me how to apply our SQL and database knowledge to a real-world business application. The guidelines for the project were straightforward, but didn’t tell us what exactly to do step-by-step. Usually, class projects tell us exactly what we need to do, but for this project we really had to hone in on the tools we learned in class to guide us through the project. I learned how to create a database in a team setting. I also learned how important it is to have a solid foundation before actually creating our database using SQL. For example, it was extremely helpful writing out why we need the database (business understanding), important information needed in the database (data understanding), and a layout of what we want our database to look like (conceptual design). Having this written out makes the security requirements, logical design, physical design, and database implementation process more efficient as we went through our project. Overall, I really enjoyed the challenge of this project, and I feel that it definitely helps set me up for the business world.\n",
        "\"\"\"\n",
        "\n",
        "THEIRS = \"\"\"The Marvel Universe is one of the most interconnected fictional worlds ever created, encompassing over 6,000 characters across comics, films, television, and other media. Its complex narrative structure, characterized by a web of alliances, rivalries, and collaborations, provides a unique opportunity to study network dynamics within a fictional framework. While it may initially appear as mere entertainment, the Marvel Universe functions as a dynamic social network where characters are the nodes, and their interactions form the edges. This intricate structure is not just a storytelling mechanism but also a reflection of real-world social systems. Analyzing this network enables researchers to uncover patterns of influence, hierarchy, and community, much like those observed in human societies.This study focuses on two pivotal research questions\"\"\"\n",
        "\n",
        "\n",
        "#\n",
        "# This analysis is similar to the mission statements...\n",
        "#\n",
        "YOURS_ratio = vwl_count(YOURS) / len(YOURS)\n",
        "THEIRS_ratio = vwl_count(THEIRS) / len(THEIRS)\n",
        "\n",
        "\n",
        "print(\"my paragraph has this many vowels-per-character: <->\", YOURS_ratio)\n",
        "print(\"their paragraph has this many vowels-per-character: <->\", THEIRS_ratio)\n",
        "print(max(YOURS_ratio, THEIRS_ratio))"
      ],
      "metadata": {
        "id": "qNmOUfXrckDv",
        "colab": {
          "base_uri": "https://localhost:8080/"
        },
        "outputId": "4494fdfd-1f25-4a00-9f59-b286ad68a163"
      },
      "execution_count": null,
      "outputs": [
        {
          "output_type": "stream",
          "name": "stdout",
          "text": [
            "my paragraph has this many vowels-per-character: <-> 0.3091508656224237\n",
            "their paragraph has this many vowels-per-character: <-> 0.31887456037514655\n",
            "0.31887456037514655\n"
          ]
        }
      ]
    },
    {
      "cell_type": "markdown",
      "metadata": {
        "id": "keRyNeHE3gF4"
      },
      "source": [
        "<br>\n",
        "\n",
        "# Loops!\n",
        "\n",
        "in addition, this notebook combines last week's ideas (functions and slicing/indexing) with the most important time-saving capability of programming languages: <i>repetition</i>\n",
        "\n",
        "That is, we're diving into <i><b>loops</b></i>\n",
        "\n",
        "In addition, we explore more deeply a library we used in the rock-paper-scissors problem, namely the <b><tt>random</tt></b> library.\n",
        "\n",
        "Together, <i>randomness</i> and <i>loops</i> are a powerful combination. Later in this notebook, you will create a <i>Monte Carlo simulations</i> using randomness-within-loops.\n",
        "\n",
        "<hr>\n",
        "\n",
        "## Onward!\n",
        "\n",
        "<br>"
      ]
    },
    {
      "cell_type": "code",
      "execution_count": null,
      "metadata": {
        "id": "djYWrO0u3gGA"
      },
      "outputs": [],
      "source": [
        "\n",
        "# this imports the library named random\n",
        "\n",
        "import random\n",
        "\n",
        "# once it's imported, you are able to call random.choice(L) for any sequence L\n",
        "# try it:"
      ]
    },
    {
      "cell_type": "code",
      "execution_count": null,
      "metadata": {
        "id": "RPrqK2Sr3gGC",
        "colab": {
          "base_uri": "https://localhost:8080/"
        },
        "outputId": "1de34536-deaa-49cc-ae4d-406ea101b62b"
      },
      "outputs": [
        {
          "output_type": "stream",
          "name": "stdout",
          "text": [
            "result is claremont\n"
          ]
        }
      ],
      "source": [
        "\n",
        "# Try out random.choice -- several times!\n",
        "result = random.choice( ['claremont', 'graduate', 'university'] )\n",
        "print(\"result is\", result)"
      ]
    },
    {
      "cell_type": "code",
      "execution_count": null,
      "metadata": {
        "id": "AReUp5wT3gGD",
        "colab": {
          "base_uri": "https://localhost:8080/"
        },
        "outputId": "dbaf8b29-2f84-44dd-a304-f85991b44a10"
      },
      "outputs": [
        {
          "output_type": "stream",
          "name": "stdout",
          "text": [
            "result is graduate\n",
            "result is university\n",
            "result is university\n",
            "result is graduate\n",
            "result is claremont\n",
            "result is claremont\n",
            "result is university\n",
            "result is university\n",
            "result is university\n",
            "result is university\n"
          ]
        }
      ],
      "source": [
        "\n",
        "# let's see a loop do this 10 times!\n",
        "\n",
        "for i in range(10):                # loop 10 times\n",
        "    result = random.choice( ['claremont', 'graduate', 'university'] ) # choose\n",
        "    print(\"result is\", result)     # print"
      ]
    },
    {
      "cell_type": "code",
      "execution_count": null,
      "metadata": {
        "id": "8aAzqlsj3gGF"
      },
      "outputs": [],
      "source": [
        "\n",
        "#\n",
        "# you can also import a library can be imported by using this line:\n",
        "\n",
        "from random import *\n",
        "\n",
        "# when the above line is run, you are able to call choice(L) for any sequence L\n",
        "#\n",
        "# note that you won't need random.choice(L)\n",
        "# let's try it!"
      ]
    },
    {
      "cell_type": "code",
      "execution_count": null,
      "metadata": {
        "id": "SKvXsosu3gGG",
        "colab": {
          "base_uri": "https://localhost:8080/"
        },
        "outputId": "c6f47684-a2e0-489b-d2b0-59aab59ceb56"
      },
      "outputs": [
        {
          "output_type": "stream",
          "name": "stdout",
          "text": [
            "result is paper\n"
          ]
        }
      ],
      "source": [
        "\n",
        "result = choice( [\"rock\", \"paper\", \"scissors\"] )\n",
        "print(\"result is\", result)"
      ]
    },
    {
      "cell_type": "code",
      "execution_count": null,
      "metadata": {
        "id": "KMZMwPDR3gGH",
        "colab": {
          "base_uri": "https://localhost:8080/"
        },
        "outputId": "f363b5a4-45cd-47b9-ad68-13602b15be8a"
      },
      "outputs": [
        {
          "output_type": "stream",
          "name": "stdout",
          "text": [
            "[0, 1, 2, 3, 4, 5, 6, 7, 8, 9, 10, 11, 12, 13, 14, 15, 16, 17, 18, 19, 20, 21, 22, 23, 24, 25, 26, 27, 28, 29, 30, 31, 32, 33, 34, 35, 36, 37, 38, 39, 40, 41, 42, 43, 44, 45, 46, 47, 48, 49, 50, 51, 52, 53, 54, 55, 56, 57, 58, 59, 60, 61, 62, 63, 64, 65, 66, 67, 68, 69, 70, 71, 72, 73, 74, 75, 76, 77, 78, 79, 80, 81, 82, 83, 84, 85, 86, 87, 88, 89, 90, 91, 92, 93, 94, 95, 96, 97, 98, 99]\n"
          ]
        }
      ],
      "source": [
        "\n",
        "# Python can create lists of any integers you'd like...\n",
        "L = list(range(0,100))    # try different values; try omitting/changing the 0\n",
        "print(L)"
      ]
    },
    {
      "cell_type": "code",
      "execution_count": null,
      "metadata": {
        "id": "hjbvKcOx3gGI",
        "colab": {
          "base_uri": "https://localhost:8080/"
        },
        "outputId": "08c1fa56-a57d-49d0-a7ab-e2879cbdee2d"
      },
      "outputs": [
        {
          "output_type": "stream",
          "name": "stdout",
          "text": [
            "result is 51\n"
          ]
        }
      ],
      "source": [
        "\n",
        "# combining these, we can choose random integers from a list\n",
        "result = choice( range(0,100) )   # from 0 to 99\n",
        "print(\"result is\", result)"
      ]
    },
    {
      "cell_type": "code",
      "execution_count": null,
      "metadata": {
        "id": "-vct4ZWf3gGJ",
        "colab": {
          "base_uri": "https://localhost:8080/"
        },
        "outputId": "958d8793-8c5c-4b04-e221-9757df41246a"
      },
      "outputs": [
        {
          "output_type": "stream",
          "name": "stdout",
          "text": [
            "result is 71\n",
            "result is 86\n",
            "result is 7\n",
            "result is 34\n",
            "result is 62\n",
            "result is 43\n",
            "result is 69\n",
            "result is 68\n",
            "result is 97\n",
            "result is 20\n"
          ]
        }
      ],
      "source": [
        "\n",
        "# let's run this 10 times!\n",
        "for i in range(0,10):\n",
        "    result = choice( range(0,100) )   # from 0 to 99\n",
        "    print(\"result is\", result)"
      ]
    },
    {
      "cell_type": "code",
      "execution_count": null,
      "metadata": {
        "id": "jqs9df3l3gGJ",
        "colab": {
          "base_uri": "https://localhost:8080/"
        },
        "outputId": "74ec1a27-6e93-47c8-dd5a-0b39775656e2"
      },
      "outputs": [
        {
          "output_type": "stream",
          "name": "stdout",
          "text": [
            "i is 0\n",
            "i is 1\n",
            "i is 2\n"
          ]
        }
      ],
      "source": [
        "\n",
        "# let's get more comfortable with loops...\n",
        "\n",
        "for i in [0,1,2]:     # Key: What variable is being defined and set?!\n",
        "    print(\"i is\", i)\n"
      ]
    },
    {
      "cell_type": "code",
      "execution_count": null,
      "metadata": {
        "id": "eb2C9OKS3gGJ",
        "colab": {
          "base_uri": "https://localhost:8080/"
        },
        "outputId": "0116a3ed-30dd-40f9-a487-31684fbec2e2"
      },
      "outputs": [
        {
          "output_type": "stream",
          "name": "stdout",
          "text": [
            "i is 0\n",
            "i is 1\n",
            "i is 2\n"
          ]
        }
      ],
      "source": [
        "\n",
        "# Note that range(0,3) generates [0,1,2]\n",
        "\n",
        "for i in range(0,3):     # Key: What variable is being defined and set?!\n",
        "    print(\"i is\", i)\n",
        "\n",
        "# When would you _not_ want to use range for integers?"
      ]
    },
    {
      "cell_type": "code",
      "execution_count": null,
      "metadata": {
        "id": "H8qzyqaS3gGU",
        "colab": {
          "base_uri": "https://localhost:8080/"
        },
        "outputId": "eda38647-edaa-493d-923a-649627b4f592"
      },
      "outputs": [
        {
          "output_type": "stream",
          "name": "stdout",
          "text": [
            "x is 2\n",
            "x is 15\n",
            "x is 2025\n"
          ]
        }
      ],
      "source": [
        "\n",
        "# Usually i is for counting, x is for other things (wise, not req.)\n",
        "\n",
        "for x in [2,15,2025]:     # Key: the loop variable\n",
        "    print(\"x is\", x)\n",
        "\n",
        "# When would you _not_ want to use range for integers?"
      ]
    },
    {
      "cell_type": "code",
      "execution_count": null,
      "metadata": {
        "id": "SCG79oyN3gGU",
        "colab": {
          "base_uri": "https://localhost:8080/"
        },
        "outputId": "95a3dda1-5cb6-493c-ffc2-70b908591f74"
      },
      "outputs": [
        {
          "output_type": "stream",
          "name": "stdout",
          "text": [
            "Happy birthday!\n",
            "Happy birthday!\n",
            "Happy birthday!\n",
            "Happy birthday!\n",
            "Happy birthday!\n",
            "Happy birthday!\n",
            "Happy birthday!\n",
            "Happy birthday!\n",
            "Happy birthday!\n",
            "Happy birthday!\n",
            "Happy birthday!\n",
            "Happy birthday!\n",
            "Happy birthday!\n",
            "Happy birthday!\n",
            "Happy birthday!\n",
            "Happy birthday!\n",
            "Happy birthday!\n",
            "Happy birthday!\n",
            "Happy birthday!\n",
            "Happy birthday!\n",
            "Happy birthday!\n",
            "Happy birthday!\n",
            "Happy birthday!\n",
            "Happy birthday!\n",
            "Happy birthday!\n",
            "Happy birthday!\n",
            "Happy birthday!\n",
            "Happy birthday!\n",
            "Happy birthday!\n",
            "Happy birthday!\n",
            "Happy birthday!\n",
            "Happy birthday!\n",
            "Happy birthday!\n",
            "Happy birthday!\n",
            "Happy birthday!\n",
            "Happy birthday!\n",
            "Happy birthday!\n",
            "Happy birthday!\n",
            "Happy birthday!\n",
            "Happy birthday!\n",
            "Happy birthday!\n",
            "Happy birthday!\n"
          ]
        }
      ],
      "source": [
        "\n",
        "# How could we get this to print \"Happy birthday!\" 42 times?\n",
        "\n",
        "for i in range(0,42):\n",
        "    print('Happy birthday!')"
      ]
    },
    {
      "cell_type": "markdown",
      "metadata": {
        "id": "7KFo8pX73gGV"
      },
      "source": [
        "<br>\n",
        "\n",
        "#### Functions often use loops... Watch out!\n",
        "+ <tt><b>return</b></tt> is <i>more powerful</i> than the loop\n",
        "+ <tt><b>return</b></tt> <i>always</i> wins!\n",
        "\n",
        "Take a look:"
      ]
    },
    {
      "cell_type": "code",
      "execution_count": null,
      "metadata": {
        "id": "hzE-We7i3gGV",
        "colab": {
          "base_uri": "https://localhost:8080/"
        },
        "outputId": "c02abe25-745b-4f30-d183-57c1cd7751e6"
      },
      "outputs": [
        {
          "output_type": "stream",
          "name": "stdout",
          "text": [
            "i is 0\n",
            "i is 1\n",
            "i is 2\n"
          ]
        }
      ],
      "source": [
        "\n",
        "# return _after_ a loop:\n",
        "\n",
        "def funA():\n",
        "    for i in range(0,3):\n",
        "        print(\"i is\", i)\n",
        "    return\n",
        "\n",
        "# why does this not print anything?!??\n",
        "funA()"
      ]
    },
    {
      "cell_type": "code",
      "execution_count": null,
      "metadata": {
        "id": "n4nsuJUZ3gGW",
        "colab": {
          "base_uri": "https://localhost:8080/"
        },
        "outputId": "8a2cce2e-8789-4612-85a9-f8920cc40974"
      },
      "outputs": [
        {
          "output_type": "stream",
          "name": "stdout",
          "text": [
            "i is 0\n"
          ]
        }
      ],
      "source": [
        "\n",
        "# return _within_ a loop:\n",
        "\n",
        "def funB():\n",
        "    for i in range(0,3):\n",
        "       print(\"i is\", i)\n",
        "       return\n",
        "\n",
        "# What do we need here?  (Is this what you expect?!)\n",
        "funB()"
      ]
    },
    {
      "cell_type": "code",
      "execution_count": null,
      "metadata": {
        "id": "KTm78DFX3gGW",
        "colab": {
          "base_uri": "https://localhost:8080/"
        },
        "outputId": "48dfc205-542d-40c5-ccf2-844af7ff89cf"
      },
      "outputs": [
        {
          "output_type": "stream",
          "name": "stdout",
          "text": [
            "i is 2\n"
          ]
        }
      ],
      "source": [
        "\n",
        "# let's add an if statement (a conditional)\n",
        "#              ... to test different indentations\n",
        "\n",
        "def funB1():\n",
        "    for i in range(1,6):\n",
        "        if i%2 == 0:\n",
        "            print(\"i is\", i)\n",
        "            return\n",
        "funB1()"
      ]
    },
    {
      "cell_type": "markdown",
      "metadata": {
        "id": "U1e4MYjc3gGW"
      },
      "source": [
        "<br>\n",
        "\n",
        "#### Accumulators\n",
        "+ a <i>very</i> common approach is to use a loop to <i>accumulate</i> a desired result\n",
        "+ the idea is to start the result at a \"nothing\" value, which is not always zero...\n",
        "+ then operate on it until it becomes the final result!\n",
        "\n",
        "#### factorial\n",
        "+ <pre>fac(5) == 1*2*3*4*5</pre>\n",
        "+ <pre>fac(N) == 1*2*3*4* ... *(N-2)*(N-1)*N</pre>\n",
        "\n",
        "#### addup\n",
        "+ <pre>addup(5) == 1+2+3+4+5</pre>\n",
        "+ <pre>addup(N) == 1+2+3+4+ ... +(N-2)+(N-1)+N</pre>\n",
        "\n",
        "<br>"
      ]
    },
    {
      "cell_type": "code",
      "execution_count": null,
      "metadata": {
        "id": "NZhaHVNV3gGY",
        "colab": {
          "base_uri": "https://localhost:8080/"
        },
        "outputId": "6b579e07-fcc8-4aa8-8f46-9762a1c9e8bd"
      },
      "outputs": [
        {
          "output_type": "execute_result",
          "data": {
            "text/plain": [
              "10"
            ]
          },
          "metadata": {},
          "execution_count": 48
        }
      ],
      "source": [
        "\n",
        "# an add-em-up function\n",
        "\n",
        "def addup(N):\n",
        "    \"\"\" adds from 1 through N (inclusive)\n",
        "    \"\"\"\n",
        "    result = 0\n",
        "\n",
        "    for x in range(1,N+1):\n",
        "        result = result + x\n",
        "\n",
        "    return result\n",
        "\n",
        "# addup(4) should be 0+1+2+3+4 == 10\n",
        "addup(4)"
      ]
    },
    {
      "cell_type": "code",
      "execution_count": null,
      "metadata": {
        "id": "JscgqV1Q3gGY",
        "colab": {
          "base_uri": "https://localhost:8080/"
        },
        "outputId": "93cb3dd0-d285-4b3f-dd4e-3fa15654f36b"
      },
      "outputs": [
        {
          "output_type": "execute_result",
          "data": {
            "text/plain": [
              "24"
            ]
          },
          "metadata": {},
          "execution_count": 49
        }
      ],
      "source": [
        "\n",
        "# an factorial function\n",
        "\n",
        "def fac(N):\n",
        "    \"\"\" a factorial function, returns the factorial of the input N\n",
        "    \"\"\"\n",
        "    result = 1\n",
        "\n",
        "    for x in range(1,N+1):\n",
        "        result = result*x\n",
        "\n",
        "    return result\n",
        "\n",
        "# fac(4) should be 1*2*3*4 == 24\n",
        "fac(4)"
      ]
    },
    {
      "cell_type": "code",
      "execution_count": null,
      "metadata": {
        "id": "RchpwL0V3gGZ"
      },
      "outputs": [],
      "source": [
        "\"\"\"\n",
        "\n",
        "Loops we tried in our \"breakout quiz\":\n",
        "\n",
        "# upper left\n",
        "result = 1\n",
        "for x in [2,5,1,4]:\n",
        "    result *= x\n",
        "print(result)\n",
        "\n",
        "# upper right\n",
        "x = 0\n",
        "for i in range(4):\n",
        "    x += 10\n",
        "print(x)\n",
        "\n",
        "# lower left\n",
        "L = ['golf','fore!','club','tee']\n",
        "for i in range(len(L)):\n",
        "    if i%2 == 1:\n",
        "        print(L[i])\n",
        "\n",
        "# lower right\n",
        "S = 'time to think this over! '\n",
        "result = ''\n",
        "for i in range(len(S)):\n",
        "    if S[i-1] == ' '\n",
        "        result += S[i]\n",
        "print(result)\n",
        "\n",
        "\"\"\""
      ]
    },
    {
      "cell_type": "code",
      "execution_count": null,
      "metadata": {
        "id": "FNuv6DoJ3gGa",
        "colab": {
          "base_uri": "https://localhost:8080/"
        },
        "outputId": "0023e316-28e5-45b7-acb0-582d09acb16a"
      },
      "outputs": [
        {
          "output_type": "stream",
          "name": "stdout",
          "text": [
            "Start!\n"
          ]
        }
      ],
      "source": [
        "\n",
        "# staging area...\n",
        "\n",
        "print(\"Start!\")\n"
      ]
    },
    {
      "cell_type": "markdown",
      "source": [
        "### <font color=\"darkblue\"><b>Task #4: For Looping!</b></font>\n",
        "\n",
        "Below, create your functions that use loops:\n",
        "+ ``summer(L)``\n",
        "+ ``summedOdds(L)``\n",
        "+ ``summedExcept(exc,L)``\n",
        "+ ``summedUpto(exc,L)``\n",
        "\n",
        "Each one has full detail in its description:"
      ],
      "metadata": {
        "id": "PbR-kxDD6MGA"
      }
    },
    {
      "cell_type": "code",
      "execution_count": null,
      "metadata": {
        "id": "E5d6udae3gGa"
      },
      "outputs": [],
      "source": [
        "\n",
        "#\n",
        "# Functions with for loops to write:\n",
        "#\n",
        "# for loops:\n",
        "#\n",
        "# summer(L)               returns the sum of the #'s in L\n",
        "# summedOdds(L)           returns the sum of the _odd_ #'s in L\n",
        "# summedExcept(exc, L)    returns the sum of all #'s in L not equal to exc\n",
        "#                                 exc is the \"exception\"\n",
        "# summedUpto(exc, L)      returns the sum of all #'s in L upto exc (not including exc)\n",
        "\n",
        "\n",
        "# examples:\n",
        "#       summer( [2,3,4,1] )    ->  10\n",
        "#   summedOdds( [2,3,4,1] )    ->   4\n",
        "# summedExcept( 4, [2,3,4,1] ) ->   6\n",
        "#   summedUpto( 4, [2,3,4,1] ) ->   5"
      ]
    },
    {
      "cell_type": "code",
      "execution_count": null,
      "metadata": {
        "id": "IxqR0uRC3gGa",
        "colab": {
          "base_uri": "https://localhost:8080/"
        },
        "outputId": "4e5fef9f-c5e1-4204-e829-dc26ca40f531"
      },
      "outputs": [
        {
          "output_type": "stream",
          "name": "stdout",
          "text": [
            "summer( [2,3,4,1] )  should be 10 <-> 10\n",
            "summer( [35,3,4,100] )  should be 142 <-> 142\n"
          ]
        }
      ],
      "source": [
        "#\n",
        "# here, write the summer function!\n",
        "#\n",
        "\n",
        "def summer(L):\n",
        "    \"\"\" uses a for loop to add and return all of the elements in L\n",
        "    \"\"\"\n",
        "    sum_count = 0\n",
        "    for i in L:\n",
        "        sum_count += i\n",
        "    return sum_count\n",
        "\n",
        "\n",
        "\n",
        "# Here are two tests -- be sure to try them!\n",
        "print(\"summer( [2,3,4,1] )  should be 10 <->\", summer( [2,3,4,1] ))\n",
        "print(\"summer( [35,3,4,100] )  should be 142 <->\", summer( [35,3,4,100] ))"
      ]
    },
    {
      "cell_type": "code",
      "execution_count": null,
      "metadata": {
        "id": "QN6ZBN9w3gGa",
        "colab": {
          "base_uri": "https://localhost:8080/"
        },
        "outputId": "0cf0c7e0-6b40-49ec-ce61-8daa16a07f1e"
      },
      "outputs": [
        {
          "output_type": "stream",
          "name": "stdout",
          "text": [
            "summedOdds( [2,3,4,1] )  should be 4 <-> 4\n",
            "summedOdds( [35,3,4,100] )  should be 38 <-> 38\n"
          ]
        }
      ],
      "source": [
        "#\n",
        "# here, write the summedOdds function!\n",
        "#\n",
        "\n",
        "def summedOdds(L):\n",
        "    \"\"\" uses a for loop to add and return all of the _odd_ elements in L\n",
        "    \"\"\"\n",
        "    sum_count = 0\n",
        "    for i in L:\n",
        "        if i % 2 == 1:\n",
        "            sum_count += i\n",
        "    return sum_count\n",
        "\n",
        "\n",
        "# Here are two tests -- be sure to try them!\n",
        "print(\"summedOdds( [2,3,4,1] )  should be 4 <->\", summedOdds( [2,3,4,1] ))\n",
        "print(\"summedOdds( [35,3,4,100] )  should be 38 <->\", summedOdds( [35,3,4,100] ))"
      ]
    },
    {
      "cell_type": "code",
      "execution_count": null,
      "metadata": {
        "id": "9XkwO1Yb3gGb",
        "colab": {
          "base_uri": "https://localhost:8080/"
        },
        "outputId": "2ae353fa-9ee7-482f-a91b-abfb03c75f25"
      },
      "outputs": [
        {
          "output_type": "stream",
          "name": "stdout",
          "text": [
            "summedExcept( 4, [2,3,4,1] )  should be 6 <-> 6\n",
            "summedExcept( 4, [35,3,4,100] )  should be 138 <-> 138\n"
          ]
        }
      ],
      "source": [
        "#\n",
        "# here, write the summedExcept function!\n",
        "#\n",
        "\n",
        "def summedExcept( exc, L ):\n",
        "    \"\"\" returns the sum of all elements excluding exc\n",
        "    \"\"\"\n",
        "    sum_count = 0\n",
        "    for i in L:\n",
        "        if i != exc:\n",
        "            sum_count += i\n",
        "    return sum_count\n",
        "\n",
        "\n",
        "\n",
        "# Here are two tests -- be sure to try them!\n",
        "print(\"summedExcept( 4, [2,3,4,1] )  should be 6 <->\", summedExcept( 4, [2,3,4,1] ))\n",
        "print(\"summedExcept( 4, [35,3,4,100] )  should be 138 <->\", summedExcept( 4, [35,3,4,100] ))"
      ]
    },
    {
      "cell_type": "code",
      "execution_count": null,
      "metadata": {
        "id": "FpoOHpGc3gGb",
        "colab": {
          "base_uri": "https://localhost:8080/"
        },
        "outputId": "84245106-544e-4272-e4a3-c463e944094b"
      },
      "outputs": [
        {
          "output_type": "stream",
          "name": "stdout",
          "text": [
            "summedUpto( 4, [2,3,4,1] )  should be 5 <-> 5\n",
            "summedUpto( 100, [35,3,4,100] )  should be 42 <-> 42\n"
          ]
        }
      ],
      "source": [
        "#\n",
        "# here, write the summedUpto function!\n",
        "#\n",
        "\n",
        "def summedUpto( exc, L ):\n",
        "    \"\"\" returns the sum of all elements up to the position of exc in L\n",
        "    \"\"\"\n",
        "    sum_count = 0\n",
        "    for num in L:\n",
        "        if num == exc:\n",
        "            break\n",
        "        sum_count += num\n",
        "    return sum_count\n",
        "\n",
        "\n",
        "# Here are two tests -- be sure to try them!\n",
        "print(\"summedUpto( 4, [2,3,4,1] )  should be 5 <->\", summedUpto( 4, [2,3,4,1] ))\n",
        "print(\"summedUpto( 100, [35,3,4,100] )  should be 42 <->\", summedUpto( 100, [35,3,4,100] ))"
      ]
    },
    {
      "cell_type": "code",
      "execution_count": null,
      "metadata": {
        "id": "im7h59uw3gGb",
        "colab": {
          "base_uri": "https://localhost:8080/"
        },
        "outputId": "8166837e-d3fb-4edf-bfae-27b1738b4ba5"
      },
      "outputs": [
        {
          "output_type": "execute_result",
          "data": {
            "text/plain": [
              "3"
            ]
          },
          "metadata": {},
          "execution_count": 114
        }
      ],
      "source": [
        "\n",
        "#\n",
        "# Example while loop: the \"guessing game\"\n",
        "#\n",
        "\n",
        "from random import *\n",
        "\n",
        "def guess( hidden ):\n",
        "    \"\"\"\n",
        "        have the computer guess numbers until it gets the \"hidden\" value\n",
        "        return the number of guesses\n",
        "    \"\"\"\n",
        "    guess = -1      # start with a wrong guess and don't count it as a guess\n",
        "    number_of_guesses = 0   # start with no guesses made so far...\n",
        "\n",
        "    while guess != hidden:\n",
        "        guess = choice( range(0,100) )  # 0 to 99, inclusive\n",
        "        number_of_guesses += 1\n",
        "\n",
        "    return number_of_guesses\n",
        "\n",
        "# test our function!\n",
        "guess(42)"
      ]
    },
    {
      "cell_type": "markdown",
      "source": [
        "### <font color=\"darkblue\"><b>Task #5: While Looping!</b></font>\n",
        "\n",
        "Below, create your functions that use _while_ loops:\n",
        "+ ``guess_between(low,high)``\n",
        "+ ``listTilRepeat(high)``\n",
        "\n",
        "Each one has more detail in its description.\n",
        "\n",
        "Notice that the ``listTilRepeat`` function ***is*** the birthday paradox!"
      ],
      "metadata": {
        "id": "A68UyzcD6W4g"
      }
    },
    {
      "cell_type": "code",
      "execution_count": null,
      "metadata": {
        "id": "Sib6asIv3gGn"
      },
      "outputs": [],
      "source": [
        "\n",
        "#\n",
        "# Functions with while loops to write:\n",
        "#\n",
        "\n",
        "# guess_between(low,high) like guess, but until it gets a number anywhere between\n",
        "#                         low and high. Specifically, until it guesses\n",
        "#                         less than high, and greater than or equal to low.\n",
        "#\n",
        "#\n",
        "# listTilRepeat(high)     accumulates a list of values in range(0,high) until one repeats\n",
        "#                         and returns the whole list\n",
        "#\n",
        "\n",
        "\n",
        "# examples (don't forget the randomness will change things!)\n",
        "#\n",
        "# guess_between(40,50)   ->   8    (on average, around 10)\n",
        "#\n",
        "# listTilRepeat(10)      ->   [4, 7, 8, 3, 7]     (the final # must be a repeat)\n",
        "# listTilRepeat(10)      ->   [2, 1, 9, 9]     (the final # must be a repeat)\n"
      ]
    },
    {
      "cell_type": "code",
      "execution_count": null,
      "metadata": {
        "id": "eAbbImBL3gGv"
      },
      "outputs": [],
      "source": [
        "#\n",
        "# here, write guess_between\n",
        "#\n",
        "from random import *\n",
        "\n",
        "def guess_between(low,high):\n",
        "    \"\"\" guesses a # from 0 to 99 (inclusive) until\n",
        "        it gets one that is strictly less than high and\n",
        "        greater than or equal to low\n",
        "        Then, this function returns the total # of guesses made\n",
        "    \"\"\"\n",
        "    guess = -1      # start with a wrong guess and don't count it as a guess\n",
        "    number_of_guesses = 0   # start with no guesses made so far...\n",
        "\n",
        "    while guess < low or guess >= high:\n",
        "        guess = choice( range(0,100) )  # 0 to 99, inclusive\n",
        "        number_of_guesses += 1\n",
        "\n",
        "    return number_of_guesses"
      ]
    },
    {
      "cell_type": "code",
      "source": [
        "#\n",
        "# be sure to test your guess_between here -- and leave the test in the notebook!\n",
        "#\n",
        "print(\"guess_between(10, 20) ->\", guess_between(10, 20))\n",
        "print(\"guess_between(30, 32) ->\", guess_between(30, 32))\n",
        "print(\"guess_between(76, 93) ->\", guess_between(76, 93))\n"
      ],
      "metadata": {
        "id": "wrh7eQOHAWi0",
        "colab": {
          "base_uri": "https://localhost:8080/"
        },
        "outputId": "7a9e2a1b-328a-4b1a-a6ec-93a7bc714e85"
      },
      "execution_count": null,
      "outputs": [
        {
          "output_type": "stream",
          "name": "stdout",
          "text": [
            "guess_between(10, 20) -> 12\n",
            "guess_between(30, 32) -> 52\n",
            "guess_between(76, 93) -> 10\n"
          ]
        }
      ]
    },
    {
      "cell_type": "code",
      "execution_count": null,
      "metadata": {
        "id": "9HnVqdj83gGw",
        "colab": {
          "base_uri": "https://localhost:8080/"
        },
        "outputId": "9436167b-4ded-497e-a292-9a3df896ff11"
      },
      "outputs": [
        {
          "output_type": "stream",
          "name": "stdout",
          "text": [
            "Before: L is [3, 4]\n",
            " After: L is [3, 4, 42]\n"
          ]
        }
      ],
      "source": [
        "\n",
        "# Try out adding elements to Lists\n",
        "\n",
        "L = [3,4]\n",
        "print(\"Before: L is\", L)\n",
        "\n",
        "guess = 42\n",
        "L = L + [guess]\n",
        "print(\" After: L is\", L)"
      ]
    },
    {
      "cell_type": "code",
      "execution_count": null,
      "metadata": {
        "id": "7v9qoep83gGx"
      },
      "outputs": [],
      "source": [
        "#\n",
        "# here, write listTilRepeat\n",
        "#\n",
        "from random import choice\n",
        "\n",
        "def listTilRepeat(high):\n",
        "    \"\"\" this f'n accumulates random guesses into a list, L, until a repeat is found\n",
        "        it then returns the list (the final element should be repeated, somewhere)\n",
        "    \"\"\"\n",
        "    L = []\n",
        "    guess = -1\n",
        "\n",
        "    while True:\n",
        "        guess = choice( range(0,high) )\n",
        "        if guess in L:\n",
        "            break\n",
        "        L = L + [guess]\n",
        "\n",
        "    return L"
      ]
    },
    {
      "cell_type": "code",
      "source": [
        "#\n",
        "# be sure to test your listTilRepeat here -- and leave the test in the notebook!\n",
        "#\n",
        "print(\"listTilRepeat(5) ->\", listTilRepeat(5))\n",
        "print(\"listTilRepeat(10) ->\", listTilRepeat(10))\n",
        "print(\"listTilRepeat(20) ->\", listTilRepeat(20))\n",
        "\n"
      ],
      "metadata": {
        "id": "iWvncComAdAa",
        "colab": {
          "base_uri": "https://localhost:8080/"
        },
        "outputId": "3c2f9bbe-d1c8-4303-a510-d05e24e189de"
      },
      "execution_count": null,
      "outputs": [
        {
          "output_type": "stream",
          "name": "stdout",
          "text": [
            "listTilRepeat(5) -> [2, 3]\n",
            "listTilRepeat(10) -> [8, 3]\n",
            "listTilRepeat(20) -> [4, 15, 7, 19, 13, 16, 8, 6, 1, 3]\n"
          ]
        }
      ]
    },
    {
      "cell_type": "code",
      "execution_count": null,
      "metadata": {
        "id": "Y8bY1Hag3gGx",
        "colab": {
          "base_uri": "https://localhost:8080/"
        },
        "outputId": "be7e6caf-b7ec-41f7-9e9e-6a189ca4ba5d"
      },
      "outputs": [
        {
          "output_type": "stream",
          "name": "stdout",
          "text": [
            "40\n",
            "23\n",
            "25\n"
          ]
        }
      ],
      "source": [
        "\n",
        "# The birthday paradox is the fact that\n",
        "#     listTilRepeat(365) has surprisingly few elements!\n",
        "#\n",
        "# Run listTilRepeat(365) a few times and print its _length_ each time\n",
        "#     (Don't print the lists... it's too much to digest.)\n",
        "#\n",
        "# To many people, the results feel counterintuitive!\n",
        "print(len(listTilRepeat(365)))\n",
        "print(len(listTilRepeat(365)))\n",
        "print(len(listTilRepeat(365)))"
      ]
    },
    {
      "cell_type": "markdown",
      "metadata": {
        "id": "rGp1vbmb3gf5"
      },
      "source": [
        "<br>\n",
        "\n",
        "# Monte Carlo simulations\n",
        "+ ... are repeated actions that involve repetition and randomness\n",
        "+ that is, loops!\n",
        "\n",
        "In fact, the guessing and birthday challenges above _are_ examples of Monte Carlo simulations.\n",
        "\n",
        "Next, you'll try a few more:\n",
        "+ Our in-class guessing game, dice-rolling challenge, and three-curtain challenge...\n",
        "+ Then, you'll try the \"sleepwalker\" (a single random walker)\n",
        "\n",
        "Finally, you'll adapt the single random walker to a two-walker simulation of your own design! There are lots of ideas:\n",
        "+ Have two random walkers \"race\" to the middle (which might be a poptart...)\n",
        "+ Have two random walkers \"race\" to the walls\n",
        "+ Have them wander until they find each other\n",
        "+ Have the walls close in on them!\n",
        "+ Have them chase another object that's moving around...\n",
        "+ ... and so on!\n",
        "\n",
        "The key is to have\n",
        "+ **two** independently-wandering \"actors\"\n",
        "+ within a \"line\" or \"world\" that you can print out...\n",
        "+ ... with a backstory that you've invented,\n",
        "+ and then animate the result!\n",
        "\n",
        "<br>\n",
        "\n",
        "Looking forward to it!"
      ]
    },
    {
      "cell_type": "code",
      "execution_count": null,
      "metadata": {
        "id": "TAw-VXXQ3gf6",
        "colab": {
          "base_uri": "https://localhost:8080/"
        },
        "outputId": "2b09a8bc-854d-4e79-95dc-d3f626c03a44"
      },
      "outputs": [
        {
          "output_type": "execute_result",
          "data": {
            "text/plain": [
              "36"
            ]
          },
          "metadata": {},
          "execution_count": 194
        }
      ],
      "source": [
        "\n",
        "#\n",
        "# Example while loop: the \"guessing game\"\n",
        "#\n",
        "\n",
        "from random import *\n",
        "\n",
        "def guess( hidden ):\n",
        "    \"\"\"\n",
        "        have the computer guess numbers until it gets the \"hidden\" value\n",
        "        return the number of guesses\n",
        "    \"\"\"\n",
        "    guess = hidden - 1      # start with a wrong guess + don't count it as a guess\n",
        "    number_of_guesses = 0   # start with no guesses made so far...\n",
        "\n",
        "    while guess != hidden:\n",
        "        guess = choice( range(0,100) )  # 0 to 99, inclusive\n",
        "        number_of_guesses += 1\n",
        "\n",
        "    return number_of_guesses\n",
        "\n",
        "# test our function!\n",
        "guess(42)"
      ]
    },
    {
      "cell_type": "code",
      "execution_count": null,
      "metadata": {
        "id": "pMj48CN63gf8",
        "colab": {
          "base_uri": "https://localhost:8080/"
        },
        "outputId": "a4a8f80e-f17d-4163-942f-732b93454dba"
      },
      "outputs": [
        {
          "output_type": "stream",
          "name": "stdout",
          "text": [
            "run 0 roll: 5 3  \n",
            "run 1 roll: 6 6 🙂\n",
            "run 2 roll: 5 2  \n",
            "run 3 roll: 3 3 🙂\n",
            "run 4 roll: 5 3  \n",
            "run 5 roll: 1 4  \n",
            "run 6 roll: 1 3  \n",
            "run 7 roll: 2 1  \n",
            "run 8 roll: 5 1  \n",
            "run 9 roll: 6 3  \n"
          ]
        },
        {
          "output_type": "execute_result",
          "data": {
            "text/plain": [
              "2"
            ]
          },
          "metadata": {},
          "execution_count": 197
        }
      ],
      "source": [
        "\n",
        "#\n",
        "# Example Monte Carlo simulation: rolling two dice and counting doubles\n",
        "#\n",
        "\n",
        "from random import *\n",
        "import time\n",
        "\n",
        "def count_doubles( num_rolls ):\n",
        "    \"\"\"\n",
        "        have the computer roll two six-sided dice, counting the # of doubles\n",
        "        (same value on both dice)\n",
        "        Then, return the number of doubles...\n",
        "    \"\"\"\n",
        "    numdoubles = 0       # start with no doubles so far...\n",
        "\n",
        "    for i in range(0,num_rolls):   # roll repeatedly: i keeps track\n",
        "        d1 = choice( [1,2,3,4,5,6] )  # 0 to 6, inclusive\n",
        "        d2 = choice( range(1,7) )     # 0 to 6, inclusive\n",
        "        if d1 == d2:\n",
        "            numdoubles += 1\n",
        "            you = \"🙂\"\n",
        "        else:\n",
        "            you = \" \"\n",
        "\n",
        "        print(\"run\", i, \"roll:\", d1, d2, you, flush=True)\n",
        "        time.sleep(.01)\n",
        "\n",
        "    return numdoubles\n",
        "\n",
        "# test our function!\n",
        "count_doubles(10)"
      ]
    },
    {
      "cell_type": "code",
      "execution_count": null,
      "metadata": {
        "id": "k4rkSYX_3gf9",
        "colab": {
          "base_uri": "https://localhost:8080/"
        },
        "outputId": "9442569a-b94b-440d-9fe2-01a21e3bc663"
      },
      "outputs": [
        {
          "output_type": "stream",
          "name": "stdout",
          "text": [
            "run 1 you lose...\n",
            "run 2 you  Win!!!\n",
            "run 3 you lose...\n",
            "run 4 you lose...\n",
            "run 5 you lose...\n",
            "run 6 you  Win!!!\n",
            "run 7 you lose...\n",
            "run 8 you  Win!!!\n",
            "run 9 you lose...\n",
            "run 10 you  Win!!!\n"
          ]
        },
        {
          "output_type": "execute_result",
          "data": {
            "text/plain": [
              "4"
            ]
          },
          "metadata": {},
          "execution_count": 198
        }
      ],
      "source": [
        "\n",
        "#\n",
        "# Example Monte Carlo simulation: the Monte-Carlo Monte Hall paradox\n",
        "#\n",
        "\n",
        "import random\n",
        "import time\n",
        "\n",
        "def count_wins( N, original_choice, stay_or_switch ):\n",
        "    \"\"\"\n",
        "        run the Monte Hall paradox N times, with\n",
        "        original_choice, which can be 1, 2, or 3 and\n",
        "        stay_or_switch, which can be \"stay\" or \"switch\"\n",
        "        Count the number of wins and return that number.\n",
        "    \"\"\"\n",
        "    numwins = 0       # start with no wins so far...\n",
        "\n",
        "    for i in range(1,N+1):      # run repeatedly: i keeps track\n",
        "        win_curtain = random.choice([1,2,3])   # the curtain with the grand prize\n",
        "        original_choice = original_choice      # just a reminder that we have this variable\n",
        "        stay_or_switch = stay_or_switch        # a reminder that we have this, too\n",
        "\n",
        "        result = \"\"\n",
        "        if original_choice == win_curtain and stay_or_switch == \"stay\": result = \" Win!!!\"\n",
        "        elif original_choice == win_curtain and stay_or_switch == \"switch\": result = \"lose...\"\n",
        "        elif original_choice != win_curtain and stay_or_switch == \"stay\": result = \"lose...\"\n",
        "        elif original_choice != win_curtain and stay_or_switch == \"switch\": result = \" Win!!!\"\n",
        "\n",
        "        print(\"run\", i, \"you\", result, flush=True)\n",
        "        time.sleep(.025)\n",
        "\n",
        "        if result == \" Win!!!\":\n",
        "            numwins += 1\n",
        "\n",
        "\n",
        "    return numwins\n",
        "\n",
        "# test our three-curtain-game, many times:\n",
        "count_wins(10, 1, \"stay\")"
      ]
    },
    {
      "cell_type": "code",
      "execution_count": null,
      "metadata": {
        "id": "MawBqtpX3gf-",
        "colab": {
          "base_uri": "https://localhost:8080/"
        },
        "outputId": "a1e0fb19-bee9-44ab-b3c7-653534f95a5c"
      },
      "outputs": [
        {
          "output_type": "stream",
          "name": "stdout",
          "text": [
            "At location: 47\n",
            "At location: 46\n",
            "At location: 47\n",
            "At location: 48\n",
            "At location: 47\n",
            "At location: 46\n",
            "At location: 45\n",
            "At location: 46\n",
            "At location: 47\n",
            "At location: 48\n"
          ]
        },
        {
          "output_type": "execute_result",
          "data": {
            "text/plain": [
              "48"
            ]
          },
          "metadata": {},
          "execution_count": 199
        }
      ],
      "source": [
        "\n",
        "\n",
        "# More Monte Carlo simulations!\n",
        "\n",
        "#\n",
        "# Example of a random-walk (but no animation is intended here...)\n",
        "#\n",
        "\n",
        "import random\n",
        "\n",
        "def rs():\n",
        "    \"\"\" One random step \"\"\"\n",
        "    return random.choice([-1, 1])\n",
        "\n",
        "\n",
        "def rpos(start,N):\n",
        "    \"\"\" wander from start for N steps, printing as we go\n",
        "        return the position at the end (the final \"current\" position)\n",
        "    \"\"\"\n",
        "    current = start        # our current position begins at start...\n",
        "\n",
        "    for i in range(N):     # step repeatedly:  i keeps track from 0..N\n",
        "        print(\"At location:\", current)\n",
        "        current = current + rs()  # add one step,\n",
        "\n",
        "    print(\"At location:\", current)\n",
        "    return current\n",
        "\n",
        "\n",
        "# let's test it, perhaps start at 47 and take 9 steps...\n",
        "rpos(47,9)"
      ]
    },
    {
      "cell_type": "code",
      "execution_count": null,
      "metadata": {
        "id": "vgqXW52w3gf_",
        "colab": {
          "base_uri": "https://localhost:8080/"
        },
        "outputId": "73c9691e-30b2-48b3-ceee-94bd99d6fdec"
      },
      "outputs": [
        {
          "output_type": "stream",
          "name": "stdout",
          "text": [
            "🪩🌫️🌫️🌫️🌫️🕺🏽🌫️🌫️🌫️🌫️🌫️🌫️🪩\n",
            "🪩🌫️🌫️🌫️🕺🏽🌫️🌫️🌫️🌫️🌫️🌫️🌫️🪩\n",
            "🪩🌫️🌫️🌫️🌫️🕺🏽🌫️🌫️🌫️🌫️🌫️🌫️🪩\n",
            "🪩🌫️🌫️🌫️🕺🏽🌫️🌫️🌫️🌫️🌫️🌫️🌫️🪩\n",
            "🪩🌫️🌫️🌫️🌫️🕺🏽🌫️🌫️🌫️🌫️🌫️🌫️🪩\n",
            "🪩🌫️🌫️🌫️🕺🏽🌫️🌫️🌫️🌫️🌫️🌫️🌫️🪩\n",
            "🪩🌫️🌫️🌫️🌫️🕺🏽🌫️🌫️🌫️🌫️🌫️🌫️🪩\n",
            "🪩🌫️🌫️🌫️🌫️🌫️🕺🏽🌫️🌫️🌫️🌫️🌫️🪩\n",
            "🪩🌫️🌫️🌫️🌫️🌫️🌫️🕺🏽🌫️🌫️🌫️🌫️🪩\n",
            "🪩🌫️🌫️🌫️🌫️🌫️🕺🏽🌫️🌫️🌫️🌫️🌫️🪩\n",
            "🪩🌫️🌫️🌫️🌫️🌫️🌫️🕺🏽🌫️🌫️🌫️🌫️🪩\n",
            "🪩🌫️🌫️🌫️🌫️🌫️🌫️🌫️🕺🏽🌫️🌫️🌫️🪩\n",
            "🪩🌫️🌫️🌫️🌫️🌫️🌫️🌫️🌫️🕺🏽🌫️🌫️🪩\n",
            "🪩🌫️🌫️🌫️🌫️🌫️🌫️🌫️🌫️🌫️🕺🏽🌫️🪩\n",
            "🪩🌫️🌫️🌫️🌫️🌫️🌫️🌫️🌫️🌫️🌫️🕺🏽🪩\n"
          ]
        },
        {
          "output_type": "execute_result",
          "data": {
            "text/plain": [
              "15"
            ]
          },
          "metadata": {},
          "execution_count": 213
        }
      ],
      "source": [
        "\n",
        "# Monte Carlo simulation #2... the random-walker\n",
        "\n",
        "#\n",
        "# Task #1:  understand the _single_ \"sleepwalker\":\n",
        "#           change the character sleepwalking to something else, emoji, etc.\n",
        "#           change the \"walls\" to something else\n",
        "#           change the \"sidewalk\" to something else (water, air, walls, ...)\n",
        "#           try it with some different inputs... then you'll be ready for task 2\n",
        "\n",
        "import time\n",
        "import random\n",
        "\n",
        "def rs():\n",
        "    \"\"\" One random step \"\"\"\n",
        "    return random.choice([-1, 1])\n",
        "\n",
        "def rwalk(start, low, high):\n",
        "    \"\"\" Random walk between -radius and +radius  (starting at 0 by default) \"\"\"\n",
        "    totalsteps = 0          # Initial value of totalsteps (_not_ final value!)\n",
        "    current = start         # Current location (_not_ the total # of steps)\n",
        "\n",
        "    while True:             # Run \"forever\" (really, until a return or break)\n",
        "        if current <= low:  # too low!\n",
        "            return totalsteps # Phew!  Return totalsteps (stops the while loop)\n",
        "        elif current >= high: # too high!\n",
        "            return totalsteps # Phew!  Return totalsteps (stops the while loop)\n",
        "        else:\n",
        "            current = current + rs()  # take a step\n",
        "            totalsteps += 1           # count it\n",
        "\n",
        "            # let's animate!\n",
        "            left_side = current - low   # distance on the left of our sleepwalker\n",
        "            right_side = high - current\n",
        "            print(\"🪩\" + \"🌫️\"*left_side + \"🕺🏽\" + \"🌫️\"*right_side + \"🪩\", flush=True)  # a start of our \"ASCIImation\"\n",
        "            time.sleep(0.042)\n",
        "\n",
        "    # the code can never get here!\n",
        "\n",
        "# You will need to add the right-hand side, too\n",
        "# Then, improve your sleepwalker!\n",
        "\n",
        "# let's try it!  rwalk(tart, low, high)\n",
        "rwalk(5,0,10)\n",
        "#rwalk(15,0,30)\n"
      ]
    },
    {
      "cell_type": "markdown",
      "source": [
        "### <font color=\"darkblue\"><b>Task #6: Your own wandering!</b></font>\n",
        "\n",
        "Below, create a variation of the random-walker examples above and below. Be sure\n",
        "+ You have at least two random wanderers\n",
        "+ You include an aesthetic customization of your choice\n",
        "+ You include an algorithmic personalization of your choice\n",
        "\n",
        "These can be very fun...\n",
        "\n",
        "I look forward to all of your ***wandering***!"
      ],
      "metadata": {
        "id": "XM07iJfP7VMf"
      }
    },
    {
      "cell_type": "code",
      "execution_count": null,
      "metadata": {
        "id": "t8S3Gu6Y3ggB"
      },
      "outputs": [],
      "source": [
        "#\n",
        "# Task #2:  create a _two_ sleepwalker animation!\n",
        "#           For an example _idea_ see the next cell...\n",
        "\n"
      ]
    },
    {
      "cell_type": "code",
      "execution_count": null,
      "metadata": {
        "id": "1zZ5kFlm3ggA"
      },
      "outputs": [],
      "source": [
        "\n",
        "# here is an _example_ of a two-sleepwalker animation idea\n",
        "# a starting point has been written... but only one wanderer is wandering!\n",
        "# your task is to make sure TWO wanderers are wandering... in a fashion you design...\n",
        "\n",
        "import time\n",
        "import random\n",
        "\n",
        "def rs():\n",
        "    \"\"\" One random step \"\"\"\n",
        "    return random.choice([-1, 1])\n",
        "\n",
        "def print_poptarts(pST, pSM):\n",
        "    \"\"\" print the two poptarts! \"\"\"\n",
        "    if pST < pSM:\n",
        "        pLeft = pST;   cLeft = \"\\033[6;33;41m\" + \"P\" + \"\\033[0m\"\n",
        "        pRight = pSM;  cRight = \"\\033[6;36;43m\" + \"P\" + \"\\033[0m\"\n",
        "    else:\n",
        "        pLeft = pSM;   cLeft = \"\\033[6;36;43m\" + \"P\" + \"\\033[0m\"\n",
        "        pRight = pST;  cRight = \"\\033[6;33;41m\" + \"P\" + \"\\033[0m\"\n",
        "\n",
        "    left_space = (pLeft-0)\n",
        "    middle_space = (pRight-pLeft)\n",
        "    right_space = (30-pRight)\n",
        "\n",
        "    print(\"CGU|\" + \"_\"*left_space + cLeft + \"_\"*middle_space + cRight + \"_\"*right_space + \"|Toaster\", flush=True)\n",
        "\n",
        "\n",
        "def poptart_race(pST, pSM):\n",
        "    \"\"\"\n",
        "        This simulator observes two poptarts, pST, pSM (you can guess the flavors...)\n",
        "        wandering between 0 and 30.\n",
        "\n",
        "        Call this with\n",
        "               poptart_race(10, 20)\n",
        "           or  poptart_race(pST=10, pSM=20)    # this is the same as the line above\n",
        "\n",
        "        The endpoints are always at 0 and 30. We check that  0 < pST < 30 and 0 < pSM < 30\n",
        "\n",
        "        Other values to try:  poptart_race(18, 22)    # evenly spaced\n",
        "                              poptart_race(5, 15)     # uneven spacing: pST is closer...\n",
        "    \"\"\"\n",
        "    num_steps = 0       # count the number of steps\n",
        "\n",
        "    while 0 < pST < 30:\n",
        "        print_poptarts(pST, pSM)   # print the current poptart-configuration!\n",
        "        pST = pST + rs()           # take a random step for the strawberry poptart...\n",
        "        num_steps += 1             # add 1 to our count of steps (in the variable num_steps)\n",
        "        time.sleep(0.05)           # pause a bit, to add drama!\n",
        "\n",
        "    # finished with the while loop!\n",
        "    return num_steps\n",
        "\n"
      ]
    },
    {
      "cell_type": "code",
      "source": [
        "poptart_race(10, 20)"
      ],
      "metadata": {
        "id": "VbhjtXudzAC4",
        "colab": {
          "base_uri": "https://localhost:8080/"
        },
        "outputId": "12849792-91bc-4639-98c1-d777ddadb0fe"
      },
      "execution_count": null,
      "outputs": [
        {
          "output_type": "stream",
          "name": "stdout",
          "text": [
            "CGU|__________\u001b[6;33;41mP\u001b[0m__________\u001b[6;36;43mP\u001b[0m__________|Toaster\n",
            "CGU|_________\u001b[6;33;41mP\u001b[0m___________\u001b[6;36;43mP\u001b[0m__________|Toaster\n",
            "CGU|__________\u001b[6;33;41mP\u001b[0m__________\u001b[6;36;43mP\u001b[0m__________|Toaster\n",
            "CGU|_________\u001b[6;33;41mP\u001b[0m___________\u001b[6;36;43mP\u001b[0m__________|Toaster\n",
            "CGU|__________\u001b[6;33;41mP\u001b[0m__________\u001b[6;36;43mP\u001b[0m__________|Toaster\n",
            "CGU|___________\u001b[6;33;41mP\u001b[0m_________\u001b[6;36;43mP\u001b[0m__________|Toaster\n",
            "CGU|__________\u001b[6;33;41mP\u001b[0m__________\u001b[6;36;43mP\u001b[0m__________|Toaster\n",
            "CGU|_________\u001b[6;33;41mP\u001b[0m___________\u001b[6;36;43mP\u001b[0m__________|Toaster\n",
            "CGU|__________\u001b[6;33;41mP\u001b[0m__________\u001b[6;36;43mP\u001b[0m__________|Toaster\n",
            "CGU|_________\u001b[6;33;41mP\u001b[0m___________\u001b[6;36;43mP\u001b[0m__________|Toaster\n",
            "CGU|__________\u001b[6;33;41mP\u001b[0m__________\u001b[6;36;43mP\u001b[0m__________|Toaster\n",
            "CGU|_________\u001b[6;33;41mP\u001b[0m___________\u001b[6;36;43mP\u001b[0m__________|Toaster\n",
            "CGU|________\u001b[6;33;41mP\u001b[0m____________\u001b[6;36;43mP\u001b[0m__________|Toaster\n",
            "CGU|_________\u001b[6;33;41mP\u001b[0m___________\u001b[6;36;43mP\u001b[0m__________|Toaster\n",
            "CGU|__________\u001b[6;33;41mP\u001b[0m__________\u001b[6;36;43mP\u001b[0m__________|Toaster\n",
            "CGU|_________\u001b[6;33;41mP\u001b[0m___________\u001b[6;36;43mP\u001b[0m__________|Toaster\n",
            "CGU|__________\u001b[6;33;41mP\u001b[0m__________\u001b[6;36;43mP\u001b[0m__________|Toaster\n",
            "CGU|_________\u001b[6;33;41mP\u001b[0m___________\u001b[6;36;43mP\u001b[0m__________|Toaster\n",
            "CGU|________\u001b[6;33;41mP\u001b[0m____________\u001b[6;36;43mP\u001b[0m__________|Toaster\n",
            "CGU|_________\u001b[6;33;41mP\u001b[0m___________\u001b[6;36;43mP\u001b[0m__________|Toaster\n",
            "CGU|________\u001b[6;33;41mP\u001b[0m____________\u001b[6;36;43mP\u001b[0m__________|Toaster\n",
            "CGU|_______\u001b[6;33;41mP\u001b[0m_____________\u001b[6;36;43mP\u001b[0m__________|Toaster\n",
            "CGU|________\u001b[6;33;41mP\u001b[0m____________\u001b[6;36;43mP\u001b[0m__________|Toaster\n",
            "CGU|_______\u001b[6;33;41mP\u001b[0m_____________\u001b[6;36;43mP\u001b[0m__________|Toaster\n",
            "CGU|________\u001b[6;33;41mP\u001b[0m____________\u001b[6;36;43mP\u001b[0m__________|Toaster\n",
            "CGU|_______\u001b[6;33;41mP\u001b[0m_____________\u001b[6;36;43mP\u001b[0m__________|Toaster\n",
            "CGU|________\u001b[6;33;41mP\u001b[0m____________\u001b[6;36;43mP\u001b[0m__________|Toaster\n",
            "CGU|_________\u001b[6;33;41mP\u001b[0m___________\u001b[6;36;43mP\u001b[0m__________|Toaster\n",
            "CGU|________\u001b[6;33;41mP\u001b[0m____________\u001b[6;36;43mP\u001b[0m__________|Toaster\n",
            "CGU|_________\u001b[6;33;41mP\u001b[0m___________\u001b[6;36;43mP\u001b[0m__________|Toaster\n",
            "CGU|________\u001b[6;33;41mP\u001b[0m____________\u001b[6;36;43mP\u001b[0m__________|Toaster\n",
            "CGU|_________\u001b[6;33;41mP\u001b[0m___________\u001b[6;36;43mP\u001b[0m__________|Toaster\n",
            "CGU|__________\u001b[6;33;41mP\u001b[0m__________\u001b[6;36;43mP\u001b[0m__________|Toaster\n",
            "CGU|_________\u001b[6;33;41mP\u001b[0m___________\u001b[6;36;43mP\u001b[0m__________|Toaster\n",
            "CGU|__________\u001b[6;33;41mP\u001b[0m__________\u001b[6;36;43mP\u001b[0m__________|Toaster\n",
            "CGU|___________\u001b[6;33;41mP\u001b[0m_________\u001b[6;36;43mP\u001b[0m__________|Toaster\n",
            "CGU|__________\u001b[6;33;41mP\u001b[0m__________\u001b[6;36;43mP\u001b[0m__________|Toaster\n",
            "CGU|___________\u001b[6;33;41mP\u001b[0m_________\u001b[6;36;43mP\u001b[0m__________|Toaster\n",
            "CGU|__________\u001b[6;33;41mP\u001b[0m__________\u001b[6;36;43mP\u001b[0m__________|Toaster\n",
            "CGU|_________\u001b[6;33;41mP\u001b[0m___________\u001b[6;36;43mP\u001b[0m__________|Toaster\n",
            "CGU|__________\u001b[6;33;41mP\u001b[0m__________\u001b[6;36;43mP\u001b[0m__________|Toaster\n",
            "CGU|_________\u001b[6;33;41mP\u001b[0m___________\u001b[6;36;43mP\u001b[0m__________|Toaster\n",
            "CGU|________\u001b[6;33;41mP\u001b[0m____________\u001b[6;36;43mP\u001b[0m__________|Toaster\n",
            "CGU|_________\u001b[6;33;41mP\u001b[0m___________\u001b[6;36;43mP\u001b[0m__________|Toaster\n",
            "CGU|________\u001b[6;33;41mP\u001b[0m____________\u001b[6;36;43mP\u001b[0m__________|Toaster\n",
            "CGU|_________\u001b[6;33;41mP\u001b[0m___________\u001b[6;36;43mP\u001b[0m__________|Toaster\n",
            "CGU|________\u001b[6;33;41mP\u001b[0m____________\u001b[6;36;43mP\u001b[0m__________|Toaster\n",
            "CGU|_______\u001b[6;33;41mP\u001b[0m_____________\u001b[6;36;43mP\u001b[0m__________|Toaster\n",
            "CGU|________\u001b[6;33;41mP\u001b[0m____________\u001b[6;36;43mP\u001b[0m__________|Toaster\n",
            "CGU|_______\u001b[6;33;41mP\u001b[0m_____________\u001b[6;36;43mP\u001b[0m__________|Toaster\n",
            "CGU|______\u001b[6;33;41mP\u001b[0m______________\u001b[6;36;43mP\u001b[0m__________|Toaster\n",
            "CGU|_______\u001b[6;33;41mP\u001b[0m_____________\u001b[6;36;43mP\u001b[0m__________|Toaster\n",
            "CGU|______\u001b[6;33;41mP\u001b[0m______________\u001b[6;36;43mP\u001b[0m__________|Toaster\n",
            "CGU|_______\u001b[6;33;41mP\u001b[0m_____________\u001b[6;36;43mP\u001b[0m__________|Toaster\n",
            "CGU|______\u001b[6;33;41mP\u001b[0m______________\u001b[6;36;43mP\u001b[0m__________|Toaster\n",
            "CGU|_______\u001b[6;33;41mP\u001b[0m_____________\u001b[6;36;43mP\u001b[0m__________|Toaster\n",
            "CGU|______\u001b[6;33;41mP\u001b[0m______________\u001b[6;36;43mP\u001b[0m__________|Toaster\n",
            "CGU|_____\u001b[6;33;41mP\u001b[0m_______________\u001b[6;36;43mP\u001b[0m__________|Toaster\n",
            "CGU|______\u001b[6;33;41mP\u001b[0m______________\u001b[6;36;43mP\u001b[0m__________|Toaster\n",
            "CGU|_______\u001b[6;33;41mP\u001b[0m_____________\u001b[6;36;43mP\u001b[0m__________|Toaster\n",
            "CGU|________\u001b[6;33;41mP\u001b[0m____________\u001b[6;36;43mP\u001b[0m__________|Toaster\n",
            "CGU|_______\u001b[6;33;41mP\u001b[0m_____________\u001b[6;36;43mP\u001b[0m__________|Toaster\n",
            "CGU|______\u001b[6;33;41mP\u001b[0m______________\u001b[6;36;43mP\u001b[0m__________|Toaster\n",
            "CGU|_______\u001b[6;33;41mP\u001b[0m_____________\u001b[6;36;43mP\u001b[0m__________|Toaster\n",
            "CGU|______\u001b[6;33;41mP\u001b[0m______________\u001b[6;36;43mP\u001b[0m__________|Toaster\n",
            "CGU|_____\u001b[6;33;41mP\u001b[0m_______________\u001b[6;36;43mP\u001b[0m__________|Toaster\n",
            "CGU|____\u001b[6;33;41mP\u001b[0m________________\u001b[6;36;43mP\u001b[0m__________|Toaster\n",
            "CGU|___\u001b[6;33;41mP\u001b[0m_________________\u001b[6;36;43mP\u001b[0m__________|Toaster\n",
            "CGU|__\u001b[6;33;41mP\u001b[0m__________________\u001b[6;36;43mP\u001b[0m__________|Toaster\n",
            "CGU|_\u001b[6;33;41mP\u001b[0m___________________\u001b[6;36;43mP\u001b[0m__________|Toaster\n"
          ]
        },
        {
          "output_type": "execute_result",
          "data": {
            "text/plain": [
              "70"
            ]
          },
          "metadata": {},
          "execution_count": 202
        }
      ]
    },
    {
      "cell_type": "markdown",
      "metadata": {
        "id": "IrzyA63F3ggB"
      },
      "source": [
        "\n",
        "<br>\n",
        "\n",
        "#### Hints, suggestions, and other references\n",
        "+ Be sure that there is a <i>finishing condition</i>\n",
        "+ Have a meaningful return value - such as the number of steps\n",
        "+ There should be some interaction between the wandering agents (each other), as well as between the wanderers and the endpoints, e.g., walls, cliffs, wells, teleports, etc.\n",
        "\n",
        "<br>\n",
        "\n",
        "As a few possible examples, you might consider:\n",
        "+ two wanderers that are trying to reach an item between them (see above)\n",
        "+ two wanderers that are unable to switch places (they \"bounce\"), with the simulation ending when one—or both—reach the walls\n",
        "+ two endpoints of a single \"entity\" that's trying to consume the whole environment (reach both sides)\n",
        "+ a single wanderer hoping to avoid an \"obstacle\" that is also a wanderer... it moves around and/or (dis)appears: a moving obstacle definitely counts as a second wanderer\n",
        "+ one or both walls can be a \"wanderer\"\n",
        "+ there are many more possibilities, for sure!\n",
        "\n",
        "\n",
        "<br>\n",
        "\n",
        "Other resources/references:\n",
        "+ [Lots of ideas are here at the cs5 page](https://www.cs.hmc.edu/twiki/bin/view/CS5Fall2019/SleepwalkingStudentGold)\n",
        "+ You can also add emojis and other unicode characters\n",
        "+ And you can change the colors -- see the next couple of cells for examples...\n",
        "+ [Here is the terminal-colors in Python page](https://www.cs.hmc.edu/twiki/bin/view/CS5/TerminalColorsInPython)"
      ]
    },
    {
      "cell_type": "code",
      "execution_count": null,
      "metadata": {
        "id": "CpFeTj_83ggC",
        "colab": {
          "base_uri": "https://localhost:8080/"
        },
        "outputId": "87679c24-034f-418c-dace-6da8a9f8a0b6"
      },
      "outputs": [
        {
          "output_type": "stream",
          "name": "stdout",
          "text": [
            "|_🙂_________|\n",
            "|__🙂________|\n",
            "|___🙂_______|\n",
            "|____🙂______|\n",
            "|_____🙂_____|\n",
            "|______🙂____|\n",
            "|_______🙂___|\n",
            "|________🙂__|\n",
            "|_________🙂_|\n"
          ]
        }
      ],
      "source": [
        "import time\n",
        "\n",
        "# emoji test\n",
        "emoji_list = [ \"♫\", \"♪\" ]\n",
        "for i in range(1,10):\n",
        "    left_side = i\n",
        "    right_side = (10-i)\n",
        "\n",
        "    e = \"🙂\"\n",
        "    # e = random.choice(emoji_list)\n",
        "\n",
        "    print(\"|\" + \"_\"*left_side + e + \"_\"*right_side + \"|\", flush=True)\n",
        "    time.sleep(0.25)"
      ]
    },
    {
      "cell_type": "code",
      "execution_count": null,
      "metadata": {
        "id": "jhB1t4kZ3ggC",
        "colab": {
          "base_uri": "https://localhost:8080/"
        },
        "outputId": "11481e96-0227-47a0-b4b2-e81e7dff1078"
      },
      "outputs": [
        {
          "output_type": "stream",
          "name": "stdout",
          "text": [
            "\n",
            "before: \u001b[6;30;43mThis text uses 6;30;43 .\u001b[0m :end\n",
            "\n"
          ]
        }
      ],
      "source": [
        "print(\"\\nbefore: \" + \"\\033[6;30;43m\" + \"This text uses 6;30;43 .\" + \"\\033[0m\" + \" :end\\n\")"
      ]
    },
    {
      "cell_type": "markdown",
      "source": [
        "Here's an example with the black-and-gold text:"
      ],
      "metadata": {
        "id": "mp0pOdGpQ8cA"
      }
    },
    {
      "cell_type": "code",
      "source": [
        "import time\n",
        "\n",
        "def gold_bg(text):\n",
        "    return \"\\033[6;30;43m\" + text + \"\\033[0m\"\n",
        "\n",
        "# gold_bg test\n",
        "for i in range(1,10):\n",
        "    left_side = i\n",
        "    right_side = (10-i)\n",
        "\n",
        "    e = \"E\"\n",
        "    # e = random.choice(emoji_list)\n",
        "\n",
        "    print(\"|\" + \"_\"*left_side + gold_bg(e) + \"_\"*right_side + \"|\", flush=True)\n",
        "    time.sleep(0.25)\n",
        "\n",
        "# by Zach\n",
        "\n",
        "# REVERSE gold_bg test\n",
        "for i in range(10,0,-1):\n",
        "    left_side = i\n",
        "    right_side = (10-i)\n",
        "\n",
        "    e = \"E\"\n",
        "    # e = random.choice(emoji_list)\n",
        "\n",
        "    print(\"|\" + gold_bg(\"_\"*left_side) + e + gold_bg(\"_\"*right_side) + \"|\", flush=True)\n",
        "    time.sleep(0.25)"
      ],
      "metadata": {
        "id": "Ow8QYU-dQ_Xg",
        "colab": {
          "base_uri": "https://localhost:8080/"
        },
        "outputId": "60a3ee9d-887a-47db-f571-2b09047c4671"
      },
      "execution_count": null,
      "outputs": [
        {
          "output_type": "stream",
          "name": "stdout",
          "text": [
            "|_\u001b[6;30;43mE\u001b[0m_________|\n",
            "|__\u001b[6;30;43mE\u001b[0m________|\n",
            "|___\u001b[6;30;43mE\u001b[0m_______|\n",
            "|____\u001b[6;30;43mE\u001b[0m______|\n",
            "|_____\u001b[6;30;43mE\u001b[0m_____|\n",
            "|______\u001b[6;30;43mE\u001b[0m____|\n",
            "|_______\u001b[6;30;43mE\u001b[0m___|\n",
            "|________\u001b[6;30;43mE\u001b[0m__|\n",
            "|_________\u001b[6;30;43mE\u001b[0m_|\n",
            "|\u001b[6;30;43m__________\u001b[0mE\u001b[6;30;43m\u001b[0m|\n",
            "|\u001b[6;30;43m_________\u001b[0mE\u001b[6;30;43m_\u001b[0m|\n",
            "|\u001b[6;30;43m________\u001b[0mE\u001b[6;30;43m__\u001b[0m|\n",
            "|\u001b[6;30;43m_______\u001b[0mE\u001b[6;30;43m___\u001b[0m|\n",
            "|\u001b[6;30;43m______\u001b[0mE\u001b[6;30;43m____\u001b[0m|\n",
            "|\u001b[6;30;43m_____\u001b[0mE\u001b[6;30;43m_____\u001b[0m|\n",
            "|\u001b[6;30;43m____\u001b[0mE\u001b[6;30;43m______\u001b[0m|\n",
            "|\u001b[6;30;43m___\u001b[0mE\u001b[6;30;43m_______\u001b[0m|\n",
            "|\u001b[6;30;43m__\u001b[0mE\u001b[6;30;43m________\u001b[0m|\n",
            "|\u001b[6;30;43m_\u001b[0mE\u001b[6;30;43m_________\u001b[0m|\n"
          ]
        }
      ]
    },
    {
      "cell_type": "code",
      "source": [
        "import time\n",
        "import random\n",
        "\n",
        "def rs():\n",
        "    \"\"\" One random step \"\"\"\n",
        "    return random.choice([-1, 1])\n",
        "\n",
        "def print_dancers(dancer1, dancer2, trophy):\n",
        "    \"\"\" Print the two dancers and the trophy between them \"\"\"\n",
        "    if dancer1 < dancer2:\n",
        "        pLeft = dancer1;   cLeft = \"🕺🏽\"\n",
        "        pRight = dancer2;  cRight = \"🕺\"\n",
        "    else:\n",
        "        pLeft = dancer2;   cLeft = \"🕺\"\n",
        "        pRight = dancer1;  cRight = \"🕺🏽\"\n",
        "\n",
        "    item_pos = (pLeft + pRight) // 2  # Place item in the middle\n",
        "    left_space = (pLeft-0)\n",
        "    middle_space = (item_pos - pLeft)\n",
        "    right_space = (30-item_pos)\n",
        "\n",
        "    print(\"🪩\" + \"_\"*left_space + cLeft + \"_\"*middle_space + \"🏆\" + \"_\"*(pRight - item_pos) + cRight + \"_\"*right_space + \"🪩\", flush=True)\n",
        "\n",
        "def dance_comp(dancer1, dancer2):\n",
        "    \"\"\"\n",
        "        This simulator observes two dancers\n",
        "        wandering towards an trophy between them.\n",
        "    \"\"\"\n",
        "    num_steps = 0       # count the number of steps\n",
        "    trophy = (dancer1 + dancer2) // 2  # Item starts between them\n",
        "\n",
        "    while dancer1 != trophy and dancer2 != trophy:\n",
        "        print_dancers(dancer1, dancer2, trophy)  # Print the current poptart-configuration!\n",
        "        if dancer1 < trophy:\n",
        "            dancer1 = max(0, min(30, dancer1 + rs()))  # Move towards the item\n",
        "        if dancer2 > trophy:\n",
        "            dancer2 = max(0, min(30, dancer2 + rs()))  # Move towards the item\n",
        "        num_steps += 1             # Add 1 to our count of steps\n",
        "        time.sleep(0.05)           # Pause a bit, to add drama!\n",
        "    # winner\n",
        "    winner = \"🕺🏽\" if dancer1 == trophy else \"🕺\"\n",
        "    print(f\"{winner} wins the dance competition!\")\n",
        "\n",
        "    # Finished with the while loop!\n",
        "    return num_steps\n",
        "\n",
        "# Example usage\n",
        "print(\"Steps taken:\", dance_comp(10, 15))\n"
      ],
      "metadata": {
        "colab": {
          "base_uri": "https://localhost:8080/"
        },
        "id": "X7d97hVDVywS",
        "outputId": "61290925-a3b3-46ce-d199-ba7176844850"
      },
      "execution_count": null,
      "outputs": [
        {
          "output_type": "stream",
          "name": "stdout",
          "text": [
            "🪩__________🕺🏽__🏆___🕺__________________🪩\n",
            "🪩___________🕺🏽__🏆___🕺_________________🪩\n",
            "🪩__________🕺🏽__🏆___🕺__________________🪩\n",
            "🪩_________🕺🏽__🏆___🕺___________________🪩\n",
            "🪩__________🕺🏽_🏆__🕺___________________🪩\n",
            "🪩_________🕺🏽__🏆___🕺___________________🪩\n",
            "🪩________🕺🏽___🏆____🕺___________________🪩\n",
            "🪩_______🕺🏽___🏆____🕺____________________🪩\n",
            "🪩________🕺🏽___🏆____🕺___________________🪩\n",
            "🪩_______🕺🏽____🏆_____🕺___________________🪩\n",
            "🪩______🕺🏽____🏆_____🕺____________________🪩\n",
            "🪩_______🕺🏽___🏆____🕺____________________🪩\n",
            "🪩______🕺🏽____🏆_____🕺____________________🪩\n",
            "🪩_____🕺🏽_____🏆______🕺____________________🪩\n",
            "🪩______🕺🏽____🏆_____🕺____________________🪩\n",
            "🪩_____🕺🏽____🏆_____🕺_____________________🪩\n",
            "🪩____🕺🏽____🏆_____🕺______________________🪩\n",
            "🕺 wins the dance competition!\n",
            "Steps taken: 17\n"
          ]
        }
      ]
    },
    {
      "cell_type": "markdown",
      "metadata": {
        "id": "234UmAAE3ggD"
      },
      "source": [
        "<br>\n",
        "\n",
        "####  Complete!\n",
        "+ When you have ~~completed~~ your two-sleepwalker simulation, be sure that you have at least one run held in the output of your cell(s)\n",
        "+ More than one run is ok, too\n",
        "+ Remember, once you've defined a function, you're able to run it in many cells afterwards...\n",
        "\n",
        "<br>\n",
        "\n",
        "Then, submit this to its Gradescope spot..."
      ]
    },
    {
      "cell_type": "markdown",
      "source": [
        "# <font color=\"DarkBlue\"><b>Task #7</b></font>: Reading and Response on _ChatGPT_\n",
        "\n",
        "Of course, we have to have a ChatGPT article!\n",
        "\n",
        "Happily, the NYTimes has written many of these 😀\n",
        "+ [NYTimes article](https://www.nytimes.com/2023/02/03/technology/chatgpt-openai-artificial-intelligence.html)\n",
        "+ [Local pdf in case the above link does not work](https://drive.google.com/file/d/1SUhVAcDPcC80FfMyKUSt6EmKHOo7eImf/view?usp=sharing)\n",
        "\n",
        "The article summarizes\n",
        "+ the surprising progress in _generative AI_\n",
        "+ including both text and images\n",
        "+ and looks ahead at what's coming...\n",
        "\n",
        "<br>\n",
        "\n",
        "When you've read the article, share a short paragraph that describes\n",
        "+ your thoughts on \"Should ChatGPT be called 'sentient'?\"  That is, is it \"thinking,\" in the way you use that word. Why or why not...\n",
        "+ or, your thoughts on the differences between ChatGPT's \"thinking\" and \"human thinking\": how would you describe those?\n",
        "+ or, share your thoughts on _which traditionally-human activity_ will ChatGPT have the largest influence on, over the next 2-3 years?\n",
        "\n",
        "<br>\n",
        "\n",
        "Also, **feel free to use ChatGPT** to write your response to these prompts above... If you do this, then:\n",
        "+ add your thoughts on how well ChatGPT was able to answer the prompt\n",
        "+ also, share whether you agree, disagree, or derive some other opinion with respect to ChatGPT's self-description!\n",
        "\n",
        "<br>\n",
        "\n",
        "It's an interesting era in which we live!"
      ],
      "metadata": {
        "id": "7pzngEXA4h8U"
      }
    },
    {
      "cell_type": "markdown",
      "source": [
        "### Feel free to use this cell for your thoughts\n",
        "\n",
        "... or ChatGPT's thoughts, and your thoughts about those!\n",
        "\n",
        "<br><br>\n",
        "Question:\n",
        "your thoughts on the differences between ChatGPT's \"thinking\" and \"human thinking\": how would you describe those?\n",
        "\n",
        "When it comes to ChatGPT's thinking, it is more logical and only considers the steps to complete the task at hand. For example, ChatGPT is useful in helping you complete assignments or create a workout plan. When it comes to human thinking, we take into account other factors like our feelings, emotions, and how our actions can make others feel. For example, when we plan our week out. We think about who we want to spend time with and we might rearrange our plans so they can fit into our schedules.\n",
        "\n",
        "\n",
        "<br><br>"
      ],
      "metadata": {
        "id": "dtcBswtz6M7y"
      }
    },
    {
      "cell_type": "markdown",
      "source": [
        "# Submitting...\n",
        "\n",
        "Be sure to submit the url of _your_ copy -- with the challenges, questions, and programs composed --\n",
        "+ to Canvas in the appropriate spot\n",
        "+ by the appropriate Frisay evening (any time)\n",
        "+ shared with me (ZD)  ``zdodds@gmail.com``\n",
        "\n",
        "Remember that there is lots of tutoring support, as well as office-hour support available...  \n",
        "\n",
        "<br>\n",
        "\n",
        "\n",
        "As a reminder, the programming parts of IST341 match the spirit of the course, in seeking, among other things:\n",
        "+ creativity/novelty\n",
        "+ personalization/individual context\n",
        "+ exploration and understanding (does it run?)"
      ],
      "metadata": {
        "id": "rNHGo2zHWUuo"
      }
    }
  ],
  "metadata": {
    "colab": {
      "provenance": []
    },
    "kernelspec": {
      "display_name": "Python 3",
      "name": "python3"
    },
    "language_info": {
      "name": "python"
    }
  },
  "nbformat": 4,
  "nbformat_minor": 0
}