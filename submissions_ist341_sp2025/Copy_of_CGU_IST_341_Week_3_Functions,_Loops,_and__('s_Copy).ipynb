{
  "cells": [
    {
      "cell_type": "markdown",
      "source": [
        "# Welcome back, IST 341!\n",
        "\n",
        "### _Assignment 3 Notebook: Functions, Loops, and Monte Carlo!_\n",
        "\n",
        "This week is functions first -- and all the rest.\n",
        "\n",
        "Featuring:\n",
        "+ A few self-similar function applications\n",
        "+ An introduction to _looping_ functions\n",
        "+ Monte Carlo Applications! The \"birthday room\" and \"sleepwalker\" (random walks)\n",
        "+ A reading and response on ChatGPT, naturally\n",
        "  + Feel free to ChatGPT it ...\n",
        "  + ... in which case, respond to its response!"
      ],
      "metadata": {
        "id": "UrkiOTiDEjwp"
      }
    },
    {
      "cell_type": "markdown",
      "source": [
        "### <font color=\"DodgerBlue\"><b>Make your own copy of this notebook (as in each week)</b></font>\n",
        "\n",
        "**Submitting** -- When you're ready to submit, be sure to\n",
        "+ **share** the notebook with the <font color=\"darkblue\">instructor</font> (_hi!_):\n",
        "   + `zdodds@gmail.com`\n",
        "+ and also **submit** the url to your notebook at the appropriate spot on Canvas\n"
      ],
      "metadata": {
        "id": "M7dzL4m4fPYf"
      }
    },
    {
      "cell_type": "markdown",
      "source": [
        "# <b>Leading example</b>:  ``i2I_once``\n",
        "\n",
        "The alien is seeking a capital ``'I'``!\n",
        "\n",
        "The function ``i2I_once(s)`` takes in a string ``s``\n",
        "From there,\n",
        "+ if ``s`` is the single character ``'i'``, the function returns a capital ``'I'``\n",
        "+ otherwise, the function returns the original input, ``s``\n",
        "\n",
        "Try it!\n",
        "\n",
        "<b>Shortcut</b>: <tt>control-/</tt> comments and uncomments..."
      ],
      "metadata": {
        "id": "9BqFJ1etLRzR"
      }
    },
    {
      "cell_type": "code",
      "source": [
        "# single-character substitution:\n",
        "\n",
        "def i2I_once(s):\n",
        "  \"\"\" i2I_once changes an input 'i' to an output 'I'\n",
        "      all other inputs remain the same\n",
        "  \"\"\"\n",
        "  if s == 'i':\n",
        "    return 'I'\n",
        "  else:\n",
        "    return s\n",
        "\n",
        "# tests are in the next cell..."
      ],
      "metadata": {
        "id": "1krVLOH0HQsC"
      },
      "execution_count": null,
      "outputs": []
    },
    {
      "cell_type": "code",
      "source": [
        "# Tests to try for i2I_once  (Try control-/ to uncomment them!)\n",
        "\n",
        "print(\"i2I_once('i') should be 'I' <->\", i2I_once('i'))\n",
        "print(\"i2I_once('j') should be 'j' <->\", i2I_once('j'))\n",
        "print()\n",
        "\n",
        "print(\"i2I_once('alien') should be 'alien' <->\", i2I_once('alien'))\n",
        "print(\"i2I_once('icicle') should be 'icicle' <->\", i2I_once('icicle'))"
      ],
      "metadata": {
        "id": "Y421urjHHTDd",
        "colab": {
          "base_uri": "https://localhost:8080/"
        },
        "outputId": "409e6b99-9c43-451a-f931-cc231fb0dbf2"
      },
      "execution_count": null,
      "outputs": [
        {
          "output_type": "stream",
          "name": "stdout",
          "text": [
            "i2I_once('i') should be 'I' <-> I\n",
            "i2I_once('j') should be 'j' <-> j\n",
            "\n",
            "i2I_once('alien') should be 'alien' <-> alien\n",
            "i2I_once('icicle') should be 'icicle' <-> icicle\n"
          ]
        }
      ]
    },
    {
      "cell_type": "markdown",
      "source": [
        "## <b>The problem</b>\n",
        "\n",
        "The \"problem\" is that ``i2I_once`` only works on single-character strings. But... <br> **we'd like it to work on <u>every</u> character in a string!**\n",
        "\n",
        "<br>\n",
        "\n",
        "## <b>The solution!</b>\n",
        "\n",
        "We create a second function, ``i2I_all(s)`` which\n",
        "+ calls ``i2I_once`` on the ***first*** character, ``s[0]``\n",
        "+ then, calls ``i2I_all`` on the ***rest***, ``s[1:]``\n",
        "\n",
        "<b>Important!</b> There needs to be a way to stop!\n",
        "+ The function checks if the input ``s`` has no characters...\n",
        "+ in that case, there is nothing to substitute, and the empty string ``''`` is returned\n",
        "\n",
        "Try it!\n",
        "\n"
      ],
      "metadata": {
        "id": "S3fIcroiHwp1"
      }
    },
    {
      "cell_type": "code",
      "source": [
        "# multiple-character substitution\n",
        "\n",
        "def i2I_all(s):\n",
        "  \"\"\" changes i to I for all characters in the input, s \"\"\"\n",
        "  if s == '':       # EMPTY case!\n",
        "    return ''\n",
        "  else:\n",
        "    return i2I_once(s[0]) + i2I_all(s[1:])  # FIRST and REST\n",
        "\n",
        "# tests are in the next cell..."
      ],
      "metadata": {
        "id": "BdvSdeIXHUHB"
      },
      "execution_count": null,
      "outputs": []
    },
    {
      "cell_type": "code",
      "source": [
        "i2I_all('aliiiiiiiiiiiiiiien')"
      ],
      "metadata": {
        "colab": {
          "base_uri": "https://localhost:8080/",
          "height": 35
        },
        "id": "o2Y4rRS1eIWr",
        "outputId": "ae8833aa-a762-46e6-cf07-54caa447ccd5"
      },
      "execution_count": null,
      "outputs": [
        {
          "output_type": "execute_result",
          "data": {
            "text/plain": [
              "'alIIIIIIIIIIIIIIIen'"
            ],
            "application/vnd.google.colaboratory.intrinsic+json": {
              "type": "string"
            }
          },
          "metadata": {},
          "execution_count": 5
        }
      ]
    },
    {
      "cell_type": "code",
      "source": [
        "# Tests to try for i2I_all\n",
        "\n",
        "print(\"i2I_all('alien') should be 'alIen' <->\", i2I_all('alien'))\n",
        "print(\"i2I_all('aliiien') should be 'alIIIen' <->\", i2I_all('aliiien'))\n",
        "print()\n",
        "\n",
        "print(\"i2I_all('icicle') should be 'IcIcle' <->\", i2I_all('icicle'))\n",
        "print(\"i2I_all('No eyes to see here') should be 'No eyes to see here' <->\", i2I_all('No eyes to see here'))"
      ],
      "metadata": {
        "id": "lX1tlDNbHVq-",
        "colab": {
          "base_uri": "https://localhost:8080/"
        },
        "outputId": "21ef7e97-b780-4e3d-819a-b46268947132"
      },
      "execution_count": null,
      "outputs": [
        {
          "output_type": "stream",
          "name": "stdout",
          "text": [
            "i2I_all('alien') should be 'alIen' <-> alIen\n",
            "i2I_all('aliiien') should be 'alIIIen' <-> alIIIen\n",
            "\n",
            "i2I_all('icicle') should be 'IcIcle' <-> IcIcle\n",
            "i2I_all('No eyes to see here') should be 'No eyes to see here' <-> No eyes to see here\n"
          ]
        }
      ]
    },
    {
      "cell_type": "markdown",
      "source": [
        "## <b>An <i>alternative</i> solution...</b>\n",
        "\n",
        "The above solution uses only conditionals (`if` and `else`) and function-calls. Because the function calls _itself_, it's called **recursive** .\n",
        "\n",
        "<br>\n",
        "\n",
        "An alternative approach -- and one that, to be honest, is more often used in practice, uses a **loop**.  Loops express _repetition_. It's a bit glib, but in one sense computers are really just machines for running loops... <font size=\"-2\">That said, the loops are almost always inside functions!</font>  \n",
        "\n",
        "## <b>The <i>Loop</i> solution!</b>\n",
        "\n",
        "We create a second solution, ``i2I_all_loop(s)`` which\n",
        "+ loops over each character, giving each one the name `c` - and then\n",
        "+ calls ``i2I_once`` on ***each*** of those characters, `c`\n",
        "+ and, meanwhile, adds up all of the transformed characters\n",
        "+ In the end, it returns the final **result**.\n",
        "\n",
        "Try it!"
      ],
      "metadata": {
        "id": "BSsaKb79M-pZ"
      }
    },
    {
      "cell_type": "code",
      "source": [
        "# multiple-character substitution\n",
        "\n",
        "def i2I_all_loop(s):\n",
        "  \"\"\" changes i to I for all characters in the input, s \"\"\"\n",
        "  result = ''        # the result starts as the EMPTY string!\n",
        "\n",
        "  for c in s:        # c is the name we are giving to EACH element in s (that is, each character in s)\n",
        "    result = result + i2I_once(c)   # each time, we add the new transformed output to the end of result\n",
        "    print(\"result is\", result)    # uncomment this to see the process, in action!\n",
        "\n",
        "  return result      # at the end, we return the final, completely-created result string!\n",
        "\n",
        "# tests are in the next cell..."
      ],
      "metadata": {
        "id": "Zar7ZreiOGAl"
      },
      "execution_count": null,
      "outputs": []
    },
    {
      "cell_type": "code",
      "source": [
        "# Tests to try for i2I_all_loop\n",
        "\n",
        "print(\"i2I_all_loop('alien') should be 'alIen' <->\", i2I_all_loop('alien'))\n",
        "print(\"i2I_all_loop('aliiien') should be 'alIIIen' <->\", i2I_all_loop('aliiien'))\n",
        "print()\n",
        "\n",
        "print(\"i2I_all_loop('icicle') should be 'IcIcle' <->\", i2I_all_loop('icicle'))\n",
        "print(\"i2I_all_loop('No eyes to see here') should be 'No eyes to see here' <->\", i2I_all_loop('No eyes to see here'))"
      ],
      "metadata": {
        "id": "8AUnOPghPEPJ",
        "colab": {
          "base_uri": "https://localhost:8080/"
        },
        "outputId": "3dc0bc3b-6245-4e3f-a152-c1430acfd87c"
      },
      "execution_count": null,
      "outputs": [
        {
          "output_type": "stream",
          "name": "stdout",
          "text": [
            "result is a\n",
            "result is al\n",
            "result is alI\n",
            "result is alIe\n",
            "result is alIen\n",
            "i2I_all_loop('alien') should be 'alIen' <-> alIen\n",
            "result is a\n",
            "result is al\n",
            "result is alI\n",
            "result is alII\n",
            "result is alIII\n",
            "result is alIIIe\n",
            "result is alIIIen\n",
            "i2I_all_loop('aliiien') should be 'alIIIen' <-> alIIIen\n",
            "\n",
            "result is I\n",
            "result is Ic\n",
            "result is IcI\n",
            "result is IcIc\n",
            "result is IcIcl\n",
            "result is IcIcle\n",
            "i2I_all_loop('icicle') should be 'IcIcle' <-> IcIcle\n",
            "result is N\n",
            "result is No\n",
            "result is No \n",
            "result is No e\n",
            "result is No ey\n",
            "result is No eye\n",
            "result is No eyes\n",
            "result is No eyes \n",
            "result is No eyes t\n",
            "result is No eyes to\n",
            "result is No eyes to \n",
            "result is No eyes to s\n",
            "result is No eyes to se\n",
            "result is No eyes to see\n",
            "result is No eyes to see \n",
            "result is No eyes to see h\n",
            "result is No eyes to see he\n",
            "result is No eyes to see her\n",
            "result is No eyes to see here\n",
            "i2I_all_loop('No eyes to see here') should be 'No eyes to see here' <-> No eyes to see here\n"
          ]
        }
      ]
    },
    {
      "cell_type": "markdown",
      "source": [
        "### Recursion expresses \"the future\"  (Wow!)\n",
        "\n",
        "In a sense, recursion's power is its ability to express <i>... and all the future stuff...</i>  \n",
        "\n",
        "\"Knowing\" or, at least, _calling_ the future is quite a feat!\n",
        "\n",
        "As an example, here is a number-guessing game,\n",
        "+ where it's the _computer_ that has to do the guessing:"
      ],
      "metadata": {
        "id": "KDcoGajZ4Hed"
      }
    },
    {
      "cell_type": "markdown",
      "source": [],
      "metadata": {
        "id": "gjvGXhHxoHDE"
      }
    },
    {
      "cell_type": "code",
      "source": [
        "#\n",
        "# Example of recursion-as-future:\n",
        "#\n",
        "\n",
        "from random import *\n",
        "\n",
        "def guess( hidden ):\n",
        "    \"\"\"\n",
        "        have the computer guess numbers until it gets the \"hidden\" value\n",
        "        return the number of guesses\n",
        "    \"\"\"\n",
        "    this_guess = choice( range(0,100) )  # 0 to 99, inclusive\n",
        "\n",
        "    if this_guess == hidden:\n",
        "        print(\"I guessed it!\")\n",
        "        return 1                         # it only took one guess!\n",
        "\n",
        "    else:\n",
        "        return 1 + guess( hidden )  # 1 for this guess, PLUS all future guesses!\n",
        "\n",
        "# test our function!\n",
        "guess(42)"
      ],
      "metadata": {
        "colab": {
          "base_uri": "https://localhost:8080/"
        },
        "id": "uB7xNCEW4gR9",
        "outputId": "fc86975a-790e-4070-b078-7d4a7fc1cf22"
      },
      "execution_count": null,
      "outputs": [
        {
          "output_type": "stream",
          "name": "stdout",
          "text": [
            "I guessed it!\n"
          ]
        },
        {
          "output_type": "execute_result",
          "data": {
            "text/plain": [
              "108"
            ]
          },
          "metadata": {},
          "execution_count": 20
        }
      ]
    },
    {
      "cell_type": "markdown",
      "source": [
        "## Loops or Recursion: _Your choice_ ...\n",
        "\n",
        "For these next-few functions, feel free to use loops or recursion.\n",
        "\n",
        "_Suggestion_:  &nbsp; Copy-and-edit the solutions above. Adapt them to the new problem at hand!\n",
        "\n",
        "_Disclaimer_: &nbsp; This is how ***all*** software is created in professional practice: adapting old software that had been solving similar problems!\n",
        "\n",
        "<br>\n",
        "\n",
        "<hr>\n",
        "\n",
        "<br>"
      ],
      "metadata": {
        "id": "pA1aLiC6OGz0"
      }
    },
    {
      "cell_type": "markdown",
      "source": [
        "### <font color=\"darkblue\"><b>Task #1</b></font>: ``spongebobbify_each(s)``\n",
        "\n",
        "The ``i2I_all`` and `i2I_all_loop` and ``i2I_once`` patterns are very powerful -- and very general. Even universal!\n",
        "\n",
        "For <b>task #1</b>, the goal is to write ``spongebobbify_each(s)`` whose goal is to return a randomly-capitalized version of the input string ``s``. For example,\n",
        "\n",
        "``spongebobbify_all('where's gary?')`` might return ``WhERe's gARy?``\n",
        "+ or, it might return ``wHEre'S GArY?``\n",
        "\n",
        "First, we share Python's built-in upper-case and lower-case functions:"
      ],
      "metadata": {
        "id": "E3dQ1H0xLjg_"
      }
    },
    {
      "cell_type": "code",
      "source": [
        "s = 'shout!'\n",
        "print(\"s is\", s)\n",
        "print(\"s.upper() is\", s.upper())"
      ],
      "metadata": {
        "id": "Vw6cf77XOHGi",
        "colab": {
          "base_uri": "https://localhost:8080/"
        },
        "outputId": "ef45100d-efeb-4976-febe-85aa48efd756"
      },
      "execution_count": null,
      "outputs": [
        {
          "output_type": "stream",
          "name": "stdout",
          "text": [
            "s is shout!\n",
            "s.upper() is SHOUT!\n"
          ]
        }
      ]
    },
    {
      "cell_type": "code",
      "source": [
        "s = 'WHISPER...'\n",
        "print(\"s is\", s)\n",
        "print(\"s.lower() is\", s.lower())"
      ],
      "metadata": {
        "id": "UWJ2vrgyOUC0",
        "colab": {
          "base_uri": "https://localhost:8080/"
        },
        "outputId": "b189a157-ddfb-4eec-ed96-3b03efe50bfc"
      },
      "execution_count": null,
      "outputs": [
        {
          "output_type": "stream",
          "name": "stdout",
          "text": [
            "s is WHISPER...\n",
            "s.lower() is whisper...\n"
          ]
        }
      ]
    },
    {
      "cell_type": "markdown",
      "source": [
        "Notice that\n",
        "+ ``s.upper()`` returns a fully upper-cased version of ``s``\n",
        "+ ``s.lower()`` returns a fully lower-cased version of ``s``\n",
        "+ in both cases, non-letters are left alone..."
      ],
      "metadata": {
        "id": "Ja9-9JfLOiFn"
      }
    },
    {
      "cell_type": "markdown",
      "source": [
        "### We provide the ``once`` ...\n",
        "\n",
        "We provide the one-character version, ``spongebobbify_once(s)``\n",
        "+ Notice that it uses the ``random.choice`` function\n",
        "+ It was the same one we used in rock-paper-scissors\n",
        "\n",
        "Try it out:"
      ],
      "metadata": {
        "id": "R6i_1gFfN_7D"
      }
    },
    {
      "cell_type": "code",
      "source": [
        "# We provide the one-character version, in this case:\n",
        "import random                  #  get the random library\n",
        "\n",
        "def spongebobbify_once(s):\n",
        "  \"\"\" returns the input, randomly \"upper-cased\" or \"lower-cased\" \"\"\"\n",
        "  result = random.choice( [s.upper(), s.lower()] )   # choose one at random\n",
        "  return result\n",
        "\n",
        "# Tests in the next cell..."
      ],
      "metadata": {
        "id": "LiIQoH8hHXP-"
      },
      "execution_count": null,
      "outputs": []
    },
    {
      "cell_type": "code",
      "source": [
        "# Tests to try for spongebobbify_once\n",
        "# There are not \"right\" answers, so we just test them:\n",
        "\n",
        "print(spongebobbify_once('F is for friends who do stuff together!'))\n",
        "print(spongebobbify_once('I knew I shouldn\\'t have gotten out of bed today.'))\n",
        "print()\n",
        "\n",
        "# but we want to use it on single letters!\n",
        "print(spongebobbify_once('a'))\n",
        "print(spongebobbify_once('b'))\n",
        "print(spongebobbify_once('c'))\n",
        "print(spongebobbify_once('d'))\n",
        "print(spongebobbify_once('e'))"
      ],
      "metadata": {
        "id": "uYfr7ERRWaev",
        "colab": {
          "base_uri": "https://localhost:8080/"
        },
        "outputId": "11983d19-a77b-4cb3-f789-879c5307048f"
      },
      "execution_count": null,
      "outputs": [
        {
          "output_type": "stream",
          "name": "stdout",
          "text": [
            "f is for friends who do stuff together!\n",
            "i knew i shouldn't have gotten out of bed today.\n",
            "\n",
            "a\n",
            "b\n",
            "c\n",
            "D\n",
            "E\n"
          ]
        }
      ]
    },
    {
      "cell_type": "markdown",
      "source": [
        "## Now, ``spongebobify_each(s)``\n",
        "\n",
        "<b>Your task</b> is to write ``spongebobify_each(s)``\n",
        "\n",
        "Use the `i2I_all(s)` OR `i2I_all_loop(s)` as guidance and as a template/example. <br>\n",
        "Then, adapt from there:\n",
        "+ How much can be re-used?\n",
        "+ How much works as-is?\n",
        "+ Experiment!\n",
        "\n",
        "It's a remarkably versatile approach!\n",
        "\n",
        "Try our ~~tests~~ quotes -- and add three tests/quotes of your own:\n"
      ],
      "metadata": {
        "id": "nBFQKUs9YY1K"
      }
    },
    {
      "cell_type": "code",
      "source": [
        "# Here, write your  spongebobify_all(s)\n",
        "#\n",
        "import random\n",
        "\n",
        "def spongebobbify_all(s):\n",
        "  \"\"\" returns the input, randomly \"upper-cased\" or \"lower-cased\" \"\"\"\n",
        "  if s == '':       # EMPTY case!\n",
        "    return ''\n",
        "  else:\n",
        "    return spongebobbify_once(s[0]) + spongebobbify_all(s[1:])  # FIRST and REST\n",
        "\n",
        "\n",
        "# Try our tests (next cell) and add three of your own...\n",
        "# Preferably sBoB QuoTeS..."
      ],
      "metadata": {
        "id": "fGGZ9ApSZEW1"
      },
      "execution_count": null,
      "outputs": []
    },
    {
      "cell_type": "code",
      "source": [
        "# Tests to try for spongebobbify_once\n",
        "# There are not \"right\" answers, so we just test them:\n",
        "\n",
        "print(spongebobbify_all('F is for friends who do stuff together!'))\n",
        "print(spongebobbify_all('I knew I shouldn\\'t have gotten out of bed today.'))\n",
        "print(spongebobbify_all('The inner machinations of my mind are an enigma. - Patrick'))\n",
        "print(spongebobbify_all(\"And why are you acting so nervous? And why are you sweating so much and why do you look so hungry? and- You like Krabby Patties, don't you, Squidward?\")) #Iconic\n",
        "print(spongebobbify_all('Hello Operator, Get me the navy!.... O_O Squidward, the Robots have taken over the navy!!!')) #Squidward: THE ROBOTS HAVE TAKEN OVER THE WORLD.... OUR WORLD!!\n",
        "print(spongebobbify_all('Smitty Warbenjargermanjensen, He was number #1!!!')) #He just wanted his hat back...\n",
        "# Your tests here:"
      ],
      "metadata": {
        "id": "geZNGG45ZMlJ",
        "colab": {
          "base_uri": "https://localhost:8080/",
          "height": 217
        },
        "outputId": "6f8698f0-3136-4cff-a51e-de12f9123b70"
      },
      "execution_count": null,
      "outputs": [
        {
          "output_type": "error",
          "ename": "NameError",
          "evalue": "name 'spongebobbify_all' is not defined",
          "traceback": [
            "\u001b[0;31m---------------------------------------------------------------------------\u001b[0m",
            "\u001b[0;31mNameError\u001b[0m                                 Traceback (most recent call last)",
            "\u001b[0;32m<ipython-input-1-8da4c38cf4bb>\u001b[0m in \u001b[0;36m<cell line: 0>\u001b[0;34m()\u001b[0m\n\u001b[1;32m      2\u001b[0m \u001b[0;31m# There are not \"right\" answers, so we just test them:\u001b[0m\u001b[0;34m\u001b[0m\u001b[0;34m\u001b[0m\u001b[0m\n\u001b[1;32m      3\u001b[0m \u001b[0;34m\u001b[0m\u001b[0m\n\u001b[0;32m----> 4\u001b[0;31m \u001b[0mprint\u001b[0m\u001b[0;34m(\u001b[0m\u001b[0mspongebobbify_all\u001b[0m\u001b[0;34m(\u001b[0m\u001b[0;34m'F is for friends who do stuff together!'\u001b[0m\u001b[0;34m)\u001b[0m\u001b[0;34m)\u001b[0m\u001b[0;34m\u001b[0m\u001b[0;34m\u001b[0m\u001b[0m\n\u001b[0m\u001b[1;32m      5\u001b[0m \u001b[0mprint\u001b[0m\u001b[0;34m(\u001b[0m\u001b[0mspongebobbify_all\u001b[0m\u001b[0;34m(\u001b[0m\u001b[0;34m'I knew I shouldn\\'t have gotten out of bed today.'\u001b[0m\u001b[0;34m)\u001b[0m\u001b[0;34m)\u001b[0m\u001b[0;34m\u001b[0m\u001b[0;34m\u001b[0m\u001b[0m\n\u001b[1;32m      6\u001b[0m \u001b[0mprint\u001b[0m\u001b[0;34m(\u001b[0m\u001b[0mspongebobbify_all\u001b[0m\u001b[0;34m(\u001b[0m\u001b[0;34m'The inner machinations of my mind are an enigma. - Patrick'\u001b[0m\u001b[0;34m)\u001b[0m\u001b[0;34m)\u001b[0m\u001b[0;34m\u001b[0m\u001b[0;34m\u001b[0m\u001b[0m\n",
            "\u001b[0;31mNameError\u001b[0m: name 'spongebobbify_all' is not defined"
          ]
        }
      ]
    },
    {
      "cell_type": "markdown",
      "source": [
        "### <font color=\"darkblue\"><b>Task #2</b></font>: ``encode_each(s)`` and ``decode_each(s)``\n",
        "\n",
        "also ``encode_once(s)`` and ``decode_once(s)``\n",
        "\n",
        "<br>\n",
        "\n",
        "_Any_ substitution is possible with our key idea:\n",
        "+ replace the **first** element: the ``once``\n",
        "+ continue the process with the **rest**: another ``all``\n",
        "+ be sure to **stop** (``return ''``) when no input remains!\n",
        "\n",
        "For <b>task #2</b>, we invite you to create your own ``encode`` and ``decode`` functions:\n",
        "\n",
        "<br>\n",
        "\n",
        "Your encode (``encode_once`` and ``encode_all``) should\n",
        "+ replace at least ten letters with other characters\n",
        "  + your choice - other letters, punctuation, emojis ``\"☕⚽ 🦔\"`` or some other one-to-one substitution\n",
        "  + totally ok to substitute more than ten: less readable\n",
        "  + it can't be random, because it needs to be reversible!\n",
        "  + use the loop approach or the recursion approach -- up to you! (Both work...)\n",
        "\n",
        "<br>\n",
        "\n",
        "Your decode (``decode_once`` and ``decode_each``) should\n",
        "+ reverse the effects of your encode functions\n",
        "\n",
        "<br>\n",
        "\n",
        "Then, run our tests -- and add three tests of your own\n",
        "+ let's say at least a sentence, or so, in size..."
      ],
      "metadata": {
        "id": "PTNNYYC3TBrA"
      }
    },
    {
      "cell_type": "code",
      "source": [
        "#\n",
        "# Use this cell -- and/or create more cells -- for your encode and decode functions\n",
        "# There will be four functions in total!\n",
        "#\n",
        "#SOMETIMES I AM MAD AND WANT TO YELL IN CAPS LOCK\n",
        "#sometimes I'm too lazy to caps lock\n",
        "#Does this count as ten or more letters??\n",
        "\n",
        "def encode_each(s):\n",
        "    return s.upper()\n",
        "\n",
        "def encode_all(s):\n",
        "  return encode_once(text)\n",
        "\n",
        "def decode_each(s):\n",
        "    return s.lower()\n",
        "\n",
        "def decode_all(s):\n",
        "  return decode_once(text)\n",
        "\n",
        "\n",
        "# Our tests are below. Then, add three tests of your own:"
      ],
      "metadata": {
        "id": "Ofu844mMVsjg"
      },
      "execution_count": null,
      "outputs": []
    },
    {
      "cell_type": "code",
      "source": [
        "CGU = \"\"\"Claremont Graduate University prepares individuals to be leaders\n",
        "for positive change in the world. Unique in its transdisciplinary approach,\n",
        "the university is dedicated to the creation, dissemination, and application\n",
        "of new knowledge and diverse perspectives through research, practice,\n",
        "creative works, and community engagement.\n",
        "\"\"\"\n",
        "\n",
        "E = encode_each(CGU)\n",
        "print(\"encode_all(CGU) is\", E)\n",
        "\n",
        "D = decode_each(E)\n",
        "print(\"decode_all(E) is\", D)  # should be the original!\n",
        "\n",
        "\n",
        "CMC = \"\"\"Claremont McKenna College's mission is to educate its students\n",
        "for thoughtful and productive lives and responsible leadership in\n",
        "business, government, and the professions, and to support faculty\n",
        "and student scholarship that contribute to intellectual vitality\n",
        "and the understanding of public policy issues.\"\"\"\n",
        "\n",
        "E = encode_each(CMC)\n",
        "print(\"encode_all(CMC) is\", E)\n",
        "\n",
        "D = decode_each(E)\n",
        "print(\"decode_all(E) is\", D)  # should be the original!\n",
        "\n",
        "\n",
        "SCR = \"\"\"The mission of Scripps College is to educate women to\n",
        "develop their intellects and talents through active participation\n",
        "in a community of scholars, so that as graduates they may contribute\n",
        "to society through public and private lives of leadership, service,\n",
        "integrity, and creativity..\"\"\"\n",
        "\n",
        "E = encode_each(SCR)\n",
        "print(\"encode_all(SCR) is\", E)\n",
        "\n",
        "D = decode_each(E)\n",
        "print(\"decode_all(E) is\", D)  # should be the original!\n",
        "\n"
      ],
      "metadata": {
        "id": "LzyRnUL6V1uw",
        "colab": {
          "base_uri": "https://localhost:8080/"
        },
        "outputId": "e67426c4-d88c-4ad1-9263-f27ec45d4594"
      },
      "execution_count": null,
      "outputs": [
        {
          "output_type": "stream",
          "name": "stdout",
          "text": [
            "encode_all(CGU) is CLAREMONT GRADUATE UNIVERSITY PREPARES INDIVIDUALS TO BE LEADERS\n",
            "FOR POSITIVE CHANGE IN THE WORLD. UNIQUE IN ITS TRANSDISCIPLINARY APPROACH,\n",
            "THE UNIVERSITY IS DEDICATED TO THE CREATION, DISSEMINATION, AND APPLICATION\n",
            "OF NEW KNOWLEDGE AND DIVERSE PERSPECTIVES THROUGH RESEARCH, PRACTICE,\n",
            "CREATIVE WORKS, AND COMMUNITY ENGAGEMENT.\n",
            "\n",
            "decode_all(E) is claremont graduate university prepares individuals to be leaders\n",
            "for positive change in the world. unique in its transdisciplinary approach,\n",
            "the university is dedicated to the creation, dissemination, and application\n",
            "of new knowledge and diverse perspectives through research, practice,\n",
            "creative works, and community engagement.\n",
            "\n",
            "encode_all(CMC) is CLAREMONT MCKENNA COLLEGE'S MISSION IS TO EDUCATE ITS STUDENTS\n",
            "FOR THOUGHTFUL AND PRODUCTIVE LIVES AND RESPONSIBLE LEADERSHIP IN\n",
            "BUSINESS, GOVERNMENT, AND THE PROFESSIONS, AND TO SUPPORT FACULTY\n",
            "AND STUDENT SCHOLARSHIP THAT CONTRIBUTE TO INTELLECTUAL VITALITY\n",
            "AND THE UNDERSTANDING OF PUBLIC POLICY ISSUES.\n",
            "decode_all(E) is claremont mckenna college's mission is to educate its students\n",
            "for thoughtful and productive lives and responsible leadership in\n",
            "business, government, and the professions, and to support faculty\n",
            "and student scholarship that contribute to intellectual vitality\n",
            "and the understanding of public policy issues.\n",
            "encode_all(SCR) is THE MISSION OF SCRIPPS COLLEGE IS TO EDUCATE WOMEN TO\n",
            "DEVELOP THEIR INTELLECTS AND TALENTS THROUGH ACTIVE PARTICIPATION\n",
            "IN A COMMUNITY OF SCHOLARS, SO THAT AS GRADUATES THEY MAY CONTRIBUTE\n",
            "TO SOCIETY THROUGH PUBLIC AND PRIVATE LIVES OF LEADERSHIP, SERVICE,\n",
            "INTEGRITY, AND CREATIVITY..\n",
            "decode_all(E) is the mission of scripps college is to educate women to\n",
            "develop their intellects and talents through active participation\n",
            "in a community of scholars, so that as graduates they may contribute\n",
            "to society through public and private lives of leadership, service,\n",
            "integrity, and creativity..\n"
          ]
        }
      ]
    },
    {
      "cell_type": "code",
      "source": [
        "#\n",
        "# Above - or here - include three encode/decode tests of your own...\n",
        "question = \"Does this count as over 10 letters, for the sake of the grade? I think the only other way to encode something is to define each individual letter\"\n",
        "E = encode_each(question)\n",
        "print(E)\n",
        "\n",
        "D = decode_each(E)\n",
        "print(D)  # should be the original!\n",
        "\n",
        "possible_solution = \"ChatGPT says to define a map and decode using DECODING_MAP = {v: k for k, v in ENCODING_MAP.items()} but that's kind of confusing...\"\n",
        "E = encode_each(possible_solution)\n",
        "print(E)\n",
        "\n",
        "D = decode_each(E)\n",
        "print(D)  # should be the original!\n",
        "\n",
        "dilemma = \"Some days I feel like I have a decent grasp on python on a basic level but the sky is the limit when it comes to creativity and I can't get passed hello world statements\"\n",
        "E = encode_each(dilemma)\n",
        "print(E)\n",
        "\n",
        "D = decode_each(E)\n",
        "print(D)  # should be the original!"
      ],
      "metadata": {
        "id": "sJ9Wcp1GeCgj",
        "colab": {
          "base_uri": "https://localhost:8080/"
        },
        "outputId": "69107503-9731-4b97-d058-20030b18bb61"
      },
      "execution_count": null,
      "outputs": [
        {
          "output_type": "stream",
          "name": "stdout",
          "text": [
            "DOES THIS COUNT AS OVER 10 LETTERS, FOR THE SAKE OF THE GRADE? I THINK THE ONLY OTHER WAY TO ENCODE SOMETHING IS TO DEFINE EACH INDIVIDUAL LETTER\n",
            "does this count as over 10 letters, for the sake of the grade? i think the only other way to encode something is to define each individual letter\n",
            "CHATGPT SAYS TO DEFINE A MAP AND DECODE USING DECODING_MAP = {V: K FOR K, V IN ENCODING_MAP.ITEMS()} BUT THAT'S KIND OF CONFUSING...\n",
            "chatgpt says to define a map and decode using decoding_map = {v: k for k, v in encoding_map.items()} but that's kind of confusing...\n",
            "SOME DAYS I FEEL LIKE I HAVE A DECENT GRASP ON PYTHON ON A BASIC LEVEL BUT THE SKY IS THE LIMIT WHEN IT COMES TO CREATIVITY AND I CAN'T GET PASSED HELLO WORLD STATEMENTS\n",
            "some days i feel like i have a decent grasp on python on a basic level but the sky is the limit when it comes to creativity and i can't get passed hello world statements\n"
          ]
        }
      ]
    },
    {
      "cell_type": "markdown",
      "source": [
        "### <font color=\"darkblue\"><b>Task #3: Counting!</b></font> &nbsp; ``vwl_once(s)`` and ``vwl_count(s)``\n",
        "\n",
        "<br>\n",
        "\n",
        "This technique handles _any_ substitution, even numeric ones!\n",
        "\n",
        "Next, our goal will be to ***count*** the number of vowels in an input string ``s``:\n",
        "+ we use ``vwl_once(s)`` to give a count of ``1`` to vowels\n",
        "+ and we give a count of ``0`` to everything that's not a vowel\n",
        "+ For now, we'll count ``aeiou`` as vowels, and their uppercase selves\n",
        "\n",
        "Then, **you** will write  ``vwl_count(s)`` to handle arbitrary-sized inputs!\n",
        "+ The first functions is written, as shown below.\n",
        "+ The second one is prepared, and your task is to complete it...\n",
        "+ It will be very much like previous functions!\n",
        "\n",
        "<br>\n",
        "\n",
        "Then, try it out -- analyze the \"vowel-content\" of the three mission statements above -- and test your own and a friend's prose-paragraphs:"
      ],
      "metadata": {
        "id": "yquk1xgWXz2z"
      }
    },
    {
      "cell_type": "code",
      "source": [
        "#\n",
        "# Here are vwl_once and vwl_all\n",
        "#\n",
        "\n",
        "def vwl_once(s):\n",
        "  \"\"\" returns a score of 1 for single-character vowels aeiou\n",
        "      returns a score of 0 for everything else\n",
        "  \"\"\"\n",
        "  if len(s) != 1:    # not a single-character? score is 0\n",
        "    return 0\n",
        "  else:\n",
        "    s = s.lower()    # simplify by making s lower case\n",
        "    if s in 'aeiou':      # if s is in that string, it's a vowel: score is 1\n",
        "      return 1\n",
        "    else:                 # if not: score is 0\n",
        "      return 0\n",
        "\n",
        "\n",
        "def vwl_count(s):\n",
        "  \"\"\" returns the total \"vowel-score for an input string s\n",
        "      that is, we return the number of vowels in s\n",
        "  \"\"\"\n",
        "  vowels = 0\n",
        "  for c in s: #I got help from chatgpt which used \"char\", but the google colab auto generated a c.. does c always stand for char..?\n",
        "      vowels += vwl_once(c)\n",
        "  return vowels\n",
        "  # you need to write this one!\n",
        "  # use the previous examples (especially the \"each\" examples) as a guide! :-)\n",
        "\n",
        "\n",
        "\n",
        "# Tests and tests-to-write are in the next cells:"
      ],
      "metadata": {
        "id": "ffMaiI26eIZQ"
      },
      "execution_count": null,
      "outputs": []
    },
    {
      "cell_type": "code",
      "source": [
        "print(\"vwl_count('English usually has lots of vowels.') should be 10 <->\", vwl_count('English usually has lots of vowels.'))\n",
        "print(\"The CGU mission statement has this many vowels: (let's see!) <->\", vwl_count(CGU))"
      ],
      "metadata": {
        "id": "YCtNmfnZetpe",
        "colab": {
          "base_uri": "https://localhost:8080/"
        },
        "outputId": "5e9c2dbf-6cf5-4200-d5e9-7a482d9c863b"
      },
      "execution_count": null,
      "outputs": [
        {
          "output_type": "stream",
          "name": "stdout",
          "text": [
            "vwl_count('English usually has lots of vowels.') should be 10 <-> 10\n",
            "The CGU mission statement has this many vowels: (let's see!) <-> 110\n"
          ]
        }
      ]
    },
    {
      "cell_type": "code",
      "source": [
        "#\n",
        "# Part 1 task: determine which mission statement has the most vowels-per-character!\n",
        "print(vwl_count(CGU))\n",
        "print(vwl_count(CMC))\n",
        "print(vwl_count(SCR))\n",
        "#        Hint: count the vowels, then use len to determine vowels-per-character!\n",
        "#        Compare the three strings already defined above:   CGU,  CMC,  and SCR\n",
        "\n",
        "\n"
      ],
      "metadata": {
        "id": "Vy2Q-bAdcIzB",
        "colab": {
          "base_uri": "https://localhost:8080/"
        },
        "outputId": "622d547e-9796-4fa8-d46a-ea8e30c6068f"
      },
      "execution_count": null,
      "outputs": [
        {
          "output_type": "stream",
          "name": "stdout",
          "text": [
            "110\n",
            "93\n",
            "91\n"
          ]
        }
      ]
    },
    {
      "cell_type": "code",
      "source": [
        "#\n",
        "# Part 2 task: determine whose prose is more vowel-rich?\n",
        "# + find a paragraph of prose you've written\n",
        "# + find a paragraph a friend has written (or another one that you have!)\n",
        "#\n",
        "# Assign each to a variable:\n",
        "\n",
        "YOURS =  \"\"\"There once was a man from Peru;who dreamed he was eating his shoe. He woke with a fright in the middle of the night to find that his dream had come true.\"\"\"\n",
        " #Gary read this in one of spongebob's dreams...\n",
        "print(vwl_count(YOURS))\n",
        "\n",
        "THEIRS = \"\"\"  meow, meow, meow, meow, meow, meow, meow\n",
        "\"\"\" #Sigh.. he has such a way with words... - Sandy\n",
        "print(vwl_count(THEIRS))\n",
        "#\n",
        "# This analysis is similar to the mission statements...\n",
        "#\n",
        "print('Seems like Gary might be more well-versed in dreams')"
      ],
      "metadata": {
        "id": "qNmOUfXrckDv",
        "colab": {
          "base_uri": "https://localhost:8080/"
        },
        "outputId": "5200042e-e44b-48c0-fa52-7b17aae5e9b7"
      },
      "execution_count": null,
      "outputs": [
        {
          "output_type": "stream",
          "name": "stdout",
          "text": [
            "46\n",
            "14\n",
            "Seems like Gary might be more well-versed in dreams\n"
          ]
        }
      ]
    },
    {
      "cell_type": "markdown",
      "metadata": {
        "id": "keRyNeHE3gF4"
      },
      "source": [
        "<br>\n",
        "\n",
        "# Loops!\n",
        "\n",
        "in addition, this notebook combines last week's ideas (functions and slicing/indexing) with the most important time-saving capability of programming languages: <i>repetition</i>\n",
        "\n",
        "That is, we're diving into <i><b>loops</b></i>\n",
        "\n",
        "In addition, we explore more deeply a library we used in the rock-paper-scissors problem, namely the <b><tt>random</tt></b> library.\n",
        "\n",
        "Together, <i>randomness</i> and <i>loops</i> are a powerful combination. Later in this notebook, you will create a <i>Monte Carlo simulations</i> using randomness-within-loops.\n",
        "\n",
        "<hr>\n",
        "\n",
        "## Onward!\n",
        "\n",
        "<br>"
      ]
    },
    {
      "cell_type": "code",
      "execution_count": null,
      "metadata": {
        "id": "djYWrO0u3gGA"
      },
      "outputs": [],
      "source": [
        "\n",
        "# this imports the library named random\n",
        "\n",
        "import random\n",
        "\n",
        "# once it's imported, you are able to call random.choice(L) for any sequence L\n",
        "# try it:"
      ]
    },
    {
      "cell_type": "code",
      "execution_count": null,
      "metadata": {
        "id": "RPrqK2Sr3gGC",
        "colab": {
          "base_uri": "https://localhost:8080/"
        },
        "outputId": "e1f39052-3413-4ffc-ab05-7386e1e87d27"
      },
      "outputs": [
        {
          "output_type": "stream",
          "name": "stdout",
          "text": [
            "result is claremont\n"
          ]
        }
      ],
      "source": [
        "import random\n",
        "# Try out random.choice -- several times!\n",
        "result = random.choice( ['claremont', 'graduate', 'university'] )\n",
        "print(\"result is\", result)"
      ]
    },
    {
      "cell_type": "code",
      "execution_count": null,
      "metadata": {
        "id": "AReUp5wT3gGD",
        "colab": {
          "base_uri": "https://localhost:8080/"
        },
        "outputId": "87b3618c-55d9-4dbd-f731-f59974090358"
      },
      "outputs": [
        {
          "output_type": "stream",
          "name": "stdout",
          "text": [
            "result is university\n",
            "result is graduate\n",
            "result is graduate\n",
            "result is claremont\n",
            "Total is 1\n",
            "result is graduate\n",
            "result is claremont\n",
            "Total is 2\n",
            "result is university\n",
            "result is university\n",
            "result is university\n",
            "result is graduate\n"
          ]
        }
      ],
      "source": [
        "\n",
        "# let's see a loop do this 10 times!\n",
        "total = 0\n",
        "\n",
        "for i in range(10):                # loop 10 times\n",
        "    result = random.choice( ['claremont', 'graduate', 'university'] ) # choose\n",
        "    print(\"result is\", result)     # print\n",
        "    if result == 'claremont':\n",
        "      total = total + 1\n",
        "\n",
        "      print(\"Total is\", total)"
      ]
    },
    {
      "cell_type": "code",
      "source": [
        "random.choice( 'mudd' )"
      ],
      "metadata": {
        "colab": {
          "base_uri": "https://localhost:8080/",
          "height": 35
        },
        "id": "H_Jc6MKUhqbE",
        "outputId": "b47e0932-50cb-4904-852d-7df6c001fdf5"
      },
      "execution_count": null,
      "outputs": [
        {
          "output_type": "execute_result",
          "data": {
            "text/plain": [
              "'m'"
            ],
            "application/vnd.google.colaboratory.intrinsic+json": {
              "type": "string"
            }
          },
          "metadata": {},
          "execution_count": 68
        }
      ]
    },
    {
      "cell_type": "code",
      "source": [
        "list(range (0,10))[-3:]"
      ],
      "metadata": {
        "colab": {
          "base_uri": "https://localhost:8080/"
        },
        "id": "xPWSIaVtiFte",
        "outputId": "493ed1a8-1e4f-41f3-fb48-82c0c72f4de3"
      },
      "execution_count": null,
      "outputs": [
        {
          "output_type": "execute_result",
          "data": {
            "text/plain": [
              "[7, 8, 9]"
            ]
          },
          "metadata": {},
          "execution_count": 69
        }
      ]
    },
    {
      "cell_type": "code",
      "source": [
        "random.uniform(41, 43)"
      ],
      "metadata": {
        "colab": {
          "base_uri": "https://localhost:8080/"
        },
        "id": "Fogb-bXrirY6",
        "outputId": "96f7e1ac-2a94-4333-9048-d0bcf7c93374"
      },
      "execution_count": null,
      "outputs": [
        {
          "output_type": "execute_result",
          "data": {
            "text/plain": [
              "41.920883609321876"
            ]
          },
          "metadata": {},
          "execution_count": 72
        }
      ]
    },
    {
      "cell_type": "code",
      "source": [
        "random.choice( '1,2,3,4')"
      ],
      "metadata": {
        "colab": {
          "base_uri": "https://localhost:8080/",
          "height": 35
        },
        "id": "JJ_xDJ2rkKIl",
        "outputId": "b22094b2-c6c4-4b78-ec34-3763e97c27d8"
      },
      "execution_count": null,
      "outputs": [
        {
          "output_type": "execute_result",
          "data": {
            "text/plain": [
              "'4'"
            ],
            "application/vnd.google.colaboratory.intrinsic+json": {
              "type": "string"
            }
          },
          "metadata": {},
          "execution_count": 73
        }
      ]
    },
    {
      "cell_type": "code",
      "execution_count": null,
      "metadata": {
        "id": "8aAzqlsj3gGF"
      },
      "outputs": [],
      "source": [
        "\n",
        "#\n",
        "# you can also import a library can be imported by using this line:\n",
        "\n",
        "from random import *\n",
        "\n",
        "# when the above line is run, you are able to call choice(L) for any sequence L\n",
        "#\n",
        "# note that you won't need random.choice(L)\n",
        "# let's try it!"
      ]
    },
    {
      "cell_type": "code",
      "execution_count": null,
      "metadata": {
        "id": "SKvXsosu3gGG",
        "colab": {
          "base_uri": "https://localhost:8080/"
        },
        "outputId": "b699845c-266f-48e2-aace-2fad0be502d6"
      },
      "outputs": [
        {
          "output_type": "stream",
          "name": "stdout",
          "text": [
            "result is rock\n"
          ]
        }
      ],
      "source": [
        "\n",
        "result = choice( [\"rock\", \"paper\", \"scissors\"] )\n",
        "print(\"result is\", result)"
      ]
    },
    {
      "cell_type": "code",
      "execution_count": null,
      "metadata": {
        "id": "KMZMwPDR3gGH",
        "colab": {
          "base_uri": "https://localhost:8080/"
        },
        "outputId": "2d2143c1-f164-4d1b-e339-3ea0fddab07e"
      },
      "outputs": [
        {
          "output_type": "stream",
          "name": "stdout",
          "text": [
            "[27, 28, 29, 30, 31, 32, 33, 34, 35, 36, 37, 38, 39, 40, 41, 42, 43, 44, 45, 46, 47, 48, 49, 50, 51, 52, 53, 54, 55, 56, 57, 58, 59, 60, 61, 62, 63, 64, 65, 66, 67, 68, 69, 70, 71, 72, 73, 74, 75, 76, 77, 78, 79, 80, 81, 82, 83, 84, 85, 86, 87, 88, 89, 90, 91, 92, 93, 94, 95, 96, 97, 98, 99]\n"
          ]
        }
      ],
      "source": [
        "\n",
        "# Python can create lists of any integers you'd like...\n",
        "L = list(range(27,100))    # try different values; try omitting/changing the 0\n",
        "print(L)"
      ]
    },
    {
      "cell_type": "code",
      "execution_count": null,
      "metadata": {
        "id": "hjbvKcOx3gGI",
        "colab": {
          "base_uri": "https://localhost:8080/"
        },
        "outputId": "5ad91cc8-fda5-403d-d598-4918bdb8139b"
      },
      "outputs": [
        {
          "output_type": "stream",
          "name": "stdout",
          "text": [
            "result is 24\n"
          ]
        }
      ],
      "source": [
        "\n",
        "# combining these, we can choose random integers from a list\n",
        "result = choice( range(0,100) )   # from 0 to 99\n",
        "print(\"result is\", result)"
      ]
    },
    {
      "cell_type": "code",
      "execution_count": null,
      "metadata": {
        "id": "-vct4ZWf3gGJ",
        "colab": {
          "base_uri": "https://localhost:8080/"
        },
        "outputId": "5b6696c0-09d3-43e6-e5fa-7f1bdcc8057a"
      },
      "outputs": [
        {
          "output_type": "stream",
          "name": "stdout",
          "text": [
            "result is 84\n",
            "result is 75\n",
            "result is 45\n",
            "result is 84\n",
            "result is 70\n",
            "result is 34\n",
            "result is 27\n",
            "result is 71\n",
            "result is 13\n",
            "result is 33\n"
          ]
        }
      ],
      "source": [
        "\n",
        "# let's run this 10 times!\n",
        "for i in range(0,10):\n",
        "    result = choice( range(0,100) )   # from 0 to 99\n",
        "    print(\"result is\", result)"
      ]
    },
    {
      "cell_type": "code",
      "execution_count": null,
      "metadata": {
        "id": "jqs9df3l3gGJ",
        "colab": {
          "base_uri": "https://localhost:8080/"
        },
        "outputId": "194778ed-fc55-4e6f-d84f-46bd40f7972b"
      },
      "outputs": [
        {
          "output_type": "stream",
          "name": "stdout",
          "text": [
            "i is 0\n",
            "i is 1\n",
            "i is 2\n"
          ]
        }
      ],
      "source": [
        "\n",
        "# let's get more comfortable with loops...\n",
        "\n",
        "for i in [0,1,2]:     # Key: What variable is being defined and set?!\n",
        "    print(\"i is\", i)\n"
      ]
    },
    {
      "cell_type": "code",
      "execution_count": null,
      "metadata": {
        "id": "eb2C9OKS3gGJ",
        "colab": {
          "base_uri": "https://localhost:8080/"
        },
        "outputId": "5e64fccf-d6ce-4ee3-8671-e28e33ebcb4a"
      },
      "outputs": [
        {
          "output_type": "stream",
          "name": "stdout",
          "text": [
            "i is 0\n",
            "i is 1\n",
            "i is 2\n"
          ]
        }
      ],
      "source": [
        "\n",
        "# Note that range(0,3) generates [0,1,2]\n",
        "\n",
        "for i in range(0,3):     # Key: What variable is being defined and set?!\n",
        "    print(\"i is\", i)\n",
        "\n",
        "# When would you _not_ want to use range for integers?"
      ]
    },
    {
      "cell_type": "code",
      "execution_count": null,
      "metadata": {
        "id": "H8qzyqaS3gGU",
        "colab": {
          "base_uri": "https://localhost:8080/"
        },
        "outputId": "3d57d154-2c57-40a7-b6fb-64c227989039"
      },
      "outputs": [
        {
          "output_type": "stream",
          "name": "stdout",
          "text": [
            "x is 2\n",
            "x is 15\n",
            "x is 2025\n"
          ]
        }
      ],
      "source": [
        "\n",
        "# Usually i is for counting, x is for other things (wise, not req.)\n",
        "\n",
        "for x in [2,15,2025]:     # Key: the loop variable\n",
        "    print(\"x is\", x)\n",
        "\n",
        "# When would you _not_ want to use range for integers?"
      ]
    },
    {
      "cell_type": "code",
      "source": [
        "age = 41"
      ],
      "metadata": {
        "id": "sRoPxNcEx4dZ"
      },
      "execution_count": null,
      "outputs": []
    },
    {
      "cell_type": "code",
      "source": [
        "age = age + 1"
      ],
      "metadata": {
        "id": "5fsg9f_3x6VH"
      },
      "execution_count": null,
      "outputs": []
    },
    {
      "cell_type": "code",
      "source": [
        "age += 1"
      ],
      "metadata": {
        "id": "mDsWdVA0x8k_"
      },
      "execution_count": null,
      "outputs": []
    },
    {
      "cell_type": "code",
      "source": [
        "age"
      ],
      "metadata": {
        "colab": {
          "base_uri": "https://localhost:8080/"
        },
        "id": "i70nTy6qx_k1",
        "outputId": "7cdf1e10-50d1-4074-fe77-ac42356598c3"
      },
      "execution_count": null,
      "outputs": [
        {
          "output_type": "execute_result",
          "data": {
            "text/plain": [
              "43"
            ]
          },
          "metadata": {},
          "execution_count": 39
        }
      ]
    },
    {
      "cell_type": "code",
      "execution_count": null,
      "metadata": {
        "id": "SCG79oyN3gGU",
        "colab": {
          "base_uri": "https://localhost:8080/"
        },
        "outputId": "7b0bc553-8d66-4388-bff3-843920282c77"
      },
      "outputs": [
        {
          "output_type": "stream",
          "name": "stdout",
          "text": [
            "Happy birthday!\n",
            "Happy birthday!\n",
            "Happy birthday!\n",
            "Happy birthday!\n",
            "Happy birthday!\n",
            "Happy birthday!\n",
            "Happy birthday!\n",
            "Happy birthday!\n",
            "Happy birthday!\n",
            "Happy birthday!\n",
            "Happy birthday!\n",
            "Happy birthday!\n",
            "Happy birthday!\n",
            "Happy birthday!\n",
            "Happy birthday!\n",
            "Happy birthday!\n",
            "Happy birthday!\n",
            "Happy birthday!\n",
            "Happy birthday!\n",
            "Happy birthday!\n",
            "Happy birthday!\n",
            "Happy birthday!\n",
            "Happy birthday!\n",
            "Happy birthday!\n",
            "Happy birthday!\n",
            "Happy birthday!\n",
            "Happy birthday!\n",
            "Happy birthday!\n",
            "Happy birthday!\n",
            "Happy birthday!\n",
            "Happy birthday!\n",
            "Happy birthday!\n",
            "Happy birthday!\n",
            "Happy birthday!\n",
            "Happy birthday!\n",
            "Happy birthday!\n",
            "Happy birthday!\n",
            "Happy birthday!\n",
            "Happy birthday!\n",
            "Happy birthday!\n",
            "Happy birthday!\n",
            "Happy birthday!\n"
          ]
        }
      ],
      "source": [
        "\n",
        "# How could we get this to print \"Happy birthday!\" 42 times?\n",
        "\n",
        "for i in range(0,42):\n",
        "    print('Happy birthday!')"
      ]
    },
    {
      "cell_type": "markdown",
      "metadata": {
        "id": "7KFo8pX73gGV"
      },
      "source": [
        "<br>\n",
        "\n",
        "#### Functions often use loops... Watch out!\n",
        "+ <tt><b>return</b></tt> is <i>more powerful</i> than the loop\n",
        "+ <tt><b>return</b></tt> <i>always</i> wins!\n",
        "\n",
        "Take a look:"
      ]
    },
    {
      "cell_type": "code",
      "execution_count": null,
      "metadata": {
        "id": "hzE-We7i3gGV"
      },
      "outputs": [],
      "source": [
        "\n",
        "# return _after_ a loop:\n",
        "\n",
        "def funA():\n",
        "    for i in range(0,3):\n",
        "        print(\"i is\", i)\n",
        "    return\n",
        "# why does this not print anything?!??\n"
      ]
    },
    {
      "cell_type": "code",
      "execution_count": null,
      "metadata": {
        "id": "n4nsuJUZ3gGW"
      },
      "outputs": [],
      "source": [
        "\n",
        "# return _within_ a loop:\n",
        "\n",
        "def funB():\n",
        "    for i in range(0,3):\n",
        "       print(\"i is\", i)\n",
        "       return\n",
        "\n",
        "# What do we need here?  (Is this what you expect?!)\n"
      ]
    },
    {
      "cell_type": "code",
      "execution_count": null,
      "metadata": {
        "id": "KTm78DFX3gGW"
      },
      "outputs": [],
      "source": [
        "\n",
        "# let's add an if statement (a conditional)\n",
        "#              ... to test different indentations\n",
        "\n",
        "def funB1():\n",
        "    for i in range(1,6):\n",
        "        if i%2 == 0:\n",
        "            print(\"i is\", i)\n",
        "            return\n"
      ]
    },
    {
      "cell_type": "markdown",
      "metadata": {
        "id": "U1e4MYjc3gGW"
      },
      "source": [
        "<br>\n",
        "\n",
        "#### Accumulators\n",
        "+ a <i>very</i> common approach is to use a loop to <i>accumulate</i> a desired result\n",
        "+ the idea is to start the result at a \"nothing\" value, which is not always zero...\n",
        "+ then operate on it until it becomes the final result!\n",
        "\n",
        "#### factorial\n",
        "+ <pre>fac(5) == 1*2*3*4*5</pre>\n",
        "+ <pre>fac(N) == 1*2*3*4* ... *(N-2)*(N-1)*N</pre>\n",
        "\n",
        "#### addup\n",
        "+ <pre>addup(5) == 1+2+3+4+5</pre>\n",
        "+ <pre>addup(N) == 1+2+3+4+ ... +(N-2)+(N-1)+N</pre>\n",
        "\n",
        "<br>"
      ]
    },
    {
      "cell_type": "code",
      "execution_count": null,
      "metadata": {
        "id": "NZhaHVNV3gGY",
        "colab": {
          "base_uri": "https://localhost:8080/"
        },
        "outputId": "884074fc-2def-440e-e279-8bfe1b4cb5b1"
      },
      "outputs": [
        {
          "output_type": "stream",
          "name": "stdout",
          "text": [
            "10\n"
          ]
        }
      ],
      "source": [
        "\n",
        "# an add-em-up function\n",
        "\n",
        "def addup(N):\n",
        "    \"\"\" adds from 1 through N (inclusive)\n",
        "    \"\"\"\n",
        "    result = 0\n",
        "\n",
        "    for x in range(1,N+1):\n",
        "        result = result + x\n",
        "\n",
        "    return result\n",
        "\n",
        "# addup(4) should be 0+1+2+3+4 == 10\n",
        "print(addup(4))"
      ]
    },
    {
      "cell_type": "code",
      "execution_count": null,
      "metadata": {
        "id": "JscgqV1Q3gGY",
        "colab": {
          "base_uri": "https://localhost:8080/"
        },
        "outputId": "6652e6bd-2a38-494f-f9e1-b37671466d46"
      },
      "outputs": [
        {
          "output_type": "stream",
          "name": "stdout",
          "text": [
            "24\n"
          ]
        }
      ],
      "source": [
        "\n",
        "# an factorial function\n",
        "\n",
        "def fac(N):\n",
        "    \"\"\" a factorial function, returns the factorial of the input N\n",
        "    \"\"\"\n",
        "    result = 1\n",
        "\n",
        "    for x in range(1,N+1):\n",
        "        result = result*x\n",
        "\n",
        "    return result\n",
        "\n",
        "# fac(4) should be 1*2*3*4 == 24\n",
        "print(fac(4))"
      ]
    },
    {
      "cell_type": "code",
      "execution_count": null,
      "metadata": {
        "id": "RchpwL0V3gGZ",
        "colab": {
          "base_uri": "https://localhost:8080/"
        },
        "outputId": "d785e737-4bc0-48fc-a9c4-ef659d2454ea"
      },
      "outputs": [
        {
          "output_type": "stream",
          "name": "stdout",
          "text": [
            "40\n",
            "40\n",
            "fore!\n",
            "tee\n",
            "tttto\n"
          ]
        }
      ],
      "source": [
        "\n",
        "'Loops we tried in our \"breakout quiz\"'\n",
        "\n",
        "# upper left\n",
        "result = 1\n",
        "for x in [2,5,1,4]:\n",
        "    result *= x\n",
        "print(result)\n",
        "\n",
        "# upper right\n",
        "x = 0\n",
        "for i in range(4):\n",
        "    x += 10\n",
        "print(x)\n",
        "\n",
        "# lower left\n",
        "L = ['golf','fore!','club','tee']\n",
        "for i in range(len(L)):\n",
        "    if i%2 == 1:\n",
        "        print(L[i])\n",
        "\n",
        "# lower right\n",
        "S = 'time to think this over! '\n",
        "result = ''\n",
        "for i in range(len(S)):\n",
        "    if S[i-1] == ' ':\n",
        "        result += S[i]\n",
        "print(result)\n"
      ]
    },
    {
      "cell_type": "code",
      "execution_count": null,
      "metadata": {
        "id": "FNuv6DoJ3gGa",
        "colab": {
          "base_uri": "https://localhost:8080/"
        },
        "outputId": "8eb6cc51-b8dd-4468-a266-4333ddcae521"
      },
      "outputs": [
        {
          "output_type": "stream",
          "name": "stdout",
          "text": [
            "Start!\n"
          ]
        }
      ],
      "source": [
        "\n",
        "# staging area...\n",
        "\n",
        "print(\"Start!\")\n"
      ]
    },
    {
      "cell_type": "markdown",
      "source": [
        "### <font color=\"darkblue\"><b>Task #4: For Looping!</b></font>\n",
        "\n",
        "Below, create your functions that use loops:\n",
        "+ ``summer(L)``\n",
        "+ ``summedOdds(L)``\n",
        "+ ``summedExcept(exc,L)``\n",
        "+ ``summedUpto(exc,L)``\n",
        "\n",
        "Each one has full detail in its description:"
      ],
      "metadata": {
        "id": "PbR-kxDD6MGA"
      }
    },
    {
      "cell_type": "code",
      "execution_count": null,
      "metadata": {
        "id": "E5d6udae3gGa"
      },
      "outputs": [],
      "source": [
        "\n",
        "#\n",
        "# Functions with for loops to write:\n",
        "#\n",
        "# for loops:\n",
        "#\n",
        "# summer(L)               returns the sum of the #'s in L\n",
        "# summedOdds(L)           returns the sum of the _odd_ #'s in L\n",
        "# summedExcept(exc, L)    returns the sum of all #'s in L not equal to exc\n",
        "#                                 exc is the \"exception\"\n",
        "# summedUpto(exc, L)      returns the sum of all #'s in L upto exc (not including exc)\n",
        "\n",
        "\n",
        "# examples:\n",
        "#       summer( [2,3,4,1] )    ->  10\n",
        "#   summedOdds( [2,3,4,1] )    ->   4\n",
        "# summedExcept( 4, [2,3,4,1] ) ->   6\n",
        "#   summedUpto( 4, [2,3,4,1] ) ->   5"
      ]
    },
    {
      "cell_type": "code",
      "execution_count": null,
      "metadata": {
        "id": "IxqR0uRC3gGa",
        "colab": {
          "base_uri": "https://localhost:8080/"
        },
        "outputId": "c178a039-de3d-4859-a59f-f969e821f4ae"
      },
      "outputs": [
        {
          "output_type": "stream",
          "name": "stdout",
          "text": [
            "summer( [2,3,4,1] )  should be 10 <-> 10\n",
            "summer( [35,3,4,100] )  should be 142 <-> 142\n"
          ]
        }
      ],
      "source": [
        "#\n",
        "# here, write the summer function!\n",
        "#\n",
        "\n",
        "def summer(L):\n",
        "    \"\"\" uses a for loop to add and return all of the elements in L\n",
        "    \"\"\"\n",
        "    total = 0  # Initialize the total sum to 0\n",
        "    for num in L:  # Iterate through each element in the list\n",
        "        total += num  # Add the current element to the total\n",
        "    return total  # Return the final sum\n",
        "\n",
        "\n",
        "# Here are two tests -- be sure to try them!\n",
        "print(\"summer( [2,3,4,1] )  should be 10 <->\", summer( [2,3,4,1] ))\n",
        "print(\"summer( [35,3,4,100] )  should be 142 <->\", summer( [35,3,4,100] ))"
      ]
    },
    {
      "cell_type": "code",
      "execution_count": null,
      "metadata": {
        "id": "QN6ZBN9w3gGa",
        "colab": {
          "base_uri": "https://localhost:8080/"
        },
        "outputId": "678bfe1f-f40a-46c0-a948-01e70ae2af21"
      },
      "outputs": [
        {
          "output_type": "stream",
          "name": "stdout",
          "text": [
            "summedOdds( [2,3,4,1] )  should be 4 <-> 4\n",
            "summedOdds( [35,3,4,100] )  should be 38 <-> 38\n"
          ]
        }
      ],
      "source": [
        "#\n",
        "# here, write the summedOdds function!\n",
        "#\n",
        "\n",
        "def summedOdds(L):\n",
        "    \"\"\" uses a for loop to add and return all of the _odd_ elements in L\n",
        "    \"\"\"\n",
        "    total = 0\n",
        "    for num in L:\n",
        "        if num % 2 != 0:\n",
        "            total += num\n",
        "    return total\n",
        "\n",
        "\n",
        "\n",
        "# Here are two tests -- be sure to try them!\n",
        "print(\"summedOdds( [2,3,4,1] )  should be 4 <->\", summedOdds( [2,3,4,1] ))\n",
        "print(\"summedOdds( [35,3,4,100] )  should be 38 <->\", summedOdds( [35,3,4,100] ))"
      ]
    },
    {
      "cell_type": "code",
      "execution_count": null,
      "metadata": {
        "id": "9XkwO1Yb3gGb",
        "colab": {
          "base_uri": "https://localhost:8080/"
        },
        "outputId": "c5d72350-84aa-4343-bf0c-581a9359dc60"
      },
      "outputs": [
        {
          "output_type": "stream",
          "name": "stdout",
          "text": [
            "summedExcept( 4, [2,3,4,1] )  should be 6 <-> 6\n",
            "summedExcept( 4, [35,3,4,100] )  should be 138 <-> 138\n"
          ]
        }
      ],
      "source": [
        "#\n",
        "# here, write the summedExcept function!\n",
        "#\n",
        "\n",
        "def summedExcept( exc, L ):\n",
        "    \"\"\" Sums all elements in L that are not equal to exc, which must be defined in the first part of the function\n",
        "    \"\"\"\n",
        "    total = 0\n",
        "    for num in L:\n",
        "        if num != exc:\n",
        "            total += num\n",
        "    return total\n",
        "\n",
        "\n",
        "# Here are two tests -- be sure to try them!\n",
        "print(\"summedExcept( 4, [2,3,4,1] )  should be 6 <->\", summedExcept( 4, [2,3,4,1] ))\n",
        "print(\"summedExcept( 4, [35,3,4,100] )  should be 138 <->\", summedExcept( 4, [35,3,4,100] ))"
      ]
    },
    {
      "cell_type": "code",
      "execution_count": null,
      "metadata": {
        "id": "FpoOHpGc3gGb",
        "colab": {
          "base_uri": "https://localhost:8080/"
        },
        "outputId": "c6b21c37-f32b-4ae7-9ed0-afb24200f2aa"
      },
      "outputs": [
        {
          "output_type": "stream",
          "name": "stdout",
          "text": [
            "summedUpto( 4, [2,3,4,1] )  should be 5 <-> 5\n",
            "summedUpto( 100, [35,3,4,100] )  should be 42 <-> 42\n"
          ]
        }
      ],
      "source": [
        "#\n",
        "# here, write the summedUpto function!\n",
        "#\n",
        "\n",
        "def summedUpto( exc, L ):\n",
        "    \"\"\" Sums all elements in L until it reaches the value of exc, which must be defined in the first part of the function\n",
        "    \"\"\"\n",
        "    total = 0\n",
        "    for num in L:\n",
        "        if num < exc:\n",
        "            total += num\n",
        "        else:\n",
        "            break #break sounds like it just breaks all of the code..\n",
        "    return total\n",
        "\n",
        "\n",
        "\n",
        "\n",
        "\n",
        "# Here are two tests -- be sure to try them!\n",
        "print(\"summedUpto( 4, [2,3,4,1] )  should be 5 <->\", summedUpto( 4, [2,3,4,1] ))\n",
        "print(\"summedUpto( 100, [35,3,4,100] )  should be 42 <->\", summedUpto( 100, [35,3,4,100] ))"
      ]
    },
    {
      "cell_type": "code",
      "execution_count": null,
      "metadata": {
        "id": "im7h59uw3gGb",
        "colab": {
          "base_uri": "https://localhost:8080/"
        },
        "outputId": "3410658c-b2c1-4fd7-db68-0a95c6a2388a"
      },
      "outputs": [
        {
          "output_type": "execute_result",
          "data": {
            "text/plain": [
              "69"
            ]
          },
          "metadata": {},
          "execution_count": 145
        }
      ],
      "source": [
        "\n",
        "#\n",
        "# Example while loop: the \"guessing game\"\n",
        "#\n",
        "\n",
        "from random import *\n",
        "\n",
        "def guess( hidden ):\n",
        "    \"\"\"\n",
        "        have the computer guess numbers until it gets the \"hidden\" value\n",
        "        return the number of guesses\n",
        "    \"\"\"\n",
        "    guess = -1      # start with a wrong guess and don't count it as a guess\n",
        "    number_of_guesses = 0   # start with no guesses made so far...\n",
        "\n",
        "    while guess != hidden:\n",
        "        guess = choice( range(0,100) )  # 0 to 99, inclusive\n",
        "        number_of_guesses += 1\n",
        "\n",
        "    return number_of_guesses\n",
        "\n",
        "# test our function!\n",
        "guess(42)"
      ]
    },
    {
      "cell_type": "markdown",
      "source": [
        "### <font color=\"darkblue\"><b>Task #5: While Looping!</b></font>\n",
        "\n",
        "Below, create your functions that use _while_ loops:\n",
        "+ ``guess_between(low,high)``\n",
        "+ ``listTilRepeat(high)``\n",
        "\n",
        "Each one has more detail in its description.\n",
        "\n",
        "Notice that the ``listTilRepeat`` function ***is*** the birthday paradox!"
      ],
      "metadata": {
        "id": "A68UyzcD6W4g"
      }
    },
    {
      "cell_type": "code",
      "execution_count": null,
      "metadata": {
        "id": "Sib6asIv3gGn"
      },
      "outputs": [],
      "source": [
        "\n",
        "#\n",
        "# Functions with while loops to write:\n",
        "#\n",
        "\n",
        "# guess_between(low,high) #like guess, but until it gets a number anywhere between\n",
        "#                         low and high. Specifically, until it guesses\n",
        "#                         less than high, and greater than or equal to low.\n",
        "#\n",
        "#\n",
        "# listTilRepeat(high)     accumulates a list of values in range(0,high) until one repeats\n",
        "#                         and returns the whole list\n",
        "#\n",
        "\n",
        "\n",
        "# examples (don't forget the randomness will change things!)\n",
        "#\n",
        "# guess_between(40,50)   ->   8    (on average, around 10)\n",
        "#\n",
        "# listTilRepeat(10)      ->   [4, 7, 8, 3, 7]     (the final # must be a repeat)\n",
        "# listTilRepeat(10)      ->   [2, 1, 9, 9]     (the final # must be a repeat)\n"
      ]
    },
    {
      "cell_type": "code",
      "execution_count": null,
      "metadata": {
        "id": "eAbbImBL3gGv"
      },
      "outputs": [],
      "source": [
        "#\n",
        "# here, write guess_between\n",
        "#\n",
        "import random\n",
        "def guess_between(low,high):\n",
        "\n",
        "    \"\"\" guesses a # from 0 to 99 (inclusive) until\n",
        "        it gets one that is strictly less than high and\n",
        "        greater than or equal to low\n",
        "        Then, this function returns the total # of guesses made\n",
        "    \"\"\"\n",
        "    guess_count = 0\n",
        "    while True:\n",
        "      guess = random.randint(0,99)\n",
        "      guess_count += 1\n",
        "      if low <= guess < high:\n",
        "        return guess_count"
      ]
    },
    {
      "cell_type": "code",
      "source": [
        "#\n",
        "# be sure to test your guess_between here -- and leave the test in the notebook!\n",
        "#\n",
        "\n",
        "# Example 1\n",
        "print(guess_between(40, 50))  # Guesses until a number between 40 and 49 is found\n",
        "\n",
        "# Example 2\n",
        "print(guess_between(0, 10))  # Guesses until a number between 0 and 9 is found\n",
        "\n",
        "# Example 3\n",
        "print(guess_between(90, 100))  # Guesses until a number between 90 and 99 is found"
      ],
      "metadata": {
        "id": "wrh7eQOHAWi0",
        "colab": {
          "base_uri": "https://localhost:8080/"
        },
        "outputId": "477ec820-67fb-46e6-b436-d9d472e9d788"
      },
      "execution_count": null,
      "outputs": [
        {
          "output_type": "stream",
          "name": "stdout",
          "text": [
            "1\n",
            "7\n",
            "4\n"
          ]
        }
      ]
    },
    {
      "cell_type": "code",
      "execution_count": null,
      "metadata": {
        "id": "9HnVqdj83gGw",
        "colab": {
          "base_uri": "https://localhost:8080/"
        },
        "outputId": "387e4089-b183-435c-9fe0-39f2b09fbc43"
      },
      "outputs": [
        {
          "output_type": "stream",
          "name": "stdout",
          "text": [
            "Before: L is [3, 4]\n",
            " After: L is [3, 4, 42]\n"
          ]
        }
      ],
      "source": [
        "\n",
        "# Try out adding elements to Lists\n",
        "\n",
        "L = [3,4]\n",
        "print(\"Before: L is\", L)\n",
        "\n",
        "guess = 42\n",
        "L = L + [guess]\n",
        "print(\" After: L is\", L)"
      ]
    },
    {
      "cell_type": "code",
      "execution_count": null,
      "metadata": {
        "id": "7v9qoep83gGx"
      },
      "outputs": [],
      "source": [
        "#\n",
        "# here, write listTilRepeat\n",
        "#\n",
        "import random\n",
        "\n",
        "def listTilRepeat(high):\n",
        "    \"\"\"\n",
        "    Accumulates random guesses into a list until a repeat is found.\n",
        "    Returns the list, with the final element being a repeat of a previous element.\n",
        "    \"\"\"\n",
        "    seen = set()  # To keep track of numbers already seen\n",
        "    result = []   # To store the accumulated list\n",
        "    while True:\n",
        "        num = random.randint(0, high - 1)  # Generate a random number in [0, high)\n",
        "        if num in seen:  # If the number has been seen before, stop\n",
        "            result.append(num)  # Include the repeated number in the result\n",
        "            return result\n",
        "        seen.add(num)  # Add the number to the set of seen numbers\n",
        "        result.append(num)  # Add the number to the result list\n",
        "\n",
        "    \"\"\" this f'n accumulates random guesses into a list, L, until a repeat is found\n",
        "        it then returns the list (the final element should be repeated, somewhere)\n",
        "    \"\"\""
      ]
    },
    {
      "cell_type": "code",
      "source": [
        "#\n",
        "# be sure to test your listTilRepeat here -- and leave the test in the notebook!\n",
        "#\n",
        "# Example 1\n",
        "print(listTilRepeat(10))  # Guesses until a number repeats in the range [0, 9]\n",
        "\n",
        "# Example 2\n",
        "print(listTilRepeat(5))  # Guesses until a number repeats in the range [0, 4]\n",
        "\n",
        "# Example 3\n",
        "print(listTilRepeat(20))  # Guesses until a number repeats in the range [0, 19]\n"
      ],
      "metadata": {
        "id": "iWvncComAdAa",
        "colab": {
          "base_uri": "https://localhost:8080/"
        },
        "outputId": "079580c0-7856-4f21-8b23-cb17c742d51f"
      },
      "execution_count": null,
      "outputs": [
        {
          "output_type": "stream",
          "name": "stdout",
          "text": [
            "[1, 9, 8, 3, 5, 1]\n",
            "[3, 1, 4, 0, 4]\n",
            "[13, 6, 5, 11, 6]\n"
          ]
        }
      ]
    },
    {
      "cell_type": "code",
      "execution_count": null,
      "metadata": {
        "id": "Y8bY1Hag3gGx",
        "colab": {
          "base_uri": "https://localhost:8080/"
        },
        "outputId": "254f4c13-4ee7-4aab-86fe-eae72f40cc83"
      },
      "outputs": [
        {
          "output_type": "stream",
          "name": "stdout",
          "text": [
            "24\n"
          ]
        }
      ],
      "source": [
        "\n",
        "# The birthday paradox is the fact that\n",
        "#     listTilRepeat(365) has surprisingly few elements!\n",
        "#\n",
        "# Run listTilRepeat(365) a few times and print its _length_ each time\n",
        "#     (Don't print the lists... it's too much to digest.)\n",
        "listTilRepeat(365)\n",
        "print (len(listTilRepeat(365)))\n",
        "# To many people, the results feel counterintuitive!"
      ]
    },
    {
      "cell_type": "markdown",
      "metadata": {
        "id": "rGp1vbmb3gf5"
      },
      "source": [
        "<br>\n",
        "\n",
        "# Monte Carlo simulations\n",
        "+ ... are repeated actions that involve repetition and randomness\n",
        "+ that is, loops!\n",
        "\n",
        "In fact, the guessing and birthday challenges above _are_ examples of Monte Carlo simulations.\n",
        "\n",
        "Next, you'll try a few more:\n",
        "+ Our in-class guessing game, dice-rolling challenge, and three-curtain challenge...\n",
        "+ Then, you'll try the \"sleepwalker\" (a single random walker)\n",
        "\n",
        "Finally, you'll adapt the single random walker to a two-walker simulation of your own design! There are lots of ideas:\n",
        "+ Have two random walkers \"race\" to the middle (which might be a poptart...)\n",
        "+ Have two random walkers \"race\" to the walls\n",
        "+ Have them wander until they find each other\n",
        "+ Have the walls close in on them!\n",
        "+ Have them chase another object that's moving around...\n",
        "+ ... and so on!\n",
        "\n",
        "The key is to have\n",
        "+ **two** independently-wandering \"actors\"\n",
        "+ within a \"line\" or \"world\" that you can print out...\n",
        "+ ... with a backstory that you've invented,\n",
        "+ and then animate the result!\n",
        "\n",
        "<br>\n",
        "\n",
        "Looking forward to it!"
      ]
    },
    {
      "cell_type": "code",
      "execution_count": null,
      "metadata": {
        "id": "TAw-VXXQ3gf6",
        "colab": {
          "base_uri": "https://localhost:8080/"
        },
        "outputId": "8e88c5a0-b47c-4a5f-9d7b-8571e1f6eca5"
      },
      "outputs": [
        {
          "output_type": "execute_result",
          "data": {
            "text/plain": [
              "312"
            ]
          },
          "metadata": {},
          "execution_count": 158
        }
      ],
      "source": [
        "\n",
        "#\n",
        "# Example while loop: the \"guessing game\"\n",
        "#\n",
        "\n",
        "from random import *\n",
        "\n",
        "def guess( hidden ):\n",
        "    \"\"\"\n",
        "        have the computer guess numbers until it gets the \"hidden\" value\n",
        "        return the number of guesses\n",
        "    \"\"\"\n",
        "    guess = hidden - 1      # start with a wrong guess + don't count it as a guess\n",
        "    number_of_guesses = 0   # start with no guesses made so far...\n",
        "\n",
        "    while guess != hidden:\n",
        "        guess = choice( range(0,100) )  # 0 to 99, inclusive\n",
        "        number_of_guesses += 1\n",
        "\n",
        "    return number_of_guesses\n",
        "\n",
        "# test our function!\n",
        "guess(42)"
      ]
    },
    {
      "cell_type": "code",
      "execution_count": null,
      "metadata": {
        "id": "pMj48CN63gf8",
        "colab": {
          "base_uri": "https://localhost:8080/"
        },
        "outputId": "a2ba5955-9cd1-4b5e-ccbc-690ac7fce374"
      },
      "outputs": [
        {
          "output_type": "stream",
          "name": "stdout",
          "text": [
            "run 0 roll: 2 2 🙂\n",
            "run 1 roll: 4 5  \n",
            "run 2 roll: 1 2  \n",
            "run 3 roll: 4 4 🙂\n",
            "run 4 roll: 1 2  \n",
            "run 5 roll: 3 5  \n",
            "run 6 roll: 4 2  \n",
            "run 7 roll: 3 5  \n",
            "run 8 roll: 5 3  \n",
            "run 9 roll: 5 4  \n"
          ]
        },
        {
          "output_type": "execute_result",
          "data": {
            "text/plain": [
              "2"
            ]
          },
          "metadata": {},
          "execution_count": 10
        }
      ],
      "source": [
        "import time\n",
        "#\n",
        "# Example Monte Carlo simulation: rolling two dice and counting doubles\n",
        "#\n",
        "\n",
        "from random import *\n",
        "\n",
        "def count_doubles( num_rolls ):\n",
        "    \"\"\"\n",
        "        have the computer roll two six-sided dice, counting the # of doubles\n",
        "        (same value on both dice)\n",
        "        Then, return the number of doubles...\n",
        "    \"\"\"\n",
        "    numdoubles = 0       # start with no doubles so far...\n",
        "\n",
        "    for i in range(0,num_rolls):   # roll repeatedly: i keeps track\n",
        "        d1 = choice( [1,2,3,4,5,6] )  # 0 to 6, inclusive\n",
        "        d2 = choice( range(1,7) )     # 0 to 6, inclusive\n",
        "        if d1 == d2:\n",
        "            numdoubles += 1\n",
        "            you = \"🙂\"\n",
        "        else:\n",
        "            you = \" \"\n",
        "\n",
        "        print(\"run\", i, \"roll:\", d1, d2, you, flush=True)\n",
        "        time.sleep(.01)\n",
        "\n",
        "    return numdoubles\n",
        "\n",
        "# test our function!\n",
        "count_doubles(10)"
      ]
    },
    {
      "cell_type": "code",
      "source": [
        "def sumN( N ):\n",
        "  result = 0\n",
        "  for x in range(1,N+1):\n",
        "    print(\"x is\", x)\n",
        "    result += x\n",
        "  return result\n",
        "  sumN(4) #this didn't result anything, refer to lecture"
      ],
      "metadata": {
        "id": "lzc0WnGs0pgA"
      },
      "execution_count": null,
      "outputs": []
    },
    {
      "cell_type": "code",
      "execution_count": null,
      "metadata": {
        "id": "k4rkSYX_3gf9",
        "colab": {
          "base_uri": "https://localhost:8080/"
        },
        "outputId": "f15c1aa1-ae74-4615-d9ad-e136cfdcf14b"
      },
      "outputs": [
        {
          "output_type": "stream",
          "name": "stdout",
          "text": [
            "run 1 you lose...\n",
            "run 2 you lose...\n",
            "run 3 you lose...\n",
            "run 4 you lose...\n",
            "run 5 you lose...\n",
            "run 6 you lose...\n",
            "run 7 you lose...\n",
            "run 8 you  Win!!!\n",
            "run 9 you lose...\n",
            "run 10 you lose...\n"
          ]
        },
        {
          "output_type": "execute_result",
          "data": {
            "text/plain": [
              "1"
            ]
          },
          "metadata": {},
          "execution_count": 159
        }
      ],
      "source": [
        "\n",
        "#\n",
        "# Example Monte Carlo simulation: the Monte-Carlo Monte Hall paradox\n",
        "#\n",
        "\n",
        "import random\n",
        "import time\n",
        "\n",
        "def count_wins( N, original_choice, stay_or_switch ):\n",
        "    \"\"\"\n",
        "        run the Monte Hall paradox N times, with\n",
        "        original_choice, which can be 1, 2, or 3 and\n",
        "        stay_or_switch, which can be \"stay\" or \"switch\"\n",
        "        Count the number of wins and return that number.\n",
        "    \"\"\"\n",
        "    numwins = 0       # start with no wins so far...\n",
        "\n",
        "    for i in range(1,N+1):      # run repeatedly: i keeps track\n",
        "        win_curtain = random.choice([1,2,3])   # the curtain with the grand prize\n",
        "        original_choice = original_choice      # just a reminder that we have this variable\n",
        "        stay_or_switch = stay_or_switch        # a reminder that we have this, too\n",
        "\n",
        "        result = \"\"\n",
        "        if original_choice == win_curtain and stay_or_switch == \"stay\": result = \" Win!!!\"\n",
        "        elif original_choice == win_curtain and stay_or_switch == \"switch\": result = \"lose...\"\n",
        "        elif original_choice != win_curtain and stay_or_switch == \"stay\": result = \"lose...\"\n",
        "        elif original_choice != win_curtain and stay_or_switch == \"switch\": result = \" Win!!!\"\n",
        "\n",
        "        print(\"run\", i, \"you\", result, flush=True)\n",
        "        time.sleep(.025)\n",
        "\n",
        "        if result == \" Win!!!\":\n",
        "            numwins += 1\n",
        "\n",
        "\n",
        "    return numwins\n",
        "\n",
        "# test our three-curtain-game, many times:\n",
        "count_wins(10, 1, \"stay\")"
      ]
    },
    {
      "cell_type": "code",
      "execution_count": null,
      "metadata": {
        "id": "MawBqtpX3gf-"
      },
      "outputs": [],
      "source": [
        "\n",
        "\n",
        "# More Monte Carlo simulations!\n",
        "\n",
        "#\n",
        "# Example of a random-walk (but no animation is intended here...)\n",
        "#\n",
        "\n",
        "import random\n",
        "\n",
        "def rs():\n",
        "    \"\"\" One random step \"\"\"\n",
        "    return random.choice([-1, 1])\n",
        "\n",
        "\n",
        "def rpos(start,N):\n",
        "    \"\"\" wander from start for N steps, printing as we go\n",
        "        return the position at the end (the final \"current\" position)\n",
        "    \"\"\"\n",
        "    current = start        # our current position begins at start...\n",
        "\n",
        "    for i in range(N):     # step repeatedly:  i keeps track from 0..N\n",
        "        print(\"At location:\", current)\n",
        "        current = current + rs()  # add one step,\n",
        "\n",
        "    print(\"At location:\", current)\n",
        "    return current\n",
        "\n",
        "\n",
        "# let's test it, perhaps start at 47 and take 9 steps...\n",
        "rpos(47,9)"
      ]
    },
    {
      "cell_type": "code",
      "execution_count": null,
      "metadata": {
        "id": "vgqXW52w3gf_"
      },
      "outputs": [],
      "source": [
        "\n",
        "# Monte Carlo simulation #2... the random-walker\n",
        "\n",
        "#\n",
        "# Task #1:  understand the _single_ \"sleepwalker\":\n",
        "#           change the character sleepwalking to something else, emoji, etc.\n",
        "#           change the \"walls\" to something else\n",
        "#           change the \"sidewalk\" to something else (water, air, walls, ...)\n",
        "#           try it with some different inputs... then you'll be ready for task 2\n",
        "\n",
        "import time\n",
        "import random\n",
        "\n",
        "def rs():\n",
        "    \"\"\" One random step \"\"\"\n",
        "    return random.choice([-1, 1])\n",
        "\n",
        "def rwalk(start, low, high):\n",
        "    \"\"\" Random walk between -radius and +radius  (starting at 0 by default) \"\"\"\n",
        "    totalsteps = 0          # Initial value of totalsteps (_not_ final value!)\n",
        "    current = start         # Current location (_not_ the total # of steps)\n",
        "\n",
        "    while True:             # Run \"forever\" (really, until a return or break)\n",
        "        if current <= low:  # too low!\n",
        "            return totalsteps # Phew!  Return totalsteps (stops the while loop)\n",
        "        elif current >= high: # too high!\n",
        "            return totalsteps # Phew!  Return totalsteps (stops the while loop)\n",
        "        else:\n",
        "            current = current + rs()  # take a step\n",
        "            totalsteps += 1           # count it\n",
        "\n",
        "            # let's animate!\n",
        "            left_side = current - low   # distance on the left of our sleepwalker\n",
        "            right_side = high - current\n",
        "            print(\"|\" + \"_\"*left_side + \"S\" + \"_\"*right_side + \"|\", flush=True)  # a start of our \"ASCIImation\"\n",
        "            time.sleep(0.042)\n",
        "\n",
        "    # the code can never get here!\n",
        "\n",
        "# You will need to add the right-hand side, too\n",
        "# Then, improve your sleepwalker!\n",
        "\n",
        "# let's try it!  rwalk(tart, low, high)\n",
        "rwalk(5,0,10)\n",
        "rwalk(15,0,30)\n"
      ]
    },
    {
      "cell_type": "markdown",
      "source": [
        "### <font color=\"darkblue\"><b>Task #6: Your own wandering!</b></font>\n",
        "\n",
        "Below, create a variation of the random-walker examples above and below. Be sure\n",
        "+ You have at least two random wanderers\n",
        "+ You include an aesthetic customization of your choice\n",
        "+ You include an algorithmic personalization of your choice\n",
        "\n",
        "These can be very fun...\n",
        "\n",
        "I look forward to all of your ***wandering***!"
      ],
      "metadata": {
        "id": "XM07iJfP7VMf"
      }
    },
    {
      "cell_type": "code",
      "source": [
        "print(u\"\\U0001F415\")\n",
        "print(u\"\\U0001F436\")"
      ],
      "metadata": {
        "colab": {
          "base_uri": "https://localhost:8080/"
        },
        "id": "bxss66JjtNIy",
        "outputId": "ad945aef-0086-43b8-cb09-74673353de61"
      },
      "execution_count": null,
      "outputs": [
        {
          "output_type": "stream",
          "name": "stdout",
          "text": [
            "🐕\n",
            "🐶\n"
          ]
        }
      ]
    },
    {
      "cell_type": "code",
      "source": [
        "import time\n",
        "import random\n",
        "\n",
        "def dog():\n",
        "    \"\"\"One random step\"\"\"\n",
        "    return random.choice([-1, 1])\n",
        "\n",
        "def print_dog(bolt, chowder):\n",
        "    \"\"\"Prints the dogs' positions using emojis.\"\"\"\n",
        "    if bolt < chowder:\n",
        "        dLeft_pos = bolt\n",
        "        dRight_pos = chowder\n",
        "        dLeft_emoji = \"\\U0001F415\"  # Dog emoji\n",
        "        dRight_emoji = \"\\U0001F436\"  # Dog face emoji\n",
        "    else:\n",
        "        dLeft_pos = chowder\n",
        "        dRight_pos = bolt\n",
        "        dLeft_emoji = \"\\U0001F436\"  # Dog face emoji\n",
        "        dRight_emoji = \"\\U0001F415\"  # Dog emoji\n",
        "\n",
        "    left_space = dLeft_pos\n",
        "    middle_space = dRight_pos - dLeft_pos - 1\n",
        "    right_space = 30 - dRight_pos\n",
        "\n",
        "    print(\"Out of Bounds|\" + \"_\" * left_space + dLeft_emoji + \"_\" * middle_space + dRight_emoji + \"_\" * right_space + \"|Out of Bounds\", flush=True)\n",
        "\n",
        "def dog_race(bolt, chowder):\n",
        "    num_steps = 0\n",
        "    while 0 < bolt < 30 and 0 < chowder < 30:\n",
        "        print_dog(bolt, chowder)\n",
        "        bolt += dog()\n",
        "        chowder += dog()\n",
        "        num_steps += 1\n",
        "        time.sleep(0.05)\n",
        "    return num_steps\n",
        "\n",
        "# Example usage\n",
        "dog_race(10, 20)"
      ],
      "metadata": {
        "colab": {
          "base_uri": "https://localhost:8080/"
        },
        "id": "SZ31XzY9w8RL",
        "outputId": "e48ca8e2-d6d4-41e5-ee3f-e0827e836e1b"
      },
      "execution_count": null,
      "outputs": [
        {
          "output_type": "stream",
          "name": "stdout",
          "text": [
            "Out of Bounds|__________🐕_________🐶__________|Out of Bounds\n",
            "Out of Bounds|_________🐕___________🐶_________|Out of Bounds\n",
            "Out of Bounds|________🐕___________🐶__________|Out of Bounds\n",
            "Out of Bounds|_______🐕_____________🐶_________|Out of Bounds\n",
            "Out of Bounds|______🐕_____________🐶__________|Out of Bounds\n",
            "Out of Bounds|_______🐕_____________🐶_________|Out of Bounds\n",
            "Out of Bounds|______🐕_____________🐶__________|Out of Bounds\n",
            "Out of Bounds|_______🐕___________🐶___________|Out of Bounds\n",
            "Out of Bounds|______🐕_____________🐶__________|Out of Bounds\n",
            "Out of Bounds|_______🐕_____________🐶_________|Out of Bounds\n",
            "Out of Bounds|______🐕_______________🐶________|Out of Bounds\n",
            "Out of Bounds|_______🐕_____________🐶_________|Out of Bounds\n",
            "Out of Bounds|______🐕_____________🐶__________|Out of Bounds\n",
            "Out of Bounds|_____🐕_______________🐶_________|Out of Bounds\n",
            "Out of Bounds|______🐕_______________🐶________|Out of Bounds\n",
            "Out of Bounds|_______🐕_____________🐶_________|Out of Bounds\n",
            "Out of Bounds|______🐕_______________🐶________|Out of Bounds\n",
            "Out of Bounds|_______🐕_______________🐶_______|Out of Bounds\n",
            "Out of Bounds|______🐕_________________🐶______|Out of Bounds\n",
            "Out of Bounds|_____🐕___________________🐶_____|Out of Bounds\n",
            "Out of Bounds|____🐕___________________🐶______|Out of Bounds\n",
            "Out of Bounds|___🐕___________________🐶_______|Out of Bounds\n",
            "Out of Bounds|____🐕_________________🐶________|Out of Bounds\n",
            "Out of Bounds|_____🐕_______________🐶_________|Out of Bounds\n",
            "Out of Bounds|____🐕_________________🐶________|Out of Bounds\n",
            "Out of Bounds|___🐕_________________🐶_________|Out of Bounds\n",
            "Out of Bounds|__🐕_________________🐶__________|Out of Bounds\n",
            "Out of Bounds|_🐕___________________🐶_________|Out of Bounds\n",
            "Out of Bounds|__🐕_________________🐶__________|Out of Bounds\n",
            "Out of Bounds|_🐕_________________🐶___________|Out of Bounds\n"
          ]
        },
        {
          "output_type": "execute_result",
          "data": {
            "text/plain": [
              "30"
            ]
          },
          "metadata": {},
          "execution_count": 186
        }
      ]
    },
    {
      "cell_type": "code",
      "source": [
        "dog_race(10,20)"
      ],
      "metadata": {
        "colab": {
          "base_uri": "https://localhost:8080/",
          "height": 1000
        },
        "id": "ZJoRgaC7vyg7",
        "outputId": "5bb3f098-a6f0-46dd-e4d8-6fb1d8c2251b"
      },
      "execution_count": null,
      "outputs": [
        {
          "output_type": "stream",
          "name": "stdout",
          "text": [
            "Out of Bounds|__________🐕_________🐶__________|Out of Bounds\n",
            "Out of Bounds|___________🐕_______🐶___________|Out of Bounds\n",
            "Out of Bounds|__________🐕_________🐶__________|Out of Bounds\n",
            "Out of Bounds|_________🐕___________🐶_________|Out of Bounds\n",
            "Out of Bounds|__________🐕_________🐶__________|Out of Bounds\n",
            "Out of Bounds|_________🐕___________🐶_________|Out of Bounds\n",
            "Out of Bounds|__________🐕___________🐶________|Out of Bounds\n",
            "Out of Bounds|___________🐕_________🐶_________|Out of Bounds\n",
            "Out of Bounds|____________🐕_________🐶________|Out of Bounds\n",
            "Out of Bounds|_____________🐕_______🐶_________|Out of Bounds\n",
            "Out of Bounds|______________🐕_______🐶________|Out of Bounds\n",
            "Out of Bounds|_______________🐕_______🐶_______|Out of Bounds\n",
            "Out of Bounds|______________🐕_______🐶________|Out of Bounds\n",
            "Out of Bounds|_____________🐕_________🐶_______|Out of Bounds\n",
            "Out of Bounds|____________🐕___________🐶______|Out of Bounds\n",
            "Out of Bounds|___________🐕_____________🐶_____|Out of Bounds\n",
            "Out of Bounds|____________🐕___________🐶______|Out of Bounds\n",
            "Out of Bounds|_____________🐕___________🐶_____|Out of Bounds\n",
            "Out of Bounds|______________🐕_________🐶______|Out of Bounds\n",
            "Out of Bounds|_____________🐕_________🐶_______|Out of Bounds\n",
            "Out of Bounds|____________🐕_________🐶________|Out of Bounds\n",
            "Out of Bounds|_____________🐕_________🐶_______|Out of Bounds\n",
            "Out of Bounds|______________🐕_________🐶______|Out of Bounds\n",
            "Out of Bounds|_____________🐕___________🐶_____|Out of Bounds\n",
            "Out of Bounds|______________🐕_________🐶______|Out of Bounds\n",
            "Out of Bounds|_____________🐕_________🐶_______|Out of Bounds\n",
            "Out of Bounds|____________🐕___________🐶______|Out of Bounds\n",
            "Out of Bounds|___________🐕_____________🐶_____|Out of Bounds\n",
            "Out of Bounds|__________🐕_____________🐶______|Out of Bounds\n",
            "Out of Bounds|_________🐕_______________🐶_____|Out of Bounds\n",
            "Out of Bounds|________🐕_______________🐶______|Out of Bounds\n",
            "Out of Bounds|_________🐕_____________🐶_______|Out of Bounds\n",
            "Out of Bounds|__________🐕___________🐶________|Out of Bounds\n",
            "Out of Bounds|___________🐕_________🐶_________|Out of Bounds\n",
            "Out of Bounds|__________🐕___________🐶________|Out of Bounds\n",
            "Out of Bounds|_________🐕___________🐶_________|Out of Bounds\n",
            "Out of Bounds|________🐕___________🐶__________|Out of Bounds\n",
            "Out of Bounds|_______🐕___________🐶___________|Out of Bounds\n",
            "Out of Bounds|________🐕_________🐶____________|Out of Bounds\n",
            "Out of Bounds|_______🐕___________🐶___________|Out of Bounds\n",
            "Out of Bounds|________🐕_________🐶____________|Out of Bounds\n",
            "Out of Bounds|_______🐕___________🐶___________|Out of Bounds\n",
            "Out of Bounds|________🐕___________🐶__________|Out of Bounds\n",
            "Out of Bounds|_______🐕_____________🐶_________|Out of Bounds\n",
            "Out of Bounds|______🐕_______________🐶________|Out of Bounds\n",
            "Out of Bounds|_______🐕_____________🐶_________|Out of Bounds\n",
            "Out of Bounds|________🐕___________🐶__________|Out of Bounds\n",
            "Out of Bounds|_________🐕_________🐶___________|Out of Bounds\n",
            "Out of Bounds|__________🐕_________🐶__________|Out of Bounds\n",
            "Out of Bounds|___________🐕_______🐶___________|Out of Bounds\n",
            "Out of Bounds|__________🐕_________🐶__________|Out of Bounds\n",
            "Out of Bounds|_________🐕_________🐶___________|Out of Bounds\n",
            "Out of Bounds|________🐕___________🐶__________|Out of Bounds\n",
            "Out of Bounds|_______🐕___________🐶___________|Out of Bounds\n",
            "Out of Bounds|________🐕_________🐶____________|Out of Bounds\n",
            "Out of Bounds|_______🐕___________🐶___________|Out of Bounds\n",
            "Out of Bounds|________🐕_________🐶____________|Out of Bounds\n",
            "Out of Bounds|_________🐕_______🐶_____________|Out of Bounds\n",
            "Out of Bounds|________🐕_________🐶____________|Out of Bounds\n",
            "Out of Bounds|_______🐕___________🐶___________|Out of Bounds\n",
            "Out of Bounds|______🐕___________🐶____________|Out of Bounds\n",
            "Out of Bounds|_______🐕___________🐶___________|Out of Bounds\n",
            "Out of Bounds|________🐕___________🐶__________|Out of Bounds\n",
            "Out of Bounds|_______🐕___________🐶___________|Out of Bounds\n",
            "Out of Bounds|______🐕_____________🐶__________|Out of Bounds\n",
            "Out of Bounds|_____🐕_______________🐶_________|Out of Bounds\n",
            "Out of Bounds|____🐕_______________🐶__________|Out of Bounds\n",
            "Out of Bounds|___🐕_______________🐶___________|Out of Bounds\n",
            "Out of Bounds|____🐕_____________🐶____________|Out of Bounds\n",
            "Out of Bounds|_____🐕_____________🐶___________|Out of Bounds\n",
            "Out of Bounds|______🐕___________🐶____________|Out of Bounds\n",
            "Out of Bounds|_______🐕_________🐶_____________|Out of Bounds\n",
            "Out of Bounds|________🐕_________🐶____________|Out of Bounds\n",
            "Out of Bounds|_______🐕_________🐶_____________|Out of Bounds\n",
            "Out of Bounds|________🐕_______🐶______________|Out of Bounds\n",
            "Out of Bounds|_______🐕_______🐶_______________|Out of Bounds\n",
            "Out of Bounds|________🐕_______🐶______________|Out of Bounds\n",
            "Out of Bounds|_______🐕_______🐶_______________|Out of Bounds\n",
            "Out of Bounds|________🐕_______🐶______________|Out of Bounds\n",
            "Out of Bounds|_______🐕_________🐶_____________|Out of Bounds\n",
            "Out of Bounds|________🐕_________🐶____________|Out of Bounds\n",
            "Out of Bounds|_________🐕_______🐶_____________|Out of Bounds\n",
            "Out of Bounds|________🐕_________🐶____________|Out of Bounds\n",
            "Out of Bounds|_________🐕_______🐶_____________|Out of Bounds\n",
            "Out of Bounds|__________🐕_____🐶______________|Out of Bounds\n",
            "Out of Bounds|_________🐕_______🐶_____________|Out of Bounds\n",
            "Out of Bounds|________🐕_______🐶______________|Out of Bounds\n",
            "Out of Bounds|_________🐕_______🐶_____________|Out of Bounds\n",
            "Out of Bounds|________🐕_________🐶____________|Out of Bounds\n",
            "Out of Bounds|_________🐕_________🐶___________|Out of Bounds\n",
            "Out of Bounds|__________🐕_________🐶__________|Out of Bounds\n",
            "Out of Bounds|_________🐕_________🐶___________|Out of Bounds\n",
            "Out of Bounds|__________🐕_______🐶____________|Out of Bounds\n",
            "Out of Bounds|___________🐕_____🐶_____________|Out of Bounds\n",
            "Out of Bounds|__________🐕_______🐶____________|Out of Bounds\n",
            "Out of Bounds|___________🐕_______🐶___________|Out of Bounds\n",
            "Out of Bounds|__________🐕_______🐶____________|Out of Bounds\n",
            "Out of Bounds|___________🐕_____🐶_____________|Out of Bounds\n",
            "Out of Bounds|____________🐕___🐶______________|Out of Bounds\n",
            "Out of Bounds|___________🐕_____🐶_____________|Out of Bounds\n",
            "Out of Bounds|__________🐕_____🐶______________|Out of Bounds\n",
            "Out of Bounds|___________🐕_____🐶_____________|Out of Bounds\n",
            "Out of Bounds|__________🐕_____🐶______________|Out of Bounds\n",
            "Out of Bounds|___________🐕_____🐶_____________|Out of Bounds\n",
            "Out of Bounds|____________🐕_____🐶____________|Out of Bounds\n",
            "Out of Bounds|___________🐕_______🐶___________|Out of Bounds\n",
            "Out of Bounds|____________🐕_____🐶____________|Out of Bounds\n",
            "Out of Bounds|_____________🐕___🐶_____________|Out of Bounds\n",
            "Out of Bounds|____________🐕_____🐶____________|Out of Bounds\n",
            "Out of Bounds|_____________🐕___🐶_____________|Out of Bounds\n",
            "Out of Bounds|______________🐕_🐶______________|Out of Bounds\n",
            "Out of Bounds|_______________🐶🐕_______________|Out of Bounds\n",
            "Out of Bounds|______________🐶🐕________________|Out of Bounds\n",
            "Out of Bounds|_____________🐶🐕_________________|Out of Bounds\n",
            "Out of Bounds|____________🐶🐕__________________|Out of Bounds\n",
            "Out of Bounds|___________🐶_🐕_________________|Out of Bounds\n",
            "Out of Bounds|__________🐶___🐕________________|Out of Bounds\n",
            "Out of Bounds|___________🐶_🐕_________________|Out of Bounds\n",
            "Out of Bounds|__________🐶_🐕__________________|Out of Bounds\n",
            "Out of Bounds|_________🐶___🐕_________________|Out of Bounds\n",
            "Out of Bounds|__________🐶_🐕__________________|Out of Bounds\n",
            "Out of Bounds|___________🐶_🐕_________________|Out of Bounds\n",
            "Out of Bounds|____________🐶🐕__________________|Out of Bounds\n",
            "Out of Bounds|___________🐶🐕___________________|Out of Bounds\n",
            "Out of Bounds|__________🐶🐕____________________|Out of Bounds\n",
            "Out of Bounds|_________🐶_🐕___________________|Out of Bounds\n",
            "Out of Bounds|________🐶___🐕__________________|Out of Bounds\n"
          ]
        },
        {
          "output_type": "error",
          "ename": "KeyboardInterrupt",
          "evalue": "",
          "traceback": [
            "\u001b[0;31m---------------------------------------------------------------------------\u001b[0m",
            "\u001b[0;31mKeyboardInterrupt\u001b[0m                         Traceback (most recent call last)",
            "\u001b[0;32m<ipython-input-187-0db08b02b8a3>\u001b[0m in \u001b[0;36m<cell line: 0>\u001b[0;34m()\u001b[0m\n\u001b[0;32m----> 1\u001b[0;31m \u001b[0mdog_race\u001b[0m\u001b[0;34m(\u001b[0m\u001b[0;36m10\u001b[0m\u001b[0;34m,\u001b[0m\u001b[0;36m20\u001b[0m\u001b[0;34m)\u001b[0m\u001b[0;34m\u001b[0m\u001b[0;34m\u001b[0m\u001b[0m\n\u001b[0m",
            "\u001b[0;32m<ipython-input-186-0959aec7a7ac>\u001b[0m in \u001b[0;36mdog_race\u001b[0;34m(bolt, chowder)\u001b[0m\n\u001b[1;32m     32\u001b[0m         \u001b[0mchowder\u001b[0m \u001b[0;34m+=\u001b[0m \u001b[0mdog\u001b[0m\u001b[0;34m(\u001b[0m\u001b[0;34m)\u001b[0m\u001b[0;34m\u001b[0m\u001b[0;34m\u001b[0m\u001b[0m\n\u001b[1;32m     33\u001b[0m         \u001b[0mnum_steps\u001b[0m \u001b[0;34m+=\u001b[0m \u001b[0;36m1\u001b[0m\u001b[0;34m\u001b[0m\u001b[0;34m\u001b[0m\u001b[0m\n\u001b[0;32m---> 34\u001b[0;31m         \u001b[0mtime\u001b[0m\u001b[0;34m.\u001b[0m\u001b[0msleep\u001b[0m\u001b[0;34m(\u001b[0m\u001b[0;36m0.05\u001b[0m\u001b[0;34m)\u001b[0m\u001b[0;34m\u001b[0m\u001b[0;34m\u001b[0m\u001b[0m\n\u001b[0m\u001b[1;32m     35\u001b[0m     \u001b[0;32mreturn\u001b[0m \u001b[0mnum_steps\u001b[0m\u001b[0;34m\u001b[0m\u001b[0;34m\u001b[0m\u001b[0m\n\u001b[1;32m     36\u001b[0m \u001b[0;34m\u001b[0m\u001b[0m\n",
            "\u001b[0;31mKeyboardInterrupt\u001b[0m: "
          ]
        }
      ]
    },
    {
      "cell_type": "code",
      "execution_count": null,
      "metadata": {
        "id": "1zZ5kFlm3ggA"
      },
      "outputs": [],
      "source": [
        "\n",
        "# here is an _example_ of a two-sleepwalker animation idea\n",
        "# a starting point has been written... but only one wanderer is wandering!\n",
        "# your task is to make sure TWO wanderers are wandering... in a fashion you design...\n",
        "\n",
        "import time\n",
        "import random\n",
        "\n",
        "def rs():\n",
        "    \"\"\" One random step \"\"\"\n",
        "    return random.choice([-1, 1])\n",
        "\n",
        "def print_poptarts(pST, pSM):\n",
        "    \"\"\" print the two poptarts! \"\"\"\n",
        "    if pST < pSM:\n",
        "        pLeft = pST;   cLeft = \"\\033[6;33;41m\" + \"P\" + \"\\033[0m\"\n",
        "        pRight = pSM;  cRight = \"\\033[6;36;43m\" + \"P\" + \"\\033[0m\"\n",
        "    else:\n",
        "        pLeft = pSM;   cLeft = \"\\033[6;36;43m\" + \"P\" + \"\\033[0m\"\n",
        "        pRight = pST;  cRight = \"\\033[6;33;41m\" + \"P\" + \"\\033[0m\"\n",
        "\n",
        "    left_space = (pLeft-0)\n",
        "    middle_space = (pRight-pLeft)\n",
        "    right_space = (30-pRight)\n",
        "\n",
        "    print(\"CGU|\" + \"_\"*left_space + cLeft + \"_\"*middle_space + cRight + \"_\"*right_space + \"|Toaster\", flush=True)\n",
        "\n",
        "\n",
        "def poptart_race(pST, pSM):\n",
        "    \"\"\"\n",
        "        This simulator observes two poptarts, pST, pSM (you can guess the flavors...)\n",
        "        wandering between 0 and 30.\n",
        "\n",
        "        Call this with\n",
        "               poptart_race(10, 20)\n",
        "           or  poptart_race(pST=10, pSM=20)    # this is the same as the line above\n",
        "\n",
        "        The endpoints are always at 0 and 30. We check that  0 < pST < 30 and 0 < pSM < 30\n",
        "\n",
        "        Other values to try:  poptart_race(18, 22)    # evenly spaced\n",
        "                              poptart_race(5, 15)     # uneven spacing: pST is closer...\n",
        "    \"\"\"\n",
        "    num_steps = 0       # count the number of steps\n",
        "\n",
        "    while 0 < pST < 30:\n",
        "        print_poptarts(pST, pSM)   # print the current poptart-configuration!\n",
        "        pST = pST + rs()           # take a random step for the strawberry poptart...\n",
        "        num_steps += 1             # add 1 to our count of steps (in the variable num_steps)\n",
        "        time.sleep(0.05)           # pause a bit, to add drama!\n",
        "\n",
        "    # finished with the while loop!\n",
        "    return num_steps\n",
        "\n"
      ]
    },
    {
      "cell_type": "code",
      "source": [
        "poptart_race(10, 20)"
      ],
      "metadata": {
        "id": "VbhjtXudzAC4",
        "colab": {
          "base_uri": "https://localhost:8080/",
          "height": 1000
        },
        "outputId": "1fe55c53-7be5-4ba3-9488-67981d31e1c6"
      },
      "execution_count": null,
      "outputs": [
        {
          "output_type": "stream",
          "name": "stdout",
          "text": [
            "CGU|__________\u001b[6;33;41mP\u001b[0m__________\u001b[6;36;43mP\u001b[0m__________|Toaster\n",
            "CGU|_________\u001b[6;33;41mP\u001b[0m___________\u001b[6;36;43mP\u001b[0m__________|Toaster\n",
            "CGU|__________\u001b[6;33;41mP\u001b[0m__________\u001b[6;36;43mP\u001b[0m__________|Toaster\n",
            "CGU|_________\u001b[6;33;41mP\u001b[0m___________\u001b[6;36;43mP\u001b[0m__________|Toaster\n",
            "CGU|__________\u001b[6;33;41mP\u001b[0m__________\u001b[6;36;43mP\u001b[0m__________|Toaster\n",
            "CGU|_________\u001b[6;33;41mP\u001b[0m___________\u001b[6;36;43mP\u001b[0m__________|Toaster\n",
            "CGU|__________\u001b[6;33;41mP\u001b[0m__________\u001b[6;36;43mP\u001b[0m__________|Toaster\n",
            "CGU|_________\u001b[6;33;41mP\u001b[0m___________\u001b[6;36;43mP\u001b[0m__________|Toaster\n",
            "CGU|__________\u001b[6;33;41mP\u001b[0m__________\u001b[6;36;43mP\u001b[0m__________|Toaster\n",
            "CGU|___________\u001b[6;33;41mP\u001b[0m_________\u001b[6;36;43mP\u001b[0m__________|Toaster\n",
            "CGU|____________\u001b[6;33;41mP\u001b[0m________\u001b[6;36;43mP\u001b[0m__________|Toaster\n",
            "CGU|___________\u001b[6;33;41mP\u001b[0m_________\u001b[6;36;43mP\u001b[0m__________|Toaster\n",
            "CGU|__________\u001b[6;33;41mP\u001b[0m__________\u001b[6;36;43mP\u001b[0m__________|Toaster\n",
            "CGU|___________\u001b[6;33;41mP\u001b[0m_________\u001b[6;36;43mP\u001b[0m__________|Toaster\n",
            "CGU|__________\u001b[6;33;41mP\u001b[0m__________\u001b[6;36;43mP\u001b[0m__________|Toaster\n",
            "CGU|_________\u001b[6;33;41mP\u001b[0m___________\u001b[6;36;43mP\u001b[0m__________|Toaster\n",
            "CGU|__________\u001b[6;33;41mP\u001b[0m__________\u001b[6;36;43mP\u001b[0m__________|Toaster\n",
            "CGU|___________\u001b[6;33;41mP\u001b[0m_________\u001b[6;36;43mP\u001b[0m__________|Toaster\n",
            "CGU|__________\u001b[6;33;41mP\u001b[0m__________\u001b[6;36;43mP\u001b[0m__________|Toaster\n",
            "CGU|_________\u001b[6;33;41mP\u001b[0m___________\u001b[6;36;43mP\u001b[0m__________|Toaster\n",
            "CGU|________\u001b[6;33;41mP\u001b[0m____________\u001b[6;36;43mP\u001b[0m__________|Toaster\n",
            "CGU|_________\u001b[6;33;41mP\u001b[0m___________\u001b[6;36;43mP\u001b[0m__________|Toaster\n",
            "CGU|________\u001b[6;33;41mP\u001b[0m____________\u001b[6;36;43mP\u001b[0m__________|Toaster\n",
            "CGU|_________\u001b[6;33;41mP\u001b[0m___________\u001b[6;36;43mP\u001b[0m__________|Toaster\n",
            "CGU|________\u001b[6;33;41mP\u001b[0m____________\u001b[6;36;43mP\u001b[0m__________|Toaster\n",
            "CGU|_________\u001b[6;33;41mP\u001b[0m___________\u001b[6;36;43mP\u001b[0m__________|Toaster\n",
            "CGU|________\u001b[6;33;41mP\u001b[0m____________\u001b[6;36;43mP\u001b[0m__________|Toaster\n",
            "CGU|_________\u001b[6;33;41mP\u001b[0m___________\u001b[6;36;43mP\u001b[0m__________|Toaster\n",
            "CGU|__________\u001b[6;33;41mP\u001b[0m__________\u001b[6;36;43mP\u001b[0m__________|Toaster\n",
            "CGU|_________\u001b[6;33;41mP\u001b[0m___________\u001b[6;36;43mP\u001b[0m__________|Toaster\n",
            "CGU|__________\u001b[6;33;41mP\u001b[0m__________\u001b[6;36;43mP\u001b[0m__________|Toaster\n",
            "CGU|_________\u001b[6;33;41mP\u001b[0m___________\u001b[6;36;43mP\u001b[0m__________|Toaster\n",
            "CGU|__________\u001b[6;33;41mP\u001b[0m__________\u001b[6;36;43mP\u001b[0m__________|Toaster\n",
            "CGU|_________\u001b[6;33;41mP\u001b[0m___________\u001b[6;36;43mP\u001b[0m__________|Toaster\n",
            "CGU|__________\u001b[6;33;41mP\u001b[0m__________\u001b[6;36;43mP\u001b[0m__________|Toaster\n",
            "CGU|___________\u001b[6;33;41mP\u001b[0m_________\u001b[6;36;43mP\u001b[0m__________|Toaster\n",
            "CGU|____________\u001b[6;33;41mP\u001b[0m________\u001b[6;36;43mP\u001b[0m__________|Toaster\n",
            "CGU|_____________\u001b[6;33;41mP\u001b[0m_______\u001b[6;36;43mP\u001b[0m__________|Toaster\n",
            "CGU|____________\u001b[6;33;41mP\u001b[0m________\u001b[6;36;43mP\u001b[0m__________|Toaster\n",
            "CGU|___________\u001b[6;33;41mP\u001b[0m_________\u001b[6;36;43mP\u001b[0m__________|Toaster\n",
            "CGU|____________\u001b[6;33;41mP\u001b[0m________\u001b[6;36;43mP\u001b[0m__________|Toaster\n",
            "CGU|_____________\u001b[6;33;41mP\u001b[0m_______\u001b[6;36;43mP\u001b[0m__________|Toaster\n",
            "CGU|______________\u001b[6;33;41mP\u001b[0m______\u001b[6;36;43mP\u001b[0m__________|Toaster\n",
            "CGU|_______________\u001b[6;33;41mP\u001b[0m_____\u001b[6;36;43mP\u001b[0m__________|Toaster\n",
            "CGU|________________\u001b[6;33;41mP\u001b[0m____\u001b[6;36;43mP\u001b[0m__________|Toaster\n",
            "CGU|_______________\u001b[6;33;41mP\u001b[0m_____\u001b[6;36;43mP\u001b[0m__________|Toaster\n",
            "CGU|______________\u001b[6;33;41mP\u001b[0m______\u001b[6;36;43mP\u001b[0m__________|Toaster\n",
            "CGU|_____________\u001b[6;33;41mP\u001b[0m_______\u001b[6;36;43mP\u001b[0m__________|Toaster\n",
            "CGU|____________\u001b[6;33;41mP\u001b[0m________\u001b[6;36;43mP\u001b[0m__________|Toaster\n",
            "CGU|_____________\u001b[6;33;41mP\u001b[0m_______\u001b[6;36;43mP\u001b[0m__________|Toaster\n",
            "CGU|____________\u001b[6;33;41mP\u001b[0m________\u001b[6;36;43mP\u001b[0m__________|Toaster\n",
            "CGU|_____________\u001b[6;33;41mP\u001b[0m_______\u001b[6;36;43mP\u001b[0m__________|Toaster\n",
            "CGU|______________\u001b[6;33;41mP\u001b[0m______\u001b[6;36;43mP\u001b[0m__________|Toaster\n",
            "CGU|_______________\u001b[6;33;41mP\u001b[0m_____\u001b[6;36;43mP\u001b[0m__________|Toaster\n",
            "CGU|______________\u001b[6;33;41mP\u001b[0m______\u001b[6;36;43mP\u001b[0m__________|Toaster\n",
            "CGU|_____________\u001b[6;33;41mP\u001b[0m_______\u001b[6;36;43mP\u001b[0m__________|Toaster\n",
            "CGU|______________\u001b[6;33;41mP\u001b[0m______\u001b[6;36;43mP\u001b[0m__________|Toaster\n",
            "CGU|_______________\u001b[6;33;41mP\u001b[0m_____\u001b[6;36;43mP\u001b[0m__________|Toaster\n",
            "CGU|________________\u001b[6;33;41mP\u001b[0m____\u001b[6;36;43mP\u001b[0m__________|Toaster\n",
            "CGU|_______________\u001b[6;33;41mP\u001b[0m_____\u001b[6;36;43mP\u001b[0m__________|Toaster\n",
            "CGU|______________\u001b[6;33;41mP\u001b[0m______\u001b[6;36;43mP\u001b[0m__________|Toaster\n",
            "CGU|_____________\u001b[6;33;41mP\u001b[0m_______\u001b[6;36;43mP\u001b[0m__________|Toaster\n",
            "CGU|______________\u001b[6;33;41mP\u001b[0m______\u001b[6;36;43mP\u001b[0m__________|Toaster\n",
            "CGU|_____________\u001b[6;33;41mP\u001b[0m_______\u001b[6;36;43mP\u001b[0m__________|Toaster\n",
            "CGU|____________\u001b[6;33;41mP\u001b[0m________\u001b[6;36;43mP\u001b[0m__________|Toaster\n",
            "CGU|_____________\u001b[6;33;41mP\u001b[0m_______\u001b[6;36;43mP\u001b[0m__________|Toaster\n",
            "CGU|______________\u001b[6;33;41mP\u001b[0m______\u001b[6;36;43mP\u001b[0m__________|Toaster\n",
            "CGU|_____________\u001b[6;33;41mP\u001b[0m_______\u001b[6;36;43mP\u001b[0m__________|Toaster\n",
            "CGU|______________\u001b[6;33;41mP\u001b[0m______\u001b[6;36;43mP\u001b[0m__________|Toaster\n",
            "CGU|_____________\u001b[6;33;41mP\u001b[0m_______\u001b[6;36;43mP\u001b[0m__________|Toaster\n"
          ]
        },
        {
          "output_type": "error",
          "ename": "KeyboardInterrupt",
          "evalue": "",
          "traceback": [
            "\u001b[0;31m---------------------------------------------------------------------------\u001b[0m",
            "\u001b[0;31mKeyboardInterrupt\u001b[0m                         Traceback (most recent call last)",
            "\u001b[0;32m<ipython-input-188-eb66dc4c3a23>\u001b[0m in \u001b[0;36m<cell line: 0>\u001b[0;34m()\u001b[0m\n\u001b[0;32m----> 1\u001b[0;31m \u001b[0mpoptart_race\u001b[0m\u001b[0;34m(\u001b[0m\u001b[0;36m10\u001b[0m\u001b[0;34m,\u001b[0m \u001b[0;36m20\u001b[0m\u001b[0;34m)\u001b[0m\u001b[0;34m\u001b[0m\u001b[0;34m\u001b[0m\u001b[0m\n\u001b[0m",
            "\u001b[0;32m<ipython-input-165-9bdbc56852c3>\u001b[0m in \u001b[0;36mpoptart_race\u001b[0;34m(pST, pSM)\u001b[0m\n\u001b[1;32m     46\u001b[0m         \u001b[0mpST\u001b[0m \u001b[0;34m=\u001b[0m \u001b[0mpST\u001b[0m \u001b[0;34m+\u001b[0m \u001b[0mrs\u001b[0m\u001b[0;34m(\u001b[0m\u001b[0;34m)\u001b[0m           \u001b[0;31m# take a random step for the strawberry poptart...\u001b[0m\u001b[0;34m\u001b[0m\u001b[0;34m\u001b[0m\u001b[0m\n\u001b[1;32m     47\u001b[0m         \u001b[0mnum_steps\u001b[0m \u001b[0;34m+=\u001b[0m \u001b[0;36m1\u001b[0m             \u001b[0;31m# add 1 to our count of steps (in the variable num_steps)\u001b[0m\u001b[0;34m\u001b[0m\u001b[0;34m\u001b[0m\u001b[0m\n\u001b[0;32m---> 48\u001b[0;31m         \u001b[0mtime\u001b[0m\u001b[0;34m.\u001b[0m\u001b[0msleep\u001b[0m\u001b[0;34m(\u001b[0m\u001b[0;36m0.05\u001b[0m\u001b[0;34m)\u001b[0m           \u001b[0;31m# pause a bit, to add drama!\u001b[0m\u001b[0;34m\u001b[0m\u001b[0;34m\u001b[0m\u001b[0m\n\u001b[0m\u001b[1;32m     49\u001b[0m \u001b[0;34m\u001b[0m\u001b[0m\n\u001b[1;32m     50\u001b[0m     \u001b[0;31m# finished with the while loop!\u001b[0m\u001b[0;34m\u001b[0m\u001b[0;34m\u001b[0m\u001b[0m\n",
            "\u001b[0;31mKeyboardInterrupt\u001b[0m: "
          ]
        }
      ]
    },
    {
      "cell_type": "markdown",
      "metadata": {
        "id": "IrzyA63F3ggB"
      },
      "source": [
        "\n",
        "<br>\n",
        "\n",
        "#### Hints, suggestions, and other references\n",
        "+ Be sure that there is a <i>finishing condition</i>\n",
        "+ Have a meaningful return value - such as the number of steps\n",
        "+ There should be some interaction between the wandering agents (each other), as well as between the wanderers and the endpoints, e.g., walls, cliffs, wells, teleports, etc.\n",
        "\n",
        "<br>\n",
        "\n",
        "As a few possible examples, you might consider:\n",
        "+ two wanderers that are trying to reach an item between them (see above)\n",
        "+ two wanderers that are unable to switch places (they \"bounce\"), with the simulation ending when one—or both—reach the walls\n",
        "+ two endpoints of a single \"entity\" that's trying to consume the whole environment (reach both sides)\n",
        "+ a single wanderer hoping to avoid an \"obstacle\" that is also a wanderer... it moves around and/or (dis)appears: a moving obstacle definitely counts as a second wanderer\n",
        "+ one or both walls can be a \"wanderer\"\n",
        "+ there are many more possibilities, for sure!\n",
        "\n",
        "\n",
        "<br>\n",
        "\n",
        "Other resources/references:\n",
        "+ [Lots of ideas are here at the cs5 page](https://www.cs.hmc.edu/twiki/bin/view/CS5Fall2019/SleepwalkingStudentGold)\n",
        "+ You can also add emojis and other unicode characters\n",
        "+ And you can change the colors -- see the next couple of cells for examples...\n",
        "+ [Here is the terminal-colors in Python page](https://www.cs.hmc.edu/twiki/bin/view/CS5/TerminalColorsInPython)"
      ]
    },
    {
      "cell_type": "code",
      "execution_count": null,
      "metadata": {
        "id": "CpFeTj_83ggC"
      },
      "outputs": [],
      "source": [
        "import time\n",
        "\n",
        "# emoji test\n",
        "emoji_list = [ \"♫\", \"♪\" ]\n",
        "for i in range(1,10):\n",
        "    left_side = i\n",
        "    right_side = (10-i)\n",
        "\n",
        "    e = \"🙂\"\n",
        "    # e = random.choice(emoji_list)\n",
        "\n",
        "    print(\"|\" + \"_\"*left_side + e + \"_\"*right_side + \"|\", flush=True)\n",
        "    time.sleep(0.25)"
      ]
    },
    {
      "cell_type": "code",
      "execution_count": null,
      "metadata": {
        "id": "jhB1t4kZ3ggC"
      },
      "outputs": [],
      "source": [
        "print(\"\\nbefore: \" + \"\\033[6;30;43m\" + \"This text uses 6;30;43 .\" + \"\\033[0m\" + \" :end\\n\")"
      ]
    },
    {
      "cell_type": "markdown",
      "source": [
        "Here's an example with the black-and-gold text:"
      ],
      "metadata": {
        "id": "mp0pOdGpQ8cA"
      }
    },
    {
      "cell_type": "code",
      "source": [
        "import time\n",
        "\n",
        "def gold_bg(text):\n",
        "    return \"\\033[6;30;43m\" + text + \"\\033[0m\"\n",
        "\n",
        "# gold_bg test\n",
        "for i in range(1,10):\n",
        "    left_side = i\n",
        "    right_side = (10-i)\n",
        "\n",
        "    e = \"E\"\n",
        "    # e = random.choice(emoji_list)\n",
        "\n",
        "    print(\"|\" + \"_\"*left_side + gold_bg(e) + \"_\"*right_side + \"|\", flush=True)\n",
        "    time.sleep(0.25)\n",
        "\n",
        "# by Zach\n",
        "\n",
        "# REVERSE gold_bg test\n",
        "for i in range(10,0,-1):\n",
        "    left_side = i\n",
        "    right_side = (10-i)\n",
        "\n",
        "    e = \"E\"\n",
        "    # e = random.choice(emoji_list)\n",
        "\n",
        "    print(\"|\" + gold_bg(\"_\"*left_side) + e + gold_bg(\"_\"*right_side) + \"|\", flush=True)\n",
        "    time.sleep(0.25)"
      ],
      "metadata": {
        "id": "Ow8QYU-dQ_Xg"
      },
      "execution_count": null,
      "outputs": []
    },
    {
      "cell_type": "markdown",
      "metadata": {
        "id": "234UmAAE3ggD"
      },
      "source": [
        "<br>\n",
        "\n",
        "####  Complete!\n",
        "+ When you have ~~completed~~ your two-sleepwalker simulation, be sure that you have at least one run held in the output of your cell(s)\n",
        "+ More than one run is ok, too\n",
        "+ Remember, once you've defined a function, you're able to run it in many cells afterwards...\n",
        "\n",
        "<br>\n",
        "\n",
        "Then, submit this to its Gradescope spot..."
      ]
    },
    {
      "cell_type": "markdown",
      "source": [
        "# <font color=\"DarkBlue\"><b>Task #7</b></font>: Reading and Response on _ChatGPT_\n",
        "\n",
        "Of course, we have to have a ChatGPT article!\n",
        "\n",
        "Happily, the NYTimes has written many of these 😀\n",
        "+ [NYTimes article](https://www.nytimes.com/2023/02/03/technology/chatgpt-openai-artificial-intelligence.html)\n",
        "+ [Local pdf in case the above link does not work](https://drive.google.com/file/d/1SUhVAcDPcC80FfMyKUSt6EmKHOo7eImf/view?usp=sharing)\n",
        "\n",
        "The article summarizes\n",
        "+ the surprising progress in _generative AI_\n",
        "+ including both text and images\n",
        "+ and looks ahead at what's coming...\n",
        "\n",
        "<br>\n",
        "\n",
        "When you've read the article, share a short paragraph that describes\n",
        "+ your thoughts on \"Should ChatGPT be called 'sentient'?\"  That is, is it \"thinking,\" in the way you use that word. Why or why not...\n",
        "+ or, your thoughts on the differences between ChatGPT's \"thinking\" and \"human thinking\": how would you describe those?\n",
        "+ or, share your thoughts on _which traditionally-human activity_ will ChatGPT have the largest influence on, over the next 2-3 years?\n",
        "\n",
        "<br>\n",
        "\n",
        "Also, **feel free to use ChatGPT** to write your response to these prompts above... If you do this, then:\n",
        "+ add your thoughts on how well ChatGPT was able to answer the prompt\n",
        "+ also, share whether you agree, disagree, or derive some other opinion with respect to ChatGPT's self-description!\n",
        "\n",
        "<br>\n",
        "\n",
        "It's an interesting era in which we live!"
      ],
      "metadata": {
        "id": "7pzngEXA4h8U"
      }
    },
    {
      "cell_type": "markdown",
      "source": [
        "### Feel free to use this cell for your thoughts\n",
        "\n",
        "... or ChatGPT's thoughts, and your thoughts about those!\n",
        "\n",
        "I think ChatGPT still needs input and while has the capacity to store massive amounts of information surpassing any human, it isn't constantly thinking. It doesn't daydream the way I do nor can it create or visualize the crazy insane weird things I think about. The 'thinking' that chatGPT does is essentially human input but with a massive library to derive from. It can output language, sentence structure and explain things in it's own robotic terms. This is getting a little existential but human thinking has a wider range and includes morality, POV of a living creature, and quite frankly is more creative. Being able to combine the two 'schools of thought' can definitely be powerful, however. The AI art and games industry is certainly interesting, as I think about some the most emotional and thought-provoking pieces could never be done by AI.\n",
        "\n",
        "<br><br>\n",
        "\n",
        "\n",
        "\n",
        "<br><br>"
      ],
      "metadata": {
        "id": "dtcBswtz6M7y"
      }
    },
    {
      "cell_type": "markdown",
      "source": [
        "# Submitting...\n",
        "\n",
        "Be sure to submit the url of _your_ copy -- with the challenges, questions, and programs composed --\n",
        "+ to Canvas in the appropriate spot\n",
        "+ by the appropriate Frisay evening (any time)\n",
        "+ shared with me (ZD)  ``zdodds@gmail.com``\n",
        "\n",
        "Remember that there is lots of tutoring support, as well as office-hour support available...  \n",
        "\n",
        "<br>\n",
        "\n",
        "\n",
        "As a reminder, the programming parts of IST341 match the spirit of the course, in seeking, among other things:\n",
        "+ creativity/novelty\n",
        "+ personalization/individual context\n",
        "+ exploration and understanding (does it run?)"
      ],
      "metadata": {
        "id": "rNHGo2zHWUuo"
      }
    }
  ],
  "metadata": {
    "colab": {
      "provenance": []
    },
    "kernelspec": {
      "display_name": "Python 3",
      "name": "python3"
    },
    "language_info": {
      "name": "python"
    }
  },
  "nbformat": 4,
  "nbformat_minor": 0
}