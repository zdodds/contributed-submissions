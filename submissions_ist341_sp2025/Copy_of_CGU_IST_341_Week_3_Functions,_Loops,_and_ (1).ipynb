{
  "cells": [
    {
      "cell_type": "markdown",
      "source": [
        "# Welcome back, IST 341!\n",
        "\n",
        "### _Assignment 3 Notebook: Functions, Loops, and Monte Carlo!_\n",
        "\n",
        "This week is functions first -- and all the rest.\n",
        "\n",
        "Featuring:\n",
        "+ A few self-similar function applications\n",
        "+ An introduction to _looping_ functions\n",
        "+ Monte Carlo Applications! The \"birthday room\" and \"sleepwalker\" (random walks)\n",
        "+ A reading and response on ChatGPT, naturally\n",
        "  + Feel free to ChatGPT it ...\n",
        "  + ... in which case, respond to its response!"
      ],
      "metadata": {
        "id": "UrkiOTiDEjwp"
      }
    },
    {
      "cell_type": "code",
      "source": [
        "CRABS"
      ],
      "metadata": {
        "id": "iT40jLEqW4px"
      },
      "execution_count": null,
      "outputs": []
    },
    {
      "cell_type": "code",
      "source": [
        "KITTY"
      ],
      "metadata": {
        "id": "47cODuO3W9c-"
      },
      "execution_count": null,
      "outputs": []
    },
    {
      "cell_type": "code",
      "source": [
        "SO CUUUUTE"
      ],
      "metadata": {
        "id": "eOy8MU4zW-6Q"
      },
      "execution_count": null,
      "outputs": []
    },
    {
      "cell_type": "markdown",
      "source": [
        "### <font color=\"DodgerBlue\"><b>Make your own copy of this notebook (as in each week)</b></font>\n",
        "\n",
        "**Submitting** -- When you're ready to submit, be sure to\n",
        "+ **share** the notebook with the <font color=\"darkblue\">instructor</font> (_hi!_):\n",
        "   + `zdodds@gmail.com`\n",
        "+ and also **submit** the url to your notebook at the appropriate spot on Canvas\n"
      ],
      "metadata": {
        "id": "M7dzL4m4fPYf"
      }
    },
    {
      "cell_type": "markdown",
      "source": [
        "# <b>Leading example</b>:  ``i2I_once``\n",
        "\n",
        "The alien is seeking a capital ``'I'``!\n",
        "\n",
        "The function ``i2I_once(s)`` takes in a string ``s``\n",
        "From there,\n",
        "+ if ``s`` is the single character ``'i'``, the function returns a capital ``'I'``\n",
        "+ otherwise, the function returns the original input, ``s``\n",
        "\n",
        "Try it!\n",
        "\n",
        "<b>Shortcut</b>: <tt>control-/</tt> comments and uncomments..."
      ],
      "metadata": {
        "id": "9BqFJ1etLRzR"
      }
    },
    {
      "cell_type": "code",
      "source": [
        "# single-character substitution:\n",
        "\n",
        "def i2I_once(s):\n",
        "  \"\"\" i2I_once changes an input 'i' to an output 'I'\n",
        "      all other inputs remain the same\n",
        "  \"\"\"\n",
        "  if s == 'i':\n",
        "    return 'I'\n",
        "  else:\n",
        "    return s\n",
        "\n",
        "# tests are in the next cell..."
      ],
      "metadata": {
        "id": "1krVLOH0HQsC"
      },
      "execution_count": null,
      "outputs": []
    },
    {
      "cell_type": "code",
      "source": [
        "# Tests to try for i2I_once  (Try control-/ to uncomment them!)\n",
        "\n",
        "print(\"i2I_once('i') should be 'I' <->\", i2I_once('i'))\n",
        "print(\"i2I_once('j') should be 'j' <->\", i2I_once('j'))\n",
        "print()\n",
        "\n",
        "print(\"i2I_once('alien') should be 'alien' <->\", i2I_once('alien'))\n",
        "print(\"i2I_once('icicle') should be 'icicle' <->\", i2I_once('icicle'))"
      ],
      "metadata": {
        "id": "Y421urjHHTDd",
        "colab": {
          "base_uri": "https://localhost:8080/"
        },
        "outputId": "565bc4fc-33a9-4de3-b835-47e1d5cbdc19"
      },
      "execution_count": null,
      "outputs": [
        {
          "output_type": "stream",
          "name": "stdout",
          "text": [
            "i2I_once('i') should be 'I' <-> I\n",
            "i2I_once('j') should be 'j' <-> j\n",
            "\n",
            "i2I_once('alien') should be 'alien' <-> alien\n",
            "i2I_once('icicle') should be 'icicle' <-> icicle\n"
          ]
        }
      ]
    },
    {
      "cell_type": "markdown",
      "source": [
        "## <b>The problem</b>\n",
        "\n",
        "The \"problem\" is that ``i2I_once`` only works on single-character strings. But... <br> **we'd like it to work on <u>every</u> character in a string!**\n",
        "\n",
        "<br>\n",
        "\n",
        "## <b>The solution!</b>\n",
        "\n",
        "We create a second function, ``i2I_all(s)`` which\n",
        "+ calls ``i2I_once`` on the ***first*** character, ``s[0]``\n",
        "+ then, calls ``i2I_all`` on the ***rest***, ``s[1:]``\n",
        "\n",
        "<b>Important!</b> There needs to be a way to stop!\n",
        "+ The function checks if the input ``s`` has no characters...\n",
        "+ in that case, there is nothing to substitute, and the empty string ``''`` is returned\n",
        "\n",
        "Try it!\n",
        "\n"
      ],
      "metadata": {
        "id": "S3fIcroiHwp1"
      }
    },
    {
      "cell_type": "code",
      "source": [
        "# multiple-character substitution\n",
        "\n",
        "def i2I_all(s):\n",
        "  \"\"\" changes i to I for all characters in the input, s \"\"\"\n",
        "  if s == '':       # EMPTY case!\n",
        "    return ''\n",
        "  else:\n",
        "    return i2I_once(s[0]) + i2I_all(s[1:])  # FIRST and REST\n",
        "\n",
        "# tests are in the next cell..."
      ],
      "metadata": {
        "id": "BdvSdeIXHUHB"
      },
      "execution_count": null,
      "outputs": []
    },
    {
      "cell_type": "code",
      "source": [
        "# Tests to try for i2I_all\n",
        "\n",
        "print(\"i2I_all('alien') should be 'alIen' <->\", i2I_all('alien'))\n",
        "print(\"i2I_all('aliiien') should be 'alIIIen' <->\", i2I_all('aliiien'))\n",
        "print()\n",
        "\n",
        "print(\"i2I_all('icicle') should be 'IcIcle' <->\", i2I_all('icicle'))\n",
        "print(\"i2I_all('No eyes to see here') should be 'No eyes to see here' <->\", i2I_all('No eyes to see here'))"
      ],
      "metadata": {
        "id": "lX1tlDNbHVq-",
        "colab": {
          "base_uri": "https://localhost:8080/"
        },
        "outputId": "3c96afb9-e206-4c5c-9eb7-39e1b15bfcf1"
      },
      "execution_count": null,
      "outputs": [
        {
          "output_type": "stream",
          "name": "stdout",
          "text": [
            "i2I_all('alien') should be 'alIen' <-> alIen\n",
            "i2I_all('aliiien') should be 'alIIIen' <-> alIIIen\n",
            "\n",
            "i2I_all('icicle') should be 'IcIcle' <-> IcIcle\n",
            "i2I_all('No eyes to see here') should be 'No eyes to see here' <-> No eyes to see here\n"
          ]
        }
      ]
    },
    {
      "cell_type": "markdown",
      "source": [
        "## <b>An <i>alternative</i> solution...</b>\n",
        "\n",
        "The above solution uses only conditionals (`if` and `else`) and function-calls. Because the function calls _itself_, it's called **recursive** .\n",
        "\n",
        "<br>\n",
        "\n",
        "An alternative approach -- and one that, to be honest, is more often used in practice, uses a **loop**.  Loops express _repetition_. It's a bit glib, but in one sense computers are really just machines for running loops... <font size=\"-2\">That said, the loops are almost always inside functions!</font>  \n",
        "\n",
        "## <b>The <i>Loop</i> solution!</b>\n",
        "\n",
        "We create a second solution, ``i2I_all_loop(s)`` which\n",
        "+ loops over each character, giving each one the name `c` - and then\n",
        "+ calls ``i2I_once`` on ***each*** of those characters, `c`\n",
        "+ and, meanwhile, adds up all of the transformed characters\n",
        "+ In the end, it returns the final **result**.\n",
        "\n",
        "Try it!"
      ],
      "metadata": {
        "id": "BSsaKb79M-pZ"
      }
    },
    {
      "cell_type": "code",
      "source": [
        "# multiple-character substitution\n",
        "\n",
        "def i2I_all_loop(s):\n",
        "  \"\"\" changes i to I for all characters in the input, s \"\"\"\n",
        "  result = ''        # the result starts as the EMPTY string!\n",
        "\n",
        "  for c in s:        # c is the name we are giving to EACH element in s (that is, each character in s)\n",
        "    result = result + i2I_once(c)   # each time, we add the new transformed output to the end of result\n",
        "    # print(\"result is\", result)    # uncomment this to see the process, in action!\n",
        "\n",
        "  return result      # at the end, we return the final, completely-created result string!\n",
        "\n",
        "# tests are in the next cell..."
      ],
      "metadata": {
        "id": "Zar7ZreiOGAl"
      },
      "execution_count": null,
      "outputs": []
    },
    {
      "cell_type": "code",
      "source": [
        "# Tests to try for i2I_all_loop\n",
        "\n",
        "print(\"i2I_all_loop('alien') should be 'alIen' <->\", i2I_all_loop('alien'))\n",
        "print(\"i2I_all_loop('aliiien') should be 'alIIIen' <->\", i2I_all_loop('aliiien'))\n",
        "print()\n",
        "\n",
        "print(\"i2I_all_loop('icicle') should be 'IcIcle' <->\", i2I_all_loop('icicle'))\n",
        "print(\"i2I_all_loop('No eyes to see here') should be 'No eyes to see here' <->\", i2I_all_loop('No eyes to see here'))"
      ],
      "metadata": {
        "id": "8AUnOPghPEPJ"
      },
      "execution_count": null,
      "outputs": []
    },
    {
      "cell_type": "markdown",
      "source": [
        "### Recursion expresses \"the future\"  (Wow!)\n",
        "\n",
        "In a sense, recursion's power is its ability to express <i>... and all the future stuff...</i>  \n",
        "\n",
        "\"Knowing\" or, at least, _calling_ the future is quite a feat!\n",
        "\n",
        "As an example, here is a number-guessing game,\n",
        "+ where it's the _computer_ that has to do the guessing:"
      ],
      "metadata": {
        "id": "KDcoGajZ4Hed"
      }
    },
    {
      "cell_type": "code",
      "source": [
        "#\n",
        "# Example of recursion-as-future:\n",
        "#\n",
        "\n",
        "from random import *\n",
        "\n",
        "def guess( hidden ):\n",
        "    \"\"\"\n",
        "        have the computer guess numbers until it gets the \"hidden\" value\n",
        "        return the number of guesses\n",
        "    \"\"\"\n",
        "    this_guess = choice( range(0,100) )  # 0 to 99, inclusive\n",
        "\n",
        "    if this_guess == hidden:\n",
        "        print(\"I guessed it!\")\n",
        "        return 1                         # it only took one guess!\n",
        "\n",
        "    else:\n",
        "        return 1 + guess( hidden )  # 1 for this guess, PLUS all future guesses!\n",
        "\n",
        "# test our function!\n",
        "guess(42)"
      ],
      "metadata": {
        "colab": {
          "base_uri": "https://localhost:8080/"
        },
        "id": "uB7xNCEW4gR9",
        "outputId": "820ab9c6-1626-433f-899f-54b8be482ce4"
      },
      "execution_count": null,
      "outputs": [
        {
          "output_type": "stream",
          "name": "stdout",
          "text": [
            "I guessed it!\n"
          ]
        },
        {
          "output_type": "execute_result",
          "data": {
            "text/plain": [
              "235"
            ]
          },
          "metadata": {},
          "execution_count": 37
        }
      ]
    },
    {
      "cell_type": "code",
      "source": [],
      "metadata": {
        "id": "WeBJHJOneK83"
      },
      "execution_count": null,
      "outputs": []
    },
    {
      "cell_type": "markdown",
      "source": [
        "## Loops or Recursion: _Your choice_ ...\n",
        "\n",
        "For these next-few functions, feel free to use loops or recursion.\n",
        "\n",
        "_Suggestion_:  &nbsp; Copy-and-edit the solutions above. Adapt them to the new problem at hand!\n",
        "\n",
        "_Disclaimer_: &nbsp; This is how ***all*** software is created in professional practice: adapting old software that had been solving similar problems!\n",
        "\n",
        "<br>\n",
        "\n",
        "<hr>\n",
        "\n",
        "<br>"
      ],
      "metadata": {
        "id": "pA1aLiC6OGz0"
      }
    },
    {
      "cell_type": "markdown",
      "source": [
        "### <font color=\"darkblue\"><b>Task #1</b></font>: ``spongebobbify_each(s)``\n",
        "\n",
        "The ``i2I_all`` and `i2I_all_loop` and ``i2I_once`` patterns are very powerful -- and very general. Even universal!\n",
        "\n",
        "For <b>task #1</b>, the goal is to write ``spongebobbify_each(s)`` whose goal is to return a randomly-capitalized version of the input string ``s``. For example,\n",
        "\n",
        "``spongebobbify_all('where's gary?')`` might return ``WhERe's gARy?``\n",
        "+ or, it might return ``wHEre'S GArY?``\n",
        "\n",
        "First, we share Python's built-in upper-case and lower-case functions:"
      ],
      "metadata": {
        "id": "E3dQ1H0xLjg_"
      }
    },
    {
      "cell_type": "code",
      "source": [
        "s = 'shout!'\n",
        "print(\"s is\", s)\n",
        "print(\"s.upper() is\", s.upper())"
      ],
      "metadata": {
        "id": "Vw6cf77XOHGi",
        "colab": {
          "base_uri": "https://localhost:8080/"
        },
        "outputId": "31c760bf-ea70-4345-e702-5a14e708ffa9"
      },
      "execution_count": null,
      "outputs": [
        {
          "output_type": "stream",
          "name": "stdout",
          "text": [
            "s is shout!\n",
            "s.upper() is SHOUT!\n"
          ]
        }
      ]
    },
    {
      "cell_type": "code",
      "source": [
        "s = 'WHISPER...'\n",
        "print(\"s is\", s)\n",
        "print(\"s.lower() is\", s.lower())"
      ],
      "metadata": {
        "id": "UWJ2vrgyOUC0",
        "colab": {
          "base_uri": "https://localhost:8080/"
        },
        "outputId": "c202c01c-f58a-48c1-e7c2-081047250380"
      },
      "execution_count": null,
      "outputs": [
        {
          "output_type": "stream",
          "name": "stdout",
          "text": [
            "s is WHISPER...\n",
            "s.lower() is whisper...\n"
          ]
        }
      ]
    },
    {
      "cell_type": "markdown",
      "source": [
        "Notice that\n",
        "+ ``s.upper()`` returns a fully upper-cased version of ``s``\n",
        "+ ``s.lower()`` returns a fully lower-cased version of ``s``\n",
        "+ in both cases, non-letters are left alone..."
      ],
      "metadata": {
        "id": "Ja9-9JfLOiFn"
      }
    },
    {
      "cell_type": "markdown",
      "source": [
        "### We provide the ``once`` ...\n",
        "\n",
        "We provide the one-character version, ``spongebobbify_once(s)``\n",
        "+ Notice that it uses the ``random.choice`` function\n",
        "+ It was the same one we used in rock-paper-scissors\n",
        "\n",
        "Try it out:"
      ],
      "metadata": {
        "id": "R6i_1gFfN_7D"
      }
    },
    {
      "cell_type": "code",
      "source": [
        "# We provide the one-character version, in this case:\n",
        "import random                  #  get the random library\n",
        "\n",
        "def spongebobbify_once(s):\n",
        "  \"\"\" returns the input, randomly \"upper-cased\" or \"lower-cased\" \"\"\"\n",
        "  result = random.choice( [s.upper(), s.lower()] )   # choose one at random\n",
        "  return result\n",
        "\n",
        "# Tests in the next cell..."
      ],
      "metadata": {
        "id": "LiIQoH8hHXP-"
      },
      "execution_count": null,
      "outputs": []
    },
    {
      "cell_type": "code",
      "source": [
        "# Tests to try for spongebobbify_once\n",
        "# There are not \"right\" answers, so we just test them:\n",
        "\n",
        "print(spongebobbify_once('F is for friends who do stuff together!'))\n",
        "print(spongebobbify_once('I knew I shouldn\\'t have gotten out of bed today.'))\n",
        "print()\n",
        "\n",
        "# but we want to use it on single letters!\n",
        "print(spongebobbify_once('a'))\n",
        "print(spongebobbify_once('b'))\n",
        "print(spongebobbify_once('c'))\n",
        "print(spongebobbify_once('d'))\n",
        "print(spongebobbify_once('e'))"
      ],
      "metadata": {
        "id": "uYfr7ERRWaev",
        "colab": {
          "base_uri": "https://localhost:8080/"
        },
        "outputId": "578f7406-2b86-4bb7-ac0a-5cf03bd531e5"
      },
      "execution_count": null,
      "outputs": [
        {
          "output_type": "stream",
          "name": "stdout",
          "text": [
            "F IS FOR FRIENDS WHO DO STUFF TOGETHER!\n",
            "I KNEW I SHOULDN'T HAVE GOTTEN OUT OF BED TODAY.\n",
            "\n",
            "a\n",
            "B\n",
            "C\n",
            "D\n",
            "e\n"
          ]
        }
      ]
    },
    {
      "cell_type": "markdown",
      "source": [
        "## Now, ``spongebobify_each(s)``\n",
        "\n",
        "<b>Your task</b> is to write ``spongebobify_each(s)``\n",
        "\n",
        "Use the `i2I_all(s)` OR `i2I_all_loop(s)` as guidance and as a template/example. <br>\n",
        "Then, adapt from there:\n",
        "+ How much can be re-used?\n",
        "+ How much works as-is?\n",
        "+ Experiment!\n",
        "\n",
        "It's a remarkably versatile approach!\n",
        "\n",
        "Try our ~~tests~~ quotes -- and add three tests/quotes of your own:\n"
      ],
      "metadata": {
        "id": "nBFQKUs9YY1K"
      }
    },
    {
      "cell_type": "code",
      "source": [
        "# Here, write your  spongebobify_all(s)\n",
        "#\n",
        "def spongebobbify_all(s):\n",
        "  \"\"\" changes all characters to either uppercase or lowercase, randomly \"\"\"\n",
        "  result = ''\n",
        "  for c in s:\n",
        "    result = result + spongebobbify_once(c)\n",
        "  return result\n",
        "\n",
        "\n",
        "\n",
        "# Try our tests (next cell) and add three of your own...\n",
        "# Preferably sBoB QuoTeS..."
      ],
      "metadata": {
        "id": "RmFLJ2x8uwKq"
      },
      "execution_count": null,
      "outputs": []
    },
    {
      "cell_type": "code",
      "source": [
        "# Tests to try for spongebobbify_once\n",
        "# There are not \"right\" answers, so we just test them:\n",
        "\n",
        "print(spongebobbify_all('F is for friends who do stuff together!'))\n",
        "print(spongebobbify_all('I knew I shouldn\\'t have gotten out of bed today.'))\n",
        "print(spongebobbify_all('The inner machinations of my mind are an enigma. - Patrick'))\n",
        "print()\n",
        "\n",
        "# Your tests here:\n",
        "print(spongebobbify_all('I don\\'t know any spongebob quotes help'))\n",
        "print(spongebobbify_all('I only vaguely remember the song'))\n",
        "print(spongebobbify_all('WHO LIVES IN A PINEAPPLE UNDER THE SEA?'))\n",
        "print(spongebobbify_all('\"SPONGEBOB SQUAREPANTS!\"'))\n",
        "print(spongebobbify_all('ABSORBENT AND YELLOW AND POROUS IS HE'))\n",
        "print(spongebobbify_all('That\\'s about it :\\')'))"
      ],
      "metadata": {
        "id": "geZNGG45ZMlJ",
        "colab": {
          "base_uri": "https://localhost:8080/"
        },
        "outputId": "2e500a57-209b-4435-9787-162d9de5b916"
      },
      "execution_count": null,
      "outputs": [
        {
          "output_type": "stream",
          "name": "stdout",
          "text": [
            "f iS FOR frIenDs who dO sTUfF TOgEtHEr!\n",
            "i KNeW i sHoULdN'T HAVE GoTtEn Out OF BeD todAY.\n",
            "THE iNnER maCHINATIONs Of My miND arE An eNiGmA. - PATRick\n",
            "\n",
            "i DON't know aNY SPONGeBOB QUotEs HeLp\n",
            "i onLy vagUeLY reMemBER ThE song\n",
            "WHo liVeS in A pINeApplE unDer THE SEA?\n",
            "\"SPoNgEboB SQUarePANTs!\"\n",
            "ABsORBENt ANd YELLOW AnD pORoUs Is He\n",
            "THAT'S AbOUt iT :')\n"
          ]
        }
      ]
    },
    {
      "cell_type": "markdown",
      "source": [
        "### <font color=\"darkblue\"><b>Task #2</b></font>: ``encode_each(s)`` and ``decode_each(s)``\n",
        "\n",
        "also ``encode_once(s)`` and ``decode_once(s)``\n",
        "\n",
        "<br>\n",
        "\n",
        "_Any_ substitution is possible with our key idea:\n",
        "+ replace the **first** element: the ``once``\n",
        "+ continue the process with the **rest**: another ``all``\n",
        "+ be sure to **stop** (``return ''``) when no input remains!\n",
        "\n",
        "For <b>task #2</b>, we invite you to create your own ``encode`` and ``decode`` functions:\n",
        "\n",
        "<br>\n",
        "\n",
        "Your encode (``encode_once`` and ``encode_all``) should\n",
        "+ replace at least ten letters with other characters\n",
        "  + your choice - other letters, punctuation, emojis ``\"☕⚽ 🦔\"`` or some other one-to-one substitution\n",
        "  + totally ok to substitute more than ten: less readable\n",
        "  + it can't be random, because it needs to be reversible!\n",
        "  + use the loop approach or the recursion approach -- up to you! (Both work...)\n",
        "\n",
        "<br>\n",
        "\n",
        "Your decode (``decode_once`` and ``decode_each``) should\n",
        "+ reverse the effects of your encode functions\n",
        "\n",
        "<br>\n",
        "\n",
        "Then, run our tests -- and add three tests of your own\n",
        "+ let's say at least a sentence, or so, in size..."
      ],
      "metadata": {
        "id": "PTNNYYC3TBrA"
      }
    },
    {
      "cell_type": "code",
      "source": [
        "def encode_once(c):\n",
        "  \"\"\" encodes a character in the first half of the alphabet\n",
        "      (and some others), once \"\"\"\n",
        "  if c == ',': # , -> '\n",
        "    return \"'\"\n",
        "  elif c == \"'\": # ' -> .\n",
        "    return '.'\n",
        "  elif c == '.': # . -> ,\n",
        "    return ','\n",
        "  elif c == 'a': # a -> @ *rvrs\n",
        "    return '@'\n",
        "  elif c == '@': # @ -> a *rvrs\n",
        "    return 'a'\n",
        "  elif c == 'A': # A -> E *rvrs\n",
        "    return 'E'\n",
        "  elif c == 'b': # b -> d *rvrs\n",
        "    return 'd'\n",
        "  elif c == 'B':\n",
        "    return 'D'\n",
        "  elif c == 'c': # c <-> u *rvrs\n",
        "    return 'u'\n",
        "  elif c == 'C':\n",
        "    return 'U'\n",
        "  elif c == 'u':\n",
        "    return 'c'\n",
        "  elif c == 'U':\n",
        "    return 'C'\n",
        "  elif c == 'd': # d -> b * rvrs\n",
        "    return 'b'\n",
        "  elif c == 'D':\n",
        "    return 'B'\n",
        "  elif c == 'e': # e -> 3 * rvrs\n",
        "    return '3'\n",
        "  elif c == '3': # 3 -> E *rvrs\n",
        "    return 'e'\n",
        "  elif c == 'E': # E -> A * rvrs\n",
        "    return 'A'\n",
        "  elif c == 'f': # f -> l\n",
        "    return 'l'\n",
        "  elif c == 'F':\n",
        "    return 'L'\n",
        "  elif c == 'g': # g -> j *rvrs\n",
        "    return 'j'\n",
        "  elif c == 'G':\n",
        "    return 'J'\n",
        "  elif c == 'h': # h <-> p *rvrs\n",
        "    return 'p'\n",
        "  elif c == 'H':\n",
        "    return 'P'\n",
        "  elif c == 'p':\n",
        "    return 'h'\n",
        "  elif c == 'P':\n",
        "    return 'H'\n",
        "  elif c == 'i': # i <-> ! *rvrs\n",
        "    return '!'\n",
        "  elif c == '!':\n",
        "    return 'i'\n",
        "  elif c == 'I': # I <-> 1 *rvrs\n",
        "    return '1'\n",
        "  elif c == '1':\n",
        "    return 'I'\n",
        "  elif c == 'j': # j -> g *rvrs\n",
        "    return 'g'\n",
        "  elif c == 'J':\n",
        "    return 'G'\n",
        "  elif c == 'k': # k <-> w *rvrs\n",
        "    return 'w'\n",
        "  elif c == 'K':\n",
        "    return 'W'\n",
        "  elif c == 'w':\n",
        "    return 'k'\n",
        "  elif c == 'W':\n",
        "    return 'K'\n",
        "  elif c == 'l': # l -> f *rvrs\n",
        "    return 'f'\n",
        "  elif c == 'L':\n",
        "    return 'F'\n",
        "  else:\n",
        "    return c"
      ],
      "metadata": {
        "id": "oa2Vhkjo1iQb"
      },
      "execution_count": null,
      "outputs": []
    },
    {
      "cell_type": "code",
      "source": [
        "def decode_once(c):\n",
        "  \"\"\" decodes a character in the first half of the alphabet\n",
        "      (and some others), once \"\"\"\n",
        "  if c == \"'\": # , <- '\n",
        "    return \",\"\n",
        "  elif c == \".\": # ' <- .\n",
        "    return \"'\"\n",
        "  elif c == ',': # . <- ,\n",
        "    return '.'\n",
        "  elif c == 'a': # a -> @ *rvrs\n",
        "    return '@'\n",
        "  elif c == '@': # @ -> a *rvrs\n",
        "    return 'a'\n",
        "  elif c == 'A': # A -> E *rvrs\n",
        "    return 'E'\n",
        "  elif c == 'b': # b -> d *rvrs\n",
        "    return 'd'\n",
        "  elif c == 'B':\n",
        "    return 'D'\n",
        "  elif c == 'c': # c <-> u *rvrs\n",
        "    return 'u'\n",
        "  elif c == 'C':\n",
        "    return 'U'\n",
        "  elif c == 'u':\n",
        "    return 'c'\n",
        "  elif c == 'U':\n",
        "    return 'C'\n",
        "  elif c == 'd': # d -> b * rvrs\n",
        "    return 'b'\n",
        "  elif c == 'D':\n",
        "    return 'B'\n",
        "  elif c == 'e': # e -> 3 * rvrs\n",
        "    return '3'\n",
        "  elif c == '3': # 3 -> E *rvrs\n",
        "    return 'e'\n",
        "  elif c == 'E': # E -> A * rvrs\n",
        "    return 'A'\n",
        "  elif c == 'f': # f -> l\n",
        "    return 'l'\n",
        "  elif c == 'F':\n",
        "    return 'L'\n",
        "  elif c == 'g': # g -> j *rvrs\n",
        "    return 'j'\n",
        "  elif c == 'G':\n",
        "    return 'J'\n",
        "  elif c == 'h': # h <-> p *rvrs\n",
        "    return 'p'\n",
        "  elif c == 'H':\n",
        "    return 'P'\n",
        "  elif c == 'p':\n",
        "    return 'h'\n",
        "  elif c == 'P':\n",
        "    return 'H'\n",
        "  elif c == 'i': # i <-> ! *rvrs\n",
        "    return '!'\n",
        "  elif c == '!':\n",
        "    return 'i'\n",
        "  elif c == 'I': # I <-> 1 *rvrs\n",
        "    return '1'\n",
        "  elif c == '1':\n",
        "    return 'I'\n",
        "  elif c == 'j': # j -> g *rvrs\n",
        "    return 'g'\n",
        "  elif c == 'J':\n",
        "    return 'G'\n",
        "  elif c == 'k': # k <-> w *rvrs\n",
        "    return 'w'\n",
        "  elif c == 'K':\n",
        "    return 'W'\n",
        "  elif c == 'w':\n",
        "    return 'k'\n",
        "  elif c == 'W':\n",
        "    return 'K'\n",
        "  elif c == 'l': # l -> f *rvrs\n",
        "    return 'f'\n",
        "  elif c == 'L':\n",
        "    return 'F'\n",
        "  else:\n",
        "    return c"
      ],
      "metadata": {
        "id": "k_5n404f5auL"
      },
      "execution_count": null,
      "outputs": []
    },
    {
      "cell_type": "code",
      "source": [
        "#\n",
        "# Use this cell -- and/or create more cells -- for your encode and decode functions\n",
        "# There will be four functions in total!\n",
        "#\n",
        "def encode_each(E):\n",
        "  \"\"\"encode all the characters!!!\"\"\"\n",
        "  result = ''\n",
        "  for c in E:\n",
        "    result = result + encode_once(c)\n",
        "  return result\n",
        "\n",
        "def decode_each(D):\n",
        "  \"\"\"decode all the characters!!!\"\"\"\n",
        "  result = ''\n",
        "  for c in D:\n",
        "    result = result + decode_once(c)\n",
        "  return result\n",
        "\n",
        "\n",
        "\n",
        "\n",
        "# Our tests are below. Then, add three tests of your own:"
      ],
      "metadata": {
        "id": "5Aum-c6hvMLJ"
      },
      "execution_count": null,
      "outputs": []
    },
    {
      "cell_type": "code",
      "source": [
        "CGU = \"\"\"Claremont Graduate University prepares individuals to be leaders\n",
        "for positive change in the world. Unique in its transdisciplinary approach,\n",
        "the university is dedicated to the creation, dissemination, and application\n",
        "of new knowledge and diverse perspectives through research, practice,\n",
        "creative works, and community engagement.\"\"\"\n",
        "\n",
        "E = encode_each(CGU)\n",
        "print(\"encode_all(CGU) is '\", E, \"'\", sep='')\n",
        "print()\n",
        "\n",
        "D = decode_each(E)\n",
        "print(\"decode_all(E) is '\", D, \"'\", sep='')   # should be the original!\n",
        "print()\n",
        "\n",
        "CMC = \"\"\"Claremont McKenna College's mission is to educate its students\n",
        "for thoughtful and productive lives and responsible leadership in\n",
        "business, government, and the professions, and to support faculty\n",
        "and student scholarship that contribute to intellectual vitality\n",
        "and the understanding of public policy issues.\"\"\"\n",
        "\n",
        "E = encode_each(CMC)\n",
        "print(\"encode_all(CMC) is '\", E, \"'\", sep='')\n",
        "print()\n",
        "D = decode_each(E)\n",
        "print(\"decode_all(E) is '\", D, \"'\", sep='')   # should be the original!\n",
        "print()\n",
        "\n",
        "SCR = \"\"\"The mission of Scripps College is to educate women to\n",
        "develop their intellects and talents through active participation\n",
        "in a community of scholars, so that as graduates they may contribute\n",
        "to society through public and private lives of leadership, service,\n",
        "integrity, and creativity..\"\"\"\n",
        "\n",
        "E = encode_each(SCR)\n",
        "print(\"encode_all(SCR) is '\", E, \"'\", sep='')\n",
        "print()\n",
        "D = decode_each(E)\n",
        "print(\"decode_all(E) is '\", D, \"'\", sep='')  # should be the original!\n",
        "\n",
        "# that is illegible :')"
      ],
      "metadata": {
        "colab": {
          "base_uri": "https://localhost:8080/"
        },
        "outputId": "5cfed76b-678a-4346-bf19-64b4c3fb96d2",
        "id": "_2gAP52avieC"
      },
      "execution_count": null,
      "outputs": [
        {
          "output_type": "stream",
          "name": "stdout",
          "text": [
            "encode_all(CGU) is 'Uf@r3mont Jr@bc@t3 Cn!v3rs!ty hr3h@r3s !nb!v!bc@fs to d3 f3@b3rs\n",
            "lor hos!t!v3 up@nj3 !n tp3 korfb, Cn!qc3 !n !ts tr@nsb!su!hf!n@ry @hhro@up'\n",
            "tp3 cn!v3rs!ty !s b3b!u@t3b to tp3 ur3@t!on' b!ss3m!n@t!on' @nb @hhf!u@t!on\n",
            "ol n3k wnokf3bj3 @nb b!v3rs3 h3rsh3ut!v3s tprocjp r3s3@rup' hr@ut!u3'\n",
            "ur3@t!v3 korws' @nb uommcn!ty 3nj@j3m3nt,'\n",
            "\n",
            "decode_all(E) is 'Claremont Graduate University prepares individuals to be leaders\n",
            "for positive change in the world. Unique in its transdisciplinary approach,\n",
            "the university is dedicated to the creation, dissemination, and application\n",
            "of new knowledge and diverse perspectives through research, practice,\n",
            "creative works, and community engagement.'\n",
            "\n",
            "encode_all(CMC) is 'Uf@r3mont MuW3nn@ Uoff3j3.s m!ss!on !s to 3bcu@t3 !ts stcb3nts\n",
            "lor tpocjptlcf @nb hrobcut!v3 f!v3s @nb r3shons!df3 f3@b3rsp!h !n\n",
            "dcs!n3ss' jov3rnm3nt' @nb tp3 hrol3ss!ons' @nb to schhort l@ucfty\n",
            "@nb stcb3nt supof@rsp!h tp@t uontr!dct3 to !nt3ff3utc@f v!t@f!ty\n",
            "@nb tp3 cnb3rst@nb!nj ol hcdf!u hof!uy !ssc3s,'\n",
            "\n",
            "decode_all(E) is 'Claremont McKenna College's mission is to educate its students\n",
            "for thoughtful and productive lives and responsible leadership in\n",
            "business, government, and the professions, and to support faculty\n",
            "and student scholarship that contribute to intellectual vitality\n",
            "and the understanding of public policy issues.'\n",
            "\n",
            "encode_all(SCR) is 'Tp3 m!ss!on ol Sur!hhs Uoff3j3 !s to 3bcu@t3 kom3n to\n",
            "b3v3foh tp3!r !nt3ff3uts @nb t@f3nts tprocjp @ut!v3 h@rt!u!h@t!on\n",
            "!n @ uommcn!ty ol supof@rs' so tp@t @s jr@bc@t3s tp3y m@y uontr!dct3\n",
            "to sou!3ty tprocjp hcdf!u @nb hr!v@t3 f!v3s ol f3@b3rsp!h' s3rv!u3'\n",
            "!nt3jr!ty' @nb ur3@t!v!ty,,'\n",
            "\n",
            "decode_all(E) is 'The mission of Scripps College is to educate women to\n",
            "develop their intellects and talents through active participation\n",
            "in a community of scholars, so that as graduates they may contribute\n",
            "to society through public and private lives of leadership, service,\n",
            "integrity, and creativity..'\n"
          ]
        }
      ]
    },
    {
      "cell_type": "code",
      "source": [
        "#\n",
        "# Above - or here - include three encode/decode tests of your own...\n",
        "#\n",
        "\n",
        "ELR = \"\"\"El Roble Intermediate School provides a warm, stimulating environment\n",
        " where students are actively involved in learning academics as well as positive\n",
        " values... We have made a commitment to provide the best educational\n",
        " program possible for El Roble Intermediate School's students... Together, through\n",
        " our hard work, each student is equipped academically, prepared socially, and\n",
        " empowered to participate and thrive in a a challenging, diverse world. \"\"\"\n",
        "E = encode_each(ELR)\n",
        "print(\"encode_all(ELR) is '\", E, \"'\", sep='')\n",
        "print()\n",
        "D = decode_each(E)\n",
        "print(\"decode_all(E) is '\", D, \"'\", sep='')\n",
        "print()\n",
        "\n",
        "CHS = \"\"\"CHS is an extraordinarily special school that exemplifies more than a\n",
        "century of academic excellence and tradition. Visitors to CHS frequently note\n",
        " he park and college-like atmosphere of our campus, and our student-centered\n",
        " approach to teaching and learning. As a truly comprehensive high school, CHS\n",
        " features a full range of co-curricular and extra-curricular activities... CHS\n",
        " offers Advanced Placement (AP), IB, AVID, and dual-enrollment Citrus College/CHS\n",
        " courses on our campus. CHS students who have exhausted our curricular options\n",
        " also have opportunities to take courses with the Claremont Colleges. CHS has\n",
        " been recognized by the California Department of Education as an Exemplary Arts\n",
        " Education Program...\"\"\"\n",
        "E = encode_each(CHS)\n",
        "print(\"encode_all(CGU) is '\", E, \"'\", sep='')\n",
        "print()\n",
        "D = decode_each(E)\n",
        "print(\"decode_all(E) is '\", D, \"'\", sep='')\n",
        "print()\n",
        "\n",
        "WA = \"\"\" The wandering albatross, also known as the snowy albatross or the white\n",
        " winged albatross is a seabird in the Diomedeidae. Young wandering albatrosses\n",
        " are brown, and become whiter throughout their lifetime. They have the largest\n",
        " wingspan of any extant bird. By catching the wind with these large wings, they\n",
        " are able to stay in the air for long periods of time without flapping their wings.\n",
        " Most albatrosses never touch land for several years, instead landing on the water\n",
        " to rest. They can live for over 50 years.\"\"\"\n",
        "E = encode_each(WA)\n",
        "print(\"encode_all(WA) is '\", E, \"'\", sep='')\n",
        "print()\n",
        "D = decode_each(E)\n",
        "print(\"decode_all(E) is '\", D, \"'\", sep='')\n",
        "print()"
      ],
      "metadata": {
        "id": "sJ9Wcp1GeCgj",
        "colab": {
          "base_uri": "https://localhost:8080/"
        },
        "outputId": "cee1945a-cff6-4c65-fef2-6f9891f51b6c"
      },
      "execution_count": null,
      "outputs": [
        {
          "output_type": "stream",
          "name": "stdout",
          "text": [
            "encode_all(ELR) is 'Af Rodf3 1nt3rm3b!@t3 Supoof hrov!b3s @ k@rm' st!mcf@t!nj 3nv!ronm3nt \n",
            " kp3r3 stcb3nts @r3 @ut!v3fy !nvofv3b !n f3@rn!nj @u@b3m!us @s k3ff @s hos!t!v3 \n",
            " v@fc3s,,, K3 p@v3 m@b3 @ uomm!tm3nt to hrov!b3 tp3 d3st 3bcu@t!on@f \n",
            " hrojr@m hoss!df3 lor Af Rodf3 1nt3rm3b!@t3 Supoof.s stcb3nts,,, Toj3tp3r' tprocjp\n",
            " ocr p@rb korw' 3@up stcb3nt !s 3qc!hh3b @u@b3m!u@ffy' hr3h@r3b sou!@ffy' @nb \n",
            " 3mhok3r3b to h@rt!u!h@t3 @nb tpr!v3 !n @ @ up@ff3nj!nj' b!v3rs3 korfb, '\n",
            "\n",
            "decode_all(E) is 'El Roble Intermediate School provides a warm, stimulating environment \n",
            " where students are actively involved in learning academics as well as positive \n",
            " values... We have made a commitment to provide the best educational \n",
            " program possible for El Roble Intermediate School's students... Together, through\n",
            " our hard work, each student is equipped academically, prepared socially, and \n",
            " empowered to participate and thrive in a a challenging, diverse world. '\n",
            "\n",
            "encode_all(CGU) is 'UPS !s @n 3xtr@orb!n@r!fy sh3u!@f supoof tp@t 3x3mhf!l!3s mor3 tp@n @\n",
            "u3ntcry ol @u@b3m!u 3xu3ff3nu3 @nb tr@b!t!on, V!s!tors to UPS lr3qc3ntfy not3 \n",
            " p3 h@rw @nb uoff3j3-f!w3 @tmoshp3r3 ol ocr u@mhcs' @nb ocr stcb3nt-u3nt3r3b \n",
            " @hhro@up to t3@up!nj @nb f3@rn!nj, Es @ trcfy uomhr3p3ns!v3 p!jp supoof' UPS \n",
            " l3@tcr3s @ lcff r@nj3 ol uo-ucrr!ucf@r @nb 3xtr@-ucrr!ucf@r @ut!v!t!3s,,, UPS \n",
            " oll3rs Ebv@nu3b Hf@u3m3nt (EH)' 1D' EV1B' @nb bc@f-3nroffm3nt U!trcs Uoff3j3/UPS \n",
            " uocrs3s on ocr u@mhcs, UPS stcb3nts kpo p@v3 3xp@cst3b ocr ucrr!ucf@r oht!ons \n",
            " @fso p@v3 ohhortcn!t!3s to t@w3 uocrs3s k!tp tp3 Uf@r3mont Uoff3j3s, UPS p@s \n",
            " d33n r3uojn!z3b dy tp3 U@f!lorn!@ B3h@rtm3nt ol Abcu@t!on @s @n Ax3mhf@ry Erts \n",
            " Abcu@t!on Hrojr@m,,,'\n",
            "\n",
            "decode_all(E) is 'CHS is an extraordinarily special school that exemplifies more than a\n",
            "century of academic excellence and tradition. Visitors to CHS frequently note \n",
            " he park and college-like atmosphere of our campus, and our student-centered \n",
            " approach to teaching and learning. As a truly comprehensive high school, CHS \n",
            " features a full range of co-curricular and extra-curricular activities... CHS \n",
            " offers Advanced Placement (AP), IB, AVID, and dual-enrollment Citrus College/CHS \n",
            " courses on our campus. CHS students who have exhausted our curricular options \n",
            " also have opportunities to take courses with the Claremont Colleges. CHS has \n",
            " been recognized by the California Department of Education as an Exemplary Arts \n",
            " Education Program...'\n",
            "\n",
            "encode_all(WA) is ' Tp3 k@nb3r!nj @fd@tross' @fso wnokn @s tp3 snoky @fd@tross or tp3 kp!t3\n",
            " k!nj3b @fd@tross !s @ s3@d!rb !n tp3 B!om3b3!b@3, Yocnj k@nb3r!nj @fd@tross3s\n",
            " @r3 drokn' @nb d3uom3 kp!t3r tprocjpoct tp3!r f!l3t!m3, Tp3y p@v3 tp3 f@rj3st\n",
            " k!njsh@n ol @ny 3xt@nt d!rb, Dy u@tup!nj tp3 k!nb k!tp tp3s3 f@rj3 k!njs' tp3y \n",
            " @r3 @df3 to st@y !n tp3 @!r lor fonj h3r!obs ol t!m3 k!tpoct lf@hh!nj tp3!r k!njs,\n",
            " Most @fd@tross3s n3v3r tocup f@nb lor s3v3r@f y3@rs' !nst3@b f@nb!nj on tp3 k@t3r\n",
            " to r3st, Tp3y u@n f!v3 lor ov3r 50 y3@rs,'\n",
            "\n",
            "decode_all(E) is ' The wandering albatross, also known as the snowy albatross or the white\n",
            " winged albatross is a seabird in the Diomedeidae. Young wandering albatrosses\n",
            " are brown, and become whiter throughout their lifetime. They have the largest\n",
            " wingspan of any extant bird. By catching the wind with these large wings, they \n",
            " are able to stay in the air for long periods of time without flapping their wings.\n",
            " Most albatrosses never touch land for several years, instead landing on the water\n",
            " to rest. They can live for over 50 years.'\n",
            "\n"
          ]
        }
      ]
    },
    {
      "cell_type": "markdown",
      "source": [
        "### <font color=\"darkblue\"><b>Task #3: Counting!</b></font> &nbsp; ``vwl_once(s)`` and ``vwl_count(s)``\n",
        "\n",
        "<br>\n",
        "\n",
        "This technique handles _any_ substitution, even numeric ones!\n",
        "\n",
        "Next, our goal will be to ***count*** the number of vowels in an input string ``s``:\n",
        "+ we use ``vwl_once(s)`` to give a count of ``1`` to vowels\n",
        "+ and we give a count of ``0`` to everything that's not a vowel\n",
        "+ For now, we'll count ``aeiou`` as vowels, and their uppercase selves\n",
        "\n",
        "Then, **you** will write  ``vwl_count(s)`` to handle arbitrary-sized inputs!\n",
        "+ The first functions is written, as shown below.\n",
        "+ The second one is prepared, and your task is to complete it...\n",
        "+ It will be very much like previous functions!\n",
        "\n",
        "<br>\n",
        "\n",
        "Then, try it out -- analyze the \"vowel-content\" of the three mission statements above -- and test your own and a friend's prose-paragraphs:"
      ],
      "metadata": {
        "id": "yquk1xgWXz2z"
      }
    },
    {
      "cell_type": "code",
      "source": [
        "#\n",
        "# Here are vwl_once and vwl_all\n",
        "#\n",
        "\n",
        "def vwl_once(s):\n",
        "  \"\"\" returns a score of 1 for single-character vowels aeiou\n",
        "      returns a score of 0 for everything else\n",
        "  \"\"\"\n",
        "  if len(s) != 1:    # not a single-character? score is 0\n",
        "    return 0\n",
        "  else:\n",
        "    s = s.lower()    # simplify by making s lower case\n",
        "    if s in 'aeiou':      # if s is in that string, it's a vowel: score is 1\n",
        "      return 1\n",
        "    else:                 # if not: score is 0\n",
        "      return 0\n",
        "\n",
        "\n",
        "def vwl_count(s):\n",
        "  \"\"\" returns the total \"vowel-score for an input string s\n",
        "      that is, we return the number of vowels in s\n",
        "  \"\"\"\n",
        "  # you need to write this one!\n",
        "  # use the previous examples (especially the \"each\" examples) as a guide! :-)\n",
        "\n",
        "\n",
        "\n",
        "# Tests and tests-to-write are in the next cells:"
      ],
      "metadata": {
        "id": "ffMaiI26eIZQ"
      },
      "execution_count": null,
      "outputs": []
    },
    {
      "cell_type": "code",
      "source": [
        "print(\"vwl_count('English usually has lots of vowels.') should be 10 <->\", vwl_count('English usually has lots of vowels.'))\n",
        "print(\"The CGU mission statement has this many vowels: (let's see!) <->\", vwl_count(CGU))"
      ],
      "metadata": {
        "id": "YCtNmfnZetpe"
      },
      "execution_count": null,
      "outputs": []
    },
    {
      "cell_type": "code",
      "source": [
        "#\n",
        "# Part 1 task: determine which mission statement has the most vowels-per-character!\n",
        "#\n",
        "#        Hint: count the vowels, then use len to determine vowels-per-character!\n",
        "#        Compare the three strings already defined above:   CGU,  CMC,  and SCR\n",
        "U = vwl_count(CGU)/len(CGU)\n",
        "print('CGU has', U, 'vowels per character.')\n",
        "C = vwl_count(CMC)/len(CMC)\n",
        "print('CMC has', C, 'vowels per character.')\n",
        "R = vwl_count(SCR)/len(SCR)\n",
        "print('SCR has', R, 'vowels per character.')\n",
        "print('CGU has the most vowels per character')"
      ],
      "metadata": {
        "colab": {
          "base_uri": "https://localhost:8080/"
        },
        "outputId": "a2066739-f0f0-431b-c4bb-5542f344b0e9",
        "id": "ubfhJ1iJvuGB"
      },
      "execution_count": null,
      "outputs": [
        {
          "output_type": "stream",
          "name": "stdout",
          "text": [
            "CGU has 0.3353658536585366 vowels per character.\n",
            "CMC has 0.30392156862745096 vowels per character.\n",
            "SCR has 0.3204225352112676 vowels per character.\n",
            "CGU has the most vowels per character\n"
          ]
        }
      ]
    },
    {
      "cell_type": "code",
      "source": [
        "#\n",
        "# Part 2 task: determine whose prose is more vowel-rich?\n",
        "# + find a paragraph of prose you've written\n",
        "# + find a paragraph a friend has written (or another one that you have!)\n",
        "#\n",
        "# Assign each to a variable:\n",
        "\n",
        "\n",
        "\n",
        "# A thing we did for English :D\n",
        "\n",
        "YOURS = \"\"\"It swayed, calling on its friends—were they friends? Did it even have\n",
        " friends?— to help. The dim moonlight was blocked completely, plunging the forest\n",
        " floor into pitch blackness. It heard them begin to panic. Clearly they hadn’t\n",
        " had the foresight to bring a flashlight. It was pleased with itself, sending out\n",
        " waves of praise to its friends. Yes, they were the closest anything would come\n",
        " to be its friends.\"\"\"\n",
        "\n",
        "THEIRS = \"\"\"There is something… off about these woods. I don’t know exactly what\n",
        " it was, it just felt weird. You know that feeling when you think someone is\n",
        " watching you? When you see odd shadows in the corners of your eyes, when you can\n",
        " hear your heart pounding in your ears, and the sense of dread. Dread. That’s what\n",
        " I’m feeling, deep in these woods. Like something horrible is just out of sight,\n",
        " toying with me.\"\"\"\n",
        "\n",
        "#\n",
        "# This analysis is similar to the mission statements...\n",
        "#\n",
        "M = vwl_count(YOURS)/len(YOURS)\n",
        "print('YOURS has', M, 'vowels per character.')\n",
        "H = vwl_count(THEIRS)/len(THEIRS)\n",
        "print('THEIRS has', H, 'vowels per character.')\n",
        "print('THEIRS has the most vowels per character')\n",
        "\n",
        "# :(\n",
        "# I  n e e d  m o r e  v o w e l s . . ."
      ],
      "metadata": {
        "colab": {
          "base_uri": "https://localhost:8080/"
        },
        "outputId": "411299df-f1c7-454e-e776-a47eb606c4e4",
        "id": "c31SRGmnv-Qv"
      },
      "execution_count": null,
      "outputs": [
        {
          "output_type": "stream",
          "name": "stdout",
          "text": [
            "YOURS has 0.26506024096385544 vowels per character.\n",
            "THEIRS has 0.29539951573849876 vowels per character.\n",
            "CGU has the most vowels per character\n"
          ]
        }
      ]
    },
    {
      "cell_type": "markdown",
      "metadata": {
        "id": "keRyNeHE3gF4"
      },
      "source": [
        "<br>\n",
        "\n",
        "# Loops!\n",
        "\n",
        "in addition, this notebook combines last week's ideas (functions and slicing/indexing) with the most important time-saving capability of programming languages: <i>repetition</i>\n",
        "\n",
        "That is, we're diving into <i><b>loops</b></i>\n",
        "\n",
        "In addition, we explore more deeply a library we used in the rock-paper-scissors problem, namely the <b><tt>random</tt></b> library.\n",
        "\n",
        "Together, <i>randomness</i> and <i>loops</i> are a powerful combination. Later in this notebook, you will create a <i>Monte Carlo simulations</i> using randomness-within-loops.\n",
        "\n",
        "<hr>\n",
        "\n",
        "## Onward!\n",
        "\n",
        "<br>"
      ]
    },
    {
      "cell_type": "code",
      "execution_count": null,
      "metadata": {
        "colab": {
          "base_uri": "https://localhost:8080/",
          "height": 35
        },
        "outputId": "62dde114-cff0-42a2-df5c-9fb3718fede0",
        "id": "qQmRWjO7wzPs"
      },
      "outputs": [
        {
          "output_type": "execute_result",
          "data": {
            "text/plain": [
              "'Greetings'"
            ],
            "application/vnd.google.colaboratory.intrinsic+json": {
              "type": "string"
            }
          },
          "metadata": {},
          "execution_count": 8
        }
      ],
      "source": [
        "\n",
        "# this imports the library named random\n",
        "\n",
        "import random\n",
        "\n",
        "# once it's imported, you are able to call random.choice(L) for any sequence L\n",
        "# try it:\n",
        "L = ['Hi', 'Hello', 'Morning', 'Greetings']\n",
        "random.choice(L)"
      ]
    },
    {
      "cell_type": "code",
      "execution_count": null,
      "metadata": {
        "colab": {
          "base_uri": "https://localhost:8080/"
        },
        "outputId": "f179bbc9-50cb-44f9-c058-0cb75285c8e7",
        "id": "egJzbBL2xI9l"
      },
      "outputs": [
        {
          "output_type": "stream",
          "name": "stdout",
          "text": [
            "result is graduate\n",
            "\n",
            "threes is 333\n"
          ]
        }
      ],
      "source": [
        "\n",
        "# Try out random.choice -- several times!\n",
        "result = random.choice( ['claremont', 'graduate', 'university'] )\n",
        "print(\"result is\", result)\n",
        "\n",
        "threes = random.choice([333, 33, 3, 33333, 999])\n",
        "print()\n",
        "print('threes is', threes)"
      ]
    },
    {
      "cell_type": "code",
      "execution_count": null,
      "metadata": {
        "id": "AReUp5wT3gGD",
        "colab": {
          "base_uri": "https://localhost:8080/"
        },
        "outputId": "fb427c38-f9d5-40cf-eb3c-cf7a1d78d1f0"
      },
      "outputs": [
        {
          "output_type": "stream",
          "name": "stdout",
          "text": [
            "result is claremont\n",
            "result is graduate\n",
            "result is university\n",
            "result is claremont\n",
            "result is graduate\n",
            "result is graduate\n",
            "result is university\n",
            "result is university\n",
            "result is claremont\n",
            "result is university\n"
          ]
        }
      ],
      "source": [
        "\n",
        "# let's see a loop do this 10 times!\n",
        "\n",
        "for i in range(10):                # loop 10 times\n",
        "    result = random.choice( ['claremont', 'graduate', 'university'] ) # choose\n",
        "    print(\"result is\", result)     # print"
      ]
    },
    {
      "cell_type": "code",
      "execution_count": null,
      "metadata": {
        "id": "8aAzqlsj3gGF"
      },
      "outputs": [],
      "source": [
        "\n",
        "#\n",
        "# you can also import a library can be imported by using this line:\n",
        "\n",
        "from random import *\n",
        "\n",
        "# when the above line is run, you are able to call choice(L) for any sequence L\n",
        "#\n",
        "# note that you won't need random.choice(L)\n",
        "# let's try it!"
      ]
    },
    {
      "cell_type": "code",
      "execution_count": null,
      "metadata": {
        "id": "SKvXsosu3gGG",
        "colab": {
          "base_uri": "https://localhost:8080/"
        },
        "outputId": "61127d16-b84d-4f12-caea-d3d9b319e83b"
      },
      "outputs": [
        {
          "output_type": "stream",
          "name": "stdout",
          "text": [
            "result is paper\n"
          ]
        }
      ],
      "source": [
        "\n",
        "result = choice( [\"rock\", \"paper\", \"scissors\"] )\n",
        "print(\"result is\", result)"
      ]
    },
    {
      "cell_type": "code",
      "execution_count": null,
      "metadata": {
        "colab": {
          "base_uri": "https://localhost:8080/"
        },
        "outputId": "6e76e860-be21-42d5-fdc5-e9c8e2868beb",
        "id": "cCK9z3FwxpRC"
      },
      "outputs": [
        {
          "output_type": "stream",
          "name": "stdout",
          "text": [
            "[300, 301, 302, 303, 304, 305, 306, 307, 308, 309, 310, 311, 312, 313, 314, 315, 316, 317, 318, 319, 320, 321, 322, 323, 324, 325, 326, 327, 328, 329, 330, 331, 332]\n"
          ]
        }
      ],
      "source": [
        "\n",
        "# Python can create lists of any integers you'd like...\n",
        "L = list(range(300,333))    # try different values; try omitting/changing the 0\n",
        "print(L)"
      ]
    },
    {
      "cell_type": "code",
      "execution_count": null,
      "metadata": {
        "colab": {
          "base_uri": "https://localhost:8080/"
        },
        "outputId": "1d79f6f3-3f21-41c4-9383-1df37f1a54bf",
        "id": "4VpOBqYtxtPS"
      },
      "outputs": [
        {
          "output_type": "stream",
          "name": "stdout",
          "text": [
            "result is 86\n"
          ]
        }
      ],
      "source": [
        "\n",
        "# combining these, we can choose random integers from a list\n",
        "result = choice( range(0,100) )   # from 0 to 99\n",
        "print(\"result is\", result)"
      ]
    },
    {
      "cell_type": "code",
      "execution_count": null,
      "metadata": {
        "colab": {
          "base_uri": "https://localhost:8080/"
        },
        "outputId": "47806cdc-ee49-4b53-ad32-3d80adfb8927",
        "id": "9nbzEVBKxwkX"
      },
      "outputs": [
        {
          "output_type": "stream",
          "name": "stdout",
          "text": [
            "result is 91\n",
            "result is 39\n",
            "result is 78\n",
            "result is 95\n",
            "result is 41\n",
            "result is 80\n",
            "result is 44\n",
            "result is 53\n",
            "result is 39\n",
            "result is 83\n"
          ]
        }
      ],
      "source": [
        "\n",
        "# let's run this 10 times!\n",
        "for i in range(0,10):\n",
        "    result = choice( range(0,100) )   # from 0 to 99\n",
        "    print(\"result is\", result)"
      ]
    },
    {
      "cell_type": "code",
      "execution_count": null,
      "metadata": {
        "id": "jqs9df3l3gGJ",
        "colab": {
          "base_uri": "https://localhost:8080/"
        },
        "outputId": "abb1a8f3-1c96-44a8-8f0f-9e2908b20698"
      },
      "outputs": [
        {
          "output_type": "stream",
          "name": "stdout",
          "text": [
            "i is 0\n",
            "i is 1\n",
            "i is 2\n"
          ]
        }
      ],
      "source": [
        "\n",
        "# let's get more comfortable with loops...\n",
        "\n",
        "for i in [0,1,2]:     # Key: What variable is being defined and set?! i\n",
        "    print(\"i is\", i)\n"
      ]
    },
    {
      "cell_type": "code",
      "execution_count": null,
      "metadata": {
        "id": "eb2C9OKS3gGJ",
        "colab": {
          "base_uri": "https://localhost:8080/"
        },
        "outputId": "5e45071c-4e1b-40dc-da04-96b17a51d790"
      },
      "outputs": [
        {
          "output_type": "stream",
          "name": "stdout",
          "text": [
            "i is 0\n",
            "i is 1\n",
            "i is 2\n"
          ]
        }
      ],
      "source": [
        "\n",
        "# Note that range(0,3) generates [0,1,2]\n",
        "\n",
        "for i in range(0,3):     # Key: What variable is being defined and set?! i, again\n",
        "    print(\"i is\", i)\n",
        "\n",
        "# When would you _not_ want to use range for integers? when they are not in a row"
      ]
    },
    {
      "cell_type": "code",
      "execution_count": null,
      "metadata": {
        "colab": {
          "base_uri": "https://localhost:8080/"
        },
        "outputId": "dc016e06-3e39-4eef-f247-c18e828a5b70",
        "id": "IAUsUT8yX4II"
      },
      "outputs": [
        {
          "output_type": "stream",
          "name": "stdout",
          "text": [
            "x is 2\n",
            "x is 15\n",
            "x is 2025\n"
          ]
        }
      ],
      "source": [
        "\n",
        "# Usually i is for counting, x is for other things (wise, not req.)\n",
        "\n",
        "for x in [2,15,2025]:     # Key: the loop variable\n",
        "    print(\"x is\", x)\n",
        "\n",
        "# When would you _not_ want to use range for integers?"
      ]
    },
    {
      "cell_type": "code",
      "execution_count": null,
      "metadata": {
        "colab": {
          "base_uri": "https://localhost:8080/"
        },
        "outputId": "b668e0cf-1dfa-4c57-e53b-7604dff02e48",
        "id": "MPmUXM7tX9sY"
      },
      "outputs": [
        {
          "output_type": "stream",
          "name": "stdout",
          "text": [
            "Happy birthday!\n",
            "Happy birthday!\n",
            "Happy birthday!\n",
            "Happy birthday!\n",
            "Happy birthday!\n",
            "Happy birthday!\n",
            "Happy birthday!\n",
            "Happy birthday!\n",
            "Happy birthday!\n",
            "Happy birthday!\n",
            "Happy birthday!\n",
            "Happy birthday!\n",
            "Happy birthday!\n",
            "Happy birthday!\n",
            "Happy birthday!\n",
            "Happy birthday!\n",
            "Happy birthday!\n",
            "Happy birthday!\n",
            "Happy birthday!\n",
            "Happy birthday!\n",
            "Happy birthday!\n",
            "Happy birthday!\n",
            "Happy birthday!\n",
            "Happy birthday!\n",
            "Happy birthday!\n",
            "Happy birthday!\n",
            "Happy birthday!\n",
            "Happy birthday!\n",
            "Happy birthday!\n",
            "Happy birthday!\n",
            "Happy birthday!\n",
            "Happy birthday!\n",
            "Happy birthday!\n",
            "Happy birthday!\n",
            "Happy birthday!\n",
            "Happy birthday!\n",
            "Happy birthday!\n",
            "Happy birthday!\n",
            "Happy birthday!\n",
            "Happy birthday!\n",
            "Happy birthday!\n",
            "Happy birthday!\n"
          ]
        }
      ],
      "source": [
        "\n",
        "# How could we get this to print \"Happy birthday!\" 42 times?\n",
        "\n",
        "for i in range(42):\n",
        "    print('Happy birthday!')"
      ]
    },
    {
      "cell_type": "markdown",
      "metadata": {
        "id": "7KFo8pX73gGV"
      },
      "source": [
        "<br>\n",
        "\n",
        "#### Functions often use loops... Watch out!\n",
        "+ <tt><b>return</b></tt> is <i>more powerful</i> than the loop\n",
        "+ <tt><b>return</b></tt> <i>always</i> wins!\n",
        "\n",
        "Take a look:"
      ]
    },
    {
      "cell_type": "code",
      "execution_count": null,
      "metadata": {
        "colab": {
          "base_uri": "https://localhost:8080/"
        },
        "outputId": "08d0ed6e-0ccc-4e94-feff-a18df3415f1e",
        "id": "RyIq4XpIYN9K"
      },
      "outputs": [
        {
          "output_type": "stream",
          "name": "stdout",
          "text": [
            "i is 0\n",
            "i is 1\n",
            "i is 2\n"
          ]
        }
      ],
      "source": [
        "\n",
        "# return _after_ a loop:\n",
        "\n",
        "def funA():\n",
        "    for i in range(0,3):\n",
        "        print(\"i is\", i)\n",
        "    return\n",
        "\n",
        "# why does this not print anything?!??\n",
        "funA()\n",
        "# now it does :D\n"
      ]
    },
    {
      "cell_type": "code",
      "execution_count": null,
      "metadata": {
        "id": "n4nsuJUZ3gGW"
      },
      "outputs": [],
      "source": [
        "\n",
        "# return _within_ a loop:\n",
        "\n",
        "def funB():\n",
        "    for i in range(0,3):\n",
        "       print(\"i is\", i)\n",
        "       return\n",
        "\n",
        "# What do we need here?  (Is this what you expect?!)\n"
      ]
    },
    {
      "cell_type": "code",
      "execution_count": null,
      "metadata": {
        "colab": {
          "base_uri": "https://localhost:8080/"
        },
        "outputId": "29bbf717-8e22-44ef-87fc-b5c84a3a2acf",
        "id": "snk_B9zOYzV1"
      },
      "outputs": [
        {
          "output_type": "stream",
          "name": "stdout",
          "text": [
            "i is 0\n"
          ]
        }
      ],
      "source": [
        "\n",
        "# return _within_ a loop:\n",
        "\n",
        "def funB():\n",
        "    for i in range(0,3):\n",
        "       print(\"i is\", i)\n",
        "       return\n",
        "\n",
        "# What do we need here?  (Is this what you expect?!)\n",
        "# return just ends the whole function before the loop can happen :("
      ]
    },
    {
      "cell_type": "code",
      "execution_count": null,
      "metadata": {
        "colab": {
          "base_uri": "https://localhost:8080/"
        },
        "outputId": "ed7c4541-bd08-4125-d55f-ffd2553585ef",
        "id": "TrY25yXvZIuP"
      },
      "outputs": [
        {
          "output_type": "stream",
          "name": "stdout",
          "text": [
            "i is 2\n"
          ]
        }
      ],
      "source": [
        "\n",
        "# let's add an if statement (a conditional)\n",
        "#              ... to test different indentations\n",
        "\n",
        "def funB1():\n",
        "    for i in range(1,6):\n",
        "        if i%2 == 0:\n",
        "            print(\"i is\", i)\n",
        "            return\n",
        "\n",
        "funB1()"
      ]
    },
    {
      "cell_type": "markdown",
      "metadata": {
        "id": "U1e4MYjc3gGW"
      },
      "source": [
        "<br>\n",
        "\n",
        "#### Accumulators\n",
        "+ a <i>very</i> common approach is to use a loop to <i>accumulate</i> a desired result\n",
        "+ the idea is to start the result at a \"nothing\" value, which is not always zero...\n",
        "+ then operate on it until it becomes the final result!\n",
        "\n",
        "#### factorial\n",
        "+ <pre>fac(5) == 1*2*3*4*5</pre>\n",
        "+ <pre>fac(N) == 1*2*3*4* ... *(N-2)*(N-1)*N</pre>\n",
        "\n",
        "#### addup\n",
        "+ <pre>addup(5) == 1+2+3+4+5</pre>\n",
        "+ <pre>addup(N) == 1+2+3+4+ ... +(N-2)+(N-1)+N</pre>\n",
        "\n",
        "<br>"
      ]
    },
    {
      "cell_type": "code",
      "execution_count": null,
      "metadata": {
        "colab": {
          "base_uri": "https://localhost:8080/"
        },
        "outputId": "94a25fd3-b68e-4844-b201-ba035509ba63",
        "id": "rKA4TETNZRtK"
      },
      "outputs": [
        {
          "output_type": "execute_result",
          "data": {
            "text/plain": [
              "10"
            ]
          },
          "metadata": {},
          "execution_count": 48
        }
      ],
      "source": [
        "\n",
        "# an add-em-up function\n",
        "\n",
        "def addup(N):\n",
        "    \"\"\" adds from 1 through N (inclusive)\n",
        "    \"\"\"\n",
        "    result = 0\n",
        "\n",
        "    for x in range(1,N+1):\n",
        "        result = result + x\n",
        "\n",
        "    return result\n",
        "\n",
        "# addup(4) should be 0+1+2+3+4 == 10\n",
        "addup(4)"
      ]
    },
    {
      "cell_type": "code",
      "execution_count": null,
      "metadata": {
        "colab": {
          "base_uri": "https://localhost:8080/"
        },
        "outputId": "804c8b5e-16ca-401b-f634-8b89524ccb81",
        "id": "ukHw35JsZW7I"
      },
      "outputs": [
        {
          "output_type": "execute_result",
          "data": {
            "text/plain": [
              "24"
            ]
          },
          "metadata": {},
          "execution_count": 49
        }
      ],
      "source": [
        "\n",
        "# an factorial function\n",
        "\n",
        "def fac(N):\n",
        "    \"\"\" a factorial function, returns the factorial of the input N\n",
        "    \"\"\"\n",
        "    result = 1\n",
        "\n",
        "    for x in range(1,N+1):\n",
        "        result = result*x\n",
        "\n",
        "    return result\n",
        "\n",
        "# fac(4) should be 1*2*3*4 == 24\n",
        "fac(4)"
      ]
    },
    {
      "cell_type": "code",
      "execution_count": null,
      "metadata": {
        "id": "RchpwL0V3gGZ"
      },
      "outputs": [],
      "source": [
        "\"\"\"\n",
        "\n",
        "Loops we tried in our \"breakout quiz\":\n",
        "\n",
        "# upper left\n",
        "result = 1\n",
        "for x in [2,5,1,4]:\n",
        "    result *= x\n",
        "print(result)\n",
        "\n",
        "# upper right\n",
        "x = 0\n",
        "for i in range(4):\n",
        "    x += 10\n",
        "print(x)\n",
        "\n",
        "# lower left\n",
        "L = ['golf','fore!','club','tee']\n",
        "for i in range(len(L)):\n",
        "    if i%2 == 1:\n",
        "        print(L[i])\n",
        "\n",
        "# lower right\n",
        "S = 'time to think this over! '\n",
        "result = ''\n",
        "for i in range(len(S)):\n",
        "    if S[i-1] == ' '\n",
        "        result += S[i]\n",
        "print(result)\n",
        "\n",
        "\"\"\""
      ]
    },
    {
      "cell_type": "code",
      "execution_count": null,
      "metadata": {
        "id": "FNuv6DoJ3gGa"
      },
      "outputs": [],
      "source": [
        "\n",
        "# staging area...\n",
        "\n",
        "print(\"Start!\")\n"
      ]
    },
    {
      "cell_type": "markdown",
      "source": [
        "### <font color=\"darkblue\"><b>Task #4: For Looping!</b></font>\n",
        "\n",
        "Below, create your functions that use loops:\n",
        "+ ``summer(L)``\n",
        "+ ``summedOdds(L)``\n",
        "+ ``summedExcept(exc,L)``\n",
        "+ ``summedUpto(exc,L)``\n",
        "\n",
        "Each one has full detail in its description:"
      ],
      "metadata": {
        "id": "PbR-kxDD6MGA"
      }
    },
    {
      "cell_type": "code",
      "execution_count": null,
      "metadata": {
        "id": "E5d6udae3gGa"
      },
      "outputs": [],
      "source": [
        "\n",
        "#\n",
        "# Functions with for loops to write:\n",
        "#\n",
        "# for loops:\n",
        "#\n",
        "# summer(L)               returns the sum of the #'s in L\n",
        "# summedOdds(L)           returns the sum of the _odd_ #'s in L\n",
        "# summedExcept(exc, L)    returns the sum of all #'s in L not equal to exc\n",
        "#                                 exc is the \"exception\"\n",
        "# summedUpto(exc, L)      returns the sum of all #'s in L upto exc (not including exc)\n",
        "\n",
        "\n",
        "# examples:\n",
        "#       summer( [2,3,4,1] )    ->  10\n",
        "#   summedOdds( [2,3,4,1] )    ->   4\n",
        "# summedExcept( 4, [2,3,4,1] ) ->   6\n",
        "#   summedUpto( 4, [2,3,4,1] ) ->   5"
      ]
    },
    {
      "cell_type": "code",
      "execution_count": null,
      "metadata": {
        "id": "IxqR0uRC3gGa",
        "colab": {
          "base_uri": "https://localhost:8080/"
        },
        "outputId": "efe17ef8-ede2-42f2-b348-15677520e3c7"
      },
      "outputs": [
        {
          "output_type": "stream",
          "name": "stdout",
          "text": [
            "summer( [2,3,4,1] )  should be 10 <-> 10\n",
            "summer( [35,3,4,100] )  should be 142 <-> 142\n"
          ]
        }
      ],
      "source": [
        "#\n",
        "# here, write the summer function!\n",
        "#\n",
        "\n",
        "def summer(L):\n",
        "    \"\"\" uses a for loop to add and return all of the elements in L\n",
        "    \"\"\"\n",
        "    result = 0\n",
        "    for x in L:\n",
        "      result += x\n",
        "    return result\n",
        "\n",
        "\n",
        "# Here are two tests -- be sure to try them!\n",
        "print(\"summer( [2,3,4,1] )  should be 10 <->\", summer( [2,3,4,1] ))\n",
        "print(\"summer( [35,3,4,100] )  should be 142 <->\", summer( [35,3,4,100] ))"
      ]
    },
    {
      "cell_type": "code",
      "execution_count": null,
      "metadata": {
        "id": "QN6ZBN9w3gGa",
        "colab": {
          "base_uri": "https://localhost:8080/"
        },
        "outputId": "3c7c2d30-4e70-4f86-a5ad-102b34bddb8c"
      },
      "outputs": [
        {
          "output_type": "stream",
          "name": "stdout",
          "text": [
            "summedOdds( [2,3,4,1] )  should be 4 <-> 4\n",
            "summedOdds( [35,3,4,100] )  should be 38 <-> 38\n"
          ]
        }
      ],
      "source": [
        "#\n",
        "# here, write the summedOdds function!\n",
        "#\n",
        "\n",
        "def summedOdds(L):\n",
        "    \"\"\" uses a for loop to add and return all of the _odd_ elements in L\n",
        "    \"\"\"\n",
        "    result = 0\n",
        "    for x in L:\n",
        "      if x%2 == 1:\n",
        "        result += x\n",
        "    return result\n",
        "\n",
        "\n",
        "\n",
        "# Here are two tests -- be sure to try them!\n",
        "print(\"summedOdds( [2,3,4,1] )  should be 4 <->\", summedOdds( [2,3,4,1] ))\n",
        "print(\"summedOdds( [35,3,4,100] )  should be 38 <->\", summedOdds( [35,3,4,100] ))"
      ]
    },
    {
      "cell_type": "code",
      "execution_count": null,
      "metadata": {
        "id": "9XkwO1Yb3gGb",
        "colab": {
          "base_uri": "https://localhost:8080/"
        },
        "outputId": "fcdcd376-0a3c-4daf-ad86-3da60ea4416a"
      },
      "outputs": [
        {
          "output_type": "stream",
          "name": "stdout",
          "text": [
            "summedExcept( 4, [2,3,4,1] )  should be 6 <-> 6\n",
            "summedExcept( 4, [35,3,4,100] )  should be 138 <-> 138\n"
          ]
        }
      ],
      "source": [
        "#\n",
        "# here, write the summedExcept function!\n",
        "#\n",
        "\n",
        "def summedExcept( exc, L ):\n",
        "    \"\"\" return the sum of the numbers in L not equal to exc\n",
        "    \"\"\"\n",
        "    result = 0\n",
        "    for x in L:\n",
        "      if x != exc:\n",
        "        result += x\n",
        "    return result\n",
        "\n",
        "\n",
        "\n",
        "# Here are two tests -- be sure to try them!\n",
        "print(\"summedExcept( 4, [2,3,4,1] )  should be 6 <->\", summedExcept( 4, [2,3,4,1] ))\n",
        "print(\"summedExcept( 4, [35,3,4,100] )  should be 138 <->\", summedExcept( 4, [35,3,4,100] ))"
      ]
    },
    {
      "cell_type": "code",
      "execution_count": null,
      "metadata": {
        "id": "FpoOHpGc3gGb",
        "colab": {
          "base_uri": "https://localhost:8080/"
        },
        "outputId": "15c5b33c-c313-4886-e21c-983a09d2e142"
      },
      "outputs": [
        {
          "output_type": "stream",
          "name": "stdout",
          "text": [
            "summedUpto( 4, [2,3,4,1] )  should be 5 <-> 5\n",
            "summedUpto( 100, [35,3,4,100] )  should be 42 <-> 42\n"
          ]
        }
      ],
      "source": [
        "#\n",
        "# here, write the summedUpto function!\n",
        "#\n",
        "\n",
        "def summedUpto( exc, L ):\n",
        "    \"\"\" return the sum of the numbers in L up to but not including exc\n",
        "    \"\"\"\n",
        "    result = 0\n",
        "    for x in L:\n",
        "      if x == exc:\n",
        "        return result\n",
        "      result += x\n",
        "    return result\n",
        "\n",
        "\n",
        "\n",
        "\n",
        "\n",
        "# Here are two tests -- be sure to try them!\n",
        "print(\"summedUpto( 4, [2,3,4,1] )  should be 5 <->\", summedUpto( 4, [2,3,4,1] ))\n",
        "print(\"summedUpto( 100, [35,3,4,100] )  should be 42 <->\", summedUpto( 100, [35,3,4,100] ))"
      ]
    },
    {
      "cell_type": "code",
      "execution_count": null,
      "metadata": {
        "colab": {
          "base_uri": "https://localhost:8080/"
        },
        "outputId": "a05b1da3-50ca-4dd3-bd65-bfde9d2949a1",
        "id": "StvMH-6kfhqn"
      },
      "outputs": [
        {
          "output_type": "execute_result",
          "data": {
            "text/plain": [
              "77"
            ]
          },
          "metadata": {},
          "execution_count": 36
        }
      ],
      "source": [
        "\n",
        "#\n",
        "# don't count repeats... EHEHEHEHE\n",
        "#\n",
        "\n",
        "from random import *\n",
        "\n",
        "def guess( hidden ):\n",
        "    \"\"\"\n",
        "        have the computer guess numbers until it gets the \"hidden\" value\n",
        "        return the number of guesses\n",
        "    \"\"\"\n",
        "    guess = -1\n",
        "    number_of_guesses = 0\n",
        "    N = []\n",
        "\n",
        "    while guess != hidden:\n",
        "        guess = choice( range(0,100) )\n",
        "        if guess in N:\n",
        "          number_of_guesses += 0\n",
        "          # print('repeat', guess) just testing it\n",
        "        else:\n",
        "          number_of_guesses += 1\n",
        "          N += [guess]\n",
        "          # print(guess) again :)\n",
        "\n",
        "    return number_of_guesses\n",
        "\n",
        "# test our function!\n",
        "guess(42)"
      ]
    },
    {
      "cell_type": "code",
      "execution_count": null,
      "metadata": {
        "id": "im7h59uw3gGb",
        "colab": {
          "base_uri": "https://localhost:8080/"
        },
        "outputId": "edfd3a3c-3b89-4a37-c0d6-bef96b4fff59"
      },
      "outputs": [
        {
          "output_type": "execute_result",
          "data": {
            "text/plain": [
              "143"
            ]
          },
          "metadata": {},
          "execution_count": 10
        }
      ],
      "source": [
        "\n",
        "#\n",
        "# Example while loop: the \"guessing game\"\n",
        "#\n",
        "\n",
        "from random import *\n",
        "\n",
        "def guess( hidden ):\n",
        "    \"\"\"\n",
        "        have the computer guess numbers until it gets the \"hidden\" value\n",
        "        return the number of guesses\n",
        "    \"\"\"\n",
        "    guess = -1      # start with a wrong guess and don't count it as a guess\n",
        "    number_of_guesses = 0   # start with no guesses made so far...\n",
        "\n",
        "    while guess != hidden:\n",
        "        guess = choice( range(0,100) )  # 0 to 99, inclusive\n",
        "        number_of_guesses += 1\n",
        "\n",
        "    return number_of_guesses\n",
        "\n",
        "# test our function!\n",
        "guess(42)"
      ]
    },
    {
      "cell_type": "markdown",
      "source": [
        "### <font color=\"darkblue\"><b>Task #5: While Looping!</b></font>\n",
        "\n",
        "Below, create your functions that use _while_ loops:\n",
        "+ ``guess_between(low,high)``\n",
        "+ ``listTilRepeat(high)``\n",
        "\n",
        "Each one has more detail in its description.\n",
        "\n",
        "Notice that the ``listTilRepeat`` function ***is*** the birthday paradox!"
      ],
      "metadata": {
        "id": "A68UyzcD6W4g"
      }
    },
    {
      "cell_type": "code",
      "execution_count": null,
      "metadata": {
        "id": "Sib6asIv3gGn"
      },
      "outputs": [],
      "source": [
        "\n",
        "#\n",
        "# Functions with while loops to write:\n",
        "#\n",
        "\n",
        "# guess_between(low,high) like guess, but until it gets a number anywhere between\n",
        "#                         low and high. Specifically, until it guesses\n",
        "#                         less than high, and greater than or equal to low.\n",
        "#\n",
        "#\n",
        "# listTilRepeat(high)     accumulates a list of values in range(0,high) until one repeats\n",
        "#                         and returns the whole list\n",
        "#\n",
        "\n",
        "\n",
        "# examples (don't forget the randomness will change things!)\n",
        "#\n",
        "# guess_between(40,50)   ->   8    (on average, around 10)\n",
        "#\n",
        "# listTilRepeat(10)      ->   [4, 7, 8, 3, 7]     (the final # must be a repeat)\n",
        "# listTilRepeat(10)      ->   [2, 1, 9, 9]     (the final # must be a repeat)\n"
      ]
    },
    {
      "cell_type": "code",
      "execution_count": null,
      "metadata": {
        "id": "eAbbImBL3gGv"
      },
      "outputs": [],
      "source": [
        "#\n",
        "# here, write guess_between\n",
        "#\n",
        "\n",
        "from random import *\n",
        "def guess_between(low,high):\n",
        "    \"\"\" guesses a # from 0 to 99 (inclusive) until\n",
        "        it gets one that is strictly less than high and\n",
        "        greater than or equal to low\n",
        "        Then, this function returns the total # of guesses made\n",
        "    \"\"\"\n",
        "    guess = -1\n",
        "    guesses = 0\n",
        "    N = []\n",
        "    while guess not in range(low,high):\n",
        "      guess = choice(range (0, 100))\n",
        "      if guesses > 99:\n",
        "        return 'not possible'\n",
        "      else:\n",
        "        if guess in N:\n",
        "            guesses += 0\n",
        "        else:\n",
        "          guesses += 1\n",
        "          N += [guess]\n",
        "    return guesses\n"
      ]
    },
    {
      "cell_type": "code",
      "source": [
        "#\n",
        "# be sure to test your guess_between here -- and leave the test in the notebook!\n",
        "#\n",
        "print(guess_between(10,50))\n",
        "\n",
        "print(guess_between(80,90))\n",
        "\n",
        "print(guess_between(1,2))\n",
        "\n",
        "print(guess_between(900, 1000))"
      ],
      "metadata": {
        "id": "wrh7eQOHAWi0",
        "colab": {
          "base_uri": "https://localhost:8080/"
        },
        "outputId": "04a25ae4-f7d9-4564-bde0-217a331d4756"
      },
      "execution_count": null,
      "outputs": [
        {
          "output_type": "stream",
          "name": "stdout",
          "text": [
            "1\n",
            "8\n",
            "44\n",
            "not possible\n"
          ]
        }
      ]
    },
    {
      "cell_type": "code",
      "execution_count": null,
      "metadata": {
        "id": "9HnVqdj83gGw",
        "colab": {
          "base_uri": "https://localhost:8080/"
        },
        "outputId": "ecb148fb-817d-4743-b416-dc5385756414"
      },
      "outputs": [
        {
          "output_type": "stream",
          "name": "stdout",
          "text": [
            "Before: L is [3, 4]\n",
            " After: L is [3, 4, 42]\n"
          ]
        }
      ],
      "source": [
        "\n",
        "# Try out adding elements to Lists\n",
        "\n",
        "L = [3,4]\n",
        "print(\"Before: L is\", L)\n",
        "\n",
        "guess = 42\n",
        "L = L + [guess]\n",
        "print(\" After: L is\", L)"
      ]
    },
    {
      "cell_type": "code",
      "execution_count": null,
      "metadata": {
        "id": "7v9qoep83gGx"
      },
      "outputs": [],
      "source": [
        "#\n",
        "# here, write listTilRepeat\n",
        "#\n",
        "\n",
        "# .......\n",
        "\n",
        "def listTilRepeat(high):\n",
        "    \"\"\" this f'n accumulates random guesses into a list, L, until a repeat is found\n",
        "        it then returns the list (the final element should be repeated, somewhere)\n",
        "    \"\"\"\n",
        "    L = []\n",
        "    guess = -1\n",
        "    while guess not in L:\n",
        "      L += [guess]\n",
        "      guess = choice(range(high))\n",
        "    L += [guess]\n",
        "    return L"
      ]
    },
    {
      "cell_type": "code",
      "source": [
        "#\n",
        "# be sure to test your listTilRepeat here -- and leave the test in the notebook!\n",
        "#\n",
        "print(listTilRepeat(40))\n",
        "print(listTilRepeat(90))\n"
      ],
      "metadata": {
        "id": "iWvncComAdAa",
        "colab": {
          "base_uri": "https://localhost:8080/"
        },
        "outputId": "434af6c3-8d3d-4531-9226-6f0e09e632be"
      },
      "execution_count": null,
      "outputs": [
        {
          "output_type": "stream",
          "name": "stdout",
          "text": [
            "[-1, 19, 2, 26, 34, 4, 12, 22, 37, 9, 37]\n",
            "[-1, 83, 78, 20, 6, 23, 27, 49, 38, 6]\n"
          ]
        }
      ]
    },
    {
      "cell_type": "code",
      "execution_count": null,
      "metadata": {
        "id": "Y8bY1Hag3gGx",
        "colab": {
          "base_uri": "https://localhost:8080/"
        },
        "outputId": "c625d436-aa4b-4416-c04b-8b0b4f3ca5da"
      },
      "outputs": [
        {
          "output_type": "stream",
          "name": "stdout",
          "text": [
            "30\n",
            "17\n",
            "24\n"
          ]
        }
      ],
      "source": [
        "\n",
        "# The birthday paradox is the fact that\n",
        "#     listTilRepeat(365) has surprisingly few elements!\n",
        "#\n",
        "# Run listTilRepeat(365) a few times and print its _length_ each time\n",
        "#     (Don't print the lists... it's too much to digest.)\n",
        "#\n",
        "# To many people, the results feel counterintuitive!\n",
        "print(len(listTilRepeat(365)))\n",
        "print(len(listTilRepeat(365)))\n",
        "print(len(listTilRepeat(365)))"
      ]
    },
    {
      "cell_type": "markdown",
      "metadata": {
        "id": "rGp1vbmb3gf5"
      },
      "source": [
        "<br>\n",
        "\n",
        "# Monte Carlo simulations\n",
        "+ ... are repeated actions that involve repetition and randomness\n",
        "+ that is, loops!\n",
        "\n",
        "In fact, the guessing and birthday challenges above _are_ examples of Monte Carlo simulations.\n",
        "\n",
        "Next, you'll try a few more:\n",
        "+ Our in-class guessing game, dice-rolling challenge, and three-curtain challenge...\n",
        "+ Then, you'll try the \"sleepwalker\" (a single random walker)\n",
        "\n",
        "Finally, you'll adapt the single random walker to a two-walker simulation of your own design! There are lots of ideas:\n",
        "+ Have two random walkers \"race\" to the middle (which might be a poptart...)\n",
        "+ Have two random walkers \"race\" to the walls\n",
        "+ Have them wander until they find each other\n",
        "+ Have the walls close in on them!\n",
        "+ Have them chase another object that's moving around...\n",
        "+ ... and so on!\n",
        "\n",
        "The key is to have\n",
        "+ **two** independently-wandering \"actors\"\n",
        "+ within a \"line\" or \"world\" that you can print out...\n",
        "+ ... with a backstory that you've invented,\n",
        "+ and then animate the result!\n",
        "\n",
        "<br>\n",
        "\n",
        "Looking forward to it!"
      ]
    },
    {
      "cell_type": "code",
      "execution_count": null,
      "metadata": {
        "id": "TAw-VXXQ3gf6",
        "colab": {
          "base_uri": "https://localhost:8080/"
        },
        "outputId": "83555d96-c7cb-4e47-8a20-bd14e04e015f"
      },
      "outputs": [
        {
          "output_type": "execute_result",
          "data": {
            "text/plain": [
              "100"
            ]
          },
          "metadata": {},
          "execution_count": 215
        }
      ],
      "source": [
        "\n",
        "#\n",
        "# Example while loop: the \"guessing game\"\n",
        "#\n",
        "\n",
        "from random import *\n",
        "\n",
        "def guess( hidden ):\n",
        "    \"\"\"\n",
        "        have the computer guess numbers until it gets the \"hidden\" value\n",
        "        return the number of guesses\n",
        "    \"\"\"\n",
        "    guess = hidden - 1      # start with a wrong guess + don't count it as a guess\n",
        "    number_of_guesses = 0   # start with no guesses made so far...\n",
        "\n",
        "    while guess != hidden:\n",
        "        guess = choice( range(0,100) )  # 0 to 99, inclusive\n",
        "        number_of_guesses += 1\n",
        "\n",
        "    return number_of_guesses\n",
        "\n",
        "# test our function!\n",
        "guess(42)"
      ]
    },
    {
      "cell_type": "code",
      "execution_count": null,
      "metadata": {
        "id": "pMj48CN63gf8",
        "colab": {
          "base_uri": "https://localhost:8080/"
        },
        "outputId": "d3f40d02-bbed-4922-dbf0-4ab0b0f8f846"
      },
      "outputs": [
        {
          "output_type": "stream",
          "name": "stdout",
          "text": [
            "run 0 roll: 1 2  \n",
            "run 1 roll: 5 4  \n",
            "run 2 roll: 3 4  \n",
            "run 3 roll: 6 3  \n",
            "run 4 roll: 3 3 🙂\n",
            "run 5 roll: 2 1  \n",
            "run 6 roll: 3 3 🙂\n",
            "run 7 roll: 6 5  \n",
            "run 8 roll: 4 5  \n",
            "run 9 roll: 1 2  \n"
          ]
        },
        {
          "output_type": "execute_result",
          "data": {
            "text/plain": [
              "2"
            ]
          },
          "metadata": {},
          "execution_count": 10
        }
      ],
      "source": [
        "\n",
        "#\n",
        "# Example Monte Carlo simulation: rolling two dice and counting doubles\n",
        "#\n",
        "\n",
        "from random import *\n",
        "import time\n",
        "\n",
        "def count_doubles( num_rolls ):\n",
        "    \"\"\"\n",
        "        have the computer roll two six-sided dice, counting the # of doubles\n",
        "        (same value on both dice)\n",
        "        Then, return the number of doubles...\n",
        "    \"\"\"\n",
        "    numdoubles = 0       # start with no doubles so far...\n",
        "\n",
        "    for i in range(0,num_rolls):   # roll repeatedly: i keeps track\n",
        "        d1 = choice( [1,2,3,4,5,6] )  # 1 to 6, inclusive\n",
        "        d2 = choice( range(1,7) )     # 1 to 6, inclusive\n",
        "        if d1 == d2:\n",
        "            numdoubles += 1\n",
        "            you = \"🙂\"\n",
        "        else:\n",
        "            you = \" \"\n",
        "\n",
        "        print(\"run\", i, \"roll:\", d1, d2, you, flush=True)\n",
        "        time.sleep(.2)\n",
        "\n",
        "    return numdoubles\n",
        "\n",
        "# test our function!\n",
        "count_doubles(10)"
      ]
    },
    {
      "cell_type": "code",
      "execution_count": null,
      "metadata": {
        "id": "k4rkSYX_3gf9",
        "colab": {
          "base_uri": "https://localhost:8080/"
        },
        "outputId": "17b80d1a-014f-4972-d697-589b6dae5b39"
      },
      "outputs": [
        {
          "output_type": "stream",
          "name": "stdout",
          "text": [
            "run 1 you lose...\n",
            "run 2 you  Win!!!\n",
            "run 3 you  Win!!!\n",
            "run 4 you lose...\n",
            "run 5 you  Win!!!\n",
            "run 6 you lose...\n",
            "run 7 you lose...\n",
            "run 8 you lose...\n",
            "run 9 you lose...\n",
            "run 10 you lose...\n"
          ]
        },
        {
          "output_type": "execute_result",
          "data": {
            "text/plain": [
              "3"
            ]
          },
          "metadata": {},
          "execution_count": 17
        }
      ],
      "source": [
        "\n",
        "#\n",
        "# Example Monte Carlo simulation: the Monte-Carlo Monte Hall paradox\n",
        "#\n",
        "\n",
        "import random\n",
        "import time\n",
        "\n",
        "def count_wins( N, original_choice, stay_or_switch ):\n",
        "    \"\"\"\n",
        "        run the Monte Hall paradox N times, with\n",
        "        original_choice, which can be 1, 2, or 3 and\n",
        "        stay_or_switch, which can be \"stay\" or \"switch\"\n",
        "        Count the number of wins and return that number.\n",
        "    \"\"\"\n",
        "    numwins = 0       # start with no wins so far...\n",
        "\n",
        "    for i in range(1,N+1):      # run repeatedly: i keeps track\n",
        "        win_curtain = random.choice([1,2,3])   # the curtain with the grand prize\n",
        "        original_choice = original_choice      # just a reminder that we have this variable\n",
        "        stay_or_switch = stay_or_switch        # a reminder that we have this, too\n",
        "\n",
        "        result = \"\"\n",
        "        if original_choice == win_curtain and stay_or_switch == \"stay\": result = \" Win!!!\"\n",
        "        elif original_choice == win_curtain and stay_or_switch == \"switch\": result = \"lose...\"\n",
        "        elif original_choice != win_curtain and stay_or_switch == \"stay\": result = \"lose...\"\n",
        "        elif original_choice != win_curtain and stay_or_switch == \"switch\": result = \" Win!!!\"\n",
        "\n",
        "        print(\"run\", i, \"you\", result, flush=True)\n",
        "        time.sleep(.1)\n",
        "\n",
        "        if result == \" Win!!!\":\n",
        "            numwins += 1\n",
        "\n",
        "\n",
        "    return numwins\n",
        "\n",
        "# test our three-curtain-game, many times:\n",
        "count_wins(10, 1, \"stay\")"
      ]
    },
    {
      "cell_type": "code",
      "execution_count": null,
      "metadata": {
        "id": "MawBqtpX3gf-",
        "colab": {
          "base_uri": "https://localhost:8080/"
        },
        "outputId": "fa992a7d-30a1-4e5f-9bf5-dd2ddfd26b6f"
      },
      "outputs": [
        {
          "output_type": "stream",
          "name": "stdout",
          "text": [
            "At location: 47\n",
            "At location: 48\n",
            "At location: 47\n",
            "At location: 46\n",
            "At location: 45\n",
            "At location: 46\n",
            "At location: 45\n",
            "At location: 44\n",
            "At location: 43\n",
            "At location: 42\n"
          ]
        },
        {
          "output_type": "execute_result",
          "data": {
            "text/plain": [
              "42"
            ]
          },
          "metadata": {},
          "execution_count": 45
        }
      ],
      "source": [
        "\n",
        "\n",
        "# More Monte Carlo simulations!\n",
        "\n",
        "#\n",
        "# Example of a random-walk (but no animation is intended here...)\n",
        "#\n",
        "\n",
        "import random\n",
        "\n",
        "def rs():\n",
        "    \"\"\" One random step \"\"\"\n",
        "    return random.choice([-1, 1])\n",
        "\n",
        "\n",
        "def rpos(start,N):\n",
        "    \"\"\" wander from start for N steps, printing as we go\n",
        "        return the position at the end (the final \"current\" position)\n",
        "    \"\"\"\n",
        "    current = start        # our current position begins at start...\n",
        "\n",
        "    for i in range(N):     # step repeatedly:  i keeps track from 0..N\n",
        "        print(\"At location:\", current)\n",
        "        current = current + rs()  # add one step,\n",
        "\n",
        "    print(\"At location:\", current)\n",
        "    return current\n",
        "\n",
        "\n",
        "# let's test it, perhaps start at 47 and take 9 steps...\n",
        "rpos(47,9)"
      ]
    },
    {
      "cell_type": "code",
      "execution_count": null,
      "metadata": {
        "id": "vgqXW52w3gf_",
        "colab": {
          "base_uri": "https://localhost:8080/"
        },
        "outputId": "18848831-f7cb-417e-9f3c-6308046194a1"
      },
      "outputs": [
        {
          "output_type": "stream",
          "name": "stdout",
          "text": [
            "🛏️ࡇࡇࡇࡇࡇࡇࡇࡇࡇࡇࡇ(ᴗ˳ᴗ)ࡇࡇࡇࡇࡇࡇࡇࡇࡇࡇ🎢\n",
            "🛏️ࡇࡇࡇࡇࡇࡇࡇࡇࡇࡇ(ᴗ˳ᴗ)ࡇࡇࡇࡇࡇࡇࡇࡇࡇࡇࡇ🎢\n",
            "🛏️ࡇࡇࡇࡇࡇࡇࡇࡇࡇ(ᴗ˳ᴗ)ࡇࡇࡇࡇࡇࡇࡇࡇࡇࡇࡇࡇ🎢\n",
            "🛏️ࡇࡇࡇࡇࡇࡇࡇࡇ(ᴗ˳ᴗ)ࡇࡇࡇࡇࡇࡇࡇࡇࡇࡇࡇࡇࡇ🎢\n",
            "🛏️ࡇࡇࡇࡇࡇࡇࡇ(ᴗ˳ᴗ)ࡇࡇࡇࡇࡇࡇࡇࡇࡇࡇࡇࡇࡇࡇ🎢\n",
            "🛏️ࡇࡇࡇࡇࡇࡇ(ᴗ˳ᴗ)ࡇࡇࡇࡇࡇࡇࡇࡇࡇࡇࡇࡇࡇࡇࡇ🎢\n",
            "🛏️ࡇࡇࡇࡇࡇ(ᴗ˳ᴗ)ࡇࡇࡇࡇࡇࡇࡇࡇࡇࡇࡇࡇࡇࡇࡇࡇ🎢\n",
            "🛏️ࡇࡇࡇࡇ(ᴗ˳ᴗ)ࡇࡇࡇࡇࡇࡇࡇࡇࡇࡇࡇࡇࡇࡇࡇࡇࡇ🎢\n",
            "🛏️ࡇࡇࡇ(ᴗ˳ᴗ)ࡇࡇࡇࡇࡇࡇࡇࡇࡇࡇࡇࡇࡇࡇࡇࡇࡇࡇ🎢\n",
            "🛏️ࡇࡇ(ᴗ˳ᴗ)ࡇࡇࡇࡇࡇࡇࡇࡇࡇࡇࡇࡇࡇࡇࡇࡇࡇࡇࡇ🎢\n",
            "🛏️ࡇࡇࡇ(ᴗ˳ᴗ)ࡇࡇࡇࡇࡇࡇࡇࡇࡇࡇࡇࡇࡇࡇࡇࡇࡇࡇ🎢\n",
            "🛏️ࡇࡇࡇࡇ(ᴗ˳ᴗ)ࡇࡇࡇࡇࡇࡇࡇࡇࡇࡇࡇࡇࡇࡇࡇࡇࡇ🎢\n",
            "🛏️ࡇࡇࡇ(ᴗ˳ᴗ)ࡇࡇࡇࡇࡇࡇࡇࡇࡇࡇࡇࡇࡇࡇࡇࡇࡇࡇ🎢\n",
            "🛏️ࡇࡇࡇࡇ(ᴗ˳ᴗ)ࡇࡇࡇࡇࡇࡇࡇࡇࡇࡇࡇࡇࡇࡇࡇࡇࡇ🎢\n",
            "🛏️ࡇࡇࡇࡇࡇ(ᴗ˳ᴗ)ࡇࡇࡇࡇࡇࡇࡇࡇࡇࡇࡇࡇࡇࡇࡇࡇ🎢\n",
            "🛏️ࡇࡇࡇࡇࡇࡇ(ᴗ˳ᴗ)ࡇࡇࡇࡇࡇࡇࡇࡇࡇࡇࡇࡇࡇࡇࡇ🎢\n",
            "🛏️ࡇࡇࡇࡇࡇ(ᴗ˳ᴗ)ࡇࡇࡇࡇࡇࡇࡇࡇࡇࡇࡇࡇࡇࡇࡇࡇ🎢\n",
            "🛏️ࡇࡇࡇࡇ(ᴗ˳ᴗ)ࡇࡇࡇࡇࡇࡇࡇࡇࡇࡇࡇࡇࡇࡇࡇࡇࡇ🎢\n",
            "🛏️ࡇࡇࡇࡇࡇ(ᴗ˳ᴗ)ࡇࡇࡇࡇࡇࡇࡇࡇࡇࡇࡇࡇࡇࡇࡇࡇ🎢\n",
            "🛏️ࡇࡇࡇࡇ(ᴗ˳ᴗ)ࡇࡇࡇࡇࡇࡇࡇࡇࡇࡇࡇࡇࡇࡇࡇࡇࡇ🎢\n",
            "🛏️ࡇࡇࡇࡇࡇ(ᴗ˳ᴗ)ࡇࡇࡇࡇࡇࡇࡇࡇࡇࡇࡇࡇࡇࡇࡇࡇ🎢\n",
            "🛏️ࡇࡇࡇࡇࡇࡇ(ᴗ˳ᴗ)ࡇࡇࡇࡇࡇࡇࡇࡇࡇࡇࡇࡇࡇࡇࡇ🎢\n",
            "🛏️ࡇࡇࡇࡇࡇ(ᴗ˳ᴗ)ࡇࡇࡇࡇࡇࡇࡇࡇࡇࡇࡇࡇࡇࡇࡇࡇ🎢\n",
            "🛏️ࡇࡇࡇࡇࡇࡇ(ᴗ˳ᴗ)ࡇࡇࡇࡇࡇࡇࡇࡇࡇࡇࡇࡇࡇࡇࡇ🎢\n",
            "🛏️ࡇࡇࡇࡇࡇࡇࡇ(ᴗ˳ᴗ)ࡇࡇࡇࡇࡇࡇࡇࡇࡇࡇࡇࡇࡇࡇ🎢\n",
            "🛏️ࡇࡇࡇࡇࡇࡇ(ᴗ˳ᴗ)ࡇࡇࡇࡇࡇࡇࡇࡇࡇࡇࡇࡇࡇࡇࡇ🎢\n",
            "🛏️ࡇࡇࡇࡇࡇࡇࡇ(ᴗ˳ᴗ)ࡇࡇࡇࡇࡇࡇࡇࡇࡇࡇࡇࡇࡇࡇ🎢\n",
            "🛏️ࡇࡇࡇࡇࡇࡇࡇࡇ(ᴗ˳ᴗ)ࡇࡇࡇࡇࡇࡇࡇࡇࡇࡇࡇࡇࡇ🎢\n",
            "🛏️ࡇࡇࡇࡇࡇࡇࡇ(ᴗ˳ᴗ)ࡇࡇࡇࡇࡇࡇࡇࡇࡇࡇࡇࡇࡇࡇ🎢\n",
            "🛏️ࡇࡇࡇࡇࡇࡇ(ᴗ˳ᴗ)ࡇࡇࡇࡇࡇࡇࡇࡇࡇࡇࡇࡇࡇࡇࡇ🎢\n",
            "🛏️ࡇࡇࡇࡇࡇࡇࡇ(ᴗ˳ᴗ)ࡇࡇࡇࡇࡇࡇࡇࡇࡇࡇࡇࡇࡇࡇ🎢\n",
            "🛏️ࡇࡇࡇࡇࡇࡇࡇࡇ(ᴗ˳ᴗ)ࡇࡇࡇࡇࡇࡇࡇࡇࡇࡇࡇࡇࡇ🎢\n",
            "🛏️ࡇࡇࡇࡇࡇࡇࡇࡇࡇ(ᴗ˳ᴗ)ࡇࡇࡇࡇࡇࡇࡇࡇࡇࡇࡇࡇ🎢\n",
            "🛏️ࡇࡇࡇࡇࡇࡇࡇࡇࡇࡇ(ᴗ˳ᴗ)ࡇࡇࡇࡇࡇࡇࡇࡇࡇࡇࡇ🎢\n",
            "🛏️ࡇࡇࡇࡇࡇࡇࡇࡇࡇࡇࡇ(ᴗ˳ᴗ)ࡇࡇࡇࡇࡇࡇࡇࡇࡇࡇ🎢\n",
            "🛏️ࡇࡇࡇࡇࡇࡇࡇࡇࡇࡇ(ᴗ˳ᴗ)ࡇࡇࡇࡇࡇࡇࡇࡇࡇࡇࡇ🎢\n",
            "🛏️ࡇࡇࡇࡇࡇࡇࡇࡇࡇࡇࡇ(ᴗ˳ᴗ)ࡇࡇࡇࡇࡇࡇࡇࡇࡇࡇ🎢\n",
            "🛏️ࡇࡇࡇࡇࡇࡇࡇࡇࡇࡇ(ᴗ˳ᴗ)ࡇࡇࡇࡇࡇࡇࡇࡇࡇࡇࡇ🎢\n",
            "🛏️ࡇࡇࡇࡇࡇࡇࡇࡇࡇ(ᴗ˳ᴗ)ࡇࡇࡇࡇࡇࡇࡇࡇࡇࡇࡇࡇ🎢\n",
            "🛏️ࡇࡇࡇࡇࡇࡇࡇࡇ(ᴗ˳ᴗ)ࡇࡇࡇࡇࡇࡇࡇࡇࡇࡇࡇࡇࡇ🎢\n",
            "🛏️ࡇࡇࡇࡇࡇࡇࡇ(ᴗ˳ᴗ)ࡇࡇࡇࡇࡇࡇࡇࡇࡇࡇࡇࡇࡇࡇ🎢\n",
            "🛏️ࡇࡇࡇࡇࡇࡇࡇࡇ(ᴗ˳ᴗ)ࡇࡇࡇࡇࡇࡇࡇࡇࡇࡇࡇࡇࡇ🎢\n",
            "🛏️ࡇࡇࡇࡇࡇࡇࡇࡇࡇ(ᴗ˳ᴗ)ࡇࡇࡇࡇࡇࡇࡇࡇࡇࡇࡇࡇ🎢\n",
            "🛏️ࡇࡇࡇࡇࡇࡇࡇࡇ(ᴗ˳ᴗ)ࡇࡇࡇࡇࡇࡇࡇࡇࡇࡇࡇࡇࡇ🎢\n",
            "🛏️ࡇࡇࡇࡇࡇࡇࡇࡇࡇ(ᴗ˳ᴗ)ࡇࡇࡇࡇࡇࡇࡇࡇࡇࡇࡇࡇ🎢\n",
            "🛏️ࡇࡇࡇࡇࡇࡇࡇࡇ(ᴗ˳ᴗ)ࡇࡇࡇࡇࡇࡇࡇࡇࡇࡇࡇࡇࡇ🎢\n",
            "🛏️ࡇࡇࡇࡇࡇࡇࡇࡇࡇ(ᴗ˳ᴗ)ࡇࡇࡇࡇࡇࡇࡇࡇࡇࡇࡇࡇ🎢\n",
            "🛏️ࡇࡇࡇࡇࡇࡇࡇࡇࡇࡇ(ᴗ˳ᴗ)ࡇࡇࡇࡇࡇࡇࡇࡇࡇࡇࡇ🎢\n",
            "🛏️ࡇࡇࡇࡇࡇࡇࡇࡇࡇ(ᴗ˳ᴗ)ࡇࡇࡇࡇࡇࡇࡇࡇࡇࡇࡇࡇ🎢\n",
            "🛏️ࡇࡇࡇࡇࡇࡇࡇࡇ(ᴗ˳ᴗ)ࡇࡇࡇࡇࡇࡇࡇࡇࡇࡇࡇࡇࡇ🎢\n",
            "🛏️ࡇࡇࡇࡇࡇࡇࡇࡇࡇ(ᴗ˳ᴗ)ࡇࡇࡇࡇࡇࡇࡇࡇࡇࡇࡇࡇ🎢\n",
            "🛏️ࡇࡇࡇࡇࡇࡇࡇࡇࡇࡇ(ᴗ˳ᴗ)ࡇࡇࡇࡇࡇࡇࡇࡇࡇࡇࡇ🎢\n",
            "🛏️ࡇࡇࡇࡇࡇࡇࡇࡇࡇࡇࡇ(ᴗ˳ᴗ)ࡇࡇࡇࡇࡇࡇࡇࡇࡇࡇ🎢\n",
            "🛏️ࡇࡇࡇࡇࡇࡇࡇࡇࡇࡇࡇࡇ(ᴗ˳ᴗ)ࡇࡇࡇࡇࡇࡇࡇࡇࡇ🎢\n",
            "🛏️ࡇࡇࡇࡇࡇࡇࡇࡇࡇࡇࡇ(ᴗ˳ᴗ)ࡇࡇࡇࡇࡇࡇࡇࡇࡇࡇ🎢\n",
            "🛏️ࡇࡇࡇࡇࡇࡇࡇࡇࡇࡇࡇࡇ(ᴗ˳ᴗ)ࡇࡇࡇࡇࡇࡇࡇࡇࡇ🎢\n",
            "🛏️ࡇࡇࡇࡇࡇࡇࡇࡇࡇࡇࡇ(ᴗ˳ᴗ)ࡇࡇࡇࡇࡇࡇࡇࡇࡇࡇ🎢\n",
            "🛏️ࡇࡇࡇࡇࡇࡇࡇࡇࡇࡇࡇࡇ(ᴗ˳ᴗ)ࡇࡇࡇࡇࡇࡇࡇࡇࡇ🎢\n",
            "🛏️ࡇࡇࡇࡇࡇࡇࡇࡇࡇࡇࡇࡇࡇ(ᴗ˳ᴗ)ࡇࡇࡇࡇࡇࡇࡇࡇ🎢\n",
            "🛏️ࡇࡇࡇࡇࡇࡇࡇࡇࡇࡇࡇࡇࡇࡇ(ᴗ˳ᴗ)ࡇࡇࡇࡇࡇࡇࡇ🎢\n",
            "🛏️ࡇࡇࡇࡇࡇࡇࡇࡇࡇࡇࡇࡇࡇ(ᴗ˳ᴗ)ࡇࡇࡇࡇࡇࡇࡇࡇ🎢\n",
            "🛏️ࡇࡇࡇࡇࡇࡇࡇࡇࡇࡇࡇࡇࡇࡇ(ᴗ˳ᴗ)ࡇࡇࡇࡇࡇࡇࡇ🎢\n",
            "🛏️ࡇࡇࡇࡇࡇࡇࡇࡇࡇࡇࡇࡇࡇ(ᴗ˳ᴗ)ࡇࡇࡇࡇࡇࡇࡇࡇ🎢\n",
            "🛏️ࡇࡇࡇࡇࡇࡇࡇࡇࡇࡇࡇࡇࡇࡇ(ᴗ˳ᴗ)ࡇࡇࡇࡇࡇࡇࡇ🎢\n",
            "🛏️ࡇࡇࡇࡇࡇࡇࡇࡇࡇࡇࡇࡇࡇࡇࡇ(ᴗ˳ᴗ)ࡇࡇࡇࡇࡇࡇ🎢\n",
            "🛏️ࡇࡇࡇࡇࡇࡇࡇࡇࡇࡇࡇࡇࡇࡇ(ᴗ˳ᴗ)ࡇࡇࡇࡇࡇࡇࡇ🎢\n",
            "🛏️ࡇࡇࡇࡇࡇࡇࡇࡇࡇࡇࡇࡇࡇࡇࡇ(ᴗ˳ᴗ)ࡇࡇࡇࡇࡇࡇ🎢\n",
            "🛏️ࡇࡇࡇࡇࡇࡇࡇࡇࡇࡇࡇࡇࡇࡇ(ᴗ˳ᴗ)ࡇࡇࡇࡇࡇࡇࡇ🎢\n",
            "🛏️ࡇࡇࡇࡇࡇࡇࡇࡇࡇࡇࡇࡇࡇࡇࡇ(ᴗ˳ᴗ)ࡇࡇࡇࡇࡇࡇ🎢\n",
            "🛏️ࡇࡇࡇࡇࡇࡇࡇࡇࡇࡇࡇࡇࡇࡇ(ᴗ˳ᴗ)ࡇࡇࡇࡇࡇࡇࡇ🎢\n",
            "🛏️ࡇࡇࡇࡇࡇࡇࡇࡇࡇࡇࡇࡇࡇ(ᴗ˳ᴗ)ࡇࡇࡇࡇࡇࡇࡇࡇ🎢\n",
            "🛏️ࡇࡇࡇࡇࡇࡇࡇࡇࡇࡇࡇࡇ(ᴗ˳ᴗ)ࡇࡇࡇࡇࡇࡇࡇࡇࡇ🎢\n",
            "🛏️ࡇࡇࡇࡇࡇࡇࡇࡇࡇࡇࡇ(ᴗ˳ᴗ)ࡇࡇࡇࡇࡇࡇࡇࡇࡇࡇ🎢\n",
            "🛏️ࡇࡇࡇࡇࡇࡇࡇࡇࡇࡇ(ᴗ˳ᴗ)ࡇࡇࡇࡇࡇࡇࡇࡇࡇࡇࡇ🎢\n",
            "🛏️ࡇࡇࡇࡇࡇࡇࡇࡇࡇࡇࡇ(ᴗ˳ᴗ)ࡇࡇࡇࡇࡇࡇࡇࡇࡇࡇ🎢\n",
            "🛏️ࡇࡇࡇࡇࡇࡇࡇࡇࡇࡇ(ᴗ˳ᴗ)ࡇࡇࡇࡇࡇࡇࡇࡇࡇࡇࡇ🎢\n",
            "🛏️ࡇࡇࡇࡇࡇࡇࡇࡇࡇ(ᴗ˳ᴗ)ࡇࡇࡇࡇࡇࡇࡇࡇࡇࡇࡇࡇ🎢\n",
            "🛏️ࡇࡇࡇࡇࡇࡇࡇࡇ(ᴗ˳ᴗ)ࡇࡇࡇࡇࡇࡇࡇࡇࡇࡇࡇࡇࡇ🎢\n",
            "🛏️ࡇࡇࡇࡇࡇࡇࡇࡇࡇ(ᴗ˳ᴗ)ࡇࡇࡇࡇࡇࡇࡇࡇࡇࡇࡇࡇ🎢\n",
            "🛏️ࡇࡇࡇࡇࡇࡇࡇࡇࡇࡇ(ᴗ˳ᴗ)ࡇࡇࡇࡇࡇࡇࡇࡇࡇࡇࡇ🎢\n",
            "🛏️ࡇࡇࡇࡇࡇࡇࡇࡇࡇ(ᴗ˳ᴗ)ࡇࡇࡇࡇࡇࡇࡇࡇࡇࡇࡇࡇ🎢\n",
            "🛏️ࡇࡇࡇࡇࡇࡇࡇࡇ(ᴗ˳ᴗ)ࡇࡇࡇࡇࡇࡇࡇࡇࡇࡇࡇࡇࡇ🎢\n",
            "🛏️ࡇࡇࡇࡇࡇࡇࡇ(ᴗ˳ᴗ)ࡇࡇࡇࡇࡇࡇࡇࡇࡇࡇࡇࡇࡇࡇ🎢\n",
            "🛏️ࡇࡇࡇࡇࡇࡇ(ᴗ˳ᴗ)ࡇࡇࡇࡇࡇࡇࡇࡇࡇࡇࡇࡇࡇࡇࡇ🎢\n",
            "🛏️ࡇࡇࡇࡇࡇ(ᴗ˳ᴗ)ࡇࡇࡇࡇࡇࡇࡇࡇࡇࡇࡇࡇࡇࡇࡇࡇ🎢\n",
            "🛏️ࡇࡇࡇࡇࡇࡇ(ᴗ˳ᴗ)ࡇࡇࡇࡇࡇࡇࡇࡇࡇࡇࡇࡇࡇࡇࡇ🎢\n",
            "🛏️ࡇࡇࡇࡇࡇࡇࡇ(ᴗ˳ᴗ)ࡇࡇࡇࡇࡇࡇࡇࡇࡇࡇࡇࡇࡇࡇ🎢\n",
            "🛏️ࡇࡇࡇࡇࡇࡇࡇࡇ(ᴗ˳ᴗ)ࡇࡇࡇࡇࡇࡇࡇࡇࡇࡇࡇࡇࡇ🎢\n",
            "🛏️ࡇࡇࡇࡇࡇࡇࡇࡇࡇ(ᴗ˳ᴗ)ࡇࡇࡇࡇࡇࡇࡇࡇࡇࡇࡇࡇ🎢\n",
            "🛏️ࡇࡇࡇࡇࡇࡇࡇࡇ(ᴗ˳ᴗ)ࡇࡇࡇࡇࡇࡇࡇࡇࡇࡇࡇࡇࡇ🎢\n",
            "🛏️ࡇࡇࡇࡇࡇࡇࡇࡇࡇ(ᴗ˳ᴗ)ࡇࡇࡇࡇࡇࡇࡇࡇࡇࡇࡇࡇ🎢\n",
            "🛏️ࡇࡇࡇࡇࡇࡇࡇࡇ(ᴗ˳ᴗ)ࡇࡇࡇࡇࡇࡇࡇࡇࡇࡇࡇࡇࡇ🎢\n",
            "🛏️ࡇࡇࡇࡇࡇࡇࡇࡇࡇ(ᴗ˳ᴗ)ࡇࡇࡇࡇࡇࡇࡇࡇࡇࡇࡇࡇ🎢\n",
            "🛏️ࡇࡇࡇࡇࡇࡇࡇࡇࡇࡇ(ᴗ˳ᴗ)ࡇࡇࡇࡇࡇࡇࡇࡇࡇࡇࡇ🎢\n",
            "🛏️ࡇࡇࡇࡇࡇࡇࡇࡇࡇ(ᴗ˳ᴗ)ࡇࡇࡇࡇࡇࡇࡇࡇࡇࡇࡇࡇ🎢\n",
            "🛏️ࡇࡇࡇࡇࡇࡇࡇࡇ(ᴗ˳ᴗ)ࡇࡇࡇࡇࡇࡇࡇࡇࡇࡇࡇࡇࡇ🎢\n",
            "🛏️ࡇࡇࡇࡇࡇࡇࡇ(ᴗ˳ᴗ)ࡇࡇࡇࡇࡇࡇࡇࡇࡇࡇࡇࡇࡇࡇ🎢\n",
            "🛏️ࡇࡇࡇࡇࡇࡇ(ᴗ˳ᴗ)ࡇࡇࡇࡇࡇࡇࡇࡇࡇࡇࡇࡇࡇࡇࡇ🎢\n",
            "🛏️ࡇࡇࡇࡇࡇࡇࡇ(ᴗ˳ᴗ)ࡇࡇࡇࡇࡇࡇࡇࡇࡇࡇࡇࡇࡇࡇ🎢\n",
            "🛏️ࡇࡇࡇࡇࡇࡇ(ᴗ˳ᴗ)ࡇࡇࡇࡇࡇࡇࡇࡇࡇࡇࡇࡇࡇࡇࡇ🎢\n",
            "🛏️ࡇࡇࡇࡇࡇ(ᴗ˳ᴗ)ࡇࡇࡇࡇࡇࡇࡇࡇࡇࡇࡇࡇࡇࡇࡇࡇ🎢\n",
            "🛏️ࡇࡇࡇࡇ(ᴗ˳ᴗ)ࡇࡇࡇࡇࡇࡇࡇࡇࡇࡇࡇࡇࡇࡇࡇࡇࡇ🎢\n",
            "🛏️ࡇࡇࡇ(ᴗ˳ᴗ)ࡇࡇࡇࡇࡇࡇࡇࡇࡇࡇࡇࡇࡇࡇࡇࡇࡇࡇ🎢\n",
            "🛏️ࡇࡇ(ᴗ˳ᴗ)ࡇࡇࡇࡇࡇࡇࡇࡇࡇࡇࡇࡇࡇࡇࡇࡇࡇࡇࡇ🎢\n",
            "🛏️ࡇࡇࡇ(ᴗ˳ᴗ)ࡇࡇࡇࡇࡇࡇࡇࡇࡇࡇࡇࡇࡇࡇࡇࡇࡇࡇ🎢\n",
            "🛏️ࡇࡇࡇࡇ(ᴗ˳ᴗ)ࡇࡇࡇࡇࡇࡇࡇࡇࡇࡇࡇࡇࡇࡇࡇࡇࡇ🎢\n",
            "🛏️ࡇࡇࡇ(ᴗ˳ᴗ)ࡇࡇࡇࡇࡇࡇࡇࡇࡇࡇࡇࡇࡇࡇࡇࡇࡇࡇ🎢\n",
            "🛏️ࡇࡇ(ᴗ˳ᴗ)ࡇࡇࡇࡇࡇࡇࡇࡇࡇࡇࡇࡇࡇࡇࡇࡇࡇࡇࡇ🎢\n",
            "🛏️ࡇࡇࡇ(ᴗ˳ᴗ)ࡇࡇࡇࡇࡇࡇࡇࡇࡇࡇࡇࡇࡇࡇࡇࡇࡇࡇ🎢\n",
            "🛏️ࡇࡇࡇࡇ(ᴗ˳ᴗ)ࡇࡇࡇࡇࡇࡇࡇࡇࡇࡇࡇࡇࡇࡇࡇࡇࡇ🎢\n",
            "🛏️ࡇࡇࡇ(ᴗ˳ᴗ)ࡇࡇࡇࡇࡇࡇࡇࡇࡇࡇࡇࡇࡇࡇࡇࡇࡇࡇ🎢\n",
            "🛏️ࡇࡇࡇࡇ(ᴗ˳ᴗ)ࡇࡇࡇࡇࡇࡇࡇࡇࡇࡇࡇࡇࡇࡇࡇࡇࡇ🎢\n",
            "🛏️ࡇࡇࡇ(ᴗ˳ᴗ)ࡇࡇࡇࡇࡇࡇࡇࡇࡇࡇࡇࡇࡇࡇࡇࡇࡇࡇ🎢\n",
            "🛏️ࡇࡇࡇࡇ(ᴗ˳ᴗ)ࡇࡇࡇࡇࡇࡇࡇࡇࡇࡇࡇࡇࡇࡇࡇࡇࡇ🎢\n",
            "🛏️ࡇࡇࡇ(ᴗ˳ᴗ)ࡇࡇࡇࡇࡇࡇࡇࡇࡇࡇࡇࡇࡇࡇࡇࡇࡇࡇ🎢\n",
            "🛏️ࡇࡇ(ᴗ˳ᴗ)ࡇࡇࡇࡇࡇࡇࡇࡇࡇࡇࡇࡇࡇࡇࡇࡇࡇࡇࡇ🎢\n",
            "🛏️ࡇࡇࡇ(ᴗ˳ᴗ)ࡇࡇࡇࡇࡇࡇࡇࡇࡇࡇࡇࡇࡇࡇࡇࡇࡇࡇ🎢\n",
            "🛏️ࡇࡇࡇࡇ(ᴗ˳ᴗ)ࡇࡇࡇࡇࡇࡇࡇࡇࡇࡇࡇࡇࡇࡇࡇࡇࡇ🎢\n",
            "🛏️ࡇࡇࡇ(ᴗ˳ᴗ)ࡇࡇࡇࡇࡇࡇࡇࡇࡇࡇࡇࡇࡇࡇࡇࡇࡇࡇ🎢\n",
            "🛏️ࡇࡇࡇࡇ(ᴗ˳ᴗ)ࡇࡇࡇࡇࡇࡇࡇࡇࡇࡇࡇࡇࡇࡇࡇࡇࡇ🎢\n",
            "🛏️ࡇࡇࡇ(ᴗ˳ᴗ)ࡇࡇࡇࡇࡇࡇࡇࡇࡇࡇࡇࡇࡇࡇࡇࡇࡇࡇ🎢\n",
            "🛏️ࡇࡇࡇࡇ(ᴗ˳ᴗ)ࡇࡇࡇࡇࡇࡇࡇࡇࡇࡇࡇࡇࡇࡇࡇࡇࡇ🎢\n",
            "🛏️ࡇࡇࡇࡇࡇ(ᴗ˳ᴗ)ࡇࡇࡇࡇࡇࡇࡇࡇࡇࡇࡇࡇࡇࡇࡇࡇ🎢\n",
            "🛏️ࡇࡇࡇࡇࡇࡇ(ᴗ˳ᴗ)ࡇࡇࡇࡇࡇࡇࡇࡇࡇࡇࡇࡇࡇࡇࡇ🎢\n",
            "🛏️ࡇࡇࡇࡇࡇ(ᴗ˳ᴗ)ࡇࡇࡇࡇࡇࡇࡇࡇࡇࡇࡇࡇࡇࡇࡇࡇ🎢\n",
            "🛏️ࡇࡇࡇࡇࡇࡇ(ᴗ˳ᴗ)ࡇࡇࡇࡇࡇࡇࡇࡇࡇࡇࡇࡇࡇࡇࡇ🎢\n",
            "🛏️ࡇࡇࡇࡇࡇࡇࡇ(ᴗ˳ᴗ)ࡇࡇࡇࡇࡇࡇࡇࡇࡇࡇࡇࡇࡇࡇ🎢\n",
            "🛏️ࡇࡇࡇࡇࡇࡇ(ᴗ˳ᴗ)ࡇࡇࡇࡇࡇࡇࡇࡇࡇࡇࡇࡇࡇࡇࡇ🎢\n",
            "🛏️ࡇࡇࡇࡇࡇࡇࡇ(ᴗ˳ᴗ)ࡇࡇࡇࡇࡇࡇࡇࡇࡇࡇࡇࡇࡇࡇ🎢\n",
            "🛏️ࡇࡇࡇࡇࡇࡇ(ᴗ˳ᴗ)ࡇࡇࡇࡇࡇࡇࡇࡇࡇࡇࡇࡇࡇࡇࡇ🎢\n",
            "🛏️ࡇࡇࡇࡇࡇࡇࡇ(ᴗ˳ᴗ)ࡇࡇࡇࡇࡇࡇࡇࡇࡇࡇࡇࡇࡇࡇ🎢\n",
            "🛏️ࡇࡇࡇࡇࡇࡇ(ᴗ˳ᴗ)ࡇࡇࡇࡇࡇࡇࡇࡇࡇࡇࡇࡇࡇࡇࡇ🎢\n",
            "🛏️ࡇࡇࡇࡇࡇ(ᴗ˳ᴗ)ࡇࡇࡇࡇࡇࡇࡇࡇࡇࡇࡇࡇࡇࡇࡇࡇ🎢\n",
            "🛏️ࡇࡇࡇࡇ(ᴗ˳ᴗ)ࡇࡇࡇࡇࡇࡇࡇࡇࡇࡇࡇࡇࡇࡇࡇࡇࡇ🎢\n",
            "🛏️ࡇࡇࡇ(ᴗ˳ᴗ)ࡇࡇࡇࡇࡇࡇࡇࡇࡇࡇࡇࡇࡇࡇࡇࡇࡇࡇ🎢\n",
            "🛏️ࡇࡇ(ᴗ˳ᴗ)ࡇࡇࡇࡇࡇࡇࡇࡇࡇࡇࡇࡇࡇࡇࡇࡇࡇࡇࡇ🎢\n",
            "🛏️ࡇࡇࡇ(ᴗ˳ᴗ)ࡇࡇࡇࡇࡇࡇࡇࡇࡇࡇࡇࡇࡇࡇࡇࡇࡇࡇ🎢\n",
            "🛏️ࡇࡇ(ᴗ˳ᴗ)ࡇࡇࡇࡇࡇࡇࡇࡇࡇࡇࡇࡇࡇࡇࡇࡇࡇࡇࡇ🎢\n",
            "🛏️ࡇࡇࡇ(ᴗ˳ᴗ)ࡇࡇࡇࡇࡇࡇࡇࡇࡇࡇࡇࡇࡇࡇࡇࡇࡇࡇ🎢\n",
            "🛏️ࡇࡇ(ᴗ˳ᴗ)ࡇࡇࡇࡇࡇࡇࡇࡇࡇࡇࡇࡇࡇࡇࡇࡇࡇࡇࡇ🎢\n",
            "🛏️ࡇࡇࡇ(ᴗ˳ᴗ)ࡇࡇࡇࡇࡇࡇࡇࡇࡇࡇࡇࡇࡇࡇࡇࡇࡇࡇ🎢\n",
            "🛏️ࡇࡇࡇࡇ(ᴗ˳ᴗ)ࡇࡇࡇࡇࡇࡇࡇࡇࡇࡇࡇࡇࡇࡇࡇࡇࡇ🎢\n",
            "🛏️ࡇࡇࡇࡇࡇ(ᴗ˳ᴗ)ࡇࡇࡇࡇࡇࡇࡇࡇࡇࡇࡇࡇࡇࡇࡇࡇ🎢\n",
            "🛏️ࡇࡇࡇࡇࡇࡇ(ᴗ˳ᴗ)ࡇࡇࡇࡇࡇࡇࡇࡇࡇࡇࡇࡇࡇࡇࡇ🎢\n",
            "🛏️ࡇࡇࡇࡇࡇࡇࡇ(ᴗ˳ᴗ)ࡇࡇࡇࡇࡇࡇࡇࡇࡇࡇࡇࡇࡇࡇ🎢\n",
            "🛏️ࡇࡇࡇࡇࡇࡇࡇࡇ(ᴗ˳ᴗ)ࡇࡇࡇࡇࡇࡇࡇࡇࡇࡇࡇࡇࡇ🎢\n",
            "🛏️ࡇࡇࡇࡇࡇࡇࡇ(ᴗ˳ᴗ)ࡇࡇࡇࡇࡇࡇࡇࡇࡇࡇࡇࡇࡇࡇ🎢\n",
            "🛏️ࡇࡇࡇࡇࡇࡇࡇࡇ(ᴗ˳ᴗ)ࡇࡇࡇࡇࡇࡇࡇࡇࡇࡇࡇࡇࡇ🎢\n",
            "🛏️ࡇࡇࡇࡇࡇࡇࡇࡇࡇ(ᴗ˳ᴗ)ࡇࡇࡇࡇࡇࡇࡇࡇࡇࡇࡇࡇ🎢\n",
            "🛏️ࡇࡇࡇࡇࡇࡇࡇࡇࡇࡇ(ᴗ˳ᴗ)ࡇࡇࡇࡇࡇࡇࡇࡇࡇࡇࡇ🎢\n",
            "🛏️ࡇࡇࡇࡇࡇࡇࡇࡇࡇࡇࡇ(ᴗ˳ᴗ)ࡇࡇࡇࡇࡇࡇࡇࡇࡇࡇ🎢\n",
            "🛏️ࡇࡇࡇࡇࡇࡇࡇࡇࡇࡇࡇࡇ(ᴗ˳ᴗ)ࡇࡇࡇࡇࡇࡇࡇࡇࡇ🎢\n",
            "🛏️ࡇࡇࡇࡇࡇࡇࡇࡇࡇࡇࡇ(ᴗ˳ᴗ)ࡇࡇࡇࡇࡇࡇࡇࡇࡇࡇ🎢\n",
            "🛏️ࡇࡇࡇࡇࡇࡇࡇࡇࡇࡇࡇࡇ(ᴗ˳ᴗ)ࡇࡇࡇࡇࡇࡇࡇࡇࡇ🎢\n",
            "🛏️ࡇࡇࡇࡇࡇࡇࡇࡇࡇࡇࡇ(ᴗ˳ᴗ)ࡇࡇࡇࡇࡇࡇࡇࡇࡇࡇ🎢\n",
            "🛏️ࡇࡇࡇࡇࡇࡇࡇࡇࡇࡇ(ᴗ˳ᴗ)ࡇࡇࡇࡇࡇࡇࡇࡇࡇࡇࡇ🎢\n",
            "🛏️ࡇࡇࡇࡇࡇࡇࡇࡇࡇ(ᴗ˳ᴗ)ࡇࡇࡇࡇࡇࡇࡇࡇࡇࡇࡇࡇ🎢\n",
            "🛏️ࡇࡇࡇࡇࡇࡇࡇࡇࡇࡇ(ᴗ˳ᴗ)ࡇࡇࡇࡇࡇࡇࡇࡇࡇࡇࡇ🎢\n",
            "🛏️ࡇࡇࡇࡇࡇࡇࡇࡇࡇ(ᴗ˳ᴗ)ࡇࡇࡇࡇࡇࡇࡇࡇࡇࡇࡇࡇ🎢\n",
            "🛏️ࡇࡇࡇࡇࡇࡇࡇࡇ(ᴗ˳ᴗ)ࡇࡇࡇࡇࡇࡇࡇࡇࡇࡇࡇࡇࡇ🎢\n",
            "🛏️ࡇࡇࡇࡇࡇࡇࡇ(ᴗ˳ᴗ)ࡇࡇࡇࡇࡇࡇࡇࡇࡇࡇࡇࡇࡇࡇ🎢\n",
            "🛏️ࡇࡇࡇࡇࡇࡇ(ᴗ˳ᴗ)ࡇࡇࡇࡇࡇࡇࡇࡇࡇࡇࡇࡇࡇࡇࡇ🎢\n",
            "🛏️ࡇࡇࡇࡇࡇࡇࡇ(ᴗ˳ᴗ)ࡇࡇࡇࡇࡇࡇࡇࡇࡇࡇࡇࡇࡇࡇ🎢\n",
            "🛏️ࡇࡇࡇࡇࡇࡇࡇࡇ(ᴗ˳ᴗ)ࡇࡇࡇࡇࡇࡇࡇࡇࡇࡇࡇࡇࡇ🎢\n",
            "🛏️ࡇࡇࡇࡇࡇࡇࡇࡇࡇ(ᴗ˳ᴗ)ࡇࡇࡇࡇࡇࡇࡇࡇࡇࡇࡇࡇ🎢\n",
            "🛏️ࡇࡇࡇࡇࡇࡇࡇࡇࡇࡇ(ᴗ˳ᴗ)ࡇࡇࡇࡇࡇࡇࡇࡇࡇࡇࡇ🎢\n",
            "🛏️ࡇࡇࡇࡇࡇࡇࡇࡇࡇࡇࡇ(ᴗ˳ᴗ)ࡇࡇࡇࡇࡇࡇࡇࡇࡇࡇ🎢\n",
            "🛏️ࡇࡇࡇࡇࡇࡇࡇࡇࡇࡇ(ᴗ˳ᴗ)ࡇࡇࡇࡇࡇࡇࡇࡇࡇࡇࡇ🎢\n",
            "🛏️ࡇࡇࡇࡇࡇࡇࡇࡇࡇࡇࡇ(ᴗ˳ᴗ)ࡇࡇࡇࡇࡇࡇࡇࡇࡇࡇ🎢\n",
            "🛏️ࡇࡇࡇࡇࡇࡇࡇࡇࡇࡇࡇࡇ(ᴗ˳ᴗ)ࡇࡇࡇࡇࡇࡇࡇࡇࡇ🎢\n",
            "🛏️ࡇࡇࡇࡇࡇࡇࡇࡇࡇࡇࡇࡇࡇ(ᴗ˳ᴗ)ࡇࡇࡇࡇࡇࡇࡇࡇ🎢\n",
            "🛏️ࡇࡇࡇࡇࡇࡇࡇࡇࡇࡇࡇࡇ(ᴗ˳ᴗ)ࡇࡇࡇࡇࡇࡇࡇࡇࡇ🎢\n",
            "🛏️ࡇࡇࡇࡇࡇࡇࡇࡇࡇࡇࡇࡇࡇ(ᴗ˳ᴗ)ࡇࡇࡇࡇࡇࡇࡇࡇ🎢\n",
            "🛏️ࡇࡇࡇࡇࡇࡇࡇࡇࡇࡇࡇࡇ(ᴗ˳ᴗ)ࡇࡇࡇࡇࡇࡇࡇࡇࡇ🎢\n",
            "🛏️ࡇࡇࡇࡇࡇࡇࡇࡇࡇࡇࡇ(ᴗ˳ᴗ)ࡇࡇࡇࡇࡇࡇࡇࡇࡇࡇ🎢\n",
            "🛏️ࡇࡇࡇࡇࡇࡇࡇࡇࡇࡇࡇࡇ(ᴗ˳ᴗ)ࡇࡇࡇࡇࡇࡇࡇࡇࡇ🎢\n",
            "🛏️ࡇࡇࡇࡇࡇࡇࡇࡇࡇࡇࡇࡇࡇ(ᴗ˳ᴗ)ࡇࡇࡇࡇࡇࡇࡇࡇ🎢\n",
            "🛏️ࡇࡇࡇࡇࡇࡇࡇࡇࡇࡇࡇࡇࡇࡇ(ᴗ˳ᴗ)ࡇࡇࡇࡇࡇࡇࡇ🎢\n",
            "🛏️ࡇࡇࡇࡇࡇࡇࡇࡇࡇࡇࡇࡇࡇ(ᴗ˳ᴗ)ࡇࡇࡇࡇࡇࡇࡇࡇ🎢\n",
            "🛏️ࡇࡇࡇࡇࡇࡇࡇࡇࡇࡇࡇࡇ(ᴗ˳ᴗ)ࡇࡇࡇࡇࡇࡇࡇࡇࡇ🎢\n",
            "🛏️ࡇࡇࡇࡇࡇࡇࡇࡇࡇࡇࡇࡇࡇ(ᴗ˳ᴗ)ࡇࡇࡇࡇࡇࡇࡇࡇ🎢\n",
            "🛏️ࡇࡇࡇࡇࡇࡇࡇࡇࡇࡇࡇࡇ(ᴗ˳ᴗ)ࡇࡇࡇࡇࡇࡇࡇࡇࡇ🎢\n",
            "🛏️ࡇࡇࡇࡇࡇࡇࡇࡇࡇࡇࡇ(ᴗ˳ᴗ)ࡇࡇࡇࡇࡇࡇࡇࡇࡇࡇ🎢\n",
            "🛏️ࡇࡇࡇࡇࡇࡇࡇࡇࡇࡇࡇࡇ(ᴗ˳ᴗ)ࡇࡇࡇࡇࡇࡇࡇࡇࡇ🎢\n",
            "🛏️ࡇࡇࡇࡇࡇࡇࡇࡇࡇࡇࡇࡇࡇ(ᴗ˳ᴗ)ࡇࡇࡇࡇࡇࡇࡇࡇ🎢\n",
            "🛏️ࡇࡇࡇࡇࡇࡇࡇࡇࡇࡇࡇࡇ(ᴗ˳ᴗ)ࡇࡇࡇࡇࡇࡇࡇࡇࡇ🎢\n",
            "🛏️ࡇࡇࡇࡇࡇࡇࡇࡇࡇࡇࡇ(ᴗ˳ᴗ)ࡇࡇࡇࡇࡇࡇࡇࡇࡇࡇ🎢\n",
            "🛏️ࡇࡇࡇࡇࡇࡇࡇࡇࡇࡇ(ᴗ˳ᴗ)ࡇࡇࡇࡇࡇࡇࡇࡇࡇࡇࡇ🎢\n",
            "🛏️ࡇࡇࡇࡇࡇࡇࡇࡇࡇࡇࡇ(ᴗ˳ᴗ)ࡇࡇࡇࡇࡇࡇࡇࡇࡇࡇ🎢\n",
            "🛏️ࡇࡇࡇࡇࡇࡇࡇࡇࡇࡇࡇࡇ(ᴗ˳ᴗ)ࡇࡇࡇࡇࡇࡇࡇࡇࡇ🎢\n",
            "🛏️ࡇࡇࡇࡇࡇࡇࡇࡇࡇࡇࡇ(ᴗ˳ᴗ)ࡇࡇࡇࡇࡇࡇࡇࡇࡇࡇ🎢\n",
            "🛏️ࡇࡇࡇࡇࡇࡇࡇࡇࡇࡇࡇࡇ(ᴗ˳ᴗ)ࡇࡇࡇࡇࡇࡇࡇࡇࡇ🎢\n",
            "🛏️ࡇࡇࡇࡇࡇࡇࡇࡇࡇࡇࡇࡇࡇ(ᴗ˳ᴗ)ࡇࡇࡇࡇࡇࡇࡇࡇ🎢\n",
            "🛏️ࡇࡇࡇࡇࡇࡇࡇࡇࡇࡇࡇࡇ(ᴗ˳ᴗ)ࡇࡇࡇࡇࡇࡇࡇࡇࡇ🎢\n",
            "🛏️ࡇࡇࡇࡇࡇࡇࡇࡇࡇࡇࡇࡇࡇ(ᴗ˳ᴗ)ࡇࡇࡇࡇࡇࡇࡇࡇ🎢\n",
            "🛏️ࡇࡇࡇࡇࡇࡇࡇࡇࡇࡇࡇࡇ(ᴗ˳ᴗ)ࡇࡇࡇࡇࡇࡇࡇࡇࡇ🎢\n",
            "🛏️ࡇࡇࡇࡇࡇࡇࡇࡇࡇࡇࡇࡇࡇ(ᴗ˳ᴗ)ࡇࡇࡇࡇࡇࡇࡇࡇ🎢\n",
            "🛏️ࡇࡇࡇࡇࡇࡇࡇࡇࡇࡇࡇࡇ(ᴗ˳ᴗ)ࡇࡇࡇࡇࡇࡇࡇࡇࡇ🎢\n",
            "🛏️ࡇࡇࡇࡇࡇࡇࡇࡇࡇࡇࡇ(ᴗ˳ᴗ)ࡇࡇࡇࡇࡇࡇࡇࡇࡇࡇ🎢\n",
            "🛏️ࡇࡇࡇࡇࡇࡇࡇࡇࡇࡇ(ᴗ˳ᴗ)ࡇࡇࡇࡇࡇࡇࡇࡇࡇࡇࡇ🎢\n",
            "🛏️ࡇࡇࡇࡇࡇࡇࡇࡇࡇࡇࡇ(ᴗ˳ᴗ)ࡇࡇࡇࡇࡇࡇࡇࡇࡇࡇ🎢\n",
            "🛏️ࡇࡇࡇࡇࡇࡇࡇࡇࡇࡇࡇࡇ(ᴗ˳ᴗ)ࡇࡇࡇࡇࡇࡇࡇࡇࡇ🎢\n",
            "🛏️ࡇࡇࡇࡇࡇࡇࡇࡇࡇࡇࡇ(ᴗ˳ᴗ)ࡇࡇࡇࡇࡇࡇࡇࡇࡇࡇ🎢\n",
            "🛏️ࡇࡇࡇࡇࡇࡇࡇࡇࡇࡇ(ᴗ˳ᴗ)ࡇࡇࡇࡇࡇࡇࡇࡇࡇࡇࡇ🎢\n",
            "🛏️ࡇࡇࡇࡇࡇࡇࡇࡇࡇ(ᴗ˳ᴗ)ࡇࡇࡇࡇࡇࡇࡇࡇࡇࡇࡇࡇ🎢\n",
            "🛏️ࡇࡇࡇࡇࡇࡇࡇࡇ(ᴗ˳ᴗ)ࡇࡇࡇࡇࡇࡇࡇࡇࡇࡇࡇࡇࡇ🎢\n",
            "🛏️ࡇࡇࡇࡇࡇࡇࡇࡇࡇ(ᴗ˳ᴗ)ࡇࡇࡇࡇࡇࡇࡇࡇࡇࡇࡇࡇ🎢\n",
            "🛏️ࡇࡇࡇࡇࡇࡇࡇࡇࡇࡇ(ᴗ˳ᴗ)ࡇࡇࡇࡇࡇࡇࡇࡇࡇࡇࡇ🎢\n",
            "🛏️ࡇࡇࡇࡇࡇࡇࡇࡇࡇࡇࡇ(ᴗ˳ᴗ)ࡇࡇࡇࡇࡇࡇࡇࡇࡇࡇ🎢\n",
            "🛏️ࡇࡇࡇࡇࡇࡇࡇࡇࡇࡇ(ᴗ˳ᴗ)ࡇࡇࡇࡇࡇࡇࡇࡇࡇࡇࡇ🎢\n",
            "🛏️ࡇࡇࡇࡇࡇࡇࡇࡇࡇ(ᴗ˳ᴗ)ࡇࡇࡇࡇࡇࡇࡇࡇࡇࡇࡇࡇ🎢\n",
            "🛏️ࡇࡇࡇࡇࡇࡇࡇࡇ(ᴗ˳ᴗ)ࡇࡇࡇࡇࡇࡇࡇࡇࡇࡇࡇࡇࡇ🎢\n",
            "🛏️ࡇࡇࡇࡇࡇࡇࡇࡇࡇ(ᴗ˳ᴗ)ࡇࡇࡇࡇࡇࡇࡇࡇࡇࡇࡇࡇ🎢\n",
            "🛏️ࡇࡇࡇࡇࡇࡇࡇࡇ(ᴗ˳ᴗ)ࡇࡇࡇࡇࡇࡇࡇࡇࡇࡇࡇࡇࡇ🎢\n",
            "🛏️ࡇࡇࡇࡇࡇࡇࡇࡇࡇ(ᴗ˳ᴗ)ࡇࡇࡇࡇࡇࡇࡇࡇࡇࡇࡇࡇ🎢\n",
            "🛏️ࡇࡇࡇࡇࡇࡇࡇࡇࡇࡇ(ᴗ˳ᴗ)ࡇࡇࡇࡇࡇࡇࡇࡇࡇࡇࡇ🎢\n",
            "🛏️ࡇࡇࡇࡇࡇࡇࡇࡇࡇ(ᴗ˳ᴗ)ࡇࡇࡇࡇࡇࡇࡇࡇࡇࡇࡇࡇ🎢\n",
            "🛏️ࡇࡇࡇࡇࡇࡇࡇࡇࡇࡇ(ᴗ˳ᴗ)ࡇࡇࡇࡇࡇࡇࡇࡇࡇࡇࡇ🎢\n",
            "🛏️ࡇࡇࡇࡇࡇࡇࡇࡇࡇࡇࡇ(ᴗ˳ᴗ)ࡇࡇࡇࡇࡇࡇࡇࡇࡇࡇ🎢\n",
            "🛏️ࡇࡇࡇࡇࡇࡇࡇࡇࡇࡇ(ᴗ˳ᴗ)ࡇࡇࡇࡇࡇࡇࡇࡇࡇࡇࡇ🎢\n",
            "🛏️ࡇࡇࡇࡇࡇࡇࡇࡇࡇࡇࡇ(ᴗ˳ᴗ)ࡇࡇࡇࡇࡇࡇࡇࡇࡇࡇ🎢\n",
            "🛏️ࡇࡇࡇࡇࡇࡇࡇࡇࡇࡇ(ᴗ˳ᴗ)ࡇࡇࡇࡇࡇࡇࡇࡇࡇࡇࡇ🎢\n",
            "🛏️ࡇࡇࡇࡇࡇࡇࡇࡇࡇࡇࡇ(ᴗ˳ᴗ)ࡇࡇࡇࡇࡇࡇࡇࡇࡇࡇ🎢\n",
            "🛏️ࡇࡇࡇࡇࡇࡇࡇࡇࡇࡇ(ᴗ˳ᴗ)ࡇࡇࡇࡇࡇࡇࡇࡇࡇࡇࡇ🎢\n",
            "🛏️ࡇࡇࡇࡇࡇࡇࡇࡇࡇࡇࡇ(ᴗ˳ᴗ)ࡇࡇࡇࡇࡇࡇࡇࡇࡇࡇ🎢\n",
            "🛏️ࡇࡇࡇࡇࡇࡇࡇࡇࡇࡇࡇࡇ(ᴗ˳ᴗ)ࡇࡇࡇࡇࡇࡇࡇࡇࡇ🎢\n",
            "🛏️ࡇࡇࡇࡇࡇࡇࡇࡇࡇࡇࡇࡇࡇ(ᴗ˳ᴗ)ࡇࡇࡇࡇࡇࡇࡇࡇ🎢\n",
            "🛏️ࡇࡇࡇࡇࡇࡇࡇࡇࡇࡇࡇࡇࡇࡇ(ᴗ˳ᴗ)ࡇࡇࡇࡇࡇࡇࡇ🎢\n",
            "🛏️ࡇࡇࡇࡇࡇࡇࡇࡇࡇࡇࡇࡇࡇ(ᴗ˳ᴗ)ࡇࡇࡇࡇࡇࡇࡇࡇ🎢\n",
            "🛏️ࡇࡇࡇࡇࡇࡇࡇࡇࡇࡇࡇࡇ(ᴗ˳ᴗ)ࡇࡇࡇࡇࡇࡇࡇࡇࡇ🎢\n",
            "🛏️ࡇࡇࡇࡇࡇࡇࡇࡇࡇࡇࡇࡇࡇ(ᴗ˳ᴗ)ࡇࡇࡇࡇࡇࡇࡇࡇ🎢\n",
            "🛏️ࡇࡇࡇࡇࡇࡇࡇࡇࡇࡇࡇࡇ(ᴗ˳ᴗ)ࡇࡇࡇࡇࡇࡇࡇࡇࡇ🎢\n",
            "🛏️ࡇࡇࡇࡇࡇࡇࡇࡇࡇࡇࡇ(ᴗ˳ᴗ)ࡇࡇࡇࡇࡇࡇࡇࡇࡇࡇ🎢\n",
            "🛏️ࡇࡇࡇࡇࡇࡇࡇࡇࡇࡇ(ᴗ˳ᴗ)ࡇࡇࡇࡇࡇࡇࡇࡇࡇࡇࡇ🎢\n",
            "🛏️ࡇࡇࡇࡇࡇࡇࡇࡇࡇ(ᴗ˳ᴗ)ࡇࡇࡇࡇࡇࡇࡇࡇࡇࡇࡇࡇ🎢\n",
            "🛏️ࡇࡇࡇࡇࡇࡇࡇࡇ(ᴗ˳ᴗ)ࡇࡇࡇࡇࡇࡇࡇࡇࡇࡇࡇࡇࡇ🎢\n",
            "🛏️ࡇࡇࡇࡇࡇࡇࡇࡇࡇ(ᴗ˳ᴗ)ࡇࡇࡇࡇࡇࡇࡇࡇࡇࡇࡇࡇ🎢\n",
            "🛏️ࡇࡇࡇࡇࡇࡇࡇࡇࡇࡇ(ᴗ˳ᴗ)ࡇࡇࡇࡇࡇࡇࡇࡇࡇࡇࡇ🎢\n",
            "🛏️ࡇࡇࡇࡇࡇࡇࡇࡇࡇࡇࡇ(ᴗ˳ᴗ)ࡇࡇࡇࡇࡇࡇࡇࡇࡇࡇ🎢\n",
            "🛏️ࡇࡇࡇࡇࡇࡇࡇࡇࡇࡇ(ᴗ˳ᴗ)ࡇࡇࡇࡇࡇࡇࡇࡇࡇࡇࡇ🎢\n",
            "🛏️ࡇࡇࡇࡇࡇࡇࡇࡇࡇࡇࡇ(ᴗ˳ᴗ)ࡇࡇࡇࡇࡇࡇࡇࡇࡇࡇ🎢\n",
            "🛏️ࡇࡇࡇࡇࡇࡇࡇࡇࡇࡇ(ᴗ˳ᴗ)ࡇࡇࡇࡇࡇࡇࡇࡇࡇࡇࡇ🎢\n",
            "🛏️ࡇࡇࡇࡇࡇࡇࡇࡇࡇ(ᴗ˳ᴗ)ࡇࡇࡇࡇࡇࡇࡇࡇࡇࡇࡇࡇ🎢\n",
            "🛏️ࡇࡇࡇࡇࡇࡇࡇࡇ(ᴗ˳ᴗ)ࡇࡇࡇࡇࡇࡇࡇࡇࡇࡇࡇࡇࡇ🎢\n",
            "🛏️ࡇࡇࡇࡇࡇࡇࡇࡇࡇ(ᴗ˳ᴗ)ࡇࡇࡇࡇࡇࡇࡇࡇࡇࡇࡇࡇ🎢\n",
            "🛏️ࡇࡇࡇࡇࡇࡇࡇࡇ(ᴗ˳ᴗ)ࡇࡇࡇࡇࡇࡇࡇࡇࡇࡇࡇࡇࡇ🎢\n",
            "🛏️ࡇࡇࡇࡇࡇࡇࡇࡇࡇ(ᴗ˳ᴗ)ࡇࡇࡇࡇࡇࡇࡇࡇࡇࡇࡇࡇ🎢\n",
            "🛏️ࡇࡇࡇࡇࡇࡇࡇࡇ(ᴗ˳ᴗ)ࡇࡇࡇࡇࡇࡇࡇࡇࡇࡇࡇࡇࡇ🎢\n",
            "🛏️ࡇࡇࡇࡇࡇࡇࡇࡇࡇ(ᴗ˳ᴗ)ࡇࡇࡇࡇࡇࡇࡇࡇࡇࡇࡇࡇ🎢\n",
            "🛏️ࡇࡇࡇࡇࡇࡇࡇࡇࡇࡇ(ᴗ˳ᴗ)ࡇࡇࡇࡇࡇࡇࡇࡇࡇࡇࡇ🎢\n",
            "🛏️ࡇࡇࡇࡇࡇࡇࡇࡇࡇࡇࡇ(ᴗ˳ᴗ)ࡇࡇࡇࡇࡇࡇࡇࡇࡇࡇ🎢\n",
            "🛏️ࡇࡇࡇࡇࡇࡇࡇࡇࡇࡇ(ᴗ˳ᴗ)ࡇࡇࡇࡇࡇࡇࡇࡇࡇࡇࡇ🎢\n",
            "🛏️ࡇࡇࡇࡇࡇࡇࡇࡇࡇ(ᴗ˳ᴗ)ࡇࡇࡇࡇࡇࡇࡇࡇࡇࡇࡇࡇ🎢\n",
            "🛏️ࡇࡇࡇࡇࡇࡇࡇࡇࡇࡇ(ᴗ˳ᴗ)ࡇࡇࡇࡇࡇࡇࡇࡇࡇࡇࡇ🎢\n",
            "🛏️ࡇࡇࡇࡇࡇࡇࡇࡇࡇ(ᴗ˳ᴗ)ࡇࡇࡇࡇࡇࡇࡇࡇࡇࡇࡇࡇ🎢\n",
            "🛏️ࡇࡇࡇࡇࡇࡇࡇࡇ(ᴗ˳ᴗ)ࡇࡇࡇࡇࡇࡇࡇࡇࡇࡇࡇࡇࡇ🎢\n",
            "🛏️ࡇࡇࡇࡇࡇࡇࡇ(ᴗ˳ᴗ)ࡇࡇࡇࡇࡇࡇࡇࡇࡇࡇࡇࡇࡇࡇ🎢\n",
            "🛏️ࡇࡇࡇࡇࡇࡇࡇࡇ(ᴗ˳ᴗ)ࡇࡇࡇࡇࡇࡇࡇࡇࡇࡇࡇࡇࡇ🎢\n",
            "🛏️ࡇࡇࡇࡇࡇࡇࡇ(ᴗ˳ᴗ)ࡇࡇࡇࡇࡇࡇࡇࡇࡇࡇࡇࡇࡇࡇ🎢\n",
            "🛏️ࡇࡇࡇࡇࡇࡇࡇࡇ(ᴗ˳ᴗ)ࡇࡇࡇࡇࡇࡇࡇࡇࡇࡇࡇࡇࡇ🎢\n",
            "🛏️ࡇࡇࡇࡇࡇࡇࡇ(ᴗ˳ᴗ)ࡇࡇࡇࡇࡇࡇࡇࡇࡇࡇࡇࡇࡇࡇ🎢\n",
            "🛏️ࡇࡇࡇࡇࡇࡇ(ᴗ˳ᴗ)ࡇࡇࡇࡇࡇࡇࡇࡇࡇࡇࡇࡇࡇࡇࡇ🎢\n",
            "🛏️ࡇࡇࡇࡇࡇࡇࡇ(ᴗ˳ᴗ)ࡇࡇࡇࡇࡇࡇࡇࡇࡇࡇࡇࡇࡇࡇ🎢\n",
            "🛏️ࡇࡇࡇࡇࡇࡇ(ᴗ˳ᴗ)ࡇࡇࡇࡇࡇࡇࡇࡇࡇࡇࡇࡇࡇࡇࡇ🎢\n",
            "🛏️ࡇࡇࡇࡇࡇ(ᴗ˳ᴗ)ࡇࡇࡇࡇࡇࡇࡇࡇࡇࡇࡇࡇࡇࡇࡇࡇ🎢\n",
            "🛏️ࡇࡇࡇࡇ(ᴗ˳ᴗ)ࡇࡇࡇࡇࡇࡇࡇࡇࡇࡇࡇࡇࡇࡇࡇࡇࡇ🎢\n",
            "🛏️ࡇࡇࡇ(ᴗ˳ᴗ)ࡇࡇࡇࡇࡇࡇࡇࡇࡇࡇࡇࡇࡇࡇࡇࡇࡇࡇ🎢\n",
            "🛏️ࡇࡇࡇࡇ(ᴗ˳ᴗ)ࡇࡇࡇࡇࡇࡇࡇࡇࡇࡇࡇࡇࡇࡇࡇࡇࡇ🎢\n",
            "🛏️ࡇࡇࡇࡇࡇ(ᴗ˳ᴗ)ࡇࡇࡇࡇࡇࡇࡇࡇࡇࡇࡇࡇࡇࡇࡇࡇ🎢\n",
            "🛏️ࡇࡇࡇࡇࡇࡇ(ᴗ˳ᴗ)ࡇࡇࡇࡇࡇࡇࡇࡇࡇࡇࡇࡇࡇࡇࡇ🎢\n",
            "🛏️ࡇࡇࡇࡇࡇࡇࡇ(ᴗ˳ᴗ)ࡇࡇࡇࡇࡇࡇࡇࡇࡇࡇࡇࡇࡇࡇ🎢\n",
            "🛏️ࡇࡇࡇࡇࡇࡇ(ᴗ˳ᴗ)ࡇࡇࡇࡇࡇࡇࡇࡇࡇࡇࡇࡇࡇࡇࡇ🎢\n",
            "🛏️ࡇࡇࡇࡇࡇࡇࡇ(ᴗ˳ᴗ)ࡇࡇࡇࡇࡇࡇࡇࡇࡇࡇࡇࡇࡇࡇ🎢\n",
            "🛏️ࡇࡇࡇࡇࡇࡇ(ᴗ˳ᴗ)ࡇࡇࡇࡇࡇࡇࡇࡇࡇࡇࡇࡇࡇࡇࡇ🎢\n",
            "🛏️ࡇࡇࡇࡇࡇࡇࡇ(ᴗ˳ᴗ)ࡇࡇࡇࡇࡇࡇࡇࡇࡇࡇࡇࡇࡇࡇ🎢\n",
            "🛏️ࡇࡇࡇࡇࡇࡇࡇࡇ(ᴗ˳ᴗ)ࡇࡇࡇࡇࡇࡇࡇࡇࡇࡇࡇࡇࡇ🎢\n",
            "🛏️ࡇࡇࡇࡇࡇࡇࡇ(ᴗ˳ᴗ)ࡇࡇࡇࡇࡇࡇࡇࡇࡇࡇࡇࡇࡇࡇ🎢\n",
            "🛏️ࡇࡇࡇࡇࡇࡇࡇࡇ(ᴗ˳ᴗ)ࡇࡇࡇࡇࡇࡇࡇࡇࡇࡇࡇࡇࡇ🎢\n",
            "🛏️ࡇࡇࡇࡇࡇࡇࡇࡇࡇ(ᴗ˳ᴗ)ࡇࡇࡇࡇࡇࡇࡇࡇࡇࡇࡇࡇ🎢\n",
            "🛏️ࡇࡇࡇࡇࡇࡇࡇࡇ(ᴗ˳ᴗ)ࡇࡇࡇࡇࡇࡇࡇࡇࡇࡇࡇࡇࡇ🎢\n",
            "🛏️ࡇࡇࡇࡇࡇࡇࡇ(ᴗ˳ᴗ)ࡇࡇࡇࡇࡇࡇࡇࡇࡇࡇࡇࡇࡇࡇ🎢\n",
            "🛏️ࡇࡇࡇࡇࡇࡇ(ᴗ˳ᴗ)ࡇࡇࡇࡇࡇࡇࡇࡇࡇࡇࡇࡇࡇࡇࡇ🎢\n",
            "🛏️ࡇࡇࡇࡇࡇࡇࡇ(ᴗ˳ᴗ)ࡇࡇࡇࡇࡇࡇࡇࡇࡇࡇࡇࡇࡇࡇ🎢\n",
            "🛏️ࡇࡇࡇࡇࡇࡇ(ᴗ˳ᴗ)ࡇࡇࡇࡇࡇࡇࡇࡇࡇࡇࡇࡇࡇࡇࡇ🎢\n",
            "🛏️ࡇࡇࡇࡇࡇ(ᴗ˳ᴗ)ࡇࡇࡇࡇࡇࡇࡇࡇࡇࡇࡇࡇࡇࡇࡇࡇ🎢\n",
            "🛏️ࡇࡇࡇࡇ(ᴗ˳ᴗ)ࡇࡇࡇࡇࡇࡇࡇࡇࡇࡇࡇࡇࡇࡇࡇࡇࡇ🎢\n",
            "🛏️ࡇࡇࡇ(ᴗ˳ᴗ)ࡇࡇࡇࡇࡇࡇࡇࡇࡇࡇࡇࡇࡇࡇࡇࡇࡇࡇ🎢\n",
            "🛏️ࡇࡇ(ᴗ˳ᴗ)ࡇࡇࡇࡇࡇࡇࡇࡇࡇࡇࡇࡇࡇࡇࡇࡇࡇࡇࡇ🎢\n",
            "🛏️ࡇ(ᴗ˳ᴗ)ࡇࡇࡇࡇࡇࡇࡇࡇࡇࡇࡇࡇࡇࡇࡇࡇࡇࡇࡇࡇ🎢\n",
            "🛏️(ᴗ˳ᴗ)ࡇࡇࡇࡇࡇࡇࡇࡇࡇࡇࡇࡇࡇࡇࡇࡇࡇࡇࡇࡇࡇ🎢\n"
          ]
        },
        {
          "output_type": "execute_result",
          "data": {
            "text/plain": [
              "290"
            ]
          },
          "metadata": {},
          "execution_count": 61
        }
      ],
      "source": [
        "\n",
        "# Monte Carlo simulation #2... the random-walker\n",
        "\n",
        "#\n",
        "# Task #1:  understand the _single_ \"sleepwalker\":\n",
        "#           change the character sleepwalking to something else, emoji, etc.\n",
        "#           change the \"walls\" to something else\n",
        "#           change the \"sidewalk\" to something else (water, air, walls, ...)\n",
        "#           try it with some different inputs... then you'll be ready for task 2\n",
        "\n",
        "import time\n",
        "import random\n",
        "\n",
        "def rs():\n",
        "    \"\"\" One random step \"\"\"\n",
        "    return random.choice([-1, 1])\n",
        "\n",
        "def rwalk(start, low, high):\n",
        "    \"\"\" Random walk between -radius and +radius  (starting at 0 by default) \"\"\"\n",
        "    totalsteps = 0          # Initial value of totalsteps (_not_ final value!)\n",
        "    current = start         # Current location (_not_ the total # of steps)\n",
        "\n",
        "    while True:             # Run \"forever\" (really, until a return or break)\n",
        "        if current <= low:  # too low!\n",
        "            return totalsteps # Phew!  Return totalsteps (stops the while loop)\n",
        "        elif current >= high: # too high!\n",
        "            return totalsteps # Phew!  Return totalsteps (stops the while loop)\n",
        "        else:\n",
        "            current = current + rs()  # take a step\n",
        "            totalsteps += 1           # count it\n",
        "\n",
        "            # let's animate!\n",
        "            left_side = current - low   # distance on the left of our sleepwalker\n",
        "            right_side = high - current\n",
        "            print(\"🛏️\" + \"ࡇ\"*left_side + \"(ᴗ˳ᴗ)\" + \"ࡇ\"*right_side + \"🎢\", flush=True)  # a start of our \"ASCIImation\"\n",
        "            time.sleep(0.21)\n",
        "\n",
        "    # the code can never get here!\n",
        "\n",
        "# You will need to add the right-hand side, too\n",
        "# Then, improve your sleepwalker!\n",
        "\n",
        "# let's try it!  rwalk(start, low, high)\n",
        "rwalk(10,0,21)\n",
        "\n"
      ]
    },
    {
      "cell_type": "markdown",
      "source": [
        "### <font color=\"darkblue\"><b>Task #6: Your own wandering!</b></font>\n",
        "\n",
        "Below, create a variation of the random-walker examples above and below. Be sure\n",
        "+ You have at least two random wanderers\n",
        "+ You include an aesthetic customization of your choice\n",
        "+ You include an algorithmic personalization of your choice\n",
        "\n",
        "These can be very fun...\n",
        "\n",
        "I look forward to all of your ***wandering***!"
      ],
      "metadata": {
        "id": "XM07iJfP7VMf"
      }
    },
    {
      "cell_type": "code",
      "source": [],
      "metadata": {
        "id": "ycLzZhOBrMkT"
      },
      "execution_count": null,
      "outputs": []
    },
    {
      "cell_type": "code",
      "execution_count": null,
      "metadata": {
        "colab": {
          "base_uri": "https://localhost:8080/"
        },
        "outputId": "7e3c3cfe-735f-4a7d-ab54-9cca61a8da5e",
        "id": "JEfncWqUIxSR"
      },
      "outputs": [
        {
          "output_type": "stream",
          "name": "stdout",
          "text": [
            "🪺\u001b[6;37;41m𓅛\u001b[0m_______🪵_______\u001b[6;37;46m𓅪\u001b[0m🪹 \n",
            "🪺\u001b[6;37;41m𓅛\u001b[0m_______🪵_______\u001b[6;37;46m𓅪\u001b[0m🪹 \n",
            "🪺\u001b[6;37;41m𓅛\u001b[0m_______🪵_______\u001b[6;37;46m𓅪\u001b[0m🪹 \n",
            "🪺_\u001b[6;37;41m𓅛\u001b[0m______🪵______\u001b[6;37;46m𓅪\u001b[0m_🪹 \n",
            "🪺\u001b[6;37;41m𓅛\u001b[0m_______🪵_____\u001b[6;37;46m𓅪\u001b[0m__🪹 \n",
            "🪺\u001b[6;37;41m𓅛\u001b[0m_______🪵____\u001b[6;37;46m𓅪\u001b[0m___🪹 \n",
            "🪺\u001b[6;37;41m𓅛\u001b[0m_______🪵___\u001b[6;37;46m𓅪\u001b[0m____🪹 \n",
            "🪺_\u001b[6;37;41m𓅛\u001b[0m______🪵__\u001b[6;37;46m𓅪\u001b[0m_____🪹 \n",
            "🪺__\u001b[6;37;41m𓅛\u001b[0m_____🪵_\u001b[6;37;46m𓅪\u001b[0m______🪹 \n",
            "🪺_\u001b[6;37;41m𓅛\u001b[0m______🪵__\u001b[6;37;46m𓅪\u001b[0m_____🪹 \n",
            "🪺__\u001b[6;37;41m𓅛\u001b[0m_____🪵_\u001b[6;37;46m𓅪\u001b[0m______🪹 \n",
            "🪺_\u001b[6;37;41m𓅛\u001b[0m______🪵__\u001b[6;37;46m𓅪\u001b[0m_____🪹 \n",
            "🪺\u001b[6;37;41m𓅛\u001b[0m_______🪵_\u001b[6;37;46m𓅪\u001b[0m______🪹 \n",
            "🪺\u001b[6;37;41m𓅛\u001b[0m_______🪵\u001b[6;37;46m𓅪\u001b[0m_______🪹 \n",
            "🪺\u001b[6;37;41m𓅛\u001b[0m_______🪵_\u001b[6;37;46m𓅪\u001b[0m______🪹 \n",
            "🪺_\u001b[6;37;41m𓅛\u001b[0m______🪵__\u001b[6;37;46m𓅪\u001b[0m_____🪹 \n",
            "🪺__\u001b[6;37;41m𓅛\u001b[0m_____🪵___\u001b[6;37;46m𓅪\u001b[0m____🪹 \n",
            "🪺___\u001b[6;37;41m𓅛\u001b[0m____🪵__\u001b[6;37;46m𓅪\u001b[0m_____🪹 \n",
            "🪺____\u001b[6;37;41m𓅛\u001b[0m___🪵_\u001b[6;37;46m𓅪\u001b[0m______🪹 \n",
            "🪺___\u001b[6;37;41m𓅛\u001b[0m____🪵__\u001b[6;37;46m𓅪\u001b[0m_____🪹 \n",
            "🪺____\u001b[6;37;41m𓅛\u001b[0m___🪵___\u001b[6;37;46m𓅪\u001b[0m____🪹 \n",
            "🪺___\u001b[6;37;41m𓅛\u001b[0m____🪵__\u001b[6;37;46m𓅪\u001b[0m_____🪹 \n",
            "🪺____\u001b[6;37;41m𓅛\u001b[0m___🪵___\u001b[6;37;46m𓅪\u001b[0m____🪹 \n",
            "🪺___\u001b[6;37;41m𓅛\u001b[0m____🪵__\u001b[6;37;46m𓅪\u001b[0m_____🪹 \n",
            "🪺____\u001b[6;37;41m𓅛\u001b[0m___🪵_\u001b[6;37;46m𓅪\u001b[0m______🪹 \n",
            "🪺___\u001b[6;37;41m𓅛\u001b[0m____🪵__\u001b[6;37;46m𓅪\u001b[0m_____🪹 \n",
            "🪺__\u001b[6;37;41m𓅛\u001b[0m_____🪵___\u001b[6;37;46m𓅪\u001b[0m____🪹 \n",
            "🪺_\u001b[6;37;41m𓅛\u001b[0m______🪵__\u001b[6;37;46m𓅪\u001b[0m_____🪹 \n",
            "🪺\u001b[6;37;41m𓅛\u001b[0m_______🪵___\u001b[6;37;46m𓅪\u001b[0m____🪹 \n",
            "🪺_\u001b[6;37;41m𓅛\u001b[0m______🪵__\u001b[6;37;46m𓅪\u001b[0m_____🪹 \n",
            "🪺\u001b[6;37;41m𓅛\u001b[0m_______🪵_\u001b[6;37;46m𓅪\u001b[0m______🪹 \n",
            "🪺_\u001b[6;37;41m𓅛\u001b[0m______🪵\u001b[6;37;46m𓅪\u001b[0m_______🪹 \n",
            "🪺__\u001b[6;37;41m𓅛\u001b[0m_____🪵\u001b[6;37;46m𓅪\u001b[0m_______🪹  birb two got the stick! \n",
            "🪺___\u001b[6;37;41m𓅛\u001b[0m____🪵_\u001b[6;37;46m𓅪\u001b[0m______🪹 \n",
            "🪺____\u001b[6;37;41m𓅛\u001b[0m___🪵__\u001b[6;37;46m𓅪\u001b[0m_____🪹 \n",
            "🪺_____\u001b[6;37;41m𓅛\u001b[0m__🪵_\u001b[6;37;46m𓅪\u001b[0m______🪹 \n",
            "🪺______\u001b[6;37;41m𓅛\u001b[0m_🪵__\u001b[6;37;46m𓅪\u001b[0m_____🪹 \n",
            "🪺_____\u001b[6;37;41m𓅛\u001b[0m__🪵___\u001b[6;37;46m𓅪\u001b[0m____🪹 \n",
            "🪺______\u001b[6;37;41m𓅛\u001b[0m_🪵__\u001b[6;37;46m𓅪\u001b[0m_____🪹 \n",
            "🪺_____\u001b[6;37;41m𓅛\u001b[0m__🪵_\u001b[6;37;46m𓅪\u001b[0m______🪹 \n",
            "🪺______\u001b[6;37;41m𓅛\u001b[0m_🪵\u001b[6;37;46m𓅪\u001b[0m_______🪹 \n",
            "🪺_______\u001b[6;37;41m𓅛\u001b[0m🪵_\u001b[6;37;46m𓅪\u001b[0m______🪹 \n",
            "🪺_______\u001b[6;37;41m𓅛\u001b[0m🕳️\u001b[6;37;46m𓅪\u001b[0m_______🪹  birb one got the stick!  it unveiled a hole! \n",
            "🪺______\u001b[6;37;41m𓅛\u001b[0m\u001b[6;37;46m𓅪\u001b[0m🕳️________🪹  hop! \n",
            "🪺_____\u001b[6;37;41m𓅛\u001b[0m\u001b[6;37;46m𓅪\u001b[0m_🕳️________🪹 \n",
            "🪺______\u001b[6;37;41m𓅛\u001b[0m\u001b[6;37;46m𓅪\u001b[0m🕳️________🪹 \n",
            "🪺_____\u001b[6;37;41m𓅛\u001b[0m__🕳️\u001b[6;37;46m𓅪\u001b[0m_______🪹  hop! \n",
            "🪺____\u001b[6;37;41m𓅛\u001b[0m__\u001b[6;37;46m𓅪\u001b[0m🕳️________🪹  hop! \n",
            "🪺___\u001b[6;37;41m𓅛\u001b[0m__\u001b[6;37;46m𓅪\u001b[0m_🕳️________🪹 \n",
            "🪺____\u001b[6;37;41m𓅛\u001b[0m\u001b[6;37;46m𓅪\u001b[0m__🕳️________🪹 \n",
            "🪺___\u001b[6;37;41m𓅛\u001b[0m\u001b[6;37;46m𓅪\u001b[0m___🕳️________🪹 \n",
            "🪺___\u001b[6;37;41m𓅛\u001b[0m\u001b[6;37;46m𓅪\u001b[0m___🕳️________🪹  Oh wow! The two birbs say hi to each other! \n",
            "🪺___\u001b[6;37;41m𓅛\u001b[0m\u001b[6;37;46m𓅪\u001b[0m___🕳️________🪹  Oh wow! The two birbs say hi to each other! \n",
            "🪺__\u001b[6;37;41m𓅛\u001b[0m__\u001b[6;37;46m𓅪\u001b[0m__🕳️________🪹 \n",
            "🪺_\u001b[6;37;41m𓅛\u001b[0m____\u001b[6;37;46m𓅪\u001b[0m_🕳️________🪹 \n",
            "birb one wins at step 55\n"
          ]
        }
      ],
      "source": [
        "#\n",
        "# Task #2:  create a _two_ sleepwalker animation!\n",
        "#           For an example _idea_ see the next cell...\n",
        "\n",
        "\n",
        "# was not able to make the hole always like up because the birbs are not the same width as the emojis or the text :(\n",
        "\n",
        "import time\n",
        "import random\n",
        "\n",
        "def rs():\n",
        "    \"\"\" One random step \"\"\"\n",
        "    return random.choice([-1, 1])\n",
        "\n",
        "def birbnest(stick):\n",
        "  \"\"\" stick is in the middle and determines the lane sizes\n",
        "      the birbs have to wander from the nest to the stick\n",
        "      then back to the nest\n",
        "      the birb that does that first wins\n",
        "      they also have to try not to fall into the hole\n",
        "      that gets revealed when both birds get the stick\n",
        "  \"\"\"\n",
        "  end = stick*2\n",
        "  current1 = 0\n",
        "  current2 = (stick*2)\n",
        "  gotstick = 0\n",
        "  steps = 0\n",
        "  birbone = '\\033[6;37;41m' + '𓅛' + '\\033[0m'\n",
        "  birbtwo = '\\033[6;37;46m' + '𓅪' + '\\033[0m'\n",
        "\n",
        "  while True:\n",
        "    extras = ''\n",
        "    # print(current1, current2, gotstick) # debugging\n",
        "    if current1 <= 0 and (gotstick == 1 or gotstick == 3):\n",
        "        print('birb one wins at step'  , steps)\n",
        "        return\n",
        "    elif current2 >= end and (gotstick == 2 or gotstick == 3):\n",
        "        print('birb two wins at step ' , steps)\n",
        "        return\n",
        "    else:\n",
        "      while current1 >= current2 or current1 == stick or current2 == stick:\n",
        "        if current1 == stick == current2:\n",
        "          if gotstick == 3:\n",
        "            print('the two birbs collide and fall into the hole :(')\n",
        "            return\n",
        "          elif gotstick == 1:\n",
        "            extras += ' birb one stops birb two from getting the stick. '\n",
        "          elif gotstick == 2:\n",
        "            extras += ' birb two stops birb one from getting the stick. '\n",
        "          else:\n",
        "            extras += ' the two birbs stops each other from getting the stick. '\n",
        "        if current1 == stick:\n",
        "          if gotstick == 0 or gotstick == 2:\n",
        "            extras += ' birb one got the stick! '\n",
        "            gotstick += 1\n",
        "            if gotstick == 3:\n",
        "              extras += ' it unveiled a hole! '\n",
        "            current1 = stick - 1\n",
        "          elif gotstick == 1:\n",
        "            current1 = stick - 1\n",
        "          else:\n",
        "            extras += ' hop! '\n",
        "            current1 += step1\n",
        "\n",
        "        if current2 == stick:\n",
        "          if gotstick == 1 or gotstick == 0:\n",
        "            extras += ' birb two got the stick! '\n",
        "            gotstick += 2\n",
        "            if gotstick == 3:\n",
        "              extras += 'it unveiled a hole!'\n",
        "            current2 = stick + 1\n",
        "          elif gotstick == 2:\n",
        "            current2 = stick + 1\n",
        "          else:\n",
        "            extras += ' hop! '\n",
        "            current2 += step2\n",
        "\n",
        "        if current2 <= current1:\n",
        "          extras += ' Oh wow! The two birbs say hi to each other! '\n",
        "          current1 -= step1\n",
        "          current2 -= step2\n",
        "\n",
        "        if current1 >= end:\n",
        "          current1 = end - 1\n",
        "\n",
        "        if current2 <= 0:\n",
        "          current2 = 1\n",
        "      # print(current1, current2, gotstick) # more degubbing\n",
        "\n",
        "\n",
        "\n",
        "      #animation time :') 𓅛 '\n",
        "                        # 𓅪 '\n",
        "\n",
        "\n",
        "      sym = []\n",
        "      symbol = []\n",
        "\n",
        "      L = [stick, current1, current2]\n",
        "      for x in range(3):\n",
        "        sym += [min(L)]\n",
        "        if min(L) == stick:\n",
        "          if gotstick != 3:\n",
        "            symbol += ['🪵']\n",
        "          else:\n",
        "            symbol += ['🕳️']\n",
        "        elif min(L) == current1:\n",
        "          symbol += [birbone]\n",
        "        elif min(L) == current2:\n",
        "          symbol += [birbtwo]\n",
        "        L.remove(min(L))\n",
        "      # print(symbol)\n",
        "\n",
        "      # print(sym)\n",
        "      if sym[0] < stick:\n",
        "        left = sym[0]\n",
        "        mid1 = (sym[1] - sym[0]) - 1\n",
        "        if sym[1] < stick:\n",
        "          right = stick\n",
        "          mid2 = (sym[2] - sym[1])-1\n",
        "        else:\n",
        "          right = end - sym[2]\n",
        "          mid2 = (sym[2] - sym[1]) - 1\n",
        "      elif sym[0] == stick:\n",
        "        left = stick\n",
        "        mid1 = (sym[1] - sym[0]) - 1\n",
        "        mid2 = (sym[2] - sym[1]) - 1\n",
        "        right = end - sym[2]\n",
        "\n",
        "\n",
        "\n",
        "\n",
        "      # left = pos1\n",
        "      # mid1 = pos2 - pos1\n",
        "      # mid2 = pos3 - pos2\n",
        "      # right = end - pos3\n",
        "\n",
        "      # results = '🪺'+'.'*left + sym1 + '.'*mid1 + sym2 + '.'*mid2 + sym3 + '.'*right + '🪹'\n",
        "      results = '🪺'+'_'*left + symbol[0] + '_'*mid1 + symbol[1] + '_'*mid2 + symbol[2] + '_'*right + '🪹'\n",
        "      print(results, extras, flush=True)\n",
        "      time.sleep(0.1)\n",
        "\n",
        "      step1 = rs()\n",
        "      current1 = current1 + step1\n",
        "      step2 = rs()\n",
        "      current2 = current2 + step2\n",
        "      if current1 < 0:\n",
        "        current1 = 0\n",
        "      if current2 > end:\n",
        "        current2 = end\n",
        "      steps = steps + 1\n",
        "      if steps > 200:\n",
        "        print('This is taking too long. Let\\'s just call it a tie.')\n",
        "        return\n",
        "\n",
        "\n",
        "birbnest(8)\n"
      ]
    },
    {
      "cell_type": "code",
      "source": [
        "birbnest(10)"
      ],
      "metadata": {
        "colab": {
          "base_uri": "https://localhost:8080/"
        },
        "id": "hRkIeANQCA2J",
        "outputId": "c9e0ebd8-e7b3-4f71-9608-79360fdb45ed"
      },
      "execution_count": null,
      "outputs": [
        {
          "output_type": "stream",
          "name": "stdout",
          "text": [
            "🪺\u001b[6;37;41m𓅛\u001b[0m_________🪵_________\u001b[6;37;46m𓅪\u001b[0m🪹 \n",
            "🪺\u001b[6;37;41m𓅛\u001b[0m_________🪵_________\u001b[6;37;46m𓅪\u001b[0m🪹 \n",
            "🪺\u001b[6;37;41m𓅛\u001b[0m_________🪵_________\u001b[6;37;46m𓅪\u001b[0m🪹 \n",
            "🪺_\u001b[6;37;41m𓅛\u001b[0m________🪵_________\u001b[6;37;46m𓅪\u001b[0m🪹 \n",
            "🪺__\u001b[6;37;41m𓅛\u001b[0m_______🪵_________\u001b[6;37;46m𓅪\u001b[0m🪹 \n",
            "🪺___\u001b[6;37;41m𓅛\u001b[0m______🪵_________\u001b[6;37;46m𓅪\u001b[0m🪹 \n",
            "🪺__\u001b[6;37;41m𓅛\u001b[0m_______🪵________\u001b[6;37;46m𓅪\u001b[0m_🪹 \n",
            "🪺_\u001b[6;37;41m𓅛\u001b[0m________🪵_________\u001b[6;37;46m𓅪\u001b[0m🪹 \n",
            "🪺__\u001b[6;37;41m𓅛\u001b[0m_______🪵_________\u001b[6;37;46m𓅪\u001b[0m🪹 \n",
            "🪺_\u001b[6;37;41m𓅛\u001b[0m________🪵________\u001b[6;37;46m𓅪\u001b[0m_🪹 \n",
            "🪺__\u001b[6;37;41m𓅛\u001b[0m_______🪵_________\u001b[6;37;46m𓅪\u001b[0m🪹 \n",
            "🪺___\u001b[6;37;41m𓅛\u001b[0m______🪵_________\u001b[6;37;46m𓅪\u001b[0m🪹 \n",
            "🪺____\u001b[6;37;41m𓅛\u001b[0m_____🪵________\u001b[6;37;46m𓅪\u001b[0m_🪹 \n",
            "🪺_____\u001b[6;37;41m𓅛\u001b[0m____🪵_________\u001b[6;37;46m𓅪\u001b[0m🪹 \n",
            "🪺______\u001b[6;37;41m𓅛\u001b[0m___🪵________\u001b[6;37;46m𓅪\u001b[0m_🪹 \n",
            "🪺_____\u001b[6;37;41m𓅛\u001b[0m____🪵_________\u001b[6;37;46m𓅪\u001b[0m🪹 \n",
            "🪺______\u001b[6;37;41m𓅛\u001b[0m___🪵_________\u001b[6;37;46m𓅪\u001b[0m🪹 \n",
            "🪺_____\u001b[6;37;41m𓅛\u001b[0m____🪵________\u001b[6;37;46m𓅪\u001b[0m_🪹 \n",
            "🪺____\u001b[6;37;41m𓅛\u001b[0m_____🪵_______\u001b[6;37;46m𓅪\u001b[0m__🪹 \n",
            "🪺___\u001b[6;37;41m𓅛\u001b[0m______🪵________\u001b[6;37;46m𓅪\u001b[0m_🪹 \n",
            "🪺__\u001b[6;37;41m𓅛\u001b[0m_______🪵_________\u001b[6;37;46m𓅪\u001b[0m🪹 \n",
            "🪺_\u001b[6;37;41m𓅛\u001b[0m________🪵_________\u001b[6;37;46m𓅪\u001b[0m🪹 \n",
            "🪺__\u001b[6;37;41m𓅛\u001b[0m_______🪵________\u001b[6;37;46m𓅪\u001b[0m_🪹 \n",
            "🪺___\u001b[6;37;41m𓅛\u001b[0m______🪵_________\u001b[6;37;46m𓅪\u001b[0m🪹 \n",
            "🪺__\u001b[6;37;41m𓅛\u001b[0m_______🪵________\u001b[6;37;46m𓅪\u001b[0m_🪹 \n",
            "🪺___\u001b[6;37;41m𓅛\u001b[0m______🪵_______\u001b[6;37;46m𓅪\u001b[0m__🪹 \n",
            "🪺____\u001b[6;37;41m𓅛\u001b[0m_____🪵________\u001b[6;37;46m𓅪\u001b[0m_🪹 \n",
            "🪺___\u001b[6;37;41m𓅛\u001b[0m______🪵_________\u001b[6;37;46m𓅪\u001b[0m🪹 \n",
            "🪺__\u001b[6;37;41m𓅛\u001b[0m_______🪵_________\u001b[6;37;46m𓅪\u001b[0m🪹 \n",
            "🪺_\u001b[6;37;41m𓅛\u001b[0m________🪵_________\u001b[6;37;46m𓅪\u001b[0m🪹 \n",
            "🪺\u001b[6;37;41m𓅛\u001b[0m_________🪵_________\u001b[6;37;46m𓅪\u001b[0m🪹 \n",
            "🪺\u001b[6;37;41m𓅛\u001b[0m_________🪵_________\u001b[6;37;46m𓅪\u001b[0m🪹 \n",
            "🪺\u001b[6;37;41m𓅛\u001b[0m_________🪵_________\u001b[6;37;46m𓅪\u001b[0m🪹 \n",
            "🪺\u001b[6;37;41m𓅛\u001b[0m_________🪵_________\u001b[6;37;46m𓅪\u001b[0m🪹 \n",
            "🪺\u001b[6;37;41m𓅛\u001b[0m_________🪵_________\u001b[6;37;46m𓅪\u001b[0m🪹 \n",
            "🪺_\u001b[6;37;41m𓅛\u001b[0m________🪵________\u001b[6;37;46m𓅪\u001b[0m_🪹 \n",
            "🪺__\u001b[6;37;41m𓅛\u001b[0m_______🪵_________\u001b[6;37;46m𓅪\u001b[0m🪹 \n",
            "🪺___\u001b[6;37;41m𓅛\u001b[0m______🪵_________\u001b[6;37;46m𓅪\u001b[0m🪹 \n",
            "🪺__\u001b[6;37;41m𓅛\u001b[0m_______🪵________\u001b[6;37;46m𓅪\u001b[0m_🪹 \n",
            "🪺___\u001b[6;37;41m𓅛\u001b[0m______🪵_______\u001b[6;37;46m𓅪\u001b[0m__🪹 \n",
            "🪺____\u001b[6;37;41m𓅛\u001b[0m_____🪵______\u001b[6;37;46m𓅪\u001b[0m___🪹 \n",
            "🪺___\u001b[6;37;41m𓅛\u001b[0m______🪵_______\u001b[6;37;46m𓅪\u001b[0m__🪹 \n",
            "🪺____\u001b[6;37;41m𓅛\u001b[0m_____🪵______\u001b[6;37;46m𓅪\u001b[0m___🪹 \n",
            "🪺_____\u001b[6;37;41m𓅛\u001b[0m____🪵_____\u001b[6;37;46m𓅪\u001b[0m____🪹 \n",
            "🪺______\u001b[6;37;41m𓅛\u001b[0m___🪵______\u001b[6;37;46m𓅪\u001b[0m___🪹 \n",
            "🪺_______\u001b[6;37;41m𓅛\u001b[0m__🪵_____\u001b[6;37;46m𓅪\u001b[0m____🪹 \n",
            "🪺________\u001b[6;37;41m𓅛\u001b[0m_🪵______\u001b[6;37;46m𓅪\u001b[0m___🪹 \n",
            "🪺_______\u001b[6;37;41m𓅛\u001b[0m__🪵_______\u001b[6;37;46m𓅪\u001b[0m__🪹 \n",
            "🪺______\u001b[6;37;41m𓅛\u001b[0m___🪵______\u001b[6;37;46m𓅪\u001b[0m___🪹 \n",
            "🪺_____\u001b[6;37;41m𓅛\u001b[0m____🪵_____\u001b[6;37;46m𓅪\u001b[0m____🪹 \n",
            "🪺____\u001b[6;37;41m𓅛\u001b[0m_____🪵______\u001b[6;37;46m𓅪\u001b[0m___🪹 \n",
            "🪺___\u001b[6;37;41m𓅛\u001b[0m______🪵_____\u001b[6;37;46m𓅪\u001b[0m____🪹 \n",
            "🪺__\u001b[6;37;41m𓅛\u001b[0m_______🪵____\u001b[6;37;46m𓅪\u001b[0m_____🪹 \n",
            "🪺___\u001b[6;37;41m𓅛\u001b[0m______🪵_____\u001b[6;37;46m𓅪\u001b[0m____🪹 \n",
            "🪺__\u001b[6;37;41m𓅛\u001b[0m_______🪵____\u001b[6;37;46m𓅪\u001b[0m_____🪹 \n",
            "🪺___\u001b[6;37;41m𓅛\u001b[0m______🪵___\u001b[6;37;46m𓅪\u001b[0m______🪹 \n",
            "🪺____\u001b[6;37;41m𓅛\u001b[0m_____🪵__\u001b[6;37;46m𓅪\u001b[0m_______🪹 \n",
            "🪺___\u001b[6;37;41m𓅛\u001b[0m______🪵_\u001b[6;37;46m𓅪\u001b[0m________🪹 \n",
            "🪺____\u001b[6;37;41m𓅛\u001b[0m_____🪵\u001b[6;37;46m𓅪\u001b[0m_________🪹 \n",
            "🪺_____\u001b[6;37;41m𓅛\u001b[0m____🪵_\u001b[6;37;46m𓅪\u001b[0m________🪹 \n",
            "🪺____\u001b[6;37;41m𓅛\u001b[0m_____🪵__\u001b[6;37;46m𓅪\u001b[0m_______🪹 \n",
            "🪺___\u001b[6;37;41m𓅛\u001b[0m______🪵_\u001b[6;37;46m𓅪\u001b[0m________🪹 \n",
            "🪺____\u001b[6;37;41m𓅛\u001b[0m_____🪵\u001b[6;37;46m𓅪\u001b[0m_________🪹 \n",
            "🪺___\u001b[6;37;41m𓅛\u001b[0m______🪵\u001b[6;37;46m𓅪\u001b[0m_________🪹  birb two got the stick! \n",
            "🪺__\u001b[6;37;41m𓅛\u001b[0m_______🪵\u001b[6;37;46m𓅪\u001b[0m_________🪹 \n",
            "🪺_\u001b[6;37;41m𓅛\u001b[0m________🪵_\u001b[6;37;46m𓅪\u001b[0m________🪹 \n",
            "🪺__\u001b[6;37;41m𓅛\u001b[0m_______🪵\u001b[6;37;46m𓅪\u001b[0m_________🪹 \n",
            "🪺_\u001b[6;37;41m𓅛\u001b[0m________🪵_\u001b[6;37;46m𓅪\u001b[0m________🪹 \n",
            "🪺__\u001b[6;37;41m𓅛\u001b[0m_______🪵\u001b[6;37;46m𓅪\u001b[0m_________🪹 \n",
            "🪺___\u001b[6;37;41m𓅛\u001b[0m______🪵\u001b[6;37;46m𓅪\u001b[0m_________🪹 \n",
            "🪺__\u001b[6;37;41m𓅛\u001b[0m_______🪵\u001b[6;37;46m𓅪\u001b[0m_________🪹 \n",
            "🪺___\u001b[6;37;41m𓅛\u001b[0m______🪵\u001b[6;37;46m𓅪\u001b[0m_________🪹 \n",
            "🪺__\u001b[6;37;41m𓅛\u001b[0m_______🪵\u001b[6;37;46m𓅪\u001b[0m_________🪹 \n",
            "🪺_\u001b[6;37;41m𓅛\u001b[0m________🪵\u001b[6;37;46m𓅪\u001b[0m_________🪹 \n",
            "🪺__\u001b[6;37;41m𓅛\u001b[0m_______🪵\u001b[6;37;46m𓅪\u001b[0m_________🪹 \n",
            "🪺_\u001b[6;37;41m𓅛\u001b[0m________🪵\u001b[6;37;46m𓅪\u001b[0m_________🪹 \n",
            "🪺__\u001b[6;37;41m𓅛\u001b[0m_______🪵\u001b[6;37;46m𓅪\u001b[0m_________🪹 \n",
            "🪺_\u001b[6;37;41m𓅛\u001b[0m________🪵_\u001b[6;37;46m𓅪\u001b[0m________🪹 \n",
            "🪺__\u001b[6;37;41m𓅛\u001b[0m_______🪵__\u001b[6;37;46m𓅪\u001b[0m_______🪹 \n",
            "🪺___\u001b[6;37;41m𓅛\u001b[0m______🪵___\u001b[6;37;46m𓅪\u001b[0m______🪹 \n",
            "🪺__\u001b[6;37;41m𓅛\u001b[0m_______🪵__\u001b[6;37;46m𓅪\u001b[0m_______🪹 \n",
            "🪺___\u001b[6;37;41m𓅛\u001b[0m______🪵_\u001b[6;37;46m𓅪\u001b[0m________🪹 \n",
            "🪺__\u001b[6;37;41m𓅛\u001b[0m_______🪵__\u001b[6;37;46m𓅪\u001b[0m_______🪹 \n",
            "🪺_\u001b[6;37;41m𓅛\u001b[0m________🪵_\u001b[6;37;46m𓅪\u001b[0m________🪹 \n",
            "🪺\u001b[6;37;41m𓅛\u001b[0m_________🪵__\u001b[6;37;46m𓅪\u001b[0m_______🪹 \n",
            "🪺_\u001b[6;37;41m𓅛\u001b[0m________🪵___\u001b[6;37;46m𓅪\u001b[0m______🪹 \n",
            "🪺\u001b[6;37;41m𓅛\u001b[0m_________🪵____\u001b[6;37;46m𓅪\u001b[0m_____🪹 \n",
            "🪺_\u001b[6;37;41m𓅛\u001b[0m________🪵_____\u001b[6;37;46m𓅪\u001b[0m____🪹 \n",
            "🪺__\u001b[6;37;41m𓅛\u001b[0m_______🪵______\u001b[6;37;46m𓅪\u001b[0m___🪹 \n",
            "🪺___\u001b[6;37;41m𓅛\u001b[0m______🪵_______\u001b[6;37;46m𓅪\u001b[0m__🪹 \n",
            "🪺____\u001b[6;37;41m𓅛\u001b[0m_____🪵______\u001b[6;37;46m𓅪\u001b[0m___🪹 \n",
            "🪺___\u001b[6;37;41m𓅛\u001b[0m______🪵_______\u001b[6;37;46m𓅪\u001b[0m__🪹 \n",
            "🪺____\u001b[6;37;41m𓅛\u001b[0m_____🪵______\u001b[6;37;46m𓅪\u001b[0m___🪹 \n",
            "🪺___\u001b[6;37;41m𓅛\u001b[0m______🪵_____\u001b[6;37;46m𓅪\u001b[0m____🪹 \n",
            "🪺____\u001b[6;37;41m𓅛\u001b[0m_____🪵____\u001b[6;37;46m𓅪\u001b[0m_____🪹 \n",
            "🪺_____\u001b[6;37;41m𓅛\u001b[0m____🪵_____\u001b[6;37;46m𓅪\u001b[0m____🪹 \n",
            "🪺______\u001b[6;37;41m𓅛\u001b[0m___🪵____\u001b[6;37;46m𓅪\u001b[0m_____🪹 \n",
            "🪺_______\u001b[6;37;41m𓅛\u001b[0m__🪵_____\u001b[6;37;46m𓅪\u001b[0m____🪹 \n",
            "🪺______\u001b[6;37;41m𓅛\u001b[0m___🪵____\u001b[6;37;46m𓅪\u001b[0m_____🪹 \n",
            "🪺_______\u001b[6;37;41m𓅛\u001b[0m__🪵___\u001b[6;37;46m𓅪\u001b[0m______🪹 \n",
            "🪺______\u001b[6;37;41m𓅛\u001b[0m___🪵__\u001b[6;37;46m𓅪\u001b[0m_______🪹 \n",
            "🪺_____\u001b[6;37;41m𓅛\u001b[0m____🪵_\u001b[6;37;46m𓅪\u001b[0m________🪹 \n",
            "🪺______\u001b[6;37;41m𓅛\u001b[0m___🪵\u001b[6;37;46m𓅪\u001b[0m_________🪹 \n",
            "🪺_____\u001b[6;37;41m𓅛\u001b[0m____🪵\u001b[6;37;46m𓅪\u001b[0m_________🪹 \n",
            "🪺____\u001b[6;37;41m𓅛\u001b[0m_____🪵\u001b[6;37;46m𓅪\u001b[0m_________🪹 \n",
            "🪺_____\u001b[6;37;41m𓅛\u001b[0m____🪵\u001b[6;37;46m𓅪\u001b[0m_________🪹 \n",
            "🪺____\u001b[6;37;41m𓅛\u001b[0m_____🪵\u001b[6;37;46m𓅪\u001b[0m_________🪹 \n",
            "🪺_____\u001b[6;37;41m𓅛\u001b[0m____🪵_\u001b[6;37;46m𓅪\u001b[0m________🪹 \n",
            "🪺______\u001b[6;37;41m𓅛\u001b[0m___🪵\u001b[6;37;46m𓅪\u001b[0m_________🪹 \n",
            "🪺_______\u001b[6;37;41m𓅛\u001b[0m__🪵\u001b[6;37;46m𓅪\u001b[0m_________🪹 \n",
            "🪺________\u001b[6;37;41m𓅛\u001b[0m_🪵\u001b[6;37;46m𓅪\u001b[0m_________🪹 \n",
            "🪺_______\u001b[6;37;41m𓅛\u001b[0m__🪵_\u001b[6;37;46m𓅪\u001b[0m________🪹 \n",
            "🪺________\u001b[6;37;41m𓅛\u001b[0m_🪵__\u001b[6;37;46m𓅪\u001b[0m_______🪹 \n",
            "🪺_________\u001b[6;37;41m𓅛\u001b[0m🪵_\u001b[6;37;46m𓅪\u001b[0m________🪹 \n",
            "🪺________\u001b[6;37;41m𓅛\u001b[0m_🪵__\u001b[6;37;46m𓅪\u001b[0m_______🪹 \n",
            "🪺_______\u001b[6;37;41m𓅛\u001b[0m__🪵___\u001b[6;37;46m𓅪\u001b[0m______🪹 \n",
            "🪺______\u001b[6;37;41m𓅛\u001b[0m___🪵__\u001b[6;37;46m𓅪\u001b[0m_______🪹 \n",
            "🪺_____\u001b[6;37;41m𓅛\u001b[0m____🪵_\u001b[6;37;46m𓅪\u001b[0m________🪹 \n",
            "🪺______\u001b[6;37;41m𓅛\u001b[0m___🪵\u001b[6;37;46m𓅪\u001b[0m_________🪹 \n",
            "🪺_______\u001b[6;37;41m𓅛\u001b[0m__🪵\u001b[6;37;46m𓅪\u001b[0m_________🪹 \n",
            "🪺______\u001b[6;37;41m𓅛\u001b[0m___🪵_\u001b[6;37;46m𓅪\u001b[0m________🪹 \n",
            "🪺_____\u001b[6;37;41m𓅛\u001b[0m____🪵__\u001b[6;37;46m𓅪\u001b[0m_______🪹 \n",
            "🪺______\u001b[6;37;41m𓅛\u001b[0m___🪵___\u001b[6;37;46m𓅪\u001b[0m______🪹 \n",
            "🪺_____\u001b[6;37;41m𓅛\u001b[0m____🪵____\u001b[6;37;46m𓅪\u001b[0m_____🪹 \n",
            "🪺____\u001b[6;37;41m𓅛\u001b[0m_____🪵_____\u001b[6;37;46m𓅪\u001b[0m____🪹 \n",
            "🪺_____\u001b[6;37;41m𓅛\u001b[0m____🪵____\u001b[6;37;46m𓅪\u001b[0m_____🪹 \n",
            "🪺____\u001b[6;37;41m𓅛\u001b[0m_____🪵___\u001b[6;37;46m𓅪\u001b[0m______🪹 \n",
            "🪺___\u001b[6;37;41m𓅛\u001b[0m______🪵__\u001b[6;37;46m𓅪\u001b[0m_______🪹 \n",
            "🪺____\u001b[6;37;41m𓅛\u001b[0m_____🪵_\u001b[6;37;46m𓅪\u001b[0m________🪹 \n",
            "🪺_____\u001b[6;37;41m𓅛\u001b[0m____🪵__\u001b[6;37;46m𓅪\u001b[0m_______🪹 \n",
            "🪺____\u001b[6;37;41m𓅛\u001b[0m_____🪵___\u001b[6;37;46m𓅪\u001b[0m______🪹 \n",
            "🪺___\u001b[6;37;41m𓅛\u001b[0m______🪵____\u001b[6;37;46m𓅪\u001b[0m_____🪹 \n",
            "🪺____\u001b[6;37;41m𓅛\u001b[0m_____🪵___\u001b[6;37;46m𓅪\u001b[0m______🪹 \n",
            "🪺_____\u001b[6;37;41m𓅛\u001b[0m____🪵____\u001b[6;37;46m𓅪\u001b[0m_____🪹 \n",
            "🪺______\u001b[6;37;41m𓅛\u001b[0m___🪵_____\u001b[6;37;46m𓅪\u001b[0m____🪹 \n",
            "🪺_______\u001b[6;37;41m𓅛\u001b[0m__🪵____\u001b[6;37;46m𓅪\u001b[0m_____🪹 \n",
            "🪺________\u001b[6;37;41m𓅛\u001b[0m_🪵_____\u001b[6;37;46m𓅪\u001b[0m____🪹 \n",
            "🪺_______\u001b[6;37;41m𓅛\u001b[0m__🪵______\u001b[6;37;46m𓅪\u001b[0m___🪹 \n",
            "🪺______\u001b[6;37;41m𓅛\u001b[0m___🪵_____\u001b[6;37;46m𓅪\u001b[0m____🪹 \n",
            "🪺_______\u001b[6;37;41m𓅛\u001b[0m__🪵______\u001b[6;37;46m𓅪\u001b[0m___🪹 \n",
            "🪺______\u001b[6;37;41m𓅛\u001b[0m___🪵_______\u001b[6;37;46m𓅪\u001b[0m__🪹 \n",
            "🪺_____\u001b[6;37;41m𓅛\u001b[0m____🪵________\u001b[6;37;46m𓅪\u001b[0m_🪹 \n",
            "🪺____\u001b[6;37;41m𓅛\u001b[0m_____🪵_______\u001b[6;37;46m𓅪\u001b[0m__🪹 \n",
            "🪺_____\u001b[6;37;41m𓅛\u001b[0m____🪵______\u001b[6;37;46m𓅪\u001b[0m___🪹 \n",
            "🪺____\u001b[6;37;41m𓅛\u001b[0m_____🪵_____\u001b[6;37;46m𓅪\u001b[0m____🪹 \n",
            "🪺_____\u001b[6;37;41m𓅛\u001b[0m____🪵______\u001b[6;37;46m𓅪\u001b[0m___🪹 \n",
            "🪺______\u001b[6;37;41m𓅛\u001b[0m___🪵_______\u001b[6;37;46m𓅪\u001b[0m__🪹 \n",
            "🪺_______\u001b[6;37;41m𓅛\u001b[0m__🪵________\u001b[6;37;46m𓅪\u001b[0m_🪹 \n",
            "🪺________\u001b[6;37;41m𓅛\u001b[0m_🪵_______\u001b[6;37;46m𓅪\u001b[0m__🪹 \n",
            "🪺_________\u001b[6;37;41m𓅛\u001b[0m🪵______\u001b[6;37;46m𓅪\u001b[0m___🪹 \n",
            "🪺_________\u001b[6;37;41m𓅛\u001b[0m🕳️_____\u001b[6;37;46m𓅪\u001b[0m____🪹  birb one got the stick!  it unveiled a hole! \n",
            "🪺__________🕳️\u001b[6;37;41m𓅛\u001b[0m___\u001b[6;37;46m𓅪\u001b[0m_____🪹  hop! \n",
            "🪺__________🕳️_\u001b[6;37;41m𓅛\u001b[0m_\u001b[6;37;46m𓅪\u001b[0m______🪹 \n",
            "🪺__________🕳️\u001b[6;37;41m𓅛\u001b[0m_\u001b[6;37;46m𓅪\u001b[0m_______🪹 \n",
            "🪺_________\u001b[6;37;41m𓅛\u001b[0m🕳️_\u001b[6;37;46m𓅪\u001b[0m________🪹  hop! \n",
            "🪺________\u001b[6;37;41m𓅛\u001b[0m_🕳️__\u001b[6;37;46m𓅪\u001b[0m_______🪹 \n",
            "🪺_______\u001b[6;37;41m𓅛\u001b[0m__🕳️___\u001b[6;37;46m𓅪\u001b[0m______🪹 \n",
            "🪺______\u001b[6;37;41m𓅛\u001b[0m___🕳️____\u001b[6;37;46m𓅪\u001b[0m_____🪹 \n",
            "🪺_____\u001b[6;37;41m𓅛\u001b[0m____🕳️_____\u001b[6;37;46m𓅪\u001b[0m____🪹 \n",
            "🪺______\u001b[6;37;41m𓅛\u001b[0m___🕳️______\u001b[6;37;46m𓅪\u001b[0m___🪹 \n",
            "🪺_____\u001b[6;37;41m𓅛\u001b[0m____🕳️_______\u001b[6;37;46m𓅪\u001b[0m__🪹 \n",
            "🪺______\u001b[6;37;41m𓅛\u001b[0m___🕳️______\u001b[6;37;46m𓅪\u001b[0m___🪹 \n",
            "🪺_____\u001b[6;37;41m𓅛\u001b[0m____🕳️_______\u001b[6;37;46m𓅪\u001b[0m__🪹 \n",
            "🪺____\u001b[6;37;41m𓅛\u001b[0m_____🕳️______\u001b[6;37;46m𓅪\u001b[0m___🪹 \n",
            "🪺___\u001b[6;37;41m𓅛\u001b[0m______🕳️_______\u001b[6;37;46m𓅪\u001b[0m__🪹 \n",
            "🪺__\u001b[6;37;41m𓅛\u001b[0m_______🕳️______\u001b[6;37;46m𓅪\u001b[0m___🪹 \n",
            "🪺_\u001b[6;37;41m𓅛\u001b[0m________🕳️_____\u001b[6;37;46m𓅪\u001b[0m____🪹 \n",
            "birb one wins at step 167\n"
          ]
        }
      ]
    },
    {
      "cell_type": "code",
      "execution_count": null,
      "metadata": {
        "id": "1zZ5kFlm3ggA"
      },
      "outputs": [],
      "source": [
        "\n",
        "# here is an _example_ of a two-sleepwalker animation idea\n",
        "# a starting point has been written... but only one wanderer is wandering!\n",
        "# your task is to make sure TWO wanderers are wandering... in a fashion you design...\n",
        "\n",
        "import time\n",
        "import random\n",
        "\n",
        "def rs():\n",
        "    \"\"\" One random step \"\"\"\n",
        "    return random.choice([-1, 1])\n",
        "\n",
        "def print_poptarts(pST, pSM):\n",
        "    \"\"\" print the two poptarts! \"\"\"\n",
        "    if pST < pSM:\n",
        "        pLeft = pST;   cLeft = \"\\033[6;33;41m\" + \"P\" + \"\\033[0m\"\n",
        "        pRight = pSM;  cRight = \"\\033[6;36;43m\" + \"P\" + \"\\033[0m\"\n",
        "    else:\n",
        "        pLeft = pSM;   cLeft = \"\\033[6;36;43m\" + \"P\" + \"\\033[0m\"\n",
        "        pRight = pST;  cRight = \"\\033[6;33;41m\" + \"P\" + \"\\033[0m\"\n",
        "\n",
        "    left_space = (pLeft-0)\n",
        "    middle_space = (pRight-pLeft)\n",
        "    right_space = (30-pRight)\n",
        "\n",
        "    print(\"CGU|\" + \"_\"*left_space + cLeft + \"_\"*middle_space + cRight + \"_\"*right_space + \"|Toaster\", flush=True)\n",
        "\n",
        "\n",
        "def poptart_race(pST, pSM):\n",
        "    \"\"\"\n",
        "        This simulator observes two poptarts, pST, pSM (you can guess the flavors...)\n",
        "        wandering between 0 and 30.\n",
        "\n",
        "        Call this with\n",
        "               poptart_race(10, 20)\n",
        "           or  poptart_race(pST=10, pSM=20)    # this is the same as the line above\n",
        "\n",
        "        The endpoints are always at 0 and 30. We check that  0 < pST < 30 and 0 < pSM < 30\n",
        "\n",
        "        Other values to try:  poptart_race(18, 22)    # evenly spaced\n",
        "                              poptart_race(5, 15)     # uneven spacing: pST is closer...\n",
        "    \"\"\"\n",
        "    num_steps = 0       # count the number of steps\n",
        "\n",
        "    while 0 < pST < 30:\n",
        "        print_poptarts(pST, pSM)   # print the current poptart-configuration!\n",
        "        pST = pST + rs()           # take a random step for the strawberry poptart...\n",
        "        pSM = pSM + rs()\n",
        "        num_steps += 1             # add 1 to our count of steps (in the variable num_steps)\n",
        "        time.sleep(0.05)           # pause a bit, to add drama!\n",
        "\n",
        "    # finished with the while loop!\n",
        "    return num_steps\n",
        "\n"
      ]
    },
    {
      "cell_type": "code",
      "source": [
        "poptart_race(10, 20)"
      ],
      "metadata": {
        "id": "VbhjtXudzAC4",
        "colab": {
          "base_uri": "https://localhost:8080/"
        },
        "outputId": "bc8f9589-816f-45c0-b452-eb38ccb92ddf"
      },
      "execution_count": null,
      "outputs": [
        {
          "output_type": "stream",
          "name": "stdout",
          "text": [
            "CGU|__________\u001b[6;33;41mP\u001b[0m__________\u001b[6;36;43mP\u001b[0m__________|Toaster\n",
            "CGU|___________\u001b[6;33;41mP\u001b[0m________\u001b[6;36;43mP\u001b[0m___________|Toaster\n",
            "CGU|__________\u001b[6;33;41mP\u001b[0m__________\u001b[6;36;43mP\u001b[0m__________|Toaster\n",
            "CGU|_________\u001b[6;33;41mP\u001b[0m__________\u001b[6;36;43mP\u001b[0m___________|Toaster\n",
            "CGU|________\u001b[6;33;41mP\u001b[0m__________\u001b[6;36;43mP\u001b[0m____________|Toaster\n",
            "CGU|_________\u001b[6;33;41mP\u001b[0m________\u001b[6;36;43mP\u001b[0m_____________|Toaster\n",
            "CGU|________\u001b[6;33;41mP\u001b[0m__________\u001b[6;36;43mP\u001b[0m____________|Toaster\n",
            "CGU|_________\u001b[6;33;41mP\u001b[0m________\u001b[6;36;43mP\u001b[0m_____________|Toaster\n",
            "CGU|________\u001b[6;33;41mP\u001b[0m________\u001b[6;36;43mP\u001b[0m______________|Toaster\n",
            "CGU|_______\u001b[6;33;41mP\u001b[0m__________\u001b[6;36;43mP\u001b[0m_____________|Toaster\n",
            "CGU|______\u001b[6;33;41mP\u001b[0m____________\u001b[6;36;43mP\u001b[0m____________|Toaster\n",
            "CGU|_____\u001b[6;33;41mP\u001b[0m____________\u001b[6;36;43mP\u001b[0m_____________|Toaster\n",
            "CGU|______\u001b[6;33;41mP\u001b[0m____________\u001b[6;36;43mP\u001b[0m____________|Toaster\n",
            "CGU|_____\u001b[6;33;41mP\u001b[0m______________\u001b[6;36;43mP\u001b[0m___________|Toaster\n",
            "CGU|______\u001b[6;33;41mP\u001b[0m____________\u001b[6;36;43mP\u001b[0m____________|Toaster\n",
            "CGU|_____\u001b[6;33;41mP\u001b[0m______________\u001b[6;36;43mP\u001b[0m___________|Toaster\n",
            "CGU|____\u001b[6;33;41mP\u001b[0m______________\u001b[6;36;43mP\u001b[0m____________|Toaster\n",
            "CGU|_____\u001b[6;33;41mP\u001b[0m______________\u001b[6;36;43mP\u001b[0m___________|Toaster\n",
            "CGU|____\u001b[6;33;41mP\u001b[0m________________\u001b[6;36;43mP\u001b[0m__________|Toaster\n",
            "CGU|_____\u001b[6;33;41mP\u001b[0m______________\u001b[6;36;43mP\u001b[0m___________|Toaster\n",
            "CGU|______\u001b[6;33;41mP\u001b[0m____________\u001b[6;36;43mP\u001b[0m____________|Toaster\n",
            "CGU|_______\u001b[6;33;41mP\u001b[0m____________\u001b[6;36;43mP\u001b[0m___________|Toaster\n",
            "CGU|______\u001b[6;33;41mP\u001b[0m____________\u001b[6;36;43mP\u001b[0m____________|Toaster\n",
            "CGU|_______\u001b[6;33;41mP\u001b[0m__________\u001b[6;36;43mP\u001b[0m_____________|Toaster\n",
            "CGU|______\u001b[6;33;41mP\u001b[0m__________\u001b[6;36;43mP\u001b[0m______________|Toaster\n",
            "CGU|_______\u001b[6;33;41mP\u001b[0m________\u001b[6;36;43mP\u001b[0m_______________|Toaster\n",
            "CGU|________\u001b[6;33;41mP\u001b[0m______\u001b[6;36;43mP\u001b[0m________________|Toaster\n",
            "CGU|_________\u001b[6;33;41mP\u001b[0m______\u001b[6;36;43mP\u001b[0m_______________|Toaster\n",
            "CGU|__________\u001b[6;33;41mP\u001b[0m____\u001b[6;36;43mP\u001b[0m________________|Toaster\n",
            "CGU|___________\u001b[6;33;41mP\u001b[0m__\u001b[6;36;43mP\u001b[0m_________________|Toaster\n",
            "CGU|__________\u001b[6;33;41mP\u001b[0m__\u001b[6;36;43mP\u001b[0m__________________|Toaster\n",
            "CGU|___________\u001b[6;33;41mP\u001b[0m__\u001b[6;36;43mP\u001b[0m_________________|Toaster\n",
            "CGU|__________\u001b[6;33;41mP\u001b[0m____\u001b[6;36;43mP\u001b[0m________________|Toaster\n",
            "CGU|_________\u001b[6;33;41mP\u001b[0m____\u001b[6;36;43mP\u001b[0m_________________|Toaster\n",
            "CGU|________\u001b[6;33;41mP\u001b[0m____\u001b[6;36;43mP\u001b[0m__________________|Toaster\n",
            "CGU|_______\u001b[6;33;41mP\u001b[0m______\u001b[6;36;43mP\u001b[0m_________________|Toaster\n",
            "CGU|________\u001b[6;33;41mP\u001b[0m______\u001b[6;36;43mP\u001b[0m________________|Toaster\n",
            "CGU|_________\u001b[6;33;41mP\u001b[0m______\u001b[6;36;43mP\u001b[0m_______________|Toaster\n",
            "CGU|________\u001b[6;33;41mP\u001b[0m______\u001b[6;36;43mP\u001b[0m________________|Toaster\n",
            "CGU|_______\u001b[6;33;41mP\u001b[0m________\u001b[6;36;43mP\u001b[0m_______________|Toaster\n",
            "CGU|______\u001b[6;33;41mP\u001b[0m________\u001b[6;36;43mP\u001b[0m________________|Toaster\n",
            "CGU|_____\u001b[6;33;41mP\u001b[0m__________\u001b[6;36;43mP\u001b[0m_______________|Toaster\n",
            "CGU|____\u001b[6;33;41mP\u001b[0m____________\u001b[6;36;43mP\u001b[0m______________|Toaster\n",
            "CGU|___\u001b[6;33;41mP\u001b[0m____________\u001b[6;36;43mP\u001b[0m_______________|Toaster\n",
            "CGU|__\u001b[6;33;41mP\u001b[0m____________\u001b[6;36;43mP\u001b[0m________________|Toaster\n",
            "CGU|_\u001b[6;33;41mP\u001b[0m______________\u001b[6;36;43mP\u001b[0m_______________|Toaster\n",
            "CGU|__\u001b[6;33;41mP\u001b[0m______________\u001b[6;36;43mP\u001b[0m______________|Toaster\n",
            "CGU|_\u001b[6;33;41mP\u001b[0m________________\u001b[6;36;43mP\u001b[0m_____________|Toaster\n"
          ]
        },
        {
          "output_type": "execute_result",
          "data": {
            "text/plain": [
              "48"
            ]
          },
          "metadata": {},
          "execution_count": 53
        }
      ]
    },
    {
      "cell_type": "markdown",
      "metadata": {
        "id": "IrzyA63F3ggB"
      },
      "source": [
        "\n",
        "<br>\n",
        "\n",
        "#### Hints, suggestions, and other references\n",
        "+ Be sure that there is a <i>finishing condition</i>\n",
        "+ Have a meaningful return value - such as the number of steps\n",
        "+ There should be some interaction between the wandering agents (each other), as well as between the wanderers and the endpoints, e.g., walls, cliffs, wells, teleports, etc.\n",
        "\n",
        "<br>\n",
        "\n",
        "As a few possible examples, you might consider:\n",
        "+ two wanderers that are trying to reach an item between them (see above)\n",
        "+ two wanderers that are unable to switch places (they \"bounce\"), with the simulation ending when one—or both—reach the walls\n",
        "+ two endpoints of a single \"entity\" that's trying to consume the whole environment (reach both sides)\n",
        "+ a single wanderer hoping to avoid an \"obstacle\" that is also a wanderer... it moves around and/or (dis)appears: a moving obstacle definitely counts as a second wanderer\n",
        "+ one or both walls can be a \"wanderer\"\n",
        "+ there are many more possibilities, for sure!\n",
        "\n",
        "\n",
        "<br>\n",
        "\n",
        "Other resources/references:\n",
        "+ [Lots of ideas are here at the cs5 page](https://www.cs.hmc.edu/twiki/bin/view/CS5Fall2019/SleepwalkingStudentGold)\n",
        "+ You can also add emojis and other unicode characters\n",
        "+ And you can change the colors -- see the next couple of cells for examples...\n",
        "+ [Here is the terminal-colors in Python page](https://www.cs.hmc.edu/twiki/bin/view/CS5/TerminalColorsInPython)"
      ]
    },
    {
      "cell_type": "code",
      "execution_count": null,
      "metadata": {
        "id": "CpFeTj_83ggC",
        "colab": {
          "base_uri": "https://localhost:8080/"
        },
        "outputId": "caea0e54-9d2b-43c9-87d8-17bb56eff8d2"
      },
      "outputs": [
        {
          "output_type": "stream",
          "name": "stdout",
          "text": [
            "|_🙂_________|\n",
            "|__🙂________|\n",
            "|___🙂_______|\n",
            "|____🙂______|\n",
            "|_____🙂_____|\n",
            "|______🙂____|\n",
            "|_______🙂___|\n",
            "|________🙂__|\n",
            "|_________🙂_|\n"
          ]
        }
      ],
      "source": [
        "import time\n",
        "\n",
        "# emoji test\n",
        "emoji_list = [ \"♫\", \"♪\" ]\n",
        "for i in range(1,10):\n",
        "    left_side = i\n",
        "    right_side = (10-i)\n",
        "\n",
        "    e = \"🙂\"\n",
        "    # e = random.choice(emoji_list)\n",
        "\n",
        "    print(\"|\" + \"_\"*left_side + e + \"_\"*right_side + \"|\", flush=True)\n",
        "    time.sleep(0.25)"
      ]
    },
    {
      "cell_type": "code",
      "execution_count": null,
      "metadata": {
        "id": "jhB1t4kZ3ggC"
      },
      "outputs": [],
      "source": [
        "print(\"\\nbefore: \" + \"\\033[6;30;43m\" + \"This text uses 6;30;43 .\" + \"\\033[0m\" + \" :end\\n\")"
      ]
    },
    {
      "cell_type": "markdown",
      "source": [
        "Here's an example with the black-and-gold text:"
      ],
      "metadata": {
        "id": "mp0pOdGpQ8cA"
      }
    },
    {
      "cell_type": "code",
      "source": [
        "import time\n",
        "\n",
        "def gold_bg(text):\n",
        "    return \"\\033[1;9;33m\" + text + \"\\033[0m\"\n",
        "\n",
        "# gold_bg test\n",
        "for i in range(1,10):\n",
        "    left_side = i\n",
        "    right_side = (10-i)\n",
        "\n",
        "    e = \"E\"\n",
        "    # e = random.choice(emoji_list)\n",
        "\n",
        "    print(\"|\" + \"_\"*left_side + gold_bg(e) + \"_\"*right_side + \"|\", flush=True)\n",
        "    time.sleep(0.25)\n",
        "\n",
        "# by Zach\n",
        "\n",
        "# REVERSE gold_bg test\n",
        "for i in range(10,0,-1):\n",
        "    left_side = i\n",
        "    right_side = (10-i)\n",
        "\n",
        "    e = \"E\"\n",
        "    # e = random.choice(emoji_list)\n",
        "\n",
        "    print(\"|\" + gold_bg(\"_\"*left_side) + e + gold_bg(\"_\"*right_side) + \"|\", flush=True)\n",
        "    time.sleep(0.25)"
      ],
      "metadata": {
        "id": "Ow8QYU-dQ_Xg",
        "colab": {
          "base_uri": "https://localhost:8080/"
        },
        "outputId": "409f3304-46ed-4025-cb2d-fea9348c062c"
      },
      "execution_count": null,
      "outputs": [
        {
          "output_type": "stream",
          "name": "stdout",
          "text": [
            "|_\u001b[1;9;33mE\u001b[0m_________|\n",
            "|__\u001b[1;9;33mE\u001b[0m________|\n",
            "|___\u001b[1;9;33mE\u001b[0m_______|\n",
            "|____\u001b[1;9;33mE\u001b[0m______|\n",
            "|_____\u001b[1;9;33mE\u001b[0m_____|\n",
            "|______\u001b[1;9;33mE\u001b[0m____|\n",
            "|_______\u001b[1;9;33mE\u001b[0m___|\n",
            "|________\u001b[1;9;33mE\u001b[0m__|\n",
            "|_________\u001b[1;9;33mE\u001b[0m_|\n",
            "|\u001b[1;9;33m__________\u001b[0mE\u001b[1;9;33m\u001b[0m|\n",
            "|\u001b[1;9;33m_________\u001b[0mE\u001b[1;9;33m_\u001b[0m|\n",
            "|\u001b[1;9;33m________\u001b[0mE\u001b[1;9;33m__\u001b[0m|\n",
            "|\u001b[1;9;33m_______\u001b[0mE\u001b[1;9;33m___\u001b[0m|\n",
            "|\u001b[1;9;33m______\u001b[0mE\u001b[1;9;33m____\u001b[0m|\n",
            "|\u001b[1;9;33m_____\u001b[0mE\u001b[1;9;33m_____\u001b[0m|\n",
            "|\u001b[1;9;33m____\u001b[0mE\u001b[1;9;33m______\u001b[0m|\n",
            "|\u001b[1;9;33m___\u001b[0mE\u001b[1;9;33m_______\u001b[0m|\n",
            "|\u001b[1;9;33m__\u001b[0mE\u001b[1;9;33m________\u001b[0m|\n",
            "|\u001b[1;9;33m_\u001b[0mE\u001b[1;9;33m_________\u001b[0m|\n"
          ]
        }
      ]
    },
    {
      "cell_type": "markdown",
      "metadata": {
        "id": "234UmAAE3ggD"
      },
      "source": [
        "<br>\n",
        "\n",
        "####  Complete!\n",
        "+ When you have ~~completed~~ your two-sleepwalker simulation, be sure that you have at least one run held in the output of your cell(s)\n",
        "+ More than one run is ok, too\n",
        "+ Remember, once you've defined a function, you're able to run it in many cells afterwards...\n",
        "\n",
        "<br>\n",
        "\n",
        "Then, submit this to its Gradescope spot..."
      ]
    },
    {
      "cell_type": "markdown",
      "source": [
        "# <font color=\"DarkBlue\"><b>Task #7</b></font>: Reading and Response on _ChatGPT_\n",
        "\n",
        "Of course, we have to have a ChatGPT article!\n",
        "\n",
        "Happily, the NYTimes has written many of these 😀\n",
        "+ [NYTimes article](https://www.nytimes.com/2023/02/03/technology/chatgpt-openai-artificial-intelligence.html)\n",
        "+ [Local pdf in case the above link does not work](https://drive.google.com/file/d/1SUhVAcDPcC80FfMyKUSt6EmKHOo7eImf/view?usp=sharing)\n",
        "\n",
        "The article summarizes\n",
        "+ the surprising progress in _generative AI_\n",
        "+ including both text and images\n",
        "+ and looks ahead at what's coming...\n",
        "\n",
        "<br>\n",
        "\n",
        "When you've read the article, share a short paragraph that describes\n",
        "+ your thoughts on \"Should ChatGPT be called 'sentient'?\"  That is, is it \"thinking,\" in the way you use that word. Why or why not...\n",
        "+ or, your thoughts on the differences between ChatGPT's \"thinking\" and \"human thinking\": how would you describe those?\n",
        "+ or, share your thoughts on _which traditionally-human activity_ will ChatGPT have the largest influence on, over the next 2-3 years?\n",
        "\n",
        "<br>\n",
        "\n",
        "Also, **feel free to use ChatGPT** to write your response to these prompts above... If you do this, then:\n",
        "+ add your thoughts on how well ChatGPT was able to answer the prompt\n",
        "+ also, share whether you agree, disagree, or derive some other opinion with respect to ChatGPT's self-description!\n",
        "\n",
        "<br>\n",
        "\n",
        "It's an interesting era in which we live!"
      ],
      "metadata": {
        "id": "7pzngEXA4h8U"
      }
    },
    {
      "cell_type": "markdown",
      "source": [
        "### Feel free to use this cell for your thoughts\n",
        "\n",
        "ChatGPT should not be called sentient. In my opinion, a thing that makes humans sentient is their ability to feel different emotions and to be curious about the world. Humans are sentient because they are biased, because they are beings with real emotions, because they can form their own opinions, and because they learn through interaction in a way that AI can't. Most people are able to interact naturally and in a society, while ChatGPT would not have the real-life experience it takes to interact naturally and form emotional connections. It would be difficult, maybe even impossible, for it to do so, as it doesn't understand social cues that may not need to be put into words. Also, ChatGPT is not sentient because it does not reflect on its own 'thoughts', and it doesn't itself have a perception of right or wrong, good or bad, just or unjust. This because it is trained on information, and while that information may have biases, it cannot formulate its _own_ thoughts and feelings.\n",
        "\n",
        "<br><br>\n",
        "\n",
        "\n",
        "\n",
        "<br><br>"
      ],
      "metadata": {
        "id": "dtcBswtz6M7y"
      }
    },
    {
      "cell_type": "markdown",
      "source": [
        "# Submitting...\n",
        "\n",
        "Be sure to submit the url of _your_ copy -- with the challenges, questions, and programs composed --\n",
        "+ to Canvas in the appropriate spot\n",
        "+ by the appropriate Frisay evening (any time)\n",
        "+ shared with me (ZD)  ``zdodds@gmail.com``\n",
        "\n",
        "Remember that there is lots of tutoring support, as well as office-hour support available...  \n",
        "\n",
        "<br>\n",
        "\n",
        "\n",
        "As a reminder, the programming parts of IST341 match the spirit of the course, in seeking, among other things:\n",
        "+ creativity/novelty\n",
        "+ personalization/individual context\n",
        "+ exploration and understanding (does it run?)"
      ],
      "metadata": {
        "id": "rNHGo2zHWUuo"
      }
    }
  ],
  "metadata": {
    "colab": {
      "provenance": []
    },
    "kernelspec": {
      "display_name": "Python 3",
      "name": "python3"
    },
    "language_info": {
      "name": "python"
    }
  },
  "nbformat": 4,
  "nbformat_minor": 0
}