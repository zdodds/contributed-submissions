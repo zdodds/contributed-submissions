{
  "cells": [
    {
      "cell_type": "markdown",
      "source": [
        "# Welcome back, IST 341!\n",
        "\n",
        "### _Assignment 2 Notebook: Strings, Slicing, and Functions_\n",
        "\n",
        "Featuring!\n",
        "+ Strings-as-data, including indexing and slicing\n",
        "+ Python's cells: _Functions_\n",
        "+ Functional control: _Recursion_!\n",
        "\n",
        "Onward!"
      ],
      "metadata": {
        "id": "UrkiOTiDEjwp"
      }
    },
    {
      "cell_type": "markdown",
      "source": [
        "### <font color=\"FireBrick\"><b>Overview of this week's Python Notebook</b> (this notebook)</font>\n",
        "\n",
        "Last week introduced Python's _conditionals_.\n",
        "+ In fact, we \"completed\" them!\n",
        "+ _All_ computational decision making is expressed from the building blocks of `if` `elif` and `else` !\n",
        "\n",
        "This week, we add _data transformation_\n",
        "+ Processes transforming input data to output data.\n",
        "+ This is \"computing,\" most stereotypically...\n",
        "\n",
        "This notebook has three main challenges, each with a few subparts:\n",
        "+ string and list operations, called _slicing_ and _indexing_\n",
        "+ user-defined functions: functions are the ***cells*** of software!\n",
        "+ control with functions: _recursion_ as a problem-solving strategy\n",
        "\n",
        "Let's dive in!"
      ],
      "metadata": {
        "id": "NoXM4SE7QVPh"
      }
    },
    {
      "cell_type": "code",
      "source": [
        "perc = 0.99\n",
        "\n",
        "if perc > 0.95:\n",
        "  if perc == 9:\n",
        "    print(\"0\")\n",
        "  elif perc > 9:\n",
        "    print('A-')\n",
        "else:\n",
        "  print('Aargh!')\n",
        "\n"
      ],
      "metadata": {
        "id": "3F7iiEjSb1Fx"
      },
      "execution_count": null,
      "outputs": []
    },
    {
      "cell_type": "markdown",
      "source": [
        "### <font color=\"DodgerBlue\"><b>Make your own copy of this notebook (as in each week)</b></font>\n",
        "\n",
        "**Submitting** -- When you're ready to submit, be sure to\n",
        "+ **share** the notebook with me -- for maximum ease, please use two addresses:\n",
        "   + `zdodds@gmail.com`   `dodds@g.hmc.edu`\n",
        "+ and also **submit** the url to your notebook at the appropriate spot on Canvas"
      ],
      "metadata": {
        "id": "M7dzL4m4fPYf"
      }
    },
    {
      "cell_type": "markdown",
      "source": [
        "# Operations on Strings and Lists\n",
        "\n",
        "### Indexing and Slicing\n",
        "\n",
        "It's familiar to operate on numeric data.\n",
        "\n",
        "It's equally possible -- and important -- to operate on _string_ and _list_ data -- in fact, for biological and biochemical applications, string operations are more fundamental than numeric ones!\n"
      ],
      "metadata": {
        "id": "SqlZ-RCK6jJV"
      }
    },
    {
      "cell_type": "markdown",
      "source": [
        "### Examples of operating on strings\n",
        "\n",
        "The next few cells show a few examples of\n",
        "+ **indexing**, which produces a single element from a string or list\n",
        "+ **slicing**, which produces a substring or sublist\n",
        "\n",
        "Let's try them with strings.\n",
        "\n",
        "First, \"positive\" indexing:"
      ],
      "metadata": {
        "id": "0e0JxCVbJY3C"
      }
    },
    {
      "cell_type": "code",
      "source": [
        "#\n",
        "# here is a string, named c\n",
        "#\n",
        "\n",
        "\n",
        "\n",
        "c = \"claremont\"\n",
        "\n",
        "# let's see c[0], c[1], c[2], and c[3]\n",
        "print(\"c[0] is\", c[0])      # here, the index is 0\n",
        "print(\"c[1] is\", c[1])      # here, the index is 1\n",
        "print(\"c[2] is\", c[2])      # here, the index is 2\n",
        "print(\"c[3] is\", c[3])      # here, the index is 3"
      ],
      "metadata": {
        "id": "Hsf6KmaGiiYr",
        "colab": {
          "base_uri": "https://localhost:8080/"
        },
        "outputId": "dca0458b-1331-4f78-d331-9150b91bfec5"
      },
      "execution_count": null,
      "outputs": [
        {
          "output_type": "stream",
          "name": "stdout",
          "text": [
            "c[0] is c\n",
            "c[1] is l\n",
            "c[2] is a\n",
            "c[3] is r\n"
          ]
        }
      ]
    },
    {
      "cell_type": "markdown",
      "source": [
        "### Watch out!\n",
        "+ Above, ``c[0]`` is the _string_ \"c\"  (Python does not show the quotes)\n",
        "+ And, ``c[1]`` is the _string_ \"l\"  \n",
        "+ And so on...\n",
        "\n"
      ],
      "metadata": {
        "id": "MzL1u3KwjS6o"
      }
    },
    {
      "cell_type": "markdown",
      "source": [
        "## Notice that indexing starts at 0!  (Watch out!)\n",
        "+ For the string named ``c``\n",
        "+ The initial (first) element of ``c`` is ``c[0]``\n",
        "  + which is, in fact, ``'c'``\n",
        "+ The next (second) element is ``c[1]``\n",
        "  + which is, in fact, ``'l'``\n",
        "+ The next (third) element is ``c[2]``\n",
        "  + which is, in fact, ``'a'``\n",
        "+ and so on...\n",
        "\n",
        "<br>\n",
        "\n",
        "Notice the difference between the _variable_ ``c`` and the literal _string_ ``'c'``\n",
        "+ Python may not always print those quotes!\n",
        "\n",
        "<br>\n",
        "\n",
        "Also, Python supports \"negative\" indexing:"
      ],
      "metadata": {
        "id": "i7ub3ivJlssy"
      }
    },
    {
      "cell_type": "code",
      "source": [
        "c = \"claremont\"\n",
        "\n",
        "# let's see c[-1], c[-2], c[-3], and c[-4]\n",
        "print(\"c[-1] is\", c[-1])      # here, the index is 1\n",
        "print(\"c[-2] is\", c[-2])      # here, the index is 2\n",
        "print(\"c[-3] is\", c[-3])      # here, the index is 3\n",
        "print(\"c[-4] is\", c[-4])      # here, the index is 4"
      ],
      "metadata": {
        "id": "ILIDXchRwY3B",
        "colab": {
          "base_uri": "https://localhost:8080/"
        },
        "outputId": "0016de07-c819-4602-cfaa-9389d09929da"
      },
      "execution_count": null,
      "outputs": [
        {
          "output_type": "stream",
          "name": "stdout",
          "text": [
            "c[-1] is t\n",
            "c[-2] is n\n",
            "c[-3] is o\n",
            "c[-4] is m\n"
          ]
        }
      ]
    },
    {
      "cell_type": "markdown",
      "source": [
        "### Notice that a negative index counts ***from the right end*** !\n",
        "+ So, ``c[-1]``  is the last character in the string ``c``\n",
        "+ And ``c[-2]``  is the second-to-last character in the string ``c``\n",
        "+ And ``c[-3]``  is the third-to-last character in the string ``c``\n",
        "+ And so on..."
      ],
      "metadata": {
        "id": "JuiNRDa_wn6N"
      }
    },
    {
      "cell_type": "markdown",
      "source": [
        "### You can also add strings together...\n",
        "+ for example, you can create the string ``\"car\"`` by adding"
      ],
      "metadata": {
        "id": "ziB60GVQkZW-"
      }
    },
    {
      "cell_type": "code",
      "source": [
        "answer = c[0] + c[2] + c[3]\n",
        "print(\"answer is\", answer)"
      ],
      "metadata": {
        "id": "4j6_YnWPkq8t",
        "colab": {
          "base_uri": "https://localhost:8080/"
        },
        "outputId": "a43134cf-b1ed-4c47-b753-9a1fda06ad9a"
      },
      "execution_count": null,
      "outputs": [
        {
          "output_type": "stream",
          "name": "stdout",
          "text": [
            "answer is car\n"
          ]
        }
      ]
    },
    {
      "cell_type": "markdown",
      "source": [
        "_What if I'm both positive and negative?!_\n",
        "\n",
        "There's no problem mixing positive and negative indices:"
      ],
      "metadata": {
        "id": "8zPYIsadxJ9T"
      }
    },
    {
      "cell_type": "code",
      "source": [
        "answer = c[0] + c[2] + c[-6]  # index 3 and index -6 are the same for 'claremont'\n",
        "print(\"answer is\", answer)"
      ],
      "metadata": {
        "id": "2_RsTgPXxOcs",
        "colab": {
          "base_uri": "https://localhost:8080/"
        },
        "outputId": "ed231129-4c20-4799-b83e-8917baa70c14"
      },
      "execution_count": null,
      "outputs": [
        {
          "output_type": "stream",
          "name": "stdout",
          "text": [
            "answer is car\n"
          ]
        }
      ]
    },
    {
      "cell_type": "markdown",
      "source": [
        "### Out-of-bounds errors...  (``IndexErrors``)\n",
        "+ If an index is out of bounds, Python will give an ``IndexError``\n",
        "+ Run the next cell to see this happen.\n",
        "+ No problem -- good information to get...!"
      ],
      "metadata": {
        "id": "1O9GIYlJlZNG"
      }
    },
    {
      "cell_type": "code",
      "source": [
        "c[20]     # The index 20 is out of bounds... this will error"
      ],
      "metadata": {
        "id": "xhoYxrphlbCO",
        "colab": {
          "base_uri": "https://localhost:8080/",
          "height": 169
        },
        "outputId": "51623773-9f55-4147-d7ac-252284e30629"
      },
      "execution_count": null,
      "outputs": [
        {
          "output_type": "error",
          "ename": "IndexError",
          "evalue": "ignored",
          "traceback": [
            "\u001b[0;31m---------------------------------------------------------------------------\u001b[0m",
            "\u001b[0;31mIndexError\u001b[0m                                Traceback (most recent call last)",
            "\u001b[0;32m<ipython-input-4-21d223a96a58>\u001b[0m in \u001b[0;36m<module>\u001b[0;34m\u001b[0m\n\u001b[0;32m----> 1\u001b[0;31m \u001b[0mc\u001b[0m\u001b[0;34m[\u001b[0m\u001b[0;36m20\u001b[0m\u001b[0;34m]\u001b[0m     \u001b[0;31m# The index 20 is out of bounds... this will error\u001b[0m\u001b[0;34m\u001b[0m\u001b[0;34m\u001b[0m\u001b[0m\n\u001b[0m",
            "\u001b[0;31mIndexError\u001b[0m: string index out of range"
          ]
        }
      ]
    },
    {
      "cell_type": "markdown",
      "source": [
        "### <font color=\"darkblue\"><b>Your task</b></font>:  Five words from the 5C's\n",
        "\n",
        "Below, there are five strings from the 5C's\n",
        "+ Your challenge is to _assemble_ a word from the letters of each string\n",
        "  + a _different_ word than the name itself, for sure\n",
        "  + you'll need to \"find/construct\" the word!\n",
        "  + You should find a word of _four or more letters_\n",
        "+ Here, you will use _indexing_ to access each letter\n",
        "  + remember that positive indexing starts at 0\n",
        "  + negative indexing starts at -1\n",
        "+ Create it by indexing into each string\n",
        "+ One example is provided\n",
        "+ Challenge:\n",
        "  + Can you find a five letter word in some?\n",
        "  + Six letters?\n",
        "  + (_More? This is new: we don't know the limits..._)"
      ],
      "metadata": {
        "id": "0Piq1D5ymuPw"
      }
    },
    {
      "cell_type": "code",
      "source": [
        "#\n",
        "# 5 words from the 5Cs\n",
        "\n",
        "# here are five 5C strings:\n",
        "\n",
        "#    012345678     for reference\n",
        "c = \"claremont\" #romance\n",
        "g = \"graduate\" #trudge\n",
        "m = \"mckenna\" #cake         # we'll skip m\n",
        "s = \"scripps\" #crisp\n",
        "p = \"pitzer\" #tripe\n",
        "h = \"harvey\" #heavy\n",
        "#    012345        for reference\n",
        "\n",
        "# Your challenge: assemble one four-or-more letter word from each\n",
        "# See if you can find a six letter word for one or more of them?!\n",
        "\n",
        "# Example from c: real\n",
        "print(\"Assembling real from c: \", c[3] + c[4] + c[2] + c[1])\n",
        "\n",
        "# Example from c:    # find a different one from c:\n",
        "\n",
        "# Example from s:\n",
        "print(\"Assembling price from s: \", s[-2] + s[2:4] + s[1] + p[-2])\n",
        "\n",
        "# Example from s:\n",
        "\n",
        "# Example from p:\n",
        "\n",
        "# Example from h:\n",
        "\n",
        "p = \"pitzer\"\n",
        "h = \"harvey\"\n",
        "#    012345        for reference\n",
        "print(\"Assembling tire from p: \", p[2:0:-1]  + p[-1:-3:-1] )"
      ],
      "metadata": {
        "id": "wokDpfQGpYOf",
        "colab": {
          "base_uri": "https://localhost:8080/"
        },
        "outputId": "e5101538-ae93-412a-a7fd-154b6999ce38"
      },
      "execution_count": null,
      "outputs": [
        {
          "output_type": "stream",
          "name": "stdout",
          "text": [
            "Assembling real from c:  real\n",
            "Assembling price from s:  price\n",
            "Assembling tire from p:  tire\n"
          ]
        }
      ]
    },
    {
      "cell_type": "code",
      "source": [
        "#    012345678     for reference\n",
        "c = \"claremont\" #romance\n",
        "g = \"graduate\" #trudge\n",
        "m = \"mckenna\" #cake\n",
        "s = \"scripps\" #crisp\n",
        "p = \"pitzer\" #tripe\n",
        "h = \"harvey\" #heavy\n",
        "#    012345\n",
        "\n",
        "print('Assembling romance from c:', c[3] + c[6:4:-1] + c[2] + c[7] + c[0] + c[4])\n",
        "print('Assembling trudge from g:', g[6] + g[1] + g[4:2:-1] + g[0] + g[7])\n",
        "print('Assembling cake from m:', m[1] + m[6] + m[2:4])\n",
        "print('Assembling crisp from s:', s[1:4] + s[-1:-3:-1])\n",
        "print('Assembling tripe from p:', p[2] + p[5] + p[1: :-1] + p[4])\n",
        "print('Assembling heavy from h:', h[0] + h[4] + h[1] + h[3] + h[5])"
      ],
      "metadata": {
        "colab": {
          "base_uri": "https://localhost:8080/"
        },
        "id": "lS27n1LaolKD",
        "outputId": "2f290e02-1ecf-4a64-fb8d-00ca71d0d1d5"
      },
      "execution_count": null,
      "outputs": [
        {
          "output_type": "stream",
          "name": "stdout",
          "text": [
            "Assembling romance from c: romance\n",
            "Assembling trudge from g: trudge\n",
            "Assembling cake from m: cake\n",
            "Assembling crisp from s: crisp\n",
            "Assembling tripe from p: tripe\n",
            "Assembling heavy from h: heavy\n"
          ]
        }
      ]
    },
    {
      "cell_type": "markdown",
      "source": [
        "## Slicing\n",
        "+ Slicing uses a start index and an end index\n",
        "  + Notice that it captures ***up to but not including*** the end!\n",
        "  + This takes getting used to\n",
        "  + It's consistent across Python, at least\n",
        "+ The next cell has five examples, using our 5C-strings:"
      ],
      "metadata": {
        "id": "K_LWwBoViBzE"
      }
    },
    {
      "cell_type": "code",
      "source": [
        "#    012345678     for reference\n",
        "c = \"claremont\"\n",
        "g = \"graduate\"\n",
        "m = \"mckenna\"\n",
        "s = \"scripps\"\n",
        "p = \"pitzer\"\n",
        "h = \"harvey\"\n",
        "#    012345        for reference\n",
        "\n",
        "# slicing examples\n",
        "\n",
        "print(\"c[0:3] is \", c[0:3])\n",
        "print(\"g[-3:] is \", g[-3:])\n",
        "print(\"m[2:-2] is \", m[2:-2])\n",
        "print(\"s[2:5] is \", s[2:5])\n",
        "print(\"p[:2] is \", p[:2])      # what if an index is mising?\n",
        "print(\"h[-2:] is \", h[-2:])    # ditto, for the other index"
      ],
      "metadata": {
        "id": "3e8KSUJVrjiL",
        "colab": {
          "base_uri": "https://localhost:8080/"
        },
        "outputId": "bb1990f8-744a-4ec3-ca78-7d5784b6778c"
      },
      "execution_count": null,
      "outputs": [
        {
          "output_type": "stream",
          "name": "stdout",
          "text": [
            "c[0:3] is  cla\n",
            "g[-3:] is  ate\n",
            "m[2:-2] is  ken\n",
            "s[2:5] is  rip\n",
            "p[:2] is  pi\n",
            "h[-2:] is  ey\n"
          ]
        }
      ]
    },
    {
      "cell_type": "markdown",
      "source": [
        "### <font color=\"darkblue\"><b>Your task</b></font>:  Five \"cross-campus\" slices\n",
        "\n",
        "In a similar spirit to the per-campus indexing, above -\n",
        "+ Your challeng is to create five \"cross-campus slices\" -- words or phrases that use two or more slices from different strings\n",
        "+ Here, you will use _slicing_ to access more than one letter in each piece\n",
        "+ One example is provided - it's ok to _also_ have single letters\n",
        "  + but you need at least two slices for each.\n",
        "+ We look forward to seeing what's possible!?!!"
      ],
      "metadata": {
        "id": "WyYCORthtPAT"
      }
    },
    {
      "cell_type": "code",
      "source": [
        "#\n",
        "# 5 \"cross-campus slices\" from these 5C strings:\n",
        "c = \"claremont\"\n",
        "g = \"graduate\"\n",
        "m = \"mckenna\"\n",
        "s = \"scripps\"\n",
        "p = \"pitzer\"\n",
        "h = \"harvey\"\n",
        "\n",
        "# Your challenge: assemble five four-or-more-letter words\n",
        "# Each should use two-or-more-letters from two-or-more strings!\n",
        "# It's ok to add single letters, in addition!\n",
        "# positive or negative indices: up to you...  (your \"slicing mood\"?)\n",
        "\n",
        "# Example 0 (ours):\n",
        "print(\"Creating pithon: \", p[0:3] + h[0] + c[6:8])  # Python, almost!\n",
        "\n",
        "# Example 1:\n",
        "print(\"Creating criterion:\", s[1:4] + c[8] + p[4:] + p[1] + c[6:8])\n",
        "\n",
        "# Example 2:\n",
        "print('Creating adore:', g[2:4] + c[-3] + c[3:5])\n",
        "\n",
        "# Example 3:\n",
        "print('Creating cleaner:', c[:2] + g[-1] + m[:-3:-1] + p[4:])\n",
        "\n",
        "# Example 4:\n",
        "print('Creating trick:', c[8] + s[2:4] + m[1:3])\n",
        "\n",
        "# Example 5:\n",
        "print('Creating grave:', g[:3] + h[3:5])\n"
      ],
      "metadata": {
        "id": "nd3R_NpGt20u",
        "colab": {
          "base_uri": "https://localhost:8080/"
        },
        "outputId": "c6b0ce33-3e48-40d1-a3b4-530e3e1b25f4"
      },
      "execution_count": null,
      "outputs": [
        {
          "output_type": "stream",
          "name": "stdout",
          "text": [
            "Creating pithon:  pithon\n",
            "Creating criterion: criterion\n",
            "Creating adore: adore\n",
            "Creating cleaner: cleaner\n",
            "Creating trick: trick\n",
            "Creating grave: grave\n"
          ]
        }
      ]
    },
    {
      "cell_type": "code",
      "source": [
        "# 'harvey'  'claremont'"
      ],
      "metadata": {
        "id": "vYMMvfMBgor4"
      },
      "execution_count": null,
      "outputs": []
    },
    {
      "cell_type": "markdown",
      "source": [
        "## I say &nbsp;&nbsp;  <tt>h[-1] + c[2] + h[-1]</tt> &nbsp; !\n",
        "\n",
        "... which is <tt>\"yay\"</tt> !\n",
        "\n",
        "\n",
        "We will expand on indexing and slicing in future notebooks ...\n",
        "+ It's one of Python's strengths"
      ],
      "metadata": {
        "id": "HUqoILuTvh2z"
      }
    },
    {
      "cell_type": "markdown",
      "source": [
        "# Functions\n",
        "\n",
        "Functions are \"software's cells\":\n",
        "+ Like cells, they are self-contained\n",
        "+ Like cells, they are the essential building blocks for ~~life~~ software\n",
        "+ Like cells, they carefully control how things \"enter\" and \"exit\"\n",
        "+ Like cells, we can reason about their _overall function_ (ignoring their internals)\n",
        "+ Like cells, we can also reason about their internal mechanisms/instructions\n",
        "+ Like cells, larger structures are composed by assembling lots of them together -- in cooperation or competition\n",
        "\n",
        "Software is always an interrelated, carefully-constructed collection of functions. So, we'll be building functions throughout Sci10...\n",
        "\n",
        "<br>\n",
        "\n",
        "Let's see some... then build some!\n",
        "\n",
        "The next cell defines a function that doubles its input:"
      ],
      "metadata": {
        "id": "IHspQgMgdkbg"
      }
    },
    {
      "cell_type": "code",
      "source": [
        "#\n",
        "# This cell defines a function named   dbl\n",
        "\n",
        "def dbl(x):\n",
        "    \"\"\" Result: dbl returns twice its argument\n",
        "        Argument x: a number (int or float)\n",
        "    \"\"\"\n",
        "    return 2*x\n",
        "\n",
        "\n",
        "# Try running this cell!\n",
        "\n",
        "# dbl(23)    # this calls the function dbl"
      ],
      "metadata": {
        "id": "L-114dhN0xCQ"
      },
      "execution_count": null,
      "outputs": []
    },
    {
      "cell_type": "markdown",
      "source": [
        "Running the cell above won't do anything!\n",
        "\n",
        "The function has been _defined_, but it has not yet been ***run***\n",
        "\n",
        "Run it in the next cell:"
      ],
      "metadata": {
        "id": "crNbsrXa1BV3"
      }
    },
    {
      "cell_type": "code",
      "source": [
        "# Call dbl\n",
        "\n",
        "dbl(23)"
      ],
      "metadata": {
        "id": "VEnq4WF-1LJ-",
        "colab": {
          "base_uri": "https://localhost:8080/"
        },
        "outputId": "324c6c80-7e5c-49e1-fe00-99374c6a5ba5"
      },
      "execution_count": null,
      "outputs": [
        {
          "output_type": "execute_result",
          "data": {
            "text/plain": [
              "46"
            ]
          },
          "metadata": {},
          "execution_count": 7
        }
      ]
    },
    {
      "cell_type": "markdown",
      "source": [
        "### Follow the data!\n",
        "\n",
        "A key to understanding what a function does and how it operates is _following the data_\n",
        "+ For the example above, follow the ``23`` that is input, in the parens, of the cell above...\n",
        "+ It is passed into the top line of the function in the previous cell -- the line with the ``def`` keyword\n",
        "+ As it is passed in, ***the function names it ``x``***\n",
        "+ Within the function, it computes two-times-x with ``2*x``\n",
        "+ Within the function, it will ``return`` that value ``2*x``\n",
        "+ That output value is double the input value\n",
        "+ That output value is returned -- and used -- and shown -- when the function is called!\n",
        "\n",
        "It works with strings, too:"
      ],
      "metadata": {
        "id": "HMcWNMdO1aj_"
      }
    },
    {
      "cell_type": "code",
      "source": [
        "# call dbl with a string\n",
        "\n",
        "dbl('wow ')"
      ],
      "metadata": {
        "id": "lgvkt-fi2xiP",
        "colab": {
          "base_uri": "https://localhost:8080/",
          "height": 35
        },
        "outputId": "2c842715-4177-48a7-e8aa-f2d7d08ce8ad"
      },
      "execution_count": null,
      "outputs": [
        {
          "output_type": "execute_result",
          "data": {
            "text/plain": [
              "'wow wow '"
            ],
            "application/vnd.google.colaboratory.intrinsic+json": {
              "type": "string"
            }
          },
          "metadata": {},
          "execution_count": 8
        }
      ]
    },
    {
      "cell_type": "markdown",
      "source": [
        "## Signature and Docstring\n",
        "\n",
        "The first line of a Python function is called its _signature_. The function signature includes the keyword ```def``, the name of the function, and a parenthesized list of arguments (inputs) to the function.\n",
        "\n",
        "**Docstring**    \n",
        "\n",
        "Directly underneath the signature is a string inside triple quotes ``\"\"\"`` — this is called the docstring, short for \"documentation string.\" In Sci10 we will asks you to include a docstring in all of your functions (even simple ones such as these), so that you will develop the habit early on.\n",
        "\n",
        "It's future you -- who's most often wondering what previous code does -- that most appreciates this! A docstring should describe the function's arguments and result (return value).\n",
        "\n",
        "Most importantly, Docstrings are how your functions become part of _Python's built-in help system_.  To see this, type\n",
        "\n",
        "``help(dbl)``\n",
        "\n"
      ],
      "metadata": {
        "id": "0yr7Jufd282e"
      }
    },
    {
      "cell_type": "code",
      "source": [
        "help(dbl)"
      ],
      "metadata": {
        "id": "WOTZTOCf3wQO",
        "colab": {
          "base_uri": "https://localhost:8080/"
        },
        "outputId": "1c0c844d-460c-406f-e210-39cb55b9569f"
      },
      "execution_count": null,
      "outputs": [
        {
          "output_type": "stream",
          "name": "stdout",
          "text": [
            "Help on function dbl in module __main__:\n",
            "\n",
            "dbl(x)\n",
            "    Result: dbl returns twice its argument\n",
            "    Argument x: a number (int or float)\n",
            "\n"
          ]
        }
      ]
    },
    {
      "cell_type": "markdown",
      "source": [
        "... and you will see that Python provides the docstring as the help!\n",
        "\n",
        "In fact, Python's in-built help system _is_ docstrings! This self-documenting feature in Python is especially important for making your functions understandable, both to others and to yourself.\n",
        "\n",
        "**Syntax Warning**\n",
        "\n",
        "The first set of triple quotes of a docstring needs to be indented underneath the function definition def line, at the same level of indentation as the rest of block of code that defines the function."
      ],
      "metadata": {
        "id": "n13oGJ833wt-"
      }
    },
    {
      "cell_type": "markdown",
      "source": [
        "### <font color=\"darkblue\"><b>Next task:  &nbsp; Function Building</b></font>\n",
        "\n",
        "Dive in!  These next few cells ask you to define -- and test -- several different functions.\n",
        "+ There are a couple of extra-credit functions, as well...\n",
        "\n",
        "For each one,\n",
        "+ be sure to include a docstring that describes what your function does and what its arguments are.\n",
        "+ See the ``tpl`` example, next, for a reasonable starting point and guide\n",
        "+ _Syntax errors_?  Inevitable!  Take a look at the message, and ask us or others.\n",
        "+ Be sure to use the tests provided to check your function's behavior...\n"
      ],
      "metadata": {
        "id": "meZNmZg4CpfP"
      }
    },
    {
      "cell_type": "markdown",
      "source": [
        "**Example problem**:\n",
        "\n",
        "Write the function tpl(x), which accepts a numeric argument and returns three times that argument.\n",
        "\n",
        "Two tests are provided (be sure to test them - and be sure they work!)\n",
        "\n",
        "**Answer to example problem**:"
      ],
      "metadata": {
        "id": "Df6JmCjd4v4-"
      }
    },
    {
      "cell_type": "code",
      "source": [
        "def tpl(x):\n",
        "    \"\"\" Return value: tpl returns thrice its argument\n",
        "        Argument x: a number (int or float)\n",
        "    \"\"\"\n",
        "    return 3*x\n",
        "\n",
        "\n",
        "# Two tests are provided:\n",
        "print(\"tpl(10) should be 30 <->\", tpl(10))\n",
        "print(\"tpl(46/3) should be 46 <->\", tpl(46/3))"
      ],
      "metadata": {
        "id": "PX16cW1aLQq1",
        "colab": {
          "base_uri": "https://localhost:8080/"
        },
        "outputId": "97869087-69b5-4f9a-d145-84f82f8b5ace"
      },
      "execution_count": null,
      "outputs": [
        {
          "output_type": "stream",
          "name": "stdout",
          "text": [
            "tpl(10) should be 30 <-> 30\n",
            "tpl(46/3) should be 46 <-> 46.0\n"
          ]
        }
      ]
    },
    {
      "cell_type": "markdown",
      "source": [
        "### <font color=\"darkblue\"><b>Function to write #1: &nbsp; ``sq``</b></font>\n",
        "\n",
        "The function ``sq(x)`` should accept a numeric argument named ``x``.\n",
        "\n",
        "Then, ``sq`` should return the square of its argument.\n",
        "\n",
        "Note that this is the _square_, not the square root. (The square is ``x`` times itself...)"
      ],
      "metadata": {
        "id": "p4_1hG1R5swE"
      }
    },
    {
      "cell_type": "code",
      "source": [
        "#\n",
        "# space for your sq function  (use the previous examples to get started!)\n",
        "def sq(x):\n",
        "  \"\"\" Return value: sq returns the square of its argument\n",
        "      Argument x: a number (int or float)\n",
        "  \"\"\"\n",
        "  return x**2\n",
        "\n",
        "\n",
        "\n",
        "\n",
        "# be sure these two tests work!\n",
        "# you'll need to \"comment them back in\":\n",
        "\n",
        "print(\"sq(10) should be 100 <->\", sq(10))\n",
        "print(\"sq(46) should be 2116 <->\", sq(46))"
      ],
      "metadata": {
        "id": "E7-THYx_6BGU",
        "colab": {
          "base_uri": "https://localhost:8080/"
        },
        "outputId": "118caa06-6efe-4b7e-b4a5-6608d957dc06"
      },
      "execution_count": null,
      "outputs": [
        {
          "output_type": "stream",
          "name": "stdout",
          "text": [
            "sq(10) should be 100 <-> 100\n",
            "sq(46) should be 2116 <-> 2116\n"
          ]
        }
      ]
    },
    {
      "cell_type": "markdown",
      "source": [
        "### <font color=\"darkblue\"><b>Function to write #2: &nbsp; ``checkends``</b></font>\n",
        "\n",
        "The function ``checkends(s)`` should take in one _string_ input, naming it ``s``.\n",
        "+ Then, ``checkends(s)`` should return ``True`` if the first character in ``s`` is the same as the last character in ``s``. It returns False otherwise.\n",
        "+ (The checkends function does not have to work on the empty string, the string ``''`` )\n",
        "+ There is a hint below. Suggestion: Read through the examples first!\n",
        "\n",
        "The examples will help explain ``checkends`` — read them over now, and be sure to try them once you have a first draft of your function. Notice that the fourth, final example below is the string of **one** space character, which is different from the empty string, which contains no characters:"
      ],
      "metadata": {
        "id": "5_FYMevzngjP"
      }
    },
    {
      "cell_type": "code",
      "source": [
        "#\n",
        "# your checkends function\n",
        "def checkends(s):\n",
        "  \"\"\" Return value: True if beginning and end of its argument match, False if not\n",
        "      Argument: a string or number\n",
        "  \"\"\"\n",
        "  if s[0] == s[-1]:\n",
        "    return \"True\"\n",
        "  else:\n",
        "    return 'False'\n",
        "\n",
        "\n",
        "\n",
        "\n",
        "# be sure these four tests work!  Comment them in:\n",
        "\n",
        "print(\"checkends('no match') should be False <->\", checkends('no match'))\n",
        "print(\"checkends('hah! a match') should be True <->\", checkends('hah! a match'))\n",
        "\n",
        "print(\"checkends('q') should be True <->\", checkends('q'))\n",
        "print(\"checkends(' ') should be True <->\", checkends(' '))  # single space"
      ],
      "metadata": {
        "id": "TdMmKsnnomCG",
        "colab": {
          "base_uri": "https://localhost:8080/"
        },
        "outputId": "443ff2ca-bd8a-41b3-9fad-4c7ac9bc9d01"
      },
      "execution_count": null,
      "outputs": [
        {
          "output_type": "stream",
          "name": "stdout",
          "text": [
            "checkends('no match') should be False <-> False\n",
            "checkends('hah! a match') should be True <-> True\n",
            "checkends('q') should be True <-> True\n",
            "checkends(' ') should be True <-> True\n"
          ]
        }
      ]
    },
    {
      "cell_type": "markdown",
      "source": [
        "### Hints on ``checkends``:\n",
        "\n",
        "For this function you could use an if and else construction...here is a start:\n",
        "<code><pre>\n",
        "    if s[0] == ______ :\n",
        "        return True\n",
        "    else:\n",
        "        return False\n",
        "</pre></code>\n",
        "\n",
        "Notice that\n",
        "+ the key idea for the \"last character\" is missing in the first line above - you'll need to fill that in!\n",
        "+ ``True`` and ``False`` are built-in to Python. They are a data type called \"booleans.\"\n",
        "  + Aside: booleans are the smallest unit of data: 1 bit!\n",
        "+  You might build a solution that doesn't use the ``if`` and ``else`` at all - ok. Good to continue using conditionals, too."
      ],
      "metadata": {
        "id": "T29LBHxFo7LS"
      }
    },
    {
      "cell_type": "markdown",
      "source": [
        "### <font color=\"darkblue\"><b>Function to use: &nbsp; ``len``</b></font>\n",
        "\n",
        "There are severall functions so important that they are built in to Python.\n",
        "\n",
        "Even among those, one of the most important is ``len(s)``, which\n",
        "+ returns the _number of characters_ in the input string, ``s``\n",
        "+ run and look over the examples below\n",
        "\n",
        "Feel free to use ``len`` wherever it is useful (which is a lot!)\n",
        "+ You'll want to use it for the next function, #3\n",
        "\n",
        "<br>\n",
        "\n",
        "Here are examples of ``len`` in action:"
      ],
      "metadata": {
        "id": "pEdvdtJFqJOA"
      }
    },
    {
      "cell_type": "code",
      "source": [
        "# be sure to digest these examples of len\n",
        "\n",
        "\n",
        "print(\"len('claremont') should be 9 <->\", len('claremont'))  # 9 characters\n",
        "print(\"len('this is a really long string') should be 28 <->\", len('this is a really long string'))\n",
        "print()\n",
        "\n",
        "print(\"len('q') should be 1 <->\", len('q'))    # one character, 'q'\n",
        "print(\"len(' ') should be 1 <->\", len(' '))    # single space, len is 1\n",
        "print()\n",
        "\n",
        "print(\"len('') should be 0 <->\", len(''))    # single space, len is 0"
      ],
      "metadata": {
        "id": "O0HL-kOcs-gm",
        "colab": {
          "base_uri": "https://localhost:8080/"
        },
        "outputId": "1eef04c5-ae77-459b-d992-a9076575901f"
      },
      "execution_count": null,
      "outputs": [
        {
          "output_type": "stream",
          "name": "stdout",
          "text": [
            "len('claremont') should be 9 <-> 9\n",
            "len('this is a really long string') should be 28 <-> 28\n",
            "\n",
            "len('q') should be 1 <-> 1\n",
            "len(' ') should be 1 <-> 1\n",
            "\n",
            "len('') should be 0 <-> 0\n"
          ]
        }
      ]
    },
    {
      "cell_type": "markdown",
      "source": [
        "### <font color=\"darkblue\"><b>Function to write #3: &nbsp; ``flipside``</b></font>\n",
        "\n",
        "The function ``flipside(s)`` should take in a _string_ ``s`` and\n",
        "+ returns a string whose first half is ``s``'s second half and whose second half is ``s``'s first half.\n",
        "+ if ``len(s)`` (the length of ``s``) is odd, the \"first half\" of s is considered to have one fewer character than the second half.\n",
        "+ Accordingly, the second half of the returned string will be one shorter than the first half in these cases.\n",
        "+ here you may want to use the built-in function ``len(s)``, which returns the length of its input string, ``s``\n",
        "\n",
        "There's also a hint after the examples below. First, check out the examples..."
      ],
      "metadata": {
        "id": "lknN8A0mqB8v"
      }
    },
    {
      "cell_type": "code",
      "source": [
        "#\n",
        "# your flipside function\n",
        "def flipside(s):\n",
        "  \"\"\" Return value: split its argument in half and flip them around\n",
        "      Argument: string\n",
        "  \"\"\"\n",
        "  hl = len(s)//2\n",
        "  return s[hl:] + s[:hl]\n",
        "\n",
        "\n",
        "\n",
        "# be sure these tests work!  Comment them in:\n",
        "\n",
        "print(\"flipside('homework') should be 'workhome' <->\", flipside('homework'))\n",
        "print(\"flipside('poptart') should be 'tartpop' <->\", flipside('poptart'))    # shorter first half\n",
        "print(\"flipside('carpet') should be 'petcar' <->\", flipside('carpet'))"
      ],
      "metadata": {
        "id": "Kg3wUXTKt8fJ",
        "colab": {
          "base_uri": "https://localhost:8080/"
        },
        "outputId": "f4b37cb4-b569-4e66-81d2-faa6b61e63a7"
      },
      "execution_count": null,
      "outputs": [
        {
          "output_type": "stream",
          "name": "stdout",
          "text": [
            "flipside('homework') should be 'workhome' <-> workhome\n",
            "flipside('poptart') should be 'tartpop' <-> tartpop\n",
            "flipside('carpet') should be 'petcar' <-> petcar\n"
          ]
        }
      ]
    },
    {
      "cell_type": "markdown",
      "source": [
        "**Note**: Python will ***not*** print the quotes around the right-hand sides (the outputs).\n",
        "\n",
        "This is ok!  They are still strings..."
      ],
      "metadata": {
        "id": "_DFsWCzjxoXO"
      }
    },
    {
      "cell_type": "markdown",
      "source": [
        "The ``flipside`` function is simpler if you create a variable equal to ``len(s)//2`` on the first line, e.g.,\n",
        "\n",
        "<pre><code>def flipside(s):\n",
        "    \"\"\" Put your docstring here.\n",
        "    \"\"\"\n",
        "    x = len(s)//2\n",
        "    return   _____________\n",
        "</code></pre>\n",
        "\n",
        "where the ``return`` statement is still needed:\n",
        "+ The missing ``return`` statement will use the variable ``x`` twice\n",
        "+ which is why it's nice to give it a name, rather than type and re-type it!\n",
        "\n",
        "Side comment: the name ``x`` isn't a great variable name here:\n",
        "+  ``l`` (lowercase ``l``, suggesting \"length\") might be better\n",
        "+ however, ``l`` looks too much like the number ``1`` ...\n",
        "+ Optional:  _What name might be better than both ``x`` and ``l``?_\n",
        "+ Leading question: what does ``x`` really _represent_ here?!"
      ],
      "metadata": {
        "id": "hcUim9XEt8vt"
      }
    },
    {
      "cell_type": "markdown",
      "source": [
        "### <font color=\"darkblue\"><b>Function to write #4: &nbsp; ``transcribe_one``</b></font>\n",
        "\n",
        "The function ``transcribe_one(s)`` should take in a _string_ ``s`` and\n",
        "+ if ``s`` is a single lowercase letter, ``'a'``, then ``transcribe_one`` should return the single lowercase letter ``'u'``\n",
        "+ if ``s`` is a single lowercase letter, ``'c'``, then ``transcribe_one`` should return the single lowercase letter ``'g'``\n",
        "+ if ``s`` is a single lowercase letter, ``'g'``, then ``transcribe_one`` should return the single lowercase letter ``'c'``\n",
        "+ if ``s`` is a single lowercase letter, ``'t'``, then ``transcribe_one`` should return the single lowercase letter ``'a'``\n",
        "+ if the input ``s`` is any other string or is more than one letter or is zero characters (the empty string), then ``transcribe_one`` should return the empty string\n",
        "+ again, you will want to use the built-in function ``len(s)``, which returns the length of its input string, ``s``\n",
        "+ again, Python won't print the quotes around the right-hand outputs:"
      ],
      "metadata": {
        "id": "j6M0QQq3wWs2"
      }
    },
    {
      "cell_type": "code",
      "source": [
        "#\n",
        "# your transcribe_one function\n",
        "def transcribe_one(s):\n",
        "  \"\"\" Return value: 'u' if argument is 'a', 'g' if 'c', 'c' if 'g', 'a' if 't', nothing if anything else\n",
        "      Argument: a string\n",
        "  \"\"\"\n",
        "  if s == 'a':\n",
        "    return 'u'\n",
        "  elif s == 'g':\n",
        "    return 'c'\n",
        "  elif s == 'c':\n",
        "    return 'g'\n",
        "  elif s == 't':\n",
        "    return 'a'\n",
        "  else:\n",
        "    return ''\n",
        "\n",
        "\n",
        "\n",
        "# be sure these tests work!  Comment them in:\n",
        "\n",
        "print(\"transcribe_one('a') should be 'u' <->\", transcribe_one('a'))\n",
        "print(\"transcribe_one('c') should be 'g' <->\", transcribe_one('c'))\n",
        "print(\"transcribe_one('g') should be 'c' <->\", transcribe_one('g'))\n",
        "print(\"transcribe_one('t') should be 'a' <->\", transcribe_one('t'))\n",
        "print()\n",
        "\n",
        "print(\"transcribe_one('claremont') should be '' <->\", transcribe_one('claremont'))  # will really look empty!\n",
        "print(\"transcribe_one('') should also be '' <->\", transcribe_one(''))     # will also really look empty!\n",
        "print(\"transcribe_one('h') should also be '' <->\", transcribe_one(''))    # will also really look empty!\n"
      ],
      "metadata": {
        "id": "CmiTU8Tpxhls",
        "colab": {
          "base_uri": "https://localhost:8080/"
        },
        "outputId": "f98e3a05-6d83-4b50-e460-85fe9be84b68"
      },
      "execution_count": null,
      "outputs": [
        {
          "output_type": "stream",
          "name": "stdout",
          "text": [
            "transcribe_one('a') should be 'u' <-> u\n",
            "transcribe_one('c') should be 'g' <-> g\n",
            "transcribe_one('g') should be 'c' <-> c\n",
            "transcribe_one('t') should be 'a' <-> a\n",
            "\n",
            "transcribe_one('claremont') should be '' <-> \n",
            "transcribe_one('') should also be '' <-> \n",
            "transcribe_one('h') should also be '' <-> \n"
          ]
        }
      ]
    },
    {
      "cell_type": "markdown",
      "source": [
        "### <font color=\"darkblue\"><b>Function to write #5: &nbsp; ``convertFromSeconds``</b></font>\n",
        "\n",
        "Next, write ``convertFromSeconds(s)``\n",
        "+ Here, ``s`` is an integer input, not a string\n",
        "+ ``convertFromSeconds(s)`` takes in a nonnegative integer number of seconds ``s`` and returns a list (we'll call it ``L``) of four nonnegative integers that represents that number of seconds in more conventional units of time, such that:\n",
        "  + The initial element represents a number of days.\n",
        "  + The next element represents a number of hours.\n",
        "  + The next element represents a number of minutes.\n",
        "  + The final one represents a number of seconds.\n",
        "\n",
        "You should be sure that\n",
        "+ ``0 ≤ seconds < 60`` (i.e., the maximum should be 59!)\n",
        "+ ``0 ≤ minutes < 60``\n",
        "+ ``0 ≤ hours < 24``\n",
        "+ There are no limits on the number of days.\n",
        "\n",
        "For instance, here are two examples:\n",
        "+ ``convertFromSeconds(610)`` should return ``[0, 0, 10, 10]``\n",
        "+ ``convertFromSeconds(100000)`` should return ``[1, 3, 46, 40]``\n",
        "  \n",
        "Think about it -- feel free to use the hint below!"
      ],
      "metadata": {
        "id": "tJwIalc_S4An"
      }
    },
    {
      "cell_type": "code",
      "source": [
        "#\n",
        "# here, write convertFromSeconds(s)\n",
        "#\n",
        "def convertFromSeconds(s):\n",
        "  \"\"\" Return value: [days, hours, minutes, seconds] of its argument\n",
        "      Argument: an integer (# of seconds)\n",
        "  \"\"\"\n",
        "  d = s//86400\n",
        "  s = s%86400\n",
        "  h = s//3600\n",
        "  s = s%3600\n",
        "  m = s//60\n",
        "  s = s%60\n",
        "  return [d, h, m, s]\n",
        "\n",
        "\n",
        "\n",
        "\n",
        "# Try these tests!\n",
        "print(\"convertFromSeconds(610) should return [0, 0, 10, 10] <->\", convertFromSeconds(610))\n",
        "print(\"convertFromSeconds(100000) should return [1, 3, 46, 40] <->\", convertFromSeconds(100000))\n",
        "#"
      ],
      "metadata": {
        "id": "yahclybPVLr9",
        "colab": {
          "base_uri": "https://localhost:8080/"
        },
        "outputId": "4ea29777-915f-4c96-e0fd-e8473c8f9e19"
      },
      "execution_count": null,
      "outputs": [
        {
          "output_type": "stream",
          "name": "stdout",
          "text": [
            "convertFromSeconds(610) should return [0, 0, 10, 10] <-> [0, 0, 10, 10]\n",
            "convertFromSeconds(100000) should return [1, 3, 46, 40] <-> [1, 3, 46, 40]\n"
          ]
        }
      ]
    },
    {
      "cell_type": "markdown",
      "source": [
        "### Hint for ``convertFromSeconds``\n",
        "\n",
        "How to do this?    \n",
        "+ Feel free to copy and paste this starter code that uses four variables:\n",
        "```\n",
        "def convertFromSeconds(s):\n",
        "    days = s // (24*60*60)  # Number of days\n",
        "    s = s % (24*60*60)      # The leftover\n",
        "    hours =\n",
        "    minutes =\n",
        "    seconds =\n",
        "    return [days, hours, minutes, seconds]\n",
        "```\n",
        "\n",
        "The idea here is that when those four variables are all correctly set, you can return them all in a list, which is the final line:\n",
        "+ ``return [days, hours, minutes, seconds]``\n",
        "+ For instance, the line that sets days is ``days = s // (24*60*60)``\n",
        "\n",
        "What would be other lines be?!"
      ],
      "metadata": {
        "id": "qDqixd8MVMS_"
      }
    },
    {
      "cell_type": "markdown",
      "source": [
        "# <font color=\"darkblue\"><b>Recursion!</b></font>\n",
        "\n",
        "A very powerful approach to problem-solving is _recursion_\n",
        "\n",
        "It finds and uses a situation's _self-similarity_ to solve a problem:\n",
        "+ self-similarity sometimes feels less \"natural\" than sequencing\n",
        "+ however, there are problems where self-similarity is a much better fit\n",
        "+ also, if a problem is solvable, it's _always_ possible to solve it with recursion\n",
        "  + to be fair, it's also always possible to solve it with sequence-based approaches (iteration)\n",
        "  + that said, _humans_ who are familiar with both -- they tend to have a much bigger set of solution-techniques!"
      ],
      "metadata": {
        "id": "xQFAXxqkQUfm"
      }
    },
    {
      "cell_type": "markdown",
      "source": [
        "### Recursive function examples\n",
        "+ A great way to build recursive problem-solving is to, first, try some complete examples\n",
        "+ Here are several -- from class and beyond:"
      ],
      "metadata": {
        "id": "YCnyoiONRcPJ"
      }
    },
    {
      "cell_type": "code",
      "source": [
        "#\n",
        "# Example of a recursive function\n",
        "#\n",
        "s = '1'\n",
        "print(\"'\", s[1:], \"'\", sep = '')\n",
        "\n",
        "def replace_i(s):\n",
        "  \"\"\" input: a string s\n",
        "      output: a new string like s, with\n",
        "              all lowercase i's with !'s (exclamantion points)\n",
        "  \"\"\"\n",
        "  if s == \"\":\n",
        "    return s\n",
        "  elif s[0] == \"i\":\n",
        "    return \"!\" + replace_i(s[1:]) # s is alien -> s is lien -> s is ien ...\n",
        "  else:\n",
        "    return s[0] + replace_i(s[1:])\n",
        "\n",
        "# tests!\n",
        "print(\"replace_i('alien') should be      al!en      <->\", replace_i('alien'))\n",
        "print(\"replace_i('aiiiiiieee') should be a!!!!!!eee <->\", replace_i('aiiiiiieee'))\n",
        "print(\"replace_i('icily') should be      !c!ly      <->\", replace_i('icily'))\n",
        "print(\"replace_i('claremont') should be  claremont  <->\", replace_i('claremont'))"
      ],
      "metadata": {
        "id": "s_J3TZPO0ZnA",
        "colab": {
          "base_uri": "https://localhost:8080/"
        },
        "outputId": "e0748208-1d56-4503-c0f3-69224dbf181f"
      },
      "execution_count": null,
      "outputs": [
        {
          "output_type": "stream",
          "name": "stdout",
          "text": [
            "''\n",
            "replace_i('alien') should be      al!en      <-> al!en\n",
            "replace_i('aiiiiiieee') should be a!!!!!!eee <-> a!!!!!!eee\n",
            "replace_i('icily') should be      !c!ly      <-> !c!ly\n",
            "replace_i('claremont') should be  claremont  <-> claremont\n"
          ]
        }
      ]
    },
    {
      "cell_type": "markdown",
      "source": [
        "### Chat GPT!\n",
        "\n",
        "Write 1-2 sentences that describe _how_ ``replace_i('icily')`` returns ``!c!ly`` - that is, what the data and function are doing...\n",
        "\n",
        "\n",
        "+ _Optional:  You're welcome to \"ChatGPT\" this!_\n",
        "+ If you do, still write a few sentences sharing the results and whether they were helpful?!\n",
        "  + It would be interesting to ChatGPT that...\n",
        "  + this is up to you, but do include a reflection!"
      ],
      "metadata": {
        "id": "y2jlqSrPnYF3"
      }
    },
    {
      "cell_type": "markdown",
      "source": [
        "### Your description of how ``replace_i('icily')`` returns ``!c!ly``\n",
        "1)\n",
        "\n",
        "Line 10 checks if 'icily' is nothing, which it isn't\n",
        "\n",
        "Then, line 12 checks if the first letter in 'icily' is i, which it is. It returns ! + running the function again where s is 'cily'...\n",
        "\n",
        "2)\n",
        "\n",
        "Line 10 checks if 'cily' is nothing, which it isn't\n",
        "\n",
        "Line 12 checks if the first letter in 'cily' is i, which it isn't\n",
        "\n",
        "Line 14 runs, returning c + running the function again where s is 'ily'...\n",
        "\n",
        "3)\n",
        "\n",
        "and then 4) 'ly', then 5) 'y'\n",
        "\n",
        "and then 6) s is nothing\n",
        "\n",
        "Line 10 checks if s is nothing, which it is, ending the cycle\n",
        "\n",
        "The return value of 5) is 'y', so 4) becomes 'l' + 'y', 3) becomes '!' + 'ly', 2) becomes 'c' + '!ly', aaaaannnnddd then 1) is !c!ly, the return value for the whole function\n",
        "\n",
        "\n",
        "<font size=-1> I know this is not two sentences, but I don't know how else to explain it 🫠 </font>\n",
        "\n",
        "\n",
        "<br><br>"
      ],
      "metadata": {
        "id": "aQ6XK4CBYLY9"
      }
    },
    {
      "cell_type": "code",
      "source": [
        "#\n",
        "# The vowel-counting example from class...\n",
        "#\n",
        "\n",
        "#\n",
        "# vwl examples from class\n",
        "#\n",
        "def vwl(s):\n",
        "    \"\"\"vwl returns the number of vowels in s\n",
        "       Argument: s, which will be a string\n",
        "    \"\"\"\n",
        "    if s == '':\n",
        "        return 0   # no vowels in the empty string\n",
        "    elif s[0] in 'aeiou':\n",
        "        return 1 + vwl(s[1:])   # count 1 for the vowel\n",
        "    else:\n",
        "        return 0 + vwl(s[1:])   # The 0 + isn't necessary but looks nice\n",
        "\n",
        "#\n",
        "# Tests!\n",
        "print( \"vwl('sequoia') should be 5 <-> \", vwl('sequoia') )\n",
        "print( \"vwl('bcdfg') should be 0 <-> \", vwl('bcdfg') )\n",
        "print( \"vwl('e') should be 1 <-> \", vwl('e') )\n",
        "print( \"vwl('This sentence has nine vowels.') should be 9 <-> \", vwl('This sentence has nine vowels.') )\n",
        "\n",
        "#\n",
        "# here are keepvwl and dropvwl, also from class:\n",
        "\n",
        "\n",
        "#\n",
        "# keepvwl example from class\n",
        "#\n",
        "def keepvwl(s):\n",
        "    \"\"\"keepvwl returns the vowels in s\n",
        "       Argument: s, which will be a string\n",
        "       Return value: a string with all of s's vowels, in order\n",
        "    \"\"\"\n",
        "    if s == '':\n",
        "        return ''   # return the empty string\n",
        "    elif s[0] in 'aeiou':\n",
        "        return s[0] + keepvwl(s[1:]) # keep s[0], since it's a vowel\n",
        "    else:\n",
        "        return '' + keepvwl(s[1:])   # '' isn't necessary but fits conceptually!\n",
        "\n",
        "\n",
        "#\n",
        "# dropvwl example from class\n",
        "#\n",
        "def dropvwl(s):\n",
        "    \"\"\"dropvwl returns the non-vowels in s.  Note that \"non-vowels\" includes\n",
        "         characters that are not alphabetic.\n",
        "       Argument: s, which will be a string\n",
        "       Return value: s with the vowels removed\n",
        "    \"\"\"\n",
        "    if s == '':\n",
        "        return ''   # return the empty string\n",
        "    elif s[0] in 'aeiou':\n",
        "        return '' + dropvwl(s[1:])   # drop s[0], since it's a vowel\n",
        "    else:\n",
        "        return s[0] + dropvwl(s[1:])   # keep s[0], since it's NOT a vowel!\n",
        "\n"
      ],
      "metadata": {
        "colab": {
          "base_uri": "https://localhost:8080/"
        },
        "id": "SwEJqySrXNhK",
        "outputId": "06ddb717-515b-4d00-ff37-9cab72fcd6c8"
      },
      "execution_count": null,
      "outputs": [
        {
          "output_type": "stream",
          "name": "stdout",
          "text": [
            "vwl('sequoia') should be 5 <->  5\n",
            "vwl('bcdfg') should be 0 <->  0\n",
            "vwl('e') should be 1 <->  1\n",
            "vwl('This sentence has nine vowels.') should be 9 <->  9\n"
          ]
        }
      ]
    },
    {
      "cell_type": "code",
      "source": [
        "# fun - functions continue to exist in other cells\n",
        "# try it:\n",
        "\n",
        "replace_i('aliiien')   # a three-i'ed alien: exciting!!!"
      ],
      "metadata": {
        "id": "PYzCMuGDcUwf",
        "colab": {
          "base_uri": "https://localhost:8080/",
          "height": 35
        },
        "outputId": "b5ace532-2ba2-40d4-e0f8-be640845fef0"
      },
      "execution_count": null,
      "outputs": [
        {
          "output_type": "execute_result",
          "data": {
            "text/plain": [
              "'al!!!en'"
            ],
            "application/vnd.google.colaboratory.intrinsic+json": {
              "type": "string"
            }
          },
          "metadata": {},
          "execution_count": 8
        }
      ]
    },
    {
      "cell_type": "markdown",
      "source": [
        "### <font color=\"darkblue\"><b>Recursive function #1</b> &nbsp; The full ``transcribe`` function!</b></font>\n",
        "\n",
        "\n",
        "The function ``transcribe(s)`` should take in a _string_ ``s`` and return a new string with all of ``s``'s transcribable characters, transcribed!\n",
        "+ That is, every ``a`` becomes ``u``, every ``c`` becomes ``g`` (and vice versa), and every ``t`` becomes an ``a``\n",
        "+ any non-transcribable characters should be dropped/omitted from the output\n",
        "  + or, you can replace them with an underscore: ``_``\n",
        "\n",
        "<br>\n",
        "\n",
        "How to do this?\n",
        "+ Take a look at the ``replaceIs`` function above\n",
        "+ Consider where you will be able to use ``transcribe_one``\n",
        "  + You wrote that, above -- you should definitely use it!\n",
        "+ That said, these can get somewhat addictive...\n",
        "\n",
        "\n",
        "\n"
      ],
      "metadata": {
        "id": "VBp9aff1zE1g"
      }
    },
    {
      "cell_type": "code",
      "source": [
        "#\n",
        "# A full transcribe function\n",
        "\n",
        "\n",
        "# Same thing as before eheheheheee\n",
        "def transcribe_one(a):\n",
        "  \"\"\" Return value: 'u' if argument is 'a', 'g' if 'c', 'c' if 'g', 'a' if 't', nothing if anything else\n",
        "      Argument: a string\n",
        "  \"\"\"\n",
        "  if a == 'a':\n",
        "    return'u'\n",
        "  elif a == 'g':\n",
        "    return 'c'\n",
        "  elif a == 'c':\n",
        "    return 'g'\n",
        "  elif a == 't':\n",
        "    return 'a'\n",
        "\n",
        "\n",
        "def transcribe(s):\n",
        "  \"\"\" Replace 'a' with 'u'; 'g' -> 'c'; 'c' -> 'g'; t -> a\n",
        "      Argument: a string\n",
        "  \"\"\"\n",
        "  if s == '':\n",
        "    return s\n",
        "  elif s[0] in 'agct':\n",
        "    return transcribe_one(s[0]) + transcribe(s[1:])\n",
        "  else:\n",
        "    return s[0] + transcribe(s[1:])\n",
        "\n",
        "\n",
        "# If you work on this, please create 4-6 tests showing how it does:\n",
        "print(\"transcribe('acgt') should be                 'ucga' <->\", transcribe('agct'))\n",
        "print(\"transcribe('caaat') should be               'guuua' <->\", transcribe('caaat'))\n",
        "print(\"transcribe('cult') should be                 'gula' <->\", transcribe('cult'))\n",
        "print(\"transcribe('of flowers') should be     'of flowers' <->\", transcribe('of flowers'))\n",
        "print(\"transcribe('and poptarts') should be 'und popauras' <->\", transcribe('and poptarts'))\n",
        "print(\"transcribe('I'm meee') should be         'I'm meee' <->\", transcribe(\"I'm meee\"))\n",
        "# tests here...\n",
        "# model them from the above tests...\n"
      ],
      "metadata": {
        "id": "3rB0k5_CcnqP",
        "colab": {
          "base_uri": "https://localhost:8080/"
        },
        "outputId": "15c5c82f-7459-4557-ffc9-ab648034dd7a"
      },
      "execution_count": null,
      "outputs": [
        {
          "output_type": "stream",
          "name": "stdout",
          "text": [
            "transcribe('acgt') should be                 'ucga' <-> ucga\n",
            "transcribe('caaat') should be               'guuua' <-> guuua\n",
            "transcribe('cult') should be                 'gula' <-> gula\n",
            "transcribe('of flowers') should be     'of flowers' <-> of flowers\n",
            "transcribe('and poptarts') should be 'und popauras' <-> und popauras\n",
            "transcribe('I'm meee') should be         'I'm meee' <-> I'm meee\n"
          ]
        }
      ]
    },
    {
      "cell_type": "markdown",
      "source": [
        "### <font color=\"darkblue\">A ``letterScore`` function for scrabble</b></font>\n",
        "\n",
        "\n",
        "The function ``letterScore(s)`` should take in a single-character _string_ ``c`` and return it's scrabble score -- ***it only works when ``c`` is a single-character string!***\n",
        "\n",
        "Here is an image summarizing the scores:\n",
        "\n",
        "<img src=\"https://sandbox.dodona.be/en/activities/1515945638/description/Iy6_hxTCnswvzFz3/media/scrabble.jpg\" height=200>\n",
        "\n",
        "and here are the scores, written out:\n",
        "+ (1 point)-A, E, I, O, U, L, N, S, T, R\n",
        "+ (2 points)-D, G.\n",
        "+ (3 points)-B, C, M, P.\n",
        "+ (4 points)-F, H, V, W, Y.\n",
        "+ (5 points)-K.\n",
        "+ (8 points)- J, X.\n",
        "+ (10 points)-Q, Z.\n",
        "+ these should work for uppercase or lowercase!\n",
        "+ other characters - non letters, punctuation, numbers, ... should score 0 (zero points)\n",
        "\n",
        "<br>\n",
        "\n",
        "Hints!\n",
        "+ use the ``in`` operator\n",
        "+ For example, ``if c in \"qzQz\":`` is a great conditional to use!\n",
        "+ In that case, the correct body would be ``return 10``\n",
        "+ and so on...\n",
        "\n",
        "This ``letterScore`` function is ***not*** recursive.\n",
        "+ However, the ``scrabbleScore`` function - next one - is a great example of recursion...\n"
      ],
      "metadata": {
        "id": "ZPCh74xsYsqG"
      }
    },
    {
      "cell_type": "code",
      "source": [
        "#\n",
        "# here, write your letterScore function\n",
        "#\n",
        "\n",
        "def letterScore(c):\n",
        "  \"\"\" input: any letter\n",
        "      output: its score in Scrabble\n",
        "  \"\"\"\n",
        "  if c in 'aeioulnstrAEIOULNSTR':\n",
        "    return 1\n",
        "  elif c in 'dgDG':\n",
        "    return 2\n",
        "  elif c in 'bcmpBCMP':\n",
        "    return 3\n",
        "  elif c in 'fhvwyFHVWY': # that looks like a very nice keyboard smash :D\n",
        "    return 4\n",
        "  elif c in 'kK':\n",
        "    return 5\n",
        "  elif c in 'jxJX':\n",
        "    return 8\n",
        "  elif c in 'QZqz':\n",
        "    return 10\n",
        "  else:\n",
        "    return 0\n",
        "\n",
        "\n",
        "# be sure to try these tests!\n",
        "\n",
        "print( \"letterScore('h') should be  4 :\",  letterScore('h') )\n",
        "print( \"letterScore('c') should be  3 :\",  letterScore('c') )\n",
        "print( \"letterScore('a') should be  1 :\",  letterScore('a') )\n",
        "print( \"letterScore('z') should be 10 :\",  letterScore('z') )\n",
        "print( \"letterScore('^') should be  0 :\",  letterScore('^') )"
      ],
      "metadata": {
        "id": "-g7OUYQ_YrAq",
        "colab": {
          "base_uri": "https://localhost:8080/"
        },
        "outputId": "1a225b46-fb17-47c0-c026-b07bf64cb058"
      },
      "execution_count": null,
      "outputs": [
        {
          "output_type": "stream",
          "name": "stdout",
          "text": [
            "letterScore('h') should be  4 : 4\n",
            "letterScore('c') should be  3 : 3\n",
            "letterScore('a') should be  1 : 1\n",
            "letterScore('z') should be 10 : 10\n",
            "letterScore('^') should be  0 : 0\n"
          ]
        }
      ]
    },
    {
      "cell_type": "markdown",
      "source": [
        "### <font color=\"darkblue\"><b>Recursive function #2</b> &nbsp; The full ``scrabbleScore`` function!</b></font>\n",
        "\n",
        "Here is ``scrabbleScore``'s description:\n",
        "+ ``scrabbleScore(S)`` should take a string argument ``S``, which can have any characters, and\n",
        "+ should return the Scrabble score of that string.\n",
        "+ Any non-letter should contribute a ``0`` score (notice that letterScore already does this! No need to redo it!)\n",
        "+ we're ignoring the fact that, in the game of Scrabble, the availability of each letter tile is limited… .\n",
        "\n",
        "<br>\n",
        "\n",
        "Hint: the ``vwl`` recursive example is a good starting point, because:\n",
        "+ ``vwl`` is really a simpler scoring function...\n",
        "+ it gives ``1`` to each vowel and\n",
        "+ it gives ``0`` to each non-vowel!\n",
        "\n",
        "This is very similar!\n",
        "+ Be sure to use ``letterScore`` -- don't rewrite it!\n",
        "+ You shouldn't have more than 6 lines inside ``scrabbleScore``\n",
        "+ In fact, 4 lines is possible!"
      ],
      "metadata": {
        "id": "YHj8x6ZBaj-9"
      }
    },
    {
      "cell_type": "code",
      "source": [
        "#\n",
        "# here, write your scabbleScore function\n",
        "#\n",
        "\n",
        "def scrabbleScore(S):\n",
        "  ''' input: any string\n",
        "      output: its scrabble score\n",
        "  '''\n",
        "  if S == '':\n",
        "    return 0\n",
        "  else:\n",
        "    return letterScore(S[0]) + scrabbleScore(S[1:])\n",
        "\n",
        "\n",
        "\n",
        "\n",
        "\n",
        "# be sure to try these tests!\n",
        "\n",
        "#\n",
        "# Tests\n",
        "#\n",
        "print( \"scrabbleScore('quetzal')           should be  25 :\",  scrabbleScore('quetzal') )\n",
        "#  DAFFODIIIIIILLLLL narcissus ehehe\n",
        "print( \"scrabbleScore('jonquil')           should be  23 :\",  scrabbleScore('jonquil') )\n",
        "print( \"scrabbleScore('syzygy')            should be  25 :\",  scrabbleScore('syzygy') )\n",
        "print( \"scrabbleScore('?!@#$%^&*()')       should be  0 :\",  scrabbleScore('?!@#$%^&*()') )\n",
        "print( \"scrabbleScore('')                  should be  0 :\",  scrabbleScore('') )\n",
        "print( \"scrabbleScore('abcdefghijklmnopqrstuvwxyz') should be  87 :\",  scrabbleScore('abcdefghijklmnopqrstuvwxyz') )"
      ],
      "metadata": {
        "id": "Y9k27yvYbWad",
        "colab": {
          "base_uri": "https://localhost:8080/"
        },
        "outputId": "c0b3c4b6-3705-4b0e-9eb5-901fd18170b4"
      },
      "execution_count": null,
      "outputs": [
        {
          "output_type": "stream",
          "name": "stdout",
          "text": [
            "scrabbleScore('quetzal')           should be  25 : 25\n",
            "scrabbleScore('jonquil')           should be  23 : 23\n",
            "scrabbleScore('syzygy')            should be  25 : 25\n",
            "scrabbleScore('?!@#$%^&*()')       should be  0 : 0\n",
            "scrabbleScore('')                  should be  0 : 0\n",
            "scrabbleScore('abcdefghijklmnopqrstuvwxyz') should be  87 : 87\n"
          ]
        }
      ]
    },
    {
      "cell_type": "markdown",
      "source": [
        "### <font color=\"darkblue\"><b>Recursive function #3</b> &nbsp; Your own string-transformer </b></font>\n",
        "\n",
        "For this final (required) recursive function, write your own variation of ``replaceIs`` and the functions ``keepvwl`` and ``dropvwl`` from class.\n",
        "\n",
        "It doesn't have to be more elaborate, just personalized. Here are three ideas just to jog your own thinking:\n",
        "+ You could convert all of the ``a`` characters to the at sign ``@``\n",
        "+ Other familiar substitutions with punctuation, etc.\n",
        "+ You could double the vowels and leave the consonants alone\n",
        "+ Or, could triple the ``i``'s and leave all others alone\n",
        "+ Also, ``s[0].lower()`` returns a lower-case version of ``s[0]``\n",
        "+ and ``s[0].upper()`` returns an upper-case version of ``s[0]``\n",
        "+ this means you could switch around different cases, etc.\n",
        "+ perhaps ``spOngEbObbIfYIng`` an input string?!\n",
        "\n",
        "Many, many possibilities exist -- create one of your own\n",
        "+ as well as some tests that show it off (at least 3)\n"
      ],
      "metadata": {
        "id": "O6GO-cJWdCGk"
      }
    },
    {
      "cell_type": "code",
      "source": [
        "#\n",
        "# here, write your own string-transforming function\n",
        "#       be sure to use recursion and write at least three tests...\n",
        "\n",
        "# based off of how I text (:PPP ; :DDD ; okkk ; yaaay ; noo ; etc)\n",
        "# ... except I usually add more\n",
        "\n",
        "\n",
        "def transform(s):\n",
        "  \"\"\" input: a string\n",
        "      output: the string, with k's, d's, p's and vowels tripled\n",
        "  \"\"\"\n",
        "  if s == '':\n",
        "    return s\n",
        "  elif s[0] in 'kdpaeiouKDPAEOIU':\n",
        "    return 3*s[0] + transform(s[1:])\n",
        "  else:\n",
        "    return s[0] + transform(s[1:])\n",
        "\n",
        "\n",
        "# your tests here:\n",
        "print(\"transform('cult')         should be                   'cuuult' <->\", transform('cult'))\n",
        "print(\"transform('of flowers')   should be         'ooof floooweeers' <->\", transform('of flowers'))\n",
        "print(\"transform('and poptarts') should be 'aaanddd pppoooppptaaarts' <->\", transform('and poptarts'))\n",
        "print(\"transform('sfhfjslfj')    should be                'sfhfjslfj' <->\", transform('sfhfjslfj'))"
      ],
      "metadata": {
        "id": "k1ymDNDGdr8f",
        "colab": {
          "base_uri": "https://localhost:8080/"
        },
        "outputId": "6baa5abb-0a51-495b-dff6-7412d2470b94"
      },
      "execution_count": null,
      "outputs": [
        {
          "output_type": "stream",
          "name": "stdout",
          "text": [
            "transform('cult')         should be                   'cuuult' <-> cuuult\n",
            "transform('of flowers')   should be         'ooof floooweeers' <-> ooof floooweeers\n",
            "transform('and poptarts') should be 'aaanddd pppoooppptaaarts' <-> aaanddd pppoooppptaaarts\n",
            "transform('sfhfjslfj')    should be                'sfhfjslfj' <-> sfhfjslfj\n"
          ]
        }
      ]
    },
    {
      "cell_type": "markdown",
      "source": [
        "# Extra credit\n",
        "\n",
        "(of up to +8.42 points)\n",
        "\n",
        "## _Pig Latin_!\n",
        "\n",
        "This totally-optional problem asks you to write two functions that implement an English-to-Pig-Latin translator...\n",
        "\n",
        "### Warm up\n",
        "+ Write ``pigletLatin(s)``, which accepts an argument that is a string s. s will be a single word consisting of lowercase letters.\n",
        "+ Then, ``pigletLatin`` should return the translation of ``s`` to \"piglet latin,\" which has these rules:\n",
        "  + If the argument has no letters at all (the empty string), your function should return the empty string\n",
        "  + If the argument begins with a vowel, the piglet latin result simply appends the string 'way' at the end. 'y' will be considered a consonant, and not a vowel, for this problem.\n",
        "  + Example: ``pigletLatin('one')`` returns ``'oneway'``\n",
        "    + Python may not print the quotes...\n",
        "  + If the argument begins with a consonant, the piglet latin result is identical to the argument, except that the argument's initial consonant is at the end of the word instead of the beginning and it's followed by the string 'ay'.\n",
        "    + Example: ``pigletLatin('be')`` returns ``'ebay'``\n",
        "+ Be sure to write at least one test using print—and one using assert!\n",
        "Of course, this is not full pig Latin, because it does not handle words beginning with multiple consonants correctly.\n",
        "  + For example, ``pigletLatin('string')`` returns ``'tringsay'``\n",
        "\n",
        "\n",
        "### The full Pig Latin challenge\n",
        "\n",
        "Ok!  \n",
        "\n",
        "The full challenge is to create a function called ``pigLatin(s)`` that handles the rules above and handles more than one initial consonant correctly in the translation to pig Latin.\n",
        "\n",
        "That is, ``pigLatin`` moves all of the initial consonants to the end of the word before adding ``'ay'``. (You will want to write and use a helper function to do this—see the hint below.)\n",
        "\n",
        "Also, ``pigLatin`` should handle an initial 'y' either as a consonant OR as a vowel, depending on whether the y is followed by a vowel or consonant, respectively:\n",
        "+ If an initial 'y' is followed by a vowel ('yes', 'yodel'), then the 'y' is considered a consonant.\n",
        "+ If an initial 'y' is followed by a consonant ('yttrium', element #39), then the 'y' is considered a vowel.\n",
        "+ That is, 'yes' has an initial y acting as a consonant. The word 'yttrium', however, (element #39) has an initial y acting as a vowel. (Admittedly, there aren't many 'y'-as-vowel instances: ylem, ytterbium, element #70, and Yggdrasil, a mythic tree.)\n",
        "\n",
        "\n",
        "We share some examples with which to put your pigLatin to the test!\n",
        "<code><pre>\n",
        "print( \"pigLatin('string')             should be  'ingstray'   :\",  pigLatin('string') )\n",
        "print( \"pigLatin('yttrium')            should be  'yttriumway' :\",  pigLatin('yttrium') )\n",
        "print( \"pigLatin('yoohoo')             should be  'oohooyay'   :\",  pigLatin('yoohoo') )\n",
        "print( \"pigLatin('stymie')             should be  'ymiestay'   :\",  pigLatin('stymie') )\n",
        "</pre></code>\n",
        "\n"
      ],
      "metadata": {
        "id": "PzdxCu9Zbie4"
      }
    },
    {
      "cell_type": "code",
      "source": [
        "#\n",
        "# Here is space to write pigletLatin and pigLatin!\n",
        "\n",
        "\n",
        "def pigletLatin(s):\n",
        "  \"\"\" initial consonant get moved to the end and ay is added\n",
        "      if first letter is a vowel, way is added to the end\n",
        "  \"\"\"\n",
        "  if  s =='':\n",
        "    return ''\n",
        "  elif s[0] in 'aeiou' or s[0] in 'y' and s[1] not in 'aeiou':\n",
        "    return s + 'way'\n",
        "  else:\n",
        "    return s[1:] + s[0] + 'ay'\n",
        "\n",
        "print( \"pigletLatin('string')     should be     'tringsay':\",  pigletLatin('string') )\n",
        "print( \"pigletLatin('birb')       should be       'irbbay':\",  pigletLatin('birb') )\n",
        "print( \"pigletLatin('be')         should be         'ebay':\",  pigletLatin('be') )\n",
        "print( \"pigletLatin('')           should be             '':\",  pigletLatin('') )\n",
        "assert pigletLatin('assert') == 'assertway'\n",
        "print()\n",
        "\n",
        "\n",
        "\n",
        "# p i g\n",
        "def pig(S,l):\n",
        "  \"\"\"when it's not a vowel\n",
        "     piglatin when it's a consonant\n",
        "     aka this is the recursive part\n",
        "  \"\"\"\n",
        "  if S[0] in 'aeiou' or S[0] in 'y' and S[1] not in 'aeiou':\n",
        "    return S + l + 'ay'\n",
        "  else:\n",
        "    l = l + S[0]\n",
        "    return pig(S[1:], l)\n",
        "\n",
        "def pigLatin(s):\n",
        "  \"\"\" all initial consonants get moved to the end and ay is added\n",
        "      if first letter is a vowel, way is added to the end\n",
        "  \"\"\"\n",
        "  if   s =='':\n",
        "    return ''\n",
        "  elif s[0] in 'aeiou' or s[0] == 'y' and s[1] not in 'aeiou':\n",
        "    return s + 'way'\n",
        "  else:\n",
        "    return pig(s[1:], s[0])\n",
        "\n",
        "# be sure to try these tests!\n",
        "print( \"pigLatin('string')        should be     'ingstray':\",  pigLatin('string') )\n",
        "print( \"pigLatin('yttrium')       should be   'yttriumway':\",  pigLatin('yttrium') )\n",
        "print( \"pigLatin('yoohoo')        should be     'oohooyay':\",  pigLatin('yoohoo') )\n",
        "print( \"pigLatin('stymie')        should be     'ymiestay':\",  pigLatin('stymie') )"
      ],
      "metadata": {
        "id": "PYmP4CRJcwSn",
        "colab": {
          "base_uri": "https://localhost:8080/"
        },
        "outputId": "578d8bec-082d-4b9d-cbdb-9ecb51d9a54d"
      },
      "execution_count": null,
      "outputs": [
        {
          "output_type": "stream",
          "name": "stdout",
          "text": [
            "pigletLatin('string')     should be     'tringsay': tringsay\n",
            "pigletLatin('birb')       should be       'irbbay': irbbay\n",
            "pigletLatin('be')         should be         'ebay': ebay\n",
            "pigletLatin('')           should be             '': \n",
            "\n",
            "pigLatin('string')        should be     'ingstray': ingstray\n",
            "pigLatin('yttrium')       should be   'yttriumway': yttriumway\n",
            "pigLatin('yoohoo')        should be     'oohooyay': oohooyay\n",
            "pigLatin('stymie')        should be     'ymiestay': ymiestay\n"
          ]
        }
      ]
    },
    {
      "cell_type": "markdown",
      "source": [
        "# Congratulations!\n",
        "\n",
        "You have created your first _computational cells_\n",
        "+ At least, for IST 341...\n",
        "+ Mother Nature embraces you,\n",
        "  + not only as a descendant,\n",
        "  + but as a co-author... !"
      ],
      "metadata": {
        "id": "yGx-b4xGc00A"
      }
    },
    {
      "cell_type": "markdown",
      "source": [
        "# Submitting...\n",
        "\n",
        "Be sure to submit the url of _your_ copy -- with the challenges, questions, and programs composed --\n",
        "+ to Canvas in the appropriate spot\n",
        "+ by Friday evening -- of the following week -- any time\n",
        "+ shared with me (ZD)  ``zdodds@gmail.com`` and ``dodds@g.hmc.edu``\n",
        "\n",
        "Remember that there is lots of tutoring support, as well as office-hour support available...\n",
        "+ Thank you, Oke!\n",
        "\n",
        "\n",
        "<br>\n",
        "\n",
        "As a reminder, our programming goals match the goals of the course -- we're  seeking, among other things:\n",
        "+ creativity/novelty\n",
        "+ personalization/individual context\n",
        "+ exploration and understanding (does it run?)"
      ],
      "metadata": {
        "id": "rNHGo2zHWUuo"
      }
    },
    {
      "cell_type": "code",
      "source": [
        "!git clone https://github.com/dektar/command-line-treasure-hunt.git"
      ],
      "metadata": {
        "id": "pG6v1Y80MU9p",
        "colab": {
          "base_uri": "https://localhost:8080/"
        },
        "outputId": "96006c49-c23f-41b9-b491-eb0b3528cf5f"
      },
      "execution_count": null,
      "outputs": [
        {
          "output_type": "stream",
          "name": "stdout",
          "text": [
            "Cloning into 'command-line-treasure-hunt'...\n",
            "remote: Enumerating objects: 23, done.\u001b[K\n",
            "remote: Counting objects: 100% (23/23), done.\u001b[K\n",
            "remote: Compressing objects: 100% (17/17), done.\u001b[K\n",
            "remote: Total 23 (delta 1), reused 23 (delta 1), pack-reused 0 (from 0)\u001b[K\n",
            "Receiving objects: 100% (23/23), 7.09 KiB | 7.09 MiB/s, done.\n",
            "Resolving deltas: 100% (1/1), done.\n"
          ]
        }
      ]
    },
    {
      "cell_type": "code",
      "source": [
        "cd command-line-treasure-hunt"
      ],
      "metadata": {
        "colab": {
          "base_uri": "https://localhost:8080/"
        },
        "id": "X7tPmpVWcSRn",
        "outputId": "7dd07145-2de1-4e29-fb6e-48cf1d50d363"
      },
      "execution_count": null,
      "outputs": [
        {
          "output_type": "stream",
          "name": "stdout",
          "text": [
            "/content/command-line-treasure-hunt\n"
          ]
        }
      ]
    },
    {
      "cell_type": "code",
      "source": [
        "pwd"
      ],
      "metadata": {
        "colab": {
          "base_uri": "https://localhost:8080/",
          "height": 35
        },
        "id": "bIWMuH3CcZDf",
        "outputId": "2df0989c-433c-45ad-bb26-bc57f9b2f9c2"
      },
      "execution_count": null,
      "outputs": [
        {
          "output_type": "execute_result",
          "data": {
            "text/plain": [
              "'/content/command-line-treasure-hunt'"
            ],
            "application/vnd.google.colaboratory.intrinsic+json": {
              "type": "string"
            }
          },
          "metadata": {},
          "execution_count": 3
        }
      ]
    },
    {
      "cell_type": "markdown",
      "source": [
        "# Small Treasure Hunt\n",
        "\n",
        "<font size=-1> It doesn't work :'( <font>\n",
        "\n",
        "\n",
        "<font size=-1> Maybe it does?... <font>\n",
        "\n",
        "Use the command line to find the hidden treasure. You can use:\n",
        "+ ``cd`` to change directories\n",
        "+ ``ls`` to list files in a directory\n",
        "+ ``pwd`` to find out where you currently are\n",
        "+ ``cat`` to print a file to the terminal\n",
        "\n",
        "Ready to get started? Open a terminal and let's go!\n",
        "\n",
        "Now, start by typing `ls` in the terminal to list files,\n",
        "and you see this output:\n",
        "\n",
        "```\n",
        "garden house README.md\n",
        "```\n",
        "\n",
        "The words ``garden`` ``house`` are bold or a different color because they are directories. ``README.md`` is a file. Type ``cat README.md`` in the terminal to see the contents of this file!\n",
        "\n",
        "Now let's go exploring. Go into the garden directory: ``cd garden``.\n",
        "Once you get there, use ``ls`` to see what's around, and use ``cat README.md`` to see your next set of instructions.\n",
        "\n",
        "```\n",
        "cd garden\n",
        "ls\n",
        "cat README.md\n",
        "```\n",
        "\n",
        "Good luck!\n"
      ],
      "metadata": {
        "id": "y811eECNuf3L"
      }
    },
    {
      "cell_type": "code",
      "source": [
        "ls"
      ],
      "metadata": {
        "id": "1_4nMootOalT",
        "colab": {
          "base_uri": "https://localhost:8080/"
        },
        "outputId": "a62c9c25-cd5e-40c5-b25a-81fde7fdbf36"
      },
      "execution_count": null,
      "outputs": [
        {
          "output_type": "stream",
          "name": "stdout",
          "text": [
            "\u001b[0m\u001b[01;34mgarden\u001b[0m/  \u001b[01;34mhouse\u001b[0m/  LICENSE  README.md\n"
          ]
        }
      ]
    },
    {
      "cell_type": "code",
      "source": [
        "cat README.md"
      ],
      "metadata": {
        "colab": {
          "base_uri": "https://localhost:8080/"
        },
        "id": "ZwJ-3xYYcgxf",
        "outputId": "ba7606dd-ae8c-4762-9383-8b2d19306f97"
      },
      "execution_count": null,
      "outputs": [
        {
          "output_type": "stream",
          "name": "stdout",
          "text": [
            "# Treasure Hunt\n",
            "\n",
            "Use the command line to find the hidden treasure. You can use:\n",
            "\n",
            "``cd`` to change directories\n",
            "\n",
            "``ls`` to list files in a directory\n",
            "\n",
            "``pwd`` to find out where you currently are\n",
            "\n",
            "``cat`` to print a file to the terminal\n",
            "\n",
            "Ready to get started? Open a terminal and let's go!\n",
            "\n",
            "First, clone this repository and change directories into it:\n",
            "\n",
            "```\n",
            "git clone https://github.com/dektar/command-line-treasure-hunt.git\n",
            "cd command-line-treasure-hunt\n",
            "```\n",
            "\n",
            "Now, start by typing `ls` in the terminal to list files, and you see this output:\n",
            "\n",
            "```\n",
            "garden house LICENSE README.md\n",
            "```\n",
            "\n",
            "The words ``garden`` ``house`` are bold or a different color because they are directories. ``LICENSE`` and ``README.md`` are files. Type ``cat README.md`` in the terminal to see this file!\n",
            "\n",
            "Now let's go exploring. Go into the garden directory: ``cd garden``. Once you get there, ``ls`` to see what's around, and ``cat README.md`` to see your next set of instructions.\n",
            "\n",
            "```\n",
            "cd garden\n",
            "ls\n",
            "cat README.md\n",
            "```\n",
            "\n",
            "Good luck!\n"
          ]
        }
      ]
    },
    {
      "cell_type": "code",
      "source": [
        "ls"
      ],
      "metadata": {
        "colab": {
          "base_uri": "https://localhost:8080/"
        },
        "id": "sW8YLVmTcj__",
        "outputId": "3796b914-d81f-41b0-f35c-2cd15c0a641a"
      },
      "execution_count": null,
      "outputs": [
        {
          "output_type": "stream",
          "name": "stdout",
          "text": [
            "\u001b[0m\u001b[01;34mgarden\u001b[0m/  \u001b[01;34mhouse\u001b[0m/  LICENSE  README.md\n"
          ]
        }
      ]
    },
    {
      "cell_type": "code",
      "source": [
        "cat LICENSE"
      ],
      "metadata": {
        "colab": {
          "base_uri": "https://localhost:8080/"
        },
        "id": "6CqZNXU7ctUR",
        "outputId": "dadcaa98-d547-4c45-9696-3f05ffc0de0b"
      },
      "execution_count": null,
      "outputs": [
        {
          "output_type": "stream",
          "name": "stdout",
          "text": [
            "Apache License\n",
            "                           Version 2.0, January 2004\n",
            "                        http://www.apache.org/licenses/\n",
            "\n",
            "   TERMS AND CONDITIONS FOR USE, REPRODUCTION, AND DISTRIBUTION\n",
            "\n",
            "   1. Definitions.\n",
            "\n",
            "      \"License\" shall mean the terms and conditions for use, reproduction,\n",
            "      and distribution as defined by Sections 1 through 9 of this document.\n",
            "\n",
            "      \"Licensor\" shall mean the copyright owner or entity authorized by\n",
            "      the copyright owner that is granting the License.\n",
            "\n",
            "      \"Legal Entity\" shall mean the union of the acting entity and all\n",
            "      other entities that control, are controlled by, or are under common\n",
            "      control with that entity. For the purposes of this definition,\n",
            "      \"control\" means (i) the power, direct or indirect, to cause the\n",
            "      direction or management of such entity, whether by contract or\n",
            "      otherwise, or (ii) ownership of fifty percent (50%) or more of the\n",
            "      outstanding shares, or (iii) beneficial ownership of such entity.\n",
            "\n",
            "      \"You\" (or \"Your\") shall mean an individual or Legal Entity\n",
            "      exercising permissions granted by this License.\n",
            "\n",
            "      \"Source\" form shall mean the preferred form for making modifications,\n",
            "      including but not limited to software source code, documentation\n",
            "      source, and configuration files.\n",
            "\n",
            "      \"Object\" form shall mean any form resulting from mechanical\n",
            "      transformation or translation of a Source form, including but\n",
            "      not limited to compiled object code, generated documentation,\n",
            "      and conversions to other media types.\n",
            "\n",
            "      \"Work\" shall mean the work of authorship, whether in Source or\n",
            "      Object form, made available under the License, as indicated by a\n",
            "      copyright notice that is included in or attached to the work\n",
            "      (an example is provided in the Appendix below).\n",
            "\n",
            "      \"Derivative Works\" shall mean any work, whether in Source or Object\n",
            "      form, that is based on (or derived from) the Work and for which the\n",
            "      editorial revisions, annotations, elaborations, or other modifications\n",
            "      represent, as a whole, an original work of authorship. For the purposes\n",
            "      of this License, Derivative Works shall not include works that remain\n",
            "      separable from, or merely link (or bind by name) to the interfaces of,\n",
            "      the Work and Derivative Works thereof.\n",
            "\n",
            "      \"Contribution\" shall mean any work of authorship, including\n",
            "      the original version of the Work and any modifications or additions\n",
            "      to that Work or Derivative Works thereof, that is intentionally\n",
            "      submitted to Licensor for inclusion in the Work by the copyright owner\n",
            "      or by an individual or Legal Entity authorized to submit on behalf of\n",
            "      the copyright owner. For the purposes of this definition, \"submitted\"\n",
            "      means any form of electronic, verbal, or written communication sent\n",
            "      to the Licensor or its representatives, including but not limited to\n",
            "      communication on electronic mailing lists, source code control systems,\n",
            "      and issue tracking systems that are managed by, or on behalf of, the\n",
            "      Licensor for the purpose of discussing and improving the Work, but\n",
            "      excluding communication that is conspicuously marked or otherwise\n",
            "      designated in writing by the copyright owner as \"Not a Contribution.\"\n",
            "\n",
            "      \"Contributor\" shall mean Licensor and any individual or Legal Entity\n",
            "      on behalf of whom a Contribution has been received by Licensor and\n",
            "      subsequently incorporated within the Work.\n",
            "\n",
            "   2. Grant of Copyright License. Subject to the terms and conditions of\n",
            "      this License, each Contributor hereby grants to You a perpetual,\n",
            "      worldwide, non-exclusive, no-charge, royalty-free, irrevocable\n",
            "      copyright license to reproduce, prepare Derivative Works of,\n",
            "      publicly display, publicly perform, sublicense, and distribute the\n",
            "      Work and such Derivative Works in Source or Object form.\n",
            "\n",
            "   3. Grant of Patent License. Subject to the terms and conditions of\n",
            "      this License, each Contributor hereby grants to You a perpetual,\n",
            "      worldwide, non-exclusive, no-charge, royalty-free, irrevocable\n",
            "      (except as stated in this section) patent license to make, have made,\n",
            "      use, offer to sell, sell, import, and otherwise transfer the Work,\n",
            "      where such license applies only to those patent claims licensable\n",
            "      by such Contributor that are necessarily infringed by their\n",
            "      Contribution(s) alone or by combination of their Contribution(s)\n",
            "      with the Work to which such Contribution(s) was submitted. If You\n",
            "      institute patent litigation against any entity (including a\n",
            "      cross-claim or counterclaim in a lawsuit) alleging that the Work\n",
            "      or a Contribution incorporated within the Work constitutes direct\n",
            "      or contributory patent infringement, then any patent licenses\n",
            "      granted to You under this License for that Work shall terminate\n",
            "      as of the date such litigation is filed.\n",
            "\n",
            "   4. Redistribution. You may reproduce and distribute copies of the\n",
            "      Work or Derivative Works thereof in any medium, with or without\n",
            "      modifications, and in Source or Object form, provided that You\n",
            "      meet the following conditions:\n",
            "\n",
            "      (a) You must give any other recipients of the Work or\n",
            "          Derivative Works a copy of this License; and\n",
            "\n",
            "      (b) You must cause any modified files to carry prominent notices\n",
            "          stating that You changed the files; and\n",
            "\n",
            "      (c) You must retain, in the Source form of any Derivative Works\n",
            "          that You distribute, all copyright, patent, trademark, and\n",
            "          attribution notices from the Source form of the Work,\n",
            "          excluding those notices that do not pertain to any part of\n",
            "          the Derivative Works; and\n",
            "\n",
            "      (d) If the Work includes a \"NOTICE\" text file as part of its\n",
            "          distribution, then any Derivative Works that You distribute must\n",
            "          include a readable copy of the attribution notices contained\n",
            "          within such NOTICE file, excluding those notices that do not\n",
            "          pertain to any part of the Derivative Works, in at least one\n",
            "          of the following places: within a NOTICE text file distributed\n",
            "          as part of the Derivative Works; within the Source form or\n",
            "          documentation, if provided along with the Derivative Works; or,\n",
            "          within a display generated by the Derivative Works, if and\n",
            "          wherever such third-party notices normally appear. The contents\n",
            "          of the NOTICE file are for informational purposes only and\n",
            "          do not modify the License. You may add Your own attribution\n",
            "          notices within Derivative Works that You distribute, alongside\n",
            "          or as an addendum to the NOTICE text from the Work, provided\n",
            "          that such additional attribution notices cannot be construed\n",
            "          as modifying the License.\n",
            "\n",
            "      You may add Your own copyright statement to Your modifications and\n",
            "      may provide additional or different license terms and conditions\n",
            "      for use, reproduction, or distribution of Your modifications, or\n",
            "      for any such Derivative Works as a whole, provided Your use,\n",
            "      reproduction, and distribution of the Work otherwise complies with\n",
            "      the conditions stated in this License.\n",
            "\n",
            "   5. Submission of Contributions. Unless You explicitly state otherwise,\n",
            "      any Contribution intentionally submitted for inclusion in the Work\n",
            "      by You to the Licensor shall be under the terms and conditions of\n",
            "      this License, without any additional terms or conditions.\n",
            "      Notwithstanding the above, nothing herein shall supersede or modify\n",
            "      the terms of any separate license agreement you may have executed\n",
            "      with Licensor regarding such Contributions.\n",
            "\n",
            "   6. Trademarks. This License does not grant permission to use the trade\n",
            "      names, trademarks, service marks, or product names of the Licensor,\n",
            "      except as required for reasonable and customary use in describing the\n",
            "      origin of the Work and reproducing the content of the NOTICE file.\n",
            "\n",
            "   7. Disclaimer of Warranty. Unless required by applicable law or\n",
            "      agreed to in writing, Licensor provides the Work (and each\n",
            "      Contributor provides its Contributions) on an \"AS IS\" BASIS,\n",
            "      WITHOUT WARRANTIES OR CONDITIONS OF ANY KIND, either express or\n",
            "      implied, including, without limitation, any warranties or conditions\n",
            "      of TITLE, NON-INFRINGEMENT, MERCHANTABILITY, or FITNESS FOR A\n",
            "      PARTICULAR PURPOSE. You are solely responsible for determining the\n",
            "      appropriateness of using or redistributing the Work and assume any\n",
            "      risks associated with Your exercise of permissions under this License.\n",
            "\n",
            "   8. Limitation of Liability. In no event and under no legal theory,\n",
            "      whether in tort (including negligence), contract, or otherwise,\n",
            "      unless required by applicable law (such as deliberate and grossly\n",
            "      negligent acts) or agreed to in writing, shall any Contributor be\n",
            "      liable to You for damages, including any direct, indirect, special,\n",
            "      incidental, or consequential damages of any character arising as a\n",
            "      result of this License or out of the use or inability to use the\n",
            "      Work (including but not limited to damages for loss of goodwill,\n",
            "      work stoppage, computer failure or malfunction, or any and all\n",
            "      other commercial damages or losses), even if such Contributor\n",
            "      has been advised of the possibility of such damages.\n",
            "\n",
            "   9. Accepting Warranty or Additional Liability. While redistributing\n",
            "      the Work or Derivative Works thereof, You may choose to offer,\n",
            "      and charge a fee for, acceptance of support, warranty, indemnity,\n",
            "      or other liability obligations and/or rights consistent with this\n",
            "      License. However, in accepting such obligations, You may act only\n",
            "      on Your own behalf and on Your sole responsibility, not on behalf\n",
            "      of any other Contributor, and only if You agree to indemnify,\n",
            "      defend, and hold each Contributor harmless for any liability\n",
            "      incurred by, or claims asserted against, such Contributor by reason\n",
            "      of your accepting any such warranty or additional liability.\n",
            "\n",
            "   END OF TERMS AND CONDITIONS\n",
            "\n",
            "   APPENDIX: How to apply the Apache License to your work.\n",
            "\n",
            "      To apply the Apache License to your work, attach the following\n",
            "      boilerplate notice, with the fields enclosed by brackets \"[]\"\n",
            "      replaced with your own identifying information. (Don't include\n",
            "      the brackets!)  The text should be enclosed in the appropriate\n",
            "      comment syntax for the file format. We also recommend that a\n",
            "      file or class name and description of purpose be included on the\n",
            "      same \"printed page\" as the copyright notice for easier\n",
            "      identification within third-party archives.\n",
            "\n",
            "   Copyright 2020 Katie Dektar\n",
            "\n",
            "   Licensed under the Apache License, Version 2.0 (the \"License\");\n",
            "   you may not use this file except in compliance with the License.\n",
            "   You may obtain a copy of the License at\n",
            "\n",
            "       http://www.apache.org/licenses/LICENSE-2.0\n",
            "\n",
            "   Unless required by applicable law or agreed to in writing, software\n",
            "   distributed under the License is distributed on an \"AS IS\" BASIS,\n",
            "   WITHOUT WARRANTIES OR CONDITIONS OF ANY KIND, either express or implied.\n",
            "   See the License for the specific language governing permissions and\n",
            "   limitations under the License.\n"
          ]
        }
      ]
    },
    {
      "cell_type": "code",
      "source": [
        "cd garden/"
      ],
      "metadata": {
        "colab": {
          "base_uri": "https://localhost:8080/"
        },
        "id": "2-646QSScxAp",
        "outputId": "a5aef3e1-8451-4955-8e14-f146f18d1ee3"
      },
      "execution_count": null,
      "outputs": [
        {
          "output_type": "stream",
          "name": "stdout",
          "text": [
            "/content/command-line-treasure-hunt/garden\n"
          ]
        }
      ]
    },
    {
      "cell_type": "code",
      "source": [
        "ls"
      ],
      "metadata": {
        "colab": {
          "base_uri": "https://localhost:8080/"
        },
        "id": "La23tCQMc6F0",
        "outputId": "a9523dba-d290-4b85-8aab-aff1da319171"
      },
      "execution_count": null,
      "outputs": [
        {
          "output_type": "stream",
          "name": "stdout",
          "text": [
            "README.md\n"
          ]
        }
      ]
    },
    {
      "cell_type": "code",
      "source": [
        "cat README.md"
      ],
      "metadata": {
        "colab": {
          "base_uri": "https://localhost:8080/"
        },
        "id": "zB708eK6c7a1",
        "outputId": "63198b77-753a-41b3-f9df-3797688a9d27"
      },
      "execution_count": null,
      "outputs": [
        {
          "output_type": "stream",
          "name": "stdout",
          "text": [
            "# Garden\n",
            "\n",
            "It's a beautiful garden, but doesn't seem to have any evidence that treasure is here (``ls`` only showed this file, ``README.md``) Maybe we should try the house!\n",
            "\n",
            "Type ``pwd`` to print the path to where you are now. You will see we are in command-line-treasure-hunt/garden.\n",
            "\n",
            "Try ``cd ..`` to move up a directory, and then try to ``cd house`` to move into the house directory instead.\n",
            "\n",
            "```\n",
            "cd ..\n",
            "cd house\n",
            "ls\n",
            "cat README.md\n",
            "```\n"
          ]
        }
      ]
    },
    {
      "cell_type": "code",
      "source": [
        "ls"
      ],
      "metadata": {
        "colab": {
          "base_uri": "https://localhost:8080/"
        },
        "id": "4ERZ2jD9dDiK",
        "outputId": "faa12285-f1b1-4476-f2de-b46747c2ac02"
      },
      "execution_count": null,
      "outputs": [
        {
          "output_type": "stream",
          "name": "stdout",
          "text": [
            "\u001b[0m\u001b[01;34mgarden\u001b[0m/  \u001b[01;34mhouse\u001b[0m/  LICENSE  README.md\n"
          ]
        }
      ]
    },
    {
      "cell_type": "code",
      "source": [
        "cd house/"
      ],
      "metadata": {
        "colab": {
          "base_uri": "https://localhost:8080/"
        },
        "id": "bnV0zLHbdMwz",
        "outputId": "c8ae5987-f172-4558-d344-4e4bc19cdd83"
      },
      "execution_count": null,
      "outputs": [
        {
          "output_type": "stream",
          "name": "stdout",
          "text": [
            "/content/command-line-treasure-hunt/house\n"
          ]
        }
      ]
    },
    {
      "cell_type": "code",
      "source": [
        "ls"
      ],
      "metadata": {
        "colab": {
          "base_uri": "https://localhost:8080/"
        },
        "id": "HWisbe7IdOc9",
        "outputId": "4060742c-27a9-4ec1-a41d-e730624fb7a7"
      },
      "execution_count": null,
      "outputs": [
        {
          "output_type": "stream",
          "name": "stdout",
          "text": [
            "\u001b[0m\u001b[01;34mfront_room\u001b[0m/  \u001b[01;34mkitchen\u001b[0m/  README.md  \u001b[01;34mupstairs\u001b[0m/\n"
          ]
        }
      ]
    },
    {
      "cell_type": "code",
      "source": [
        "cat README.md"
      ],
      "metadata": {
        "colab": {
          "base_uri": "https://localhost:8080/"
        },
        "id": "T-57BLMjdQCe",
        "outputId": "f2864c26-e186-4112-f4bd-aebe84fb46b9"
      },
      "execution_count": null,
      "outputs": [
        {
          "output_type": "stream",
          "name": "stdout",
          "text": [
            "# House\n",
            "\n",
            "Welcome to the house! There's a distinct feeling that the treasure is closer. Muddy footsteps head towards the front room. What's in there? Go in and check it out!\n",
            "\n",
            "```\n",
            "cd front_room\n",
            "ls\n",
            "cat README.md\n",
            "```\n"
          ]
        }
      ]
    },
    {
      "cell_type": "code",
      "source": [
        "cd front_room/"
      ],
      "metadata": {
        "colab": {
          "base_uri": "https://localhost:8080/"
        },
        "id": "nucRYu2zdUhv",
        "outputId": "aac8691c-ebeb-42eb-f57b-f01b7638f049"
      },
      "execution_count": null,
      "outputs": [
        {
          "output_type": "stream",
          "name": "stdout",
          "text": [
            "/content/command-line-treasure-hunt/house/front_room\n"
          ]
        }
      ]
    },
    {
      "cell_type": "code",
      "source": [
        "ls"
      ],
      "metadata": {
        "colab": {
          "base_uri": "https://localhost:8080/"
        },
        "id": "ViIewC3Pda6T",
        "outputId": "3f484a40-6f21-4bf7-952c-cd4228ce79a7"
      },
      "execution_count": null,
      "outputs": [
        {
          "output_type": "stream",
          "name": "stdout",
          "text": [
            "README.md\n"
          ]
        }
      ]
    },
    {
      "cell_type": "code",
      "source": [
        "cat README.md"
      ],
      "metadata": {
        "colab": {
          "base_uri": "https://localhost:8080/"
        },
        "id": "IH78X9ehdcz0",
        "outputId": "0bcab927-e975-4a16-dd63-7a6ed71e9c94"
      },
      "execution_count": null,
      "outputs": [
        {
          "output_type": "stream",
          "name": "stdout",
          "text": [
            "# Front room\n",
            "\n",
            "A cozy front room, but no treasure. The tracks head into the kitchen. Let's go up to the house/ directory and into the kitchen/ instead!\n",
            "\n",
            "Don't forget you can type ``pwd`` to figure out where you are right now!\n",
            "\n",
            "```\n",
            "cd ..\n",
            "cd kitchen\n",
            "ls\n",
            "cat README.md\n",
            "```\n"
          ]
        }
      ]
    },
    {
      "cell_type": "code",
      "source": [
        "cd .."
      ],
      "metadata": {
        "colab": {
          "base_uri": "https://localhost:8080/"
        },
        "id": "IdXPk1oPdfRW",
        "outputId": "e60d39ce-99b3-4c7d-ffbf-7c8a0e7604c5"
      },
      "execution_count": null,
      "outputs": [
        {
          "output_type": "stream",
          "name": "stdout",
          "text": [
            "/content/command-line-treasure-hunt/house\n"
          ]
        }
      ]
    },
    {
      "cell_type": "code",
      "source": [
        "cd upstairs/"
      ],
      "metadata": {
        "colab": {
          "base_uri": "https://localhost:8080/"
        },
        "id": "1OvlVIdrdpjz",
        "outputId": "22040c74-5f3e-4186-fa37-b73a384a88f9"
      },
      "execution_count": null,
      "outputs": [
        {
          "output_type": "stream",
          "name": "stdout",
          "text": [
            "/content/command-line-treasure-hunt/house/upstairs\n"
          ]
        }
      ]
    },
    {
      "cell_type": "code",
      "source": [
        "ls"
      ],
      "metadata": {
        "colab": {
          "base_uri": "https://localhost:8080/"
        },
        "id": "wWAmSREpdsPK",
        "outputId": "6fb97808-c37a-4668-a948-54919a24ff89"
      },
      "execution_count": null,
      "outputs": [
        {
          "output_type": "stream",
          "name": "stdout",
          "text": [
            "\u001b[0m\u001b[01;34mbedroom\u001b[0m/  README.md\n"
          ]
        }
      ]
    },
    {
      "cell_type": "code",
      "source": [
        "cat README.md"
      ],
      "metadata": {
        "colab": {
          "base_uri": "https://localhost:8080/"
        },
        "id": "ze2QdnB6dtWC",
        "outputId": "0a1e0afe-f3f8-41d6-abaf-ab219ceb87be"
      },
      "execution_count": null,
      "outputs": [
        {
          "output_type": "stream",
          "name": "stdout",
          "text": [
            "# Upstairs\n",
            "\n",
            "The door to the bedroom is ajar and a golden light peaks through... what is it?\n",
            "\n",
            "```\n",
            "cd bedroom\n",
            "ls\n",
            "```\n"
          ]
        }
      ]
    },
    {
      "cell_type": "code",
      "source": [
        "cd .."
      ],
      "metadata": {
        "colab": {
          "base_uri": "https://localhost:8080/"
        },
        "id": "e3QFPy9AdwNH",
        "outputId": "fa0ac810-0e7f-4270-ec67-94fa59cb451c"
      },
      "execution_count": null,
      "outputs": [
        {
          "output_type": "stream",
          "name": "stdout",
          "text": [
            "/content/command-line-treasure-hunt/house\n"
          ]
        }
      ]
    },
    {
      "cell_type": "code",
      "source": [
        "cd kitchen/"
      ],
      "metadata": {
        "colab": {
          "base_uri": "https://localhost:8080/"
        },
        "id": "knpBuw5fd1os",
        "outputId": "938d2689-641c-47d6-f2ed-0f33fa2df364"
      },
      "execution_count": null,
      "outputs": [
        {
          "output_type": "stream",
          "name": "stdout",
          "text": [
            "[Errno 2] No such file or directory: 'kitchen/'\n",
            "/content/command-line-treasure-hunt/house/kitchen\n"
          ]
        }
      ]
    },
    {
      "cell_type": "code",
      "source": [
        "ls"
      ],
      "metadata": {
        "colab": {
          "base_uri": "https://localhost:8080/"
        },
        "id": "LMHrgTd2d6jd",
        "outputId": "723ef506-1b03-4468-f249-b22a7ca001a4"
      },
      "execution_count": null,
      "outputs": [
        {
          "output_type": "stream",
          "name": "stdout",
          "text": [
            "README.md\n"
          ]
        }
      ]
    },
    {
      "cell_type": "code",
      "source": [
        "cat README.md"
      ],
      "metadata": {
        "colab": {
          "base_uri": "https://localhost:8080/"
        },
        "id": "mxvJ8cy0d-IP",
        "outputId": "55a36c12-e461-4fa5-9510-4948a8c574fa"
      },
      "execution_count": null,
      "outputs": [
        {
          "output_type": "stream",
          "name": "stdout",
          "text": [
            "# Kitchen\n",
            "\n",
            "It's the kitchen! Smells like pie, yum. But there's no treasure. Let's go upstairs!\n",
            "\n",
            "We can jump straight to another directory by chaining commands, so instead of ``cd ..`` and then ``cd upstairs``, we can simply type ``cd ../upstairs``. Try it!\n",
            "\n",
            "```\n",
            "cd ../upstairs\n",
            "ls\n",
            "cat README.md\n",
            "```\n"
          ]
        }
      ]
    },
    {
      "cell_type": "code",
      "source": [
        "cd ../upstairs"
      ],
      "metadata": {
        "colab": {
          "base_uri": "https://localhost:8080/"
        },
        "id": "sxQicSFPeAHb",
        "outputId": "9919bc2e-5f0a-4e88-80b0-b008899c5086"
      },
      "execution_count": null,
      "outputs": [
        {
          "output_type": "stream",
          "name": "stdout",
          "text": [
            "/content/command-line-treasure-hunt/house/upstairs\n"
          ]
        }
      ]
    },
    {
      "cell_type": "code",
      "source": [
        "ls"
      ],
      "metadata": {
        "colab": {
          "base_uri": "https://localhost:8080/"
        },
        "id": "B0j5hAoDeEJL",
        "outputId": "f33b3e82-ea4e-41cc-e9f5-b7b67057928c"
      },
      "execution_count": null,
      "outputs": [
        {
          "output_type": "stream",
          "name": "stdout",
          "text": [
            "\u001b[0m\u001b[01;34mbedroom\u001b[0m/  README.md\n"
          ]
        }
      ]
    },
    {
      "cell_type": "code",
      "source": [
        "cd bedroom/"
      ],
      "metadata": {
        "colab": {
          "base_uri": "https://localhost:8080/"
        },
        "id": "7AtvknlSeHvg",
        "outputId": "a11d42ef-f1f3-427f-dbc3-6a7800c15482"
      },
      "execution_count": null,
      "outputs": [
        {
          "output_type": "stream",
          "name": "stdout",
          "text": [
            "/content/command-line-treasure-hunt/house/upstairs/bedroom\n"
          ]
        }
      ]
    },
    {
      "cell_type": "code",
      "source": [
        "ls"
      ],
      "metadata": {
        "colab": {
          "base_uri": "https://localhost:8080/"
        },
        "id": "bK4qXFHVeLme",
        "outputId": "4a6e2b75-e55f-44a0-8b6b-6701ab64eb58"
      },
      "execution_count": null,
      "outputs": [
        {
          "output_type": "stream",
          "name": "stdout",
          "text": [
            "\u001b[0m\u001b[01;34mbed\u001b[0m/  \u001b[01;34mcloset\u001b[0m/  TREASURE.md\n"
          ]
        }
      ]
    },
    {
      "cell_type": "code",
      "source": [
        "cat TREASURE.md"
      ],
      "metadata": {
        "colab": {
          "base_uri": "https://localhost:8080/"
        },
        "id": "meJWJRUkeNWu",
        "outputId": "359a491d-7311-4a65-f12c-34ea59b99bc0"
      },
      "execution_count": null,
      "outputs": [
        {
          "output_type": "stream",
          "name": "stdout",
          "text": [
            "# Treasure\n",
            "\n",
            "Congratulations! You found the treasure! It's here in the bedroom directory.\n",
            "\n",
            "Type ``pwd`` to figure out where we are now.\n"
          ]
        }
      ]
    },
    {
      "cell_type": "code",
      "source": [
        "cd bed/"
      ],
      "metadata": {
        "colab": {
          "base_uri": "https://localhost:8080/"
        },
        "id": "6_Jqu3BweQSc",
        "outputId": "31a2248e-08b6-45e9-b294-d8712bb49b81"
      },
      "execution_count": null,
      "outputs": [
        {
          "output_type": "stream",
          "name": "stdout",
          "text": [
            "/content/command-line-treasure-hunt/house/upstairs/bedroom/bed\n"
          ]
        }
      ]
    },
    {
      "cell_type": "code",
      "source": [
        "ls"
      ],
      "metadata": {
        "colab": {
          "base_uri": "https://localhost:8080/"
        },
        "id": "fkC2zeW0eV_V",
        "outputId": "0c70eb14-e724-4b6b-bf73-10b89b4151f8"
      },
      "execution_count": null,
      "outputs": [
        {
          "output_type": "stream",
          "name": "stdout",
          "text": [
            "KITTY.md\n"
          ]
        }
      ]
    },
    {
      "cell_type": "code",
      "source": [
        "cat KITTY.md"
      ],
      "metadata": {
        "colab": {
          "base_uri": "https://localhost:8080/"
        },
        "id": "_Hvvh88UeW4D",
        "outputId": "5da939fb-db3a-4591-d7af-ce68292abab4"
      },
      "execution_count": null,
      "outputs": [
        {
          "output_type": "stream",
          "name": "stdout",
          "text": [
            "# It's a kitty!\n",
            "\n",
            "You found a KITTY.md in the bed/ directory! How soft and cuddly. Congratulations!\n",
            "\n",
            "But it looks lonely. Why don't you make it a DOGGIE.md here in bed/? Use the ``touch`` command to create a new, empty file. Use the atom text editor (or any editor of your choice) to edit the file.\n",
            "\n",
            "```\n",
            "touch DOGGIE.md\n",
            "atom\n",
            "```\n"
          ]
        }
      ]
    },
    {
      "cell_type": "code",
      "source": [
        "!touch DOGGIE.md"
      ],
      "metadata": {
        "id": "5zMjNVnleg5L"
      },
      "execution_count": null,
      "outputs": []
    },
    {
      "cell_type": "code",
      "source": [
        "ls"
      ],
      "metadata": {
        "colab": {
          "base_uri": "https://localhost:8080/"
        },
        "id": "TtcKfyNzgHgO",
        "outputId": "7417e72b-96f1-46ed-e046-7365ee3b5319"
      },
      "execution_count": null,
      "outputs": [
        {
          "output_type": "stream",
          "name": "stdout",
          "text": [
            "DOGGIE.md  KITTY.md\n"
          ]
        }
      ]
    },
    {
      "cell_type": "code",
      "source": [
        "cat DOGGIE.md"
      ],
      "metadata": {
        "id": "sSJTIoHcgN8c"
      },
      "execution_count": null,
      "outputs": []
    },
    {
      "cell_type": "code",
      "source": [
        "# trusting the Ai...\n",
        "!apt-get install nano"
      ],
      "metadata": {
        "colab": {
          "base_uri": "https://localhost:8080/"
        },
        "id": "hz4i1Z8WgRPw",
        "outputId": "9b09dbdb-8f82-4040-a730-f9a744e77662"
      },
      "execution_count": null,
      "outputs": [
        {
          "output_type": "stream",
          "name": "stdout",
          "text": [
            "Reading package lists... Done\n",
            "Building dependency tree... Done\n",
            "Reading state information... Done\n",
            "Suggested packages:\n",
            "  hunspell\n",
            "The following NEW packages will be installed:\n",
            "  nano\n",
            "0 upgraded, 1 newly installed, 0 to remove and 20 not upgraded.\n",
            "Need to get 280 kB of archives.\n",
            "After this operation, 881 kB of additional disk space will be used.\n",
            "Get:1 http://archive.ubuntu.com/ubuntu jammy-updates/main amd64 nano amd64 6.2-1ubuntu0.1 [280 kB]\n",
            "Fetched 280 kB in 1s (428 kB/s)\n",
            "Selecting previously unselected package nano.\n",
            "(Reading database ... 124926 files and directories currently installed.)\n",
            "Preparing to unpack .../nano_6.2-1ubuntu0.1_amd64.deb ...\n",
            "Unpacking nano (6.2-1ubuntu0.1) ...\n",
            "Setting up nano (6.2-1ubuntu0.1) ...\n",
            "update-alternatives: using /bin/nano to provide /usr/bin/editor (editor) in auto mode\n",
            "update-alternatives: using /bin/nano to provide /usr/bin/pico (pico) in auto mode\n",
            "Processing triggers for man-db (2.10.2-1) ...\n"
          ]
        }
      ]
    },
    {
      "cell_type": "code",
      "source": [
        "# was i right to trust the AI?\n",
        "!nano DOGGIE.md"
      ],
      "metadata": {
        "colab": {
          "base_uri": "https://localhost:8080/"
        },
        "id": "ZyQRzX4ngjqm",
        "outputId": "248160c8-913d-406f-ff70-3b9bad8ef9ee"
      },
      "execution_count": null,
      "outputs": [
        {
          "output_type": "stream",
          "name": "stdout",
          "text": [
            "\u001b[?1l\u001b>\u001b[?2004lReceived SIGHUP or SIGTERM\n",
            "\n",
            "Buffer written to DOGGIE.md.save.2\n"
          ]
        }
      ]
    },
    {
      "cell_type": "code",
      "source": [
        "#not sure how that works TwT"
      ],
      "metadata": {
        "id": "bf-XPt6cgoYl"
      },
      "execution_count": null,
      "outputs": []
    },
    {
      "cell_type": "code",
      "source": [
        "# OPTION TWO\n",
        "with open('DOGGIE.md', 'w') as f:\n",
        "    f.write('''You see a dog lying next to the kitty.\n",
        "It is very cute.\n",
        "The kitty won't be lonely anymore! Yay!''')"
      ],
      "metadata": {
        "id": "_visnWuUiuJa"
      },
      "execution_count": null,
      "outputs": []
    },
    {
      "cell_type": "code",
      "source": [
        "cat DOGGIE.md"
      ],
      "metadata": {
        "colab": {
          "base_uri": "https://localhost:8080/"
        },
        "id": "vIFs977CjIqi",
        "outputId": "c4c20a05-8bb4-49ac-de89-f3517e038e89"
      },
      "execution_count": null,
      "outputs": [
        {
          "output_type": "stream",
          "name": "stdout",
          "text": [
            "You see a dog lying next to the kitty.\n",
            "It is very cute. \n",
            "The kitty won't be lonely anymore! Yay!"
          ]
        }
      ]
    },
    {
      "cell_type": "code",
      "source": [
        "# YAYYYYYY"
      ],
      "metadata": {
        "id": "wZ1PYyEJjqq9"
      },
      "execution_count": null,
      "outputs": []
    },
    {
      "cell_type": "code",
      "source": [
        "pwd"
      ],
      "metadata": {
        "colab": {
          "base_uri": "https://localhost:8080/",
          "height": 35
        },
        "id": "HzT9Qx_ojv5U",
        "outputId": "7d0cad3e-28d0-4af5-feef-1e7e7c18a7a7"
      },
      "execution_count": null,
      "outputs": [
        {
          "output_type": "execute_result",
          "data": {
            "text/plain": [
              "'/content/command-line-treasure-hunt/house/upstairs/bedroom/bed'"
            ],
            "application/vnd.google.colaboratory.intrinsic+json": {
              "type": "string"
            }
          },
          "metadata": {},
          "execution_count": 78
        }
      ]
    },
    {
      "cell_type": "code",
      "source": [
        "ls"
      ],
      "metadata": {
        "colab": {
          "base_uri": "https://localhost:8080/"
        },
        "id": "gyMPhWXXjxgH",
        "outputId": "3dc45a67-7422-4260-8893-6ff5e74180a4"
      },
      "execution_count": null,
      "outputs": [
        {
          "output_type": "stream",
          "name": "stdout",
          "text": [
            "DOGGIE.md  KITTY.md\n"
          ]
        }
      ]
    },
    {
      "cell_type": "code",
      "source": [
        "!rm DOGGIE.md.save\n",
        "!rm DOGGIE.md.save.1\n",
        "!rm DOGGIE.md.save.2"
      ],
      "metadata": {
        "id": "ZpKZWKPhjyi-"
      },
      "execution_count": null,
      "outputs": []
    },
    {
      "cell_type": "code",
      "source": [
        "cd .."
      ],
      "metadata": {
        "colab": {
          "base_uri": "https://localhost:8080/"
        },
        "id": "0hescn2lkIZ7",
        "outputId": "4de01f4d-da59-418b-fb0f-385e93ff265e"
      },
      "execution_count": null,
      "outputs": [
        {
          "output_type": "stream",
          "name": "stdout",
          "text": [
            "/content/command-line-treasure-hunt/house/upstairs/bedroom\n"
          ]
        }
      ]
    },
    {
      "cell_type": "code",
      "source": [
        "ls"
      ],
      "metadata": {
        "colab": {
          "base_uri": "https://localhost:8080/"
        },
        "id": "LcaVVNM1kMT-",
        "outputId": "291efba2-ce59-435c-e0d3-5d112fbfe49b"
      },
      "execution_count": null,
      "outputs": [
        {
          "output_type": "stream",
          "name": "stdout",
          "text": [
            "\u001b[0m\u001b[01;34mbed\u001b[0m/  \u001b[01;34mcloset\u001b[0m/  TREASURE.md\n"
          ]
        }
      ]
    },
    {
      "cell_type": "code",
      "source": [
        "cd closet/"
      ],
      "metadata": {
        "colab": {
          "base_uri": "https://localhost:8080/"
        },
        "id": "g2wl4l7rkMpT",
        "outputId": "64167f64-584b-45a6-e4d4-792f61b63a51"
      },
      "execution_count": null,
      "outputs": [
        {
          "output_type": "stream",
          "name": "stdout",
          "text": [
            "/content/command-line-treasure-hunt/house/upstairs/bedroom/closet\n"
          ]
        }
      ]
    },
    {
      "cell_type": "code",
      "source": [
        "ls"
      ],
      "metadata": {
        "colab": {
          "base_uri": "https://localhost:8080/"
        },
        "id": "QxZbynfHkPIK",
        "outputId": "aaeddbf8-1ff5-4ca2-9495-14dda87290e4"
      },
      "execution_count": null,
      "outputs": [
        {
          "output_type": "stream",
          "name": "stdout",
          "text": [
            "MONSTER.md\n"
          ]
        }
      ]
    },
    {
      "cell_type": "code",
      "source": [
        "cat MONSTER.md"
      ],
      "metadata": {
        "colab": {
          "base_uri": "https://localhost:8080/"
        },
        "id": "r6353IpEkQME",
        "outputId": "f70fcdca-cccf-46aa-b5c9-49416d255fe3"
      },
      "execution_count": null,
      "outputs": [
        {
          "output_type": "stream",
          "name": "stdout",
          "text": [
            "# Monster!\n",
            "\n",
            "Uh oh, a monster in the closet/ directory! You can remove it with ``rm``. But just note that this permanantly deletes the file, so be careful and use ``rm`` wisely!\n",
            "\n",
            "```\n",
            "ls\n",
            "rm MONSTER.md\n",
            "ls\n",
            "```\n"
          ]
        }
      ]
    },
    {
      "cell_type": "code",
      "source": [
        "rm MONSTER.md"
      ],
      "metadata": {
        "id": "JVV8h9RMkYke"
      },
      "execution_count": null,
      "outputs": []
    },
    {
      "cell_type": "code",
      "source": [
        "ls"
      ],
      "metadata": {
        "id": "39mL3lTbkbkZ"
      },
      "execution_count": null,
      "outputs": []
    },
    {
      "cell_type": "code",
      "source": [
        "pwd"
      ],
      "metadata": {
        "colab": {
          "base_uri": "https://localhost:8080/",
          "height": 35
        },
        "id": "DoU21FRbkcPN",
        "outputId": "ed7c36d4-8b8c-4104-c079-280da380d5eb"
      },
      "execution_count": null,
      "outputs": [
        {
          "output_type": "execute_result",
          "data": {
            "text/plain": [
              "'/content/command-line-treasure-hunt/house/upstairs/bedroom/closet'"
            ],
            "application/vnd.google.colaboratory.intrinsic+json": {
              "type": "string"
            }
          },
          "metadata": {},
          "execution_count": 91
        }
      ]
    },
    {
      "cell_type": "code",
      "source": [
        "cd .."
      ],
      "metadata": {
        "colab": {
          "base_uri": "https://localhost:8080/"
        },
        "id": "xNyzGzsMkeae",
        "outputId": "3c114f9b-0de5-4ca0-d432-f5a31babab65"
      },
      "execution_count": null,
      "outputs": [
        {
          "output_type": "stream",
          "name": "stdout",
          "text": [
            "/content/command-line-treasure-hunt/house/upstairs/bedroom\n"
          ]
        }
      ]
    },
    {
      "cell_type": "code",
      "source": [
        "ls"
      ],
      "metadata": {
        "colab": {
          "base_uri": "https://localhost:8080/"
        },
        "id": "D8jh7NIhkg0m",
        "outputId": "c9ab90c0-ffc5-4420-b99a-749dfc95cf00"
      },
      "execution_count": null,
      "outputs": [
        {
          "output_type": "stream",
          "name": "stdout",
          "text": [
            "\u001b[0m\u001b[01;34mbed\u001b[0m/  \u001b[01;34mcloset\u001b[0m/  TREASURE.md\n"
          ]
        }
      ]
    },
    {
      "cell_type": "code",
      "source": [
        "cd .."
      ],
      "metadata": {
        "colab": {
          "base_uri": "https://localhost:8080/"
        },
        "id": "nhaxML0EkiJh",
        "outputId": "e3252681-e29b-44a5-b437-1ce8dae927fe"
      },
      "execution_count": null,
      "outputs": [
        {
          "output_type": "stream",
          "name": "stdout",
          "text": [
            "/content/command-line-treasure-hunt/house/upstairs\n"
          ]
        }
      ]
    },
    {
      "cell_type": "code",
      "source": [
        "ls"
      ],
      "metadata": {
        "colab": {
          "base_uri": "https://localhost:8080/"
        },
        "id": "YQmFgbJ2koOD",
        "outputId": "635df425-eb6c-4959-853a-f648c21b3ed2"
      },
      "execution_count": null,
      "outputs": [
        {
          "output_type": "stream",
          "name": "stdout",
          "text": [
            "\u001b[0m\u001b[01;34mbedroom\u001b[0m/  README.md\n"
          ]
        }
      ]
    },
    {
      "cell_type": "code",
      "source": [
        "cd .."
      ],
      "metadata": {
        "colab": {
          "base_uri": "https://localhost:8080/"
        },
        "id": "aMZRkVVrkpU6",
        "outputId": "8bc66452-1b29-416c-bd77-f521998aa32d"
      },
      "execution_count": null,
      "outputs": [
        {
          "output_type": "stream",
          "name": "stdout",
          "text": [
            "/content/command-line-treasure-hunt\n"
          ]
        }
      ]
    },
    {
      "cell_type": "code",
      "source": [
        "ls"
      ],
      "metadata": {
        "colab": {
          "base_uri": "https://localhost:8080/"
        },
        "id": "1hQL6AGXkszl",
        "outputId": "f6dceb68-5545-46b3-ff8e-03118a75869c"
      },
      "execution_count": null,
      "outputs": [
        {
          "output_type": "stream",
          "name": "stdout",
          "text": [
            "\u001b[0m\u001b[01;34mgarden\u001b[0m/  \u001b[01;34mhouse\u001b[0m/  LICENSE  README.md\n"
          ]
        }
      ]
    },
    {
      "cell_type": "code",
      "source": [
        "# That was fun :D"
      ],
      "metadata": {
        "id": "PuLnmrEFkt8a"
      },
      "execution_count": null,
      "outputs": []
    }
  ],
  "metadata": {
    "colab": {
      "provenance": []
    },
    "kernelspec": {
      "display_name": "Python 3",
      "name": "python3"
    },
    "language_info": {
      "name": "python"
    }
  },
  "nbformat": 4,
  "nbformat_minor": 0
}