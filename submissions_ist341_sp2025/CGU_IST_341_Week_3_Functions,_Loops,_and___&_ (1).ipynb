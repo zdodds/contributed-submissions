{
  "cells": [
    {
      "cell_type": "markdown",
      "source": [
        "# Welcome back, IST 341!\n",
        "\n",
        "### _Assignment 3 Notebook: Functions, Loops, and Monte Carlo!_\n",
        "\n",
        "This week is functions first -- and all the rest.\n",
        "\n",
        "Featuring:\n",
        "+ A few self-similar function applications\n",
        "+ An introduction to _looping_ functions\n",
        "+ Monte Carlo Applications! The \"birthday room\" and \"sleepwalker\" (random walks)\n",
        "+ A reading and response on ChatGPT, naturally\n",
        "  + Feel free to ChatGPT it ...\n",
        "  + ... in which case, respond to its response!"
      ],
      "metadata": {
        "id": "UrkiOTiDEjwp"
      }
    },
    {
      "cell_type": "markdown",
      "source": [
        "### <font color=\"DodgerBlue\"><b>Make your own copy of this notebook (as in each week)</b></font>\n",
        "\n",
        "**Submitting** -- When you're ready to submit, be sure to\n",
        "+ **share** the notebook with the <font color=\"darkblue\">instructor</font> (_hi!_):\n",
        "   + `zdodds@gmail.com`\n",
        "+ and also **submit** the url to your notebook at the appropriate spot on Canvas\n"
      ],
      "metadata": {
        "id": "M7dzL4m4fPYf"
      }
    },
    {
      "cell_type": "markdown",
      "source": [
        "# <b>Leading example</b>:  ``i2I_once``\n",
        "\n",
        "The alien is seeking a capital ``'I'``!\n",
        "\n",
        "The function ``i2I_once(s)`` takes in a string ``s``\n",
        "From there,\n",
        "+ if ``s`` is the single character ``'i'``, the function returns a capital ``'I'``\n",
        "+ otherwise, the function returns the original input, ``s``\n",
        "\n",
        "Try it!\n",
        "\n",
        "<b>Shortcut</b>: <tt>control-/</tt> comments and uncomments..."
      ],
      "metadata": {
        "id": "9BqFJ1etLRzR"
      }
    },
    {
      "cell_type": "code",
      "source": [
        "# single-character substitution:\n",
        "\n",
        "def i2I_once(s):\n",
        "  \"\"\" i2I_once changes an input 'i' to an output 'I'\n",
        "      all other inputs remain the same\n",
        "  \"\"\"\n",
        "  if s == 'i':\n",
        "    return 'I'\n",
        "  else:\n",
        "    return s\n",
        "\n",
        "# tests are in the next cell..."
      ],
      "metadata": {
        "id": "1krVLOH0HQsC"
      },
      "execution_count": null,
      "outputs": []
    },
    {
      "cell_type": "code",
      "source": [
        "# Tests to try for i2I_once  (Try control-/ to uncomment them!)\n",
        "\n",
        "print(\"i2I_once('i') should be 'I' <->\", i2I_once('i'))\n",
        "print(\"i2I_once('j') should be 'j' <->\", i2I_once('j'))\n",
        "print()\n",
        "\n",
        "print(\"i2I_once('alien') should be 'alien' <->\", i2I_once('alien'))\n",
        "print(\"i2I_once('icicle') should be 'icicle' <->\", i2I_once('icicle'))"
      ],
      "metadata": {
        "id": "Y421urjHHTDd",
        "colab": {
          "base_uri": "https://localhost:8080/"
        },
        "outputId": "aec963b0-fb75-42c9-8b1c-599d024aed3f"
      },
      "execution_count": null,
      "outputs": [
        {
          "output_type": "stream",
          "name": "stdout",
          "text": [
            "i2I_once('i') should be 'I' <-> I\n",
            "i2I_once('j') should be 'j' <-> j\n",
            "\n",
            "i2I_once('alien') should be 'alien' <-> alien\n",
            "i2I_once('icicle') should be 'icicle' <-> icicle\n"
          ]
        }
      ]
    },
    {
      "cell_type": "markdown",
      "source": [
        "## <b>The problem</b>\n",
        "\n",
        "The \"problem\" is that ``i2I_once`` only works on single-character strings. But... <br> **we'd like it to work on <u>every</u> character in a string!**\n",
        "\n",
        "<br>\n",
        "\n",
        "## <b>The solution!</b>\n",
        "\n",
        "We create a second function, ``i2I_all(s)`` which\n",
        "+ calls ``i2I_once`` on the ***first*** character, ``s[0]``\n",
        "+ then, calls ``i2I_all`` on the ***rest***, ``s[1:]``\n",
        "\n",
        "<b>Important!</b> There needs to be a way to stop!\n",
        "+ The function checks if the input ``s`` has no characters...\n",
        "+ in that case, there is nothing to substitute, and the empty string ``''`` is returned\n",
        "\n",
        "Try it!\n",
        "\n"
      ],
      "metadata": {
        "id": "S3fIcroiHwp1"
      }
    },
    {
      "cell_type": "code",
      "source": [
        "# multiple-character substitution\n",
        "\n",
        "def i2I_all(s):\n",
        "  \"\"\" changes i to I for all characters in the input, s \"\"\"\n",
        "  if s == '':       # EMPTY case!\n",
        "    return ''\n",
        "  else:\n",
        "    return i2I_once(s[0]) + i2I_all(s[1:])  # FIRST and REST\n",
        "\n",
        "# tests are in the next cell...\n",
        "\n"
      ],
      "metadata": {
        "id": "BdvSdeIXHUHB"
      },
      "execution_count": null,
      "outputs": []
    },
    {
      "cell_type": "code",
      "source": [
        "i2I_all('aliiiiiiiiiiiiiiien')"
      ],
      "metadata": {
        "colab": {
          "base_uri": "https://localhost:8080/",
          "height": 35
        },
        "id": "RFTjkFOgePau",
        "outputId": "991d1e69-d583-43ca-89f1-e1f9040f067f"
      },
      "execution_count": null,
      "outputs": [
        {
          "output_type": "execute_result",
          "data": {
            "text/plain": [
              "'alIIIIIIIIIIIIIIIen'"
            ],
            "application/vnd.google.colaboratory.intrinsic+json": {
              "type": "string"
            }
          },
          "metadata": {},
          "execution_count": 6
        }
      ]
    },
    {
      "cell_type": "code",
      "source": [
        "# Tests to try for i2I_all\n",
        "\n",
        "print(\"i2I_all('alien') should be 'alIen' <->\", i2I_all('alien'))\n",
        "print(\"i2I_all('aliiien') should be 'alIIIen' <->\", i2I_all('aliiien'))\n",
        "print()\n",
        "\n",
        "print(\"i2I_all('icicle') should be 'IcIcle' <->\", i2I_all('icicle'))\n",
        "print(\"i2I_all('No eyes to see here') should be 'No eyes to see here' <->\", i2I_all('No eyes to see here'))"
      ],
      "metadata": {
        "id": "lX1tlDNbHVq-",
        "colab": {
          "base_uri": "https://localhost:8080/"
        },
        "outputId": "ba8cf607-4273-477a-b33b-b5b0e5655b4c"
      },
      "execution_count": null,
      "outputs": [
        {
          "output_type": "stream",
          "name": "stdout",
          "text": [
            "i2I_all('alien') should be 'alIen' <-> alIen\n",
            "i2I_all('aliiien') should be 'alIIIen' <-> alIIIen\n",
            "\n",
            "i2I_all('icicle') should be 'IcIcle' <-> IcIcle\n",
            "i2I_all('No eyes to see here') should be 'No eyes to see here' <-> No eyes to see here\n"
          ]
        }
      ]
    },
    {
      "cell_type": "markdown",
      "source": [
        "## <b>An <i>alternative</i> solution...</b>\n",
        "\n",
        "The above solution uses only conditionals (`if` and `else`) and function-calls. Because the function calls _itself_, it's called **recursive** .\n",
        "\n",
        "<br>\n",
        "\n",
        "An alternative approach -- and one that, to be honest, is more often used in practice, uses a **loop**.  Loops express _repetition_. It's a bit glib, but in one sense computers are really just machines for running loops... <font size=\"-2\">That said, the loops are almost always inside functions!</font>  \n",
        "\n",
        "## <b>The <i>Loop</i> solution!</b>\n",
        "\n",
        "We create a second solution, ``i2I_all_loop(s)`` which\n",
        "+ loops over each character, giving each one the name `c` - and then\n",
        "+ calls ``i2I_once`` on ***each*** of those characters, `c`\n",
        "+ and, meanwhile, adds up all of the transformed characters\n",
        "+ In the end, it returns the final **result**.\n",
        "\n",
        "Try it!"
      ],
      "metadata": {
        "id": "BSsaKb79M-pZ"
      }
    },
    {
      "cell_type": "code",
      "source": [
        "# multiple-character substitution\n",
        "\n",
        "def i2I_all_loop(s):\n",
        "  \"\"\" changes i to I for all characters in the input, s \"\"\"\n",
        "  result = ''        # the result starts as the EMPTY string!\n",
        "\n",
        "  for c in s:        # c is the name we are giving to EACH element in s (that is, each character in s)\n",
        "    result = result + i2I_once(c)   # each time, we add the new transformed output to the end of result\n",
        "    # print(\"result is\", result)    # uncomment this to see the process, in action!\n",
        "\n",
        "  return result      # at the end, we return the final, completely-created result string!\n",
        "\n",
        "# tests are in the next cell..."
      ],
      "metadata": {
        "id": "Zar7ZreiOGAl"
      },
      "execution_count": null,
      "outputs": []
    },
    {
      "cell_type": "code",
      "source": [
        "# Tests to try for i2I_all_loop\n",
        "\n",
        "print(\"i2I_all_loop('alien') should be 'alIen' <->\", i2I_all_loop('alien'))\n",
        "print(\"i2I_all_loop('aliiien') should be 'alIIIen' <->\", i2I_all_loop('aliiien'))\n",
        "print()\n",
        "\n",
        "print(\"i2I_all_loop('icicle') should be 'IcIcle' <->\", i2I_all_loop('icicle'))\n",
        "print(\"i2I_all_loop('No eyes to see here') should be 'No eyes to see here' <->\", i2I_all_loop('No eyes to see here'))"
      ],
      "metadata": {
        "id": "8AUnOPghPEPJ",
        "colab": {
          "base_uri": "https://localhost:8080/"
        },
        "outputId": "00a3bca7-c57e-4a4d-b396-95e8a20238db"
      },
      "execution_count": null,
      "outputs": [
        {
          "output_type": "stream",
          "name": "stdout",
          "text": [
            "i2I_all_loop('alien') should be 'alIen' <-> alIen\n",
            "i2I_all_loop('aliiien') should be 'alIIIen' <-> alIIIen\n",
            "\n",
            "i2I_all_loop('icicle') should be 'IcIcle' <-> IcIcle\n",
            "i2I_all_loop('No eyes to see here') should be 'No eyes to see here' <-> No eyes to see here\n"
          ]
        }
      ]
    },
    {
      "cell_type": "markdown",
      "source": [
        "## Loops or Recursion: _Your choice_ ...\n",
        "\n",
        "For these next-few functions, feel free to use loops or recursion.\n",
        "\n",
        "_Suggestion_:  &nbsp; Copy-and-edit the solutions above. Adapt them to the new problem at hand!\n",
        "\n",
        "_Disclaimer_: &nbsp; This is how ***all*** software is created in professional practice: adapting old software that had been solving similar problems!\n",
        "\n",
        "<br>\n",
        "\n",
        "<hr>\n",
        "\n",
        "<br>"
      ],
      "metadata": {
        "id": "pA1aLiC6OGz0"
      }
    },
    {
      "cell_type": "markdown",
      "source": [
        "### <font color=\"darkblue\"><b>Task #1</b></font>: ``spongebobbify_each(s)``\n",
        "\n",
        "The ``i2I_all`` and `i2I_all_loop` and ``i2I_once`` patterns are very powerful -- and very general. Even universal!\n",
        "\n",
        "For <b>task #1</b>, the goal is to write ``spongebobbify_each(s)`` whose goal is to return a randomly-capitalized version of the input string ``s``. For example,\n",
        "\n",
        "``spongebobbify_all('where's gary?')`` might return ``WhERe's gARy?``\n",
        "+ or, it might return ``wHEre'S GArY?``\n",
        "\n",
        "First, we share Python's built-in upper-case and lower-case functions:"
      ],
      "metadata": {
        "id": "E3dQ1H0xLjg_"
      }
    },
    {
      "cell_type": "code",
      "source": [
        "s = 'shout!'\n",
        "print(\"s is\", s)\n",
        "print(\"s.upper() is\", s.upper())"
      ],
      "metadata": {
        "id": "Vw6cf77XOHGi",
        "colab": {
          "base_uri": "https://localhost:8080/"
        },
        "outputId": "2ed522a1-771b-4abd-9fa9-ebf7dd646975"
      },
      "execution_count": null,
      "outputs": [
        {
          "output_type": "stream",
          "name": "stdout",
          "text": [
            "s is shout!\n",
            "s.upper() is SHOUT!\n"
          ]
        }
      ]
    },
    {
      "cell_type": "code",
      "source": [
        "s = 'WHISPER...'\n",
        "print(\"s is\", s)\n",
        "print(\"s.lower() is\", s.lower())"
      ],
      "metadata": {
        "id": "UWJ2vrgyOUC0",
        "colab": {
          "base_uri": "https://localhost:8080/"
        },
        "outputId": "af2d2c72-d22a-4000-ddd9-badc6c20f69c"
      },
      "execution_count": null,
      "outputs": [
        {
          "output_type": "stream",
          "name": "stdout",
          "text": [
            "s is WHISPER...\n",
            "s.lower() is whisper...\n"
          ]
        }
      ]
    },
    {
      "cell_type": "markdown",
      "source": [
        "Notice that\n",
        "+ ``s.upper()`` returns a fully upper-cased version of ``s``\n",
        "+ ``s.lower()`` returns a fully lower-cased version of ``s``\n",
        "+ in both cases, non-letters are left alone..."
      ],
      "metadata": {
        "id": "Ja9-9JfLOiFn"
      }
    },
    {
      "cell_type": "markdown",
      "source": [
        "### We provide the ``once`` ...\n",
        "\n",
        "We provide the one-character version, ``spongebobbify_once(s)``\n",
        "+ Notice that it uses the ``random.choice`` function\n",
        "+ It was the same one we used in rock-paper-scissors\n",
        "\n",
        "Try it out:"
      ],
      "metadata": {
        "id": "R6i_1gFfN_7D"
      }
    },
    {
      "cell_type": "code",
      "source": [
        "# We provide the one-character version, in this case:\n",
        "import random                  #  get the random library\n",
        "\n",
        "def spongebobbify_once(s):\n",
        "  \"\"\" returns the input, randomly \"upper-cased\" or \"lower-cased\" \"\"\"\n",
        "  result = random.choice( [s.upper(), s.lower()] )   # choose one at random\n",
        "  return result\n",
        "\n",
        "# Tests in the next cell..."
      ],
      "metadata": {
        "id": "LiIQoH8hHXP-"
      },
      "execution_count": null,
      "outputs": []
    },
    {
      "cell_type": "code",
      "source": [
        "# Tests to try for spongebobbify_once\n",
        "# There are not \"right\" answers, so we just test them:\n",
        "\n",
        "print(spongebobbify_once('F is for friends who do stuff together!'))\n",
        "print(spongebobbify_once('I knew I shouldn\\'t have gotten out of bed today.'))\n",
        "print()\n",
        "\n",
        "# but we want to use it on single letters!\n",
        "print(spongebobbify_once('a'))\n",
        "print(spongebobbify_once('b'))\n",
        "print(spongebobbify_once('c'))\n",
        "print(spongebobbify_once('d'))\n",
        "print(spongebobbify_once('e'))"
      ],
      "metadata": {
        "id": "uYfr7ERRWaev",
        "colab": {
          "base_uri": "https://localhost:8080/"
        },
        "outputId": "e5a98429-e1c6-40b6-d93a-d023be364222"
      },
      "execution_count": null,
      "outputs": [
        {
          "output_type": "stream",
          "name": "stdout",
          "text": [
            "f is for friends who do stuff together!\n",
            "I KNEW I SHOULDN'T HAVE GOTTEN OUT OF BED TODAY.\n",
            "\n",
            "a\n",
            "b\n",
            "C\n",
            "d\n",
            "e\n"
          ]
        }
      ]
    },
    {
      "cell_type": "markdown",
      "source": [
        "## Now, ``spongebobify_each(s)``\n",
        "\n",
        "<b>Your task</b> is to write ``spongebobify_each(s)``\n",
        "\n",
        "Use the `i2I_all(s)` OR `i2I_all_loop(s)` as guidance and as a template/example. <br>\n",
        "Then, adapt from there:\n",
        "+ How much can be re-used?\n",
        "+ How much works as-is?\n",
        "+ Experiment!\n",
        "\n",
        "It's a remarkably versatile approach!\n",
        "\n",
        "Try our ~~tests~~ quotes -- and add three tests/quotes of your own:\n"
      ],
      "metadata": {
        "id": "nBFQKUs9YY1K"
      }
    },
    {
      "cell_type": "code",
      "source": [
        "# Here, write your  spongebobify_all(s)\n",
        "#\n",
        "import random\n",
        "def spongebobify_all(s):\n",
        "    if s == '':       # EMPTY case!\n",
        "       return ''\n",
        "    else:\n",
        "       return spongebobbify_all(s[0]) + spongebobify_all(s[1:])\n",
        "\n",
        "# Try our tests (next cell) and add three of your own...\n",
        "# Preferably sBoB QuoTeS..."
      ],
      "metadata": {
        "id": "fGGZ9ApSZEW1"
      },
      "execution_count": null,
      "outputs": []
    },
    {
      "cell_type": "code",
      "source": [
        "# Tests to try for spongebobbify_once\n",
        "# There are not \"right\" answers, so we just test them:\n",
        "\n",
        "print(spongebobbify_all('F is for friends who do stuff together!'))\n",
        "print(spongebobbify_all('I knew I shouldn\\'t have gotten out of bed today.'))\n",
        "print(spongebobbify_all('The inner machinations of my mind are an enigma. - Patrick'))\n",
        "print()\n",
        "\n",
        "# Your tests here:"
      ],
      "metadata": {
        "id": "geZNGG45ZMlJ",
        "colab": {
          "base_uri": "https://localhost:8080/"
        },
        "outputId": "6cd2f81e-4194-4ea1-dd46-dcb012d58835"
      },
      "execution_count": null,
      "outputs": [
        {
          "output_type": "stream",
          "name": "stdout",
          "text": [
            "f is for friends who do stuff together!\n",
            "I KNEW I SHOULDN'T HAVE GOTTEN OUT OF BED TODAY.\n",
            "the inner machinations of my mind are an enigma. - patrick\n",
            "\n"
          ]
        }
      ]
    },
    {
      "cell_type": "markdown",
      "source": [
        "### <font color=\"darkblue\"><b>Task #2</b></font>: ``encode_each(s)`` and ``decode_each(s)``\n",
        "\n",
        "also ``encode_once(s)`` and ``decode_once(s)``\n",
        "\n",
        "<br>\n",
        "\n",
        "_Any_ substitution is possible with our key idea:\n",
        "+ replace the **first** element: the ``once``\n",
        "+ continue the process with the **rest**: another ``all``\n",
        "+ be sure to **stop** (``return ''``) when no input remains!\n",
        "\n",
        "For <b>task #2</b>, we invite you to create your own ``encode`` and ``decode`` functions:\n",
        "\n",
        "<br>\n",
        "\n",
        "Your encode (``encode_once`` and ``encode_all``) should\n",
        "+ replace at least ten letters with other characters\n",
        "  + your choice - other letters, punctuation, emojis ``\"☕⚽ 🦔\"`` or some other one-to-one substitution\n",
        "  + totally ok to substitute more than ten: less readable\n",
        "  + it can't be random, because it needs to be reversible!\n",
        "  + use the loop approach or the recursion approach -- up to you! (Both work...)\n",
        "\n",
        "<br>\n",
        "\n",
        "Your decode (``decode_once`` and ``decode_each``) should\n",
        "+ reverse the effects of your encode functions\n",
        "\n",
        "<br>\n",
        "\n",
        "Then, run our tests -- and add three tests of your own\n",
        "+ let's say at least a sentence, or so, in size..."
      ],
      "metadata": {
        "id": "PTNNYYC3TBrA"
      }
    },
    {
      "cell_type": "code",
      "source": [
        "#\n",
        "# Use this cell -- and/or create more cells -- for your encode and decode functions\n",
        "# There will be four functions in total!\n",
        "#\n",
        "def encode_each(s):\n",
        "    if s=='a':\n",
        "      return 'b'\n",
        "    elif s=='b':\n",
        "      return'c'\n",
        "    elif s=='c':\n",
        "      return 'd'\n",
        "    elif s=='d':\n",
        "      return'e'\n",
        "    elif s=='e':\n",
        "      return 'f'\n",
        "    elif s=='f':\n",
        "      return'g'\n",
        "    elif s=='g':\n",
        "      return 'h'\n",
        "    elif s=='h':\n",
        "      return'i'\n",
        "    elif s=='i':\n",
        "      return'j'\n",
        "    elif s=='j':\n",
        "      return 'k'\n",
        "    else:\n",
        "      return s\n",
        "\n",
        "def encode_all(s):\n",
        "    if s=='':\n",
        "      return''\n",
        "    else:\n",
        "      return encode_each(s[0]) + encode_all(s[1:])\n",
        "\n",
        "def decode_each(s):\n",
        "    if s=='b':\n",
        "      return 'a'\n",
        "    elif s=='c':\n",
        "      return'b'\n",
        "    elif s=='d':\n",
        "      return 'c'\n",
        "    elif s=='e':\n",
        "      return'd'\n",
        "    elif s=='f':\n",
        "      return 'e'\n",
        "    elif s=='g':\n",
        "      return'f'\n",
        "    elif s=='h':\n",
        "      return 'g'\n",
        "    elif s=='i':\n",
        "      return'h'\n",
        "    elif s=='j':\n",
        "      return'i'\n",
        "    elif s=='k':\n",
        "      return 'j'\n",
        "    else:\n",
        "      return s\n",
        "\n",
        "\n",
        "def decode_all(s):\n",
        "    if s=='':\n",
        "      return''\n",
        "    else:\n",
        "      return decode_each(s[0])+decode_all(s[1:])\n",
        "\n",
        "# Our tests are below. Then, add three tests of your own:"
      ],
      "metadata": {
        "id": "Ofu844mMVsjg"
      },
      "execution_count": null,
      "outputs": []
    },
    {
      "cell_type": "code",
      "source": [
        "CGU = \"\"\"Claremont Graduate University prepares individuals to be leaders\n",
        "for positive change in the world. Unique in its transdisciplinary approach,\n",
        "the university is dedicated to the creation, dissemination, and application\n",
        "of new knowledge and diverse perspectives through research, practice,\n",
        "creative works, and community engagement.\n",
        "\"\"\"\n",
        "\n",
        "E = encode_each(CGU)\n",
        "print(\"encode_all(CGU) is\", E)\n",
        "\n",
        "D = decode_each(E)\n",
        "print(\"decode_all(E) is\", D)  # should be the original!\n",
        "\n",
        "\n",
        "CMC = \"\"\"Claremont McKenna College's mission is to educate its students\n",
        "for thoughtful and productive lives and responsible leadership in\n",
        "business, government, and the professions, and to support faculty\n",
        "and student scholarship that contribute to intellectual vitality\n",
        "and the understanding of public policy issues.\"\"\"\n",
        "\n",
        "E = encode_each(CMC)\n",
        "print(\"encode_all(CMC) is\", E)\n",
        "\n",
        "D = decode_each(E)\n",
        "print(\"decode_all(E) is\", D)  # should be the original!\n",
        "\n",
        "\n",
        "SCR = \"\"\"The mission of Scripps College is to educate women to\n",
        "develop their intellects and talents through active participation\n",
        "in a community of scholars, so that as graduates they may contribute\n",
        "to society through public and private lives of leadership, service,\n",
        "integrity, and creativity..\"\"\"\n",
        "\n",
        "E = encode_each(SCR)\n",
        "print(\"encode_all(SCR) is\", E)\n",
        "\n",
        "D = decode_each(E)\n",
        "print(\"decode_all(E) is\", D)  # should be the original!\n",
        "\n"
      ],
      "metadata": {
        "id": "LzyRnUL6V1uw",
        "colab": {
          "base_uri": "https://localhost:8080/"
        },
        "outputId": "7a66771a-dba3-48c8-a864-d4c7a320587e"
      },
      "execution_count": null,
      "outputs": [
        {
          "output_type": "stream",
          "name": "stdout",
          "text": [
            "encode_all(CGU) is Claremont Graduate University prepares individuals to be leaders\n",
            "for positive change in the world. Unique in its transdisciplinary approach,\n",
            "the university is dedicated to the creation, dissemination, and application\n",
            "of new knowledge and diverse perspectives through research, practice,\n",
            "creative works, and community engagement.\n",
            "\n",
            "decode_all(E) is Claremont Graduate University prepares individuals to be leaders\n",
            "for positive change in the world. Unique in its transdisciplinary approach,\n",
            "the university is dedicated to the creation, dissemination, and application\n",
            "of new knowledge and diverse perspectives through research, practice,\n",
            "creative works, and community engagement.\n",
            "\n",
            "encode_all(CMC) is Claremont McKenna College's mission is to educate its students\n",
            "for thoughtful and productive lives and responsible leadership in\n",
            "business, government, and the professions, and to support faculty\n",
            "and student scholarship that contribute to intellectual vitality\n",
            "and the understanding of public policy issues.\n",
            "decode_all(E) is Claremont McKenna College's mission is to educate its students\n",
            "for thoughtful and productive lives and responsible leadership in\n",
            "business, government, and the professions, and to support faculty\n",
            "and student scholarship that contribute to intellectual vitality\n",
            "and the understanding of public policy issues.\n",
            "encode_all(SCR) is The mission of Scripps College is to educate women to\n",
            "develop their intellects and talents through active participation\n",
            "in a community of scholars, so that as graduates they may contribute\n",
            "to society through public and private lives of leadership, service,\n",
            "integrity, and creativity..\n",
            "decode_all(E) is The mission of Scripps College is to educate women to\n",
            "develop their intellects and talents through active participation\n",
            "in a community of scholars, so that as graduates they may contribute\n",
            "to society through public and private lives of leadership, service,\n",
            "integrity, and creativity..\n"
          ]
        }
      ]
    },
    {
      "cell_type": "code",
      "source": [
        "#\n",
        "# Above - or here - include three encode/decode tests of your own...\n",
        "Python= '''Python is a powerful, high-level programming language known for its\n",
        "simplicity and readability. It supports multiple programming paradigms,\n",
        "including procedural, object-oriented, and functional programming.\n",
        "With its vast ecosystem of libraries and frameworks, Python is widely used in web development,\n",
        "data science, artificial intelligence, automation, and more.\n",
        "Its clean syntax and extensive community support make it an excellent choice for both\n",
        "beginners and experienced developers.\\n'''\n",
        "\n",
        "E = encode_all(Python)\n",
        "print(\"encode_all(Python) is\", E)\n",
        "\n",
        "D = decode_all(E)\n",
        "print(\"decode_all(E) is\", D)\n",
        "\n",
        "claremont= '''Claremont, California, is a charming city located at the base of the San Gabriel Mountains.\n",
        "Known for its tree-lined streets and the prestigious Claremont Colleges,\n",
        "it offers a vibrant downtown area with shops, restaurants, and art galleries,\n",
        "making it a blend of culture and education.\\n'''\n",
        "\n",
        "E = encode_all(claremont)\n",
        "print(\"encode_all(claremont) is\", E)\n",
        "\n",
        "D = decode_all(E)\n",
        "print(\"decode_all(E) is\", D)\n",
        "\n",
        "Disney= ''' a global entertainment company known for creating iconic animated films, theme parks,\n",
        "and beloved characters like Mickey Mouse. With its rich history, it continues to shape\n",
        "the entertainment industry through innovation and storytelling magic.\\n'''\n",
        "\n",
        "E = encode_all(Disney)\n",
        "print(\"encode_all(Disney) is\", E)\n",
        "\n",
        "D = decode_all(E)\n",
        "print(\"decode_all(E) is\", D)\n",
        "#"
      ],
      "metadata": {
        "id": "sJ9Wcp1GeCgj",
        "colab": {
          "base_uri": "https://localhost:8080/"
        },
        "outputId": "0590f0aa-d09e-420c-ebad-b15bd2171415"
      },
      "execution_count": null,
      "outputs": [
        {
          "output_type": "stream",
          "name": "stdout",
          "text": [
            "encode_all(Python) is Pytion js b powfrgul, ijhi-lfvfl prohrbmmjnh lbnhubhf known gor jts\n",
            "sjmpljdjty bne rfbebcjljty. It supports multjplf prohrbmmjnh pbrbejhms,\n",
            "jndluejnh prodfeurbl, ockfdt-orjfntfe, bne gundtjonbl prohrbmmjnh.\n",
            "Wjti jts vbst fdosystfm og ljcrbrjfs bne grbmfworks, Pytion js wjefly usfe jn wfc efvflopmfnt,\n",
            "ebtb sdjfndf, brtjgjdjbl jntflljhfndf, butombtjon, bne morf.\n",
            "Its dlfbn syntbx bne fxtfnsjvf dommunjty support mbkf jt bn fxdfllfnt diojdf gor coti \n",
            "cfhjnnfrs bne fxpfrjfndfe efvflopfrs.\n",
            "\n",
            "decode_all(E) is Python is a powerful, high-level programming language jnown for its\n",
            "simplicity and readability. It supports multiple programming paradigms,\n",
            "including procedural, object-oriented, and functional programming.\n",
            "With its vast ecosystem of libraries and frameworjs, Python is widely used in web development,\n",
            "data science, artificial intelligence, automation, and more.\n",
            "Its clean syntax and extensive community support maje it an excellent choice for both \n",
            "beginners and experienced developers.\n",
            "\n",
            "encode_all(claremont) is Clbrfmont, Cbljgornjb, js b dibrmjnh djty lodbtfe bt tif cbsf og tif Sbn Gbcrjfl Mountbjns.\n",
            "Known gor jts trff-ljnfe strffts bne tif prfstjhjous Clbrfmont Collfhfs, \n",
            "jt oggfrs b vjcrbnt eowntown brfb wjti siops, rfstburbnts, bne brt hbllfrjfs, \n",
            "mbkjnh jt b clfne og dulturf bne feudbtjon.\n",
            "\n",
            "decode_all(E) is Claremont, California, is a charming city located at the base of the San Gabriel Mountains.\n",
            "Known for its tree-lined streets and the prestigious Claremont Colleges, \n",
            "it offers a vibrant downtown area with shops, restaurants, and art galleries, \n",
            "majing it a blend of culture and education.\n",
            "\n",
            "encode_all(Disney) is js b hlocbl fntfrtbjnmfnt dompbny known gor drfbtjnh jdonjd bnjmbtfe gjlms, tifmf pbrks, \n",
            "bne cflovfe dibrbdtfrs ljkf Mjdkfy Mousf. Wjti jts rjdi ijstory, jt dontjnufs to sibpf \n",
            "tif fntfrtbjnmfnt jneustry tirouhi jnnovbtjon bne storytflljnh mbhjd.\n",
            "\n",
            "decode_all(E) is is a global entertainment company jnown for creating iconic animated films, theme parjs, \n",
            "and beloved characters lije Micjey Mouse. With its rich history, it continues to shape \n",
            "the entertainment industry through innovation and storytelling magic.\n",
            "\n"
          ]
        }
      ]
    },
    {
      "cell_type": "markdown",
      "source": [
        "### <font color=\"darkblue\"><b>Task #3: Counting!</b></font> &nbsp; ``vwl_once(s)`` and ``vwl_count(s)``\n",
        "\n",
        "<br>\n",
        "\n",
        "This technique handles _any_ substitution, even numeric ones!\n",
        "\n",
        "Next, our goal will be to ***count*** the number of vowels in an input string ``s``:\n",
        "+ we use ``vwl_once(s)`` to give a count of ``1`` to vowels\n",
        "+ and we give a count of ``0`` to everything that's not a vowel\n",
        "+ For now, we'll count ``aeiou`` as vowels, and their uppercase selves\n",
        "\n",
        "Then, **you** will write  ``vwl_count(s)`` to handle arbitrary-sized inputs!\n",
        "+ The first functions is written, as shown below.\n",
        "+ The second one is prepared, and your task is to complete it...\n",
        "+ It will be very much like previous functions!\n",
        "\n",
        "<br>\n",
        "\n",
        "Then, try it out -- analyze the \"vowel-content\" of the three mission statements above -- and test your own and a friend's prose-paragraphs:"
      ],
      "metadata": {
        "id": "yquk1xgWXz2z"
      }
    },
    {
      "cell_type": "code",
      "source": [
        "#\n",
        "# Here are vwl_once and vwl_all\n",
        "#\n",
        "\n",
        "def vwl_once(s):\n",
        "  \"\"\" returns a score of 1 for single-character vowels aeiou\n",
        "      returns a score of 0 for everything else\n",
        "  \"\"\"\n",
        "  if len(s) != 1:    # not a single-character? score is 0\n",
        "    return 0\n",
        "  else:\n",
        "    s = s.lower()    # simplify by making s lower case\n",
        "    if s in 'aeiou':      # if s is in that string, it's a vowel: score is 1\n",
        "      return 1\n",
        "    else:                 # if not: score is 0\n",
        "      return 0\n",
        "\n",
        "\n",
        "def vwl_count(s):\n",
        "  \"\"\" returns the total \"vowel-score for an input string s\n",
        "      that is, we return the number of vowels in s\n",
        "  \"\"\"\n",
        "  # you need to write this one!\n",
        "  # use the previous examples (especially the \"each\" examples) as a guide! :-)\n",
        "  if s=='':\n",
        "      return 0\n",
        "  else:\n",
        "      s = s.lower()\n",
        "  if s[0] in 'aeiou':\n",
        "    return 1 + vwl_count(s[1:])\n",
        "  else:\n",
        "    return 0+vwl_count(s[1:])\n",
        "\n",
        "\n",
        "# Tests and tests-to-write are in the next cells:"
      ],
      "metadata": {
        "id": "ffMaiI26eIZQ"
      },
      "execution_count": null,
      "outputs": []
    },
    {
      "cell_type": "code",
      "source": [
        "print(\"vwl_count('English usually has lots of vowels.') should be 10 <->\", vwl_count('English usually has lots of vowels.'))\n",
        "print(\"The CGU mission statement has this many vowels: (let's see!) <->\", vwl_count(CGU))"
      ],
      "metadata": {
        "id": "YCtNmfnZetpe",
        "colab": {
          "base_uri": "https://localhost:8080/"
        },
        "outputId": "66df454b-6265-4ad2-bee6-090e2a6cd6ae"
      },
      "execution_count": null,
      "outputs": [
        {
          "output_type": "stream",
          "name": "stdout",
          "text": [
            "vwl_count('English usually has lots of vowels.') should be 10 <-> 10\n",
            "The CGU mission statement has this many vowels: (let's see!) <-> 110\n"
          ]
        }
      ]
    },
    {
      "cell_type": "code",
      "source": [
        "#\n",
        "# Part 1 task: determine which mission statement has the most vowels-per-character!\n",
        "#\n",
        "#        Hint: count the vowels, then use len to determine vowels-per-character!\n",
        "#        Compare the three strings already defined above:   CGU,  CMC,  and SCR\n",
        "\n",
        "print(\"The CGU mission statement has this many vowels: (let's see!) <->\", vwl_count(CGU))\n",
        "print(\"The CMC mission statement has this many vowels: (let's see!) <->\", vwl_count(CMC))\n",
        "print(\"The SCR mission statement has this many vowels: (let's see!) <->\", vwl_count(SCR))\n",
        "\n",
        "if vwl_count(CGU) > vwl_count(CMC):\n",
        "  if vwl_count(CGU) > vwl_count(SCR):\n",
        "    print(\"CGU has the most vowels\")\n",
        "  elif vwl_count(SCR) > vwl_count(CGU):\n",
        "     print(\"SCR has the most vowels\")\n",
        "elif vwl_count(CMC) > vwl_count(CGU):\n",
        "   if vwl_count(CMC) > vwl_count(SCR):\n",
        "    print(\"CMC has the most vowels\")\n",
        "   elif vwl_count(SCR) > vwl_count(CMC):\n",
        "     print(\"SCR has the most vowels\")\n",
        "\n"
      ],
      "metadata": {
        "id": "Vy2Q-bAdcIzB",
        "colab": {
          "base_uri": "https://localhost:8080/"
        },
        "outputId": "f5767392-d51e-400a-8571-f735e88edd99"
      },
      "execution_count": null,
      "outputs": [
        {
          "output_type": "stream",
          "name": "stdout",
          "text": [
            "The CGU mission statement has this many vowels: (let's see!) <-> 110\n",
            "The CMC mission statement has this many vowels: (let's see!) <-> 93\n",
            "The SCR mission statement has this many vowels: (let's see!) <-> 91\n",
            "CGU has the most vowels\n"
          ]
        }
      ]
    },
    {
      "cell_type": "code",
      "source": [
        "#\n",
        "# Part 2 task: determine whose prose is more vowel-rich?\n",
        "# + find a paragraph of prose you've written\n",
        "# + find a paragraph a friend has written (or another one that you have!)\n",
        "#\n",
        "# Assign each to a variable:\n",
        "\n",
        "YOURS = \"\"\"  Disney is a global entertainment company known for creating iconic animated films,\n",
        "theme parks, and beloved characters like Mickey Mouse. With its rich history,\n",
        "it continues to shape the entertainment industry through innovation and storytelling magic.\n",
        "\"\"\"\n",
        "\n",
        "THEIRS = \"\"\"  Universal Studios is a world-renowned theme park and entertainment company,\n",
        "known for its thrilling rides, immersive attractions, and iconic movie franchises like\n",
        "Jurassic Park and Harry Potter. Visitors can experience behind-the-scenes glimpses of film production,\n",
        "while enjoying a wide range of entertainment and dining options.\n",
        "\"\"\"\n",
        "\n",
        "#\n",
        "# This analysis is similar to the mission statements...\n",
        "\n",
        "print(\"The YOURS  has this many vowels: (let's see!) <->\", vwl_count(YOURS))\n",
        "print(\"The THEIRS  has this many vowels: (let's see!) <->\", vwl_count(THEIRS))\n",
        "\n",
        "if vwl_count(YOURS) > vwl_count(THEIRS):\n",
        " print('YOURS has more vowels than THEIRS')\n",
        "else:\n",
        " print('THEIRS has more vowels than YOURS')\n",
        "#\n"
      ],
      "metadata": {
        "id": "qNmOUfXrckDv",
        "colab": {
          "base_uri": "https://localhost:8080/"
        },
        "outputId": "f49f5783-a961-4788-e9e5-b1e0e62d123d"
      },
      "execution_count": null,
      "outputs": [
        {
          "output_type": "stream",
          "name": "stdout",
          "text": [
            "The YOURS  has this many vowels: (let's see!) <-> 77\n",
            "The THEIRS  has this many vowels: (let's see!) <-> 103\n",
            "THEIRS has more vowels than YOURS\n"
          ]
        }
      ]
    },
    {
      "cell_type": "markdown",
      "metadata": {
        "id": "keRyNeHE3gF4"
      },
      "source": [
        "<br>\n",
        "\n",
        "# Loops!\n",
        "\n",
        "in addition, this notebook combines last week's ideas (functions and slicing/indexing) with the most important time-saving capability of programming languages: <i>repetition</i>\n",
        "\n",
        "That is, we're diving into <i><b>loops</b></i>\n",
        "\n",
        "In addition, we explore more deeply a library we used in the rock-paper-scissors problem, namely the <b><tt>random</tt></b> library.\n",
        "\n",
        "Together, <i>randomness</i> and <i>loops</i> are a powerful combination. Later in this notebook, you will create a <i>Monte Carlo simulations</i> using randomness-within-loops.\n",
        "\n",
        "<hr>\n",
        "\n",
        "## Onward!\n",
        "\n",
        "<br>"
      ]
    },
    {
      "cell_type": "code",
      "execution_count": null,
      "metadata": {
        "id": "djYWrO0u3gGA"
      },
      "outputs": [],
      "source": [
        "\n",
        "# this imports the library named random\n",
        "\n",
        "import random\n",
        "\n",
        "# once it's imported, you are able to call random.choice(L) for any sequence L\n",
        "# try it:"
      ]
    },
    {
      "cell_type": "code",
      "execution_count": null,
      "metadata": {
        "id": "RPrqK2Sr3gGC",
        "colab": {
          "base_uri": "https://localhost:8080/"
        },
        "outputId": "12bb44cb-112b-42ac-8839-4df2fcc7cc4b"
      },
      "outputs": [
        {
          "output_type": "stream",
          "name": "stdout",
          "text": [
            "result is claremont\n"
          ]
        }
      ],
      "source": [
        "\n",
        "# Try out random.choice -- several times!\n",
        "result = random.choice( ['claremont', 'graduate', 'university'] )\n",
        "print(\"result is\", result)"
      ]
    },
    {
      "cell_type": "code",
      "execution_count": null,
      "metadata": {
        "id": "AReUp5wT3gGD",
        "colab": {
          "base_uri": "https://localhost:8080/"
        },
        "outputId": "09fad199-26de-44a0-b6ee-df61b90f32fe"
      },
      "outputs": [
        {
          "output_type": "stream",
          "name": "stdout",
          "text": [
            "result is graduate\n",
            "total is 0\n",
            "result is graduate\n",
            "total is 0\n",
            "result is university\n",
            "total is 0\n",
            "result is university\n",
            "total is 0\n",
            "result is graduate\n",
            "total is 0\n",
            "result is university\n",
            "total is 0\n",
            "result is university\n",
            "total is 0\n",
            "result is university\n",
            "total is 0\n",
            "result is university\n",
            "total is 0\n",
            "result is claremont\n",
            "total is 1\n",
            "result is claremont\n",
            "total is 2\n",
            "result is university\n",
            "total is 2\n",
            "result is graduate\n",
            "total is 2\n",
            "result is university\n",
            "total is 2\n",
            "result is claremont\n",
            "total is 3\n",
            "result is university\n",
            "total is 3\n",
            "result is graduate\n",
            "total is 3\n",
            "result is graduate\n",
            "total is 3\n",
            "result is graduate\n",
            "total is 3\n",
            "result is graduate\n",
            "total is 3\n",
            "result is graduate\n",
            "total is 3\n",
            "result is claremont\n",
            "total is 4\n",
            "result is university\n",
            "total is 4\n",
            "result is graduate\n",
            "total is 4\n",
            "result is university\n",
            "total is 4\n",
            "result is university\n",
            "total is 4\n",
            "result is graduate\n",
            "total is 4\n",
            "result is university\n",
            "total is 4\n",
            "result is graduate\n",
            "total is 4\n",
            "result is university\n",
            "total is 4\n"
          ]
        }
      ],
      "source": [
        "\n",
        "# let's see a loop do this 10 times!\n",
        "total = 0\n",
        "\n",
        "for i in range(30):                # loop 10 times\n",
        "\n",
        "    result = random.choice( ['claremont', 'graduate', 'university'] ) # choose\n",
        "    if result == ('claremont'):\n",
        "       total = total + 1\n",
        "    print(\"result is\", result)     # print\n",
        "    print(\"total is\", total)       # print"
      ]
    },
    {
      "cell_type": "code",
      "execution_count": null,
      "metadata": {
        "id": "8aAzqlsj3gGF"
      },
      "outputs": [],
      "source": [
        "\n",
        "#\n",
        "# you can also import a library can be imported by using this line:\n",
        "\n",
        "from random import *\n",
        "\n",
        "# when the above line is run, you are able to call choice(L) for any sequence L\n",
        "#\n",
        "# note that you won't need random.choice(L)\n",
        "# let's try it!"
      ]
    },
    {
      "cell_type": "code",
      "execution_count": null,
      "metadata": {
        "id": "SKvXsosu3gGG",
        "colab": {
          "base_uri": "https://localhost:8080/"
        },
        "outputId": "18c53e03-b1ca-49f4-ea3b-e11aa8e40137"
      },
      "outputs": [
        {
          "output_type": "stream",
          "name": "stdout",
          "text": [
            "result is scissors\n"
          ]
        }
      ],
      "source": [
        "\n",
        "result = choice( [\"rock\", \"paper\", \"scissors\"] )\n",
        "print(\"result is\", result)"
      ]
    },
    {
      "cell_type": "code",
      "execution_count": null,
      "metadata": {
        "id": "KMZMwPDR3gGH",
        "colab": {
          "base_uri": "https://localhost:8080/"
        },
        "outputId": "d1967a4e-e0f5-45e2-a51f-0c3dffe079b3"
      },
      "outputs": [
        {
          "output_type": "stream",
          "name": "stdout",
          "text": [
            "[0, 1, 2, 3, 4, 5, 6, 7, 8, 9, 10, 11, 12, 13, 14, 15, 16, 17, 18, 19, 20, 21, 22, 23, 24, 25, 26, 27, 28, 29, 30, 31, 32, 33, 34, 35, 36, 37, 38, 39, 40, 41, 42, 43, 44, 45, 46, 47, 48, 49, 50, 51, 52, 53, 54, 55, 56, 57, 58, 59, 60, 61, 62, 63, 64, 65, 66, 67, 68, 69, 70, 71, 72, 73, 74, 75, 76, 77, 78, 79, 80, 81, 82, 83, 84, 85, 86, 87, 88, 89, 90, 91, 92, 93, 94, 95, 96, 97, 98, 99]\n"
          ]
        }
      ],
      "source": [
        "\n",
        "# Python can create lists of any integers you'd like...\n",
        "L = list(range(0,100))    # try different values; try omitting/changing the 0\n",
        "print(L)"
      ]
    },
    {
      "cell_type": "code",
      "execution_count": null,
      "metadata": {
        "id": "hjbvKcOx3gGI",
        "colab": {
          "base_uri": "https://localhost:8080/"
        },
        "outputId": "b62f7f1b-7b9a-4d10-bbff-77bdf6953b72"
      },
      "outputs": [
        {
          "output_type": "stream",
          "name": "stdout",
          "text": [
            "result is 25\n"
          ]
        }
      ],
      "source": [
        "\n",
        "# combining these, we can choose random integers from a list\n",
        "result = choice( range(0,100) )   # from 0 to 99\n",
        "print(\"result is\", result)"
      ]
    },
    {
      "cell_type": "code",
      "execution_count": null,
      "metadata": {
        "id": "-vct4ZWf3gGJ",
        "colab": {
          "base_uri": "https://localhost:8080/"
        },
        "outputId": "077f13ba-df21-489c-d77c-1a20fb571f22"
      },
      "outputs": [
        {
          "output_type": "stream",
          "name": "stdout",
          "text": [
            "result is 64\n",
            "result is 72\n",
            "result is 69\n",
            "result is 36\n",
            "result is 16\n",
            "result is 73\n",
            "result is 85\n",
            "result is 92\n",
            "result is 15\n",
            "result is 67\n"
          ]
        }
      ],
      "source": [
        "\n",
        "# let's run this 10 times!\n",
        "for i in range(0,10):\n",
        "    result = choice( range(0,100) )   # from 0 to 99\n",
        "    print(\"result is\", result)"
      ]
    },
    {
      "cell_type": "code",
      "execution_count": null,
      "metadata": {
        "id": "jqs9df3l3gGJ",
        "colab": {
          "base_uri": "https://localhost:8080/"
        },
        "outputId": "93ff27c2-be64-42a1-9afc-b2891256b22e"
      },
      "outputs": [
        {
          "output_type": "stream",
          "name": "stdout",
          "text": [
            "i is 0\n",
            "i is 1\n",
            "i is 2\n"
          ]
        }
      ],
      "source": [
        "\n",
        "# let's get more comfortable with loops...\n",
        "\n",
        "for i in [0,1,2]:     # Key: What variable is being defined and set?!\n",
        "    print(\"i is\", i)\n"
      ]
    },
    {
      "cell_type": "code",
      "execution_count": null,
      "metadata": {
        "id": "eb2C9OKS3gGJ",
        "colab": {
          "base_uri": "https://localhost:8080/"
        },
        "outputId": "7e51ca67-7bb7-4f06-efc2-950b4d58150c"
      },
      "outputs": [
        {
          "output_type": "stream",
          "name": "stdout",
          "text": [
            "i is 0\n",
            "i is 1\n",
            "i is 2\n"
          ]
        }
      ],
      "source": [
        "\n",
        "# Note that range(0,3) generates [0,1,2]\n",
        "\n",
        "for i in range(0,3):     # Key: What variable is being defined and set?!\n",
        "    print(\"i is\", i)\n",
        "\n",
        "# When would you _not_ want to use range for integers?"
      ]
    },
    {
      "cell_type": "code",
      "execution_count": null,
      "metadata": {
        "id": "H8qzyqaS3gGU",
        "colab": {
          "base_uri": "https://localhost:8080/"
        },
        "outputId": "af132677-47f7-431f-ea66-2278d750f067"
      },
      "outputs": [
        {
          "output_type": "stream",
          "name": "stdout",
          "text": [
            "x is 2\n",
            "x is 15\n",
            "x is 2025\n"
          ]
        }
      ],
      "source": [
        "\n",
        "# Usually i is for counting, x is for other things (wise, not req.)\n",
        "\n",
        "for x in [2,15,2025]:     # Key: the loop variable\n",
        "    print(\"x is\", x)\n",
        "\n",
        "# When would you _not_ want to use range for integers?"
      ]
    },
    {
      "cell_type": "code",
      "execution_count": null,
      "metadata": {
        "id": "SCG79oyN3gGU",
        "colab": {
          "base_uri": "https://localhost:8080/"
        },
        "outputId": "f8d020c6-d996-4cd7-f15b-6697d5f2aa40"
      },
      "outputs": [
        {
          "output_type": "stream",
          "name": "stdout",
          "text": [
            "Happy birthday!\n",
            "Happy birthday!\n",
            "Happy birthday!\n",
            "Happy birthday!\n",
            "Happy birthday!\n",
            "Happy birthday!\n",
            "Happy birthday!\n",
            "Happy birthday!\n",
            "Happy birthday!\n",
            "Happy birthday!\n",
            "Happy birthday!\n",
            "Happy birthday!\n",
            "Happy birthday!\n",
            "Happy birthday!\n",
            "Happy birthday!\n",
            "Happy birthday!\n",
            "Happy birthday!\n",
            "Happy birthday!\n",
            "Happy birthday!\n",
            "Happy birthday!\n",
            "Happy birthday!\n",
            "Happy birthday!\n",
            "Happy birthday!\n",
            "Happy birthday!\n",
            "Happy birthday!\n",
            "Happy birthday!\n",
            "Happy birthday!\n",
            "Happy birthday!\n",
            "Happy birthday!\n",
            "Happy birthday!\n",
            "Happy birthday!\n",
            "Happy birthday!\n",
            "Happy birthday!\n",
            "Happy birthday!\n",
            "Happy birthday!\n",
            "Happy birthday!\n",
            "Happy birthday!\n",
            "Happy birthday!\n",
            "Happy birthday!\n",
            "Happy birthday!\n",
            "Happy birthday!\n",
            "Happy birthday!\n"
          ]
        }
      ],
      "source": [
        "\n",
        "# How could we get this to print \"Happy birthday!\" 42 times?\n",
        "\n",
        "for i in range(0,42):\n",
        "    print('Happy birthday!')"
      ]
    },
    {
      "cell_type": "markdown",
      "metadata": {
        "id": "7KFo8pX73gGV"
      },
      "source": [
        "<br>\n",
        "\n",
        "#### Functions often use loops... Watch out!\n",
        "+ <tt><b>return</b></tt> is <i>more powerful</i> than the loop\n",
        "+ <tt><b>return</b></tt> <i>always</i> wins!\n",
        "\n",
        "Take a look:"
      ]
    },
    {
      "cell_type": "code",
      "execution_count": null,
      "metadata": {
        "id": "hzE-We7i3gGV",
        "colab": {
          "base_uri": "https://localhost:8080/"
        },
        "outputId": "1122fc15-08cf-4ba6-d079-3ef3902f30eb"
      },
      "outputs": [
        {
          "output_type": "stream",
          "name": "stdout",
          "text": [
            "i is 0\n",
            "i is 1\n",
            "i is 2\n"
          ]
        }
      ],
      "source": [
        "\n",
        "# return _after_ a loop:\n",
        "\n",
        "def funA():\n",
        "    for i in range(0,3):\n",
        "        print(\"i is\", i)\n",
        "    return\n",
        "funA()\n",
        "\n",
        "# why does this not print anything?!??\n"
      ]
    },
    {
      "cell_type": "code",
      "execution_count": null,
      "metadata": {
        "id": "n4nsuJUZ3gGW",
        "colab": {
          "base_uri": "https://localhost:8080/"
        },
        "outputId": "5350dc26-8831-46d5-94e8-ff9298322e67"
      },
      "outputs": [
        {
          "output_type": "stream",
          "name": "stdout",
          "text": [
            "i is 0\n"
          ]
        }
      ],
      "source": [
        "\n",
        "# return _within_ a loop:\n",
        "\n",
        "def funB():\n",
        "    for i in range(0,3):\n",
        "       print(\"i is\", i)\n",
        "       return\n",
        "funB()\n",
        "# What do we need here?  (Is this what you expect?!)\n"
      ]
    },
    {
      "cell_type": "code",
      "execution_count": null,
      "metadata": {
        "id": "KTm78DFX3gGW",
        "colab": {
          "base_uri": "https://localhost:8080/"
        },
        "outputId": "0697d4db-8003-4ac8-dfbd-2126b90e6e1f"
      },
      "outputs": [
        {
          "output_type": "stream",
          "name": "stdout",
          "text": [
            "i is 2\n"
          ]
        }
      ],
      "source": [
        "\n",
        "# let's add an if statement (a conditional)\n",
        "#              ... to test different indentations\n",
        "\n",
        "def funB1():\n",
        "    for i in range(1,6):\n",
        "        if i%2 == 0:\n",
        "            print(\"i is\", i)\n",
        "            return\n",
        "funB1()"
      ]
    },
    {
      "cell_type": "markdown",
      "metadata": {
        "id": "U1e4MYjc3gGW"
      },
      "source": [
        "<br>\n",
        "\n",
        "#### Accumulators\n",
        "+ a <i>very</i> common approach is to use a loop to <i>accumulate</i> a desired result\n",
        "+ the idea is to start the result at a \"nothing\" value, which is not always zero...\n",
        "+ then operate on it until it becomes the final result!\n",
        "\n",
        "#### factorial\n",
        "+ <pre>fac(5) == 1*2*3*4*5</pre>\n",
        "+ <pre>fac(N) == 1*2*3*4* ... *(N-2)*(N-1)*N</pre>\n",
        "\n",
        "#### addup\n",
        "+ <pre>addup(5) == 1+2+3+4+5</pre>\n",
        "+ <pre>addup(N) == 1+2+3+4+ ... +(N-2)+(N-1)+N</pre>\n",
        "\n",
        "<br>"
      ]
    },
    {
      "cell_type": "code",
      "execution_count": null,
      "metadata": {
        "id": "NZhaHVNV3gGY",
        "colab": {
          "base_uri": "https://localhost:8080/"
        },
        "outputId": "54748da0-f291-42a8-db38-2c9205802641"
      },
      "outputs": [
        {
          "output_type": "execute_result",
          "data": {
            "text/plain": [
              "10"
            ]
          },
          "metadata": {},
          "execution_count": 83
        }
      ],
      "source": [
        "\n",
        "# an add-em-up function\n",
        "\n",
        "def addup(N):\n",
        "    \"\"\" adds from 1 through N (inclusive)\n",
        "    \"\"\"\n",
        "    result = 0\n",
        "\n",
        "    for x in range(1,N+1):\n",
        "        result = result + x\n",
        "\n",
        "    return result\n",
        "\n",
        "# addup(4) should be 0+1+2+3+4 == 10\n",
        "addup(4)"
      ]
    },
    {
      "cell_type": "code",
      "execution_count": null,
      "metadata": {
        "id": "JscgqV1Q3gGY",
        "colab": {
          "base_uri": "https://localhost:8080/"
        },
        "outputId": "c748c44e-513c-48ad-ecba-69198801d922"
      },
      "outputs": [
        {
          "output_type": "execute_result",
          "data": {
            "text/plain": [
              "24"
            ]
          },
          "metadata": {},
          "execution_count": 84
        }
      ],
      "source": [
        "\n",
        "# an factorial function\n",
        "\n",
        "def fac(N):\n",
        "    \"\"\" a factorial function, returns the factorial of the input N\n",
        "    \"\"\"\n",
        "    result = 1\n",
        "\n",
        "    for x in range(1,N+1):\n",
        "        result = result*x\n",
        "\n",
        "    return result\n",
        "\n",
        "# fac(4) should be 1*2*3*4 == 24\n",
        "fac(4)"
      ]
    },
    {
      "cell_type": "code",
      "execution_count": null,
      "metadata": {
        "id": "RchpwL0V3gGZ",
        "colab": {
          "base_uri": "https://localhost:8080/"
        },
        "outputId": "1698c91d-e4a0-4b97-a3f1-ea056744a20b"
      },
      "outputs": [
        {
          "output_type": "stream",
          "name": "stdout",
          "text": [
            "40\n",
            "40\n",
            "fore!\n",
            "tee\n",
            "tttto\n"
          ]
        }
      ],
      "source": [
        "# Loops we tried in our \"breakout quiz\":\n",
        "\n",
        "# upper left\n",
        "result = 1\n",
        "for x in [2,5,1,4]:\n",
        "    result *= x\n",
        "print(result)\n",
        "\n",
        "# upper right\n",
        "x = 0\n",
        "for i in range(4):\n",
        "    x += 10\n",
        "print(x)\n",
        "\n",
        "# lower left\n",
        "L = ['golf','fore!','club','tee']\n",
        "for i in range(len(L)):\n",
        "    if i%2 == 1:\n",
        "        print(L[i])\n",
        "\n",
        "# lower right\n",
        "S = 'time to think this over! '\n",
        "result = ''\n",
        "for i in range(len(S)):\n",
        "    if S[i-1] == ' ':\n",
        "        result += S[i]\n",
        "print(result)\n",
        "\n"
      ]
    },
    {
      "cell_type": "code",
      "execution_count": null,
      "metadata": {
        "id": "FNuv6DoJ3gGa",
        "colab": {
          "base_uri": "https://localhost:8080/"
        },
        "outputId": "62327e29-db22-42dc-80ef-1793585e19a4"
      },
      "outputs": [
        {
          "output_type": "stream",
          "name": "stdout",
          "text": [
            "Start!\n"
          ]
        }
      ],
      "source": [
        "\n",
        "# staging area...\n",
        "\n",
        "print(\"Start!\")\n"
      ]
    },
    {
      "cell_type": "code",
      "execution_count": null,
      "metadata": {
        "id": "E5d6udae3gGa"
      },
      "outputs": [],
      "source": [
        "\n",
        "#\n",
        "# Functions with for loops to write:\n",
        "#\n",
        "# for loops:\n",
        "#\n",
        "# summer(L)               returns the sum of the #'s in L\n",
        "# summedOdds(L)           returns the sum of the _odd_ #'s in L\n",
        "# summedExcept(exc, L)    returns the sum of all #'s in L not equal to exc\n",
        "#                                 exc is the \"exception\"\n",
        "# summedUpto(exc, L)      returns the sum of all #'s in L upto exc (not including exc)\n",
        "\n",
        "\n",
        "# examples:\n",
        "#       summer( [2,3,4,1] )    ->  10\n",
        "#   summedOdds( [2,3,4,1] )    ->   4\n",
        "# summedExcept( 4, [2,3,4,1] ) ->   6\n",
        "#   summedUpto( 4, [2,3,4,1] ) ->   5"
      ]
    },
    {
      "cell_type": "code",
      "execution_count": null,
      "metadata": {
        "id": "IxqR0uRC3gGa",
        "colab": {
          "base_uri": "https://localhost:8080/"
        },
        "outputId": "bc50b51a-2804-44ef-ec80-aa9812fbdf57"
      },
      "outputs": [
        {
          "output_type": "stream",
          "name": "stdout",
          "text": [
            "summer( [2,3,4,1] )  should be 10 <-> None\n",
            "summer( [35,3,4,100] )  should be 142 <-> None\n"
          ]
        }
      ],
      "source": [
        "#\n",
        "# here, write the summer function!\n",
        "#\n",
        "\n",
        "def summer(L):\n",
        "    \"\"\" uses a for loop to add and return all of the elements in L\n",
        "    \"\"\"\n",
        "\n",
        "\n",
        "\n",
        "# Here are two tests -- be sure to try them!\n",
        "print(\"summer( [2,3,4,1] )  should be 10 <->\", summer( [2,3,4,1] ))\n",
        "print(\"summer( [35,3,4,100] )  should be 142 <->\", summer( [35,3,4,100] ))"
      ]
    },
    {
      "cell_type": "code",
      "execution_count": null,
      "metadata": {
        "id": "QN6ZBN9w3gGa"
      },
      "outputs": [],
      "source": [
        "#\n",
        "# here, write the summedOdds function!\n",
        "#\n",
        "\n",
        "def summedOdds(L):\n",
        "    \"\"\" uses a for loop to add and return all of the _odd_ elements in L\n",
        "    \"\"\"\n",
        "\n",
        "\n",
        "\n",
        "# Here are two tests -- be sure to try them!\n",
        "print(\"summedOdds( [2,3,4,1] )  should be 4 <->\", summedOdds( [2,3,4,1] ))\n",
        "print(\"summedOdds( [35,3,4,100] )  should be 38 <->\", summedOdds( [35,3,4,100] ))"
      ]
    },
    {
      "cell_type": "code",
      "execution_count": null,
      "metadata": {
        "id": "9XkwO1Yb3gGb",
        "colab": {
          "base_uri": "https://localhost:8080/"
        },
        "outputId": "9cc8476f-9222-40ed-ec66-c4278c9061e9"
      },
      "outputs": [
        {
          "output_type": "stream",
          "name": "stdout",
          "text": [
            "summedExcept( 4, [2,3,4,1] )  should be 6 <-> None\n",
            "summedExcept( 4, [35,3,4,100] )  should be 138 <-> None\n"
          ]
        }
      ],
      "source": [
        "#\n",
        "# here, write the summedExcept function!\n",
        "#\n",
        "\n",
        "def summedExcept( exc, L ):\n",
        "    \"\"\" include a short description here!\n",
        "    \"\"\"\n",
        "\n",
        "\n",
        "\n",
        "# Here are two tests -- be sure to try them!\n",
        "print(\"summedExcept( 4, [2,3,4,1] )  should be 6 <->\", summedExcept( 4, [2,3,4,1] ))\n",
        "print(\"summedExcept( 4, [35,3,4,100] )  should be 138 <->\", summedExcept( 4, [35,3,4,100] ))"
      ]
    },
    {
      "cell_type": "code",
      "execution_count": null,
      "metadata": {
        "id": "FpoOHpGc3gGb",
        "colab": {
          "base_uri": "https://localhost:8080/"
        },
        "outputId": "68c1cce8-1690-45da-8bc6-cd50b64ae5af"
      },
      "outputs": [
        {
          "output_type": "stream",
          "name": "stdout",
          "text": [
            "summedUpto( 4, [2,3,4,1] )  should be 5 <-> None\n",
            "summedUpto( 100, [35,3,4,100] )  should be 42 <-> None\n"
          ]
        }
      ],
      "source": [
        "#\n",
        "# here, write the summedUpto function!\n",
        "#\n",
        "\n",
        "def summedUpto( exc, L ):\n",
        "    \"\"\" include a short description here!\n",
        "    \"\"\"\n",
        "\n",
        "\n",
        "\n",
        "\n",
        "\n",
        "# Here are two tests -- be sure to try them!\n",
        "print(\"summedUpto( 4, [2,3,4,1] )  should be 5 <->\", summedUpto( 4, [2,3,4,1] ))\n",
        "print(\"summedUpto( 100, [35,3,4,100] )  should be 42 <->\", summedUpto( 100, [35,3,4,100] ))"
      ]
    },
    {
      "cell_type": "code",
      "execution_count": null,
      "metadata": {
        "id": "im7h59uw3gGb",
        "colab": {
          "base_uri": "https://localhost:8080/"
        },
        "outputId": "673d22d3-3852-4ed4-a70f-c6462bff3677"
      },
      "outputs": [
        {
          "output_type": "execute_result",
          "data": {
            "text/plain": [
              "56"
            ]
          },
          "metadata": {},
          "execution_count": 96
        }
      ],
      "source": [
        "\n",
        "#\n",
        "# Example while loop: the \"guessing game\"\n",
        "#\n",
        "\n",
        "from random import *\n",
        "\n",
        "def guess( hidden ):\n",
        "    \"\"\"\n",
        "        have the computer guess numbers until it gets the \"hidden\" value\n",
        "        return the number of guesses\n",
        "    \"\"\"\n",
        "    guess = -1      # start with a wrong guess and don't count it as a guess\n",
        "    number_of_guesses = 0   # start with no guesses made so far...\n",
        "\n",
        "    while guess != hidden:\n",
        "        guess = choice( range(0,100) )  # 0 to 99, inclusive\n",
        "        number_of_guesses += 1\n",
        "\n",
        "    return number_of_guesses\n",
        "\n",
        "# test our function!\n",
        "guess(42)"
      ]
    },
    {
      "cell_type": "code",
      "execution_count": null,
      "metadata": {
        "id": "Sib6asIv3gGn"
      },
      "outputs": [],
      "source": [
        "\n",
        "#\n",
        "# Functions with while loops to write:\n",
        "#\n",
        "\n",
        "# guess_between(low,high) like guess, but until it gets a number anywhere between\n",
        "#                         low and high. Specifically, until it guesses\n",
        "#                         less than high, and greater than or equal to low.\n",
        "#\n",
        "#\n",
        "# listTilRepeat(high)     accumulates a list of values in range(0,high) until one repeats\n",
        "#                         and returns the whole list\n",
        "#\n",
        "\n",
        "\n",
        "# examples (don't forget the randomness will change things!)\n",
        "#\n",
        "# guess_between(40,50)   ->   8    (on average, around 10)\n",
        "#\n",
        "# listTilRepeat(10)      ->   [4, 7, 8, 3, 7]     (the final # must be a repeat)\n",
        "# listTilRepeat(10)      ->   [2, 1, 9, 9]     (the final # must be a repeat)\n"
      ]
    },
    {
      "cell_type": "code",
      "execution_count": null,
      "metadata": {
        "id": "eAbbImBL3gGv"
      },
      "outputs": [],
      "source": [
        "#\n",
        "# here, write guess_between\n",
        "#\n",
        "\n",
        "def guess_between(low,high):\n",
        "    \"\"\" guesses a # from 0 to 99 (inclusive) until\n",
        "        it gets one that is strictly less than high and\n",
        "        greater than or equal to low\n",
        "        Then, this function returns the total # of guesses made\n",
        "    \"\"\"\n",
        "    guess_between = -1     # start with a wrong guess and don't count it as a guess\n",
        "    number_of_guesses = 0   # start with no guesses made so far...\n",
        "\n",
        "    while  guess_between >= high or guess_between < low :\n",
        "        guess_between = choice( range(0,100) )\n",
        "          # 0 to 99, inclusive\n",
        "        number_of_guesses += 1\n",
        "        print(guess_between)\n",
        "    return \"number of guesess is \", number_of_guesses"
      ]
    },
    {
      "cell_type": "code",
      "source": [
        "#\n",
        "# be sure to test your guess_between here -- and leave the test in the notebook!\n",
        "#\n",
        "guess_between(7,29)\n",
        "\n"
      ],
      "metadata": {
        "id": "wrh7eQOHAWi0",
        "colab": {
          "base_uri": "https://localhost:8080/"
        },
        "outputId": "45e9f19a-76e6-4318-dcc7-f22e24656c00"
      },
      "execution_count": null,
      "outputs": [
        {
          "output_type": "stream",
          "name": "stdout",
          "text": [
            "1\n",
            "38\n",
            "47\n",
            "63\n",
            "57\n",
            "1\n",
            "71\n",
            "7\n"
          ]
        },
        {
          "output_type": "execute_result",
          "data": {
            "text/plain": [
              "('number of guesess is ', 8)"
            ]
          },
          "metadata": {},
          "execution_count": 107
        }
      ]
    },
    {
      "cell_type": "code",
      "execution_count": null,
      "metadata": {
        "id": "9HnVqdj83gGw",
        "colab": {
          "base_uri": "https://localhost:8080/"
        },
        "outputId": "3a642e53-ceb2-4035-a3da-be6f9d36bb25"
      },
      "outputs": [
        {
          "output_type": "stream",
          "name": "stdout",
          "text": [
            "Before: L is [3, 4]\n",
            " After: L is [3, 4, 42]\n"
          ]
        }
      ],
      "source": [
        "\n",
        "# Try out adding elements to Lists\n",
        "\n",
        "L = [3,4]\n",
        "print(\"Before: L is\", L)\n",
        "\n",
        "guess = 42\n",
        "L = L + [guess]\n",
        "print(\" After: L is\", L)"
      ]
    },
    {
      "cell_type": "code",
      "execution_count": null,
      "metadata": {
        "id": "7v9qoep83gGx"
      },
      "outputs": [],
      "source": [
        "#\n",
        "# here, write listTilRepeat\n",
        "#\n",
        "import random\n",
        "def listTilRepeat(high):\n",
        "    \"\"\" this f'n accumulates random guesses into a list, L, until a repeat is found\n",
        "        it then returns the list (the final element should be repeated, somewhere)\n",
        "    \"\"\"\n",
        "    L = []\n",
        "    count = 1\n",
        "    while foundrepeated(L) :\n",
        "      L = L + [random.choice(range(0, high))]\n",
        "\n",
        "    print(L)\n",
        "\n",
        "\n",
        "def foundrepeated(L):\n",
        "  \"\"\"return True, if all elements in L are no,\n",
        "     or False, if there is any repeated element\n",
        "  \"\"\"\n",
        "  if len(L) == 0:\n",
        "    return True\n",
        "  if L[0] in L[1:]:\n",
        "    return False\n",
        "  else:\n",
        "    return foundrepeated(L[1:])"
      ]
    },
    {
      "cell_type": "code",
      "source": [
        "#\n",
        "# be sure to test your listTilRepeat here -- and leave the test in the notebook!\n",
        "#\n",
        "listTilRepeat(50)\n",
        "listTilRepeat(100)\n",
        "listTilRepeat(20)\n"
      ],
      "metadata": {
        "id": "iWvncComAdAa",
        "colab": {
          "base_uri": "https://localhost:8080/"
        },
        "outputId": "03536e3c-dde3-4a2b-a3f1-c975456a5009"
      },
      "execution_count": null,
      "outputs": [
        {
          "output_type": "stream",
          "name": "stdout",
          "text": [
            "[8, 45, 42, 49, 8]\n",
            "[6, 12, 23, 32, 1, 97, 29, 31, 40, 14, 41, 83, 43, 2, 14]\n",
            "[10, 17, 3, 9, 12, 0, 4, 15, 6, 5, 4]\n"
          ]
        }
      ]
    },
    {
      "cell_type": "code",
      "execution_count": null,
      "metadata": {
        "id": "Y8bY1Hag3gGx",
        "colab": {
          "base_uri": "https://localhost:8080/"
        },
        "outputId": "7451a206-bf56-4e83-dd55-ea5210630aae"
      },
      "outputs": [
        {
          "output_type": "stream",
          "name": "stdout",
          "text": [
            "17\n"
          ]
        }
      ],
      "source": [
        "\n",
        "# The birthday paradox is the fact that\n",
        "#     listTilRepeat(365) has surprisingly few elements!\n",
        "#\n",
        "# Run listTilRepeat(365) a few times and print its _length_ each time\n",
        "#     (Don't print the lists... it's too much to digest.)\n",
        "#\n",
        "# To many people, the results feel counterintuitive!\n",
        "\n",
        "\n",
        "def listTilRepeats(high):\n",
        "    L = []\n",
        "    count = 1\n",
        "    while foundrepeated(L) :\n",
        "      L = L + [random.choice(range(0, high))]\n",
        "    print(len(L))\n",
        "\n",
        "\n",
        "listTilRepeats(365)"
      ]
    },
    {
      "cell_type": "markdown",
      "metadata": {
        "id": "rGp1vbmb3gf5"
      },
      "source": [
        "<br>\n",
        "\n",
        "# Monte Carlo simulations\n",
        "+ ... are repeated actions that involve repetition and randomness\n",
        "+ that is, loops!\n",
        "\n",
        "In fact, the guessing and birthday challenges above _are_ examples of Monte Carlo simulations.\n",
        "\n",
        "Next, you'll try a few more:\n",
        "+ Our in-class guessing game, dice-rolling challenge, and three-curtain challenge...\n",
        "+ Then, you'll try the \"sleepwalker\" (a single random walker)\n",
        "\n",
        "Finally, you'll adapt the single random walker to a two-walker simulation of your own design! There are lots of ideas:\n",
        "+ Have two random walkers \"race\" to the middle (which might be a poptart...)\n",
        "+ Have two random walkers \"race\" to the walls\n",
        "+ Have them wander until they find each other\n",
        "+ Have the walls close in on them!\n",
        "+ Have them chase another object that's moving around...\n",
        "+ ... and so on!\n",
        "\n",
        "The key is to have\n",
        "+ **two** independently-wandering \"actors\"\n",
        "+ within a \"line\" or \"world\" that you can print out...\n",
        "+ ... with a backstory that you've invented,\n",
        "+ and then animate the result!\n",
        "\n",
        "<br>\n",
        "\n",
        "Looking forward to it!"
      ]
    },
    {
      "cell_type": "code",
      "execution_count": null,
      "metadata": {
        "id": "TAw-VXXQ3gf6",
        "colab": {
          "base_uri": "https://localhost:8080/"
        },
        "outputId": "36cb0fb6-c881-4166-a089-766ee76b9c6b"
      },
      "outputs": [
        {
          "output_type": "execute_result",
          "data": {
            "text/plain": [
              "42"
            ]
          },
          "metadata": {},
          "execution_count": 39
        }
      ],
      "source": [
        "\n",
        "#\n",
        "# Example while loop: the \"guessing game\"\n",
        "#\n",
        "\n",
        "from random import *\n",
        "\n",
        "def guess( hidden ):\n",
        "    \"\"\"\n",
        "        have the computer guess numbers until it gets the \"hidden\" value\n",
        "        return the number of guesses\n",
        "    \"\"\"\n",
        "    guess = hidden - 1      # start with a wrong guess + don't count it as a guess\n",
        "    number_of_guesses = 0   # start with no guesses made so far...\n",
        "\n",
        "    while guess != hidden:\n",
        "        guess = choice( range(0,100) )  # 0 to 99, inclusive\n",
        "        number_of_guesses += 1\n",
        "\n",
        "    return number_of_guesses\n",
        "\n",
        "# test our function!\n",
        "guess(42)"
      ]
    },
    {
      "cell_type": "code",
      "execution_count": null,
      "metadata": {
        "id": "pMj48CN63gf8",
        "colab": {
          "base_uri": "https://localhost:8080/"
        },
        "outputId": "ab051199-ecdb-4c70-cc65-1e83df16185f"
      },
      "outputs": [
        {
          "output_type": "stream",
          "name": "stdout",
          "text": [
            "run 0 roll: 5 1  \n",
            "run 1 roll: 6 1  \n",
            "run 2 roll: 5 3  \n",
            "run 3 roll: 2 4  \n",
            "run 4 roll: 1 1 🙂\n",
            "run 5 roll: 6 3  \n",
            "run 6 roll: 2 6  \n",
            "run 7 roll: 2 4  \n",
            "run 8 roll: 2 1  \n",
            "run 9 roll: 6 3  \n"
          ]
        },
        {
          "output_type": "execute_result",
          "data": {
            "text/plain": [
              "1"
            ]
          },
          "metadata": {},
          "execution_count": 46
        }
      ],
      "source": [
        "\n",
        "#\n",
        "# Example Monte Carlo simulation: rolling two dice and counting doubles\n",
        "#\n",
        "\n",
        "from random import *\n",
        "import time\n",
        "def count_doubles( num_rolls ):\n",
        "    \"\"\"\n",
        "        have the computer roll two six-sided dice, counting the # of doubles\n",
        "        (same value on both dice)\n",
        "        Then, return the number of doubles...\n",
        "    \"\"\"\n",
        "    numdoubles = 0       # start with no doubles so far...\n",
        "\n",
        "    for i in range(0,num_rolls):   # roll repeatedly: i keeps track\n",
        "        d1 = choice( [1,2,3,4,5,6] )  # 0 to 6, inclusive\n",
        "        d2 = choice( range(1,7) )     # 0 to 6, inclusive\n",
        "        if d1 == d2:\n",
        "            numdoubles += 1\n",
        "            you = \"🙂\"\n",
        "        else:\n",
        "            you = \" \"\n",
        "\n",
        "        print(\"run\", i, \"roll:\", d1, d2, you, flush=True)\n",
        "        time.sleep(.01)\n",
        "\n",
        "    return numdoubles\n",
        "\n",
        "# test our function!\n",
        "count_doubles(10)"
      ]
    },
    {
      "cell_type": "code",
      "execution_count": null,
      "metadata": {
        "id": "k4rkSYX_3gf9",
        "colab": {
          "base_uri": "https://localhost:8080/"
        },
        "outputId": "190ea4cd-606f-4982-915e-1a04471b01a2"
      },
      "outputs": [
        {
          "output_type": "stream",
          "name": "stdout",
          "text": [
            "run 1 you  Win!!!\n",
            "run 2 you lose...\n",
            "run 3 you  Win!!!\n",
            "run 4 you  Win!!!\n",
            "run 5 you lose...\n",
            "run 6 you lose...\n",
            "run 7 you lose...\n",
            "run 8 you lose...\n",
            "run 9 you  Win!!!\n",
            "run 10 you lose...\n"
          ]
        },
        {
          "output_type": "execute_result",
          "data": {
            "text/plain": [
              "4"
            ]
          },
          "metadata": {},
          "execution_count": 114
        }
      ],
      "source": [
        "\n",
        "#\n",
        "# Example Monte Carlo simulation: the Monte-Carlo Monte Hall paradox\n",
        "#\n",
        "\n",
        "import random\n",
        "import time\n",
        "\n",
        "def count_wins( N, original_choice, stay_or_switch ):\n",
        "    \"\"\"\n",
        "        run the Monte Hall paradox N times, with\n",
        "        original_choice, which can be 1, 2, or 3 and\n",
        "        stay_or_switch, which can be \"stay\" or \"switch\"\n",
        "        Count the number of wins and return that number.\n",
        "    \"\"\"\n",
        "    numwins = 0       # start with no wins so far...\n",
        "\n",
        "    for i in range(1,N+1):      # run repeatedly: i keeps track\n",
        "        win_curtain = random.choice([1,2,3])   # the curtain with the grand prize\n",
        "        original_choice = original_choice      # just a reminder that we have this variable\n",
        "        stay_or_switch = stay_or_switch        # a reminder that we have this, too\n",
        "\n",
        "        result = \"\"\n",
        "        if original_choice == win_curtain and stay_or_switch == \"stay\": result = \" Win!!!\"\n",
        "        elif original_choice == win_curtain and stay_or_switch == \"switch\": result = \"lose...\"\n",
        "        elif original_choice != win_curtain and stay_or_switch == \"stay\": result = \"lose...\"\n",
        "        elif original_choice != win_curtain and stay_or_switch == \"switch\": result = \" Win!!!\"\n",
        "\n",
        "        print(\"run\", i, \"you\", result, flush=True)\n",
        "        time.sleep(.025)\n",
        "\n",
        "        if result == \" Win!!!\":\n",
        "            numwins += 1\n",
        "\n",
        "\n",
        "    return numwins\n",
        "\n",
        "# test our three-curtain-game, many times:\n",
        "count_wins(10, 1, \"stay\")"
      ]
    },
    {
      "cell_type": "code",
      "execution_count": null,
      "metadata": {
        "id": "MawBqtpX3gf-",
        "colab": {
          "base_uri": "https://localhost:8080/"
        },
        "outputId": "3ffe0389-918c-4b11-9e00-64903f66ce6d"
      },
      "outputs": [
        {
          "output_type": "stream",
          "name": "stdout",
          "text": [
            "At location: 47\n",
            "At location: 48\n",
            "At location: 47\n",
            "At location: 48\n",
            "At location: 49\n",
            "At location: 50\n",
            "At location: 49\n",
            "At location: 50\n",
            "At location: 49\n",
            "At location: 48\n"
          ]
        },
        {
          "output_type": "execute_result",
          "data": {
            "text/plain": [
              "48"
            ]
          },
          "metadata": {},
          "execution_count": 115
        }
      ],
      "source": [
        "\n",
        "\n",
        "# More Monte Carlo simulations!\n",
        "\n",
        "#\n",
        "# Example of a random-walk (but no animation is intended here...)\n",
        "#\n",
        "\n",
        "import random\n",
        "\n",
        "def rs():\n",
        "    \"\"\" One random step \"\"\"\n",
        "    return random.choice([-1, 1])\n",
        "\n",
        "\n",
        "def rpos(start,N):\n",
        "    \"\"\" wander from start for N steps, printing as we go\n",
        "        return the position at the end (the final \"current\" position)\n",
        "    \"\"\"\n",
        "    current = start        # our current position begins at start...\n",
        "\n",
        "    for i in range(N):     # step repeatedly:  i keeps track from 0..N\n",
        "        print(\"At location:\", current)\n",
        "        current = current + rs()  # add one step,\n",
        "\n",
        "    print(\"At location:\", current)\n",
        "    return current\n",
        "\n",
        "\n",
        "# let's test it, perhaps start at 47 and take 9 steps...\n",
        "rpos(47,9)"
      ]
    },
    {
      "cell_type": "code",
      "source": [
        "s = 'time to think this over! '\n",
        "result = ''\n",
        "for i in range(len(s)):\n",
        "    if s[i-1] == ' ':\n",
        "        result += s[i]\n",
        "print(result)"
      ],
      "metadata": {
        "colab": {
          "base_uri": "https://localhost:8080/"
        },
        "id": "otSgQDx16Mv5",
        "outputId": "119f4f4b-eaf7-4e14-fbce-3b7671c534ee"
      },
      "execution_count": null,
      "outputs": [
        {
          "output_type": "stream",
          "name": "stdout",
          "text": [
            "tttto\n"
          ]
        }
      ]
    },
    {
      "cell_type": "code",
      "execution_count": null,
      "metadata": {
        "id": "vgqXW52w3gf_",
        "colab": {
          "base_uri": "https://localhost:8080/"
        },
        "outputId": "bf68111c-65e7-46c8-85d6-d9c549ddef1f"
      },
      "outputs": [
        {
          "output_type": "stream",
          "name": "stdout",
          "text": [
            "|______S____|\n",
            "|_____S_____|\n",
            "|______S____|\n",
            "|_____S_____|\n",
            "|____S______|\n",
            "|___S_______|\n",
            "|____S______|\n",
            "|_____S_____|\n",
            "|______S____|\n",
            "|_____S_____|\n",
            "|____S______|\n",
            "|_____S_____|\n",
            "|____S______|\n",
            "|_____S_____|\n",
            "|____S______|\n",
            "|___S_______|\n",
            "|____S______|\n",
            "|___S_______|\n",
            "|____S______|\n",
            "|___S_______|\n",
            "|__S________|\n",
            "|_S_________|\n",
            "|S__________|\n"
          ]
        },
        {
          "output_type": "execute_result",
          "data": {
            "text/plain": [
              "23"
            ]
          },
          "metadata": {},
          "execution_count": 116
        }
      ],
      "source": [
        "\n",
        "# Monte Carlo simulation #2... the random-walker\n",
        "\n",
        "#\n",
        "# Task #1:  understand the _single_ \"sleepwalker\":\n",
        "#           change the character sleepwalking to something else, emoji, etc.\n",
        "#           change the \"walls\" to something else\n",
        "#           change the \"sidewalk\" to something else (water, air, walls, ...)\n",
        "#           try it with some different inputs... then you'll be ready for task 2\n",
        "\n",
        "import time\n",
        "import random\n",
        "\n",
        "def rs():\n",
        "    \"\"\" One random step \"\"\"\n",
        "    return random.choice([-1, 1])\n",
        "\n",
        "def rwalk(start, low, high):\n",
        "    \"\"\" Random walk between -radius and +radius  (starting at 0 by default) \"\"\"\n",
        "    totalsteps = 0          # Initial value of totalsteps (_not_ final value!)\n",
        "    current = start         # Current location (_not_ the total # of steps)\n",
        "\n",
        "    while True:             # Run \"forever\" (really, until a return or break)\n",
        "        if current <= low:  # too low!\n",
        "            return totalsteps # Phew!  Return totalsteps (stops the while loop)\n",
        "        elif current >= high: # too high!\n",
        "            return totalsteps # Phew!  Return totalsteps (stops the while loop)\n",
        "        else:\n",
        "            current = current + rs()  # take a step\n",
        "            totalsteps += 1           # count it\n",
        "\n",
        "            # let's animate!\n",
        "            left_side = current - low   # distance on the left of our sleepwalker\n",
        "            right_side = high - current\n",
        "            print(\"|\" + \"_\"*left_side + \"S\" + \"_\"*right_side + \"|\", flush=True)  # a start of our \"ASCIImation\"\n",
        "            time.sleep(0.042)\n",
        "\n",
        "    # the code can never get here!\n",
        "\n",
        "# You will need to add the right-hand side, too\n",
        "# Then, improve your sleepwalker!\n",
        "\n",
        "# let's try it!  rwalk(tart, low, high)\n",
        "rwalk(5,0,10)\n",
        "# rwalk(15,0,30)\n"
      ]
    },
    {
      "cell_type": "code",
      "execution_count": null,
      "metadata": {
        "id": "t8S3Gu6Y3ggB",
        "colab": {
          "base_uri": "https://localhost:8080/"
        },
        "outputId": "36dd70d9-412d-4c27-ebc2-41e88e427575"
      },
      "outputs": [
        {
          "output_type": "stream",
          "name": "stdout",
          "text": [
            "⚽          🏃                ⚽ ⚽             🏃             ⚽\n",
            "⚽         🏃                 ⚽ ⚽            🏃              ⚽\n",
            "⚽          🏃                ⚽ ⚽             🏃             ⚽\n",
            "⚽           🏃               ⚽ ⚽              🏃            ⚽\n",
            "⚽          🏃                ⚽ ⚽             🏃             ⚽\n",
            "⚽           🏃               ⚽ ⚽              🏃            ⚽\n",
            "⚽            🏃              ⚽ ⚽             🏃             ⚽\n",
            "⚽             🏃             ⚽ ⚽            🏃              ⚽\n",
            "⚽            🏃              ⚽ ⚽             🏃             ⚽\n",
            "⚽             🏃             ⚽ ⚽            🏃              ⚽\n",
            "⚽            🏃              ⚽ ⚽             🏃             ⚽\n",
            "⚽           🏃               ⚽ ⚽            🏃              ⚽\n",
            "⚽          🏃                ⚽ ⚽             🏃             ⚽\n",
            "⚽         🏃                 ⚽ ⚽              🏃            ⚽\n",
            "⚽        🏃                  ⚽ ⚽             🏃             ⚽\n",
            "⚽       🏃                   ⚽ ⚽              🏃            ⚽\n",
            "⚽        🏃                  ⚽ ⚽               🏃           ⚽\n",
            "⚽         🏃                 ⚽ ⚽              🏃            ⚽\n",
            "⚽          🏃                ⚽ ⚽               🏃           ⚽\n",
            "⚽           🏃               ⚽ ⚽                🏃          ⚽\n",
            "⚽          🏃                ⚽ ⚽                 🏃         ⚽\n",
            "⚽         🏃                 ⚽ ⚽                🏃          ⚽\n",
            "⚽        🏃                  ⚽ ⚽                 🏃         ⚽\n",
            "⚽       🏃                   ⚽ ⚽                  🏃        ⚽\n",
            "⚽      🏃                    ⚽ ⚽                 🏃         ⚽\n",
            "⚽     🏃                     ⚽ ⚽                🏃          ⚽\n",
            "⚽    🏃                      ⚽ ⚽                 🏃         ⚽\n",
            "⚽   🏃                       ⚽ ⚽                  🏃        ⚽\n",
            "⚽  🏃                        ⚽ ⚽                 🏃         ⚽\n",
            "⚽ 🏃                         ⚽ ⚽                  🏃        ⚽\n",
            "⚽🏃                          ⚽ ⚽                 🏃         ⚽\n",
            "⚽ 🏃                         ⚽ ⚽                  🏃        ⚽\n",
            "⚽  🏃                        ⚽ ⚽                   🏃       ⚽\n",
            "⚽ 🏃                         ⚽ ⚽                    🏃      ⚽\n",
            "⚽🏃                          ⚽ ⚽                     🏃     ⚽\n",
            "⚽🏃                           ⚽ ⚽                      🏃    ⚽\n",
            "Player 1 reached the ball!  in:   36 steps\n"
          ]
        }
      ],
      "source": [
        "#\n",
        "# Task #2:  create a _two_ sleepwalker animation!\n",
        "#           For an example _idea_ see the next cell...\n",
        "\n",
        "def rs():\n",
        "    \"\"\" One random step \"\"\"\n",
        "    return random.choice([-1, 1])\n",
        "\n",
        "def ball_race(P1, B, P2):\n",
        "    positions = [B, B]  # starting positions of the two player\n",
        "    steps = [0, 0]  # number of steps taken by each player\n",
        "    while all(P1 <= pos <= P2 for pos in positions):\n",
        "    # move each player one step\n",
        "       for i in range(2):\n",
        "          positions[i] += rs()\n",
        "          steps[i] += 1\n",
        "       print(''*(P1-1)+\"⚽\"+' '*(positions[0]-P1) + '🏃 '+' '*(P2-positions[0])+\"⚽ \"+\"⚽ \"+' '*(positions[1]-P1) + '🏃'+' '*(P2-positions[1])+\"⚽\")\n",
        "       # wait for a short time before printing the next step\n",
        "       time.sleep(0.042)\n",
        "# print the result\n",
        "    if positions[0] < P1:\n",
        "       print(\"Player 1 reached the ball!  in: \",f' {steps[0]}',\"steps\")\n",
        "    elif positions[0] > P2:\n",
        "       print(\"Player 1 reached the ball!  in: \",f' {steps[0]}',\"steps\")\n",
        "    if positions[1] < P1:\n",
        "       print(\"Player 2 reached the ball!  in: \",f' {steps[0]}',\"steps\")\n",
        "    elif positions[1] > P2:\n",
        "       print(\"Player 2 reached the ball in: \",f' {steps[0]}',\"steps\")\n",
        "ball_race(5,16,30)"
      ]
    },
    {
      "cell_type": "code",
      "execution_count": null,
      "metadata": {
        "id": "1zZ5kFlm3ggA"
      },
      "outputs": [],
      "source": [
        "\n",
        "# here is an _example_ of a two-sleepwalker animation idea\n",
        "# a starting point has been written... but only one wanderer is wandering!\n",
        "# your task is to make sure TWO wanderers are wandering... in a fashion you design...\n",
        "\n",
        "import time\n",
        "import random\n",
        "\n",
        "def rs():\n",
        "    \"\"\" One random step \"\"\"\n",
        "    return random.choice([-1, 1])\n",
        "\n",
        "def print_poptarts(pST, pSM):\n",
        "    \"\"\" print the two poptarts! \"\"\"\n",
        "    if pST < pSM:\n",
        "        pLeft = pST;   cLeft = \"\\033[6;33;41m\" + \"P\" + \"\\033[0m\"\n",
        "        pRight = pSM;  cRight = \"\\033[6;36;43m\" + \"P\" + \"\\033[0m\"\n",
        "    else:\n",
        "        pLeft = pSM;   cLeft = \"\\033[6;36;43m\" + \"P\" + \"\\033[0m\"\n",
        "        pRight = pST;  cRight = \"\\033[6;33;41m\" + \"P\" + \"\\033[0m\"\n",
        "\n",
        "    left_space = (pLeft-0)\n",
        "    middle_space = (pRight-pLeft)\n",
        "    right_space = (30-pRight)\n",
        "\n",
        "    print(\"CGU|\" + \"_\"*left_space + cLeft + \"_\"*middle_space + cRight + \"_\"*right_space + \"|Toaster\", flush=True)\n",
        "\n",
        "\n",
        "def poptart_race(pST, pSM):\n",
        "    \"\"\"\n",
        "        This simulator observes two poptarts, pST, pSM (you can guess the flavors...)\n",
        "        wandering between 0 and 30.\n",
        "\n",
        "        Call this with\n",
        "               poptart_race(10, 20)\n",
        "           or  poptart_race(pST=10, pSM=20)    # this is the same as the line above\n",
        "\n",
        "        The endpoints are always at 0 and 30. We check that  0 < pST < 30 and 0 < pSM < 30\n",
        "\n",
        "        Other values to try:  poptart_race(18, 22)    # evenly spaced\n",
        "                              poptart_race(5, 15)     # uneven spacing: pST is closer...\n",
        "    \"\"\"\n",
        "    num_steps = 0       # count the number of steps\n",
        "\n",
        "    while 0 < pST < 30:\n",
        "        print_poptarts(pST, pSM)   # print the current poptart-configuration!\n",
        "        pST = pST + rs()           # take a random step for the strawberry poptart...\n",
        "        num_steps += 1             # add 1 to our count of steps (in the variable num_steps)\n",
        "        time.sleep(0.05)           # pause a bit, to add drama!\n",
        "\n",
        "    # finished with the while loop!\n",
        "    return num_steps\n",
        "\n"
      ]
    },
    {
      "cell_type": "code",
      "source": [
        "poptart_race(10, 20)"
      ],
      "metadata": {
        "id": "VbhjtXudzAC4",
        "colab": {
          "base_uri": "https://localhost:8080/"
        },
        "outputId": "fc9a9ef6-457c-4929-996a-a0a83738f5cf"
      },
      "execution_count": null,
      "outputs": [
        {
          "output_type": "stream",
          "name": "stdout",
          "text": [
            "CGU|__________\u001b[6;33;41mP\u001b[0m__________\u001b[6;36;43mP\u001b[0m__________|Toaster\n",
            "CGU|_________\u001b[6;33;41mP\u001b[0m___________\u001b[6;36;43mP\u001b[0m__________|Toaster\n",
            "CGU|__________\u001b[6;33;41mP\u001b[0m__________\u001b[6;36;43mP\u001b[0m__________|Toaster\n",
            "CGU|_________\u001b[6;33;41mP\u001b[0m___________\u001b[6;36;43mP\u001b[0m__________|Toaster\n",
            "CGU|________\u001b[6;33;41mP\u001b[0m____________\u001b[6;36;43mP\u001b[0m__________|Toaster\n",
            "CGU|_______\u001b[6;33;41mP\u001b[0m_____________\u001b[6;36;43mP\u001b[0m__________|Toaster\n",
            "CGU|______\u001b[6;33;41mP\u001b[0m______________\u001b[6;36;43mP\u001b[0m__________|Toaster\n",
            "CGU|_______\u001b[6;33;41mP\u001b[0m_____________\u001b[6;36;43mP\u001b[0m__________|Toaster\n",
            "CGU|________\u001b[6;33;41mP\u001b[0m____________\u001b[6;36;43mP\u001b[0m__________|Toaster\n",
            "CGU|_________\u001b[6;33;41mP\u001b[0m___________\u001b[6;36;43mP\u001b[0m__________|Toaster\n",
            "CGU|________\u001b[6;33;41mP\u001b[0m____________\u001b[6;36;43mP\u001b[0m__________|Toaster\n",
            "CGU|_________\u001b[6;33;41mP\u001b[0m___________\u001b[6;36;43mP\u001b[0m__________|Toaster\n",
            "CGU|__________\u001b[6;33;41mP\u001b[0m__________\u001b[6;36;43mP\u001b[0m__________|Toaster\n",
            "CGU|_________\u001b[6;33;41mP\u001b[0m___________\u001b[6;36;43mP\u001b[0m__________|Toaster\n",
            "CGU|__________\u001b[6;33;41mP\u001b[0m__________\u001b[6;36;43mP\u001b[0m__________|Toaster\n",
            "CGU|_________\u001b[6;33;41mP\u001b[0m___________\u001b[6;36;43mP\u001b[0m__________|Toaster\n",
            "CGU|________\u001b[6;33;41mP\u001b[0m____________\u001b[6;36;43mP\u001b[0m__________|Toaster\n",
            "CGU|_______\u001b[6;33;41mP\u001b[0m_____________\u001b[6;36;43mP\u001b[0m__________|Toaster\n",
            "CGU|______\u001b[6;33;41mP\u001b[0m______________\u001b[6;36;43mP\u001b[0m__________|Toaster\n",
            "CGU|_______\u001b[6;33;41mP\u001b[0m_____________\u001b[6;36;43mP\u001b[0m__________|Toaster\n",
            "CGU|________\u001b[6;33;41mP\u001b[0m____________\u001b[6;36;43mP\u001b[0m__________|Toaster\n",
            "CGU|_______\u001b[6;33;41mP\u001b[0m_____________\u001b[6;36;43mP\u001b[0m__________|Toaster\n",
            "CGU|______\u001b[6;33;41mP\u001b[0m______________\u001b[6;36;43mP\u001b[0m__________|Toaster\n",
            "CGU|_____\u001b[6;33;41mP\u001b[0m_______________\u001b[6;36;43mP\u001b[0m__________|Toaster\n",
            "CGU|____\u001b[6;33;41mP\u001b[0m________________\u001b[6;36;43mP\u001b[0m__________|Toaster\n",
            "CGU|___\u001b[6;33;41mP\u001b[0m_________________\u001b[6;36;43mP\u001b[0m__________|Toaster\n",
            "CGU|____\u001b[6;33;41mP\u001b[0m________________\u001b[6;36;43mP\u001b[0m__________|Toaster\n",
            "CGU|_____\u001b[6;33;41mP\u001b[0m_______________\u001b[6;36;43mP\u001b[0m__________|Toaster\n",
            "CGU|____\u001b[6;33;41mP\u001b[0m________________\u001b[6;36;43mP\u001b[0m__________|Toaster\n",
            "CGU|_____\u001b[6;33;41mP\u001b[0m_______________\u001b[6;36;43mP\u001b[0m__________|Toaster\n",
            "CGU|______\u001b[6;33;41mP\u001b[0m______________\u001b[6;36;43mP\u001b[0m__________|Toaster\n",
            "CGU|_______\u001b[6;33;41mP\u001b[0m_____________\u001b[6;36;43mP\u001b[0m__________|Toaster\n",
            "CGU|______\u001b[6;33;41mP\u001b[0m______________\u001b[6;36;43mP\u001b[0m__________|Toaster\n",
            "CGU|_____\u001b[6;33;41mP\u001b[0m_______________\u001b[6;36;43mP\u001b[0m__________|Toaster\n",
            "CGU|______\u001b[6;33;41mP\u001b[0m______________\u001b[6;36;43mP\u001b[0m__________|Toaster\n",
            "CGU|_______\u001b[6;33;41mP\u001b[0m_____________\u001b[6;36;43mP\u001b[0m__________|Toaster\n",
            "CGU|________\u001b[6;33;41mP\u001b[0m____________\u001b[6;36;43mP\u001b[0m__________|Toaster\n",
            "CGU|_________\u001b[6;33;41mP\u001b[0m___________\u001b[6;36;43mP\u001b[0m__________|Toaster\n",
            "CGU|________\u001b[6;33;41mP\u001b[0m____________\u001b[6;36;43mP\u001b[0m__________|Toaster\n",
            "CGU|_________\u001b[6;33;41mP\u001b[0m___________\u001b[6;36;43mP\u001b[0m__________|Toaster\n",
            "CGU|________\u001b[6;33;41mP\u001b[0m____________\u001b[6;36;43mP\u001b[0m__________|Toaster\n",
            "CGU|_________\u001b[6;33;41mP\u001b[0m___________\u001b[6;36;43mP\u001b[0m__________|Toaster\n",
            "CGU|__________\u001b[6;33;41mP\u001b[0m__________\u001b[6;36;43mP\u001b[0m__________|Toaster\n",
            "CGU|_________\u001b[6;33;41mP\u001b[0m___________\u001b[6;36;43mP\u001b[0m__________|Toaster\n",
            "CGU|________\u001b[6;33;41mP\u001b[0m____________\u001b[6;36;43mP\u001b[0m__________|Toaster\n",
            "CGU|_________\u001b[6;33;41mP\u001b[0m___________\u001b[6;36;43mP\u001b[0m__________|Toaster\n",
            "CGU|________\u001b[6;33;41mP\u001b[0m____________\u001b[6;36;43mP\u001b[0m__________|Toaster\n",
            "CGU|_______\u001b[6;33;41mP\u001b[0m_____________\u001b[6;36;43mP\u001b[0m__________|Toaster\n",
            "CGU|________\u001b[6;33;41mP\u001b[0m____________\u001b[6;36;43mP\u001b[0m__________|Toaster\n",
            "CGU|_________\u001b[6;33;41mP\u001b[0m___________\u001b[6;36;43mP\u001b[0m__________|Toaster\n",
            "CGU|__________\u001b[6;33;41mP\u001b[0m__________\u001b[6;36;43mP\u001b[0m__________|Toaster\n",
            "CGU|___________\u001b[6;33;41mP\u001b[0m_________\u001b[6;36;43mP\u001b[0m__________|Toaster\n",
            "CGU|____________\u001b[6;33;41mP\u001b[0m________\u001b[6;36;43mP\u001b[0m__________|Toaster\n",
            "CGU|_____________\u001b[6;33;41mP\u001b[0m_______\u001b[6;36;43mP\u001b[0m__________|Toaster\n",
            "CGU|____________\u001b[6;33;41mP\u001b[0m________\u001b[6;36;43mP\u001b[0m__________|Toaster\n",
            "CGU|_____________\u001b[6;33;41mP\u001b[0m_______\u001b[6;36;43mP\u001b[0m__________|Toaster\n",
            "CGU|______________\u001b[6;33;41mP\u001b[0m______\u001b[6;36;43mP\u001b[0m__________|Toaster\n",
            "CGU|_______________\u001b[6;33;41mP\u001b[0m_____\u001b[6;36;43mP\u001b[0m__________|Toaster\n",
            "CGU|________________\u001b[6;33;41mP\u001b[0m____\u001b[6;36;43mP\u001b[0m__________|Toaster\n",
            "CGU|_______________\u001b[6;33;41mP\u001b[0m_____\u001b[6;36;43mP\u001b[0m__________|Toaster\n",
            "CGU|______________\u001b[6;33;41mP\u001b[0m______\u001b[6;36;43mP\u001b[0m__________|Toaster\n",
            "CGU|_______________\u001b[6;33;41mP\u001b[0m_____\u001b[6;36;43mP\u001b[0m__________|Toaster\n",
            "CGU|________________\u001b[6;33;41mP\u001b[0m____\u001b[6;36;43mP\u001b[0m__________|Toaster\n",
            "CGU|_________________\u001b[6;33;41mP\u001b[0m___\u001b[6;36;43mP\u001b[0m__________|Toaster\n",
            "CGU|________________\u001b[6;33;41mP\u001b[0m____\u001b[6;36;43mP\u001b[0m__________|Toaster\n",
            "CGU|_________________\u001b[6;33;41mP\u001b[0m___\u001b[6;36;43mP\u001b[0m__________|Toaster\n",
            "CGU|________________\u001b[6;33;41mP\u001b[0m____\u001b[6;36;43mP\u001b[0m__________|Toaster\n",
            "CGU|_________________\u001b[6;33;41mP\u001b[0m___\u001b[6;36;43mP\u001b[0m__________|Toaster\n",
            "CGU|__________________\u001b[6;33;41mP\u001b[0m__\u001b[6;36;43mP\u001b[0m__________|Toaster\n",
            "CGU|___________________\u001b[6;33;41mP\u001b[0m_\u001b[6;36;43mP\u001b[0m__________|Toaster\n",
            "CGU|____________________\u001b[6;36;43mP\u001b[0m\u001b[6;33;41mP\u001b[0m__________|Toaster\n",
            "CGU|___________________\u001b[6;33;41mP\u001b[0m_\u001b[6;36;43mP\u001b[0m__________|Toaster\n",
            "CGU|____________________\u001b[6;36;43mP\u001b[0m\u001b[6;33;41mP\u001b[0m__________|Toaster\n",
            "CGU|___________________\u001b[6;33;41mP\u001b[0m_\u001b[6;36;43mP\u001b[0m__________|Toaster\n",
            "CGU|__________________\u001b[6;33;41mP\u001b[0m__\u001b[6;36;43mP\u001b[0m__________|Toaster\n",
            "CGU|_________________\u001b[6;33;41mP\u001b[0m___\u001b[6;36;43mP\u001b[0m__________|Toaster\n",
            "CGU|__________________\u001b[6;33;41mP\u001b[0m__\u001b[6;36;43mP\u001b[0m__________|Toaster\n",
            "CGU|___________________\u001b[6;33;41mP\u001b[0m_\u001b[6;36;43mP\u001b[0m__________|Toaster\n",
            "CGU|__________________\u001b[6;33;41mP\u001b[0m__\u001b[6;36;43mP\u001b[0m__________|Toaster\n",
            "CGU|_________________\u001b[6;33;41mP\u001b[0m___\u001b[6;36;43mP\u001b[0m__________|Toaster\n",
            "CGU|________________\u001b[6;33;41mP\u001b[0m____\u001b[6;36;43mP\u001b[0m__________|Toaster\n",
            "CGU|_________________\u001b[6;33;41mP\u001b[0m___\u001b[6;36;43mP\u001b[0m__________|Toaster\n",
            "CGU|__________________\u001b[6;33;41mP\u001b[0m__\u001b[6;36;43mP\u001b[0m__________|Toaster\n",
            "CGU|___________________\u001b[6;33;41mP\u001b[0m_\u001b[6;36;43mP\u001b[0m__________|Toaster\n",
            "CGU|__________________\u001b[6;33;41mP\u001b[0m__\u001b[6;36;43mP\u001b[0m__________|Toaster\n",
            "CGU|_________________\u001b[6;33;41mP\u001b[0m___\u001b[6;36;43mP\u001b[0m__________|Toaster\n",
            "CGU|________________\u001b[6;33;41mP\u001b[0m____\u001b[6;36;43mP\u001b[0m__________|Toaster\n",
            "CGU|_______________\u001b[6;33;41mP\u001b[0m_____\u001b[6;36;43mP\u001b[0m__________|Toaster\n",
            "CGU|______________\u001b[6;33;41mP\u001b[0m______\u001b[6;36;43mP\u001b[0m__________|Toaster\n",
            "CGU|_____________\u001b[6;33;41mP\u001b[0m_______\u001b[6;36;43mP\u001b[0m__________|Toaster\n",
            "CGU|______________\u001b[6;33;41mP\u001b[0m______\u001b[6;36;43mP\u001b[0m__________|Toaster\n",
            "CGU|_______________\u001b[6;33;41mP\u001b[0m_____\u001b[6;36;43mP\u001b[0m__________|Toaster\n",
            "CGU|______________\u001b[6;33;41mP\u001b[0m______\u001b[6;36;43mP\u001b[0m__________|Toaster\n",
            "CGU|_____________\u001b[6;33;41mP\u001b[0m_______\u001b[6;36;43mP\u001b[0m__________|Toaster\n",
            "CGU|____________\u001b[6;33;41mP\u001b[0m________\u001b[6;36;43mP\u001b[0m__________|Toaster\n",
            "CGU|_____________\u001b[6;33;41mP\u001b[0m_______\u001b[6;36;43mP\u001b[0m__________|Toaster\n",
            "CGU|______________\u001b[6;33;41mP\u001b[0m______\u001b[6;36;43mP\u001b[0m__________|Toaster\n",
            "CGU|_______________\u001b[6;33;41mP\u001b[0m_____\u001b[6;36;43mP\u001b[0m__________|Toaster\n",
            "CGU|________________\u001b[6;33;41mP\u001b[0m____\u001b[6;36;43mP\u001b[0m__________|Toaster\n",
            "CGU|_______________\u001b[6;33;41mP\u001b[0m_____\u001b[6;36;43mP\u001b[0m__________|Toaster\n",
            "CGU|______________\u001b[6;33;41mP\u001b[0m______\u001b[6;36;43mP\u001b[0m__________|Toaster\n",
            "CGU|_______________\u001b[6;33;41mP\u001b[0m_____\u001b[6;36;43mP\u001b[0m__________|Toaster\n",
            "CGU|______________\u001b[6;33;41mP\u001b[0m______\u001b[6;36;43mP\u001b[0m__________|Toaster\n",
            "CGU|_______________\u001b[6;33;41mP\u001b[0m_____\u001b[6;36;43mP\u001b[0m__________|Toaster\n",
            "CGU|______________\u001b[6;33;41mP\u001b[0m______\u001b[6;36;43mP\u001b[0m__________|Toaster\n",
            "CGU|_____________\u001b[6;33;41mP\u001b[0m_______\u001b[6;36;43mP\u001b[0m__________|Toaster\n",
            "CGU|______________\u001b[6;33;41mP\u001b[0m______\u001b[6;36;43mP\u001b[0m__________|Toaster\n",
            "CGU|_____________\u001b[6;33;41mP\u001b[0m_______\u001b[6;36;43mP\u001b[0m__________|Toaster\n",
            "CGU|______________\u001b[6;33;41mP\u001b[0m______\u001b[6;36;43mP\u001b[0m__________|Toaster\n",
            "CGU|_____________\u001b[6;33;41mP\u001b[0m_______\u001b[6;36;43mP\u001b[0m__________|Toaster\n",
            "CGU|____________\u001b[6;33;41mP\u001b[0m________\u001b[6;36;43mP\u001b[0m__________|Toaster\n",
            "CGU|___________\u001b[6;33;41mP\u001b[0m_________\u001b[6;36;43mP\u001b[0m__________|Toaster\n",
            "CGU|____________\u001b[6;33;41mP\u001b[0m________\u001b[6;36;43mP\u001b[0m__________|Toaster\n",
            "CGU|___________\u001b[6;33;41mP\u001b[0m_________\u001b[6;36;43mP\u001b[0m__________|Toaster\n",
            "CGU|____________\u001b[6;33;41mP\u001b[0m________\u001b[6;36;43mP\u001b[0m__________|Toaster\n",
            "CGU|_____________\u001b[6;33;41mP\u001b[0m_______\u001b[6;36;43mP\u001b[0m__________|Toaster\n",
            "CGU|____________\u001b[6;33;41mP\u001b[0m________\u001b[6;36;43mP\u001b[0m__________|Toaster\n",
            "CGU|_____________\u001b[6;33;41mP\u001b[0m_______\u001b[6;36;43mP\u001b[0m__________|Toaster\n",
            "CGU|____________\u001b[6;33;41mP\u001b[0m________\u001b[6;36;43mP\u001b[0m__________|Toaster\n",
            "CGU|___________\u001b[6;33;41mP\u001b[0m_________\u001b[6;36;43mP\u001b[0m__________|Toaster\n",
            "CGU|____________\u001b[6;33;41mP\u001b[0m________\u001b[6;36;43mP\u001b[0m__________|Toaster\n",
            "CGU|_____________\u001b[6;33;41mP\u001b[0m_______\u001b[6;36;43mP\u001b[0m__________|Toaster\n",
            "CGU|____________\u001b[6;33;41mP\u001b[0m________\u001b[6;36;43mP\u001b[0m__________|Toaster\n",
            "CGU|_____________\u001b[6;33;41mP\u001b[0m_______\u001b[6;36;43mP\u001b[0m__________|Toaster\n",
            "CGU|____________\u001b[6;33;41mP\u001b[0m________\u001b[6;36;43mP\u001b[0m__________|Toaster\n",
            "CGU|___________\u001b[6;33;41mP\u001b[0m_________\u001b[6;36;43mP\u001b[0m__________|Toaster\n",
            "CGU|____________\u001b[6;33;41mP\u001b[0m________\u001b[6;36;43mP\u001b[0m__________|Toaster\n",
            "CGU|___________\u001b[6;33;41mP\u001b[0m_________\u001b[6;36;43mP\u001b[0m__________|Toaster\n",
            "CGU|__________\u001b[6;33;41mP\u001b[0m__________\u001b[6;36;43mP\u001b[0m__________|Toaster\n",
            "CGU|___________\u001b[6;33;41mP\u001b[0m_________\u001b[6;36;43mP\u001b[0m__________|Toaster\n",
            "CGU|____________\u001b[6;33;41mP\u001b[0m________\u001b[6;36;43mP\u001b[0m__________|Toaster\n",
            "CGU|_____________\u001b[6;33;41mP\u001b[0m_______\u001b[6;36;43mP\u001b[0m__________|Toaster\n",
            "CGU|______________\u001b[6;33;41mP\u001b[0m______\u001b[6;36;43mP\u001b[0m__________|Toaster\n",
            "CGU|_____________\u001b[6;33;41mP\u001b[0m_______\u001b[6;36;43mP\u001b[0m__________|Toaster\n",
            "CGU|____________\u001b[6;33;41mP\u001b[0m________\u001b[6;36;43mP\u001b[0m__________|Toaster\n",
            "CGU|___________\u001b[6;33;41mP\u001b[0m_________\u001b[6;36;43mP\u001b[0m__________|Toaster\n",
            "CGU|__________\u001b[6;33;41mP\u001b[0m__________\u001b[6;36;43mP\u001b[0m__________|Toaster\n",
            "CGU|_________\u001b[6;33;41mP\u001b[0m___________\u001b[6;36;43mP\u001b[0m__________|Toaster\n",
            "CGU|__________\u001b[6;33;41mP\u001b[0m__________\u001b[6;36;43mP\u001b[0m__________|Toaster\n",
            "CGU|_________\u001b[6;33;41mP\u001b[0m___________\u001b[6;36;43mP\u001b[0m__________|Toaster\n",
            "CGU|________\u001b[6;33;41mP\u001b[0m____________\u001b[6;36;43mP\u001b[0m__________|Toaster\n",
            "CGU|_________\u001b[6;33;41mP\u001b[0m___________\u001b[6;36;43mP\u001b[0m__________|Toaster\n",
            "CGU|__________\u001b[6;33;41mP\u001b[0m__________\u001b[6;36;43mP\u001b[0m__________|Toaster\n",
            "CGU|___________\u001b[6;33;41mP\u001b[0m_________\u001b[6;36;43mP\u001b[0m__________|Toaster\n",
            "CGU|__________\u001b[6;33;41mP\u001b[0m__________\u001b[6;36;43mP\u001b[0m__________|Toaster\n",
            "CGU|_________\u001b[6;33;41mP\u001b[0m___________\u001b[6;36;43mP\u001b[0m__________|Toaster\n",
            "CGU|________\u001b[6;33;41mP\u001b[0m____________\u001b[6;36;43mP\u001b[0m__________|Toaster\n",
            "CGU|_______\u001b[6;33;41mP\u001b[0m_____________\u001b[6;36;43mP\u001b[0m__________|Toaster\n",
            "CGU|________\u001b[6;33;41mP\u001b[0m____________\u001b[6;36;43mP\u001b[0m__________|Toaster\n",
            "CGU|_________\u001b[6;33;41mP\u001b[0m___________\u001b[6;36;43mP\u001b[0m__________|Toaster\n",
            "CGU|________\u001b[6;33;41mP\u001b[0m____________\u001b[6;36;43mP\u001b[0m__________|Toaster\n",
            "CGU|_______\u001b[6;33;41mP\u001b[0m_____________\u001b[6;36;43mP\u001b[0m__________|Toaster\n",
            "CGU|________\u001b[6;33;41mP\u001b[0m____________\u001b[6;36;43mP\u001b[0m__________|Toaster\n",
            "CGU|_______\u001b[6;33;41mP\u001b[0m_____________\u001b[6;36;43mP\u001b[0m__________|Toaster\n",
            "CGU|________\u001b[6;33;41mP\u001b[0m____________\u001b[6;36;43mP\u001b[0m__________|Toaster\n",
            "CGU|_______\u001b[6;33;41mP\u001b[0m_____________\u001b[6;36;43mP\u001b[0m__________|Toaster\n",
            "CGU|______\u001b[6;33;41mP\u001b[0m______________\u001b[6;36;43mP\u001b[0m__________|Toaster\n",
            "CGU|_____\u001b[6;33;41mP\u001b[0m_______________\u001b[6;36;43mP\u001b[0m__________|Toaster\n",
            "CGU|______\u001b[6;33;41mP\u001b[0m______________\u001b[6;36;43mP\u001b[0m__________|Toaster\n",
            "CGU|_____\u001b[6;33;41mP\u001b[0m_______________\u001b[6;36;43mP\u001b[0m__________|Toaster\n",
            "CGU|____\u001b[6;33;41mP\u001b[0m________________\u001b[6;36;43mP\u001b[0m__________|Toaster\n",
            "CGU|___\u001b[6;33;41mP\u001b[0m_________________\u001b[6;36;43mP\u001b[0m__________|Toaster\n",
            "CGU|__\u001b[6;33;41mP\u001b[0m__________________\u001b[6;36;43mP\u001b[0m__________|Toaster\n",
            "CGU|_\u001b[6;33;41mP\u001b[0m___________________\u001b[6;36;43mP\u001b[0m__________|Toaster\n"
          ]
        },
        {
          "output_type": "execute_result",
          "data": {
            "text/plain": [
              "164"
            ]
          },
          "metadata": {},
          "execution_count": 119
        }
      ]
    },
    {
      "cell_type": "markdown",
      "metadata": {
        "id": "IrzyA63F3ggB"
      },
      "source": [
        "\n",
        "<br>\n",
        "\n",
        "#### Hints, suggestions, and other references\n",
        "+ Be sure that there is a <i>finishing condition</i>\n",
        "+ Have a meaningful return value - such as the number of steps\n",
        "+ There should be some interaction between the wandering agents (each other), as well as between the wanderers and the endpoints, e.g., walls, cliffs, wells, teleports, etc.\n",
        "\n",
        "<br>\n",
        "\n",
        "As a few possible examples, you might consider:\n",
        "+ two wanderers that are trying to reach an item between them (see above)\n",
        "+ two wanderers that are unable to switch places (they \"bounce\"), with the simulation ending when one—or both—reach the walls\n",
        "+ two endpoints of a single \"entity\" that's trying to consume the whole environment (reach both sides)\n",
        "+ a single wanderer hoping to avoid an \"obstacle\" that is also a wanderer... it moves around and/or (dis)appears: a moving obstacle definitely counts as a second wanderer\n",
        "+ one or both walls can be a \"wanderer\"\n",
        "+ there are many more possibilities, for sure!\n",
        "\n",
        "\n",
        "<br>\n",
        "\n",
        "Other resources/references:\n",
        "+ [Lots of ideas are here at the cs5 page](https://www.cs.hmc.edu/twiki/bin/view/CS5Fall2019/SleepwalkingStudentGold)\n",
        "+ You can also add emojis and other unicode characters\n",
        "+ And you can change the colors -- see the next couple of cells for examples...\n",
        "+ [Here is the terminal-colors in Python page](https://www.cs.hmc.edu/twiki/bin/view/CS5/TerminalColorsInPython)"
      ]
    },
    {
      "cell_type": "code",
      "execution_count": null,
      "metadata": {
        "id": "CpFeTj_83ggC",
        "colab": {
          "base_uri": "https://localhost:8080/"
        },
        "outputId": "5ef09e33-67a7-4c28-a06b-c5b49280c88e"
      },
      "outputs": [
        {
          "output_type": "stream",
          "name": "stdout",
          "text": [
            "|_🙂_________|\n",
            "|__🙂________|\n",
            "|___🙂_______|\n",
            "|____🙂______|\n",
            "|_____🙂_____|\n",
            "|______🙂____|\n",
            "|_______🙂___|\n",
            "|________🙂__|\n",
            "|_________🙂_|\n"
          ]
        }
      ],
      "source": [
        "import time\n",
        "\n",
        "# emoji test\n",
        "emoji_list = [ \"♫\", \"♪\" ]\n",
        "for i in range(1,10):\n",
        "    left_side = i\n",
        "    right_side = (10-i)\n",
        "\n",
        "    e = \"🙂\"\n",
        "    # e = random.choice(emoji_list)\n",
        "\n",
        "    print(\"|\" + \"_\"*left_side + e + \"_\"*right_side + \"|\", flush=True)\n",
        "    time.sleep(0.25)"
      ]
    },
    {
      "cell_type": "code",
      "execution_count": null,
      "metadata": {
        "id": "jhB1t4kZ3ggC",
        "colab": {
          "base_uri": "https://localhost:8080/"
        },
        "outputId": "6a566646-7adf-42a8-b5eb-6cce6c69aacc"
      },
      "outputs": [
        {
          "output_type": "stream",
          "name": "stdout",
          "text": [
            "\n",
            "before: \u001b[6;30;43mThis text uses 6;30;43 .\u001b[0m :end\n",
            "\n"
          ]
        }
      ],
      "source": [
        "print(\"\\nbefore: \" + \"\\033[6;30;43m\" + \"This text uses 6;30;43 .\" + \"\\033[0m\" + \" :end\\n\")"
      ]
    },
    {
      "cell_type": "markdown",
      "source": [
        "Here's an example with the black-and-gold text:"
      ],
      "metadata": {
        "id": "mp0pOdGpQ8cA"
      }
    },
    {
      "cell_type": "code",
      "source": [
        "import time\n",
        "\n",
        "def gold_bg(text):\n",
        "    return \"\\033[6;30;43m\" + text + \"\\033[0m\"\n",
        "\n",
        "# gold_bg test\n",
        "for i in range(1,10):\n",
        "    left_side = i\n",
        "    right_side = (10-i)\n",
        "\n",
        "    e = \"E\"\n",
        "    # e = random.choice(emoji_list)\n",
        "\n",
        "    print(\"|\" + \"_\"*left_side + gold_bg(e) + \"_\"*right_side + \"|\", flush=True)\n",
        "    time.sleep(0.25)\n",
        "\n",
        "# by Zach\n",
        "\n",
        "# REVERSE gold_bg test\n",
        "for i in range(10,0,-1):\n",
        "    left_side = i\n",
        "    right_side = (10-i)\n",
        "\n",
        "    e = \"E\"\n",
        "    # e = random.choice(emoji_list)\n",
        "\n",
        "    print(\"|\" + gold_bg(\"_\"*left_side) + e + gold_bg(\"_\"*right_side) + \"|\", flush=True)\n",
        "    time.sleep(0.25)"
      ],
      "metadata": {
        "id": "Ow8QYU-dQ_Xg",
        "colab": {
          "base_uri": "https://localhost:8080/"
        },
        "outputId": "27659237-37c8-4bd0-8d89-7c06e9676b19"
      },
      "execution_count": null,
      "outputs": [
        {
          "output_type": "stream",
          "name": "stdout",
          "text": [
            "|_\u001b[6;30;43mE\u001b[0m_________|\n",
            "|__\u001b[6;30;43mE\u001b[0m________|\n",
            "|___\u001b[6;30;43mE\u001b[0m_______|\n",
            "|____\u001b[6;30;43mE\u001b[0m______|\n",
            "|_____\u001b[6;30;43mE\u001b[0m_____|\n",
            "|______\u001b[6;30;43mE\u001b[0m____|\n",
            "|_______\u001b[6;30;43mE\u001b[0m___|\n",
            "|________\u001b[6;30;43mE\u001b[0m__|\n",
            "|_________\u001b[6;30;43mE\u001b[0m_|\n",
            "|\u001b[6;30;43m__________\u001b[0mE\u001b[6;30;43m\u001b[0m|\n",
            "|\u001b[6;30;43m_________\u001b[0mE\u001b[6;30;43m_\u001b[0m|\n",
            "|\u001b[6;30;43m________\u001b[0mE\u001b[6;30;43m__\u001b[0m|\n",
            "|\u001b[6;30;43m_______\u001b[0mE\u001b[6;30;43m___\u001b[0m|\n",
            "|\u001b[6;30;43m______\u001b[0mE\u001b[6;30;43m____\u001b[0m|\n",
            "|\u001b[6;30;43m_____\u001b[0mE\u001b[6;30;43m_____\u001b[0m|\n",
            "|\u001b[6;30;43m____\u001b[0mE\u001b[6;30;43m______\u001b[0m|\n",
            "|\u001b[6;30;43m___\u001b[0mE\u001b[6;30;43m_______\u001b[0m|\n",
            "|\u001b[6;30;43m__\u001b[0mE\u001b[6;30;43m________\u001b[0m|\n",
            "|\u001b[6;30;43m_\u001b[0mE\u001b[6;30;43m_________\u001b[0m|\n"
          ]
        }
      ]
    },
    {
      "cell_type": "markdown",
      "metadata": {
        "id": "234UmAAE3ggD"
      },
      "source": [
        "<br>\n",
        "\n",
        "####  Complete!\n",
        "+ When you have ~~completed~~ your two-sleepwalker simulation, be sure that you have at least one run held in the output of your cell(s)\n",
        "+ More than one run is ok, too\n",
        "+ Remember, once you've defined a function, you're able to run it in many cells afterwards...\n",
        "\n",
        "<br>\n",
        "\n",
        "Then, submit this to its Gradescope spot..."
      ]
    },
    {
      "cell_type": "markdown",
      "source": [
        "# Reading and Response: _ChatGPT_\n",
        "\n",
        "Of course, we have to have a ChatGPT article!\n",
        "\n",
        "Happily, the NYTimes has written many of these 😀\n",
        "+ [NYTimes article](https://www.nytimes.com/2023/02/03/technology/chatgpt-openai-artificial-intelligence.html)\n",
        "+ [Local pdf in case the above link does not work](https://drive.google.com/file/d/1SUhVAcDPcC80FfMyKUSt6EmKHOo7eImf/view?usp=sharing)\n",
        "\n",
        "The article summarizes\n",
        "+ the surprising progress in _generative AI_\n",
        "+ including both text and images\n",
        "+ and looks ahead at what's coming...\n",
        "\n",
        "<br>\n",
        "\n",
        "When you've read the article, share a short paragraph that describes\n",
        "+ your thoughts on \"Should ChatGPT be called 'sentient'?\"  That is, is it \"thinking,\" in the way you use that word. Why or why not...\n",
        "+ or, your thoughts on the differences between ChatGPT's \"thinking\" and \"human thinking\": how would you describe those?\n",
        "+ or, share your thoughts on _which traditionally-human activity_ will ChatGPT have the largest influence on, over the next 2-3 years?\n",
        "\n",
        "<br>\n",
        "\n",
        "Also, **feel free to use ChatGPT** to write your response to these prompts above... If you do this, then:\n",
        "+ add your thoughts on how well ChatGPT was able to answer the prompt\n",
        "+ also, share whether you agree, disagree, or derive some other opinion with respect to ChatGPT's self-description!\n",
        "\n",
        "<br>\n",
        "\n",
        "It's an interesting era in which we live!"
      ],
      "metadata": {
        "id": "7pzngEXA4h8U"
      }
    },
    {
      "cell_type": "markdown",
      "source": [
        "### Feel free to use this cell for your thoughts\n",
        "\n",
        "I think ChatGPT doesn’t actually think rather it just predicts words based on patterns, without understanding, feelings, or awareness. Human thinking involves memory, emotions, and real understanding, while ChatGPT is just really good at sounding like it knows what it’s talking about. That said, I think it’s already changing how we write, learn, and research, and in the next few years, it’ll probably have a big impact on education and work. I agree it’s not sentient, but I think it can definitely give the illusion of thinking.\n",
        "\n",
        "<br><br>\n",
        "\n"
      ],
      "metadata": {
        "id": "dtcBswtz6M7y"
      }
    },
    {
      "cell_type": "markdown",
      "source": [
        "# Submitting...\n",
        "\n",
        "Be sure to submit the url of _your_ copy -- with the challenges, questions, and programs composed --\n",
        "+ to Canvas in the appropriate spot\n",
        "+ by the appropriate Frisay evening (any time)\n",
        "+ shared with me (ZD)  ``zdodds@gmail.com``\n",
        "\n",
        "Remember that there is lots of tutoring support, as well as office-hour support available...  \n",
        "\n",
        "<br>\n",
        "\n",
        "\n",
        "As a reminder, the programming parts of IST341 match the spirit of the course, in seeking, among other things:\n",
        "+ creativity/novelty\n",
        "+ personalization/individual context\n",
        "+ exploration and understanding (does it run?)"
      ],
      "metadata": {
        "id": "rNHGo2zHWUuo"
      }
    }
  ],
  "metadata": {
    "colab": {
      "provenance": []
    },
    "kernelspec": {
      "display_name": "Python 3",
      "name": "python3"
    },
    "language_info": {
      "name": "python"
    }
  },
  "nbformat": 4,
  "nbformat_minor": 0
}