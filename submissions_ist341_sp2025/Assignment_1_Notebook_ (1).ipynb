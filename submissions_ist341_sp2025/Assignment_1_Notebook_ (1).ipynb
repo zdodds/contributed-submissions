{
  "cells": [
    {
      "cell_type": "markdown",
      "metadata": {
        "id": "NoXM4SE7QVPh"
      },
      "source": [
        "# Welcome to IST 341, everyone!!!!!! My Name Is IST341_Participant_3\n",
        "\n",
        "_\"CS Insights via Python\"_\n"
      ]
    },
    {
      "cell_type": "markdown",
      "metadata": {
        "id": "XYrs0QreNBM8"
      },
      "source": [
        "### <font color=\"darkblue\"><b>Welcome to Python notebooks! 🐍</b></font>\n",
        "\n",
        "***Computing*** is a powerful technique for discovery, in IS and IT, in science and engineering, and in many fields.\n",
        "\n",
        "This Python notebook interleaves descriptions with its computations. Both text and code are hosted in ***cells***:\n",
        "   + _description cells_, like this cell, are in **markdown**, a widely-used language for <u>presenting</u> ideas with text, pictures, etc. 📖\n",
        "   + Markdown can be **bold**\n",
        "   + _computation cells_, which you will see just below, are in **Python**, a widely-used language for <u>executing</u> ideas, that is, _code_  💻\n",
        "\n",
        "In the following cells, you'll create a description with some details about yourself.\n",
        "\n",
        "In the cells after that, you'll read, run, and compose ~~Java~~ Python scripts (snippets)\n",
        "\n",
        "\n"
      ]
    },
    {
      "cell_type": "code",
      "source": [
        "# Here is a coding cell. Try it!\n",
        "\n",
        "41 + 1"
      ],
      "metadata": {
        "id": "cwvfwfoIDk4I",
        "colab": {
          "base_uri": "https://localhost:8080/"
        },
        "outputId": "e4dc8680-edb3-4e2d-b229-34a850563283"
      },
      "execution_count": null,
      "outputs": [
        {
          "output_type": "execute_result",
          "data": {
            "text/plain": [
              "42"
            ]
          },
          "metadata": {},
          "execution_count": 1
        }
      ]
    },
    {
      "cell_type": "markdown",
      "metadata": {
        "id": "ki_QjFa6dkUY"
      },
      "source": [
        "### <font color=\"FireBrick\"><b>Overview of Week1's Python Notebook</b> (this notebook)</font>\n",
        "\n",
        "This notebook itself offers examples and guidance for diving in to computing with Python and communicating with notebooks and markdown.\n",
        "\n",
        "This assignment, solo or in a team of 2-3, asks you to\n",
        "+ work through the examples,\n",
        "+ trying out examples as they arise\n",
        "+ answering questions that are interspersed\n",
        "+ writing new cells, markdown or Python, as the challenges arise\n",
        "\n",
        "Specifically, there are several waypoints in this notebook:\n",
        "1. when you complete an \"introduction\" markdown cell, about yourself\n",
        "2. when you have tried out and generated new data of various types\n",
        "3. when you have worked on the \"Four fours\" problem (finding all but 4!)\n",
        "4. when you've run and analyzed the first (very unfair) rock-paper-scissors example\n",
        "5. when you've created a fair - and complete - RPS example\n",
        "6. and, when you've authored a choose-your-own-adventure interactive fiction, using a number of different control structures to navigate various story-threads..., and\n",
        "7. reading an article about how language can influence thought -- and then reflecting on how you've \"bumped into the boundaries\" of language!  \n",
        "\n",
        "\n"
      ]
    },
    {
      "cell_type": "markdown",
      "metadata": {
        "id": "M7dzL4m4fPYf"
      },
      "source": [
        "# Make your own <u>copy</u> of this notebook\n",
        "\n",
        "### Do this now...   &nbsp;&nbsp; _Troubles? Let me know._\n",
        "\n",
        "<br>\n",
        "\n",
        "With the starter notebook, you'll be able to read the content.\n",
        "When signed in with Google, you'll be able to run it.\n",
        "But you won't be able to _edit_ until you have your own copy.\n",
        "\n",
        "So, to get started, make your own copy of this notebook:\n",
        "+ it will be stored in your space in Google Drive\n",
        "+ you'll need to use Google credentials to make a copy and run cells\n",
        "+ from there, you can edit, answer, and compose\n",
        "\n",
        "<br>\n",
        "\n",
        "### Submitting\n",
        "\n",
        "When you're ready to submit, be sure to\n",
        "+ **share** your new copied-and-edited notebook with me:\n",
        "   + `zdodds@gmail.com`\n",
        "+ and **submit** the url to your new copied-and-edited notebook at the appropriate spot on Canvas"
      ]
    },
    {
      "cell_type": "markdown",
      "metadata": {
        "id": "SqlZ-RCK6jJV"
      },
      "source": [
        "# Markdown cells"
      ]
    },
    {
      "cell_type": "markdown",
      "metadata": {
        "id": "0e0JxCVbJY3C"
      },
      "source": [
        "### Your task\n",
        "\n",
        "The next few cells show a few example introductions...\n",
        "\n",
        "__Your task__ is to create a new markdown cell that answers the same questions as these...\n",
        "\n",
        "If you're working in a team, create one for each person."
      ]
    },
    {
      "cell_type": "markdown",
      "metadata": {
        "id": "bvOcPiH26gpY"
      },
      "source": [
        "### <font color=\"DodgerBlue\"><b>Introduction: IST341_Participant_3</b></font>\n",
        "+ _Name_:  IST341_Participant_3\n",
        "+ _School_:  PhD Student at CGU\n",
        "+ _Two favorite things_:  \n",
        "   + My favorite beverages are __Black Coffee, Arabic Coffee and Tea__.\n",
        "   + one of my many favorite snacks are __milk shake & Cookies__.\n",
        "+ _Two least-favorite things_:   \n",
        "   + My least-favorite coffee is __coffee latte  & hot chocolate__ and\n",
        "   + I also don't like cold or iced coffee, I don't count it as a coffee!\n",
        "+ _Links to 4-6 things_ I find interesting/fun/inspiring/informative etc:\n",
        "   + YES, I enjoy using AI bots chats, I use it alot such as: [ChatGPT](https://openai.com/blog/chatgpt/)  &nbsp;  \n",
        "   + I love going to the gym, probably 4 to 5 days a week. [Planet Fitness](https://www.planetfitness.com) &nbsp;\n",
        "   + I love astronomy and watching the stars, not through a telescope, but by using an app called \"Night Sky.\" When I see a bright star at night, I often wonder if it’s Jupiter or Mars, or maybe a galaxy that's far away from us. I open the app and point my device in the desired direction, and it will show me all the stars, planets, and even galaxies in that area. If you click on an object it will show you detailed info about it. You can zoom in and out to locate specific objects. The app also displays the live location of the International Space Station (ISS) and other satellites that orbit Earth. [Night Sky](https://icandiapps.com/)</font>\n",
        "   + Watching TV shows and Movies with family and friends is my favorite thing to do in my free time. [Netflix](https://www.netflix.com/)!\n",
        "   + I enjoy visiting ancient palaces, and my favorite place in my country is Alula, where an ancient civilization thrived thousands of years ago. A place that looks like a gate to an alien galaxy.  [Journey to the past](https://www.experiencealula.com/en/places-to-go/hegra)\n",
        "   \n",
        "\n",
        "<br>"
      ]
    },
    {
      "cell_type": "markdown",
      "metadata": {
        "id": "IHspQgMgdkbg"
      },
      "source": [
        "# Code cells"
      ]
    },
    {
      "cell_type": "markdown",
      "metadata": {
        "id": "meZNmZg4CpfP"
      },
      "source": [
        "### <font color=\"darkblue\"><b>Code cells: &nbsp; <i>Executable</i> expression</b></font>\n",
        "\n",
        "The next section of this notebook demonstrates several *code cells* and invites you to try - and build - several of your own.\n",
        "\n",
        "This next cell holds a short, scripted conversation. Try it:\n",
        "\n",
        "(ChatGPT, it is not!)\n"
      ]
    },
    {
      "cell_type": "code",
      "execution_count": null,
      "metadata": {
        "id": "PX16cW1aLQq1",
        "colab": {
          "base_uri": "https://localhost:8080/"
        },
        "collapsed": true,
        "outputId": "764585b1-c543-4c58-da1b-f0e81284778f"
      },
      "outputs": [
        {
          "output_type": "error",
          "ename": "KeyboardInterrupt",
          "evalue": "Interrupted by user",
          "traceback": [
            "\u001b[0;31m---------------------------------------------------------------------------\u001b[0m",
            "\u001b[0;31mKeyboardInterrupt\u001b[0m                         Traceback (most recent call last)",
            "\u001b[0;32m<ipython-input-3-b34a5f18252c>\u001b[0m in \u001b[0;36m<cell line: 0>\u001b[0;34m()\u001b[0m\n\u001b[1;32m      3\u001b[0m \u001b[0;34m\u001b[0m\u001b[0m\n\u001b[1;32m      4\u001b[0m \u001b[0;34m\u001b[0m\u001b[0m\n\u001b[0;32m----> 5\u001b[0;31m \u001b[0manswer\u001b[0m \u001b[0;34m=\u001b[0m \u001b[0minput\u001b[0m\u001b[0;34m(\u001b[0m\u001b[0;34m\"What is your name? \"\u001b[0m\u001b[0;34m)\u001b[0m\u001b[0;34m\u001b[0m\u001b[0;34m\u001b[0m\u001b[0m\n\u001b[0m\u001b[1;32m      6\u001b[0m \u001b[0mprint\u001b[0m\u001b[0;34m(\u001b[0m\u001b[0;34m\"Welcome,\"\u001b[0m\u001b[0;34m,\u001b[0m \u001b[0manswer\u001b[0m\u001b[0;34m)\u001b[0m\u001b[0;34m\u001b[0m\u001b[0;34m\u001b[0m\u001b[0m\n\u001b[1;32m      7\u001b[0m \u001b[0mprint\u001b[0m\u001b[0;34m(\u001b[0m\u001b[0;34m)\u001b[0m\u001b[0;34m\u001b[0m\u001b[0;34m\u001b[0m\u001b[0m\n",
            "\u001b[0;32m/usr/local/lib/python3.11/dist-packages/ipykernel/kernelbase.py\u001b[0m in \u001b[0;36mraw_input\u001b[0;34m(self, prompt)\u001b[0m\n\u001b[1;32m    849\u001b[0m                 \u001b[0;34m\"raw_input was called, but this frontend does not support input requests.\"\u001b[0m\u001b[0;34m\u001b[0m\u001b[0;34m\u001b[0m\u001b[0m\n\u001b[1;32m    850\u001b[0m             )\n\u001b[0;32m--> 851\u001b[0;31m         return self._input_request(str(prompt),\n\u001b[0m\u001b[1;32m    852\u001b[0m             \u001b[0mself\u001b[0m\u001b[0;34m.\u001b[0m\u001b[0m_parent_ident\u001b[0m\u001b[0;34m,\u001b[0m\u001b[0;34m\u001b[0m\u001b[0;34m\u001b[0m\u001b[0m\n\u001b[1;32m    853\u001b[0m             \u001b[0mself\u001b[0m\u001b[0;34m.\u001b[0m\u001b[0m_parent_header\u001b[0m\u001b[0;34m,\u001b[0m\u001b[0;34m\u001b[0m\u001b[0;34m\u001b[0m\u001b[0m\n",
            "\u001b[0;32m/usr/local/lib/python3.11/dist-packages/ipykernel/kernelbase.py\u001b[0m in \u001b[0;36m_input_request\u001b[0;34m(self, prompt, ident, parent, password)\u001b[0m\n\u001b[1;32m    893\u001b[0m             \u001b[0;32mexcept\u001b[0m \u001b[0mKeyboardInterrupt\u001b[0m\u001b[0;34m:\u001b[0m\u001b[0;34m\u001b[0m\u001b[0;34m\u001b[0m\u001b[0m\n\u001b[1;32m    894\u001b[0m                 \u001b[0;31m# re-raise KeyboardInterrupt, to truncate traceback\u001b[0m\u001b[0;34m\u001b[0m\u001b[0;34m\u001b[0m\u001b[0m\n\u001b[0;32m--> 895\u001b[0;31m                 \u001b[0;32mraise\u001b[0m \u001b[0mKeyboardInterrupt\u001b[0m\u001b[0;34m(\u001b[0m\u001b[0;34m\"Interrupted by user\"\u001b[0m\u001b[0;34m)\u001b[0m \u001b[0;32mfrom\u001b[0m \u001b[0;32mNone\u001b[0m\u001b[0;34m\u001b[0m\u001b[0;34m\u001b[0m\u001b[0m\n\u001b[0m\u001b[1;32m    896\u001b[0m             \u001b[0;32mexcept\u001b[0m \u001b[0mException\u001b[0m \u001b[0;32mas\u001b[0m \u001b[0me\u001b[0m\u001b[0;34m:\u001b[0m\u001b[0;34m\u001b[0m\u001b[0;34m\u001b[0m\u001b[0m\n\u001b[1;32m    897\u001b[0m                 \u001b[0mself\u001b[0m\u001b[0;34m.\u001b[0m\u001b[0mlog\u001b[0m\u001b[0;34m.\u001b[0m\u001b[0mwarning\u001b[0m\u001b[0;34m(\u001b[0m\u001b[0;34m\"Invalid Message:\"\u001b[0m\u001b[0;34m,\u001b[0m \u001b[0mexc_info\u001b[0m\u001b[0;34m=\u001b[0m\u001b[0;32mTrue\u001b[0m\u001b[0;34m)\u001b[0m\u001b[0;34m\u001b[0m\u001b[0;34m\u001b[0m\u001b[0m\n",
            "\u001b[0;31mKeyboardInterrupt\u001b[0m: Interrupted by user"
          ]
        }
      ],
      "source": [
        "# This is a code cell.\n",
        "# To run it, click play at left or type ctrl-enter (cmd-enter)\n",
        "\n",
        "\n",
        "answer = input(\"What is your name? \")\n",
        "print(\"Welcome,\", answer)\n",
        "print()\n",
        "\n",
        "print(\"My favorite number is 42, naturally.\")\n",
        "fav_num = input(\"What is your favorite number? \")\n",
        "print()\n",
        "\n",
        "print(\"Nice!\", fav_num, \"is solid. And very numeric!\")\n",
        "print(\"Plus, it's close to the best number, 42.\")"
      ]
    },
    {
      "cell_type": "markdown",
      "metadata": {
        "id": "yzbg8tydDRFF"
      },
      "source": [
        "### <font color=\"darkblue\"><b>Variables and <i>values</i></b></font>\n",
        "\n",
        "The above cell, when run, interacts with a user. Notice!\n",
        "+ The <tt>input</tt> function pauses for user input.\n",
        "+ The <tt>answer</tt> variable \"catches\" the user's input.\n",
        "+ The <tt>print</tt> function, well, prints things!\n",
        "+ The single-equals-sign <tt>=</tt> is <u>assignment</u>\n",
        "   + it's <u><i>assigning</i></u> the left-side <i>variable</i> to be a name for the right-side <i>value</i>\n",
        "   + thus, the variable <tt>answer</tt> is a name for the user's input (what the user typed)\n",
        "   + and, the variable <tt>fav_num</tt> is a name for the next user input (what the user typed)\n"
      ]
    },
    {
      "cell_type": "markdown",
      "metadata": {
        "id": "D9PhlqFUbqkL"
      },
      "source": [
        "### <font color=\"darkblue\"><b><i>Variables</i> vs. <i>values</i></b></font>\n",
        "\n",
        "This is an important distinction: <i>variables</i> vs. <i>values</i>:\n",
        "+ Variables give names to values. For example,\n",
        "+ The <tt>answer</tt> variable gives the name <tt>answer</tt> to the user's first input.\n",
        "+ The <tt>fav_num</tt> variable gives the name <tt>fav_num</tt> to the user's second input.\n",
        "\n",
        "In the next cell, notice that <tt>fav_num</tt> continues to hold the user-input value:"
      ]
    },
    {
      "cell_type": "code",
      "execution_count": null,
      "metadata": {
        "id": "zfjuDVZSE6kd"
      },
      "outputs": [],
      "source": [
        "print(\"fav_num is\", fav_num)"
      ]
    },
    {
      "cell_type": "markdown",
      "source": [
        "### <font color=\"darkblue\"><b><i>Short AI Challenge</i></b></font>\n",
        "+ <tt>fav_num</tt> is a <i>string</i> not an <i>integer</i>\n",
        "+ that is, <tt>fav_num</tt> is a sequence of characters, not a numeric value\n",
        "\n",
        "<b><font color=\"Cinnamon\">Challenge</font></b>: Use AI to print the number that's one BIGGER than <tt>fav_num</tt>. That is, <tt>fav_num+1</tt>\n",
        "+ This is tricky, because we need to create an integer in order to add 1\n",
        "+ See if you can work with AI to make this work!\n",
        "+ Be sure what you're printing uses <tt>fav_num</tt>\n",
        "+ That way, it will work <i>no matter the value</i> that <tt>fav_num</tt> has!"
      ],
      "metadata": {
        "id": "tfSroVG_BGlD"
      }
    },
    {
      "cell_type": "code",
      "source": [
        "fav_num = input(\"What is your favorite number? \")\n",
        "\n",
        "# Type Converting\n",
        "next_num = int(fav_num) + 1\n",
        "\n",
        "print(\"Your favorite number is\", fav_num, \"and one number bigger than your fav, is\", next_num)\n"
      ],
      "metadata": {
        "id": "H4jGTuxEAhN-",
        "colab": {
          "base_uri": "https://localhost:8080/"
        },
        "outputId": "a5701fab-146b-4f1e-fa2c-9a1dbf639a99"
      },
      "execution_count": null,
      "outputs": [
        {
          "output_type": "stream",
          "name": "stdout",
          "text": [
            "What is your favorite number? 25\n",
            "Your favorite number is 25 and one number bigger than your fav, is 26\n"
          ]
        }
      ]
    },
    {
      "cell_type": "markdown",
      "metadata": {
        "id": "yKgcC7vqR_V7"
      },
      "source": [
        "### <font color=\"darkblue\"><b><i>Operators</i> and <i>Composition</i></b></font>\n",
        "\n",
        "CS usually means _Computer Science_\n",
        "\n",
        "However, CS is more accurately thought of as _Compositional Science_:\n",
        "+ Software/programs are collections of small behaviors, carefully composed together  \n",
        "+ Computers themselves are simply large compositions of smaller machines, each of which contributes to the whole\n",
        "\n",
        "The conceptual effort of CS is predominantly creating _compositions_\n",
        "+ Determining the pieces needed for the task at hand, then\n",
        "+ Assembling those pieces into the overall system desired\n",
        "\n",
        "<br>\n",
        "\n",
        "If CS is _Compositional Science_, let's dive in!\n",
        "\n",
        "We'll use the Four fours challenge.\n",
        "\n",
        "First, try out some example ___computations___:"
      ]
    },
    {
      "cell_type": "code",
      "execution_count": null,
      "metadata": {
        "id": "Bxj7vIZFYio3",
        "colab": {
          "base_uri": "https://localhost:8080/"
        },
        "outputId": "28189da1-feb7-4353-84c6-89bbfb5c14fc"
      },
      "outputs": [
        {
          "output_type": "execute_result",
          "data": {
            "text/plain": [
              "42"
            ]
          },
          "metadata": {},
          "execution_count": 9
        }
      ],
      "source": [
        "# This is a code-cell, which should be runnable with the arrow,\n",
        "# also with (control-enter) or (command-return)\n",
        "\n",
        "35 + 7"
      ]
    },
    {
      "cell_type": "code",
      "execution_count": null,
      "metadata": {
        "id": "MSbR9gE5Ym-W",
        "colab": {
          "base_uri": "https://localhost:8080/"
        },
        "outputId": "690e5366-45c8-4412-8f35-58da30c55eef"
      },
      "outputs": [
        {
          "output_type": "execute_result",
          "data": {
            "text/plain": [
              "10000000000000000000000000000000000000000000000000000000000000000000000000000000000000000000000000000"
            ]
          },
          "metadata": {},
          "execution_count": 10
        }
      ],
      "source": [
        "# Try running this cell to compute a googol\n",
        "# This is the number after which Google was named!\n",
        "\n",
        "10**100   # ** is power operator"
      ]
    },
    {
      "cell_type": "code",
      "execution_count": null,
      "metadata": {
        "id": "_5uXKX2KYyjk",
        "colab": {
          "base_uri": "https://localhost:8080/"
        },
        "outputId": "e1061dde-b8d9-4675-fe2e-9d66cc273199"
      },
      "outputs": [
        {
          "output_type": "execute_result",
          "data": {
            "text/plain": [
              "2.0"
            ]
          },
          "metadata": {},
          "execution_count": 11
        }
      ],
      "source": [
        "# This cell imports the math library and then runs a function from it.\n",
        "# (The square root of 4 is 2, as you'll see :-)\n",
        "\n",
        "from math import *    # imports the sqrt function and others\n",
        "sqrt(4)"
      ]
    },
    {
      "cell_type": "code",
      "execution_count": null,
      "metadata": {
        "id": "L6vcRkZWY1aL",
        "colab": {
          "base_uri": "https://localhost:8080/"
        },
        "outputId": "6ceb5912-1f8a-45ad-e6f9-b5399b9de78d"
      },
      "outputs": [
        {
          "output_type": "execute_result",
          "data": {
            "text/plain": [
              "3628800"
            ]
          },
          "metadata": {},
          "execution_count": 12
        }
      ],
      "source": [
        "# Here is an example of the \"factorial\" function. factorial(4) is 1*2*3*4, which is 24\n",
        "\n",
        "factorial(10)     # also imported from the math library"
      ]
    },
    {
      "cell_type": "code",
      "source": [
        "1*2*3*4*5*6*7*8*9*10"
      ],
      "metadata": {
        "id": "6pcaQF7xRKTD",
        "colab": {
          "base_uri": "https://localhost:8080/"
        },
        "outputId": "38061c64-3cae-4b90-c3bb-6c47eb883191"
      },
      "execution_count": null,
      "outputs": [
        {
          "output_type": "execute_result",
          "data": {
            "text/plain": [
              "3628800"
            ]
          },
          "metadata": {},
          "execution_count": 13
        }
      ]
    },
    {
      "cell_type": "code",
      "execution_count": null,
      "metadata": {
        "id": "mVQwZMOyZel9",
        "colab": {
          "base_uri": "https://localhost:8080/"
        },
        "outputId": "8e7f3d14-5a34-4afd-cbe1-402f762c24b8"
      },
      "outputs": [
        {
          "output_type": "stream",
          "name": "stdout",
          "text": [
            "Zero is 0\n",
            "One is 1\n",
            "Two is 1.0\n"
          ]
        }
      ],
      "source": [
        "# This cell shows how printing works. Try it!\n",
        "# It should print:   Zero is 0\n",
        "#             and:   One is 1       actually, 1.0, This is ok!\n",
        "#\n",
        "# Notice that this sets you up for the Four fours challenge!\n",
        "\n",
        "print(\"Zero is\", 4+4-4-4)\n",
        "print(\"One is\", 1)                 # Uh oh! No non-fours allowed!!\n",
        "print(\"Two is\", (4/4) * (4/4)  )   # Uh oh! This is incorrect... temporarily\n",
        "\n",
        "\n",
        "\n"
      ]
    },
    {
      "cell_type": "code",
      "source": [
        "-4 + sqrt(4) + factorial(4) - 4"
      ],
      "metadata": {
        "id": "qpBNpg3iT6WJ",
        "colab": {
          "base_uri": "https://localhost:8080/"
        },
        "outputId": "e58ffe98-737a-4835-8766-aa9c306c2392"
      },
      "execution_count": null,
      "outputs": [
        {
          "output_type": "execute_result",
          "data": {
            "text/plain": [
              "18.0"
            ]
          },
          "metadata": {},
          "execution_count": 15
        }
      ]
    },
    {
      "cell_type": "markdown",
      "metadata": {
        "id": "n8v3V2pNaMY0"
      },
      "source": [
        "### <font color=\"darkblue\"><b><i>Challenge</i>: Four fours</b></font>\n",
        "\n",
        "+ The challenge: add several more lines similar to the above line to compute values from `0` to `24`\n",
        "  + you should compute at least 21 of these 25 values (from 0 through 24) using exactly four fours -- and no other numbers).\n",
        "  + why only 21 of the 25 possibilities? So that you can skip <u>four</u>, if they give you trouble!\n",
        "  \n",
        "<br>\n",
        "\n",
        "+ You may use any of Python's arithmetic operations:\n",
        "  + `-`    subtraction or negation\n",
        "  + `*`    multiplication\n",
        "  + `/`    division\n",
        "  + `(   )`    parentheses for grouping\n",
        "  + `**`    power\n",
        "\n",
        "<br>\n",
        "\n",
        "#### hints and notes:\n",
        "+ Results with decimals: 1.0, 2.0, etc. are totally OK!\n",
        "+ You may also use 44 or 4.4, each of which count as two fours,\n",
        "+ or .4, which counts as one four.\n",
        "+ or, `sqrt`, for example `math.sqrt(4)` (or others, from the `math` library\n",
        "+ or, `factorial`, for example `math.factorial(4)` (or others).\n",
        "\n",
        "#### desired results:\n",
        "Here are what the results, but not the source code, will look like.\n",
        "Remember you need only 21 of them!\n",
        "\n",
        "<code><pre>\n",
        "Zero is 0\n",
        "One is 1\n",
        "Two is 2\n",
        "Three is 3\n",
        "Four is 4\n",
        "Five is 5\n",
        "Six is 6\n",
        "Seven is 7\n",
        "Eight is 8\n",
        "Nine is 9\n",
        "Ten is 10\n",
        "Eleven is 11\n",
        "Twelve is 12\n",
        "Thirteen is 13\n",
        "Fourteen is 14\n",
        "Fifteen is 15\n",
        "Sixteen is 16\n",
        "Seventeen is 17\n",
        "Eighteen is 18\n",
        "Nineteen is 19\n",
        "Twenty is 20\n",
        "Twenty-one is 21\n",
        "Twenty-two is 22\n",
        "Twenty-three is 23\n",
        "Twenty-four is 24\n",
        "Twenty-five is 25\n",
        "</pre></code>\n",
        "\n",
        "\n",
        "\n",
        "\n",
        "\n",
        "\n"
      ]
    },
    {
      "cell_type": "markdown",
      "source": [
        "### <font color=\"darkblue\"><b>Use AI!</b></font>\n",
        "\n",
        "You're encouraged to use AI to help you...\n",
        "\n",
        "Remember -- AI can be helpful, and AI can be misleading.\n",
        "\n",
        "The skill of our era:\n",
        "+ <b><i>keep AI's help</i></b>\n",
        "+ skip what's unhelpful\n",
        "+ practice <i><u>describing</u></i> that difference...\n",
        "  + to yourself...\n",
        "  + to others..."
      ],
      "metadata": {
        "id": "iRS2xfeAEeOR"
      }
    },
    {
      "cell_type": "code",
      "source": [],
      "metadata": {
        "id": "bKNTfuQjFQiT"
      },
      "execution_count": null,
      "outputs": []
    },
    {
      "cell_type": "code",
      "execution_count": null,
      "metadata": {
        "id": "sKyO0_HEaXXs",
        "colab": {
          "base_uri": "https://localhost:8080/"
        },
        "outputId": "078aa93b-0da9-48c9-dede-bbd87b5aeacd"
      },
      "outputs": [
        {
          "output_type": "stream",
          "name": "stdout",
          "text": [
            "Zero is 0\n",
            "One is 1.0\n",
            "Two is 2.0\n",
            "Three is 3.0\n",
            "Four is 4\n",
            "Five is 5.0\n",
            "Six is 6.0\n",
            "Seven is 7.0\n",
            "Eight is 8\n",
            "Nine is 9.0\n",
            "Ten is 10.0\n",
            "Eleven is 11.0\n",
            "Twelve is 12.0\n",
            "Thirteen is 12.0\n",
            "Fourteen is 14.0\n",
            "Fifteen is 15.0\n",
            "Sixteen is 16\n",
            "Seventeen is 17.0\n",
            "Eighteen is 18.0\n",
            "Nineteen is 19.0\n",
            "Twenty is 20.0\n",
            "Twenty-one is 21.0\n",
            "Twenty-two is 21\n",
            "Twenty-three is 22\n",
            "Twenty-four is 24\n"
          ]
        }
      ],
      "source": [
        "#\n",
        "#  Here is a space for your explorations and solutions\n",
        "#       to the Four fours challenge.\n",
        "#\n",
        "# This will get you started.\n",
        "\n",
        "import math\n",
        "\n",
        "print(\"Zero is\", 4+4-4-4)\n",
        "print(\"One is\", (4/4)*(4/4))  # yay!  exactly four fours - and no other digits\n",
        "\n",
        "\n",
        "print(\"Two is\", (4 / 4) + (4 / 4))\n",
        "print(\"Three is\", (4 + 4 + 4) / 4)\n",
        "print(\"Four is\", 4 + (4 - 4) * 4)\n",
        "print(\"Five is\", (4 * 4 + 4) / 4)\n",
        "print(\"Six is\", (4 + 4) / 4 + 4)\n",
        "print(\"Seven is\", (44 / 4) - 4)\n",
        "print(\"Eight is\", (4 + 4))\n",
        "print(\"Nine is\", (4/4 + 4 + 4))\n",
        "print(\"Ten is\", (44 / 4.4) )\n",
        "print(\"Eleven is\", (4/.4 + 4/4))\n",
        "print(\"Twelve is\", ((44 + 4) / 4))\n",
        "print(\"Thirteen is\", (44 / 4) + (4 / 4)) #############\n",
        "print(\"Fourteen is\", ((4 * (4 - .4)) - .4))\n",
        "print(\"Fifteen is\", (44 / 4 + 4))\n",
        "print(\"Sixteen is\", (4 + 4) + (4 + 4))\n",
        "print(\"Seventeen is\", (4 * 4) + (4 / 4))\n",
        "print(\"Eighteen is\", (44 * .4) + .4)\n",
        "print(\"Nineteen is\", (4 * 4) + 4 - 4 / 4) ############\n",
        "print(\"Twenty is\",  ((4 / 4 ) + 4) * 4)\n",
        "print(\"Twenty-one is\", (4.4 + 4) / .4)\n",
        "print(\"Twenty-two is\", (4 * 4) + 4 + (4 // 4))  ##########\n",
        "print(\"Twenty-three is\", (4 * 4) + 4 + (4 // 4) + 4 // 4)  ##########\n",
        "print(\"Twenty-four is\", (4 * 4) + 4 + 4)\n",
        "\n",
        "\n"
      ]
    },
    {
      "cell_type": "markdown",
      "metadata": {
        "id": "3AJ4cFJsMAMs"
      },
      "source": [
        "### <font color=\"darkblue\"><b>Data</b></font>\n",
        "\n",
        "The Four fours challenge uses _only_ numeric data, stereotypical of computing.\n",
        "\n",
        "In general, however, data can be numeric or sequential.\n",
        "\n",
        "Here are the two most important examples of each:\n",
        "+ <tt>46</tt>, <tt>42</tt>, <tt>-40</tt>, <tt>0</tt>, and <tt>1000000000000</tt> are <i>integers</i>. Integers are a _numeric_ type.\n",
        "   + in Python they are of type <font color=\"darkred\"><b><tt>int</tt></b></font>\n",
        "+ <tt>3.14</tt>, <tt>46.0</tt>, <tt>-.001</tt> are <i>floating-point</i> values: numeric with a fractional part - even if that fractional part is zero.\n",
        "   + in Python these are of type <font color=\"darkred\"><b><tt>float</tt></b></font>\n",
        "+ <tt>\"claremont\"</tt>, <tt>'Python'</tt>, and <tt>\"ATG\"</tt> are <i>strings</i>. They are sequences of characters. Single-quotes <tt>'like this'</tt> and double-quotes <tt>\"like this\"</tt> are both ok and both equivalent.\n",
        "   + strings in Python are of type <font color=\"darkred\"><b><tt>str</tt></b></font>\n",
        "+ <tt>[4,6]</tt>, <tt>[4,5,6]</tt>, <tt>[ \"scripps\", \"pitzer\", \"cgu\" ]</tt>, and <tt>[ [7,\"scripps\"], [6,\"pitzer\"], [3,\"cgu\"] ]</tt> are <i>lists</i>, sequences of anything at all...\n",
        "   + in Python they are of type <font color=\"darkred\"><b><tt>list</tt></b></font>\n",
        "\n",
        "The next cell provides working examples.\n",
        "\n",
        "The following cell asks you to create one of each -- with your own context added. :-)"
      ]
    },
    {
      "cell_type": "code",
      "execution_count": null,
      "metadata": {
        "id": "q1maiptdOM7E",
        "colab": {
          "base_uri": "https://localhost:8080/"
        },
        "outputId": "e53cc2e3-33d9-400d-e166-c1625924cd05"
      },
      "outputs": [
        {
          "output_type": "stream",
          "name": "stdout",
          "text": [
            "Our examples:\n",
            "\n",
            "fav_num is 46 \n",
            "  type(fav_num) is <class 'int'>\n",
            "\n",
            "pi is 3.14 \n",
            "  type(pi) is <class 'float'>\n",
            "\n",
            "inator_creator is Dr. Heinz Doofenshmirtz \n",
            "  type(inator_creator) is <class 'str'>\n",
            "\n",
            "L is ['jan', 31, 'feb', 28, 'mar', 31] \n",
            "  type(L) is <class 'list'>\n",
            "\n"
          ]
        }
      ],
      "source": [
        "#\n",
        "# examples of the most important four types of data\n",
        "#   Numeric:     int, float\n",
        "#   Sequential:  str, list\n",
        "#\n",
        "\n",
        "print(\"Our examples:\")\n",
        "print()\n",
        "\n",
        "fav_num = 46      # an int\n",
        "pi = 3.14         # a float\n",
        "\n",
        "inator_creator = 'Dr. Heinz Doofenshmirtz'  # a string\n",
        "L = [\"jan\", 31, \"feb\", 28, \"mar\", 31]       # a list, of ints and strings\n",
        "\n",
        "#\n",
        "# now, let's print them -- and print their types:\n",
        "#\n",
        "print(\"fav_num is\", fav_num, \"\\n  type(fav_num) is\", type(fav_num))\n",
        "print()  # prints a blank line, \"\\n\" is another way to go to a newline\n",
        "\n",
        "print(\"pi is\", pi, \"\\n  type(pi) is\", type(pi))\n",
        "print()\n",
        "\n",
        "print(\"inator_creator is\", inator_creator, \"\\n  type(inator_creator) is\", type(inator_creator))\n",
        "print()\n",
        "\n",
        "print(\"L is\", L, \"\\n  type(L) is\", type(L))\n",
        "print()\n",
        "\n",
        "\n",
        "#\n",
        "# You'll notice that Python uses <class 'int'> instead of int, and so on...\n",
        "# No worries!\n",
        "#"
      ]
    },
    {
      "cell_type": "code",
      "execution_count": null,
      "metadata": {
        "id": "ZZ4wnCP5bx5u",
        "colab": {
          "base_uri": "https://localhost:8080/"
        },
        "outputId": "18ffad5a-f5a8-4a45-b6f0-8630658c6757"
      },
      "outputs": [
        {
          "output_type": "stream",
          "name": "stdout",
          "text": [
            "Your examples:\n",
            "\n",
            "this is my Info:\n",
            "name: IST341_Participant_3 , Age: 36 , Hight: 1.75 , Weight: 87\n",
            "I like to drink:  ['Coffee', 'Tea', 'Soda', 'Water']\n",
            "\n",
            "OK, Now lets print Data Types:\n",
            "IST341_Participant_3 is a type of  <class 'str'>\n",
            "36 is a type of  <class 'int'>\n",
            "1.75 is a type of  <class 'float'>\n",
            "87 is a type of  <class 'int'>\n",
            "['Coffee', 'Tea', 'Soda', 'Water'] is a type of  <class 'list'>\n"
          ]
        }
      ],
      "source": [
        "#\n",
        "# Here, create at least one example of int, float, str, and list data\n",
        "#\n",
        "#     + Feel free to copy-and-paste-then-edit from the above cell\n",
        "#\n",
        "#     + The objective is to try out variables, assignment, and printing\n",
        "#     + with your own names, data, etc.\n",
        "#\n",
        "#     + Try it out...  Creativity is the goal...\n",
        "#\n",
        "#     + Errors?  Ask us - or whoever's next to you... :-)\n",
        "#\n",
        "#\n",
        "\n",
        "print(\"Your examples:\")\n",
        "print()\n",
        "\n",
        "Name = 'IST341_Participant_3'   #string\n",
        "Age = 36   #int\n",
        "Hight = 1.75   #float\n",
        "Weight = 87   #float\n",
        "\n",
        "fav_drinks = [\"Coffee\", \"Tea\", \"Soda\", \"Water\"]   #list\n",
        "\n",
        "print(\"this is my Info:\")\n",
        "print(\"name:\", Name, \", Age:\", Age, \", Hight:\", Hight, \", Weight:\", Weight)\n",
        "print(\"I like to drink: \", fav_drinks)\n",
        "print()\n",
        "print(\"OK, Now lets print Data Types:\")\n",
        "print(Name, \"is a type of \", type(Name))\n",
        "print(Age, \"is a type of \", type(Age))\n",
        "print(Hight, \"is a type of \", type(Hight))\n",
        "print(Weight, \"is a type of \", type(Weight))\n",
        "print(fav_drinks, \"is a type of \", type(fav_drinks))\n",
        "\n",
        "\n",
        "\n"
      ]
    },
    {
      "cell_type": "markdown",
      "metadata": {
        "id": "ffp0PnOAFEid"
      },
      "source": [
        "### <font color=\"darkblue\"><b>A notebook's cells are global...</b></font>\n",
        "\n",
        "All notebook cells <u>share</u> a set of variables and their values!\n",
        "+ These are called <tt>global</tt> variables and values.\n",
        "+ These global variables and values are really convenient for exploration\n",
        "   + We can just keep exploring, cell-by-cell.\n",
        "+ It runs into trouble, however, when variable names get re-used (<i>Aargh!</i>)\n",
        "   + Re-use of a variable is called <i><b>clobbering</b></i>\n",
        "\n",
        "Let's clobber <tt>fav_num</tt> here:\n"
      ]
    },
    {
      "cell_type": "code",
      "execution_count": null,
      "metadata": {
        "id": "w2TFwHq1IIuR",
        "colab": {
          "base_uri": "https://localhost:8080/"
        },
        "outputId": "5fddfdcb-2b28-449e-e21d-a83a4d51a718"
      },
      "outputs": [
        {
          "output_type": "stream",
          "name": "stdout",
          "text": [
            "fav_num before is 1925\n",
            "fav_num after is 1925\n"
          ]
        }
      ],
      "source": [
        "#\n",
        "# example of clobbering fav_num\n",
        "#\n",
        "\n",
        "print(\"fav_num before is\", fav_num)\n",
        "\n",
        "fav_num = 1925            # Founded it!  (This was CGU's founding year.)\n",
        "\n",
        "print(\"fav_num after is\", fav_num)\n"
      ]
    },
    {
      "cell_type": "code",
      "execution_count": null,
      "metadata": {
        "id": "Li_RTYycImxB",
        "colab": {
          "base_uri": "https://localhost:8080/"
        },
        "outputId": "a3de0671-2af3-456e-b010-2e9d0f5a6ae9"
      },
      "outputs": [
        {
          "output_type": "stream",
          "name": "stdout",
          "text": [
            "Z =  10\n",
            "\n",
            "Z =  10 , X =  11 , Y =  4\n"
          ]
        }
      ],
      "source": [
        "#\n",
        "# Thought experiment:\n",
        "#   What do you think happens if you re-run the above cell?!\n",
        "#   Try it out... No need to answer the question beyond trying it! :-)\n",
        "#\n",
        "\n",
        "X = 6\n",
        "Y = 4\n",
        "Z = X + Y\n",
        "print(\"Z = \", Z)\n",
        "print()\n",
        "X = Z + 1\n",
        "print(\"Z = \", Z, \", X = \", X , \", Y = \", Y)\n"
      ]
    },
    {
      "cell_type": "markdown",
      "metadata": {
        "id": "5s912UI0uUIQ"
      },
      "source": [
        "# <font color=\"darkblue\"><b>Conditionals</b></font>\n",
        "\n",
        "### Conditionals are <i>Code Paths</i>\n",
        "\n",
        "In Python, all decisions are made through three keywords:\n",
        "+ <tt>if</tt>, <tt>elif</tt>, and <tt>else</tt>  \n",
        "+ These allow you to make decisions based on the value of data\n",
        "+ And those decisions can direct code to take different actions.\n",
        "\n",
        "These control structures are called ***conditionals***\n",
        "\n",
        "As an example of a conditional control structure, try the following cell.\n",
        "\n",
        "It plays a very unfair (and impolite) version of rock-paper-scissors:"
      ]
    },
    {
      "cell_type": "code",
      "source": [
        "comp = \"rock\"\n",
        "user = \"paper\"\n",
        "\n",
        "if comp == 'paper' and user == 'paper':\n",
        "    print('We tie. Try again?')\n",
        "\n",
        "elif comp == 'rock':\n",
        "\n",
        "    if user == 'scissors':\n",
        "        print('I win! *_*')\n",
        "    else:\n",
        "        print('You win. Aargh!')"
      ],
      "metadata": {
        "id": "wcPI5RwlYXxv",
        "colab": {
          "base_uri": "https://localhost:8080/"
        },
        "outputId": "2e734457-3756-4e46-befe-ed9487b176cf"
      },
      "execution_count": null,
      "outputs": [
        {
          "output_type": "stream",
          "name": "stdout",
          "text": [
            "You win. Aargh!\n"
          ]
        }
      ]
    },
    {
      "cell_type": "code",
      "execution_count": null,
      "metadata": {
        "id": "bQmbrQ3lxRSG",
        "colab": {
          "base_uri": "https://localhost:8080/"
        },
        "outputId": "3cff36ba-f891-4cd5-e9da-d8047ea16d8d"
      },
      "outputs": [
        {
          "output_type": "stream",
          "name": "stdout",
          "text": [
            "What is your name? a\n",
            "Welcome, a !\n",
            "\n",
            "I challenge you to rock-paper-scissors! Prepare to be vanquished!\n",
            "Which do you choose? (rock/paper/scissors):a\n",
            "\n",
            "You chose a\n",
            "Wow. You chose poorly!\n",
            "I win.\n",
            "\n",
            "Try again, if you dare...\n"
          ]
        }
      ],
      "source": [
        "# A very unfair game of rock-paper-scissors\n",
        "\n",
        "user_name = input(\"What is your name? \")\n",
        "print(\"Welcome,\", user_name, \"!\")\n",
        "print()\n",
        "\n",
        "print(\"I challenge you to rock-paper-scissors! Prepare to be vanquished!\")\n",
        "\n",
        "user_choice = input(\"Which do you choose? (rock/paper/scissors):\")\n",
        "print()\n",
        "\n",
        "if user_choice == \"rock\":\n",
        "  print(\"You chose\", user_choice)\n",
        "  print(\"But I chose paper...\")   # this doesn't seem fair...\n",
        "  print(\"My paper smothers your rock!\")\n",
        "\n",
        "elif user_choice == \"paper\":\n",
        "  print(\"You chose\", user_choice, \"?\")\n",
        "  print(\"I'm sorry: My scissors have confetti'd you!\")\n",
        "\n",
        "else:\n",
        "  print(\"You chose\", user_choice)\n",
        "  print(\"Wow. You chose poorly!\")\n",
        "  print(\"I win.\")\n",
        "\n",
        "\n",
        "print()\n",
        "print(\"Try again, if you dare...\")\n"
      ]
    },
    {
      "cell_type": "markdown",
      "metadata": {
        "id": "LVDqFSCqz_Qa"
      },
      "source": [
        "### <u><b>To Do</b></u>\n",
        "\n",
        "### Run the above cell several times...\n",
        "\n",
        "+ Try different inputs, including <tt>rock</tt>, <tt>paper</tt>, <tt>scissors</tt>, and some others. Experiment!\n",
        "+ In each case, consider the results...\n",
        "\n",
        "<br>\n",
        "\n",
        "### <u><b>To Answer</b></u>\n",
        "\n",
        "Feel free to include your answers here, just after each question. (A couple of these are completed as examples.)\n",
        "\n",
        "+ In the above cell, which lines run when <tt>user_choice</tt> is equal to ``\"rock\"``?\n",
        "   + <b>Answer</b>:  lines 13-15, the <tt>if</tt> block's body, are run in this case\n",
        "+ In the above cell, which lines run when <tt>user_choice</tt> is equal to ``\"paper\"``?\n",
        "   + <b>Answer</b>: Lines **18, 19**\n",
        "+ In the above cell, which lines run when <tt>user_choice</tt> is equal to ``\"Paper\"``? (Hint: it's different than above!)\n",
        "   + <b>Answer</b>: Lines **22, 23 , 24**\n",
        "+ In the above cell, which lines run when <tt>user_choice</tt> is equal to <tt>POPTARTS!</tt>?\n",
        "   + <b>Answer</b>: Lines **22, 23 , 24**\n",
        "+ If you delete just the <tt>if</tt> block (lines 12-15) entirely, how does the program's behavior change?\n",
        "   + <b>Answer</b>:  This breaks the code: it's a syntax error to have an <tt>elif</tt> or an <tt>else</tt> without an initial <tt>if</tt>!\n",
        "+ What if you delete just the <tt>elif</tt> block (lines 17-19)?\n",
        "   + <b>Answer</b>: The code will run without any errors but it will generate logical errors. If the user chooses \"rock\" it will print lines **13,14,15** otherwise it will print lines **22,23,24** no matter what the choice is.\n",
        "\n",
        "+ What if you delete just the <tt>else</tt> block (lines 21-24)?\n",
        "   + <b>Answer</b>: The code will run without any errors but there will missing choices to handle. If the user chooses \"rock\" it will print lines **13,14,15**. If the user chooses \"paper\" it will print lines **18,19**. However, when the user chooses \"scissors\" or any other invalid entry, the code will print lines **28**.\n",
        "\n",
        "+ What if you change just the keyword <tt>elif</tt> to the keyword <tt>if</tt> on line 17? How does the program's behavior change?\n",
        "   + <b>Answer</b>: The code will run without any errors but when the user chooses \"rock\", it will check the two if test every time and this will result in double-printed results. For example, If the user chooses \"rock\" it will print lines **13,14,15** but it does not stop there it will also go to the second if \"line **17**\" and check for the test which is fault, then it will print the else block \"lines **22,23,24**\" before it will print the last two lines **27,28**. When the user chooses \"paper\" or \"scissors\" or any other choices, it will run smoothly as the original version of the code.\n",
        "<br>\n",
        "\n",
        "### <u><b>To Notice</b></u>\n",
        "\n",
        "+ In the above cell, notice that to **test** if a variable is equal to a value, Python uses two equal signs\n",
        "   + <tt>user_choice == \"rock\"</tt> is a <u>test</u>\n",
        "+ On the other hand, to **set** a variable to a value, Python uses one equal sign\n",
        "  + <tt>user_choice = input(\"Which?\")</tt> <i>sets</i> <tt>user_choice</tt>. (It's not a test.)\n",
        "+ The **body** of each conditional block is indented. This is how Python knows when the block ends.\n",
        "   + When its indentation ends, so does that _block_ of code.\n",
        "\n",
        "\n"
      ]
    },
    {
      "cell_type": "markdown",
      "metadata": {
        "id": "b5Nkx_-LC0SM"
      },
      "source": [
        "# <font color=\"darkblue\"><b><i>Nested</i> Conditionals</b></font>\n",
        "\n",
        "That's it!\n",
        "\n",
        "Incredibly, that's all there is to know about conditionals!\n",
        "\n",
        "(Although there's value to practicing further!)\n",
        "\n",
        "Even more incredibly, ***this is all that's needed for <u>any</u> computational decision-making at all***\n",
        "+ <tt>if</tt>, <tt>elif</tt>, and <tt>else</tt> are all that are needed\n",
        "+ Every conditional must begin with an <tt>if</tt>. The <tt>elif</tt> and <tt>else</tt> blocks are optional.\n",
        "+ Sophistication, power, and intricacy can be built through ***nesting***\n",
        "\n",
        "Below is a more sophisticated -- and more fair -- rock-paper-scissors example. + It uses _nested_ conditionals to keep track of both the user's choice and the computer's choice.\n",
        "\n",
        "You'll see the line <tt>comp_choice = random.choice([\"rock\",\"paper\",\"scissors\"])</tt>\n",
        "+ This line makes a random choice from the three options\n",
        "+ It assigns that choice to the variable <tt>comp_choice</tt>\n",
        "+ We don't know which it's chosen!\n",
        "\n",
        "Try it out!"
      ]
    },
    {
      "cell_type": "code",
      "execution_count": null,
      "metadata": {
        "id": "0EGxVgVmIDOu"
      },
      "outputs": [],
      "source": [
        "#\n",
        "# A fairer but incomplete game of rock-paper-scissors\n",
        "#\n",
        "\n",
        "import random       # imports a library (named random)\n",
        "                    # for making random choices\n",
        "\n",
        "user_name = input(\"What is your name? \")\n",
        "print(\"Welcome,\", user_name, \"!\")\n",
        "print()\n",
        "\n",
        "print(\"Ready for RPS? Choose wisely!!\")\n",
        "user_choice = input(\"Which do you choose? (rock/paper/scissors):\")\n",
        "comp_choice = random.choice([\"rock\",\"paper\",\"scissors\"])\n",
        "print()\n",
        "\n",
        "# We print both choices\n",
        "print(\"You chose\", user_choice)\n",
        "print(\"  I chose\", comp_choice)\n",
        "print()\n",
        "\n",
        "\n",
        "# We can handle different possibilities with nested conditionals\n",
        "\n",
        "if user_choice == \"rock\":\n",
        "\n",
        "  if comp_choice == \"rock\":\n",
        "    print(\"Aargh! We tied (but my rock was rockier!)\")\n",
        "  elif comp_choice == \"paper\":\n",
        "    print(\"I win! My paper outclasses any rock!\")\n",
        "  else:\n",
        "    print('Alack! Your rock cast my scissors asunder.')\n",
        "\n",
        "else:\n",
        "\n",
        "  print(\"You have ventured into the unknown...\")\n",
        "  print(\"... but I probably won!!\")\n",
        "\n",
        "\n",
        "\n",
        "print()\n",
        "print(\"Try again!\")\n"
      ]
    },
    {
      "cell_type": "markdown",
      "metadata": {
        "id": "uMmkLijNKtFa"
      },
      "source": [
        "# <font color=\"darkblue\"><b>Your Task: a <i>real</i> RPS...</b></font>\n",
        "\n",
        "Above is a _start_ to a real RPS challenge. It's fair, but incomplete.\n",
        "\n",
        "<br>\n",
        "\n",
        "Your task, in the following cell, is to create a complete, fair-playing RPS-like game:\n",
        "+ it should run and should handle at least nine possibilities correctly\n",
        "+ they can be rock-paper-scissors or your own options...\n",
        "+ use creative/personalized dialog!\n",
        "\n",
        "<br>\n",
        "\n",
        "There are lots of extra-credit possibilities, as well:\n",
        "+ create an RPS-variation of your own design\n",
        "   + There are several variants that involve bears.\n",
        "   + Perhaps bear-stag-sagehen?\n",
        "   + Could have more than three options, e.g., [rock-paper-scissors-lizard-spock](https://www.youtube.com/watch?v=x5Q6-wMx-K8)\n",
        "+ use better/sharper dialog!\n",
        "+ include \"easter eggs\" - for example, different behavior if the name is recognized...\n",
        "   + With conditionals, there's no limit to the code-paths possible...\n",
        "\n",
        "<br>\n",
        "\n",
        "But, don't spend too much time on RPS...\n",
        "\n",
        "... because the final task, your Python Adventure, awaits!\n"
      ]
    },
    {
      "cell_type": "code",
      "execution_count": null,
      "metadata": {
        "id": "fcLcTxiwPAOQ",
        "colab": {
          "base_uri": "https://localhost:8080/"
        },
        "outputId": "1d338ecd-d351-486b-adf2-232f0d535849"
      },
      "outputs": [
        {
          "output_type": "stream",
          "name": "stdout",
          "text": [
            "What is your name? a\n",
            "Hello , a  Welcome \n",
            "\n",
            "I challenge you to a fair game of RPS: rock-paper-scissors! Are you ready!\n",
            "You are SMART if you can beat ME, Can You ^^\n",
            "Get ready \n",
            "Which do you choose? (rock/paper/scissors)rock\n",
            "\n",
            " You chose:  rock and I chose:  scissors\n",
            "You win! Congratulations!\n",
            "\n",
            "Thanks for playing^^ I had good time playing with you\n",
            "You are welcome any time\n"
          ]
        }
      ],
      "source": [
        "#\n",
        "# Your fair, complete RPS or RPS-variant  (this cell)\n",
        "#\n",
        "#\n",
        "# Use the previous, unfair/incomplete examples as starting points and resources\n",
        "# and keep adding/fixing/creating from there... .\n",
        "#\n",
        "import random\n",
        "\n",
        "\n",
        "\n",
        "user_name = input(\"What is your name? \")\n",
        "print(\"Hello ,\", user_name, \" Welcome \")\n",
        "print()\n",
        "\n",
        "print(\"I challenge you to a fair game of RPS: rock-paper-scissors! Are you ready!\")\n",
        "print(\"You are SMART if you can beat ME, Can You ^^\")\n",
        "print(\"Get ready \")\n",
        "\n",
        "user_choice = input(\"Which do you choose? (rock/paper/scissors)\")\n",
        "computer_choice = random.choice([\"rock\",\"paper\",\"scissors\"])\n",
        "\n",
        "print(\"\\n You chose: \" ,user_choice, \"and I chose: \"  ,computer_choice)\n",
        "\n",
        "if user_choice == computer_choice:\n",
        "    print(\"Oh It's a tie!\")\n",
        "    print(\"You seem a worthy opponent\")\n",
        "    print(\"let us do it again\")\n",
        "elif user_choice == \"rock\":\n",
        "    if computer_choice == \"scissors\":\n",
        "        print(\"You win! Congratulations!\")\n",
        "    else:\n",
        "        print(\"I win! Better luck next time!\")\n",
        "elif user_choice == \"paper\":\n",
        "    if computer_choice == \"rock\":\n",
        "        print(\"You win! Congratulations!\")\n",
        "    else:\n",
        "        print(\"I win! Better luck next time!\")\n",
        "elif user_choice == \"scissors\":\n",
        "    if computer_choice == \"paper\":\n",
        "        print(\"You win! Congratulations!\")\n",
        "    else:\n",
        "        print(\"I win! Better luck next time!\")\n",
        "else:\n",
        "    print(\"Invalid choice. Please select rock, paper, or scissors. Check your spelling\")\n",
        "\n",
        "print()\n",
        "print(\"Thanks for playing^^ I had good time playing with you\")\n",
        "print(\"If you are ready let's play again\")"
      ]
    },
    {
      "cell_type": "markdown",
      "metadata": {
        "id": "z5GHXttzVHYV"
      },
      "source": [
        "# <font color=\"darkblue\"><b>Adventure! (example)</b></font>\n",
        "\n",
        "Try running the cell below and then read it over.\n",
        "\n",
        "It is an example \"interactive fiction\" adventure:\n",
        "+ featuring poptarts  (naturally)\n",
        "+ with multiple outcomes available  (only two, in this case)\n",
        "\n",
        "With this as an example, the final problem asks you to create-your-own-adventure...  (see the details below)."
      ]
    },
    {
      "cell_type": "code",
      "execution_count": null,
      "metadata": {
        "id": "M2KYNZknVNJr"
      },
      "outputs": [],
      "source": [
        "# Title for this example adventure:   The Quest.\n",
        "#\n",
        "# Notes on how to \"win\" or \"lose\" this adventure:\n",
        "#   To win, choose the table.\n",
        "#   To lose, choose the door.\n",
        "\n",
        "\n",
        "def adventure():\n",
        "    \"\"\"This function runs one session of interactive fiction\n",
        "       Well, it's \"fiction,\" depending on the pill color chosen...\n",
        "       Arguments: no arguments (prompted text doesn't count as an argument)\n",
        "       Results: no results     (printing doesn't count as a result)\n",
        "    \"\"\"\n",
        "    user_name = input(\"What do they call you, worthy adventurer? \")\n",
        "\n",
        "    print()\n",
        "    print(\"Welcome,\", user_name, \"-- to the UnderMine, a labyrinth\")\n",
        "    print(\"beneath CGU's unending academic complex, with weighty\")\n",
        "    print(\"wonders and unreal quantities...of poptarts!\")\n",
        "    print()\n",
        "\n",
        "    print(\"Your quest: To find--and partake of--a poptart!\")\n",
        "    print()\n",
        "    flavor = input(\"What flavor do you seek? \")\n",
        "    if flavor == \"strawberry\":\n",
        "        print(\"Wise! You show deep poptart experience.\")\n",
        "    elif flavor == \"s'mores\":\n",
        "        print(\"The taste of the campfire: well chosen, adventurer!\")\n",
        "    else:\n",
        "        print(\"Each to their own, then.\")\n",
        "    print()\n",
        "\n",
        "    print(\"On to the quest!\\n\\n\")\n",
        "    print(\"A corridor stretches before you; its dim lighting betrays, to\")\n",
        "    print(\"one side, a table supporting nameless forms of inorganic bulk\")\n",
        "    print(\"and, to the other, a door ajar, leaking laughter--is that\")\n",
        "    print(\"laughter?--of lab-goers.\")\n",
        "    print()\n",
        "\n",
        "    choice1 = input(\"Do you choose the table or the door? [table/door] \")\n",
        "    print()\n",
        "\n",
        "    if choice1 == \"table\":\n",
        "        print(\"As you approach the table, its hazy burdens loom ever larger,\")\n",
        "        print(\"until...\")\n",
        "        print()\n",
        "        print(\"...they resolve into unending stacks of poptarts, foil\")\n",
        "        print(\"shimmering.  You succeed, sumptuously, in sating the\")\n",
        "        print(\"challenge--and your hunger.\")\n",
        "        print(\"Go well,\", user_name, \"!\")\n",
        "\n",
        "    else:\n",
        "        print(\"You push the door into a gathering of sagefowl, athenas,\")\n",
        "        print(\"and stags alike, all relishing their tasks. Teamwork and\")\n",
        "        print(\"merriment abound here, except...\")\n",
        "        print()\n",
        "        print(\"...they have consumed ALL of the poptarts! Drifts of wrappers\")\n",
        "        print(\"coat the floor.  Dizzy, you grasp for a pastry. None is at\")\n",
        "        print(\"hand. You exhale and slip under the teeming tide of foil as\")\n",
        "        print(\"it finishes winding around you.\")\n",
        "        print(\"Farewell,\", user_name, \".\")\n",
        "\n",
        "\n",
        "#\n",
        "# The above adventure is defined in a _function_  (next week: functions!)\n",
        "#\n",
        "# This means it's defined, but it does not run until we call it.\n",
        "# This line below calls it:\n",
        "adventure()"
      ]
    },
    {
      "cell_type": "markdown",
      "metadata": {
        "id": "oqzSX1aKDhq-"
      },
      "source": [
        "# <font color=\"darkblue\"><b>Adventure (Yours!)</b></font>\n",
        "\n",
        "### Interactive Fiction\n",
        "\n",
        "For this problem, you-the-author should create a Python program (built on the starting template above) that is a work of interactive fiction, a.k.a., a choose-your-own-adventure program.\n",
        "\n",
        "Its goals are\n",
        "+ to build experience with control structures! Your adventure needs at least 5 <tt>if</tt>-based control structures, noted below.\n",
        "+ to begin writing code in a function (the template does this using <tt>def adventure():</tt> at the top of the cell) -- and then running it (by calling <tt>adventure()</tt> at the bottom of the cell\n",
        "+ to invite story-telling (in Python)!\n",
        "\n",
        "<br>\n",
        "\n",
        "### Conditional structures to include:\n",
        "\n",
        "The example story includes two if-based control structures: (a) an <tt>if-elif-else</tt> and (b) an <tt>if-else</tt>\n",
        "\n",
        "For this challenge, you use each of five conditional control structures in a creative way that affects the story or dialog\n",
        "+ They don't have to appear in this or any order\n",
        "+ You're welcome to have many more than this, if you wish!\n",
        "+ Here are the control structures to be sure to include:\n",
        "   + An `if`, `elif`, and `else` control structure (with exactly one `elif`)\n",
        "   + An `if`, `elif`, `elif`, ... and `else` control structure (with at least two `elif`s and a trailing `else`)\n",
        "   + An `if`, `else` control structure (with zero `elif`s)\n",
        "   + An `if`, `elif`, ... control structure (with one or more `elif`s but no trailing `else` at all)\n",
        "   + A plain `if` control structure (with no trailing `elif` nor trailing `else` at all)\n",
        "\n",
        "<i>Keep things light!</i>\n",
        "+ There are forums for all forms of expression, and this one's goals is really contextualizing conditionals in CS.\n",
        "+ Know that, poentially, lots of people (our tutors! us!) will read—and run—your story: we look forward to it!\n",
        "+ It's appreciated if you describe how to \"win\" your adventure at the top of your cell, in a comment\n",
        "\n",
        "Also, please be mindful of the time you spend!\n",
        "\n",
        "The goal here is _not_ to take a lot of time.\n",
        "+ It's easy to let time slip away: the poptart adventure above took much longer than I originally thought it would—and it has only two control structures!\n",
        "\n",
        "<br>\n",
        "\n",
        "### I look forward to your adventure!\n"
      ]
    },
    {
      "cell_type": "code",
      "execution_count": null,
      "metadata": {
        "id": "3CuGtAfYPqCi",
        "colab": {
          "base_uri": "https://localhost:8080/"
        },
        "outputId": "a41c6764-b6a2-4fad-a52e-60496dc526b8"
      },
      "outputs": [
        {
          "output_type": "stream",
          "name": "stdout",
          "text": [
            "Welcome to the Great Pyramid of Giza, brave explorer!\n",
            "Your goal is to find the legendary Jewel of Ra and escape safely.\n",
            "\n",
            "What is your name, adventurer? IST341_Participant_3\n",
            "Welcome IST341_Participant_3 Prepare for a journey full of danger and mystery.\n",
            "\n",
            "You stand before the Great Pyramid. You see two entrances:\n",
            "1. The Main Entrance\n",
            "2. A Hidden Tunnel\n",
            "Do you choose the Main Entrance or the Hidden Tunnel? (main/tunnel): tunnel\n",
            "\n",
            "You crawl through the Hidden Tunnel. It's dark, but quiet.\n",
            "You emerge into a dimly lit corridor.\n",
            "\n",
            "Inside the pyramid, you see three paths:\n",
            "1. A glowing mural with hieroglyphs.\n",
            "2. A dark staircase descending into the abyss.\n",
            "3. A golden door with the Eye of Horus.\n",
            "Which path do you choose? (mural/staircase/door): door\n",
            "\n",
            "You open the golden door and enter a room filled with treasure!\n",
            "However, the floor begins to crumble beneath you.\n",
            "Do you grab the Jewel of Ra and run, or retreat empty-handed? (grab/retreat): grab\n",
            "You grab the Jewel of Ra and escape just in time. Victory!\n",
            "You reach the final chamber, where the Jewel of Ra is guarded by a Sphinx.\n",
            "The Sphinx challenges you with one last riddle:\n",
            "'The more you take, the more you leave behind. What am I?'\n",
            "Options: 1) Time  2) Footsteps  3) Sand\n",
            "Choose your answer (1/2/3): 2\n",
            "Brilliant IST341_Participant_3 You have solved the Sphinx's riddle.\n",
            "The Jewel of Ra is yours, and you escape the pyramid!\n",
            "CONGRATULATIONS! YOU WIN!\n"
          ]
        }
      ],
      "source": [
        "# Title for this adventure: \"Conquering the Pyramids of Ancient Egypt\"\n",
        "#\n",
        "##############################\n",
        "# About this Game:\n",
        "# You are an explorer venturing into the Pyramids of Giza in search of the fabled Jewel of Ra,\n",
        "# said to grant eternal wisdom and power.\n",
        "# To succeed, you must navigate traps, solve riddles, and choose wisely between ancient paths.\n",
        "#############################\n",
        "# Notes on how to \"win\" or \"lose\" this adventure:\n",
        "#     To Win:\n",
        "#     Choose \"main\" → \"mural\" → Answer \"echo\" → Final Answer \"footsteps\".\n",
        "#  OR Choose \"tunnel\" → \"staircase\" → Duck to avoid arrows → Final Answer \"footsteps\".\n",
        "#  OR Choose \"tunnel\" → \"door\" → Grab the Jewel → Final Answer \"footsteps\".\n",
        "#############################\n",
        "\n",
        "import random\n",
        "\n",
        "def adventure():\n",
        "    \"\"\"An interactive fiction adventure: Conquering the Pyramids of Ancient Egypt.\"\"\"\n",
        "\n",
        "    print(\"Welcome to the Great Pyramid of Giza, brave explorer!\")\n",
        "    print(\"Your goal is to find the legendary Jewel of Ra and escape safely.\")\n",
        "    print()\n",
        "\n",
        "    user_name = input(\"What is your name, adventurer? \")\n",
        "    print(\"Welcome\", user_name, \"Prepare for a journey full of danger and mystery.\")\n",
        "    print()\n",
        "\n",
        "    # First decision: How to enter the pyramid\n",
        "    print(\"You stand before the Great Pyramid. You see two entrances:\")\n",
        "    print(\"1. The Main Entrance\")\n",
        "    print(\"2. A Hidden Tunnel\")\n",
        "    entrance = input(\"Do you choose the Main Entrance or the Hidden Tunnel? (main/tunnel): \")\n",
        "    print()\n",
        "\n",
        "    if entrance == \"main\":\n",
        "        print(\"You enter through the Main Entrance. The air is heavy with ancient dust.\")\n",
        "        print(\"The passage is grand, but something feels ominous...\")\n",
        "        print()\n",
        "    elif entrance == \"tunnel\":\n",
        "        print(\"You crawl through the Hidden Tunnel. It's dark, but quiet.\")\n",
        "        print(\"You emerge into a dimly lit corridor.\")\n",
        "        print()\n",
        "    else:\n",
        "        print(\"Invalid choice! You hesitate too long, and a sandstorm forces you to retreat.\")\n",
        "        print(\"GAME OVER.\")\n",
        "        return\n",
        "\n",
        "    # Second decision: Choose a path inside the pyramid\n",
        "    print(\"Inside the pyramid, you see three paths:\")\n",
        "    print(\"1. A glowing mural with hieroglyphs.\")\n",
        "    print(\"2. A dark staircase descending into the abyss.\")\n",
        "    print(\"3. A golden door with the Eye of Horus.\")\n",
        "    path = input(\"Which path do you choose? (mural/staircase/door): \")\n",
        "    print()\n",
        "\n",
        "    if path == \"mural\":\n",
        "        print(\"You approach the glowing mural. A booming voice asks you a riddle:\")\n",
        "        print(\"'I speak without a mouth and hear without ears. I have no body, but I come alive with wind. What am I?'\")\n",
        "        print(\"Options: 1) Shadow  2) Echo  3) Whisper\")\n",
        "        answer = input(\"Choose your answer (1/2/3): \")\n",
        "        if answer == \"2\":\n",
        "            print(\"Correct! The mural reveals a secret passage.\")\n",
        "        else:\n",
        "            print(\"Wrong! The mural traps you in its glow forever.\")\n",
        "            print(\"GAME OVER.\")\n",
        "            return\n",
        "    elif path == \"staircase\":\n",
        "        print(\"You descend the dark staircase. Suddenly, arrows shoot from the walls!\")\n",
        "        trap_action = input(\"Do you run forward or duck? (run/duck): \")\n",
        "        if trap_action == \"duck\":\n",
        "            print(\"You duck just in time and avoid the arrows. You proceed safely.\")\n",
        "        else:\n",
        "            print(\"You are hit by the arrows and collapse.\")\n",
        "            print(\"GAME OVER.\")\n",
        "            return\n",
        "    elif path == \"door\":\n",
        "        print(\"You open the golden door and enter a room filled with treasure!\")\n",
        "        print(\"However, the floor begins to crumble beneath you.\")\n",
        "        treasure_action = input(\"Do you grab the Jewel of Ra and run, or retreat empty-handed? (grab/retreat): \")\n",
        "        if treasure_action == \"grab\":\n",
        "            print(\"You grab the Jewel of Ra and escape just in time. Victory!\")\n",
        "        else:\n",
        "            print(\"You retreat safely, but the Jewel of Ra remains lost.\")\n",
        "            print(\"GAME OVER.\")\n",
        "            return\n",
        "    else:\n",
        "        print(\"Invalid choice! You wander aimlessly and fall into a hidden trap.\")\n",
        "        print(\"GAME OVER.\")\n",
        "        return\n",
        "\n",
        "    # Final challenge: The Chamber of Ra\n",
        "    print(\"You reach the final chamber, where the Path is guarded by a Sphinx.\")\n",
        "    print(\"The Sphinx challenges you with one last riddle:\")\n",
        "    print(\"'The more you take, the more you leave behind. What am I?'\")\n",
        "    print(\"Options: 1) Time  2) Footsteps  3) Sand\")\n",
        "    final_answer = input(\"Choose your answer (1/2/3): \")\n",
        "\n",
        "    if final_answer == \"2\":\n",
        "        print(\"Brilliant\" , user_name, \"You have solved the Sphinx's riddle.\")\n",
        "        print(\"The Jewel of Ra is yours, and you escape the pyramid!\")\n",
        "        print(\"CONGRATULATIONS! YOU WIN!\")\n",
        "    else:\n",
        "        print(\"Wrong! The Sphinx curses you, and the pyramid seals you inside forever.\")\n",
        "        print(\"GAME OVER.\")\n",
        "\n",
        "# Start the adventure\n",
        "adventure()\n",
        "\n"
      ]
    },
    {
      "cell_type": "markdown",
      "metadata": {
        "id": "_hi9IzD5eb-O"
      },
      "source": [
        "# <font color=\"darkblue\"><b>Reading and Response</b></font>\n",
        "\n",
        "### There is often a \"reading-and-response challenge\"\n",
        "+ There is usually one of these each week...\n",
        "+ It often complements the programming portion for that week...\n",
        "+ **Response**    We ask you to compose a response to each article. It can be short (4-5 sentences is great), and the goal is to engage with something in each article and incorporate your own thoughts and experiences into your response.\n",
        "  + The responses are worth about 5 points each week.\n",
        "  + Include your response in the cell below...\\\n",
        "  \n",
        "\n",
        "<br>\n",
        "\n",
        "### This week's reading is about _language_\n",
        "+ Here is the [article in the NYTimes](https://www.nytimes.com/2010/08/29/magazine/29language-t.html)\n",
        "+ Here is a [local pdf copy](https://www.cs.hmc.edu/twiki/pub/CS5/Reading0Gold/language_shapes.pdf), in case you don't have access the NYTimes version\n",
        "\n",
        "<br>\n",
        "\n",
        "#### What to do...\n",
        "\n",
        "+ After you have read the above excerpt (or whole article), create a response to the article that addresses one or both of the following prompts in a plain-text file named hw0pr0.txt, which you should submit through the submissions system.\n",
        "  + Have there been moments in which you felt that your language or another language \"got in the way\" of something you wanted to accomplish? That is, have you \"bumped into a language's boundaries,\" in the manner suggested by the article? Elaborate briefly.  or\n",
        "  + To what extent do artificial languages (such as Python or Picobot) have the ability to shape human thought, if at all? Or are such languages fundamentally different from human ones, such as Guugu Yimithirr and English?\n",
        "+ You only need write a few sentences in the next cell down; a paragraph of 4-6 sentences certainly suffices. More are welcome, but the real goal is that your response shows you have thought about the article and added your own experience or insights to its ideas.\n",
        "\n"
      ]
    },
    {
      "cell_type": "markdown",
      "metadata": {
        "id": "lGWfvhGde9RA"
      },
      "source": [
        "## <font color=\"darkblue\"><b>Response to \"Does language shape how we think?!\"</b></font>\n",
        "\n",
        "<br>\n",
        "\n",
        "### **\"Does Language Shape How We Think?\"**\n",
        "\n",
        "Language plays a significant role in shaping our perceptions and interactions with the world. For instance, I've noticed that my father frequently uses geographical directions. This is likely because he worked on my grandfather's farm as a young boy, where he was a shepherd tending to sheep in the open desert. He learned to navigate using these directions at an early age. Sometimes I find it difficult to find the location that sent me to because he uses these directions.  \n",
        "\n",
        "Interestingly, modern contexts like movies demonstrate the potential for a more universal directional system. Phrases like \"The target is at 10 o'clock\" provide a clear and intuitive way to describe spatial relationships, combining the benefits of egocentric and geographic systems. If such a system were widely adopted, it could bridge gaps between cultural and linguistic differences, making communication more efficient and universally understandable.\n",
        "\n",
        "Similarly, artificial languages like Python also shape thought processes, training us to think logically and sequentially. While programming languages do not influence perception like natural languages, they guide problem-solving strategies. Both natural and artificial languages remind us that the tools we use for communication shape how we interact with the world and one another.\n",
        "\n",
        "\n",
        "<br>\n",
        "<br>"
      ]
    },
    {
      "cell_type": "markdown",
      "metadata": {
        "id": "rNHGo2zHWUuo"
      },
      "source": [
        "# <B>Submitting...</B>\n",
        "\n",
        "Be sure to submit the url of _your_ copy -- with the challenges, questions, and programs composed --\n",
        "+ to Canvas in the appropriate spot\n",
        "+ by the _following_ Friday evening, any time...\n",
        "\n",
        "Remember that there is lots of cgu-based tutoring support (the Python tutoring), as well as office-hour support available...\n",
        "\n",
        "<br>\n",
        "\n",
        "The programming parts of IST341, especially this one, seek poptarts -- as well as\n",
        "+ creativity/novelty\n",
        "+ personalization/individual context\n",
        "+ exploration and understanding (does it run?)"
      ]
    }
  ],
  "metadata": {
    "colab": {
      "provenance": []
    },
    "kernelspec": {
      "display_name": "Python 3",
      "name": "python3"
    },
    "language_info": {
      "name": "python"
    }
  },
  "nbformat": 4,
  "nbformat_minor": 0
}