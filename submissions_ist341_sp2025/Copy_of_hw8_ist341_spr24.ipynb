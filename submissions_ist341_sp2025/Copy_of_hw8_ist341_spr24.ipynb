{
  "cells": [
    {
      "cell_type": "markdown",
      "source": [
        "# Looking for the **\"All-in-one\"** notebook?\n",
        "\n",
        "It's located [here at this link](https://colab.research.google.com/drive/19jZDFIqD-ABndSgd1EQzSl_soQ-FU4J-#scrollTo=e-xLewmU4p0s&uniqifier=1)"
      ],
      "metadata": {
        "id": "_R0urFoU5Nkz"
      }
    },
    {
      "cell_type": "markdown",
      "metadata": {
        "id": "PlIsJQHcbTov"
      },
      "source": [
        "<br>\n",
        "\n",
        "#   Homework 8\n",
        "+ clasification via decision trees and random forests...\n",
        "+ which are both \"the same\" as k-nearest-neighbors, and\n",
        "+ \"the opposite\" of k-nearest-neighbors!\n",
        "\n",
        "It all hinges on how we define ***near*** .\n",
        "\n",
        "Let's see how it works:\n",
        "\n"
      ]
    },
    {
      "cell_type": "markdown",
      "source": [
        "# Decision Trees: Iris Example"
      ],
      "metadata": {
        "id": "hRyCaCQBfY6W"
      }
    },
    {
      "cell_type": "code",
      "execution_count": null,
      "metadata": {
        "id": "5cqLKYpwbToy"
      },
      "outputs": [],
      "source": [
        "# libraries!\n",
        "import numpy as np      # numpy is Python's \"array\" library\n",
        "import pandas as pd     # Pandas is Python's \"data\" library (\"dataframe\" == spreadsheet)"
      ]
    },
    {
      "cell_type": "code",
      "execution_count": null,
      "metadata": {
        "id": "LvKIZtNFbToy",
        "colab": {
          "base_uri": "https://localhost:8080/"
        },
        "outputId": "2ceeeeeb-5455-4ee9-d170-ae293569c941"
      },
      "outputs": [
        {
          "output_type": "stream",
          "name": "stdout",
          "text": [
            "iris_cleaned.csv : file read into a pandas dataframe.\n"
          ]
        }
      ],
      "source": [
        "# let's read in our flower data...\n",
        "#\n",
        "# be sure to upload iris_cleaned.csv, which should be in the zip archive for this week\n",
        "#\n",
        "filename = 'iris_cleaned.csv'\n",
        "df_tidy = pd.read_csv(filename)      # encoding = \"utf-8\", \"latin1\"\n",
        "print(f\"{filename} : file read into a pandas dataframe.\")"
      ]
    },
    {
      "cell_type": "code",
      "execution_count": null,
      "metadata": {
        "id": "VNRqSL8jbToz",
        "colab": {
          "base_uri": "https://localhost:8080/",
          "height": 667
        },
        "outputId": "b0504034-5a10-4e83-cb5c-83e58e728f70"
      },
      "outputs": [
        {
          "output_type": "stream",
          "name": "stdout",
          "text": [
            "df_tidy.shape is (141, 5)\n",
            "\n",
            "<class 'pandas.core.frame.DataFrame'>\n",
            "RangeIndex: 141 entries, 0 to 140\n",
            "Data columns (total 5 columns):\n",
            " #   Column    Non-Null Count  Dtype  \n",
            "---  ------    --------------  -----  \n",
            " 0   sepallen  141 non-null    float64\n",
            " 1   sepalwid  141 non-null    float64\n",
            " 2   petallen  141 non-null    float64\n",
            " 3   petalwid  141 non-null    float64\n",
            " 4   irisname  141 non-null    object \n",
            "dtypes: float64(4), object(1)\n",
            "memory usage: 5.6+ KB\n"
          ]
        },
        {
          "output_type": "execute_result",
          "data": {
            "text/plain": [
              "     sepallen  sepalwid  petallen  petalwid   irisname\n",
              "0         4.6       3.6       1.0       0.2     setosa\n",
              "1         4.3       3.0       1.1       0.1     setosa\n",
              "2         5.0       3.2       1.2       0.2     setosa\n",
              "3         5.8       4.0       1.2       0.2     setosa\n",
              "4         4.4       3.0       1.3       0.2     setosa\n",
              "..        ...       ...       ...       ...        ...\n",
              "136       7.9       3.8       6.4       2.0  virginica\n",
              "137       7.6       3.0       6.6       2.1  virginica\n",
              "138       7.7       3.8       6.7       2.2  virginica\n",
              "139       7.7       2.8       6.7       2.0  virginica\n",
              "140       7.7       2.6       6.9       2.3  virginica\n",
              "\n",
              "[141 rows x 5 columns]"
            ],
            "text/html": [
              "\n",
              "  <div id=\"df-9b4ce320-c6c0-4772-bbe6-f1f17596569c\" class=\"colab-df-container\">\n",
              "    <div>\n",
              "<style scoped>\n",
              "    .dataframe tbody tr th:only-of-type {\n",
              "        vertical-align: middle;\n",
              "    }\n",
              "\n",
              "    .dataframe tbody tr th {\n",
              "        vertical-align: top;\n",
              "    }\n",
              "\n",
              "    .dataframe thead th {\n",
              "        text-align: right;\n",
              "    }\n",
              "</style>\n",
              "<table border=\"1\" class=\"dataframe\">\n",
              "  <thead>\n",
              "    <tr style=\"text-align: right;\">\n",
              "      <th></th>\n",
              "      <th>sepallen</th>\n",
              "      <th>sepalwid</th>\n",
              "      <th>petallen</th>\n",
              "      <th>petalwid</th>\n",
              "      <th>irisname</th>\n",
              "    </tr>\n",
              "  </thead>\n",
              "  <tbody>\n",
              "    <tr>\n",
              "      <th>0</th>\n",
              "      <td>4.6</td>\n",
              "      <td>3.6</td>\n",
              "      <td>1.0</td>\n",
              "      <td>0.2</td>\n",
              "      <td>setosa</td>\n",
              "    </tr>\n",
              "    <tr>\n",
              "      <th>1</th>\n",
              "      <td>4.3</td>\n",
              "      <td>3.0</td>\n",
              "      <td>1.1</td>\n",
              "      <td>0.1</td>\n",
              "      <td>setosa</td>\n",
              "    </tr>\n",
              "    <tr>\n",
              "      <th>2</th>\n",
              "      <td>5.0</td>\n",
              "      <td>3.2</td>\n",
              "      <td>1.2</td>\n",
              "      <td>0.2</td>\n",
              "      <td>setosa</td>\n",
              "    </tr>\n",
              "    <tr>\n",
              "      <th>3</th>\n",
              "      <td>5.8</td>\n",
              "      <td>4.0</td>\n",
              "      <td>1.2</td>\n",
              "      <td>0.2</td>\n",
              "      <td>setosa</td>\n",
              "    </tr>\n",
              "    <tr>\n",
              "      <th>4</th>\n",
              "      <td>4.4</td>\n",
              "      <td>3.0</td>\n",
              "      <td>1.3</td>\n",
              "      <td>0.2</td>\n",
              "      <td>setosa</td>\n",
              "    </tr>\n",
              "    <tr>\n",
              "      <th>...</th>\n",
              "      <td>...</td>\n",
              "      <td>...</td>\n",
              "      <td>...</td>\n",
              "      <td>...</td>\n",
              "      <td>...</td>\n",
              "    </tr>\n",
              "    <tr>\n",
              "      <th>136</th>\n",
              "      <td>7.9</td>\n",
              "      <td>3.8</td>\n",
              "      <td>6.4</td>\n",
              "      <td>2.0</td>\n",
              "      <td>virginica</td>\n",
              "    </tr>\n",
              "    <tr>\n",
              "      <th>137</th>\n",
              "      <td>7.6</td>\n",
              "      <td>3.0</td>\n",
              "      <td>6.6</td>\n",
              "      <td>2.1</td>\n",
              "      <td>virginica</td>\n",
              "    </tr>\n",
              "    <tr>\n",
              "      <th>138</th>\n",
              "      <td>7.7</td>\n",
              "      <td>3.8</td>\n",
              "      <td>6.7</td>\n",
              "      <td>2.2</td>\n",
              "      <td>virginica</td>\n",
              "    </tr>\n",
              "    <tr>\n",
              "      <th>139</th>\n",
              "      <td>7.7</td>\n",
              "      <td>2.8</td>\n",
              "      <td>6.7</td>\n",
              "      <td>2.0</td>\n",
              "      <td>virginica</td>\n",
              "    </tr>\n",
              "    <tr>\n",
              "      <th>140</th>\n",
              "      <td>7.7</td>\n",
              "      <td>2.6</td>\n",
              "      <td>6.9</td>\n",
              "      <td>2.3</td>\n",
              "      <td>virginica</td>\n",
              "    </tr>\n",
              "  </tbody>\n",
              "</table>\n",
              "<p>141 rows × 5 columns</p>\n",
              "</div>\n",
              "    <div class=\"colab-df-buttons\">\n",
              "\n",
              "  <div class=\"colab-df-container\">\n",
              "    <button class=\"colab-df-convert\" onclick=\"convertToInteractive('df-9b4ce320-c6c0-4772-bbe6-f1f17596569c')\"\n",
              "            title=\"Convert this dataframe to an interactive table.\"\n",
              "            style=\"display:none;\">\n",
              "\n",
              "  <svg xmlns=\"http://www.w3.org/2000/svg\" height=\"24px\" viewBox=\"0 -960 960 960\">\n",
              "    <path d=\"M120-120v-720h720v720H120Zm60-500h600v-160H180v160Zm220 220h160v-160H400v160Zm0 220h160v-160H400v160ZM180-400h160v-160H180v160Zm440 0h160v-160H620v160ZM180-180h160v-160H180v160Zm440 0h160v-160H620v160Z\"/>\n",
              "  </svg>\n",
              "    </button>\n",
              "\n",
              "  <style>\n",
              "    .colab-df-container {\n",
              "      display:flex;\n",
              "      gap: 12px;\n",
              "    }\n",
              "\n",
              "    .colab-df-convert {\n",
              "      background-color: #E8F0FE;\n",
              "      border: none;\n",
              "      border-radius: 50%;\n",
              "      cursor: pointer;\n",
              "      display: none;\n",
              "      fill: #1967D2;\n",
              "      height: 32px;\n",
              "      padding: 0 0 0 0;\n",
              "      width: 32px;\n",
              "    }\n",
              "\n",
              "    .colab-df-convert:hover {\n",
              "      background-color: #E2EBFA;\n",
              "      box-shadow: 0px 1px 2px rgba(60, 64, 67, 0.3), 0px 1px 3px 1px rgba(60, 64, 67, 0.15);\n",
              "      fill: #174EA6;\n",
              "    }\n",
              "\n",
              "    .colab-df-buttons div {\n",
              "      margin-bottom: 4px;\n",
              "    }\n",
              "\n",
              "    [theme=dark] .colab-df-convert {\n",
              "      background-color: #3B4455;\n",
              "      fill: #D2E3FC;\n",
              "    }\n",
              "\n",
              "    [theme=dark] .colab-df-convert:hover {\n",
              "      background-color: #434B5C;\n",
              "      box-shadow: 0px 1px 3px 1px rgba(0, 0, 0, 0.15);\n",
              "      filter: drop-shadow(0px 1px 2px rgba(0, 0, 0, 0.3));\n",
              "      fill: #FFFFFF;\n",
              "    }\n",
              "  </style>\n",
              "\n",
              "    <script>\n",
              "      const buttonEl =\n",
              "        document.querySelector('#df-9b4ce320-c6c0-4772-bbe6-f1f17596569c button.colab-df-convert');\n",
              "      buttonEl.style.display =\n",
              "        google.colab.kernel.accessAllowed ? 'block' : 'none';\n",
              "\n",
              "      async function convertToInteractive(key) {\n",
              "        const element = document.querySelector('#df-9b4ce320-c6c0-4772-bbe6-f1f17596569c');\n",
              "        const dataTable =\n",
              "          await google.colab.kernel.invokeFunction('convertToInteractive',\n",
              "                                                    [key], {});\n",
              "        if (!dataTable) return;\n",
              "\n",
              "        const docLinkHtml = 'Like what you see? Visit the ' +\n",
              "          '<a target=\"_blank\" href=https://colab.research.google.com/notebooks/data_table.ipynb>data table notebook</a>'\n",
              "          + ' to learn more about interactive tables.';\n",
              "        element.innerHTML = '';\n",
              "        dataTable['output_type'] = 'display_data';\n",
              "        await google.colab.output.renderOutput(dataTable, element);\n",
              "        const docLink = document.createElement('div');\n",
              "        docLink.innerHTML = docLinkHtml;\n",
              "        element.appendChild(docLink);\n",
              "      }\n",
              "    </script>\n",
              "  </div>\n",
              "\n",
              "\n",
              "<div id=\"df-f6f4d6de-c049-4d74-a3c1-b0428f191a48\">\n",
              "  <button class=\"colab-df-quickchart\" onclick=\"quickchart('df-f6f4d6de-c049-4d74-a3c1-b0428f191a48')\"\n",
              "            title=\"Suggest charts\"\n",
              "            style=\"display:none;\">\n",
              "\n",
              "<svg xmlns=\"http://www.w3.org/2000/svg\" height=\"24px\"viewBox=\"0 0 24 24\"\n",
              "     width=\"24px\">\n",
              "    <g>\n",
              "        <path d=\"M19 3H5c-1.1 0-2 .9-2 2v14c0 1.1.9 2 2 2h14c1.1 0 2-.9 2-2V5c0-1.1-.9-2-2-2zM9 17H7v-7h2v7zm4 0h-2V7h2v10zm4 0h-2v-4h2v4z\"/>\n",
              "    </g>\n",
              "</svg>\n",
              "  </button>\n",
              "\n",
              "<style>\n",
              "  .colab-df-quickchart {\n",
              "      --bg-color: #E8F0FE;\n",
              "      --fill-color: #1967D2;\n",
              "      --hover-bg-color: #E2EBFA;\n",
              "      --hover-fill-color: #174EA6;\n",
              "      --disabled-fill-color: #AAA;\n",
              "      --disabled-bg-color: #DDD;\n",
              "  }\n",
              "\n",
              "  [theme=dark] .colab-df-quickchart {\n",
              "      --bg-color: #3B4455;\n",
              "      --fill-color: #D2E3FC;\n",
              "      --hover-bg-color: #434B5C;\n",
              "      --hover-fill-color: #FFFFFF;\n",
              "      --disabled-bg-color: #3B4455;\n",
              "      --disabled-fill-color: #666;\n",
              "  }\n",
              "\n",
              "  .colab-df-quickchart {\n",
              "    background-color: var(--bg-color);\n",
              "    border: none;\n",
              "    border-radius: 50%;\n",
              "    cursor: pointer;\n",
              "    display: none;\n",
              "    fill: var(--fill-color);\n",
              "    height: 32px;\n",
              "    padding: 0;\n",
              "    width: 32px;\n",
              "  }\n",
              "\n",
              "  .colab-df-quickchart:hover {\n",
              "    background-color: var(--hover-bg-color);\n",
              "    box-shadow: 0 1px 2px rgba(60, 64, 67, 0.3), 0 1px 3px 1px rgba(60, 64, 67, 0.15);\n",
              "    fill: var(--button-hover-fill-color);\n",
              "  }\n",
              "\n",
              "  .colab-df-quickchart-complete:disabled,\n",
              "  .colab-df-quickchart-complete:disabled:hover {\n",
              "    background-color: var(--disabled-bg-color);\n",
              "    fill: var(--disabled-fill-color);\n",
              "    box-shadow: none;\n",
              "  }\n",
              "\n",
              "  .colab-df-spinner {\n",
              "    border: 2px solid var(--fill-color);\n",
              "    border-color: transparent;\n",
              "    border-bottom-color: var(--fill-color);\n",
              "    animation:\n",
              "      spin 1s steps(1) infinite;\n",
              "  }\n",
              "\n",
              "  @keyframes spin {\n",
              "    0% {\n",
              "      border-color: transparent;\n",
              "      border-bottom-color: var(--fill-color);\n",
              "      border-left-color: var(--fill-color);\n",
              "    }\n",
              "    20% {\n",
              "      border-color: transparent;\n",
              "      border-left-color: var(--fill-color);\n",
              "      border-top-color: var(--fill-color);\n",
              "    }\n",
              "    30% {\n",
              "      border-color: transparent;\n",
              "      border-left-color: var(--fill-color);\n",
              "      border-top-color: var(--fill-color);\n",
              "      border-right-color: var(--fill-color);\n",
              "    }\n",
              "    40% {\n",
              "      border-color: transparent;\n",
              "      border-right-color: var(--fill-color);\n",
              "      border-top-color: var(--fill-color);\n",
              "    }\n",
              "    60% {\n",
              "      border-color: transparent;\n",
              "      border-right-color: var(--fill-color);\n",
              "    }\n",
              "    80% {\n",
              "      border-color: transparent;\n",
              "      border-right-color: var(--fill-color);\n",
              "      border-bottom-color: var(--fill-color);\n",
              "    }\n",
              "    90% {\n",
              "      border-color: transparent;\n",
              "      border-bottom-color: var(--fill-color);\n",
              "    }\n",
              "  }\n",
              "</style>\n",
              "\n",
              "  <script>\n",
              "    async function quickchart(key) {\n",
              "      const quickchartButtonEl =\n",
              "        document.querySelector('#' + key + ' button');\n",
              "      quickchartButtonEl.disabled = true;  // To prevent multiple clicks.\n",
              "      quickchartButtonEl.classList.add('colab-df-spinner');\n",
              "      try {\n",
              "        const charts = await google.colab.kernel.invokeFunction(\n",
              "            'suggestCharts', [key], {});\n",
              "      } catch (error) {\n",
              "        console.error('Error during call to suggestCharts:', error);\n",
              "      }\n",
              "      quickchartButtonEl.classList.remove('colab-df-spinner');\n",
              "      quickchartButtonEl.classList.add('colab-df-quickchart-complete');\n",
              "    }\n",
              "    (() => {\n",
              "      let quickchartButtonEl =\n",
              "        document.querySelector('#df-f6f4d6de-c049-4d74-a3c1-b0428f191a48 button');\n",
              "      quickchartButtonEl.style.display =\n",
              "        google.colab.kernel.accessAllowed ? 'block' : 'none';\n",
              "    })();\n",
              "  </script>\n",
              "</div>\n",
              "\n",
              "  <div id=\"id_5301a40a-bb27-42c5-8505-8bcc77ac5313\">\n",
              "    <style>\n",
              "      .colab-df-generate {\n",
              "        background-color: #E8F0FE;\n",
              "        border: none;\n",
              "        border-radius: 50%;\n",
              "        cursor: pointer;\n",
              "        display: none;\n",
              "        fill: #1967D2;\n",
              "        height: 32px;\n",
              "        padding: 0 0 0 0;\n",
              "        width: 32px;\n",
              "      }\n",
              "\n",
              "      .colab-df-generate:hover {\n",
              "        background-color: #E2EBFA;\n",
              "        box-shadow: 0px 1px 2px rgba(60, 64, 67, 0.3), 0px 1px 3px 1px rgba(60, 64, 67, 0.15);\n",
              "        fill: #174EA6;\n",
              "      }\n",
              "\n",
              "      [theme=dark] .colab-df-generate {\n",
              "        background-color: #3B4455;\n",
              "        fill: #D2E3FC;\n",
              "      }\n",
              "\n",
              "      [theme=dark] .colab-df-generate:hover {\n",
              "        background-color: #434B5C;\n",
              "        box-shadow: 0px 1px 3px 1px rgba(0, 0, 0, 0.15);\n",
              "        filter: drop-shadow(0px 1px 2px rgba(0, 0, 0, 0.3));\n",
              "        fill: #FFFFFF;\n",
              "      }\n",
              "    </style>\n",
              "    <button class=\"colab-df-generate\" onclick=\"generateWithVariable('df_tidy')\"\n",
              "            title=\"Generate code using this dataframe.\"\n",
              "            style=\"display:none;\">\n",
              "\n",
              "  <svg xmlns=\"http://www.w3.org/2000/svg\" height=\"24px\"viewBox=\"0 0 24 24\"\n",
              "       width=\"24px\">\n",
              "    <path d=\"M7,19H8.4L18.45,9,17,7.55,7,17.6ZM5,21V16.75L18.45,3.32a2,2,0,0,1,2.83,0l1.4,1.43a1.91,1.91,0,0,1,.58,1.4,1.91,1.91,0,0,1-.58,1.4L9.25,21ZM18.45,9,17,7.55Zm-12,3A5.31,5.31,0,0,0,4.9,8.1,5.31,5.31,0,0,0,1,6.5,5.31,5.31,0,0,0,4.9,4.9,5.31,5.31,0,0,0,6.5,1,5.31,5.31,0,0,0,8.1,4.9,5.31,5.31,0,0,0,12,6.5,5.46,5.46,0,0,0,6.5,12Z\"/>\n",
              "  </svg>\n",
              "    </button>\n",
              "    <script>\n",
              "      (() => {\n",
              "      const buttonEl =\n",
              "        document.querySelector('#id_5301a40a-bb27-42c5-8505-8bcc77ac5313 button.colab-df-generate');\n",
              "      buttonEl.style.display =\n",
              "        google.colab.kernel.accessAllowed ? 'block' : 'none';\n",
              "\n",
              "      buttonEl.onclick = () => {\n",
              "        google.colab.notebook.generateWithVariable('df_tidy');\n",
              "      }\n",
              "      })();\n",
              "    </script>\n",
              "  </div>\n",
              "\n",
              "    </div>\n",
              "  </div>\n"
            ],
            "application/vnd.google.colaboratory.intrinsic+json": {
              "type": "dataframe",
              "variable_name": "df_tidy",
              "summary": "{\n  \"name\": \"df_tidy\",\n  \"rows\": 141,\n  \"fields\": [\n    {\n      \"column\": \"sepallen\",\n      \"properties\": {\n        \"dtype\": \"number\",\n        \"std\": 0.8430285059257748,\n        \"min\": 4.3,\n        \"max\": 7.9,\n        \"num_unique_values\": 35,\n        \"samples\": [\n          6.8,\n          5.3,\n          6.2\n        ],\n        \"semantic_type\": \"\",\n        \"description\": \"\"\n      }\n    },\n    {\n      \"column\": \"sepalwid\",\n      \"properties\": {\n        \"dtype\": \"number\",\n        \"std\": 0.4325310162757426,\n        \"min\": 2.0,\n        \"max\": 4.4,\n        \"num_unique_values\": 22,\n        \"samples\": [\n          3.6,\n          3.7,\n          3.4\n        ],\n        \"semantic_type\": \"\",\n        \"description\": \"\"\n      }\n    },\n    {\n      \"column\": \"petallen\",\n      \"properties\": {\n        \"dtype\": \"number\",\n        \"std\": 1.774728884641754,\n        \"min\": 1.0,\n        \"max\": 6.9,\n        \"num_unique_values\": 42,\n        \"samples\": [\n          5.0,\n          3.7,\n          1.9\n        ],\n        \"semantic_type\": \"\",\n        \"description\": \"\"\n      }\n    },\n    {\n      \"column\": \"petalwid\",\n      \"properties\": {\n        \"dtype\": \"number\",\n        \"std\": 0.7639569310520933,\n        \"min\": 0.1,\n        \"max\": 2.5,\n        \"num_unique_values\": 22,\n        \"samples\": [\n          0.2,\n          1.8,\n          1.3\n        ],\n        \"semantic_type\": \"\",\n        \"description\": \"\"\n      }\n    },\n    {\n      \"column\": \"irisname\",\n      \"properties\": {\n        \"dtype\": \"category\",\n        \"num_unique_values\": 3,\n        \"samples\": [\n          \"setosa\",\n          \"versicolor\",\n          \"virginica\"\n        ],\n        \"semantic_type\": \"\",\n        \"description\": \"\"\n      }\n    }\n  ]\n}"
            }
          },
          "metadata": {},
          "execution_count": 4
        }
      ],
      "source": [
        "#\n",
        "# different version vary on how to see all rows (adapt to suit your system!)\n",
        "#\n",
        "print(f\"df_tidy.shape is {df_tidy.shape}\\n\")\n",
        "df_tidy.info()  # prints column information\n",
        "\n",
        "# easiest way to print all rows:   print(df_tidy.to_string())\n",
        "# or, in table form:\n",
        "# pd.set_option(\"display.min_rows\",150)  # 10 is default\n",
        "# pd.set_option(\"display.max_rows\",150)  # 10 is default\n",
        "# or, the deafult:\n",
        "df_tidy\n"
      ]
    },
    {
      "cell_type": "code",
      "execution_count": null,
      "metadata": {
        "id": "81wlce-sbToz",
        "colab": {
          "base_uri": "https://localhost:8080/",
          "height": 424
        },
        "outputId": "2989c203-3e2f-4f8e-c9c5-801ffbb8fb7a"
      },
      "outputs": [
        {
          "output_type": "execute_result",
          "data": {
            "text/plain": [
              "     sepallen  sepalwid  petallen  petalwid\n",
              "0         4.6       3.6       1.0       0.2\n",
              "1         4.3       3.0       1.1       0.1\n",
              "2         5.0       3.2       1.2       0.2\n",
              "3         5.8       4.0       1.2       0.2\n",
              "4         4.4       3.0       1.3       0.2\n",
              "..        ...       ...       ...       ...\n",
              "136       7.9       3.8       6.4       2.0\n",
              "137       7.6       3.0       6.6       2.1\n",
              "138       7.7       3.8       6.7       2.2\n",
              "139       7.7       2.8       6.7       2.0\n",
              "140       7.7       2.6       6.9       2.3\n",
              "\n",
              "[141 rows x 4 columns]"
            ],
            "text/html": [
              "\n",
              "  <div id=\"df-f87209b4-58c0-4c70-a98c-6a9ddf1dcdf1\" class=\"colab-df-container\">\n",
              "    <div>\n",
              "<style scoped>\n",
              "    .dataframe tbody tr th:only-of-type {\n",
              "        vertical-align: middle;\n",
              "    }\n",
              "\n",
              "    .dataframe tbody tr th {\n",
              "        vertical-align: top;\n",
              "    }\n",
              "\n",
              "    .dataframe thead th {\n",
              "        text-align: right;\n",
              "    }\n",
              "</style>\n",
              "<table border=\"1\" class=\"dataframe\">\n",
              "  <thead>\n",
              "    <tr style=\"text-align: right;\">\n",
              "      <th></th>\n",
              "      <th>sepallen</th>\n",
              "      <th>sepalwid</th>\n",
              "      <th>petallen</th>\n",
              "      <th>petalwid</th>\n",
              "    </tr>\n",
              "  </thead>\n",
              "  <tbody>\n",
              "    <tr>\n",
              "      <th>0</th>\n",
              "      <td>4.6</td>\n",
              "      <td>3.6</td>\n",
              "      <td>1.0</td>\n",
              "      <td>0.2</td>\n",
              "    </tr>\n",
              "    <tr>\n",
              "      <th>1</th>\n",
              "      <td>4.3</td>\n",
              "      <td>3.0</td>\n",
              "      <td>1.1</td>\n",
              "      <td>0.1</td>\n",
              "    </tr>\n",
              "    <tr>\n",
              "      <th>2</th>\n",
              "      <td>5.0</td>\n",
              "      <td>3.2</td>\n",
              "      <td>1.2</td>\n",
              "      <td>0.2</td>\n",
              "    </tr>\n",
              "    <tr>\n",
              "      <th>3</th>\n",
              "      <td>5.8</td>\n",
              "      <td>4.0</td>\n",
              "      <td>1.2</td>\n",
              "      <td>0.2</td>\n",
              "    </tr>\n",
              "    <tr>\n",
              "      <th>4</th>\n",
              "      <td>4.4</td>\n",
              "      <td>3.0</td>\n",
              "      <td>1.3</td>\n",
              "      <td>0.2</td>\n",
              "    </tr>\n",
              "    <tr>\n",
              "      <th>...</th>\n",
              "      <td>...</td>\n",
              "      <td>...</td>\n",
              "      <td>...</td>\n",
              "      <td>...</td>\n",
              "    </tr>\n",
              "    <tr>\n",
              "      <th>136</th>\n",
              "      <td>7.9</td>\n",
              "      <td>3.8</td>\n",
              "      <td>6.4</td>\n",
              "      <td>2.0</td>\n",
              "    </tr>\n",
              "    <tr>\n",
              "      <th>137</th>\n",
              "      <td>7.6</td>\n",
              "      <td>3.0</td>\n",
              "      <td>6.6</td>\n",
              "      <td>2.1</td>\n",
              "    </tr>\n",
              "    <tr>\n",
              "      <th>138</th>\n",
              "      <td>7.7</td>\n",
              "      <td>3.8</td>\n",
              "      <td>6.7</td>\n",
              "      <td>2.2</td>\n",
              "    </tr>\n",
              "    <tr>\n",
              "      <th>139</th>\n",
              "      <td>7.7</td>\n",
              "      <td>2.8</td>\n",
              "      <td>6.7</td>\n",
              "      <td>2.0</td>\n",
              "    </tr>\n",
              "    <tr>\n",
              "      <th>140</th>\n",
              "      <td>7.7</td>\n",
              "      <td>2.6</td>\n",
              "      <td>6.9</td>\n",
              "      <td>2.3</td>\n",
              "    </tr>\n",
              "  </tbody>\n",
              "</table>\n",
              "<p>141 rows × 4 columns</p>\n",
              "</div>\n",
              "    <div class=\"colab-df-buttons\">\n",
              "\n",
              "  <div class=\"colab-df-container\">\n",
              "    <button class=\"colab-df-convert\" onclick=\"convertToInteractive('df-f87209b4-58c0-4c70-a98c-6a9ddf1dcdf1')\"\n",
              "            title=\"Convert this dataframe to an interactive table.\"\n",
              "            style=\"display:none;\">\n",
              "\n",
              "  <svg xmlns=\"http://www.w3.org/2000/svg\" height=\"24px\" viewBox=\"0 -960 960 960\">\n",
              "    <path d=\"M120-120v-720h720v720H120Zm60-500h600v-160H180v160Zm220 220h160v-160H400v160Zm0 220h160v-160H400v160ZM180-400h160v-160H180v160Zm440 0h160v-160H620v160ZM180-180h160v-160H180v160Zm440 0h160v-160H620v160Z\"/>\n",
              "  </svg>\n",
              "    </button>\n",
              "\n",
              "  <style>\n",
              "    .colab-df-container {\n",
              "      display:flex;\n",
              "      gap: 12px;\n",
              "    }\n",
              "\n",
              "    .colab-df-convert {\n",
              "      background-color: #E8F0FE;\n",
              "      border: none;\n",
              "      border-radius: 50%;\n",
              "      cursor: pointer;\n",
              "      display: none;\n",
              "      fill: #1967D2;\n",
              "      height: 32px;\n",
              "      padding: 0 0 0 0;\n",
              "      width: 32px;\n",
              "    }\n",
              "\n",
              "    .colab-df-convert:hover {\n",
              "      background-color: #E2EBFA;\n",
              "      box-shadow: 0px 1px 2px rgba(60, 64, 67, 0.3), 0px 1px 3px 1px rgba(60, 64, 67, 0.15);\n",
              "      fill: #174EA6;\n",
              "    }\n",
              "\n",
              "    .colab-df-buttons div {\n",
              "      margin-bottom: 4px;\n",
              "    }\n",
              "\n",
              "    [theme=dark] .colab-df-convert {\n",
              "      background-color: #3B4455;\n",
              "      fill: #D2E3FC;\n",
              "    }\n",
              "\n",
              "    [theme=dark] .colab-df-convert:hover {\n",
              "      background-color: #434B5C;\n",
              "      box-shadow: 0px 1px 3px 1px rgba(0, 0, 0, 0.15);\n",
              "      filter: drop-shadow(0px 1px 2px rgba(0, 0, 0, 0.3));\n",
              "      fill: #FFFFFF;\n",
              "    }\n",
              "  </style>\n",
              "\n",
              "    <script>\n",
              "      const buttonEl =\n",
              "        document.querySelector('#df-f87209b4-58c0-4c70-a98c-6a9ddf1dcdf1 button.colab-df-convert');\n",
              "      buttonEl.style.display =\n",
              "        google.colab.kernel.accessAllowed ? 'block' : 'none';\n",
              "\n",
              "      async function convertToInteractive(key) {\n",
              "        const element = document.querySelector('#df-f87209b4-58c0-4c70-a98c-6a9ddf1dcdf1');\n",
              "        const dataTable =\n",
              "          await google.colab.kernel.invokeFunction('convertToInteractive',\n",
              "                                                    [key], {});\n",
              "        if (!dataTable) return;\n",
              "\n",
              "        const docLinkHtml = 'Like what you see? Visit the ' +\n",
              "          '<a target=\"_blank\" href=https://colab.research.google.com/notebooks/data_table.ipynb>data table notebook</a>'\n",
              "          + ' to learn more about interactive tables.';\n",
              "        element.innerHTML = '';\n",
              "        dataTable['output_type'] = 'display_data';\n",
              "        await google.colab.output.renderOutput(dataTable, element);\n",
              "        const docLink = document.createElement('div');\n",
              "        docLink.innerHTML = docLinkHtml;\n",
              "        element.appendChild(docLink);\n",
              "      }\n",
              "    </script>\n",
              "  </div>\n",
              "\n",
              "\n",
              "<div id=\"df-79f7ffa8-313f-447e-8fb4-9c29c370d54d\">\n",
              "  <button class=\"colab-df-quickchart\" onclick=\"quickchart('df-79f7ffa8-313f-447e-8fb4-9c29c370d54d')\"\n",
              "            title=\"Suggest charts\"\n",
              "            style=\"display:none;\">\n",
              "\n",
              "<svg xmlns=\"http://www.w3.org/2000/svg\" height=\"24px\"viewBox=\"0 0 24 24\"\n",
              "     width=\"24px\">\n",
              "    <g>\n",
              "        <path d=\"M19 3H5c-1.1 0-2 .9-2 2v14c0 1.1.9 2 2 2h14c1.1 0 2-.9 2-2V5c0-1.1-.9-2-2-2zM9 17H7v-7h2v7zm4 0h-2V7h2v10zm4 0h-2v-4h2v4z\"/>\n",
              "    </g>\n",
              "</svg>\n",
              "  </button>\n",
              "\n",
              "<style>\n",
              "  .colab-df-quickchart {\n",
              "      --bg-color: #E8F0FE;\n",
              "      --fill-color: #1967D2;\n",
              "      --hover-bg-color: #E2EBFA;\n",
              "      --hover-fill-color: #174EA6;\n",
              "      --disabled-fill-color: #AAA;\n",
              "      --disabled-bg-color: #DDD;\n",
              "  }\n",
              "\n",
              "  [theme=dark] .colab-df-quickchart {\n",
              "      --bg-color: #3B4455;\n",
              "      --fill-color: #D2E3FC;\n",
              "      --hover-bg-color: #434B5C;\n",
              "      --hover-fill-color: #FFFFFF;\n",
              "      --disabled-bg-color: #3B4455;\n",
              "      --disabled-fill-color: #666;\n",
              "  }\n",
              "\n",
              "  .colab-df-quickchart {\n",
              "    background-color: var(--bg-color);\n",
              "    border: none;\n",
              "    border-radius: 50%;\n",
              "    cursor: pointer;\n",
              "    display: none;\n",
              "    fill: var(--fill-color);\n",
              "    height: 32px;\n",
              "    padding: 0;\n",
              "    width: 32px;\n",
              "  }\n",
              "\n",
              "  .colab-df-quickchart:hover {\n",
              "    background-color: var(--hover-bg-color);\n",
              "    box-shadow: 0 1px 2px rgba(60, 64, 67, 0.3), 0 1px 3px 1px rgba(60, 64, 67, 0.15);\n",
              "    fill: var(--button-hover-fill-color);\n",
              "  }\n",
              "\n",
              "  .colab-df-quickchart-complete:disabled,\n",
              "  .colab-df-quickchart-complete:disabled:hover {\n",
              "    background-color: var(--disabled-bg-color);\n",
              "    fill: var(--disabled-fill-color);\n",
              "    box-shadow: none;\n",
              "  }\n",
              "\n",
              "  .colab-df-spinner {\n",
              "    border: 2px solid var(--fill-color);\n",
              "    border-color: transparent;\n",
              "    border-bottom-color: var(--fill-color);\n",
              "    animation:\n",
              "      spin 1s steps(1) infinite;\n",
              "  }\n",
              "\n",
              "  @keyframes spin {\n",
              "    0% {\n",
              "      border-color: transparent;\n",
              "      border-bottom-color: var(--fill-color);\n",
              "      border-left-color: var(--fill-color);\n",
              "    }\n",
              "    20% {\n",
              "      border-color: transparent;\n",
              "      border-left-color: var(--fill-color);\n",
              "      border-top-color: var(--fill-color);\n",
              "    }\n",
              "    30% {\n",
              "      border-color: transparent;\n",
              "      border-left-color: var(--fill-color);\n",
              "      border-top-color: var(--fill-color);\n",
              "      border-right-color: var(--fill-color);\n",
              "    }\n",
              "    40% {\n",
              "      border-color: transparent;\n",
              "      border-right-color: var(--fill-color);\n",
              "      border-top-color: var(--fill-color);\n",
              "    }\n",
              "    60% {\n",
              "      border-color: transparent;\n",
              "      border-right-color: var(--fill-color);\n",
              "    }\n",
              "    80% {\n",
              "      border-color: transparent;\n",
              "      border-right-color: var(--fill-color);\n",
              "      border-bottom-color: var(--fill-color);\n",
              "    }\n",
              "    90% {\n",
              "      border-color: transparent;\n",
              "      border-bottom-color: var(--fill-color);\n",
              "    }\n",
              "  }\n",
              "</style>\n",
              "\n",
              "  <script>\n",
              "    async function quickchart(key) {\n",
              "      const quickchartButtonEl =\n",
              "        document.querySelector('#' + key + ' button');\n",
              "      quickchartButtonEl.disabled = true;  // To prevent multiple clicks.\n",
              "      quickchartButtonEl.classList.add('colab-df-spinner');\n",
              "      try {\n",
              "        const charts = await google.colab.kernel.invokeFunction(\n",
              "            'suggestCharts', [key], {});\n",
              "      } catch (error) {\n",
              "        console.error('Error during call to suggestCharts:', error);\n",
              "      }\n",
              "      quickchartButtonEl.classList.remove('colab-df-spinner');\n",
              "      quickchartButtonEl.classList.add('colab-df-quickchart-complete');\n",
              "    }\n",
              "    (() => {\n",
              "      let quickchartButtonEl =\n",
              "        document.querySelector('#df-79f7ffa8-313f-447e-8fb4-9c29c370d54d button');\n",
              "      quickchartButtonEl.style.display =\n",
              "        google.colab.kernel.accessAllowed ? 'block' : 'none';\n",
              "    })();\n",
              "  </script>\n",
              "</div>\n",
              "\n",
              "  <div id=\"id_ac994d7b-b3b3-4b14-8aa1-2247f20816c8\">\n",
              "    <style>\n",
              "      .colab-df-generate {\n",
              "        background-color: #E8F0FE;\n",
              "        border: none;\n",
              "        border-radius: 50%;\n",
              "        cursor: pointer;\n",
              "        display: none;\n",
              "        fill: #1967D2;\n",
              "        height: 32px;\n",
              "        padding: 0 0 0 0;\n",
              "        width: 32px;\n",
              "      }\n",
              "\n",
              "      .colab-df-generate:hover {\n",
              "        background-color: #E2EBFA;\n",
              "        box-shadow: 0px 1px 2px rgba(60, 64, 67, 0.3), 0px 1px 3px 1px rgba(60, 64, 67, 0.15);\n",
              "        fill: #174EA6;\n",
              "      }\n",
              "\n",
              "      [theme=dark] .colab-df-generate {\n",
              "        background-color: #3B4455;\n",
              "        fill: #D2E3FC;\n",
              "      }\n",
              "\n",
              "      [theme=dark] .colab-df-generate:hover {\n",
              "        background-color: #434B5C;\n",
              "        box-shadow: 0px 1px 3px 1px rgba(0, 0, 0, 0.15);\n",
              "        filter: drop-shadow(0px 1px 2px rgba(0, 0, 0, 0.3));\n",
              "        fill: #FFFFFF;\n",
              "      }\n",
              "    </style>\n",
              "    <button class=\"colab-df-generate\" onclick=\"generateWithVariable('df_model1')\"\n",
              "            title=\"Generate code using this dataframe.\"\n",
              "            style=\"display:none;\">\n",
              "\n",
              "  <svg xmlns=\"http://www.w3.org/2000/svg\" height=\"24px\"viewBox=\"0 0 24 24\"\n",
              "       width=\"24px\">\n",
              "    <path d=\"M7,19H8.4L18.45,9,17,7.55,7,17.6ZM5,21V16.75L18.45,3.32a2,2,0,0,1,2.83,0l1.4,1.43a1.91,1.91,0,0,1,.58,1.4,1.91,1.91,0,0,1-.58,1.4L9.25,21ZM18.45,9,17,7.55Zm-12,3A5.31,5.31,0,0,0,4.9,8.1,5.31,5.31,0,0,0,1,6.5,5.31,5.31,0,0,0,4.9,4.9,5.31,5.31,0,0,0,6.5,1,5.31,5.31,0,0,0,8.1,4.9,5.31,5.31,0,0,0,12,6.5,5.46,5.46,0,0,0,6.5,12Z\"/>\n",
              "  </svg>\n",
              "    </button>\n",
              "    <script>\n",
              "      (() => {\n",
              "      const buttonEl =\n",
              "        document.querySelector('#id_ac994d7b-b3b3-4b14-8aa1-2247f20816c8 button.colab-df-generate');\n",
              "      buttonEl.style.display =\n",
              "        google.colab.kernel.accessAllowed ? 'block' : 'none';\n",
              "\n",
              "      buttonEl.onclick = () => {\n",
              "        google.colab.notebook.generateWithVariable('df_model1');\n",
              "      }\n",
              "      })();\n",
              "    </script>\n",
              "  </div>\n",
              "\n",
              "    </div>\n",
              "  </div>\n"
            ],
            "application/vnd.google.colaboratory.intrinsic+json": {
              "type": "dataframe",
              "variable_name": "df_model1",
              "summary": "{\n  \"name\": \"df_model1\",\n  \"rows\": 141,\n  \"fields\": [\n    {\n      \"column\": \"sepallen\",\n      \"properties\": {\n        \"dtype\": \"number\",\n        \"std\": 0.8430285059257748,\n        \"min\": 4.3,\n        \"max\": 7.9,\n        \"num_unique_values\": 35,\n        \"samples\": [\n          6.8,\n          5.3,\n          6.2\n        ],\n        \"semantic_type\": \"\",\n        \"description\": \"\"\n      }\n    },\n    {\n      \"column\": \"sepalwid\",\n      \"properties\": {\n        \"dtype\": \"number\",\n        \"std\": 0.4325310162757426,\n        \"min\": 2.0,\n        \"max\": 4.4,\n        \"num_unique_values\": 22,\n        \"samples\": [\n          3.6,\n          3.7,\n          3.4\n        ],\n        \"semantic_type\": \"\",\n        \"description\": \"\"\n      }\n    },\n    {\n      \"column\": \"petallen\",\n      \"properties\": {\n        \"dtype\": \"number\",\n        \"std\": 1.774728884641754,\n        \"min\": 1.0,\n        \"max\": 6.9,\n        \"num_unique_values\": 42,\n        \"samples\": [\n          5.0,\n          3.7,\n          1.9\n        ],\n        \"semantic_type\": \"\",\n        \"description\": \"\"\n      }\n    },\n    {\n      \"column\": \"petalwid\",\n      \"properties\": {\n        \"dtype\": \"number\",\n        \"std\": 0.7639569310520933,\n        \"min\": 0.1,\n        \"max\": 2.5,\n        \"num_unique_values\": 22,\n        \"samples\": [\n          0.2,\n          1.8,\n          1.3\n        ],\n        \"semantic_type\": \"\",\n        \"description\": \"\"\n      }\n    }\n  ]\n}"
            }
          },
          "metadata": {},
          "execution_count": 5
        }
      ],
      "source": [
        "#\n",
        "# All of the columns need to be numeric, we'll drop irisname\n",
        "ROW = 0\n",
        "COLUMN = 1\n",
        "df_model1 = df_tidy.drop( 'irisname', axis=COLUMN )\n",
        "df_model1"
      ]
    },
    {
      "cell_type": "code",
      "execution_count": null,
      "metadata": {
        "id": "_XU_DtKhbToz",
        "colab": {
          "base_uri": "https://localhost:8080/"
        },
        "outputId": "fbfc48f9-fd66-4044-834d-e47484513e34"
      },
      "outputs": [
        {
          "output_type": "stream",
          "name": "stdout",
          "text": [
            "COLUMNS is Index(['sepallen', 'sepalwid', 'petallen', 'petalwid'], dtype='object')\n",
            "\n",
            "COLUMNS[0] is sepallen\n",
            "\n",
            "COL_INDEX is {'sepallen': 0, 'sepalwid': 1, 'petallen': 2, 'petalwid': 3}\n",
            "\n",
            "\n",
            "setosa maps to 0\n",
            "versicolor maps to 1\n",
            "virginica maps to 2\n"
          ]
        }
      ],
      "source": [
        "#\n",
        "# once we have all the columns we want, let's create an index of their names...\n",
        "\n",
        "#\n",
        "# Let's make sure we have all of our helpful variables in one place\n",
        "#       To be adapted if we drop/add more columns...\n",
        "#\n",
        "\n",
        "#\n",
        "# let's keep our column names in variables, for reference\n",
        "#\n",
        "COLUMNS = df_model1.columns            # \"list\" of columns\n",
        "print(f\"COLUMNS is {COLUMNS}\\n\")\n",
        "  # It's a \"pandas\" list, called an Index\n",
        "  # use it just as a Python list of strings:\n",
        "print(f\"COLUMNS[0] is {COLUMNS[0]}\\n\")\n",
        "\n",
        "# let's create a dictionary to look up any column index by name\n",
        "COL_INDEX = {}\n",
        "for i, name in enumerate(COLUMNS):\n",
        "    COL_INDEX[name] = i  # using the name (as key), look up the value (i)\n",
        "print(f\"COL_INDEX is {COL_INDEX}\\n\\n\")\n",
        "\n",
        "\n",
        "#\n",
        "# and our \"species\" names\n",
        "#\n",
        "\n",
        "# all of scikit-learn's ML routines need numbers, not strings\n",
        "#   ... even for categories/classifications (like species!)\n",
        "#   so, we will convert the flower-species to numbers:\n",
        "\n",
        "SPECIES = ['setosa','versicolor','virginica']   # int to str\n",
        "SPECIES_INDEX = {'setosa':0,'versicolor':1,'virginica':2}  # str to int\n",
        "\n",
        "# Let's try it out...\n",
        "for name in SPECIES:\n",
        "    print(f\"{name} maps to {SPECIES_INDEX[name]}\")"
      ]
    },
    {
      "cell_type": "code",
      "execution_count": null,
      "metadata": {
        "id": "qaZqveAJbTo0"
      },
      "outputs": [],
      "source": [
        "#\n",
        "# We _could_ reweight our columns...\n",
        "# For exmaple, if petalwid were \"worth\" 20x more than the others?\n",
        "#\n",
        "\n",
        "# df_model1['petalwid'] *= 20\n",
        "# df_model1\n",
        "\n",
        "#\n",
        "# With decision trees (and random forests), we don't need to\n",
        "#      adjust the \"exchange-rates\" among features\n",
        "#\n",
        "#      Instead, we let the various if/else branches separate\n",
        "#      the data into subsets that we _allow_ to be compared!\n",
        "#"
      ]
    },
    {
      "cell_type": "code",
      "execution_count": null,
      "metadata": {
        "id": "ICn0DTJ6bTo0",
        "colab": {
          "base_uri": "https://localhost:8080/"
        },
        "outputId": "d575c35c-e2b1-4054-b7ac-6cd9870665ea"
      },
      "outputs": [
        {
          "output_type": "stream",
          "name": "stdout",
          "text": [
            "[[4.6 3.6 1.  0.2]\n",
            " [4.3 3.  1.1 0.1]\n",
            " [5.  3.2 1.2 0.2]\n",
            " [5.8 4.  1.2 0.2]\n",
            " [4.4 3.  1.3 0.2]]\n"
          ]
        }
      ],
      "source": [
        "#\n",
        "# let's convert our dataframe to a numpy array, named A\n",
        "#\n",
        "A = df_model1.to_numpy()  # convert to an array\n",
        "A = A.astype('float64')   # make sure it's all floating point\n",
        "print(A[:5])  # see the first 5 rows"
      ]
    },
    {
      "cell_type": "code",
      "execution_count": null,
      "metadata": {
        "id": "9jZQ9lYlbTo1",
        "colab": {
          "base_uri": "https://localhost:8080/"
        },
        "outputId": "2d9f6590-f454-47fc-cda5-8690eb09d82e"
      },
      "outputs": [
        {
          "output_type": "stream",
          "name": "stdout",
          "text": [
            "\n",
            "The dataset has 141 rows and 4 cols\n"
          ]
        }
      ],
      "source": [
        "#\n",
        "# nice to have NUM_ROWS and NUM_COLS around\n",
        "#\n",
        "NUM_ROWS, NUM_COLS = A.shape\n",
        "print(f\"\\nThe dataset has {NUM_ROWS} rows and {NUM_COLS} cols\")"
      ]
    },
    {
      "cell_type": "code",
      "execution_count": null,
      "metadata": {
        "scrolled": true,
        "id": "uBE48OSrbTo1",
        "colab": {
          "base_uri": "https://localhost:8080/"
        },
        "outputId": "893d9169-4dfc-459c-dc4a-5a2c51361215"
      },
      "outputs": [
        {
          "output_type": "stream",
          "name": "stdout",
          "text": [
            "flower #140 is [7.7 2.6 6.9 2.3]\n",
            "  Its sepallen is 7.7\n",
            "  Its sepalwid is 2.6\n",
            "  Its petallen is 6.9\n",
            "  Its petalwid is 2.3\n",
            "  Its species is virginica (i.e., 2)\n"
          ]
        }
      ],
      "source": [
        "# let's use all our variables, to reinforce that we have\n",
        "# (1) their names...\n",
        "# (2) access and control over each...\n",
        "\n",
        "# choose a row index, n:\n",
        "n = 140\n",
        "print(f\"flower #{n} is {A[n]}\")\n",
        "\n",
        "for i in range(len(COLUMNS)):\n",
        "    colname = COLUMNS[i]\n",
        "    value = A[n][i]\n",
        "    print(f\"  Its {colname} is {value}\")\n",
        "\n",
        "species_index = 3\n",
        "species_num = int(round(A[n][species_index]))\n",
        "species = SPECIES[species_num]\n",
        "print(f\"  Its species is {species} (i.e., {species_num})\")"
      ]
    },
    {
      "cell_type": "code",
      "execution_count": null,
      "metadata": {
        "id": "foWR2hd4bTo1",
        "colab": {
          "base_uri": "https://localhost:8080/"
        },
        "outputId": "4c2384a3-d411-4fdc-c24c-8f6366f76685"
      },
      "outputs": [
        {
          "output_type": "stream",
          "name": "stdout",
          "text": [
            "+++ Start of data definitions +++\n",
            "\n",
            "y_all (just the labels/species)   are \n",
            " [0.2 0.1 0.2 0.2 0.2 0.2 0.3 0.2 0.3 0.4 0.2 0.2 0.3 0.2 0.1 0.3 0.2 0.2\n",
            " 0.2 0.2 0.3 0.2 0.2 0.2 0.1 0.1 0.1 0.2 0.3 0.4 0.2 0.2 0.2 0.2 0.4 0.2\n",
            " 0.2 0.2 0.4 0.6 0.2 0.5 0.4 0.2 0.3 0.2 0.4 1.4 1.  1.  1.  1.  1.3 1.\n",
            " 1.1 1.4 1.1 1.2 1.3 1.3 1.2 1.  1.3 1.3 1.  1.3 1.2 1.5 1.3 1.2 1.3 1.4\n",
            " 1.4 1.5 1.5 1.3 1.5 1.6 1.5 1.5 1.4 1.5 1.3 1.4 1.2 1.6 1.5 1.8 1.4 1.5\n",
            " 1.5 1.7 1.6 1.7 1.8 1.8 2.  1.8 1.8 2.  1.5 1.9 2.4 1.9 1.8 1.5 2.  2.3\n",
            " 2.  2.3 1.9 2.3 2.3 2.1 1.8 1.8 2.1 1.4 1.8 2.4 2.1 2.2 2.4 2.1 2.5 2.3\n",
            " 2.2 1.8 1.6 2.3 2.1 1.8 2.5 1.9 2.3 1.8 2.  2.1 2.2 2.  2.3]\n",
            "X_all (just the features, first few rows) are \n",
            " [[4.6 3.6 1.  0.2]\n",
            " [4.3 3.  1.1 0.1]\n",
            " [5.  3.2 1.2 0.2]\n",
            " [5.8 4.  1.2 0.2]\n",
            " [4.4 3.  1.3 0.2]]\n"
          ]
        }
      ],
      "source": [
        "print(\"+++ Start of data definitions +++\\n\")\n",
        "\n",
        "#\n",
        "# we could do this at the data-frame level, too!\n",
        "#\n",
        "\n",
        "X_all = A[:,0:4]  # X (features) ... is all rows, columns 0, 1, 2, 3\n",
        "y_all = A[:,3]    # y (labels) ... is all rows, column 3 only\n",
        "\n",
        "print(f\"y_all (just the labels/species)   are \\n {y_all}\")\n",
        "print(f\"X_all (just the features, first few rows) are \\n {X_all[0:5]}\")"
      ]
    },
    {
      "cell_type": "code",
      "execution_count": null,
      "metadata": {
        "id": "Ffj5AyCtbTo1",
        "colab": {
          "base_uri": "https://localhost:8080/"
        },
        "outputId": "fdbf39de-be73-49a2-c238-7ae6af758326"
      },
      "outputs": [
        {
          "output_type": "stream",
          "name": "stdout",
          "text": [
            "The scrambled labels/species are \n",
            " [1.7 1.3 1.8 1.3 1.5 1.5 1.1 0.2 1.5 0.4 2.  1.4 0.2 1.3 1.3 0.1 2.3 0.1\n",
            " 0.2 2.3 0.2 2.  2.2 1.8 0.2 1.3 1.2 0.2 0.2 0.3 1.8 0.2 0.4 1.8 0.4 2.4\n",
            " 2.  1.5 0.4 2.4 1.5 0.2 1.8 1.4 1.4 1.8 2.1 0.3 0.3 1.  2.  1.9 0.1 1.3\n",
            " 1.4 1.8 2.1 1.  0.1 2.4 1.8 1.6 2.1 1.9 1.5 1.2 2.3 1.6 1.8 0.2 0.5 1.\n",
            " 1.6 0.3 0.2 0.1 2.3 1.  1.3 2.3 1.9 1.8 0.2 0.2 1.4 1.3 0.2 0.2 0.2 1.5\n",
            " 2.  0.2 0.2 1.7 2.3 2.1 0.2 0.3 2.3 0.2 2.2 1.2 0.4 1.4 2.2 0.4 2.1 1.6\n",
            " 1.9 2.5 1.  1.4 0.3 0.6 1.  1.5 1.5 2.1 2.  1.  1.8 1.8 1.3 0.3 0.2 1.5\n",
            " 0.2 0.2 0.2 0.2 1.1 1.3 2.3 0.2 1.2 1.5 1.2 1.5 1.4 2.5 0.2]\n",
            "The corresponding data rows are \n",
            " [[4.9 2.5 4.5 1.7]\n",
            " [5.7 2.8 4.5 1.3]\n",
            " [5.9 3.2 4.8 1.8]\n",
            " [5.6 2.7 4.2 1.3]\n",
            " [6.  2.2 5.  1.5]]\n"
          ]
        }
      ],
      "source": [
        "#\n",
        "# we scramble the data, to remove (potential) dependence on its ordering:\n",
        "#\n",
        "indices = np.random.permutation(len(y_all))  # indices is a permutation-list\n",
        "\n",
        "# we scramble both X and y, necessarily with the same permutation\n",
        "X_permed = X_all[indices]              # we apply the _same_ permutation to each!\n",
        "y_permed = y_all[indices]              # again...\n",
        "print(f\"The scrambled labels/species are \\n {y_permed}\")\n",
        "print(f\"The corresponding data rows are \\n {X_permed[0:5]}\")"
      ]
    },
    {
      "cell_type": "code",
      "execution_count": null,
      "metadata": {
        "id": "hvr7kECBbTo1",
        "colab": {
          "base_uri": "https://localhost:8080/"
        },
        "outputId": "27212ea3-cda8-417a-8d7b-f1b2c9d66f60"
      },
      "outputs": [
        {
          "output_type": "stream",
          "name": "stdout",
          "text": [
            "training with 112 rows;  testing with 29 rows\n",
            "\n",
            "Held-out data... (testing data: 29)\n",
            "y_test: [1.3 2.  0.2 1.  1.8 2.1 1.3 1.8 2.3 0.3 0.2 0.2 0.2 1.5 2.3 2.  0.1 2.\n",
            " 0.2 2.1 1.5 1.8 2.4 2.3 1.2 0.2 1.2 0.4 1.7]\n",
            "\n",
            "X_test (few rows): [[6.4 2.9 4.3 1.3]\n",
            " [6.5 3.  5.2 2. ]\n",
            " [5.2 3.5 1.5 0.2]\n",
            " [5.7 2.6 3.5 1. ]\n",
            " [6.2 2.8 4.8 1.8]]\n",
            "\n",
            "Data used for modeling... (training data: 112)\n",
            "y_train: [2.1 0.2 0.2 0.2 0.2 1.4 1.  2.3 1.4 1.8 1.5 0.2 1.1 0.3 0.2 0.1 0.1 1.8\n",
            " 1.5 1.3 0.3 0.3 1.9 0.6 0.2 1.4 1.6 1.9 1.4 0.2 1.2 2.5 1.8 0.4 0.2 1.5\n",
            " 2.4 1.3 1.2 1.5 1.  0.2 1.5 1.5 1.  0.2 0.4 1.8 0.2 0.2 1.3 1.6 1.8 2.5\n",
            " 0.3 0.2 1.6 0.2 0.2 0.4 1.4 1.8 0.3 2.  2.2 1.4 1.1 1.  2.3 0.4 1.5 1.\n",
            " 2.2 1.5 2.1 1.7 0.5 1.3 1.5 1.  1.4 1.9 2.3 1.2 1.3 0.2 1.8 1.3 1.3 2.1\n",
            " 0.2 0.4 2.3 1.8 0.1 1.3 0.2 0.2 0.2 1.9 2.  2.1 1.8 1.5 2.2 2.3 0.3 1.4\n",
            " 2.  0.1 1.6 2.4]\n",
            "\n",
            "X_train (few rows): [[6.9 3.1 5.4 2.1]\n",
            " [4.9 3.  1.4 0.2]\n",
            " [5.  3.3 1.4 0.2]\n",
            " [5.5 3.5 1.3 0.2]\n",
            " [4.8 3.4 1.6 0.2]]\n"
          ]
        }
      ],
      "source": [
        "#\n",
        "# We next separate into test data and training data ...\n",
        "#    + We will train on the training data...\n",
        "#    + We will _not_ look at the testing data to build the model\n",
        "#\n",
        "# Then, afterward, we will test on the testing data -- and see how well we do!\n",
        "#\n",
        "\n",
        "#\n",
        "# a common convention:  train on 80%, test on 20%    Let's define the TEST_PERCENT\n",
        "#\n",
        "\n",
        "from sklearn.model_selection import train_test_split\n",
        "\n",
        "X_train, X_test, y_train, y_test = train_test_split(X_all, y_all, test_size=0.2, random_state=42)\n",
        "\n",
        "print(f\"training with {len(y_train)} rows;  testing with {len(y_test)} rows\\n\" )\n",
        "\n",
        "print(f\"Held-out data... (testing data: {len(y_test)})\")\n",
        "print(f\"y_test: {y_test}\\n\")\n",
        "print(f\"X_test (few rows): {X_test[0:5,:]}\")  # 5 rows\n",
        "print()\n",
        "print(f\"Data used for modeling... (training data: {len(y_train)})\")\n",
        "print(f\"y_train: {y_train}\\n\")\n",
        "print(f\"X_train (few rows): {X_train[0:5,:]}\")  # 5 rows"
      ]
    },
    {
      "cell_type": "markdown",
      "metadata": {
        "id": "gVMTL2jtbTo1"
      },
      "source": [
        "<br>\n",
        "\n",
        "#### Here is where the model-buidling begins in earnest..."
      ]
    },
    {
      "cell_type": "code",
      "execution_count": null,
      "metadata": {
        "id": "koyBDYkKbTo1",
        "colab": {
          "base_uri": "https://localhost:8080/"
        },
        "outputId": "1c554dff-f9f3-4714-8fba-267e892f289d"
      },
      "outputs": [
        {
          "output_type": "stream",
          "name": "stdout",
          "text": [
            "Created and trained a DT classifier with max depth = 1\n"
          ]
        }
      ],
      "source": [
        "#\n",
        "# +++ This is the \"Model-building and Model-training Cell\"\n",
        "#\n",
        "# Create a DT model and train it!\n",
        "#\n",
        "from sklearn import tree      # for decision trees\n",
        "\n",
        "best_depth = 1   # we don't know what depth to use, so let's guess 1\n",
        "dtree_model = tree.DecisionTreeClassifier(max_depth=best_depth)\n",
        "\n",
        "# Let's train the model.   It's this one line:\n",
        "y_train = y_train.astype(int)\n",
        "dtree_model.fit(X_train, y_train)                              # yay!  trained!\n",
        "print(\"Created and trained a DT classifier with max depth =\", best_depth)"
      ]
    },
    {
      "cell_type": "markdown",
      "metadata": {
        "id": "YByW8Fp_bTo2"
      },
      "source": [
        "<br>\n",
        "\n",
        "#### That's it! :-)"
      ]
    },
    {
      "cell_type": "code",
      "execution_count": null,
      "metadata": {
        "id": "roWqg2RDbTo2",
        "colab": {
          "base_uri": "https://localhost:8080/"
        },
        "outputId": "d3c5e357-e45f-4069-8926-d360070c916d"
      },
      "outputs": [
        {
          "output_type": "stream",
          "name": "stdout",
          "text": [
            "Predicted labels: [1. 1. 0. 1. 1. 1. 1. 1. 1. 0. 0. 0. 0. 1. 1. 1. 0. 1. 0. 1. 1. 1. 1. 1.\n",
            " 1. 0. 1. 0. 1.]\n",
            "Actual  labels  : [1. 2. 0. 1. 2. 2. 1. 2. 2. 0. 0. 0. 0. 2. 2. 2. 0. 2. 0. 2. 1. 2. 2. 2.\n",
            " 1. 0. 1. 0. 2.]\n",
            "\n",
            "Results on test set:  15 correct out of 29 total.\n"
          ]
        }
      ],
      "source": [
        "#\n",
        "# +++ This cell will \"Model-testing Cell\"\n",
        "#\n",
        "# Now, let's see how well our model does on our \"held-out data\" (the testing data)\n",
        "#\n",
        "\n",
        "# We run our test set:\n",
        "\n",
        "# the function knn_model.predict is the instantiation of our model\n",
        "# it's what runs the k-nearest-neighbors algorithm:\n",
        "predicted_labels = dtree_model.predict(X_test)\n",
        "actual_labels = y_test\n",
        "\n",
        "# Let's print them so we can compare...\n",
        "print(\"Predicted labels:\", predicted_labels)\n",
        "print(\"Actual  labels  :\", actual_labels)\n",
        "\n",
        "# And, some overall results\n",
        "num_correct = sum(predicted_labels == actual_labels)\n",
        "total = len(actual_labels)\n",
        "print(f\"\\nResults on test set:  {num_correct} correct out of {total} total.\")"
      ]
    },
    {
      "cell_type": "code",
      "execution_count": null,
      "metadata": {
        "id": "F9t8SkN8bTo2",
        "colab": {
          "base_uri": "https://localhost:8080/"
        },
        "outputId": "fe62a221-d901-408a-a96f-fe06ee2296d4"
      },
      "outputs": [
        {
          "output_type": "stream",
          "name": "stdout",
          "text": [
            "row   0 :   versicolor versicolor     \n",
            "row   1 :   versicolor virginica      incorrect\n",
            "row   2 :       setosa setosa         \n",
            "row   3 :   versicolor versicolor     \n",
            "row   4 :   versicolor virginica      incorrect\n",
            "row   5 :   versicolor virginica      incorrect\n",
            "row   6 :   versicolor versicolor     \n",
            "row   7 :   versicolor virginica      incorrect\n",
            "row   8 :   versicolor virginica      incorrect\n",
            "row   9 :       setosa setosa         \n",
            "row  10 :       setosa setosa         \n",
            "row  11 :       setosa setosa         \n",
            "row  12 :       setosa setosa         \n",
            "row  13 :   versicolor virginica      incorrect\n",
            "row  14 :   versicolor virginica      incorrect\n",
            "row  15 :   versicolor virginica      incorrect\n",
            "row  16 :       setosa setosa         \n",
            "row  17 :   versicolor virginica      incorrect\n",
            "row  18 :       setosa setosa         \n",
            "row  19 :   versicolor virginica      incorrect\n",
            "row  20 :   versicolor versicolor     \n",
            "row  21 :   versicolor virginica      incorrect\n",
            "row  22 :   versicolor virginica      incorrect\n",
            "row  23 :   versicolor virginica      incorrect\n",
            "row  24 :   versicolor versicolor     \n",
            "row  25 :       setosa setosa         \n",
            "row  26 :   versicolor versicolor     \n",
            "row  27 :       setosa setosa         \n",
            "row  28 :   versicolor virginica      incorrect\n",
            "\n",
            "Correct: 15 out of 29\n"
          ]
        },
        {
          "output_type": "execute_result",
          "data": {
            "text/plain": [
              "15"
            ]
          },
          "metadata": {},
          "execution_count": 67
        }
      ],
      "source": [
        "#\n",
        "# Let's print these more helpfully, in a vertical table\n",
        "#\n",
        "\n",
        "def compare_labels(predicted_labels, actual_labels):\n",
        "    \"\"\" a more neatly formatted comparison \"\"\"\n",
        "    NUM_LABELS = len(predicted_labels)\n",
        "    num_correct = 0\n",
        "\n",
        "    for i in range(NUM_LABELS):\n",
        "        p = int(round(predicted_labels[i]))         # round protects from fp error\n",
        "        a = int(round(actual_labels[i]))\n",
        "        result = \"incorrect\"\n",
        "        if p == a:  # if they match,\n",
        "            result = \"\"       # no longer incorrect\n",
        "            num_correct += 1  # and we count a match!\n",
        "\n",
        "        print(f\"row {i:>3d} : {SPECIES[p]:>12s} {SPECIES[a]:<12s}   {result}\")\n",
        "\n",
        "    print()\n",
        "    print(\"Correct:\", num_correct, \"out of\", NUM_LABELS)\n",
        "    return num_correct\n",
        "\n",
        "# let's try it out!\n",
        "compare_labels(predicted_labels,actual_labels)"
      ]
    },
    {
      "cell_type": "markdown",
      "metadata": {
        "id": "-wXbYdxObTo2"
      },
      "source": [
        "<br>\n",
        "\n",
        "#### The online tree-visualizer is at [http://viz-js.com/](http://viz-js.com/)"
      ]
    },
    {
      "cell_type": "code",
      "execution_count": null,
      "metadata": {
        "id": "40jdJhXpbTo2",
        "colab": {
          "base_uri": "https://localhost:8080/"
        },
        "outputId": "ebac830a-b673-402a-852a-d498b05c1a0b"
      },
      "outputs": [
        {
          "output_type": "stream",
          "name": "stdout",
          "text": [
            "file tree_data.gv written. Try pasting its contents to  http://viz-js.com/\n",
            "\n",
            "digraph Tree {\n",
            "node [shape=box, style=\"filled\", color=\"black\", fontname=\"helvetica\"] ;\n",
            "graph [ranksep=equally, splines=polyline] ;\n",
            "edge [fontname=\"helvetica\"] ;\n",
            "0 [label=\"petallen <= 2.6\\ngini = 0.665\\nsamples = 112\\nvalue = [38, 40, 34]\\nclass = versicolor\", fillcolor=\"#fafefc\"] ;\n",
            "1 [label=\"gini = 0.0\\nsamples = 38\\nvalue = [38, 0, 0]\\nclass = setosa\", fillcolor=\"#e58139\"] ;\n",
            "0 -> 1 [labeldistance=2.5, labelangle=45, headlabel=\"True\"] ;\n",
            "2 [label=\"gini = 0.497\\nsamples = 74\\nvalue = [0, 40, 34]\\nclass = versicolor\", fillcolor=\"#e1fbec\"] ;\n",
            "0 -> 2 [labeldistance=2.5, labelangle=-45, headlabel=\"False\"] ;\n",
            "{rank=same ; 0} ;\n",
            "{rank=same ; 1; 2} ;\n",
            "}\n"
          ]
        }
      ],
      "source": [
        "#\n",
        "# Now, let's see the tree!\n",
        "#\n",
        "\n",
        "filename = 'tree_data.gv'    # sometimes .dot is used, instead of .gv\n",
        "\n",
        "tree.export_graphviz(dtree_model, out_file=filename,  # the filename constructed above...!\n",
        "                            feature_names=COLUMNS[:-1], # actual feature names, not species\n",
        "                            filled=True,              # fun!\n",
        "                            rotate=False,             # False for Up/Down; True for L/R\n",
        "                            class_names=SPECIES,      # good to have\n",
        "                            leaves_parallel=True )    # lots of options!\n",
        "\n",
        "print(f\"file {filename} written. Try pasting its contents to  http://viz-js.com/\\n\")\n",
        "\n",
        "with open(filename, \"r\") as f:\n",
        "    all_file_text = f.read()\n",
        "    print(all_file_text)"
      ]
    },
    {
      "cell_type": "code",
      "source": [
        "#\n",
        "# not as nice-looking, but all-in-one:\n",
        "#\n",
        "\n",
        "import pydotplus #pip install pydotplus\n",
        "from IPython import display\n",
        "\n",
        "graph = pydotplus.graph_from_dot_data(all_file_text)\n",
        "graph.write_png(\"tree.png\")  # to a file - you'll see it in content at left\n",
        "display.Image(graph.create_png())  # to this cell\n"
      ],
      "metadata": {
        "id": "k5YE3iqkgAzt",
        "colab": {
          "base_uri": "https://localhost:8080/",
          "height": 162
        },
        "outputId": "1d0b566e-77bc-4421-d45f-8f0af9100e05"
      },
      "execution_count": null,
      "outputs": [
        {
          "output_type": "execute_result",
          "data": {
            "image/png": "[encoded data removed]",
            "text/plain": [
              "<IPython.core.display.Image object>"
            ]
          },
          "metadata": {},
          "execution_count": 69
        }
      ]
    },
    {
      "cell_type": "markdown",
      "metadata": {
        "id": "uMEsQWZjbTo2"
      },
      "source": [
        "<br>\n",
        "\n",
        "#### The online tree-visualizer is at [http://viz-js.com/](http://viz-js.com/)"
      ]
    },
    {
      "cell_type": "code",
      "execution_count": null,
      "metadata": {
        "id": "X4l4qPLXbTo2",
        "colab": {
          "base_uri": "https://localhost:8080/",
          "height": 652
        },
        "outputId": "84f59631-60d7-4504-e291-919eac46dd2c"
      },
      "outputs": [
        {
          "output_type": "display_data",
          "data": {
            "text/plain": [
              "<Figure size 1200x800 with 1 Axes>"
            ],
            "image/png": "[encoded data removed]"
          },
          "metadata": {}
        }
      ],
      "source": [
        "#\n",
        "# Let's render it right here!\n",
        "\n",
        "import matplotlib.pyplot as plt\n",
        "\n",
        "FEATURES = COLUMNS[0:4]\n",
        "\n",
        "#\n",
        "# Treeing!\n",
        "#\n",
        "fig = plt.figure(figsize=(12,8))\n",
        "tree_plot = tree.plot_tree(dtree_model,\n",
        "                   feature_names=FEATURES,   # Glad to have these!\n",
        "                   class_names=SPECIES,      # and these!!\n",
        "                   filled=True)\n",
        "\n",
        "plt.show()"
      ]
    },
    {
      "cell_type": "code",
      "execution_count": null,
      "metadata": {
        "id": "Q-uUORmdbTo2"
      },
      "outputs": [],
      "source": [
        "#\n",
        "# Now, we TUNE the model (with cross-validation)...\n",
        "#\n",
        "# We used a depth of 1    (only 1 split)\n",
        "# There's NO way to model three species with only 1 split!\n",
        "#\n",
        "# So, we try several depths...\n",
        "# Here, the tradeoff is not so much \"more accurate\"\n",
        "#   + deeper always has the potential to be more accurate\n",
        "#   + but at the risk of _overfitting_ the training data!\n",
        "#\n",
        "# Rather it's the underfitting(bias)/overfitting(variance) tradeoff\n",
        "#   + A heuristic: \"Choose the _smallest_ depth at which the accuracy has plateaued\"\n",
        "#   + that is, is close to maximum...\n",
        "#"
      ]
    },
    {
      "cell_type": "code",
      "execution_count": null,
      "metadata": {
        "scrolled": true,
        "id": "-3JH4VqSbTo2",
        "colab": {
          "base_uri": "https://localhost:8080/"
        },
        "outputId": "e92ad6ea-ac7a-47af-f8b0-02fe81c4503b"
      },
      "outputs": [
        {
          "output_type": "stream",
          "name": "stdout",
          "text": [
            "depth:  1  cv accuracy:  0.6964\n",
            "depth:  2  cv accuracy:  0.9458\n",
            "depth:  3  cv accuracy:  0.9640\n",
            "depth:  4  cv accuracy:  0.9553\n",
            "depth:  5  cv accuracy:  0.9553\n",
            "depth:  6  cv accuracy:  0.9462\n",
            "depth:  7  cv accuracy:  0.9462\n",
            "depth:  8  cv accuracy:  0.9462\n",
            "depth:  9  cv accuracy:  0.9462\n",
            "depth: 10  cv accuracy:  0.9462\n",
            "depth: 11  cv accuracy:  0.9462\n",
            "depth: 12  cv accuracy:  0.9553\n",
            "depth: 13  cv accuracy:  0.9462\n",
            "depth: 14  cv accuracy:  0.9553\n",
            "depth: 15  cv accuracy:  0.9553\n",
            "depth: 16  cv accuracy:  0.9462\n",
            "depth: 17  cv accuracy:  0.9462\n",
            "depth: 18  cv accuracy:  0.9553\n",
            "depth: 19  cv accuracy:  0.9553\n",
            "\n",
            "best_depth = 3 with acc: 0.9640316205533598 is our underfitting/overfitting balance.\n"
          ]
        }
      ],
      "source": [
        "#\n",
        "# To compare different tree-depths, we use cross validation\n",
        "#\n",
        "\n",
        "from sklearn.model_selection import cross_val_score\n",
        "\n",
        "#\n",
        "# cross-validation splits the training set into two pieces:\n",
        "#   + model-building and model-validation. We'll use \"build\" and \"validate\"\n",
        "#\n",
        "\n",
        "best_d = 1\n",
        "best_accuracy = 0.0\n",
        "\n",
        "for d in range(1,20):\n",
        "    cv_model = tree.DecisionTreeClassifier(max_depth=d)   # for each depth, d\n",
        "    cv_scores = cross_val_score( cv_model, X_train, y_train, cv=5 ) # 5 means 80/20 split\n",
        "    # print(cv_scores)  # we usually don't want to see the five individual scores\n",
        "    average_cv_accuracy = cv_scores.mean()  # more likely, only their average\n",
        "    print(f\"depth: {d:2d}  cv accuracy: {average_cv_accuracy:7.4f}\")\n",
        "\n",
        "    if average_cv_accuracy > best_accuracy:\n",
        "        best_accuracy = average_cv_accuracy\n",
        "        best_d = d\n",
        "\n",
        "\n",
        "\n",
        "# assign best value of d to best_depth\n",
        "best_depth = best_d   # may have to hand-tune this, depending on what happens...\n",
        "print()\n",
        "print(f\"best_depth = {best_depth} with acc: {best_accuracy} is our underfitting/overfitting balance.\")"
      ]
    },
    {
      "cell_type": "code",
      "execution_count": null,
      "metadata": {
        "id": "Mn-QGloHbTo3",
        "colab": {
          "base_uri": "https://localhost:8080/"
        },
        "outputId": "d8ac66d5-2f07-4aab-f848-d5e097ed450f"
      },
      "outputs": [
        {
          "output_type": "stream",
          "name": "stdout",
          "text": [
            "Created and trained a DT classifier with max depth = 3\n"
          ]
        }
      ],
      "source": [
        "#\n",
        "# Now, we re-create and re-run the  \"Model-building and -training Cell\"\n",
        "#\n",
        "# this time, with the best depth, best_d, found by cross-validation model tuning:\n",
        "#\n",
        "from sklearn import tree      # for decision trees\n",
        "\n",
        "# we should have best_depth from our cv exploration\n",
        "dtree_model_tuned = tree.DecisionTreeClassifier(max_depth=best_depth)\n",
        "\n",
        "# we train the model (it's one line!)\n",
        "dtree_model_tuned.fit(X_train, y_train)                              # yay!  trained!\n",
        "print(\"Created and trained a DT classifier with max depth =\", best_depth)"
      ]
    },
    {
      "cell_type": "markdown",
      "metadata": {
        "id": "wxaSc_LCbTo3"
      },
      "source": [
        "<br>\n",
        "\n",
        "#### <b>To try</b>:  showing the depth 2+ tree"
      ]
    },
    {
      "cell_type": "code",
      "execution_count": null,
      "metadata": {
        "id": "-1S7m14gbTo3",
        "colab": {
          "base_uri": "https://localhost:8080/"
        },
        "outputId": "a596a26c-f0f8-4a03-f497-8ecf697c622f"
      },
      "outputs": [
        {
          "output_type": "stream",
          "name": "stdout",
          "text": [
            "file tree_data.gv written. Try pasting its contents to  http://viz-js.com/\n",
            "\n",
            "digraph Tree {\n",
            "node [shape=box, style=\"filled\", color=\"black\", fontname=\"helvetica\"] ;\n",
            "graph [ranksep=equally, splines=polyline] ;\n",
            "edge [fontname=\"helvetica\"] ;\n",
            "0 [label=\"petalwid <= 0.8\\ngini = 0.665\\nsamples = 112\\nvalue = [38, 40, 34]\\nclass = versicolor\", fillcolor=\"#fafefc\"] ;\n",
            "1 [label=\"gini = 0.0\\nsamples = 38\\nvalue = [38, 0, 0]\\nclass = setosa\", fillcolor=\"#e58139\"] ;\n",
            "0 -> 1 [labeldistance=2.5, labelangle=45, headlabel=\"True\"] ;\n",
            "2 [label=\"petallen <= 4.85\\ngini = 0.497\\nsamples = 74\\nvalue = [0, 40, 34]\\nclass = versicolor\", fillcolor=\"#e1fbec\"] ;\n",
            "0 -> 2 [labeldistance=2.5, labelangle=-45, headlabel=\"False\"] ;\n",
            "3 [label=\"gini = 0.0\\nsamples = 36\\nvalue = [0, 36, 0]\\nclass = versicolor\", fillcolor=\"#39e581\"] ;\n",
            "2 -> 3 ;\n",
            "4 [label=\"petalwid <= 1.75\\ngini = 0.188\\nsamples = 38\\nvalue = [0, 4, 34]\\nclass = virginica\", fillcolor=\"#9050e8\"] ;\n",
            "2 -> 4 ;\n",
            "5 [label=\"gini = 0.49\\nsamples = 7\\nvalue = [0, 4, 3]\\nclass = versicolor\", fillcolor=\"#cef8e0\"] ;\n",
            "4 -> 5 ;\n",
            "6 [label=\"gini = 0.0\\nsamples = 31\\nvalue = [0, 0, 31]\\nclass = virginica\", fillcolor=\"#8139e5\"] ;\n",
            "4 -> 6 ;\n",
            "{rank=same ; 0} ;\n",
            "{rank=same ; 2} ;\n",
            "{rank=same ; 4} ;\n",
            "{rank=same ; 1; 3; 5; 6} ;\n",
            "}\n"
          ]
        }
      ],
      "source": [
        "#\n",
        "# Now, let's see the tree!\n",
        "#\n",
        "\n",
        "filename = 'tree_data.gv'    # sometimes .dot is used, instead of .gv\n",
        "\n",
        "tree.export_graphviz(dtree_model_tuned, out_file=filename,  # the filename constructed above...!\n",
        "                            feature_names=COLUMNS[:-1], # actual feature names, not species\n",
        "                            filled=True,              # fun!\n",
        "                            rotate=False,             # False for Up/Down; True for L/R\n",
        "                            class_names=SPECIES,      # good to have\n",
        "                            leaves_parallel=True )    # lots of options!\n",
        "\n",
        "print(f\"file {filename} written. Try pasting its contents to  http://viz-js.com/\\n\")\n",
        "\n",
        "with open(filename, \"r\") as f:\n",
        "    all_file_text = f.read()\n",
        "    print(all_file_text)"
      ]
    },
    {
      "cell_type": "code",
      "execution_count": null,
      "metadata": {
        "id": "d6NZCxMgbTo3"
      },
      "outputs": [],
      "source": [
        "#\n",
        "# You will likely have a different name...\n",
        "#\n",
        "from IPython import display\n",
        "display.Image(\"./new_tree.png\", width=400)  # adjust for your tree!"
      ]
    },
    {
      "cell_type": "code",
      "execution_count": null,
      "metadata": {
        "id": "m_38wNT-bTo3"
      },
      "outputs": [],
      "source": [
        "#\n",
        "# Re-create and re-run the  \"Model-testing Cell\"     How does it do with best_k?!\n",
        "#\n",
        "predicted_labels = dtree_model_tuned.predict(X_test)\n",
        "actual_labels = y_test\n",
        "\n",
        "# Let's print them so we can compare...\n",
        "print(\"Predicted labels:\", predicted_labels)\n",
        "print(\"Actual labels:\", actual_labels)\n",
        "print()\n",
        "\n",
        "# and, we'll print our nicer table...\n",
        "compare_labels(predicted_labels,actual_labels)"
      ]
    },
    {
      "cell_type": "code",
      "execution_count": null,
      "metadata": {
        "id": "7l4jM_LqbTo3"
      },
      "outputs": [],
      "source": [
        "#\n",
        "# Ok!  We have tuned our DT to use the \"best\" depth...\n",
        "#\n",
        "# Now, we use ALL available data to train our final predictive model:\n",
        "#\n",
        "\n",
        "from sklearn import tree      # for decision trees\n",
        "\n",
        "# we should have best_depth from our cv exploration\n",
        "dtree_model_final = tree.DecisionTreeClassifier(max_depth=best_depth)\n",
        "\n",
        "# we train the model (it's one line!)\n",
        "dtree_model_final.fit(X_all, y_all)                              # yay!  trained!\n",
        "print(\"Created and trained a 'final' DT classifier with max depth =\", best_depth)"
      ]
    },
    {
      "cell_type": "code",
      "execution_count": null,
      "metadata": {
        "id": "P2QNoallbTo3"
      },
      "outputs": [],
      "source": [
        "#\n",
        "# final predictive model (k-nearest-neighbor), with tuned k + ALL data incorporated\n",
        "#\n",
        "\n",
        "def predictive_model( Features ):\n",
        "    \"\"\" input: a list of four features\n",
        "                [ sepallen, sepalwid, petallen, petalwid ]\n",
        "        output: the predicted species of iris, from\n",
        "                  setosa (0), versicolor (1), virginica (2)\n",
        "    \"\"\"\n",
        "    our_features = np.asarray([Features])                 # extra brackets needed\n",
        "    predicted_species = dtree_model_final.predict(our_features)\n",
        "\n",
        "    predicted_species = int(round(predicted_species[0]))  # unpack one element\n",
        "    name = SPECIES[predicted_species]\n",
        "    #print(f\"{name} ({predicted_species})\")\n",
        "    return predicted_species\n",
        "\n",
        "#\n",
        "# Try it!\n",
        "#\n",
        "# Features = eval(input(\"Enter new Features: \"))\n",
        "#\n",
        "Features = [4.6,3.1,2.0,1.5]   # [4.8,2.7,3.1,0.2] [4.6,3.1,2.0,1.5] [6.7,3.3,5.7,2.1]\n",
        "result = predictive_model( Features )\n",
        "print(f\"I predict {result} {SPECIES[result]} from Features {Features}\")"
      ]
    },
    {
      "cell_type": "code",
      "execution_count": null,
      "metadata": {
        "id": "G3ueKtcrbTo3"
      },
      "outputs": [],
      "source": [
        "#\n",
        "# try it on new, \"unseen\" data!\n",
        "#\n",
        "\n",
        "LoF = [[4.8, 3.1, 1.6, 0.2 ],\n",
        "[5.7, 2.9, 4.2, 1.3 ],\n",
        "[5.8, 2.7, 5.1, 1.9 ],\n",
        "[5.2, 4.1, 1.5, 0.1 ],\n",
        "[5.4, 3.4, 1.5, 0.4 ],\n",
        "[5.1, 2.5, 3.0, 1.1 ],\n",
        "[6.2, 2.9, 4.3, 1.3 ],\n",
        "[6.3, 3.3, 6.0, 2.5 ],\n",
        "[5.7, 2.8, 4.1, 1.3 ]]\n",
        "\n",
        "for Features in LoF:\n",
        "    result = predictive_model( Features )\n",
        "    print(f\"I predict {result} from Features {Features}\")\n",
        "\n",
        "# here are the correctly-coded species: 012001122\n",
        "# almost always the final one is \"wrong\"\n",
        "# (It's a virginica that \"acts like\" a versicolor.)"
      ]
    },
    {
      "cell_type": "markdown",
      "source": [
        "### The model is complete\n",
        "+ and can predict _any_ future...\n",
        "+ ... though not always correctly.\n",
        "+ Let's plot many of them!"
      ],
      "metadata": {
        "id": "9jtRjGUt7JHt"
      }
    },
    {
      "cell_type": "code",
      "source": [
        "# we can only plot 2 dimensions at a time!\n",
        "# These two will be our constants:\n",
        "petallen = 4.95\n",
        "petalwid = 1.0\n",
        "\n",
        "VERTICAL = np.arange(0,10,.1) # array of vertical input values\n",
        "HORIZONT = np.arange(0,10,.1) # array of horizontal input values\n",
        "PLANE = np.zeros( (len(HORIZONT),len(VERTICAL)) ) # the output array\n",
        "\n",
        "row = 0\n",
        "col = 0\n",
        "for sepallen in VERTICAL: # for every sepal length\n",
        "  for sepalwid in HORIZONT: # for every sepal width\n",
        "    Features = [ sepallen, sepalwid, petallen, petalwid ]\n",
        "    output = predictive_model(Features)\n",
        "    #print(f\"Input {Features} Output: {output}\")\n",
        "    PLANE[row,col] = output\n",
        "    col += 1\n",
        "  col = 0\n",
        "  row += 1\n",
        "  print(\".\", end=\"\")  # so we know it's running\n",
        "  if row % 42 == 0: print() # same...\n",
        "\n",
        "print(\"\\n\", PLANE[0:3,0:3]) # small bit of the upper-left corner\n"
      ],
      "metadata": {
        "id": "E2lIFvWQ6Ymj"
      },
      "execution_count": null,
      "outputs": []
    },
    {
      "cell_type": "code",
      "source": [
        "import seaborn as sns\n",
        "# sns.heatmap(PLANE)\n",
        "\n",
        "sns.set(rc = {'figure.figsize':(12,8)})  # figure size!\n",
        "ax = sns.heatmap(PLANE)\n",
        "ax.invert_yaxis() # to match our usual direction\n",
        "ax.set(xlabel=\"sepalwid (tenths)\", ylabel=\"sepallen (tenths)\")\n",
        "ax.set_xticks(ax.get_xticks()[::4])\n",
        "ax.set_yticks(ax.get_yticks()[::4])\n",
        "\n",
        "\n",
        "print(\"Remember our species-to-number mapping:\")\n",
        "print(\"0 - setosa\")\n",
        "print(\"1 - versicolor\")\n",
        "print(\"2 - virginica\")"
      ],
      "metadata": {
        "id": "IacW7Mbm_JCP"
      },
      "execution_count": null,
      "outputs": []
    },
    {
      "cell_type": "code",
      "source": [
        "#\n",
        "# let's hold the sepal length and width constant and vary petal len + wid:\n",
        "\n",
        "sepallen = 3.42\n",
        "sepalwid = 3.42\n",
        "\n",
        "VERTICAL = np.arange(0,10,.1) # array of vertical input values\n",
        "HORIZONT = np.arange(0,10,.1) # array of horizontal input values\n",
        "PLANEv2 = np.zeros( (len(HORIZONT),len(VERTICAL)) ) # the output array\n",
        "\n",
        "row = 0\n",
        "col = 0\n",
        "for petallen in VERTICAL: # for every sepal length\n",
        "  for petalwid in HORIZONT: # for every sepal width\n",
        "    Features = [ sepallen, sepalwid, petallen, petalwid ]\n",
        "    output = predictive_model(Features)\n",
        "    #print(f\"Input {Features} Output: {output}\")\n",
        "    PLANEv2[row,col] = output\n",
        "    col += 1\n",
        "  col = 0\n",
        "  row += 1\n",
        "  print(\".\", end=\"\")  # so we know it's running\n",
        "  if row % 42 == 0: print() # same...\n",
        "\n",
        "print(\"\\n\", PLANEv2[0:3,0:3]) # small bit of the upper-left corner\n"
      ],
      "metadata": {
        "id": "RHwAf0TQNR3X"
      },
      "execution_count": null,
      "outputs": []
    },
    {
      "cell_type": "code",
      "source": [
        "import seaborn as sns\n",
        "# sns.heatmap(PLANE)\n",
        "\n",
        "sns.set(rc = {'figure.figsize':(12,8)})  # figure size!\n",
        "ax = sns.heatmap(PLANEv2)\n",
        "ax.invert_yaxis()\n",
        "ax.set(xlabel=\"petalwid (tenths)\", ylabel=\"petallen (tenths)\")\n",
        "ax.set_xticks(ax.get_xticks()[::4])\n",
        "ax.set_yticks(ax.get_yticks()[::4])\n",
        "\n",
        "\n",
        "print(\"Remember our species-to-number mapping:\")\n",
        "print(\"0 - setosa\")\n",
        "print(\"1 - versicolor\")\n",
        "print(\"2 - virginica\")"
      ],
      "metadata": {
        "id": "n3p9BThENoWc"
      },
      "execution_count": null,
      "outputs": []
    },
    {
      "cell_type": "code",
      "execution_count": null,
      "metadata": {
        "id": "8_HwzQGSbTo3"
      },
      "outputs": [],
      "source": [
        "#\n",
        "# feature importances!\n",
        "#\n",
        "#     feature importances are computed by tracking which feature is used at each decision-point\n",
        "#     weighted by how often that decision-point is checked\n",
        "#\n",
        "# feature importances are often even more \"important\" than predictions,\n",
        "#         because they invite the question, \"why\" (Here, not a computational, but a biological/botanical q'n)\n",
        "#\n",
        "\n",
        "print(dtree_model_final.feature_importances_)\n",
        "print()\n",
        "\n",
        "# let's see them with each feature name:\n",
        "IMPs = dtree_model_final.feature_importances_\n",
        "\n",
        "# enumerate is great when you want indices _and_ elements!\n",
        "for i, importance in enumerate(IMPs):\n",
        "    perc = importance*100\n",
        "    print(f\"Feature {COLUMNS[i]:>12s} has {perc:>7.2f}% of the decision-making importance.\")"
      ]
    },
    {
      "cell_type": "code",
      "execution_count": null,
      "metadata": {
        "id": "As7NHkDObTo3"
      },
      "outputs": [],
      "source": [
        "#\n",
        "# That's it!  Welcome to the world of Decision-Tree models!\n",
        "#\n",
        "\n",
        "#\n",
        "# But wait, there's more!  More workflows, and more trees!  Random Forests next:\n",
        "#"
      ]
    },
    {
      "cell_type": "markdown",
      "source": [
        "# Random Forests: Iris Example"
      ],
      "metadata": {
        "id": "NJVQwHv5ip3e"
      }
    },
    {
      "cell_type": "code",
      "execution_count": null,
      "metadata": {
        "id": "zkaY4XHDbTo3"
      },
      "outputs": [],
      "source": [
        "#\n",
        "# Random Forests!!!\n",
        "#\n",
        "\n",
        "# Lots of trees, each using a subset of the data usually at a limited depth\n",
        "#                These many trees then get together to \"vote\" on the correct classification...\n",
        "\n",
        "#\n",
        "# This is an example of an \"ensemble\" classifier, because a RF is simply an ensemble of many DTs.\n",
        "#"
      ]
    },
    {
      "cell_type": "code",
      "execution_count": null,
      "metadata": {
        "id": "pvtm-ZbmbTo3",
        "colab": {
          "base_uri": "https://localhost:8080/"
        },
        "outputId": "0d7b2db9-db5c-4e8c-82a1-5ebe4e129197"
      },
      "outputs": [
        {
          "output_type": "stream",
          "name": "stdout",
          "text": [
            "Built an RF with depth=1 and number of trees=42\n"
          ]
        }
      ],
      "source": [
        "#\n",
        "# +++ We're back at the \"Model-building and Model-training Cell\"\n",
        "#\n",
        "# Create a RF model and train it!\n",
        "#\n",
        "from sklearn import tree      # for decision trees\n",
        "from sklearn import ensemble  # for random forests, an ensemble classifier\n",
        "\n",
        "best_d = 1            # we don't know what depth to use, so we guess...\n",
        "best_num_trees = 42   # again, we guess\n",
        "rforest_model = ensemble.RandomForestClassifier(max_depth=best_d,\n",
        "                                                n_estimators=best_num_trees,\n",
        "                                                max_samples=0.5)\n",
        "# This max_samples=0.5 is the fraction of rows to use for each DT\n",
        "# For all of our forests, we will let max_samples be 0.5   We'll explore best_d and best_num_trees...\n",
        "\n",
        "# we train the model (again, one line):\n",
        "rforest_model.fit(X_train, y_train)                              # yay!  trained!\n",
        "print(f\"Built an RF with depth={best_d} and number of trees={best_num_trees}\")"
      ]
    },
    {
      "cell_type": "code",
      "source": [
        "def compare_labels(predicted_labels, actual_labels):\n",
        "    \"\"\" a more neatly formatted comparison \"\"\"\n",
        "    NUM_LABELS = len(predicted_labels)\n",
        "    num_correct = 0\n",
        "\n",
        "    for i in range(NUM_LABELS):\n",
        "        p = int(round(predicted_labels[i]))         # round protects from fp error\n",
        "        a = int(round(actual_labels[i]))\n",
        "        result = \"incorrect\"\n",
        "        if p == a:  # if they match,\n",
        "            result = \"\"       # no longer incorrect\n",
        "            num_correct += 1  # and we count a match!\n",
        "\n",
        "        print(f\"row {i:>3d} : {SPECIES[p]:>12s} {SPECIES[a]:<12s}   {result}\")\n",
        "\n",
        "    print()\n",
        "    print(\"Correct:\", num_correct, \"out of\", NUM_LABELS)\n",
        "    return num_correct"
      ],
      "metadata": {
        "id": "lxtrfu6lJpGm"
      },
      "execution_count": null,
      "outputs": []
    },
    {
      "cell_type": "code",
      "execution_count": null,
      "metadata": {
        "id": "i-XEA_Q3bTo3",
        "colab": {
          "base_uri": "https://localhost:8080/"
        },
        "outputId": "94bc0237-d781-4e84-a20c-50cb35a0e4b6"
      },
      "outputs": [
        {
          "output_type": "stream",
          "name": "stdout",
          "text": [
            "Predicted labels: [1 1 0 1 1 1 1 1 1 0 0 0 0 1 1 1 0 1 0 1 1 1 1 1 1 0 1 0 1]\n",
            "Actual  labels  : [1.3 2.  0.2 1.  1.8 2.1 1.3 1.8 2.3 0.3 0.2 0.2 0.2 1.5 2.3 2.  0.1 2.\n",
            " 0.2 2.1 1.5 1.8 2.4 2.3 1.2 0.2 1.2 0.4 1.7]\n",
            "\n",
            "Results on test set:  1 correct out of 29 total.\n",
            "row   0 :   versicolor versicolor     \n",
            "row   1 :   versicolor virginica      incorrect\n",
            "row   2 :       setosa setosa         \n",
            "row   3 :   versicolor versicolor     \n",
            "row   4 :   versicolor virginica      incorrect\n",
            "row   5 :   versicolor virginica      incorrect\n",
            "row   6 :   versicolor versicolor     \n",
            "row   7 :   versicolor virginica      incorrect\n",
            "row   8 :   versicolor virginica      incorrect\n",
            "row   9 :       setosa setosa         \n",
            "row  10 :       setosa setosa         \n",
            "row  11 :       setosa setosa         \n",
            "row  12 :       setosa setosa         \n",
            "row  13 :   versicolor virginica      incorrect\n",
            "row  14 :   versicolor virginica      incorrect\n",
            "row  15 :   versicolor virginica      incorrect\n",
            "row  16 :       setosa setosa         \n",
            "row  17 :   versicolor virginica      incorrect\n",
            "row  18 :       setosa setosa         \n",
            "row  19 :   versicolor virginica      incorrect\n",
            "row  20 :   versicolor virginica      incorrect\n",
            "row  21 :   versicolor virginica      incorrect\n",
            "row  22 :   versicolor virginica      incorrect\n",
            "row  23 :   versicolor virginica      incorrect\n",
            "row  24 :   versicolor versicolor     \n",
            "row  25 :       setosa setosa         \n",
            "row  26 :   versicolor versicolor     \n",
            "row  27 :       setosa setosa         \n",
            "row  28 :   versicolor virginica      incorrect\n",
            "\n",
            "Correct: 14 out of 29\n"
          ]
        },
        {
          "output_type": "execute_result",
          "data": {
            "text/plain": [
              "14"
            ]
          },
          "metadata": {},
          "execution_count": 25
        }
      ],
      "source": [
        "#\n",
        "# +++ This is the \"Model-testing Cell\"\n",
        "#\n",
        "# Now, let's see how well we did on our \"held-out data\" (the testing data)\n",
        "#\n",
        "\n",
        "# We run our test set!\n",
        "predicted_labels = rforest_model.predict(X_test)\n",
        "actual_labels = y_test\n",
        "\n",
        "# Let's print them so we can compare...\n",
        "print(\"Predicted labels:\", predicted_labels)\n",
        "print(\"Actual  labels  :\", actual_labels)\n",
        "\n",
        "# And, some overall results\n",
        "num_correct = sum(predicted_labels == actual_labels)\n",
        "total = len(actual_labels)\n",
        "print(f\"\\nResults on test set:  {num_correct} correct out of {total} total.\")\n",
        "\n",
        "# and, let's print our table, too...\n",
        "compare_labels(predicted_labels,actual_labels)"
      ]
    },
    {
      "cell_type": "code",
      "execution_count": null,
      "metadata": {
        "id": "ZURJKKX_bTo4",
        "colab": {
          "base_uri": "https://localhost:8080/"
        },
        "outputId": "6bf570eb-ff3a-456b-8775-dec08f6040ec"
      },
      "outputs": [
        {
          "output_type": "stream",
          "name": "stdout",
          "text": [
            "One of the forest's trees is DecisionTreeClassifier(max_depth=1, max_features='sqrt',\n",
            "                       random_state=1708926810)\n",
            "file rf_tree_026.gv written. Try copying the result to http://viz-js.com/ \n",
            "\n",
            "digraph Tree {\n",
            "node [shape=box, style=\"filled\", color=\"black\", fontname=\"helvetica\"] ;\n",
            "graph [ranksep=equally, splines=polyline] ;\n",
            "edge [fontname=\"helvetica\"] ;\n",
            "0 [label=\"sepallen <= 5.3\\ngini = 0.645\\nsamples = 42\\nvalue = [21, 23, 12]\\nclass = versicolor\", fillcolor=\"#f4fef8\"] ;\n",
            "1 [label=\"gini = 0.18\\nsamples = 13\\nvalue = [18, 2, 0]\\nclass = setosa\", fillcolor=\"#e88f4f\"] ;\n",
            "0 -> 1 [labeldistance=2.5, labelangle=45, headlabel=\"True\"] ;\n",
            "2 [label=\"gini = 0.542\\nsamples = 29\\nvalue = [3, 21, 12]\\nclass = versicolor\", fillcolor=\"#b5f5d0\"] ;\n",
            "0 -> 2 [labeldistance=2.5, labelangle=-45, headlabel=\"False\"] ;\n",
            "{rank=same ; 0} ;\n",
            "{rank=same ; 1; 2} ;\n",
            "}\n"
          ]
        }
      ],
      "source": [
        "#\n",
        "# we can get the individual trees, if we want...\n",
        "#\n",
        "tree_index = 26   # which tree\n",
        "one_rf_tree = rforest_model.estimators_[tree_index]\n",
        "print(f\"One of the forest's trees is {one_rf_tree}\")\n",
        "\n",
        "# From there, it's possible to create a graphical version...\n",
        "filename = f'rf_tree_{tree_index:03d}.gv'             # f strings! Could save all trees, but we won't do so here.\n",
        "tree.export_graphviz(one_rf_tree, out_file=filename,  # the filename constructed above...!\n",
        "                            feature_names=COLUMNS[:4], # actual feature names, not species\n",
        "                            filled=True,              # fun!\n",
        "                            rotate=False,             # False for Up/Down; True for L/R\n",
        "                            class_names=SPECIES,      # good to have\n",
        "                            leaves_parallel=True )    # lots of options!\n",
        "\n",
        "print(f\"file {filename} written. Try copying the result to http://viz-js.com/ \\n\")\n",
        "\n",
        "with open(filename, \"r\") as f:\n",
        "    file_text = f.read()\n",
        "    print(file_text)"
      ]
    },
    {
      "cell_type": "code",
      "source": [
        "!apt-get install graphviz -y\n",
        "!pip install graphviz\n"
      ],
      "metadata": {
        "colab": {
          "base_uri": "https://localhost:8080/"
        },
        "id": "FT3unRPWLEWh",
        "outputId": "5e57c181-544d-4e0a-ae12-a857f377ead6"
      },
      "execution_count": null,
      "outputs": [
        {
          "output_type": "stream",
          "name": "stdout",
          "text": [
            "Reading package lists... Done\n",
            "Building dependency tree... Done\n",
            "Reading state information... Done\n",
            "graphviz is already the newest version (2.42.2-6ubuntu0.1).\n",
            "0 upgraded, 0 newly installed, 0 to remove and 34 not upgraded.\n",
            "Requirement already satisfied: graphviz in /usr/local/lib/python3.11/dist-packages (0.20.3)\n"
          ]
        }
      ]
    },
    {
      "cell_type": "code",
      "source": [
        "\n",
        "from typing import Any\n",
        "from sklearn.tree import export_graphviz\n",
        "import graphviz\n",
        "\n",
        "# Export as DOT-format string\n",
        "# using one_rf_tree from cell 27 (or whichever you wish to see)\n",
        "# Assuming COLUMNS[:-1] from cell 4 still contains the feature names\n",
        "dot_data = export_graphviz(\n",
        "    one_rf_tree,  # Changed to one_rf_tree\n",
        "    out_file=None,\n",
        "    feature_names=COLUMNS[:4],  # Changed to COLUMNS[:4]\n",
        "    class_names=SPECIES,  # Using existing SPECIES variable\n",
        "    filled=True,\n",
        "    rounded=True,\n",
        "    special_characters=True\n",
        ")\n",
        "\n",
        "# Render the tree visually in Colab\n",
        "graphviz.Source(dot_data)"
      ],
      "metadata": {
        "colab": {
          "base_uri": "https://localhost:8080/",
          "height": 281
        },
        "id": "DLVoNueeMyV_",
        "outputId": "d0c67d4f-0c97-405f-a1f1-589317615c55"
      },
      "execution_count": null,
      "outputs": [
        {
          "output_type": "execute_result",
          "data": {
            "image/svg+xml": "<?xml version=\"1.0\" encoding=\"UTF-8\" standalone=\"no\"?>\n<!DOCTYPE svg PUBLIC \"-//W3C//DTD SVG 1.1//EN\"\n \"http://www.w3.org/Graphics/SVG/1.1/DTD/svg11.dtd\">\n<!-- Generated by graphviz version 2.43.0 (0)\n -->\n<!-- Title: Tree Pages: 1 -->\n<svg width=\"268pt\" height=\"195pt\"\n viewBox=\"0.00 0.00 268.00 195.00\" xmlns=\"http://www.w3.org/2000/svg\" xmlns:xlink=\"http://www.w3.org/1999/xlink\">\n<g id=\"graph0\" class=\"graph\" transform=\"scale(1 1) rotate(0) translate(4 191)\">\n<title>Tree</title>\n<polygon fill=\"white\" stroke=\"transparent\" points=\"-4,4 -4,-191 264,-191 264,4 -4,4\"/>\n<!-- 0 -->\n<g id=\"node1\" class=\"node\">\n<title>0</title>\n<path fill=\"#f4fef8\" stroke=\"black\" d=\"M181.5,-187C181.5,-187 73.5,-187 73.5,-187 67.5,-187 61.5,-181 61.5,-175 61.5,-175 61.5,-116 61.5,-116 61.5,-110 67.5,-104 73.5,-104 73.5,-104 181.5,-104 181.5,-104 187.5,-104 193.5,-110 193.5,-116 193.5,-116 193.5,-175 193.5,-175 193.5,-181 187.5,-187 181.5,-187\"/>\n<text text-anchor=\"start\" x=\"85\" y=\"-171.8\" font-family=\"Helvetica,sans-Serif\" font-size=\"14.00\">sepallen ≤ 5.3</text>\n<text text-anchor=\"start\" x=\"92\" y=\"-156.8\" font-family=\"Helvetica,sans-Serif\" font-size=\"14.00\">gini = 0.645</text>\n<text text-anchor=\"start\" x=\"86.5\" y=\"-141.8\" font-family=\"Helvetica,sans-Serif\" font-size=\"14.00\">samples = 42</text>\n<text text-anchor=\"start\" x=\"69.5\" y=\"-126.8\" font-family=\"Helvetica,sans-Serif\" font-size=\"14.00\">value = [21, 23, 12]</text>\n<text text-anchor=\"start\" x=\"75\" y=\"-111.8\" font-family=\"Helvetica,sans-Serif\" font-size=\"14.00\">class = versicolor</text>\n</g>\n<!-- 1 -->\n<g id=\"node2\" class=\"node\">\n<title>1</title>\n<path fill=\"#e88f4f\" stroke=\"black\" d=\"M105,-68C105,-68 12,-68 12,-68 6,-68 0,-62 0,-56 0,-56 0,-12 0,-12 0,-6 6,0 12,0 12,0 105,0 105,0 111,0 117,-6 117,-12 117,-12 117,-56 117,-56 117,-62 111,-68 105,-68\"/>\n<text text-anchor=\"start\" x=\"26.5\" y=\"-52.8\" font-family=\"Helvetica,sans-Serif\" font-size=\"14.00\">gini = 0.18</text>\n<text text-anchor=\"start\" x=\"17.5\" y=\"-37.8\" font-family=\"Helvetica,sans-Serif\" font-size=\"14.00\">samples = 13</text>\n<text text-anchor=\"start\" x=\"8\" y=\"-22.8\" font-family=\"Helvetica,sans-Serif\" font-size=\"14.00\">value = [18, 2, 0]</text>\n<text text-anchor=\"start\" x=\"15\" y=\"-7.8\" font-family=\"Helvetica,sans-Serif\" font-size=\"14.00\">class = setosa</text>\n</g>\n<!-- 0&#45;&gt;1 -->\n<g id=\"edge1\" class=\"edge\">\n<title>0&#45;&gt;1</title>\n<path fill=\"none\" stroke=\"black\" d=\"M101.81,-103.73C96.29,-94.97 90.45,-85.7 84.91,-76.91\"/>\n<polygon fill=\"black\" stroke=\"black\" points=\"87.78,-74.89 79.48,-68.3 81.85,-78.63 87.78,-74.89\"/>\n<text text-anchor=\"middle\" x=\"73.95\" y=\"-88.98\" font-family=\"Helvetica,sans-Serif\" font-size=\"14.00\">True</text>\n</g>\n<!-- 2 -->\n<g id=\"node3\" class=\"node\">\n<title>2</title>\n<path fill=\"#b5f5d0\" stroke=\"black\" d=\"M248,-68C248,-68 147,-68 147,-68 141,-68 135,-62 135,-56 135,-56 135,-12 135,-12 135,-6 141,0 147,0 147,0 248,0 248,0 254,0 260,-6 260,-12 260,-12 260,-56 260,-56 260,-62 254,-68 248,-68\"/>\n<text text-anchor=\"start\" x=\"162\" y=\"-52.8\" font-family=\"Helvetica,sans-Serif\" font-size=\"14.00\">gini = 0.542</text>\n<text text-anchor=\"start\" x=\"156.5\" y=\"-37.8\" font-family=\"Helvetica,sans-Serif\" font-size=\"14.00\">samples = 29</text>\n<text text-anchor=\"start\" x=\"143\" y=\"-22.8\" font-family=\"Helvetica,sans-Serif\" font-size=\"14.00\">value = [3, 21, 12]</text>\n<text text-anchor=\"start\" x=\"145\" y=\"-7.8\" font-family=\"Helvetica,sans-Serif\" font-size=\"14.00\">class = versicolor</text>\n</g>\n<!-- 0&#45;&gt;2 -->\n<g id=\"edge2\" class=\"edge\">\n<title>0&#45;&gt;2</title>\n<path fill=\"none\" stroke=\"black\" d=\"M153.57,-103.73C159.16,-94.97 165.09,-85.7 170.71,-76.91\"/>\n<polygon fill=\"black\" stroke=\"black\" points=\"173.78,-78.61 176.21,-68.3 167.88,-74.84 173.78,-78.61\"/>\n<text text-anchor=\"middle\" x=\"181.59\" y=\"-89.02\" font-family=\"Helvetica,sans-Serif\" font-size=\"14.00\">False</text>\n</g>\n</g>\n</svg>\n",
            "text/plain": [
              "<graphviz.sources.Source at 0x7b5803dd7c90>"
            ]
          },
          "metadata": {},
          "execution_count": 47
        }
      ]
    },
    {
      "cell_type": "code",
      "execution_count": null,
      "metadata": {
        "id": "tHxNZ5A3bTo4",
        "colab": {
          "base_uri": "https://localhost:8080/",
          "height": 385
        },
        "outputId": "ef0290dc-2c4b-4592-c663-d6bdc5643357"
      },
      "outputs": [
        {
          "output_type": "stream",
          "name": "stdout",
          "text": [
            "Reading package lists... Done\n",
            "Building dependency tree... Done\n",
            "Reading state information... Done\n",
            "graphviz is already the newest version (2.42.2-6ubuntu0.1).\n",
            "0 upgraded, 0 newly installed, 0 to remove and 34 not upgraded.\n",
            "Requirement already satisfied: graphviz in /usr/local/lib/python3.11/dist-packages (0.20.3)\n"
          ]
        },
        {
          "output_type": "execute_result",
          "data": {
            "image/svg+xml": "<?xml version=\"1.0\" encoding=\"UTF-8\" standalone=\"no\"?>\n<!DOCTYPE svg PUBLIC \"-//W3C//DTD SVG 1.1//EN\"\n \"http://www.w3.org/Graphics/SVG/1.1/DTD/svg11.dtd\">\n<!-- Generated by graphviz version 2.43.0 (0)\n -->\n<!-- Title: Tree Pages: 1 -->\n<svg width=\"268pt\" height=\"195pt\"\n viewBox=\"0.00 0.00 268.00 195.00\" xmlns=\"http://www.w3.org/2000/svg\" xmlns:xlink=\"http://www.w3.org/1999/xlink\">\n<g id=\"graph0\" class=\"graph\" transform=\"scale(1 1) rotate(0) translate(4 191)\">\n<title>Tree</title>\n<polygon fill=\"white\" stroke=\"transparent\" points=\"-4,4 -4,-191 264,-191 264,4 -4,4\"/>\n<!-- 0 -->\n<g id=\"node1\" class=\"node\">\n<title>0</title>\n<path fill=\"#f4fef8\" stroke=\"black\" d=\"M181.5,-187C181.5,-187 73.5,-187 73.5,-187 67.5,-187 61.5,-181 61.5,-175 61.5,-175 61.5,-116 61.5,-116 61.5,-110 67.5,-104 73.5,-104 73.5,-104 181.5,-104 181.5,-104 187.5,-104 193.5,-110 193.5,-116 193.5,-116 193.5,-175 193.5,-175 193.5,-181 187.5,-187 181.5,-187\"/>\n<text text-anchor=\"start\" x=\"85\" y=\"-171.8\" font-family=\"Helvetica,sans-Serif\" font-size=\"14.00\">sepallen ≤ 5.3</text>\n<text text-anchor=\"start\" x=\"92\" y=\"-156.8\" font-family=\"Helvetica,sans-Serif\" font-size=\"14.00\">gini = 0.645</text>\n<text text-anchor=\"start\" x=\"86.5\" y=\"-141.8\" font-family=\"Helvetica,sans-Serif\" font-size=\"14.00\">samples = 42</text>\n<text text-anchor=\"start\" x=\"69.5\" y=\"-126.8\" font-family=\"Helvetica,sans-Serif\" font-size=\"14.00\">value = [21, 23, 12]</text>\n<text text-anchor=\"start\" x=\"75\" y=\"-111.8\" font-family=\"Helvetica,sans-Serif\" font-size=\"14.00\">class = versicolor</text>\n</g>\n<!-- 1 -->\n<g id=\"node2\" class=\"node\">\n<title>1</title>\n<path fill=\"#e88f4f\" stroke=\"black\" d=\"M105,-68C105,-68 12,-68 12,-68 6,-68 0,-62 0,-56 0,-56 0,-12 0,-12 0,-6 6,0 12,0 12,0 105,0 105,0 111,0 117,-6 117,-12 117,-12 117,-56 117,-56 117,-62 111,-68 105,-68\"/>\n<text text-anchor=\"start\" x=\"26.5\" y=\"-52.8\" font-family=\"Helvetica,sans-Serif\" font-size=\"14.00\">gini = 0.18</text>\n<text text-anchor=\"start\" x=\"17.5\" y=\"-37.8\" font-family=\"Helvetica,sans-Serif\" font-size=\"14.00\">samples = 13</text>\n<text text-anchor=\"start\" x=\"8\" y=\"-22.8\" font-family=\"Helvetica,sans-Serif\" font-size=\"14.00\">value = [18, 2, 0]</text>\n<text text-anchor=\"start\" x=\"15\" y=\"-7.8\" font-family=\"Helvetica,sans-Serif\" font-size=\"14.00\">class = setosa</text>\n</g>\n<!-- 0&#45;&gt;1 -->\n<g id=\"edge1\" class=\"edge\">\n<title>0&#45;&gt;1</title>\n<path fill=\"none\" stroke=\"black\" d=\"M101.81,-103.73C96.29,-94.97 90.45,-85.7 84.91,-76.91\"/>\n<polygon fill=\"black\" stroke=\"black\" points=\"87.78,-74.89 79.48,-68.3 81.85,-78.63 87.78,-74.89\"/>\n<text text-anchor=\"middle\" x=\"73.95\" y=\"-88.98\" font-family=\"Helvetica,sans-Serif\" font-size=\"14.00\">True</text>\n</g>\n<!-- 2 -->\n<g id=\"node3\" class=\"node\">\n<title>2</title>\n<path fill=\"#b5f5d0\" stroke=\"black\" d=\"M248,-68C248,-68 147,-68 147,-68 141,-68 135,-62 135,-56 135,-56 135,-12 135,-12 135,-6 141,0 147,0 147,0 248,0 248,0 254,0 260,-6 260,-12 260,-12 260,-56 260,-56 260,-62 254,-68 248,-68\"/>\n<text text-anchor=\"start\" x=\"162\" y=\"-52.8\" font-family=\"Helvetica,sans-Serif\" font-size=\"14.00\">gini = 0.542</text>\n<text text-anchor=\"start\" x=\"156.5\" y=\"-37.8\" font-family=\"Helvetica,sans-Serif\" font-size=\"14.00\">samples = 29</text>\n<text text-anchor=\"start\" x=\"143\" y=\"-22.8\" font-family=\"Helvetica,sans-Serif\" font-size=\"14.00\">value = [3, 21, 12]</text>\n<text text-anchor=\"start\" x=\"145\" y=\"-7.8\" font-family=\"Helvetica,sans-Serif\" font-size=\"14.00\">class = versicolor</text>\n</g>\n<!-- 0&#45;&gt;2 -->\n<g id=\"edge2\" class=\"edge\">\n<title>0&#45;&gt;2</title>\n<path fill=\"none\" stroke=\"black\" d=\"M153.57,-103.73C159.16,-94.97 165.09,-85.7 170.71,-76.91\"/>\n<polygon fill=\"black\" stroke=\"black\" points=\"173.78,-78.61 176.21,-68.3 167.88,-74.84 173.78,-78.61\"/>\n<text text-anchor=\"middle\" x=\"181.59\" y=\"-89.02\" font-family=\"Helvetica,sans-Serif\" font-size=\"14.00\">False</text>\n</g>\n</g>\n</svg>\n",
            "text/plain": [
              "<graphviz.sources.Source at 0x7b5828203810>"
            ]
          },
          "metadata": {},
          "execution_count": 51
        }
      ],
      "source": [
        "#\n",
        "# add locally, to this notebook...\n",
        "#\n",
        "!apt-get install graphviz -y\n",
        "!pip install graphviz\n",
        "from IPython import display\n",
        "from sklearn.tree import export_graphviz\n",
        "import graphviz\n",
        "\n",
        "# Assuming one_rf_tree and COLUMNS[:4] are defined as in previous cells\n",
        "dot_data = export_graphviz(\n",
        "    one_rf_tree,\n",
        "    out_file=None,\n",
        "    feature_names=COLUMNS[:4],\n",
        "    class_names=SPECIES,\n",
        "    filled=True,\n",
        "    rounded=True,\n",
        "    special_characters=True\n",
        ")\n",
        "\n",
        "# Render the tree visually in Colab\n",
        "graphviz.Source(dot_data)\n",
        "\n",
        "# If you want to save to a file and then display\n",
        "# graph = graphviz.Source(dot_data)\n",
        "# graph.render(\"rf_tree_026\", format=\"png\")  # Save as PNG\n",
        "# display.Image(\"rf_tree_026.png\", width=300) # Display the PNG image"
      ]
    },
    {
      "cell_type": "code",
      "execution_count": null,
      "metadata": {
        "id": "L-42R5btbTo4"
      },
      "outputs": [],
      "source": [
        "#\n",
        "# Now, to TUNE the model (with cross-validation)...\n",
        "#\n",
        "#\n",
        "# We previously used a depth of 1  and #trees of 42\n",
        "#\n",
        "# So, we try several depths to find best_d\n",
        "#            and several #'s of trees to find best_ntrees\n",
        "#\n",
        "# The tradeoff is underfitting/overfitting and time...\n",
        "#     \"too many trees\" tends may add noticeably to execution time"
      ]
    },
    {
      "cell_type": "code",
      "execution_count": null,
      "metadata": {
        "id": "AwjHOqGEbTo4",
        "colab": {
          "base_uri": "https://localhost:8080/"
        },
        "outputId": "7bb1c551-1028-4668-a773-8d0cfeeb2e4f"
      },
      "outputs": [
        {
          "output_type": "stream",
          "name": "stdout",
          "text": [
            "depth:  1 ntrees:  50 cv accuracy:  0.8304\n",
            "depth:  1 ntrees: 150 cv accuracy:  0.8304\n",
            "depth:  1 ntrees: 250 cv accuracy:  0.8304\n",
            "depth:  2 ntrees:  50 cv accuracy:  0.9909\n",
            "depth:  2 ntrees: 150 cv accuracy:  0.9822\n",
            "depth:  2 ntrees: 250 cv accuracy:  0.9913\n",
            "depth:  3 ntrees:  50 cv accuracy:  0.9909\n",
            "depth:  3 ntrees: 150 cv accuracy:  1.0000\n",
            "depth:  3 ntrees: 250 cv accuracy:  1.0000\n",
            "depth:  4 ntrees:  50 cv accuracy:  1.0000\n",
            "depth:  4 ntrees: 150 cv accuracy:  1.0000\n",
            "depth:  4 ntrees: 250 cv accuracy:  1.0000\n",
            "depth:  5 ntrees:  50 cv accuracy:  1.0000\n",
            "depth:  5 ntrees: 150 cv accuracy:  1.0000\n",
            "depth:  5 ntrees: 250 cv accuracy:  1.0000\n",
            "\n",
            "best_depth: 3 and best_num_trees: 150 are our choices. Acc: 1.0\n"
          ]
        }
      ],
      "source": [
        "#\n",
        "# So, to compare different parameters, let's use cv\n",
        "#\n",
        "\n",
        "from sklearn.model_selection import cross_val_score\n",
        "\n",
        "#\n",
        "# cross-validation splits the training set into two pieces:\n",
        "#   + model-building and model-validation. We'll use \"build\" and \"validate\"\n",
        "#\n",
        "\n",
        "#\n",
        "# lab task:  wrap this loop in another one! (or create an inner one...)\n",
        "#\n",
        "\n",
        "best_d = 1         # range(1,6)\n",
        "best_ntrees = 50   # [50,150,250]\n",
        "best_accuracy = 0\n",
        "\n",
        "for d in range(1,6):\n",
        "    for ntrees in [50,150,250]:\n",
        "        rforest_model = ensemble.RandomForestClassifier(max_depth=d,\n",
        "                                                        n_estimators=ntrees,\n",
        "                                                        max_samples=0.5)\n",
        "        cv_scores = cross_val_score( rforest_model, X_train, y_train, cv=5 ) # 5 means 80/20 split\n",
        "        average_cv_accuracy = cv_scores.mean()  # more likely, only their average\n",
        "        print(f\"depth: {d:2d} ntrees: {ntrees:3d} cv accuracy: {average_cv_accuracy:7.4f}\")\n",
        "        if average_cv_accuracy > best_accuracy:\n",
        "            best_accuracy = average_cv_accuracy\n",
        "            best_d = d\n",
        "            best_ntrees = ntrees\n",
        "\n",
        "#\n",
        "# our task: assign best values by keeping a \"running max\"\n",
        "#\n",
        "best_depth = best_d\n",
        "best_num_trees = best_ntrees\n",
        "\n",
        "print()\n",
        "print(f\"best_depth: {best_depth} and best_num_trees: {best_num_trees} are our choices. Acc: {best_accuracy}\")\n",
        "\n",
        "#\n",
        "# remember that the RF lab task is to complete this nested cross-validation loop!\n",
        "#"
      ]
    },
    {
      "cell_type": "code",
      "execution_count": null,
      "metadata": {
        "id": "a7_tBjCJbTo4",
        "colab": {
          "base_uri": "https://localhost:8080/"
        },
        "outputId": "2065887d-0e53-4242-f4b5-152f2eb02f05"
      },
      "outputs": [
        {
          "output_type": "stream",
          "name": "stdout",
          "text": [
            "Built an RF classifier with depth=3 and ntrees=150\n"
          ]
        }
      ],
      "source": [
        "#\n",
        "# Now, we re-create and re-run the  \"Model-building and -training Cell\"\n",
        "#\n",
        "from sklearn import tree      # for decision trees\n",
        "from sklearn import ensemble  # for random forests\n",
        "\n",
        "best_depth = best_depth\n",
        "best_num_trees = best_num_trees\n",
        "# we should have best_depth and best_num_trees\n",
        "rforest_model_tuned = ensemble.RandomForestClassifier(max_depth=best_depth,\n",
        "                                                      n_estimators=best_num_trees,\n",
        "                                                      max_samples=0.5)\n",
        "\n",
        "# we train the model (it's one line!)\n",
        "rforest_model_tuned.fit(X_train, y_train)                              # yay!  trained!\n",
        "print(f\"Built an RF classifier with depth={best_depth} and ntrees={best_num_trees}\")"
      ]
    },
    {
      "cell_type": "code",
      "execution_count": null,
      "metadata": {
        "id": "XWAALfZ8bTo4",
        "colab": {
          "base_uri": "https://localhost:8080/"
        },
        "outputId": "f5665557-7799-4cfc-89b6-ce7d55a4bd9a"
      },
      "outputs": [
        {
          "output_type": "stream",
          "name": "stdout",
          "text": [
            "Predicted labels: [1 2 0 1 1 2 1 1 2 0 0 0 0 1 2 2 0 2 0 2 1 1 2 2 1 0 1 0 1]\n",
            "Actual  labels  : [1.3 2.  0.2 1.  1.8 2.1 1.3 1.8 2.3 0.3 0.2 0.2 0.2 1.5 2.3 2.  0.1 2.\n",
            " 0.2 2.1 1.5 1.8 2.4 2.3 1.2 0.2 1.2 0.4 1.7]\n",
            "\n",
            "Results on test set:  4 correct out of 29 total.\n",
            "row   0 :   versicolor versicolor     \n",
            "row   1 :    virginica virginica      \n",
            "row   2 :       setosa setosa         \n",
            "row   3 :   versicolor versicolor     \n",
            "row   4 :   versicolor virginica      incorrect\n",
            "row   5 :    virginica virginica      \n",
            "row   6 :   versicolor versicolor     \n",
            "row   7 :   versicolor virginica      incorrect\n",
            "row   8 :    virginica virginica      \n",
            "row   9 :       setosa setosa         \n",
            "row  10 :       setosa setosa         \n",
            "row  11 :       setosa setosa         \n",
            "row  12 :       setosa setosa         \n",
            "row  13 :   versicolor virginica      incorrect\n",
            "row  14 :    virginica virginica      \n",
            "row  15 :    virginica virginica      \n",
            "row  16 :       setosa setosa         \n",
            "row  17 :    virginica virginica      \n",
            "row  18 :       setosa setosa         \n",
            "row  19 :    virginica virginica      \n",
            "row  20 :   versicolor virginica      incorrect\n",
            "row  21 :   versicolor virginica      incorrect\n",
            "row  22 :    virginica virginica      \n",
            "row  23 :    virginica virginica      \n",
            "row  24 :   versicolor versicolor     \n",
            "row  25 :       setosa setosa         \n",
            "row  26 :   versicolor versicolor     \n",
            "row  27 :       setosa setosa         \n",
            "row  28 :   versicolor virginica      incorrect\n",
            "\n",
            "Correct: 23 out of 29\n"
          ]
        },
        {
          "output_type": "execute_result",
          "data": {
            "text/plain": [
              "23"
            ]
          },
          "metadata": {},
          "execution_count": 55
        }
      ],
      "source": [
        "#\n",
        "# +++ This is our \"Model-testing Cell\"\n",
        "#\n",
        "# Now, let's see how well we did on our \"held-out data\" (the testing data)\n",
        "#\n",
        "\n",
        "# We run our test set!\n",
        "predicted_labels = rforest_model_tuned.predict(X_test)\n",
        "actual_labels = y_test\n",
        "\n",
        "# Let's print them so we can compare...\n",
        "print(\"Predicted labels:\", predicted_labels)\n",
        "print(\"Actual  labels  :\", actual_labels)\n",
        "\n",
        "# And, some overall results\n",
        "num_correct = sum(predicted_labels == actual_labels)\n",
        "total = len(actual_labels)\n",
        "print(f\"\\nResults on test set:  {num_correct} correct out of {total} total.\")\n",
        "\n",
        "# and, let's print our table, too...\n",
        "compare_labels(predicted_labels,actual_labels)"
      ]
    },
    {
      "cell_type": "code",
      "execution_count": null,
      "metadata": {
        "id": "4trRlwwlbTo4",
        "colab": {
          "base_uri": "https://localhost:8080/"
        },
        "outputId": "071b0038-8e18-44aa-dadb-7f6ec9877597"
      },
      "outputs": [
        {
          "output_type": "stream",
          "name": "stdout",
          "text": [
            "Built an RF classifier with depth=3 and ntrees=150\n"
          ]
        }
      ],
      "source": [
        "#\n",
        "# Ok!  We have tuned our RF to use the \"best\" parameters\n",
        "#\n",
        "# Now, we use ALL available data to train our final predictive model:\n",
        "#\n",
        "from sklearn import tree      # for decision trees\n",
        "from sklearn import ensemble  # for random forests\n",
        "\n",
        "# we should have best_depth and best_num_trees\n",
        "rforest_model_final = ensemble.RandomForestClassifier(max_depth=best_depth,\n",
        "                                                      n_estimators=best_num_trees,\n",
        "                                                      max_samples=0.5)\n",
        "\n",
        "# we train the model (it's one line!)\n",
        "rforest_model_final.fit(X_all, y_all.astype(int))              # yay!  trained!\n",
        "print(f\"Built an RF classifier with depth={best_depth} and ntrees={best_num_trees}\")"
      ]
    },
    {
      "cell_type": "code",
      "execution_count": null,
      "metadata": {
        "id": "AkRjWadPbTo4",
        "colab": {
          "base_uri": "https://localhost:8080/"
        },
        "outputId": "38d46268-aca4-429c-f807-7b701fcb13f2"
      },
      "outputs": [
        {
          "output_type": "stream",
          "name": "stdout",
          "text": [
            "I predict 2 from Features [6.7, 3.3, 5.7, 2.1]\n"
          ]
        }
      ],
      "source": [
        "#\n",
        "# final predictive model (k-nearest-neighbor), with tuned k + ALL data incorporated\n",
        "#\n",
        "\n",
        "def predictive_model( Features ):\n",
        "    \"\"\" input: a list of four features\n",
        "                [ sepallen, sepalwid, petallen, petalwid ]\n",
        "        output: the predicted species of iris, from\n",
        "                  setosa (0), versicolor (1), virginica (2)\n",
        "    \"\"\"\n",
        "    our_features = np.asarray([Features])                 # extra brackets needed\n",
        "    predicted_species = rforest_model_final.predict(our_features)\n",
        "\n",
        "    predicted_species = int(round(predicted_species[0]))  # unpack one element\n",
        "    name = SPECIES[predicted_species]\n",
        "    #print( f\"{name} ({predicted_species})\" )\n",
        "    return predicted_species\n",
        "\n",
        "#\n",
        "# Try it!\n",
        "#\n",
        "# Features = eval(input(\"Enter new Features: \"))\n",
        "#\n",
        "Features = [6.7,3.3,5.7,2.1]   # [4.8,2.7,3.1,0.2] [4.6,3.1,2.0,1.5] [6.7,3.3,5.7,2.1]\n",
        "result = predictive_model( Features )\n",
        "print(f\"I predict {result} from Features {Features}\")"
      ]
    },
    {
      "cell_type": "code",
      "execution_count": null,
      "metadata": {
        "id": "SeghSCekbTo4",
        "colab": {
          "base_uri": "https://localhost:8080/"
        },
        "outputId": "728493e5-51fd-432e-af5d-27ed5164eb04"
      },
      "outputs": [
        {
          "output_type": "stream",
          "name": "stdout",
          "text": [
            "I predict 0 from Features [4.8, 3.1, 1.6, 0.2]\n",
            "I predict 1 from Features [5.7, 2.9, 4.2, 1.3]\n",
            "I predict 1 from Features [5.8, 2.7, 5.1, 1.9]\n",
            "I predict 0 from Features [5.2, 4.1, 1.5, 0.1]\n",
            "I predict 0 from Features [5.4, 3.4, 1.5, 0.4]\n",
            "I predict 1 from Features [5.1, 2.5, 3.0, 1.1]\n",
            "I predict 1 from Features [6.2, 2.9, 4.3, 1.3]\n",
            "I predict 2 from Features [6.3, 3.3, 6.0, 2.5]\n",
            "I predict 1 from Features [5.7, 2.8, 4.1, 1.3]\n"
          ]
        }
      ],
      "source": [
        "#\n",
        "# try it on new, \"unseen\" data!\n",
        "#\n",
        "\n",
        "LoF = [[4.8, 3.1, 1.6, 0.2 ],\n",
        "[5.7, 2.9, 4.2, 1.3 ],\n",
        "[5.8, 2.7, 5.1, 1.9 ],\n",
        "[5.2, 4.1, 1.5, 0.1 ],\n",
        "[5.4, 3.4, 1.5, 0.4 ],\n",
        "[5.1, 2.5, 3.0, 1.1 ],\n",
        "[6.2, 2.9, 4.3, 1.3 ],\n",
        "[6.3, 3.3, 6.0, 2.5 ],\n",
        "[5.7, 2.8, 4.1, 1.3 ]]\n",
        "\n",
        "for Features in LoF:\n",
        "    result = predictive_model( Features )\n",
        "    print(f\"I predict {result} from Features {Features}\")\n",
        "\n",
        "# these flowers' coded species: 012001122"
      ]
    },
    {
      "cell_type": "markdown",
      "source": [
        "### Let's see our predictive model!"
      ],
      "metadata": {
        "id": "XKT9HEDg8I1C"
      }
    },
    {
      "cell_type": "code",
      "source": [
        "# we can only plot 2 dimensions at a time!\n",
        "# These two will be our constants:\n",
        "petallen = 4.2\n",
        "petalwid = 1.042\n",
        "\n",
        "VERTICAL = np.arange(0,10,.1) # array of vertical input values\n",
        "HORIZONT = np.arange(0,10,.1) # array of horizontal input values\n",
        "PLANE = np.zeros( (len(HORIZONT),len(VERTICAL)) ) # the output array\n",
        "\n",
        "row = 0\n",
        "col = 0\n",
        "for sepallen in VERTICAL: # for every sepal length\n",
        "  for sepalwid in HORIZONT: # for every sepal width\n",
        "    Features = [ sepallen, sepalwid, petallen, petalwid ]\n",
        "    output = predictive_model(Features)\n",
        "    #print(f\"Input {Features} Output: {output}\")\n",
        "    PLANE[row,col] = output\n",
        "    col += 1\n",
        "  col = 0\n",
        "  row += 1\n",
        "  print(\".\", end=\"\")  # so we know it's running\n",
        "  if row % 42 == 0: print() # same...\n",
        "\n",
        "print(\"\\n\", PLANE[0:3,0:3]) # small bit of the upper-left corner\n"
      ],
      "metadata": {
        "id": "PIcIz3Ol8MVI",
        "colab": {
          "base_uri": "https://localhost:8080/"
        },
        "outputId": "08892372-749d-4b53-9748-15dfd90a2640"
      },
      "execution_count": null,
      "outputs": [
        {
          "output_type": "stream",
          "name": "stdout",
          "text": [
            "..........................................\n",
            "..........................................\n",
            "................\n",
            " [[1. 1. 1.]\n",
            " [1. 1. 1.]\n",
            " [1. 1. 1.]]\n"
          ]
        }
      ]
    },
    {
      "cell_type": "code",
      "source": [
        "import seaborn as sns\n",
        "# sns.heatmap(PLANE)\n",
        "\n",
        "sns.set(rc = {'figure.figsize':(12,8)})  # figure size!\n",
        "ax = sns.heatmap(PLANE)\n",
        "ax.invert_yaxis() # to match our usual direction\n",
        "ax.set(xlabel=\"sepalwid (tenths)\", ylabel=\"sepallen (tenths)\")\n",
        "ax.set_xticks(ax.get_xticks()[::4])\n",
        "ax.set_yticks(ax.get_yticks()[::4])\n",
        "\n",
        "\n",
        "print(\"Remember our species-to-number mapping:\")\n",
        "print(\"0 - setosa\")\n",
        "print(\"1 - versicolor\")\n",
        "print(\"2 - virginica\")"
      ],
      "metadata": {
        "id": "RP3sK4Zo8MVJ",
        "colab": {
          "base_uri": "https://localhost:8080/",
          "height": 708
        },
        "outputId": "d24fb9eb-a5ae-47c9-fac8-0f6a1a33c269"
      },
      "execution_count": null,
      "outputs": [
        {
          "output_type": "stream",
          "name": "stdout",
          "text": [
            "Remember our species-to-number mapping:\n",
            "0 - setosa\n",
            "1 - versicolor\n",
            "2 - virginica\n"
          ]
        },
        {
          "output_type": "display_data",
          "data": {
            "text/plain": [
              "<Figure size 1200x800 with 2 Axes>"
            ],
            "image/png": "[encoded data removed]"
          },
          "metadata": {}
        }
      ]
    },
    {
      "cell_type": "code",
      "source": [
        "#\n",
        "# let's hold the sepal length and width constant and vary petal len + wid:\n",
        "\n",
        "sepallen = 3.42\n",
        "sepalwid = 3.42\n",
        "\n",
        "VERTICAL = np.arange(0,10,.1) # array of vertical input values\n",
        "HORIZONT = np.arange(0,10,.1) # array of horizontal input values\n",
        "PLANEv2 = np.zeros( (len(HORIZONT),len(VERTICAL)) ) # the output array\n",
        "\n",
        "row = 0\n",
        "col = 0\n",
        "for petallen in VERTICAL: # for every sepal length\n",
        "  for petalwid in HORIZONT: # for every sepal width\n",
        "    Features = [ sepallen, sepalwid, petallen, petalwid ]\n",
        "    output = predictive_model(Features)\n",
        "    #print(f\"Input {Features} Output: {output}\")\n",
        "    PLANEv2[row,col] = output\n",
        "    col += 1\n",
        "  col = 0\n",
        "  row += 1\n",
        "  print(\".\", end=\"\")  # so we know it's running\n",
        "  if row % 42 == 0: print() # same...\n",
        "\n",
        "print(\"\\n\", PLANEv2[0:3,0:3]) # small bit of the upper-left corner\n"
      ],
      "metadata": {
        "id": "yJvhF9_g8MVJ",
        "colab": {
          "base_uri": "https://localhost:8080/"
        },
        "outputId": "2fa784c0-55a7-412d-cb85-5039407f17e5"
      },
      "execution_count": null,
      "outputs": [
        {
          "output_type": "stream",
          "name": "stdout",
          "text": [
            "..........................................\n",
            "..........................................\n",
            "................\n",
            " [[0. 0. 0.]\n",
            " [0. 0. 0.]\n",
            " [0. 0. 0.]]\n"
          ]
        }
      ]
    },
    {
      "cell_type": "code",
      "source": [
        "import seaborn as sns\n",
        "# sns.heatmap(PLANE)\n",
        "\n",
        "sns.set(rc = {'figure.figsize':(12,8)})  # figure size!\n",
        "ax = sns.heatmap(PLANEv2)\n",
        "ax.invert_yaxis()\n",
        "ax.set(xlabel=\"petalwid (tenths)\", ylabel=\"petallen (tenths)\")\n",
        "ax.set_xticks(ax.get_xticks()[::4])\n",
        "ax.set_yticks(ax.get_yticks()[::4])\n",
        "\n",
        "\n",
        "print(\"Remember our species-to-number mapping:\")\n",
        "print(\"0 - setosa\")\n",
        "print(\"1 - versicolor\")\n",
        "print(\"2 - virginica\")"
      ],
      "metadata": {
        "id": "fyuq5YCN8MVK",
        "colab": {
          "base_uri": "https://localhost:8080/",
          "height": 714
        },
        "outputId": "6aec5c0c-4abb-42b9-f777-38ef5572f907"
      },
      "execution_count": null,
      "outputs": [
        {
          "output_type": "stream",
          "name": "stdout",
          "text": [
            "Remember our species-to-number mapping:\n",
            "0 - setosa\n",
            "1 - versicolor\n",
            "2 - virginica\n"
          ]
        },
        {
          "output_type": "display_data",
          "data": {
            "text/plain": [
              "<Figure size 1200x800 with 2 Axes>"
            ],
            "image/png": "[encoded data removed]"
          },
          "metadata": {}
        }
      ]
    },
    {
      "cell_type": "code",
      "execution_count": null,
      "metadata": {
        "id": "1YSg01bzbTo4",
        "colab": {
          "base_uri": "https://localhost:8080/"
        },
        "outputId": "09e41e40-3aed-48f9-bc5b-b21ed58713de"
      },
      "outputs": [
        {
          "output_type": "stream",
          "name": "stdout",
          "text": [
            "[0.10087478 0.03049948 0.3677507  0.50087504]\n",
            "\n",
            "Feature     sepallen has   10.09% of the decision-making importance.\n",
            "Feature     sepalwid has    3.05% of the decision-making importance.\n",
            "Feature     petallen has   36.78% of the decision-making importance.\n",
            "Feature     petalwid has   50.09% of the decision-making importance.\n"
          ]
        }
      ],
      "source": [
        "#\n",
        "# feature importances are often even more \"important\" than predictions...\n",
        "#\n",
        "#    Random forests can provide a much \"smoother\" measure of feature importance, since\n",
        "#                   they integrate over so many individual models (each tree)\n",
        "#\n",
        "#    That is, it's much less likely that a feature will have 0% importance, unless it never varies\n",
        "#\n",
        "\n",
        "print(rforest_model_final.feature_importances_)\n",
        "print()\n",
        "\n",
        "# let's see them with each feature name:\n",
        "IMPs = rforest_model_final.feature_importances_\n",
        "\n",
        "# enumerate is great when you want indices _and_ elements!\n",
        "for i, importance in enumerate(IMPs):\n",
        "    perc = importance*100\n",
        "    print(f\"Feature {COLUMNS[i]:>12s} has {perc:>7.2f}% of the decision-making importance.\")"
      ]
    },
    {
      "cell_type": "code",
      "execution_count": null,
      "metadata": {
        "id": "F954zY84bTo4"
      },
      "outputs": [],
      "source": [
        "#\n",
        "# That's the random-forest model!\n",
        "# Let's consider ourselves not lost, but found,\n",
        "#       amid so many trees-and-forests!\n",
        "#\n",
        "# In fact, the rest of the hw is to run more DT/RF workflows:\n",
        "#          Births, Digits, and your choice of Titanic-or-something-else\n",
        "#\n",
        "#          If you do have a dataset that's of interest, I suggest use that as the \"something else\"\n",
        "#\n",
        "#          (The Titanic dataset is great, but it was a while ago... :-)\n",
        "#"
      ]
    },
    {
      "cell_type": "markdown",
      "source": [
        "### Yay!  \n",
        "\n",
        "Next up:  Births DT and RF"
      ],
      "metadata": {
        "id": "-S5CiYRu9Rk0"
      }
    },
    {
      "cell_type": "markdown",
      "source": [
        "# DT and RF: **Births** data\n",
        "\n",
        "Next, you'll do the same thing on the births dataset...\n"
      ],
      "metadata": {
        "id": "mYRwxji09beW"
      }
    },
    {
      "cell_type": "markdown",
      "source": [
        "### Suggestion:\n",
        "\n",
        "Open this notebook twice!\n",
        "\n",
        "**One window** so that you can go cell-by-cell through the iris-cleaning and iris-modeling cells...\n",
        "\n",
        "**The second window** is to copy-paste-and-adapt the iris approach to the births data\n",
        "\n",
        "The approach is identical.\n",
        "\n",
        "The data-details are different, and that's where the adaptation is necessary and important.\n",
        "\n",
        "Onward:"
      ],
      "metadata": {
        "id": "P-Z6A12S9z_s"
      }
    },
    {
      "cell_type": "markdown",
      "source": [
        "These are just placeholders.\n",
        "\n",
        "You'll copy-and-edit ***lots*** of cells from the iris example."
      ],
      "metadata": {
        "id": "UVsMOQOT-MiE"
      }
    },
    {
      "cell_type": "code",
      "source": [
        "import pandas as pd\n",
        "\n",
        "births = pd.read_csv('births.csv')  # No /mnt/data needed here\n",
        "births.head()\n"
      ],
      "metadata": {
        "colab": {
          "base_uri": "https://localhost:8080/",
          "height": 206
        },
        "id": "i61e4-53SWW8",
        "outputId": "6f5a7921-56e9-41ba-d1a6-881cf050f5b7"
      },
      "execution_count": null,
      "outputs": [
        {
          "output_type": "execute_result",
          "data": {
            "text/plain": [
              "   month  day  births above/below median  \\\n",
              "0      1    1  160369              below   \n",
              "1      1    2  169896              below   \n",
              "2      1    3  180036              below   \n",
              "3      1    4  182854              below   \n",
              "4      1    5  184145              below   \n",
              "\n",
              "   from http://chmullig.com/2012/06/births-by-day-of-year/  \n",
              "0                                                NaN        \n",
              "1                                                NaN        \n",
              "2                                                NaN        \n",
              "3                                                NaN        \n",
              "4                                                NaN        "
            ],
            "text/html": [
              "\n",
              "  <div id=\"df-49a005f5-59de-48b6-bf6b-cefd618d804f\" class=\"colab-df-container\">\n",
              "    <div>\n",
              "<style scoped>\n",
              "    .dataframe tbody tr th:only-of-type {\n",
              "        vertical-align: middle;\n",
              "    }\n",
              "\n",
              "    .dataframe tbody tr th {\n",
              "        vertical-align: top;\n",
              "    }\n",
              "\n",
              "    .dataframe thead th {\n",
              "        text-align: right;\n",
              "    }\n",
              "</style>\n",
              "<table border=\"1\" class=\"dataframe\">\n",
              "  <thead>\n",
              "    <tr style=\"text-align: right;\">\n",
              "      <th></th>\n",
              "      <th>month</th>\n",
              "      <th>day</th>\n",
              "      <th>births</th>\n",
              "      <th>above/below median</th>\n",
              "      <th>from http://chmullig.com/2012/06/births-by-day-of-year/</th>\n",
              "    </tr>\n",
              "  </thead>\n",
              "  <tbody>\n",
              "    <tr>\n",
              "      <th>0</th>\n",
              "      <td>1</td>\n",
              "      <td>1</td>\n",
              "      <td>160369</td>\n",
              "      <td>below</td>\n",
              "      <td>NaN</td>\n",
              "    </tr>\n",
              "    <tr>\n",
              "      <th>1</th>\n",
              "      <td>1</td>\n",
              "      <td>2</td>\n",
              "      <td>169896</td>\n",
              "      <td>below</td>\n",
              "      <td>NaN</td>\n",
              "    </tr>\n",
              "    <tr>\n",
              "      <th>2</th>\n",
              "      <td>1</td>\n",
              "      <td>3</td>\n",
              "      <td>180036</td>\n",
              "      <td>below</td>\n",
              "      <td>NaN</td>\n",
              "    </tr>\n",
              "    <tr>\n",
              "      <th>3</th>\n",
              "      <td>1</td>\n",
              "      <td>4</td>\n",
              "      <td>182854</td>\n",
              "      <td>below</td>\n",
              "      <td>NaN</td>\n",
              "    </tr>\n",
              "    <tr>\n",
              "      <th>4</th>\n",
              "      <td>1</td>\n",
              "      <td>5</td>\n",
              "      <td>184145</td>\n",
              "      <td>below</td>\n",
              "      <td>NaN</td>\n",
              "    </tr>\n",
              "  </tbody>\n",
              "</table>\n",
              "</div>\n",
              "    <div class=\"colab-df-buttons\">\n",
              "\n",
              "  <div class=\"colab-df-container\">\n",
              "    <button class=\"colab-df-convert\" onclick=\"convertToInteractive('df-49a005f5-59de-48b6-bf6b-cefd618d804f')\"\n",
              "            title=\"Convert this dataframe to an interactive table.\"\n",
              "            style=\"display:none;\">\n",
              "\n",
              "  <svg xmlns=\"http://www.w3.org/2000/svg\" height=\"24px\" viewBox=\"0 -960 960 960\">\n",
              "    <path d=\"M120-120v-720h720v720H120Zm60-500h600v-160H180v160Zm220 220h160v-160H400v160Zm0 220h160v-160H400v160ZM180-400h160v-160H180v160Zm440 0h160v-160H620v160ZM180-180h160v-160H180v160Zm440 0h160v-160H620v160Z\"/>\n",
              "  </svg>\n",
              "    </button>\n",
              "\n",
              "  <style>\n",
              "    .colab-df-container {\n",
              "      display:flex;\n",
              "      gap: 12px;\n",
              "    }\n",
              "\n",
              "    .colab-df-convert {\n",
              "      background-color: #E8F0FE;\n",
              "      border: none;\n",
              "      border-radius: 50%;\n",
              "      cursor: pointer;\n",
              "      display: none;\n",
              "      fill: #1967D2;\n",
              "      height: 32px;\n",
              "      padding: 0 0 0 0;\n",
              "      width: 32px;\n",
              "    }\n",
              "\n",
              "    .colab-df-convert:hover {\n",
              "      background-color: #E2EBFA;\n",
              "      box-shadow: 0px 1px 2px rgba(60, 64, 67, 0.3), 0px 1px 3px 1px rgba(60, 64, 67, 0.15);\n",
              "      fill: #174EA6;\n",
              "    }\n",
              "\n",
              "    .colab-df-buttons div {\n",
              "      margin-bottom: 4px;\n",
              "    }\n",
              "\n",
              "    [theme=dark] .colab-df-convert {\n",
              "      background-color: #3B4455;\n",
              "      fill: #D2E3FC;\n",
              "    }\n",
              "\n",
              "    [theme=dark] .colab-df-convert:hover {\n",
              "      background-color: #434B5C;\n",
              "      box-shadow: 0px 1px 3px 1px rgba(0, 0, 0, 0.15);\n",
              "      filter: drop-shadow(0px 1px 2px rgba(0, 0, 0, 0.3));\n",
              "      fill: #FFFFFF;\n",
              "    }\n",
              "  </style>\n",
              "\n",
              "    <script>\n",
              "      const buttonEl =\n",
              "        document.querySelector('#df-49a005f5-59de-48b6-bf6b-cefd618d804f button.colab-df-convert');\n",
              "      buttonEl.style.display =\n",
              "        google.colab.kernel.accessAllowed ? 'block' : 'none';\n",
              "\n",
              "      async function convertToInteractive(key) {\n",
              "        const element = document.querySelector('#df-49a005f5-59de-48b6-bf6b-cefd618d804f');\n",
              "        const dataTable =\n",
              "          await google.colab.kernel.invokeFunction('convertToInteractive',\n",
              "                                                    [key], {});\n",
              "        if (!dataTable) return;\n",
              "\n",
              "        const docLinkHtml = 'Like what you see? Visit the ' +\n",
              "          '<a target=\"_blank\" href=https://colab.research.google.com/notebooks/data_table.ipynb>data table notebook</a>'\n",
              "          + ' to learn more about interactive tables.';\n",
              "        element.innerHTML = '';\n",
              "        dataTable['output_type'] = 'display_data';\n",
              "        await google.colab.output.renderOutput(dataTable, element);\n",
              "        const docLink = document.createElement('div');\n",
              "        docLink.innerHTML = docLinkHtml;\n",
              "        element.appendChild(docLink);\n",
              "      }\n",
              "    </script>\n",
              "  </div>\n",
              "\n",
              "\n",
              "<div id=\"df-23c41283-7fd2-4cb3-822d-4fa315d534b2\">\n",
              "  <button class=\"colab-df-quickchart\" onclick=\"quickchart('df-23c41283-7fd2-4cb3-822d-4fa315d534b2')\"\n",
              "            title=\"Suggest charts\"\n",
              "            style=\"display:none;\">\n",
              "\n",
              "<svg xmlns=\"http://www.w3.org/2000/svg\" height=\"24px\"viewBox=\"0 0 24 24\"\n",
              "     width=\"24px\">\n",
              "    <g>\n",
              "        <path d=\"M19 3H5c-1.1 0-2 .9-2 2v14c0 1.1.9 2 2 2h14c1.1 0 2-.9 2-2V5c0-1.1-.9-2-2-2zM9 17H7v-7h2v7zm4 0h-2V7h2v10zm4 0h-2v-4h2v4z\"/>\n",
              "    </g>\n",
              "</svg>\n",
              "  </button>\n",
              "\n",
              "<style>\n",
              "  .colab-df-quickchart {\n",
              "      --bg-color: #E8F0FE;\n",
              "      --fill-color: #1967D2;\n",
              "      --hover-bg-color: #E2EBFA;\n",
              "      --hover-fill-color: #174EA6;\n",
              "      --disabled-fill-color: #AAA;\n",
              "      --disabled-bg-color: #DDD;\n",
              "  }\n",
              "\n",
              "  [theme=dark] .colab-df-quickchart {\n",
              "      --bg-color: #3B4455;\n",
              "      --fill-color: #D2E3FC;\n",
              "      --hover-bg-color: #434B5C;\n",
              "      --hover-fill-color: #FFFFFF;\n",
              "      --disabled-bg-color: #3B4455;\n",
              "      --disabled-fill-color: #666;\n",
              "  }\n",
              "\n",
              "  .colab-df-quickchart {\n",
              "    background-color: var(--bg-color);\n",
              "    border: none;\n",
              "    border-radius: 50%;\n",
              "    cursor: pointer;\n",
              "    display: none;\n",
              "    fill: var(--fill-color);\n",
              "    height: 32px;\n",
              "    padding: 0;\n",
              "    width: 32px;\n",
              "  }\n",
              "\n",
              "  .colab-df-quickchart:hover {\n",
              "    background-color: var(--hover-bg-color);\n",
              "    box-shadow: 0 1px 2px rgba(60, 64, 67, 0.3), 0 1px 3px 1px rgba(60, 64, 67, 0.15);\n",
              "    fill: var(--button-hover-fill-color);\n",
              "  }\n",
              "\n",
              "  .colab-df-quickchart-complete:disabled,\n",
              "  .colab-df-quickchart-complete:disabled:hover {\n",
              "    background-color: var(--disabled-bg-color);\n",
              "    fill: var(--disabled-fill-color);\n",
              "    box-shadow: none;\n",
              "  }\n",
              "\n",
              "  .colab-df-spinner {\n",
              "    border: 2px solid var(--fill-color);\n",
              "    border-color: transparent;\n",
              "    border-bottom-color: var(--fill-color);\n",
              "    animation:\n",
              "      spin 1s steps(1) infinite;\n",
              "  }\n",
              "\n",
              "  @keyframes spin {\n",
              "    0% {\n",
              "      border-color: transparent;\n",
              "      border-bottom-color: var(--fill-color);\n",
              "      border-left-color: var(--fill-color);\n",
              "    }\n",
              "    20% {\n",
              "      border-color: transparent;\n",
              "      border-left-color: var(--fill-color);\n",
              "      border-top-color: var(--fill-color);\n",
              "    }\n",
              "    30% {\n",
              "      border-color: transparent;\n",
              "      border-left-color: var(--fill-color);\n",
              "      border-top-color: var(--fill-color);\n",
              "      border-right-color: var(--fill-color);\n",
              "    }\n",
              "    40% {\n",
              "      border-color: transparent;\n",
              "      border-right-color: var(--fill-color);\n",
              "      border-top-color: var(--fill-color);\n",
              "    }\n",
              "    60% {\n",
              "      border-color: transparent;\n",
              "      border-right-color: var(--fill-color);\n",
              "    }\n",
              "    80% {\n",
              "      border-color: transparent;\n",
              "      border-right-color: var(--fill-color);\n",
              "      border-bottom-color: var(--fill-color);\n",
              "    }\n",
              "    90% {\n",
              "      border-color: transparent;\n",
              "      border-bottom-color: var(--fill-color);\n",
              "    }\n",
              "  }\n",
              "</style>\n",
              "\n",
              "  <script>\n",
              "    async function quickchart(key) {\n",
              "      const quickchartButtonEl =\n",
              "        document.querySelector('#' + key + ' button');\n",
              "      quickchartButtonEl.disabled = true;  // To prevent multiple clicks.\n",
              "      quickchartButtonEl.classList.add('colab-df-spinner');\n",
              "      try {\n",
              "        const charts = await google.colab.kernel.invokeFunction(\n",
              "            'suggestCharts', [key], {});\n",
              "      } catch (error) {\n",
              "        console.error('Error during call to suggestCharts:', error);\n",
              "      }\n",
              "      quickchartButtonEl.classList.remove('colab-df-spinner');\n",
              "      quickchartButtonEl.classList.add('colab-df-quickchart-complete');\n",
              "    }\n",
              "    (() => {\n",
              "      let quickchartButtonEl =\n",
              "        document.querySelector('#df-23c41283-7fd2-4cb3-822d-4fa315d534b2 button');\n",
              "      quickchartButtonEl.style.display =\n",
              "        google.colab.kernel.accessAllowed ? 'block' : 'none';\n",
              "    })();\n",
              "  </script>\n",
              "</div>\n",
              "\n",
              "    </div>\n",
              "  </div>\n"
            ],
            "application/vnd.google.colaboratory.intrinsic+json": {
              "type": "dataframe",
              "variable_name": "births",
              "summary": "{\n  \"name\": \"births\",\n  \"rows\": 372,\n  \"fields\": [\n    {\n      \"column\": \"month\",\n      \"properties\": {\n        \"dtype\": \"number\",\n        \"std\": 3,\n        \"min\": 1,\n        \"max\": 12,\n        \"num_unique_values\": 12,\n        \"samples\": [\n          11,\n          10,\n          1\n        ],\n        \"semantic_type\": \"\",\n        \"description\": \"\"\n      }\n    },\n    {\n      \"column\": \"day\",\n      \"properties\": {\n        \"dtype\": \"number\",\n        \"std\": 8,\n        \"min\": 1,\n        \"max\": 31,\n        \"num_unique_values\": 31,\n        \"samples\": [\n          28,\n          16,\n          24\n        ],\n        \"semantic_type\": \"\",\n        \"description\": \"\"\n      }\n    },\n    {\n      \"column\": \"births\",\n      \"properties\": {\n        \"dtype\": \"number\",\n        \"std\": 26756,\n        \"min\": 77,\n        \"max\": 212915,\n        \"num_unique_values\": 368,\n        \"samples\": [\n          186857,\n          190473,\n          186601\n        ],\n        \"semantic_type\": \"\",\n        \"description\": \"\"\n      }\n    },\n    {\n      \"column\": \"above/below median\",\n      \"properties\": {\n        \"dtype\": \"category\",\n        \"num_unique_values\": 2,\n        \"samples\": [\n          \"above\",\n          \"below\"\n        ],\n        \"semantic_type\": \"\",\n        \"description\": \"\"\n      }\n    },\n    {\n      \"column\": \"from http://chmullig.com/2012/06/births-by-day-of-year/\",\n      \"properties\": {\n        \"dtype\": \"number\",\n        \"std\": null,\n        \"min\": null,\n        \"max\": null,\n        \"num_unique_values\": 0,\n        \"samples\": [],\n        \"semantic_type\": \"\",\n        \"description\": \"\"\n      }\n    }\n  ]\n}"
            }
          },
          "metadata": {},
          "execution_count": 67
        }
      ]
    },
    {
      "cell_type": "code",
      "source": [
        "# Drop bad columns and fix target label\n",
        "births = births.drop(columns=[\n",
        "    'births',\n",
        "    'from http://chmullig.com/2012/06/births-by-day-of-year/'\n",
        "], errors='ignore')\n",
        "\n",
        "births = births.rename(columns={'above/below median': 'popularity'})\n",
        "births['popularity'] = births['popularity'].map({'below': 0, 'above': 1})\n",
        "births = births.dropna(subset=['popularity'])\n",
        "\n",
        "# Remove invalid dates\n",
        "def is_valid_date(month, day):\n",
        "    try:\n",
        "        pd.Timestamp(year=2020, month=int(month), day=int(day))\n",
        "        return True\n",
        "    except:\n",
        "        return False\n",
        "\n",
        "births = births[births.apply(lambda row: is_valid_date(row['month'], row['day']), axis=1)]\n",
        "births['popularity'] = births['popularity'].astype(int)\n"
      ],
      "metadata": {
        "id": "Ru_OHXUBSltk"
      },
      "execution_count": null,
      "outputs": []
    },
    {
      "cell_type": "code",
      "source": [
        "from sklearn.model_selection import train_test_split\n",
        "\n",
        "X = births[['month', 'day']]\n",
        "y = births['popularity']\n",
        "\n",
        "X_train, X_test, y_train, y_test = train_test_split(X, y, random_state=42)\n"
      ],
      "metadata": {
        "id": "Qcl9IJB3SzQQ"
      },
      "execution_count": null,
      "outputs": []
    },
    {
      "cell_type": "code",
      "source": [
        "from sklearn.tree import DecisionTreeClassifier\n",
        "from sklearn.metrics import accuracy_score\n",
        "\n",
        "dt = DecisionTreeClassifier(max_depth=4, random_state=42)\n",
        "dt.fit(X_train, y_train)\n",
        "\n",
        "y_pred_dt = dt.predict(X_test)\n",
        "print(\"Decision Tree Accuracy:\", accuracy_score(y_test, y_pred_dt))\n"
      ],
      "metadata": {
        "colab": {
          "base_uri": "https://localhost:8080/"
        },
        "id": "5Sr0pH_JS1Sp",
        "outputId": "24cf1961-ee2a-4bcc-e7f2-8e1fb444a06a"
      },
      "execution_count": null,
      "outputs": [
        {
          "output_type": "stream",
          "name": "stdout",
          "text": [
            "Decision Tree Accuracy: 0.8260869565217391\n"
          ]
        }
      ]
    },
    {
      "cell_type": "code",
      "source": [
        "from sklearn.ensemble import RandomForestClassifier\n",
        "\n",
        "rf = RandomForestClassifier(n_estimators=100, max_depth=5, random_state=42)\n",
        "rf.fit(X_train, y_train)\n",
        "\n",
        "y_pred_rf = rf.predict(X_test)\n",
        "print(\"Random Forest Accuracy:\", accuracy_score(y_test, y_pred_rf))\n"
      ],
      "metadata": {
        "colab": {
          "base_uri": "https://localhost:8080/"
        },
        "id": "FRR8j4q7S8BI",
        "outputId": "df9a18e4-adb6-4663-b34a-2bee77907340"
      },
      "execution_count": null,
      "outputs": [
        {
          "output_type": "stream",
          "name": "stdout",
          "text": [
            "Random Forest Accuracy: 0.8478260869565217\n"
          ]
        }
      ]
    },
    {
      "cell_type": "code",
      "source": [
        "from sklearn.tree import export_graphviz\n",
        "import graphviz\n",
        "\n",
        "dot_dt = export_graphviz(\n",
        "    dt,\n",
        "    feature_names=['month', 'day'],\n",
        "    class_names=['below', 'above'],\n",
        "    filled=True,\n",
        "    rounded=True\n",
        ")\n",
        "\n",
        "graphviz.Source(dot_dt)\n"
      ],
      "metadata": {
        "colab": {
          "base_uri": "https://localhost:8080/",
          "height": 777
        },
        "id": "OW3TqpvPS_Tp",
        "outputId": "ff1e07f2-ab35-45e4-92cc-5d3a1a5f7507"
      },
      "execution_count": null,
      "outputs": [
        {
          "output_type": "execute_result",
          "data": {
            "image/svg+xml": "<?xml version=\"1.0\" encoding=\"UTF-8\" standalone=\"no\"?>\n<!DOCTYPE svg PUBLIC \"-//W3C//DTD SVG 1.1//EN\"\n \"http://www.w3.org/Graphics/SVG/1.1/DTD/svg11.dtd\">\n<!-- Generated by graphviz version 2.43.0 (0)\n -->\n<!-- Title: Tree Pages: 1 -->\n<svg width=\"1650pt\" height=\"552pt\"\n viewBox=\"0.00 0.00 1650.00 552.00\" xmlns=\"http://www.w3.org/2000/svg\" xmlns:xlink=\"http://www.w3.org/1999/xlink\">\n<g id=\"graph0\" class=\"graph\" transform=\"scale(1 1) rotate(0) translate(4 548)\">\n<title>Tree</title>\n<polygon fill=\"white\" stroke=\"transparent\" points=\"-4,4 -4,-548 1646,-548 1646,4 -4,4\"/>\n<!-- 0 -->\n<g id=\"node1\" class=\"node\">\n<title>0</title>\n<path fill=\"#eef7fd\" stroke=\"black\" d=\"M743.5,-544C743.5,-544 642.5,-544 642.5,-544 636.5,-544 630.5,-538 630.5,-532 630.5,-532 630.5,-473 630.5,-473 630.5,-467 636.5,-461 642.5,-461 642.5,-461 743.5,-461 743.5,-461 749.5,-461 755.5,-467 755.5,-473 755.5,-473 755.5,-532 755.5,-532 755.5,-538 749.5,-544 743.5,-544\"/>\n<text text-anchor=\"middle\" x=\"693\" y=\"-528.8\" font-family=\"Helvetica,sans-Serif\" font-size=\"14.00\">month &lt;= 5.5</text>\n<text text-anchor=\"middle\" x=\"693\" y=\"-513.8\" font-family=\"Helvetica,sans-Serif\" font-size=\"14.00\">gini = 0.499</text>\n<text text-anchor=\"middle\" x=\"693\" y=\"-498.8\" font-family=\"Helvetica,sans-Serif\" font-size=\"14.00\">samples = 274</text>\n<text text-anchor=\"middle\" x=\"693\" y=\"-483.8\" font-family=\"Helvetica,sans-Serif\" font-size=\"14.00\">value = [131, 143]</text>\n<text text-anchor=\"middle\" x=\"693\" y=\"-468.8\" font-family=\"Helvetica,sans-Serif\" font-size=\"14.00\">class = above</text>\n</g>\n<!-- 1 -->\n<g id=\"node2\" class=\"node\">\n<title>1</title>\n<path fill=\"#e99254\" stroke=\"black\" d=\"M559,-425C559,-425 473,-425 473,-425 467,-425 461,-419 461,-413 461,-413 461,-354 461,-354 461,-348 467,-342 473,-342 473,-342 559,-342 559,-342 565,-342 571,-348 571,-354 571,-354 571,-413 571,-413 571,-419 565,-425 559,-425\"/>\n<text text-anchor=\"middle\" x=\"516\" y=\"-409.8\" font-family=\"Helvetica,sans-Serif\" font-size=\"14.00\">month &lt;= 3.5</text>\n<text text-anchor=\"middle\" x=\"516\" y=\"-394.8\" font-family=\"Helvetica,sans-Serif\" font-size=\"14.00\">gini = 0.21</text>\n<text text-anchor=\"middle\" x=\"516\" y=\"-379.8\" font-family=\"Helvetica,sans-Serif\" font-size=\"14.00\">samples = 109</text>\n<text text-anchor=\"middle\" x=\"516\" y=\"-364.8\" font-family=\"Helvetica,sans-Serif\" font-size=\"14.00\">value = [96, 13]</text>\n<text text-anchor=\"middle\" x=\"516\" y=\"-349.8\" font-family=\"Helvetica,sans-Serif\" font-size=\"14.00\">class = below</text>\n</g>\n<!-- 0&#45;&gt;1 -->\n<g id=\"edge1\" class=\"edge\">\n<title>0&#45;&gt;1</title>\n<path fill=\"none\" stroke=\"black\" d=\"M631.59,-460.91C614.84,-449.84 596.66,-437.82 579.78,-426.66\"/>\n<polygon fill=\"black\" stroke=\"black\" points=\"581.36,-423.51 571.09,-420.91 577.5,-429.35 581.36,-423.51\"/>\n<text text-anchor=\"middle\" x=\"576.08\" y=\"-441.71\" font-family=\"Helvetica,sans-Serif\" font-size=\"14.00\">True</text>\n</g>\n<!-- 14 -->\n<g id=\"node15\" class=\"node\">\n<title>14</title>\n<path fill=\"#6eb7ec\" stroke=\"black\" d=\"M990.5,-425C990.5,-425 897.5,-425 897.5,-425 891.5,-425 885.5,-419 885.5,-413 885.5,-413 885.5,-354 885.5,-354 885.5,-348 891.5,-342 897.5,-342 897.5,-342 990.5,-342 990.5,-342 996.5,-342 1002.5,-348 1002.5,-354 1002.5,-354 1002.5,-413 1002.5,-413 1002.5,-419 996.5,-425 990.5,-425\"/>\n<text text-anchor=\"middle\" x=\"944\" y=\"-409.8\" font-family=\"Helvetica,sans-Serif\" font-size=\"14.00\">month &lt;= 10.5</text>\n<text text-anchor=\"middle\" x=\"944\" y=\"-394.8\" font-family=\"Helvetica,sans-Serif\" font-size=\"14.00\">gini = 0.334</text>\n<text text-anchor=\"middle\" x=\"944\" y=\"-379.8\" font-family=\"Helvetica,sans-Serif\" font-size=\"14.00\">samples = 165</text>\n<text text-anchor=\"middle\" x=\"944\" y=\"-364.8\" font-family=\"Helvetica,sans-Serif\" font-size=\"14.00\">value = [35, 130]</text>\n<text text-anchor=\"middle\" x=\"944\" y=\"-349.8\" font-family=\"Helvetica,sans-Serif\" font-size=\"14.00\">class = above</text>\n</g>\n<!-- 0&#45;&gt;14 -->\n<g id=\"edge14\" class=\"edge\">\n<title>0&#45;&gt;14</title>\n<path fill=\"none\" stroke=\"black\" d=\"M755.69,-472.28C792.23,-455.24 838.35,-433.75 875.8,-416.29\"/>\n<polygon fill=\"black\" stroke=\"black\" points=\"877.54,-419.34 885.12,-411.94 874.58,-413 877.54,-419.34\"/>\n<text text-anchor=\"middle\" x=\"876.57\" y=\"-431.74\" font-family=\"Helvetica,sans-Serif\" font-size=\"14.00\">False</text>\n</g>\n<!-- 2 -->\n<g id=\"node3\" class=\"node\">\n<title>2</title>\n<path fill=\"#eba069\" stroke=\"black\" d=\"M377,-306C377,-306 291,-306 291,-306 285,-306 279,-300 279,-294 279,-294 279,-235 279,-235 279,-229 285,-223 291,-223 291,-223 377,-223 377,-223 383,-223 389,-229 389,-235 389,-235 389,-294 389,-294 389,-300 383,-306 377,-306\"/>\n<text text-anchor=\"middle\" x=\"334\" y=\"-290.8\" font-family=\"Helvetica,sans-Serif\" font-size=\"14.00\">day &lt;= 18.5</text>\n<text text-anchor=\"middle\" x=\"334\" y=\"-275.8\" font-family=\"Helvetica,sans-Serif\" font-size=\"14.00\">gini = 0.316</text>\n<text text-anchor=\"middle\" x=\"334\" y=\"-260.8\" font-family=\"Helvetica,sans-Serif\" font-size=\"14.00\">samples = 61</text>\n<text text-anchor=\"middle\" x=\"334\" y=\"-245.8\" font-family=\"Helvetica,sans-Serif\" font-size=\"14.00\">value = [49, 12]</text>\n<text text-anchor=\"middle\" x=\"334\" y=\"-230.8\" font-family=\"Helvetica,sans-Serif\" font-size=\"14.00\">class = below</text>\n</g>\n<!-- 1&#45;&gt;2 -->\n<g id=\"edge2\" class=\"edge\">\n<title>1&#45;&gt;2</title>\n<path fill=\"none\" stroke=\"black\" d=\"M460.9,-347.08C441.03,-334.31 418.45,-319.79 397.9,-306.58\"/>\n<polygon fill=\"black\" stroke=\"black\" points=\"399.53,-303.47 389.23,-301 395.75,-309.35 399.53,-303.47\"/>\n</g>\n<!-- 9 -->\n<g id=\"node10\" class=\"node\">\n<title>9</title>\n<path fill=\"#e6843d\" stroke=\"black\" d=\"M555,-306C555,-306 477,-306 477,-306 471,-306 465,-300 465,-294 465,-294 465,-235 465,-235 465,-229 471,-223 477,-223 477,-223 555,-223 555,-223 561,-223 567,-229 567,-235 567,-235 567,-294 567,-294 567,-300 561,-306 555,-306\"/>\n<text text-anchor=\"middle\" x=\"516\" y=\"-290.8\" font-family=\"Helvetica,sans-Serif\" font-size=\"14.00\">day &lt;= 19.5</text>\n<text text-anchor=\"middle\" x=\"516\" y=\"-275.8\" font-family=\"Helvetica,sans-Serif\" font-size=\"14.00\">gini = 0.041</text>\n<text text-anchor=\"middle\" x=\"516\" y=\"-260.8\" font-family=\"Helvetica,sans-Serif\" font-size=\"14.00\">samples = 48</text>\n<text text-anchor=\"middle\" x=\"516\" y=\"-245.8\" font-family=\"Helvetica,sans-Serif\" font-size=\"14.00\">value = [47, 1]</text>\n<text text-anchor=\"middle\" x=\"516\" y=\"-230.8\" font-family=\"Helvetica,sans-Serif\" font-size=\"14.00\">class = below</text>\n</g>\n<!-- 1&#45;&gt;9 -->\n<g id=\"edge9\" class=\"edge\">\n<title>1&#45;&gt;9</title>\n<path fill=\"none\" stroke=\"black\" d=\"M516,-341.91C516,-333.65 516,-324.86 516,-316.3\"/>\n<polygon fill=\"black\" stroke=\"black\" points=\"519.5,-316.02 516,-306.02 512.5,-316.02 519.5,-316.02\"/>\n</g>\n<!-- 3 -->\n<g id=\"node4\" class=\"node\">\n<title>3</title>\n<path fill=\"#f0b58b\" stroke=\"black\" d=\"M212,-187C212,-187 126,-187 126,-187 120,-187 114,-181 114,-175 114,-175 114,-116 114,-116 114,-110 120,-104 126,-104 126,-104 212,-104 212,-104 218,-104 224,-110 224,-116 224,-116 224,-175 224,-175 224,-181 218,-187 212,-187\"/>\n<text text-anchor=\"middle\" x=\"169\" y=\"-171.8\" font-family=\"Helvetica,sans-Serif\" font-size=\"14.00\">day &lt;= 9.5</text>\n<text text-anchor=\"middle\" x=\"169\" y=\"-156.8\" font-family=\"Helvetica,sans-Serif\" font-size=\"14.00\">gini = 0.415</text>\n<text text-anchor=\"middle\" x=\"169\" y=\"-141.8\" font-family=\"Helvetica,sans-Serif\" font-size=\"14.00\">samples = 34</text>\n<text text-anchor=\"middle\" x=\"169\" y=\"-126.8\" font-family=\"Helvetica,sans-Serif\" font-size=\"14.00\">value = [24, 10]</text>\n<text text-anchor=\"middle\" x=\"169\" y=\"-111.8\" font-family=\"Helvetica,sans-Serif\" font-size=\"14.00\">class = below</text>\n</g>\n<!-- 2&#45;&gt;3 -->\n<g id=\"edge3\" class=\"edge\">\n<title>2&#45;&gt;3</title>\n<path fill=\"none\" stroke=\"black\" d=\"M278.6,-224.22C263.83,-213.74 247.75,-202.34 232.58,-191.58\"/>\n<polygon fill=\"black\" stroke=\"black\" points=\"234.44,-188.61 224.26,-185.68 230.39,-194.32 234.44,-188.61\"/>\n</g>\n<!-- 6 -->\n<g id=\"node7\" class=\"node\">\n<title>6</title>\n<path fill=\"#e78b49\" stroke=\"black\" d=\"M373,-187C373,-187 295,-187 295,-187 289,-187 283,-181 283,-175 283,-175 283,-116 283,-116 283,-110 289,-104 295,-104 295,-104 373,-104 373,-104 379,-104 385,-110 385,-116 385,-116 385,-175 385,-175 385,-181 379,-187 373,-187\"/>\n<text text-anchor=\"middle\" x=\"334\" y=\"-171.8\" font-family=\"Helvetica,sans-Serif\" font-size=\"14.00\">day &lt;= 24.5</text>\n<text text-anchor=\"middle\" x=\"334\" y=\"-156.8\" font-family=\"Helvetica,sans-Serif\" font-size=\"14.00\">gini = 0.137</text>\n<text text-anchor=\"middle\" x=\"334\" y=\"-141.8\" font-family=\"Helvetica,sans-Serif\" font-size=\"14.00\">samples = 27</text>\n<text text-anchor=\"middle\" x=\"334\" y=\"-126.8\" font-family=\"Helvetica,sans-Serif\" font-size=\"14.00\">value = [25, 2]</text>\n<text text-anchor=\"middle\" x=\"334\" y=\"-111.8\" font-family=\"Helvetica,sans-Serif\" font-size=\"14.00\">class = below</text>\n</g>\n<!-- 2&#45;&gt;6 -->\n<g id=\"edge6\" class=\"edge\">\n<title>2&#45;&gt;6</title>\n<path fill=\"none\" stroke=\"black\" d=\"M334,-222.91C334,-214.65 334,-205.86 334,-197.3\"/>\n<polygon fill=\"black\" stroke=\"black\" points=\"337.5,-197.02 334,-187.02 330.5,-197.02 337.5,-197.02\"/>\n</g>\n<!-- 4 -->\n<g id=\"node5\" class=\"node\">\n<title>4</title>\n<path fill=\"#e89152\" stroke=\"black\" d=\"M90,-68C90,-68 12,-68 12,-68 6,-68 0,-62 0,-56 0,-56 0,-12 0,-12 0,-6 6,0 12,0 12,0 90,0 90,0 96,0 102,-6 102,-12 102,-12 102,-56 102,-56 102,-62 96,-68 90,-68\"/>\n<text text-anchor=\"middle\" x=\"51\" y=\"-52.8\" font-family=\"Helvetica,sans-Serif\" font-size=\"14.00\">gini = 0.198</text>\n<text text-anchor=\"middle\" x=\"51\" y=\"-37.8\" font-family=\"Helvetica,sans-Serif\" font-size=\"14.00\">samples = 18</text>\n<text text-anchor=\"middle\" x=\"51\" y=\"-22.8\" font-family=\"Helvetica,sans-Serif\" font-size=\"14.00\">value = [16, 2]</text>\n<text text-anchor=\"middle\" x=\"51\" y=\"-7.8\" font-family=\"Helvetica,sans-Serif\" font-size=\"14.00\">class = below</text>\n</g>\n<!-- 3&#45;&gt;4 -->\n<g id=\"edge4\" class=\"edge\">\n<title>3&#45;&gt;4</title>\n<path fill=\"none\" stroke=\"black\" d=\"M125.06,-103.73C115.04,-94.42 104.39,-84.54 94.39,-75.26\"/>\n<polygon fill=\"black\" stroke=\"black\" points=\"96.6,-72.54 86.88,-68.3 91.83,-77.67 96.6,-72.54\"/>\n</g>\n<!-- 5 -->\n<g id=\"node6\" class=\"node\">\n<title>5</title>\n<path fill=\"#ffffff\" stroke=\"black\" d=\"M206,-68C206,-68 132,-68 132,-68 126,-68 120,-62 120,-56 120,-56 120,-12 120,-12 120,-6 126,0 132,0 132,0 206,0 206,0 212,0 218,-6 218,-12 218,-12 218,-56 218,-56 218,-62 212,-68 206,-68\"/>\n<text text-anchor=\"middle\" x=\"169\" y=\"-52.8\" font-family=\"Helvetica,sans-Serif\" font-size=\"14.00\">gini = 0.5</text>\n<text text-anchor=\"middle\" x=\"169\" y=\"-37.8\" font-family=\"Helvetica,sans-Serif\" font-size=\"14.00\">samples = 16</text>\n<text text-anchor=\"middle\" x=\"169\" y=\"-22.8\" font-family=\"Helvetica,sans-Serif\" font-size=\"14.00\">value = [8, 8]</text>\n<text text-anchor=\"middle\" x=\"169\" y=\"-7.8\" font-family=\"Helvetica,sans-Serif\" font-size=\"14.00\">class = below</text>\n</g>\n<!-- 3&#45;&gt;5 -->\n<g id=\"edge5\" class=\"edge\">\n<title>3&#45;&gt;5</title>\n<path fill=\"none\" stroke=\"black\" d=\"M169,-103.73C169,-95.52 169,-86.86 169,-78.56\"/>\n<polygon fill=\"black\" stroke=\"black\" points=\"172.5,-78.3 169,-68.3 165.5,-78.3 172.5,-78.3\"/>\n</g>\n<!-- 7 -->\n<g id=\"node8\" class=\"node\">\n<title>7</title>\n<path fill=\"#e99457\" stroke=\"black\" d=\"M326,-68C326,-68 248,-68 248,-68 242,-68 236,-62 236,-56 236,-56 236,-12 236,-12 236,-6 242,0 248,0 248,0 326,0 326,0 332,0 338,-6 338,-12 338,-12 338,-56 338,-56 338,-62 332,-68 326,-68\"/>\n<text text-anchor=\"middle\" x=\"287\" y=\"-52.8\" font-family=\"Helvetica,sans-Serif\" font-size=\"14.00\">gini = 0.231</text>\n<text text-anchor=\"middle\" x=\"287\" y=\"-37.8\" font-family=\"Helvetica,sans-Serif\" font-size=\"14.00\">samples = 15</text>\n<text text-anchor=\"middle\" x=\"287\" y=\"-22.8\" font-family=\"Helvetica,sans-Serif\" font-size=\"14.00\">value = [13, 2]</text>\n<text text-anchor=\"middle\" x=\"287\" y=\"-7.8\" font-family=\"Helvetica,sans-Serif\" font-size=\"14.00\">class = below</text>\n</g>\n<!-- 6&#45;&gt;7 -->\n<g id=\"edge7\" class=\"edge\">\n<title>6&#45;&gt;7</title>\n<path fill=\"none\" stroke=\"black\" d=\"M316.5,-103.73C312.86,-95.24 309.01,-86.28 305.34,-77.73\"/>\n<polygon fill=\"black\" stroke=\"black\" points=\"308.45,-76.11 301.29,-68.3 302.02,-78.87 308.45,-76.11\"/>\n</g>\n<!-- 8 -->\n<g id=\"node9\" class=\"node\">\n<title>8</title>\n<path fill=\"#e58139\" stroke=\"black\" d=\"M446,-68C446,-68 368,-68 368,-68 362,-68 356,-62 356,-56 356,-56 356,-12 356,-12 356,-6 362,0 368,0 368,0 446,0 446,0 452,0 458,-6 458,-12 458,-12 458,-56 458,-56 458,-62 452,-68 446,-68\"/>\n<text text-anchor=\"middle\" x=\"407\" y=\"-52.8\" font-family=\"Helvetica,sans-Serif\" font-size=\"14.00\">gini = 0.0</text>\n<text text-anchor=\"middle\" x=\"407\" y=\"-37.8\" font-family=\"Helvetica,sans-Serif\" font-size=\"14.00\">samples = 12</text>\n<text text-anchor=\"middle\" x=\"407\" y=\"-22.8\" font-family=\"Helvetica,sans-Serif\" font-size=\"14.00\">value = [12, 0]</text>\n<text text-anchor=\"middle\" x=\"407\" y=\"-7.8\" font-family=\"Helvetica,sans-Serif\" font-size=\"14.00\">class = below</text>\n</g>\n<!-- 6&#45;&gt;8 -->\n<g id=\"edge8\" class=\"edge\">\n<title>6&#45;&gt;8</title>\n<path fill=\"none\" stroke=\"black\" d=\"M361.18,-103.73C367.08,-94.88 373.33,-85.51 379.25,-76.63\"/>\n<polygon fill=\"black\" stroke=\"black\" points=\"382.17,-78.56 384.8,-68.3 376.34,-74.68 382.17,-78.56\"/>\n</g>\n<!-- 10 -->\n<g id=\"node11\" class=\"node\">\n<title>10</title>\n<path fill=\"#e58139\" stroke=\"black\" d=\"M524,-179.5C524,-179.5 446,-179.5 446,-179.5 440,-179.5 434,-173.5 434,-167.5 434,-167.5 434,-123.5 434,-123.5 434,-117.5 440,-111.5 446,-111.5 446,-111.5 524,-111.5 524,-111.5 530,-111.5 536,-117.5 536,-123.5 536,-123.5 536,-167.5 536,-167.5 536,-173.5 530,-179.5 524,-179.5\"/>\n<text text-anchor=\"middle\" x=\"485\" y=\"-164.3\" font-family=\"Helvetica,sans-Serif\" font-size=\"14.00\">gini = 0.0</text>\n<text text-anchor=\"middle\" x=\"485\" y=\"-149.3\" font-family=\"Helvetica,sans-Serif\" font-size=\"14.00\">samples = 30</text>\n<text text-anchor=\"middle\" x=\"485\" y=\"-134.3\" font-family=\"Helvetica,sans-Serif\" font-size=\"14.00\">value = [30, 0]</text>\n<text text-anchor=\"middle\" x=\"485\" y=\"-119.3\" font-family=\"Helvetica,sans-Serif\" font-size=\"14.00\">class = below</text>\n</g>\n<!-- 9&#45;&gt;10 -->\n<g id=\"edge10\" class=\"edge\">\n<title>9&#45;&gt;10</title>\n<path fill=\"none\" stroke=\"black\" d=\"M505.24,-222.91C502.38,-212.09 499.27,-200.38 496.38,-189.44\"/>\n<polygon fill=\"black\" stroke=\"black\" points=\"499.73,-188.44 493.79,-179.67 492.97,-190.23 499.73,-188.44\"/>\n</g>\n<!-- 11 -->\n<g id=\"node12\" class=\"node\">\n<title>11</title>\n<path fill=\"#e78845\" stroke=\"black\" d=\"M644,-187C644,-187 566,-187 566,-187 560,-187 554,-181 554,-175 554,-175 554,-116 554,-116 554,-110 560,-104 566,-104 566,-104 644,-104 644,-104 650,-104 656,-110 656,-116 656,-116 656,-175 656,-175 656,-181 650,-187 644,-187\"/>\n<text text-anchor=\"middle\" x=\"605\" y=\"-171.8\" font-family=\"Helvetica,sans-Serif\" font-size=\"14.00\">day &lt;= 20.5</text>\n<text text-anchor=\"middle\" x=\"605\" y=\"-156.8\" font-family=\"Helvetica,sans-Serif\" font-size=\"14.00\">gini = 0.105</text>\n<text text-anchor=\"middle\" x=\"605\" y=\"-141.8\" font-family=\"Helvetica,sans-Serif\" font-size=\"14.00\">samples = 18</text>\n<text text-anchor=\"middle\" x=\"605\" y=\"-126.8\" font-family=\"Helvetica,sans-Serif\" font-size=\"14.00\">value = [17, 1]</text>\n<text text-anchor=\"middle\" x=\"605\" y=\"-111.8\" font-family=\"Helvetica,sans-Serif\" font-size=\"14.00\">class = below</text>\n</g>\n<!-- 9&#45;&gt;11 -->\n<g id=\"edge11\" class=\"edge\">\n<title>9&#45;&gt;11</title>\n<path fill=\"none\" stroke=\"black\" d=\"M546.88,-222.91C553.71,-213.92 561.02,-204.32 568.07,-195.05\"/>\n<polygon fill=\"black\" stroke=\"black\" points=\"570.91,-197.1 574.18,-187.02 565.34,-192.86 570.91,-197.1\"/>\n</g>\n<!-- 12 -->\n<g id=\"node13\" class=\"node\">\n<title>12</title>\n<path fill=\"#399de5\" stroke=\"black\" d=\"M564,-68C564,-68 488,-68 488,-68 482,-68 476,-62 476,-56 476,-56 476,-12 476,-12 476,-6 482,0 488,0 488,0 564,0 564,0 570,0 576,-6 576,-12 576,-12 576,-56 576,-56 576,-62 570,-68 564,-68\"/>\n<text text-anchor=\"middle\" x=\"526\" y=\"-52.8\" font-family=\"Helvetica,sans-Serif\" font-size=\"14.00\">gini = 0.0</text>\n<text text-anchor=\"middle\" x=\"526\" y=\"-37.8\" font-family=\"Helvetica,sans-Serif\" font-size=\"14.00\">samples = 1</text>\n<text text-anchor=\"middle\" x=\"526\" y=\"-22.8\" font-family=\"Helvetica,sans-Serif\" font-size=\"14.00\">value = [0, 1]</text>\n<text text-anchor=\"middle\" x=\"526\" y=\"-7.8\" font-family=\"Helvetica,sans-Serif\" font-size=\"14.00\">class = above</text>\n</g>\n<!-- 11&#45;&gt;12 -->\n<g id=\"edge12\" class=\"edge\">\n<title>11&#45;&gt;12</title>\n<path fill=\"none\" stroke=\"black\" d=\"M575.58,-103.73C569.2,-94.88 562.44,-85.51 556.03,-76.63\"/>\n<polygon fill=\"black\" stroke=\"black\" points=\"558.71,-74.36 550.02,-68.3 553.04,-78.46 558.71,-74.36\"/>\n</g>\n<!-- 13 -->\n<g id=\"node14\" class=\"node\">\n<title>13</title>\n<path fill=\"#e58139\" stroke=\"black\" d=\"M684,-68C684,-68 606,-68 606,-68 600,-68 594,-62 594,-56 594,-56 594,-12 594,-12 594,-6 600,0 606,0 606,0 684,0 684,0 690,0 696,-6 696,-12 696,-12 696,-56 696,-56 696,-62 690,-68 684,-68\"/>\n<text text-anchor=\"middle\" x=\"645\" y=\"-52.8\" font-family=\"Helvetica,sans-Serif\" font-size=\"14.00\">gini = 0.0</text>\n<text text-anchor=\"middle\" x=\"645\" y=\"-37.8\" font-family=\"Helvetica,sans-Serif\" font-size=\"14.00\">samples = 17</text>\n<text text-anchor=\"middle\" x=\"645\" y=\"-22.8\" font-family=\"Helvetica,sans-Serif\" font-size=\"14.00\">value = [17, 0]</text>\n<text text-anchor=\"middle\" x=\"645\" y=\"-7.8\" font-family=\"Helvetica,sans-Serif\" font-size=\"14.00\">class = below</text>\n</g>\n<!-- 11&#45;&gt;13 -->\n<g id=\"edge13\" class=\"edge\">\n<title>11&#45;&gt;13</title>\n<path fill=\"none\" stroke=\"black\" d=\"M619.89,-103.73C622.99,-95.24 626.27,-86.28 629.39,-77.73\"/>\n<polygon fill=\"black\" stroke=\"black\" points=\"632.69,-78.89 632.84,-68.3 626.12,-76.49 632.69,-78.89\"/>\n</g>\n<!-- 15 -->\n<g id=\"node16\" class=\"node\">\n<title>15</title>\n<path fill=\"#58ade9\" stroke=\"black\" d=\"M990.5,-306C990.5,-306 897.5,-306 897.5,-306 891.5,-306 885.5,-300 885.5,-294 885.5,-294 885.5,-235 885.5,-235 885.5,-229 891.5,-223 897.5,-223 897.5,-223 990.5,-223 990.5,-223 996.5,-223 1002.5,-229 1002.5,-235 1002.5,-235 1002.5,-294 1002.5,-294 1002.5,-300 996.5,-306 990.5,-306\"/>\n<text text-anchor=\"middle\" x=\"944\" y=\"-290.8\" font-family=\"Helvetica,sans-Serif\" font-size=\"14.00\">month &lt;= 6.5</text>\n<text text-anchor=\"middle\" x=\"944\" y=\"-275.8\" font-family=\"Helvetica,sans-Serif\" font-size=\"14.00\">gini = 0.237</text>\n<text text-anchor=\"middle\" x=\"944\" y=\"-260.8\" font-family=\"Helvetica,sans-Serif\" font-size=\"14.00\">samples = 124</text>\n<text text-anchor=\"middle\" x=\"944\" y=\"-245.8\" font-family=\"Helvetica,sans-Serif\" font-size=\"14.00\">value = [17, 107]</text>\n<text text-anchor=\"middle\" x=\"944\" y=\"-230.8\" font-family=\"Helvetica,sans-Serif\" font-size=\"14.00\">class = above</text>\n</g>\n<!-- 14&#45;&gt;15 -->\n<g id=\"edge15\" class=\"edge\">\n<title>14&#45;&gt;15</title>\n<path fill=\"none\" stroke=\"black\" d=\"M944,-341.91C944,-333.65 944,-324.86 944,-316.3\"/>\n<polygon fill=\"black\" stroke=\"black\" points=\"947.5,-316.02 944,-306.02 940.5,-316.02 947.5,-316.02\"/>\n</g>\n<!-- 22 -->\n<g id=\"node23\" class=\"node\">\n<title>22</title>\n<path fill=\"#d4eaf9\" stroke=\"black\" d=\"M1353,-306C1353,-306 1245,-306 1245,-306 1239,-306 1233,-300 1233,-294 1233,-294 1233,-235 1233,-235 1233,-229 1239,-223 1245,-223 1245,-223 1353,-223 1353,-223 1359,-223 1365,-229 1365,-235 1365,-235 1365,-294 1365,-294 1365,-300 1359,-306 1353,-306\"/>\n<text text-anchor=\"middle\" x=\"1299\" y=\"-290.8\" font-family=\"Helvetica,sans-Serif\" font-size=\"14.00\">day &lt;= 21.5</text>\n<text text-anchor=\"middle\" x=\"1299\" y=\"-275.8\" font-family=\"Helvetica,sans-Serif\" font-size=\"14.00\">gini = 0.493</text>\n<text text-anchor=\"middle\" x=\"1299\" y=\"-260.8\" font-family=\"Helvetica,sans-Serif\" font-size=\"14.00\">samples = 41</text>\n<text text-anchor=\"middle\" x=\"1299\" y=\"-245.8\" font-family=\"Helvetica,sans-Serif\" font-size=\"14.00\">value = [18.0, 23.0]</text>\n<text text-anchor=\"middle\" x=\"1299\" y=\"-230.8\" font-family=\"Helvetica,sans-Serif\" font-size=\"14.00\">class = above</text>\n</g>\n<!-- 14&#45;&gt;22 -->\n<g id=\"edge22\" class=\"edge\">\n<title>14&#45;&gt;22</title>\n<path fill=\"none\" stroke=\"black\" d=\"M1002.62,-363.18C1062.97,-343.29 1157.24,-312.22 1223.22,-290.48\"/>\n<polygon fill=\"black\" stroke=\"black\" points=\"1224.34,-293.79 1232.74,-287.34 1222.14,-287.14 1224.34,-293.79\"/>\n</g>\n<!-- 16 -->\n<g id=\"node17\" class=\"node\">\n<title>16</title>\n<path fill=\"#add7f4\" stroke=\"black\" d=\"M919,-187C919,-187 833,-187 833,-187 827,-187 821,-181 821,-175 821,-175 821,-116 821,-116 821,-110 827,-104 833,-104 833,-104 919,-104 919,-104 925,-104 931,-110 931,-116 931,-116 931,-175 931,-175 931,-181 925,-187 919,-187\"/>\n<text text-anchor=\"middle\" x=\"876\" y=\"-171.8\" font-family=\"Helvetica,sans-Serif\" font-size=\"14.00\">day &lt;= 21.5</text>\n<text text-anchor=\"middle\" x=\"876\" y=\"-156.8\" font-family=\"Helvetica,sans-Serif\" font-size=\"14.00\">gini = 0.466</text>\n<text text-anchor=\"middle\" x=\"876\" y=\"-141.8\" font-family=\"Helvetica,sans-Serif\" font-size=\"14.00\">samples = 27</text>\n<text text-anchor=\"middle\" x=\"876\" y=\"-126.8\" font-family=\"Helvetica,sans-Serif\" font-size=\"14.00\">value = [10, 17]</text>\n<text text-anchor=\"middle\" x=\"876\" y=\"-111.8\" font-family=\"Helvetica,sans-Serif\" font-size=\"14.00\">class = above</text>\n</g>\n<!-- 15&#45;&gt;16 -->\n<g id=\"edge16\" class=\"edge\">\n<title>15&#45;&gt;16</title>\n<path fill=\"none\" stroke=\"black\" d=\"M920.41,-222.91C915.34,-214.2 909.94,-204.9 904.71,-195.89\"/>\n<polygon fill=\"black\" stroke=\"black\" points=\"907.6,-193.91 899.55,-187.02 901.55,-197.43 907.6,-193.91\"/>\n</g>\n<!-- 19 -->\n<g id=\"node20\" class=\"node\">\n<title>19</title>\n<path fill=\"#48a5e7\" stroke=\"black\" d=\"M1062.5,-187C1062.5,-187 961.5,-187 961.5,-187 955.5,-187 949.5,-181 949.5,-175 949.5,-175 949.5,-116 949.5,-116 949.5,-110 955.5,-104 961.5,-104 961.5,-104 1062.5,-104 1062.5,-104 1068.5,-104 1074.5,-110 1074.5,-116 1074.5,-116 1074.5,-175 1074.5,-175 1074.5,-181 1068.5,-187 1062.5,-187\"/>\n<text text-anchor=\"middle\" x=\"1012\" y=\"-171.8\" font-family=\"Helvetica,sans-Serif\" font-size=\"14.00\">day &lt;= 29.5</text>\n<text text-anchor=\"middle\" x=\"1012\" y=\"-156.8\" font-family=\"Helvetica,sans-Serif\" font-size=\"14.00\">gini = 0.134</text>\n<text text-anchor=\"middle\" x=\"1012\" y=\"-141.8\" font-family=\"Helvetica,sans-Serif\" font-size=\"14.00\">samples = 97</text>\n<text text-anchor=\"middle\" x=\"1012\" y=\"-126.8\" font-family=\"Helvetica,sans-Serif\" font-size=\"14.00\">value = [7.0, 90.0]</text>\n<text text-anchor=\"middle\" x=\"1012\" y=\"-111.8\" font-family=\"Helvetica,sans-Serif\" font-size=\"14.00\">class = above</text>\n</g>\n<!-- 15&#45;&gt;19 -->\n<g id=\"edge19\" class=\"edge\">\n<title>15&#45;&gt;19</title>\n<path fill=\"none\" stroke=\"black\" d=\"M967.59,-222.91C972.66,-214.2 978.06,-204.9 983.29,-195.89\"/>\n<polygon fill=\"black\" stroke=\"black\" points=\"986.45,-197.43 988.45,-187.02 980.4,-193.91 986.45,-197.43\"/>\n</g>\n<!-- 17 -->\n<g id=\"node18\" class=\"node\">\n<title>17</title>\n<path fill=\"#fcf2eb\" stroke=\"black\" d=\"M804,-68C804,-68 726,-68 726,-68 720,-68 714,-62 714,-56 714,-56 714,-12 714,-12 714,-6 720,0 726,0 726,0 804,0 804,0 810,0 816,-6 816,-12 816,-12 816,-56 816,-56 816,-62 810,-68 804,-68\"/>\n<text text-anchor=\"middle\" x=\"765\" y=\"-52.8\" font-family=\"Helvetica,sans-Serif\" font-size=\"14.00\">gini = 0.499</text>\n<text text-anchor=\"middle\" x=\"765\" y=\"-37.8\" font-family=\"Helvetica,sans-Serif\" font-size=\"14.00\">samples = 19</text>\n<text text-anchor=\"middle\" x=\"765\" y=\"-22.8\" font-family=\"Helvetica,sans-Serif\" font-size=\"14.00\">value = [10, 9]</text>\n<text text-anchor=\"middle\" x=\"765\" y=\"-7.8\" font-family=\"Helvetica,sans-Serif\" font-size=\"14.00\">class = below</text>\n</g>\n<!-- 16&#45;&gt;17 -->\n<g id=\"edge17\" class=\"edge\">\n<title>16&#45;&gt;17</title>\n<path fill=\"none\" stroke=\"black\" d=\"M834.67,-103.73C825.33,-94.51 815.42,-84.74 806.09,-75.53\"/>\n<polygon fill=\"black\" stroke=\"black\" points=\"808.33,-72.83 798.76,-68.3 803.42,-77.81 808.33,-72.83\"/>\n</g>\n<!-- 18 -->\n<g id=\"node19\" class=\"node\">\n<title>18</title>\n<path fill=\"#399de5\" stroke=\"black\" d=\"M922,-68C922,-68 846,-68 846,-68 840,-68 834,-62 834,-56 834,-56 834,-12 834,-12 834,-6 840,0 846,0 846,0 922,0 922,0 928,0 934,-6 934,-12 934,-12 934,-56 934,-56 934,-62 928,-68 922,-68\"/>\n<text text-anchor=\"middle\" x=\"884\" y=\"-52.8\" font-family=\"Helvetica,sans-Serif\" font-size=\"14.00\">gini = 0.0</text>\n<text text-anchor=\"middle\" x=\"884\" y=\"-37.8\" font-family=\"Helvetica,sans-Serif\" font-size=\"14.00\">samples = 8</text>\n<text text-anchor=\"middle\" x=\"884\" y=\"-22.8\" font-family=\"Helvetica,sans-Serif\" font-size=\"14.00\">value = [0, 8]</text>\n<text text-anchor=\"middle\" x=\"884\" y=\"-7.8\" font-family=\"Helvetica,sans-Serif\" font-size=\"14.00\">class = above</text>\n</g>\n<!-- 16&#45;&gt;18 -->\n<g id=\"edge18\" class=\"edge\">\n<title>16&#45;&gt;18</title>\n<path fill=\"none\" stroke=\"black\" d=\"M878.98,-103.73C879.59,-95.43 880.23,-86.67 880.84,-78.28\"/>\n<polygon fill=\"black\" stroke=\"black\" points=\"884.33,-78.53 881.57,-68.3 877.35,-78.02 884.33,-78.53\"/>\n</g>\n<!-- 20 -->\n<g id=\"node21\" class=\"node\">\n<title>20</title>\n<path fill=\"#44a3e6\" stroke=\"black\" d=\"M1042,-68C1042,-68 964,-68 964,-68 958,-68 952,-62 952,-56 952,-56 952,-12 952,-12 952,-6 958,0 964,0 964,0 1042,0 1042,0 1048,0 1054,-6 1054,-12 1054,-12 1054,-56 1054,-56 1054,-62 1048,-68 1042,-68\"/>\n<text text-anchor=\"middle\" x=\"1003\" y=\"-52.8\" font-family=\"Helvetica,sans-Serif\" font-size=\"14.00\">gini = 0.103</text>\n<text text-anchor=\"middle\" x=\"1003\" y=\"-37.8\" font-family=\"Helvetica,sans-Serif\" font-size=\"14.00\">samples = 92</text>\n<text text-anchor=\"middle\" x=\"1003\" y=\"-22.8\" font-family=\"Helvetica,sans-Serif\" font-size=\"14.00\">value = [5, 87]</text>\n<text text-anchor=\"middle\" x=\"1003\" y=\"-7.8\" font-family=\"Helvetica,sans-Serif\" font-size=\"14.00\">class = above</text>\n</g>\n<!-- 19&#45;&gt;20 -->\n<g id=\"edge20\" class=\"edge\">\n<title>19&#45;&gt;20</title>\n<path fill=\"none\" stroke=\"black\" d=\"M1008.65,-103.73C1007.97,-95.43 1007.25,-86.67 1006.56,-78.28\"/>\n<polygon fill=\"black\" stroke=\"black\" points=\"1010.04,-77.98 1005.74,-68.3 1003.07,-78.55 1010.04,-77.98\"/>\n</g>\n<!-- 21 -->\n<g id=\"node22\" class=\"node\">\n<title>21</title>\n<path fill=\"#bddef6\" stroke=\"black\" d=\"M1160,-68C1160,-68 1084,-68 1084,-68 1078,-68 1072,-62 1072,-56 1072,-56 1072,-12 1072,-12 1072,-6 1078,0 1084,0 1084,0 1160,0 1160,0 1166,0 1172,-6 1172,-12 1172,-12 1172,-56 1172,-56 1172,-62 1166,-68 1160,-68\"/>\n<text text-anchor=\"middle\" x=\"1122\" y=\"-52.8\" font-family=\"Helvetica,sans-Serif\" font-size=\"14.00\">gini = 0.48</text>\n<text text-anchor=\"middle\" x=\"1122\" y=\"-37.8\" font-family=\"Helvetica,sans-Serif\" font-size=\"14.00\">samples = 5</text>\n<text text-anchor=\"middle\" x=\"1122\" y=\"-22.8\" font-family=\"Helvetica,sans-Serif\" font-size=\"14.00\">value = [2, 3]</text>\n<text text-anchor=\"middle\" x=\"1122\" y=\"-7.8\" font-family=\"Helvetica,sans-Serif\" font-size=\"14.00\">class = above</text>\n</g>\n<!-- 19&#45;&gt;21 -->\n<g id=\"edge21\" class=\"edge\">\n<title>19&#45;&gt;21</title>\n<path fill=\"none\" stroke=\"black\" d=\"M1052.96,-103.73C1062.21,-94.51 1072.04,-84.74 1081.28,-75.53\"/>\n<polygon fill=\"black\" stroke=\"black\" points=\"1083.93,-77.84 1088.55,-68.3 1078.99,-72.87 1083.93,-77.84\"/>\n</g>\n<!-- 23 -->\n<g id=\"node24\" class=\"node\">\n<title>23</title>\n<path fill=\"#7ebfee\" stroke=\"black\" d=\"M1338,-187C1338,-187 1260,-187 1260,-187 1254,-187 1248,-181 1248,-175 1248,-175 1248,-116 1248,-116 1248,-110 1254,-104 1260,-104 1260,-104 1338,-104 1338,-104 1344,-104 1350,-110 1350,-116 1350,-116 1350,-175 1350,-175 1350,-181 1344,-187 1338,-187\"/>\n<text text-anchor=\"middle\" x=\"1299\" y=\"-171.8\" font-family=\"Helvetica,sans-Serif\" font-size=\"14.00\">day &lt;= 15.5</text>\n<text text-anchor=\"middle\" x=\"1299\" y=\"-156.8\" font-family=\"Helvetica,sans-Serif\" font-size=\"14.00\">gini = 0.384</text>\n<text text-anchor=\"middle\" x=\"1299\" y=\"-141.8\" font-family=\"Helvetica,sans-Serif\" font-size=\"14.00\">samples = 27</text>\n<text text-anchor=\"middle\" x=\"1299\" y=\"-126.8\" font-family=\"Helvetica,sans-Serif\" font-size=\"14.00\">value = [7, 20]</text>\n<text text-anchor=\"middle\" x=\"1299\" y=\"-111.8\" font-family=\"Helvetica,sans-Serif\" font-size=\"14.00\">class = above</text>\n</g>\n<!-- 22&#45;&gt;23 -->\n<g id=\"edge23\" class=\"edge\">\n<title>22&#45;&gt;23</title>\n<path fill=\"none\" stroke=\"black\" d=\"M1299,-222.91C1299,-214.65 1299,-205.86 1299,-197.3\"/>\n<polygon fill=\"black\" stroke=\"black\" points=\"1302.5,-197.02 1299,-187.02 1295.5,-197.02 1302.5,-197.02\"/>\n</g>\n<!-- 26 -->\n<g id=\"node27\" class=\"node\">\n<title>26</title>\n<path fill=\"#eca36f\" stroke=\"black\" d=\"M1516,-187C1516,-187 1438,-187 1438,-187 1432,-187 1426,-181 1426,-175 1426,-175 1426,-116 1426,-116 1426,-110 1432,-104 1438,-104 1438,-104 1516,-104 1516,-104 1522,-104 1528,-110 1528,-116 1528,-116 1528,-175 1528,-175 1528,-181 1522,-187 1516,-187\"/>\n<text text-anchor=\"middle\" x=\"1477\" y=\"-171.8\" font-family=\"Helvetica,sans-Serif\" font-size=\"14.00\">day &lt;= 26.5</text>\n<text text-anchor=\"middle\" x=\"1477\" y=\"-156.8\" font-family=\"Helvetica,sans-Serif\" font-size=\"14.00\">gini = 0.337</text>\n<text text-anchor=\"middle\" x=\"1477\" y=\"-141.8\" font-family=\"Helvetica,sans-Serif\" font-size=\"14.00\">samples = 14</text>\n<text text-anchor=\"middle\" x=\"1477\" y=\"-126.8\" font-family=\"Helvetica,sans-Serif\" font-size=\"14.00\">value = [11, 3]</text>\n<text text-anchor=\"middle\" x=\"1477\" y=\"-111.8\" font-family=\"Helvetica,sans-Serif\" font-size=\"14.00\">class = below</text>\n</g>\n<!-- 22&#45;&gt;26 -->\n<g id=\"edge26\" class=\"edge\">\n<title>22&#45;&gt;26</title>\n<path fill=\"none\" stroke=\"black\" d=\"M1360.76,-222.91C1379.05,-210.88 1399.04,-197.74 1417.21,-185.8\"/>\n<polygon fill=\"black\" stroke=\"black\" points=\"1419.53,-188.46 1425.97,-180.04 1415.69,-182.61 1419.53,-188.46\"/>\n</g>\n<!-- 24 -->\n<g id=\"node25\" class=\"node\">\n<title>24</title>\n<path fill=\"#9ccef2\" stroke=\"black\" d=\"M1280,-68C1280,-68 1202,-68 1202,-68 1196,-68 1190,-62 1190,-56 1190,-56 1190,-12 1190,-12 1190,-6 1196,0 1202,0 1202,0 1280,0 1280,0 1286,0 1292,-6 1292,-12 1292,-12 1292,-56 1292,-56 1292,-62 1286,-68 1280,-68\"/>\n<text text-anchor=\"middle\" x=\"1241\" y=\"-52.8\" font-family=\"Helvetica,sans-Serif\" font-size=\"14.00\">gini = 0.444</text>\n<text text-anchor=\"middle\" x=\"1241\" y=\"-37.8\" font-family=\"Helvetica,sans-Serif\" font-size=\"14.00\">samples = 21</text>\n<text text-anchor=\"middle\" x=\"1241\" y=\"-22.8\" font-family=\"Helvetica,sans-Serif\" font-size=\"14.00\">value = [7, 14]</text>\n<text text-anchor=\"middle\" x=\"1241\" y=\"-7.8\" font-family=\"Helvetica,sans-Serif\" font-size=\"14.00\">class = above</text>\n</g>\n<!-- 23&#45;&gt;24 -->\n<g id=\"edge24\" class=\"edge\">\n<title>23&#45;&gt;24</title>\n<path fill=\"none\" stroke=\"black\" d=\"M1277.4,-103.73C1272.81,-95.06 1267.96,-85.9 1263.34,-77.18\"/>\n<polygon fill=\"black\" stroke=\"black\" points=\"1266.41,-75.5 1258.64,-68.3 1260.23,-78.77 1266.41,-75.5\"/>\n</g>\n<!-- 25 -->\n<g id=\"node26\" class=\"node\">\n<title>25</title>\n<path fill=\"#399de5\" stroke=\"black\" d=\"M1398,-68C1398,-68 1322,-68 1322,-68 1316,-68 1310,-62 1310,-56 1310,-56 1310,-12 1310,-12 1310,-6 1316,0 1322,0 1322,0 1398,0 1398,0 1404,0 1410,-6 1410,-12 1410,-12 1410,-56 1410,-56 1410,-62 1404,-68 1398,-68\"/>\n<text text-anchor=\"middle\" x=\"1360\" y=\"-52.8\" font-family=\"Helvetica,sans-Serif\" font-size=\"14.00\">gini = 0.0</text>\n<text text-anchor=\"middle\" x=\"1360\" y=\"-37.8\" font-family=\"Helvetica,sans-Serif\" font-size=\"14.00\">samples = 6</text>\n<text text-anchor=\"middle\" x=\"1360\" y=\"-22.8\" font-family=\"Helvetica,sans-Serif\" font-size=\"14.00\">value = [0, 6]</text>\n<text text-anchor=\"middle\" x=\"1360\" y=\"-7.8\" font-family=\"Helvetica,sans-Serif\" font-size=\"14.00\">class = above</text>\n</g>\n<!-- 23&#45;&gt;25 -->\n<g id=\"edge25\" class=\"edge\">\n<title>23&#45;&gt;25</title>\n<path fill=\"none\" stroke=\"black\" d=\"M1321.71,-103.73C1326.54,-95.06 1331.65,-85.9 1336.5,-77.18\"/>\n<polygon fill=\"black\" stroke=\"black\" points=\"1339.64,-78.74 1341.45,-68.3 1333.53,-75.33 1339.64,-78.74\"/>\n</g>\n<!-- 27 -->\n<g id=\"node28\" class=\"node\">\n<title>27</title>\n<path fill=\"#e58139\" stroke=\"black\" d=\"M1514,-68C1514,-68 1440,-68 1440,-68 1434,-68 1428,-62 1428,-56 1428,-56 1428,-12 1428,-12 1428,-6 1434,0 1440,0 1440,0 1514,0 1514,0 1520,0 1526,-6 1526,-12 1526,-12 1526,-56 1526,-56 1526,-62 1520,-68 1514,-68\"/>\n<text text-anchor=\"middle\" x=\"1477\" y=\"-52.8\" font-family=\"Helvetica,sans-Serif\" font-size=\"14.00\">gini = 0.0</text>\n<text text-anchor=\"middle\" x=\"1477\" y=\"-37.8\" font-family=\"Helvetica,sans-Serif\" font-size=\"14.00\">samples = 8</text>\n<text text-anchor=\"middle\" x=\"1477\" y=\"-22.8\" font-family=\"Helvetica,sans-Serif\" font-size=\"14.00\">value = [8, 0]</text>\n<text text-anchor=\"middle\" x=\"1477\" y=\"-7.8\" font-family=\"Helvetica,sans-Serif\" font-size=\"14.00\">class = below</text>\n</g>\n<!-- 26&#45;&gt;27 -->\n<g id=\"edge27\" class=\"edge\">\n<title>26&#45;&gt;27</title>\n<path fill=\"none\" stroke=\"black\" d=\"M1477,-103.73C1477,-95.52 1477,-86.86 1477,-78.56\"/>\n<polygon fill=\"black\" stroke=\"black\" points=\"1480.5,-78.3 1477,-68.3 1473.5,-78.3 1480.5,-78.3\"/>\n</g>\n<!-- 28 -->\n<g id=\"node29\" class=\"node\">\n<title>28</title>\n<path fill=\"#ffffff\" stroke=\"black\" d=\"M1630,-68C1630,-68 1556,-68 1556,-68 1550,-68 1544,-62 1544,-56 1544,-56 1544,-12 1544,-12 1544,-6 1550,0 1556,0 1556,0 1630,0 1630,0 1636,0 1642,-6 1642,-12 1642,-12 1642,-56 1642,-56 1642,-62 1636,-68 1630,-68\"/>\n<text text-anchor=\"middle\" x=\"1593\" y=\"-52.8\" font-family=\"Helvetica,sans-Serif\" font-size=\"14.00\">gini = 0.5</text>\n<text text-anchor=\"middle\" x=\"1593\" y=\"-37.8\" font-family=\"Helvetica,sans-Serif\" font-size=\"14.00\">samples = 6</text>\n<text text-anchor=\"middle\" x=\"1593\" y=\"-22.8\" font-family=\"Helvetica,sans-Serif\" font-size=\"14.00\">value = [3, 3]</text>\n<text text-anchor=\"middle\" x=\"1593\" y=\"-7.8\" font-family=\"Helvetica,sans-Serif\" font-size=\"14.00\">class = below</text>\n</g>\n<!-- 26&#45;&gt;28 -->\n<g id=\"edge28\" class=\"edge\">\n<title>26&#45;&gt;28</title>\n<path fill=\"none\" stroke=\"black\" d=\"M1520.19,-103.73C1530.05,-94.42 1540.52,-84.54 1550.35,-75.26\"/>\n<polygon fill=\"black\" stroke=\"black\" points=\"1552.85,-77.71 1557.72,-68.3 1548.05,-72.62 1552.85,-77.71\"/>\n</g>\n</g>\n</svg>\n",
            "text/plain": [
              "<graphviz.sources.Source at 0x7b5800860590>"
            ]
          },
          "metadata": {},
          "execution_count": 73
        }
      ]
    },
    {
      "cell_type": "markdown",
      "source": [
        "# DT and RF: **Digits** data\n",
        "\n",
        "Next, you'll do the same thing on the digits dataset...\n",
        "\n",
        "Same suggestion as before!\n"
      ],
      "metadata": {
        "id": "Lhj8QfkH-byj"
      }
    },
    {
      "cell_type": "markdown",
      "source": [
        "Notice that you're getting more and more practice with the \"modeling workflow.\"\n",
        "\n",
        "It's not an exaggeration to say that this is, in essence, what all ML/modeling efforts look-and-feel like!"
      ],
      "metadata": {
        "id": "Vvrqzzjv-h0U"
      }
    },
    {
      "cell_type": "markdown",
      "source": [
        "<br><br>\n",
        "\n",
        "a placeholder text cell"
      ],
      "metadata": {
        "id": "SEO750qS-vi0"
      }
    },
    {
      "cell_type": "code",
      "source": [
        "import pandas as pd\n",
        "\n",
        "digits = pd.read_csv(\"digits.csv\")\n",
        "digits.head()\n"
      ],
      "metadata": {
        "id": "kCfuNVX6-wxm",
        "colab": {
          "base_uri": "https://localhost:8080/",
          "height": 273
        },
        "outputId": "3c2c764c-6146-4f36-e245-e4e2ef856174"
      },
      "execution_count": null,
      "outputs": [
        {
          "output_type": "execute_result",
          "data": {
            "text/plain": [
              "   pix0  pix1  pix2  pix3  pix4  pix5  pix6  pix7  pix8  pix9  ...  pix56  \\\n",
              "0     0     0     9    14     8     1     0     0     0     0  ...      0   \n",
              "1     0     0    11    12     0     0     0     0     0     2  ...      0   \n",
              "2     0     0     1     9    15    11     0     0     0     0  ...      0   \n",
              "3     0     0     0     0    14    13     1     0     0     0  ...      0   \n",
              "4     0     0     5    12     1     0     0     0     0     0  ...      0   \n",
              "\n",
              "   pix57  pix58  pix59  pix60  pix61  pix62  pix63  actual_digit  \\\n",
              "0      0     11     16     15     11      1      0             8   \n",
              "1      0      9     12     13      3      0      0             9   \n",
              "2      0      1     10     13      3      0      0             0   \n",
              "3      0      0      1     13     16      1      0             1   \n",
              "4      0      3     11      8     13     12      4             2   \n",
              "\n",
              "   excerpted from http://yann.lecun.com/exdb/mnist/  \n",
              "0                                               NaN  \n",
              "1                                               NaN  \n",
              "2                                               NaN  \n",
              "3                                               NaN  \n",
              "4                                               NaN  \n",
              "\n",
              "[5 rows x 66 columns]"
            ],
            "text/html": [
              "\n",
              "  <div id=\"df-f0166c9f-4d7a-460b-a737-7bd994824ba9\" class=\"colab-df-container\">\n",
              "    <div>\n",
              "<style scoped>\n",
              "    .dataframe tbody tr th:only-of-type {\n",
              "        vertical-align: middle;\n",
              "    }\n",
              "\n",
              "    .dataframe tbody tr th {\n",
              "        vertical-align: top;\n",
              "    }\n",
              "\n",
              "    .dataframe thead th {\n",
              "        text-align: right;\n",
              "    }\n",
              "</style>\n",
              "<table border=\"1\" class=\"dataframe\">\n",
              "  <thead>\n",
              "    <tr style=\"text-align: right;\">\n",
              "      <th></th>\n",
              "      <th>pix0</th>\n",
              "      <th>pix1</th>\n",
              "      <th>pix2</th>\n",
              "      <th>pix3</th>\n",
              "      <th>pix4</th>\n",
              "      <th>pix5</th>\n",
              "      <th>pix6</th>\n",
              "      <th>pix7</th>\n",
              "      <th>pix8</th>\n",
              "      <th>pix9</th>\n",
              "      <th>...</th>\n",
              "      <th>pix56</th>\n",
              "      <th>pix57</th>\n",
              "      <th>pix58</th>\n",
              "      <th>pix59</th>\n",
              "      <th>pix60</th>\n",
              "      <th>pix61</th>\n",
              "      <th>pix62</th>\n",
              "      <th>pix63</th>\n",
              "      <th>actual_digit</th>\n",
              "      <th>excerpted from http://yann.lecun.com/exdb/mnist/</th>\n",
              "    </tr>\n",
              "  </thead>\n",
              "  <tbody>\n",
              "    <tr>\n",
              "      <th>0</th>\n",
              "      <td>0</td>\n",
              "      <td>0</td>\n",
              "      <td>9</td>\n",
              "      <td>14</td>\n",
              "      <td>8</td>\n",
              "      <td>1</td>\n",
              "      <td>0</td>\n",
              "      <td>0</td>\n",
              "      <td>0</td>\n",
              "      <td>0</td>\n",
              "      <td>...</td>\n",
              "      <td>0</td>\n",
              "      <td>0</td>\n",
              "      <td>11</td>\n",
              "      <td>16</td>\n",
              "      <td>15</td>\n",
              "      <td>11</td>\n",
              "      <td>1</td>\n",
              "      <td>0</td>\n",
              "      <td>8</td>\n",
              "      <td>NaN</td>\n",
              "    </tr>\n",
              "    <tr>\n",
              "      <th>1</th>\n",
              "      <td>0</td>\n",
              "      <td>0</td>\n",
              "      <td>11</td>\n",
              "      <td>12</td>\n",
              "      <td>0</td>\n",
              "      <td>0</td>\n",
              "      <td>0</td>\n",
              "      <td>0</td>\n",
              "      <td>0</td>\n",
              "      <td>2</td>\n",
              "      <td>...</td>\n",
              "      <td>0</td>\n",
              "      <td>0</td>\n",
              "      <td>9</td>\n",
              "      <td>12</td>\n",
              "      <td>13</td>\n",
              "      <td>3</td>\n",
              "      <td>0</td>\n",
              "      <td>0</td>\n",
              "      <td>9</td>\n",
              "      <td>NaN</td>\n",
              "    </tr>\n",
              "    <tr>\n",
              "      <th>2</th>\n",
              "      <td>0</td>\n",
              "      <td>0</td>\n",
              "      <td>1</td>\n",
              "      <td>9</td>\n",
              "      <td>15</td>\n",
              "      <td>11</td>\n",
              "      <td>0</td>\n",
              "      <td>0</td>\n",
              "      <td>0</td>\n",
              "      <td>0</td>\n",
              "      <td>...</td>\n",
              "      <td>0</td>\n",
              "      <td>0</td>\n",
              "      <td>1</td>\n",
              "      <td>10</td>\n",
              "      <td>13</td>\n",
              "      <td>3</td>\n",
              "      <td>0</td>\n",
              "      <td>0</td>\n",
              "      <td>0</td>\n",
              "      <td>NaN</td>\n",
              "    </tr>\n",
              "    <tr>\n",
              "      <th>3</th>\n",
              "      <td>0</td>\n",
              "      <td>0</td>\n",
              "      <td>0</td>\n",
              "      <td>0</td>\n",
              "      <td>14</td>\n",
              "      <td>13</td>\n",
              "      <td>1</td>\n",
              "      <td>0</td>\n",
              "      <td>0</td>\n",
              "      <td>0</td>\n",
              "      <td>...</td>\n",
              "      <td>0</td>\n",
              "      <td>0</td>\n",
              "      <td>0</td>\n",
              "      <td>1</td>\n",
              "      <td>13</td>\n",
              "      <td>16</td>\n",
              "      <td>1</td>\n",
              "      <td>0</td>\n",
              "      <td>1</td>\n",
              "      <td>NaN</td>\n",
              "    </tr>\n",
              "    <tr>\n",
              "      <th>4</th>\n",
              "      <td>0</td>\n",
              "      <td>0</td>\n",
              "      <td>5</td>\n",
              "      <td>12</td>\n",
              "      <td>1</td>\n",
              "      <td>0</td>\n",
              "      <td>0</td>\n",
              "      <td>0</td>\n",
              "      <td>0</td>\n",
              "      <td>0</td>\n",
              "      <td>...</td>\n",
              "      <td>0</td>\n",
              "      <td>0</td>\n",
              "      <td>3</td>\n",
              "      <td>11</td>\n",
              "      <td>8</td>\n",
              "      <td>13</td>\n",
              "      <td>12</td>\n",
              "      <td>4</td>\n",
              "      <td>2</td>\n",
              "      <td>NaN</td>\n",
              "    </tr>\n",
              "  </tbody>\n",
              "</table>\n",
              "<p>5 rows × 66 columns</p>\n",
              "</div>\n",
              "    <div class=\"colab-df-buttons\">\n",
              "\n",
              "  <div class=\"colab-df-container\">\n",
              "    <button class=\"colab-df-convert\" onclick=\"convertToInteractive('df-f0166c9f-4d7a-460b-a737-7bd994824ba9')\"\n",
              "            title=\"Convert this dataframe to an interactive table.\"\n",
              "            style=\"display:none;\">\n",
              "\n",
              "  <svg xmlns=\"http://www.w3.org/2000/svg\" height=\"24px\" viewBox=\"0 -960 960 960\">\n",
              "    <path d=\"M120-120v-720h720v720H120Zm60-500h600v-160H180v160Zm220 220h160v-160H400v160Zm0 220h160v-160H400v160ZM180-400h160v-160H180v160Zm440 0h160v-160H620v160ZM180-180h160v-160H180v160Zm440 0h160v-160H620v160Z\"/>\n",
              "  </svg>\n",
              "    </button>\n",
              "\n",
              "  <style>\n",
              "    .colab-df-container {\n",
              "      display:flex;\n",
              "      gap: 12px;\n",
              "    }\n",
              "\n",
              "    .colab-df-convert {\n",
              "      background-color: #E8F0FE;\n",
              "      border: none;\n",
              "      border-radius: 50%;\n",
              "      cursor: pointer;\n",
              "      display: none;\n",
              "      fill: #1967D2;\n",
              "      height: 32px;\n",
              "      padding: 0 0 0 0;\n",
              "      width: 32px;\n",
              "    }\n",
              "\n",
              "    .colab-df-convert:hover {\n",
              "      background-color: #E2EBFA;\n",
              "      box-shadow: 0px 1px 2px rgba(60, 64, 67, 0.3), 0px 1px 3px 1px rgba(60, 64, 67, 0.15);\n",
              "      fill: #174EA6;\n",
              "    }\n",
              "\n",
              "    .colab-df-buttons div {\n",
              "      margin-bottom: 4px;\n",
              "    }\n",
              "\n",
              "    [theme=dark] .colab-df-convert {\n",
              "      background-color: #3B4455;\n",
              "      fill: #D2E3FC;\n",
              "    }\n",
              "\n",
              "    [theme=dark] .colab-df-convert:hover {\n",
              "      background-color: #434B5C;\n",
              "      box-shadow: 0px 1px 3px 1px rgba(0, 0, 0, 0.15);\n",
              "      filter: drop-shadow(0px 1px 2px rgba(0, 0, 0, 0.3));\n",
              "      fill: #FFFFFF;\n",
              "    }\n",
              "  </style>\n",
              "\n",
              "    <script>\n",
              "      const buttonEl =\n",
              "        document.querySelector('#df-f0166c9f-4d7a-460b-a737-7bd994824ba9 button.colab-df-convert');\n",
              "      buttonEl.style.display =\n",
              "        google.colab.kernel.accessAllowed ? 'block' : 'none';\n",
              "\n",
              "      async function convertToInteractive(key) {\n",
              "        const element = document.querySelector('#df-f0166c9f-4d7a-460b-a737-7bd994824ba9');\n",
              "        const dataTable =\n",
              "          await google.colab.kernel.invokeFunction('convertToInteractive',\n",
              "                                                    [key], {});\n",
              "        if (!dataTable) return;\n",
              "\n",
              "        const docLinkHtml = 'Like what you see? Visit the ' +\n",
              "          '<a target=\"_blank\" href=https://colab.research.google.com/notebooks/data_table.ipynb>data table notebook</a>'\n",
              "          + ' to learn more about interactive tables.';\n",
              "        element.innerHTML = '';\n",
              "        dataTable['output_type'] = 'display_data';\n",
              "        await google.colab.output.renderOutput(dataTable, element);\n",
              "        const docLink = document.createElement('div');\n",
              "        docLink.innerHTML = docLinkHtml;\n",
              "        element.appendChild(docLink);\n",
              "      }\n",
              "    </script>\n",
              "  </div>\n",
              "\n",
              "\n",
              "<div id=\"df-3c8af5fe-b52e-4921-9fc1-bb1b6c485c20\">\n",
              "  <button class=\"colab-df-quickchart\" onclick=\"quickchart('df-3c8af5fe-b52e-4921-9fc1-bb1b6c485c20')\"\n",
              "            title=\"Suggest charts\"\n",
              "            style=\"display:none;\">\n",
              "\n",
              "<svg xmlns=\"http://www.w3.org/2000/svg\" height=\"24px\"viewBox=\"0 0 24 24\"\n",
              "     width=\"24px\">\n",
              "    <g>\n",
              "        <path d=\"M19 3H5c-1.1 0-2 .9-2 2v14c0 1.1.9 2 2 2h14c1.1 0 2-.9 2-2V5c0-1.1-.9-2-2-2zM9 17H7v-7h2v7zm4 0h-2V7h2v10zm4 0h-2v-4h2v4z\"/>\n",
              "    </g>\n",
              "</svg>\n",
              "  </button>\n",
              "\n",
              "<style>\n",
              "  .colab-df-quickchart {\n",
              "      --bg-color: #E8F0FE;\n",
              "      --fill-color: #1967D2;\n",
              "      --hover-bg-color: #E2EBFA;\n",
              "      --hover-fill-color: #174EA6;\n",
              "      --disabled-fill-color: #AAA;\n",
              "      --disabled-bg-color: #DDD;\n",
              "  }\n",
              "\n",
              "  [theme=dark] .colab-df-quickchart {\n",
              "      --bg-color: #3B4455;\n",
              "      --fill-color: #D2E3FC;\n",
              "      --hover-bg-color: #434B5C;\n",
              "      --hover-fill-color: #FFFFFF;\n",
              "      --disabled-bg-color: #3B4455;\n",
              "      --disabled-fill-color: #666;\n",
              "  }\n",
              "\n",
              "  .colab-df-quickchart {\n",
              "    background-color: var(--bg-color);\n",
              "    border: none;\n",
              "    border-radius: 50%;\n",
              "    cursor: pointer;\n",
              "    display: none;\n",
              "    fill: var(--fill-color);\n",
              "    height: 32px;\n",
              "    padding: 0;\n",
              "    width: 32px;\n",
              "  }\n",
              "\n",
              "  .colab-df-quickchart:hover {\n",
              "    background-color: var(--hover-bg-color);\n",
              "    box-shadow: 0 1px 2px rgba(60, 64, 67, 0.3), 0 1px 3px 1px rgba(60, 64, 67, 0.15);\n",
              "    fill: var(--button-hover-fill-color);\n",
              "  }\n",
              "\n",
              "  .colab-df-quickchart-complete:disabled,\n",
              "  .colab-df-quickchart-complete:disabled:hover {\n",
              "    background-color: var(--disabled-bg-color);\n",
              "    fill: var(--disabled-fill-color);\n",
              "    box-shadow: none;\n",
              "  }\n",
              "\n",
              "  .colab-df-spinner {\n",
              "    border: 2px solid var(--fill-color);\n",
              "    border-color: transparent;\n",
              "    border-bottom-color: var(--fill-color);\n",
              "    animation:\n",
              "      spin 1s steps(1) infinite;\n",
              "  }\n",
              "\n",
              "  @keyframes spin {\n",
              "    0% {\n",
              "      border-color: transparent;\n",
              "      border-bottom-color: var(--fill-color);\n",
              "      border-left-color: var(--fill-color);\n",
              "    }\n",
              "    20% {\n",
              "      border-color: transparent;\n",
              "      border-left-color: var(--fill-color);\n",
              "      border-top-color: var(--fill-color);\n",
              "    }\n",
              "    30% {\n",
              "      border-color: transparent;\n",
              "      border-left-color: var(--fill-color);\n",
              "      border-top-color: var(--fill-color);\n",
              "      border-right-color: var(--fill-color);\n",
              "    }\n",
              "    40% {\n",
              "      border-color: transparent;\n",
              "      border-right-color: var(--fill-color);\n",
              "      border-top-color: var(--fill-color);\n",
              "    }\n",
              "    60% {\n",
              "      border-color: transparent;\n",
              "      border-right-color: var(--fill-color);\n",
              "    }\n",
              "    80% {\n",
              "      border-color: transparent;\n",
              "      border-right-color: var(--fill-color);\n",
              "      border-bottom-color: var(--fill-color);\n",
              "    }\n",
              "    90% {\n",
              "      border-color: transparent;\n",
              "      border-bottom-color: var(--fill-color);\n",
              "    }\n",
              "  }\n",
              "</style>\n",
              "\n",
              "  <script>\n",
              "    async function quickchart(key) {\n",
              "      const quickchartButtonEl =\n",
              "        document.querySelector('#' + key + ' button');\n",
              "      quickchartButtonEl.disabled = true;  // To prevent multiple clicks.\n",
              "      quickchartButtonEl.classList.add('colab-df-spinner');\n",
              "      try {\n",
              "        const charts = await google.colab.kernel.invokeFunction(\n",
              "            'suggestCharts', [key], {});\n",
              "      } catch (error) {\n",
              "        console.error('Error during call to suggestCharts:', error);\n",
              "      }\n",
              "      quickchartButtonEl.classList.remove('colab-df-spinner');\n",
              "      quickchartButtonEl.classList.add('colab-df-quickchart-complete');\n",
              "    }\n",
              "    (() => {\n",
              "      let quickchartButtonEl =\n",
              "        document.querySelector('#df-3c8af5fe-b52e-4921-9fc1-bb1b6c485c20 button');\n",
              "      quickchartButtonEl.style.display =\n",
              "        google.colab.kernel.accessAllowed ? 'block' : 'none';\n",
              "    })();\n",
              "  </script>\n",
              "</div>\n",
              "\n",
              "    </div>\n",
              "  </div>\n"
            ],
            "application/vnd.google.colaboratory.intrinsic+json": {
              "type": "dataframe",
              "variable_name": "digits"
            }
          },
          "metadata": {},
          "execution_count": 74
        }
      ]
    },
    {
      "cell_type": "code",
      "source": [
        "digits = digits.drop(columns=[\n",
        "    'from http://chmullig.com/2012/06/births-by-day-of-year/'\n",
        "], errors='ignore')\n",
        "\n",
        "# Features are all pix0 to pix63\n",
        "features = [f'pix{i}' for i in range(64)]\n",
        "X = digits[features]\n",
        "y = digits['actual_digit']\n"
      ],
      "metadata": {
        "id": "M3Iv09u4Tu2C"
      },
      "execution_count": null,
      "outputs": []
    },
    {
      "cell_type": "code",
      "source": [
        "from sklearn.model_selection import train_test_split\n",
        "\n",
        "X_train, X_test, y_train, y_test = train_test_split(X, y, random_state=42)\n"
      ],
      "metadata": {
        "id": "vl7kLJRLT14-"
      },
      "execution_count": null,
      "outputs": []
    },
    {
      "cell_type": "code",
      "source": [
        "from sklearn.tree import DecisionTreeClassifier\n",
        "from sklearn.metrics import accuracy_score\n",
        "\n",
        "dt = DecisionTreeClassifier(max_depth=10, random_state=42)\n",
        "dt.fit(X_train, y_train)\n",
        "\n",
        "y_pred_dt = dt.predict(X_test)\n",
        "print(\"Decision Tree Accuracy:\", accuracy_score(y_test, y_pred_dt))\n"
      ],
      "metadata": {
        "colab": {
          "base_uri": "https://localhost:8080/"
        },
        "id": "wbP_jeA7T6Tj",
        "outputId": "cbe9e541-bbd8-4f85-b7e3-ad8db289fdb8"
      },
      "execution_count": null,
      "outputs": [
        {
          "output_type": "stream",
          "name": "stdout",
          "text": [
            "Decision Tree Accuracy: 0.8552036199095022\n"
          ]
        }
      ]
    },
    {
      "cell_type": "code",
      "source": [
        "from sklearn.ensemble import RandomForestClassifier\n",
        "\n",
        "rf = RandomForestClassifier(n_estimators=100, max_depth=10, random_state=42)\n",
        "rf.fit(X_train, y_train)\n",
        "\n",
        "y_pred_rf = rf.predict(X_test)\n",
        "print(\"Random Forest Accuracy:\", accuracy_score(y_test, y_pred_rf))\n"
      ],
      "metadata": {
        "id": "fMBy05MIUASe",
        "outputId": "b90c46fd-33c4-45ab-a57f-7bca8e73f1d0",
        "colab": {
          "base_uri": "https://localhost:8080/"
        }
      },
      "execution_count": null,
      "outputs": [
        {
          "output_type": "stream",
          "name": "stdout",
          "text": [
            "Random Forest Accuracy: 0.9819004524886877\n"
          ]
        }
      ]
    },
    {
      "cell_type": "code",
      "source": [
        "from sklearn.tree import export_graphviz\n",
        "import graphviz\n",
        "\n",
        "dot_dt = export_graphviz(\n",
        "    dt,\n",
        "    feature_names=features,\n",
        "    class_names=[str(i) for i in range(10)],\n",
        "    filled=True,\n",
        "    rounded=True\n",
        ")\n",
        "\n",
        "graphviz.Source(dot_dt)\n"
      ],
      "metadata": {
        "id": "KYi-XqviUC9A",
        "outputId": "184e0fd5-dc9a-435e-d159-12afc579bd2c",
        "colab": {
          "base_uri": "https://localhost:8080/",
          "height": 1000
        }
      },
      "execution_count": null,
      "outputs": [
        {
          "output_type": "execute_result",
          "data": {
            "image/svg+xml": "<?xml version=\"1.0\" encoding=\"UTF-8\" standalone=\"no\"?>\n<!DOCTYPE svg PUBLIC \"-//W3C//DTD SVG 1.1//EN\"\n \"http://www.w3.org/Graphics/SVG/1.1/DTD/svg11.dtd\">\n<!-- Generated by graphviz version 2.43.0 (0)\n -->\n<!-- Title: Tree Pages: 1 -->\n<svg width=\"17241pt\" height=\"1341pt\"\n viewBox=\"0.00 0.00 17241.00 1341.00\" xmlns=\"http://www.w3.org/2000/svg\" xmlns:xlink=\"http://www.w3.org/1999/xlink\">\n<g id=\"graph0\" class=\"graph\" transform=\"scale(1 1) rotate(0) translate(4 1337)\">\n<title>Tree</title>\n<polygon fill=\"white\" stroke=\"transparent\" points=\"-4,4 -4,-1337 17237,-1337 17237,4 -4,4\"/>\n<!-- 0 -->\n<g id=\"node1\" class=\"node\">\n<title>0</title>\n<path fill=\"#feffff\" stroke=\"black\" d=\"M3921,-1333C3921,-1333 3580,-1333 3580,-1333 3574,-1333 3568,-1327 3568,-1321 3568,-1321 3568,-1262 3568,-1262 3568,-1256 3574,-1250 3580,-1250 3580,-1250 3921,-1250 3921,-1250 3927,-1250 3933,-1256 3933,-1262 3933,-1262 3933,-1321 3933,-1321 3933,-1327 3927,-1333 3921,-1333\"/>\n<text text-anchor=\"middle\" x=\"3750.5\" y=\"-1317.8\" font-family=\"Helvetica,sans-Serif\" font-size=\"14.00\">pix36 &lt;= 0.5</text>\n<text text-anchor=\"middle\" x=\"3750.5\" y=\"-1302.8\" font-family=\"Helvetica,sans-Serif\" font-size=\"14.00\">gini = 0.9</text>\n<text text-anchor=\"middle\" x=\"3750.5\" y=\"-1287.8\" font-family=\"Helvetica,sans-Serif\" font-size=\"14.00\">samples = 1326</text>\n<text text-anchor=\"middle\" x=\"3750.5\" y=\"-1272.8\" font-family=\"Helvetica,sans-Serif\" font-size=\"14.00\">value = [137, 134, 130, 125, 129, 143, 133, 131, 133, 131]</text>\n<text text-anchor=\"middle\" x=\"3750.5\" y=\"-1257.8\" font-family=\"Helvetica,sans-Serif\" font-size=\"14.00\">class = 5</text>\n</g>\n<!-- 1 -->\n<g id=\"node2\" class=\"node\">\n<title>1</title>\n<path fill=\"#f1ba92\" stroke=\"black\" d=\"M2216,-1206.5C2216,-1206.5 1995,-1206.5 1995,-1206.5 1989,-1206.5 1983,-1200.5 1983,-1194.5 1983,-1194.5 1983,-1135.5 1983,-1135.5 1983,-1129.5 1989,-1123.5 1995,-1123.5 1995,-1123.5 2216,-1123.5 2216,-1123.5 2222,-1123.5 2228,-1129.5 2228,-1135.5 2228,-1135.5 2228,-1194.5 2228,-1194.5 2228,-1200.5 2222,-1206.5 2216,-1206.5\"/>\n<text text-anchor=\"middle\" x=\"2105.5\" y=\"-1191.3\" font-family=\"Helvetica,sans-Serif\" font-size=\"14.00\">pix28 &lt;= 4.5</text>\n<text text-anchor=\"middle\" x=\"2105.5\" y=\"-1176.3\" font-family=\"Helvetica,sans-Serif\" font-size=\"14.00\">gini = 0.541</text>\n<text text-anchor=\"middle\" x=\"2105.5\" y=\"-1161.3\" font-family=\"Helvetica,sans-Serif\" font-size=\"14.00\">samples = 208</text>\n<text text-anchor=\"middle\" x=\"2105.5\" y=\"-1146.3\" font-family=\"Helvetica,sans-Serif\" font-size=\"14.00\">value = [133, 0, 2, 1, 5, 21, 3, 0, 2, 41]</text>\n<text text-anchor=\"middle\" x=\"2105.5\" y=\"-1131.3\" font-family=\"Helvetica,sans-Serif\" font-size=\"14.00\">class = 0</text>\n</g>\n<!-- 0&#45;&gt;1 -->\n<g id=\"edge1\" class=\"edge\">\n<title>0&#45;&gt;1</title>\n<path fill=\"none\" stroke=\"black\" d=\"M3567.78,-1276.67C3233.6,-1251.38 2531.39,-1198.23 2238.36,-1176.05\"/>\n<polygon fill=\"black\" stroke=\"black\" points=\"2238.34,-1172.54 2228.1,-1175.28 2237.81,-1179.52 2238.34,-1172.54\"/>\n<text text-anchor=\"middle\" x=\"2244.4\" y=\"-1190.54\" font-family=\"Helvetica,sans-Serif\" font-size=\"14.00\">True</text>\n</g>\n<!-- 32 -->\n<g id=\"node33\" class=\"node\">\n<title>32</title>\n<path fill=\"#fffffe\" stroke=\"black\" d=\"M4818.5,-1214C4818.5,-1214 4466.5,-1214 4466.5,-1214 4460.5,-1214 4454.5,-1208 4454.5,-1202 4454.5,-1202 4454.5,-1128 4454.5,-1128 4454.5,-1122 4460.5,-1116 4466.5,-1116 4466.5,-1116 4818.5,-1116 4818.5,-1116 4824.5,-1116 4830.5,-1122 4830.5,-1128 4830.5,-1128 4830.5,-1202 4830.5,-1202 4830.5,-1208 4824.5,-1214 4818.5,-1214\"/>\n<text text-anchor=\"middle\" x=\"4642.5\" y=\"-1198.8\" font-family=\"Helvetica,sans-Serif\" font-size=\"14.00\">pix21 &lt;= 0.5</text>\n<text text-anchor=\"middle\" x=\"4642.5\" y=\"-1183.8\" font-family=\"Helvetica,sans-Serif\" font-size=\"14.00\">gini = 0.889</text>\n<text text-anchor=\"middle\" x=\"4642.5\" y=\"-1168.8\" font-family=\"Helvetica,sans-Serif\" font-size=\"14.00\">samples = 1118</text>\n<text text-anchor=\"middle\" x=\"4642.5\" y=\"-1153.8\" font-family=\"Helvetica,sans-Serif\" font-size=\"14.00\">value = [4.0, 134.0, 128.0, 124.0, 124.0, 122.0, 130.0, 131.0</text>\n<text text-anchor=\"middle\" x=\"4642.5\" y=\"-1138.8\" font-family=\"Helvetica,sans-Serif\" font-size=\"14.00\">131.0, 90.0]</text>\n<text text-anchor=\"middle\" x=\"4642.5\" y=\"-1123.8\" font-family=\"Helvetica,sans-Serif\" font-size=\"14.00\">class = 1</text>\n</g>\n<!-- 0&#45;&gt;32 -->\n<g id=\"edge32\" class=\"edge\">\n<title>0&#45;&gt;32</title>\n<path fill=\"none\" stroke=\"black\" d=\"M3933.16,-1265.01C4081.91,-1244.24 4291.55,-1214.98 4444.34,-1193.66\"/>\n<polygon fill=\"black\" stroke=\"black\" points=\"4444.9,-1197.11 4454.32,-1192.26 4443.93,-1190.18 4444.9,-1197.11\"/>\n<text text-anchor=\"middle\" x=\"4439.26\" y=\"-1208.52\" font-family=\"Helvetica,sans-Serif\" font-size=\"14.00\">False</text>\n</g>\n<!-- 2 -->\n<g id=\"node3\" class=\"node\">\n<title>2</title>\n<path fill=\"#e78d4b\" stroke=\"black\" d=\"M1148.5,-1072.5C1148.5,-1072.5 942.5,-1072.5 942.5,-1072.5 936.5,-1072.5 930.5,-1066.5 930.5,-1060.5 930.5,-1060.5 930.5,-1001.5 930.5,-1001.5 930.5,-995.5 936.5,-989.5 942.5,-989.5 942.5,-989.5 1148.5,-989.5 1148.5,-989.5 1154.5,-989.5 1160.5,-995.5 1160.5,-1001.5 1160.5,-1001.5 1160.5,-1060.5 1160.5,-1060.5 1160.5,-1066.5 1154.5,-1072.5 1148.5,-1072.5\"/>\n<text text-anchor=\"middle\" x=\"1045.5\" y=\"-1057.3\" font-family=\"Helvetica,sans-Serif\" font-size=\"14.00\">pix21 &lt;= 0.5</text>\n<text text-anchor=\"middle\" x=\"1045.5\" y=\"-1042.3\" font-family=\"Helvetica,sans-Serif\" font-size=\"14.00\">gini = 0.168</text>\n<text text-anchor=\"middle\" x=\"1045.5\" y=\"-1027.3\" font-family=\"Helvetica,sans-Serif\" font-size=\"14.00\">samples = 146</text>\n<text text-anchor=\"middle\" x=\"1045.5\" y=\"-1012.3\" font-family=\"Helvetica,sans-Serif\" font-size=\"14.00\">value = [133, 0, 2, 0, 5, 3, 1, 0, 0, 2]</text>\n<text text-anchor=\"middle\" x=\"1045.5\" y=\"-997.3\" font-family=\"Helvetica,sans-Serif\" font-size=\"14.00\">class = 0</text>\n</g>\n<!-- 1&#45;&gt;2 -->\n<g id=\"edge2\" class=\"edge\">\n<title>1&#45;&gt;2</title>\n<path fill=\"none\" stroke=\"black\" d=\"M1982.87,-1148.73C1779.75,-1123.44 1375.64,-1073.11 1170.79,-1047.6\"/>\n<polygon fill=\"black\" stroke=\"black\" points=\"1170.94,-1044.09 1160.58,-1046.33 1170.07,-1051.04 1170.94,-1044.09\"/>\n</g>\n<!-- 17 -->\n<g id=\"node18\" class=\"node\">\n<title>17</title>\n<path fill=\"#f3a0af\" stroke=\"black\" d=\"M2208.5,-1072.5C2208.5,-1072.5 2002.5,-1072.5 2002.5,-1072.5 1996.5,-1072.5 1990.5,-1066.5 1990.5,-1060.5 1990.5,-1060.5 1990.5,-1001.5 1990.5,-1001.5 1990.5,-995.5 1996.5,-989.5 2002.5,-989.5 2002.5,-989.5 2208.5,-989.5 2208.5,-989.5 2214.5,-989.5 2220.5,-995.5 2220.5,-1001.5 2220.5,-1001.5 2220.5,-1060.5 2220.5,-1060.5 2220.5,-1066.5 2214.5,-1072.5 2208.5,-1072.5\"/>\n<text text-anchor=\"middle\" x=\"2105.5\" y=\"-1057.3\" font-family=\"Helvetica,sans-Serif\" font-size=\"14.00\">pix21 &lt;= 9.0</text>\n<text text-anchor=\"middle\" x=\"2105.5\" y=\"-1042.3\" font-family=\"Helvetica,sans-Serif\" font-size=\"14.00\">gini = 0.518</text>\n<text text-anchor=\"middle\" x=\"2105.5\" y=\"-1027.3\" font-family=\"Helvetica,sans-Serif\" font-size=\"14.00\">samples = 62</text>\n<text text-anchor=\"middle\" x=\"2105.5\" y=\"-1012.3\" font-family=\"Helvetica,sans-Serif\" font-size=\"14.00\">value = [0, 0, 0, 1, 0, 18, 2, 0, 2, 39]</text>\n<text text-anchor=\"middle\" x=\"2105.5\" y=\"-997.3\" font-family=\"Helvetica,sans-Serif\" font-size=\"14.00\">class = 9</text>\n</g>\n<!-- 1&#45;&gt;17 -->\n<g id=\"edge17\" class=\"edge\">\n<title>1&#45;&gt;17</title>\n<path fill=\"none\" stroke=\"black\" d=\"M2105.5,-1123.32C2105.5,-1110.52 2105.5,-1096.23 2105.5,-1082.82\"/>\n<polygon fill=\"black\" stroke=\"black\" points=\"2109,-1082.77 2105.5,-1072.77 2102,-1082.77 2109,-1082.77\"/>\n</g>\n<!-- 3 -->\n<g id=\"node4\" class=\"node\">\n<title>3</title>\n<path fill=\"#cef8f0\" stroke=\"black\" d=\"M783,-938.5C783,-938.5 592,-938.5 592,-938.5 586,-938.5 580,-932.5 580,-926.5 580,-926.5 580,-867.5 580,-867.5 580,-861.5 586,-855.5 592,-855.5 592,-855.5 783,-855.5 783,-855.5 789,-855.5 795,-861.5 795,-867.5 795,-867.5 795,-926.5 795,-926.5 795,-932.5 789,-938.5 783,-938.5\"/>\n<text text-anchor=\"middle\" x=\"687.5\" y=\"-923.3\" font-family=\"Helvetica,sans-Serif\" font-size=\"14.00\">pix45 &lt;= 12.0</text>\n<text text-anchor=\"middle\" x=\"687.5\" y=\"-908.3\" font-family=\"Helvetica,sans-Serif\" font-size=\"14.00\">gini = 0.694</text>\n<text text-anchor=\"middle\" x=\"687.5\" y=\"-893.3\" font-family=\"Helvetica,sans-Serif\" font-size=\"14.00\">samples = 11</text>\n<text text-anchor=\"middle\" x=\"687.5\" y=\"-878.3\" font-family=\"Helvetica,sans-Serif\" font-size=\"14.00\">value = [1, 0, 1, 0, 5, 3, 1, 0, 0, 0]</text>\n<text text-anchor=\"middle\" x=\"687.5\" y=\"-863.3\" font-family=\"Helvetica,sans-Serif\" font-size=\"14.00\">class = 4</text>\n</g>\n<!-- 2&#45;&gt;3 -->\n<g id=\"edge3\" class=\"edge\">\n<title>2&#45;&gt;3</title>\n<path fill=\"none\" stroke=\"black\" d=\"M935.66,-989.5C894.19,-974.21 846.87,-956.76 804.75,-941.23\"/>\n<polygon fill=\"black\" stroke=\"black\" points=\"805.89,-937.92 795.29,-937.74 803.46,-944.49 805.89,-937.92\"/>\n</g>\n<!-- 12 -->\n<g id=\"node13\" class=\"node\">\n<title>12</title>\n<path fill=\"#e6843d\" stroke=\"black\" d=\"M1148.5,-938.5C1148.5,-938.5 942.5,-938.5 942.5,-938.5 936.5,-938.5 930.5,-932.5 930.5,-926.5 930.5,-926.5 930.5,-867.5 930.5,-867.5 930.5,-861.5 936.5,-855.5 942.5,-855.5 942.5,-855.5 1148.5,-855.5 1148.5,-855.5 1154.5,-855.5 1160.5,-861.5 1160.5,-867.5 1160.5,-867.5 1160.5,-926.5 1160.5,-926.5 1160.5,-932.5 1154.5,-938.5 1148.5,-938.5\"/>\n<text text-anchor=\"middle\" x=\"1045.5\" y=\"-923.3\" font-family=\"Helvetica,sans-Serif\" font-size=\"14.00\">pix33 &lt;= 0.5</text>\n<text text-anchor=\"middle\" x=\"1045.5\" y=\"-908.3\" font-family=\"Helvetica,sans-Serif\" font-size=\"14.00\">gini = 0.044</text>\n<text text-anchor=\"middle\" x=\"1045.5\" y=\"-893.3\" font-family=\"Helvetica,sans-Serif\" font-size=\"14.00\">samples = 135</text>\n<text text-anchor=\"middle\" x=\"1045.5\" y=\"-878.3\" font-family=\"Helvetica,sans-Serif\" font-size=\"14.00\">value = [132, 0, 1, 0, 0, 0, 0, 0, 0, 2]</text>\n<text text-anchor=\"middle\" x=\"1045.5\" y=\"-863.3\" font-family=\"Helvetica,sans-Serif\" font-size=\"14.00\">class = 0</text>\n</g>\n<!-- 2&#45;&gt;12 -->\n<g id=\"edge12\" class=\"edge\">\n<title>2&#45;&gt;12</title>\n<path fill=\"none\" stroke=\"black\" d=\"M1045.5,-989.32C1045.5,-976.52 1045.5,-962.23 1045.5,-948.82\"/>\n<polygon fill=\"black\" stroke=\"black\" points=\"1049,-948.77 1045.5,-938.77 1042,-948.77 1049,-948.77\"/>\n</g>\n<!-- 4 -->\n<g id=\"node5\" class=\"node\">\n<title>4</title>\n<path fill=\"#b0d8f5\" stroke=\"black\" d=\"M550,-804.5C550,-804.5 359,-804.5 359,-804.5 353,-804.5 347,-798.5 347,-792.5 347,-792.5 347,-733.5 347,-733.5 347,-727.5 353,-721.5 359,-721.5 359,-721.5 550,-721.5 550,-721.5 556,-721.5 562,-727.5 562,-733.5 562,-733.5 562,-792.5 562,-792.5 562,-798.5 556,-804.5 550,-804.5\"/>\n<text text-anchor=\"middle\" x=\"454.5\" y=\"-789.3\" font-family=\"Helvetica,sans-Serif\" font-size=\"14.00\">pix57 &lt;= 0.5</text>\n<text text-anchor=\"middle\" x=\"454.5\" y=\"-774.3\" font-family=\"Helvetica,sans-Serif\" font-size=\"14.00\">gini = 0.667</text>\n<text text-anchor=\"middle\" x=\"454.5\" y=\"-759.3\" font-family=\"Helvetica,sans-Serif\" font-size=\"14.00\">samples = 6</text>\n<text text-anchor=\"middle\" x=\"454.5\" y=\"-744.3\" font-family=\"Helvetica,sans-Serif\" font-size=\"14.00\">value = [1, 0, 1, 0, 0, 3, 1, 0, 0, 0]</text>\n<text text-anchor=\"middle\" x=\"454.5\" y=\"-729.3\" font-family=\"Helvetica,sans-Serif\" font-size=\"14.00\">class = 5</text>\n</g>\n<!-- 3&#45;&gt;4 -->\n<g id=\"edge4\" class=\"edge\">\n<title>3&#45;&gt;4</title>\n<path fill=\"none\" stroke=\"black\" d=\"M616.01,-855.5C590.41,-841 561.38,-824.55 535.07,-809.64\"/>\n<polygon fill=\"black\" stroke=\"black\" points=\"536.68,-806.54 526.26,-804.65 533.23,-812.63 536.68,-806.54\"/>\n</g>\n<!-- 11 -->\n<g id=\"node12\" class=\"node\">\n<title>11</title>\n<path fill=\"#39e5c5\" stroke=\"black\" d=\"M783,-797C783,-797 592,-797 592,-797 586,-797 580,-791 580,-785 580,-785 580,-741 580,-741 580,-735 586,-729 592,-729 592,-729 783,-729 783,-729 789,-729 795,-735 795,-741 795,-741 795,-785 795,-785 795,-791 789,-797 783,-797\"/>\n<text text-anchor=\"middle\" x=\"687.5\" y=\"-781.8\" font-family=\"Helvetica,sans-Serif\" font-size=\"14.00\">gini = 0.0</text>\n<text text-anchor=\"middle\" x=\"687.5\" y=\"-766.8\" font-family=\"Helvetica,sans-Serif\" font-size=\"14.00\">samples = 5</text>\n<text text-anchor=\"middle\" x=\"687.5\" y=\"-751.8\" font-family=\"Helvetica,sans-Serif\" font-size=\"14.00\">value = [0, 0, 0, 0, 5, 0, 0, 0, 0, 0]</text>\n<text text-anchor=\"middle\" x=\"687.5\" y=\"-736.8\" font-family=\"Helvetica,sans-Serif\" font-size=\"14.00\">class = 4</text>\n</g>\n<!-- 3&#45;&gt;11 -->\n<g id=\"edge11\" class=\"edge\">\n<title>3&#45;&gt;11</title>\n<path fill=\"none\" stroke=\"black\" d=\"M687.5,-855.32C687.5,-840.18 687.5,-822.94 687.5,-807.55\"/>\n<polygon fill=\"black\" stroke=\"black\" points=\"691,-807.24 687.5,-797.24 684,-807.24 691,-807.24\"/>\n</g>\n<!-- 5 -->\n<g id=\"node6\" class=\"node\">\n<title>5</title>\n<path fill=\"#ffffff\" stroke=\"black\" d=\"M319,-670.5C319,-670.5 128,-670.5 128,-670.5 122,-670.5 116,-664.5 116,-658.5 116,-658.5 116,-599.5 116,-599.5 116,-593.5 122,-587.5 128,-587.5 128,-587.5 319,-587.5 319,-587.5 325,-587.5 331,-593.5 331,-599.5 331,-599.5 331,-658.5 331,-658.5 331,-664.5 325,-670.5 319,-670.5\"/>\n<text text-anchor=\"middle\" x=\"223.5\" y=\"-655.3\" font-family=\"Helvetica,sans-Serif\" font-size=\"14.00\">pix51 &lt;= 11.5</text>\n<text text-anchor=\"middle\" x=\"223.5\" y=\"-640.3\" font-family=\"Helvetica,sans-Serif\" font-size=\"14.00\">gini = 0.667</text>\n<text text-anchor=\"middle\" x=\"223.5\" y=\"-625.3\" font-family=\"Helvetica,sans-Serif\" font-size=\"14.00\">samples = 3</text>\n<text text-anchor=\"middle\" x=\"223.5\" y=\"-610.3\" font-family=\"Helvetica,sans-Serif\" font-size=\"14.00\">value = [1, 0, 1, 0, 0, 0, 1, 0, 0, 0]</text>\n<text text-anchor=\"middle\" x=\"223.5\" y=\"-595.3\" font-family=\"Helvetica,sans-Serif\" font-size=\"14.00\">class = 0</text>\n</g>\n<!-- 4&#45;&gt;5 -->\n<g id=\"edge5\" class=\"edge\">\n<title>4&#45;&gt;5</title>\n<path fill=\"none\" stroke=\"black\" d=\"M383.62,-721.5C358.24,-707 329.47,-690.55 303.38,-675.64\"/>\n<polygon fill=\"black\" stroke=\"black\" points=\"305.06,-672.57 294.64,-670.65 301.59,-678.65 305.06,-672.57\"/>\n</g>\n<!-- 10 -->\n<g id=\"node11\" class=\"node\">\n<title>10</title>\n<path fill=\"#399de5\" stroke=\"black\" d=\"M552,-663C552,-663 361,-663 361,-663 355,-663 349,-657 349,-651 349,-651 349,-607 349,-607 349,-601 355,-595 361,-595 361,-595 552,-595 552,-595 558,-595 564,-601 564,-607 564,-607 564,-651 564,-651 564,-657 558,-663 552,-663\"/>\n<text text-anchor=\"middle\" x=\"456.5\" y=\"-647.8\" font-family=\"Helvetica,sans-Serif\" font-size=\"14.00\">gini = 0.0</text>\n<text text-anchor=\"middle\" x=\"456.5\" y=\"-632.8\" font-family=\"Helvetica,sans-Serif\" font-size=\"14.00\">samples = 3</text>\n<text text-anchor=\"middle\" x=\"456.5\" y=\"-617.8\" font-family=\"Helvetica,sans-Serif\" font-size=\"14.00\">value = [0, 0, 0, 0, 0, 3, 0, 0, 0, 0]</text>\n<text text-anchor=\"middle\" x=\"456.5\" y=\"-602.8\" font-family=\"Helvetica,sans-Serif\" font-size=\"14.00\">class = 5</text>\n</g>\n<!-- 4&#45;&gt;10 -->\n<g id=\"edge10\" class=\"edge\">\n<title>4&#45;&gt;10</title>\n<path fill=\"none\" stroke=\"black\" d=\"M455.12,-721.32C455.35,-706.18 455.61,-688.94 455.84,-673.55\"/>\n<polygon fill=\"black\" stroke=\"black\" points=\"459.34,-673.3 456,-663.24 452.35,-673.19 459.34,-673.3\"/>\n</g>\n<!-- 6 -->\n<g id=\"node7\" class=\"node\">\n<title>6</title>\n<path fill=\"#e58139\" stroke=\"black\" d=\"M203,-536.5C203,-536.5 12,-536.5 12,-536.5 6,-536.5 0,-530.5 0,-524.5 0,-524.5 0,-480.5 0,-480.5 0,-474.5 6,-468.5 12,-468.5 12,-468.5 203,-468.5 203,-468.5 209,-468.5 215,-474.5 215,-480.5 215,-480.5 215,-524.5 215,-524.5 215,-530.5 209,-536.5 203,-536.5\"/>\n<text text-anchor=\"middle\" x=\"107.5\" y=\"-521.3\" font-family=\"Helvetica,sans-Serif\" font-size=\"14.00\">gini = 0.0</text>\n<text text-anchor=\"middle\" x=\"107.5\" y=\"-506.3\" font-family=\"Helvetica,sans-Serif\" font-size=\"14.00\">samples = 1</text>\n<text text-anchor=\"middle\" x=\"107.5\" y=\"-491.3\" font-family=\"Helvetica,sans-Serif\" font-size=\"14.00\">value = [1, 0, 0, 0, 0, 0, 0, 0, 0, 0]</text>\n<text text-anchor=\"middle\" x=\"107.5\" y=\"-476.3\" font-family=\"Helvetica,sans-Serif\" font-size=\"14.00\">class = 0</text>\n</g>\n<!-- 5&#45;&gt;6 -->\n<g id=\"edge6\" class=\"edge\">\n<title>5&#45;&gt;6</title>\n<path fill=\"none\" stroke=\"black\" d=\"M185.52,-587.23C172.69,-573.47 158.38,-558.11 145.56,-544.34\"/>\n<polygon fill=\"black\" stroke=\"black\" points=\"147.98,-541.81 138.6,-536.88 142.86,-546.58 147.98,-541.81\"/>\n</g>\n<!-- 7 -->\n<g id=\"node8\" class=\"node\">\n<title>7</title>\n<path fill=\"#ffffff\" stroke=\"black\" d=\"M436,-544C436,-544 245,-544 245,-544 239,-544 233,-538 233,-532 233,-532 233,-473 233,-473 233,-467 239,-461 245,-461 245,-461 436,-461 436,-461 442,-461 448,-467 448,-473 448,-473 448,-532 448,-532 448,-538 442,-544 436,-544\"/>\n<text text-anchor=\"middle\" x=\"340.5\" y=\"-528.8\" font-family=\"Helvetica,sans-Serif\" font-size=\"14.00\">pix51 &lt;= 15.5</text>\n<text text-anchor=\"middle\" x=\"340.5\" y=\"-513.8\" font-family=\"Helvetica,sans-Serif\" font-size=\"14.00\">gini = 0.5</text>\n<text text-anchor=\"middle\" x=\"340.5\" y=\"-498.8\" font-family=\"Helvetica,sans-Serif\" font-size=\"14.00\">samples = 2</text>\n<text text-anchor=\"middle\" x=\"340.5\" y=\"-483.8\" font-family=\"Helvetica,sans-Serif\" font-size=\"14.00\">value = [0, 0, 1, 0, 0, 0, 1, 0, 0, 0]</text>\n<text text-anchor=\"middle\" x=\"340.5\" y=\"-468.8\" font-family=\"Helvetica,sans-Serif\" font-size=\"14.00\">class = 2</text>\n</g>\n<!-- 5&#45;&gt;7 -->\n<g id=\"edge7\" class=\"edge\">\n<title>5&#45;&gt;7</title>\n<path fill=\"none\" stroke=\"black\" d=\"M261.81,-587.23C272.42,-575.95 284.03,-563.59 295,-551.91\"/>\n<polygon fill=\"black\" stroke=\"black\" points=\"297.81,-554.04 302.1,-544.36 292.71,-549.25 297.81,-554.04\"/>\n</g>\n<!-- 8 -->\n<g id=\"node9\" class=\"node\">\n<title>8</title>\n<path fill=\"#7be539\" stroke=\"black\" d=\"M320,-417.5C320,-417.5 129,-417.5 129,-417.5 123,-417.5 117,-411.5 117,-405.5 117,-405.5 117,-361.5 117,-361.5 117,-355.5 123,-349.5 129,-349.5 129,-349.5 320,-349.5 320,-349.5 326,-349.5 332,-355.5 332,-361.5 332,-361.5 332,-405.5 332,-405.5 332,-411.5 326,-417.5 320,-417.5\"/>\n<text text-anchor=\"middle\" x=\"224.5\" y=\"-402.3\" font-family=\"Helvetica,sans-Serif\" font-size=\"14.00\">gini = 0.0</text>\n<text text-anchor=\"middle\" x=\"224.5\" y=\"-387.3\" font-family=\"Helvetica,sans-Serif\" font-size=\"14.00\">samples = 1</text>\n<text text-anchor=\"middle\" x=\"224.5\" y=\"-372.3\" font-family=\"Helvetica,sans-Serif\" font-size=\"14.00\">value = [0, 0, 1, 0, 0, 0, 0, 0, 0, 0]</text>\n<text text-anchor=\"middle\" x=\"224.5\" y=\"-357.3\" font-family=\"Helvetica,sans-Serif\" font-size=\"14.00\">class = 2</text>\n</g>\n<!-- 7&#45;&gt;8 -->\n<g id=\"edge8\" class=\"edge\">\n<title>7&#45;&gt;8</title>\n<path fill=\"none\" stroke=\"black\" d=\"M300.25,-460.91C288.66,-449.21 276.01,-436.46 264.44,-424.78\"/>\n<polygon fill=\"black\" stroke=\"black\" points=\"266.91,-422.3 257.38,-417.67 261.94,-427.23 266.91,-422.3\"/>\n</g>\n<!-- 9 -->\n<g id=\"node10\" class=\"node\">\n<title>9</title>\n<path fill=\"#3c39e5\" stroke=\"black\" d=\"M553,-417.5C553,-417.5 362,-417.5 362,-417.5 356,-417.5 350,-411.5 350,-405.5 350,-405.5 350,-361.5 350,-361.5 350,-355.5 356,-349.5 362,-349.5 362,-349.5 553,-349.5 553,-349.5 559,-349.5 565,-355.5 565,-361.5 565,-361.5 565,-405.5 565,-405.5 565,-411.5 559,-417.5 553,-417.5\"/>\n<text text-anchor=\"middle\" x=\"457.5\" y=\"-402.3\" font-family=\"Helvetica,sans-Serif\" font-size=\"14.00\">gini = 0.0</text>\n<text text-anchor=\"middle\" x=\"457.5\" y=\"-387.3\" font-family=\"Helvetica,sans-Serif\" font-size=\"14.00\">samples = 1</text>\n<text text-anchor=\"middle\" x=\"457.5\" y=\"-372.3\" font-family=\"Helvetica,sans-Serif\" font-size=\"14.00\">value = [0, 0, 0, 0, 0, 0, 1, 0, 0, 0]</text>\n<text text-anchor=\"middle\" x=\"457.5\" y=\"-357.3\" font-family=\"Helvetica,sans-Serif\" font-size=\"14.00\">class = 6</text>\n</g>\n<!-- 7&#45;&gt;9 -->\n<g id=\"edge9\" class=\"edge\">\n<title>7&#45;&gt;9</title>\n<path fill=\"none\" stroke=\"black\" d=\"M381.09,-460.91C392.79,-449.21 405.54,-436.46 417.22,-424.78\"/>\n<polygon fill=\"black\" stroke=\"black\" points=\"419.74,-427.21 424.33,-417.67 414.79,-422.26 419.74,-427.21\"/>\n</g>\n<!-- 13 -->\n<g id=\"node14\" class=\"node\">\n<title>13</title>\n<path fill=\"#f29cac\" stroke=\"black\" d=\"M1016,-804.5C1016,-804.5 825,-804.5 825,-804.5 819,-804.5 813,-798.5 813,-792.5 813,-792.5 813,-733.5 813,-733.5 813,-727.5 819,-721.5 825,-721.5 825,-721.5 1016,-721.5 1016,-721.5 1022,-721.5 1028,-727.5 1028,-733.5 1028,-733.5 1028,-792.5 1028,-792.5 1028,-798.5 1022,-804.5 1016,-804.5\"/>\n<text text-anchor=\"middle\" x=\"920.5\" y=\"-789.3\" font-family=\"Helvetica,sans-Serif\" font-size=\"14.00\">pix37 &lt;= 13.5</text>\n<text text-anchor=\"middle\" x=\"920.5\" y=\"-774.3\" font-family=\"Helvetica,sans-Serif\" font-size=\"14.00\">gini = 0.444</text>\n<text text-anchor=\"middle\" x=\"920.5\" y=\"-759.3\" font-family=\"Helvetica,sans-Serif\" font-size=\"14.00\">samples = 3</text>\n<text text-anchor=\"middle\" x=\"920.5\" y=\"-744.3\" font-family=\"Helvetica,sans-Serif\" font-size=\"14.00\">value = [0, 0, 1, 0, 0, 0, 0, 0, 0, 2]</text>\n<text text-anchor=\"middle\" x=\"920.5\" y=\"-729.3\" font-family=\"Helvetica,sans-Serif\" font-size=\"14.00\">class = 9</text>\n</g>\n<!-- 12&#45;&gt;13 -->\n<g id=\"edge13\" class=\"edge\">\n<title>12&#45;&gt;13</title>\n<path fill=\"none\" stroke=\"black\" d=\"M1006.98,-855.32C994.03,-841.64 979.46,-826.26 966.02,-812.07\"/>\n<polygon fill=\"black\" stroke=\"black\" points=\"968.53,-809.63 959.11,-804.77 963.45,-814.44 968.53,-809.63\"/>\n</g>\n<!-- 16 -->\n<g id=\"node17\" class=\"node\">\n<title>16</title>\n<path fill=\"#e58139\" stroke=\"black\" d=\"M1264.5,-797C1264.5,-797 1058.5,-797 1058.5,-797 1052.5,-797 1046.5,-791 1046.5,-785 1046.5,-785 1046.5,-741 1046.5,-741 1046.5,-735 1052.5,-729 1058.5,-729 1058.5,-729 1264.5,-729 1264.5,-729 1270.5,-729 1276.5,-735 1276.5,-741 1276.5,-741 1276.5,-785 1276.5,-785 1276.5,-791 1270.5,-797 1264.5,-797\"/>\n<text text-anchor=\"middle\" x=\"1161.5\" y=\"-781.8\" font-family=\"Helvetica,sans-Serif\" font-size=\"14.00\">gini = 0.0</text>\n<text text-anchor=\"middle\" x=\"1161.5\" y=\"-766.8\" font-family=\"Helvetica,sans-Serif\" font-size=\"14.00\">samples = 132</text>\n<text text-anchor=\"middle\" x=\"1161.5\" y=\"-751.8\" font-family=\"Helvetica,sans-Serif\" font-size=\"14.00\">value = [132, 0, 0, 0, 0, 0, 0, 0, 0, 0]</text>\n<text text-anchor=\"middle\" x=\"1161.5\" y=\"-736.8\" font-family=\"Helvetica,sans-Serif\" font-size=\"14.00\">class = 0</text>\n</g>\n<!-- 12&#45;&gt;16 -->\n<g id=\"edge16\" class=\"edge\">\n<title>12&#45;&gt;16</title>\n<path fill=\"none\" stroke=\"black\" d=\"M1081.25,-855.32C1095.32,-839.3 1111.46,-820.95 1125.55,-804.91\"/>\n<polygon fill=\"black\" stroke=\"black\" points=\"1128.31,-807.07 1132.29,-797.24 1123.06,-802.45 1128.31,-807.07\"/>\n</g>\n<!-- 14 -->\n<g id=\"node15\" class=\"node\">\n<title>14</title>\n<path fill=\"#e53958\" stroke=\"black\" d=\"M793,-663C793,-663 602,-663 602,-663 596,-663 590,-657 590,-651 590,-651 590,-607 590,-607 590,-601 596,-595 602,-595 602,-595 793,-595 793,-595 799,-595 805,-601 805,-607 805,-607 805,-651 805,-651 805,-657 799,-663 793,-663\"/>\n<text text-anchor=\"middle\" x=\"697.5\" y=\"-647.8\" font-family=\"Helvetica,sans-Serif\" font-size=\"14.00\">gini = 0.0</text>\n<text text-anchor=\"middle\" x=\"697.5\" y=\"-632.8\" font-family=\"Helvetica,sans-Serif\" font-size=\"14.00\">samples = 2</text>\n<text text-anchor=\"middle\" x=\"697.5\" y=\"-617.8\" font-family=\"Helvetica,sans-Serif\" font-size=\"14.00\">value = [0, 0, 0, 0, 0, 0, 0, 0, 0, 2]</text>\n<text text-anchor=\"middle\" x=\"697.5\" y=\"-602.8\" font-family=\"Helvetica,sans-Serif\" font-size=\"14.00\">class = 9</text>\n</g>\n<!-- 13&#45;&gt;14 -->\n<g id=\"edge14\" class=\"edge\">\n<title>13&#45;&gt;14</title>\n<path fill=\"none\" stroke=\"black\" d=\"M852.08,-721.5C823.54,-704.61 790.56,-685.08 762.41,-668.42\"/>\n<polygon fill=\"black\" stroke=\"black\" points=\"763.84,-665.2 753.45,-663.12 760.27,-671.22 763.84,-665.2\"/>\n</g>\n<!-- 15 -->\n<g id=\"node16\" class=\"node\">\n<title>15</title>\n<path fill=\"#7be539\" stroke=\"black\" d=\"M1026,-663C1026,-663 835,-663 835,-663 829,-663 823,-657 823,-651 823,-651 823,-607 823,-607 823,-601 829,-595 835,-595 835,-595 1026,-595 1026,-595 1032,-595 1038,-601 1038,-607 1038,-607 1038,-651 1038,-651 1038,-657 1032,-663 1026,-663\"/>\n<text text-anchor=\"middle\" x=\"930.5\" y=\"-647.8\" font-family=\"Helvetica,sans-Serif\" font-size=\"14.00\">gini = 0.0</text>\n<text text-anchor=\"middle\" x=\"930.5\" y=\"-632.8\" font-family=\"Helvetica,sans-Serif\" font-size=\"14.00\">samples = 1</text>\n<text text-anchor=\"middle\" x=\"930.5\" y=\"-617.8\" font-family=\"Helvetica,sans-Serif\" font-size=\"14.00\">value = [0, 0, 1, 0, 0, 0, 0, 0, 0, 0]</text>\n<text text-anchor=\"middle\" x=\"930.5\" y=\"-602.8\" font-family=\"Helvetica,sans-Serif\" font-size=\"14.00\">class = 2</text>\n</g>\n<!-- 13&#45;&gt;15 -->\n<g id=\"edge15\" class=\"edge\">\n<title>13&#45;&gt;15</title>\n<path fill=\"none\" stroke=\"black\" d=\"M923.58,-721.32C924.73,-706.18 926.03,-688.94 927.2,-673.55\"/>\n<polygon fill=\"black\" stroke=\"black\" points=\"930.72,-673.48 927.98,-663.24 923.74,-672.95 930.72,-673.48\"/>\n</g>\n<!-- 18 -->\n<g id=\"node19\" class=\"node\">\n<title>18</title>\n<path fill=\"#6ab6ec\" stroke=\"black\" d=\"M1853.5,-938.5C1853.5,-938.5 1655.5,-938.5 1655.5,-938.5 1649.5,-938.5 1643.5,-932.5 1643.5,-926.5 1643.5,-926.5 1643.5,-867.5 1643.5,-867.5 1643.5,-861.5 1649.5,-855.5 1655.5,-855.5 1655.5,-855.5 1853.5,-855.5 1853.5,-855.5 1859.5,-855.5 1865.5,-861.5 1865.5,-867.5 1865.5,-867.5 1865.5,-926.5 1865.5,-926.5 1865.5,-932.5 1859.5,-938.5 1853.5,-938.5\"/>\n<text text-anchor=\"middle\" x=\"1754.5\" y=\"-923.3\" font-family=\"Helvetica,sans-Serif\" font-size=\"14.00\">pix4 &lt;= 11.0</text>\n<text text-anchor=\"middle\" x=\"1754.5\" y=\"-908.3\" font-family=\"Helvetica,sans-Serif\" font-size=\"14.00\">gini = 0.384</text>\n<text text-anchor=\"middle\" x=\"1754.5\" y=\"-893.3\" font-family=\"Helvetica,sans-Serif\" font-size=\"14.00\">samples = 22</text>\n<text text-anchor=\"middle\" x=\"1754.5\" y=\"-878.3\" font-family=\"Helvetica,sans-Serif\" font-size=\"14.00\">value = [0, 0, 0, 0, 0, 17, 2, 0, 1, 2]</text>\n<text text-anchor=\"middle\" x=\"1754.5\" y=\"-863.3\" font-family=\"Helvetica,sans-Serif\" font-size=\"14.00\">class = 5</text>\n</g>\n<!-- 17&#45;&gt;18 -->\n<g id=\"edge18\" class=\"edge\">\n<title>17&#45;&gt;18</title>\n<path fill=\"none\" stroke=\"black\" d=\"M1997.8,-989.5C1957.89,-974.49 1912.44,-957.4 1871.72,-942.08\"/>\n<polygon fill=\"black\" stroke=\"black\" points=\"1872.89,-938.78 1862.3,-938.54 1870.42,-945.33 1872.89,-938.78\"/>\n</g>\n<!-- 25 -->\n<g id=\"node26\" class=\"node\">\n<title>25</title>\n<path fill=\"#e74865\" stroke=\"black\" d=\"M2325.5,-938.5C2325.5,-938.5 2127.5,-938.5 2127.5,-938.5 2121.5,-938.5 2115.5,-932.5 2115.5,-926.5 2115.5,-926.5 2115.5,-867.5 2115.5,-867.5 2115.5,-861.5 2121.5,-855.5 2127.5,-855.5 2127.5,-855.5 2325.5,-855.5 2325.5,-855.5 2331.5,-855.5 2337.5,-861.5 2337.5,-867.5 2337.5,-867.5 2337.5,-926.5 2337.5,-926.5 2337.5,-932.5 2331.5,-938.5 2325.5,-938.5\"/>\n<text text-anchor=\"middle\" x=\"2226.5\" y=\"-923.3\" font-family=\"Helvetica,sans-Serif\" font-size=\"14.00\">pix35 &lt;= 4.5</text>\n<text text-anchor=\"middle\" x=\"2226.5\" y=\"-908.3\" font-family=\"Helvetica,sans-Serif\" font-size=\"14.00\">gini = 0.142</text>\n<text text-anchor=\"middle\" x=\"2226.5\" y=\"-893.3\" font-family=\"Helvetica,sans-Serif\" font-size=\"14.00\">samples = 40</text>\n<text text-anchor=\"middle\" x=\"2226.5\" y=\"-878.3\" font-family=\"Helvetica,sans-Serif\" font-size=\"14.00\">value = [0, 0, 0, 1, 0, 1, 0, 0, 1, 37]</text>\n<text text-anchor=\"middle\" x=\"2226.5\" y=\"-863.3\" font-family=\"Helvetica,sans-Serif\" font-size=\"14.00\">class = 9</text>\n</g>\n<!-- 17&#45;&gt;25 -->\n<g id=\"edge25\" class=\"edge\">\n<title>17&#45;&gt;25</title>\n<path fill=\"none\" stroke=\"black\" d=\"M2142.79,-989.32C2155.21,-975.77 2169.17,-960.54 2182.08,-946.46\"/>\n<polygon fill=\"black\" stroke=\"black\" points=\"2184.95,-948.51 2189.12,-938.77 2179.79,-943.78 2184.95,-948.51\"/>\n</g>\n<!-- 19 -->\n<g id=\"node20\" class=\"node\">\n<title>19</title>\n<path fill=\"#ffffff\" stroke=\"black\" d=\"M1498,-804.5C1498,-804.5 1307,-804.5 1307,-804.5 1301,-804.5 1295,-798.5 1295,-792.5 1295,-792.5 1295,-733.5 1295,-733.5 1295,-727.5 1301,-721.5 1307,-721.5 1307,-721.5 1498,-721.5 1498,-721.5 1504,-721.5 1510,-727.5 1510,-733.5 1510,-733.5 1510,-792.5 1510,-792.5 1510,-798.5 1504,-804.5 1498,-804.5\"/>\n<text text-anchor=\"middle\" x=\"1402.5\" y=\"-789.3\" font-family=\"Helvetica,sans-Serif\" font-size=\"14.00\">pix12 &lt;= 7.0</text>\n<text text-anchor=\"middle\" x=\"1402.5\" y=\"-774.3\" font-family=\"Helvetica,sans-Serif\" font-size=\"14.00\">gini = 0.5</text>\n<text text-anchor=\"middle\" x=\"1402.5\" y=\"-759.3\" font-family=\"Helvetica,sans-Serif\" font-size=\"14.00\">samples = 4</text>\n<text text-anchor=\"middle\" x=\"1402.5\" y=\"-744.3\" font-family=\"Helvetica,sans-Serif\" font-size=\"14.00\">value = [0, 0, 0, 0, 0, 0, 2, 0, 0, 2]</text>\n<text text-anchor=\"middle\" x=\"1402.5\" y=\"-729.3\" font-family=\"Helvetica,sans-Serif\" font-size=\"14.00\">class = 6</text>\n</g>\n<!-- 18&#45;&gt;19 -->\n<g id=\"edge19\" class=\"edge\">\n<title>18&#45;&gt;19</title>\n<path fill=\"none\" stroke=\"black\" d=\"M1646.5,-855.5C1606.37,-840.45 1560.68,-823.32 1519.77,-807.98\"/>\n<polygon fill=\"black\" stroke=\"black\" points=\"1520.89,-804.66 1510.3,-804.42 1518.43,-811.21 1520.89,-804.66\"/>\n</g>\n<!-- 22 -->\n<g id=\"node23\" class=\"node\">\n<title>22</title>\n<path fill=\"#45a3e7\" stroke=\"black\" d=\"M1853.5,-804.5C1853.5,-804.5 1655.5,-804.5 1655.5,-804.5 1649.5,-804.5 1643.5,-798.5 1643.5,-792.5 1643.5,-792.5 1643.5,-733.5 1643.5,-733.5 1643.5,-727.5 1649.5,-721.5 1655.5,-721.5 1655.5,-721.5 1853.5,-721.5 1853.5,-721.5 1859.5,-721.5 1865.5,-727.5 1865.5,-733.5 1865.5,-733.5 1865.5,-792.5 1865.5,-792.5 1865.5,-798.5 1859.5,-804.5 1853.5,-804.5\"/>\n<text text-anchor=\"middle\" x=\"1754.5\" y=\"-789.3\" font-family=\"Helvetica,sans-Serif\" font-size=\"14.00\">pix58 &lt;= 6.5</text>\n<text text-anchor=\"middle\" x=\"1754.5\" y=\"-774.3\" font-family=\"Helvetica,sans-Serif\" font-size=\"14.00\">gini = 0.105</text>\n<text text-anchor=\"middle\" x=\"1754.5\" y=\"-759.3\" font-family=\"Helvetica,sans-Serif\" font-size=\"14.00\">samples = 18</text>\n<text text-anchor=\"middle\" x=\"1754.5\" y=\"-744.3\" font-family=\"Helvetica,sans-Serif\" font-size=\"14.00\">value = [0, 0, 0, 0, 0, 17, 0, 0, 1, 0]</text>\n<text text-anchor=\"middle\" x=\"1754.5\" y=\"-729.3\" font-family=\"Helvetica,sans-Serif\" font-size=\"14.00\">class = 5</text>\n</g>\n<!-- 18&#45;&gt;22 -->\n<g id=\"edge22\" class=\"edge\">\n<title>18&#45;&gt;22</title>\n<path fill=\"none\" stroke=\"black\" d=\"M1754.5,-855.32C1754.5,-842.52 1754.5,-828.23 1754.5,-814.82\"/>\n<polygon fill=\"black\" stroke=\"black\" points=\"1758,-814.77 1754.5,-804.77 1751,-814.77 1758,-814.77\"/>\n</g>\n<!-- 20 -->\n<g id=\"node21\" class=\"node\">\n<title>20</title>\n<path fill=\"#3c39e5\" stroke=\"black\" d=\"M1263,-663C1263,-663 1072,-663 1072,-663 1066,-663 1060,-657 1060,-651 1060,-651 1060,-607 1060,-607 1060,-601 1066,-595 1072,-595 1072,-595 1263,-595 1263,-595 1269,-595 1275,-601 1275,-607 1275,-607 1275,-651 1275,-651 1275,-657 1269,-663 1263,-663\"/>\n<text text-anchor=\"middle\" x=\"1167.5\" y=\"-647.8\" font-family=\"Helvetica,sans-Serif\" font-size=\"14.00\">gini = 0.0</text>\n<text text-anchor=\"middle\" x=\"1167.5\" y=\"-632.8\" font-family=\"Helvetica,sans-Serif\" font-size=\"14.00\">samples = 2</text>\n<text text-anchor=\"middle\" x=\"1167.5\" y=\"-617.8\" font-family=\"Helvetica,sans-Serif\" font-size=\"14.00\">value = [0, 0, 0, 0, 0, 0, 2, 0, 0, 0]</text>\n<text text-anchor=\"middle\" x=\"1167.5\" y=\"-602.8\" font-family=\"Helvetica,sans-Serif\" font-size=\"14.00\">class = 6</text>\n</g>\n<!-- 19&#45;&gt;20 -->\n<g id=\"edge20\" class=\"edge\">\n<title>19&#45;&gt;20</title>\n<path fill=\"none\" stroke=\"black\" d=\"M1330.4,-721.5C1300.19,-704.53 1265.26,-684.91 1235.51,-668.2\"/>\n<polygon fill=\"black\" stroke=\"black\" points=\"1236.89,-664.96 1226.46,-663.12 1233.46,-671.07 1236.89,-664.96\"/>\n</g>\n<!-- 21 -->\n<g id=\"node22\" class=\"node\">\n<title>21</title>\n<path fill=\"#e53958\" stroke=\"black\" d=\"M1496,-663C1496,-663 1305,-663 1305,-663 1299,-663 1293,-657 1293,-651 1293,-651 1293,-607 1293,-607 1293,-601 1299,-595 1305,-595 1305,-595 1496,-595 1496,-595 1502,-595 1508,-601 1508,-607 1508,-607 1508,-651 1508,-651 1508,-657 1502,-663 1496,-663\"/>\n<text text-anchor=\"middle\" x=\"1400.5\" y=\"-647.8\" font-family=\"Helvetica,sans-Serif\" font-size=\"14.00\">gini = 0.0</text>\n<text text-anchor=\"middle\" x=\"1400.5\" y=\"-632.8\" font-family=\"Helvetica,sans-Serif\" font-size=\"14.00\">samples = 2</text>\n<text text-anchor=\"middle\" x=\"1400.5\" y=\"-617.8\" font-family=\"Helvetica,sans-Serif\" font-size=\"14.00\">value = [0, 0, 0, 0, 0, 0, 0, 0, 0, 2]</text>\n<text text-anchor=\"middle\" x=\"1400.5\" y=\"-602.8\" font-family=\"Helvetica,sans-Serif\" font-size=\"14.00\">class = 9</text>\n</g>\n<!-- 19&#45;&gt;21 -->\n<g id=\"edge21\" class=\"edge\">\n<title>19&#45;&gt;21</title>\n<path fill=\"none\" stroke=\"black\" d=\"M1401.88,-721.32C1401.65,-706.18 1401.39,-688.94 1401.16,-673.55\"/>\n<polygon fill=\"black\" stroke=\"black\" points=\"1404.65,-673.19 1401,-663.24 1397.66,-673.3 1404.65,-673.19\"/>\n</g>\n<!-- 23 -->\n<g id=\"node24\" class=\"node\">\n<title>23</title>\n<path fill=\"#e539c0\" stroke=\"black\" d=\"M1729,-663C1729,-663 1538,-663 1538,-663 1532,-663 1526,-657 1526,-651 1526,-651 1526,-607 1526,-607 1526,-601 1532,-595 1538,-595 1538,-595 1729,-595 1729,-595 1735,-595 1741,-601 1741,-607 1741,-607 1741,-651 1741,-651 1741,-657 1735,-663 1729,-663\"/>\n<text text-anchor=\"middle\" x=\"1633.5\" y=\"-647.8\" font-family=\"Helvetica,sans-Serif\" font-size=\"14.00\">gini = 0.0</text>\n<text text-anchor=\"middle\" x=\"1633.5\" y=\"-632.8\" font-family=\"Helvetica,sans-Serif\" font-size=\"14.00\">samples = 1</text>\n<text text-anchor=\"middle\" x=\"1633.5\" y=\"-617.8\" font-family=\"Helvetica,sans-Serif\" font-size=\"14.00\">value = [0, 0, 0, 0, 0, 0, 0, 0, 1, 0]</text>\n<text text-anchor=\"middle\" x=\"1633.5\" y=\"-602.8\" font-family=\"Helvetica,sans-Serif\" font-size=\"14.00\">class = 8</text>\n</g>\n<!-- 22&#45;&gt;23 -->\n<g id=\"edge23\" class=\"edge\">\n<title>22&#45;&gt;23</title>\n<path fill=\"none\" stroke=\"black\" d=\"M1717.21,-721.32C1702.53,-705.3 1685.7,-686.95 1671,-670.91\"/>\n<polygon fill=\"black\" stroke=\"black\" points=\"1673.31,-668.25 1663.97,-663.24 1668.15,-672.98 1673.31,-668.25\"/>\n</g>\n<!-- 24 -->\n<g id=\"node25\" class=\"node\">\n<title>24</title>\n<path fill=\"#399de5\" stroke=\"black\" d=\"M1969.5,-663C1969.5,-663 1771.5,-663 1771.5,-663 1765.5,-663 1759.5,-657 1759.5,-651 1759.5,-651 1759.5,-607 1759.5,-607 1759.5,-601 1765.5,-595 1771.5,-595 1771.5,-595 1969.5,-595 1969.5,-595 1975.5,-595 1981.5,-601 1981.5,-607 1981.5,-607 1981.5,-651 1981.5,-651 1981.5,-657 1975.5,-663 1969.5,-663\"/>\n<text text-anchor=\"middle\" x=\"1870.5\" y=\"-647.8\" font-family=\"Helvetica,sans-Serif\" font-size=\"14.00\">gini = 0.0</text>\n<text text-anchor=\"middle\" x=\"1870.5\" y=\"-632.8\" font-family=\"Helvetica,sans-Serif\" font-size=\"14.00\">samples = 17</text>\n<text text-anchor=\"middle\" x=\"1870.5\" y=\"-617.8\" font-family=\"Helvetica,sans-Serif\" font-size=\"14.00\">value = [0, 0, 0, 0, 0, 17, 0, 0, 0, 0]</text>\n<text text-anchor=\"middle\" x=\"1870.5\" y=\"-602.8\" font-family=\"Helvetica,sans-Serif\" font-size=\"14.00\">class = 5</text>\n</g>\n<!-- 22&#45;&gt;24 -->\n<g id=\"edge24\" class=\"edge\">\n<title>22&#45;&gt;24</title>\n<path fill=\"none\" stroke=\"black\" d=\"M1790.25,-721.32C1804.32,-705.3 1820.46,-686.95 1834.55,-670.91\"/>\n<polygon fill=\"black\" stroke=\"black\" points=\"1837.31,-673.07 1841.29,-663.24 1832.06,-668.45 1837.31,-673.07\"/>\n</g>\n<!-- 26 -->\n<g id=\"node27\" class=\"node\">\n<title>26</title>\n<path fill=\"#e63e5d\" stroke=\"black\" d=\"M2325.5,-804.5C2325.5,-804.5 2127.5,-804.5 2127.5,-804.5 2121.5,-804.5 2115.5,-798.5 2115.5,-792.5 2115.5,-792.5 2115.5,-733.5 2115.5,-733.5 2115.5,-727.5 2121.5,-721.5 2127.5,-721.5 2127.5,-721.5 2325.5,-721.5 2325.5,-721.5 2331.5,-721.5 2337.5,-727.5 2337.5,-733.5 2337.5,-733.5 2337.5,-792.5 2337.5,-792.5 2337.5,-798.5 2331.5,-804.5 2325.5,-804.5\"/>\n<text text-anchor=\"middle\" x=\"2226.5\" y=\"-789.3\" font-family=\"Helvetica,sans-Serif\" font-size=\"14.00\">pix28 &lt;= 6.5</text>\n<text text-anchor=\"middle\" x=\"2226.5\" y=\"-774.3\" font-family=\"Helvetica,sans-Serif\" font-size=\"14.00\">gini = 0.051</text>\n<text text-anchor=\"middle\" x=\"2226.5\" y=\"-759.3\" font-family=\"Helvetica,sans-Serif\" font-size=\"14.00\">samples = 38</text>\n<text text-anchor=\"middle\" x=\"2226.5\" y=\"-744.3\" font-family=\"Helvetica,sans-Serif\" font-size=\"14.00\">value = [0, 0, 0, 1, 0, 0, 0, 0, 0, 37]</text>\n<text text-anchor=\"middle\" x=\"2226.5\" y=\"-729.3\" font-family=\"Helvetica,sans-Serif\" font-size=\"14.00\">class = 9</text>\n</g>\n<!-- 25&#45;&gt;26 -->\n<g id=\"edge26\" class=\"edge\">\n<title>25&#45;&gt;26</title>\n<path fill=\"none\" stroke=\"black\" d=\"M2226.5,-855.32C2226.5,-842.52 2226.5,-828.23 2226.5,-814.82\"/>\n<polygon fill=\"black\" stroke=\"black\" points=\"2230,-814.77 2226.5,-804.77 2223,-814.77 2230,-814.77\"/>\n</g>\n<!-- 29 -->\n<g id=\"node30\" class=\"node\">\n<title>29</title>\n<path fill=\"#ffffff\" stroke=\"black\" d=\"M2677,-804.5C2677,-804.5 2486,-804.5 2486,-804.5 2480,-804.5 2474,-798.5 2474,-792.5 2474,-792.5 2474,-733.5 2474,-733.5 2474,-727.5 2480,-721.5 2486,-721.5 2486,-721.5 2677,-721.5 2677,-721.5 2683,-721.5 2689,-727.5 2689,-733.5 2689,-733.5 2689,-792.5 2689,-792.5 2689,-798.5 2683,-804.5 2677,-804.5\"/>\n<text text-anchor=\"middle\" x=\"2581.5\" y=\"-789.3\" font-family=\"Helvetica,sans-Serif\" font-size=\"14.00\">pix29 &lt;= 5.0</text>\n<text text-anchor=\"middle\" x=\"2581.5\" y=\"-774.3\" font-family=\"Helvetica,sans-Serif\" font-size=\"14.00\">gini = 0.5</text>\n<text text-anchor=\"middle\" x=\"2581.5\" y=\"-759.3\" font-family=\"Helvetica,sans-Serif\" font-size=\"14.00\">samples = 2</text>\n<text text-anchor=\"middle\" x=\"2581.5\" y=\"-744.3\" font-family=\"Helvetica,sans-Serif\" font-size=\"14.00\">value = [0, 0, 0, 0, 0, 1, 0, 0, 1, 0]</text>\n<text text-anchor=\"middle\" x=\"2581.5\" y=\"-729.3\" font-family=\"Helvetica,sans-Serif\" font-size=\"14.00\">class = 5</text>\n</g>\n<!-- 25&#45;&gt;29 -->\n<g id=\"edge29\" class=\"edge\">\n<title>25&#45;&gt;29</title>\n<path fill=\"none\" stroke=\"black\" d=\"M2335.42,-855.5C2376.17,-840.35 2422.62,-823.08 2464.1,-807.65\"/>\n<polygon fill=\"black\" stroke=\"black\" points=\"2465.54,-810.85 2473.7,-804.08 2463.1,-804.29 2465.54,-810.85\"/>\n</g>\n<!-- 27 -->\n<g id=\"node28\" class=\"node\">\n<title>27</title>\n<path fill=\"#39e55e\" stroke=\"black\" d=\"M2203,-663C2203,-663 2012,-663 2012,-663 2006,-663 2000,-657 2000,-651 2000,-651 2000,-607 2000,-607 2000,-601 2006,-595 2012,-595 2012,-595 2203,-595 2203,-595 2209,-595 2215,-601 2215,-607 2215,-607 2215,-651 2215,-651 2215,-657 2209,-663 2203,-663\"/>\n<text text-anchor=\"middle\" x=\"2107.5\" y=\"-647.8\" font-family=\"Helvetica,sans-Serif\" font-size=\"14.00\">gini = 0.0</text>\n<text text-anchor=\"middle\" x=\"2107.5\" y=\"-632.8\" font-family=\"Helvetica,sans-Serif\" font-size=\"14.00\">samples = 1</text>\n<text text-anchor=\"middle\" x=\"2107.5\" y=\"-617.8\" font-family=\"Helvetica,sans-Serif\" font-size=\"14.00\">value = [0, 0, 0, 1, 0, 0, 0, 0, 0, 0]</text>\n<text text-anchor=\"middle\" x=\"2107.5\" y=\"-602.8\" font-family=\"Helvetica,sans-Serif\" font-size=\"14.00\">class = 3</text>\n</g>\n<!-- 26&#45;&gt;27 -->\n<g id=\"edge27\" class=\"edge\">\n<title>26&#45;&gt;27</title>\n<path fill=\"none\" stroke=\"black\" d=\"M2189.83,-721.32C2175.39,-705.3 2158.84,-686.95 2144.38,-670.91\"/>\n<polygon fill=\"black\" stroke=\"black\" points=\"2146.77,-668.33 2137.47,-663.24 2141.57,-673.01 2146.77,-668.33\"/>\n</g>\n<!-- 28 -->\n<g id=\"node29\" class=\"node\">\n<title>28</title>\n<path fill=\"#e53958\" stroke=\"black\" d=\"M2443.5,-663C2443.5,-663 2245.5,-663 2245.5,-663 2239.5,-663 2233.5,-657 2233.5,-651 2233.5,-651 2233.5,-607 2233.5,-607 2233.5,-601 2239.5,-595 2245.5,-595 2245.5,-595 2443.5,-595 2443.5,-595 2449.5,-595 2455.5,-601 2455.5,-607 2455.5,-607 2455.5,-651 2455.5,-651 2455.5,-657 2449.5,-663 2443.5,-663\"/>\n<text text-anchor=\"middle\" x=\"2344.5\" y=\"-647.8\" font-family=\"Helvetica,sans-Serif\" font-size=\"14.00\">gini = 0.0</text>\n<text text-anchor=\"middle\" x=\"2344.5\" y=\"-632.8\" font-family=\"Helvetica,sans-Serif\" font-size=\"14.00\">samples = 37</text>\n<text text-anchor=\"middle\" x=\"2344.5\" y=\"-617.8\" font-family=\"Helvetica,sans-Serif\" font-size=\"14.00\">value = [0, 0, 0, 0, 0, 0, 0, 0, 0, 37]</text>\n<text text-anchor=\"middle\" x=\"2344.5\" y=\"-602.8\" font-family=\"Helvetica,sans-Serif\" font-size=\"14.00\">class = 9</text>\n</g>\n<!-- 26&#45;&gt;28 -->\n<g id=\"edge28\" class=\"edge\">\n<title>26&#45;&gt;28</title>\n<path fill=\"none\" stroke=\"black\" d=\"M2262.87,-721.32C2277.18,-705.3 2293.59,-686.95 2307.93,-670.91\"/>\n<polygon fill=\"black\" stroke=\"black\" points=\"2310.73,-673.03 2314.78,-663.24 2305.51,-668.37 2310.73,-673.03\"/>\n</g>\n<!-- 30 -->\n<g id=\"node31\" class=\"node\">\n<title>30</title>\n<path fill=\"#e539c0\" stroke=\"black\" d=\"M2677,-663C2677,-663 2486,-663 2486,-663 2480,-663 2474,-657 2474,-651 2474,-651 2474,-607 2474,-607 2474,-601 2480,-595 2486,-595 2486,-595 2677,-595 2677,-595 2683,-595 2689,-601 2689,-607 2689,-607 2689,-651 2689,-651 2689,-657 2683,-663 2677,-663\"/>\n<text text-anchor=\"middle\" x=\"2581.5\" y=\"-647.8\" font-family=\"Helvetica,sans-Serif\" font-size=\"14.00\">gini = 0.0</text>\n<text text-anchor=\"middle\" x=\"2581.5\" y=\"-632.8\" font-family=\"Helvetica,sans-Serif\" font-size=\"14.00\">samples = 1</text>\n<text text-anchor=\"middle\" x=\"2581.5\" y=\"-617.8\" font-family=\"Helvetica,sans-Serif\" font-size=\"14.00\">value = [0, 0, 0, 0, 0, 0, 0, 0, 1, 0]</text>\n<text text-anchor=\"middle\" x=\"2581.5\" y=\"-602.8\" font-family=\"Helvetica,sans-Serif\" font-size=\"14.00\">class = 8</text>\n</g>\n<!-- 29&#45;&gt;30 -->\n<g id=\"edge30\" class=\"edge\">\n<title>29&#45;&gt;30</title>\n<path fill=\"none\" stroke=\"black\" d=\"M2581.5,-721.32C2581.5,-706.18 2581.5,-688.94 2581.5,-673.55\"/>\n<polygon fill=\"black\" stroke=\"black\" points=\"2585,-673.24 2581.5,-663.24 2578,-673.24 2585,-673.24\"/>\n</g>\n<!-- 31 -->\n<g id=\"node32\" class=\"node\">\n<title>31</title>\n<path fill=\"#399de5\" stroke=\"black\" d=\"M2910,-663C2910,-663 2719,-663 2719,-663 2713,-663 2707,-657 2707,-651 2707,-651 2707,-607 2707,-607 2707,-601 2713,-595 2719,-595 2719,-595 2910,-595 2910,-595 2916,-595 2922,-601 2922,-607 2922,-607 2922,-651 2922,-651 2922,-657 2916,-663 2910,-663\"/>\n<text text-anchor=\"middle\" x=\"2814.5\" y=\"-647.8\" font-family=\"Helvetica,sans-Serif\" font-size=\"14.00\">gini = 0.0</text>\n<text text-anchor=\"middle\" x=\"2814.5\" y=\"-632.8\" font-family=\"Helvetica,sans-Serif\" font-size=\"14.00\">samples = 1</text>\n<text text-anchor=\"middle\" x=\"2814.5\" y=\"-617.8\" font-family=\"Helvetica,sans-Serif\" font-size=\"14.00\">value = [0, 0, 0, 0, 0, 1, 0, 0, 0, 0]</text>\n<text text-anchor=\"middle\" x=\"2814.5\" y=\"-602.8\" font-family=\"Helvetica,sans-Serif\" font-size=\"14.00\">class = 5</text>\n</g>\n<!-- 29&#45;&gt;31 -->\n<g id=\"edge31\" class=\"edge\">\n<title>29&#45;&gt;31</title>\n<path fill=\"none\" stroke=\"black\" d=\"M2652.99,-721.5C2682.94,-704.53 2717.57,-684.91 2747.06,-668.2\"/>\n<polygon fill=\"black\" stroke=\"black\" points=\"2749.07,-671.09 2756.04,-663.12 2745.62,-665 2749.07,-671.09\"/>\n</g>\n<!-- 33 -->\n<g id=\"node34\" class=\"node\">\n<title>33</title>\n<path fill=\"#f5f5fe\" stroke=\"black\" d=\"M4809,-1080C4809,-1080 4476,-1080 4476,-1080 4470,-1080 4464,-1074 4464,-1068 4464,-1068 4464,-994 4464,-994 4464,-988 4470,-982 4476,-982 4476,-982 4809,-982 4809,-982 4815,-982 4821,-988 4821,-994 4821,-994 4821,-1068 4821,-1068 4821,-1074 4815,-1080 4809,-1080\"/>\n<text text-anchor=\"middle\" x=\"4642.5\" y=\"-1064.8\" font-family=\"Helvetica,sans-Serif\" font-size=\"14.00\">pix42 &lt;= 8.5</text>\n<text text-anchor=\"middle\" x=\"4642.5\" y=\"-1049.8\" font-family=\"Helvetica,sans-Serif\" font-size=\"14.00\">gini = 0.742</text>\n<text text-anchor=\"middle\" x=\"4642.5\" y=\"-1034.8\" font-family=\"Helvetica,sans-Serif\" font-size=\"14.00\">samples = 353</text>\n<text text-anchor=\"middle\" x=\"4642.5\" y=\"-1019.8\" font-family=\"Helvetica,sans-Serif\" font-size=\"14.00\">value = [0.0, 32.0, 36.0, 11.0, 29.0, 114.0, 126.0, 4.0, 1.0</text>\n<text text-anchor=\"middle\" x=\"4642.5\" y=\"-1004.8\" font-family=\"Helvetica,sans-Serif\" font-size=\"14.00\">0.0]</text>\n<text text-anchor=\"middle\" x=\"4642.5\" y=\"-989.8\" font-family=\"Helvetica,sans-Serif\" font-size=\"14.00\">class = 6</text>\n</g>\n<!-- 32&#45;&gt;33 -->\n<g id=\"edge33\" class=\"edge\">\n<title>32&#45;&gt;33</title>\n<path fill=\"none\" stroke=\"black\" d=\"M4642.5,-1115.97C4642.5,-1107.69 4642.5,-1099 4642.5,-1090.48\"/>\n<polygon fill=\"black\" stroke=\"black\" points=\"4646,-1090.21 4642.5,-1080.21 4639,-1090.21 4646,-1090.21\"/>\n</g>\n<!-- 80 -->\n<g id=\"node81\" class=\"node\">\n<title>80</title>\n<path fill=\"#fffeff\" stroke=\"black\" d=\"M7158.5,-1080C7158.5,-1080 6810.5,-1080 6810.5,-1080 6804.5,-1080 6798.5,-1074 6798.5,-1068 6798.5,-1068 6798.5,-994 6798.5,-994 6798.5,-988 6804.5,-982 6810.5,-982 6810.5,-982 7158.5,-982 7158.5,-982 7164.5,-982 7170.5,-988 7170.5,-994 7170.5,-994 7170.5,-1068 7170.5,-1068 7170.5,-1074 7164.5,-1080 7158.5,-1080\"/>\n<text text-anchor=\"middle\" x=\"6984.5\" y=\"-1064.8\" font-family=\"Helvetica,sans-Serif\" font-size=\"14.00\">pix60 &lt;= 7.5</text>\n<text text-anchor=\"middle\" x=\"6984.5\" y=\"-1049.8\" font-family=\"Helvetica,sans-Serif\" font-size=\"14.00\">gini = 0.86</text>\n<text text-anchor=\"middle\" x=\"6984.5\" y=\"-1034.8\" font-family=\"Helvetica,sans-Serif\" font-size=\"14.00\">samples = 765</text>\n<text text-anchor=\"middle\" x=\"6984.5\" y=\"-1019.8\" font-family=\"Helvetica,sans-Serif\" font-size=\"14.00\">value = [4.0, 102.0, 92.0, 113.0, 95.0, 8.0, 4.0, 127.0, 130.0</text>\n<text text-anchor=\"middle\" x=\"6984.5\" y=\"-1004.8\" font-family=\"Helvetica,sans-Serif\" font-size=\"14.00\">90.0]</text>\n<text text-anchor=\"middle\" x=\"6984.5\" y=\"-989.8\" font-family=\"Helvetica,sans-Serif\" font-size=\"14.00\">class = 8</text>\n</g>\n<!-- 32&#45;&gt;80 -->\n<g id=\"edge80\" class=\"edge\">\n<title>32&#45;&gt;80</title>\n<path fill=\"none\" stroke=\"black\" d=\"M4830.69,-1153.39C5267.05,-1128.8 6344.41,-1068.08 6788.41,-1043.05\"/>\n<polygon fill=\"black\" stroke=\"black\" points=\"6788.67,-1046.54 6798.45,-1042.49 6788.27,-1039.55 6788.67,-1046.54\"/>\n</g>\n<!-- 34 -->\n<g id=\"node35\" class=\"node\">\n<title>34</title>\n<path fill=\"#96cbf1\" stroke=\"black\" d=\"M4341.5,-938.5C4341.5,-938.5 4113.5,-938.5 4113.5,-938.5 4107.5,-938.5 4101.5,-932.5 4101.5,-926.5 4101.5,-926.5 4101.5,-867.5 4101.5,-867.5 4101.5,-861.5 4107.5,-855.5 4113.5,-855.5 4113.5,-855.5 4341.5,-855.5 4341.5,-855.5 4347.5,-855.5 4353.5,-861.5 4353.5,-867.5 4353.5,-867.5 4353.5,-926.5 4353.5,-926.5 4353.5,-932.5 4347.5,-938.5 4341.5,-938.5\"/>\n<text text-anchor=\"middle\" x=\"4227.5\" y=\"-923.3\" font-family=\"Helvetica,sans-Serif\" font-size=\"14.00\">pix5 &lt;= 0.5</text>\n<text text-anchor=\"middle\" x=\"4227.5\" y=\"-908.3\" font-family=\"Helvetica,sans-Serif\" font-size=\"14.00\">gini = 0.594</text>\n<text text-anchor=\"middle\" x=\"4227.5\" y=\"-893.3\" font-family=\"Helvetica,sans-Serif\" font-size=\"14.00\">samples = 185</text>\n<text text-anchor=\"middle\" x=\"4227.5\" y=\"-878.3\" font-family=\"Helvetica,sans-Serif\" font-size=\"14.00\">value = [0, 25, 28, 11, 5, 111, 1, 3, 1, 0]</text>\n<text text-anchor=\"middle\" x=\"4227.5\" y=\"-863.3\" font-family=\"Helvetica,sans-Serif\" font-size=\"14.00\">class = 5</text>\n</g>\n<!-- 33&#45;&gt;34 -->\n<g id=\"edge34\" class=\"edge\">\n<title>33&#45;&gt;34</title>\n<path fill=\"none\" stroke=\"black\" d=\"M4491.5,-981.97C4449.66,-968.66 4404.51,-954.3 4363.58,-941.28\"/>\n<polygon fill=\"black\" stroke=\"black\" points=\"4364.41,-937.87 4353.82,-938.18 4362.29,-944.54 4364.41,-937.87\"/>\n</g>\n<!-- 59 -->\n<g id=\"node60\" class=\"node\">\n<title>59</title>\n<path fill=\"#7674ed\" stroke=\"black\" d=\"M5283,-938.5C5283,-938.5 5070,-938.5 5070,-938.5 5064,-938.5 5058,-932.5 5058,-926.5 5058,-926.5 5058,-867.5 5058,-867.5 5058,-861.5 5064,-855.5 5070,-855.5 5070,-855.5 5283,-855.5 5283,-855.5 5289,-855.5 5295,-861.5 5295,-867.5 5295,-867.5 5295,-926.5 5295,-926.5 5295,-932.5 5289,-938.5 5283,-938.5\"/>\n<text text-anchor=\"middle\" x=\"5176.5\" y=\"-923.3\" font-family=\"Helvetica,sans-Serif\" font-size=\"14.00\">pix54 &lt;= 3.5</text>\n<text text-anchor=\"middle\" x=\"5176.5\" y=\"-908.3\" font-family=\"Helvetica,sans-Serif\" font-size=\"14.00\">gini = 0.422</text>\n<text text-anchor=\"middle\" x=\"5176.5\" y=\"-893.3\" font-family=\"Helvetica,sans-Serif\" font-size=\"14.00\">samples = 168</text>\n<text text-anchor=\"middle\" x=\"5176.5\" y=\"-878.3\" font-family=\"Helvetica,sans-Serif\" font-size=\"14.00\">value = [0, 7, 8, 0, 24, 3, 125, 1, 0, 0]</text>\n<text text-anchor=\"middle\" x=\"5176.5\" y=\"-863.3\" font-family=\"Helvetica,sans-Serif\" font-size=\"14.00\">class = 6</text>\n</g>\n<!-- 33&#45;&gt;59 -->\n<g id=\"edge59\" class=\"edge\">\n<title>33&#45;&gt;59</title>\n<path fill=\"none\" stroke=\"black\" d=\"M4821.06,-985.86C4895.33,-967.5 4979.89,-946.6 5047.9,-929.79\"/>\n<polygon fill=\"black\" stroke=\"black\" points=\"5048.94,-933.14 5057.81,-927.34 5047.26,-926.34 5048.94,-933.14\"/>\n</g>\n<!-- 35 -->\n<g id=\"node36\" class=\"node\">\n<title>35</title>\n<path fill=\"#f6fdf1\" stroke=\"black\" d=\"M3627.5,-804.5C3627.5,-804.5 3421.5,-804.5 3421.5,-804.5 3415.5,-804.5 3409.5,-798.5 3409.5,-792.5 3409.5,-792.5 3409.5,-733.5 3409.5,-733.5 3409.5,-727.5 3415.5,-721.5 3421.5,-721.5 3421.5,-721.5 3627.5,-721.5 3627.5,-721.5 3633.5,-721.5 3639.5,-727.5 3639.5,-733.5 3639.5,-733.5 3639.5,-792.5 3639.5,-792.5 3639.5,-798.5 3633.5,-804.5 3627.5,-804.5\"/>\n<text text-anchor=\"middle\" x=\"3524.5\" y=\"-789.3\" font-family=\"Helvetica,sans-Serif\" font-size=\"14.00\">pix9 &lt;= 0.5</text>\n<text text-anchor=\"middle\" x=\"3524.5\" y=\"-774.3\" font-family=\"Helvetica,sans-Serif\" font-size=\"14.00\">gini = 0.669</text>\n<text text-anchor=\"middle\" x=\"3524.5\" y=\"-759.3\" font-family=\"Helvetica,sans-Serif\" font-size=\"14.00\">samples = 67</text>\n<text text-anchor=\"middle\" x=\"3524.5\" y=\"-744.3\" font-family=\"Helvetica,sans-Serif\" font-size=\"14.00\">value = [0, 25, 28, 8, 3, 0, 1, 2, 0, 0]</text>\n<text text-anchor=\"middle\" x=\"3524.5\" y=\"-729.3\" font-family=\"Helvetica,sans-Serif\" font-size=\"14.00\">class = 2</text>\n</g>\n<!-- 34&#45;&gt;35 -->\n<g id=\"edge35\" class=\"edge\">\n<title>34&#45;&gt;35</title>\n<path fill=\"none\" stroke=\"black\" d=\"M4101.41,-872.32C3973.69,-848.34 3777.29,-811.47 3649.84,-787.53\"/>\n<polygon fill=\"black\" stroke=\"black\" points=\"3650.11,-784.02 3639.64,-785.62 3648.82,-790.9 3650.11,-784.02\"/>\n</g>\n<!-- 50 -->\n<g id=\"node51\" class=\"node\">\n<title>50</title>\n<path fill=\"#45a3e7\" stroke=\"black\" d=\"M4330.5,-804.5C4330.5,-804.5 4124.5,-804.5 4124.5,-804.5 4118.5,-804.5 4112.5,-798.5 4112.5,-792.5 4112.5,-792.5 4112.5,-733.5 4112.5,-733.5 4112.5,-727.5 4118.5,-721.5 4124.5,-721.5 4124.5,-721.5 4330.5,-721.5 4330.5,-721.5 4336.5,-721.5 4342.5,-727.5 4342.5,-733.5 4342.5,-733.5 4342.5,-792.5 4342.5,-792.5 4342.5,-798.5 4336.5,-804.5 4330.5,-804.5\"/>\n<text text-anchor=\"middle\" x=\"4227.5\" y=\"-789.3\" font-family=\"Helvetica,sans-Serif\" font-size=\"14.00\">pix18 &lt;= 5.0</text>\n<text text-anchor=\"middle\" x=\"4227.5\" y=\"-774.3\" font-family=\"Helvetica,sans-Serif\" font-size=\"14.00\">gini = 0.114</text>\n<text text-anchor=\"middle\" x=\"4227.5\" y=\"-759.3\" font-family=\"Helvetica,sans-Serif\" font-size=\"14.00\">samples = 118</text>\n<text text-anchor=\"middle\" x=\"4227.5\" y=\"-744.3\" font-family=\"Helvetica,sans-Serif\" font-size=\"14.00\">value = [0, 0, 0, 3, 2, 111, 0, 1, 1, 0]</text>\n<text text-anchor=\"middle\" x=\"4227.5\" y=\"-729.3\" font-family=\"Helvetica,sans-Serif\" font-size=\"14.00\">class = 5</text>\n</g>\n<!-- 34&#45;&gt;50 -->\n<g id=\"edge50\" class=\"edge\">\n<title>34&#45;&gt;50</title>\n<path fill=\"none\" stroke=\"black\" d=\"M4227.5,-855.32C4227.5,-842.52 4227.5,-828.23 4227.5,-814.82\"/>\n<polygon fill=\"black\" stroke=\"black\" points=\"4231,-814.77 4227.5,-804.77 4224,-814.77 4231,-814.77\"/>\n</g>\n<!-- 36 -->\n<g id=\"node37\" class=\"node\">\n<title>36</title>\n<path fill=\"#e8ea5f\" stroke=\"black\" d=\"M3150.5,-670.5C3150.5,-670.5 2952.5,-670.5 2952.5,-670.5 2946.5,-670.5 2940.5,-664.5 2940.5,-658.5 2940.5,-658.5 2940.5,-599.5 2940.5,-599.5 2940.5,-593.5 2946.5,-587.5 2952.5,-587.5 2952.5,-587.5 3150.5,-587.5 3150.5,-587.5 3156.5,-587.5 3162.5,-593.5 3162.5,-599.5 3162.5,-599.5 3162.5,-658.5 3162.5,-658.5 3162.5,-664.5 3156.5,-670.5 3150.5,-670.5\"/>\n<text text-anchor=\"middle\" x=\"3051.5\" y=\"-655.3\" font-family=\"Helvetica,sans-Serif\" font-size=\"14.00\">pix37 &lt;= 11.0</text>\n<text text-anchor=\"middle\" x=\"3051.5\" y=\"-640.3\" font-family=\"Helvetica,sans-Serif\" font-size=\"14.00\">gini = 0.302</text>\n<text text-anchor=\"middle\" x=\"3051.5\" y=\"-625.3\" font-family=\"Helvetica,sans-Serif\" font-size=\"14.00\">samples = 29</text>\n<text text-anchor=\"middle\" x=\"3051.5\" y=\"-610.3\" font-family=\"Helvetica,sans-Serif\" font-size=\"14.00\">value = [0, 24, 1, 0, 3, 0, 1, 0, 0, 0]</text>\n<text text-anchor=\"middle\" x=\"3051.5\" y=\"-595.3\" font-family=\"Helvetica,sans-Serif\" font-size=\"14.00\">class = 1</text>\n</g>\n<!-- 35&#45;&gt;36 -->\n<g id=\"edge36\" class=\"edge\">\n<title>35&#45;&gt;36</title>\n<path fill=\"none\" stroke=\"black\" d=\"M3409.4,-729.88C3337.56,-709.83 3245.22,-684.06 3172.33,-663.72\"/>\n<polygon fill=\"black\" stroke=\"black\" points=\"3173.2,-660.33 3162.63,-661.01 3171.32,-667.07 3173.2,-660.33\"/>\n</g>\n<!-- 43 -->\n<g id=\"node44\" class=\"node\">\n<title>43</title>\n<path fill=\"#abef82\" stroke=\"black\" d=\"M3623.5,-670.5C3623.5,-670.5 3425.5,-670.5 3425.5,-670.5 3419.5,-670.5 3413.5,-664.5 3413.5,-658.5 3413.5,-658.5 3413.5,-599.5 3413.5,-599.5 3413.5,-593.5 3419.5,-587.5 3425.5,-587.5 3425.5,-587.5 3623.5,-587.5 3623.5,-587.5 3629.5,-587.5 3635.5,-593.5 3635.5,-599.5 3635.5,-599.5 3635.5,-658.5 3635.5,-658.5 3635.5,-664.5 3629.5,-670.5 3623.5,-670.5\"/>\n<text text-anchor=\"middle\" x=\"3524.5\" y=\"-655.3\" font-family=\"Helvetica,sans-Serif\" font-size=\"14.00\">pix37 &lt;= 4.5</text>\n<text text-anchor=\"middle\" x=\"3524.5\" y=\"-640.3\" font-family=\"Helvetica,sans-Serif\" font-size=\"14.00\">gini = 0.447</text>\n<text text-anchor=\"middle\" x=\"3524.5\" y=\"-625.3\" font-family=\"Helvetica,sans-Serif\" font-size=\"14.00\">samples = 38</text>\n<text text-anchor=\"middle\" x=\"3524.5\" y=\"-610.3\" font-family=\"Helvetica,sans-Serif\" font-size=\"14.00\">value = [0, 1, 27, 8, 0, 0, 0, 2, 0, 0]</text>\n<text text-anchor=\"middle\" x=\"3524.5\" y=\"-595.3\" font-family=\"Helvetica,sans-Serif\" font-size=\"14.00\">class = 2</text>\n</g>\n<!-- 35&#45;&gt;43 -->\n<g id=\"edge43\" class=\"edge\">\n<title>35&#45;&gt;43</title>\n<path fill=\"none\" stroke=\"black\" d=\"M3524.5,-721.32C3524.5,-708.52 3524.5,-694.23 3524.5,-680.82\"/>\n<polygon fill=\"black\" stroke=\"black\" points=\"3528,-680.77 3524.5,-670.77 3521,-680.77 3528,-680.77\"/>\n</g>\n<!-- 37 -->\n<g id=\"node38\" class=\"node\">\n<title>37</title>\n<path fill=\"#e3e641\" stroke=\"black\" d=\"M2563.5,-544C2563.5,-544 2365.5,-544 2365.5,-544 2359.5,-544 2353.5,-538 2353.5,-532 2353.5,-532 2353.5,-473 2353.5,-473 2353.5,-467 2359.5,-461 2365.5,-461 2365.5,-461 2563.5,-461 2563.5,-461 2569.5,-461 2575.5,-467 2575.5,-473 2575.5,-473 2575.5,-532 2575.5,-532 2575.5,-538 2569.5,-544 2563.5,-544\"/>\n<text text-anchor=\"middle\" x=\"2464.5\" y=\"-528.8\" font-family=\"Helvetica,sans-Serif\" font-size=\"14.00\">pix27 &lt;= 5.5</text>\n<text text-anchor=\"middle\" x=\"2464.5\" y=\"-513.8\" font-family=\"Helvetica,sans-Serif\" font-size=\"14.00\">gini = 0.077</text>\n<text text-anchor=\"middle\" x=\"2464.5\" y=\"-498.8\" font-family=\"Helvetica,sans-Serif\" font-size=\"14.00\">samples = 25</text>\n<text text-anchor=\"middle\" x=\"2464.5\" y=\"-483.8\" font-family=\"Helvetica,sans-Serif\" font-size=\"14.00\">value = [0, 24, 1, 0, 0, 0, 0, 0, 0, 0]</text>\n<text text-anchor=\"middle\" x=\"2464.5\" y=\"-468.8\" font-family=\"Helvetica,sans-Serif\" font-size=\"14.00\">class = 1</text>\n</g>\n<!-- 36&#45;&gt;37 -->\n<g id=\"edge37\" class=\"edge\">\n<title>36&#45;&gt;37</title>\n<path fill=\"none\" stroke=\"black\" d=\"M2954.38,-587.39C2946.37,-584.68 2938.34,-582.17 2930.5,-580 2815.46,-548.14 2680.54,-527.77 2585.57,-516.14\"/>\n<polygon fill=\"black\" stroke=\"black\" points=\"2585.98,-512.66 2575.64,-514.93 2585.14,-519.61 2585.98,-512.66\"/>\n</g>\n<!-- 40 -->\n<g id=\"node41\" class=\"node\">\n<title>40</title>\n<path fill=\"#7beed8\" stroke=\"black\" d=\"M3030,-544C3030,-544 2839,-544 2839,-544 2833,-544 2827,-538 2827,-532 2827,-532 2827,-473 2827,-473 2827,-467 2833,-461 2839,-461 2839,-461 3030,-461 3030,-461 3036,-461 3042,-467 3042,-473 3042,-473 3042,-532 3042,-532 3042,-538 3036,-544 3030,-544\"/>\n<text text-anchor=\"middle\" x=\"2934.5\" y=\"-528.8\" font-family=\"Helvetica,sans-Serif\" font-size=\"14.00\">pix50 &lt;= 1.0</text>\n<text text-anchor=\"middle\" x=\"2934.5\" y=\"-513.8\" font-family=\"Helvetica,sans-Serif\" font-size=\"14.00\">gini = 0.375</text>\n<text text-anchor=\"middle\" x=\"2934.5\" y=\"-498.8\" font-family=\"Helvetica,sans-Serif\" font-size=\"14.00\">samples = 4</text>\n<text text-anchor=\"middle\" x=\"2934.5\" y=\"-483.8\" font-family=\"Helvetica,sans-Serif\" font-size=\"14.00\">value = [0, 0, 0, 0, 3, 0, 1, 0, 0, 0]</text>\n<text text-anchor=\"middle\" x=\"2934.5\" y=\"-468.8\" font-family=\"Helvetica,sans-Serif\" font-size=\"14.00\">class = 4</text>\n</g>\n<!-- 36&#45;&gt;40 -->\n<g id=\"edge40\" class=\"edge\">\n<title>36&#45;&gt;40</title>\n<path fill=\"none\" stroke=\"black\" d=\"M3013.19,-587.23C3002.58,-575.95 2990.97,-563.59 2980,-551.91\"/>\n<polygon fill=\"black\" stroke=\"black\" points=\"2982.29,-549.25 2972.9,-544.36 2977.19,-554.04 2982.29,-549.25\"/>\n</g>\n<!-- 38 -->\n<g id=\"node39\" class=\"node\">\n<title>38</title>\n<path fill=\"#7be539\" stroke=\"black\" d=\"M2323,-417.5C2323,-417.5 2132,-417.5 2132,-417.5 2126,-417.5 2120,-411.5 2120,-405.5 2120,-405.5 2120,-361.5 2120,-361.5 2120,-355.5 2126,-349.5 2132,-349.5 2132,-349.5 2323,-349.5 2323,-349.5 2329,-349.5 2335,-355.5 2335,-361.5 2335,-361.5 2335,-405.5 2335,-405.5 2335,-411.5 2329,-417.5 2323,-417.5\"/>\n<text text-anchor=\"middle\" x=\"2227.5\" y=\"-402.3\" font-family=\"Helvetica,sans-Serif\" font-size=\"14.00\">gini = 0.0</text>\n<text text-anchor=\"middle\" x=\"2227.5\" y=\"-387.3\" font-family=\"Helvetica,sans-Serif\" font-size=\"14.00\">samples = 1</text>\n<text text-anchor=\"middle\" x=\"2227.5\" y=\"-372.3\" font-family=\"Helvetica,sans-Serif\" font-size=\"14.00\">value = [0, 0, 1, 0, 0, 0, 0, 0, 0, 0]</text>\n<text text-anchor=\"middle\" x=\"2227.5\" y=\"-357.3\" font-family=\"Helvetica,sans-Serif\" font-size=\"14.00\">class = 2</text>\n</g>\n<!-- 37&#45;&gt;38 -->\n<g id=\"edge38\" class=\"edge\">\n<title>37&#45;&gt;38</title>\n<path fill=\"none\" stroke=\"black\" d=\"M2382.27,-460.91C2356.79,-448.33 2328.84,-434.53 2303.78,-422.16\"/>\n<polygon fill=\"black\" stroke=\"black\" points=\"2305.2,-418.96 2294.68,-417.67 2302.1,-425.23 2305.2,-418.96\"/>\n</g>\n<!-- 39 -->\n<g id=\"node40\" class=\"node\">\n<title>39</title>\n<path fill=\"#e2e539\" stroke=\"black\" d=\"M2563.5,-417.5C2563.5,-417.5 2365.5,-417.5 2365.5,-417.5 2359.5,-417.5 2353.5,-411.5 2353.5,-405.5 2353.5,-405.5 2353.5,-361.5 2353.5,-361.5 2353.5,-355.5 2359.5,-349.5 2365.5,-349.5 2365.5,-349.5 2563.5,-349.5 2563.5,-349.5 2569.5,-349.5 2575.5,-355.5 2575.5,-361.5 2575.5,-361.5 2575.5,-405.5 2575.5,-405.5 2575.5,-411.5 2569.5,-417.5 2563.5,-417.5\"/>\n<text text-anchor=\"middle\" x=\"2464.5\" y=\"-402.3\" font-family=\"Helvetica,sans-Serif\" font-size=\"14.00\">gini = 0.0</text>\n<text text-anchor=\"middle\" x=\"2464.5\" y=\"-387.3\" font-family=\"Helvetica,sans-Serif\" font-size=\"14.00\">samples = 24</text>\n<text text-anchor=\"middle\" x=\"2464.5\" y=\"-372.3\" font-family=\"Helvetica,sans-Serif\" font-size=\"14.00\">value = [0, 24, 0, 0, 0, 0, 0, 0, 0, 0]</text>\n<text text-anchor=\"middle\" x=\"2464.5\" y=\"-357.3\" font-family=\"Helvetica,sans-Serif\" font-size=\"14.00\">class = 1</text>\n</g>\n<!-- 37&#45;&gt;39 -->\n<g id=\"edge39\" class=\"edge\">\n<title>37&#45;&gt;39</title>\n<path fill=\"none\" stroke=\"black\" d=\"M2464.5,-460.91C2464.5,-450.2 2464.5,-438.62 2464.5,-427.78\"/>\n<polygon fill=\"black\" stroke=\"black\" points=\"2468,-427.67 2464.5,-417.67 2461,-427.67 2468,-427.67\"/>\n</g>\n<!-- 41 -->\n<g id=\"node42\" class=\"node\">\n<title>41</title>\n<path fill=\"#39e5c5\" stroke=\"black\" d=\"M2797,-417.5C2797,-417.5 2606,-417.5 2606,-417.5 2600,-417.5 2594,-411.5 2594,-405.5 2594,-405.5 2594,-361.5 2594,-361.5 2594,-355.5 2600,-349.5 2606,-349.5 2606,-349.5 2797,-349.5 2797,-349.5 2803,-349.5 2809,-355.5 2809,-361.5 2809,-361.5 2809,-405.5 2809,-405.5 2809,-411.5 2803,-417.5 2797,-417.5\"/>\n<text text-anchor=\"middle\" x=\"2701.5\" y=\"-402.3\" font-family=\"Helvetica,sans-Serif\" font-size=\"14.00\">gini = 0.0</text>\n<text text-anchor=\"middle\" x=\"2701.5\" y=\"-387.3\" font-family=\"Helvetica,sans-Serif\" font-size=\"14.00\">samples = 3</text>\n<text text-anchor=\"middle\" x=\"2701.5\" y=\"-372.3\" font-family=\"Helvetica,sans-Serif\" font-size=\"14.00\">value = [0, 0, 0, 0, 3, 0, 0, 0, 0, 0]</text>\n<text text-anchor=\"middle\" x=\"2701.5\" y=\"-357.3\" font-family=\"Helvetica,sans-Serif\" font-size=\"14.00\">class = 4</text>\n</g>\n<!-- 40&#45;&gt;41 -->\n<g id=\"edge41\" class=\"edge\">\n<title>40&#45;&gt;41</title>\n<path fill=\"none\" stroke=\"black\" d=\"M2853.66,-460.91C2828.61,-448.33 2801.12,-434.53 2776.49,-422.16\"/>\n<polygon fill=\"black\" stroke=\"black\" points=\"2778.06,-419.03 2767.55,-417.67 2774.92,-425.28 2778.06,-419.03\"/>\n</g>\n<!-- 42 -->\n<g id=\"node43\" class=\"node\">\n<title>42</title>\n<path fill=\"#3c39e5\" stroke=\"black\" d=\"M3030,-417.5C3030,-417.5 2839,-417.5 2839,-417.5 2833,-417.5 2827,-411.5 2827,-405.5 2827,-405.5 2827,-361.5 2827,-361.5 2827,-355.5 2833,-349.5 2839,-349.5 2839,-349.5 3030,-349.5 3030,-349.5 3036,-349.5 3042,-355.5 3042,-361.5 3042,-361.5 3042,-405.5 3042,-405.5 3042,-411.5 3036,-417.5 3030,-417.5\"/>\n<text text-anchor=\"middle\" x=\"2934.5\" y=\"-402.3\" font-family=\"Helvetica,sans-Serif\" font-size=\"14.00\">gini = 0.0</text>\n<text text-anchor=\"middle\" x=\"2934.5\" y=\"-387.3\" font-family=\"Helvetica,sans-Serif\" font-size=\"14.00\">samples = 1</text>\n<text text-anchor=\"middle\" x=\"2934.5\" y=\"-372.3\" font-family=\"Helvetica,sans-Serif\" font-size=\"14.00\">value = [0, 0, 0, 0, 0, 0, 1, 0, 0, 0]</text>\n<text text-anchor=\"middle\" x=\"2934.5\" y=\"-357.3\" font-family=\"Helvetica,sans-Serif\" font-size=\"14.00\">class = 6</text>\n</g>\n<!-- 40&#45;&gt;42 -->\n<g id=\"edge42\" class=\"edge\">\n<title>40&#45;&gt;42</title>\n<path fill=\"none\" stroke=\"black\" d=\"M2934.5,-460.91C2934.5,-450.2 2934.5,-438.62 2934.5,-427.78\"/>\n<polygon fill=\"black\" stroke=\"black\" points=\"2938,-427.67 2934.5,-417.67 2931,-427.67 2938,-427.67\"/>\n</g>\n<!-- 44 -->\n<g id=\"node45\" class=\"node\">\n<title>44</title>\n<path fill=\"#80e640\" stroke=\"black\" d=\"M3503.5,-544C3503.5,-544 3305.5,-544 3305.5,-544 3299.5,-544 3293.5,-538 3293.5,-532 3293.5,-532 3293.5,-473 3293.5,-473 3293.5,-467 3299.5,-461 3305.5,-461 3305.5,-461 3503.5,-461 3503.5,-461 3509.5,-461 3515.5,-467 3515.5,-473 3515.5,-473 3515.5,-532 3515.5,-532 3515.5,-538 3509.5,-544 3503.5,-544\"/>\n<text text-anchor=\"middle\" x=\"3404.5\" y=\"-528.8\" font-family=\"Helvetica,sans-Serif\" font-size=\"14.00\">pix19 &lt;= 14.5</text>\n<text text-anchor=\"middle\" x=\"3404.5\" y=\"-513.8\" font-family=\"Helvetica,sans-Serif\" font-size=\"14.00\">gini = 0.069</text>\n<text text-anchor=\"middle\" x=\"3404.5\" y=\"-498.8\" font-family=\"Helvetica,sans-Serif\" font-size=\"14.00\">samples = 28</text>\n<text text-anchor=\"middle\" x=\"3404.5\" y=\"-483.8\" font-family=\"Helvetica,sans-Serif\" font-size=\"14.00\">value = [0, 1, 27, 0, 0, 0, 0, 0, 0, 0]</text>\n<text text-anchor=\"middle\" x=\"3404.5\" y=\"-468.8\" font-family=\"Helvetica,sans-Serif\" font-size=\"14.00\">class = 2</text>\n</g>\n<!-- 43&#45;&gt;44 -->\n<g id=\"edge44\" class=\"edge\">\n<title>43&#45;&gt;44</title>\n<path fill=\"none\" stroke=\"black\" d=\"M3485.21,-587.23C3474.23,-575.84 3462.19,-563.35 3450.84,-551.58\"/>\n<polygon fill=\"black\" stroke=\"black\" points=\"3453.34,-549.13 3443.88,-544.36 3448.3,-553.99 3453.34,-549.13\"/>\n</g>\n<!-- 47 -->\n<g id=\"node48\" class=\"node\">\n<title>47</title>\n<path fill=\"#6aec86\" stroke=\"black\" d=\"M3737,-544C3737,-544 3546,-544 3546,-544 3540,-544 3534,-538 3534,-532 3534,-532 3534,-473 3534,-473 3534,-467 3540,-461 3546,-461 3546,-461 3737,-461 3737,-461 3743,-461 3749,-467 3749,-473 3749,-473 3749,-532 3749,-532 3749,-538 3743,-544 3737,-544\"/>\n<text text-anchor=\"middle\" x=\"3641.5\" y=\"-528.8\" font-family=\"Helvetica,sans-Serif\" font-size=\"14.00\">pix51 &lt;= 12.0</text>\n<text text-anchor=\"middle\" x=\"3641.5\" y=\"-513.8\" font-family=\"Helvetica,sans-Serif\" font-size=\"14.00\">gini = 0.32</text>\n<text text-anchor=\"middle\" x=\"3641.5\" y=\"-498.8\" font-family=\"Helvetica,sans-Serif\" font-size=\"14.00\">samples = 10</text>\n<text text-anchor=\"middle\" x=\"3641.5\" y=\"-483.8\" font-family=\"Helvetica,sans-Serif\" font-size=\"14.00\">value = [0, 0, 0, 8, 0, 0, 0, 2, 0, 0]</text>\n<text text-anchor=\"middle\" x=\"3641.5\" y=\"-468.8\" font-family=\"Helvetica,sans-Serif\" font-size=\"14.00\">class = 3</text>\n</g>\n<!-- 43&#45;&gt;47 -->\n<g id=\"edge47\" class=\"edge\">\n<title>43&#45;&gt;47</title>\n<path fill=\"none\" stroke=\"black\" d=\"M3562.81,-587.23C3573.42,-575.95 3585.03,-563.59 3596,-551.91\"/>\n<polygon fill=\"black\" stroke=\"black\" points=\"3598.81,-554.04 3603.1,-544.36 3593.71,-549.25 3598.81,-554.04\"/>\n</g>\n<!-- 45 -->\n<g id=\"node46\" class=\"node\">\n<title>45</title>\n<path fill=\"#7be539\" stroke=\"black\" d=\"M3270.5,-417.5C3270.5,-417.5 3072.5,-417.5 3072.5,-417.5 3066.5,-417.5 3060.5,-411.5 3060.5,-405.5 3060.5,-405.5 3060.5,-361.5 3060.5,-361.5 3060.5,-355.5 3066.5,-349.5 3072.5,-349.5 3072.5,-349.5 3270.5,-349.5 3270.5,-349.5 3276.5,-349.5 3282.5,-355.5 3282.5,-361.5 3282.5,-361.5 3282.5,-405.5 3282.5,-405.5 3282.5,-411.5 3276.5,-417.5 3270.5,-417.5\"/>\n<text text-anchor=\"middle\" x=\"3171.5\" y=\"-402.3\" font-family=\"Helvetica,sans-Serif\" font-size=\"14.00\">gini = 0.0</text>\n<text text-anchor=\"middle\" x=\"3171.5\" y=\"-387.3\" font-family=\"Helvetica,sans-Serif\" font-size=\"14.00\">samples = 27</text>\n<text text-anchor=\"middle\" x=\"3171.5\" y=\"-372.3\" font-family=\"Helvetica,sans-Serif\" font-size=\"14.00\">value = [0, 0, 27, 0, 0, 0, 0, 0, 0, 0]</text>\n<text text-anchor=\"middle\" x=\"3171.5\" y=\"-357.3\" font-family=\"Helvetica,sans-Serif\" font-size=\"14.00\">class = 2</text>\n</g>\n<!-- 44&#45;&gt;45 -->\n<g id=\"edge45\" class=\"edge\">\n<title>44&#45;&gt;45</title>\n<path fill=\"none\" stroke=\"black\" d=\"M3323.66,-460.91C3298.61,-448.33 3271.12,-434.53 3246.49,-422.16\"/>\n<polygon fill=\"black\" stroke=\"black\" points=\"3248.06,-419.03 3237.55,-417.67 3244.92,-425.28 3248.06,-419.03\"/>\n</g>\n<!-- 46 -->\n<g id=\"node47\" class=\"node\">\n<title>46</title>\n<path fill=\"#e2e539\" stroke=\"black\" d=\"M3504,-417.5C3504,-417.5 3313,-417.5 3313,-417.5 3307,-417.5 3301,-411.5 3301,-405.5 3301,-405.5 3301,-361.5 3301,-361.5 3301,-355.5 3307,-349.5 3313,-349.5 3313,-349.5 3504,-349.5 3504,-349.5 3510,-349.5 3516,-355.5 3516,-361.5 3516,-361.5 3516,-405.5 3516,-405.5 3516,-411.5 3510,-417.5 3504,-417.5\"/>\n<text text-anchor=\"middle\" x=\"3408.5\" y=\"-402.3\" font-family=\"Helvetica,sans-Serif\" font-size=\"14.00\">gini = 0.0</text>\n<text text-anchor=\"middle\" x=\"3408.5\" y=\"-387.3\" font-family=\"Helvetica,sans-Serif\" font-size=\"14.00\">samples = 1</text>\n<text text-anchor=\"middle\" x=\"3408.5\" y=\"-372.3\" font-family=\"Helvetica,sans-Serif\" font-size=\"14.00\">value = [0, 1, 0, 0, 0, 0, 0, 0, 0, 0]</text>\n<text text-anchor=\"middle\" x=\"3408.5\" y=\"-357.3\" font-family=\"Helvetica,sans-Serif\" font-size=\"14.00\">class = 1</text>\n</g>\n<!-- 44&#45;&gt;46 -->\n<g id=\"edge46\" class=\"edge\">\n<title>44&#45;&gt;46</title>\n<path fill=\"none\" stroke=\"black\" d=\"M3405.89,-460.91C3406.25,-450.2 3406.65,-438.62 3407.02,-427.78\"/>\n<polygon fill=\"black\" stroke=\"black\" points=\"3410.52,-427.78 3407.37,-417.67 3403.53,-427.54 3410.52,-427.78\"/>\n</g>\n<!-- 48 -->\n<g id=\"node49\" class=\"node\">\n<title>48</title>\n<path fill=\"#39e55e\" stroke=\"black\" d=\"M3737,-417.5C3737,-417.5 3546,-417.5 3546,-417.5 3540,-417.5 3534,-411.5 3534,-405.5 3534,-405.5 3534,-361.5 3534,-361.5 3534,-355.5 3540,-349.5 3546,-349.5 3546,-349.5 3737,-349.5 3737,-349.5 3743,-349.5 3749,-355.5 3749,-361.5 3749,-361.5 3749,-405.5 3749,-405.5 3749,-411.5 3743,-417.5 3737,-417.5\"/>\n<text text-anchor=\"middle\" x=\"3641.5\" y=\"-402.3\" font-family=\"Helvetica,sans-Serif\" font-size=\"14.00\">gini = 0.0</text>\n<text text-anchor=\"middle\" x=\"3641.5\" y=\"-387.3\" font-family=\"Helvetica,sans-Serif\" font-size=\"14.00\">samples = 8</text>\n<text text-anchor=\"middle\" x=\"3641.5\" y=\"-372.3\" font-family=\"Helvetica,sans-Serif\" font-size=\"14.00\">value = [0, 0, 0, 8, 0, 0, 0, 0, 0, 0]</text>\n<text text-anchor=\"middle\" x=\"3641.5\" y=\"-357.3\" font-family=\"Helvetica,sans-Serif\" font-size=\"14.00\">class = 3</text>\n</g>\n<!-- 47&#45;&gt;48 -->\n<g id=\"edge48\" class=\"edge\">\n<title>47&#45;&gt;48</title>\n<path fill=\"none\" stroke=\"black\" d=\"M3641.5,-460.91C3641.5,-450.2 3641.5,-438.62 3641.5,-427.78\"/>\n<polygon fill=\"black\" stroke=\"black\" points=\"3645,-427.67 3641.5,-417.67 3638,-427.67 3645,-427.67\"/>\n</g>\n<!-- 49 -->\n<g id=\"node50\" class=\"node\">\n<title>49</title>\n<path fill=\"#a339e5\" stroke=\"black\" d=\"M3970,-417.5C3970,-417.5 3779,-417.5 3779,-417.5 3773,-417.5 3767,-411.5 3767,-405.5 3767,-405.5 3767,-361.5 3767,-361.5 3767,-355.5 3773,-349.5 3779,-349.5 3779,-349.5 3970,-349.5 3970,-349.5 3976,-349.5 3982,-355.5 3982,-361.5 3982,-361.5 3982,-405.5 3982,-405.5 3982,-411.5 3976,-417.5 3970,-417.5\"/>\n<text text-anchor=\"middle\" x=\"3874.5\" y=\"-402.3\" font-family=\"Helvetica,sans-Serif\" font-size=\"14.00\">gini = 0.0</text>\n<text text-anchor=\"middle\" x=\"3874.5\" y=\"-387.3\" font-family=\"Helvetica,sans-Serif\" font-size=\"14.00\">samples = 2</text>\n<text text-anchor=\"middle\" x=\"3874.5\" y=\"-372.3\" font-family=\"Helvetica,sans-Serif\" font-size=\"14.00\">value = [0, 0, 0, 0, 0, 0, 0, 2, 0, 0]</text>\n<text text-anchor=\"middle\" x=\"3874.5\" y=\"-357.3\" font-family=\"Helvetica,sans-Serif\" font-size=\"14.00\">class = 7</text>\n</g>\n<!-- 47&#45;&gt;49 -->\n<g id=\"edge49\" class=\"edge\">\n<title>47&#45;&gt;49</title>\n<path fill=\"none\" stroke=\"black\" d=\"M3722.34,-460.91C3747.39,-448.33 3774.88,-434.53 3799.51,-422.16\"/>\n<polygon fill=\"black\" stroke=\"black\" points=\"3801.08,-425.28 3808.45,-417.67 3797.94,-419.03 3801.08,-425.28\"/>\n</g>\n<!-- 51 -->\n<g id=\"node52\" class=\"node\">\n<title>51</title>\n<path fill=\"#cef8d7\" stroke=\"black\" d=\"M4203,-670.5C4203,-670.5 4012,-670.5 4012,-670.5 4006,-670.5 4000,-664.5 4000,-658.5 4000,-658.5 4000,-599.5 4000,-599.5 4000,-593.5 4006,-587.5 4012,-587.5 4012,-587.5 4203,-587.5 4203,-587.5 4209,-587.5 4215,-593.5 4215,-599.5 4215,-599.5 4215,-658.5 4215,-658.5 4215,-664.5 4209,-670.5 4203,-670.5\"/>\n<text text-anchor=\"middle\" x=\"4107.5\" y=\"-655.3\" font-family=\"Helvetica,sans-Serif\" font-size=\"14.00\">pix29 &lt;= 5.0</text>\n<text text-anchor=\"middle\" x=\"4107.5\" y=\"-640.3\" font-family=\"Helvetica,sans-Serif\" font-size=\"14.00\">gini = 0.611</text>\n<text text-anchor=\"middle\" x=\"4107.5\" y=\"-625.3\" font-family=\"Helvetica,sans-Serif\" font-size=\"14.00\">samples = 6</text>\n<text text-anchor=\"middle\" x=\"4107.5\" y=\"-610.3\" font-family=\"Helvetica,sans-Serif\" font-size=\"14.00\">value = [0, 0, 0, 3, 2, 0, 0, 1, 0, 0]</text>\n<text text-anchor=\"middle\" x=\"4107.5\" y=\"-595.3\" font-family=\"Helvetica,sans-Serif\" font-size=\"14.00\">class = 3</text>\n</g>\n<!-- 50&#45;&gt;51 -->\n<g id=\"edge51\" class=\"edge\">\n<title>50&#45;&gt;51</title>\n<path fill=\"none\" stroke=\"black\" d=\"M4190.52,-721.32C4178.2,-707.77 4164.35,-692.54 4151.55,-678.46\"/>\n<polygon fill=\"black\" stroke=\"black\" points=\"4153.88,-675.82 4144.57,-670.77 4148.7,-680.53 4153.88,-675.82\"/>\n</g>\n<!-- 56 -->\n<g id=\"node57\" class=\"node\">\n<title>56</title>\n<path fill=\"#3b9ee5\" stroke=\"black\" d=\"M4451.5,-670.5C4451.5,-670.5 4245.5,-670.5 4245.5,-670.5 4239.5,-670.5 4233.5,-664.5 4233.5,-658.5 4233.5,-658.5 4233.5,-599.5 4233.5,-599.5 4233.5,-593.5 4239.5,-587.5 4245.5,-587.5 4245.5,-587.5 4451.5,-587.5 4451.5,-587.5 4457.5,-587.5 4463.5,-593.5 4463.5,-599.5 4463.5,-599.5 4463.5,-658.5 4463.5,-658.5 4463.5,-664.5 4457.5,-670.5 4451.5,-670.5\"/>\n<text text-anchor=\"middle\" x=\"4348.5\" y=\"-655.3\" font-family=\"Helvetica,sans-Serif\" font-size=\"14.00\">pix16 &lt;= 0.5</text>\n<text text-anchor=\"middle\" x=\"4348.5\" y=\"-640.3\" font-family=\"Helvetica,sans-Serif\" font-size=\"14.00\">gini = 0.018</text>\n<text text-anchor=\"middle\" x=\"4348.5\" y=\"-625.3\" font-family=\"Helvetica,sans-Serif\" font-size=\"14.00\">samples = 112</text>\n<text text-anchor=\"middle\" x=\"4348.5\" y=\"-610.3\" font-family=\"Helvetica,sans-Serif\" font-size=\"14.00\">value = [0, 0, 0, 0, 0, 111, 0, 0, 1, 0]</text>\n<text text-anchor=\"middle\" x=\"4348.5\" y=\"-595.3\" font-family=\"Helvetica,sans-Serif\" font-size=\"14.00\">class = 5</text>\n</g>\n<!-- 50&#45;&gt;56 -->\n<g id=\"edge56\" class=\"edge\">\n<title>50&#45;&gt;56</title>\n<path fill=\"none\" stroke=\"black\" d=\"M4264.79,-721.32C4277.21,-707.77 4291.17,-692.54 4304.08,-678.46\"/>\n<polygon fill=\"black\" stroke=\"black\" points=\"4306.95,-680.51 4311.12,-670.77 4301.79,-675.78 4306.95,-680.51\"/>\n</g>\n<!-- 52 -->\n<g id=\"node53\" class=\"node\">\n<title>52</title>\n<path fill=\"#39e55e\" stroke=\"black\" d=\"M3970,-536.5C3970,-536.5 3779,-536.5 3779,-536.5 3773,-536.5 3767,-530.5 3767,-524.5 3767,-524.5 3767,-480.5 3767,-480.5 3767,-474.5 3773,-468.5 3779,-468.5 3779,-468.5 3970,-468.5 3970,-468.5 3976,-468.5 3982,-474.5 3982,-480.5 3982,-480.5 3982,-524.5 3982,-524.5 3982,-530.5 3976,-536.5 3970,-536.5\"/>\n<text text-anchor=\"middle\" x=\"3874.5\" y=\"-521.3\" font-family=\"Helvetica,sans-Serif\" font-size=\"14.00\">gini = 0.0</text>\n<text text-anchor=\"middle\" x=\"3874.5\" y=\"-506.3\" font-family=\"Helvetica,sans-Serif\" font-size=\"14.00\">samples = 3</text>\n<text text-anchor=\"middle\" x=\"3874.5\" y=\"-491.3\" font-family=\"Helvetica,sans-Serif\" font-size=\"14.00\">value = [0, 0, 0, 3, 0, 0, 0, 0, 0, 0]</text>\n<text text-anchor=\"middle\" x=\"3874.5\" y=\"-476.3\" font-family=\"Helvetica,sans-Serif\" font-size=\"14.00\">class = 3</text>\n</g>\n<!-- 51&#45;&gt;52 -->\n<g id=\"edge52\" class=\"edge\">\n<title>51&#45;&gt;52</title>\n<path fill=\"none\" stroke=\"black\" d=\"M4031.53,-587.41C4003.85,-572.62 3972.68,-555.96 3945.45,-541.41\"/>\n<polygon fill=\"black\" stroke=\"black\" points=\"3946.85,-538.19 3936.38,-536.56 3943.55,-544.36 3946.85,-538.19\"/>\n</g>\n<!-- 53 -->\n<g id=\"node54\" class=\"node\">\n<title>53</title>\n<path fill=\"#9cf2e2\" stroke=\"black\" d=\"M4203,-544C4203,-544 4012,-544 4012,-544 4006,-544 4000,-538 4000,-532 4000,-532 4000,-473 4000,-473 4000,-467 4006,-461 4012,-461 4012,-461 4203,-461 4203,-461 4209,-461 4215,-467 4215,-473 4215,-473 4215,-532 4215,-532 4215,-538 4209,-544 4203,-544\"/>\n<text text-anchor=\"middle\" x=\"4107.5\" y=\"-528.8\" font-family=\"Helvetica,sans-Serif\" font-size=\"14.00\">pix25 &lt;= 1.0</text>\n<text text-anchor=\"middle\" x=\"4107.5\" y=\"-513.8\" font-family=\"Helvetica,sans-Serif\" font-size=\"14.00\">gini = 0.444</text>\n<text text-anchor=\"middle\" x=\"4107.5\" y=\"-498.8\" font-family=\"Helvetica,sans-Serif\" font-size=\"14.00\">samples = 3</text>\n<text text-anchor=\"middle\" x=\"4107.5\" y=\"-483.8\" font-family=\"Helvetica,sans-Serif\" font-size=\"14.00\">value = [0, 0, 0, 0, 2, 0, 0, 1, 0, 0]</text>\n<text text-anchor=\"middle\" x=\"4107.5\" y=\"-468.8\" font-family=\"Helvetica,sans-Serif\" font-size=\"14.00\">class = 4</text>\n</g>\n<!-- 51&#45;&gt;53 -->\n<g id=\"edge53\" class=\"edge\">\n<title>51&#45;&gt;53</title>\n<path fill=\"none\" stroke=\"black\" d=\"M4107.5,-587.23C4107.5,-576.81 4107.5,-565.47 4107.5,-554.59\"/>\n<polygon fill=\"black\" stroke=\"black\" points=\"4111,-554.36 4107.5,-544.36 4104,-554.36 4111,-554.36\"/>\n</g>\n<!-- 54 -->\n<g id=\"node55\" class=\"node\">\n<title>54</title>\n<path fill=\"#a339e5\" stroke=\"black\" d=\"M4203,-417.5C4203,-417.5 4012,-417.5 4012,-417.5 4006,-417.5 4000,-411.5 4000,-405.5 4000,-405.5 4000,-361.5 4000,-361.5 4000,-355.5 4006,-349.5 4012,-349.5 4012,-349.5 4203,-349.5 4203,-349.5 4209,-349.5 4215,-355.5 4215,-361.5 4215,-361.5 4215,-405.5 4215,-405.5 4215,-411.5 4209,-417.5 4203,-417.5\"/>\n<text text-anchor=\"middle\" x=\"4107.5\" y=\"-402.3\" font-family=\"Helvetica,sans-Serif\" font-size=\"14.00\">gini = 0.0</text>\n<text text-anchor=\"middle\" x=\"4107.5\" y=\"-387.3\" font-family=\"Helvetica,sans-Serif\" font-size=\"14.00\">samples = 1</text>\n<text text-anchor=\"middle\" x=\"4107.5\" y=\"-372.3\" font-family=\"Helvetica,sans-Serif\" font-size=\"14.00\">value = [0, 0, 0, 0, 0, 0, 0, 1, 0, 0]</text>\n<text text-anchor=\"middle\" x=\"4107.5\" y=\"-357.3\" font-family=\"Helvetica,sans-Serif\" font-size=\"14.00\">class = 7</text>\n</g>\n<!-- 53&#45;&gt;54 -->\n<g id=\"edge54\" class=\"edge\">\n<title>53&#45;&gt;54</title>\n<path fill=\"none\" stroke=\"black\" d=\"M4107.5,-460.91C4107.5,-450.2 4107.5,-438.62 4107.5,-427.78\"/>\n<polygon fill=\"black\" stroke=\"black\" points=\"4111,-427.67 4107.5,-417.67 4104,-427.67 4111,-427.67\"/>\n</g>\n<!-- 55 -->\n<g id=\"node56\" class=\"node\">\n<title>55</title>\n<path fill=\"#39e5c5\" stroke=\"black\" d=\"M4436,-417.5C4436,-417.5 4245,-417.5 4245,-417.5 4239,-417.5 4233,-411.5 4233,-405.5 4233,-405.5 4233,-361.5 4233,-361.5 4233,-355.5 4239,-349.5 4245,-349.5 4245,-349.5 4436,-349.5 4436,-349.5 4442,-349.5 4448,-355.5 4448,-361.5 4448,-361.5 4448,-405.5 4448,-405.5 4448,-411.5 4442,-417.5 4436,-417.5\"/>\n<text text-anchor=\"middle\" x=\"4340.5\" y=\"-402.3\" font-family=\"Helvetica,sans-Serif\" font-size=\"14.00\">gini = 0.0</text>\n<text text-anchor=\"middle\" x=\"4340.5\" y=\"-387.3\" font-family=\"Helvetica,sans-Serif\" font-size=\"14.00\">samples = 2</text>\n<text text-anchor=\"middle\" x=\"4340.5\" y=\"-372.3\" font-family=\"Helvetica,sans-Serif\" font-size=\"14.00\">value = [0, 0, 0, 0, 2, 0, 0, 0, 0, 0]</text>\n<text text-anchor=\"middle\" x=\"4340.5\" y=\"-357.3\" font-family=\"Helvetica,sans-Serif\" font-size=\"14.00\">class = 4</text>\n</g>\n<!-- 53&#45;&gt;55 -->\n<g id=\"edge55\" class=\"edge\">\n<title>53&#45;&gt;55</title>\n<path fill=\"none\" stroke=\"black\" d=\"M4188.34,-460.91C4213.39,-448.33 4240.88,-434.53 4265.51,-422.16\"/>\n<polygon fill=\"black\" stroke=\"black\" points=\"4267.08,-425.28 4274.45,-417.67 4263.94,-419.03 4267.08,-425.28\"/>\n</g>\n<!-- 57 -->\n<g id=\"node58\" class=\"node\">\n<title>57</title>\n<path fill=\"#399de5\" stroke=\"black\" d=\"M4451.5,-536.5C4451.5,-536.5 4245.5,-536.5 4245.5,-536.5 4239.5,-536.5 4233.5,-530.5 4233.5,-524.5 4233.5,-524.5 4233.5,-480.5 4233.5,-480.5 4233.5,-474.5 4239.5,-468.5 4245.5,-468.5 4245.5,-468.5 4451.5,-468.5 4451.5,-468.5 4457.5,-468.5 4463.5,-474.5 4463.5,-480.5 4463.5,-480.5 4463.5,-524.5 4463.5,-524.5 4463.5,-530.5 4457.5,-536.5 4451.5,-536.5\"/>\n<text text-anchor=\"middle\" x=\"4348.5\" y=\"-521.3\" font-family=\"Helvetica,sans-Serif\" font-size=\"14.00\">gini = 0.0</text>\n<text text-anchor=\"middle\" x=\"4348.5\" y=\"-506.3\" font-family=\"Helvetica,sans-Serif\" font-size=\"14.00\">samples = 111</text>\n<text text-anchor=\"middle\" x=\"4348.5\" y=\"-491.3\" font-family=\"Helvetica,sans-Serif\" font-size=\"14.00\">value = [0, 0, 0, 0, 0, 111, 0, 0, 0, 0]</text>\n<text text-anchor=\"middle\" x=\"4348.5\" y=\"-476.3\" font-family=\"Helvetica,sans-Serif\" font-size=\"14.00\">class = 5</text>\n</g>\n<!-- 56&#45;&gt;57 -->\n<g id=\"edge57\" class=\"edge\">\n<title>56&#45;&gt;57</title>\n<path fill=\"none\" stroke=\"black\" d=\"M4348.5,-587.23C4348.5,-574.36 4348.5,-560.1 4348.5,-547.04\"/>\n<polygon fill=\"black\" stroke=\"black\" points=\"4352,-546.88 4348.5,-536.88 4345,-546.88 4352,-546.88\"/>\n</g>\n<!-- 58 -->\n<g id=\"node59\" class=\"node\">\n<title>58</title>\n<path fill=\"#e539c0\" stroke=\"black\" d=\"M4685,-536.5C4685,-536.5 4494,-536.5 4494,-536.5 4488,-536.5 4482,-530.5 4482,-524.5 4482,-524.5 4482,-480.5 4482,-480.5 4482,-474.5 4488,-468.5 4494,-468.5 4494,-468.5 4685,-468.5 4685,-468.5 4691,-468.5 4697,-474.5 4697,-480.5 4697,-480.5 4697,-524.5 4697,-524.5 4697,-530.5 4691,-536.5 4685,-536.5\"/>\n<text text-anchor=\"middle\" x=\"4589.5\" y=\"-521.3\" font-family=\"Helvetica,sans-Serif\" font-size=\"14.00\">gini = 0.0</text>\n<text text-anchor=\"middle\" x=\"4589.5\" y=\"-506.3\" font-family=\"Helvetica,sans-Serif\" font-size=\"14.00\">samples = 1</text>\n<text text-anchor=\"middle\" x=\"4589.5\" y=\"-491.3\" font-family=\"Helvetica,sans-Serif\" font-size=\"14.00\">value = [0, 0, 0, 0, 0, 0, 0, 0, 1, 0]</text>\n<text text-anchor=\"middle\" x=\"4589.5\" y=\"-476.3\" font-family=\"Helvetica,sans-Serif\" font-size=\"14.00\">class = 8</text>\n</g>\n<!-- 56&#45;&gt;58 -->\n<g id=\"edge58\" class=\"edge\">\n<title>56&#45;&gt;58</title>\n<path fill=\"none\" stroke=\"black\" d=\"M4427.08,-587.41C4455.83,-572.55 4488.23,-555.82 4516.48,-541.22\"/>\n<polygon fill=\"black\" stroke=\"black\" points=\"4518.22,-544.26 4525.49,-536.56 4515,-538.05 4518.22,-544.26\"/>\n</g>\n<!-- 60 -->\n<g id=\"node61\" class=\"node\">\n<title>60</title>\n<path fill=\"#a6f3e5\" stroke=\"black\" d=\"M5275.5,-804.5C5275.5,-804.5 5077.5,-804.5 5077.5,-804.5 5071.5,-804.5 5065.5,-798.5 5065.5,-792.5 5065.5,-792.5 5065.5,-733.5 5065.5,-733.5 5065.5,-727.5 5071.5,-721.5 5077.5,-721.5 5077.5,-721.5 5275.5,-721.5 5275.5,-721.5 5281.5,-721.5 5287.5,-727.5 5287.5,-733.5 5287.5,-733.5 5287.5,-792.5 5287.5,-792.5 5287.5,-798.5 5281.5,-804.5 5275.5,-804.5\"/>\n<text text-anchor=\"middle\" x=\"5176.5\" y=\"-789.3\" font-family=\"Helvetica,sans-Serif\" font-size=\"14.00\">pix10 &lt;= 6.5</text>\n<text text-anchor=\"middle\" x=\"5176.5\" y=\"-774.3\" font-family=\"Helvetica,sans-Serif\" font-size=\"14.00\">gini = 0.661</text>\n<text text-anchor=\"middle\" x=\"5176.5\" y=\"-759.3\" font-family=\"Helvetica,sans-Serif\" font-size=\"14.00\">samples = 45</text>\n<text text-anchor=\"middle\" x=\"5176.5\" y=\"-744.3\" font-family=\"Helvetica,sans-Serif\" font-size=\"14.00\">value = [0, 7, 4, 0, 24, 3, 6, 1, 0, 0]</text>\n<text text-anchor=\"middle\" x=\"5176.5\" y=\"-729.3\" font-family=\"Helvetica,sans-Serif\" font-size=\"14.00\">class = 4</text>\n</g>\n<!-- 59&#45;&gt;60 -->\n<g id=\"edge60\" class=\"edge\">\n<title>59&#45;&gt;60</title>\n<path fill=\"none\" stroke=\"black\" d=\"M5176.5,-855.32C5176.5,-842.52 5176.5,-828.23 5176.5,-814.82\"/>\n<polygon fill=\"black\" stroke=\"black\" points=\"5180,-814.77 5176.5,-804.77 5173,-814.77 5180,-814.77\"/>\n</g>\n<!-- 77 -->\n<g id=\"node78\" class=\"node\">\n<title>77</title>\n<path fill=\"#4340e6\" stroke=\"black\" d=\"M5640.5,-804.5C5640.5,-804.5 5434.5,-804.5 5434.5,-804.5 5428.5,-804.5 5422.5,-798.5 5422.5,-792.5 5422.5,-792.5 5422.5,-733.5 5422.5,-733.5 5422.5,-727.5 5428.5,-721.5 5434.5,-721.5 5434.5,-721.5 5640.5,-721.5 5640.5,-721.5 5646.5,-721.5 5652.5,-727.5 5652.5,-733.5 5652.5,-733.5 5652.5,-792.5 5652.5,-792.5 5652.5,-798.5 5646.5,-804.5 5640.5,-804.5\"/>\n<text text-anchor=\"middle\" x=\"5537.5\" y=\"-789.3\" font-family=\"Helvetica,sans-Serif\" font-size=\"14.00\">pix57 &lt;= 0.5</text>\n<text text-anchor=\"middle\" x=\"5537.5\" y=\"-774.3\" font-family=\"Helvetica,sans-Serif\" font-size=\"14.00\">gini = 0.063</text>\n<text text-anchor=\"middle\" x=\"5537.5\" y=\"-759.3\" font-family=\"Helvetica,sans-Serif\" font-size=\"14.00\">samples = 123</text>\n<text text-anchor=\"middle\" x=\"5537.5\" y=\"-744.3\" font-family=\"Helvetica,sans-Serif\" font-size=\"14.00\">value = [0, 0, 4, 0, 0, 0, 119, 0, 0, 0]</text>\n<text text-anchor=\"middle\" x=\"5537.5\" y=\"-729.3\" font-family=\"Helvetica,sans-Serif\" font-size=\"14.00\">class = 6</text>\n</g>\n<!-- 59&#45;&gt;77 -->\n<g id=\"edge77\" class=\"edge\">\n<title>59&#45;&gt;77</title>\n<path fill=\"none\" stroke=\"black\" d=\"M5287.27,-855.5C5328.4,-840.46 5375.25,-823.33 5417.2,-807.99\"/>\n<polygon fill=\"black\" stroke=\"black\" points=\"5418.44,-811.26 5426.63,-804.54 5416.04,-804.69 5418.44,-811.26\"/>\n</g>\n<!-- 61 -->\n<g id=\"node62\" class=\"node\">\n<title>61</title>\n<path fill=\"#49e7ca\" stroke=\"black\" d=\"M5158.5,-670.5C5158.5,-670.5 4960.5,-670.5 4960.5,-670.5 4954.5,-670.5 4948.5,-664.5 4948.5,-658.5 4948.5,-658.5 4948.5,-599.5 4948.5,-599.5 4948.5,-593.5 4954.5,-587.5 4960.5,-587.5 4960.5,-587.5 5158.5,-587.5 5158.5,-587.5 5164.5,-587.5 5170.5,-593.5 5170.5,-599.5 5170.5,-599.5 5170.5,-658.5 5170.5,-658.5 5170.5,-664.5 5164.5,-670.5 5158.5,-670.5\"/>\n<text text-anchor=\"middle\" x=\"5059.5\" y=\"-655.3\" font-family=\"Helvetica,sans-Serif\" font-size=\"14.00\">pix41 &lt;= 1.5</text>\n<text text-anchor=\"middle\" x=\"5059.5\" y=\"-640.3\" font-family=\"Helvetica,sans-Serif\" font-size=\"14.00\">gini = 0.15</text>\n<text text-anchor=\"middle\" x=\"5059.5\" y=\"-625.3\" font-family=\"Helvetica,sans-Serif\" font-size=\"14.00\">samples = 25</text>\n<text text-anchor=\"middle\" x=\"5059.5\" y=\"-610.3\" font-family=\"Helvetica,sans-Serif\" font-size=\"14.00\">value = [0, 1, 0, 0, 23, 0, 1, 0, 0, 0]</text>\n<text text-anchor=\"middle\" x=\"5059.5\" y=\"-595.3\" font-family=\"Helvetica,sans-Serif\" font-size=\"14.00\">class = 4</text>\n</g>\n<!-- 60&#45;&gt;61 -->\n<g id=\"edge61\" class=\"edge\">\n<title>60&#45;&gt;61</title>\n<path fill=\"none\" stroke=\"black\" d=\"M5140.44,-721.32C5128.43,-707.77 5114.93,-692.54 5102.45,-678.46\"/>\n<polygon fill=\"black\" stroke=\"black\" points=\"5104.89,-675.94 5095.64,-670.77 5099.65,-680.58 5104.89,-675.94\"/>\n</g>\n<!-- 66 -->\n<g id=\"node67\" class=\"node\">\n<title>66</title>\n<path fill=\"#fdfdf2\" stroke=\"black\" d=\"M5392,-670.5C5392,-670.5 5201,-670.5 5201,-670.5 5195,-670.5 5189,-664.5 5189,-658.5 5189,-658.5 5189,-599.5 5189,-599.5 5189,-593.5 5195,-587.5 5201,-587.5 5201,-587.5 5392,-587.5 5392,-587.5 5398,-587.5 5404,-593.5 5404,-599.5 5404,-599.5 5404,-658.5 5404,-658.5 5404,-664.5 5398,-670.5 5392,-670.5\"/>\n<text text-anchor=\"middle\" x=\"5296.5\" y=\"-655.3\" font-family=\"Helvetica,sans-Serif\" font-size=\"14.00\">pix43 &lt;= 15.5</text>\n<text text-anchor=\"middle\" x=\"5296.5\" y=\"-640.3\" font-family=\"Helvetica,sans-Serif\" font-size=\"14.00\">gini = 0.78</text>\n<text text-anchor=\"middle\" x=\"5296.5\" y=\"-625.3\" font-family=\"Helvetica,sans-Serif\" font-size=\"14.00\">samples = 20</text>\n<text text-anchor=\"middle\" x=\"5296.5\" y=\"-610.3\" font-family=\"Helvetica,sans-Serif\" font-size=\"14.00\">value = [0, 6, 4, 0, 1, 3, 5, 1, 0, 0]</text>\n<text text-anchor=\"middle\" x=\"5296.5\" y=\"-595.3\" font-family=\"Helvetica,sans-Serif\" font-size=\"14.00\">class = 1</text>\n</g>\n<!-- 60&#45;&gt;66 -->\n<g id=\"edge66\" class=\"edge\">\n<title>60&#45;&gt;66</title>\n<path fill=\"none\" stroke=\"black\" d=\"M5213.48,-721.32C5225.8,-707.77 5239.65,-692.54 5252.45,-678.46\"/>\n<polygon fill=\"black\" stroke=\"black\" points=\"5255.3,-680.53 5259.43,-670.77 5250.12,-675.82 5255.3,-680.53\"/>\n</g>\n<!-- 62 -->\n<g id=\"node63\" class=\"node\">\n<title>62</title>\n<path fill=\"#ffffff\" stroke=\"black\" d=\"M4918,-544C4918,-544 4727,-544 4727,-544 4721,-544 4715,-538 4715,-532 4715,-532 4715,-473 4715,-473 4715,-467 4721,-461 4727,-461 4727,-461 4918,-461 4918,-461 4924,-461 4930,-467 4930,-473 4930,-473 4930,-532 4930,-532 4930,-538 4924,-544 4918,-544\"/>\n<text text-anchor=\"middle\" x=\"4822.5\" y=\"-528.8\" font-family=\"Helvetica,sans-Serif\" font-size=\"14.00\">pix60 &lt;= 15.0</text>\n<text text-anchor=\"middle\" x=\"4822.5\" y=\"-513.8\" font-family=\"Helvetica,sans-Serif\" font-size=\"14.00\">gini = 0.5</text>\n<text text-anchor=\"middle\" x=\"4822.5\" y=\"-498.8\" font-family=\"Helvetica,sans-Serif\" font-size=\"14.00\">samples = 2</text>\n<text text-anchor=\"middle\" x=\"4822.5\" y=\"-483.8\" font-family=\"Helvetica,sans-Serif\" font-size=\"14.00\">value = [0, 1, 0, 0, 0, 0, 1, 0, 0, 0]</text>\n<text text-anchor=\"middle\" x=\"4822.5\" y=\"-468.8\" font-family=\"Helvetica,sans-Serif\" font-size=\"14.00\">class = 1</text>\n</g>\n<!-- 61&#45;&gt;62 -->\n<g id=\"edge62\" class=\"edge\">\n<title>61&#45;&gt;62</title>\n<path fill=\"none\" stroke=\"black\" d=\"M4982.23,-587.41C4958.75,-575.07 4932.81,-561.45 4908.78,-548.82\"/>\n<polygon fill=\"black\" stroke=\"black\" points=\"4910.15,-545.59 4899.67,-544.04 4906.89,-551.79 4910.15,-545.59\"/>\n</g>\n<!-- 65 -->\n<g id=\"node66\" class=\"node\">\n<title>65</title>\n<path fill=\"#39e5c5\" stroke=\"black\" d=\"M5158.5,-536.5C5158.5,-536.5 4960.5,-536.5 4960.5,-536.5 4954.5,-536.5 4948.5,-530.5 4948.5,-524.5 4948.5,-524.5 4948.5,-480.5 4948.5,-480.5 4948.5,-474.5 4954.5,-468.5 4960.5,-468.5 4960.5,-468.5 5158.5,-468.5 5158.5,-468.5 5164.5,-468.5 5170.5,-474.5 5170.5,-480.5 5170.5,-480.5 5170.5,-524.5 5170.5,-524.5 5170.5,-530.5 5164.5,-536.5 5158.5,-536.5\"/>\n<text text-anchor=\"middle\" x=\"5059.5\" y=\"-521.3\" font-family=\"Helvetica,sans-Serif\" font-size=\"14.00\">gini = 0.0</text>\n<text text-anchor=\"middle\" x=\"5059.5\" y=\"-506.3\" font-family=\"Helvetica,sans-Serif\" font-size=\"14.00\">samples = 23</text>\n<text text-anchor=\"middle\" x=\"5059.5\" y=\"-491.3\" font-family=\"Helvetica,sans-Serif\" font-size=\"14.00\">value = [0, 0, 0, 0, 23, 0, 0, 0, 0, 0]</text>\n<text text-anchor=\"middle\" x=\"5059.5\" y=\"-476.3\" font-family=\"Helvetica,sans-Serif\" font-size=\"14.00\">class = 4</text>\n</g>\n<!-- 61&#45;&gt;65 -->\n<g id=\"edge65\" class=\"edge\">\n<title>61&#45;&gt;65</title>\n<path fill=\"none\" stroke=\"black\" d=\"M5059.5,-587.23C5059.5,-574.36 5059.5,-560.1 5059.5,-547.04\"/>\n<polygon fill=\"black\" stroke=\"black\" points=\"5063,-546.88 5059.5,-536.88 5056,-546.88 5063,-546.88\"/>\n</g>\n<!-- 63 -->\n<g id=\"node64\" class=\"node\">\n<title>63</title>\n<path fill=\"#3c39e5\" stroke=\"black\" d=\"M4689,-417.5C4689,-417.5 4498,-417.5 4498,-417.5 4492,-417.5 4486,-411.5 4486,-405.5 4486,-405.5 4486,-361.5 4486,-361.5 4486,-355.5 4492,-349.5 4498,-349.5 4498,-349.5 4689,-349.5 4689,-349.5 4695,-349.5 4701,-355.5 4701,-361.5 4701,-361.5 4701,-405.5 4701,-405.5 4701,-411.5 4695,-417.5 4689,-417.5\"/>\n<text text-anchor=\"middle\" x=\"4593.5\" y=\"-402.3\" font-family=\"Helvetica,sans-Serif\" font-size=\"14.00\">gini = 0.0</text>\n<text text-anchor=\"middle\" x=\"4593.5\" y=\"-387.3\" font-family=\"Helvetica,sans-Serif\" font-size=\"14.00\">samples = 1</text>\n<text text-anchor=\"middle\" x=\"4593.5\" y=\"-372.3\" font-family=\"Helvetica,sans-Serif\" font-size=\"14.00\">value = [0, 0, 0, 0, 0, 0, 1, 0, 0, 0]</text>\n<text text-anchor=\"middle\" x=\"4593.5\" y=\"-357.3\" font-family=\"Helvetica,sans-Serif\" font-size=\"14.00\">class = 6</text>\n</g>\n<!-- 62&#45;&gt;63 -->\n<g id=\"edge63\" class=\"edge\">\n<title>62&#45;&gt;63</title>\n<path fill=\"none\" stroke=\"black\" d=\"M4743.05,-460.91C4718.54,-448.38 4691.65,-434.65 4667.52,-422.32\"/>\n<polygon fill=\"black\" stroke=\"black\" points=\"4668.91,-419.1 4658.42,-417.67 4665.73,-425.33 4668.91,-419.1\"/>\n</g>\n<!-- 64 -->\n<g id=\"node65\" class=\"node\">\n<title>64</title>\n<path fill=\"#e2e539\" stroke=\"black\" d=\"M4922,-417.5C4922,-417.5 4731,-417.5 4731,-417.5 4725,-417.5 4719,-411.5 4719,-405.5 4719,-405.5 4719,-361.5 4719,-361.5 4719,-355.5 4725,-349.5 4731,-349.5 4731,-349.5 4922,-349.5 4922,-349.5 4928,-349.5 4934,-355.5 4934,-361.5 4934,-361.5 4934,-405.5 4934,-405.5 4934,-411.5 4928,-417.5 4922,-417.5\"/>\n<text text-anchor=\"middle\" x=\"4826.5\" y=\"-402.3\" font-family=\"Helvetica,sans-Serif\" font-size=\"14.00\">gini = 0.0</text>\n<text text-anchor=\"middle\" x=\"4826.5\" y=\"-387.3\" font-family=\"Helvetica,sans-Serif\" font-size=\"14.00\">samples = 1</text>\n<text text-anchor=\"middle\" x=\"4826.5\" y=\"-372.3\" font-family=\"Helvetica,sans-Serif\" font-size=\"14.00\">value = [0, 1, 0, 0, 0, 0, 0, 0, 0, 0]</text>\n<text text-anchor=\"middle\" x=\"4826.5\" y=\"-357.3\" font-family=\"Helvetica,sans-Serif\" font-size=\"14.00\">class = 1</text>\n</g>\n<!-- 62&#45;&gt;64 -->\n<g id=\"edge64\" class=\"edge\">\n<title>62&#45;&gt;64</title>\n<path fill=\"none\" stroke=\"black\" d=\"M4823.89,-460.91C4824.25,-450.2 4824.65,-438.62 4825.02,-427.78\"/>\n<polygon fill=\"black\" stroke=\"black\" points=\"4828.52,-427.78 4825.37,-417.67 4821.53,-427.54 4828.52,-427.78\"/>\n</g>\n<!-- 67 -->\n<g id=\"node68\" class=\"node\">\n<title>67</title>\n<path fill=\"#e7e6fc\" stroke=\"black\" d=\"M5392,-544C5392,-544 5201,-544 5201,-544 5195,-544 5189,-538 5189,-532 5189,-532 5189,-473 5189,-473 5189,-467 5195,-461 5201,-461 5201,-461 5392,-461 5392,-461 5398,-461 5404,-467 5404,-473 5404,-473 5404,-532 5404,-532 5404,-538 5398,-544 5392,-544\"/>\n<text text-anchor=\"middle\" x=\"5296.5\" y=\"-528.8\" font-family=\"Helvetica,sans-Serif\" font-size=\"14.00\">pix20 &lt;= 5.0</text>\n<text text-anchor=\"middle\" x=\"5296.5\" y=\"-513.8\" font-family=\"Helvetica,sans-Serif\" font-size=\"14.00\">gini = 0.653</text>\n<text text-anchor=\"middle\" x=\"5296.5\" y=\"-498.8\" font-family=\"Helvetica,sans-Serif\" font-size=\"14.00\">samples = 12</text>\n<text text-anchor=\"middle\" x=\"5296.5\" y=\"-483.8\" font-family=\"Helvetica,sans-Serif\" font-size=\"14.00\">value = [0, 0, 4, 0, 0, 3, 5, 0, 0, 0]</text>\n<text text-anchor=\"middle\" x=\"5296.5\" y=\"-468.8\" font-family=\"Helvetica,sans-Serif\" font-size=\"14.00\">class = 6</text>\n</g>\n<!-- 66&#45;&gt;67 -->\n<g id=\"edge67\" class=\"edge\">\n<title>66&#45;&gt;67</title>\n<path fill=\"none\" stroke=\"black\" d=\"M5296.5,-587.23C5296.5,-576.81 5296.5,-565.47 5296.5,-554.59\"/>\n<polygon fill=\"black\" stroke=\"black\" points=\"5300,-554.36 5296.5,-544.36 5293,-554.36 5300,-554.36\"/>\n</g>\n<!-- 72 -->\n<g id=\"node73\" class=\"node\">\n<title>72</title>\n<path fill=\"#eaec72\" stroke=\"black\" d=\"M5625,-544C5625,-544 5434,-544 5434,-544 5428,-544 5422,-538 5422,-532 5422,-532 5422,-473 5422,-473 5422,-467 5428,-461 5434,-461 5434,-461 5625,-461 5625,-461 5631,-461 5637,-467 5637,-473 5637,-473 5637,-532 5637,-532 5637,-538 5631,-544 5625,-544\"/>\n<text text-anchor=\"middle\" x=\"5529.5\" y=\"-528.8\" font-family=\"Helvetica,sans-Serif\" font-size=\"14.00\">pix38 &lt;= 3.5</text>\n<text text-anchor=\"middle\" x=\"5529.5\" y=\"-513.8\" font-family=\"Helvetica,sans-Serif\" font-size=\"14.00\">gini = 0.406</text>\n<text text-anchor=\"middle\" x=\"5529.5\" y=\"-498.8\" font-family=\"Helvetica,sans-Serif\" font-size=\"14.00\">samples = 8</text>\n<text text-anchor=\"middle\" x=\"5529.5\" y=\"-483.8\" font-family=\"Helvetica,sans-Serif\" font-size=\"14.00\">value = [0, 6, 0, 0, 1, 0, 0, 1, 0, 0]</text>\n<text text-anchor=\"middle\" x=\"5529.5\" y=\"-468.8\" font-family=\"Helvetica,sans-Serif\" font-size=\"14.00\">class = 1</text>\n</g>\n<!-- 66&#45;&gt;72 -->\n<g id=\"edge72\" class=\"edge\">\n<title>66&#45;&gt;72</title>\n<path fill=\"none\" stroke=\"black\" d=\"M5372.47,-587.41C5395.55,-575.07 5421.06,-561.45 5444.68,-548.82\"/>\n<polygon fill=\"black\" stroke=\"black\" points=\"5446.46,-551.84 5453.63,-544.04 5443.16,-545.66 5446.46,-551.84\"/>\n</g>\n<!-- 68 -->\n<g id=\"node69\" class=\"node\">\n<title>68</title>\n<path fill=\"#b1b0f5\" stroke=\"black\" d=\"M5159,-425C5159,-425 4968,-425 4968,-425 4962,-425 4956,-419 4956,-413 4956,-413 4956,-354 4956,-354 4956,-348 4962,-342 4968,-342 4968,-342 5159,-342 5159,-342 5165,-342 5171,-348 5171,-354 5171,-354 5171,-413 5171,-413 5171,-419 5165,-425 5159,-425\"/>\n<text text-anchor=\"middle\" x=\"5063.5\" y=\"-409.8\" font-family=\"Helvetica,sans-Serif\" font-size=\"14.00\">pix5 &lt;= 10.0</text>\n<text text-anchor=\"middle\" x=\"5063.5\" y=\"-394.8\" font-family=\"Helvetica,sans-Serif\" font-size=\"14.00\">gini = 0.469</text>\n<text text-anchor=\"middle\" x=\"5063.5\" y=\"-379.8\" font-family=\"Helvetica,sans-Serif\" font-size=\"14.00\">samples = 8</text>\n<text text-anchor=\"middle\" x=\"5063.5\" y=\"-364.8\" font-family=\"Helvetica,sans-Serif\" font-size=\"14.00\">value = [0, 0, 0, 0, 0, 3, 5, 0, 0, 0]</text>\n<text text-anchor=\"middle\" x=\"5063.5\" y=\"-349.8\" font-family=\"Helvetica,sans-Serif\" font-size=\"14.00\">class = 6</text>\n</g>\n<!-- 67&#45;&gt;68 -->\n<g id=\"edge68\" class=\"edge\">\n<title>67&#45;&gt;68</title>\n<path fill=\"none\" stroke=\"black\" d=\"M5215.66,-460.91C5195.51,-450.79 5173.78,-439.88 5153.23,-429.56\"/>\n<polygon fill=\"black\" stroke=\"black\" points=\"5154.7,-426.38 5144.2,-425.02 5151.56,-432.64 5154.7,-426.38\"/>\n</g>\n<!-- 71 -->\n<g id=\"node72\" class=\"node\">\n<title>71</title>\n<path fill=\"#7be539\" stroke=\"black\" d=\"M5392,-417.5C5392,-417.5 5201,-417.5 5201,-417.5 5195,-417.5 5189,-411.5 5189,-405.5 5189,-405.5 5189,-361.5 5189,-361.5 5189,-355.5 5195,-349.5 5201,-349.5 5201,-349.5 5392,-349.5 5392,-349.5 5398,-349.5 5404,-355.5 5404,-361.5 5404,-361.5 5404,-405.5 5404,-405.5 5404,-411.5 5398,-417.5 5392,-417.5\"/>\n<text text-anchor=\"middle\" x=\"5296.5\" y=\"-402.3\" font-family=\"Helvetica,sans-Serif\" font-size=\"14.00\">gini = 0.0</text>\n<text text-anchor=\"middle\" x=\"5296.5\" y=\"-387.3\" font-family=\"Helvetica,sans-Serif\" font-size=\"14.00\">samples = 4</text>\n<text text-anchor=\"middle\" x=\"5296.5\" y=\"-372.3\" font-family=\"Helvetica,sans-Serif\" font-size=\"14.00\">value = [0, 0, 4, 0, 0, 0, 0, 0, 0, 0]</text>\n<text text-anchor=\"middle\" x=\"5296.5\" y=\"-357.3\" font-family=\"Helvetica,sans-Serif\" font-size=\"14.00\">class = 2</text>\n</g>\n<!-- 67&#45;&gt;71 -->\n<g id=\"edge71\" class=\"edge\">\n<title>67&#45;&gt;71</title>\n<path fill=\"none\" stroke=\"black\" d=\"M5296.5,-460.91C5296.5,-450.2 5296.5,-438.62 5296.5,-427.78\"/>\n<polygon fill=\"black\" stroke=\"black\" points=\"5300,-427.67 5296.5,-417.67 5293,-427.67 5300,-427.67\"/>\n</g>\n<!-- 69 -->\n<g id=\"node70\" class=\"node\">\n<title>69</title>\n<path fill=\"#3c39e5\" stroke=\"black\" d=\"M5043,-298.5C5043,-298.5 4852,-298.5 4852,-298.5 4846,-298.5 4840,-292.5 4840,-286.5 4840,-286.5 4840,-242.5 4840,-242.5 4840,-236.5 4846,-230.5 4852,-230.5 4852,-230.5 5043,-230.5 5043,-230.5 5049,-230.5 5055,-236.5 5055,-242.5 5055,-242.5 5055,-286.5 5055,-286.5 5055,-292.5 5049,-298.5 5043,-298.5\"/>\n<text text-anchor=\"middle\" x=\"4947.5\" y=\"-283.3\" font-family=\"Helvetica,sans-Serif\" font-size=\"14.00\">gini = 0.0</text>\n<text text-anchor=\"middle\" x=\"4947.5\" y=\"-268.3\" font-family=\"Helvetica,sans-Serif\" font-size=\"14.00\">samples = 5</text>\n<text text-anchor=\"middle\" x=\"4947.5\" y=\"-253.3\" font-family=\"Helvetica,sans-Serif\" font-size=\"14.00\">value = [0, 0, 0, 0, 0, 0, 5, 0, 0, 0]</text>\n<text text-anchor=\"middle\" x=\"4947.5\" y=\"-238.3\" font-family=\"Helvetica,sans-Serif\" font-size=\"14.00\">class = 6</text>\n</g>\n<!-- 68&#45;&gt;69 -->\n<g id=\"edge69\" class=\"edge\">\n<title>68&#45;&gt;69</title>\n<path fill=\"none\" stroke=\"black\" d=\"M5023.25,-341.91C5011.66,-330.21 4999.01,-317.46 4987.44,-305.78\"/>\n<polygon fill=\"black\" stroke=\"black\" points=\"4989.91,-303.3 4980.38,-298.67 4984.94,-308.23 4989.91,-303.3\"/>\n</g>\n<!-- 70 -->\n<g id=\"node71\" class=\"node\">\n<title>70</title>\n<path fill=\"#399de5\" stroke=\"black\" d=\"M5276,-298.5C5276,-298.5 5085,-298.5 5085,-298.5 5079,-298.5 5073,-292.5 5073,-286.5 5073,-286.5 5073,-242.5 5073,-242.5 5073,-236.5 5079,-230.5 5085,-230.5 5085,-230.5 5276,-230.5 5276,-230.5 5282,-230.5 5288,-236.5 5288,-242.5 5288,-242.5 5288,-286.5 5288,-286.5 5288,-292.5 5282,-298.5 5276,-298.5\"/>\n<text text-anchor=\"middle\" x=\"5180.5\" y=\"-283.3\" font-family=\"Helvetica,sans-Serif\" font-size=\"14.00\">gini = 0.0</text>\n<text text-anchor=\"middle\" x=\"5180.5\" y=\"-268.3\" font-family=\"Helvetica,sans-Serif\" font-size=\"14.00\">samples = 3</text>\n<text text-anchor=\"middle\" x=\"5180.5\" y=\"-253.3\" font-family=\"Helvetica,sans-Serif\" font-size=\"14.00\">value = [0, 0, 0, 0, 0, 3, 0, 0, 0, 0]</text>\n<text text-anchor=\"middle\" x=\"5180.5\" y=\"-238.3\" font-family=\"Helvetica,sans-Serif\" font-size=\"14.00\">class = 5</text>\n</g>\n<!-- 68&#45;&gt;70 -->\n<g id=\"edge70\" class=\"edge\">\n<title>68&#45;&gt;70</title>\n<path fill=\"none\" stroke=\"black\" d=\"M5104.09,-341.91C5115.79,-330.21 5128.54,-317.46 5140.22,-305.78\"/>\n<polygon fill=\"black\" stroke=\"black\" points=\"5142.74,-308.21 5147.33,-298.67 5137.79,-303.26 5142.74,-308.21\"/>\n</g>\n<!-- 73 -->\n<g id=\"node74\" class=\"node\">\n<title>73</title>\n<path fill=\"#e2e539\" stroke=\"black\" d=\"M5625,-417.5C5625,-417.5 5434,-417.5 5434,-417.5 5428,-417.5 5422,-411.5 5422,-405.5 5422,-405.5 5422,-361.5 5422,-361.5 5422,-355.5 5428,-349.5 5434,-349.5 5434,-349.5 5625,-349.5 5625,-349.5 5631,-349.5 5637,-355.5 5637,-361.5 5637,-361.5 5637,-405.5 5637,-405.5 5637,-411.5 5631,-417.5 5625,-417.5\"/>\n<text text-anchor=\"middle\" x=\"5529.5\" y=\"-402.3\" font-family=\"Helvetica,sans-Serif\" font-size=\"14.00\">gini = 0.0</text>\n<text text-anchor=\"middle\" x=\"5529.5\" y=\"-387.3\" font-family=\"Helvetica,sans-Serif\" font-size=\"14.00\">samples = 6</text>\n<text text-anchor=\"middle\" x=\"5529.5\" y=\"-372.3\" font-family=\"Helvetica,sans-Serif\" font-size=\"14.00\">value = [0, 6, 0, 0, 0, 0, 0, 0, 0, 0]</text>\n<text text-anchor=\"middle\" x=\"5529.5\" y=\"-357.3\" font-family=\"Helvetica,sans-Serif\" font-size=\"14.00\">class = 1</text>\n</g>\n<!-- 72&#45;&gt;73 -->\n<g id=\"edge73\" class=\"edge\">\n<title>72&#45;&gt;73</title>\n<path fill=\"none\" stroke=\"black\" d=\"M5529.5,-460.91C5529.5,-450.2 5529.5,-438.62 5529.5,-427.78\"/>\n<polygon fill=\"black\" stroke=\"black\" points=\"5533,-427.67 5529.5,-417.67 5526,-427.67 5533,-427.67\"/>\n</g>\n<!-- 74 -->\n<g id=\"node75\" class=\"node\">\n<title>74</title>\n<path fill=\"#ffffff\" stroke=\"black\" d=\"M5858,-425C5858,-425 5667,-425 5667,-425 5661,-425 5655,-419 5655,-413 5655,-413 5655,-354 5655,-354 5655,-348 5661,-342 5667,-342 5667,-342 5858,-342 5858,-342 5864,-342 5870,-348 5870,-354 5870,-354 5870,-413 5870,-413 5870,-419 5864,-425 5858,-425\"/>\n<text text-anchor=\"middle\" x=\"5762.5\" y=\"-409.8\" font-family=\"Helvetica,sans-Serif\" font-size=\"14.00\">pix50 &lt;= 7.5</text>\n<text text-anchor=\"middle\" x=\"5762.5\" y=\"-394.8\" font-family=\"Helvetica,sans-Serif\" font-size=\"14.00\">gini = 0.5</text>\n<text text-anchor=\"middle\" x=\"5762.5\" y=\"-379.8\" font-family=\"Helvetica,sans-Serif\" font-size=\"14.00\">samples = 2</text>\n<text text-anchor=\"middle\" x=\"5762.5\" y=\"-364.8\" font-family=\"Helvetica,sans-Serif\" font-size=\"14.00\">value = [0, 0, 0, 0, 1, 0, 0, 1, 0, 0]</text>\n<text text-anchor=\"middle\" x=\"5762.5\" y=\"-349.8\" font-family=\"Helvetica,sans-Serif\" font-size=\"14.00\">class = 4</text>\n</g>\n<!-- 72&#45;&gt;74 -->\n<g id=\"edge74\" class=\"edge\">\n<title>72&#45;&gt;74</title>\n<path fill=\"none\" stroke=\"black\" d=\"M5610.34,-460.91C5630.49,-450.79 5652.22,-439.88 5672.77,-429.56\"/>\n<polygon fill=\"black\" stroke=\"black\" points=\"5674.44,-432.64 5681.8,-425.02 5671.3,-426.38 5674.44,-432.64\"/>\n</g>\n<!-- 75 -->\n<g id=\"node76\" class=\"node\">\n<title>75</title>\n<path fill=\"#39e5c5\" stroke=\"black\" d=\"M5742,-298.5C5742,-298.5 5551,-298.5 5551,-298.5 5545,-298.5 5539,-292.5 5539,-286.5 5539,-286.5 5539,-242.5 5539,-242.5 5539,-236.5 5545,-230.5 5551,-230.5 5551,-230.5 5742,-230.5 5742,-230.5 5748,-230.5 5754,-236.5 5754,-242.5 5754,-242.5 5754,-286.5 5754,-286.5 5754,-292.5 5748,-298.5 5742,-298.5\"/>\n<text text-anchor=\"middle\" x=\"5646.5\" y=\"-283.3\" font-family=\"Helvetica,sans-Serif\" font-size=\"14.00\">gini = 0.0</text>\n<text text-anchor=\"middle\" x=\"5646.5\" y=\"-268.3\" font-family=\"Helvetica,sans-Serif\" font-size=\"14.00\">samples = 1</text>\n<text text-anchor=\"middle\" x=\"5646.5\" y=\"-253.3\" font-family=\"Helvetica,sans-Serif\" font-size=\"14.00\">value = [0, 0, 0, 0, 1, 0, 0, 0, 0, 0]</text>\n<text text-anchor=\"middle\" x=\"5646.5\" y=\"-238.3\" font-family=\"Helvetica,sans-Serif\" font-size=\"14.00\">class = 4</text>\n</g>\n<!-- 74&#45;&gt;75 -->\n<g id=\"edge75\" class=\"edge\">\n<title>74&#45;&gt;75</title>\n<path fill=\"none\" stroke=\"black\" d=\"M5722.25,-341.91C5710.66,-330.21 5698.01,-317.46 5686.44,-305.78\"/>\n<polygon fill=\"black\" stroke=\"black\" points=\"5688.91,-303.3 5679.38,-298.67 5683.94,-308.23 5688.91,-303.3\"/>\n</g>\n<!-- 76 -->\n<g id=\"node77\" class=\"node\">\n<title>76</title>\n<path fill=\"#a339e5\" stroke=\"black\" d=\"M5975,-298.5C5975,-298.5 5784,-298.5 5784,-298.5 5778,-298.5 5772,-292.5 5772,-286.5 5772,-286.5 5772,-242.5 5772,-242.5 5772,-236.5 5778,-230.5 5784,-230.5 5784,-230.5 5975,-230.5 5975,-230.5 5981,-230.5 5987,-236.5 5987,-242.5 5987,-242.5 5987,-286.5 5987,-286.5 5987,-292.5 5981,-298.5 5975,-298.5\"/>\n<text text-anchor=\"middle\" x=\"5879.5\" y=\"-283.3\" font-family=\"Helvetica,sans-Serif\" font-size=\"14.00\">gini = 0.0</text>\n<text text-anchor=\"middle\" x=\"5879.5\" y=\"-268.3\" font-family=\"Helvetica,sans-Serif\" font-size=\"14.00\">samples = 1</text>\n<text text-anchor=\"middle\" x=\"5879.5\" y=\"-253.3\" font-family=\"Helvetica,sans-Serif\" font-size=\"14.00\">value = [0, 0, 0, 0, 0, 0, 0, 1, 0, 0]</text>\n<text text-anchor=\"middle\" x=\"5879.5\" y=\"-238.3\" font-family=\"Helvetica,sans-Serif\" font-size=\"14.00\">class = 7</text>\n</g>\n<!-- 74&#45;&gt;76 -->\n<g id=\"edge76\" class=\"edge\">\n<title>74&#45;&gt;76</title>\n<path fill=\"none\" stroke=\"black\" d=\"M5803.09,-341.91C5814.79,-330.21 5827.54,-317.46 5839.22,-305.78\"/>\n<polygon fill=\"black\" stroke=\"black\" points=\"5841.74,-308.21 5846.33,-298.67 5836.79,-303.26 5841.74,-308.21\"/>\n</g>\n<!-- 78 -->\n<g id=\"node79\" class=\"node\">\n<title>78</title>\n<path fill=\"#3c39e5\" stroke=\"black\" d=\"M5640.5,-663C5640.5,-663 5434.5,-663 5434.5,-663 5428.5,-663 5422.5,-657 5422.5,-651 5422.5,-651 5422.5,-607 5422.5,-607 5422.5,-601 5428.5,-595 5434.5,-595 5434.5,-595 5640.5,-595 5640.5,-595 5646.5,-595 5652.5,-601 5652.5,-607 5652.5,-607 5652.5,-651 5652.5,-651 5652.5,-657 5646.5,-663 5640.5,-663\"/>\n<text text-anchor=\"middle\" x=\"5537.5\" y=\"-647.8\" font-family=\"Helvetica,sans-Serif\" font-size=\"14.00\">gini = 0.0</text>\n<text text-anchor=\"middle\" x=\"5537.5\" y=\"-632.8\" font-family=\"Helvetica,sans-Serif\" font-size=\"14.00\">samples = 119</text>\n<text text-anchor=\"middle\" x=\"5537.5\" y=\"-617.8\" font-family=\"Helvetica,sans-Serif\" font-size=\"14.00\">value = [0, 0, 0, 0, 0, 0, 119, 0, 0, 0]</text>\n<text text-anchor=\"middle\" x=\"5537.5\" y=\"-602.8\" font-family=\"Helvetica,sans-Serif\" font-size=\"14.00\">class = 6</text>\n</g>\n<!-- 77&#45;&gt;78 -->\n<g id=\"edge78\" class=\"edge\">\n<title>77&#45;&gt;78</title>\n<path fill=\"none\" stroke=\"black\" d=\"M5537.5,-721.32C5537.5,-706.18 5537.5,-688.94 5537.5,-673.55\"/>\n<polygon fill=\"black\" stroke=\"black\" points=\"5541,-673.24 5537.5,-663.24 5534,-673.24 5541,-673.24\"/>\n</g>\n<!-- 79 -->\n<g id=\"node80\" class=\"node\">\n<title>79</title>\n<path fill=\"#7be539\" stroke=\"black\" d=\"M5874,-663C5874,-663 5683,-663 5683,-663 5677,-663 5671,-657 5671,-651 5671,-651 5671,-607 5671,-607 5671,-601 5677,-595 5683,-595 5683,-595 5874,-595 5874,-595 5880,-595 5886,-601 5886,-607 5886,-607 5886,-651 5886,-651 5886,-657 5880,-663 5874,-663\"/>\n<text text-anchor=\"middle\" x=\"5778.5\" y=\"-647.8\" font-family=\"Helvetica,sans-Serif\" font-size=\"14.00\">gini = 0.0</text>\n<text text-anchor=\"middle\" x=\"5778.5\" y=\"-632.8\" font-family=\"Helvetica,sans-Serif\" font-size=\"14.00\">samples = 4</text>\n<text text-anchor=\"middle\" x=\"5778.5\" y=\"-617.8\" font-family=\"Helvetica,sans-Serif\" font-size=\"14.00\">value = [0, 0, 4, 0, 0, 0, 0, 0, 0, 0]</text>\n<text text-anchor=\"middle\" x=\"5778.5\" y=\"-602.8\" font-family=\"Helvetica,sans-Serif\" font-size=\"14.00\">class = 2</text>\n</g>\n<!-- 77&#45;&gt;79 -->\n<g id=\"edge79\" class=\"edge\">\n<title>77&#45;&gt;79</title>\n<path fill=\"none\" stroke=\"black\" d=\"M5611.45,-721.5C5642.55,-704.46 5678.55,-684.75 5709.14,-667.99\"/>\n<polygon fill=\"black\" stroke=\"black\" points=\"5710.95,-670.99 5718.04,-663.12 5707.58,-664.85 5710.95,-670.99\"/>\n</g>\n<!-- 81 -->\n<g id=\"node82\" class=\"node\">\n<title>81</title>\n<path fill=\"#c685ef\" stroke=\"black\" d=\"M7098.5,-938.5C7098.5,-938.5 6870.5,-938.5 6870.5,-938.5 6864.5,-938.5 6858.5,-932.5 6858.5,-926.5 6858.5,-926.5 6858.5,-867.5 6858.5,-867.5 6858.5,-861.5 6864.5,-855.5 6870.5,-855.5 6870.5,-855.5 7098.5,-855.5 7098.5,-855.5 7104.5,-855.5 7110.5,-861.5 7110.5,-867.5 7110.5,-867.5 7110.5,-926.5 7110.5,-926.5 7110.5,-932.5 7104.5,-938.5 7098.5,-938.5\"/>\n<text text-anchor=\"middle\" x=\"6984.5\" y=\"-923.3\" font-family=\"Helvetica,sans-Serif\" font-size=\"14.00\">pix5 &lt;= 0.5</text>\n<text text-anchor=\"middle\" x=\"6984.5\" y=\"-908.3\" font-family=\"Helvetica,sans-Serif\" font-size=\"14.00\">gini = 0.538</text>\n<text text-anchor=\"middle\" x=\"6984.5\" y=\"-893.3\" font-family=\"Helvetica,sans-Serif\" font-size=\"14.00\">samples = 180</text>\n<text text-anchor=\"middle\" x=\"6984.5\" y=\"-878.3\" font-family=\"Helvetica,sans-Serif\" font-size=\"14.00\">value = [0, 9, 3, 4, 21, 1, 0, 119, 11, 12]</text>\n<text text-anchor=\"middle\" x=\"6984.5\" y=\"-863.3\" font-family=\"Helvetica,sans-Serif\" font-size=\"14.00\">class = 7</text>\n</g>\n<!-- 80&#45;&gt;81 -->\n<g id=\"edge81\" class=\"edge\">\n<title>80&#45;&gt;81</title>\n<path fill=\"none\" stroke=\"black\" d=\"M6984.5,-981.97C6984.5,-971.25 6984.5,-959.84 6984.5,-948.99\"/>\n<polygon fill=\"black\" stroke=\"black\" points=\"6988,-948.82 6984.5,-938.82 6981,-948.82 6988,-948.82\"/>\n</g>\n<!-- 128 -->\n<g id=\"node129\" class=\"node\">\n<title>128</title>\n<path fill=\"#fefbfe\" stroke=\"black\" d=\"M10958.5,-946C10958.5,-946 10632.5,-946 10632.5,-946 10626.5,-946 10620.5,-940 10620.5,-934 10620.5,-934 10620.5,-860 10620.5,-860 10620.5,-854 10626.5,-848 10632.5,-848 10632.5,-848 10958.5,-848 10958.5,-848 10964.5,-848 10970.5,-854 10970.5,-860 10970.5,-860 10970.5,-934 10970.5,-934 10970.5,-940 10964.5,-946 10958.5,-946\"/>\n<text text-anchor=\"middle\" x=\"10795.5\" y=\"-930.8\" font-family=\"Helvetica,sans-Serif\" font-size=\"14.00\">pix43 &lt;= 1.5</text>\n<text text-anchor=\"middle\" x=\"10795.5\" y=\"-915.8\" font-family=\"Helvetica,sans-Serif\" font-size=\"14.00\">gini = 0.841</text>\n<text text-anchor=\"middle\" x=\"10795.5\" y=\"-900.8\" font-family=\"Helvetica,sans-Serif\" font-size=\"14.00\">samples = 585</text>\n<text text-anchor=\"middle\" x=\"10795.5\" y=\"-885.8\" font-family=\"Helvetica,sans-Serif\" font-size=\"14.00\">value = [4.0, 93.0, 89.0, 109.0, 74.0, 7.0, 4.0, 8.0, 119.0</text>\n<text text-anchor=\"middle\" x=\"10795.5\" y=\"-870.8\" font-family=\"Helvetica,sans-Serif\" font-size=\"14.00\">78.0]</text>\n<text text-anchor=\"middle\" x=\"10795.5\" y=\"-855.8\" font-family=\"Helvetica,sans-Serif\" font-size=\"14.00\">class = 8</text>\n</g>\n<!-- 80&#45;&gt;128 -->\n<g id=\"edge128\" class=\"edge\">\n<title>80&#45;&gt;128</title>\n<path fill=\"none\" stroke=\"black\" d=\"M7170.57,-1023.56C7817.48,-1001.15 9964.32,-926.79 10610.14,-904.42\"/>\n<polygon fill=\"black\" stroke=\"black\" points=\"10610.59,-907.91 10620.47,-904.06 10610.35,-900.91 10610.59,-907.91\"/>\n</g>\n<!-- 82 -->\n<g id=\"node83\" class=\"node\">\n<title>82</title>\n<path fill=\"#9cf2e2\" stroke=\"black\" d=\"M6676.5,-804.5C6676.5,-804.5 6478.5,-804.5 6478.5,-804.5 6472.5,-804.5 6466.5,-798.5 6466.5,-792.5 6466.5,-792.5 6466.5,-733.5 6466.5,-733.5 6466.5,-727.5 6472.5,-721.5 6478.5,-721.5 6478.5,-721.5 6676.5,-721.5 6676.5,-721.5 6682.5,-721.5 6688.5,-727.5 6688.5,-733.5 6688.5,-733.5 6688.5,-792.5 6688.5,-792.5 6688.5,-798.5 6682.5,-804.5 6676.5,-804.5\"/>\n<text text-anchor=\"middle\" x=\"6577.5\" y=\"-789.3\" font-family=\"Helvetica,sans-Serif\" font-size=\"14.00\">pix12 &lt;= 7.0</text>\n<text text-anchor=\"middle\" x=\"6577.5\" y=\"-774.3\" font-family=\"Helvetica,sans-Serif\" font-size=\"14.00\">gini = 0.609</text>\n<text text-anchor=\"middle\" x=\"6577.5\" y=\"-759.3\" font-family=\"Helvetica,sans-Serif\" font-size=\"14.00\">samples = 34</text>\n<text text-anchor=\"middle\" x=\"6577.5\" y=\"-744.3\" font-family=\"Helvetica,sans-Serif\" font-size=\"14.00\">value = [0, 1, 2, 0, 20, 1, 0, 6, 3, 1]</text>\n<text text-anchor=\"middle\" x=\"6577.5\" y=\"-729.3\" font-family=\"Helvetica,sans-Serif\" font-size=\"14.00\">class = 4</text>\n</g>\n<!-- 81&#45;&gt;82 -->\n<g id=\"edge82\" class=\"edge\">\n<title>81&#45;&gt;82</title>\n<path fill=\"none\" stroke=\"black\" d=\"M6859.62,-855.5C6808.36,-838.87 6749.24,-819.7 6698.4,-803.21\"/>\n<polygon fill=\"black\" stroke=\"black\" points=\"6699.27,-799.81 6688.68,-800.06 6697.11,-806.47 6699.27,-799.81\"/>\n</g>\n<!-- 97 -->\n<g id=\"node98\" class=\"node\">\n<title>97</title>\n<path fill=\"#b969eb\" stroke=\"black\" d=\"M7620,-804.5C7620,-804.5 7407,-804.5 7407,-804.5 7401,-804.5 7395,-798.5 7395,-792.5 7395,-792.5 7395,-733.5 7395,-733.5 7395,-727.5 7401,-721.5 7407,-721.5 7407,-721.5 7620,-721.5 7620,-721.5 7626,-721.5 7632,-727.5 7632,-733.5 7632,-733.5 7632,-792.5 7632,-792.5 7632,-798.5 7626,-804.5 7620,-804.5\"/>\n<text text-anchor=\"middle\" x=\"7513.5\" y=\"-789.3\" font-family=\"Helvetica,sans-Serif\" font-size=\"14.00\">pix53 &lt;= 5.0</text>\n<text text-anchor=\"middle\" x=\"7513.5\" y=\"-774.3\" font-family=\"Helvetica,sans-Serif\" font-size=\"14.00\">gini = 0.388</text>\n<text text-anchor=\"middle\" x=\"7513.5\" y=\"-759.3\" font-family=\"Helvetica,sans-Serif\" font-size=\"14.00\">samples = 146</text>\n<text text-anchor=\"middle\" x=\"7513.5\" y=\"-744.3\" font-family=\"Helvetica,sans-Serif\" font-size=\"14.00\">value = [0, 8, 1, 4, 1, 0, 0, 113, 8, 11]</text>\n<text text-anchor=\"middle\" x=\"7513.5\" y=\"-729.3\" font-family=\"Helvetica,sans-Serif\" font-size=\"14.00\">class = 7</text>\n</g>\n<!-- 81&#45;&gt;97 -->\n<g id=\"edge97\" class=\"edge\">\n<title>81&#45;&gt;97</title>\n<path fill=\"none\" stroke=\"black\" d=\"M7110.54,-864.55C7193.43,-843.87 7301.6,-816.87 7384.99,-796.07\"/>\n<polygon fill=\"black\" stroke=\"black\" points=\"7385.92,-799.44 7394.78,-793.62 7384.23,-792.65 7385.92,-799.44\"/>\n</g>\n<!-- 83 -->\n<g id=\"node84\" class=\"node\">\n<title>83</title>\n<path fill=\"#39e5c5\" stroke=\"black\" d=\"M6439.5,-663C6439.5,-663 6241.5,-663 6241.5,-663 6235.5,-663 6229.5,-657 6229.5,-651 6229.5,-651 6229.5,-607 6229.5,-607 6229.5,-601 6235.5,-595 6241.5,-595 6241.5,-595 6439.5,-595 6439.5,-595 6445.5,-595 6451.5,-601 6451.5,-607 6451.5,-607 6451.5,-651 6451.5,-651 6451.5,-657 6445.5,-663 6439.5,-663\"/>\n<text text-anchor=\"middle\" x=\"6340.5\" y=\"-647.8\" font-family=\"Helvetica,sans-Serif\" font-size=\"14.00\">gini = 0.0</text>\n<text text-anchor=\"middle\" x=\"6340.5\" y=\"-632.8\" font-family=\"Helvetica,sans-Serif\" font-size=\"14.00\">samples = 20</text>\n<text text-anchor=\"middle\" x=\"6340.5\" y=\"-617.8\" font-family=\"Helvetica,sans-Serif\" font-size=\"14.00\">value = [0, 0, 0, 0, 20, 0, 0, 0, 0, 0]</text>\n<text text-anchor=\"middle\" x=\"6340.5\" y=\"-602.8\" font-family=\"Helvetica,sans-Serif\" font-size=\"14.00\">class = 4</text>\n</g>\n<!-- 82&#45;&gt;83 -->\n<g id=\"edge83\" class=\"edge\">\n<title>82&#45;&gt;83</title>\n<path fill=\"none\" stroke=\"black\" d=\"M6504.78,-721.5C6474.19,-704.46 6438.79,-684.75 6408.71,-667.99\"/>\n<polygon fill=\"black\" stroke=\"black\" points=\"6410.4,-664.93 6399.96,-663.12 6406.99,-671.04 6410.4,-664.93\"/>\n</g>\n<!-- 84 -->\n<g id=\"node85\" class=\"node\">\n<title>84</title>\n<path fill=\"#e6c9f8\" stroke=\"black\" d=\"M6673,-670.5C6673,-670.5 6482,-670.5 6482,-670.5 6476,-670.5 6470,-664.5 6470,-658.5 6470,-658.5 6470,-599.5 6470,-599.5 6470,-593.5 6476,-587.5 6482,-587.5 6482,-587.5 6673,-587.5 6673,-587.5 6679,-587.5 6685,-593.5 6685,-599.5 6685,-599.5 6685,-658.5 6685,-658.5 6685,-664.5 6679,-670.5 6673,-670.5\"/>\n<text text-anchor=\"middle\" x=\"6577.5\" y=\"-655.3\" font-family=\"Helvetica,sans-Serif\" font-size=\"14.00\">pix60 &lt;= 1.5</text>\n<text text-anchor=\"middle\" x=\"6577.5\" y=\"-640.3\" font-family=\"Helvetica,sans-Serif\" font-size=\"14.00\">gini = 0.735</text>\n<text text-anchor=\"middle\" x=\"6577.5\" y=\"-625.3\" font-family=\"Helvetica,sans-Serif\" font-size=\"14.00\">samples = 14</text>\n<text text-anchor=\"middle\" x=\"6577.5\" y=\"-610.3\" font-family=\"Helvetica,sans-Serif\" font-size=\"14.00\">value = [0, 1, 2, 0, 0, 1, 0, 6, 3, 1]</text>\n<text text-anchor=\"middle\" x=\"6577.5\" y=\"-595.3\" font-family=\"Helvetica,sans-Serif\" font-size=\"14.00\">class = 7</text>\n</g>\n<!-- 82&#45;&gt;84 -->\n<g id=\"edge84\" class=\"edge\">\n<title>82&#45;&gt;84</title>\n<path fill=\"none\" stroke=\"black\" d=\"M6577.5,-721.32C6577.5,-708.52 6577.5,-694.23 6577.5,-680.82\"/>\n<polygon fill=\"black\" stroke=\"black\" points=\"6581,-680.77 6577.5,-670.77 6574,-680.77 6581,-680.77\"/>\n</g>\n<!-- 85 -->\n<g id=\"node86\" class=\"node\">\n<title>85</title>\n<path fill=\"#b25ae9\" stroke=\"black\" d=\"M6324,-544C6324,-544 6133,-544 6133,-544 6127,-544 6121,-538 6121,-532 6121,-532 6121,-473 6121,-473 6121,-467 6127,-461 6133,-461 6133,-461 6324,-461 6324,-461 6330,-461 6336,-467 6336,-473 6336,-473 6336,-532 6336,-532 6336,-538 6330,-544 6324,-544\"/>\n<text text-anchor=\"middle\" x=\"6228.5\" y=\"-528.8\" font-family=\"Helvetica,sans-Serif\" font-size=\"14.00\">pix28 &lt;= 12.5</text>\n<text text-anchor=\"middle\" x=\"6228.5\" y=\"-513.8\" font-family=\"Helvetica,sans-Serif\" font-size=\"14.00\">gini = 0.245</text>\n<text text-anchor=\"middle\" x=\"6228.5\" y=\"-498.8\" font-family=\"Helvetica,sans-Serif\" font-size=\"14.00\">samples = 7</text>\n<text text-anchor=\"middle\" x=\"6228.5\" y=\"-483.8\" font-family=\"Helvetica,sans-Serif\" font-size=\"14.00\">value = [0, 0, 1, 0, 0, 0, 0, 6, 0, 0]</text>\n<text text-anchor=\"middle\" x=\"6228.5\" y=\"-468.8\" font-family=\"Helvetica,sans-Serif\" font-size=\"14.00\">class = 7</text>\n</g>\n<!-- 84&#45;&gt;85 -->\n<g id=\"edge85\" class=\"edge\">\n<title>84&#45;&gt;85</title>\n<path fill=\"none\" stroke=\"black\" d=\"M6480.03,-587.41C6473.44,-584.85 6466.88,-582.36 6460.5,-580 6423.52,-566.34 6382.82,-552.51 6345.96,-540.44\"/>\n<polygon fill=\"black\" stroke=\"black\" points=\"6346.77,-537.03 6336.18,-537.25 6344.6,-543.68 6346.77,-537.03\"/>\n</g>\n<!-- 88 -->\n<g id=\"node89\" class=\"node\">\n<title>88</title>\n<path fill=\"#f6bdea\" stroke=\"black\" d=\"M6673,-544C6673,-544 6482,-544 6482,-544 6476,-544 6470,-538 6470,-532 6470,-532 6470,-473 6470,-473 6470,-467 6476,-461 6482,-461 6482,-461 6673,-461 6673,-461 6679,-461 6685,-467 6685,-473 6685,-473 6685,-532 6685,-532 6685,-538 6679,-544 6673,-544\"/>\n<text text-anchor=\"middle\" x=\"6577.5\" y=\"-528.8\" font-family=\"Helvetica,sans-Serif\" font-size=\"14.00\">pix50 &lt;= 9.5</text>\n<text text-anchor=\"middle\" x=\"6577.5\" y=\"-513.8\" font-family=\"Helvetica,sans-Serif\" font-size=\"14.00\">gini = 0.735</text>\n<text text-anchor=\"middle\" x=\"6577.5\" y=\"-498.8\" font-family=\"Helvetica,sans-Serif\" font-size=\"14.00\">samples = 7</text>\n<text text-anchor=\"middle\" x=\"6577.5\" y=\"-483.8\" font-family=\"Helvetica,sans-Serif\" font-size=\"14.00\">value = [0, 1, 1, 0, 0, 1, 0, 0, 3, 1]</text>\n<text text-anchor=\"middle\" x=\"6577.5\" y=\"-468.8\" font-family=\"Helvetica,sans-Serif\" font-size=\"14.00\">class = 8</text>\n</g>\n<!-- 84&#45;&gt;88 -->\n<g id=\"edge88\" class=\"edge\">\n<title>84&#45;&gt;88</title>\n<path fill=\"none\" stroke=\"black\" d=\"M6577.5,-587.23C6577.5,-576.81 6577.5,-565.47 6577.5,-554.59\"/>\n<polygon fill=\"black\" stroke=\"black\" points=\"6581,-554.36 6577.5,-544.36 6574,-554.36 6581,-554.36\"/>\n</g>\n<!-- 86 -->\n<g id=\"node87\" class=\"node\">\n<title>86</title>\n<path fill=\"#7be539\" stroke=\"black\" d=\"M6091,-417.5C6091,-417.5 5900,-417.5 5900,-417.5 5894,-417.5 5888,-411.5 5888,-405.5 5888,-405.5 5888,-361.5 5888,-361.5 5888,-355.5 5894,-349.5 5900,-349.5 5900,-349.5 6091,-349.5 6091,-349.5 6097,-349.5 6103,-355.5 6103,-361.5 6103,-361.5 6103,-405.5 6103,-405.5 6103,-411.5 6097,-417.5 6091,-417.5\"/>\n<text text-anchor=\"middle\" x=\"5995.5\" y=\"-402.3\" font-family=\"Helvetica,sans-Serif\" font-size=\"14.00\">gini = 0.0</text>\n<text text-anchor=\"middle\" x=\"5995.5\" y=\"-387.3\" font-family=\"Helvetica,sans-Serif\" font-size=\"14.00\">samples = 1</text>\n<text text-anchor=\"middle\" x=\"5995.5\" y=\"-372.3\" font-family=\"Helvetica,sans-Serif\" font-size=\"14.00\">value = [0, 0, 1, 0, 0, 0, 0, 0, 0, 0]</text>\n<text text-anchor=\"middle\" x=\"5995.5\" y=\"-357.3\" font-family=\"Helvetica,sans-Serif\" font-size=\"14.00\">class = 2</text>\n</g>\n<!-- 85&#45;&gt;86 -->\n<g id=\"edge86\" class=\"edge\">\n<title>85&#45;&gt;86</title>\n<path fill=\"none\" stroke=\"black\" d=\"M6147.66,-460.91C6122.61,-448.33 6095.12,-434.53 6070.49,-422.16\"/>\n<polygon fill=\"black\" stroke=\"black\" points=\"6072.06,-419.03 6061.55,-417.67 6068.92,-425.28 6072.06,-419.03\"/>\n</g>\n<!-- 87 -->\n<g id=\"node88\" class=\"node\">\n<title>87</title>\n<path fill=\"#a339e5\" stroke=\"black\" d=\"M6324,-417.5C6324,-417.5 6133,-417.5 6133,-417.5 6127,-417.5 6121,-411.5 6121,-405.5 6121,-405.5 6121,-361.5 6121,-361.5 6121,-355.5 6127,-349.5 6133,-349.5 6133,-349.5 6324,-349.5 6324,-349.5 6330,-349.5 6336,-355.5 6336,-361.5 6336,-361.5 6336,-405.5 6336,-405.5 6336,-411.5 6330,-417.5 6324,-417.5\"/>\n<text text-anchor=\"middle\" x=\"6228.5\" y=\"-402.3\" font-family=\"Helvetica,sans-Serif\" font-size=\"14.00\">gini = 0.0</text>\n<text text-anchor=\"middle\" x=\"6228.5\" y=\"-387.3\" font-family=\"Helvetica,sans-Serif\" font-size=\"14.00\">samples = 6</text>\n<text text-anchor=\"middle\" x=\"6228.5\" y=\"-372.3\" font-family=\"Helvetica,sans-Serif\" font-size=\"14.00\">value = [0, 0, 0, 0, 0, 0, 0, 6, 0, 0]</text>\n<text text-anchor=\"middle\" x=\"6228.5\" y=\"-357.3\" font-family=\"Helvetica,sans-Serif\" font-size=\"14.00\">class = 7</text>\n</g>\n<!-- 85&#45;&gt;87 -->\n<g id=\"edge87\" class=\"edge\">\n<title>85&#45;&gt;87</title>\n<path fill=\"none\" stroke=\"black\" d=\"M6228.5,-460.91C6228.5,-450.2 6228.5,-438.62 6228.5,-427.78\"/>\n<polygon fill=\"black\" stroke=\"black\" points=\"6232,-427.67 6228.5,-417.67 6225,-427.67 6232,-427.67\"/>\n</g>\n<!-- 89 -->\n<g id=\"node90\" class=\"node\">\n<title>89</title>\n<path fill=\"#ffffff\" stroke=\"black\" d=\"M6557,-425C6557,-425 6366,-425 6366,-425 6360,-425 6354,-419 6354,-413 6354,-413 6354,-354 6354,-354 6354,-348 6360,-342 6366,-342 6366,-342 6557,-342 6557,-342 6563,-342 6569,-348 6569,-354 6569,-354 6569,-413 6569,-413 6569,-419 6563,-425 6557,-425\"/>\n<text text-anchor=\"middle\" x=\"6461.5\" y=\"-409.8\" font-family=\"Helvetica,sans-Serif\" font-size=\"14.00\">pix60 &lt;= 5.0</text>\n<text text-anchor=\"middle\" x=\"6461.5\" y=\"-394.8\" font-family=\"Helvetica,sans-Serif\" font-size=\"14.00\">gini = 0.75</text>\n<text text-anchor=\"middle\" x=\"6461.5\" y=\"-379.8\" font-family=\"Helvetica,sans-Serif\" font-size=\"14.00\">samples = 4</text>\n<text text-anchor=\"middle\" x=\"6461.5\" y=\"-364.8\" font-family=\"Helvetica,sans-Serif\" font-size=\"14.00\">value = [0, 1, 1, 0, 0, 1, 0, 0, 0, 1]</text>\n<text text-anchor=\"middle\" x=\"6461.5\" y=\"-349.8\" font-family=\"Helvetica,sans-Serif\" font-size=\"14.00\">class = 1</text>\n</g>\n<!-- 88&#45;&gt;89 -->\n<g id=\"edge89\" class=\"edge\">\n<title>88&#45;&gt;89</title>\n<path fill=\"none\" stroke=\"black\" d=\"M6537.25,-460.91C6528.08,-451.65 6518.24,-441.73 6508.8,-432.21\"/>\n<polygon fill=\"black\" stroke=\"black\" points=\"6511.2,-429.66 6501.67,-425.02 6506.23,-434.59 6511.2,-429.66\"/>\n</g>\n<!-- 96 -->\n<g id=\"node97\" class=\"node\">\n<title>96</title>\n<path fill=\"#e539c0\" stroke=\"black\" d=\"M6790,-417.5C6790,-417.5 6599,-417.5 6599,-417.5 6593,-417.5 6587,-411.5 6587,-405.5 6587,-405.5 6587,-361.5 6587,-361.5 6587,-355.5 6593,-349.5 6599,-349.5 6599,-349.5 6790,-349.5 6790,-349.5 6796,-349.5 6802,-355.5 6802,-361.5 6802,-361.5 6802,-405.5 6802,-405.5 6802,-411.5 6796,-417.5 6790,-417.5\"/>\n<text text-anchor=\"middle\" x=\"6694.5\" y=\"-402.3\" font-family=\"Helvetica,sans-Serif\" font-size=\"14.00\">gini = 0.0</text>\n<text text-anchor=\"middle\" x=\"6694.5\" y=\"-387.3\" font-family=\"Helvetica,sans-Serif\" font-size=\"14.00\">samples = 3</text>\n<text text-anchor=\"middle\" x=\"6694.5\" y=\"-372.3\" font-family=\"Helvetica,sans-Serif\" font-size=\"14.00\">value = [0, 0, 0, 0, 0, 0, 0, 0, 3, 0]</text>\n<text text-anchor=\"middle\" x=\"6694.5\" y=\"-357.3\" font-family=\"Helvetica,sans-Serif\" font-size=\"14.00\">class = 8</text>\n</g>\n<!-- 88&#45;&gt;96 -->\n<g id=\"edge96\" class=\"edge\">\n<title>88&#45;&gt;96</title>\n<path fill=\"none\" stroke=\"black\" d=\"M6618.09,-460.91C6629.79,-449.21 6642.54,-436.46 6654.22,-424.78\"/>\n<polygon fill=\"black\" stroke=\"black\" points=\"6656.74,-427.21 6661.33,-417.67 6651.79,-422.26 6656.74,-427.21\"/>\n</g>\n<!-- 90 -->\n<g id=\"node91\" class=\"node\">\n<title>90</title>\n<path fill=\"#ffffff\" stroke=\"black\" d=\"M6324,-306C6324,-306 6133,-306 6133,-306 6127,-306 6121,-300 6121,-294 6121,-294 6121,-235 6121,-235 6121,-229 6127,-223 6133,-223 6133,-223 6324,-223 6324,-223 6330,-223 6336,-229 6336,-235 6336,-235 6336,-294 6336,-294 6336,-300 6330,-306 6324,-306\"/>\n<text text-anchor=\"middle\" x=\"6228.5\" y=\"-290.8\" font-family=\"Helvetica,sans-Serif\" font-size=\"14.00\">pix22 &lt;= 0.5</text>\n<text text-anchor=\"middle\" x=\"6228.5\" y=\"-275.8\" font-family=\"Helvetica,sans-Serif\" font-size=\"14.00\">gini = 0.667</text>\n<text text-anchor=\"middle\" x=\"6228.5\" y=\"-260.8\" font-family=\"Helvetica,sans-Serif\" font-size=\"14.00\">samples = 3</text>\n<text text-anchor=\"middle\" x=\"6228.5\" y=\"-245.8\" font-family=\"Helvetica,sans-Serif\" font-size=\"14.00\">value = [0, 1, 0, 0, 0, 1, 0, 0, 0, 1]</text>\n<text text-anchor=\"middle\" x=\"6228.5\" y=\"-230.8\" font-family=\"Helvetica,sans-Serif\" font-size=\"14.00\">class = 1</text>\n</g>\n<!-- 89&#45;&gt;90 -->\n<g id=\"edge90\" class=\"edge\">\n<title>89&#45;&gt;90</title>\n<path fill=\"none\" stroke=\"black\" d=\"M6380.66,-341.91C6360.51,-331.79 6338.78,-320.88 6318.23,-310.56\"/>\n<polygon fill=\"black\" stroke=\"black\" points=\"6319.7,-307.38 6309.2,-306.02 6316.56,-313.64 6319.7,-307.38\"/>\n</g>\n<!-- 95 -->\n<g id=\"node96\" class=\"node\">\n<title>95</title>\n<path fill=\"#7be539\" stroke=\"black\" d=\"M6557,-298.5C6557,-298.5 6366,-298.5 6366,-298.5 6360,-298.5 6354,-292.5 6354,-286.5 6354,-286.5 6354,-242.5 6354,-242.5 6354,-236.5 6360,-230.5 6366,-230.5 6366,-230.5 6557,-230.5 6557,-230.5 6563,-230.5 6569,-236.5 6569,-242.5 6569,-242.5 6569,-286.5 6569,-286.5 6569,-292.5 6563,-298.5 6557,-298.5\"/>\n<text text-anchor=\"middle\" x=\"6461.5\" y=\"-283.3\" font-family=\"Helvetica,sans-Serif\" font-size=\"14.00\">gini = 0.0</text>\n<text text-anchor=\"middle\" x=\"6461.5\" y=\"-268.3\" font-family=\"Helvetica,sans-Serif\" font-size=\"14.00\">samples = 1</text>\n<text text-anchor=\"middle\" x=\"6461.5\" y=\"-253.3\" font-family=\"Helvetica,sans-Serif\" font-size=\"14.00\">value = [0, 0, 1, 0, 0, 0, 0, 0, 0, 0]</text>\n<text text-anchor=\"middle\" x=\"6461.5\" y=\"-238.3\" font-family=\"Helvetica,sans-Serif\" font-size=\"14.00\">class = 2</text>\n</g>\n<!-- 89&#45;&gt;95 -->\n<g id=\"edge95\" class=\"edge\">\n<title>89&#45;&gt;95</title>\n<path fill=\"none\" stroke=\"black\" d=\"M6461.5,-341.91C6461.5,-331.2 6461.5,-319.62 6461.5,-308.78\"/>\n<polygon fill=\"black\" stroke=\"black\" points=\"6465,-308.67 6461.5,-298.67 6458,-308.67 6465,-308.67\"/>\n</g>\n<!-- 91 -->\n<g id=\"node92\" class=\"node\">\n<title>91</title>\n<path fill=\"#ffffff\" stroke=\"black\" d=\"M6208,-187C6208,-187 6017,-187 6017,-187 6011,-187 6005,-181 6005,-175 6005,-175 6005,-116 6005,-116 6005,-110 6011,-104 6017,-104 6017,-104 6208,-104 6208,-104 6214,-104 6220,-110 6220,-116 6220,-116 6220,-175 6220,-175 6220,-181 6214,-187 6208,-187\"/>\n<text text-anchor=\"middle\" x=\"6112.5\" y=\"-171.8\" font-family=\"Helvetica,sans-Serif\" font-size=\"14.00\">pix45 &lt;= 3.5</text>\n<text text-anchor=\"middle\" x=\"6112.5\" y=\"-156.8\" font-family=\"Helvetica,sans-Serif\" font-size=\"14.00\">gini = 0.5</text>\n<text text-anchor=\"middle\" x=\"6112.5\" y=\"-141.8\" font-family=\"Helvetica,sans-Serif\" font-size=\"14.00\">samples = 2</text>\n<text text-anchor=\"middle\" x=\"6112.5\" y=\"-126.8\" font-family=\"Helvetica,sans-Serif\" font-size=\"14.00\">value = [0, 1, 0, 0, 0, 0, 0, 0, 0, 1]</text>\n<text text-anchor=\"middle\" x=\"6112.5\" y=\"-111.8\" font-family=\"Helvetica,sans-Serif\" font-size=\"14.00\">class = 1</text>\n</g>\n<!-- 90&#45;&gt;91 -->\n<g id=\"edge91\" class=\"edge\">\n<title>90&#45;&gt;91</title>\n<path fill=\"none\" stroke=\"black\" d=\"M6188.25,-222.91C6179.08,-213.65 6169.24,-203.73 6159.8,-194.21\"/>\n<polygon fill=\"black\" stroke=\"black\" points=\"6162.2,-191.66 6152.67,-187.02 6157.23,-196.59 6162.2,-191.66\"/>\n</g>\n<!-- 94 -->\n<g id=\"node95\" class=\"node\">\n<title>94</title>\n<path fill=\"#399de5\" stroke=\"black\" d=\"M6441,-179.5C6441,-179.5 6250,-179.5 6250,-179.5 6244,-179.5 6238,-173.5 6238,-167.5 6238,-167.5 6238,-123.5 6238,-123.5 6238,-117.5 6244,-111.5 6250,-111.5 6250,-111.5 6441,-111.5 6441,-111.5 6447,-111.5 6453,-117.5 6453,-123.5 6453,-123.5 6453,-167.5 6453,-167.5 6453,-173.5 6447,-179.5 6441,-179.5\"/>\n<text text-anchor=\"middle\" x=\"6345.5\" y=\"-164.3\" font-family=\"Helvetica,sans-Serif\" font-size=\"14.00\">gini = 0.0</text>\n<text text-anchor=\"middle\" x=\"6345.5\" y=\"-149.3\" font-family=\"Helvetica,sans-Serif\" font-size=\"14.00\">samples = 1</text>\n<text text-anchor=\"middle\" x=\"6345.5\" y=\"-134.3\" font-family=\"Helvetica,sans-Serif\" font-size=\"14.00\">value = [0, 0, 0, 0, 0, 1, 0, 0, 0, 0]</text>\n<text text-anchor=\"middle\" x=\"6345.5\" y=\"-119.3\" font-family=\"Helvetica,sans-Serif\" font-size=\"14.00\">class = 5</text>\n</g>\n<!-- 90&#45;&gt;94 -->\n<g id=\"edge94\" class=\"edge\">\n<title>90&#45;&gt;94</title>\n<path fill=\"none\" stroke=\"black\" d=\"M6269.09,-222.91C6280.79,-211.21 6293.54,-198.46 6305.22,-186.78\"/>\n<polygon fill=\"black\" stroke=\"black\" points=\"6307.74,-189.21 6312.33,-179.67 6302.79,-184.26 6307.74,-189.21\"/>\n</g>\n<!-- 92 -->\n<g id=\"node93\" class=\"node\">\n<title>92</title>\n<path fill=\"#e2e539\" stroke=\"black\" d=\"M6092,-68C6092,-68 5901,-68 5901,-68 5895,-68 5889,-62 5889,-56 5889,-56 5889,-12 5889,-12 5889,-6 5895,0 5901,0 5901,0 6092,0 6092,0 6098,0 6104,-6 6104,-12 6104,-12 6104,-56 6104,-56 6104,-62 6098,-68 6092,-68\"/>\n<text text-anchor=\"middle\" x=\"5996.5\" y=\"-52.8\" font-family=\"Helvetica,sans-Serif\" font-size=\"14.00\">gini = 0.0</text>\n<text text-anchor=\"middle\" x=\"5996.5\" y=\"-37.8\" font-family=\"Helvetica,sans-Serif\" font-size=\"14.00\">samples = 1</text>\n<text text-anchor=\"middle\" x=\"5996.5\" y=\"-22.8\" font-family=\"Helvetica,sans-Serif\" font-size=\"14.00\">value = [0, 1, 0, 0, 0, 0, 0, 0, 0, 0]</text>\n<text text-anchor=\"middle\" x=\"5996.5\" y=\"-7.8\" font-family=\"Helvetica,sans-Serif\" font-size=\"14.00\">class = 1</text>\n</g>\n<!-- 91&#45;&gt;92 -->\n<g id=\"edge92\" class=\"edge\">\n<title>91&#45;&gt;92</title>\n<path fill=\"none\" stroke=\"black\" d=\"M6069.31,-103.73C6059.45,-94.42 6048.98,-84.54 6039.15,-75.26\"/>\n<polygon fill=\"black\" stroke=\"black\" points=\"6041.45,-72.62 6031.78,-68.3 6036.65,-77.71 6041.45,-72.62\"/>\n</g>\n<!-- 93 -->\n<g id=\"node94\" class=\"node\">\n<title>93</title>\n<path fill=\"#e53958\" stroke=\"black\" d=\"M6325,-68C6325,-68 6134,-68 6134,-68 6128,-68 6122,-62 6122,-56 6122,-56 6122,-12 6122,-12 6122,-6 6128,0 6134,0 6134,0 6325,0 6325,0 6331,0 6337,-6 6337,-12 6337,-12 6337,-56 6337,-56 6337,-62 6331,-68 6325,-68\"/>\n<text text-anchor=\"middle\" x=\"6229.5\" y=\"-52.8\" font-family=\"Helvetica,sans-Serif\" font-size=\"14.00\">gini = 0.0</text>\n<text text-anchor=\"middle\" x=\"6229.5\" y=\"-37.8\" font-family=\"Helvetica,sans-Serif\" font-size=\"14.00\">samples = 1</text>\n<text text-anchor=\"middle\" x=\"6229.5\" y=\"-22.8\" font-family=\"Helvetica,sans-Serif\" font-size=\"14.00\">value = [0, 0, 0, 0, 0, 0, 0, 0, 0, 1]</text>\n<text text-anchor=\"middle\" x=\"6229.5\" y=\"-7.8\" font-family=\"Helvetica,sans-Serif\" font-size=\"14.00\">class = 9</text>\n</g>\n<!-- 91&#45;&gt;93 -->\n<g id=\"edge93\" class=\"edge\">\n<title>91&#45;&gt;93</title>\n<path fill=\"none\" stroke=\"black\" d=\"M6156.07,-103.73C6166.01,-94.42 6176.56,-84.54 6186.48,-75.26\"/>\n<polygon fill=\"black\" stroke=\"black\" points=\"6189.01,-77.69 6193.92,-68.3 6184.23,-72.58 6189.01,-77.69\"/>\n</g>\n<!-- 98 -->\n<g id=\"node99\" class=\"node\">\n<title>98</title>\n<path fill=\"#b259e9\" stroke=\"black\" d=\"M7616.5,-670.5C7616.5,-670.5 7410.5,-670.5 7410.5,-670.5 7404.5,-670.5 7398.5,-664.5 7398.5,-658.5 7398.5,-658.5 7398.5,-599.5 7398.5,-599.5 7398.5,-593.5 7404.5,-587.5 7410.5,-587.5 7410.5,-587.5 7616.5,-587.5 7616.5,-587.5 7622.5,-587.5 7628.5,-593.5 7628.5,-599.5 7628.5,-599.5 7628.5,-658.5 7628.5,-658.5 7628.5,-664.5 7622.5,-670.5 7616.5,-670.5\"/>\n<text text-anchor=\"middle\" x=\"7513.5\" y=\"-655.3\" font-family=\"Helvetica,sans-Serif\" font-size=\"14.00\">pix37 &lt;= 0.5</text>\n<text text-anchor=\"middle\" x=\"7513.5\" y=\"-640.3\" font-family=\"Helvetica,sans-Serif\" font-size=\"14.00\">gini = 0.272</text>\n<text text-anchor=\"middle\" x=\"7513.5\" y=\"-625.3\" font-family=\"Helvetica,sans-Serif\" font-size=\"14.00\">samples = 133</text>\n<text text-anchor=\"middle\" x=\"7513.5\" y=\"-610.3\" font-family=\"Helvetica,sans-Serif\" font-size=\"14.00\">value = [0, 3, 0, 2, 1, 0, 0, 113, 6, 8]</text>\n<text text-anchor=\"middle\" x=\"7513.5\" y=\"-595.3\" font-family=\"Helvetica,sans-Serif\" font-size=\"14.00\">class = 7</text>\n</g>\n<!-- 97&#45;&gt;98 -->\n<g id=\"edge98\" class=\"edge\">\n<title>97&#45;&gt;98</title>\n<path fill=\"none\" stroke=\"black\" d=\"M7513.5,-721.32C7513.5,-708.52 7513.5,-694.23 7513.5,-680.82\"/>\n<polygon fill=\"black\" stroke=\"black\" points=\"7517,-680.77 7513.5,-670.77 7510,-680.77 7517,-680.77\"/>\n</g>\n<!-- 119 -->\n<g id=\"node120\" class=\"node\">\n<title>119</title>\n<path fill=\"#f9fad7\" stroke=\"black\" d=\"M8437,-670.5C8437,-670.5 8246,-670.5 8246,-670.5 8240,-670.5 8234,-664.5 8234,-658.5 8234,-658.5 8234,-599.5 8234,-599.5 8234,-593.5 8240,-587.5 8246,-587.5 8246,-587.5 8437,-587.5 8437,-587.5 8443,-587.5 8449,-593.5 8449,-599.5 8449,-599.5 8449,-658.5 8449,-658.5 8449,-664.5 8443,-670.5 8437,-670.5\"/>\n<text text-anchor=\"middle\" x=\"8341.5\" y=\"-655.3\" font-family=\"Helvetica,sans-Serif\" font-size=\"14.00\">pix61 &lt;= 13.5</text>\n<text text-anchor=\"middle\" x=\"8341.5\" y=\"-640.3\" font-family=\"Helvetica,sans-Serif\" font-size=\"14.00\">gini = 0.746</text>\n<text text-anchor=\"middle\" x=\"8341.5\" y=\"-625.3\" font-family=\"Helvetica,sans-Serif\" font-size=\"14.00\">samples = 13</text>\n<text text-anchor=\"middle\" x=\"8341.5\" y=\"-610.3\" font-family=\"Helvetica,sans-Serif\" font-size=\"14.00\">value = [0, 5, 1, 2, 0, 0, 0, 0, 2, 3]</text>\n<text text-anchor=\"middle\" x=\"8341.5\" y=\"-595.3\" font-family=\"Helvetica,sans-Serif\" font-size=\"14.00\">class = 1</text>\n</g>\n<!-- 97&#45;&gt;119 -->\n<g id=\"edge119\" class=\"edge\">\n<title>97&#45;&gt;119</title>\n<path fill=\"none\" stroke=\"black\" d=\"M7632.13,-743.09C7789.76,-717.96 8066.6,-673.83 8223.77,-648.77\"/>\n<polygon fill=\"black\" stroke=\"black\" points=\"8224.62,-652.18 8233.95,-647.15 8223.52,-645.26 8224.62,-652.18\"/>\n</g>\n<!-- 99 -->\n<g id=\"node100\" class=\"node\">\n<title>99</title>\n<path fill=\"#fbe1f5\" stroke=\"black\" d=\"M7372,-544C7372,-544 7181,-544 7181,-544 7175,-544 7169,-538 7169,-532 7169,-532 7169,-473 7169,-473 7169,-467 7175,-461 7181,-461 7181,-461 7372,-461 7372,-461 7378,-461 7384,-467 7384,-473 7384,-473 7384,-532 7384,-532 7384,-538 7378,-544 7372,-544\"/>\n<text text-anchor=\"middle\" x=\"7276.5\" y=\"-528.8\" font-family=\"Helvetica,sans-Serif\" font-size=\"14.00\">pix60 &lt;= 2.5</text>\n<text text-anchor=\"middle\" x=\"7276.5\" y=\"-513.8\" font-family=\"Helvetica,sans-Serif\" font-size=\"14.00\">gini = 0.781</text>\n<text text-anchor=\"middle\" x=\"7276.5\" y=\"-498.8\" font-family=\"Helvetica,sans-Serif\" font-size=\"14.00\">samples = 16</text>\n<text text-anchor=\"middle\" x=\"7276.5\" y=\"-483.8\" font-family=\"Helvetica,sans-Serif\" font-size=\"14.00\">value = [0, 3, 0, 2, 0, 0, 0, 3, 5, 3]</text>\n<text text-anchor=\"middle\" x=\"7276.5\" y=\"-468.8\" font-family=\"Helvetica,sans-Serif\" font-size=\"14.00\">class = 8</text>\n</g>\n<!-- 98&#45;&gt;99 -->\n<g id=\"edge99\" class=\"edge\">\n<title>98&#45;&gt;99</title>\n<path fill=\"none\" stroke=\"black\" d=\"M7436.23,-587.41C7412.75,-575.07 7386.81,-561.45 7362.78,-548.82\"/>\n<polygon fill=\"black\" stroke=\"black\" points=\"7364.15,-545.59 7353.67,-544.04 7360.89,-551.79 7364.15,-545.59\"/>\n</g>\n<!-- 108 -->\n<g id=\"node109\" class=\"node\">\n<title>108</title>\n<path fill=\"#a945e7\" stroke=\"black\" d=\"M7853.5,-544C7853.5,-544 7647.5,-544 7647.5,-544 7641.5,-544 7635.5,-538 7635.5,-532 7635.5,-532 7635.5,-473 7635.5,-473 7635.5,-467 7641.5,-461 7647.5,-461 7647.5,-461 7853.5,-461 7853.5,-461 7859.5,-461 7865.5,-467 7865.5,-473 7865.5,-473 7865.5,-532 7865.5,-532 7865.5,-538 7859.5,-544 7853.5,-544\"/>\n<text text-anchor=\"middle\" x=\"7750.5\" y=\"-528.8\" font-family=\"Helvetica,sans-Serif\" font-size=\"14.00\">pix17 &lt;= 7.5</text>\n<text text-anchor=\"middle\" x=\"7750.5\" y=\"-513.8\" font-family=\"Helvetica,sans-Serif\" font-size=\"14.00\">gini = 0.114</text>\n<text text-anchor=\"middle\" x=\"7750.5\" y=\"-498.8\" font-family=\"Helvetica,sans-Serif\" font-size=\"14.00\">samples = 117</text>\n<text text-anchor=\"middle\" x=\"7750.5\" y=\"-483.8\" font-family=\"Helvetica,sans-Serif\" font-size=\"14.00\">value = [0, 0, 0, 0, 1, 0, 0, 110, 1, 5]</text>\n<text text-anchor=\"middle\" x=\"7750.5\" y=\"-468.8\" font-family=\"Helvetica,sans-Serif\" font-size=\"14.00\">class = 7</text>\n</g>\n<!-- 98&#45;&gt;108 -->\n<g id=\"edge108\" class=\"edge\">\n<title>98&#45;&gt;108</title>\n<path fill=\"none\" stroke=\"black\" d=\"M7590.77,-587.41C7614.25,-575.07 7640.19,-561.45 7664.22,-548.82\"/>\n<polygon fill=\"black\" stroke=\"black\" points=\"7666.11,-551.79 7673.33,-544.04 7662.85,-545.59 7666.11,-551.79\"/>\n</g>\n<!-- 100 -->\n<g id=\"node101\" class=\"node\">\n<title>100</title>\n<path fill=\"#ffffff\" stroke=\"black\" d=\"M7023,-425C7023,-425 6832,-425 6832,-425 6826,-425 6820,-419 6820,-413 6820,-413 6820,-354 6820,-354 6820,-348 6826,-342 6832,-342 6832,-342 7023,-342 7023,-342 7029,-342 7035,-348 7035,-354 7035,-354 7035,-413 7035,-413 7035,-419 7029,-425 7023,-425\"/>\n<text text-anchor=\"middle\" x=\"6927.5\" y=\"-409.8\" font-family=\"Helvetica,sans-Serif\" font-size=\"14.00\">pix18 &lt;= 9.0</text>\n<text text-anchor=\"middle\" x=\"6927.5\" y=\"-394.8\" font-family=\"Helvetica,sans-Serif\" font-size=\"14.00\">gini = 0.656</text>\n<text text-anchor=\"middle\" x=\"6927.5\" y=\"-379.8\" font-family=\"Helvetica,sans-Serif\" font-size=\"14.00\">samples = 8</text>\n<text text-anchor=\"middle\" x=\"6927.5\" y=\"-364.8\" font-family=\"Helvetica,sans-Serif\" font-size=\"14.00\">value = [0, 0, 0, 2, 0, 0, 0, 3, 0, 3]</text>\n<text text-anchor=\"middle\" x=\"6927.5\" y=\"-349.8\" font-family=\"Helvetica,sans-Serif\" font-size=\"14.00\">class = 7</text>\n</g>\n<!-- 99&#45;&gt;100 -->\n<g id=\"edge100\" class=\"edge\">\n<title>99&#45;&gt;100</title>\n<path fill=\"none\" stroke=\"black\" d=\"M7168.94,-465.44C7129.54,-452.23 7084.77,-437.22 7044.58,-423.75\"/>\n<polygon fill=\"black\" stroke=\"black\" points=\"7045.6,-420.4 7035,-420.54 7043.37,-427.04 7045.6,-420.4\"/>\n</g>\n<!-- 105 -->\n<g id=\"node106\" class=\"node\">\n<title>105</title>\n<path fill=\"#f5b0e6\" stroke=\"black\" d=\"M7372,-425C7372,-425 7181,-425 7181,-425 7175,-425 7169,-419 7169,-413 7169,-413 7169,-354 7169,-354 7169,-348 7175,-342 7181,-342 7181,-342 7372,-342 7372,-342 7378,-342 7384,-348 7384,-354 7384,-354 7384,-413 7384,-413 7384,-419 7378,-425 7372,-425\"/>\n<text text-anchor=\"middle\" x=\"7276.5\" y=\"-409.8\" font-family=\"Helvetica,sans-Serif\" font-size=\"14.00\">pix12 &lt;= 14.0</text>\n<text text-anchor=\"middle\" x=\"7276.5\" y=\"-394.8\" font-family=\"Helvetica,sans-Serif\" font-size=\"14.00\">gini = 0.469</text>\n<text text-anchor=\"middle\" x=\"7276.5\" y=\"-379.8\" font-family=\"Helvetica,sans-Serif\" font-size=\"14.00\">samples = 8</text>\n<text text-anchor=\"middle\" x=\"7276.5\" y=\"-364.8\" font-family=\"Helvetica,sans-Serif\" font-size=\"14.00\">value = [0, 3, 0, 0, 0, 0, 0, 0, 5, 0]</text>\n<text text-anchor=\"middle\" x=\"7276.5\" y=\"-349.8\" font-family=\"Helvetica,sans-Serif\" font-size=\"14.00\">class = 8</text>\n</g>\n<!-- 99&#45;&gt;105 -->\n<g id=\"edge105\" class=\"edge\">\n<title>99&#45;&gt;105</title>\n<path fill=\"none\" stroke=\"black\" d=\"M7276.5,-460.91C7276.5,-452.65 7276.5,-443.86 7276.5,-435.3\"/>\n<polygon fill=\"black\" stroke=\"black\" points=\"7280,-435.02 7276.5,-425.02 7273,-435.02 7280,-435.02\"/>\n</g>\n<!-- 101 -->\n<g id=\"node102\" class=\"node\">\n<title>101</title>\n<path fill=\"#e0bdf6\" stroke=\"black\" d=\"M6790,-306C6790,-306 6599,-306 6599,-306 6593,-306 6587,-300 6587,-294 6587,-294 6587,-235 6587,-235 6587,-229 6593,-223 6599,-223 6599,-223 6790,-223 6790,-223 6796,-223 6802,-229 6802,-235 6802,-235 6802,-294 6802,-294 6802,-300 6796,-306 6790,-306\"/>\n<text text-anchor=\"middle\" x=\"6694.5\" y=\"-290.8\" font-family=\"Helvetica,sans-Serif\" font-size=\"14.00\">pix14 &lt;= 1.5</text>\n<text text-anchor=\"middle\" x=\"6694.5\" y=\"-275.8\" font-family=\"Helvetica,sans-Serif\" font-size=\"14.00\">gini = 0.48</text>\n<text text-anchor=\"middle\" x=\"6694.5\" y=\"-260.8\" font-family=\"Helvetica,sans-Serif\" font-size=\"14.00\">samples = 5</text>\n<text text-anchor=\"middle\" x=\"6694.5\" y=\"-245.8\" font-family=\"Helvetica,sans-Serif\" font-size=\"14.00\">value = [0, 0, 0, 2, 0, 0, 0, 3, 0, 0]</text>\n<text text-anchor=\"middle\" x=\"6694.5\" y=\"-230.8\" font-family=\"Helvetica,sans-Serif\" font-size=\"14.00\">class = 7</text>\n</g>\n<!-- 100&#45;&gt;101 -->\n<g id=\"edge101\" class=\"edge\">\n<title>100&#45;&gt;101</title>\n<path fill=\"none\" stroke=\"black\" d=\"M6846.66,-341.91C6826.51,-331.79 6804.78,-320.88 6784.23,-310.56\"/>\n<polygon fill=\"black\" stroke=\"black\" points=\"6785.7,-307.38 6775.2,-306.02 6782.56,-313.64 6785.7,-307.38\"/>\n</g>\n<!-- 104 -->\n<g id=\"node105\" class=\"node\">\n<title>104</title>\n<path fill=\"#e53958\" stroke=\"black\" d=\"M7023,-298.5C7023,-298.5 6832,-298.5 6832,-298.5 6826,-298.5 6820,-292.5 6820,-286.5 6820,-286.5 6820,-242.5 6820,-242.5 6820,-236.5 6826,-230.5 6832,-230.5 6832,-230.5 7023,-230.5 7023,-230.5 7029,-230.5 7035,-236.5 7035,-242.5 7035,-242.5 7035,-286.5 7035,-286.5 7035,-292.5 7029,-298.5 7023,-298.5\"/>\n<text text-anchor=\"middle\" x=\"6927.5\" y=\"-283.3\" font-family=\"Helvetica,sans-Serif\" font-size=\"14.00\">gini = 0.0</text>\n<text text-anchor=\"middle\" x=\"6927.5\" y=\"-268.3\" font-family=\"Helvetica,sans-Serif\" font-size=\"14.00\">samples = 3</text>\n<text text-anchor=\"middle\" x=\"6927.5\" y=\"-253.3\" font-family=\"Helvetica,sans-Serif\" font-size=\"14.00\">value = [0, 0, 0, 0, 0, 0, 0, 0, 0, 3]</text>\n<text text-anchor=\"middle\" x=\"6927.5\" y=\"-238.3\" font-family=\"Helvetica,sans-Serif\" font-size=\"14.00\">class = 9</text>\n</g>\n<!-- 100&#45;&gt;104 -->\n<g id=\"edge104\" class=\"edge\">\n<title>100&#45;&gt;104</title>\n<path fill=\"none\" stroke=\"black\" d=\"M6927.5,-341.91C6927.5,-331.2 6927.5,-319.62 6927.5,-308.78\"/>\n<polygon fill=\"black\" stroke=\"black\" points=\"6931,-308.67 6927.5,-298.67 6924,-308.67 6931,-308.67\"/>\n</g>\n<!-- 102 -->\n<g id=\"node103\" class=\"node\">\n<title>102</title>\n<path fill=\"#a339e5\" stroke=\"black\" d=\"M6790,-179.5C6790,-179.5 6599,-179.5 6599,-179.5 6593,-179.5 6587,-173.5 6587,-167.5 6587,-167.5 6587,-123.5 6587,-123.5 6587,-117.5 6593,-111.5 6599,-111.5 6599,-111.5 6790,-111.5 6790,-111.5 6796,-111.5 6802,-117.5 6802,-123.5 6802,-123.5 6802,-167.5 6802,-167.5 6802,-173.5 6796,-179.5 6790,-179.5\"/>\n<text text-anchor=\"middle\" x=\"6694.5\" y=\"-164.3\" font-family=\"Helvetica,sans-Serif\" font-size=\"14.00\">gini = 0.0</text>\n<text text-anchor=\"middle\" x=\"6694.5\" y=\"-149.3\" font-family=\"Helvetica,sans-Serif\" font-size=\"14.00\">samples = 3</text>\n<text text-anchor=\"middle\" x=\"6694.5\" y=\"-134.3\" font-family=\"Helvetica,sans-Serif\" font-size=\"14.00\">value = [0, 0, 0, 0, 0, 0, 0, 3, 0, 0]</text>\n<text text-anchor=\"middle\" x=\"6694.5\" y=\"-119.3\" font-family=\"Helvetica,sans-Serif\" font-size=\"14.00\">class = 7</text>\n</g>\n<!-- 101&#45;&gt;102 -->\n<g id=\"edge102\" class=\"edge\">\n<title>101&#45;&gt;102</title>\n<path fill=\"none\" stroke=\"black\" d=\"M6694.5,-222.91C6694.5,-212.2 6694.5,-200.62 6694.5,-189.78\"/>\n<polygon fill=\"black\" stroke=\"black\" points=\"6698,-189.67 6694.5,-179.67 6691,-189.67 6698,-189.67\"/>\n</g>\n<!-- 103 -->\n<g id=\"node104\" class=\"node\">\n<title>103</title>\n<path fill=\"#39e55e\" stroke=\"black\" d=\"M7023,-179.5C7023,-179.5 6832,-179.5 6832,-179.5 6826,-179.5 6820,-173.5 6820,-167.5 6820,-167.5 6820,-123.5 6820,-123.5 6820,-117.5 6826,-111.5 6832,-111.5 6832,-111.5 7023,-111.5 7023,-111.5 7029,-111.5 7035,-117.5 7035,-123.5 7035,-123.5 7035,-167.5 7035,-167.5 7035,-173.5 7029,-179.5 7023,-179.5\"/>\n<text text-anchor=\"middle\" x=\"6927.5\" y=\"-164.3\" font-family=\"Helvetica,sans-Serif\" font-size=\"14.00\">gini = 0.0</text>\n<text text-anchor=\"middle\" x=\"6927.5\" y=\"-149.3\" font-family=\"Helvetica,sans-Serif\" font-size=\"14.00\">samples = 2</text>\n<text text-anchor=\"middle\" x=\"6927.5\" y=\"-134.3\" font-family=\"Helvetica,sans-Serif\" font-size=\"14.00\">value = [0, 0, 0, 2, 0, 0, 0, 0, 0, 0]</text>\n<text text-anchor=\"middle\" x=\"6927.5\" y=\"-119.3\" font-family=\"Helvetica,sans-Serif\" font-size=\"14.00\">class = 3</text>\n</g>\n<!-- 101&#45;&gt;103 -->\n<g id=\"edge103\" class=\"edge\">\n<title>101&#45;&gt;103</title>\n<path fill=\"none\" stroke=\"black\" d=\"M6775.34,-222.91C6800.39,-210.33 6827.88,-196.53 6852.51,-184.16\"/>\n<polygon fill=\"black\" stroke=\"black\" points=\"6854.08,-187.28 6861.45,-179.67 6850.94,-181.03 6854.08,-187.28\"/>\n</g>\n<!-- 106 -->\n<g id=\"node107\" class=\"node\">\n<title>106</title>\n<path fill=\"#e539c0\" stroke=\"black\" d=\"M7256,-298.5C7256,-298.5 7065,-298.5 7065,-298.5 7059,-298.5 7053,-292.5 7053,-286.5 7053,-286.5 7053,-242.5 7053,-242.5 7053,-236.5 7059,-230.5 7065,-230.5 7065,-230.5 7256,-230.5 7256,-230.5 7262,-230.5 7268,-236.5 7268,-242.5 7268,-242.5 7268,-286.5 7268,-286.5 7268,-292.5 7262,-298.5 7256,-298.5\"/>\n<text text-anchor=\"middle\" x=\"7160.5\" y=\"-283.3\" font-family=\"Helvetica,sans-Serif\" font-size=\"14.00\">gini = 0.0</text>\n<text text-anchor=\"middle\" x=\"7160.5\" y=\"-268.3\" font-family=\"Helvetica,sans-Serif\" font-size=\"14.00\">samples = 5</text>\n<text text-anchor=\"middle\" x=\"7160.5\" y=\"-253.3\" font-family=\"Helvetica,sans-Serif\" font-size=\"14.00\">value = [0, 0, 0, 0, 0, 0, 0, 0, 5, 0]</text>\n<text text-anchor=\"middle\" x=\"7160.5\" y=\"-238.3\" font-family=\"Helvetica,sans-Serif\" font-size=\"14.00\">class = 8</text>\n</g>\n<!-- 105&#45;&gt;106 -->\n<g id=\"edge106\" class=\"edge\">\n<title>105&#45;&gt;106</title>\n<path fill=\"none\" stroke=\"black\" d=\"M7236.25,-341.91C7224.66,-330.21 7212.01,-317.46 7200.44,-305.78\"/>\n<polygon fill=\"black\" stroke=\"black\" points=\"7202.91,-303.3 7193.38,-298.67 7197.94,-308.23 7202.91,-303.3\"/>\n</g>\n<!-- 107 -->\n<g id=\"node108\" class=\"node\">\n<title>107</title>\n<path fill=\"#e2e539\" stroke=\"black\" d=\"M7489,-298.5C7489,-298.5 7298,-298.5 7298,-298.5 7292,-298.5 7286,-292.5 7286,-286.5 7286,-286.5 7286,-242.5 7286,-242.5 7286,-236.5 7292,-230.5 7298,-230.5 7298,-230.5 7489,-230.5 7489,-230.5 7495,-230.5 7501,-236.5 7501,-242.5 7501,-242.5 7501,-286.5 7501,-286.5 7501,-292.5 7495,-298.5 7489,-298.5\"/>\n<text text-anchor=\"middle\" x=\"7393.5\" y=\"-283.3\" font-family=\"Helvetica,sans-Serif\" font-size=\"14.00\">gini = 0.0</text>\n<text text-anchor=\"middle\" x=\"7393.5\" y=\"-268.3\" font-family=\"Helvetica,sans-Serif\" font-size=\"14.00\">samples = 3</text>\n<text text-anchor=\"middle\" x=\"7393.5\" y=\"-253.3\" font-family=\"Helvetica,sans-Serif\" font-size=\"14.00\">value = [0, 3, 0, 0, 0, 0, 0, 0, 0, 0]</text>\n<text text-anchor=\"middle\" x=\"7393.5\" y=\"-238.3\" font-family=\"Helvetica,sans-Serif\" font-size=\"14.00\">class = 1</text>\n</g>\n<!-- 105&#45;&gt;107 -->\n<g id=\"edge107\" class=\"edge\">\n<title>105&#45;&gt;107</title>\n<path fill=\"none\" stroke=\"black\" d=\"M7317.09,-341.91C7328.79,-330.21 7341.54,-317.46 7353.22,-305.78\"/>\n<polygon fill=\"black\" stroke=\"black\" points=\"7355.74,-308.21 7360.33,-298.67 7350.79,-303.26 7355.74,-308.21\"/>\n</g>\n<!-- 109 -->\n<g id=\"node110\" class=\"node\">\n<title>109</title>\n<path fill=\"#a640e6\" stroke=\"black\" d=\"M7853.5,-425C7853.5,-425 7647.5,-425 7647.5,-425 7641.5,-425 7635.5,-419 7635.5,-413 7635.5,-413 7635.5,-354 7635.5,-354 7635.5,-348 7641.5,-342 7647.5,-342 7647.5,-342 7853.5,-342 7853.5,-342 7859.5,-342 7865.5,-348 7865.5,-354 7865.5,-354 7865.5,-413 7865.5,-413 7865.5,-419 7859.5,-425 7853.5,-425\"/>\n<text text-anchor=\"middle\" x=\"7750.5\" y=\"-409.8\" font-family=\"Helvetica,sans-Serif\" font-size=\"14.00\">pix19 &lt;= 12.5</text>\n<text text-anchor=\"middle\" x=\"7750.5\" y=\"-394.8\" font-family=\"Helvetica,sans-Serif\" font-size=\"14.00\">gini = 0.069</text>\n<text text-anchor=\"middle\" x=\"7750.5\" y=\"-379.8\" font-family=\"Helvetica,sans-Serif\" font-size=\"14.00\">samples = 113</text>\n<text text-anchor=\"middle\" x=\"7750.5\" y=\"-364.8\" font-family=\"Helvetica,sans-Serif\" font-size=\"14.00\">value = [0, 0, 0, 0, 1, 0, 0, 109, 1, 2]</text>\n<text text-anchor=\"middle\" x=\"7750.5\" y=\"-349.8\" font-family=\"Helvetica,sans-Serif\" font-size=\"14.00\">class = 7</text>\n</g>\n<!-- 108&#45;&gt;109 -->\n<g id=\"edge109\" class=\"edge\">\n<title>108&#45;&gt;109</title>\n<path fill=\"none\" stroke=\"black\" d=\"M7750.5,-460.91C7750.5,-452.65 7750.5,-443.86 7750.5,-435.3\"/>\n<polygon fill=\"black\" stroke=\"black\" points=\"7754,-435.02 7750.5,-425.02 7747,-435.02 7754,-435.02\"/>\n</g>\n<!-- 116 -->\n<g id=\"node117\" class=\"node\">\n<title>116</title>\n<path fill=\"#ee7b90\" stroke=\"black\" d=\"M8204,-425C8204,-425 8013,-425 8013,-425 8007,-425 8001,-419 8001,-413 8001,-413 8001,-354 8001,-354 8001,-348 8007,-342 8013,-342 8013,-342 8204,-342 8204,-342 8210,-342 8216,-348 8216,-354 8216,-354 8216,-413 8216,-413 8216,-419 8210,-425 8204,-425\"/>\n<text text-anchor=\"middle\" x=\"8108.5\" y=\"-409.8\" font-family=\"Helvetica,sans-Serif\" font-size=\"14.00\">pix18 &lt;= 7.0</text>\n<text text-anchor=\"middle\" x=\"8108.5\" y=\"-394.8\" font-family=\"Helvetica,sans-Serif\" font-size=\"14.00\">gini = 0.375</text>\n<text text-anchor=\"middle\" x=\"8108.5\" y=\"-379.8\" font-family=\"Helvetica,sans-Serif\" font-size=\"14.00\">samples = 4</text>\n<text text-anchor=\"middle\" x=\"8108.5\" y=\"-364.8\" font-family=\"Helvetica,sans-Serif\" font-size=\"14.00\">value = [0, 0, 0, 0, 0, 0, 0, 1, 0, 3]</text>\n<text text-anchor=\"middle\" x=\"8108.5\" y=\"-349.8\" font-family=\"Helvetica,sans-Serif\" font-size=\"14.00\">class = 9</text>\n</g>\n<!-- 108&#45;&gt;116 -->\n<g id=\"edge116\" class=\"edge\">\n<title>108&#45;&gt;116</title>\n<path fill=\"none\" stroke=\"black\" d=\"M7865.74,-463.84C7905.86,-450.73 7950.89,-436.01 7991.18,-422.84\"/>\n<polygon fill=\"black\" stroke=\"black\" points=\"7992.35,-426.14 8000.77,-419.71 7990.18,-419.49 7992.35,-426.14\"/>\n</g>\n<!-- 110 -->\n<g id=\"node111\" class=\"node\">\n<title>110</title>\n<path fill=\"#a63ee6\" stroke=\"black\" d=\"M7737.5,-306C7737.5,-306 7531.5,-306 7531.5,-306 7525.5,-306 7519.5,-300 7519.5,-294 7519.5,-294 7519.5,-235 7519.5,-235 7519.5,-229 7525.5,-223 7531.5,-223 7531.5,-223 7737.5,-223 7737.5,-223 7743.5,-223 7749.5,-229 7749.5,-235 7749.5,-235 7749.5,-294 7749.5,-294 7749.5,-300 7743.5,-306 7737.5,-306\"/>\n<text text-anchor=\"middle\" x=\"7634.5\" y=\"-290.8\" font-family=\"Helvetica,sans-Serif\" font-size=\"14.00\">pix51 &lt;= 2.5</text>\n<text text-anchor=\"middle\" x=\"7634.5\" y=\"-275.8\" font-family=\"Helvetica,sans-Serif\" font-size=\"14.00\">gini = 0.052</text>\n<text text-anchor=\"middle\" x=\"7634.5\" y=\"-260.8\" font-family=\"Helvetica,sans-Serif\" font-size=\"14.00\">samples = 112</text>\n<text text-anchor=\"middle\" x=\"7634.5\" y=\"-245.8\" font-family=\"Helvetica,sans-Serif\" font-size=\"14.00\">value = [0, 0, 0, 0, 1, 0, 0, 109, 0, 2]</text>\n<text text-anchor=\"middle\" x=\"7634.5\" y=\"-230.8\" font-family=\"Helvetica,sans-Serif\" font-size=\"14.00\">class = 7</text>\n</g>\n<!-- 109&#45;&gt;110 -->\n<g id=\"edge110\" class=\"edge\">\n<title>109&#45;&gt;110</title>\n<path fill=\"none\" stroke=\"black\" d=\"M7710.25,-341.91C7701.08,-332.65 7691.24,-322.73 7681.8,-313.21\"/>\n<polygon fill=\"black\" stroke=\"black\" points=\"7684.2,-310.66 7674.67,-306.02 7679.23,-315.59 7684.2,-310.66\"/>\n</g>\n<!-- 115 -->\n<g id=\"node116\" class=\"node\">\n<title>115</title>\n<path fill=\"#e539c0\" stroke=\"black\" d=\"M7971,-298.5C7971,-298.5 7780,-298.5 7780,-298.5 7774,-298.5 7768,-292.5 7768,-286.5 7768,-286.5 7768,-242.5 7768,-242.5 7768,-236.5 7774,-230.5 7780,-230.5 7780,-230.5 7971,-230.5 7971,-230.5 7977,-230.5 7983,-236.5 7983,-242.5 7983,-242.5 7983,-286.5 7983,-286.5 7983,-292.5 7977,-298.5 7971,-298.5\"/>\n<text text-anchor=\"middle\" x=\"7875.5\" y=\"-283.3\" font-family=\"Helvetica,sans-Serif\" font-size=\"14.00\">gini = 0.0</text>\n<text text-anchor=\"middle\" x=\"7875.5\" y=\"-268.3\" font-family=\"Helvetica,sans-Serif\" font-size=\"14.00\">samples = 1</text>\n<text text-anchor=\"middle\" x=\"7875.5\" y=\"-253.3\" font-family=\"Helvetica,sans-Serif\" font-size=\"14.00\">value = [0, 0, 0, 0, 0, 0, 0, 0, 1, 0]</text>\n<text text-anchor=\"middle\" x=\"7875.5\" y=\"-238.3\" font-family=\"Helvetica,sans-Serif\" font-size=\"14.00\">class = 8</text>\n</g>\n<!-- 109&#45;&gt;115 -->\n<g id=\"edge115\" class=\"edge\">\n<title>109&#45;&gt;115</title>\n<path fill=\"none\" stroke=\"black\" d=\"M7793.87,-341.91C7806.36,-330.21 7819.99,-317.46 7832.47,-305.78\"/>\n<polygon fill=\"black\" stroke=\"black\" points=\"7835.16,-308.06 7840.07,-298.67 7830.37,-302.95 7835.16,-308.06\"/>\n</g>\n<!-- 111 -->\n<g id=\"node112\" class=\"node\">\n<title>111</title>\n<path fill=\"#e53958\" stroke=\"black\" d=\"M7610,-179.5C7610,-179.5 7419,-179.5 7419,-179.5 7413,-179.5 7407,-173.5 7407,-167.5 7407,-167.5 7407,-123.5 7407,-123.5 7407,-117.5 7413,-111.5 7419,-111.5 7419,-111.5 7610,-111.5 7610,-111.5 7616,-111.5 7622,-117.5 7622,-123.5 7622,-123.5 7622,-167.5 7622,-167.5 7622,-173.5 7616,-179.5 7610,-179.5\"/>\n<text text-anchor=\"middle\" x=\"7514.5\" y=\"-164.3\" font-family=\"Helvetica,sans-Serif\" font-size=\"14.00\">gini = 0.0</text>\n<text text-anchor=\"middle\" x=\"7514.5\" y=\"-149.3\" font-family=\"Helvetica,sans-Serif\" font-size=\"14.00\">samples = 1</text>\n<text text-anchor=\"middle\" x=\"7514.5\" y=\"-134.3\" font-family=\"Helvetica,sans-Serif\" font-size=\"14.00\">value = [0, 0, 0, 0, 0, 0, 0, 0, 0, 1]</text>\n<text text-anchor=\"middle\" x=\"7514.5\" y=\"-119.3\" font-family=\"Helvetica,sans-Serif\" font-size=\"14.00\">class = 9</text>\n</g>\n<!-- 110&#45;&gt;111 -->\n<g id=\"edge111\" class=\"edge\">\n<title>110&#45;&gt;111</title>\n<path fill=\"none\" stroke=\"black\" d=\"M7592.87,-222.91C7580.87,-211.21 7567.79,-198.46 7555.81,-186.78\"/>\n<polygon fill=\"black\" stroke=\"black\" points=\"7558.12,-184.14 7548.52,-179.67 7553.23,-189.15 7558.12,-184.14\"/>\n</g>\n<!-- 112 -->\n<g id=\"node113\" class=\"node\">\n<title>112</title>\n<path fill=\"#a53de5\" stroke=\"black\" d=\"M7858.5,-187C7858.5,-187 7652.5,-187 7652.5,-187 7646.5,-187 7640.5,-181 7640.5,-175 7640.5,-175 7640.5,-116 7640.5,-116 7640.5,-110 7646.5,-104 7652.5,-104 7652.5,-104 7858.5,-104 7858.5,-104 7864.5,-104 7870.5,-110 7870.5,-116 7870.5,-116 7870.5,-175 7870.5,-175 7870.5,-181 7864.5,-187 7858.5,-187\"/>\n<text text-anchor=\"middle\" x=\"7755.5\" y=\"-171.8\" font-family=\"Helvetica,sans-Serif\" font-size=\"14.00\">pix25 &lt;= 3.5</text>\n<text text-anchor=\"middle\" x=\"7755.5\" y=\"-156.8\" font-family=\"Helvetica,sans-Serif\" font-size=\"14.00\">gini = 0.036</text>\n<text text-anchor=\"middle\" x=\"7755.5\" y=\"-141.8\" font-family=\"Helvetica,sans-Serif\" font-size=\"14.00\">samples = 111</text>\n<text text-anchor=\"middle\" x=\"7755.5\" y=\"-126.8\" font-family=\"Helvetica,sans-Serif\" font-size=\"14.00\">value = [0, 0, 0, 0, 1, 0, 0, 109, 0, 1]</text>\n<text text-anchor=\"middle\" x=\"7755.5\" y=\"-111.8\" font-family=\"Helvetica,sans-Serif\" font-size=\"14.00\">class = 7</text>\n</g>\n<!-- 110&#45;&gt;112 -->\n<g id=\"edge112\" class=\"edge\">\n<title>110&#45;&gt;112</title>\n<path fill=\"none\" stroke=\"black\" d=\"M7676.48,-222.91C7686.05,-213.65 7696.31,-203.73 7706.16,-194.21\"/>\n<polygon fill=\"black\" stroke=\"black\" points=\"7708.84,-196.49 7713.59,-187.02 7703.97,-191.46 7708.84,-196.49\"/>\n</g>\n<!-- 113 -->\n<g id=\"node114\" class=\"node\">\n<title>113</title>\n<path fill=\"#a339e5\" stroke=\"black\" d=\"M7738.5,-68C7738.5,-68 7532.5,-68 7532.5,-68 7526.5,-68 7520.5,-62 7520.5,-56 7520.5,-56 7520.5,-12 7520.5,-12 7520.5,-6 7526.5,0 7532.5,0 7532.5,0 7738.5,0 7738.5,0 7744.5,0 7750.5,-6 7750.5,-12 7750.5,-12 7750.5,-56 7750.5,-56 7750.5,-62 7744.5,-68 7738.5,-68\"/>\n<text text-anchor=\"middle\" x=\"7635.5\" y=\"-52.8\" font-family=\"Helvetica,sans-Serif\" font-size=\"14.00\">gini = 0.0</text>\n<text text-anchor=\"middle\" x=\"7635.5\" y=\"-37.8\" font-family=\"Helvetica,sans-Serif\" font-size=\"14.00\">samples = 103</text>\n<text text-anchor=\"middle\" x=\"7635.5\" y=\"-22.8\" font-family=\"Helvetica,sans-Serif\" font-size=\"14.00\">value = [0, 0, 0, 0, 0, 0, 0, 103, 0, 0]</text>\n<text text-anchor=\"middle\" x=\"7635.5\" y=\"-7.8\" font-family=\"Helvetica,sans-Serif\" font-size=\"14.00\">class = 7</text>\n</g>\n<!-- 112&#45;&gt;113 -->\n<g id=\"edge113\" class=\"edge\">\n<title>112&#45;&gt;113</title>\n<path fill=\"none\" stroke=\"black\" d=\"M7710.82,-103.73C7700.62,-94.42 7689.79,-84.54 7679.62,-75.26\"/>\n<polygon fill=\"black\" stroke=\"black\" points=\"7681.74,-72.45 7671.99,-68.3 7677.02,-77.63 7681.74,-72.45\"/>\n</g>\n<!-- 114 -->\n<g id=\"node115\" class=\"node\">\n<title>114</title>\n<path fill=\"#bd72ec\" stroke=\"black\" d=\"M7972,-68C7972,-68 7781,-68 7781,-68 7775,-68 7769,-62 7769,-56 7769,-56 7769,-12 7769,-12 7769,-6 7775,0 7781,0 7781,0 7972,0 7972,0 7978,0 7984,-6 7984,-12 7984,-12 7984,-56 7984,-56 7984,-62 7978,-68 7972,-68\"/>\n<text text-anchor=\"middle\" x=\"7876.5\" y=\"-52.8\" font-family=\"Helvetica,sans-Serif\" font-size=\"14.00\">gini = 0.406</text>\n<text text-anchor=\"middle\" x=\"7876.5\" y=\"-37.8\" font-family=\"Helvetica,sans-Serif\" font-size=\"14.00\">samples = 8</text>\n<text text-anchor=\"middle\" x=\"7876.5\" y=\"-22.8\" font-family=\"Helvetica,sans-Serif\" font-size=\"14.00\">value = [0, 0, 0, 0, 1, 0, 0, 6, 0, 1]</text>\n<text text-anchor=\"middle\" x=\"7876.5\" y=\"-7.8\" font-family=\"Helvetica,sans-Serif\" font-size=\"14.00\">class = 7</text>\n</g>\n<!-- 112&#45;&gt;114 -->\n<g id=\"edge114\" class=\"edge\">\n<title>112&#45;&gt;114</title>\n<path fill=\"none\" stroke=\"black\" d=\"M7800.56,-103.73C7810.84,-94.42 7821.75,-84.54 7832.01,-75.26\"/>\n<polygon fill=\"black\" stroke=\"black\" points=\"7834.64,-77.6 7839.7,-68.3 7829.94,-72.41 7834.64,-77.6\"/>\n</g>\n<!-- 117 -->\n<g id=\"node118\" class=\"node\">\n<title>117</title>\n<path fill=\"#a339e5\" stroke=\"black\" d=\"M8204,-298.5C8204,-298.5 8013,-298.5 8013,-298.5 8007,-298.5 8001,-292.5 8001,-286.5 8001,-286.5 8001,-242.5 8001,-242.5 8001,-236.5 8007,-230.5 8013,-230.5 8013,-230.5 8204,-230.5 8204,-230.5 8210,-230.5 8216,-236.5 8216,-242.5 8216,-242.5 8216,-286.5 8216,-286.5 8216,-292.5 8210,-298.5 8204,-298.5\"/>\n<text text-anchor=\"middle\" x=\"8108.5\" y=\"-283.3\" font-family=\"Helvetica,sans-Serif\" font-size=\"14.00\">gini = 0.0</text>\n<text text-anchor=\"middle\" x=\"8108.5\" y=\"-268.3\" font-family=\"Helvetica,sans-Serif\" font-size=\"14.00\">samples = 1</text>\n<text text-anchor=\"middle\" x=\"8108.5\" y=\"-253.3\" font-family=\"Helvetica,sans-Serif\" font-size=\"14.00\">value = [0, 0, 0, 0, 0, 0, 0, 1, 0, 0]</text>\n<text text-anchor=\"middle\" x=\"8108.5\" y=\"-238.3\" font-family=\"Helvetica,sans-Serif\" font-size=\"14.00\">class = 7</text>\n</g>\n<!-- 116&#45;&gt;117 -->\n<g id=\"edge117\" class=\"edge\">\n<title>116&#45;&gt;117</title>\n<path fill=\"none\" stroke=\"black\" d=\"M8108.5,-341.91C8108.5,-331.2 8108.5,-319.62 8108.5,-308.78\"/>\n<polygon fill=\"black\" stroke=\"black\" points=\"8112,-308.67 8108.5,-298.67 8105,-308.67 8112,-308.67\"/>\n</g>\n<!-- 118 -->\n<g id=\"node119\" class=\"node\">\n<title>118</title>\n<path fill=\"#e53958\" stroke=\"black\" d=\"M8437,-298.5C8437,-298.5 8246,-298.5 8246,-298.5 8240,-298.5 8234,-292.5 8234,-286.5 8234,-286.5 8234,-242.5 8234,-242.5 8234,-236.5 8240,-230.5 8246,-230.5 8246,-230.5 8437,-230.5 8437,-230.5 8443,-230.5 8449,-236.5 8449,-242.5 8449,-242.5 8449,-286.5 8449,-286.5 8449,-292.5 8443,-298.5 8437,-298.5\"/>\n<text text-anchor=\"middle\" x=\"8341.5\" y=\"-283.3\" font-family=\"Helvetica,sans-Serif\" font-size=\"14.00\">gini = 0.0</text>\n<text text-anchor=\"middle\" x=\"8341.5\" y=\"-268.3\" font-family=\"Helvetica,sans-Serif\" font-size=\"14.00\">samples = 3</text>\n<text text-anchor=\"middle\" x=\"8341.5\" y=\"-253.3\" font-family=\"Helvetica,sans-Serif\" font-size=\"14.00\">value = [0, 0, 0, 0, 0, 0, 0, 0, 0, 3]</text>\n<text text-anchor=\"middle\" x=\"8341.5\" y=\"-238.3\" font-family=\"Helvetica,sans-Serif\" font-size=\"14.00\">class = 9</text>\n</g>\n<!-- 116&#45;&gt;118 -->\n<g id=\"edge118\" class=\"edge\">\n<title>116&#45;&gt;118</title>\n<path fill=\"none\" stroke=\"black\" d=\"M8189.34,-341.91C8214.39,-329.33 8241.88,-315.53 8266.51,-303.16\"/>\n<polygon fill=\"black\" stroke=\"black\" points=\"8268.08,-306.28 8275.45,-298.67 8264.94,-300.03 8268.08,-306.28\"/>\n</g>\n<!-- 120 -->\n<g id=\"node121\" class=\"node\">\n<title>120</title>\n<path fill=\"#fbdee3\" stroke=\"black\" d=\"M8437,-544C8437,-544 8246,-544 8246,-544 8240,-544 8234,-538 8234,-532 8234,-532 8234,-473 8234,-473 8234,-467 8240,-461 8246,-461 8246,-461 8437,-461 8437,-461 8443,-461 8449,-467 8449,-473 8449,-473 8449,-532 8449,-532 8449,-538 8443,-544 8437,-544\"/>\n<text text-anchor=\"middle\" x=\"8341.5\" y=\"-528.8\" font-family=\"Helvetica,sans-Serif\" font-size=\"14.00\">pix44 &lt;= 6.5</text>\n<text text-anchor=\"middle\" x=\"8341.5\" y=\"-513.8\" font-family=\"Helvetica,sans-Serif\" font-size=\"14.00\">gini = 0.719</text>\n<text text-anchor=\"middle\" x=\"8341.5\" y=\"-498.8\" font-family=\"Helvetica,sans-Serif\" font-size=\"14.00\">samples = 8</text>\n<text text-anchor=\"middle\" x=\"8341.5\" y=\"-483.8\" font-family=\"Helvetica,sans-Serif\" font-size=\"14.00\">value = [0, 0, 1, 2, 0, 0, 0, 0, 2, 3]</text>\n<text text-anchor=\"middle\" x=\"8341.5\" y=\"-468.8\" font-family=\"Helvetica,sans-Serif\" font-size=\"14.00\">class = 9</text>\n</g>\n<!-- 119&#45;&gt;120 -->\n<g id=\"edge120\" class=\"edge\">\n<title>119&#45;&gt;120</title>\n<path fill=\"none\" stroke=\"black\" d=\"M8341.5,-587.23C8341.5,-576.81 8341.5,-565.47 8341.5,-554.59\"/>\n<polygon fill=\"black\" stroke=\"black\" points=\"8345,-554.36 8341.5,-544.36 8338,-554.36 8345,-554.36\"/>\n</g>\n<!-- 127 -->\n<g id=\"node128\" class=\"node\">\n<title>127</title>\n<path fill=\"#e2e539\" stroke=\"black\" d=\"M8670,-536.5C8670,-536.5 8479,-536.5 8479,-536.5 8473,-536.5 8467,-530.5 8467,-524.5 8467,-524.5 8467,-480.5 8467,-480.5 8467,-474.5 8473,-468.5 8479,-468.5 8479,-468.5 8670,-468.5 8670,-468.5 8676,-468.5 8682,-474.5 8682,-480.5 8682,-480.5 8682,-524.5 8682,-524.5 8682,-530.5 8676,-536.5 8670,-536.5\"/>\n<text text-anchor=\"middle\" x=\"8574.5\" y=\"-521.3\" font-family=\"Helvetica,sans-Serif\" font-size=\"14.00\">gini = 0.0</text>\n<text text-anchor=\"middle\" x=\"8574.5\" y=\"-506.3\" font-family=\"Helvetica,sans-Serif\" font-size=\"14.00\">samples = 5</text>\n<text text-anchor=\"middle\" x=\"8574.5\" y=\"-491.3\" font-family=\"Helvetica,sans-Serif\" font-size=\"14.00\">value = [0, 5, 0, 0, 0, 0, 0, 0, 0, 0]</text>\n<text text-anchor=\"middle\" x=\"8574.5\" y=\"-476.3\" font-family=\"Helvetica,sans-Serif\" font-size=\"14.00\">class = 1</text>\n</g>\n<!-- 119&#45;&gt;127 -->\n<g id=\"edge127\" class=\"edge\">\n<title>119&#45;&gt;127</title>\n<path fill=\"none\" stroke=\"black\" d=\"M8417.47,-587.41C8445.15,-572.62 8476.32,-555.96 8503.55,-541.41\"/>\n<polygon fill=\"black\" stroke=\"black\" points=\"8505.45,-544.36 8512.62,-536.56 8502.15,-538.19 8505.45,-544.36\"/>\n</g>\n<!-- 121 -->\n<g id=\"node122\" class=\"node\">\n<title>121</title>\n<path fill=\"#e53958\" stroke=\"black\" d=\"M8437,-417.5C8437,-417.5 8246,-417.5 8246,-417.5 8240,-417.5 8234,-411.5 8234,-405.5 8234,-405.5 8234,-361.5 8234,-361.5 8234,-355.5 8240,-349.5 8246,-349.5 8246,-349.5 8437,-349.5 8437,-349.5 8443,-349.5 8449,-355.5 8449,-361.5 8449,-361.5 8449,-405.5 8449,-405.5 8449,-411.5 8443,-417.5 8437,-417.5\"/>\n<text text-anchor=\"middle\" x=\"8341.5\" y=\"-402.3\" font-family=\"Helvetica,sans-Serif\" font-size=\"14.00\">gini = 0.0</text>\n<text text-anchor=\"middle\" x=\"8341.5\" y=\"-387.3\" font-family=\"Helvetica,sans-Serif\" font-size=\"14.00\">samples = 3</text>\n<text text-anchor=\"middle\" x=\"8341.5\" y=\"-372.3\" font-family=\"Helvetica,sans-Serif\" font-size=\"14.00\">value = [0, 0, 0, 0, 0, 0, 0, 0, 0, 3]</text>\n<text text-anchor=\"middle\" x=\"8341.5\" y=\"-357.3\" font-family=\"Helvetica,sans-Serif\" font-size=\"14.00\">class = 9</text>\n</g>\n<!-- 120&#45;&gt;121 -->\n<g id=\"edge121\" class=\"edge\">\n<title>120&#45;&gt;121</title>\n<path fill=\"none\" stroke=\"black\" d=\"M8341.5,-460.91C8341.5,-450.2 8341.5,-438.62 8341.5,-427.78\"/>\n<polygon fill=\"black\" stroke=\"black\" points=\"8345,-427.67 8341.5,-417.67 8338,-427.67 8345,-427.67\"/>\n</g>\n<!-- 122 -->\n<g id=\"node123\" class=\"node\">\n<title>122</title>\n<path fill=\"#ffffff\" stroke=\"black\" d=\"M8670,-425C8670,-425 8479,-425 8479,-425 8473,-425 8467,-419 8467,-413 8467,-413 8467,-354 8467,-354 8467,-348 8473,-342 8479,-342 8479,-342 8670,-342 8670,-342 8676,-342 8682,-348 8682,-354 8682,-354 8682,-413 8682,-413 8682,-419 8676,-425 8670,-425\"/>\n<text text-anchor=\"middle\" x=\"8574.5\" y=\"-409.8\" font-family=\"Helvetica,sans-Serif\" font-size=\"14.00\">pix3 &lt;= 12.0</text>\n<text text-anchor=\"middle\" x=\"8574.5\" y=\"-394.8\" font-family=\"Helvetica,sans-Serif\" font-size=\"14.00\">gini = 0.64</text>\n<text text-anchor=\"middle\" x=\"8574.5\" y=\"-379.8\" font-family=\"Helvetica,sans-Serif\" font-size=\"14.00\">samples = 5</text>\n<text text-anchor=\"middle\" x=\"8574.5\" y=\"-364.8\" font-family=\"Helvetica,sans-Serif\" font-size=\"14.00\">value = [0, 0, 1, 2, 0, 0, 0, 0, 2, 0]</text>\n<text text-anchor=\"middle\" x=\"8574.5\" y=\"-349.8\" font-family=\"Helvetica,sans-Serif\" font-size=\"14.00\">class = 3</text>\n</g>\n<!-- 120&#45;&gt;122 -->\n<g id=\"edge122\" class=\"edge\">\n<title>120&#45;&gt;122</title>\n<path fill=\"none\" stroke=\"black\" d=\"M8422.34,-460.91C8442.49,-450.79 8464.22,-439.88 8484.77,-429.56\"/>\n<polygon fill=\"black\" stroke=\"black\" points=\"8486.44,-432.64 8493.8,-425.02 8483.3,-426.38 8486.44,-432.64\"/>\n</g>\n<!-- 123 -->\n<g id=\"node124\" class=\"node\">\n<title>123</title>\n<path fill=\"#e539c0\" stroke=\"black\" d=\"M8670,-298.5C8670,-298.5 8479,-298.5 8479,-298.5 8473,-298.5 8467,-292.5 8467,-286.5 8467,-286.5 8467,-242.5 8467,-242.5 8467,-236.5 8473,-230.5 8479,-230.5 8479,-230.5 8670,-230.5 8670,-230.5 8676,-230.5 8682,-236.5 8682,-242.5 8682,-242.5 8682,-286.5 8682,-286.5 8682,-292.5 8676,-298.5 8670,-298.5\"/>\n<text text-anchor=\"middle\" x=\"8574.5\" y=\"-283.3\" font-family=\"Helvetica,sans-Serif\" font-size=\"14.00\">gini = 0.0</text>\n<text text-anchor=\"middle\" x=\"8574.5\" y=\"-268.3\" font-family=\"Helvetica,sans-Serif\" font-size=\"14.00\">samples = 2</text>\n<text text-anchor=\"middle\" x=\"8574.5\" y=\"-253.3\" font-family=\"Helvetica,sans-Serif\" font-size=\"14.00\">value = [0, 0, 0, 0, 0, 0, 0, 0, 2, 0]</text>\n<text text-anchor=\"middle\" x=\"8574.5\" y=\"-238.3\" font-family=\"Helvetica,sans-Serif\" font-size=\"14.00\">class = 8</text>\n</g>\n<!-- 122&#45;&gt;123 -->\n<g id=\"edge123\" class=\"edge\">\n<title>122&#45;&gt;123</title>\n<path fill=\"none\" stroke=\"black\" d=\"M8574.5,-341.91C8574.5,-331.2 8574.5,-319.62 8574.5,-308.78\"/>\n<polygon fill=\"black\" stroke=\"black\" points=\"8578,-308.67 8574.5,-298.67 8571,-308.67 8578,-308.67\"/>\n</g>\n<!-- 124 -->\n<g id=\"node125\" class=\"node\">\n<title>124</title>\n<path fill=\"#9cf2ae\" stroke=\"black\" d=\"M8903,-306C8903,-306 8712,-306 8712,-306 8706,-306 8700,-300 8700,-294 8700,-294 8700,-235 8700,-235 8700,-229 8706,-223 8712,-223 8712,-223 8903,-223 8903,-223 8909,-223 8915,-229 8915,-235 8915,-235 8915,-294 8915,-294 8915,-300 8909,-306 8903,-306\"/>\n<text text-anchor=\"middle\" x=\"8807.5\" y=\"-290.8\" font-family=\"Helvetica,sans-Serif\" font-size=\"14.00\">pix60 &lt;= 6.0</text>\n<text text-anchor=\"middle\" x=\"8807.5\" y=\"-275.8\" font-family=\"Helvetica,sans-Serif\" font-size=\"14.00\">gini = 0.444</text>\n<text text-anchor=\"middle\" x=\"8807.5\" y=\"-260.8\" font-family=\"Helvetica,sans-Serif\" font-size=\"14.00\">samples = 3</text>\n<text text-anchor=\"middle\" x=\"8807.5\" y=\"-245.8\" font-family=\"Helvetica,sans-Serif\" font-size=\"14.00\">value = [0, 0, 1, 2, 0, 0, 0, 0, 0, 0]</text>\n<text text-anchor=\"middle\" x=\"8807.5\" y=\"-230.8\" font-family=\"Helvetica,sans-Serif\" font-size=\"14.00\">class = 3</text>\n</g>\n<!-- 122&#45;&gt;124 -->\n<g id=\"edge124\" class=\"edge\">\n<title>122&#45;&gt;124</title>\n<path fill=\"none\" stroke=\"black\" d=\"M8655.34,-341.91C8675.49,-331.79 8697.22,-320.88 8717.77,-310.56\"/>\n<polygon fill=\"black\" stroke=\"black\" points=\"8719.44,-313.64 8726.8,-306.02 8716.3,-307.38 8719.44,-313.64\"/>\n</g>\n<!-- 125 -->\n<g id=\"node126\" class=\"node\">\n<title>125</title>\n<path fill=\"#39e55e\" stroke=\"black\" d=\"M8786,-179.5C8786,-179.5 8595,-179.5 8595,-179.5 8589,-179.5 8583,-173.5 8583,-167.5 8583,-167.5 8583,-123.5 8583,-123.5 8583,-117.5 8589,-111.5 8595,-111.5 8595,-111.5 8786,-111.5 8786,-111.5 8792,-111.5 8798,-117.5 8798,-123.5 8798,-123.5 8798,-167.5 8798,-167.5 8798,-173.5 8792,-179.5 8786,-179.5\"/>\n<text text-anchor=\"middle\" x=\"8690.5\" y=\"-164.3\" font-family=\"Helvetica,sans-Serif\" font-size=\"14.00\">gini = 0.0</text>\n<text text-anchor=\"middle\" x=\"8690.5\" y=\"-149.3\" font-family=\"Helvetica,sans-Serif\" font-size=\"14.00\">samples = 2</text>\n<text text-anchor=\"middle\" x=\"8690.5\" y=\"-134.3\" font-family=\"Helvetica,sans-Serif\" font-size=\"14.00\">value = [0, 0, 0, 2, 0, 0, 0, 0, 0, 0]</text>\n<text text-anchor=\"middle\" x=\"8690.5\" y=\"-119.3\" font-family=\"Helvetica,sans-Serif\" font-size=\"14.00\">class = 3</text>\n</g>\n<!-- 124&#45;&gt;125 -->\n<g id=\"edge125\" class=\"edge\">\n<title>124&#45;&gt;125</title>\n<path fill=\"none\" stroke=\"black\" d=\"M8766.91,-222.91C8755.21,-211.21 8742.46,-198.46 8730.78,-186.78\"/>\n<polygon fill=\"black\" stroke=\"black\" points=\"8733.21,-184.26 8723.67,-179.67 8728.26,-189.21 8733.21,-184.26\"/>\n</g>\n<!-- 126 -->\n<g id=\"node127\" class=\"node\">\n<title>126</title>\n<path fill=\"#7be539\" stroke=\"black\" d=\"M9019,-179.5C9019,-179.5 8828,-179.5 8828,-179.5 8822,-179.5 8816,-173.5 8816,-167.5 8816,-167.5 8816,-123.5 8816,-123.5 8816,-117.5 8822,-111.5 8828,-111.5 8828,-111.5 9019,-111.5 9019,-111.5 9025,-111.5 9031,-117.5 9031,-123.5 9031,-123.5 9031,-167.5 9031,-167.5 9031,-173.5 9025,-179.5 9019,-179.5\"/>\n<text text-anchor=\"middle\" x=\"8923.5\" y=\"-164.3\" font-family=\"Helvetica,sans-Serif\" font-size=\"14.00\">gini = 0.0</text>\n<text text-anchor=\"middle\" x=\"8923.5\" y=\"-149.3\" font-family=\"Helvetica,sans-Serif\" font-size=\"14.00\">samples = 1</text>\n<text text-anchor=\"middle\" x=\"8923.5\" y=\"-134.3\" font-family=\"Helvetica,sans-Serif\" font-size=\"14.00\">value = [0, 0, 1, 0, 0, 0, 0, 0, 0, 0]</text>\n<text text-anchor=\"middle\" x=\"8923.5\" y=\"-119.3\" font-family=\"Helvetica,sans-Serif\" font-size=\"14.00\">class = 2</text>\n</g>\n<!-- 124&#45;&gt;126 -->\n<g id=\"edge126\" class=\"edge\">\n<title>124&#45;&gt;126</title>\n<path fill=\"none\" stroke=\"black\" d=\"M8847.75,-222.91C8859.34,-211.21 8871.99,-198.46 8883.56,-186.78\"/>\n<polygon fill=\"black\" stroke=\"black\" points=\"8886.06,-189.23 8890.62,-179.67 8881.09,-184.3 8886.06,-189.23\"/>\n</g>\n<!-- 129 -->\n<g id=\"node130\" class=\"node\">\n<title>129</title>\n<path fill=\"#defbe4\" stroke=\"black\" d=\"M10906,-804.5C10906,-804.5 10685,-804.5 10685,-804.5 10679,-804.5 10673,-798.5 10673,-792.5 10673,-792.5 10673,-733.5 10673,-733.5 10673,-727.5 10679,-721.5 10685,-721.5 10685,-721.5 10906,-721.5 10906,-721.5 10912,-721.5 10918,-727.5 10918,-733.5 10918,-733.5 10918,-792.5 10918,-792.5 10918,-798.5 10912,-804.5 10906,-804.5\"/>\n<text text-anchor=\"middle\" x=\"10795.5\" y=\"-789.3\" font-family=\"Helvetica,sans-Serif\" font-size=\"14.00\">pix26 &lt;= 4.5</text>\n<text text-anchor=\"middle\" x=\"10795.5\" y=\"-774.3\" font-family=\"Helvetica,sans-Serif\" font-size=\"14.00\">gini = 0.675</text>\n<text text-anchor=\"middle\" x=\"10795.5\" y=\"-759.3\" font-family=\"Helvetica,sans-Serif\" font-size=\"14.00\">samples = 216</text>\n<text text-anchor=\"middle\" x=\"10795.5\" y=\"-744.3\" font-family=\"Helvetica,sans-Serif\" font-size=\"14.00\">value = [0, 13, 5, 97, 7, 7, 1, 1, 12, 73]</text>\n<text text-anchor=\"middle\" x=\"10795.5\" y=\"-729.3\" font-family=\"Helvetica,sans-Serif\" font-size=\"14.00\">class = 3</text>\n</g>\n<!-- 128&#45;&gt;129 -->\n<g id=\"edge129\" class=\"edge\">\n<title>128&#45;&gt;129</title>\n<path fill=\"none\" stroke=\"black\" d=\"M10795.5,-847.97C10795.5,-837.25 10795.5,-825.84 10795.5,-814.99\"/>\n<polygon fill=\"black\" stroke=\"black\" points=\"10799,-814.82 10795.5,-804.82 10792,-814.82 10799,-814.82\"/>\n</g>\n<!-- 178 -->\n<g id=\"node179\" class=\"node\">\n<title>178</title>\n<path fill=\"#fdeffa\" stroke=\"black\" d=\"M14437.5,-812C14437.5,-812 14119.5,-812 14119.5,-812 14113.5,-812 14107.5,-806 14107.5,-800 14107.5,-800 14107.5,-726 14107.5,-726 14107.5,-720 14113.5,-714 14119.5,-714 14119.5,-714 14437.5,-714 14437.5,-714 14443.5,-714 14449.5,-720 14449.5,-726 14449.5,-726 14449.5,-800 14449.5,-800 14449.5,-806 14443.5,-812 14437.5,-812\"/>\n<text text-anchor=\"middle\" x=\"14278.5\" y=\"-796.8\" font-family=\"Helvetica,sans-Serif\" font-size=\"14.00\">pix33 &lt;= 4.5</text>\n<text text-anchor=\"middle\" x=\"14278.5\" y=\"-781.8\" font-family=\"Helvetica,sans-Serif\" font-size=\"14.00\">gini = 0.782</text>\n<text text-anchor=\"middle\" x=\"14278.5\" y=\"-766.8\" font-family=\"Helvetica,sans-Serif\" font-size=\"14.00\">samples = 369</text>\n<text text-anchor=\"middle\" x=\"14278.5\" y=\"-751.8\" font-family=\"Helvetica,sans-Serif\" font-size=\"14.00\">value = [4.0, 80.0, 84.0, 12.0, 67.0, 0.0, 3.0, 7.0, 107.0</text>\n<text text-anchor=\"middle\" x=\"14278.5\" y=\"-736.8\" font-family=\"Helvetica,sans-Serif\" font-size=\"14.00\">5.0]</text>\n<text text-anchor=\"middle\" x=\"14278.5\" y=\"-721.8\" font-family=\"Helvetica,sans-Serif\" font-size=\"14.00\">class = 8</text>\n</g>\n<!-- 128&#45;&gt;178 -->\n<g id=\"edge178\" class=\"edge\">\n<title>128&#45;&gt;178</title>\n<path fill=\"none\" stroke=\"black\" d=\"M10970.61,-889.36C11563.97,-866.88 13494.99,-793.69 14097.34,-770.87\"/>\n<polygon fill=\"black\" stroke=\"black\" points=\"14097.56,-774.36 14107.42,-770.48 14097.29,-767.37 14097.56,-774.36\"/>\n</g>\n<!-- 130 -->\n<g id=\"node131\" class=\"node\">\n<title>130</title>\n<path fill=\"#5be979\" stroke=\"black\" d=\"M10428.5,-670.5C10428.5,-670.5 10230.5,-670.5 10230.5,-670.5 10224.5,-670.5 10218.5,-664.5 10218.5,-658.5 10218.5,-658.5 10218.5,-599.5 10218.5,-599.5 10218.5,-593.5 10224.5,-587.5 10230.5,-587.5 10230.5,-587.5 10428.5,-587.5 10428.5,-587.5 10434.5,-587.5 10440.5,-593.5 10440.5,-599.5 10440.5,-599.5 10440.5,-658.5 10440.5,-658.5 10440.5,-664.5 10434.5,-670.5 10428.5,-670.5\"/>\n<text text-anchor=\"middle\" x=\"10329.5\" y=\"-655.3\" font-family=\"Helvetica,sans-Serif\" font-size=\"14.00\">pix29 &lt;= 15.5</text>\n<text text-anchor=\"middle\" x=\"10329.5\" y=\"-640.3\" font-family=\"Helvetica,sans-Serif\" font-size=\"14.00\">gini = 0.288</text>\n<text text-anchor=\"middle\" x=\"10329.5\" y=\"-625.3\" font-family=\"Helvetica,sans-Serif\" font-size=\"14.00\">samples = 106</text>\n<text text-anchor=\"middle\" x=\"10329.5\" y=\"-610.3\" font-family=\"Helvetica,sans-Serif\" font-size=\"14.00\">value = [0, 4, 5, 89, 0, 0, 0, 0, 2, 6]</text>\n<text text-anchor=\"middle\" x=\"10329.5\" y=\"-595.3\" font-family=\"Helvetica,sans-Serif\" font-size=\"14.00\">class = 3</text>\n</g>\n<!-- 129&#45;&gt;130 -->\n<g id=\"edge130\" class=\"edge\">\n<title>129&#45;&gt;130</title>\n<path fill=\"none\" stroke=\"black\" d=\"M10672.76,-727.23C10604.14,-707.79 10518.93,-683.66 10450.57,-664.3\"/>\n<polygon fill=\"black\" stroke=\"black\" points=\"10451.19,-660.83 10440.62,-661.47 10449.28,-667.57 10451.19,-660.83\"/>\n</g>\n<!-- 147 -->\n<g id=\"node148\" class=\"node\">\n<title>147</title>\n<path fill=\"#f08ea0\" stroke=\"black\" d=\"M11304.5,-670.5C11304.5,-670.5 10986.5,-670.5 10986.5,-670.5 10980.5,-670.5 10974.5,-664.5 10974.5,-658.5 10974.5,-658.5 10974.5,-599.5 10974.5,-599.5 10974.5,-593.5 10980.5,-587.5 10986.5,-587.5 10986.5,-587.5 11304.5,-587.5 11304.5,-587.5 11310.5,-587.5 11316.5,-593.5 11316.5,-599.5 11316.5,-599.5 11316.5,-658.5 11316.5,-658.5 11316.5,-664.5 11310.5,-670.5 11304.5,-670.5\"/>\n<text text-anchor=\"middle\" x=\"11145.5\" y=\"-655.3\" font-family=\"Helvetica,sans-Serif\" font-size=\"14.00\">pix21 &lt;= 10.5</text>\n<text text-anchor=\"middle\" x=\"11145.5\" y=\"-640.3\" font-family=\"Helvetica,sans-Serif\" font-size=\"14.00\">gini = 0.6</text>\n<text text-anchor=\"middle\" x=\"11145.5\" y=\"-625.3\" font-family=\"Helvetica,sans-Serif\" font-size=\"14.00\">samples = 110</text>\n<text text-anchor=\"middle\" x=\"11145.5\" y=\"-610.3\" font-family=\"Helvetica,sans-Serif\" font-size=\"14.00\">value = [0.0, 9.0, 0.0, 8.0, 7.0, 7.0, 1.0, 1.0, 10.0, 67.0]</text>\n<text text-anchor=\"middle\" x=\"11145.5\" y=\"-595.3\" font-family=\"Helvetica,sans-Serif\" font-size=\"14.00\">class = 9</text>\n</g>\n<!-- 129&#45;&gt;147 -->\n<g id=\"edge147\" class=\"edge\">\n<title>129&#45;&gt;147</title>\n<path fill=\"none\" stroke=\"black\" d=\"M10902.89,-721.5C10942.69,-706.49 10988.01,-689.4 11028.61,-674.08\"/>\n<polygon fill=\"black\" stroke=\"black\" points=\"11029.89,-677.34 11038.01,-670.54 11027.42,-670.79 11029.89,-677.34\"/>\n</g>\n<!-- 131 -->\n<g id=\"node132\" class=\"node\">\n<title>131</title>\n<path fill=\"#46e768\" stroke=\"black\" d=\"M9731.5,-544C9731.5,-544 9533.5,-544 9533.5,-544 9527.5,-544 9521.5,-538 9521.5,-532 9521.5,-532 9521.5,-473 9521.5,-473 9521.5,-467 9527.5,-461 9533.5,-461 9533.5,-461 9731.5,-461 9731.5,-461 9737.5,-461 9743.5,-467 9743.5,-473 9743.5,-473 9743.5,-532 9743.5,-532 9743.5,-538 9737.5,-544 9731.5,-544\"/>\n<text text-anchor=\"middle\" x=\"9632.5\" y=\"-528.8\" font-family=\"Helvetica,sans-Serif\" font-size=\"14.00\">pix62 &lt;= 7.5</text>\n<text text-anchor=\"middle\" x=\"9632.5\" y=\"-513.8\" font-family=\"Helvetica,sans-Serif\" font-size=\"14.00\">gini = 0.122</text>\n<text text-anchor=\"middle\" x=\"9632.5\" y=\"-498.8\" font-family=\"Helvetica,sans-Serif\" font-size=\"14.00\">samples = 94</text>\n<text text-anchor=\"middle\" x=\"9632.5\" y=\"-483.8\" font-family=\"Helvetica,sans-Serif\" font-size=\"14.00\">value = [0, 2, 2, 88, 0, 0, 0, 0, 2, 0]</text>\n<text text-anchor=\"middle\" x=\"9632.5\" y=\"-468.8\" font-family=\"Helvetica,sans-Serif\" font-size=\"14.00\">class = 3</text>\n</g>\n<!-- 130&#45;&gt;131 -->\n<g id=\"edge131\" class=\"edge\">\n<title>130&#45;&gt;131</title>\n<path fill=\"none\" stroke=\"black\" d=\"M10218.29,-608.13C10091.4,-585.47 9884.58,-548.53 9753.68,-525.15\"/>\n<polygon fill=\"black\" stroke=\"black\" points=\"9754.06,-521.66 9743.6,-523.35 9752.83,-528.55 9754.06,-521.66\"/>\n</g>\n<!-- 140 -->\n<g id=\"node141\" class=\"node\">\n<title>140</title>\n<path fill=\"#f6bdc7\" stroke=\"black\" d=\"M10425,-544C10425,-544 10234,-544 10234,-544 10228,-544 10222,-538 10222,-532 10222,-532 10222,-473 10222,-473 10222,-467 10228,-461 10234,-461 10234,-461 10425,-461 10425,-461 10431,-461 10437,-467 10437,-473 10437,-473 10437,-532 10437,-532 10437,-538 10431,-544 10425,-544\"/>\n<text text-anchor=\"middle\" x=\"10329.5\" y=\"-528.8\" font-family=\"Helvetica,sans-Serif\" font-size=\"14.00\">pix46 &lt;= 2.0</text>\n<text text-anchor=\"middle\" x=\"10329.5\" y=\"-513.8\" font-family=\"Helvetica,sans-Serif\" font-size=\"14.00\">gini = 0.653</text>\n<text text-anchor=\"middle\" x=\"10329.5\" y=\"-498.8\" font-family=\"Helvetica,sans-Serif\" font-size=\"14.00\">samples = 12</text>\n<text text-anchor=\"middle\" x=\"10329.5\" y=\"-483.8\" font-family=\"Helvetica,sans-Serif\" font-size=\"14.00\">value = [0, 2, 3, 1, 0, 0, 0, 0, 0, 6]</text>\n<text text-anchor=\"middle\" x=\"10329.5\" y=\"-468.8\" font-family=\"Helvetica,sans-Serif\" font-size=\"14.00\">class = 9</text>\n</g>\n<!-- 130&#45;&gt;140 -->\n<g id=\"edge140\" class=\"edge\">\n<title>130&#45;&gt;140</title>\n<path fill=\"none\" stroke=\"black\" d=\"M10329.5,-587.23C10329.5,-576.81 10329.5,-565.47 10329.5,-554.59\"/>\n<polygon fill=\"black\" stroke=\"black\" points=\"10333,-554.36 10329.5,-544.36 10326,-554.36 10333,-554.36\"/>\n</g>\n<!-- 132 -->\n<g id=\"node133\" class=\"node\">\n<title>132</title>\n<path fill=\"#3be560\" stroke=\"black\" d=\"M9380.5,-425C9380.5,-425 9182.5,-425 9182.5,-425 9176.5,-425 9170.5,-419 9170.5,-413 9170.5,-413 9170.5,-354 9170.5,-354 9170.5,-348 9176.5,-342 9182.5,-342 9182.5,-342 9380.5,-342 9380.5,-342 9386.5,-342 9392.5,-348 9392.5,-354 9392.5,-354 9392.5,-413 9392.5,-413 9392.5,-419 9386.5,-425 9380.5,-425\"/>\n<text text-anchor=\"middle\" x=\"9281.5\" y=\"-409.8\" font-family=\"Helvetica,sans-Serif\" font-size=\"14.00\">pix34 &lt;= 10.0</text>\n<text text-anchor=\"middle\" x=\"9281.5\" y=\"-394.8\" font-family=\"Helvetica,sans-Serif\" font-size=\"14.00\">gini = 0.022</text>\n<text text-anchor=\"middle\" x=\"9281.5\" y=\"-379.8\" font-family=\"Helvetica,sans-Serif\" font-size=\"14.00\">samples = 89</text>\n<text text-anchor=\"middle\" x=\"9281.5\" y=\"-364.8\" font-family=\"Helvetica,sans-Serif\" font-size=\"14.00\">value = [0, 0, 0, 88, 0, 0, 0, 0, 1, 0]</text>\n<text text-anchor=\"middle\" x=\"9281.5\" y=\"-349.8\" font-family=\"Helvetica,sans-Serif\" font-size=\"14.00\">class = 3</text>\n</g>\n<!-- 131&#45;&gt;132 -->\n<g id=\"edge132\" class=\"edge\">\n<title>131&#45;&gt;132</title>\n<path fill=\"none\" stroke=\"black\" d=\"M9521.44,-464.48C9483.58,-451.86 9441.07,-437.69 9402.46,-424.82\"/>\n<polygon fill=\"black\" stroke=\"black\" points=\"9403.33,-421.42 9392.74,-421.58 9401.12,-428.06 9403.33,-421.42\"/>\n</g>\n<!-- 135 -->\n<g id=\"node136\" class=\"node\">\n<title>135</title>\n<path fill=\"#ffffff\" stroke=\"black\" d=\"M9728,-425C9728,-425 9537,-425 9537,-425 9531,-425 9525,-419 9525,-413 9525,-413 9525,-354 9525,-354 9525,-348 9531,-342 9537,-342 9537,-342 9728,-342 9728,-342 9734,-342 9740,-348 9740,-354 9740,-354 9740,-413 9740,-413 9740,-419 9734,-425 9728,-425\"/>\n<text text-anchor=\"middle\" x=\"9632.5\" y=\"-409.8\" font-family=\"Helvetica,sans-Serif\" font-size=\"14.00\">pix19 &lt;= 8.5</text>\n<text text-anchor=\"middle\" x=\"9632.5\" y=\"-394.8\" font-family=\"Helvetica,sans-Serif\" font-size=\"14.00\">gini = 0.64</text>\n<text text-anchor=\"middle\" x=\"9632.5\" y=\"-379.8\" font-family=\"Helvetica,sans-Serif\" font-size=\"14.00\">samples = 5</text>\n<text text-anchor=\"middle\" x=\"9632.5\" y=\"-364.8\" font-family=\"Helvetica,sans-Serif\" font-size=\"14.00\">value = [0, 2, 2, 0, 0, 0, 0, 0, 1, 0]</text>\n<text text-anchor=\"middle\" x=\"9632.5\" y=\"-349.8\" font-family=\"Helvetica,sans-Serif\" font-size=\"14.00\">class = 1</text>\n</g>\n<!-- 131&#45;&gt;135 -->\n<g id=\"edge135\" class=\"edge\">\n<title>131&#45;&gt;135</title>\n<path fill=\"none\" stroke=\"black\" d=\"M9632.5,-460.91C9632.5,-452.65 9632.5,-443.86 9632.5,-435.3\"/>\n<polygon fill=\"black\" stroke=\"black\" points=\"9636,-435.02 9632.5,-425.02 9629,-435.02 9636,-435.02\"/>\n</g>\n<!-- 133 -->\n<g id=\"node134\" class=\"node\">\n<title>133</title>\n<path fill=\"#39e55e\" stroke=\"black\" d=\"M9143.5,-298.5C9143.5,-298.5 8945.5,-298.5 8945.5,-298.5 8939.5,-298.5 8933.5,-292.5 8933.5,-286.5 8933.5,-286.5 8933.5,-242.5 8933.5,-242.5 8933.5,-236.5 8939.5,-230.5 8945.5,-230.5 8945.5,-230.5 9143.5,-230.5 9143.5,-230.5 9149.5,-230.5 9155.5,-236.5 9155.5,-242.5 9155.5,-242.5 9155.5,-286.5 9155.5,-286.5 9155.5,-292.5 9149.5,-298.5 9143.5,-298.5\"/>\n<text text-anchor=\"middle\" x=\"9044.5\" y=\"-283.3\" font-family=\"Helvetica,sans-Serif\" font-size=\"14.00\">gini = 0.0</text>\n<text text-anchor=\"middle\" x=\"9044.5\" y=\"-268.3\" font-family=\"Helvetica,sans-Serif\" font-size=\"14.00\">samples = 88</text>\n<text text-anchor=\"middle\" x=\"9044.5\" y=\"-253.3\" font-family=\"Helvetica,sans-Serif\" font-size=\"14.00\">value = [0, 0, 0, 88, 0, 0, 0, 0, 0, 0]</text>\n<text text-anchor=\"middle\" x=\"9044.5\" y=\"-238.3\" font-family=\"Helvetica,sans-Serif\" font-size=\"14.00\">class = 3</text>\n</g>\n<!-- 132&#45;&gt;133 -->\n<g id=\"edge133\" class=\"edge\">\n<title>132&#45;&gt;133</title>\n<path fill=\"none\" stroke=\"black\" d=\"M9199.27,-341.91C9173.79,-329.33 9145.84,-315.53 9120.78,-303.16\"/>\n<polygon fill=\"black\" stroke=\"black\" points=\"9122.2,-299.96 9111.68,-298.67 9119.1,-306.23 9122.2,-299.96\"/>\n</g>\n<!-- 134 -->\n<g id=\"node135\" class=\"node\">\n<title>134</title>\n<path fill=\"#e539c0\" stroke=\"black\" d=\"M9377,-298.5C9377,-298.5 9186,-298.5 9186,-298.5 9180,-298.5 9174,-292.5 9174,-286.5 9174,-286.5 9174,-242.5 9174,-242.5 9174,-236.5 9180,-230.5 9186,-230.5 9186,-230.5 9377,-230.5 9377,-230.5 9383,-230.5 9389,-236.5 9389,-242.5 9389,-242.5 9389,-286.5 9389,-286.5 9389,-292.5 9383,-298.5 9377,-298.5\"/>\n<text text-anchor=\"middle\" x=\"9281.5\" y=\"-283.3\" font-family=\"Helvetica,sans-Serif\" font-size=\"14.00\">gini = 0.0</text>\n<text text-anchor=\"middle\" x=\"9281.5\" y=\"-268.3\" font-family=\"Helvetica,sans-Serif\" font-size=\"14.00\">samples = 1</text>\n<text text-anchor=\"middle\" x=\"9281.5\" y=\"-253.3\" font-family=\"Helvetica,sans-Serif\" font-size=\"14.00\">value = [0, 0, 0, 0, 0, 0, 0, 0, 1, 0]</text>\n<text text-anchor=\"middle\" x=\"9281.5\" y=\"-238.3\" font-family=\"Helvetica,sans-Serif\" font-size=\"14.00\">class = 8</text>\n</g>\n<!-- 132&#45;&gt;134 -->\n<g id=\"edge134\" class=\"edge\">\n<title>132&#45;&gt;134</title>\n<path fill=\"none\" stroke=\"black\" d=\"M9281.5,-341.91C9281.5,-331.2 9281.5,-319.62 9281.5,-308.78\"/>\n<polygon fill=\"black\" stroke=\"black\" points=\"9285,-308.67 9281.5,-298.67 9278,-308.67 9285,-308.67\"/>\n</g>\n<!-- 136 -->\n<g id=\"node137\" class=\"node\">\n<title>136</title>\n<path fill=\"#7be539\" stroke=\"black\" d=\"M9610,-298.5C9610,-298.5 9419,-298.5 9419,-298.5 9413,-298.5 9407,-292.5 9407,-286.5 9407,-286.5 9407,-242.5 9407,-242.5 9407,-236.5 9413,-230.5 9419,-230.5 9419,-230.5 9610,-230.5 9610,-230.5 9616,-230.5 9622,-236.5 9622,-242.5 9622,-242.5 9622,-286.5 9622,-286.5 9622,-292.5 9616,-298.5 9610,-298.5\"/>\n<text text-anchor=\"middle\" x=\"9514.5\" y=\"-283.3\" font-family=\"Helvetica,sans-Serif\" font-size=\"14.00\">gini = 0.0</text>\n<text text-anchor=\"middle\" x=\"9514.5\" y=\"-268.3\" font-family=\"Helvetica,sans-Serif\" font-size=\"14.00\">samples = 2</text>\n<text text-anchor=\"middle\" x=\"9514.5\" y=\"-253.3\" font-family=\"Helvetica,sans-Serif\" font-size=\"14.00\">value = [0, 0, 2, 0, 0, 0, 0, 0, 0, 0]</text>\n<text text-anchor=\"middle\" x=\"9514.5\" y=\"-238.3\" font-family=\"Helvetica,sans-Serif\" font-size=\"14.00\">class = 2</text>\n</g>\n<!-- 135&#45;&gt;136 -->\n<g id=\"edge136\" class=\"edge\">\n<title>135&#45;&gt;136</title>\n<path fill=\"none\" stroke=\"black\" d=\"M9591.56,-341.91C9579.76,-330.21 9566.9,-317.46 9555.12,-305.78\"/>\n<polygon fill=\"black\" stroke=\"black\" points=\"9557.52,-303.22 9547.95,-298.67 9552.59,-308.19 9557.52,-303.22\"/>\n</g>\n<!-- 137 -->\n<g id=\"node138\" class=\"node\">\n<title>137</title>\n<path fill=\"#f0f29c\" stroke=\"black\" d=\"M9843,-306C9843,-306 9652,-306 9652,-306 9646,-306 9640,-300 9640,-294 9640,-294 9640,-235 9640,-235 9640,-229 9646,-223 9652,-223 9652,-223 9843,-223 9843,-223 9849,-223 9855,-229 9855,-235 9855,-235 9855,-294 9855,-294 9855,-300 9849,-306 9843,-306\"/>\n<text text-anchor=\"middle\" x=\"9747.5\" y=\"-290.8\" font-family=\"Helvetica,sans-Serif\" font-size=\"14.00\">pix5 &lt;= 7.5</text>\n<text text-anchor=\"middle\" x=\"9747.5\" y=\"-275.8\" font-family=\"Helvetica,sans-Serif\" font-size=\"14.00\">gini = 0.444</text>\n<text text-anchor=\"middle\" x=\"9747.5\" y=\"-260.8\" font-family=\"Helvetica,sans-Serif\" font-size=\"14.00\">samples = 3</text>\n<text text-anchor=\"middle\" x=\"9747.5\" y=\"-245.8\" font-family=\"Helvetica,sans-Serif\" font-size=\"14.00\">value = [0, 2, 0, 0, 0, 0, 0, 0, 1, 0]</text>\n<text text-anchor=\"middle\" x=\"9747.5\" y=\"-230.8\" font-family=\"Helvetica,sans-Serif\" font-size=\"14.00\">class = 1</text>\n</g>\n<!-- 135&#45;&gt;137 -->\n<g id=\"edge137\" class=\"edge\">\n<title>135&#45;&gt;137</title>\n<path fill=\"none\" stroke=\"black\" d=\"M9672.4,-341.91C9681.5,-332.65 9691.25,-322.73 9700.61,-313.21\"/>\n<polygon fill=\"black\" stroke=\"black\" points=\"9703.16,-315.61 9707.67,-306.02 9698.17,-310.7 9703.16,-315.61\"/>\n</g>\n<!-- 138 -->\n<g id=\"node139\" class=\"node\">\n<title>138</title>\n<path fill=\"#e2e539\" stroke=\"black\" d=\"M9727,-179.5C9727,-179.5 9536,-179.5 9536,-179.5 9530,-179.5 9524,-173.5 9524,-167.5 9524,-167.5 9524,-123.5 9524,-123.5 9524,-117.5 9530,-111.5 9536,-111.5 9536,-111.5 9727,-111.5 9727,-111.5 9733,-111.5 9739,-117.5 9739,-123.5 9739,-123.5 9739,-167.5 9739,-167.5 9739,-173.5 9733,-179.5 9727,-179.5\"/>\n<text text-anchor=\"middle\" x=\"9631.5\" y=\"-164.3\" font-family=\"Helvetica,sans-Serif\" font-size=\"14.00\">gini = 0.0</text>\n<text text-anchor=\"middle\" x=\"9631.5\" y=\"-149.3\" font-family=\"Helvetica,sans-Serif\" font-size=\"14.00\">samples = 2</text>\n<text text-anchor=\"middle\" x=\"9631.5\" y=\"-134.3\" font-family=\"Helvetica,sans-Serif\" font-size=\"14.00\">value = [0, 2, 0, 0, 0, 0, 0, 0, 0, 0]</text>\n<text text-anchor=\"middle\" x=\"9631.5\" y=\"-119.3\" font-family=\"Helvetica,sans-Serif\" font-size=\"14.00\">class = 1</text>\n</g>\n<!-- 137&#45;&gt;138 -->\n<g id=\"edge138\" class=\"edge\">\n<title>137&#45;&gt;138</title>\n<path fill=\"none\" stroke=\"black\" d=\"M9707.25,-222.91C9695.66,-211.21 9683.01,-198.46 9671.44,-186.78\"/>\n<polygon fill=\"black\" stroke=\"black\" points=\"9673.91,-184.3 9664.38,-179.67 9668.94,-189.23 9673.91,-184.3\"/>\n</g>\n<!-- 139 -->\n<g id=\"node140\" class=\"node\">\n<title>139</title>\n<path fill=\"#e539c0\" stroke=\"black\" d=\"M9960,-179.5C9960,-179.5 9769,-179.5 9769,-179.5 9763,-179.5 9757,-173.5 9757,-167.5 9757,-167.5 9757,-123.5 9757,-123.5 9757,-117.5 9763,-111.5 9769,-111.5 9769,-111.5 9960,-111.5 9960,-111.5 9966,-111.5 9972,-117.5 9972,-123.5 9972,-123.5 9972,-167.5 9972,-167.5 9972,-173.5 9966,-179.5 9960,-179.5\"/>\n<text text-anchor=\"middle\" x=\"9864.5\" y=\"-164.3\" font-family=\"Helvetica,sans-Serif\" font-size=\"14.00\">gini = 0.0</text>\n<text text-anchor=\"middle\" x=\"9864.5\" y=\"-149.3\" font-family=\"Helvetica,sans-Serif\" font-size=\"14.00\">samples = 1</text>\n<text text-anchor=\"middle\" x=\"9864.5\" y=\"-134.3\" font-family=\"Helvetica,sans-Serif\" font-size=\"14.00\">value = [0, 0, 0, 0, 0, 0, 0, 0, 1, 0]</text>\n<text text-anchor=\"middle\" x=\"9864.5\" y=\"-119.3\" font-family=\"Helvetica,sans-Serif\" font-size=\"14.00\">class = 8</text>\n</g>\n<!-- 137&#45;&gt;139 -->\n<g id=\"edge139\" class=\"edge\">\n<title>137&#45;&gt;139</title>\n<path fill=\"none\" stroke=\"black\" d=\"M9788.09,-222.91C9799.79,-211.21 9812.54,-198.46 9824.22,-186.78\"/>\n<polygon fill=\"black\" stroke=\"black\" points=\"9826.74,-189.21 9831.33,-179.67 9821.79,-184.26 9826.74,-189.21\"/>\n</g>\n<!-- 141 -->\n<g id=\"node142\" class=\"node\">\n<title>141</title>\n<path fill=\"#d3f6bd\" stroke=\"black\" d=\"M10309,-425C10309,-425 10118,-425 10118,-425 10112,-425 10106,-419 10106,-413 10106,-413 10106,-354 10106,-354 10106,-348 10112,-342 10118,-342 10118,-342 10309,-342 10309,-342 10315,-342 10321,-348 10321,-354 10321,-354 10321,-413 10321,-413 10321,-419 10315,-425 10309,-425\"/>\n<text text-anchor=\"middle\" x=\"10213.5\" y=\"-409.8\" font-family=\"Helvetica,sans-Serif\" font-size=\"14.00\">pix17 &lt;= 2.0</text>\n<text text-anchor=\"middle\" x=\"10213.5\" y=\"-394.8\" font-family=\"Helvetica,sans-Serif\" font-size=\"14.00\">gini = 0.48</text>\n<text text-anchor=\"middle\" x=\"10213.5\" y=\"-379.8\" font-family=\"Helvetica,sans-Serif\" font-size=\"14.00\">samples = 5</text>\n<text text-anchor=\"middle\" x=\"10213.5\" y=\"-364.8\" font-family=\"Helvetica,sans-Serif\" font-size=\"14.00\">value = [0, 2, 3, 0, 0, 0, 0, 0, 0, 0]</text>\n<text text-anchor=\"middle\" x=\"10213.5\" y=\"-349.8\" font-family=\"Helvetica,sans-Serif\" font-size=\"14.00\">class = 2</text>\n</g>\n<!-- 140&#45;&gt;141 -->\n<g id=\"edge141\" class=\"edge\">\n<title>140&#45;&gt;141</title>\n<path fill=\"none\" stroke=\"black\" d=\"M10289.25,-460.91C10280.08,-451.65 10270.24,-441.73 10260.8,-432.21\"/>\n<polygon fill=\"black\" stroke=\"black\" points=\"10263.2,-429.66 10253.67,-425.02 10258.23,-434.59 10263.2,-429.66\"/>\n</g>\n<!-- 144 -->\n<g id=\"node145\" class=\"node\">\n<title>144</title>\n<path fill=\"#e95a74\" stroke=\"black\" d=\"M10542,-425C10542,-425 10351,-425 10351,-425 10345,-425 10339,-419 10339,-413 10339,-413 10339,-354 10339,-354 10339,-348 10345,-342 10351,-342 10351,-342 10542,-342 10542,-342 10548,-342 10554,-348 10554,-354 10554,-354 10554,-413 10554,-413 10554,-419 10548,-425 10542,-425\"/>\n<text text-anchor=\"middle\" x=\"10446.5\" y=\"-409.8\" font-family=\"Helvetica,sans-Serif\" font-size=\"14.00\">pix18 &lt;= 0.5</text>\n<text text-anchor=\"middle\" x=\"10446.5\" y=\"-394.8\" font-family=\"Helvetica,sans-Serif\" font-size=\"14.00\">gini = 0.245</text>\n<text text-anchor=\"middle\" x=\"10446.5\" y=\"-379.8\" font-family=\"Helvetica,sans-Serif\" font-size=\"14.00\">samples = 7</text>\n<text text-anchor=\"middle\" x=\"10446.5\" y=\"-364.8\" font-family=\"Helvetica,sans-Serif\" font-size=\"14.00\">value = [0, 0, 0, 1, 0, 0, 0, 0, 0, 6]</text>\n<text text-anchor=\"middle\" x=\"10446.5\" y=\"-349.8\" font-family=\"Helvetica,sans-Serif\" font-size=\"14.00\">class = 9</text>\n</g>\n<!-- 140&#45;&gt;144 -->\n<g id=\"edge144\" class=\"edge\">\n<title>140&#45;&gt;144</title>\n<path fill=\"none\" stroke=\"black\" d=\"M10370.09,-460.91C10379.35,-451.65 10389.27,-441.73 10398.79,-432.21\"/>\n<polygon fill=\"black\" stroke=\"black\" points=\"10401.38,-434.57 10405.98,-425.02 10396.43,-429.62 10401.38,-434.57\"/>\n</g>\n<!-- 142 -->\n<g id=\"node143\" class=\"node\">\n<title>142</title>\n<path fill=\"#7be539\" stroke=\"black\" d=\"M10076,-298.5C10076,-298.5 9885,-298.5 9885,-298.5 9879,-298.5 9873,-292.5 9873,-286.5 9873,-286.5 9873,-242.5 9873,-242.5 9873,-236.5 9879,-230.5 9885,-230.5 9885,-230.5 10076,-230.5 10076,-230.5 10082,-230.5 10088,-236.5 10088,-242.5 10088,-242.5 10088,-286.5 10088,-286.5 10088,-292.5 10082,-298.5 10076,-298.5\"/>\n<text text-anchor=\"middle\" x=\"9980.5\" y=\"-283.3\" font-family=\"Helvetica,sans-Serif\" font-size=\"14.00\">gini = 0.0</text>\n<text text-anchor=\"middle\" x=\"9980.5\" y=\"-268.3\" font-family=\"Helvetica,sans-Serif\" font-size=\"14.00\">samples = 3</text>\n<text text-anchor=\"middle\" x=\"9980.5\" y=\"-253.3\" font-family=\"Helvetica,sans-Serif\" font-size=\"14.00\">value = [0, 0, 3, 0, 0, 0, 0, 0, 0, 0]</text>\n<text text-anchor=\"middle\" x=\"9980.5\" y=\"-238.3\" font-family=\"Helvetica,sans-Serif\" font-size=\"14.00\">class = 2</text>\n</g>\n<!-- 141&#45;&gt;142 -->\n<g id=\"edge142\" class=\"edge\">\n<title>141&#45;&gt;142</title>\n<path fill=\"none\" stroke=\"black\" d=\"M10132.66,-341.91C10107.61,-329.33 10080.12,-315.53 10055.49,-303.16\"/>\n<polygon fill=\"black\" stroke=\"black\" points=\"10057.06,-300.03 10046.55,-298.67 10053.92,-306.28 10057.06,-300.03\"/>\n</g>\n<!-- 143 -->\n<g id=\"node144\" class=\"node\">\n<title>143</title>\n<path fill=\"#e2e539\" stroke=\"black\" d=\"M10309,-298.5C10309,-298.5 10118,-298.5 10118,-298.5 10112,-298.5 10106,-292.5 10106,-286.5 10106,-286.5 10106,-242.5 10106,-242.5 10106,-236.5 10112,-230.5 10118,-230.5 10118,-230.5 10309,-230.5 10309,-230.5 10315,-230.5 10321,-236.5 10321,-242.5 10321,-242.5 10321,-286.5 10321,-286.5 10321,-292.5 10315,-298.5 10309,-298.5\"/>\n<text text-anchor=\"middle\" x=\"10213.5\" y=\"-283.3\" font-family=\"Helvetica,sans-Serif\" font-size=\"14.00\">gini = 0.0</text>\n<text text-anchor=\"middle\" x=\"10213.5\" y=\"-268.3\" font-family=\"Helvetica,sans-Serif\" font-size=\"14.00\">samples = 2</text>\n<text text-anchor=\"middle\" x=\"10213.5\" y=\"-253.3\" font-family=\"Helvetica,sans-Serif\" font-size=\"14.00\">value = [0, 2, 0, 0, 0, 0, 0, 0, 0, 0]</text>\n<text text-anchor=\"middle\" x=\"10213.5\" y=\"-238.3\" font-family=\"Helvetica,sans-Serif\" font-size=\"14.00\">class = 1</text>\n</g>\n<!-- 141&#45;&gt;143 -->\n<g id=\"edge143\" class=\"edge\">\n<title>141&#45;&gt;143</title>\n<path fill=\"none\" stroke=\"black\" d=\"M10213.5,-341.91C10213.5,-331.2 10213.5,-319.62 10213.5,-308.78\"/>\n<polygon fill=\"black\" stroke=\"black\" points=\"10217,-308.67 10213.5,-298.67 10210,-308.67 10217,-308.67\"/>\n</g>\n<!-- 145 -->\n<g id=\"node146\" class=\"node\">\n<title>145</title>\n<path fill=\"#39e55e\" stroke=\"black\" d=\"M10542,-298.5C10542,-298.5 10351,-298.5 10351,-298.5 10345,-298.5 10339,-292.5 10339,-286.5 10339,-286.5 10339,-242.5 10339,-242.5 10339,-236.5 10345,-230.5 10351,-230.5 10351,-230.5 10542,-230.5 10542,-230.5 10548,-230.5 10554,-236.5 10554,-242.5 10554,-242.5 10554,-286.5 10554,-286.5 10554,-292.5 10548,-298.5 10542,-298.5\"/>\n<text text-anchor=\"middle\" x=\"10446.5\" y=\"-283.3\" font-family=\"Helvetica,sans-Serif\" font-size=\"14.00\">gini = 0.0</text>\n<text text-anchor=\"middle\" x=\"10446.5\" y=\"-268.3\" font-family=\"Helvetica,sans-Serif\" font-size=\"14.00\">samples = 1</text>\n<text text-anchor=\"middle\" x=\"10446.5\" y=\"-253.3\" font-family=\"Helvetica,sans-Serif\" font-size=\"14.00\">value = [0, 0, 0, 1, 0, 0, 0, 0, 0, 0]</text>\n<text text-anchor=\"middle\" x=\"10446.5\" y=\"-238.3\" font-family=\"Helvetica,sans-Serif\" font-size=\"14.00\">class = 3</text>\n</g>\n<!-- 144&#45;&gt;145 -->\n<g id=\"edge145\" class=\"edge\">\n<title>144&#45;&gt;145</title>\n<path fill=\"none\" stroke=\"black\" d=\"M10446.5,-341.91C10446.5,-331.2 10446.5,-319.62 10446.5,-308.78\"/>\n<polygon fill=\"black\" stroke=\"black\" points=\"10450,-308.67 10446.5,-298.67 10443,-308.67 10450,-308.67\"/>\n</g>\n<!-- 146 -->\n<g id=\"node147\" class=\"node\">\n<title>146</title>\n<path fill=\"#e53958\" stroke=\"black\" d=\"M10775,-298.5C10775,-298.5 10584,-298.5 10584,-298.5 10578,-298.5 10572,-292.5 10572,-286.5 10572,-286.5 10572,-242.5 10572,-242.5 10572,-236.5 10578,-230.5 10584,-230.5 10584,-230.5 10775,-230.5 10775,-230.5 10781,-230.5 10787,-236.5 10787,-242.5 10787,-242.5 10787,-286.5 10787,-286.5 10787,-292.5 10781,-298.5 10775,-298.5\"/>\n<text text-anchor=\"middle\" x=\"10679.5\" y=\"-283.3\" font-family=\"Helvetica,sans-Serif\" font-size=\"14.00\">gini = 0.0</text>\n<text text-anchor=\"middle\" x=\"10679.5\" y=\"-268.3\" font-family=\"Helvetica,sans-Serif\" font-size=\"14.00\">samples = 6</text>\n<text text-anchor=\"middle\" x=\"10679.5\" y=\"-253.3\" font-family=\"Helvetica,sans-Serif\" font-size=\"14.00\">value = [0, 0, 0, 0, 0, 0, 0, 0, 0, 6]</text>\n<text text-anchor=\"middle\" x=\"10679.5\" y=\"-238.3\" font-family=\"Helvetica,sans-Serif\" font-size=\"14.00\">class = 9</text>\n</g>\n<!-- 144&#45;&gt;146 -->\n<g id=\"edge146\" class=\"edge\">\n<title>144&#45;&gt;146</title>\n<path fill=\"none\" stroke=\"black\" d=\"M10527.34,-341.91C10552.39,-329.33 10579.88,-315.53 10604.51,-303.16\"/>\n<polygon fill=\"black\" stroke=\"black\" points=\"10606.08,-306.28 10613.45,-298.67 10602.94,-300.03 10606.08,-306.28\"/>\n</g>\n<!-- 148 -->\n<g id=\"node149\" class=\"node\">\n<title>148</title>\n<path fill=\"#ffffff\" stroke=\"black\" d=\"M11241,-544C11241,-544 11050,-544 11050,-544 11044,-544 11038,-538 11038,-532 11038,-532 11038,-473 11038,-473 11038,-467 11044,-461 11050,-461 11050,-461 11241,-461 11241,-461 11247,-461 11253,-467 11253,-473 11253,-473 11253,-532 11253,-532 11253,-538 11247,-544 11241,-544\"/>\n<text text-anchor=\"middle\" x=\"11145.5\" y=\"-528.8\" font-family=\"Helvetica,sans-Serif\" font-size=\"14.00\">pix22 &lt;= 9.5</text>\n<text text-anchor=\"middle\" x=\"11145.5\" y=\"-513.8\" font-family=\"Helvetica,sans-Serif\" font-size=\"14.00\">gini = 0.8</text>\n<text text-anchor=\"middle\" x=\"11145.5\" y=\"-498.8\" font-family=\"Helvetica,sans-Serif\" font-size=\"14.00\">samples = 30</text>\n<text text-anchor=\"middle\" x=\"11145.5\" y=\"-483.8\" font-family=\"Helvetica,sans-Serif\" font-size=\"14.00\">value = [0, 0, 0, 7, 7, 6, 1, 0, 6, 3]</text>\n<text text-anchor=\"middle\" x=\"11145.5\" y=\"-468.8\" font-family=\"Helvetica,sans-Serif\" font-size=\"14.00\">class = 3</text>\n</g>\n<!-- 147&#45;&gt;148 -->\n<g id=\"edge148\" class=\"edge\">\n<title>147&#45;&gt;148</title>\n<path fill=\"none\" stroke=\"black\" d=\"M11145.5,-587.23C11145.5,-576.81 11145.5,-565.47 11145.5,-554.59\"/>\n<polygon fill=\"black\" stroke=\"black\" points=\"11149,-554.36 11145.5,-544.36 11142,-554.36 11149,-554.36\"/>\n</g>\n<!-- 159 -->\n<g id=\"node160\" class=\"node\">\n<title>159</title>\n<path fill=\"#eb667e\" stroke=\"black\" d=\"M11943.5,-544C11943.5,-544 11745.5,-544 11745.5,-544 11739.5,-544 11733.5,-538 11733.5,-532 11733.5,-532 11733.5,-473 11733.5,-473 11733.5,-467 11739.5,-461 11745.5,-461 11745.5,-461 11943.5,-461 11943.5,-461 11949.5,-461 11955.5,-467 11955.5,-473 11955.5,-473 11955.5,-532 11955.5,-532 11955.5,-538 11949.5,-544 11943.5,-544\"/>\n<text text-anchor=\"middle\" x=\"11844.5\" y=\"-528.8\" font-family=\"Helvetica,sans-Serif\" font-size=\"14.00\">pix30 &lt;= 0.5</text>\n<text text-anchor=\"middle\" x=\"11844.5\" y=\"-513.8\" font-family=\"Helvetica,sans-Serif\" font-size=\"14.00\">gini = 0.344</text>\n<text text-anchor=\"middle\" x=\"11844.5\" y=\"-498.8\" font-family=\"Helvetica,sans-Serif\" font-size=\"14.00\">samples = 80</text>\n<text text-anchor=\"middle\" x=\"11844.5\" y=\"-483.8\" font-family=\"Helvetica,sans-Serif\" font-size=\"14.00\">value = [0, 9, 0, 1, 0, 1, 0, 1, 4, 64]</text>\n<text text-anchor=\"middle\" x=\"11844.5\" y=\"-468.8\" font-family=\"Helvetica,sans-Serif\" font-size=\"14.00\">class = 9</text>\n</g>\n<!-- 147&#45;&gt;159 -->\n<g id=\"edge159\" class=\"edge\">\n<title>147&#45;&gt;159</title>\n<path fill=\"none\" stroke=\"black\" d=\"M11316.94,-597.46C11442.99,-575.01 11611.19,-545.05 11723.45,-525.06\"/>\n<polygon fill=\"black\" stroke=\"black\" points=\"11724.22,-528.48 11733.46,-523.28 11723,-521.59 11724.22,-528.48\"/>\n</g>\n<!-- 149 -->\n<g id=\"node150\" class=\"node\">\n<title>149</title>\n<path fill=\"#f3fdf6\" stroke=\"black\" d=\"M11125,-425C11125,-425 10934,-425 10934,-425 10928,-425 10922,-419 10922,-413 10922,-413 10922,-354 10922,-354 10922,-348 10928,-342 10934,-342 10934,-342 11125,-342 11125,-342 11131,-342 11137,-348 11137,-354 11137,-354 11137,-413 11137,-413 11137,-419 11131,-425 11125,-425\"/>\n<text text-anchor=\"middle\" x=\"11029.5\" y=\"-409.8\" font-family=\"Helvetica,sans-Serif\" font-size=\"14.00\">pix18 &lt;= 14.0</text>\n<text text-anchor=\"middle\" x=\"11029.5\" y=\"-394.8\" font-family=\"Helvetica,sans-Serif\" font-size=\"14.00\">gini = 0.752</text>\n<text text-anchor=\"middle\" x=\"11029.5\" y=\"-379.8\" font-family=\"Helvetica,sans-Serif\" font-size=\"14.00\">samples = 23</text>\n<text text-anchor=\"middle\" x=\"11029.5\" y=\"-364.8\" font-family=\"Helvetica,sans-Serif\" font-size=\"14.00\">value = [0, 0, 0, 7, 0, 6, 1, 0, 6, 3]</text>\n<text text-anchor=\"middle\" x=\"11029.5\" y=\"-349.8\" font-family=\"Helvetica,sans-Serif\" font-size=\"14.00\">class = 3</text>\n</g>\n<!-- 148&#45;&gt;149 -->\n<g id=\"edge149\" class=\"edge\">\n<title>148&#45;&gt;149</title>\n<path fill=\"none\" stroke=\"black\" d=\"M11105.25,-460.91C11096.08,-451.65 11086.24,-441.73 11076.8,-432.21\"/>\n<polygon fill=\"black\" stroke=\"black\" points=\"11079.2,-429.66 11069.67,-425.02 11074.23,-434.59 11079.2,-429.66\"/>\n</g>\n<!-- 158 -->\n<g id=\"node159\" class=\"node\">\n<title>158</title>\n<path fill=\"#39e5c5\" stroke=\"black\" d=\"M11358,-417.5C11358,-417.5 11167,-417.5 11167,-417.5 11161,-417.5 11155,-411.5 11155,-405.5 11155,-405.5 11155,-361.5 11155,-361.5 11155,-355.5 11161,-349.5 11167,-349.5 11167,-349.5 11358,-349.5 11358,-349.5 11364,-349.5 11370,-355.5 11370,-361.5 11370,-361.5 11370,-405.5 11370,-405.5 11370,-411.5 11364,-417.5 11358,-417.5\"/>\n<text text-anchor=\"middle\" x=\"11262.5\" y=\"-402.3\" font-family=\"Helvetica,sans-Serif\" font-size=\"14.00\">gini = 0.0</text>\n<text text-anchor=\"middle\" x=\"11262.5\" y=\"-387.3\" font-family=\"Helvetica,sans-Serif\" font-size=\"14.00\">samples = 7</text>\n<text text-anchor=\"middle\" x=\"11262.5\" y=\"-372.3\" font-family=\"Helvetica,sans-Serif\" font-size=\"14.00\">value = [0, 0, 0, 0, 7, 0, 0, 0, 0, 0]</text>\n<text text-anchor=\"middle\" x=\"11262.5\" y=\"-357.3\" font-family=\"Helvetica,sans-Serif\" font-size=\"14.00\">class = 4</text>\n</g>\n<!-- 148&#45;&gt;158 -->\n<g id=\"edge158\" class=\"edge\">\n<title>148&#45;&gt;158</title>\n<path fill=\"none\" stroke=\"black\" d=\"M11186.09,-460.91C11197.79,-449.21 11210.54,-436.46 11222.22,-424.78\"/>\n<polygon fill=\"black\" stroke=\"black\" points=\"11224.74,-427.21 11229.33,-417.67 11219.79,-422.26 11224.74,-427.21\"/>\n</g>\n<!-- 150 -->\n<g id=\"node151\" class=\"node\">\n<title>150</title>\n<path fill=\"#ebfcef\" stroke=\"black\" d=\"M11008,-306C11008,-306 10817,-306 10817,-306 10811,-306 10805,-300 10805,-294 10805,-294 10805,-235 10805,-235 10805,-229 10811,-223 10817,-223 10817,-223 11008,-223 11008,-223 11014,-223 11020,-229 11020,-235 11020,-235 11020,-294 11020,-294 11020,-300 11014,-306 11008,-306\"/>\n<text text-anchor=\"middle\" x=\"10912.5\" y=\"-290.8\" font-family=\"Helvetica,sans-Serif\" font-size=\"14.00\">pix54 &lt;= 4.0</text>\n<text text-anchor=\"middle\" x=\"10912.5\" y=\"-275.8\" font-family=\"Helvetica,sans-Serif\" font-size=\"14.00\">gini = 0.633</text>\n<text text-anchor=\"middle\" x=\"10912.5\" y=\"-260.8\" font-family=\"Helvetica,sans-Serif\" font-size=\"14.00\">samples = 16</text>\n<text text-anchor=\"middle\" x=\"10912.5\" y=\"-245.8\" font-family=\"Helvetica,sans-Serif\" font-size=\"14.00\">value = [0, 0, 0, 7, 0, 0, 0, 0, 6, 3]</text>\n<text text-anchor=\"middle\" x=\"10912.5\" y=\"-230.8\" font-family=\"Helvetica,sans-Serif\" font-size=\"14.00\">class = 3</text>\n</g>\n<!-- 149&#45;&gt;150 -->\n<g id=\"edge150\" class=\"edge\">\n<title>149&#45;&gt;150</title>\n<path fill=\"none\" stroke=\"black\" d=\"M10988.91,-341.91C10979.65,-332.65 10969.73,-322.73 10960.21,-313.21\"/>\n<polygon fill=\"black\" stroke=\"black\" points=\"10962.57,-310.62 10953.02,-306.02 10957.62,-315.57 10962.57,-310.62\"/>\n</g>\n<!-- 155 -->\n<g id=\"node156\" class=\"node\">\n<title>155</title>\n<path fill=\"#5aade9\" stroke=\"black\" d=\"M11241,-306C11241,-306 11050,-306 11050,-306 11044,-306 11038,-300 11038,-294 11038,-294 11038,-235 11038,-235 11038,-229 11044,-223 11050,-223 11050,-223 11241,-223 11241,-223 11247,-223 11253,-229 11253,-235 11253,-235 11253,-294 11253,-294 11253,-300 11247,-306 11241,-306\"/>\n<text text-anchor=\"middle\" x=\"11145.5\" y=\"-290.8\" font-family=\"Helvetica,sans-Serif\" font-size=\"14.00\">pix5 &lt;= 1.0</text>\n<text text-anchor=\"middle\" x=\"11145.5\" y=\"-275.8\" font-family=\"Helvetica,sans-Serif\" font-size=\"14.00\">gini = 0.245</text>\n<text text-anchor=\"middle\" x=\"11145.5\" y=\"-260.8\" font-family=\"Helvetica,sans-Serif\" font-size=\"14.00\">samples = 7</text>\n<text text-anchor=\"middle\" x=\"11145.5\" y=\"-245.8\" font-family=\"Helvetica,sans-Serif\" font-size=\"14.00\">value = [0, 0, 0, 0, 0, 6, 1, 0, 0, 0]</text>\n<text text-anchor=\"middle\" x=\"11145.5\" y=\"-230.8\" font-family=\"Helvetica,sans-Serif\" font-size=\"14.00\">class = 5</text>\n</g>\n<!-- 149&#45;&gt;155 -->\n<g id=\"edge155\" class=\"edge\">\n<title>149&#45;&gt;155</title>\n<path fill=\"none\" stroke=\"black\" d=\"M11069.75,-341.91C11078.92,-332.65 11088.76,-322.73 11098.2,-313.21\"/>\n<polygon fill=\"black\" stroke=\"black\" points=\"11100.77,-315.59 11105.33,-306.02 11095.8,-310.66 11100.77,-315.59\"/>\n</g>\n<!-- 151 -->\n<g id=\"node152\" class=\"node\">\n<title>151</title>\n<path fill=\"#e539c0\" stroke=\"black\" d=\"M10658,-179.5C10658,-179.5 10467,-179.5 10467,-179.5 10461,-179.5 10455,-173.5 10455,-167.5 10455,-167.5 10455,-123.5 10455,-123.5 10455,-117.5 10461,-111.5 10467,-111.5 10467,-111.5 10658,-111.5 10658,-111.5 10664,-111.5 10670,-117.5 10670,-123.5 10670,-123.5 10670,-167.5 10670,-167.5 10670,-173.5 10664,-179.5 10658,-179.5\"/>\n<text text-anchor=\"middle\" x=\"10562.5\" y=\"-164.3\" font-family=\"Helvetica,sans-Serif\" font-size=\"14.00\">gini = 0.0</text>\n<text text-anchor=\"middle\" x=\"10562.5\" y=\"-149.3\" font-family=\"Helvetica,sans-Serif\" font-size=\"14.00\">samples = 5</text>\n<text text-anchor=\"middle\" x=\"10562.5\" y=\"-134.3\" font-family=\"Helvetica,sans-Serif\" font-size=\"14.00\">value = [0, 0, 0, 0, 0, 0, 0, 0, 5, 0]</text>\n<text text-anchor=\"middle\" x=\"10562.5\" y=\"-119.3\" font-family=\"Helvetica,sans-Serif\" font-size=\"14.00\">class = 8</text>\n</g>\n<!-- 150&#45;&gt;151 -->\n<g id=\"edge151\" class=\"edge\">\n<title>150&#45;&gt;151</title>\n<path fill=\"none\" stroke=\"black\" d=\"M10804.81,-226.06C10801.67,-225.02 10798.56,-224 10795.5,-223 10743.79,-206.1 10730.19,-203.97 10678.5,-187 10674.28,-185.62 10669.98,-184.19 10665.64,-182.73\"/>\n<polygon fill=\"black\" stroke=\"black\" points=\"10666.69,-179.39 10656.1,-179.52 10664.46,-186.03 10666.69,-179.39\"/>\n</g>\n<!-- 152 -->\n<g id=\"node153\" class=\"node\">\n<title>152</title>\n<path fill=\"#9cf2ae\" stroke=\"black\" d=\"M10891,-187C10891,-187 10700,-187 10700,-187 10694,-187 10688,-181 10688,-175 10688,-175 10688,-116 10688,-116 10688,-110 10694,-104 10700,-104 10700,-104 10891,-104 10891,-104 10897,-104 10903,-110 10903,-116 10903,-116 10903,-175 10903,-175 10903,-181 10897,-187 10891,-187\"/>\n<text text-anchor=\"middle\" x=\"10795.5\" y=\"-171.8\" font-family=\"Helvetica,sans-Serif\" font-size=\"14.00\">pix11 &lt;= 8.5</text>\n<text text-anchor=\"middle\" x=\"10795.5\" y=\"-156.8\" font-family=\"Helvetica,sans-Serif\" font-size=\"14.00\">gini = 0.512</text>\n<text text-anchor=\"middle\" x=\"10795.5\" y=\"-141.8\" font-family=\"Helvetica,sans-Serif\" font-size=\"14.00\">samples = 11</text>\n<text text-anchor=\"middle\" x=\"10795.5\" y=\"-126.8\" font-family=\"Helvetica,sans-Serif\" font-size=\"14.00\">value = [0, 0, 0, 7, 0, 0, 0, 0, 1, 3]</text>\n<text text-anchor=\"middle\" x=\"10795.5\" y=\"-111.8\" font-family=\"Helvetica,sans-Serif\" font-size=\"14.00\">class = 3</text>\n</g>\n<!-- 150&#45;&gt;152 -->\n<g id=\"edge152\" class=\"edge\">\n<title>150&#45;&gt;152</title>\n<path fill=\"none\" stroke=\"black\" d=\"M10871.91,-222.91C10862.65,-213.65 10852.73,-203.73 10843.21,-194.21\"/>\n<polygon fill=\"black\" stroke=\"black\" points=\"10845.57,-191.62 10836.02,-187.02 10840.62,-196.57 10845.57,-191.62\"/>\n</g>\n<!-- 153 -->\n<g id=\"node154\" class=\"node\">\n<title>153</title>\n<path fill=\"#f29cac\" stroke=\"black\" d=\"M10774,-68C10774,-68 10583,-68 10583,-68 10577,-68 10571,-62 10571,-56 10571,-56 10571,-12 10571,-12 10571,-6 10577,0 10583,0 10583,0 10774,0 10774,0 10780,0 10786,-6 10786,-12 10786,-12 10786,-56 10786,-56 10786,-62 10780,-68 10774,-68\"/>\n<text text-anchor=\"middle\" x=\"10678.5\" y=\"-52.8\" font-family=\"Helvetica,sans-Serif\" font-size=\"14.00\">gini = 0.56</text>\n<text text-anchor=\"middle\" x=\"10678.5\" y=\"-37.8\" font-family=\"Helvetica,sans-Serif\" font-size=\"14.00\">samples = 5</text>\n<text text-anchor=\"middle\" x=\"10678.5\" y=\"-22.8\" font-family=\"Helvetica,sans-Serif\" font-size=\"14.00\">value = [0, 0, 0, 1, 0, 0, 0, 0, 1, 3]</text>\n<text text-anchor=\"middle\" x=\"10678.5\" y=\"-7.8\" font-family=\"Helvetica,sans-Serif\" font-size=\"14.00\">class = 9</text>\n</g>\n<!-- 152&#45;&gt;153 -->\n<g id=\"edge153\" class=\"edge\">\n<title>152&#45;&gt;153</title>\n<path fill=\"none\" stroke=\"black\" d=\"M10751.93,-103.73C10741.99,-94.42 10731.44,-84.54 10721.52,-75.26\"/>\n<polygon fill=\"black\" stroke=\"black\" points=\"10723.77,-72.58 10714.08,-68.3 10718.99,-77.69 10723.77,-72.58\"/>\n</g>\n<!-- 154 -->\n<g id=\"node155\" class=\"node\">\n<title>154</title>\n<path fill=\"#39e55e\" stroke=\"black\" d=\"M11007,-68C11007,-68 10816,-68 10816,-68 10810,-68 10804,-62 10804,-56 10804,-56 10804,-12 10804,-12 10804,-6 10810,0 10816,0 10816,0 11007,0 11007,0 11013,0 11019,-6 11019,-12 11019,-12 11019,-56 11019,-56 11019,-62 11013,-68 11007,-68\"/>\n<text text-anchor=\"middle\" x=\"10911.5\" y=\"-52.8\" font-family=\"Helvetica,sans-Serif\" font-size=\"14.00\">gini = 0.0</text>\n<text text-anchor=\"middle\" x=\"10911.5\" y=\"-37.8\" font-family=\"Helvetica,sans-Serif\" font-size=\"14.00\">samples = 6</text>\n<text text-anchor=\"middle\" x=\"10911.5\" y=\"-22.8\" font-family=\"Helvetica,sans-Serif\" font-size=\"14.00\">value = [0, 0, 0, 6, 0, 0, 0, 0, 0, 0]</text>\n<text text-anchor=\"middle\" x=\"10911.5\" y=\"-7.8\" font-family=\"Helvetica,sans-Serif\" font-size=\"14.00\">class = 3</text>\n</g>\n<!-- 152&#45;&gt;154 -->\n<g id=\"edge154\" class=\"edge\">\n<title>152&#45;&gt;154</title>\n<path fill=\"none\" stroke=\"black\" d=\"M10838.69,-103.73C10848.55,-94.42 10859.02,-84.54 10868.85,-75.26\"/>\n<polygon fill=\"black\" stroke=\"black\" points=\"10871.35,-77.71 10876.22,-68.3 10866.55,-72.62 10871.35,-77.71\"/>\n</g>\n<!-- 156 -->\n<g id=\"node157\" class=\"node\">\n<title>156</title>\n<path fill=\"#3c39e5\" stroke=\"black\" d=\"M11124,-179.5C11124,-179.5 10933,-179.5 10933,-179.5 10927,-179.5 10921,-173.5 10921,-167.5 10921,-167.5 10921,-123.5 10921,-123.5 10921,-117.5 10927,-111.5 10933,-111.5 10933,-111.5 11124,-111.5 11124,-111.5 11130,-111.5 11136,-117.5 11136,-123.5 11136,-123.5 11136,-167.5 11136,-167.5 11136,-173.5 11130,-179.5 11124,-179.5\"/>\n<text text-anchor=\"middle\" x=\"11028.5\" y=\"-164.3\" font-family=\"Helvetica,sans-Serif\" font-size=\"14.00\">gini = 0.0</text>\n<text text-anchor=\"middle\" x=\"11028.5\" y=\"-149.3\" font-family=\"Helvetica,sans-Serif\" font-size=\"14.00\">samples = 1</text>\n<text text-anchor=\"middle\" x=\"11028.5\" y=\"-134.3\" font-family=\"Helvetica,sans-Serif\" font-size=\"14.00\">value = [0, 0, 0, 0, 0, 0, 1, 0, 0, 0]</text>\n<text text-anchor=\"middle\" x=\"11028.5\" y=\"-119.3\" font-family=\"Helvetica,sans-Serif\" font-size=\"14.00\">class = 6</text>\n</g>\n<!-- 155&#45;&gt;156 -->\n<g id=\"edge156\" class=\"edge\">\n<title>155&#45;&gt;156</title>\n<path fill=\"none\" stroke=\"black\" d=\"M11104.91,-222.91C11093.21,-211.21 11080.46,-198.46 11068.78,-186.78\"/>\n<polygon fill=\"black\" stroke=\"black\" points=\"11071.21,-184.26 11061.67,-179.67 11066.26,-189.21 11071.21,-184.26\"/>\n</g>\n<!-- 157 -->\n<g id=\"node158\" class=\"node\">\n<title>157</title>\n<path fill=\"#399de5\" stroke=\"black\" d=\"M11357,-179.5C11357,-179.5 11166,-179.5 11166,-179.5 11160,-179.5 11154,-173.5 11154,-167.5 11154,-167.5 11154,-123.5 11154,-123.5 11154,-117.5 11160,-111.5 11166,-111.5 11166,-111.5 11357,-111.5 11357,-111.5 11363,-111.5 11369,-117.5 11369,-123.5 11369,-123.5 11369,-167.5 11369,-167.5 11369,-173.5 11363,-179.5 11357,-179.5\"/>\n<text text-anchor=\"middle\" x=\"11261.5\" y=\"-164.3\" font-family=\"Helvetica,sans-Serif\" font-size=\"14.00\">gini = 0.0</text>\n<text text-anchor=\"middle\" x=\"11261.5\" y=\"-149.3\" font-family=\"Helvetica,sans-Serif\" font-size=\"14.00\">samples = 6</text>\n<text text-anchor=\"middle\" x=\"11261.5\" y=\"-134.3\" font-family=\"Helvetica,sans-Serif\" font-size=\"14.00\">value = [0, 0, 0, 0, 0, 6, 0, 0, 0, 0]</text>\n<text text-anchor=\"middle\" x=\"11261.5\" y=\"-119.3\" font-family=\"Helvetica,sans-Serif\" font-size=\"14.00\">class = 5</text>\n</g>\n<!-- 155&#45;&gt;157 -->\n<g id=\"edge157\" class=\"edge\">\n<title>155&#45;&gt;157</title>\n<path fill=\"none\" stroke=\"black\" d=\"M11185.75,-222.91C11197.34,-211.21 11209.99,-198.46 11221.56,-186.78\"/>\n<polygon fill=\"black\" stroke=\"black\" points=\"11224.06,-189.23 11228.62,-179.67 11219.09,-184.3 11224.06,-189.23\"/>\n</g>\n<!-- 160 -->\n<g id=\"node161\" class=\"node\">\n<title>160</title>\n<path fill=\"#ffffff\" stroke=\"black\" d=\"M11940,-425C11940,-425 11749,-425 11749,-425 11743,-425 11737,-419 11737,-413 11737,-413 11737,-354 11737,-354 11737,-348 11743,-342 11749,-342 11749,-342 11940,-342 11940,-342 11946,-342 11952,-348 11952,-354 11952,-354 11952,-413 11952,-413 11952,-419 11946,-425 11940,-425\"/>\n<text text-anchor=\"middle\" x=\"11844.5\" y=\"-409.8\" font-family=\"Helvetica,sans-Serif\" font-size=\"14.00\">pix3 &lt;= 3.5</text>\n<text text-anchor=\"middle\" x=\"11844.5\" y=\"-394.8\" font-family=\"Helvetica,sans-Serif\" font-size=\"14.00\">gini = 0.71</text>\n<text text-anchor=\"middle\" x=\"11844.5\" y=\"-379.8\" font-family=\"Helvetica,sans-Serif\" font-size=\"14.00\">samples = 20</text>\n<text text-anchor=\"middle\" x=\"11844.5\" y=\"-364.8\" font-family=\"Helvetica,sans-Serif\" font-size=\"14.00\">value = [0, 7, 0, 1, 0, 1, 0, 0, 4, 7]</text>\n<text text-anchor=\"middle\" x=\"11844.5\" y=\"-349.8\" font-family=\"Helvetica,sans-Serif\" font-size=\"14.00\">class = 1</text>\n</g>\n<!-- 159&#45;&gt;160 -->\n<g id=\"edge160\" class=\"edge\">\n<title>159&#45;&gt;160</title>\n<path fill=\"none\" stroke=\"black\" d=\"M11844.5,-460.91C11844.5,-452.65 11844.5,-443.86 11844.5,-435.3\"/>\n<polygon fill=\"black\" stroke=\"black\" points=\"11848,-435.02 11844.5,-425.02 11841,-435.02 11848,-435.02\"/>\n</g>\n<!-- 171 -->\n<g id=\"node172\" class=\"node\">\n<title>171</title>\n<path fill=\"#e64361\" stroke=\"black\" d=\"M12525.5,-425C12525.5,-425 12327.5,-425 12327.5,-425 12321.5,-425 12315.5,-419 12315.5,-413 12315.5,-413 12315.5,-354 12315.5,-354 12315.5,-348 12321.5,-342 12327.5,-342 12327.5,-342 12525.5,-342 12525.5,-342 12531.5,-342 12537.5,-348 12537.5,-354 12537.5,-354 12537.5,-413 12537.5,-413 12537.5,-419 12531.5,-425 12525.5,-425\"/>\n<text text-anchor=\"middle\" x=\"12426.5\" y=\"-409.8\" font-family=\"Helvetica,sans-Serif\" font-size=\"14.00\">pix33 &lt;= 6.5</text>\n<text text-anchor=\"middle\" x=\"12426.5\" y=\"-394.8\" font-family=\"Helvetica,sans-Serif\" font-size=\"14.00\">gini = 0.096</text>\n<text text-anchor=\"middle\" x=\"12426.5\" y=\"-379.8\" font-family=\"Helvetica,sans-Serif\" font-size=\"14.00\">samples = 60</text>\n<text text-anchor=\"middle\" x=\"12426.5\" y=\"-364.8\" font-family=\"Helvetica,sans-Serif\" font-size=\"14.00\">value = [0, 2, 0, 0, 0, 0, 0, 1, 0, 57]</text>\n<text text-anchor=\"middle\" x=\"12426.5\" y=\"-349.8\" font-family=\"Helvetica,sans-Serif\" font-size=\"14.00\">class = 9</text>\n</g>\n<!-- 159&#45;&gt;171 -->\n<g id=\"edge171\" class=\"edge\">\n<title>159&#45;&gt;171</title>\n<path fill=\"none\" stroke=\"black\" d=\"M11955.68,-479.15C12055.73,-459.04 12202.4,-429.55 12305.39,-408.85\"/>\n<polygon fill=\"black\" stroke=\"black\" points=\"12306.1,-412.27 12315.22,-406.87 12304.72,-405.41 12306.1,-412.27\"/>\n</g>\n<!-- 161 -->\n<g id=\"node162\" class=\"node\">\n<title>161</title>\n<path fill=\"#e6e955\" stroke=\"black\" d=\"M11823,-306C11823,-306 11632,-306 11632,-306 11626,-306 11620,-300 11620,-294 11620,-294 11620,-235 11620,-235 11620,-229 11626,-223 11632,-223 11632,-223 11823,-223 11823,-223 11829,-223 11835,-229 11835,-235 11835,-235 11835,-294 11835,-294 11835,-300 11829,-306 11823,-306\"/>\n<text text-anchor=\"middle\" x=\"11727.5\" y=\"-290.8\" font-family=\"Helvetica,sans-Serif\" font-size=\"14.00\">pix20 &lt;= 10.0</text>\n<text text-anchor=\"middle\" x=\"11727.5\" y=\"-275.8\" font-family=\"Helvetica,sans-Serif\" font-size=\"14.00\">gini = 0.219</text>\n<text text-anchor=\"middle\" x=\"11727.5\" y=\"-260.8\" font-family=\"Helvetica,sans-Serif\" font-size=\"14.00\">samples = 8</text>\n<text text-anchor=\"middle\" x=\"11727.5\" y=\"-245.8\" font-family=\"Helvetica,sans-Serif\" font-size=\"14.00\">value = [0, 7, 0, 0, 0, 0, 0, 0, 0, 1]</text>\n<text text-anchor=\"middle\" x=\"11727.5\" y=\"-230.8\" font-family=\"Helvetica,sans-Serif\" font-size=\"14.00\">class = 1</text>\n</g>\n<!-- 160&#45;&gt;161 -->\n<g id=\"edge161\" class=\"edge\">\n<title>160&#45;&gt;161</title>\n<path fill=\"none\" stroke=\"black\" d=\"M11803.91,-341.91C11794.65,-332.65 11784.73,-322.73 11775.21,-313.21\"/>\n<polygon fill=\"black\" stroke=\"black\" points=\"11777.57,-310.62 11768.02,-306.02 11772.62,-315.57 11777.57,-310.62\"/>\n</g>\n<!-- 164 -->\n<g id=\"node165\" class=\"node\">\n<title>164</title>\n<path fill=\"#f8ced5\" stroke=\"black\" d=\"M12056,-306C12056,-306 11865,-306 11865,-306 11859,-306 11853,-300 11853,-294 11853,-294 11853,-235 11853,-235 11853,-229 11859,-223 11865,-223 11865,-223 12056,-223 12056,-223 12062,-223 12068,-229 12068,-235 12068,-235 12068,-294 12068,-294 12068,-300 12062,-306 12056,-306\"/>\n<text text-anchor=\"middle\" x=\"11960.5\" y=\"-290.8\" font-family=\"Helvetica,sans-Serif\" font-size=\"14.00\">pix41 &lt;= 1.5</text>\n<text text-anchor=\"middle\" x=\"11960.5\" y=\"-275.8\" font-family=\"Helvetica,sans-Serif\" font-size=\"14.00\">gini = 0.625</text>\n<text text-anchor=\"middle\" x=\"11960.5\" y=\"-260.8\" font-family=\"Helvetica,sans-Serif\" font-size=\"14.00\">samples = 12</text>\n<text text-anchor=\"middle\" x=\"11960.5\" y=\"-245.8\" font-family=\"Helvetica,sans-Serif\" font-size=\"14.00\">value = [0, 0, 0, 1, 0, 1, 0, 0, 4, 6]</text>\n<text text-anchor=\"middle\" x=\"11960.5\" y=\"-230.8\" font-family=\"Helvetica,sans-Serif\" font-size=\"14.00\">class = 9</text>\n</g>\n<!-- 160&#45;&gt;164 -->\n<g id=\"edge164\" class=\"edge\">\n<title>160&#45;&gt;164</title>\n<path fill=\"none\" stroke=\"black\" d=\"M11884.75,-341.91C11893.92,-332.65 11903.76,-322.73 11913.2,-313.21\"/>\n<polygon fill=\"black\" stroke=\"black\" points=\"11915.77,-315.59 11920.33,-306.02 11910.8,-310.66 11915.77,-315.59\"/>\n</g>\n<!-- 162 -->\n<g id=\"node163\" class=\"node\">\n<title>162</title>\n<path fill=\"#e53958\" stroke=\"black\" d=\"M11590,-179.5C11590,-179.5 11399,-179.5 11399,-179.5 11393,-179.5 11387,-173.5 11387,-167.5 11387,-167.5 11387,-123.5 11387,-123.5 11387,-117.5 11393,-111.5 11399,-111.5 11399,-111.5 11590,-111.5 11590,-111.5 11596,-111.5 11602,-117.5 11602,-123.5 11602,-123.5 11602,-167.5 11602,-167.5 11602,-173.5 11596,-179.5 11590,-179.5\"/>\n<text text-anchor=\"middle\" x=\"11494.5\" y=\"-164.3\" font-family=\"Helvetica,sans-Serif\" font-size=\"14.00\">gini = 0.0</text>\n<text text-anchor=\"middle\" x=\"11494.5\" y=\"-149.3\" font-family=\"Helvetica,sans-Serif\" font-size=\"14.00\">samples = 1</text>\n<text text-anchor=\"middle\" x=\"11494.5\" y=\"-134.3\" font-family=\"Helvetica,sans-Serif\" font-size=\"14.00\">value = [0, 0, 0, 0, 0, 0, 0, 0, 0, 1]</text>\n<text text-anchor=\"middle\" x=\"11494.5\" y=\"-119.3\" font-family=\"Helvetica,sans-Serif\" font-size=\"14.00\">class = 9</text>\n</g>\n<!-- 161&#45;&gt;162 -->\n<g id=\"edge162\" class=\"edge\">\n<title>161&#45;&gt;162</title>\n<path fill=\"none\" stroke=\"black\" d=\"M11646.66,-222.91C11621.61,-210.33 11594.12,-196.53 11569.49,-184.16\"/>\n<polygon fill=\"black\" stroke=\"black\" points=\"11571.06,-181.03 11560.55,-179.67 11567.92,-187.28 11571.06,-181.03\"/>\n</g>\n<!-- 163 -->\n<g id=\"node164\" class=\"node\">\n<title>163</title>\n<path fill=\"#e2e539\" stroke=\"black\" d=\"M11823,-179.5C11823,-179.5 11632,-179.5 11632,-179.5 11626,-179.5 11620,-173.5 11620,-167.5 11620,-167.5 11620,-123.5 11620,-123.5 11620,-117.5 11626,-111.5 11632,-111.5 11632,-111.5 11823,-111.5 11823,-111.5 11829,-111.5 11835,-117.5 11835,-123.5 11835,-123.5 11835,-167.5 11835,-167.5 11835,-173.5 11829,-179.5 11823,-179.5\"/>\n<text text-anchor=\"middle\" x=\"11727.5\" y=\"-164.3\" font-family=\"Helvetica,sans-Serif\" font-size=\"14.00\">gini = 0.0</text>\n<text text-anchor=\"middle\" x=\"11727.5\" y=\"-149.3\" font-family=\"Helvetica,sans-Serif\" font-size=\"14.00\">samples = 7</text>\n<text text-anchor=\"middle\" x=\"11727.5\" y=\"-134.3\" font-family=\"Helvetica,sans-Serif\" font-size=\"14.00\">value = [0, 7, 0, 0, 0, 0, 0, 0, 0, 0]</text>\n<text text-anchor=\"middle\" x=\"11727.5\" y=\"-119.3\" font-family=\"Helvetica,sans-Serif\" font-size=\"14.00\">class = 1</text>\n</g>\n<!-- 161&#45;&gt;163 -->\n<g id=\"edge163\" class=\"edge\">\n<title>161&#45;&gt;163</title>\n<path fill=\"none\" stroke=\"black\" d=\"M11727.5,-222.91C11727.5,-212.2 11727.5,-200.62 11727.5,-189.78\"/>\n<polygon fill=\"black\" stroke=\"black\" points=\"11731,-189.67 11727.5,-179.67 11724,-189.67 11731,-189.67\"/>\n</g>\n<!-- 165 -->\n<g id=\"node166\" class=\"node\">\n<title>165</title>\n<path fill=\"#e95a74\" stroke=\"black\" d=\"M12056,-187C12056,-187 11865,-187 11865,-187 11859,-187 11853,-181 11853,-175 11853,-175 11853,-116 11853,-116 11853,-110 11859,-104 11865,-104 11865,-104 12056,-104 12056,-104 12062,-104 12068,-110 12068,-116 12068,-116 12068,-175 12068,-175 12068,-181 12062,-187 12056,-187\"/>\n<text text-anchor=\"middle\" x=\"11960.5\" y=\"-171.8\" font-family=\"Helvetica,sans-Serif\" font-size=\"14.00\">pix51 &lt;= 8.0</text>\n<text text-anchor=\"middle\" x=\"11960.5\" y=\"-156.8\" font-family=\"Helvetica,sans-Serif\" font-size=\"14.00\">gini = 0.245</text>\n<text text-anchor=\"middle\" x=\"11960.5\" y=\"-141.8\" font-family=\"Helvetica,sans-Serif\" font-size=\"14.00\">samples = 7</text>\n<text text-anchor=\"middle\" x=\"11960.5\" y=\"-126.8\" font-family=\"Helvetica,sans-Serif\" font-size=\"14.00\">value = [0, 0, 0, 1, 0, 0, 0, 0, 0, 6]</text>\n<text text-anchor=\"middle\" x=\"11960.5\" y=\"-111.8\" font-family=\"Helvetica,sans-Serif\" font-size=\"14.00\">class = 9</text>\n</g>\n<!-- 164&#45;&gt;165 -->\n<g id=\"edge165\" class=\"edge\">\n<title>164&#45;&gt;165</title>\n<path fill=\"none\" stroke=\"black\" d=\"M11960.5,-222.91C11960.5,-214.65 11960.5,-205.86 11960.5,-197.3\"/>\n<polygon fill=\"black\" stroke=\"black\" points=\"11964,-197.02 11960.5,-187.02 11957,-197.02 11964,-197.02\"/>\n</g>\n<!-- 168 -->\n<g id=\"node169\" class=\"node\">\n<title>168</title>\n<path fill=\"#ec6ad0\" stroke=\"black\" d=\"M12289,-187C12289,-187 12098,-187 12098,-187 12092,-187 12086,-181 12086,-175 12086,-175 12086,-116 12086,-116 12086,-110 12092,-104 12098,-104 12098,-104 12289,-104 12289,-104 12295,-104 12301,-110 12301,-116 12301,-116 12301,-175 12301,-175 12301,-181 12295,-187 12289,-187\"/>\n<text text-anchor=\"middle\" x=\"12193.5\" y=\"-171.8\" font-family=\"Helvetica,sans-Serif\" font-size=\"14.00\">pix28 &lt;= 12.5</text>\n<text text-anchor=\"middle\" x=\"12193.5\" y=\"-156.8\" font-family=\"Helvetica,sans-Serif\" font-size=\"14.00\">gini = 0.32</text>\n<text text-anchor=\"middle\" x=\"12193.5\" y=\"-141.8\" font-family=\"Helvetica,sans-Serif\" font-size=\"14.00\">samples = 5</text>\n<text text-anchor=\"middle\" x=\"12193.5\" y=\"-126.8\" font-family=\"Helvetica,sans-Serif\" font-size=\"14.00\">value = [0, 0, 0, 0, 0, 1, 0, 0, 4, 0]</text>\n<text text-anchor=\"middle\" x=\"12193.5\" y=\"-111.8\" font-family=\"Helvetica,sans-Serif\" font-size=\"14.00\">class = 8</text>\n</g>\n<!-- 164&#45;&gt;168 -->\n<g id=\"edge168\" class=\"edge\">\n<title>164&#45;&gt;168</title>\n<path fill=\"none\" stroke=\"black\" d=\"M12041.34,-222.91C12061.49,-212.79 12083.22,-201.88 12103.77,-191.56\"/>\n<polygon fill=\"black\" stroke=\"black\" points=\"12105.44,-194.64 12112.8,-187.02 12102.3,-188.38 12105.44,-194.64\"/>\n</g>\n<!-- 166 -->\n<g id=\"node167\" class=\"node\">\n<title>166</title>\n<path fill=\"#e53958\" stroke=\"black\" d=\"M11823,-68C11823,-68 11632,-68 11632,-68 11626,-68 11620,-62 11620,-56 11620,-56 11620,-12 11620,-12 11620,-6 11626,0 11632,0 11632,0 11823,0 11823,0 11829,0 11835,-6 11835,-12 11835,-12 11835,-56 11835,-56 11835,-62 11829,-68 11823,-68\"/>\n<text text-anchor=\"middle\" x=\"11727.5\" y=\"-52.8\" font-family=\"Helvetica,sans-Serif\" font-size=\"14.00\">gini = 0.0</text>\n<text text-anchor=\"middle\" x=\"11727.5\" y=\"-37.8\" font-family=\"Helvetica,sans-Serif\" font-size=\"14.00\">samples = 6</text>\n<text text-anchor=\"middle\" x=\"11727.5\" y=\"-22.8\" font-family=\"Helvetica,sans-Serif\" font-size=\"14.00\">value = [0, 0, 0, 0, 0, 0, 0, 0, 0, 6]</text>\n<text text-anchor=\"middle\" x=\"11727.5\" y=\"-7.8\" font-family=\"Helvetica,sans-Serif\" font-size=\"14.00\">class = 9</text>\n</g>\n<!-- 165&#45;&gt;166 -->\n<g id=\"edge166\" class=\"edge\">\n<title>165&#45;&gt;166</title>\n<path fill=\"none\" stroke=\"black\" d=\"M11874.07,-103.88C11852.09,-93.55 11828.57,-82.5 11806.95,-72.34\"/>\n<polygon fill=\"black\" stroke=\"black\" points=\"11808.35,-69.13 11797.81,-68.04 11805.37,-75.46 11808.35,-69.13\"/>\n</g>\n<!-- 167 -->\n<g id=\"node168\" class=\"node\">\n<title>167</title>\n<path fill=\"#39e55e\" stroke=\"black\" d=\"M12056,-68C12056,-68 11865,-68 11865,-68 11859,-68 11853,-62 11853,-56 11853,-56 11853,-12 11853,-12 11853,-6 11859,0 11865,0 11865,0 12056,0 12056,0 12062,0 12068,-6 12068,-12 12068,-12 12068,-56 12068,-56 12068,-62 12062,-68 12056,-68\"/>\n<text text-anchor=\"middle\" x=\"11960.5\" y=\"-52.8\" font-family=\"Helvetica,sans-Serif\" font-size=\"14.00\">gini = 0.0</text>\n<text text-anchor=\"middle\" x=\"11960.5\" y=\"-37.8\" font-family=\"Helvetica,sans-Serif\" font-size=\"14.00\">samples = 1</text>\n<text text-anchor=\"middle\" x=\"11960.5\" y=\"-22.8\" font-family=\"Helvetica,sans-Serif\" font-size=\"14.00\">value = [0, 0, 0, 1, 0, 0, 0, 0, 0, 0]</text>\n<text text-anchor=\"middle\" x=\"11960.5\" y=\"-7.8\" font-family=\"Helvetica,sans-Serif\" font-size=\"14.00\">class = 3</text>\n</g>\n<!-- 165&#45;&gt;167 -->\n<g id=\"edge167\" class=\"edge\">\n<title>165&#45;&gt;167</title>\n<path fill=\"none\" stroke=\"black\" d=\"M11960.5,-103.73C11960.5,-95.52 11960.5,-86.86 11960.5,-78.56\"/>\n<polygon fill=\"black\" stroke=\"black\" points=\"11964,-78.3 11960.5,-68.3 11957,-78.3 11964,-78.3\"/>\n</g>\n<!-- 169 -->\n<g id=\"node170\" class=\"node\">\n<title>169</title>\n<path fill=\"#399de5\" stroke=\"black\" d=\"M12289,-68C12289,-68 12098,-68 12098,-68 12092,-68 12086,-62 12086,-56 12086,-56 12086,-12 12086,-12 12086,-6 12092,0 12098,0 12098,0 12289,0 12289,0 12295,0 12301,-6 12301,-12 12301,-12 12301,-56 12301,-56 12301,-62 12295,-68 12289,-68\"/>\n<text text-anchor=\"middle\" x=\"12193.5\" y=\"-52.8\" font-family=\"Helvetica,sans-Serif\" font-size=\"14.00\">gini = 0.0</text>\n<text text-anchor=\"middle\" x=\"12193.5\" y=\"-37.8\" font-family=\"Helvetica,sans-Serif\" font-size=\"14.00\">samples = 1</text>\n<text text-anchor=\"middle\" x=\"12193.5\" y=\"-22.8\" font-family=\"Helvetica,sans-Serif\" font-size=\"14.00\">value = [0, 0, 0, 0, 0, 1, 0, 0, 0, 0]</text>\n<text text-anchor=\"middle\" x=\"12193.5\" y=\"-7.8\" font-family=\"Helvetica,sans-Serif\" font-size=\"14.00\">class = 5</text>\n</g>\n<!-- 168&#45;&gt;169 -->\n<g id=\"edge169\" class=\"edge\">\n<title>168&#45;&gt;169</title>\n<path fill=\"none\" stroke=\"black\" d=\"M12193.5,-103.73C12193.5,-95.52 12193.5,-86.86 12193.5,-78.56\"/>\n<polygon fill=\"black\" stroke=\"black\" points=\"12197,-78.3 12193.5,-68.3 12190,-78.3 12197,-78.3\"/>\n</g>\n<!-- 170 -->\n<g id=\"node171\" class=\"node\">\n<title>170</title>\n<path fill=\"#e539c0\" stroke=\"black\" d=\"M12522,-68C12522,-68 12331,-68 12331,-68 12325,-68 12319,-62 12319,-56 12319,-56 12319,-12 12319,-12 12319,-6 12325,0 12331,0 12331,0 12522,0 12522,0 12528,0 12534,-6 12534,-12 12534,-12 12534,-56 12534,-56 12534,-62 12528,-68 12522,-68\"/>\n<text text-anchor=\"middle\" x=\"12426.5\" y=\"-52.8\" font-family=\"Helvetica,sans-Serif\" font-size=\"14.00\">gini = 0.0</text>\n<text text-anchor=\"middle\" x=\"12426.5\" y=\"-37.8\" font-family=\"Helvetica,sans-Serif\" font-size=\"14.00\">samples = 4</text>\n<text text-anchor=\"middle\" x=\"12426.5\" y=\"-22.8\" font-family=\"Helvetica,sans-Serif\" font-size=\"14.00\">value = [0, 0, 0, 0, 0, 0, 0, 0, 4, 0]</text>\n<text text-anchor=\"middle\" x=\"12426.5\" y=\"-7.8\" font-family=\"Helvetica,sans-Serif\" font-size=\"14.00\">class = 8</text>\n</g>\n<!-- 168&#45;&gt;170 -->\n<g id=\"edge170\" class=\"edge\">\n<title>168&#45;&gt;170</title>\n<path fill=\"none\" stroke=\"black\" d=\"M12279.93,-103.88C12301.91,-93.55 12325.43,-82.5 12347.05,-72.34\"/>\n<polygon fill=\"black\" stroke=\"black\" points=\"12348.63,-75.46 12356.19,-68.04 12345.65,-69.13 12348.63,-75.46\"/>\n</g>\n<!-- 172 -->\n<g id=\"node173\" class=\"node\">\n<title>172</title>\n<path fill=\"#e6405e\" stroke=\"black\" d=\"M12525.5,-306C12525.5,-306 12327.5,-306 12327.5,-306 12321.5,-306 12315.5,-300 12315.5,-294 12315.5,-294 12315.5,-235 12315.5,-235 12315.5,-229 12321.5,-223 12327.5,-223 12327.5,-223 12525.5,-223 12525.5,-223 12531.5,-223 12537.5,-229 12537.5,-235 12537.5,-235 12537.5,-294 12537.5,-294 12537.5,-300 12531.5,-306 12525.5,-306\"/>\n<text text-anchor=\"middle\" x=\"12426.5\" y=\"-290.8\" font-family=\"Helvetica,sans-Serif\" font-size=\"14.00\">pix28 &lt;= 5.0</text>\n<text text-anchor=\"middle\" x=\"12426.5\" y=\"-275.8\" font-family=\"Helvetica,sans-Serif\" font-size=\"14.00\">gini = 0.065</text>\n<text text-anchor=\"middle\" x=\"12426.5\" y=\"-260.8\" font-family=\"Helvetica,sans-Serif\" font-size=\"14.00\">samples = 59</text>\n<text text-anchor=\"middle\" x=\"12426.5\" y=\"-245.8\" font-family=\"Helvetica,sans-Serif\" font-size=\"14.00\">value = [0, 2, 0, 0, 0, 0, 0, 0, 0, 57]</text>\n<text text-anchor=\"middle\" x=\"12426.5\" y=\"-230.8\" font-family=\"Helvetica,sans-Serif\" font-size=\"14.00\">class = 9</text>\n</g>\n<!-- 171&#45;&gt;172 -->\n<g id=\"edge172\" class=\"edge\">\n<title>171&#45;&gt;172</title>\n<path fill=\"none\" stroke=\"black\" d=\"M12426.5,-341.91C12426.5,-333.65 12426.5,-324.86 12426.5,-316.3\"/>\n<polygon fill=\"black\" stroke=\"black\" points=\"12430,-316.02 12426.5,-306.02 12423,-316.02 12430,-316.02\"/>\n</g>\n<!-- 177 -->\n<g id=\"node178\" class=\"node\">\n<title>177</title>\n<path fill=\"#a339e5\" stroke=\"black\" d=\"M12759,-298.5C12759,-298.5 12568,-298.5 12568,-298.5 12562,-298.5 12556,-292.5 12556,-286.5 12556,-286.5 12556,-242.5 12556,-242.5 12556,-236.5 12562,-230.5 12568,-230.5 12568,-230.5 12759,-230.5 12759,-230.5 12765,-230.5 12771,-236.5 12771,-242.5 12771,-242.5 12771,-286.5 12771,-286.5 12771,-292.5 12765,-298.5 12759,-298.5\"/>\n<text text-anchor=\"middle\" x=\"12663.5\" y=\"-283.3\" font-family=\"Helvetica,sans-Serif\" font-size=\"14.00\">gini = 0.0</text>\n<text text-anchor=\"middle\" x=\"12663.5\" y=\"-268.3\" font-family=\"Helvetica,sans-Serif\" font-size=\"14.00\">samples = 1</text>\n<text text-anchor=\"middle\" x=\"12663.5\" y=\"-253.3\" font-family=\"Helvetica,sans-Serif\" font-size=\"14.00\">value = [0, 0, 0, 0, 0, 0, 0, 1, 0, 0]</text>\n<text text-anchor=\"middle\" x=\"12663.5\" y=\"-238.3\" font-family=\"Helvetica,sans-Serif\" font-size=\"14.00\">class = 7</text>\n</g>\n<!-- 171&#45;&gt;177 -->\n<g id=\"edge177\" class=\"edge\">\n<title>171&#45;&gt;177</title>\n<path fill=\"none\" stroke=\"black\" d=\"M12508.73,-341.91C12534.21,-329.33 12562.16,-315.53 12587.22,-303.16\"/>\n<polygon fill=\"black\" stroke=\"black\" points=\"12588.9,-306.23 12596.32,-298.67 12585.8,-299.96 12588.9,-306.23\"/>\n</g>\n<!-- 173 -->\n<g id=\"node174\" class=\"node\">\n<title>173</title>\n<path fill=\"#e2e539\" stroke=\"black\" d=\"M12522,-179.5C12522,-179.5 12331,-179.5 12331,-179.5 12325,-179.5 12319,-173.5 12319,-167.5 12319,-167.5 12319,-123.5 12319,-123.5 12319,-117.5 12325,-111.5 12331,-111.5 12331,-111.5 12522,-111.5 12522,-111.5 12528,-111.5 12534,-117.5 12534,-123.5 12534,-123.5 12534,-167.5 12534,-167.5 12534,-173.5 12528,-179.5 12522,-179.5\"/>\n<text text-anchor=\"middle\" x=\"12426.5\" y=\"-164.3\" font-family=\"Helvetica,sans-Serif\" font-size=\"14.00\">gini = 0.0</text>\n<text text-anchor=\"middle\" x=\"12426.5\" y=\"-149.3\" font-family=\"Helvetica,sans-Serif\" font-size=\"14.00\">samples = 1</text>\n<text text-anchor=\"middle\" x=\"12426.5\" y=\"-134.3\" font-family=\"Helvetica,sans-Serif\" font-size=\"14.00\">value = [0, 1, 0, 0, 0, 0, 0, 0, 0, 0]</text>\n<text text-anchor=\"middle\" x=\"12426.5\" y=\"-119.3\" font-family=\"Helvetica,sans-Serif\" font-size=\"14.00\">class = 1</text>\n</g>\n<!-- 172&#45;&gt;173 -->\n<g id=\"edge173\" class=\"edge\">\n<title>172&#45;&gt;173</title>\n<path fill=\"none\" stroke=\"black\" d=\"M12426.5,-222.91C12426.5,-212.2 12426.5,-200.62 12426.5,-189.78\"/>\n<polygon fill=\"black\" stroke=\"black\" points=\"12430,-189.67 12426.5,-179.67 12423,-189.67 12430,-189.67\"/>\n</g>\n<!-- 174 -->\n<g id=\"node175\" class=\"node\">\n<title>174</title>\n<path fill=\"#e53c5b\" stroke=\"black\" d=\"M12762.5,-187C12762.5,-187 12564.5,-187 12564.5,-187 12558.5,-187 12552.5,-181 12552.5,-175 12552.5,-175 12552.5,-116 12552.5,-116 12552.5,-110 12558.5,-104 12564.5,-104 12564.5,-104 12762.5,-104 12762.5,-104 12768.5,-104 12774.5,-110 12774.5,-116 12774.5,-116 12774.5,-175 12774.5,-175 12774.5,-181 12768.5,-187 12762.5,-187\"/>\n<text text-anchor=\"middle\" x=\"12663.5\" y=\"-171.8\" font-family=\"Helvetica,sans-Serif\" font-size=\"14.00\">pix44 &lt;= 10.5</text>\n<text text-anchor=\"middle\" x=\"12663.5\" y=\"-156.8\" font-family=\"Helvetica,sans-Serif\" font-size=\"14.00\">gini = 0.034</text>\n<text text-anchor=\"middle\" x=\"12663.5\" y=\"-141.8\" font-family=\"Helvetica,sans-Serif\" font-size=\"14.00\">samples = 58</text>\n<text text-anchor=\"middle\" x=\"12663.5\" y=\"-126.8\" font-family=\"Helvetica,sans-Serif\" font-size=\"14.00\">value = [0, 1, 0, 0, 0, 0, 0, 0, 0, 57]</text>\n<text text-anchor=\"middle\" x=\"12663.5\" y=\"-111.8\" font-family=\"Helvetica,sans-Serif\" font-size=\"14.00\">class = 9</text>\n</g>\n<!-- 172&#45;&gt;174 -->\n<g id=\"edge174\" class=\"edge\">\n<title>172&#45;&gt;174</title>\n<path fill=\"none\" stroke=\"black\" d=\"M12508.73,-222.91C12529.22,-212.79 12551.32,-201.88 12572.23,-191.56\"/>\n<polygon fill=\"black\" stroke=\"black\" points=\"12574,-194.59 12581.42,-187.02 12570.9,-188.31 12574,-194.59\"/>\n</g>\n<!-- 175 -->\n<g id=\"node176\" class=\"node\">\n<title>175</title>\n<path fill=\"#e53958\" stroke=\"black\" d=\"M12762.5,-68C12762.5,-68 12564.5,-68 12564.5,-68 12558.5,-68 12552.5,-62 12552.5,-56 12552.5,-56 12552.5,-12 12552.5,-12 12552.5,-6 12558.5,0 12564.5,0 12564.5,0 12762.5,0 12762.5,0 12768.5,0 12774.5,-6 12774.5,-12 12774.5,-12 12774.5,-56 12774.5,-56 12774.5,-62 12768.5,-68 12762.5,-68\"/>\n<text text-anchor=\"middle\" x=\"12663.5\" y=\"-52.8\" font-family=\"Helvetica,sans-Serif\" font-size=\"14.00\">gini = 0.0</text>\n<text text-anchor=\"middle\" x=\"12663.5\" y=\"-37.8\" font-family=\"Helvetica,sans-Serif\" font-size=\"14.00\">samples = 56</text>\n<text text-anchor=\"middle\" x=\"12663.5\" y=\"-22.8\" font-family=\"Helvetica,sans-Serif\" font-size=\"14.00\">value = [0, 0, 0, 0, 0, 0, 0, 0, 0, 56]</text>\n<text text-anchor=\"middle\" x=\"12663.5\" y=\"-7.8\" font-family=\"Helvetica,sans-Serif\" font-size=\"14.00\">class = 9</text>\n</g>\n<!-- 174&#45;&gt;175 -->\n<g id=\"edge175\" class=\"edge\">\n<title>174&#45;&gt;175</title>\n<path fill=\"none\" stroke=\"black\" d=\"M12663.5,-103.73C12663.5,-95.52 12663.5,-86.86 12663.5,-78.56\"/>\n<polygon fill=\"black\" stroke=\"black\" points=\"12667,-78.3 12663.5,-68.3 12660,-78.3 12667,-78.3\"/>\n</g>\n<!-- 176 -->\n<g id=\"node177\" class=\"node\">\n<title>176</title>\n<path fill=\"#ffffff\" stroke=\"black\" d=\"M12996,-68C12996,-68 12805,-68 12805,-68 12799,-68 12793,-62 12793,-56 12793,-56 12793,-12 12793,-12 12793,-6 12799,0 12805,0 12805,0 12996,0 12996,0 13002,0 13008,-6 13008,-12 13008,-12 13008,-56 13008,-56 13008,-62 13002,-68 12996,-68\"/>\n<text text-anchor=\"middle\" x=\"12900.5\" y=\"-52.8\" font-family=\"Helvetica,sans-Serif\" font-size=\"14.00\">gini = 0.5</text>\n<text text-anchor=\"middle\" x=\"12900.5\" y=\"-37.8\" font-family=\"Helvetica,sans-Serif\" font-size=\"14.00\">samples = 2</text>\n<text text-anchor=\"middle\" x=\"12900.5\" y=\"-22.8\" font-family=\"Helvetica,sans-Serif\" font-size=\"14.00\">value = [0, 1, 0, 0, 0, 0, 0, 0, 0, 1]</text>\n<text text-anchor=\"middle\" x=\"12900.5\" y=\"-7.8\" font-family=\"Helvetica,sans-Serif\" font-size=\"14.00\">class = 1</text>\n</g>\n<!-- 174&#45;&gt;176 -->\n<g id=\"edge176\" class=\"edge\">\n<title>174&#45;&gt;176</title>\n<path fill=\"none\" stroke=\"black\" d=\"M12751.41,-103.88C12773.78,-93.55 12797.7,-82.5 12819.69,-72.34\"/>\n<polygon fill=\"black\" stroke=\"black\" points=\"12821.37,-75.41 12828.98,-68.04 12818.44,-69.06 12821.37,-75.41\"/>\n</g>\n<!-- 179 -->\n<g id=\"node180\" class=\"node\">\n<title>179</title>\n<path fill=\"#fcebf9\" stroke=\"black\" d=\"M14434,-678C14434,-678 14123,-678 14123,-678 14117,-678 14111,-672 14111,-666 14111,-666 14111,-592 14111,-592 14111,-586 14117,-580 14123,-580 14123,-580 14434,-580 14434,-580 14440,-580 14446,-586 14446,-592 14446,-592 14446,-666 14446,-666 14446,-672 14440,-678 14434,-678\"/>\n<text text-anchor=\"middle\" x=\"14278.5\" y=\"-662.8\" font-family=\"Helvetica,sans-Serif\" font-size=\"14.00\">pix27 &lt;= 6.5</text>\n<text text-anchor=\"middle\" x=\"14278.5\" y=\"-647.8\" font-family=\"Helvetica,sans-Serif\" font-size=\"14.00\">gini = 0.727</text>\n<text text-anchor=\"middle\" x=\"14278.5\" y=\"-632.8\" font-family=\"Helvetica,sans-Serif\" font-size=\"14.00\">samples = 297</text>\n<text text-anchor=\"middle\" x=\"14278.5\" y=\"-617.8\" font-family=\"Helvetica,sans-Serif\" font-size=\"14.00\">value = [3.0, 76.0, 84.0, 12.0, 5.0, 0.0, 1.0, 6.0, 105.0</text>\n<text text-anchor=\"middle\" x=\"14278.5\" y=\"-602.8\" font-family=\"Helvetica,sans-Serif\" font-size=\"14.00\">5.0]</text>\n<text text-anchor=\"middle\" x=\"14278.5\" y=\"-587.8\" font-family=\"Helvetica,sans-Serif\" font-size=\"14.00\">class = 8</text>\n</g>\n<!-- 178&#45;&gt;179 -->\n<g id=\"edge179\" class=\"edge\">\n<title>178&#45;&gt;179</title>\n<path fill=\"none\" stroke=\"black\" d=\"M14278.5,-713.97C14278.5,-705.69 14278.5,-697 14278.5,-688.48\"/>\n<polygon fill=\"black\" stroke=\"black\" points=\"14282,-688.21 14278.5,-678.21 14275,-688.21 14282,-688.21\"/>\n</g>\n<!-- 222 -->\n<g id=\"node223\" class=\"node\">\n<title>222</title>\n<path fill=\"#56e9ce\" stroke=\"black\" d=\"M16320.5,-670.5C16320.5,-670.5 16122.5,-670.5 16122.5,-670.5 16116.5,-670.5 16110.5,-664.5 16110.5,-658.5 16110.5,-658.5 16110.5,-599.5 16110.5,-599.5 16110.5,-593.5 16116.5,-587.5 16122.5,-587.5 16122.5,-587.5 16320.5,-587.5 16320.5,-587.5 16326.5,-587.5 16332.5,-593.5 16332.5,-599.5 16332.5,-599.5 16332.5,-658.5 16332.5,-658.5 16332.5,-664.5 16326.5,-670.5 16320.5,-670.5\"/>\n<text text-anchor=\"middle\" x=\"16221.5\" y=\"-655.3\" font-family=\"Helvetica,sans-Serif\" font-size=\"14.00\">pix13 &lt;= 13.5</text>\n<text text-anchor=\"middle\" x=\"16221.5\" y=\"-640.3\" font-family=\"Helvetica,sans-Serif\" font-size=\"14.00\">gini = 0.253</text>\n<text text-anchor=\"middle\" x=\"16221.5\" y=\"-625.3\" font-family=\"Helvetica,sans-Serif\" font-size=\"14.00\">samples = 72</text>\n<text text-anchor=\"middle\" x=\"16221.5\" y=\"-610.3\" font-family=\"Helvetica,sans-Serif\" font-size=\"14.00\">value = [1, 4, 0, 0, 62, 0, 2, 1, 2, 0]</text>\n<text text-anchor=\"middle\" x=\"16221.5\" y=\"-595.3\" font-family=\"Helvetica,sans-Serif\" font-size=\"14.00\">class = 4</text>\n</g>\n<!-- 178&#45;&gt;222 -->\n<g id=\"edge222\" class=\"edge\">\n<title>178&#45;&gt;222</title>\n<path fill=\"none\" stroke=\"black\" d=\"M14449.65,-750.37C14835.8,-724.14 15766.97,-660.88 16100.29,-638.23\"/>\n<polygon fill=\"black\" stroke=\"black\" points=\"16100.71,-641.71 16110.45,-637.54 16100.24,-634.73 16100.71,-641.71\"/>\n</g>\n<!-- 180 -->\n<g id=\"node181\" class=\"node\">\n<title>180</title>\n<path fill=\"#95ea60\" stroke=\"black\" d=\"M13824.5,-544C13824.5,-544 13626.5,-544 13626.5,-544 13620.5,-544 13614.5,-538 13614.5,-532 13614.5,-532 13614.5,-473 13614.5,-473 13614.5,-467 13620.5,-461 13626.5,-461 13626.5,-461 13824.5,-461 13824.5,-461 13830.5,-461 13836.5,-467 13836.5,-473 13836.5,-473 13836.5,-532 13836.5,-532 13836.5,-538 13830.5,-544 13824.5,-544\"/>\n<text text-anchor=\"middle\" x=\"13725.5\" y=\"-528.8\" font-family=\"Helvetica,sans-Serif\" font-size=\"14.00\">pix34 &lt;= 9.5</text>\n<text text-anchor=\"middle\" x=\"13725.5\" y=\"-513.8\" font-family=\"Helvetica,sans-Serif\" font-size=\"14.00\">gini = 0.328</text>\n<text text-anchor=\"middle\" x=\"13725.5\" y=\"-498.8\" font-family=\"Helvetica,sans-Serif\" font-size=\"14.00\">samples = 81</text>\n<text text-anchor=\"middle\" x=\"13725.5\" y=\"-483.8\" font-family=\"Helvetica,sans-Serif\" font-size=\"14.00\">value = [0, 1, 66, 2, 2, 0, 0, 4, 5, 1]</text>\n<text text-anchor=\"middle\" x=\"13725.5\" y=\"-468.8\" font-family=\"Helvetica,sans-Serif\" font-size=\"14.00\">class = 2</text>\n</g>\n<!-- 179&#45;&gt;180 -->\n<g id=\"edge180\" class=\"edge\">\n<title>179&#45;&gt;180</title>\n<path fill=\"none\" stroke=\"black\" d=\"M14110.71,-590.22C14025.52,-571.04 13923.95,-548.18 13846.5,-530.74\"/>\n<polygon fill=\"black\" stroke=\"black\" points=\"13847.23,-527.32 13836.7,-528.54 13845.69,-534.15 13847.23,-527.32\"/>\n</g>\n<!-- 195 -->\n<g id=\"node196\" class=\"node\">\n<title>195</title>\n<path fill=\"#fadcf4\" stroke=\"black\" d=\"M14764.5,-544C14764.5,-544 14536.5,-544 14536.5,-544 14530.5,-544 14524.5,-538 14524.5,-532 14524.5,-532 14524.5,-473 14524.5,-473 14524.5,-467 14530.5,-461 14536.5,-461 14536.5,-461 14764.5,-461 14764.5,-461 14770.5,-461 14776.5,-467 14776.5,-473 14776.5,-473 14776.5,-532 14776.5,-532 14776.5,-538 14770.5,-544 14764.5,-544\"/>\n<text text-anchor=\"middle\" x=\"14650.5\" y=\"-528.8\" font-family=\"Helvetica,sans-Serif\" font-size=\"14.00\">pix20 &lt;= 15.5</text>\n<text text-anchor=\"middle\" x=\"14650.5\" y=\"-513.8\" font-family=\"Helvetica,sans-Serif\" font-size=\"14.00\">gini = 0.655</text>\n<text text-anchor=\"middle\" x=\"14650.5\" y=\"-498.8\" font-family=\"Helvetica,sans-Serif\" font-size=\"14.00\">samples = 216</text>\n<text text-anchor=\"middle\" x=\"14650.5\" y=\"-483.8\" font-family=\"Helvetica,sans-Serif\" font-size=\"14.00\">value = [3, 75, 18, 10, 3, 0, 1, 2, 100, 4]</text>\n<text text-anchor=\"middle\" x=\"14650.5\" y=\"-468.8\" font-family=\"Helvetica,sans-Serif\" font-size=\"14.00\">class = 8</text>\n</g>\n<!-- 179&#45;&gt;195 -->\n<g id=\"edge195\" class=\"edge\">\n<title>179&#45;&gt;195</title>\n<path fill=\"none\" stroke=\"black\" d=\"M14422.06,-579.95C14454.13,-569.22 14487.98,-557.89 14519.51,-547.34\"/>\n<polygon fill=\"black\" stroke=\"black\" points=\"14520.85,-550.58 14529.22,-544.09 14518.63,-543.94 14520.85,-550.58\"/>\n</g>\n<!-- 181 -->\n<g id=\"node182\" class=\"node\">\n<title>181</title>\n<path fill=\"#88e84d\" stroke=\"black\" d=\"M13473.5,-425C13473.5,-425 13275.5,-425 13275.5,-425 13269.5,-425 13263.5,-419 13263.5,-413 13263.5,-413 13263.5,-354 13263.5,-354 13263.5,-348 13269.5,-342 13275.5,-342 13275.5,-342 13473.5,-342 13473.5,-342 13479.5,-342 13485.5,-348 13485.5,-354 13485.5,-354 13485.5,-413 13485.5,-413 13485.5,-419 13479.5,-425 13473.5,-425\"/>\n<text text-anchor=\"middle\" x=\"13374.5\" y=\"-409.8\" font-family=\"Helvetica,sans-Serif\" font-size=\"14.00\">pix6 &lt;= 5.0</text>\n<text text-anchor=\"middle\" x=\"13374.5\" y=\"-394.8\" font-family=\"Helvetica,sans-Serif\" font-size=\"14.00\">gini = 0.18</text>\n<text text-anchor=\"middle\" x=\"13374.5\" y=\"-379.8\" font-family=\"Helvetica,sans-Serif\" font-size=\"14.00\">samples = 73</text>\n<text text-anchor=\"middle\" x=\"13374.5\" y=\"-364.8\" font-family=\"Helvetica,sans-Serif\" font-size=\"14.00\">value = [0, 1, 66, 2, 0, 0, 0, 3, 1, 0]</text>\n<text text-anchor=\"middle\" x=\"13374.5\" y=\"-349.8\" font-family=\"Helvetica,sans-Serif\" font-size=\"14.00\">class = 2</text>\n</g>\n<!-- 180&#45;&gt;181 -->\n<g id=\"edge181\" class=\"edge\">\n<title>180&#45;&gt;181</title>\n<path fill=\"none\" stroke=\"black\" d=\"M13614.44,-464.48C13576.58,-451.86 13534.07,-437.69 13495.46,-424.82\"/>\n<polygon fill=\"black\" stroke=\"black\" points=\"13496.33,-421.42 13485.74,-421.58 13494.12,-428.06 13496.33,-421.42\"/>\n</g>\n<!-- 188 -->\n<g id=\"node189\" class=\"node\">\n<title>188</title>\n<path fill=\"#f6bdea\" stroke=\"black\" d=\"M13821,-425C13821,-425 13630,-425 13630,-425 13624,-425 13618,-419 13618,-413 13618,-413 13618,-354 13618,-354 13618,-348 13624,-342 13630,-342 13630,-342 13821,-342 13821,-342 13827,-342 13833,-348 13833,-354 13833,-354 13833,-413 13833,-413 13833,-419 13827,-425 13821,-425\"/>\n<text text-anchor=\"middle\" x=\"13725.5\" y=\"-409.8\" font-family=\"Helvetica,sans-Serif\" font-size=\"14.00\">pix38 &lt;= 1.0</text>\n<text text-anchor=\"middle\" x=\"13725.5\" y=\"-394.8\" font-family=\"Helvetica,sans-Serif\" font-size=\"14.00\">gini = 0.656</text>\n<text text-anchor=\"middle\" x=\"13725.5\" y=\"-379.8\" font-family=\"Helvetica,sans-Serif\" font-size=\"14.00\">samples = 8</text>\n<text text-anchor=\"middle\" x=\"13725.5\" y=\"-364.8\" font-family=\"Helvetica,sans-Serif\" font-size=\"14.00\">value = [0, 0, 0, 0, 2, 0, 0, 1, 4, 1]</text>\n<text text-anchor=\"middle\" x=\"13725.5\" y=\"-349.8\" font-family=\"Helvetica,sans-Serif\" font-size=\"14.00\">class = 8</text>\n</g>\n<!-- 180&#45;&gt;188 -->\n<g id=\"edge188\" class=\"edge\">\n<title>180&#45;&gt;188</title>\n<path fill=\"none\" stroke=\"black\" d=\"M13725.5,-460.91C13725.5,-452.65 13725.5,-443.86 13725.5,-435.3\"/>\n<polygon fill=\"black\" stroke=\"black\" points=\"13729,-435.02 13725.5,-425.02 13722,-435.02 13729,-435.02\"/>\n</g>\n<!-- 182 -->\n<g id=\"node183\" class=\"node\">\n<title>182</title>\n<path fill=\"#83e745\" stroke=\"black\" d=\"M13236.5,-306C13236.5,-306 13038.5,-306 13038.5,-306 13032.5,-306 13026.5,-300 13026.5,-294 13026.5,-294 13026.5,-235 13026.5,-235 13026.5,-229 13032.5,-223 13038.5,-223 13038.5,-223 13236.5,-223 13236.5,-223 13242.5,-223 13248.5,-229 13248.5,-235 13248.5,-235 13248.5,-294 13248.5,-294 13248.5,-300 13242.5,-306 13236.5,-306\"/>\n<text text-anchor=\"middle\" x=\"13137.5\" y=\"-290.8\" font-family=\"Helvetica,sans-Serif\" font-size=\"14.00\">pix52 &lt;= 0.5</text>\n<text text-anchor=\"middle\" x=\"13137.5\" y=\"-275.8\" font-family=\"Helvetica,sans-Serif\" font-size=\"14.00\">gini = 0.11</text>\n<text text-anchor=\"middle\" x=\"13137.5\" y=\"-260.8\" font-family=\"Helvetica,sans-Serif\" font-size=\"14.00\">samples = 70</text>\n<text text-anchor=\"middle\" x=\"13137.5\" y=\"-245.8\" font-family=\"Helvetica,sans-Serif\" font-size=\"14.00\">value = [0, 1, 66, 2, 0, 0, 0, 0, 1, 0]</text>\n<text text-anchor=\"middle\" x=\"13137.5\" y=\"-230.8\" font-family=\"Helvetica,sans-Serif\" font-size=\"14.00\">class = 2</text>\n</g>\n<!-- 181&#45;&gt;182 -->\n<g id=\"edge182\" class=\"edge\">\n<title>181&#45;&gt;182</title>\n<path fill=\"none\" stroke=\"black\" d=\"M13292.27,-341.91C13271.78,-331.79 13249.68,-320.88 13228.77,-310.56\"/>\n<polygon fill=\"black\" stroke=\"black\" points=\"13230.1,-307.31 13219.58,-306.02 13227,-313.59 13230.1,-307.31\"/>\n</g>\n<!-- 187 -->\n<g id=\"node188\" class=\"node\">\n<title>187</title>\n<path fill=\"#a339e5\" stroke=\"black\" d=\"M13470,-298.5C13470,-298.5 13279,-298.5 13279,-298.5 13273,-298.5 13267,-292.5 13267,-286.5 13267,-286.5 13267,-242.5 13267,-242.5 13267,-236.5 13273,-230.5 13279,-230.5 13279,-230.5 13470,-230.5 13470,-230.5 13476,-230.5 13482,-236.5 13482,-242.5 13482,-242.5 13482,-286.5 13482,-286.5 13482,-292.5 13476,-298.5 13470,-298.5\"/>\n<text text-anchor=\"middle\" x=\"13374.5\" y=\"-283.3\" font-family=\"Helvetica,sans-Serif\" font-size=\"14.00\">gini = 0.0</text>\n<text text-anchor=\"middle\" x=\"13374.5\" y=\"-268.3\" font-family=\"Helvetica,sans-Serif\" font-size=\"14.00\">samples = 3</text>\n<text text-anchor=\"middle\" x=\"13374.5\" y=\"-253.3\" font-family=\"Helvetica,sans-Serif\" font-size=\"14.00\">value = [0, 0, 0, 0, 0, 0, 0, 3, 0, 0]</text>\n<text text-anchor=\"middle\" x=\"13374.5\" y=\"-238.3\" font-family=\"Helvetica,sans-Serif\" font-size=\"14.00\">class = 7</text>\n</g>\n<!-- 181&#45;&gt;187 -->\n<g id=\"edge187\" class=\"edge\">\n<title>181&#45;&gt;187</title>\n<path fill=\"none\" stroke=\"black\" d=\"M13374.5,-341.91C13374.5,-331.2 13374.5,-319.62 13374.5,-308.78\"/>\n<polygon fill=\"black\" stroke=\"black\" points=\"13378,-308.67 13374.5,-298.67 13371,-308.67 13378,-308.67\"/>\n</g>\n<!-- 183 -->\n<g id=\"node184\" class=\"node\">\n<title>183</title>\n<path fill=\"#e539c0\" stroke=\"black\" d=\"M13113,-179.5C13113,-179.5 12922,-179.5 12922,-179.5 12916,-179.5 12910,-173.5 12910,-167.5 12910,-167.5 12910,-123.5 12910,-123.5 12910,-117.5 12916,-111.5 12922,-111.5 12922,-111.5 13113,-111.5 13113,-111.5 13119,-111.5 13125,-117.5 13125,-123.5 13125,-123.5 13125,-167.5 13125,-167.5 13125,-173.5 13119,-179.5 13113,-179.5\"/>\n<text text-anchor=\"middle\" x=\"13017.5\" y=\"-164.3\" font-family=\"Helvetica,sans-Serif\" font-size=\"14.00\">gini = 0.0</text>\n<text text-anchor=\"middle\" x=\"13017.5\" y=\"-149.3\" font-family=\"Helvetica,sans-Serif\" font-size=\"14.00\">samples = 1</text>\n<text text-anchor=\"middle\" x=\"13017.5\" y=\"-134.3\" font-family=\"Helvetica,sans-Serif\" font-size=\"14.00\">value = [0, 0, 0, 0, 0, 0, 0, 0, 1, 0]</text>\n<text text-anchor=\"middle\" x=\"13017.5\" y=\"-119.3\" font-family=\"Helvetica,sans-Serif\" font-size=\"14.00\">class = 8</text>\n</g>\n<!-- 182&#45;&gt;183 -->\n<g id=\"edge183\" class=\"edge\">\n<title>182&#45;&gt;183</title>\n<path fill=\"none\" stroke=\"black\" d=\"M13095.87,-222.91C13083.87,-211.21 13070.79,-198.46 13058.81,-186.78\"/>\n<polygon fill=\"black\" stroke=\"black\" points=\"13061.12,-184.14 13051.52,-179.67 13056.23,-189.15 13061.12,-184.14\"/>\n</g>\n<!-- 184 -->\n<g id=\"node185\" class=\"node\">\n<title>184</title>\n<path fill=\"#81e642\" stroke=\"black\" d=\"M13353.5,-187C13353.5,-187 13155.5,-187 13155.5,-187 13149.5,-187 13143.5,-181 13143.5,-175 13143.5,-175 13143.5,-116 13143.5,-116 13143.5,-110 13149.5,-104 13155.5,-104 13155.5,-104 13353.5,-104 13353.5,-104 13359.5,-104 13365.5,-110 13365.5,-116 13365.5,-116 13365.5,-175 13365.5,-175 13365.5,-181 13359.5,-187 13353.5,-187\"/>\n<text text-anchor=\"middle\" x=\"13254.5\" y=\"-171.8\" font-family=\"Helvetica,sans-Serif\" font-size=\"14.00\">pix61 &lt;= 0.5</text>\n<text text-anchor=\"middle\" x=\"13254.5\" y=\"-156.8\" font-family=\"Helvetica,sans-Serif\" font-size=\"14.00\">gini = 0.084</text>\n<text text-anchor=\"middle\" x=\"13254.5\" y=\"-141.8\" font-family=\"Helvetica,sans-Serif\" font-size=\"14.00\">samples = 69</text>\n<text text-anchor=\"middle\" x=\"13254.5\" y=\"-126.8\" font-family=\"Helvetica,sans-Serif\" font-size=\"14.00\">value = [0, 1, 66, 2, 0, 0, 0, 0, 0, 0]</text>\n<text text-anchor=\"middle\" x=\"13254.5\" y=\"-111.8\" font-family=\"Helvetica,sans-Serif\" font-size=\"14.00\">class = 2</text>\n</g>\n<!-- 182&#45;&gt;184 -->\n<g id=\"edge184\" class=\"edge\">\n<title>182&#45;&gt;184</title>\n<path fill=\"none\" stroke=\"black\" d=\"M13178.09,-222.91C13187.35,-213.65 13197.27,-203.73 13206.79,-194.21\"/>\n<polygon fill=\"black\" stroke=\"black\" points=\"13209.38,-196.57 13213.98,-187.02 13204.43,-191.62 13209.38,-196.57\"/>\n</g>\n<!-- 185 -->\n<g id=\"node186\" class=\"node\">\n<title>185</title>\n<path fill=\"#39e55e\" stroke=\"black\" d=\"M13229,-68C13229,-68 13038,-68 13038,-68 13032,-68 13026,-62 13026,-56 13026,-56 13026,-12 13026,-12 13026,-6 13032,0 13038,0 13038,0 13229,0 13229,0 13235,0 13241,-6 13241,-12 13241,-12 13241,-56 13241,-56 13241,-62 13235,-68 13229,-68\"/>\n<text text-anchor=\"middle\" x=\"13133.5\" y=\"-52.8\" font-family=\"Helvetica,sans-Serif\" font-size=\"14.00\">gini = 0.0</text>\n<text text-anchor=\"middle\" x=\"13133.5\" y=\"-37.8\" font-family=\"Helvetica,sans-Serif\" font-size=\"14.00\">samples = 1</text>\n<text text-anchor=\"middle\" x=\"13133.5\" y=\"-22.8\" font-family=\"Helvetica,sans-Serif\" font-size=\"14.00\">value = [0, 0, 0, 1, 0, 0, 0, 0, 0, 0]</text>\n<text text-anchor=\"middle\" x=\"13133.5\" y=\"-7.8\" font-family=\"Helvetica,sans-Serif\" font-size=\"14.00\">class = 3</text>\n</g>\n<!-- 184&#45;&gt;185 -->\n<g id=\"edge185\" class=\"edge\">\n<title>184&#45;&gt;185</title>\n<path fill=\"none\" stroke=\"black\" d=\"M13209.44,-103.73C13199.16,-94.42 13188.25,-84.54 13177.99,-75.26\"/>\n<polygon fill=\"black\" stroke=\"black\" points=\"13180.06,-72.41 13170.3,-68.3 13175.36,-77.6 13180.06,-72.41\"/>\n</g>\n<!-- 186 -->\n<g id=\"node187\" class=\"node\">\n<title>186</title>\n<path fill=\"#7fe63f\" stroke=\"black\" d=\"M13469.5,-68C13469.5,-68 13271.5,-68 13271.5,-68 13265.5,-68 13259.5,-62 13259.5,-56 13259.5,-56 13259.5,-12 13259.5,-12 13259.5,-6 13265.5,0 13271.5,0 13271.5,0 13469.5,0 13469.5,0 13475.5,0 13481.5,-6 13481.5,-12 13481.5,-12 13481.5,-56 13481.5,-56 13481.5,-62 13475.5,-68 13469.5,-68\"/>\n<text text-anchor=\"middle\" x=\"13370.5\" y=\"-52.8\" font-family=\"Helvetica,sans-Serif\" font-size=\"14.00\">gini = 0.058</text>\n<text text-anchor=\"middle\" x=\"13370.5\" y=\"-37.8\" font-family=\"Helvetica,sans-Serif\" font-size=\"14.00\">samples = 68</text>\n<text text-anchor=\"middle\" x=\"13370.5\" y=\"-22.8\" font-family=\"Helvetica,sans-Serif\" font-size=\"14.00\">value = [0, 1, 66, 1, 0, 0, 0, 0, 0, 0]</text>\n<text text-anchor=\"middle\" x=\"13370.5\" y=\"-7.8\" font-family=\"Helvetica,sans-Serif\" font-size=\"14.00\">class = 2</text>\n</g>\n<!-- 184&#45;&gt;186 -->\n<g id=\"edge186\" class=\"edge\">\n<title>184&#45;&gt;186</title>\n<path fill=\"none\" stroke=\"black\" d=\"M13297.69,-103.73C13307.55,-94.42 13318.02,-84.54 13327.85,-75.26\"/>\n<polygon fill=\"black\" stroke=\"black\" points=\"13330.35,-77.71 13335.22,-68.3 13325.55,-72.62 13330.35,-77.71\"/>\n</g>\n<!-- 189 -->\n<g id=\"node190\" class=\"node\">\n<title>189</title>\n<path fill=\"#e539c0\" stroke=\"black\" d=\"M13703,-298.5C13703,-298.5 13512,-298.5 13512,-298.5 13506,-298.5 13500,-292.5 13500,-286.5 13500,-286.5 13500,-242.5 13500,-242.5 13500,-236.5 13506,-230.5 13512,-230.5 13512,-230.5 13703,-230.5 13703,-230.5 13709,-230.5 13715,-236.5 13715,-242.5 13715,-242.5 13715,-286.5 13715,-286.5 13715,-292.5 13709,-298.5 13703,-298.5\"/>\n<text text-anchor=\"middle\" x=\"13607.5\" y=\"-283.3\" font-family=\"Helvetica,sans-Serif\" font-size=\"14.00\">gini = 0.0</text>\n<text text-anchor=\"middle\" x=\"13607.5\" y=\"-268.3\" font-family=\"Helvetica,sans-Serif\" font-size=\"14.00\">samples = 4</text>\n<text text-anchor=\"middle\" x=\"13607.5\" y=\"-253.3\" font-family=\"Helvetica,sans-Serif\" font-size=\"14.00\">value = [0, 0, 0, 0, 0, 0, 0, 0, 4, 0]</text>\n<text text-anchor=\"middle\" x=\"13607.5\" y=\"-238.3\" font-family=\"Helvetica,sans-Serif\" font-size=\"14.00\">class = 8</text>\n</g>\n<!-- 188&#45;&gt;189 -->\n<g id=\"edge189\" class=\"edge\">\n<title>188&#45;&gt;189</title>\n<path fill=\"none\" stroke=\"black\" d=\"M13684.56,-341.91C13672.76,-330.21 13659.9,-317.46 13648.12,-305.78\"/>\n<polygon fill=\"black\" stroke=\"black\" points=\"13650.52,-303.22 13640.95,-298.67 13645.59,-308.19 13650.52,-303.22\"/>\n</g>\n<!-- 190 -->\n<g id=\"node191\" class=\"node\">\n<title>190</title>\n<path fill=\"#bdf6ec\" stroke=\"black\" d=\"M13936,-306C13936,-306 13745,-306 13745,-306 13739,-306 13733,-300 13733,-294 13733,-294 13733,-235 13733,-235 13733,-229 13739,-223 13745,-223 13745,-223 13936,-223 13936,-223 13942,-223 13948,-229 13948,-235 13948,-235 13948,-294 13948,-294 13948,-300 13942,-306 13936,-306\"/>\n<text text-anchor=\"middle\" x=\"13840.5\" y=\"-290.8\" font-family=\"Helvetica,sans-Serif\" font-size=\"14.00\">pix21 &lt;= 9.0</text>\n<text text-anchor=\"middle\" x=\"13840.5\" y=\"-275.8\" font-family=\"Helvetica,sans-Serif\" font-size=\"14.00\">gini = 0.625</text>\n<text text-anchor=\"middle\" x=\"13840.5\" y=\"-260.8\" font-family=\"Helvetica,sans-Serif\" font-size=\"14.00\">samples = 4</text>\n<text text-anchor=\"middle\" x=\"13840.5\" y=\"-245.8\" font-family=\"Helvetica,sans-Serif\" font-size=\"14.00\">value = [0, 0, 0, 0, 2, 0, 0, 1, 0, 1]</text>\n<text text-anchor=\"middle\" x=\"13840.5\" y=\"-230.8\" font-family=\"Helvetica,sans-Serif\" font-size=\"14.00\">class = 4</text>\n</g>\n<!-- 188&#45;&gt;190 -->\n<g id=\"edge190\" class=\"edge\">\n<title>188&#45;&gt;190</title>\n<path fill=\"none\" stroke=\"black\" d=\"M13765.4,-341.91C13774.5,-332.65 13784.25,-322.73 13793.61,-313.21\"/>\n<polygon fill=\"black\" stroke=\"black\" points=\"13796.16,-315.61 13800.67,-306.02 13791.17,-310.7 13796.16,-315.61\"/>\n</g>\n<!-- 191 -->\n<g id=\"node192\" class=\"node\">\n<title>191</title>\n<path fill=\"#39e5c5\" stroke=\"black\" d=\"M13703,-179.5C13703,-179.5 13512,-179.5 13512,-179.5 13506,-179.5 13500,-173.5 13500,-167.5 13500,-167.5 13500,-123.5 13500,-123.5 13500,-117.5 13506,-111.5 13512,-111.5 13512,-111.5 13703,-111.5 13703,-111.5 13709,-111.5 13715,-117.5 13715,-123.5 13715,-123.5 13715,-167.5 13715,-167.5 13715,-173.5 13709,-179.5 13703,-179.5\"/>\n<text text-anchor=\"middle\" x=\"13607.5\" y=\"-164.3\" font-family=\"Helvetica,sans-Serif\" font-size=\"14.00\">gini = 0.0</text>\n<text text-anchor=\"middle\" x=\"13607.5\" y=\"-149.3\" font-family=\"Helvetica,sans-Serif\" font-size=\"14.00\">samples = 2</text>\n<text text-anchor=\"middle\" x=\"13607.5\" y=\"-134.3\" font-family=\"Helvetica,sans-Serif\" font-size=\"14.00\">value = [0, 0, 0, 0, 2, 0, 0, 0, 0, 0]</text>\n<text text-anchor=\"middle\" x=\"13607.5\" y=\"-119.3\" font-family=\"Helvetica,sans-Serif\" font-size=\"14.00\">class = 4</text>\n</g>\n<!-- 190&#45;&gt;191 -->\n<g id=\"edge191\" class=\"edge\">\n<title>190&#45;&gt;191</title>\n<path fill=\"none\" stroke=\"black\" d=\"M13759.66,-222.91C13734.61,-210.33 13707.12,-196.53 13682.49,-184.16\"/>\n<polygon fill=\"black\" stroke=\"black\" points=\"13684.06,-181.03 13673.55,-179.67 13680.92,-187.28 13684.06,-181.03\"/>\n</g>\n<!-- 192 -->\n<g id=\"node193\" class=\"node\">\n<title>192</title>\n<path fill=\"#ffffff\" stroke=\"black\" d=\"M13936,-187C13936,-187 13745,-187 13745,-187 13739,-187 13733,-181 13733,-175 13733,-175 13733,-116 13733,-116 13733,-110 13739,-104 13745,-104 13745,-104 13936,-104 13936,-104 13942,-104 13948,-110 13948,-116 13948,-116 13948,-175 13948,-175 13948,-181 13942,-187 13936,-187\"/>\n<text text-anchor=\"middle\" x=\"13840.5\" y=\"-171.8\" font-family=\"Helvetica,sans-Serif\" font-size=\"14.00\">pix38 &lt;= 7.0</text>\n<text text-anchor=\"middle\" x=\"13840.5\" y=\"-156.8\" font-family=\"Helvetica,sans-Serif\" font-size=\"14.00\">gini = 0.5</text>\n<text text-anchor=\"middle\" x=\"13840.5\" y=\"-141.8\" font-family=\"Helvetica,sans-Serif\" font-size=\"14.00\">samples = 2</text>\n<text text-anchor=\"middle\" x=\"13840.5\" y=\"-126.8\" font-family=\"Helvetica,sans-Serif\" font-size=\"14.00\">value = [0, 0, 0, 0, 0, 0, 0, 1, 0, 1]</text>\n<text text-anchor=\"middle\" x=\"13840.5\" y=\"-111.8\" font-family=\"Helvetica,sans-Serif\" font-size=\"14.00\">class = 7</text>\n</g>\n<!-- 190&#45;&gt;192 -->\n<g id=\"edge192\" class=\"edge\">\n<title>190&#45;&gt;192</title>\n<path fill=\"none\" stroke=\"black\" d=\"M13840.5,-222.91C13840.5,-214.65 13840.5,-205.86 13840.5,-197.3\"/>\n<polygon fill=\"black\" stroke=\"black\" points=\"13844,-197.02 13840.5,-187.02 13837,-197.02 13844,-197.02\"/>\n</g>\n<!-- 193 -->\n<g id=\"node194\" class=\"node\">\n<title>193</title>\n<path fill=\"#e53958\" stroke=\"black\" d=\"M13703,-68C13703,-68 13512,-68 13512,-68 13506,-68 13500,-62 13500,-56 13500,-56 13500,-12 13500,-12 13500,-6 13506,0 13512,0 13512,0 13703,0 13703,0 13709,0 13715,-6 13715,-12 13715,-12 13715,-56 13715,-56 13715,-62 13709,-68 13703,-68\"/>\n<text text-anchor=\"middle\" x=\"13607.5\" y=\"-52.8\" font-family=\"Helvetica,sans-Serif\" font-size=\"14.00\">gini = 0.0</text>\n<text text-anchor=\"middle\" x=\"13607.5\" y=\"-37.8\" font-family=\"Helvetica,sans-Serif\" font-size=\"14.00\">samples = 1</text>\n<text text-anchor=\"middle\" x=\"13607.5\" y=\"-22.8\" font-family=\"Helvetica,sans-Serif\" font-size=\"14.00\">value = [0, 0, 0, 0, 0, 0, 0, 0, 0, 1]</text>\n<text text-anchor=\"middle\" x=\"13607.5\" y=\"-7.8\" font-family=\"Helvetica,sans-Serif\" font-size=\"14.00\">class = 9</text>\n</g>\n<!-- 192&#45;&gt;193 -->\n<g id=\"edge193\" class=\"edge\">\n<title>192&#45;&gt;193</title>\n<path fill=\"none\" stroke=\"black\" d=\"M13754.07,-103.88C13732.09,-93.55 13708.57,-82.5 13686.95,-72.34\"/>\n<polygon fill=\"black\" stroke=\"black\" points=\"13688.35,-69.13 13677.81,-68.04 13685.37,-75.46 13688.35,-69.13\"/>\n</g>\n<!-- 194 -->\n<g id=\"node195\" class=\"node\">\n<title>194</title>\n<path fill=\"#a339e5\" stroke=\"black\" d=\"M13936,-68C13936,-68 13745,-68 13745,-68 13739,-68 13733,-62 13733,-56 13733,-56 13733,-12 13733,-12 13733,-6 13739,0 13745,0 13745,0 13936,0 13936,0 13942,0 13948,-6 13948,-12 13948,-12 13948,-56 13948,-56 13948,-62 13942,-68 13936,-68\"/>\n<text text-anchor=\"middle\" x=\"13840.5\" y=\"-52.8\" font-family=\"Helvetica,sans-Serif\" font-size=\"14.00\">gini = 0.0</text>\n<text text-anchor=\"middle\" x=\"13840.5\" y=\"-37.8\" font-family=\"Helvetica,sans-Serif\" font-size=\"14.00\">samples = 1</text>\n<text text-anchor=\"middle\" x=\"13840.5\" y=\"-22.8\" font-family=\"Helvetica,sans-Serif\" font-size=\"14.00\">value = [0, 0, 0, 0, 0, 0, 0, 1, 0, 0]</text>\n<text text-anchor=\"middle\" x=\"13840.5\" y=\"-7.8\" font-family=\"Helvetica,sans-Serif\" font-size=\"14.00\">class = 7</text>\n</g>\n<!-- 192&#45;&gt;194 -->\n<g id=\"edge194\" class=\"edge\">\n<title>192&#45;&gt;194</title>\n<path fill=\"none\" stroke=\"black\" d=\"M13840.5,-103.73C13840.5,-95.52 13840.5,-86.86 13840.5,-78.56\"/>\n<polygon fill=\"black\" stroke=\"black\" points=\"13844,-78.3 13840.5,-68.3 13837,-78.3 13844,-78.3\"/>\n</g>\n<!-- 196 -->\n<g id=\"node197\" class=\"node\">\n<title>196</title>\n<path fill=\"#eb69cf\" stroke=\"black\" d=\"M14749.5,-425C14749.5,-425 14551.5,-425 14551.5,-425 14545.5,-425 14539.5,-419 14539.5,-413 14539.5,-413 14539.5,-354 14539.5,-354 14539.5,-348 14545.5,-342 14551.5,-342 14551.5,-342 14749.5,-342 14749.5,-342 14755.5,-342 14761.5,-348 14761.5,-354 14761.5,-354 14761.5,-413 14761.5,-413 14761.5,-419 14755.5,-425 14749.5,-425\"/>\n<text text-anchor=\"middle\" x=\"14650.5\" y=\"-409.8\" font-family=\"Helvetica,sans-Serif\" font-size=\"14.00\">pix21 &lt;= 4.5</text>\n<text text-anchor=\"middle\" x=\"14650.5\" y=\"-394.8\" font-family=\"Helvetica,sans-Serif\" font-size=\"14.00\">gini = 0.397</text>\n<text text-anchor=\"middle\" x=\"14650.5\" y=\"-379.8\" font-family=\"Helvetica,sans-Serif\" font-size=\"14.00\">samples = 118</text>\n<text text-anchor=\"middle\" x=\"14650.5\" y=\"-364.8\" font-family=\"Helvetica,sans-Serif\" font-size=\"14.00\">value = [3, 5, 4, 7, 1, 0, 1, 2, 91, 4]</text>\n<text text-anchor=\"middle\" x=\"14650.5\" y=\"-349.8\" font-family=\"Helvetica,sans-Serif\" font-size=\"14.00\">class = 8</text>\n</g>\n<!-- 195&#45;&gt;196 -->\n<g id=\"edge196\" class=\"edge\">\n<title>195&#45;&gt;196</title>\n<path fill=\"none\" stroke=\"black\" d=\"M14650.5,-460.91C14650.5,-452.65 14650.5,-443.86 14650.5,-435.3\"/>\n<polygon fill=\"black\" stroke=\"black\" points=\"14654,-435.02 14650.5,-425.02 14647,-435.02 14654,-435.02\"/>\n</g>\n<!-- 209 -->\n<g id=\"node210\" class=\"node\">\n<title>209</title>\n<path fill=\"#ecee7b\" stroke=\"black\" d=\"M15648.5,-425C15648.5,-425 15330.5,-425 15330.5,-425 15324.5,-425 15318.5,-419 15318.5,-413 15318.5,-413 15318.5,-354 15318.5,-354 15318.5,-348 15324.5,-342 15330.5,-342 15330.5,-342 15648.5,-342 15648.5,-342 15654.5,-342 15660.5,-348 15660.5,-354 15660.5,-354 15660.5,-413 15660.5,-413 15660.5,-419 15654.5,-425 15648.5,-425\"/>\n<text text-anchor=\"middle\" x=\"15489.5\" y=\"-409.8\" font-family=\"Helvetica,sans-Serif\" font-size=\"14.00\">pix44 &lt;= 6.5</text>\n<text text-anchor=\"middle\" x=\"15489.5\" y=\"-394.8\" font-family=\"Helvetica,sans-Serif\" font-size=\"14.00\">gini = 0.46</text>\n<text text-anchor=\"middle\" x=\"15489.5\" y=\"-379.8\" font-family=\"Helvetica,sans-Serif\" font-size=\"14.00\">samples = 98</text>\n<text text-anchor=\"middle\" x=\"15489.5\" y=\"-364.8\" font-family=\"Helvetica,sans-Serif\" font-size=\"14.00\">value = [0.0, 70.0, 14.0, 3.0, 2.0, 0.0, 0.0, 0.0, 9.0, 0.0]</text>\n<text text-anchor=\"middle\" x=\"15489.5\" y=\"-349.8\" font-family=\"Helvetica,sans-Serif\" font-size=\"14.00\">class = 1</text>\n</g>\n<!-- 195&#45;&gt;209 -->\n<g id=\"edge209\" class=\"edge\">\n<title>195&#45;&gt;209</title>\n<path fill=\"none\" stroke=\"black\" d=\"M14776.56,-483.92C14917.82,-464.22 15148,-432.12 15308.48,-409.74\"/>\n<polygon fill=\"black\" stroke=\"black\" points=\"15309.04,-413.2 15318.46,-408.35 15308.08,-406.27 15309.04,-413.2\"/>\n</g>\n<!-- 197 -->\n<g id=\"node198\" class=\"node\">\n<title>197</title>\n<path fill=\"#f5f6bd\" stroke=\"black\" d=\"M14599,-306C14599,-306 14408,-306 14408,-306 14402,-306 14396,-300 14396,-294 14396,-294 14396,-235 14396,-235 14396,-229 14402,-223 14408,-223 14408,-223 14599,-223 14599,-223 14605,-223 14611,-229 14611,-235 14611,-235 14611,-294 14611,-294 14611,-300 14605,-306 14599,-306\"/>\n<text text-anchor=\"middle\" x=\"14503.5\" y=\"-290.8\" font-family=\"Helvetica,sans-Serif\" font-size=\"14.00\">pix51 &lt;= 15.5</text>\n<text text-anchor=\"middle\" x=\"14503.5\" y=\"-275.8\" font-family=\"Helvetica,sans-Serif\" font-size=\"14.00\">gini = 0.711</text>\n<text text-anchor=\"middle\" x=\"14503.5\" y=\"-260.8\" font-family=\"Helvetica,sans-Serif\" font-size=\"14.00\">samples = 11</text>\n<text text-anchor=\"middle\" x=\"14503.5\" y=\"-245.8\" font-family=\"Helvetica,sans-Serif\" font-size=\"14.00\">value = [0, 5, 2, 0, 0, 0, 1, 1, 2, 0]</text>\n<text text-anchor=\"middle\" x=\"14503.5\" y=\"-230.8\" font-family=\"Helvetica,sans-Serif\" font-size=\"14.00\">class = 1</text>\n</g>\n<!-- 196&#45;&gt;197 -->\n<g id=\"edge197\" class=\"edge\">\n<title>196&#45;&gt;197</title>\n<path fill=\"none\" stroke=\"black\" d=\"M14599.5,-341.91C14587.53,-332.38 14574.67,-322.15 14562.39,-312.37\"/>\n<polygon fill=\"black\" stroke=\"black\" points=\"14564.41,-309.51 14554.41,-306.02 14560.06,-314.99 14564.41,-309.51\"/>\n</g>\n<!-- 202 -->\n<g id=\"node203\" class=\"node\">\n<title>202</title>\n<path fill=\"#ea5dcb\" stroke=\"black\" d=\"M14952,-306C14952,-306 14641,-306 14641,-306 14635,-306 14629,-300 14629,-294 14629,-294 14629,-235 14629,-235 14629,-229 14635,-223 14641,-223 14641,-223 14952,-223 14952,-223 14958,-223 14964,-229 14964,-235 14964,-235 14964,-294 14964,-294 14964,-300 14958,-306 14952,-306\"/>\n<text text-anchor=\"middle\" x=\"14796.5\" y=\"-290.8\" font-family=\"Helvetica,sans-Serif\" font-size=\"14.00\">pix38 &lt;= 3.5</text>\n<text text-anchor=\"middle\" x=\"14796.5\" y=\"-275.8\" font-family=\"Helvetica,sans-Serif\" font-size=\"14.00\">gini = 0.301</text>\n<text text-anchor=\"middle\" x=\"14796.5\" y=\"-260.8\" font-family=\"Helvetica,sans-Serif\" font-size=\"14.00\">samples = 107</text>\n<text text-anchor=\"middle\" x=\"14796.5\" y=\"-245.8\" font-family=\"Helvetica,sans-Serif\" font-size=\"14.00\">value = [3.0, 0.0, 2.0, 7.0, 1.0, 0.0, 0.0, 1.0, 89.0, 4.0]</text>\n<text text-anchor=\"middle\" x=\"14796.5\" y=\"-230.8\" font-family=\"Helvetica,sans-Serif\" font-size=\"14.00\">class = 8</text>\n</g>\n<!-- 196&#45;&gt;202 -->\n<g id=\"edge202\" class=\"edge\">\n<title>196&#45;&gt;202</title>\n<path fill=\"none\" stroke=\"black\" d=\"M14701.15,-341.91C14713.04,-332.38 14725.81,-322.15 14738.01,-312.37\"/>\n<polygon fill=\"black\" stroke=\"black\" points=\"14740.32,-315.01 14745.94,-306.02 14735.94,-309.54 14740.32,-315.01\"/>\n</g>\n<!-- 198 -->\n<g id=\"node199\" class=\"node\">\n<title>198</title>\n<path fill=\"#ffffff\" stroke=\"black\" d=\"M14390,-187C14390,-187 14199,-187 14199,-187 14193,-187 14187,-181 14187,-175 14187,-175 14187,-116 14187,-116 14187,-110 14193,-104 14199,-104 14199,-104 14390,-104 14390,-104 14396,-104 14402,-110 14402,-116 14402,-116 14402,-175 14402,-175 14402,-181 14396,-187 14390,-187\"/>\n<text text-anchor=\"middle\" x=\"14294.5\" y=\"-171.8\" font-family=\"Helvetica,sans-Serif\" font-size=\"14.00\">pix5 &lt;= 0.5</text>\n<text text-anchor=\"middle\" x=\"14294.5\" y=\"-156.8\" font-family=\"Helvetica,sans-Serif\" font-size=\"14.00\">gini = 0.722</text>\n<text text-anchor=\"middle\" x=\"14294.5\" y=\"-141.8\" font-family=\"Helvetica,sans-Serif\" font-size=\"14.00\">samples = 6</text>\n<text text-anchor=\"middle\" x=\"14294.5\" y=\"-126.8\" font-family=\"Helvetica,sans-Serif\" font-size=\"14.00\">value = [0, 0, 2, 0, 0, 0, 1, 1, 2, 0]</text>\n<text text-anchor=\"middle\" x=\"14294.5\" y=\"-111.8\" font-family=\"Helvetica,sans-Serif\" font-size=\"14.00\">class = 2</text>\n</g>\n<!-- 197&#45;&gt;198 -->\n<g id=\"edge198\" class=\"edge\">\n<title>197&#45;&gt;198</title>\n<path fill=\"none\" stroke=\"black\" d=\"M14430.99,-222.91C14413.16,-212.92 14393.95,-202.17 14375.73,-191.98\"/>\n<polygon fill=\"black\" stroke=\"black\" points=\"14377.32,-188.85 14366.88,-187.02 14373.9,-194.96 14377.32,-188.85\"/>\n</g>\n<!-- 201 -->\n<g id=\"node202\" class=\"node\">\n<title>201</title>\n<path fill=\"#e2e539\" stroke=\"black\" d=\"M14623,-179.5C14623,-179.5 14432,-179.5 14432,-179.5 14426,-179.5 14420,-173.5 14420,-167.5 14420,-167.5 14420,-123.5 14420,-123.5 14420,-117.5 14426,-111.5 14432,-111.5 14432,-111.5 14623,-111.5 14623,-111.5 14629,-111.5 14635,-117.5 14635,-123.5 14635,-123.5 14635,-167.5 14635,-167.5 14635,-173.5 14629,-179.5 14623,-179.5\"/>\n<text text-anchor=\"middle\" x=\"14527.5\" y=\"-164.3\" font-family=\"Helvetica,sans-Serif\" font-size=\"14.00\">gini = 0.0</text>\n<text text-anchor=\"middle\" x=\"14527.5\" y=\"-149.3\" font-family=\"Helvetica,sans-Serif\" font-size=\"14.00\">samples = 5</text>\n<text text-anchor=\"middle\" x=\"14527.5\" y=\"-134.3\" font-family=\"Helvetica,sans-Serif\" font-size=\"14.00\">value = [0, 5, 0, 0, 0, 0, 0, 0, 0, 0]</text>\n<text text-anchor=\"middle\" x=\"14527.5\" y=\"-119.3\" font-family=\"Helvetica,sans-Serif\" font-size=\"14.00\">class = 1</text>\n</g>\n<!-- 197&#45;&gt;201 -->\n<g id=\"edge201\" class=\"edge\">\n<title>197&#45;&gt;201</title>\n<path fill=\"none\" stroke=\"black\" d=\"M14511.83,-222.91C14514.02,-212.2 14516.4,-200.62 14518.62,-189.78\"/>\n<polygon fill=\"black\" stroke=\"black\" points=\"14522.12,-190.17 14520.7,-179.67 14515.26,-188.76 14522.12,-190.17\"/>\n</g>\n<!-- 199 -->\n<g id=\"node200\" class=\"node\">\n<title>199</title>\n<path fill=\"#7be539\" stroke=\"black\" d=\"M14169,-68C14169,-68 13978,-68 13978,-68 13972,-68 13966,-62 13966,-56 13966,-56 13966,-12 13966,-12 13966,-6 13972,0 13978,0 13978,0 14169,0 14169,0 14175,0 14181,-6 14181,-12 14181,-12 14181,-56 14181,-56 14181,-62 14175,-68 14169,-68\"/>\n<text text-anchor=\"middle\" x=\"14073.5\" y=\"-52.8\" font-family=\"Helvetica,sans-Serif\" font-size=\"14.00\">gini = 0.0</text>\n<text text-anchor=\"middle\" x=\"14073.5\" y=\"-37.8\" font-family=\"Helvetica,sans-Serif\" font-size=\"14.00\">samples = 2</text>\n<text text-anchor=\"middle\" x=\"14073.5\" y=\"-22.8\" font-family=\"Helvetica,sans-Serif\" font-size=\"14.00\">value = [0, 0, 2, 0, 0, 0, 0, 0, 0, 0]</text>\n<text text-anchor=\"middle\" x=\"14073.5\" y=\"-7.8\" font-family=\"Helvetica,sans-Serif\" font-size=\"14.00\">class = 2</text>\n</g>\n<!-- 198&#45;&gt;199 -->\n<g id=\"edge199\" class=\"edge\">\n<title>198&#45;&gt;199</title>\n<path fill=\"none\" stroke=\"black\" d=\"M14212.52,-103.88C14191.86,-93.64 14169.76,-82.69 14149.41,-72.61\"/>\n<polygon fill=\"black\" stroke=\"black\" points=\"14150.7,-69.35 14140.19,-68.04 14147.6,-75.62 14150.7,-69.35\"/>\n</g>\n<!-- 200 -->\n<g id=\"node201\" class=\"node\">\n<title>200</title>\n<path fill=\"#f6bdea\" stroke=\"black\" d=\"M14402,-68C14402,-68 14211,-68 14211,-68 14205,-68 14199,-62 14199,-56 14199,-56 14199,-12 14199,-12 14199,-6 14205,0 14211,0 14211,0 14402,0 14402,0 14408,0 14414,-6 14414,-12 14414,-12 14414,-56 14414,-56 14414,-62 14408,-68 14402,-68\"/>\n<text text-anchor=\"middle\" x=\"14306.5\" y=\"-52.8\" font-family=\"Helvetica,sans-Serif\" font-size=\"14.00\">gini = 0.625</text>\n<text text-anchor=\"middle\" x=\"14306.5\" y=\"-37.8\" font-family=\"Helvetica,sans-Serif\" font-size=\"14.00\">samples = 4</text>\n<text text-anchor=\"middle\" x=\"14306.5\" y=\"-22.8\" font-family=\"Helvetica,sans-Serif\" font-size=\"14.00\">value = [0, 0, 0, 0, 0, 0, 1, 1, 2, 0]</text>\n<text text-anchor=\"middle\" x=\"14306.5\" y=\"-7.8\" font-family=\"Helvetica,sans-Serif\" font-size=\"14.00\">class = 8</text>\n</g>\n<!-- 198&#45;&gt;200 -->\n<g id=\"edge200\" class=\"edge\">\n<title>198&#45;&gt;200</title>\n<path fill=\"none\" stroke=\"black\" d=\"M14298.97,-103.73C14299.88,-95.43 14300.84,-86.67 14301.76,-78.28\"/>\n<polygon fill=\"black\" stroke=\"black\" points=\"14305.24,-78.62 14302.85,-68.3 14298.28,-77.86 14305.24,-78.62\"/>\n</g>\n<!-- 203 -->\n<g id=\"node204\" class=\"node\">\n<title>203</title>\n<path fill=\"#e852c8\" stroke=\"black\" d=\"M14882.5,-187C14882.5,-187 14684.5,-187 14684.5,-187 14678.5,-187 14672.5,-181 14672.5,-175 14672.5,-175 14672.5,-116 14672.5,-116 14672.5,-110 14678.5,-104 14684.5,-104 14684.5,-104 14882.5,-104 14882.5,-104 14888.5,-104 14894.5,-110 14894.5,-116 14894.5,-116 14894.5,-175 14894.5,-175 14894.5,-181 14888.5,-187 14882.5,-187\"/>\n<text text-anchor=\"middle\" x=\"14783.5\" y=\"-171.8\" font-family=\"Helvetica,sans-Serif\" font-size=\"14.00\">pix50 &lt;= 2.5</text>\n<text text-anchor=\"middle\" x=\"14783.5\" y=\"-156.8\" font-family=\"Helvetica,sans-Serif\" font-size=\"14.00\">gini = 0.219</text>\n<text text-anchor=\"middle\" x=\"14783.5\" y=\"-141.8\" font-family=\"Helvetica,sans-Serif\" font-size=\"14.00\">samples = 101</text>\n<text text-anchor=\"middle\" x=\"14783.5\" y=\"-126.8\" font-family=\"Helvetica,sans-Serif\" font-size=\"14.00\">value = [1, 0, 2, 6, 0, 0, 0, 0, 89, 3]</text>\n<text text-anchor=\"middle\" x=\"14783.5\" y=\"-111.8\" font-family=\"Helvetica,sans-Serif\" font-size=\"14.00\">class = 8</text>\n</g>\n<!-- 202&#45;&gt;203 -->\n<g id=\"edge203\" class=\"edge\">\n<title>202&#45;&gt;203</title>\n<path fill=\"none\" stroke=\"black\" d=\"M14791.99,-222.91C14791.06,-214.56 14790.07,-205.67 14789.11,-197.02\"/>\n<polygon fill=\"black\" stroke=\"black\" points=\"14792.59,-196.57 14788,-187.02 14785.63,-197.35 14792.59,-196.57\"/>\n</g>\n<!-- 206 -->\n<g id=\"node207\" class=\"node\">\n<title>206</title>\n<path fill=\"#fae6d7\" stroke=\"black\" d=\"M15116,-187C15116,-187 14925,-187 14925,-187 14919,-187 14913,-181 14913,-175 14913,-175 14913,-116 14913,-116 14913,-110 14919,-104 14925,-104 14925,-104 15116,-104 15116,-104 15122,-104 15128,-110 15128,-116 15128,-116 15128,-175 15128,-175 15128,-181 15122,-187 15116,-187\"/>\n<text text-anchor=\"middle\" x=\"15020.5\" y=\"-171.8\" font-family=\"Helvetica,sans-Serif\" font-size=\"14.00\">pix52 &lt;= 14.5</text>\n<text text-anchor=\"middle\" x=\"15020.5\" y=\"-156.8\" font-family=\"Helvetica,sans-Serif\" font-size=\"14.00\">gini = 0.778</text>\n<text text-anchor=\"middle\" x=\"15020.5\" y=\"-141.8\" font-family=\"Helvetica,sans-Serif\" font-size=\"14.00\">samples = 6</text>\n<text text-anchor=\"middle\" x=\"15020.5\" y=\"-126.8\" font-family=\"Helvetica,sans-Serif\" font-size=\"14.00\">value = [2, 0, 0, 1, 1, 0, 0, 1, 0, 1]</text>\n<text text-anchor=\"middle\" x=\"15020.5\" y=\"-111.8\" font-family=\"Helvetica,sans-Serif\" font-size=\"14.00\">class = 0</text>\n</g>\n<!-- 202&#45;&gt;206 -->\n<g id=\"edge206\" class=\"edge\">\n<title>202&#45;&gt;206</title>\n<path fill=\"none\" stroke=\"black\" d=\"M14874.22,-222.91C14893.5,-212.83 14914.29,-201.98 14933.97,-191.7\"/>\n<polygon fill=\"black\" stroke=\"black\" points=\"14935.68,-194.75 14942.92,-187.02 14932.44,-188.55 14935.68,-194.75\"/>\n</g>\n<!-- 204 -->\n<g id=\"node205\" class=\"node\">\n<title>204</title>\n<path fill=\"#f5b3e7\" stroke=\"black\" d=\"M14642.5,-68C14642.5,-68 14444.5,-68 14444.5,-68 14438.5,-68 14432.5,-62 14432.5,-56 14432.5,-56 14432.5,-12 14432.5,-12 14432.5,-6 14438.5,0 14444.5,0 14444.5,0 14642.5,0 14642.5,0 14648.5,0 14654.5,-6 14654.5,-12 14654.5,-12 14654.5,-56 14654.5,-56 14654.5,-62 14648.5,-68 14642.5,-68\"/>\n<text text-anchor=\"middle\" x=\"14543.5\" y=\"-52.8\" font-family=\"Helvetica,sans-Serif\" font-size=\"14.00\">gini = 0.586</text>\n<text text-anchor=\"middle\" x=\"14543.5\" y=\"-37.8\" font-family=\"Helvetica,sans-Serif\" font-size=\"14.00\">samples = 18</text>\n<text text-anchor=\"middle\" x=\"14543.5\" y=\"-22.8\" font-family=\"Helvetica,sans-Serif\" font-size=\"14.00\">value = [0, 0, 0, 5, 0, 0, 0, 0, 10, 3]</text>\n<text text-anchor=\"middle\" x=\"14543.5\" y=\"-7.8\" font-family=\"Helvetica,sans-Serif\" font-size=\"14.00\">class = 8</text>\n</g>\n<!-- 203&#45;&gt;204 -->\n<g id=\"edge204\" class=\"edge\">\n<title>203&#45;&gt;204</title>\n<path fill=\"none\" stroke=\"black\" d=\"M14694.47,-103.88C14671.73,-93.5 14647.39,-82.4 14625.04,-72.2\"/>\n<polygon fill=\"black\" stroke=\"black\" points=\"14626.47,-69.01 14615.92,-68.04 14623.57,-75.38 14626.47,-69.01\"/>\n</g>\n<!-- 205 -->\n<g id=\"node206\" class=\"node\">\n<title>205</title>\n<path fill=\"#e643c3\" stroke=\"black\" d=\"M14882.5,-68C14882.5,-68 14684.5,-68 14684.5,-68 14678.5,-68 14672.5,-62 14672.5,-56 14672.5,-56 14672.5,-12 14672.5,-12 14672.5,-6 14678.5,0 14684.5,0 14684.5,0 14882.5,0 14882.5,0 14888.5,0 14894.5,-6 14894.5,-12 14894.5,-12 14894.5,-56 14894.5,-56 14894.5,-62 14888.5,-68 14882.5,-68\"/>\n<text text-anchor=\"middle\" x=\"14783.5\" y=\"-52.8\" font-family=\"Helvetica,sans-Serif\" font-size=\"14.00\">gini = 0.093</text>\n<text text-anchor=\"middle\" x=\"14783.5\" y=\"-37.8\" font-family=\"Helvetica,sans-Serif\" font-size=\"14.00\">samples = 83</text>\n<text text-anchor=\"middle\" x=\"14783.5\" y=\"-22.8\" font-family=\"Helvetica,sans-Serif\" font-size=\"14.00\">value = [1, 0, 2, 1, 0, 0, 0, 0, 79, 0]</text>\n<text text-anchor=\"middle\" x=\"14783.5\" y=\"-7.8\" font-family=\"Helvetica,sans-Serif\" font-size=\"14.00\">class = 8</text>\n</g>\n<!-- 203&#45;&gt;205 -->\n<g id=\"edge205\" class=\"edge\">\n<title>203&#45;&gt;205</title>\n<path fill=\"none\" stroke=\"black\" d=\"M14783.5,-103.73C14783.5,-95.52 14783.5,-86.86 14783.5,-78.56\"/>\n<polygon fill=\"black\" stroke=\"black\" points=\"14787,-78.3 14783.5,-68.3 14780,-78.3 14787,-78.3\"/>\n</g>\n<!-- 207 -->\n<g id=\"node208\" class=\"node\">\n<title>207</title>\n<path fill=\"#ffffff\" stroke=\"black\" d=\"M15116,-68C15116,-68 14925,-68 14925,-68 14919,-68 14913,-62 14913,-56 14913,-56 14913,-12 14913,-12 14913,-6 14919,0 14925,0 14925,0 15116,0 15116,0 15122,0 15128,-6 15128,-12 15128,-12 15128,-56 15128,-56 15128,-62 15122,-68 15116,-68\"/>\n<text text-anchor=\"middle\" x=\"15020.5\" y=\"-52.8\" font-family=\"Helvetica,sans-Serif\" font-size=\"14.00\">gini = 0.75</text>\n<text text-anchor=\"middle\" x=\"15020.5\" y=\"-37.8\" font-family=\"Helvetica,sans-Serif\" font-size=\"14.00\">samples = 4</text>\n<text text-anchor=\"middle\" x=\"15020.5\" y=\"-22.8\" font-family=\"Helvetica,sans-Serif\" font-size=\"14.00\">value = [0, 0, 0, 1, 1, 0, 0, 1, 0, 1]</text>\n<text text-anchor=\"middle\" x=\"15020.5\" y=\"-7.8\" font-family=\"Helvetica,sans-Serif\" font-size=\"14.00\">class = 3</text>\n</g>\n<!-- 206&#45;&gt;207 -->\n<g id=\"edge207\" class=\"edge\">\n<title>206&#45;&gt;207</title>\n<path fill=\"none\" stroke=\"black\" d=\"M15020.5,-103.73C15020.5,-95.52 15020.5,-86.86 15020.5,-78.56\"/>\n<polygon fill=\"black\" stroke=\"black\" points=\"15024,-78.3 15020.5,-68.3 15017,-78.3 15024,-78.3\"/>\n</g>\n<!-- 208 -->\n<g id=\"node209\" class=\"node\">\n<title>208</title>\n<path fill=\"#e58139\" stroke=\"black\" d=\"M15349,-68C15349,-68 15158,-68 15158,-68 15152,-68 15146,-62 15146,-56 15146,-56 15146,-12 15146,-12 15146,-6 15152,0 15158,0 15158,0 15349,0 15349,0 15355,0 15361,-6 15361,-12 15361,-12 15361,-56 15361,-56 15361,-62 15355,-68 15349,-68\"/>\n<text text-anchor=\"middle\" x=\"15253.5\" y=\"-52.8\" font-family=\"Helvetica,sans-Serif\" font-size=\"14.00\">gini = 0.0</text>\n<text text-anchor=\"middle\" x=\"15253.5\" y=\"-37.8\" font-family=\"Helvetica,sans-Serif\" font-size=\"14.00\">samples = 2</text>\n<text text-anchor=\"middle\" x=\"15253.5\" y=\"-22.8\" font-family=\"Helvetica,sans-Serif\" font-size=\"14.00\">value = [2, 0, 0, 0, 0, 0, 0, 0, 0, 0]</text>\n<text text-anchor=\"middle\" x=\"15253.5\" y=\"-7.8\" font-family=\"Helvetica,sans-Serif\" font-size=\"14.00\">class = 0</text>\n</g>\n<!-- 206&#45;&gt;208 -->\n<g id=\"edge208\" class=\"edge\">\n<title>206&#45;&gt;208</title>\n<path fill=\"none\" stroke=\"black\" d=\"M15106.93,-103.88C15128.91,-93.55 15152.43,-82.5 15174.05,-72.34\"/>\n<polygon fill=\"black\" stroke=\"black\" points=\"15175.63,-75.46 15183.19,-68.04 15172.65,-69.13 15175.63,-75.46\"/>\n</g>\n<!-- 210 -->\n<g id=\"node211\" class=\"node\">\n<title>210</title>\n<path fill=\"#95ea61\" stroke=\"black\" d=\"M15588.5,-306C15588.5,-306 15390.5,-306 15390.5,-306 15384.5,-306 15378.5,-300 15378.5,-294 15378.5,-294 15378.5,-235 15378.5,-235 15378.5,-229 15384.5,-223 15390.5,-223 15390.5,-223 15588.5,-223 15588.5,-223 15594.5,-223 15600.5,-229 15600.5,-235 15600.5,-235 15600.5,-294 15600.5,-294 15600.5,-300 15594.5,-306 15588.5,-306\"/>\n<text text-anchor=\"middle\" x=\"15489.5\" y=\"-290.8\" font-family=\"Helvetica,sans-Serif\" font-size=\"14.00\">pix37 &lt;= 5.0</text>\n<text text-anchor=\"middle\" x=\"15489.5\" y=\"-275.8\" font-family=\"Helvetica,sans-Serif\" font-size=\"14.00\">gini = 0.304</text>\n<text text-anchor=\"middle\" x=\"15489.5\" y=\"-260.8\" font-family=\"Helvetica,sans-Serif\" font-size=\"14.00\">samples = 17</text>\n<text text-anchor=\"middle\" x=\"15489.5\" y=\"-245.8\" font-family=\"Helvetica,sans-Serif\" font-size=\"14.00\">value = [0, 0, 14, 1, 0, 0, 0, 0, 2, 0]</text>\n<text text-anchor=\"middle\" x=\"15489.5\" y=\"-230.8\" font-family=\"Helvetica,sans-Serif\" font-size=\"14.00\">class = 2</text>\n</g>\n<!-- 209&#45;&gt;210 -->\n<g id=\"edge210\" class=\"edge\">\n<title>209&#45;&gt;210</title>\n<path fill=\"none\" stroke=\"black\" d=\"M15489.5,-341.91C15489.5,-333.65 15489.5,-324.86 15489.5,-316.3\"/>\n<polygon fill=\"black\" stroke=\"black\" points=\"15493,-316.02 15489.5,-306.02 15486,-316.02 15493,-316.02\"/>\n</g>\n<!-- 215 -->\n<g id=\"node216\" class=\"node\">\n<title>215</title>\n<path fill=\"#e6e956\" stroke=\"black\" d=\"M16071.5,-306C16071.5,-306 15873.5,-306 15873.5,-306 15867.5,-306 15861.5,-300 15861.5,-294 15861.5,-294 15861.5,-235 15861.5,-235 15861.5,-229 15867.5,-223 15873.5,-223 15873.5,-223 16071.5,-223 16071.5,-223 16077.5,-223 16083.5,-229 16083.5,-235 16083.5,-235 16083.5,-294 16083.5,-294 16083.5,-300 16077.5,-306 16071.5,-306\"/>\n<text text-anchor=\"middle\" x=\"15972.5\" y=\"-290.8\" font-family=\"Helvetica,sans-Serif\" font-size=\"14.00\">pix10 &lt;= 13.5</text>\n<text text-anchor=\"middle\" x=\"15972.5\" y=\"-275.8\" font-family=\"Helvetica,sans-Serif\" font-size=\"14.00\">gini = 0.244</text>\n<text text-anchor=\"middle\" x=\"15972.5\" y=\"-260.8\" font-family=\"Helvetica,sans-Serif\" font-size=\"14.00\">samples = 81</text>\n<text text-anchor=\"middle\" x=\"15972.5\" y=\"-245.8\" font-family=\"Helvetica,sans-Serif\" font-size=\"14.00\">value = [0, 70, 0, 2, 2, 0, 0, 0, 7, 0]</text>\n<text text-anchor=\"middle\" x=\"15972.5\" y=\"-230.8\" font-family=\"Helvetica,sans-Serif\" font-size=\"14.00\">class = 1</text>\n</g>\n<!-- 209&#45;&gt;215 -->\n<g id=\"edge215\" class=\"edge\">\n<title>209&#45;&gt;215</title>\n<path fill=\"none\" stroke=\"black\" d=\"M15656.74,-341.99C15720.64,-326.51 15792.22,-309.17 15851.06,-294.92\"/>\n<polygon fill=\"black\" stroke=\"black\" points=\"15852.24,-298.23 15861.14,-292.48 15850.59,-291.43 15852.24,-298.23\"/>\n</g>\n<!-- 211 -->\n<g id=\"node212\" class=\"node\">\n<title>211</title>\n<path fill=\"#7be539\" stroke=\"black\" d=\"M15469.5,-179.5C15469.5,-179.5 15271.5,-179.5 15271.5,-179.5 15265.5,-179.5 15259.5,-173.5 15259.5,-167.5 15259.5,-167.5 15259.5,-123.5 15259.5,-123.5 15259.5,-117.5 15265.5,-111.5 15271.5,-111.5 15271.5,-111.5 15469.5,-111.5 15469.5,-111.5 15475.5,-111.5 15481.5,-117.5 15481.5,-123.5 15481.5,-123.5 15481.5,-167.5 15481.5,-167.5 15481.5,-173.5 15475.5,-179.5 15469.5,-179.5\"/>\n<text text-anchor=\"middle\" x=\"15370.5\" y=\"-164.3\" font-family=\"Helvetica,sans-Serif\" font-size=\"14.00\">gini = 0.0</text>\n<text text-anchor=\"middle\" x=\"15370.5\" y=\"-149.3\" font-family=\"Helvetica,sans-Serif\" font-size=\"14.00\">samples = 14</text>\n<text text-anchor=\"middle\" x=\"15370.5\" y=\"-134.3\" font-family=\"Helvetica,sans-Serif\" font-size=\"14.00\">value = [0, 0, 14, 0, 0, 0, 0, 0, 0, 0]</text>\n<text text-anchor=\"middle\" x=\"15370.5\" y=\"-119.3\" font-family=\"Helvetica,sans-Serif\" font-size=\"14.00\">class = 2</text>\n</g>\n<!-- 210&#45;&gt;211 -->\n<g id=\"edge211\" class=\"edge\">\n<title>210&#45;&gt;211</title>\n<path fill=\"none\" stroke=\"black\" d=\"M15448.21,-222.91C15436.32,-211.21 15423.35,-198.46 15411.47,-186.78\"/>\n<polygon fill=\"black\" stroke=\"black\" points=\"15413.82,-184.18 15404.23,-179.67 15408.91,-189.17 15413.82,-184.18\"/>\n</g>\n<!-- 212 -->\n<g id=\"node213\" class=\"node\">\n<title>212</title>\n<path fill=\"#f29ce0\" stroke=\"black\" d=\"M15703,-187C15703,-187 15512,-187 15512,-187 15506,-187 15500,-181 15500,-175 15500,-175 15500,-116 15500,-116 15500,-110 15506,-104 15512,-104 15512,-104 15703,-104 15703,-104 15709,-104 15715,-110 15715,-116 15715,-116 15715,-175 15715,-175 15715,-181 15709,-187 15703,-187\"/>\n<text text-anchor=\"middle\" x=\"15607.5\" y=\"-171.8\" font-family=\"Helvetica,sans-Serif\" font-size=\"14.00\">pix19 &lt;= 11.0</text>\n<text text-anchor=\"middle\" x=\"15607.5\" y=\"-156.8\" font-family=\"Helvetica,sans-Serif\" font-size=\"14.00\">gini = 0.444</text>\n<text text-anchor=\"middle\" x=\"15607.5\" y=\"-141.8\" font-family=\"Helvetica,sans-Serif\" font-size=\"14.00\">samples = 3</text>\n<text text-anchor=\"middle\" x=\"15607.5\" y=\"-126.8\" font-family=\"Helvetica,sans-Serif\" font-size=\"14.00\">value = [0, 0, 0, 1, 0, 0, 0, 0, 2, 0]</text>\n<text text-anchor=\"middle\" x=\"15607.5\" y=\"-111.8\" font-family=\"Helvetica,sans-Serif\" font-size=\"14.00\">class = 8</text>\n</g>\n<!-- 210&#45;&gt;212 -->\n<g id=\"edge212\" class=\"edge\">\n<title>210&#45;&gt;212</title>\n<path fill=\"none\" stroke=\"black\" d=\"M15530.44,-222.91C15539.78,-213.65 15549.78,-203.73 15559.38,-194.21\"/>\n<polygon fill=\"black\" stroke=\"black\" points=\"15562,-196.55 15566.63,-187.02 15557.07,-191.58 15562,-196.55\"/>\n</g>\n<!-- 213 -->\n<g id=\"node214\" class=\"node\">\n<title>213</title>\n<path fill=\"#39e55e\" stroke=\"black\" d=\"M15582,-68C15582,-68 15391,-68 15391,-68 15385,-68 15379,-62 15379,-56 15379,-56 15379,-12 15379,-12 15379,-6 15385,0 15391,0 15391,0 15582,0 15582,0 15588,0 15594,-6 15594,-12 15594,-12 15594,-56 15594,-56 15594,-62 15588,-68 15582,-68\"/>\n<text text-anchor=\"middle\" x=\"15486.5\" y=\"-52.8\" font-family=\"Helvetica,sans-Serif\" font-size=\"14.00\">gini = 0.0</text>\n<text text-anchor=\"middle\" x=\"15486.5\" y=\"-37.8\" font-family=\"Helvetica,sans-Serif\" font-size=\"14.00\">samples = 1</text>\n<text text-anchor=\"middle\" x=\"15486.5\" y=\"-22.8\" font-family=\"Helvetica,sans-Serif\" font-size=\"14.00\">value = [0, 0, 0, 1, 0, 0, 0, 0, 0, 0]</text>\n<text text-anchor=\"middle\" x=\"15486.5\" y=\"-7.8\" font-family=\"Helvetica,sans-Serif\" font-size=\"14.00\">class = 3</text>\n</g>\n<!-- 212&#45;&gt;213 -->\n<g id=\"edge213\" class=\"edge\">\n<title>212&#45;&gt;213</title>\n<path fill=\"none\" stroke=\"black\" d=\"M15562.44,-103.73C15552.16,-94.42 15541.25,-84.54 15530.99,-75.26\"/>\n<polygon fill=\"black\" stroke=\"black\" points=\"15533.06,-72.41 15523.3,-68.3 15528.36,-77.6 15533.06,-72.41\"/>\n</g>\n<!-- 214 -->\n<g id=\"node215\" class=\"node\">\n<title>214</title>\n<path fill=\"#e539c0\" stroke=\"black\" d=\"M15815,-68C15815,-68 15624,-68 15624,-68 15618,-68 15612,-62 15612,-56 15612,-56 15612,-12 15612,-12 15612,-6 15618,0 15624,0 15624,0 15815,0 15815,0 15821,0 15827,-6 15827,-12 15827,-12 15827,-56 15827,-56 15827,-62 15821,-68 15815,-68\"/>\n<text text-anchor=\"middle\" x=\"15719.5\" y=\"-52.8\" font-family=\"Helvetica,sans-Serif\" font-size=\"14.00\">gini = 0.0</text>\n<text text-anchor=\"middle\" x=\"15719.5\" y=\"-37.8\" font-family=\"Helvetica,sans-Serif\" font-size=\"14.00\">samples = 2</text>\n<text text-anchor=\"middle\" x=\"15719.5\" y=\"-22.8\" font-family=\"Helvetica,sans-Serif\" font-size=\"14.00\">value = [0, 0, 0, 0, 0, 0, 0, 0, 2, 0]</text>\n<text text-anchor=\"middle\" x=\"15719.5\" y=\"-7.8\" font-family=\"Helvetica,sans-Serif\" font-size=\"14.00\">class = 8</text>\n</g>\n<!-- 212&#45;&gt;214 -->\n<g id=\"edge214\" class=\"edge\">\n<title>212&#45;&gt;214</title>\n<path fill=\"none\" stroke=\"black\" d=\"M15649.2,-103.73C15658.63,-94.51 15668.63,-84.74 15678.04,-75.53\"/>\n<polygon fill=\"black\" stroke=\"black\" points=\"15680.74,-77.79 15685.44,-68.3 15675.84,-72.79 15680.74,-77.79\"/>\n</g>\n<!-- 216 -->\n<g id=\"node217\" class=\"node\">\n<title>216</title>\n<path fill=\"#e5e74c\" stroke=\"black\" d=\"M16071.5,-187C16071.5,-187 15873.5,-187 15873.5,-187 15867.5,-187 15861.5,-181 15861.5,-175 15861.5,-175 15861.5,-116 15861.5,-116 15861.5,-110 15867.5,-104 15873.5,-104 15873.5,-104 16071.5,-104 16071.5,-104 16077.5,-104 16083.5,-110 16083.5,-116 16083.5,-116 16083.5,-175 16083.5,-175 16083.5,-181 16077.5,-187 16071.5,-187\"/>\n<text text-anchor=\"middle\" x=\"15972.5\" y=\"-171.8\" font-family=\"Helvetica,sans-Serif\" font-size=\"14.00\">pix41 &lt;= 6.5</text>\n<text text-anchor=\"middle\" x=\"15972.5\" y=\"-156.8\" font-family=\"Helvetica,sans-Serif\" font-size=\"14.00\">gini = 0.173</text>\n<text text-anchor=\"middle\" x=\"15972.5\" y=\"-141.8\" font-family=\"Helvetica,sans-Serif\" font-size=\"14.00\">samples = 76</text>\n<text text-anchor=\"middle\" x=\"15972.5\" y=\"-126.8\" font-family=\"Helvetica,sans-Serif\" font-size=\"14.00\">value = [0, 69, 0, 2, 2, 0, 0, 0, 3, 0]</text>\n<text text-anchor=\"middle\" x=\"15972.5\" y=\"-111.8\" font-family=\"Helvetica,sans-Serif\" font-size=\"14.00\">class = 1</text>\n</g>\n<!-- 215&#45;&gt;216 -->\n<g id=\"edge216\" class=\"edge\">\n<title>215&#45;&gt;216</title>\n<path fill=\"none\" stroke=\"black\" d=\"M15972.5,-222.91C15972.5,-214.65 15972.5,-205.86 15972.5,-197.3\"/>\n<polygon fill=\"black\" stroke=\"black\" points=\"15976,-197.02 15972.5,-187.02 15969,-197.02 15976,-197.02\"/>\n</g>\n<!-- 219 -->\n<g id=\"node220\" class=\"node\">\n<title>219</title>\n<path fill=\"#ec6ad0\" stroke=\"black\" d=\"M16522,-187C16522,-187 16331,-187 16331,-187 16325,-187 16319,-181 16319,-175 16319,-175 16319,-116 16319,-116 16319,-110 16325,-104 16331,-104 16331,-104 16522,-104 16522,-104 16528,-104 16534,-110 16534,-116 16534,-116 16534,-175 16534,-175 16534,-181 16528,-187 16522,-187\"/>\n<text text-anchor=\"middle\" x=\"16426.5\" y=\"-171.8\" font-family=\"Helvetica,sans-Serif\" font-size=\"14.00\">pix29 &lt;= 11.5</text>\n<text text-anchor=\"middle\" x=\"16426.5\" y=\"-156.8\" font-family=\"Helvetica,sans-Serif\" font-size=\"14.00\">gini = 0.32</text>\n<text text-anchor=\"middle\" x=\"16426.5\" y=\"-141.8\" font-family=\"Helvetica,sans-Serif\" font-size=\"14.00\">samples = 5</text>\n<text text-anchor=\"middle\" x=\"16426.5\" y=\"-126.8\" font-family=\"Helvetica,sans-Serif\" font-size=\"14.00\">value = [0, 1, 0, 0, 0, 0, 0, 0, 4, 0]</text>\n<text text-anchor=\"middle\" x=\"16426.5\" y=\"-111.8\" font-family=\"Helvetica,sans-Serif\" font-size=\"14.00\">class = 8</text>\n</g>\n<!-- 215&#45;&gt;219 -->\n<g id=\"edge219\" class=\"edge\">\n<title>215&#45;&gt;219</title>\n<path fill=\"none\" stroke=\"black\" d=\"M16083.56,-234.88C16152.01,-217.24 16239.68,-194.65 16309.24,-176.72\"/>\n<polygon fill=\"black\" stroke=\"black\" points=\"16310.12,-180.11 16318.93,-174.22 16308.38,-173.33 16310.12,-180.11\"/>\n</g>\n<!-- 217 -->\n<g id=\"node218\" class=\"node\">\n<title>217</title>\n<path fill=\"#e4e747\" stroke=\"black\" d=\"M16055.5,-68C16055.5,-68 15857.5,-68 15857.5,-68 15851.5,-68 15845.5,-62 15845.5,-56 15845.5,-56 15845.5,-12 15845.5,-12 15845.5,-6 15851.5,0 15857.5,0 15857.5,0 16055.5,0 16055.5,0 16061.5,0 16067.5,-6 16067.5,-12 16067.5,-12 16067.5,-56 16067.5,-56 16067.5,-62 16061.5,-68 16055.5,-68\"/>\n<text text-anchor=\"middle\" x=\"15956.5\" y=\"-52.8\" font-family=\"Helvetica,sans-Serif\" font-size=\"14.00\">gini = 0.128</text>\n<text text-anchor=\"middle\" x=\"15956.5\" y=\"-37.8\" font-family=\"Helvetica,sans-Serif\" font-size=\"14.00\">samples = 74</text>\n<text text-anchor=\"middle\" x=\"15956.5\" y=\"-22.8\" font-family=\"Helvetica,sans-Serif\" font-size=\"14.00\">value = [0, 69, 0, 2, 0, 0, 0, 0, 3, 0]</text>\n<text text-anchor=\"middle\" x=\"15956.5\" y=\"-7.8\" font-family=\"Helvetica,sans-Serif\" font-size=\"14.00\">class = 1</text>\n</g>\n<!-- 216&#45;&gt;217 -->\n<g id=\"edge217\" class=\"edge\">\n<title>216&#45;&gt;217</title>\n<path fill=\"none\" stroke=\"black\" d=\"M15966.54,-103.73C15965.33,-95.43 15964.05,-86.67 15962.82,-78.28\"/>\n<polygon fill=\"black\" stroke=\"black\" points=\"15966.27,-77.69 15961.37,-68.3 15959.35,-78.7 15966.27,-77.69\"/>\n</g>\n<!-- 218 -->\n<g id=\"node219\" class=\"node\">\n<title>218</title>\n<path fill=\"#39e5c5\" stroke=\"black\" d=\"M16289,-68C16289,-68 16098,-68 16098,-68 16092,-68 16086,-62 16086,-56 16086,-56 16086,-12 16086,-12 16086,-6 16092,0 16098,0 16098,0 16289,0 16289,0 16295,0 16301,-6 16301,-12 16301,-12 16301,-56 16301,-56 16301,-62 16295,-68 16289,-68\"/>\n<text text-anchor=\"middle\" x=\"16193.5\" y=\"-52.8\" font-family=\"Helvetica,sans-Serif\" font-size=\"14.00\">gini = 0.0</text>\n<text text-anchor=\"middle\" x=\"16193.5\" y=\"-37.8\" font-family=\"Helvetica,sans-Serif\" font-size=\"14.00\">samples = 2</text>\n<text text-anchor=\"middle\" x=\"16193.5\" y=\"-22.8\" font-family=\"Helvetica,sans-Serif\" font-size=\"14.00\">value = [0, 0, 0, 0, 2, 0, 0, 0, 0, 0]</text>\n<text text-anchor=\"middle\" x=\"16193.5\" y=\"-7.8\" font-family=\"Helvetica,sans-Serif\" font-size=\"14.00\">class = 4</text>\n</g>\n<!-- 216&#45;&gt;218 -->\n<g id=\"edge218\" class=\"edge\">\n<title>216&#45;&gt;218</title>\n<path fill=\"none\" stroke=\"black\" d=\"M16054.48,-103.88C16075.14,-93.64 16097.24,-82.69 16117.59,-72.61\"/>\n<polygon fill=\"black\" stroke=\"black\" points=\"16119.4,-75.62 16126.81,-68.04 16116.3,-69.35 16119.4,-75.62\"/>\n</g>\n<!-- 220 -->\n<g id=\"node221\" class=\"node\">\n<title>220</title>\n<path fill=\"#e539c0\" stroke=\"black\" d=\"M16522,-68C16522,-68 16331,-68 16331,-68 16325,-68 16319,-62 16319,-56 16319,-56 16319,-12 16319,-12 16319,-6 16325,0 16331,0 16331,0 16522,0 16522,0 16528,0 16534,-6 16534,-12 16534,-12 16534,-56 16534,-56 16534,-62 16528,-68 16522,-68\"/>\n<text text-anchor=\"middle\" x=\"16426.5\" y=\"-52.8\" font-family=\"Helvetica,sans-Serif\" font-size=\"14.00\">gini = 0.0</text>\n<text text-anchor=\"middle\" x=\"16426.5\" y=\"-37.8\" font-family=\"Helvetica,sans-Serif\" font-size=\"14.00\">samples = 4</text>\n<text text-anchor=\"middle\" x=\"16426.5\" y=\"-22.8\" font-family=\"Helvetica,sans-Serif\" font-size=\"14.00\">value = [0, 0, 0, 0, 0, 0, 0, 0, 4, 0]</text>\n<text text-anchor=\"middle\" x=\"16426.5\" y=\"-7.8\" font-family=\"Helvetica,sans-Serif\" font-size=\"14.00\">class = 8</text>\n</g>\n<!-- 219&#45;&gt;220 -->\n<g id=\"edge220\" class=\"edge\">\n<title>219&#45;&gt;220</title>\n<path fill=\"none\" stroke=\"black\" d=\"M16426.5,-103.73C16426.5,-95.52 16426.5,-86.86 16426.5,-78.56\"/>\n<polygon fill=\"black\" stroke=\"black\" points=\"16430,-78.3 16426.5,-68.3 16423,-78.3 16430,-78.3\"/>\n</g>\n<!-- 221 -->\n<g id=\"node222\" class=\"node\">\n<title>221</title>\n<path fill=\"#e2e539\" stroke=\"black\" d=\"M16755,-68C16755,-68 16564,-68 16564,-68 16558,-68 16552,-62 16552,-56 16552,-56 16552,-12 16552,-12 16552,-6 16558,0 16564,0 16564,0 16755,0 16755,0 16761,0 16767,-6 16767,-12 16767,-12 16767,-56 16767,-56 16767,-62 16761,-68 16755,-68\"/>\n<text text-anchor=\"middle\" x=\"16659.5\" y=\"-52.8\" font-family=\"Helvetica,sans-Serif\" font-size=\"14.00\">gini = 0.0</text>\n<text text-anchor=\"middle\" x=\"16659.5\" y=\"-37.8\" font-family=\"Helvetica,sans-Serif\" font-size=\"14.00\">samples = 1</text>\n<text text-anchor=\"middle\" x=\"16659.5\" y=\"-22.8\" font-family=\"Helvetica,sans-Serif\" font-size=\"14.00\">value = [0, 1, 0, 0, 0, 0, 0, 0, 0, 0]</text>\n<text text-anchor=\"middle\" x=\"16659.5\" y=\"-7.8\" font-family=\"Helvetica,sans-Serif\" font-size=\"14.00\">class = 1</text>\n</g>\n<!-- 219&#45;&gt;221 -->\n<g id=\"edge221\" class=\"edge\">\n<title>219&#45;&gt;221</title>\n<path fill=\"none\" stroke=\"black\" d=\"M16512.93,-103.88C16534.91,-93.55 16558.43,-82.5 16580.05,-72.34\"/>\n<polygon fill=\"black\" stroke=\"black\" points=\"16581.63,-75.46 16589.19,-68.04 16578.65,-69.13 16581.63,-75.46\"/>\n</g>\n<!-- 223 -->\n<g id=\"node224\" class=\"node\">\n<title>223</title>\n<path fill=\"#40e6c7\" stroke=\"black\" d=\"M16320.5,-544C16320.5,-544 16122.5,-544 16122.5,-544 16116.5,-544 16110.5,-538 16110.5,-532 16110.5,-532 16110.5,-473 16110.5,-473 16110.5,-467 16116.5,-461 16122.5,-461 16122.5,-461 16320.5,-461 16320.5,-461 16326.5,-461 16332.5,-467 16332.5,-473 16332.5,-473 16332.5,-532 16332.5,-532 16332.5,-538 16326.5,-544 16320.5,-544\"/>\n<text text-anchor=\"middle\" x=\"16221.5\" y=\"-528.8\" font-family=\"Helvetica,sans-Serif\" font-size=\"14.00\">pix27 &lt;= 15.5</text>\n<text text-anchor=\"middle\" x=\"16221.5\" y=\"-513.8\" font-family=\"Helvetica,sans-Serif\" font-size=\"14.00\">gini = 0.062</text>\n<text text-anchor=\"middle\" x=\"16221.5\" y=\"-498.8\" font-family=\"Helvetica,sans-Serif\" font-size=\"14.00\">samples = 62</text>\n<text text-anchor=\"middle\" x=\"16221.5\" y=\"-483.8\" font-family=\"Helvetica,sans-Serif\" font-size=\"14.00\">value = [0, 2, 0, 0, 60, 0, 0, 0, 0, 0]</text>\n<text text-anchor=\"middle\" x=\"16221.5\" y=\"-468.8\" font-family=\"Helvetica,sans-Serif\" font-size=\"14.00\">class = 4</text>\n</g>\n<!-- 222&#45;&gt;223 -->\n<g id=\"edge223\" class=\"edge\">\n<title>222&#45;&gt;223</title>\n<path fill=\"none\" stroke=\"black\" d=\"M16221.5,-587.23C16221.5,-576.81 16221.5,-565.47 16221.5,-554.59\"/>\n<polygon fill=\"black\" stroke=\"black\" points=\"16225,-554.36 16221.5,-544.36 16218,-554.36 16225,-554.36\"/>\n</g>\n<!-- 228 -->\n<g id=\"node229\" class=\"node\">\n<title>228</title>\n<path fill=\"#ffffff\" stroke=\"black\" d=\"M16726,-544C16726,-544 16535,-544 16535,-544 16529,-544 16523,-538 16523,-532 16523,-532 16523,-473 16523,-473 16523,-467 16529,-461 16535,-461 16535,-461 16726,-461 16726,-461 16732,-461 16738,-467 16738,-473 16738,-473 16738,-532 16738,-532 16738,-538 16732,-544 16726,-544\"/>\n<text text-anchor=\"middle\" x=\"16630.5\" y=\"-528.8\" font-family=\"Helvetica,sans-Serif\" font-size=\"14.00\">pix45 &lt;= 1.0</text>\n<text text-anchor=\"middle\" x=\"16630.5\" y=\"-513.8\" font-family=\"Helvetica,sans-Serif\" font-size=\"14.00\">gini = 0.82</text>\n<text text-anchor=\"middle\" x=\"16630.5\" y=\"-498.8\" font-family=\"Helvetica,sans-Serif\" font-size=\"14.00\">samples = 10</text>\n<text text-anchor=\"middle\" x=\"16630.5\" y=\"-483.8\" font-family=\"Helvetica,sans-Serif\" font-size=\"14.00\">value = [1, 2, 0, 0, 2, 0, 2, 1, 2, 0]</text>\n<text text-anchor=\"middle\" x=\"16630.5\" y=\"-468.8\" font-family=\"Helvetica,sans-Serif\" font-size=\"14.00\">class = 1</text>\n</g>\n<!-- 222&#45;&gt;228 -->\n<g id=\"edge228\" class=\"edge\">\n<title>222&#45;&gt;228</title>\n<path fill=\"none\" stroke=\"black\" d=\"M16332.72,-594.14C16388.62,-577.13 16456.36,-556.51 16513.1,-539.24\"/>\n<polygon fill=\"black\" stroke=\"black\" points=\"16514.29,-542.53 16522.83,-536.27 16512.25,-535.84 16514.29,-542.53\"/>\n</g>\n<!-- 224 -->\n<g id=\"node225\" class=\"node\">\n<title>224</title>\n<path fill=\"#39e5c5\" stroke=\"black\" d=\"M16202.5,-417.5C16202.5,-417.5 16004.5,-417.5 16004.5,-417.5 15998.5,-417.5 15992.5,-411.5 15992.5,-405.5 15992.5,-405.5 15992.5,-361.5 15992.5,-361.5 15992.5,-355.5 15998.5,-349.5 16004.5,-349.5 16004.5,-349.5 16202.5,-349.5 16202.5,-349.5 16208.5,-349.5 16214.5,-355.5 16214.5,-361.5 16214.5,-361.5 16214.5,-405.5 16214.5,-405.5 16214.5,-411.5 16208.5,-417.5 16202.5,-417.5\"/>\n<text text-anchor=\"middle\" x=\"16103.5\" y=\"-402.3\" font-family=\"Helvetica,sans-Serif\" font-size=\"14.00\">gini = 0.0</text>\n<text text-anchor=\"middle\" x=\"16103.5\" y=\"-387.3\" font-family=\"Helvetica,sans-Serif\" font-size=\"14.00\">samples = 59</text>\n<text text-anchor=\"middle\" x=\"16103.5\" y=\"-372.3\" font-family=\"Helvetica,sans-Serif\" font-size=\"14.00\">value = [0, 0, 0, 0, 59, 0, 0, 0, 0, 0]</text>\n<text text-anchor=\"middle\" x=\"16103.5\" y=\"-357.3\" font-family=\"Helvetica,sans-Serif\" font-size=\"14.00\">class = 4</text>\n</g>\n<!-- 223&#45;&gt;224 -->\n<g id=\"edge224\" class=\"edge\">\n<title>223&#45;&gt;224</title>\n<path fill=\"none\" stroke=\"black\" d=\"M16180.56,-460.91C16168.76,-449.21 16155.9,-436.46 16144.12,-424.78\"/>\n<polygon fill=\"black\" stroke=\"black\" points=\"16146.52,-422.22 16136.95,-417.67 16141.59,-427.19 16146.52,-422.22\"/>\n</g>\n<!-- 225 -->\n<g id=\"node226\" class=\"node\">\n<title>225</title>\n<path fill=\"#f0f29c\" stroke=\"black\" d=\"M16436,-425C16436,-425 16245,-425 16245,-425 16239,-425 16233,-419 16233,-413 16233,-413 16233,-354 16233,-354 16233,-348 16239,-342 16245,-342 16245,-342 16436,-342 16436,-342 16442,-342 16448,-348 16448,-354 16448,-354 16448,-413 16448,-413 16448,-419 16442,-425 16436,-425\"/>\n<text text-anchor=\"middle\" x=\"16340.5\" y=\"-409.8\" font-family=\"Helvetica,sans-Serif\" font-size=\"14.00\">pix33 &lt;= 9.5</text>\n<text text-anchor=\"middle\" x=\"16340.5\" y=\"-394.8\" font-family=\"Helvetica,sans-Serif\" font-size=\"14.00\">gini = 0.444</text>\n<text text-anchor=\"middle\" x=\"16340.5\" y=\"-379.8\" font-family=\"Helvetica,sans-Serif\" font-size=\"14.00\">samples = 3</text>\n<text text-anchor=\"middle\" x=\"16340.5\" y=\"-364.8\" font-family=\"Helvetica,sans-Serif\" font-size=\"14.00\">value = [0, 2, 0, 0, 1, 0, 0, 0, 0, 0]</text>\n<text text-anchor=\"middle\" x=\"16340.5\" y=\"-349.8\" font-family=\"Helvetica,sans-Serif\" font-size=\"14.00\">class = 1</text>\n</g>\n<!-- 223&#45;&gt;225 -->\n<g id=\"edge225\" class=\"edge\">\n<title>223&#45;&gt;225</title>\n<path fill=\"none\" stroke=\"black\" d=\"M16262.79,-460.91C16272.2,-451.65 16282.29,-441.73 16291.98,-432.21\"/>\n<polygon fill=\"black\" stroke=\"black\" points=\"16294.61,-434.53 16299.29,-425.02 16289.7,-429.54 16294.61,-434.53\"/>\n</g>\n<!-- 226 -->\n<g id=\"node227\" class=\"node\">\n<title>226</title>\n<path fill=\"#e2e539\" stroke=\"black\" d=\"M16420,-298.5C16420,-298.5 16229,-298.5 16229,-298.5 16223,-298.5 16217,-292.5 16217,-286.5 16217,-286.5 16217,-242.5 16217,-242.5 16217,-236.5 16223,-230.5 16229,-230.5 16229,-230.5 16420,-230.5 16420,-230.5 16426,-230.5 16432,-236.5 16432,-242.5 16432,-242.5 16432,-286.5 16432,-286.5 16432,-292.5 16426,-298.5 16420,-298.5\"/>\n<text text-anchor=\"middle\" x=\"16324.5\" y=\"-283.3\" font-family=\"Helvetica,sans-Serif\" font-size=\"14.00\">gini = 0.0</text>\n<text text-anchor=\"middle\" x=\"16324.5\" y=\"-268.3\" font-family=\"Helvetica,sans-Serif\" font-size=\"14.00\">samples = 2</text>\n<text text-anchor=\"middle\" x=\"16324.5\" y=\"-253.3\" font-family=\"Helvetica,sans-Serif\" font-size=\"14.00\">value = [0, 2, 0, 0, 0, 0, 0, 0, 0, 0]</text>\n<text text-anchor=\"middle\" x=\"16324.5\" y=\"-238.3\" font-family=\"Helvetica,sans-Serif\" font-size=\"14.00\">class = 1</text>\n</g>\n<!-- 225&#45;&gt;226 -->\n<g id=\"edge226\" class=\"edge\">\n<title>225&#45;&gt;226</title>\n<path fill=\"none\" stroke=\"black\" d=\"M16334.95,-341.91C16333.49,-331.2 16331.9,-319.62 16330.42,-308.78\"/>\n<polygon fill=\"black\" stroke=\"black\" points=\"16333.86,-308.1 16329.04,-298.67 16326.92,-309.05 16333.86,-308.1\"/>\n</g>\n<!-- 227 -->\n<g id=\"node228\" class=\"node\">\n<title>227</title>\n<path fill=\"#39e5c5\" stroke=\"black\" d=\"M16653,-298.5C16653,-298.5 16462,-298.5 16462,-298.5 16456,-298.5 16450,-292.5 16450,-286.5 16450,-286.5 16450,-242.5 16450,-242.5 16450,-236.5 16456,-230.5 16462,-230.5 16462,-230.5 16653,-230.5 16653,-230.5 16659,-230.5 16665,-236.5 16665,-242.5 16665,-242.5 16665,-286.5 16665,-286.5 16665,-292.5 16659,-298.5 16653,-298.5\"/>\n<text text-anchor=\"middle\" x=\"16557.5\" y=\"-283.3\" font-family=\"Helvetica,sans-Serif\" font-size=\"14.00\">gini = 0.0</text>\n<text text-anchor=\"middle\" x=\"16557.5\" y=\"-268.3\" font-family=\"Helvetica,sans-Serif\" font-size=\"14.00\">samples = 1</text>\n<text text-anchor=\"middle\" x=\"16557.5\" y=\"-253.3\" font-family=\"Helvetica,sans-Serif\" font-size=\"14.00\">value = [0, 0, 0, 0, 1, 0, 0, 0, 0, 0]</text>\n<text text-anchor=\"middle\" x=\"16557.5\" y=\"-238.3\" font-family=\"Helvetica,sans-Serif\" font-size=\"14.00\">class = 4</text>\n</g>\n<!-- 225&#45;&gt;227 -->\n<g id=\"edge227\" class=\"edge\">\n<title>225&#45;&gt;227</title>\n<path fill=\"none\" stroke=\"black\" d=\"M16415.79,-341.91C16438.91,-329.44 16464.27,-315.77 16487.06,-303.48\"/>\n<polygon fill=\"black\" stroke=\"black\" points=\"16488.84,-306.49 16495.99,-298.67 16485.52,-300.33 16488.84,-306.49\"/>\n</g>\n<!-- 229 -->\n<g id=\"node230\" class=\"node\">\n<title>229</title>\n<path fill=\"#e539c0\" stroke=\"black\" d=\"M16726,-417.5C16726,-417.5 16535,-417.5 16535,-417.5 16529,-417.5 16523,-411.5 16523,-405.5 16523,-405.5 16523,-361.5 16523,-361.5 16523,-355.5 16529,-349.5 16535,-349.5 16535,-349.5 16726,-349.5 16726,-349.5 16732,-349.5 16738,-355.5 16738,-361.5 16738,-361.5 16738,-405.5 16738,-405.5 16738,-411.5 16732,-417.5 16726,-417.5\"/>\n<text text-anchor=\"middle\" x=\"16630.5\" y=\"-402.3\" font-family=\"Helvetica,sans-Serif\" font-size=\"14.00\">gini = 0.0</text>\n<text text-anchor=\"middle\" x=\"16630.5\" y=\"-387.3\" font-family=\"Helvetica,sans-Serif\" font-size=\"14.00\">samples = 2</text>\n<text text-anchor=\"middle\" x=\"16630.5\" y=\"-372.3\" font-family=\"Helvetica,sans-Serif\" font-size=\"14.00\">value = [0, 0, 0, 0, 0, 0, 0, 0, 2, 0]</text>\n<text text-anchor=\"middle\" x=\"16630.5\" y=\"-357.3\" font-family=\"Helvetica,sans-Serif\" font-size=\"14.00\">class = 8</text>\n</g>\n<!-- 228&#45;&gt;229 -->\n<g id=\"edge229\" class=\"edge\">\n<title>228&#45;&gt;229</title>\n<path fill=\"none\" stroke=\"black\" d=\"M16630.5,-460.91C16630.5,-450.2 16630.5,-438.62 16630.5,-427.78\"/>\n<polygon fill=\"black\" stroke=\"black\" points=\"16634,-427.67 16630.5,-417.67 16627,-427.67 16634,-427.67\"/>\n</g>\n<!-- 230 -->\n<g id=\"node231\" class=\"node\">\n<title>230</title>\n<path fill=\"#ffffff\" stroke=\"black\" d=\"M16988,-425C16988,-425 16797,-425 16797,-425 16791,-425 16785,-419 16785,-413 16785,-413 16785,-354 16785,-354 16785,-348 16791,-342 16797,-342 16797,-342 16988,-342 16988,-342 16994,-342 17000,-348 17000,-354 17000,-354 17000,-413 17000,-413 17000,-419 16994,-425 16988,-425\"/>\n<text text-anchor=\"middle\" x=\"16892.5\" y=\"-409.8\" font-family=\"Helvetica,sans-Serif\" font-size=\"14.00\">pix27 &lt;= 10.5</text>\n<text text-anchor=\"middle\" x=\"16892.5\" y=\"-394.8\" font-family=\"Helvetica,sans-Serif\" font-size=\"14.00\">gini = 0.781</text>\n<text text-anchor=\"middle\" x=\"16892.5\" y=\"-379.8\" font-family=\"Helvetica,sans-Serif\" font-size=\"14.00\">samples = 8</text>\n<text text-anchor=\"middle\" x=\"16892.5\" y=\"-364.8\" font-family=\"Helvetica,sans-Serif\" font-size=\"14.00\">value = [1, 2, 0, 0, 2, 0, 2, 1, 0, 0]</text>\n<text text-anchor=\"middle\" x=\"16892.5\" y=\"-349.8\" font-family=\"Helvetica,sans-Serif\" font-size=\"14.00\">class = 1</text>\n</g>\n<!-- 228&#45;&gt;230 -->\n<g id=\"edge230\" class=\"edge\">\n<title>228&#45;&gt;230</title>\n<path fill=\"none\" stroke=\"black\" d=\"M16721.4,-460.91C16744.36,-450.65 16769.15,-439.59 16792.53,-429.14\"/>\n<polygon fill=\"black\" stroke=\"black\" points=\"16794.06,-432.29 16801.76,-425.02 16791.2,-425.9 16794.06,-432.29\"/>\n</g>\n<!-- 231 -->\n<g id=\"node232\" class=\"node\">\n<title>231</title>\n<path fill=\"#ffffff\" stroke=\"black\" d=\"M16988,-306C16988,-306 16797,-306 16797,-306 16791,-306 16785,-300 16785,-294 16785,-294 16785,-235 16785,-235 16785,-229 16791,-223 16797,-223 16797,-223 16988,-223 16988,-223 16994,-223 17000,-229 17000,-235 17000,-235 17000,-294 17000,-294 17000,-300 16994,-306 16988,-306\"/>\n<text text-anchor=\"middle\" x=\"16892.5\" y=\"-290.8\" font-family=\"Helvetica,sans-Serif\" font-size=\"14.00\">pix33 &lt;= 8.5</text>\n<text text-anchor=\"middle\" x=\"16892.5\" y=\"-275.8\" font-family=\"Helvetica,sans-Serif\" font-size=\"14.00\">gini = 0.722</text>\n<text text-anchor=\"middle\" x=\"16892.5\" y=\"-260.8\" font-family=\"Helvetica,sans-Serif\" font-size=\"14.00\">samples = 6</text>\n<text text-anchor=\"middle\" x=\"16892.5\" y=\"-245.8\" font-family=\"Helvetica,sans-Serif\" font-size=\"14.00\">value = [1, 0, 0, 0, 2, 0, 2, 1, 0, 0]</text>\n<text text-anchor=\"middle\" x=\"16892.5\" y=\"-230.8\" font-family=\"Helvetica,sans-Serif\" font-size=\"14.00\">class = 4</text>\n</g>\n<!-- 230&#45;&gt;231 -->\n<g id=\"edge231\" class=\"edge\">\n<title>230&#45;&gt;231</title>\n<path fill=\"none\" stroke=\"black\" d=\"M16892.5,-341.91C16892.5,-333.65 16892.5,-324.86 16892.5,-316.3\"/>\n<polygon fill=\"black\" stroke=\"black\" points=\"16896,-316.02 16892.5,-306.02 16889,-316.02 16896,-316.02\"/>\n</g>\n<!-- 236 -->\n<g id=\"node237\" class=\"node\">\n<title>236</title>\n<path fill=\"#e2e539\" stroke=\"black\" d=\"M17221,-298.5C17221,-298.5 17030,-298.5 17030,-298.5 17024,-298.5 17018,-292.5 17018,-286.5 17018,-286.5 17018,-242.5 17018,-242.5 17018,-236.5 17024,-230.5 17030,-230.5 17030,-230.5 17221,-230.5 17221,-230.5 17227,-230.5 17233,-236.5 17233,-242.5 17233,-242.5 17233,-286.5 17233,-286.5 17233,-292.5 17227,-298.5 17221,-298.5\"/>\n<text text-anchor=\"middle\" x=\"17125.5\" y=\"-283.3\" font-family=\"Helvetica,sans-Serif\" font-size=\"14.00\">gini = 0.0</text>\n<text text-anchor=\"middle\" x=\"17125.5\" y=\"-268.3\" font-family=\"Helvetica,sans-Serif\" font-size=\"14.00\">samples = 2</text>\n<text text-anchor=\"middle\" x=\"17125.5\" y=\"-253.3\" font-family=\"Helvetica,sans-Serif\" font-size=\"14.00\">value = [0, 2, 0, 0, 0, 0, 0, 0, 0, 0]</text>\n<text text-anchor=\"middle\" x=\"17125.5\" y=\"-238.3\" font-family=\"Helvetica,sans-Serif\" font-size=\"14.00\">class = 1</text>\n</g>\n<!-- 230&#45;&gt;236 -->\n<g id=\"edge236\" class=\"edge\">\n<title>230&#45;&gt;236</title>\n<path fill=\"none\" stroke=\"black\" d=\"M16973.34,-341.91C16998.39,-329.33 17025.88,-315.53 17050.51,-303.16\"/>\n<polygon fill=\"black\" stroke=\"black\" points=\"17052.08,-306.28 17059.45,-298.67 17048.94,-300.03 17052.08,-306.28\"/>\n</g>\n<!-- 232 -->\n<g id=\"node233\" class=\"node\">\n<title>232</title>\n<path fill=\"#bebdf6\" stroke=\"black\" d=\"M16988,-187C16988,-187 16797,-187 16797,-187 16791,-187 16785,-181 16785,-175 16785,-175 16785,-116 16785,-116 16785,-110 16791,-104 16797,-104 16797,-104 16988,-104 16988,-104 16994,-104 17000,-110 17000,-116 17000,-116 17000,-175 17000,-175 17000,-181 16994,-187 16988,-187\"/>\n<text text-anchor=\"middle\" x=\"16892.5\" y=\"-171.8\" font-family=\"Helvetica,sans-Serif\" font-size=\"14.00\">pix27 &lt;= 5.5</text>\n<text text-anchor=\"middle\" x=\"16892.5\" y=\"-156.8\" font-family=\"Helvetica,sans-Serif\" font-size=\"14.00\">gini = 0.625</text>\n<text text-anchor=\"middle\" x=\"16892.5\" y=\"-141.8\" font-family=\"Helvetica,sans-Serif\" font-size=\"14.00\">samples = 4</text>\n<text text-anchor=\"middle\" x=\"16892.5\" y=\"-126.8\" font-family=\"Helvetica,sans-Serif\" font-size=\"14.00\">value = [1, 0, 0, 0, 0, 0, 2, 1, 0, 0]</text>\n<text text-anchor=\"middle\" x=\"16892.5\" y=\"-111.8\" font-family=\"Helvetica,sans-Serif\" font-size=\"14.00\">class = 6</text>\n</g>\n<!-- 231&#45;&gt;232 -->\n<g id=\"edge232\" class=\"edge\">\n<title>231&#45;&gt;232</title>\n<path fill=\"none\" stroke=\"black\" d=\"M16892.5,-222.91C16892.5,-214.65 16892.5,-205.86 16892.5,-197.3\"/>\n<polygon fill=\"black\" stroke=\"black\" points=\"16896,-197.02 16892.5,-187.02 16889,-197.02 16896,-197.02\"/>\n</g>\n<!-- 235 -->\n<g id=\"node236\" class=\"node\">\n<title>235</title>\n<path fill=\"#39e5c5\" stroke=\"black\" d=\"M17221,-179.5C17221,-179.5 17030,-179.5 17030,-179.5 17024,-179.5 17018,-173.5 17018,-167.5 17018,-167.5 17018,-123.5 17018,-123.5 17018,-117.5 17024,-111.5 17030,-111.5 17030,-111.5 17221,-111.5 17221,-111.5 17227,-111.5 17233,-117.5 17233,-123.5 17233,-123.5 17233,-167.5 17233,-167.5 17233,-173.5 17227,-179.5 17221,-179.5\"/>\n<text text-anchor=\"middle\" x=\"17125.5\" y=\"-164.3\" font-family=\"Helvetica,sans-Serif\" font-size=\"14.00\">gini = 0.0</text>\n<text text-anchor=\"middle\" x=\"17125.5\" y=\"-149.3\" font-family=\"Helvetica,sans-Serif\" font-size=\"14.00\">samples = 2</text>\n<text text-anchor=\"middle\" x=\"17125.5\" y=\"-134.3\" font-family=\"Helvetica,sans-Serif\" font-size=\"14.00\">value = [0, 0, 0, 0, 2, 0, 0, 0, 0, 0]</text>\n<text text-anchor=\"middle\" x=\"17125.5\" y=\"-119.3\" font-family=\"Helvetica,sans-Serif\" font-size=\"14.00\">class = 4</text>\n</g>\n<!-- 231&#45;&gt;235 -->\n<g id=\"edge235\" class=\"edge\">\n<title>231&#45;&gt;235</title>\n<path fill=\"none\" stroke=\"black\" d=\"M16973.34,-222.91C16998.39,-210.33 17025.88,-196.53 17050.51,-184.16\"/>\n<polygon fill=\"black\" stroke=\"black\" points=\"17052.08,-187.28 17059.45,-179.67 17048.94,-181.03 17052.08,-187.28\"/>\n</g>\n<!-- 233 -->\n<g id=\"node234\" class=\"node\">\n<title>233</title>\n<path fill=\"#ffffff\" stroke=\"black\" d=\"M16988,-68C16988,-68 16797,-68 16797,-68 16791,-68 16785,-62 16785,-56 16785,-56 16785,-12 16785,-12 16785,-6 16791,0 16797,0 16797,0 16988,0 16988,0 16994,0 17000,-6 17000,-12 17000,-12 17000,-56 17000,-56 17000,-62 16994,-68 16988,-68\"/>\n<text text-anchor=\"middle\" x=\"16892.5\" y=\"-52.8\" font-family=\"Helvetica,sans-Serif\" font-size=\"14.00\">gini = 0.5</text>\n<text text-anchor=\"middle\" x=\"16892.5\" y=\"-37.8\" font-family=\"Helvetica,sans-Serif\" font-size=\"14.00\">samples = 2</text>\n<text text-anchor=\"middle\" x=\"16892.5\" y=\"-22.8\" font-family=\"Helvetica,sans-Serif\" font-size=\"14.00\">value = [1, 0, 0, 0, 0, 0, 0, 1, 0, 0]</text>\n<text text-anchor=\"middle\" x=\"16892.5\" y=\"-7.8\" font-family=\"Helvetica,sans-Serif\" font-size=\"14.00\">class = 0</text>\n</g>\n<!-- 232&#45;&gt;233 -->\n<g id=\"edge233\" class=\"edge\">\n<title>232&#45;&gt;233</title>\n<path fill=\"none\" stroke=\"black\" d=\"M16892.5,-103.73C16892.5,-95.52 16892.5,-86.86 16892.5,-78.56\"/>\n<polygon fill=\"black\" stroke=\"black\" points=\"16896,-78.3 16892.5,-68.3 16889,-78.3 16896,-78.3\"/>\n</g>\n<!-- 234 -->\n<g id=\"node235\" class=\"node\">\n<title>234</title>\n<path fill=\"#3c39e5\" stroke=\"black\" d=\"M17221,-68C17221,-68 17030,-68 17030,-68 17024,-68 17018,-62 17018,-56 17018,-56 17018,-12 17018,-12 17018,-6 17024,0 17030,0 17030,0 17221,0 17221,0 17227,0 17233,-6 17233,-12 17233,-12 17233,-56 17233,-56 17233,-62 17227,-68 17221,-68\"/>\n<text text-anchor=\"middle\" x=\"17125.5\" y=\"-52.8\" font-family=\"Helvetica,sans-Serif\" font-size=\"14.00\">gini = 0.0</text>\n<text text-anchor=\"middle\" x=\"17125.5\" y=\"-37.8\" font-family=\"Helvetica,sans-Serif\" font-size=\"14.00\">samples = 2</text>\n<text text-anchor=\"middle\" x=\"17125.5\" y=\"-22.8\" font-family=\"Helvetica,sans-Serif\" font-size=\"14.00\">value = [0, 0, 0, 0, 0, 0, 2, 0, 0, 0]</text>\n<text text-anchor=\"middle\" x=\"17125.5\" y=\"-7.8\" font-family=\"Helvetica,sans-Serif\" font-size=\"14.00\">class = 6</text>\n</g>\n<!-- 232&#45;&gt;234 -->\n<g id=\"edge234\" class=\"edge\">\n<title>232&#45;&gt;234</title>\n<path fill=\"none\" stroke=\"black\" d=\"M16978.93,-103.88C17000.91,-93.55 17024.43,-82.5 17046.05,-72.34\"/>\n<polygon fill=\"black\" stroke=\"black\" points=\"17047.63,-75.46 17055.19,-68.04 17044.65,-69.13 17047.63,-75.46\"/>\n</g>\n</g>\n</svg>\n",
            "text/plain": [
              "<graphviz.sources.Source at 0x7b57fe013d50>"
            ]
          },
          "metadata": {},
          "execution_count": 79
        }
      ]
    },
    {
      "cell_type": "markdown",
      "source": [],
      "metadata": {
        "id": "L1rtn8o9-6BZ"
      }
    },
    {
      "cell_type": "markdown",
      "source": [
        "# **Next week**: Titanic or _your-own-data_\n",
        "\n",
        "Not required for this week -- but for _next_ week, IST341 will be narrowing project ideas.\n",
        "\n",
        "One of those possibilities is to choose a dataset of your own (or use the Titanic / housing dataset) and\n",
        "+ be sure it's cleaned up to the point where it's \"tidy\"\n",
        "+ the cleaning can be done in Excel/spreadsheets instead of Python, for sure\n",
        "+ or, the cleaning can be done in Python -- up to you!\n",
        "+ Then, model your dataset with DTs and RFs, just as above\n",
        "+ and, use Neural Nets (which we will feature next week...)\n",
        "\n",
        "To gain additional insight, you'll find and show the _feature importances_ for your features in your dataset...\n",
        "\n",
        "Often, these are what generate the most value, because\n",
        "+ you want to know what features have the most impact\n",
        "+ you want to know the relative strengths of the features\n",
        "+ you're waiting for future data on which to run your predictive model! :-)\n",
        "\n",
        "<br>\n",
        "<hr>\n",
        "<br>\n",
        "\n",
        "You can tell we're evolving into a \"final-project\" mindset.\n",
        "\n",
        "The final project does not have to be data-analysis at all. (That said, it's a popular option...) Big-picture, it's best if _whatever the project_ it overlaps with  your work or interests from professional/personal/other class's efforts.\n",
        "\n",
        "Onward!"
      ],
      "metadata": {
        "id": "819OSwlj-6U0"
      }
    },
    {
      "cell_type": "code",
      "source": [
        "# a placeholder code cell"
      ],
      "metadata": {
        "id": "6e9I9RuS_Lf9"
      },
      "execution_count": null,
      "outputs": []
    },
    {
      "cell_type": "markdown",
      "source": [],
      "metadata": {
        "id": "YRLBfwt7_Lf-"
      }
    }
  ],
  "metadata": {
    "kernelspec": {
      "display_name": "Python 3.10.5 64-bit",
      "language": "python",
      "name": "python3"
    },
    "language_info": {
      "codemirror_mode": {
        "name": "ipython",
        "version": 3
      },
      "file_extension": ".py",
      "mimetype": "text/x-python",
      "name": "python",
      "nbconvert_exporter": "python",
      "pygments_lexer": "ipython3",
      "version": "3.10.5"
    },
    "vscode": {
      "interpreter": {
        "hash": "292543b5c4ab753101a1f76b3f35b135c08826e5ad03d467bb949663c9544fbe"
      }
    },
    "colab": {
      "provenance": []
    }
  },
  "nbformat": 4,
  "nbformat_minor": 0
}