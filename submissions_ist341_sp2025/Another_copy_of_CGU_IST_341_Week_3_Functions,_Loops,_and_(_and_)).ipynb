{
  "cells": [
    {
      "cell_type": "markdown",
      "source": [
        "# Welcome back, IST 341!\n",
        "\n",
        "### _Assignment 3 Notebook: Functions, Loops, and Monte Carlo!_\n",
        "\n",
        "This week is functions first -- and all the rest.\n",
        "\n",
        "Featuring:\n",
        "+ A few self-similar function applications\n",
        "+ An introduction to _looping_ functions\n",
        "+ Monte Carlo Applications! The \"birthday room\" and \"sleepwalker\" (random walks)\n",
        "+ A reading and response on ChatGPT, naturally\n",
        "  + Feel free to ChatGPT it ...\n",
        "  + ... in which case, respond to its response!"
      ],
      "metadata": {
        "id": "UrkiOTiDEjwp"
      }
    },
    {
      "cell_type": "markdown",
      "source": [
        "### <font color=\"DodgerBlue\"><b>Make your own copy of this notebook (as in each week)</b></font>\n",
        "\n",
        "**Submitting** -- When you're ready to submit, be sure to\n",
        "+ **share** the notebook with the <font color=\"darkblue\">instructor</font> (_hi!_):\n",
        "   + `zdodds@gmail.com`\n",
        "+ and also **submit** the url to your notebook at the appropriate spot on Canvas\n"
      ],
      "metadata": {
        "id": "M7dzL4m4fPYf"
      }
    },
    {
      "cell_type": "markdown",
      "source": [
        "# <b>Leading example</b>:  ``i2I_once``\n",
        "\n",
        "The alien is seeking a capital ``'I'``!\n",
        "\n",
        "The function ``i2I_once(s)`` takes in a string ``s``\n",
        "From there,\n",
        "+ if ``s`` is the single character ``'i'``, the function returns a capital ``'I'``\n",
        "+ otherwise, the function returns the original input, ``s``\n",
        "\n",
        "Try it!\n",
        "\n",
        "<b>Shortcut</b>: <tt>control-/</tt> comments and uncomments..."
      ],
      "metadata": {
        "id": "9BqFJ1etLRzR"
      }
    },
    {
      "cell_type": "code",
      "source": [
        "# single-character substitution:\n",
        "\n",
        "def i2I_once(s):\n",
        "  \"\"\" i2I_once changes an input 'i' to an output 'I'\n",
        "      all other inputs remain the same\n",
        "  \"\"\"\n",
        "  if s == 'i':\n",
        "    return 'I'\n",
        "  else:\n",
        "    return s\n",
        "\n",
        "# tests are in the next cell..."
      ],
      "metadata": {
        "id": "1krVLOH0HQsC"
      },
      "execution_count": null,
      "outputs": []
    },
    {
      "cell_type": "code",
      "source": [
        "# Tests to try for i2I_once  (Try control-/ to uncomment them!)\n",
        "\n",
        "print(\"i2I_once('i') should be 'I' <->\", i2I_once('i'))\n",
        "print(\"i2I_once('j') should be 'j' <->\", i2I_once('j'))\n",
        "print()\n",
        "\n",
        "print(\"i2I_once('alien') should be 'alien' <->\", i2I_once('alien'))\n",
        "print(\"i2I_once('icicle') should be 'icicle' <->\", i2I_once('icicle'))"
      ],
      "metadata": {
        "id": "Y421urjHHTDd",
        "colab": {
          "base_uri": "https://localhost:8080/"
        },
        "outputId": "848708d7-28a0-4844-9bfb-983112b2cf39"
      },
      "execution_count": null,
      "outputs": [
        {
          "output_type": "stream",
          "name": "stdout",
          "text": [
            "i2I_once('i') should be 'I' <-> I\n",
            "i2I_once('j') should be 'j' <-> j\n",
            "\n",
            "i2I_once('alien') should be 'alien' <-> alien\n",
            "i2I_once('icicle') should be 'icicle' <-> icicle\n"
          ]
        }
      ]
    },
    {
      "cell_type": "markdown",
      "source": [
        "## <b>The problem</b>\n",
        "\n",
        "The \"problem\" is that ``i2I_once`` only works on single-character strings. But... <br> **we'd like it to work on <u>every</u> character in a string!**\n",
        "\n",
        "<br>\n",
        "\n",
        "## <b>The solution!</b>\n",
        "\n",
        "We create a second function, ``i2I_all(s)`` which\n",
        "+ calls ``i2I_once`` on the ***first*** character, ``s[0]``\n",
        "+ then, calls ``i2I_all`` on the ***rest***, ``s[1:]``\n",
        "\n",
        "<b>Important!</b> There needs to be a way to stop!\n",
        "+ The function checks if the input ``s`` has no characters...\n",
        "+ in that case, there is nothing to substitute, and the empty string ``''`` is returned\n",
        "\n",
        "Try it!\n",
        "\n"
      ],
      "metadata": {
        "id": "S3fIcroiHwp1"
      }
    },
    {
      "cell_type": "code",
      "source": [
        "# multiple-character substitution\n",
        "\n",
        "def i2I_all(s):\n",
        "  \"\"\" changes i to I for all characters in the input, s \"\"\"\n",
        "  if s == '':       # EMPTY case!\n",
        "    return ''\n",
        "  else:\n",
        "    return i2I_once(s[0]) + i2I_all(s[1:])  # FIRST and REST\n",
        "\n",
        "# tests are in the next cell..."
      ],
      "metadata": {
        "id": "BdvSdeIXHUHB"
      },
      "execution_count": null,
      "outputs": []
    },
    {
      "cell_type": "code",
      "source": [
        "# Tests to try for i2I_all\n",
        "\n",
        "print(\"i2I_all('alien') should be 'alIen' <->\", i2I_all('alien'))\n",
        "print(\"i2I_all('aliiien') should be 'alIIIen' <->\", i2I_all('aliiien'))\n",
        "print()\n",
        "\n",
        "print(\"i2I_all('icicle') should be 'IcIcle' <->\", i2I_all('icicle'))\n",
        "print(\"i2I_all('No eyes to see here') should be 'No eyes to see here' <->\", i2I_all('No eyes to see here'))"
      ],
      "metadata": {
        "id": "lX1tlDNbHVq-",
        "colab": {
          "base_uri": "https://localhost:8080/"
        },
        "outputId": "ad7b9c2c-1e14-4cc8-e03b-6286aee46e2b"
      },
      "execution_count": null,
      "outputs": [
        {
          "output_type": "stream",
          "name": "stdout",
          "text": [
            "i2I_all('alien') should be 'alIen' <-> alIen\n",
            "i2I_all('aliiien') should be 'alIIIen' <-> alIIIen\n",
            "\n",
            "i2I_all('icicle') should be 'IcIcle' <-> IcIcle\n",
            "i2I_all('No eyes to see here') should be 'No eyes to see here' <-> No eyes to see here\n"
          ]
        }
      ]
    },
    {
      "cell_type": "markdown",
      "source": [
        "## <b>An <i>alternative</i> solution...</b>\n",
        "\n",
        "The above solution uses only conditionals (`if` and `else`) and function-calls. Because the function calls _itself_, it's called **recursive** .\n",
        "\n",
        "<br>\n",
        "\n",
        "An alternative approach -- and one that, to be honest, is more often used in practice, uses a **loop**.  Loops express _repetition_. It's a bit glib, but in one sense computers are really just machines for running loops... <font size=\"-2\">That said, the loops are almost always inside functions!</font>  \n",
        "\n",
        "## <b>The <i>Loop</i> solution!</b>\n",
        "\n",
        "We create a second solution, ``i2I_all_loop(s)`` which\n",
        "+ loops over each character, giving each one the name `c` - and then\n",
        "+ calls ``i2I_once`` on ***each*** of those characters, `c`\n",
        "+ and, meanwhile, adds up all of the transformed characters\n",
        "+ In the end, it returns the final **result**.\n",
        "\n",
        "Try it!"
      ],
      "metadata": {
        "id": "BSsaKb79M-pZ"
      }
    },
    {
      "cell_type": "code",
      "source": [
        "# multiple-character substitution\n",
        "\n",
        "def i2I_all_loop(s):\n",
        "  \"\"\" changes i to I for all characters in the input, s \"\"\"\n",
        "  result = ''        # the result starts as the EMPTY string!\n",
        "\n",
        "  for c in s:        # c is the name we are giving to EACH element in s (that is, each character in s)\n",
        "    result = result + i2I_once(c)   # each time, we add the new transformed output to the end of result\n",
        "    # print(\"result is\", result)    # uncomment this to see the process, in action!\n",
        "\n",
        "  return result      # at the end, we return the final, completely-created result string!\n",
        "\n",
        "# tests are in the next cell..."
      ],
      "metadata": {
        "id": "Zar7ZreiOGAl"
      },
      "execution_count": null,
      "outputs": []
    },
    {
      "cell_type": "code",
      "source": [
        "# Tests to try for i2I_all_loop\n",
        "\n",
        "print(\"i2I_all_loop('alien') should be 'alIen' <->\", i2I_all_loop('alien'))\n",
        "print(\"i2I_all_loop('aliiien') should be 'alIIIen' <->\", i2I_all_loop('aliiien'))\n",
        "print()\n",
        "\n",
        "print(\"i2I_all_loop('icicle') should be 'IcIcle' <->\", i2I_all_loop('icicle'))\n",
        "print(\"i2I_all_loop('No eyes to see here') should be 'No eyes to see here' <->\", i2I_all_loop('No eyes to see here'))"
      ],
      "metadata": {
        "id": "8AUnOPghPEPJ",
        "colab": {
          "base_uri": "https://localhost:8080/"
        },
        "outputId": "bc656746-7248-4575-a534-5dc783eaad45"
      },
      "execution_count": null,
      "outputs": [
        {
          "output_type": "stream",
          "name": "stdout",
          "text": [
            "i2I_all_loop('alien') should be 'alIen' <-> alIen\n",
            "i2I_all_loop('aliiien') should be 'alIIIen' <-> alIIIen\n",
            "\n",
            "i2I_all_loop('icicle') should be 'IcIcle' <-> IcIcle\n",
            "i2I_all_loop('No eyes to see here') should be 'No eyes to see here' <-> No eyes to see here\n"
          ]
        }
      ]
    },
    {
      "cell_type": "markdown",
      "source": [
        "### Recursion expresses \"the future\"  (Wow!)\n",
        "\n",
        "In a sense, recursion's power is its ability to express <i>... and all the future stuff...</i>  \n",
        "\n",
        "\"Knowing\" or, at least, _calling_ the future is quite a feat!\n",
        "\n",
        "As an example, here is a number-guessing game,\n",
        "+ where it's the _computer_ that has to do the guessing:"
      ],
      "metadata": {
        "id": "KDcoGajZ4Hed"
      }
    },
    {
      "cell_type": "code",
      "source": [
        "#\n",
        "# Example of recursion-as-future:\n",
        "#\n",
        "\n",
        "from random import *\n",
        "\n",
        "def guess( hidden ):\n",
        "    \"\"\"\n",
        "        have the computer guess numbers until it gets the \"hidden\" value\n",
        "        return the number of guesses\n",
        "    \"\"\"\n",
        "    this_guess = choice( range(0,100) )  # 0 to 99, inclusive\n",
        "\n",
        "    if this_guess == hidden:\n",
        "        print(\"I guessed it!\")\n",
        "        return 1                         # it only took one guess!\n",
        "\n",
        "    else:\n",
        "        return 1 + guess( hidden )  # 1 for this guess, PLUS all future guesses!\n",
        "\n",
        "# test our function!\n",
        "guess (99)"
      ],
      "metadata": {
        "colab": {
          "base_uri": "https://localhost:8080/"
        },
        "id": "uB7xNCEW4gR9",
        "outputId": "344c44f5-c757-449e-9a00-99c8ad124c86"
      },
      "execution_count": null,
      "outputs": [
        {
          "output_type": "stream",
          "name": "stdout",
          "text": [
            "I guessed it!\n"
          ]
        },
        {
          "output_type": "execute_result",
          "data": {
            "text/plain": [
              "179"
            ]
          },
          "metadata": {},
          "execution_count": 7
        }
      ]
    },
    {
      "cell_type": "markdown",
      "source": [
        "## Loops or Recursion: _Your choice_ ...\n",
        "\n",
        "For these next-few functions, feel free to use loops or recursion.\n",
        "\n",
        "_Suggestion_:  &nbsp; Copy-and-edit the solutions above. Adapt them to the new problem at hand!\n",
        "\n",
        "_Disclaimer_: &nbsp; This is how ***all*** software is created in professional practice: adapting old software that had been solving similar problems!\n",
        "\n",
        "<br>\n",
        "\n",
        "<hr>\n",
        "\n",
        "<br>"
      ],
      "metadata": {
        "id": "pA1aLiC6OGz0"
      }
    },
    {
      "cell_type": "markdown",
      "source": [
        "### <font color=\"darkblue\"><b>Task #1</b></font>: ``spongebobbify_each(s)``\n",
        "\n",
        "The ``i2I_all`` and `i2I_all_loop` and ``i2I_once`` patterns are very powerful -- and very general. Even universal!\n",
        "\n",
        "For <b>task #1</b>, the goal is to write ``spongebobbify_each(s)`` whose goal is to return a randomly-capitalized version of the input string ``s``. For example,\n",
        "\n",
        "``spongebobbify_all('where's gary?')`` might return ``WhERe's gARy?``\n",
        "+ or, it might return ``wHEre'S GArY?``\n",
        "\n",
        "First, we share Python's built-in upper-case and lower-case functions:"
      ],
      "metadata": {
        "id": "E3dQ1H0xLjg_"
      }
    },
    {
      "cell_type": "code",
      "source": [
        "s = 'shout!'\n",
        "print(\"s is\", s)\n",
        "print(\"s.upper() is\", s.upper())"
      ],
      "metadata": {
        "id": "Vw6cf77XOHGi",
        "colab": {
          "base_uri": "https://localhost:8080/"
        },
        "outputId": "ae692be3-3dfe-489e-af5b-3f6f364aa7fc"
      },
      "execution_count": null,
      "outputs": [
        {
          "output_type": "stream",
          "name": "stdout",
          "text": [
            "s is shout!\n",
            "s.upper() is SHOUT!\n"
          ]
        }
      ]
    },
    {
      "cell_type": "code",
      "source": [
        "s = 'WHISPER...'\n",
        "print(\"s is\", s)\n",
        "print(\"s.lower() is\", s.lower())"
      ],
      "metadata": {
        "id": "UWJ2vrgyOUC0",
        "colab": {
          "base_uri": "https://localhost:8080/"
        },
        "outputId": "92a5a62f-9137-4246-d372-f52b36358833"
      },
      "execution_count": null,
      "outputs": [
        {
          "output_type": "stream",
          "name": "stdout",
          "text": [
            "s is WHISPER...\n",
            "s.lower() is whisper...\n"
          ]
        }
      ]
    },
    {
      "cell_type": "markdown",
      "source": [
        "Notice that\n",
        "+ ``s.upper()`` returns a fully upper-cased version of ``s``\n",
        "+ ``s.lower()`` returns a fully lower-cased version of ``s``\n",
        "+ in both cases, non-letters are left alone..."
      ],
      "metadata": {
        "id": "Ja9-9JfLOiFn"
      }
    },
    {
      "cell_type": "markdown",
      "source": [
        "### We provide the ``once`` ...\n",
        "\n",
        "We provide the one-character version, ``spongebobbify_once(s)``\n",
        "+ Notice that it uses the ``random.choice`` function\n",
        "+ It was the same one we used in rock-paper-scissors\n",
        "\n",
        "Try it out:"
      ],
      "metadata": {
        "id": "R6i_1gFfN_7D"
      }
    },
    {
      "cell_type": "code",
      "source": [
        "# We provide the one-character version, in this case:\n",
        "import random                  #  get the random library\n",
        "\n",
        "def spongebobbify_once(s):\n",
        "  \"\"\" returns the input, randomly \"upper-cased\" or \"lower-cased\" \"\"\"\n",
        "  result = random.choice( [s.upper(), s.lower()] )   # choose one at random\n",
        "  return result\n",
        "\n",
        "# Tests in the next cell..."
      ],
      "metadata": {
        "id": "LiIQoH8hHXP-"
      },
      "execution_count": null,
      "outputs": []
    },
    {
      "cell_type": "code",
      "source": [
        "# Tests to try for spongebobbify_once\n",
        "# There are not \"right\" answers, so we just test them:\n",
        "\n",
        "print(spongebobbify_once('F is for friends who do stuff together!'))\n",
        "print(spongebobbify_once('I knew I shouldn\\'t have gotten out of bed today.'))\n",
        "print()\n",
        "\n",
        "# but we want to use it on single letters!\n",
        "print(spongebobbify_once('a'))\n",
        "print(spongebobbify_once('b'))\n",
        "print(spongebobbify_once('c'))\n",
        "print(spongebobbify_once('d'))\n",
        "print(spongebobbify_once('e'))"
      ],
      "metadata": {
        "id": "uYfr7ERRWaev",
        "colab": {
          "base_uri": "https://localhost:8080/"
        },
        "outputId": "71b54391-5ca1-4140-ec8e-8cfe34d658ce"
      },
      "execution_count": null,
      "outputs": [
        {
          "output_type": "stream",
          "name": "stdout",
          "text": [
            "F IS FOR FRIENDS WHO DO STUFF TOGETHER!\n",
            "I KNEW I SHOULDN'T HAVE GOTTEN OUT OF BED TODAY.\n",
            "\n",
            "A\n",
            "B\n",
            "C\n",
            "d\n",
            "E\n"
          ]
        }
      ]
    },
    {
      "cell_type": "markdown",
      "source": [
        "## Now, ``spongebobify_each(s)``\n",
        "\n",
        "<b>Your task</b> is to write ``spongebobify_each(s)``\n",
        "\n",
        "Use the `i2I_all(s)` OR `i2I_all_loop(s)` as guidance and as a template/example. <br>\n",
        "Then, adapt from there:\n",
        "+ How much can be re-used?\n",
        "+ How much works as-is?\n",
        "+ Experiment!\n",
        "\n",
        "It's a remarkably versatile approach!\n",
        "\n",
        "Try our ~~tests~~ quotes -- and add three tests/quotes of your own:\n"
      ],
      "metadata": {
        "id": "nBFQKUs9YY1K"
      }
    },
    {
      "cell_type": "code",
      "source": [
        "# Here, write your  spongebobify_all(s)\n",
        "import random  # get the random library\n",
        "\n",
        "def spongebobbify_once(s):\n",
        "    \"\"\"Randomly uppercase or lowercase one character\"\"\"\n",
        "    return random.choice([s.upper(), s.lower()]) #Choose randomly\n",
        "\n",
        "def spongebobbify_all(s):\n",
        "    \"\"\"Recursively apply spongebobbify_once to all characters\"\"\"\n",
        "    if s == '': #stop when string is empty\n",
        "        return ''\n",
        "    return spongebobbify_once(s[0]) + spongebobbify_all(s[1:])  # Process first, then rest\n",
        "\n",
        "\n",
        "\n",
        "\n",
        "# Try our tests (next cell) and add three of your own...\n",
        "# Preferably sBoB QuoTeS..."
      ],
      "metadata": {
        "id": "fGGZ9ApSZEW1"
      },
      "execution_count": null,
      "outputs": []
    },
    {
      "cell_type": "code",
      "source": [
        "# Tests to try for spongebobbify_once\n",
        "# There are not \"right\" answers, so we just test them:\n",
        "\n",
        "print(spongebobbify_all('F is for friends who do stuff together!'))\n",
        "print(spongebobbify_all('I knew I shouldn\\'t have gotten out of bed today.'))\n",
        "print(spongebobbify_all('The inner machinations of my mind are an enigma. - Patrick'))\n",
        "print()\n",
        "\n",
        "# Your tests here:\n",
        "print(spongebobbify_all('I’m ready!'))\n",
        "print(spongebobbify_all('The Krusty Krab pizza!'))\n",
        "print(spongebobbify_all('Is mayonnaise an instrument?'))"
      ],
      "metadata": {
        "id": "geZNGG45ZMlJ",
        "colab": {
          "base_uri": "https://localhost:8080/"
        },
        "outputId": "b6ca55c6-43cd-4c50-a07f-7ce556671f95"
      },
      "execution_count": null,
      "outputs": [
        {
          "output_type": "stream",
          "name": "stdout",
          "text": [
            "f is FoR frieNDS Who Do STuff toGetHeR!\n",
            "i kNew i sHOULDn'T have gotTEN out Of BED TODay.\n",
            "thE iNneR macHiNATIoNs of My MinD ArE An ENIGMa. - PATRicK\n",
            "\n",
            "I’M ready!\n",
            "tHE kRuStY kRab piZzA!\n",
            "is mayoNnaIsE aN INstrumEnT?\n"
          ]
        }
      ]
    },
    {
      "cell_type": "markdown",
      "source": [
        "### <font color=\"darkblue\"><b>Task #2</b></font>: ``encode_each(s)`` and ``decode_each(s)``\n",
        "\n",
        "also ``encode_once(s)`` and ``decode_once(s)``\n",
        "\n",
        "<br>\n",
        "\n",
        "_Any_ substitution is possible with our key idea:\n",
        "+ replace the **first** element: the ``once``\n",
        "+ continue the process with the **rest**: another ``all``\n",
        "+ be sure to **stop** (``return ''``) when no input remains!\n",
        "\n",
        "For <b>task #2</b>, we invite you to create your own ``encode`` and ``decode`` functions:\n",
        "\n",
        "<br>\n",
        "\n",
        "Your encode (``encode_once`` and ``encode_all``) should\n",
        "+ replace at least ten letters with other characters\n",
        "  + your choice - other letters, punctuation, emojis ``\"☕⚽ 🦔\"`` or some other one-to-one substitution\n",
        "  + totally ok to substitute more than ten: less readable\n",
        "  + it can't be random, because it needs to be reversible!\n",
        "  + use the loop approach or the recursion approach -- up to you! (Both work...)\n",
        "\n",
        "<br>\n",
        "\n",
        "Your decode (``decode_once`` and ``decode_each``) should\n",
        "+ reverse the effects of your encode functions\n",
        "\n",
        "<br>\n",
        "\n",
        "Then, run our tests -- and add three tests of your own\n",
        "+ let's say at least a sentence, or so, in size..."
      ],
      "metadata": {
        "id": "PTNNYYC3TBrA"
      }
    },
    {
      "cell_type": "code",
      "source": [
        "#\n",
        "# Use this cell -- and/or create more cells -- for your encode and decode functions\n",
        "# There will be four functions in total!\n",
        "#\n",
        "\n",
        "encoding_map = {'a': '😊', 'b': '🔥', 'c': '🌟', 'd': '💡', 'e': '🎶',\n",
        "    'f': '🍕', 'g': '🚀', 'h': '📚', 'i': '💖', 'j': '🎮'} #10 letters replaced\n",
        "\n",
        "decoding_map = {'😊': 'a', '🔥': 'b', '🌟': 'c', '💡': 'd', '🎶': 'e',\n",
        "    '🍕': 'f', '🚀': 'g', '📚': 'h', '💖': 'i', '🎮': 'j'}\n",
        "\n",
        "def encode_once(s):\n",
        "    \"\"\"Replace one character\"\"\"\n",
        "    if s == 'a':\n",
        "        return '😊'\n",
        "    elif s == 'b':\n",
        "        return '🔥'\n",
        "    elif s == 'c':\n",
        "        return '🌟'\n",
        "    elif s == 'd':\n",
        "        return '💡'\n",
        "    elif s == 'e':\n",
        "        return '🎶'\n",
        "    elif s == 'f':\n",
        "        return '🍕'\n",
        "    elif s == 'g':\n",
        "        return '🚀'\n",
        "    elif s == 'h':\n",
        "        return '📚'\n",
        "    elif s == 'i':\n",
        "        return '💖'\n",
        "    elif s == 'j':\n",
        "        return '🎮' #Encode one character\n",
        "    else:\n",
        "        return s  #Keep original if not in map\n",
        "\n",
        "\n",
        "def decode_once(s):\n",
        "    \"\"\"Reverse encoding process\"\"\"\n",
        "    if s == '😊':\n",
        "        return 'a'\n",
        "    elif s == '🔥':\n",
        "        return 'b'\n",
        "    elif s == '🌟':\n",
        "        return 'c'\n",
        "    elif s == '💡':\n",
        "        return 'd'\n",
        "    elif s == '🎶':\n",
        "        return 'e'\n",
        "    elif s == '🍕':\n",
        "        return 'f'\n",
        "    elif s == '🚀':\n",
        "        return 'g'\n",
        "    elif s == '📚':\n",
        "        return 'h'\n",
        "    elif s == '💖':\n",
        "        return 'i'\n",
        "    elif s == '🎮':\n",
        "        return 'j'   #Decode one character\n",
        "    else:\n",
        "        return s  #Keep as is if not encoded\n",
        "\n",
        "def encode_each(s):\n",
        "    \"\"\"Encode full string\"\"\"\n",
        "    if s == '':\n",
        "        return ''\n",
        "    return encode_once(s[0]) + encode_each(s[1:])\n",
        "\n",
        "def decode_each(s):\n",
        "    \"\"\"Decode full string\"\"\"\n",
        "    if s == '':\n",
        "        return ''\n",
        "    return decode_once(s[0]) + decode_each(s[1:])\n",
        "# Our tests are below. Then, add three tests of your own:\n",
        "print(encode_each('Mohammed with IST341_Participant_5'))\n",
        "print(decode_each(encode_each('Mohammed with IST341_Participant_5')))\n",
        "print(encode_each('we love python '))\n",
        "print(decode_each(encode_each('we love Pythone ')))\n"
      ],
      "metadata": {
        "id": "Ofu844mMVsjg",
        "colab": {
          "base_uri": "https://localhost:8080/"
        },
        "outputId": "cc46d4f6-9e0a-4288-83e0-600ecc30dc62"
      },
      "execution_count": null,
      "outputs": [
        {
          "output_type": "stream",
          "name": "stdout",
          "text": [
            "Mo📚😊mm🎶💡 w💖t📚 F😊📚😊💡\n",
            "Mohammed with IST341_Participant_5\n",
            "w🎶 lov🎶 pyt📚on \n",
            "we love Pythone \n"
          ]
        }
      ]
    },
    {
      "cell_type": "code",
      "source": [
        "CGU = \"\"\"Claremont Graduate University prepares individuals to be leaders\n",
        "for positive change in the world. Unique in its transdisciplinary approach,\n",
        "the university is dedicated to the creation, dissemination, and application\n",
        "of new knowledge and diverse perspectives through research, practice,\n",
        "creative works, and community engagement.\n",
        "\"\"\"\n",
        "\n",
        "E = encode_each(CGU)\n",
        "print(\"encode_all(CGU) is\", E)\n",
        "\n",
        "D = decode_each(E)\n",
        "print(\"decode_all(E) is\", D)  # should be the original!\n",
        "\n",
        "\n",
        "CMC = \"\"\"Claremont McKenna College's mission is to educate its students\n",
        "for thoughtful and productive lives and responsible leadership in\n",
        "business, government, and the professions, and to support faculty\n",
        "and student scholarship that contribute to intellectual vitality\n",
        "and the understanding of public policy issues.\"\"\"\n",
        "\n",
        "E = encode_each(CMC)\n",
        "print(\"encode_all(CMC) is\", E)\n",
        "\n",
        "D = decode_each(E)\n",
        "print(\"decode_all(E) is\", D)  # should be the original!\n",
        "\n",
        "\n",
        "SCR = \"\"\"The mission of Scripps College is to educate women to\n",
        "develop their intellects and talents through active participation\n",
        "in a community of scholars, so that as graduates they may contribute\n",
        "to society through public and private lives of leadership, service,\n",
        "integrity, and creativity..\"\"\"\n",
        "\n",
        "E = encode_each(SCR)\n",
        "print(\"encode_all(SCR) is\", E)\n",
        "\n",
        "D = decode_each(E)\n",
        "print(\"decode_all(E) is\", D)  # should be the original!\n",
        "\n",
        "\n",
        "\n"
      ],
      "metadata": {
        "id": "LzyRnUL6V1uw",
        "colab": {
          "base_uri": "https://localhost:8080/"
        },
        "outputId": "ed92862d-70f3-4cf0-f4d2-7f125c3f3941"
      },
      "execution_count": null,
      "outputs": [
        {
          "output_type": "stream",
          "name": "stdout",
          "text": [
            "encode_all(CGU) is Cl😊r🎶mont Gr😊💡u😊t🎶 Un💖v🎶rs💖ty pr🎶p😊r🎶s 💖n💡💖v💖💡u😊ls to 🔥🎶 l🎶😊💡🎶rs\n",
            "🍕or pos💖t💖v🎶 🌟📚😊n🚀🎶 💖n t📚🎶 worl💡. Un💖qu🎶 💖n 💖ts tr😊ns💡💖s🌟💖pl💖n😊ry 😊ppro😊🌟📚,\n",
            "t📚🎶 un💖v🎶rs💖ty 💖s 💡🎶💡💖🌟😊t🎶💡 to t📚🎶 🌟r🎶😊t💖on, 💡💖ss🎶m💖n😊t💖on, 😊n💡 😊ppl💖🌟😊t💖on\n",
            "o🍕 n🎶w knowl🎶💡🚀🎶 😊n💡 💡💖v🎶rs🎶 p🎶rsp🎶🌟t💖v🎶s t📚rou🚀📚 r🎶s🎶😊r🌟📚, pr😊🌟t💖🌟🎶,\n",
            "🌟r🎶😊t💖v🎶 works, 😊n💡 🌟ommun💖ty 🎶n🚀😊🚀🎶m🎶nt.\n",
            "\n",
            "decode_all(E) is Claremont Graduate University prepares individuals to be leaders\n",
            "for positive change in the world. Unique in its transdisciplinary approach,\n",
            "the university is dedicated to the creation, dissemination, and application\n",
            "of new knowledge and diverse perspectives through research, practice,\n",
            "creative works, and community engagement.\n",
            "\n",
            "encode_all(CMC) is Cl😊r🎶mont M🌟K🎶nn😊 Coll🎶🚀🎶's m💖ss💖on 💖s to 🎶💡u🌟😊t🎶 💖ts stu💡🎶nts\n",
            "🍕or t📚ou🚀📚t🍕ul 😊n💡 pro💡u🌟t💖v🎶 l💖v🎶s 😊n💡 r🎶spons💖🔥l🎶 l🎶😊💡🎶rs📚💖p 💖n\n",
            "🔥us💖n🎶ss, 🚀ov🎶rnm🎶nt, 😊n💡 t📚🎶 pro🍕🎶ss💖ons, 😊n💡 to support 🍕😊🌟ulty\n",
            "😊n💡 stu💡🎶nt s🌟📚ol😊rs📚💖p t📚😊t 🌟ontr💖🔥ut🎶 to 💖nt🎶ll🎶🌟tu😊l v💖t😊l💖ty\n",
            "😊n💡 t📚🎶 un💡🎶rst😊n💡💖n🚀 o🍕 pu🔥l💖🌟 pol💖🌟y 💖ssu🎶s.\n",
            "decode_all(E) is Claremont McKenna College's mission is to educate its students\n",
            "for thoughtful and productive lives and responsible leadership in\n",
            "business, government, and the professions, and to support faculty\n",
            "and student scholarship that contribute to intellectual vitality\n",
            "and the understanding of public policy issues.\n",
            "encode_all(SCR) is T📚🎶 m💖ss💖on o🍕 S🌟r💖pps Coll🎶🚀🎶 💖s to 🎶💡u🌟😊t🎶 wom🎶n to\n",
            "💡🎶v🎶lop t📚🎶💖r 💖nt🎶ll🎶🌟ts 😊n💡 t😊l🎶nts t📚rou🚀📚 😊🌟t💖v🎶 p😊rt💖🌟💖p😊t💖on\n",
            "💖n 😊 🌟ommun💖ty o🍕 s🌟📚ol😊rs, so t📚😊t 😊s 🚀r😊💡u😊t🎶s t📚🎶y m😊y 🌟ontr💖🔥ut🎶\n",
            "to so🌟💖🎶ty t📚rou🚀📚 pu🔥l💖🌟 😊n💡 pr💖v😊t🎶 l💖v🎶s o🍕 l🎶😊💡🎶rs📚💖p, s🎶rv💖🌟🎶,\n",
            "💖nt🎶🚀r💖ty, 😊n💡 🌟r🎶😊t💖v💖ty..\n",
            "decode_all(E) is The mission of Scripps College is to educate women to\n",
            "develop their intellects and talents through active participation\n",
            "in a community of scholars, so that as graduates they may contribute\n",
            "to society through public and private lives of leadership, service,\n",
            "integrity, and creativity..\n"
          ]
        }
      ]
    },
    {
      "cell_type": "markdown",
      "source": [
        "### <font color=\"darkblue\"><b>Task #3: Counting!</b></font> &nbsp; ``vwl_once(s)`` and ``vwl_count(s)``\n",
        "\n",
        "<br>\n",
        "\n",
        "This technique handles _any_ substitution, even numeric ones!\n",
        "\n",
        "Next, our goal will be to ***count*** the number of vowels in an input string ``s``:\n",
        "+ we use ``vwl_once(s)`` to give a count of ``1`` to vowels\n",
        "+ and we give a count of ``0`` to everything that's not a vowel\n",
        "+ For now, we'll count ``aeiou`` as vowels, and their uppercase selves\n",
        "\n",
        "Then, **you** will write  ``vwl_count(s)`` to handle arbitrary-sized inputs!\n",
        "+ The first functions is written, as shown below.\n",
        "+ The second one is prepared, and your task is to complete it...\n",
        "+ It will be very much like previous functions!\n",
        "\n",
        "<br>\n",
        "\n",
        "Then, try it out -- analyze the \"vowel-content\" of the three mission statements above -- and test your own and a friend's prose-paragraphs:"
      ],
      "metadata": {
        "id": "yquk1xgWXz2z"
      }
    },
    {
      "cell_type": "code",
      "source": [
        "#\n",
        "# Here are vwl_once and vwl_all\n",
        "#\n",
        "\n",
        "def vwl_once(s):\n",
        "  \"\"\" returns a score of 1 for single-character vowels aeiou\n",
        "      returns a score of 0 for everything else\n",
        "  \"\"\"\n",
        "  if len(s) != 1:    # not a single-character? score is 0\n",
        "    return 0\n",
        "  else:\n",
        "    s = s.lower()    # simplify by making s lower case\n",
        "    if s in 'aeiou':      # if s is in that string, it's a vowel: score is 1\n",
        "      return 1\n",
        "    else:                 # if not: score is 0\n",
        "      return 0\n",
        "\n",
        "\n",
        "def vwl_count(s):\n",
        "  \"\"\" returns the total \"vowel-score for an input string s\n",
        "      that is, we return the number of vowels in s\n",
        "  \"\"\"\n",
        "  total = 0  #Store vowel count\n",
        "  for c in s:\n",
        "        vowel_score = vwl_once(c)  # Check if character is a vowel\n",
        "        total = total + vowel_score  # Add to total count\n",
        "  return total  # Return final count\n",
        "  # you need to write this one!\n",
        "  # use the previous examples (especially the \"each\" examples) as a guide! :-)\n",
        "\n",
        "\n",
        "\n",
        "# Tests and tests-to-write are in the next cells:"
      ],
      "metadata": {
        "id": "ffMaiI26eIZQ"
      },
      "execution_count": null,
      "outputs": []
    },
    {
      "cell_type": "code",
      "source": [
        "print(\"vwl_count('English usually has lots of vowels.') should be 10 <->\", vwl_count('English usually has lots of vowels.'))\n",
        "print(\"The CGU mission statement has this many vowels: (let's see!) <->\", vwl_count(CGU))\n",
        "print(\"The CMC mission statement has this many vowels: (let's see!) <->\", vwl_count(CMC))\n",
        "print(\"The SCR mission statement has this many vowels: (let's see!) <->\", vwl_count(SCR))\n",
        "print(\"vwl_count('IST341_Participant_5 and Mohammed') should be 6 \" , vwl_count ('IST341_Participant_5 and Mohammed') )"
      ],
      "metadata": {
        "id": "YCtNmfnZetpe",
        "colab": {
          "base_uri": "https://localhost:8080/"
        },
        "outputId": "e8631656-65e5-43cb-b20a-a7bc8371595a"
      },
      "execution_count": null,
      "outputs": [
        {
          "output_type": "stream",
          "name": "stdout",
          "text": [
            "vwl_count('English usually has lots of vowels.') should be 10 <-> 10\n",
            "The CGU mission statement has this many vowels: (let's see!) <-> 110\n",
            "The CMC mission statement has this many vowels: (let's see!) <-> 93\n",
            "The SCR mission statement has this many vowels: (let's see!) <-> 91\n",
            "vwl_count('IST341_Participant_5 and Mohammed') should be 6  6\n"
          ]
        }
      ]
    },
    {
      "cell_type": "code",
      "source": [
        "#\n",
        "# Part 1 task: determine which mission statement has the most vowels-per-character!\n",
        "#\n",
        "#        Hint: count the vowels, then use len to determine vowels-per-character!\n",
        "#        Compare the three strings already defined above:   CGU,  CMC,  and SCR\n",
        "\n",
        "def vowels_per_character(s):\n",
        "    \"\"\"Count vowels in a given text using len(s)\"\"\"\n",
        "    vowel_count = vwl_count(s)  #Count vowels\n",
        "    total_chars = len(s)  #Use len(s)\n",
        "    return vowel_count  #Return  vowel count\n",
        "\n",
        "#Start to count vowels\n",
        "cgu_vowel_count = vowels_per_character(CGU)\n",
        "cmc_vowel_count = vowels_per_character(CMC)\n",
        "scr_vowel_count = vowels_per_character(SCR)\n",
        "\n",
        "#Print vowel counts\n",
        "print(\"CGU - Vowel count:\", cgu_vowel_count)\n",
        "print(\"CMC - Vowel count:\", cmc_vowel_count)\n",
        "print(\"SCR - Vowel count:\", scr_vowel_count)\n",
        "\n",
        "#Compare using if-elif\n",
        "if cgu_vowel_count > cmc_vowel_count and cgu_vowel_count > scr_vowel_count:\n",
        "    print(\"CGU has the highest number of vowels!\")\n",
        "elif cmc_vowel_count > cgu_vowel_count and cmc_vowel_count > scr_vowel_count:\n",
        "    print(\"CMC has the highest number of vowels!\")\n",
        "else:\n",
        "    print(\"SCR has the highest number of vowels!\")\n"
      ],
      "metadata": {
        "id": "Vy2Q-bAdcIzB",
        "colab": {
          "base_uri": "https://localhost:8080/"
        },
        "outputId": "b0a118a5-80ef-4922-cffc-42866261234b"
      },
      "execution_count": null,
      "outputs": [
        {
          "output_type": "stream",
          "name": "stdout",
          "text": [
            "CGU - Vowel count: 110\n",
            "CMC - Vowel count: 93\n",
            "SCR - Vowel count: 91\n",
            "CGU has the highest number of vowels!\n"
          ]
        }
      ]
    },
    {
      "cell_type": "code",
      "source": [
        "#\n",
        "# Part 2 task: determine whose prose is more vowel-rich?\n",
        "# + find a paragraph of prose you've written\n",
        "# + find a paragraph a friend has written (or another one that you have!)\n",
        "#\n",
        "# Assign each to a variable:\n",
        "\n",
        "YOURS = \"\"\" My name is Mohammed.\n",
        "I study PhD in Data Science.\n",
        "I like learn new tech and solve problem.\n",
        "My hobbies are walking and swimming\n",
        "\"\"\"\n",
        "\n",
        "THEIRS = \"\"\"  I am IST341_Participant_5.\n",
        "I study PhD student in Data Science too.\n",
        "We do this task together and talk about it.\n",
        "my hobbies is watching movies and play padel\n",
        "\"\"\"\n",
        "\n",
        "yours_vowel_count = vowels_per_character(YOURS)\n",
        "theirs_vowel_count = vowels_per_character(THEIRS)\n",
        "\n",
        "print(\"YOURS - Vowel count:\", yours_vowel_count)\n",
        "print(\"THEIRS - Vowel count:\", theirs_vowel_count)\n",
        "\n",
        "if yours_vowel_count > theirs_vowel_count:\n",
        "    print(\"Your paragraph has more vowels!\")\n",
        "elif theirs_vowel_count > yours_vowel_count:\n",
        "    print(\"Their paragraph has more vowels!\")\n",
        "else:\n",
        "    print(\"Both paragraphs have the same number of vowels!\")\n",
        "#\n",
        "# This analysis is similar to the mission statements...\n",
        "#\n"
      ],
      "metadata": {
        "id": "qNmOUfXrckDv",
        "colab": {
          "base_uri": "https://localhost:8080/"
        },
        "outputId": "9827d416-6558-4160-fdbd-16511261f3a4"
      },
      "execution_count": null,
      "outputs": [
        {
          "output_type": "stream",
          "name": "stdout",
          "text": [
            "YOURS - Vowel count: 36\n",
            "THEIRS - Vowel count: 42\n",
            "Their paragraph has more vowels!\n"
          ]
        }
      ]
    },
    {
      "cell_type": "markdown",
      "metadata": {
        "id": "keRyNeHE3gF4"
      },
      "source": [
        "<br>\n",
        "\n",
        "# Loops!\n",
        "\n",
        "in addition, this notebook combines last week's ideas (functions and slicing/indexing) with the most important time-saving capability of programming languages: <i>repetition</i>\n",
        "\n",
        "That is, we're diving into <i><b>loops</b></i>\n",
        "\n",
        "In addition, we explore more deeply a library we used in the rock-paper-scissors problem, namely the <b><tt>random</tt></b> library.\n",
        "\n",
        "Together, <i>randomness</i> and <i>loops</i> are a powerful combination. Later in this notebook, you will create a <i>Monte Carlo simulations</i> using randomness-within-loops.\n",
        "\n",
        "<hr>\n",
        "\n",
        "## Onward!\n",
        "\n",
        "<br>"
      ]
    },
    {
      "cell_type": "code",
      "execution_count": null,
      "metadata": {
        "id": "djYWrO0u3gGA"
      },
      "outputs": [],
      "source": [
        "\n",
        "# this imports the library named random\n",
        "\n",
        "import random\n",
        "\n",
        "# once it's imported, you are able to call random.choice(L) for any sequence L\n",
        "# try it:"
      ]
    },
    {
      "cell_type": "code",
      "execution_count": null,
      "metadata": {
        "id": "RPrqK2Sr3gGC",
        "colab": {
          "base_uri": "https://localhost:8080/"
        },
        "outputId": "9705ef67-e5df-46a2-d10f-a5bc7723e4b4"
      },
      "outputs": [
        {
          "output_type": "stream",
          "name": "stdout",
          "text": [
            "result is university\n"
          ]
        }
      ],
      "source": [
        "\n",
        "# Try out random.choice -- several times!\n",
        "result = random.choice( ['claremont', 'graduate', 'university'] )\n",
        "print(\"result is\", result)"
      ]
    },
    {
      "cell_type": "code",
      "execution_count": null,
      "metadata": {
        "id": "AReUp5wT3gGD",
        "colab": {
          "base_uri": "https://localhost:8080/"
        },
        "outputId": "6c787ddb-c5f9-47d4-8ea8-e8cffbbb6e21"
      },
      "outputs": [
        {
          "output_type": "stream",
          "name": "stdout",
          "text": [
            "result is graduate\n",
            "result is graduate\n",
            "result is graduate\n",
            "result is graduate\n",
            "result is graduate\n",
            "result is university\n",
            "result is claremont\n",
            "result is graduate\n",
            "result is university\n",
            "result is graduate\n"
          ]
        }
      ],
      "source": [
        "\n",
        "# let's see a loop do this 10 times!\n",
        "\n",
        "for i in range(10):                # loop 10 times\n",
        "    result = random.choice( ['claremont', 'graduate', 'university'] ) # choose\n",
        "    print(\"result is\", result)     # print"
      ]
    },
    {
      "cell_type": "code",
      "execution_count": null,
      "metadata": {
        "id": "8aAzqlsj3gGF"
      },
      "outputs": [],
      "source": [
        "\n",
        "#\n",
        "# you can also import a library can be imported by using this line:\n",
        "\n",
        "from random import *\n",
        "\n",
        "# when the above line is run, you are able to call choice(L) for any sequence L\n",
        "#\n",
        "# note that you won't need random.choice(L)\n",
        "# let's try it!"
      ]
    },
    {
      "cell_type": "code",
      "execution_count": null,
      "metadata": {
        "id": "SKvXsosu3gGG",
        "colab": {
          "base_uri": "https://localhost:8080/"
        },
        "outputId": "2f36cf6f-a3e7-4a6d-ea3e-b980d03f93e4"
      },
      "outputs": [
        {
          "output_type": "stream",
          "name": "stdout",
          "text": [
            "result is rock\n"
          ]
        }
      ],
      "source": [
        "\n",
        "result = choice( [\"rock\", \"paper\", \"scissors\"] )\n",
        "print(\"result is\", result)"
      ]
    },
    {
      "cell_type": "code",
      "execution_count": null,
      "metadata": {
        "id": "KMZMwPDR3gGH",
        "colab": {
          "base_uri": "https://localhost:8080/"
        },
        "outputId": "cbf834b4-d057-4e4d-80fd-77cbe3ac3527"
      },
      "outputs": [
        {
          "output_type": "stream",
          "name": "stdout",
          "text": [
            "[0, 1, 2, 3, 4, 5, 6, 7, 8, 9, 10, 11, 12, 13, 14, 15, 16, 17, 18, 19, 20, 21, 22, 23, 24, 25, 26, 27, 28, 29, 30, 31, 32, 33, 34, 35, 36, 37, 38, 39, 40, 41, 42, 43, 44, 45, 46, 47, 48, 49, 50, 51, 52, 53, 54, 55, 56, 57, 58, 59, 60, 61, 62, 63, 64, 65, 66, 67, 68, 69, 70, 71, 72, 73, 74, 75, 76, 77, 78, 79, 80, 81, 82, 83, 84, 85, 86, 87, 88, 89, 90, 91, 92, 93, 94, 95, 96, 97, 98, 99]\n"
          ]
        }
      ],
      "source": [
        "\n",
        "# Python can create lists of any integers you'd like...\n",
        "L = list(range(0,100))    # try different values; try omitting/changing the 0\n",
        "print(L)"
      ]
    },
    {
      "cell_type": "code",
      "execution_count": null,
      "metadata": {
        "id": "hjbvKcOx3gGI",
        "colab": {
          "base_uri": "https://localhost:8080/"
        },
        "outputId": "36041c3c-0e0b-4578-f335-8bf566b61a79"
      },
      "outputs": [
        {
          "output_type": "stream",
          "name": "stdout",
          "text": [
            "result is 49\n"
          ]
        }
      ],
      "source": [
        "\n",
        "# combining these, we can choose random integers from a list\n",
        "result = choice( range(0,100) )   # from 0 to 99\n",
        "print(\"result is\", result)"
      ]
    },
    {
      "cell_type": "code",
      "execution_count": null,
      "metadata": {
        "id": "-vct4ZWf3gGJ",
        "colab": {
          "base_uri": "https://localhost:8080/"
        },
        "outputId": "f61fef28-5191-49f3-d897-b6a87d5c9f94"
      },
      "outputs": [
        {
          "output_type": "stream",
          "name": "stdout",
          "text": [
            "result is 66\n",
            "result is 77\n",
            "result is 50\n",
            "result is 37\n",
            "result is 61\n",
            "result is 77\n",
            "result is 0\n",
            "result is 99\n",
            "result is 10\n",
            "result is 50\n"
          ]
        }
      ],
      "source": [
        "\n",
        "# let's run this 10 times!\n",
        "for i in range(0,10):\n",
        "    result = choice( range(0,100) )   # from 0 to 99\n",
        "    print(\"result is\", result)"
      ]
    },
    {
      "cell_type": "code",
      "execution_count": null,
      "metadata": {
        "id": "jqs9df3l3gGJ",
        "colab": {
          "base_uri": "https://localhost:8080/"
        },
        "outputId": "877576cd-1e1e-4931-e9c7-2520fc4c1a01"
      },
      "outputs": [
        {
          "output_type": "stream",
          "name": "stdout",
          "text": [
            "i is 0\n",
            "i is 1\n",
            "i is 2\n"
          ]
        }
      ],
      "source": [
        "\n",
        "# let's get more comfortable with loops...\n",
        "\n",
        "for i in [0,1,2]:     # Key: What variable is being defined and set?!\n",
        "    print(\"i is\", i)\n"
      ]
    },
    {
      "cell_type": "code",
      "execution_count": null,
      "metadata": {
        "id": "eb2C9OKS3gGJ",
        "colab": {
          "base_uri": "https://localhost:8080/"
        },
        "outputId": "3a983a44-e14c-48cb-bb3d-5b568c7859e9"
      },
      "outputs": [
        {
          "output_type": "stream",
          "name": "stdout",
          "text": [
            "i is 0\n",
            "i is 1\n",
            "i is 2\n"
          ]
        }
      ],
      "source": [
        "\n",
        "# Note that range(0,3) generates [0,1,2]\n",
        "\n",
        "for i in range(0,3):     # Key: What variable is being defined and set?!\n",
        "    print(\"i is\", i)\n",
        "\n",
        "# When would you _not_ want to use range for integers?"
      ]
    },
    {
      "cell_type": "code",
      "execution_count": null,
      "metadata": {
        "id": "H8qzyqaS3gGU",
        "colab": {
          "base_uri": "https://localhost:8080/"
        },
        "outputId": "3dab958d-7dc6-425c-c4f0-df5611a518e3"
      },
      "outputs": [
        {
          "output_type": "stream",
          "name": "stdout",
          "text": [
            "x is 2\n",
            "x is 15\n",
            "x is 2025\n"
          ]
        }
      ],
      "source": [
        "\n",
        "# Usually i is for counting, x is for other things (wise, not req.)\n",
        "\n",
        "for x in [2,15,2025]:     # Key: the loop variable\n",
        "    print(\"x is\", x)\n",
        "\n",
        "# When would you _not_ want to use range for integers?"
      ]
    },
    {
      "cell_type": "code",
      "execution_count": null,
      "metadata": {
        "id": "SCG79oyN3gGU",
        "colab": {
          "base_uri": "https://localhost:8080/"
        },
        "outputId": "4be11c33-fcdf-4c53-fa78-d2d9e81fbbd0"
      },
      "outputs": [
        {
          "output_type": "stream",
          "name": "stdout",
          "text": [
            "1 Happy birthday!\n",
            "2 Happy birthday!\n",
            "3 Happy birthday!\n",
            "4 Happy birthday!\n",
            "5 Happy birthday!\n",
            "6 Happy birthday!\n",
            "7 Happy birthday!\n",
            "8 Happy birthday!\n",
            "9 Happy birthday!\n",
            "10 Happy birthday!\n",
            "11 Happy birthday!\n",
            "12 Happy birthday!\n",
            "13 Happy birthday!\n",
            "14 Happy birthday!\n",
            "15 Happy birthday!\n",
            "16 Happy birthday!\n",
            "17 Happy birthday!\n",
            "18 Happy birthday!\n",
            "19 Happy birthday!\n",
            "20 Happy birthday!\n",
            "21 Happy birthday!\n",
            "22 Happy birthday!\n",
            "23 Happy birthday!\n",
            "24 Happy birthday!\n",
            "25 Happy birthday!\n",
            "26 Happy birthday!\n",
            "27 Happy birthday!\n",
            "28 Happy birthday!\n",
            "29 Happy birthday!\n",
            "30 Happy birthday!\n",
            "31 Happy birthday!\n",
            "32 Happy birthday!\n",
            "33 Happy birthday!\n",
            "34 Happy birthday!\n",
            "35 Happy birthday!\n",
            "36 Happy birthday!\n",
            "37 Happy birthday!\n",
            "38 Happy birthday!\n",
            "39 Happy birthday!\n",
            "40 Happy birthday!\n",
            "41 Happy birthday!\n",
            "42 Happy birthday!\n"
          ]
        }
      ],
      "source": [
        "\n",
        "# How could we get this to print \"Happy birthday!\" 42 times?\n",
        "\n",
        "for i in range(1,43):\n",
        "    print(i, 'Happy birthday!')"
      ]
    },
    {
      "cell_type": "markdown",
      "metadata": {
        "id": "7KFo8pX73gGV"
      },
      "source": [
        "<br>\n",
        "\n",
        "#### Functions often use loops... Watch out!\n",
        "+ <tt><b>return</b></tt> is <i>more powerful</i> than the loop\n",
        "+ <tt><b>return</b></tt> <i>always</i> wins!\n",
        "\n",
        "Take a look:"
      ]
    },
    {
      "cell_type": "code",
      "execution_count": null,
      "metadata": {
        "id": "hzE-We7i3gGV"
      },
      "outputs": [],
      "source": [
        "\n",
        "# return _after_ a loop:\n",
        "\n",
        "def funA():\n",
        "    for i in range(0,3):\n",
        "        print(\"i is\", i)\n",
        "    return\n",
        "\n",
        "# why does this not print anything?!??\n",
        "#because we did not call the function\n"
      ]
    },
    {
      "cell_type": "code",
      "execution_count": null,
      "metadata": {
        "id": "n4nsuJUZ3gGW",
        "colab": {
          "base_uri": "https://localhost:8080/"
        },
        "outputId": "680f2a2b-739e-4028-f2de-01734c459079"
      },
      "outputs": [
        {
          "output_type": "stream",
          "name": "stdout",
          "text": [
            "i is 0\n"
          ]
        }
      ],
      "source": [
        "\n",
        "# return _within_ a loop:\n",
        "\n",
        "def funB():\n",
        "    for i in range(0,3):\n",
        "       print(\"i is\", i)\n",
        "       return\n",
        "\n",
        "# What do we need here?  (Is this what you expect?!)\n",
        "#fix the indentation of the \"return\" and call the function\n",
        "    for i in range(0,3):\n",
        "       print(\"i is\", i)\n",
        "    return\n",
        "\n",
        "funB()\n"
      ]
    },
    {
      "cell_type": "code",
      "execution_count": null,
      "metadata": {
        "id": "KTm78DFX3gGW"
      },
      "outputs": [],
      "source": [
        "\n",
        "# let's add an if statement (a conditional)\n",
        "#              ... to test different indentations\n",
        "\n",
        "def funB1():\n",
        "    for i in range(1,6):\n",
        "        if i%2 == 0:\n",
        "            print(\"i is\", i)\n",
        "            return\n"
      ]
    },
    {
      "cell_type": "code",
      "source": [
        "funB1()"
      ],
      "metadata": {
        "colab": {
          "base_uri": "https://localhost:8080/"
        },
        "id": "jY2F52whbsT8",
        "outputId": "9cd83819-8743-4558-92fa-6ed707648792"
      },
      "execution_count": null,
      "outputs": [
        {
          "output_type": "stream",
          "name": "stdout",
          "text": [
            "i is 2\n"
          ]
        }
      ]
    },
    {
      "cell_type": "markdown",
      "metadata": {
        "id": "U1e4MYjc3gGW"
      },
      "source": [
        "<br>\n",
        "\n",
        "#### Accumulators\n",
        "+ a <i>very</i> common approach is to use a loop to <i>accumulate</i> a desired result\n",
        "+ the idea is to start the result at a \"nothing\" value, which is not always zero...\n",
        "+ then operate on it until it becomes the final result!\n",
        "\n",
        "#### factorial\n",
        "+ <pre>fac(5) == 1*2*3*4*5</pre>\n",
        "+ <pre>fac(N) == 1*2*3*4* ... *(N-2)*(N-1)*N</pre>\n",
        "\n",
        "#### addup\n",
        "+ <pre>addup(5) == 1+2+3+4+5</pre>\n",
        "+ <pre>addup(N) == 1+2+3+4+ ... +(N-2)+(N-1)+N</pre>\n",
        "\n",
        "<br>"
      ]
    },
    {
      "cell_type": "code",
      "execution_count": null,
      "metadata": {
        "id": "NZhaHVNV3gGY",
        "colab": {
          "base_uri": "https://localhost:8080/"
        },
        "outputId": "adea2e79-3bc6-48dc-fdec-048036be0181"
      },
      "outputs": [
        {
          "output_type": "stream",
          "name": "stdout",
          "text": [
            "the result is  10\n"
          ]
        }
      ],
      "source": [
        "\n",
        "# an add-em-up function\n",
        "\n",
        "def addup(N):\n",
        "    \"\"\" adds from 1 through N (inclusive)\n",
        "    \"\"\"\n",
        "    result = 0\n",
        "\n",
        "    for x in range(1,N+1):\n",
        "        result = result + x\n",
        "\n",
        "    return result\n",
        "\n",
        "# addup(4) should be 0+1+2+3+4 == 10\n",
        "print(\"the result is \", addup(4))"
      ]
    },
    {
      "cell_type": "code",
      "execution_count": null,
      "metadata": {
        "id": "JscgqV1Q3gGY",
        "colab": {
          "base_uri": "https://localhost:8080/"
        },
        "outputId": "2c4864d5-1de4-4517-b742-b0ce94e4c500"
      },
      "outputs": [
        {
          "output_type": "stream",
          "name": "stdout",
          "text": [
            "The result of fac(4) is:  24\n"
          ]
        }
      ],
      "source": [
        "\n",
        "# an factorial function\n",
        "\n",
        "def fac(N):\n",
        "    \"\"\" a factorial function, returns the factorial of the input N\n",
        "    \"\"\"\n",
        "    result = 1\n",
        "\n",
        "    for x in range(1,N+1):\n",
        "        result = result*x\n",
        "\n",
        "    return result\n",
        "\n",
        "# fac(4) should be 1*2*3*4 == 24\n",
        "\n",
        "print(\"The result of fac(4) is: \", fac(4))"
      ]
    },
    {
      "cell_type": "code",
      "execution_count": null,
      "metadata": {
        "id": "RchpwL0V3gGZ",
        "colab": {
          "base_uri": "https://localhost:8080/",
          "height": 73
        },
        "outputId": "0b259172-1ddb-478f-ea04-e4eae1591c43"
      },
      "outputs": [
        {
          "output_type": "execute_result",
          "data": {
            "text/plain": [
              "'\\n\\nLoops we tried in our \"breakout quiz\":\\n\\n# upper left\\nresult = 1\\nfor x in [2,5,1,4]:\\n    result *= x\\nprint(result)\\n\\n# upper right\\nx = 0\\nfor i in range(4):\\n    x += 10\\nprint(x)\\n\\n# lower left\\nL = [\\'golf\\',\\'fore!\\',\\'club\\',\\'tee\\']\\nfor i in range(len(L)):\\n    if i%2 == 1:\\n        print(L[i])\\n\\n# lower right\\nS = \\'time to think this over! \\'\\nresult = \\'\\'\\nfor i in range(len(S)):\\n    if S[i-1] == \\' \\'\\n        result += S[i]\\nprint(result)\\n\\n'"
            ],
            "application/vnd.google.colaboratory.intrinsic+json": {
              "type": "string"
            }
          },
          "metadata": {},
          "execution_count": 35
        }
      ],
      "source": [
        "\"\"\"\n",
        "\n",
        "Loops we tried in our \"breakout quiz\":\n",
        "\n",
        "# upper left\n",
        "result = 1\n",
        "for x in [2,5,1,4]:\n",
        "    result *= x\n",
        "print(result)\n",
        "\n",
        "# upper right\n",
        "x = 0\n",
        "for i in range(4):\n",
        "    x += 10\n",
        "print(x)\n",
        "\n",
        "# lower left\n",
        "L = ['golf','fore!','club','tee']\n",
        "for i in range(len(L)):\n",
        "    if i%2 == 1:\n",
        "        print(L[i])\n",
        "\n",
        "# lower right\n",
        "S = 'time to think this over! '\n",
        "result = ''\n",
        "for i in range(len(S)):\n",
        "    if S[i-1] == ' '\n",
        "        result += S[i]\n",
        "print(result)\n",
        "\n",
        "\"\"\""
      ]
    },
    {
      "cell_type": "code",
      "execution_count": null,
      "metadata": {
        "id": "FNuv6DoJ3gGa",
        "colab": {
          "base_uri": "https://localhost:8080/"
        },
        "outputId": "eb5d4478-01cf-4c96-d6f3-3477ea8060fb"
      },
      "outputs": [
        {
          "output_type": "stream",
          "name": "stdout",
          "text": [
            "Start!\n"
          ]
        }
      ],
      "source": [
        "\n",
        "# staging area...\n",
        "\n",
        "print(\"Start!\")\n"
      ]
    },
    {
      "cell_type": "markdown",
      "source": [
        "### <font color=\"darkblue\"><b>Task #4: For Looping!</b></font>\n",
        "\n",
        "Below, create your functions that use loops:\n",
        "+ ``summer(L)``\n",
        "+ ``summedOdds(L)``\n",
        "+ ``summedExcept(exc,L)``\n",
        "+ ``summedUpto(exc,L)``\n",
        "\n",
        "Each one has full detail in its description:"
      ],
      "metadata": {
        "id": "PbR-kxDD6MGA"
      }
    },
    {
      "cell_type": "code",
      "execution_count": null,
      "metadata": {
        "id": "E5d6udae3gGa"
      },
      "outputs": [],
      "source": [
        "\n",
        "#\n",
        "# Functions with for loops to write:\n",
        "#\n",
        "# for loops:\n",
        "#\n",
        "# summer(L)               returns the sum of the #'s in L\n",
        "# summedOdds(L)           returns the sum of the _odd_ #'s in L\n",
        "# summedExcept(exc, L)    returns the sum of all #'s in L not equal to exc\n",
        "#                                 exc is the \"exception\"\n",
        "# summedUpto(exc, L)      returns the sum of all #'s in L upto exc (not including exc)\n",
        "\n",
        "\n",
        "# examples:\n",
        "#       summer( [2,3,4,1] )    ->  10\n",
        "#   summedOdds( [2,3,4,1] )    ->   4\n",
        "# summedExcept( 4, [2,3,4,1] ) ->   6\n",
        "#   summedUpto( 4, [2,3,4,1] ) ->   5"
      ]
    },
    {
      "cell_type": "code",
      "execution_count": null,
      "metadata": {
        "id": "IxqR0uRC3gGa",
        "colab": {
          "base_uri": "https://localhost:8080/"
        },
        "outputId": "8c9499f3-167e-406b-8863-88c53cc2e2ee"
      },
      "outputs": [
        {
          "output_type": "stream",
          "name": "stdout",
          "text": [
            "summer( [2,3,4,1] )  should be 10 <-> 10\n",
            "summer( [35,3,4,100] )  should be 142 <-> 142\n"
          ]
        }
      ],
      "source": [
        "#\n",
        "# here, write the summer function!\n",
        "#\n",
        "\n",
        "def summer(L):\n",
        "    \"\"\" uses a for loop to add and return all of the elements in L\n",
        "    \"\"\"\n",
        "    result = 0\n",
        "    for i in range(len(L)):\n",
        "        result += L[i]\n",
        "\n",
        "    return result\n",
        "\n",
        "\n",
        "# Here are two tests -- be sure to try them!\n",
        "print(\"summer( [2,3,4,1] )  should be 10 <->\", summer( [2,3,4,1] ))\n",
        "print(\"summer( [35,3,4,100] )  should be 142 <->\", summer( [35,3,4,100] ))"
      ]
    },
    {
      "cell_type": "code",
      "execution_count": null,
      "metadata": {
        "id": "QN6ZBN9w3gGa",
        "colab": {
          "base_uri": "https://localhost:8080/"
        },
        "outputId": "ac54e5cc-d46e-427a-b581-e7298fe21c06"
      },
      "outputs": [
        {
          "output_type": "stream",
          "name": "stdout",
          "text": [
            "summedOdds( [2,3,4,1] )  should be 4 <-> 4\n",
            "summedOdds( [35,3,4,100] )  should be 38 <-> 38\n"
          ]
        }
      ],
      "source": [
        "#\n",
        "# here, write the summedOdds function!\n",
        "#\n",
        "\n",
        "def summedOdds(L):\n",
        "    \"\"\" uses a for loop to add and return all of the _odd_ elements in L\n",
        "    \"\"\"\n",
        "    result = 0\n",
        "    for i in range(len(L)):\n",
        "        if L[i] % 2 != 0:\n",
        "            result = result + L[i]\n",
        "    return result\n",
        "\n",
        "\n",
        "# Here are two tests -- be sure to try them!\n",
        "print(\"summedOdds( [2,3,4,1] )  should be 4 <->\", summedOdds( [2,3,4,1] ))\n",
        "print(\"summedOdds( [35,3,4,100] )  should be 38 <->\", summedOdds( [35,3,4,100] ))"
      ]
    },
    {
      "cell_type": "code",
      "execution_count": null,
      "metadata": {
        "id": "9XkwO1Yb3gGb",
        "colab": {
          "base_uri": "https://localhost:8080/"
        },
        "outputId": "64e99774-8c1d-4ea0-dbec-34f11deab8e9"
      },
      "outputs": [
        {
          "output_type": "stream",
          "name": "stdout",
          "text": [
            "summedExcept( 4, [2,3,4,1] )  should be 6 <-> 6\n",
            "summedExcept( 4, [35,3,4,100] )  should be 138 <-> 138\n"
          ]
        }
      ],
      "source": [
        "#\n",
        "# here, write the summedExcept function!\n",
        "#\n",
        "\n",
        "def summedExcept( exc, L ):\n",
        "    \"\"\" include a short description here!\n",
        "    \"\"\"\n",
        "    result = 0\n",
        "    for i in range(len(L)):\n",
        "        if L[i] != exc:\n",
        "            result = result + L[i]\n",
        "    return result\n",
        "\n",
        "\n",
        "\n",
        "# Here are two tests -- be sure to try them!\n",
        "print(\"summedExcept( 4, [2,3,4,1] )  should be 6 <->\", summedExcept( 4, [2,3,4,1] ))\n",
        "print(\"summedExcept( 4, [35,3,4,100] )  should be 138 <->\", summedExcept( 4, [35,3,4,100] ))"
      ]
    },
    {
      "cell_type": "code",
      "execution_count": null,
      "metadata": {
        "id": "FpoOHpGc3gGb",
        "colab": {
          "base_uri": "https://localhost:8080/"
        },
        "outputId": "f2f377b1-6796-483d-c100-1d716268b4a0"
      },
      "outputs": [
        {
          "output_type": "stream",
          "name": "stdout",
          "text": [
            "summedUpto( 4, [2,3,4,1] )  should be 5 <-> 5\n",
            "summedUpto( 100, [35,3,4,100] )  should be 42 <-> 42\n"
          ]
        }
      ],
      "source": [
        "#\n",
        "# here, write the summedUpto function!\n",
        "#\n",
        "\n",
        "def summedUpto( exc, L ):\n",
        "    \"\"\" include a short description here!\n",
        "    \"\"\"\n",
        "    result = 0\n",
        "    for i in L:\n",
        "        if i != exc:\n",
        "            result = result + i\n",
        "        else:\n",
        "            return result\n",
        "    return result\n",
        "\n",
        "\n",
        "\n",
        "\n",
        "\n",
        "# Here are two tests -- be sure to try them!\n",
        "print(\"summedUpto( 4, [2,3,4,1] )  should be 5 <->\", summedUpto( 4, [2,3,4,1] ))\n",
        "print(\"summedUpto( 100, [35,3,4,100] )  should be 42 <->\", summedUpto( 100, [35,3,4,100] ))"
      ]
    },
    {
      "cell_type": "code",
      "execution_count": null,
      "metadata": {
        "id": "im7h59uw3gGb",
        "colab": {
          "base_uri": "https://localhost:8080/"
        },
        "outputId": "eb38865d-362e-42dd-bfe6-bbf27fecf818"
      },
      "outputs": [
        {
          "output_type": "execute_result",
          "data": {
            "text/plain": [
              "102"
            ]
          },
          "metadata": {},
          "execution_count": 42
        }
      ],
      "source": [
        "\n",
        "#\n",
        "# Example while loop: the \"guessing game\"\n",
        "#\n",
        "\n",
        "from random import *\n",
        "\n",
        "def guess( hidden ):\n",
        "    \"\"\"\n",
        "        have the computer guess numbers until it gets the \"hidden\" value\n",
        "        return the number of guesses\n",
        "    \"\"\"\n",
        "    guess = -1      # start with a wrong guess and don't count it as a guess\n",
        "    number_of_guesses = 0   # start with no guesses made so far...\n",
        "\n",
        "    while guess != hidden:\n",
        "        guess = choice( range(0,100) )  # 0 to 99, inclusive\n",
        "        number_of_guesses += 1\n",
        "\n",
        "    return number_of_guesses\n",
        "\n",
        "# test our function!\n",
        "guess(42)"
      ]
    },
    {
      "cell_type": "markdown",
      "source": [
        "### <font color=\"darkblue\"><b>Task #5: While Looping!</b></font>\n",
        "\n",
        "Below, create your functions that use _while_ loops:\n",
        "+ ``guess_between(low,high)``\n",
        "+ ``listTilRepeat(high)``\n",
        "\n",
        "Each one has more detail in its description.\n",
        "\n",
        "Notice that the ``listTilRepeat`` function ***is*** the birthday paradox!"
      ],
      "metadata": {
        "id": "A68UyzcD6W4g"
      }
    },
    {
      "cell_type": "code",
      "execution_count": null,
      "metadata": {
        "id": "Sib6asIv3gGn"
      },
      "outputs": [],
      "source": [
        "\n",
        "#\n",
        "# Functions with while loops to write:\n",
        "#\n",
        "\n",
        "# guess_between(low,high) like guess, but until it gets a number anywhere between\n",
        "#                         low and high. Specifically, until it guesses\n",
        "#                         less than high, and greater than or equal to low.\n",
        "#\n",
        "#\n",
        "# listTilRepeat(high)     accumulates a list of values in range(0,high) until one repeats\n",
        "#                         and returns the whole list\n",
        "#\n",
        "\n",
        "\n",
        "# examples (don't forget the randomness will change things!)\n",
        "#\n",
        "# guess_between(40,50)   ->   8    (on average, around 10)\n",
        "#\n",
        "# listTilRepeat(10)      ->   [4, 7, 8, 3, 7]     (the final # must be a repeat)\n",
        "# listTilRepeat(10)      ->   [2, 1, 9, 9]     (the final # must be a repeat)\n"
      ]
    },
    {
      "cell_type": "code",
      "execution_count": null,
      "metadata": {
        "id": "eAbbImBL3gGv"
      },
      "outputs": [],
      "source": [
        "#\n",
        "# here, write guess_between\n",
        "#\n",
        "\n",
        "def guess_between(low,high):\n",
        "    \"\"\" guesses a # from 0 to 99 (inclusive) until\n",
        "        it gets one that is strictly less than high and\n",
        "        greater than or equal to low\n",
        "        Then, this function returns the total # of guesses made\n",
        "    \"\"\"\n",
        "    guess = high - 1      # start with incorrect guess\n",
        "    number_of_guesses = 0   # start with count guess\n",
        "\n",
        "    while guess < high:\n",
        "        guess = choice( range(0,high))  # 0 to 99, inclusive\n",
        "        if guess < high and guess >= low:\n",
        "            number_of_guesses += 1\n",
        "            return guess\n",
        "    return guess"
      ]
    },
    {
      "cell_type": "code",
      "source": [
        "#\n",
        "# be sure to test your guess_between here -- and leave the test in the notebook!\n",
        "print( \"the guess is: \", guess_between(40,50))\n",
        "#\n",
        "\n"
      ],
      "metadata": {
        "id": "wrh7eQOHAWi0",
        "colab": {
          "base_uri": "https://localhost:8080/"
        },
        "outputId": "ee0e3ab6-6a95-41a0-ebe4-56793a51e6af"
      },
      "execution_count": null,
      "outputs": [
        {
          "output_type": "stream",
          "name": "stdout",
          "text": [
            "the guess is:  42\n"
          ]
        }
      ]
    },
    {
      "cell_type": "code",
      "execution_count": null,
      "metadata": {
        "id": "9HnVqdj83gGw",
        "colab": {
          "base_uri": "https://localhost:8080/"
        },
        "outputId": "97e15857-d762-4394-ece9-7aef00b27180"
      },
      "outputs": [
        {
          "output_type": "stream",
          "name": "stdout",
          "text": [
            "Before: L is [3, 4]\n",
            " After: L is [3, 4, 42]\n"
          ]
        }
      ],
      "source": [
        "\n",
        "# Try out adding elements to Lists\n",
        "\n",
        "L = [3,4]\n",
        "print(\"Before: L is\", L)\n",
        "\n",
        "guess = 42\n",
        "L = L + [guess]\n",
        "print(\" After: L is\", L)"
      ]
    },
    {
      "cell_type": "code",
      "execution_count": null,
      "metadata": {
        "id": "7v9qoep83gGx"
      },
      "outputs": [],
      "source": [
        "#\n",
        "# here, write listTilRepeat\n",
        "#\n",
        "\n",
        "def listTilRepeat(high):\n",
        "    \"\"\" this f'n accumulates random guesses into a list, L, until a repeat is found\n",
        "        it then returns the list (the final element should be repeated, somewhere)\n",
        "    \"\"\"\n",
        "    L = []\n",
        "    num= choice(range(0,high))\n",
        "    L= L+[num]\n",
        "    while num not in L[:-1]:\n",
        "        num= choice(range(0,high))\n",
        "        L=L+[num]\n",
        "\n",
        "    return L"
      ]
    },
    {
      "cell_type": "code",
      "source": [
        "#\n",
        "# be sure to test your listTilRepeat here -- and leave the test in the notebook!\n",
        "#\n",
        "listTilRepeat(10)\n"
      ],
      "metadata": {
        "id": "iWvncComAdAa",
        "colab": {
          "base_uri": "https://localhost:8080/"
        },
        "outputId": "26060dd6-6cec-4a1a-8a1c-fb9f870c2625"
      },
      "execution_count": null,
      "outputs": [
        {
          "output_type": "execute_result",
          "data": {
            "text/plain": [
              "[9, 9]"
            ]
          },
          "metadata": {},
          "execution_count": 48
        }
      ]
    },
    {
      "cell_type": "code",
      "execution_count": null,
      "metadata": {
        "id": "Y8bY1Hag3gGx",
        "colab": {
          "base_uri": "https://localhost:8080/"
        },
        "outputId": "e103aa87-008f-4b84-f4c5-e067d00cdc5d"
      },
      "outputs": [
        {
          "output_type": "stream",
          "name": "stdout",
          "text": [
            "21\n",
            "29\n",
            "16\n",
            "20\n",
            "24\n",
            "17\n",
            "38\n",
            "20\n",
            "16\n",
            "24\n",
            "29\n",
            "12\n",
            "40\n",
            "24\n",
            "25\n",
            "17\n",
            "26\n",
            "21\n",
            "24\n",
            "30\n",
            "33\n",
            "13\n",
            "26\n",
            "32\n",
            "47\n",
            "13\n",
            "25\n",
            "58\n",
            "50\n",
            "15\n",
            "5\n",
            "18\n",
            "40\n",
            "32\n",
            "50\n",
            "45\n",
            "42\n",
            "39\n",
            "29\n",
            "24\n",
            "21\n",
            "16\n",
            "25\n",
            "13\n",
            "27\n",
            "9\n",
            "14\n",
            "7\n",
            "42\n",
            "11\n",
            "29\n",
            "35\n",
            "14\n",
            "17\n",
            "20\n",
            "20\n",
            "16\n",
            "18\n",
            "33\n",
            "31\n",
            "15\n",
            "18\n",
            "26\n",
            "15\n",
            "17\n",
            "8\n",
            "26\n",
            "11\n",
            "11\n",
            "7\n",
            "36\n",
            "3\n",
            "31\n",
            "15\n",
            "30\n",
            "21\n",
            "31\n",
            "47\n",
            "30\n",
            "7\n",
            "14\n",
            "47\n",
            "27\n",
            "57\n",
            "13\n",
            "11\n",
            "21\n",
            "62\n",
            "25\n",
            "10\n",
            "14\n",
            "33\n",
            "13\n",
            "12\n",
            "45\n",
            "15\n",
            "32\n",
            "41\n",
            "12\n",
            "21\n"
          ]
        }
      ],
      "source": [
        "\n",
        "# The birthday paradox is the fact that\n",
        "#     listTilRepeat(365) has surprisingly few elements!\n",
        "#\n",
        "# Run listTilRepeat(365) a few times and print its _length_ each time\n",
        "#     (Don't print the lists... it's too much to digest.)\n",
        "#\n",
        "# To many people, the results feel counterintuitive!\n",
        "def listTilRepeat(high):\n",
        "    \"\"\" this f'n accumulates random guesses into a list, L, until a repeat is found\n",
        "        it then returns the list (the final element should be repeated, somewhere)\n",
        "    \"\"\"\n",
        "    L = []\n",
        "\n",
        "    while True:\n",
        "        guess = random.choice(range(0, high))\n",
        "        if guess in L:\n",
        "            L = L + [guess]\n",
        "            return L\n",
        "        else:\n",
        "            L = L + [guess]\n",
        "\n",
        "# Running the experiment multiple times\n",
        "for i in range(100):\n",
        "    print(len(listTilRepeat(365)))"
      ]
    },
    {
      "cell_type": "markdown",
      "metadata": {
        "id": "rGp1vbmb3gf5"
      },
      "source": [
        "<br>\n",
        "\n",
        "# Monte Carlo simulations\n",
        "+ ... are repeated actions that involve repetition and randomness\n",
        "+ that is, loops!\n",
        "\n",
        "In fact, the guessing and birthday challenges above _are_ examples of Monte Carlo simulations.\n",
        "\n",
        "Next, you'll try a few more:\n",
        "+ Our in-class guessing game, dice-rolling challenge, and three-curtain challenge...\n",
        "+ Then, you'll try the \"sleepwalker\" (a single random walker)\n",
        "\n",
        "Finally, you'll adapt the single random walker to a two-walker simulation of your own design! There are lots of ideas:\n",
        "+ Have two random walkers \"race\" to the middle (which might be a poptart...)\n",
        "+ Have two random walkers \"race\" to the walls\n",
        "+ Have them wander until they find each other\n",
        "+ Have the walls close in on them!\n",
        "+ Have them chase another object that's moving around...\n",
        "+ ... and so on!\n",
        "\n",
        "The key is to have\n",
        "+ **two** independently-wandering \"actors\"\n",
        "+ within a \"line\" or \"world\" that you can print out...\n",
        "+ ... with a backstory that you've invented,\n",
        "+ and then animate the result!\n",
        "\n",
        "<br>\n",
        "\n",
        "Looking forward to it!"
      ]
    },
    {
      "cell_type": "code",
      "execution_count": null,
      "metadata": {
        "id": "TAw-VXXQ3gf6",
        "colab": {
          "base_uri": "https://localhost:8080/"
        },
        "outputId": "8b68314b-49f3-4ea0-f573-ca1b9b73b4aa"
      },
      "outputs": [
        {
          "output_type": "execute_result",
          "data": {
            "text/plain": [
              "69"
            ]
          },
          "metadata": {},
          "execution_count": 53
        }
      ],
      "source": [
        "\n",
        "#\n",
        "# Example while loop: the \"guessing game\"\n",
        "#\n",
        "\n",
        "from random import *\n",
        "\n",
        "def guess( hidden ):\n",
        "    \"\"\"\n",
        "        have the computer guess numbers until it gets the \"hidden\" value\n",
        "        return the number of guesses\n",
        "    \"\"\"\n",
        "    guess = hidden - 1      # start with a wrong guess + don't count it as a guess\n",
        "    number_of_guesses = 0   # start with no guesses made so far...\n",
        "\n",
        "    while guess != hidden:\n",
        "        guess = choice( range(0,100) )  # 0 to 99, inclusive\n",
        "        number_of_guesses += 1\n",
        "\n",
        "    return number_of_guesses\n",
        "\n",
        "# test our function!\n",
        "guess(42)"
      ]
    },
    {
      "cell_type": "code",
      "execution_count": null,
      "metadata": {
        "id": "pMj48CN63gf8",
        "colab": {
          "base_uri": "https://localhost:8080/"
        },
        "outputId": "00187c44-1193-4503-c81f-d02cb0c443d4"
      },
      "outputs": [
        {
          "output_type": "stream",
          "name": "stdout",
          "text": [
            "run 0 roll: 4 1  \n",
            "run 1 roll: 1 4  \n",
            "run 2 roll: 5 1  \n",
            "run 3 roll: 2 6  \n",
            "run 4 roll: 3 3 🙂\n",
            "run 5 roll: 4 6  \n",
            "run 6 roll: 1 4  \n",
            "run 7 roll: 4 4 🙂\n",
            "run 8 roll: 1 2  \n",
            "run 9 roll: 4 2  \n",
            "run 10 roll: 2 5  \n",
            "run 11 roll: 6 1  \n",
            "run 12 roll: 5 5 🙂\n",
            "run 13 roll: 1 2  \n",
            "run 14 roll: 4 1  \n",
            "run 15 roll: 5 3  \n",
            "run 16 roll: 3 3 🙂\n",
            "run 17 roll: 2 3  \n",
            "run 18 roll: 6 6 🙂\n",
            "run 19 roll: 2 5  \n",
            "run 20 roll: 1 3  \n",
            "run 21 roll: 4 1  \n",
            "run 22 roll: 3 6  \n",
            "run 23 roll: 6 1  \n",
            "run 24 roll: 4 2  \n",
            "run 25 roll: 5 1  \n",
            "run 26 roll: 5 4  \n",
            "run 27 roll: 5 1  \n",
            "run 28 roll: 5 5 🙂\n",
            "run 29 roll: 3 5  \n",
            "run 30 roll: 2 6  \n",
            "run 31 roll: 1 6  \n",
            "run 32 roll: 6 4  \n",
            "run 33 roll: 3 3 🙂\n",
            "run 34 roll: 2 2 🙂\n",
            "run 35 roll: 1 2  \n",
            "run 36 roll: 6 3  \n",
            "run 37 roll: 5 2  \n",
            "run 38 roll: 5 5 🙂\n",
            "run 39 roll: 1 5  \n"
          ]
        },
        {
          "output_type": "execute_result",
          "data": {
            "text/plain": [
              "9"
            ]
          },
          "metadata": {},
          "execution_count": 61
        }
      ],
      "source": [
        "\n",
        "#\n",
        "# Example Monte Carlo simulation: rolling two dice and counting doubles\n",
        "#\n",
        "import time\n",
        "from random import *\n",
        "\n",
        "def count_doubles( num_rolls ):\n",
        "    \"\"\"\n",
        "        have the computer roll two six-sided dice, counting the # of doubles\n",
        "        (same value on both dice)\n",
        "        Then, return the number of doubles...\n",
        "    \"\"\"\n",
        "    numdoubles = 0       # start with no doubles so far...\n",
        "\n",
        "    for i in range(0,num_rolls):   # roll repeatedly: i keeps track\n",
        "        d1 = choice( [1,2,3,4,5,6] )  # 0 to 6, inclusive\n",
        "        d2 = choice( range(1,7) )     # 0 to 6, inclusive\n",
        "        if d1 == d2:\n",
        "            numdoubles += 1\n",
        "            you = \"🙂\"\n",
        "        else:\n",
        "            you = \" \"\n",
        "\n",
        "        print(\"run\", i, \"roll:\", d1, d2, you, flush=True)\n",
        "        time.sleep(.01)\n",
        "\n",
        "    return numdoubles\n",
        "\n",
        "# test our function!\n",
        "count_doubles(40)"
      ]
    },
    {
      "cell_type": "code",
      "execution_count": null,
      "metadata": {
        "id": "k4rkSYX_3gf9",
        "colab": {
          "base_uri": "https://localhost:8080/"
        },
        "outputId": "aef9cd1f-cfd5-4e10-8202-de3488483106"
      },
      "outputs": [
        {
          "output_type": "stream",
          "name": "stdout",
          "text": [
            "run 1 you  Win!!!\n",
            "run 2 you  Win!!!\n",
            "run 3 you  Win!!!\n",
            "run 4 you lose...\n",
            "run 5 you lose...\n",
            "run 6 you  Win!!!\n",
            "run 7 you  Win!!!\n",
            "run 8 you  Win!!!\n",
            "run 9 you lose...\n",
            "run 10 you  Win!!!\n",
            "run 11 you  Win!!!\n",
            "run 12 you  Win!!!\n",
            "run 13 you  Win!!!\n",
            "run 14 you  Win!!!\n",
            "run 15 you  Win!!!\n",
            "run 16 you  Win!!!\n",
            "run 17 you  Win!!!\n",
            "run 18 you  Win!!!\n",
            "run 19 you  Win!!!\n",
            "run 20 you  Win!!!\n",
            "run 21 you lose...\n",
            "run 22 you lose...\n",
            "run 23 you lose...\n",
            "run 24 you  Win!!!\n",
            "run 25 you  Win!!!\n",
            "run 26 you lose...\n",
            "run 27 you  Win!!!\n",
            "run 28 you  Win!!!\n",
            "run 29 you  Win!!!\n",
            "run 30 you  Win!!!\n",
            "run 31 you  Win!!!\n",
            "run 32 you lose...\n",
            "run 33 you  Win!!!\n",
            "run 34 you lose...\n",
            "run 35 you  Win!!!\n",
            "run 36 you lose...\n",
            "run 37 you lose...\n",
            "run 38 you lose...\n",
            "run 39 you  Win!!!\n",
            "run 40 you  Win!!!\n",
            "run 41 you  Win!!!\n",
            "run 42 you  Win!!!\n",
            "run 43 you lose...\n",
            "run 44 you lose...\n",
            "run 45 you  Win!!!\n",
            "run 46 you  Win!!!\n",
            "run 47 you  Win!!!\n",
            "run 48 you  Win!!!\n",
            "run 49 you  Win!!!\n",
            "run 50 you  Win!!!\n",
            "run 51 you lose...\n",
            "run 52 you lose...\n",
            "run 53 you  Win!!!\n",
            "run 54 you  Win!!!\n",
            "run 55 you  Win!!!\n",
            "run 56 you lose...\n",
            "run 57 you  Win!!!\n",
            "run 58 you  Win!!!\n",
            "run 59 you  Win!!!\n",
            "run 60 you  Win!!!\n",
            "run 61 you  Win!!!\n",
            "run 62 you  Win!!!\n",
            "run 63 you  Win!!!\n",
            "run 64 you  Win!!!\n",
            "run 65 you lose...\n",
            "run 66 you lose...\n",
            "run 67 you  Win!!!\n",
            "run 68 you  Win!!!\n",
            "run 69 you  Win!!!\n",
            "run 70 you  Win!!!\n",
            "run 71 you  Win!!!\n",
            "run 72 you  Win!!!\n",
            "run 73 you  Win!!!\n",
            "run 74 you lose...\n",
            "run 75 you  Win!!!\n",
            "run 76 you lose...\n",
            "run 77 you  Win!!!\n",
            "run 78 you  Win!!!\n",
            "run 79 you  Win!!!\n",
            "run 80 you  Win!!!\n",
            "run 81 you lose...\n",
            "run 82 you lose...\n",
            "run 83 you lose...\n",
            "run 84 you  Win!!!\n",
            "run 85 you lose...\n",
            "run 86 you lose...\n",
            "run 87 you lose...\n",
            "run 88 you  Win!!!\n",
            "run 89 you  Win!!!\n",
            "run 90 you  Win!!!\n",
            "run 91 you  Win!!!\n",
            "run 92 you lose...\n",
            "run 93 you  Win!!!\n",
            "run 94 you  Win!!!\n",
            "run 95 you lose...\n",
            "run 96 you  Win!!!\n",
            "run 97 you lose...\n",
            "run 98 you  Win!!!\n",
            "run 99 you  Win!!!\n",
            "run 100 you  Win!!!\n",
            "run 101 you lose...\n",
            "run 102 you  Win!!!\n",
            "run 103 you lose...\n",
            "run 104 you  Win!!!\n",
            "run 105 you lose...\n",
            "run 106 you  Win!!!\n",
            "run 107 you  Win!!!\n",
            "run 108 you lose...\n",
            "run 109 you  Win!!!\n",
            "run 110 you  Win!!!\n",
            "run 111 you  Win!!!\n",
            "run 112 you lose...\n",
            "run 113 you  Win!!!\n",
            "run 114 you  Win!!!\n",
            "run 115 you  Win!!!\n",
            "run 116 you lose...\n",
            "run 117 you  Win!!!\n",
            "run 118 you  Win!!!\n",
            "run 119 you  Win!!!\n",
            "run 120 you lose...\n",
            "run 121 you  Win!!!\n",
            "run 122 you  Win!!!\n",
            "run 123 you  Win!!!\n",
            "run 124 you  Win!!!\n",
            "run 125 you  Win!!!\n",
            "run 126 you lose...\n",
            "run 127 you lose...\n",
            "run 128 you lose...\n",
            "run 129 you  Win!!!\n",
            "run 130 you lose...\n",
            "run 131 you  Win!!!\n",
            "run 132 you lose...\n",
            "run 133 you  Win!!!\n",
            "run 134 you lose...\n",
            "run 135 you lose...\n",
            "run 136 you  Win!!!\n",
            "run 137 you lose...\n",
            "run 138 you  Win!!!\n",
            "run 139 you  Win!!!\n",
            "run 140 you lose...\n",
            "run 141 you  Win!!!\n",
            "run 142 you lose...\n",
            "run 143 you lose...\n",
            "run 144 you lose...\n",
            "run 145 you  Win!!!\n",
            "run 146 you  Win!!!\n",
            "run 147 you  Win!!!\n",
            "run 148 you  Win!!!\n",
            "run 149 you  Win!!!\n",
            "run 150 you lose...\n",
            "run 151 you  Win!!!\n",
            "run 152 you  Win!!!\n",
            "run 153 you  Win!!!\n",
            "run 154 you  Win!!!\n",
            "run 155 you  Win!!!\n",
            "run 156 you lose...\n",
            "run 157 you lose...\n",
            "run 158 you lose...\n",
            "run 159 you  Win!!!\n",
            "run 160 you lose...\n",
            "run 161 you lose...\n",
            "run 162 you  Win!!!\n",
            "run 163 you lose...\n",
            "run 164 you  Win!!!\n",
            "run 165 you  Win!!!\n",
            "run 166 you lose...\n",
            "run 167 you  Win!!!\n",
            "run 168 you  Win!!!\n",
            "run 169 you  Win!!!\n",
            "run 170 you  Win!!!\n",
            "run 171 you  Win!!!\n",
            "run 172 you  Win!!!\n",
            "run 173 you lose...\n",
            "run 174 you  Win!!!\n",
            "run 175 you  Win!!!\n",
            "run 176 you  Win!!!\n",
            "run 177 you lose...\n",
            "run 178 you lose...\n",
            "run 179 you lose...\n",
            "run 180 you lose...\n",
            "run 181 you  Win!!!\n",
            "run 182 you  Win!!!\n",
            "run 183 you lose...\n",
            "run 184 you  Win!!!\n",
            "run 185 you  Win!!!\n",
            "run 186 you  Win!!!\n",
            "run 187 you lose...\n",
            "run 188 you  Win!!!\n",
            "run 189 you  Win!!!\n",
            "run 190 you  Win!!!\n",
            "run 191 you  Win!!!\n",
            "run 192 you  Win!!!\n",
            "run 193 you  Win!!!\n",
            "run 194 you  Win!!!\n",
            "run 195 you  Win!!!\n",
            "run 196 you  Win!!!\n",
            "run 197 you  Win!!!\n",
            "run 198 you  Win!!!\n",
            "run 199 you  Win!!!\n",
            "run 200 you  Win!!!\n"
          ]
        },
        {
          "output_type": "execute_result",
          "data": {
            "text/plain": [
              "136"
            ]
          },
          "metadata": {},
          "execution_count": 63
        }
      ],
      "source": [
        "\n",
        "#\n",
        "# Example Monte Carlo simulation: the Monte-Carlo Monte Hall paradox\n",
        "#\n",
        "\n",
        "import random\n",
        "import time\n",
        "\n",
        "def count_wins( N, original_choice, stay_or_switch ):\n",
        "    \"\"\"\n",
        "        run the Monte Hall paradox N times, with\n",
        "        original_choice, which can be 1, 2, or 3 and\n",
        "        stay_or_switch, which can be \"stay\" or \"switch\"\n",
        "        Count the number of wins and return that number.\n",
        "    \"\"\"\n",
        "    numwins = 0       # start with no wins so far...\n",
        "\n",
        "    for i in range(1,N+1):      # run repeatedly: i keeps track\n",
        "        win_curtain = random.choice([1,2,3])   # the curtain with the grand prize\n",
        "        original_choice = original_choice      # just a reminder that we have this variable\n",
        "        stay_or_switch = stay_or_switch        # a reminder that we have this, too\n",
        "\n",
        "        result = \"\"\n",
        "        if original_choice == win_curtain and stay_or_switch == \"stay\": result = \" Win!!!\"\n",
        "        elif original_choice == win_curtain and stay_or_switch == \"switch\": result = \"lose...\"\n",
        "        elif original_choice != win_curtain and stay_or_switch == \"stay\": result = \"lose...\"\n",
        "        elif original_choice != win_curtain and stay_or_switch == \"switch\": result = \" Win!!!\"\n",
        "\n",
        "        print(\"run\", i, \"you\", result, flush=True)\n",
        "        time.sleep(.025)\n",
        "\n",
        "        if result == \" Win!!!\":\n",
        "            numwins += 1\n",
        "\n",
        "\n",
        "    return numwins\n",
        "\n",
        "# test our three-curtain-game, many times:\n",
        "#count_wins(10, 1, \"stay\")\n",
        "count_wins(200, 2, \"switch\")"
      ]
    },
    {
      "cell_type": "code",
      "execution_count": null,
      "metadata": {
        "id": "MawBqtpX3gf-",
        "colab": {
          "base_uri": "https://localhost:8080/"
        },
        "outputId": "c35a8ace-36d6-4abf-feca-fdf25fbe012e"
      },
      "outputs": [
        {
          "output_type": "stream",
          "name": "stdout",
          "text": [
            "At location: 47\n",
            "At location: 48\n",
            "At location: 47\n",
            "At location: 48\n",
            "At location: 47\n",
            "At location: 48\n",
            "At location: 47\n",
            "At location: 48\n",
            "At location: 47\n",
            "At location: 46\n"
          ]
        },
        {
          "output_type": "execute_result",
          "data": {
            "text/plain": [
              "46"
            ]
          },
          "metadata": {},
          "execution_count": 64
        }
      ],
      "source": [
        "\n",
        "\n",
        "# More Monte Carlo simulations!\n",
        "\n",
        "#\n",
        "# Example of a random-walk (but no animation is intended here...)\n",
        "#\n",
        "\n",
        "import random\n",
        "\n",
        "def rs():\n",
        "    \"\"\" One random step \"\"\"\n",
        "    return random.choice([-1, 1])\n",
        "\n",
        "\n",
        "def rpos(start,N):\n",
        "    \"\"\" wander from start for N steps, printing as we go\n",
        "        return the position at the end (the final \"current\" position)\n",
        "    \"\"\"\n",
        "    current = start        # our current position begins at start...\n",
        "\n",
        "    for i in range(N):     # step repeatedly:  i keeps track from 0..N\n",
        "        print(\"At location:\", current)\n",
        "        current = current + rs()  # add one step,\n",
        "\n",
        "    print(\"At location:\", current)\n",
        "    return current\n",
        "\n",
        "\n",
        "# let's test it, perhaps start at 47 and take 9 steps...\n",
        "rpos(47,9)"
      ]
    },
    {
      "cell_type": "code",
      "execution_count": null,
      "metadata": {
        "id": "vgqXW52w3gf_",
        "colab": {
          "base_uri": "https://localhost:8080/"
        },
        "outputId": "eb3ff9a1-12f4-4270-a1f8-501bd53a54ee"
      },
      "outputs": [
        {
          "output_type": "stream",
          "name": "stdout",
          "text": [
            "|______________S________________|\n",
            "|_______________S_______________|\n",
            "|________________S______________|\n",
            "|_________________S_____________|\n",
            "|__________________S____________|\n",
            "|_________________S_____________|\n",
            "|________________S______________|\n",
            "|_______________S_______________|\n",
            "|______________S________________|\n",
            "|_______________S_______________|\n",
            "|______________S________________|\n",
            "|_____________S_________________|\n",
            "|____________S__________________|\n",
            "|_____________S_________________|\n",
            "|____________S__________________|\n",
            "|___________S___________________|\n",
            "|____________S__________________|\n",
            "|___________S___________________|\n",
            "|__________S____________________|\n",
            "|_________S_____________________|\n",
            "|__________S____________________|\n",
            "|_________S_____________________|\n",
            "|__________S____________________|\n",
            "|_________S_____________________|\n",
            "|________S______________________|\n",
            "|_______S_______________________|\n",
            "|________S______________________|\n",
            "|_________S_____________________|\n",
            "|__________S____________________|\n",
            "|_________S_____________________|\n",
            "|__________S____________________|\n",
            "|___________S___________________|\n",
            "|____________S__________________|\n",
            "|___________S___________________|\n",
            "|__________S____________________|\n",
            "|_________S_____________________|\n",
            "|__________S____________________|\n",
            "|___________S___________________|\n",
            "|__________S____________________|\n",
            "|_________S_____________________|\n",
            "|__________S____________________|\n",
            "|_________S_____________________|\n",
            "|__________S____________________|\n",
            "|___________S___________________|\n",
            "|____________S__________________|\n",
            "|___________S___________________|\n",
            "|__________S____________________|\n",
            "|_________S_____________________|\n",
            "|________S______________________|\n",
            "|_______S_______________________|\n",
            "|________S______________________|\n",
            "|_______S_______________________|\n",
            "|________S______________________|\n",
            "|_________S_____________________|\n",
            "|________S______________________|\n",
            "|_______S_______________________|\n",
            "|______S________________________|\n",
            "|_______S_______________________|\n",
            "|________S______________________|\n",
            "|_______S_______________________|\n",
            "|________S______________________|\n",
            "|_________S_____________________|\n",
            "|________S______________________|\n",
            "|_________S_____________________|\n",
            "|________S______________________|\n",
            "|_______S_______________________|\n",
            "|________S______________________|\n",
            "|_______S_______________________|\n",
            "|______S________________________|\n",
            "|_______S_______________________|\n",
            "|________S______________________|\n",
            "|_________S_____________________|\n",
            "|________S______________________|\n",
            "|_________S_____________________|\n",
            "|__________S____________________|\n",
            "|___________S___________________|\n",
            "|____________S__________________|\n",
            "|_____________S_________________|\n",
            "|____________S__________________|\n",
            "|_____________S_________________|\n",
            "|______________S________________|\n",
            "|_____________S_________________|\n",
            "|______________S________________|\n",
            "|_______________S_______________|\n",
            "|______________S________________|\n",
            "|_____________S_________________|\n",
            "|______________S________________|\n",
            "|_______________S_______________|\n",
            "|______________S________________|\n",
            "|_____________S_________________|\n",
            "|____________S__________________|\n",
            "|___________S___________________|\n",
            "|____________S__________________|\n",
            "|___________S___________________|\n",
            "|____________S__________________|\n",
            "|_____________S_________________|\n",
            "|______________S________________|\n",
            "|_______________S_______________|\n",
            "|______________S________________|\n",
            "|_____________S_________________|\n",
            "|______________S________________|\n",
            "|_______________S_______________|\n",
            "|________________S______________|\n",
            "|_______________S_______________|\n",
            "|________________S______________|\n",
            "|_________________S_____________|\n",
            "|__________________S____________|\n",
            "|_________________S_____________|\n",
            "|________________S______________|\n",
            "|_________________S_____________|\n",
            "|________________S______________|\n",
            "|_______________S_______________|\n",
            "|________________S______________|\n",
            "|_________________S_____________|\n",
            "|__________________S____________|\n",
            "|___________________S___________|\n",
            "|____________________S__________|\n",
            "|___________________S___________|\n",
            "|__________________S____________|\n",
            "|___________________S___________|\n",
            "|____________________S__________|\n",
            "|___________________S___________|\n",
            "|____________________S__________|\n",
            "|___________________S___________|\n",
            "|__________________S____________|\n",
            "|_________________S_____________|\n",
            "|________________S______________|\n",
            "|_________________S_____________|\n",
            "|__________________S____________|\n",
            "|_________________S_____________|\n",
            "|__________________S____________|\n",
            "|_________________S_____________|\n",
            "|__________________S____________|\n",
            "|_________________S_____________|\n",
            "|__________________S____________|\n",
            "|___________________S___________|\n",
            "|__________________S____________|\n",
            "|___________________S___________|\n",
            "|____________________S__________|\n",
            "|_____________________S_________|\n",
            "|______________________S________|\n",
            "|_____________________S_________|\n",
            "|____________________S__________|\n",
            "|___________________S___________|\n",
            "|____________________S__________|\n",
            "|___________________S___________|\n",
            "|____________________S__________|\n",
            "|_____________________S_________|\n",
            "|______________________S________|\n",
            "|_____________________S_________|\n",
            "|______________________S________|\n",
            "|_______________________S_______|\n",
            "|______________________S________|\n",
            "|_____________________S_________|\n",
            "|______________________S________|\n",
            "|_____________________S_________|\n",
            "|______________________S________|\n",
            "|_____________________S_________|\n",
            "|______________________S________|\n",
            "|_____________________S_________|\n",
            "|____________________S__________|\n",
            "|_____________________S_________|\n",
            "|____________________S__________|\n",
            "|___________________S___________|\n",
            "|__________________S____________|\n",
            "|_________________S_____________|\n",
            "|________________S______________|\n",
            "|_______________S_______________|\n",
            "|______________S________________|\n",
            "|_______________S_______________|\n",
            "|______________S________________|\n",
            "|_____________S_________________|\n",
            "|______________S________________|\n",
            "|_____________S_________________|\n",
            "|____________S__________________|\n",
            "|___________S___________________|\n",
            "|____________S__________________|\n",
            "|_____________S_________________|\n",
            "|______________S________________|\n",
            "|_____________S_________________|\n",
            "|______________S________________|\n",
            "|_______________S_______________|\n",
            "|______________S________________|\n",
            "|_______________S_______________|\n",
            "|________________S______________|\n",
            "|_______________S_______________|\n",
            "|________________S______________|\n",
            "|_______________S_______________|\n",
            "|________________S______________|\n",
            "|_______________S_______________|\n",
            "|______________S________________|\n",
            "|_____________S_________________|\n",
            "|______________S________________|\n",
            "|_______________S_______________|\n",
            "|________________S______________|\n",
            "|_________________S_____________|\n",
            "|________________S______________|\n",
            "|_________________S_____________|\n",
            "|________________S______________|\n",
            "|_________________S_____________|\n",
            "|__________________S____________|\n",
            "|___________________S___________|\n",
            "|____________________S__________|\n",
            "|___________________S___________|\n",
            "|____________________S__________|\n",
            "|___________________S___________|\n",
            "|____________________S__________|\n",
            "|___________________S___________|\n",
            "|____________________S__________|\n",
            "|___________________S___________|\n",
            "|__________________S____________|\n",
            "|___________________S___________|\n",
            "|__________________S____________|\n",
            "|___________________S___________|\n",
            "|__________________S____________|\n",
            "|_________________S_____________|\n",
            "|________________S______________|\n",
            "|_________________S_____________|\n",
            "|__________________S____________|\n",
            "|___________________S___________|\n",
            "|__________________S____________|\n",
            "|___________________S___________|\n",
            "|__________________S____________|\n",
            "|_________________S_____________|\n",
            "|__________________S____________|\n",
            "|_________________S_____________|\n",
            "|________________S______________|\n",
            "|_______________S_______________|\n",
            "|______________S________________|\n",
            "|_____________S_________________|\n",
            "|______________S________________|\n",
            "|_____________S_________________|\n",
            "|______________S________________|\n",
            "|_____________S_________________|\n",
            "|____________S__________________|\n",
            "|___________S___________________|\n",
            "|____________S__________________|\n",
            "|_____________S_________________|\n",
            "|____________S__________________|\n",
            "|___________S___________________|\n",
            "|____________S__________________|\n",
            "|_____________S_________________|\n",
            "|____________S__________________|\n",
            "|___________S___________________|\n",
            "|____________S__________________|\n",
            "|___________S___________________|\n",
            "|____________S__________________|\n",
            "|___________S___________________|\n",
            "|____________S__________________|\n",
            "|_____________S_________________|\n",
            "|______________S________________|\n",
            "|_______________S_______________|\n",
            "|______________S________________|\n",
            "|_____________S_________________|\n",
            "|______________S________________|\n",
            "|_____________S_________________|\n",
            "|____________S__________________|\n",
            "|___________S___________________|\n",
            "|__________S____________________|\n",
            "|_________S_____________________|\n",
            "|__________S____________________|\n",
            "|___________S___________________|\n",
            "|____________S__________________|\n",
            "|___________S___________________|\n",
            "|____________S__________________|\n",
            "|___________S___________________|\n",
            "|__________S____________________|\n",
            "|___________S___________________|\n",
            "|__________S____________________|\n",
            "|___________S___________________|\n",
            "|____________S__________________|\n",
            "|___________S___________________|\n",
            "|__________S____________________|\n",
            "|_________S_____________________|\n",
            "|________S______________________|\n",
            "|_______S_______________________|\n",
            "|______S________________________|\n",
            "|_____S_________________________|\n",
            "|______S________________________|\n",
            "|_____S_________________________|\n",
            "|______S________________________|\n",
            "|_____S_________________________|\n",
            "|____S__________________________|\n",
            "|___S___________________________|\n",
            "|____S__________________________|\n",
            "|_____S_________________________|\n",
            "|______S________________________|\n",
            "|_____S_________________________|\n",
            "|____S__________________________|\n",
            "|___S___________________________|\n",
            "|__S____________________________|\n",
            "|_S_____________________________|\n",
            "|S______________________________|\n"
          ]
        },
        {
          "output_type": "execute_result",
          "data": {
            "text/plain": [
              "293"
            ]
          },
          "metadata": {},
          "execution_count": 1
        }
      ],
      "source": [
        "\n",
        "# Monte Carlo simulation #2... the random-walker\n",
        "\n",
        "#\n",
        "# Task #1:  understand the _single_ \"sleepwalker\":\n",
        "#           change the character sleepwalking to something else, emoji, etc.\n",
        "#           change the \"walls\" to something else\n",
        "#           change the \"sidewalk\" to something else (water, air, walls, ...)\n",
        "#           try it with some different inputs... then you'll be ready for task 2\n",
        "\n",
        "import time\n",
        "import random\n",
        "\n",
        "def rs():\n",
        "    \"\"\" One random step \"\"\"\n",
        "    return random.choice([-1, 1])\n",
        "\n",
        "def rwalk(start, low, high):\n",
        "    \"\"\" Random walk between -radius and +radius  (starting at 0 by default) \"\"\"\n",
        "    totalsteps = 0          # Initial value of totalsteps (_not_ final value!)\n",
        "    current = start         # Current location (_not_ the total # of steps)\n",
        "\n",
        "    while True:             # Run \"forever\" (really, until a return or break)\n",
        "        if current <= low:  # too low!\n",
        "            return totalsteps # Phew!  Return totalsteps (stops the while loop)\n",
        "        elif current >= high: # too high!\n",
        "            return totalsteps # Phew!  Return totalsteps (stops the while loop)\n",
        "        else:\n",
        "            current = current + rs()  # take a step\n",
        "            totalsteps += 1           # count it\n",
        "\n",
        "            # let's animate!\n",
        "            left_side = current - low   # distance on the left of our sleepwalker\n",
        "            right_side = high - current\n",
        "            print(\"|\" + \"_\"*left_side + \"S\" + \"_\"*right_side + \"|\", flush=True)  # a start of our \"ASCIImation\"\n",
        "            time.sleep(0.042)\n",
        "\n",
        "    # the code can never get here!\n",
        "\n",
        "# You will need to add the right-hand side, too\n",
        "# Then, improve your sleepwalker!\n",
        "\n",
        "# let's try it!  rwalk(tart, low, high)\n",
        "#rwalk(5,0,10)\n",
        "rwalk(15,0,30)\n"
      ]
    },
    {
      "cell_type": "markdown",
      "source": [
        "### <font color=\"darkblue\"><b>Task #6: Your own wandering!</b></font>\n",
        "\n",
        "Below, create a variation of the random-walker examples above and below. Be sure\n",
        "+ You have at least two random wanderers\n",
        "+ You include an aesthetic customization of your choice\n",
        "+ You include an algorithmic personalization of your choice\n",
        "\n",
        "These can be very fun...\n",
        "\n",
        "I look forward to all of your ***wandering***!"
      ],
      "metadata": {
        "id": "XM07iJfP7VMf"
      }
    },
    {
      "cell_type": "code",
      "execution_count": null,
      "metadata": {
        "id": "t8S3Gu6Y3ggB"
      },
      "outputs": [],
      "source": [
        "#\n",
        "# Task #2:  create a _two_ sleepwalker animation!\n",
        "#           For an example _idea_ see the next cell...\n",
        "\n"
      ]
    },
    {
      "cell_type": "code",
      "execution_count": null,
      "metadata": {
        "id": "1zZ5kFlm3ggA"
      },
      "outputs": [],
      "source": [
        "\n",
        "# here is an _example_ of a two-sleepwalker animation idea\n",
        "# a starting point has been written... but only one wanderer is wandering!\n",
        "# your task is to make sure TWO wanderers are wandering... in a fashion you design...\n",
        "\n",
        "import time\n",
        "import random\n",
        "\n",
        "def rs():\n",
        "    \"\"\" One random step \"\"\"\n",
        "    return random.choice([-1, 1])\n",
        "\n",
        "def print_poptarts(pST, pSM):\n",
        "    \"\"\" print the two poptarts! \"\"\"\n",
        "    if pST < pSM:\n",
        "        pLeft = pST;   cLeft = \"\\033[6;33;41m\" + \"P\" + \"\\033[0m\"\n",
        "        pRight = pSM;  cRight = \"\\033[6;36;43m\" + \"P\" + \"\\033[0m\"\n",
        "    else:\n",
        "        pLeft = pSM;   cLeft = \"\\033[6;36;43m\" + \"P\" + \"\\033[0m\"\n",
        "        pRight = pST;  cRight = \"\\033[6;33;41m\" + \"P\" + \"\\033[0m\"\n",
        "\n",
        "    left_space = (pLeft-0)\n",
        "    middle_space = (pRight-pLeft)\n",
        "    right_space = (30-pRight)\n",
        "\n",
        "    print(\"CGU|\" + \"_\"*left_space + cLeft + \"_\"*middle_space + cRight + \"_\"*right_space + \"|Toaster\", flush=True)\n",
        "\n",
        "\n",
        "def poptart_race(pST, pSM):\n",
        "    \"\"\"\n",
        "        This simulator observes two poptarts, pST, pSM (you can guess the flavors...)\n",
        "        wandering between 0 and 30.\n",
        "\n",
        "        Call this with\n",
        "               poptart_race(10, 20)\n",
        "           or  poptart_race(pST=10, pSM=20)    # this is the same as the line above\n",
        "\n",
        "        The endpoints are always at 0 and 30. We check that  0 < pST < 30 and 0 < pSM < 30\n",
        "\n",
        "        Other values to try:  poptart_race(18, 22)    # evenly spaced\n",
        "                              poptart_race(5, 15)     # uneven spacing: pST is closer...\n",
        "    \"\"\"\n",
        "    num_steps = 0       # count the number of steps\n",
        "\n",
        "    while 0 < pST < 30:\n",
        "        print_poptarts(pST, pSM)   # print the current poptart-configuration!\n",
        "        pST = pST + rs()           # take a random step for the strawberry poptart...\n",
        "        num_steps += 1             # add 1 to our count of steps (in the variable num_steps)\n",
        "        time.sleep(0.05)           # pause a bit, to add drama!\n",
        "\n",
        "    # finished with the while loop!\n",
        "    return num_steps\n",
        "\n"
      ]
    },
    {
      "cell_type": "code",
      "source": [
        "poptart_race(10, 20)"
      ],
      "metadata": {
        "id": "VbhjtXudzAC4",
        "colab": {
          "base_uri": "https://localhost:8080/"
        },
        "outputId": "b841c30b-2041-4e3f-a5a9-1e80889f652c"
      },
      "execution_count": null,
      "outputs": [
        {
          "output_type": "stream",
          "name": "stdout",
          "text": [
            "CGU|__________\u001b[6;33;41mP\u001b[0m__________\u001b[6;36;43mP\u001b[0m__________|Toaster\n",
            "CGU|_________\u001b[6;33;41mP\u001b[0m___________\u001b[6;36;43mP\u001b[0m__________|Toaster\n",
            "CGU|__________\u001b[6;33;41mP\u001b[0m__________\u001b[6;36;43mP\u001b[0m__________|Toaster\n",
            "CGU|___________\u001b[6;33;41mP\u001b[0m_________\u001b[6;36;43mP\u001b[0m__________|Toaster\n",
            "CGU|__________\u001b[6;33;41mP\u001b[0m__________\u001b[6;36;43mP\u001b[0m__________|Toaster\n",
            "CGU|_________\u001b[6;33;41mP\u001b[0m___________\u001b[6;36;43mP\u001b[0m__________|Toaster\n",
            "CGU|__________\u001b[6;33;41mP\u001b[0m__________\u001b[6;36;43mP\u001b[0m__________|Toaster\n",
            "CGU|___________\u001b[6;33;41mP\u001b[0m_________\u001b[6;36;43mP\u001b[0m__________|Toaster\n",
            "CGU|____________\u001b[6;33;41mP\u001b[0m________\u001b[6;36;43mP\u001b[0m__________|Toaster\n",
            "CGU|___________\u001b[6;33;41mP\u001b[0m_________\u001b[6;36;43mP\u001b[0m__________|Toaster\n",
            "CGU|____________\u001b[6;33;41mP\u001b[0m________\u001b[6;36;43mP\u001b[0m__________|Toaster\n",
            "CGU|_____________\u001b[6;33;41mP\u001b[0m_______\u001b[6;36;43mP\u001b[0m__________|Toaster\n",
            "CGU|______________\u001b[6;33;41mP\u001b[0m______\u001b[6;36;43mP\u001b[0m__________|Toaster\n",
            "CGU|_______________\u001b[6;33;41mP\u001b[0m_____\u001b[6;36;43mP\u001b[0m__________|Toaster\n",
            "CGU|________________\u001b[6;33;41mP\u001b[0m____\u001b[6;36;43mP\u001b[0m__________|Toaster\n",
            "CGU|_________________\u001b[6;33;41mP\u001b[0m___\u001b[6;36;43mP\u001b[0m__________|Toaster\n",
            "CGU|________________\u001b[6;33;41mP\u001b[0m____\u001b[6;36;43mP\u001b[0m__________|Toaster\n",
            "CGU|_________________\u001b[6;33;41mP\u001b[0m___\u001b[6;36;43mP\u001b[0m__________|Toaster\n",
            "CGU|________________\u001b[6;33;41mP\u001b[0m____\u001b[6;36;43mP\u001b[0m__________|Toaster\n",
            "CGU|_________________\u001b[6;33;41mP\u001b[0m___\u001b[6;36;43mP\u001b[0m__________|Toaster\n",
            "CGU|__________________\u001b[6;33;41mP\u001b[0m__\u001b[6;36;43mP\u001b[0m__________|Toaster\n",
            "CGU|___________________\u001b[6;33;41mP\u001b[0m_\u001b[6;36;43mP\u001b[0m__________|Toaster\n",
            "CGU|__________________\u001b[6;33;41mP\u001b[0m__\u001b[6;36;43mP\u001b[0m__________|Toaster\n",
            "CGU|_________________\u001b[6;33;41mP\u001b[0m___\u001b[6;36;43mP\u001b[0m__________|Toaster\n",
            "CGU|________________\u001b[6;33;41mP\u001b[0m____\u001b[6;36;43mP\u001b[0m__________|Toaster\n",
            "CGU|_______________\u001b[6;33;41mP\u001b[0m_____\u001b[6;36;43mP\u001b[0m__________|Toaster\n",
            "CGU|________________\u001b[6;33;41mP\u001b[0m____\u001b[6;36;43mP\u001b[0m__________|Toaster\n",
            "CGU|_______________\u001b[6;33;41mP\u001b[0m_____\u001b[6;36;43mP\u001b[0m__________|Toaster\n",
            "CGU|______________\u001b[6;33;41mP\u001b[0m______\u001b[6;36;43mP\u001b[0m__________|Toaster\n",
            "CGU|_______________\u001b[6;33;41mP\u001b[0m_____\u001b[6;36;43mP\u001b[0m__________|Toaster\n",
            "CGU|______________\u001b[6;33;41mP\u001b[0m______\u001b[6;36;43mP\u001b[0m__________|Toaster\n",
            "CGU|_______________\u001b[6;33;41mP\u001b[0m_____\u001b[6;36;43mP\u001b[0m__________|Toaster\n",
            "CGU|______________\u001b[6;33;41mP\u001b[0m______\u001b[6;36;43mP\u001b[0m__________|Toaster\n",
            "CGU|_______________\u001b[6;33;41mP\u001b[0m_____\u001b[6;36;43mP\u001b[0m__________|Toaster\n",
            "CGU|______________\u001b[6;33;41mP\u001b[0m______\u001b[6;36;43mP\u001b[0m__________|Toaster\n",
            "CGU|_______________\u001b[6;33;41mP\u001b[0m_____\u001b[6;36;43mP\u001b[0m__________|Toaster\n",
            "CGU|______________\u001b[6;33;41mP\u001b[0m______\u001b[6;36;43mP\u001b[0m__________|Toaster\n",
            "CGU|_____________\u001b[6;33;41mP\u001b[0m_______\u001b[6;36;43mP\u001b[0m__________|Toaster\n",
            "CGU|____________\u001b[6;33;41mP\u001b[0m________\u001b[6;36;43mP\u001b[0m__________|Toaster\n",
            "CGU|___________\u001b[6;33;41mP\u001b[0m_________\u001b[6;36;43mP\u001b[0m__________|Toaster\n",
            "CGU|__________\u001b[6;33;41mP\u001b[0m__________\u001b[6;36;43mP\u001b[0m__________|Toaster\n",
            "CGU|___________\u001b[6;33;41mP\u001b[0m_________\u001b[6;36;43mP\u001b[0m__________|Toaster\n",
            "CGU|____________\u001b[6;33;41mP\u001b[0m________\u001b[6;36;43mP\u001b[0m__________|Toaster\n",
            "CGU|___________\u001b[6;33;41mP\u001b[0m_________\u001b[6;36;43mP\u001b[0m__________|Toaster\n",
            "CGU|__________\u001b[6;33;41mP\u001b[0m__________\u001b[6;36;43mP\u001b[0m__________|Toaster\n",
            "CGU|_________\u001b[6;33;41mP\u001b[0m___________\u001b[6;36;43mP\u001b[0m__________|Toaster\n",
            "CGU|__________\u001b[6;33;41mP\u001b[0m__________\u001b[6;36;43mP\u001b[0m__________|Toaster\n",
            "CGU|___________\u001b[6;33;41mP\u001b[0m_________\u001b[6;36;43mP\u001b[0m__________|Toaster\n",
            "CGU|____________\u001b[6;33;41mP\u001b[0m________\u001b[6;36;43mP\u001b[0m__________|Toaster\n",
            "CGU|___________\u001b[6;33;41mP\u001b[0m_________\u001b[6;36;43mP\u001b[0m__________|Toaster\n",
            "CGU|__________\u001b[6;33;41mP\u001b[0m__________\u001b[6;36;43mP\u001b[0m__________|Toaster\n",
            "CGU|_________\u001b[6;33;41mP\u001b[0m___________\u001b[6;36;43mP\u001b[0m__________|Toaster\n",
            "CGU|________\u001b[6;33;41mP\u001b[0m____________\u001b[6;36;43mP\u001b[0m__________|Toaster\n",
            "CGU|_______\u001b[6;33;41mP\u001b[0m_____________\u001b[6;36;43mP\u001b[0m__________|Toaster\n",
            "CGU|______\u001b[6;33;41mP\u001b[0m______________\u001b[6;36;43mP\u001b[0m__________|Toaster\n",
            "CGU|_____\u001b[6;33;41mP\u001b[0m_______________\u001b[6;36;43mP\u001b[0m__________|Toaster\n",
            "CGU|______\u001b[6;33;41mP\u001b[0m______________\u001b[6;36;43mP\u001b[0m__________|Toaster\n",
            "CGU|_______\u001b[6;33;41mP\u001b[0m_____________\u001b[6;36;43mP\u001b[0m__________|Toaster\n",
            "CGU|________\u001b[6;33;41mP\u001b[0m____________\u001b[6;36;43mP\u001b[0m__________|Toaster\n",
            "CGU|_________\u001b[6;33;41mP\u001b[0m___________\u001b[6;36;43mP\u001b[0m__________|Toaster\n",
            "CGU|__________\u001b[6;33;41mP\u001b[0m__________\u001b[6;36;43mP\u001b[0m__________|Toaster\n",
            "CGU|___________\u001b[6;33;41mP\u001b[0m_________\u001b[6;36;43mP\u001b[0m__________|Toaster\n",
            "CGU|____________\u001b[6;33;41mP\u001b[0m________\u001b[6;36;43mP\u001b[0m__________|Toaster\n",
            "CGU|___________\u001b[6;33;41mP\u001b[0m_________\u001b[6;36;43mP\u001b[0m__________|Toaster\n",
            "CGU|__________\u001b[6;33;41mP\u001b[0m__________\u001b[6;36;43mP\u001b[0m__________|Toaster\n",
            "CGU|___________\u001b[6;33;41mP\u001b[0m_________\u001b[6;36;43mP\u001b[0m__________|Toaster\n",
            "CGU|____________\u001b[6;33;41mP\u001b[0m________\u001b[6;36;43mP\u001b[0m__________|Toaster\n",
            "CGU|___________\u001b[6;33;41mP\u001b[0m_________\u001b[6;36;43mP\u001b[0m__________|Toaster\n",
            "CGU|__________\u001b[6;33;41mP\u001b[0m__________\u001b[6;36;43mP\u001b[0m__________|Toaster\n",
            "CGU|___________\u001b[6;33;41mP\u001b[0m_________\u001b[6;36;43mP\u001b[0m__________|Toaster\n",
            "CGU|____________\u001b[6;33;41mP\u001b[0m________\u001b[6;36;43mP\u001b[0m__________|Toaster\n",
            "CGU|_____________\u001b[6;33;41mP\u001b[0m_______\u001b[6;36;43mP\u001b[0m__________|Toaster\n",
            "CGU|______________\u001b[6;33;41mP\u001b[0m______\u001b[6;36;43mP\u001b[0m__________|Toaster\n",
            "CGU|_______________\u001b[6;33;41mP\u001b[0m_____\u001b[6;36;43mP\u001b[0m__________|Toaster\n",
            "CGU|________________\u001b[6;33;41mP\u001b[0m____\u001b[6;36;43mP\u001b[0m__________|Toaster\n",
            "CGU|_______________\u001b[6;33;41mP\u001b[0m_____\u001b[6;36;43mP\u001b[0m__________|Toaster\n",
            "CGU|________________\u001b[6;33;41mP\u001b[0m____\u001b[6;36;43mP\u001b[0m__________|Toaster\n",
            "CGU|_______________\u001b[6;33;41mP\u001b[0m_____\u001b[6;36;43mP\u001b[0m__________|Toaster\n",
            "CGU|______________\u001b[6;33;41mP\u001b[0m______\u001b[6;36;43mP\u001b[0m__________|Toaster\n",
            "CGU|_____________\u001b[6;33;41mP\u001b[0m_______\u001b[6;36;43mP\u001b[0m__________|Toaster\n",
            "CGU|____________\u001b[6;33;41mP\u001b[0m________\u001b[6;36;43mP\u001b[0m__________|Toaster\n",
            "CGU|_____________\u001b[6;33;41mP\u001b[0m_______\u001b[6;36;43mP\u001b[0m__________|Toaster\n",
            "CGU|______________\u001b[6;33;41mP\u001b[0m______\u001b[6;36;43mP\u001b[0m__________|Toaster\n",
            "CGU|_______________\u001b[6;33;41mP\u001b[0m_____\u001b[6;36;43mP\u001b[0m__________|Toaster\n",
            "CGU|________________\u001b[6;33;41mP\u001b[0m____\u001b[6;36;43mP\u001b[0m__________|Toaster\n",
            "CGU|_______________\u001b[6;33;41mP\u001b[0m_____\u001b[6;36;43mP\u001b[0m__________|Toaster\n",
            "CGU|________________\u001b[6;33;41mP\u001b[0m____\u001b[6;36;43mP\u001b[0m__________|Toaster\n",
            "CGU|_______________\u001b[6;33;41mP\u001b[0m_____\u001b[6;36;43mP\u001b[0m__________|Toaster\n",
            "CGU|______________\u001b[6;33;41mP\u001b[0m______\u001b[6;36;43mP\u001b[0m__________|Toaster\n",
            "CGU|_______________\u001b[6;33;41mP\u001b[0m_____\u001b[6;36;43mP\u001b[0m__________|Toaster\n",
            "CGU|________________\u001b[6;33;41mP\u001b[0m____\u001b[6;36;43mP\u001b[0m__________|Toaster\n",
            "CGU|_______________\u001b[6;33;41mP\u001b[0m_____\u001b[6;36;43mP\u001b[0m__________|Toaster\n",
            "CGU|______________\u001b[6;33;41mP\u001b[0m______\u001b[6;36;43mP\u001b[0m__________|Toaster\n",
            "CGU|_______________\u001b[6;33;41mP\u001b[0m_____\u001b[6;36;43mP\u001b[0m__________|Toaster\n",
            "CGU|________________\u001b[6;33;41mP\u001b[0m____\u001b[6;36;43mP\u001b[0m__________|Toaster\n",
            "CGU|_________________\u001b[6;33;41mP\u001b[0m___\u001b[6;36;43mP\u001b[0m__________|Toaster\n",
            "CGU|__________________\u001b[6;33;41mP\u001b[0m__\u001b[6;36;43mP\u001b[0m__________|Toaster\n",
            "CGU|___________________\u001b[6;33;41mP\u001b[0m_\u001b[6;36;43mP\u001b[0m__________|Toaster\n",
            "CGU|__________________\u001b[6;33;41mP\u001b[0m__\u001b[6;36;43mP\u001b[0m__________|Toaster\n",
            "CGU|___________________\u001b[6;33;41mP\u001b[0m_\u001b[6;36;43mP\u001b[0m__________|Toaster\n",
            "CGU|__________________\u001b[6;33;41mP\u001b[0m__\u001b[6;36;43mP\u001b[0m__________|Toaster\n",
            "CGU|___________________\u001b[6;33;41mP\u001b[0m_\u001b[6;36;43mP\u001b[0m__________|Toaster\n",
            "CGU|__________________\u001b[6;33;41mP\u001b[0m__\u001b[6;36;43mP\u001b[0m__________|Toaster\n",
            "CGU|_________________\u001b[6;33;41mP\u001b[0m___\u001b[6;36;43mP\u001b[0m__________|Toaster\n",
            "CGU|__________________\u001b[6;33;41mP\u001b[0m__\u001b[6;36;43mP\u001b[0m__________|Toaster\n",
            "CGU|___________________\u001b[6;33;41mP\u001b[0m_\u001b[6;36;43mP\u001b[0m__________|Toaster\n",
            "CGU|__________________\u001b[6;33;41mP\u001b[0m__\u001b[6;36;43mP\u001b[0m__________|Toaster\n",
            "CGU|___________________\u001b[6;33;41mP\u001b[0m_\u001b[6;36;43mP\u001b[0m__________|Toaster\n",
            "CGU|__________________\u001b[6;33;41mP\u001b[0m__\u001b[6;36;43mP\u001b[0m__________|Toaster\n",
            "CGU|_________________\u001b[6;33;41mP\u001b[0m___\u001b[6;36;43mP\u001b[0m__________|Toaster\n",
            "CGU|________________\u001b[6;33;41mP\u001b[0m____\u001b[6;36;43mP\u001b[0m__________|Toaster\n",
            "CGU|_________________\u001b[6;33;41mP\u001b[0m___\u001b[6;36;43mP\u001b[0m__________|Toaster\n",
            "CGU|__________________\u001b[6;33;41mP\u001b[0m__\u001b[6;36;43mP\u001b[0m__________|Toaster\n",
            "CGU|___________________\u001b[6;33;41mP\u001b[0m_\u001b[6;36;43mP\u001b[0m__________|Toaster\n",
            "CGU|__________________\u001b[6;33;41mP\u001b[0m__\u001b[6;36;43mP\u001b[0m__________|Toaster\n",
            "CGU|___________________\u001b[6;33;41mP\u001b[0m_\u001b[6;36;43mP\u001b[0m__________|Toaster\n",
            "CGU|__________________\u001b[6;33;41mP\u001b[0m__\u001b[6;36;43mP\u001b[0m__________|Toaster\n",
            "CGU|_________________\u001b[6;33;41mP\u001b[0m___\u001b[6;36;43mP\u001b[0m__________|Toaster\n",
            "CGU|________________\u001b[6;33;41mP\u001b[0m____\u001b[6;36;43mP\u001b[0m__________|Toaster\n",
            "CGU|_______________\u001b[6;33;41mP\u001b[0m_____\u001b[6;36;43mP\u001b[0m__________|Toaster\n",
            "CGU|________________\u001b[6;33;41mP\u001b[0m____\u001b[6;36;43mP\u001b[0m__________|Toaster\n",
            "CGU|_______________\u001b[6;33;41mP\u001b[0m_____\u001b[6;36;43mP\u001b[0m__________|Toaster\n",
            "CGU|______________\u001b[6;33;41mP\u001b[0m______\u001b[6;36;43mP\u001b[0m__________|Toaster\n",
            "CGU|_______________\u001b[6;33;41mP\u001b[0m_____\u001b[6;36;43mP\u001b[0m__________|Toaster\n",
            "CGU|________________\u001b[6;33;41mP\u001b[0m____\u001b[6;36;43mP\u001b[0m__________|Toaster\n",
            "CGU|_______________\u001b[6;33;41mP\u001b[0m_____\u001b[6;36;43mP\u001b[0m__________|Toaster\n",
            "CGU|________________\u001b[6;33;41mP\u001b[0m____\u001b[6;36;43mP\u001b[0m__________|Toaster\n",
            "CGU|_________________\u001b[6;33;41mP\u001b[0m___\u001b[6;36;43mP\u001b[0m__________|Toaster\n",
            "CGU|________________\u001b[6;33;41mP\u001b[0m____\u001b[6;36;43mP\u001b[0m__________|Toaster\n",
            "CGU|_______________\u001b[6;33;41mP\u001b[0m_____\u001b[6;36;43mP\u001b[0m__________|Toaster\n",
            "CGU|________________\u001b[6;33;41mP\u001b[0m____\u001b[6;36;43mP\u001b[0m__________|Toaster\n",
            "CGU|_______________\u001b[6;33;41mP\u001b[0m_____\u001b[6;36;43mP\u001b[0m__________|Toaster\n",
            "CGU|________________\u001b[6;33;41mP\u001b[0m____\u001b[6;36;43mP\u001b[0m__________|Toaster\n",
            "CGU|_________________\u001b[6;33;41mP\u001b[0m___\u001b[6;36;43mP\u001b[0m__________|Toaster\n",
            "CGU|________________\u001b[6;33;41mP\u001b[0m____\u001b[6;36;43mP\u001b[0m__________|Toaster\n",
            "CGU|_______________\u001b[6;33;41mP\u001b[0m_____\u001b[6;36;43mP\u001b[0m__________|Toaster\n",
            "CGU|______________\u001b[6;33;41mP\u001b[0m______\u001b[6;36;43mP\u001b[0m__________|Toaster\n",
            "CGU|_____________\u001b[6;33;41mP\u001b[0m_______\u001b[6;36;43mP\u001b[0m__________|Toaster\n",
            "CGU|______________\u001b[6;33;41mP\u001b[0m______\u001b[6;36;43mP\u001b[0m__________|Toaster\n",
            "CGU|_______________\u001b[6;33;41mP\u001b[0m_____\u001b[6;36;43mP\u001b[0m__________|Toaster\n",
            "CGU|______________\u001b[6;33;41mP\u001b[0m______\u001b[6;36;43mP\u001b[0m__________|Toaster\n",
            "CGU|_____________\u001b[6;33;41mP\u001b[0m_______\u001b[6;36;43mP\u001b[0m__________|Toaster\n",
            "CGU|______________\u001b[6;33;41mP\u001b[0m______\u001b[6;36;43mP\u001b[0m__________|Toaster\n",
            "CGU|_______________\u001b[6;33;41mP\u001b[0m_____\u001b[6;36;43mP\u001b[0m__________|Toaster\n",
            "CGU|______________\u001b[6;33;41mP\u001b[0m______\u001b[6;36;43mP\u001b[0m__________|Toaster\n",
            "CGU|_______________\u001b[6;33;41mP\u001b[0m_____\u001b[6;36;43mP\u001b[0m__________|Toaster\n",
            "CGU|________________\u001b[6;33;41mP\u001b[0m____\u001b[6;36;43mP\u001b[0m__________|Toaster\n",
            "CGU|_______________\u001b[6;33;41mP\u001b[0m_____\u001b[6;36;43mP\u001b[0m__________|Toaster\n",
            "CGU|________________\u001b[6;33;41mP\u001b[0m____\u001b[6;36;43mP\u001b[0m__________|Toaster\n",
            "CGU|_________________\u001b[6;33;41mP\u001b[0m___\u001b[6;36;43mP\u001b[0m__________|Toaster\n",
            "CGU|__________________\u001b[6;33;41mP\u001b[0m__\u001b[6;36;43mP\u001b[0m__________|Toaster\n",
            "CGU|_________________\u001b[6;33;41mP\u001b[0m___\u001b[6;36;43mP\u001b[0m__________|Toaster\n",
            "CGU|________________\u001b[6;33;41mP\u001b[0m____\u001b[6;36;43mP\u001b[0m__________|Toaster\n",
            "CGU|_______________\u001b[6;33;41mP\u001b[0m_____\u001b[6;36;43mP\u001b[0m__________|Toaster\n",
            "CGU|________________\u001b[6;33;41mP\u001b[0m____\u001b[6;36;43mP\u001b[0m__________|Toaster\n",
            "CGU|_______________\u001b[6;33;41mP\u001b[0m_____\u001b[6;36;43mP\u001b[0m__________|Toaster\n",
            "CGU|________________\u001b[6;33;41mP\u001b[0m____\u001b[6;36;43mP\u001b[0m__________|Toaster\n",
            "CGU|_________________\u001b[6;33;41mP\u001b[0m___\u001b[6;36;43mP\u001b[0m__________|Toaster\n",
            "CGU|________________\u001b[6;33;41mP\u001b[0m____\u001b[6;36;43mP\u001b[0m__________|Toaster\n",
            "CGU|_________________\u001b[6;33;41mP\u001b[0m___\u001b[6;36;43mP\u001b[0m__________|Toaster\n",
            "CGU|________________\u001b[6;33;41mP\u001b[0m____\u001b[6;36;43mP\u001b[0m__________|Toaster\n",
            "CGU|_________________\u001b[6;33;41mP\u001b[0m___\u001b[6;36;43mP\u001b[0m__________|Toaster\n",
            "CGU|__________________\u001b[6;33;41mP\u001b[0m__\u001b[6;36;43mP\u001b[0m__________|Toaster\n",
            "CGU|___________________\u001b[6;33;41mP\u001b[0m_\u001b[6;36;43mP\u001b[0m__________|Toaster\n",
            "CGU|____________________\u001b[6;36;43mP\u001b[0m\u001b[6;33;41mP\u001b[0m__________|Toaster\n",
            "CGU|____________________\u001b[6;36;43mP\u001b[0m_\u001b[6;33;41mP\u001b[0m_________|Toaster\n",
            "CGU|____________________\u001b[6;36;43mP\u001b[0m__\u001b[6;33;41mP\u001b[0m________|Toaster\n",
            "CGU|____________________\u001b[6;36;43mP\u001b[0m___\u001b[6;33;41mP\u001b[0m_______|Toaster\n",
            "CGU|____________________\u001b[6;36;43mP\u001b[0m____\u001b[6;33;41mP\u001b[0m______|Toaster\n",
            "CGU|____________________\u001b[6;36;43mP\u001b[0m___\u001b[6;33;41mP\u001b[0m_______|Toaster\n",
            "CGU|____________________\u001b[6;36;43mP\u001b[0m__\u001b[6;33;41mP\u001b[0m________|Toaster\n",
            "CGU|____________________\u001b[6;36;43mP\u001b[0m___\u001b[6;33;41mP\u001b[0m_______|Toaster\n",
            "CGU|____________________\u001b[6;36;43mP\u001b[0m____\u001b[6;33;41mP\u001b[0m______|Toaster\n",
            "CGU|____________________\u001b[6;36;43mP\u001b[0m_____\u001b[6;33;41mP\u001b[0m_____|Toaster\n",
            "CGU|____________________\u001b[6;36;43mP\u001b[0m____\u001b[6;33;41mP\u001b[0m______|Toaster\n",
            "CGU|____________________\u001b[6;36;43mP\u001b[0m___\u001b[6;33;41mP\u001b[0m_______|Toaster\n",
            "CGU|____________________\u001b[6;36;43mP\u001b[0m__\u001b[6;33;41mP\u001b[0m________|Toaster\n",
            "CGU|____________________\u001b[6;36;43mP\u001b[0m___\u001b[6;33;41mP\u001b[0m_______|Toaster\n",
            "CGU|____________________\u001b[6;36;43mP\u001b[0m__\u001b[6;33;41mP\u001b[0m________|Toaster\n",
            "CGU|____________________\u001b[6;36;43mP\u001b[0m_\u001b[6;33;41mP\u001b[0m_________|Toaster\n",
            "CGU|____________________\u001b[6;36;43mP\u001b[0m\u001b[6;33;41mP\u001b[0m__________|Toaster\n",
            "CGU|___________________\u001b[6;33;41mP\u001b[0m_\u001b[6;36;43mP\u001b[0m__________|Toaster\n",
            "CGU|____________________\u001b[6;36;43mP\u001b[0m\u001b[6;33;41mP\u001b[0m__________|Toaster\n",
            "CGU|____________________\u001b[6;36;43mP\u001b[0m_\u001b[6;33;41mP\u001b[0m_________|Toaster\n",
            "CGU|____________________\u001b[6;36;43mP\u001b[0m\u001b[6;33;41mP\u001b[0m__________|Toaster\n",
            "CGU|____________________\u001b[6;36;43mP\u001b[0m_\u001b[6;33;41mP\u001b[0m_________|Toaster\n",
            "CGU|____________________\u001b[6;36;43mP\u001b[0m__\u001b[6;33;41mP\u001b[0m________|Toaster\n",
            "CGU|____________________\u001b[6;36;43mP\u001b[0m___\u001b[6;33;41mP\u001b[0m_______|Toaster\n",
            "CGU|____________________\u001b[6;36;43mP\u001b[0m__\u001b[6;33;41mP\u001b[0m________|Toaster\n",
            "CGU|____________________\u001b[6;36;43mP\u001b[0m___\u001b[6;33;41mP\u001b[0m_______|Toaster\n",
            "CGU|____________________\u001b[6;36;43mP\u001b[0m__\u001b[6;33;41mP\u001b[0m________|Toaster\n",
            "CGU|____________________\u001b[6;36;43mP\u001b[0m___\u001b[6;33;41mP\u001b[0m_______|Toaster\n",
            "CGU|____________________\u001b[6;36;43mP\u001b[0m__\u001b[6;33;41mP\u001b[0m________|Toaster\n",
            "CGU|____________________\u001b[6;36;43mP\u001b[0m___\u001b[6;33;41mP\u001b[0m_______|Toaster\n",
            "CGU|____________________\u001b[6;36;43mP\u001b[0m__\u001b[6;33;41mP\u001b[0m________|Toaster\n",
            "CGU|____________________\u001b[6;36;43mP\u001b[0m_\u001b[6;33;41mP\u001b[0m_________|Toaster\n",
            "CGU|____________________\u001b[6;36;43mP\u001b[0m__\u001b[6;33;41mP\u001b[0m________|Toaster\n",
            "CGU|____________________\u001b[6;36;43mP\u001b[0m___\u001b[6;33;41mP\u001b[0m_______|Toaster\n",
            "CGU|____________________\u001b[6;36;43mP\u001b[0m__\u001b[6;33;41mP\u001b[0m________|Toaster\n",
            "CGU|____________________\u001b[6;36;43mP\u001b[0m___\u001b[6;33;41mP\u001b[0m_______|Toaster\n",
            "CGU|____________________\u001b[6;36;43mP\u001b[0m____\u001b[6;33;41mP\u001b[0m______|Toaster\n",
            "CGU|____________________\u001b[6;36;43mP\u001b[0m_____\u001b[6;33;41mP\u001b[0m_____|Toaster\n",
            "CGU|____________________\u001b[6;36;43mP\u001b[0m______\u001b[6;33;41mP\u001b[0m____|Toaster\n",
            "CGU|____________________\u001b[6;36;43mP\u001b[0m_______\u001b[6;33;41mP\u001b[0m___|Toaster\n",
            "CGU|____________________\u001b[6;36;43mP\u001b[0m______\u001b[6;33;41mP\u001b[0m____|Toaster\n",
            "CGU|____________________\u001b[6;36;43mP\u001b[0m_______\u001b[6;33;41mP\u001b[0m___|Toaster\n",
            "CGU|____________________\u001b[6;36;43mP\u001b[0m______\u001b[6;33;41mP\u001b[0m____|Toaster\n",
            "CGU|____________________\u001b[6;36;43mP\u001b[0m_____\u001b[6;33;41mP\u001b[0m_____|Toaster\n",
            "CGU|____________________\u001b[6;36;43mP\u001b[0m______\u001b[6;33;41mP\u001b[0m____|Toaster\n",
            "CGU|____________________\u001b[6;36;43mP\u001b[0m_______\u001b[6;33;41mP\u001b[0m___|Toaster\n",
            "CGU|____________________\u001b[6;36;43mP\u001b[0m________\u001b[6;33;41mP\u001b[0m__|Toaster\n",
            "CGU|____________________\u001b[6;36;43mP\u001b[0m_______\u001b[6;33;41mP\u001b[0m___|Toaster\n",
            "CGU|____________________\u001b[6;36;43mP\u001b[0m______\u001b[6;33;41mP\u001b[0m____|Toaster\n",
            "CGU|____________________\u001b[6;36;43mP\u001b[0m_______\u001b[6;33;41mP\u001b[0m___|Toaster\n",
            "CGU|____________________\u001b[6;36;43mP\u001b[0m______\u001b[6;33;41mP\u001b[0m____|Toaster\n",
            "CGU|____________________\u001b[6;36;43mP\u001b[0m_______\u001b[6;33;41mP\u001b[0m___|Toaster\n",
            "CGU|____________________\u001b[6;36;43mP\u001b[0m________\u001b[6;33;41mP\u001b[0m__|Toaster\n",
            "CGU|____________________\u001b[6;36;43mP\u001b[0m_______\u001b[6;33;41mP\u001b[0m___|Toaster\n",
            "CGU|____________________\u001b[6;36;43mP\u001b[0m______\u001b[6;33;41mP\u001b[0m____|Toaster\n",
            "CGU|____________________\u001b[6;36;43mP\u001b[0m_____\u001b[6;33;41mP\u001b[0m_____|Toaster\n",
            "CGU|____________________\u001b[6;36;43mP\u001b[0m____\u001b[6;33;41mP\u001b[0m______|Toaster\n",
            "CGU|____________________\u001b[6;36;43mP\u001b[0m_____\u001b[6;33;41mP\u001b[0m_____|Toaster\n",
            "CGU|____________________\u001b[6;36;43mP\u001b[0m______\u001b[6;33;41mP\u001b[0m____|Toaster\n",
            "CGU|____________________\u001b[6;36;43mP\u001b[0m_____\u001b[6;33;41mP\u001b[0m_____|Toaster\n",
            "CGU|____________________\u001b[6;36;43mP\u001b[0m______\u001b[6;33;41mP\u001b[0m____|Toaster\n",
            "CGU|____________________\u001b[6;36;43mP\u001b[0m_____\u001b[6;33;41mP\u001b[0m_____|Toaster\n",
            "CGU|____________________\u001b[6;36;43mP\u001b[0m______\u001b[6;33;41mP\u001b[0m____|Toaster\n",
            "CGU|____________________\u001b[6;36;43mP\u001b[0m_____\u001b[6;33;41mP\u001b[0m_____|Toaster\n",
            "CGU|____________________\u001b[6;36;43mP\u001b[0m______\u001b[6;33;41mP\u001b[0m____|Toaster\n",
            "CGU|____________________\u001b[6;36;43mP\u001b[0m_____\u001b[6;33;41mP\u001b[0m_____|Toaster\n",
            "CGU|____________________\u001b[6;36;43mP\u001b[0m____\u001b[6;33;41mP\u001b[0m______|Toaster\n",
            "CGU|____________________\u001b[6;36;43mP\u001b[0m___\u001b[6;33;41mP\u001b[0m_______|Toaster\n",
            "CGU|____________________\u001b[6;36;43mP\u001b[0m__\u001b[6;33;41mP\u001b[0m________|Toaster\n",
            "CGU|____________________\u001b[6;36;43mP\u001b[0m_\u001b[6;33;41mP\u001b[0m_________|Toaster\n",
            "CGU|____________________\u001b[6;36;43mP\u001b[0m\u001b[6;33;41mP\u001b[0m__________|Toaster\n",
            "CGU|____________________\u001b[6;36;43mP\u001b[0m_\u001b[6;33;41mP\u001b[0m_________|Toaster\n",
            "CGU|____________________\u001b[6;36;43mP\u001b[0m__\u001b[6;33;41mP\u001b[0m________|Toaster\n",
            "CGU|____________________\u001b[6;36;43mP\u001b[0m_\u001b[6;33;41mP\u001b[0m_________|Toaster\n",
            "CGU|____________________\u001b[6;36;43mP\u001b[0m\u001b[6;33;41mP\u001b[0m__________|Toaster\n",
            "CGU|___________________\u001b[6;33;41mP\u001b[0m_\u001b[6;36;43mP\u001b[0m__________|Toaster\n",
            "CGU|__________________\u001b[6;33;41mP\u001b[0m__\u001b[6;36;43mP\u001b[0m__________|Toaster\n",
            "CGU|_________________\u001b[6;33;41mP\u001b[0m___\u001b[6;36;43mP\u001b[0m__________|Toaster\n",
            "CGU|__________________\u001b[6;33;41mP\u001b[0m__\u001b[6;36;43mP\u001b[0m__________|Toaster\n",
            "CGU|___________________\u001b[6;33;41mP\u001b[0m_\u001b[6;36;43mP\u001b[0m__________|Toaster\n",
            "CGU|____________________\u001b[6;36;43mP\u001b[0m\u001b[6;33;41mP\u001b[0m__________|Toaster\n",
            "CGU|____________________\u001b[6;36;43mP\u001b[0m_\u001b[6;33;41mP\u001b[0m_________|Toaster\n",
            "CGU|____________________\u001b[6;36;43mP\u001b[0m__\u001b[6;33;41mP\u001b[0m________|Toaster\n",
            "CGU|____________________\u001b[6;36;43mP\u001b[0m_\u001b[6;33;41mP\u001b[0m_________|Toaster\n",
            "CGU|____________________\u001b[6;36;43mP\u001b[0m\u001b[6;33;41mP\u001b[0m__________|Toaster\n",
            "CGU|___________________\u001b[6;33;41mP\u001b[0m_\u001b[6;36;43mP\u001b[0m__________|Toaster\n",
            "CGU|__________________\u001b[6;33;41mP\u001b[0m__\u001b[6;36;43mP\u001b[0m__________|Toaster\n",
            "CGU|_________________\u001b[6;33;41mP\u001b[0m___\u001b[6;36;43mP\u001b[0m__________|Toaster\n",
            "CGU|________________\u001b[6;33;41mP\u001b[0m____\u001b[6;36;43mP\u001b[0m__________|Toaster\n",
            "CGU|_________________\u001b[6;33;41mP\u001b[0m___\u001b[6;36;43mP\u001b[0m__________|Toaster\n",
            "CGU|__________________\u001b[6;33;41mP\u001b[0m__\u001b[6;36;43mP\u001b[0m__________|Toaster\n",
            "CGU|___________________\u001b[6;33;41mP\u001b[0m_\u001b[6;36;43mP\u001b[0m__________|Toaster\n",
            "CGU|____________________\u001b[6;36;43mP\u001b[0m\u001b[6;33;41mP\u001b[0m__________|Toaster\n",
            "CGU|____________________\u001b[6;36;43mP\u001b[0m_\u001b[6;33;41mP\u001b[0m_________|Toaster\n",
            "CGU|____________________\u001b[6;36;43mP\u001b[0m__\u001b[6;33;41mP\u001b[0m________|Toaster\n",
            "CGU|____________________\u001b[6;36;43mP\u001b[0m___\u001b[6;33;41mP\u001b[0m_______|Toaster\n",
            "CGU|____________________\u001b[6;36;43mP\u001b[0m____\u001b[6;33;41mP\u001b[0m______|Toaster\n",
            "CGU|____________________\u001b[6;36;43mP\u001b[0m_____\u001b[6;33;41mP\u001b[0m_____|Toaster\n",
            "CGU|____________________\u001b[6;36;43mP\u001b[0m______\u001b[6;33;41mP\u001b[0m____|Toaster\n",
            "CGU|____________________\u001b[6;36;43mP\u001b[0m_______\u001b[6;33;41mP\u001b[0m___|Toaster\n",
            "CGU|____________________\u001b[6;36;43mP\u001b[0m________\u001b[6;33;41mP\u001b[0m__|Toaster\n",
            "CGU|____________________\u001b[6;36;43mP\u001b[0m_________\u001b[6;33;41mP\u001b[0m_|Toaster\n"
          ]
        },
        {
          "output_type": "execute_result",
          "data": {
            "text/plain": [
              "266"
            ]
          },
          "metadata": {},
          "execution_count": 5
        }
      ]
    },
    {
      "cell_type": "code",
      "source": [
        "def poptart_royale(sA, PT, sB):\n",
        "\n",
        "    totalsteps = 0\n",
        "    StrA = sA\n",
        "    StrB = sB\n",
        "\n",
        "    while True:\n",
        "        if StrA == PT or StrB == PT :\n",
        "            return totalsteps\n",
        "        else:\n",
        "            StrA = StrA + rs()\n",
        "            StrB = StrB + rs()\n",
        "            EndB= StrB - StrA\n",
        "            totalsteps += 1\n",
        "            N = 40-StrA - abs(StrB)\n",
        "            print(\"Hole|\" +\"_\"*N + \"🤤\"+ (abs(StrA)*\"_\")+(abs(EndB)*\"_\")+\"🤤\" + \"_\"*N+\"|Hole\", flush=True)\n",
        "            #print( \"Hole|\"+ (abs(StartsA) * \"_\") + \"🧟‍♂️\"+ \"🧟‍♀️\"+(\"_\" *abs(StartsB) )+\"|Hole\")\n",
        "            #print(\"B|\"+ (abs(StartsB) * \"_\")+\"🧟‍♀️\")\n",
        "\n",
        "\n",
        "\n",
        "            time.sleep(0.1)\n",
        "\n",
        "poptart_royale(5, 20, 30)"
      ],
      "metadata": {
        "colab": {
          "base_uri": "https://localhost:8080/"
        },
        "id": "btdRClCiUwHf",
        "outputId": "c72c9570-4c81-4dd5-c419-6dfc2e97a567"
      },
      "execution_count": null,
      "outputs": [
        {
          "output_type": "stream",
          "name": "stdout",
          "text": [
            "Hole|___🤤_______________________________🤤___|Hole\n",
            "Hole|_🤤________________________________🤤_|Hole\n",
            "Hole|___🤤_______________________________🤤___|Hole\n",
            "Hole|_🤤________________________________🤤_|Hole\n",
            "Hole|_🤤_______________________________🤤_|Hole\n",
            "Hole|🤤________________________________🤤|Hole\n",
            "Hole|_🤤_______________________________🤤_|Hole\n",
            "Hole|___🤤______________________________🤤___|Hole\n",
            "Hole|___🤤_______________________________🤤___|Hole\n",
            "Hole|_🤤________________________________🤤_|Hole\n",
            "Hole|🤤_________________________________🤤|Hole\n",
            "Hole|🤤________________________________🤤|Hole\n",
            "Hole|_🤤_______________________________🤤_|Hole\n",
            "Hole|___🤤______________________________🤤___|Hole\n",
            "Hole|_🤤_______________________________🤤_|Hole\n",
            "Hole|_🤤________________________________🤤_|Hole\n",
            "Hole|___🤤_______________________________🤤___|Hole\n",
            "Hole|_🤤________________________________🤤_|Hole\n",
            "Hole|_🤤_______________________________🤤_|Hole\n",
            "Hole|🤤________________________________🤤|Hole\n",
            "Hole|🤤_______________________________🤤|Hole\n",
            "Hole|🤤________________________________🤤|Hole\n",
            "Hole|🤤_______________________________🤤|Hole\n",
            "Hole|🤤________________________________🤤|Hole\n",
            "Hole|🤤_________________________________🤤|Hole\n",
            "Hole|🤤__________________________________🤤|Hole\n",
            "Hole|_🤤_________________________________🤤_|Hole\n",
            "Hole|___🤤________________________________🤤___|Hole\n",
            "Hole|___🤤_______________________________🤤___|Hole\n",
            "Hole|___🤤______________________________🤤___|Hole\n",
            "Hole|___🤤_____________________________🤤___|Hole\n",
            "Hole|_🤤______________________________🤤_|Hole\n",
            "Hole|_🤤_____________________________🤤_|Hole\n",
            "Hole|___🤤____________________________🤤___|Hole\n",
            "Hole|___🤤_____________________________🤤___|Hole\n",
            "Hole|_🤤______________________________🤤_|Hole\n",
            "Hole|___🤤_____________________________🤤___|Hole\n",
            "Hole|_🤤______________________________🤤_|Hole\n",
            "Hole|_🤤_____________________________🤤_|Hole\n",
            "Hole|🤤______________________________🤤|Hole\n",
            "Hole|🤤_______________________________🤤|Hole\n",
            "Hole|_🤤______________________________🤤_|Hole\n",
            "Hole|___🤤_____________________________🤤___|Hole\n",
            "Hole|___🤤______________________________🤤___|Hole\n",
            "Hole|_🤤_______________________________🤤_|Hole\n",
            "Hole|🤤________________________________🤤|Hole\n",
            "Hole|🤤_________________________________🤤|Hole\n",
            "Hole|🤤__________________________________🤤|Hole\n",
            "Hole|🤤_________________________________🤤|Hole\n",
            "Hole|🤤__________________________________🤤|Hole\n",
            "Hole|🤤_________________________________🤤|Hole\n",
            "Hole|🤤________________________________🤤|Hole\n",
            "Hole|🤤_________________________________🤤|Hole\n",
            "Hole|🤤__________________________________🤤|Hole\n",
            "Hole|🤤___________________________________🤤|Hole\n",
            "Hole|🤤__________________________________🤤|Hole\n",
            "Hole|🤤___________________________________🤤|Hole\n",
            "Hole|🤤__________________________________🤤|Hole\n",
            "Hole|🤤_________________________________🤤|Hole\n",
            "Hole|🤤__________________________________🤤|Hole\n",
            "Hole|🤤_________________________________🤤|Hole\n",
            "Hole|🤤________________________________🤤|Hole\n",
            "Hole|🤤_______________________________🤤|Hole\n",
            "Hole|🤤________________________________🤤|Hole\n",
            "Hole|🤤_______________________________🤤|Hole\n",
            "Hole|🤤______________________________🤤|Hole\n",
            "Hole|🤤_______________________________🤤|Hole\n",
            "Hole|🤤________________________________🤤|Hole\n",
            "Hole|🤤_________________________________🤤|Hole\n",
            "Hole|🤤________________________________🤤|Hole\n",
            "Hole|🤤_________________________________🤤|Hole\n",
            "Hole|🤤__________________________________🤤|Hole\n",
            "Hole|🤤___________________________________🤤|Hole\n",
            "Hole|🤤__________________________________🤤|Hole\n",
            "Hole|🤤_________________________________🤤|Hole\n",
            "Hole|🤤__________________________________🤤|Hole\n",
            "Hole|🤤_________________________________🤤|Hole\n",
            "Hole|🤤__________________________________🤤|Hole\n",
            "Hole|🤤___________________________________🤤|Hole\n",
            "Hole|🤤__________________________________🤤|Hole\n",
            "Hole|🤤_________________________________🤤|Hole\n",
            "Hole|🤤________________________________🤤|Hole\n",
            "Hole|🤤_______________________________🤤|Hole\n",
            "Hole|🤤______________________________🤤|Hole\n",
            "Hole|🤤_______________________________🤤|Hole\n",
            "Hole|🤤________________________________🤤|Hole\n",
            "Hole|🤤_______________________________🤤|Hole\n",
            "Hole|🤤________________________________🤤|Hole\n",
            "Hole|🤤_________________________________🤤|Hole\n"
          ]
        },
        {
          "output_type": "execute_result",
          "data": {
            "text/plain": [
              "89"
            ]
          },
          "metadata": {},
          "execution_count": 6
        }
      ]
    },
    {
      "cell_type": "markdown",
      "metadata": {
        "id": "IrzyA63F3ggB"
      },
      "source": [
        "\n",
        "<br>\n",
        "\n",
        "#### Hints, suggestions, and other references\n",
        "+ Be sure that there is a <i>finishing condition</i>\n",
        "+ Have a meaningful return value - such as the number of steps\n",
        "+ There should be some interaction between the wandering agents (each other), as well as between the wanderers and the endpoints, e.g., walls, cliffs, wells, teleports, etc.\n",
        "\n",
        "<br>\n",
        "\n",
        "As a few possible examples, you might consider:\n",
        "+ two wanderers that are trying to reach an item between them (see above)\n",
        "+ two wanderers that are unable to switch places (they \"bounce\"), with the simulation ending when one—or both—reach the walls\n",
        "+ two endpoints of a single \"entity\" that's trying to consume the whole environment (reach both sides)\n",
        "+ a single wanderer hoping to avoid an \"obstacle\" that is also a wanderer... it moves around and/or (dis)appears: a moving obstacle definitely counts as a second wanderer\n",
        "+ one or both walls can be a \"wanderer\"\n",
        "+ there are many more possibilities, for sure!\n",
        "\n",
        "\n",
        "<br>\n",
        "\n",
        "Other resources/references:\n",
        "+ [Lots of ideas are here at the cs5 page](https://www.cs.hmc.edu/twiki/bin/view/CS5Fall2019/SleepwalkingStudentGold)\n",
        "+ You can also add emojis and other unicode characters\n",
        "+ And you can change the colors -- see the next couple of cells for examples...\n",
        "+ [Here is the terminal-colors in Python page](https://www.cs.hmc.edu/twiki/bin/view/CS5/TerminalColorsInPython)"
      ]
    },
    {
      "cell_type": "code",
      "execution_count": null,
      "metadata": {
        "id": "CpFeTj_83ggC",
        "colab": {
          "base_uri": "https://localhost:8080/"
        },
        "outputId": "555613f4-0f85-4514-f9ea-500b628f0c9f"
      },
      "outputs": [
        {
          "output_type": "stream",
          "name": "stdout",
          "text": [
            "|_♫_________|\n",
            "|__♫________|\n",
            "|___♪_______|\n",
            "|____♫______|\n",
            "|_____♪_____|\n",
            "|______♫____|\n",
            "|_______♫___|\n",
            "|________♫__|\n",
            "|_________♪_|\n"
          ]
        }
      ],
      "source": [
        "import time\n",
        "\n",
        "# emoji test\n",
        "emoji_list = [ \"♫\", \"♪\" ]\n",
        "for i in range(1,10):\n",
        "    left_side = i\n",
        "    right_side = (10-i)\n",
        "\n",
        "    e = \"🙂\"\n",
        "    e = random.choice(emoji_list)\n",
        "\n",
        "    print(\"|\" + \"_\"*left_side + e + \"_\"*right_side + \"|\", flush=True)\n",
        "    time.sleep(0.25)"
      ]
    },
    {
      "cell_type": "code",
      "execution_count": null,
      "metadata": {
        "id": "jhB1t4kZ3ggC",
        "colab": {
          "base_uri": "https://localhost:8080/"
        },
        "outputId": "917f2085-6e1a-40a7-a0f0-af9250b62ae6"
      },
      "outputs": [
        {
          "output_type": "stream",
          "name": "stdout",
          "text": [
            "\n",
            "before: \u001b[6;30;43mThis text uses 6;30;43 .\u001b[0m :end\n",
            "\n"
          ]
        }
      ],
      "source": [
        "print(\"\\nbefore: \" + \"\\033[6;30;43m\" + \"This text uses 6;30;43 .\" + \"\\033[0m\" + \" :end\\n\")"
      ]
    },
    {
      "cell_type": "markdown",
      "source": [
        "Here's an example with the black-and-gold text:"
      ],
      "metadata": {
        "id": "mp0pOdGpQ8cA"
      }
    },
    {
      "cell_type": "code",
      "source": [
        "import time\n",
        "\n",
        "def gold_bg(text):\n",
        "    return \"\\033[6;30;43m\" + text + \"\\033[0m\"\n",
        "\n",
        "# gold_bg test\n",
        "for i in range(1,10):\n",
        "    left_side = i\n",
        "    right_side = (10-i)\n",
        "\n",
        "    e = \"E\"\n",
        "    # e = random.choice(emoji_list)\n",
        "\n",
        "    print(\"|\" + \"_\"*left_side + gold_bg(e) + \"_\"*right_side + \"|\", flush=True)\n",
        "    time.sleep(0.25)\n",
        "\n",
        "# by Zach\n",
        "\n",
        "# REVERSE gold_bg test\n",
        "for i in range(10,0,-1):\n",
        "    left_side = i\n",
        "    right_side = (10-i)\n",
        "\n",
        "    e = \"E\"\n",
        "    e = random.choice(emoji_list)\n",
        "\n",
        "    print(\"|\" + gold_bg(\"_\"*left_side) + e + gold_bg(\"_\"*right_side) + \"|\", flush=True)\n",
        "    time.sleep(0.25)"
      ],
      "metadata": {
        "id": "Ow8QYU-dQ_Xg",
        "colab": {
          "base_uri": "https://localhost:8080/"
        },
        "outputId": "c507259c-e61d-46eb-92cb-0de7cd131ce6"
      },
      "execution_count": null,
      "outputs": [
        {
          "output_type": "stream",
          "name": "stdout",
          "text": [
            "|_\u001b[6;30;43mE\u001b[0m_________|\n",
            "|__\u001b[6;30;43mE\u001b[0m________|\n",
            "|___\u001b[6;30;43mE\u001b[0m_______|\n",
            "|____\u001b[6;30;43mE\u001b[0m______|\n",
            "|_____\u001b[6;30;43mE\u001b[0m_____|\n",
            "|______\u001b[6;30;43mE\u001b[0m____|\n",
            "|_______\u001b[6;30;43mE\u001b[0m___|\n",
            "|________\u001b[6;30;43mE\u001b[0m__|\n",
            "|_________\u001b[6;30;43mE\u001b[0m_|\n",
            "|\u001b[6;30;43m__________\u001b[0m♫\u001b[6;30;43m\u001b[0m|\n",
            "|\u001b[6;30;43m_________\u001b[0m♫\u001b[6;30;43m_\u001b[0m|\n",
            "|\u001b[6;30;43m________\u001b[0m♫\u001b[6;30;43m__\u001b[0m|\n",
            "|\u001b[6;30;43m_______\u001b[0m♪\u001b[6;30;43m___\u001b[0m|\n",
            "|\u001b[6;30;43m______\u001b[0m♪\u001b[6;30;43m____\u001b[0m|\n",
            "|\u001b[6;30;43m_____\u001b[0m♪\u001b[6;30;43m_____\u001b[0m|\n",
            "|\u001b[6;30;43m____\u001b[0m♫\u001b[6;30;43m______\u001b[0m|\n",
            "|\u001b[6;30;43m___\u001b[0m♪\u001b[6;30;43m_______\u001b[0m|\n",
            "|\u001b[6;30;43m__\u001b[0m♪\u001b[6;30;43m________\u001b[0m|\n",
            "|\u001b[6;30;43m_\u001b[0m♪\u001b[6;30;43m_________\u001b[0m|\n"
          ]
        }
      ]
    },
    {
      "cell_type": "markdown",
      "metadata": {
        "id": "234UmAAE3ggD"
      },
      "source": [
        "<br>\n",
        "\n",
        "####  Complete!\n",
        "+ When you have ~~completed~~ your two-sleepwalker simulation, be sure that you have at least one run held in the output of your cell(s)\n",
        "+ More than one run is ok, too\n",
        "+ Remember, once you've defined a function, you're able to run it in many cells afterwards...\n",
        "\n",
        "<br>\n",
        "\n",
        "Then, submit this to its Gradescope spot..."
      ]
    },
    {
      "cell_type": "markdown",
      "source": [
        "# <font color=\"DarkBlue\"><b>Task #7</b></font>: Reading and Response on _ChatGPT_\n",
        "\n",
        "Of course, we have to have a ChatGPT article!\n",
        "\n",
        "Happily, the NYTimes has written many of these 😀\n",
        "+ [NYTimes article](https://www.nytimes.com/2023/02/03/technology/chatgpt-openai-artificial-intelligence.html)\n",
        "+ [Local pdf in case the above link does not work](https://drive.google.com/file/d/1SUhVAcDPcC80FfMyKUSt6EmKHOo7eImf/view?usp=sharing)\n",
        "\n",
        "The article summarizes\n",
        "+ the surprising progress in _generative AI_\n",
        "+ including both text and images\n",
        "+ and looks ahead at what's coming...\n",
        "\n",
        "<br>\n",
        "\n",
        "When you've read the article, share a short paragraph that describes\n",
        "+ your thoughts on \"Should ChatGPT be called 'sentient'?\"  That is, is it \"thinking,\" in the way you use that word. Why or why not...\n",
        "+ or, your thoughts on the differences between ChatGPT's \"thinking\" and \"human thinking\": how would you describe those?\n",
        "+ or, share your thoughts on _which traditionally-human activity_ will ChatGPT have the largest influence on, over the next 2-3 years?\n",
        "\n",
        "<br>\n",
        "\n",
        "Also, **feel free to use ChatGPT** to write your response to these prompts above... If you do this, then:\n",
        "+ add your thoughts on how well ChatGPT was able to answer the prompt\n",
        "+ also, share whether you agree, disagree, or derive some other opinion with respect to ChatGPT's self-description!\n",
        "\n",
        "<br>\n",
        "\n",
        "It's an interesting era in which we live!"
      ],
      "metadata": {
        "id": "7pzngEXA4h8U"
      }
    },
    {
      "cell_type": "markdown",
      "source": [
        "### Feel free to use this cell for your thoughts\n",
        "\n",
        "... or ChatGPT's thoughts, and your thoughts about those!\n",
        "\n",
        "<br><br>\n",
        "### <font color=\"DodgerBlue\"> Mohammed Alqahtane\n",
        "<b> ChatGPT's response:</b>\n",
        "<br><br>\n",
        "ChatGPT should not be called \"sentient\" because it does not possess consciousness, self-awareness, or genuine understanding. While it can generate coherent and contextually relevant responses, these are based on patterns in the data it was trained on, not on independent thought or reasoning. It does not \"think\" in the way humans do; it processes input and generates output based on statistical probabilities, without any subjective experience or intentionality.\n",
        "<b>My thoughts:</b>\n",
        "<br><br>\n",
        "I used ChatGPT to help craft this response, and it did a good job of articulating the distinction between human thought and AI processing. It accurately described its own limitations, emphasizing that it lacks consciousness and self-awareness. I agree with this self-description, as it aligns with my understanding of how large language models operate. While ChatGPT is impressive in its ability to simulate conversation, it is fundamentally a tool for generating text based on data, not a sentient being capable of true thought or understanding.\n",
        "<br><br>\n",
        "### <font color=\"DodgGreen\"> IST341_Participant_5 Alasmari\n",
        "<b> ChatGPT's response:</b>\n",
        "<br><br>\n",
        "Over the next 2-3 years, ChatGPT is likely to have the largest influence on education and content creation. In education, it can serve as a personalized tutor, helping students with explanations, homework, and even generating study materials. It could also assist teachers by automating administrative tasks and creating lesson plans. In content creation, ChatGPT can streamline the process of writing articles, generating ideas, and even drafting scripts or marketing copy, making it a valuable tool for writers, marketers, and media professionals. I utilized ChatGPT to assist in drafting this response, and it effectively highlighted education and content creation as key areas likely to be influenced by AI. It offered clear explanations for why these fields are particularly vulnerable to AI-driven changes, focusing on improvements in efficiency and personalization. I agree with this analysis, as both areas heavily depend on language-based tasks, which ChatGPT handles well. However, I would also include customer service and software development as sectors poised for significant transformation, given ChatGPT's ability to automate responses and aid in coding tasks.\n",
        "<br><br>\n",
        "<b>My thoughts:</b>\n",
        "\n",
        "Concerning ChatGPT's self-description, it correctly characterized itself as a tool that generates text based on patterns in data, not as a sentient entity. I agree with this portrayal, as it matches my understanding of its capabilities and limitations. While ChatGPT is highly useful, it’s essential to remember that it lacks true understanding or consciousness, and its outputs should always be evaluated critically.\n",
        "\n",
        "\n",
        "<br><br>"
      ],
      "metadata": {
        "id": "dtcBswtz6M7y"
      }
    },
    {
      "cell_type": "markdown",
      "source": [
        "# Submitting...\n",
        "\n",
        "Be sure to submit the url of _your_ copy -- with the challenges, questions, and programs composed --\n",
        "+ to Canvas in the appropriate spot\n",
        "+ by the appropriate Frisay evening (any time)\n",
        "+ shared with me (ZD)  ``zdodds@gmail.com``\n",
        "\n",
        "Remember that there is lots of tutoring support, as well as office-hour support available...  \n",
        "\n",
        "<br>\n",
        "\n",
        "\n",
        "As a reminder, the programming parts of IST341 match the spirit of the course, in seeking, among other things:\n",
        "+ creativity/novelty\n",
        "+ personalization/individual context\n",
        "+ exploration and understanding (does it run?)"
      ],
      "metadata": {
        "id": "rNHGo2zHWUuo"
      }
    }
  ],
  "metadata": {
    "colab": {
      "provenance": []
    },
    "kernelspec": {
      "display_name": "Python 3",
      "name": "python3"
    },
    "language_info": {
      "name": "python"
    }
  },
  "nbformat": 4,
  "nbformat_minor": 0
}