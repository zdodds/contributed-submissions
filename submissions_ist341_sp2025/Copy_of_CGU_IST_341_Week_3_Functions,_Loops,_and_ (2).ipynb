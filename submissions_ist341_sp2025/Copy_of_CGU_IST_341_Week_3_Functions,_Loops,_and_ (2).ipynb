{
  "cells": [
    {
      "cell_type": "markdown",
      "source": [
        "# Welcome back, IST 341! IST341_Participant_8\n",
        "\n",
        "### _Assignment 3 Notebook: Functions, Loops, and Monte Carlo!_\n",
        "\n",
        "This week is functions first -- and all the rest.\n",
        "\n",
        "Featuring:\n",
        "+ A few self-similar function applications\n",
        "+ An introduction to _looping_ functions\n",
        "+ Monte Carlo Applications! The \"birthday room\" and \"sleepwalker\" (random walks)\n",
        "+ A reading and response on ChatGPT, naturally\n",
        "  + Feel free to ChatGPT it ...\n",
        "  + ... in which case, respond to its response!"
      ],
      "metadata": {
        "id": "UrkiOTiDEjwp"
      }
    },
    {
      "cell_type": "markdown",
      "source": [
        "### <font color=\"DodgerBlue\"><b>Make your own copy of this notebook (as in each week)</b></font>\n",
        "\n",
        "**Submitting** -- When you're ready to submit, be sure to\n",
        "+ **share** the notebook with the <font color=\"darkblue\">instructor</font> (_hi!_):\n",
        "   + `zdodds@gmail.com`\n",
        "+ and also **submit** the url to your notebook at the appropriate spot on Canvas\n"
      ],
      "metadata": {
        "id": "M7dzL4m4fPYf"
      }
    },
    {
      "cell_type": "markdown",
      "source": [
        "# <b>Leading example</b>:  ``i2I_once``\n",
        "\n",
        "The alien is seeking a capital ``'I'``!\n",
        "\n",
        "The function ``i2I_once(s)`` takes in a string ``s``\n",
        "From there,\n",
        "+ if ``s`` is the single character ``'i'``, the function returns a capital ``'I'``\n",
        "+ otherwise, the function returns the original input, ``s``\n",
        "\n",
        "Try it!\n",
        "\n",
        "<b>Shortcut</b>: <tt>control-/</tt> comments and uncomments..."
      ],
      "metadata": {
        "id": "9BqFJ1etLRzR"
      }
    },
    {
      "cell_type": "code",
      "source": [
        "# single-character substitution:\n",
        "\n",
        "def i2I_once(s):\n",
        "  \"\"\" i2I_once changes an input 'i' to an output 'I'\n",
        "      all other inputs remain the same\n",
        "  \"\"\"\n",
        "  if s == 'i':\n",
        "    return 'I'\n",
        "  else:\n",
        "    return s\n",
        "\n",
        "# tests are in the next cell..."
      ],
      "metadata": {
        "id": "1krVLOH0HQsC"
      },
      "execution_count": null,
      "outputs": []
    },
    {
      "cell_type": "code",
      "source": [
        "# Tests to try for i2I_once  (Try control-/ to uncomment them!)\n",
        "\n",
        "print(\"i2I_once('i') should be 'I' <->\", i2I_once('i'))\n",
        "print(\"i2I_once('j') should be 'j' <->\", i2I_once('j'))\n",
        "print()\n",
        "\n",
        "print(\"i2I_once('alien') should be 'alien' <->\", i2I_once('alien'))\n",
        "print(\"i2I_once('icicle') should be 'icicle' <->\", i2I_once('icicle'))"
      ],
      "metadata": {
        "id": "Y421urjHHTDd",
        "colab": {
          "base_uri": "https://localhost:8080/"
        },
        "outputId": "48264d99-00ef-4880-d45e-f6e9a2eed1aa"
      },
      "execution_count": null,
      "outputs": [
        {
          "output_type": "stream",
          "name": "stdout",
          "text": [
            "i2I_once('i') should be 'I' <-> I\n",
            "i2I_once('j') should be 'j' <-> j\n",
            "\n",
            "i2I_once('alien') should be 'alien' <-> alien\n",
            "i2I_once('icicle') should be 'icicle' <-> icicle\n"
          ]
        }
      ]
    },
    {
      "cell_type": "markdown",
      "source": [
        "## <b>The problem</b>\n",
        "\n",
        "The \"problem\" is that ``i2I_once`` only works on single-character strings. But... <br> **we'd like it to work on <u>every</u> character in a string!**\n",
        "\n",
        "<br>\n",
        "\n",
        "## <b>The solution!</b>\n",
        "\n",
        "We create a second function, ``i2I_all(s)`` which\n",
        "+ calls ``i2I_once`` on the ***first*** character, ``s[0]``\n",
        "+ then, calls ``i2I_all`` on the ***rest***, ``s[1:]``\n",
        "\n",
        "<b>Important!</b> There needs to be a way to stop!\n",
        "+ The function checks if the input ``s`` has no characters...\n",
        "+ in that case, there is nothing to substitute, and the empty string ``''`` is returned\n",
        "\n",
        "Try it!\n",
        "\n"
      ],
      "metadata": {
        "id": "S3fIcroiHwp1"
      }
    },
    {
      "cell_type": "code",
      "source": [
        "# multiple-character substitution\n",
        "\n",
        "def i2I_all(s):\n",
        "  \"\"\" changes i to I for all characters in the input, s \"\"\"\n",
        "  if s == '':       # EMPTY case!\n",
        "    return ''\n",
        "  else:\n",
        "    return i2I_once(s[0]) + i2I_all(s[1:])  # FIRST and REST\n",
        "\n",
        "# tests are in the next cell..."
      ],
      "metadata": {
        "id": "BdvSdeIXHUHB"
      },
      "execution_count": null,
      "outputs": []
    },
    {
      "cell_type": "code",
      "source": [
        "# Tests to try for i2I_all\n",
        "\n",
        "print(\"i2I_all('alien') should be 'alIen' <->\", i2I_all('alien'))\n",
        "print(\"i2I_all('aliiien') should be 'alIIIen' <->\", i2I_all('aliiien'))\n",
        "\n",
        "print(\"i2I_all('icicle') should be 'IcIcle' <->\", i2I_all('icicle'))\n",
        "print(\"i2I_all('No eyes to see here') should be 'No eyes to see here' <->\", i2I_all('No eyes to see here'))"
      ],
      "metadata": {
        "id": "lX1tlDNbHVq-",
        "colab": {
          "base_uri": "https://localhost:8080/"
        },
        "outputId": "adcb79c2-a9f3-4b8a-d231-c05545cc6432"
      },
      "execution_count": null,
      "outputs": [
        {
          "output_type": "stream",
          "name": "stdout",
          "text": [
            "i2I_all('alien') should be 'alIen' <-> alIen\n",
            "i2I_all('aliiien') should be 'alIIIen' <-> alIIIen\n",
            "i2I_all('icicle') should be 'IcIcle' <-> IcIcle\n",
            "i2I_all('No eyes to see here') should be 'No eyes to see here' <-> No eyes to see here\n"
          ]
        }
      ]
    },
    {
      "cell_type": "markdown",
      "source": [
        "## <b>An <i>alternative</i> solution...</b>\n",
        "\n",
        "The above solution uses only conditionals (`if` and `else`) and function-calls. Because the function calls _itself_, it's called **recursive** .\n",
        "\n",
        "<br>\n",
        "\n",
        "An alternative approach -- and one that, to be honest, is more often used in practice, uses a **loop**.  Loops express _repetition_. It's a bit glib, but in one sense computers are really just machines for running loops... <font size=\"-2\">That said, the loops are almost always inside functions!</font>  \n",
        "\n",
        "## <b>The <i>Loop</i> solution!</b>\n",
        "\n",
        "We create a second solution, ``i2I_all_loop(s)`` which\n",
        "+ loops over each character, giving each one the name `c` - and then\n",
        "+ calls ``i2I_once`` on ***each*** of those characters, `c`\n",
        "+ and, meanwhile, adds up all of the transformed characters\n",
        "+ In the end, it returns the final **result**.\n",
        "\n",
        "Try it!"
      ],
      "metadata": {
        "id": "BSsaKb79M-pZ"
      }
    },
    {
      "cell_type": "code",
      "source": [
        "# multiple-character substitution\n",
        "\n",
        "def i2I_all_loop(s):\n",
        "  \"\"\" changes i to I for all characters in the input, s \"\"\"\n",
        "  result = ''        # the result starts as the EMPTY string!\n",
        "\n",
        "  for c in s:        # c is the name we are giving to EACH element in s (that is, each character in s)\n",
        "    result = result + i2I_once(c)   # each time, we add the new transformed output to the end of result\n",
        "    # print(\"result is\", result)    # uncomment this to see the process, in action!\n",
        "\n",
        "  return result      # at the end, we return the final, completely-created result string!\n",
        "\n",
        "# tests are in the next cell..."
      ],
      "metadata": {
        "id": "Zar7ZreiOGAl"
      },
      "execution_count": null,
      "outputs": []
    },
    {
      "cell_type": "code",
      "source": [
        "# Tests to try for i2I_all_loop\n",
        "\n",
        "print(\"i2I_all_loop('alien') should be 'alIen' <->\", i2I_all_loop('alien'))\n",
        "print(\"i2I_all_loop('aliiien') should be 'alIIIen' <->\", i2I_all_loop('aliiien'))\n",
        "print()\n",
        "\n",
        "print(\"i2I_all_loop('icicle') should be 'IcIcle' <->\", i2I_all_loop('icicle'))\n",
        "print(\"i2I_all_loop('No eyes to see here') should be 'No eyes to see here' <->\", i2I_all_loop('No eyes to see here'))"
      ],
      "metadata": {
        "id": "8AUnOPghPEPJ",
        "colab": {
          "base_uri": "https://localhost:8080/"
        },
        "outputId": "a11352b8-880d-498d-91bb-50f2de11659b"
      },
      "execution_count": null,
      "outputs": [
        {
          "output_type": "stream",
          "name": "stdout",
          "text": [
            "i2I_all_loop('alien') should be 'alIen' <-> alIen\n",
            "i2I_all_loop('aliiien') should be 'alIIIen' <-> alIIIen\n",
            "\n",
            "i2I_all_loop('icicle') should be 'IcIcle' <-> IcIcle\n",
            "i2I_all_loop('No eyes to see here') should be 'No eyes to see here' <-> No eyes to see here\n"
          ]
        }
      ]
    },
    {
      "cell_type": "markdown",
      "source": [
        "### Recursion expresses \"the future\"  (Wow!)\n",
        "\n",
        "In a sense, recursion's power is its ability to express <i>... and all the future stuff...</i>  \n",
        "\n",
        "\"Knowing\" or, at least, _calling_ the future is quite a feat!\n",
        "\n",
        "As an example, here is a number-guessing game,\n",
        "+ where it's the _computer_ that has to do the guessing:"
      ],
      "metadata": {
        "id": "KDcoGajZ4Hed"
      }
    },
    {
      "cell_type": "code",
      "source": [
        "#\n",
        "# Example of recursion-as-future:\n",
        "#\n",
        "\n",
        "from random import *\n",
        "\n",
        "def guess( hidden ):\n",
        "    \"\"\"\n",
        "        have the computer guess numbers until it gets the \"hidden\" value\n",
        "        return the number of guesses\n",
        "    \"\"\"\n",
        "    this_guess = choice( range(0,100) )  # 0 to 99, inclusive\n",
        "\n",
        "    if this_guess == hidden:\n",
        "        print(\"I guessed it!\")\n",
        "        return 1                         # it only took one guess!\n",
        "\n",
        "    else:\n",
        "        return 1 + guess( hidden )  # 1 for this guess, PLUS all future guesses!\n",
        "\n",
        "# test our function!\n",
        "guess(42)"
      ],
      "metadata": {
        "colab": {
          "base_uri": "https://localhost:8080/"
        },
        "id": "uB7xNCEW4gR9",
        "outputId": "2839d467-3825-4fab-d4a8-e26b0488a888"
      },
      "execution_count": null,
      "outputs": [
        {
          "output_type": "stream",
          "name": "stdout",
          "text": [
            "I guessed it!\n"
          ]
        },
        {
          "output_type": "execute_result",
          "data": {
            "text/plain": [
              "26"
            ]
          },
          "metadata": {},
          "execution_count": 15
        }
      ]
    },
    {
      "cell_type": "markdown",
      "source": [
        "## Loops or Recursion: _Your choice_ ...\n",
        "\n",
        "For these next-few functions, feel free to use loops or recursion.\n",
        "\n",
        "_Suggestion_:  &nbsp; Copy-and-edit the solutions above. Adapt them to the new problem at hand!\n",
        "\n",
        "_Disclaimer_: &nbsp; This is how ***all*** software is created in professional practice: adapting old software that had been solving similar problems!\n",
        "\n",
        "<br>\n",
        "\n",
        "<hr>\n",
        "\n",
        "<br>"
      ],
      "metadata": {
        "id": "pA1aLiC6OGz0"
      }
    },
    {
      "cell_type": "markdown",
      "source": [
        "### <font color=\"darkblue\"><b>Task #1</b></font>: ``spongebobbify_each(s)``\n",
        "\n",
        "The ``i2I_all`` and `i2I_all_loop` and ``i2I_once`` patterns are very powerful -- and very general. Even universal!\n",
        "\n",
        "For <b>task #1</b>, the goal is to write ``spongebobbify_each(s)`` whose goal is to return a randomly-capitalized version of the input string ``s``. For example,\n",
        "\n",
        "``spongebobbify_all('where's gary?')`` might return ``WhERe's gARy?``\n",
        "+ or, it might return ``wHEre'S GArY?``\n",
        "\n",
        "First, we share Python's built-in upper-case and lower-case functions:"
      ],
      "metadata": {
        "id": "E3dQ1H0xLjg_"
      }
    },
    {
      "cell_type": "code",
      "source": [
        "s = 'shout!'\n",
        "print(\"s is\", s)\n",
        "print(\"s.upper() is\", s.upper())"
      ],
      "metadata": {
        "id": "Vw6cf77XOHGi",
        "outputId": "a88d57d7-4340-4471-9b29-d423fcff16ef",
        "colab": {
          "base_uri": "https://localhost:8080/"
        }
      },
      "execution_count": null,
      "outputs": [
        {
          "output_type": "stream",
          "name": "stdout",
          "text": [
            "s is shout!\n",
            "s.upper() is SHOUT!\n"
          ]
        }
      ]
    },
    {
      "cell_type": "code",
      "source": [
        "s = 'WHISPER...'\n",
        "print(\"s is\", s)\n",
        "print(\"s.lower() is\", s.lower())"
      ],
      "metadata": {
        "id": "UWJ2vrgyOUC0",
        "outputId": "95168939-1b6d-400c-c4ca-9a678ef9300f",
        "colab": {
          "base_uri": "https://localhost:8080/"
        }
      },
      "execution_count": null,
      "outputs": [
        {
          "output_type": "stream",
          "name": "stdout",
          "text": [
            "s is WHISPER...\n",
            "s.lower() is whisper...\n"
          ]
        }
      ]
    },
    {
      "cell_type": "markdown",
      "source": [
        "Notice that\n",
        "+ ``s.upper()`` returns a fully upper-cased version of ``s``\n",
        "+ ``s.lower()`` returns a fully lower-cased version of ``s``\n",
        "+ in both cases, non-letters are left alone..."
      ],
      "metadata": {
        "id": "Ja9-9JfLOiFn"
      }
    },
    {
      "cell_type": "markdown",
      "source": [
        "### We provide the ``once`` ...\n",
        "\n",
        "We provide the one-character version, ``spongebobbify_once(s)``\n",
        "+ Notice that it uses the ``random.choice`` function\n",
        "+ It was the same one we used in rock-paper-scissors\n",
        "\n",
        "Try it out:"
      ],
      "metadata": {
        "id": "R6i_1gFfN_7D"
      }
    },
    {
      "cell_type": "code",
      "source": [
        "# We provide the one-character version, in this case:\n",
        "import random                  #  get the random library\n",
        "\n",
        "def spongebobbify_once(s):\n",
        "  \"\"\" returns the input, randomly \"upper-cased\" or \"lower-cased\" \"\"\"\n",
        "  result = random.choice( [s.upper(), s.lower()] )   # choose one at random\n",
        "  return result\n",
        "\n",
        "# Tests in the next cell..."
      ],
      "metadata": {
        "id": "LiIQoH8hHXP-"
      },
      "execution_count": null,
      "outputs": []
    },
    {
      "cell_type": "code",
      "source": [
        "# Tests to try for spongebobbify_once\n",
        "# There are not \"right\" answers, so we just test them:\n",
        "\n",
        "print(spongebobbify_once('F is for friends who do stuff together!'))\n",
        "print(spongebobbify_once('I knew I shouldn\\'t have gotten out of bed today.'))\n",
        "print()\n",
        "\n",
        "# but we want to use it on single letters!\n",
        "print(spongebobbify_once('a'))\n",
        "print(spongebobbify_once('b'))\n",
        "print(spongebobbify_once('c'))\n",
        "print(spongebobbify_once('d'))\n",
        "print(spongebobbify_once('e'))"
      ],
      "metadata": {
        "id": "uYfr7ERRWaev",
        "colab": {
          "base_uri": "https://localhost:8080/"
        },
        "outputId": "bef1e957-7349-4680-d525-86ed0e951587"
      },
      "execution_count": null,
      "outputs": [
        {
          "output_type": "stream",
          "name": "stdout",
          "text": [
            "f is for friends who do stuff together!\n",
            "i knew i shouldn't have gotten out of bed today.\n",
            "\n",
            "A\n",
            "b\n",
            "c\n",
            "D\n",
            "e\n"
          ]
        }
      ]
    },
    {
      "cell_type": "markdown",
      "source": [
        "## Now, ``spongebobify_each(s)``\n",
        "\n",
        "<b>Your task</b> is to write ``spongebobify_each(s)``\n",
        "\n",
        "Use the `i2I_all(s)` OR `i2I_all_loop(s)` as guidance and as a template/example. <br>\n",
        "Then, adapt from there:\n",
        "+ How much can be re-used?\n",
        "+ How much works as-is?\n",
        "+ Experiment!\n",
        "\n",
        "It's a remarkably versatile approach!\n",
        "\n",
        "Try our ~~tests~~ quotes -- and add three tests/quotes of your own:\n"
      ],
      "metadata": {
        "id": "nBFQKUs9YY1K"
      }
    },
    {
      "cell_type": "code",
      "source": [
        "import random\n",
        "def spongebobbify_all(s):\n",
        "  result = random.choice( [s.upper(), s.lower()] )   # choose one at random\n",
        "  return result\n",
        "def i2I_all_loop(x):\n",
        "\n",
        "  result = ''        # the result starts as the EMPTY string!\n",
        "\n",
        "  for c in x:        # c is the name we are giving to EACH element in s (that is, each character in s)\n",
        "    result = result + i2I_once(c)\n",
        "  return result"
      ],
      "metadata": {
        "id": "fGGZ9ApSZEW1"
      },
      "execution_count": null,
      "outputs": []
    },
    {
      "cell_type": "code",
      "source": [
        "# Tests to try for spongebobbify_once\n",
        "# There are not \"right\" answers, so we just test them:\n",
        "\n",
        "print(spongebobbify_all('F is for friends who do stuff together!'))\n",
        "print(spongebobbify_all('I knew I shouldn\\'t have gotten out of bed today.'))\n",
        "print(spongebobbify_all('The inner machinations of my mind are an enigma. - Patrick'))\n",
        "print(spongebobbify_all('HeLL0 W0rld!'))\n",
        "print(spongebobbify_all('To be or no to be - IST341_Participant_8!'))\n",
        "print(spongebobbify_all('How much wood would a woodchuck'), end=\" \")\n",
        "print(i2I_all_loop('chuck if he couldn\\'t chuck any wood!'))\n",
        "\n",
        "print()\n",
        "\n",
        "# but we want to use it on single letters!\n",
        "print(spongebobbify_all('a'))\n",
        "print(spongebobbify_all('b'))\n",
        "print(spongebobbify_all('c'))\n",
        "\n",
        "# Your tests here:"
      ],
      "metadata": {
        "id": "geZNGG45ZMlJ",
        "colab": {
          "base_uri": "https://localhost:8080/"
        },
        "outputId": "9055a746-896b-40bf-d698-b0e8113aeff1"
      },
      "execution_count": null,
      "outputs": [
        {
          "output_type": "stream",
          "name": "stdout",
          "text": [
            "f is for friends who do stuff together!\n",
            "I KNEW I SHOULDN'T HAVE GOTTEN OUT OF BED TODAY.\n",
            "the inner machinations of my mind are an enigma. - patrick\n",
            "HELL0 W0RLD!\n",
            "TO BE OR NO TO BE - IST341_Participant_8!\n",
            "HOW MUCH WOOD WOULD A WOODCHUCK chuck If he couldn't chuck any wood!\n",
            "\n",
            "A\n",
            "b\n",
            "C\n"
          ]
        }
      ]
    },
    {
      "cell_type": "markdown",
      "source": [
        "### <font color=\"darkblue\"><b>Task #2</b></font>: ``encode_each(s)`` and ``decode_each(s)``\n",
        "\n",
        "also ``encode_once(s)`` and ``decode_once(s)``\n",
        "\n",
        "<br>\n",
        "\n",
        "_Any_ substitution is possible with our key idea:\n",
        "+ replace the **first** element: the ``once``\n",
        "+ continue the process with the **rest**: another ``all``\n",
        "+ be sure to **stop** (``return ''``) when no input remains!\n",
        "\n",
        "For <b>task #2</b>, we invite you to create your own ``encode`` and ``decode`` functions:\n",
        "\n",
        "<br>\n",
        "\n",
        "Your encode (``encode_once`` and ``encode_all``) should\n",
        "+ replace at least ten letters with other characters\n",
        "  + your choice - other letters, punctuation, emojis ``\"☕⚽ 🦔\"`` or some other one-to-one substitution\n",
        "  + totally ok to substitute more than ten: less readable\n",
        "  + it can't be random, because it needs to be reversible!\n",
        "  + use the loop approach or the recursion approach -- up to you! (Both work...)\n",
        "\n",
        "<br>\n",
        "\n",
        "Your decode (``decode_once`` and ``decode_each``) should\n",
        "+ reverse the effects of your encode functions\n",
        "\n",
        "<br>\n",
        "\n",
        "Then, run our tests -- and add three tests of your own\n",
        "+ let's say at least a sentence, or so, in size..."
      ],
      "metadata": {
        "id": "PTNNYYC3TBrA"
      }
    },
    {
      "cell_type": "code",
      "source": [
        "substitutions = {\n",
        "    'a': '@', 'b': '8', 'c': '1', 'd': ']', 'e': '3',\n",
        "    'f': '#', 'g': '9', 'h': '4', 'i': '!', 'j': ';',\n",
        "}\n",
        "\n",
        "reverse_substitutions = {v: k for k, v in substitutions.items()}\n",
        "\n",
        "def encode_once(s):\n",
        "    \"\"\"Encodes a string by replacing defined characters once.\"\"\"\n",
        "    return ''.join(substitutions.get(char, char) for char in s)\n",
        "\n",
        "def decode_once(s):\n",
        "    \"\"\"Decodes a string by reversing the substitution.\"\"\"\n",
        "    decoded = []\n",
        "    i = 0\n",
        "    while i < len(s):\n",
        "        if s[i:i+2] in reverse_substitutions:  # Check for multi-character substitutions\n",
        "            decoded.append(reverse_substitutions[s[i:i+2]])\n",
        "            i += 2\n",
        "        else:\n",
        "            decoded.append(reverse_substitutions.get(s[i], s[i]))\n",
        "            i += 1\n",
        "    return ''.join(decoded)\n",
        "\n",
        "def encode_each(s):\n",
        "    \"\"\"Encodes each character in the string recursively.\"\"\"\n",
        "    if not s:\n",
        "        return ''\n",
        "    return encode_once(s[0]) + encode_each(s[1:])\n",
        "\n",
        "def decode_each(s):\n",
        "    \"\"\"Decodes each character in the string recursively.\"\"\"\n",
        "    if not s:\n",
        "        return ''\n",
        "    return decode_once(s[0]) + decode_each(s[1:])\n",
        "\n",
        "def encode_all(text):\n",
        "    \"\"\"Encodes an entire text string.\"\"\"\n",
        "    return encode_each(text)\n",
        "\n",
        "def decode_all(text):\n",
        "    \"\"\"Decodes an entire text string.\"\"\"\n",
        "    return decode_each(text)\n",
        "\n",
        "\n",
        "\n",
        "# Our tests are below. Then, add three tests of your own:"
      ],
      "metadata": {
        "id": "Ofu844mMVsjg"
      },
      "execution_count": null,
      "outputs": []
    },
    {
      "cell_type": "code",
      "source": [
        "CGU = \"\"\"Claremont Graduate University prepares individuals to be leaders\n",
        "for positive change in the world. Unique in its transdisciplinary approach,\n",
        "the university is dedicated to the creation, dissemination, and application\n",
        "of new knowledge and diverse perspectives through research, practice,\n",
        "creative works, and community engagement.\n",
        "\"\"\"\n",
        "\n",
        "E = encode_each(CGU)\n",
        "print(\"encode_all(CGU) is\", E)\n",
        "\n",
        "D = decode_each(E)\n",
        "print(\"decode_all(E) is\", D)  # should be the original!\n",
        "\n",
        "\n",
        "CMC = \"\"\"Claremont McKenna College's mission is to educate its students\n",
        "for thoughtful and productive lives and responsible leadership in\n",
        "business, government, and the professions, and to support faculty\n",
        "and student scholarship that contribute to intellectual vitality\n",
        "and the understanding of public policy issues.\"\"\"\n",
        "\n",
        "E = encode_each(CMC)\n",
        "print(\"encode_all(CMC) is\", E)\n",
        "\n",
        "D = decode_each(E)\n",
        "print(\"decode_all(E) is\", D)  # should be the original!\n",
        "\n",
        "print()\n",
        "SCR = \"\"\"The mission of Scripps College is to educate women to\n",
        "develop their intellects and talents through active participation\n",
        "in a community of scholars, so that as graduates they may contribute\n",
        "to society through public and private lives of leadership, service,\n",
        "integrity, and creativity..\"\"\"\n",
        "\n",
        "E = encode_each(SCR)\n",
        "print(\"encode_all(SCR) is\", E)\n",
        "\n",
        "print()\n",
        "D = decode_each(E)\n",
        "print(\"decode_all(E) is\", D)  # should be the original!\n",
        "\n"
      ],
      "metadata": {
        "id": "LzyRnUL6V1uw",
        "colab": {
          "base_uri": "https://localhost:8080/"
        },
        "outputId": "8dc81562-2ed1-4200-b133-4a39d5e340ba"
      },
      "execution_count": null,
      "outputs": [
        {
          "output_type": "stream",
          "name": "stdout",
          "text": [
            "encode_all(CGU) is Cl@r3mont Gr@]u@t3 Un!v3rs!ty pr3p@r3s !n]!v!]u@ls to 83 l3@]3rs\n",
            "#or pos!t!v3 14@n93 !n t43 worl]. Un!qu3 !n !ts tr@ns]!s1!pl!n@ry @ppro@14,\n",
            "t43 un!v3rs!ty !s ]3]!1@t3] to t43 1r3@t!on, ]!ss3m!n@t!on, @n] @ppl!1@t!on\n",
            "o# n3w knowl3]93 @n] ]!v3rs3 p3rsp31t!v3s t4rou94 r3s3@r14, pr@1t!13,\n",
            "1r3@t!v3 works, @n] 1ommun!ty 3n9@93m3nt.\n",
            "\n",
            "decode_all(E) is Claremont Graduate University prepares individuals to be leaders\n",
            "for positive change in the world. Unique in its transdisciplinary approach,\n",
            "the university is dedicated to the creation, dissemination, and application\n",
            "of new knowledge and diverse perspectives through research, practice,\n",
            "creative works, and community engagement.\n",
            "\n",
            "encode_all(CMC) is Cl@r3mont M1K3nn@ Coll393's m!ss!on !s to 3]u1@t3 !ts stu]3nts\n",
            "#or t4ou94t#ul @n] pro]u1t!v3 l!v3s @n] r3spons!8l3 l3@]3rs4!p !n\n",
            "8us!n3ss, 9ov3rnm3nt, @n] t43 pro#3ss!ons, @n] to support #@1ulty\n",
            "@n] stu]3nt s14ol@rs4!p t4@t 1ontr!8ut3 to !nt3ll31tu@l v!t@l!ty\n",
            "@n] t43 un]3rst@n]!n9 o# pu8l!1 pol!1y !ssu3s.\n",
            "decode_all(E) is Claremont McKenna College's mission is to educate its students\n",
            "for thoughtful and productive lives and responsible leadership in\n",
            "business, government, and the professions, and to support faculty\n",
            "and student scholarship that contribute to intellectual vitality\n",
            "and the understanding of public policy issues.\n",
            "\n",
            "encode_all(SCR) is T43 m!ss!on o# S1r!pps Coll393 !s to 3]u1@t3 wom3n to\n",
            "]3v3lop t43!r !nt3ll31ts @n] t@l3nts t4rou94 @1t!v3 p@rt!1!p@t!on\n",
            "!n @ 1ommun!ty o# s14ol@rs, so t4@t @s 9r@]u@t3s t43y m@y 1ontr!8ut3\n",
            "to so1!3ty t4rou94 pu8l!1 @n] pr!v@t3 l!v3s o# l3@]3rs4!p, s3rv!13,\n",
            "!nt39r!ty, @n] 1r3@t!v!ty..\n",
            "\n",
            "decode_all(E) is The mission of Scripps College is to educate women to\n",
            "develop their intellects and talents through active participation\n",
            "in a community of scholars, so that as graduates they may contribute\n",
            "to society through public and private lives of leadership, service,\n",
            "integrity, and creativity..\n"
          ]
        }
      ]
    },
    {
      "cell_type": "code",
      "source": [
        "NG = \"\"\"Northrop Grumman's mission is to be at the forefront of technology and\n",
        "innovation, delivering superior capability in tandem with maximized cost\n",
        "efficiencies. The company is committed to advancing global security and human\n",
        "discovery in support of its customers’ missions around the world. Northrop\n",
        "Grumman's teams are exploring burgeoning research areas and creating revolutionary\n",
        "technology that will not only power the mission but also connect, advance and\n",
        "protect the U.S. and its allies. The company solves the toughest problems in\n",
        "space, aeronautics, defense and cyberspace to meet the ever evolving needs of\n",
        "its customers worldwid\"\"\"\n",
        "\n",
        "N = encode_each(NG)\n",
        "print(\"encode_all(NG) is\", N)\n",
        "print()\n",
        "G = decode_each(N)\n",
        "print(\"decode_all(N) is\", G)  # should be the original!\n",
        "\n",
        "\n",
        "USA = \"\"\"To deploy, fight, and win our Nation’s wars by providing ready, prompt,\n",
        "and sustained land dominance by Army forces across the full spectrum of conflict\n",
        "as part of the Joint Force\"\"\"\n",
        "print()\n",
        "A = encode_each(USA)\n",
        "print(\"encode_all(USA) is\", A)\n",
        "print()\n",
        "S = decode_each(A)\n",
        "print(\"decode_all(A) is\", S)  # should be the original!\n",
        "\n",
        "\n",
        "USR = \"\"\"The Army Reserve's mission is to provide quick access to trained, equipped,\n",
        "and ready Soldiers and units, with the critical enabling capabilities needed to\n",
        "compete globally and win across the full range of military operations. The Army\n",
        "Reserve is a powerful and resilient force that is ready to deliver vital capabilities\n",
        "around the world and here at home. The Army Reserve provides combat-ready units and\n",
        "soldiers to the Army and the Joint Force across the full spectrum of conflict. The\n",
        "United States Special Operations Command (USSOCOM) Army Reserve Element provides\n",
        "MOS-qualified and deployable Army Reserve personnel to augment USSOCOM.\"\"\"\n",
        "print()\n",
        "U = encode_each(USR)\n",
        "print(\"encode_all(USR) is\", U)\n",
        "print()\n",
        "R = decode_each(U)\n",
        "print(\"decode_all(U) is\", R)  # should be the original!"
      ],
      "metadata": {
        "id": "sJ9Wcp1GeCgj",
        "colab": {
          "base_uri": "https://localhost:8080/"
        },
        "outputId": "a28dac5c-c722-449b-9290-a18fe159f5ce"
      },
      "execution_count": null,
      "outputs": [
        {
          "output_type": "stream",
          "name": "stdout",
          "text": [
            "encode_all(NG) is Nort4rop Grumm@n's m!ss!on !s to 83 @t t43 #or3#ront o# t314nolo9y @n] \n",
            "!nnov@t!on, ]3l!v3r!n9 sup3r!or 1@p@8!l!ty !n t@n]3m w!t4 m@x!m!z3] 1ost \n",
            "3##!1!3n1!3s. T43 1omp@ny !s 1omm!tt3] to @]v@n1!n9 9lo8@l s31ur!ty @n] 4um@n \n",
            "]!s1ov3ry !n support o# !ts 1ustom3rs’ m!ss!ons @roun] t43 worl]. Nort4rop \n",
            "Grumm@n's t3@ms @r3 3xplor!n9 8ur93on!n9 r3s3@r14 @r3@s @n] 1r3@t!n9 r3volut!on@ry \n",
            "t314nolo9y t4@t w!ll not only pow3r t43 m!ss!on 8ut @lso 1onn31t, @]v@n13 @n] \n",
            "prot31t t43 U.S. @n] !ts @ll!3s. T43 1omp@ny solv3s t43 tou943st pro8l3ms !n \n",
            "sp@13, @3ron@ut!1s, ]3#3ns3 @n] 1y83rsp@13 to m33t t43 3v3r 3volv!n9 n33]s o# \n",
            "!ts 1ustom3rs worl]w!]\n",
            "\n",
            "decode_all(N) is Northrop Grumman's mission is to be at the forefront of technology and \n",
            "innovation, delivering superior capability in tandem with maximized cost \n",
            "efficiencies. The company is committed to advancing global security and human \n",
            "discovery in support of its customers’ missions around the world. Northrop \n",
            "Grumman's teams are exploring burgeoning research areas and creating revolutionary \n",
            "technology that will not only power the mission but also connect, advance and \n",
            "protect the U.S. and its allies. The company solves the toughest problems in \n",
            "space, aeronautics, defense and cyberspace to meet the ever evolving needs of \n",
            "its customers worldwid\n",
            "\n",
            "encode_all(USA) is To ]3ploy, #!94t, @n] w!n our N@t!on’s w@rs 8y prov!]!n9 r3@]y, prompt, \n",
            "@n] sust@!n3] l@n] ]om!n@n13 8y Army #or13s @1ross t43 #ull sp31trum o# 1on#l!1t \n",
            "@s p@rt o# t43 Jo!nt For13\n",
            "\n",
            "decode_all(A) is To deploy, fight, and win our Nation’s wars by providing ready, prompt, \n",
            "and sustained land dominance by Army forces across the full spectrum of conflict \n",
            "as part of the Joint Force\n",
            "\n",
            "encode_all(USR) is T43 Army R3s3rv3's m!ss!on !s to prov!]3 qu!1k @113ss to tr@!n3], 3qu!pp3], \n",
            "@n] r3@]y Sol]!3rs @n] un!ts, w!t4 t43 1r!t!1@l 3n@8l!n9 1@p@8!l!t!3s n33]3] to \n",
            "1omp3t3 9lo8@lly @n] w!n @1ross t43 #ull r@n93 o# m!l!t@ry op3r@t!ons. T43 Army \n",
            "R3s3rv3 !s @ pow3r#ul @n] r3s!l!3nt #or13 t4@t !s r3@]y to ]3l!v3r v!t@l 1@p@8!l!t!3s \n",
            "@roun] t43 worl] @n] 43r3 @t 4om3. T43 Army R3s3rv3 prov!]3s 1om8@t-r3@]y un!ts @n] \n",
            "sol]!3rs to t43 Army @n] t43 Jo!nt For13 @1ross t43 #ull sp31trum o# 1on#l!1t. T43 \n",
            "Un!t3] St@t3s Sp31!@l Op3r@t!ons Comm@n] (USSOCOM) Army R3s3rv3 El3m3nt prov!]3s \n",
            "MOS-qu@l!#!3] @n] ]3ploy@8l3 Army R3s3rv3 p3rsonn3l to @u9m3nt USSOCOM.\n",
            "\n",
            "decode_all(U) is The Army Reserve's mission is to provide quick access to trained, equipped, \n",
            "and ready Soldiers and units, with the critical enabling capabilities needed to \n",
            "compete globally and win across the full range of military operations. The Army \n",
            "Reserve is a powerful and resilient force that is ready to deliver vital capabilities \n",
            "around the world and here at home. The Army Reserve provides combat-ready units and \n",
            "soldiers to the Army and the Joint Force across the full spectrum of conflict. The \n",
            "United States Special Operations Command (USSOCOM) Army Reserve Element provides \n",
            "MOS-qualified and deployable Army Reserve personnel to augment USSOCOM.\n"
          ]
        }
      ]
    },
    {
      "cell_type": "markdown",
      "source": [
        "### <font color=\"darkblue\"><b>Task #3: Counting!</b></font> &nbsp; ``vwl_once(s)`` and ``vwl_count(s)``\n",
        "\n",
        "<br>\n",
        "\n",
        "This technique handles _any_ substitution, even numeric ones!\n",
        "\n",
        "Next, our goal will be to ***count*** the number of vowels in an input string ``s``:\n",
        "+ we use ``vwl_once(s)`` to give a count of ``1`` to vowels\n",
        "+ and we give a count of ``0`` to everything that's not a vowel\n",
        "+ For now, we'll count ``aeiou`` as vowels, and their uppercase selves\n",
        "\n",
        "Then, **you** will write  ``vwl_count(s)`` to handle arbitrary-sized inputs!\n",
        "+ The first functions is written, as shown below.\n",
        "+ The second one is prepared, and your task is to complete it...\n",
        "+ It will be very much like previous functions!\n",
        "\n",
        "<br>\n",
        "\n",
        "Then, try it out -- analyze the \"vowel-content\" of the three mission statements above -- and test your own and a friend's prose-paragraphs:"
      ],
      "metadata": {
        "id": "yquk1xgWXz2z"
      }
    },
    {
      "cell_type": "code",
      "source": [
        "def vwl_once(s):\n",
        "  \"\"\" returns a score of 1 for single-character vowels aeiou\n",
        "      returns a score of 0 for everything else\n",
        "  \"\"\"\n",
        "  if len(s) != 1:    # not a single-character? score is 0\n",
        "    return 0\n",
        "  else:\n",
        "    s = s.lower()    # simplify by making s lower case\n",
        "    if s in 'aeiou':      # if s is in that string, it's a vowel: score is 1\n",
        "      return 1\n",
        "    else:                 # if not: score is 0\n",
        "      return 0\n",
        "\n",
        "\n",
        "def vwl_count(s):\n",
        "  \"\"\" returns the total \"vowel-score for an input string s\n",
        "      that is, we return the number of vowels in s\n",
        "  \"\"\"\n",
        "  result = 0\n",
        "  for c in s:\n",
        "    result = result + vwl_once(c)\n",
        "  return result\n",
        "\n",
        "\n",
        "\n",
        "# Tests and tests-to-write are in the next cells:"
      ],
      "metadata": {
        "id": "ffMaiI26eIZQ"
      },
      "execution_count": null,
      "outputs": []
    },
    {
      "cell_type": "code",
      "source": [
        "print(\"vwl_count('English usually has lots of vowels.') should be 10 <->\", vwl_count('English usually has lots of vowels.'))\n",
        "print(\"The CGU mission statement has this many vowels: (let's see!) <->\", vwl_count(CGU))"
      ],
      "metadata": {
        "id": "YCtNmfnZetpe",
        "colab": {
          "base_uri": "https://localhost:8080/"
        },
        "outputId": "eba4fd10-b76a-4d30-8c1e-8ad5099e17f3"
      },
      "execution_count": null,
      "outputs": [
        {
          "output_type": "stream",
          "name": "stdout",
          "text": [
            "vwl_count('English usually has lots of vowels.') should be 10 <-> 10\n",
            "The CGU mission statement has this many vowels: (let's see!) <-> 110\n"
          ]
        }
      ]
    },
    {
      "cell_type": "code",
      "source": [
        "# Part 1 task: determine which mission statement has the most vowels-per-character!\n",
        "#        Hint: count the vowels, then use len to determine vowels-per-character!\n",
        "#        Compare the three strings already defined above:   CGU,  CMC,  and SCR\n",
        "\n",
        "\n",
        "def ratio_vowels(text):\n",
        "  return vwl_count(text) / len(text)\n",
        "cmc_ratio = ratio_vowels(CMC)\n",
        "scr_ratio = ratio_vowels(SCR)\n",
        "cgu_ratio = ratio_vowels(CGU)\n",
        "\n",
        "print(\"The CGU mission statement has this many vowels per character: (let's see!) <->\", cgu_ratio)\n",
        "print(\"The CMC mission statement has this many vowels per character: (let's see!) <->\", cmc_ratio)\n",
        "print(\"The SCR mission statement has this many vowels per character: (let's see!) <->\", scr_ratio)\n",
        "ratios = [(\"CGU\", cgu_ratio,),(\"CMC\", cmc_ratio), (\"SCR\", scr_ratio)]\n",
        "winner = max(ratios, key=lambda x: x[1])\n",
        "print(\"And the Winner is...\", winner[0])"
      ],
      "metadata": {
        "id": "Vy2Q-bAdcIzB",
        "colab": {
          "base_uri": "https://localhost:8080/"
        },
        "outputId": "2d5b91f9-9cd0-48e0-ce73-46d96ccf1e0f"
      },
      "execution_count": null,
      "outputs": [
        {
          "output_type": "stream",
          "name": "stdout",
          "text": [
            "The CGU mission statement has this many vowels per character: (let's see!) <-> 0.3343465045592705\n",
            "The CMC mission statement has this many vowels per character: (let's see!) <-> 0.30392156862745096\n",
            "The SCR mission statement has this many vowels per character: (let's see!) <-> 0.3204225352112676\n",
            "And the Winner is... CGU\n"
          ]
        }
      ]
    },
    {
      "cell_type": "code",
      "source": [
        "#\n",
        "# Part 2 task: determine whose prose is more vowel-rich?\n",
        "# + find a paragraph of prose you've written\n",
        "# + find a paragraph a friend has written (or another one that you have!)\n",
        "#\n",
        "# Assign each to a variable:\n",
        "\n",
        "YOURS = \"\"\"  <paste your prose here\n",
        "it's ok to have multiple lines inside\n",
        "triple-quoted strings>\n",
        "\"\"\"\n",
        "\n",
        "THEIRS = \"\"\"  <paste their prose here\n",
        "again, ok to have multiple lines inside\n",
        "triple-quoted strings>\n",
        "\"\"\"\n",
        "yours_ratio = ratio_vowels(YOURS)\n",
        "theirs_ratio = ratio_vowels(THEIRS)\n",
        "\n",
        "print(\"YOURS ratio\", yours_ratio)\n",
        "print(\"THEIRS ratio\", theirs_ratio)\n",
        "\n",
        "if yours_ratio>theirs_ratio:\n",
        "  print(\"YOURS is more vowel-rich!\")\n",
        "elif theirs_ratio>yours_ratio:\n",
        "  print(\"THEIRS is more vowel-rich!\")\n",
        "else:\n",
        "  print(\"They are equally vowel-rich!\")"
      ],
      "metadata": {
        "id": "qNmOUfXrckDv",
        "colab": {
          "base_uri": "https://localhost:8080/"
        },
        "outputId": "f71bb8d6-df63-4897-c86c-e70533c13738"
      },
      "execution_count": null,
      "outputs": [
        {
          "output_type": "stream",
          "name": "stdout",
          "text": [
            "YOURS ratio 0.313953488372093\n",
            "THEIRS ratio 0.3258426966292135\n",
            "THEIRS is more vowel-rich!\n"
          ]
        }
      ]
    },
    {
      "cell_type": "markdown",
      "metadata": {
        "id": "keRyNeHE3gF4"
      },
      "source": [
        "<br>\n",
        "\n",
        "# Loops!\n",
        "\n",
        "in addition, this notebook combines last week's ideas (functions and slicing/indexing) with the most important time-saving capability of programming languages: <i>repetition</i>\n",
        "\n",
        "That is, we're diving into <i><b>loops</b></i>\n",
        "\n",
        "In addition, we explore more deeply a library we used in the rock-paper-scissors problem, namely the <b><tt>random</tt></b> library.\n",
        "\n",
        "Together, <i>randomness</i> and <i>loops</i> are a powerful combination. Later in this notebook, you will create a <i>Monte Carlo simulations</i> using randomness-within-loops.\n",
        "\n",
        "<hr>\n",
        "\n",
        "## Onward!\n",
        "\n",
        "<br>"
      ]
    },
    {
      "cell_type": "code",
      "execution_count": null,
      "metadata": {
        "id": "djYWrO0u3gGA"
      },
      "outputs": [],
      "source": [
        "\n",
        "# this imports the library named random\n",
        "\n",
        "import random\n",
        "\n",
        "# once it's imported, you are able to call random.choice(L) for any sequence L\n",
        "# try it:"
      ]
    },
    {
      "cell_type": "code",
      "execution_count": null,
      "metadata": {
        "id": "RPrqK2Sr3gGC",
        "colab": {
          "base_uri": "https://localhost:8080/"
        },
        "outputId": "17171414-b7a3-44f8-de85-f6ba2035798e"
      },
      "outputs": [
        {
          "output_type": "stream",
          "name": "stdout",
          "text": [
            "result is university\n"
          ]
        }
      ],
      "source": [
        "\n",
        "# Try out random.choice -- several times!\n",
        "result = random.choice( ['claremont', 'graduate', 'university'] )\n",
        "print(\"result is\", result)"
      ]
    },
    {
      "cell_type": "code",
      "execution_count": null,
      "metadata": {
        "id": "AReUp5wT3gGD",
        "colab": {
          "base_uri": "https://localhost:8080/"
        },
        "outputId": "c06cd267-94a3-47ca-d1b8-0a29b52ca7fa"
      },
      "outputs": [
        {
          "output_type": "stream",
          "name": "stdout",
          "text": [
            "result is claremont\n",
            "result is graduate\n",
            "result is claremont\n",
            "result is claremont\n",
            "result is graduate\n",
            "result is graduate\n",
            "result is graduate\n",
            "result is university\n",
            "result is graduate\n",
            "result is claremont\n"
          ]
        }
      ],
      "source": [
        "\n",
        "# let's see a loop do this 10 times!\n",
        "\n",
        "for i in range(10):                # loop 10 times\n",
        "    result = random.choice( ['claremont', 'graduate', 'university'] ) # choose\n",
        "    print(\"result is\", result)     # print"
      ]
    },
    {
      "cell_type": "code",
      "execution_count": null,
      "metadata": {
        "id": "8aAzqlsj3gGF"
      },
      "outputs": [],
      "source": [
        "\n",
        "#\n",
        "# you can also import a library can be imported by using this line:\n",
        "\n",
        "from random import *\n",
        "\n",
        "# when the above line is run, you are able to call choice(L) for any sequence L\n",
        "#\n",
        "# note that you won't need random.choice(L)\n",
        "# let's try it!"
      ]
    },
    {
      "cell_type": "code",
      "execution_count": null,
      "metadata": {
        "id": "SKvXsosu3gGG",
        "colab": {
          "base_uri": "https://localhost:8080/"
        },
        "outputId": "92ef0959-3753-495f-e742-6e7375f97991"
      },
      "outputs": [
        {
          "output_type": "stream",
          "name": "stdout",
          "text": [
            "result is scissors\n"
          ]
        }
      ],
      "source": [
        "\n",
        "result = choice( [\"rock\", \"paper\", \"scissors\"] )\n",
        "print(\"result is\", result)"
      ]
    },
    {
      "cell_type": "code",
      "execution_count": null,
      "metadata": {
        "id": "KMZMwPDR3gGH",
        "colab": {
          "base_uri": "https://localhost:8080/"
        },
        "outputId": "21d30087-084b-4fda-80a6-0fcf63e52a0d"
      },
      "outputs": [
        {
          "output_type": "stream",
          "name": "stdout",
          "text": [
            "[0, 1, 2, 3, 4, 5, 6, 7, 8, 9, 10, 11, 12, 13, 14, 15, 16, 17, 18, 19, 20, 21, 22, 23, 24, 25, 26, 27, 28, 29, 30, 31, 32, 33, 34, 35, 36, 37, 38, 39, 40, 41, 42, 43, 44, 45, 46, 47, 48, 49, 50, 51, 52, 53, 54, 55, 56, 57, 58, 59, 60, 61, 62, 63, 64, 65, 66, 67, 68, 69, 70, 71, 72, 73, 74, 75, 76, 77, 78, 79, 80, 81, 82, 83, 84, 85, 86, 87, 88, 89, 90, 91, 92, 93, 94, 95, 96, 97, 98, 99]\n"
          ]
        }
      ],
      "source": [
        "\n",
        "# Python can create lists of any integers you'd like...\n",
        "L = list(range(0,100))    # try different values; try omitting/changing the 0\n",
        "print(L)"
      ]
    },
    {
      "cell_type": "code",
      "execution_count": null,
      "metadata": {
        "id": "hjbvKcOx3gGI",
        "colab": {
          "base_uri": "https://localhost:8080/"
        },
        "outputId": "1abed46f-f1f7-4a2c-ac85-1c9aded74086"
      },
      "outputs": [
        {
          "output_type": "stream",
          "name": "stdout",
          "text": [
            "result is 97\n"
          ]
        }
      ],
      "source": [
        "\n",
        "# combining these, we can choose random integers from a list\n",
        "result = choice( range(0,100) )   # from 0 to 99\n",
        "print(\"result is\", result)"
      ]
    },
    {
      "cell_type": "code",
      "execution_count": null,
      "metadata": {
        "id": "-vct4ZWf3gGJ",
        "colab": {
          "base_uri": "https://localhost:8080/"
        },
        "outputId": "b63219bf-3523-4033-999d-504b31569458"
      },
      "outputs": [
        {
          "output_type": "stream",
          "name": "stdout",
          "text": [
            "result is 47\n",
            "result is 90\n",
            "result is 74\n",
            "result is 62\n",
            "result is 45\n",
            "result is 48\n",
            "result is 33\n",
            "result is 33\n",
            "result is 59\n",
            "result is 13\n"
          ]
        }
      ],
      "source": [
        "\n",
        "# let's run this 10 times!\n",
        "for i in range(0,10):\n",
        "    result = choice( range(0,100) )   # from 0 to 99\n",
        "    print(\"result is\", result)"
      ]
    },
    {
      "cell_type": "code",
      "execution_count": null,
      "metadata": {
        "id": "jqs9df3l3gGJ",
        "colab": {
          "base_uri": "https://localhost:8080/"
        },
        "outputId": "bd67553d-8ddb-45bd-e8f9-0489d23f9776"
      },
      "outputs": [
        {
          "output_type": "stream",
          "name": "stdout",
          "text": [
            "i is 0\n",
            "i is 1\n",
            "i is 2\n"
          ]
        }
      ],
      "source": [
        "\n",
        "# let's get more comfortable with loops...\n",
        "\n",
        "for i in [0,1,2]:     # Key: What variable is being defined and set?!\n",
        "    print(\"i is\", i)\n"
      ]
    },
    {
      "cell_type": "code",
      "execution_count": null,
      "metadata": {
        "id": "eb2C9OKS3gGJ",
        "colab": {
          "base_uri": "https://localhost:8080/"
        },
        "outputId": "0959a9eb-797a-435e-c637-cdba795618b4"
      },
      "outputs": [
        {
          "output_type": "stream",
          "name": "stdout",
          "text": [
            "i is 0\n",
            "i is 1\n",
            "i is 2\n"
          ]
        }
      ],
      "source": [
        "\n",
        "# Note that range(0,3) generates [0,1,2]\n",
        "\n",
        "for i in range(0,3):     # Key: What variable is being defined and set?!\n",
        "    print(\"i is\", i)\n",
        "\n",
        "# When would you _not_ want to use range for integers?"
      ]
    },
    {
      "cell_type": "code",
      "execution_count": null,
      "metadata": {
        "id": "H8qzyqaS3gGU",
        "colab": {
          "base_uri": "https://localhost:8080/"
        },
        "outputId": "9be678a5-cd03-4f38-e514-b05dc2d26f47"
      },
      "outputs": [
        {
          "output_type": "stream",
          "name": "stdout",
          "text": [
            "x is 2\n",
            "x is 15\n",
            "x is 2025\n"
          ]
        }
      ],
      "source": [
        "\n",
        "# Usually i is for counting, x is for other things (wise, not req.)\n",
        "\n",
        "for x in [2,15,2025]:     # Key: the loop variable\n",
        "    print(\"x is\", x)\n",
        "\n",
        "# When would you _not_ want to use range for integers?"
      ]
    },
    {
      "cell_type": "code",
      "execution_count": null,
      "metadata": {
        "id": "SCG79oyN3gGU",
        "colab": {
          "base_uri": "https://localhost:8080/"
        },
        "outputId": "3548eb9d-7346-41e5-8e50-bc812de8455e"
      },
      "outputs": [
        {
          "output_type": "stream",
          "name": "stdout",
          "text": [
            "Happy birthday!\n",
            "Happy birthday!\n",
            "Happy birthday!\n",
            "Happy birthday!\n",
            "Happy birthday!\n",
            "Happy birthday!\n",
            "Happy birthday!\n",
            "Happy birthday!\n",
            "Happy birthday!\n",
            "Happy birthday!\n",
            "Happy birthday!\n",
            "Happy birthday!\n",
            "Happy birthday!\n",
            "Happy birthday!\n",
            "Happy birthday!\n",
            "Happy birthday!\n",
            "Happy birthday!\n",
            "Happy birthday!\n",
            "Happy birthday!\n",
            "Happy birthday!\n",
            "Happy birthday!\n",
            "Happy birthday!\n",
            "Happy birthday!\n",
            "Happy birthday!\n",
            "Happy birthday!\n",
            "Happy birthday!\n",
            "Happy birthday!\n",
            "Happy birthday!\n",
            "Happy birthday!\n",
            "Happy birthday!\n",
            "Happy birthday!\n",
            "Happy birthday!\n",
            "Happy birthday!\n",
            "Happy birthday!\n",
            "Happy birthday!\n",
            "Happy birthday!\n",
            "Happy birthday!\n",
            "Happy birthday!\n",
            "Happy birthday!\n",
            "Happy birthday!\n",
            "Happy birthday!\n",
            "Happy birthday!\n"
          ]
        }
      ],
      "source": [
        "\n",
        "# How could we get this to print \"Happy birthday!\" 42 times?\n",
        "\n",
        "for i in range(0,42):\n",
        "    print(\"Happy birthday!\")\n"
      ]
    },
    {
      "cell_type": "markdown",
      "metadata": {
        "id": "7KFo8pX73gGV"
      },
      "source": [
        "<br>\n",
        "\n",
        "#### Functions often use loops... Watch out!\n",
        "+ <tt><b>return</b></tt> is <i>more powerful</i> than the loop\n",
        "+ <tt><b>return</b></tt> <i>always</i> wins!\n",
        "\n",
        "Take a look:"
      ]
    },
    {
      "cell_type": "code",
      "execution_count": null,
      "metadata": {
        "id": "hzE-We7i3gGV"
      },
      "outputs": [],
      "source": [
        "\n",
        "# return _after_ a loop:\n",
        "\n",
        "def funA():\n",
        "    for i in range(0,3):\n",
        "        print(\"i is\", i)\n",
        "    return\n",
        "\n",
        "# why does this not print anything?!??\n"
      ]
    },
    {
      "cell_type": "code",
      "execution_count": null,
      "metadata": {
        "id": "n4nsuJUZ3gGW"
      },
      "outputs": [],
      "source": [
        "\n",
        "# return _within_ a loop:\n",
        "\n",
        "def funB():\n",
        "    for i in range(0,3):\n",
        "       print(\"i is\", i)\n",
        "       return\n",
        "\n",
        "# What do we need here?  (Is this what you expect?!)\n"
      ]
    },
    {
      "cell_type": "code",
      "execution_count": null,
      "metadata": {
        "id": "KTm78DFX3gGW"
      },
      "outputs": [],
      "source": [
        "\n",
        "# let's add an if statement (a conditional)\n",
        "#              ... to test different indentations\n",
        "\n",
        "def funB1():\n",
        "    for i in range(1,6):\n",
        "        if i%2 == 0:\n",
        "            print(\"i is\", i)\n",
        "            return\n"
      ]
    },
    {
      "cell_type": "markdown",
      "metadata": {
        "id": "U1e4MYjc3gGW"
      },
      "source": [
        "<br>\n",
        "\n",
        "#### Accumulators\n",
        "+ a <i>very</i> common approach is to use a loop to <i>accumulate</i> a desired result\n",
        "+ the idea is to start the result at a \"nothing\" value, which is not always zero...\n",
        "+ then operate on it until it becomes the final result!\n",
        "\n",
        "#### factorial\n",
        "+ <pre>fac(5) == 1*2*3*4*5</pre>\n",
        "+ <pre>fac(N) == 1*2*3*4* ... *(N-2)*(N-1)*N</pre>\n",
        "\n",
        "#### addup\n",
        "+ <pre>addup(5) == 1+2+3+4+5</pre>\n",
        "+ <pre>addup(N) == 1+2+3+4+ ... +(N-2)+(N-1)+N</pre>\n",
        "\n",
        "<br>"
      ]
    },
    {
      "cell_type": "code",
      "execution_count": null,
      "metadata": {
        "id": "NZhaHVNV3gGY"
      },
      "outputs": [],
      "source": [
        "\n",
        "# an add-em-up function\n",
        "\n",
        "def addup(N):\n",
        "    \"\"\" adds from 1 through N (inclusive)\n",
        "    \"\"\"\n",
        "    result = 0\n",
        "\n",
        "    for x in range(1,N+1):\n",
        "        result = result + x\n",
        "\n",
        "    return result\n",
        "\n",
        "# addup(4) should be 0+1+2+3+4 == 10"
      ]
    },
    {
      "cell_type": "code",
      "execution_count": null,
      "metadata": {
        "id": "JscgqV1Q3gGY"
      },
      "outputs": [],
      "source": [
        "\n",
        "# an factorial function\n",
        "\n",
        "def fac(N):\n",
        "    \"\"\" a factorial function, returns the factorial of the input N\n",
        "    \"\"\"\n",
        "    result = 1\n",
        "\n",
        "    for x in range(1,N+1):\n",
        "        result = result*x\n",
        "\n",
        "    return result\n",
        "\n",
        "# fac(4) should be 1*2*3*4 == 24"
      ]
    },
    {
      "cell_type": "code",
      "execution_count": null,
      "metadata": {
        "id": "RchpwL0V3gGZ"
      },
      "outputs": [],
      "source": [
        "\"\"\"\n",
        "\n",
        "Loops we tried in our \"breakout quiz\":\n",
        "\n",
        "# upper left\n",
        "result = 1\n",
        "for x in [2,5,1,4]:\n",
        "    result *= x\n",
        "print(result)\n",
        "\n",
        "# upper right\n",
        "x = 0\n",
        "for i in range(4):\n",
        "    x += 10\n",
        "print(x)\n",
        "\n",
        "# lower left\n",
        "L = ['golf','fore!','club','tee']\n",
        "for i in range(len(L)):\n",
        "    if i%2 == 1:\n",
        "        print(L[i])\n",
        "\n",
        "# lower right\n",
        "S = 'time to think this over! '\n",
        "result = ''\n",
        "for i in range(len(S)):\n",
        "    if S[i-1] == ' '\n",
        "        result += S[i]\n",
        "print(result)\n",
        "\n",
        "\"\"\""
      ]
    },
    {
      "cell_type": "code",
      "execution_count": null,
      "metadata": {
        "id": "FNuv6DoJ3gGa"
      },
      "outputs": [],
      "source": [
        "\n",
        "# staging area...\n",
        "\n",
        "print(\"Start!\")\n"
      ]
    },
    {
      "cell_type": "markdown",
      "source": [
        "### <font color=\"darkblue\"><b>Task #4: For Looping!</b></font>\n",
        "\n",
        "Below, create your functions that use loops:\n",
        "+ ``summer(L)``\n",
        "+ ``summedOdds(L)``\n",
        "+ ``summedExcept(exc,L)``\n",
        "+ ``summedUpto(exc,L)``\n",
        "\n",
        "Each one has full detail in its description:"
      ],
      "metadata": {
        "id": "PbR-kxDD6MGA"
      }
    },
    {
      "cell_type": "code",
      "execution_count": null,
      "metadata": {
        "id": "E5d6udae3gGa",
        "colab": {
          "base_uri": "https://localhost:8080/"
        },
        "outputId": "151b584c-e31e-4fd2-eb30-94cca88405ef"
      },
      "outputs": [
        {
          "output_type": "stream",
          "name": "stdout",
          "text": [
            "10 ->  10\n",
            "4 ->   4\n",
            "6 ->   6\n",
            "5 ->   5\n"
          ]
        }
      ],
      "source": [
        "\n",
        "# Function to sum all numbers in the list L\n",
        "def summer(L):\n",
        "    total = 0\n",
        "    for num in L:\n",
        "        total += num\n",
        "    return total\n",
        "\n",
        "# Function to sum only the odd numbers in the list L\n",
        "def summedOdds(L):\n",
        "    total = 0\n",
        "    for num in L:\n",
        "        if num % 2 != 0:  # Check if the number is odd\n",
        "            total += num\n",
        "    return total\n",
        "\n",
        "# Function to sum all numbers in L except the given \"exc\"\n",
        "def summedExcept(exc, L):\n",
        "    total = 0\n",
        "    for num in L:\n",
        "        if num != exc:  # Skip the number if it matches exc\n",
        "            total += num\n",
        "    return total\n",
        "\n",
        "def summedUpto(exc, L):\n",
        "    total = 0\n",
        "    for num in L:\n",
        "        if num == exc:\n",
        "            break  # Stop summing once we reach exc\n",
        "        total += num\n",
        "    return total\n",
        "\n",
        "# examples:\n",
        "print(summer( [2,3,4,1] ),    \"->  10\")\n",
        "print(summedOdds( [2,3,4,1] ),    \"->   4\")\n",
        "print(summedExcept( 4, [2,3,4,1] ), \"->   6\")\n",
        "print(summedUpto( 4, [2,3,4,1] ), \"->   5\")"
      ]
    },
    {
      "cell_type": "code",
      "execution_count": null,
      "metadata": {
        "id": "IxqR0uRC3gGa",
        "colab": {
          "base_uri": "https://localhost:8080/"
        },
        "outputId": "42d01c4d-8592-46f6-f9bc-ffd03d7e9d8c"
      },
      "outputs": [
        {
          "output_type": "stream",
          "name": "stdout",
          "text": [
            "summer( [2,3,4,1] )  should be 10 <-> 10\n",
            "summer( [35,3,4,100] )  should be 142 <-> 142\n"
          ]
        }
      ],
      "source": [
        "#\n",
        "# here, write the summer function!\n",
        "#\n",
        "\n",
        "def summer(L):\n",
        "    \"\"\" uses a for loop to add and return all of the elements in L\n",
        "    \"\"\"\n",
        "    total = 0\n",
        "    for num in L:\n",
        "        total += num\n",
        "    return total\n",
        "\n",
        "# Here are two tests -- be sure to try them!\n",
        "print(\"summer( [2,3,4,1] )  should be 10 <->\", summer( [2,3,4,1] ))\n",
        "print(\"summer( [35,3,4,100] )  should be 142 <->\", summer( [35,3,4,100] ))"
      ]
    },
    {
      "cell_type": "code",
      "execution_count": null,
      "metadata": {
        "id": "QN6ZBN9w3gGa",
        "colab": {
          "base_uri": "https://localhost:8080/"
        },
        "outputId": "ad79a691-a2d3-4e7c-e55e-c45b329c8f60"
      },
      "outputs": [
        {
          "output_type": "stream",
          "name": "stdout",
          "text": [
            "summedOdds( [2,3,4,1] )  should be 4 <-> 4\n",
            "summedOdds( [35,3,4,100] )  should be 38 <-> 38\n"
          ]
        }
      ],
      "source": [
        "#\n",
        "# here, write the summedOdds function!\n",
        "#\n",
        "\n",
        "def summedOdds(L):\n",
        "    \"\"\" uses a for loop to add and return all of the _odd_ elements in L\n",
        "    \"\"\"\n",
        "    total = 0\n",
        "    for num in L:\n",
        "        if num % 2 != 0:\n",
        "            total += num\n",
        "    return total\n",
        "\n",
        "\n",
        "\n",
        "# Here are two tests -- be sure to try them!\n",
        "print(\"summedOdds( [2,3,4,1] )  should be 4 <->\", summedOdds( [2,3,4,1] ))\n",
        "print(\"summedOdds( [35,3,4,100] )  should be 38 <->\", summedOdds( [35,3,4,100] ))"
      ]
    },
    {
      "cell_type": "code",
      "execution_count": null,
      "metadata": {
        "id": "9XkwO1Yb3gGb",
        "colab": {
          "base_uri": "https://localhost:8080/"
        },
        "outputId": "3e15f608-e338-434a-fadb-824c8dc30883"
      },
      "outputs": [
        {
          "output_type": "stream",
          "name": "stdout",
          "text": [
            "summedExcept( 4, [2,3,4,1] )  should be 6 <-> 6\n",
            "summedExcept( 4, [35,3,4,100] )  should be 138 <-> 138\n"
          ]
        }
      ],
      "source": [
        "#\n",
        "# here, write the summedExcept function!\n",
        "#\n",
        "\n",
        "def summedExcept( exc, L ):\n",
        "    \"\"\" include a short description here!\n",
        "    \"\"\"\n",
        "    total = 0\n",
        "    for num in L:\n",
        "        if num != exc:\n",
        "            total += num\n",
        "    return total\n",
        "\n",
        "# Here are two tests -- be sure to try them!\n",
        "print(\"summedExcept( 4, [2,3,4,1] )  should be 6 <->\", summedExcept( 4, [2,3,4,1] ))\n",
        "print(\"summedExcept( 4, [35,3,4,100] )  should be 138 <->\", summedExcept( 4, [35,3,4,100] ))"
      ]
    },
    {
      "cell_type": "code",
      "execution_count": null,
      "metadata": {
        "id": "FpoOHpGc3gGb",
        "colab": {
          "base_uri": "https://localhost:8080/"
        },
        "outputId": "4bc857bc-e3d6-4706-bff1-3bd560952a3c"
      },
      "outputs": [
        {
          "output_type": "stream",
          "name": "stdout",
          "text": [
            "summedUpto( 4, [2,3,4,1] )  should be 5 <-> 5\n",
            "summedUpto( 100, [35,3,4,100] )  should be 42 <-> 42\n"
          ]
        }
      ],
      "source": [
        "#\n",
        "# here, write the summedUpto function!\n",
        "#\n",
        "\n",
        "def summedUpto( exc, L ):\n",
        "    \"\"\" include a short description here!\n",
        "    \"\"\"\n",
        "    total = 0\n",
        "    for num in L:\n",
        "        if num == exc:\n",
        "            break\n",
        "        total += num\n",
        "    return total\n",
        "\n",
        "\n",
        "# Here are two tests -- be sure to try them!\n",
        "print(\"summedUpto( 4, [2,3,4,1] )  should be 5 <->\", summedUpto( 4, [2,3,4,1] ))\n",
        "print(\"summedUpto( 100, [35,3,4,100] )  should be 42 <->\", summedUpto( 100, [35,3,4,100] ))"
      ]
    },
    {
      "cell_type": "code",
      "execution_count": null,
      "metadata": {
        "id": "im7h59uw3gGb",
        "colab": {
          "base_uri": "https://localhost:8080/"
        },
        "outputId": "d4f6d8b2-e68b-4031-b07f-8a7f4735fe91"
      },
      "outputs": [
        {
          "output_type": "execute_result",
          "data": {
            "text/plain": [
              "97"
            ]
          },
          "metadata": {},
          "execution_count": 9
        }
      ],
      "source": [
        "\n",
        "#\n",
        "# Example while loop: the \"guessing game\"\n",
        "#\n",
        "\n",
        "from random import *\n",
        "\n",
        "def guess( hidden ):\n",
        "    \"\"\"\n",
        "        have the computer guess numbers until it gets the \"hidden\" value\n",
        "        return the number of guesses\n",
        "    \"\"\"\n",
        "    guess = -1      # start with a wrong guess and don't count it as a guess\n",
        "    number_of_guesses = 0   # start with no guesses made so far...\n",
        "\n",
        "    while guess != hidden:\n",
        "        guess = choice( range(0,100) )  # 0 to 99, inclusive\n",
        "        number_of_guesses += 1\n",
        "\n",
        "    return number_of_guesses\n",
        "\n",
        "# test our function!\n",
        "guess(42)"
      ]
    },
    {
      "cell_type": "markdown",
      "source": [
        "### <font color=\"darkblue\"><b>Task #5: While Looping!</b></font>\n",
        "\n",
        "Below, create your functions that use _while_ loops:\n",
        "+ ``guess_between(low,high)``\n",
        "+ ``listTilRepeat(high)``\n",
        "\n",
        "Each one has more detail in its description.\n",
        "\n",
        "Notice that the ``listTilRepeat`` function ***is*** the birthday paradox!"
      ],
      "metadata": {
        "id": "A68UyzcD6W4g"
      }
    },
    {
      "cell_type": "code",
      "execution_count": null,
      "metadata": {
        "id": "Sib6asIv3gGn",
        "colab": {
          "base_uri": "https://localhost:8080/"
        },
        "outputId": "e0a68828-7537-40a8-949a-0cae5e033e1f"
      },
      "outputs": [
        {
          "output_type": "stream",
          "name": "stdout",
          "text": [
            "43\n",
            "[4, 4]\n"
          ]
        }
      ],
      "source": [
        "import random\n",
        "\n",
        "# Function to guess a number between low and high\n",
        "def guess_between(low, high):\n",
        "    while True:\n",
        "        guess = random.randint(low, high - 1)  # Generate a number in the range [low, high)\n",
        "        if low <= guess < high:  # Check if the number is within the range\n",
        "            return guess\n",
        "\n",
        "# Function to accumulate a list of values until one repeats\n",
        "def listTilRepeat(high):\n",
        "    seen = set()  # A set to keep track of numbers we have already seen\n",
        "    numbers = []  # List to store the numbers\n",
        "    while True:\n",
        "        num = random.randint(0, high - 1)  # Generate a number between 0 and high-1\n",
        "        if num in seen:  # Check if the number is a repeat\n",
        "            numbers.append(num)  # Append the repeat number to the list\n",
        "            return numbers\n",
        "        seen.add(num)  # Add the number to the set\n",
        "        numbers.append(num)  # Add the number to the list\n",
        "\n",
        "print(guess_between(40, 50))  # Will print a number between 40 and 50 (inclusive of 40, exclusive of 50)\n",
        "\n",
        "print(listTilRepeat(10))  # Will print a list with numbers from 0 to 9 until one repeats\n",
        "\n",
        "# examples (don't forget the randomness will change things!)\n",
        "#\n",
        "#print(guess_between(40,50))\n",
        "#\n",
        "# listTilRepeat(10)      ->   [4, 7, 8, 3, 7]     (the final # must be a repeat)\n",
        "# listTilRepeat(10)      ->   [2, 1, 9, 9]     (the final # must be a repeat)\n"
      ]
    },
    {
      "cell_type": "code",
      "execution_count": null,
      "metadata": {
        "id": "eAbbImBL3gGv"
      },
      "outputs": [],
      "source": [
        "# here, write guess_between\n",
        "#\n",
        "\n",
        "def guess_between(low,high):\n",
        "    \"\"\" guesses a # from 0 to 99 (inclusive) until\n",
        "        it gets one that is strictly less than high and\n",
        "        greater than or equal to low\n",
        "        Then, this function returns the total # of guesses made\n",
        "    \"\"\"\n",
        "    count = 0\n",
        "    while True:\n",
        "        guess = random.randint(0, 99)\n",
        "        count += 1\n",
        "        if low <= guess < high:\n",
        "            return count"
      ]
    },
    {
      "cell_type": "code",
      "source": [
        "#\n",
        "# be sure to test your guess_between here -- and leave the test in the notebook!\n",
        "#\n",
        "\n",
        "total_guesses = guess_between(40, 50)\n",
        "print(f\"Total guesses made: {total_guesses}\")"
      ],
      "metadata": {
        "id": "wrh7eQOHAWi0",
        "colab": {
          "base_uri": "https://localhost:8080/"
        },
        "outputId": "ee740525-bf9d-4b03-9431-85961e14db4c"
      },
      "execution_count": null,
      "outputs": [
        {
          "output_type": "stream",
          "name": "stdout",
          "text": [
            "Total guesses made: 4\n"
          ]
        }
      ]
    },
    {
      "cell_type": "code",
      "execution_count": null,
      "metadata": {
        "id": "9HnVqdj83gGw",
        "colab": {
          "base_uri": "https://localhost:8080/"
        },
        "outputId": "250ba0f1-20e2-46da-dc7f-97e46dc7fabf"
      },
      "outputs": [
        {
          "output_type": "stream",
          "name": "stdout",
          "text": [
            "Before: L is [3, 4]\n",
            " After: L is [3, 4, 42]\n"
          ]
        }
      ],
      "source": [
        "\n",
        "# Try out adding elements to Lists\n",
        "\n",
        "L = [3,4]\n",
        "print(\"Before: L is\", L)\n",
        "\n",
        "guess = 42\n",
        "L = L + [guess]\n",
        "print(\" After: L is\", L)"
      ]
    },
    {
      "cell_type": "code",
      "execution_count": null,
      "metadata": {
        "id": "7v9qoep83gGx"
      },
      "outputs": [],
      "source": [
        "# here, write listTilRepeat\n",
        "def listTilRepeat(high):\n",
        "    \"\"\" this f'n accumulates random guesses into a list, L, until a repeat is found\n",
        "        it then returns the list (the final element should be repeated, somewhere)\n",
        "    \"\"\"\n",
        "    L = []\n",
        "    while True:\n",
        "        guess = random.randint(0, high - 1)\n",
        "        if guess in L:\n",
        "            L.append(guess)\n",
        "            return L\n",
        "        L.append(guess)"
      ]
    },
    {
      "cell_type": "code",
      "source": [
        "result = listTilRepeat(365)\n",
        "print(\"Length of the list:\", len(result))"
      ],
      "metadata": {
        "id": "iWvncComAdAa",
        "colab": {
          "base_uri": "https://localhost:8080/"
        },
        "outputId": "e418595e-ed8a-491c-ca31-8d3225b378e3"
      },
      "execution_count": null,
      "outputs": [
        {
          "output_type": "stream",
          "name": "stdout",
          "text": [
            "Length of the list: 16\n"
          ]
        }
      ]
    },
    {
      "cell_type": "code",
      "execution_count": null,
      "metadata": {
        "id": "Y8bY1Hag3gGx"
      },
      "outputs": [],
      "source": [
        "\n",
        "# The birthday paradox is the fact that\n",
        "#     listTilRepeat(365) has surprisingly few elements!\n",
        "#\n",
        "# Run listTilRepeat(365) a few times and print its _length_ each time\n",
        "#     (Don't print the lists... it's too much to digest.)\n",
        "#\n",
        "# To many people, the results feel counterintuitive!"
      ]
    },
    {
      "cell_type": "markdown",
      "metadata": {
        "id": "rGp1vbmb3gf5"
      },
      "source": [
        "<br>\n",
        "\n",
        "# Monte Carlo simulations\n",
        "+ ... are repeated actions that involve repetition and randomness\n",
        "+ that is, loops!\n",
        "\n",
        "In fact, the guessing and birthday challenges above _are_ examples of Monte Carlo simulations.\n",
        "\n",
        "Next, you'll try a few more:\n",
        "+ Our in-class guessing game, dice-rolling challenge, and three-curtain challenge...\n",
        "+ Then, you'll try the \"sleepwalker\" (a single random walker)\n",
        "\n",
        "Finally, you'll adapt the single random walker to a two-walker simulation of your own design! There are lots of ideas:\n",
        "+ Have two random walkers \"race\" to the middle (which might be a poptart...)\n",
        "+ Have two random walkers \"race\" to the walls\n",
        "+ Have them wander until they find each other\n",
        "+ Have the walls close in on them!\n",
        "+ Have them chase another object that's moving around...\n",
        "+ ... and so on!\n",
        "\n",
        "The key is to have\n",
        "+ **two** independently-wandering \"actors\"\n",
        "+ within a \"line\" or \"world\" that you can print out...\n",
        "+ ... with a backstory that you've invented,\n",
        "+ and then animate the result!\n",
        "\n",
        "<br>\n",
        "\n",
        "Looking forward to it!"
      ]
    },
    {
      "cell_type": "code",
      "execution_count": null,
      "metadata": {
        "id": "TAw-VXXQ3gf6",
        "colab": {
          "base_uri": "https://localhost:8080/"
        },
        "outputId": "90fa2f01-6e31-4df9-e28f-3c0ed9ce18b7"
      },
      "outputs": [
        {
          "output_type": "execute_result",
          "data": {
            "text/plain": [
              "67"
            ]
          },
          "metadata": {},
          "execution_count": 75
        }
      ],
      "source": [
        "# Example while loop: the \"guessing game\"\n",
        "\n",
        "from random import *\n",
        "\n",
        "def guess( hidden ):\n",
        "    \"\"\"\n",
        "        have the computer guess numbers until it gets the \"hidden\" value\n",
        "        return the number of guesses\n",
        "    \"\"\"\n",
        "    guess = hidden - 1      # start with a wrong guess + don't count it as a guess\n",
        "    number_of_guesses = 0   # start with no guesses made so far...\n",
        "\n",
        "    while guess != hidden:\n",
        "        guess = choice( range(0,100) )  # 0 to 99, inclusive\n",
        "        number_of_guesses += 1\n",
        "\n",
        "    return number_of_guesses\n",
        "\n",
        "# test our function!\n",
        "guess(42)"
      ]
    },
    {
      "cell_type": "code",
      "execution_count": null,
      "metadata": {
        "id": "pMj48CN63gf8",
        "colab": {
          "base_uri": "https://localhost:8080/"
        },
        "outputId": "93571db3-19d2-4981-8309-3410ad30fcda"
      },
      "outputs": [
        {
          "output_type": "stream",
          "name": "stdout",
          "text": [
            "run 0 roll: 3 2  \n",
            "run 1 roll: 5 2  \n",
            "run 2 roll: 1 5  \n",
            "run 3 roll: 5 5 🙂\n",
            "run 4 roll: 1 2  \n",
            "run 5 roll: 5 6  \n",
            "run 6 roll: 2 2 🙂\n",
            "run 7 roll: 1 4  \n",
            "run 8 roll: 6 5  \n",
            "run 9 roll: 4 4 🙂\n"
          ]
        },
        {
          "output_type": "execute_result",
          "data": {
            "text/plain": [
              "3"
            ]
          },
          "metadata": {},
          "execution_count": 81
        }
      ],
      "source": [
        "#Example Monte Carlo simulation: rolling two dice and counting doubles\n",
        "\n",
        "from random import *\n",
        "import time\n",
        "\n",
        "def count_doubles( num_rolls ):\n",
        "    \"\"\"\n",
        "        have the computer roll two six-sided dice, counting the # of doubles\n",
        "        (same value on both dice)\n",
        "        Then, return the number of doubles...\n",
        "    \"\"\"\n",
        "    numdoubles = 0       # start with no doubles so far...\n",
        "\n",
        "    for i in range(0,num_rolls):   # roll repeatedly: i keeps track\n",
        "        d1 = choice( [1,2,3,4,5,6] )  # 0 to 6, inclusive\n",
        "        d2 = choice( range(1,7) )     # 0 to 6, inclusive\n",
        "        if d1 == d2:\n",
        "            numdoubles += 1\n",
        "            you = \"🙂\"\n",
        "        else:\n",
        "            you = \" \"\n",
        "\n",
        "        print(\"run\", i, \"roll:\", d1, d2, you, flush=True)\n",
        "        time.sleep(.01)\n",
        "\n",
        "    return numdoubles\n",
        "\n",
        "# test our function!\n",
        "count_doubles(10)"
      ]
    },
    {
      "cell_type": "code",
      "execution_count": null,
      "metadata": {
        "id": "k4rkSYX_3gf9"
      },
      "outputs": [],
      "source": [
        "\n",
        "#\n",
        "# Example Monte Carlo simulation: the Monte-Carlo Monte Hall paradox\n",
        "#\n",
        "\n",
        "import random\n",
        "import time\n",
        "\n",
        "def count_wins( N, original_choice, stay_or_switch ):\n",
        "    \"\"\"\n",
        "        run the Monte Hall paradox N times, with\n",
        "        original_choice, which can be 1, 2, or 3 and\n",
        "        stay_or_switch, which can be \"stay\" or \"switch\"\n",
        "        Count the number of wins and return that number.\n",
        "    \"\"\"\n",
        "    numwins = 0       # start with no wins so far...\n",
        "\n",
        "    for i in range(1,N+1):      # run repeatedly: i keeps track\n",
        "        win_curtain = random.choice([1,2,3])   # the curtain with the grand prize\n",
        "        original_choice = original_choice      # just a reminder that we have this variable\n",
        "        stay_or_switch = stay_or_switch        # a reminder that we have this, too\n",
        "\n",
        "        result = \"\"\n",
        "        if original_choice == win_curtain and stay_or_switch == \"stay\": result = \" Win!!!\"\n",
        "        elif original_choice == win_curtain and stay_or_switch == \"switch\": result = \"lose...\"\n",
        "        elif original_choice != win_curtain and stay_or_switch == \"stay\": result = \"lose...\"\n",
        "        elif original_choice != win_curtain and stay_or_switch == \"switch\": result = \" Win!!!\"\n",
        "\n",
        "        print(\"run\", i, \"you\", result, flush=True)\n",
        "        time.sleep(.025)\n",
        "\n",
        "        if result == \" Win!!!\":\n",
        "            numwins += 1\n",
        "\n",
        "\n",
        "    return numwins\n",
        "\n",
        "# test our three-curtain-game, many times:\n",
        "count_wins(10, 1, \"stay\")"
      ]
    },
    {
      "cell_type": "code",
      "execution_count": null,
      "metadata": {
        "id": "MawBqtpX3gf-",
        "colab": {
          "base_uri": "https://localhost:8080/"
        },
        "outputId": "2c1ffa91-837f-46a6-ac02-5aa6354dde2f"
      },
      "outputs": [
        {
          "output_type": "stream",
          "name": "stdout",
          "text": [
            "At location: 47\n",
            "At location: 48\n",
            "At location: 47\n",
            "At location: 46\n",
            "At location: 47\n",
            "At location: 46\n",
            "At location: 45\n",
            "At location: 44\n",
            "At location: 43\n",
            "At location: 42\n"
          ]
        },
        {
          "output_type": "execute_result",
          "data": {
            "text/plain": [
              "42"
            ]
          },
          "metadata": {},
          "execution_count": 82
        }
      ],
      "source": [
        "\n",
        "\n",
        "# More Monte Carlo simulations!\n",
        "\n",
        "#\n",
        "# Example of a random-walk (but no animation is intended here...)\n",
        "#\n",
        "\n",
        "import random\n",
        "\n",
        "def rs():\n",
        "    \"\"\" One random step \"\"\"\n",
        "    return random.choice([-1, 1])\n",
        "\n",
        "\n",
        "def rpos(start,N):\n",
        "    \"\"\" wander from start for N steps, printing as we go\n",
        "        return the position at the end (the final \"current\" position)\n",
        "    \"\"\"\n",
        "    current = start        # our current position begins at start...\n",
        "\n",
        "    for i in range(N):     # step repeatedly:  i keeps track from 0..N\n",
        "        print(\"At location:\", current)\n",
        "        current = current + rs()  # add one step,\n",
        "\n",
        "    print(\"At location:\", current)\n",
        "    return current\n",
        "\n",
        "\n",
        "# let's test it, perhaps start at 47 and take 9 steps...\n",
        "rpos(47,9)"
      ]
    },
    {
      "cell_type": "code",
      "execution_count": null,
      "metadata": {
        "id": "vgqXW52w3gf_",
        "colab": {
          "base_uri": "https://localhost:8080/"
        },
        "outputId": "d819413c-0699-4e7e-a49e-7033735b92be"
      },
      "outputs": [
        {
          "output_type": "stream",
          "name": "stdout",
          "text": [
            "|______S____|\n",
            "|_______S___|\n",
            "|______S____|\n",
            "|_____S_____|\n",
            "|______S____|\n",
            "|_______S___|\n",
            "|________S__|\n",
            "|_________S_|\n",
            "|________S__|\n",
            "|_______S___|\n",
            "|________S__|\n",
            "|_________S_|\n",
            "|________S__|\n",
            "|_______S___|\n",
            "|________S__|\n",
            "|_________S_|\n",
            "|__________S|\n",
            "|______________S________________|\n",
            "|_______________S_______________|\n",
            "|______________S________________|\n",
            "|_______________S_______________|\n",
            "|________________S______________|\n",
            "|_________________S_____________|\n",
            "|__________________S____________|\n",
            "|___________________S___________|\n",
            "|__________________S____________|\n",
            "|_________________S_____________|\n",
            "|__________________S____________|\n",
            "|___________________S___________|\n",
            "|____________________S__________|\n",
            "|___________________S___________|\n",
            "|__________________S____________|\n",
            "|_________________S_____________|\n",
            "|__________________S____________|\n",
            "|_________________S_____________|\n",
            "|__________________S____________|\n",
            "|___________________S___________|\n",
            "|__________________S____________|\n",
            "|___________________S___________|\n",
            "|__________________S____________|\n",
            "|___________________S___________|\n",
            "|__________________S____________|\n",
            "|_________________S_____________|\n",
            "|__________________S____________|\n",
            "|___________________S___________|\n",
            "|__________________S____________|\n",
            "|_________________S_____________|\n",
            "|__________________S____________|\n",
            "|_________________S_____________|\n",
            "|__________________S____________|\n",
            "|_________________S_____________|\n",
            "|________________S______________|\n",
            "|_________________S_____________|\n",
            "|________________S______________|\n",
            "|_______________S_______________|\n",
            "|______________S________________|\n",
            "|_____________S_________________|\n",
            "|____________S__________________|\n",
            "|___________S___________________|\n",
            "|__________S____________________|\n",
            "|_________S_____________________|\n",
            "|__________S____________________|\n",
            "|___________S___________________|\n",
            "|__________S____________________|\n",
            "|_________S_____________________|\n",
            "|________S______________________|\n",
            "|_______S_______________________|\n",
            "|________S______________________|\n",
            "|_______S_______________________|\n",
            "|______S________________________|\n",
            "|_____S_________________________|\n",
            "|______S________________________|\n",
            "|_____S_________________________|\n",
            "|______S________________________|\n",
            "|_______S_______________________|\n",
            "|______S________________________|\n",
            "|_____S_________________________|\n",
            "|____S__________________________|\n",
            "|_____S_________________________|\n",
            "|______S________________________|\n",
            "|_______S_______________________|\n",
            "|________S______________________|\n",
            "|_________S_____________________|\n",
            "|__________S____________________|\n",
            "|_________S_____________________|\n",
            "|________S______________________|\n",
            "|_________S_____________________|\n",
            "|________S______________________|\n",
            "|_______S_______________________|\n",
            "|________S______________________|\n",
            "|_______S_______________________|\n",
            "|______S________________________|\n",
            "|_______S_______________________|\n",
            "|________S______________________|\n",
            "|_________S_____________________|\n",
            "|________S______________________|\n",
            "|_________S_____________________|\n",
            "|__________S____________________|\n",
            "|___________S___________________|\n",
            "|__________S____________________|\n",
            "|_________S_____________________|\n",
            "|__________S____________________|\n",
            "|___________S___________________|\n",
            "|____________S__________________|\n",
            "|___________S___________________|\n",
            "|__________S____________________|\n",
            "|_________S_____________________|\n",
            "|__________S____________________|\n",
            "|___________S___________________|\n",
            "|____________S__________________|\n",
            "|___________S___________________|\n",
            "|____________S__________________|\n",
            "|_____________S_________________|\n",
            "|______________S________________|\n",
            "|_____________S_________________|\n",
            "|____________S__________________|\n",
            "|_____________S_________________|\n",
            "|____________S__________________|\n",
            "|___________S___________________|\n",
            "|__________S____________________|\n",
            "|_________S_____________________|\n",
            "|________S______________________|\n",
            "|_______S_______________________|\n",
            "|______S________________________|\n",
            "|_____S_________________________|\n",
            "|____S__________________________|\n",
            "|_____S_________________________|\n",
            "|____S__________________________|\n",
            "|_____S_________________________|\n",
            "|____S__________________________|\n",
            "|___S___________________________|\n",
            "|__S____________________________|\n",
            "|___S___________________________|\n",
            "|____S__________________________|\n",
            "|___S___________________________|\n",
            "|____S__________________________|\n",
            "|___S___________________________|\n",
            "|__S____________________________|\n",
            "|_S_____________________________|\n",
            "|S______________________________|\n"
          ]
        },
        {
          "output_type": "execute_result",
          "data": {
            "text/plain": [
              "123"
            ]
          },
          "metadata": {},
          "execution_count": 86
        }
      ],
      "source": [
        "\n",
        "# Monte Carlo simulation #2... the random-walker\n",
        "\n",
        "#\n",
        "# Task #1:  understand the _single_ \"sleepwalker\":\n",
        "#           change the character sleepwalking to something else, emoji, etc.\n",
        "#           change the \"walls\" to something else\n",
        "#           change the \"sidewalk\" to something else (water, air, walls, ...)\n",
        "#           try it with some different inputs... then you'll be ready for task 2\n",
        "\n",
        "import time\n",
        "import random\n",
        "\n",
        "def rs():\n",
        "    \"\"\" One random step \"\"\"\n",
        "    return random.choice([-1, 1])\n",
        "\n",
        "def rwalk(start, low, high):\n",
        "    \"\"\" Random walk between -radius and +radius  (starting at 0 by default) \"\"\"\n",
        "    totalsteps = 0          # Initial value of totalsteps (_not_ final value!)\n",
        "    current = start         # Current location (_not_ the total # of steps)\n",
        "\n",
        "    while True:             # Run \"forever\" (really, until a return or break)\n",
        "        if current <= low:  # too low!\n",
        "            return totalsteps # Phew!  Return totalsteps (stops the while loop)\n",
        "        elif current >= high: # too high!\n",
        "            return totalsteps # Phew!  Return totalsteps (stops the while loop)\n",
        "        else:\n",
        "            current = current + rs()  # take a step\n",
        "            totalsteps += 1           # count it\n",
        "\n",
        "            # let's animate!\n",
        "            left_side = current - low   # distance on the left of our sleepwalker\n",
        "            right_side = high - current\n",
        "            print(\"|\" + \"_\"*left_side + \"S\" + \"_\"*right_side + \"|\", flush=True)  # a start of our \"ASCIImation\"\n",
        "            time.sleep(0.042)\n",
        "\n",
        "    # the code can never get here!\n",
        "\n",
        "# You will need to add the right-hand side, too\n",
        "# Then, improve your sleepwalker!\n",
        "\n",
        "# let's try it!  rwalk(tart, low, high)\n",
        "rwalk(5,0,10)\n",
        "rwalk(15,0,30)\n"
      ]
    },
    {
      "cell_type": "markdown",
      "source": [
        "### <font color=\"darkblue\"><b>Task #6: Your own wandering!</b></font>\n",
        "\n",
        "Below, create a variation of the random-walker examples above and below. Be sure\n",
        "+ You have at least two random wanderers\n",
        "+ You include an aesthetic customization of your choice\n",
        "+ You include an algorithmic personalization of your choice\n",
        "\n",
        "These can be very fun...\n",
        "\n",
        "I look forward to all of your ***wandering***!"
      ],
      "metadata": {
        "id": "XM07iJfP7VMf"
      }
    },
    {
      "cell_type": "code",
      "execution_count": null,
      "metadata": {
        "id": "t8S3Gu6Y3ggB",
        "colab": {
          "base_uri": "https://localhost:8080/"
        },
        "outputId": "8d137a08-ba99-4eb7-e0dd-c2e3ab13b6b9"
      },
      "outputs": [
        {
          "output_type": "stream",
          "name": "stdout",
          "text": [
            "Dock|__________\u001b[6;33;41mS\u001b[0m__________\u001b[6;36;43mS\u001b[0m__________|Water\n",
            "Dock|___________\u001b[6;33;41mS\u001b[0m__________\u001b[6;36;43mS\u001b[0m_________|Water\n",
            "Dock|____________\u001b[6;33;41mS\u001b[0m________\u001b[6;36;43mS\u001b[0m__________|Water\n",
            "Dock|___________\u001b[6;33;41mS\u001b[0m________\u001b[6;36;43mS\u001b[0m___________|Water\n",
            "Dock|____________\u001b[6;33;41mS\u001b[0m________\u001b[6;36;43mS\u001b[0m__________|Water\n",
            "Dock|_____________\u001b[6;33;41mS\u001b[0m________\u001b[6;36;43mS\u001b[0m_________|Water\n",
            "Dock|____________\u001b[6;33;41mS\u001b[0m________\u001b[6;36;43mS\u001b[0m__________|Water\n",
            "Dock|_____________\u001b[6;33;41mS\u001b[0m______\u001b[6;36;43mS\u001b[0m___________|Water\n",
            "Dock|____________\u001b[6;33;41mS\u001b[0m________\u001b[6;36;43mS\u001b[0m__________|Water\n",
            "Dock|___________\u001b[6;33;41mS\u001b[0m________\u001b[6;36;43mS\u001b[0m___________|Water\n",
            "Dock|____________\u001b[6;33;41mS\u001b[0m______\u001b[6;36;43mS\u001b[0m____________|Water\n",
            "Dock|___________\u001b[6;33;41mS\u001b[0m________\u001b[6;36;43mS\u001b[0m___________|Water\n",
            "Dock|__________\u001b[6;33;41mS\u001b[0m________\u001b[6;36;43mS\u001b[0m____________|Water\n",
            "Dock|_________\u001b[6;33;41mS\u001b[0m________\u001b[6;36;43mS\u001b[0m_____________|Water\n",
            "Dock|__________\u001b[6;33;41mS\u001b[0m________\u001b[6;36;43mS\u001b[0m____________|Water\n",
            "Dock|___________\u001b[6;33;41mS\u001b[0m______\u001b[6;36;43mS\u001b[0m_____________|Water\n",
            "Dock|____________\u001b[6;33;41mS\u001b[0m____\u001b[6;36;43mS\u001b[0m______________|Water\n",
            "Dock|___________\u001b[6;33;41mS\u001b[0m______\u001b[6;36;43mS\u001b[0m_____________|Water\n",
            "Dock|__________\u001b[6;33;41mS\u001b[0m________\u001b[6;36;43mS\u001b[0m____________|Water\n",
            "Dock|___________\u001b[6;33;41mS\u001b[0m______\u001b[6;36;43mS\u001b[0m_____________|Water\n",
            "Dock|__________\u001b[6;33;41mS\u001b[0m______\u001b[6;36;43mS\u001b[0m______________|Water\n",
            "Dock|___________\u001b[6;33;41mS\u001b[0m______\u001b[6;36;43mS\u001b[0m_____________|Water\n",
            "Dock|____________\u001b[6;33;41mS\u001b[0m____\u001b[6;36;43mS\u001b[0m______________|Water\n",
            "Dock|___________\u001b[6;33;41mS\u001b[0m____\u001b[6;36;43mS\u001b[0m_______________|Water\n",
            "Dock|____________\u001b[6;33;41mS\u001b[0m____\u001b[6;36;43mS\u001b[0m______________|Water\n",
            "Dock|___________\u001b[6;33;41mS\u001b[0m______\u001b[6;36;43mS\u001b[0m_____________|Water\n",
            "Dock|__________\u001b[6;33;41mS\u001b[0m______\u001b[6;36;43mS\u001b[0m______________|Water\n",
            "Dock|___________\u001b[6;33;41mS\u001b[0m____\u001b[6;36;43mS\u001b[0m_______________|Water\n",
            "Dock|____________\u001b[6;33;41mS\u001b[0m__\u001b[6;36;43mS\u001b[0m________________|Water\n",
            "Dock|_____________\u001b[6;33;41mS\u001b[0m__\u001b[6;36;43mS\u001b[0m_______________|Water\n",
            "Dock|____________\u001b[6;33;41mS\u001b[0m____\u001b[6;36;43mS\u001b[0m______________|Water\n",
            "Dock|___________\u001b[6;33;41mS\u001b[0m______\u001b[6;36;43mS\u001b[0m_____________|Water\n",
            "Dock|__________\u001b[6;33;41mS\u001b[0m________\u001b[6;36;43mS\u001b[0m____________|Water\n",
            "Dock|___________\u001b[6;33;41mS\u001b[0m________\u001b[6;36;43mS\u001b[0m___________|Water\n",
            "Dock|__________\u001b[6;33;41mS\u001b[0m__________\u001b[6;36;43mS\u001b[0m__________|Water\n",
            "Dock|_________\u001b[6;33;41mS\u001b[0m____________\u001b[6;36;43mS\u001b[0m_________|Water\n",
            "Dock|________\u001b[6;33;41mS\u001b[0m____________\u001b[6;36;43mS\u001b[0m__________|Water\n",
            "Dock|_________\u001b[6;33;41mS\u001b[0m__________\u001b[6;36;43mS\u001b[0m___________|Water\n",
            "Dock|__________\u001b[6;33;41mS\u001b[0m________\u001b[6;36;43mS\u001b[0m____________|Water\n",
            "Dock|_________\u001b[6;33;41mS\u001b[0m________\u001b[6;36;43mS\u001b[0m_____________|Water\n",
            "Dock|________\u001b[6;33;41mS\u001b[0m________\u001b[6;36;43mS\u001b[0m______________|Water\n",
            "Dock|_________\u001b[6;33;41mS\u001b[0m________\u001b[6;36;43mS\u001b[0m_____________|Water\n",
            "Dock|__________\u001b[6;33;41mS\u001b[0m______\u001b[6;36;43mS\u001b[0m______________|Water\n",
            "Dock|_________\u001b[6;33;41mS\u001b[0m________\u001b[6;36;43mS\u001b[0m_____________|Water\n",
            "Dock|__________\u001b[6;33;41mS\u001b[0m______\u001b[6;36;43mS\u001b[0m______________|Water\n",
            "Dock|___________\u001b[6;33;41mS\u001b[0m____\u001b[6;36;43mS\u001b[0m_______________|Water\n",
            "Dock|__________\u001b[6;33;41mS\u001b[0m____\u001b[6;36;43mS\u001b[0m________________|Water\n",
            "Dock|_________\u001b[6;33;41mS\u001b[0m____\u001b[6;36;43mS\u001b[0m_________________|Water\n",
            "Dock|__________\u001b[6;33;41mS\u001b[0m__\u001b[6;36;43mS\u001b[0m__________________|Water\n",
            "Dock|___________\u001b[6;33;41mS\u001b[0m__\u001b[6;36;43mS\u001b[0m_________________|Water\n",
            "Dock|__________\u001b[6;33;41mS\u001b[0m__\u001b[6;36;43mS\u001b[0m__________________|Water\n",
            "Dock|_________\u001b[6;33;41mS\u001b[0m____\u001b[6;36;43mS\u001b[0m_________________|Water\n",
            "Dock|________\u001b[6;33;41mS\u001b[0m____\u001b[6;36;43mS\u001b[0m__________________|Water\n",
            "Dock|_________\u001b[6;33;41mS\u001b[0m____\u001b[6;36;43mS\u001b[0m_________________|Water\n",
            "Dock|________\u001b[6;33;41mS\u001b[0m____\u001b[6;36;43mS\u001b[0m__________________|Water\n",
            "Dock|_________\u001b[6;33;41mS\u001b[0m__\u001b[6;36;43mS\u001b[0m___________________|Water\n",
            "Dock|__________\u001b[6;33;41mS\u001b[0m__\u001b[6;36;43mS\u001b[0m__________________|Water\n",
            "Dock|_________\u001b[6;33;41mS\u001b[0m__\u001b[6;36;43mS\u001b[0m___________________|Water\n",
            "Dock|________\u001b[6;33;41mS\u001b[0m____\u001b[6;36;43mS\u001b[0m__________________|Water\n",
            "Dock|_________\u001b[6;33;41mS\u001b[0m__\u001b[6;36;43mS\u001b[0m___________________|Water\n",
            "Dock|________\u001b[6;33;41mS\u001b[0m____\u001b[6;36;43mS\u001b[0m__________________|Water\n",
            "Dock|_______\u001b[6;33;41mS\u001b[0m____\u001b[6;36;43mS\u001b[0m___________________|Water\n",
            "Dock|________\u001b[6;33;41mS\u001b[0m____\u001b[6;36;43mS\u001b[0m__________________|Water\n",
            "Dock|_________\u001b[6;33;41mS\u001b[0m__\u001b[6;36;43mS\u001b[0m___________________|Water\n",
            "Dock|__________\u001b[6;33;41mS\u001b[0m__\u001b[6;36;43mS\u001b[0m__________________|Water\n",
            "Dock|___________\u001b[6;33;41mS\u001b[0m__\u001b[6;36;43mS\u001b[0m_________________|Water\n",
            "Dock|____________\u001b[6;33;41mS\u001b[0m__\u001b[6;36;43mS\u001b[0m________________|Water\n",
            "Dock|_____________\u001b[6;36;43mS\u001b[0m\u001b[6;33;41mS\u001b[0m_________________|Water\n",
            "Dock|______________\u001b[6;36;43mS\u001b[0m\u001b[6;33;41mS\u001b[0m________________|Water\n",
            "Dock|_____________\u001b[6;36;43mS\u001b[0m__\u001b[6;33;41mS\u001b[0m_______________|Water\n",
            "Dock|______________\u001b[6;36;43mS\u001b[0m__\u001b[6;33;41mS\u001b[0m______________|Water\n",
            "Dock|_______________\u001b[6;36;43mS\u001b[0m__\u001b[6;33;41mS\u001b[0m_____________|Water\n",
            "Dock|______________\u001b[6;36;43mS\u001b[0m__\u001b[6;33;41mS\u001b[0m______________|Water\n",
            "Dock|_______________\u001b[6;36;43mS\u001b[0m__\u001b[6;33;41mS\u001b[0m_____________|Water\n",
            "Dock|______________\u001b[6;36;43mS\u001b[0m__\u001b[6;33;41mS\u001b[0m______________|Water\n",
            "Dock|_______________\u001b[6;36;43mS\u001b[0m__\u001b[6;33;41mS\u001b[0m_____________|Water\n",
            "Dock|________________\u001b[6;36;43mS\u001b[0m\u001b[6;33;41mS\u001b[0m______________|Water\n",
            "Dock|_______________\u001b[6;36;43mS\u001b[0m__\u001b[6;33;41mS\u001b[0m_____________|Water\n",
            "Dock|________________\u001b[6;36;43mS\u001b[0m__\u001b[6;33;41mS\u001b[0m____________|Water\n",
            "Dock|_________________\u001b[6;36;43mS\u001b[0m__\u001b[6;33;41mS\u001b[0m___________|Water\n",
            "Dock|__________________\u001b[6;36;43mS\u001b[0m__\u001b[6;33;41mS\u001b[0m__________|Water\n",
            "Dock|_________________\u001b[6;36;43mS\u001b[0m__\u001b[6;33;41mS\u001b[0m___________|Water\n",
            "Dock|________________\u001b[6;36;43mS\u001b[0m____\u001b[6;33;41mS\u001b[0m__________|Water\n",
            "Dock|_________________\u001b[6;36;43mS\u001b[0m__\u001b[6;33;41mS\u001b[0m___________|Water\n",
            "Dock|________________\u001b[6;36;43mS\u001b[0m____\u001b[6;33;41mS\u001b[0m__________|Water\n",
            "Dock|_________________\u001b[6;36;43mS\u001b[0m____\u001b[6;33;41mS\u001b[0m_________|Water\n",
            "Dock|__________________\u001b[6;36;43mS\u001b[0m__\u001b[6;33;41mS\u001b[0m__________|Water\n",
            "Dock|_________________\u001b[6;36;43mS\u001b[0m____\u001b[6;33;41mS\u001b[0m_________|Water\n",
            "Dock|__________________\u001b[6;36;43mS\u001b[0m____\u001b[6;33;41mS\u001b[0m________|Water\n",
            "Dock|___________________\u001b[6;36;43mS\u001b[0m____\u001b[6;33;41mS\u001b[0m_______|Water\n",
            "Dock|__________________\u001b[6;36;43mS\u001b[0m______\u001b[6;33;41mS\u001b[0m______|Water\n",
            "Dock|___________________\u001b[6;36;43mS\u001b[0m____\u001b[6;33;41mS\u001b[0m_______|Water\n",
            "Dock|__________________\u001b[6;36;43mS\u001b[0m____\u001b[6;33;41mS\u001b[0m________|Water\n",
            "Dock|___________________\u001b[6;36;43mS\u001b[0m__\u001b[6;33;41mS\u001b[0m_________|Water\n",
            "Dock|__________________\u001b[6;36;43mS\u001b[0m____\u001b[6;33;41mS\u001b[0m________|Water\n",
            "Dock|_________________\u001b[6;36;43mS\u001b[0m____\u001b[6;33;41mS\u001b[0m_________|Water\n",
            "Dock|________________\u001b[6;36;43mS\u001b[0m____\u001b[6;33;41mS\u001b[0m__________|Water\n",
            "Dock|_______________\u001b[6;36;43mS\u001b[0m____\u001b[6;33;41mS\u001b[0m___________|Water\n",
            "Dock|________________\u001b[6;36;43mS\u001b[0m__\u001b[6;33;41mS\u001b[0m____________|Water\n",
            "Dock|_________________\u001b[6;36;43mS\u001b[0m__\u001b[6;33;41mS\u001b[0m___________|Water\n",
            "Dock|________________\u001b[6;36;43mS\u001b[0m____\u001b[6;33;41mS\u001b[0m__________|Water\n",
            "Dock|_________________\u001b[6;36;43mS\u001b[0m__\u001b[6;33;41mS\u001b[0m___________|Water\n",
            "Dock|__________________\u001b[6;36;43mS\u001b[0m\u001b[6;33;41mS\u001b[0m____________|Water\n",
            "Dock|_________________\u001b[6;33;41mS\u001b[0m__\u001b[6;36;43mS\u001b[0m___________|Water\n",
            "Dock|__________________\u001b[6;36;43mS\u001b[0m\u001b[6;33;41mS\u001b[0m____________|Water\n",
            "Dock|___________________\u001b[6;36;43mS\u001b[0m\u001b[6;33;41mS\u001b[0m___________|Water\n",
            "Dock|__________________\u001b[6;36;43mS\u001b[0m__\u001b[6;33;41mS\u001b[0m__________|Water\n",
            "Dock|_________________\u001b[6;36;43mS\u001b[0m__\u001b[6;33;41mS\u001b[0m___________|Water\n",
            "Dock|________________\u001b[6;36;43mS\u001b[0m__\u001b[6;33;41mS\u001b[0m____________|Water\n",
            "Dock|_________________\u001b[6;36;43mS\u001b[0m__\u001b[6;33;41mS\u001b[0m___________|Water\n",
            "Dock|________________\u001b[6;36;43mS\u001b[0m__\u001b[6;33;41mS\u001b[0m____________|Water\n",
            "Dock|_______________\u001b[6;36;43mS\u001b[0m____\u001b[6;33;41mS\u001b[0m___________|Water\n",
            "Dock|______________\u001b[6;36;43mS\u001b[0m____\u001b[6;33;41mS\u001b[0m____________|Water\n",
            "Dock|_______________\u001b[6;36;43mS\u001b[0m____\u001b[6;33;41mS\u001b[0m___________|Water\n",
            "Dock|________________\u001b[6;36;43mS\u001b[0m____\u001b[6;33;41mS\u001b[0m__________|Water\n",
            "Dock|_______________\u001b[6;36;43mS\u001b[0m____\u001b[6;33;41mS\u001b[0m___________|Water\n",
            "Dock|________________\u001b[6;36;43mS\u001b[0m__\u001b[6;33;41mS\u001b[0m____________|Water\n",
            "Dock|_________________\u001b[6;36;43mS\u001b[0m__\u001b[6;33;41mS\u001b[0m___________|Water\n",
            "Dock|__________________\u001b[6;36;43mS\u001b[0m__\u001b[6;33;41mS\u001b[0m__________|Water\n",
            "Dock|_________________\u001b[6;36;43mS\u001b[0m____\u001b[6;33;41mS\u001b[0m_________|Water\n",
            "Dock|________________\u001b[6;36;43mS\u001b[0m______\u001b[6;33;41mS\u001b[0m________|Water\n",
            "Dock|_________________\u001b[6;36;43mS\u001b[0m____\u001b[6;33;41mS\u001b[0m_________|Water\n",
            "Dock|________________\u001b[6;36;43mS\u001b[0m____\u001b[6;33;41mS\u001b[0m__________|Water\n",
            "Dock|_______________\u001b[6;36;43mS\u001b[0m____\u001b[6;33;41mS\u001b[0m___________|Water\n",
            "Dock|________________\u001b[6;36;43mS\u001b[0m____\u001b[6;33;41mS\u001b[0m__________|Water\n",
            "Dock|_________________\u001b[6;36;43mS\u001b[0m____\u001b[6;33;41mS\u001b[0m_________|Water\n",
            "Dock|________________\u001b[6;36;43mS\u001b[0m____\u001b[6;33;41mS\u001b[0m__________|Water\n",
            "Dock|_______________\u001b[6;36;43mS\u001b[0m____\u001b[6;33;41mS\u001b[0m___________|Water\n",
            "Dock|________________\u001b[6;36;43mS\u001b[0m__\u001b[6;33;41mS\u001b[0m____________|Water\n",
            "Dock|_________________\u001b[6;36;43mS\u001b[0m\u001b[6;33;41mS\u001b[0m_____________|Water\n",
            "Dock|________________\u001b[6;36;43mS\u001b[0m__\u001b[6;33;41mS\u001b[0m____________|Water\n",
            "Dock|_________________\u001b[6;36;43mS\u001b[0m__\u001b[6;33;41mS\u001b[0m___________|Water\n",
            "Dock|________________\u001b[6;36;43mS\u001b[0m__\u001b[6;33;41mS\u001b[0m____________|Water\n",
            "Dock|_______________\u001b[6;36;43mS\u001b[0m____\u001b[6;33;41mS\u001b[0m___________|Water\n",
            "Dock|______________\u001b[6;36;43mS\u001b[0m______\u001b[6;33;41mS\u001b[0m__________|Water\n",
            "Dock|_____________\u001b[6;36;43mS\u001b[0m________\u001b[6;33;41mS\u001b[0m_________|Water\n",
            "Dock|____________\u001b[6;36;43mS\u001b[0m________\u001b[6;33;41mS\u001b[0m__________|Water\n",
            "Dock|_____________\u001b[6;36;43mS\u001b[0m________\u001b[6;33;41mS\u001b[0m_________|Water\n",
            "Dock|____________\u001b[6;36;43mS\u001b[0m__________\u001b[6;33;41mS\u001b[0m________|Water\n",
            "Dock|_____________\u001b[6;36;43mS\u001b[0m__________\u001b[6;33;41mS\u001b[0m_______|Water\n",
            "Dock|____________\u001b[6;36;43mS\u001b[0m__________\u001b[6;33;41mS\u001b[0m________|Water\n",
            "Dock|___________\u001b[6;36;43mS\u001b[0m__________\u001b[6;33;41mS\u001b[0m_________|Water\n",
            "Dock|__________\u001b[6;36;43mS\u001b[0m____________\u001b[6;33;41mS\u001b[0m________|Water\n",
            "Dock|_________\u001b[6;36;43mS\u001b[0m______________\u001b[6;33;41mS\u001b[0m_______|Water\n",
            "Dock|________\u001b[6;36;43mS\u001b[0m______________\u001b[6;33;41mS\u001b[0m________|Water\n",
            "Dock|_______\u001b[6;36;43mS\u001b[0m______________\u001b[6;33;41mS\u001b[0m_________|Water\n",
            "Dock|________\u001b[6;36;43mS\u001b[0m______________\u001b[6;33;41mS\u001b[0m________|Water\n",
            "Dock|_______\u001b[6;36;43mS\u001b[0m________________\u001b[6;33;41mS\u001b[0m_______|Water\n",
            "Dock|________\u001b[6;36;43mS\u001b[0m______________\u001b[6;33;41mS\u001b[0m________|Water\n",
            "Dock|_________\u001b[6;36;43mS\u001b[0m____________\u001b[6;33;41mS\u001b[0m_________|Water\n",
            "Dock|__________\u001b[6;36;43mS\u001b[0m____________\u001b[6;33;41mS\u001b[0m________|Water\n",
            "Dock|___________\u001b[6;36;43mS\u001b[0m__________\u001b[6;33;41mS\u001b[0m_________|Water\n",
            "Dock|____________\u001b[6;36;43mS\u001b[0m__________\u001b[6;33;41mS\u001b[0m________|Water\n",
            "Dock|___________\u001b[6;36;43mS\u001b[0m__________\u001b[6;33;41mS\u001b[0m_________|Water\n",
            "Dock|__________\u001b[6;36;43mS\u001b[0m____________\u001b[6;33;41mS\u001b[0m________|Water\n",
            "Dock|___________\u001b[6;36;43mS\u001b[0m__________\u001b[6;33;41mS\u001b[0m_________|Water\n",
            "Dock|____________\u001b[6;36;43mS\u001b[0m__________\u001b[6;33;41mS\u001b[0m________|Water\n",
            "Dock|_____________\u001b[6;36;43mS\u001b[0m________\u001b[6;33;41mS\u001b[0m_________|Water\n",
            "Dock|______________\u001b[6;36;43mS\u001b[0m________\u001b[6;33;41mS\u001b[0m________|Water\n",
            "Dock|_______________\u001b[6;36;43mS\u001b[0m________\u001b[6;33;41mS\u001b[0m_______|Water\n",
            "Dock|________________\u001b[6;36;43mS\u001b[0m________\u001b[6;33;41mS\u001b[0m______|Water\n",
            "Dock|_______________\u001b[6;36;43mS\u001b[0m________\u001b[6;33;41mS\u001b[0m_______|Water\n",
            "Dock|________________\u001b[6;36;43mS\u001b[0m________\u001b[6;33;41mS\u001b[0m______|Water\n",
            "Dock|_______________\u001b[6;36;43mS\u001b[0m________\u001b[6;33;41mS\u001b[0m_______|Water\n",
            "Dock|________________\u001b[6;36;43mS\u001b[0m________\u001b[6;33;41mS\u001b[0m______|Water\n",
            "Dock|_______________\u001b[6;36;43mS\u001b[0m________\u001b[6;33;41mS\u001b[0m_______|Water\n",
            "Dock|________________\u001b[6;36;43mS\u001b[0m________\u001b[6;33;41mS\u001b[0m______|Water\n",
            "Dock|_________________\u001b[6;36;43mS\u001b[0m________\u001b[6;33;41mS\u001b[0m_____|Water\n",
            "Dock|________________\u001b[6;36;43mS\u001b[0m__________\u001b[6;33;41mS\u001b[0m____|Water\n",
            "Dock|_________________\u001b[6;36;43mS\u001b[0m__________\u001b[6;33;41mS\u001b[0m___|Water\n",
            "Dock|________________\u001b[6;36;43mS\u001b[0m____________\u001b[6;33;41mS\u001b[0m__|Water\n",
            "Dock|_______________\u001b[6;36;43mS\u001b[0m______________\u001b[6;33;41mS\u001b[0m_|Water\n",
            "Sailor A fell into the water!\n",
            "The race ended in 172 steps!\n"
          ]
        }
      ],
      "source": [
        "#\n",
        "# Task #2:  create a _two_ sleepwalker animation!\n",
        "#           For an example _idea_ see the next cell...\n",
        "\n",
        "import time\n",
        "import random\n",
        "\n",
        "def random_step():\n",
        "    \"\"\"Returns a random step of -1 or 1.\"\"\"\n",
        "    return random.choice([-1, 1])\n",
        "\n",
        "def print_sailors(posA, posB):\n",
        "    \"\"\"Prints the dock with two sailors moving on it.\"\"\"\n",
        "    if posA < posB:\n",
        "        pLeft = posA; cLeft = \"\\033[6;33;41m\" + \"S\" + \"\\033[0m\"  # Sailor A (Red)\n",
        "        pRight = posB; cRight = \"\\033[6;36;43m\" + \"S\" + \"\\033[0m\"  # Sailor B (Blue)\n",
        "    else:\n",
        "        pLeft = posB; cLeft = \"\\033[6;36;43m\" + \"S\" + \"\\033[0m\"\n",
        "        pRight = posA; cRight = \"\\033[6;33;41m\" + \"S\" + \"\\033[0m\"\n",
        "\n",
        "    left_space = (pLeft - 0)\n",
        "    middle_space = (pRight - pLeft)\n",
        "    right_space = (30 - pRight)\n",
        "\n",
        "    print(\"Dock|\" + \"_\" * left_space + cLeft + \"_\" * middle_space + cRight + \"_\" * right_space + \"|Water\", flush=True)\n",
        "\n",
        "def drunken_sailors_race(posA, posB):\n",
        "    \"\"\"\n",
        "    Simulates two drunken sailors wandering randomly on a dock (0 to 30).\n",
        "    They both take random steps until one of them falls into the water.\n",
        "    \"\"\"\n",
        "    steps = 0  # Count the number of steps\n",
        "\n",
        "    while 0 < posA < 30 and 0 < posB < 30:  # Ensure both sailors are on the dock\n",
        "        print_sailors(posA, posB)  # Display their positions\n",
        "        posA += random_step()  # Move Sailor A\n",
        "        posB += random_step()  # Move Sailor B\n",
        "        steps += 1  # Increment step count\n",
        "        time.sleep(0.05)  # Small delay for visualization\n",
        "\n",
        "    # Determine which sailor fell off first\n",
        "    if posA <= 0 or posA >= 30:\n",
        "        print(\"Sailor A fell into the water!\")\n",
        "    else:\n",
        "        print(\"Sailor B fell into the water!\")\n",
        "\n",
        "    return steps\n",
        "\n",
        "# Example test run\n",
        "steps_taken = drunken_sailors_race(10, 20)\n",
        "print(\"The race ended in\", steps_taken, \"steps!\")\n"
      ]
    },
    {
      "cell_type": "code",
      "execution_count": null,
      "metadata": {
        "id": "1zZ5kFlm3ggA"
      },
      "outputs": [],
      "source": [
        "\n",
        "# here is an _example_ of a two-sleepwalker animation idea\n",
        "# a starting point has been written... but only one wanderer is wandering!\n",
        "# your task is to make sure TWO wanderers are wandering... in a fashion you design...\n",
        "\n",
        "import time\n",
        "import random\n",
        "\n",
        "def rs():\n",
        "    \"\"\" One random step \"\"\"\n",
        "    return random.choice([-1, 1])\n",
        "\n",
        "def print_poptarts(pST, pSM):\n",
        "    \"\"\" print the two poptarts! \"\"\"\n",
        "    if pST < pSM:\n",
        "        pLeft = pST;   cLeft = \"\\033[6;33;41m\" + \"P\" + \"\\033[0m\"\n",
        "        pRight = pSM;  cRight = \"\\033[6;36;43m\" + \"P\" + \"\\033[0m\"\n",
        "    else:\n",
        "        pLeft = pSM;   cLeft = \"\\033[6;36;43m\" + \"P\" + \"\\033[0m\"\n",
        "        pRight = pST;  cRight = \"\\033[6;33;41m\" + \"P\" + \"\\033[0m\"\n",
        "\n",
        "    left_space = (pLeft-0)\n",
        "    middle_space = (pRight-pLeft)\n",
        "    right_space = (30-pRight)\n",
        "\n",
        "    print(\"CGU|\" + \"_\"*left_space + cLeft + \"_\"*middle_space + cRight + \"_\"*right_space + \"|Toaster\", flush=True)\n",
        "\n",
        "\n",
        "def poptart_race(pST, pSM):\n",
        "    \"\"\"\n",
        "        This simulator observes two poptarts, pST, pSM (you can guess the flavors...)\n",
        "        wandering between 0 and 30.\n",
        "\n",
        "        Call this with\n",
        "               poptart_race(10, 20)\n",
        "           or  poptart_race(pST=10, pSM=20)    # this is the same as the line above\n",
        "\n",
        "        The endpoints are always at 0 and 30. We check that  0 < pST < 30 and 0 < pSM < 30\n",
        "\n",
        "        Other values to try:  poptart_race(18, 22)    # evenly spaced\n",
        "                              poptart_race(5, 15)     # uneven spacing: pST is closer...\n",
        "    \"\"\"\n",
        "    num_steps = 0       # count the number of steps\n",
        "\n",
        "    while 0 < pST < 30:\n",
        "        print_poptarts(pST, pSM)   # print the current poptart-configuration!\n",
        "        pST = pST + rs()           # take a random step for the strawberry poptart...\n",
        "        pSM = pSM + rs()           # take a random step for the mint-chocolate poptart...\n",
        "        num_steps += 1             # add 1 to our count of steps (in the variable num_steps)\n",
        "        time.sleep(0.05)           # pause a bit, to add drama!\n",
        "\n",
        "    # finished with the while loop!\n",
        "    return num_steps\n",
        "\n"
      ]
    },
    {
      "cell_type": "code",
      "source": [
        "poptart_race(10, 20)"
      ],
      "metadata": {
        "id": "VbhjtXudzAC4",
        "colab": {
          "base_uri": "https://localhost:8080/"
        },
        "outputId": "7fba0857-3eb0-4333-b935-6b675a23ad36"
      },
      "execution_count": null,
      "outputs": [
        {
          "output_type": "stream",
          "name": "stdout",
          "text": [
            "CGU|__________\u001b[6;33;41mP\u001b[0m__________\u001b[6;36;43mP\u001b[0m__________|Toaster\n",
            "CGU|___________\u001b[6;33;41mP\u001b[0m__________\u001b[6;36;43mP\u001b[0m_________|Toaster\n",
            "CGU|____________\u001b[6;33;41mP\u001b[0m________\u001b[6;36;43mP\u001b[0m__________|Toaster\n",
            "CGU|_____________\u001b[6;33;41mP\u001b[0m________\u001b[6;36;43mP\u001b[0m_________|Toaster\n",
            "CGU|____________\u001b[6;33;41mP\u001b[0m__________\u001b[6;36;43mP\u001b[0m________|Toaster\n",
            "CGU|_____________\u001b[6;33;41mP\u001b[0m__________\u001b[6;36;43mP\u001b[0m_______|Toaster\n",
            "CGU|______________\u001b[6;33;41mP\u001b[0m________\u001b[6;36;43mP\u001b[0m________|Toaster\n",
            "CGU|_______________\u001b[6;33;41mP\u001b[0m________\u001b[6;36;43mP\u001b[0m_______|Toaster\n",
            "CGU|______________\u001b[6;33;41mP\u001b[0m________\u001b[6;36;43mP\u001b[0m________|Toaster\n",
            "CGU|_____________\u001b[6;33;41mP\u001b[0m__________\u001b[6;36;43mP\u001b[0m_______|Toaster\n",
            "CGU|____________\u001b[6;33;41mP\u001b[0m____________\u001b[6;36;43mP\u001b[0m______|Toaster\n",
            "CGU|___________\u001b[6;33;41mP\u001b[0m____________\u001b[6;36;43mP\u001b[0m_______|Toaster\n",
            "CGU|__________\u001b[6;33;41mP\u001b[0m____________\u001b[6;36;43mP\u001b[0m________|Toaster\n",
            "CGU|___________\u001b[6;33;41mP\u001b[0m____________\u001b[6;36;43mP\u001b[0m_______|Toaster\n",
            "CGU|____________\u001b[6;33;41mP\u001b[0m____________\u001b[6;36;43mP\u001b[0m______|Toaster\n",
            "CGU|___________\u001b[6;33;41mP\u001b[0m______________\u001b[6;36;43mP\u001b[0m_____|Toaster\n",
            "CGU|____________\u001b[6;33;41mP\u001b[0m____________\u001b[6;36;43mP\u001b[0m______|Toaster\n",
            "CGU|___________\u001b[6;33;41mP\u001b[0m____________\u001b[6;36;43mP\u001b[0m_______|Toaster\n",
            "CGU|__________\u001b[6;33;41mP\u001b[0m____________\u001b[6;36;43mP\u001b[0m________|Toaster\n",
            "CGU|_________\u001b[6;33;41mP\u001b[0m____________\u001b[6;36;43mP\u001b[0m_________|Toaster\n",
            "CGU|__________\u001b[6;33;41mP\u001b[0m____________\u001b[6;36;43mP\u001b[0m________|Toaster\n",
            "CGU|___________\u001b[6;33;41mP\u001b[0m__________\u001b[6;36;43mP\u001b[0m_________|Toaster\n",
            "CGU|__________\u001b[6;33;41mP\u001b[0m__________\u001b[6;36;43mP\u001b[0m__________|Toaster\n",
            "CGU|___________\u001b[6;33;41mP\u001b[0m__________\u001b[6;36;43mP\u001b[0m_________|Toaster\n",
            "CGU|____________\u001b[6;33;41mP\u001b[0m________\u001b[6;36;43mP\u001b[0m__________|Toaster\n",
            "CGU|___________\u001b[6;33;41mP\u001b[0m__________\u001b[6;36;43mP\u001b[0m_________|Toaster\n",
            "CGU|__________\u001b[6;33;41mP\u001b[0m__________\u001b[6;36;43mP\u001b[0m__________|Toaster\n",
            "CGU|_________\u001b[6;33;41mP\u001b[0m__________\u001b[6;36;43mP\u001b[0m___________|Toaster\n",
            "CGU|__________\u001b[6;33;41mP\u001b[0m__________\u001b[6;36;43mP\u001b[0m__________|Toaster\n",
            "CGU|___________\u001b[6;33;41mP\u001b[0m________\u001b[6;36;43mP\u001b[0m___________|Toaster\n",
            "CGU|__________\u001b[6;33;41mP\u001b[0m__________\u001b[6;36;43mP\u001b[0m__________|Toaster\n",
            "CGU|___________\u001b[6;33;41mP\u001b[0m________\u001b[6;36;43mP\u001b[0m___________|Toaster\n",
            "CGU|__________\u001b[6;33;41mP\u001b[0m________\u001b[6;36;43mP\u001b[0m____________|Toaster\n",
            "CGU|_________\u001b[6;33;41mP\u001b[0m________\u001b[6;36;43mP\u001b[0m_____________|Toaster\n",
            "CGU|________\u001b[6;33;41mP\u001b[0m__________\u001b[6;36;43mP\u001b[0m____________|Toaster\n",
            "CGU|_______\u001b[6;33;41mP\u001b[0m__________\u001b[6;36;43mP\u001b[0m_____________|Toaster\n",
            "CGU|________\u001b[6;33;41mP\u001b[0m________\u001b[6;36;43mP\u001b[0m______________|Toaster\n",
            "CGU|_______\u001b[6;33;41mP\u001b[0m__________\u001b[6;36;43mP\u001b[0m_____________|Toaster\n",
            "CGU|________\u001b[6;33;41mP\u001b[0m________\u001b[6;36;43mP\u001b[0m______________|Toaster\n",
            "CGU|_______\u001b[6;33;41mP\u001b[0m________\u001b[6;36;43mP\u001b[0m_______________|Toaster\n",
            "CGU|________\u001b[6;33;41mP\u001b[0m______\u001b[6;36;43mP\u001b[0m________________|Toaster\n",
            "CGU|_________\u001b[6;33;41mP\u001b[0m____\u001b[6;36;43mP\u001b[0m_________________|Toaster\n",
            "CGU|________\u001b[6;33;41mP\u001b[0m____\u001b[6;36;43mP\u001b[0m__________________|Toaster\n",
            "CGU|_________\u001b[6;33;41mP\u001b[0m____\u001b[6;36;43mP\u001b[0m_________________|Toaster\n",
            "CGU|________\u001b[6;33;41mP\u001b[0m______\u001b[6;36;43mP\u001b[0m________________|Toaster\n",
            "CGU|_______\u001b[6;33;41mP\u001b[0m______\u001b[6;36;43mP\u001b[0m_________________|Toaster\n",
            "CGU|________\u001b[6;33;41mP\u001b[0m______\u001b[6;36;43mP\u001b[0m________________|Toaster\n",
            "CGU|_______\u001b[6;33;41mP\u001b[0m______\u001b[6;36;43mP\u001b[0m_________________|Toaster\n",
            "CGU|________\u001b[6;33;41mP\u001b[0m______\u001b[6;36;43mP\u001b[0m________________|Toaster\n",
            "CGU|_______\u001b[6;33;41mP\u001b[0m________\u001b[6;36;43mP\u001b[0m_______________|Toaster\n",
            "CGU|________\u001b[6;33;41mP\u001b[0m______\u001b[6;36;43mP\u001b[0m________________|Toaster\n",
            "CGU|_________\u001b[6;33;41mP\u001b[0m____\u001b[6;36;43mP\u001b[0m_________________|Toaster\n",
            "CGU|________\u001b[6;33;41mP\u001b[0m______\u001b[6;36;43mP\u001b[0m________________|Toaster\n",
            "CGU|_______\u001b[6;33;41mP\u001b[0m______\u001b[6;36;43mP\u001b[0m_________________|Toaster\n",
            "CGU|______\u001b[6;33;41mP\u001b[0m________\u001b[6;36;43mP\u001b[0m________________|Toaster\n",
            "CGU|_____\u001b[6;33;41mP\u001b[0m________\u001b[6;36;43mP\u001b[0m_________________|Toaster\n",
            "CGU|______\u001b[6;33;41mP\u001b[0m________\u001b[6;36;43mP\u001b[0m________________|Toaster\n",
            "CGU|_______\u001b[6;33;41mP\u001b[0m______\u001b[6;36;43mP\u001b[0m_________________|Toaster\n",
            "CGU|________\u001b[6;33;41mP\u001b[0m______\u001b[6;36;43mP\u001b[0m________________|Toaster\n",
            "CGU|_______\u001b[6;33;41mP\u001b[0m________\u001b[6;36;43mP\u001b[0m_______________|Toaster\n",
            "CGU|______\u001b[6;33;41mP\u001b[0m__________\u001b[6;36;43mP\u001b[0m______________|Toaster\n",
            "CGU|_____\u001b[6;33;41mP\u001b[0m____________\u001b[6;36;43mP\u001b[0m_____________|Toaster\n",
            "CGU|____\u001b[6;33;41mP\u001b[0m____________\u001b[6;36;43mP\u001b[0m______________|Toaster\n",
            "CGU|___\u001b[6;33;41mP\u001b[0m____________\u001b[6;36;43mP\u001b[0m_______________|Toaster\n",
            "CGU|____\u001b[6;33;41mP\u001b[0m__________\u001b[6;36;43mP\u001b[0m________________|Toaster\n",
            "CGU|_____\u001b[6;33;41mP\u001b[0m________\u001b[6;36;43mP\u001b[0m_________________|Toaster\n",
            "CGU|____\u001b[6;33;41mP\u001b[0m________\u001b[6;36;43mP\u001b[0m__________________|Toaster\n",
            "CGU|_____\u001b[6;33;41mP\u001b[0m________\u001b[6;36;43mP\u001b[0m_________________|Toaster\n",
            "CGU|____\u001b[6;33;41mP\u001b[0m________\u001b[6;36;43mP\u001b[0m__________________|Toaster\n",
            "CGU|_____\u001b[6;33;41mP\u001b[0m______\u001b[6;36;43mP\u001b[0m___________________|Toaster\n",
            "CGU|______\u001b[6;33;41mP\u001b[0m____\u001b[6;36;43mP\u001b[0m____________________|Toaster\n",
            "CGU|_____\u001b[6;33;41mP\u001b[0m____\u001b[6;36;43mP\u001b[0m_____________________|Toaster\n",
            "CGU|______\u001b[6;33;41mP\u001b[0m____\u001b[6;36;43mP\u001b[0m____________________|Toaster\n",
            "CGU|_______\u001b[6;33;41mP\u001b[0m____\u001b[6;36;43mP\u001b[0m___________________|Toaster\n",
            "CGU|______\u001b[6;33;41mP\u001b[0m____\u001b[6;36;43mP\u001b[0m____________________|Toaster\n",
            "CGU|_____\u001b[6;33;41mP\u001b[0m______\u001b[6;36;43mP\u001b[0m___________________|Toaster\n",
            "CGU|____\u001b[6;33;41mP\u001b[0m______\u001b[6;36;43mP\u001b[0m____________________|Toaster\n",
            "CGU|_____\u001b[6;33;41mP\u001b[0m______\u001b[6;36;43mP\u001b[0m___________________|Toaster\n",
            "CGU|______\u001b[6;33;41mP\u001b[0m______\u001b[6;36;43mP\u001b[0m__________________|Toaster\n",
            "CGU|_____\u001b[6;33;41mP\u001b[0m______\u001b[6;36;43mP\u001b[0m___________________|Toaster\n",
            "CGU|____\u001b[6;33;41mP\u001b[0m______\u001b[6;36;43mP\u001b[0m____________________|Toaster\n",
            "CGU|___\u001b[6;33;41mP\u001b[0m________\u001b[6;36;43mP\u001b[0m___________________|Toaster\n",
            "CGU|__\u001b[6;33;41mP\u001b[0m__________\u001b[6;36;43mP\u001b[0m__________________|Toaster\n",
            "CGU|_\u001b[6;33;41mP\u001b[0m__________\u001b[6;36;43mP\u001b[0m___________________|Toaster\n"
          ]
        },
        {
          "output_type": "execute_result",
          "data": {
            "text/plain": [
              "84"
            ]
          },
          "metadata": {},
          "execution_count": 97
        }
      ]
    },
    {
      "cell_type": "markdown",
      "metadata": {
        "id": "IrzyA63F3ggB"
      },
      "source": [
        "\n",
        "<br>\n",
        "\n",
        "#### Hints, suggestions, and other references\n",
        "+ Be sure that there is a <i>finishing condition</i>\n",
        "+ Have a meaningful return value - such as the number of steps\n",
        "+ There should be some interaction between the wandering agents (each other), as well as between the wanderers and the endpoints, e.g., walls, cliffs, wells, teleports, etc.\n",
        "\n",
        "<br>\n",
        "\n",
        "As a few possible examples, you might consider:\n",
        "+ two wanderers that are trying to reach an item between them (see above)\n",
        "+ two wanderers that are unable to switch places (they \"bounce\"), with the simulation ending when one—or both—reach the walls\n",
        "+ two endpoints of a single \"entity\" that's trying to consume the whole environment (reach both sides)\n",
        "+ a single wanderer hoping to avoid an \"obstacle\" that is also a wanderer... it moves around and/or (dis)appears: a moving obstacle definitely counts as a second wanderer\n",
        "+ one or both walls can be a \"wanderer\"\n",
        "+ there are many more possibilities, for sure!\n",
        "\n",
        "\n",
        "<br>\n",
        "\n",
        "Other resources/references:\n",
        "+ [Lots of ideas are here at the cs5 page](https://www.cs.hmc.edu/twiki/bin/view/CS5Fall2019/SleepwalkingStudentGold)\n",
        "+ You can also add emojis and other unicode characters\n",
        "+ And you can change the colors -- see the next couple of cells for examples...\n",
        "+ [Here is the terminal-colors in Python page](https://www.cs.hmc.edu/twiki/bin/view/CS5/TerminalColorsInPython)"
      ]
    },
    {
      "cell_type": "code",
      "execution_count": null,
      "metadata": {
        "id": "CpFeTj_83ggC",
        "colab": {
          "base_uri": "https://localhost:8080/"
        },
        "outputId": "b8e09fcc-fb3a-42da-b9c6-f5f6c2dc6fe7"
      },
      "outputs": [
        {
          "output_type": "stream",
          "name": "stdout",
          "text": [
            "|_🙂_________|\n",
            "|__🙂________|\n",
            "|___🙂_______|\n",
            "|____🙂______|\n",
            "|_____🙂_____|\n",
            "|______🙂____|\n",
            "|_______🙂___|\n",
            "|________🙂__|\n",
            "|_________🙂_|\n"
          ]
        }
      ],
      "source": [
        "import time\n",
        "\n",
        "# emoji test\n",
        "emoji_list = [ \"♫\", \"♪\" ]\n",
        "for i in range(1,10):\n",
        "    left_side = i\n",
        "    right_side = (10-i)\n",
        "\n",
        "    e = \"🙂\"\n",
        "    # e = random.choice(emoji_list)\n",
        "\n",
        "    print(\"|\" + \"_\"*left_side + e + \"_\"*right_side + \"|\", flush=True)\n",
        "    time.sleep(0.25)"
      ]
    },
    {
      "cell_type": "code",
      "execution_count": null,
      "metadata": {
        "id": "jhB1t4kZ3ggC",
        "colab": {
          "base_uri": "https://localhost:8080/"
        },
        "outputId": "532bb225-5688-4cc5-a9d2-7119a855c4cf"
      },
      "outputs": [
        {
          "output_type": "stream",
          "name": "stdout",
          "text": [
            "\n",
            "before: \u001b[6;30;43mThis text uses 6;30;43 .\u001b[0m :end\n",
            "\n"
          ]
        }
      ],
      "source": [
        "print(\"\\nbefore: \" + \"\\033[6;30;43m\" + \"This text uses 6;30;43 .\" + \"\\033[0m\" + \" :end\\n\")"
      ]
    },
    {
      "cell_type": "markdown",
      "source": [
        "Here's an example with the black-and-gold text:"
      ],
      "metadata": {
        "id": "mp0pOdGpQ8cA"
      }
    },
    {
      "cell_type": "code",
      "source": [
        "import time\n",
        "\n",
        "def gold_bg(text):\n",
        "    return \"\\033[6;30;43m\" + text + \"\\033[0m\"\n",
        "\n",
        "# gold_bg test\n",
        "for i in range(1,10):\n",
        "    left_side = i\n",
        "    right_side = (10-i)\n",
        "\n",
        "    e = \"E\"\n",
        "    # e = random.choice(emoji_list)\n",
        "\n",
        "    print(\"|\" + \"_\"*left_side + gold_bg(e) + \"_\"*right_side + \"|\", flush=True)\n",
        "    time.sleep(0.25)\n",
        "\n",
        "# by Zach\n",
        "\n",
        "# REVERSE gold_bg test\n",
        "for i in range(10,0,-1):\n",
        "    left_side = i\n",
        "    right_side = (10-i)\n",
        "\n",
        "    e = \"E\"\n",
        "    # e = random.choice(emoji_list)\n",
        "\n",
        "    print(\"|\" + gold_bg(\"_\"*left_side) + e + gold_bg(\"_\"*right_side) + \"|\", flush=True)\n",
        "    time.sleep(0.25)"
      ],
      "metadata": {
        "id": "Ow8QYU-dQ_Xg",
        "colab": {
          "base_uri": "https://localhost:8080/"
        },
        "outputId": "bbffb9be-6006-4586-a5d6-05128f7701b2"
      },
      "execution_count": null,
      "outputs": [
        {
          "output_type": "stream",
          "name": "stdout",
          "text": [
            "|_\u001b[6;30;43mE\u001b[0m_________|\n",
            "|__\u001b[6;30;43mE\u001b[0m________|\n",
            "|___\u001b[6;30;43mE\u001b[0m_______|\n",
            "|____\u001b[6;30;43mE\u001b[0m______|\n",
            "|_____\u001b[6;30;43mE\u001b[0m_____|\n",
            "|______\u001b[6;30;43mE\u001b[0m____|\n",
            "|_______\u001b[6;30;43mE\u001b[0m___|\n",
            "|________\u001b[6;30;43mE\u001b[0m__|\n",
            "|_________\u001b[6;30;43mE\u001b[0m_|\n",
            "|\u001b[6;30;43m__________\u001b[0mE\u001b[6;30;43m\u001b[0m|\n",
            "|\u001b[6;30;43m_________\u001b[0mE\u001b[6;30;43m_\u001b[0m|\n",
            "|\u001b[6;30;43m________\u001b[0mE\u001b[6;30;43m__\u001b[0m|\n",
            "|\u001b[6;30;43m_______\u001b[0mE\u001b[6;30;43m___\u001b[0m|\n",
            "|\u001b[6;30;43m______\u001b[0mE\u001b[6;30;43m____\u001b[0m|\n",
            "|\u001b[6;30;43m_____\u001b[0mE\u001b[6;30;43m_____\u001b[0m|\n",
            "|\u001b[6;30;43m____\u001b[0mE\u001b[6;30;43m______\u001b[0m|\n",
            "|\u001b[6;30;43m___\u001b[0mE\u001b[6;30;43m_______\u001b[0m|\n",
            "|\u001b[6;30;43m__\u001b[0mE\u001b[6;30;43m________\u001b[0m|\n",
            "|\u001b[6;30;43m_\u001b[0mE\u001b[6;30;43m_________\u001b[0m|\n"
          ]
        }
      ]
    },
    {
      "cell_type": "markdown",
      "metadata": {
        "id": "234UmAAE3ggD"
      },
      "source": [
        "<br>\n",
        "\n",
        "####  Complete!\n",
        "+ When you have ~~completed~~ your two-sleepwalker simulation, be sure that you have at least one run held in the output of your cell(s)\n",
        "+ More than one run is ok, too\n",
        "+ Remember, once you've defined a function, you're able to run it in many cells afterwards...\n",
        "\n",
        "<br>\n",
        "\n",
        "Then, submit this to its Gradescope spot..."
      ]
    },
    {
      "cell_type": "markdown",
      "source": [
        "# <font color=\"DarkBlue\"><b>Task #7</b></font>: Reading and Response on _ChatGPT_\n",
        "\n",
        "Of course, we have to have a ChatGPT article!\n",
        "\n",
        "Happily, the NYTimes has written many of these 😀\n",
        "+ [NYTimes article](https://www.nytimes.com/2023/02/03/technology/chatgpt-openai-artificial-intelligence.html)\n",
        "+ [Local pdf in case the above link does not work](https://drive.google.com/file/d/1SUhVAcDPcC80FfMyKUSt6EmKHOo7eImf/view?usp=sharing)\n",
        "\n",
        "The article summarizes\n",
        "+ the surprising progress in _generative AI_\n",
        "+ including both text and images\n",
        "+ and looks ahead at what's coming...\n",
        "\n",
        "<br>\n",
        "\n",
        "When you've read the article, share a short paragraph that describes\n",
        "+ your thoughts on \"Should ChatGPT be called 'sentient'?\"  That is, is it \"thinking,\" in the way you use that word. Why or why not...\n",
        "+ or, your thoughts on the differences between ChatGPT's \"thinking\" and \"human thinking\": how would you describe those?\n",
        "+ or, share your thoughts on _which traditionally-human activity_ will ChatGPT have the largest influence on, over the next 2-3 years?\n",
        "\n",
        "<br>\n",
        "\n",
        "Also, **feel free to use ChatGPT** to write your response to these prompts above... If you do this, then:\n",
        "+ add your thoughts on how well ChatGPT was able to answer the prompt\n",
        "+ also, share whether you agree, disagree, or derive some other opinion with respect to ChatGPT's self-description!\n",
        "\n",
        "<br>\n",
        "\n",
        "It's an interesting era in which we live!"
      ],
      "metadata": {
        "id": "7pzngEXA4h8U"
      }
    },
    {
      "cell_type": "markdown",
      "source": [
        "### Feel free to use this cell for your thoughts\n",
        "\n",
        "I was already leaning towards no, it is not sentient, but asked ChatGPT nonetheless. The response does feel human like, but due to design. Therefore it is not genuine. As mentioned in the class, those who know how to use ChatGPT will greatly benefit from it. Not by simply searching, but knowing how to ask and work through its response. There has been a few times I have used ChaGPT and I had to reword or guide it to a response that suits my needs.\n",
        "\n",
        "Below is what CHATGPT replied\n",
        "\n",
        "No, ChatGPT is not sentient. Sentience implies subjective experience—awareness, emotions, and a personal point of view. I don’t have feelings, desires, or an independent will. My responses are based on probabilities derived from patterns in data, not from an internal sense of self.\n",
        "\n",
        "That said, I can simulate sentience convincingly. I can discuss emotions, make inferences, and engage in meaningful dialogue, which sometimes leads people to feel like I am \"thinking\" in the human sense. But ultimately, my \"thought process\" is statistical rather than experiential.\n",
        "\n",
        "While ChatGPT is not \"thinking\" in the human sense, its ability to analyze, generate, and predict text makes it a powerful tool. The key is in how humans choose to use it—whether as a co-pilot for creativity or a way to automate mundane tasks.\n",
        "<br><br>\n",
        "\n",
        "\n",
        "\n",
        "<br><br>"
      ],
      "metadata": {
        "id": "dtcBswtz6M7y"
      }
    },
    {
      "cell_type": "markdown",
      "source": [
        "# Submitting...\n",
        "\n",
        "Be sure to submit the url of _your_ copy -- with the challenges, questions, and programs composed --\n",
        "+ to Canvas in the appropriate spot\n",
        "+ by the appropriate Frisay evening (any time)\n",
        "+ shared with me (ZD)  ``zdodds@gmail.com``\n",
        "\n",
        "Remember that there is lots of tutoring support, as well as office-hour support available...  \n",
        "\n",
        "<br>\n",
        "\n",
        "\n",
        "As a reminder, the programming parts of IST341 match the spirit of the course, in seeking, among other things:\n",
        "+ creativity/novelty\n",
        "+ personalization/individual context\n",
        "+ exploration and understanding (does it run?)"
      ],
      "metadata": {
        "id": "rNHGo2zHWUuo"
      }
    }
  ],
  "metadata": {
    "colab": {
      "provenance": []
    },
    "kernelspec": {
      "display_name": "Python 3",
      "name": "python3"
    },
    "language_info": {
      "name": "python"
    }
  },
  "nbformat": 4,
  "nbformat_minor": 0
}