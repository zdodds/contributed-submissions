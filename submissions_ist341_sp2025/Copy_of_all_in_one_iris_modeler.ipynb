{
  "cells": [
    {
      "cell_type": "code",
      "execution_count": null,
      "metadata": {
        "id": "e-xLewmU4p0s"
      },
      "outputs": [],
      "source": [
        "#\n",
        "# Modern modeling ~ iris_modeler:  All-in-one iris clasification via nearest neighbors\n",
        "#"
      ]
    },
    {
      "cell_type": "markdown",
      "source": [
        "## Here's our _one-cell_ version of the ML workflow <font color=\"Coral\"><b>let's start here. IST341_Participant_8</b></font> &nbsp;&nbsp; <font size=\"-2\">\"amoeba version,\" maybe</font>\n",
        "\n",
        "This is for iris classification.  You'll run ML on the births and digits!\n"
      ],
      "metadata": {
        "id": "63JmUeSP6SZQ"
      }
    },
    {
      "cell_type": "markdown",
      "source": [
        "### <b>Data reminder</b>\n",
        "\n",
        "In Colab, be sure to upload your <tt>.csv</tt> cleaned data file.\n",
        "\n",
        "For example, to run the cell below you will need the <tt>iris_cleaned.csv</tt> file -- it's [here](https://drive.google.com/drive/folders/1Qnie8N2VCdumwaFxFldJ_1iQmvtb40pZ?usp=drive_link)\n",
        "\n",
        "Download it to your machine and then upload it to Colab into the _folder_ &nbsp; icon at left."
      ],
      "metadata": {
        "id": "4cLvnvTgEIyi"
      }
    },
    {
      "cell_type": "markdown",
      "metadata": {
        "id": "-5cyeV_Y4p0t"
      },
      "source": [
        "### Iris classification via Nearest Neighbors\n",
        "\n",
        "+ Section 1: Libraries\n",
        "+ Section 2: Read the already-cleaned data  (+ view, if you wish)\n",
        "+ Section 3:  Drop any columns we don't want to use\n",
        "+ Section 4:  create COLUMNS and SPECIES variables to show we're organized + know what's happening...\n",
        "+ Section 5:  convert from pandas (spreadsheet) to numpy (array)\n",
        "+ Section 6:  define our features (X_all) and our target-to-predict (y_all)\n",
        "+ Section 7:  80/20 split into training and testing sets:  X_train and y_train, X_test and y_test\n",
        "+ Section 8:  Here's where the model-building happens!  First, we guess at the parameters (k=84)\n",
        "+ Section 9:  Let's see how our model does on the TEST data...\n",
        "+ Section 10:  Let's cross-validate to find the \"best\" value of k, best_k\n",
        "+ Section 11:  Let's build a final model + and see it!"
      ]
    },
    {
      "cell_type": "code",
      "execution_count": null,
      "metadata": {
        "id": "OKkRFq0Q4p0u",
        "colab": {
          "base_uri": "https://localhost:8080/"
        },
        "outputId": "69a44be9-f80d-4868-bb13-416eac6f5019"
      },
      "outputs": [
        {
          "output_type": "stream",
          "name": "stdout",
          "text": [
            "Predicted labels: [1. 2. 1. 1. 1. 2. 1. 1. 1. 2. 1. 2. 1. 2. 1. 1. 2. 1. 2. 2. 1. 1. 2. 2.\n",
            " 1. 1. 2. 2. 2.]\n",
            "Actual  labels  : [0. 2. 0. 1. 1. 1. 0. 0. 0. 2. 0. 2. 0. 2. 0. 0. 2. 0. 1. 1. 1. 0. 1. 1.\n",
            " 0. 0. 2. 2. 2.]\n",
            "\n",
            "Results on test set:  11 correct out of 29 total, for 37.93%\n",
            "\n",
            "best_k = 3  \n",
            "    yields the highest cv accuracy: 94.70%\n",
            "\n",
            "Created and trained a classifier named knn_model_final with best_k = 3\n"
          ]
        }
      ],
      "source": [
        "# Section 1:  Libraries\n",
        "#\n",
        "import sklearn          # if not present, use a variant of  !pip3 install -U scikit-learn\n",
        "import numpy as np      # numpy is Python's \"array\" library\n",
        "import pandas as pd     # Pandas is Python's \"data\" library (\"dataframe\" == spreadsheet)\n",
        "\n",
        "# Section 2:  Read the already-cleaned data  (+ view, if you wish)\n",
        "#\n",
        "cleaned_filename = \"iris_cleaned.csv\"     # data should be \"tidy\" already...\n",
        "df_tidy = pd.read_csv(cleaned_filename)   # can add encoding=\"utf-8\" if needed\n",
        "if False:\n",
        "    print(f\"{cleaned_filename} : file read into a pandas dataframe.\")\n",
        "    print(\"df_tidy is\\n\", df_tidy)\n",
        "    print(\"df_tidy.info() is\"); df_tidy.info()\n",
        "\n",
        "# Section 3:  Drop any columns we don't want to use\n",
        "ROW = 0\n",
        "COLUMN = 1\n",
        "df_model1 = df_tidy.drop('irisname', axis=COLUMN )\n",
        "if False:  print(\"df_model1 is\\n\", df_model1)\n",
        "\n",
        "# Section 4:  create COLUMNS and SPECIES variables to show we're organized + know what's happening...\n",
        "COLUMNS = df_model1.columns                     # int to str\n",
        "SPECIES = ['setosa','versicolor','virginica']   # int to str\n",
        "SPECIES_INDEX = { s:i for i,s in enumerate(SPECIES) }  # str to int   {'setosa':0,'versicolor':1,'virginica':2}\n",
        "COLUMNS_INDEX = { c:i for i,c in enumerate(COLUMNS) }  # str to int   {'sepallen':0,'sepalwid':1,'petallen':2, <more> }\n",
        "if False:  print(f\"{COLUMNS = } \\n {COLUMNS_INDEX = } \\n {SPECIES = } \\n {SPECIES_INDEX = }\")\n",
        "\n",
        "# Section 5:  convert from pandas (spreadsheet) to numpy (array)\n",
        "A = df_model1.to_numpy()    # yields the underlying numpy array\n",
        "A = A.astype('float64')     # make sure everything is floating-point\n",
        "NUM_ROWS, NUM_COLS = A.shape   # let's have NUM_ROWS and NUM_COLS around\n",
        "if False:  print(f\"\\nThe dataset has {NUM_ROWS} rows and {NUM_COLS} cols\")\n",
        "\n",
        "# Section 6:  define our features (X_all) and our target-to-predict (y_all)\n",
        "X_all = A[:,0:4]  # X (features) WATCH OUT! This is likely to change from model to model...\n",
        "y_all = A[:,4]    # y (labels) WATCH OUT! This is likely to change from model to model...\n",
        "if False:\n",
        "    print(f\"The labels/species are \\n {y_all} \\n \");\n",
        "    print(f\"The first few data rows are \\n {X_all[0:5,:]}\")\n",
        "\n",
        "# Section 7:  80/20 split into training and testing sets:  X_train and y_train, X_test and y_test\n",
        "from sklearn.model_selection import train_test_split      # this function splits into training + testing sets\n",
        "X_train, X_test, y_train, y_test = train_test_split(X_all, y_all, test_size=0.20)  # random_state=42 # 20% testing\n",
        "if False:\n",
        "    print(f\"training with {len(y_train)} rows;  testing with {len(y_test)} rows\\n\" )\n",
        "    print(f\"Held-out testing data... (testing data: {len(y_test)} rows)\")\n",
        "    print(f\"y_test: {y_test}\")\n",
        "    print(f\"X_test (first few rows): {X_test[0:5,:]}\\n\")\n",
        "    print(f\"Training Data used for modeling... (training data: {len(y_train)} rows)\")\n",
        "    print(f\"y_train: {y_train}\")\n",
        "    print(f\"X_train (first few rows): {X_train[0:5,:]}\")  # 5 rows\n",
        "\n",
        "# Section 8:  Here's where the model-building happens!  First, we guess at the parameters (k=84)\n",
        "from sklearn.neighbors import KNeighborsClassifier\n",
        "k = 84   # we don't know what k to use, so we guess!  (this will _not_ be a good value)\n",
        "knn_model = KNeighborsClassifier(n_neighbors=k)       # here, k is the \"k\" in kNN\n",
        "knn_model.fit(X_train, y_train)      # we train the model ... it's one line!\n",
        "if False:  print(\"Created and trained a knn classifier with k =\", k)\n",
        "\n",
        "# Section 9:  Let's see how our naive model does on the TEST data!\n",
        "predicted_labels = knn_model.predict(X_test)      # THIS IS THE KEY LINE:  predict\n",
        "actual_labels = y_test\n",
        "if True:\n",
        "    print(\"Predicted labels:\", predicted_labels)\n",
        "    print(\"Actual  labels  :\", actual_labels)\n",
        "    num_correct = sum(predicted_labels == actual_labels)\n",
        "    total = len(actual_labels)\n",
        "    print(f\"\\nResults on test set:  {num_correct} correct out of {total} total, for {num_correct*100/total:5.2f}%\\n\")\n",
        "\n",
        "# Section 10:  Let's cross-validate to find the \"best\" value of k, best_k:\n",
        "import time\n",
        "from sklearn.model_selection import cross_val_score\n",
        "all_accuracies = []\n",
        "best_k = 84  # Not correct!\n",
        "best_accuracy = 0.0  # also not correct...\n",
        "for k in range(1,85):    # Note that we are cross-validating using only our TRAINING data!\n",
        "    knn_cv_model = KNeighborsClassifier(n_neighbors=k)   # build a knn_model for every k\n",
        "    cv_scores = cross_val_score( knn_cv_model, X_train, y_train, cv=5 )  # cv=5 means 80/20\n",
        "    this_cv_accuracy = cv_scores.mean()               # mean() is numpy's built-in average function\n",
        "    if False: print(f\"k: {k:2d}  cv accuracy: {this_cv_accuracy:7.4f}\")\n",
        "    if this_cv_accuracy > best_accuracy:  # is this one better?\n",
        "        best_accuracy = this_cv_accuracy  # track the best accuracy\n",
        "        best_k = k                        # with the best k\n",
        "    all_accuracies.append(this_cv_accuracy)\n",
        "    time.sleep(0.002)   # dramatic pauses!\n",
        "if True: print(f\"best_k = {best_k}  \\n    yields the highest cv accuracy: {100*best_accuracy:5.2f}%\")  # print the best one\n",
        "\n",
        "# Section 11:  Here's where the model-building happens with the best-found parameters:\n",
        "knn_model_final = KNeighborsClassifier(n_neighbors=best_k)\n",
        "knn_model_final.fit(X_all, y_all)      # we train the model ... on _all_ the data!\n",
        "if True:  print(\"\\nCreated and trained a classifier named knn_model_final with best_k =\", best_k)\n"
      ]
    },
    {
      "cell_type": "markdown",
      "metadata": {
        "id": "z_eHbXZi4p0v"
      },
      "source": [
        "### Optional:  Let's format things more carefully..."
      ]
    },
    {
      "cell_type": "code",
      "execution_count": null,
      "metadata": {
        "id": "muTXFwO_4p0v",
        "colab": {
          "base_uri": "https://localhost:8080/"
        },
        "outputId": "c33dc891-2ae9-43ae-b39a-a6dccb669faf"
      },
      "outputs": [
        {
          "output_type": "stream",
          "name": "stdout",
          "text": [
            "The UNTUNED model results (not the final model):\n",
            "\n",
            "row   # :    predicted actual         result\n",
            "row   0 :       setosa setosa         \n",
            "row   1 :       setosa setosa         \n",
            "row   2 :       setosa setosa         \n",
            "row   3 :   versicolor versicolor     \n",
            "row   4 :       setosa setosa         \n",
            "row   5 :   versicolor setosa         incorrect\n",
            "row   6 :       setosa setosa         \n",
            "row   7 :       setosa setosa         \n",
            "row   8 :       setosa setosa         \n",
            "row   9 :       setosa setosa         \n",
            "row  10 :       setosa setosa         \n",
            "row  11 :       setosa setosa         \n",
            "row  12 :       setosa setosa         \n",
            "row  13 :   versicolor versicolor     \n",
            "row  14 :   versicolor versicolor     \n",
            "row  15 :   versicolor versicolor     \n",
            "row  16 :       setosa setosa         \n",
            "row  17 :       setosa setosa         \n",
            "row  18 :   versicolor versicolor     \n",
            "row  19 :   versicolor setosa         incorrect\n",
            "row  20 :       setosa setosa         \n",
            "row  21 :       setosa versicolor     incorrect\n",
            "row  22 :   versicolor versicolor     \n",
            "row  23 :   versicolor versicolor     \n",
            "row  24 :       setosa versicolor     incorrect\n",
            "row  25 :   versicolor versicolor     \n",
            "row  26 :       setosa versicolor     incorrect\n",
            "row  27 :       setosa setosa         \n",
            "row  28 :       setosa setosa         \n",
            "row  29 :   versicolor setosa         incorrect\n",
            "row  30 :   versicolor versicolor     \n",
            "row  31 :   versicolor setosa         incorrect\n",
            "row  32 :       setosa setosa         \n",
            "row  33 :   versicolor setosa         incorrect\n",
            "row  34 :       setosa versicolor     incorrect\n",
            "row  35 :   versicolor versicolor     \n",
            "row  36 :       setosa setosa         \n",
            "row  37 :   versicolor versicolor     \n",
            "row  38 :   versicolor versicolor     \n",
            "row  39 :       setosa setosa         \n",
            "row  40 :   versicolor versicolor     \n",
            "row  41 :   versicolor versicolor     \n",
            "row  42 :   versicolor versicolor     \n",
            "row  43 :       setosa setosa         \n",
            "row  44 :       setosa setosa         \n",
            "row  45 :       setosa versicolor     incorrect\n",
            "row  46 :   versicolor setosa         incorrect\n",
            "row  47 :       setosa versicolor     incorrect\n",
            "row  48 :   versicolor versicolor     \n",
            "row  49 :   versicolor versicolor     \n",
            "row  50 :       setosa setosa         \n",
            "row  51 :       setosa setosa         \n",
            "row  52 :   versicolor versicolor     \n",
            "row  53 :       setosa versicolor     incorrect\n",
            "row  54 :       setosa versicolor     incorrect\n",
            "row  55 :   versicolor versicolor     \n",
            "row  56 :   versicolor setosa         incorrect\n",
            "row  57 :       setosa versicolor     incorrect\n",
            "row  58 :   versicolor versicolor     \n",
            "row  59 :       setosa setosa         \n",
            "row  60 :       setosa setosa         \n",
            "row  61 :       setosa versicolor     incorrect\n",
            "row  62 :   versicolor versicolor     \n",
            "row  63 :       setosa setosa         \n",
            "row  64 :   versicolor versicolor     \n",
            "row  65 :       setosa setosa         \n",
            "row  66 :       setosa versicolor     incorrect\n",
            "row  67 :   versicolor versicolor     \n",
            "row  68 :       setosa setosa         \n",
            "row  69 :   versicolor versicolor     \n",
            "row  70 :       setosa setosa         \n",
            "row  71 :       setosa versicolor     incorrect\n",
            "row  72 :       setosa setosa         \n",
            "row  73 :       setosa setosa         \n",
            "row  74 :   versicolor versicolor     \n",
            "\n",
            "Correct: 56 out of 75\n"
          ]
        },
        {
          "output_type": "execute_result",
          "data": {
            "text/plain": [
              "56"
            ]
          },
          "metadata": {},
          "execution_count": 26
        }
      ],
      "source": [
        "#\n",
        "# Let's print things in a vertical table\n",
        "#\n",
        "\n",
        "def compare_labels(predicted_labels, actual_labels):\n",
        "    \"\"\" a more neatly formatted comparison \"\"\"\n",
        "    NUM_LABELS = len(predicted_labels)\n",
        "    num_correct = 0\n",
        "\n",
        "    print()\n",
        "    print(f'row {\"#\":>3s} : {\"predicted\":>12s} {\"actual\":<12s}   {\"result\"}')\n",
        "\n",
        "    for i in range(NUM_LABELS):\n",
        "        p = int(round(predicted_labels[i]))         # round protects from fp error\n",
        "        a = int(round(actual_labels[i]))\n",
        "        result = \"incorrect\"\n",
        "        if p == a:  # if they match,\n",
        "            result = \"\"       # no longer incorrect\n",
        "            num_correct += 1  # and we count a match!\n",
        "\n",
        "        print(f\"row {i:>3d} : {SPECIES[p]:>12s} {SPECIES[a]:<12s}   {result}\")\n",
        "\n",
        "    print()\n",
        "    print(\"Correct:\", num_correct, \"out of\", NUM_LABELS)\n",
        "    return num_correct\n",
        "\n",
        "# let's try it out!\n",
        "print(\"The UNTUNED model results (not the final model):\")\n",
        "compare_labels(predicted_labels,actual_labels)"
      ]
    },
    {
      "cell_type": "code",
      "source": [],
      "metadata": {
        "id": "FnHb2u93zRo2"
      },
      "execution_count": null,
      "outputs": []
    },
    {
      "cell_type": "markdown",
      "metadata": {
        "id": "joIIqbdY4p0v"
      },
      "source": [
        "### <b><font color=\"DodgerBlue\">We did it!</font></b>: &nbsp; Now, let's use the predictive model!\n",
        "\n",
        "We can use the predictive model to make predictions and try it out!"
      ]
    },
    {
      "cell_type": "code",
      "execution_count": null,
      "metadata": {
        "id": "HfrWYtjY4p0v",
        "colab": {
          "base_uri": "https://localhost:8080/"
        },
        "outputId": "78d3bafe-5ee8-4c04-cddb-b5ece832000c"
      },
      "outputs": [
        {
          "output_type": "stream",
          "name": "stdout",
          "text": [
            "From the Features [6.7, 3.3, 5.7, 2.1], I predict virginica\n",
            "From the Features [5.8, 2.7, 4.1, 1.0], I predict versicolor\n",
            "From the Features [4.6, 3.6, 3.0, 2.2], I predict versicolor\n",
            "From the Features [6.7, 3.3, 5.7, 2.1], I predict virginica\n",
            "From the Features [4.2, 4.2, 4.2, 4.2], I predict virginica\n",
            "From the Features [1, 42, 4.7, 3.01], I predict setosa\n"
          ]
        }
      ],
      "source": [
        "#\n",
        "# Ok!  We have our knn model, let's use it...\n",
        "#\n",
        "# ... in a data-trained predictive model (k-nearest-neighbors), using scikit-learn\n",
        "#\n",
        "# warning: this model has NOT yet been tuned to its \"best k\"\n",
        "#\n",
        "def predictive_model( Features ):\n",
        "    \"\"\" input: a list of four features\n",
        "                [ sepallen, sepalwid, petallen, petalwid ]\n",
        "        output: the predicted species of iris, from\n",
        "                  setosa (0), versicolor (1), virginica (2)\n",
        "    \"\"\"\n",
        "    our_features = np.asarray([Features])                      # extra brackets needed so it's 2d\n",
        "    predicted_species_list = knn_model_final.predict(our_features)   # PREDICT!\n",
        "\n",
        "    predicted_species = int(round(predicted_species_list[0]))  # unpack the one element it contains\n",
        "    name = SPECIES[predicted_species]                          # look up the species\n",
        "    return name\n",
        "\n",
        "#\n",
        "# Try it!\n",
        "#\n",
        "# Features = eval(input(\"Enter new Features: \"))\n",
        "#\n",
        "ListofFeatures = [ [6.7,3.3,5.7,2.1],\n",
        "                   [5.8,2.7,4.1,1.0],\n",
        "                   [4.6,3.6,3.0,2.2],\n",
        "                   [6.7,3.3,5.7,2.1],\n",
        "                   [4.2,4.2,4.2,4.2],\n",
        "                   [1,42,4.7,3.01],        # -4.7? .01?  0?\n",
        "                   ]\n",
        "\n",
        "for Features in ListofFeatures:\n",
        "    result = predictive_model( Features )\n",
        "    print(f\"From the Features {Features}, I predict {result}\")"
      ]
    },
    {
      "cell_type": "markdown",
      "metadata": {
        "id": "JozEnBeX4p0v"
      },
      "source": [
        "### This feels like an excuse to plot with seaborn..."
      ]
    },
    {
      "cell_type": "code",
      "execution_count": null,
      "metadata": {
        "id": "lph1bTZN4p0w",
        "colab": {
          "base_uri": "https://localhost:8080/",
          "height": 476
        },
        "outputId": "6796a6e8-e0ac-4f3b-9ba7-491cb407559f"
      },
      "outputs": [
        {
          "output_type": "execute_result",
          "data": {
            "text/plain": [
              "<Axes: xlabel='k_value', ylabel='accuracy'>"
            ]
          },
          "metadata": {},
          "execution_count": 5
        },
        {
          "output_type": "display_data",
          "data": {
            "text/plain": [
              "<Figure size 640x480 with 1 Axes>"
            ],
            "image/png": "[encoded data removed]"
          },
          "metadata": {}
        }
      ],
      "source": [
        "### Let's see all the accuracies!\n",
        "\n",
        "import pandas as pd\n",
        "# Let's create a pandas dataframe out of the above cell's data\n",
        "crossvalidation_df = pd.DataFrame( {\"k_value\":np.asarray(range(1,84+1)),\n",
        "                                    \"accuracy\":np.asarray(all_accuracies)}\n",
        "                                    )\n",
        "\n",
        "import seaborn as sns\n",
        "sns.set_theme(style=\"darkgrid\")\n",
        "# Plot the responses for different events and regions\n",
        "sns.lineplot(x=\"k_value\", y=\"accuracy\",  #  hue=\"region\", style=\"event\",\n",
        "             data=crossvalidation_df)"
      ]
    },
    {
      "cell_type": "markdown",
      "metadata": {
        "id": "CREM5x9P4p0w"
      },
      "source": [
        "### Let's use the \"correct value\" of k\n",
        "\n",
        "It will not always be the same, because cross-validation is randomized..."
      ]
    },
    {
      "cell_type": "markdown",
      "metadata": {
        "id": "a4DQZpP74p0x"
      },
      "source": [
        "### We're ready to deploy our \"final + best\" predictive model!"
      ]
    },
    {
      "cell_type": "code",
      "execution_count": null,
      "metadata": {
        "id": "rHfKaZHY4p0x",
        "colab": {
          "base_uri": "https://localhost:8080/"
        },
        "outputId": "89bb86d0-1447-4d4c-f9bf-9c6db12a1d3c"
      },
      "outputs": [
        {
          "output_type": "stream",
          "name": "stdout",
          "text": [
            "from the features [4.8, 3.1, 1.6, 0.2] I predict setosa \n",
            "from the features [5.7, 2.9, 4.2, 1.3] I predict versicolor \n",
            "from the features [5.8, 2.7, 5.1, 1.9] I predict virginica \n",
            "from the features [5.2, 4.1, 1.5, 0.1] I predict setosa \n",
            "from the features [5.4, 3.4, 1.5, 0.4] I predict setosa \n",
            "from the features [5.1, 2.5, 3.0, 1.1] I predict versicolor \n",
            "from the features [6.2, 2.9, 4.3, 1.3] I predict versicolor \n",
            "from the features [6.3, 3.3, 6.0, 2.5] I predict virginica \n",
            "from the features [5.7, 2.8, 4.1, 1.3] I predict versicolor \n",
            "from the features [0.0, 0.0, 0.0, 0.0] I predict setosa \n",
            "from the features [3.7, 2.8, 2.1, 0.3] I predict setosa \n"
          ]
        }
      ],
      "source": [
        "#\n",
        "# final predictive model (k-nearest-neighbor), with tuned k + ALL data incorporated\n",
        "#\n",
        "\n",
        "def predictive_model( Features, Model ):                 # to allow the input of any Model\n",
        "    \"\"\" input: a list of four features\n",
        "                [ sepallen, sepalwid, petallen, petalwid ]\n",
        "        output: the predicted species of iris, from\n",
        "                  setosa (0), versicolor (1), virginica (2)\n",
        "    \"\"\"\n",
        "    our_features = np.asarray([Features])                 # extra brackets needed for 2d\n",
        "    predicted_species = Model.predict(our_features)       # The model's prediction!\n",
        "    predicted_species = int(round(predicted_species[0]))  # unpack the extra brackets\n",
        "    return predicted_species\n",
        "\n",
        "#\n",
        "# Try it!\n",
        "#\n",
        "\n",
        "LoF = [\n",
        "[4.8, 3.1, 1.6, 0.2 ],   # actually setosa\n",
        "[5.7, 2.9, 4.2, 1.3 ],   # actually versicolor\n",
        "[5.8, 2.7, 5.1, 1.9 ],   # actually virginica\n",
        "[5.2, 4.1, 1.5, 0.1 ],   # actually setosa\n",
        "[5.4, 3.4, 1.5, 0.4 ],   # actually setosa\n",
        "[5.1, 2.5, 3.0, 1.1 ],   # actually versicolor\n",
        "[6.2, 2.9, 4.3, 1.3 ],   # actually versicolor\n",
        "[6.3, 3.3, 6.0, 2.5 ],   # actually virginica\n",
        "[5.7, 2.8, 4.1, 1.3 ],   # actually virginica  <-- almost always wrong!\n",
        "\n",
        "[0.0,0.0,0.0,0.0],               # used as a separator here\n",
        "\n",
        "[3.7, 2.8, 2.1, 0.3 ],   # let's use this for our own \"new\" iris ...\n",
        "]\n",
        "\n",
        "# run on each one:\n",
        "for Features in LoF:\n",
        "    predicted_species = predictive_model( Features, knn_model_final )  # pass in the model, too!\n",
        "    name = SPECIES[predicted_species]\n",
        "    print(f\"from the features {Features} I predict {name} \")    # Answers in the assignment..."
      ]
    },
    {
      "cell_type": "markdown",
      "metadata": {
        "id": "m5RRdK0U4p0x"
      },
      "source": [
        "### Predictive models aren't perfect!\n",
        "+ Notice that the last prediction above the [0,0,0,0] is (probably) wrong\n",
        "  + It probably predicted _versicolor_, but it was actually a _virginica_\n",
        "  + In essence, it was a _virginica_ iris that \"looked more like\" a _versicolor_ ... ***from these four features!***\n",
        "  + A botanist would use more than these four features to classify difference species...\n",
        "\n",
        "+ **Key**: Even when the modeling process runs \"perfectly,\" the models are likely to be imperfect...\n",
        "+ ... it's just that we won't know where the imperfections are -- until future observations arrive!"
      ]
    },
    {
      "cell_type": "code",
      "execution_count": null,
      "metadata": {
        "id": "HBdq5gZr4p0x"
      },
      "outputs": [],
      "source": [
        "#\n",
        "# That's it!  Welcome to the world of model-building workflows!!\n",
        "#\n",
        "#             Our prediction?  We'll be back for more ML!\n",
        "#\n",
        "# In fact, the rest of the hw is to run more ML workflows:\n",
        "# Births, Digits, another dataset, which could be Titanic, Housing, ...\n",
        "#\n",
        "# and more ML algorithms:\n",
        "# Decision Trees, Random Forests, Neural Nets\n",
        "# and, optionally, time series, recommendation systems, ..."
      ]
    },
    {
      "cell_type": "markdown",
      "metadata": {
        "id": "VQj19IJZ4p0x"
      },
      "source": [
        "### That's it! Our model is complete...\n",
        "\n",
        "... not perfect, but **complete**\n",
        "\n",
        "What does this mean?\n",
        "\n",
        "It means that the model -- the function (above) -- is ***already*** prepared to provide an output for every possible input!\n",
        "\n",
        "We can see this in a plot of the outputs for every input in the \"sepal\" plane (length vs. width) as well as the \"petal\" plane:"
      ]
    },
    {
      "cell_type": "code",
      "execution_count": null,
      "metadata": {
        "id": "7SnLKktF4p0x",
        "colab": {
          "base_uri": "https://localhost:8080/"
        },
        "outputId": "4bf29029-5b0e-4ae6-a149-e3c403ad2748"
      },
      "outputs": [
        {
          "output_type": "stream",
          "name": "stdout",
          "text": [
            "..........................................\n",
            "......................................\n",
            " [[0. 0. 0.]\n",
            " [0. 0. 0.]\n",
            " [0. 0. 0.]]\n"
          ]
        }
      ],
      "source": [
        "# we can only plot 2 dimensions at a time!\n",
        "# These two will be our constants:\n",
        "sepallen = 5.0\n",
        "sepalwid = 3.0\n",
        "# petallen =\n",
        "# petalwid =\n",
        "\n",
        "VERTICAL = np.arange(0,8,.1) # array of vertical input values\n",
        "HORIZONT = np.arange(0,8,.1) # array of horizontal input values\n",
        "PLANE = np.zeros( (len(HORIZONT),len(VERTICAL)) ) # the output array\n",
        "MODEL = knn_model_final\n",
        "\n",
        "\n",
        "col = 0\n",
        "row = 0\n",
        "for petallen in VERTICAL: # for every sepal length\n",
        "  for petalwid in HORIZONT: # for every sepal width\n",
        "    Features = [ sepallen, sepalwid, petallen, petalwid ]\n",
        "    output = predictive_model(Features,MODEL)\n",
        "    #print(f\"Input {Features} Output: {output}\")\n",
        "    PLANE[row,col] = output\n",
        "    row += 1\n",
        "  row = 0\n",
        "  col += 1\n",
        "  print(\".\", end=\"\")  # so we know it's running\n",
        "  if col % 42 == 0: print() # same...\n",
        "\n",
        "print(\"\\n\", PLANE[0:3,0:3]) # small bit of the lower-left corner"
      ]
    },
    {
      "cell_type": "code",
      "execution_count": null,
      "metadata": {
        "id": "kimuqPfz4p0x",
        "colab": {
          "base_uri": "https://localhost:8080/",
          "height": 806
        },
        "outputId": "da89d194-ee13-4fb8-9d00-57cc570d71f1"
      },
      "outputs": [
        {
          "output_type": "display_data",
          "data": {
            "text/plain": [
              "<Figure size 1200x800 with 2 Axes>"
            ],
            "image/png": "[encoded data removed]"
          },
          "metadata": {}
        },
        {
          "output_type": "stream",
          "name": "stdout",
          "text": [
            "Remember our species-to-number mapping:\n",
            "0 - setosa\n",
            "1 - versicolor\n",
            "2 - virginica\n"
          ]
        }
      ],
      "source": [
        "# Assuming 'PLANE', 'VERTICAL', and 'HORIZONT' are defined as in the original code\n",
        "\n",
        "# Create a new figure and axes\n",
        "import matplotlib.pyplot as plt\n",
        "fig, ax = plt.subplots(figsize=(12, 8))\n",
        "\n",
        "# Create the heatmap\n",
        "im = ax.imshow(PLANE, cmap=\"viridis\", extent=[HORIZONT.min(), HORIZONT.max(), VERTICAL.min(), VERTICAL.max()], origin=\"lower\", aspect=\"auto\")\n",
        "\n",
        "# Set axis labels and ticks\n",
        "ax.set_xlabel(\"petalwid\", fontsize=14)\n",
        "ax.set_ylabel(\"petallen\", fontsize=14)\n",
        "\n",
        "# Calculate the indices for reduced ticks and labels\n",
        "reduced_tick_indices = np.arange(0, len(HORIZONT), len(HORIZONT)//8)\n",
        "# Ensure that the last index is included\n",
        "# if reduced_tick_indices[-1] != len(HORIZONT)-1:\n",
        "#   reduced_tick_indices = np.append(reduced_tick_indices, len(HORIZONT)-1)\n",
        "\n",
        "\n",
        "# Set ticks and tick labels with correct values\n",
        "ax.set_xticks(HORIZONT[reduced_tick_indices]) # Display ticks every 0.4 unit\n",
        "ax.set_yticks(VERTICAL[reduced_tick_indices])\n",
        "ax.set_xticklabels([f\"{x:.1f}\" for x in HORIZONT[reduced_tick_indices]], fontsize=12)  # Format x-axis labels\n",
        "ax.set_yticklabels([f\"{y:.1f}\" for y in VERTICAL[reduced_tick_indices]], fontsize=12)  # Format y-axis labels\n",
        "\n",
        "\n",
        "# Add a colorbar\n",
        "cbar = plt.colorbar(im)\n",
        "cbar.set_label('Predicted Species (0: Setosa, 1: Versicolor, 2: Virginica)', rotation=270, labelpad=25)\n",
        "\n",
        "# Set the title\n",
        "ax.set_title(f\"Species Classification with Sepal Length: {sepallen}, Sepal Width: {sepalwid}\", fontsize=16)\n",
        "\n",
        "plt.show()\n",
        "\n",
        "print(\"Remember our species-to-number mapping:\")\n",
        "print(\"0 - setosa\")\n",
        "print(\"1 - versicolor\")\n",
        "print(\"2 - virginica\")"
      ]
    },
    {
      "cell_type": "markdown",
      "source": [
        "We've done it!\n",
        "\n",
        "Remember that the model _thinks_ it knows everything...\n",
        "\n",
        "But it's way too confident! &nbsp;&nbsp; (This seems like an AI theme...)"
      ],
      "metadata": {
        "id": "m-lCfXB2F6iY"
      }
    },
    {
      "cell_type": "markdown",
      "source": [
        "<br>\n",
        "<hr>\n",
        "<br>"
      ],
      "metadata": {
        "id": "9WH6sAIZGCsf"
      }
    },
    {
      "cell_type": "code",
      "source": [
        "# Section 1:  Libraries\n",
        "#\n",
        "import sklearn          # if not present, use a variant of  !pip3 install -U scikit-learn\n",
        "import numpy as np      # numpy is Python's \"array\" library\n",
        "import pandas as pd     # Pandas is Python's \"data\" library (\"dataframe\" == spreadsheet)\n",
        "\n",
        "# Section 2:  Read the already-cleaned data  (+ view, if you wish)\n",
        "#\n",
        "cleaned_filename = \"births.csv\"     # data should be \"tidy\" already...\n",
        "df_tidy = pd.read_csv(cleaned_filename)   # can add encoding=\"utf-8\" if needed\n",
        "if False:\n",
        "    print(f\"{cleaned_filename} : file read into a pandas dataframe.\")\n",
        "    print(\"df_tidy is\\n\", df_tidy)\n",
        "    print(\"df_tidy.info() is\"); df_tidy.info()\n",
        "df_tidy['above/below median'] = df_tidy['above/below median'].map({'below': 0, 'above': 1})\n",
        "\n",
        "# Section 3:  Drop any columns we don't want to use\n",
        "ROW = 0\n",
        "COLUMN = 0\n",
        "df_model1 = df_tidy[['month', 'day']]  # keep only these two\n",
        "if False:  print(\"df_model1 is\\n\", df_model1)\n",
        "\n",
        "# Section 4:  create COLUMNS and SPECIES variables to show we're organized + know what's happening...\n",
        "COLUMNS = df_model1.columns                     # int to str\n",
        "BIRTHS = ['below','above']   # int to str\n",
        "BIRTHS_INDEX = { s:i for i,s in enumerate(BIRTHS) }  # str to int   {'setosa':0,'versicolor':1,'virginica':2}\n",
        "COLUMNS_INDEX = { c:i for i,c in enumerate(COLUMNS) }  # str to int   {'sepallen':0,'sepalwid':1,'petallen':2, <more> }\n",
        "if False:  print(f\"{COLUMNS = } \\n {COLUMNS_INDEX = } \\n {BIRTHS = } \\n {BIRTHS_INDEX = }\")\n",
        "\n",
        "# Section 5:  convert from pandas (spreadsheet) to numpy (array)\n",
        "A = df_model1.to_numpy()    # yields the underlying numpy array\n",
        "A = A.astype('float64')     # make sure everything is floating-point\n",
        "NUM_ROWS, NUM_COLS = A.shape   # let's have NUM_ROWS and NUM_COLS around\n",
        "if False:  print(f\"\\nThe dataset has {NUM_ROWS} rows and {NUM_COLS} cols\")\n",
        "\n",
        "# Section 6:  define our features (X_all) and our target-to-predict (y_all)\n",
        "X_all = df_model1.to_numpy()\n",
        "y_all = df_tidy['above/below median'].to_numpy()\n",
        "#X_all = A[:,0:2]  # X (features) WATCH OUT! This is likely to change from model to model...\n",
        "#y_all = A[:,2]    # y (labels) WATCH OUT! This is likely to change from model to model...\n",
        "if False:\n",
        "    print(f\"The labels/species are \\n {y_all} \\n \");\n",
        "    print(f\"The first few data rows are \\n {X_all[0:5,:]}\")\n",
        "\n",
        "# Section 7:  80/20 split into training and testing sets:  X_train and y_train, X_test and y_test\n",
        "from sklearn.model_selection import train_test_split      # this function splits into training + testing sets\n",
        "X_train, X_test, y_train, y_test = train_test_split(X_all, y_all, test_size=0.20)  # random_state=42 # 20% testing\n",
        "if False:\n",
        "    print(f\"training with {len(y_train)} rows;  testing with {len(y_test)} rows\\n\" )\n",
        "    print(f\"Held-out testing data... (testing data: {len(y_test)} rows)\")\n",
        "    print(f\"y_test: {y_test}\")\n",
        "    print(f\"X_test (first few rows): {X_test[0:5,:]}\\n\")\n",
        "    print(f\"Training Data used for modeling... (training data: {len(y_train)} rows)\")\n",
        "    print(f\"y_train: {y_train}\")\n",
        "    print(f\"X_train (first few rows): {X_train[0:5,:]}\")  # 5 rows\n",
        "\n",
        "# Section 8:  Here's where the model-building happens!  First, we guess at the parameters (k=84)\n",
        "from sklearn.neighbors import KNeighborsClassifier\n",
        "k = 84   # we don't know what k to use, so we guess!  (this will _not_ be a good value)\n",
        "knn_model = KNeighborsClassifier(n_neighbors=k)       # here, k is the \"k\" in kNN\n",
        "knn_model.fit(X_train, y_train)      # we train the model ... it's one line!\n",
        "if False:  print(\"Created and trained a knn classifier with k =\", k)\n",
        "\n",
        "# Section 9:  Let's see how our naive model does on the TEST data!\n",
        "predicted_labels = knn_model.predict(X_test)      # THIS IS THE KEY LINE:  predict\n",
        "actual_labels = y_test\n",
        "if True:\n",
        "    print(\"Predicted labels:\", predicted_labels)\n",
        "    print(\"Actual  labels  :\", actual_labels)\n",
        "    num_correct = sum(predicted_labels == actual_labels)\n",
        "    total = len(actual_labels)\n",
        "    print(f\"\\nResults on test set:  {num_correct} correct out of {total} total, for {num_correct*100/total:5.2f}%\\n\")\n",
        "\n",
        "# Section 10:  Let's cross-validate to find the \"best\" value of k, best_k:\n",
        "import time\n",
        "from sklearn.model_selection import cross_val_score\n",
        "all_accuracies = []\n",
        "best_k = 84  # Not correct!\n",
        "best_accuracy = 0.0  # also not correct...\n",
        "for k in range(1,85):    # Note that we are cross-validating using only our TRAINING data!\n",
        "    knn_cv_model = KNeighborsClassifier(n_neighbors=k)   # build a knn_model for every k\n",
        "    cv_scores = cross_val_score( knn_cv_model, X_train, y_train, cv=5 )  # cv=5 means 80/20\n",
        "    this_cv_accuracy = cv_scores.mean()               # mean() is numpy's built-in average function\n",
        "    if False: print(f\"k: {k:2d}  cv accuracy: {this_cv_accuracy:7.4f}\")\n",
        "    if this_cv_accuracy > best_accuracy:  # is this one better?\n",
        "        best_accuracy = this_cv_accuracy  # track the best accuracy\n",
        "        best_k = k                        # with the best k\n",
        "    all_accuracies.append(this_cv_accuracy)\n",
        "    time.sleep(0.002)   # dramatic pauses!\n",
        "if True: print(f\"best_k = {best_k}  \\n    yields the highest cv accuracy: {100*best_accuracy:5.2f}%\")  # print the best one\n",
        "\n",
        "# Section 11:  Here's where the model-building happens with the best-found parameters:\n",
        "knn_model_final = KNeighborsClassifier(n_neighbors=best_k)\n",
        "knn_model_final.fit(X_all, y_all)      # we train the model ... on _all_ the data!\n",
        "if True:  print(\"\\nCreated and trained a classifier named knn_model_final with best_k =\", best_k)\n"
      ],
      "metadata": {
        "colab": {
          "base_uri": "https://localhost:8080/"
        },
        "id": "u7zGSDgq7rXo",
        "outputId": "c274d116-0e5e-45c7-ce12-b58b07fff445"
      },
      "execution_count": null,
      "outputs": [
        {
          "output_type": "stream",
          "name": "stdout",
          "text": [
            "Predicted labels: [0 0 0 1 0 1 0 0 0 0 0 0 0 1 1 1 0 0 1 1 0 0 1 1 0 1 0 0 0 1 1 1 0 1 0 1 0\n",
            " 1 1 0 1 1 1 0 0 0 1 0 1 1 0 0 1 0 0 1 1 0 1 0 0 0 1 0 1 0 0 1 0 1 0 0 0 0\n",
            " 1]\n",
            "Actual  labels  : [0 0 0 1 0 0 0 0 0 0 0 0 0 1 1 1 0 0 1 0 0 1 1 1 1 1 1 0 0 0 1 0 0 0 1 1 0\n",
            " 1 1 0 1 1 1 0 0 1 0 1 1 1 0 0 1 1 1 1 0 1 1 0 0 1 1 0 1 0 1 1 0 1 0 1 0 0\n",
            " 1]\n",
            "\n",
            "Results on test set:  56 correct out of 75 total, for 74.67%\n",
            "\n",
            "best_k = 5  \n",
            "    yields the highest cv accuracy: 84.82%\n",
            "\n",
            "Created and trained a classifier named knn_model_final with best_k = 5\n"
          ]
        }
      ]
    },
    {
      "cell_type": "code",
      "source": [
        "#\n",
        "# Ok!  We have our knn model, let's use it...\n",
        "#\n",
        "# ... in a data-trained predictive model (k-nearest-neighbors), using scikit-learn\n",
        "#\n",
        "# warning: this model has NOT yet been tuned to its \"best k\"\n",
        "#\n",
        "def predictive_model( Features ):\n",
        "    \"\"\" input: a list of two features\n",
        "                [ month, day]\n",
        "        output: the predicted birth, from\n",
        "                  below (0), above (1)\n",
        "    \"\"\"\n",
        "    our_features = np.asarray([Features])                      # extra brackets needed so it's 2d\n",
        "    predicted_births_list = knn_model_final.predict(our_features)   # PREDICT!\n",
        "\n",
        "    predicted_births = int(round(predicted_births_list[0]))  # unpack the one element it contains\n",
        "    name = BIRTHS[predicted_births]                          # look up the species\n",
        "    return name\n",
        "\n",
        "#\n",
        "# Try it!\n",
        "#\n",
        "# Features = eval(input(\"Enter new Features: \"))\n",
        "#\n",
        "ListofFeatures = [ [11,11],\n",
        "                   [11,10],\n",
        "                   [2,29],\n",
        "                   [1,30],\n",
        "                   [7,14],\n",
        "                   [4,30],        # -4.7? .01?  0?\n",
        "                   ]\n",
        "\n",
        "for Features in ListofFeatures:\n",
        "    result = predictive_model( Features )\n",
        "    print(f\"From the Features {Features}, I predict {result}\")"
      ],
      "metadata": {
        "colab": {
          "base_uri": "https://localhost:8080/"
        },
        "id": "AGlHpVKuAZHS",
        "outputId": "65425b6b-25aa-483f-e998-9ab96bf90f57"
      },
      "execution_count": null,
      "outputs": [
        {
          "output_type": "stream",
          "name": "stdout",
          "text": [
            "From the Features [11, 11], I predict above\n",
            "From the Features [11, 10], I predict above\n",
            "From the Features [2, 29], I predict below\n",
            "From the Features [1, 30], I predict below\n",
            "From the Features [7, 14], I predict above\n",
            "From the Features [4, 30], I predict below\n"
          ]
        }
      ]
    },
    {
      "cell_type": "code",
      "source": [
        "### Let's see all the accuracies!\n",
        "\n",
        "import pandas as pd\n",
        "# Let's create a pandas dataframe out of the above cell's data\n",
        "crossvalidation_df = pd.DataFrame( {\"k_value\":np.asarray(range(1,84+1)),\n",
        "                                    \"accuracy\":np.asarray(all_accuracies)}\n",
        "                                    )\n",
        "\n",
        "import seaborn as sns\n",
        "sns.set_theme(style=\"darkgrid\")\n",
        "# Plot the responses for different events and regions\n",
        "sns.lineplot(x=\"k_value\", y=\"accuracy\",  #  hue=\"region\", style=\"event\",\n",
        "             data=crossvalidation_df)"
      ],
      "metadata": {
        "colab": {
          "base_uri": "https://localhost:8080/",
          "height": 476
        },
        "id": "R5OraiXoFxST",
        "outputId": "a19bd63e-dc9e-43fc-be02-cb98eba35c1d"
      },
      "execution_count": null,
      "outputs": [
        {
          "output_type": "execute_result",
          "data": {
            "text/plain": [
              "<Axes: xlabel='k_value', ylabel='accuracy'>"
            ]
          },
          "metadata": {},
          "execution_count": 30
        },
        {
          "output_type": "display_data",
          "data": {
            "text/plain": [
              "<Figure size 640x480 with 1 Axes>"
            ],
            "image/png": "[encoded data removed]"
          },
          "metadata": {}
        }
      ]
    },
    {
      "cell_type": "markdown",
      "source": [
        "# Your tasks!\n",
        "\n",
        "Based on the examples above, your task is to build a kNN model (along with the tests and visualizations) for two datasets:\n",
        "\n",
        "*   the births dataset and\n",
        "*   the digits dataset\n",
        "\n",
        "<br>\n",
        "<hr>\n",
        "<br>\n",
        "\n",
        "Suggestion:  Perhaps open this notebook twice...\n",
        "\n",
        "_Then you can copy-paste-adapt the iris workflow to each new dataset!_\n",
        "\n",
        "<br>\n",
        "<hr>\n",
        "<br>\n",
        "\n",
        "As optional EC, track down another dataset of your own choosing and build a DT+RF model  \n",
        "\n",
        "Notice that this can be an excellent final project, too! 😃"
      ],
      "metadata": {
        "id": "I3IsqDaEGEPt"
      }
    },
    {
      "cell_type": "code",
      "source": [
        "# Section 1:  Libraries\n",
        "#\n",
        "import sklearn          # if not present, use a variant of  !pip3 install -U scikit-learn\n",
        "import numpy as np      # numpy is Python's \"array\" library\n",
        "import pandas as pd     # Pandas is Python's \"data\" library (\"dataframe\" == spreadsheet)\n",
        "\n",
        "# Section 2:  Read the already-cleaned data  (+ view, if you wish)\n",
        "#\n",
        "cleaned_filename = \"digits.csv\"     # data should be \"tidy\" already...\n",
        "df_tidy = pd.read_csv(cleaned_filename)   # can add encoding=\"utf-8\" if needed\n",
        "if False:\n",
        "    print(f\"{cleaned_filename} : file read into a pandas dataframe.\")\n",
        "    print(\"df_tidy is\\n\", df_tidy)\n",
        "    print(\"df_tidy.info() is\"); df_tidy.info()\n",
        "\n",
        "# Section 3:  Drop any columns we don't want to use\n",
        "columns_to_keep = [f'pix{i}' for i in range(15)] + ['actual_digit']\n",
        "df_model1 = df_tidy[columns_to_keep].copy()\n",
        "\n",
        "#ROW = 0\n",
        "#COLUMN = 0\n",
        "#df_model1 = df_tidy.drop(columns=['excerpted from http://yann.lecun.com/exdb/mnist/'])\n",
        "#df_model1 = df_tidy.drop('pix0', axis=1 )\n",
        "#if False:  print(\"df_model1 is\\n\", df_model1)\n",
        "#df_model1 = df_tidy.copy()\n",
        "\n",
        "# Section 4:  create COLUMNS and SPECIES variables to show we're organized + know what's happening...\n",
        "COLUMNS = df_model1.columns                     # int to str\n",
        "DIGITS = ['0','1', '2', '3', '4', '5', '6', '7', '8', '9']   # int to str\n",
        "DIGITS_INDEX = { s:i for i,s in enumerate(DIGITS) }  # str to int   {'setosa':0,'versicolor':1,'virginica':2}\n",
        "COLUMNS_INDEX = { c:i for i,c in enumerate(COLUMNS) }  # str to int   {'sepallen':0,'sepalwid':1,'petallen':2, <more> }\n",
        "if False:  print(f\"{COLUMNS = } \\n {COLUMNS_INDEX = } \\n {DIGITS = } \\n {DIGITS_INDEX = }\")\n",
        "\n",
        "# Section 5:  convert from pandas (spreadsheet) to numpy (array)\n",
        "A = df_model1.to_numpy()    # yields the underlying numpy array\n",
        "A = A.astype('float64')     # make sure everything is floating-point\n",
        "NUM_ROWS, NUM_COLS = A.shape   # let's have NUM_ROWS and NUM_COLS around\n",
        "if False:  print(f\"\\nThe dataset has {NUM_ROWS} rows and {NUM_COLS} cols\")\n",
        "\n",
        "# Section 6:  define our features (X_all) and our target-to-predict (y_all)\n",
        "X_all = df_model1.drop(columns=['actual_digit']).to_numpy().astype('float64')  # 64 pixel features\n",
        "y_all = df_model1['actual_digit'].to_numpy()\n",
        "#X_all = A[:,0:63]  # X (features) WATCH OUT! This is likely to change from model to model...\n",
        "#y_all = A[:,0]    # y (labels) WATCH OUT! This is likely to change from model to model...\n",
        "if False:\n",
        "    print(f\"The labels/species are \\n {y_all} \\n \");\n",
        "    print(f\"The first few data rows are \\n {X_all[0:5,:]}\")\n",
        "\n",
        "# Section 7:  80/20 split into training and testing sets:  X_train and y_train, X_test and y_test\n",
        "from sklearn.model_selection import train_test_split      # this function splits into training + testing sets\n",
        "X_train, X_test, y_train, y_test = train_test_split(X_all, y_all, test_size=0.20)  # random_state=42 # 20% testing\n",
        "if False:\n",
        "    print(f\"training with {len(y_train)} rows;  testing with {len(y_test)} rows\\n\" )\n",
        "    print(f\"Held-out testing data... (testing data: {len(y_test)} rows)\")\n",
        "    print(f\"y_test: {y_test}\")\n",
        "    print(f\"X_test (first few rows): {X_test[0:5,:]}\\n\")\n",
        "    print(f\"Training Data used for modeling... (training data: {len(y_train)} rows)\")\n",
        "    print(f\"y_train: {y_train}\")\n",
        "    print(f\"X_train (first few rows): {X_train[0:5,:]}\")  # 5 rows\n",
        "\n",
        "# Section 8:  Here's where the model-building happens!  First, we guess at the parameters (k=84)\n",
        "from sklearn.neighbors import KNeighborsClassifier\n",
        "k = 84   # we don't know what k to use, so we guess!  (this will _not_ be a good value)\n",
        "knn_model = KNeighborsClassifier(n_neighbors=k)       # here, k is the \"k\" in kNN\n",
        "knn_model.fit(X_train, y_train)      # we train the model ... it's one line!\n",
        "if False:  print(\"Created and trained a knn classifier with k =\", k)\n",
        "\n",
        "# Section 9:  Let's see how our naive model does on the TEST data!\n",
        "predicted_labels = knn_model.predict(X_test)      # THIS IS THE KEY LINE:  predict\n",
        "actual_labels = y_test\n",
        "if True:\n",
        "    print(\"Predicted labels:\", predicted_labels)\n",
        "    print(\"Actual  labels  :\", actual_labels)\n",
        "    num_correct = sum(predicted_labels == actual_labels)\n",
        "    total = len(actual_labels)\n",
        "    print(f\"\\nResults on test set:  {num_correct} correct out of {total} total, for {num_correct*100/total:5.2f}%\\n\")\n",
        "\n",
        "# Section 10:  Let's cross-validate to find the \"best\" value of k, best_k:\n",
        "import time\n",
        "from sklearn.model_selection import cross_val_score\n",
        "all_accuracies = []\n",
        "best_k = 84  # Not correct!\n",
        "best_accuracy = 0.0  # also not correct...\n",
        "for k in range(1,85):    # Note that we are cross-validating using only our TRAINING data!\n",
        "    knn_cv_model = KNeighborsClassifier(n_neighbors=k)   # build a knn_model for every k\n",
        "    cv_scores = cross_val_score( knn_cv_model, X_train, y_train, cv=5 )  # cv=5 means 80/20\n",
        "    this_cv_accuracy = cv_scores.mean()               # mean() is numpy's built-in average function\n",
        "    if False: print(f\"k: {k:2d}  cv accuracy: {this_cv_accuracy:7.4f}\")\n",
        "    if this_cv_accuracy > best_accuracy:  # is this one better?\n",
        "        best_accuracy = this_cv_accuracy  # track the best accuracy\n",
        "        best_k = k                        # with the best k\n",
        "    all_accuracies.append(this_cv_accuracy)\n",
        "    time.sleep(0.002)   # dramatic pauses!\n",
        "if True: print(f\"best_k = {best_k}  \\n    yields the highest cv accuracy: {100*best_accuracy:5.2f}%\")  # print the best one\n",
        "\n",
        "# Section 11:  Here's where the model-building happens with the best-found parameters:\n",
        "knn_model_final = KNeighborsClassifier(n_neighbors=best_k)\n",
        "knn_model_final.fit(X_all, y_all)      # we train the model ... on _all_ the data!\n",
        "if True:  print(\"\\nCreated and trained a classifier named knn_model_final with best_k =\", best_k)\n"
      ],
      "metadata": {
        "colab": {
          "base_uri": "https://localhost:8080/"
        },
        "id": "55WadSqRGnLi",
        "outputId": "7f6500d7-9cd3-4757-f802-01ca6efdbf47"
      },
      "execution_count": null,
      "outputs": [
        {
          "output_type": "stream",
          "name": "stdout",
          "text": [
            "Predicted labels: [9 7 7 3 6 1 0 5 0 4 7 2 3 9 4 1 7 5 7 6 9 6 5 4 8 1 6 0 6 9 0 7 7 5 7 5 9\n",
            " 3 6 3 6 6 8 2 6 7 1 3 6 7 0 7 4 1 1 7 3 0 7 4 2 4 0 6 4 4 5 1 3 8 7 8 1 5\n",
            " 5 7 0 6 1 0 5 3 0 7 2 8 4 6 9 0 4 5 6 3 5 0 0 2 4 7 0 7 8 1 5 1 1 3 3 3 6\n",
            " 6 9 4 6 0 3 0 6 8 1 4 6 1 9 6 6 7 1 4 0 0 3 5 6 8 3 0 7 0 4 2 2 7 2 2 5 4\n",
            " 3 3 1 9 7 0 3 2 7 2 7 8 5 7 0 1 1 2 3 0 2 0 5 6 3 6 8 0 2 1 1 3 8 3 0 6 1\n",
            " 7 6 2 6 6 5 2 6 5 1 7 2 9 7 7 0 3 1 5 4 3 9 6 2 3 1 4 7 0 7 8 6 6 0 9 1 0\n",
            " 6 0 1 2 4 5 8 6 6 9 1 6 0 3 0 0 2 0 4 0 9 8 9 2 0 3 6 0 7 0 2 4 7 3 3 8 5\n",
            " 0 2 5 0 0 0 1 7 7 0 4 3 5 6 1 0 1 1 1 0 6 9 5 2 4 6 2 0 9 0 4 8 2 6 8 1 1\n",
            " 2 1 8 3 7 0 6 0 0 0 1 6 0 5 0 0 2 7 2 0 7 0 7 1 5 6 5 6 5 2 2 2 7 3 5 3 9\n",
            " 0 6 4 8 4 3 2 3 7 2 3 5 4 3 6 7 9 5 1 6 6]\n",
            "Actual  labels  : [9 7 3 3 1 9 0 5 0 6 7 3 3 8 4 1 3 5 9 6 0 4 5 4 0 2 4 0 6 9 9 9 5 5 7 5 9\n",
            " 3 0 8 6 6 8 7 6 7 1 3 6 8 0 7 4 1 1 3 9 0 7 4 3 4 2 1 4 4 5 1 3 0 1 7 1 5\n",
            " 5 7 0 6 0 1 5 3 0 7 2 3 6 6 3 0 4 5 1 3 5 0 0 2 6 8 3 9 3 1 5 1 1 3 8 2 6\n",
            " 1 9 4 6 0 3 0 4 8 1 4 6 7 3 1 6 7 1 4 0 9 0 5 6 8 7 0 7 0 4 8 2 7 2 2 5 6\n",
            " 3 3 2 9 5 2 0 7 3 2 7 8 5 7 0 1 1 2 8 2 2 1 5 6 2 6 8 0 2 1 1 3 8 8 8 1 1\n",
            " 7 6 2 4 6 5 2 6 5 1 7 2 8 5 5 0 7 1 1 1 2 9 6 9 8 1 0 7 3 9 8 6 1 0 3 7 8\n",
            " 4 9 1 3 4 8 8 6 6 9 1 6 0 3 0 0 2 9 4 2 3 9 9 2 9 3 6 0 7 0 3 4 7 8 9 0 5\n",
            " 9 2 5 0 9 2 1 3 7 0 4 0 5 6 1 0 1 1 2 7 4 8 5 2 6 6 2 8 9 1 4 0 2 5 8 9 1\n",
            " 9 1 0 0 7 8 4 0 9 2 2 5 1 5 0 0 7 8 2 0 8 0 7 1 5 6 5 6 5 2 1 8 8 3 5 3 3\n",
            " 0 6 6 9 4 3 0 7 3 3 3 5 4 2 6 7 9 0 0 6 6]\n",
            "\n",
            "Results on test set:  219 correct out of 354 total, for 61.86%\n",
            "\n",
            "best_k = 11  \n",
            "    yields the highest cv accuracy: 63.37%\n",
            "\n",
            "Created and trained a classifier named knn_model_final with best_k = 11\n"
          ]
        }
      ]
    },
    {
      "cell_type": "code",
      "source": [
        "#\n",
        "# Ok!  We have our knn model, let's use it...\n",
        "#\n",
        "# ... in a data-trained predictive model (k-nearest-neighbors), using scikit-learn\n",
        "#\n",
        "# warning: this model has NOT yet been tuned to its \"best k\"\n",
        "#\n",
        "def predictive_model( Features ):\n",
        "    \"\"\" input: a list of two features\n",
        "                [ month, day]\n",
        "        output: the predicted birth, from\n",
        "                  below (0), above (1)\n",
        "    \"\"\"\n",
        "    our_features = np.asarray([Features])                      # extra brackets needed so it's 2d\n",
        "    predicted_digits_list = knn_model_final.predict(our_features)   # PREDICT!\n",
        "\n",
        "    predicted_digits = int(round(predicted_digits_list[0]))  # unpack the one element it contains\n",
        "    name = DIGITS[predicted_digits]                          # look up the species\n",
        "    return name\n",
        "\n",
        "#\n",
        "# Try it!\n",
        "#\n",
        "# Features = eval(input(\"Enter new Features: \"))\n",
        "#\n",
        "ListofFeatures = [ [11,11,9,1,3,4,5,6,7,8,10,0,1,4,5],\n",
        "                   [11,10,9,1,3,4,5,6,7,8,10,0,1,4,5],\n",
        "                   [2,29,9,1,3,4,5,6,7,8,10,0,1,4,5],\n",
        "                   [2,29,0,0,1,0,5,5,7,8,10,0,1,4,5],\n",
        "                   [7,14,9,1,3,4,5,6,7,8,10,0,1,4,5],\n",
        "                   [1,30,0,0,1,0,5,5,7,8,10,0,1,4,5],        # -4.7? .01?  0?\n",
        "                   [7,14,16,0,1,0,5,5,7,8,10,0,1,4,5],\n",
        "                   [1,30,16,0,1,0,5,5,7,8,10,0,1,4,5],\n",
        "                   [4,30,0,0,0,0,16,9,8,10,0,6,6,16,1],        # -4.7? .01?  0?\n",
        "                   ]\n",
        "\n",
        "for Features in ListofFeatures:\n",
        "    result = predictive_model( Features )\n",
        "    print(f\"From the Features {Features}, I predict {result}\")"
      ],
      "metadata": {
        "colab": {
          "base_uri": "https://localhost:8080/"
        },
        "id": "Xjd2GuQvX8am",
        "outputId": "8283f6b4-d549-43aa-934a-3d455354f60d"
      },
      "execution_count": null,
      "outputs": [
        {
          "output_type": "stream",
          "name": "stdout",
          "text": [
            "From the Features [11, 11, 9, 1, 3, 4, 5, 6, 7, 8, 10, 0, 1, 4, 5], I predict 8\n",
            "From the Features [11, 10, 9, 1, 3, 4, 5, 6, 7, 8, 10, 0, 1, 4, 5], I predict 8\n",
            "From the Features [2, 29, 9, 1, 3, 4, 5, 6, 7, 8, 10, 0, 1, 4, 5], I predict 8\n",
            "From the Features [2, 29, 0, 0, 1, 0, 5, 5, 7, 8, 10, 0, 1, 4, 5], I predict 6\n",
            "From the Features [7, 14, 9, 1, 3, 4, 5, 6, 7, 8, 10, 0, 1, 4, 5], I predict 8\n",
            "From the Features [1, 30, 0, 0, 1, 0, 5, 5, 7, 8, 10, 0, 1, 4, 5], I predict 6\n",
            "From the Features [7, 14, 16, 0, 1, 0, 5, 5, 7, 8, 10, 0, 1, 4, 5], I predict 8\n",
            "From the Features [1, 30, 16, 0, 1, 0, 5, 5, 7, 8, 10, 0, 1, 4, 5], I predict 2\n",
            "From the Features [4, 30, 0, 0, 0, 0, 16, 9, 8, 10, 0, 6, 6, 16, 1], I predict 1\n"
          ]
        }
      ]
    },
    {
      "cell_type": "code",
      "source": [
        "### Let's see all the accuracies!\n",
        "\n",
        "import pandas as pd\n",
        "# Let's create a pandas dataframe out of the above cell's data\n",
        "crossvalidation_df = pd.DataFrame( {\"k_value\":np.asarray(range(1,84+1)),\n",
        "                                    \"accuracy\":np.asarray(all_accuracies)}\n",
        "                                    )\n",
        "\n",
        "import seaborn as sns\n",
        "sns.set_theme(style=\"darkgrid\")\n",
        "# Plot the responses for different events and regions\n",
        "sns.lineplot(x=\"k_value\", y=\"accuracy\",  #  hue=\"region\", style=\"event\",\n",
        "             data=crossvalidation_df)"
      ],
      "metadata": {
        "colab": {
          "base_uri": "https://localhost:8080/",
          "height": 476
        },
        "id": "VMHzW0n1eJyL",
        "outputId": "f83fb642-223a-4b6e-d4e9-9659db88abd5"
      },
      "execution_count": null,
      "outputs": [
        {
          "output_type": "execute_result",
          "data": {
            "text/plain": [
              "<Axes: xlabel='k_value', ylabel='accuracy'>"
            ]
          },
          "metadata": {},
          "execution_count": 16
        },
        {
          "output_type": "display_data",
          "data": {
            "text/plain": [
              "<Figure size 640x480 with 1 Axes>"
            ],
            "image/png": "[encoded data removed]"
          },
          "metadata": {}
        }
      ]
    }
  ],
  "metadata": {
    "kernelspec": {
      "display_name": "Python 3.10.2 64-bit",
      "language": "python",
      "name": "python3"
    },
    "language_info": {
      "codemirror_mode": {
        "name": "ipython",
        "version": 3
      },
      "file_extension": ".py",
      "mimetype": "text/x-python",
      "name": "python",
      "nbconvert_exporter": "python",
      "pygments_lexer": "ipython3",
      "version": "3.12.1"
    },
    "vscode": {
      "interpreter": {
        "hash": "292543b5c4ab753101a1f76b3f35b135c08826e5ad03d467bb949663c9544fbe"
      }
    },
    "colab": {
      "provenance": []
    }
  },
  "nbformat": 4,
  "nbformat_minor": 0
}