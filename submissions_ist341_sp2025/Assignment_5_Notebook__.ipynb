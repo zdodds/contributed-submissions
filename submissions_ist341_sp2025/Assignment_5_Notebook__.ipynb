{
  "cells": [
    {
      "cell_type": "markdown",
      "metadata": {
        "id": "UrkiOTiDEjwp"
      },
      "source": [
        "# IST 341: Hi, everyone!\n",
        "\n",
        "### Assignment <u>5</u> Notebook: &nbsp; _For Lists_\n",
        "\n",
        "... and for the win, since _For Lists_ are Python's \"best feature\"\n",
        "\n",
        "Featuring:\n",
        "+ _For Lists_, aka _List Comprehensions_\n",
        "+ the <tt>for</tt> syntax, used for looping\n",
        "+ _Applications_: lots!\n",
        "  + functions of many sorts\n",
        "  + estimating pi-from-pie (well, pi-from-circles-and-darts!) and other simulations...\n",
        "  + incorporating <tt>libraries</tt> into our code! Here, it's <tt>requests</tt> (Yay!)\n",
        "+ plus, there is a reading-with-response that invites thinking about _algorithmic fairness and bias_\n",
        "  + a topic that is _increasingly_ important -- and pertinent!"
      ]
    },
    {
      "cell_type": "markdown",
      "metadata": {
        "id": "NoXM4SE7QVPh"
      },
      "source": [
        "### <font color=\"FireBrick\"><b>Overview of this week's Python Notebook</b> (this notebook)</font>\n",
        "\n",
        "**Last week** introduced the \"first-rest\" pattern that\n",
        "+ composed functions to \"process one element\" and then \"continue the process...\"\n",
        "+ this was a starting example of using loops\n",
        "\n",
        "<br>\n",
        "\n",
        "**This week** we emphasize lists and <tt>for</tt> syntax:\n",
        "+ Together, these _\"For Lists\"_ are elegant and powerful\n",
        "+ Python's official name for them is _List Comprehensions_\n",
        "+ They expand the power and variety of simulation-and-analysis that we can take on ...\n",
        "+ Plus, remember that the _next_ assignment will be a **Looping** challenge that uses [PythonBat](https://codingbat.com/python)\n",
        "  + You won't put the PythonBat functions into a notebook...\n",
        "\n",
        "<br>\n",
        "\n",
        "Let's dive in!"
      ]
    },
    {
      "cell_type": "markdown",
      "metadata": {
        "id": "M7dzL4m4fPYf"
      },
      "source": [
        "### <font color=\"DodgerBlue\"><b>Make your own copy of this notebook (as in each week)</b></font>\n",
        "\n",
        "**Submitting** -- When you're ready to submit, be sure to\n",
        "+ **share** the notebook with me at\n",
        "   + `zdodds@gmail.com`\n",
        "+ and also **submit** the url to your notebook at the appropriate spot on Canvas\n",
        "\n",
        "That makes it easiest to read and run!"
      ]
    },
    {
      "cell_type": "markdown",
      "metadata": {
        "id": "avPkcx0jJrJG"
      },
      "source": [
        "# Lists!\n",
        "\n",
        "We have done a lot with strings so far, but there is an even more general sequence datatype: **lists**.  \n",
        "\n",
        "This week, we will emphasize lists, starting with five built-in functions:\n",
        "+ ``len(L)`` returns the length of a list ``L``\n",
        "+ ``max(L)`` returns ``L``'s largest element and ``min`` returns ``L``'s smallest element\n",
        "+ ``sum(L)`` adds up all of the elements (if they're numbers; if not, it's an error)\n",
        "+ ``range(low,hi)`` creates lists from ``low`` up to but not including ``hi``\n",
        "\n",
        "Try them out:"
      ]
    },
    {
      "cell_type": "code",
      "execution_count": null,
      "metadata": {
        "id": "b-rEnj4lKyNc",
        "colab": {
          "base_uri": "https://localhost:8080/"
        },
        "outputId": "88e3a6dc-4603-474a-f3f2-a6de5ed63026"
      },
      "outputs": [
        {
          "output_type": "stream",
          "name": "stdout",
          "text": [
            "len(L) is 6\n"
          ]
        }
      ],
      "source": [
        "L = [ 'CGU', 'CMC', 'PIT', 'SCR', 'POM', 'HMC' ]\n",
        "print(\"len(L) is\", len(L))     # just for fun, try max and min of this L:  We win! (Why?!)"
      ]
    },
    {
      "cell_type": "code",
      "execution_count": null,
      "metadata": {
        "id": "AAp1PLczK_JE",
        "colab": {
          "base_uri": "https://localhost:8080/"
        },
        "outputId": "647fcc7b-d11c-4a50-8dc7-c91f9e45dcdb"
      },
      "outputs": [
        {
          "output_type": "stream",
          "name": "stdout",
          "text": [
            "max(L) is 40\n",
            "min(L) is 1\n",
            "sum(L) is 46\n"
          ]
        }
      ],
      "source": [
        "L = [1, 2, 40, 3 ]\n",
        "print(\"max(L) is\", max(L))\n",
        "print(\"min(L) is\", min(L))\n",
        "print(\"sum(L) is\", sum(L))"
      ]
    },
    {
      "cell_type": "code",
      "execution_count": null,
      "metadata": {
        "id": "dsXFyTKxLj_w",
        "colab": {
          "base_uri": "https://localhost:8080/"
        },
        "outputId": "6d2e4697-62b3-4641-c53f-fd27564f7c23"
      },
      "outputs": [
        {
          "output_type": "stream",
          "name": "stdout",
          "text": [
            "L is range(1, 43)\n"
          ]
        }
      ],
      "source": [
        "L = range(1,43)\n",
        "print(\"L is\", L)   # Uh oh... it won't create the list unless we tell it to..."
      ]
    },
    {
      "cell_type": "code",
      "execution_count": null,
      "metadata": {
        "id": "dy9qf_d3MEzf",
        "colab": {
          "base_uri": "https://localhost:8080/"
        },
        "outputId": "4b264cef-61ae-442e-ecdc-ecbe941131ac"
      },
      "outputs": [
        {
          "output_type": "stream",
          "name": "stdout",
          "text": [
            "L is [1, 2, 3, 4, 5, 6, 7, 8, 9, 10, 11, 12, 13, 14, 15, 16, 17, 18, 19, 20, 21, 22, 23, 24, 25, 26, 27, 28, 29, 30, 31, 32, 33, 34, 35, 36, 37, 38, 39, 40, 41, 42, 43, 44, 45, 46, 47, 48, 49, 50, 51, 52, 53, 54, 55, 56, 57, 58, 59, 60, 61, 62, 63, 64, 65, 66, 67, 68, 69, 70, 71, 72, 73, 74, 75, 76, 77, 78, 79, 80, 81, 82, 83, 84, 85, 86, 87, 88, 89, 90, 91, 92, 93, 94, 95, 96, 97, 98, 99, 100, 101, 102, 103, 104, 105, 106, 107, 108, 109, 110, 111, 112, 113, 114, 115, 116, 117, 118, 119, 120, 121, 122, 123, 124, 125, 126, 127, 128, 129, 130, 131, 132, 133, 134, 135, 136, 137, 138, 139, 140, 141, 142, 143, 144, 145, 146, 147, 148, 149, 150, 151, 152, 153, 154, 155, 156, 157, 158, 159, 160, 161, 162, 163, 164, 165, 166, 167, 168, 169, 170, 171, 172, 173, 174, 175, 176, 177, 178, 179, 180, 181, 182, 183, 184, 185, 186, 187, 188, 189, 190, 191, 192, 193, 194, 195, 196, 197, 198, 199, 200, 201, 202, 203, 204, 205, 206, 207, 208, 209, 210, 211, 212, 213, 214, 215, 216, 217, 218, 219, 220, 221, 222, 223, 224, 225, 226, 227, 228, 229, 230, 231, 232, 233, 234, 235, 236, 237, 238, 239, 240, 241, 242, 243, 244, 245, 246, 247, 248, 249, 250, 251, 252, 253, 254, 255, 256, 257, 258, 259, 260, 261, 262, 263, 264, 265, 266, 267, 268, 269, 270, 271, 272, 273, 274, 275, 276, 277, 278, 279, 280, 281, 282, 283, 284, 285, 286, 287, 288, 289, 290, 291, 292, 293, 294, 295, 296, 297, 298, 299, 300, 301, 302, 303, 304, 305, 306, 307, 308, 309, 310, 311, 312, 313, 314, 315, 316, 317, 318, 319, 320, 321, 322, 323, 324, 325, 326, 327, 328, 329, 330, 331, 332, 333, 334, 335, 336, 337, 338, 339, 340, 341, 342, 343, 344, 345, 346, 347, 348, 349, 350, 351, 352, 353, 354, 355, 356, 357, 358, 359, 360, 361, 362, 363, 364, 365, 366]\n"
          ]
        }
      ],
      "source": [
        "L = list(range(1,367))  # ask it to create the list values...\n",
        "print(\"L is\", L)  # Aha!"
      ]
    },
    {
      "cell_type": "code",
      "execution_count": null,
      "metadata": {
        "id": "O8OF1BjrMR70",
        "colab": {
          "base_uri": "https://localhost:8080/"
        },
        "outputId": "fd83c265-0230-4425-b1a3-cb37294a389c"
      },
      "outputs": [
        {
          "output_type": "stream",
          "name": "stdout",
          "text": [
            "max(L) is 366\n"
          ]
        }
      ],
      "source": [
        "print(\"max(L) is\", max(L))    # ... up to but _not_ including the endpoint!"
      ]
    },
    {
      "cell_type": "markdown",
      "metadata": {
        "id": "ZJdyu1n5Mgzm"
      },
      "source": [
        "Nice! &nbsp; Let's put lists to work!\n",
        "\n",
        "<br>\n",
        "\n",
        "### <font color=\"Coral\"><b>Task #1</b></font>: Adding from 1 to 100...\n",
        "\n",
        "In the cell below, combine some of the list functions above to add up all of the numbers from 1 to 100 and print the result.\n",
        "\n",
        "Be sure to _include_ the number 100 in your addition! (What will this require...?!)\n"
      ]
    },
    {
      "cell_type": "code",
      "execution_count": null,
      "metadata": {
        "id": "LEDEazbCNCb5",
        "colab": {
          "base_uri": "https://localhost:8080/"
        },
        "outputId": "742ad98b-ba43-4d35-ee4b-e4a7bfe186d1"
      },
      "outputs": [
        {
          "output_type": "stream",
          "name": "stdout",
          "text": [
            "5050\n"
          ]
        }
      ],
      "source": [
        "#\n",
        "# Gauss's number: adding from 1 to 100\n",
        "#\n",
        "\n",
        "L = list(range(1, 101))\n",
        "total = sum(L)\n",
        "print(total)\n"
      ]
    },
    {
      "cell_type": "markdown",
      "metadata": {
        "id": "6GlAqoGFNZJg"
      },
      "source": [
        "Now, let's _add_ another powerful element: the ``for`` keyword:"
      ]
    },
    {
      "cell_type": "markdown",
      "metadata": {
        "id": "9BqFJ1etLRzR"
      },
      "source": [
        "# <b>Example</b>:  ``vwl_once(c) and vwl_all(s)``\n",
        "\n",
        "In last week's notebook, you used ``vwl_once`` and ``vwl_all``:\n",
        "+ ``vwl_once`` scored a vowel as a ``1``, other characters as ``0``\n",
        "+ ``vwl_all`` used ``vwl_once`` to count all vowles in an input string\n",
        "\n",
        "Here is ``vwl_once(c)``. Be sure to run it:\n"
      ]
    },
    {
      "cell_type": "code",
      "execution_count": null,
      "metadata": {
        "id": "1krVLOH0HQsC",
        "colab": {
          "base_uri": "https://localhost:8080/"
        },
        "outputId": "49c6e215-64fd-4599-c909-cff3ed8b16c8"
      },
      "outputs": [
        {
          "output_type": "stream",
          "name": "stdout",
          "text": [
            "vwl_once('a') should be 1 <-> 1\n",
            "vwl_once('b') should be 0 <-> 0\n"
          ]
        }
      ],
      "source": [
        "# single-character substitution:\n",
        "\n",
        "def vwl_once(c):\n",
        "  \"\"\" vwl_once returns 1 for a single vowel, 0 otherwise\n",
        "  \"\"\"\n",
        "  if c in 'aeiou': return 1\n",
        "  else: return 0\n",
        "\n",
        "# two tests:\n",
        "print(\"vwl_once('a') should be 1 <->\", vwl_once('a'))\n",
        "print(\"vwl_once('b') should be 0 <->\", vwl_once('b'))"
      ]
    },
    {
      "cell_type": "markdown",
      "metadata": {
        "id": "_PtRB7aiHDc4"
      },
      "source": [
        "This week, we will use a different approach to ``vwl_all``\n",
        "+ The next cell has an example of a _For List_, or _List Comprehension_.\n",
        "+ Try it!\n",
        "+ See if you can tell what it has done"
      ]
    },
    {
      "cell_type": "code",
      "execution_count": null,
      "metadata": {
        "id": "LdKzI7ynHL4C",
        "colab": {
          "base_uri": "https://localhost:8080/"
        },
        "outputId": "c72cc905-15c8-471f-ed05-686095ba4f45"
      },
      "outputs": [
        {
          "output_type": "stream",
          "name": "stdout",
          "text": [
            "s is claremont\n",
            "\n",
            "LC is [0, 0, 1, 0, 1, 0, 1, 0, 0]\n"
          ]
        }
      ],
      "source": [
        "s = \"claremont\"\n",
        "print(\"s is\", s)\n",
        "print()\n",
        "\n",
        "LC = [ vwl_once(c) for c in s ]\n",
        "print(\"LC is\", LC)"
      ]
    },
    {
      "cell_type": "markdown",
      "metadata": {
        "id": "OqZdoDHnHrJP"
      },
      "source": [
        "**Aha!**  Line 5 has created a list ``LC`` that\n",
        "+ contains the output of ``vwl_once`` for each letter in ``s``!\n",
        "\n",
        "_How does it work?_\n",
        "+ it uses the ``for`` keyword to create a _loop_ inside a list\n",
        "  + notice that the whole thing is wrapped in ``[ ]`` square brackets\n",
        "+ it defines a variable ``c``\n",
        "+ it _assigns_ the variable ``c`` to _each element in ``s``_\n",
        "+ and it runs ``vwl_once(c)`` on each\n",
        "\n",
        "``LC`` is a list of all the outputs, one for each input character ``c`` in ``s``\n",
        "\n",
        "Here is a second example:"
      ]
    },
    {
      "cell_type": "code",
      "execution_count": null,
      "metadata": {
        "id": "vy_huY5WOT7c",
        "colab": {
          "base_uri": "https://localhost:8080/"
        },
        "outputId": "43051021-ecab-463a-d2ac-1b6524dcea80"
      },
      "outputs": [
        {
          "output_type": "stream",
          "name": "stdout",
          "text": [
            "s is audio\n",
            "\n",
            "LC is [1, 1, 0, 1, 1]\n"
          ]
        }
      ],
      "source": [
        "s = \"audio\"\n",
        "print(\"s is\", s)\n",
        "print()\n",
        "\n",
        "LC = [ vwl_once(c) for c in s ]\n",
        "print(\"LC is\", LC)"
      ]
    },
    {
      "cell_type": "markdown",
      "metadata": {
        "id": "L-BzuGsbOhXc"
      },
      "source": [
        "``audio`` has the vowel-pattern ``[1, 1, 0, 1, 1]``\n",
        "\n",
        "Find more!\n",
        "\n",
        "### <font color=\"Coral\"><b>Task #2</b></font>: More vowel patterns...\n",
        "\n",
        "Below, write four more examples of list comprehensions. <br> Copy-paste-and-edit the examples above.\n",
        "\n",
        "Find English words whose vowel-patterns are\n",
        "+ ``[0, 1, 0, 1, 0]``\n",
        "+ ``[0, 0, 0, 1, 0, 0]``\n",
        "+ ``[1, 0, 1, 1, 0, 0, 1, 0]   # I may need more of this...``\n",
        "+ and one more \"unusual\" pattern of your choice...\n",
        "\n",
        "<br><br>\n",
        "Feel free to"
      ]
    },
    {
      "cell_type": "markdown",
      "metadata": {
        "id": "W8syB1DtQIEt"
      },
      "source": [
        "Let's ``sum``!\n",
        "\n",
        "Along with ``sum``, we can use these ideas to implement ``vwl_all(s)``, which returns the total number of vowels in an input string ``s``:"
      ]
    },
    {
      "cell_type": "code",
      "execution_count": null,
      "metadata": {
        "id": "N2xQq8CsQbBn",
        "colab": {
          "base_uri": "https://localhost:8080/"
        },
        "outputId": "84c0172c-a0d4-466c-becc-acf620a3b2ab"
      },
      "outputs": [
        {
          "output_type": "stream",
          "name": "stdout",
          "text": [
            "vwl_all('claremont') should be 3 <-> 3\n",
            "vwl_all('caffeine') should be 4 <-> 4\n"
          ]
        }
      ],
      "source": [
        "#\n",
        "# vwl_all using this technique\n",
        "#\n",
        "\n",
        "def vwl_all(s):\n",
        "  \"\"\" returns the total # of vowels in s, a string\n",
        "  \"\"\"\n",
        "  LC = [ vwl_once(c) for c in s ]\n",
        "  total = sum(LC)  # add them all up!\n",
        "  return total\n",
        "\n",
        "# two tests:\n",
        "print(\"vwl_all('claremont') should be 3 <->\", vwl_all('claremont'))\n",
        "print(\"vwl_all('caffeine') should be 4 <->\", vwl_all('caffeine'))\n",
        "\n",
        "\n"
      ]
    },
    {
      "cell_type": "code",
      "source": [
        "words = [\"civic\", \"sphinx\", \"ideogram\", \"aerospace\"]\n",
        "\n",
        "for w in words:\n",
        "    pattern = [vwl_once(c) for c in w]\n",
        "    print(w , \" ->  \", pattern)\n",
        "\n",
        "\n",
        "# tests:\n",
        "print(\"vwl_all('civic') should be 2 ->\", vwl_all('civic'))\n",
        "print(\"vwl_all('sphinx') should be 1 ->\", vwl_all('sphinx'))\n",
        "print(\"vwl_all('ideogram') should be 4 ->\", vwl_all('ideogram'))\n",
        "print(\"vwl_all('aerospace') should be 5 ->\", vwl_all('aerospace'))"
      ],
      "metadata": {
        "colab": {
          "base_uri": "https://localhost:8080/"
        },
        "id": "r5X5NLdmrsSH",
        "outputId": "df823b01-2797-4209-d5ad-24f7cb80372b"
      },
      "execution_count": null,
      "outputs": [
        {
          "output_type": "stream",
          "name": "stdout",
          "text": [
            "civic  ->   [0, 1, 0, 1, 0]\n",
            "sphinx  ->   [0, 0, 0, 1, 0, 0]\n",
            "ideogram  ->   [1, 0, 1, 1, 0, 0, 1, 0]\n",
            "aerospace  ->   [1, 1, 0, 1, 0, 0, 1, 0, 1]\n",
            "vwl_all('civic') should be 2 -> 2\n",
            "vwl_all('sphinx') should be 1 -> 1\n",
            "vwl_all('ideogram') should be 4 -> 4\n",
            "vwl_all('aerospace') should be 5 -> 5\n"
          ]
        }
      ]
    },
    {
      "cell_type": "markdown",
      "metadata": {
        "id": "pvfJW18zIxqO"
      },
      "source": [
        "### List comprehensions\n",
        "\n",
        "The syntax above is called a _list comprehension_ in Python\n",
        "+ More evocative names might have been possible!\n",
        "+ I would have preferred _For List_\n",
        "+ or, even better, _Fun List_\n",
        "+ (its most common use is running a function on each element)\n",
        "\n",
        "Alas, it's _List Comprehension_\n",
        "+ as a reminder, I'll often use ``LC``\n",
        "+ However, _any_ variable name can be used to name the result\n",
        "\n"
      ]
    },
    {
      "cell_type": "markdown",
      "metadata": {
        "id": "3LQkGTOTJk33"
      },
      "source": [
        "Here is a second example, using ``scrabble`` and an analysis using the results. <br> Then, you'll write two more.\n",
        "\n",
        "### **Example 2**: ``scrabble``\n",
        "+ ``scrabble_one`` returns one letter's score\n",
        "+ ``scrabble_all`` uses a list comprehension to score a full string"
      ]
    },
    {
      "cell_type": "code",
      "execution_count": null,
      "metadata": {
        "id": "1CnqGkrNS-ts",
        "colab": {
          "base_uri": "https://localhost:8080/"
        },
        "outputId": "42bd38d3-bc06-4672-a08e-01695ce512fd"
      },
      "outputs": [
        {
          "output_type": "stream",
          "name": "stdout",
          "text": [
            "scrabble_one('q') should be 10 <-> 10\n",
            "scrabble_one('!') should be 0 <-> 0\n",
            "scrabble_one('u') should be 1 <-> 1\n"
          ]
        }
      ],
      "source": [
        "# scrabble-scoring\n",
        "\n",
        "def scrabble_one(c):\n",
        "  \"\"\" returns the scrabble score of one character, c\n",
        "  \"\"\"\n",
        "  c = c.lower()\n",
        "  if c in 'aeilnorstu':   return 1\n",
        "  elif c in 'dg':         return 2\n",
        "  elif c in 'bcmp':       return 3\n",
        "  elif c in 'fhvwy':      return 4\n",
        "  elif c in 'k':          return 5\n",
        "  elif c in 'jx':         return 8\n",
        "  elif c in 'qz':         return 10\n",
        "  else:                   return 0\n",
        "\n",
        "# tests:\n",
        "print(\"scrabble_one('q') should be 10 <->\", scrabble_one('q'))\n",
        "print(\"scrabble_one('!') should be 0 <->\", scrabble_one('!'))\n",
        "print(\"scrabble_one('u') should be 1 <->\", scrabble_one('u'))"
      ]
    },
    {
      "cell_type": "markdown",
      "metadata": {
        "id": "a_3CwdhzUA5M"
      },
      "source": [
        "``scrabble_one`` provides scores, and <br>  ``scrabble_all`` then uses the same pattern as ``vwl_all``:"
      ]
    },
    {
      "cell_type": "code",
      "execution_count": null,
      "metadata": {
        "id": "ble5vYdpUPGL",
        "colab": {
          "base_uri": "https://localhost:8080/"
        },
        "outputId": "7f2b6cf6-b616-4ec4-d30e-c21d1147f3ea"
      },
      "outputs": [
        {
          "output_type": "stream",
          "name": "stdout",
          "text": [
            "scrabble_all('Zany Sci Ten Quiz') should be 46 <-> 46\n",
            "scrabble_all('Claremont') should be 13 <-> 13\n",
            "scrabble_all('abcdefghijklmnopqrstuvwxyz!') should be 87 <-> 87\n"
          ]
        }
      ],
      "source": [
        "#\n",
        "# scrabble_all using this technique\n",
        "#\n",
        "\n",
        "def scrabble_all(s):\n",
        "  \"\"\" returns the total scrabble score of s\n",
        "  \"\"\"\n",
        "  LC = [ scrabble_one(c) for c in s ]\n",
        "  total = sum(LC)  # add them all up!\n",
        "  return total\n",
        "\n",
        "\n",
        "# two tests:\n",
        "print(\"scrabble_all('Zany Sci Ten Quiz') should be 46 <->\", scrabble_all('Zany Sci Ten Quiz'))\n",
        "print(\"scrabble_all('Claremont') should be 13 <->\", scrabble_all('Claremont'))\n",
        "print(\"scrabble_all('abcdefghijklmnopqrstuvwxyz!') should be 87 <->\", scrabble_all('abcdefghijklmnopqrstuvwxyz!'))"
      ]
    },
    {
      "cell_type": "markdown",
      "metadata": {
        "id": "S3fIcroiHwp1"
      },
      "source": [
        "### <b>Example analysis</b>\n",
        "\n",
        "Using ``scrabble_all`` we analyze the scrabble-score richness of Plankton vs Patrick, both raw score and per-character:\n",
        "\n",
        "\n",
        "\n",
        "\n",
        "\n"
      ]
    },
    {
      "cell_type": "code",
      "execution_count": null,
      "metadata": {
        "id": "0rNonriYXG0E"
      },
      "outputs": [],
      "source": [
        "# Here are the two texts:\n",
        "\n",
        "PLANKTON = \"\"\"I'm As Evil As Ever. I'll Prove It\n",
        "Right Now By Stealing The Krabby Patty Secret Formula.\"\"\"\n",
        "\n",
        "PATRICK = \"\"\"I can't hear you.\n",
        "It's too dark in here.\"\"\""
      ]
    },
    {
      "cell_type": "code",
      "execution_count": null,
      "metadata": {
        "id": "Lgg2ULLRXN99",
        "colab": {
          "base_uri": "https://localhost:8080/"
        },
        "outputId": "1b0609fb-f098-4660-c2e7-a5127cc7f083"
      },
      "outputs": [
        {
          "output_type": "stream",
          "name": "stdout",
          "text": [
            "PLANKTON, total score: 121\n",
            "PATRICK, total score: 44\n"
          ]
        }
      ],
      "source": [
        "#\n",
        "# raw scrabble comparison\n",
        "#\n",
        "\n",
        "print(\"PLANKTON, total score:\", scrabble_all(PLANKTON))\n",
        "print(\"PATRICK, total score:\", scrabble_all(PATRICK))"
      ]
    },
    {
      "cell_type": "code",
      "execution_count": null,
      "metadata": {
        "id": "pcoLCWciXkrL",
        "colab": {
          "base_uri": "https://localhost:8080/"
        },
        "outputId": "047a8920-3ae0-4774-ed1c-35965ede3d60"
      },
      "outputs": [
        {
          "output_type": "stream",
          "name": "stdout",
          "text": [
            "PLANKTON, per-char score: 1.3595505617977528\n",
            "PATRICK, per-char score: 1.1\n"
          ]
        }
      ],
      "source": [
        "#\n",
        "# per-character (\"average/expected\") scrabble comparison\n",
        "#\n",
        "\n",
        "print(\"PLANKTON, per-char score:\", scrabble_all(PLANKTON)/len(PLANKTON))\n",
        "print(\"PATRICK, per-char score:\", scrabble_all(PATRICK)/len(PATRICK))"
      ]
    },
    {
      "cell_type": "markdown",
      "metadata": {
        "id": "22bfgVx5wqYI"
      },
      "source": [
        "### Some more list-comprehension examples...\n",
        "\n",
        "Practice with these, then you'll develop an application for analyzing prose..."
      ]
    },
    {
      "cell_type": "code",
      "execution_count": null,
      "metadata": {
        "id": "Sxd7c-rCwzyn",
        "colab": {
          "base_uri": "https://localhost:8080/"
        },
        "outputId": "416a3649-6c3e-48c6-bee6-fa6eda2a9162"
      },
      "outputs": [
        {
          "output_type": "execute_result",
          "data": {
            "text/plain": [
              "[0, 2, 4, 6, 8, 10]"
            ]
          },
          "metadata": {},
          "execution_count": 35
        }
      ],
      "source": [
        "\n",
        "# let's see a \"plain\"  LC   (list comprehension)\n",
        "\n",
        "[ 2*x for x in [0,1,2,3,4,5] ]\n",
        "\n",
        "# it _should_ result in     [0, 2, 4, 6, 8, 10]"
      ]
    },
    {
      "cell_type": "code",
      "execution_count": null,
      "metadata": {
        "id": "wdnNCJfUxAMX",
        "colab": {
          "base_uri": "https://localhost:8080/"
        },
        "outputId": "69c7bc0d-29e6-48af-86f1-fb9827efd422"
      },
      "outputs": [
        {
          "output_type": "stream",
          "name": "stdout",
          "text": [
            "[0, 20, 40]\n"
          ]
        }
      ],
      "source": [
        "\n",
        "# let's see a few more  list comprehensions.  For sure, we can name them:\n",
        "\n",
        "A  =  [ 10*x for x in [0,1,2,3,4,5] if x%2==0]   # notice the \"if\"! (there's no else...)\n",
        "print(A)"
      ]
    },
    {
      "cell_type": "code",
      "execution_count": null,
      "metadata": {
        "id": "YXdY3txdxFjo",
        "colab": {
          "base_uri": "https://localhost:8080/"
        },
        "outputId": "c4b4da5a-44d1-4d49-dcb6-38d6fb9abf78"
      },
      "outputs": [
        {
          "output_type": "stream",
          "name": "stdout",
          "text": [
            "[0, 21, 42]\n"
          ]
        }
      ],
      "source": [
        "\n",
        "B = [ y*21 for y in list(range(0,3)) ]    # remember what range does?\n",
        "print(B)"
      ]
    },
    {
      "cell_type": "code",
      "execution_count": null,
      "metadata": {
        "id": "KtYWuLGrxGRV",
        "colab": {
          "base_uri": "https://localhost:8080/"
        },
        "outputId": "58c29990-30db-4177-cd08-abda5e78b41b"
      },
      "outputs": [
        {
          "output_type": "stream",
          "name": "stdout",
          "text": [
            "['i', 'C']\n"
          ]
        }
      ],
      "source": [
        "C = [ s[1] for s in [\"hi\", \"7Cs!\"] ]      # doesn't have to be numbers...\n",
        "print(C)"
      ]
    },
    {
      "cell_type": "code",
      "execution_count": null,
      "metadata": {
        "id": "Eoj_EonMxJml",
        "colab": {
          "base_uri": "https://localhost:8080/"
        },
        "outputId": "f12a459f-efc4-4d03-9a3c-f90813956fc4"
      },
      "outputs": [
        {
          "output_type": "stream",
          "name": "stdout",
          "text": [
            "[42, 43]\n",
            "[42, 42, 42]\n",
            "[42, 42]\n",
            "['cgu', '!!!']\n",
            "[[2, 'Hi'], [3, 'IST']]\n"
          ]
        }
      ],
      "source": [
        "\n",
        "# Let's try thinking about these...\n",
        "\n",
        "\n",
        "A = [ n+2 for n in   range(40,42) ]\n",
        "B = [ 42 for z in [0,1,2] ]\n",
        "C = [ z for z in [42,42] ]\n",
        "D = [ s[::-2] for s in ['fungic','y!a!y!'] ]\n",
        "L = [ [len(w),w] for w in  ['Hi','IST'] ]\n",
        "\n",
        "\n",
        "\n",
        "# then, see if they work the way you predict...\n",
        "\n",
        "print(A)\n",
        "print(B)\n",
        "print(C)\n",
        "print(D)\n",
        "print(L)"
      ]
    },
    {
      "cell_type": "markdown",
      "metadata": {
        "id": "0Ec9EGdzxQ_d"
      },
      "source": [
        "_Ok!_  Now to create and apply some of our own...\n",
        "\n"
      ]
    },
    {
      "cell_type": "code",
      "source": [
        "def hide_vowels(word):\n",
        "    \"\"\"\n",
        "    Try to guess the words with vowels hidden\n",
        "    Return the word with vowels replaced by a bullet(●).\n",
        "    \"\"\"\n",
        "    # Replace each vowel (a, e, i, o, u) with \"●\".\n",
        "    return ''.join(\"●\" if c in \"aeiou\" else c for c in word)\n",
        "\n",
        "def guessing_words(words):\n",
        "    \"\"\"For each word in the list, show the word with vowels hidden,\n",
        "       prompt the user to guess the original word,\n",
        "       and then tell them if their guess was correct.\n",
        "    \"\"\"\n",
        "    score = 0\n",
        "    for word in words:\n",
        "        hidden = hide_vowels(word)\n",
        "\n",
        "        guess = input(\"Guess the word:\"+ hidden + \" \\nYour guess: \")\n",
        "\n",
        "        if guess == word:\n",
        "            print(\"Correct!\\n\")\n",
        "            score += 1\n",
        "        else:\n",
        "            print(\"Incorrect! The correct word was \", word ,\"\\n\")\n",
        "\n",
        "    print(\"Game over! Your final score is \" , score,  \"out of \", len(words))\n",
        "words = [\"Physician\", \"Wikipedia\", \"algorithm\"]\n",
        "\n",
        "\n",
        "\n",
        "\n",
        "\n",
        "\n",
        "# Start the game.\n",
        "guessing_words(words)\n",
        "\n"
      ],
      "metadata": {
        "colab": {
          "base_uri": "https://localhost:8080/"
        },
        "id": "HGsaWYPp9BAd",
        "outputId": "aed7abfc-5701-431e-cdca-ad58814330c5"
      },
      "execution_count": null,
      "outputs": [
        {
          "output_type": "stream",
          "name": "stdout",
          "text": [
            "Guess the word:Phys●c●●n \n",
            "Your guess: 9\n",
            "Incorrect! The correct word was  Physician \n",
            "\n",
            "Guess the word:W●k●p●d●● \n",
            "Your guess: 9\n",
            "Incorrect! The correct word was  Wikipedia \n",
            "\n",
            "Guess the word:●lg●r●thm \n",
            "Your guess: 9\n",
            "Incorrect! The correct word was  algorithm \n",
            "\n",
            "Game over! Your final score is  0 out of  3\n"
          ]
        }
      ]
    },
    {
      "cell_type": "markdown",
      "metadata": {
        "id": "khE-AiioX2q7"
      },
      "source": [
        "### <font color=\"Coral\"><b>Task #3</b></font>: Punctuation scoring...\n",
        "\n",
        "_Stylometry_ is a field that quantifies stylistic features of language, especially to identify or characterize a specific author. Many _stylometric_ features have been proposed; one of the most persistent is _punctuation density_.\n",
        "\n",
        "Here, you'll\n",
        "+ use the LC technique to write a function to measure punctuation in a string (prose)\n",
        "+ compare two of your (prose) papers with two of another author's (prose) papers\n",
        "+ see if the results suggest a different _punctuation density_ between your and the other author's styles!\n",
        "+ similar to the sequences we're obtaining from the water-treatment plant, such a small number of samples can suggest whether/how to look further -- but isn't definitive by itself...\n"
      ]
    },
    {
      "cell_type": "code",
      "execution_count": null,
      "metadata": {
        "id": "Oeyk-5dbZZXq",
        "colab": {
          "base_uri": "https://localhost:8080/"
        },
        "outputId": "3f208e49-6684-4a27-b665-15ae0f825525"
      },
      "outputs": [
        {
          "output_type": "stream",
          "name": "stdout",
          "text": [
            "pun_all(PLANKTON) should be 4 <-> 4\n",
            "pun_all(PATRICK) should be 4 <-> 4\n"
          ]
        }
      ],
      "source": [
        "#\n",
        "# here, [1] create a function that scores punctuation as 1 and non-punctuation as 0, pun_one\n",
        "#       [2] use the list-comprehension technique to create a punctuation-scoring function, pun_all\n",
        "\n",
        "# use the above examples as a starting point!\n",
        "\n",
        "\n",
        "import string\n",
        "\n",
        "def pun_one(c):\n",
        "    \"\"\"\n",
        "    Returns 1 if character c is a punctuation mark, 0 otherwise.\n",
        "    \"\"\"\n",
        "\n",
        "    pun = \"!#$%&'()*+,-./:;<=>?@[\\]^_`{|}~\"\n",
        "\n",
        "    return 1 if c in pun else 0\n",
        "\n",
        "def pun_all(s):\n",
        "    \"\"\"\n",
        "    Returns the total number of punctuation marks in the string s.\n",
        "    Uses a list comprehension to apply pun_one to each character.\n",
        "    \"\"\"\n",
        "    return sum([pun_one(c) for c in s])\n",
        "\n",
        "\n",
        "\n",
        "# tests\n",
        "print(\"pun_all(PLANKTON) should be 4 <->\", pun_all(PLANKTON))\n",
        "print(\"pun_all(PATRICK) should be 4 <->\", pun_all(PATRICK))\n",
        "# They're more similar, punctuation-wise than scrabble-wise"
      ]
    },
    {
      "cell_type": "markdown",
      "metadata": {
        "id": "HIh3hTB-aali"
      },
      "source": [
        "### An **advantage** of LCs:\n",
        "\n",
        "... is _efficiency_, both faster and more memory-efficient.\n",
        "\n",
        "For stylometric analysis, the more text you have, the more representative the results will be.\n",
        "\n",
        "Lsat time, we used one paragraph. This time, use two full documents:\n",
        "+ Copy-and-paste below two full papers you authored (if they're longer ones, great!)\n",
        "+ Copy-and-paste below two full papers authored by someone else\n",
        "+ Run all four to find the absolute and per-character use of punctuation in your style and the other author's style\n",
        "+ Are they different enough to suggest further investigation?\n",
        "\n"
      ]
    },
    {
      "cell_type": "markdown",
      "metadata": {
        "id": "NcPLA4k8f0ht"
      },
      "source": [
        "### Suggestions for \"other\" authors?\n",
        "+ exchange papers/prose and compare with a friend (fun!)\n",
        "+ there are lots of other opportunities, e.g.,\n",
        "  + [work by Rosalind Franklin](https://www.nature.com/articles/171740a0)  (likely need to be on campus to access this from Nature)\n",
        "  + [work by Jennifer Doudna](https://www.ncbi.nlm.nih.gov/pmc/articles/PMC6286148/)  (this one _might_ open anywhere)\n",
        "  + [copy a subset of Shakespeare's work](https://ocw.mit.edu/ans7870/6/6.006/s08/lecturenotes/files/t8.shakespeare.txt)  (this is openly available and plain-text)\n",
        "  + Don't worry about weird/unreadable characters\n",
        "    + as long as the results don't crash,\n",
        "    + those characters will likely be ignored by your scoring functions\n",
        "\n",
        "\n",
        "### **MY Works:**\n",
        "+ Article1: [Captivating Digital Minds How Face-Recognition Shapes the Future of Engagement in Educational Video.](https://drive.google.com/file/d/19TQHWffDFLXn60NjnNDVNTdUGDjyS8-b/view?usp=drive_link)\n",
        "\n",
        "+ Article2: [Dynamic Network Analysis of Sparrow Interactions Between 2009 And 2010.](https://drive.google.com/file/d/1yyEFKTiHTvVuVsOLpyrZlz3nbRhT79Tw/view?usp=drive_link)\n",
        "\n",
        "\n",
        "\n"
      ]
    },
    {
      "cell_type": "code",
      "execution_count": null,
      "metadata": {
        "id": "bnbtW18FdGbe"
      },
      "outputs": [],
      "source": [
        "#\n",
        "# The two works of yours and two of another author's (\"theirs\")\n",
        "#     These can - and should - be large\n",
        "#\n",
        "\n",
        "YOURS1 = \"\"\"  Abstract\n",
        "Maintaining student engagement during online video sessions is a critical and challenging aspect of\n",
        "online education. This paper adopts the Design Science Research (DSR) methodology to explore facial\n",
        "recognition technology by integrating machine learning and computer vision to develop a real-time system\n",
        "to monitor and analyze student attention levels and aiming to enhance engagement by introducing\n",
        "interactive elements that respond to students' attention, thereby improving the overall learning experience.\n",
        "This innovative solution seeks to address the engagement gap in online educational videos. We found that\n",
        "maintaining student attention and introducing interactive elements in real-time significantly improves\n",
        "engagement and the retention of information, thereby contributing positively to the educational process.\n",
        "Keywords: Engagement – Online Learning – Computer Vision – Machine Learning – Video – adaptive learning –\n",
        "interactive intervention – Design science research - DSR\n",
        "1. Introduction\n",
        "The emergence of the internet can be viewed as the start of the origin of online education. Online education has\n",
        "seen unprecedented growth in recent years, a trend further accelerated by global events such as the COVID-19\n",
        "pandemic. In 2022 alone, enrolment in MOOCs (Massive Open Online Courses, available since 2011) jumped to 220\n",
        "million, a dramatic rise from 40 million the previous year (Shah et al., 2023). These online videos are appealing\n",
        "primarily due to their benefits; 63% of students appreciate the flexibility they offer, and 30% of students pursue them\n",
        "in hopes of securing higher-paying jobs (Bay Atlantic University, 2020).\n",
        "However, while online learning offers numerous advantages, it is also crucial to acknowledge the challenges\n",
        "presented by online courses, such as potential disengagement, lack of motivation, and even withdrawal. This\n",
        "disengagement is often most visibly demonstrated through a decline in student attention. A notable decline in attention\n",
        "is often the first sign of student disengagement, which can significantly undermine the effectiveness of online learning\n",
        "environments (Sharma et al., 2022). Furthermore, research indicates that engagement with video sessions in Massive\n",
        "Open Online Courses (MOOCs) averages just six minutes (Geri et al., 2017), underscoring the critical nature of this\n",
        "issue.\n",
        "Understanding the factors that influence student engagement becomes pivotal in mitigating the inherent issues of\n",
        "online courses that contribute to these challenges. Course design, utilized tools, and interactive methods are key\n",
        "elements that substantially impact the online educational experience and play a crucial role in addressing the\n",
        "engagement gap common in digital learning environments Gedera et al.,( 2015).\n",
        "Interactivity in educational content is widely recognized for creating a more engaging and responsive learning\n",
        "environment. Real-time interaction and feedback, facilitated by learning intervention systems, have been found to\n",
        "enhance learner engagement (Pérez, 2020). This approach is also identified as a key factor in boosting attention spans\n",
        "(Cherrett et al., 2009). While many interactive tools have been embedded in online videos, there is a lack of detection\n",
        "of the precise moment of attention loss to enable real-time interactivity when needed. In a traditional classroom,\n",
        "teachers may instantly notice any student whose attention has started diminishing and engage the student again,\n",
        "guaranteeing continual involvement. However, with an online video, this immediate observation and adaptive action\n",
        "has become difficult. Therefore, integrating real-time, on-demand interaction is crucial for improving attention spans\n",
        "and enhancing the overall engagement with online educational videos.\n",
        "The declining attention during online educational videos, coupled with the absence of on-demand interaction, poses\n",
        "a significant threat to the effectiveness of online learning, potentially compromising academic outcomes and leading\n",
        "to resource wastage. This paper examines the role of interactive elements in online educational videos, investigating\n",
        "how they can enhance learning experiences and address the short attention spans often observed in digital learning\n",
        "contexts.\n",
        "\"\"\"\n",
        "\n",
        "YOURS2 = \"\"\"  Introduction\n",
        "In the animal kingdom, kinship—or the genetic relationship between individuals—plays a\n",
        "pivotal role in the development of social ties and influencing factors critical for long-term viability.\n",
        "Kinship is closely linked to the development and stability of social groups, which in turn affect\n",
        "survival and reproductive success (Arnberg et al. 2015; Madsen et al., 2023). Kinship offers\n",
        "numerous benefits that enhance the stability, cohesion, and success of social groups formation. For\n",
        "example, cooperative behaviors among genetically related individuals, such as predator detection\n",
        "and deterrence, significantly increase group safety by leveraging the principle of safety in numbers\n",
        "(Shizuka et al., 2014). Kinship also fosters cooperation and reduces intra-group conflict, as\n",
        "individuals are more likely to prioritize the collective well-being of related group members\n",
        "(Shizuka et al., 2014). Altruistic behaviors, such as aiding in the care or protection of kin, confer\n",
        "indirect fitness benefits by ensuring the survival of shared genetic material, even when individuals\n",
        "do not reproduce directly. Furthermore, kinship groups often exhibit higher levels of trust and\n",
        "communication, enabling better coordination in critical activities such as foraging, hunting, or\n",
        "defending territories. Equitable resource sharing is another hallmark of kin-based associations,\n",
        "with food, shelter, and care being distributed in ways that improve the survival of vulnerable\n",
        "members, particularly juveniles (Shizuka et al., 2014).\n",
        "Despite these advantages, it is important to note that social group formation may form\n",
        "without kinship ties. Groups that are not based on kinship may emerge to access resources, protect\n",
        "against predators, or cope with environmental challenges. Habitat characteristics and resource\n",
        "distribution can drive group formation independently of social bonds. Understanding how kinship\n",
        "interacts with these ecological and social factors is key to explaining the evolution of complex\n",
        "societies. Group living offers benefits beyond kinship, such as the dilution effect, which reduces\n",
        "predation risk for individual members of a group as the size increases, regardless of genetic\n",
        "relationships (Bertram, 1978). These general advantages don't explain why animals consistently\n",
        "form lasting bonds with specific individuals. These patterns point to other, less understood factors\n",
        "driving social preferences and group cohesion. Examining how kinship works alongside these\n",
        "factors is crucial for understanding how complex societies evolved. In the sections that follow, we\n",
        "attempt to provide context for the current study by beginning with an overview of golden-crowned\n",
        "sparrows and discuss background research regarding this particular species, kinship ties, and social\n",
        "group formation.\n",
        "\"\"\"\n",
        "\n",
        "THEIRS1 = \"\"\"  by William Shakespeare\n",
        "                     1\n",
        "  From fairest creatures we desire increase,\n",
        "  That thereby beauty's rose might never die,\n",
        "  But as the riper should by time decease,\n",
        "  His tender heir might bear his memory:\n",
        "  But thou contracted to thine own bright eyes,\n",
        "  Feed'st thy light's flame with self-substantial fuel,\n",
        "  Making a famine where abundance lies,\n",
        "  Thy self thy foe, to thy sweet self too cruel:\n",
        "  Thou that art now the world's fresh ornament,\n",
        "  And only herald to the gaudy spring,\n",
        "  Within thine own bud buriest thy content,\n",
        "  And tender churl mak'st waste in niggarding:\n",
        "    Pity the world, or else this glutton be,\n",
        "    To eat the world's due, by the grave and thee.\n",
        "\n",
        "                     2\n",
        "  When forty winters shall besiege thy brow,\n",
        "  And dig deep trenches in thy beauty's field,\n",
        "  Thy youth's proud livery so gazed on now,\n",
        "  Will be a tattered weed of small worth held:\n",
        "  Then being asked, where all thy beauty lies,\n",
        "  Where all the treasure of thy lusty days;\n",
        "  To say within thine own deep sunken eyes,\n",
        "  Were an all-eating shame, and thriftless praise.\n",
        "  How much more praise deserved thy beauty's use,\n",
        "  If thou couldst answer 'This fair child of mine\n",
        "  Shall sum my count, and make my old excuse'\n",
        "  Proving his beauty by succession thine.\n",
        "    This were to be new made when thou art old,\n",
        "    And see thy blood warm when thou feel'st it cold.\n",
        "\n",
        "                     3\n",
        "  Look in thy glass and tell the face thou viewest,\n",
        "  Now is the time that face should form another,\n",
        "  Whose fresh repair if now thou not renewest,\n",
        "  Thou dost beguile the world, unbless some mother.\n",
        "  For where is she so fair whose uneared womb\n",
        "  Disdains the tillage of thy husbandry?\n",
        "  Or who is he so fond will be the tomb,\n",
        "  Of his self-love to stop posterity?\n",
        "  Thou art thy mother's glass and she in thee\n",
        "  Calls back the lovely April of her prime,\n",
        "  So thou through windows of thine age shalt see,\n",
        "  Despite of wrinkles this thy golden time.\n",
        "    But if thou live remembered not to be,\n",
        "    Die single and thine image dies with thee.\n",
        "\n",
        "                     4\n",
        "  Unthrifty loveliness why dost thou spend,\n",
        "  Upon thy self thy beauty's legacy?\n",
        "  Nature's bequest gives nothing but doth lend,\n",
        "  And being frank she lends to those are free:\n",
        "  Then beauteous niggard why dost thou abuse,\n",
        "  The bounteous largess given thee to give?\n",
        "  Profitless usurer why dost thou use\n",
        "  So great a sum of sums yet canst not live?\n",
        "  For having traffic with thy self alone,\n",
        "  Thou of thy self thy sweet self dost deceive,\n",
        "  Then how when nature calls thee to be gone,\n",
        "  What acceptable audit canst thou leave?\n",
        "    Thy unused beauty must be tombed with thee,\n",
        "    Which used lives th' executor to be.\n",
        "\n",
        "                     5\n",
        "  Those hours that with gentle work did frame\n",
        "  The lovely gaze where every eye doth dwell\n",
        "  Will play the tyrants to the very same,\n",
        "  And that unfair which fairly doth excel:\n",
        "  For never-resting time leads summer on\n",
        "  To hideous winter and confounds him there,\n",
        "  Sap checked with frost and lusty leaves quite gone,\n",
        "  Beauty o'er-snowed and bareness every where:\n",
        "  Then were not summer's distillation left\n",
        "  A liquid prisoner pent in walls of glass,\n",
        "  Beauty's effect with beauty were bereft,\n",
        "  Nor it nor no remembrance what it was.\n",
        "    But flowers distilled though they with winter meet,\n",
        "    Leese but their show, their substance still lives sweet.\n",
        "\"\"\"\n",
        "\n",
        "THEIRS2 = \"\"\"  by William Shakespeare\n",
        "                      30\n",
        "  When to the sessions of sweet silent thought,\n",
        "  I summon up remembrance of things past,\n",
        "  I sigh the lack of many a thing I sought,\n",
        "  And with old woes new wail my dear time's waste:\n",
        "  Then can I drown an eye (unused to flow)\n",
        "  For precious friends hid in death's dateless night,\n",
        "  And weep afresh love's long since cancelled woe,\n",
        "  And moan th' expense of many a vanished sight.\n",
        "  Then can I grieve at grievances foregone,\n",
        "  And heavily from woe to woe tell o'er\n",
        "  The sad account of fore-bemoaned moan,\n",
        "  Which I new pay as if not paid before.\n",
        "    But if the while I think on thee (dear friend)\n",
        "    All losses are restored, and sorrows end.\n",
        "\n",
        "                     31\n",
        "  Thy bosom is endeared with all hearts,\n",
        "  Which I by lacking have supposed dead,\n",
        "  And there reigns love and all love's loving parts,\n",
        "  And all those friends which I thought buried.\n",
        "  How many a holy and obsequious tear\n",
        "  Hath dear religious love stol'n from mine eye,\n",
        "  As interest of the dead, which now appear,\n",
        "  But things removed that hidden in thee lie.\n",
        "  Thou art the grave where buried love doth live,\n",
        "  Hung with the trophies of my lovers gone,\n",
        "  Who all their parts of me to thee did give,\n",
        "  That due of many, now is thine alone.\n",
        "    Their images I loved, I view in thee,\n",
        "    And thou (all they) hast all the all of me.\n",
        "\n",
        "                     32\n",
        "  If thou survive my well-contented day,\n",
        "  When that churl death my bones with dust shall cover\n",
        "  And shalt by fortune once more re-survey\n",
        "  These poor rude lines of thy deceased lover:\n",
        "  Compare them with the bett'ring of the time,\n",
        "  And though they be outstripped by every pen,\n",
        "  Reserve them for my love, not for their rhyme,\n",
        "  Exceeded by the height of happier men.\n",
        "  O then vouchsafe me but this loving thought,\n",
        "  'Had my friend's Muse grown with this growing age,\n",
        "  A dearer birth than this his love had brought\n",
        "  To march in ranks of better equipage:\n",
        "    But since he died and poets better prove,\n",
        "    Theirs for their style I'll read, his for his love'.\n",
        "\n",
        "                     33\n",
        "  Full many a glorious morning have I seen,\n",
        "  Flatter the mountain tops with sovereign eye,\n",
        "  Kissing with golden face the meadows green;\n",
        "  Gilding pale streams with heavenly alchemy:\n",
        "  Anon permit the basest clouds to ride,\n",
        "  With ugly rack on his celestial face,\n",
        "  And from the forlorn world his visage hide\n",
        "  Stealing unseen to west with this disgrace:\n",
        "  Even so my sun one early morn did shine,\n",
        "  With all triumphant splendour on my brow,\n",
        "  But out alack, he was but one hour mine,\n",
        "  The region cloud hath masked him from me now.\n",
        "    Yet him for this, my love no whit disdaineth,\n",
        "    Suns of the world may stain, when heaven's sun staineth.\n",
        "\n",
        "                     34\n",
        "  Why didst thou promise such a beauteous day,\n",
        "  And make me travel forth without my cloak,\n",
        "  To let base clouds o'ertake me in my way,\n",
        "  Hiding thy brav'ry in their rotten smoke?\n",
        "  'Tis not enough that through the cloud thou break,\n",
        "  To dry the rain on my storm-beaten face,\n",
        "  For no man well of such a salve can speak,\n",
        "  That heals the wound, and cures not the disgrace:\n",
        "  Nor can thy shame give physic to my grief,\n",
        "  Though thou repent, yet I have still the loss,\n",
        "  Th' offender's sorrow lends but weak relief\n",
        "  To him that bears the strong offence's cross.\n",
        "    Ah but those tears are pearl which thy love sheds,\n",
        "    And they are rich, and ransom all ill deeds.\n",
        "\n",
        "                     35\n",
        "  No more be grieved at that which thou hast done,\n",
        "  Roses have thorns, and silver fountains mud,\n",
        "  Clouds and eclipses stain both moon and sun,\n",
        "  And loathsome canker lives in sweetest bud.\n",
        "  All men make faults, and even I in this,\n",
        "  Authorizing thy trespass with compare,\n",
        "  My self corrupting salving thy amiss,\n",
        "  Excusing thy sins more than thy sins are:\n",
        "  For to thy sensual fault I bring in sense,\n",
        "  Thy adverse party is thy advocate,\n",
        "  And 'gainst my self a lawful plea commence:\n",
        "  Such civil war is in my love and hate,\n",
        "    That I an accessary needs must be,\n",
        "    To that sweet thief which sourly robs from me.\n",
        "\n",
        "\"\"\""
      ]
    },
    {
      "cell_type": "code",
      "execution_count": null,
      "metadata": {
        "id": "DBq9xxixhMCU",
        "colab": {
          "base_uri": "https://localhost:8080/"
        },
        "outputId": "f17ea464-e8f1-4b55-e403-0b2d49e67e2c"
      },
      "outputs": [
        {
          "output_type": "execute_result",
          "data": {
            "text/plain": [
              "4049"
            ]
          },
          "metadata": {},
          "execution_count": 9
        }
      ],
      "source": [
        "len(THEIRS2)\n"
      ]
    },
    {
      "cell_type": "code",
      "execution_count": null,
      "metadata": {
        "id": "LuPv_mZ5dVS-",
        "colab": {
          "base_uri": "https://localhost:8080/"
        },
        "outputId": "509d2155-8b70-4689-95ae-652931dba55b"
      },
      "outputs": [
        {
          "output_type": "stream",
          "name": "stdout",
          "text": [
            "pun_all(YOURS1) -> 101\n",
            "pun_all(YOURS2) -> 73\n",
            "pun_all(THEIRS1) -> 93\n",
            "pun_all(THEIRS2) -> 119\n"
          ]
        }
      ],
      "source": [
        "#\n",
        "# Here, run your punctuation-comparisons (absolute counts)\n",
        "#\n",
        "print(\"pun_all(YOURS1) ->\", pun_all(YOURS1))\n",
        "print(\"pun_all(YOURS2) ->\", pun_all(YOURS2))\n",
        "print(\"pun_all(THEIRS1) ->\", pun_all(THEIRS1))\n",
        "print(\"pun_all(THEIRS2) ->\", pun_all(THEIRS2))"
      ]
    },
    {
      "cell_type": "code",
      "execution_count": null,
      "metadata": {
        "id": "aa7OXaM3eIqO",
        "colab": {
          "base_uri": "https://localhost:8080/"
        },
        "outputId": "aa9ad363-5377-47df-f894-3fa3d9ebb6c0"
      },
      "outputs": [
        {
          "output_type": "stream",
          "name": "stdout",
          "text": [
            "\n",
            "Relative punctuation usage (punctuation per character):\n",
            "YOURS1 -> 0.023636789141118653\n",
            "YOURS2 -> 0.025822426600636716\n",
            "THEIRS1 -> 0.02769505658129839\n",
            "THEIRS2 -> 0.029389972832798223\n"
          ]
        }
      ],
      "source": [
        "#\n",
        "# Here, run your punctuation-comparisons (relative, per-character counts)\n",
        "#\n",
        "# Compute and print relative punctuation usage (punctuation per character)\n",
        "len_yours1 = len(YOURS1)\n",
        "len_yours2 = len(YOURS2)\n",
        "len_theirs1 = len(THEIRS1)\n",
        "len_theirs2 = len(THEIRS2)\n",
        "\n",
        "rel_yours1 = pun_all(YOURS1) / len_yours1\n",
        "rel_yours2 = pun_all(YOURS2) / len_yours2\n",
        "rel_theirs1 = pun_all(THEIRS1) / len_theirs1\n",
        "rel_theirs2 = pun_all(THEIRS2) / len_theirs2\n",
        "\n",
        "print(\"\\nRelative punctuation usage (punctuation per character):\")\n",
        "print(\"YOURS1 ->\" ,rel_yours1)\n",
        "print(\"YOURS2 ->\" ,rel_yours2)\n",
        "print(\"THEIRS1 ->\" ,rel_theirs1)\n",
        "print(\"THEIRS2 ->\" ,rel_theirs2)\n",
        "\n",
        "\n"
      ]
    },
    {
      "cell_type": "markdown",
      "source": [
        "**Based on the punctuation analysis results, I would conclude that there is no big difference in writing style between all four texts.**"
      ],
      "metadata": {
        "id": "4IT3nKfE-e8u"
      }
    },
    {
      "cell_type": "markdown",
      "metadata": {
        "id": "_t4sXUfRs2g-"
      },
      "source": [
        "If you'd like to try some additional stylistic-analysis, <br> see the \"Emotional Punctuation\" extra crdit (at the bottom of the notebook...)\n",
        "\n",
        "\n",
        "\n"
      ]
    },
    {
      "cell_type": "markdown",
      "metadata": {
        "id": "jzQVp6yF6kgn"
      },
      "source": [
        "### Next, we use list comprehensions for _analysis_:\n",
        "+ the number-guessing game\n",
        "+ the two-dice-rolling experiment (counting \"doubles\")\n",
        "+ the birthday-room experiment\n",
        "+ the Monty Hall (three-curtain) game, switch vs. stay...\n",
        "+ the random-walk **you'll analyze these**\n",
        "+ estimating pi **you'll _write_ and analyze these** !\n",
        "\n",
        "Onward!"
      ]
    },
    {
      "cell_type": "code",
      "execution_count": null,
      "metadata": {
        "id": "cTCBx52m6sCR",
        "colab": {
          "base_uri": "https://localhost:8080/"
        },
        "outputId": "af8c6c68-4a94-42db-835b-f7d999ffc0ef"
      },
      "outputs": [
        {
          "output_type": "execute_result",
          "data": {
            "text/plain": [
              "2"
            ]
          },
          "metadata": {},
          "execution_count": 17
        }
      ],
      "source": [
        "#\n",
        "# Example while loop: the \"guessing game\"\n",
        "#\n",
        "\n",
        "from random import *\n",
        "\n",
        "def guess( hidden ):\n",
        "    \"\"\"\n",
        "        have the computer guess numbers until it gets the \"hidden\" value\n",
        "        return the number of guesses\n",
        "    \"\"\"\n",
        "    guess = hidden - 1      # start with a wrong guess + don't count it as a guess\n",
        "    number_of_guesses = 0   # start with no guesses made so far...\n",
        "\n",
        "    while guess != hidden:\n",
        "        #print(\"I guess\", guess)  # comment this out - avoid printing when analyzing!\n",
        "        guess = choice( range(0,100) )  # 0 to 99, inclusive\n",
        "        number_of_guesses += 1\n",
        "\n",
        "    return number_of_guesses\n",
        "\n",
        "# test our function!\n",
        "guess(42)"
      ]
    },
    {
      "cell_type": "code",
      "execution_count": null,
      "metadata": {
        "id": "6Vc1kZxz6zwa",
        "colab": {
          "base_uri": "https://localhost:8080/"
        },
        "outputId": "09a57464-52d9-4fd4-c397-edb522bbcab4"
      },
      "outputs": [
        {
          "output_type": "stream",
          "name": "stdout",
          "text": [
            "[33, 148, 1, 5, 297, 89, 237, 136, 78, 63]\n"
          ]
        }
      ],
      "source": [
        "# Let's run 10 number-guessing experiments!\n",
        "\n",
        "L = [ guess(42) for i in range(10) ]\n",
        "print(L)\n",
        "\n",
        "# 10 experiments: let's see them!!"
      ]
    },
    {
      "cell_type": "code",
      "execution_count": null,
      "metadata": {
        "id": "aseFoD1P63US",
        "colab": {
          "base_uri": "https://localhost:8080/"
        },
        "outputId": "05a40fa6-a22b-4b9a-845a-0ef6a94443d3"
      },
      "outputs": [
        {
          "output_type": "stream",
          "name": "stdout",
          "text": [
            "len(L) is 10\n",
            "average is 108.7\n"
          ]
        }
      ],
      "source": [
        "# Let's see what the average results were\n",
        "print(\"len(L) is\", len(L))\n",
        "ave = sum(L)/len(L)\n",
        "print(\"average is\", ave )\n",
        "\n",
        "# try min and max, count of 42's, count of 92's, etc."
      ]
    },
    {
      "cell_type": "markdown",
      "metadata": {
        "id": "OlW1n-SZ66kW"
      },
      "source": [
        "### Next, an example with our dice-rolling experiment..."
      ]
    },
    {
      "cell_type": "code",
      "execution_count": null,
      "metadata": {
        "id": "9Qle_IDf7YTU",
        "colab": {
          "base_uri": "https://localhost:8080/"
        },
        "outputId": "89d1fb0a-ff2a-4763-bc61-aff7dafd88bb"
      },
      "outputs": [
        {
          "output_type": "execute_result",
          "data": {
            "text/plain": [
              "47"
            ]
          },
          "metadata": {},
          "execution_count": 29
        }
      ],
      "source": [
        "#\n",
        "# Let's try again... with the dice-rolling experiment\n",
        "#\n",
        "\n",
        "from random import choice\n",
        "\n",
        "def count_doubles( num_rolls ):\n",
        "    \"\"\"\n",
        "        have the computer roll two six-sided dice, counting the # of doubles\n",
        "        (same value on both dice)\n",
        "        Then, return the number of doubles...\n",
        "    \"\"\"\n",
        "    numdoubles = 0       # start with no doubles so far...\n",
        "\n",
        "    for i in range(0,num_rolls):   # roll repeatedly: i keeps track\n",
        "        d1 = choice( [1,2,3,4,5,6] )  # 0 to 6, inclusive\n",
        "        d2 = choice( range(1,7) )     # 0 to 6, inclusive\n",
        "        if d1 == d2:\n",
        "            numdoubles += 1\n",
        "            you = \"🙂\"\n",
        "        else:\n",
        "            you = \" \"\n",
        "\n",
        "        #print(\"run\", i, \"roll:\", d1, d2, you, flush=True)\n",
        "        #time.sleep(.01)\n",
        "\n",
        "    return numdoubles\n",
        "\n",
        "# test our function!\n",
        "count_doubles(300)"
      ]
    },
    {
      "cell_type": "code",
      "execution_count": null,
      "metadata": {
        "id": "6tX-dj3m7hVW",
        "colab": {
          "base_uri": "https://localhost:8080/"
        },
        "outputId": "6fd7fb74-281d-45de-d1b8-3646b8c215ec"
      },
      "outputs": [
        {
          "output_type": "stream",
          "name": "stdout",
          "text": [
            "doubles-counting: L[0:5] are [55, 52, 56, 42, 55]\n",
            "doubles-counting: L[-5:] are [49, 47, 48, 49, 42]\n"
          ]
        }
      ],
      "source": [
        "L = [ count_doubles(300) for i in range(1000) ]\n",
        "print(\"doubles-counting: L[0:5] are\", L[0:5])\n",
        "print(\"doubles-counting: L[-5:] are\", L[-5:])\n",
        "#\n",
        "# Let's see what the average results were\n",
        "# print(\"len(L) is\", len(L))\n",
        "# ave = sum(L)/len(L)\n",
        "# print(\"average is\", ave )\n",
        "\n",
        "# try min and max, count of 42's, count of 92's, etc."
      ]
    },
    {
      "cell_type": "markdown",
      "metadata": {
        "id": "YKyjzTAc7mHs"
      },
      "source": [
        "### Let's try the birthday-room..."
      ]
    },
    {
      "cell_type": "code",
      "execution_count": null,
      "metadata": {
        "colab": {
          "base_uri": "https://localhost:8080/"
        },
        "id": "cy-ChVtH7w98",
        "outputId": "ee986ec8-76e2-4491-e69b-dbfc93c652dc"
      },
      "outputs": [
        {
          "output_type": "stream",
          "name": "stdout",
          "text": [
            "18\n"
          ]
        }
      ],
      "source": [
        "\n",
        "# let's try our birthday-room experiment:\n",
        "\n",
        "from random import choice\n",
        "\n",
        "def birthday_room( days_in_year = 365 ):    # note: default input!\n",
        "    \"\"\"\n",
        "        run the birthday room experiment once!\n",
        "    \"\"\"\n",
        "    B = []\n",
        "    next_bday = choice( range(0,days_in_year) )\n",
        "\n",
        "    while next_bday not in B:\n",
        "        B += [ next_bday ]\n",
        "        next_bday = choice( range(0,days_in_year) )\n",
        "\n",
        "    B += [ next_bday ]\n",
        "    return B\n",
        "\n",
        "\n",
        "\n",
        "# test our three-curtain-game, many times:\n",
        "result = birthday_room()   # use the default value\n",
        "print(len(result))"
      ]
    },
    {
      "cell_type": "code",
      "source": [
        "sum([ 2, 3, 4 ]) / len([2,3,4])"
      ],
      "metadata": {
        "colab": {
          "base_uri": "https://localhost:8080/"
        },
        "id": "0aivY39AsefX",
        "outputId": "2ec112d9-8810-4117-95da-e4771b895a00"
      },
      "execution_count": null,
      "outputs": [
        {
          "output_type": "execute_result",
          "data": {
            "text/plain": [
              "3.0"
            ]
          },
          "metadata": {},
          "execution_count": 38
        }
      ]
    },
    {
      "cell_type": "markdown",
      "source": [],
      "metadata": {
        "id": "taVOd_ADsrke"
      }
    },
    {
      "cell_type": "code",
      "source": [
        "LC = [ len(birthday_room()) for i in range(100) ]\n",
        "print(LC)\n",
        "sum(LC) / len(LC)"
      ],
      "metadata": {
        "colab": {
          "base_uri": "https://localhost:8080/"
        },
        "id": "9C33ocQ1sHgJ",
        "outputId": "c4ec8c10-6a41-4201-d2aa-150886016ed2"
      },
      "execution_count": null,
      "outputs": [
        {
          "output_type": "stream",
          "name": "stdout",
          "text": [
            "[19, 36, 12, 15, 24, 42, 47, 6, 8, 23, 28, 24, 13, 43, 25, 20, 21, 34, 33, 31, 9, 30, 29, 31, 22, 35, 45, 38, 8, 39, 7, 12, 51, 42, 46, 9, 17, 15, 38, 23, 36, 11, 28, 14, 13, 17, 32, 48, 35, 68, 13, 45, 12, 47, 9, 15, 23, 41, 41, 19, 3, 14, 40, 8, 27, 23, 5, 11, 22, 33, 22, 27, 10, 23, 8, 20, 12, 23, 49, 39, 20, 26, 29, 17, 34, 53, 42, 21, 22, 13, 11, 23, 23, 16, 14, 14, 32, 53, 25, 22]\n"
          ]
        },
        {
          "output_type": "execute_result",
          "data": {
            "text/plain": [
              "25.46"
            ]
          },
          "metadata": {},
          "execution_count": 37
        }
      ]
    },
    {
      "cell_type": "code",
      "execution_count": null,
      "metadata": {
        "id": "HZVqUUnS76MF",
        "colab": {
          "base_uri": "https://localhost:8080/"
        },
        "outputId": "b7de6aa2-08fb-43a3-e3f3-ef89f8d91c55"
      },
      "outputs": [
        {
          "output_type": "stream",
          "name": "stdout",
          "text": [
            "birthday room: L[0:5] are [38, 9, 17, 5, 29]\n",
            "birthday room: L[-5:] are [17, 13, 7, 13, 31]\n",
            "len(L) is 100000\n",
            "average is 24.60969\n",
            "max is 91\n"
          ]
        }
      ],
      "source": [
        "\n",
        "L = [ len(birthday_room()) for i in range(100000) ]\n",
        "print(\"birthday room: L[0:5] are\", L[0:5])\n",
        "print(\"birthday room: L[-5:] are\", L[-5:])\n",
        "#\n",
        "# Let's see what the average results were\n",
        "print(\"len(L) is\", len(L))\n",
        "ave = sum(L)/len(L)\n",
        "print(\"average is\", ave )\n",
        "print(\"max is\", max(L))\n",
        "# try min and max, count of 42's, count of 92's, etc."
      ]
    },
    {
      "cell_type": "code",
      "source": [
        "[ x**2 for x in [3,5,7] ]"
      ],
      "metadata": {
        "colab": {
          "base_uri": "https://localhost:8080/"
        },
        "id": "AIrauI5nvcaN",
        "outputId": "b4d33050-a8e3-4d41-c12e-0b1d3c9a3c2f"
      },
      "execution_count": null,
      "outputs": [
        {
          "output_type": "execute_result",
          "data": {
            "text/plain": [
              "[9, 25, 49]"
            ]
          },
          "metadata": {},
          "execution_count": 41
        }
      ]
    },
    {
      "cell_type": "code",
      "source": [
        "s = \"ash\"\n",
        "s[2]"
      ],
      "metadata": {
        "colab": {
          "base_uri": "https://localhost:8080/",
          "height": 36
        },
        "id": "q_qM3GoWv8eZ",
        "outputId": "263f0537-d7bf-4f21-907a-d1ce34606006"
      },
      "execution_count": null,
      "outputs": [
        {
          "output_type": "execute_result",
          "data": {
            "text/plain": [
              "'h'"
            ],
            "application/vnd.google.colaboratory.intrinsic+json": {
              "type": "string"
            }
          },
          "metadata": {},
          "execution_count": 42
        }
      ]
    },
    {
      "cell_type": "code",
      "source": [
        "[  s[-1] for s in [\"ash\", \"IST341_Participant_8\", \"mohammed\"] ]"
      ],
      "metadata": {
        "colab": {
          "base_uri": "https://localhost:8080/"
        },
        "id": "uzlFpCc_vtbT",
        "outputId": "13c6752c-a7e7-462f-d98e-84e5027c50a4"
      },
      "execution_count": null,
      "outputs": [
        {
          "output_type": "execute_result",
          "data": {
            "text/plain": [
              "['h', 'n', 'd']"
            ]
          },
          "metadata": {},
          "execution_count": 43
        }
      ]
    },
    {
      "cell_type": "code",
      "source": [
        "max(L)"
      ],
      "metadata": {
        "colab": {
          "base_uri": "https://localhost:8080/"
        },
        "id": "_lH7G-DBtZBS",
        "outputId": "1d2b4136-7059-4ee1-feb9-38c5fc4fd328"
      },
      "execution_count": null,
      "outputs": [
        {
          "output_type": "execute_result",
          "data": {
            "text/plain": [
              "91"
            ]
          },
          "metadata": {},
          "execution_count": 44
        }
      ]
    },
    {
      "cell_type": "markdown",
      "metadata": {
        "id": "aTcC1Aa477EF"
      },
      "source": [
        "### The Monty-Hall (three-curtain) switch/stay challenge:"
      ]
    },
    {
      "cell_type": "code",
      "execution_count": null,
      "metadata": {
        "id": "IaOvr7c17_OV",
        "colab": {
          "base_uri": "https://localhost:8080/"
        },
        "outputId": "13fa0452-a861-4b02-b433-be547fc3d64e"
      },
      "outputs": [
        {
          "output_type": "execute_result",
          "data": {
            "text/plain": [
              "100"
            ]
          },
          "metadata": {},
          "execution_count": 46
        }
      ],
      "source": [
        "#\n",
        "# Example Monte Carlo simulation: the Monte-Carlo Monte Hall paradox\n",
        "#\n",
        "\n",
        "from random import choice\n",
        "\n",
        "def count_wins( N, original_choice, stay_or_switch ):\n",
        "    \"\"\"\n",
        "        run the Monte Hall paradox N times, with\n",
        "        original_choice, which can be 1, 2, or 3 and\n",
        "        stay_or_switch, which can be \"stay\" or \"switch\"\n",
        "        Count the number of wins and return that number.\n",
        "    \"\"\"\n",
        "    numwins = 0       # start with no wins so far...\n",
        "\n",
        "    for i in range(1,N+1):      # run repeatedly: i keeps track\n",
        "        win_curtain = choice([1,2,3])   # the curtain with the grand prize\n",
        "        original_choice = original_choice      # just a reminder that we have this variable\n",
        "        stay_or_switch = stay_or_switch        # a reminder that we have this, too\n",
        "\n",
        "        result = \"\"\n",
        "        if original_choice == win_curtain and stay_or_switch == \"stay\": result = \" Win!!!\"\n",
        "        elif original_choice == win_curtain and stay_or_switch == \"switch\": result = \"lose...\"\n",
        "        elif original_choice != win_curtain and stay_or_switch == \"stay\": result = \"lose...\"\n",
        "        elif original_choice != win_curtain and stay_or_switch == \"switch\": result = \" Win!!!\"\n",
        "\n",
        "        #print(\"run\", i, \"you\", result, flush=True)\n",
        "        #time.sleep(.025)\n",
        "\n",
        "        if result == \" Win!!!\":\n",
        "            numwins += 1\n",
        "\n",
        "\n",
        "    return numwins\n",
        "\n",
        "# test our three-curtain-game, many times:\n",
        "count_wins(300, 1, \"stay\")"
      ]
    },
    {
      "cell_type": "code",
      "execution_count": null,
      "metadata": {
        "id": "bf68cWHx8BwX",
        "colab": {
          "base_uri": "https://localhost:8080/"
        },
        "outputId": "27b15d9a-558d-48b4-81af-a990fa356f9b"
      },
      "outputs": [
        {
          "output_type": "stream",
          "name": "stdout",
          "text": [
            "curtain game: L[0:5] are [107, 99, 117, 102, 96]\n",
            "curtain game: L[-5:] are [113, 109, 91, 85, 103]\n",
            "len(L) is 1000\n",
            "average is 100.171\n",
            "Minimum value in L: 74\n",
            "Maximum value in L: 126\n",
            "Number of 42s in L: 0\n",
            "Number of 92s in L: 32\n",
            "Average number of wins is: 100.171\n"
          ]
        }
      ],
      "source": [
        "\n",
        "L = [ count_wins(300,1,\"stay\") for i in range(1000) ]\n",
        "print(\"curtain game: L[0:5] are\", L[0:5])\n",
        "print(\"curtain game: L[-5:] are\", L[-5:])\n",
        "#\n",
        "# Let's see what the average results were\n",
        "print(\"len(L) is\", len(L))\n",
        "ave = sum(L)/len(L)\n",
        "print(\"average is\", ave )\n",
        "\n",
        "\n",
        "# Minimum and maximum values\n",
        "print(\"Minimum value in L:\", min(L))\n",
        "print(\"Maximum value in L:\", max(L))\n",
        "\n",
        "# Count how many times 42 appears\n",
        "count_42 = L.count(42)\n",
        "print(\"Number of 42s in L:\", count_42)\n",
        "\n",
        "# Count how many times 92 appears\n",
        "count_92 = L.count(92)\n",
        "print(\"Number of 92s in L:\", count_92)\n",
        "\n",
        "# Compute and print the average\n",
        "average = sum(L) / len(L)\n",
        "print(\"Average number of wins is:\", average)"
      ]
    },
    {
      "cell_type": "markdown",
      "metadata": {
        "id": "Xt65wY6E8EJl"
      },
      "source": [
        "## <b><font color=\"Coral\">Task #4</font></b>: Analyzing random walks of radius ``r``\n",
        "\n",
        "Here, the random-walk code is complete:"
      ]
    },
    {
      "cell_type": "code",
      "execution_count": null,
      "metadata": {
        "id": "aUaJmE3D8QJ3",
        "colab": {
          "base_uri": "https://localhost:8080/"
        },
        "outputId": "7b951461-5525-4058-f842-fc951ff184af"
      },
      "outputs": [
        {
          "output_type": "execute_result",
          "data": {
            "text/plain": [
              "11"
            ]
          },
          "metadata": {},
          "execution_count": 59
        }
      ],
      "source": [
        "#\n",
        "# First, the random-walking code:\n",
        "#\n",
        "\n",
        "import random\n",
        "\n",
        "def rs():\n",
        "    \"\"\"One random step\"\"\"\n",
        "    return random.choice([-1, 1])\n",
        "\n",
        "def rwalk(radius):\n",
        "    \"\"\"Random walk between -radius and +radius  (starting at 0 by default)\"\"\"\n",
        "    totalsteps = 0          # Starting value of totalsteps (_not_ final value!)\n",
        "    start = 0               # Start location (_not_ the total # of steps)\n",
        "\n",
        "    while True:             # Run \"forever\" (really, until a return or break)\n",
        "        if start == -radius or start == radius:\n",
        "            return totalsteps # Phew!  Return totalsteps (stops the while loop)\n",
        "\n",
        "        start = start + rs()\n",
        "        totalsteps += 1     # addn totalsteps 1 (for all who miss Hmmm :-)\n",
        "\n",
        "        #print(\"at:\", start, flush=True) # To see what's happening / debugging\n",
        "        # ASCII = \"|\" + \"_\"*(start- -radius) + \"S\" + \"_\"*(radius-start) + \"|\"\n",
        "        # print(ASCII, flush=True) # To see what's happening / debugging\n",
        "\n",
        "    # it can never get here!\n",
        "\n",
        "# Let's test it:\n",
        "rwalk(5)   # walk randomly within our radius... until we hit a wall!"
      ]
    },
    {
      "cell_type": "markdown",
      "metadata": {
        "id": "pCrrerSW8cnJ"
      },
      "source": [
        "Your task: analyze the function ``rwalk`` for different values of the radius\n",
        "\n",
        "The next cell gets you started and asks the specific questions:"
      ]
    },
    {
      "cell_type": "code",
      "execution_count": null,
      "metadata": {
        "id": "hHOPOnav8qyp",
        "colab": {
          "base_uri": "https://localhost:8080/"
        },
        "outputId": "564e63de-3518-4ebd-9941-21a4cafbef1d"
      },
      "outputs": [
        {
          "output_type": "stream",
          "name": "stdout",
          "text": [
            "The average for radius==5 (for 1000 trials) was 25.382\n"
          ]
        }
      ],
      "source": [
        "\n",
        "# Analyze!\n",
        "# create List Comprehensions that run rwalk(5) for 1000 times\n",
        "\n",
        "# Here is a starting example:\n",
        "L = [ rwalk(5) for i in range(1000) ]\n",
        "\n",
        "# then, find the average of those 1000 experiments for rwalk(5)\n",
        "average = sum(L)/len(L)\n",
        "print(\"The average for radius==5 (for 1000 trials) was\", average)\n",
        "\n",
        "\n",
        "# Next, try it for more values...\n",
        "# Then, you'll create a hypothesis about what's happening!\n",
        "\n"
      ]
    },
    {
      "cell_type": "markdown",
      "metadata": {
        "id": "6YttN3PVhOz8"
      },
      "source": [
        "#### <font color=\"Coral\"><b>Processes to try out</b></font>\n",
        "+ In the next cell, repeat the above for a radius of 6, 7, 8, 9, and 10\n",
        "+ It's fast to do:  Copy and paste and edit!!"
      ]
    },
    {
      "cell_type": "code",
      "execution_count": null,
      "metadata": {
        "id": "l8JZFP0W9TRp",
        "colab": {
          "base_uri": "https://localhost:8080/"
        },
        "outputId": "d7fb23a7-b054-4663-f22a-cee1f41cc302"
      },
      "outputs": [
        {
          "output_type": "stream",
          "name": "stdout",
          "text": [
            "For radius=  6 the average steps over 1000 trials is 36.638\n",
            "For radius=  7 the average steps over 1000 trials is 52.934\n",
            "For radius=  8 the average steps over 1000 trials is 65.488\n",
            "For radius=  9 the average steps over 1000 trials is 80.96\n",
            "For radius=  10 the average steps over 1000 trials is 96.788\n"
          ]
        }
      ],
      "source": [
        "# Repeat the above for a radius of 6, 7, 8, 9, and 10\n",
        "# It's fast to do:  Copy and paste and edit!!\n",
        "\n",
        "r_values = [6, 7, 8, 9, 10]\n",
        "\n",
        "\n",
        "for r in r_values:\n",
        "    L = [rwalk(r) for _ in range(1000)]\n",
        "    average = sum(L) / len(L)\n",
        "    print(\"For radius= \", r, \"the average steps over 1000 trials is\" , average)"
      ]
    },
    {
      "cell_type": "markdown",
      "metadata": {
        "id": "ju9ZVOtKg3hU"
      },
      "source": [
        "#### <font color=\"Coral\"><b>Questions to answer</b></font>\n",
        "+ On average, how many steps does it seem to take to get \"to the edge\" when radius = r?\n",
        "+ How far away from the start would you expect our walker to be after 49 steps? after 100 steps?\n",
        "+ How far away from the start would you expect our walker to be after STEPS steps?\n",
        "\n",
        "<br>\n",
        "\n",
        "Feel free to answer these questions right in this cell:\n",
        "\n",
        "1) These results suggest that the average number of steps is r**2.\n",
        "<br>\n",
        "\n",
        "2) The expected distance from the origin after 49 steps would be 7 units away, and after 100 steps would be 10 units away.   \n",
        "<br>\n",
        "3) we expect the walker to be roughly \"sqrt(STEPS)\" units from the origin.\n",
        "\n",
        "\n",
        "\n",
        "\n",
        "\n",
        "<br>\n",
        "<br>\n",
        "<br>\n",
        "<br>\n",
        "<br>"
      ]
    },
    {
      "cell_type": "markdown",
      "metadata": {
        "id": "QhOHmwdLYfqN"
      },
      "source": [
        "<br>\n",
        "<hr>\n",
        "<br>\n",
        "\n",
        "# <b>Libraries!</b>\n",
        "\n",
        "Python's deepest strength is the expanse of its _human_-community... .\n",
        "\n",
        "That is reflected, first-and-foremost, in its amazing slate of _libraries_\n",
        "+ Each library is a set of Python files (and, sometimes, other languages) that humans have assembled to address a task or need (or for fun or for exploration or ...)\n",
        "+ The <tt>import</tt> statement is how we access these libraries.\n",
        "\n",
        "The examples below introduce the <tt>requests</tt> library and show off its ability - using Python - to \"scrape\" websites and make \"API calls\"\n",
        "+ To \"scrape\" usually means to \"request the source of a webpage\"\n",
        "+ To make \"API calls\" usually means to \"access some _advertised_ raw data\"\n",
        "\n",
        "The webpage we will scrape is [this simple one I made](https://www.cs.hmc.edu/~dodds/demo.html). (Yay!)\n",
        "\n",
        "The raw data we will access is from the [International Space Station's API](http://open-notify.org/Open-Notify-API/ISS-Location-Now/)...\n",
        "\n"
      ]
    },
    {
      "cell_type": "code",
      "execution_count": null,
      "metadata": {
        "id": "bRflpUeWeXA5"
      },
      "outputs": [],
      "source": [
        "#\n",
        "# see if we have the requests library...\n",
        "#\n",
        "\n",
        "import requests"
      ]
    },
    {
      "cell_type": "code",
      "execution_count": null,
      "metadata": {
        "id": "7wYQAzd8ebPt",
        "colab": {
          "base_uri": "https://localhost:8080/"
        },
        "outputId": "2f17c25b-867c-455e-9751-bd5cc9364365"
      },
      "outputs": [
        {
          "output_type": "execute_result",
          "data": {
            "text/plain": [
              "<Response [200]>"
            ]
          },
          "metadata": {},
          "execution_count": 81
        }
      ],
      "source": [
        "#\n",
        "# let's try it on a simple webpage\n",
        "#\n",
        "\n",
        "#\n",
        "# we assign the url and obtain the api-call result into result\n",
        "#    Note that result will be an object that contains many fields (not a simple string)\n",
        "#\n",
        "\n",
        "url = \"https://www.cs.hmc.edu/~dodds/demo.html\"\n",
        "#url = \"https://www.cgu.edu/\"\n",
        "url = \"https://www.facebook.com/terms?section_id=section_3\"\n",
        "result = requests.get(url)\n",
        "result\n",
        "\n",
        "# if it succeeded, you should see <Response [200]>\n",
        "# See the list of HTTP reponse codes for the full set!"
      ]
    },
    {
      "cell_type": "markdown",
      "metadata": {
        "id": "2ICfZVIPedl7"
      },
      "source": [
        "[Here is Wikipedia's list of all HTTP response codes](https://en.wikipedia.org/wiki/List_of_HTTP_status_codes)\n",
        "+ 100's: information\n",
        "+ 200's: success           \n",
        "+ 300's: redirects\n",
        "+ 400's + 500's: errors\n",
        "\n",
        "Perhaps familiar:  404 <br>\n",
        "Especially fun:  418"
      ]
    },
    {
      "cell_type": "code",
      "execution_count": null,
      "metadata": {
        "id": "vdlGB2y5eoPj",
        "colab": {
          "base_uri": "https://localhost:8080/",
          "height": 138
        },
        "outputId": "7b900b65-0aff-4e8c-d246-8f5a5e4f576a"
      },
      "outputs": [
        {
          "output_type": "execute_result",
          "data": {
            "text/plain": [
              "requests.models.Response"
            ],
            "text/html": [
              "<div style=\"max-width:800px; border: 1px solid var(--colab-border-color);\"><style>\n",
              "      pre.function-repr-contents {\n",
              "        overflow-x: auto;\n",
              "        padding: 8px 12px;\n",
              "        max-height: 500px;\n",
              "      }\n",
              "\n",
              "      pre.function-repr-contents.function-repr-contents-collapsed {\n",
              "        cursor: pointer;\n",
              "        max-height: 100px;\n",
              "      }\n",
              "    </style>\n",
              "    <pre style=\"white-space: initial; background:\n",
              "         var(--colab-secondary-surface-color); padding: 8px 12px;\n",
              "         border-bottom: 1px solid var(--colab-border-color);\"><b>requests.models.Response</b><br/>def __init__()</pre><pre class=\"function-repr-contents function-repr-contents-collapsed\" style=\"\"><a class=\"filepath\" style=\"display:none\" href=\"#\">/usr/local/lib/python3.11/dist-packages/requests/models.py</a>The :class:`Response &lt;Response&gt;` object, which contains a\n",
              "server&#x27;s response to an HTTP request.</pre>\n",
              "      <script>\n",
              "      if (google.colab.kernel.accessAllowed && google.colab.files && google.colab.files.view) {\n",
              "        for (const element of document.querySelectorAll('.filepath')) {\n",
              "          element.style.display = 'block'\n",
              "          element.onclick = (event) => {\n",
              "            event.preventDefault();\n",
              "            event.stopPropagation();\n",
              "            google.colab.files.view(element.textContent, 640);\n",
              "          };\n",
              "        }\n",
              "      }\n",
              "      for (const element of document.querySelectorAll('.function-repr-contents')) {\n",
              "        element.onclick = (event) => {\n",
              "          event.preventDefault();\n",
              "          event.stopPropagation();\n",
              "          element.classList.toggle('function-repr-contents-collapsed');\n",
              "        };\n",
              "      }\n",
              "      </script>\n",
              "      </div>"
            ]
          },
          "metadata": {},
          "execution_count": 83
        }
      ],
      "source": [
        "#\n",
        "# when exploring, you'll often obtain an unfamiliar object.\n",
        "# Here, we'll ask what type it is\n",
        "type(result)"
      ]
    },
    {
      "cell_type": "markdown",
      "metadata": {
        "id": "LMwyLARjeqZD"
      },
      "source": [
        "How to access the data inside this object, ``result`` ?\n",
        "\n",
        "One way: [Head over to the online documentation](https://requests.readthedocs.io/en/latest/api/#requests.Response)\n",
        "\n",
        "In addition, you can \"look around\" in Python:\n",
        "\n",
        "Notice - the <tt>for</tt> loop! 😃"
      ]
    },
    {
      "cell_type": "code",
      "execution_count": null,
      "metadata": {
        "id": "p97FU0EoebxV",
        "colab": {
          "base_uri": "https://localhost:8080/"
        },
        "outputId": "bb5adfc9-31f6-4eab-9381-58122605ede8"
      },
      "outputs": [
        {
          "output_type": "stream",
          "name": "stdout",
          "text": [
            "close\n",
            "connection\n",
            "content\n",
            "cookies\n",
            "elapsed\n",
            "encoding\n",
            "headers\n",
            "history\n",
            "json\n",
            "links\n",
            "next\n",
            "ok\n",
            "raw\n",
            "reason\n",
            "request\n",
            "text\n",
            "url\n"
          ]
        }
      ],
      "source": [
        "# We can print all of the data members in an object with dir\n",
        "# Since dir returns a list, we will grab that list and loop over it:\n",
        "all_fields = dir(result)\n",
        "\n",
        "for field in all_fields:\n",
        "    if \"_\" not in field:\n",
        "        print(field)"
      ]
    },
    {
      "cell_type": "markdown",
      "metadata": {
        "id": "ahi8U39Qe8ck"
      },
      "source": [
        "Here, we will use <tt>f-strings</tt> to print four of the pieces of data inside <tt>result</tt>"
      ]
    },
    {
      "cell_type": "code",
      "execution_count": null,
      "metadata": {
        "id": "6A_k2K_Oe79x",
        "colab": {
          "base_uri": "https://localhost:8080/"
        },
        "outputId": "778fe033-c7c9-4c8e-e52a-52e4e2efbecd"
      },
      "outputs": [
        {
          "output_type": "stream",
          "name": "stdout",
          "text": [
            "result.url         is https://www.facebook.com/terms?section_id=section_3\n",
            "result.raw         is <urllib3.response.HTTPResponse object at 0x7b4a891bc8b0>\n",
            "result.encoding    is utf-8\n",
            "result.status_code is 200\n"
          ]
        }
      ],
      "source": [
        "#\n",
        "# Let's try printing a few of those fields (data members):\n",
        "print(f\"result.url         is {result.url}\")  # the original url\n",
        "print(f\"result.raw         is {result.raw}\")  # another object!\n",
        "print(f\"result.encoding    is {result.encoding}\")  # utf-8 is very common\n",
        "print(f\"result.status_code is {result.status_code}\")  # 200 is success!"
      ]
    },
    {
      "cell_type": "code",
      "source": [
        "# http://api.open-notify.org/iss-now.json\n"
      ],
      "metadata": {
        "id": "G9Jtk74j8wLl"
      },
      "execution_count": null,
      "outputs": []
    },
    {
      "cell_type": "code",
      "execution_count": null,
      "metadata": {
        "id": "h4NyWZh-fDLn",
        "colab": {
          "base_uri": "https://localhost:8080/"
        },
        "outputId": "afe113cc-30ea-497e-d3f2-6373c417cec4"
      },
      "outputs": [
        {
          "output_type": "stream",
          "name": "stdout",
          "text": [
            "<!DOCTYPE html><html id=\"facebook\" class=\"_9dls __fb-light-mode\" lang=\"en\" dir=\"ltr\"><head><link data-default-icon=\"https://static.xx.fbcdn.net/rsrc.php/y1/r/ay1hV6OlegS.ico\" data-badged-icon=\"https://static.xx.fbcdn.net/rsrc.php/yD/r/UJj0tgk-RrT.ico\" rel=\"shortcut icon\" href=\"https://static.xx.fbcdn.net/rsrc.php/y1/r/ay1hV6OlegS.ico\" /><meta name=\"bingbot\" content=\"noarchive\" /><meta name=\"viewport\" content=\"width=device-width,initial-scale=1,maximum-scale=2,shrink-to-fit=no\" /><link rel=\"canonical\" href=\"https://www.facebook.com/terms/?section_id=section_3\" /><meta name=\"description\" content=\"The Meta Terms govern your use of Facebook, Messenger, and the other products, features, apps, services, technologies, and software we offer.\" /><link rel=\"alternate\" media=\"only screen and (max-width: 640px)\" href=\"https://m.facebook.com/terms/?section_id=section_3\" /><link rel=\"alternate\" media=\"handheld\" href=\"https://m.facebook.com/terms/?section_id=section_3\" /><meta property=\"og:type\" content=\"article\" /><meta property=\"og:title\" content=\"Meta Terms of Service\" /><meta property=\"og:description\" content=\"The Meta Terms govern your use of Facebook, Messenger, and the other products, features, apps, services, technologies, and software we offer.\" /><meta property=\"og:url\" content=\"https://www.facebook.com/terms/?section_id=section_3\" /><meta property=\"og:locale\" content=\"en_US\" /><meta name=\"referrer\" content=\"default\" id=\"meta_referrer\" /><meta name=\"twitter:card\" content=\"summary\" /><meta name=\"twitter:title\" content=\"Meta Terms of Service\" /><meta name=\"twitter:description\" content=\"The Meta Terms govern your use of Facebook, Messenger, and the other products, features, apps, services, technologies, and software we offer.\" /><style nonce=\"p0roxv3n\">:root, .__fb-light-mode:root, .__fb-light-mode {--fds-black:#000000;--fds-black-alpha-05:rgba(0, 0, 0, 0.05);--fds-black-alpha-10:rgba(0, 0, 0, 0.1);--fds-black-alpha-15:rgba(0, 0, 0, 0.15);--fds-black-alpha-20:rgba(0, 0, 0, 0.2);--fds-black-alpha-30:rgba(0, 0, 0, 0.3);--fds-black-alpha-40:rgba(0, 0, 0, 0.4);--fds-black-alpha-50:rgba(0, 0, 0, 0.5);--fds-black-alpha-60:rgba(0, 0, 0, 0.6);--fds-black-alpha-80:rgba(0, 0, 0, 0.8);--fds-blue-05:#ECF3FF;--fds-blue-30:#AAC9FF;--fds-blue-40:#77A7FF;--fds-blue-60:#1877F2;--fds-blue-70:#2851A3;--fds-blue-80:#1D3C78;--fds-button-text:#444950;--fds-comment-background:#F2F3F5;--fds-dark-mode-gray-35:#CCCCCC;--fds-dark-mode-gray-50:#828282;--fds-dark-mode-gray-70:#4A4A4A;--fds-dark-mode-gray-80:#373737;--fds-dark-mode-gray-90:#282828;--fds-dark-mode-gray-100:#1C1C1C;--fds-gray-00:#F5F6F7;--fds-gray-05:#F2F3F5;--fds-gray-10:#EBEDF0;--fds-gray-20:#DADDE1;--fds-gray-25:#CCD0D5;--fds-gray-30:#BEC3C9;--fds-gray-45:#8D949E;--fds-gray-70:#606770;--fds-gray-80:#444950;--fds-gray-90:#303338;--fds-gray-100:#1C1E21;--fds-green-55:#00A400;--fds-green-65:#51CE70;--fds-highlight:#3578E5;--fds-highlight-cell-background:#ECF3FF;--fds-primary-icon:#1C1E21;--fds-primary-text:#1C1E21;--fds-red-55:#FA383E;--fds-soft:cubic-bezier(.08,.52,.52,1);--fds-spectrum-aluminum-tint-70:#E4F0F6;--fds-spectrum-blue-gray-tint-70:#CFD1D5;--fds-spectrum-cherry:#F35369;--fds-spectrum-cherry-tint-70:#FBCCD2;--fds-spectrum-grape-tint-70:#DDD5F0;--fds-spectrum-grape-tint-90:#F4F1FA;--fds-spectrum-lemon-dark-1:#F5C33B;--fds-spectrum-lemon-tint-70:#FEF2D1;--fds-spectrum-lime:#A3CE71;--fds-spectrum-lime-tint-70:#E4F0D5;--fds-spectrum-orange-tint-70:#FCDEC5;--fds-spectrum-orange-tint-90:#FEF4EC;--fds-spectrum-seafoam-tint-70:#CAEEF9;--fds-spectrum-slate-dark-2:#89A1AC;--fds-spectrum-slate-tint-70:#EAEFF2;--fds-spectrum-teal:#6BCEBB;--fds-spectrum-teal-dark-1:#4DBBA6;--fds-spectrum-teal-dark-2:#31A38D;--fds-spectrum-teal-tint-70:#D2F0EA;--fds-spectrum-teal-tint-90:#F0FAF8;--fds-spectrum-tomato:#FB724B;--fds-spectrum-tomato-tint-30:#F38E7B;--fds-spectrum-tomato-tint-90:#FDEFED;--fds-strong:cubic-bezier(.12,.8,.32,1);--fds-unified-blue-35:#1455B0;--fds-unified-gray-20:#323436;--fds-white:#FFFFFF;--fds-white-alpha-05:rgba(255, 255, 255, 0.05);--fds-white-alpha-10:rgba(255, 255, 255, 0.1);--fds-white-alpha-20:rgba(255, 255, 255, 0.2);--fds-white-alpha-30:rgba(255, 255, 255, 0.3);--fds-white-alpha-40:rgba(255, 255, 255, 0.4);--fds-white-alpha-50:rgba(255, 255, 255, 0.5);--fds-white-alpha-60:rgba(255, 255, 255, 0.6);--fds-white-alpha-80:rgba(255, 255, 255, 0.8);--fds-yellow-20:#FFBA00;--accent:#0A1317;--always-white:#FFFFFF;--always-black:#000000;--always-dark-gradient:linear-gradient(rgba(0,0,0,0), rgba(0,0,0,0.6));--always-dark-overlay:rgba(0, 0, 0, 0.4);--always-light-overlay:rgba(255, 255, 255, 0.4);--always-gray-40:#65676B;--always-gray-75:#BCC0C4;--always-gray-95:#F0F2F5;--attachment-footer-background:rgba(10, 19, 23, 0.1);--background-deemphasized:#F1F4F7;--badge-background-color-blue:var(--accent);--badge-background-color-dark-gray:var(--secondary-icon);--badge-background-color-gray:var(--disabled-icon);--badge-background-color-green:var(--positive);--badge-background-color-light-blue:var(--highlight-bg);--badge-background-color-red:var(--notification-badge);--badge-background-color-yellow:var(--base-lemon);--base-blue:#1877F2;--base-cherry:#F3425F;--base-grape:#9360F7;--base-lemon:#F7B928;--base-lime:#45BD62;--base-pink:#FF66BF;--base-seafoam:#54C7EC;--base-teal:#2ABBA7;--base-tomato:#FB724B;--text-badge-info-background:#DBECFF;--text-badge-success-background:#C4F8B9;--text-badge-attention-background:#FCEC85;--text-badge-critical-background:#FEE4E6;--blue-link:#0064E0;--border-focused:#5D6C7B;--card-background:#FFFFFF;--card-background-flat:#FFFFFF;--comment-background:rgba(10, 19, 23, 0.1);--comment-footer-background:#F6F9FA;--dataviz-primary-1:rgb(0,174,143);--disabled-button-background:#E4E6EB;--disabled-button-text:#BCC0C4;--disabled-icon:#96A6B4;--disabled-text:#96A6B4;--divider:#DDE2E8;--event-date:#D31130;--fb-wordmark:#1877F2;--fb-logo:#0866FF;--filter-accent:invert(39%) sepia(57%) saturate(200%) saturate(200%) saturate(200%) saturate(200%) saturate(200%) saturate(147.75%) hue-rotate(202deg) brightness(97%) contrast(96%);--filter-always-white:invert(100%);--filter-disabled-icon:invert(80%) sepia(6%) saturate(200%) saturate(120%) hue-rotate(173deg) brightness(98%) contrast(89%);--filter-placeholder-icon:invert(59%) sepia(11%) saturate(200%) saturate(135%) hue-rotate(176deg) brightness(96%) contrast(94%);--filter-primary-accent:invert(39%) sepia(57%) saturate(200%) saturate(200%) saturate(200%) saturate(200%) saturate(200%) saturate(147.75%) hue-rotate(202deg) brightness(97%) contrast(96%);--filter-primary-icon:invert(8%) sepia(10%) saturate(200%) saturate(200%) saturate(166%) hue-rotate(177deg) brightness(104%) contrast(91%);--filter-secondary-button-icon-on-media:invert(100%);--filter-secondary-icon:invert(39%) sepia(21%) saturate(200%) saturate(109.5%) hue-rotate(174deg) brightness(94%) contrast(86%);--filter-warning-icon:invert(77%) sepia(29%) saturate(200%) saturate(200%) saturate(200%) saturate(200%) saturate(200%) saturate(128%) hue-rotate(359deg) brightness(102%) contrast(107%);--filter-blue-link-icon:invert(30%) sepia(98%) saturate(200%) saturate(200%) saturate(200%) saturate(166.5%) hue-rotate(192deg) brightness(91%) contrast(101%);--filter-positive:invert(37%) sepia(61%) saturate(200%) saturate(200%) saturate(200%) saturate(200%) saturate(115%) hue-rotate(91deg) brightness(97%) contrast(105%);--filter-primary-deemphasized-button-icon:invert(28%) sepia(100%) saturate(6042%) hue-rotate(202deg) brightness(96%) contrast(101%);--filter-negative:invert(25%) sepia(33%) saturate(200%) saturate(200%) saturate(200%) saturate(200%) saturate(200%) saturate(200%) saturate(110%) hue-rotate(345deg) brightness(132%) contrast(96%);--focus-ring-blue:#1877F2;--glimmer-spinner-icon:#65676B;--hero-banner-background:#FFFFFF;--hosted-view-selected-state:#354855;--highlight-bg:#E7F3FF;--hover-overlay:rgba(0, 0, 0, 0.05);--inverse-text:#F1F4F7;--list-cell-chevron:#5D6C7B;--media-hover:rgba(68, 73, 80, 0.15);--media-inner-border:rgba(10, 19, 23, 0.1);--media-outer-border:#FFFFFF;--media-pressed:rgba(10, 19, 23, 0.3);--messenger-card-background:#FFFFFF;--messenger-card-box-shadow:0px 1px 2px 0px #0000001A;--mwp-header-background-color:var(--messenger-card-background);--mwp-header-button-color:var(--accent);--mwp-message-row-background:var(--messenger-card-background);--messenger-reply-background:#F0F2F5;--overlay-alpha-80:rgba(0, 0, 0, 0.6);--overlay-on-media:rgba(0, 0, 0, 0.7);--nav-bar-background:rgba(0,0,0,0.00);--popover-card-background:var(--card-background);--nav-bar-background-gradient:linear-gradient(to top, #FFFFFF, rgba(255,255,255.9), rgba(255,255,255,.7), rgba(255,255,255,.4), rgba(255,255,255,0));--nav-bar-background-gradient-wash:linear-gradient(to top, #F0F2F5, rgba(240,242,245.9), rgba(240,242,245,.7), rgba(240,242,245,.4), rgba(240,242,245,0));--negative:#D31130;--negative-background:hsl(350, 87%, 55%, 20%);--new-notification-background:rgba(10, 19, 23, 0.1);--non-media-pressed:rgba(10, 19, 23, 0.15);--non-media-pressed-on-dark:rgba(255, 255, 255, 0.3);--notification-badge:#D31130;--placeholder-icon:#5D6C7B;--placeholder-image:#DDE2E8;--placeholder-text:#5D6C7B;--placeholder-text-on-media:#CCD3DB;--popover-background:#FFFFFF;--positive:#147B29;--positive-background:#DEEFE1;--press-overlay:rgba(0, 0, 0, 0.10);--primary-button-background:#0064E0;--primary-button-icon:#F1F4F7;--primary-button-pressed:#77A7FF;--primary-button-text:#F1F4F7;--primary-deemphasized-button-background:rgba(0,0,0,0.00);--primary-deemphasized-button-pressed:rgb(0,0,0,.05);--primary-deemphasized-button-pressed-overlay:rgb(0,0,0,.1);--primary-deemphasized-button-text:#F1F4F7;--primary-icon:#0A1317;--primary-text:#0A1317;--primary-text-on-media:#FFFFFF;--primary-web-focus-indicator:#D24294;--progress-ring-neutral-background:rgba(0, 0, 0, 0.2);--progress-ring-neutral-foreground:#000000;--progress-ring-on-media-background:rgba(255, 255, 255, 0.2);--progress-ring-on-media-foreground:rgb(255,255,255);--progress-ring-blue-background:rgba(24, 119, 242, 0.2);--progress-ring-blue-foreground:hsl(214, 89%, 52%);--progress-ring-disabled-background:rgba(190,195,201, 0.2);--progress-ring-disabled-foreground:#BEC3C9;--rating-star-active:#EB660D;--scroll-thumb:#BCC0C4;--scroll-shadow:0 0 16px 0 rgba(52,72,84,0.05);--secondary-button-background:rgba(255, 255, 255, 0.2);--secondary-button-background-floating:#ffffff;--secondary-button-background-on-dark:rgba(0, 0, 0, 0.4);--secondary-button-pressed:rgba(0,0,0,0.00);--secondary-button-stroke:#CCD3DB;--secondary-button-text:#0A1317;--secondary-icon:#5D6C7B;--secondary-text:#5D6C7B;--secondary-text-on-media:#CCD3DB;--section-header-text:#4B4C4F;--shadow-1:rgba(0, 0, 0, 0.1);--shadow-2:rgba(0, 0, 0, 0.2);--shadow-5:rgba(0, 0, 0, 0.5);--shadow-8:rgba(0, 0, 0, 0.8);--shadow-base:0 1px 2px var(--shadow-2);--shadow-elevated:0px 4px 12px rgba(10, 19, 23, 0.12);--shadow-emphasis:0 2px 12px var(--shadow-2);--shadow-inset:rgba(255, 255, 255, 0.5);--shadow-on-media:0px 0px 1px rgba(0, 0, 0, 0.62);--shadow-persistent:0px 6px 16px rgba(10, 19, 23, 0.16);--shadow-primary:0px 0px 0px rgba(255, 255, 255, 0);--shadow-responsive:0px 8px 16px 0px rgba(0, 0, 0, 0.1);--surface-background:#FFFFFF;--switch-active:#0064E0;--switch-inactive:#8494A3;--switch-unchecked-background-color:#8F9297;--text-highlight:#0064E0;--input-background:rgba(255, 255, 255, 0.2);--input-background-hover:var(--input-background);--input-background-warn-hover:hsla(var(--warning-h), var(--warning-s), var(--warning-l), 0.05);--input-background-error-hover:hsla(var(--negative-h), var(--negative-s), var(--negative-l), 0.05);--input-background-active:hsla(var(--accent-h), var(--accent-s), var(--accent-l), 0.05);--input-background-warn-active:hsla(var(--warning-h), var(--warning-s), var(--warning-l), 0.05);--input-background-error-active:hsla(var(--negative-h), var(--negative-s), var(--negative-l), 0.05);--input-background-disabled:#F0F2F5;--input-border-color:#CED0D4;--input-border-color-hover:var(--placeholder-text);--input-label-color-highlighted:hsl(214, 89%, 52%);--input-label-color-inside:var(--secondary-text);--input-label-color-error:var(--negative);--input-label-color-disabled:var(--disabled-text);--text-input-outside-label:#000000;--toast-background:#283943;--toast-text:#FFFFFF;--toast-text-link:#4BA9FE;--toast-border-color:transparent;--toast-border-style:none;--toast-border-width:0px;--toggle-active-background:#0A1317;--toggle-active-icon:#0064E0;--toggle-active-text:#F1F4F7;--toggle-button-active-background:#E7F3FF;--tooltip-background:#25363F;--tooltip-box-shadow:none;--popover-border-color:transparent;--wash:#E4E6EB;--web-wash:#FFFFFF;--warning:#965E03;--chat-bubble-emphasis-ring-after:black;--chat-bubble-emphasis-ring-before:white;--chat-text-blockquote-color-background-line:rgba(0, 0, 0, 0.12);--chat-text-blockquote-color-text-primary-media:rgba(255, 255, 255, 0.7);--chat-incoming-message-bubble-background-color:#F0F0F0;--chat-outgoing-message-bubble-background-color:var(--accent);--chat-replied-message-background-color:rgba(0, 0, 0, 0.03);--radio-border-color:var(--primary-icon);--radio-border-color-disabled:var(--disabled-button-background);--radio-border-color-selected:var(--accent);--radio-checked-icon-color:var(--accent);--radio-checked-icon-color-disabled:var(--disabled-button-background);--dialog-anchor-vertical-padding:32px;--header-height:0px;--global-panel-width:0px;--global-panel-width-expanded:0px;--alert-banner-corner-radius:16px;--button-corner-radius:22px;--button-corner-radius-medium:18px;--button-corner-radius-large:12px;--button-height-large:44px;--button-height-medium:36px;--button-padding-horizontal-large:20px;--button-padding-horizontal-medium:16px;--button-padding-icon-only:16px;--button-icon-padding-large:16px;--button-icon-padding-medium:12px;--button-inner-icon-spacing-large:4px;--button-inner-icon-spacing-medium:3px;--blueprint-button-height-medium:40px;--blueprint-button-height-large:48px;--card-corner-radius:16px;--card-box-shadow:0 8px 20px 0  var(--shadow-2), 0 2px 4px 0 var(--shadow-1);--card-padding-horizontal:16px;--card-padding-vertical:16px;--chip-corner-radius:8px;--comment-bubble:18px;--dialog-corner-radius:32px;--glimmer-corner-radius:16px;--image-corner-radius:16px;--infochip-medium-radius:12px;--input-corner-radius:16px;--input-border-width:1px;--nav-list-cell-corner-radius:16px;--list-cell-corner-radius:16px;--list-cell-min-height:52px;--list-cell-padding-vertical:16px;--list-cell-padding-vertical-with-addon:12px;--menu-base-list-item-padding-horizontal:8px;--menu-base-list-item-padding-vertical:12px;--menu-base-size-full-margin-end:48px;--menu-item-base-margin-horizontal:8px;--menu-item-base-margin-vertical:0px;--menu-item-base-padding-horizontal:8px;--menu-item-base-overlay-radius:4px;--menu-item-base-padding-vertical:12px;--menu-item-base-with-icon-padding-horizontal:var(--menu-item-base-padding-horizontal);--separator-menu-item-margin-horizontal:16px;--separator-menu-item-margin-vertical:4px;--nav-list-cell-min-height:52px;--nav-list-cell-padding-vertical:16px;--nav-list-cell-padding-vertical-with-addon:12px;--nux-card-body-padding-end:24px;--page-footer-padding-vertical:28px;--popover-border-style:none;--popover-border-width:0px;--section-header-addOnEnd-margin-horizontal:8px;--section-header-addOnStart-margin-horizontal:12px;--section-header-addOnEnd-button-padding-horizontal:0px;--section-header-addOnEnd-button-padding-vertical:0px;--section-header-padding-vertical:16px;--section-header-subtitle-margin-vertical:14px;--section-header-subtitle-with-addOnEnd-margin-vertical:6px;--tab-height:60px;--tab-icon-padding-end:0px;--tab-text-icon-gap:4px;--tab-underline-color:transparent;--tab-underline-height:3px;--text-badge-corner-radius:20px;--text-badge-padding-horizontal:8px;--text-badge-padding-vertical:6px;--text-input-multi-padding-between-text-scrollbar:16px;--text-input-multi-padding-scrollbar:8px;--text-input-caption-margin-top:12px;--text-input-padding-vertical:10px;--toast-addon-padding-horizontal:6px;--toast-addon-padding-vertical:0px;--toast-container-max-width:100%;--toast-container-min-width:320px;--toast-container-padding-horizontal:14px;--toast-container-padding-vertical:16px;--toast-corner-radius:16px;--toaster-view-max-width:328px;--tooltip-corner-radius:16px;--typeahead-list-outer-padding-vertical:8px;--fds-animation-enter-exit-in:cubic-bezier(0.14, 1, 0.34, 1);--fds-animation-enter-exit-out:cubic-bezier(0.45, 0.1, 0.2, 1);--fds-animation-swap-shuffle-in:cubic-bezier(0.14, 1, 0.34, 1);--fds-animation-swap-shuffle-out:cubic-bezier(0.45, 0.1, 0.2, 1);--fds-animation-move-in:cubic-bezier(0.17, 0.17, 0, 1);--fds-animation-move-out:cubic-bezier(0.17, 0.17, 0, 1);--fds-animation-expand-collapse-in:cubic-bezier(0.17, 0.17, 0, 1);--fds-animation-expand-collapse-out:cubic-bezier(0.17, 0.17, 0, 1);--fds-animation-passive-move-in:cubic-bezier(0.5, 0, 0.1, 1);--fds-animation-passive-move-out:cubic-bezier(0.5, 0, 0.1, 1);--fds-animation-quick-move-in:cubic-bezier(0.1, 0.9, 0.2, 1);--fds-animation-quick-move-out:cubic-bezier(0.1, 0.9, 0.2, 1);--fds-animation-fade-in:cubic-bezier(0, 0, 1, 1);--fds-animation-fade-out:cubic-bezier(0, 0, 1, 1);--fds-duration-extra-extra-short-in:100ms;--fds-duration-extra-extra-short-out:100ms;--fds-duration-extra-short-in:200ms;--fds-duration-extra-short-out:150ms;--fds-duration-short-in:280ms;--fds-duration-short-out:200ms;--fds-duration-medium-in:400ms;--fds-duration-medium-out:350ms;--fds-duration-long-in:500ms;--fds-duration-long-out:350ms;--fds-duration-extra-long-in:1000ms;--fds-duration-extra-long-out:1000ms;--fds-duration-none:0ms;--fds-fast:200ms;--fds-slow:400ms;--font-family-apple:system-ui, -apple-system, BlinkMacSystemFont, '.SFNSText-Regular', sans-serif;--font-family-code:ui-monospace, Menlo, Consolas, Monaco, monospace;--font-family-default:Helvetica, Arial, sans-serif;--font-family-segoe:Segoe UI Historic, Segoe UI, Helvetica, Arial, sans-serif;--body-font-family:Optimistic;--body-font-size:0.9375rem;--body-font-weight:400;--body-line-height:1.2667;--body-emphasized-font-family:Optimistic;--body-emphasized-font-size:0.9375rem;--body-emphasized-font-weight:700;--body-emphasized-line-height:1.2667;--headline1-font-family:Optimistic;--headline1-font-size:1.5rem;--headline1-font-weight:600;--headline1-line-height:1.1667;--headline2-font-family:Optimistic;--headline2-font-size:1.5rem;--headline2-font-weight:600;--headline2-line-height:1.1667;--headline3-font-family:Optimistic;--headline3-font-size:1.0625rem;--headline3-font-weight:600;--headline3-line-height:1.2941;--meta-font-family:Optimistic;--meta-font-size:0.8125rem;--meta-font-weight:400;--meta-line-height:1.3077;--meta-emphasized-font-family:Optimistic;--meta-emphasized-font-size:0.8125rem;--meta-emphasized-font-weight:700;--meta-emphasized-line-height:1.3077;--primary-label-font-family:Optimistic;--primary-label-font-size:0.9375rem;--primary-label-font-weight:500;--primary-label-line-height:1.2667;--secondary-label-font-family:Optimistic;--secondary-label-font-size:0.8125rem;--secondary-label-font-weight:500;--secondary-label-line-height:1.3077;--tertiary-label-font-family:Optimistic;--tertiary-label-font-size:0.6875rem;--tertiary-label-font-weight:500;--tertiary-label-line-height:1.4545;--text-input-field-font-family:Optimistic;--text-input-field-font-size:0.9375rem;--text-input-field-font-stretch:100%;--text-input-field-font-weight:500;--text-input-field-line-height:1.2667;--text-input-label-font-family:Optimistic;--text-input-label-font-size:0.9375rem;--text-input-label-font-size-scale-multiplier:0.86666666666667;--text-input-label-font-stretch:100%;--text-input-label-font-weight:400;--text-input-label-line-height:1.13334;--messenger-card-min-width:300px;--messenger-card-max-width:480px;--messenger-application-max-width:2560px;--messenger-sidebar-collapsed-width:44px;--messenger-sidebar-expanded-width:240px;--messenger-card-corner-radius:8px;--messenger-card-spacing:16px;--chat-bubble-padding-vertical:8px;--chat-bubble-padding-horizontal:12px;--chat-bubble-border-radius:18px;--dialog-size-medium-width:100%;--dialog-size-small-width:100%;--focus-ring-outline-forced-colors:2px auto transparent !important;--focus-ring-outline-link:2px auto var(--focus-ring-blue);--focus-ring-shadow-default:0 0 0 2px var(--always-white), 0 0 0 4px var(--focus-ring-blue);--focus-ring-shadow-inset:0 0 0 2px var(--focus-ring-blue) inset, 0 0 0 4px var(--always-white) inset;--glimmer-animation-direction:alternate;--glimmer-animation-duration:1000ms;--glimmer-animation-timing-function:steps(10, end);--glimmer-opacity-min:0.25;--glimmer-opacity-max:1;--radio-checked-icon-size-large:12px;--radio-checked-icon-size-medium:12px;--radio-border-width:2px;--radio-size-large:24px;--radio-size-medium:20px;--blue-primary:rgb(0,136,244);--blue-secondary:rgb(4,59,114);--blue-tertiary:rgb(235,245,255);--chartreuse-primary:rgb(106,147,22);--chartreuse-secondary:rgb(50,65,19);--chartreuse-tertiary:rgb(226,255,152);--cyan-primary:rgb(0,142,213);--cyan-secondary:rgb(15,63,93);--cyan-tertiary:rgb(231,245,255);--dataviz-primary-2:rgb(156,219,255);--dataviz-primary-3:rgb(73,156,255);--dataviz-secondary-1:rgb(83,78,191);--dataviz-secondary-2:rgb(103,96,228);--dataviz-secondary-3:rgb(119,45,88);--dataviz-supplementary-1:rgb(253,91,67);--dataviz-supplementary-2:rgb(161,132,0);--dataviz-supplementary-3:rgb(36,131,44);--dataviz-supplementary-4:rgb(51,51,52);--fuschia-primary:rgb(250,45,138);--fuschia-secondary:rgb(118,14,62);--fuschia-tertiary:rgb(255,241,246);--green-primary:rgb(43,154,53);--green-secondary:rgb(26,68,27);--green-tertiary:rgb(227,250,224);--magenta-primary:rgb(215,77,204);--magenta-secondary:rgb(96,36,91);--magenta-tertiary:rgb(255,239,254);--orange-primary:rgb(208,108,20);--orange-secondary:rgb(94,49,14);--orange-tertiary:rgb(255,241,239);--purple-primary:rgb(125,116,255);--purple-secondary:rgb(55,50,121);--purple-tertiary:rgb(245,241,255);--red-primary:rgb(251,60,68);--red-secondary:rgb(118,22,27);--red-tertiary:rgb(255,241,239);--teal-primary:rgb(0,152,124);--teal-secondary:rgb(10,68,56);--teal-tertiary:rgb(227,247,241);--yellow-primary:rgb(161,132,0);--yellow-secondary:rgb(72,59,12);--yellow-tertiary:rgb(255,246,161);--emphasized-card-background-blue-comet:linear-gradient(rgb(192,223,255),rgb(210,232,255));--emphasized-card-background-green-comet:linear-gradient(rgb(185,245,170),rgb(205,250,195));--emphasized-card-background-purple-comet:linear-gradient(rgb(210, 210, 255),rgb(225,225,253));--emphasized-card-background-teal-comet:linear-gradient(rgb(165,240,230),rgb(195,245,240));--search-input-background:#F1F4F7;--secondary-emphasized-button-stroke:rgb(0,100,224);--stepper-active:#0A1317;--stepper-inactive:#8494A3;--animation-ambient-default:cubic-bezier(0,0,1,1);--animation-ambient-max:cubic-bezier(0.6,0,0.7,0);--animation-ambient-min:cubic-bezier(0,0.1,0.4,1);--animation-duration-extra-fast-default-in:100ms;--animation-duration-extra-fast-default-out:100ms;--animation-duration-extra-fast-max-in:150ms;--animation-duration-extra-fast-max-out:150ms;--animation-duration-extra-fast-min-in:50ms;--animation-duration-extra-fast-min-out:50ms;--animation-duration-extra-slow-default-in:1000ms;--animation-duration-extra-slow-default-out:1000ms;--animation-duration-extra-slow-max-in:1200ms;--animation-duration-extra-slow-max-out:1200ms;--animation-duration-extra-slow-min-in:800ms;--animation-duration-extra-slow-min-out:800ms;--animation-duration-fast-default-in:250ms;--animation-duration-fast-default-out:250ms;--animation-duration-fast-max-in:300ms;--animation-duration-fast-max-out:300ms;--animation-duration-fast-min-in:200ms;--animation-duration-fast-min-out:200ms;--animation-duration-medium-default-in:500ms;--animation-duration-medium-default-out:500ms;--animation-duration-medium-max-in:600ms;--animation-duration-medium-max-out:600ms;--animation-duration-medium-min-in:400ms;--animation-duration-medium-min-out:400ms;--animation-duration-short-in:280ms;--animation-duration-short-out:200ms;--animation-duration-slow-default-in:2000ms;--animation-duration-slow-default-out:2000ms;--animation-duration-slow-max-in:2500ms;--animation-duration-slow-max-out:2500ms;--animation-duration-slow-min-in:1500ms;--animation-duration-slow-min-out:1500ms;--animation-elastic-default-in:cubic-bezier(0.25,1.4,0.5,1);--animation-elastic-default-out:cubic-bezier(0.45,0,0.75,-0.43);--animation-elastic-max:cubic-bezier(0.17,0.89,0.32,1.27);--animation-elastic-min:cubic-bezier(0,1.2,0.4,1);--animation-organic-default:cubic-bezier(0.6,0,0.1,1);--animation-organic-max-in:cubic-bezier(0.9,0,0.1,1);--animation-organic-max-out:cubic-bezier(0.8,0,0.64,1);--animation-organic-min:cubic-bezier(0.64,0,0.67,1);--animation-responsive-default:cubic-bezier(0.1,1,0.36,1);--animation-responsive-max:cubic-bezier(0,1,0.2,1);--animation-responsive-min:cubic-bezier(0.04,0,0,1);--badge-attention-background-color:#FCEC85;--badge-critical-background-color:#FEE4E6;--badge-informational-background-color:#DBECFF;--badge-inner-padding-horizontal:8px;--badge-neutral-background-color:#E6EBEF;--badge-success-background-color:#C4F8B9;--body-emphasized-font-stretch:100%;--body-font-stretch:100%;--border-unfocused:#DDE2E8;--button-large-corner-radius:22px;--button-large-height:44px;--button-large-icon-padding:16px;--button-large-inner-icon-spacing:4px;--button-large-padding-horizontal:20px;--button-medium-corner-radius:18px;--button-medium-height:36px;--button-medium-icon-padding:12px;--button-medium-inner-icon-spacing:3px;--button-medium-padding-horizontal:16px;--card-border-color:#DDE2E8;--card-border-width:1px;--chip-background:rgba(255, 255, 255, 0);--chip-background-selected:#1C2B33;--display-font-family:Optimistic;--display-font-size:3rem;--display-font-stretch:100%;--display-font-weight:600;--display-line-height:1.1667;--fb-app-wordmark:#1877F2;--glimmer:#2B3D46;--glimmer-max-opacity:0.12;--glimmer-min-opacity:0.03;--glimmer-on-white-background:#2B3D46;--glimmer-on-white-background-max-opacity:0.12;--glimmer-on-white-background-min-opacity:0.03;--gradient-opacity:1;--headline1-font-stretch:100%;--headline2-font-stretch:100%;--headline3-font-stretch:100%;--list-border-color:#DDE2E8;--list-border-width:1px;--list-cell-margin-horizontal:0px;--list-cell-padding-vertical-with-no-addon:16px;--media-card-corner-radius:16px;--menu-list-cell-corner-radius:0px;--meta-emphasized-font-stretch:100%;--meta-font-stretch:100%;--nav-list-cell-corner-radius-dense:12px;--nav-list-cell-margin-horizontal:16px;--nav-list-cell-margin-horizontal-inner-addon:16px;--nav-list-cell-min-height-dense:44px;--nav-list-selected-accent:#DBECFF;--nav-list-selected-accent-text:#0064E0;--overlay-on-surface:rgba(0, 0, 0, 0.6);--primary-destructive-button-background:#D31130;--primary-destructive-button-icon:#FFFFFF;--primary-destructive-button-text:#FFFFFF;--primary-label-font-stretch:100%;--screen-header-height:0px;--secondary-destructive-button-background:rgba(255, 255, 255, 0.2);--secondary-destructive-button-icon:#D31130;--secondary-destructive-button-stroke:#D31130;--secondary-destructive-button-text:#D31130;--secondary-label-font-stretch:100%;--shadow-card:;--shadow-list:;--slider-handle:#0064E0;--slider-handle-disabled:#96A6B4;--slider-track-filled:#0064E0;--slider-track-filled-disabled:#96A6B4;--slider-track-unfilled:#8494A3;--slider-track-unfilled-disabled:#DDE2E8;--tertiary-label-font-stretch:100%;--text-badge-neutral-background:#E6EBEF;--text-input-bar-background:rgba(255, 255, 255, 0.2);--text-input-label-top:18px;--text-input-min-height:60px;--tile-tonal-container-background-blue:#ECF5FF;--tile-tonal-container-background-elevated:#F1F4F7;--tile-tonal-container-background-green:#DCFCD6;--tile-tonal-container-background-orange:#FFF2E4;--tile-tonal-container-background-purple:#F4F3FF;--tile-tonal-container-background-rose:#FFF0F6;--tile-tonal-container-background-teal:#D7FCF8;--tile-tonal-container-background-yellow:#FDF6BA;--tile-tonal-icon-blue:#0457CB;--tile-tonal-icon-container-background-blue:#C9E5FF;--tile-tonal-icon-container-background-elevated:#F1F4F7;--tile-tonal-icon-container-background-green:#A5F690;--tile-tonal-icon-container-background-orange:#FFDBB9;--tile-tonal-icon-container-background-purple:#DFDFFF;--tile-tonal-icon-container-background-rose:#FCD9E5;--tile-tonal-icon-container-background-teal:#A3F0E6;--tile-tonal-icon-container-background-yellow:#FFE14A;--tile-tonal-icon-green:#076D29;--tile-tonal-icon-orange:#A13F04;--tile-tonal-icon-purple:#6B1EFD;--tile-tonal-icon-rose:#BB0844;--tile-tonal-icon-teal:#0F686F;--tile-tonal-icon-yellow:#8A5001;--tile-tonal-text-blue:#0457CB;--tile-tonal-text-green:#076D29;--tile-tonal-text-orange:#A13F04;--tile-tonal-text-purple:#6B1EFD;--tile-tonal-text-rose:#BB0844;--tile-tonal-text-teal:#0F686F;--tile-tonal-text-yellow:#8A5001;--toast-text-web:#FFFFFF;--tooltip-padding-horizontal:16px;--tooltip-padding-vertical:16px;--ui-background:#0A1317;}@media (prefers-color-scheme: dark){:root {--fds-black:black;--fds-black-alpha-05:rgba(0, 0, 0, 0.05);--fds-black-alpha-10:rgba(0, 0, 0, 0.1);--fds-black-alpha-15:rgba(0, 0, 0, 0.15);--fds-black-alpha-20:rgba(0, 0, 0, 0.2);--fds-black-alpha-30:rgba(0, 0, 0, 0.3);--fds-black-alpha-40:rgba(0, 0, 0, 0.4);--fds-black-alpha-50:rgba(0, 0, 0, 0.5);--fds-black-alpha-60:rgba(0, 0, 0, 0.6);--fds-black-alpha-80:rgba(0, 0, 0, 0.8);--fds-blue-05:black;--fds-blue-30:black;--fds-blue-40:black;--fds-blue-60:black;--fds-blue-70:black;--fds-blue-80:black;--fds-button-text:black;--fds-comment-background:black;--fds-dark-mode-gray-35:black;--fds-dark-mode-gray-50:black;--fds-dark-mode-gray-70:black;--fds-dark-mode-gray-80:black;--fds-dark-mode-gray-90:black;--fds-dark-mode-gray-100:black;--fds-gray-00:black;--fds-gray-05:black;--fds-gray-10:black;--fds-gray-20:black;--fds-gray-25:black;--fds-gray-30:black;--fds-gray-45:black;--fds-gray-70:black;--fds-gray-80:black;--fds-gray-90:black;--fds-gray-100:black;--fds-green-55:black;--fds-green-65:black;--fds-highlight:black;--fds-highlight-cell-background:black;--fds-primary-icon:white;--fds-primary-text:white;--fds-red-55:black;--fds-soft:cubic-bezier(.08,.52,.52,1);--fds-spectrum-aluminum-tint-70:black;--fds-spectrum-blue-gray-tint-70:black;--fds-spectrum-cherry:black;--fds-spectrum-cherry-tint-70:black;--fds-spectrum-grape-tint-70:black;--fds-spectrum-grape-tint-90:black;--fds-spectrum-lemon-dark-1:black;--fds-spectrum-lemon-tint-70:black;--fds-spectrum-lime:black;--fds-spectrum-lime-tint-70:black;--fds-spectrum-orange-tint-70:black;--fds-spectrum-orange-tint-90:black;--fds-spectrum-seafoam-tint-70:black;--fds-spectrum-slate-dark-2:black;--fds-spectrum-slate-tint-70:black;--fds-spectrum-teal:black;--fds-spectrum-teal-dark-1:black;--fds-spectrum-teal-dark-2:black;--fds-spectrum-teal-tint-70:black;--fds-spectrum-teal-tint-90:black;--fds-spectrum-tomato:black;--fds-spectrum-tomato-tint-30:black;--fds-spectrum-tomato-tint-90:black;--fds-strong:cubic-bezier(.12,.8,.32,1);--fds-unified-blue-35:black;--fds-unified-gray-20:black;--fds-white:black;--fds-white-alpha-05:rgba(255, 255, 255, 0.05);--fds-white-alpha-10:rgba(255, 255, 255, 0.1);--fds-white-alpha-20:rgba(255, 255, 255, 0.2);--fds-white-alpha-30:rgba(255, 255, 255, 0.3);--fds-white-alpha-40:rgba(255, 255, 255, 0.4);--fds-white-alpha-50:rgba(255, 255, 255, 0.5);--fds-white-alpha-60:rgba(255, 255, 255, 0.6);--fds-white-alpha-80:rgba(255, 255, 255, 0.8);--fds-yellow-20:black;--accent:#F1F4F7;--always-white:#FFFFFF;--always-black:#000000;--always-dark-gradient:linear-gradient(rgba(0,0,0,0), rgba(0,0,0,0.6));--always-dark-overlay:rgba(0, 0, 0, 0.4);--always-light-overlay:rgba(255, 255, 255, 0.4);--always-gray-40:#65676B;--always-gray-75:#BCC0C4;--always-gray-95:#F0F2F5;--attachment-footer-background:rgba(255, 255, 255, 0.1);--background-deemphasized:#0A1317;--badge-background-color-blue:var(--accent);--badge-background-color-dark-gray:var(--secondary-icon);--badge-background-color-gray:var(--disabled-icon);--badge-background-color-green:var(--positive);--badge-background-color-light-blue:var(--highlight-bg);--badge-background-color-red:var(--notification-badge);--badge-background-color-yellow:var(--base-lemon);--base-blue:#1877F2;--base-cherry:#F3425F;--base-grape:#9360F7;--base-lemon:#F7B928;--base-lime:#45BD62;--base-pink:#FF66BF;--base-seafoam:#54C7EC;--base-teal:#2ABBA7;--base-tomato:#FB724B;--text-badge-info-background:#042F97;--text-badge-success-background:#09441F;--text-badge-attention-background:#5D2E04;--text-badge-critical-background:#7B0210;--blue-link:#4BA9FE;--border-focused:#A4B0BC;--card-background:#152127;--card-background-flat:#152127;--comment-background:rgba(255, 255, 255, 0.1);--comment-footer-background:#4E4F50;--dataviz-primary-1:rgb(0,174,143);--disabled-button-background:rgba(255, 255, 255, 0.2);--disabled-button-text:rgba(255, 255, 255, 0.3);--disabled-icon:#5D6C7B;--disabled-text:#5D6C7B;--divider:#3D4F5C;--event-date:#FB7D87;--fb-wordmark:#FFFFFF;--fb-logo:#0866FF;--filter-accent:invert(40%) sepia(52%) saturate(200%) saturate(200%) saturate(200%) saturate(189%) hue-rotate(191deg) brightness(103%) contrast(102%);--filter-always-white:invert(100%);--filter-disabled-icon:invert(100%) opacity(30%);--filter-placeholder-icon:invert(59%) sepia(11%) saturate(200%) saturate(135%) hue-rotate(176deg) brightness(96%) contrast(94%);--filter-primary-accent:invert(40%) sepia(52%) saturate(200%) saturate(200%) saturate(200%) saturate(189%) hue-rotate(191deg) brightness(103%) contrast(102%);--filter-primary-icon:invert(89%) sepia(6%) hue-rotate(185deg);--filter-secondary-button-icon-on-media:invert(100%);--filter-secondary-icon:invert(62%) sepia(98%) saturate(12%) hue-rotate(175deg) brightness(90%) contrast(96%);--filter-warning-icon:invert(77%) sepia(29%) saturate(200%) saturate(200%) saturate(200%) saturate(200%) saturate(200%) saturate(128%) hue-rotate(359deg) brightness(102%) contrast(107%);--filter-blue-link-icon:invert(73%) sepia(29%) saturate(200%) saturate(200%) saturate(200%) saturate(200%) saturate(200%) saturate(200%) saturate(103.25%) hue-rotate(189deg) brightness(101%) contrast(101%);--filter-positive:invert(37%) sepia(61%) saturate(200%) saturate(200%) saturate(200%) saturate(200%) saturate(115%) hue-rotate(91deg) brightness(97%) contrast(105%);--filter-primary-deemphasized-button-icon:brightness(0) saturate(100%) invert(63%) sepia(20%) saturate(1290%) hue-rotate(185deg) brightness(107%) contrast(101%);--filter-negative:invert(25%) sepia(33%) saturate(200%) saturate(200%) saturate(200%) saturate(200%) saturate(200%) saturate(200%) saturate(110%) hue-rotate(345deg) brightness(132%) contrast(96%);--focus-ring-blue:#1877F2;--glimmer-spinner-icon:white;--hero-banner-background:#E85D07;--hosted-view-selected-state:#DDE2E8;--highlight-bg:rgba(24, 119, 242, .31);--hover-overlay:rgba(255, 255, 255, 0.1);--inverse-text:#0A1317;--list-cell-chevron:#A4B0BC;--media-hover:rgba(68, 73, 80, 0.15);--media-inner-border:rgba(241, 244, 247, 0.1);--media-outer-border:#33363A;--media-pressed:rgba(255, 255, 255, 0.3);--messenger-card-background:#242526;--messenger-card-box-shadow:0px 0px 16px rgba(0, 0, 0, 0.3);--mwp-header-background-color:var(--messenger-card-background);--mwp-header-button-color:var(--accent);--mwp-message-row-background:var(--messenger-card-background);--messenger-reply-background:#18191A;--overlay-alpha-80:rgba(0, 0, 0, 0.6);--overlay-on-media:rgba(0, 0, 0, 0.7);--nav-bar-background:rgba(0,0,0,0.00);--popover-card-background:var(--card-background);--nav-bar-background-gradient:linear-gradient(to top, #242526, rgba(36,37,38,.9), rgba(36,37,38,.7), rgba(36,37,38,.4), rgba(36,37,38,0));--nav-bar-background-gradient-wash:linear-gradient(to top, #18191A, rgba(24,25,26,.9), rgba(24,25,26,.7), rgba(24,25,26,.4), rgba(24,25,26,0));--negative:#FB7D87;--negative-background:hsl(350, 87%, 55%, 20%);--new-notification-background:rgba(255, 255, 255, 0.1);--non-media-pressed:rgba(255, 255, 255, 0.2);--non-media-pressed-on-dark:rgba(255, 255, 255, 0.3);--notification-badge:#FB7D87;--placeholder-icon:#96A6B4;--placeholder-image:#3D4F5C;--placeholder-text:#96A6B4;--placeholder-text-on-media:#CCD3DB;--popover-background:#152127;--positive:#3CBC22;--positive-background:#1F3520;--press-overlay:rgba(255, 255, 255, 0.2);--primary-button-background:#0064E0;--primary-button-icon:#F1F4F7;--primary-button-pressed:#77A7FF;--primary-button-text:#F1F4F7;--primary-deemphasized-button-background:rgba(0,0,0,0.00);--primary-deemphasized-button-pressed:rgb(255,255,255,.05);--primary-deemphasized-button-pressed-overlay:rgb(255,255,255,.15);--primary-deemphasized-button-text:#0A1317;--primary-icon:#F1F4F7;--primary-text:#F1F4F7;--primary-text-on-media:#FFFFFF;--primary-web-focus-indicator:#D24294;--progress-ring-neutral-background:rgba(255, 255, 255, 0.2);--progress-ring-neutral-foreground:#ffffff;--progress-ring-on-media-background:rgba(255, 255, 255, 0.2);--progress-ring-on-media-foreground:rgb(255,255,255);--progress-ring-blue-background:rgba(45, 136, 255, 0.2);--progress-ring-blue-foreground:hsl(214, 100%, 59%);--progress-ring-disabled-background:rgba(122,125,130, 0.2);--progress-ring-disabled-foreground:#7A7D82;--rating-star-active:#FF9831;--scroll-thumb:rgba(255, 255, 255, 0.3);--scroll-shadow:0 0px 16px 0 rgba(52,72,84,0.05);--secondary-button-background:rgba(21, 33, 39, 0.2);--secondary-button-background-floating:#4B4C4F;--secondary-button-background-on-dark:rgba(255, 255, 255, 0.4);--secondary-button-pressed:rgba(0,0,0,0.00);--secondary-button-stroke:#445664;--secondary-button-text:#F1F4F7;--secondary-icon:#96A6B4;--secondary-text:#96A6B4;--secondary-text-on-media:#CCD3DB;--section-header-text:#BCC0C4;--shadow-1:rgba(0, 0, 0, 0.1);--shadow-2:rgba(0, 0, 0, 0.2);--shadow-5:rgba(0, 0, 0, 0.5);--shadow-8:rgba(0, 0, 0, 0.8);--shadow-base:0 1px 2px var(--shadow-2);--shadow-elevated:0px 4px 12px rgba(10, 19, 23, 0.12);--shadow-emphasis:0 2px 12px var(--shadow-2);--shadow-inset:rgba(255, 255, 255, 0.05);--shadow-on-media:0px 0px 1px rgba(0, 0, 0, 0.62);--shadow-persistent:0px 6px 16px rgba(10, 19, 23, 0.16);--shadow-primary:0px 0px 0px rgba(255, 255, 255, 0);--shadow-responsive:0px 8px 16px 0px rgba(0, 0, 0, 0.1);--surface-background:#152127;--switch-active:#0082FB;--switch-inactive:#5D6C7B;--switch-unchecked-background-color:#6F7276;--text-highlight:#4BA9FE;--input-background:rgba(21, 33, 39, 0.2);--input-background-hover:var(--input-background);--input-background-warn-hover:hsla(var(--warning-h), var(--warning-s), var(--warning-l), 0.05);--input-background-error-hover:hsla(var(--negative-h), var(--negative-s), var(--negative-l), 0.05);--input-background-active:hsla(var(--accent-h), var(--accent-s), var(--accent-l), 0.05);--input-background-warn-active:hsla(var(--warning-h), var(--warning-s), var(--warning-l), 0.05);--input-background-error-active:hsla(var(--negative-h), var(--negative-s), var(--negative-l), 0.05);--input-background-disabled:#18191A;--input-border-color:#3E4042;--input-border-color-hover:var(--placeholder-text);--input-label-color-highlighted:hsl(214, 100%, 59%);--input-label-color-inside:var(--secondary-text);--input-label-color-error:var(--negative);--input-label-color-disabled:var(--disabled-text);--text-input-outside-label:#FFFFFF;--toast-background:#283943;--toast-text:#FFFFFF;--toast-text-link:#4BA9FE;--toast-border-color:transparent;--toast-border-style:none;--toast-border-width:0px;--toggle-active-background:#F1F4F7;--toggle-active-icon:#0082FB;--toggle-active-text:#0A1317;--toggle-button-active-background:#E6F2FF;--tooltip-background:#25363F;--tooltip-box-shadow:none;--popover-border-color:transparent;--wash:#3E4042;--web-wash:#152127;--warning:#D69804;--chat-bubble-emphasis-ring-after:white;--chat-bubble-emphasis-ring-before:black;--chat-text-blockquote-color-background-line:rgba(255, 255, 255, 0.19);--chat-text-blockquote-color-text-primary-media:rgba(255, 255, 255, 0.7);--chat-incoming-message-bubble-background-color:#303030;--chat-outgoing-message-bubble-background-color:var(--accent);--chat-replied-message-background-color:rgba(255, 255, 255, 0.12);--radio-border-color:var(--primary-icon);--radio-border-color-disabled:var(--disabled-button-background);--radio-border-color-selected:var(--accent);--radio-checked-icon-color:var(--accent);--radio-checked-icon-color-disabled:var(--disabled-button-background);--dialog-anchor-vertical-padding:32px;--header-height:0px;--global-panel-width:0px;--global-panel-width-expanded:0px;--alert-banner-corner-radius:16px;--button-corner-radius:22px;--button-corner-radius-medium:18px;--button-corner-radius-large:12px;--button-height-large:44px;--button-height-medium:36px;--button-padding-horizontal-large:20px;--button-padding-horizontal-medium:16px;--button-padding-icon-only:16px;--button-icon-padding-large:16px;--button-icon-padding-medium:12px;--button-inner-icon-spacing-large:4px;--button-inner-icon-spacing-medium:3px;--blueprint-button-height-medium:40px;--blueprint-button-height-large:48px;--card-corner-radius:16px;--card-box-shadow:0 8px 20px 0  var(--shadow-2), 0 2px 4px 0 var(--shadow-1);--card-padding-horizontal:16px;--card-padding-vertical:16px;--chip-corner-radius:8px;--comment-bubble:18px;--dialog-corner-radius:32px;--glimmer-corner-radius:16px;--image-corner-radius:16px;--infochip-medium-radius:12px;--input-corner-radius:16px;--input-border-width:1px;--nav-list-cell-corner-radius:16px;--list-cell-corner-radius:16px;--list-cell-min-height:52px;--list-cell-padding-vertical:16px;--list-cell-padding-vertical-with-addon:12px;--menu-base-list-item-padding-horizontal:8px;--menu-base-list-item-padding-vertical:12px;--menu-base-size-full-margin-end:48px;--menu-item-base-margin-horizontal:8px;--menu-item-base-margin-vertical:0px;--menu-item-base-padding-horizontal:8px;--menu-item-base-overlay-radius:4px;--menu-item-base-padding-vertical:12px;--menu-item-base-with-icon-padding-horizontal:var(--menu-item-base-padding-horizontal);--separator-menu-item-margin-horizontal:16px;--separator-menu-item-margin-vertical:4px;--nav-list-cell-min-height:52px;--nav-list-cell-padding-vertical:16px;--nav-list-cell-padding-vertical-with-addon:12px;--nux-card-body-padding-end:24px;--page-footer-padding-vertical:28px;--popover-border-style:none;--popover-border-width:0px;--section-header-addOnEnd-margin-horizontal:8px;--section-header-addOnStart-margin-horizontal:12px;--section-header-addOnEnd-button-padding-horizontal:0px;--section-header-addOnEnd-button-padding-vertical:0px;--section-header-padding-vertical:16px;--section-header-subtitle-margin-vertical:14px;--section-header-subtitle-with-addOnEnd-margin-vertical:6px;--tab-height:60px;--tab-icon-padding-end:0px;--tab-text-icon-gap:4px;--tab-underline-color:transparent;--tab-underline-height:3px;--text-badge-corner-radius:20px;--text-badge-padding-horizontal:8px;--text-badge-padding-vertical:6px;--text-input-multi-padding-between-text-scrollbar:16px;--text-input-multi-padding-scrollbar:8px;--text-input-caption-margin-top:12px;--text-input-padding-vertical:10px;--toast-addon-padding-horizontal:6px;--toast-addon-padding-vertical:0px;--toast-container-max-width:100%;--toast-container-min-width:320px;--toast-container-padding-horizontal:14px;--toast-container-padding-vertical:16px;--toast-corner-radius:16px;--toaster-view-max-width:328px;--tooltip-corner-radius:16px;--typeahead-list-outer-padding-vertical:8px;--fds-animation-enter-exit-in:cubic-bezier(0.14, 1, 0.34, 1);--fds-animation-enter-exit-out:cubic-bezier(0.45, 0.1, 0.2, 1);--fds-animation-swap-shuffle-in:cubic-bezier(0.14, 1, 0.34, 1);--fds-animation-swap-shuffle-out:cubic-bezier(0.45, 0.1, 0.2, 1);--fds-animation-move-in:cubic-bezier(0.17, 0.17, 0, 1);--fds-animation-move-out:cubic-bezier(0.17, 0.17, 0, 1);--fds-animation-expand-collapse-in:cubic-bezier(0.17, 0.17, 0, 1);--fds-animation-expand-collapse-out:cubic-bezier(0.17, 0.17, 0, 1);--fds-animation-passive-move-in:cubic-bezier(0.5, 0, 0.1, 1);--fds-animation-passive-move-out:cubic-bezier(0.5, 0, 0.1, 1);--fds-animation-quick-move-in:cubic-bezier(0.1, 0.9, 0.2, 1);--fds-animation-quick-move-out:cubic-bezier(0.1, 0.9, 0.2, 1);--fds-animation-fade-in:cubic-bezier(0, 0, 1, 1);--fds-animation-fade-out:cubic-bezier(0, 0, 1, 1);--fds-duration-extra-extra-short-in:100ms;--fds-duration-extra-extra-short-out:100ms;--fds-duration-extra-short-in:200ms;--fds-duration-extra-short-out:150ms;--fds-duration-short-in:280ms;--fds-duration-short-out:200ms;--fds-duration-medium-in:400ms;--fds-duration-medium-out:350ms;--fds-duration-long-in:500ms;--fds-duration-long-out:350ms;--fds-duration-extra-long-in:1000ms;--fds-duration-extra-long-out:1000ms;--fds-duration-none:0ms;--fds-fast:200ms;--fds-slow:400ms;--font-family-apple:system-ui, -apple-system, BlinkMacSystemFont, '.SFNSText-Regular', sans-serif;--font-family-code:ui-monospace, Menlo, Consolas, Monaco, monospace;--font-family-default:Helvetica, Arial, sans-serif;--font-family-segoe:Segoe UI Historic, Segoe UI, Helvetica, Arial, sans-serif;--body-font-family:Optimistic;--body-font-size:0.9375rem;--body-font-weight:400;--body-line-height:1.2667;--body-emphasized-font-family:Optimistic;--body-emphasized-font-size:0.9375rem;--body-emphasized-font-weight:700;--body-emphasized-line-height:1.2667;--headline1-font-family:Optimistic;--headline1-font-size:1.5rem;--headline1-font-weight:600;--headline1-line-height:1.1667;--headline2-font-family:Optimistic;--headline2-font-size:1.5rem;--headline2-font-weight:600;--headline2-line-height:1.1667;--headline3-font-family:Optimistic;--headline3-font-size:1.0625rem;--headline3-font-weight:600;--headline3-line-height:1.2941;--meta-font-family:Optimistic;--meta-font-size:0.8125rem;--meta-font-weight:400;--meta-line-height:1.3077;--meta-emphasized-font-family:Optimistic;--meta-emphasized-font-size:0.8125rem;--meta-emphasized-font-weight:700;--meta-emphasized-line-height:1.3077;--primary-label-font-family:Optimistic;--primary-label-font-size:0.9375rem;--primary-label-font-weight:500;--primary-label-line-height:1.2667;--secondary-label-font-family:Optimistic;--secondary-label-font-size:0.8125rem;--secondary-label-font-weight:500;--secondary-label-line-height:1.3077;--tertiary-label-font-family:Optimistic;--tertiary-label-font-size:0.6875rem;--tertiary-label-font-weight:500;--tertiary-label-line-height:1.4545;--text-input-field-font-family:Optimistic;--text-input-field-font-size:0.9375rem;--text-input-field-font-stretch:100%;--text-input-field-font-weight:500;--text-input-field-line-height:1.2667;--text-input-label-font-family:Optimistic;--text-input-label-font-size:0.9375rem;--text-input-label-font-size-scale-multiplier:0.86666666666667;--text-input-label-font-stretch:100%;--text-input-label-font-weight:400;--text-input-label-line-height:1.13334;--messenger-card-min-width:300px;--messenger-card-max-width:480px;--messenger-application-max-width:2560px;--messenger-sidebar-collapsed-width:44px;--messenger-sidebar-expanded-width:240px;--messenger-card-corner-radius:8px;--messenger-card-spacing:16px;--chat-bubble-padding-vertical:8px;--chat-bubble-padding-horizontal:12px;--chat-bubble-border-radius:18px;--dialog-size-medium-width:100%;--dialog-size-small-width:100%;--focus-ring-outline-forced-colors:2px auto transparent !important;--focus-ring-outline-link:2px auto var(--focus-ring-blue);--focus-ring-shadow-default:0 0 0 2px var(--always-white), 0 0 0 4px var(--focus-ring-blue);--focus-ring-shadow-inset:0 0 0 2px var(--focus-ring-blue) inset, 0 0 0 4px var(--always-white) inset;--glimmer-animation-direction:alternate;--glimmer-animation-duration:1000ms;--glimmer-animation-timing-function:steps(10, end);--glimmer-opacity-min:0.25;--glimmer-opacity-max:1;--radio-checked-icon-size-large:12px;--radio-checked-icon-size-medium:12px;--radio-border-width:2px;--radio-size-large:24px;--radio-size-medium:20px;--blue-primary:rgb(0,136,244);--blue-secondary:rgb(235,245,255);--blue-tertiary:rgb(4,59,114);--chartreuse-primary:rgb(106,147,22);--chartreuse-secondary:rgb(226,255,152);--chartreuse-tertiary:rgb(50,65,19);--cyan-primary:rgb(0,142,213);--cyan-secondary:rgb(231,245,255);--cyan-tertiary:rgb(15,63,93);--dataviz-primary-2:rgb(156,219,255);--dataviz-primary-3:rgb(73,156,255);--dataviz-secondary-1:rgb(92,87,210);--dataviz-secondary-2:rgb(142,129,255);--dataviz-secondary-3:rgb(119,45,88);--dataviz-supplementary-1:rgb(253,91,67);--dataviz-supplementary-2:rgb(161,132,0);--dataviz-supplementary-3:rgb(36,131,44);--dataviz-supplementary-4:rgb(232,234,238);--fuschia-primary:rgb(250,45,138);--fuschia-secondary:rgb(255,241,246);--fuschia-tertiary:rgb(118,14,62);--green-primary:rgb(43,154,53);--green-secondary:rgb(227,250,224);--green-tertiary:rgb(26,68,27);--magenta-primary:rgb(215,77,204);--magenta-secondary:rgb(255,239,254);--magenta-tertiary:rgb(96,36,91);--orange-primary:rgb(208,108,20);--orange-secondary:rgb(255,241,239);--orange-tertiary:rgb(94,49,14);--purple-primary:rgb(125,116,255);--purple-secondary:rgb(245,241,255);--purple-tertiary:rgb(55,50,121);--red-primary:rgb(251,60,68);--red-secondary:rgb(255,241,239);--red-tertiary:rgb(118,22,27);--teal-primary:rgb(0,152,124);--teal-secondary:rgb(227,247,241);--teal-tertiary:rgb(10,68,56);--yellow-primary:rgb(161,132,0);--yellow-secondary:rgb(255,246,161);--yellow-tertiary:rgb(72,59,12);--emphasized-card-background-blue-comet:linear-gradient(rgb(0,59,173),rgb(0,10,73));--emphasized-card-background-green-comet:linear-gradient(rgb(0,82,35),rgb(0,20,11));--emphasized-card-background-purple-comet:linear-gradient(rgb(66,23,160),rgb(18,3,53));--emphasized-card-background-teal-comet:linear-gradient(rgb(0,65,75), rgb(0,19,26));--search-input-background:#1C2B33;--secondary-emphasized-button-stroke:rgb(69,153,255);--stepper-active:#F1F4F7;--stepper-inactive:#5D6C7B;--animation-ambient-default:cubic-bezier(0,0,1,1);--animation-ambient-max:cubic-bezier(0.6,0,0.7,0);--animation-ambient-min:cubic-bezier(0,0.1,0.4,1);--animation-duration-extra-fast-default-in:100ms;--animation-duration-extra-fast-default-out:100ms;--animation-duration-extra-fast-max-in:150ms;--animation-duration-extra-fast-max-out:150ms;--animation-duration-extra-fast-min-in:50ms;--animation-duration-extra-fast-min-out:50ms;--animation-duration-extra-slow-default-in:1000ms;--animation-duration-extra-slow-default-out:1000ms;--animation-duration-extra-slow-max-in:1200ms;--animation-duration-extra-slow-max-out:1200ms;--animation-duration-extra-slow-min-in:800ms;--animation-duration-extra-slow-min-out:800ms;--animation-duration-fast-default-in:250ms;--animation-duration-fast-default-out:250ms;--animation-duration-fast-max-in:300ms;--animation-duration-fast-max-out:300ms;--animation-duration-fast-min-in:200ms;--animation-duration-fast-min-out:200ms;--animation-duration-medium-default-in:500ms;--animation-duration-medium-default-out:500ms;--animation-duration-medium-max-in:600ms;--animation-duration-medium-max-out:600ms;--animation-duration-medium-min-in:400ms;--animation-duration-medium-min-out:400ms;--animation-duration-short-in:280ms;--animation-duration-short-out:200ms;--animation-duration-slow-default-in:2000ms;--animation-duration-slow-default-out:2000ms;--animation-duration-slow-max-in:2500ms;--animation-duration-slow-max-out:2500ms;--animation-duration-slow-min-in:1500ms;--animation-duration-slow-min-out:1500ms;--animation-elastic-default-in:cubic-bezier(0.25,1.4,0.5,1);--animation-elastic-default-out:cubic-bezier(0.45,0,0.75,-0.43);--animation-elastic-max:cubic-bezier(0.17,0.89,0.32,1.27);--animation-elastic-min:cubic-bezier(0,1.2,0.4,1);--animation-organic-default:cubic-bezier(0.6,0,0.1,1);--animation-organic-max-in:cubic-bezier(0.9,0,0.1,1);--animation-organic-max-out:cubic-bezier(0.8,0,0.64,1);--animation-organic-min:cubic-bezier(0.64,0,0.67,1);--animation-responsive-default:cubic-bezier(0.1,1,0.36,1);--animation-responsive-max:cubic-bezier(0,1,0.2,1);--animation-responsive-min:cubic-bezier(0.04,0,0,1);--badge-attention-background-color:#5D2E04;--badge-critical-background-color:#7B0210;--badge-informational-background-color:#042F97;--badge-inner-padding-horizontal:8px;--badge-neutral-background-color:#2B3D46;--badge-success-background-color:#09441F;--body-emphasized-font-stretch:100%;--body-font-stretch:100%;--border-unfocused:#3D4F5C;--button-large-corner-radius:22px;--button-large-height:44px;--button-large-icon-padding:16px;--button-large-inner-icon-spacing:4px;--button-large-padding-horizontal:20px;--button-medium-corner-radius:18px;--button-medium-height:36px;--button-medium-icon-padding:12px;--button-medium-inner-icon-spacing:3px;--button-medium-padding-horizontal:16px;--card-border-color:#3D4F5C;--card-border-width:1px;--chip-background:rgba(255, 255, 255, 0);--chip-background-selected:#CBD2D9;--display-font-family:Optimistic;--display-font-size:3rem;--display-font-stretch:100%;--display-font-weight:600;--display-line-height:1.1667;--fb-app-wordmark:#FFFFFF;--glimmer:#BFC7D0;--glimmer-max-opacity:0.12;--glimmer-min-opacity:0.03;--glimmer-on-white-background:#BFC7D0;--glimmer-on-white-background-max-opacity:0.12;--glimmer-on-white-background-min-opacity:0.03;--gradient-opacity:1;--headline1-font-stretch:100%;--headline2-font-stretch:100%;--headline3-font-stretch:100%;--list-border-color:#3D4F5C;--list-border-width:1px;--list-cell-margin-horizontal:0px;--list-cell-padding-vertical-with-no-addon:16px;--media-card-corner-radius:16px;--menu-list-cell-corner-radius:0px;--meta-emphasized-font-stretch:100%;--meta-font-stretch:100%;--nav-list-cell-corner-radius-dense:12px;--nav-list-cell-margin-horizontal:16px;--nav-list-cell-margin-horizontal-inner-addon:16px;--nav-list-cell-min-height-dense:44px;--nav-list-selected-accent:#2B3D46;--nav-list-selected-accent-text:#FFFFFF;--overlay-on-surface:rgba(0, 0, 0, 0.6);--primary-destructive-button-background:#D31130;--primary-destructive-button-icon:#FFFFFF;--primary-destructive-button-text:#FFFFFF;--primary-label-font-stretch:100%;--screen-header-height:0px;--secondary-destructive-button-background:rgba(21, 33, 39, 0.2);--secondary-destructive-button-icon:#FB7D87;--secondary-destructive-button-stroke:#FB7D87;--secondary-destructive-button-text:#FB7D87;--secondary-label-font-stretch:100%;--shadow-card:;--shadow-list:;--slider-handle:#0082FB;--slider-handle-disabled:#5D6C7B;--slider-track-filled:#0082FB;--slider-track-filled-disabled:#5D6C7B;--slider-track-unfilled:#5D6C7B;--slider-track-unfilled-disabled:#3D4F5C;--tertiary-label-font-stretch:100%;--text-badge-neutral-background:#2B3D46;--text-input-bar-background:rgba(21, 33, 39, 0.2);--text-input-label-top:18px;--text-input-min-height:60px;--tile-tonal-container-background-blue:#000844;--tile-tonal-container-background-elevated:#1C2B33;--tile-tonal-container-background-green:#001608;--tile-tonal-container-background-orange:#270701;--tile-tonal-container-background-purple:#18023E;--tile-tonal-container-background-rose:#2C010C;--tile-tonal-container-background-teal:#01141C;--tile-tonal-container-background-yellow:#220B02;--tile-tonal-icon-blue:#0082FB;--tile-tonal-icon-container-background-blue:#001E75;--tile-tonal-icon-container-background-elevated:#1C2B33;--tile-tonal-icon-container-background-green:#053018;--tile-tonal-icon-container-background-orange:#4E1608;--tile-tonal-icon-container-background-purple:#31067B;--tile-tonal-icon-container-background-rose:#58021E;--tile-tonal-icon-container-background-teal:#062D38;--tile-tonal-icon-container-background-yellow:#451E03;--tile-tonal-icon-green:#0B991F;--tile-tonal-icon-orange:#D66100;--tile-tonal-icon-purple:#856CFF;--tile-tonal-icon-rose:#F63368;--tile-tonal-icon-teal:#0C9293;--tile-tonal-icon-yellow:#B47700;--tile-tonal-text-blue:#0082FB;--tile-tonal-text-green:#0B991F;--tile-tonal-text-orange:#D66100;--tile-tonal-text-purple:#856CFF;--tile-tonal-text-rose:#F63368;--tile-tonal-text-teal:#0C9293;--tile-tonal-text-yellow:#B47700;--toast-text-web:#FFFFFF;--tooltip-padding-horizontal:16px;--tooltip-padding-vertical:16px;--ui-background:#0A1317;}}.__fb-dark-mode {--fds-black:black;--fds-black-alpha-05:rgba(0, 0, 0, 0.05);--fds-black-alpha-10:rgba(0, 0, 0, 0.1);--fds-black-alpha-15:rgba(0, 0, 0, 0.15);--fds-black-alpha-20:rgba(0, 0, 0, 0.2);--fds-black-alpha-30:rgba(0, 0, 0, 0.3);--fds-black-alpha-40:rgba(0, 0, 0, 0.4);--fds-black-alpha-50:rgba(0, 0, 0, 0.5);--fds-black-alpha-60:rgba(0, 0, 0, 0.6);--fds-black-alpha-80:rgba(0, 0, 0, 0.8);--fds-blue-05:black;--fds-blue-30:black;--fds-blue-40:black;--fds-blue-60:black;--fds-blue-70:black;--fds-blue-80:black;--fds-button-text:black;--fds-comment-background:black;--fds-dark-mode-gray-35:black;--fds-dark-mode-gray-50:black;--fds-dark-mode-gray-70:black;--fds-dark-mode-gray-80:black;--fds-dark-mode-gray-90:black;--fds-dark-mode-gray-100:black;--fds-gray-00:black;--fds-gray-05:black;--fds-gray-10:black;--fds-gray-20:black;--fds-gray-25:black;--fds-gray-30:black;--fds-gray-45:black;--fds-gray-70:black;--fds-gray-80:black;--fds-gray-90:black;--fds-gray-100:black;--fds-green-55:black;--fds-green-65:black;--fds-highlight:black;--fds-highlight-cell-background:black;--fds-primary-icon:white;--fds-primary-text:white;--fds-red-55:black;--fds-soft:cubic-bezier(.08,.52,.52,1);--fds-spectrum-aluminum-tint-70:black;--fds-spectrum-blue-gray-tint-70:black;--fds-spectrum-cherry:black;--fds-spectrum-cherry-tint-70:black;--fds-spectrum-grape-tint-70:black;--fds-spectrum-grape-tint-90:black;--fds-spectrum-lemon-dark-1:black;--fds-spectrum-lemon-tint-70:black;--fds-spectrum-lime:black;--fds-spectrum-lime-tint-70:black;--fds-spectrum-orange-tint-70:black;--fds-spectrum-orange-tint-90:black;--fds-spectrum-seafoam-tint-70:black;--fds-spectrum-slate-dark-2:black;--fds-spectrum-slate-tint-70:black;--fds-spectrum-teal:black;--fds-spectrum-teal-dark-1:black;--fds-spectrum-teal-dark-2:black;--fds-spectrum-teal-tint-70:black;--fds-spectrum-teal-tint-90:black;--fds-spectrum-tomato:black;--fds-spectrum-tomato-tint-30:black;--fds-spectrum-tomato-tint-90:black;--fds-strong:cubic-bezier(.12,.8,.32,1);--fds-unified-blue-35:black;--fds-unified-gray-20:black;--fds-white:black;--fds-white-alpha-05:rgba(255, 255, 255, 0.05);--fds-white-alpha-10:rgba(255, 255, 255, 0.1);--fds-white-alpha-20:rgba(255, 255, 255, 0.2);--fds-white-alpha-30:rgba(255, 255, 255, 0.3);--fds-white-alpha-40:rgba(255, 255, 255, 0.4);--fds-white-alpha-50:rgba(255, 255, 255, 0.5);--fds-white-alpha-60:rgba(255, 255, 255, 0.6);--fds-white-alpha-80:rgba(255, 255, 255, 0.8);--fds-yellow-20:black;--accent:#F1F4F7;--always-white:#FFFFFF;--always-black:#000000;--always-dark-gradient:linear-gradient(rgba(0,0,0,0), rgba(0,0,0,0.6));--always-dark-overlay:rgba(0, 0, 0, 0.4);--always-light-overlay:rgba(255, 255, 255, 0.4);--always-gray-40:#65676B;--always-gray-75:#BCC0C4;--always-gray-95:#F0F2F5;--attachment-footer-background:rgba(255, 255, 255, 0.1);--background-deemphasized:#0A1317;--badge-background-color-blue:var(--accent);--badge-background-color-dark-gray:var(--secondary-icon);--badge-background-color-gray:var(--disabled-icon);--badge-background-color-green:var(--positive);--badge-background-color-light-blue:var(--highlight-bg);--badge-background-color-red:var(--notification-badge);--badge-background-color-yellow:var(--base-lemon);--base-blue:#1877F2;--base-cherry:#F3425F;--base-grape:#9360F7;--base-lemon:#F7B928;--base-lime:#45BD62;--base-pink:#FF66BF;--base-seafoam:#54C7EC;--base-teal:#2ABBA7;--base-tomato:#FB724B;--text-badge-info-background:#042F97;--text-badge-success-background:#09441F;--text-badge-attention-background:#5D2E04;--text-badge-critical-background:#7B0210;--blue-link:#4BA9FE;--border-focused:#A4B0BC;--card-background:#152127;--card-background-flat:#152127;--comment-background:rgba(255, 255, 255, 0.1);--comment-footer-background:#4E4F50;--dataviz-primary-1:rgb(0,174,143);--disabled-button-background:rgba(255, 255, 255, 0.2);--disabled-button-text:rgba(255, 255, 255, 0.3);--disabled-icon:#5D6C7B;--disabled-text:#5D6C7B;--divider:#3D4F5C;--event-date:#FB7D87;--fb-wordmark:#FFFFFF;--fb-logo:#0866FF;--filter-accent:invert(40%) sepia(52%) saturate(200%) saturate(200%) saturate(200%) saturate(189%) hue-rotate(191deg) brightness(103%) contrast(102%);--filter-always-white:invert(100%);--filter-disabled-icon:invert(100%) opacity(30%);--filter-placeholder-icon:invert(59%) sepia(11%) saturate(200%) saturate(135%) hue-rotate(176deg) brightness(96%) contrast(94%);--filter-primary-accent:invert(40%) sepia(52%) saturate(200%) saturate(200%) saturate(200%) saturate(189%) hue-rotate(191deg) brightness(103%) contrast(102%);--filter-primary-icon:invert(89%) sepia(6%) hue-rotate(185deg);--filter-secondary-button-icon-on-media:invert(100%);--filter-secondary-icon:invert(62%) sepia(98%) saturate(12%) hue-rotate(175deg) brightness(90%) contrast(96%);--filter-warning-icon:invert(77%) sepia(29%) saturate(200%) saturate(200%) saturate(200%) saturate(200%) saturate(200%) saturate(128%) hue-rotate(359deg) brightness(102%) contrast(107%);--filter-blue-link-icon:invert(73%) sepia(29%) saturate(200%) saturate(200%) saturate(200%) saturate(200%) saturate(200%) saturate(200%) saturate(103.25%) hue-rotate(189deg) brightness(101%) contrast(101%);--filter-positive:invert(37%) sepia(61%) saturate(200%) saturate(200%) saturate(200%) saturate(200%) saturate(115%) hue-rotate(91deg) brightness(97%) contrast(105%);--filter-primary-deemphasized-button-icon:brightness(0) saturate(100%) invert(63%) sepia(20%) saturate(1290%) hue-rotate(185deg) brightness(107%) contrast(101%);--filter-negative:invert(25%) sepia(33%) saturate(200%) saturate(200%) saturate(200%) saturate(200%) saturate(200%) saturate(200%) saturate(110%) hue-rotate(345deg) brightness(132%) contrast(96%);--focus-ring-blue:#1877F2;--glimmer-spinner-icon:white;--hero-banner-background:#E85D07;--hosted-view-selected-state:#DDE2E8;--highlight-bg:rgba(24, 119, 242, .31);--hover-overlay:rgba(255, 255, 255, 0.1);--inverse-text:#0A1317;--list-cell-chevron:#A4B0BC;--media-hover:rgba(68, 73, 80, 0.15);--media-inner-border:rgba(241, 244, 247, 0.1);--media-outer-border:#33363A;--media-pressed:rgba(255, 255, 255, 0.3);--messenger-card-background:#242526;--messenger-card-box-shadow:0px 0px 16px rgba(0, 0, 0, 0.3);--mwp-header-background-color:var(--messenger-card-background);--mwp-header-button-color:var(--accent);--mwp-message-row-background:var(--messenger-card-background);--messenger-reply-background:#18191A;--overlay-alpha-80:rgba(0, 0, 0, 0.6);--overlay-on-media:rgba(0, 0, 0, 0.7);--nav-bar-background:rgba(0,0,0,0.00);--popover-card-background:var(--card-background);--nav-bar-background-gradient:linear-gradient(to top, #242526, rgba(36,37,38,.9), rgba(36,37,38,.7), rgba(36,37,38,.4), rgba(36,37,38,0));--nav-bar-background-gradient-wash:linear-gradient(to top, #18191A, rgba(24,25,26,.9), rgba(24,25,26,.7), rgba(24,25,26,.4), rgba(24,25,26,0));--negative:#FB7D87;--negative-background:hsl(350, 87%, 55%, 20%);--new-notification-background:rgba(255, 255, 255, 0.1);--non-media-pressed:rgba(255, 255, 255, 0.2);--non-media-pressed-on-dark:rgba(255, 255, 255, 0.3);--notification-badge:#FB7D87;--placeholder-icon:#96A6B4;--placeholder-image:#3D4F5C;--placeholder-text:#96A6B4;--placeholder-text-on-media:#CCD3DB;--popover-background:#152127;--positive:#3CBC22;--positive-background:#1F3520;--press-overlay:rgba(255, 255, 255, 0.2);--primary-button-background:#0064E0;--primary-button-icon:#F1F4F7;--primary-button-pressed:#77A7FF;--primary-button-text:#F1F4F7;--primary-deemphasized-button-background:rgba(0,0,0,0.00);--primary-deemphasized-button-pressed:rgb(255,255,255,.05);--primary-deemphasized-button-pressed-overlay:rgb(255,255,255,.15);--primary-deemphasized-button-text:#0A1317;--primary-icon:#F1F4F7;--primary-text:#F1F4F7;--primary-text-on-media:#FFFFFF;--primary-web-focus-indicator:#D24294;--progress-ring-neutral-background:rgba(255, 255, 255, 0.2);--progress-ring-neutral-foreground:#ffffff;--progress-ring-on-media-background:rgba(255, 255, 255, 0.2);--progress-ring-on-media-foreground:rgb(255,255,255);--progress-ring-blue-background:rgba(45, 136, 255, 0.2);--progress-ring-blue-foreground:hsl(214, 100%, 59%);--progress-ring-disabled-background:rgba(122,125,130, 0.2);--progress-ring-disabled-foreground:#7A7D82;--rating-star-active:#FF9831;--scroll-thumb:rgba(255, 255, 255, 0.3);--scroll-shadow:0 0px 16px 0 rgba(52,72,84,0.05);--secondary-button-background:rgba(21, 33, 39, 0.2);--secondary-button-background-floating:#4B4C4F;--secondary-button-background-on-dark:rgba(255, 255, 255, 0.4);--secondary-button-pressed:rgba(0,0,0,0.00);--secondary-button-stroke:#445664;--secondary-button-text:#F1F4F7;--secondary-icon:#96A6B4;--secondary-text:#96A6B4;--secondary-text-on-media:#CCD3DB;--section-header-text:#BCC0C4;--shadow-1:rgba(0, 0, 0, 0.1);--shadow-2:rgba(0, 0, 0, 0.2);--shadow-5:rgba(0, 0, 0, 0.5);--shadow-8:rgba(0, 0, 0, 0.8);--shadow-base:0 1px 2px var(--shadow-2);--shadow-elevated:0px 4px 12px rgba(10, 19, 23, 0.12);--shadow-emphasis:0 2px 12px var(--shadow-2);--shadow-inset:rgba(255, 255, 255, 0.05);--shadow-on-media:0px 0px 1px rgba(0, 0, 0, 0.62);--shadow-persistent:0px 6px 16px rgba(10, 19, 23, 0.16);--shadow-primary:0px 0px 0px rgba(255, 255, 255, 0);--shadow-responsive:0px 8px 16px 0px rgba(0, 0, 0, 0.1);--surface-background:#152127;--switch-active:#0082FB;--switch-inactive:#5D6C7B;--switch-unchecked-background-color:#6F7276;--text-highlight:#4BA9FE;--input-background:rgba(21, 33, 39, 0.2);--input-background-hover:var(--input-background);--input-background-warn-hover:hsla(var(--warning-h), var(--warning-s), var(--warning-l), 0.05);--input-background-error-hover:hsla(var(--negative-h), var(--negative-s), var(--negative-l), 0.05);--input-background-active:hsla(var(--accent-h), var(--accent-s), var(--accent-l), 0.05);--input-background-warn-active:hsla(var(--warning-h), var(--warning-s), var(--warning-l), 0.05);--input-background-error-active:hsla(var(--negative-h), var(--negative-s), var(--negative-l), 0.05);--input-background-disabled:#18191A;--input-border-color:#3E4042;--input-border-color-hover:var(--placeholder-text);--input-label-color-highlighted:hsl(214, 100%, 59%);--input-label-color-inside:var(--secondary-text);--input-label-color-error:var(--negative);--input-label-color-disabled:var(--disabled-text);--text-input-outside-label:#FFFFFF;--toast-background:#283943;--toast-text:#FFFFFF;--toast-text-link:#4BA9FE;--toast-border-color:transparent;--toast-border-style:none;--toast-border-width:0px;--toggle-active-background:#F1F4F7;--toggle-active-icon:#0082FB;--toggle-active-text:#0A1317;--toggle-button-active-background:#E6F2FF;--tooltip-background:#25363F;--tooltip-box-shadow:none;--popover-border-color:transparent;--wash:#3E4042;--web-wash:#152127;--warning:#D69804;--chat-bubble-emphasis-ring-after:white;--chat-bubble-emphasis-ring-before:black;--chat-text-blockquote-color-background-line:rgba(255, 255, 255, 0.19);--chat-text-blockquote-color-text-primary-media:rgba(255, 255, 255, 0.7);--chat-incoming-message-bubble-background-color:#303030;--chat-outgoing-message-bubble-background-color:var(--accent);--chat-replied-message-background-color:rgba(255, 255, 255, 0.12);--radio-border-color:var(--primary-icon);--radio-border-color-disabled:var(--disabled-button-background);--radio-border-color-selected:var(--accent);--radio-checked-icon-color:var(--accent);--radio-checked-icon-color-disabled:var(--disabled-button-background);--dialog-anchor-vertical-padding:32px;--header-height:0px;--global-panel-width:0px;--global-panel-width-expanded:0px;--alert-banner-corner-radius:16px;--button-corner-radius:22px;--button-corner-radius-medium:18px;--button-corner-radius-large:12px;--button-height-large:44px;--button-height-medium:36px;--button-padding-horizontal-large:20px;--button-padding-horizontal-medium:16px;--button-padding-icon-only:16px;--button-icon-padding-large:16px;--button-icon-padding-medium:12px;--button-inner-icon-spacing-large:4px;--button-inner-icon-spacing-medium:3px;--blueprint-button-height-medium:40px;--blueprint-button-height-large:48px;--card-corner-radius:16px;--card-box-shadow:0 8px 20px 0  var(--shadow-2), 0 2px 4px 0 var(--shadow-1);--card-padding-horizontal:16px;--card-padding-vertical:16px;--chip-corner-radius:8px;--comment-bubble:18px;--dialog-corner-radius:32px;--glimmer-corner-radius:16px;--image-corner-radius:16px;--infochip-medium-radius:12px;--input-corner-radius:16px;--input-border-width:1px;--nav-list-cell-corner-radius:16px;--list-cell-corner-radius:16px;--list-cell-min-height:52px;--list-cell-padding-vertical:16px;--list-cell-padding-vertical-with-addon:12px;--menu-base-list-item-padding-horizontal:8px;--menu-base-list-item-padding-vertical:12px;--menu-base-size-full-margin-end:48px;--menu-item-base-margin-horizontal:8px;--menu-item-base-margin-vertical:0px;--menu-item-base-padding-horizontal:8px;--menu-item-base-overlay-radius:4px;--menu-item-base-padding-vertical:12px;--menu-item-base-with-icon-padding-horizontal:var(--menu-item-base-padding-horizontal);--separator-menu-item-margin-horizontal:16px;--separator-menu-item-margin-vertical:4px;--nav-list-cell-min-height:52px;--nav-list-cell-padding-vertical:16px;--nav-list-cell-padding-vertical-with-addon:12px;--nux-card-body-padding-end:24px;--page-footer-padding-vertical:28px;--popover-border-style:none;--popover-border-width:0px;--section-header-addOnEnd-margin-horizontal:8px;--section-header-addOnStart-margin-horizontal:12px;--section-header-addOnEnd-button-padding-horizontal:0px;--section-header-addOnEnd-button-padding-vertical:0px;--section-header-padding-vertical:16px;--section-header-subtitle-margin-vertical:14px;--section-header-subtitle-with-addOnEnd-margin-vertical:6px;--tab-height:60px;--tab-icon-padding-end:0px;--tab-text-icon-gap:4px;--tab-underline-color:transparent;--tab-underline-height:3px;--text-badge-corner-radius:20px;--text-badge-padding-horizontal:8px;--text-badge-padding-vertical:6px;--text-input-multi-padding-between-text-scrollbar:16px;--text-input-multi-padding-scrollbar:8px;--text-input-caption-margin-top:12px;--text-input-padding-vertical:10px;--toast-addon-padding-horizontal:6px;--toast-addon-padding-vertical:0px;--toast-container-max-width:100%;--toast-container-min-width:320px;--toast-container-padding-horizontal:14px;--toast-container-padding-vertical:16px;--toast-corner-radius:16px;--toaster-view-max-width:328px;--tooltip-corner-radius:16px;--typeahead-list-outer-padding-vertical:8px;--fds-animation-enter-exit-in:cubic-bezier(0.14, 1, 0.34, 1);--fds-animation-enter-exit-out:cubic-bezier(0.45, 0.1, 0.2, 1);--fds-animation-swap-shuffle-in:cubic-bezier(0.14, 1, 0.34, 1);--fds-animation-swap-shuffle-out:cubic-bezier(0.45, 0.1, 0.2, 1);--fds-animation-move-in:cubic-bezier(0.17, 0.17, 0, 1);--fds-animation-move-out:cubic-bezier(0.17, 0.17, 0, 1);--fds-animation-expand-collapse-in:cubic-bezier(0.17, 0.17, 0, 1);--fds-animation-expand-collapse-out:cubic-bezier(0.17, 0.17, 0, 1);--fds-animation-passive-move-in:cubic-bezier(0.5, 0, 0.1, 1);--fds-animation-passive-move-out:cubic-bezier(0.5, 0, 0.1, 1);--fds-animation-quick-move-in:cubic-bezier(0.1, 0.9, 0.2, 1);--fds-animation-quick-move-out:cubic-bezier(0.1, 0.9, 0.2, 1);--fds-animation-fade-in:cubic-bezier(0, 0, 1, 1);--fds-animation-fade-out:cubic-bezier(0, 0, 1, 1);--fds-duration-extra-extra-short-in:100ms;--fds-duration-extra-extra-short-out:100ms;--fds-duration-extra-short-in:200ms;--fds-duration-extra-short-out:150ms;--fds-duration-short-in:280ms;--fds-duration-short-out:200ms;--fds-duration-medium-in:400ms;--fds-duration-medium-out:350ms;--fds-duration-long-in:500ms;--fds-duration-long-out:350ms;--fds-duration-extra-long-in:1000ms;--fds-duration-extra-long-out:1000ms;--fds-duration-none:0ms;--fds-fast:200ms;--fds-slow:400ms;--font-family-apple:system-ui, -apple-system, BlinkMacSystemFont, '.SFNSText-Regular', sans-serif;--font-family-code:ui-monospace, Menlo, Consolas, Monaco, monospace;--font-family-default:Helvetica, Arial, sans-serif;--font-family-segoe:Segoe UI Historic, Segoe UI, Helvetica, Arial, sans-serif;--body-font-family:Optimistic;--body-font-size:0.9375rem;--body-font-weight:400;--body-line-height:1.2667;--body-emphasized-font-family:Optimistic;--body-emphasized-font-size:0.9375rem;--body-emphasized-font-weight:700;--body-emphasized-line-height:1.2667;--headline1-font-family:Optimistic;--headline1-font-size:1.5rem;--headline1-font-weight:600;--headline1-line-height:1.1667;--headline2-font-family:Optimistic;--headline2-font-size:1.5rem;--headline2-font-weight:600;--headline2-line-height:1.1667;--headline3-font-family:Optimistic;--headline3-font-size:1.0625rem;--headline3-font-weight:600;--headline3-line-height:1.2941;--meta-font-family:Optimistic;--meta-font-size:0.8125rem;--meta-font-weight:400;--meta-line-height:1.3077;--meta-emphasized-font-family:Optimistic;--meta-emphasized-font-size:0.8125rem;--meta-emphasized-font-weight:700;--meta-emphasized-line-height:1.3077;--primary-label-font-family:Optimistic;--primary-label-font-size:0.9375rem;--primary-label-font-weight:500;--primary-label-line-height:1.2667;--secondary-label-font-family:Optimistic;--secondary-label-font-size:0.8125rem;--secondary-label-font-weight:500;--secondary-label-line-height:1.3077;--tertiary-label-font-family:Optimistic;--tertiary-label-font-size:0.6875rem;--tertiary-label-font-weight:500;--tertiary-label-line-height:1.4545;--text-input-field-font-family:Optimistic;--text-input-field-font-size:0.9375rem;--text-input-field-font-stretch:100%;--text-input-field-font-weight:500;--text-input-field-line-height:1.2667;--text-input-label-font-family:Optimistic;--text-input-label-font-size:0.9375rem;--text-input-label-font-size-scale-multiplier:0.86666666666667;--text-input-label-font-stretch:100%;--text-input-label-font-weight:400;--text-input-label-line-height:1.13334;--messenger-card-min-width:300px;--messenger-card-max-width:480px;--messenger-application-max-width:2560px;--messenger-sidebar-collapsed-width:44px;--messenger-sidebar-expanded-width:240px;--messenger-card-corner-radius:8px;--messenger-card-spacing:16px;--chat-bubble-padding-vertical:8px;--chat-bubble-padding-horizontal:12px;--chat-bubble-border-radius:18px;--dialog-size-medium-width:100%;--dialog-size-small-width:100%;--focus-ring-outline-forced-colors:2px auto transparent !important;--focus-ring-outline-link:2px auto var(--focus-ring-blue);--focus-ring-shadow-default:0 0 0 2px var(--always-white), 0 0 0 4px var(--focus-ring-blue);--focus-ring-shadow-inset:0 0 0 2px var(--focus-ring-blue) inset, 0 0 0 4px var(--always-white) inset;--glimmer-animation-direction:alternate;--glimmer-animation-duration:1000ms;--glimmer-animation-timing-function:steps(10, end);--glimmer-opacity-min:0.25;--glimmer-opacity-max:1;--radio-checked-icon-size-large:12px;--radio-checked-icon-size-medium:12px;--radio-border-width:2px;--radio-size-large:24px;--radio-size-medium:20px;--blue-primary:rgb(0,136,244);--blue-secondary:rgb(235,245,255);--blue-tertiary:rgb(4,59,114);--chartreuse-primary:rgb(106,147,22);--chartreuse-secondary:rgb(226,255,152);--chartreuse-tertiary:rgb(50,65,19);--cyan-primary:rgb(0,142,213);--cyan-secondary:rgb(231,245,255);--cyan-tertiary:rgb(15,63,93);--dataviz-primary-2:rgb(156,219,255);--dataviz-primary-3:rgb(73,156,255);--dataviz-secondary-1:rgb(92,87,210);--dataviz-secondary-2:rgb(142,129,255);--dataviz-secondary-3:rgb(119,45,88);--dataviz-supplementary-1:rgb(253,91,67);--dataviz-supplementary-2:rgb(161,132,0);--dataviz-supplementary-3:rgb(36,131,44);--dataviz-supplementary-4:rgb(232,234,238);--fuschia-primary:rgb(250,45,138);--fuschia-secondary:rgb(255,241,246);--fuschia-tertiary:rgb(118,14,62);--green-primary:rgb(43,154,53);--green-secondary:rgb(227,250,224);--green-tertiary:rgb(26,68,27);--magenta-primary:rgb(215,77,204);--magenta-secondary:rgb(255,239,254);--magenta-tertiary:rgb(96,36,91);--orange-primary:rgb(208,108,20);--orange-secondary:rgb(255,241,239);--orange-tertiary:rgb(94,49,14);--purple-primary:rgb(125,116,255);--purple-secondary:rgb(245,241,255);--purple-tertiary:rgb(55,50,121);--red-primary:rgb(251,60,68);--red-secondary:rgb(255,241,239);--red-tertiary:rgb(118,22,27);--teal-primary:rgb(0,152,124);--teal-secondary:rgb(227,247,241);--teal-tertiary:rgb(10,68,56);--yellow-primary:rgb(161,132,0);--yellow-secondary:rgb(255,246,161);--yellow-tertiary:rgb(72,59,12);--emphasized-card-background-blue-comet:linear-gradient(rgb(0,59,173),rgb(0,10,73));--emphasized-card-background-green-comet:linear-gradient(rgb(0,82,35),rgb(0,20,11));--emphasized-card-background-purple-comet:linear-gradient(rgb(66,23,160),rgb(18,3,53));--emphasized-card-background-teal-comet:linear-gradient(rgb(0,65,75), rgb(0,19,26));--search-input-background:#1C2B33;--secondary-emphasized-button-stroke:rgb(69,153,255);--stepper-active:#F1F4F7;--stepper-inactive:#5D6C7B;--animation-ambient-default:cubic-bezier(0,0,1,1);--animation-ambient-max:cubic-bezier(0.6,0,0.7,0);--animation-ambient-min:cubic-bezier(0,0.1,0.4,1);--animation-duration-extra-fast-default-in:100ms;--animation-duration-extra-fast-default-out:100ms;--animation-duration-extra-fast-max-in:150ms;--animation-duration-extra-fast-max-out:150ms;--animation-duration-extra-fast-min-in:50ms;--animation-duration-extra-fast-min-out:50ms;--animation-duration-extra-slow-default-in:1000ms;--animation-duration-extra-slow-default-out:1000ms;--animation-duration-extra-slow-max-in:1200ms;--animation-duration-extra-slow-max-out:1200ms;--animation-duration-extra-slow-min-in:800ms;--animation-duration-extra-slow-min-out:800ms;--animation-duration-fast-default-in:250ms;--animation-duration-fast-default-out:250ms;--animation-duration-fast-max-in:300ms;--animation-duration-fast-max-out:300ms;--animation-duration-fast-min-in:200ms;--animation-duration-fast-min-out:200ms;--animation-duration-medium-default-in:500ms;--animation-duration-medium-default-out:500ms;--animation-duration-medium-max-in:600ms;--animation-duration-medium-max-out:600ms;--animation-duration-medium-min-in:400ms;--animation-duration-medium-min-out:400ms;--animation-duration-short-in:280ms;--animation-duration-short-out:200ms;--animation-duration-slow-default-in:2000ms;--animation-duration-slow-default-out:2000ms;--animation-duration-slow-max-in:2500ms;--animation-duration-slow-max-out:2500ms;--animation-duration-slow-min-in:1500ms;--animation-duration-slow-min-out:1500ms;--animation-elastic-default-in:cubic-bezier(0.25,1.4,0.5,1);--animation-elastic-default-out:cubic-bezier(0.45,0,0.75,-0.43);--animation-elastic-max:cubic-bezier(0.17,0.89,0.32,1.27);--animation-elastic-min:cubic-bezier(0,1.2,0.4,1);--animation-organic-default:cubic-bezier(0.6,0,0.1,1);--animation-organic-max-in:cubic-bezier(0.9,0,0.1,1);--animation-organic-max-out:cubic-bezier(0.8,0,0.64,1);--animation-organic-min:cubic-bezier(0.64,0,0.67,1);--animation-responsive-default:cubic-bezier(0.1,1,0.36,1);--animation-responsive-max:cubic-bezier(0,1,0.2,1);--animation-responsive-min:cubic-bezier(0.04,0,0,1);--badge-attention-background-color:#5D2E04;--badge-critical-background-color:#7B0210;--badge-informational-background-color:#042F97;--badge-inner-padding-horizontal:8px;--badge-neutral-background-color:#2B3D46;--badge-success-background-color:#09441F;--body-emphasized-font-stretch:100%;--body-font-stretch:100%;--border-unfocused:#3D4F5C;--button-large-corner-radius:22px;--button-large-height:44px;--button-large-icon-padding:16px;--button-large-inner-icon-spacing:4px;--button-large-padding-horizontal:20px;--button-medium-corner-radius:18px;--button-medium-height:36px;--button-medium-icon-padding:12px;--button-medium-inner-icon-spacing:3px;--button-medium-padding-horizontal:16px;--card-border-color:#3D4F5C;--card-border-width:1px;--chip-background:rgba(255, 255, 255, 0);--chip-background-selected:#CBD2D9;--display-font-family:Optimistic;--display-font-size:3rem;--display-font-stretch:100%;--display-font-weight:600;--display-line-height:1.1667;--fb-app-wordmark:#FFFFFF;--glimmer:#BFC7D0;--glimmer-max-opacity:0.12;--glimmer-min-opacity:0.03;--glimmer-on-white-background:#BFC7D0;--glimmer-on-white-background-max-opacity:0.12;--glimmer-on-white-background-min-opacity:0.03;--gradient-opacity:1;--headline1-font-stretch:100%;--headline2-font-stretch:100%;--headline3-font-stretch:100%;--list-border-color:#3D4F5C;--list-border-width:1px;--list-cell-margin-horizontal:0px;--list-cell-padding-vertical-with-no-addon:16px;--media-card-corner-radius:16px;--menu-list-cell-corner-radius:0px;--meta-emphasized-font-stretch:100%;--meta-font-stretch:100%;--nav-list-cell-corner-radius-dense:12px;--nav-list-cell-margin-horizontal:16px;--nav-list-cell-margin-horizontal-inner-addon:16px;--nav-list-cell-min-height-dense:44px;--nav-list-selected-accent:#2B3D46;--nav-list-selected-accent-text:#FFFFFF;--overlay-on-surface:rgba(0, 0, 0, 0.6);--primary-destructive-button-background:#D31130;--primary-destructive-button-icon:#FFFFFF;--primary-destructive-button-text:#FFFFFF;--primary-label-font-stretch:100%;--screen-header-height:0px;--secondary-destructive-button-background:rgba(21, 33, 39, 0.2);--secondary-destructive-button-icon:#FB7D87;--secondary-destructive-button-stroke:#FB7D87;--secondary-destructive-button-text:#FB7D87;--secondary-label-font-stretch:100%;--shadow-card:;--shadow-list:;--slider-handle:#0082FB;--slider-handle-disabled:#5D6C7B;--slider-track-filled:#0082FB;--slider-track-filled-disabled:#5D6C7B;--slider-track-unfilled:#5D6C7B;--slider-track-unfilled-disabled:#3D4F5C;--tertiary-label-font-stretch:100%;--text-badge-neutral-background:#2B3D46;--text-input-bar-background:rgba(21, 33, 39, 0.2);--text-input-label-top:18px;--text-input-min-height:60px;--tile-tonal-container-background-blue:#000844;--tile-tonal-container-background-elevated:#1C2B33;--tile-tonal-container-background-green:#001608;--tile-tonal-container-background-orange:#270701;--tile-tonal-container-background-purple:#18023E;--tile-tonal-container-background-rose:#2C010C;--tile-tonal-container-background-teal:#01141C;--tile-tonal-container-background-yellow:#220B02;--tile-tonal-icon-blue:#0082FB;--tile-tonal-icon-container-background-blue:#001E75;--tile-tonal-icon-container-background-elevated:#1C2B33;--tile-tonal-icon-container-background-green:#053018;--tile-tonal-icon-container-background-orange:#4E1608;--tile-tonal-icon-container-background-purple:#31067B;--tile-tonal-icon-container-background-rose:#58021E;--tile-tonal-icon-container-background-teal:#062D38;--tile-tonal-icon-container-background-yellow:#451E03;--tile-tonal-icon-green:#0B991F;--tile-tonal-icon-orange:#D66100;--tile-tonal-icon-purple:#856CFF;--tile-tonal-icon-rose:#F63368;--tile-tonal-icon-teal:#0C9293;--tile-tonal-icon-yellow:#B47700;--tile-tonal-text-blue:#0082FB;--tile-tonal-text-green:#0B991F;--tile-tonal-text-orange:#D66100;--tile-tonal-text-purple:#856CFF;--tile-tonal-text-rose:#F63368;--tile-tonal-text-teal:#0C9293;--tile-tonal-text-yellow:#B47700;--toast-text-web:#FFFFFF;--tooltip-padding-horizontal:16px;--tooltip-padding-vertical:16px;--ui-background:#0A1317;}</style><link type=\"text/css\" rel=\"stylesheet\" href=\"data:text/css; charset=utf-8;base64,LnV3N1g3NjIudXc3WDc2MntkaXNwbGF5Om5vbmV9\" data-bootloader-hash=\"5m+9xdB\" crossorigin=\"anonymous\" data-p=\":0\" data-c=\"1\" /><script id=\"envjson\" type=\"application/json\" nonce=\"p0roxv3n\">{\"useTrustedTypes\":false,\"isTrustedTypesReportOnly\":false,\"routing_namespace\":\"privacy_center\",\"ghlss\":\"s1pLX2\",\"compat_iframe_token\":\"AUV6o8nHZn9kgeQ7YlTaWvrVjl8\",\"clear_js_factory_after_used\":true,\"brsid\":\"7478941353118175553\"}</script><script src=\"data:application/x-javascript; charset=utf-8;base64,Oy8qRkJfUEtHX0RFTElNKi8KCnZhciBkYXRhRWxlbWVudD1kb2N1bWVudC5nZXRFbGVtZW50QnlJZCgiZW52anNvbiIpO2lmKGRhdGFFbGVtZW50IT1udWxsKXt2YXIgY29weVZhcmlhYmxlcz1mdW5jdGlvbihhKXtmb3IodmFyIGIgaW4gdmFyaWFibGVzKWFbYl09dmFyaWFibGVzW2JdfSx2YXJpYWJsZXM9SlNPTi5wYXJzZShkYXRhRWxlbWVudC50ZXh0Q29udGVudCk7d2luZG93LnJlcXVpcmVMYXp5P3dpbmRvdy5yZXF1aXJlTGF6eShbIkVudiJdLGNvcHlWYXJpYWJsZXMpOih3aW5kb3cuRW52PXdpbmRvdy5FbnZ8fHt9LGNvcHlWYXJpYWJsZXMod2luZG93LkVudikpfQovLyMgc291cmNlVVJMPWh0dHBzOi8vc3RhdGljLnh4LmZiY2RuLm5ldC9yc3JjLnBocC92NC95TC9yL2RiZ3JNc25EMThwLmpzCg==\" data-bootloader-hash=\"nxRKQO6\" crossorigin=\"anonymous\" data-p=\":0\" data-c=\"1\"></script><script src=\"data:application/x-javascript; charset=utf-8;base64,Oy8qRkJfUEtHX0RFTElNKi8KCl9fYW5ub3RhdG9yPWZ1bmN0aW9uKGEpe3JldHVybiBhfSxfX2Rfc3R1Yj1bXSxfX2Q9ZnVuY3Rpb24oYSxiLGMsZCl7X19kX3N0dWIucHVzaChbYSxiLGMsZF0pfSxfX3JsX3N0dWI9W10scmVxdWlyZUxhenk9ZnVuY3Rpb24oKXtfX3JsX3N0dWIucHVzaChhcmd1bWVudHMpfTsKLy8jIHNvdXJjZVVSTD1odHRwczovL3N0YXRpYy54eC5mYmNkbi5uZXQvcnNyYy5waHAvdjQveTIvci9jTWRfU1pvdjlFaS5qcwo=\" data-bootloader-hash=\"W7CcKyc\" crossorigin=\"anonymous\" data-p=\":0\" data-c=\"1\"></script><script src=\"data:application/x-javascript; charset=utf-8;base64,Oy8qRkJfUEtHX0RFTElNKi8KCl9idGxkcj17fTsKLy8jIHNvdXJjZVVSTD1odHRwczovL3N0YXRpYy54eC5mYmNkbi5uZXQvcnNyYy5waHAvdjQveUgvci9aTGNLT2JOdU8xYi5qcwo=\" data-bootloader-hash=\"678jA6i\" crossorigin=\"anonymous\" data-p=\":0\" data-c=\"1\"></script><script id=\"__eqmc\" type=\"application/json\" nonce=\"p0roxv3n\">{\"u\":\"\\/ajax\\/qm\\/?__a=1&__user=0&__comet_req=57&jazoest=2990\",\"e\":\"7478941353118175553\",\"s\":\"XTermsController\",\"w\":0,\"f\":null,\"l\":\"AVqBctYzSNI\"}</script><script src=\"data:application/x-javascript; charset=utf-8;base64,Oy8qRkJfUEtHX0RFTElNKi8KCnZhciBkYXRhRWxlbWVudD1kb2N1bWVudC5nZXRFbGVtZW50QnlJZCgiX19lcW1jIik7aWYoZGF0YUVsZW1lbnQhPW51bGwpe3ZhciBwYXJhbXM9SlNPTi5wYXJzZShkYXRhRWxlbWVudC50ZXh0Q29udGVudCksdXJpPXBhcmFtcy51LGV2ZW50X2lkPXBhcmFtcy5lLHNjcmlwdF9wYXRoPXBhcmFtcy5zLHdlaWdodD1wYXJhbXMudyxmYl9kdHNnPXBhcmFtcy5mLGxzZD1wYXJhbXMubDtpZihuYXZpZ2F0b3Iuc2VuZEJlYWNvbil7dmFyIG1hcms9ZnVuY3Rpb24oYSxiKXt2YXIgYz1wJiZwLm5vdz9NYXRoLmZsb29yKHAubm93KCkpOk1hdGgubWF4KERhdGUubm93KCktc3RhcnQsMCk7YT0iZXZlbnRfaWQ9IitldmVudF9pZCsoYT09bnVsbD8iIjoiJm1hcmtlcl9pZD0iK2EpKyImbWFya2VyX3BhZ2VfdGltZT0iK2MrIiZzY3JpcHRfcGF0aD0iK2VuY29kZVVSSUNvbXBvbmVudChzY3JpcHRfcGF0aCkrIiZ3ZWlnaHQ9Iit3ZWlnaHQrKGI/IiZjbGllbnRfc3RhcnQ9MSI6IiIpKyhmYl9kdHNnPyImZmJfZHRzZz0iK2VuY29kZVVSSUNvbXBvbmVudChmYl9kdHNnKToiIikrKGxzZD8iJmxzZD0iK2VuY29kZVVSSUNvbXBvbmVudChsc2QpOiIiKTtjPW5ldyBCbG9iKFthXSx7dHlwZToiYXBwbGljYXRpb24veC13d3ctZm9ybS11cmxlbmNvZGVkIn0pO25hdmlnYXRvci5zZW5kQmVhY29uKHVyaSxjKX0sc3RhcnQ9RGF0ZS5ub3coKSxwPXdpbmRvdy5wZXJmb3JtYW5jZTttYXJrKHdlaWdodD4wPyJDbGllbnRTY3JpcHRTdGFydCI6bnVsbCwhMCk7d2VpZ2h0PjAmJndpbmRvdy5hZGRFdmVudExpc3RlbmVyKCJiZWZvcmV1bmxvYWQiLGZ1bmN0aW9uKCl7bWFyaygiQ2xpZW50VW5sb2FkIiwhMSl9KX19Ci8vIyBzb3VyY2VVUkw9aHR0cHM6Ly9zdGF0aWMueHguZmJjZG4ubmV0L3JzcmMucGhwL3Y0L3lvL3Ivck1qVVYzdGxnNS0uanMK\" data-bootloader-hash=\"gVT/FdM\" crossorigin=\"anonymous\" data-p=\":0\" data-c=\"1\"></script><script src=\"data:application/x-javascript; charset=utf-8;base64,Oy8qRkJfUEtHX0RFTElNKi8KCndpbmRvdy5vcGVuRGF0YWJhc2UmJih3aW5kb3cub3BlbkRhdGFiYXNlPWZ1bmN0aW9uKCl7dGhyb3cgbmV3IEVycm9yKCl9KTsKLy8jIHNvdXJjZVVSTD1odHRwczovL3N0YXRpYy54eC5mYmNkbi5uZXQvcnNyYy5waHAvdjQveVkvci85Qk95ZURLTC1kQy5qcwo=\" data-bootloader-hash=\"k6/EjOG\" crossorigin=\"anonymous\" data-p=\":0\" data-c=\"1\"></script><script src=\"data:application/x-javascript; charset=utf-8;base64,Oy8qRkJfUEtHX0RFTElNKi8KCihmdW5jdGlvbigpe2Z1bmN0aW9uIGEoYSl7cmV0dXJuIGEucGFyZW50RWxlbWVudCE9PWRvY3VtZW50LmJvZHkmJmEucGFyZW50RWxlbWVudCE9PWRvY3VtZW50LmhlYWR9ZnVuY3Rpb24gYihhKXtyZXR1cm4gYS5ub2RlTmFtZT09PSJTQ1JJUFQifHxhLm5vZGVOYW1lPT09IkxJTksiJiYoKGE9YyhhKSk9PW51bGw/dm9pZCAwOmEuYXN5bmNDc3MpfWZ1bmN0aW9uIGMoYSl7cmV0dXJuIShhLmRhdGFzZXQgaW5zdGFuY2VvZiB3aW5kb3cuRE9NU3RyaW5nTWFwKT9udWxsOmEuZGF0YXNldH1mdW5jdGlvbiBkKGQpe3ZhciBlO3RyeXtpZihkLm5vZGVUeXBlIT09Tm9kZS5FTEVNRU5UX05PREUpcmV0dXJufWNhdGNoKGEpe3JldHVybn1pZihhKGQpfHwhYihkKSlyZXR1cm47dmFyIGY9KGU9YyhkKSk9PW51bGw/dm9pZCAwOmUuYm9vdGxvYWRlckhhc2g7aWYoZiE9bnVsbCYmZiE9PSIiKXt2YXIgZz1udWxsLGg9ZnVuY3Rpb24oKXt3aW5kb3cuX2J0bGRyW2ZdPTEsZz09bnVsbD92b2lkIDA6ZygpfTtnPWZ1bmN0aW9uKCl7ZC5yZW1vdmVFdmVudExpc3RlbmVyKCJsb2FkIixoKSxkLnJlbW92ZUV2ZW50TGlzdGVuZXIoImVycm9yIixoKX07ZC5hZGRFdmVudExpc3RlbmVyKCJsb2FkIixoKTtkLmFkZEV2ZW50TGlzdGVuZXIoImVycm9yIixoKX19QXJyYXkuZnJvbShkb2N1bWVudC5xdWVyeVNlbGVjdG9yQWxsKCdzY3JpcHQsbGlua1tkYXRhLWFzeW5jLWNzcz0iMSJdJykpLmZvckVhY2goZnVuY3Rpb24oYSl7cmV0dXJuIGQoYSl9KTt2YXIgZT1uZXcgTXV0YXRpb25PYnNlcnZlcihmdW5jdGlvbihhLGIpe2EuZm9yRWFjaChmdW5jdGlvbihhKXthLnR5cGU9PT0iY2hpbGRMaXN0IiYmQXJyYXkuZnJvbShhLmFkZGVkTm9kZXMpLmZvckVhY2goZnVuY3Rpb24oYSl7ZChhKX0pfSl9KTtlLm9ic2VydmUoZG9jdW1lbnQuZ2V0RWxlbWVudHNCeVRhZ05hbWUoImh0bWwiKVswXSx7YXR0cmlidXRlczohMSxjaGlsZExpc3Q6ITAsc3VidHJlZTohMH0pfSkoKTsKLy8jIHNvdXJjZVVSTD1odHRwczovL3N0YXRpYy54eC5mYmNkbi5uZXQvcnNyYy5waHAvdjQveXYvci90c3FQMUJXR09qYy5qcwo=\" data-bootloader-hash=\"YTRL02s\" crossorigin=\"anonymous\" data-p=\":0\" data-c=\"1\"></script><script type=\"application/json\"  data-content-len=\"82\" data-sjs>{\"require\":[[\"qplTimingsServerJS\",null,null,[\"7478941353118175553\",\"htmlStart\"]]]}</script>\n",
            "\n",
            "<link type=\"text/css\" rel=\"stylesheet\" href=\"https://static.xx.fbcdn.net/rsrc.php/v5/yN/l/0,cross/VWkvpOtXI2xoXnggUap6wYcyf8QhNEWE-MbVu6J6TSgCzupAm9R8u1G.css\" data-bootloader-hash=\"HPyauA+\" crossorigin=\"anonymous\" data-p=\":27,17,147,148,149\" data-c=\"1\" />\n",
            "<link rel=\"preload\" href=\"https://static.xx.fbcdn.net/rsrc.php/v4/yz/r/rsZrCi9zMpv.js\" as=\"script\" crossorigin=\"anonymous\" nonce=\"p0roxv3n\" /><script src=\"https://static.xx.fbcdn.net/rsrc.php/v4/yz/r/rsZrCi9zMpv.js\" data-bootloader-hash=\"680GOIE\" async=\"1\" crossorigin=\"anonymous\" data-p=\":1\" data-c=\"1\"></script>\n",
            "<link rel=\"preload\" href=\"https://static.xx.fbcdn.net/rsrc.php/v4ijpN4/yt/l/en_US/UnDFSoGMNr7ilF8YYE4Cmm6kQB7ugSHnYFAlefbcn09VPqfPPnjlzdokgsDFnzgI0hNz9yJps83EoTADLj5KeTcDntlpB0mK9mMxb8Fzdqq6HyQwa_lu6DQ7iJSBDILY-sOQfAZHIUI4oEI2iLMeESsPfhIQ9Kn9DnW6x.js\" as=\"script\" crossorigin=\"anonymous\" nonce=\"p0roxv3n\" /><script src=\"https://static.xx.fbcdn.net/rsrc.php/v4ijpN4/yt/l/en_US/UnDFSoGMNr7ilF8YYE4Cmm6kQB7ugSHnYFAlefbcn09VPqfPPnjlzdokgsDFnzgI0hNz9yJps83EoTADLj5KeTcDntlpB0mK9mMxb8Fzdqq6HyQwa_lu6DQ7iJSBDILY-sOQfAZHIUI4oEI2iLMeESsPfhIQ9Kn9DnW6x.js\" data-bootloader-hash=\"uqrwJVh\" async=\"1\" crossorigin=\"anonymous\" data-p=\":22,2,28,24,54,5,6,77,3,310,30,21,25,423,69\" data-c=\"1\"></script>\n",
            "<link rel=\"preload\" href=\"https://static.xx.fbcdn.net/rsrc.php/v4ijN94/yU/l/en_US/_c4QCQw2aUXNE3ixyI7JGcpfkgwzYrAWdVV_pE9JVkTTFAzTHdS1LB1Q0ivcy0XxRyLu5Uwoz7C5wQ5bpg3EruuKr6IpMqi49s4ZguU19a5eP4k2phfwVKes2tBUnk9tJqu9wp-JzJgI7ky6-fQnt84YjiVJnOOOIqfau-iQ_EKWQHt0oLUy3U7f3Y-ui2DkP-wt_7eu8nxMU8OUvNbMgOb16KRVHjYyQO3GNWeS9aXmWqL0sd1Rdzuzi16ygF96L2CjyB8x18xxl0BYkcGhPx2jLwm6Plp55HfXW__mMzi95_wmB-51zzTWWlgralT2pEQn4HVER6.js\" as=\"script\" crossorigin=\"anonymous\" nonce=\"p0roxv3n\" /><script src=\"https://static.xx.fbcdn.net/rsrc.php/v4ijN94/yU/l/en_US/_c4QCQw2aUXNE3ixyI7JGcpfkgwzYrAWdVV_pE9JVkTTFAzTHdS1LB1Q0ivcy0XxRyLu5Uwoz7C5wQ5bpg3EruuKr6IpMqi49s4ZguU19a5eP4k2phfwVKes2tBUnk9tJqu9wp-JzJgI7ky6-fQnt84YjiVJnOOOIqfau-iQ_EKWQHt0oLUy3U7f3Y-ui2DkP-wt_7eu8nxMU8OUvNbMgOb16KRVHjYyQO3GNWeS9aXmWqL0sd1Rdzuzi16ygF96L2CjyB8x18xxl0BYkcGhPx2jLwm6Plp55HfXW__mMzi95_wmB-51zzTWWlgralT2pEQn4HVER6.js\" data-bootloader-hash=\"gwMFXud\" async=\"1\" crossorigin=\"anonymous\" data-p=\":8,33,79,4,276,10,26,155,178,74,181,349,150,284,472,9,161,84,532,256,7,23,87,15,20,11,12,88,29,86\" data-c=\"1\"></script>\n",
            "<link rel=\"preload\" href=\"https://static.xx.fbcdn.net/rsrc.php/v4iT364/yh/l/en_US/Bc-hCupoatO.js\" as=\"script\" crossorigin=\"anonymous\" nonce=\"p0roxv3n\" /><script src=\"https://static.xx.fbcdn.net/rsrc.php/v4iT364/yh/l/en_US/Bc-hCupoatO.js\" data-bootloader-hash=\"I2uML8d\" async=\"1\" crossorigin=\"anonymous\" data-p=\":32\" data-c=\"1\"></script>\n",
            "<link rel=\"preload\" href=\"https://static.xx.fbcdn.net/rsrc.php/v4/yR/r/CtFZSKpBmC1.js\" as=\"script\" crossorigin=\"anonymous\" nonce=\"p0roxv3n\" /><script src=\"https://static.xx.fbcdn.net/rsrc.php/v4/yR/r/CtFZSKpBmC1.js\" data-bootloader-hash=\"sq1nx8e\" async=\"1\" crossorigin=\"anonymous\" data-p=\":101\" data-c=\"1\"></script>\n",
            "<link rel=\"preload\" href=\"https://static.xx.fbcdn.net/rsrc.php/v4idBq4/yH/l/en_US/oXmCJpwo_yT.js\" as=\"script\" crossorigin=\"anonymous\" nonce=\"p0roxv3n\" /><script src=\"https://static.xx.fbcdn.net/rsrc.php/v4idBq4/yH/l/en_US/oXmCJpwo_yT.js\" data-bootloader-hash=\"QEO6FAI\" async=\"1\" crossorigin=\"anonymous\" data-p=\":18\" data-c=\"1\"></script>\n",
            "<link rel=\"preload\" href=\"https://static.xx.fbcdn.net/rsrc.php/v4i83W4/yG/l/en_US/sNZdKsxSrI_.js\" as=\"script\" crossorigin=\"anonymous\" nonce=\"p0roxv3n\" /><script src=\"https://static.xx.fbcdn.net/rsrc.php/v4i83W4/yG/l/en_US/sNZdKsxSrI_.js\" data-bootloader-hash=\"P3rbSKg\" async=\"1\" crossorigin=\"anonymous\" data-p=\":440\" data-c=\"1\"></script>\n",
            "<link rel=\"preload\" href=\"https://static.xx.fbcdn.net/rsrc.php/v4/yE/r/klUMCYUAX4f.js\" as=\"script\" crossorigin=\"anonymous\" nonce=\"p0roxv3n\" /><script src=\"https://static.xx.fbcdn.net/rsrc.php/v4/yE/r/klUMCYUAX4f.js\" data-bootloader-hash=\"8v+JZAo\" async=\"1\" crossorigin=\"anonymous\" data-p=\":254\" data-c=\"1\"></script>\n",
            "<link rel=\"preload\" href=\"https://static.xx.fbcdn.net/rsrc.php/v4/yN/r/Hl6_WiJQMVx.js\" as=\"script\" crossorigin=\"anonymous\" nonce=\"p0roxv3n\" /><script src=\"https://static.xx.fbcdn.net/rsrc.php/v4/yN/r/Hl6_WiJQMVx.js\" data-bootloader-hash=\"kpxHhCB\" async=\"1\" crossorigin=\"anonymous\" data-p=\":146\" data-c=\"1\"></script>\n",
            "\n",
            "\n",
            "<!--EF-->\n",
            "\n",
            "<title>Meta Terms of Service</title>\n",
            "<script type=\"application/json\"  data-content-len=\"20016\" data-sjs>{\"require\":[[\"HasteSupportData\",\"handle\",null,[{\"clpData\":{\"6476\":{\"r\":1000,\"s\":1},\"1744178\":{\"r\":1,\"s\":1},\"1744234\":{\"r\":1},\"1814852\":{\"r\":1},\"1828905\":{\"r\":1},\"1829320\":{\"r\":1},\"1829321\":{\"r\":1},\"1836368\":{\"r\":1,\"s\":1},\"1838142\":{\"r\":1,\"s\":1},\"1962341\":{\"r\":1,\"s\":1},\"1444\":{\"r\":1,\"s\":1},\"2686\":{\"r\":1,\"s\":1},\"1744552\":{\"r\":10000},\"301\":{\"r\":1,\"s\":1},\"1843988\":{\"r\":1},\"5835\":{\"r\":1},\"1837559\":{\"r\":1}},\"gkxData\":{\"5415\":{\"result\":false,\"hash\":null},\"7742\":{\"result\":false,\"hash\":null},\"8068\":{\"result\":false,\"hash\":null},\"8859\":{\"result\":false,\"hash\":null},\"8869\":{\"result\":false,\"hash\":null},\"9063\":{\"result\":false,\"hash\":null},\"20935\":{\"result\":true,\"hash\":null},\"20936\":{\"result\":true,\"hash\":null},\"196\":{\"result\":false,\"hash\":null},\"329\":{\"result\":false,\"hash\":null},\"417\":{\"result\":false,\"hash\":null},\"1093\":{\"result\":false,\"hash\":null},\"1154\":{\"result\":false,\"hash\":null},\"1514\":{\"result\":false,\"hash\":null},\"1534\":{\"result\":true,\"hash\":null},\"1624\":{\"result\":false,\"hash\":null},\"2160\":{\"result\":false,\"hash\":null},\"2641\":{\"result\":false,\"hash\":null},\"3485\":{\"result\":true,\"hash\":null},\"3819\":{\"result\":false,\"hash\":null},\"4008\":{\"result\":false,\"hash\":null},\"4064\":{\"result\":false,\"hash\":null},\"4161\":{\"result\":false,\"hash\":null},\"4252\":{\"result\":false,\"hash\":null},\"4341\":{\"result\":false,\"hash\":null},\"5196\":{\"result\":false,\"hash\":null},\"5247\":{\"result\":true,\"hash\":null},\"5258\":{\"result\":true,\"hash\":null},\"5303\":{\"result\":false,\"hash\":null},\"5607\":{\"result\":false,\"hash\":null},\"5679\":{\"result\":false,\"hash\":null},\"6375\":{\"result\":false,\"hash\":null},\"6796\":{\"result\":false,\"hash\":null},\"7024\":{\"result\":false,\"hash\":null},\"7604\":{\"result\":false,\"hash\":null},\"7686\":{\"result\":false,\"hash\":null},\"7687\":{\"result\":false,\"hash\":null},\"8029\":{\"result\":false,\"hash\":null},\"8049\":{\"result\":false,\"hash\":null},\"8059\":{\"result\":false,\"hash\":null},\"8460\":{\"result\":false,\"hash\":null},\"8570\":{\"result\":true,\"hash\":null},\"8708\":{\"result\":false,\"hash\":null},\"8821\":{\"result\":false,\"hash\":null},\"9389\":{\"result\":false,\"hash\":null},\"9861\":{\"result\":true,\"hash\":null},\"10182\":{\"result\":false,\"hash\":null},\"10211\":{\"result\":false,\"hash\":null},\"10233\":{\"result\":false,\"hash\":null},\"20836\":{\"result\":false,\"hash\":null},\"20921\":{\"result\":true,\"hash\":null},\"20922\":{\"result\":true,\"hash\":null},\"20923\":{\"result\":true,\"hash\":null},\"20924\":{\"result\":true,\"hash\":null},\"20925\":{\"result\":true,\"hash\":null},\"20926\":{\"result\":true,\"hash\":null},\"20942\":{\"result\":false,\"hash\":null},\"20979\":{\"result\":false,\"hash\":null},\"20980\":{\"result\":false,\"hash\":null},\"20981\":{\"result\":false,\"hash\":null},\"20982\":{\"result\":false,\"hash\":null},\"20983\":{\"result\":false,\"hash\":null},\"20984\":{\"result\":true,\"hash\":null},\"20985\":{\"result\":false,\"hash\":null},\"20987\":{\"result\":false,\"hash\":null},\"20988\":{\"result\":true,\"hash\":null},\"21003\":{\"result\":false,\"hash\":null},\"21004\":{\"result\":false,\"hash\":null},\"21005\":{\"result\":false,\"hash\":null},\"21043\":{\"result\":false,\"hash\":null},\"21050\":{\"result\":false,\"hash\":null},\"21051\":{\"result\":false,\"hash\":null},\"21053\":{\"result\":false,\"hash\":null},\"21054\":{\"result\":false,\"hash\":null},\"21055\":{\"result\":false,\"hash\":null},\"21056\":{\"result\":false,\"hash\":null},\"21057\":{\"result\":false,\"hash\":null},\"21058\":{\"result\":true,\"hash\":null},\"21063\":{\"result\":false,\"hash\":null},\"21069\":{\"result\":false,\"hash\":null},\"21071\":{\"result\":false,\"hash\":null},\"21072\":{\"result\":false,\"hash\":null},\"21075\":{\"result\":false,\"hash\":null},\"21089\":{\"result\":false,\"hash\":null},\"21095\":{\"result\":false,\"hash\":null},\"21106\":{\"result\":true,\"hash\":null},\"21107\":{\"result\":false,\"hash\":null},\"21117\":{\"result\":false,\"hash\":null},\"22681\":{\"result\":false,\"hash\":null},\"22792\":{\"result\":false,\"hash\":null},\"22803\":{\"result\":false,\"hash\":null},\"22826\":{\"result\":false,\"hash\":null},\"22875\":{\"result\":false,\"hash\":null},\"22876\":{\"result\":true,\"hash\":null},\"22877\":{\"result\":false,\"hash\":null},\"22968\":{\"result\":false,\"hash\":null},\"22979\":{\"result\":false,\"hash\":null},\"23406\":{\"result\":false,\"hash\":null},\"23415\":{\"result\":false,\"hash\":null},\"23433\":{\"result\":false,\"hash\":null},\"24215\":{\"result\":false,\"hash\":null},\"24263\":{\"result\":false,\"hash\":null},\"26340\":{\"result\":false,\"hash\":null},\"26341\":{\"result\":false,\"hash\":null},\"26342\":{\"result\":false,\"hash\":null},\"33056\":{\"result\":false,\"hash\":null},\"5279\":{\"result\":true,\"hash\":null},\"5608\":{\"result\":false,\"hash\":null},\"6275\":{\"result\":false,\"hash\":null},\"22787\":{\"result\":false,\"hash\":null},\"22795\":{\"result\":false,\"hash\":null},\"22802\":{\"result\":false,\"hash\":null},\"22809\":{\"result\":true,\"hash\":null},\"22823\":{\"result\":true,\"hash\":null},\"22874\":{\"result\":false,\"hash\":null},\"22879\":{\"result\":false,\"hash\":null},\"24329\":{\"result\":false,\"hash\":null},\"24330\":{\"result\":false,\"hash\":null},\"24381\":{\"result\":false,\"hash\":null},\"26335\":{\"result\":false,\"hash\":null},\"26336\":{\"result\":false,\"hash\":null},\"26337\":{\"result\":false,\"hash\":null},\"24\":{\"result\":true,\"hash\":null},\"773\":{\"result\":true,\"hash\":null},\"1782\":{\"result\":true,\"hash\":null},\"4229\":{\"result\":false,\"hash\":null},\"4969\":{\"result\":false,\"hash\":null},\"5620\":{\"result\":false,\"hash\":null},\"7379\":{\"result\":false,\"hash\":null},\"8611\":{\"result\":false,\"hash\":null},\"8980\":{\"result\":true,\"hash\":null},\"23874\":{\"result\":false,\"hash\":null},\"26216\":{\"result\":false,\"hash\":null},\"4737\":{\"result\":false,\"hash\":null},\"7170\":{\"result\":false,\"hash\":null},\"20864\":{\"result\":true,\"hash\":null},\"20865\":{\"result\":false,\"hash\":null},\"23413\":{\"result\":false,\"hash\":null},\"23414\":{\"result\":false,\"hash\":null},\"366\":{\"result\":false,\"hash\":null},\"3399\":{\"result\":false,\"hash\":null},\"4516\":{\"result\":false,\"hash\":null},\"10501\":{\"result\":false,\"hash\":null},\"20858\":{\"result\":false,\"hash\":null},\"20859\":{\"result\":false,\"hash\":null},\"20860\":{\"result\":false,\"hash\":null},\"20863\":{\"result\":false,\"hash\":null},\"1326\":{\"result\":false,\"hash\":null},\"2442\":{\"result\":false,\"hash\":null},\"25572\":{\"result\":false,\"hash\":null},\"20861\":{\"result\":false,\"hash\":null},\"4070\":{\"result\":false,\"hash\":null},\"23403\":{\"result\":false,\"hash\":null},\"23404\":{\"result\":false,\"hash\":null},\"1221\":{\"result\":false,\"hash\":null},\"25571\":{\"result\":false,\"hash\":null}},\"ixData\":{\"502062\":{\"sprited\":2,\"spi\":\"https:\\/\\/static.xx.fbcdn.net\\/rsrc.php\\/v4\\/yc\\/r\\/tyoHuP_teo8.png\",\"_spi\":\"https:\\/\\/static.xx.fbcdn.net\\/rsrc.php\\/v4\\/yc\\/r\\/tyoHuP_teo8.png\",\"w\":20,\"h\":20,\"p\":\"0 -409px\",\"sz\":\"auto\"},\"170708\":{\"sprited\":2,\"spi\":\"https:\\/\\/static.xx.fbcdn.net\\/rsrc.php\\/v4\\/yi\\/r\\/bV3vYyzeOkR.png\",\"_spi\":\"https:\\/\\/static.xx.fbcdn.net\\/rsrc.php\\/v4\\/yi\\/r\\/bV3vYyzeOkR.png\",\"w\":32,\"h\":32,\"p\":\"0 -99px\",\"sz\":\"auto\"},\"260231\":{\"sprited\":2,\"spi\":\"https:\\/\\/static.xx.fbcdn.net\\/rsrc.php\\/v4\\/yi\\/r\\/bV3vYyzeOkR.png\",\"_spi\":\"https:\\/\\/static.xx.fbcdn.net\\/rsrc.php\\/v4\\/yi\\/r\\/bV3vYyzeOkR.png\",\"w\":20,\"h\":20,\"p\":\"0 -132px\",\"sz\":\"auto\"},\"377678\":{\"sprited\":2,\"spi\":\"https:\\/\\/static.xx.fbcdn.net\\/rsrc.php\\/v4\\/yi\\/r\\/bV3vYyzeOkR.png\",\"_spi\":\"https:\\/\\/static.xx.fbcdn.net\\/rsrc.php\\/v4\\/yi\\/r\\/bV3vYyzeOkR.png\",\"w\":16,\"h\":16,\"p\":\"0 -153px\",\"sz\":\"auto\"},\"383968\":{\"sprited\":2,\"spi\":\"https:\\/\\/static.xx.fbcdn.net\\/rsrc.php\\/v4\\/yi\\/r\\/bV3vYyzeOkR.png\",\"_spi\":\"https:\\/\\/static.xx.fbcdn.net\\/rsrc.php\\/v4\\/yi\\/r\\/bV3vYyzeOkR.png\",\"w\":16,\"h\":16,\"p\":\"0 -170px\",\"sz\":\"auto\"},\"478231\":{\"sprited\":2,\"spi\":\"https:\\/\\/static.xx.fbcdn.net\\/rsrc.php\\/v4\\/yc\\/r\\/tyoHuP_teo8.png\",\"_spi\":\"https:\\/\\/static.xx.fbcdn.net\\/rsrc.php\\/v4\\/yc\\/r\\/tyoHuP_teo8.png\",\"w\":12,\"h\":12,\"p\":\"0 -1223px\",\"sz\":\"auto\"},\"478232\":{\"sprited\":2,\"spi\":\"https:\\/\\/static.xx.fbcdn.net\\/rsrc.php\\/v4\\/yc\\/r\\/tyoHuP_teo8.png\",\"_spi\":\"https:\\/\\/static.xx.fbcdn.net\\/rsrc.php\\/v4\\/yc\\/r\\/tyoHuP_teo8.png\",\"w\":16,\"h\":16,\"p\":\"0 -1053px\",\"sz\":\"auto\"},\"478233\":{\"sprited\":2,\"spi\":\"https:\\/\\/static.xx.fbcdn.net\\/rsrc.php\\/v4\\/yc\\/r\\/tyoHuP_teo8.png\",\"_spi\":\"https:\\/\\/static.xx.fbcdn.net\\/rsrc.php\\/v4\\/yc\\/r\\/tyoHuP_teo8.png\",\"w\":20,\"h\":20,\"p\":\"0 -724px\",\"sz\":\"auto\"},\"484388\":{\"sprited\":2,\"spi\":\"https:\\/\\/static.xx.fbcdn.net\\/rsrc.php\\/v4\\/yc\\/r\\/tyoHuP_teo8.png\",\"_spi\":\"https:\\/\\/static.xx.fbcdn.net\\/rsrc.php\\/v4\\/yc\\/r\\/tyoHuP_teo8.png\",\"w\":24,\"h\":24,\"p\":\"0 -175px\",\"sz\":\"auto\"},\"512647\":{\"sprited\":2,\"spi\":\"https:\\/\\/static.xx.fbcdn.net\\/rsrc.php\\/v4\\/yc\\/r\\/tyoHuP_teo8.png\",\"_spi\":\"https:\\/\\/static.xx.fbcdn.net\\/rsrc.php\\/v4\\/yc\\/r\\/tyoHuP_teo8.png\",\"w\":20,\"h\":20,\"p\":\"0 -367px\",\"sz\":\"auto\"},\"514454\":{\"sprited\":2,\"spi\":\"https:\\/\\/static.xx.fbcdn.net\\/rsrc.php\\/v4\\/yc\\/r\\/tyoHuP_teo8.png\",\"_spi\":\"https:\\/\\/static.xx.fbcdn.net\\/rsrc.php\\/v4\\/yc\\/r\\/tyoHuP_teo8.png\",\"w\":20,\"h\":20,\"p\":\"0 -388px\",\"sz\":\"auto\"},\"573182\":{\"sprited\":2,\"spi\":\"https:\\/\\/static.xx.fbcdn.net\\/rsrc.php\\/v4\\/yi\\/r\\/bV3vYyzeOkR.png\",\"_spi\":\"https:\\/\\/static.xx.fbcdn.net\\/rsrc.php\\/v4\\/yi\\/r\\/bV3vYyzeOkR.png\",\"w\":32,\"h\":32,\"p\":\"0 -66px\",\"sz\":\"auto\"},\"659239\":{\"sprited\":2,\"spi\":\"https:\\/\\/static.xx.fbcdn.net\\/rsrc.php\\/v4\\/yi\\/r\\/bV3vYyzeOkR.png\",\"_spi\":\"https:\\/\\/static.xx.fbcdn.net\\/rsrc.php\\/v4\\/yi\\/r\\/bV3vYyzeOkR.png\",\"w\":32,\"h\":32,\"p\":\"0 0\",\"sz\":\"auto\"},\"659252\":{\"sprited\":2,\"spi\":\"https:\\/\\/static.xx.fbcdn.net\\/rsrc.php\\/v4\\/yi\\/r\\/bV3vYyzeOkR.png\",\"_spi\":\"https:\\/\\/static.xx.fbcdn.net\\/rsrc.php\\/v4\\/yi\\/r\\/bV3vYyzeOkR.png\",\"w\":32,\"h\":32,\"p\":\"0 -33px\",\"sz\":\"auto\"},\"856481\":{\"sprited\":2,\"spi\":\"https:\\/\\/static.xx.fbcdn.net\\/rsrc.php\\/v4\\/yu\\/r\\/kh_iudYC4TJ.png\",\"_spi\":\"https:\\/\\/static.xx.fbcdn.net\\/rsrc.php\\/v4\\/yu\\/r\\/kh_iudYC4TJ.png\",\"w\":32,\"h\":32,\"p\":\"0 -26px\",\"sz\":\"auto\"},\"1876411\":{\"sprited\":0,\"uri\":\"https:\\/\\/static.xx.fbcdn.net\\/rsrc.php\\/v4\\/yd\\/r\\/3mD7kKai_7W.gif\",\"width\":12,\"height\":12},\"1876412\":{\"sprited\":0,\"uri\":\"https:\\/\\/static.xx.fbcdn.net\\/rsrc.php\\/v4\\/y1\\/r\\/mHADa0fT0mI.gif\",\"width\":16,\"height\":16},\"1876413\":{\"sprited\":0,\"uri\":\"https:\\/\\/static.xx.fbcdn.net\\/rsrc.php\\/v4\\/yV\\/r\\/ZY0eC865SgX.gif\",\"width\":20,\"height\":20},\"1876414\":{\"sprited\":0,\"uri\":\"https:\\/\\/static.xx.fbcdn.net\\/rsrc.php\\/v4\\/y8\\/r\\/M3mvaC7u8oH.gif\",\"width\":24,\"height\":24},\"1876415\":{\"sprited\":0,\"uri\":\"https:\\/\\/static.xx.fbcdn.net\\/rsrc.php\\/v4\\/yL\\/r\\/hVe2HmwMRpE.gif\",\"width\":32,\"height\":32},\"1876416\":{\"sprited\":0,\"uri\":\"https:\\/\\/static.xx.fbcdn.net\\/rsrc.php\\/v4\\/yC\\/r\\/yFaaylccZ5L.gif\",\"width\":48,\"height\":48},\"1876418\":{\"sprited\":0,\"uri\":\"https:\\/\\/static.xx.fbcdn.net\\/rsrc.php\\/v4\\/yk\\/r\\/96GJYGbUDCJ.gif\",\"width\":72,\"height\":72},\"1876419\":{\"sprited\":0,\"uri\":\"https:\\/\\/static.xx.fbcdn.net\\/rsrc.php\\/v4\\/yS\\/r\\/NiR8M1k4AVU.gif\",\"width\":12,\"height\":12},\"1876420\":{\"sprited\":0,\"uri\":\"https:\\/\\/static.xx.fbcdn.net\\/rsrc.php\\/v4\\/ym\\/r\\/FNERtXIk9xp.gif\",\"width\":16,\"height\":16},\"1876421\":{\"sprited\":0,\"uri\":\"https:\\/\\/static.xx.fbcdn.net\\/rsrc.php\\/v4\\/yJ\\/r\\/l2FWxc8ihQj.gif\",\"width\":20,\"height\":20},\"1876422\":{\"sprited\":0,\"uri\":\"https:\\/\\/static.xx.fbcdn.net\\/rsrc.php\\/v4\\/yo\\/r\\/Io_N1z4MXYh.gif\",\"width\":24,\"height\":24},\"1876423\":{\"sprited\":0,\"uri\":\"https:\\/\\/static.xx.fbcdn.net\\/rsrc.php\\/v4\\/yD\\/r\\/-1hifBvDgEQ.gif\",\"width\":32,\"height\":32},\"1876424\":{\"sprited\":0,\"uri\":\"https:\\/\\/static.xx.fbcdn.net\\/rsrc.php\\/v4\\/yG\\/r\\/RcIiVWWukEr.gif\",\"width\":48,\"height\":48},\"1876426\":{\"sprited\":0,\"uri\":\"https:\\/\\/static.xx.fbcdn.net\\/rsrc.php\\/v4\\/yP\\/r\\/9ISCYYcy94m.gif\",\"width\":72,\"height\":72},\"1876427\":{\"sprited\":0,\"uri\":\"https:\\/\\/static.xx.fbcdn.net\\/rsrc.php\\/v4\\/yU\\/r\\/MStXnCtsaSe.gif\",\"width\":12,\"height\":12},\"1876428\":{\"sprited\":0,\"uri\":\"https:\\/\\/static.xx.fbcdn.net\\/rsrc.php\\/v4\\/y6\\/r\\/dw2egiKdoVV.gif\",\"width\":16,\"height\":16},\"1876429\":{\"sprited\":0,\"uri\":\"https:\\/\\/static.xx.fbcdn.net\\/rsrc.php\\/v4\\/yA\\/r\\/1DbfjOftY0d.gif\",\"width\":20,\"height\":20},\"1876430\":{\"sprited\":0,\"uri\":\"https:\\/\\/static.xx.fbcdn.net\\/rsrc.php\\/v4\\/yi\\/r\\/2uPGz8a6lb6.gif\",\"width\":24,\"height\":24},\"1876431\":{\"sprited\":0,\"uri\":\"https:\\/\\/static.xx.fbcdn.net\\/rsrc.php\\/v4\\/yw\\/r\\/60r9oPEvxiL.gif\",\"width\":32,\"height\":32},\"1876432\":{\"sprited\":0,\"uri\":\"https:\\/\\/static.xx.fbcdn.net\\/rsrc.php\\/v4\\/yM\\/r\\/NlAFhiEx3a1.gif\",\"width\":48,\"height\":48},\"1876434\":{\"sprited\":0,\"uri\":\"https:\\/\\/static.xx.fbcdn.net\\/rsrc.php\\/v4\\/yx\\/r\\/uzrQzxgD_Bg.gif\",\"width\":72,\"height\":72},\"1876435\":{\"sprited\":0,\"uri\":\"https:\\/\\/static.xx.fbcdn.net\\/rsrc.php\\/v4\\/yM\\/r\\/TtXj9IXnkoK.gif\",\"width\":12,\"height\":12},\"1876436\":{\"sprited\":0,\"uri\":\"https:\\/\\/static.xx.fbcdn.net\\/rsrc.php\\/v4\\/yy\\/r\\/HNs8yq0QiXE.gif\",\"width\":16,\"height\":16},\"1876437\":{\"sprited\":0,\"uri\":\"https:\\/\\/static.xx.fbcdn.net\\/rsrc.php\\/v4\\/yT\\/r\\/ay_drQe6StD.gif\",\"width\":20,\"height\":20},\"1876438\":{\"sprited\":0,\"uri\":\"https:\\/\\/static.xx.fbcdn.net\\/rsrc.php\\/v4\\/y4\\/r\\/iACDMhAROS_.gif\",\"width\":24,\"height\":24},\"1876439\":{\"sprited\":0,\"uri\":\"https:\\/\\/static.xx.fbcdn.net\\/rsrc.php\\/v4\\/yy\\/r\\/WEhNL1y2zoZ.gif\",\"width\":32,\"height\":32},\"1876440\":{\"sprited\":0,\"uri\":\"https:\\/\\/static.xx.fbcdn.net\\/rsrc.php\\/v4\\/y-\\/r\\/mAeZkO4yhqj.gif\",\"width\":48,\"height\":48},\"1876442\":{\"sprited\":0,\"uri\":\"https:\\/\\/static.xx.fbcdn.net\\/rsrc.php\\/v4\\/yl\\/r\\/79uB7ciX8vY.gif\",\"width\":72,\"height\":72},\"1876443\":{\"sprited\":0,\"uri\":\"https:\\/\\/static.xx.fbcdn.net\\/rsrc.php\\/v4\\/yG\\/r\\/dzn6it4Fw3p.gif\",\"width\":12,\"height\":12},\"1876444\":{\"sprited\":0,\"uri\":\"https:\\/\\/static.xx.fbcdn.net\\/rsrc.php\\/v4\\/yc\\/r\\/wqjQpFb4tea.gif\",\"width\":16,\"height\":16},\"1876445\":{\"sprited\":0,\"uri\":\"https:\\/\\/static.xx.fbcdn.net\\/rsrc.php\\/v4\\/yk\\/r\\/yy3mR2PXKrn.gif\",\"width\":20,\"height\":20},\"1876446\":{\"sprited\":0,\"uri\":\"https:\\/\\/static.xx.fbcdn.net\\/rsrc.php\\/v4\\/yl\\/r\\/gTdm7zPKz-c.gif\",\"width\":24,\"height\":24},\"1876447\":{\"sprited\":0,\"uri\":\"https:\\/\\/static.xx.fbcdn.net\\/rsrc.php\\/v4\\/ym\\/r\\/kdaft251gQ_.gif\",\"width\":32,\"height\":32},\"1876448\":{\"sprited\":0,\"uri\":\"https:\\/\\/static.xx.fbcdn.net\\/rsrc.php\\/v4\\/yG\\/r\\/6-FTd4KBtOk.gif\",\"width\":48,\"height\":48},\"1876450\":{\"sprited\":0,\"uri\":\"https:\\/\\/static.xx.fbcdn.net\\/rsrc.php\\/v4\\/yq\\/r\\/Tks_lRPtYc-.gif\",\"width\":72,\"height\":72},\"1876451\":{\"sprited\":0,\"uri\":\"https:\\/\\/static.xx.fbcdn.net\\/rsrc.php\\/v4\\/yK\\/r\\/Bys0xcVibDa.gif\",\"width\":12,\"height\":12},\"1876452\":{\"sprited\":0,\"uri\":\"https:\\/\\/static.xx.fbcdn.net\\/rsrc.php\\/v4\\/yI\\/r\\/Wk0dcHGH6EG.gif\",\"width\":16,\"height\":16},\"1876453\":{\"sprited\":0,\"uri\":\"https:\\/\\/static.xx.fbcdn.net\\/rsrc.php\\/v4\\/ys\\/r\\/aOTs7vt2hEc.gif\",\"width\":20,\"height\":20},\"1876454\":{\"sprited\":0,\"uri\":\"https:\\/\\/static.xx.fbcdn.net\\/rsrc.php\\/v4\\/yh\\/r\\/wVjfNbGZ3CH.gif\",\"width\":24,\"height\":24},\"1876455\":{\"sprited\":0,\"uri\":\"https:\\/\\/static.xx.fbcdn.net\\/rsrc.php\\/v4\\/yw\\/r\\/oT6wM_vuQNQ.gif\",\"width\":32,\"height\":32},\"1876456\":{\"sprited\":0,\"uri\":\"https:\\/\\/static.xx.fbcdn.net\\/rsrc.php\\/v4\\/yp\\/r\\/ac61i44rSWK.gif\",\"width\":48,\"height\":48},\"1876458\":{\"sprited\":0,\"uri\":\"https:\\/\\/static.xx.fbcdn.net\\/rsrc.php\\/v4\\/yg\\/r\\/ZH27Vvjc9-u.gif\",\"width\":72,\"height\":72},\"1940508\":{\"sprited\":0,\"uri\":\"https:\\/\\/static.xx.fbcdn.net\\/rsrc.php\\/v4\\/y3\\/r\\/ycQ2OPoZwUA.gif\",\"width\":64,\"height\":64},\"1940509\":{\"sprited\":0,\"uri\":\"https:\\/\\/static.xx.fbcdn.net\\/rsrc.php\\/v4\\/yg\\/r\\/8kyIVWHZW-b.gif\",\"width\":64,\"height\":64},\"1940510\":{\"sprited\":0,\"uri\":\"https:\\/\\/static.xx.fbcdn.net\\/rsrc.php\\/v4\\/yK\\/r\\/8gPN8wBD9yB.gif\",\"width\":64,\"height\":64},\"1940511\":{\"sprited\":0,\"uri\":\"https:\\/\\/static.xx.fbcdn.net\\/rsrc.php\\/v4\\/yG\\/r\\/WtK_u51t3nM.gif\",\"width\":64,\"height\":64},\"1940512\":{\"sprited\":0,\"uri\":\"https:\\/\\/static.xx.fbcdn.net\\/rsrc.php\\/v4\\/yj\\/r\\/JYwEre3ewp7.gif\",\"width\":64,\"height\":64},\"1940513\":{\"sprited\":0,\"uri\":\"https:\\/\\/static.xx.fbcdn.net\\/rsrc.php\\/v4\\/yu\\/r\\/M2HDLLPAUWl.gif\",\"width\":64,\"height\":64},\"1954649\":{\"sprited\":2,\"spi\":\"https:\\/\\/static.xx.fbcdn.net\\/rsrc.php\\/v4\\/yu\\/r\\/kh_iudYC4TJ.png\",\"_spi\":\"https:\\/\\/static.xx.fbcdn.net\\/rsrc.php\\/v4\\/yu\\/r\\/kh_iudYC4TJ.png\",\"w\":188,\"h\":12,\"p\":\"0 0\",\"sz\":\"auto\"},\"1954651\":{\"sprited\":2,\"spi\":\"https:\\/\\/static.xx.fbcdn.net\\/rsrc.php\\/v4\\/yu\\/r\\/kh_iudYC4TJ.png\",\"_spi\":\"https:\\/\\/static.xx.fbcdn.net\\/rsrc.php\\/v4\\/yu\\/r\\/kh_iudYC4TJ.png\",\"w\":188,\"h\":12,\"p\":\"0 -13px\",\"sz\":\"auto\"},\"478237\":{\"sprited\":2,\"spi\":\"https:\\/\\/static.xx.fbcdn.net\\/rsrc.php\\/v4\\/yc\\/r\\/tyoHuP_teo8.png\",\"_spi\":\"https:\\/\\/static.xx.fbcdn.net\\/rsrc.php\\/v4\\/yc\\/r\\/tyoHuP_teo8.png\",\"w\":16,\"h\":16,\"p\":\"0 -1070px\",\"sz\":\"auto\"},\"484391\":{\"sprited\":2,\"spi\":\"https:\\/\\/static.xx.fbcdn.net\\/rsrc.php\\/v4\\/yc\\/r\\/tyoHuP_teo8.png\",\"_spi\":\"https:\\/\\/static.xx.fbcdn.net\\/rsrc.php\\/v4\\/yc\\/r\\/tyoHuP_teo8.png\",\"w\":24,\"h\":24,\"p\":\"0 -200px\",\"sz\":\"auto\"},\"484757\":{\"sprited\":2,\"spi\":\"https:\\/\\/static.xx.fbcdn.net\\/rsrc.php\\/v4\\/yc\\/r\\/tyoHuP_teo8.png\",\"_spi\":\"https:\\/\\/static.xx.fbcdn.net\\/rsrc.php\\/v4\\/yc\\/r\\/tyoHuP_teo8.png\",\"w\":20,\"h\":20,\"p\":\"0 -472px\",\"sz\":\"auto\"},\"492454\":{\"sprited\":2,\"spi\":\"https:\\/\\/static.xx.fbcdn.net\\/rsrc.php\\/v4\\/yc\\/r\\/tyoHuP_teo8.png\",\"_spi\":\"https:\\/\\/static.xx.fbcdn.net\\/rsrc.php\\/v4\\/yc\\/r\\/tyoHuP_teo8.png\",\"w\":20,\"h\":20,\"p\":\"0 -535px\",\"sz\":\"auto\"},\"492518\":{\"sprited\":2,\"spi\":\"https:\\/\\/static.xx.fbcdn.net\\/rsrc.php\\/v4\\/yc\\/r\\/tyoHuP_teo8.png\",\"_spi\":\"https:\\/\\/static.xx.fbcdn.net\\/rsrc.php\\/v4\\/yc\\/r\\/tyoHuP_teo8.png\",\"w\":20,\"h\":20,\"p\":\"0 -556px\",\"sz\":\"auto\"},\"492521\":{\"sprited\":2,\"spi\":\"https:\\/\\/static.xx.fbcdn.net\\/rsrc.php\\/v4\\/yc\\/r\\/tyoHuP_teo8.png\",\"_spi\":\"https:\\/\\/static.xx.fbcdn.net\\/rsrc.php\\/v4\\/yc\\/r\\/tyoHuP_teo8.png\",\"w\":24,\"h\":24,\"p\":\"0 -50px\",\"sz\":\"auto\"},\"492572\":{\"sprited\":2,\"spi\":\"https:\\/\\/static.xx.fbcdn.net\\/rsrc.php\\/v4\\/yc\\/r\\/tyoHuP_teo8.png\",\"_spi\":\"https:\\/\\/static.xx.fbcdn.net\\/rsrc.php\\/v4\\/yc\\/r\\/tyoHuP_teo8.png\",\"w\":20,\"h\":20,\"p\":\"0 -577px\",\"sz\":\"auto\"},\"492575\":{\"sprited\":2,\"spi\":\"https:\\/\\/static.xx.fbcdn.net\\/rsrc.php\\/v4\\/yc\\/r\\/tyoHuP_teo8.png\",\"_spi\":\"https:\\/\\/static.xx.fbcdn.net\\/rsrc.php\\/v4\\/yc\\/r\\/tyoHuP_teo8.png\",\"w\":24,\"h\":24,\"p\":\"0 -100px\",\"sz\":\"auto\"},\"505565\":{\"sprited\":2,\"spi\":\"https:\\/\\/static.xx.fbcdn.net\\/rsrc.php\\/v4\\/yc\\/r\\/tyoHuP_teo8.png\",\"_spi\":\"https:\\/\\/static.xx.fbcdn.net\\/rsrc.php\\/v4\\/yc\\/r\\/tyoHuP_teo8.png\",\"w\":20,\"h\":20,\"p\":\"0 -598px\",\"sz\":\"auto\"},\"545517\":{\"sprited\":2,\"spi\":\"https:\\/\\/static.xx.fbcdn.net\\/rsrc.php\\/v4\\/yc\\/r\\/tyoHuP_teo8.png\",\"_spi\":\"https:\\/\\/static.xx.fbcdn.net\\/rsrc.php\\/v4\\/yc\\/r\\/tyoHuP_teo8.png\",\"w\":20,\"h\":20,\"p\":\"0 -640px\",\"sz\":\"auto\"},\"621399\":{\"sprited\":2,\"spi\":\"https:\\/\\/static.xx.fbcdn.net\\/rsrc.php\\/v4\\/yc\\/r\\/tyoHuP_teo8.png\",\"_spi\":\"https:\\/\\/static.xx.fbcdn.net\\/rsrc.php\\/v4\\/yc\\/r\\/tyoHuP_teo8.png\",\"w\":20,\"h\":20,\"p\":\"0 -619px\",\"sz\":\"auto\"},\"659288\":{\"sprited\":2,\"spi\":\"https:\\/\\/static.xx.fbcdn.net\\/rsrc.php\\/v4\\/yc\\/r\\/tyoHuP_teo8.png\",\"_spi\":\"https:\\/\\/static.xx.fbcdn.net\\/rsrc.php\\/v4\\/yc\\/r\\/tyoHuP_teo8.png\",\"w\":20,\"h\":20,\"p\":\"0 -892px\",\"sz\":\"auto\"},\"1988479\":{\"sprited\":2,\"spi\":\"https:\\/\\/static.xx.fbcdn.net\\/rsrc.php\\/v4\\/yq\\/r\\/VTBW60R4Ab_.png\",\"_spi\":\"https:\\/\\/static.xx.fbcdn.net\\/rsrc.php\\/v4\\/yq\\/r\\/VTBW60R4Ab_.png\",\"w\":210,\"h\":12,\"p\":\"0 0\",\"sz\":\"auto\"},\"1988481\":{\"sprited\":2,\"spi\":\"https:\\/\\/static.xx.fbcdn.net\\/rsrc.php\\/v4\\/yq\\/r\\/VTBW60R4Ab_.png\",\"_spi\":\"https:\\/\\/static.xx.fbcdn.net\\/rsrc.php\\/v4\\/yq\\/r\\/VTBW60R4Ab_.png\",\"w\":210,\"h\":12,\"p\":\"0 -13px\",\"sz\":\"auto\"},\"498146\":{\"sprited\":2,\"spi\":\"https:\\/\\/static.xx.fbcdn.net\\/rsrc.php\\/v4\\/yc\\/r\\/tyoHuP_teo8.png\",\"_spi\":\"https:\\/\\/static.xx.fbcdn.net\\/rsrc.php\\/v4\\/yc\\/r\\/tyoHuP_teo8.png\",\"w\":20,\"h\":20,\"p\":\"0 -430px\",\"sz\":\"auto\"}},\"metaconfigData\":{\"73\":{\"value\":false},\"143\":{\"value\":false},\"179\":{\"value\":false},\"3\":{\"value\":false},\"61\":{\"value\":false}},\"qexData\":{\"104\":{\"r\":null},\"128\":{\"r\":null},\"344\":{\"r\":null},\"354\":{\"r\":null},\"388\":{\"r\":null},\"494\":{\"r\":false},\"751\":{\"r\":false},\"889\":{\"r\":false},\"1696\":{\"r\":null},\"1763\":{\"r\":false},\"13\":{\"r\":null},\"1492\":{\"r\":0},\"797\":{\"r\":false},\"1508\":{\"r\":false},\"1552\":{\"r\":false}},\"qplData\":{\"194\":{\"r\":1},\"685\":{\"r\":1},\"2410\":{\"r\":1},\"2702\":{\"r\":1},\"6204\":{\"r\":7},\"6702\":{\"r\":1},\"2242\":{\"r\":10000},\"2258\":{\"r\":1000000},\"2267\":{\"r\":10000},\"2268\":{\"r\":10000},\"2396\":{\"r\":10000},\"2408\":{\"r\":10000},\"4750\":{\"r\":1}},\"justknobxData\":{\"3323\":{\"r\":true},\"144\":{\"r\":true},\"450\":{\"r\":true},\"494\":{\"r\":true},\"674\":{\"r\":true},\"957\":{\"r\":false},\"1417\":{\"r\":true},\"1806\":{\"r\":true},\"1849\":{\"r\":true},\"2269\":{\"r\":true},\"2349\":{\"r\":false},\"2552\":{\"r\":false},\"2635\":{\"r\":true},\"2743\":{\"r\":true},\"3409\":{\"r\":true},\"3457\":{\"r\":true},\"3478\":{\"r\":true},\"138\":{\"r\":false},\"356\":{\"r\":true},\"432\":{\"r\":true},\"713\":{\"r\":true},\"3727\":{\"r\":true},\"55\":{\"r\":true},\"2233\":{\"r\":true}}}]]]}</script>\n",
            "</head><body class=\"_6s5d _71pn system-fonts--body\"><div id=\"mount_0_0_lE\"></div>\n",
            "<script type=\"application/json\"  data-content-len=\"53\" data-sjs>{\"require\":[[\"maybeDisableAnimations\",null,null,[]]]}</script>\n",
            "<script type=\"application/json\"  data-content-len=\"49\" data-sjs>{\"require\":[[\"replaceNativeTimer\",null,null,[]]]}</script>\n",
            "<script type=\"application/json\"  data-content-len=\"60\" data-sjs>{\"require\":[[\"bootstrapWebSession\",null,null,[1741326729]]]}</script>\n",
            "<script type=\"application/json\"  data-content-len=\"192\" data-sjs>{\"require\":[[\"qplTagServerJS\",null,null,[[\"not_accepts_html\",\"aborting_preloading\",\"ssr_disabled_reason:fail_bad_preloaders\",\"comet_aa_coinflip:false\",\"should_use_bt_safe_js\",\"logged_out\"]]]]}</script>\n",
            "<script type=\"application/json\"  data-content-len=\"80\" data-sjs>{\"require\":[[\"qplTimingsServerJS\",null,null,[\"7478941353118175553\",\"tierOne\"]]]}</script>\n",
            "<script type=\"application/json\"  data-content-len=\"479\" data-sjs>{\"require\":[[\"CometSSRMergedContentInjector\",\"ssrInit\",null,[{\"enabled\":false,\"cavalry_get_lid\":\"7478941353118175553\",\"success_status\":\"success\",\"disabled_status\":\"fail_ssr_disabled\",\"bad_preloaders_status\":\"fail_bad_preloaders\",\"eid\":\"mount_0_0_lE\",\"should_ignore_static_id\":true,\"gks\":{\"comet_ssr_wait_for_dev\":false,\"mwp_ssr_enabled\":true,\"stop_render_at_splashscreen\":false,\"use_content_visibility_hidden\":false,\"comet_ssr_unhide_early\":false},\"is_in_crawler_mode\":false}]]]}</script>\n",
            "<script type=\"application/json\"  data-content-len=\"82\" data-sjs>{\"require\":[[\"JSScheduler\",\"makeSchedulerGlobalEntry\",null,[\"null\",false,false]]]}</script>\n",
            "<script type=\"application/json\"  data-content-len=\"105619\" data-sjs>{\"require\":[[\"ScheduledServerJS\",\"handle\",null,[{\"__bbox\":{\"define\":[[\"cr:310\",[\"RunWWW\"],{\"__rc\":[\"RunWWW\",null]},-1],[\"cr:1078\",[],{\"__rc\":[null,null]},-1],[\"cr:1080\",[\"unexpectedUseInComet\"],{\"__rc\":[\"unexpectedUseInComet\",null]},-1],[\"cr:1126\",[\"TimeSliceSham\"],{\"__rc\":[\"TimeSliceSham\",null]},-1],[\"cr:3725\",[\"clearTimeoutWWWOrMobile\"],{\"__rc\":[\"clearTimeoutWWWOrMobile\",null]},-1],[\"cr:4344\",[\"setTimeoutWWWOrMobile\"],{\"__rc\":[\"setTimeoutWWWOrMobile\",null]},-1],[\"cr:6640\",[],{\"__rc\":[null,null]},-1],[\"cr:7385\",[\"clearIntervalWWW\"],{\"__rc\":[\"clearIntervalWWW\",null]},-1],[\"cr:7386\",[\"clearTimeoutWWW\"],{\"__rc\":[\"clearTimeoutWWW\",null]},-1],[\"cr:7388\",[\"setIntervalWWW\"],{\"__rc\":[\"setIntervalWWW\",null]},-1],[\"cr:7389\",[\"setIntervalAcrossTransitionsWWW\"],{\"__rc\":[\"setIntervalAcrossTransitionsWWW\",null]},-1],[\"cr:7390\",[\"setTimeoutWWW\"],{\"__rc\":[\"setTimeoutWWW\",null]},-1],[\"cr:7391\",[\"setTimeoutAcrossTransitionsWWW\"],{\"__rc\":[\"setTimeoutAcrossTransitionsWWW\",null]},-1],[\"cr:8959\",[\"DTSG\"],{\"__rc\":[\"DTSG\",null]},-1],[\"cr:8960\",[\"DTSG_ASYNC\"],{\"__rc\":[\"DTSG_ASYNC\",null]},-1],[\"cr:696703\",[\"JSScheduler\"],{\"__rc\":[\"JSScheduler\",null]},-1],[\"cr:806696\",[\"clearTimeoutComet\"],{\"__rc\":[\"clearTimeoutComet\",null]},-1],[\"cr:807042\",[\"setTimeoutComet\"],{\"__rc\":[\"setTimeoutComet\",null]},-1],[\"cr:896461\",[\"setIntervalComet\"],{\"__rc\":[\"setIntervalComet\",null]},-1],[\"cr:896462\",[\"setIntervalComet\"],{\"__rc\":[\"setIntervalComet\",null]},-1],[\"cr:925100\",[\"RunComet\"],{\"__rc\":[\"RunComet\",null]},-1],[\"cr:986633\",[\"setTimeoutComet\"],{\"__rc\":[\"setTimeoutComet\",null]},-1],[\"cr:1003267\",[\"clearIntervalComet\"],{\"__rc\":[\"clearIntervalComet\",null]},-1],[\"cr:70\",[\"FBInteractionTracingDependencies\"],{\"__rc\":[\"FBInteractionTracingDependencies\",null]},-1],[\"cr:534\",[],{\"__rc\":[null,null]},-1],[\"cr:619\",[\"setTimeoutCometLoggingPriWWW\"],{\"__rc\":[\"setTimeoutCometLoggingPriWWW\",null]},-1],[\"cr:686\",[],{\"__rc\":[null,null]},-1],[\"cr:734\",[],{\"__rc\":[null,null]},-1],[\"cr:755\",[\"warningWWW\"],{\"__rc\":[\"warningWWW\",null]},-1],[\"cr:851\",[],{\"__rc\":[null,null]},-1],[\"cr:866\",[],{\"__rc\":[null,null]},-1],[\"cr:873\",[\"InteractionTracing\"],{\"__rc\":[\"InteractionTracing\",null]},-1],[\"cr:945\",[],{\"__rc\":[null,null]},-1],[\"cr:984\",[],{\"__rc\":[null,null]},-1],[\"cr:1033\",[\"FalcoLoggerTransportsDeferredForDisplay\"],{\"__rc\":[\"FalcoLoggerTransportsDeferredForDisplay\",null]},-1],[\"cr:1293\",[\"ReactDOM.classic\"],{\"__rc\":[\"ReactDOM.classic\",null]},-1],[\"cr:2099\",[],{\"__rc\":[null,null]},-1],[\"cr:2448\",[\"useHeroBootloadedComponent\"],{\"__rc\":[\"useHeroBootloadedComponent\",null]},-1],[\"cr:2602\",[],{\"__rc\":[null,null]},-1],[\"cr:2654\",[],{\"__rc\":[null,null]},-1],[\"cr:2701\",[],{\"__rc\":[null,null]},-1],[\"cr:2928\",[\"relay-runtime\"],{\"__rc\":[\"relay-runtime\",null]},-1],[\"cr:3404\",[\"createRelayQPLLogger\"],{\"__rc\":[\"createRelayQPLLogger\",null]},-1],[\"cr:4001\",[],{\"__rc\":[null,null]},-1],[\"cr:4345\",[],{\"__rc\":[null,null]},-1],[\"cr:4874\",[],{\"__rc\":[null,null]},-1],[\"cr:5473\",[],{\"__rc\":[null,null]},-1],[\"cr:5655\",[],{\"__rc\":[null,null]},-1],[\"cr:5906\",[],{\"__rc\":[null,null]},-1],[\"cr:7063\",[\"CometErrorBoundary.react\"],{\"__rc\":[\"CometErrorBoundary.react\",null]},-1],[\"cr:7162\",[\"ReactDOMCompatibilityLayer\"],{\"__rc\":[\"ReactDOMCompatibilityLayer\",null]},-1],[\"cr:7269\",[\"handleCometErrorCodeSideEffects\"],{\"__rc\":[\"handleCometErrorCodeSideEffects\",null]},-1],[\"cr:7299\",[],{\"__rc\":[null,null]},-1],[\"cr:7329\",[],{\"__rc\":[null,null]},-1],[\"cr:7383\",[\"BanzaiWWW\"],{\"__rc\":[\"BanzaiWWW\",null]},-1],[\"cr:7422\",[\"ImageDownloadTrackerWWW\"],{\"__rc\":[\"ImageDownloadTrackerWWW\",null]},-1],[\"cr:7438\",[],{\"__rc\":[null,null]},-1],[\"cr:7451\",[],{\"__rc\":[null,null]},-1],[\"cr:7581\",[\"handleCometReauthenticationSideEffects\"],{\"__rc\":[\"handleCometReauthenticationSideEffects\",null]},-1],[\"cr:7730\",[\"getFbtResult\"],{\"__rc\":[\"getFbtResult\",null]},-1],[\"cr:7941\",[],{\"__rc\":[null,null]},-1],[\"cr:8546\",[\"FDSCometTooltip.react\"],{\"__rc\":[\"FDSCometTooltip.react\",null]},-1],[\"cr:8907\",[\"HeroTracingCoreConfigWWW\"],{\"__rc\":[\"HeroTracingCoreConfigWWW\",null]},-1],[\"cr:8908\",[\"HeroTracingCoreDependenciesWWW\"],{\"__rc\":[\"HeroTracingCoreDependenciesWWW\",null]},-1],[\"cr:8958\",[\"FBJSON\"],{\"__rc\":[\"FBJSON\",null]},-1],[\"cr:9984\",[],{\"__rc\":[null,null]},-1],[\"cr:11054\",[],{\"__rc\":[null,null]},-1],[\"cr:11192\",[],{\"__rc\":[null,null]},-1],[\"cr:13142\",[],{\"__rc\":[null,null]},-1],[\"cr:719780\",[],{\"__rc\":[null,null]},-1],[\"cr:844180\",[\"TimeSpentImmediateActiveSecondsLoggerComet\"],{\"__rc\":[\"TimeSpentImmediateActiveSecondsLoggerComet\",null]},-1],[\"cr:955714\",[],{\"__rc\":[null,null]},-1],[\"cr:994756\",[\"BaseCometModal.react\"],{\"__rc\":[\"BaseCometModal.react\",null]},-1],[\"cr:1064332\",[],{\"__rc\":[null,null]},-1],[\"cr:1106516\",[],{\"__rc\":[null,null]},-1],[\"cr:1108857\",[],{\"__rc\":[null,null]},-1],[\"cr:1110430\",[],{\"__rc\":[null,null]},-1],[\"cr:1121434\",[],{\"__rc\":[null,null]},-1],[\"cr:1132918\",[],{\"__rc\":[null,null]},-1],[\"cr:1267207\",[],{\"__rc\":[null,null]},-1],[\"cr:1294158\",[\"React.classic\"],{\"__rc\":[\"React.classic\",null]},-1],[\"cr:1294159\",[\"ReactDOM.classic\"],{\"__rc\":[\"ReactDOM.classic\",null]},-1],[\"cr:1467370\",[\"CometRelayScheduler\"],{\"__rc\":[\"CometRelayScheduler\",null]},-1],[\"cr:1522191\",[\"CometLinkTrackingUtils.facebook\"],{\"__rc\":[\"CometLinkTrackingUtils.facebook\",null]},-1],[\"cr:1645510\",[],{\"__rc\":[null,null]},-1],[\"cr:1752405\",[\"QPLAddCometRequestHeaders\"],{\"__rc\":[\"QPLAddCometRequestHeaders\",null]},-1],[\"cr:1824473\",[],{\"__rc\":[null,null]},-1],[\"cr:1984081\",[],{\"__rc\":[null,null]},-1],[\"cr:69\",[\"CometRouterFocusRegion.react\"],{\"__rc\":[\"CometRouterFocusRegion.react\",null]},-1],[\"cr:273\",[\"FocusWithinHandlerStrictMode.react\"],{\"__rc\":[\"FocusWithinHandlerStrictMode.react\",null]},-1],[\"cr:805\",[\"CometDialogErrorRoot.react\"],{\"__rc\":[\"CometDialogErrorRoot.react\",null]},-1],[\"cr:1024\",[],{\"__rc\":[null,null]},-1],[\"cr:1618\",[],{\"__rc\":[null,null]},-1],[\"cr:2548\",[\"CometRelayEnvironmentWWW\"],{\"__rc\":[\"CometRelayEnvironmentWWW\",null]},-1],[\"cr:3376\",[\"cometAsyncFetchShared\"],{\"__rc\":[\"cometAsyncFetchShared\",null]},-1],[\"cr:4655\",[\"AbstractLinkLynxMode\"],{\"__rc\":[\"AbstractLinkLynxMode\",null]},-1],[\"cr:5621\",[\"CometLinkOldImpl.react\"],{\"__rc\":[\"CometLinkOldImpl.react\",null]},-1],[\"cr:5662\",[\"Event\"],{\"__rc\":[\"Event\",null]},-1],[\"cr:9378\",[],{\"__rc\":[null,null]},-1],[\"cr:9379\",[],{\"__rc\":[null,null]},-1],[\"cr:9610\",[],{\"__rc\":[null,null]},-1],[\"cr:11053\",[],{\"__rc\":[null,null]},-1],[\"cr:13682\",[],{\"__rc\":[null,null]},-1],[\"cr:881053\",[],{\"__rc\":[null,null]},-1],[\"cr:992073\",[],{\"__rc\":[null,null]},-1],[\"cr:1083116\",[],{\"__rc\":[null,null]},-1],[\"cr:1083117\",[\"recoverableViolation\"],{\"__rc\":[\"recoverableViolation\",null]},-1],[\"cr:1119068\",[],{\"__rc\":[null,null]},-1],[\"cr:1813330\",[],{\"__rc\":[null,null]},-1],[\"cr:1829844\",[],{\"__rc\":[null,null]},-1],[\"cr:1941981\",[],{\"__rc\":[null,null]},-1],[\"cr:1941982\",[],{\"__rc\":[null,null]},-1],[\"cr:2010754\",[],{\"__rc\":[null,null]},-1],[\"cr:2011405\",[\"CometDefaultKeyCommands\"],{\"__rc\":[\"CometDefaultKeyCommands\",null]},-1],[\"cr:2011406\",[],{\"__rc\":[null,null]},-1],[\"cr:1125\",[\"PCDialog_screenRef.facebook.graphql\"],{\"__rc\":[\"PCDialog_screenRef.facebook.graphql\",null]},-1],[\"cr:1410\",[\"FXAccountsCenterDYIMiniAYIDialogQuery$Parameters.facebook\"],{\"__rc\":[\"FXAccountsCenterDYIMiniAYIDialogQuery$Parameters.facebook\",null]},-1],[\"cr:1637\",[\"PCOpenSurveyQuery.facebook.graphql\"],{\"__rc\":[\"PCOpenSurveyQuery.facebook.graphql\",null]},-1],[\"cr:2306\",[\"NullState404FailedLoadingFB\"],{\"__rc\":[\"NullState404FailedLoadingFB\",null]},-1],[\"cr:2724\",[\"PCXIconButton_rendererRef.facebook.graphql\"],{\"__rc\":[\"PCXIconButton_rendererRef.facebook.graphql\",null]},-1],[\"cr:2938\",[\"PrivacyCenterBooleanPrivacyControlRootQuery$Parameters.facebook\"],{\"__rc\":[\"PrivacyCenterBooleanPrivacyControlRootQuery$Parameters.facebook\",null]},-1],[\"cr:3211\",[\"NullStateGeneralFB\"],{\"__rc\":[\"NullStateGeneralFB\",null]},-1],[\"cr:3231\",[\"LegalPolicyRootQuery.facebook.graphql\"],{\"__rc\":[\"LegalPolicyRootQuery.facebook.graphql\",null]},-1],[\"cr:3232\",[\"PrivacyCenterRoutedDialogStepperRootQuery$Parameters.facebook\"],{\"__rc\":[\"PrivacyCenterRoutedDialogStepperRootQuery$Parameters.facebook\",null]},-1],[\"cr:3458\",[\"PCOpenEntrypointAction_action.facebook.graphql\"],{\"__rc\":[\"PCOpenEntrypointAction_action.facebook.graphql\",null]},-1],[\"cr:3502\",[\"PrivacyCenterFBStoriesAudienceSelectorRootQuery$Parameters.facebook\"],{\"__rc\":[\"PrivacyCenterFBStoriesAudienceSelectorRootQuery$Parameters.facebook\",null]},-1],[\"cr:3517\",[\"PCXIcon_rendererRef.facebook.graphql\"],{\"__rc\":[\"PCXIcon_rendererRef.facebook.graphql\",null]},-1],[\"cr:3577\",[\"PrivacyCenterSelectorDialogRootQuery$Parameters.facebook\"],{\"__rc\":[\"PrivacyCenterSelectorDialogRootQuery$Parameters.facebook\",null]},-1],[\"cr:3587\",[\"NullStatePermissionsFB\"],{\"__rc\":[\"NullStatePermissionsFB\",null]},-1],[\"cr:3605\",[\"PrivacyCenterViewBlockedListRootQuery$Parameters.facebook\"],{\"__rc\":[\"PrivacyCenterViewBlockedListRootQuery$Parameters.facebook\",null]},-1],[\"cr:4138\",[\"PCInsightsSurfaceRootQuery$Parameters.facebook\"],{\"__rc\":[\"PCInsightsSurfaceRootQuery$Parameters.facebook\",null]},-1],[\"cr:5432\",[\"PCToastSurveyQuery.facebook.graphql\"],{\"__rc\":[\"PCToastSurveyQuery.facebook.graphql\",null]},-1],[\"cr:5437\",[\"PCXItemDefaultContainer_rendererRef.facebook.graphql\"],{\"__rc\":[\"PCXItemDefaultContainer_rendererRef.facebook.graphql\",null]},-1],[\"cr:5673\",[\"PCXSideRailUnitContainer_rendererRef.facebook.graphql\"],{\"__rc\":[\"PCXSideRailUnitContainer_rendererRef.facebook.graphql\",null]},-1],[\"cr:5674\",[\"PCXSideRail_rendererRef.facebook.graphql\"],{\"__rc\":[\"PCXSideRail_rendererRef.facebook.graphql\",null]},-1],[\"cr:5677\",[\"PCXBrandAsset_rendererRef.facebook.graphql\"],{\"__rc\":[\"PCXBrandAsset_rendererRef.facebook.graphql\",null]},-1],[\"cr:5678\",[\"PCXNavbarLeftAddon_rendererRef.facebook.graphql\"],{\"__rc\":[\"PCXNavbarLeftAddon_rendererRef.facebook.graphql\",null]},-1],[\"cr:5679\",[\"PCXNavbarRightAddon_rendererRef.facebook.graphql\"],{\"__rc\":[\"PCXNavbarRightAddon_rendererRef.facebook.graphql\",null]},-1],[\"cr:5680\",[\"PCXNavbar_rendererRef.facebook.graphql\"],{\"__rc\":[\"PCXNavbar_rendererRef.facebook.graphql\",null]},-1],[\"cr:5682\",[\"PCXScreen_rendererRef.facebook.graphql\"],{\"__rc\":[\"PCXScreen_rendererRef.facebook.graphql\",null]},-1],[\"cr:5683\",[\"PCXUnitDefaultContainer_rendererRef.facebook.graphql\"],{\"__rc\":[\"PCXUnitDefaultContainer_rendererRef.facebook.graphql\",null]},-1],[\"cr:7663\",[\"ActorHovercardLegacy.react\"],{\"__rc\":[\"ActorHovercardLegacy.react\",null]},-1],[\"cr:8051\",[],{\"__rc\":[null,null]},-1],[\"cr:8065\",[],{\"__rc\":[null,null]},-1],[\"cr:10677\",[\"CometLoggedOutErrorRoot\"],{\"__rc\":[\"CometLoggedOutErrorRoot\",null]},-1],[\"cr:11277\",[\"PCDialog_dialogRef.facebook.graphql\"],{\"__rc\":[\"PCDialog_dialogRef.facebook.graphql\",null]},-1],[\"cr:11704\",[\"PCActionSpecPCOnly_action.facebook.graphql\"],{\"__rc\":[\"PCActionSpecPCOnly_action.facebook.graphql\",null]},-1],[\"cr:11705\",[\"PCActionSpecSinglePCOnlyAction_action.facebook.graphql\"],{\"__rc\":[\"PCActionSpecSinglePCOnlyAction_action.facebook.graphql\",null]},-1],[\"cr:11706\",[\"PCActionSpec_action.facebook.graphql\"],{\"__rc\":[\"PCActionSpec_action.facebook.graphql\",null]},-1],[\"cr:11739\",[\"XCSActionSpecSingleAction_action.facebook.graphql\"],{\"__rc\":[\"XCSActionSpecSingleAction_action.facebook.graphql\",null]},-1],[\"cr:11740\",[\"XCSActionSpec_action.facebook.graphql\"],{\"__rc\":[\"XCSActionSpec_action.facebook.graphql\",null]},-1],[\"cr:13698\",[\"CDSThemeConfigV1\"],{\"__rc\":[\"CDSThemeConfigV1\",null]},-1],[\"cr:3230\",[\"LegalPolicyRootQuery$Parameters.facebook\"],{\"__rc\":[\"LegalPolicyRootQuery$Parameters.facebook\",null]},-1],[\"CometPersistQueryParams\",[],{\"relative\":{},\"domain\":{}},6231],[\"GetAsyncParamsExtraData\",[],{\"extra_data\":{}},7511],[\"BootloaderConfig\",[],{\"deferBootloads\":false,\"jsRetries\":[200,500],\"jsRetryAbortNum\":2,\"jsRetryAbortTime\":5,\"silentDups\":true,\"timeout\":60000,\"tieredLoadingFromTier\":100,\"hypStep4\":true,\"phdOn\":false,\"phdSeparateBitmaps\":false,\"btCutoffIndex\":3357,\"fastPathForAlreadyRequired\":true,\"earlyRequireLazy\":false,\"enableTimeoutLoggingForNonComet\":false,\"deferLongTailManifest\":true,\"lazySoT\":false,\"translationRetries\":[200,500],\"translationRetryAbortNum\":3,\"translationRetryAbortTime\":50},329],[\"CSSLoaderConfig\",[],{\"timeout\":5000},619],[\"CurrentUserInitialData\",[],{\"ACCOUNT_ID\":\"0\",\"USER_ID\":\"0\",\"NAME\":\"\",\"SHORT_NAME\":null,\"IS_BUSINESS_PERSON_ACCOUNT\":false,\"HAS_SECONDARY_BUSINESS_PERSON\":false,\"IS_FACEBOOK_WORK_ACCOUNT\":false,\"IS_INSTAGRAM_BUSINESS_PERSON\":false,\"IS_MESSENGER_ONLY_USER\":false,\"IS_DEACTIVATED_ALLOWED_ON_MESSENGER\":false,\"IS_MESSENGER_CALL_GUEST_USER\":false,\"IS_WORK_MESSENGER_CALL_GUEST_USER\":false,\"IS_WORKROOMS_USER\":false,\"APP_ID\":\"2220391788200892\",\"IS_BUSINESS_DOMAIN\":false},270],[\"DTSGInitialData\",[],{},258],[\"LSD\",[],{\"token\":\"AVqBctYzSNI\"},323],[\"ServerNonce\",[],{\"ServerNonce\":\"Ie-vNpb6qviQHzzifFgl8N\"},141],[\"SiteData\",[],{\"server_revision\":1020679384,\"client_revision\":1020679384,\"push_phase\":\"C3\",\"pkg_cohort\":\"HYP:comet_plat_default_pkg\",\"haste_session\":\"20154.HYP:comet_plat_default_pkg.2.1...0\",\"pr\":1,\"manifest_base_uri\":\"https:\\/\\/static.xx.fbcdn.net\",\"manifest_origin\":null,\"manifest_version_prefix\":null,\"be_one_ahead\":true,\"is_rtl\":false,\"is_experimental_tier\":false,\"is_jit_warmed_up\":true,\"hsi\":\"7478941353118175553\",\"semr_host_bucket\":\"6\",\"bl_hash_version\":2,\"comet_env\":57,\"wbloks_env\":false,\"ef_page\":\"CometLegalPolicyRoute\",\"compose_bootloads\":false,\"spin\":4,\"__spin_r\":1020679384,\"__spin_b\":\"trunk\",\"__spin_t\":1741326729,\"vip\":\"157.240.11.35\"},317],[\"SprinkleConfig\",[],{\"param_name\":\"jazoest\",\"version\":2,\"should_randomize\":false},2111],[\"PromiseUsePolyfillSetImmediateGK\",[],{\"www_always_use_polyfill_setimmediate\":false},2190],[\"JSErrorLoggingConfig\",[],{\"appId\":2220391788200892,\"extra\":[],\"reportInterval\":50,\"sampleWeight\":null,\"sampleWeightKey\":\"__jssesw\",\"projectBlocklist\":[]},2776],[\"ImmediateImplementationExperiments\",[],{\"prefer_message_channel\":true},3419],[\"DTSGInitData\",[],{\"token\":\"\",\"async_get_token\":\"\"},3515],[\"UriNeedRawQuerySVConfig\",[],{\"uris\":[\"dms.netmng.com\",\"doubleclick.net\",\"r.msn.com\",\"watchit.sky.com\",\"graphite.instagram.com\",\"www.kfc.co.th\",\"learn.pantheon.io\",\"www.landmarkshops.in\",\"www.ncl.com\",\"s0.wp.com\",\"www.tatacliq.com\",\"bs.serving-sys.com\",\"kohls.com\",\"lazada.co.th\",\"xg4ken.com\",\"technopark.ru\",\"officedepot.com.mx\",\"bestbuy.com.mx\",\"booking.com\",\"nibio.no\",\"myworkdayjobs.com\",\"united-united.com\",\"gcc.gnu.org\"]},3871],[\"WebConnectionClassServerGuess\",[],{\"connectionClass\":\"EXCELLENT\"},4705],[\"BootloaderEndpointConfig\",[],{\"debugNoBatching\":false,\"maxBatchSize\":-1,\"endpointURI\":\"https:\\/\\/www.facebook.com\\/ajax\\/bootloader-endpoint\\/\"},5094],[\"IntlCurrentLocale\",[],{\"code\":\"en_US\"},5954],[\"TransportSelectingClientContextualConfig\",[],{\"rawConfig\":\"{\\\"name\\\":\\\"rti\\/web_rs_transport_selecting_client\\\",\\\"cctype\\\":\\\"dense\\\",\\\"version\\\":1,\\\"policy_id\\\":\\\"static\\\",\\\"sample_rate\\\":1000,\\\"contexts\\\":[{\\\"name\\\":\\\"method\\\",\\\"type\\\":\\\"STRING\\\",\\\"callsite\\\":true,\\\"buckets\\\":[{\\\"name\\\":\\\"rollout_group_1\\\",\\\"strategy\\\":\\\"in\\\",\\\"values\\\":[\\\"FBGQLS:FEEDBACK_LIKE_SUBSCRIBE\\\",\\\"Falco\\\",\\\"FBLQ:comet_notifications_live_query_experimental\\\"]},{\\\"name\\\":\\\"rollout_group_6\\\",\\\"strategy\\\":\\\"in\\\",\\\"values\\\":[\\\"FBGQLS:COMMENT_CREATE_SUBSCRIBE\\\",\\\"FBGQLS:COMMENT_LIKE_SUBSCRIBE\\\",\\\"FBGQLS:FEEDBACK_COMMENT_PERMISSION_TOGGLE_SUBSCRIBE\\\",\\\"FBGQLS:FEEDBACK_TYPING_SUBSCRIBE\\\"]},{\\\"name\\\":\\\"rollout_group_4\\\",\\\"strategy\\\":\\\"regex\\\",\\\"values\\\":[\\\"FBGQLS:.*\\\"]},{\\\"name\\\":\\\"rollout_group_3\\\",\\\"strategy\\\":\\\"regex\\\",\\\"values\\\":[\\\"FBLQ:.*\\\"]},{\\\"name\\\":\\\"skywalker\\\",\\\"strategy\\\":\\\"in\\\",\\\"values\\\":[\\\"SKY:test_topic\\\",\\\"live\\/api\\/copyright\\\",\\\"intern_notify\\\",\\\"locplat\\/ttm\\\",\\\"rti_widget_dashboard\\\",\\\"srt\\/user_metrics_counter\\\",\\\"media_manager_instagram_composer_create_update\\\",\\\"cubism_annotations\\/fleet_health\\\",\\\"srt\\/notifications\\\",\\\"ads\\/reporting\\/snapshot\\\",\\\"unidash\\/widget\\\",\\\"cubism_annotations\\\",\\\"ads\\/reporting\\/export\\\",\\\"pubx\\/notification\\/update\\\",\\\"ads\\/powereditor\\/import\\\",\\\"lwi_async_create\\\",\\\"video_edit\\\",\\\"metric_graph_realtime\\\",\\\"vcc_video_posting_www\\\",\\\"cms\\/object_archive_copy_created\\\",\\\"cms\\/branch_updated\\\",\\\"cms\\/object_saved\\\",\\\"codeless_event_tracking\\\",\\\"srt\\/job_updated\\\",\\\"video_broadcast\\\",\\\"video\\/broadcast\\/error\\\",\\\"vcpanel\\/api\\\",\\\"lwi_everywhere_plugin\\\",\\\"commercial_break_v2\\\",\\\"advanced_analytics\\/query\\\",\\\"cubism_annotations\\/ads_mastercook_models\\\",\\\"gqls\\/comment_like_subscribe\\\",\\\"live\\/api\\/copyright\\\",\\\"shiba\\/mock_bot_error\\\",\\\"shiba\\/save_state\\\",\\\"video_list_publishing_progress_update\\\",\\\"assistant_wizard\\\",\\\"gizmo\\/manage\\\",\\\"collab\\/presentation\\/request\\\",\\\"snaptu\\/push_notif\\\"]},{\\\"name\\\":\\\"skywalker_bulletin\\\",\\\"strategy\\\":\\\"in\\\",\\\"values\\\":[\\\"www\\/sr\\/hot_reload\\\"]},{\\\"name\\\":\\\"rollout_group_5\\\",\\\"strategy\\\":\\\"regex\\\",\\\"values\\\":[\\\"Collabri|RealtimeClientSync:.*\\\"]},{\\\"name\\\":\\\"default\\\",\\\"strategy\\\":\\\"catch_all\\\"}]}],\\\"outputs\\\":[{\\\"name\\\":\\\"group\\\",\\\"type\\\":\\\"STRING\\\"},{\\\"name\\\":\\\"dgwUpsampleMultiplier\\\",\\\"type\\\":\\\"FLOAT\\\"}],\\\"vector\\\":[\\\"group1\\\",\\\"0.01\\\",\\\"group6\\\",\\\"0.001\\\",\\\"group4\\\",\\\"1.0\\\",\\\"group3\\\",\\\"1.0\\\",\\\"skywalker\\\",\\\"1.0\\\",\\\"skywalker_bulletin\\\",\\\"1.0\\\",\\\"group5\\\",\\\"1.0\\\",\\\"default_group\\\",\\\"1.0\\\"],\\\"vectorDefaults\\\":[\\\"default_group\\\",\\\"1.0\\\"],\\\"timestamp\\\":1663366072}\"},5968],[\"CookiePrivacySandboxConfig\",[],{\"is_affected_by_samesite_lax\":false},7723],[\"CookieDomain\",[],{\"domain\":\"facebook.com\"},6421],[\"IntlVariationHoldout\",[],{\"disable_variation\":false},6533],[\"RtiWebRequestStreamClient\",[],{\"ThrottledMethods\":{},\"overrideHeaders\":{}},6639],[\"IntlNumberTypeProps\",[\"IntlCLDRNumberType05\"],{\"module\":{\"__m\":\"IntlCLDRNumberType05\"}},7027],[\"JSSelfProfilerTrackedInteractions\",[],{\"interactions\":[{\"action\":\"*\",\"tracePolicy\":\"*\"}]},6918],[\"ClickIDURLBlocklistSVConfig\",[],{\"block_list_url\":[\"https:\\/\\/www.youtube.com\\/watch?v=f1J38FlDKxo\",\"https:\\/\\/www.youtube.com\\/watch?v=6xt7nTuO85A\"]},7631],[\"CookieCoreConfig\",[],{\"alsfid\":{},\"c_user\":{\"t\":31536000},\"cppo\":{\"t\":86400},\"dpr\":{\"t\":604800},\"fbl_st\":{\"t\":31536000},\"hckd\":{},\"i_user\":{\"t\":31536000},\"locale\":{\"t\":604800},\"m_ls\":{\"t\":34560000},\"m_pixel_ratio\":{\"t\":604800},\"noscript\":{},\"presence\":{\"t\":2592000},\"sfau\":{},\"usida\":{},\"vpd\":{\"t\":5184000},\"wd\":{\"t\":604800},\"wl_cbv\":{\"t\":7776000},\"x-referer\":{},\"x-src\":{\"t\":1}},2104],[\"IntlPhonologicalRules\",[],{\"meta\":{\"\\/_B\\/\":\"([.,!?\\\\s]|^)\",\"\\/_E\\/\":\"([.,!?\\\\s]|$)\"},\"patterns\":{\"\\/\\u0001(.*)('|&#039;)s\\u0001(?:'|&#039;)s(.*)\\/\":\"\\u0001$1$2s\\u0001$3\",\"\\/_\\u0001([^\\u0001]*)\\u0001\\/\":\"javascript\"}},1496],[\"IntlViewerContext\",[],{\"GENDER\":3,\"regionalLocale\":null},772],[\"LinkshimHandlerConfig\",[],{\"supports_meta_referrer\":false,\"default_meta_referrer_policy\":\"default\",\"switched_meta_referrer_policy\":\"origin\",\"non_linkshim_lnfb_mode\":\"ie\",\"link_react_default_hash\":\"AT2lcBeavrnlUzudv2CuuCSmAMInIyvodF95MtRVGlHezl0NVXeXh1216jLNttH3li-awe4Ny_Xuo0IqASfV2yTqqhpJ2Xt1laT6DGg4ZlG8kfHHClPjy2sNpIXArrkMlxWZXZ9zktfFqXJS\",\"untrusted_link_default_hash\":\"AT2AfHCE4GutuzW8Pp4Jz8EqN-84ErPf1kHhZiYndEY-1VVhNypQ6oSJPNnOAqJqYOiGv7ZIm5kwYSvp2dkiaDps4ekcX3deIWHkClJGTuTVkUp05iDYMHGESNLljHXp8GYmkmg7b313kv4I\",\"linkshim_host\":\"l.facebook.com\",\"linkshim_path\":\"\\/l.php\",\"linkshim_enc_param\":\"h\",\"linkshim_url_param\":\"u\",\"use_rel_no_opener\":false,\"use_rel_no_referrer\":false,\"always_use_https\":false,\"onion_always_shim\":true,\"middle_click_requires_event\":false,\"www_safe_js_mode\":\"hover\",\"m_safe_js_mode\":null,\"ghl_param_link_shim\":false,\"click_ids\":[],\"is_linkshim_supported\":true,\"current_domain\":\"facebook.com\",\"blocklisted_domains\":[\"ad.doubleclick.net\",\"ads-encryption-url-example.com\",\"bs.serving-sys.com\",\"ad.atdmt.com\",\"adform.net\",\"ad13.adfarm1.adition.com\",\"ilovemyfreedoms.com\",\"secure.adnxs.com\"],\"is_mobile_device\":false},27],[\"NumberFormatConfig\",[],{\"decimalSeparator\":\".\",\"numberDelimiter\":\",\",\"minDigitsForThousandsSeparator\":4,\"standardDecimalPatternInfo\":{\"primaryGroupSize\":3,\"secondaryGroupSize\":3},\"numberingSystemData\":null},54],[\"RelayAPIConfigDefaults\",[],{\"accessToken\":\"\",\"actorID\":\"0\",\"customHeaders\":{},\"enableNetworkLogger\":false,\"enableVerboseNetworkLogger\":false,\"fetchTimeout\":30000,\"graphURI\":\"\\/api\\/graphql\\/\",\"retryDelays\":[1000,3000],\"useXController\":true,\"xhrEncoding\":null,\"subscriptionTopicURI\":null,\"withCredentials\":false,\"isProductionEndpoint\":false,\"workRequestTaggingProduct\":null,\"encryptionKeyParams\":null,\"graphBatchURI\":\"\\/api\\/graphqlbatch\\/\"},926],[\"UserAgentData\",[],{\"browserArchitecture\":\"32\",\"browserFullVersion\":null,\"browserMinorVersion\":null,\"browserName\":\"Unknown\",\"browserVersion\":null,\"deviceName\":\"Unknown\",\"engineName\":\"Unknown\",\"engineVersion\":null,\"platformArchitecture\":\"32\",\"platformName\":\"Unknown\",\"platformVersion\":null,\"platformFullVersion\":null},527],[\"ZeroCategoryHeader\",[],{},1127],[\"ZeroRewriteRules\",[],{\"rewrite_rules\":{},\"whitelist\":{\"\\/hr\\/r\":1,\"\\/hr\\/p\":1,\"\\/zero\\/unsupported_browser\\/\":1,\"\\/zero\\/policy\\/optin\":1,\"\\/zero\\/optin\\/write\\/\":1,\"\\/zero\\/optin\\/legal\\/\":1,\"\\/zero\\/optin\\/free\\/\":1,\"\\/about\\/privacy\\/\":1,\"\\/about\\/privacy\\/update\\/\":1,\"\\/privacy\\/explanation\\/\":1,\"\\/zero\\/toggle\\/welcome\\/\":1,\"\\/zero\\/toggle\\/nux\\/\":1,\"\\/zero\\/toggle\\/settings\\/\":1,\"\\/fup\\/interstitial\\/\":1,\"\\/work\\/landing\":1,\"\\/work\\/login\\/\":1,\"\\/work\\/email\\/\":1,\"\\/ai.php\":1,\"\\/js_dialog_resources\\/dialog_descriptions_android.json\":0,\"\\/connect\\/jsdialog\\/MPlatformAppInvitesJSDialog\\/\":0,\"\\/connect\\/jsdialog\\/MPlatformOAuthShimJSDialog\\/\":0,\"\\/connect\\/jsdialog\\/MPlatformLikeJSDialog\\/\":0,\"\\/qp\\/interstitial\\/\":1,\"\\/qp\\/action\\/redirect\\/\":1,\"\\/qp\\/action\\/close\\/\":1,\"\\/zero\\/support\\/ineligible\\/\":1,\"\\/zero_balance_redirect\\/\":1,\"\\/zero_balance_redirect\":1,\"\\/zero_balance_redirect\\/l\\/\":1,\"\\/l.php\":1,\"\\/lsr.php\":1,\"\\/ajax\\/dtsg\\/\":1,\"\\/checkpoint\\/block\\/\":1,\"\\/exitdsite\":1,\"\\/zero\\/balance\\/pixel\\/\":1,\"\\/zero\\/balance\\/\":1,\"\\/zero\\/balance\\/carrier_landing\\/\":1,\"\\/zero\\/flex\\/logging\\/\":1,\"\\/tr\":1,\"\\/tr\\/\":1,\"\\/sem_campaigns\\/sem_pixel_test\\/\":1,\"\\/bookmarks\\/flyout\\/body\\/\":1,\"\\/zero\\/subno\\/\":1,\"\\/confirmemail.php\":1,\"\\/policies\\/\":1,\"\\/mobile\\/internetdotorg\\/classifier\\/\":1,\"\\/zero\\/dogfooding\":1,\"\\/xti.php\":1,\"\\/zero\\/fblite\\/config\\/\":1,\"\\/hr\\/zsh\\/wc\\/\":1,\"\\/ajax\\/bootloader-endpoint\\/\":1,\"\\/mobile\\/zero\\/carrier_page\\/\":1,\"\\/mobile\\/zero\\/carrier_page\\/education_page\\/\":1,\"\\/mobile\\/zero\\/carrier_page\\/feature_switch\\/\":1,\"\\/mobile\\/zero\\/carrier_page\\/settings_page\\/\":1,\"\\/aloha_check_build\":1,\"\\/upsell\\/zbd\\/softnudge\\/\":1,\"\\/mobile\\/zero\\/af_transition\\/\":1,\"\\/mobile\\/zero\\/af_transition\\/action\\/\":1,\"\\/mobile\\/zero\\/freemium\\/\":1,\"\\/mobile\\/zero\\/freemium\\/redirect\\/\":1,\"\\/mobile\\/zero\\/freemium\\/zero_fup\\/\":1,\"\\/privacy\\/policy\\/\":1,\"\\/privacy\\/center\\/\":1,\"\\/data\\/manifest\\/\":1,\"\\/cmon\":1,\"\\/cmon\\/\":1,\"\\/4oh4.php\":1,\"\\/autologin.php\":1,\"\\/birthday_help.php\":1,\"\\/checkpoint\\/\":1,\"\\/contact-importer\\/\":1,\"\\/cr.php\":1,\"\\/legal\\/terms\\/\":1,\"\\/login.php\":1,\"\\/login\\/\":1,\"\\/mobile\\/account\\/\":1,\"\\/n\\/\":1,\"\\/remote_test_device\\/\":1,\"\\/upsell\\/buy\\/\":1,\"\\/upsell\\/buyconfirm\\/\":1,\"\\/upsell\\/buyresult\\/\":1,\"\\/upsell\\/promos\\/\":1,\"\\/upsell\\/continue\\/\":1,\"\\/upsell\\/h\\/promos\\/\":1,\"\\/upsell\\/loan\\/learnmore\\/\":1,\"\\/upsell\\/purchase\\/\":1,\"\\/upsell\\/promos\\/upgrade\\/\":1,\"\\/upsell\\/buy_redirect\\/\":1,\"\\/upsell\\/loan\\/buyconfirm\\/\":1,\"\\/upsell\\/loan\\/buy\\/\":1,\"\\/upsell\\/sms\\/\":1,\"\\/wap\\/a\\/channel\\/reconnect.php\":1,\"\\/wap\\/a\\/nux\\/wizard\\/nav.php\":1,\"\\/wap\\/appreg.php\":1,\"\\/wap\\/birthday_help.php\":1,\"\\/wap\\/c.php\":1,\"\\/wap\\/confirmemail.php\":1,\"\\/wap\\/cr.php\":1,\"\\/wap\\/login.php\":1,\"\\/wap\\/r.php\":1,\"\\/zero\\/datapolicy\":1,\"\\/a\\/timezone.php\":1,\"\\/a\\/bz\":1,\"\\/bz\\/reliability\":1,\"\\/r.php\":1,\"\\/mr\\/\":1,\"\\/reg\\/\":1,\"\\/registration\\/log\\/\":1,\"\\/terms\\/\":1,\"\\/f123\\/\":1,\"\\/expert\\/\":1,\"\\/experts\\/\":1,\"\\/terms\\/index.php\":1,\"\\/terms.php\":1,\"\\/srr\\/\":1,\"\\/msite\\/redirect\\/\":1,\"\\/fbs\\/pixel\\/\":1,\"\\/contactpoint\\/preconfirmation\\/\":1,\"\\/contactpoint\\/cliff\\/\":1,\"\\/contactpoint\\/confirm\\/submit\\/\":1,\"\\/contactpoint\\/confirmed\\/\":1,\"\\/contactpoint\\/login\\/\":1,\"\\/preconfirmation\\/contactpoint_change\\/\":1,\"\\/help\\/contact\\/\":1,\"\\/survey\\/\":1,\"\\/upsell\\/loyaltytopup\\/accept\\/\":1,\"\\/settings\\/\":1,\"\\/lite\\/\":1,\"\\/zero_status_update\\/\":1,\"\\/operator_store\\/\":1,\"\\/upsell\\/\":1,\"\\/wifiauth\\/login\\/\":1}},1478],[\"CookieCoreLoggingConfig\",[],{\"maximumIgnorableStallMs\":16.67,\"sampleRate\":9.7e-5,\"sampleRateClassic\":1.0e-10,\"sampleRateFastStale\":1.0e-8},3401],[\"FBDomainsSVConfig\",[],{\"domains\":{\"__map\":[[\"www.facebook.com\",1],[\"tfbnw.net\",1],[\"m.beta.facebook.com\",1],[\"touch.beta.facebook.com\",1],[\"www.dev.facebook.com\",1],[\"fb.me\",1],[\"s.fb.com\",1],[\"m.fbjs.facebook.com\",1],[\"facebook.com.es\",1],[\"www.fbjs.facebook.com\",1],[\"m.facebook.com\",1],[\"facebook.fr\",1],[\"fbsbx.com\",1],[\"embed.fbsbx.com\",1],[\"attachment.fbsbx.com\",1],[\"lookaside.fbsbx.com\",1],[\"web.facebook.com\",1],[\"fb.com\",1],[\"messenger.com\",1],[\"secure.facebook.com\",1],[\"secure.my-od.facebook.com\",1],[\"www.my-od.facebook.com\",1]]}},3828],[\"ClickIDDomainBlacklistSVConfig\",[],{\"domains\":[\"craigslist\",\"tfbnw.net\",\"canadiantire.ca\",\"o2.co.uk\",\"archive.org\",\"reddit.com\",\"redd.it\",\"gmail.com\",\"cvk.gov.ua\",\"electoralsearch.in\",\"yahoo.com\",\"cve.mitre.org\",\"usenix.org\",\"ky.gov\",\"voteohio.gov\",\"vote.pa.gov\",\"oversightboard.com\",\"wi.gov\",\"pbs.twimg.com\",\"media.discordapp.net\",\"vastadeal.com\",\"theaustralian.com.au\",\"alloygator.com\",\"elsmannimmobilien.de\",\"news.com.au\",\"dennisbonnen.com\",\"stoett.com\",\"investorhour.com\",\"perspectivasur.com\",\"bonnegueule.fr\",\"firstent.org\",\"twitpic.com\",\"kollosche.com.au\",\"nau.edu\",\"arcourts.gov\",\"lomberg.de\",\"network4.hu\",\"balloonrace.com\",\"awstrack.me\",\"ic3.gov\",\"sos.wyo.gov\",\"cnpq.br\",\"0.discoverapp.com\",\"apple.com\",\"apple.co\",\"applecard.apple\",\"services.apple\",\"appletvplus.com\",\"applepay.apple\",\"wallet.apple\",\"beatsbydre.com\",\"dinn.com.mx\",\"soriana.com\",\"facebook.sso.datasite.com\",\"fycextras.com\",\"rik.parlament.gov.rs\",\"elections.delaware.gov\",\"dge.sn\",\"facebook.co1.qualtrics.com\",\"instagram.qualtrics.com\"]},3829],[\"CometCustomKeyCommands\",[],{\"customCommands\":{},\"areSingleKeysDisabled\":null,\"modifiedKeyboardShortcutsPreference\":4},4521],[\"CometRelayConfig\",[],{\"gc_release_buffer_size\":50},4685],[\"TimeSpentWWWCometConfig\",[],{\"CONFIG\":{\"0_delay\":0,\"0_timeout\":8,\"delay\":1000,\"timeout\":64}},4748],[\"CometMaxEnqueuedToastsSitevarConfig\",[],{\"max\":2},4763],[\"QuickMarkersConfig\",[],{\"pageLoadEventId\":\"7478941353118175553\",\"pageLoadScriptPath\":\"XTermsController\",\"sampleWeight\":null},4953],[\"ServerTimeData\",[],{\"serverTime\":1741326729961,\"timeOfRequestStart\":1741326729927.3,\"timeOfResponseStart\":1741326729954.2},5943],[\"CometUrlTransformsConfig\",[],{\"should_remove_trailing_slash\":true},6589],[\"NewsRegulationErrorMessageData\",[],{\"availableErrorCodes\":[2216007,2216012,2216012],\"errorCodeToRegType\":{\"2216007\":\"c18\",\"2216012\":\"au00\"},\"learnMoreLinks\":{\"c18\":{\"regulated_user\":\"https:\\/\\/www.facebook.com\\/help\\/787040499275067\",\"user\":\"https:\\/\\/www.facebook.com\\/help\\/2579891418969617\"},\"au00\":{\"regulated_user\":\"https:\\/\\/www.facebook.com\\/help\\/787040499275067\",\"user\":\"https:\\/\\/www.facebook.com\\/help\\/2579891418969617\"},\"global_block\":{\"regulated_user\":\"https:\\/\\/www.facebook.com\\/help\\/787040499275067\",\"user\":\"https:\\/\\/www.facebook.com\\/help\\/2579891418969617\"}},\"learnMoreLink\":{\"regulated_user\":\"https:\\/\\/www.facebook.com\\/help\\/787040499275067\",\"user\":\"https:\\/\\/www.facebook.com\\/help\\/2579891418969617\"},\"appealLinks\":{\"c18\":\"https:\\/\\/www.facebook.com\\/help\\/contact\\/419859403337390\"}},7133],[\"DspFDSWebLegacyThemeUsage\",[],{\"light\":{\"accent\":\"#0866FF\",\"blue-link\":\"#0064D1\",\"fb-wordmark\":\"#0866FF\",\"filter-accent\":\"invert(19\\u0025) sepia(70\\u0025) saturate(5671\\u0025) hue-rotate(203deg) brightness(96\\u0025) contrast(101\\u0025)\",\"filter-primary-accent\":\"invert(27\\u0025) sepia(95\\u0025) saturate(3116\\u0025) hue-rotate(212deg) brightness(99\\u0025) contrast(105\\u0025)\",\"focus-ring-blue\":\"#0866FF\",\"hosted-view-selected-state\":\"#EBF5FF\",\"input-label-color-highlighted\":\"#0064D1\",\"primary-button-background\":\"#0866FF\",\"primary-deemphasized-button-background\":\"#EBF5FF\",\"primary-deemphasized-button-text\":\"#0064D1\",\"progress-ring-blue-background\":\"#0866FF33\",\"progress-ring-blue-foreground\":\"#0866FF\",\"text-highlight\":\"#0866FF33\",\"toggle-active-background\":\"#EBF5FF\",\"toggle-active-icon\":\"#0064D1\",\"toggle-active-text\":\"#0064D1\"},\"dark\":{\"accent\":\"#0866FF\",\"blue-link\":\"#5AA7FF\",\"filter-accent\":\"invert(74\\u0025) sepia(14\\u0025) saturate(7129\\u0025) hue-rotate(185deg) brightness(102\\u0025) contrast(101\\u0025)\",\"filter-primary-accent\":\"invert(27\\u0025) sepia(95\\u0025) saturate(3116\\u0025) hue-rotate(212deg) brightness(99\\u0025) contrast(105\\u0025)\",\"focus-ring-blue\":\"#1D85FC\",\"hosted-view-selected-state\":\"#1D85FC19\",\"input-label-color-highlighted\":\"#3E93F8\",\"primary-button-background\":\"#0866FF\",\"primary-deemphasized-button-background\":\"#1D85FC33\",\"primary-deemphasized-button-text\":\"#75B6FF\",\"progress-ring-blue-background\":\"#0866FF33\",\"progress-ring-blue-foreground\":\"#0866FF\",\"text-highlight\":\"#1D85FC72\",\"toggle-active-background\":\"#1D85FC\"}},7331],[\"CometRouterConfig\",[],{\"bulkRouteFetchBatchSize\":15},7542],[\"CometDarkModeSetting\",[],{\"initialGuessForDarkModeOnClient\":false,\"initialClientStateGuess\":false,\"initialSetting\":\"UNDECLARED\"},4414],[\"EmojiConfig\",[],{\"pixelRatio\":\"1\",\"schemaAuth\":\"https:\\/\\/static.xx.fbcdn.net\\/images\\/emoji.php\\/v9\",\"hasEmojiPickerSearch\":false},1421],[\"CLDRDateFormatConfig\",[],{\"supportedPHPFormatsKeys\":{\"D\":\"E\",\"D g:ia\":\"Ejm\",\"D M d\":\"MMMEd\",\"D M d, Y\":\"yMMMEd\",\"D M j\":\"MMMEd\",\"D M j, y\":\"yMMMEd\",\"D, M j\":\"MMMEd\",\"D, M j, Y\":\"yMMMEd\",\"F d\":\"MMMMd\",\"F d, Y\":\"date_long\",\"F j\":\"MMMMd\",\"F j, Y\":\"date_long\",\"F j, Y \\u0040 g:i A\":\"dateTime_long_short\",\"F j, Y g:i a\":\"dateTime_long_short\",\"F j, Y \\u0040 g:i:s A\":\"dateTime_long_medium\",\"F jS\":\"MMMMd\",\"F jS, g:ia\":\"dateTime_long_short\",\"F jS, Y\":\"date_long\",\"F Y\":\"yMMMM\",\"g A\":\"j\",\"G:i\":\"time_short\",\"g:i\":\"time_short\",\"g:i a\":\"time_short\",\"g:i A\":\"time_short\",\"g:i:s A\":\"time_medium\",\"g:ia\":\"time_short\",\"g:iA\":\"time_short\",\"g:ia F jS, Y\":\"dateTime_long_short\",\"g:iA l, F jS\":\"dateTime_full_short\",\"g:ia M jS\":\"dateTime_medium_short\",\"g:ia, F jS\":\"dateTime_long_short\",\"g:iA, l M jS\":\"dateTime_full_short\",\"h:i a\":\"time_short\",\"h:m:s m\\/d\\/Y\":\"dateTime_short_short\",\"j\":\"d\",\"j F Y\":\"date_long\",\"l F d, Y\":\"date_full\",\"l, F d, Y\":\"date_full\",\"l, F j\":\"date_full\",\"l, F j, Y\":\"date_full\",\"l, F jS\":\"date_full\",\"l, F jS, g:ia\":\"dateTime_full_short\",\"l, M j\":\"date_full\",\"l, M j, Y\":\"date_full\",\"l, M j, Y g:ia\":\"dateTime_full_short\",\"M d\":\"MMMd\",\"M d, Y\":\"date_medium\",\"M d, Y g:ia\":\"dateTime_medium_short\",\"M d, Y ga\":\"dateTime_medium_short\",\"M j\":\"MMMd\",\"M j, Y\":\"date_medium\",\"M j, Y g:i A\":\"dateTime_medium_short\",\"M j, Y g:ia\":\"dateTime_medium_short\",\"M jS, g:ia\":\"dateTime_medium_short\",\"M y\":\"yMMM\",\"M Y\":\"yMMM\",\"M. d\":\"MMMd\",\"M. d, Y\":\"date_medium\",\"m\\/d\":\"Md\",\"m\\/d\\/Y g:ia\":\"dateTime_short_short\",\"m\\/d\\/y H:i:s\":\"dateTime_short_short\",\"n\":\"M\",\"n\\/j\":\"Md\",\"n\\/j, g:ia\":\"dateTime_short_short\",\"n\\/j\\/y\":\"date_short\",\"Y\":\"y\"},\"isLocaleInConfigerator\":true,\"CLDRConfigeratorFormats\":{\"dateFormats\":{\"full\":\"EEEE, MMMM d, y\",\"long\":\"MMMM d, y\",\"medium\":\"MMM d, y\",\"short\":\"M\\/d\\/yy\"},\"timeFormats\":{\"full\":\"h:mm:ss\\u202fa zzzz\",\"long\":\"h:mm:ss\\u202fa z\",\"medium\":\"h:mm:ss\\u202fa\",\"short\":\"h:mm\\u202fa\"},\"dateTimeFormats\":{\"full\":\"{1}, {0}\",\"long\":\"{1}, {0}\",\"medium\":\"{1}, {0}\",\"short\":\"{1}, {0}\"},\"availableFormats\":{\"Bh\":\"h B\",\"Bhm\":\"h:mm B\",\"Bhms\":\"h:mm:ss B\",\"E\":\"ccc\",\"EBhm\":\"E h:mm B\",\"EBhms\":\"E h:mm:ss B\",\"EHm\":\"E HH:mm\",\"EHms\":\"E HH:mm:ss\",\"Ed\":\"d E\",\"Ehm\":\"E h:mm\\u202fa\",\"Ehm-alt-ascii\":\"E h:mm a\",\"Ehms\":\"E h:mm:ss\\u202fa\",\"Ehms-alt-ascii\":\"E h:mm:ss a\",\"Gy\":\"y G\",\"GyMMM\":\"MMM y G\",\"GyMMMEd\":\"E, MMM d, y G\",\"GyMMMd\":\"MMM d, y G\",\"GyMd\":\"M\\/d\\/y G\",\"H\":\"HH\",\"Hm\":\"HH:mm\",\"Hms\":\"HH:mm:ss\",\"Hmsv\":\"HH:mm:ss v\",\"Hmv\":\"HH:mm v\",\"M\":\"L\",\"MEd\":\"E, M\\/d\",\"MMM\":\"LLL\",\"MMMEd\":\"E, MMM d\",\"MMMMW-count-one\":\"'week' W 'of' MMMM\",\"MMMMW-count-other\":\"'week' W 'of' MMMM\",\"MMMMd\":\"MMMM d\",\"MMMd\":\"MMM d\",\"Md\":\"M\\/d\",\"d\":\"d\",\"h\":\"h\\u202fa\",\"h-alt-ascii\":\"h a\",\"hm\":\"h:mm\\u202fa\",\"hm-alt-ascii\":\"h:mm a\",\"hms\":\"h:mm:ss\\u202fa\",\"hms-alt-ascii\":\"h:mm:ss a\",\"hmsv\":\"h:mm:ss\\u202fa v\",\"hmsv-alt-ascii\":\"h:mm:ss a v\",\"hmv\":\"h:mm\\u202fa v\",\"hmv-alt-ascii\":\"h:mm a v\",\"ms\":\"mm:ss\",\"y\":\"y\",\"yM\":\"M\\/y\",\"yMEd\":\"E, M\\/d\\/y\",\"yMMM\":\"MMM y\",\"yMMMEd\":\"E, MMM d, y\",\"yMMMM\":\"MMMM y\",\"yMMMd\":\"MMM d, y\",\"yMd\":\"M\\/d\\/y\",\"yQQQ\":\"QQQ y\",\"yQQQQ\":\"QQQQ y\",\"yw-count-one\":\"'week' w 'of' Y\",\"yw-count-other\":\"'week' w 'of' Y\"}},\"CLDRRegionalConfigeratorFormats\":{\"dateFormats\":{\"full\":\"EEEE, MMMM d, y\",\"long\":\"MMMM d, y\",\"medium\":\"MMM d, y\",\"short\":\"M\\/d\\/yy\"},\"timeFormats\":{\"full\":\"h:mm:ss\\u202fa zzzz\",\"long\":\"h:mm:ss\\u202fa z\",\"medium\":\"h:mm:ss\\u202fa\",\"short\":\"h:mm\\u202fa\"},\"dateTimeFormats\":{\"full\":\"{1}, {0}\",\"long\":\"{1}, {0}\",\"medium\":\"{1}, {0}\",\"short\":\"{1}, {0}\"},\"availableFormats\":{\"Bh\":\"h B\",\"Bhm\":\"h:mm B\",\"Bhms\":\"h:mm:ss B\",\"E\":\"ccc\",\"EBhm\":\"E h:mm B\",\"EBhms\":\"E h:mm:ss B\",\"EHm\":\"E HH:mm\",\"EHms\":\"E HH:mm:ss\",\"Ed\":\"d E\",\"Ehm\":\"E h:mm\\u202fa\",\"Ehm-alt-ascii\":\"E h:mm a\",\"Ehms\":\"E h:mm:ss\\u202fa\",\"Ehms-alt-ascii\":\"E h:mm:ss a\",\"Gy\":\"y G\",\"GyMMM\":\"MMM y G\",\"GyMMMEd\":\"E, MMM d, y G\",\"GyMMMd\":\"MMM d, y G\",\"GyMd\":\"M\\/d\\/y G\",\"H\":\"HH\",\"Hm\":\"HH:mm\",\"Hms\":\"HH:mm:ss\",\"Hmsv\":\"HH:mm:ss v\",\"Hmv\":\"HH:mm v\",\"M\":\"L\",\"MEd\":\"E, M\\/d\",\"MMM\":\"LLL\",\"MMMEd\":\"E, MMM d\",\"MMMMW-count-one\":\"'week' W 'of' MMMM\",\"MMMMW-count-other\":\"'week' W 'of' MMMM\",\"MMMMd\":\"MMMM d\",\"MMMd\":\"MMM d\",\"Md\":\"M\\/d\",\"d\":\"d\",\"h\":\"h\\u202fa\",\"h-alt-ascii\":\"h a\",\"hm\":\"h:mm\\u202fa\",\"hm-alt-ascii\":\"h:mm a\",\"hms\":\"h:mm:ss\\u202fa\",\"hms-alt-ascii\":\"h:mm:ss a\",\"hmsv\":\"h:mm:ss\\u202fa v\",\"hmsv-alt-ascii\":\"h:mm:ss a v\",\"hmv\":\"h:mm\\u202fa v\",\"hmv-alt-ascii\":\"h:mm a v\",\"ms\":\"mm:ss\",\"y\":\"y\",\"yM\":\"M\\/y\",\"yMEd\":\"E, M\\/d\\/y\",\"yMMM\":\"MMM y\",\"yMMMEd\":\"E, MMM d, y\",\"yMMMM\":\"MMMM y\",\"yMMMd\":\"MMM d, y\",\"yMd\":\"M\\/d\\/y\",\"yQQQ\":\"QQQ y\",\"yQQQQ\":\"QQQQ y\",\"yw-count-one\":\"'week' w 'of' Y\",\"yw-count-other\":\"'week' w 'of' Y\"}},\"CLDRToPHPSymbolConversion\":{\"G\":\"\",\"yyyy\":\"Y\",\"yy\":\"y\",\"y\":\"Y\",\"LLLLL\":\"M\",\"LLLL\":\"f\",\"LLL\":\"M\",\"LL\":\"m\",\"L\":\"n\",\"MMMMM\":\"M\",\"MMMM\":\"F\",\"MMM\":\"M\",\"MM\":\"m\",\"M\":\"n\",\"dd\":\"d\",\"d\":\"j\",\"ccccc\":\"D\",\"cccc\":\"l\",\"ccc\":\"D\",\"cc\":\"D\",\"c\":\"D\",\"EEEEE\":\"D\",\"EEEE\":\"l\",\"EEE\":\"D\",\"EE\":\"D\",\"E\":\"D\",\"aaaaa\":\"A\",\"aaaa\":\"A\",\"aaa\":\"A\",\"aa\":\"A\",\"a\":\"A\",\"bbbbb\":\"A\",\"bbbb\":\"A\",\"bbb\":\"A\",\"bb\":\"A\",\"b\":\"A\",\"BBBBB\":\"A\",\"BBBB\":\"A\",\"BBB\":\"A\",\"BB\":\"A\",\"B\":\"A\",\"HH\":\"H\",\"H\":\"G\",\"hh\":\"h\",\"h\":\"g\",\"K\":\"g\",\"mm\":\"i\",\"m\":\"i\",\"ss\":\"s\",\"s\":\"s\",\"z\":\"\",\"zz\":\"\",\"zzz\":\"\"},\"intlDateSpecialChars\":{\"cldrDelimiter\":\"'\",\"singleQuote\":\"'\",\"singleQuoteHolder\":\"*\"}},3019],[\"IsInternSite\",[],{\"is_intern_site\":false},4517],[\"cr:3179\",[\"CDSNativeSurveyDialog_surveySession.facebook.graphql\"],{\"__rc\":[\"CDSNativeSurveyDialog_surveySession.facebook.graphql\",null]},-1],[\"cr:3182\",[\"useCDSSubmitSurveyResponseRegisterAnswerMutation.facebook.graphql\"],{\"__rc\":[\"useCDSSubmitSurveyResponseRegisterAnswerMutation.facebook.graphql\",null]},-1],[\"cr:3183\",[\"useCDSSurveyConfiguredQuestion_ConfiguredQuestion.facebook.graphql\"],{\"__rc\":[\"useCDSSurveyConfiguredQuestion_ConfiguredQuestion.facebook.graphql\",null]},-1],[\"cr:3184\",[\"useCDSSurveyFlowManager_surveyFlow.facebook.graphql\"],{\"__rc\":[\"useCDSSurveyFlowManager_surveyFlow.facebook.graphql\",null]},-1],[\"cr:3185\",[\"useCDSSurveyFlowPages_flowPages.facebook.graphql\"],{\"__rc\":[\"useCDSSurveyFlowPages_flowPages.facebook.graphql\",null]},-1],[\"cr:3186\",[\"useRainbowSurveyControlNode_controlNode.facebook.graphql\"],{\"__rc\":[\"useRainbowSurveyControlNode_controlNode.facebook.graphql\",null]},-1],[\"cr:3187\",[\"useRainbowSurveyFlowNodeDSL_dslNode.facebook.graphql\"],{\"__rc\":[\"useRainbowSurveyFlowNodeDSL_dslNode.facebook.graphql\",null]},-1],[\"cr:3188\",[\"useRainbowSurveyTextWithEntities_textWithEntities.facebook.graphql\"],{\"__rc\":[\"useRainbowSurveyTextWithEntities_textWithEntities.facebook.graphql\",null]},-1],[\"cr:3189\",[\"useSubmitSurveyEventMutation.facebook.graphql\"],{\"__rc\":[\"useSubmitSurveyEventMutation.facebook.graphql\",null]},-1],[\"cr:3190\",[\"CDSSurveyManager_surveySession.facebook.graphql\"],{\"__rc\":[\"CDSSurveyManager_surveySession.facebook.graphql\",null]},-1],[\"cr:3233\",[\"PrivacyCenterRoutedDialogStepperRootQuery.facebook.graphql\"],{\"__rc\":[\"PrivacyCenterRoutedDialogStepperRootQuery.facebook.graphql\",null]},-1],[\"cr:3262\",[\"PCDialogStepper_stepperRef.facebook.graphql\"],{\"__rc\":[\"PCDialogStepper_stepperRef.facebook.graphql\",null]},-1],[\"cr:3166\",[\"PrivacyCenterDisplayProfileListBodyQuery.facebook.graphql\"],{\"__rc\":[\"PrivacyCenterDisplayProfileListBodyQuery.facebook.graphql\",null]},-1],[\"cr:786\",[\"PrivacyCenterDisplayUnblockProfileListBody_blockees.facebook.graphql\"],{\"__rc\":[\"PrivacyCenterDisplayUnblockProfileListBody_blockees.facebook.graphql\",null]},-1],[\"cr:3606\",[\"PrivacyCenterViewBlockedListRootQuery.facebook.graphql\"],{\"__rc\":[\"PrivacyCenterViewBlockedListRootQuery.facebook.graphql\",null]},-1],[\"cr:1691\",[\"PrivacyCenterV2BooleanPrivacyControlMutation.facebook.graphql\"],{\"__rc\":[\"PrivacyCenterV2BooleanPrivacyControlMutation.facebook.graphql\",null]},-1],[\"cr:2012\",[\"PrivacyCenterBooleanPrivacyControlListCell_fragmentProp.facebook.graphql\"],{\"__rc\":[\"PrivacyCenterBooleanPrivacyControlListCell_fragmentProp.facebook.graphql\",null]},-1],[\"cr:2570\",[\"PrivacyCenterBooleanPrivacyControlList_fragmentProp.facebook.graphql\"],{\"__rc\":[\"PrivacyCenterBooleanPrivacyControlList_fragmentProp.facebook.graphql\",null]},-1],[\"cr:3131\",[\"PrivacyCenterBooleanPrivacyControlRootQuery.facebook.graphql\"],{\"__rc\":[\"PrivacyCenterBooleanPrivacyControlRootQuery.facebook.graphql\",null]},-1],[\"cr:3266\",[\"PrivacyCenterFBLockProfile.facebook.graphql\"],{\"__rc\":[\"PrivacyCenterFBLockProfile.facebook.graphql\",null]},-1],[\"cr:6272\",[\"PrivacyCenterBooleanPrivacyControlGroupedToggleListCell_fragmentProp.facebook.graphql\"],{\"__rc\":[\"PrivacyCenterBooleanPrivacyControlGroupedToggleListCell_fragmentProp.facebook.graphql\",null]},-1],[\"cr:6310\",[\"PrivacyCenterIGPrivateAccount.facebook.graphql\"],{\"__rc\":[\"PrivacyCenterIGPrivateAccount.facebook.graphql\",null]},-1],[\"cr:6311\",[\"PrivacyCenterProfileTagReview.facebook.graphql\"],{\"__rc\":[\"PrivacyCenterProfileTagReview.facebook.graphql\",null]},-1],[\"cr:3976\",[],{\"__rc\":[null,null]},-1],[\"cr:1094133\",[],{\"__rc\":[null,null]},-1],[\"cr:2682\",[\"warningComet\"],{\"__rc\":[\"warningComet\",null]},-1],[\"cr:11202\",[],{\"__rc\":[null,null]},-1],[\"cr:1105154\",[],{\"__rc\":[null,null]},-1],[\"cr:5277\",[\"ReactDOM.classic.prod-or-profiling\"],{\"__rc\":[\"ReactDOM.classic.prod-or-profiling\",null]},-1],[\"cr:13683\",[],{\"__rc\":[null,null]},-1],[\"cr:1642797\",[\"BanzaiComet\"],{\"__rc\":[\"BanzaiComet\",null]},-1],[\"cr:3096\",[],{\"__rc\":[null,null]},-1],[\"cr:5888\",[],{\"__rc\":[null,null]},-1],[\"cr:1183579\",[\"InlineFbtResultImplComet\"],{\"__rc\":[\"InlineFbtResultImplComet\",null]},-1],[\"cr:3798\",[],{\"__rc\":[null,null]},-1],[\"cr:1292365\",[\"React-prod.classic\"],{\"__rc\":[\"React-prod.classic\",null]},-1],[\"cr:6895\",[\"cometAsyncRequestHeaders\"],{\"__rc\":[\"cometAsyncRequestHeaders\",null]},-1],[\"cr:1396\",[\"cometAsyncFetch\"],{\"__rc\":[\"cometAsyncFetch\",null]},-1],[\"cr:7736\",[\"FBLynxLogging\"],{\"__rc\":[\"FBLynxLogging\",null]},-1],[\"cr:708886\",[\"EventProfilerSham\"],{\"__rc\":[\"EventProfilerSham\",null]},-1],[\"cr:3843\",[\"BaseHovercardTriggerLegacy.react\"],{\"__rc\":[\"BaseHovercardTriggerLegacy.react\",null]},-1],[\"cr:902965\",[\"SketchComet\"],{\"__rc\":[\"SketchComet\",null]},-1],[\"WebLoomConfig\",[],{\"adaptive_config\":{\"interactions\":{\"modules\":{\"455\":1,\"467\":1,\"744\":1,\"980\":1},\"events\":{\"1056839232\":1,\"29818881.comet.auth_platform.afad\":1.8,\"29818881.comet.error\":17.2,\"29818881.comet.fb_help_center.content\":1.2,\"29818881.comet.friending.suggestions\":4.3,\"29818881.comet.fx.accounts_center.home\":3.2,\"29818881.comet.gaming.games.canvas_player\":25.7,\"29818881.comet.gaming.games.play\":2.4,\"29818881.comet.group\":45.5,\"29818881.comet.group.about\":2.5,\"29818881.comet.group.permalink\":18,\"29818881.comet.groups.viewer_content_published\":1.1,\"29818881.comet.home\":496.6,\"29818881.comet.marketplace.home\":7.1,\"29818881.comet.marketplace.item\":14.6,\"29818881.comet.marketplace.search\":1.8,\"29818881.comet.marketplace.you.selling\":1.7,\"29818881.comet.mediaviewer.photo\":25.9,\"29818881.comet.messenger.inbox\":38.9,\"29818881.comet.post.single_dialog\":56,\"29818881.comet.profile.collection.about\":1.4,\"29818881.comet.profile.collection.photos\":1.1,\"29818881.comet.profile.collection.reels_tab\":6.1,\"29818881.comet.profile.contextual_profile\":5.7,\"29818881.comet.profile.logged_out\":4.4,\"29818881.comet.profile.plus_logged_out\":24.8,\"29818881.comet.profile.timeline.list\":179.1,\"29818881.comet.reels.home\":30.8,\"29818881.comet.search_results.default_tab\":5.7,\"29818881.comet.settings.landing_page\":7,\"29818881.comet.stories.viewer\":1.9,\"29818881.comet.videos.tahoe\":2.7,\"29818881.comet.wa.help.content\":18.3,\"29818881.comet.watch.feed\":2.5,\"29818881.comet.watch.injection\":17.8,\"29818881.public_chat_share_to_feed\":3.2,\"29818881.two_step_verification.pre_authentication\":13.5,\"29818881.two_step_verification.two_factor_login\":4.2,\"29818881.two_step_verification.two_factor_login.remember_browser\":2.2,\"29818882.comet.ActivityLog.CometActivityLogMainContentRoute\":4.5,\"29818882.comet.event.public.about\":1.1,\"29818882.comet.friending\":9.1,\"29818882.comet.friending.friendrequests\":5.8,\"29818882.comet.friending.suggestions\":16.8,\"29818882.comet.fx.accounts_center.home\":1.4,\"29818882.comet.fx.accounts_center.section\":5.7,\"29818882.comet.gaming.games\":3,\"29818882.comet.gaming.games.canvas_player\":1.8,\"29818882.comet.gaming.games.play\":6.1,\"29818882.comet.group\":53.5,\"29818882.comet.group.about\":1.1,\"29818882.comet.group.media.photos\":2.4,\"29818882.comet.group.members\":1.1,\"29818882.comet.group.permalink\":11.8,\"29818882.comet.groups.feed\":3.3,\"29818882.comet.home\":669.5,\"29818882.comet.marketplace.category\":3.8,\"29818882.comet.marketplace.composer\":2.4,\"29818882.comet.marketplace.home\":49.9,\"29818882.comet.marketplace.item\":55.2,\"29818882.comet.marketplace.rentals\":1.4,\"29818882.comet.marketplace.search\":50.2,\"29818882.comet.marketplace.sellerProfileDialog\":3.6,\"29818882.comet.marketplace.vehicles\":2.1,\"29818882.comet.marketplace.you.selling\":3.5,\"29818882.comet.mediaviewer.photo\":994.3,\"29818882.comet.mediaviewer.video\":8.4,\"29818882.comet.memories\":3.7,\"29818882.comet.messenger.inbox\":160,\"29818882.comet.most_recent_feed\":1.3,\"29818882.comet.post.single_dialog\":38.9,\"29818882.comet.profile.collection.about\":6.8,\"29818882.comet.profile.collection.about_contact_and_basic_info\":1.6,\"29818882.comet.profile.collection.friends\":12.5,\"29818882.comet.profile.collection.photos\":50.6,\"29818882.comet.profile.collection.photos_albums\":3.9,\"29818882.comet.profile.collection.photos_by\":15.7,\"29818882.comet.profile.collection.reels_tab\":6.3,\"29818882.comet.profile.collection.reviews_given\":1.3,\"29818882.comet.profile.collection.videos\":1.1,\"29818882.comet.profile.contextual_profile\":10.8,\"29818882.comet.profile.media_set\":6.7,\"29818882.comet.profile.timeline.list\":239.7,\"29818882.comet.profile.timeline.videos\":2.3,\"29818882.comet.reels.home\":90.6,\"29818882.comet.save.saveDashboard\":3.1,\"29818882.comet.search_results.default_tab\":61.6,\"29818882.comet.search_results.entity_scoped\":6.7,\"29818882.comet.sharedmediaviewer.media\":24.6,\"29818882.comet.stories.create\":1.3,\"29818882.comet.stories.viewer\":48.8,\"29818882.comet.videos.tahoe\":14.1,\"29818882.comet.wa.help.content\":1.3,\"29818882.comet.watch.feed\":15.7,\"29818882.comet.watch.injection\":14.8,\"29818882.comet.watch.live.injection\":1.1,\"29818882.comet.watch.search\":1.1,\"30605326.comet.profile.timeline.list\":1.6,\"30605340.comet.group\":19.4,\"30605354.comet.app\":800.5,\"30605360.comet.profile.timeline.list\":9.7,\"30605361.comet.composer.feed\":8.4,\"30605361.comet.composer.profile\":10.8,\"30605361.comet.dialog.BirthdayCometTodaysBirthdaysDialog.react\":4.1,\"30605361.comet.dialog.CAAFetaSavePasswordInterstitialDialog.react\":12.1,\"30605361.comet.dialog.CometEditFeedComposerDialog.react\":4.4,\"30605361.comet.dialog.CometFocusedStoryDialogViewRoot.react\":195.6,\"30605361.comet.dialog.CometIXTFacebookContentTriggerRoot.react\":1.1,\"30605361.comet.dialog.CometLoggedOutPopupCTA.react\":9.3,\"30605361.comet.dialog.CometMediaViewerDeleteConfirmationDialog.react\":2.5,\"30605361.comet.dialog.CometOnBeforeUnloadDialog.react\":5.2,\"30605361.comet.dialog.CometPrivacySelectorDialog.react\":3.4,\"30605361.comet.dialog.CometResharesDialog.react\":2.1,\"30605361.comet.dialog.CometSaveSelectCollectionDialog.react\":4.5,\"30605361.comet.dialog.CometUFIReactionsDialog.react\":22.8,\"30605361.comet.dialog.CometUnifiedShareSheetDialog.react\":59.2,\"30605361.comet.dialog.FDSConfirmationDialogImpl.react\":26.2,\"30605361.comet.dialog.GroupCometComposerCreateDialog.react\":21.8,\"30605361.comet.dialog.MWChatForwardDialog.react\":4.4,\"30605361.comet.dialog.MarketplaceYourListingDialog.react\":1.4,\"30605361.comet.emojipicker\":3.4,\"30605361.comet.feed.story.menu\":45.1,\"30605361.comet.jewel.megamenu\":4.6,\"30605361.comet.jewel.messenger\":395.2,\"30605361.comet.jewel.notification\":213.9,\"30605361.comet.jewel.settings\":82.1,\"30605361.comet.popover.CometActivityLogActionMenu.react\":3.5,\"30605361.comet.popover.CometHomeChatSettings.react\":6.6,\"30605361.comet.popover.CometMarketplaceYouFeedCardMoreMenu.react\":2.5,\"30605361.comet.popover.CometNotificationsActionsMenu.react\":2.3,\"30605361.comet.popover.CometNotificationsDropdownMenuContainer.react\":4.9,\"30605361.comet.popover.CometSaveSavableMoreActionsMenu.react\":1.7,\"30605361.comet.popover.CometStickerPickerCard.react\":1.5,\"30605361.comet.popover.CometUFICommentMenu.react\":7.2,\"30605361.comet.popover.CometUFICommentRenderingIntentSelectorMenu.react\":19.4,\"30605361.comet.popover.CometUFIEmojiPickerPopoverForLexical.react\":4.6,\"30605361.comet.popover.CometUFIShareActionLinkMenu.react\":2.3,\"30605361.comet.popover.CometVerificationBadgeInfoPopover.react\":11.5,\"30605361.comet.popover.CometVideoHomeVideoContextMenuContents.react\":1.7,\"30605361.comet.popover.FBReelsMenu.react\":4.9,\"30605361.comet.popover.FDSTabMenu.react\":6,\"30605361.comet.popover.GroupsCometFeedSortingSwitcherMenu.react\":1.4,\"30605361.comet.popover.GroupsCometMoreActionMenu.react\":1.9,\"30605361.comet.popover.MWChatReactionsMenu.react\":71.4,\"30605361.comet.popover.MWThreadListHoverButtonDropdownMenu.react\":12,\"30605361.comet.popover.MWV2ComposerEmojiPickerForJSResource\":13.5,\"30605361.comet.popover.MWV2ContextualActionsMenu.react\":22.7,\"30605361.comet.popover.MWV2HeaderSettingsMenu.react\":16.8,\"30605361.comet.popover.MarketplaceComposerCategoryDropdown.react\":2.3,\"30605361.comet.popover.ProfileCometActiveFriendMenu.react\":5.3,\"30605361.comet.popover.ProfileCometAppCollectionMediaActionsMenu.react\":2.1,\"30605361.comet.popover.ProfileCometHeaderActionBarMoreMenu.react\":9.1,\"30605361.comet.popover.ProfileCometLockedProfilePopover.react\":3.2,\"30605361.comet.popover.ProfileCometProfilePictureEditMenu.react\":2.3,\"30605361.comet.popover.ProfileCometProfilePictureViewMenu.react\":5.4,\"30605361.comet.popover.marketplace.pdpSaveButton\":3.2,\"30605361.comet.search_scoped.group\":2.7,\"30605361.mwp.dialog.MWChatDeleteConversationDialog.react\":6.5,\"30605361.mwp.dialog.MWV2MediaViewer.react\":43.2,\"30605361.mwp.dialog.MWV2RemoveMessageDialog.react\":8.5,\"30605361.mwp.dialog.MWXConfirmationDialog.react\":2.8,\"30605374.comet.home\":3.7,\"30605374.comet.mediaviewer.photo\":3,\"30605374.comet.post.single_dialog\":1.7,\"30605374.comet.profile.timeline.list\":9,\"30605380.comet.app\":591.3,\"30605380.comet.friending\":1.4,\"30605380.comet.home\":36.2,\"30605380.comet.marketplace.item\":3.5,\"30605380.comet.messenger.chat_tab.cutover\":6.6,\"30605380.comet.messenger.chat_tab.open\":138.6,\"30605380.comet.messenger.chat_tab.secure\":183,\"30605380.comet.profile.collection.friends\":1.4,\"30605380.comet.profile.timeline.list\":15.2,\"30605380.comet.reels.home\":5.4,\"30605384.comet.app\":746.7,\"30605384.comet.home\":7.5,\"30605384.comet.messenger.inbox\":97.8,\"30605384.comet.reels.home\":6.4,\"30605391.comet.profile.timeline.videos\":8.3,\"30607516.comet.jewel.message_requests\":6,\"30608422.comet.app\":2.3,\"30609204.comet.group\":1.1,\"30609204.comet.home\":21.7,\"30609204.comet.marketplace.item\":1.4,\"30609204.comet.messenger.chat_tab.open\":6.5,\"30609204.comet.messenger.chat_tab.secure\":9.2,\"30609204.comet.post.single_dialog\":3.3,\"30609204.comet.profile.timeline.list\":7.5,\"30609204.comet.reels.home\":3.4,\"30612548.comet.reels.reel\":1386.4,\"30615205.comet.error\":6.7,\"30615205.comet.friending.suggestions\":3,\"30615205.comet.gaming.games.play\":1.7,\"30615205.comet.group\":29.1,\"30615205.comet.group.permalink\":9.7,\"30615205.comet.home\":331,\"30615205.comet.marketplace.home\":4.4,\"30615205.comet.marketplace.item\":9.2,\"30615205.comet.marketplace.you.selling\":1.3,\"30615205.comet.mediaviewer.photo\":11.8,\"30615205.comet.post.single_dialog\":25.8,\"30615205.comet.profile.collection.reels_tab\":3.9,\"30615205.comet.profile.contextual_profile\":4,\"30615205.comet.profile.timeline.list\":115.7,\"30615205.comet.reels.home\":14.8,\"30615205.comet.search_results.default_tab\":4.1,\"30615205.comet.settings.landing_page\":4.7,\"30615205.comet.stories.viewer\":1.2,\"30615205.comet.videos.tahoe\":1.8,\"30615205.comet.watch.feed\":1.9,\"30615205.comet.watch.injection\":7.5,\"30615205.public_chat_share_to_feed\":2.3,\"30615205.two_step_verification.two_factor_login.remember_browser\":1.6,\"30615365.comet.profile.timeline.list\":9.6,\"30615438.comet.home\":3.3,\"30616158.comet.app\":635.9,\"64231865.zenon.groupcall\":13.7}},\"qpl\":{\"modules\":{},\"events\":{}},\"modules\":null,\"events\":null}},4171],[\"WebDriverConfig\",[],{\"isTestRunning\":false,\"isJestE2ETestRun\":false,\"isXRequestConfigEnabled\":false,\"auxiliaryServiceInfo\":{},\"testPath\":null,\"originHost\":null},5332],[\"FbtResultGK\",[],{\"shouldReturnFbtResult\":true,\"inlineMode\":\"NO_INLINE\"},876],[\"ImmediateActiveSecondsConfig\",[],{\"sampling_rate\":0},423],[\"DataStoreConfig\",[],{\"expandoKey\":\"__FB_STORE\",\"useExpando\":true},2915],[\"DspCDSWebLegacyThemeUsage\",[],{\"light\":{\"accent\":\"#0A1317\",\"alert-banner-corner-radius\":\"16px\",\"always-black\":\"#000000\",\"always-white\":\"#FFFFFF\",\"animation-ambient-default\":\"cubic-bezier(0,0,1,1)\",\"animation-ambient-max\":\"cubic-bezier(0.6,0,0.7,0)\",\"animation-ambient-min\":\"cubic-bezier(0,0.1,0.4,1)\",\"animation-duration-extra-fast-default-in\":\"100ms\",\"animation-duration-extra-fast-default-out\":\"100ms\",\"animation-duration-extra-fast-max-in\":\"150ms\",\"animation-duration-extra-fast-max-out\":\"150ms\",\"animation-duration-extra-fast-min-in\":\"50ms\",\"animation-duration-extra-fast-min-out\":\"50ms\",\"animation-duration-extra-slow-default-in\":\"1000ms\",\"animation-duration-extra-slow-default-out\":\"1000ms\",\"animation-duration-extra-slow-max-in\":\"1200ms\",\"animation-duration-extra-slow-max-out\":\"1200ms\",\"animation-duration-extra-slow-min-in\":\"800ms\",\"animation-duration-extra-slow-min-out\":\"800ms\",\"animation-duration-fast-default-in\":\"250ms\",\"animation-duration-fast-default-out\":\"250ms\",\"animation-duration-fast-max-in\":\"300ms\",\"animation-duration-fast-max-out\":\"300ms\",\"animation-duration-fast-min-in\":\"200ms\",\"animation-duration-fast-min-out\":\"200ms\",\"animation-duration-medium-default-in\":\"500ms\",\"animation-duration-medium-default-out\":\"500ms\",\"animation-duration-medium-max-in\":\"600ms\",\"animation-duration-medium-max-out\":\"600ms\",\"animation-duration-medium-min-in\":\"400ms\",\"animation-duration-medium-min-out\":\"400ms\",\"animation-duration-short-in\":\"280ms\",\"animation-duration-short-out\":\"200ms\",\"animation-duration-slow-default-in\":\"2000ms\",\"animation-duration-slow-default-out\":\"2000ms\",\"animation-duration-slow-max-in\":\"2500ms\",\"animation-duration-slow-max-out\":\"2500ms\",\"animation-duration-slow-min-in\":\"1500ms\",\"animation-duration-slow-min-out\":\"1500ms\",\"animation-elastic-default-in\":\"cubic-bezier(0.25,1.4,0.5,1)\",\"animation-elastic-default-out\":\"cubic-bezier(0.45,0,0.75,-0.43)\",\"animation-elastic-max\":\"cubic-bezier(0.17,0.89,0.32,1.27)\",\"animation-elastic-min\":\"cubic-bezier(0,1.2,0.4,1)\",\"animation-organic-default\":\"cubic-bezier(0.6,0,0.1,1)\",\"animation-organic-max-in\":\"cubic-bezier(0.9,0,0.1,1)\",\"animation-organic-max-out\":\"cubic-bezier(0.8,0,0.64,1)\",\"animation-organic-min\":\"cubic-bezier(0.64,0,0.67,1)\",\"animation-responsive-default\":\"cubic-bezier(0.1,1,0.36,1)\",\"animation-responsive-max\":\"cubic-bezier(0,1,0.2,1)\",\"animation-responsive-min\":\"cubic-bezier(0.04,0,0,1)\",\"attachment-footer-background\":\"rgba(10, 19, 23, 0.1)\",\"background-deemphasized\":\"#F1F4F7\",\"badge-attention-background-color\":\"#FCEC85\",\"badge-critical-background-color\":\"#FEE4E6\",\"badge-informational-background-color\":\"#DBECFF\",\"badge-inner-padding-horizontal\":\"8px\",\"badge-neutral-background-color\":\"#E6EBEF\",\"badge-success-background-color\":\"#C4F8B9\",\"blue-link\":\"#0064E0\",\"body-emphasized-font-family\":\"Optimistic\",\"body-emphasized-font-size\":\"0.9375rem\",\"body-emphasized-font-stretch\":\"100\\u0025\",\"body-emphasized-font-weight\":\"700\",\"body-emphasized-line-height\":\"1.2667\",\"body-font-family\":\"Optimistic\",\"body-font-size\":\"0.9375rem\",\"body-font-stretch\":\"100\\u0025\",\"body-font-weight\":\"400\",\"body-line-height\":\"1.2667\",\"border-focused\":\"#5D6C7B\",\"border-unfocused\":\"#DDE2E8\",\"button-corner-radius\":\"22px\",\"button-corner-radius-medium\":\"18px\",\"button-height-large\":\"44px\",\"button-height-medium\":\"36px\",\"button-icon-padding-large\":\"16px\",\"button-icon-padding-medium\":\"12px\",\"button-inner-icon-spacing-large\":\"4px\",\"button-inner-icon-spacing-medium\":\"3px\",\"button-large-corner-radius\":\"22px\",\"button-large-height\":\"44px\",\"button-large-icon-padding\":\"16px\",\"button-large-inner-icon-spacing\":\"4px\",\"button-large-padding-horizontal\":\"20px\",\"button-medium-corner-radius\":\"18px\",\"button-medium-height\":\"36px\",\"button-medium-icon-padding\":\"12px\",\"button-medium-inner-icon-spacing\":\"3px\",\"button-medium-padding-horizontal\":\"16px\",\"button-padding-horizontal-large\":\"20px\",\"button-padding-horizontal-medium\":\"16px\",\"card-background\":\"#FFFFFF\",\"card-background-flat\":\"#FFFFFF\",\"card-border-color\":\"#DDE2E8\",\"card-border-width\":\"1px\",\"card-corner-radius\":\"16px\",\"card-padding-horizontal\":\"16px\",\"card-padding-vertical\":\"16px\",\"chip-background\":\"rgba(255, 255, 255, 0)\",\"chip-background-selected\":\"#1C2B33\",\"chip-corner-radius\":\"8px\",\"comment-background\":\"rgba(10, 19, 23, 0.1)\",\"dialog-corner-radius\":\"32px\",\"disabled-icon\":\"#96A6B4\",\"disabled-text\":\"#96A6B4\",\"display-font-family\":\"Optimistic\",\"display-font-size\":\"3rem\",\"display-font-stretch\":\"100\\u0025\",\"display-font-weight\":\"600\",\"display-line-height\":\"1.1667\",\"divider\":\"#DDE2E8\",\"event-date\":\"#D31130\",\"fb-app-wordmark\":\"#1877F2\",\"fb-wordmark\":\"#1877F2\",\"glimmer\":\"#2B3D46\",\"glimmer-corner-radius\":\"16px\",\"glimmer-max-opacity\":\"0.12\",\"glimmer-min-opacity\":\"0.03\",\"glimmer-on-white-background\":\"#2B3D46\",\"glimmer-on-white-background-max-opacity\":\"0.12\",\"glimmer-on-white-background-min-opacity\":\"0.03\",\"gradient-opacity\":\"1\",\"header-height\":\"0px\",\"headline1-font-family\":\"Optimistic\",\"headline1-font-size\":\"1.5rem\",\"headline1-font-stretch\":\"100\\u0025\",\"headline1-font-weight\":\"600\",\"headline1-line-height\":\"1.1667\",\"headline2-font-family\":\"Optimistic\",\"headline2-font-size\":\"1.5rem\",\"headline2-font-stretch\":\"100\\u0025\",\"headline2-font-weight\":\"600\",\"headline2-line-height\":\"1.1667\",\"headline3-font-family\":\"Optimistic\",\"headline3-font-size\":\"1.0625rem\",\"headline3-font-stretch\":\"100\\u0025\",\"headline3-font-weight\":\"600\",\"headline3-line-height\":\"1.2941\",\"hosted-view-selected-state\":\"#354855\",\"hover-overlay\":\"rgba(0, 0, 0, 0.05)\",\"image-corner-radius\":\"16px\",\"input-background\":\"rgba(255, 255, 255, 0.2)\",\"input-corner-radius\":\"16px\",\"inverse-text\":\"#F1F4F7\",\"list-border-color\":\"#DDE2E8\",\"list-border-width\":\"1px\",\"list-cell-chevron\":\"#5D6C7B\",\"list-cell-corner-radius\":\"16px\",\"list-cell-margin-horizontal\":\"0px\",\"list-cell-min-height\":\"52px\",\"list-cell-padding-vertical\":\"16px\",\"list-cell-padding-vertical-with-addon\":\"12px\",\"list-cell-padding-vertical-with-no-addon\":\"16px\",\"media-card-corner-radius\":\"16px\",\"media-inner-border\":\"rgba(10, 19, 23, 0.1)\",\"media-pressed\":\"rgba(10, 19, 23, 0.3)\",\"menu-list-cell-corner-radius\":\"0px\",\"meta-emphasized-font-family\":\"Optimistic\",\"meta-emphasized-font-size\":\"0.8125rem\",\"meta-emphasized-font-stretch\":\"100\\u0025\",\"meta-emphasized-font-weight\":\"700\",\"meta-emphasized-line-height\":\"1.3077\",\"meta-font-family\":\"Optimistic\",\"meta-font-size\":\"0.8125rem\",\"meta-font-stretch\":\"100\\u0025\",\"meta-font-weight\":\"400\",\"meta-line-height\":\"1.3077\",\"nav-list-cell-corner-radius\":\"16px\",\"nav-list-cell-corner-radius-dense\":\"12px\",\"nav-list-cell-margin-horizontal\":\"16px\",\"nav-list-cell-margin-horizontal-inner-addon\":\"16px\",\"nav-list-cell-min-height\":\"52px\",\"nav-list-cell-min-height-dense\":\"44px\",\"nav-list-cell-padding-vertical\":\"16px\",\"nav-list-cell-padding-vertical-with-addon\":\"12px\",\"nav-list-selected-accent\":\"#DBECFF\",\"nav-list-selected-accent-text\":\"#0064E0\",\"negative\":\"#D31130\",\"new-notification-background\":\"rgba(10, 19, 23, 0.1)\",\"non-media-pressed\":\"rgba(10, 19, 23, 0.15)\",\"non-media-pressed-on-dark\":\"rgba(255, 255, 255, 0.3)\",\"notification-badge\":\"#D31130\",\"overlay-alpha-80\":\"rgba(0, 0, 0, 0.6)\",\"overlay-on-media\":\"rgba(0, 0, 0, 0.7)\",\"overlay-on-surface\":\"rgba(0, 0, 0, 0.6)\",\"placeholder-icon\":\"#5D6C7B\",\"placeholder-image\":\"#DDE2E8\",\"placeholder-text\":\"#5D6C7B\",\"placeholder-text-on-media\":\"#CCD3DB\",\"popover-background\":\"#FFFFFF\",\"positive\":\"#147B29\",\"primary-button-background\":\"#0064E0\",\"primary-button-icon\":\"#F1F4F7\",\"primary-button-text\":\"#F1F4F7\",\"primary-deemphasized-button-text\":\"#F1F4F7\",\"primary-destructive-button-background\":\"#D31130\",\"primary-destructive-button-icon\":\"#FFFFFF\",\"primary-destructive-button-text\":\"#FFFFFF\",\"primary-icon\":\"#0A1317\",\"primary-label-font-family\":\"Optimistic\",\"primary-label-font-size\":\"0.9375rem\",\"primary-label-font-stretch\":\"100\\u0025\",\"primary-label-font-weight\":\"500\",\"primary-label-line-height\":\"1.2667\",\"primary-text\":\"#0A1317\",\"primary-text-on-media\":\"#FFFFFF\",\"progress-ring-on-media-background\":\"rgba(255, 255, 255, 0.2)\",\"screen-header-height\":\"0px\",\"search-input-background\":\"#F1F4F7\",\"secondary-button-background\":\"rgba(255, 255, 255, 0.2)\",\"secondary-button-stroke\":\"#CCD3DB\",\"secondary-button-text\":\"#0A1317\",\"secondary-destructive-button-background\":\"rgba(255, 255, 255, 0.2)\",\"secondary-destructive-button-icon\":\"#D31130\",\"secondary-destructive-button-stroke\":\"#D31130\",\"secondary-destructive-button-text\":\"#D31130\",\"secondary-icon\":\"#5D6C7B\",\"secondary-label-font-family\":\"Optimistic\",\"secondary-label-font-size\":\"0.8125rem\",\"secondary-label-font-stretch\":\"100\\u0025\",\"secondary-label-font-weight\":\"500\",\"secondary-label-line-height\":\"1.3077\",\"secondary-text\":\"#5D6C7B\",\"secondary-text-on-media\":\"#CCD3DB\",\"shadow-card\":\"\",\"shadow-elevated\":\"0px 4px 12px rgba(10, 19, 23, 0.12)\",\"shadow-list\":\"\",\"shadow-persistent\":\"0px 6px 16px rgba(10, 19, 23, 0.16)\",\"shadow-primary\":\"0px 0px 0px rgba(255, 255, 255, 0)\",\"slider-handle\":\"#0064E0\",\"slider-handle-disabled\":\"#96A6B4\",\"slider-track-filled\":\"#0064E0\",\"slider-track-filled-disabled\":\"#96A6B4\",\"slider-track-unfilled\":\"#8494A3\",\"slider-track-unfilled-disabled\":\"#DDE2E8\",\"stepper-active\":\"#0A1317\",\"stepper-inactive\":\"#8494A3\",\"surface-background\":\"#FFFFFF\",\"switch-active\":\"#0064E0\",\"switch-inactive\":\"#8494A3\",\"tertiary-label-font-family\":\"Optimistic\",\"tertiary-label-font-size\":\"0.6875rem\",\"tertiary-label-font-stretch\":\"100\\u0025\",\"tertiary-label-font-weight\":\"500\",\"tertiary-label-line-height\":\"1.4545\",\"text-badge-attention-background\":\"#FCEC85\",\"text-badge-corner-radius\":\"20px\",\"text-badge-critical-background\":\"#FEE4E6\",\"text-badge-info-background\":\"#DBECFF\",\"text-badge-neutral-background\":\"#E6EBEF\",\"text-badge-padding-horizontal\":\"8px\",\"text-badge-success-background\":\"#C4F8B9\",\"text-highlight\":\"#0064E0\",\"text-input-bar-background\":\"rgba(255, 255, 255, 0.2)\",\"text-input-caption-margin-top\":\"12px\",\"text-input-field-font-family\":\"Optimistic\",\"text-input-field-font-size\":\"0.9375rem\",\"text-input-field-font-stretch\":\"100\\u0025\",\"text-input-field-font-weight\":\"500\",\"text-input-field-line-height\":\"1.2667\",\"text-input-label-font-family\":\"Optimistic\",\"text-input-label-font-size\":\"0.9375rem\",\"text-input-label-font-size-scale-multiplier\":\"0.86666666666667\",\"text-input-label-font-stretch\":\"100\\u0025\",\"text-input-label-font-weight\":\"400\",\"text-input-label-line-height\":\"1.13334\",\"text-input-label-top\":\"18px\",\"text-input-min-height\":\"60px\",\"text-input-multi-padding-between-text-scrollbar\":\"16px\",\"text-input-multi-padding-scrollbar\":\"8px\",\"text-input-padding-vertical\":\"10px\",\"tile-tonal-container-background-blue\":\"#ECF5FF\",\"tile-tonal-container-background-elevated\":\"#F1F4F7\",\"tile-tonal-container-background-green\":\"#DCFCD6\",\"tile-tonal-container-background-orange\":\"#FFF2E4\",\"tile-tonal-container-background-purple\":\"#F4F3FF\",\"tile-tonal-container-background-rose\":\"#FFF0F6\",\"tile-tonal-container-background-teal\":\"#D7FCF8\",\"tile-tonal-container-background-yellow\":\"#FDF6BA\",\"tile-tonal-icon-blue\":\"#0457CB\",\"tile-tonal-icon-container-background-blue\":\"#C9E5FF\",\"tile-tonal-icon-container-background-elevated\":\"#F1F4F7\",\"tile-tonal-icon-container-background-green\":\"#A5F690\",\"tile-tonal-icon-container-background-orange\":\"#FFDBB9\",\"tile-tonal-icon-container-background-purple\":\"#DFDFFF\",\"tile-tonal-icon-container-background-rose\":\"#FCD9E5\",\"tile-tonal-icon-container-background-teal\":\"#A3F0E6\",\"tile-tonal-icon-container-background-yellow\":\"#FFE14A\",\"tile-tonal-icon-green\":\"#076D29\",\"tile-tonal-icon-orange\":\"#A13F04\",\"tile-tonal-icon-purple\":\"#6B1EFD\",\"tile-tonal-icon-rose\":\"#BB0844\",\"tile-tonal-icon-teal\":\"#0F686F\",\"tile-tonal-icon-yellow\":\"#8A5001\",\"tile-tonal-text-blue\":\"#0457CB\",\"tile-tonal-text-green\":\"#076D29\",\"tile-tonal-text-orange\":\"#A13F04\",\"tile-tonal-text-purple\":\"#6B1EFD\",\"tile-tonal-text-rose\":\"#BB0844\",\"tile-tonal-text-teal\":\"#0F686F\",\"tile-tonal-text-yellow\":\"#8A5001\",\"toast-background\":\"#283943\",\"toast-container-padding-horizontal\":\"14px\",\"toast-container-padding-vertical\":\"16px\",\"toast-corner-radius\":\"16px\",\"toast-text\":\"#FFFFFF\",\"toast-text-link\":\"#4BA9FE\",\"toast-text-web\":\"#FFFFFF\",\"toggle-active-background\":\"#0A1317\",\"toggle-active-icon\":\"#0064E0\",\"toggle-active-text\":\"#F1F4F7\",\"tooltip-background\":\"#25363F\",\"tooltip-corner-radius\":\"16px\",\"tooltip-padding-horizontal\":\"16px\",\"tooltip-padding-vertical\":\"16px\",\"ui-background\":\"#0A1317\",\"warning\":\"#965E03\",\"web-wash\":\"#FFFFFF\"},\"dark\":{\"accent\":\"#F1F4F7\",\"alert-banner-corner-radius\":\"16px\",\"always-black\":\"#000000\",\"always-white\":\"#FFFFFF\",\"animation-ambient-default\":\"cubic-bezier(0,0,1,1)\",\"animation-ambient-max\":\"cubic-bezier(0.6,0,0.7,0)\",\"animation-ambient-min\":\"cubic-bezier(0,0.1,0.4,1)\",\"animation-duration-extra-fast-default-in\":\"100ms\",\"animation-duration-extra-fast-default-out\":\"100ms\",\"animation-duration-extra-fast-max-in\":\"150ms\",\"animation-duration-extra-fast-max-out\":\"150ms\",\"animation-duration-extra-fast-min-in\":\"50ms\",\"animation-duration-extra-fast-min-out\":\"50ms\",\"animation-duration-extra-slow-default-in\":\"1000ms\",\"animation-duration-extra-slow-default-out\":\"1000ms\",\"animation-duration-extra-slow-max-in\":\"1200ms\",\"animation-duration-extra-slow-max-out\":\"1200ms\",\"animation-duration-extra-slow-min-in\":\"800ms\",\"animation-duration-extra-slow-min-out\":\"800ms\",\"animation-duration-fast-default-in\":\"250ms\",\"animation-duration-fast-default-out\":\"250ms\",\"animation-duration-fast-max-in\":\"300ms\",\"animation-duration-fast-max-out\":\"300ms\",\"animation-duration-fast-min-in\":\"200ms\",\"animation-duration-fast-min-out\":\"200ms\",\"animation-duration-medium-default-in\":\"500ms\",\"animation-duration-medium-default-out\":\"500ms\",\"animation-duration-medium-max-in\":\"600ms\",\"animation-duration-medium-max-out\":\"600ms\",\"animation-duration-medium-min-in\":\"400ms\",\"animation-duration-medium-min-out\":\"400ms\",\"animation-duration-short-in\":\"280ms\",\"animation-duration-short-out\":\"200ms\",\"animation-duration-slow-default-in\":\"2000ms\",\"animation-duration-slow-default-out\":\"2000ms\",\"animation-duration-slow-max-in\":\"2500ms\",\"animation-duration-slow-max-out\":\"2500ms\",\"animation-duration-slow-min-in\":\"1500ms\",\"animation-duration-slow-min-out\":\"1500ms\",\"animation-elastic-default-in\":\"cubic-bezier(0.25,1.4,0.5,1)\",\"animation-elastic-default-out\":\"cubic-bezier(0.45,0,0.75,-0.43)\",\"animation-elastic-max\":\"cubic-bezier(0.17,0.89,0.32,1.27)\",\"animation-elastic-min\":\"cubic-bezier(0,1.2,0.4,1)\",\"animation-organic-default\":\"cubic-bezier(0.6,0,0.1,1)\",\"animation-organic-max-in\":\"cubic-bezier(0.9,0,0.1,1)\",\"animation-organic-max-out\":\"cubic-bezier(0.8,0,0.64,1)\",\"animation-organic-min\":\"cubic-bezier(0.64,0,0.67,1)\",\"animation-responsive-default\":\"cubic-bezier(0.1,1,0.36,1)\",\"animation-responsive-max\":\"cubic-bezier(0,1,0.2,1)\",\"animation-responsive-min\":\"cubic-bezier(0.04,0,0,1)\",\"attachment-footer-background\":\"rgba(255, 255, 255, 0.1)\",\"background-deemphasized\":\"#0A1317\",\"badge-attention-background-color\":\"#5D2E04\",\"badge-critical-background-color\":\"#7B0210\",\"badge-informational-background-color\":\"#042F97\",\"badge-inner-padding-horizontal\":\"8px\",\"badge-neutral-background-color\":\"#2B3D46\",\"badge-success-background-color\":\"#09441F\",\"blue-link\":\"#4BA9FE\",\"body-emphasized-font-family\":\"Optimistic\",\"body-emphasized-font-size\":\"0.9375rem\",\"body-emphasized-font-stretch\":\"100\\u0025\",\"body-emphasized-font-weight\":\"700\",\"body-emphasized-line-height\":\"1.2667\",\"body-font-family\":\"Optimistic\",\"body-font-size\":\"0.9375rem\",\"body-font-stretch\":\"100\\u0025\",\"body-font-weight\":\"400\",\"body-line-height\":\"1.2667\",\"border-focused\":\"#A4B0BC\",\"border-unfocused\":\"#3D4F5C\",\"button-corner-radius\":\"22px\",\"button-corner-radius-medium\":\"18px\",\"button-height-large\":\"44px\",\"button-height-medium\":\"36px\",\"button-icon-padding-large\":\"16px\",\"button-icon-padding-medium\":\"12px\",\"button-inner-icon-spacing-large\":\"4px\",\"button-inner-icon-spacing-medium\":\"3px\",\"button-large-corner-radius\":\"22px\",\"button-large-height\":\"44px\",\"button-large-icon-padding\":\"16px\",\"button-large-inner-icon-spacing\":\"4px\",\"button-large-padding-horizontal\":\"20px\",\"button-medium-corner-radius\":\"18px\",\"button-medium-height\":\"36px\",\"button-medium-icon-padding\":\"12px\",\"button-medium-inner-icon-spacing\":\"3px\",\"button-medium-padding-horizontal\":\"16px\",\"button-padding-horizontal-large\":\"20px\",\"button-padding-horizontal-medium\":\"16px\",\"card-background\":\"#152127\",\"card-background-flat\":\"#152127\",\"card-border-color\":\"#3D4F5C\",\"card-border-width\":\"1px\",\"card-corner-radius\":\"16px\",\"card-padding-horizontal\":\"16px\",\"card-padding-vertical\":\"16px\",\"chip-background\":\"rgba(255, 255, 255, 0)\",\"chip-background-selected\":\"#CBD2D9\",\"chip-corner-radius\":\"8px\",\"comment-background\":\"rgba(255, 255, 255, 0.1)\",\"dialog-corner-radius\":\"32px\",\"disabled-icon\":\"#5D6C7B\",\"disabled-text\":\"#5D6C7B\",\"display-font-family\":\"Optimistic\",\"display-font-size\":\"3rem\",\"display-font-stretch\":\"100\\u0025\",\"display-font-weight\":\"600\",\"display-line-height\":\"1.1667\",\"divider\":\"#3D4F5C\",\"event-date\":\"#FB7D87\",\"fb-app-wordmark\":\"#FFFFFF\",\"fb-wordmark\":\"#FFFFFF\",\"glimmer\":\"#BFC7D0\",\"glimmer-corner-radius\":\"16px\",\"glimmer-max-opacity\":\"0.12\",\"glimmer-min-opacity\":\"0.03\",\"glimmer-on-white-background\":\"#BFC7D0\",\"glimmer-on-white-background-max-opacity\":\"0.12\",\"glimmer-on-white-background-min-opacity\":\"0.03\",\"gradient-opacity\":\"1\",\"header-height\":\"0px\",\"headline1-font-family\":\"Optimistic\",\"headline1-font-size\":\"1.5rem\",\"headline1-font-stretch\":\"100\\u0025\",\"headline1-font-weight\":\"600\",\"headline1-line-height\":\"1.1667\",\"headline2-font-family\":\"Optimistic\",\"headline2-font-size\":\"1.5rem\",\"headline2-font-stretch\":\"100\\u0025\",\"headline2-font-weight\":\"600\",\"headline2-line-height\":\"1.1667\",\"headline3-font-family\":\"Optimistic\",\"headline3-font-size\":\"1.0625rem\",\"headline3-font-stretch\":\"100\\u0025\",\"headline3-font-weight\":\"600\",\"headline3-line-height\":\"1.2941\",\"hosted-view-selected-state\":\"#DDE2E8\",\"hover-overlay\":\"rgba(255, 255, 255, 0.1)\",\"image-corner-radius\":\"16px\",\"input-background\":\"rgba(21, 33, 39, 0.2)\",\"input-corner-radius\":\"16px\",\"inverse-text\":\"#0A1317\",\"list-border-color\":\"#3D4F5C\",\"list-border-width\":\"1px\",\"list-cell-chevron\":\"#A4B0BC\",\"list-cell-corner-radius\":\"16px\",\"list-cell-margin-horizontal\":\"0px\",\"list-cell-min-height\":\"52px\",\"list-cell-padding-vertical\":\"16px\",\"list-cell-padding-vertical-with-addon\":\"12px\",\"list-cell-padding-vertical-with-no-addon\":\"16px\",\"media-card-corner-radius\":\"16px\",\"media-inner-border\":\"rgba(241, 244, 247, 0.1)\",\"media-pressed\":\"rgba(255, 255, 255, 0.3)\",\"menu-list-cell-corner-radius\":\"0px\",\"meta-emphasized-font-family\":\"Optimistic\",\"meta-emphasized-font-size\":\"0.8125rem\",\"meta-emphasized-font-stretch\":\"100\\u0025\",\"meta-emphasized-font-weight\":\"700\",\"meta-emphasized-line-height\":\"1.3077\",\"meta-font-family\":\"Optimistic\",\"meta-font-size\":\"0.8125rem\",\"meta-font-stretch\":\"100\\u0025\",\"meta-font-weight\":\"400\",\"meta-line-height\":\"1.3077\",\"nav-list-cell-corner-radius\":\"16px\",\"nav-list-cell-corner-radius-dense\":\"12px\",\"nav-list-cell-margin-horizontal\":\"16px\",\"nav-list-cell-margin-horizontal-inner-addon\":\"16px\",\"nav-list-cell-min-height\":\"52px\",\"nav-list-cell-min-height-dense\":\"44px\",\"nav-list-cell-padding-vertical\":\"16px\",\"nav-list-cell-padding-vertical-with-addon\":\"12px\",\"nav-list-selected-accent\":\"#2B3D46\",\"nav-list-selected-accent-text\":\"#FFFFFF\",\"negative\":\"#FB7D87\",\"new-notification-background\":\"rgba(255, 255, 255, 0.1)\",\"non-media-pressed\":\"rgba(255, 255, 255, 0.2)\",\"non-media-pressed-on-dark\":\"rgba(255, 255, 255, 0.3)\",\"notification-badge\":\"#FB7D87\",\"overlay-alpha-80\":\"rgba(0, 0, 0, 0.6)\",\"overlay-on-media\":\"rgba(0, 0, 0, 0.7)\",\"overlay-on-surface\":\"rgba(0, 0, 0, 0.6)\",\"placeholder-icon\":\"#96A6B4\",\"placeholder-image\":\"#3D4F5C\",\"placeholder-text\":\"#96A6B4\",\"placeholder-text-on-media\":\"#CCD3DB\",\"popover-background\":\"#152127\",\"positive\":\"#3CBC22\",\"primary-button-background\":\"#0064E0\",\"primary-button-icon\":\"#F1F4F7\",\"primary-button-text\":\"#F1F4F7\",\"primary-deemphasized-button-text\":\"#0A1317\",\"primary-destructive-button-background\":\"#D31130\",\"primary-destructive-button-icon\":\"#FFFFFF\",\"primary-destructive-button-text\":\"#FFFFFF\",\"primary-icon\":\"#F1F4F7\",\"primary-label-font-family\":\"Optimistic\",\"primary-label-font-size\":\"0.9375rem\",\"primary-label-font-stretch\":\"100\\u0025\",\"primary-label-font-weight\":\"500\",\"primary-label-line-height\":\"1.2667\",\"primary-text\":\"#F1F4F7\",\"primary-text-on-media\":\"#FFFFFF\",\"progress-ring-on-media-background\":\"rgba(255, 255, 255, 0.2)\",\"screen-header-height\":\"0px\",\"search-input-background\":\"#1C2B33\",\"secondary-button-background\":\"rgba(21, 33, 39, 0.2)\",\"secondary-button-stroke\":\"#445664\",\"secondary-button-text\":\"#F1F4F7\",\"secondary-destructive-button-background\":\"rgba(21, 33, 39, 0.2)\",\"secondary-destructive-button-icon\":\"#FB7D87\",\"secondary-destructive-button-stroke\":\"#FB7D87\",\"secondary-destructive-button-text\":\"#FB7D87\",\"secondary-icon\":\"#96A6B4\",\"secondary-label-font-family\":\"Optimistic\",\"secondary-label-font-size\":\"0.8125rem\",\"secondary-label-font-stretch\":\"100\\u0025\",\"secondary-label-font-weight\":\"500\",\"secondary-label-line-height\":\"1.3077\",\"secondary-text\":\"#96A6B4\",\"secondary-text-on-media\":\"#CCD3DB\",\"shadow-card\":\"\",\"shadow-elevated\":\"0px 4px 12px rgba(10, 19, 23, 0.12)\",\"shadow-list\":\"\",\"shadow-persistent\":\"0px 6px 16px rgba(10, 19, 23, 0.16)\",\"shadow-primary\":\"0px 0px 0px rgba(255, 255, 255, 0)\",\"slider-handle\":\"#0082FB\",\"slider-handle-disabled\":\"#5D6C7B\",\"slider-track-filled\":\"#0082FB\",\"slider-track-filled-disabled\":\"#5D6C7B\",\"slider-track-unfilled\":\"#5D6C7B\",\"slider-track-unfilled-disabled\":\"#3D4F5C\",\"stepper-active\":\"#F1F4F7\",\"stepper-inactive\":\"#5D6C7B\",\"surface-background\":\"#152127\",\"switch-active\":\"#0082FB\",\"switch-inactive\":\"#5D6C7B\",\"tertiary-label-font-family\":\"Optimistic\",\"tertiary-label-font-size\":\"0.6875rem\",\"tertiary-label-font-stretch\":\"100\\u0025\",\"tertiary-label-font-weight\":\"500\",\"tertiary-label-line-height\":\"1.4545\",\"text-badge-attention-background\":\"#5D2E04\",\"text-badge-corner-radius\":\"20px\",\"text-badge-critical-background\":\"#7B0210\",\"text-badge-info-background\":\"#042F97\",\"text-badge-neutral-background\":\"#2B3D46\",\"text-badge-padding-horizontal\":\"8px\",\"text-badge-success-background\":\"#09441F\",\"text-highlight\":\"#4BA9FE\",\"text-input-bar-background\":\"rgba(21, 33, 39, 0.2)\",\"text-input-caption-margin-top\":\"12px\",\"text-input-field-font-family\":\"Optimistic\",\"text-input-field-font-size\":\"0.9375rem\",\"text-input-field-font-stretch\":\"100\\u0025\",\"text-input-field-font-weight\":\"500\",\"text-input-field-line-height\":\"1.2667\",\"text-input-label-font-family\":\"Optimistic\",\"text-input-label-font-size\":\"0.9375rem\",\"text-input-label-font-size-scale-multiplier\":\"0.86666666666667\",\"text-input-label-font-stretch\":\"100\\u0025\",\"text-input-label-font-weight\":\"400\",\"text-input-label-line-height\":\"1.13334\",\"text-input-label-top\":\"18px\",\"text-input-min-height\":\"60px\",\"text-input-multi-padding-between-text-scrollbar\":\"16px\",\"text-input-multi-padding-scrollbar\":\"8px\",\"text-input-padding-vertical\":\"10px\",\"tile-tonal-container-background-blue\":\"#000844\",\"tile-tonal-container-background-elevated\":\"#1C2B33\",\"tile-tonal-container-background-green\":\"#001608\",\"tile-tonal-container-background-orange\":\"#270701\",\"tile-tonal-container-background-purple\":\"#18023E\",\"tile-tonal-container-background-rose\":\"#2C010C\",\"tile-tonal-container-background-teal\":\"#01141C\",\"tile-tonal-container-background-yellow\":\"#220B02\",\"tile-tonal-icon-blue\":\"#0082FB\",\"tile-tonal-icon-container-background-blue\":\"#001E75\",\"tile-tonal-icon-container-background-elevated\":\"#1C2B33\",\"tile-tonal-icon-container-background-green\":\"#053018\",\"tile-tonal-icon-container-background-orange\":\"#4E1608\",\"tile-tonal-icon-container-background-purple\":\"#31067B\",\"tile-tonal-icon-container-background-rose\":\"#58021E\",\"tile-tonal-icon-container-background-teal\":\"#062D38\",\"tile-tonal-icon-container-background-yellow\":\"#451E03\",\"tile-tonal-icon-green\":\"#0B991F\",\"tile-tonal-icon-orange\":\"#D66100\",\"tile-tonal-icon-purple\":\"#856CFF\",\"tile-tonal-icon-rose\":\"#F63368\",\"tile-tonal-icon-teal\":\"#0C9293\",\"tile-tonal-icon-yellow\":\"#B47700\",\"tile-tonal-text-blue\":\"#0082FB\",\"tile-tonal-text-green\":\"#0B991F\",\"tile-tonal-text-orange\":\"#D66100\",\"tile-tonal-text-purple\":\"#856CFF\",\"tile-tonal-text-rose\":\"#F63368\",\"tile-tonal-text-teal\":\"#0C9293\",\"tile-tonal-text-yellow\":\"#B47700\",\"toast-background\":\"#283943\",\"toast-container-padding-horizontal\":\"14px\",\"toast-container-padding-vertical\":\"16px\",\"toast-corner-radius\":\"16px\",\"toast-text\":\"#FFFFFF\",\"toast-text-link\":\"#4BA9FE\",\"toast-text-web\":\"#FFFFFF\",\"toggle-active-background\":\"#F1F4F7\",\"toggle-active-icon\":\"#0082FB\",\"toggle-active-text\":\"#0A1317\",\"tooltip-background\":\"#25363F\",\"tooltip-corner-radius\":\"16px\",\"tooltip-padding-horizontal\":\"16px\",\"tooltip-padding-vertical\":\"16px\",\"ui-background\":\"#0A1317\",\"warning\":\"#D69804\",\"web-wash\":\"#152127\"}},7221],[\"cr:3261\",[\"PCDialogStepperRefetchQuery.facebook.graphql\"],{\"__rc\":[\"PCDialogStepperRefetchQuery.facebook.graphql\",null]},-1],[\"cr:983844\",[],{\"__rc\":[null,null]},-1],[\"cr:1072546\",[],{\"__rc\":[null,null]},-1],[\"cr:1072547\",[],{\"__rc\":[null,null]},-1],[\"cr:1072549\",[],{\"__rc\":[null,null]},-1],[\"cr:5278\",[\"ReactDOM-prod.classic\"],{\"__rc\":[\"ReactDOM-prod.classic\",null]},-1],[\"cr:1172\",[\"WebSession\"],{\"__rc\":[\"WebSession\",null]},-1],[\"cr:6016\",[\"NavigationMetricsWWW\"],{\"__rc\":[\"NavigationMetricsWWW\",null]},-1],[\"cr:7384\",[\"cancelIdleCallbackWWW\"],{\"__rc\":[\"cancelIdleCallbackWWW\",null]},-1],[\"cr:9985\",[\"performanceAbsoluteNow\"],{\"__rc\":[\"performanceAbsoluteNow\",null]},-1],[\"cr:9986\",[\"CurrentUser\"],{\"__rc\":[\"CurrentUser\",null]},-1],[\"cr:1268629\",[\"setTimeoutCometLoggingPri\"],{\"__rc\":[\"setTimeoutCometLoggingPri\",null]},-1],[\"cr:1268630\",[\"setTimeoutCometSpeculative\"],{\"__rc\":[\"setTimeoutCometSpeculative\",null]},-1],[\"cr:8906\",[\"goURIWWW\"],{\"__rc\":[\"goURIWWW\",null]},-1],[\"BanzaiConfig\",[],{\"MAX_SIZE\":10000,\"MAX_WAIT\":150000,\"MIN_WAIT\":null,\"RESTORE_WAIT\":150000,\"blacklist\":[\"time_spent\"],\"disabled\":false,\"gks\":{\"boosted_pagelikes\":true,\"platform_oauth_client_events\":true,\"sticker_search_ranking\":true},\"known_routes\":[\"artillery_javascript_actions\",\"artillery_javascript_trace\",\"artillery_logger_data\",\"logger\",\"falco\",\"gk2_exposure\",\"js_error_logging\",\"loom_trace\",\"marauder\",\"perfx_custom_logger_endpoint\",\"qex\",\"require_cond_exposure_logging\",\"metaconfig_exposure\"],\"should_drop_unknown_routes\":true,\"should_log_unknown_routes\":false},7],[\"AdsManagerReadRegions\",[],{\"excluded_endpoints\":[\"\\/am_tabular\"]},7950],[\"AsyncRequestConfig\",[],{\"retryOnNetworkError\":\"1\",\"useFetchStreamAjaxPipeTransport\":true},328],[\"SessionNameConfig\",[],{\"seed\":\"0I0P\"},757],[\"cr:5695\",[\"EventListenerWWW\"],{\"__rc\":[\"EventListenerWWW\",null]},-1],[\"cr:8909\",[\"ReactFiberErrorDialogWWW\"],{\"__rc\":[\"ReactFiberErrorDialogWWW\",null]},-1],[\"cr:692209\",[\"cancelIdleCallbackComet\"],{\"__rc\":[\"cancelIdleCallbackComet\",null]},-1],[\"cr:1353359\",[\"CometEventListener\"],{\"__rc\":[\"CometEventListener\",null]},-1],[\"FbtQTOverrides\",[],{\"overrides\":{\"1_000b6572c6a3f7fe9312e5879dd2e75b\":\"You'll need to log in with Workplace to continue this video chat.\",\"1_023ac1e3f0ce2980598584f26a784b9f\":\"Ignore messages\",\"1_028dc427119e6bfbfcd5eb2dd83b2a9e\":\"View Page status\",\"1_075684469438a60ae5f6813949e94a0d\":\"Get quote\",\"1_0778dc4cf3fe167942881fecddd5dee2\":\"Learn more\",\"1_08a3224cc0fd966f2bb0e780c51e6a0b\":\"New poll\",\"1_0a090165a1d0654210eb444114aabd7c\":\"Switch between accounts\",\"1_0b9af3d5b6a4de6cb2b17ad5a0beec3a\":\"Learn more\",\"1_0d0b40d72cd2adc492a402e98e18896f\":\"Chat notifications\",\"1_0ea6e742163878d88375800514788740\":\"Invite link\",\"1_0ea7de82b669cced737b30875f15309a\":\"Local event from Facebook\",\"1_0f008d2991187964d472eceaf9ba28d6\":\"Featured sticker packs\",\"1_0f48efb82ce58bf43dec6a98dcadc874\":\"Add your new number\",\"1_0f9fceeb2e66627d9e346dd24e0d6916\":\"Remove from channel\",\"1_0fee0283487e0259495a07f9e315ad8f\":\"Your home in Messenger\",\"1_1068c1352d8cbb8919cc2b4a0dbcd9f3\":\"Hide contact\",\"1_10811a6ece4ca15b10dc22f89805a347\":\"Customize your chat with {short-name}.\",\"1_117fb24f8ee951759e9435520cc71e70\":\"More options\",\"1_1248a8548f1b43fd3d9fc77baf835a04\":\"Contacts only\",\"1_1593f9d2cc4c63f196a61a70eff664cf\":\"Send to group\",\"1_159aa796a642d08a85379ec9693d25c7\":\"Opt in\",\"1_1736f6743cf12be3ffc46cd556357e96\":\"Book now\",\"1_18b8ec487f180574ad865f168eeafa70\":\"Content not found\",\"1_1905e45a72593e291dda8c774aa4caf4\":\"Invite people\",\"1_1ac128eda299351dc18567e7a6f31be6\":\"Hide video\",\"1_1b38f249fefb0fd5ef7912a1fe615d10\":\"Pinned location\",\"1_1b59f7e84dba4c8754cf60d1bafa6ae5\":\"Shared stories\",\"1_1cf36465e606a10ef2a48c5dee532085\":\"Great job, {user_name}!\",\"1_1d36c6e7b1a07971c84821452f9dc407\":\"Ignore conversation\",\"1_1d89beed629123cabeeea834c345a7fc\":\"Mute notifications\",\"1_1f209b12cabbe35509c514220825d53b\":\"New story\",\"1_209b3fb19e7c487ffe3bd85b2adac6db\":\"Try again\",\"1_20cec0b4386ad8555f8b619ad2c2fb81\":\"Single pop\",\"1_215afaeceab4d29970af2c11221f79e3\":\"Web visibility\",\"1_226d5171b148e60fe004a4f3cc53a81b\":\"Delete group chat?\",\"1_23f5a1596d301feaeb32b47f24dc73a0\":\"Join call\",\"1_243d55bab0d83c72b2113bfd5ca2e194\":\"Membership questions\",\"1_25589d7cb1db33911bf18252dbb5155c\":\"Message history in Inbox\",\"1_2745ba03fa7b9c0f59c0797fb44da204\":\"Showing in chats\",\"1_27f38b56fa58a394e2d89fbf7288747b\":\"New sender\",\"1_28ea9e6140b5437477564e5b21353246\":\"Profile picture\",\"1_2953f6f20942da4f0593b905a4db3d90\":\"See details\",\"1_2af4c8cb4d30a1aaa744a75187d6b06d\":\"{number} invited by you\",\"1_2b2898b200686215c54616553499fddf\":\"Unread messages\",\"1_2b406f4727fff3df7dd970cac1c41536\":\"Messenger preview\",\"1_2c2ff60e8d5edccadadf61f739b6d87b\":\"Report story\",\"1_3002f3a3232973642407c2e3830c10f6\":\"Stop sharing location\",\"1_30ed561a77bfcadb3b66d5960c2a9e05\":\"Photo reminders\",\"1_313c1c8a5025b45c60712685f0d89c6c\":\"App visibility\",\"1_33886f5d4a6ede055ec28ddf69251cc5\":\"Life events\",\"1_3543833b8b31fbb1561d46f2c0b266a8\":\"Added with theme\",\"1_366d38e456780d92844ab4b39ac1de78\":\"Not interested\",\"1_37900af383a573c0337521bca05d7955\":\"Respond to event\",\"1_37ebfbfd36c55a8366f7ba9d528cf7b3\":\"Chats you can create\",\"1_39339bb4b3f3002e589625a820bf5c7a\":\"Learn more\",\"1_3a9a1e192465754ec4427995fe1cffb4\":\"Buy and sell groups\",\"1_3aa3f2c2971602310d482c632c086db8\":\"Chat hosts\",\"1_3bc7a4f74be5e3dbfdc9b758fa779fff\":\"Chat plugin\",\"1_3cee79cd9e136ffc84ccfc7082bef6c2\":\"{number_of_happening_now_events} happening now, {number_of_upcoming_events} upcoming\",\"1_3e8fba90f69e371d19c5b4f79e3f0be7\":\"Buy and sell groups\",\"1_3f4c233aac1d71d17bee559b932144d3\":\"See conversation\",\"1_41446ff5d2de26a67626d2ba309c969b\":\"This video can't be sent\",\"1_4151657ef8e7bc03ab8169e5dcb0d675\":\"Cancel request\",\"1_41eadd6427237386cc04b60a8ab94a8b\":\"This chat will show as unread\",\"1_46793f5529ff4a62f831cf9218082b7f\":\"Unread requests\",\"1_46879d905028aaee9f7297d27c075b50\":\"See messages\",\"1_46b9f298de3c041a464dbe8ff7f3d978\":\"Language settings\",\"1_46c8d595559f4232c4a7fe113aac3093\":\"Get started\",\"1_475781e5e945e3d217b563d6ccd51ecd\":\"Create prompt\",\"1_489630491bec0288ae7c0bef88ff5ad9\":\"Show music picker\",\"1_4ad1c9e7de7af0b7d1853ed6863469db\":\"Snooze for {number_of_hours} hours\",\"1_4b56df30045efb8a5d21ec865d43ec1c\":\"Approved by you\",\"1_4b9736a9d6cbeb6249b0704870ec383e\":\"No devices yet\",\"1_4cf8fe13a0639e31c0d73b5aec3b8019\":\"Something went wrong\",\"1_4d5c8cbda9ac3dfc82b483ecf952a53c\":\"Open Facebook app\",\"1_4e75a018ef44c107750832d736fcce90\":\"Send details\",\"1_4ee7496edd4dafc3c2b2a6225f1a6f69\":\"Nearby places\",\"1_5009586cb3b7953608b1ccc56cb3e630\":\"See conversation?\",\"1_50c0e7742a3eb3800f3c2fdd5bce8f3a\":\"Admins & moderators\",\"1_531aa532255f18fbb4386d4ac4bf537d\":\"Search emoji\",\"1_53e9c4c2a53662ab23979d6cd79d4417\":\"Stop sharing\",\"1_5490d986c6908e35ac70ae79cca740fc\":\"Switch account\",\"1_55c0717e522433cf319a51f6ed6d4d09\":\"No messages\",\"1_55c2f7ac43fba60f684a0a0dfd01bb89\":\"Edit avatar\",\"1_55e31911698e89d3b19d4c703079cdf2\":\"{content} Learn more\",\"1_56d2098fc23416108de3ceae0fd6c158\":\"See link\",\"1_599d20d959e0009397c73fb9edb426dd\":\"Private post\",\"1_5af9abe8c5f4d9bcce27117d09ca6932\":\"Start call\",\"1_5e86ca443695bbd6605bcd169ee35a74\":\"Group updates\",\"1_5f0a4852946206863aa44a9ec3f87708\":\"Send to group\",\"1_60a7a58934bd27cbaf2058b53ff745f6\":\"Leave game\",\"1_60eb52f4ce4a109523fbfa8e90244331\":\"Live location\",\"1_617aeb029449c78895903ece88034b31\":\"Show picture-in-picture\",\"1_61cb9f934ffb6b5f8cc4cb95757125d4\":\"Invalid time\",\"1_6315107c7594ac961c8dac9aabbb957a\":\"Add to her picture\",\"1_64b1b9a14a334d3cce48f22f2b03e7c2\":\"Not now\",\"1_6544e705bd98780c45018863ca564aa1\":\"Block messages\",\"1_6582285731ad9288ac97889beeca82f3\":\"Avatar settings\",\"1_66402d631b18879269b46a49f95a0a4e\":\"Noise suppression\",\"1_6689492f38a51b5cb39982dd8a0e7f00\":\"Account details\",\"1_678bfb1d36a580695ccbb699c8fd1bd2\":\"Logging in\\u2026\",\"1_6795cc13b37b3be61a143c35c9c65382\":\"Recently shared\",\"1_6a9a0529abd169ff91b49b4022dbf5a5\":\"Buy and sell groups\",\"1_6b124b9a53cd1299ad43ceef50dcd0e2\":\"Unread chats\",\"1_6d2f04c835bd2e9e555649e2f121fd5f\":\"Introducing AI stickers\",\"1_6dc5cc58c44e3791e14cdb69816e8a3f\":\"Product catalog terms\",\"1_6ec9c14f5b6103937c24960c6ae37947\":\"SMS messages\",\"1_7008293f762c6b49632496bd6aad21ff\":\"Suggested chats\",\"1_70190249ea4fa344ffbe77fd48af796f\":\"Pause chat?\",\"1_701d063f9d93574540e7a4aa27d2f86d\":\"Message reactions\",\"1_7052e2f38bec805609d7986562d34ed0\":\"Your reactions\",\"1_72920428a45b969c9dad788a656c323c\":\"Skip to details and actions\",\"1_7341e8b3089e0af586ed3b9682c2b5cf\":\"View call\",\"1_73761caf2fde503928bfdbd48c983136\":\"See conversation?\",\"1_7808c5327cf430807c173fa11ac0cc26\":\"Learn more\",\"1_7930f1b92ced21f16265c1ab07265964\":\"Chats you can join\",\"1_7bf132b7beb84dbc96f9cc6a1caef3a3\":\"Last name\",\"1_7c5789ad7c9455a96fa0b8d3edaf1dd0\":\"View profile\",\"1_7e3e738782f1887fbcebca5e62902a72\":\"See group\",\"1_7f626e74849fb5ad4a61825532fb6054\":\"Confirm your identity\",\"1_801af62106d995c8b376a512e2146039\":\"Block messages\",\"1_806d0518a4e1e599c196185438e2b79c\":\"Change image\",\"1_83a0754dbad2db42dcbe0e8900e6b48a\":\"AI-assisted message\",\"1_84698e2e6128e955605ddff2615c2771\":\"In transit\",\"1_88b60e4824d116c36468b700b6287e2f\":\"Your location\",\"1_8a1749bf031ab122983b76b370a86be3\":\"Learn more\",\"1_8bc33223ef4caf9b437b812c2772d946\":\"Create poll\",\"1_8c84ed97d7d84a31c72b1c75300a9461\":\"Delete chat?\",\"1_8dea727922641bc0de681cb214274b2f\":\"View AR object\",\"1_8e82c5b24398a0887342f439b66ce8c3\":\"{user}'s location\",\"1_8ea29d4da797ad3ae8fa2b3626b2a50c\":\"Disabled chat\",\"1_8ef9ffb962319c095470bb46de00beaa\":\"Current location\",\"1_9025bb6bcf560d6de6cfd22af6eaec97\":\"All chats menu\",\"1_9050fb0878cf1e782d24779cf780114c\":\"Recent calls\",\"1_91d783db2fb886ee4801ae5e0a86e04c\":\"Channel admin\",\"1_92255cd3d8f183d6dcb03b606a3445c2\":\"Recent searches\",\"1_925dfeb7269a4b97e5035aede422151c\":\"Upload contacts\",\"1_92b1a4d18dca5da9ac47d17733885fc2\":\"How to add friends on Messenger Kids\",\"1_93183c880d14f092e5d9617d9a246a74\":\"Read receipts\",\"1_939fba302a75b306e132ccb37e09a148\":\"Ignore group\",\"1_944401d1748eeaa9a66e62241477695e\":\"View details\",\"1_948415d2b551fa7c8b50376738732e5b\":\"Community members\",\"1_9626d7ac31beaf24bbd48f4842bf4744\":\"{num_activities} activities\",\"1_9645bee1f9dba4ee355d68df18cb1102\":\"Contact card\",\"1_96cc0d1d8acdfbcc9fe4623a53183f99\":\"No more posts\",\"1_983e4f9e7f9ecfdb8a2d0aa8247942de\":\"More conversations\",\"1_99dd31ad1b3145dfb03b7b4b097f28d5\":\"Send current location\",\"1_9ed1ff8f2501b81918e505f6e17fd362\":\"Send separately\",\"1_a1195adc52046789d21a0ae117244224\":\"Creating poll\",\"1_a12b852de26a50e5b6986edc7fa2705e\":\"Account created\",\"1_a2ed1fddb5b17414f3b7941385713361\":\"Suggested people\",\"1_a3d27f40032c3217f0934bcd46d52392\":\"Learn more\",\"1_a3f05430c2d2c4a7949a503649a0941d\":\"4 things to know about your information\",\"1_a4694c6ccbc990026015c70c944fe25e\":\"Cover photo\",\"1_a64a04c8ea9a8cf38124918e78c71b60\":\"You've blocked this account.\",\"1_a7a430455b6aaba0be1cf776314c8e70\":\"Learn more\",\"1_a7e141af65d2cd2dc972d3c094d2ce4f\":\"Charge your Bluetooth keys regularly.\",\"1_a8fd7153d9fbad9cece5913d6268813c\":\"Voice and video calling\",\"1_a96a641ba1f4b43910fab6d1b55c9b17\":\"Not now\",\"1_a9c08e1b18c1bceb358a7bf4a1aee0aa\":\"View profile\",\"1_ab80b68f0048ce8515584d069d120405\":\"Submit a report\",\"1_abd30739736c002c9a49c782066cbe86\":\"Save changes\",\"1_add682c72addd3a0d8b6fcab3720aadc\":\"Turn on\",\"1_aeb4b99dd7b73001a4f730b4a9120e04\":\"Try again\",\"1_aec2472fe4a2eaccb817d6111a4c0d39\":\"Video call\",\"1_af9c98d11efedfee4f1301601a67874a\":\"Double knock\",\"1_afc0eae78aa06ac4e92bf98ac3a03177\":\"Ignore group\",\"1_b0308bd1c93ff21594fabd353bda0a2a\":\"Red\\/green\",\"1_b14ffeb649c54cac70fe09d9f7780889\":\"Open sticker, emoji and GIF keyboard.\",\"1_b22b6c4a8dd3ff71f35d007751cd87b0\":\"Get the Messenger app\",\"1_b2cea7ff1ee86133589fc73e5f2f3f9d\":\"You can turn this off at any time in your Parent Dashboard.\",\"1_b32cee1f96ea285d99c5ca73d4eb725f\":\"Date of birth\",\"1_b3dd269103f0d9b89d9bdb677dbd8887\":\"Invalid link\",\"1_b3ecf06a63fd5147cac3c083201ac7eb\":\"Data saver\",\"1_b42224e77c208d4ee532f212f5fe7a47\":\"Learn more\",\"1_b449f7098ace13c92ffc9bb9d5a5bb6f\":\"Live description (optional)\",\"1_b45945f81d03ceaf6f9441f2eeeec891\":\"Contact us\",\"1_b4c7d1e15b39ef2c3956027bb4d6cd11\":\"Placed on {date} \\u00b7 Canceled\",\"1_b6392edec7f022a20e9867eb0b24de7b\":\"Featured Facebook photos\",\"1_b6f50b519cec90102cc5b62361a81288\":\"Mute notifications\",\"1_b81d470fc8105e7a7896e7cffb0ceeed\":\"Add contact\",\"1_b9143060878dce3a509e6bc2548b82f2\":\"Search for adults\",\"1_b997548b5fdd3a2dee73c3392135d911\":\"{number} invited by you\",\"1_ba4838bc3349d125cfb867715cada2f9\":\"Update build\",\"1_bbc5d4c00b66cc87bd1e6f8ab51fc102\":\"Call with video\",\"1_bbd9c674819da6d44ca09fa575180083\":\"Videos to send\",\"1_bc1a68f2efbc9ac36f13fe05f5d65e51\":\"Unmute notifications\",\"1_bc5ed53c58ed1544e3e014e9d7dee341\":\"Creating community\",\"1_bf841bb55b37d0620ef1b2bea096b95f\":\"You waved at {$recipient}.\",\"1_bfbf4cbd94a30fe78e2c6243fbaedb73\":\"No internet connection\",\"1_bfef0efc933e18bc735d53351af694e0\":\"Photos to send\",\"1_c174849dd6b0df72ce6c611bda774209\":\"Add option\",\"1_c21bf170fea995d887a6b64c13639323\":\"Double pop\",\"1_c6f4d12c2c30c1986800afdd50f373cd\":\"Preview chat\",\"1_c794c37e69d7f325e9a433f02ba8790b\":\"Message requests\",\"1_c8077b6c0597db47a0485bc0f32e9980\":\"Your avatar\",\"1_c921177d0d05ed9c9b95487f15422056\":\"Delete channel\",\"1_c94482ebd9b72b746183c50a4d4208d6\":\"Send a like\",\"1_cb73b265ac209451363883bed772c9bb\":\"Play together\",\"1_cc78ccf039dccf8d1dea818b85eab80d\":\"More people\",\"1_cd6b327676433f7b3c3515f206c0b82a\":\"{phone_number} \\u2022 Phone contact\",\"1_cdc01fc97f5a6cf6ba07c7bcc4fe11e1\":\"Add question\",\"1_cde9138094eb836637af973172431d53\":\"{name1} wants to add {lastPendingKifTargetName} as a friend\",\"1_ce3d72055f43aaf90d886ab0017ca08c\":\"Recent articles\",\"1_cef77356ede0b83cf0465641b0719a42\":\"Problem with Bluetooth or audio source\",\"1_d29c32cd116f7833d1f496f064788d8c\":\"Report someone in this chat\",\"1_d3e1e228c31890a4aba20db8d31fd323\":\"Notification control\",\"1_d7bbd024b73557f1cf0914a38113498d\":\"Block messages\",\"1_d8de8ea2ef707a7aace4a752b147d8f1\":\"Mark as read\",\"1_d9f5379b09800045f33f218dc5408f64\":\"Welcome message\",\"1_dbd60e7eb18c870f9603d90f44f244ab\":\"Group chats\",\"1_dc6a01243c06b93a27cbe6c6d6c795f3\":\"Camera roll\",\"1_dcabb4806e92c408bd735494ddd92a6c\":\"Draw a necklace\",\"1_dee291c2ba2b66491a65be6138906278\":\"Hidden group\",\"1_df45795d00cab7a89a5557f9a392a7b2\":\"You opened this chat from {Origin Domain}\",\"1_df57e221cb0b224e5a0090f7dcef6677\":\"Forward limit reached\",\"1_df848a5c2d023027ac455f8321243645\":\"Report buyer\",\"1_e11f9f6dcd24ac5786c0eb8ff1851e1b\":\"Update information?\",\"1_e12cc3ec2ab93b6916804e5e1f6a336f\":\"Add to story\",\"1_e146ca287d980280ff6dabc5d32b2713\":\"Leave conversation?\",\"1_e250ac43039a943db6bd1855c02f6c39\":\"Learn more\",\"1_e27604669dde9743f8c4a735e650e5a6\":\"Thanks for being a superstar in this chat!\",\"1_e57e0918dc3eb089646890b6bb915dc0\":\"Choose kids for {name1}, {name2} and {name count} others to chat with\",\"1_e7861583dd9505c6c9a5dd36aca38d3b\":\"Unblock messages\",\"1_e809c2825e3b050976f7ca22f1532032\":\"Faster messaging\",\"1_e8d7d977b19c2aa1894496a663c986dc\":\"Blue\\/yellow\",\"1_ea8ff502404e09cf262e602989d843d8\":\"Go to recent chats\",\"1_eceb9aa9398269f52436f1a1a7ee41b4\":\"Send to group\",\"1_ee9abb17ff7ad017ae988a02f8f5beae\":\"Top friends\",\"1_eec0e983014426e06f0c4077e7333275\":\"Unblock messages?\",\"1_ef4b4300b7a1f0319566068f5568c938\":\"Updating poll\",\"1_f165e0191456b0373edec046de3290d5\":\"Active now\",\"1_f2010c43a90ee7c3b7d6d3cab66ef06e\":\"Social networking\",\"1_f33ba2aba991e0820ccfef1ac81c4c14\":\"Recommended communities\",\"1_f580546da084946da3d6f61e3cc636da\":\"Channel settings\",\"1_f5d924ee511bdbc00c3dd05a10fe8260\":\"Please update your app\",\"1_f816fc32554f392be8655ee6db8f7dd5\":\"Continue with PayPal\",\"1_f90fb65f92ad8ac33f140b8be3c9eed1\":\"Invalid file format\",\"1_f919ada00521135434fd084a87e64542\":\"Add photos\",\"1_fa663c0ee32eeae58fd133765c35f905\":\"Learn more\",\"1_fba7ed548a73364cce9a2ad6e168b798\":\"Audio call\",\"1_fd3afb0fabe31263a19dac9f61fb0d4f\":\"Look up info\",\"1_fd7ada49a7f6f2ab82454ec27b9c6725\":\"Couldn't remove message\",\"1_fdf2eec743eaf4ee4b25a683f71525c6\":\"Add a profile picture\",\"1_fe84ad51b794fd555ef027662cbb6f2e\":\"Event creation\",\"1_ff1c542ee2c5bb59ee27ade5e7e52cb4\":\"Resume chats\",\"1_ff6b115a8a131f9f1b4b8c9c80ec38d4\":\"For families\",\"1_01f3beddbcd5491063fd7587b0785fd7\":\"Video call is full\",\"1_0bb657a03fcace8be70ff1c092b35b62\":\"Forward limit reached\",\"1_12213f25a4e94520a59b51c3d565edf1\":\"Date of birth\",\"1_12d2f816058bda88b9f56cd9dedd5e16\":\"You can turn this off at any time in your Parent Dashboard.\",\"1_138bdbd67af3b9c9d4cdd6c8cc8708a2\":\"Something went wrong\",\"1_183c5e431133dafadb40a2627c25432d\":\"Something's wrong\",\"1_1d0e61a46a120591d790f382f91f9c99\":\"Search for adults\",\"1_23423f479668dd06c46036d8f37edf9a\":\"You opened this chat from {Origin Domain}\",\"1_2882107be72d37df895b05e0573990a6\":\"Unblock messages?\",\"1_2b99f4eb0d10fb2a590c91881bc93620\":\"Can't create duplicate account\",\"1_2dfe4f010e821ffa89d9c4133df72506\":\"Problem with Bluetooth or audio source\",\"1_2e510be3887bae0dd4d73733dffa6ec4\":\"{firstname1}, {firstname2} and {firstname3} are online\",\"1_2e9405cf33a60079eba08f7433c66595\":\"Unable to connect your call\",\"1_2feb150fdf16fe534e635fa1143a7508\":\"No devices yet\",\"1_31426213a5556e794c313d21dbeceb6b\":\"Turn on\",\"1_3bce071d20c866b7a915136c01c2a17f\":\"Remove from channel\",\"1_3e252ef60c34f4c269a640aedaaf9a91\":\"Recent calls\",\"1_4323029c4a9559df6910965a98e5f7ee\":\"Customize your chat with {short-name}.\",\"1_441e2b39aa374ab1c0a622f1b6e7fc94\":\"Delete {Account Name}'s Messenger Kids account\",\"1_4994c24b8d4dddbbef04db4ac77b8bcc\":\"Link privacy\",\"1_49d7f78ceda6bf498723e714f09ab445\":\"Thanks for being a superstar in this chat!\",\"1_5281d15cd9033cfae6f25bbfb95f2a84\":\"Add people\",\"1_55329bd3473ce3a2df9059b20779a464\":\"My preview\",\"1_55d8b31242e3dd713affa2d9c303ca18\":\"Open camera settings menu\",\"1_57095066a5af6f37f159d7a7bcc474b4\":\"Settings > Add a new device\",\"1_572460b539878eceb021da6f0ba4ad27\":\"Search in conversation\",\"1_588c13ae9c29e4cad57ff0623473419b\":\"You can't message this group\",\"1_59e4d389c284d58c6a7006f6b0562811\":\"Photo reminders\",\"1_5a928f58cc901c2f036154287466ac52\":\"AI-assisted message\",\"1_5af74bfaddbfdad2526294491119b1ac\":\"Call notifications\",\"1_5b15ff8357f34309683c127f15840806\":\"Chat plugin\",\"1_5b4abffee3f305389a50710f7d485df8\":\"Introducing AI stickers\",\"1_5db467841ea204babe44c0bb4275c013\":\"Message sent\",\"1_5dbfacce1399e2f5cb7a6380beba0d09\":\"This may take a moment...\",\"1_67045d680945154400cf43a419e4ff9b\":\"Please update your app\",\"1_6831028223b7159f4a16a762309aeda5\":\"Invite with a link\",\"1_68667c64d4e948188b48f13c7b8324c0\":\"Open Facebook app\",\"1_69b4fbe4cc084fbff4fcf68d2f9d5fed\":\"Charge your Bluetooth keys regularly.\",\"1_6cd66115c7adbd7d8d450aaa8a5015d9\":\"Contact phone number\",\"1_74630a0214a11fa5068b0655daafe2de\":\"Facebook user\",\"1_752a4442f6eb09a9c79427caefd174c5\":\"4 things to know about your information\",\"1_76f971d0cf5dc8a40e43aa6592bf6015\":\"{num_activities} activities\",\"1_79cb46c945b63a0e9c8bd77518fd38f0\":\"Add a profile picture\",\"1_7a4acef2efaf880fb516077a756bea63\":\"Image ID not returned.\",\"1_8842669d806d74dfddee6ca515f2d8db\":\"Look up info\",\"1_8c442034b2e9c1bcc394eb6907b1d510\":\"You'll need to log in with Workplace to continue this video chat.\",\"1_92469592130a0e85a5e996fa12296099\":\"Account details\",\"1_9dbc389a7657e7c498fe3cd2e8c903b9\":\"Messenger preview\",\"1_a02773f3eb15c1a027aacc96b97f526f\":\"Invalid link\",\"1_a2a5724aff5a7cca2d69a4e30e754431\":\"Open System Preferences, then use the Security & Privacy controls to grant Workplace Chat access to the camera and microphone. You may need to restart the app for the settings to be applied.\",\"1_aa3f089a4051c1e5ed29b0473ecb462c\":\"Last name\",\"1_aa408b4afeb14b97cfcc9915842b0b00\":\"Confirm your identity\",\"1_aa542254b59b7d679b6fdb93590402d3\":\"Show picture-in-picture\",\"1_b2fcaaf664421e83c164b2db208e6c2b\":\"Dance party\",\"1_bac81400de6624c1e42b308333c30946\":\"Move to grid\",\"1_beebce762afa64542777f56c09d80178\":\"How to add friends on Messenger Kids\",\"1_c0a187c52a5eda47cc616d9da9d48264\":\"This lets you play Apple Music tracks, add tracks to your music library and more.\",\"1_c0bf6a1e1c71e84db2d85d977ea0352c\":\"You asked to chat with {name1}.\",\"1_c470052944bf04f16919dc993025b1f3\":\"Send separately\",\"1_c65fba5a9f5914e3837eddb303417521\":\"Placed on {date} \\u00b7 Canceled\",\"1_c70d03f023ad810666fb2b89f962b34f\":\"Blue\\/yellow\",\"1_c995f1a5f939c822beefb3ff278bf59c\":\"Thanks for being a superstar in this chat!\",\"1_cd4fecb8aead25c0effd4ac632f98755\":\"Cut over this chat to E2EE\",\"1_d138dd68d66991762d0960a448c9dbf1\":\"Chat members\",\"1_d2306e12f55ac0dad00099ff94a9ecce\":\"Install Workplace Chat audio sharing software?\",\"1_d2abcef26824c99a9b7b66ebfd5b36a8\":\"Manage folders\",\"1_d47fd6e064b6d1afcb5e5d3674dff1e2\":\"Start chatting\",\"1_d757e02fa81fb3f8bb93135f107c6516\":\"Test speaker\",\"1_db1d708e4daa1d62b46287504eae8acc\":\"This video can't be sent\",\"1_df5b853bbb16433e2ce5f781de7d297b\":\"Squad hang\",\"1_e4cad6566ee6fa7548d52ba7824506c0\":\"Remove address\",\"1_e67d8767d558befbca8c04d5b99d91d9\":\"Draw a necklace\",\"1_e811fc5925e4dcd78c046551cb24e889\":\"This chat will show as unread\",\"1_ed32b0c87ff94ede7145d9b17ba192ba\":\"View {remainingCount} more photos\",\"1_ee45d6f16d585bfe6cebb6800c4822d4\":\"Add to her picture\",\"1_f5bffa9a6c448e63ca61155760dca5fd\":\"No messages\",\"1_f6ffd6ae71c283f8aec7c7bc2cbfa289\":\"Open audio device selector menu\",\"1_fc4f960e763c5eedcbf5c27cf0411d4b\":\"{name1} wants to add {lastPendingKifTargetName} as a friend\",\"1_fe319617901612fc3c881e2d69ade21d\":\"Choose kids for {name1}, {name2} and {name count} others to chat with\"}},551],[\"DateFormatConfig\",[],{\"numericDateOrder\":[\"m\",\"d\",\"y\"],\"numericDateSeparator\":\"\\/\",\"shortDayNames\":[\"Mon\",\"Tue\",\"Wed\",\"Thu\",\"Fri\",\"Sat\",\"Sun\"],\"narrowDayNames\":[\"M\",\"T\",\"W\",\"T\",\"F\",\"S\",\"S\"],\"timeSeparator\":\":\",\"weekStart\":6,\"formats\":{\"D\":\"D\",\"D g:ia\":\"D g:ia\",\"D M d\":\"D M d\",\"D M d, Y\":\"D M d, Y\",\"D M j\":\"D M j\",\"D M j, g:ia\":\"D M j, g:ia\",\"D M j, y\":\"D M j, y\",\"D M j, Y g:ia\":\"D M j, Y g:ia\",\"D, M j, Y\":\"D, M j, Y\",\"F d\":\"F d\",\"F d, Y\":\"F d, Y\",\"F g\":\"F g\",\"F j\":\"F j\",\"F j, Y\":\"F j, Y\",\"F j, Y \\u0040 g:i A\":\"F j, Y \\u0040 g:i A\",\"F j, Y g:i a\":\"F j, Y g:i a\",\"F jS\":\"F jS\",\"F jS, g:ia\":\"F jS, g:ia\",\"F jS, Y\":\"F jS, Y\",\"F Y\":\"F Y\",\"g A\":\"g A\",\"g:i\":\"g:i\",\"g:i A\":\"g:i A\",\"g:i a\":\"g:i a\",\"g:iA\":\"g:iA\",\"g:ia\":\"g:ia\",\"g:ia F jS, Y\":\"g:ia F jS, Y\",\"g:iA l, F jS\":\"g:iA l, F jS\",\"g:ia M j\":\"g:ia M j\",\"g:ia M jS\":\"g:ia M jS\",\"g:ia, F jS\":\"g:ia, F jS\",\"g:iA, l M jS\":\"g:iA, l M jS\",\"g:sa\":\"g:sa\",\"H:I - M d, Y\":\"H:I - M d, Y\",\"h:i a\":\"h:i a\",\"h:m:s m\\/d\\/Y\":\"h:m:s m\\/d\\/Y\",\"j\":\"j\",\"l F d, Y\":\"l F d, Y\",\"l g:ia\":\"l g:ia\",\"l, F d, Y\":\"l, F d, Y\",\"l, F j\":\"l, F j\",\"l, F j, Y\":\"l, F j, Y\",\"l, F jS\":\"l, F jS\",\"l, F jS, g:ia\":\"l, F jS, g:ia\",\"l, M j\":\"l, M j\",\"l, M j, Y\":\"l, M j, Y\",\"l, M j, Y g:ia\":\"l, M j, Y g:ia\",\"M d\":\"M d\",\"M d, Y\":\"M d, Y\",\"M d, Y g:ia\":\"M d, Y g:ia\",\"M d, Y ga\":\"M d, Y ga\",\"M j\":\"M j\",\"M j, Y\":\"M j, Y\",\"M j, Y g:i A\":\"M j, Y g:i A\",\"M j, Y g:ia\":\"M j, Y g:ia\",\"M jS, g:ia\":\"M jS, g:ia\",\"M Y\":\"M Y\",\"M y\":\"M y\",\"m-d-y\":\"m-d-y\",\"M. d\":\"M. d\",\"M. d, Y\":\"M. d, Y\",\"j F Y\":\"j F Y\",\"m.d.y\":\"m.d.y\",\"m\\/d\":\"m\\/d\",\"m\\/d\\/Y\":\"m\\/d\\/Y\",\"m\\/d\\/y\":\"m\\/d\\/y\",\"m\\/d\\/Y g:ia\":\"m\\/d\\/Y g:ia\",\"m\\/d\\/y H:i:s\":\"m\\/d\\/y H:i:s\",\"m\\/d\\/Y h:m\":\"m\\/d\\/Y h:m\",\"n\":\"n\",\"n\\/j\":\"n\\/j\",\"n\\/j, g:ia\":\"n\\/j, g:ia\",\"n\\/j\\/y\":\"n\\/j\\/y\",\"Y\":\"Y\",\"Y-m-d\":\"Y-m-d\",\"Y\\/m\\/d\":\"Y\\/m\\/d\",\"y\\/m\\/d\":\"y\\/m\\/d\",\"j \\/ F \\/ Y\":\"j \\/ F \\/ Y\"},\"ordinalSuffixes\":{\"1\":\"st\",\"2\":\"nd\",\"3\":\"rd\",\"4\":\"th\",\"5\":\"th\",\"6\":\"th\",\"7\":\"th\",\"8\":\"th\",\"9\":\"th\",\"10\":\"th\",\"11\":\"th\",\"12\":\"th\",\"13\":\"th\",\"14\":\"th\",\"15\":\"th\",\"16\":\"th\",\"17\":\"th\",\"18\":\"th\",\"19\":\"th\",\"20\":\"th\",\"21\":\"st\",\"22\":\"nd\",\"23\":\"rd\",\"24\":\"th\",\"25\":\"th\",\"26\":\"th\",\"27\":\"th\",\"28\":\"th\",\"29\":\"th\",\"30\":\"th\",\"31\":\"st\"}},165],[\"InitialCookieConsent\",[],{\"deferCookies\":false,\"initialConsent\":[1,2],\"noCookies\":false,\"shouldShowCookieBanner\":false,\"shouldWaitForDeferredDatrCookie\":true,\"optedInIntegrations\":[\"adobe_marketo_rest_api\",\"blings_io_video\",\"chili_piper_api\",\"cloudfront_cdn\",\"giphy_media\",\"google_ads_pixel_frame_legacy\",\"google_ads_pixel_img_legacy\",\"google_ads_pixel_legacy\",\"google_ads_remarketing_tag\",\"google_ads_services\",\"google_analytics_4_tag\",\"google_analytics_img\",\"google_cached_img\",\"google_double_click_loading\",\"google_double_click_redirecting\",\"google_double_click_uri_connect\",\"google_double_click_uri_frame\",\"google_double_click_uri_img\",\"google_fonts\",\"google_fonts_font\",\"google_maps\",\"google_paid_ads_frame\",\"google_paid_ads_img\",\"google_translate\",\"google_universal_analytics_legacy\",\"google_universal_analytics_legacy_img\",\"google_universal_analytics_legacy_script\",\"jio\",\"linkedin_insight\",\"linkedin_insight_img\",\"mapbox_maps_api\",\"medallia_digital_experience_analytics\",\"microsoft_exchange\",\"nytimes_oembed\",\"reachtheworld_s3\",\"soundcloud_oembed\",\"spotify_oembed\",\"spreaker_oembed\",\"ted_oembed\",\"tenor_api\",\"tenor_images\",\"tenor_media\",\"tiktok_oembed\",\"twitter_analytics_pixel\",\"twitter_analytics_pixel_img\",\"twitter_legacy_embed\",\"vimeo_oembed\",\"youtube_embed\",\"youtube_oembed\",\"advertiser_hosted_pixel\",\"airbus_sat\",\"amazon_media\",\"apps_for_office\",\"arkose_captcha\",\"aspnet_cdn\",\"autodesk_fusion\",\"bing_maps\",\"bing_widget\",\"boku_wallet\",\"bootstrap\",\"box\",\"cardinal_centinel_api\",\"chromecast_extensions\",\"cloudflare_cdnjs\",\"cloudflare_datatables\",\"cloudflare_relay\",\"conversions_api_gateway\",\"demandbase_api\",\"digitalglobe_maps_api\",\"dlocal\",\"dropbox\",\"esri_sat\",\"facebook_sdk\",\"fastly_relay\",\"gmg_pulse_embed_iframe\",\"google_ads_conversions_tag\",\"google_drive\",\"google_fonts_legacy\",\"google_hosted_libraries\",\"google_oauth_api\",\"google_oauth_api_v2\",\"google_recaptcha\",\"here_map_ext\",\"hive_streaming_video\",\"iproov\",\"isptoolbox\",\"jquery\",\"js_delivr\",\"kbank\",\"mathjax\",\"meta_pixel\",\"metacdn\",\"microsoft_excel\",\"microsoft_office_addin\",\"microsoft_onedrive\",\"microsoft_speech\",\"microsoft_teams\",\"mmi_tiles\",\"open_street_map\",\"paypal_billing_agreement\",\"paypal_oauth_api\",\"payu\",\"plaid\",\"platformized_adyen_checkout\",\"plotly\",\"pydata\",\"recruitics\",\"rstudio\",\"salesforce_lighting\",\"stripe\",\"team_center\",\"tripshot\",\"trustly_direct_debit_ach\",\"twilio_voice\",\"unifier\",\"unsplash_api\",\"unsplash_image_loading\",\"vega\",\"yoti_api\",\"youtube_oembed_api\",\"google_apis\",\"google_apis_scripts\",\"google_img\",\"google_tag\",\"google_uri_frame\",\"google_uri_script\"],\"hasGranularThirdPartyCookieConsent\":true,\"exemptedIntegrations\":[\"advertiser_hosted_pixel\",\"airbus_sat\",\"amazon_media\",\"apps_for_office\",\"arkose_captcha\",\"aspnet_cdn\",\"autodesk_fusion\",\"bing_maps\",\"bing_widget\",\"boku_wallet\",\"bootstrap\",\"box\",\"cardinal_centinel_api\",\"chromecast_extensions\",\"cloudflare_cdnjs\",\"cloudflare_datatables\",\"cloudflare_relay\",\"conversions_api_gateway\",\"demandbase_api\",\"digitalglobe_maps_api\",\"dlocal\",\"dropbox\",\"esri_sat\",\"facebook_sdk\",\"fastly_relay\",\"gmg_pulse_embed_iframe\",\"google_ads_conversions_tag\",\"google_drive\",\"google_fonts_legacy\",\"google_hosted_libraries\",\"google_oauth_api\",\"google_oauth_api_v2\",\"google_recaptcha\",\"here_map_ext\",\"hive_streaming_video\",\"iproov\",\"isptoolbox\",\"jquery\",\"js_delivr\",\"kbank\",\"mathjax\",\"meta_pixel\",\"metacdn\",\"microsoft_excel\",\"microsoft_office_addin\",\"microsoft_onedrive\",\"microsoft_speech\",\"microsoft_teams\",\"mmi_tiles\",\"open_street_map\",\"paypal_billing_agreement\",\"paypal_oauth_api\",\"payu\",\"plaid\",\"platformized_adyen_checkout\",\"plotly\",\"pydata\",\"recruitics\",\"rstudio\",\"salesforce_lighting\",\"stripe\",\"team_center\",\"tripshot\",\"trustly_direct_debit_ach\",\"twilio_voice\",\"unifier\",\"unsplash_api\",\"unsplash_image_loading\",\"vega\",\"yoti_api\",\"youtube_oembed_api\"]},4328],[\"WebDevicePerfClassData\",[],{\"deviceLevel\":\"unknown\",\"yearClass\":null},3665],[\"AnalyticsCoreData\",[],{\"device_id\":\"$^|AcaKjrF6q3y-eNZw4WAZQjdu69EbPd98srU2dzpU-LuU8oJhPrWcE4oBccN0rRZuS5HixS-bGZ9MfDDqpcV58jQ2vw|fd.AcYLv3PPhXHaLMVTgcyyNno3OvikMvALUuqgsbP4aKLNDY3gwkNmf9ZrrA2IWaz-wfV-LgfM7Td77mS2s76Hzyp-\",\"app_id\":\"2220391788200892\",\"enable_bladerunner\":false,\"enable_ack\":true,\"push_phase\":\"C3\",\"enable_observer\":false,\"enable_cmcd_observer\":false,\"enable_dataloss_timer\":false,\"enable_fallback_for_br\":true,\"queue_activation_experiment\":false,\"max_delay_br_queue\":60000,\"max_delay_br_queue_immediate\":3,\"max_delay_br_init_not_complete\":3000,\"consents\":{},\"app_universe\":1,\"br_stateful_migration_on\":true,\"enable_non_fb_br_stateless_by_default\":false,\"use_falco_as_mutex_key\":false,\"is_intern\":false,\"enable_session_id_bug_fix\":true},5237]],\"require\":[[\"CometPrelude\"],[\"JSScheduler\"],[\"ServerJS\"],[\"ScheduledApplyEach\"],[\"CometResourceScheduler\"],[\"LegalPolicyRoot.react\"],[\"LegalPolicyRoot.entrypoint\"],[\"CometPlatformRootClient\",\"initialize\",[\"PrivacyCenterCometRootConfig\",\"RequireDeferredReference\"],[{\"ConfigOrBuilder\":{\"__m\":\"PrivacyCenterCometRootConfig\"},\"backgroundRouteInfo\":{\"route\":null,\"timeSpentMetaData\":null},\"additional_roots\":[],\"client_id\":\"7478941353118175553\",\"rootElementID\":\"mount_0_0_lE\",\"expectedPreloaders\":null,\"initialRouteInfo\":{\"route\":{\"actorID\":\"0\",\"rootView\":{\"allResources\":[{\"__dr\":\"LegalPolicyRoot.react\"},{\"__dr\":\"LegalPolicyRoot.entrypoint\"}],\"resource\":{\"__dr\":\"LegalPolicyRoot.react\"},\"props\":{\"policy_type\":\"META_TERMS_OF_SERVICE\"},\"entryPoint\":{\"__dr\":\"LegalPolicyRoot.entrypoint\"}},\"tracePolicy\":\"comet.pc.policy\",\"meta\":{\"title\":\"Meta Terms of Service\",\"accessory\":null,\"favicon\":null},\"prefetchable\":true,\"canonicalRouteName\":\"comet.facebookprivacycenter.CometLegalPolicyRoute\",\"entityKeyConfig\":{\"entity_type\":{\"source\":\"constant\",\"value\":\"policy\"},\"entity_id\":{\"source\":\"prop\",\"value\":\"policy_type\"},\"section\":{\"source\":\"param\",\"value\":\"section_id\"}},\"hostableView\":{\"allResources\":[{\"__dr\":\"LegalPolicyRoot.react\"},{\"__dr\":\"LegalPolicyRoot.entrypoint\"}],\"resource\":{\"__dr\":\"LegalPolicyRoot.react\"},\"props\":{\"policy_type\":\"META_TERMS_OF_SERVICE\"},\"entryPoint\":{\"__dr\":\"LegalPolicyRoot.entrypoint\"}},\"url\":\"\\/terms?section_id=section_3\",\"params\":{\"annotations\":null,\"back_id\":null,\"section_id\":\"section_3\",\"subpage\":null,\"link_dialog\":null,\"policy_jurisdiction_session_override\":null,\"entry_point\":null,\"entry\":true,\"dialog_back\":false,\"story_page\":null,\"show_versions\":false,\"gk_enable\":null},\"routePath\":\"\\/terms\\/\"},\"timeSpentMetaData\":null},\"qplEvents\":{\"initial_load\":null,\"navigation\":null}}]],[\"Bootloader\",\"markComponentsAsImmediate\",[],[[\"CometKeyCommandWrapperDialog.react\",\"CometModifiedKeyCommandWrapperDialog.react\",\"FacebookCometCookieConsentDialogDataSettings.react\",\"CometCookieConsentLanguagesMenu.react\",\"InstagramCometCookieConsentDialogDataSettings.react\",\"WorkplaceCometCookieConsentDialogDataSettings.react\",\"WhatsAppHCCookieConsentDialogDataSettings.react\",\"CDSNativeSurveyDialog.react\",\"WorkAccountsCometCookieConsentDialogDataSettings.react\",\"CometErrorRoot.react\",\"WhatsAppHCCookieConsentLanguagesMenu.react\",\"PrivacyCenterRoutedDialogStepperRoot.react\",\"PrivacyCenterLimitPastPostsRoot.react\",\"PrivacyCenterAddToBlockedListRoot.react\",\"PrivacyCenterViewBlockedListRoot.react\",\"PrivacyCenterBooleanPrivacyControlRoot.react\",\"PrivacyCenterOutOfScopeDialogRoot.react\",\"FDSProfileVideoSection.react\",\"CometHovercardQueryRenderer.react\"]]],[\"RequireDeferredReference\",\"unblock\",[],[[\"LegalPolicyRoot.react\",\"LegalPolicyRoot.entrypoint\"],\"sd\"]],[\"RequireDeferredReference\",\"unblock\",[],[[\"LegalPolicyRoot.react\",\"LegalPolicyRoot.entrypoint\"],\"css\"]]]}},{\"__bbox\":{\"require\":[[\"qplTimingsServerJS\",null,null,[\"7478941353118175553\",\"tierOneBeforeScheduler\"]]]}},{\"__bbox\":{\"require\":[[\"qplTimingsServerJS\",null,null,[\"7478941353118175553\",\"tierOneInsideScheduler\"]]]}}]]]}</script>\n",
            "<script type=\"application/json\"  data-content-len=\"83\" data-sjs>{\"require\":[[\"qplTimingsServerJS\",null,null,[\"7478941353118175553\",\"tierOneEnd\"]]]}</script>\n",
            "\n",
            "<script type=\"application/json\"  data-content-len=\"80\" data-sjs>{\"require\":[[\"qplTimingsServerJS\",null,null,[\"7478941353118175553\",\"tierTwo\"]]]}</script>\n",
            "<script type=\"application/json\"  data-content-len=\"2427\" data-sjs>{\"require\":[[\"HasteSupportData\",\"handle\",null,[{\"clpData\":{\"1950676\":{\"r\":1,\"s\":1},\"1808128\":{\"r\":1,\"s\":1}},\"gkxData\":{\"24281\":{\"result\":false,\"hash\":null},\"24282\":{\"result\":false,\"hash\":null},\"24342\":{\"result\":false,\"hash\":null},\"22796\":{\"result\":true,\"hash\":null},\"23219\":{\"result\":false,\"hash\":null},\"10444\":{\"result\":false,\"hash\":null},\"2514\":{\"result\":false,\"hash\":null}},\"ixData\":{\"491221\":{\"sprited\":2,\"spi\":\"https:\\/\\/static.xx.fbcdn.net\\/rsrc.php\\/v4\\/yc\\/r\\/tyoHuP_teo8.png\",\"_spi\":\"https:\\/\\/static.xx.fbcdn.net\\/rsrc.php\\/v4\\/yc\\/r\\/tyoHuP_teo8.png\",\"w\":12,\"h\":12,\"p\":\"0 -1249px\",\"sz\":\"auto\"},\"491223\":{\"sprited\":2,\"spi\":\"https:\\/\\/static.xx.fbcdn.net\\/rsrc.php\\/v4\\/yc\\/r\\/tyoHuP_teo8.png\",\"_spi\":\"https:\\/\\/static.xx.fbcdn.net\\/rsrc.php\\/v4\\/yc\\/r\\/tyoHuP_teo8.png\",\"w\":20,\"h\":20,\"p\":\"0 -766px\",\"sz\":\"auto\"},\"547774\":{\"sprited\":2,\"spi\":\"https:\\/\\/static.xx.fbcdn.net\\/rsrc.php\\/v4\\/yc\\/r\\/tyoHuP_teo8.png\",\"_spi\":\"https:\\/\\/static.xx.fbcdn.net\\/rsrc.php\\/v4\\/yc\\/r\\/tyoHuP_teo8.png\",\"w\":16,\"h\":16,\"p\":\"0 -951px\",\"sz\":\"auto\"},\"547775\":{\"sprited\":2,\"spi\":\"https:\\/\\/static.xx.fbcdn.net\\/rsrc.php\\/v4\\/yc\\/r\\/tyoHuP_teo8.png\",\"_spi\":\"https:\\/\\/static.xx.fbcdn.net\\/rsrc.php\\/v4\\/yc\\/r\\/tyoHuP_teo8.png\",\"w\":20,\"h\":20,\"p\":\"0 -346px\",\"sz\":\"auto\"},\"648667\":{\"sprited\":2,\"spi\":\"https:\\/\\/static.xx.fbcdn.net\\/rsrc.php\\/v4\\/yc\\/r\\/tyoHuP_teo8.png\",\"_spi\":\"https:\\/\\/static.xx.fbcdn.net\\/rsrc.php\\/v4\\/yc\\/r\\/tyoHuP_teo8.png\",\"w\":12,\"h\":12,\"p\":\"0 -1262px\",\"sz\":\"auto\"},\"648669\":{\"sprited\":2,\"spi\":\"https:\\/\\/static.xx.fbcdn.net\\/rsrc.php\\/v4\\/yc\\/r\\/tyoHuP_teo8.png\",\"_spi\":\"https:\\/\\/static.xx.fbcdn.net\\/rsrc.php\\/v4\\/yc\\/r\\/tyoHuP_teo8.png\",\"w\":20,\"h\":20,\"p\":\"0 -871px\",\"sz\":\"auto\"},\"1948060\":{\"sprited\":2,\"spi\":\"https:\\/\\/static.xx.fbcdn.net\\/rsrc.php\\/v4\\/yZ\\/r\\/X7zCQU15K37.png\",\"_spi\":\"https:\\/\\/static.xx.fbcdn.net\\/rsrc.php\\/v4\\/yZ\\/r\\/X7zCQU15K37.png\",\"w\":16,\"h\":16,\"p\":\"0 -25px\",\"sz\":\"auto\"},\"801448\":{\"sprited\":2,\"spi\":\"https:\\/\\/static.xx.fbcdn.net\\/rsrc.php\\/v4\\/yZ\\/r\\/X7zCQU15K37.png\",\"_spi\":\"https:\\/\\/static.xx.fbcdn.net\\/rsrc.php\\/v4\\/yZ\\/r\\/X7zCQU15K37.png\",\"w\":24,\"h\":24,\"p\":\"0 0\",\"sz\":\"auto\"},\"869052\":{\"sprited\":2,\"spi\":\"https:\\/\\/static.xx.fbcdn.net\\/rsrc.php\\/v4\\/yU\\/r\\/artQUXn3lMk.png\",\"_spi\":\"https:\\/\\/static.xx.fbcdn.net\\/rsrc.php\\/v4\\/yU\\/r\\/artQUXn3lMk.png\",\"w\":24,\"h\":24,\"p\":\"0 0\",\"sz\":\"auto\"}},\"metaconfigData\":{\"89\":{\"value\":false},\"6\":{\"value\":false}},\"qexData\":{\"3295\":{\"r\":null}}}]]]}</script>\n",
            "<script type=\"application/json\"  data-content-len=\"32236\" data-sjs>{\"require\":[[\"Bootloader\",\"handlePayload\",null,[{\"consistency\":{\"rev\":1020679384},\"rsrcMap\":{\"+L0X93S\":{\"type\":\"js\",\"src\":\"https:\\/\\/static.xx.fbcdn.net\\/rsrc.php\\/v4i6BR4\\/y8\\/l\\/en_US\\/_lVFW5f8PmC.js\",\"c\":1,\"p\":\":45604\"},\"OJDxW8l\":{\"type\":\"js\",\"src\":\"https:\\/\\/static.xx.fbcdn.net\\/rsrc.php\\/v4iBIo4\\/yH\\/l\\/en_US\\/ChMQoly8xZa.js\",\"c\":1,\"p\":\":48\"},\"QXf\\/szZ\":{\"type\":\"js\",\"src\":\"https:\\/\\/static.xx.fbcdn.net\\/rsrc.php\\/v4\\/y4\\/r\\/VxVd75R326A.js\",\"c\":1,\"p\":\":478\"},\"AG9sedv\":{\"type\":\"js\",\"src\":\"https:\\/\\/static.xx.fbcdn.net\\/rsrc.php\\/v4\\/yg\\/r\\/scKvfZ09Mnd.js\",\"c\":1,\"p\":\":38\"},\"eEwUkrd\":{\"type\":\"js\",\"src\":\"https:\\/\\/static.xx.fbcdn.net\\/rsrc.php\\/v4i-7o4\\/yt\\/l\\/en_US\\/SqLlcZlmWyG.js\",\"c\":1,\"p\":\":627\"},\"gaps99d\":{\"type\":\"js\",\"src\":\"https:\\/\\/static.xx.fbcdn.net\\/rsrc.php\\/v4iQpj4\\/yS\\/l\\/en_US\\/tgnqGR_F81S.js\",\"c\":1,\"p\":\":45612\"},\"qLRmzXX\":{\"type\":\"js\",\"src\":\"https:\\/\\/static.xx.fbcdn.net\\/rsrc.php\\/v4iKvm4\\/yl\\/l\\/en_US\\/nQaKkqxx00d.js\",\"c\":1,\"p\":\":1069\"},\"RVKssya\":{\"type\":\"js\",\"src\":\"https:\\/\\/static.xx.fbcdn.net\\/rsrc.php\\/v4\\/yn\\/r\\/AiKDiMsE47B.js\",\"c\":1,\"p\":\":19\"},\"jDm3+Wr\":{\"type\":\"js\",\"src\":\"https:\\/\\/static.xx.fbcdn.net\\/rsrc.php\\/v4ia_94\\/y_\\/l\\/en_US\\/w4LqzPVi8TR.js\",\"c\":1,\"p\":\":187\"},\"eteNJWO\":{\"type\":\"js\",\"src\":\"https:\\/\\/static.xx.fbcdn.net\\/rsrc.php\\/v4\\/yz\\/r\\/xM0fc_upH6A.js\",\"c\":1,\"p\":\":215\"},\"rRqKgYw\":{\"type\":\"js\",\"src\":\"https:\\/\\/static.xx.fbcdn.net\\/rsrc.php\\/v4ir6y4\\/y8\\/l\\/en_US\\/pVESOOkri-T.js\",\"c\":1,\"p\":\":2635\"},\"W0DBkpE\":{\"type\":\"js\",\"src\":\"https:\\/\\/static.xx.fbcdn.net\\/rsrc.php\\/v4ieKI4\\/y9\\/l\\/en_US\\/aA3fiW534dU.js\",\"c\":1,\"p\":\":67\"},\"du17IWs\":{\"type\":\"js\",\"src\":\"https:\\/\\/static.xx.fbcdn.net\\/rsrc.php\\/v4\\/yu\\/r\\/qAveLtnTTG7.js\",\"c\":1,\"p\":\":41\"},\"aPg1wmC\":{\"type\":\"js\",\"src\":\"https:\\/\\/static.xx.fbcdn.net\\/rsrc.php\\/v4\\/yi\\/r\\/Rg2ccx3CrnY.js\",\"c\":1,\"p\":\":43\"},\"pMLPaDL\":{\"type\":\"js\",\"src\":\"https:\\/\\/static.xx.fbcdn.net\\/rsrc.php\\/v4\\/yn\\/r\\/aCN-pNyjW-7.js\",\"c\":1,\"p\":\":47\"},\"9LQ0lqW\":{\"type\":\"js\",\"src\":\"https:\\/\\/static.xx.fbcdn.net\\/rsrc.php\\/v4\\/ye\\/r\\/DUtoL2DP7cL.js\",\"c\":1,\"p\":\":45371\"},\"e+Z2z8X\":{\"type\":\"js\",\"src\":\"https:\\/\\/static.xx.fbcdn.net\\/rsrc.php\\/v4\\/yK\\/r\\/VNIcoFaMNVK.js\",\"c\":1,\"p\":\":45374\"},\"6c73AV9\":{\"type\":\"js\",\"src\":\"https:\\/\\/static.xx.fbcdn.net\\/rsrc.php\\/v4\\/yb\\/r\\/FDz1f3tM6ah.js\",\"c\":1,\"p\":\":45372\"},\"Ef5MYIW\":{\"type\":\"js\",\"src\":\"https:\\/\\/static.xx.fbcdn.net\\/rsrc.php\\/v4ipQZ4\\/yK\\/l\\/en_US\\/ZqgQOfGN02K.js\",\"c\":1,\"p\":\":1446\"},\"vdBdDEC\":{\"type\":\"js\",\"src\":\"https:\\/\\/static.xx.fbcdn.net\\/rsrc.php\\/v4\\/yw\\/r\\/QB9o600O0Be.js\",\"c\":1,\"p\":\":1105\"},\"F0NuMGP\":{\"type\":\"js\",\"src\":\"https:\\/\\/static.xx.fbcdn.net\\/rsrc.php\\/v4iG624\\/yW\\/l\\/en_US\\/vtFdd-TVxH5.js\",\"c\":1,\"p\":\":30463\"},\"WcQq+zk\":{\"type\":\"js\",\"src\":\"https:\\/\\/static.xx.fbcdn.net\\/rsrc.php\\/v4ijE74\\/yj\\/l\\/en_US\\/-he8Q85-VIh.js\",\"c\":1,\"p\":\":578\"},\"3b1Jbd6\":{\"type\":\"js\",\"src\":\"https:\\/\\/static.xx.fbcdn.net\\/rsrc.php\\/v4i4nn4\\/yN\\/l\\/en_US\\/jwqDuUmUh9U.js\",\"c\":1,\"p\":\":111\"},\"o5+qUZ3\":{\"type\":\"js\",\"src\":\"https:\\/\\/static.xx.fbcdn.net\\/rsrc.php\\/v4\\/yY\\/r\\/7Bc2l_qNhMD.js\",\"c\":1,\"p\":\":44680\"},\"eSh0RBb\":{\"type\":\"js\",\"src\":\"https:\\/\\/static.xx.fbcdn.net\\/rsrc.php\\/v4\\/yU\\/r\\/N2CPjDqTShU.js\",\"c\":1,\"p\":\":10614\"},\"qggWN+X\":{\"type\":\"js\",\"src\":\"https:\\/\\/static.xx.fbcdn.net\\/rsrc.php\\/v4\\/yO\\/r\\/1GgfpPAAa3i.js\",\"c\":1,\"p\":\":3900\"},\"5eFE71s\":{\"type\":\"js\",\"src\":\"https:\\/\\/static.xx.fbcdn.net\\/rsrc.php\\/v4\\/y1\\/r\\/HXRpZhXEHdI.js\",\"c\":1,\"p\":\":10616\"},\"i3vvWBJ\":{\"type\":\"js\",\"src\":\"https:\\/\\/static.xx.fbcdn.net\\/rsrc.php\\/v4\\/yw\\/r\\/4C8pWwQKyuQ.js\",\"c\":1,\"p\":\":12220\"},\"hHPAIpy\":{\"type\":\"js\",\"src\":\"https:\\/\\/static.xx.fbcdn.net\\/rsrc.php\\/v4\\/yb\\/r\\/O7KnI3b6PMa.js\",\"c\":1,\"p\":\":41288\"},\"pEqDSal\":{\"type\":\"js\",\"src\":\"https:\\/\\/static.xx.fbcdn.net\\/rsrc.php\\/v4\\/y6\\/r\\/hSVNyL0g5HT.js\",\"c\":1,\"p\":\":122\"},\"Mduf\\/tc\":{\"type\":\"js\",\"src\":\"https:\\/\\/static.xx.fbcdn.net\\/rsrc.php\\/v4\\/yk\\/r\\/QcHBlVpXm5T.js\",\"c\":1,\"p\":\":2001\"},\"YXzrT1I\":{\"type\":\"js\",\"src\":\"https:\\/\\/static.xx.fbcdn.net\\/rsrc.php\\/v4\\/yG\\/r\\/bxaMWwtmdT5.js\",\"c\":1,\"p\":\":129\"},\"QNZq50P\":{\"type\":\"js\",\"src\":\"https:\\/\\/static.xx.fbcdn.net\\/rsrc.php\\/v4i6Vo4\\/y8\\/l\\/en_US\\/e4r6ZJnTpnB.js\",\"c\":1,\"p\":\":44682\"},\"tSDF7z7\":{\"type\":\"js\",\"src\":\"https:\\/\\/static.xx.fbcdn.net\\/rsrc.php\\/v4\\/yA\\/r\\/C_7dpWP3Utw.js\",\"c\":1,\"p\":\":12222\"},\"jd71tJn\":{\"type\":\"js\",\"src\":\"https:\\/\\/static.xx.fbcdn.net\\/rsrc.php\\/v4idBq4\\/y5\\/l\\/en_US\\/aXUpkcXq0Ih.js\",\"c\":1,\"p\":\":206\"},\"34qPV\\/9\":{\"type\":\"js\",\"src\":\"https:\\/\\/static.xx.fbcdn.net\\/rsrc.php\\/v4\\/yB\\/r\\/YP6bgkEv8QZ.js\",\"c\":1,\"p\":\":45373\"},\"w95Aznd\":{\"type\":\"js\",\"src\":\"https:\\/\\/static.xx.fbcdn.net\\/rsrc.php\\/v4ikHq4\\/yu\\/l\\/en_US\\/BqGKdCxhgsm.js\",\"c\":1,\"p\":\":97\"},\"6c5OCBV\":{\"type\":\"js\",\"src\":\"https:\\/\\/static.xx.fbcdn.net\\/rsrc.php\\/v4idTO4\\/yE\\/l\\/en_US\\/rH7vRjC4J0Q.js\",\"c\":1,\"p\":\":9602\"},\"5ZvAcV+\":{\"type\":\"js\",\"src\":\"https:\\/\\/static.xx.fbcdn.net\\/rsrc.php\\/v4\\/yW\\/r\\/v7D1NQ-XW0d.js\",\"c\":1,\"p\":\":95\"},\"V9IvX0W\":{\"type\":\"js\",\"src\":\"https:\\/\\/static.xx.fbcdn.net\\/rsrc.php\\/v4iqSl4\\/yw\\/l\\/en_US\\/iVJbcWNGDcw.js\",\"c\":1,\"p\":\":2930\"},\"q1jasoK\":{\"type\":\"js\",\"src\":\"https:\\/\\/static.xx.fbcdn.net\\/rsrc.php\\/v4ifGB4\\/yB\\/l\\/en_US\\/qGR-4YOZ4un.js\",\"c\":1,\"p\":\":360\"},\"cHuoKSr\":{\"type\":\"js\",\"src\":\"https:\\/\\/static.xx.fbcdn.net\\/rsrc.php\\/v4iOTw4\\/yL\\/l\\/en_US\\/sMFgAG4xSoM.js\",\"c\":1,\"p\":\":2741\"},\"v17JGpX\":{\"type\":\"js\",\"src\":\"https:\\/\\/static.xx.fbcdn.net\\/rsrc.php\\/v4\\/yW\\/r\\/tuhb4eM25Lu.js\",\"c\":1,\"p\":\":2785\"},\"tyG95D6\":{\"type\":\"js\",\"src\":\"https:\\/\\/static.xx.fbcdn.net\\/rsrc.php\\/v4\\/yM\\/r\\/KpmvYr-3z8m.js\",\"c\":1,\"p\":\":876\"},\"7vk92H+\":{\"type\":\"js\",\"src\":\"https:\\/\\/static.xx.fbcdn.net\\/rsrc.php\\/v4iNvE4\\/yo\\/l\\/en_US\\/EUDuNBGfn8y.js\",\"c\":1,\"p\":\":2093\"},\"645wwk6\":{\"type\":\"js\",\"src\":\"https:\\/\\/static.xx.fbcdn.net\\/rsrc.php\\/v4iE_u4\\/y8\\/l\\/en_US\\/S-wLdUvnQik.js\",\"c\":1,\"p\":\":750\"},\"sBYQ3Um\":{\"type\":\"js\",\"src\":\"https:\\/\\/static.xx.fbcdn.net\\/rsrc.php\\/v4\\/yw\\/r\\/ak8iH2fHBd4.js\",\"c\":1,\"p\":\":201\"},\"X\\/k3k7J\":{\"type\":\"js\",\"src\":\"https:\\/\\/static.xx.fbcdn.net\\/rsrc.php\\/v4iXsz4\\/yl\\/l\\/en_US\\/8-jcqK3BxsU.js\",\"c\":1,\"p\":\":938\"},\"marS64z\":{\"type\":\"js\",\"src\":\"https:\\/\\/static.xx.fbcdn.net\\/rsrc.php\\/v4i1fA4\\/yX\\/l\\/en_US\\/0lkOuD8jgTP.js\",\"c\":1,\"p\":\":2338\"},\"6zVNUyX\":{\"type\":\"js\",\"src\":\"https:\\/\\/static.xx.fbcdn.net\\/rsrc.php\\/v4idba4\\/y7\\/l\\/en_US\\/gBfkGPpq_Yj.js\",\"c\":1,\"p\":\":227\"},\"QTM8FjL\":{\"type\":\"js\",\"src\":\"https:\\/\\/static.xx.fbcdn.net\\/rsrc.php\\/v4idBq4\\/y2\\/l\\/en_US\\/NUIvFkteKCz.js\",\"c\":1,\"p\":\":264\"},\"S\\/rYE\\/i\":{\"type\":\"js\",\"src\":\"https:\\/\\/static.xx.fbcdn.net\\/rsrc.php\\/v4i0mN4\\/ym\\/l\\/en_US\\/67PL52LIfjO.js\",\"c\":1,\"p\":\":616\"},\"VuyAAhr\":{\"type\":\"js\",\"src\":\"https:\\/\\/static.xx.fbcdn.net\\/rsrc.php\\/v4ibBF4\\/y_\\/l\\/en_US\\/JPxlcmLTSTh.js\",\"c\":1,\"p\":\":736\"},\"19GOBqL\":{\"type\":\"js\",\"src\":\"https:\\/\\/static.xx.fbcdn.net\\/rsrc.php\\/v4\\/y1\\/r\\/NOO6DI_C6S7.js\",\"c\":1,\"p\":\":352\"},\"sJvKfka\":{\"type\":\"js\",\"src\":\"https:\\/\\/static.xx.fbcdn.net\\/rsrc.php\\/v4\\/y6\\/r\\/yWG7IfjHs4T.js\",\"c\":1,\"p\":\":1806\"},\"WEr8jW4\":{\"type\":\"js\",\"src\":\"https:\\/\\/static.xx.fbcdn.net\\/rsrc.php\\/v4iWAB4\\/yu\\/l\\/en_US\\/rdwNqG5kK1W.js\",\"c\":1,\"p\":\":2067\"},\"CeUTjRL\":{\"type\":\"js\",\"src\":\"https:\\/\\/static.xx.fbcdn.net\\/rsrc.php\\/v4\\/yS\\/r\\/AMbNsCNB0e-.js\",\"c\":1,\"p\":\":1285\"},\"zeCfCy0\":{\"type\":\"js\",\"src\":\"https:\\/\\/static.xx.fbcdn.net\\/rsrc.php\\/v4\\/yM\\/r\\/3kKh8DbYTTX.js\",\"c\":1,\"p\":\":35300\"},\"RXIOvyh\":{\"type\":\"js\",\"src\":\"https:\\/\\/static.xx.fbcdn.net\\/rsrc.php\\/v4iujb4\\/yG\\/l\\/en_US\\/ItLN2nZ14g8.js\",\"c\":1,\"p\":\":36104\"},\"auoCiaf\":{\"type\":\"js\",\"src\":\"https:\\/\\/static.xx.fbcdn.net\\/rsrc.php\\/v4\\/yI\\/r\\/a8E10bWxFEm.js\",\"c\":1,\"p\":\":41468\"},\"NtVs5SN\":{\"type\":\"js\",\"src\":\"https:\\/\\/static.xx.fbcdn.net\\/rsrc.php\\/v4\\/yv\\/r\\/5CgLlDWmfdy.js\",\"c\":1,\"p\":\":47338\"},\"OxJ8KAJ\":{\"type\":\"js\",\"src\":\"https:\\/\\/static.xx.fbcdn.net\\/rsrc.php\\/v4\\/yF\\/r\\/5ehdo8Fu12Y.js\",\"c\":1,\"p\":\":1389\"},\"iiLUYt2\":{\"type\":\"js\",\"src\":\"https:\\/\\/static.xx.fbcdn.net\\/rsrc.php\\/v4iO-_4\\/yc\\/l\\/en_US\\/FwFm--NI-Hu.js\",\"c\":1,\"p\":\":44\"},\"L12oFNZ\":{\"type\":\"js\",\"src\":\"https:\\/\\/static.xx.fbcdn.net\\/rsrc.php\\/v4\\/ye\\/r\\/fT_hx6zN_74.js\",\"c\":1,\"p\":\":27522\"},\"NViGFpT\":{\"type\":\"js\",\"src\":\"https:\\/\\/static.xx.fbcdn.net\\/rsrc.php\\/v4\\/yF\\/r\\/gpaxwoYHTyI.js\",\"c\":1,\"p\":\":60\"},\"0tr8X2v\":{\"type\":\"js\",\"src\":\"https:\\/\\/static.xx.fbcdn.net\\/rsrc.php\\/v4iMk-4\\/yF\\/l\\/en_US\\/CSW1Og663f9.js\",\"c\":1,\"p\":\":46743\"},\"GUy78z5\":{\"type\":\"js\",\"src\":\"https:\\/\\/static.xx.fbcdn.net\\/rsrc.php\\/v4iMFX4\\/yy\\/l\\/en_US\\/_HrWJ9YK4sI.js\",\"c\":1,\"p\":\":9598\"},\"rRJmQsO\":{\"type\":\"js\",\"src\":\"https:\\/\\/static.xx.fbcdn.net\\/rsrc.php\\/v4ixxa4\\/yE\\/l\\/en_US\\/6G0q_iw4et9.js\",\"c\":1,\"p\":\":2949\"},\"xsIncqe\":{\"type\":\"js\",\"src\":\"https:\\/\\/static.xx.fbcdn.net\\/rsrc.php\\/v4iDjI4\\/yu\\/l\\/en_US\\/A1JWlUfd4Jg.js\",\"c\":1,\"p\":\":180\"},\"D\\/TRbaw\":{\"type\":\"js\",\"src\":\"https:\\/\\/static.xx.fbcdn.net\\/rsrc.php\\/v4\\/yA\\/r\\/H5-42nCKtvO.js\",\"c\":1,\"p\":\":1490\"},\"+vxQiJE\":{\"type\":\"js\",\"src\":\"https:\\/\\/static.xx.fbcdn.net\\/rsrc.php\\/v4\\/yl\\/r\\/LWogwNpcKFV.js\",\"c\":1,\"p\":\":861\"},\"a2aWw3I\":{\"type\":\"js\",\"src\":\"https:\\/\\/static.xx.fbcdn.net\\/rsrc.php\\/v4\\/yp\\/r\\/FFrZFhk7cu0.js\",\"c\":1,\"p\":\":44016\"},\"oogVVW7\":{\"type\":\"js\",\"src\":\"https:\\/\\/static.xx.fbcdn.net\\/rsrc.php\\/v4\\/yf\\/r\\/Ge1DMt4KSYu.js\",\"c\":1,\"p\":\":1264\"},\"oD66aJY\":{\"type\":\"js\",\"src\":\"https:\\/\\/static.xx.fbcdn.net\\/rsrc.php\\/v4\\/yZ\\/r\\/wxz_AzGOUR6.js\",\"c\":1,\"p\":\":538\"},\"0ALkc2P\":{\"type\":\"js\",\"src\":\"https:\\/\\/static.xx.fbcdn.net\\/rsrc.php\\/v4iew04\\/yg\\/l\\/en_US\\/QGtucQmA95B.js\",\"c\":1,\"p\":\":959\"},\"mcBgM6e\":{\"type\":\"js\",\"src\":\"https:\\/\\/static.xx.fbcdn.net\\/rsrc.php\\/v4iYaB4\\/yL\\/l\\/en_US\\/ZI2bTo3DEqp.js\",\"c\":1,\"p\":\":912\"},\"qLMcAOq\":{\"type\":\"js\",\"src\":\"https:\\/\\/static.xx.fbcdn.net\\/rsrc.php\\/v4\\/y8\\/r\\/qkhAsDXlyFi.js\",\"c\":1,\"p\":\":928\"},\"LscUkkV\":{\"type\":\"js\",\"src\":\"https:\\/\\/static.xx.fbcdn.net\\/rsrc.php\\/v4\\/yo\\/r\\/3dsZukgwF_l.js\",\"c\":1,\"p\":\":40733\"},\"al\\/03f+\":{\"type\":\"js\",\"src\":\"https:\\/\\/static.xx.fbcdn.net\\/rsrc.php\\/v4iLl54\\/y7\\/l\\/en_US\\/R_qfD4MTsmG.js\",\"c\":1,\"p\":\":670\"},\"wHee0cM\":{\"type\":\"js\",\"src\":\"https:\\/\\/static.xx.fbcdn.net\\/rsrc.php\\/v4i-0V4\\/yp\\/l\\/en_US\\/ga9hMXfHqw_.js\",\"c\":1,\"p\":\":509\"},\"3C9XSVM\":{\"type\":\"js\",\"src\":\"https:\\/\\/static.xx.fbcdn.net\\/rsrc.php\\/v4isZA4\\/y-\\/l\\/en_US\\/JsnWVcFAEyV.js\",\"c\":1,\"p\":\":1790\"},\"h\\/gs9QJ\":{\"type\":\"js\",\"src\":\"https:\\/\\/static.xx.fbcdn.net\\/rsrc.php\\/v4iaaH4\\/yJ\\/l\\/en_US\\/u7niI9Ble-W.js\",\"c\":1,\"p\":\":2177\"},\"YuCiIVS\":{\"type\":\"js\",\"src\":\"https:\\/\\/static.xx.fbcdn.net\\/rsrc.php\\/v4iwAi4\\/yY\\/l\\/en_US\\/66rJqbN4S5y.js\",\"c\":1,\"p\":\":2046\"},\"56mKLy0\":{\"type\":\"js\",\"src\":\"https:\\/\\/static.xx.fbcdn.net\\/rsrc.php\\/v4\\/y5\\/r\\/dEUf5yPBcwa.js\",\"c\":1,\"p\":\":1308\"},\"J099P\\/Q\":{\"type\":\"js\",\"src\":\"https:\\/\\/static.xx.fbcdn.net\\/rsrc.php\\/v4i4gD4\\/yY\\/l\\/en_US\\/c-238DTGbsP.js\",\"c\":1,\"p\":\":3156\"},\"ALBhwn6\":{\"type\":\"js\",\"src\":\"https:\\/\\/static.xx.fbcdn.net\\/rsrc.php\\/v4iDyq4\\/yM\\/l\\/en_US\\/JmyonZ_Hbr6.js\",\"c\":1,\"p\":\":2778\"},\"vT6HQvj\":{\"type\":\"js\",\"src\":\"https:\\/\\/static.xx.fbcdn.net\\/rsrc.php\\/v4iSm34\\/y1\\/l\\/en_US\\/ul4k4JNJQTM.js\",\"c\":1,\"p\":\":1548\"},\"8JggBxU\":{\"type\":\"js\",\"src\":\"https:\\/\\/static.xx.fbcdn.net\\/rsrc.php\\/v4ib4W4\\/y-\\/l\\/en_US\\/RMoKBEqPuVG.js\",\"c\":1,\"p\":\":1268\"},\"pMq7Kpb\":{\"type\":\"js\",\"src\":\"https:\\/\\/static.xx.fbcdn.net\\/rsrc.php\\/v4\\/yD\\/r\\/Y3Vye4vabc2.js\",\"c\":1,\"p\":\":2445\"},\"AidERoQ\":{\"type\":\"js\",\"src\":\"https:\\/\\/static.xx.fbcdn.net\\/rsrc.php\\/v4\\/y0\\/r\\/gkm8nj6PDj8.js\",\"c\":1,\"p\":\":34\"},\"KBEhKw1\":{\"type\":\"js\",\"src\":\"https:\\/\\/static.xx.fbcdn.net\\/rsrc.php\\/v4\\/ys\\/r\\/ZGyOQFnh5ZQ.js\",\"c\":1,\"p\":\":13\"},\"jX9dtO2\":{\"type\":\"css\",\"src\":\"https:\\/\\/static.xx.fbcdn.net\\/rsrc.php\\/v5\\/yg\\/l\\/0,cross\\/Lrl6K1pw-l6.css\",\"c\":1,\"p\":\":762\"},\"pletEX9\":{\"type\":\"js\",\"src\":\"https:\\/\\/static.xx.fbcdn.net\\/rsrc.php\\/v4\\/yl\\/r\\/RT6XN3cpBre.js\",\"c\":1,\"p\":\":3093\"},\"wECkeNR\":{\"type\":\"js\",\"src\":\"https:\\/\\/static.xx.fbcdn.net\\/rsrc.php\\/v4iOyV4\\/yE\\/l\\/en_US\\/WAzeHfqvwv3.js\",\"c\":1,\"p\":\":2887\"},\"rjvP8qr\":{\"type\":\"js\",\"src\":\"https:\\/\\/static.xx.fbcdn.net\\/rsrc.php\\/v4\\/y8\\/r\\/8ZftXAagqkY.js\",\"c\":1,\"p\":\":70\"},\"dUgVISb\":{\"type\":\"js\",\"src\":\"https:\\/\\/static.xx.fbcdn.net\\/rsrc.php\\/v4\\/yU\\/r\\/796z-nE1G4s.js\",\"c\":1,\"p\":\":2856\"},\"itmhKIf\":{\"type\":\"js\",\"src\":\"https:\\/\\/static.xx.fbcdn.net\\/rsrc.php\\/v4iEdz4\\/y9\\/l\\/en_US\\/4dttMFoxiE7.js\",\"c\":1,\"p\":\":1457\"},\"1DfHRm7\":{\"type\":\"js\",\"src\":\"https:\\/\\/static.xx.fbcdn.net\\/rsrc.php\\/v4ijvU4\\/yI\\/l\\/en_US\\/fZbrWH_FDdj.js\",\"c\":1,\"p\":\":1183\"},\"n5i2IEv\":{\"type\":\"js\",\"src\":\"https:\\/\\/static.xx.fbcdn.net\\/rsrc.php\\/v4izGf4\\/yo\\/l\\/en_US\\/hRDZMb-bmLL.js\",\"c\":1,\"p\":\":277\"},\"hnY9ITu\":{\"type\":\"js\",\"src\":\"https:\\/\\/static.xx.fbcdn.net\\/rsrc.php\\/v4\\/yQ\\/r\\/e2f4q6wzS_s.js\",\"c\":1,\"p\":\":2037\"},\"PdDRY3q\":{\"type\":\"js\",\"src\":\"https:\\/\\/static.xx.fbcdn.net\\/rsrc.php\\/v4\\/yb\\/r\\/2vLn6CVLbVF.js\",\"c\":1,\"p\":\":3248\"},\"\\/NTWV2I\":{\"type\":\"js\",\"src\":\"https:\\/\\/static.xx.fbcdn.net\\/rsrc.php\\/v4ipLN4\\/yn\\/l\\/en_US\\/_S6PVKtnK1c.js\",\"c\":1,\"p\":\":46875\"},\"OQ+PJws\":{\"type\":\"js\",\"src\":\"https:\\/\\/static.xx.fbcdn.net\\/rsrc.php\\/v4\\/yR\\/r\\/-leRtnXtkvb.js\",\"c\":1,\"p\":\":81\"},\"1VS+FRb\":{\"type\":\"js\",\"src\":\"https:\\/\\/static.xx.fbcdn.net\\/rsrc.php\\/v4icQe4\\/yC\\/l\\/en_US\\/MqKMZ8NqHmm.js\",\"c\":1,\"p\":\":436\"},\"0cpSJSc\":{\"type\":\"js\",\"src\":\"https:\\/\\/static.xx.fbcdn.net\\/rsrc.php\\/v4\\/y6\\/r\\/_j_7lmz9NQs.js\",\"c\":1,\"p\":\":114\"},\"EOykUZF\":{\"type\":\"js\",\"src\":\"https:\\/\\/static.xx.fbcdn.net\\/rsrc.php\\/v4iB4R4\\/yG\\/l\\/en_US\\/f7abDQDllgf.js\",\"c\":1,\"p\":\":336\"},\"EE0BCB3\":{\"type\":\"js\",\"src\":\"https:\\/\\/static.xx.fbcdn.net\\/rsrc.php\\/v4\\/yT\\/r\\/3tMSbT8OZVC.js\",\"c\":1,\"p\":\":68\"},\"35pknka\":{\"type\":\"js\",\"src\":\"https:\\/\\/static.xx.fbcdn.net\\/rsrc.php\\/v4i--64\\/yg\\/l\\/en_US\\/tWKfEGJAfW1.js\",\"c\":1,\"p\":\":216\"},\"OMvx\\/2b\":{\"type\":\"js\",\"src\":\"https:\\/\\/static.xx.fbcdn.net\\/rsrc.php\\/v4i5p14\\/yQ\\/l\\/en_US\\/o2eh7Cu_b9H.js\",\"c\":1,\"p\":\":351\"},\"HMPleYo\":{\"type\":\"js\",\"src\":\"https:\\/\\/static.xx.fbcdn.net\\/rsrc.php\\/v4\\/yf\\/r\\/OzCKOAwodcJ.js\",\"c\":1,\"p\":\":113\"},\"Gi6sMcX\":{\"type\":\"css\",\"src\":\"https:\\/\\/static.xx.fbcdn.net\\/rsrc.php\\/v5\\/yi\\/l\\/0,cross\\/q1SX6E99Hnv.css\",\"c\":1,\"p\":\":135\"},\"ce4bU3b\":{\"type\":\"js\",\"src\":\"https:\\/\\/static.xx.fbcdn.net\\/rsrc.php\\/v4\\/yB\\/r\\/ThyeIjKLB_O.js\",\"c\":1,\"p\":\":37\"},\"UvkyY2e\":{\"type\":\"css\",\"src\":\"https:\\/\\/static.xx.fbcdn.net\\/rsrc.php\\/v5\\/y8\\/l\\/0,cross\\/0aaqp957nHK.css\",\"c\":1,\"p\":\":381\"},\"MDH\\/NMQ\":{\"type\":\"js\",\"src\":\"https:\\/\\/static.xx.fbcdn.net\\/rsrc.php\\/v4iJfX4\\/yO\\/l\\/en_US\\/i-vjeclN7Er.js\",\"c\":1,\"p\":\":1928\"},\"6BaTyvw\":{\"type\":\"js\",\"src\":\"https:\\/\\/static.xx.fbcdn.net\\/rsrc.php\\/v4iy_T4\\/yU\\/l\\/en_US\\/Jb-H5W7sr_d.js\",\"c\":1,\"p\":\":236\"},\"MFNObik\":{\"type\":\"css\",\"src\":\"https:\\/\\/static.xx.fbcdn.net\\/rsrc.php\\/v5\\/yk\\/l\\/0,cross\\/_WhkDCmnsSa.css\",\"c\":1,\"p\":\":1740\"},\"+1emcrb\":{\"type\":\"js\",\"src\":\"https:\\/\\/static.xx.fbcdn.net\\/rsrc.php\\/v4iaFb4\\/y_\\/l\\/en_US\\/_WVFgBUUjY7.js\",\"c\":1,\"p\":\":1739\"},\"03h9Jko\":{\"type\":\"js\",\"src\":\"https:\\/\\/static.xx.fbcdn.net\\/rsrc.php\\/v4\\/yj\\/r\\/9R2y9nMbMDw.js\",\"c\":1,\"p\":\":2278\"},\"ncJ74ny\":{\"type\":\"js\",\"src\":\"https:\\/\\/static.xx.fbcdn.net\\/rsrc.php\\/v4\\/ya\\/r\\/Xx4vXNk54Xo.js\",\"c\":1,\"p\":\":40\"},\"74HhC31\":{\"type\":\"js\",\"src\":\"https:\\/\\/static.xx.fbcdn.net\\/rsrc.php\\/v4iF584\\/yY\\/l\\/en_US\\/GaaDcGrmzaP.js\",\"c\":1,\"p\":\":42686\"},\"EQQOuop\":{\"type\":\"js\",\"src\":\"https:\\/\\/static.xx.fbcdn.net\\/rsrc.php\\/v4\\/yG\\/r\\/QuCtHwBbszf.js\",\"c\":1,\"p\":\":31123\"},\"6yretjL\":{\"type\":\"css\",\"src\":\"https:\\/\\/static.xx.fbcdn.net\\/rsrc.php\\/v5\\/yS\\/l\\/0,cross\\/oMxTkIZP2Ol.css\",\"c\":1,\"p\":\":1927\"},\"DlSlzTl\":{\"type\":\"js\",\"src\":\"https:\\/\\/static.xx.fbcdn.net\\/rsrc.php\\/v4\\/y2\\/r\\/damVOkqPqDn.js\",\"c\":1,\"p\":\":59\"},\"6SUBvv2\":{\"type\":\"js\",\"src\":\"https:\\/\\/static.xx.fbcdn.net\\/rsrc.php\\/v4\\/yi\\/r\\/U7OLsA5TU8q.js\",\"c\":1,\"p\":\":31127\"},\"x6nQ0lX\":{\"type\":\"js\",\"src\":\"https:\\/\\/static.xx.fbcdn.net\\/rsrc.php\\/v4ijos4\\/yW\\/l\\/en_US\\/xhYlHqthjQv.js\",\"c\":1,\"p\":\":695\"},\"krADu0k\":{\"type\":\"js\",\"src\":\"https:\\/\\/static.xx.fbcdn.net\\/rsrc.php\\/v4\\/yf\\/r\\/ENE5hu8fdMo.js\",\"c\":1,\"p\":\":25304\"},\"ATbeq0B\":{\"type\":\"js\",\"src\":\"https:\\/\\/static.xx.fbcdn.net\\/rsrc.php\\/v4iTfb4\\/yu\\/l\\/en_US\\/y34YjToxzo7.js\",\"c\":1,\"p\":\":42687\"},\"GxOlVY6\":{\"type\":\"css\",\"src\":\"https:\\/\\/static.xx.fbcdn.net\\/rsrc.php\\/v5\\/yU\\/l\\/0,cross\\/pY7pa0SXqzg.css\",\"c\":1,\"p\":\":1127\"},\"3p2M17T\":{\"type\":\"js\",\"src\":\"https:\\/\\/static.xx.fbcdn.net\\/rsrc.php\\/v4iWtR4\\/y8\\/l\\/en_US\\/c17A44yhVlv.js\",\"c\":1,\"p\":\":265\"},\"dgsxFcr\":{\"type\":\"js\",\"src\":\"https:\\/\\/static.xx.fbcdn.net\\/rsrc.php\\/v4\\/yB\\/r\\/R0sOuZhGxsj.js\",\"c\":1,\"p\":\":31132\"},\"n2UPpV0\":{\"type\":\"js\",\"src\":\"https:\\/\\/static.xx.fbcdn.net\\/rsrc.php\\/v4\\/yQ\\/r\\/NhK5Yax3Ak5.js\",\"c\":1,\"p\":\":43675\"},\"o0mmRLc\":{\"type\":\"js\",\"src\":\"https:\\/\\/static.xx.fbcdn.net\\/rsrc.php\\/v4\\/yp\\/r\\/KHRGi0pZ2vD.js\",\"c\":1,\"p\":\":43682\"},\"ttASCon\":{\"type\":\"js\",\"src\":\"https:\\/\\/static.xx.fbcdn.net\\/rsrc.php\\/v4ihc34\\/ys\\/l\\/en_US\\/sRN5qDx3F5Z.js\",\"c\":1,\"p\":\":668\"},\"KAkIewO\":{\"type\":\"js\",\"src\":\"https:\\/\\/static.xx.fbcdn.net\\/rsrc.php\\/v4\\/y-\\/r\\/7nURg1eRrUo.js\",\"c\":1,\"p\":\":43681\"},\"0s9Sx3j\":{\"type\":\"js\",\"src\":\"https:\\/\\/static.xx.fbcdn.net\\/rsrc.php\\/v4\\/y6\\/r\\/387eW62EgTs.js\",\"c\":1,\"p\":\":528\"},\"WHhSLLO\":{\"type\":\"js\",\"src\":\"https:\\/\\/static.xx.fbcdn.net\\/rsrc.php\\/v4\\/ye\\/r\\/mlbn39jOYN1.js\",\"c\":1,\"p\":\":10221\"},\"xnQzQZD\":{\"type\":\"js\",\"src\":\"https:\\/\\/static.xx.fbcdn.net\\/rsrc.php\\/v4iML14\\/yD\\/l\\/en_US\\/L0yT2QFLvnd.js\",\"c\":1,\"p\":\":996\"},\"a+2Sahl\":{\"type\":\"js\",\"src\":\"https:\\/\\/static.xx.fbcdn.net\\/rsrc.php\\/v4\\/yz\\/r\\/tdLFeJfavg7.js\",\"c\":1,\"p\":\":681\"},\"6ILVhys\":{\"type\":\"js\",\"src\":\"https:\\/\\/static.xx.fbcdn.net\\/rsrc.php\\/v4ipLS4\\/yJ\\/l\\/en_US\\/gCQTDvTTnPs.js\",\"c\":1,\"p\":\":78\"},\"5Bk38fU\":{\"type\":\"js\",\"src\":\"https:\\/\\/static.xx.fbcdn.net\\/rsrc.php\\/v4\\/ya\\/r\\/vLlYWF1uMZp.js\",\"c\":1,\"p\":\":1163\"}},\"compMap\":{\"CometKeyCommandWrapperDialog.react\":{\"r\":[\"gwMFXud\",\"uqrwJVh\",\"680GOIE\",\"I2uML8d\",\"+L0X93S\",\"OJDxW8l\",\"QXf\\/szZ\",\"HPyauA+\"],\"rdfds\":{\"m\":[\"FDSTooltipDeferredImpl.react\"]},\"rds\":{\"m\":[\"FbtLogging\",\"CometSuspenseFalcoEvent\",\"ODS\",\"IntlQtEventFalcoEvent\"],\"r\":[\"AG9sedv\"]}},\"CometModifiedKeyCommandWrapperDialog.react\":{\"r\":[\"gwMFXud\",\"uqrwJVh\",\"eEwUkrd\",\"680GOIE\",\"I2uML8d\",\"gaps99d\",\"OJDxW8l\",\"QXf\\/szZ\",\"HPyauA+\",\"kpxHhCB\"],\"rdfds\":{\"m\":[\"FDSTooltipDeferredImpl.react\"]},\"rds\":{\"m\":[\"FbtLogging\",\"CometSuspenseFalcoEvent\",\"ODS\",\"IntlQtEventFalcoEvent\"],\"r\":[\"AG9sedv\"]}},\"FacebookCometCookieConsentDialogDataSettings.react\":{\"r\":[\"gwMFXud\",\"uqrwJVh\",\"qLRmzXX\",\"680GOIE\",\"I2uML8d\",\"HPyauA+\"],\"rdfds\":{\"m\":[\"FDSTooltipDeferredImpl.react\"]},\"rds\":{\"m\":[\"FbtLogging\",\"CometSuspenseFalcoEvent\",\"ODS\",\"IntlQtEventFalcoEvent\"],\"r\":[\"AG9sedv\"]}},\"CometCookieConsentLanguagesMenu.react\":{\"r\":[\"gwMFXud\",\"RVKssya\",\"uqrwJVh\",\"jDm3+Wr\",\"680GOIE\",\"I2uML8d\",\"eteNJWO\",\"HPyauA+\",\"rRqKgYw\",\"W0DBkpE\"],\"rdfds\":{\"m\":[\"FDSTooltipDeferredImpl.react\",\"CometExceptionDialog.react\",\"SecuredActionTriggerWithAccountID.react\",\"SecuredActionTriggerWithEncryptedContext.react\"]},\"rds\":{\"m\":[\"FbtLogging\",\"CometSuspenseFalcoEvent\",\"ODS\",\"IntlQtEventFalcoEvent\",\"ContextualConfig\",\"BladeRunnerClient\",\"DGWRequestStreamClient\",\"CometToast.react\",\"MqttLongPollingRunner\",\"CometRelayEF\"],\"r\":[\"AG9sedv\",\"du17IWs\",\"OJDxW8l\",\"aPg1wmC\",\"pMLPaDL\"]}},\"InstagramCometCookieConsentDialogDataSettings.react\":{\"r\":[\"gwMFXud\",\"uqrwJVh\",\"qLRmzXX\",\"680GOIE\",\"I2uML8d\",\"9LQ0lqW\",\"HPyauA+\"],\"rdfds\":{\"m\":[\"FDSTooltipDeferredImpl.react\"]},\"rds\":{\"m\":[\"FbtLogging\",\"CometSuspenseFalcoEvent\",\"ODS\",\"IntlQtEventFalcoEvent\"],\"r\":[\"AG9sedv\"]}},\"WorkplaceCometCookieConsentDialogDataSettings.react\":{\"r\":[\"gwMFXud\",\"uqrwJVh\",\"qLRmzXX\",\"680GOIE\",\"e+Z2z8X\",\"I2uML8d\",\"HPyauA+\"],\"rdfds\":{\"m\":[\"FDSTooltipDeferredImpl.react\"]},\"rds\":{\"m\":[\"FbtLogging\",\"CometSuspenseFalcoEvent\",\"ODS\",\"IntlQtEventFalcoEvent\"],\"r\":[\"AG9sedv\"]}},\"WhatsAppHCCookieConsentDialogDataSettings.react\":{\"r\":[\"gwMFXud\",\"uqrwJVh\",\"680GOIE\",\"I2uML8d\",\"6c73AV9\",\"HPyauA+\"],\"rdfds\":{\"m\":[\"FDSTooltipDeferredImpl.react\"]},\"rds\":{\"m\":[\"FbtLogging\",\"CometSuspenseFalcoEvent\",\"ODS\",\"IntlQtEventFalcoEvent\"],\"r\":[\"AG9sedv\"]}},\"CDSNativeSurveyDialog.react\":{\"r\":[\"gwMFXud\",\"uqrwJVh\",\"HPyauA+\",\"Ef5MYIW\",\"680GOIE\",\"I2uML8d\",\"vdBdDEC\",\"F0NuMGP\",\"WcQq+zk\",\"3b1Jbd6\",\"o5+qUZ3\",\"eSh0RBb\",\"qggWN+X\",\"5eFE71s\",\"i3vvWBJ\",\"hHPAIpy\"],\"rdfds\":{\"m\":[\"CDSQuestionPage.react\",\"CDSTooltipDeferredImpl.react\",\"FDSTooltipDeferredImpl.react\",\"CometExceptionDialog.react\",\"SecuredActionTriggerWithAccountID.react\",\"SecuredActionTriggerWithEncryptedContext.react\"],\"r\":[\"pEqDSal\",\"Mduf\\/tc\",\"YXzrT1I\",\"QNZq50P\",\"tSDF7z7\"]},\"rds\":{\"m\":[\"PrivacyCenterFalcoEvent\",\"FbtLogging\",\"CometSuspenseFalcoEvent\",\"ODS\",\"IntlQtEventFalcoEvent\",\"SurveyPlatformCometClientEventFalcoEvent\",\"ContextualConfig\",\"BladeRunnerClient\",\"CometRelayEF\",\"DGWRequestStreamClient\",\"CometToast.react\",\"MqttLongPollingRunner\"],\"r\":[\"jd71tJn\",\"AG9sedv\",\"du17IWs\",\"OJDxW8l\",\"aPg1wmC\",\"pMLPaDL\"]}},\"WorkAccountsCometCookieConsentDialogDataSettings.react\":{\"r\":[\"gwMFXud\",\"uqrwJVh\",\"34qPV\\/9\",\"HPyauA+\",\"680GOIE\",\"I2uML8d\"],\"rdfds\":{\"m\":[\"FDSTooltipDeferredImpl.react\"]},\"rds\":{\"m\":[\"FbtLogging\",\"CometSuspenseFalcoEvent\",\"ODS\",\"IntlQtEventFalcoEvent\"],\"r\":[\"AG9sedv\"]}},\"CometErrorRoot.react\":{\"r\":[\"gwMFXud\",\"uqrwJVh\",\"680GOIE\",\"I2uML8d\",\"HPyauA+\"],\"rdfds\":{\"m\":[\"FDSTooltipDeferredImpl.react\",\"CometExceptionDialog.react\"]},\"rds\":{\"m\":[\"FbtLogging\",\"CometSuspenseFalcoEvent\",\"ODS\",\"IntlQtEventFalcoEvent\"],\"r\":[\"AG9sedv\"]}},\"WhatsAppHCCookieConsentLanguagesMenu.react\":{\"r\":[\"gwMFXud\",\"RVKssya\",\"uqrwJVh\",\"680GOIE\",\"w95Aznd\",\"I2uML8d\",\"HPyauA+\",\"6c5OCBV\",\"W0DBkpE\",\"5ZvAcV+\"],\"rdfds\":{\"m\":[\"FDSTooltipDeferredImpl.react\",\"CometExceptionDialog.react\",\"SecuredActionTriggerWithAccountID.react\",\"SecuredActionTriggerWithEncryptedContext.react\"]},\"rds\":{\"m\":[\"FbtLogging\",\"CometSuspenseFalcoEvent\",\"ODS\",\"IntlQtEventFalcoEvent\",\"ContextualConfig\",\"BladeRunnerClient\",\"DGWRequestStreamClient\",\"CometToast.react\",\"MqttLongPollingRunner\",\"CometRelayEF\"],\"r\":[\"AG9sedv\",\"du17IWs\",\"OJDxW8l\",\"aPg1wmC\",\"pMLPaDL\"]}},\"PrivacyCenterRoutedDialogStepperRoot.react\":{\"r\":[\"gwMFXud\",\"V9IvX0W\",\"uqrwJVh\",\"HPyauA+\",\"680GOIE\",\"I2uML8d\"],\"rdfds\":{\"m\":[\"CDSTooltipDeferredImpl.react\",\"CometExceptionDialog.react\",\"SecuredActionTriggerWithAccountID.react\",\"SecuredActionTriggerWithEncryptedContext.react\",\"FDSTooltipDeferredImpl.react\"]},\"rds\":{\"m\":[\"PrivacyCenterFalcoEvent\",\"ContextualConfig\",\"BladeRunnerClient\",\"CometRelayEF\",\"FbtLogging\",\"DGWRequestStreamClient\",\"CometSuspenseFalcoEvent\",\"ODS\",\"IntlQtEventFalcoEvent\",\"CDSToast.react\",\"CometToast.react\",\"MqttLongPollingRunner\"],\"r\":[\"jd71tJn\",\"AG9sedv\",\"du17IWs\",\"OJDxW8l\",\"aPg1wmC\",\"pMLPaDL\"]}},\"PrivacyCenterLimitPastPostsRoot.react\":{\"r\":[\"gwMFXud\",\"uqrwJVh\",\"HPyauA+\",\"q1jasoK\",\"680GOIE\",\"cHuoKSr\",\"I2uML8d\"],\"rdfds\":{\"m\":[\"CDSTooltipDeferredImpl.react\"]},\"rds\":{\"m\":[\"PrivacyCenterLimitPastPostsMutation\",\"FDSConfirmationDialogImpl.react\",\"FbtLogging\",\"CometSuspenseFalcoEvent\",\"ODS\",\"IntlQtEventFalcoEvent\",\"FDSTooltipDeferredImpl.react\"],\"r\":[\"v17JGpX\",\"tyG95D6\",\"OJDxW8l\",\"AG9sedv\"]}},\"PrivacyCenterAddToBlockedListRoot.react\":{\"r\":[\"7vk92H+\",\"645wwk6\",\"gwMFXud\",\"sBYQ3Um\",\"X\\/k3k7J\",\"uqrwJVh\",\"HPyauA+\",\"q1jasoK\",\"680GOIE\",\"I2uML8d\",\"8v+JZAo\",\"WcQq+zk\",\"kpxHhCB\",\"marS64z\"],\"rdfds\":{\"m\":[\"CDSTooltipDeferredImpl.react\",\"CometExceptionDialog.react\",\"SecuredActionTriggerWithAccountID.react\",\"SecuredActionTriggerWithEncryptedContext.react\",\"FDSTooltipDeferredImpl.react\"]},\"rds\":{\"m\":[\"ContextualConfig\",\"BladeRunnerClient\",\"CometRelayEF\",\"FbtLogging\",\"DGWRequestStreamClient\",\"CometSuspenseFalcoEvent\",\"ODS\",\"IntlQtEventFalcoEvent\",\"CometToast.react\",\"MqttLongPollingRunner\"],\"r\":[\"AG9sedv\",\"du17IWs\",\"OJDxW8l\",\"aPg1wmC\",\"pMLPaDL\"]}},\"PrivacyCenterViewBlockedListRoot.react\":{\"r\":[\"7vk92H+\",\"gwMFXud\",\"sBYQ3Um\",\"X\\/k3k7J\",\"uqrwJVh\",\"HPyauA+\",\"q1jasoK\",\"680GOIE\",\"I2uML8d\",\"8v+JZAo\",\"6zVNUyX\",\"kpxHhCB\"],\"rdfds\":{\"m\":[\"CDSTooltipDeferredImpl.react\",\"CometExceptionDialog.react\",\"SecuredActionTriggerWithAccountID.react\",\"SecuredActionTriggerWithEncryptedContext.react\",\"FDSTooltipDeferredImpl.react\"]},\"rds\":{\"m\":[\"ContextualConfig\",\"BladeRunnerClient\",\"CometRelayEF\",\"FbtLogging\",\"DGWRequestStreamClient\",\"CometSuspenseFalcoEvent\",\"ODS\",\"IntlQtEventFalcoEvent\",\"CometToast.react\",\"MqttLongPollingRunner\"],\"r\":[\"AG9sedv\",\"du17IWs\",\"OJDxW8l\",\"aPg1wmC\",\"pMLPaDL\"]}},\"PrivacyCenterBooleanPrivacyControlRoot.react\":{\"r\":[\"gwMFXud\",\"QTM8FjL\",\"uqrwJVh\",\"S\\/rYE\\/i\",\"HPyauA+\",\"tyG95D6\",\"q1jasoK\",\"680GOIE\",\"VuyAAhr\",\"I2uML8d\",\"19GOBqL\",\"8v+JZAo\",\"sJvKfka\",\"WEr8jW4\",\"kpxHhCB\"],\"rdfds\":{\"m\":[\"CDSTooltipDeferredImpl.react\"]},\"rds\":{\"m\":[\"FbtLogging\",\"CometSuspenseFalcoEvent\",\"ODS\",\"IntlQtEventFalcoEvent\",\"CDSToast.react\"],\"r\":[\"AG9sedv\",\"OJDxW8l\",\"jd71tJn\"]}},\"PrivacyCenterOutOfScopeDialogRoot.react\":{\"r\":[\"gwMFXud\",\"CeUTjRL\",\"zeCfCy0\",\"uqrwJVh\",\"RXIOvyh\",\"HPyauA+\",\"auoCiaf\",\"680GOIE\",\"I2uML8d\"],\"rdfds\":{\"m\":[\"CDSTooltipDeferredImpl.react\"]},\"rds\":{\"m\":[\"FbtLogging\",\"CometSuspenseFalcoEvent\",\"ODS\",\"IntlQtEventFalcoEvent\"],\"r\":[\"AG9sedv\"]}},\"FDSProfileVideoSection.react\":{\"r\":[\"gwMFXud\",\"NtVs5SN\",\"uqrwJVh\",\"680GOIE\"],\"rds\":{\"m\":[\"ODS\"]}},\"CometHovercardQueryRenderer.react\":{\"r\":[\"gwMFXud\",\"pEqDSal\",\"uqrwJVh\",\"OxJ8KAJ\",\"680GOIE\",\"I2uML8d\"],\"rds\":{\"m\":[\"ODS\"]}},\"CometTooltip_DEPRECATED.react\":{\"r\":[\"gwMFXud\",\"uqrwJVh\",\"iiLUYt2\",\"680GOIE\",\"I2uML8d\",\"HPyauA+\"],\"rdfds\":{\"m\":[\"CometTooltipDeferredImpl.react\"]},\"rds\":{\"m\":[\"CometSuspenseFalcoEvent\",\"ODS\",\"FbtLogging\",\"IntlQtEventFalcoEvent\"],\"r\":[\"AG9sedv\"]},\"be\":1},\"VultureJSSampleRatesLoader\":{\"r\":[\"L12oFNZ\"],\"be\":1},\"CometNewsRegulationDialog.react\":{\"r\":[\"gwMFXud\",\"uqrwJVh\",\"680GOIE\",\"I2uML8d\",\"HPyauA+\",\"NViGFpT\",\"0tr8X2v\"],\"rdfds\":{\"m\":[\"FDSTooltipDeferredImpl.react\"]},\"rds\":{\"m\":[\"FbtLogging\",\"CometSuspenseFalcoEvent\",\"ODS\",\"IntlQtEventFalcoEvent\"],\"r\":[\"AG9sedv\"]},\"be\":1},\"KeyBindDialog.react\":{\"r\":[\"gwMFXud\",\"jDm3+Wr\",\"uqrwJVh\",\"GUy78z5\",\"iiLUYt2\",\"q1jasoK\",\"680GOIE\",\"I2uML8d\",\"HPyauA+\",\"kpxHhCB\"],\"rdfds\":{\"m\":[\"FDSTooltipDeferredImpl.react\"]},\"rds\":{\"m\":[\"FbtLogging\",\"CometSuspenseFalcoEvent\",\"ODS\",\"IntlQtEventFalcoEvent\"],\"r\":[\"AG9sedv\"]},\"be\":1},\"CometKeyShortcutDialog.react\":{\"r\":[\"gwMFXud\",\"uqrwJVh\",\"680GOIE\",\"I2uML8d\",\"rRJmQsO\",\"HPyauA+\"],\"rds\":{\"m\":[\"FbtLogging\",\"CometSuspenseFalcoEvent\",\"ODS\",\"IntlQtEventFalcoEvent\"],\"r\":[\"AG9sedv\"]},\"be\":1},\"FXAccountsCenterDYIMiniAYIDialog.react\":{\"r\":[\"gwMFXud\",\"xsIncqe\",\"uqrwJVh\",\"D\\/TRbaw\",\"+vxQiJE\",\"HPyauA+\",\"a2aWw3I\",\"q1jasoK\",\"680GOIE\",\"oogVVW7\",\"I2uML8d\",\"oD66aJY\",\"0ALkc2P\",\"8v+JZAo\",\"mcBgM6e\",\"kpxHhCB\",\"qLMcAOq\",\"LscUkkV\"],\"rds\":{\"m\":[\"FbtLogging\",\"CometSuspenseFalcoEvent\",\"ODS\",\"IntlQtEventFalcoEvent\",\"CDSToast.react\"],\"r\":[\"AG9sedv\",\"OJDxW8l\",\"jd71tJn\"]},\"be\":1},\"PrivacyCenterFBStoriesAudienceSelectorRoot.react\":{\"r\":[\"gwMFXud\",\"QTM8FjL\",\"uqrwJVh\",\"HPyauA+\",\"tyG95D6\",\"q1jasoK\",\"680GOIE\",\"VuyAAhr\",\"al\\/03f+\",\"I2uML8d\",\"wHee0cM\",\"3C9XSVM\",\"h\\/gs9QJ\",\"kpxHhCB\"],\"rdfds\":{\"m\":[\"CDSTooltipDeferredImpl.react\",\"CometExceptionDialog.react\",\"SecuredActionTriggerWithAccountID.react\",\"SecuredActionTriggerWithEncryptedContext.react\",\"FDSTooltipDeferredImpl.react\"]},\"rds\":{\"m\":[\"ContextualConfig\",\"BladeRunnerClient\",\"CometRelayEF\",\"FbtLogging\",\"DGWRequestStreamClient\",\"CometSuspenseFalcoEvent\",\"ODS\",\"IntlQtEventFalcoEvent\",\"CometToast.react\",\"MqttLongPollingRunner\"],\"r\":[\"AG9sedv\",\"du17IWs\",\"OJDxW8l\",\"aPg1wmC\",\"pMLPaDL\"]},\"be\":1},\"PrivacyCenterSelectorDialogRoot.react\":{\"r\":[\"gwMFXud\",\"QTM8FjL\",\"xsIncqe\",\"uqrwJVh\",\"HPyauA+\",\"q1jasoK\",\"680GOIE\",\"VuyAAhr\",\"YuCiIVS\",\"I2uML8d\",\"wHee0cM\",\"3C9XSVM\",\"kpxHhCB\"],\"rdfds\":{\"m\":[\"CDSTooltipDeferredImpl.react\",\"CometExceptionDialog.react\",\"SecuredActionTriggerWithAccountID.react\",\"SecuredActionTriggerWithEncryptedContext.react\",\"FDSTooltipDeferredImpl.react\"]},\"rds\":{\"m\":[\"ContextualConfig\",\"BladeRunnerClient\",\"CometRelayEF\",\"FbtLogging\",\"DGWRequestStreamClient\",\"CometSuspenseFalcoEvent\",\"ODS\",\"IntlQtEventFalcoEvent\",\"CometToast.react\",\"MqttLongPollingRunner\"],\"r\":[\"AG9sedv\",\"du17IWs\",\"OJDxW8l\",\"aPg1wmC\",\"pMLPaDL\"]},\"be\":1},\"PCInsightsSurfaceRoot.react\":{\"r\":[\"gwMFXud\",\"uqrwJVh\",\"HPyauA+\",\"680GOIE\",\"56mKLy0\",\"I2uML8d\",\"J099P\\/Q\",\"8v+JZAo\"],\"rdfds\":{\"m\":[\"CDSTooltipDeferredImpl.react\"]},\"rds\":{\"m\":[\"PrivacyCenterFalcoEvent\",\"FbtLogging\",\"CometSuspenseFalcoEvent\",\"ODS\",\"IntlQtEventFalcoEvent\"],\"r\":[\"jd71tJn\",\"AG9sedv\"]},\"be\":1},\"BaseTooltip.react\":{\"r\":[\"gwMFXud\",\"uqrwJVh\",\"680GOIE\",\"I2uML8d\",\"HPyauA+\"],\"rds\":{\"m\":[\"ODS\"]},\"be\":1},\"LegalPolicyRoot.react\":{\"r\":[\"gwMFXud\",\"uqrwJVh\",\"HPyauA+\",\"680GOIE\",\"I2uML8d\"],\"rdfds\":{\"m\":[\"CDSTooltipDeferredImpl.react\",\"CometExceptionDialog.react\",\"SecuredActionTriggerWithAccountID.react\",\"SecuredActionTriggerWithEncryptedContext.react\",\"FDSTooltipDeferredImpl.react\"]},\"rds\":{\"m\":[\"PrivacyCenterFalcoEvent\",\"ContextualConfig\",\"BladeRunnerClient\",\"CometRelayEF\",\"FbtLogging\",\"DGWRequestStreamClient\",\"CometSuspenseFalcoEvent\",\"ODS\",\"IntlQtEventFalcoEvent\",\"CDSToast.react\",\"CometToast.react\",\"MqttLongPollingRunner\"],\"r\":[\"jd71tJn\",\"AG9sedv\",\"du17IWs\",\"OJDxW8l\",\"aPg1wmC\",\"pMLPaDL\"]},\"be\":1},\"SecuredActionBlockDialog.react\":{\"r\":[\"gwMFXud\",\"QTM8FjL\",\"uqrwJVh\",\"ALBhwn6\",\"HPyauA+\",\"680GOIE\",\"I2uML8d\",\"6zVNUyX\"],\"rdfds\":{\"m\":[\"CDSTooltipDeferredImpl.react\"]},\"rds\":{\"m\":[\"CometToast.react\",\"FbtLogging\",\"CometSuspenseFalcoEvent\",\"ODS\",\"IntlQtEventFalcoEvent\"],\"r\":[\"OJDxW8l\",\"AG9sedv\"]},\"be\":1},\"SecuredActionChallengePasswordDialog.react\":{\"r\":[\"gwMFXud\",\"uqrwJVh\",\"680GOIE\",\"vT6HQvj\",\"I2uML8d\",\"HPyauA+\"],\"rdfds\":{\"m\":[\"CometExceptionDialog.react\",\"SecuredActionTriggerWithAccountID.react\",\"SecuredActionTriggerWithEncryptedContext.react\",\"FDSTooltipDeferredImpl.react\"]},\"rds\":{\"m\":[\"ContextualConfig\",\"BladeRunnerClient\",\"FBBrowserPasswordEncryption\",\"FbtLogging\",\"DGWRequestStreamClient\",\"CometSuspenseFalcoEvent\",\"ODS\",\"IntlQtEventFalcoEvent\",\"CometToast.react\",\"MqttLongPollingRunner\",\"CometRelayEF\"],\"r\":[\"AG9sedv\",\"du17IWs\",\"OJDxW8l\",\"aPg1wmC\",\"pMLPaDL\"]},\"be\":1},\"SecuredActionChallengeCDSPasswordDialog.react\":{\"r\":[\"gwMFXud\",\"QTM8FjL\",\"8JggBxU\",\"sBYQ3Um\",\"xsIncqe\",\"uqrwJVh\",\"pMq7Kpb\",\"AidERoQ\",\"KBEhKw1\",\"HPyauA+\",\"jX9dtO2\",\"pletEX9\",\"tyG95D6\",\"q1jasoK\",\"680GOIE\",\"wECkeNR\",\"oogVVW7\",\"I2uML8d\",\"8v+JZAo\",\"rjvP8qr\",\"6zVNUyX\",\"dUgVISb\",\"itmhKIf\",\"1DfHRm7\",\"n5i2IEv\",\"kpxHhCB\",\"qLMcAOq\",\"jd71tJn\",\"hnY9ITu\"],\"rdfds\":{\"m\":[\"CDSTooltipDeferredImpl.react\",\"CometExceptionDialog.react\",\"SecuredActionTriggerWithAccountID.react\",\"SecuredActionTriggerWithEncryptedContext.react\",\"FDSTooltipDeferredImpl.react\"]},\"rds\":{\"m\":[\"FxReauthenticationFalcoEvent\",\"ContextualConfig\",\"BladeRunnerClient\",\"SecuredActionExteriorFalcoEvent\",\"CometRelayEF\",\"FbtLogging\",\"DGWRequestStreamClient\",\"CometSuspenseFalcoEvent\",\"ODS\",\"IntlQtEventFalcoEvent\",\"CDSToast.react\",\"CometToast.react\",\"MqttLongPollingRunner\"],\"r\":[\"PdDRY3q\",\"AG9sedv\",\"du17IWs\",\"OJDxW8l\",\"aPg1wmC\",\"pMLPaDL\"]},\"be\":1},\"SecuredActionNoChallengeAvailableCDSDialog.react\":{\"r\":[\"\\/NTWV2I\",\"gwMFXud\",\"uqrwJVh\",\"HPyauA+\",\"680GOIE\",\"I2uML8d\"],\"rdfds\":{\"m\":[\"CDSTooltipDeferredImpl.react\"]},\"rds\":{\"m\":[\"FbtLogging\",\"CometSuspenseFalcoEvent\",\"ODS\",\"IntlQtEventFalcoEvent\"],\"r\":[\"AG9sedv\"]},\"be\":1},\"TwoStepVerificationRoot.react\":{\"r\":[\"uqrwJVh\",\"gwMFXud\",\"HPyauA+\",\"OQ+PJws\",\"1VS+FRb\",\"680GOIE\",\"I2uML8d\",\"19GOBqL\",\"6zVNUyX\",\"kpxHhCB\"],\"rdfds\":{\"m\":[\"CDSTooltipDeferredImpl.react\",\"CometExceptionDialog.react\",\"SecuredActionTriggerWithAccountID.react\",\"SecuredActionTriggerWithEncryptedContext.react\",\"FDSTooltipDeferredImpl.react\"]},\"rds\":{\"m\":[\"ContextualConfig\",\"BladeRunnerClient\",\"CometToast.react\",\"CometRelayEF\",\"FbtLogging\",\"DGWRequestStreamClient\",\"CometSuspenseFalcoEvent\",\"ODS\",\"IntlQtEventFalcoEvent\",\"MqttLongPollingRunner\"],\"r\":[\"AG9sedv\",\"du17IWs\",\"OJDxW8l\",\"aPg1wmC\",\"pMLPaDL\"]},\"be\":1},\"Dialog\":{\"r\":[\"0cpSJSc\",\"uqrwJVh\",\"EOykUZF\",\"EE0BCB3\",\"gwMFXud\",\"35pknka\",\"OMvx\\/2b\",\"680GOIE\",\"HMPleYo\",\"I2uML8d\",\"Gi6sMcX\",\"ce4bU3b\",\"UvkyY2e\"],\"rds\":{\"m\":[\"FbtLogging\",\"IntlQtEventFalcoEvent\",\"ODS\"],\"r\":[\"AG9sedv\"]},\"be\":1},\"ExceptionDialog\":{\"r\":[\"gwMFXud\",\"0cpSJSc\",\"uqrwJVh\",\"MDH\\/NMQ\",\"EOykUZF\",\"EE0BCB3\",\"6BaTyvw\",\"MFNObik\",\"35pknka\",\"OMvx\\/2b\",\"+1emcrb\",\"03h9Jko\",\"ncJ74ny\",\"680GOIE\",\"74HhC31\",\"HMPleYo\",\"EQQOuop\",\"I2uML8d\",\"6yretjL\",\"DlSlzTl\",\"HPyauA+\",\"Gi6sMcX\",\"ce4bU3b\",\"6SUBvv2\",\"x6nQ0lX\",\"krADu0k\",\"ATbeq0B\",\"UvkyY2e\",\"GxOlVY6\",\"3p2M17T\",\"dgsxFcr\"],\"rds\":{\"m\":[\"FbtLogging\",\"ODS\",\"IntlQtEventFalcoEvent\"],\"r\":[\"AG9sedv\"]},\"be\":1},\"ConfirmationDialog\":{\"r\":[\"uqrwJVh\",\"EE0BCB3\",\"gwMFXud\",\"35pknka\",\"680GOIE\",\"HMPleYo\",\"n2UPpV0\"],\"be\":1},\"MWADeveloperReauthBarrier\":{\"r\":[\"o0mmRLc\",\"uqrwJVh\",\"ttASCon\",\"680GOIE\",\"KAkIewO\"],\"be\":1},\"CometIXTFacebookXfacUniversalTriggerRoot.react\":{\"r\":[\"gwMFXud\",\"uqrwJVh\",\"0s9Sx3j\",\"680GOIE\",\"WHhSLLO\",\"I2uML8d\",\"xnQzQZD\",\"HPyauA+\",\"a+2Sahl\",\"6ILVhys\",\"5Bk38fU\"],\"rdfds\":{\"m\":[\"FDSTooltipDeferredImpl.react\"]},\"rds\":{\"m\":[\"FbtLogging\",\"CometSuspenseFalcoEvent\",\"ODS\",\"IntlQtEventFalcoEvent\"],\"r\":[\"AG9sedv\"]},\"be\":1}}}]]]}</script>\n",
            "<script type=\"application/json\"  data-content-len=\"2983\" data-sjs>{\"require\":[[\"ScheduledServerJS\",\"handle\",null,[{\"__bbox\":{\"define\":[[\"cr:12338\",[\"CometErrorRoot.react\"],{\"__rc\":[\"CometErrorRoot.react\",null]},-1],[\"cr:10818\",[],{\"__rc\":[null,null]},-1],[\"cr:964538\",[],{\"__rc\":[null,null]},-1],[\"cr:3191\",[\"CDSQuestionRenderer_renderer.facebook.graphql\"],{\"__rc\":[\"CDSQuestionRenderer_renderer.facebook.graphql\",null]},-1],[\"cr:1080422\",[],{\"__rc\":[null,null]},-1],[\"cr:1408565\",[],{\"__rc\":[null,null]},-1],[\"cr:8544\",[\"CometIXTMainFacebookXfacUniversalTriggerEntryPoint.entrypoint\"],{\"__rc\":[\"CometIXTMainFacebookXfacUniversalTriggerEntryPoint.entrypoint\",null]},-1],[\"cr:8592\",[\"useIXTFacebookEntryPointDialog\"],{\"__rc\":[\"useIXTFacebookEntryPointDialog\",null]},-1],[\"cr:710\",[],{\"__rc\":[null,null]},-1],[\"cr:8374\",[\"CometIXTFacebookXfacUniversalTriggerEntryPoint.entrypoint\"],{\"__rc\":[\"CometIXTFacebookXfacUniversalTriggerEntryPoint.entrypoint\",null]},-1],[\"cr:7443\",[\"useCometEntryPointDialog\"],{\"__rc\":[\"useCometEntryPointDialog\",null]},-1]],\"require\":[[\"cometPushToast\"],[\"CometRouterUIComponentsDefaultErrorRoot.react\"],[\"GlobalVideoPortsImpl.react\"],[\"CometExceptionDialog.react\"],[\"FDSCalloutImpl.react\"],[\"CDSTooltipDeferredImpl.react\"],[\"FalcoLoggerTransports\"],[\"SecuredActionTriggerWithAccountID.react\"],[\"SecuredActionTriggerWithEncryptedContext.react\"],[\"FDSTooltipDeferredImpl.react\"],[\"emptyFunction\",\"thatReturns\",[\"RequireDeferredReference\"],[[{\"__dr\":\"cometPushToast\"},{\"__dr\":\"CometRouterUIComponentsDefaultErrorRoot.react\"},{\"__dr\":\"GlobalVideoPortsImpl.react\"},{\"__dr\":\"CometExceptionDialog.react\"},{\"__dr\":\"FDSCalloutImpl.react\"},{\"__dr\":\"CDSTooltipDeferredImpl.react\"},{\"__dr\":\"CDSQuestionPage.react\"},{\"__dr\":\"FalcoLoggerTransports\"},{\"__dr\":\"SecuredActionTriggerWithAccountID.react\"},{\"__dr\":\"SecuredActionTriggerWithEncryptedContext.react\"},{\"__dr\":\"FDSTooltipDeferredImpl.react\"}]]],[\"TransportSelectingClientSingletonConditional\"],[\"RequireDeferredReference\",\"unblock\",[],[[\"cometPushToast\",\"CometRouterUIComponentsDefaultErrorRoot.react\",\"GlobalVideoPortsImpl.react\",\"CometExceptionDialog.react\",\"FDSCalloutImpl.react\",\"CDSTooltipDeferredImpl.react\",\"CDSQuestionPage.react\",\"FalcoLoggerTransports\",\"SecuredActionTriggerWithAccountID.react\",\"SecuredActionTriggerWithEncryptedContext.react\",\"FDSTooltipDeferredImpl.react\",\"TransportSelectingClientSingletonConditional\"],\"sd\"]],[\"RequireDeferredReference\",\"unblock\",[],[[\"cometPushToast\",\"CometRouterUIComponentsDefaultErrorRoot.react\",\"GlobalVideoPortsImpl.react\",\"CometExceptionDialog.react\",\"FDSCalloutImpl.react\",\"CDSTooltipDeferredImpl.react\",\"FalcoLoggerTransports\",\"SecuredActionTriggerWithAccountID.react\",\"SecuredActionTriggerWithEncryptedContext.react\",\"FDSTooltipDeferredImpl.react\",\"TransportSelectingClientSingletonConditional\"],\"css\"]]]}},{\"__bbox\":{\"require\":[[\"qplTimingsServerJS\",null,null,[\"7478941353118175553\",\"tierTwoBeforeScheduler\"]]]}},{\"__bbox\":{\"require\":[[\"qplTimingsServerJS\",null,null,[\"7478941353118175553\",\"tierTwoInsideScheduler\"]]]}}]]]}</script>\n",
            "<script type=\"application/json\"  data-content-len=\"83\" data-sjs>{\"require\":[[\"qplTimingsServerJS\",null,null,[\"7478941353118175553\",\"tierTwoEnd\"]]]}</script>\n",
            "\n",
            "<script type=\"application/json\"  data-content-len=\"107\" data-sjs>{\"require\":[[\"CometSSRMergedContentInjector\",\"onPayloadReceived\",null,[{\"status\":\"fail_bad_preloaders\"}]]]}</script>\n",
            "\n",
            "                                                                                                                                                                                                                                                                                                                                                                                                                                                                                                                                                                                                                                                                                                                                                                                                                                                                         <script type=\"application/json\"  data-content-len=\"82\" data-sjs>{\"require\":[[\"qplTimingsServerJS\",null,null,[\"7478941353118175553\",\"tierThree\"]]]}</script>\n",
            "<script type=\"application/json\"  data-content-len=\"1539\" data-sjs>{\"require\":[[\"HasteSupportData\",\"handle\",null,[{\"clpData\":{\"1828945\":{\"r\":100,\"s\":1},\"1848815\":{\"r\":10000,\"s\":1},\"819\":{\"r\":1,\"s\":1},\"1744057\":{\"r\":500,\"s\":1},\"1744058\":{\"r\":5000,\"s\":1},\"1744059\":{\"r\":10000,\"s\":1},\"1744060\":{\"r\":1000,\"s\":1},\"1857112\":{\"r\":1},\"1871697\":{\"r\":1,\"s\":1},\"1764786\":{\"r\":1,\"s\":1},\"1755537\":{\"r\":1},\"1942319\":{\"r\":1,\"s\":1},\"1823926\":{\"r\":1,\"s\":1},\"150\":{\"r\":1,\"s\":1},\"1873550\":{\"r\":10000,\"s\":1},\"1743095\":{\"r\":1,\"s\":1}},\"gkxData\":{\"20919\":{\"result\":true,\"hash\":null},\"20929\":{\"result\":true,\"hash\":null},\"21118\":{\"result\":false,\"hash\":null},\"21119\":{\"result\":false,\"hash\":null},\"21120\":{\"result\":true,\"hash\":null},\"21121\":{\"result\":false,\"hash\":null},\"21122\":{\"result\":false,\"hash\":null},\"21123\":{\"result\":true,\"hash\":null},\"21124\":{\"result\":false,\"hash\":null},\"9999\":{\"result\":true,\"hash\":null},\"20915\":{\"result\":false,\"hash\":null},\"20916\":{\"result\":false,\"hash\":null},\"20918\":{\"result\":false,\"hash\":null},\"20920\":{\"result\":false,\"hash\":null},\"22885\":{\"result\":false,\"hash\":null},\"22886\":{\"result\":true,\"hash\":null},\"26332\":{\"result\":true,\"hash\":null},\"20995\":{\"result\":false,\"hash\":null},\"21049\":{\"result\":false,\"hash\":null}},\"ixData\":{\"485124\":{\"sprited\":2,\"spi\":\"https:\\/\\/static.xx.fbcdn.net\\/rsrc.php\\/v4\\/yc\\/r\\/tyoHuP_teo8.png\",\"_spi\":\"https:\\/\\/static.xx.fbcdn.net\\/rsrc.php\\/v4\\/yc\\/r\\/tyoHuP_teo8.png\",\"w\":24,\"h\":24,\"p\":\"0 -300px\",\"sz\":\"auto\"}},\"metaconfigData\":{\"15\":{\"value\":false},\"99\":{\"value\":false}},\"qplData\":{\"1860\":{\"r\":1}},\"justknobxData\":{\"317\":{\"r\":16},\"1023\":{\"r\":true},\"2595\":{\"r\":1}}}]]]}</script>\n",
            "<script type=\"application/json\"  data-content-len=\"736\" data-sjs>{\"require\":[[\"Bootloader\",\"handlePayload\",null,[{\"consistency\":{\"rev\":1020679384},\"rsrcMap\":{\"tl4dfdK\":{\"type\":\"js\",\"src\":\"https:\\/\\/static.xx.fbcdn.net\\/rsrc.php\\/v4iD6c4\\/y1\\/l\\/en_US\\/aXUpkcXq0IhSccC--IO1upqAveLtnTTG7ThyeIjKLB_O.js\",\"c\":1,\"p\":\":206,103,41,37\"},\"sUfQJeP\":{\"type\":\"js\",\"src\":\"https:\\/\\/static.xx.fbcdn.net\\/rsrc.php\\/v4iQyZ4\\/yT\\/l\\/en_US\\/T8RFFNdudal.js\",\"c\":1,\"p\":\":166\"},\"jZlPUHI\":{\"type\":\"js\",\"src\":\"https:\\/\\/static.xx.fbcdn.net\\/rsrc.php\\/v4iTQK4\\/yC\\/l\\/en_US\\/kxf3_Z-GcMs.js\",\"c\":1,\"p\":\":36\"},\"zPYlTyl\":{\"type\":\"js\",\"src\":\"https:\\/\\/static.xx.fbcdn.net\\/rsrc.php\\/v4\\/yO\\/r\\/_tJ17sGyxOX.js\",\"c\":1,\"p\":\":165\"}},\"sotUpgrades\":[\"AG9sedv\",\"tl4dfdK\",\"OJDxW8l\",\"sUfQJeP\",\"jZlPUHI\",\"aPg1wmC\",\"pMLPaDL\",\"zPYlTyl\"]}]]]}</script>\n",
            "<script type=\"application/json\"  data-content-len=\"139\" data-sjs>{\"require\":[[\"DeferredJSResourceScheduler\",null,null,[[\"AG9sedv\",\"tl4dfdK\",\"OJDxW8l\",\"sUfQJeP\",\"jZlPUHI\",\"aPg1wmC\",\"pMLPaDL\",\"zPYlTyl\"]]]]}</script>\n",
            "<script type=\"application/json\"  data-content-len=\"8016\" data-sjs>{\"require\":[[\"ScheduledServerJS\",\"handle\",null,[{\"__bbox\":{\"define\":[[\"cr:6943\",[\"EventListenerImplForCacheStorage\"],{\"__rc\":[\"EventListenerImplForCacheStorage\",null]},-1],[\"cr:3024\",[],{\"__rc\":[null,null]},-1],[\"cr:2046346\",[],{\"__rc\":[null,null]},-1],[\"cr:8828\",[],{\"__rc\":[null,null]},-1],[\"cr:1094907\",[],{\"__rc\":[null,null]},-1],[\"cr:334\",[\"ghlTestUBTFacebook\"],{\"__rc\":[\"ghlTestUBTFacebook\",null]},-1],[\"cr:1543261\",[],{\"__rc\":[null,null]},-1],[\"cr:1402\",[\"CometNetworkStatusToast\"],{\"__rc\":[\"CometNetworkStatusToast\",null]},-1],[\"cr:2718\",[],{\"__rc\":[null,null]},-1],[\"cr:5090\",[],{\"__rc\":[null,null]},-1],[\"cr:9041\",[],{\"__rc\":[null,null]},-1],[\"cr:1201738\",[],{\"__rc\":[null,null]},-1],[\"cr:1332233\",[],{\"__rc\":[null,null]},-1],[\"cr:1345969\",[\"AccessibilityWebAssistiveTechTypedLoggerLite\"],{\"__rc\":[\"AccessibilityWebAssistiveTechTypedLoggerLite\",null]},-1],[\"cr:1516609\",[\"BDCometSignalCollectionTrigger\"],{\"__rc\":[\"BDCometSignalCollectionTrigger\",null]},-1],[\"cr:1634616\",[\"CometUserActivity\"],{\"__rc\":[\"CometUserActivity\",null]},-1],[\"cr:3459\",[\"PrivacyCenterLimitPastPostsMutation.facebook.graphql\"],{\"__rc\":[\"PrivacyCenterLimitPastPostsMutation.facebook.graphql\",null]},-1],[\"MarauderConfig\",[],{\"app_version\":\"1.0.0.0 (1020679384)\",\"gk_enabled\":false},31],[\"CurrentEnvironment\",[],{\"facebookdotcom\":true,\"messengerdotcom\":false,\"workplacedotcom\":false,\"instagramdotcom\":false,\"workdotmetadotcom\":false,\"horizondotmetadotcom\":false},827],[\"RTISubscriptionManagerConfig\",[],{\"config\":{},\"autobot\":{},\"assimilator\":{},\"unsubscribe_release\":true,\"bladerunner_www_sandbox\":null,\"is_intern\":false},1081],[\"MqttWebConfig\",[],{\"fbid\":\"0\",\"appID\":219994525426954,\"endpoint\":\"wss:\\/\\/edge-chat.facebook.com\\/chat\",\"pollingEndpoint\":\"https:\\/\\/edge-chat.facebook.com\\/mqtt\\/pull\",\"subscribedTopics\":[],\"capabilities\":10,\"clientCapabilities\":3,\"chatVisibility\":false,\"hostNameOverride\":\"\"},3790],[\"RequestStreamE2EClientSamplingConfig\",[],{\"sampleRate\":100000,\"methodToSamplingMultiplier\":{\"RTCSessionMessage\":10000,\"Presence\":0.01,\"FBGQLS:VOD_TICKER_SUBSCRIBE\":0.01,\"FBGQLS:STORIES_TRAY_SUBSCRIBE\":100,\"Collabri\":0.1,\"FBGQLS:WORK_AVAILABILITY_STATUS_FANOUT_SUBSCRIBE\":0.1,\"FBGQLS:GROUP_UNSEEN_ACTIVITY_SUBSCRIBE\":0.1,\"FBGQLS:GROUP_RESET_UNSEEN_ACTIVITY_SUBSCRIBE\":0.1,\"FBGQLS:INTERN_CALENDAR_UPDATE_SUBSCRIBE\":0.1,\"SKY:gizmo_manage\":10000,\"FBGQLS:FEEDBACK_LIKE_SUBSCRIBE\":10,\"FBGQLS:HUDDLE_USERS_REQUESTED_TO_SPEAK_COUNT_SUBSCRIBE\":1000}},4501],[\"MqttWebDeviceID\",[],{\"clientID\":\"13f75773-a05a-4da6-9390-b599fff4d118\"},5003],[\"WebDevicePerfInfoData\",[],{\"needsFullUpdate\":true,\"needsPartialUpdate\":false,\"shouldLogResourcePerf\":false},3977],[\"DGWWebConfig\",[],{\"appId\":\"2220391788200892\",\"appVersion\":\"0\",\"dgwVersion\":\"2\",\"endpoint\":\"\",\"fbId\":\"0\",\"authType\":\"\"},5508],[\"CometRouteActorToasterBlocklist\",[],{\"route_trace_policies\":[\"comet.jobs.composer\",\"comet.jobs.detailView\",\"comet.compat.XCometPageJobOpeningDetailViewController\",\"comet.offer.create\",\"comet.offers.offer_details\",\"comet.crisis.safety_check\",\"comet.crisis.home_page\"]},5542],[\"WebStorageMonsterLoggingURI\",[],{\"uri\":\"\\/ajax\\/webstorage\\/process_keys\\/?state=1\"},3032],[\"cr:1088657\",[],{\"__rc\":[null,null]},-1],[\"GhlTennisKnobsConfig\",[],{\"ghlbox_log_validity_in_mins\":7200,\"ghlbox_initialize_in_mins\":14400,\"change_class_interval_in_mins\":1440},6687],[\"BDSignalCollectionData\",[],{\"sc\":\"{\\\"t\\\":1659080345,\\\"c\\\":[[30000,838801],[30001,838801],[30002,838801],[30003,838801],[30004,838801],[30005,838801],[30006,573585],[30007,838801],[30008,838801],[30012,838801],[30013,838801],[30015,806033],[30018,806033],[30021,540823],[30022,540817],[30040,806033],[30093,806033],[30094,806033],[30095,806033],[30101,541591],[30102,541591],[30103,541591],[30104,541591],[30106,806039],[30107,806039],[38000,541427],[38001,806643]]}\",\"fds\":60,\"fda\":60,\"i\":60,\"sbs\":1,\"dbs\":100,\"bbs\":100,\"hbi\":60,\"rt\":262144,\"hbcbc\":2,\"hbvbc\":0,\"hbbi\":30,\"sid\":-1,\"hbv\":\"2479401314075568523\"},5239]],\"require\":[[\"ContextualConfig\"],[\"BladeRunnerClient\"],[\"CometToast.react\"],[\"WebDevicePerfInfoLogging\"],[\"CometPixelRatioUpdater\"],[\"CometChromeDome\"],[\"CometBrowserDimensionsLogger\"],[\"FbtLogging\"],[\"ClientConsistencyFalcoEvent\"],[\"DGWRequestStreamClient\"],[\"CometSuspenseFalcoEvent\"],[\"ODS\"],[\"IntlQtEventFalcoEvent\"],[\"addCometProfileSwitchAnnotation\"],[\"FDSAlertDialogImpl.react\"],[\"CometGHLTestUBT\"],[\"CometFBUncaughtError.react\"],[\"CometToasterView_DO_NOT_USE.react\"],[\"CometRelayEF\"],[\"CometRouteActorToaster.react\"],[\"CometOnBeforeUnloadDialog.react\"],[\"CometRootDeferredShared\"],[\"PrivacyCenterFalcoEvent\"],[\"CDSToast.react\"],[\"emptyFunction\",\"thatReturns\",[\"RequireDeferredReference\"],[[{\"__dr\":\"ContextualConfig\"},{\"__dr\":\"BladeRunnerClient\"},{\"__dr\":\"CometToast.react\"},{\"__dr\":\"WebDevicePerfInfoLogging\"},{\"__dr\":\"CometPixelRatioUpdater\"},{\"__dr\":\"CometChromeDome\"},{\"__dr\":\"CometBrowserDimensionsLogger\"},{\"__dr\":\"FbtLogging\"},{\"__dr\":\"ClientConsistencyFalcoEvent\"},{\"__dr\":\"DGWRequestStreamClient\"},{\"__dr\":\"CometSuspenseFalcoEvent\"},{\"__dr\":\"ODS\"},{\"__dr\":\"IntlQtEventFalcoEvent\"},{\"__dr\":\"addCometProfileSwitchAnnotation\"},{\"__dr\":\"FDSAlertDialogImpl.react\"},{\"__dr\":\"CometGHLTestUBT\"},{\"__dr\":\"CometFBUncaughtError.react\"},{\"__dr\":\"CometToasterView_DO_NOT_USE.react\"},{\"__dr\":\"CometRelayEF\"},{\"__dr\":\"CometRouteActorToaster.react\"},{\"__dr\":\"CometOnBeforeUnloadDialog.react\"},{\"__dr\":\"CometRootDeferredShared\"},{\"__dr\":\"PrivacyCenterFalcoEvent\"},{\"__dr\":\"CDSToast.react\"},{\"__dr\":\"SurveyPlatformCometClientEventFalcoEvent\"},{\"__dr\":\"PrivacyCenterLimitPastPostsMutation\"},{\"__dr\":\"FDSConfirmationDialogImpl.react\"}]]],[\"CometPlatformRootClient\",\"setInitDeferredPayload\",[],[{\"sketchInfo\":null,\"userID\":0,\"deferredCookies\":{\"_js_datr\":{\"value\":\"iYnKZxYUd8h1f1kgWa3Js7f9\",\"expiration_for_js\":34560000000,\"expiration_for_http\":1775886729,\"path\":\"\\/\",\"domain\":\".facebook.com\",\"secure\":true,\"http_only\":true,\"first_party_only\":true,\"add_js_prefix\":true,\"same_site\":\"None\"}},\"blLoggingCavalryFields\":{\"bl_sample_rate\":0,\"hr_sample_rate\":0,\"parent_lid\":\"7478941353118175553\"}}]],[\"MqttLongPollingRunner\"],[\"Chromedome\"],[\"AcfToastImpressionFalcoEvent\"],[\"json-bigint\"],[\"Bootloader\",\"markComponentsAsImmediate\",[],[[\"FDSProfileVideoSection.react\"]]],[\"RequireDeferredReference\",\"unblock\",[],[[\"ContextualConfig\",\"BladeRunnerClient\",\"CometToast.react\",\"WebDevicePerfInfoLogging\",\"CometPixelRatioUpdater\",\"CometChromeDome\",\"CometBrowserDimensionsLogger\",\"FbtLogging\",\"ClientConsistencyFalcoEvent\",\"DGWRequestStreamClient\",\"CometSuspenseFalcoEvent\",\"ODS\",\"IntlQtEventFalcoEvent\",\"addCometProfileSwitchAnnotation\",\"FDSAlertDialogImpl.react\",\"CometGHLTestUBT\",\"CometFBUncaughtError.react\",\"CometToasterView_DO_NOT_USE.react\",\"CometRelayEF\",\"CometRouteActorToaster.react\",\"CometOnBeforeUnloadDialog.react\",\"CometRootDeferredShared\",\"PrivacyCenterFalcoEvent\",\"CDSToast.react\",\"SurveyPlatformCometClientEventFalcoEvent\",\"PrivacyCenterLimitPastPostsMutation\",\"FDSConfirmationDialogImpl.react\",\"MqttLongPollingRunner\",\"Chromedome\",\"CometExceptionDialog.react\",\"AcfToastImpressionFalcoEvent\",\"json-bigint\"],\"sd\"]],[\"RequireDeferredReference\",\"unblock\",[],[[\"ContextualConfig\",\"BladeRunnerClient\",\"CometToast.react\",\"WebDevicePerfInfoLogging\",\"CometPixelRatioUpdater\",\"CometChromeDome\",\"CometBrowserDimensionsLogger\",\"FbtLogging\",\"ClientConsistencyFalcoEvent\",\"DGWRequestStreamClient\",\"CometSuspenseFalcoEvent\",\"ODS\",\"IntlQtEventFalcoEvent\",\"addCometProfileSwitchAnnotation\",\"FDSAlertDialogImpl.react\",\"CometGHLTestUBT\",\"CometFBUncaughtError.react\",\"CometToasterView_DO_NOT_USE.react\",\"CometRelayEF\",\"CometRouteActorToaster.react\",\"CometOnBeforeUnloadDialog.react\",\"CometRootDeferredShared\",\"PrivacyCenterFalcoEvent\",\"CDSToast.react\",\"MqttLongPollingRunner\",\"Chromedome\",\"CometExceptionDialog.react\",\"AcfToastImpressionFalcoEvent\",\"json-bigint\"],\"css\"]]]}},{\"__bbox\":{\"require\":[[\"qplTimingsServerJS\",null,null,[\"7478941353118175553\",\"tierThreeBeforeScheduler\"]]]}},{\"__bbox\":{\"require\":[[\"qplTimingsServerJS\",null,null,[\"7478941353118175553\",\"tierThreeInsideScheduler\"]]]}}]]]}</script>\n",
            "<script type=\"application/json\"  data-content-len=\"85\" data-sjs>{\"require\":[[\"qplTimingsServerJS\",null,null,[\"7478941353118175553\",\"tierThreeEnd\"]]]}</script>\n",
            "\n",
            "<script type=\"application/json\"  data-content-len=\"4553\" data-sjs>{\"require\":[[\"CometQPLPayloadStore\",\"storePayloadMap\",null,[{\"7478941353118175553\":{\"js\\/2iwjew6oh44kkcws.pkg.js\":{\"url\":\"https:\\/\\/static.xx.fbcdn.net\\/rsrc.php\\/v4\\/yz\\/r\\/rsZrCi9zMpv.js\",\"refs\":[\"htmlStart\",\"tierOne\",\"tierTwo\",\"tierThree\"]},\"css\\/7ivpe0c9q2cc8w4w.pkg,css\\/8dgfnogempwkok4c.pkg,css\\/20cb3qa4xwbo444s.pkg,css\\/3aho6engjg6cs8sk.pkg,css\\/1s4rc9d6rl1cwss8.pkg.__composite__.css\":{\"url\":\"https:\\/\\/static.xx.fbcdn.net\\/rsrc.php\\/v5\\/yN\\/l\\/0,cross\\/VWkvpOtXI2xoXnggUap6wYcyf8QhNEWE-MbVu6J6TSgCzupAm9R8u1G.css\",\"refs\":[\"htmlStart\",\"tierOne\",\"tierTwo\",\"tierThree\"]},\"js\\/29kky3xzq5no0cc0.pkg,js\\/7i1bgr814t4wcsks.pkg,js\\/5sbo1xj93roc0cgg.pkg,js\\/4orv3g2qmzuoks0o.pkg,js\\/6vehkgwjsygwscwk.pkg,js\\/cbp1jtlr0e0ww8ww.pkg,js\\/5hheqc57ungokc44.pkg,js\\/3go48v9pzwcg88os.pkg,js\\/3dbibwpvf4ows4ow.pkg,js\\/1z2hjk13b0g00kww.pkg,js\\/axl1gkllbywcwwkg.pkg,js\\/48fkppthjj8kkw0g.pkg,js\\/bxv2sb3le7wco0wg.pkg,js\\/2vr3x6w3i544c8g8.pkg,js\\/1u9mtssbri4g84ck.pkg.__composite__.js\":{\"url\":\"https:\\/\\/static.xx.fbcdn.net\\/rsrc.php\\/v4ijpN4\\/yt\\/l\\/en_US\\/UnDFSoGMNr7ilF8YYE4Cmm6kQB7ugSHnYFAlefbcn09VPqfPPnjlzdokgsDFnzgI0hNz9yJps83EoTADLj5KeTcDntlpB0mK9mMxb8Fzdqq6HyQwa_lu6DQ7iJSBDILY-sOQfAZHIUI4oEI2iLMeESsPfhIQ9Kn9DnW6x.js\",\"refs\":[\"htmlStart\",\"tierOne\",\"tierTwo\",\"tierThree\"]},\"js\\/acw5o3ztxjk84s4w.pkg,js\\/4fvqyosi7ssg8oos.pkg,js\\/1rkl6f5eglk0g4ws.pkg,js\\/1lif1vie5hgks8gc.pkg,js\\/61mu8fv6qdoocwwk.pkg,js\\/5puvf56o62gw40kw.pkg,js\\/6c6zz7pvq7wgcs8s.pkg,js\\/c7lrltwtdsocgcws.pkg,js\\/anl9d2rm7jco0wko.pkg,js\\/3hg3ven5u6qssg8k.pkg,js\\/hpmd2cl62u0cwgkg.pkg,js\\/co9o29a0cz4scwsg.pkg,js\\/45swhv0mlfc4o4c8.pkg,js\\/32qufmgy3u688o48.pkg,js\\/3aml1ymfzb6sw4ww.pkg,js\\/c66xixtqvmgckswg.pkg,js\\/93ta5yn6kdssck0g.pkg,js\\/b8dfpgwvusoo8so0.pkg,js\\/6lov4piil1s84cwk.pkg,js\\/9qu35sncvio808wg.pkg,js\\/ddg7etdo4j4swoko.pkg,js\\/ec4c3wniam0w88gs.pkg,js\\/3x3uuoh7yrc448g4.pkg,js\\/528ebropyfc4gw8g.pkg,js\\/e60wlyk7ug0gocwk.pkg,js\\/a34brge4r7k0og04.pkg,js\\/zrruzjb8668wgo44.pkg,js\\/6zdjq4yqc7sws8go.pkg,js\\/9s441qbmdpoocgws.pkg,js\\/ajvj8auatuoko8cc.pkg.__composite__.js\":{\"url\":\"https:\\/\\/static.xx.fbcdn.net\\/rsrc.php\\/v4ijN94\\/yU\\/l\\/en_US\\/_c4QCQw2aUXNE3ixyI7JGcpfkgwzYrAWdVV_pE9JVkTTFAzTHdS1LB1Q0ivcy0XxRyLu5Uwoz7C5wQ5bpg3EruuKr6IpMqi49s4ZguU19a5eP4k2phfwVKes2tBUnk9tJqu9wp-JzJgI7ky6-fQnt84YjiVJnOOOIqfau-iQ_EKWQHt0oLUy3U7f3Y-ui2DkP-wt_7eu8nxMU8OUvNbMgOb16KRVHjYyQO3GNWeS9aXmWqL0sd1Rdzuzi16ygF96L2CjyB8x18xxl0BYkcGhPx2jLwm6Plp55HfXW__mMzi95_wmB-51zzTWWlgralT2pEQn4HVER6.js\",\"refs\":[\"htmlStart\",\"tierOne\",\"tierTwo\",\"tierThree\"]},\"js\\/b050n52wr88c4o08.pkg.js\":{\"url\":\"https:\\/\\/static.xx.fbcdn.net\\/rsrc.php\\/v4iT364\\/yh\\/l\\/en_US\\/Bc-hCupoatO.js\",\"refs\":[\"htmlStart\",\"tierOne\",\"tierTwo\",\"tierThree\"]},\"js\\/rpzbvibttus4ckk8.pkg.js\":{\"url\":\"https:\\/\\/static.xx.fbcdn.net\\/rsrc.php\\/v4\\/yR\\/r\\/CtFZSKpBmC1.js\",\"refs\":[\"htmlStart\",\"tierTwo\"]},\"js\\/2e8oo4d8kd1cgw88.pkg.js\":{\"url\":\"https:\\/\\/static.xx.fbcdn.net\\/rsrc.php\\/v4idBq4\\/yH\\/l\\/en_US\\/oXmCJpwo_yT.js\",\"refs\":[\"htmlStart\",\"tierTwo\"]},\"js\\/2iytch38qh0ks0wo.pkg.js\":{\"url\":\"https:\\/\\/static.xx.fbcdn.net\\/rsrc.php\\/v4i83W4\\/yG\\/l\\/en_US\\/sNZdKsxSrI_.js\",\"refs\":[\"htmlStart\"]},\"js\\/ap9yz8iqp48o840k.pkg.js\":{\"url\":\"https:\\/\\/static.xx.fbcdn.net\\/rsrc.php\\/v4\\/yE\\/r\\/klUMCYUAX4f.js\",\"refs\":[\"htmlStart\"]},\"js\\/any7zyrd6tk4sc80.pkg.js\":{\"url\":\"https:\\/\\/static.xx.fbcdn.net\\/rsrc.php\\/v4\\/yN\\/r\\/Hl6_WiJQMVx.js\",\"refs\":[\"htmlStart\"]},\"js\\/btx3u6ss4tcgk48s.pkg.js\":{\"url\":\"https:\\/\\/static.xx.fbcdn.net\\/rsrc.php\\/v4\\/yg\\/r\\/scKvfZ09Mnd.js\",\"refs\":[\"tierThree\"]},\"js\\/a6ps81sa47sc4cc0.pkg,js\\/6p6pj389l78ck8gg.pkg,js\\/2ttefy3zk7284kgs.pkg,js\\/6g5ts03ya6g4kco0.pkg.__composite__.js\":{\"url\":\"https:\\/\\/static.xx.fbcdn.net\\/rsrc.php\\/v4iD6c4\\/y1\\/l\\/en_US\\/aXUpkcXq0IhSccC--IO1upqAveLtnTTG7ThyeIjKLB_O.js\",\"refs\":[\"tierThree\"]},\"js\\/djhqa4998psk4g0w.pkg.js\":{\"url\":\"https:\\/\\/static.xx.fbcdn.net\\/rsrc.php\\/v4iBIo4\\/yH\\/l\\/en_US\\/ChMQoly8xZa.js\",\"refs\":[\"tierThree\"]},\"js\\/83ayvf1kj64oc8o0.pkg.js\":{\"url\":\"https:\\/\\/static.xx.fbcdn.net\\/rsrc.php\\/v4iQyZ4\\/yT\\/l\\/en_US\\/T8RFFNdudal.js\",\"refs\":[\"tierThree\"]},\"js\\/6d6bbtqjub4sg88k.pkg.js\":{\"url\":\"https:\\/\\/static.xx.fbcdn.net\\/rsrc.php\\/v4iTQK4\\/yC\\/l\\/en_US\\/kxf3_Z-GcMs.js\",\"refs\":[\"tierThree\"]},\"js\\/qx4dmd899hc4ooks.pkg.js\":{\"url\":\"https:\\/\\/static.xx.fbcdn.net\\/rsrc.php\\/v4\\/yi\\/r\\/Rg2ccx3CrnY.js\",\"refs\":[\"tierThree\"]},\"js\\/7gwz01tnsmko04co.pkg.js\":{\"url\":\"https:\\/\\/static.xx.fbcdn.net\\/rsrc.php\\/v4\\/yn\\/r\\/aCN-pNyjW-7.js\",\"refs\":[\"tierThree\"]},\"js\\/bscnvifutv4scso4.pkg.js\":{\"url\":\"https:\\/\\/static.xx.fbcdn.net\\/rsrc.php\\/v4\\/yO\\/r\\/_tJ17sGyxOX.js\",\"refs\":[\"tierThree\"]}}}]]]}</script>\n",
            "<script type=\"application/json\"  data-content-len=\"69\" data-sjs>{\"require\":[[\"qplTagServerJS\",null,null,[[\"lastServerTagFlushed\"]]]]}</script>\n",
            "<script type=\"application/json\"  data-content-len=\"2319\" data-sjs>{\"require\":[[\"qplTimingsServerJS\",null,null,[\"7478941353118175553-server\",\"earlyFlushStart\",10]],[\"qplTimingsServerJS\",null,null,[\"7478941353118175553-server\",\"genRouteStart\",10]],[\"qplTimingsServerJS\",null,null,[\"7478941353118175553-server\",\"genRouteEnd\",13]],[\"qplTimingsServerJS\",null,null,[\"7478941353118175553-server\",\"genEFRsrcStart\",18]],[\"qplTimingsServerJS\",null,null,[\"7478941353118175553-server\",\"genEFRsrcEnd\",23]],[\"qplTimingsServerJS\",null,null,[\"7478941353118175553-server\",\"htmlStart\",25]],[\"qplTimingsServerJS\",null,null,[\"7478941353118175553-server\",\"earlyFlushEnd\",25]],[\"qplTimingsServerJS\",null,null,[\"7478941353118175553-server\",\"cometPageRender\",27]],[\"qplTimingsServerJS\",null,null,[\"7478941353118175553-server\",\"genTierOneStart\",28]],[\"qplTimingsServerJS\",null,null,[\"7478941353118175553-server\",\"genRenderSplashScreenStart\",28]],[\"qplTimingsServerJS\",null,null,[\"7478941353118175553-server\",\"genRenderSplashScreenEnd\",29]],[\"qplTimingsServerJS\",null,null,[\"7478941353118175553-server\",\"genTierOneEnd\",52]],[\"qplTimingsServerJS\",null,null,[\"7478941353118175553-server\",\"tierOne\",56]],[\"qplTimingsServerJS\",null,null,[\"7478941353118175553-server\",\"tierOnePreloadersStart\",56]],[\"qplTimingsServerJS\",null,null,[\"7478941353118175553-server\",\"tierOnePreloadersEnd\",56]],[\"qplTimingsServerJS\",null,null,[\"7478941353118175553-server\",\"genTierTwoStart\",56]],[\"qplTimingsServerJS\",null,null,[\"7478941353118175553-server\",\"genTierTwoEnd\",64]],[\"qplTimingsServerJS\",null,null,[\"7478941353118175553-server\",\"tierTwo\",65]],[\"qplTimingsServerJS\",null,null,[\"7478941353118175553-server\",\"tierTwoPreloadersStart\",65]],[\"qplTimingsServerJS\",null,null,[\"7478941353118175553-server\",\"tierTwoPreloadersEnd\",65]],[\"qplTimingsServerJS\",null,null,[\"7478941353118175553-server\",\"genTierThreeStart\",65]],[\"qplTimingsServerJS\",null,null,[\"7478941353118175553-server\",\"genTierThreeEnd\",67]],[\"qplTimingsServerJS\",null,null,[\"7478941353118175553-server\",\"tierThree\",68]],[\"qplTimingsServerJS\",null,null,[\"7478941353118175553-server\",\"tierThreePreloadersStart\",68]],[\"qplTimingsServerJS\",null,null,[\"7478941353118175553-server\",\"tierThreePreloadersEnd\",68]],[\"qplTimingsServerJS\",null,null,[\"7478941353118175553-server\",\"responseEnd\",68]],[\"qplTimingsServerJS\",null,null,[\"7478941353118175553-server\",\"responseStart\",1]]]}</script>\n",
            "<script type=\"application/json\"  data-content-len=\"2\" data-sjs>{}</script>\n",
            "<script type=\"application/json\"  data-content-len=\"191\" data-sjs>{\"require\":[[\"CometQPLPayloadStore\",\"storePayloadBytesSent\",null,[{\"htmlStart\":[93037,13120],\"tierOne\":[127582,34220],\"tierTwo\":[38187,6448],\"ssr_error\":[183,49],\"tierThree\":[11048,2770]}]]]}</script>\n",
            "<div id='has-finished-comet-page' hidden style='display: none;'></div></body></html>\n",
            "\n",
            "\n"
          ]
        }
      ],
      "source": [
        "# In this case, the result is a text file (HTML) Let's see it!\n",
        "contents = result.text\n",
        "print(contents)"
      ]
    },
    {
      "cell_type": "code",
      "execution_count": null,
      "metadata": {
        "id": "L3pQ7KNsfF8r"
      },
      "outputs": [],
      "source": [
        "# Yay!\n",
        "# This shows that you are able to \"scrape\" an arbitrary HTML page...\n",
        "\n",
        "# Now, we're off to more _structured_ data-gathering..."
      ]
    },
    {
      "cell_type": "markdown",
      "metadata": {
        "id": "7EViIbZ_fHc_"
      },
      "source": [
        "#### Traversing the world - and web - <i>without a browser</i>.   \n",
        "\n",
        "<b>Using the ISS APIs</b>\n",
        "\n",
        "+ Here, you'll make some calls using `requests` to, first, the International Space Station API\n",
        "+ and, then, the US Geological Survey's earthquake API\n",
        "+ \"API\" is short for \"Application Programming Interface\"\n",
        "  + Admittedly, this is not a very informative name:\n",
        "  + The API is the set of services, which are functions and/or urls, provided by some software or site"
      ]
    },
    {
      "cell_type": "markdown",
      "metadata": {
        "id": "Ux6yqtZBfLQy"
      },
      "source": [
        "Let's try it with the International Space Station api at [http://api.open-notify.org/iss-now.json](http://api.open-notify.org/iss-now.json)\n",
        "+ [This page has documentation on the ISS API](http://open-notify.org/Open-Notify-API/ISS-Location-Now/)"
      ]
    },
    {
      "cell_type": "code",
      "execution_count": null,
      "metadata": {
        "id": "-m-JyBd7fJhU",
        "colab": {
          "base_uri": "https://localhost:8080/"
        },
        "outputId": "f505b08c-1aa7-4ade-f963-a780676a7afe"
      },
      "outputs": [
        {
          "output_type": "execute_result",
          "data": {
            "text/plain": [
              "<Response [200]>"
            ]
          },
          "metadata": {},
          "execution_count": 88
        }
      ],
      "source": [
        "#\n",
        "# we assign the url and obtain the api-call result into result\n",
        "#    Note that result will be an object that contains many fields (not a simple string)\n",
        "#\n",
        "\n",
        "import requests\n",
        "\n",
        "url = \"http://api.open-notify.org/iss-now.json\"   # this is sometimes called an \"endpoint\" ...\n",
        "result = requests.get(url)\n",
        "result\n",
        "\n",
        "# if it succeeds, you should see <Response [200]>"
      ]
    },
    {
      "cell_type": "code",
      "execution_count": null,
      "metadata": {
        "id": "Du795XlBfPdQ",
        "colab": {
          "base_uri": "https://localhost:8080/"
        },
        "outputId": "170e3ac7-75a8-491e-f1f4-31e23836fdd4"
      },
      "outputs": [
        {
          "output_type": "stream",
          "name": "stdout",
          "text": [
            "result.url         is http://api.open-notify.org/iss-now.json\n",
            "result.raw         is <urllib3.response.HTTPResponse object at 0x7b4a535bd8a0>\n",
            "result.encoding    is utf-8\n",
            "result.status_code is 200\n"
          ]
        }
      ],
      "source": [
        "#\n",
        "# Let's try printing those shorter fields from before:\n",
        "print(f\"result.url         is {result.url}\")  # the original url\n",
        "print(f\"result.raw         is {result.raw}\")  # another object!\n",
        "print(f\"result.encoding    is {result.encoding}\")  # utf-8 is very common\n",
        "print(f\"result.status_code is {result.status_code}\")  # 200 is success!"
      ]
    },
    {
      "cell_type": "code",
      "execution_count": null,
      "metadata": {
        "id": "Dne0gFhHfQQk",
        "colab": {
          "base_uri": "https://localhost:8080/"
        },
        "outputId": "5fb28ca1-ad61-4ac3-94fe-dc2f08e48c3c"
      },
      "outputs": [
        {
          "output_type": "stream",
          "name": "stdout",
          "text": [
            "{'message': 'success', 'timestamp': 1741327099, 'iss_position': {'latitude': '3.3003', 'longitude': '-160.2482'}}\n"
          ]
        }
      ],
      "source": [
        "#\n",
        "# In this case, we know the result is a JSON file, and we can obtain it that way:\n",
        "json_contents = result.json()\n",
        "print(json_contents)\n",
        "\n",
        "# Remember:  json_contents will be a _dictionary_"
      ]
    },
    {
      "cell_type": "code",
      "execution_count": null,
      "metadata": {
        "id": "UQWuhT4MfTwS",
        "colab": {
          "base_uri": "https://localhost:8080/",
          "height": 36
        },
        "outputId": "c376c479-c455-4f6c-a0c5-6c6dd60343ed"
      },
      "outputs": [
        {
          "output_type": "execute_result",
          "data": {
            "text/plain": [
              "'success'"
            ],
            "application/vnd.google.colaboratory.intrinsic+json": {
              "type": "string"
            }
          },
          "metadata": {},
          "execution_count": 91
        }
      ],
      "source": [
        "#\n",
        "# Let's see how dictionaries work:\n",
        "\n",
        "json_contents['message']\n",
        "\n",
        "# thought experiment:  could we access the other components? What _types_ are they?!!"
      ]
    },
    {
      "cell_type": "markdown",
      "metadata": {
        "id": "QsuRZkTKfg-I"
      },
      "source": [
        "## JSON\n",
        "\n",
        "####  Let's make a brief JSON visit in Python\n",
        "\n",
        "In Python, the curly braces <tt>{</tt> and <tt>}</tt> show that data is in a ***dictionary***\n",
        "\n",
        "Dictionaries are much more flexible than lists!\n",
        "\n",
        "Alas, that means they are more complex:"
      ]
    },
    {
      "cell_type": "code",
      "execution_count": null,
      "metadata": {
        "id": "nKo1OS5gfhri",
        "colab": {
          "base_uri": "https://localhost:8080/"
        },
        "outputId": "03c80723-5cf2-4eba-b9a7-ffd10aee901a"
      },
      "outputs": [
        {
          "output_type": "stream",
          "name": "stdout",
          "text": [
            "{'key': 'value', 'fave': 42, 'list': [5, 6, 7, {'mascot': 'Aliiien'}]}\n"
          ]
        }
      ],
      "source": [
        "# JSON is a javascript dictionary format -- almost the same as a Python dictionary:\n",
        "data = { 'key':'value',  'fave':42,  'list':[5,6,7,{'mascot':'Aliiien'}] }\n",
        "print(data)"
      ]
    },
    {
      "cell_type": "markdown",
      "metadata": {
        "id": "UUlgOVTRf3O-"
      },
      "source": [
        "Most of the time this will be done for us by the ``requests`` library. So, we will simply receive the dictionary of data sent.\n",
        "\n",
        "Then, the trick is to \"extract\" the data fragments we want. (Sometimes it feels like forensics - or archaeology!) Try excavating items one **layer** at a time..."
      ]
    },
    {
      "cell_type": "markdown",
      "metadata": {
        "id": "n2ydEX9qf5u0"
      },
      "source": [
        "#### Remember: &nbsp; <i>not</i> every url returns json data...\n",
        "+ The url [https://www.cs.hmc.edu/~dodds/demo.html](https://www.cs.hmc.edu/~dodds/demo.html) returns a plain-text file with _markup_ text\n",
        "+ that is to say, with HTML tags, such as `<title>Title</title>` to designate the components of its content\n",
        "+ HTML stands for _hypertext markup language_   \n",
        "+ Often anything with tags similar to `<b>be bold!</b>` is called \"markup.\"\n",
        "\n",
        "Let's try our 5C homepages: they're HTML, not JSON:"
      ]
    },
    {
      "cell_type": "code",
      "execution_count": null,
      "metadata": {
        "id": "PWb8L8DXgH0e",
        "colab": {
          "base_uri": "https://localhost:8080/"
        },
        "outputId": "73df71f7-172e-403a-e0a3-ee279685bec7"
      },
      "outputs": [
        {
          "output_type": "stream",
          "name": "stdout",
          "text": [
            "result is <Response [403]>\n"
          ]
        }
      ],
      "source": [
        "#\n",
        "# here, we will obtain plain-text results from a request\n",
        "url = \"https://www.cs.hmc.edu/~dodds/demo.html\"  # try it + source\n",
        "url = \"https://www.scrippscollege.edu/\"          # another possible site...\n",
        "url = \"https://www.pitzer.edu/\"                  # another possible site...\n",
        "url = \"https://www.cmc.edu/\"                     # and another!\n",
        "url = \"https://www.cgu.edu/\"                       # Yay CGU!\n",
        "result = requests.get(url)\n",
        "print(f\"result is {result}\")        # Question: is the result a \"200\" response?! Yes"
      ]
    },
    {
      "cell_type": "markdown",
      "metadata": {
        "id": "vkiBGFRrgFpp"
      },
      "source": [
        "#### For the moment, we will focus on API calls providing JSON\n",
        "+ We're reading-aligned, as we should be!\n",
        "+ The open-ended problem (the finale in this notebook) offers the _option_ of using raw html -- up to you...\n",
        "\n",
        "<br>\n",
        "\n",
        "<b>Let's try another ISS \"endpoint\" ~ one with all of the <i>people</i> in space.</b>\n",
        "\n",
        "It's at this url:  [http://api.open-notify.org/astros.json](http://api.open-notify.org/astros.json)"
      ]
    },
    {
      "cell_type": "code",
      "execution_count": null,
      "metadata": {
        "id": "sH86gZ2Lf4Gc",
        "colab": {
          "base_uri": "https://localhost:8080/"
        },
        "outputId": "1ff5adae-bb30-42fd-8788-4a2f825af78d"
      },
      "outputs": [
        {
          "output_type": "execute_result",
          "data": {
            "text/plain": [
              "<Response [200]>"
            ]
          },
          "metadata": {},
          "execution_count": 106
        }
      ],
      "source": [
        "#\n",
        "# we assign the url and use requests.get to obtain the result into result_astro\n",
        "#\n",
        "#    Remember, result_astro will be an object that contains many fields (not a simple string)\n",
        "#\n",
        "\n",
        "import requests\n",
        "\n",
        "url = \"http://api.open-notify.org/astros.json\"   # this is sometimes called an \"endpoint\" ...\n",
        "result_astro = requests.get(url)\n",
        "result_astro\n",
        "\n",
        "# if it succeeded, you should see <Response [200]>"
      ]
    },
    {
      "cell_type": "code",
      "execution_count": null,
      "metadata": {
        "id": "W0ePlL0FgZbE",
        "colab": {
          "base_uri": "https://localhost:8080/"
        },
        "outputId": "70f0f460-9842-4fad-c66b-b3eaf1053a4b"
      },
      "outputs": [
        {
          "output_type": "stream",
          "name": "stdout",
          "text": [
            "{'people': [{'craft': 'ISS', 'name': 'Oleg Kononenko'}, {'craft': 'ISS', 'name': 'Nikolai Chub'}, {'craft': 'ISS', 'name': 'Tracy Caldwell Dyson'}, {'craft': 'ISS', 'name': 'Matthew Dominick'}, {'craft': 'ISS', 'name': 'Michael Barratt'}, {'craft': 'ISS', 'name': 'Jeanette Epps'}, {'craft': 'ISS', 'name': 'Alexander Grebenkin'}, {'craft': 'ISS', 'name': 'Butch Wilmore'}, {'craft': 'ISS', 'name': 'Sunita Williams'}, {'craft': 'Tiangong', 'name': 'Li Guangsu'}, {'craft': 'Tiangong', 'name': 'Li Cong'}, {'craft': 'Tiangong', 'name': 'Ye Guangfu'}], 'number': 12, 'message': 'success'}\n"
          ]
        }
      ],
      "source": [
        "# If the request succeeded, we know the result is a JSON file, and we can obtain it that way.\n",
        "# Let's call our dictionary something more specific:\n",
        "\n",
        "astronauts = result_astro.json()\n",
        "print(astronauts)\n",
        "\n",
        "d = astronauts     # shorter to type\n",
        "\n",
        "# Remember:  astronauts will be a _dictionary_\n",
        "\n",
        "note = \"\"\" here's yesterday evening's result - it _should_ be the same this morning!\n",
        "\n",
        "{\"people\": [{\"craft\": \"ISS\", \"name\": \"Oleg Kononenko\"}, {\"craft\": \"ISS\", \"name\": \"Nikolai Chub\"},\n",
        "{\"craft\": \"ISS\", \"name\": \"Tracy Caldwell Dyson\"}, {\"craft\": \"ISS\", \"name\": \"Matthew Dominick\"},\n",
        "{\"craft\": \"ISS\", \"name\": \"Michael Barratt\"}, {\"craft\": \"ISS\", \"name\": \"Jeanette Epps\"},\n",
        "{\"craft\": \"ISS\", \"name\": \"Alexander Grebenkin\"}, {\"craft\": \"ISS\", \"name\": \"Butch Wilmore\"},\n",
        "{\"craft\": \"ISS\", \"name\": \"Sunita Williams\"}, {\"craft\": \"Tiangong\", \"name\": \"Li Guangsu\"},\n",
        "{\"craft\": \"Tiangong\", \"name\": \"Li Cong\"}, {\"craft\": \"Tiangong\", \"name\": \"Ye Guangfu\"}],\n",
        "\"number\": 12, \"message\": \"success\"}\n",
        "\"\"\""
      ]
    },
    {
      "cell_type": "markdown",
      "metadata": {
        "id": "0jtQGFX3gdj_"
      },
      "source": [
        "**This** is pretty intricate. Let's try unpacking this - _parsing it_ - with an in-class break-out challenge."
      ]
    },
    {
      "cell_type": "code",
      "execution_count": null,
      "metadata": {
        "id": "iVA69g64dWZ_",
        "colab": {
          "base_uri": "https://localhost:8080/"
        },
        "outputId": "42acb7d4-3976-42c2-c5e6-5bbb2bb9d5b5"
      },
      "outputs": [
        {
          "output_type": "stream",
          "name": "stdout",
          "text": [
            "Number of astronauts in space: 12\n",
            "Found Sunita Williams! ISS\n"
          ]
        }
      ],
      "source": [
        "# use this cell for the in-class challenges, which will be\n",
        "#    (1) to extract the value 12 from the dictionary d\n",
        "\n",
        "number_in_space = d['number']\n",
        "print(\"Number of astronauts in space:\", number_in_space)\n",
        "\n",
        "\n",
        "\n",
        "#    (2) to extract the name \"Sunita Williams\" from the dictionary d\n",
        "for person in d['people']:\n",
        "    if person['name'] == \"Sunita Williams\":\n",
        "        print(\"Found Sunita Williams!\", person['craft'])\n",
        "        break\n"
      ]
    },
    {
      "cell_type": "markdown",
      "metadata": {
        "id": "Y8SR9ePvdZYD"
      },
      "source": [
        "#### <font color=\"Coral\"><b>Astronaut challenges!</b></font>\n",
        "+ use the above example to extract <tt>\"Jeanette Epps\"</tt> from the data in the dictionary <tt>d</tt>\n",
        "+ use the above example to extract the string <tt>\"ok\"</tt> from the data in the dictionary <tt>d</tt>. <b>Hint</b>: use the name <tt>\"Nikolai Chub\"</tt>"
      ]
    },
    {
      "cell_type": "code",
      "execution_count": null,
      "metadata": {
        "id": "sBALADkjeRrL",
        "colab": {
          "base_uri": "https://localhost:8080/"
        },
        "outputId": "2b465ee9-64ac-445d-d14a-075ea51da93a"
      },
      "outputs": [
        {
          "output_type": "stream",
          "name": "stdout",
          "text": [
            "Found Jeanette Epps!\n",
            "She is on craft: ISS\n"
          ]
        }
      ],
      "source": [
        "# use this cell - based on the example above - to share your solutions to the Astronaut challenges...\n",
        "\n",
        "for person in d['people']:\n",
        "    if person['name'] == \"Jeanette Epps\":\n",
        "        print(\"Found Jeanette Epps!\")\n",
        "        print(\"She is on craft:\", person['craft'])\n",
        "        break\n"
      ]
    },
    {
      "cell_type": "markdown",
      "metadata": {
        "id": "6_n8Pys9eXt1"
      },
      "source": [
        "#### <font color=\"Coral\"><b>Your-own API-call and webscraping challenge!</b></font>\n",
        "+ There are two parts of this challenge:\n",
        "+ find another API, and then\n",
        "  + make a programmatic call to that API\n",
        "  + and extract a piece of data -- of your choice -- from the results\n",
        "  + and print it out (with context)\n",
        "+ then, find a _plain_ webpage that allows scraping\n",
        "  + scrape that page\n",
        "  + and print out the source!\n",
        "  + <b><font color=\"DodgerBlue\">  extra credit </b></font> &nbsp;&nbsp; for extracting an interesting piece of information from the page -- for example, using slicing, or using the <tt>find</tt> function.\n",
        "\n",
        "\n",
        "<br>\n",
        "\n",
        "You've done it! You've both\n",
        "+ used an API (an application programming interface, which provided a JSON), and\n",
        "+ scraped a webpage (the source of a page that you'd see in a browser)\n",
        "\n",
        "Congrats!!\n",
        "\n",
        "<br>\n",
        "<hr>\n",
        "<br>\n",
        "\n",
        "The final part of the notebook investigates the ***ethics*** of API calling and webscraping."
      ]
    },
    {
      "cell_type": "code",
      "execution_count": null,
      "metadata": {
        "id": "xs0Dapv7gHBI",
        "colab": {
          "base_uri": "https://localhost:8080/"
        },
        "outputId": "67452b59-7f3d-4ed5-9ae2-d89a53514837"
      },
      "outputs": [
        {
          "output_type": "stream",
          "name": "stdout",
          "text": [
            "Random Dad Joke: Why couldn't the kid see the pirate movie? Because it was rated arrr!  😂😂😂\n"
          ]
        }
      ],
      "source": [
        "# Dad Joke API:\n",
        "\n",
        "import requests\n",
        "\n",
        "def get_random_dad_joke():\n",
        "\n",
        "    url = \"https://icanhazdadjoke.com/\"\n",
        "    headers = {\"Accept\": \"application/json\"}\n",
        "\n",
        "    response = requests.get(url, headers=headers)\n",
        "\n",
        "    if response.status_code == 200:\n",
        "        data = response.json()\n",
        "        return data.get(\"joke\", \"No joke found!\")\n",
        "    else:\n",
        "        return f\"Error: {response.status_code}\"\n",
        "\n",
        "dad_joke = get_random_dad_joke()\n",
        "print(\"Random Dad Joke:\", dad_joke, \" 😂😂😂\")\n"
      ]
    },
    {
      "cell_type": "code",
      "execution_count": null,
      "metadata": {
        "id": "hDPHHDwZgJLx",
        "colab": {
          "base_uri": "https://localhost:8080/"
        },
        "outputId": "4fecb8fd-0fdd-4b5a-9d77-f1c3c516b21b"
      },
      "outputs": [
        {
          "output_type": "stream",
          "name": "stdout",
          "text": [
            "Page Title: Astronomy Picture of the Day\n",
            "\n",
            "Main Image URL: https://apod.nasa.gov/apod/image/2503/Abell7_VChander1024.jpg\n",
            "\n",
            "Paragraphs from the page:\n",
            "Paragraph 0:\n",
            "Discover the cosmos!Each day a different image or photograph of our fascinating universe is\n",
            "featured, along with a brief explanation written by a professional astronomer.2025 March 7\n",
            "\n",
            "Paragraph 1:\n",
            "2025 March 7\n",
            "\n",
            "Paragraph 2:\n",
            "Explanation:Very faint planetary nebula Abell 7 is about 1,800 light-years distant.\n",
            "\n",
            "It lies just south of Orion in planet Earth's skies toward the constellationLepus, The Hare.\n",
            "\n",
            "Surrounded by Milky Way stars and near the line-of-sight to\n",
            "distant background galaxies itsgenerallysimple spherical shape, about 8 light-years in diameter, is revealed in\n",
            "this deep telescopic image.\n",
            "\n",
            "Within the cosmic cloud are beautiful and complex structures though,\n",
            "enhanced by the use of long exposures andnarrowbandfilters\n",
            "that capture emission from hydrogen, sulfur, and oxygen atoms.\n",
            "\n",
            "Otherwise Abell 7 would be much\n",
            "too faint to be appreciatedby eye.\n",
            "\n",
            "Aplanetary nebularepresents a very brief final phase\n",
            "in stellar evolution that our own Sun will experience 5 billionyears hence,\n",
            "as the nebula's central, once sun-like star shrugs off its outer layers.\n",
            "\n",
            "Abell 7 itself is estimated to be 20,000 years old.\n",
            "\n",
            "But its central star, seen here as afading white dwarf,\n",
            "is some 10 billion years old.Tomorrow's picture:light-weekend<|Archive|Submissions|Index|Search|Calendar|RSS|Education|About APOD|Discuss|>Authors & editors:Robert Nemiroff(MTU) &Jerry Bonnell(UMCP)NASA Official:Amber StraughnSpecific rights apply.NASA Web\n",
            "Privacy Policy and Important NoticesA service of:ASDatNASA/GSFC,NASA Science\n",
            "Activation&Michigan Tech. U.\n",
            "\n",
            "Paragraph 3:\n",
            "Tomorrow's picture:light-weekend<|Archive|Submissions|Index|Search|Calendar|RSS|Education|About APOD|Discuss|>Authors & editors:Robert Nemiroff(MTU) &Jerry Bonnell(UMCP)NASA Official:Amber StraughnSpecific rights apply.NASA Web\n",
            "Privacy Policy and Important NoticesA service of:ASDatNASA/GSFC,NASA Science\n",
            "Activation&Michigan Tech. U.\n",
            "\n",
            "Paragraph 4:\n",
            "<|Archive|Submissions|Index|Search|Calendar|RSS|Education|About APOD|Discuss|>Authors & editors:Robert Nemiroff(MTU) &Jerry Bonnell(UMCP)NASA Official:Amber StraughnSpecific rights apply.NASA Web\n",
            "Privacy Policy and Important NoticesA service of:ASDatNASA/GSFC,NASA Science\n",
            "Activation&Michigan Tech. U.\n",
            "\n",
            "Paragraph 5:\n",
            "Authors & editors:Robert Nemiroff(MTU) &Jerry Bonnell(UMCP)NASA Official:Amber StraughnSpecific rights apply.NASA Web\n",
            "Privacy Policy and Important NoticesA service of:ASDatNASA/GSFC,NASA Science\n",
            "Activation&Michigan Tech. U.\n",
            "\n"
          ]
        }
      ],
      "source": [
        "# Web Scraping: NASA Astronomy Picture of the Day\n",
        "\n",
        "import requests\n",
        "from bs4 import BeautifulSoup\n",
        "from urllib.parse import urljoin\n",
        "\n",
        "def scrape_apod_page():\n",
        "    \"\"\"\n",
        "    Scrapes the NASA APOD page (https://apod.nasa.gov/apod/)\n",
        "    to retrieve the page title, main image URL (if present),\n",
        "    and paragraphs of text.\n",
        "    \"\"\"\n",
        "    apod_url = \"https://apod.nasa.gov/apod/\"\n",
        "    headers = {\n",
        "        \"User-Agent\": (\n",
        "            \"Mozilla/5.0 (X11; Linux x86_64) AppleWebKit/537.36 \"\n",
        "            \"(KHTML, like Gecko) Chrome/58.0.3029.110 Safari/537.36\"\n",
        "        )\n",
        "    }\n",
        "\n",
        "    response = requests.get(apod_url, headers=headers)\n",
        "    if response.status_code == 200:\n",
        "        soup = BeautifulSoup(response.text, \"html.parser\")\n",
        "\n",
        "        # 1) Get the page <title>\n",
        "        title_tag = soup.find(\"title\")\n",
        "        if title_tag:\n",
        "            print(\"Page Title:\", title_tag.text)\n",
        "        else:\n",
        "            print(\"No <title> found on the page.\")\n",
        "\n",
        "        # 2) Find the main APOD image\n",
        "        image_tag = soup.find(\"img\")\n",
        "        if image_tag:\n",
        "            img_src = image_tag.get(\"src\")\n",
        "            if img_src:\n",
        "                full_img_url = urljoin(apod_url, img_src)\n",
        "                print(\"Main Image URL:\", full_img_url)\n",
        "            else:\n",
        "                print(\"Image tag found, but no 'src' attribute!\")\n",
        "        else:\n",
        "            print(\"No <img> tag found on the page.\")\n",
        "\n",
        "        # 3) Extract paragraphs (e.g., explanation text)\n",
        "        paragraphs = soup.find_all(\"p\")\n",
        "        if paragraphs:\n",
        "            print(\"\\nParagraphs from the page:\")\n",
        "            for idx, p in enumerate(paragraphs):\n",
        "                print(f\"Paragraph {idx}:\\n{p.get_text(strip=True)}\\n\")\n",
        "        else:\n",
        "            print(\"No <p> paragraphs found on the page.\")\n",
        "    else:\n",
        "        print(f\"Error fetching APOD page: {response.status_code}\")\n",
        "\n",
        "# Run the scraper\n",
        "scrape_apod_page()\n",
        "\n",
        "\n"
      ]
    },
    {
      "cell_type": "markdown",
      "metadata": {
        "id": "OMZB8Id4ge78"
      },
      "source": [
        "#### You have a great start with libraries!\n",
        "\n",
        "We'll return to do more in future weeks...\n",
        "+ You might create a final project that involves scraping or API calls!\n",
        "+ It's increasingly common as more and more of our interactions are via browsers, the path to automation is via <tt>requests</tt>, _API calls_, and \"scraping\" ...\n",
        "\n",
        "As one dramatic example, **ChatGPT**'s entire knowledgebase is scraped from the web!"
      ]
    },
    {
      "cell_type": "markdown",
      "metadata": {
        "id": "KcRkHHe_d0hP"
      },
      "source": [
        "<br>\n",
        "<hr>\n",
        "<br>\n",
        "\n",
        "# <b>Reading</b> this week\n",
        "\n",
        "<i>(When) Is webscraping legal and/or ethical?</i>\n",
        "\n",
        "<br>\n",
        "\n",
        "This week's reading includes \"1++\" short articles - about libraries, API calls, and webscraping. They investigate _what's ethical_ and _what's not_ ...\n",
        "\n",
        "<br>\n",
        "\n",
        "The first article  is entitled, [\"Is Web Scraping Ethical,\"](https://scrapeops.io/web-scraping-playbook/ethics-of-web-scraping/) by ScrapeOps.io. They're not impartial: they're a webscraping-tools company!\n",
        "\n",
        "<br>\n",
        "\n",
        "The \"+\" is the Facebook/Meta Terms of Service. (Perhaps that makes it \"+1\" instead of \"1+\"?)  This is  ***not***  asking you to read the whole document! Rather, this is specifically [Section 3, Subsection 2 \"What you can share and do on Meta Products.\"](https://www.facebook.com/terms/?section_id=section_3)  It's relatively short: it's one \"screenful.\"  \n",
        "\n",
        "<br>\n",
        "\n",
        "A second \"+\" is the following flowchart, by Sophie Chou of the MIT Media Lab and Pro Publica. Her original article was scraped (!?) by the Wayback Machine and so is available from there, as well.\n",
        "\n",
        "<br>\n",
        "\n",
        "<img src=\"https://www.storybench.org/wp-content/uploads/2016/04/flowchart_final.jpeg\">\n",
        "\n",
        "<br>\n",
        "\n",
        "Then, in response to these resources, reflect on any one or more of these three prompts:   \n",
        "+ (Prompt A) Look over Sophie Chiu's \"Should you scrape?\" flowchart. Find one decision node that you particularly agree -- or disagree -- with. Elaborate on why. (Feel free to note whether you feel this hw is keeping to the chart!)  \n",
        "+ (Prompt B) At the end of the first article there is a set of \"Principles for Responsible Scraping\" Looking that over, find one principle you particularly agree -- or disagree -- with and elaborate on why.\n",
        "+ (Prompt C) Having read some of Facebook's ToS, consider its stated requirement 3.2.3:  \"You may not access or collect data from our Products using automated means (without our prior permission).\"  Elaborate on what you think is included in the phrase \"automated means\" -- as well as what that phrase doesn't include.   \n",
        "\n",
        "As with each week's reading, responses should be carefully considered, but need not be very long (~5 or so sentences is wonderful).  \n"
      ]
    },
    {
      "cell_type": "markdown",
      "metadata": {
        "id": "v4LH9D6UeGKO"
      },
      "source": [
        "<br>\n",
        "<hr>\n",
        "<br>\n",
        "\n",
        "Feel free to use this cell for your thoughts on the ethics/fairness of webscraping:\n",
        "\n",
        "\n",
        "\n",
        "\n",
        " **1)** Based on Sophie Chou’s “Should you scrape?” flowchart. One decision node I agree with is the emphasis on checking whether the data is already available through an official API before scraping. If a website provides an open API, it usually means the site’s owners consent to automated access. So, the data they provided is not considered private data or confidential. Scraping the raw HTML in that scenario might be less efficient and could violate the site’s usage policies if the same data is freely accessible via the API. By following that node in the flowchart, then you’re respecting the site’s preferred data-access method and reducing the risk of legal or ethical conflicts.\n",
        "\n",
        " **2)** One principle I strongly agree with is “If the data can be accessed via an indexed API endpoint, then I will use this instead of scraping the HTML response.” This aligns with the previous argument as well as the concept of minimal impact by avoiding the extra load that HTML scraping can put on a server and reduces the chance of misinterpreting the site’s structure. Additionally, an official API usually comes with documentation and potentially an agreed-upon rate limit. This principle promotes more transparent and respectful data collection, which helps maintain trust between webmasters and scrapers.\n",
        "\n",
        "\n",
        "\n",
        "\n",
        "\n",
        "\n",
        "\n",
        "<br>\n",
        "<br>\n",
        "<hr>\n",
        "<br>\n",
        "\n"
      ]
    },
    {
      "cell_type": "markdown",
      "metadata": {
        "id": "nKiRFkmIdubH"
      },
      "source": [
        "### **Congrats!**\n",
        "\n",
        "You have pulled together some of Python's most powerful - and most popular - features:\n",
        "+ to write functions that score different properties of interest\n",
        "  + vowels, scrabble scores, punctuation, ...\n",
        "  + pretty much anything you might need to measure is expressible using the list-comprehension strategy\n",
        "+ to use those functions in the analysis of authentic data (the prose)\n",
        "+ and to use those functions to run simulations and analyze the results!\n",
        "\n",
        "<br>"
      ]
    },
    {
      "cell_type": "markdown",
      "metadata": {
        "id": "rNHGo2zHWUuo"
      },
      "source": [
        "# Submitting...\n",
        "\n",
        "Be sure to submit the url of _your_ copy -- with the challenges, questions, and programs composed --\n",
        "+ to Canvas in the appropriate spot\n",
        "+ by the appropriate Friday evening at 11:42pm\n",
        "+ shared with me (ZD)  ``zdodds@gmail.com``\n",
        "\n",
        "Remember that there are office-hours available, with me - and with CGU's Python tutor(s), as well!\n",
        "\n",
        "<br>\n",
        "\n",
        "\n",
        "As a reminder, the programming parts of Sci10 match the spirit of the course, in seeking, among other things:\n",
        "+ creativity/novelty\n",
        "+ personalization/individual context\n",
        "+ exploration and understanding (does it run?)"
      ]
    },
    {
      "cell_type": "markdown",
      "metadata": {
        "id": "_hp27Xav6jAy"
      },
      "source": [
        "# <font color=\"DodgerBlue\"><b>Extra Credit</b></font>: pi-estimation challenge!"
      ]
    },
    {
      "cell_type": "markdown",
      "metadata": {
        "id": "BxwKcw4TePg2"
      },
      "source": [
        "### <font color=\"darkblue\"><b>Extra credit</b></font>: Estimating pi from \"pie\" ...\n",
        "\n",
        "\n",
        "Really, it's estimating pi from a circle!\n",
        "\n",
        "This is extra credit (up to +10) and _totally optional_ ...\n",
        "\n",
        "We'll motivate it in class, in one of the two weeks before this is due. 😀\n",
        "\n"
      ]
    },
    {
      "cell_type": "code",
      "execution_count": null,
      "metadata": {
        "id": "2c29w_AHiR0i"
      },
      "outputs": [],
      "source": [
        "\n",
        "#\n",
        "# throwing a single dart\n",
        "#\n",
        "\n",
        "import random\n",
        "\n",
        "def dart():\n",
        "    \"\"\"Throws one dart between (-1,-1) and (1,1).\n",
        "       Returns True if it lands in the unit circle; otherwise, False.\n",
        "    \"\"\"\n",
        "    x = random.uniform(-1, 1)\n",
        "    y = random.uniform(-1, 1)\n",
        "    print(\"(x,y) are\", (x,y))   # you'll want to comment this out...\n",
        "\n",
        "    if x**2 + y**2 < 1:\n",
        "        return True  # HIT (within the unit circle)\n",
        "    else:\n",
        "        return False # missed (landed in one of the corners)\n",
        "\n",
        "# try it!\n",
        "result = dart()\n",
        "print(\"result is\", result)\n",
        "\n"
      ]
    },
    {
      "cell_type": "markdown",
      "metadata": {
        "id": "yd9sxJ5v4xQe"
      },
      "source": [
        "### Try it in a loop:"
      ]
    },
    {
      "cell_type": "code",
      "execution_count": null,
      "metadata": {
        "id": "31DIxlFx4zgJ"
      },
      "outputs": [],
      "source": [
        "# Try it ten times in a loop:\n",
        "\n",
        "for i in range(10):\n",
        "    result = dart()\n",
        "    if result == True:\n",
        "        print(\"   HIT the circle!\")\n",
        "    else:\n",
        "        print(\"   missed...\")\n",
        "\n",
        "\n",
        "# try adding up the number of hits, the number of total throws\n",
        "# remember that pi is approximately 4*hits/throws   (cool!)"
      ]
    },
    {
      "cell_type": "markdown",
      "metadata": {
        "id": "MSDf71jv48L_"
      },
      "source": [
        "### Expand this into <tt>forpi</tt>\n",
        "\n",
        "For a detailed explanation, see [the forpi/whilepi challenge](https://www.cs.hmc.edu/twiki/bin/view/CS5Fall2021/PiFromPieGold)"
      ]
    },
    {
      "cell_type": "code",
      "execution_count": null,
      "metadata": {
        "id": "fA8GFgYl5EbH"
      },
      "outputs": [],
      "source": [
        "\n",
        "#\n",
        "# Write forpi(n)\n",
        "#\n",
        "\n",
        "#\n",
        "# For the full explanation, see https://www.cs.hmc.edu/twiki/bin/view/CS5Fall2021/PiFromPieGold\n",
        "#\n",
        "\n",
        "\n",
        "# This is only a starting point\n",
        "def forpi(N):\n",
        "    \"\"\"Throws N darts, estimating pi.\"\"\"\n",
        "    pi = 42     # A suitably poor initial estimate\n",
        "    throws = 0  # No throws yet\n",
        "    hits = 0    # No \"hits\" yet  (hits ~ in the circle)\n",
        "\n",
        "    return hits\n",
        "\n",
        "# Try it!\n",
        "forpi(10)"
      ]
    },
    {
      "cell_type": "markdown",
      "metadata": {
        "id": "NsCKY7oc5RJ0"
      },
      "source": [
        "### Expand this into <tt>whilepi</tt>\n",
        "\n",
        "Again, a detailed explanation is available at [the forpi/whilepi challenge](https://www.cs.hmc.edu/twiki/bin/view/CS5Fall2021/PiFromPieGold)"
      ]
    },
    {
      "cell_type": "code",
      "execution_count": null,
      "metadata": {
        "id": "V8PEMATc5YcF"
      },
      "outputs": [],
      "source": [
        "\n",
        "#\n",
        "# Write whilepi(n)\n",
        "#\n",
        "\n",
        "#\n",
        "# For the full explanation, see https://www.cs.hmc.edu/twiki/bin/view/CS5Fall2021/PiFromPieGold\n",
        "#\n",
        "\n",
        "\n",
        "# This is only a starting point\n",
        "def whilepi(err):\n",
        "    \"\"\"Throws N darts, estimating pi.\"\"\"\n",
        "    pi = 42     # A suitably poor initial estimate\n",
        "    throws = 0  # No throws yet\n",
        "    hits = 0    # No \"hits\" yet  (hits ~ in the circle)\n",
        "\n",
        "    return throws\n",
        "\n",
        "\n",
        "# Try it!\n",
        "whilepi(.01)"
      ]
    },
    {
      "cell_type": "markdown",
      "metadata": {
        "id": "_fNMCuTy5cSz"
      },
      "source": [
        "<br>\n",
        "\n",
        "### <font color=\"darkblue\"><b>Also Extra Credit: pi-analysis</b></font>  \n",
        "\n",
        "Now, to put these to use!\n",
        "\n",
        "To analyze these, you should first create new versions that don't print anything!\n",
        "+ <b>create two new functions, below...</b>\n",
        "  + ``forpi_np(N)`` should be just like ``forpi`` but with no printing\n",
        "  + ``whilepi_np(N)`` should be just like ``whilepi`` but with no printing\n",
        "\n",
        "Reminders and guidance:\n",
        "+ They will still return the appropriate value, just as they have been doing above.\n",
        "+ Remember that `forpi_np(N)` returns the estimate of pi after N throws.\n",
        "+ remember that `whilepi_np(err)` returns the number of throws to estimate pi within err of 𝝅\n",
        "+ So, to that end, copy, paste, and rename your two functions, `forpi` and `whilepi`:\n",
        "\n",
        "<br>\n",
        "\n",
        "+ Create `forpi_np(N)` — the np means no printing.\n",
        "+ Similarly, create `whilepi_np(err)`\n",
        "\n",
        "<br>\n",
        "\n",
        "Then, using our List Comprehension techniques (see previous problems!) to analyze the behavior of our two pi-estimating functions:\n",
        "+ Use `range(742)` so that you're running 742 trials at a time...\n",
        "+ Other values are welcome    (It's surprisingly easy to give your machine much more work than it can handle!)\n",
        "+ Include answers (in a markdown cell or a comment in a code cell) to answer:\n",
        "\n",
        "<br>\n",
        "\n",
        "Questions:\n",
        "+ On average, how close to 𝝅 does `forpi_np(N)` get when `N = 1, 10, 100, 1000`  ?\n",
        "+ On average, how many throws are needed for `whilepi_np(e)` to get within `e = 1, .1, .01, 0.001` ?\n",
        "+ Note that these don't adhere to a clear function in the way that `rwalk` did...\n",
        "+ Here, the goal is seeing the trends, rather than eliciting an exact relationship.\n",
        "\n",
        "<br>\n",
        "\n",
        "Bigger-picture questions:\n",
        "+ Does forpi or whilepi estimate 𝝅 more efficiently? Why?\n",
        "+ Does forpi or whilepi estimate 𝝅 more accurately? Why?\n",
        "\n",
        "Just one phrase suffices on these, for sure..."
      ]
    },
    {
      "cell_type": "markdown",
      "metadata": {
        "id": "VBp9aff1zE1g"
      },
      "source": [
        "### <font color=\"darkblue\"><b>Alternative and also Optional</b> &nbsp; _Emotional_ punctuation differences... ?!</b></font>\n",
        "\n",
        "Totally optional, as ever, for up to +4.6 points of extra credit:\n",
        "\n",
        "The punctuation-scoring functions ``pun_one`` and ``pun_all`` were more limited than they needed to be -- in their ability to distinguish authors:\n",
        "+ they were simply measuring a single dimension: the _amount_ of punctuation used\n",
        "\n",
        "However, the different punctuation marks themsleves are very idiosyncratic -- and very telling -- with respect to a particular author's style.\n",
        "\n",
        "For this extra-credit challenge, create at least two _additional_ punctuation-measuring functions (in the same manner and style as all the ones above), and then\n",
        "+ measure the _relative_ frequency of certain punctuation relative to the overall amount of punctuation in a string of prose\n",
        "+ do this for at least two marks - or sets of marks\n",
        "  + for example, how much of an _exclamation-point_ user are you?\n",
        "  + question marks?\n",
        "  + parens? quotes? hashtags?  There are so many!\n",
        "\n",
        "Then, compare that relative-frequence of _particular_ punctuation marks between your works (above) and the other author's works (again above).\n",
        "\n",
        "<br>\n",
        "\n",
        "Share the results: **Which punctuation usage is most telling in  distinguishing/separating the two styles?**\n",
        "\n",
        "\n",
        "\n",
        "\n"
      ]
    },
    {
      "cell_type": "code",
      "execution_count": null,
      "metadata": {
        "id": "PYzCMuGDcUwf"
      },
      "outputs": [],
      "source": [
        "#\n",
        "# Your additional punctuation-style explorations (optional!)\n",
        "#\n",
        "\n",
        "\n"
      ]
    }
  ],
  "metadata": {
    "colab": {
      "provenance": []
    },
    "kernelspec": {
      "display_name": "Python 3",
      "name": "python3"
    },
    "language_info": {
      "name": "python"
    }
  },
  "nbformat": 4,
  "nbformat_minor": 0
}