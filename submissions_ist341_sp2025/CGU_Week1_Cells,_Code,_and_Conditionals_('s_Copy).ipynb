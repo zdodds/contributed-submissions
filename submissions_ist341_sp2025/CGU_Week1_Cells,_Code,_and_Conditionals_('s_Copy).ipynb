{
  "cells": [
    {
      "cell_type": "markdown",
      "metadata": {
        "id": "NoXM4SE7QVPh"
      },
      "source": [
        "# Welcome to IST 341, everyone!!!!!!\n",
        "\n",
        "+ This is _Daniel's_ addition in the source code\n",
        "\n",
        "_\"CS Insights via Python\"_\n"
      ]
    },
    {
      "cell_type": "code",
      "source": [],
      "metadata": {
        "id": "0n8azxSCekSu"
      },
      "execution_count": null,
      "outputs": []
    },
    {
      "cell_type": "markdown",
      "source": [
        "Hi From a new cell - DP"
      ],
      "metadata": {
        "id": "GFMDhesAfmsV"
      }
    },
    {
      "cell_type": "code",
      "source": [],
      "metadata": {
        "id": "O5wA-frKfx9J"
      },
      "execution_count": null,
      "outputs": []
    },
    {
      "cell_type": "markdown",
      "metadata": {
        "id": "XYrs0QreNBM8"
      },
      "source": [
        "### <font color=\"lightblue\"><b>Welcome to Python notebooks! 🐍</b></font>\n",
        "\n",
        "***Computing*** is a powerful technique for discovery, in IS and IT, in science and engineering, and in many fields.\n",
        "\n",
        "This ***Python*** notebook interleaves descriptions with its computations. Both text and code are hosted in ***cells***:\n",
        "   + _description cells_, like this cell, are in **markdown**, a widely-used language for <u>presenting</u> ideas with <u>text</u>, pictures, etc. 📖\n",
        "   + Markdown can be **bold**\n",
        "   + _computation cells_, which you will see just below, are in **Python**, a widely-used language for <u>executing</u> ideas, that is, _code_  💻\n",
        "\n",
        "In the following cells, you'll create a description with some details about yourself.\n",
        "\n",
        "In the cells after that, you'll read, run, and compose ~~Java~~ Python scripts (snippets)\n",
        "\n",
        "\n"
      ]
    },
    {
      "cell_type": "code",
      "source": [
        "# Here is a coding cell. Try it!\n",
        "\n",
        "41 + 1"
      ],
      "metadata": {
        "id": "cwvfwfoIDk4I"
      },
      "execution_count": null,
      "outputs": []
    },
    {
      "cell_type": "markdown",
      "metadata": {
        "id": "ki_QjFa6dkUY"
      },
      "source": [
        "### <font color=\"FireBrick\"><b>Overview of Week1's Python Notebook</b> (this notebook)</font>\n",
        "\n",
        "This notebook itself offers examples and guidance for diving in to computing with Python and communicating with notebooks and markdown.\n",
        "\n",
        "This assignment, solo or in a team of 2-3, asks you to\n",
        "+ work through the examples,\n",
        "+ trying out examples as they arise\n",
        "+ answering questions that are interspersed\n",
        "+ writing new cells, markdown or Python, as the challenges arise\n",
        "\n",
        "Specifically, there are several waypoints in this notebook:\n",
        "1. when you complete an \"introduction\" markdown cell, about yourself\n",
        "2. when you have tried out and generated new data of various types\n",
        "3. when you have worked on the \"Four fours\" problem (finding all but 4!)\n",
        "4. when you've run and analyzed the first (very unfair) rock-paper-scissors example\n",
        "5. when you've created a fair - and complete - RPS example\n",
        "6. and, when you've authored a choose-your-own-adventure interactive fiction, using a number of different control structures to navigate various story-threads..., and\n",
        "7. reading an article about how language can influence thought -- and then reflecting on how you've \"bumped into the boundaries\" of language!  \n",
        "\n",
        "\n"
      ]
    },
    {
      "cell_type": "markdown",
      "metadata": {
        "id": "M7dzL4m4fPYf"
      },
      "source": [
        "# Make your own <u>copy</u> of this notebook\n",
        "\n",
        "### Do this now...   &nbsp;&nbsp; _Troubles? Let me know._\n",
        "\n",
        "<br>\n",
        "\n",
        "With the starter notebook, you'll be able to read the content.\n",
        "When signed in with Google, you'll be able to run it.\n",
        "But you won't be able to _edit_ until you have your own copy.\n",
        "\n",
        "So, to get started, make your own copy of this notebook:\n",
        "+ it will be stored in your space in Google Drive\n",
        "+ you'll need to use Google credentials to make a copy and run cells\n",
        "+ from there, you can edit, answer, and compose\n",
        "\n",
        "<br>\n",
        "\n",
        "### Submitting\n",
        "\n",
        "When you're ready to submit, be sure to\n",
        "+ **share** your new copied-and-edited notebook with me:\n",
        "   + `zdodds@gmail.com`\n",
        "+ and **submit** the url to your new copied-and-edited notebook at the appropriate spot on Canvas"
      ]
    },
    {
      "cell_type": "markdown",
      "metadata": {
        "id": "SqlZ-RCK6jJV"
      },
      "source": [
        "# Markdown cells"
      ]
    },
    {
      "cell_type": "markdown",
      "metadata": {
        "id": "0e0JxCVbJY3C"
      },
      "source": [
        "### Your task\n",
        "\n",
        "The next few cells show a few example introductions...\n",
        "\n",
        "__Your task__ is to create a new markdown cell that answers the same questions as these...\n",
        "\n",
        "If you're working in a team, create one for each person."
      ]
    },
    {
      "cell_type": "markdown",
      "metadata": {
        "id": "bvOcPiH26gpY"
      },
      "source": [
        "### <font color=\"DodgerBlue\"><b>Introduction: Zach</b></font>\n",
        "+ _Name_:  Zach Dodds\n",
        "+ _School_:  Harvey Mudd -- plus, CGU!\n",
        "+ _Two favorite things_:  \n",
        "   + My favorite beverage is __coffee__ and\n",
        "   + one of my many favorite snacks are __poptarts__\n",
        "+ _Two least-favorite things_:   \n",
        "   + My least-favorite coffee is __decaf__ and\n",
        "   + my least-favorite poptarts-flavor is <b>[ranch dressing](https://www.kztv10.com/hidden-valley-ranch-flavored-pop-tarts-box-viral/)</b> [Not a real thing!]\n",
        "+ _Links to 4-6 things_ I find interesting/fun/inspiring/informative etc:\n",
        "   + The first chat bot that can actually chat:   [ChatGPT](https://openai.com/blog/chatgpt/)  &nbsp;  (Yay!)\n",
        "   + The long-running [Tiobe Index page](https://www.tiobe.com/tiobe-index/) &nbsp; (I tend to check this once a month... :-)\n",
        "   + An animation of a white blood cell squeezing through a blood vessel:  [The Inner Life of the Cell](https://xvivo.com/examples/the-inner-life-of-the-cell/) <br> <!-- To me, this is the \"Star Trek\" of Biology... -->  <font size=\"-2\">Here is Veritasium's less dramatic and more understandable version: [Body's Molecular Machines](https://www.youtube.com/watch?v=X_tYrnv_o6A)</font>\n",
        "   + The [color-names page where I found DodgerBlue](https://www.w3schools.com/colors/colors_names.asp)!\n",
        "   + The [Markdown Reference I used](https://www.markdownguide.org/basic-syntax/)\n",
        "   + A [page with my picture - admittedly, from a while ago!](https://www.hmc.edu/about/news/experts/zachary-dodds/)\n",
        "\n",
        "<br>"
      ]
    },
    {
      "cell_type": "markdown",
      "metadata": {
        "id": "QNwjzF1czSez"
      },
      "source": [
        "### <font color=\"darkgold\"><b>Introduction: the Three-Eyed Alien</b></font>\n",
        "\n",
        "+ _Name_:  Three-eyed alien\n",
        "+ _School_:  HMC, CGU, happy anywhere in Claremont or the known universe!\n",
        "+ _Two favorite things_:  \n",
        "   + My favorite number is __42__\n",
        "   + My favorite number-of-eyes is __3__\n",
        "+ _Two least-favorite things_:   \n",
        "   + Really dislike __lack of space__\n",
        "   + and __slower-than-light travel__\n",
        "+ _Links to 4-6 things_ that are interesting/fun/inspiring/informative etc:\n",
        "   + [Cousins at Disney](https://toystory.disney.com/aliens) &nbsp; but real aliens are 2d, not 3d!\n",
        "   + Favorite site for [hats](https://www.etsy.com/market/magenta_wool_hat) &nbsp;\n",
        "   + Skiing about 60 miles from Claremont: &nbsp; [Bear Mountain](https://www.bigbearmountainresort.com/)  \n",
        "   + [Fish n Chips poptarts!](https://www.pinterest.com/pin/486670303483830609/) &nbsp; Not sold to humans, I'm afraid...\n",
        "   + a [page with other three-eyed alien pictures - from Etsy!](https://www.etsy.com/ca/market/three_eyed_alien)\n"
      ]
    },
    {
      "cell_type": "markdown",
      "metadata": {
        "id": "axrlZzixXIV1"
      },
      "source": [
        "### <font color=\"FireBrick\"><b>Introduction: You!</b></font>\n",
        "\n",
        "+ _Name_:  IST341_Participant_10 Pham\n",
        "+ _School_:  Claremont Graduate University\n",
        "+ _Two favorite things_:  \n",
        "  + Crane Games\n",
        "  + Anime\n",
        "+ _Two least-favorite things_:  \n",
        "  + Not enough _screens_!\n",
        "  + Not enough _sleep_!\n",
        "+ _Links to 4-6 things_ that are interesting/fun/inspiring/etc:\n",
        "   + Here's just a bunch of [music from video games](https://www.youtube.com/watch?v=cscuCIzItZQ&ab_channel=LenaMartin) to do homework to\n",
        "   + You'll feel like a genius from [this song](https://www.youtube.com/watch?v=UxnvGDK0WGM&ab_channel=GyakutenSaibanSoundBox) from a game about lawyers\n",
        "   + or a [song](https://www.youtube.com/watch?v=u-6eH7pq1Is&ab_channel=IndianIndieplayer) from a game about being a cyberpunk bartender\n",
        "   + everyone likes [pokemon!](https://www.youtube.com/watch?v=uDifmU95_W4&ab_channel=Nullfuchs)\n",
        "   + I must admit [this channel] got me through my undergrad, how can anyone study with a song with _lyrics?_"
      ]
    },
    {
      "cell_type": "markdown",
      "metadata": {
        "id": "IHspQgMgdkbg"
      },
      "source": [
        "# Code cells"
      ]
    },
    {
      "cell_type": "code",
      "source": [
        "41+1"
      ],
      "metadata": {
        "colab": {
          "base_uri": "https://localhost:8080/"
        },
        "id": "rtQIoEzvqHO5",
        "outputId": "20cb50d2-b493-47fa-a14e-022bd63c2ce7"
      },
      "execution_count": null,
      "outputs": [
        {
          "output_type": "execute_result",
          "data": {
            "text/plain": [
              "42"
            ]
          },
          "metadata": {},
          "execution_count": 1
        }
      ]
    },
    {
      "cell_type": "code",
      "source": [
        "2**5 #welcome to python!\n"
      ],
      "metadata": {
        "colab": {
          "base_uri": "https://localhost:8080/"
        },
        "id": "S6CPHpxgqKis",
        "outputId": "98a7faf4-7617-4763-dcde-a126565e171c"
      },
      "execution_count": null,
      "outputs": [
        {
          "output_type": "execute_result",
          "data": {
            "text/plain": [
              "32"
            ]
          },
          "metadata": {},
          "execution_count": 6
        }
      ]
    },
    {
      "cell_type": "code",
      "source": [
        "2+5"
      ],
      "metadata": {
        "colab": {
          "base_uri": "https://localhost:8080/"
        },
        "id": "N3OD28BSqmiN",
        "outputId": "312042af-37cb-41d3-f316-918c673dacc9"
      },
      "execution_count": null,
      "outputs": [
        {
          "output_type": "execute_result",
          "data": {
            "text/plain": [
              "7"
            ]
          },
          "metadata": {},
          "execution_count": 8
        }
      ]
    },
    {
      "cell_type": "code",
      "source": [],
      "metadata": {
        "id": "L5lEmY8mqsS8"
      },
      "execution_count": null,
      "outputs": []
    },
    {
      "cell_type": "code",
      "source": [],
      "metadata": {
        "id": "AVnc4HIiqpHa"
      },
      "execution_count": null,
      "outputs": []
    },
    {
      "cell_type": "markdown",
      "metadata": {
        "id": "meZNmZg4CpfP"
      },
      "source": [
        "### <font color=\"darkblue\"><b>Code cells: &nbsp; <i>Executable</i> expression</b></font>\n",
        "\n",
        "The next section of this notebook demonstrates several *code cells* and invites you to try - and build - several of your own.\n",
        "\n",
        "This next cell holds a short, scripted conversation. Try it:\n",
        "\n",
        "(ChatGPT, it is not!)\n"
      ]
    },
    {
      "cell_type": "code",
      "execution_count": null,
      "metadata": {
        "id": "PX16cW1aLQq1",
        "colab": {
          "base_uri": "https://localhost:8080/"
        },
        "outputId": "e1c085a9-5935-4c54-ff80-be16da2b21f9"
      },
      "outputs": [
        {
          "output_type": "stream",
          "name": "stdout",
          "text": [
            "What is your name? IST341_Participant_6\n",
            "Welcome, IST341_Participant_6\n",
            "\n",
            "My favorite number is 42, naturally.\n",
            "What is your favorite number? 41\n",
            "\n",
            "Nice! 41 is solid. And very numeric!\n",
            "Plus, it's close to the best number, 42.\n"
          ]
        }
      ],
      "source": [
        "# This is a code cell.\n",
        "# To run it, click play at left or type ctrl-enter (cmd-enter)\n",
        "\n",
        "\n",
        "answer = input(\"What is your name? \")\n",
        "print(\"Welcome,\", answer)\n",
        "print()\n",
        "\n",
        "print(\"My favorite number is 42, naturally.\")\n",
        "fav_num = input(\"What is your favorite number? \")\n",
        "print()\n",
        "\n",
        "print(\"Nice!\", fav_num, \"is solid. And very numeric!\")\n",
        "print(\"Plus, it's close to the best number, 42.\")"
      ]
    },
    {
      "cell_type": "code",
      "source": [
        "answer"
      ],
      "metadata": {
        "colab": {
          "base_uri": "https://localhost:8080/",
          "height": 35
        },
        "id": "x3PDpuwJrUDf",
        "outputId": "9298b8fa-6ca6-4df7-9bdd-2865fe23831e"
      },
      "execution_count": null,
      "outputs": [
        {
          "output_type": "execute_result",
          "data": {
            "text/plain": [
              "'IST341_Participant_6'"
            ],
            "application/vnd.google.colaboratory.intrinsic+json": {
              "type": "string"
            }
          },
          "metadata": {},
          "execution_count": 11
        }
      ]
    },
    {
      "cell_type": "code",
      "source": [
        "fav_num"
      ],
      "metadata": {
        "colab": {
          "base_uri": "https://localhost:8080/",
          "height": 35
        },
        "id": "rxNUZDezrVSD",
        "outputId": "bff84d1f-ffad-46b2-ceb3-7d7fadece07c"
      },
      "execution_count": null,
      "outputs": [
        {
          "output_type": "execute_result",
          "data": {
            "text/plain": [
              "'41'"
            ],
            "application/vnd.google.colaboratory.intrinsic+json": {
              "type": "string"
            }
          },
          "metadata": {},
          "execution_count": 12
        }
      ]
    },
    {
      "cell_type": "code",
      "source": [],
      "metadata": {
        "id": "cbYRJXxGrXMK"
      },
      "execution_count": null,
      "outputs": []
    },
    {
      "cell_type": "markdown",
      "metadata": {
        "id": "yzbg8tydDRFF"
      },
      "source": [
        "### <font color=\"darkblue\"><b>Variables and <i>values</i></b></font>\n",
        "\n",
        "The above cell, when run, interacts with a user. Notice!\n",
        "+ The <tt>input</tt> function pauses for user input.\n",
        "+ The <tt>answer</tt> variable \"catches\" the user's input.\n",
        "+ The <tt>print</tt> function, well, prints things!\n",
        "+ The single-equals-sign <tt>=</tt> is <u>assignment</u>\n",
        "   + it's <u><i>assigning</i></u> the left-side <i>variable</i> to be a name for the right-side <i>value</i>\n",
        "   + thus, the variable <tt>answer</tt> is a name for the user's input (what the user typed)\n",
        "   + and, the variable <tt>fav_num</tt> is a name for the next user input (what the user typed)\n"
      ]
    },
    {
      "cell_type": "markdown",
      "metadata": {
        "id": "D9PhlqFUbqkL"
      },
      "source": [
        "### <font color=\"darkblue\"><b><i>Variables</i> vs. <i>values</i></b></font>\n",
        "\n",
        "This is an important distinction: <i>variables</i> vs. <i>values</i>:\n",
        "+ Variables give names to values. For example,\n",
        "+ The <tt>answer</tt> variable gives the name <tt>answer</tt> to the user's first input.\n",
        "+ The <tt>fav_num</tt> variable gives the name <tt>fav_num</tt> to the user's second input.\n",
        "\n",
        "In the next cell, notice that <tt>fav_num</tt> continues to hold the user-input value:"
      ]
    },
    {
      "cell_type": "code",
      "execution_count": null,
      "metadata": {
        "id": "zfjuDVZSE6kd"
      },
      "outputs": [],
      "source": [
        "print(\"fav_num is\", fav_num)"
      ]
    },
    {
      "cell_type": "markdown",
      "source": [
        "### <font color=\"darkblue\"><b><i>Short AI Challenge</i></b></font>\n",
        "+ <tt>fav_num</tt> is a <i>string</i> not an <i>integer</i>\n",
        "+ that is, <tt>fav_num</tt> is a sequence of characters, not a numeric value\n",
        "\n",
        "<b><font color=\"Cinnamon\">Challenge</font></b>: Use AI to print the number that's one BIGGER than <tt>fav_num</tt>. That is, <tt>fav_num+1</tt>\n",
        "+ This is tricky, because we need to create an integer in order to add 1\n",
        "+ See if you can work with AI to make this work!\n",
        "+ Be sure what you're printing uses <tt>fav_num</tt>\n",
        "+ That way, it will work <i>no matter the value</i> that <tt>fav_num</tt> has!"
      ],
      "metadata": {
        "id": "tfSroVG_BGlD"
      }
    },
    {
      "cell_type": "code",
      "source": [
        "# prompt: fav_num + 1\n",
        "\n",
        "fav_num_int = int(fav_num)\n",
        "fav_num_int + 1"
      ],
      "metadata": {
        "id": "H4jGTuxEAhN-"
      },
      "execution_count": null,
      "outputs": []
    },
    {
      "cell_type": "markdown",
      "metadata": {
        "id": "yKgcC7vqR_V7"
      },
      "source": [
        "### <font color=\"darkblue\"><b><i>Operators</i> and <i>Composition</i></b></font>\n",
        "\n",
        "CS usually means _Computer Science_\n",
        "\n",
        "However, CS is more accurately thought of as _Compositional Science_:\n",
        "+ Software/programs are collections of small behaviors, carefully composed together  \n",
        "+ Computers themselves are simply large compositions of smaller machines, each of which contributes to the whole\n",
        "\n",
        "The conceptual effort of CS is predominantly creating _compositions_\n",
        "+ Determining the pieces needed for the task at hand, then\n",
        "+ Assembling those pieces into the overall system desired\n",
        "\n",
        "<br>\n",
        "\n",
        "If CS is _Compositional Science_, let's dive in!\n",
        "\n",
        "We'll use the Four fours challenge.\n",
        "\n",
        "First, try out some example ___computations___:"
      ]
    },
    {
      "cell_type": "code",
      "execution_count": null,
      "metadata": {
        "id": "Bxj7vIZFYio3",
        "colab": {
          "base_uri": "https://localhost:8080/"
        },
        "outputId": "e281922a-c083-4e1c-b43f-abef55ddb432"
      },
      "outputs": [
        {
          "output_type": "execute_result",
          "data": {
            "text/plain": [
              "42"
            ]
          },
          "metadata": {},
          "execution_count": 2
        }
      ],
      "source": [
        "# This is a code-cell, which should be runnable with the arrow,\n",
        "# also with (control-enter) or (command-return)\n",
        "\n",
        "35 + 7"
      ]
    },
    {
      "cell_type": "code",
      "execution_count": null,
      "metadata": {
        "id": "MSbR9gE5Ym-W",
        "colab": {
          "base_uri": "https://localhost:8080/"
        },
        "outputId": "c91caa2b-cde1-49fb-e695-b8bb37ba7579"
      },
      "outputs": [
        {
          "output_type": "execute_result",
          "data": {
            "text/plain": [
              "10000000000000000000000000000000000000000000000000000000000000000000000000000000000000000000000000000"
            ]
          },
          "metadata": {},
          "execution_count": 3
        }
      ],
      "source": [
        "# Try running this cell to compute a googol\n",
        "# This is the number after which Google was named!\n",
        "\n",
        "10**100   # ** is power operator"
      ]
    },
    {
      "cell_type": "code",
      "execution_count": null,
      "metadata": {
        "id": "_5uXKX2KYyjk",
        "colab": {
          "base_uri": "https://localhost:8080/"
        },
        "outputId": "a1ebaec1-a71e-4a14-8024-9528771de5fd"
      },
      "outputs": [
        {
          "output_type": "execute_result",
          "data": {
            "text/plain": [
              "2.0"
            ]
          },
          "metadata": {},
          "execution_count": 4
        }
      ],
      "source": [
        "# This cell imports the math library and then runs a function from it.\n",
        "# (The square root of 4 is 2, as you'll see :-)\n",
        "\n",
        "from math import *    # imports the sqrt function and others\n",
        "sqrt(4)"
      ]
    },
    {
      "cell_type": "code",
      "execution_count": null,
      "metadata": {
        "id": "L6vcRkZWY1aL",
        "colab": {
          "base_uri": "https://localhost:8080/"
        },
        "outputId": "a7f7b8ac-5fc6-4cac-f8b8-7e1c6ab0006f"
      },
      "outputs": [
        {
          "output_type": "execute_result",
          "data": {
            "text/plain": [
              "3628800"
            ]
          },
          "metadata": {},
          "execution_count": 5
        }
      ],
      "source": [
        "# Here is an example of the \"factorial\" function. factorial(4) is 1*2*3*4, which is 24\n",
        "\n",
        "factorial(10)     # also imported from the math library"
      ]
    },
    {
      "cell_type": "code",
      "source": [
        "1*2*3*4*5*6*7*8*9*10"
      ],
      "metadata": {
        "id": "6pcaQF7xRKTD"
      },
      "execution_count": null,
      "outputs": []
    },
    {
      "cell_type": "code",
      "execution_count": null,
      "metadata": {
        "id": "mVQwZMOyZel9",
        "colab": {
          "base_uri": "https://localhost:8080/"
        },
        "outputId": "93995ddb-5fd1-4f83-b2f4-2ffc460a5c90"
      },
      "outputs": [
        {
          "output_type": "stream",
          "name": "stdout",
          "text": [
            "Zero is 0\n",
            "One is 1.0\n",
            "Two is 2.0\n"
          ]
        }
      ],
      "source": [
        "# This cell shows how printing works. Try it!\n",
        "# It should print:   Zero is 0\n",
        "#             and:   One is 1       actually, 1.0, This is ok!\n",
        "#\n",
        "# Notice that this sets you up for the Four fours challenge!\n",
        "\n",
        "print(\"Zero is\", 4+4-4-4)\n",
        "print(\"One is\", (4/4) * (4/4))                 # Uh oh! No non-fours allowed!!\n",
        "print(\"Two is\", (4/4) + (4/4)  )   # Uh oh! This is incorrect... temporarily\n",
        "\n",
        "\n",
        "\n"
      ]
    },
    {
      "cell_type": "code",
      "source": [
        "-4 + sqrt(4) + factorial(4) - 4"
      ],
      "metadata": {
        "id": "qpBNpg3iT6WJ"
      },
      "execution_count": null,
      "outputs": []
    },
    {
      "cell_type": "markdown",
      "metadata": {
        "id": "n8v3V2pNaMY0"
      },
      "source": [
        "### <font color=\"darkblue\"><b><i>Challenge</i>: Four fours</b></font>\n",
        "\n",
        "+ The challenge: add several more lines similar to the above line to compute values from `0` to `24`\n",
        "  + you should compute at least 21 of these 25 values (from 0 through 24) using exactly four fours -- and no other numbers).\n",
        "  + why only 21 of the 25 possibilities? So that you can skip <u>four</u>, if they give you trouble!\n",
        "  \n",
        "<br>\n",
        "\n",
        "+ You may use any of Python's arithmetic operations:\n",
        "  + `-`    subtraction or negation\n",
        "  + `*`    multiplication\n",
        "  + `/`    division\n",
        "  + `(   )`    parentheses for grouping\n",
        "  + `**`    power\n",
        "\n",
        "<br>\n",
        "\n",
        "#### hints and notes:\n",
        "+ Results with decimals: 1.0, 2.0, etc. are totally OK!\n",
        "+ You may also use 44 or 4.4, each of which count as two fours,\n",
        "+ or .4, which counts as one four.\n",
        "+ or, `sqrt`, for example `math.sqrt(4)` (or others, from the `math` library\n",
        "+ or, `factorial`, for example `math.factorial(4)` (or others).\n",
        "\n",
        "#### desired results:\n",
        "Here are what the results, but not the source code, will look like.\n",
        "Remember you need only 21 of them!\n",
        "\n",
        "<code><pre>\n",
        "Zero is 0\n",
        "One is 1\n",
        "Two is 2\n",
        "Three is 3\n",
        "Four is 4\n",
        "Five is 5\n",
        "Six is 6\n",
        "Seven is 7\n",
        "Eight is 8\n",
        "Nine is 9\n",
        "Ten is 10\n",
        "Eleven is 11\n",
        "Twelve is 12\n",
        "Thirteen is 13\n",
        "Fourteen is 14\n",
        "Fifteen is 15\n",
        "Sixteen is 16\n",
        "Seventeen is 17\n",
        "Eighteen is 18\n",
        "Nineteen is 19\n",
        "Twenty is 20\n",
        "Twenty-one is 21\n",
        "Twenty-two is 22\n",
        "Twenty-three is 23\n",
        "Twenty-four is 24\n",
        "Twenty-five is 25\n",
        "</pre></code>\n",
        "\n",
        "\n",
        "\n",
        "\n",
        "\n",
        "\n"
      ]
    },
    {
      "cell_type": "markdown",
      "source": [
        "### <font color=\"darkblue\"><b>Use AI!</b></font>\n",
        "\n",
        "You're encouraged to use AI to help you...\n",
        "\n",
        "Remember -- AI can be helpful, and AI can be misleading.\n",
        "\n",
        "The skill of our era:\n",
        "+ <b><i>keep AI's help</i></b>\n",
        "+ skip what's unhelpful\n",
        "+ practice <i><u>describing</u></i> that difference...\n",
        "  + to yourself...\n",
        "  + to others..."
      ],
      "metadata": {
        "id": "iRS2xfeAEeOR"
      }
    },
    {
      "cell_type": "code",
      "source": [],
      "metadata": {
        "id": "bKNTfuQjFQiT"
      },
      "execution_count": null,
      "outputs": []
    },
    {
      "cell_type": "code",
      "execution_count": null,
      "metadata": {
        "id": "sKyO0_HEaXXs",
        "colab": {
          "base_uri": "https://localhost:8080/"
        },
        "outputId": "6982edaa-ac2d-46bd-afe5-92c0ff4dc37a"
      },
      "outputs": [
        {
          "output_type": "stream",
          "name": "stdout",
          "text": [
            "Zero is 0\n",
            "One is 1.0\n",
            "Two is 2.0\n",
            "Three is 3.0\n",
            "Four is 4\n",
            "Five is 5.0\n",
            "Six is 6.0\n",
            "Seven is 7.0\n",
            "Eight is 8\n",
            "Nine is 9.0\n",
            "Ten is 10.0\n",
            "Eleven is 11.0\n",
            "Twelve is 12.0\n",
            "Thirteen is 13.0\n",
            "Fourteen is 14.0\n",
            "Fifteen is 15.0\n",
            "Sixteen is 16\n",
            "Seventeen is 17.0\n",
            "Eighteen is 18.0\n",
            "Nineteen is 19.0\n",
            "Twenty is 20.0\n",
            "Twenty-one is 21.0\n"
          ]
        }
      ],
      "source": [
        "#\n",
        "#  Here is a space for your explorations and solutions\n",
        "#       to the Four fours challenge.\n",
        "#\n",
        "# This will get you started.\n",
        "\n",
        "import math\n",
        "\n",
        "print(\"Zero is\", 4+4-4-4)\n",
        "print(\"One is\", (4/4)*(4/4))  # yay!  exactly four fours - and no other digits\n",
        "print(\"Two is\", (4/4)+(4/4))\n",
        "print(\"Three is\", (4 + 4 + 4) / 4)\n",
        "print(\"Four is\", 4*(4-4)+4)\n",
        "print(\"Five is\", (4 * 4 + 4) / 4)\n",
        "print(\"Six is\", (4 + 4) / 4 + 4)\n",
        "print(\"Seven is\", 4 + 4 - 4 / 4)\n",
        "print(\"Eight is\", 4 + 4 + 4 - 4)\n",
        "print(\"Nine is\", 4 + 4 + 4 / 4)\n",
        "print(\"Ten is\", 44 / 4.4)\n",
        "print(\"Eleven is\", 4/.4+4/4)\n",
        "print(\"Twelve is\", (44+4)/4)\n",
        "print(\"Thirteen is\", math.factorial(4)-44/4)\n",
        "print(\"Fourteen is\", 4*(4-.4) -.4)\n",
        "print(\"Fifteen is\", 44/4+4)\n",
        "print(\"Sixteen is\", 4+4+4+4)\n",
        "print(\"Seventeen is\", 4*4+4/4)\n",
        "print(\"Eighteen is\", 44 * .4 +.4)\n",
        "print(\"Nineteen is\", math.factorial(4) -4 -4/4)\n",
        "print(\"Twenty is\", 4 * (4/4 +4))\n",
        "print(\"Twenty-one is\", (4.4+4)/.4) # I finally did it.. it is done\n",
        "\n",
        "\n",
        "\n"
      ]
    },
    {
      "cell_type": "code",
      "source": [
        "# prompt: math.sqrt(4)\n",
        "\n",
        "print(math.sqrt(4))\n"
      ],
      "metadata": {
        "id": "xtzdHL0Wusw-"
      },
      "execution_count": null,
      "outputs": []
    },
    {
      "cell_type": "code",
      "source": [
        "math.factorial(4)"
      ],
      "metadata": {
        "colab": {
          "base_uri": "https://localhost:8080/"
        },
        "id": "HPoD4Xh4uym1",
        "outputId": "4da6d10c-2abd-4250-9afc-f6fcaa8abfea"
      },
      "execution_count": null,
      "outputs": [
        {
          "output_type": "execute_result",
          "data": {
            "text/plain": [
              "24"
            ]
          },
          "metadata": {},
          "execution_count": 18
        }
      ]
    },
    {
      "cell_type": "code",
      "source": [
        "# prompt: help me generate the ints from 1 to 25 with only four fours\n",
        "\n",
        "print(\"Two is\", (4/4) + (4/4))\n",
        "print(\"Three is\", (4 + 4 + 4) / 4)\n",
        "print(\"Four is\", 4 + 4 - 4 + 4)\n",
        "print(\"Five is\", (4 * 4 + 4) / 4)\n",
        "print(\"Six is\", (4 + 4) / 4 + 4)\n",
        "print(\"Seven is\", 4 + 4 - 4 / 4)\n",
        "print(\"Eight is\", 4 + 4 + 4 - 4)\n",
        "print(\"Nine is\", 4 + 4 + 4 / 4)\n",
        "print(\"Ten is\", 44 / 4.4)\n",
        "print(\"Eleven is\", 44 / 4 + 4/4)\n",
        "print(\"Twelve is\", 4*4 -4 -4)\n",
        "print(\"Thirteen is\", 4 * 4 - 4 / 4)\n",
        "print(\"Fourteen is\", 4 * 4 - 4+4/4)\n",
        "print(\"Fifteen is\", 4 * 4 - 4 + (4/4))\n",
        "print(\"Sixteen is\", 4+4+4+4)\n",
        "print(\"Seventeen is\", 4*4+4/4)\n",
        "print(\"Eighteen is\", 4*4+4+4/4)\n",
        "print(\"Nineteen is\", 4*4+4+4/4)\n",
        "print(\"Twenty is\", 4 * 4 + 4 + 4/4)\n",
        "print(\"Twenty-one is\", 4*4+4+4/4)\n",
        "print(\"Twenty-two is\", 4*4+4+4/4)\n",
        "print(\"Twenty-three is\", 4*4+4+4/4)\n",
        "print(\"Twenty-four is\", 4*4+4+4/4)\n",
        "print(\"Twenty-five is\", 4*4+4+4/4)"
      ],
      "metadata": {
        "colab": {
          "base_uri": "https://localhost:8080/"
        },
        "id": "QsHuknY-u17A",
        "outputId": "0e185fbe-00f5-49c2-c1c4-6dce9476cb68"
      },
      "execution_count": null,
      "outputs": [
        {
          "output_type": "stream",
          "name": "stdout",
          "text": [
            "Two is 2.0\n",
            "Three is 3.0\n",
            "Four is 8\n",
            "Five is 5.0\n",
            "Six is 6.0\n",
            "Seven is 7.0\n",
            "Eight is 8\n",
            "Nine is 9.0\n",
            "Ten is 10.0\n",
            "Eleven is 12.0\n",
            "Twelve is 8\n",
            "Thirteen is 15.0\n",
            "Fourteen is 13.0\n",
            "Fifteen is 13.0\n",
            "Sixteen is 16\n",
            "Seventeen is 17.0\n",
            "Eighteen is 21.0\n",
            "Nineteen is 21.0\n",
            "Twenty is 21.0\n",
            "Twenty-one is 21.0\n",
            "Twenty-two is 21.0\n",
            "Twenty-three is 21.0\n",
            "Twenty-four is 21.0\n",
            "Twenty-five is 21.0\n"
          ]
        }
      ]
    },
    {
      "cell_type": "markdown",
      "metadata": {
        "id": "3AJ4cFJsMAMs"
      },
      "source": [
        "### <font color=\"darkblue\"><b>Data</b></font>\n",
        "\n",
        "The Four fours challenge uses _only_ numeric data, stereotypical of computing.\n",
        "\n",
        "In general, however, data can be numeric or sequential.\n",
        "\n",
        "Here are the two most important examples of each:\n",
        "+ <tt>46</tt>, <tt>42</tt>, <tt>-40</tt>, <tt>0</tt>, and <tt>1000000000000</tt> are <i>integers</i>. Integers are a _numeric_ type.\n",
        "   + in Python they are of type <font color=\"darkred\"><b><tt>int</tt></b></font>\n",
        "+ <tt>3.14</tt>, <tt>46.0</tt>, <tt>-.001</tt> are <i>floating-point</i> values: numeric with a fractional part - even if that fractional part is zero.\n",
        "   + in Python these are of type <font color=\"darkred\"><b><tt>float</tt></b></font>\n",
        "+ <tt>\"claremont\"</tt>, <tt>'Python'</tt>, and <tt>\"ATG\"</tt> are <i>strings</i>. They are sequences of characters. Single-quotes <tt>'like this'</tt> and double-quotes <tt>\"like this\"</tt> are both ok and both equivalent.\n",
        "   + strings in Python are of type <font color=\"darkred\"><b><tt>str</tt></b></font>\n",
        "+ <tt>[4,6]</tt>, <tt>[4,5,6]</tt>, <tt>[ \"scripps\", \"pitzer\", \"cgu\" ]</tt>, and <tt>[ [7,\"scripps\"], [6,\"pitzer\"], [3,\"cgu\"] ]</tt> are <i>lists</i>, sequences of anything at all...\n",
        "   + in Python they are of type <font color=\"darkred\"><b><tt>list</tt></b></font>\n",
        "\n",
        "The next cell provides working examples.\n",
        "\n",
        "The following cell asks you to create one of each -- with your own context added. :-)"
      ]
    },
    {
      "cell_type": "code",
      "execution_count": null,
      "metadata": {
        "id": "q1maiptdOM7E",
        "colab": {
          "base_uri": "https://localhost:8080/"
        },
        "outputId": "3ec97c55-94a0-4199-e163-846cbf775af1"
      },
      "outputs": [
        {
          "output_type": "stream",
          "name": "stdout",
          "text": [
            "Our examples:\n",
            "My examples?\n",
            "fav_num is 27 \n",
            "  type(fav_num) is <class 'int'>\n",
            "\n",
            "pi is 3.14 \n",
            "  type(pi) is <class 'float'>\n",
            "\n",
            "inator_creator is Dr. String \n",
            "  type(inator_creator) is <class 'str'>\n",
            "\n",
            "L is ['jan', 31, 'feb', 28, 'mar', 31] \n",
            "  type(L) is <class 'list'>\n",
            "\n"
          ]
        }
      ],
      "source": [
        "#\n",
        "# examples of the most important four types of data\n",
        "#   Numeric:     int, float\n",
        "#   Sequential:  str, list\n",
        "#\n",
        "\n",
        "print(\"Our examples:\")\n",
        "print(\"My examples?\")\n",
        "\n",
        "\n",
        "fav_num = 27      # an int\n",
        "pi = 3.14         # a float\n",
        "\n",
        "inator_creator = 'Dr. String'  # a string\n",
        "L = [\"jan\", 31, \"feb\", 28, \"mar\", 31]       # a list, of ints and strings\n",
        "\n",
        "#\n",
        "# now, let's print them -- and print their types:\n",
        "#\n",
        "print(\"fav_num is\", fav_num, \"\\n  type(fav_num) is\", type(fav_num))\n",
        "print()  # prints a blank line, \"\\n\" is another way to go to a newline\n",
        "\n",
        "print(\"pi is\", pi, \"\\n  type(pi) is\", type(pi))\n",
        "print()\n",
        "\n",
        "print(\"inator_creator is\", inator_creator, \"\\n  type(inator_creator) is\", type(inator_creator))\n",
        "print()\n",
        "\n",
        "print(\"L is\", L, \"\\n  type(L) is\", type(L))\n",
        "print()\n",
        "\n",
        "\n",
        "#\n",
        "# You'll notice that Python uses <class 'int'> instead of int, and so on...\n",
        "# No worries!\n",
        "#"
      ]
    },
    {
      "cell_type": "code",
      "execution_count": null,
      "metadata": {
        "id": "ZZ4wnCP5bx5u",
        "colab": {
          "base_uri": "https://localhost:8080/"
        },
        "outputId": "d7da3b10-4d58-412c-ed8f-043f7cf703ca"
      },
      "outputs": [
        {
          "output_type": "stream",
          "name": "stdout",
          "text": [
            "My examples?\n",
            "fav_num is 27 \n",
            "  type(fav_num) is <class 'int'>\n",
            "\n",
            "pi is 3.14 \n",
            "  type(pi) is <class 'float'>\n",
            "\n",
            "inator_creator is Dr. String \n",
            "  type(inator_creator) is <class 'str'>\n",
            "\n",
            "L is [1, 'fish', 2, 'Phish', 'blue', 'red'] \n",
            "  type(L) is <class 'list'>\n",
            "\n"
          ]
        }
      ],
      "source": [
        "#\n",
        "# Here, create at least one example of int, float, str, and list data\n",
        "#\n",
        "#     + Feel free to copy-and-paste-then-edit from the above cell\n",
        "#\n",
        "#     + The objective is to try out variables, assignment, and printing\n",
        "#     + with your own names, data, etc.\n",
        "#\n",
        "#     + Try it out...  Creativity is the goal...\n",
        "#\n",
        "#     + Errors?  Ask us - or whoever's next to you... :-)\n",
        "#\n",
        "#\n",
        "\n",
        "print(\"My examples?\")\n",
        "\n",
        "\n",
        "fav_num = 27      # an int\n",
        "pi = 3.14         # a float\n",
        "\n",
        "inator_creator = 'Dr. String'  # a string\n",
        "L = [ 1, \"fish\", 2, \"Phish\", \"blue\", \"red\"]       # a list, of ints and strings\n",
        "\n",
        "#\n",
        "# now, let's print them -- and print their types:\n",
        "#\n",
        "print(\"fav_num is\", fav_num, \"\\n  type(fav_num) is\", type(fav_num))\n",
        "print()  # prints a blank line, \"\\n\" is another way to go to a newline\n",
        "\n",
        "print(\"pi is\", pi, \"\\n  type(pi) is\", type(pi))\n",
        "print()\n",
        "\n",
        "print(\"inator_creator is\", inator_creator, \"\\n  type(inator_creator) is\", type(inator_creator))\n",
        "print()\n",
        "\n",
        "print(\"L is\", L, \"\\n  type(L) is\", type(L))\n",
        "print()\n",
        "\n"
      ]
    },
    {
      "cell_type": "markdown",
      "metadata": {
        "id": "ffp0PnOAFEid"
      },
      "source": [
        "### <font color=\"darkblue\"><b>A notebook's cells are global...</b></font>\n",
        "\n",
        "All notebook cells <u>share</u> a set of variables and their values!\n",
        "+ These are called <tt>global</tt> variables and values.\n",
        "+ These global variables and values are really convenient for exploration\n",
        "   + We can just keep exploring, cell-by-cell.\n",
        "+ It runs into trouble, however, when variable names get re-used (<i>Aargh!</i>)\n",
        "   + Re-use of a variable is called <i><b>clobbering</b></i>\n",
        "\n",
        "Let's clobber <tt>fav_num</tt> here:\n"
      ]
    },
    {
      "cell_type": "code",
      "execution_count": null,
      "metadata": {
        "id": "w2TFwHq1IIuR",
        "colab": {
          "base_uri": "https://localhost:8080/"
        },
        "outputId": "809d24a4-1d60-4e07-e868-39f6cb064e13"
      },
      "outputs": [
        {
          "output_type": "stream",
          "name": "stdout",
          "text": [
            "fav_num before is 1925\n",
            "fav_num after is 1925\n",
            "It overwrote my favorite number when I re-ran the cell....\n"
          ]
        }
      ],
      "source": [
        "#\n",
        "# example of clobbering fav_num\n",
        "#\n",
        "\n",
        "print(\"fav_num before is\", fav_num)\n",
        "\n",
        "fav_num = 1925            # Founded it!  (This was CGU's founding year.)\n",
        "\n",
        "print(\"fav_num after is\", fav_num)\n",
        "print(\"It overwrote my favorite number when I re-ran the cell....\")"
      ]
    },
    {
      "cell_type": "code",
      "execution_count": null,
      "metadata": {
        "id": "Li_RTYycImxB"
      },
      "outputs": [],
      "source": [
        "#\n",
        "# Thought experiment:\n",
        "#   What do you think happens if you re-run the above cell?!\n",
        "#   Try it out... No need to answer the question beyond trying it! :-)\n",
        "#"
      ]
    },
    {
      "cell_type": "markdown",
      "metadata": {
        "id": "5s912UI0uUIQ"
      },
      "source": [
        "# <font color=\"darkblue\"><b>Conditionals</b></font>\n",
        "\n",
        "### Conditionals are <i>Code Paths</i>\n",
        "\n",
        "In Python, all decisions are made through three keywords:\n",
        "+ <tt>if</tt>, <tt>elif</tt>, and <tt>else</tt>  \n",
        "+ These allow you to make decisions based on the value of data\n",
        "+ And those decisions can direct code to take different actions.\n",
        "\n",
        "These control structures are called ***conditionals***\n",
        "\n",
        "As an example of a conditional control structure, try the following cell.\n",
        "\n",
        "It plays a very unfair (and impolite) version of rock-paper-scissors:"
      ]
    },
    {
      "cell_type": "code",
      "source": [
        "comp = \"rock\"\n",
        "user = \"paper\"\n",
        "\n",
        "if comp == 'paper' and user == 'paper':\n",
        "    print('We tie. Try again?')\n",
        "\n",
        "elif comp == 'rock':\n",
        "\n",
        "    if user == 'scissors':\n",
        "        print('I win! *_*')\n",
        "    else:\n",
        "        print('You win. Aargh!')"
      ],
      "metadata": {
        "id": "wcPI5RwlYXxv",
        "colab": {
          "base_uri": "https://localhost:8080/"
        },
        "outputId": "bcdda421-bcdc-45bb-e7aa-cda824ef2fac"
      },
      "execution_count": null,
      "outputs": [
        {
          "output_type": "stream",
          "name": "stdout",
          "text": [
            "You win. Aargh!\n"
          ]
        }
      ]
    },
    {
      "cell_type": "code",
      "execution_count": null,
      "metadata": {
        "id": "bQmbrQ3lxRSG",
        "colab": {
          "base_uri": "https://localhost:8080/"
        },
        "outputId": "f3a51aa8-0a2f-45c0-fd9c-b31d0f8553f4"
      },
      "outputs": [
        {
          "output_type": "stream",
          "name": "stdout",
          "text": [
            "What is your name? rock\n",
            "Welcome, rock !\n",
            "\n",
            "I challenge you to rock-paper-scissors! Prepare to be vanquished!\n",
            "Which do you choose? (rock/paper/scissors):rock\n",
            "\n",
            "You chose rock\n",
            "But I chose paper...\n",
            "My paper smothers your rock!\n",
            "You chose rock\n",
            "Wow. You chose poorly!\n",
            "I win.\n",
            "\n",
            "Try again, if you dare...\n"
          ]
        }
      ],
      "source": [
        "# A very unfair game of rock-paper-scissors\n",
        "\n",
        "user_name = input(\"What is your name? \")\n",
        "print(\"Welcome,\", user_name, \"!\")\n",
        "print()\n",
        "\n",
        "print(\"I challenge you to rock-paper-scissors! Prepare to be vanquished!\")\n",
        "\n",
        "user_choice = input(\"Which do you choose? (rock/paper/scissors):\")\n",
        "print()\n",
        "\n",
        "if user_choice == \"rock\":\n",
        "  print(\"You chose\", user_choice)\n",
        "  print(\"But I chose paper...\")   # this doesn't seem fair...\n",
        "  print(\"My paper smothers your rock!\")\n",
        "\n",
        "if user_choice == \"paper\":\n",
        "  print(\"You chose\", user_choice, \"?\")\n",
        "  print(\"I'm sorry: My scissors have confetti'd you!\")\n",
        "\n",
        "else:\n",
        "  print(\"You chose\", user_choice)\n",
        "  print(\"Wow. You chose poorly!\")\n",
        "  print(\"I win.\")\n",
        "\n",
        "\n",
        "print()\n",
        "print(\"Try again, if you dare...\")\n"
      ]
    },
    {
      "cell_type": "markdown",
      "metadata": {
        "id": "LVDqFSCqz_Qa"
      },
      "source": [
        "### <u><b>To Do</b></u>\n",
        "\n",
        "### Run the above cell several times...\n",
        "\n",
        "+ Try different inputs, including <tt>rock</tt>, <tt>paper</tt>, <tt>scissors</tt>, and some others. Experiment!\n",
        "+ In each case, consider the results...\n",
        "\n",
        "<br>\n",
        "\n",
        "### <u><b>To Answer</b></u>\n",
        "\n",
        "Feel free to include your answers here, just after each question. (A couple of these are completed as examples.)\n",
        "\n",
        "+ In the above cell, which lines run when <tt>user_choice</tt> is equal to ``\"rock\"``?\n",
        "   + <b>Answer</b>:  lines 13-15, the <tt>if</tt> block's body, are run in this case\n",
        "+ In the above cell, which lines run when <tt>user_choice</tt> is equal to ``\"paper\"``?\n",
        "   + <b>Answer</b>: The lines are ran and the computer uses scissors.\n",
        "+ In the above cell, which lines run when <tt>user_choice</tt> is equal to ``\"Paper\"``? (Hint: it's different than above!)\n",
        "   + <b>Answer</b>: It puts in the input differently since it's case sensitive.\n",
        "+ In the above cell, which lines run when <tt>user_choice</tt> is equal to <tt>POPTARTS!</tt>?\n",
        "   + <b>Answer</b>: It puts says I chose poorly and the computer still wins\n",
        "  \n",
        "+ If you delete just the <tt>if</tt> block (lines 12-15) entirely, how does the program's behavior change?\n",
        "   + <b>Answer</b>:  This breaks the code: it's a syntax error to have an <tt>elif</tt> or an <tt>else</tt> without an initial <tt>if</tt>!\n",
        "+ What if you delete just the <tt>elif</tt> block (lines 17-19)?\n",
        "   + <b>Answer</b>: It will always respond I chose poorly\n",
        "+ What if you delete just the <tt>else</tt> block (lines 21-24)?\n",
        "   + <b>Answer</b>: It just prints \"try again if you dare\"\n",
        "+ What if you change just the keyword <tt>elif</tt> to the keyword <tt>if</tt> on line 17? How does the program's behavior change?\n",
        "   + <b>Answer</b>: It runs in a state where I always lose still, but it prints i also chose poorly and tells me it won again..<br>\n",
        "\n",
        "### <u><b>To Notice</b></u>\n",
        "\n",
        "+ In the above cell, notice that to **test** if a variable is equal to a value, Python uses two equal signs\n",
        "   + <tt>user_choice == \"rock\"</tt> is a <u>test</u>\n",
        "+ On the other hand, to **set** a variable to a value, Python uses one equal sign\n",
        "  + <tt>user_choice = input(\"Which?\")</tt> <i>sets</i> <tt>user_choice</tt>. (It's not a test.)\n",
        "+ The **body** of each conditional block is indented. This is how Python knows when the block ends.\n",
        "   + When its indentation ends, so does that _block_ of code.\n",
        "\n",
        "\n"
      ]
    },
    {
      "cell_type": "markdown",
      "metadata": {
        "id": "b5Nkx_-LC0SM"
      },
      "source": [
        "# <font color=\"darkblue\"><b><i>Nested</i> Conditionals</b></font>\n",
        "\n",
        "That's it!\n",
        "\n",
        "Incredibly, that's all there is to know about conditionals!\n",
        "\n",
        "(Although there's value to practicing further!)\n",
        "\n",
        "Even more incredibly, ***this is all that's needed for <u>any</u> computational decision-making at all***\n",
        "+ <tt>if</tt>, <tt>elif</tt>, and <tt>else</tt> are all that are needed\n",
        "+ Every conditional must begin with an <tt>if</tt>. The <tt>elif</tt> and <tt>else</tt> blocks are optional.\n",
        "+ Sophistication, power, and intricacy can be built through ***nesting***\n",
        "\n",
        "Below is a more sophisticated -- and more fair -- rock-paper-scissors example. + It uses _nested_ conditionals to keep track of both the user's choice and the computer's choice.\n",
        "\n",
        "You'll see the line <tt>comp_choice = random.choice([\"rock\",\"paper\",\"scissors\"])</tt>\n",
        "+ This line makes a random choice from the three options\n",
        "+ It assigns that choice to the variable <tt>comp_choice</tt>\n",
        "+ We don't know which it's chosen!\n",
        "\n",
        "Try it out!"
      ]
    },
    {
      "cell_type": "code",
      "execution_count": null,
      "metadata": {
        "id": "0EGxVgVmIDOu",
        "colab": {
          "base_uri": "https://localhost:8080/"
        },
        "outputId": "f55283fb-c9e0-44d5-d441-2dd0e68048ae"
      },
      "outputs": [
        {
          "output_type": "stream",
          "name": "stdout",
          "text": [
            "What is your name? paper\n",
            "Welcome, paper !\n",
            "\n",
            "Ready for RPS? Choose wisely!!\n",
            "Which do you choose? (rock/paper/scissors):paper\n",
            "\n",
            "You chose paper\n",
            "  I chose rock\n",
            "\n",
            "You have ventured into the unknown...\n",
            "... but I probably won!!\n",
            "\n",
            "Try again!\n"
          ]
        }
      ],
      "source": [
        "#\n",
        "# A fairer but incomplete game of rock-paper-scissors\n",
        "#\n",
        "\n",
        "import random       # imports a library (named random)\n",
        "                    # for making random choices\n",
        "\n",
        "user_name = input(\"What is your name? \")\n",
        "print(\"Welcome,\", user_name, \"!\")\n",
        "print()\n",
        "\n",
        "print(\"Ready for RPS? Choose wisely!!\")\n",
        "user_choice = input(\"Which do you choose? (rock/paper/scissors):\")\n",
        "comp_choice = random.choice([\"rock\",\"paper\",\"scissors\"])\n",
        "print()\n",
        "\n",
        "# We print both choices\n",
        "print(\"You chose\", user_choice)\n",
        "print(\"  I chose\", comp_choice)\n",
        "print()\n",
        "\n",
        "\n",
        "# We can handle different possibilities with nested conditionals\n",
        "\n",
        "if user_choice == \"rock\":\n",
        "\n",
        "  if comp_choice == \"rock\":\n",
        "    print(\"Aargh! We tied (but my rock was rockier!)\")\n",
        "  elif comp_choice == \"paper\":\n",
        "    print(\"I win! My paper outclasses any rock!\")\n",
        "  else:\n",
        "    print('Alack! Your rock cast my scissors asunder.')\n",
        "\n",
        "else:\n",
        "\n",
        "  print(\"You have ventured into the unknown...\")\n",
        "  print(\"... but I probably won!!\")\n",
        "\n",
        "\n",
        "\n",
        "print()\n",
        "print(\"Try again!\")\n"
      ]
    },
    {
      "cell_type": "markdown",
      "metadata": {
        "id": "uMmkLijNKtFa"
      },
      "source": [
        "# <font color=\"darkblue\"><b>Your Task: a <i>real</i> RPS...</b></font>\n",
        "\n",
        "Above is a _start_ to a real RPS challenge. It's fair, but incomplete.\n",
        "\n",
        "<br>\n",
        "\n",
        "Your task, in the following cell, is to create a complete, fair-playing RPS-like game:\n",
        "+ it should run and should handle at least nine possibilities correctly\n",
        "+ they can be rock-paper-scissors or your own options...\n",
        "+ use creative/personalized dialog!\n",
        "\n",
        "<br>\n",
        "\n",
        "There are lots of extra-credit possibilities, as well:\n",
        "+ create an RPS-variation of your own design\n",
        "   + There are several variants that involve bears.\n",
        "   + Perhaps bear-stag-sagehen?\n",
        "   + Could have more than three options, e.g., [rock-paper-scissors-lizard-spock](https://www.youtube.com/watch?v=x5Q6-wMx-K8)\n",
        "+ use better/sharper dialog!\n",
        "+ include \"easter eggs\" - for example, different behavior if the name is recognized...\n",
        "   + With conditionals, there's no limit to the code-paths possible...\n",
        "\n",
        "<br>\n",
        "\n",
        "But, don't spend too much time on RPS...\n",
        "\n",
        "... because the final task, your Python Adventure, awaits!\n"
      ]
    },
    {
      "cell_type": "code",
      "execution_count": null,
      "metadata": {
        "id": "fcLcTxiwPAOQ",
        "colab": {
          "base_uri": "https://localhost:8080/"
        },
        "outputId": "52f48cce-f27d-4a23-dfe3-7b032cf4be17"
      },
      "outputs": [
        {
          "output_type": "stream",
          "name": "stdout",
          "text": [
            "What is your name? rock\n",
            "Welcome, rock !\n",
            "\n",
            "Ready for RPS? Choose wisely!!\n",
            "Which do you choose? (rock/paper/scissors):rock\n",
            "\n",
            "You chose rock\n",
            "  I chose scissors\n",
            "\n",
            "Alack! Your rock cast my scissors asunder.\n",
            "\n",
            "Try again!\n"
          ]
        }
      ],
      "source": [
        "#\n",
        "# A fairer but incomplete game of rock-paper-scissors\n",
        "#\n",
        "\n",
        "import random       # imports a library (named random)\n",
        "                    # for making random choices\n",
        "\n",
        "user_name = input(\"What is your name? \")\n",
        "print(\"Welcome,\", user_name, \"!\")\n",
        "print()\n",
        "\n",
        "print(\"Ready for RPS? Choose wisely!!\")\n",
        "user_choice = input(\"Which do you choose? (rock/paper/scissors):\")\n",
        "comp_choice = random.choice([\"rock\",\"paper\",\"scissors\"])\n",
        "print()\n",
        "\n",
        "# We print both choices\n",
        "print(\"You chose\", user_choice)\n",
        "print(\"  I chose\", comp_choice)\n",
        "print()\n",
        "\n",
        "\n",
        "# We can handle different possibilities with nested conditionals\n",
        "\n",
        "if user_choice == \"rock\":\n",
        "\n",
        "  if comp_choice == \"rock\":\n",
        "    print(\"Aargh! We tied (but my rock was rockier!)\")\n",
        "  elif comp_choice == \"paper\":\n",
        "    print(\"I win! My paper outclasses any rock!\")\n",
        "  else:\n",
        "    print('Alack! Your rock cast my scissors asunder.')\n",
        "\n",
        "if user_choice == \"paper\":\n",
        "\n",
        "  if comp_choice == \"rock\":\n",
        "    print(\"Alack! Your paper covers my rock!\")\n",
        "  elif comp_choice == \"paper\":\n",
        "    print(\"Aargh! We tied (but my paper was paperier!)\")\n",
        "  else:\n",
        "    print('I win! My scissors cut your paper!')\n",
        "\n",
        "if user_choice == \"scissors\":\n",
        "\n",
        "  if comp_choice == \"scissors\":\n",
        "    print(\"Aargh! We tied (but my scissors were scissorsier!)\")\n",
        "  elif comp_choice == \"rock\":\n",
        "    print(\"I win! My rock smashes your scissors!\")\n",
        "  else:\n",
        "    print(\"Alack! Your scissors cut my paper!\")\n",
        "\n",
        "\n",
        "\n",
        "print()\n",
        "print(\"Try again!\")"
      ]
    },
    {
      "cell_type": "markdown",
      "metadata": {
        "id": "z5GHXttzVHYV"
      },
      "source": [
        "# <font color=\"darkblue\"><b>Adventure! (example)</b></font>\n",
        "\n",
        "Try running the cell below and then read it over.\n",
        "\n",
        "It is an example \"interactive fiction\" adventure:\n",
        "+ featuring poptarts  (naturally)\n",
        "+ with multiple outcomes available  (only two, in this case)\n",
        "\n",
        "With this as an example, the final problem asks you to create-your-own-adventure...  (see the details below)."
      ]
    },
    {
      "cell_type": "code",
      "execution_count": null,
      "metadata": {
        "id": "M2KYNZknVNJr",
        "colab": {
          "base_uri": "https://localhost:8080/"
        },
        "outputId": "fea1f323-aba7-4608-8eb5-032f716b7f0d"
      },
      "outputs": [
        {
          "output_type": "stream",
          "name": "stdout",
          "text": [
            "What do they call you, worthy adventurer? IST341_Participant_6\n",
            "\n",
            "Welcome, IST341_Participant_6 -- to the UnderMine, a labyrinth\n",
            "beneath CGU's unending academic complex, with weighty\n",
            "wonders and unreal quantities...of poptarts!\n",
            "\n",
            "Your quest: To find--and partake of--a poptart!\n",
            "\n",
            "What flavor do you seek? s'mores\n",
            "The taste of the campfire: well chosen, adventurer!\n",
            "\n",
            "On to the quest!\n",
            "\n",
            "\n",
            "A corridor stretches before you; its dim lighting betrays, to\n",
            "one side, a table supporting nameless forms of inorganic bulk\n",
            "and, to the other, a door ajar, leaking laughter--is that\n",
            "laughter?--of lab-goers.\n",
            "\n",
            "Do you choose the table or the door? [table/door] door\n",
            "\n",
            "You push the door into a gathering of sagefowl, athenas,\n",
            "and stags alike, all relishing their tasks. Teamwork and\n",
            "merriment abound here, except...\n",
            "\n",
            "...they have consumed ALL of the poptarts! Drifts of wrappers\n",
            "coat the floor.  Dizzy, you grasp for a pastry. None is at\n",
            "hand. You exhale and slip under the teeming tide of foil as\n",
            "it finishes winding around you.\n",
            "Farewell, IST341_Participant_6 .\n"
          ]
        }
      ],
      "source": [
        "# Title for this example adventure:   The Quest.\n",
        "#\n",
        "# Notes on how to \"win\" or \"lose\" this adventure:\n",
        "#   To win, choose the table.\n",
        "#   To lose, choose the door.\n",
        "\n",
        "\n",
        "def adventure():\n",
        "    \"\"\"This function runs one session of interactive fiction\n",
        "       Well, it's \"fiction,\" depending on the pill color chosen...\n",
        "       Arguments: no arguments (prompted text doesn't count as an argument)\n",
        "       Results: no results     (printing doesn't count as a result)\n",
        "    \"\"\"\n",
        "    user_name = input(\"What do they call you, worthy adventurer? \")\n",
        "\n",
        "    print()\n",
        "    print(\"Welcome,\", user_name, \"-- to the UnderMine, a labyrinth\")\n",
        "    print(\"beneath CGU's unending academic complex, with weighty\")\n",
        "    print(\"wonders and unreal quantities...of poptarts!\")\n",
        "    print()\n",
        "\n",
        "    print(\"Your quest: To find--and partake of--a poptart!\")\n",
        "    print()\n",
        "    flavor = input(\"What flavor do you seek? \")\n",
        "    if flavor == \"strawberry\":\n",
        "        print(\"Wise! You show deep poptart experience.\")\n",
        "    elif flavor == \"s'mores\":\n",
        "        print(\"The taste of the campfire: well chosen, adventurer!\")\n",
        "    else:\n",
        "        print(\"Each to their own, then.\")\n",
        "    print()\n",
        "\n",
        "    print(\"On to the quest!\\n\\n\")\n",
        "    print(\"A corridor stretches before you; its dim lighting betrays, to\")\n",
        "    print(\"one side, a table supporting nameless forms of inorganic bulk\")\n",
        "    print(\"and, to the other, a door ajar, leaking laughter--is that\")\n",
        "    print(\"laughter?--of lab-goers.\")\n",
        "    print()\n",
        "\n",
        "    choice1 = input(\"Do you choose the table or the door? [table/door] \")\n",
        "    print()\n",
        "\n",
        "    if choice1 == \"table\":\n",
        "        print(\"As you approach the table, its hazy burdens loom ever larger,\")\n",
        "        print(\"until...\")\n",
        "        print()\n",
        "        print(\"...they resolve into unending stacks of poptarts, foil\")\n",
        "        print(\"shimmering.  You succeed, sumptuously, in sating the\")\n",
        "        print(\"challenge--and your hunger.\")\n",
        "        print(\"Go well,\", user_name, \"!\")\n",
        "\n",
        "    else:\n",
        "        print(\"You push the door into a gathering of sagefowl, athenas,\")\n",
        "        print(\"and stags alike, all relishing their tasks. Teamwork and\")\n",
        "        print(\"merriment abound here, except...\")\n",
        "        print()\n",
        "        print(\"...they have consumed ALL of the poptarts! Drifts of wrappers\")\n",
        "        print(\"coat the floor.  Dizzy, you grasp for a pastry. None is at\")\n",
        "        print(\"hand. You exhale and slip under the teeming tide of foil as\")\n",
        "        print(\"it finishes winding around you.\")\n",
        "        print(\"Farewell,\", user_name, \".\")\n",
        "\n",
        "\n",
        "#\n",
        "# The above adventure is defined in a _function_  (next week: functions!)\n",
        "#\n",
        "# This means it's defined, but it does not run until we call it.\n",
        "# This line below calls it:\n",
        "adventure()"
      ]
    },
    {
      "cell_type": "markdown",
      "metadata": {
        "id": "oqzSX1aKDhq-"
      },
      "source": [
        "# <font color=\"darkblue\"><b>Adventure (Yours!)</b></font>\n",
        "\n",
        "### Interactive Fiction\n",
        "\n",
        "For this problem, you-the-author should create a Python program (built on the starting template above) that is a work of interactive fiction, a.k.a., a choose-your-own-adventure program.\n",
        "\n",
        "Its goals are\n",
        "+ to build experience with control structures! Your adventure needs at least 5 <tt>if</tt>-based control structures, noted below.\n",
        "+ to begin writing code in a function (the template does this using <tt>def adventure():</tt> at the top of the cell) -- and then running it (by calling <tt>adventure()</tt> at the bottom of the cell\n",
        "+ to invite story-telling (in Python)!\n",
        "\n",
        "<br>\n",
        "\n",
        "### Conditional structures to include:\n",
        "\n",
        "The example story includes two if-based control structures: (a) an <tt>if-elif-else</tt> and (b) an <tt>if-else</tt>\n",
        "\n",
        "For this challenge, you use each of five conditional control structures in a creative way that affects the story or dialog\n",
        "+ They don't have to appear in this or any order\n",
        "+ You're welcome to have many more than this, if you wish!\n",
        "+ Here are the control structures to be sure to include:\n",
        "   + An `if`, `elif`, and `else` control structure (with exactly one `elif`)\n",
        "   + An `if`, `elif`, `elif`, ... and `else` control structure (with at least two `elif`s and a trailing `else`)\n",
        "   + An `if`, `else` control structure (with zero `elif`s)\n",
        "   + An `if`, `elif`, ... control structure (with one or more `elif`s but no trailing `else` at all)\n",
        "   + A plain `if` control structure (with no trailing `elif` nor trailing `else` at all)\n",
        "\n",
        "<i>Keep things light!</i>\n",
        "+ There are forums for all forms of expression, and this one's goals is really contextualizing conditionals in CS.\n",
        "+ Know that, poentially, lots of people (our tutors! us!) will read—and run—your story: we look forward to it!\n",
        "+ It's appreciated if you describe how to \"win\" your adventure at the top of your cell, in a comment\n",
        "\n",
        "Also, please be mindful of the time you spend!\n",
        "\n",
        "The goal here is _not_ to take a lot of time.\n",
        "+ It's easy to let time slip away: the poptart adventure above took much longer than I originally thought it would—and it has only two control structures!\n",
        "\n",
        "<br>\n",
        "\n",
        "### I look forward to your adventure!\n"
      ]
    },
    {
      "cell_type": "code",
      "execution_count": null,
      "metadata": {
        "id": "3CuGtAfYPqCi",
        "colab": {
          "base_uri": "https://localhost:8080/"
        },
        "outputId": "88be8e0b-ed9c-4df0-e2d8-16194f2c371b"
      },
      "outputs": [
        {
          "output_type": "stream",
          "name": "stdout",
          "text": [
            "What's your name?IST341_Participant_6\n",
            "\n",
            "Welcome, IST341_Participant_6 to a simple crossroads\n",
            "where sunlight and darkness meet\n",
            "\n",
            "Take a choice\n",
            "\n",
            "sunlight or moonlight?moonlight\n",
            "A night owl, huh? moonlight guides your way\n",
            "\n",
            "How will you proceed then. \n",
            "\n",
            "\n",
            "You look forward as two paths lie before you\n",
            "one side, A bristling town with a large singular tower looms\n",
            "in the distance.\n",
            "On the other side, a lush forest, with pine trees and a dirt path\n",
            "\n",
            "Do you choose the town or the forest? [town/forest] forest\n",
            "\n",
            "As you walk towards the forest, you start to hear howling\n",
            "and as you continue, the howling gets closer and more feral\n",
            "A pack of wolves jump from the trees and tear at your neck\n",
            "You die IST341_Participant_6 .\n"
          ]
        }
      ],
      "source": [
        "# Title for this adventure:   Dark or Light\n",
        "#\n",
        "\n",
        "\n",
        "\n",
        "def adventure():\n",
        "    user_name = input(\"What's your name?\")\n",
        "\n",
        "    print()\n",
        "    print(\"Welcome,\", user_name, \"to a simple crossroads\")\n",
        "    print(\"where sunlight and darkness meet\")\n",
        "    print()\n",
        "\n",
        "    print(\"Take a choice\")\n",
        "    print()\n",
        "    brightness = input(\"sunlight or moonlight?\")\n",
        "    if brightness == \"sunlight\":\n",
        "        print(\"The warmth of the sunlight will shine upon you\")\n",
        "    elif brightness == \"moonlight\":\n",
        "        print(\"A night owl, huh? moonlight guides your way\")\n",
        "    else:\n",
        "        print(\"Indecision will plague you for the rest of eternity\")\n",
        "    print()\n",
        "\n",
        "    print(\"How will you proceed then. \\n\\n\")\n",
        "    print(\"You look forward as two paths lie before you\")\n",
        "    print(\"one side, A bristling town with a large singular tower looms\")\n",
        "    print(\"in the distance.\")\n",
        "    print(\"On the other side, a lush forest, with pine trees and a dirt path\")\n",
        "    print()\n",
        "\n",
        "    choice1 = input(\"Do you choose the town or the forest? [town/forest] \")\n",
        "    print()\n",
        "\n",
        "    if choice1 == \"town\":\n",
        "        print(\"As you walk towards the town, you start to hear the hustle\")\n",
        "        print(\"and bustle of a crowd of people and as you listen closer\")\n",
        "        print(\"they start sounding angry and chase you down\")\n",
        "        print(\"they tackle you to the floor and slash at your body with\")\n",
        "        print(\"kitchen knives and pitchforks\")\n",
        "        print(\"you hear them shouting 'Witch!'\")\n",
        "        print(\"You die,\", user_name, \"!\")\n",
        "\n",
        "    else:\n",
        "        print(\"As you walk towards the forest, you start to hear howling\")\n",
        "        print(\"and as you continue, the howling gets closer and more feral\")\n",
        "        print(\"A pack of wolves jump from the trees and tear at your neck\")\n",
        "        print(\"You die\", user_name, \".\")\n",
        "\n",
        "\n",
        "#\n",
        "# The above adventure is defined in a _function_  (next week: functions!)\n",
        "#\n",
        "# This means it's defined, but it does not run until we call it.\n",
        "# This line below calls it:\n",
        "adventure()"
      ]
    },
    {
      "cell_type": "markdown",
      "metadata": {
        "id": "_hi9IzD5eb-O"
      },
      "source": [
        "# <font color=\"darkblue\"><b>Reading and Response</b></font>\n",
        "\n",
        "### There is often a \"reading-and-response challenge\"\n",
        "+ There is usually one of these each week...\n",
        "+ It often complements the programming portion for that week...\n",
        "+ **Response**    We ask you to compose a response to each article. It can be short (4-5 sentences is great), and the goal is to engage with something in each article and incorporate your own thoughts and experiences into your response.\n",
        "  + The responses are worth about 5 points each week.\n",
        "  + Include your response in the cell below...\\\n",
        "  \n",
        "\n",
        "<br>\n",
        "\n",
        "### This week's reading is about _language_\n",
        "+ Here is the [article in the NYTimes](https://www.nytimes.com/2010/08/29/magazine/29language-t.html)\n",
        "+ Here is a [local pdf copy](https://www.cs.hmc.edu/twiki/pub/CS5/Reading0Gold/language_shapes.pdf), in case you don't have access the NYTimes version\n",
        "\n",
        "<br>\n",
        "\n",
        "#### What to do...\n",
        "\n",
        "+ After you have read the above excerpt (or whole article), create a response to the article that addresses one or both of the following prompts in a plain-text file named hw0pr0.txt, which you should submit through the submissions system.\n",
        "  + Have there been moments in which you felt that your language or another language \"got in the way\" of something you wanted to accomplish? That is, have you \"bumped into a language's boundaries,\" in the manner suggested by the article? Elaborate briefly.  or\n",
        "  + To what extent do artificial languages (such as Python or Picobot) have the ability to shape human thought, if at all? Or are such languages fundamentally different from human ones, such as Guugu Yimithirr and English?\n",
        "+ You only need write a few sentences in the next cell down; a paragraph of 4-6 sentences certainly suffices. More are welcome, but the real goal is that your response shows you have thought about the article and added your own experience or insights to its ideas.\n",
        "\n"
      ]
    },
    {
      "cell_type": "markdown",
      "metadata": {
        "id": "lGWfvhGde9RA"
      },
      "source": [
        "## <font color=\"darkblue\"><b>Response to \"Does language shape how we think?!\"</b></font>\n",
        "\n",
        "<br>\n",
        "Language absolutely shapes how we think. I feel as though I am miscommunicating with people and I think an understanding of english or language in general is a masterful skill. I find myself having to clarify every little detail and leave no room for implication is the best way to communicate. Perhaps the people I talk to are ones to jump to conclusions but I feel as though if I don't properly explain my thoughts, my ideas get miscontrued and misunderstood. I think understanding one's point-of-view is important in being a patient, mature and understanding person. So saying \"pass the salt on your right\" is a tiny example of making things easier to understand from their point of view, which is why I find Guugu Yimithirr to be impractical, however, always consistent, assuming the speaker knows their directions.\n",
        "\n",
        "**I'm unsure where to submit my response with the plain text file named hw0pr0 and where to submit it. However, below is my response to the question.**\n",
        "\n",
        "IST341_Participant_10 Pham\n",
        "\n",
        "Have there been moments in which you felt that your language or another language \"got in the way\" of something you wanted to accomplish? That is, have you \"bumped into a language's boundaries,\" in the manner suggested by the article? Elaborate briefly.\n",
        "\n",
        "I feel like language is constantly getting in the way of the ways of an idea i'm trying to get across. The article got me thinking about point-of-view a lot. Even something simple like sitting across the table from somebody has to have a significant change in language. Instead of saying \"pass the salt to left\", you have to do it from their point of view and say \"pass the salt to your right.\" The amount of clarification we need in our language is more than one would think. On the flipside, body language is also comical to think about, as I feel like I can signify that I need the salt to their right just by pointing and motioning that I would like it. However, that changes once again if there is a pepper shaker in close proximity to the salt and therefore you would have to clarify further. \"Closer to you or closer to me\" is another directional language signifier that is in relation to point-of-view.\n",
        "\n",
        "<br>\n",
        "<br>"
      ]
    },
    {
      "cell_type": "markdown",
      "metadata": {
        "id": "rNHGo2zHWUuo"
      },
      "source": [
        "# <B>Submitting...</B>\n",
        "\n",
        "Be sure to submit the url of _your_ copy -- with the challenges, questions, and programs composed --\n",
        "+ to Canvas in the appropriate spot\n",
        "+ by the _following_ Friday evening, any time...\n",
        "\n",
        "Remember that there is lots of cgu-based tutoring support (the Python tutoring), as well as office-hour support available...\n",
        "\n",
        "<br>\n",
        "\n",
        "The programming parts of IST341, especially this one, seek poptarts -- as well as\n",
        "+ creativity/novelty\n",
        "+ personalization/individual context\n",
        "+ exploration and understanding (does it run?)"
      ]
    }
  ],
  "metadata": {
    "colab": {
      "provenance": []
    },
    "kernelspec": {
      "display_name": "Python 3",
      "name": "python3"
    },
    "language_info": {
      "name": "python"
    }
  },
  "nbformat": 4,
  "nbformat_minor": 0
}