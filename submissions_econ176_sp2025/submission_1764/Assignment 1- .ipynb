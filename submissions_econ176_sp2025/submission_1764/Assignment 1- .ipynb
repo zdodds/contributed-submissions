{
  "nbformat": 4,
  "nbformat_minor": 0,
  "metadata": {
    "colab": {
      "provenance": []
    },
    "kernelspec": {
      "name": "python3",
      "display_name": "Python 3"
    },
    "language_info": {
      "name": "python"
    }
  },
  "cells": [
    {
      "cell_type": "markdown",
      "source": [
        "### Econ 176 APIs Day 2\n",
        "\n",
        "We're back! [Here was Day 1](https://colab.research.google.com/drive/1laKhKCXTFtCAGKrOqQfisbGPyQE-xexm#scrollTo=nCAN5xmzEP9t&uniqifier=1)\n",
        "\n",
        "<font size=\"-1\">Today, we'll continue building familiarity with APIs through calling and analyzing the results (using Python, of course!)"
      ],
      "metadata": {
        "id": "nCAN5xmzEP9t"
      }
    },
    {
      "cell_type": "markdown",
      "source": [
        "#### Where were we?\n",
        "\n",
        "We had tried the International Space Station API at [http://api.open-notify.org/iss-now.json](http://api.open-notify.org/iss-now.json) :"
      ],
      "metadata": {
        "id": "lZbQ6GUJHGA2"
      }
    },
    {
      "cell_type": "code",
      "source": [
        "# we assign the url and obtain the api-call result into result\n",
        "#    Note that result will be an object that contains many fields (not a simple string)\n",
        "#\n",
        "\n",
        "import requests\n",
        "\n",
        "url = \"http://api.open-notify.org/iss-now.json\"   # this is sometimes called an \"endpoint\" ...\n",
        "result = requests.get(url)\n",
        "result\n",
        "\n",
        "# if it succeeds, you should see <Response [200]>"
      ],
      "metadata": {
        "id": "th8zFD_8HEwh",
        "outputId": "95248c7b-4a24-433e-e9a9-bce2669b0810",
        "colab": {
          "base_uri": "https://localhost:8080/"
        }
      },
      "execution_count": null,
      "outputs": [
        {
          "output_type": "execute_result",
          "data": {
            "text/plain": [
              "<Response [200]>"
            ]
          },
          "metadata": {},
          "execution_count": 1
        }
      ]
    },
    {
      "cell_type": "code",
      "source": [
        "#\n",
        "# In this case, we know the result is a JSON file, and we can obtain it that way:\n",
        "\n",
        "json_contents = result.json()      # needs to convert the text to a json dictionary...\n",
        "print(f\"json_contents is {json_contents}\")     # Aha!  Let's re/introduce f-strings...\n",
        "\n",
        "# Take a look... remember that a json object is a Python dictionary:"
      ],
      "metadata": {
        "id": "YVro11VYHUxA",
        "colab": {
          "base_uri": "https://localhost:8080/"
        },
        "outputId": "b896c208-1c8d-4fa3-de72-111c86612edc"
      },
      "execution_count": null,
      "outputs": [
        {
          "output_type": "stream",
          "name": "stdout",
          "text": [
            "json_contents is {'iss_position': {'longitude': '-170.2459', 'latitude': '3.6723'}, 'timestamp': 1738864593, 'message': 'success'}\n"
          ]
        }
      ]
    },
    {
      "cell_type": "code",
      "source": [
        "#\n",
        "# Let's remind ourselves how dictionaries work:\n",
        "\n",
        "lat = json_contents['iss_position']['latitude']\n",
        "lat = float(lat)\n",
        "print(\"lat: \", lat)"
      ],
      "metadata": {
        "id": "bl1RQPr0HoFB",
        "colab": {
          "base_uri": "https://localhost:8080/"
        },
        "outputId": "29b50db6-f050-4c24-977d-36e8193eed39"
      },
      "execution_count": null,
      "outputs": [
        {
          "output_type": "stream",
          "name": "stdout",
          "text": [
            "lat:  3.6723\n"
          ]
        }
      ]
    },
    {
      "cell_type": "markdown",
      "source": [
        "Here is a function that returns the distance detween two (lat/long) pairs:\n",
        "\n",
        "\n",
        "<font size=\"-2\">\n",
        "\n",
        "```   \n",
        "def haversine(lat1, long1, lat2, long2):\n",
        "    \"\"\"\n",
        "    Calculate the great circle distance in kilometers between two points\n",
        "    on the earth (specified in decimal degrees)\n",
        "    \"\"\"\n",
        "    from math import *\n",
        "    # convert decimal degrees to radians\n",
        "    long1, lat1, long2, lat2 = map(radians, [long1, lat1, long2, lat2])\n",
        "\n",
        "    # haversine formula\n",
        "    dlong = long2 - long1\n",
        "    dlat = lat2 - lat1\n",
        "    trig = sin(dlat/2)**2 + cos(lat1) * cos(lat2) * sin(dlong/2)**2\n",
        "    # Radius of earth. Use 3956 for miles. 6371 for km.\n",
        "    radius = 3956  # we'll use miles!\n",
        "    return radius * 2 * asin(sqrt(trig))\n",
        "```\n",
        "</font>"
      ],
      "metadata": {
        "id": "pf698gsuHo-E"
      }
    },
    {
      "cell_type": "code",
      "source": [
        "from math import *\n",
        "def haversine(lat1, long1, lat2, long2):\n",
        "    \"\"\"\n",
        "    Calculate the great circle distance in kilometers between two points\n",
        "    on the earth (specified in decimal degrees)\n",
        "    \"\"\"\n",
        "    # convert decimal degrees to radians\n",
        "    long1, lat1, long2, lat2 = map(radians, [long1, lat1, long2, lat2])\n",
        "\n",
        "    # haversine formula\n",
        "    dlong = long2 - long1\n",
        "    dlat = lat2 - lat1\n",
        "    trig = sin(dlat/2)**2 + cos(lat1) * cos(lat2) * sin(dlong/2)**2\n",
        "\n",
        "    # Radius of earth. Use 3956 for miles. 6371 for km.\n",
        "    radius = 3956  # we'll use miles!\n",
        "    return radius * 2 * asin(sqrt(trig))"
      ],
      "metadata": {
        "id": "1cnTlISta9t3"
      },
      "execution_count": null,
      "outputs": []
    },
    {
      "cell_type": "markdown",
      "source": [
        "#### <font color=\"Coral\"><b>Task 0</b></font> &nbsp;&nbsp; Let's, together, create a program that finds the distance from the ISS to Claremont\n",
        "+ It can just be a cell, it doesn't have to be its own function.\n",
        "+ But, let's definitely use the haversine function, above...\n",
        "\n",
        "\n",
        "\n"
      ],
      "metadata": {
        "id": "kk2MYKMmvkm5"
      }
    },
    {
      "cell_type": "code",
      "source": [
        "#\n",
        "# Let's make sure we \"unpack the process\" w/o AI\n",
        "#\n"
      ],
      "metadata": {
        "id": "knTWTlxbwKKh"
      },
      "execution_count": null,
      "outputs": []
    },
    {
      "cell_type": "code",
      "source": [
        "#\n",
        "# Then, let's compare with AI's result...\n",
        "#"
      ],
      "metadata": {
        "id": "vBY5T3TlwPtw"
      },
      "execution_count": null,
      "outputs": []
    },
    {
      "cell_type": "markdown",
      "source": [
        "Vice-versa is ok, too...\n",
        "\n",
        "<br>\n",
        "<hr>\n",
        "<br>"
      ],
      "metadata": {
        "id": "llb-BkBawpBi"
      }
    },
    {
      "cell_type": "markdown",
      "source": [
        "<b>Let's try another ISS \"endpoint\" ~ one with all of the <i>people</i> in space.</b>\n",
        "\n",
        "It's at this url:  [http://api.open-notify.org/astros.json](http://api.open-notify.org/astros.json)"
      ],
      "metadata": {
        "id": "7xDIVZevPFjt"
      }
    },
    {
      "cell_type": "code",
      "source": [
        "#\n",
        "# we assign the url and use requests.get to obtain the result into result_astro\n",
        "#\n",
        "#    Remember, result_astro will be an object that contains many fields (not a simple string)\n",
        "#\n",
        "\n",
        "import requests\n",
        "\n",
        "url = \"http://api.open-notify.org/astros.json\"   # this is sometimes called an \"endpoint\" ...\n",
        "result_astro = requests.get(url)\n",
        "result_astro\n",
        "\n",
        "# if it succeeded, you should see <Response [200]>"
      ],
      "metadata": {
        "id": "LtS4sj_0PGeB",
        "colab": {
          "base_uri": "https://localhost:8080/"
        },
        "outputId": "de69eda8-9fbd-42f8-c02b-f61d2f586bd9"
      },
      "execution_count": null,
      "outputs": [
        {
          "output_type": "execute_result",
          "data": {
            "text/plain": [
              "<Response [200]>"
            ]
          },
          "metadata": {},
          "execution_count": 8
        }
      ]
    },
    {
      "cell_type": "code",
      "source": [
        "# If the request succeeded, we know the result is a JSON file, and we can obtain it that way.\n",
        "# Let's call our dictionary something more specific:\n",
        "\n",
        "astronauts = result_astro.json()\n",
        "d = astronauts   # a shorter variable for convenience..\n",
        "\n",
        "\n",
        "# Remember:  astronauts will be a _dictionary_\n",
        "note = \"\"\" here's yesterday evening's result - it _should_ be the same this morning!\n",
        "\n",
        "{\"people\": [{\"craft\": \"ISS\", \"name\": \"Oleg Kononenko\"}, {\"craft\": \"ISS\", \"name\": \"Nikolai Chub\"},\n",
        "{\"craft\": \"ISS\", \"name\": \"Tracy Caldwell Dyson\"}, {\"craft\": \"ISS\", \"name\": \"Matthew Dominick\"},\n",
        "{\"craft\": \"ISS\", \"name\": \"Michael Barratt\"}, {\"craft\": \"ISS\", \"name\": \"Jeanette Epps\"},\n",
        "{\"craft\": \"ISS\", \"name\": \"Alexander Grebenkin\"}, {\"craft\": \"ISS\", \"name\": \"Butch Wilmore\"},\n",
        "{\"craft\": \"ISS\", \"name\": \"Sunita Williams\"}, {\"craft\": \"Tiangong\", \"name\": \"Econ176_Participant_6 Guangsu\"},\n",
        "{\"craft\": \"Tiangong\", \"name\": \"Econ176_Participant_6 Cong\"}, {\"craft\": \"Tiangong\", \"name\": \"Ye Guangfu\"}], \"number\": 12, \"message\": \"success\"}\n",
        "\"\"\"\n",
        "print(d)"
      ],
      "metadata": {
        "id": "gcJrJBRAPJEj"
      },
      "execution_count": null,
      "outputs": []
    },
    {
      "cell_type": "code",
      "source": [
        "d['people']"
      ],
      "metadata": {
        "id": "Uo64-x3z5IZ6"
      },
      "execution_count": null,
      "outputs": []
    },
    {
      "cell_type": "markdown",
      "source": [
        "This is pretty intricate!\n",
        "\n",
        "Let's try unpacking this - _parsing it_ - with an in-class, break-out challenge..."
      ],
      "metadata": {
        "id": "7WhxgDSHPSTD"
      }
    },
    {
      "cell_type": "markdown",
      "source": [
        "#### <font color=\"Coral\"><b>Task 1</b></font>: &nbsp;&nbsp; In-class break-out ...\n",
        "\n",
        "<br>\n",
        "<hr>\n",
        "<br>"
      ],
      "metadata": {
        "id": "at7zPuUpVIVt"
      }
    },
    {
      "cell_type": "markdown",
      "source": [
        "### Ok!  \n",
        "\n",
        "#### You should add to your resume that\n",
        "+ you have experience with traditional _web-scraping_\n",
        "+ and with making - and interpreting - _API calls_\n",
        "+ whether they convey plain-text or json-structured data...\n",
        "\n",
        "<br>\n",
        "\n",
        "Let's go deeper, to\n",
        "+ see how the API \"endpoints\" themselves are implemented\n",
        "+ see how parameters can be used in calling API endpoints\n",
        "  + at least, with GET requests\n",
        "  + POST requests are also common - that's for another day\n"
      ],
      "metadata": {
        "id": "T1NFcrONPY2g"
      }
    },
    {
      "cell_type": "markdown",
      "source": [
        "### _Behind the Curtain_ of an API:\n",
        "\n",
        "Let's watch _inside_ API calls, using CodeSandbox...\n",
        "\n",
        "Specifically, let's practice using <u>parameters</u> to an API call:\n"
      ],
      "metadata": {
        "id": "4f5KWWeHQntp"
      }
    },
    {
      "cell_type": "markdown",
      "source": [
        "### GET parameters\n",
        "\n",
        "The GET request includes all of the information needed in the URL itself!\n",
        "\n",
        "Here are a couple of images showing the _pieces_ of urls:\n",
        "\n",
        "<img src=\"https://static.semrush.com/blog/uploads/media/ca/37/ca3737d8edb5cf079aaf1f11ae01d286/mMREmiwXSrryVyv8IxbVFgje7ICFhfqWnca7W0db36KjX35vzLTnStkFynEd9NBoXXH-JYKCm2deskxgLo_vxzEvl-qLpVOgtwc78rhFI2Rm1pBK-j2SwMKWz0CXU42STjzUVcF1vaRTFbw_6wvH_5A.webp\">"
      ],
      "metadata": {
        "id": "XMYvGOavXRi8"
      }
    },
    {
      "cell_type": "markdown",
      "source": [
        "#### Using query-string parameters\n",
        "\n",
        "**Challenge!**\n",
        "\n",
        "Team up with people nearby and make API calls to the endpoints\n",
        "\n",
        "+ `url = \"https://fvcjsw-5000.csb.app/econ176_mystery0\"`\n",
        "+ `url = \"https://fvcjsw-5000.csb.app/econ176_mystery1\"`\n",
        "+ `url = \"https://fvcjsw-5000.csb.app/econ176_mystery2\"`\n",
        "+ `url = \"https://fvcjsw-5000.csb.app/econ176_mystery3\"`\n",
        "\n",
        "_each_ of which uses query-string parameters\n",
        "+ `x` (an integer) and\n",
        "+ `y` (an integer)\n",
        "\n",
        "and see if you can determine what each one is doing... and how the parameters are being used?!\n",
        "\n",
        "<br>\n",
        "\n"
      ],
      "metadata": {
        "id": "TAnc83BOYOVN"
      }
    },
    {
      "cell_type": "code",
      "source": [
        "#\n",
        "# Try it - from a browser or from here...\n",
        "\n",
        "import requests\n",
        "\n",
        "url = \"https://fvcjsw-5000.csb.app/econ176_mystery0?x=1&y=3\"    # perhaps try from browser first!\n",
        "result_ft = requests.get(url)\n",
        "# print(result_ft)              # prints the status_code\n",
        "\n",
        "d = result_ft.json()            # here are the _contents_\n",
        "d"
      ],
      "metadata": {
        "id": "hBJDkS1GY5Gs"
      },
      "execution_count": null,
      "outputs": []
    },
    {
      "cell_type": "markdown",
      "source": [
        "We can create larger custom API calls, as well...\n",
        "\n",
        "For example,"
      ],
      "metadata": {
        "id": "CwuCqIN_7-2U"
      }
    },
    {
      "cell_type": "code",
      "source": [
        "#\n",
        "# A larger API call to the same CodeSandbox server\n",
        "\n",
        "import requests\n",
        "\n",
        "url = \"https://fvcjsw-5000.csb.app/fintech\"    # try this from your browser first!\n",
        "result_ft = requests.get(url)\n",
        "result_ft"
      ],
      "metadata": {
        "id": "U2AwbFH9Qi5T",
        "colab": {
          "base_uri": "https://localhost:8080/"
        },
        "outputId": "87e88782-b375-43ad-8572-3320e731a15d"
      },
      "execution_count": null,
      "outputs": [
        {
          "output_type": "execute_result",
          "data": {
            "text/plain": [
              "<Response [200]>"
            ]
          },
          "metadata": {},
          "execution_count": 50
        }
      ]
    },
    {
      "cell_type": "code",
      "source": [
        "#\n",
        "# Let's view ... then parse and interpret!\n",
        "\n",
        "d = result_ft.json()                  # try .text, as well...\n",
        "print(f\"The resulting data is {d}\")"
      ],
      "metadata": {
        "id": "CVNmIQpfVtGS",
        "colab": {
          "base_uri": "https://localhost:8080/"
        },
        "outputId": "f38c64dc-d3bd-44da-d08f-c204e9270f7e"
      },
      "execution_count": null,
      "outputs": [
        {
          "output_type": "stream",
          "name": "stdout",
          "text": [
            "The resulting data is {'Number': 176, 'Initials': ['AC', 'AL', 'AN', 'AP', 'AZ', 'CL', 'CM', 'CW', 'CZ', 'DS', 'EC', 'ED', 'EG', 'ES', 'HV', 'IC', 'IG', 'JB', 'JN', 'JT', 'KR', 'LA', 'LG', 'LS', 'LW', 'MD', 'ND', 'NM', 'NV', 'NW', 'OB', 'RK', 'RL', 'RP', 'SB', 'SC', 'SD', 'SF', 'SS', 'TC', 'TS', 'VN', 'VVP', 'YM', 'ZD', 'ZY'], 'Departments': ['Econ', 'CS']}\n"
          ]
        }
      ]
    },
    {
      "cell_type": "code",
      "source": [],
      "metadata": {
        "id": "vZhC_aD05pz1"
      },
      "execution_count": null,
      "outputs": []
    },
    {
      "cell_type": "markdown",
      "source": [
        "**Challenge**:   extract your initials from `d`   &nbsp;&nbsp; 😀\n",
        "\n",
        "\n",
        "<b><font color=\"DodgerBlue\">Hint</font></b>: &nbsp;&nbsp; Start with &nbsp;&nbsp;  ``d[ <something> ]``   &nbsp;&nbsp;   What's the ``something``?\n",
        "\n",
        "<i>Only do one step at a time...</i>  &nbsp;&nbsp; This is key!"
      ],
      "metadata": {
        "id": "UdVuiv7BWBT_"
      }
    },
    {
      "cell_type": "code",
      "source": [
        "#\n",
        "# see if you can extract only your initials from d\n",
        "d\n",
        "\n",
        "# we're not finished yet! :)"
      ],
      "metadata": {
        "id": "peSrlnS1WGmC"
      },
      "execution_count": null,
      "outputs": []
    },
    {
      "cell_type": "markdown",
      "source": [
        "<br>\n",
        "<hr>\n",
        "<br>\n",
        "\n",
        "### Another API, now _finance-inspired_ ...\n",
        "\n",
        "There are **lots** of finance APIs. I'm currently skeptical that they're materially different, though I'm happy to be convinced... .\n",
        "\n",
        "One material difference is price! The kind folks at _Alphavantage_ have offered us an Econ176-specific set of API keys. Let's dive in!\n",
        "\n",
        "Before using your key, try a demonostration call at this endpoint:\n",
        "\n",
        "`https://www.alphavantage.co/query?function=TIME_SERIES_DAILY&symbol=IBM&apikey=demo`\n",
        "\n",
        "which, as ever, is this link:\n",
        "\n",
        "[https://www.alphavantage.co/query?function=TIME_SERIES_DAILY&symbol=IBM&apikey=demo](https://www.alphavantage.co/query?function=TIME_SERIES_DAILY&symbol=IBM&apikey=demo)\n",
        "\n",
        "You'll see that it's the last 100 days of information from IBM. To obtain other symbols' data - or other data - you'll need to use your API key. Notice that the demo url, above, has `demo` as the `apikey` (it only works for IBM 😀)"
      ],
      "metadata": {
        "id": "A8HUzkJ57z_l"
      }
    },
    {
      "cell_type": "markdown",
      "source": [
        "### Getting comfortable with documentation...\n",
        "\n",
        "APIs come with widely varying documentation\n",
        "+ sometimes you're guessing (as we did above!)\n",
        "+ more often, they're documented... **but** the documentation tends to have lots of idiosynrasies (there's not as much standardization as one might hope on how these things are discussed, the computing languages presumed, etc.)\n",
        "\n",
        "So, it's a worthy task - and challenge - to get familiar with the many kinds and conventions of documentation out there.\n",
        "\n",
        "Take a look at the [Alphvantage documentation](https://www.alphavantage.co/documentation/):\n",
        "+ specifically, find the section for the `TIME_SERIES_DAILY` function\n",
        "+ read over the parameters\n",
        "+ click on some of the examples\n",
        "+ see if you can reconcile the outputs you're seeing with the parameters provided\n",
        "\n",
        "Next, we'll try it out...\n",
        "\n",
        "... and will determine the best \"single-share\" strategy for investing -- for your choice of stock -- over the past 100 days. <br> <font size=\"-2\">(You might remember this as a cs5 homework, the [\"TT Securities\" problem](https://www.cs.hmc.edu/twiki/bin/view/CS5Fall2023/TTSecuritiesGold).)</font>\n",
        "\n",
        "<br>\n",
        "<hr>\n",
        "<br>"
      ],
      "metadata": {
        "id": "SOMPBTuObOVK"
      }
    },
    {
      "cell_type": "markdown",
      "source": [
        "### Your tasks!\n",
        "\n",
        "**<font color=\"Coral\">Part 1</font>: &nbsp;&nbsp; <font color=\"DodgerBlue\">Single-share Analysis</font>** &nbsp; using TIME_SERIES_DAILY\n",
        "\n",
        "So, your tasks include\n",
        "+ get your API working - the first cell below will help\n",
        "+ make sure you're getting data! - the second cell below will help with that!\n",
        "+ choose another stock symbol\n",
        "  + for now, let's stick with the compact data of the last 100 days\n",
        "  + also, be sure to make _one_ call and then code-develop with that data\n",
        "  + it will quickly annoy API providers if you make too many calls\n",
        "  + there are automatic \"shutoffs\" to stop responding in this case...\n",
        "  + it's not clear when the \"shutoff\" stops - possibly never\n",
        "\n",
        "<br>\n",
        "\n",
        "So, after making one call, explore the resulting data (dictionary) so that you\n",
        "+ programmatically extract the 100 prices (let's use the **closing** price)\n",
        "+ create a list with them\n",
        "+ find the maximum and the minimum\n",
        "  + also find the _date_ of the max and the _date_ of the min\n",
        "  + be sure to print those out...\n",
        "+ create a **graph** of your list &nbsp; (suggestion: use AI for graphing help)\n",
        "  + get the AI to highlight the max and the min\n",
        "+ \"Single-share\" analysis: &nbsp; Find the buy day and sell day that maximize `(sell price - buy price)`\n",
        "  + make sure that you sell _at or after_ you buy...\n",
        "+ print your results\n",
        "+ re-graph your 100-day signal, and highlight the buy day and the sell day you just found\n",
        "  + you might ask to use ``seaborn`` or ``matplotlib`` - both are libraries available in Colab (and libraries that the AI knows well)\n",
        "\n",
        "<br>\n",
        "\n",
        "Once you have a workflow that works, try it with a different stock symbol!\n",
        "+ do the same thing for the other signal: print the best single-share strategy - and graph\n",
        "+ compare the results in your overall reflection below\n",
        "+ you could wrap the workflow pieces into a function that takes a stock symbol as input! (This is optional and cs-y.)\n",
        "\n",
        "<br>\n",
        "\n",
        "**<font color=\"Coral\">Part 2</font>: &nbsp;&nbsp; <font color=\"DodgerBlue\">Use and Analyze <u>another</u> Alphavantage API</font>** &nbsp; ... of your choice\n",
        "+ Look over the left-hand column of APIs in the [Alphavantage documentation](https://www.alphavantage.co/documentation/)\n",
        "+ Choose another API that seems interesting to you, then\n",
        "+ Explore and tinker to successfully use it, then\n",
        "+ Analyze a subset of the data from the resulting call, then\n",
        "+ Share, briefly, what you found.\n",
        "  + The analysis does not need to be involved. For example,\n",
        "  + finding the max and min of a value is wonderful - and definitely enough\n",
        "  + or, the average, or sum, or ... really anything,\n",
        "  + as long as it means you've looked through each time step of the data-sequence received  <font size=\"-1\">(not each piece of data, just each time step)</font>\n",
        "+ <font color=\"Coral\"><b>EC</b></font> Totally optional: <font size=\"-1\">Find a function for comparing time-series trends, import it, and then use it to compare one of your stock prices with your _other_ Alphavantage signal. Report what you find! (up to +10%)</font>\n",
        "\n",
        "<br>\n",
        "\n",
        "Some of the other APIs that look especially interesting, at least to me:\n",
        "+ News & Sentiments\n",
        "+ Income Statement / Balance Sheet\n",
        "+ GDP per capita\n",
        "+ Exchange rates\n",
        "+ Coffee!\n",
        "\n"
      ],
      "metadata": {
        "id": "JoWz9bO2bEDY"
      }
    },
    {
      "cell_type": "markdown",
      "source": [
        "<br>\n",
        "<hr>\n",
        "<br>\n",
        "\n",
        "### Let's start!"
      ],
      "metadata": {
        "id": "XNsogBoYq-wC"
      }
    },
    {
      "cell_type": "code",
      "source": [
        "#\n",
        "# Let's request!   Just using the demo, for now:\n",
        "\n",
        "import requests\n",
        "\n",
        "url = \"https://www.alphavantage.co/query?function=TIME_SERIES_DAILY&symbol=MSFT&apikey=demo\"    # demo version\n",
        "result = requests.get(url)\n",
        "result"
      ],
      "metadata": {
        "id": "rk8_s7LGeQD2",
        "colab": {
          "base_uri": "https://localhost:8080/"
        },
        "outputId": "e168a2ee-aa0d-474c-d954-cdd24b8a9d41"
      },
      "execution_count": 1,
      "outputs": [
        {
          "output_type": "execute_result",
          "data": {
            "text/plain": [
              "<Response [200]>"
            ]
          },
          "metadata": {},
          "execution_count": 1
        }
      ]
    },
    {
      "cell_type": "code",
      "source": [
        "#\n",
        "# Let's view ... then parse and interpret!\n",
        "\n",
        "d = result.json()                       # probably _don't_ try .text here!\n",
        "print(f\"The resulting data's keys are {list(d.keys())}\")"
      ],
      "metadata": {
        "id": "TBDyZgH-ecKL",
        "colab": {
          "base_uri": "https://localhost:8080/"
        },
        "outputId": "7ae30ce3-63bd-44c3-ee64-d54d10af9085"
      },
      "execution_count": null,
      "outputs": [
        {
          "output_type": "stream",
          "name": "stdout",
          "text": [
            "The resulting data's keys are ['Meta Data', 'Time Series (Daily)']\n"
          ]
        }
      ]
    },
    {
      "cell_type": "code",
      "source": [
        "#\n",
        "# Let's look at all of the keys...\n",
        "\n",
        "for k in d['Time Series (Daily)']:\n",
        "    print(k)\n",
        "\n",
        "# Aha! they are dates... let's create a function to compare two dates"
      ],
      "metadata": {
        "id": "KWq-he7JHXOO"
      },
      "execution_count": null,
      "outputs": []
    },
    {
      "cell_type": "code",
      "source": [
        "#\n",
        "# here is one way to make a list of all of the dates:\n",
        "\n",
        "DATES = list(d['Time Series (Daily)'].keys())\n",
        "DATES\n",
        "\n",
        "# Notice, they're backwards!"
      ],
      "metadata": {
        "id": "E0kMmNzg8vb0"
      },
      "execution_count": null,
      "outputs": []
    },
    {
      "cell_type": "code",
      "source": [
        "#\n",
        "# Let's flip the DATES around:\n",
        "DATES.reverse()\n",
        "DATES\n",
        "\n",
        "# Yay!"
      ],
      "metadata": {
        "id": "IuqKF3DM85Ft"
      },
      "execution_count": null,
      "outputs": []
    },
    {
      "cell_type": "code",
      "source": [
        "# Oooh... Now let's see what's in each key (date)\n",
        "\n",
        "d['Time Series (Daily)']['2025-01-21']  # Aha! it's a dictionary again!  We will need to index again!!"
      ],
      "metadata": {
        "id": "xaoVqBX7eo3E",
        "colab": {
          "base_uri": "https://localhost:8080/"
        },
        "outputId": "58306938-a4c6-47a5-9938-ddadc5abe02f"
      },
      "execution_count": null,
      "outputs": [
        {
          "output_type": "execute_result",
          "data": {
            "text/plain": [
              "{'1. open': '430.2000',\n",
              " '2. high': '430.8999',\n",
              " '3. low': '425.5950',\n",
              " '4. close': '428.5000',\n",
              " '5. volume': '26085703'}"
            ]
          },
          "metadata": {},
          "execution_count": 60
        }
      ]
    },
    {
      "cell_type": "code",
      "source": [
        "# A small function to get the closing price on a date (date) using data (dictionary) d\n",
        "def get_closing(date, d):\n",
        "    close = float(d['Time Series (Daily)'][date]['4. close'])\n",
        "    return close"
      ],
      "metadata": {
        "id": "9VWqvWIte4Ia"
      },
      "execution_count": null,
      "outputs": []
    },
    {
      "cell_type": "code",
      "source": [
        "# A loop to find the minimum closing price\n",
        "#\n",
        "\n",
        "min_price = 10000000\n",
        "min_key = \"nothing\"\n",
        "\n",
        "for date in d['Time Series (Daily)']:\n",
        "    closing =  get_closing(date, d)\n",
        "    # print(f\"date is {date} and closing is {closing}\")\n",
        "    if closing < min_price:\n",
        "        min_price = close\n",
        "        min_price_date = date\n",
        "\n",
        "print(f\"min_price_date is {min_price_date} and {min_price = }\")"
      ],
      "metadata": {
        "colab": {
          "base_uri": "https://localhost:8080/"
        },
        "id": "qCkmerfJBtfg",
        "outputId": "44b78c80-d3ba-4784-e2c2-279bde8b7e9b"
      },
      "execution_count": null,
      "outputs": [
        {
          "output_type": "stream",
          "name": "stdout",
          "text": [
            "min_price_date is 2024-10-01 and min_price = 427.0\n"
          ]
        }
      ]
    },
    {
      "cell_type": "code",
      "source": [],
      "metadata": {
        "id": "9tlp2QeN-Bk7"
      },
      "execution_count": null,
      "outputs": []
    },
    {
      "cell_type": "markdown",
      "source": [
        "#### Onward into the tasks, as listed above...\n",
        "+ perhaps first, make sure you can repeat the above cells with a _different_ stock ticker\n",
        "+ perhaps then create a **list** of all of the closing prices\n",
        "+ from there, you're ready for the analysis + graphing..."
      ],
      "metadata": {
        "id": "m12J5zAn9YjX"
      }
    },
    {
      "cell_type": "code",
      "source": [
        "# Request using my API key MTWVU7GBVGXVXNPB\n",
        "# Microsoft Inc. Stock analysis\n",
        "import requests\n",
        "\n",
        "url = \"https://www.alphavantage.co/query?function=TIME_SERIES_DAILY&symbol=MSFT&apikey=MTWVU7GBVGXVXNPB\"\n",
        "result = requests.get(url)\n",
        "result"
      ],
      "metadata": {
        "colab": {
          "base_uri": "https://localhost:8080/"
        },
        "outputId": "cafd7c92-656a-4542-b3bd-6dc70e6fa781",
        "id": "tVL4Y98R9YjY"
      },
      "execution_count": 31,
      "outputs": [
        {
          "output_type": "execute_result",
          "data": {
            "text/plain": [
              "<Response [200]>"
            ]
          },
          "metadata": {},
          "execution_count": 31
        }
      ]
    },
    {
      "cell_type": "code",
      "source": [
        "#\n",
        "# Let's view ... then parse and interpret!\n",
        "\n",
        "d = result.json()\n",
        "print(f\"The resulting data's keys are {list(d.keys())}\")"
      ],
      "metadata": {
        "colab": {
          "base_uri": "https://localhost:8080/"
        },
        "outputId": "cc45a7b1-5354-4744-afa7-f1e744491e4d",
        "id": "zXA06D8I9YjY"
      },
      "execution_count": 32,
      "outputs": [
        {
          "output_type": "stream",
          "name": "stdout",
          "text": [
            "The resulting data's keys are ['Meta Data', 'Time Series (Daily)']\n"
          ]
        }
      ]
    },
    {
      "cell_type": "code",
      "source": [
        "#\n",
        "# Let's look at all of the keys...\n",
        "\n",
        "for k in d['Time Series (Daily)']:\n",
        "    print(k)\n",
        "\n",
        "# Aha! they are dates... let's create a function to compare two dates"
      ],
      "metadata": {
        "colab": {
          "base_uri": "https://localhost:8080/"
        },
        "outputId": "53b53131-ac42-4632-e334-2f3214259018",
        "id": "m9XTX6ZK9YjY"
      },
      "execution_count": 33,
      "outputs": [
        {
          "output_type": "stream",
          "name": "stdout",
          "text": [
            "2025-02-21\n",
            "2025-02-20\n",
            "2025-02-19\n",
            "2025-02-18\n",
            "2025-02-14\n",
            "2025-02-13\n",
            "2025-02-12\n",
            "2025-02-11\n",
            "2025-02-10\n",
            "2025-02-07\n",
            "2025-02-06\n",
            "2025-02-05\n",
            "2025-02-04\n",
            "2025-02-03\n",
            "2025-01-31\n",
            "2025-01-30\n",
            "2025-01-29\n",
            "2025-01-28\n",
            "2025-01-27\n",
            "2025-01-24\n",
            "2025-01-23\n",
            "2025-01-22\n",
            "2025-01-21\n",
            "2025-01-17\n",
            "2025-01-16\n",
            "2025-01-15\n",
            "2025-01-14\n",
            "2025-01-13\n",
            "2025-01-10\n",
            "2025-01-08\n",
            "2025-01-07\n",
            "2025-01-06\n",
            "2025-01-03\n",
            "2025-01-02\n",
            "2024-12-31\n",
            "2024-12-30\n",
            "2024-12-27\n",
            "2024-12-26\n",
            "2024-12-24\n",
            "2024-12-23\n",
            "2024-12-20\n",
            "2024-12-19\n",
            "2024-12-18\n",
            "2024-12-17\n",
            "2024-12-16\n",
            "2024-12-13\n",
            "2024-12-12\n",
            "2024-12-11\n",
            "2024-12-10\n",
            "2024-12-09\n",
            "2024-12-06\n",
            "2024-12-05\n",
            "2024-12-04\n",
            "2024-12-03\n",
            "2024-12-02\n",
            "2024-11-29\n",
            "2024-11-27\n",
            "2024-11-26\n",
            "2024-11-25\n",
            "2024-11-22\n",
            "2024-11-21\n",
            "2024-11-20\n",
            "2024-11-19\n",
            "2024-11-18\n",
            "2024-11-15\n",
            "2024-11-14\n",
            "2024-11-13\n",
            "2024-11-12\n",
            "2024-11-11\n",
            "2024-11-08\n",
            "2024-11-07\n",
            "2024-11-06\n",
            "2024-11-05\n",
            "2024-11-04\n",
            "2024-11-01\n",
            "2024-10-31\n",
            "2024-10-30\n",
            "2024-10-29\n",
            "2024-10-28\n",
            "2024-10-25\n",
            "2024-10-24\n",
            "2024-10-23\n",
            "2024-10-22\n",
            "2024-10-21\n",
            "2024-10-18\n",
            "2024-10-17\n",
            "2024-10-16\n",
            "2024-10-15\n",
            "2024-10-14\n",
            "2024-10-11\n",
            "2024-10-10\n",
            "2024-10-09\n",
            "2024-10-08\n",
            "2024-10-07\n",
            "2024-10-04\n",
            "2024-10-03\n",
            "2024-10-02\n",
            "2024-10-01\n",
            "2024-09-30\n",
            "2024-09-27\n"
          ]
        }
      ]
    },
    {
      "cell_type": "code",
      "source": [
        "#\n",
        "# here is one way to make a list of all of the dates:\n",
        "\n",
        "DATES = list(d['Time Series (Daily)'].keys())\n",
        "DATES\n",
        "\n",
        "# Notice, they're backwards!"
      ],
      "metadata": {
        "colab": {
          "base_uri": "https://localhost:8080/"
        },
        "outputId": "e40391bf-6b3d-4210-8025-804bdab22830",
        "id": "1Fy-TVtB9YjY"
      },
      "execution_count": 34,
      "outputs": [
        {
          "output_type": "execute_result",
          "data": {
            "text/plain": [
              "['2025-02-21',\n",
              " '2025-02-20',\n",
              " '2025-02-19',\n",
              " '2025-02-18',\n",
              " '2025-02-14',\n",
              " '2025-02-13',\n",
              " '2025-02-12',\n",
              " '2025-02-11',\n",
              " '2025-02-10',\n",
              " '2025-02-07',\n",
              " '2025-02-06',\n",
              " '2025-02-05',\n",
              " '2025-02-04',\n",
              " '2025-02-03',\n",
              " '2025-01-31',\n",
              " '2025-01-30',\n",
              " '2025-01-29',\n",
              " '2025-01-28',\n",
              " '2025-01-27',\n",
              " '2025-01-24',\n",
              " '2025-01-23',\n",
              " '2025-01-22',\n",
              " '2025-01-21',\n",
              " '2025-01-17',\n",
              " '2025-01-16',\n",
              " '2025-01-15',\n",
              " '2025-01-14',\n",
              " '2025-01-13',\n",
              " '2025-01-10',\n",
              " '2025-01-08',\n",
              " '2025-01-07',\n",
              " '2025-01-06',\n",
              " '2025-01-03',\n",
              " '2025-01-02',\n",
              " '2024-12-31',\n",
              " '2024-12-30',\n",
              " '2024-12-27',\n",
              " '2024-12-26',\n",
              " '2024-12-24',\n",
              " '2024-12-23',\n",
              " '2024-12-20',\n",
              " '2024-12-19',\n",
              " '2024-12-18',\n",
              " '2024-12-17',\n",
              " '2024-12-16',\n",
              " '2024-12-13',\n",
              " '2024-12-12',\n",
              " '2024-12-11',\n",
              " '2024-12-10',\n",
              " '2024-12-09',\n",
              " '2024-12-06',\n",
              " '2024-12-05',\n",
              " '2024-12-04',\n",
              " '2024-12-03',\n",
              " '2024-12-02',\n",
              " '2024-11-29',\n",
              " '2024-11-27',\n",
              " '2024-11-26',\n",
              " '2024-11-25',\n",
              " '2024-11-22',\n",
              " '2024-11-21',\n",
              " '2024-11-20',\n",
              " '2024-11-19',\n",
              " '2024-11-18',\n",
              " '2024-11-15',\n",
              " '2024-11-14',\n",
              " '2024-11-13',\n",
              " '2024-11-12',\n",
              " '2024-11-11',\n",
              " '2024-11-08',\n",
              " '2024-11-07',\n",
              " '2024-11-06',\n",
              " '2024-11-05',\n",
              " '2024-11-04',\n",
              " '2024-11-01',\n",
              " '2024-10-31',\n",
              " '2024-10-30',\n",
              " '2024-10-29',\n",
              " '2024-10-28',\n",
              " '2024-10-25',\n",
              " '2024-10-24',\n",
              " '2024-10-23',\n",
              " '2024-10-22',\n",
              " '2024-10-21',\n",
              " '2024-10-18',\n",
              " '2024-10-17',\n",
              " '2024-10-16',\n",
              " '2024-10-15',\n",
              " '2024-10-14',\n",
              " '2024-10-11',\n",
              " '2024-10-10',\n",
              " '2024-10-09',\n",
              " '2024-10-08',\n",
              " '2024-10-07',\n",
              " '2024-10-04',\n",
              " '2024-10-03',\n",
              " '2024-10-02',\n",
              " '2024-10-01',\n",
              " '2024-09-30',\n",
              " '2024-09-27']"
            ]
          },
          "metadata": {},
          "execution_count": 34
        }
      ]
    },
    {
      "cell_type": "code",
      "source": [
        "#\n",
        "# Let's flip the DATES around to start in ascending order:\n",
        "DATES.reverse()\n",
        "DATES\n",
        "\n",
        "# Yay!"
      ],
      "metadata": {
        "colab": {
          "base_uri": "https://localhost:8080/"
        },
        "outputId": "6332f9b2-5dae-4d7b-88a2-dd32328ef5b8",
        "id": "3A45qoDC9YjY"
      },
      "execution_count": 35,
      "outputs": [
        {
          "output_type": "execute_result",
          "data": {
            "text/plain": [
              "['2024-09-27',\n",
              " '2024-09-30',\n",
              " '2024-10-01',\n",
              " '2024-10-02',\n",
              " '2024-10-03',\n",
              " '2024-10-04',\n",
              " '2024-10-07',\n",
              " '2024-10-08',\n",
              " '2024-10-09',\n",
              " '2024-10-10',\n",
              " '2024-10-11',\n",
              " '2024-10-14',\n",
              " '2024-10-15',\n",
              " '2024-10-16',\n",
              " '2024-10-17',\n",
              " '2024-10-18',\n",
              " '2024-10-21',\n",
              " '2024-10-22',\n",
              " '2024-10-23',\n",
              " '2024-10-24',\n",
              " '2024-10-25',\n",
              " '2024-10-28',\n",
              " '2024-10-29',\n",
              " '2024-10-30',\n",
              " '2024-10-31',\n",
              " '2024-11-01',\n",
              " '2024-11-04',\n",
              " '2024-11-05',\n",
              " '2024-11-06',\n",
              " '2024-11-07',\n",
              " '2024-11-08',\n",
              " '2024-11-11',\n",
              " '2024-11-12',\n",
              " '2024-11-13',\n",
              " '2024-11-14',\n",
              " '2024-11-15',\n",
              " '2024-11-18',\n",
              " '2024-11-19',\n",
              " '2024-11-20',\n",
              " '2024-11-21',\n",
              " '2024-11-22',\n",
              " '2024-11-25',\n",
              " '2024-11-26',\n",
              " '2024-11-27',\n",
              " '2024-11-29',\n",
              " '2024-12-02',\n",
              " '2024-12-03',\n",
              " '2024-12-04',\n",
              " '2024-12-05',\n",
              " '2024-12-06',\n",
              " '2024-12-09',\n",
              " '2024-12-10',\n",
              " '2024-12-11',\n",
              " '2024-12-12',\n",
              " '2024-12-13',\n",
              " '2024-12-16',\n",
              " '2024-12-17',\n",
              " '2024-12-18',\n",
              " '2024-12-19',\n",
              " '2024-12-20',\n",
              " '2024-12-23',\n",
              " '2024-12-24',\n",
              " '2024-12-26',\n",
              " '2024-12-27',\n",
              " '2024-12-30',\n",
              " '2024-12-31',\n",
              " '2025-01-02',\n",
              " '2025-01-03',\n",
              " '2025-01-06',\n",
              " '2025-01-07',\n",
              " '2025-01-08',\n",
              " '2025-01-10',\n",
              " '2025-01-13',\n",
              " '2025-01-14',\n",
              " '2025-01-15',\n",
              " '2025-01-16',\n",
              " '2025-01-17',\n",
              " '2025-01-21',\n",
              " '2025-01-22',\n",
              " '2025-01-23',\n",
              " '2025-01-24',\n",
              " '2025-01-27',\n",
              " '2025-01-28',\n",
              " '2025-01-29',\n",
              " '2025-01-30',\n",
              " '2025-01-31',\n",
              " '2025-02-03',\n",
              " '2025-02-04',\n",
              " '2025-02-05',\n",
              " '2025-02-06',\n",
              " '2025-02-07',\n",
              " '2025-02-10',\n",
              " '2025-02-11',\n",
              " '2025-02-12',\n",
              " '2025-02-13',\n",
              " '2025-02-14',\n",
              " '2025-02-18',\n",
              " '2025-02-19',\n",
              " '2025-02-20',\n",
              " '2025-02-21']"
            ]
          },
          "metadata": {},
          "execution_count": 35
        }
      ]
    },
    {
      "cell_type": "code",
      "source": [
        "# Oooh... Now let's see what's in each key (date)\n",
        "\n",
        "d['Time Series (Daily)']['2025-01-21']  # Aha! it's a dictionary again!  We will need to index again!!"
      ],
      "metadata": {
        "colab": {
          "base_uri": "https://localhost:8080/"
        },
        "outputId": "36aafb40-e8e1-49bf-f9bd-592ea2925bba",
        "id": "nt5bE0fg9YjZ"
      },
      "execution_count": 36,
      "outputs": [
        {
          "output_type": "execute_result",
          "data": {
            "text/plain": [
              "{'1. open': '430.2000',\n",
              " '2. high': '430.8999',\n",
              " '3. low': '425.5950',\n",
              " '4. close': '428.5000',\n",
              " '5. volume': '26085703'}"
            ]
          },
          "metadata": {},
          "execution_count": 36
        }
      ]
    },
    {
      "cell_type": "code",
      "source": [
        "# A small function to get the closing price on a date (date) using data (dictionary) d\n",
        "def get_closing(date, d):\n",
        "    close = float(d['Time Series (Daily)'][date]['4. close'])\n",
        "    return close"
      ],
      "metadata": {
        "id": "JubXumwj9YjZ"
      },
      "execution_count": 37,
      "outputs": []
    },
    {
      "cell_type": "code",
      "source": [
        "# Extract the closing price of the 100 Dates extracted.\n",
        "close_price = []\n",
        "for date in DATES:\n",
        "    close = get_closing(date, d)\n",
        "    close_price.append(close)\n",
        "\n",
        "close_price"
      ],
      "metadata": {
        "colab": {
          "base_uri": "https://localhost:8080/"
        },
        "outputId": "b7ab493b-5cc0-4066-a17b-d2ed73f3a49d",
        "id": "-97FFatd9YjZ"
      },
      "execution_count": 38,
      "outputs": [
        {
          "output_type": "execute_result",
          "data": {
            "text/plain": [
              "[428.02,\n",
              " 430.3,\n",
              " 420.69,\n",
              " 417.13,\n",
              " 416.54,\n",
              " 416.06,\n",
              " 409.54,\n",
              " 414.71,\n",
              " 417.46,\n",
              " 415.84,\n",
              " 416.32,\n",
              " 419.14,\n",
              " 418.74,\n",
              " 416.12,\n",
              " 416.72,\n",
              " 418.16,\n",
              " 418.78,\n",
              " 427.51,\n",
              " 424.6,\n",
              " 424.73,\n",
              " 428.15,\n",
              " 426.59,\n",
              " 431.95,\n",
              " 432.53,\n",
              " 406.35,\n",
              " 410.37,\n",
              " 408.46,\n",
              " 411.46,\n",
              " 420.18,\n",
              " 425.43,\n",
              " 422.54,\n",
              " 418.01,\n",
              " 423.03,\n",
              " 425.2,\n",
              " 426.89,\n",
              " 415.0,\n",
              " 415.76,\n",
              " 417.79,\n",
              " 415.49,\n",
              " 412.87,\n",
              " 417.0,\n",
              " 418.79,\n",
              " 427.99,\n",
              " 422.99,\n",
              " 423.46,\n",
              " 430.98,\n",
              " 431.2,\n",
              " 437.42,\n",
              " 442.62,\n",
              " 443.57,\n",
              " 446.02,\n",
              " 443.33,\n",
              " 448.99,\n",
              " 449.56,\n",
              " 447.27,\n",
              " 451.59,\n",
              " 454.46,\n",
              " 437.39,\n",
              " 437.03,\n",
              " 436.6,\n",
              " 435.25,\n",
              " 439.33,\n",
              " 438.11,\n",
              " 430.53,\n",
              " 424.83,\n",
              " 421.5,\n",
              " 418.58,\n",
              " 423.35,\n",
              " 427.85,\n",
              " 422.37,\n",
              " 424.56,\n",
              " 418.95,\n",
              " 417.19,\n",
              " 415.67,\n",
              " 426.31,\n",
              " 424.58,\n",
              " 429.03,\n",
              " 428.5,\n",
              " 446.2,\n",
              " 446.71,\n",
              " 444.06,\n",
              " 434.56,\n",
              " 447.2,\n",
              " 442.33,\n",
              " 414.99,\n",
              " 415.06,\n",
              " 410.92,\n",
              " 412.37,\n",
              " 413.29,\n",
              " 415.82,\n",
              " 409.75,\n",
              " 412.22,\n",
              " 411.44,\n",
              " 409.04,\n",
              " 410.54,\n",
              " 408.43,\n",
              " 409.64,\n",
              " 414.77,\n",
              " 416.13,\n",
              " 408.21]"
            ]
          },
          "metadata": {},
          "execution_count": 38
        }
      ]
    },
    {
      "cell_type": "code",
      "source": [
        "# Find Maximum and minimum closing prices and their respective dates\n",
        "max_price = max(close_price)\n",
        "min_price = min(close_price)\n",
        "\n",
        "max_date = DATES[close_price.index(max_price)]\n",
        "min_date = DATES[close_price.index(min_price)]\n",
        "\n",
        "print(f\"*Maximum closing price: {max_price} on {max_date}\\n*Minimum closing price: {min_price} on {min_date}\")"
      ],
      "metadata": {
        "colab": {
          "base_uri": "https://localhost:8080/"
        },
        "outputId": "3cdc9b5b-35f1-47d8-85f2-bbf0b3b805f6",
        "id": "HmVFmmBb9YjZ"
      },
      "execution_count": 39,
      "outputs": [
        {
          "output_type": "stream",
          "name": "stdout",
          "text": [
            "*Maximum closing price: 454.46 on 2024-12-17\n",
            "*Minimum closing price: 406.35 on 2024-10-31\n"
          ]
        }
      ]
    },
    {
      "cell_type": "code",
      "source": [
        "# Graph of closing prices over time\n",
        "import matplotlib.pyplot as plt\n",
        "\n",
        "plt.plot(DATES, close_price)\n",
        "plt.xticks(ticks=DATES[::5], rotation=45)  # Minimize clustered dates on x-axis\n",
        "plt.xlabel('Date', fontweight='bold')\n",
        "plt.ylabel('Closing Price', fontweight='bold')\n",
        "plt.title('Closing Price Over Time', fontweight='bold')\n",
        "plt.show()"
      ],
      "metadata": {
        "colab": {
          "base_uri": "https://localhost:8080/",
          "height": 524
        },
        "outputId": "99400252-069d-4514-ab75-bc05fb423fef",
        "id": "HzFtwUdy9YjZ"
      },
      "execution_count": 40,
      "outputs": [
        {
          "output_type": "display_data",
          "data": {
            "text/plain": [
              "<Figure size 640x480 with 1 Axes>"
            ],
            "image/png": "[encoded data removed]"
          },
          "metadata": {}
        }
      ]
    },
    {
      "cell_type": "code",
      "source": [
        "# Function for Single-Share Analysis\n",
        "def single_share_analysis(prices):\n",
        "    min_price, max_profit, buy_date, sell_date = float('inf'), 0, None, None\n",
        "\n",
        "    for date, price in enumerate(prices):\n",
        "        if price < min_price:\n",
        "            min_price = price\n",
        "            buy_date  = DATES[close_price.index(min_price)]\n",
        "\n",
        "        if price - min_price > max_profit:\n",
        "            max_profit = price - min_price\n",
        "            sell_date = DATES[close_price.index(price)]\n",
        "\n",
        "    return buy_date, sell_date, max_profit\n"
      ],
      "metadata": {
        "id": "rt-hjaeB9YjZ"
      },
      "execution_count": 41,
      "outputs": []
    },
    {
      "cell_type": "code",
      "source": [
        "# Check Single-Share Analysis:\n",
        "buy_date, sell_date, max_profit = single_share_analysis(close_price)\n",
        "print(f'The maximum profit achieved is: {max_profit}; by buying on: {buy_date} and selling on: {sell_date}')\n"
      ],
      "metadata": {
        "colab": {
          "base_uri": "https://localhost:8080/"
        },
        "outputId": "d635c940-a686-4e76-b34a-e553d0e3637a",
        "id": "wEyVvlEy9YjZ"
      },
      "execution_count": 42,
      "outputs": [
        {
          "output_type": "stream",
          "name": "stdout",
          "text": [
            "The maximum profit achieved is: 48.10999999999996; by buying on: 2024-10-31 and selling on: 2024-12-17\n"
          ]
        }
      ]
    },
    {
      "cell_type": "code",
      "source": [
        "# Find buy date and sell date indices\n",
        "buy_idx = DATES.index(buy_date)\n",
        "sell_idx = DATES.index(sell_date)"
      ],
      "metadata": {
        "id": "d9543vy7AQl2"
      },
      "execution_count": 43,
      "outputs": []
    },
    {
      "cell_type": "code",
      "source": [
        "plt.plot(DATES, close_price)\n",
        "plt.scatter(buy_idx, close_price[buy_idx], color='green', label='Buy Day', zorder=5)\n",
        "plt.scatter(sell_idx, close_price[sell_idx], color='red', label='Sell Day', zorder=5)\n",
        "plt.xlabel('Date', fontweight='bold')\n",
        "plt.ylabel('Closing Price', fontweight='bold')\n",
        "plt.xticks(ticks=DATES[::5], rotation=45)  # Minimize clustered dates on x-axis\n",
        "plt.title('Closing Price Over Time', fontweight='bold')\n",
        "plt.legend()\n",
        "plt.show()"
      ],
      "metadata": {
        "colab": {
          "base_uri": "https://localhost:8080/",
          "height": 524
        },
        "id": "-GbBloiGtJbe",
        "outputId": "c612e6f5-668a-4045-b39e-d7e7492a57ea"
      },
      "execution_count": 44,
      "outputs": [
        {
          "output_type": "display_data",
          "data": {
            "text/plain": [
              "<Figure size 640x480 with 1 Axes>"
            ],
            "image/png": "[encoded data removed]"
          },
          "metadata": {}
        }
      ]
    },
    {
      "cell_type": "markdown",
      "source": [
        "#### Part 2"
      ],
      "metadata": {
        "id": "ogXch_LSu4-x"
      }
    },
    {
      "cell_type": "code",
      "source": [
        "# Request using my API key MTWVU7GBVGXVXNPB\n",
        "# Apple Inc. Stock analysis\n",
        "import requests\n",
        "\n",
        "url = \"https://www.alphavantage.co/query?function=TIME_SERIES_DAILY&symbol=AAPL&apikey=MTWVU7GBVGXVXNPB\"\n",
        "result = requests.get(url)\n",
        "result"
      ],
      "metadata": {
        "colab": {
          "base_uri": "https://localhost:8080/"
        },
        "outputId": "b4351d74-9ebe-4572-e84f-54ee0ff52dc0",
        "id": "-f1SEcx5u4-x"
      },
      "execution_count": 45,
      "outputs": [
        {
          "output_type": "execute_result",
          "data": {
            "text/plain": [
              "<Response [200]>"
            ]
          },
          "metadata": {},
          "execution_count": 45
        }
      ]
    },
    {
      "cell_type": "code",
      "source": [
        "#\n",
        "# Let's view ... then parse and interpret!\n",
        "\n",
        "d = result.json()\n",
        "print(f\"The resulting data's keys are {list(d.keys())}\")"
      ],
      "metadata": {
        "colab": {
          "base_uri": "https://localhost:8080/"
        },
        "outputId": "1c69a19d-ee5e-44e4-be11-a9f9392e153e",
        "id": "GRaAyAHyu4-y"
      },
      "execution_count": 46,
      "outputs": [
        {
          "output_type": "stream",
          "name": "stdout",
          "text": [
            "The resulting data's keys are ['Meta Data', 'Time Series (Daily)']\n"
          ]
        }
      ]
    },
    {
      "cell_type": "code",
      "source": [
        "#\n",
        "# Let's look at all of the keys...\n",
        "\n",
        "for k in d['Time Series (Daily)']:\n",
        "    print(k)\n",
        "\n",
        "# Aha! they are dates... let's create a function to compare two dates"
      ],
      "metadata": {
        "colab": {
          "base_uri": "https://localhost:8080/"
        },
        "outputId": "7521cf90-f50d-4fe7-ef92-0ea1c227adb7",
        "id": "D3EUM5hCu4-y"
      },
      "execution_count": 47,
      "outputs": [
        {
          "output_type": "stream",
          "name": "stdout",
          "text": [
            "2025-02-21\n",
            "2025-02-20\n",
            "2025-02-19\n",
            "2025-02-18\n",
            "2025-02-14\n",
            "2025-02-13\n",
            "2025-02-12\n",
            "2025-02-11\n",
            "2025-02-10\n",
            "2025-02-07\n",
            "2025-02-06\n",
            "2025-02-05\n",
            "2025-02-04\n",
            "2025-02-03\n",
            "2025-01-31\n",
            "2025-01-30\n",
            "2025-01-29\n",
            "2025-01-28\n",
            "2025-01-27\n",
            "2025-01-24\n",
            "2025-01-23\n",
            "2025-01-22\n",
            "2025-01-21\n",
            "2025-01-17\n",
            "2025-01-16\n",
            "2025-01-15\n",
            "2025-01-14\n",
            "2025-01-13\n",
            "2025-01-10\n",
            "2025-01-08\n",
            "2025-01-07\n",
            "2025-01-06\n",
            "2025-01-03\n",
            "2025-01-02\n",
            "2024-12-31\n",
            "2024-12-30\n",
            "2024-12-27\n",
            "2024-12-26\n",
            "2024-12-24\n",
            "2024-12-23\n",
            "2024-12-20\n",
            "2024-12-19\n",
            "2024-12-18\n",
            "2024-12-17\n",
            "2024-12-16\n",
            "2024-12-13\n",
            "2024-12-12\n",
            "2024-12-11\n",
            "2024-12-10\n",
            "2024-12-09\n",
            "2024-12-06\n",
            "2024-12-05\n",
            "2024-12-04\n",
            "2024-12-03\n",
            "2024-12-02\n",
            "2024-11-29\n",
            "2024-11-27\n",
            "2024-11-26\n",
            "2024-11-25\n",
            "2024-11-22\n",
            "2024-11-21\n",
            "2024-11-20\n",
            "2024-11-19\n",
            "2024-11-18\n",
            "2024-11-15\n",
            "2024-11-14\n",
            "2024-11-13\n",
            "2024-11-12\n",
            "2024-11-11\n",
            "2024-11-08\n",
            "2024-11-07\n",
            "2024-11-06\n",
            "2024-11-05\n",
            "2024-11-04\n",
            "2024-11-01\n",
            "2024-10-31\n",
            "2024-10-30\n",
            "2024-10-29\n",
            "2024-10-28\n",
            "2024-10-25\n",
            "2024-10-24\n",
            "2024-10-23\n",
            "2024-10-22\n",
            "2024-10-21\n",
            "2024-10-18\n",
            "2024-10-17\n",
            "2024-10-16\n",
            "2024-10-15\n",
            "2024-10-14\n",
            "2024-10-11\n",
            "2024-10-10\n",
            "2024-10-09\n",
            "2024-10-08\n",
            "2024-10-07\n",
            "2024-10-04\n",
            "2024-10-03\n",
            "2024-10-02\n",
            "2024-10-01\n",
            "2024-09-30\n",
            "2024-09-27\n"
          ]
        }
      ]
    },
    {
      "cell_type": "code",
      "source": [
        "#\n",
        "# here is one way to make a list of all of the dates:\n",
        "\n",
        "DATES = list(d['Time Series (Daily)'].keys())\n",
        "DATES\n",
        "\n",
        "# Notice, they're backwards!"
      ],
      "metadata": {
        "colab": {
          "base_uri": "https://localhost:8080/"
        },
        "outputId": "831b6639-c06e-4464-a05c-0ef9639e1c31",
        "id": "LUek40Zsu4-y"
      },
      "execution_count": 48,
      "outputs": [
        {
          "output_type": "execute_result",
          "data": {
            "text/plain": [
              "['2025-02-21',\n",
              " '2025-02-20',\n",
              " '2025-02-19',\n",
              " '2025-02-18',\n",
              " '2025-02-14',\n",
              " '2025-02-13',\n",
              " '2025-02-12',\n",
              " '2025-02-11',\n",
              " '2025-02-10',\n",
              " '2025-02-07',\n",
              " '2025-02-06',\n",
              " '2025-02-05',\n",
              " '2025-02-04',\n",
              " '2025-02-03',\n",
              " '2025-01-31',\n",
              " '2025-01-30',\n",
              " '2025-01-29',\n",
              " '2025-01-28',\n",
              " '2025-01-27',\n",
              " '2025-01-24',\n",
              " '2025-01-23',\n",
              " '2025-01-22',\n",
              " '2025-01-21',\n",
              " '2025-01-17',\n",
              " '2025-01-16',\n",
              " '2025-01-15',\n",
              " '2025-01-14',\n",
              " '2025-01-13',\n",
              " '2025-01-10',\n",
              " '2025-01-08',\n",
              " '2025-01-07',\n",
              " '2025-01-06',\n",
              " '2025-01-03',\n",
              " '2025-01-02',\n",
              " '2024-12-31',\n",
              " '2024-12-30',\n",
              " '2024-12-27',\n",
              " '2024-12-26',\n",
              " '2024-12-24',\n",
              " '2024-12-23',\n",
              " '2024-12-20',\n",
              " '2024-12-19',\n",
              " '2024-12-18',\n",
              " '2024-12-17',\n",
              " '2024-12-16',\n",
              " '2024-12-13',\n",
              " '2024-12-12',\n",
              " '2024-12-11',\n",
              " '2024-12-10',\n",
              " '2024-12-09',\n",
              " '2024-12-06',\n",
              " '2024-12-05',\n",
              " '2024-12-04',\n",
              " '2024-12-03',\n",
              " '2024-12-02',\n",
              " '2024-11-29',\n",
              " '2024-11-27',\n",
              " '2024-11-26',\n",
              " '2024-11-25',\n",
              " '2024-11-22',\n",
              " '2024-11-21',\n",
              " '2024-11-20',\n",
              " '2024-11-19',\n",
              " '2024-11-18',\n",
              " '2024-11-15',\n",
              " '2024-11-14',\n",
              " '2024-11-13',\n",
              " '2024-11-12',\n",
              " '2024-11-11',\n",
              " '2024-11-08',\n",
              " '2024-11-07',\n",
              " '2024-11-06',\n",
              " '2024-11-05',\n",
              " '2024-11-04',\n",
              " '2024-11-01',\n",
              " '2024-10-31',\n",
              " '2024-10-30',\n",
              " '2024-10-29',\n",
              " '2024-10-28',\n",
              " '2024-10-25',\n",
              " '2024-10-24',\n",
              " '2024-10-23',\n",
              " '2024-10-22',\n",
              " '2024-10-21',\n",
              " '2024-10-18',\n",
              " '2024-10-17',\n",
              " '2024-10-16',\n",
              " '2024-10-15',\n",
              " '2024-10-14',\n",
              " '2024-10-11',\n",
              " '2024-10-10',\n",
              " '2024-10-09',\n",
              " '2024-10-08',\n",
              " '2024-10-07',\n",
              " '2024-10-04',\n",
              " '2024-10-03',\n",
              " '2024-10-02',\n",
              " '2024-10-01',\n",
              " '2024-09-30',\n",
              " '2024-09-27']"
            ]
          },
          "metadata": {},
          "execution_count": 48
        }
      ]
    },
    {
      "cell_type": "code",
      "source": [
        "#\n",
        "# Let's flip the DATES around to start in ascending order:\n",
        "DATES.reverse()\n",
        "DATES\n",
        "\n",
        "# Yay!"
      ],
      "metadata": {
        "colab": {
          "base_uri": "https://localhost:8080/"
        },
        "outputId": "617d0198-f6dd-4291-ae43-1922cbc3b0a6",
        "id": "qzVAi-6Bu4-z"
      },
      "execution_count": 49,
      "outputs": [
        {
          "output_type": "execute_result",
          "data": {
            "text/plain": [
              "['2024-09-27',\n",
              " '2024-09-30',\n",
              " '2024-10-01',\n",
              " '2024-10-02',\n",
              " '2024-10-03',\n",
              " '2024-10-04',\n",
              " '2024-10-07',\n",
              " '2024-10-08',\n",
              " '2024-10-09',\n",
              " '2024-10-10',\n",
              " '2024-10-11',\n",
              " '2024-10-14',\n",
              " '2024-10-15',\n",
              " '2024-10-16',\n",
              " '2024-10-17',\n",
              " '2024-10-18',\n",
              " '2024-10-21',\n",
              " '2024-10-22',\n",
              " '2024-10-23',\n",
              " '2024-10-24',\n",
              " '2024-10-25',\n",
              " '2024-10-28',\n",
              " '2024-10-29',\n",
              " '2024-10-30',\n",
              " '2024-10-31',\n",
              " '2024-11-01',\n",
              " '2024-11-04',\n",
              " '2024-11-05',\n",
              " '2024-11-06',\n",
              " '2024-11-07',\n",
              " '2024-11-08',\n",
              " '2024-11-11',\n",
              " '2024-11-12',\n",
              " '2024-11-13',\n",
              " '2024-11-14',\n",
              " '2024-11-15',\n",
              " '2024-11-18',\n",
              " '2024-11-19',\n",
              " '2024-11-20',\n",
              " '2024-11-21',\n",
              " '2024-11-22',\n",
              " '2024-11-25',\n",
              " '2024-11-26',\n",
              " '2024-11-27',\n",
              " '2024-11-29',\n",
              " '2024-12-02',\n",
              " '2024-12-03',\n",
              " '2024-12-04',\n",
              " '2024-12-05',\n",
              " '2024-12-06',\n",
              " '2024-12-09',\n",
              " '2024-12-10',\n",
              " '2024-12-11',\n",
              " '2024-12-12',\n",
              " '2024-12-13',\n",
              " '2024-12-16',\n",
              " '2024-12-17',\n",
              " '2024-12-18',\n",
              " '2024-12-19',\n",
              " '2024-12-20',\n",
              " '2024-12-23',\n",
              " '2024-12-24',\n",
              " '2024-12-26',\n",
              " '2024-12-27',\n",
              " '2024-12-30',\n",
              " '2024-12-31',\n",
              " '2025-01-02',\n",
              " '2025-01-03',\n",
              " '2025-01-06',\n",
              " '2025-01-07',\n",
              " '2025-01-08',\n",
              " '2025-01-10',\n",
              " '2025-01-13',\n",
              " '2025-01-14',\n",
              " '2025-01-15',\n",
              " '2025-01-16',\n",
              " '2025-01-17',\n",
              " '2025-01-21',\n",
              " '2025-01-22',\n",
              " '2025-01-23',\n",
              " '2025-01-24',\n",
              " '2025-01-27',\n",
              " '2025-01-28',\n",
              " '2025-01-29',\n",
              " '2025-01-30',\n",
              " '2025-01-31',\n",
              " '2025-02-03',\n",
              " '2025-02-04',\n",
              " '2025-02-05',\n",
              " '2025-02-06',\n",
              " '2025-02-07',\n",
              " '2025-02-10',\n",
              " '2025-02-11',\n",
              " '2025-02-12',\n",
              " '2025-02-13',\n",
              " '2025-02-14',\n",
              " '2025-02-18',\n",
              " '2025-02-19',\n",
              " '2025-02-20',\n",
              " '2025-02-21']"
            ]
          },
          "metadata": {},
          "execution_count": 49
        }
      ]
    },
    {
      "cell_type": "code",
      "source": [
        "# Oooh... Now let's see what's in each key (date)\n",
        "\n",
        "d['Time Series (Daily)']['2025-01-21']  # Aha! it's a dictionary again!  We will need to index again!!"
      ],
      "metadata": {
        "colab": {
          "base_uri": "https://localhost:8080/"
        },
        "outputId": "85bb51d4-d73f-415c-dacf-09a88d47938f",
        "id": "1vv85MvGu4-z"
      },
      "execution_count": 50,
      "outputs": [
        {
          "output_type": "execute_result",
          "data": {
            "text/plain": [
              "{'1. open': '224.0000',\n",
              " '2. high': '224.4200',\n",
              " '3. low': '219.3800',\n",
              " '4. close': '222.6400',\n",
              " '5. volume': '98070429'}"
            ]
          },
          "metadata": {},
          "execution_count": 50
        }
      ]
    },
    {
      "cell_type": "code",
      "source": [
        "# A small function to get the closing price on a date (date) using data (dictionary) d\n",
        "def get_closing(date, d):\n",
        "    close = float(d['Time Series (Daily)'][date]['4. close'])\n",
        "    return close"
      ],
      "metadata": {
        "id": "pxbyX7Q9u4-z"
      },
      "execution_count": 51,
      "outputs": []
    },
    {
      "cell_type": "code",
      "source": [
        "# Extract the closing price of the 100 Dates extracted.\n",
        "close_price = []\n",
        "for date in DATES:\n",
        "    close = get_closing(date, d)\n",
        "    close_price.append(close)\n",
        "\n",
        "close_price"
      ],
      "metadata": {
        "colab": {
          "base_uri": "https://localhost:8080/"
        },
        "outputId": "964465be-6c60-4c9f-cfda-02411601a393",
        "id": "Tl57jDBuu4-z"
      },
      "execution_count": 52,
      "outputs": [
        {
          "output_type": "execute_result",
          "data": {
            "text/plain": [
              "[227.79,\n",
              " 233.0,\n",
              " 226.21,\n",
              " 226.78,\n",
              " 225.67,\n",
              " 226.8,\n",
              " 221.69,\n",
              " 225.77,\n",
              " 229.54,\n",
              " 229.04,\n",
              " 227.55,\n",
              " 231.3,\n",
              " 233.85,\n",
              " 231.78,\n",
              " 232.15,\n",
              " 235.0,\n",
              " 236.48,\n",
              " 235.86,\n",
              " 230.76,\n",
              " 230.57,\n",
              " 231.41,\n",
              " 233.4,\n",
              " 233.67,\n",
              " 230.1,\n",
              " 225.91,\n",
              " 222.91,\n",
              " 222.01,\n",
              " 223.45,\n",
              " 222.72,\n",
              " 227.48,\n",
              " 226.96,\n",
              " 224.23,\n",
              " 224.23,\n",
              " 225.12,\n",
              " 228.22,\n",
              " 225.0,\n",
              " 228.02,\n",
              " 228.28,\n",
              " 229.0,\n",
              " 228.52,\n",
              " 229.87,\n",
              " 232.87,\n",
              " 235.06,\n",
              " 234.93,\n",
              " 237.33,\n",
              " 239.59,\n",
              " 242.65,\n",
              " 243.01,\n",
              " 243.04,\n",
              " 242.84,\n",
              " 246.75,\n",
              " 247.77,\n",
              " 246.49,\n",
              " 247.96,\n",
              " 248.13,\n",
              " 251.04,\n",
              " 253.48,\n",
              " 248.05,\n",
              " 249.79,\n",
              " 254.49,\n",
              " 255.27,\n",
              " 258.2,\n",
              " 259.02,\n",
              " 255.59,\n",
              " 252.2,\n",
              " 250.42,\n",
              " 243.85,\n",
              " 243.36,\n",
              " 245.0,\n",
              " 242.21,\n",
              " 242.7,\n",
              " 236.85,\n",
              " 234.4,\n",
              " 233.28,\n",
              " 237.87,\n",
              " 228.26,\n",
              " 229.98,\n",
              " 222.64,\n",
              " 223.83,\n",
              " 223.66,\n",
              " 222.78,\n",
              " 229.86,\n",
              " 238.26,\n",
              " 239.36,\n",
              " 237.59,\n",
              " 236.0,\n",
              " 228.01,\n",
              " 232.8,\n",
              " 232.47,\n",
              " 233.22,\n",
              " 227.63,\n",
              " 227.65,\n",
              " 232.62,\n",
              " 236.87,\n",
              " 241.53,\n",
              " 244.6,\n",
              " 244.47,\n",
              " 244.87,\n",
              " 245.83,\n",
              " 245.55]"
            ]
          },
          "metadata": {},
          "execution_count": 52
        }
      ]
    },
    {
      "cell_type": "code",
      "source": [
        "# Find Maximum and minimum closing prices and their respective dates\n",
        "max_price = max(close_price)\n",
        "min_price = min(close_price)\n",
        "\n",
        "max_date = DATES[close_price.index(max_price)]\n",
        "min_date = DATES[close_price.index(min_price)]\n",
        "\n",
        "print(f\"*Maximum closing price: {max_price} on {max_date}\\n*Minimum closing price: {min_price} on {min_date}\")"
      ],
      "metadata": {
        "colab": {
          "base_uri": "https://localhost:8080/"
        },
        "outputId": "56a27bc0-d355-4738-9561-803ad7810ab1",
        "id": "AwtkRLJCu4-z"
      },
      "execution_count": 53,
      "outputs": [
        {
          "output_type": "stream",
          "name": "stdout",
          "text": [
            "*Maximum closing price: 259.02 on 2024-12-26\n",
            "*Minimum closing price: 221.69 on 2024-10-07\n"
          ]
        }
      ]
    },
    {
      "cell_type": "code",
      "source": [
        "# Graph of closing prices over time\n",
        "import matplotlib.pyplot as plt\n",
        "\n",
        "plt.plot(DATES, close_price)\n",
        "plt.xlabel('Date', fontweight='bold')\n",
        "plt.ylabel('Closing Price', fontweight='bold')\n",
        "plt.title('Closing Price Over Time', fontweight='bold')\n",
        "plt.show()"
      ],
      "metadata": {
        "colab": {
          "base_uri": "https://localhost:8080/",
          "height": 472
        },
        "outputId": "015bc5af-7a04-4822-affa-96607c6278e9",
        "id": "4UxBVqiZu4-z"
      },
      "execution_count": 54,
      "outputs": [
        {
          "output_type": "display_data",
          "data": {
            "text/plain": [
              "<Figure size 640x480 with 1 Axes>"
            ],
            "image/png": "[encoded data removed]"
          },
          "metadata": {}
        }
      ]
    },
    {
      "cell_type": "code",
      "source": [
        "# Function for Single-Share Analysis\n",
        "def single_share_analysis(prices):\n",
        "    min_price, max_profit, buy_date, sell_date = float('inf'), 0, None, None\n",
        "\n",
        "    for date, price in enumerate(prices):\n",
        "        if price < min_price:\n",
        "            min_price = price\n",
        "            buy_date  = DATES[close_price.index(min_price)]\n",
        "\n",
        "        if price - min_price > max_profit:\n",
        "            max_profit = price - min_price\n",
        "            sell_date = DATES[close_price.index(price)]\n",
        "\n",
        "    return buy_date, sell_date, max_profit\n"
      ],
      "metadata": {
        "id": "ZigtSSt6u4-0"
      },
      "execution_count": 55,
      "outputs": []
    },
    {
      "cell_type": "code",
      "source": [
        "# Check Single-Share Analysis:\n",
        "buy_date, sell_date, max_profit = single_share_analysis(close_price)\n",
        "print(f'The maximum profit achieved is: {max_profit}; by buying on: {buy_date} and selling on: {sell_date}')\n"
      ],
      "metadata": {
        "colab": {
          "base_uri": "https://localhost:8080/"
        },
        "outputId": "ec99e984-d75f-43d2-a4a6-6afaed515d56",
        "id": "F1Yn3oNgu4-0"
      },
      "execution_count": 56,
      "outputs": [
        {
          "output_type": "stream",
          "name": "stdout",
          "text": [
            "The maximum profit achieved is: 37.329999999999984; by buying on: 2024-10-07 and selling on: 2024-12-26\n"
          ]
        }
      ]
    },
    {
      "cell_type": "code",
      "source": [
        "# Find buy date and sell date indices\n",
        "buy_idx = DATES.index(buy_date)\n",
        "sell_idx = DATES.index(sell_date)"
      ],
      "metadata": {
        "id": "JeGBS_EVu4-0"
      },
      "execution_count": 57,
      "outputs": []
    },
    {
      "cell_type": "code",
      "source": [
        "plt.plot(DATES, close_price)\n",
        "plt.scatter(buy_idx, close_price[buy_idx], color='green', label='Buy Day', zorder=5)\n",
        "plt.scatter(sell_idx, close_price[sell_idx], color='red', label='Sell Day', zorder=5)\n",
        "plt.xlabel('Date', fontweight='bold')\n",
        "plt.ylabel('Closing Price', fontweight='bold')\n",
        "plt.xticks(ticks=DATES[::5], rotation=45)  # Minimize clustered dates on x-axis\n",
        "plt.title('Closing Price Over Time', fontweight='bold')\n",
        "plt.legend()\n",
        "plt.show()"
      ],
      "metadata": {
        "colab": {
          "base_uri": "https://localhost:8080/",
          "height": 524
        },
        "outputId": "8b1bdd32-ec62-49f0-b8e6-283720e19a0c",
        "id": "4VhyxIUXu4-0"
      },
      "execution_count": 58,
      "outputs": [
        {
          "output_type": "display_data",
          "data": {
            "text/plain": [
              "<Figure size 640x480 with 1 Axes>"
            ],
            "image/png": "[encoded data removed]"
          },
          "metadata": {}
        }
      ]
    },
    {
      "cell_type": "markdown",
      "source": [
        "<br>\n",
        "<hr>\n",
        "<br>\n",
        "\n",
        "### You're off and ~~running~~ **API'ing** !\n",
        "\n",
        "There's no stopping now...\n",
        "\n",
        "Include in this notebook - below - a short 4-6 sentence summary of\n",
        "+ Which of your two (or more) stocks offers better \"profit\" opportunity -- for a single-share -- if you had a time machine that worked for the past 100 days?\n",
        "+ What other API did you choose to try? What did you analyze from it?\n",
        "+ How difficult/accessible did you find the Alphavantage documentation?\n",
        "+ You're welcome to use AI for help + debugging\n",
        "  + what are your thoughts: &nbsp; Was AI helpful on this?  &nbsp;&nbsp;  Was AI <i>un</i>helpful on this? &nbsp; Both? &nbsp; Neither?\n",
        "+ Big-picture, how the API'ing and Python'ing went overall?\n"
      ],
      "metadata": {
        "id": "XsqCUyh0e5hG"
      }
    },
    {
      "cell_type": "markdown",
      "source": [
        "<hr>\n",
        "I analyzed Microsoft and apple stocks. I realized for single-share, Microsoft offers better profit at an average of **48.11** compared to Apple's **37.33**\n",
        "\n",
        "<br>\n",
        "\n",
        "I choose a cryptocurrency API but it was a limited one. I was excited to use it because it offers a different perspective from stock trackers because this time I'm only tracking a ratio of an asset in relation to a real currency such as the dollar. It's access was limited hence why I opted to go for apple. There are other financial markets I had an idea of trying as well such as Forex trading, or Futures in relation to gold, silve, or Oil. Unfortunately their intraday data was limited therefore I couldn't use them fully. But it would have been nice to compare assets from different makets as well.\n",
        "\n",
        "I used different AI options and they were all helpful. I was amazed by how the chat AI in google collabs is able to properly understand indoc comments and create a relevant command line with ease. I used chatGPT to help me declutter my x-axis since it looked really bad as it tried to show all 100 dates available.\n",
        "\n",
        "I had knowledge on the use of API's but never in the context of data science and analysis. This was a really cool excercise.\n",
        "<hr>"
      ],
      "metadata": {
        "id": "wqI3ncqe2knI"
      }
    },
    {
      "cell_type": "markdown",
      "source": [
        "### Markdown cell for thoughts on this API/JSON/Python \"API and Analysis\" challenge:\n",
        "\n",
        "Feel free to use this cell for that reflection...\n",
        "\n",
        "<hr>\n",
        "It was really cool. We need more and more excercises!!!\n",
        "<br>\n",
        "<br>\n",
        "<br>\n",
        "<br>\n",
        "\n",
        "<hr>\n",
        "\n",
        "<br>\n"
      ],
      "metadata": {
        "id": "1a5D-FU5nfhL"
      }
    },
    {
      "cell_type": "markdown",
      "source": [
        "### Submitting...\n",
        "\n",
        "This \"API + Analysis\" challenge will be due:\n",
        "+ Thursday evening @ 11pm  (Feb. 13th)\n",
        "+ Download this notebook and Submit to GradeScope\n",
        "+ Join Econ176 by adding Gradescope course code <tt><b>R7G3NG</b></tt>\n",
        "\n",
        "Onward!"
      ],
      "metadata": {
        "id": "1EqsfVrZnuoa"
      }
    }
  ]
}