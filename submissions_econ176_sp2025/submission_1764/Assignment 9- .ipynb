{
  "nbformat": 4,
  "nbformat_minor": 0,
  "metadata": {
    "colab": {
      "provenance": []
    },
    "kernelspec": {
      "name": "python3",
      "display_name": "Python 3"
    },
    "language_info": {
      "name": "python"
    }
  },
  "cells": [
    {
      "cell_type": "markdown",
      "source": [
        "# Welcome to Web3!\n",
        "\n",
        "### Blockchain programming using Ethereum and Web3.py\n",
        "\n",
        "<font size=\"-1\">motivated by <a href=\"https://snakecharmers.ethereum.org/a-developers-guide-to-ethereum-pt-1/\">A Developer's Guide to Ethereum</a> by M. Garreau</font>\n",
        "\n",
        "<br>\n",
        "\n",
        "***Be sure to make your own copy of this starter notebook***"
      ],
      "metadata": {
        "id": "f_2pfxIg1q3r"
      }
    },
    {
      "cell_type": "code",
      "source": [
        "# This will update Colab's libraries\n",
        "#      and will avoid several DeprecationWarnings in the future...\n",
        "\n",
        "import warnings\n",
        "warnings.filterwarnings(\"ignore\", category=ImportWarning, append=True)\n",
        "warnings.filterwarnings(\"ignore\", category=DeprecationWarning, append=True)\n",
        "\n",
        "# these may need to be repeated, and the append parameter seems suspiciously unintuitive (i.e., not-working)\n",
        "# this may not be needed\n",
        "# !pip install --upgrade ipykernel"
      ],
      "metadata": {
        "id": "uIfZST05VwzD"
      },
      "execution_count": null,
      "outputs": []
    },
    {
      "cell_type": "code",
      "source": [
        "!pip install web3"
      ],
      "metadata": {
        "id": "snu1lb5E1nnl",
        "collapsed": true,
        "colab": {
          "base_uri": "https://localhost:8080/"
        },
        "outputId": "eb988c68-c237-4542-aa99-9fad58300765"
      },
      "execution_count": null,
      "outputs": [
        {
          "output_type": "stream",
          "name": "stdout",
          "text": [
            "Collecting web3\n",
            "  Downloading web3-7.11.0-py3-none-any.whl.metadata (5.6 kB)\n",
            "Collecting eth-abi>=5.0.1 (from web3)\n",
            "  Downloading eth_abi-5.2.0-py3-none-any.whl.metadata (3.8 kB)\n",
            "Collecting eth-account>=0.13.6 (from web3)\n",
            "  Downloading eth_account-0.13.7-py3-none-any.whl.metadata (3.7 kB)\n",
            "Collecting eth-hash>=0.5.1 (from eth-hash[pycryptodome]>=0.5.1->web3)\n",
            "  Downloading eth_hash-0.7.1-py3-none-any.whl.metadata (4.2 kB)\n",
            "Collecting eth-typing>=5.0.0 (from web3)\n",
            "  Downloading eth_typing-5.2.1-py3-none-any.whl.metadata (3.2 kB)\n",
            "Collecting eth-utils>=5.0.0 (from web3)\n",
            "  Downloading eth_utils-5.3.0-py3-none-any.whl.metadata (5.7 kB)\n",
            "Collecting hexbytes>=1.2.0 (from web3)\n",
            "  Downloading hexbytes-1.3.0-py3-none-any.whl.metadata (3.3 kB)\n",
            "Requirement already satisfied: aiohttp>=3.7.4.post0 in /usr/local/lib/python3.11/dist-packages (from web3) (3.11.15)\n",
            "Requirement already satisfied: pydantic>=2.4.0 in /usr/local/lib/python3.11/dist-packages (from web3) (2.11.3)\n",
            "Requirement already satisfied: requests>=2.23.0 in /usr/local/lib/python3.11/dist-packages (from web3) (2.32.3)\n",
            "Requirement already satisfied: typing-extensions>=4.0.1 in /usr/local/lib/python3.11/dist-packages (from web3) (4.13.2)\n",
            "Collecting types-requests>=2.0.0 (from web3)\n",
            "  Downloading types_requests-2.32.0.20250328-py3-none-any.whl.metadata (2.3 kB)\n",
            "Requirement already satisfied: websockets<16.0.0,>=10.0.0 in /usr/local/lib/python3.11/dist-packages (from web3) (15.0.1)\n",
            "Collecting pyunormalize>=15.0.0 (from web3)\n",
            "  Downloading pyunormalize-16.0.0-py3-none-any.whl.metadata (4.0 kB)\n",
            "Requirement already satisfied: aiohappyeyeballs>=2.3.0 in /usr/local/lib/python3.11/dist-packages (from aiohttp>=3.7.4.post0->web3) (2.6.1)\n",
            "Requirement already satisfied: aiosignal>=1.1.2 in /usr/local/lib/python3.11/dist-packages (from aiohttp>=3.7.4.post0->web3) (1.3.2)\n",
            "Requirement already satisfied: attrs>=17.3.0 in /usr/local/lib/python3.11/dist-packages (from aiohttp>=3.7.4.post0->web3) (25.3.0)\n",
            "Requirement already satisfied: frozenlist>=1.1.1 in /usr/local/lib/python3.11/dist-packages (from aiohttp>=3.7.4.post0->web3) (1.6.0)\n",
            "Requirement already satisfied: multidict<7.0,>=4.5 in /usr/local/lib/python3.11/dist-packages (from aiohttp>=3.7.4.post0->web3) (6.4.3)\n",
            "Requirement already satisfied: propcache>=0.2.0 in /usr/local/lib/python3.11/dist-packages (from aiohttp>=3.7.4.post0->web3) (0.3.1)\n",
            "Requirement already satisfied: yarl<2.0,>=1.17.0 in /usr/local/lib/python3.11/dist-packages (from aiohttp>=3.7.4.post0->web3) (1.20.0)\n",
            "Collecting parsimonious<0.11.0,>=0.10.0 (from eth-abi>=5.0.1->web3)\n",
            "  Downloading parsimonious-0.10.0-py3-none-any.whl.metadata (25 kB)\n",
            "Collecting bitarray>=2.4.0 (from eth-account>=0.13.6->web3)\n",
            "  Downloading bitarray-3.3.2-cp311-cp311-manylinux_2_17_x86_64.manylinux2014_x86_64.whl.metadata (33 kB)\n",
            "Collecting eth-keyfile<0.9.0,>=0.7.0 (from eth-account>=0.13.6->web3)\n",
            "  Downloading eth_keyfile-0.8.1-py3-none-any.whl.metadata (8.5 kB)\n",
            "Collecting eth-keys>=0.4.0 (from eth-account>=0.13.6->web3)\n",
            "  Downloading eth_keys-0.7.0-py3-none-any.whl.metadata (13 kB)\n",
            "Collecting eth-rlp>=2.1.0 (from eth-account>=0.13.6->web3)\n",
            "  Downloading eth_rlp-2.2.0-py3-none-any.whl.metadata (3.3 kB)\n",
            "Collecting rlp>=1.0.0 (from eth-account>=0.13.6->web3)\n",
            "  Downloading rlp-4.1.0-py3-none-any.whl.metadata (3.2 kB)\n",
            "Collecting ckzg>=2.0.0 (from eth-account>=0.13.6->web3)\n",
            "  Downloading ckzg-2.1.1-cp311-cp311-manylinux_2_17_x86_64.manylinux2014_x86_64.whl.metadata (887 bytes)\n",
            "Collecting pycryptodome<4,>=3.6.6 (from eth-hash[pycryptodome]>=0.5.1->web3)\n",
            "  Downloading pycryptodome-3.22.0-cp37-abi3-manylinux_2_17_x86_64.manylinux2014_x86_64.whl.metadata (3.4 kB)\n",
            "Collecting cytoolz>=0.10.1 (from eth-utils>=5.0.0->web3)\n",
            "  Downloading cytoolz-1.0.1-cp311-cp311-manylinux_2_17_x86_64.manylinux2014_x86_64.whl.metadata (4.6 kB)\n",
            "Requirement already satisfied: annotated-types>=0.6.0 in /usr/local/lib/python3.11/dist-packages (from pydantic>=2.4.0->web3) (0.7.0)\n",
            "Requirement already satisfied: pydantic-core==2.33.1 in /usr/local/lib/python3.11/dist-packages (from pydantic>=2.4.0->web3) (2.33.1)\n",
            "Requirement already satisfied: typing-inspection>=0.4.0 in /usr/local/lib/python3.11/dist-packages (from pydantic>=2.4.0->web3) (0.4.0)\n",
            "Requirement already satisfied: charset-normalizer<4,>=2 in /usr/local/lib/python3.11/dist-packages (from requests>=2.23.0->web3) (3.4.1)\n",
            "Requirement already satisfied: idna<4,>=2.5 in /usr/local/lib/python3.11/dist-packages (from requests>=2.23.0->web3) (3.10)\n",
            "Requirement already satisfied: urllib3<3,>=1.21.1 in /usr/local/lib/python3.11/dist-packages (from requests>=2.23.0->web3) (2.4.0)\n",
            "Requirement already satisfied: certifi>=2017.4.17 in /usr/local/lib/python3.11/dist-packages (from requests>=2.23.0->web3) (2025.4.26)\n",
            "Requirement already satisfied: toolz>=0.8.0 in /usr/local/lib/python3.11/dist-packages (from cytoolz>=0.10.1->eth-utils>=5.0.0->web3) (0.12.1)\n",
            "Requirement already satisfied: regex>=2022.3.15 in /usr/local/lib/python3.11/dist-packages (from parsimonious<0.11.0,>=0.10.0->eth-abi>=5.0.1->web3) (2024.11.6)\n",
            "Downloading web3-7.11.0-py3-none-any.whl (1.4 MB)\n",
            "\u001b[2K   \u001b[90m━━━━━━━━━━━━━━━━━━━━━━━━━━━━━━━━━━━━━━━━\u001b[0m \u001b[32m1.4/1.4 MB\u001b[0m \u001b[31m20.1 MB/s\u001b[0m eta \u001b[36m0:00:00\u001b[0m\n",
            "\u001b[?25hDownloading eth_abi-5.2.0-py3-none-any.whl (28 kB)\n",
            "Downloading eth_account-0.13.7-py3-none-any.whl (587 kB)\n",
            "\u001b[2K   \u001b[90m━━━━━━━━━━━━━━━━━━━━━━━━━━━━━━━━━━━━━━━━\u001b[0m \u001b[32m587.5/587.5 kB\u001b[0m \u001b[31m30.4 MB/s\u001b[0m eta \u001b[36m0:00:00\u001b[0m\n",
            "\u001b[?25hDownloading eth_hash-0.7.1-py3-none-any.whl (8.0 kB)\n",
            "Downloading eth_typing-5.2.1-py3-none-any.whl (19 kB)\n",
            "Downloading eth_utils-5.3.0-py3-none-any.whl (102 kB)\n",
            "\u001b[2K   \u001b[90m━━━━━━━━━━━━━━━━━━━━━━━━━━━━━━━━━━━━━━━━\u001b[0m \u001b[32m102.5/102.5 kB\u001b[0m \u001b[31m6.9 MB/s\u001b[0m eta \u001b[36m0:00:00\u001b[0m\n",
            "\u001b[?25hDownloading hexbytes-1.3.0-py3-none-any.whl (4.9 kB)\n",
            "Downloading pyunormalize-16.0.0-py3-none-any.whl (49 kB)\n",
            "\u001b[2K   \u001b[90m━━━━━━━━━━━━━━━━━━━━━━━━━━━━━━━━━━━━━━━━\u001b[0m \u001b[32m49.2/49.2 kB\u001b[0m \u001b[31m3.3 MB/s\u001b[0m eta \u001b[36m0:00:00\u001b[0m\n",
            "\u001b[?25hDownloading types_requests-2.32.0.20250328-py3-none-any.whl (20 kB)\n",
            "Downloading bitarray-3.3.2-cp311-cp311-manylinux_2_17_x86_64.manylinux2014_x86_64.whl (305 kB)\n",
            "\u001b[2K   \u001b[90m━━━━━━━━━━━━━━━━━━━━━━━━━━━━━━━━━━━━━━━━\u001b[0m \u001b[32m305.5/305.5 kB\u001b[0m \u001b[31m20.3 MB/s\u001b[0m eta \u001b[36m0:00:00\u001b[0m\n",
            "\u001b[?25hDownloading ckzg-2.1.1-cp311-cp311-manylinux_2_17_x86_64.manylinux2014_x86_64.whl (170 kB)\n",
            "\u001b[2K   \u001b[90m━━━━━━━━━━━━━━━━━━━━━━━━━━━━━━━━━━━━━━━━\u001b[0m \u001b[32m170.5/170.5 kB\u001b[0m \u001b[31m9.4 MB/s\u001b[0m eta \u001b[36m0:00:00\u001b[0m\n",
            "\u001b[?25hDownloading cytoolz-1.0.1-cp311-cp311-manylinux_2_17_x86_64.manylinux2014_x86_64.whl (2.1 MB)\n",
            "\u001b[2K   \u001b[90m━━━━━━━━━━━━━━━━━━━━━━━━━━━━━━━━━━━━━━━━\u001b[0m \u001b[32m2.1/2.1 MB\u001b[0m \u001b[31m51.8 MB/s\u001b[0m eta \u001b[36m0:00:00\u001b[0m\n",
            "\u001b[?25hDownloading eth_keyfile-0.8.1-py3-none-any.whl (7.5 kB)\n",
            "Downloading eth_keys-0.7.0-py3-none-any.whl (20 kB)\n",
            "Downloading eth_rlp-2.2.0-py3-none-any.whl (4.4 kB)\n",
            "Downloading parsimonious-0.10.0-py3-none-any.whl (48 kB)\n",
            "\u001b[2K   \u001b[90m━━━━━━━━━━━━━━━━━━━━━━━━━━━━━━━━━━━━━━━━\u001b[0m \u001b[32m48.4/48.4 kB\u001b[0m \u001b[31m3.0 MB/s\u001b[0m eta \u001b[36m0:00:00\u001b[0m\n",
            "\u001b[?25hDownloading pycryptodome-3.22.0-cp37-abi3-manylinux_2_17_x86_64.manylinux2014_x86_64.whl (2.3 MB)\n",
            "\u001b[2K   \u001b[90m━━━━━━━━━━━━━━━━━━━━━━━━━━━━━━━━━━━━━━━━\u001b[0m \u001b[32m2.3/2.3 MB\u001b[0m \u001b[31m58.2 MB/s\u001b[0m eta \u001b[36m0:00:00\u001b[0m\n",
            "\u001b[?25hDownloading rlp-4.1.0-py3-none-any.whl (19 kB)\n",
            "Installing collected packages: ckzg, bitarray, types-requests, pyunormalize, pycryptodome, parsimonious, hexbytes, eth-typing, eth-hash, cytoolz, eth-utils, rlp, eth-keys, eth-abi, eth-rlp, eth-keyfile, eth-account, web3\n",
            "Successfully installed bitarray-3.3.2 ckzg-2.1.1 cytoolz-1.0.1 eth-abi-5.2.0 eth-account-0.13.7 eth-hash-0.7.1 eth-keyfile-0.8.1 eth-keys-0.7.0 eth-rlp-2.2.0 eth-typing-5.2.1 eth-utils-5.3.0 hexbytes-1.3.0 parsimonious-0.10.0 pycryptodome-3.22.0 pyunormalize-16.0.0 rlp-4.1.0 types-requests-2.32.0.20250328 web3-7.11.0\n"
          ]
        }
      ]
    },
    {
      "cell_type": "code",
      "source": [
        "!pip install \"web3[tester]\""
      ],
      "metadata": {
        "id": "cbR4paJ213H4",
        "collapsed": true,
        "colab": {
          "base_uri": "https://localhost:8080/"
        },
        "outputId": "4add3517-e502-4ea7-d4fc-4aa2c8a1df22"
      },
      "execution_count": null,
      "outputs": [
        {
          "output_type": "stream",
          "name": "stdout",
          "text": [
            "Requirement already satisfied: web3[tester] in /usr/local/lib/python3.11/dist-packages (7.11.0)\n",
            "Requirement already satisfied: eth-abi>=5.0.1 in /usr/local/lib/python3.11/dist-packages (from web3[tester]) (5.2.0)\n",
            "Requirement already satisfied: eth-account>=0.13.6 in /usr/local/lib/python3.11/dist-packages (from web3[tester]) (0.13.7)\n",
            "Requirement already satisfied: eth-hash>=0.5.1 in /usr/local/lib/python3.11/dist-packages (from eth-hash[pycryptodome]>=0.5.1->web3[tester]) (0.7.1)\n",
            "Requirement already satisfied: eth-typing>=5.0.0 in /usr/local/lib/python3.11/dist-packages (from web3[tester]) (5.2.1)\n",
            "Requirement already satisfied: eth-utils>=5.0.0 in /usr/local/lib/python3.11/dist-packages (from web3[tester]) (5.3.0)\n",
            "Requirement already satisfied: hexbytes>=1.2.0 in /usr/local/lib/python3.11/dist-packages (from web3[tester]) (1.3.0)\n",
            "Requirement already satisfied: aiohttp>=3.7.4.post0 in /usr/local/lib/python3.11/dist-packages (from web3[tester]) (3.11.15)\n",
            "Requirement already satisfied: pydantic>=2.4.0 in /usr/local/lib/python3.11/dist-packages (from web3[tester]) (2.11.3)\n",
            "Requirement already satisfied: requests>=2.23.0 in /usr/local/lib/python3.11/dist-packages (from web3[tester]) (2.32.3)\n",
            "Requirement already satisfied: typing-extensions>=4.0.1 in /usr/local/lib/python3.11/dist-packages (from web3[tester]) (4.13.2)\n",
            "Requirement already satisfied: types-requests>=2.0.0 in /usr/local/lib/python3.11/dist-packages (from web3[tester]) (2.32.0.20250328)\n",
            "Requirement already satisfied: websockets<16.0.0,>=10.0.0 in /usr/local/lib/python3.11/dist-packages (from web3[tester]) (15.0.1)\n",
            "Requirement already satisfied: pyunormalize>=15.0.0 in /usr/local/lib/python3.11/dist-packages (from web3[tester]) (16.0.0)\n",
            "Collecting eth-tester<0.14.0b1,>=0.13.0b1 (from eth-tester[py-evm]<0.14.0b1,>=0.13.0b1; extra == \"tester\"->web3[tester])\n",
            "  Downloading eth_tester-0.13.0b1-py3-none-any.whl.metadata (38 kB)\n",
            "Collecting py-geth>=5.1.0 (from web3[tester])\n",
            "  Downloading py_geth-5.5.0-py3-none-any.whl.metadata (9.3 kB)\n",
            "Requirement already satisfied: aiohappyeyeballs>=2.3.0 in /usr/local/lib/python3.11/dist-packages (from aiohttp>=3.7.4.post0->web3[tester]) (2.6.1)\n",
            "Requirement already satisfied: aiosignal>=1.1.2 in /usr/local/lib/python3.11/dist-packages (from aiohttp>=3.7.4.post0->web3[tester]) (1.3.2)\n",
            "Requirement already satisfied: attrs>=17.3.0 in /usr/local/lib/python3.11/dist-packages (from aiohttp>=3.7.4.post0->web3[tester]) (25.3.0)\n",
            "Requirement already satisfied: frozenlist>=1.1.1 in /usr/local/lib/python3.11/dist-packages (from aiohttp>=3.7.4.post0->web3[tester]) (1.6.0)\n",
            "Requirement already satisfied: multidict<7.0,>=4.5 in /usr/local/lib/python3.11/dist-packages (from aiohttp>=3.7.4.post0->web3[tester]) (6.4.3)\n",
            "Requirement already satisfied: propcache>=0.2.0 in /usr/local/lib/python3.11/dist-packages (from aiohttp>=3.7.4.post0->web3[tester]) (0.3.1)\n",
            "Requirement already satisfied: yarl<2.0,>=1.17.0 in /usr/local/lib/python3.11/dist-packages (from aiohttp>=3.7.4.post0->web3[tester]) (1.20.0)\n",
            "Requirement already satisfied: parsimonious<0.11.0,>=0.10.0 in /usr/local/lib/python3.11/dist-packages (from eth-abi>=5.0.1->web3[tester]) (0.10.0)\n",
            "Requirement already satisfied: bitarray>=2.4.0 in /usr/local/lib/python3.11/dist-packages (from eth-account>=0.13.6->web3[tester]) (3.3.2)\n",
            "Requirement already satisfied: eth-keyfile<0.9.0,>=0.7.0 in /usr/local/lib/python3.11/dist-packages (from eth-account>=0.13.6->web3[tester]) (0.8.1)\n",
            "Requirement already satisfied: eth-keys>=0.4.0 in /usr/local/lib/python3.11/dist-packages (from eth-account>=0.13.6->web3[tester]) (0.7.0)\n",
            "Requirement already satisfied: eth-rlp>=2.1.0 in /usr/local/lib/python3.11/dist-packages (from eth-account>=0.13.6->web3[tester]) (2.2.0)\n",
            "Requirement already satisfied: rlp>=1.0.0 in /usr/local/lib/python3.11/dist-packages (from eth-account>=0.13.6->web3[tester]) (4.1.0)\n",
            "Requirement already satisfied: ckzg>=2.0.0 in /usr/local/lib/python3.11/dist-packages (from eth-account>=0.13.6->web3[tester]) (2.1.1)\n",
            "Requirement already satisfied: pycryptodome<4,>=3.6.6 in /usr/local/lib/python3.11/dist-packages (from eth-hash[pycryptodome]>=0.5.1->web3[tester]) (3.22.0)\n",
            "Collecting semantic_version>=2.6.0 (from eth-tester<0.14.0b1,>=0.13.0b1->eth-tester[py-evm]<0.14.0b1,>=0.13.0b1; extra == \"tester\"->web3[tester])\n",
            "  Downloading semantic_version-2.10.0-py2.py3-none-any.whl.metadata (9.7 kB)\n",
            "Collecting py-evm<0.13.0b1,>=0.12.0b2 (from eth-tester[py-evm]<0.14.0b1,>=0.13.0b1; extra == \"tester\"->web3[tester])\n",
            "  Downloading py_evm-0.12.0b3-py3-none-any.whl.metadata (6.1 kB)\n",
            "Requirement already satisfied: cytoolz>=0.10.1 in /usr/local/lib/python3.11/dist-packages (from eth-utils>=5.0.0->web3[tester]) (1.0.1)\n",
            "Requirement already satisfied: annotated-types>=0.6.0 in /usr/local/lib/python3.11/dist-packages (from pydantic>=2.4.0->web3[tester]) (0.7.0)\n",
            "Requirement already satisfied: pydantic-core==2.33.1 in /usr/local/lib/python3.11/dist-packages (from pydantic>=2.4.0->web3[tester]) (2.33.1)\n",
            "Requirement already satisfied: typing-inspection>=0.4.0 in /usr/local/lib/python3.11/dist-packages (from pydantic>=2.4.0->web3[tester]) (0.4.0)\n",
            "Requirement already satisfied: charset-normalizer<4,>=2 in /usr/local/lib/python3.11/dist-packages (from requests>=2.23.0->web3[tester]) (3.4.1)\n",
            "Requirement already satisfied: idna<4,>=2.5 in /usr/local/lib/python3.11/dist-packages (from requests>=2.23.0->web3[tester]) (3.10)\n",
            "Requirement already satisfied: urllib3<3,>=1.21.1 in /usr/local/lib/python3.11/dist-packages (from requests>=2.23.0->web3[tester]) (2.4.0)\n",
            "Requirement already satisfied: certifi>=2017.4.17 in /usr/local/lib/python3.11/dist-packages (from requests>=2.23.0->web3[tester]) (2025.4.26)\n",
            "Requirement already satisfied: toolz>=0.8.0 in /usr/local/lib/python3.11/dist-packages (from cytoolz>=0.10.1->eth-utils>=5.0.0->web3[tester]) (0.12.1)\n",
            "Collecting safe-pysha3>=1.0.0 (from eth-hash>=0.5.1->eth-hash[pycryptodome]>=0.5.1->web3[tester])\n",
            "  Downloading safe-pysha3-1.0.4.tar.gz (827 kB)\n",
            "\u001b[2K     \u001b[90m━━━━━━━━━━━━━━━━━━━━━━━━━━━━━━━━━━━━━━\u001b[0m \u001b[32m827.7/827.7 kB\u001b[0m \u001b[31m15.0 MB/s\u001b[0m eta \u001b[36m0:00:00\u001b[0m\n",
            "\u001b[?25h  Preparing metadata (setup.py) ... \u001b[?25l\u001b[?25hdone\n",
            "Requirement already satisfied: regex>=2022.3.15 in /usr/local/lib/python3.11/dist-packages (from parsimonious<0.11.0,>=0.10.0->eth-abi>=5.0.1->web3[tester]) (2024.11.6)\n",
            "Collecting cached-property>=1.5.1 (from py-evm<0.13.0b1,>=0.12.0b2->eth-tester[py-evm]<0.14.0b1,>=0.13.0b1; extra == \"tester\"->web3[tester])\n",
            "  Downloading cached_property-2.0.1-py3-none-any.whl.metadata (10 kB)\n",
            "Collecting eth-bloom>=1.0.3 (from py-evm<0.13.0b1,>=0.12.0b2->eth-tester[py-evm]<0.14.0b1,>=0.13.0b1; extra == \"tester\"->web3[tester])\n",
            "  Downloading eth_bloom-3.1.0-py3-none-any.whl.metadata (8.7 kB)\n",
            "Collecting lru-dict>=1.1.6 (from py-evm<0.13.0b1,>=0.12.0b2->eth-tester[py-evm]<0.14.0b1,>=0.13.0b1; extra == \"tester\"->web3[tester])\n",
            "  Downloading lru_dict-1.3.0-cp311-cp311-manylinux_2_5_x86_64.manylinux1_x86_64.manylinux_2_17_x86_64.manylinux2014_x86_64.whl.metadata (4.5 kB)\n",
            "Collecting py-ecc>=8.0.0 (from py-evm<0.13.0b1,>=0.12.0b2->eth-tester[py-evm]<0.14.0b1,>=0.13.0b1; extra == \"tester\"->web3[tester])\n",
            "  Downloading py_ecc-8.0.0-py3-none-any.whl.metadata (3.1 kB)\n",
            "Collecting trie>=2.0.0 (from py-evm<0.13.0b1,>=0.12.0b2->eth-tester[py-evm]<0.14.0b1,>=0.13.0b1; extra == \"tester\"->web3[tester])\n",
            "  Downloading trie-3.1.0-py3-none-any.whl.metadata (19 kB)\n",
            "Requirement already satisfied: sortedcontainers>=2.1.0 in /usr/local/lib/python3.11/dist-packages (from trie>=2.0.0->py-evm<0.13.0b1,>=0.12.0b2->eth-tester[py-evm]<0.14.0b1,>=0.13.0b1; extra == \"tester\"->web3[tester]) (2.4.0)\n",
            "Downloading eth_tester-0.13.0b1-py3-none-any.whl (76 kB)\n",
            "\u001b[2K   \u001b[90m━━━━━━━━━━━━━━━━━━━━━━━━━━━━━━━━━━━━━━━━\u001b[0m \u001b[32m76.2/76.2 kB\u001b[0m \u001b[31m6.3 MB/s\u001b[0m eta \u001b[36m0:00:00\u001b[0m\n",
            "\u001b[?25hDownloading py_geth-5.5.0-py3-none-any.whl (28 kB)\n",
            "Downloading py_evm-0.12.0b3-py3-none-any.whl (798 kB)\n",
            "\u001b[2K   \u001b[90m━━━━━━━━━━━━━━━━━━━━━━━━━━━━━━━━━━━━━━━━\u001b[0m \u001b[32m798.6/798.6 kB\u001b[0m \u001b[31m37.5 MB/s\u001b[0m eta \u001b[36m0:00:00\u001b[0m\n",
            "\u001b[?25hDownloading semantic_version-2.10.0-py2.py3-none-any.whl (15 kB)\n",
            "Downloading cached_property-2.0.1-py3-none-any.whl (7.4 kB)\n",
            "Downloading eth_bloom-3.1.0-py3-none-any.whl (5.8 kB)\n",
            "Downloading lru_dict-1.3.0-cp311-cp311-manylinux_2_5_x86_64.manylinux1_x86_64.manylinux_2_17_x86_64.manylinux2014_x86_64.whl (31 kB)\n",
            "Downloading py_ecc-8.0.0-py3-none-any.whl (47 kB)\n",
            "\u001b[2K   \u001b[90m━━━━━━━━━━━━━━━━━━━━━━━━━━━━━━━━━━━━━━━━\u001b[0m \u001b[32m47.8/47.8 kB\u001b[0m \u001b[31m3.8 MB/s\u001b[0m eta \u001b[36m0:00:00\u001b[0m\n",
            "\u001b[?25hDownloading trie-3.1.0-py3-none-any.whl (38 kB)\n",
            "Building wheels for collected packages: safe-pysha3\n",
            "  Building wheel for safe-pysha3 (setup.py) ... \u001b[?25l\u001b[?25hdone\n",
            "  Created wheel for safe-pysha3: filename=safe_pysha3-1.0.4-cp311-cp311-linux_x86_64.whl size=147634 sha256=f272b38f151eff8c7b30e3e6cd2e8e642b95ebe7bb18c46eb04c1808577ab0e2\n",
            "  Stored in directory: /root/.cache/pip/wheels/b3/ef/41/7bba4fbb915ace87eea10e6a287a991a7ced54d98726906766\n",
            "Successfully built safe-pysha3\n",
            "Installing collected packages: safe-pysha3, semantic_version, lru-dict, cached-property, eth-bloom, py-geth, py-ecc, trie, py-evm, eth-tester\n",
            "Successfully installed cached-property-2.0.1 eth-bloom-3.1.0 eth-tester-0.13.0b1 lru-dict-1.3.0 py-ecc-8.0.0 py-evm-0.12.0b3 py-geth-5.5.0 safe-pysha3-1.0.4 semantic_version-2.10.0 trie-3.1.0\n"
          ]
        }
      ]
    },
    {
      "cell_type": "markdown",
      "source": [
        "#### Let's check that the libraries are working...\n",
        "\n"
      ],
      "metadata": {
        "id": "2q58PDHC5ENi"
      }
    },
    {
      "cell_type": "code",
      "source": [
        "from web3 import Web3"
      ],
      "metadata": {
        "id": "Nrk1TQJH21Q7"
      },
      "execution_count": null,
      "outputs": []
    },
    {
      "cell_type": "markdown",
      "source": [
        "#### Use auto-completion\n",
        "\n",
        "It's great to quickly review the data and functions in an object...\n",
        "\n",
        "Add a period at the end of the <tt>Web3</tt> object to see and review its fields:"
      ],
      "metadata": {
        "id": "TvlzVcBl25EQ"
      }
    },
    {
      "cell_type": "code",
      "source": [
        "# Check out whats available in the Web3 object, by\n",
        "#       typing a period . after Web3 below\n",
        "#       (make it Web3.  ~ then wait a moment...)\n",
        "\n",
        "# Here, add a period (the selector operator) and wait a moment\n",
        "#       a panel should popup to show all of the available fields\n",
        "\n",
        "# Check out from_wei and to_wei !\n",
        "\n",
        "Web3"
      ],
      "metadata": {
        "id": "RiB-WY7L2s2c",
        "collapsed": true,
        "colab": {
          "base_uri": "https://localhost:8080/",
          "height": 172
        },
        "outputId": "50e8b115-dd0d-463f-84a6-09af3c93a285"
      },
      "execution_count": null,
      "outputs": [
        {
          "output_type": "execute_result",
          "data": {
            "text/plain": [
              "web3.main.Web3"
            ],
            "text/html": [
              "<div style=\"max-width:800px; border: 1px solid var(--colab-border-color);\"><style>\n",
              "      pre.function-repr-contents {\n",
              "        overflow-x: auto;\n",
              "        padding: 8px 12px;\n",
              "        max-height: 500px;\n",
              "      }\n",
              "\n",
              "      pre.function-repr-contents.function-repr-contents-collapsed {\n",
              "        cursor: pointer;\n",
              "        max-height: 100px;\n",
              "      }\n",
              "    </style>\n",
              "    <pre style=\"white-space: initial; background:\n",
              "         var(--colab-secondary-surface-color); padding: 8px 12px;\n",
              "         border-bottom: 1px solid var(--colab-border-color);\"><b>web3.main.Web3</b><br/>def __init__(provider: Optional[BaseProvider]=None, middleware: Optional[Sequence[Any]]=None, modules: Optional[Dict[str, Union[Type[Module], Sequence[Any]]]]=None, external_modules: Optional[Dict[str, Union[Type[Module], Sequence[Any]]]]=None, ens: Union[ENS, &#x27;Empty&#x27;]=empty) -&gt; None</pre><pre class=\"function-repr-contents function-repr-contents-collapsed\" style=\"\"><a class=\"filepath\" style=\"display:none\" href=\"#\">/usr/local/lib/python3.11/dist-packages/web3/main.py</a>&lt;no docstring&gt;</pre>\n",
              "      <script>\n",
              "      if (google.colab.kernel.accessAllowed && google.colab.files && google.colab.files.view) {\n",
              "        for (const element of document.querySelectorAll('.filepath')) {\n",
              "          element.style.display = 'block'\n",
              "          element.onclick = (event) => {\n",
              "            event.preventDefault();\n",
              "            event.stopPropagation();\n",
              "            google.colab.files.view(element.textContent, 379);\n",
              "          };\n",
              "        }\n",
              "      }\n",
              "      for (const element of document.querySelectorAll('.function-repr-contents')) {\n",
              "        element.onclick = (event) => {\n",
              "          event.preventDefault();\n",
              "          event.stopPropagation();\n",
              "          element.classList.toggle('function-repr-contents-collapsed');\n",
              "        };\n",
              "      }\n",
              "      </script>\n",
              "      </div>"
            ]
          },
          "metadata": {},
          "execution_count": 5
        }
      ]
    },
    {
      "cell_type": "markdown",
      "source": [
        "#### Notice <tt>to_wei</tt> and <tt>from_wei</tt>\n",
        "\n",
        "... and many others!\n",
        "\n",
        "Here, let's use <tt>to_wei</tt> from the <tt>Web3</tt> object to convert among different units of Ether:"
      ],
      "metadata": {
        "id": "_HGqBb0A2zWX"
      }
    },
    {
      "cell_type": "code",
      "source": [
        "from web3 import Web3\n",
        "\n",
        "value_in_wei = Web3.to_wei(1, 'ether')\n",
        "print(f\"1 eth is {value_in_wei} wei.\")"
      ],
      "metadata": {
        "id": "WNKAK3vp5IJ5",
        "colab": {
          "base_uri": "https://localhost:8080/"
        },
        "outputId": "9e839c6a-7d2c-4d96-d769-6f39e190983a"
      },
      "execution_count": null,
      "outputs": [
        {
          "output_type": "stream",
          "name": "stdout",
          "text": [
            "1 eth is 1000000000000000000 wei.\n"
          ]
        }
      ]
    },
    {
      "cell_type": "markdown",
      "source": [
        "Here are names for the \"coins\" of the Ether realm:\n",
        "\n",
        "<img src=\"https://m.foolcdn.com/media/dubs/images/gwei-infographic.width-880.png\" height=\"284px\">\n",
        "\n",
        "The nicknames are a mix of computing and cryptography/Ethereum early-explorers...   😀"
      ],
      "metadata": {
        "id": "JA1RsldO7pi8"
      }
    },
    {
      "cell_type": "markdown",
      "source": [
        "#### Let's try out the <tt>gwei</tt> unit\n",
        "\n",
        "Gwei are the typical units for Ethereum's <i>gas</i>\n",
        "\n",
        "This also shows off the use of <tt>from_wei</tt>\n",
        "\n",
        "<font size=\"-1\"><i>Warning</i> &nbsp; We will use <i>floating-point</i> for readability. For exact artihmetic, everything must be in integers (and probably in <tt>wei</tt>).</font>"
      ],
      "metadata": {
        "id": "KksRX-ZpzhkQ"
      }
    },
    {
      "cell_type": "code",
      "source": [
        "# converting to other units...\n",
        "#            with the function Web3.from_wei\n",
        "\n",
        "value_in_gwei = float(Web3.from_wei(42_000_000_000, 'gwei'))\n",
        "value_in_gwei\n",
        "\n",
        "# Python allows underscores instead of commas:\n",
        "# gwei is short for \"gigawei\" which is 1 billion wei\n",
        "# Note that, in Python, the underscore is a legal \"thousands-separator\"  (cool!)"
      ],
      "metadata": {
        "id": "k2eud6uF7i05",
        "colab": {
          "base_uri": "https://localhost:8080/"
        },
        "outputId": "99ff6d49-a25e-4066-9de1-e7a86ae0309a"
      },
      "execution_count": null,
      "outputs": [
        {
          "output_type": "execute_result",
          "data": {
            "text/plain": [
              "42.0"
            ]
          },
          "metadata": {},
          "execution_count": 7
        }
      ]
    },
    {
      "cell_type": "markdown",
      "source": [
        "## <b><font color=\"DodgerBlue\">Challenge #1</font></b> &nbsp;&nbsp; <i>Current</i> currency conversion\n",
        "\n",
        "<b><font color=\"Coral\">Task</font></b> &nbsp;&nbsp;  Write a function that finds the value, in dollars, of 1 ether and finds the value, in ether and gwei, of 1 dollar. Use the <i>current</i> value of the currencies!\n",
        "\n",
        "For example, here is how the function might look when it's run:\n",
        "\n",
        "```\n",
        "# the call to your function:\n",
        "your_function()   # choose your own name\n",
        "\n",
        "# the output, printed:\n",
        "1 ether is currently  $1342.26\n",
        "\n",
        "1 dollar is currently .000745012143697942 ether\n",
        "1 dollar is about     745012.14 gwei\n",
        "```\n",
        "\n",
        "#### Remember <tt>requests</tt> ?\n",
        "\n",
        "<tt>requests</tt> was the Python library our API module used to make API requests to arbitrary endpoints (urls). This is a great way to help implement this function  et's get the current price of ETH...\n",
        "And use that to convert from dollars to gwei and gwei to dollars...\n",
        "\n",
        "<br>\n",
        "\n",
        "#### <i>Use the AI to build-in current ETH pricing...</i>\n",
        "\n",
        "+ Prompt Colab to use requests API to get the current price of ETH\n",
        "+ Test the code version(s) it provides to find one that works (and that you like)\n",
        "+ Continue on, to create your function above...\n",
        "+ Use better names! For example,  <tt>dollars_to_gwei</tt> or <tt>gwei_to_dollars</tt> would be reasonable helper functions\n",
        "+ (No requirement for a helper function in this case.)\n",
        "\n",
        "#### Show that it is working as desired!\n",
        "+ Run it!\n",
        "+ <b>Confirm</b> that they are correct by checking the \"opposite\" results in another cell..."
      ],
      "metadata": {
        "id": "cUdI5a_vGANw"
      }
    },
    {
      "cell_type": "code",
      "source": [
        "import requests\n",
        "\n",
        "def get_eth_price():\n",
        "    \"\"\"Fetches the current price of ETH from CoinGecko API.\"\"\"\n",
        "    url = \"https://api.coingecko.com/api/v3/simple/price?ids=ethereum&vs_currencies=usd\"\n",
        "    response = requests.get(url)\n",
        "    data = response.json()\n",
        "    eth_price = data[\"ethereum\"][\"usd\"]\n",
        "    return eth_price\n",
        "\n",
        "current_ETH = get_eth_price() # Current ETH Price in dollars\n",
        "print(f'1 ether is currently ${current_ETH}')\n",
        "\n",
        "def dollar_to_GweiETH(dollars):\n",
        "    Eth_dollar_unit = 1 / current_ETH\n",
        "    ETH = dollars * Eth_dollar_unit # Number of ETH\n",
        "    Gwei = ETH * 10**9 # Number of Gwei\n",
        "    return ETH, Gwei\n",
        "\n",
        "res_1dollar = dollar_to_GweiETH(1)\n",
        "print(f'\\n1 dollar is currently {res_1dollar[0]} ether \\n1 dollar is currently {res_1dollar[1]} Gwei')"
      ],
      "metadata": {
        "id": "KmuI_pJ_KeX0",
        "colab": {
          "base_uri": "https://localhost:8080/"
        },
        "outputId": "d2add21e-b8f3-4a4d-838d-a8860ac18356"
      },
      "execution_count": null,
      "outputs": [
        {
          "output_type": "stream",
          "name": "stdout",
          "text": [
            "1 ether is currently $1802.28\n",
            "\n",
            "1 dollar is currently 0.0005548527420822513 ether \n",
            "1 dollar is currently 554852.7420822514 Gwei\n"
          ]
        }
      ]
    },
    {
      "cell_type": "markdown",
      "source": [
        "## <b><font color=\"DodgerBlue\">Challenge #2</font></b> &nbsp;&nbsp; <i>Reflect</i> on the AI code success ...\n",
        "\n",
        "<b><font color=\"Coral\">Task</font></b> &nbsp;&nbsp;  In developing the above current-currency-conversion function,\n",
        "+ was the AI able to create the API call you needed?\n",
        "+ did it format the result as you'd hoped?\n",
        "+ were there things you had to add to the output code?\n",
        "+ and - bigger-picture - have you found the Colab AI more helpful as time goes on (or less so?!)\n",
        "\n",
        "<br>\n",
        "<hr>\n",
        "\n",
        "The AI was able to make the API call that we needed without extra refining of the prompt. The code it created was pretty much straight forward. It used a website API named CodeGecko which is a surprising choice because we believed the price of ETH would also be listed at even more popular sites. The AI added the print statement with labels itself as needed.\n",
        "\n",
        "Overtime the collab AI gets better probably because these times it's getting used a lot so it keeeps on learning and improving and is able to track the logic used throughout the document and tries to maintain a similar flow\n",
        "\n",
        "<hr>\n",
        "<br>\n",
        "\n",
        "\n",
        "\n",
        "<font size=\"-1\">Things working too smoothly? <br> Tired of typing/generating the same-old prose answers? <br> Liven up your Colab up with some <font color=\"DodgerBlue\">raw html</font>! <br> Copy the following into a _code_ cell:\n",
        "```\n",
        "%%html\n",
        "<marquee style='width: 30%; color: Coral;'><b>It Works!</b></marquee>\n",
        "```\n",
        "</font>"
      ],
      "metadata": {
        "id": "DWrzoJak4-q9"
      }
    },
    {
      "cell_type": "code",
      "source": [
        "%%html\n",
        "<marquee style='width: 30%; color: Coral;'><b>It Works!</b></marquee>"
      ],
      "metadata": {
        "id": "XK2J9t6q6Zj8",
        "colab": {
          "base_uri": "https://localhost:8080/",
          "height": 38
        },
        "outputId": "d9af01be-93bc-4974-b5d5-ce50823c7984"
      },
      "execution_count": 15,
      "outputs": [
        {
          "output_type": "display_data",
          "data": {
            "text/plain": [
              "<IPython.core.display.HTML object>"
            ],
            "text/html": [
              "<marquee style='width: 30%; color: Coral;'><b>It Works!</b></marquee>\n"
            ]
          },
          "metadata": {}
        }
      ]
    },
    {
      "cell_type": "markdown",
      "source": [
        "<font color=\"Coral\"><b>task</b></font>\n",
        "\n",
        "#### Be sure to include at least one cell - of whatever sort - for your AI-success reflection...\n",
        "\n",
        "<font color=\"lightgray\" size=\"-2\">\n",
        "Look below for a \"cookie clicker\" application inside Colab! :)\n",
        "<font>\n",
        "\n",
        "<!-- Cookie Clicker (generalized snack version):  \n",
        "     Copy the code below into a code cell:  \n",
        "\n",
        "\n",
        "%%html\n",
        "<head>\n",
        "  <style>\n",
        "    button {\n",
        "      font-size: 2rem;        /*  1 rem is 16 pixels and 12 point */\n",
        "      padding: 10px 20px;     /*  x padding and y padding         */\n",
        "    }\n",
        "  </style>\n",
        "</head>\n",
        "<body>\n",
        "  <button id=\"snack\" onclick=\"increment()\">0</button>\n",
        "  <script>\n",
        "    let delta = 1;\n",
        "    function increment() {\n",
        "      const btn = document.getElementById('snack');        // our \"snack\" clicker!\n",
        "      let count = parseInt(btn.innerText);                 // get the button number\n",
        "      if (count >= 4.2 || count <= -4.2) { delta *= -1; }  // switch the direction\n",
        "      btn.innerText = count + delta;                       // update with the current delta\n",
        "    }\n",
        "  </script>\n",
        "</body>\n",
        "</html>\n",
        "\n",
        "\n",
        "-->\n",
        "\n"
      ],
      "metadata": {
        "id": "IDpPdTyy6eJv"
      }
    },
    {
      "cell_type": "code",
      "source": [
        "%%html\n",
        "<head>\n",
        "  <style>\n",
        "    button {\n",
        "      font-size: 2rem;        /*  1 rem is 16 pixels and 12 point */\n",
        "      padding: 10px 20px;     /*  x padding and y padding         */\n",
        "    }\n",
        "  </style>\n",
        "</head>\n",
        "<body>\n",
        "  <button id=\"snack\" onclick=\"increment()\">0</button>\n",
        "  <script>\n",
        "    let delta = 1;\n",
        "    function increment() {\n",
        "      const btn = document.getElementById('snack');        // our \"snack\" clicker!\n",
        "      let count = parseInt(btn.innerText);                 // get the button number\n",
        "      if (count >= 4.2 || count <= -4.2) { delta *= -1; }  // switch the direction\n",
        "      btn.innerText = count + delta;                       // update with the current delta\n",
        "    }\n",
        "  </script>\n",
        "</body>\n",
        "</html>"
      ],
      "metadata": {
        "colab": {
          "base_uri": "https://localhost:8080/",
          "height": 78
        },
        "id": "uTNX43fIzGYS",
        "outputId": "596ba684-4269-4e7b-f9c3-ed42cba3452c"
      },
      "execution_count": 16,
      "outputs": [
        {
          "output_type": "display_data",
          "data": {
            "text/plain": [
              "<IPython.core.display.HTML object>"
            ],
            "text/html": [
              "<head>\n",
              "  <style>\n",
              "    button {\n",
              "      font-size: 2rem;        /*  1 rem is 16 pixels and 12 point */\n",
              "      padding: 10px 20px;     /*  x padding and y padding         */\n",
              "    }\n",
              "  </style>\n",
              "</head>\n",
              "<body>\n",
              "  <button id=\"snack\" onclick=\"increment()\">0</button>\n",
              "  <script>\n",
              "    let delta = 1;\n",
              "    function increment() {\n",
              "      const btn = document.getElementById('snack');        // our \"snack\" clicker!\n",
              "      let count = parseInt(btn.innerText);                 // get the button number\n",
              "      if (count >= 4.2 || count <= -4.2) { delta *= -1; }  // switch the direction\n",
              "      btn.innerText = count + delta;                       // update with the current delta\n",
              "    }\n",
              "  </script>\n",
              "</body>\n",
              "</html>\n"
            ]
          },
          "metadata": {}
        }
      ]
    },
    {
      "cell_type": "code",
      "source": [
        "%%html\n",
        "<marquee style='width: 30%; color: Coral;'><b>The cookie clicke works realy nice. Might be an interesting addition to add buttons in future Fintech assignments!</b></marquee>"
      ],
      "metadata": {
        "colab": {
          "base_uri": "https://localhost:8080/",
          "height": 38
        },
        "id": "uVsDbMztzSnq",
        "outputId": "c65de7c6-e6d5-41b7-86b5-a55efc3f5b3a"
      },
      "execution_count": 20,
      "outputs": [
        {
          "output_type": "display_data",
          "data": {
            "text/plain": [
              "<IPython.core.display.HTML object>"
            ],
            "text/html": [
              "<marquee style='width: 30%; color: Coral;'><b>The cookie clicke works realy nice. Might be an interesting addition to add buttons in future Fintech assignments!</b></marquee>\n"
            ]
          },
          "metadata": {}
        }
      ]
    },
    {
      "cell_type": "markdown",
      "source": [
        "## Ok!  Let's connect to \"the\" Ethereum blockchain\n",
        "\n",
        "+ We will be using the <tt>Web3.py</tt> <i>TesterProvider</i>\n",
        "+ This is an Ethereum \"sandbox\" so that we won't have to stake any actual funds\n",
        "+ Plus, the sandbox blockchain will give us <i>lots</i> of ether!  😃"
      ],
      "metadata": {
        "id": "hUo-UOe6LGek"
      }
    },
    {
      "cell_type": "code",
      "source": [
        "#\n",
        "# Here, we create a blockchain-connected Web3 object\n",
        "#       Web3.EthereumTesterProvider() is our sandbox \"provider\"\n",
        "#\n",
        "# You WILL see some ImportWarnings...   (ignore those; they're Colab, not Ethereum or Web3)\n",
        "\n",
        "provider = Web3.EthereumTesterProvider()\n",
        "w3 = Web3(provider)\n",
        "print(\"w3 is\", w3)"
      ],
      "metadata": {
        "id": "PTby-GFYUZEB",
        "colab": {
          "base_uri": "https://localhost:8080/"
        },
        "outputId": "73c0176a-4d98-411e-effc-4ca4da9ed1dc"
      },
      "execution_count": 17,
      "outputs": [
        {
          "output_type": "stream",
          "name": "stdout",
          "text": [
            "w3 is <web3.main.Web3 object at 0x7fc934f6f150>\n"
          ]
        },
        {
          "output_type": "stream",
          "name": "stderr",
          "text": [
            "<frozen importlib._bootstrap>:1047: ImportWarning: _PyDriveImportHook.find_spec() not found; falling back to find_module()\n",
            "<frozen importlib._bootstrap>:1047: ImportWarning: _BokehImportHook.find_spec() not found; falling back to find_module()\n"
          ]
        }
      ]
    },
    {
      "cell_type": "markdown",
      "source": [
        "#### Are we connected?"
      ],
      "metadata": {
        "id": "W7Ho-gs57UDY"
      }
    },
    {
      "cell_type": "code",
      "source": [
        "w3.is_connected()"
      ],
      "metadata": {
        "id": "p2uXil-AUnev",
        "colab": {
          "base_uri": "https://localhost:8080/"
        },
        "outputId": "b8c418cd-33d2-4692-b285-b8a03020dfc9"
      },
      "execution_count": 18,
      "outputs": [
        {
          "output_type": "execute_result",
          "data": {
            "text/plain": [
              "True"
            ]
          },
          "metadata": {},
          "execution_count": 18
        }
      ]
    },
    {
      "cell_type": "code",
      "source": [
        "# Try using the completion panel and <tab> to find w3.eth.accounts ...\n",
        "\n",
        "w3"
      ],
      "metadata": {
        "id": "NxDHejh88U1d",
        "colab": {
          "base_uri": "https://localhost:8080/"
        },
        "outputId": "08569dd7-5ac9-4759-ee4f-109ef637fc9d"
      },
      "execution_count": 19,
      "outputs": [
        {
          "output_type": "execute_result",
          "data": {
            "text/plain": [
              "<web3.main.Web3 at 0x7fc934f6f150>"
            ]
          },
          "metadata": {},
          "execution_count": 19
        }
      ]
    },
    {
      "cell_type": "code",
      "source": [
        "# These are the public addresses of the accounts we have\n",
        "\n",
        "w3.eth.accounts"
      ],
      "metadata": {
        "id": "aeim-tGFUwNc",
        "colab": {
          "base_uri": "https://localhost:8080/"
        },
        "outputId": "ff473fe2-09ad-4bb7-9036-824ba17dffd6"
      },
      "execution_count": 21,
      "outputs": [
        {
          "output_type": "execute_result",
          "data": {
            "text/plain": [
              "['0x7E5F4552091A69125d5DfCb7b8C2659029395Bdf',\n",
              " '0x2B5AD5c4795c026514f8317c7a215E218DcCD6cF',\n",
              " '0x6813Eb9362372EEF6200f3b1dbC3f819671cBA69',\n",
              " '0x1efF47bc3a10a45D4B230B5d10E37751FE6AA718',\n",
              " '0xe1AB8145F7E55DC933d51a18c793F901A3A0b276',\n",
              " '0xE57bFE9F44b819898F47BF37E5AF72a0783e1141',\n",
              " '0xd41c057fd1c78805AAC12B0A94a405c0461A6FBb',\n",
              " '0xF1F6619B38A98d6De0800F1DefC0a6399eB6d30C',\n",
              " '0xF7Edc8FA1eCc32967F827C9043FcAe6ba73afA5c',\n",
              " '0x4CCeBa2d7D2B4fdcE4304d3e09a1fea9fbEb1528']"
            ]
          },
          "metadata": {},
          "execution_count": 21
        }
      ]
    },
    {
      "cell_type": "code",
      "source": [
        "# how many accounts do we have?\n",
        "len(w3.eth.accounts)"
      ],
      "metadata": {
        "id": "zRNUyWwiUqP-",
        "colab": {
          "base_uri": "https://localhost:8080/"
        },
        "outputId": "ff7e6398-a144-47dc-c10b-cc9e570eb467"
      },
      "execution_count": 22,
      "outputs": [
        {
          "output_type": "execute_result",
          "data": {
            "text/plain": [
              "10"
            ]
          },
          "metadata": {},
          "execution_count": 22
        }
      ]
    },
    {
      "cell_type": "markdown",
      "source": [
        "#### Nice!\n",
        "\n",
        "Let's see how much is in one of the accounts, say the one at index 3:"
      ],
      "metadata": {
        "id": "0-aFvrjP7ara"
      }
    },
    {
      "cell_type": "code",
      "source": [
        "current_account = w3.eth.accounts[3]  # let's use #3\n",
        "\n",
        "balance_in_wei = w3.eth.get_balance(current_account)\n",
        "\n",
        "print(f\"There are {balance_in_wei} wei in account #3.\")"
      ],
      "metadata": {
        "id": "WsklEYSi7n9f",
        "colab": {
          "base_uri": "https://localhost:8080/"
        },
        "outputId": "c152433a-ff0c-46b1-bf9c-a9f1d0f96c74"
      },
      "execution_count": 23,
      "outputs": [
        {
          "output_type": "stream",
          "name": "stdout",
          "text": [
            "There are 1000000000000000000000000 wei in account #3.\n"
          ]
        }
      ]
    },
    {
      "cell_type": "markdown",
      "source": [
        "Let's see how big this is as a power of 10. &nbsp;&nbsp; (in floating point)"
      ],
      "metadata": {
        "id": "xTdgz7657Mha"
      }
    },
    {
      "cell_type": "code",
      "source": [
        "#\n",
        "# Let's see it in floating point...\n",
        "\n",
        "w = float(balance_in_wei)\n",
        "\n",
        "print(f\"There are a total of {w = } wei (in floating point), with 10**18 wei per ETH\")"
      ],
      "metadata": {
        "collapsed": true,
        "id": "9UH0Basd7IUc",
        "colab": {
          "base_uri": "https://localhost:8080/"
        },
        "outputId": "1f111e0d-9c53-4f1b-eb4e-978e88f96ce3"
      },
      "execution_count": 24,
      "outputs": [
        {
          "output_type": "stream",
          "name": "stdout",
          "text": [
            "There are a total of w = 1e+24 wei (in floating point), with 10**18 wei per ETH\n"
          ]
        }
      ]
    },
    {
      "cell_type": "markdown",
      "source": [
        "## <b><font color=\"DodgerBlue\">Challenge #3</font></b> &nbsp;&nbsp; Count your gold! &nbsp; (or ether...)\n",
        "\n",
        "<b><font color=\"Coral\">Task</font></b> &nbsp;&nbsp;  Use your code from earlier in this notebook -- and any AI help you might want -- to create a new function (you choose the name) that\n",
        "+ finds the amount of Ether in ***all*** of your accounts\n",
        "+ adds it all up\n",
        "+ converts it to dollars\n",
        "+ prints out the total dollars you have ...\n",
        "+ and <tt>returns</tt> that value back from the function\n",
        "\n",
        "<br><br>"
      ],
      "metadata": {
        "id": "IRG355VY9DII"
      }
    },
    {
      "cell_type": "code",
      "source": [
        "#\n",
        "#  a small example of how to print all account balances\n",
        "#          feel free to adapt or remove\n",
        "\n",
        "#  this doesn't quite address the above challenge, but it's a start!\n",
        "\n",
        "def total_dollars():\n",
        "    total_in_eth = 0\n",
        "    index = 0\n",
        "    for account in w3.eth.accounts:\n",
        "        balance_in_wei = w3.eth.get_balance(account)\n",
        "        balance_in_ETH = Web3.from_wei(balance_in_wei, 'ether')\n",
        "        total_in_eth += balance_in_ETH\n",
        "        # print(f\"Account #{index}  amount: {balance_in_ETH} ether\")\n",
        "        index += 1\n",
        "\n",
        "    total_in_dollars = current_ETH * float(total_in_eth)\n",
        "    print(f'There is a total of ${total_in_dollars} from all accounts\\n')\n",
        "    return total_in_dollars\n",
        "\n",
        "total_dollars()\n",
        ""
      ],
      "metadata": {
        "id": "7O-V-3i5U1u1",
        "colab": {
          "base_uri": "https://localhost:8080/"
        },
        "outputId": "2f8fda41-5deb-4786-ae1a-459ad089cdeb"
      },
      "execution_count": 31,
      "outputs": [
        {
          "output_type": "stream",
          "name": "stdout",
          "text": [
            "There is a total of $18022800000.0 from all accounts\n",
            "\n"
          ]
        },
        {
          "output_type": "execute_result",
          "data": {
            "text/plain": [
              "18022800000.0"
            ]
          },
          "metadata": {},
          "execution_count": 31
        }
      ]
    },
    {
      "cell_type": "markdown",
      "source": [
        "## Let's transact!\n",
        "\n",
        "First, let's see the latest block in our blockchain...\n",
        "\n",
        "Then, let's create a single transaction and track its effects...\n",
        "\n",
        "Then, we'll run a whole marketplace's-worth of transactions!"
      ],
      "metadata": {
        "id": "UGDA4suz-FiZ"
      }
    },
    {
      "cell_type": "code",
      "source": [
        "# sometimes this helps...\n",
        "import warnings\n",
        "warnings.filterwarnings(\"ignore\", category=DeprecationWarning)"
      ],
      "metadata": {
        "id": "EqGzQsKE_cqw"
      },
      "execution_count": 32,
      "outputs": []
    },
    {
      "cell_type": "code",
      "source": [
        "#\n",
        "# Let's see the latest block in our blockchain:\n",
        "\n",
        "b = w3.eth.get_block('latest')   # this will be the \"genesis\" block\n",
        "b\n",
        "\n",
        "# Notice the number!"
      ],
      "metadata": {
        "id": "yHjX4x4BWe7Y",
        "colab": {
          "base_uri": "https://localhost:8080/"
        },
        "outputId": "082627b2-5bb1-4251-e268-cc952cd651aa"
      },
      "execution_count": 33,
      "outputs": [
        {
          "output_type": "execute_result",
          "data": {
            "text/plain": [
              "AttributeDict({'number': 0,\n",
              " 'hash': HexBytes('0xc65e75e29e31138a5d0ef2f0657cde045b2580bfd3217da1c60c41bf98bf0265'),\n",
              " 'parentHash': HexBytes('0x0000000000000000000000000000000000000000000000000000000000000000'),\n",
              " 'nonce': HexBytes('0x0000000000000000'),\n",
              " 'sha3Uncles': HexBytes('0x1dcc4de8dec75d7aab85b567b6ccd41ad312451b948a7413f0a142fd40d49347'),\n",
              " 'logsBloom': HexBytes('0x00'),\n",
              " 'transactionsRoot': HexBytes('0x56e81f171bcc55a6ff8345e692c0f86e5b48e01b996cadc001622fb5e363b421'),\n",
              " 'receiptsRoot': HexBytes('0x56e81f171bcc55a6ff8345e692c0f86e5b48e01b996cadc001622fb5e363b421'),\n",
              " 'stateRoot': HexBytes('0xf1588db9a9f1ed91effabdec31f93cb4212b008c8b8ba047fd55fabebf6fd727'),\n",
              " 'miner': '0x0000000000000000000000000000000000000000',\n",
              " 'difficulty': 0,\n",
              " 'totalDifficulty': 0,\n",
              " 'mixHash': HexBytes('0x0000000000000000000000000000000000000000000000000000000000000000'),\n",
              " 'size': 616,\n",
              " 'extraData': HexBytes('0x0000000000000000000000000000000000000000000000000000000000000000'),\n",
              " 'gasLimit': 30029122,\n",
              " 'gasUsed': 0,\n",
              " 'timestamp': 1746420937,\n",
              " 'transactions': [],\n",
              " 'uncles': [],\n",
              " 'baseFeePerGas': 1000000000,\n",
              " 'withdrawals': [],\n",
              " 'withdrawalsRoot': HexBytes('0x56e81f171bcc55a6ff8345e692c0f86e5b48e01b996cadc001622fb5e363b421'),\n",
              " 'parentBeaconBlockRoot': HexBytes('0x56e81f171bcc55a6ff8345e692c0f86e5b48e01b996cadc001622fb5e363b421'),\n",
              " 'blobGasUsed': 0,\n",
              " 'excessBlobGas': 0,\n",
              " 'requestsHash': HexBytes('0xe3b0c44298fc1c149afbf4c8996fb92427ae41e4649b934ca495991b7852b855')})"
            ]
          },
          "metadata": {},
          "execution_count": 33
        }
      ]
    },
    {
      "cell_type": "code",
      "source": [
        "# Let's check the block's number, specifically\n",
        "# Note that b is a dictionary:\n",
        "\n",
        "print(\"Block b's number is \", b['number'])"
      ],
      "metadata": {
        "id": "ENYx5Ot8B9Ai",
        "colab": {
          "base_uri": "https://localhost:8080/"
        },
        "outputId": "2849fe6b-d592-4717-aa83-ded669261058"
      },
      "execution_count": 34,
      "outputs": [
        {
          "output_type": "stream",
          "name": "stdout",
          "text": [
            "Block b's number is  0\n"
          ]
        }
      ]
    },
    {
      "cell_type": "markdown",
      "source": [
        "#### Now, let's try our single, one-time transaction\n",
        "\n",
        "<i>Warning</i>: &nbsp;&nbsp; If you run this more than once, it will transact more than once!\n",
        "\n",
        "<font size=\"-1\">This is not really a warning, actually. Try it! 😀</font>"
      ],
      "metadata": {
        "id": "2WqbpeKgAh6u"
      }
    },
    {
      "cell_type": "code",
      "source": [
        "# sometimes this helps with the warnings we don't want:\n",
        "warnings.filterwarnings(\"ignore\", category=ImportWarning)"
      ],
      "metadata": {
        "id": "e-E1vuZSBL0u"
      },
      "execution_count": 35,
      "outputs": []
    },
    {
      "cell_type": "code",
      "source": [
        "#\n",
        "# Let's create a single transaction:\n",
        "#       Notice that the transaction is a dictionary\n",
        "#       It's created, sent to the chain, and a hash is returned:\n",
        "\n",
        "transaction = {                          # the transaction is a dictionary!\n",
        "    'from': w3.eth.accounts[3],          # from acct 3\n",
        "    'to': w3.eth.accounts[8],            # to acct 8\n",
        "    'value': w3.to_wei(42000, 'ether')   # amount is 42,000 ether!\n",
        "}\n",
        "\n",
        "# now, we send the transaction to the blockchain:\n",
        "tx_hash = w3.eth.send_transaction(transaction)\n",
        "\n",
        "# let's look at its resulting hash\n",
        "print(\"Done!\\n\")\n",
        "print(f\"The transaction hash is ... {tx_hash = }\")"
      ],
      "metadata": {
        "id": "eCEm296LWtB_",
        "colab": {
          "base_uri": "https://localhost:8080/"
        },
        "outputId": "3c015b19-7d54-4e89-e0bd-58a35318012c"
      },
      "execution_count": 56,
      "outputs": [
        {
          "output_type": "stream",
          "name": "stdout",
          "text": [
            "Done!\n",
            "\n",
            "The transaction hash is ... tx_hash = HexBytes('0x2a526eed099ba13372ff7d7529539455a1d14208f5c978f98d6c4503da93344e')\n"
          ]
        }
      ]
    },
    {
      "cell_type": "code",
      "source": [
        "#\n",
        "# getting the transaction is possible through that transaction hash\n",
        "\n",
        "# It will return a dictionary of values:\n",
        "d = w3.eth.get_transaction(tx_hash)\n",
        "d"
      ],
      "metadata": {
        "id": "x_UIR_yBiJXf",
        "colab": {
          "base_uri": "https://localhost:8080/"
        },
        "outputId": "94c95ed9-f9d4-4d6e-cd4f-2e7c767ff15e"
      },
      "execution_count": 53,
      "outputs": [
        {
          "output_type": "execute_result",
          "data": {
            "text/plain": [
              "AttributeDict({'type': 2,\n",
              " 'hash': HexBytes('0x80f5636e7ee599c8f4f114c23ac18ebf5529ad9cb3709c750b4d14e949219ce8'),\n",
              " 'nonce': 1,\n",
              " 'blockHash': HexBytes('0xc0bc49190ef27ee76167b1a49aea9c0702ef40a68a5d77e68172cd9beeb3b451'),\n",
              " 'blockNumber': 7,\n",
              " 'transactionIndex': 0,\n",
              " 'from': '0x1efF47bc3a10a45D4B230B5d10E37751FE6AA718',\n",
              " 'to': '0xF7Edc8FA1eCc32967F827C9043FcAe6ba73afA5c',\n",
              " 'value': 42000000000000000000000,\n",
              " 'gas': 121000,\n",
              " 'input': HexBytes('0x'),\n",
              " 'chainId': 131277322940537,\n",
              " 'accessList': [],\n",
              " 'maxFeePerGas': 1000000000,\n",
              " 'maxPriorityFeePerGas': 1000000000,\n",
              " 'gasPrice': 1000000000,\n",
              " 'v': 1,\n",
              " 's': HexBytes('0x33812d7b7386c196cd13c65dd15914b84e1ad7d8926f29dc77788570874b788c'),\n",
              " 'r': HexBytes('0xdf4f731c840f5bcfa95ddd6644611c4e862af7f468afaf91bbc61512053e9db3'),\n",
              " 'y_parity': 1})"
            ]
          },
          "metadata": {},
          "execution_count": 53
        }
      ]
    },
    {
      "cell_type": "code",
      "source": [
        "#\n",
        "# let's get the block number from within those transaction details...\n",
        "\n",
        "block_number = d['blockNumber']\n",
        "print(f\"{block_number = }\")"
      ],
      "metadata": {
        "id": "3g6JVO7FDLrH",
        "colab": {
          "base_uri": "https://localhost:8080/"
        },
        "outputId": "82063cd1-f2fb-4f15-dec7-56a9627ca287"
      },
      "execution_count": 54,
      "outputs": [
        {
          "output_type": "stream",
          "name": "stdout",
          "text": [
            "block_number = 7\n"
          ]
        }
      ]
    },
    {
      "cell_type": "code",
      "source": [
        "#\n",
        "# Then, let's get that block, from the blocknumber!\n",
        "\n",
        "b = w3.eth.get_block(block_number)\n",
        "b"
      ],
      "metadata": {
        "id": "qS_WFmuEi6_a",
        "colab": {
          "base_uri": "https://localhost:8080/"
        },
        "outputId": "5d4bf710-54ce-4f62-c908-7d363442c0ce"
      },
      "execution_count": 55,
      "outputs": [
        {
          "output_type": "execute_result",
          "data": {
            "text/plain": [
              "AttributeDict({'number': 7,\n",
              " 'hash': HexBytes('0xc0bc49190ef27ee76167b1a49aea9c0702ef40a68a5d77e68172cd9beeb3b451'),\n",
              " 'parentHash': HexBytes('0x099374bcd4da79424f2e1051562705726c4509e2ea7891a8303fa8b20e378ab8'),\n",
              " 'nonce': HexBytes('0x0000000000000000'),\n",
              " 'sha3Uncles': HexBytes('0x1dcc4de8dec75d7aab85b567b6ccd41ad312451b948a7413f0a142fd40d49347'),\n",
              " 'logsBloom': HexBytes('0x00'),\n",
              " 'transactionsRoot': HexBytes('0xba516965b643159db5338f6559c8e48fa96928e84baa5f4d21786f24b16c3a5f'),\n",
              " 'receiptsRoot': HexBytes('0xf78dfb743fbd92ade140711c8bbc542b5e307f0ab7984eff35d751969fe57efa'),\n",
              " 'stateRoot': HexBytes('0xcc90554a0b3d5a9f7b11a74c20052f8a4388c367878eab240293a6023296d386'),\n",
              " 'miner': '0x0000000000000000000000000000000000000000',\n",
              " 'difficulty': 0,\n",
              " 'totalDifficulty': 0,\n",
              " 'mixHash': HexBytes('0x4c31306e188151a166d6650bacba3b6c5686eecf552986e16468da0c34ce38fc'),\n",
              " 'size': 747,\n",
              " 'extraData': HexBytes('0x0000000000000000000000000000000000000000000000000000000000000000'),\n",
              " 'gasLimit': 30029122,\n",
              " 'gasUsed': 21000,\n",
              " 'timestamp': 1746422923,\n",
              " 'transactions': [HexBytes('0x80f5636e7ee599c8f4f114c23ac18ebf5529ad9cb3709c750b4d14e949219ce8')],\n",
              " 'uncles': [],\n",
              " 'baseFeePerGas': 393166919,\n",
              " 'withdrawals': [],\n",
              " 'withdrawalsRoot': HexBytes('0x56e81f171bcc55a6ff8345e692c0f86e5b48e01b996cadc001622fb5e363b421'),\n",
              " 'parentBeaconBlockRoot': HexBytes('0x56e81f171bcc55a6ff8345e692c0f86e5b48e01b996cadc001622fb5e363b421'),\n",
              " 'blobGasUsed': 0,\n",
              " 'excessBlobGas': 0,\n",
              " 'requestsHash': HexBytes('0xe3b0c44298fc1c149afbf4c8996fb92427ae41e4649b934ca495991b7852b855')})"
            ]
          },
          "metadata": {},
          "execution_count": 55
        }
      ]
    },
    {
      "cell_type": "code",
      "source": [
        "#\n",
        "# Which should be the same as getting the latest block:\n",
        "\n",
        "b = w3.eth.get_block('latest')\n",
        "b"
      ],
      "metadata": {
        "id": "xavr9-xrMyTB",
        "colab": {
          "base_uri": "https://localhost:8080/"
        },
        "outputId": "a8b283b8-db28-43a5-bf0e-6b6272468a7b"
      },
      "execution_count": 40,
      "outputs": [
        {
          "output_type": "execute_result",
          "data": {
            "text/plain": [
              "AttributeDict({'number': 1,\n",
              " 'hash': HexBytes('0xc4a2e0b2c353f64cd93c20c00772c2e066450d0ed90dbc81b5073527240e8306'),\n",
              " 'parentHash': HexBytes('0xc65e75e29e31138a5d0ef2f0657cde045b2580bfd3217da1c60c41bf98bf0265'),\n",
              " 'nonce': HexBytes('0x0000000000000000'),\n",
              " 'sha3Uncles': HexBytes('0x1dcc4de8dec75d7aab85b567b6ccd41ad312451b948a7413f0a142fd40d49347'),\n",
              " 'logsBloom': HexBytes('0x00'),\n",
              " 'transactionsRoot': HexBytes('0x17d3e8d6d3c1eb2134fc842f7c17fef4d1331a2c77f66424dd2fe088939e3ca1'),\n",
              " 'receiptsRoot': HexBytes('0xf78dfb743fbd92ade140711c8bbc542b5e307f0ab7984eff35d751969fe57efa'),\n",
              " 'stateRoot': HexBytes('0xa4c270ad3b9e8e8a02a39e034b5e6e0fee6b2f496de6ca6a15d3e1678759f47a'),\n",
              " 'miner': '0x0000000000000000000000000000000000000000',\n",
              " 'difficulty': 0,\n",
              " 'totalDifficulty': 0,\n",
              " 'mixHash': HexBytes('0xf0ccca38ad5ca8cc872dcb4bf2f4f47530e9939b572b86890b164f9e495c5fd7'),\n",
              " 'size': 747,\n",
              " 'extraData': HexBytes('0x0000000000000000000000000000000000000000000000000000000000000000'),\n",
              " 'gasLimit': 30029122,\n",
              " 'gasUsed': 21000,\n",
              " 'timestamp': 1746420938,\n",
              " 'transactions': [HexBytes('0x3d3c9ef273414609a1329c3dad2f57bb27f8c5e1cbe143619f29f0137fcea687')],\n",
              " 'uncles': [],\n",
              " 'baseFeePerGas': 875000000,\n",
              " 'withdrawals': [],\n",
              " 'withdrawalsRoot': HexBytes('0x56e81f171bcc55a6ff8345e692c0f86e5b48e01b996cadc001622fb5e363b421'),\n",
              " 'parentBeaconBlockRoot': HexBytes('0x56e81f171bcc55a6ff8345e692c0f86e5b48e01b996cadc001622fb5e363b421'),\n",
              " 'blobGasUsed': 0,\n",
              " 'excessBlobGas': 0,\n",
              " 'requestsHash': HexBytes('0xe3b0c44298fc1c149afbf4c8996fb92427ae41e4649b934ca495991b7852b855')})"
            ]
          },
          "metadata": {},
          "execution_count": 40
        }
      ]
    },
    {
      "cell_type": "markdown",
      "source": [
        "### Let's see the <font color=\"DodgerBlue\"><b>current amount</b></font> in each of the accounts:"
      ],
      "metadata": {
        "id": "QATiTFfdCqWv"
      }
    },
    {
      "cell_type": "code",
      "source": [
        "#\n",
        "#  a small example of how to print all account balances\n",
        "#                  feel free to adapt or remove!\n",
        "\n",
        "index = 0\n",
        "for account in w3.eth.accounts:\n",
        "    balance_in_wei = w3.eth.get_balance(account)\n",
        "    balance_in_ETH = Web3.from_wei(balance_in_wei, 'ether')\n",
        "    print(f\"Account #{index}  amount: {balance_in_ETH} ether\")\n",
        "    index += 1\n",
        "\n",
        "\n",
        "# create total, function, return, ..."
      ],
      "metadata": {
        "id": "IFYC5jJgCmBk",
        "colab": {
          "base_uri": "https://localhost:8080/"
        },
        "outputId": "062c7b90-f7c5-4ed9-d5ac-4c0503c1fee0"
      },
      "execution_count": 41,
      "outputs": [
        {
          "output_type": "stream",
          "name": "stdout",
          "text": [
            "Account #0  amount: 1000000 ether\n",
            "Account #1  amount: 1000000 ether\n",
            "Account #2  amount: 1000000 ether\n",
            "Account #3  amount: 957999.999979 ether\n",
            "Account #4  amount: 1000000 ether\n",
            "Account #5  amount: 1000000 ether\n",
            "Account #6  amount: 1000000 ether\n",
            "Account #7  amount: 1000000 ether\n",
            "Account #8  amount: 1042000 ether\n",
            "Account #9  amount: 1000000 ether\n"
          ]
        }
      ]
    },
    {
      "cell_type": "markdown",
      "source": [
        "### What if we don't have enough currency for the requested transaction?\n",
        "\n",
        "If a transaction is requested for too-large an amount, the request fails and it is rolled back.\n",
        "\n",
        "Let's try it:"
      ],
      "metadata": {
        "id": "dm3Hhki6M_Eg"
      }
    },
    {
      "cell_type": "code",
      "source": [
        "#\n",
        "# Let's create a single transaction for TOO MUCH ether\n",
        "#       Notice that the transaction is a dictionary\n",
        "#       It's created, sent to the chain, and a hash is returned:\n",
        "\n",
        "transaction = {                          # the transaction is a dictionary!\n",
        "    'from': w3.eth.accounts[3],          # from acct 3\n",
        "    'to': w3.eth.accounts[8],            # to acct 8\n",
        "    'value': w3.to_wei(42_000_000, 'ether')   # amount is 42 _million_ ether!\n",
        "}\n",
        "\n",
        "# now, we send the transaction to the blockchain:\n",
        "tx_hash = w3.eth.send_transaction(transaction)\n",
        "\n",
        "# let's look at its resulting hash\n",
        "print(\"Done!\\n\")\n",
        "tx_hash"
      ],
      "metadata": {
        "id": "_otwuYijNO_G",
        "colab": {
          "base_uri": "https://localhost:8080/",
          "height": 373
        },
        "outputId": "d3a2138a-b6fb-4455-ee46-46c825f464b1"
      },
      "execution_count": 42,
      "outputs": [
        {
          "output_type": "error",
          "ename": "ValidationError",
          "evalue": "Sender does not have enough balance to cover transaction value and gas  (has 957999999979000000000000, needs 42000000000021000000000000)",
          "traceback": [
            "\u001b[0;31m---------------------------------------------------------------------------\u001b[0m",
            "\u001b[0;31mValidationError\u001b[0m                           Traceback (most recent call last)",
            "\u001b[0;32m<ipython-input-42-f6f91bf269fe>\u001b[0m in \u001b[0;36m<cell line: 0>\u001b[0;34m()\u001b[0m\n\u001b[1;32m     11\u001b[0m \u001b[0;34m\u001b[0m\u001b[0m\n\u001b[1;32m     12\u001b[0m \u001b[0;31m# now, we send the transaction to the blockchain:\u001b[0m\u001b[0;34m\u001b[0m\u001b[0;34m\u001b[0m\u001b[0m\n\u001b[0;32m---> 13\u001b[0;31m \u001b[0mtx_hash\u001b[0m \u001b[0;34m=\u001b[0m \u001b[0mw3\u001b[0m\u001b[0;34m.\u001b[0m\u001b[0meth\u001b[0m\u001b[0;34m.\u001b[0m\u001b[0msend_transaction\u001b[0m\u001b[0;34m(\u001b[0m\u001b[0mtransaction\u001b[0m\u001b[0;34m)\u001b[0m\u001b[0;34m\u001b[0m\u001b[0;34m\u001b[0m\u001b[0m\n\u001b[0m\u001b[1;32m     14\u001b[0m \u001b[0;34m\u001b[0m\u001b[0m\n\u001b[1;32m     15\u001b[0m \u001b[0;31m# let's look at its resulting hash\u001b[0m\u001b[0;34m\u001b[0m\u001b[0;34m\u001b[0m\u001b[0m\n",
            "\u001b[0;32m/usr/local/lib/python3.11/dist-packages/web3/eth/eth.py\u001b[0m in \u001b[0;36msend_transaction\u001b[0;34m(self, transaction)\u001b[0m\n\u001b[1;32m    384\u001b[0m \u001b[0;34m\u001b[0m\u001b[0m\n\u001b[1;32m    385\u001b[0m     \u001b[0;32mdef\u001b[0m \u001b[0msend_transaction\u001b[0m\u001b[0;34m(\u001b[0m\u001b[0mself\u001b[0m\u001b[0;34m,\u001b[0m \u001b[0mtransaction\u001b[0m\u001b[0;34m:\u001b[0m \u001b[0mTxParams\u001b[0m\u001b[0;34m)\u001b[0m \u001b[0;34m->\u001b[0m \u001b[0mHexBytes\u001b[0m\u001b[0;34m:\u001b[0m\u001b[0;34m\u001b[0m\u001b[0;34m\u001b[0m\u001b[0m\n\u001b[0;32m--> 386\u001b[0;31m         \u001b[0;32mreturn\u001b[0m \u001b[0mself\u001b[0m\u001b[0;34m.\u001b[0m\u001b[0m_send_transaction\u001b[0m\u001b[0;34m(\u001b[0m\u001b[0mtransaction\u001b[0m\u001b[0;34m)\u001b[0m\u001b[0;34m\u001b[0m\u001b[0;34m\u001b[0m\u001b[0m\n\u001b[0m\u001b[1;32m    387\u001b[0m \u001b[0;34m\u001b[0m\u001b[0m\n\u001b[1;32m    388\u001b[0m     \u001b[0;31m# eth_sendRawTransaction\u001b[0m\u001b[0;34m\u001b[0m\u001b[0;34m\u001b[0m\u001b[0m\n",
            "\u001b[0;32m/usr/local/lib/python3.11/dist-packages/web3/module.py\u001b[0m in \u001b[0;36mcaller\u001b[0;34m(*args, **kwargs)\u001b[0m\n\u001b[1;32m    110\u001b[0m             \u001b[0mnull_result_formatters\u001b[0m\u001b[0;34m,\u001b[0m\u001b[0;34m\u001b[0m\u001b[0;34m\u001b[0m\u001b[0m\n\u001b[1;32m    111\u001b[0m         ) = response_formatters\n\u001b[0;32m--> 112\u001b[0;31m         result = w3.manager.request_blocking(\n\u001b[0m\u001b[1;32m    113\u001b[0m             \u001b[0mmethod_str\u001b[0m\u001b[0;34m,\u001b[0m \u001b[0mparams\u001b[0m\u001b[0;34m,\u001b[0m \u001b[0merror_formatters\u001b[0m\u001b[0;34m,\u001b[0m \u001b[0mnull_result_formatters\u001b[0m\u001b[0;34m\u001b[0m\u001b[0;34m\u001b[0m\u001b[0m\n\u001b[1;32m    114\u001b[0m         )\n",
            "\u001b[0;32m/usr/local/lib/python3.11/dist-packages/web3/manager.py\u001b[0m in \u001b[0;36mrequest_blocking\u001b[0;34m(self, method, params, error_formatters, null_result_formatters)\u001b[0m\n\u001b[1;32m    229\u001b[0m         \u001b[0mMake\u001b[0m \u001b[0ma\u001b[0m \u001b[0msynchronous\u001b[0m \u001b[0mrequest\u001b[0m \u001b[0musing\u001b[0m \u001b[0mthe\u001b[0m \u001b[0mprovider\u001b[0m\u001b[0;34m\u001b[0m\u001b[0;34m\u001b[0m\u001b[0m\n\u001b[1;32m    230\u001b[0m         \"\"\"\n\u001b[0;32m--> 231\u001b[0;31m         \u001b[0mresponse\u001b[0m \u001b[0;34m=\u001b[0m \u001b[0mself\u001b[0m\u001b[0;34m.\u001b[0m\u001b[0m_make_request\u001b[0m\u001b[0;34m(\u001b[0m\u001b[0mmethod\u001b[0m\u001b[0;34m,\u001b[0m \u001b[0mparams\u001b[0m\u001b[0;34m)\u001b[0m\u001b[0;34m\u001b[0m\u001b[0;34m\u001b[0m\u001b[0m\n\u001b[0m\u001b[1;32m    232\u001b[0m         return self.formatted_response(\n\u001b[1;32m    233\u001b[0m             \u001b[0mresponse\u001b[0m\u001b[0;34m,\u001b[0m \u001b[0mparams\u001b[0m\u001b[0;34m,\u001b[0m \u001b[0merror_formatters\u001b[0m\u001b[0;34m,\u001b[0m \u001b[0mnull_result_formatters\u001b[0m\u001b[0;34m\u001b[0m\u001b[0;34m\u001b[0m\u001b[0m\n",
            "\u001b[0;32m/usr/local/lib/python3.11/dist-packages/web3/manager.py\u001b[0m in \u001b[0;36m_make_request\u001b[0;34m(self, method, params)\u001b[0m\n\u001b[1;32m    161\u001b[0m         )\n\u001b[1;32m    162\u001b[0m         \u001b[0mself\u001b[0m\u001b[0;34m.\u001b[0m\u001b[0mlogger\u001b[0m\u001b[0;34m.\u001b[0m\u001b[0mdebug\u001b[0m\u001b[0;34m(\u001b[0m\u001b[0;34mf\"Making request. Method: {method}\"\u001b[0m\u001b[0;34m)\u001b[0m\u001b[0;34m\u001b[0m\u001b[0;34m\u001b[0m\u001b[0m\n\u001b[0;32m--> 163\u001b[0;31m         \u001b[0;32mreturn\u001b[0m \u001b[0mrequest_func\u001b[0m\u001b[0;34m(\u001b[0m\u001b[0mmethod\u001b[0m\u001b[0;34m,\u001b[0m \u001b[0mparams\u001b[0m\u001b[0;34m)\u001b[0m\u001b[0;34m\u001b[0m\u001b[0;34m\u001b[0m\u001b[0m\n\u001b[0m\u001b[1;32m    164\u001b[0m \u001b[0;34m\u001b[0m\u001b[0m\n\u001b[1;32m    165\u001b[0m     async def _coro_make_request(\n",
            "\u001b[0;32m/usr/local/lib/python3.11/dist-packages/web3/middleware/base.py\u001b[0m in \u001b[0;36mmiddleware\u001b[0;34m(method, params)\u001b[0m\n\u001b[1;32m     54\u001b[0m         \u001b[0;32mdef\u001b[0m \u001b[0mmiddleware\u001b[0m\u001b[0;34m(\u001b[0m\u001b[0mmethod\u001b[0m\u001b[0;34m:\u001b[0m \u001b[0;34m\"RPCEndpoint\"\u001b[0m\u001b[0;34m,\u001b[0m \u001b[0mparams\u001b[0m\u001b[0;34m:\u001b[0m \u001b[0mAny\u001b[0m\u001b[0;34m)\u001b[0m \u001b[0;34m->\u001b[0m \u001b[0;34m\"RPCResponse\"\u001b[0m\u001b[0;34m:\u001b[0m\u001b[0;34m\u001b[0m\u001b[0;34m\u001b[0m\u001b[0m\n\u001b[1;32m     55\u001b[0m             \u001b[0mmethod\u001b[0m\u001b[0;34m,\u001b[0m \u001b[0mparams\u001b[0m \u001b[0;34m=\u001b[0m \u001b[0mself\u001b[0m\u001b[0;34m.\u001b[0m\u001b[0mrequest_processor\u001b[0m\u001b[0;34m(\u001b[0m\u001b[0mmethod\u001b[0m\u001b[0;34m,\u001b[0m \u001b[0mparams\u001b[0m\u001b[0;34m)\u001b[0m\u001b[0;34m\u001b[0m\u001b[0;34m\u001b[0m\u001b[0m\n\u001b[0;32m---> 56\u001b[0;31m             \u001b[0;32mreturn\u001b[0m \u001b[0mself\u001b[0m\u001b[0;34m.\u001b[0m\u001b[0mresponse_processor\u001b[0m\u001b[0;34m(\u001b[0m\u001b[0mmethod\u001b[0m\u001b[0;34m,\u001b[0m \u001b[0mmake_request\u001b[0m\u001b[0;34m(\u001b[0m\u001b[0mmethod\u001b[0m\u001b[0;34m,\u001b[0m \u001b[0mparams\u001b[0m\u001b[0;34m)\u001b[0m\u001b[0;34m)\u001b[0m\u001b[0;34m\u001b[0m\u001b[0;34m\u001b[0m\u001b[0m\n\u001b[0m\u001b[1;32m     57\u001b[0m \u001b[0;34m\u001b[0m\u001b[0m\n\u001b[1;32m     58\u001b[0m         \u001b[0;32mreturn\u001b[0m \u001b[0mmiddleware\u001b[0m\u001b[0;34m\u001b[0m\u001b[0;34m\u001b[0m\u001b[0m\n",
            "\u001b[0;32m/usr/local/lib/python3.11/dist-packages/web3/middleware/base.py\u001b[0m in \u001b[0;36mmiddleware\u001b[0;34m(method, params)\u001b[0m\n\u001b[1;32m     54\u001b[0m         \u001b[0;32mdef\u001b[0m \u001b[0mmiddleware\u001b[0m\u001b[0;34m(\u001b[0m\u001b[0mmethod\u001b[0m\u001b[0;34m:\u001b[0m \u001b[0;34m\"RPCEndpoint\"\u001b[0m\u001b[0;34m,\u001b[0m \u001b[0mparams\u001b[0m\u001b[0;34m:\u001b[0m \u001b[0mAny\u001b[0m\u001b[0;34m)\u001b[0m \u001b[0;34m->\u001b[0m \u001b[0;34m\"RPCResponse\"\u001b[0m\u001b[0;34m:\u001b[0m\u001b[0;34m\u001b[0m\u001b[0;34m\u001b[0m\u001b[0m\n\u001b[1;32m     55\u001b[0m             \u001b[0mmethod\u001b[0m\u001b[0;34m,\u001b[0m \u001b[0mparams\u001b[0m \u001b[0;34m=\u001b[0m \u001b[0mself\u001b[0m\u001b[0;34m.\u001b[0m\u001b[0mrequest_processor\u001b[0m\u001b[0;34m(\u001b[0m\u001b[0mmethod\u001b[0m\u001b[0;34m,\u001b[0m \u001b[0mparams\u001b[0m\u001b[0;34m)\u001b[0m\u001b[0;34m\u001b[0m\u001b[0;34m\u001b[0m\u001b[0m\n\u001b[0;32m---> 56\u001b[0;31m             \u001b[0;32mreturn\u001b[0m \u001b[0mself\u001b[0m\u001b[0;34m.\u001b[0m\u001b[0mresponse_processor\u001b[0m\u001b[0;34m(\u001b[0m\u001b[0mmethod\u001b[0m\u001b[0;34m,\u001b[0m \u001b[0mmake_request\u001b[0m\u001b[0;34m(\u001b[0m\u001b[0mmethod\u001b[0m\u001b[0;34m,\u001b[0m \u001b[0mparams\u001b[0m\u001b[0;34m)\u001b[0m\u001b[0;34m)\u001b[0m\u001b[0;34m\u001b[0m\u001b[0;34m\u001b[0m\u001b[0m\n\u001b[0m\u001b[1;32m     57\u001b[0m \u001b[0;34m\u001b[0m\u001b[0m\n\u001b[1;32m     58\u001b[0m         \u001b[0;32mreturn\u001b[0m \u001b[0mmiddleware\u001b[0m\u001b[0;34m\u001b[0m\u001b[0;34m\u001b[0m\u001b[0m\n",
            "\u001b[0;32m/usr/local/lib/python3.11/dist-packages/web3/middleware/base.py\u001b[0m in \u001b[0;36mmiddleware\u001b[0;34m(method, params)\u001b[0m\n\u001b[1;32m     54\u001b[0m         \u001b[0;32mdef\u001b[0m \u001b[0mmiddleware\u001b[0m\u001b[0;34m(\u001b[0m\u001b[0mmethod\u001b[0m\u001b[0;34m:\u001b[0m \u001b[0;34m\"RPCEndpoint\"\u001b[0m\u001b[0;34m,\u001b[0m \u001b[0mparams\u001b[0m\u001b[0;34m:\u001b[0m \u001b[0mAny\u001b[0m\u001b[0;34m)\u001b[0m \u001b[0;34m->\u001b[0m \u001b[0;34m\"RPCResponse\"\u001b[0m\u001b[0;34m:\u001b[0m\u001b[0;34m\u001b[0m\u001b[0;34m\u001b[0m\u001b[0m\n\u001b[1;32m     55\u001b[0m             \u001b[0mmethod\u001b[0m\u001b[0;34m,\u001b[0m \u001b[0mparams\u001b[0m \u001b[0;34m=\u001b[0m \u001b[0mself\u001b[0m\u001b[0;34m.\u001b[0m\u001b[0mrequest_processor\u001b[0m\u001b[0;34m(\u001b[0m\u001b[0mmethod\u001b[0m\u001b[0;34m,\u001b[0m \u001b[0mparams\u001b[0m\u001b[0;34m)\u001b[0m\u001b[0;34m\u001b[0m\u001b[0;34m\u001b[0m\u001b[0m\n\u001b[0;32m---> 56\u001b[0;31m             \u001b[0;32mreturn\u001b[0m \u001b[0mself\u001b[0m\u001b[0;34m.\u001b[0m\u001b[0mresponse_processor\u001b[0m\u001b[0;34m(\u001b[0m\u001b[0mmethod\u001b[0m\u001b[0;34m,\u001b[0m \u001b[0mmake_request\u001b[0m\u001b[0;34m(\u001b[0m\u001b[0mmethod\u001b[0m\u001b[0;34m,\u001b[0m \u001b[0mparams\u001b[0m\u001b[0;34m)\u001b[0m\u001b[0;34m)\u001b[0m\u001b[0;34m\u001b[0m\u001b[0;34m\u001b[0m\u001b[0m\n\u001b[0m\u001b[1;32m     57\u001b[0m \u001b[0;34m\u001b[0m\u001b[0m\n\u001b[1;32m     58\u001b[0m         \u001b[0;32mreturn\u001b[0m \u001b[0mmiddleware\u001b[0m\u001b[0;34m\u001b[0m\u001b[0;34m\u001b[0m\u001b[0m\n",
            "\u001b[0;32m/usr/local/lib/python3.11/dist-packages/web3/middleware/base.py\u001b[0m in \u001b[0;36mmiddleware\u001b[0;34m(method, params)\u001b[0m\n\u001b[1;32m     54\u001b[0m         \u001b[0;32mdef\u001b[0m \u001b[0mmiddleware\u001b[0m\u001b[0;34m(\u001b[0m\u001b[0mmethod\u001b[0m\u001b[0;34m:\u001b[0m \u001b[0;34m\"RPCEndpoint\"\u001b[0m\u001b[0;34m,\u001b[0m \u001b[0mparams\u001b[0m\u001b[0;34m:\u001b[0m \u001b[0mAny\u001b[0m\u001b[0;34m)\u001b[0m \u001b[0;34m->\u001b[0m \u001b[0;34m\"RPCResponse\"\u001b[0m\u001b[0;34m:\u001b[0m\u001b[0;34m\u001b[0m\u001b[0;34m\u001b[0m\u001b[0m\n\u001b[1;32m     55\u001b[0m             \u001b[0mmethod\u001b[0m\u001b[0;34m,\u001b[0m \u001b[0mparams\u001b[0m \u001b[0;34m=\u001b[0m \u001b[0mself\u001b[0m\u001b[0;34m.\u001b[0m\u001b[0mrequest_processor\u001b[0m\u001b[0;34m(\u001b[0m\u001b[0mmethod\u001b[0m\u001b[0;34m,\u001b[0m \u001b[0mparams\u001b[0m\u001b[0;34m)\u001b[0m\u001b[0;34m\u001b[0m\u001b[0;34m\u001b[0m\u001b[0m\n\u001b[0;32m---> 56\u001b[0;31m             \u001b[0;32mreturn\u001b[0m \u001b[0mself\u001b[0m\u001b[0;34m.\u001b[0m\u001b[0mresponse_processor\u001b[0m\u001b[0;34m(\u001b[0m\u001b[0mmethod\u001b[0m\u001b[0;34m,\u001b[0m \u001b[0mmake_request\u001b[0m\u001b[0;34m(\u001b[0m\u001b[0mmethod\u001b[0m\u001b[0;34m,\u001b[0m \u001b[0mparams\u001b[0m\u001b[0;34m)\u001b[0m\u001b[0;34m)\u001b[0m\u001b[0;34m\u001b[0m\u001b[0;34m\u001b[0m\u001b[0m\n\u001b[0m\u001b[1;32m     57\u001b[0m \u001b[0;34m\u001b[0m\u001b[0m\n\u001b[1;32m     58\u001b[0m         \u001b[0;32mreturn\u001b[0m \u001b[0mmiddleware\u001b[0m\u001b[0;34m\u001b[0m\u001b[0;34m\u001b[0m\u001b[0m\n",
            "\u001b[0;32m/usr/local/lib/python3.11/dist-packages/web3/middleware/base.py\u001b[0m in \u001b[0;36mmiddleware\u001b[0;34m(method, params)\u001b[0m\n\u001b[1;32m     53\u001b[0m     \u001b[0;32mdef\u001b[0m \u001b[0mwrap_make_request\u001b[0m\u001b[0;34m(\u001b[0m\u001b[0mself\u001b[0m\u001b[0;34m,\u001b[0m \u001b[0mmake_request\u001b[0m\u001b[0;34m:\u001b[0m \u001b[0;34m\"MakeRequestFn\"\u001b[0m\u001b[0;34m)\u001b[0m \u001b[0;34m->\u001b[0m \u001b[0;34m\"MakeRequestFn\"\u001b[0m\u001b[0;34m:\u001b[0m\u001b[0;34m\u001b[0m\u001b[0;34m\u001b[0m\u001b[0m\n\u001b[1;32m     54\u001b[0m         \u001b[0;32mdef\u001b[0m \u001b[0mmiddleware\u001b[0m\u001b[0;34m(\u001b[0m\u001b[0mmethod\u001b[0m\u001b[0;34m:\u001b[0m \u001b[0;34m\"RPCEndpoint\"\u001b[0m\u001b[0;34m,\u001b[0m \u001b[0mparams\u001b[0m\u001b[0;34m:\u001b[0m \u001b[0mAny\u001b[0m\u001b[0;34m)\u001b[0m \u001b[0;34m->\u001b[0m \u001b[0;34m\"RPCResponse\"\u001b[0m\u001b[0;34m:\u001b[0m\u001b[0;34m\u001b[0m\u001b[0;34m\u001b[0m\u001b[0m\n\u001b[0;32m---> 55\u001b[0;31m             \u001b[0mmethod\u001b[0m\u001b[0;34m,\u001b[0m \u001b[0mparams\u001b[0m \u001b[0;34m=\u001b[0m \u001b[0mself\u001b[0m\u001b[0;34m.\u001b[0m\u001b[0mrequest_processor\u001b[0m\u001b[0;34m(\u001b[0m\u001b[0mmethod\u001b[0m\u001b[0;34m,\u001b[0m \u001b[0mparams\u001b[0m\u001b[0;34m)\u001b[0m\u001b[0;34m\u001b[0m\u001b[0;34m\u001b[0m\u001b[0m\n\u001b[0m\u001b[1;32m     56\u001b[0m             \u001b[0;32mreturn\u001b[0m \u001b[0mself\u001b[0m\u001b[0;34m.\u001b[0m\u001b[0mresponse_processor\u001b[0m\u001b[0;34m(\u001b[0m\u001b[0mmethod\u001b[0m\u001b[0;34m,\u001b[0m \u001b[0mmake_request\u001b[0m\u001b[0;34m(\u001b[0m\u001b[0mmethod\u001b[0m\u001b[0;34m,\u001b[0m \u001b[0mparams\u001b[0m\u001b[0;34m)\u001b[0m\u001b[0;34m)\u001b[0m\u001b[0;34m\u001b[0m\u001b[0;34m\u001b[0m\u001b[0m\n\u001b[1;32m     57\u001b[0m \u001b[0;34m\u001b[0m\u001b[0m\n",
            "\u001b[0;32m/usr/local/lib/python3.11/dist-packages/web3/middleware/buffered_gas_estimate.py\u001b[0m in \u001b[0;36mrequest_processor\u001b[0;34m(self, method, params)\u001b[0m\n\u001b[1;32m     41\u001b[0m                     \u001b[0mtransaction\u001b[0m\u001b[0;34m,\u001b[0m\u001b[0;34m\u001b[0m\u001b[0;34m\u001b[0m\u001b[0m\n\u001b[1;32m     42\u001b[0m                     \u001b[0;34m\"gas\"\u001b[0m\u001b[0;34m,\u001b[0m\u001b[0;34m\u001b[0m\u001b[0;34m\u001b[0m\u001b[0m\n\u001b[0;32m---> 43\u001b[0;31m                     \u001b[0mhex\u001b[0m\u001b[0;34m(\u001b[0m\u001b[0mget_buffered_gas_estimate\u001b[0m\u001b[0;34m(\u001b[0m\u001b[0mcast\u001b[0m\u001b[0;34m(\u001b[0m\u001b[0;34m\"Web3\"\u001b[0m\u001b[0;34m,\u001b[0m \u001b[0mself\u001b[0m\u001b[0;34m.\u001b[0m\u001b[0m_w3\u001b[0m\u001b[0;34m)\u001b[0m\u001b[0;34m,\u001b[0m \u001b[0mtransaction\u001b[0m\u001b[0;34m)\u001b[0m\u001b[0;34m)\u001b[0m\u001b[0;34m,\u001b[0m\u001b[0;34m\u001b[0m\u001b[0;34m\u001b[0m\u001b[0m\n\u001b[0m\u001b[1;32m     44\u001b[0m                 )\n\u001b[1;32m     45\u001b[0m                 \u001b[0mparams\u001b[0m \u001b[0;34m=\u001b[0m \u001b[0;34m(\u001b[0m\u001b[0mtransaction\u001b[0m\u001b[0;34m,\u001b[0m\u001b[0;34m)\u001b[0m\u001b[0;34m\u001b[0m\u001b[0;34m\u001b[0m\u001b[0m\n",
            "\u001b[0;32m/usr/local/lib/python3.11/dist-packages/web3/_utils/transactions.py\u001b[0m in \u001b[0;36mget_buffered_gas_estimate\u001b[0;34m(w3, transaction, gas_buffer)\u001b[0m\n\u001b[1;32m    159\u001b[0m     \u001b[0mgas_estimate_transaction\u001b[0m \u001b[0;34m=\u001b[0m \u001b[0mcast\u001b[0m\u001b[0;34m(\u001b[0m\u001b[0mTxParams\u001b[0m\u001b[0;34m,\u001b[0m \u001b[0mdict\u001b[0m\u001b[0;34m(\u001b[0m\u001b[0;34m**\u001b[0m\u001b[0mtransaction\u001b[0m\u001b[0;34m)\u001b[0m\u001b[0;34m)\u001b[0m\u001b[0;34m\u001b[0m\u001b[0;34m\u001b[0m\u001b[0m\n\u001b[1;32m    160\u001b[0m \u001b[0;34m\u001b[0m\u001b[0m\n\u001b[0;32m--> 161\u001b[0;31m     \u001b[0mgas_estimate\u001b[0m \u001b[0;34m=\u001b[0m \u001b[0mw3\u001b[0m\u001b[0;34m.\u001b[0m\u001b[0meth\u001b[0m\u001b[0;34m.\u001b[0m\u001b[0mestimate_gas\u001b[0m\u001b[0;34m(\u001b[0m\u001b[0mgas_estimate_transaction\u001b[0m\u001b[0;34m)\u001b[0m\u001b[0;34m\u001b[0m\u001b[0;34m\u001b[0m\u001b[0m\n\u001b[0m\u001b[1;32m    162\u001b[0m \u001b[0;34m\u001b[0m\u001b[0m\n\u001b[1;32m    163\u001b[0m     \u001b[0mgas_limit\u001b[0m \u001b[0;34m=\u001b[0m \u001b[0mget_block_gas_limit\u001b[0m\u001b[0;34m(\u001b[0m\u001b[0mw3\u001b[0m\u001b[0;34m)\u001b[0m\u001b[0;34m\u001b[0m\u001b[0;34m\u001b[0m\u001b[0m\n",
            "\u001b[0;32m/usr/local/lib/python3.11/dist-packages/web3/eth/eth.py\u001b[0m in \u001b[0;36mestimate_gas\u001b[0;34m(self, transaction, block_identifier, state_override)\u001b[0m\n\u001b[1;32m    314\u001b[0m         \u001b[0mstate_override\u001b[0m\u001b[0;34m:\u001b[0m \u001b[0mOptional\u001b[0m\u001b[0;34m[\u001b[0m\u001b[0mStateOverride\u001b[0m\u001b[0;34m]\u001b[0m \u001b[0;34m=\u001b[0m \u001b[0;32mNone\u001b[0m\u001b[0;34m,\u001b[0m\u001b[0;34m\u001b[0m\u001b[0;34m\u001b[0m\u001b[0m\n\u001b[1;32m    315\u001b[0m     ) -> int:\n\u001b[0;32m--> 316\u001b[0;31m         \u001b[0;32mreturn\u001b[0m \u001b[0mself\u001b[0m\u001b[0;34m.\u001b[0m\u001b[0m_estimate_gas\u001b[0m\u001b[0;34m(\u001b[0m\u001b[0mtransaction\u001b[0m\u001b[0;34m,\u001b[0m \u001b[0mblock_identifier\u001b[0m\u001b[0;34m,\u001b[0m \u001b[0mstate_override\u001b[0m\u001b[0;34m)\u001b[0m\u001b[0;34m\u001b[0m\u001b[0;34m\u001b[0m\u001b[0m\n\u001b[0m\u001b[1;32m    317\u001b[0m \u001b[0;34m\u001b[0m\u001b[0m\n\u001b[1;32m    318\u001b[0m     \u001b[0;31m# eth_getTransactionByHash\u001b[0m\u001b[0;34m\u001b[0m\u001b[0;34m\u001b[0m\u001b[0m\n",
            "\u001b[0;32m/usr/local/lib/python3.11/dist-packages/web3/module.py\u001b[0m in \u001b[0;36mcaller\u001b[0;34m(*args, **kwargs)\u001b[0m\n\u001b[1;32m    110\u001b[0m             \u001b[0mnull_result_formatters\u001b[0m\u001b[0;34m,\u001b[0m\u001b[0;34m\u001b[0m\u001b[0;34m\u001b[0m\u001b[0m\n\u001b[1;32m    111\u001b[0m         ) = response_formatters\n\u001b[0;32m--> 112\u001b[0;31m         result = w3.manager.request_blocking(\n\u001b[0m\u001b[1;32m    113\u001b[0m             \u001b[0mmethod_str\u001b[0m\u001b[0;34m,\u001b[0m \u001b[0mparams\u001b[0m\u001b[0;34m,\u001b[0m \u001b[0merror_formatters\u001b[0m\u001b[0;34m,\u001b[0m \u001b[0mnull_result_formatters\u001b[0m\u001b[0;34m\u001b[0m\u001b[0;34m\u001b[0m\u001b[0m\n\u001b[1;32m    114\u001b[0m         )\n",
            "\u001b[0;32m/usr/local/lib/python3.11/dist-packages/web3/manager.py\u001b[0m in \u001b[0;36mrequest_blocking\u001b[0;34m(self, method, params, error_formatters, null_result_formatters)\u001b[0m\n\u001b[1;32m    229\u001b[0m         \u001b[0mMake\u001b[0m \u001b[0ma\u001b[0m \u001b[0msynchronous\u001b[0m \u001b[0mrequest\u001b[0m \u001b[0musing\u001b[0m \u001b[0mthe\u001b[0m \u001b[0mprovider\u001b[0m\u001b[0;34m\u001b[0m\u001b[0;34m\u001b[0m\u001b[0m\n\u001b[1;32m    230\u001b[0m         \"\"\"\n\u001b[0;32m--> 231\u001b[0;31m         \u001b[0mresponse\u001b[0m \u001b[0;34m=\u001b[0m \u001b[0mself\u001b[0m\u001b[0;34m.\u001b[0m\u001b[0m_make_request\u001b[0m\u001b[0;34m(\u001b[0m\u001b[0mmethod\u001b[0m\u001b[0;34m,\u001b[0m \u001b[0mparams\u001b[0m\u001b[0;34m)\u001b[0m\u001b[0;34m\u001b[0m\u001b[0;34m\u001b[0m\u001b[0m\n\u001b[0m\u001b[1;32m    232\u001b[0m         return self.formatted_response(\n\u001b[1;32m    233\u001b[0m             \u001b[0mresponse\u001b[0m\u001b[0;34m,\u001b[0m \u001b[0mparams\u001b[0m\u001b[0;34m,\u001b[0m \u001b[0merror_formatters\u001b[0m\u001b[0;34m,\u001b[0m \u001b[0mnull_result_formatters\u001b[0m\u001b[0;34m\u001b[0m\u001b[0;34m\u001b[0m\u001b[0m\n",
            "\u001b[0;32m/usr/local/lib/python3.11/dist-packages/web3/manager.py\u001b[0m in \u001b[0;36m_make_request\u001b[0;34m(self, method, params)\u001b[0m\n\u001b[1;32m    161\u001b[0m         )\n\u001b[1;32m    162\u001b[0m         \u001b[0mself\u001b[0m\u001b[0;34m.\u001b[0m\u001b[0mlogger\u001b[0m\u001b[0;34m.\u001b[0m\u001b[0mdebug\u001b[0m\u001b[0;34m(\u001b[0m\u001b[0;34mf\"Making request. Method: {method}\"\u001b[0m\u001b[0;34m)\u001b[0m\u001b[0;34m\u001b[0m\u001b[0;34m\u001b[0m\u001b[0m\n\u001b[0;32m--> 163\u001b[0;31m         \u001b[0;32mreturn\u001b[0m \u001b[0mrequest_func\u001b[0m\u001b[0;34m(\u001b[0m\u001b[0mmethod\u001b[0m\u001b[0;34m,\u001b[0m \u001b[0mparams\u001b[0m\u001b[0;34m)\u001b[0m\u001b[0;34m\u001b[0m\u001b[0;34m\u001b[0m\u001b[0m\n\u001b[0m\u001b[1;32m    164\u001b[0m \u001b[0;34m\u001b[0m\u001b[0m\n\u001b[1;32m    165\u001b[0m     async def _coro_make_request(\n",
            "\u001b[0;32m/usr/local/lib/python3.11/dist-packages/web3/middleware/base.py\u001b[0m in \u001b[0;36mmiddleware\u001b[0;34m(method, params)\u001b[0m\n\u001b[1;32m     54\u001b[0m         \u001b[0;32mdef\u001b[0m \u001b[0mmiddleware\u001b[0m\u001b[0;34m(\u001b[0m\u001b[0mmethod\u001b[0m\u001b[0;34m:\u001b[0m \u001b[0;34m\"RPCEndpoint\"\u001b[0m\u001b[0;34m,\u001b[0m \u001b[0mparams\u001b[0m\u001b[0;34m:\u001b[0m \u001b[0mAny\u001b[0m\u001b[0;34m)\u001b[0m \u001b[0;34m->\u001b[0m \u001b[0;34m\"RPCResponse\"\u001b[0m\u001b[0;34m:\u001b[0m\u001b[0;34m\u001b[0m\u001b[0;34m\u001b[0m\u001b[0m\n\u001b[1;32m     55\u001b[0m             \u001b[0mmethod\u001b[0m\u001b[0;34m,\u001b[0m \u001b[0mparams\u001b[0m \u001b[0;34m=\u001b[0m \u001b[0mself\u001b[0m\u001b[0;34m.\u001b[0m\u001b[0mrequest_processor\u001b[0m\u001b[0;34m(\u001b[0m\u001b[0mmethod\u001b[0m\u001b[0;34m,\u001b[0m \u001b[0mparams\u001b[0m\u001b[0;34m)\u001b[0m\u001b[0;34m\u001b[0m\u001b[0;34m\u001b[0m\u001b[0m\n\u001b[0;32m---> 56\u001b[0;31m             \u001b[0;32mreturn\u001b[0m \u001b[0mself\u001b[0m\u001b[0;34m.\u001b[0m\u001b[0mresponse_processor\u001b[0m\u001b[0;34m(\u001b[0m\u001b[0mmethod\u001b[0m\u001b[0;34m,\u001b[0m \u001b[0mmake_request\u001b[0m\u001b[0;34m(\u001b[0m\u001b[0mmethod\u001b[0m\u001b[0;34m,\u001b[0m \u001b[0mparams\u001b[0m\u001b[0;34m)\u001b[0m\u001b[0;34m)\u001b[0m\u001b[0;34m\u001b[0m\u001b[0;34m\u001b[0m\u001b[0m\n\u001b[0m\u001b[1;32m     57\u001b[0m \u001b[0;34m\u001b[0m\u001b[0m\n\u001b[1;32m     58\u001b[0m         \u001b[0;32mreturn\u001b[0m \u001b[0mmiddleware\u001b[0m\u001b[0;34m\u001b[0m\u001b[0;34m\u001b[0m\u001b[0m\n",
            "\u001b[0;32m/usr/local/lib/python3.11/dist-packages/web3/middleware/base.py\u001b[0m in \u001b[0;36mmiddleware\u001b[0;34m(method, params)\u001b[0m\n\u001b[1;32m     54\u001b[0m         \u001b[0;32mdef\u001b[0m \u001b[0mmiddleware\u001b[0m\u001b[0;34m(\u001b[0m\u001b[0mmethod\u001b[0m\u001b[0;34m:\u001b[0m \u001b[0;34m\"RPCEndpoint\"\u001b[0m\u001b[0;34m,\u001b[0m \u001b[0mparams\u001b[0m\u001b[0;34m:\u001b[0m \u001b[0mAny\u001b[0m\u001b[0;34m)\u001b[0m \u001b[0;34m->\u001b[0m \u001b[0;34m\"RPCResponse\"\u001b[0m\u001b[0;34m:\u001b[0m\u001b[0;34m\u001b[0m\u001b[0;34m\u001b[0m\u001b[0m\n\u001b[1;32m     55\u001b[0m             \u001b[0mmethod\u001b[0m\u001b[0;34m,\u001b[0m \u001b[0mparams\u001b[0m \u001b[0;34m=\u001b[0m \u001b[0mself\u001b[0m\u001b[0;34m.\u001b[0m\u001b[0mrequest_processor\u001b[0m\u001b[0;34m(\u001b[0m\u001b[0mmethod\u001b[0m\u001b[0;34m,\u001b[0m \u001b[0mparams\u001b[0m\u001b[0;34m)\u001b[0m\u001b[0;34m\u001b[0m\u001b[0;34m\u001b[0m\u001b[0m\n\u001b[0;32m---> 56\u001b[0;31m             \u001b[0;32mreturn\u001b[0m \u001b[0mself\u001b[0m\u001b[0;34m.\u001b[0m\u001b[0mresponse_processor\u001b[0m\u001b[0;34m(\u001b[0m\u001b[0mmethod\u001b[0m\u001b[0;34m,\u001b[0m \u001b[0mmake_request\u001b[0m\u001b[0;34m(\u001b[0m\u001b[0mmethod\u001b[0m\u001b[0;34m,\u001b[0m \u001b[0mparams\u001b[0m\u001b[0;34m)\u001b[0m\u001b[0;34m)\u001b[0m\u001b[0;34m\u001b[0m\u001b[0;34m\u001b[0m\u001b[0m\n\u001b[0m\u001b[1;32m     57\u001b[0m \u001b[0;34m\u001b[0m\u001b[0m\n\u001b[1;32m     58\u001b[0m         \u001b[0;32mreturn\u001b[0m \u001b[0mmiddleware\u001b[0m\u001b[0;34m\u001b[0m\u001b[0;34m\u001b[0m\u001b[0m\n",
            "\u001b[0;32m/usr/local/lib/python3.11/dist-packages/web3/middleware/base.py\u001b[0m in \u001b[0;36mmiddleware\u001b[0;34m(method, params)\u001b[0m\n\u001b[1;32m     54\u001b[0m         \u001b[0;32mdef\u001b[0m \u001b[0mmiddleware\u001b[0m\u001b[0;34m(\u001b[0m\u001b[0mmethod\u001b[0m\u001b[0;34m:\u001b[0m \u001b[0;34m\"RPCEndpoint\"\u001b[0m\u001b[0;34m,\u001b[0m \u001b[0mparams\u001b[0m\u001b[0;34m:\u001b[0m \u001b[0mAny\u001b[0m\u001b[0;34m)\u001b[0m \u001b[0;34m->\u001b[0m \u001b[0;34m\"RPCResponse\"\u001b[0m\u001b[0;34m:\u001b[0m\u001b[0;34m\u001b[0m\u001b[0;34m\u001b[0m\u001b[0m\n\u001b[1;32m     55\u001b[0m             \u001b[0mmethod\u001b[0m\u001b[0;34m,\u001b[0m \u001b[0mparams\u001b[0m \u001b[0;34m=\u001b[0m \u001b[0mself\u001b[0m\u001b[0;34m.\u001b[0m\u001b[0mrequest_processor\u001b[0m\u001b[0;34m(\u001b[0m\u001b[0mmethod\u001b[0m\u001b[0;34m,\u001b[0m \u001b[0mparams\u001b[0m\u001b[0;34m)\u001b[0m\u001b[0;34m\u001b[0m\u001b[0;34m\u001b[0m\u001b[0m\n\u001b[0;32m---> 56\u001b[0;31m             \u001b[0;32mreturn\u001b[0m \u001b[0mself\u001b[0m\u001b[0;34m.\u001b[0m\u001b[0mresponse_processor\u001b[0m\u001b[0;34m(\u001b[0m\u001b[0mmethod\u001b[0m\u001b[0;34m,\u001b[0m \u001b[0mmake_request\u001b[0m\u001b[0;34m(\u001b[0m\u001b[0mmethod\u001b[0m\u001b[0;34m,\u001b[0m \u001b[0mparams\u001b[0m\u001b[0;34m)\u001b[0m\u001b[0;34m)\u001b[0m\u001b[0;34m\u001b[0m\u001b[0;34m\u001b[0m\u001b[0m\n\u001b[0m\u001b[1;32m     57\u001b[0m \u001b[0;34m\u001b[0m\u001b[0m\n\u001b[1;32m     58\u001b[0m         \u001b[0;32mreturn\u001b[0m \u001b[0mmiddleware\u001b[0m\u001b[0;34m\u001b[0m\u001b[0;34m\u001b[0m\u001b[0m\n",
            "\u001b[0;32m/usr/local/lib/python3.11/dist-packages/web3/middleware/base.py\u001b[0m in \u001b[0;36mmiddleware\u001b[0;34m(method, params)\u001b[0m\n\u001b[1;32m     54\u001b[0m         \u001b[0;32mdef\u001b[0m \u001b[0mmiddleware\u001b[0m\u001b[0;34m(\u001b[0m\u001b[0mmethod\u001b[0m\u001b[0;34m:\u001b[0m \u001b[0;34m\"RPCEndpoint\"\u001b[0m\u001b[0;34m,\u001b[0m \u001b[0mparams\u001b[0m\u001b[0;34m:\u001b[0m \u001b[0mAny\u001b[0m\u001b[0;34m)\u001b[0m \u001b[0;34m->\u001b[0m \u001b[0;34m\"RPCResponse\"\u001b[0m\u001b[0;34m:\u001b[0m\u001b[0;34m\u001b[0m\u001b[0;34m\u001b[0m\u001b[0m\n\u001b[1;32m     55\u001b[0m             \u001b[0mmethod\u001b[0m\u001b[0;34m,\u001b[0m \u001b[0mparams\u001b[0m \u001b[0;34m=\u001b[0m \u001b[0mself\u001b[0m\u001b[0;34m.\u001b[0m\u001b[0mrequest_processor\u001b[0m\u001b[0;34m(\u001b[0m\u001b[0mmethod\u001b[0m\u001b[0;34m,\u001b[0m \u001b[0mparams\u001b[0m\u001b[0;34m)\u001b[0m\u001b[0;34m\u001b[0m\u001b[0;34m\u001b[0m\u001b[0m\n\u001b[0;32m---> 56\u001b[0;31m             \u001b[0;32mreturn\u001b[0m \u001b[0mself\u001b[0m\u001b[0;34m.\u001b[0m\u001b[0mresponse_processor\u001b[0m\u001b[0;34m(\u001b[0m\u001b[0mmethod\u001b[0m\u001b[0;34m,\u001b[0m \u001b[0mmake_request\u001b[0m\u001b[0;34m(\u001b[0m\u001b[0mmethod\u001b[0m\u001b[0;34m,\u001b[0m \u001b[0mparams\u001b[0m\u001b[0;34m)\u001b[0m\u001b[0;34m)\u001b[0m\u001b[0;34m\u001b[0m\u001b[0;34m\u001b[0m\u001b[0m\n\u001b[0m\u001b[1;32m     57\u001b[0m \u001b[0;34m\u001b[0m\u001b[0m\n\u001b[1;32m     58\u001b[0m         \u001b[0;32mreturn\u001b[0m \u001b[0mmiddleware\u001b[0m\u001b[0;34m\u001b[0m\u001b[0;34m\u001b[0m\u001b[0m\n",
            "\u001b[0;32m/usr/local/lib/python3.11/dist-packages/web3/middleware/base.py\u001b[0m in \u001b[0;36mmiddleware\u001b[0;34m(method, params)\u001b[0m\n\u001b[1;32m     54\u001b[0m         \u001b[0;32mdef\u001b[0m \u001b[0mmiddleware\u001b[0m\u001b[0;34m(\u001b[0m\u001b[0mmethod\u001b[0m\u001b[0;34m:\u001b[0m \u001b[0;34m\"RPCEndpoint\"\u001b[0m\u001b[0;34m,\u001b[0m \u001b[0mparams\u001b[0m\u001b[0;34m:\u001b[0m \u001b[0mAny\u001b[0m\u001b[0;34m)\u001b[0m \u001b[0;34m->\u001b[0m \u001b[0;34m\"RPCResponse\"\u001b[0m\u001b[0;34m:\u001b[0m\u001b[0;34m\u001b[0m\u001b[0;34m\u001b[0m\u001b[0m\n\u001b[1;32m     55\u001b[0m             \u001b[0mmethod\u001b[0m\u001b[0;34m,\u001b[0m \u001b[0mparams\u001b[0m \u001b[0;34m=\u001b[0m \u001b[0mself\u001b[0m\u001b[0;34m.\u001b[0m\u001b[0mrequest_processor\u001b[0m\u001b[0;34m(\u001b[0m\u001b[0mmethod\u001b[0m\u001b[0;34m,\u001b[0m \u001b[0mparams\u001b[0m\u001b[0;34m)\u001b[0m\u001b[0;34m\u001b[0m\u001b[0;34m\u001b[0m\u001b[0m\n\u001b[0;32m---> 56\u001b[0;31m             \u001b[0;32mreturn\u001b[0m \u001b[0mself\u001b[0m\u001b[0;34m.\u001b[0m\u001b[0mresponse_processor\u001b[0m\u001b[0;34m(\u001b[0m\u001b[0mmethod\u001b[0m\u001b[0;34m,\u001b[0m \u001b[0mmake_request\u001b[0m\u001b[0;34m(\u001b[0m\u001b[0mmethod\u001b[0m\u001b[0;34m,\u001b[0m \u001b[0mparams\u001b[0m\u001b[0;34m)\u001b[0m\u001b[0;34m)\u001b[0m\u001b[0;34m\u001b[0m\u001b[0;34m\u001b[0m\u001b[0m\n\u001b[0m\u001b[1;32m     57\u001b[0m \u001b[0;34m\u001b[0m\u001b[0m\n\u001b[1;32m     58\u001b[0m         \u001b[0;32mreturn\u001b[0m \u001b[0mmiddleware\u001b[0m\u001b[0;34m\u001b[0m\u001b[0;34m\u001b[0m\u001b[0m\n",
            "\u001b[0;32m/usr/local/lib/python3.11/dist-packages/web3/middleware/base.py\u001b[0m in \u001b[0;36mmiddleware\u001b[0;34m(method, params)\u001b[0m\n\u001b[1;32m     54\u001b[0m         \u001b[0;32mdef\u001b[0m \u001b[0mmiddleware\u001b[0m\u001b[0;34m(\u001b[0m\u001b[0mmethod\u001b[0m\u001b[0;34m:\u001b[0m \u001b[0;34m\"RPCEndpoint\"\u001b[0m\u001b[0;34m,\u001b[0m \u001b[0mparams\u001b[0m\u001b[0;34m:\u001b[0m \u001b[0mAny\u001b[0m\u001b[0;34m)\u001b[0m \u001b[0;34m->\u001b[0m \u001b[0;34m\"RPCResponse\"\u001b[0m\u001b[0;34m:\u001b[0m\u001b[0;34m\u001b[0m\u001b[0;34m\u001b[0m\u001b[0m\n\u001b[1;32m     55\u001b[0m             \u001b[0mmethod\u001b[0m\u001b[0;34m,\u001b[0m \u001b[0mparams\u001b[0m \u001b[0;34m=\u001b[0m \u001b[0mself\u001b[0m\u001b[0;34m.\u001b[0m\u001b[0mrequest_processor\u001b[0m\u001b[0;34m(\u001b[0m\u001b[0mmethod\u001b[0m\u001b[0;34m,\u001b[0m \u001b[0mparams\u001b[0m\u001b[0;34m)\u001b[0m\u001b[0;34m\u001b[0m\u001b[0;34m\u001b[0m\u001b[0m\n\u001b[0;32m---> 56\u001b[0;31m             \u001b[0;32mreturn\u001b[0m \u001b[0mself\u001b[0m\u001b[0;34m.\u001b[0m\u001b[0mresponse_processor\u001b[0m\u001b[0;34m(\u001b[0m\u001b[0mmethod\u001b[0m\u001b[0;34m,\u001b[0m \u001b[0mmake_request\u001b[0m\u001b[0;34m(\u001b[0m\u001b[0mmethod\u001b[0m\u001b[0;34m,\u001b[0m \u001b[0mparams\u001b[0m\u001b[0;34m)\u001b[0m\u001b[0;34m)\u001b[0m\u001b[0;34m\u001b[0m\u001b[0;34m\u001b[0m\u001b[0m\n\u001b[0m\u001b[1;32m     57\u001b[0m \u001b[0;34m\u001b[0m\u001b[0m\n\u001b[1;32m     58\u001b[0m         \u001b[0;32mreturn\u001b[0m \u001b[0mmiddleware\u001b[0m\u001b[0;34m\u001b[0m\u001b[0;34m\u001b[0m\u001b[0m\n",
            "\u001b[0;32m/usr/local/lib/python3.11/dist-packages/web3/middleware/base.py\u001b[0m in \u001b[0;36mmiddleware\u001b[0;34m(method, params)\u001b[0m\n\u001b[1;32m     54\u001b[0m         \u001b[0;32mdef\u001b[0m \u001b[0mmiddleware\u001b[0m\u001b[0;34m(\u001b[0m\u001b[0mmethod\u001b[0m\u001b[0;34m:\u001b[0m \u001b[0;34m\"RPCEndpoint\"\u001b[0m\u001b[0;34m,\u001b[0m \u001b[0mparams\u001b[0m\u001b[0;34m:\u001b[0m \u001b[0mAny\u001b[0m\u001b[0;34m)\u001b[0m \u001b[0;34m->\u001b[0m \u001b[0;34m\"RPCResponse\"\u001b[0m\u001b[0;34m:\u001b[0m\u001b[0;34m\u001b[0m\u001b[0;34m\u001b[0m\u001b[0m\n\u001b[1;32m     55\u001b[0m             \u001b[0mmethod\u001b[0m\u001b[0;34m,\u001b[0m \u001b[0mparams\u001b[0m \u001b[0;34m=\u001b[0m \u001b[0mself\u001b[0m\u001b[0;34m.\u001b[0m\u001b[0mrequest_processor\u001b[0m\u001b[0;34m(\u001b[0m\u001b[0mmethod\u001b[0m\u001b[0;34m,\u001b[0m \u001b[0mparams\u001b[0m\u001b[0;34m)\u001b[0m\u001b[0;34m\u001b[0m\u001b[0;34m\u001b[0m\u001b[0m\n\u001b[0;32m---> 56\u001b[0;31m             \u001b[0;32mreturn\u001b[0m \u001b[0mself\u001b[0m\u001b[0;34m.\u001b[0m\u001b[0mresponse_processor\u001b[0m\u001b[0;34m(\u001b[0m\u001b[0mmethod\u001b[0m\u001b[0;34m,\u001b[0m \u001b[0mmake_request\u001b[0m\u001b[0;34m(\u001b[0m\u001b[0mmethod\u001b[0m\u001b[0;34m,\u001b[0m \u001b[0mparams\u001b[0m\u001b[0;34m)\u001b[0m\u001b[0;34m)\u001b[0m\u001b[0;34m\u001b[0m\u001b[0;34m\u001b[0m\u001b[0m\n\u001b[0m\u001b[1;32m     57\u001b[0m \u001b[0;34m\u001b[0m\u001b[0m\n\u001b[1;32m     58\u001b[0m         \u001b[0;32mreturn\u001b[0m \u001b[0mmiddleware\u001b[0m\u001b[0;34m\u001b[0m\u001b[0;34m\u001b[0m\u001b[0m\n",
            "\u001b[0;32m/usr/local/lib/python3.11/dist-packages/web3/providers/eth_tester/main.py\u001b[0m in \u001b[0;36mmake_request\u001b[0;34m(self, method, params)\u001b[0m\n\u001b[1;32m    185\u001b[0m \u001b[0;34m\u001b[0m\u001b[0m\n\u001b[1;32m    186\u001b[0m     \u001b[0;32mdef\u001b[0m \u001b[0mmake_request\u001b[0m\u001b[0;34m(\u001b[0m\u001b[0mself\u001b[0m\u001b[0;34m,\u001b[0m \u001b[0mmethod\u001b[0m\u001b[0;34m:\u001b[0m \u001b[0mRPCEndpoint\u001b[0m\u001b[0;34m,\u001b[0m \u001b[0mparams\u001b[0m\u001b[0;34m:\u001b[0m \u001b[0mAny\u001b[0m\u001b[0;34m)\u001b[0m \u001b[0;34m->\u001b[0m \u001b[0mRPCResponse\u001b[0m\u001b[0;34m:\u001b[0m\u001b[0;34m\u001b[0m\u001b[0;34m\u001b[0m\u001b[0m\n\u001b[0;32m--> 187\u001b[0;31m         response = _make_request(\n\u001b[0m\u001b[1;32m    188\u001b[0m             \u001b[0mmethod\u001b[0m\u001b[0;34m,\u001b[0m\u001b[0;34m\u001b[0m\u001b[0;34m\u001b[0m\u001b[0m\n\u001b[1;32m    189\u001b[0m             \u001b[0mparams\u001b[0m\u001b[0;34m,\u001b[0m\u001b[0;34m\u001b[0m\u001b[0;34m\u001b[0m\u001b[0m\n",
            "\u001b[0;32m/usr/local/lib/python3.11/dist-packages/web3/providers/eth_tester/main.py\u001b[0m in \u001b[0;36m_make_request\u001b[0;34m(method, params, api_endpoints, ethereum_tester_instance, request_id)\u001b[0m\n\u001b[1;32m    233\u001b[0m         \u001b[0;32mreturn\u001b[0m \u001b[0m_make_response\u001b[0m\u001b[0;34m(\u001b[0m\u001b[0me\u001b[0m\u001b[0;34m,\u001b[0m \u001b[0mrequest_id\u001b[0m\u001b[0;34m,\u001b[0m \u001b[0mmessage\u001b[0m\u001b[0;34m=\u001b[0m\u001b[0;34mf\"Unknown RPC Endpoint: {method}\"\u001b[0m\u001b[0;34m)\u001b[0m\u001b[0;34m\u001b[0m\u001b[0;34m\u001b[0m\u001b[0m\n\u001b[1;32m    234\u001b[0m     \u001b[0;32mtry\u001b[0m\u001b[0;34m:\u001b[0m\u001b[0;34m\u001b[0m\u001b[0;34m\u001b[0m\u001b[0m\n\u001b[0;32m--> 235\u001b[0;31m         \u001b[0mresponse\u001b[0m \u001b[0;34m=\u001b[0m \u001b[0mdelegator\u001b[0m\u001b[0;34m(\u001b[0m\u001b[0methereum_tester_instance\u001b[0m\u001b[0;34m,\u001b[0m \u001b[0mparams\u001b[0m\u001b[0;34m)\u001b[0m\u001b[0;34m\u001b[0m\u001b[0;34m\u001b[0m\u001b[0m\n\u001b[0m\u001b[1;32m    236\u001b[0m     \u001b[0;32mexcept\u001b[0m \u001b[0mNotImplementedError\u001b[0m \u001b[0;32mas\u001b[0m \u001b[0me\u001b[0m\u001b[0;34m:\u001b[0m\u001b[0;34m\u001b[0m\u001b[0;34m\u001b[0m\u001b[0m\n\u001b[1;32m    237\u001b[0m         return _make_response(\n",
            "\u001b[0;32m/usr/local/lib/python3.11/dist-packages/cytoolz/functoolz.pyx\u001b[0m in \u001b[0;36mcytoolz.functoolz.curry.__call__\u001b[0;34m()\u001b[0m\n",
            "\u001b[0;32m/usr/local/lib/python3.11/dist-packages/web3/providers/eth_tester/defaults.py\u001b[0m in \u001b[0;36mcall_eth_tester\u001b[0;34m(fn_name, eth_tester, fn_args, fn_kwargs)\u001b[0m\n\u001b[1;32m     83\u001b[0m \u001b[0;34m\u001b[0m\u001b[0m\n\u001b[1;32m     84\u001b[0m     \u001b[0;32mtry\u001b[0m\u001b[0;34m:\u001b[0m\u001b[0;34m\u001b[0m\u001b[0;34m\u001b[0m\u001b[0m\n\u001b[0;32m---> 85\u001b[0;31m         \u001b[0;32mreturn\u001b[0m \u001b[0mgetattr\u001b[0m\u001b[0;34m(\u001b[0m\u001b[0meth_tester\u001b[0m\u001b[0;34m,\u001b[0m \u001b[0mfn_name\u001b[0m\u001b[0;34m)\u001b[0m\u001b[0;34m(\u001b[0m\u001b[0;34m*\u001b[0m\u001b[0mfn_args\u001b[0m\u001b[0;34m,\u001b[0m \u001b[0;34m**\u001b[0m\u001b[0mfn_kwargs\u001b[0m\u001b[0;34m)\u001b[0m\u001b[0;34m\u001b[0m\u001b[0;34m\u001b[0m\u001b[0m\n\u001b[0m\u001b[1;32m     86\u001b[0m     \u001b[0;32mexcept\u001b[0m \u001b[0mTransactionFailed\u001b[0m \u001b[0;32mas\u001b[0m \u001b[0me\u001b[0m\u001b[0;34m:\u001b[0m\u001b[0;34m\u001b[0m\u001b[0;34m\u001b[0m\u001b[0m\n\u001b[1;32m     87\u001b[0m         \u001b[0mpossible_data\u001b[0m \u001b[0;34m=\u001b[0m \u001b[0me\u001b[0m\u001b[0;34m.\u001b[0m\u001b[0margs\u001b[0m\u001b[0;34m[\u001b[0m\u001b[0;36m0\u001b[0m\u001b[0;34m]\u001b[0m\u001b[0;34m\u001b[0m\u001b[0;34m\u001b[0m\u001b[0m\n",
            "\u001b[0;32m/usr/local/lib/python3.11/dist-packages/eth_tester/main.py\u001b[0m in \u001b[0;36mestimate_gas\u001b[0;34m(self, transaction, block_number)\u001b[0m\n\u001b[1;32m    511\u001b[0m         \u001b[0mself\u001b[0m\u001b[0;34m.\u001b[0m\u001b[0mvalidator\u001b[0m\u001b[0;34m.\u001b[0m\u001b[0mvalidate_inbound_block_number\u001b[0m\u001b[0;34m(\u001b[0m\u001b[0mblock_number\u001b[0m\u001b[0;34m)\u001b[0m\u001b[0;34m\u001b[0m\u001b[0;34m\u001b[0m\u001b[0m\n\u001b[1;32m    512\u001b[0m         \u001b[0mraw_block_number\u001b[0m \u001b[0;34m=\u001b[0m \u001b[0mself\u001b[0m\u001b[0;34m.\u001b[0m\u001b[0mnormalizer\u001b[0m\u001b[0;34m.\u001b[0m\u001b[0mnormalize_inbound_block_number\u001b[0m\u001b[0;34m(\u001b[0m\u001b[0mblock_number\u001b[0m\u001b[0;34m)\u001b[0m\u001b[0;34m\u001b[0m\u001b[0;34m\u001b[0m\u001b[0m\n\u001b[0;32m--> 513\u001b[0;31m         \u001b[0mraw_gas_estimate\u001b[0m \u001b[0;34m=\u001b[0m \u001b[0mself\u001b[0m\u001b[0;34m.\u001b[0m\u001b[0mbackend\u001b[0m\u001b[0;34m.\u001b[0m\u001b[0mestimate_gas\u001b[0m\u001b[0;34m(\u001b[0m\u001b[0mraw_transaction\u001b[0m\u001b[0;34m,\u001b[0m \u001b[0mraw_block_number\u001b[0m\u001b[0;34m)\u001b[0m\u001b[0;34m\u001b[0m\u001b[0;34m\u001b[0m\u001b[0m\n\u001b[0m\u001b[1;32m    514\u001b[0m         \u001b[0mself\u001b[0m\u001b[0;34m.\u001b[0m\u001b[0mvalidator\u001b[0m\u001b[0;34m.\u001b[0m\u001b[0mvalidate_outbound_gas_estimate\u001b[0m\u001b[0;34m(\u001b[0m\u001b[0mraw_gas_estimate\u001b[0m\u001b[0;34m)\u001b[0m\u001b[0;34m\u001b[0m\u001b[0;34m\u001b[0m\u001b[0m\n\u001b[1;32m    515\u001b[0m         \u001b[0mgas_estimate\u001b[0m \u001b[0;34m=\u001b[0m \u001b[0mself\u001b[0m\u001b[0;34m.\u001b[0m\u001b[0mnormalizer\u001b[0m\u001b[0;34m.\u001b[0m\u001b[0mnormalize_outbound_gas_estimate\u001b[0m\u001b[0;34m(\u001b[0m\u001b[0mraw_gas_estimate\u001b[0m\u001b[0;34m)\u001b[0m\u001b[0;34m\u001b[0m\u001b[0;34m\u001b[0m\u001b[0m\n",
            "\u001b[0;32m/usr/local/lib/python3.11/dist-packages/eth_utils/decorators.py\u001b[0m in \u001b[0;36mwrapped\u001b[0;34m(*args, **kwargs)\u001b[0m\n\u001b[1;32m    119\u001b[0m         \u001b[0;32mdef\u001b[0m \u001b[0mwrapped\u001b[0m\u001b[0;34m(\u001b[0m\u001b[0;34m*\u001b[0m\u001b[0margs\u001b[0m\u001b[0;34m:\u001b[0m \u001b[0mAny\u001b[0m\u001b[0;34m,\u001b[0m \u001b[0;34m**\u001b[0m\u001b[0mkwargs\u001b[0m\u001b[0;34m:\u001b[0m \u001b[0mAny\u001b[0m\u001b[0;34m)\u001b[0m \u001b[0;34m->\u001b[0m \u001b[0mT\u001b[0m\u001b[0;34m:\u001b[0m\u001b[0;34m\u001b[0m\u001b[0;34m\u001b[0m\u001b[0m\n\u001b[1;32m    120\u001b[0m             \u001b[0;32mtry\u001b[0m\u001b[0;34m:\u001b[0m\u001b[0;34m\u001b[0m\u001b[0;34m\u001b[0m\u001b[0m\n\u001b[0;32m--> 121\u001b[0;31m                 \u001b[0;32mreturn\u001b[0m \u001b[0mto_wrap\u001b[0m\u001b[0;34m(\u001b[0m\u001b[0;34m*\u001b[0m\u001b[0margs\u001b[0m\u001b[0;34m,\u001b[0m \u001b[0;34m**\u001b[0m\u001b[0mkwargs\u001b[0m\u001b[0;34m)\u001b[0m\u001b[0;34m\u001b[0m\u001b[0;34m\u001b[0m\u001b[0m\n\u001b[0m\u001b[1;32m    122\u001b[0m             \u001b[0;32mexcept\u001b[0m \u001b[0mold_exceptions\u001b[0m \u001b[0;32mas\u001b[0m \u001b[0merr\u001b[0m\u001b[0;34m:\u001b[0m\u001b[0;34m\u001b[0m\u001b[0;34m\u001b[0m\u001b[0m\n\u001b[1;32m    123\u001b[0m                 \u001b[0;32mtry\u001b[0m\u001b[0;34m:\u001b[0m\u001b[0;34m\u001b[0m\u001b[0;34m\u001b[0m\u001b[0m\n",
            "\u001b[0;32m/usr/local/lib/python3.11/dist-packages/eth_tester/backends/pyevm/main.py\u001b[0m in \u001b[0;36mestimate_gas\u001b[0;34m(self, transaction, block_number)\u001b[0m\n\u001b[1;32m    850\u001b[0m \u001b[0;34m\u001b[0m\u001b[0m\n\u001b[1;32m    851\u001b[0m         \u001b[0;32mif\u001b[0m \u001b[0mblock_number\u001b[0m \u001b[0;32min\u001b[0m \u001b[0;34m(\u001b[0m\u001b[0;34m\"latest\"\u001b[0m\u001b[0;34m,\u001b[0m \u001b[0;34m\"safe\"\u001b[0m\u001b[0;34m,\u001b[0m \u001b[0;34m\"finalized\"\u001b[0m\u001b[0;34m)\u001b[0m\u001b[0;34m:\u001b[0m\u001b[0;34m\u001b[0m\u001b[0;34m\u001b[0m\u001b[0m\n\u001b[0;32m--> 852\u001b[0;31m             \u001b[0;32mreturn\u001b[0m \u001b[0mself\u001b[0m\u001b[0;34m.\u001b[0m\u001b[0mchain\u001b[0m\u001b[0;34m.\u001b[0m\u001b[0mestimate_gas\u001b[0m\u001b[0;34m(\u001b[0m\u001b[0mspoofed_transaction\u001b[0m\u001b[0;34m)\u001b[0m\u001b[0;34m\u001b[0m\u001b[0;34m\u001b[0m\u001b[0m\n\u001b[0m\u001b[1;32m    853\u001b[0m         \u001b[0;32melif\u001b[0m \u001b[0mblock_number\u001b[0m \u001b[0;34m==\u001b[0m \u001b[0;34m\"earliest\"\u001b[0m\u001b[0;34m:\u001b[0m\u001b[0;34m\u001b[0m\u001b[0;34m\u001b[0m\u001b[0m\n\u001b[1;32m    854\u001b[0m             return self.chain.estimate_gas(\n",
            "\u001b[0;32m/usr/local/lib/python3.11/dist-packages/eth/chains/base.py\u001b[0m in \u001b[0;36mestimate_gas\u001b[0;34m(self, transaction, at_header)\u001b[0m\n\u001b[1;32m    480\u001b[0m             \u001b[0mat_header\u001b[0m \u001b[0;34m=\u001b[0m \u001b[0mself\u001b[0m\u001b[0;34m.\u001b[0m\u001b[0mget_canonical_head\u001b[0m\u001b[0;34m(\u001b[0m\u001b[0;34m)\u001b[0m\u001b[0;34m\u001b[0m\u001b[0;34m\u001b[0m\u001b[0m\n\u001b[1;32m    481\u001b[0m         \u001b[0;32mwith\u001b[0m \u001b[0mself\u001b[0m\u001b[0;34m.\u001b[0m\u001b[0mget_vm\u001b[0m\u001b[0;34m(\u001b[0m\u001b[0mat_header\u001b[0m\u001b[0;34m)\u001b[0m\u001b[0;34m.\u001b[0m\u001b[0min_costless_state\u001b[0m\u001b[0;34m(\u001b[0m\u001b[0;34m)\u001b[0m \u001b[0;32mas\u001b[0m \u001b[0mstate\u001b[0m\u001b[0;34m:\u001b[0m\u001b[0;34m\u001b[0m\u001b[0;34m\u001b[0m\u001b[0m\n\u001b[0;32m--> 482\u001b[0;31m             \u001b[0;32mreturn\u001b[0m \u001b[0mself\u001b[0m\u001b[0;34m.\u001b[0m\u001b[0mgas_estimator\u001b[0m\u001b[0;34m(\u001b[0m\u001b[0mstate\u001b[0m\u001b[0;34m,\u001b[0m \u001b[0mtransaction\u001b[0m\u001b[0;34m)\u001b[0m\u001b[0;34m\u001b[0m\u001b[0;34m\u001b[0m\u001b[0m\n\u001b[0m\u001b[1;32m    483\u001b[0m \u001b[0;34m\u001b[0m\u001b[0m\n\u001b[1;32m    484\u001b[0m     def import_block(\n",
            "\u001b[0;32m/usr/local/lib/python3.11/dist-packages/cytoolz/functoolz.pyx\u001b[0m in \u001b[0;36mcytoolz.functoolz.curry.__call__\u001b[0;34m()\u001b[0m\n",
            "\u001b[0;32m/usr/local/lib/python3.11/dist-packages/eth/estimators/gas.py\u001b[0m in \u001b[0;36mbinary_gas_search\u001b[0;34m(state, transaction, tolerance)\u001b[0m\n\u001b[1;32m     74\u001b[0m     )\n\u001b[1;32m     75\u001b[0m \u001b[0;34m\u001b[0m\u001b[0m\n\u001b[0;32m---> 76\u001b[0;31m     \u001b[0;32mif\u001b[0m \u001b[0m_get_computation_error\u001b[0m\u001b[0;34m(\u001b[0m\u001b[0mstate\u001b[0m\u001b[0;34m,\u001b[0m \u001b[0mminimum_transaction\u001b[0m\u001b[0;34m)\u001b[0m \u001b[0;32mis\u001b[0m \u001b[0;32mNone\u001b[0m\u001b[0;34m:\u001b[0m\u001b[0;34m\u001b[0m\u001b[0;34m\u001b[0m\u001b[0m\n\u001b[0m\u001b[1;32m     77\u001b[0m         \u001b[0;32mreturn\u001b[0m \u001b[0mtransaction\u001b[0m\u001b[0;34m.\u001b[0m\u001b[0mintrinsic_gas\u001b[0m\u001b[0;34m\u001b[0m\u001b[0;34m\u001b[0m\u001b[0m\n\u001b[1;32m     78\u001b[0m \u001b[0;34m\u001b[0m\u001b[0m\n",
            "\u001b[0;32m/usr/local/lib/python3.11/dist-packages/eth/estimators/gas.py\u001b[0m in \u001b[0;36m_get_computation_error\u001b[0;34m(state, transaction)\u001b[0m\n\u001b[1;32m     26\u001b[0m \u001b[0;34m\u001b[0m\u001b[0m\n\u001b[1;32m     27\u001b[0m     \u001b[0;32mtry\u001b[0m\u001b[0;34m:\u001b[0m\u001b[0;34m\u001b[0m\u001b[0;34m\u001b[0m\u001b[0m\n\u001b[0;32m---> 28\u001b[0;31m         \u001b[0mcomputation\u001b[0m \u001b[0;34m=\u001b[0m \u001b[0mstate\u001b[0m\u001b[0;34m.\u001b[0m\u001b[0mapply_transaction\u001b[0m\u001b[0;34m(\u001b[0m\u001b[0mtransaction\u001b[0m\u001b[0;34m)\u001b[0m\u001b[0;34m\u001b[0m\u001b[0;34m\u001b[0m\u001b[0m\n\u001b[0m\u001b[1;32m     29\u001b[0m         \u001b[0;32mif\u001b[0m \u001b[0mcomputation\u001b[0m\u001b[0;34m.\u001b[0m\u001b[0mis_error\u001b[0m\u001b[0;34m:\u001b[0m\u001b[0;34m\u001b[0m\u001b[0;34m\u001b[0m\u001b[0m\n\u001b[1;32m     30\u001b[0m             \u001b[0;32mreturn\u001b[0m \u001b[0mcomputation\u001b[0m\u001b[0;34m.\u001b[0m\u001b[0merror\u001b[0m\u001b[0;34m\u001b[0m\u001b[0;34m\u001b[0m\u001b[0m\n",
            "\u001b[0;32m/usr/local/lib/python3.11/dist-packages/eth/vm/forks/frontier/state.py\u001b[0m in \u001b[0;36mapply_transaction\u001b[0;34m(self, transaction)\u001b[0m\n\u001b[1;32m    228\u001b[0m     \u001b[0;32mdef\u001b[0m \u001b[0mapply_transaction\u001b[0m\u001b[0;34m(\u001b[0m\u001b[0mself\u001b[0m\u001b[0;34m,\u001b[0m \u001b[0mtransaction\u001b[0m\u001b[0;34m:\u001b[0m \u001b[0mSignedTransactionAPI\u001b[0m\u001b[0;34m)\u001b[0m \u001b[0;34m->\u001b[0m \u001b[0mComputationAPI\u001b[0m\u001b[0;34m:\u001b[0m\u001b[0;34m\u001b[0m\u001b[0;34m\u001b[0m\u001b[0m\n\u001b[1;32m    229\u001b[0m         \u001b[0mexecutor\u001b[0m \u001b[0;34m=\u001b[0m \u001b[0mself\u001b[0m\u001b[0;34m.\u001b[0m\u001b[0mget_transaction_executor\u001b[0m\u001b[0;34m(\u001b[0m\u001b[0;34m)\u001b[0m\u001b[0;34m\u001b[0m\u001b[0;34m\u001b[0m\u001b[0m\n\u001b[0;32m--> 230\u001b[0;31m         \u001b[0;32mreturn\u001b[0m \u001b[0mexecutor\u001b[0m\u001b[0;34m(\u001b[0m\u001b[0mtransaction\u001b[0m\u001b[0;34m)\u001b[0m\u001b[0;34m\u001b[0m\u001b[0;34m\u001b[0m\u001b[0m\n\u001b[0m\u001b[1;32m    231\u001b[0m \u001b[0;34m\u001b[0m\u001b[0m\n\u001b[1;32m    232\u001b[0m     \u001b[0;32mdef\u001b[0m \u001b[0mvalidate_transaction\u001b[0m\u001b[0;34m(\u001b[0m\u001b[0mself\u001b[0m\u001b[0;34m,\u001b[0m \u001b[0mtransaction\u001b[0m\u001b[0;34m:\u001b[0m \u001b[0mSignedTransactionAPI\u001b[0m\u001b[0;34m)\u001b[0m \u001b[0;34m->\u001b[0m \u001b[0;32mNone\u001b[0m\u001b[0;34m:\u001b[0m\u001b[0;34m\u001b[0m\u001b[0;34m\u001b[0m\u001b[0m\n",
            "\u001b[0;32m/usr/local/lib/python3.11/dist-packages/eth/vm/forks/cancun/state.py\u001b[0m in \u001b[0;36m__call__\u001b[0;34m(self, *args, **kwargs)\u001b[0m\n\u001b[1;32m     81\u001b[0m \u001b[0;32mclass\u001b[0m \u001b[0mCancunTransactionExecutor\u001b[0m\u001b[0;34m(\u001b[0m\u001b[0mShanghaiTransactionExecutor\u001b[0m\u001b[0;34m)\u001b[0m\u001b[0;34m:\u001b[0m\u001b[0;34m\u001b[0m\u001b[0;34m\u001b[0m\u001b[0m\n\u001b[1;32m     82\u001b[0m     \u001b[0;32mdef\u001b[0m \u001b[0m__call__\u001b[0m\u001b[0;34m(\u001b[0m\u001b[0mself\u001b[0m\u001b[0;34m,\u001b[0m \u001b[0;34m*\u001b[0m\u001b[0margs\u001b[0m\u001b[0;34m:\u001b[0m \u001b[0mAny\u001b[0m\u001b[0;34m,\u001b[0m \u001b[0;34m**\u001b[0m\u001b[0mkwargs\u001b[0m\u001b[0;34m:\u001b[0m \u001b[0mAny\u001b[0m\u001b[0;34m)\u001b[0m \u001b[0;34m->\u001b[0m \u001b[0mComputationAPI\u001b[0m\u001b[0;34m:\u001b[0m\u001b[0;34m\u001b[0m\u001b[0;34m\u001b[0m\u001b[0m\n\u001b[0;32m---> 83\u001b[0;31m         \u001b[0mret\u001b[0m \u001b[0;34m=\u001b[0m \u001b[0msuper\u001b[0m\u001b[0;34m(\u001b[0m\u001b[0;34m)\u001b[0m\u001b[0;34m.\u001b[0m\u001b[0m__call__\u001b[0m\u001b[0;34m(\u001b[0m\u001b[0;34m*\u001b[0m\u001b[0margs\u001b[0m\u001b[0;34m,\u001b[0m \u001b[0;34m**\u001b[0m\u001b[0mkwargs\u001b[0m\u001b[0;34m)\u001b[0m\u001b[0;34m\u001b[0m\u001b[0;34m\u001b[0m\u001b[0m\n\u001b[0m\u001b[1;32m     84\u001b[0m         \u001b[0mself\u001b[0m\u001b[0;34m.\u001b[0m\u001b[0mvm_state\u001b[0m\u001b[0;34m.\u001b[0m\u001b[0mclear_transient_storage\u001b[0m\u001b[0;34m(\u001b[0m\u001b[0;34m)\u001b[0m\u001b[0;34m\u001b[0m\u001b[0;34m\u001b[0m\u001b[0m\n\u001b[1;32m     85\u001b[0m         \u001b[0;32mreturn\u001b[0m \u001b[0mret\u001b[0m\u001b[0;34m\u001b[0m\u001b[0;34m\u001b[0m\u001b[0m\n",
            "\u001b[0;32m/usr/local/lib/python3.11/dist-packages/eth/vm/state.py\u001b[0m in \u001b[0;36m__call__\u001b[0;34m(self, transaction)\u001b[0m\n\u001b[1;32m    344\u001b[0m \u001b[0;34m\u001b[0m\u001b[0m\n\u001b[1;32m    345\u001b[0m     \u001b[0;32mdef\u001b[0m \u001b[0m__call__\u001b[0m\u001b[0;34m(\u001b[0m\u001b[0mself\u001b[0m\u001b[0;34m,\u001b[0m \u001b[0mtransaction\u001b[0m\u001b[0;34m:\u001b[0m \u001b[0mSignedTransactionAPI\u001b[0m\u001b[0;34m)\u001b[0m \u001b[0;34m->\u001b[0m \u001b[0mComputationAPI\u001b[0m\u001b[0;34m:\u001b[0m\u001b[0;34m\u001b[0m\u001b[0;34m\u001b[0m\u001b[0m\n\u001b[0;32m--> 346\u001b[0;31m         \u001b[0mself\u001b[0m\u001b[0;34m.\u001b[0m\u001b[0mvalidate_transaction\u001b[0m\u001b[0;34m(\u001b[0m\u001b[0mtransaction\u001b[0m\u001b[0;34m)\u001b[0m\u001b[0;34m\u001b[0m\u001b[0;34m\u001b[0m\u001b[0m\n\u001b[0m\u001b[1;32m    347\u001b[0m         \u001b[0mmessage\u001b[0m \u001b[0;34m=\u001b[0m \u001b[0mself\u001b[0m\u001b[0;34m.\u001b[0m\u001b[0mbuild_evm_message\u001b[0m\u001b[0;34m(\u001b[0m\u001b[0mtransaction\u001b[0m\u001b[0;34m)\u001b[0m\u001b[0;34m\u001b[0m\u001b[0;34m\u001b[0m\u001b[0m\n\u001b[1;32m    348\u001b[0m         \u001b[0mcomputation\u001b[0m \u001b[0;34m=\u001b[0m \u001b[0mself\u001b[0m\u001b[0;34m.\u001b[0m\u001b[0mbuild_computation\u001b[0m\u001b[0;34m(\u001b[0m\u001b[0mmessage\u001b[0m\u001b[0;34m,\u001b[0m \u001b[0mtransaction\u001b[0m\u001b[0;34m)\u001b[0m\u001b[0;34m\u001b[0m\u001b[0;34m\u001b[0m\u001b[0m\n",
            "\u001b[0;32m/usr/local/lib/python3.11/dist-packages/eth/vm/forks/frontier/state.py\u001b[0m in \u001b[0;36mvalidate_transaction\u001b[0;34m(self, transaction)\u001b[0m\n\u001b[1;32m     57\u001b[0m         \u001b[0;31m# Validate the transaction\u001b[0m\u001b[0;34m\u001b[0m\u001b[0;34m\u001b[0m\u001b[0m\n\u001b[1;32m     58\u001b[0m         \u001b[0mtransaction\u001b[0m\u001b[0;34m.\u001b[0m\u001b[0mvalidate\u001b[0m\u001b[0;34m(\u001b[0m\u001b[0;34m)\u001b[0m\u001b[0;34m\u001b[0m\u001b[0;34m\u001b[0m\u001b[0m\n\u001b[0;32m---> 59\u001b[0;31m         \u001b[0mself\u001b[0m\u001b[0;34m.\u001b[0m\u001b[0mvm_state\u001b[0m\u001b[0;34m.\u001b[0m\u001b[0mvalidate_transaction\u001b[0m\u001b[0;34m(\u001b[0m\u001b[0mtransaction\u001b[0m\u001b[0;34m)\u001b[0m\u001b[0;34m\u001b[0m\u001b[0;34m\u001b[0m\u001b[0m\n\u001b[0m\u001b[1;32m     60\u001b[0m \u001b[0;34m\u001b[0m\u001b[0m\n\u001b[1;32m     61\u001b[0m     \u001b[0;32mdef\u001b[0m \u001b[0mbuild_evm_message\u001b[0m\u001b[0;34m(\u001b[0m\u001b[0mself\u001b[0m\u001b[0;34m,\u001b[0m \u001b[0mtransaction\u001b[0m\u001b[0;34m:\u001b[0m \u001b[0mSignedTransactionAPI\u001b[0m\u001b[0;34m)\u001b[0m \u001b[0;34m->\u001b[0m \u001b[0mMessageAPI\u001b[0m\u001b[0;34m:\u001b[0m\u001b[0;34m\u001b[0m\u001b[0;34m\u001b[0m\u001b[0m\n",
            "\u001b[0;32m/usr/local/lib/python3.11/dist-packages/eth/vm/forks/cancun/state.py\u001b[0m in \u001b[0;36mvalidate_transaction\u001b[0;34m(self, transaction)\u001b[0m\n\u001b[1;32m    221\u001b[0m \u001b[0;34m\u001b[0m\u001b[0m\n\u001b[1;32m    222\u001b[0m     \u001b[0;32mdef\u001b[0m \u001b[0mvalidate_transaction\u001b[0m\u001b[0;34m(\u001b[0m\u001b[0mself\u001b[0m\u001b[0;34m,\u001b[0m \u001b[0mtransaction\u001b[0m\u001b[0;34m:\u001b[0m \u001b[0mSignedTransactionAPI\u001b[0m\u001b[0;34m)\u001b[0m \u001b[0;34m->\u001b[0m \u001b[0;32mNone\u001b[0m\u001b[0;34m:\u001b[0m\u001b[0;34m\u001b[0m\u001b[0;34m\u001b[0m\u001b[0m\n\u001b[0;32m--> 223\u001b[0;31m         \u001b[0msuper\u001b[0m\u001b[0;34m(\u001b[0m\u001b[0;34m)\u001b[0m\u001b[0;34m.\u001b[0m\u001b[0mvalidate_transaction\u001b[0m\u001b[0;34m(\u001b[0m\u001b[0mtransaction\u001b[0m\u001b[0;34m)\u001b[0m\u001b[0;34m\u001b[0m\u001b[0;34m\u001b[0m\u001b[0m\n\u001b[0m\u001b[1;32m    224\u001b[0m \u001b[0;34m\u001b[0m\u001b[0m\n\u001b[1;32m    225\u001b[0m         \u001b[0;31m# modify the check for sufficient balance\u001b[0m\u001b[0;34m\u001b[0m\u001b[0;34m\u001b[0m\u001b[0m\n",
            "\u001b[0;32m/usr/local/lib/python3.11/dist-packages/eth/vm/forks/london/state.py\u001b[0m in \u001b[0;36mvalidate_transaction\u001b[0;34m(self, transaction)\u001b[0m\n\u001b[1;32m    120\u001b[0m \u001b[0;34m\u001b[0m\u001b[0m\n\u001b[1;32m    121\u001b[0m     \u001b[0;32mdef\u001b[0m \u001b[0mvalidate_transaction\u001b[0m\u001b[0;34m(\u001b[0m\u001b[0mself\u001b[0m\u001b[0;34m,\u001b[0m \u001b[0mtransaction\u001b[0m\u001b[0;34m:\u001b[0m \u001b[0mSignedTransactionAPI\u001b[0m\u001b[0;34m)\u001b[0m \u001b[0;34m->\u001b[0m \u001b[0;32mNone\u001b[0m\u001b[0;34m:\u001b[0m\u001b[0;34m\u001b[0m\u001b[0;34m\u001b[0m\u001b[0m\n\u001b[0;32m--> 122\u001b[0;31m         validate_london_normalized_transaction(\n\u001b[0m\u001b[1;32m    123\u001b[0m             \u001b[0mstate\u001b[0m\u001b[0;34m=\u001b[0m\u001b[0mself\u001b[0m\u001b[0;34m,\u001b[0m\u001b[0;34m\u001b[0m\u001b[0;34m\u001b[0m\u001b[0m\n\u001b[1;32m    124\u001b[0m             \u001b[0mtransaction\u001b[0m\u001b[0;34m=\u001b[0m\u001b[0mtransaction\u001b[0m\u001b[0;34m,\u001b[0m\u001b[0;34m\u001b[0m\u001b[0;34m\u001b[0m\u001b[0m\n",
            "\u001b[0;32m/usr/local/lib/python3.11/dist-packages/eth/vm/forks/london/validation.py\u001b[0m in \u001b[0;36mvalidate_london_normalized_transaction\u001b[0;34m(state, transaction)\u001b[0m\n\u001b[1;32m     29\u001b[0m         )\n\u001b[1;32m     30\u001b[0m \u001b[0;34m\u001b[0m\u001b[0m\n\u001b[0;32m---> 31\u001b[0;31m     \u001b[0mvalidate_homestead_transaction\u001b[0m\u001b[0;34m(\u001b[0m\u001b[0mstate\u001b[0m\u001b[0;34m,\u001b[0m \u001b[0mtransaction\u001b[0m\u001b[0;34m)\u001b[0m\u001b[0;34m\u001b[0m\u001b[0;34m\u001b[0m\u001b[0m\n\u001b[0m",
            "\u001b[0;32m/usr/local/lib/python3.11/dist-packages/eth/vm/forks/homestead/validation.py\u001b[0m in \u001b[0;36mvalidate_homestead_transaction\u001b[0;34m(state, transaction)\u001b[0m\n\u001b[1;32m     21\u001b[0m         \u001b[0;32mraise\u001b[0m \u001b[0mValidationError\u001b[0m\u001b[0;34m(\u001b[0m\u001b[0;34m\"Invalid signature S value\"\u001b[0m\u001b[0;34m)\u001b[0m\u001b[0;34m\u001b[0m\u001b[0;34m\u001b[0m\u001b[0m\n\u001b[1;32m     22\u001b[0m \u001b[0;34m\u001b[0m\u001b[0m\n\u001b[0;32m---> 23\u001b[0;31m     \u001b[0mvalidate_frontier_transaction\u001b[0m\u001b[0;34m(\u001b[0m\u001b[0mstate\u001b[0m\u001b[0;34m,\u001b[0m \u001b[0mtransaction\u001b[0m\u001b[0;34m)\u001b[0m\u001b[0;34m\u001b[0m\u001b[0;34m\u001b[0m\u001b[0m\n\u001b[0m",
            "\u001b[0;32m/usr/local/lib/python3.11/dist-packages/eth/vm/forks/frontier/validation.py\u001b[0m in \u001b[0;36mvalidate_frontier_transaction\u001b[0;34m(state, transaction)\u001b[0m\n\u001b[1;32m     26\u001b[0m \u001b[0;34m\u001b[0m\u001b[0m\n\u001b[1;32m     27\u001b[0m     \u001b[0;32mif\u001b[0m \u001b[0msender_balance\u001b[0m \u001b[0;34m<\u001b[0m \u001b[0mtotal_cost\u001b[0m\u001b[0;34m:\u001b[0m\u001b[0;34m\u001b[0m\u001b[0;34m\u001b[0m\u001b[0m\n\u001b[0;32m---> 28\u001b[0;31m         raise ValidationError(\n\u001b[0m\u001b[1;32m     29\u001b[0m             \u001b[0;34mf\"Sender does not have enough balance to cover transaction value and gas \"\u001b[0m\u001b[0;34m\u001b[0m\u001b[0;34m\u001b[0m\u001b[0m\n\u001b[1;32m     30\u001b[0m             \u001b[0;34mf\" (has {sender_balance}, needs {total_cost})\"\u001b[0m\u001b[0;34m\u001b[0m\u001b[0;34m\u001b[0m\u001b[0m\n",
            "\u001b[0;31mValidationError\u001b[0m: Sender does not have enough balance to cover transaction value and gas  (has 957999999979000000000000, needs 42000000000021000000000000)"
          ]
        }
      ]
    },
    {
      "cell_type": "markdown",
      "source": [
        "### A `ValidationError` results!\n",
        "\n",
        "The transaction does ***not*** succeed.\n",
        "\n",
        "Any transaction should use `try ... except ...` error-handling blocks in order to catch these potential errors.\n",
        "\n",
        "Let's see how this will work:"
      ],
      "metadata": {
        "id": "F-4k84brNl3J"
      }
    },
    {
      "cell_type": "code",
      "source": [
        "#\n",
        "# Let's create a single transaction for TOO MUCH ether\n",
        "#       Notice that the transaction is a dictionary\n",
        "#       It's created, sent to the chain, and a hash is returned:\n",
        "\n",
        "from eth_utils import ValidationError\n",
        "\n",
        "transaction = {                           # the transaction is a dictionary!\n",
        "    'from': w3.eth.accounts[3],           # from acct 3\n",
        "    'to': w3.eth.accounts[8],             # to acct 8\n",
        "    'value': w3.to_wei(42_000, 'ether')   # change this to/from 42 _million_ ether!\n",
        "}\n",
        "\n",
        "# now, we send the transaction to the blockchain -- with a TRY/EXCEPT error-handler\"\n",
        "try:\n",
        "    tx_hash = w3.eth.send_transaction(transaction)\n",
        "    # let's look at its resulting hash\n",
        "    print(\"Success!\\n\")\n",
        "    print(f\"The {tx_hash = }\")\n",
        "except ValidationError as e:\n",
        "    print(\"Transaction failed: Insufficient funds.   This time we've _caught_ this exception. [[ Everything is fine... Nothing to see here... ]] \\n\")\n",
        "    print(f\"Here is the full ValidationError:\\n    {e}\")\n",
        "\n"
      ],
      "metadata": {
        "id": "BiLbis78N5os",
        "colab": {
          "base_uri": "https://localhost:8080/"
        },
        "outputId": "8c0ecb01-3c2e-4761-9944-faa29d219d56"
      },
      "execution_count": 43,
      "outputs": [
        {
          "output_type": "stream",
          "name": "stdout",
          "text": [
            "Success!\n",
            "\n",
            "The tx_hash = HexBytes('0x80f5636e7ee599c8f4f114c23ac18ebf5529ad9cb3709c750b4d14e949219ce8')\n"
          ]
        }
      ]
    },
    {
      "cell_type": "markdown",
      "source": [
        "## <b><font color=\"DodgerBlue\">Challenge #4</font></b> &nbsp;&nbsp; A bustling  marketplace...\n",
        "\n",
        "<b><font color=\"Coral\">Task</font></b> &nbsp;&nbsp;  Use the example, above,  -- and any AI help you might want -- to create functions and cells that\n",
        "+ run <tt>N</tt> transactions, perhaps once every 2-3 seconds\n",
        "+ print what's running , e.g., \"Account 3 is sending 42,042 ether to Account 8\"\n",
        "+ uses random amounts (you choose the span that's ok)\n",
        "+ uses random accounts (you choose how to handle this randomness)\n",
        "\n",
        "<br><br>\n",
        "\n",
        "<b><font color=\"Coral\">Task 2</font></b> &nbsp;&nbsp;  Run your marketplace a small number of times, e.g., 10 transactions, and print the slate of account values at the end, <i>including the total across all of the accounts</i>.\n",
        "+ How much gas has been used, across all of the accounts?\n",
        "+ What are the <i>variance</i> and <i>inequality</i> (as measured by the <i>gini coefficient</i>) across all of the accounts?\n",
        "\n",
        "<br><br>\n",
        "\n",
        "<b><font color=\"Coral\">Task 3</font></b> &nbsp;&nbsp;  Run the same marketplace, but now for ***lots*** of transactions. Again, include the resulting account balances, the amount of gas used (total), and the measure of inequality -- which should be the <i>gini inequality</i> or <i>gini coefficient</i>  -- of the result. <br> <font size=\"-2\">How to implement  Gini inequality? Feel free to use AI or [Wikipedia](https://en.wikipedia.org/wiki/Gini_coefficient), which is probably what the AI will have used!</font>\n",
        "\n",
        "This time, add one more capability to your marketplace:\n",
        "+ when an account tries to overspend, it spends all it has and then stops spending (it doesn't crash!)\n",
        "+ one way to do this is to keep a list of the <i>insolvent</i> accounts, starting with the empty list `[ ]`\n",
        "+ Then, when an account tries to overspend, the transaction will be denied, but it would then go onto the insolvent list -- and will be ignored from then on.\n",
        "+ equivalently, you could start with a list of <i>solvent</i> accounts and then remove accounts from it when they first try to overspend...\n",
        "\n",
        "<br><br>\n",
        "\n",
        "<b><font color=\"Coral\"><u>Finale</u>: &nbsp; The Tontine</font></b> &nbsp;&nbsp;  Run the same marketplace, but now until there is only one account with positive balance...  This time, the questions are slightly different:\n",
        "+ how many \"generations\" did it take until one account\n",
        "+ for each generation, measure and remember the inequality-measure across all 10 accounts (for example, into a list)\n",
        "+ ***create a plot*** of the balances from the start until the Tontine is won.\n",
        "+ also, ***create a plot of the Gini inequality/coefficient*** across that time...\n",
        "\n",
        "You should adapt <i>how much</i> the accounts decide to exchange, so that this is both interesting and not too slow.\n",
        "\n",
        "<br>\n",
        "\n",
        "<b><font color=\"DodgerBlue\"><u>Reflection</u></font></b>: &nbsp; **Share your thoughts** on how this programming-and-simulation challenge went -- if you used AI, share how useful (or not) that was. This can be in a new text cell or in comments accompanying your executable cells...\n",
        "\n",
        "<br><br>\n",
        "<br><br>\n",
        "\n",
        "<hr>\n",
        "\n",
        "The challenge was really fun. We enjoyed running the diffferent transactions on the blockchain. Using AI definitely helped. However we realized that all AI are really talkative. However they prefer a level of \"efficiency\" that we humans might not like. For example AI would prefere doing all the six tasks above through one big function rather than having like six to seven helper functions. Does it work? Yeah. However it is not as cohesive as having helper functions because they help you debug properly as needed. And on top of all, it is much easier to follow.\n",
        "\n",
        "<hr>\n",
        "<br>"
      ],
      "metadata": {
        "id": "9jnW4_SKFa7Y"
      }
    },
    {
      "cell_type": "markdown",
      "source": [
        "<b><font color=\"Coral\">Hint</font></b> &nbsp;&nbsp; Here is an example of the final cell used for the in-class example. Notice that\n",
        "+ the function `run_transactions()` does all of the work\n",
        "+ the two lines above simply \"reset\" all 10 ETH accounts to 1,000,000 ETH each (wow!)\n",
        "+ the function `run_transactions()` returns two lists:\n",
        "  + the list `GiniCoefficients` holds all of those gini coefficients for the whole tontine\n",
        "  + the line `AllBalances` holds ALL of the balances of all of the accounts for the whole tontine\n",
        "+ these two were used in order to plot the inequality values and balances..."
      ],
      "metadata": {
        "id": "HGN-TSnQJZEe"
      }
    },
    {
      "cell_type": "code",
      "source": [
        "# Example of resetting the universe and running the results:\n",
        "provider = Web3.EthereumTesterProvider()\n",
        "w3 = Web3(provider)\n",
        "\n",
        "GiniCoefficients, AllBalances = run_transactions()"
      ],
      "metadata": {
        "id": "59Sru958JYMQ",
        "colab": {
          "base_uri": "https://localhost:8080/",
          "height": 211
        },
        "outputId": "90f6c366-d318-41cd-9e7c-ae723a11518f"
      },
      "execution_count": 44,
      "outputs": [
        {
          "output_type": "stream",
          "name": "stderr",
          "text": [
            "<frozen importlib._bootstrap>:1047: ImportWarning: _PyDriveImportHook.find_spec() not found; falling back to find_module()\n",
            "<frozen importlib._bootstrap>:1047: ImportWarning: _BokehImportHook.find_spec() not found; falling back to find_module()\n"
          ]
        },
        {
          "output_type": "error",
          "ename": "NameError",
          "evalue": "name 'run_transactions' is not defined",
          "traceback": [
            "\u001b[0;31m---------------------------------------------------------------------------\u001b[0m",
            "\u001b[0;31mNameError\u001b[0m                                 Traceback (most recent call last)",
            "\u001b[0;32m<ipython-input-44-f0c14e205c8a>\u001b[0m in \u001b[0;36m<cell line: 0>\u001b[0;34m()\u001b[0m\n\u001b[1;32m      3\u001b[0m \u001b[0mw3\u001b[0m \u001b[0;34m=\u001b[0m \u001b[0mWeb3\u001b[0m\u001b[0;34m(\u001b[0m\u001b[0mprovider\u001b[0m\u001b[0;34m)\u001b[0m\u001b[0;34m\u001b[0m\u001b[0;34m\u001b[0m\u001b[0m\n\u001b[1;32m      4\u001b[0m \u001b[0;34m\u001b[0m\u001b[0m\n\u001b[0;32m----> 5\u001b[0;31m \u001b[0mGiniCoefficients\u001b[0m\u001b[0;34m,\u001b[0m \u001b[0mAllBalances\u001b[0m \u001b[0;34m=\u001b[0m \u001b[0mrun_transactions\u001b[0m\u001b[0;34m(\u001b[0m\u001b[0;34m)\u001b[0m\u001b[0;34m\u001b[0m\u001b[0;34m\u001b[0m\u001b[0m\n\u001b[0m",
            "\u001b[0;31mNameError\u001b[0m: name 'run_transactions' is not defined"
          ]
        }
      ]
    },
    {
      "cell_type": "code",
      "source": [
        "'''TASK 1'''\n",
        "\n",
        "import random\n",
        "import time\n",
        "import numpy as np\n",
        "from eth_utils import ValidationError\n",
        "\n",
        "def send_random_transaction(w3):\n",
        "    # Choose random sender and receiver (ensuring they are different)\n",
        "    accounts = w3.eth.accounts\n",
        "    sender, receiver = random.sample(accounts, 2)\n",
        "\n",
        "    # Choose random ether amount (between 0.01 and max available ether)\n",
        "    ether_amount = random.uniform(0.01, 10)  # float\n",
        "\n",
        "    # Create transaction dict\n",
        "    transaction = {\n",
        "        'from': sender,\n",
        "        'to': receiver,\n",
        "        'value': w3.to_wei(str(ether_amount), 'ether')\n",
        "    }\n",
        "\n",
        "    # Print what's happening\n",
        "    print(f\"{sender} is sending {ether_amount:.4f} ether to {receiver}\")\n",
        "\n",
        "    # Try to send the transaction\n",
        "    try:\n",
        "        tx_hash = w3.eth.send_transaction(transaction)\n",
        "        receipt = w3.eth.wait_for_transaction_receipt(tx_hash)\n",
        "        actual_gas_used = receipt['gasUsed']\n",
        "        print(f\"  ✓ Transaction sent! Hash: {tx_hash.hex()}\\n\")\n",
        "        return actual_gas_used\n",
        "    except ValidationError as e:\n",
        "        print(f\"  ✗ Transaction failed: {e}\\n\")\n",
        "    except Exception as e:\n",
        "        print(f\"  ✗ Unexpected error: {e}\\n\")\n",
        "\n",
        "N = 10 # Number of transactions\n",
        "\n",
        "def run_n_transactions(w3, N, delay_range=(2, 3)):\n",
        "    total_gas_used = 0\n",
        "\n",
        "    for i in range(N):\n",
        "        print(f\"--- Transaction {i+1}/{N} ---\")\n",
        "        gas_used = send_random_transaction(w3)\n",
        "        total_gas_used += gas_used\n",
        "        time.sleep(random.uniform(*delay_range))\n",
        "\n",
        "    return total_gas_used\n",
        "a = run_n_transactions(w3, N=5, delay_range=(2, 3))\n",
        "a"
      ],
      "metadata": {
        "id": "-9qO8N7GV6cI",
        "colab": {
          "base_uri": "https://localhost:8080/"
        },
        "outputId": "fea4f3b4-cf90-497a-d226-1cd845d06c5d"
      },
      "execution_count": 62,
      "outputs": [
        {
          "output_type": "stream",
          "name": "stdout",
          "text": [
            "--- Transaction 1/5 ---\n",
            "0xE57bFE9F44b819898F47BF37E5AF72a0783e1141 is sending 3.7427 ether to 0x1efF47bc3a10a45D4B230B5d10E37751FE6AA718\n",
            "  ✓ Transaction sent! Hash: 9a897ccfa42df05bbaa3d7668d72c533f09bf09a82935515da42b22dfbf168d9\n",
            "\n"
          ]
        },
        {
          "output_type": "stream",
          "name": "stderr",
          "text": [
            "<frozen importlib._bootstrap>:1047: ImportWarning: _PyDriveImportHook.find_spec() not found; falling back to find_module()\n",
            "<frozen importlib._bootstrap>:1047: ImportWarning: _BokehImportHook.find_spec() not found; falling back to find_module()\n"
          ]
        },
        {
          "output_type": "stream",
          "name": "stdout",
          "text": [
            "--- Transaction 2/5 ---\n",
            "0x7E5F4552091A69125d5DfCb7b8C2659029395Bdf is sending 8.0817 ether to 0xE57bFE9F44b819898F47BF37E5AF72a0783e1141\n",
            "  ✓ Transaction sent! Hash: 0061377ffa199e9c8d376b089b22995571c73f265d0522d9394a2e64e8e26134\n",
            "\n",
            "--- Transaction 3/5 ---\n",
            "0x7E5F4552091A69125d5DfCb7b8C2659029395Bdf is sending 5.0831 ether to 0xE57bFE9F44b819898F47BF37E5AF72a0783e1141\n",
            "  ✓ Transaction sent! Hash: 26e3a4f2ec3fe7ed4c48b8c574cedb8eaf797d41fbc2baed6553e371cd40cd5b\n",
            "\n",
            "--- Transaction 4/5 ---\n",
            "0xe1AB8145F7E55DC933d51a18c793F901A3A0b276 is sending 9.3643 ether to 0x7E5F4552091A69125d5DfCb7b8C2659029395Bdf\n",
            "  ✓ Transaction sent! Hash: 28d9d5a2fd4b11b4c7233dd56d2921d8805691232eebaaece0aa640693c6f30a\n",
            "\n",
            "--- Transaction 5/5 ---\n",
            "0x1efF47bc3a10a45D4B230B5d10E37751FE6AA718 is sending 9.9751 ether to 0xF7Edc8FA1eCc32967F827C9043FcAe6ba73afA5c\n",
            "  ✓ Transaction sent! Hash: 880d2ca07ff92b0831dc44e024463826cf4a32bddac5942f934664e8d3559f93\n",
            "\n"
          ]
        },
        {
          "output_type": "execute_result",
          "data": {
            "text/plain": [
              "105000"
            ]
          },
          "metadata": {},
          "execution_count": 62
        }
      ]
    },
    {
      "cell_type": "code",
      "source": [
        "'''TASK 2'''\n",
        "\n",
        "def gini_coefficient(values):\n",
        "    \"\"\"Compute Gini coefficient for a list of values.\"\"\"\n",
        "    sorted_vals = np.sort(np.array(values))\n",
        "    n = len(values)\n",
        "    cumvals = np.cumsum(sorted_vals)\n",
        "    gini = (n + 1 - 2 * np.sum(cumvals) / cumvals[-1]) / n\n",
        "    return gini\n",
        "\n",
        "N = 10\n",
        "\n",
        "def run_marketplace(w3):\n",
        "    total_gas = run_n_transactions(w3, N, delay_range=(2, 3))\n",
        "\n",
        "    print(\"\\n🔹 Final Account Balances:\")\n",
        "    balances = []\n",
        "    for acct in w3.eth.accounts:\n",
        "        bal = w3.from_wei(w3.eth.get_balance(acct), 'ether')\n",
        "        balances.append(bal)\n",
        "        print(f\"{acct}: {bal:.4f} ETH\")\n",
        "\n",
        "    total_eth = sum(balances)\n",
        "    variance = np.var(balances)\n",
        "    gini = gini_coefficient(balances)\n",
        "\n",
        "    print(f\"\\n🔸 Total Ether in System: {total_eth:.4f} ETH\")\n",
        "    print(f\"🔸 Total Gas Used: {total_gas} gas\")\n",
        "    print(f\"🔸 Variance in Balances: {variance:.6f}\")\n",
        "    print(f\"🔸 Gini Coefficient: {gini:.4f}\")\n",
        "\n",
        "run_marketplace(w3)"
      ],
      "metadata": {
        "colab": {
          "base_uri": "https://localhost:8080/"
        },
        "id": "HhTkMuJk5W0K",
        "outputId": "ad5b8f42-e45f-4525-dfdc-abf55286cebb"
      },
      "execution_count": 63,
      "outputs": [
        {
          "output_type": "stream",
          "name": "stdout",
          "text": [
            "--- Transaction 1/10 ---\n",
            "0x7E5F4552091A69125d5DfCb7b8C2659029395Bdf is sending 0.4532 ether to 0x1efF47bc3a10a45D4B230B5d10E37751FE6AA718\n",
            "  ✓ Transaction sent! Hash: 201f87b08badb3e435f2862c35ed31cdb2978b6a7f8ad4e0e8dbd914db5c6ea7\n",
            "\n"
          ]
        },
        {
          "output_type": "stream",
          "name": "stderr",
          "text": [
            "<frozen importlib._bootstrap>:1047: ImportWarning: _PyDriveImportHook.find_spec() not found; falling back to find_module()\n",
            "<frozen importlib._bootstrap>:1047: ImportWarning: _BokehImportHook.find_spec() not found; falling back to find_module()\n"
          ]
        },
        {
          "output_type": "stream",
          "name": "stdout",
          "text": [
            "--- Transaction 2/10 ---\n",
            "0x7E5F4552091A69125d5DfCb7b8C2659029395Bdf is sending 3.1939 ether to 0xE57bFE9F44b819898F47BF37E5AF72a0783e1141\n",
            "  ✓ Transaction sent! Hash: ee609af6567d3d46816a31eae4b7e5bc97c43ffb29e7f3630a1082ad89ad4e90\n",
            "\n",
            "--- Transaction 3/10 ---\n",
            "0x1efF47bc3a10a45D4B230B5d10E37751FE6AA718 is sending 5.6483 ether to 0xE57bFE9F44b819898F47BF37E5AF72a0783e1141\n",
            "  ✓ Transaction sent! Hash: 6c9e329755565fbebe8b4e0ed28b82110847daaf623bc795c0af123b0331568b\n",
            "\n",
            "--- Transaction 4/10 ---\n",
            "0xd41c057fd1c78805AAC12B0A94a405c0461A6FBb is sending 9.7745 ether to 0x1efF47bc3a10a45D4B230B5d10E37751FE6AA718\n",
            "  ✓ Transaction sent! Hash: 8d396155e7369c250d9a1e8545e7297942954f3034995638f506c2d886e414e6\n",
            "\n",
            "--- Transaction 5/10 ---\n",
            "0x2B5AD5c4795c026514f8317c7a215E218DcCD6cF is sending 4.7983 ether to 0xF1F6619B38A98d6De0800F1DefC0a6399eB6d30C\n",
            "  ✓ Transaction sent! Hash: c8e9449f4585f03141827b903cd8568c9838392242f6084c80634a954b650023\n",
            "\n",
            "--- Transaction 6/10 ---\n",
            "0xF7Edc8FA1eCc32967F827C9043FcAe6ba73afA5c is sending 7.5289 ether to 0x6813Eb9362372EEF6200f3b1dbC3f819671cBA69\n",
            "  ✓ Transaction sent! Hash: e8b67d3fc92acb2081ea0140054f053c9581829302ffe27f91e44529aa9950aa\n",
            "\n",
            "--- Transaction 7/10 ---\n",
            "0xF7Edc8FA1eCc32967F827C9043FcAe6ba73afA5c is sending 6.2055 ether to 0xE57bFE9F44b819898F47BF37E5AF72a0783e1141\n",
            "  ✓ Transaction sent! Hash: 5656f3c9cd1dfac26a5352c95de989e21da7afb7e82db2e50806183fa724c594\n",
            "\n",
            "--- Transaction 8/10 ---\n",
            "0xF1F6619B38A98d6De0800F1DefC0a6399eB6d30C is sending 5.3668 ether to 0x4CCeBa2d7D2B4fdcE4304d3e09a1fea9fbEb1528\n",
            "  ✓ Transaction sent! Hash: b2ae013a86ba2556b129167f76525a95a8a39f7df2a7116ff673461f6feab044\n",
            "\n",
            "--- Transaction 9/10 ---\n",
            "0x4CCeBa2d7D2B4fdcE4304d3e09a1fea9fbEb1528 is sending 0.7634 ether to 0x7E5F4552091A69125d5DfCb7b8C2659029395Bdf\n",
            "  ✓ Transaction sent! Hash: 6740c2beb75ea42628b64c13aa591c0857f9bf02cd63d817d9528e04ca641633\n",
            "\n",
            "--- Transaction 10/10 ---\n",
            "0x7E5F4552091A69125d5DfCb7b8C2659029395Bdf is sending 2.9873 ether to 0xE57bFE9F44b819898F47BF37E5AF72a0783e1141\n",
            "  ✓ Transaction sent! Hash: c70d4e89dfae264f747828ec933c2e93312ec68dbb85e7f06fe572166bfdc36d\n",
            "\n",
            "\n",
            "🔹 Final Account Balances:\n",
            "0x7E5F4552091A69125d5DfCb7b8C2659029395Bdf: 999994.9348 ETH\n",
            "0x2B5AD5c4795c026514f8317c7a215E218DcCD6cF: 999998.2342 ETH\n",
            "0x6813Eb9362372EEF6200f3b1dbC3f819671cBA69: 999991.7547 ETH\n",
            "0x1efF47bc3a10a45D4B230B5d10E37751FE6AA718: 874011.9925 ETH\n",
            "0xe1AB8145F7E55DC933d51a18c793F901A3A0b276: 999963.5933 ETH\n",
            "0xE57bFE9F44b819898F47BF37E5AF72a0783e1141: 1000041.9043 ETH\n",
            "0xd41c057fd1c78805AAC12B0A94a405c0461A6FBb: 1000000.5567 ETH\n",
            "0xF1F6619B38A98d6De0800F1DefC0a6399eB6d30C: 999980.1294 ETH\n",
            "0xF7Edc8FA1eCc32967F827C9043FcAe6ba73afA5c: 1126018.3230 ETH\n",
            "0x4CCeBa2d7D2B4fdcE4304d3e09a1fea9fbEb1528: 999998.5760 ETH\n",
            "\n",
            "🔸 Total Ether in System: 9999999.9990 ETH\n",
            "🔸 Total Gas Used: 210000 gas\n",
            "🔸 Variance in Balances: 3175359934.440918\n",
            "🔸 Gini Coefficient: 0.0227\n"
          ]
        }
      ]
    },
    {
      "cell_type": "code",
      "source": [
        "'''TASK 3'''\n",
        "\n",
        "N = 100\n",
        "\n",
        "# Define new run N transactions function\n",
        "def run_n_transactions(w3, N, delay_range=(2, 3)):\n",
        "    import random\n",
        "    import time\n",
        "\n",
        "    gas_price = 1_000_000_000  # 1 Gwei\n",
        "    total_gas_used = 0\n",
        "    solvent_accounts = set(w3.eth.accounts)  # maintain only solvent accounts\n",
        "\n",
        "    for i in range(N):\n",
        "        if len(solvent_accounts) < 2:\n",
        "            print(\"❗ Stopping: not enough solvent accounts.\")\n",
        "            break\n",
        "\n",
        "        sender, receiver = random.sample(list(solvent_accounts), 2)\n",
        "        sender_balance = w3.eth.get_balance(sender)\n",
        "        ether_amount = random.uniform(0.01, 5)\n",
        "        value_wei = w3.to_wei(str(ether_amount), 'ether')\n",
        "        gas_fee = 21000 * gas_price\n",
        "        total_needed = value_wei + gas_fee\n",
        "\n",
        "        if total_needed > sender_balance:\n",
        "            # Try to spend everything except gas\n",
        "            value_wei = max(sender_balance - gas_fee, 0)\n",
        "            if value_wei == 0:\n",
        "                print(f\"✗ Tx {i+1}: {sender[-4:]} is insolvent. Removing.\")\n",
        "                solvent_accounts.remove(sender)\n",
        "                continue\n",
        "\n",
        "        tx = {\n",
        "            'from': sender,\n",
        "            'to': receiver,\n",
        "            'value': value_wei,\n",
        "            'gas': 21000,\n",
        "            'gasPrice': gas_price\n",
        "        }\n",
        "\n",
        "        try:\n",
        "            tx_hash = w3.eth.send_transaction(tx)\n",
        "            receipt = w3.eth.wait_for_transaction_receipt(tx_hash)\n",
        "            print(f\"✓ Tx {i+1}: {sender[-4:]} → {receiver[-4:]} | Sent: {w3.from_wei(value_wei, 'ether'):.3f} ETH | Gas: {receipt['gasUsed']}\")\n",
        "            total_gas_used += receipt['gasUsed']\n",
        "        except Exception as e:\n",
        "            print(f\"✗ Tx {i+1}: failed. {sender[-4:]} removed. Error: {e}\")\n",
        "            solvent_accounts.remove(sender)\n",
        "\n",
        "        time.sleep(random.uniform(*delay_range))\n",
        "\n",
        "    return total_gas_used\n",
        "\n",
        "run_marketplace(w3)"
      ],
      "metadata": {
        "colab": {
          "base_uri": "https://localhost:8080/"
        },
        "id": "3ja93Mrg-e-I",
        "outputId": "c6c28368-06e0-457e-80ba-d5e35644945d"
      },
      "execution_count": 64,
      "outputs": [
        {
          "output_type": "stream",
          "name": "stderr",
          "text": [
            "<frozen importlib._bootstrap>:1047: ImportWarning: _PyDriveImportHook.find_spec() not found; falling back to find_module()\n",
            "<frozen importlib._bootstrap>:1047: ImportWarning: _BokehImportHook.find_spec() not found; falling back to find_module()\n"
          ]
        },
        {
          "output_type": "stream",
          "name": "stdout",
          "text": [
            "✓ Tx 1: 1528 → 5Bdf | Sent: 3.245 ETH | Gas: 21000\n",
            "✓ Tx 2: 1141 → d30C | Sent: 1.765 ETH | Gas: 21000\n",
            "✓ Tx 3: BA69 → 6FBb | Sent: 2.357 ETH | Gas: 21000\n",
            "✓ Tx 4: BA69 → D6cF | Sent: 2.962 ETH | Gas: 21000\n",
            "✓ Tx 5: fA5c → D6cF | Sent: 4.303 ETH | Gas: 21000\n",
            "✓ Tx 6: 1141 → D6cF | Sent: 3.460 ETH | Gas: 21000\n",
            "✓ Tx 7: 1528 → fA5c | Sent: 4.072 ETH | Gas: 21000\n",
            "✓ Tx 8: 5Bdf → d30C | Sent: 1.582 ETH | Gas: 21000\n",
            "✓ Tx 9: BA69 → 6FBb | Sent: 2.900 ETH | Gas: 21000\n",
            "✓ Tx 10: d30C → 6FBb | Sent: 4.035 ETH | Gas: 21000\n",
            "✓ Tx 11: 1528 → fA5c | Sent: 1.178 ETH | Gas: 21000\n",
            "✓ Tx 12: BA69 → 6FBb | Sent: 1.821 ETH | Gas: 21000\n",
            "✓ Tx 13: b276 → 1528 | Sent: 3.037 ETH | Gas: 21000\n",
            "✓ Tx 14: b276 → 6FBb | Sent: 4.094 ETH | Gas: 21000\n",
            "✓ Tx 15: A718 → 6FBb | Sent: 0.546 ETH | Gas: 21000\n",
            "✓ Tx 16: 1528 → A718 | Sent: 3.601 ETH | Gas: 21000\n",
            "✓ Tx 17: 5Bdf → fA5c | Sent: 0.125 ETH | Gas: 21000\n",
            "✓ Tx 18: b276 → fA5c | Sent: 1.248 ETH | Gas: 21000\n",
            "✓ Tx 19: 1141 → 5Bdf | Sent: 3.784 ETH | Gas: 21000\n",
            "✓ Tx 20: A718 → fA5c | Sent: 3.954 ETH | Gas: 21000\n",
            "✓ Tx 21: A718 → fA5c | Sent: 2.580 ETH | Gas: 21000\n",
            "✓ Tx 22: 1141 → 6FBb | Sent: 1.680 ETH | Gas: 21000\n",
            "✓ Tx 23: 1528 → d30C | Sent: 4.742 ETH | Gas: 21000\n",
            "✓ Tx 24: 6FBb → D6cF | Sent: 4.524 ETH | Gas: 21000\n",
            "✓ Tx 25: BA69 → D6cF | Sent: 0.739 ETH | Gas: 21000\n",
            "✓ Tx 26: BA69 → D6cF | Sent: 1.605 ETH | Gas: 21000\n",
            "✓ Tx 27: 1141 → 6FBb | Sent: 1.606 ETH | Gas: 21000\n",
            "✓ Tx 28: d30C → fA5c | Sent: 1.175 ETH | Gas: 21000\n",
            "✓ Tx 29: 1141 → 5Bdf | Sent: 3.397 ETH | Gas: 21000\n",
            "✓ Tx 30: fA5c → 6FBb | Sent: 3.156 ETH | Gas: 21000\n",
            "✓ Tx 31: 1141 → fA5c | Sent: 1.372 ETH | Gas: 21000\n",
            "✓ Tx 32: A718 → fA5c | Sent: 4.843 ETH | Gas: 21000\n",
            "✓ Tx 33: fA5c → 1141 | Sent: 2.374 ETH | Gas: 21000\n",
            "✓ Tx 34: 5Bdf → d30C | Sent: 4.809 ETH | Gas: 21000\n",
            "✓ Tx 35: 1528 → b276 | Sent: 2.489 ETH | Gas: 21000\n",
            "✓ Tx 36: 5Bdf → 6FBb | Sent: 4.223 ETH | Gas: 21000\n",
            "✓ Tx 37: d30C → 1141 | Sent: 3.574 ETH | Gas: 21000\n",
            "✓ Tx 38: A718 → 1141 | Sent: 4.267 ETH | Gas: 21000\n",
            "✓ Tx 39: BA69 → 1141 | Sent: 0.778 ETH | Gas: 21000\n",
            "✓ Tx 40: 1528 → 1141 | Sent: 3.832 ETH | Gas: 21000\n",
            "✓ Tx 41: 5Bdf → fA5c | Sent: 4.435 ETH | Gas: 21000\n",
            "✓ Tx 42: BA69 → 1141 | Sent: 2.747 ETH | Gas: 21000\n",
            "✓ Tx 43: A718 → fA5c | Sent: 3.424 ETH | Gas: 21000\n",
            "✓ Tx 44: BA69 → A718 | Sent: 1.901 ETH | Gas: 21000\n",
            "✓ Tx 45: 6FBb → 1528 | Sent: 1.850 ETH | Gas: 21000\n",
            "✓ Tx 46: d30C → D6cF | Sent: 2.484 ETH | Gas: 21000\n",
            "✓ Tx 47: b276 → 6FBb | Sent: 0.590 ETH | Gas: 21000\n",
            "✓ Tx 48: 1528 → fA5c | Sent: 0.120 ETH | Gas: 21000\n",
            "✓ Tx 49: 1141 → 5Bdf | Sent: 3.455 ETH | Gas: 21000\n",
            "✓ Tx 50: D6cF → fA5c | Sent: 3.146 ETH | Gas: 21000\n",
            "✓ Tx 51: d30C → BA69 | Sent: 0.128 ETH | Gas: 21000\n",
            "✓ Tx 52: D6cF → A718 | Sent: 1.731 ETH | Gas: 21000\n",
            "✓ Tx 53: 1141 → BA69 | Sent: 4.656 ETH | Gas: 21000\n",
            "✓ Tx 54: 5Bdf → BA69 | Sent: 4.069 ETH | Gas: 21000\n",
            "✓ Tx 55: BA69 → fA5c | Sent: 1.679 ETH | Gas: 21000\n",
            "✓ Tx 56: fA5c → 1141 | Sent: 0.473 ETH | Gas: 21000\n",
            "✓ Tx 57: d30C → 6FBb | Sent: 0.042 ETH | Gas: 21000\n",
            "✓ Tx 58: 6FBb → D6cF | Sent: 2.366 ETH | Gas: 21000\n",
            "✓ Tx 59: 5Bdf → b276 | Sent: 2.972 ETH | Gas: 21000\n",
            "✓ Tx 60: 6FBb → fA5c | Sent: 2.213 ETH | Gas: 21000\n",
            "✓ Tx 61: b276 → fA5c | Sent: 4.086 ETH | Gas: 21000\n",
            "✓ Tx 62: b276 → 1528 | Sent: 0.063 ETH | Gas: 21000\n",
            "✓ Tx 63: 1528 → d30C | Sent: 4.328 ETH | Gas: 21000\n",
            "✓ Tx 64: fA5c → 6FBb | Sent: 3.851 ETH | Gas: 21000\n",
            "✓ Tx 65: 5Bdf → d30C | Sent: 4.449 ETH | Gas: 21000\n",
            "✓ Tx 66: fA5c → A718 | Sent: 3.342 ETH | Gas: 21000\n",
            "✓ Tx 67: 1528 → D6cF | Sent: 2.486 ETH | Gas: 21000\n",
            "✓ Tx 68: 6FBb → fA5c | Sent: 0.301 ETH | Gas: 21000\n",
            "✓ Tx 69: 1141 → 1528 | Sent: 1.950 ETH | Gas: 21000\n",
            "✓ Tx 70: 6FBb → 1141 | Sent: 1.694 ETH | Gas: 21000\n",
            "✓ Tx 71: 1141 → BA69 | Sent: 0.252 ETH | Gas: 21000\n",
            "✓ Tx 72: 6FBb → BA69 | Sent: 4.980 ETH | Gas: 21000\n",
            "✓ Tx 73: A718 → d30C | Sent: 0.205 ETH | Gas: 21000\n",
            "✓ Tx 74: BA69 → A718 | Sent: 0.081 ETH | Gas: 21000\n",
            "✓ Tx 75: fA5c → b276 | Sent: 0.795 ETH | Gas: 21000\n",
            "✓ Tx 76: 1528 → A718 | Sent: 0.446 ETH | Gas: 21000\n",
            "✓ Tx 77: 1528 → 1141 | Sent: 1.248 ETH | Gas: 21000\n",
            "✓ Tx 78: 5Bdf → A718 | Sent: 0.689 ETH | Gas: 21000\n",
            "✓ Tx 79: 1141 → 6FBb | Sent: 1.915 ETH | Gas: 21000\n",
            "✓ Tx 80: 5Bdf → 6FBb | Sent: 2.616 ETH | Gas: 21000\n",
            "✓ Tx 81: 1141 → 6FBb | Sent: 2.836 ETH | Gas: 21000\n",
            "✓ Tx 82: 6FBb → b276 | Sent: 4.696 ETH | Gas: 21000\n",
            "✓ Tx 83: 5Bdf → 1141 | Sent: 0.382 ETH | Gas: 21000\n",
            "✓ Tx 84: A718 → 6FBb | Sent: 1.292 ETH | Gas: 21000\n",
            "✓ Tx 85: 6FBb → 1141 | Sent: 0.978 ETH | Gas: 21000\n",
            "✓ Tx 86: d30C → 6FBb | Sent: 1.378 ETH | Gas: 21000\n",
            "✓ Tx 87: b276 → BA69 | Sent: 3.402 ETH | Gas: 21000\n",
            "✓ Tx 88: D6cF → b276 | Sent: 4.955 ETH | Gas: 21000\n",
            "✓ Tx 89: 6FBb → d30C | Sent: 1.018 ETH | Gas: 21000\n",
            "✓ Tx 90: 1141 → 6FBb | Sent: 0.665 ETH | Gas: 21000\n",
            "✓ Tx 91: d30C → 1528 | Sent: 0.530 ETH | Gas: 21000\n",
            "✓ Tx 92: d30C → BA69 | Sent: 2.916 ETH | Gas: 21000\n",
            "✓ Tx 93: D6cF → 6FBb | Sent: 0.552 ETH | Gas: 21000\n",
            "✓ Tx 94: b276 → 5Bdf | Sent: 1.972 ETH | Gas: 21000\n",
            "✓ Tx 95: 1141 → fA5c | Sent: 4.161 ETH | Gas: 21000\n",
            "✓ Tx 96: 6FBb → 5Bdf | Sent: 0.720 ETH | Gas: 21000\n",
            "✓ Tx 97: 1528 → 1141 | Sent: 1.016 ETH | Gas: 21000\n",
            "✓ Tx 98: 1141 → 1528 | Sent: 4.875 ETH | Gas: 21000\n",
            "✓ Tx 99: 1528 → d30C | Sent: 3.298 ETH | Gas: 21000\n",
            "✓ Tx 100: d30C → 5Bdf | Sent: 2.743 ETH | Gas: 21000\n",
            "\n",
            "🔹 Final Account Balances:\n",
            "0x7E5F4552091A69125d5DfCb7b8C2659029395Bdf: 999983.8986 ETH\n",
            "0x2B5AD5c4795c026514f8317c7a215E218DcCD6cF: 1000012.7785 ETH\n",
            "0x6813Eb9362372EEF6200f3b1dbC3f819671cBA69: 999992.5877 ETH\n",
            "0x1efF47bc3a10a45D4B230B5d10E37751FE6AA718: 874002.6729 ETH\n",
            "0xe1AB8145F7E55DC933d51a18c793F901A3A0b276: 999961.0093 ETH\n",
            "0xE57bFE9F44b819898F47BF37E5AF72a0783e1141: 1000023.4364 ETH\n",
            "0xd41c057fd1c78805AAC12B0A94a405c0461A6FBb: 1000017.3702 ETH\n",
            "0xF1F6619B38A98d6De0800F1DefC0a6399eB6d30C: 999987.3203 ETH\n",
            "0xF7Edc8FA1eCc32967F827C9043FcAe6ba73afA5c: 1126044.1423 ETH\n",
            "0x4CCeBa2d7D2B4fdcE4304d3e09a1fea9fbEb1528: 999974.7807 ETH\n",
            "\n",
            "🔸 Total Ether in System: 9999999.9969 ETH\n",
            "🔸 Total Gas Used: 2100000 gas\n",
            "🔸 Variance in Balances: 3176245589.161664\n",
            "🔸 Gini Coefficient: 0.0227\n"
          ]
        }
      ]
    },
    {
      "cell_type": "code",
      "source": [
        "'''TONTINE'''\n",
        "\n",
        "import matplotlib.pyplot as plt\n",
        "import numpy as np\n",
        "\n",
        "def run_tontine(w3, tx_per_generation=10, delay_range=(0.1, 0.3)):\n",
        "    generations = 0\n",
        "    gini_history = []\n",
        "    balance_history = []\n",
        "\n",
        "    while True:\n",
        "        generations += 1\n",
        "        print(f\"\\n--- Generation {generations} ---\")\n",
        "        run_n_transactions(w3, tx_per_generation, delay_range)\n",
        "\n",
        "        # Get current balances\n",
        "        balances = [w3.from_wei(w3.eth.get_balance(acct), 'ether') for acct in w3.eth.accounts]\n",
        "        balance_history.append(balances)\n",
        "        gini_history.append(gini_coefficient(balances))\n",
        "\n",
        "        # Check how many accounts still have positive balances (ignoring gas dust)\n",
        "        positive = sum(b > 0.001 for b in balances)\n",
        "        if positive <= 1:\n",
        "            print(\"🏁 Tontine complete!\")\n",
        "            break\n",
        "\n",
        "    return balance_history, gini_history\n",
        "\n",
        "\n",
        "def plot_tontine(balance_history, gini_history, w3):\n",
        "    balance_history = np.array(balance_history)\n",
        "\n",
        "    # Plot balances\n",
        "    plt.figure(figsize=(12, 5))\n",
        "    for i in range(balance_history.shape[1]):\n",
        "        plt.plot(balance_history[:, i], label=f\"Acct {w3.eth.accounts[i][-4:]}\")\n",
        "    plt.title(\"Account Balances Over Generations\")\n",
        "    plt.xlabel(\"Generation\")\n",
        "    plt.ylabel(\"Balance (ETH)\")\n",
        "    plt.grid(True)\n",
        "    plt.legend(loc='upper right', fontsize='small')\n",
        "    plt.tight_layout()\n",
        "    plt.show()\n",
        "\n",
        "    # Plot Gini\n",
        "    plt.figure(figsize=(8, 4))\n",
        "    plt.plot(gini_history, marker='o')\n",
        "    plt.title(\"Gini Coefficient Over Time\")\n",
        "    plt.xlabel(\"Generation\")\n",
        "    plt.ylabel(\"Gini Coefficient\")\n",
        "    plt.grid(True)\n",
        "    plt.tight_layout()\n",
        "    plt.show()"
      ],
      "metadata": {
        "id": "3oauyQb2AICN"
      },
      "execution_count": null,
      "outputs": []
    }
  ]
}