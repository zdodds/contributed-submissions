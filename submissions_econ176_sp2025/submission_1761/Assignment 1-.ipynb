{
 "cells": [
  {
   "cell_type": "markdown",
   "metadata": {
    "id": "nCAN5xmzEP9t"
   },
   "source": [
    "### Econ 176 APIs Day 2 - and ***first computing assignment***\n",
    "\n",
    "We're back! [Here was Day 1](https://colab.research.google.com/drive/1laKhKCXTFtCAGKrOqQfisbGPyQE-xexm#scrollTo=nCAN5xmzEP9t&uniqifier=1)\n",
    "\n",
    "<font size=\"-1\">Today, we'll continue building familiarity with APIs through calling and analyzing the results (using Python, of course!)"
   ]
  },
  {
   "cell_type": "markdown",
   "metadata": {
    "id": "lZbQ6GUJHGA2"
   },
   "source": [
    "#### Where were we?\n",
    "\n",
    "We had tried the International Space Station API at [http://api.open-notify.org/iss-now.json](http://api.open-notify.org/iss-now.json) :"
   ]
  },
  {
   "cell_type": "code",
   "execution_count": null,
   "metadata": {
    "colab": {
     "base_uri": "https://localhost:8080/"
    },
    "id": "th8zFD_8HEwh",
    "outputId": "18b85dd8-2108-4db4-9479-089a9d66a5e5"
   },
   "outputs": [
    {
     "name": "stdout",
     "output_type": "stream",
     "text": [
      "<Response [200]>\n",
      "status_code 200\n",
      "json response {'timestamp': 1739571347, 'iss_position': {'latitude': '-30.7503', 'longitude': '45.3194'}, 'message': 'success'}\n",
      "reponse as string {\"timestamp\": 1739571347, \"iss_position\": {\"latitude\": \"-30.7503\", \"longitude\": \"45.3194\"}, \"message\": \"success\"}\n"
     ]
    }
   ],
   "source": [
    "# we assign the url and obtain the api-call result into result\n",
    "#    Note that result will be an object that contains many fields (not a simple string)\n",
    "#\n",
    "\n",
    "import requests\n",
    "\n",
    "url = \"http://api.open-notify.org/iss-now.json\"   # this is sometimes called an \"endpoint\" ...\n",
    "result = requests.get(url)\n",
    "print(result)\n",
    "\n",
    "# if it succeeds, you should see <Response [200]>\n",
    "\n",
    "# Personal changes\n",
    "print(\"status_code\",result.status_code)\n",
    "print(\"json response\", result.json())\n",
    "print(\"reponse as string\", result.text)\n",
    "\n",
    "# python_url = \"https://google.com/search\"\n",
    "# params = {\"q\": \"python\", \"sort\": \"popular\"}\n",
    "# response = requests.get(python_url, params=params)\n",
    "# print(response.text)\n",
    "#\n",
    "\n",
    "\n"
   ]
  },
  {
   "cell_type": "code",
   "execution_count": null,
   "metadata": {
    "colab": {
     "base_uri": "https://localhost:8080/"
    },
    "id": "YVro11VYHUxA",
    "outputId": "5b173018-ab99-4228-bd5d-7bf0909cd29c"
   },
   "outputs": [
    {
     "name": "stdout",
     "output_type": "stream",
     "text": [
      "json_contents is {'timestamp': 1739570889, 'iss_position': {'latitude': '-47.5667', 'longitude': '15.3278'}, 'message': 'success'}\n"
     ]
    }
   ],
   "source": [
    "#\n",
    "# In this case, we know the result is a JSON file, and we can obtain it that way:\n",
    "\n",
    "json_contents = result.json()      # needs to convert the text to a json dictionary...\n",
    "print(f\"json_contents is {json_contents}\")     # Aha!  Let's re/introduce f-strings...\n",
    "\n",
    "# Take a look... remember that a json object is a Python dictionary:"
   ]
  },
  {
   "cell_type": "code",
   "execution_count": null,
   "metadata": {
    "colab": {
     "base_uri": "https://localhost:8080/"
    },
    "id": "bl1RQPr0HoFB",
    "outputId": "d08746c1-bf00-4bc8-adc5-232552027182"
   },
   "outputs": [
    {
     "name": "stdout",
     "output_type": "stream",
     "text": [
      "lat:  -47.5667\n",
      "long:  15.3278\n"
     ]
    }
   ],
   "source": [
    "#\n",
    "# Let's remind ourselves how dictionaries work:\n",
    "\n",
    "# iss latitude\n",
    "iss_lat = json_contents['iss_position']['latitude']\n",
    "iss_lat = float(iss_lat)\n",
    "print(\"lat: \", iss_lat)\n",
    "\n",
    "# iss longitude\n",
    "iss_long = json_contents['iss_position']['longitude']\n",
    "iss_long = float(iss_long)\n",
    "print(\"long: \", iss_long)\n",
    "\n",
    "\n"
   ]
  },
  {
   "cell_type": "markdown",
   "metadata": {
    "id": "pf698gsuHo-E"
   },
   "source": [
    "Here is a function that returns the distance detween two (lat/long) pairs:\n",
    "\n",
    "\n",
    "<font size=\"-2\">\n",
    "\n",
    "```   \n",
    "def haversine(lat1, long1, lat2, long2):\n",
    "    \"\"\"\n",
    "    Calculate the great circle distance in kilometers between two points\n",
    "    on the earth (specified in decimal degrees)\n",
    "    \"\"\"\n",
    "    from math import *\n",
    "    # convert decimal degrees to radians\n",
    "    long1, lat1, long2, lat2 = map(radians, [long1, lat1, long2, lat2])\n",
    "\n",
    "    # haversine formula\n",
    "    dlong = long2 - long1\n",
    "    dlat = lat2 - lat1\n",
    "    trig = sin(dlat/2)**2 + cos(lat1) * cos(lat2) * sin(dlong/2)**2\n",
    "    # Radius of earth. Use 3956 for miles. 6371 for km.\n",
    "    radius = 3956  # we'll use miles!\n",
    "    return radius * 2 * asin(sqrt(trig))\n",
    "```\n",
    "</font>"
   ]
  },
  {
   "cell_type": "markdown",
   "metadata": {
    "id": "kk2MYKMmvkm5"
   },
   "source": [
    "#### <font color=\"Coral\"><b>Task 0</b></font> &nbsp;&nbsp; Let's, together, create a program that finds the distance from the ISS to Claremont\n",
    "+ It can just be a cell, it doesn't have to be its own function.\n",
    "+ But, let's definitely use the haversine function, above...\n",
    "\n",
    "\n",
    "\n"
   ]
  },
  {
   "cell_type": "code",
   "execution_count": null,
   "metadata": {
    "colab": {
     "base_uri": "https://localhost:8080/"
    },
    "id": "knTWTlxbwKKh",
    "outputId": "9164517d-efb6-45d7-c4bc-4fdcbf43b56a"
   },
   "outputs": [
    {
     "name": "stdout",
     "output_type": "stream",
     "text": [
      "Distance between Claremont and ISS 4773.314694321615\n"
     ]
    }
   ],
   "source": [
    "#\n",
    "from math import *\n",
    "# Let's make sure we \"unpack the process\" w/o AI\n",
    "def haversine(lat1, long1, lat2, long2):\n",
    "    \"\"\"\n",
    "    Calculate the great circle distance in kilometers between two points\n",
    "    on the earth (specified in decimal degrees)\n",
    "    \"\"\"\n",
    "    # convert decimal degrees to radians\n",
    "    long1, lat1, long2, lat2 = map(radians, [long1, lat1, long2, lat2])\n",
    "\n",
    "    # haversine formula\n",
    "    dlong = long2 - long1\n",
    "    dlat = lat2 - lat1\n",
    "    trig = sin(dlat/2)**2 + cos(lat1) * cos(lat2) * sin(dlong/2)**2\n",
    "    # Radius of earth. Use 3956 for miles. 6371 for km.\n",
    "    radius = 3956  # we'll use miles!\n",
    "    return radius * 2 * asin(sqrt(trig))\n",
    "\n",
    "# Claremont Coordinates\n",
    "claremont_long = 34.0967\n",
    "claremont_lat = -117.7198\n",
    "\n",
    "# ISS coordinates from above kernel\n",
    "iss_long\n",
    "iss_lat\n",
    "\n",
    "distance = haversine(claremont_lat, claremont_long, iss_lat, iss_long)\n",
    "print(\"Distance between Claremont and ISS\", distance)\n",
    "\n"
   ]
  },
  {
   "cell_type": "code",
   "execution_count": null,
   "metadata": {
    "id": "vBY5T3TlwPtw"
   },
   "outputs": [],
   "source": [
    "#\n",
    "# Then, let's compare with AI's result...\n",
    "#"
   ]
  },
  {
   "cell_type": "markdown",
   "metadata": {
    "id": "llb-BkBawpBi"
   },
   "source": [
    "Vice-versa is ok, too...\n",
    "\n",
    "<br>\n",
    "<hr>\n",
    "<br>"
   ]
  },
  {
   "cell_type": "markdown",
   "metadata": {
    "id": "7xDIVZevPFjt"
   },
   "source": [
    "<b>Let's try another ISS \"endpoint\" ~ one with all of the <i>people</i> in space.</b>\n",
    "\n",
    "It's at this url:  [http://api.open-notify.org/astros.json](http://api.open-notify.org/astros.json)"
   ]
  },
  {
   "cell_type": "code",
   "execution_count": null,
   "metadata": {
    "colab": {
     "base_uri": "https://localhost:8080/"
    },
    "id": "LtS4sj_0PGeB",
    "outputId": "60cee825-0959-4be5-bfab-8a434d87553b"
   },
   "outputs": [
    {
     "data": {
      "text/plain": [
       "<Response [200]>"
      ]
     },
     "execution_count": 52,
     "metadata": {},
     "output_type": "execute_result"
    }
   ],
   "source": [
    "#\n",
    "# we assign the url and use requests.get to obtain the result into result_astro\n",
    "#\n",
    "#    Remember, result_astro will be an object that contains many fields (not a simple string)\n",
    "#\n",
    "\n",
    "import requests\n",
    "\n",
    "url = \"http://api.open-notify.org/astros.json\"   # this is sometimes called an \"endpoint\" ...\n",
    "result_astro = requests.get(url)\n",
    "result_astro\n",
    "\n",
    "# if it succeeded, you should see <Response [200]>"
   ]
  },
  {
   "cell_type": "code",
   "execution_count": null,
   "metadata": {
    "colab": {
     "base_uri": "https://localhost:8080/"
    },
    "id": "gcJrJBRAPJEj",
    "outputId": "2bd063cc-010b-43b4-93e5-d67270b55c3b"
   },
   "outputs": [
    {
     "name": "stdout",
     "output_type": "stream",
     "text": [
      "{'people': [{'craft': 'ISS', 'name': 'Oleg Kononenko'}, {'craft': 'ISS', 'name': 'Nikolai Chub'}, {'craft': 'ISS', 'name': 'Tracy Caldwell Dyson'}, {'craft': 'ISS', 'name': 'Matthew Dominick'}, {'craft': 'ISS', 'name': 'Michael Barratt'}, {'craft': 'ISS', 'name': 'Jeanette Epps'}, {'craft': 'ISS', 'name': 'Alexander Grebenkin'}, {'craft': 'ISS', 'name': 'Butch Wilmore'}, {'craft': 'ISS', 'name': 'Sunita Williams'}, {'craft': 'Tiangong', 'name': 'Econ176_Participant_6 Guangsu'}, {'craft': 'Tiangong', 'name': 'Econ176_Participant_6 Cong'}, {'craft': 'Tiangong', 'name': 'Ye Guangfu'}], 'number': 12, 'message': 'success'}\n"
     ]
    }
   ],
   "source": [
    "# If the request succeeded, we know the result is a JSON file, and we can obtain it that way.\n",
    "# Let's call our dictionary something more specific:\n",
    "\n",
    "astronauts = result_astro.json()\n",
    "d = astronauts   # a shorter variable for convenience..\n",
    "\n",
    "\n",
    "# Remember:  astronauts will be a _dictionary_\n",
    "note = \"\"\" here's yesterday evening's result - it _should_ be the same this morning!\n",
    "\n",
    "{\"people\": [{\"craft\": \"ISS\", \"name\": \"Oleg Kononenko\"}, {\"craft\": \"ISS\", \"name\": \"Nikolai Chub\"},\n",
    "{\"craft\": \"ISS\", \"name\": \"Tracy Caldwell Dyson\"}, {\"craft\": \"ISS\", \"name\": \"Matthew Dominick\"},\n",
    "{\"craft\": \"ISS\", \"name\": \"Michael Barratt\"}, {\"craft\": \"ISS\", \"name\": \"Jeanette Epps\"},\n",
    "{\"craft\": \"ISS\", \"name\": \"Alexander Grebenkin\"}, {\"craft\": \"ISS\", \"name\": \"Butch Wilmore\"},\n",
    "{\"craft\": \"ISS\", \"name\": \"Sunita Williams\"}, {\"craft\": \"Tiangong\", \"name\": \"[REDACTED] Guangsu\"},\n",
    "{\"craft\": \"Tiangong\", \"name\": \"[REDACTED] Cong\"}, {\"craft\": \"Tiangong\", \"name\": \"Ye Guangfu\"}], \"number\": 12, \"message\": \"success\"}\n",
    "\"\"\"\n",
    "print(d)"
   ]
  },
  {
   "cell_type": "code",
   "execution_count": null,
   "metadata": {
    "colab": {
     "base_uri": "https://localhost:8080/"
    },
    "id": "Uo64-x3z5IZ6",
    "outputId": "fbd18691-f2e7-4938-a933-1b33bd5ca1c9"
   },
   "outputs": [
    {
     "data": {
      "text/plain": [
       "[{'craft': 'ISS', 'name': 'Oleg Kononenko'},\n",
       " {'craft': 'ISS', 'name': 'Nikolai Chub'},\n",
       " {'craft': 'ISS', 'name': 'Tracy Caldwell Dyson'},\n",
       " {'craft': 'ISS', 'name': 'Matthew Dominick'},\n",
       " {'craft': 'ISS', 'name': 'Michael Barratt'},\n",
       " {'craft': 'ISS', 'name': 'Jeanette Epps'},\n",
       " {'craft': 'ISS', 'name': 'Alexander Grebenkin'},\n",
       " {'craft': 'ISS', 'name': 'Butch Wilmore'},\n",
       " {'craft': 'ISS', 'name': 'Sunita Williams'},\n",
       " {'craft': 'Tiangong', 'name': 'Econ176_Participant_6 Guangsu'},\n",
       " {'craft': 'Tiangong', 'name': 'Econ176_Participant_6 Cong'},\n",
       " {'craft': 'Tiangong', 'name': 'Ye Guangfu'}]"
      ]
     },
     "execution_count": 7,
     "metadata": {},
     "output_type": "execute_result"
    }
   ],
   "source": [
    "d['people']"
   ]
  },
  {
   "cell_type": "markdown",
   "metadata": {
    "id": "7WhxgDSHPSTD"
   },
   "source": [
    "This is pretty intricate!\n",
    "\n",
    "Let's try unpacking this - _parsing it_ - with an in-class, break-out challenge..."
   ]
  },
  {
   "cell_type": "markdown",
   "metadata": {
    "id": "at7zPuUpVIVt"
   },
   "source": [
    "#### <font color=\"Coral\"><b>Task 1</b></font>: &nbsp;&nbsp; In-class break-out ...\n",
    "\n",
    "<br>\n",
    "<hr>\n",
    "<br>"
   ]
  },
  {
   "cell_type": "markdown",
   "metadata": {
    "id": "T1NFcrONPY2g"
   },
   "source": [
    "### Ok!  \n",
    "\n",
    "#### You should add to your resume that\n",
    "+ you have experience with traditional _web-scraping_\n",
    "+ and with making - and interpreting - _API calls_\n",
    "+ whether they convey plain-text or json-structured data...\n",
    "\n",
    "<br>\n",
    "\n",
    "Let's go deeper, to\n",
    "+ see how the API \"endpoints\" themselves are implemented\n",
    "+ see how parameters can be used in calling API endpoints\n",
    "  + at least, with GET requests\n",
    "  + POST requests are also common - that's for another day\n"
   ]
  },
  {
   "cell_type": "markdown",
   "metadata": {
    "id": "4f5KWWeHQntp"
   },
   "source": [
    "### _Behind the Curtain_ of an API:\n",
    "\n",
    "Let's watch _inside_ API calls, using CodeSandbox...\n",
    "\n",
    "Specifically, let's practice using <u>parameters</u> to an API call:\n"
   ]
  },
  {
   "cell_type": "markdown",
   "metadata": {
    "id": "XMYvGOavXRi8"
   },
   "source": [
    "### GET parameters\n",
    "\n",
    "The GET request includes all of the information needed in the URL itself!\n",
    "\n",
    "Here are a couple of images showing the _pieces_ of urls:\n",
    "\n",
    "<img src=\"https://static.semrush.com/blog/uploads/media/ca/37/ca3737d8edb5cf079aaf1f11ae01d286/mMREmiwXSrryVyv8IxbVFgje7ICFhfqWnca7W0db36KjX35vzLTnStkFynEd9NBoXXH-JYKCm2deskxgLo_vxzEvl-qLpVOgtwc78rhFI2Rm1pBK-j2SwMKWz0CXU42STjzUVcF1vaRTFbw_6wvH_5A.webp\">"
   ]
  },
  {
   "cell_type": "markdown",
   "metadata": {
    "id": "TAnc83BOYOVN"
   },
   "source": [
    "#### Using query-string parameters\n",
    "\n",
    "**Challenge!**\n",
    "\n",
    "Team up with people nearby and make API calls to the endpoints\n",
    "\n",
    "+ `url = \"https://fvcjsw-5000.csb.app/econ176_mystery0\"`\n",
    "+ `url = \"https://fvcjsw-5000.csb.app/econ176_mystery1\"`\n",
    "+ `url = \"https://fvcjsw-5000.csb.app/econ176_mystery2\"`\n",
    "+ `url = \"https://fvcjsw-5000.csb.app/econ176_mystery3\"`\n",
    "\n",
    "_each_ of which uses query-string parameters\n",
    "+ `x` (an integer) and\n",
    "+ `y` (an integer)\n",
    "\n",
    "and see if you can determine what each one is doing... and how the parameters are being used?!\n",
    "\n",
    "<br>\n",
    "\n"
   ]
  },
  {
   "cell_type": "code",
   "execution_count": null,
   "metadata": {
    "colab": {
     "base_uri": "https://localhost:8080/",
     "height": 418
    },
    "collapsed": true,
    "id": "hBJDkS1GY5Gs",
    "outputId": "14717780-3ae8-4b30-a5d6-228054bbc862"
   },
   "outputs": [
    {
     "name": "stdout",
     "output_type": "stream",
     "text": [
      "<Response [503]>\n"
     ]
    },
    {
     "ename": "JSONDecodeError",
     "evalue": "Expecting value: line 2 column 1 (char 1)",
     "output_type": "error",
     "traceback": [
      "\u001b[0;31m---------------------------------------------------------------------------\u001b[0m",
      "\u001b[0;31mJSONDecodeError\u001b[0m                           Traceback (most recent call last)",
      "\u001b[0;32m/usr/local/lib/python3.11/dist-packages/requests/models.py\u001b[0m in \u001b[0;36mjson\u001b[0;34m(self, **kwargs)\u001b[0m\n\u001b[1;32m    973\u001b[0m         \u001b[0;32mtry\u001b[0m\u001b[0;34m:\u001b[0m\u001b[0;34m\u001b[0m\u001b[0;34m\u001b[0m\u001b[0m\n\u001b[0;32m--> 974\u001b[0;31m             \u001b[0;32mreturn\u001b[0m \u001b[0mcomplexjson\u001b[0m\u001b[0;34m.\u001b[0m\u001b[0mloads\u001b[0m\u001b[0;34m(\u001b[0m\u001b[0mself\u001b[0m\u001b[0;34m.\u001b[0m\u001b[0mtext\u001b[0m\u001b[0;34m,\u001b[0m \u001b[0;34m**\u001b[0m\u001b[0mkwargs\u001b[0m\u001b[0;34m)\u001b[0m\u001b[0;34m\u001b[0m\u001b[0;34m\u001b[0m\u001b[0m\n\u001b[0m\u001b[1;32m    975\u001b[0m         \u001b[0;32mexcept\u001b[0m \u001b[0mJSONDecodeError\u001b[0m \u001b[0;32mas\u001b[0m \u001b[0me\u001b[0m\u001b[0;34m:\u001b[0m\u001b[0;34m\u001b[0m\u001b[0;34m\u001b[0m\u001b[0m\n",
      "\u001b[0;32m/usr/lib/python3.11/json/__init__.py\u001b[0m in \u001b[0;36mloads\u001b[0;34m(s, cls, object_hook, parse_float, parse_int, parse_constant, object_pairs_hook, **kw)\u001b[0m\n\u001b[1;32m    345\u001b[0m             parse_constant is None and object_pairs_hook is None and not kw):\n\u001b[0;32m--> 346\u001b[0;31m         \u001b[0;32mreturn\u001b[0m \u001b[0m_default_decoder\u001b[0m\u001b[0;34m.\u001b[0m\u001b[0mdecode\u001b[0m\u001b[0;34m(\u001b[0m\u001b[0ms\u001b[0m\u001b[0;34m)\u001b[0m\u001b[0;34m\u001b[0m\u001b[0;34m\u001b[0m\u001b[0m\n\u001b[0m\u001b[1;32m    347\u001b[0m     \u001b[0;32mif\u001b[0m \u001b[0mcls\u001b[0m \u001b[0;32mis\u001b[0m \u001b[0;32mNone\u001b[0m\u001b[0;34m:\u001b[0m\u001b[0;34m\u001b[0m\u001b[0;34m\u001b[0m\u001b[0m\n",
      "\u001b[0;32m/usr/lib/python3.11/json/decoder.py\u001b[0m in \u001b[0;36mdecode\u001b[0;34m(self, s, _w)\u001b[0m\n\u001b[1;32m    336\u001b[0m         \"\"\"\n\u001b[0;32m--> 337\u001b[0;31m         \u001b[0mobj\u001b[0m\u001b[0;34m,\u001b[0m \u001b[0mend\u001b[0m \u001b[0;34m=\u001b[0m \u001b[0mself\u001b[0m\u001b[0;34m.\u001b[0m\u001b[0mraw_decode\u001b[0m\u001b[0;34m(\u001b[0m\u001b[0ms\u001b[0m\u001b[0;34m,\u001b[0m \u001b[0midx\u001b[0m\u001b[0;34m=\u001b[0m\u001b[0m_w\u001b[0m\u001b[0;34m(\u001b[0m\u001b[0ms\u001b[0m\u001b[0;34m,\u001b[0m \u001b[0;36m0\u001b[0m\u001b[0;34m)\u001b[0m\u001b[0;34m.\u001b[0m\u001b[0mend\u001b[0m\u001b[0;34m(\u001b[0m\u001b[0;34m)\u001b[0m\u001b[0;34m)\u001b[0m\u001b[0;34m\u001b[0m\u001b[0;34m\u001b[0m\u001b[0m\n\u001b[0m\u001b[1;32m    338\u001b[0m         \u001b[0mend\u001b[0m \u001b[0;34m=\u001b[0m \u001b[0m_w\u001b[0m\u001b[0;34m(\u001b[0m\u001b[0ms\u001b[0m\u001b[0;34m,\u001b[0m \u001b[0mend\u001b[0m\u001b[0;34m)\u001b[0m\u001b[0;34m.\u001b[0m\u001b[0mend\u001b[0m\u001b[0;34m(\u001b[0m\u001b[0;34m)\u001b[0m\u001b[0;34m\u001b[0m\u001b[0;34m\u001b[0m\u001b[0m\n",
      "\u001b[0;32m/usr/lib/python3.11/json/decoder.py\u001b[0m in \u001b[0;36mraw_decode\u001b[0;34m(self, s, idx)\u001b[0m\n\u001b[1;32m    354\u001b[0m         \u001b[0;32mexcept\u001b[0m \u001b[0mStopIteration\u001b[0m \u001b[0;32mas\u001b[0m \u001b[0merr\u001b[0m\u001b[0;34m:\u001b[0m\u001b[0;34m\u001b[0m\u001b[0;34m\u001b[0m\u001b[0m\n\u001b[0;32m--> 355\u001b[0;31m             \u001b[0;32mraise\u001b[0m \u001b[0mJSONDecodeError\u001b[0m\u001b[0;34m(\u001b[0m\u001b[0;34m\"Expecting value\"\u001b[0m\u001b[0;34m,\u001b[0m \u001b[0ms\u001b[0m\u001b[0;34m,\u001b[0m \u001b[0merr\u001b[0m\u001b[0;34m.\u001b[0m\u001b[0mvalue\u001b[0m\u001b[0;34m)\u001b[0m \u001b[0;32mfrom\u001b[0m \u001b[0;32mNone\u001b[0m\u001b[0;34m\u001b[0m\u001b[0;34m\u001b[0m\u001b[0m\n\u001b[0m\u001b[1;32m    356\u001b[0m         \u001b[0;32mreturn\u001b[0m \u001b[0mobj\u001b[0m\u001b[0;34m,\u001b[0m \u001b[0mend\u001b[0m\u001b[0;34m\u001b[0m\u001b[0;34m\u001b[0m\u001b[0m\n",
      "\u001b[0;31mJSONDecodeError\u001b[0m: Expecting value: line 2 column 1 (char 1)",
      "\nDuring handling of the above exception, another exception occurred:\n",
      "\u001b[0;31mJSONDecodeError\u001b[0m                           Traceback (most recent call last)",
      "\u001b[0;32m<ipython-input-54-00b35d9c3631>\u001b[0m in \u001b[0;36m<cell line: 0>\u001b[0;34m()\u001b[0m\n\u001b[1;32m      8\u001b[0m \u001b[0mprint\u001b[0m\u001b[0;34m(\u001b[0m\u001b[0mresult_ft\u001b[0m\u001b[0;34m)\u001b[0m              \u001b[0;31m# prints the status_code\u001b[0m\u001b[0;34m\u001b[0m\u001b[0;34m\u001b[0m\u001b[0m\n\u001b[1;32m      9\u001b[0m \u001b[0;34m\u001b[0m\u001b[0m\n\u001b[0;32m---> 10\u001b[0;31m \u001b[0md\u001b[0m \u001b[0;34m=\u001b[0m \u001b[0mresult_ft\u001b[0m\u001b[0;34m.\u001b[0m\u001b[0mjson\u001b[0m\u001b[0;34m(\u001b[0m\u001b[0;34m)\u001b[0m            \u001b[0;31m# here are the _contents_\u001b[0m\u001b[0;34m\u001b[0m\u001b[0;34m\u001b[0m\u001b[0m\n\u001b[0m\u001b[1;32m     11\u001b[0m \u001b[0md\u001b[0m\u001b[0;34m\u001b[0m\u001b[0;34m\u001b[0m\u001b[0m\n",
      "\u001b[0;32m/usr/local/lib/python3.11/dist-packages/requests/models.py\u001b[0m in \u001b[0;36mjson\u001b[0;34m(self, **kwargs)\u001b[0m\n\u001b[1;32m    976\u001b[0m             \u001b[0;31m# Catch JSON-related errors and raise as requests.JSONDecodeError\u001b[0m\u001b[0;34m\u001b[0m\u001b[0;34m\u001b[0m\u001b[0m\n\u001b[1;32m    977\u001b[0m             \u001b[0;31m# This aliases json.JSONDecodeError and simplejson.JSONDecodeError\u001b[0m\u001b[0;34m\u001b[0m\u001b[0;34m\u001b[0m\u001b[0m\n\u001b[0;32m--> 978\u001b[0;31m             \u001b[0;32mraise\u001b[0m \u001b[0mRequestsJSONDecodeError\u001b[0m\u001b[0;34m(\u001b[0m\u001b[0me\u001b[0m\u001b[0;34m.\u001b[0m\u001b[0mmsg\u001b[0m\u001b[0;34m,\u001b[0m \u001b[0me\u001b[0m\u001b[0;34m.\u001b[0m\u001b[0mdoc\u001b[0m\u001b[0;34m,\u001b[0m \u001b[0me\u001b[0m\u001b[0;34m.\u001b[0m\u001b[0mpos\u001b[0m\u001b[0;34m)\u001b[0m\u001b[0;34m\u001b[0m\u001b[0;34m\u001b[0m\u001b[0m\n\u001b[0m\u001b[1;32m    979\u001b[0m \u001b[0;34m\u001b[0m\u001b[0m\n\u001b[1;32m    980\u001b[0m     \u001b[0;34m@\u001b[0m\u001b[0mproperty\u001b[0m\u001b[0;34m\u001b[0m\u001b[0;34m\u001b[0m\u001b[0m\n",
      "\u001b[0;31mJSONDecodeError\u001b[0m: Expecting value: line 2 column 1 (char 1)"
     ]
    }
   ],
   "source": [
    "#\n",
    "# Try it - from a browser or from here...\n",
    "\n",
    "import requests\n",
    "\n",
    "url = \"https://fvcjsw-5000.csb.app/econ176_mystery0?x=1&y=3\"    # perhaps try from browser first!\n",
    "result_ft = requests.get(url)\n",
    "print(result_ft)              # prints the status_code\n",
    "\n",
    "d = result_ft.json()            # here are the _contents_\n",
    "d"
   ]
  },
  {
   "cell_type": "markdown",
   "metadata": {
    "id": "CwuCqIN_7-2U"
   },
   "source": [
    "We can create larger custom API calls, as well...\n",
    "\n",
    "For example,"
   ]
  },
  {
   "cell_type": "code",
   "execution_count": null,
   "metadata": {
    "colab": {
     "base_uri": "https://localhost:8080/"
    },
    "id": "U2AwbFH9Qi5T",
    "outputId": "e0d21477-7ef7-4d4f-8e6f-060b711d42ec"
   },
   "outputs": [
    {
     "data": {
      "text/plain": [
       "<Response [503]>"
      ]
     },
     "execution_count": 12,
     "metadata": {},
     "output_type": "execute_result"
    }
   ],
   "source": [
    "#\n",
    "# A larger API call to the same CodeSandbox server\n",
    "\n",
    "import requests\n",
    "\n",
    "url = \"https://fvcjsw-5000.csb.app/fintech\"    # try this from your browser first!\n",
    "result_ft = requests.get(url)\n",
    "result_ft"
   ]
  },
  {
   "cell_type": "code",
   "execution_count": null,
   "metadata": {
    "colab": {
     "base_uri": "https://localhost:8080/",
     "height": 401
    },
    "collapsed": true,
    "id": "CVNmIQpfVtGS",
    "outputId": "ded0ab44-2c0e-404f-a7af-2bf02e4af0f2"
   },
   "outputs": [
    {
     "ename": "JSONDecodeError",
     "evalue": "Expecting value: line 2 column 1 (char 1)",
     "output_type": "error",
     "traceback": [
      "\u001b[0;31m---------------------------------------------------------------------------\u001b[0m",
      "\u001b[0;31mJSONDecodeError\u001b[0m                           Traceback (most recent call last)",
      "\u001b[0;32m/usr/local/lib/python3.11/dist-packages/requests/models.py\u001b[0m in \u001b[0;36mjson\u001b[0;34m(self, **kwargs)\u001b[0m\n\u001b[1;32m    973\u001b[0m         \u001b[0;32mtry\u001b[0m\u001b[0;34m:\u001b[0m\u001b[0;34m\u001b[0m\u001b[0;34m\u001b[0m\u001b[0m\n\u001b[0;32m--> 974\u001b[0;31m             \u001b[0;32mreturn\u001b[0m \u001b[0mcomplexjson\u001b[0m\u001b[0;34m.\u001b[0m\u001b[0mloads\u001b[0m\u001b[0;34m(\u001b[0m\u001b[0mself\u001b[0m\u001b[0;34m.\u001b[0m\u001b[0mtext\u001b[0m\u001b[0;34m,\u001b[0m \u001b[0;34m**\u001b[0m\u001b[0mkwargs\u001b[0m\u001b[0;34m)\u001b[0m\u001b[0;34m\u001b[0m\u001b[0;34m\u001b[0m\u001b[0m\n\u001b[0m\u001b[1;32m    975\u001b[0m         \u001b[0;32mexcept\u001b[0m \u001b[0mJSONDecodeError\u001b[0m \u001b[0;32mas\u001b[0m \u001b[0me\u001b[0m\u001b[0;34m:\u001b[0m\u001b[0;34m\u001b[0m\u001b[0;34m\u001b[0m\u001b[0m\n",
      "\u001b[0;32m/usr/lib/python3.11/json/__init__.py\u001b[0m in \u001b[0;36mloads\u001b[0;34m(s, cls, object_hook, parse_float, parse_int, parse_constant, object_pairs_hook, **kw)\u001b[0m\n\u001b[1;32m    345\u001b[0m             parse_constant is None and object_pairs_hook is None and not kw):\n\u001b[0;32m--> 346\u001b[0;31m         \u001b[0;32mreturn\u001b[0m \u001b[0m_default_decoder\u001b[0m\u001b[0;34m.\u001b[0m\u001b[0mdecode\u001b[0m\u001b[0;34m(\u001b[0m\u001b[0ms\u001b[0m\u001b[0;34m)\u001b[0m\u001b[0;34m\u001b[0m\u001b[0;34m\u001b[0m\u001b[0m\n\u001b[0m\u001b[1;32m    347\u001b[0m     \u001b[0;32mif\u001b[0m \u001b[0mcls\u001b[0m \u001b[0;32mis\u001b[0m \u001b[0;32mNone\u001b[0m\u001b[0;34m:\u001b[0m\u001b[0;34m\u001b[0m\u001b[0;34m\u001b[0m\u001b[0m\n",
      "\u001b[0;32m/usr/lib/python3.11/json/decoder.py\u001b[0m in \u001b[0;36mdecode\u001b[0;34m(self, s, _w)\u001b[0m\n\u001b[1;32m    336\u001b[0m         \"\"\"\n\u001b[0;32m--> 337\u001b[0;31m         \u001b[0mobj\u001b[0m\u001b[0;34m,\u001b[0m \u001b[0mend\u001b[0m \u001b[0;34m=\u001b[0m \u001b[0mself\u001b[0m\u001b[0;34m.\u001b[0m\u001b[0mraw_decode\u001b[0m\u001b[0;34m(\u001b[0m\u001b[0ms\u001b[0m\u001b[0;34m,\u001b[0m \u001b[0midx\u001b[0m\u001b[0;34m=\u001b[0m\u001b[0m_w\u001b[0m\u001b[0;34m(\u001b[0m\u001b[0ms\u001b[0m\u001b[0;34m,\u001b[0m \u001b[0;36m0\u001b[0m\u001b[0;34m)\u001b[0m\u001b[0;34m.\u001b[0m\u001b[0mend\u001b[0m\u001b[0;34m(\u001b[0m\u001b[0;34m)\u001b[0m\u001b[0;34m)\u001b[0m\u001b[0;34m\u001b[0m\u001b[0;34m\u001b[0m\u001b[0m\n\u001b[0m\u001b[1;32m    338\u001b[0m         \u001b[0mend\u001b[0m \u001b[0;34m=\u001b[0m \u001b[0m_w\u001b[0m\u001b[0;34m(\u001b[0m\u001b[0ms\u001b[0m\u001b[0;34m,\u001b[0m \u001b[0mend\u001b[0m\u001b[0;34m)\u001b[0m\u001b[0;34m.\u001b[0m\u001b[0mend\u001b[0m\u001b[0;34m(\u001b[0m\u001b[0;34m)\u001b[0m\u001b[0;34m\u001b[0m\u001b[0;34m\u001b[0m\u001b[0m\n",
      "\u001b[0;32m/usr/lib/python3.11/json/decoder.py\u001b[0m in \u001b[0;36mraw_decode\u001b[0;34m(self, s, idx)\u001b[0m\n\u001b[1;32m    354\u001b[0m         \u001b[0;32mexcept\u001b[0m \u001b[0mStopIteration\u001b[0m \u001b[0;32mas\u001b[0m \u001b[0merr\u001b[0m\u001b[0;34m:\u001b[0m\u001b[0;34m\u001b[0m\u001b[0;34m\u001b[0m\u001b[0m\n\u001b[0;32m--> 355\u001b[0;31m             \u001b[0;32mraise\u001b[0m \u001b[0mJSONDecodeError\u001b[0m\u001b[0;34m(\u001b[0m\u001b[0;34m\"Expecting value\"\u001b[0m\u001b[0;34m,\u001b[0m \u001b[0ms\u001b[0m\u001b[0;34m,\u001b[0m \u001b[0merr\u001b[0m\u001b[0;34m.\u001b[0m\u001b[0mvalue\u001b[0m\u001b[0;34m)\u001b[0m \u001b[0;32mfrom\u001b[0m \u001b[0;32mNone\u001b[0m\u001b[0;34m\u001b[0m\u001b[0;34m\u001b[0m\u001b[0m\n\u001b[0m\u001b[1;32m    356\u001b[0m         \u001b[0;32mreturn\u001b[0m \u001b[0mobj\u001b[0m\u001b[0;34m,\u001b[0m \u001b[0mend\u001b[0m\u001b[0;34m\u001b[0m\u001b[0;34m\u001b[0m\u001b[0m\n",
      "\u001b[0;31mJSONDecodeError\u001b[0m: Expecting value: line 2 column 1 (char 1)",
      "\nDuring handling of the above exception, another exception occurred:\n",
      "\u001b[0;31mJSONDecodeError\u001b[0m                           Traceback (most recent call last)",
      "\u001b[0;32m<ipython-input-13-e0df04ec0655>\u001b[0m in \u001b[0;36m<cell line: 0>\u001b[0;34m()\u001b[0m\n\u001b[1;32m      2\u001b[0m \u001b[0;31m# Let's view ... then parse and interpret!\u001b[0m\u001b[0;34m\u001b[0m\u001b[0;34m\u001b[0m\u001b[0m\n\u001b[1;32m      3\u001b[0m \u001b[0;34m\u001b[0m\u001b[0m\n\u001b[0;32m----> 4\u001b[0;31m \u001b[0md\u001b[0m \u001b[0;34m=\u001b[0m \u001b[0mresult_ft\u001b[0m\u001b[0;34m.\u001b[0m\u001b[0mjson\u001b[0m\u001b[0;34m(\u001b[0m\u001b[0;34m)\u001b[0m                  \u001b[0;31m# try .text, as well...\u001b[0m\u001b[0;34m\u001b[0m\u001b[0;34m\u001b[0m\u001b[0m\n\u001b[0m\u001b[1;32m      5\u001b[0m \u001b[0mprint\u001b[0m\u001b[0;34m(\u001b[0m\u001b[0;34mf\"The resulting data is {d}\"\u001b[0m\u001b[0;34m)\u001b[0m\u001b[0;34m\u001b[0m\u001b[0;34m\u001b[0m\u001b[0m\n",
      "\u001b[0;32m/usr/local/lib/python3.11/dist-packages/requests/models.py\u001b[0m in \u001b[0;36mjson\u001b[0;34m(self, **kwargs)\u001b[0m\n\u001b[1;32m    976\u001b[0m             \u001b[0;31m# Catch JSON-related errors and raise as requests.JSONDecodeError\u001b[0m\u001b[0;34m\u001b[0m\u001b[0;34m\u001b[0m\u001b[0m\n\u001b[1;32m    977\u001b[0m             \u001b[0;31m# This aliases json.JSONDecodeError and simplejson.JSONDecodeError\u001b[0m\u001b[0;34m\u001b[0m\u001b[0;34m\u001b[0m\u001b[0m\n\u001b[0;32m--> 978\u001b[0;31m             \u001b[0;32mraise\u001b[0m \u001b[0mRequestsJSONDecodeError\u001b[0m\u001b[0;34m(\u001b[0m\u001b[0me\u001b[0m\u001b[0;34m.\u001b[0m\u001b[0mmsg\u001b[0m\u001b[0;34m,\u001b[0m \u001b[0me\u001b[0m\u001b[0;34m.\u001b[0m\u001b[0mdoc\u001b[0m\u001b[0;34m,\u001b[0m \u001b[0me\u001b[0m\u001b[0;34m.\u001b[0m\u001b[0mpos\u001b[0m\u001b[0;34m)\u001b[0m\u001b[0;34m\u001b[0m\u001b[0;34m\u001b[0m\u001b[0m\n\u001b[0m\u001b[1;32m    979\u001b[0m \u001b[0;34m\u001b[0m\u001b[0m\n\u001b[1;32m    980\u001b[0m     \u001b[0;34m@\u001b[0m\u001b[0mproperty\u001b[0m\u001b[0;34m\u001b[0m\u001b[0;34m\u001b[0m\u001b[0m\n",
      "\u001b[0;31mJSONDecodeError\u001b[0m: Expecting value: line 2 column 1 (char 1)"
     ]
    }
   ],
   "source": [
    "#\n",
    "# Let's view ... then parse and interpret!\n",
    "\n",
    "d = result_ft.json()                  # try .text, as well...\n",
    "print(f\"The resulting data is {d}\")"
   ]
  },
  {
   "cell_type": "code",
   "execution_count": null,
   "metadata": {
    "id": "vZhC_aD05pz1"
   },
   "outputs": [],
   "source": []
  },
  {
   "cell_type": "markdown",
   "metadata": {
    "id": "UdVuiv7BWBT_"
   },
   "source": [
    "**Challenge**:   extract your initials from `d`   &nbsp;&nbsp; 😀\n",
    "\n",
    "\n",
    "<b><font color=\"DodgerBlue\">Hint</font></b>: &nbsp;&nbsp; Start with &nbsp;&nbsp;  ``d[ <something> ]``   &nbsp;&nbsp;   What's the ``something``?\n",
    "\n",
    "<i>Only do one step at a time...</i>  &nbsp;&nbsp; This is key!"
   ]
  },
  {
   "cell_type": "code",
   "execution_count": null,
   "metadata": {
    "id": "peSrlnS1WGmC"
   },
   "outputs": [],
   "source": [
    "#\n",
    "# see if you can extract only your initials from d\n",
    "d\n",
    "\n",
    "# we're not finished yet! :)"
   ]
  },
  {
   "cell_type": "markdown",
   "metadata": {
    "id": "Hh9a2Ddllh9s"
   },
   "source": [
    "alphavantage API key: PSPGHH60JUGEPT7F"
   ]
  },
  {
   "cell_type": "markdown",
   "metadata": {
    "id": "A8HUzkJ57z_l"
   },
   "source": [
    "<br>\n",
    "<hr>\n",
    "<br>\n",
    "\n",
    "### Another API, now _finance-inspired_ ...\n",
    "\n",
    "There are **lots** of finance APIs. I'm currently skeptical that they're materially different, though I'm happy to be convinced... .\n",
    "\n",
    "One material difference is price! The kind folks at _Alphavantage_ have offered us an Econ176-specific set of API keys. Let's dive in!\n",
    "\n",
    "Before using your key, try a demonostration call at this endpoint:\n",
    "\n",
    "`https://www.alphavantage.co/query?function=TIME_SERIES_DAILY&symbol=IBM&apikey=demo`\n",
    "\n",
    "which, as ever, is this link:\n",
    "\n",
    "[https://www.alphavantage.co/query?function=TIME_SERIES_DAILY&symbol=IBM&apikey=demo](https://www.alphavantage.co/query?function=TIME_SERIES_DAILY&symbol=IBM&apikey=demo)\n",
    "\n",
    "You'll see that it's the last 100 days of information from IBM. To obtain other symbols' data - or other data - you'll need to use your API key. Notice that the demo url, above, has `demo` as the `apikey` (it only works for IBM 😀)\n",
    "\n",
    "You should have your own API key, from class on 2/6:\n",
    "+ if you use that string of characters in place of ``demo`` above, you should be able to make calls to _any_ of the Alphavantage APIs\n",
    "+ it has \"medium\" bandwidth - for us, we are making single calls and then analyzing them, which will not stress any limits <br> <font size=\"-2\">(Do avoid fast loops: if too much bandwidth is used, they APIs will automatically disable the key.)</font>\n",
    "+ _Experiment!_"
   ]
  },
  {
   "cell_type": "markdown",
   "metadata": {
    "id": "SOMPBTuObOVK"
   },
   "source": [
    "### Getting comfortable with documentation...\n",
    "\n",
    "APIs come with widely varying documentation\n",
    "+ sometimes you're guessing (as we did above!)\n",
    "+ more often, they're documented... **but** the documentation tends to have lots of idiosynrasies (there's not as much standardization as one might hope on how these things are discussed, the computing languages presumed, etc.)\n",
    "\n",
    "So, it's a worthy task - and challenge - to get familiar with the many kinds and conventions of documentation out there.\n",
    "\n",
    "Take a look at the [Alphvantage documentation](https://www.alphavantage.co/documentation/):\n",
    "+ specifically, find the section for the `TIME_SERIES_DAILY` function\n",
    "+ read over the parameters\n",
    "+ click on some of the examples\n",
    "+ see if you can reconcile the outputs you're seeing with the parameters provided\n",
    "\n",
    "Next, we'll try it out...\n",
    "\n",
    "... and will determine the best \"single-share\" strategy for investing -- for your choice of stock -- over the past 100 days. <br> <font size=\"-2\">(You might remember this as a cs5 homework, the [\"TT Securities\" problem](https://www.cs.hmc.edu/twiki/bin/view/CS5Fall2023/TTSecuritiesGold).)</font>\n",
    "\n",
    "<br>\n",
    "<hr>\n",
    "<br>"
   ]
  },
  {
   "cell_type": "markdown",
   "metadata": {
    "id": "JoWz9bO2bEDY"
   },
   "source": [
    "### Your tasks!\n",
    "\n",
    "**<font color=\"Coral\">Part 1</font>: &nbsp;&nbsp; <font color=\"DodgerBlue\">Single-share Analysis</font>** &nbsp; using TIME_SERIES_DAILY\n",
    "\n",
    "So, your tasks include\n",
    "+ get your API working - the first cell below will help\n",
    "+ make sure you're getting data! - the second cell below will help with that!\n",
    "+ choose another stock symbol\n",
    "  + for now, let's stick with the compact data of the last 100 days\n",
    "  + also, be sure to make _one_ call and then code-develop with that data\n",
    "  + it will quickly annoy API providers if you make too many calls\n",
    "  + there are automatic \"shutoffs\" to stop responding in this case...\n",
    "  + it's not clear when the \"shutoff\" stops - possibly never\n",
    "\n",
    "<br>\n",
    "\n",
    "So, after making one call, explore the resulting data (dictionary) so that you\n",
    "+ programmatically extract the 100 prices (let's use the **closing** price)\n",
    "+ create a list with them\n",
    "+ find the maximum and the minimum\n",
    "  + also find the _date_ of the max and the _date_ of the min\n",
    "  + be sure to print those out...\n",
    "+ create a **graph** of your list &nbsp; (suggestion: use AI for graphing help)\n",
    "  + get the AI to highlight the max and the min\n",
    "+ \"Single-share\" analysis: &nbsp; Find the buy day and sell day that maximize `(sell price - buy price)`\n",
    "  + make sure that you sell _at or after_ you buy...\n",
    "+ print your results\n",
    "+ re-graph your 100-day signal, and highlight the buy day and the sell day you just found\n",
    "  + you might ask to use ``seaborn`` or ``matplotlib`` - both are libraries available in Colab (and libraries that the AI knows well)\n",
    "\n",
    "<br>\n",
    "\n",
    "Once you have a workflow that works, try it with a different stock symbol!\n",
    "+ do the same thing for the other signal: print the best single-share strategy - and graph\n",
    "+ compare the results in your overall reflection below\n",
    "+ you could wrap the workflow pieces into a function that takes a stock symbol as input! (This is optional and cs-y.)\n",
    "\n",
    "<br>\n",
    "\n",
    "**<font color=\"Coral\">Part 2</font>: &nbsp;&nbsp; <font color=\"DodgerBlue\">Use and Analyze <u>another</u> Alphavantage API</font>** &nbsp; ... of your choice\n",
    "+ Look over the left-hand column of APIs in the [Alphavantage documentation](https://www.alphavantage.co/documentation/)\n",
    "+ Choose another API that seems interesting to you, then\n",
    "+ Explore and tinker to successfully use it, then\n",
    "+ Analyze a subset of the data from the resulting call, then\n",
    "+ Share, briefly, what you found.\n",
    "  + The analysis does not need to be involved. For example,\n",
    "  + finding the max and min of a value is wonderful - and definitely enough\n",
    "  + or, the average, or sum, or ... really anything,\n",
    "  + as long as it means you've looked through each time step of the data-sequence received  <font size=\"-1\">(not each piece of data, just each time step)</font>\n",
    "+ <font color=\"Coral\"><b>EC</b></font> Totally optional: <font size=\"-1\">Find a function for comparing time-series trends, import it, and then use it to compare one of your stock prices with your _other_ Alphavantage signal. Report what you find! (up to +10%) &nbsp;&nbsp; Initial library leads: ``statsmodels``, ``darts``, and/or ``sktime`` ...</font>\n",
    "\n",
    "<br>\n",
    "\n",
    "Some of the other APIs that look especially interesting, at least to me:\n",
    "+ News & Sentiments\n",
    "+ Income Statement / Balance Sheet\n",
    "+ GDP per capita\n",
    "+ Exchange rates\n",
    "+ Coffee!\n",
    "\n"
   ]
  },
  {
   "cell_type": "markdown",
   "metadata": {
    "id": "XNsogBoYq-wC"
   },
   "source": [
    "<br>\n",
    "<hr>\n",
    "<br>\n",
    "\n",
    "### Onward!"
   ]
  },
  {
   "cell_type": "code",
   "execution_count": null,
   "metadata": {
    "colab": {
     "base_uri": "https://localhost:8080/"
    },
    "id": "rk8_s7LGeQD2",
    "outputId": "765cf0cd-b425-4b1c-f0cf-563c35a5b73c"
   },
   "outputs": [
    {
     "name": "stdout",
     "output_type": "stream",
     "text": [
      "<Response [200]>\n"
     ]
    }
   ],
   "source": [
    "#\n",
    "# Let's request!   Just using the demo, for now:\n",
    "\n",
    "import requests\n",
    "\n",
    "# choose Apple Stock (AAPL)\n",
    "url = \"https://www.alphavantage.co/query?function=TIME_SERIES_DAILY&symbol=AAPL&apikey=PSPGHH60JUGEPT7F\"    # demo version\n",
    "result = requests.get(url)\n",
    "print(result)"
   ]
  },
  {
   "cell_type": "code",
   "execution_count": null,
   "metadata": {
    "colab": {
     "base_uri": "https://localhost:8080/"
    },
    "id": "TBDyZgH-ecKL",
    "outputId": "5980ca1a-089c-47af-ffac-95f5db433f38"
   },
   "outputs": [
    {
     "name": "stdout",
     "output_type": "stream",
     "text": [
      "{'Meta Data': {'1. Information': 'Daily Prices (open, high, low, close) and Volumes', '2. Symbol': 'AAPL', '3. Last Refreshed': '2025-02-14', '4. Output Size': 'Compact', '5. Time Zone': 'US/Eastern'}, 'Time Series (Daily)': {'2025-02-14': {'1. open': '241.2600', '2. high': '245.4100', '3. low': '241.0000', '4. close': '244.6000', '5. volume': '40838783'}, '2025-02-13': {'1. open': '236.9100', '2. high': '242.3399', '3. low': '235.5700', '4. close': '241.5300', '5. volume': '53614054'}, '2025-02-12': {'1. open': '231.2000', '2. high': '236.9600', '3. low': '230.6800', '4. close': '236.8700', '5. volume': '45243292'}, '2025-02-11': {'1. open': '228.2000', '2. high': '235.2300', '3. low': '228.1300', '4. close': '232.6200', '5. volume': '53718362'}, '2025-02-10': {'1. open': '229.5700', '2. high': '230.5850', '3. low': '227.2000', '4. close': '227.6500', '5. volume': '33115645'}, '2025-02-07': {'1. open': '232.6000', '2. high': '234.0000', '3. low': '227.2600', '4. close': '227.6300', '5. volume': '39707224'}, '2025-02-06': {'1. open': '231.2850', '2. high': '233.8000', '3. low': '230.4250', '4. close': '233.2200', '5. volume': '29925349'}, '2025-02-05': {'1. open': '228.5300', '2. high': '232.6700', '3. low': '228.2700', '4. close': '232.4700', '5. volume': '39664989'}, '2025-02-04': {'1. open': '227.2500', '2. high': '233.1300', '3. low': '226.6500', '4. close': '232.8000', '5. volume': '45067301'}, '2025-02-03': {'1. open': '229.9900', '2. high': '231.8300', '3. low': '225.7000', '4. close': '228.0100', '5. volume': '73063301'}, '2025-01-31': {'1. open': '247.1900', '2. high': '247.1900', '3. low': '233.4400', '4. close': '236.0000', '5. volume': '101075128'}, '2025-01-30': {'1. open': '238.6650', '2. high': '240.7900', '3. low': '237.2100', '4. close': '237.5900', '5. volume': '55658279'}, '2025-01-29': {'1. open': '234.1200', '2. high': '239.8550', '3. low': '234.0100', '4. close': '239.3600', '5. volume': '45486100'}, '2025-01-28': {'1. open': '230.8500', '2. high': '240.1900', '3. low': '230.8100', '4. close': '238.2600', '5. volume': '75707569'}, '2025-01-27': {'1. open': '224.0200', '2. high': '232.1500', '3. low': '223.9800', '4. close': '229.8600', '5. volume': '94863418'}, '2025-01-24': {'1. open': '224.7800', '2. high': '225.6300', '3. low': '221.4100', '4. close': '222.7800', '5. volume': '54697907'}, '2025-01-23': {'1. open': '224.7400', '2. high': '227.0300', '3. low': '222.3000', '4. close': '223.6600', '5. volume': '60234760'}, '2025-01-22': {'1. open': '219.7900', '2. high': '224.1200', '3. low': '219.7900', '4. close': '223.8300', '5. volume': '64126500'}, '2025-01-21': {'1. open': '224.0000', '2. high': '224.4200', '3. low': '219.3800', '4. close': '222.6400', '5. volume': '98070429'}, '2025-01-17': {'1. open': '232.1150', '2. high': '232.2900', '3. low': '228.4800', '4. close': '229.9800', '5. volume': '68488301'}, '2025-01-16': {'1. open': '237.3500', '2. high': '238.0100', '3. low': '228.0300', '4. close': '228.2600', '5. volume': '71759052'}, '2025-01-15': {'1. open': '234.6350', '2. high': '238.9600', '3. low': '234.4300', '4. close': '237.8700', '5. volume': '39831969'}, '2025-01-14': {'1. open': '234.7500', '2. high': '236.1200', '3. low': '232.4720', '4. close': '233.2800', '5. volume': '39435294'}, '2025-01-13': {'1. open': '233.5300', '2. high': '234.6700', '3. low': '229.7200', '4. close': '234.4000', '5. volume': '49630725'}, '2025-01-10': {'1. open': '240.0100', '2. high': '240.1600', '3. low': '233.0000', '4. close': '236.8500', '5. volume': '61710856'}, '2025-01-08': {'1. open': '241.9200', '2. high': '243.7123', '3. low': '240.0500', '4. close': '242.7000', '5. volume': '37628940'}, '2025-01-07': {'1. open': '242.9800', '2. high': '245.5500', '3. low': '241.3500', '4. close': '242.2100', '5. volume': '40855960'}, '2025-01-06': {'1. open': '244.3100', '2. high': '247.3300', '3. low': '243.2000', '4. close': '245.0000', '5. volume': '45045571'}, '2025-01-03': {'1. open': '243.3600', '2. high': '244.1800', '3. low': '241.8900', '4. close': '243.3600', '5. volume': '40244114'}, '2025-01-02': {'1. open': '248.9300', '2. high': '249.1000', '3. low': '241.8201', '4. close': '243.8500', '5. volume': '55740731'}, '2024-12-31': {'1. open': '252.4400', '2. high': '253.2800', '3. low': '249.4300', '4. close': '250.4200', '5. volume': '39480718'}, '2024-12-30': {'1. open': '252.2300', '2. high': '253.5000', '3. low': '250.7500', '4. close': '252.2000', '5. volume': '35557542'}, '2024-12-27': {'1. open': '257.8300', '2. high': '258.7000', '3. low': '253.0600', '4. close': '255.5900', '5. volume': '42355321'}, '2024-12-26': {'1. open': '258.1900', '2. high': '260.1000', '3. low': '257.6300', '4. close': '259.0200', '5. volume': '27262983'}, '2024-12-24': {'1. open': '255.4900', '2. high': '258.2100', '3. low': '255.2900', '4. close': '258.2000', '5. volume': '23234705'}, '2024-12-23': {'1. open': '254.7700', '2. high': '255.6500', '3. low': '253.4500', '4. close': '255.2700', '5. volume': '40858774'}, '2024-12-20': {'1. open': '248.0400', '2. high': '255.0000', '3. low': '245.6900', '4. close': '254.4900', '5. volume': '147495267'}, '2024-12-19': {'1. open': '247.5000', '2. high': '252.0000', '3. low': '247.0949', '4. close': '249.7900', '5. volume': '60882264'}, '2024-12-18': {'1. open': '252.1600', '2. high': '254.2800', '3. low': '247.7400', '4. close': '248.0500', '5. volume': '56774101'}, '2024-12-17': {'1. open': '250.0800', '2. high': '253.8300', '3. low': '249.7800', '4. close': '253.4800', '5. volume': '51356360'}, '2024-12-16': {'1. open': '247.9900', '2. high': '251.3800', '3. low': '247.6500', '4. close': '251.0400', '5. volume': '51694753'}, '2024-12-13': {'1. open': '247.8150', '2. high': '249.2902', '3. low': '246.2400', '4. close': '248.1300', '5. volume': '33155290'}, '2024-12-12': {'1. open': '246.8900', '2. high': '248.7400', '3. low': '245.6800', '4. close': '247.9600', '5. volume': '32777532'}, '2024-12-11': {'1. open': '247.9600', '2. high': '250.8000', '3. low': '246.2601', '4. close': '246.4900', '5. volume': '45205814'}, '2024-12-10': {'1. open': '246.8900', '2. high': '248.2100', '3. low': '245.3400', '4. close': '247.7700', '5. volume': '36914806'}, '2024-12-09': {'1. open': '241.8300', '2. high': '247.2400', '3. low': '241.7500', '4. close': '246.7500', '5. volume': '44649232'}, '2024-12-06': {'1. open': '242.9050', '2. high': '244.6300', '3. low': '242.0800', '4. close': '242.8400', '5. volume': '36870619'}, '2024-12-05': {'1. open': '243.9900', '2. high': '244.5400', '3. low': '242.1300', '4. close': '243.0400', '5. volume': '40033878'}, '2024-12-04': {'1. open': '242.8700', '2. high': '244.1100', '3. low': '241.2500', '4. close': '243.0100', '5. volume': '44383935'}, '2024-12-03': {'1. open': '239.8100', '2. high': '242.7600', '3. low': '238.9000', '4. close': '242.6500', '5. volume': '38861017'}, '2024-12-02': {'1. open': '237.2700', '2. high': '240.7900', '3. low': '237.1600', '4. close': '239.5900', '5. volume': '48137103'}, '2024-11-29': {'1. open': '234.8100', '2. high': '237.8100', '3. low': '233.9700', '4. close': '237.3300', '5. volume': '28481377'}, '2024-11-27': {'1. open': '234.4650', '2. high': '235.6900', '3. low': '233.8101', '4. close': '234.9300', '5. volume': '33498439'}, '2024-11-26': {'1. open': '233.3300', '2. high': '235.5700', '3. low': '233.3300', '4. close': '235.0600', '5. volume': '45986189'}, '2024-11-25': {'1. open': '231.4600', '2. high': '233.2450', '3. low': '229.7400', '4. close': '232.8700', '5. volume': '90152832'}, '2024-11-22': {'1. open': '228.0600', '2. high': '230.7199', '3. low': '228.0600', '4. close': '229.8700', '5. volume': '38168252'}, '2024-11-21': {'1. open': '228.8800', '2. high': '230.1550', '3. low': '225.7103', '4. close': '228.5200', '5. volume': '42108327'}, '2024-11-20': {'1. open': '228.0600', '2. high': '229.9300', '3. low': '225.8900', '4. close': '229.0000', '5. volume': '35169566'}, '2024-11-19': {'1. open': '226.9800', '2. high': '230.1600', '3. low': '226.6600', '4. close': '228.2800', '5. volume': '36211774'}, '2024-11-18': {'1. open': '225.2500', '2. high': '229.7400', '3. low': '225.1700', '4. close': '228.0200', '5. volume': '44686020'}, '2024-11-15': {'1. open': '226.4000', '2. high': '226.9200', '3. low': '224.2700', '4. close': '225.0000', '5. volume': '47923696'}, '2024-11-14': {'1. open': '225.0200', '2. high': '228.8700', '3. low': '225.0000', '4. close': '228.2200', '5. volume': '44923941'}, '2024-11-13': {'1. open': '224.0100', '2. high': '226.6500', '3. low': '222.7600', '4. close': '225.1200', '5. volume': '48566217'}, '2024-11-12': {'1. open': '224.5500', '2. high': '225.5900', '3. low': '223.3550', '4. close': '224.2300', '5. volume': '40398299'}, '2024-11-11': {'1. open': '225.0000', '2. high': '225.7000', '3. low': '221.5000', '4. close': '224.2300', '5. volume': '42005602'}, '2024-11-08': {'1. open': '227.1700', '2. high': '228.6600', '3. low': '226.4050', '4. close': '226.9600', '5. volume': '38328824'}, '2024-11-07': {'1. open': '224.6250', '2. high': '227.8750', '3. low': '224.5700', '4. close': '227.4800', '5. volume': '42137691'}, '2024-11-06': {'1. open': '222.6100', '2. high': '226.0650', '3. low': '221.1900', '4. close': '222.7200', '5. volume': '54561121'}, '2024-11-05': {'1. open': '221.7950', '2. high': '223.9500', '3. low': '221.1400', '4. close': '223.4500', '5. volume': '28111338'}, '2024-11-04': {'1. open': '220.9900', '2. high': '222.7900', '3. low': '219.7100', '4. close': '222.0100', '5. volume': '44944468'}, '2024-11-01': {'1. open': '220.9650', '2. high': '225.3500', '3. low': '220.2700', '4. close': '222.9100', '5. volume': '65276741'}, '2024-10-31': {'1. open': '229.3400', '2. high': '229.8300', '3. low': '225.3700', '4. close': '225.9100', '5. volume': '64370086'}, '2024-10-30': {'1. open': '232.6100', '2. high': '233.4700', '3. low': '229.5500', '4. close': '230.1000', '5. volume': '47070907'}, '2024-10-29': {'1. open': '233.1000', '2. high': '234.3250', '3. low': '232.3200', '4. close': '233.6700', '5. volume': '35417247'}, '2024-10-28': {'1. open': '233.3200', '2. high': '234.7300', '3. low': '232.5500', '4. close': '233.4000', '5. volume': '36087134'}, '2024-10-25': {'1. open': '229.7400', '2. high': '233.2200', '3. low': '229.5700', '4. close': '231.4100', '5. volume': '38802304'}, '2024-10-24': {'1. open': '229.9800', '2. high': '230.8200', '3. low': '228.4100', '4. close': '230.5700', '5. volume': '31109503'}, '2024-10-23': {'1. open': '234.0800', '2. high': '235.1440', '3. low': '227.7600', '4. close': '230.7600', '5. volume': '52286979'}, '2024-10-22': {'1. open': '233.8850', '2. high': '236.2200', '3. low': '232.6000', '4. close': '235.8600', '5. volume': '38846578'}, '2024-10-21': {'1. open': '234.4500', '2. high': '236.8500', '3. low': '234.4500', '4. close': '236.4800', '5. volume': '36254470'}, '2024-10-18': {'1. open': '236.1800', '2. high': '236.1800', '3. low': '234.0100', '4. close': '235.0000', '5. volume': '46431472'}, '2024-10-17': {'1. open': '233.4300', '2. high': '233.8500', '3. low': '230.5200', '4. close': '232.1500', '5. volume': '32993810'}, '2024-10-16': {'1. open': '231.6000', '2. high': '232.1200', '3. low': '229.8400', '4. close': '231.7800', '5. volume': '34082240'}, '2024-10-15': {'1. open': '233.6100', '2. high': '237.4900', '3. low': '232.3700', '4. close': '233.8500', '5. volume': '64751367'}, '2024-10-14': {'1. open': '228.7000', '2. high': '231.7300', '3. low': '228.6000', '4. close': '231.3000', '5. volume': '39882085'}, '2024-10-11': {'1. open': '229.3000', '2. high': '229.4100', '3. low': '227.3400', '4. close': '227.5500', '5. volume': '31759188'}, '2024-10-10': {'1. open': '227.7800', '2. high': '229.5000', '3. low': '227.1700', '4. close': '229.0400', '5. volume': '28183544'}, '2024-10-09': {'1. open': '225.2300', '2. high': '229.7500', '3. low': '224.8300', '4. close': '229.5400', '5. volume': '33591091'}, '2024-10-08': {'1. open': '224.3000', '2. high': '225.9800', '3. low': '223.2500', '4. close': '225.7700', '5. volume': '31855693'}, '2024-10-07': {'1. open': '224.5000', '2. high': '225.6900', '3. low': '221.3300', '4. close': '221.6900', '5. volume': '39505354'}, '2024-10-04': {'1. open': '227.9000', '2. high': '228.0000', '3. low': '224.1300', '4. close': '226.8000', '5. volume': '37345098'}, '2024-10-03': {'1. open': '225.1400', '2. high': '226.8050', '3. low': '223.3200', '4. close': '225.6700', '5. volume': '34044158'}, '2024-10-02': {'1. open': '225.8900', '2. high': '227.3700', '3. low': '223.0200', '4. close': '226.7800', '5. volume': '32880605'}, '2024-10-01': {'1. open': '229.5200', '2. high': '229.6500', '3. low': '223.7400', '4. close': '226.2100', '5. volume': '63285048'}, '2024-09-30': {'1. open': '230.0400', '2. high': '233.0000', '3. low': '229.6500', '4. close': '233.0000', '5. volume': '54793391'}, '2024-09-27': {'1. open': '228.4600', '2. high': '229.5200', '3. low': '227.3000', '4. close': '227.7900', '5. volume': '34025967'}, '2024-09-26': {'1. open': '227.3000', '2. high': '228.5000', '3. low': '225.4100', '4. close': '227.5200', '5. volume': '36636707'}, '2024-09-25': {'1. open': '224.9300', '2. high': '227.2900', '3. low': '224.0200', '4. close': '226.3700', '5. volume': '42308715'}, '2024-09-24': {'1. open': '228.6450', '2. high': '229.3500', '3. low': '225.7300', '4. close': '227.3700', '5. volume': '43556068'}, '2024-09-23': {'1. open': '227.3400', '2. high': '229.4500', '3. low': '225.8100', '4. close': '226.4700', '5. volume': '54146023'}}}\n"
     ]
    }
   ],
   "source": [
    "#\n",
    "# Let's view ... then parse and interpret!\n",
    "\n",
    "d = result.json()\n",
    "print(d)"
   ]
  },
  {
   "cell_type": "code",
   "execution_count": null,
   "metadata": {
    "colab": {
     "base_uri": "https://localhost:8080/"
    },
    "collapsed": true,
    "id": "KWq-he7JHXOO",
    "outputId": "6feb4196-74fd-4efa-f212-078ad3955e82"
   },
   "outputs": [
    {
     "name": "stdout",
     "output_type": "stream",
     "text": [
      "2025-02-14\n",
      "2025-02-13\n",
      "2025-02-12\n",
      "2025-02-11\n",
      "2025-02-10\n",
      "2025-02-07\n",
      "2025-02-06\n",
      "2025-02-05\n",
      "2025-02-04\n",
      "2025-02-03\n",
      "2025-01-31\n",
      "2025-01-30\n",
      "2025-01-29\n",
      "2025-01-28\n",
      "2025-01-27\n",
      "2025-01-24\n",
      "2025-01-23\n",
      "2025-01-22\n",
      "2025-01-21\n",
      "2025-01-17\n",
      "2025-01-16\n",
      "2025-01-15\n",
      "2025-01-14\n",
      "2025-01-13\n",
      "2025-01-10\n",
      "2025-01-08\n",
      "2025-01-07\n",
      "2025-01-06\n",
      "2025-01-03\n",
      "2025-01-02\n",
      "2024-12-31\n",
      "2024-12-30\n",
      "2024-12-27\n",
      "2024-12-26\n",
      "2024-12-24\n",
      "2024-12-23\n",
      "2024-12-20\n",
      "2024-12-19\n",
      "2024-12-18\n",
      "2024-12-17\n",
      "2024-12-16\n",
      "2024-12-13\n",
      "2024-12-12\n",
      "2024-12-11\n",
      "2024-12-10\n",
      "2024-12-09\n",
      "2024-12-06\n",
      "2024-12-05\n",
      "2024-12-04\n",
      "2024-12-03\n",
      "2024-12-02\n",
      "2024-11-29\n",
      "2024-11-27\n",
      "2024-11-26\n",
      "2024-11-25\n",
      "2024-11-22\n",
      "2024-11-21\n",
      "2024-11-20\n",
      "2024-11-19\n",
      "2024-11-18\n",
      "2024-11-15\n",
      "2024-11-14\n",
      "2024-11-13\n",
      "2024-11-12\n",
      "2024-11-11\n",
      "2024-11-08\n",
      "2024-11-07\n",
      "2024-11-06\n",
      "2024-11-05\n",
      "2024-11-04\n",
      "2024-11-01\n",
      "2024-10-31\n",
      "2024-10-30\n",
      "2024-10-29\n",
      "2024-10-28\n",
      "2024-10-25\n",
      "2024-10-24\n",
      "2024-10-23\n",
      "2024-10-22\n",
      "2024-10-21\n",
      "2024-10-18\n",
      "2024-10-17\n",
      "2024-10-16\n",
      "2024-10-15\n",
      "2024-10-14\n",
      "2024-10-11\n",
      "2024-10-10\n",
      "2024-10-09\n",
      "2024-10-08\n",
      "2024-10-07\n",
      "2024-10-04\n",
      "2024-10-03\n",
      "2024-10-02\n",
      "2024-10-01\n",
      "2024-09-30\n",
      "2024-09-27\n",
      "2024-09-26\n",
      "2024-09-25\n",
      "2024-09-24\n",
      "2024-09-23\n"
     ]
    }
   ],
   "source": [
    "#\n",
    "# Let's look at all of the keys...\n",
    "\n",
    "# print out the keys\n",
    "for k in d['Time Series (Daily)']:\n",
    "    print(k)\n",
    "\n",
    "\n",
    "#  it appears as key : pair\n",
    "# key = date such as '2025-02-14'\n",
    "# value is another dictionary of key pair values\n",
    "# e.g. {'1. open': '241.2600', '2. high': '245.4100', .....}\n",
    "\n",
    "\n",
    "# Aha! they are dates... let's create a function to compare two dates"
   ]
  },
  {
   "cell_type": "code",
   "execution_count": null,
   "metadata": {
    "colab": {
     "base_uri": "https://localhost:8080/"
    },
    "collapsed": true,
    "id": "E0kMmNzg8vb0",
    "outputId": "f36b06b1-3c2d-437f-fed2-8ace2793da32"
   },
   "outputs": [
    {
     "data": {
      "text/plain": [
       "['2025-02-14',\n",
       " '2025-02-13',\n",
       " '2025-02-12',\n",
       " '2025-02-11',\n",
       " '2025-02-10',\n",
       " '2025-02-07',\n",
       " '2025-02-06',\n",
       " '2025-02-05',\n",
       " '2025-02-04',\n",
       " '2025-02-03',\n",
       " '2025-01-31',\n",
       " '2025-01-30',\n",
       " '2025-01-29',\n",
       " '2025-01-28',\n",
       " '2025-01-27',\n",
       " '2025-01-24',\n",
       " '2025-01-23',\n",
       " '2025-01-22',\n",
       " '2025-01-21',\n",
       " '2025-01-17',\n",
       " '2025-01-16',\n",
       " '2025-01-15',\n",
       " '2025-01-14',\n",
       " '2025-01-13',\n",
       " '2025-01-10',\n",
       " '2025-01-08',\n",
       " '2025-01-07',\n",
       " '2025-01-06',\n",
       " '2025-01-03',\n",
       " '2025-01-02',\n",
       " '2024-12-31',\n",
       " '2024-12-30',\n",
       " '2024-12-27',\n",
       " '2024-12-26',\n",
       " '2024-12-24',\n",
       " '2024-12-23',\n",
       " '2024-12-20',\n",
       " '2024-12-19',\n",
       " '2024-12-18',\n",
       " '2024-12-17',\n",
       " '2024-12-16',\n",
       " '2024-12-13',\n",
       " '2024-12-12',\n",
       " '2024-12-11',\n",
       " '2024-12-10',\n",
       " '2024-12-09',\n",
       " '2024-12-06',\n",
       " '2024-12-05',\n",
       " '2024-12-04',\n",
       " '2024-12-03',\n",
       " '2024-12-02',\n",
       " '2024-11-29',\n",
       " '2024-11-27',\n",
       " '2024-11-26',\n",
       " '2024-11-25',\n",
       " '2024-11-22',\n",
       " '2024-11-21',\n",
       " '2024-11-20',\n",
       " '2024-11-19',\n",
       " '2024-11-18',\n",
       " '2024-11-15',\n",
       " '2024-11-14',\n",
       " '2024-11-13',\n",
       " '2024-11-12',\n",
       " '2024-11-11',\n",
       " '2024-11-08',\n",
       " '2024-11-07',\n",
       " '2024-11-06',\n",
       " '2024-11-05',\n",
       " '2024-11-04',\n",
       " '2024-11-01',\n",
       " '2024-10-31',\n",
       " '2024-10-30',\n",
       " '2024-10-29',\n",
       " '2024-10-28',\n",
       " '2024-10-25',\n",
       " '2024-10-24',\n",
       " '2024-10-23',\n",
       " '2024-10-22',\n",
       " '2024-10-21',\n",
       " '2024-10-18',\n",
       " '2024-10-17',\n",
       " '2024-10-16',\n",
       " '2024-10-15',\n",
       " '2024-10-14',\n",
       " '2024-10-11',\n",
       " '2024-10-10',\n",
       " '2024-10-09',\n",
       " '2024-10-08',\n",
       " '2024-10-07',\n",
       " '2024-10-04',\n",
       " '2024-10-03',\n",
       " '2024-10-02',\n",
       " '2024-10-01',\n",
       " '2024-09-30',\n",
       " '2024-09-27',\n",
       " '2024-09-26',\n",
       " '2024-09-25',\n",
       " '2024-09-24',\n",
       " '2024-09-23']"
      ]
     },
     "execution_count": 92,
     "metadata": {},
     "output_type": "execute_result"
    }
   ],
   "source": [
    "#\n",
    "# here is one way to make a list of all of the dates:\n",
    "\n",
    "DATES = list(d['Time Series (Daily)'].keys())\n",
    "\n",
    "#  Create a list of all the dates from the keys of resultJSON\n",
    "#\n",
    "# dates = list(result_JSON['Time Series (Daily)'].keys())\n",
    "\n",
    "# dates\n",
    "DATES\n",
    "# Notice, they're backwards!"
   ]
  },
  {
   "cell_type": "code",
   "execution_count": null,
   "metadata": {
    "colab": {
     "base_uri": "https://localhost:8080/"
    },
    "collapsed": true,
    "id": "IuqKF3DM85Ft",
    "outputId": "f4a5a229-4626-40c8-c3a1-3267038a7d88"
   },
   "outputs": [
    {
     "data": {
      "text/plain": [
       "['2024-09-23',\n",
       " '2024-09-24',\n",
       " '2024-09-25',\n",
       " '2024-09-26',\n",
       " '2024-09-27',\n",
       " '2024-09-30',\n",
       " '2024-10-01',\n",
       " '2024-10-02',\n",
       " '2024-10-03',\n",
       " '2024-10-04',\n",
       " '2024-10-07',\n",
       " '2024-10-08',\n",
       " '2024-10-09',\n",
       " '2024-10-10',\n",
       " '2024-10-11',\n",
       " '2024-10-14',\n",
       " '2024-10-15',\n",
       " '2024-10-16',\n",
       " '2024-10-17',\n",
       " '2024-10-18',\n",
       " '2024-10-21',\n",
       " '2024-10-22',\n",
       " '2024-10-23',\n",
       " '2024-10-24',\n",
       " '2024-10-25',\n",
       " '2024-10-28',\n",
       " '2024-10-29',\n",
       " '2024-10-30',\n",
       " '2024-10-31',\n",
       " '2024-11-01',\n",
       " '2024-11-04',\n",
       " '2024-11-05',\n",
       " '2024-11-06',\n",
       " '2024-11-07',\n",
       " '2024-11-08',\n",
       " '2024-11-11',\n",
       " '2024-11-12',\n",
       " '2024-11-13',\n",
       " '2024-11-14',\n",
       " '2024-11-15',\n",
       " '2024-11-18',\n",
       " '2024-11-19',\n",
       " '2024-11-20',\n",
       " '2024-11-21',\n",
       " '2024-11-22',\n",
       " '2024-11-25',\n",
       " '2024-11-26',\n",
       " '2024-11-27',\n",
       " '2024-11-29',\n",
       " '2024-12-02',\n",
       " '2024-12-03',\n",
       " '2024-12-04',\n",
       " '2024-12-05',\n",
       " '2024-12-06',\n",
       " '2024-12-09',\n",
       " '2024-12-10',\n",
       " '2024-12-11',\n",
       " '2024-12-12',\n",
       " '2024-12-13',\n",
       " '2024-12-16',\n",
       " '2024-12-17',\n",
       " '2024-12-18',\n",
       " '2024-12-19',\n",
       " '2024-12-20',\n",
       " '2024-12-23',\n",
       " '2024-12-24',\n",
       " '2024-12-26',\n",
       " '2024-12-27',\n",
       " '2024-12-30',\n",
       " '2024-12-31',\n",
       " '2025-01-02',\n",
       " '2025-01-03',\n",
       " '2025-01-06',\n",
       " '2025-01-07',\n",
       " '2025-01-08',\n",
       " '2025-01-10',\n",
       " '2025-01-13',\n",
       " '2025-01-14',\n",
       " '2025-01-15',\n",
       " '2025-01-16',\n",
       " '2025-01-17',\n",
       " '2025-01-21',\n",
       " '2025-01-22',\n",
       " '2025-01-23',\n",
       " '2025-01-24',\n",
       " '2025-01-27',\n",
       " '2025-01-28',\n",
       " '2025-01-29',\n",
       " '2025-01-30',\n",
       " '2025-01-31',\n",
       " '2025-02-03',\n",
       " '2025-02-04',\n",
       " '2025-02-05',\n",
       " '2025-02-06',\n",
       " '2025-02-07',\n",
       " '2025-02-10',\n",
       " '2025-02-11',\n",
       " '2025-02-12',\n",
       " '2025-02-13',\n",
       " '2025-02-14']"
      ]
     },
     "execution_count": 93,
     "metadata": {},
     "output_type": "execute_result"
    }
   ],
   "source": [
    "#\n",
    "# Let's flip the DATES around:\n",
    "DATES.reverse()\n",
    "DATES\n",
    "\n",
    "# Yay!"
   ]
  },
  {
   "cell_type": "code",
   "execution_count": null,
   "metadata": {
    "colab": {
     "base_uri": "https://localhost:8080/"
    },
    "id": "xaoVqBX7eo3E",
    "outputId": "3031d5fb-b1e7-4205-a074-84ed42106b0c"
   },
   "outputs": [
    {
     "data": {
      "text/plain": [
       "222.64"
      ]
     },
     "execution_count": 96,
     "metadata": {},
     "output_type": "execute_result"
    }
   ],
   "source": [
    "# Oooh... Now let's see what's in each key (date)\n",
    "# closing price on 2025-01-21 for apple stock\n",
    "\n",
    "val = float(d['Time Series (Daily)']['2025-01-21']['4. close'])  # Aha! it's a dictionary again!  We will need to index again!!\n",
    "val"
   ]
  },
  {
   "cell_type": "code",
   "execution_count": null,
   "metadata": {
    "id": "9VWqvWIte4Ia"
   },
   "outputs": [],
   "source": [
    "# A small function to get the closing price on a date (date) using data (dictionary) d\n",
    "def get_closing(date, d):\n",
    "    close = float(d['Time Series (Daily)'][date]['4. close'])\n",
    "    return close"
   ]
  },
  {
   "cell_type": "code",
   "execution_count": null,
   "metadata": {
    "colab": {
     "base_uri": "https://localhost:8080/"
    },
    "id": "qCkmerfJBtfg",
    "outputId": "e39e141c-2614-45fd-d269-040e14d1e25e"
   },
   "outputs": [
    {
     "name": "stdout",
     "output_type": "stream",
     "text": [
      "min_price_date is 2024-10-07 and min_price = 221.69\n"
     ]
    }
   ],
   "source": [
    "# A loop to find the minimum closing price\n",
    "#\n",
    "\n",
    "min_price = 10000000\n",
    "min_key = \"nothing\"\n",
    "\n",
    "for date in d['Time Series (Daily)']:\n",
    "    closing =  get_closing(date, d)\n",
    "    # print(f\"date is {date} and closing is {closing}\")\n",
    "    if closing < min_price:\n",
    "        min_price = closing\n",
    "        min_price_date = date\n",
    "\n",
    "print(f\"min_price_date is {min_price_date} and {min_price = }\")"
   ]
  },
  {
   "cell_type": "markdown",
   "metadata": {
    "id": "liGetEB-pxo0"
   },
   "source": [
    "#### Onward into the tasks, as listed above...\n",
    "+ perhaps first, make sure you can repeat the above cells with a _different_ stock ticker\n",
    "+ perhaps then create a **list** of all of the closing prices\n",
    "+ from there, you're ready for the analysis + graphing..."
   ]
  },
  {
   "cell_type": "markdown",
   "metadata": {
    "id": "vgnG6Vzt1KFE"
   },
   "source": []
  },
  {
   "cell_type": "code",
   "execution_count": null,
   "metadata": {
    "id": "JZlTrGaQ1Nlf"
   },
   "outputs": [],
   "source": []
  },
  {
   "cell_type": "markdown",
   "metadata": {
    "id": "JHKN2XCU1K61"
   },
   "source": []
  },
  {
   "cell_type": "markdown",
   "metadata": {
    "id": "_ISXWGYIwu9P"
   },
   "source": [
    "# Practice w/ NVIDIA Stock (NVDA) Repeating above cells\n",
    "\n",
    "So, after making one call, explore the resulting data (dictionary) so that you\n",
    "\n",
    "programmatically extract the 100 prices (let's use the closing price)\n",
    "create a list with them\n",
    "find the maximum and the minimum\n",
    "also find the date of the max and the date of the min\n",
    "be sure to print those out...\n",
    "create a graph of your list   (suggestion: use AI for graphing help)\n",
    "get the AI to highlight the max and the min\n",
    "\"Single-share\" analysis:   Find the buy day and sell day that maximize (sell price - buy price)\n",
    "make sure that you sell at or after you buy...\n",
    "print your results\n",
    "re-graph your 100-day signal, and highlight the buy day and the sell day you just found\n",
    "you might ask to use seaborn or matplotlib - both are libraries available in Colab (and libraries that the AI knows well)"
   ]
  },
  {
   "cell_type": "code",
   "execution_count": 69,
   "metadata": {
    "colab": {
     "base_uri": "https://localhost:8080/"
    },
    "id": "vz3DLuVNpaau",
    "outputId": "13785f7f-d154-426b-a709-8439f22a6d8c"
   },
   "outputs": [
    {
     "name": "stdout",
     "output_type": "stream",
     "text": [
      "<Response [200]>\n"
     ]
    }
   ],
   "source": [
    "#  import time series daily data on NVDA from API\n",
    "#  default outputsize = compact\n",
    "import requests\n",
    "url = \"https://www.alphavantage.co/query?function=TIME_SERIES_DAILY&symbol=NVDA&apikey=PSPGHH60JUGEPT7F\"\n",
    "result_nvda = requests.get(url)\n",
    "print(result_nvda)"
   ]
  },
  {
   "cell_type": "code",
   "execution_count": 70,
   "metadata": {
    "colab": {
     "base_uri": "https://localhost:8080/"
    },
    "id": "FY9MIxQvxNQB",
    "outputId": "9201ac42-b93b-4d3d-b459-ae5e5a38fa33"
   },
   "outputs": [
    {
     "name": "stdout",
     "output_type": "stream",
     "text": [
      "['2024-09-23', '2024-09-24', '2024-09-25', '2024-09-26', '2024-09-27', '2024-09-30', '2024-10-01', '2024-10-02', '2024-10-03', '2024-10-04', '2024-10-07', '2024-10-08', '2024-10-09', '2024-10-10', '2024-10-11', '2024-10-14', '2024-10-15', '2024-10-16', '2024-10-17', '2024-10-18', '2024-10-21', '2024-10-22', '2024-10-23', '2024-10-24', '2024-10-25', '2024-10-28', '2024-10-29', '2024-10-30', '2024-10-31', '2024-11-01', '2024-11-04', '2024-11-05', '2024-11-06', '2024-11-07', '2024-11-08', '2024-11-11', '2024-11-12', '2024-11-13', '2024-11-14', '2024-11-15', '2024-11-18', '2024-11-19', '2024-11-20', '2024-11-21', '2024-11-22', '2024-11-25', '2024-11-26', '2024-11-27', '2024-11-29', '2024-12-02', '2024-12-03', '2024-12-04', '2024-12-05', '2024-12-06', '2024-12-09', '2024-12-10', '2024-12-11', '2024-12-12', '2024-12-13', '2024-12-16', '2024-12-17', '2024-12-18', '2024-12-19', '2024-12-20', '2024-12-23', '2024-12-24', '2024-12-26', '2024-12-27', '2024-12-30', '2024-12-31', '2025-01-02', '2025-01-03', '2025-01-06', '2025-01-07', '2025-01-08', '2025-01-10', '2025-01-13', '2025-01-14', '2025-01-15', '2025-01-16', '2025-01-17', '2025-01-21', '2025-01-22', '2025-01-23', '2025-01-24', '2025-01-27', '2025-01-28', '2025-01-29', '2025-01-30', '2025-01-31', '2025-02-03', '2025-02-04', '2025-02-05', '2025-02-06', '2025-02-07', '2025-02-10', '2025-02-11', '2025-02-12', '2025-02-13', '2025-02-14']\n"
     ]
    }
   ],
   "source": [
    "# JSON formate of data\n",
    "nvda_output = result_nvda.json()\n",
    "# nvda_output\n",
    "\n",
    "# look at keys in nvda_output\n",
    "# for k in nvda_output['Time Series (Daily)']:\n",
    "#     print(k)\n",
    "\n",
    "# ok, all keys are dates. Save into a list\n",
    "dates = list(nvda_output['Time Series (Daily)'].keys())\n",
    "#  reverse dates to attain chronological order\n",
    "dates.reverse()\n",
    "print(dates)"
   ]
  },
  {
   "cell_type": "code",
   "execution_count": 3,
   "metadata": {
    "colab": {
     "base_uri": "https://localhost:8080/"
    },
    "collapsed": true,
    "id": "xganauA_yKbu",
    "outputId": "ceeec810-d2f9-48a9-9d8a-7b900819229a"
   },
   "outputs": [
    {
     "name": "stdout",
     "output_type": "stream",
     "text": [
      "2025-02-14 138.8500\n",
      "2025-02-13 135.2900\n",
      "2025-02-12 131.1400\n",
      "2025-02-11 132.8000\n",
      "2025-02-10 133.5700\n",
      "2025-02-07 129.8400\n",
      "2025-02-06 128.6800\n",
      "2025-02-05 124.8300\n",
      "2025-02-04 118.6500\n",
      "2025-02-03 116.6600\n",
      "2025-01-31 120.0700\n",
      "2025-01-30 124.6500\n",
      "2025-01-29 123.7000\n",
      "2025-01-28 128.9900\n",
      "2025-01-27 118.4200\n",
      "2025-01-24 142.6200\n",
      "2025-01-23 147.2200\n",
      "2025-01-22 147.0700\n",
      "2025-01-21 140.8300\n",
      "2025-01-17 137.7100\n",
      "2025-01-16 133.5700\n",
      "2025-01-15 136.2400\n",
      "2025-01-14 131.7600\n",
      "2025-01-13 133.2300\n",
      "2025-01-10 135.9100\n",
      "2025-01-08 140.1100\n",
      "2025-01-07 140.1400\n",
      "2025-01-06 149.4300\n",
      "2025-01-03 144.4700\n",
      "2025-01-02 138.3100\n",
      "2024-12-31 134.2900\n",
      "2024-12-30 137.4900\n",
      "2024-12-27 137.0100\n",
      "2024-12-26 139.9300\n",
      "2024-12-24 140.2200\n",
      "2024-12-23 139.6700\n",
      "2024-12-20 134.7000\n",
      "2024-12-19 130.6800\n",
      "2024-12-18 128.9100\n",
      "2024-12-17 130.3900\n",
      "2024-12-16 132.0000\n",
      "2024-12-13 134.2500\n",
      "2024-12-12 137.3400\n",
      "2024-12-11 139.3100\n",
      "2024-12-10 135.0700\n",
      "2024-12-09 138.8100\n",
      "2024-12-06 142.4400\n",
      "2024-12-05 145.0600\n",
      "2024-12-04 145.1400\n",
      "2024-12-03 140.2600\n",
      "2024-12-02 138.6300\n",
      "2024-11-29 138.2500\n",
      "2024-11-27 135.3400\n",
      "2024-11-26 136.9200\n",
      "2024-11-25 136.0200\n",
      "2024-11-22 141.9500\n",
      "2024-11-21 146.6700\n",
      "2024-11-20 145.8900\n",
      "2024-11-19 147.0100\n",
      "2024-11-18 140.1500\n",
      "2024-11-15 141.9800\n",
      "2024-11-14 146.7600\n",
      "2024-11-13 146.2700\n",
      "2024-11-12 148.2900\n",
      "2024-11-11 145.2600\n",
      "2024-11-08 147.6300\n",
      "2024-11-07 148.8800\n",
      "2024-11-06 145.6100\n",
      "2024-11-05 139.9100\n",
      "2024-11-04 136.0500\n",
      "2024-11-01 135.4000\n",
      "2024-10-31 132.7600\n",
      "2024-10-30 139.3350\n",
      "2024-10-29 141.2500\n",
      "2024-10-28 140.5200\n",
      "2024-10-25 141.5400\n",
      "2024-10-24 140.4100\n",
      "2024-10-23 139.5600\n",
      "2024-10-22 143.5900\n",
      "2024-10-21 143.7100\n",
      "2024-10-18 138.0000\n",
      "2024-10-17 136.9300\n",
      "2024-10-16 135.7200\n",
      "2024-10-15 131.6000\n",
      "2024-10-14 138.0700\n",
      "2024-10-11 134.8000\n",
      "2024-10-10 134.8100\n",
      "2024-10-09 132.6500\n",
      "2024-10-08 132.8900\n",
      "2024-10-07 127.7200\n",
      "2024-10-04 124.9200\n",
      "2024-10-03 122.8500\n",
      "2024-10-02 118.8500\n",
      "2024-10-01 117.0000\n",
      "2024-09-30 121.4400\n",
      "2024-09-27 121.4000\n",
      "2024-09-26 124.0400\n",
      "2024-09-25 123.5100\n",
      "2024-09-24 120.8700\n",
      "2024-09-23 116.2600\n"
     ]
    }
   ],
   "source": [
    "#  Check out what the values in the date-value pair look like\n",
    "# for k in nvda_output['Time Series (Daily)']:\n",
    "#   # since k is the key, print out the corresponding value pair\n",
    "#     print(nvda_output['Time Series (Daily)'][k])\n",
    "\n",
    "# all the closing prices\n",
    "for k in nvda_output['Time Series (Daily)']:\n",
    "  # since k is the key, print out the corresponding value pair\n",
    "    print(k,nvda_output['Time Series (Daily)'][k]['4. close'])\n",
    "\n",
    "\n"
   ]
  },
  {
   "cell_type": "code",
   "execution_count": 71,
   "metadata": {
    "id": "iqKNEDENz82m"
   },
   "outputs": [],
   "source": [
    "#  function to return closingprices\n",
    "def get_close(date, d):\n",
    "  # remember to conver the type into float\n",
    "    close = float(nvda_output['Time Series (Daily)'][date]['4. close'])\n",
    "    return close\n",
    "\n",
    "# testing\n",
    "# print(get_closing('2024-09-23', nvda_output))\n"
   ]
  },
  {
   "cell_type": "code",
   "execution_count": 72,
   "metadata": {
    "colab": {
     "base_uri": "https://localhost:8080/"
    },
    "id": "leLbShUW1E4x",
    "outputId": "03987251-ef63-49e7-977a-82f05fae45a4"
   },
   "outputs": [
    {
     "name": "stdout",
     "output_type": "stream",
     "text": [
      "min_price_date is 2024-09-23 and min_price = 116.26\n",
      "max_price_date is 2025-01-06 and max_price = 149.43\n"
     ]
    }
   ],
   "source": [
    "#A loop to find the minimum closing price\n",
    "\n",
    "#  intii[REDACTED]ze variables\n",
    "min_price = 100000000\n",
    "min_price_date = \"nothing\"\n",
    "\n",
    "# for loop\n",
    "for date in dates:\n",
    "    min_close = get_close(date, nvda_output)\n",
    "    # check if the opening dates is the minimum\n",
    "    if min_close < min_price:\n",
    "        min_price = min_close\n",
    "        min_price_date = date\n",
    "\n",
    "print(f\"min_price_date is {min_price_date} and {min_price = }\")\n",
    "\n",
    "# loop to find the max closing price\n",
    "\n",
    "max_price = 0\n",
    "max_price_date = \"nothing\"\n",
    "\n",
    "for date in dates:\n",
    "    max_close = get_close(date, nvda_output)\n",
    "    # check if the opening dates is the minimum\n",
    "    if max_close > max_price:\n",
    "        max_price = max_close\n",
    "        max_price_date = date\n",
    "\n",
    "print(f\"max_price_date is {max_price_date} and {max_price = }\")\n"
   ]
  },
  {
   "cell_type": "code",
   "execution_count": 73,
   "metadata": {
    "colab": {
     "base_uri": "https://localhost:8080/",
     "height": 594
    },
    "id": "Bhbx3pIYWho1",
    "outputId": "322927c2-6009-4c69-ac88-c7555c444e6d"
   },
   "outputs": [
    {
     "name": "stdout",
     "output_type": "stream",
     "text": [
      "['2024-09-23', '2024-09-24', '2024-09-25', '2024-09-26', '2024-09-27', '2024-09-30', '2024-10-01', '2024-10-02', '2024-10-03', '2024-10-04', '2024-10-07', '2024-10-08', '2024-10-09', '2024-10-10', '2024-10-11', '2024-10-14', '2024-10-15', '2024-10-16', '2024-10-17', '2024-10-18', '2024-10-21', '2024-10-22', '2024-10-23', '2024-10-24', '2024-10-25', '2024-10-28', '2024-10-29', '2024-10-30', '2024-10-31', '2024-11-01', '2024-11-04', '2024-11-05', '2024-11-06', '2024-11-07', '2024-11-08', '2024-11-11', '2024-11-12', '2024-11-13', '2024-11-14', '2024-11-15', '2024-11-18', '2024-11-19', '2024-11-20', '2024-11-21', '2024-11-22', '2024-11-25', '2024-11-26', '2024-11-27', '2024-11-29', '2024-12-02', '2024-12-03', '2024-12-04', '2024-12-05', '2024-12-06', '2024-12-09', '2024-12-10', '2024-12-11', '2024-12-12', '2024-12-13', '2024-12-16', '2024-12-17', '2024-12-18', '2024-12-19', '2024-12-20', '2024-12-23', '2024-12-24', '2024-12-26', '2024-12-27', '2024-12-30', '2024-12-31', '2025-01-02', '2025-01-03', '2025-01-06', '2025-01-07', '2025-01-08', '2025-01-10', '2025-01-13', '2025-01-14', '2025-01-15', '2025-01-16', '2025-01-17', '2025-01-21', '2025-01-22', '2025-01-23', '2025-01-24', '2025-01-27', '2025-01-28', '2025-01-29', '2025-01-30', '2025-01-31', '2025-02-03', '2025-02-04', '2025-02-05', '2025-02-06', '2025-02-07', '2025-02-10', '2025-02-11', '2025-02-12', '2025-02-13', '2025-02-14']\n",
      "[116.26, 120.87, 123.51, 124.04, 121.4, 121.44, 117.0, 118.85, 122.85, 124.92, 127.72, 132.89, 132.65, 134.81, 134.8, 138.07, 131.6, 135.72, 136.93, 138.0, 143.71, 143.59, 139.56, 140.41, 141.54, 140.52, 141.25, 139.335, 132.76, 135.4, 136.05, 139.91, 145.61, 148.88, 147.63, 145.26, 148.29, 146.27, 146.76, 141.98, 140.15, 147.01, 145.89, 146.67, 141.95, 136.02, 136.92, 135.34, 138.25, 138.63, 140.26, 145.14, 145.06, 142.44, 138.81, 135.07, 139.31, 137.34, 134.25, 132.0, 130.39, 128.91, 130.68, 134.7, 139.67, 140.22, 139.93, 137.01, 137.49, 134.29, 138.31, 144.47, 149.43, 140.14, 140.11, 135.91, 133.23, 131.76, 136.24, 133.57, 137.71, 140.83, 147.07, 147.22, 142.62, 118.42, 128.99, 123.7, 124.65, 120.07, 116.66, 118.65, 124.83, 128.68, 129.84, 133.57, 132.8, 131.14, 135.29, 138.85]\n"
     ]
    },
    {
     "data": {
      "image/png": "[encoded data removed]",
      "text/plain": [
       "<Figure size 1000x500 with 1 Axes>"
      ]
     },
     "metadata": {},
     "output_type": "display_data"
    }
   ],
   "source": [
    "# graph of date and closing prices\n",
    "import matplotlib.pyplot as plt\n",
    "\n",
    "dates = list(nvda_output['Time Series (Daily)'].keys())\n",
    "\n",
    "# Extract corresponding values\n",
    "closing_prices = [float(nvda_output['Time Series (Daily)'][date]['4. close']) for date in dates]\n",
    "\n",
    "#reverse both lists for chronological order\n",
    "dates.reverse()\n",
    "closing_prices.reverse()\n",
    "\n",
    "print(dates)\n",
    "print(closing_prices)\n",
    "\n",
    "# graphing chart\n",
    "# Create the plot\n",
    "plt.figure(figsize=(10, 5))  # Set figure size\n",
    "plt.plot(dates, closing_prices, marker='o', linestyle='') # [REDACTED]ne plot with markers\n",
    "\n",
    "# Labels and title\n",
    "plt.xlabel(\"Date\")\n",
    "plt.ylabel(\"Closing Price\")\n",
    "plt.title(\"NVIDIA Closing Prices Over Time\")\n",
    "\n",
    "# Rotate x-axis labels for better readability\n",
    "# show date every 5 days for clarity and less clutter\n",
    "plt.xticks(dates[::5], rotation=45)\n",
    "\n",
    "# Add grid\n",
    "plt.grid()\n",
    "\n",
    "# Highlight max and min prices\n",
    "plt.scatter([max_price_date, min_price_date], [max_price, min_price], color='red', zorder=3)  # Red markers for max & min\n",
    "plt.annotate(f\"Max: {max_price}\", (max_price_date, max_price), textcoords=\"offset points\", xytext=(0,4), ha='center', fontsize=10, color='red')\n",
    "plt.annotate(f\"Min: {min_price}\", (min_price_date, min_price), textcoords=\"offset points\", xytext=(5,-12), ha='center', fontsize=10, color='red')\n",
    "\n",
    "\n",
    "# Show the plot\n",
    "plt.show()\n"
   ]
  },
  {
   "cell_type": "code",
   "execution_count": null,
   "metadata": {
    "id": "OA6rF4t8KdD0"
   },
   "outputs": [],
   "source": [
    "# find the best buy and sell days (make sure that the sell day is after the buy day)"
   ]
  },
  {
   "cell_type": "code",
   "execution_count": 74,
   "metadata": {
    "colab": {
     "base_uri": "https://localhost:8080/"
    },
    "id": "iBdwvSzfKdXQ",
    "outputId": "d1af8eac-ccfe-4014-d8b0-06938ad991fd"
   },
   "outputs": [
    {
     "name": "stdout",
     "output_type": "stream",
     "text": [
      "('2024-09-23', '2025-01-06', 33.17)\n",
      "33.17\n",
      "buy day\n"
     ]
    }
   ],
   "source": [
    "def get_buy_sell_day(dates, closing_prices):\n",
    "    max_profit = 0\n",
    "    buy_day = None\n",
    "    sell_day = None\n",
    "\n",
    "    # loop through all the possible combinations\n",
    "    for i in range(len(dates)):\n",
    "        for j in range(len(dates)):\n",
    "          # ensure max profit and time order is maintained\n",
    "          # compare closing price of sell day and buy day, and store as max profit\n",
    "            if closing_prices[j] - closing_prices[i] > max_profit and dates[j] > dates[i]:\n",
    "                buy_day = dates[i]\n",
    "                sell_day = dates[j]\n",
    "                max_profit = closing_prices[j] - closing_prices[i]\n",
    "    #  return the buy and sell days, and max_profit amount\n",
    "    return buy_day, sell_day, max_profit\n",
    "\n",
    "print(get_buy_sell_day(dates, closing_prices))\n",
    "\n",
    "# store results into variables for next kernel\n",
    "buy_day = get_buy_sell_day(dates, closing_prices)[0]\n",
    "buy_price = get_close(buy_day, nvda_output)\n",
    "sell_day = get_buy_sell_day(dates, closing_prices)[1]\n",
    "sell_price = get_close(sell_day, nvda_output)\n",
    "max_profit = get_buy_sell_day(dates, closing_prices)[2]\n",
    "print(max_profit)\n",
    "\n",
    "print(\"buy day\")"
   ]
  },
  {
   "cell_type": "code",
   "execution_count": 75,
   "metadata": {
    "colab": {
     "base_uri": "https://localhost:8080/",
     "height": 540
    },
    "id": "X7En_hbNPRGO",
    "outputId": "8fdd15f4-4a07-4b49-e0ac-18823583764d"
   },
   "outputs": [
    {
     "data": {
      "image/png": "[encoded data removed]",
      "text/plain": [
       "<Figure size 1000x500 with 1 Axes>"
      ]
     },
     "metadata": {},
     "output_type": "display_data"
    }
   ],
   "source": [
    "#  reprint graph with the buy and sell day\n",
    "# graphing chart\n",
    "# Create the plot\n",
    "plt.figure(figsize=(10, 5))  # Set figure size\n",
    "plt.plot(dates, closing_prices, marker='o', linestyle='') # [REDACTED]ne plot with markers\n",
    "\n",
    "# Labels and title\n",
    "plt.xlabel(\"Date\")\n",
    "plt.ylabel(\"Closing Price\")\n",
    "plt.title(\"NVIDIA Closing Prices Over Time\")\n",
    "\n",
    "# Rotate x-axis labels for better readability\n",
    "# show date every 5 days for clarity and less clutter\n",
    "plt.xticks(dates[::5], rotation=45)\n",
    "\n",
    "# Add grid\n",
    "plt.grid()\n",
    "\n",
    "# Highlight max and min prices\n",
    "plt.scatter([buy_day, sell_day], [buy_price, sell_price], color='red', zorder=3)  # Red markers for max & min\n",
    "plt.annotate(f\"Buy Day: {buy_day}\", (buy_day, buy_price), textcoords=\"offset points\", xytext=(0,4), ha='center', fontsize=10, color='red')\n",
    "plt.annotate(f\"Sell Day: {sell_day}\", (sell_day, sell_price), textcoords=\"offset points\", xytext=(5,-12), ha='center', fontsize=10, color='red')\n",
    "\n",
    "\n",
    "# Show the plot\n",
    "plt.show()"
   ]
  },
  {
   "cell_type": "markdown",
   "metadata": {
    "id": "2EMJDwXhd6RM"
   },
   "source": [
    "# Trying with a different stock: Amazon (AMZN)"
   ]
  },
  {
   "cell_type": "code",
   "execution_count": 68,
   "metadata": {
    "colab": {
     "base_uri": "https://localhost:8080/",
     "height": 1000
    },
    "id": "mkiNFoC_d5oK",
    "outputId": "de97cea8-6602-4fef-e83a-b382aa8550a7"
   },
   "outputs": [
    {
     "name": "stdout",
     "output_type": "stream",
     "text": [
      "min_price_date is 2024-10-07 and amzn_min_price = 180.8\n",
      "max_price_date is 2025-02-04 and amzn_max_price = 242.06\n",
      "['2024-09-23', '2024-09-24', '2024-09-25', '2024-09-26', '2024-09-27', '2024-09-30', '2024-10-01', '2024-10-02', '2024-10-03', '2024-10-04', '2024-10-07', '2024-10-08', '2024-10-09', '2024-10-10', '2024-10-11', '2024-10-14', '2024-10-15', '2024-10-16', '2024-10-17', '2024-10-18', '2024-10-21', '2024-10-22', '2024-10-23', '2024-10-24', '2024-10-25', '2024-10-28', '2024-10-29', '2024-10-30', '2024-10-31', '2024-11-01', '2024-11-04', '2024-11-05', '2024-11-06', '2024-11-07', '2024-11-08', '2024-11-11', '2024-11-12', '2024-11-13', '2024-11-14', '2024-11-15', '2024-11-18', '2024-11-19', '2024-11-20', '2024-11-21', '2024-11-22', '2024-11-25', '2024-11-26', '2024-11-27', '2024-11-29', '2024-12-02', '2024-12-03', '2024-12-04', '2024-12-05', '2024-12-06', '2024-12-09', '2024-12-10', '2024-12-11', '2024-12-12', '2024-12-13', '2024-12-16', '2024-12-17', '2024-12-18', '2024-12-19', '2024-12-20', '2024-12-23', '2024-12-24', '2024-12-26', '2024-12-27', '2024-12-30', '2024-12-31', '2025-01-02', '2025-01-03', '2025-01-06', '2025-01-07', '2025-01-08', '2025-01-10', '2025-01-13', '2025-01-14', '2025-01-15', '2025-01-16', '2025-01-17', '2025-01-21', '2025-01-22', '2025-01-23', '2025-01-24', '2025-01-27', '2025-01-28', '2025-01-29', '2025-01-30', '2025-01-31', '2025-02-03', '2025-02-04', '2025-02-05', '2025-02-06', '2025-02-07', '2025-02-10', '2025-02-11', '2025-02-12', '2025-02-13', '2025-02-14']\n",
      "[193.88, 193.96, 192.53, 191.16, 187.97, 186.33, 185.13, 184.76, 181.96, 186.51, 180.8, 182.72, 185.17, 186.65, 188.82, 187.54, 187.69, 186.89, 187.53, 188.99, 189.07, 189.7, 184.71, 186.38, 187.83, 188.39, 190.83, 192.73, 186.4, 197.93, 195.78, 199.5, 207.09, 210.05, 208.18, 206.84, 208.91, 214.1, 211.48, 202.61, 201.7, 204.61, 202.88, 198.38, 197.12, 201.45, 207.86, 205.74, 207.89, 210.71, 213.44, 218.16, 220.55, 227.03, 226.09, 225.04, 230.26, 228.97, 227.46, 232.93, 231.15, 220.52, 223.29, 224.92, 225.06, 229.05, 227.05, 223.75, 221.3, 219.39, 220.22, 224.19, 227.61, 222.11, 222.13, 218.94, 218.46, 217.76, 223.35, 220.66, 225.94, 230.71, 235.01, 235.42, 234.85, 235.42, 238.15, 237.07, 234.64, 237.68, 237.42, 242.06, 236.17, 238.83, 229.15, 233.14, 232.76, 228.93, 230.37, 228.68]\n"
     ]
    },
    {
     "data": {
      "image/png": "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\n",
      "text/plain": [
       "<Figure size 1000x500 with 1 Axes>"
      ]
     },
     "metadata": {},
     "output_type": "display_data"
    },
    {
     "name": "stdout",
     "output_type": "stream",
     "text": [
      "('2024-10-07', '2025-02-04', 61.25999999999999)\n",
      "max profit 61.25999999999999\n"
     ]
    },
    {
     "data": {
      "image/png": "[encoded data removed]",
      "text/plain": [
       "<Figure size 1000x500 with 1 Axes>"
      ]
     },
     "metadata": {},
     "output_type": "display_data"
    }
   ],
   "source": [
    "import requests\n",
    "import matplotlib.pyplot as plt\n",
    "\n",
    "\n",
    "url = \"https://www.alphavantage.co/query?function=TIME_SERIES_DAILY&symbol=AMZN&apikey=PSPGHH60JUGEPT7F\"\n",
    "result_amzn = requests.get(url)\n",
    "amzn_output = result_amzn.json()\n",
    "\n",
    "# get closing date function\n",
    "def get_close(date, d):\n",
    "  # remember to conver the type into float\n",
    "    close = float(amzn_output['Time Series (Daily)'][date]['4. close'])\n",
    "    return close\n",
    "\n",
    "\n",
    "# ok, all keys are dates. Save into a list\n",
    "amzn_dates = list(amzn_output['Time Series (Daily)'].keys())\n",
    "#  reverse dates to attain chronological order\n",
    "amzn_dates.reverse()\n",
    "\n",
    "\n",
    "# closing price\n",
    "\n",
    "#  intii[REDACTED]ze variables\n",
    "amzn_min_price = 100000000\n",
    "amzn_min_price_date = \"nothing\"\n",
    "\n",
    "# for loop\n",
    "for date in amzn_dates:\n",
    "    min_close = get_close(date, amzn_output)\n",
    "    # check if the opening dates is the minimum\n",
    "    if min_close < amzn_min_price:\n",
    "        amzn_min_price = min_close\n",
    "        amzn_min_price_date = date\n",
    "\n",
    "print(f\"min_price_date is {amzn_min_price_date} and {amzn_min_price = }\")\n",
    "\n",
    "# loop to find the max closing price\n",
    "\n",
    "amzn_max_price = 0\n",
    "amzn_max_price_date = \"nothing\"\n",
    "\n",
    "for date in amzn_dates:\n",
    "    max_close = get_close(date, amzn_output)\n",
    "    # check if the opening dates is the minimum\n",
    "    if max_close > amzn_max_price:\n",
    "        amzn_max_price = max_close\n",
    "        amzn_max_price_date = date\n",
    "\n",
    "print(f\"max_price_date is {amzn_max_price_date} and {amzn_max_price = }\")\n",
    "\n",
    "\n",
    "#  first plot\n",
    "# graph of date and closing prices\n",
    "\n",
    "dates = list(amzn_output['Time Series (Daily)'].keys())\n",
    "\n",
    "# Extract corresponding values\n",
    "closing_prices = [float(amzn_output['Time Series (Daily)'][date]['4. close']) for date in dates]\n",
    "\n",
    "#reverse both lists for chronological order\n",
    "dates.reverse()\n",
    "closing_prices.reverse()\n",
    "\n",
    "print(dates)\n",
    "print(closing_prices)\n",
    "\n",
    "# graphing chart\n",
    "# Create the plot\n",
    "plt.figure(figsize=(10, 5))  # Set figure size\n",
    "plt.plot(dates, closing_prices, marker='o', linestyle='') # [REDACTED]ne plot with markers\n",
    "\n",
    "# Labels and title\n",
    "plt.xlabel(\"Date\")\n",
    "plt.ylabel(\"Closing Price\")\n",
    "plt.title(\"Amazon Closing Prices Over Time\")\n",
    "\n",
    "# Rotate x-axis labels for better readability\n",
    "# show date every 5 days for clarity and less clutter\n",
    "plt.xticks(dates[::5], rotation=45)\n",
    "\n",
    "# Add grid\n",
    "plt.grid()\n",
    "\n",
    "# Highlight max and min prices\n",
    "plt.scatter([amzn_max_price_date, amzn_min_price_date], [amzn_max_price, amzn_min_price], color='red', zorder=3)  # Red markers for max & min\n",
    "plt.annotate(f\"Max: {amzn_max_price}\", (amzn_max_price_date, amzn_max_price), textcoords=\"offset points\", xytext=(0,4), ha='center', fontsize=10, color='red')\n",
    "plt.annotate(f\"Min: {amzn_min_price}\", (amzn_min_price_date, amzn_min_price), textcoords=\"offset points\", xytext=(5,-12), ha='center', fontsize=10, color='red')\n",
    "\n",
    "# Show the plot\n",
    "plt.show()\n",
    "\n",
    "\n",
    "def get_buy_sell_day(dates, closing_prices):\n",
    "    max_profit = 0\n",
    "    buy_day = None\n",
    "    sell_day = None\n",
    "\n",
    "    # loop through all the possible combinations\n",
    "    for i in range(len(dates)):\n",
    "        for j in range(len(dates)):\n",
    "          # ensure max profit and time order is maintained\n",
    "          # compare closing price of sell day and buy day, and store as max profit\n",
    "            if closing_prices[j] - closing_prices[i] > max_profit and dates[j] > dates[i]:\n",
    "                max_profit = closing_prices[j] - closing_prices[i]\n",
    "                buy_day = dates[i]\n",
    "                sell_day = dates[j]\n",
    "    #  return the buy and sell days, and max_profit amount\n",
    "    return buy_day, sell_day, max_profit\n",
    "\n",
    "print(get_buy_sell_day(dates, closing_prices))\n",
    "\n",
    "# store results into variables for next kernel\n",
    "buy_day = get_buy_sell_day(dates, closing_prices)[0]\n",
    "buy_price = get_close(buy_day, amzn_output)\n",
    "sell_day = get_buy_sell_day(dates, closing_prices)[1]\n",
    "sell_price = get_close(sell_day, amzn_output)\n",
    "max_profit = get_buy_sell_day(dates, closing_prices)[2]\n",
    "\n",
    "print(\"max profit\", max_profit)\n",
    "\n",
    "\n",
    "#  second plot\n",
    "\n",
    "#  reprint graph with the buy and sell day\n",
    "# graphing chart\n",
    "# Create the plot\n",
    "plt.figure(figsize=(10, 5))  # Set figure size\n",
    "plt.plot(dates, closing_prices, marker='o', linestyle='') # [REDACTED]ne plot with markers\n",
    "\n",
    "# Labels and title\n",
    "plt.xlabel(\"Date\")\n",
    "plt.ylabel(\"Closing Price\")\n",
    "plt.title(\"AMZN Closing Prices Over Time\")\n",
    "\n",
    "# Rotate x-axis labels for better readability\n",
    "# show date every 5 days for clarity and less clutter\n",
    "plt.xticks(dates[::5], rotation=45)\n",
    "\n",
    "# Add grid\n",
    "plt.grid()\n",
    "\n",
    "# Highlight max and min prices\n",
    "plt.scatter([buy_day, sell_day], [buy_price, sell_price], color='red', zorder=3)  # Red markers for max & min\n",
    "plt.annotate(f\"Buy Day: {buy_day}\", (buy_day, buy_price), textcoords=\"offset points\", xytext=(0,4), ha='center', fontsize=10, color='red')\n",
    "plt.annotate(f\"Sell Day: {sell_day}\", (sell_day, sell_price), textcoords=\"offset points\", xytext=(5,-12), ha='center', fontsize=10, color='red')\n",
    "\n",
    "\n",
    "# Show the plot\n",
    "plt.show()\n",
    "\n",
    "\n",
    "\n",
    "\n"
   ]
  },
  {
   "cell_type": "markdown",
   "metadata": {
    "id": "b_F-DhVvnaLi"
   },
   "source": [
    "Amazon return is around $62 if you bought and sold at the max and min prices the last 100 days. Nvidia return is aroud 33. Under these assumptions of holding for less than 100 days and having to sell, I would prefer AMZN if I could know the prices in advance\n"
   ]
  },
  {
   "cell_type": "markdown",
   "metadata": {
    "id": "XHZAn6R0v7BO"
   },
   "source": [
    "# News and Sentiment API"
   ]
  },
  {
   "cell_type": "code",
   "execution_count": 30,
   "metadata": {
    "colab": {
     "base_uri": "https://localhost:8080/"
    },
    "id": "iwYznpkwv9ho",
    "outputId": "97a5b8b2-2d05-4c2b-ec5e-cf8bce26742c"
   },
   "outputs": [
    {
     "name": "stdout",
     "output_type": "stream",
     "text": [
      "<Response [200]>\n"
     ]
    }
   ],
   "source": [
    "import requests\n",
    "import pandas as pd\n",
    "url = \"https://www.alphavantage.co/query?function=NEWS_SENTIMENT&tickers=AAPL&apikey=demo\"\n",
    "result = requests.get(url)\n",
    "print(result)\n",
    "output = result.json()\n",
    "# output\n"
   ]
  },
  {
   "cell_type": "code",
   "execution_count": 31,
   "metadata": {
    "colab": {
     "base_uri": "https://localhost:8080/"
    },
    "id": "cx___uAHw4dd",
    "outputId": "ba7abd6f-8c53-44fb-84a1-7f2352aee74d"
   },
   "outputs": [
    {
     "name": "stdout",
     "output_type": "stream",
     "text": [
      "x <= -0.35: Bearish; -0.35 < x <= -0.15: Somewhat-Bearish; -0.15 < x < 0.15: Neutral; 0.15 <= x < 0.35: Somewhat_Bullish; x >= 0.35: Bullish\n",
      "SUMMARY STATS FOR 50 Articles SENTIMENT ANALYSIS\n",
      "MEAN SENTIMENT SCORE: 0.19729366000000004\n",
      "MAX SENTIMENT SCORE: 0.374843\n",
      "MIN SENTIMENT SCORE: -0.031504\n"
     ]
    }
   ],
   "source": [
    "#  print out the keys of output in the sentiment\n",
    "# for k in output.keys():\n",
    "  # print(k)\n",
    "\n",
    "# print out sentiment score, relevance score\n",
    "print(output['sentiment_score_definition'])\n",
    "# print(output['relevance_score_definition'])\n",
    "\n",
    "# print out all articles\n",
    "# for a in output['feed']:\n",
    "  # print(a)\n",
    "\n",
    "# store articles sentiment scores as a list\n",
    "\n",
    "sentiment_list = []\n",
    "# print out the sentiment score of the articles\n",
    "for a in output['feed']:\n",
    "  sentiment_list.append(a['overall_sentiment_score'])\n",
    "  # print(a['overall_sentiment_score'])\n",
    "\n",
    "# average sentiment score\n",
    "print(\"SUMMARY STATS FOR 50 Articles SENTIMENT ANALYSIS\")\n",
    "print(\"MEAN SENTIMENT SCORE:\", sum(sentiment_list)/len(sentiment_list))\n",
    "print(\"MAX SENTIMENT SCORE:\", max(sentiment_list))\n",
    "print(\"MIN SENTIMENT SCORE:\", min(sentiment_list))\n",
    "\n",
    "\n",
    "\n",
    "# plot of sentiment across time\n",
    "\n",
    "\n",
    "\n",
    "\n",
    "\n"
   ]
  },
  {
   "cell_type": "markdown",
   "metadata": {
    "id": "1SDd3UKR5Gzo"
   },
   "source": [
    "I briefly looked into the sentiment analysis API. I found the mean sentiment score across those articles to be around 0.2. Accordingly, this means that most articles were neutral. The best-rated sentiment article was only rated Somewhat_Bullish. The worst artice was Some-what bearish. Overall, no extremes at the max and min, and the average, logically, is neutral sentiment. I chose AAPL as the ticker, but noticed other stocks in the data, which did slightly confuse me...I also ran out of API calls and tried using demo, which allowed me to make a call. Maybe that's why my AAPL filter may not have gone through."
   ]
  },
  {
   "cell_type": "markdown",
   "metadata": {
    "id": "XsqCUyh0e5hG"
   },
   "source": [
    "<br>\n",
    "<hr>\n",
    "<br>\n",
    "\n",
    "### You're off and ~~running~~ **API'ing** !\n",
    "\n",
    "There's no stopping now...\n",
    "\n",
    "Include in this notebook - below - a short 4-6 sentence summary of\n",
    "+ Which of your two (or more) stocks offers better \"profit\" opportunity -- for a single-share -- if you had a time machine that worked for the past 100 days?\n",
    "+ What other API did you choose to try? What did you analyze from it?\n",
    "+ How difficult/accessible did you find the Alphavantage documentation?\n",
    "+ You're welcome to use AI for help + debugging\n",
    "  + what are your thoughts: &nbsp; Was AI helpful on this?  &nbsp;&nbsp;  Was AI <i>un</i>helpful on this? &nbsp; Both? &nbsp; Neither?\n",
    "+ Big-picture, how the API'ing and Python'ing went overall?\n"
   ]
  },
  {
   "cell_type": "markdown",
   "metadata": {
    "id": "1a5D-FU5nfhL"
   },
   "source": [
    "### Markdown cell for thoughts on this API/JSON/Python \"API and Analysis\" challenge:\n",
    "\n",
    "Feel free to use this cell for that reflection...\n",
    "\n",
    "<hr>\n",
    "<br>\n",
    "<br>\n",
    "<br>\n",
    "<br>\n",
    "# REFLECTION\n",
    "\n",
    "AlphaVantage API was easy to read and use. Really well-written in my opinion. It covered all my questions/and I loved how it provided an example.\n",
    "\n",
    "Amazon offered better \"profit\" opportunity than Nvidia in the past 100 days given that I had a time machine.\n",
    "\n",
    "AI was helpful in assisting with finding the method I wanted. I would describe what I needed, and AI oftentimes was helpful with its suggestion. However, I also felt I became more comfortable with coding and only used AI for graphing syntax.\n",
    "\n",
    "I worked around with the sentiment analysis API. I am really curious to see how they came up with the ratings...I think thats the real hard part. I simply analyzed the max, min, and mean sentiment on the last 50 articles.\n",
    "I'm curious to see what NLP can do in the future to analyze articles. I'm also interested in scraping comments on articles or off forums like reddit to gauge actual sentiment of consumers, and not just the article writers.\n",
    "\n",
    "Big picture, APIng was quite fun and enjoyable. I actually used up the limit by accident messing around. Really loving how I am becoming more comfortable with the web in general. I cant wait to explore other projects and the capabilties of using APIs to do cool things.\n",
    "<hr>\n",
    "\n",
    "<br>\n"
   ]
  },
  {
   "cell_type": "markdown",
   "metadata": {
    "id": "q5eX2KMn6EWX"
   },
   "source": []
  },
  {
   "cell_type": "markdown",
   "metadata": {
    "id": "1EqsfVrZnuoa"
   },
   "source": [
    "### Lab/Office hours...\n",
    "\n",
    "We'll have in-lab grutoring hours, in HMC's McGregor 205:\n",
    "+ Thursday, 2/13 from 7-9pm\n",
    "+ Friday, 2/14 from 1:30-3pm\n",
    "+ Sunday, 2/16 from 7:30-9:30pm\n",
    "\n",
    "<br>\n",
    "\n",
    "### Submitting...\n",
    "\n",
    "This \"API + Analysis\" challenge will be due:\n",
    "+ now, <font color=\"DarkRed\">Sunday</font> evening @ 11pm  (Feb. 16th)  \n",
    "+ Download this notebook and Submit to GradeScope\n",
    "+ Join Econ176 by adding Gradescope course code <tt><b>R7G3NG</b></tt>\n",
    "\n",
    "Onward!"
   ]
  }
 ],
 "metadata": {
  "colab": {
   "provenance": []
  },
  "kernelspec": {
   "display_name": "Python 3",
   "name": "python3"
  },
  "language_info": {
   "name": "python"
  }
 },
 "nbformat": 4,
 "nbformat_minor": 0
}
