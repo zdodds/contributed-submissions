{
  "nbformat": 4,
  "nbformat_minor": 0,
  "metadata": {
    "colab": {
      "provenance": []
    },
    "kernelspec": {
      "name": "python3",
      "display_name": "Python 3"
    },
    "language_info": {
      "name": "python"
    }
  },
  "cells": [
    {
      "cell_type": "markdown",
      "source": [
        "### Econ 176 APIs Day 2 - and ***first computing assignment***\n",
        "\n",
        "We're back! [Here was Day 1](https://colab.research.google.com/drive/1laKhKCXTFtCAGKrOqQfisbGPyQE-xexm#scrollTo=nCAN5xmzEP9t&uniqifier=1)\n",
        "\n",
        "<font size=\"-1\">Today, we'll continue building familiarity with APIs through calling and analyzing the results (using Python, of course!)"
      ],
      "metadata": {
        "id": "nCAN5xmzEP9t"
      }
    },
    {
      "cell_type": "markdown",
      "source": [
        "#### Where were we?\n",
        "\n",
        "We had tried the International Space Station API at [http://api.open-notify.org/iss-now.json](http://api.open-notify.org/iss-now.json) :"
      ],
      "metadata": {
        "id": "lZbQ6GUJHGA2"
      }
    },
    {
      "cell_type": "code",
      "source": [
        "# we assign the url and obtain the api-call result into result\n",
        "#    Note that result will be an object that contains many fields (not a simple string)\n",
        "#\n",
        "\n",
        "import requests\n",
        "\n",
        "url = \"http://api.open-notify.org/iss-now.json\"   # this is sometimes called an \"endpoint\" ...\n",
        "result = requests.get(url)\n",
        "result\n",
        "\n",
        "# if it succeeds, you should see <Response [200]>"
      ],
      "metadata": {
        "id": "th8zFD_8HEwh",
        "colab": {
          "base_uri": "https://localhost:8080/"
        },
        "outputId": "01ed135d-bbc3-4ac7-b920-e830f6c98e98"
      },
      "execution_count": 1,
      "outputs": [
        {
          "output_type": "execute_result",
          "data": {
            "text/plain": [
              "<Response [200]>"
            ]
          },
          "metadata": {},
          "execution_count": 1
        }
      ]
    },
    {
      "cell_type": "code",
      "source": [
        "#\n",
        "# In this case, we know the result is a JSON file, and we can obtain it that way:\n",
        "\n",
        "json_contents = result.json()      # needs to convert the text to a json dictionary...\n",
        "print(f\"json_contents is {json_contents}\")     # Aha!  Let's re/introduce f-strings...\n",
        "\n",
        "# Take a look... remember that a json object is a Python dictionary:"
      ],
      "metadata": {
        "id": "YVro11VYHUxA",
        "colab": {
          "base_uri": "https://localhost:8080/"
        },
        "outputId": "aee14316-3dce-443c-b61c-42c4879950db"
      },
      "execution_count": 2,
      "outputs": [
        {
          "output_type": "stream",
          "name": "stdout",
          "text": [
            "json_contents is {'iss_position': {'longitude': '117.3175', 'latitude': '22.0379'}, 'message': 'success', 'timestamp': 1739650399}\n"
          ]
        }
      ]
    },
    {
      "cell_type": "code",
      "source": [
        "#\n",
        "# Let's remind ourselves how dictionaries work:\n",
        "\n",
        "lat = json_contents['iss_position']['latitude']\n",
        "lat = float(lat)\n",
        "print(\"lat: \", lat)"
      ],
      "metadata": {
        "id": "bl1RQPr0HoFB",
        "colab": {
          "base_uri": "https://localhost:8080/"
        },
        "outputId": "df01eda8-60ce-4eac-95e4-e4d91ae061cb"
      },
      "execution_count": 3,
      "outputs": [
        {
          "output_type": "stream",
          "name": "stdout",
          "text": [
            "lat:  22.0379\n"
          ]
        }
      ]
    },
    {
      "cell_type": "markdown",
      "source": [
        "Here is a function that returns the distance detween two (lat/long) pairs:\n",
        "\n",
        "\n",
        "<font size=\"-2\">\n",
        "\n",
        "```   \n",
        "def haversine(lat1, long1, lat2, long2):\n",
        "    \"\"\"\n",
        "    Calculate the great circle distance in kilometers between two points\n",
        "    on the earth (specified in decimal degrees)\n",
        "    \"\"\"\n",
        "    from math import *\n",
        "    # convert decimal degrees to radians\n",
        "    long1, lat1, long2, lat2 = map(radians, [long1, lat1, long2, lat2])\n",
        "\n",
        "    # haversine formula\n",
        "    dlong = long2 - long1\n",
        "    dlat = lat2 - lat1\n",
        "    trig = sin(dlat/2)**2 + cos(lat1) * cos(lat2) * sin(dlong/2)**2\n",
        "    # Radius of earth. Use 3956 for miles. 6371 for km.\n",
        "    radius = 3956  # we'll use miles!\n",
        "    return radius * 2 * asin(sqrt(trig))\n",
        "```\n",
        "</font>"
      ],
      "metadata": {
        "id": "pf698gsuHo-E"
      }
    },
    {
      "cell_type": "markdown",
      "source": [
        "#### <font color=\"Coral\"><b>Task 0</b></font> &nbsp;&nbsp; Let's, together, create a program that finds the distance from the ISS to Claremont\n",
        "+ It can just be a cell, it doesn't have to be its own function.\n",
        "+ But, let's definitely use the haversine function, above...\n",
        "\n",
        "\n",
        "\n"
      ],
      "metadata": {
        "id": "kk2MYKMmvkm5"
      }
    },
    {
      "cell_type": "code",
      "source": [
        "\n",
        "import requests\n",
        "from math import radians, sin, cos, sqrt, asin\n",
        "\n",
        "url = \"http://api.open-notify.org/iss-now.json\"\n",
        "result = requests.get(url)\n",
        "json_contents = result.json()\n",
        "\n",
        "# Extracting latitude and longitude of the ISS\n",
        "iss_lat = float(json_contents['iss_position']['latitude'])\n",
        "iss_long = float(json_contents['iss_position']['longitude'])\n",
        "\n",
        "print(f\"ISS Current Location: Latitude={iss_lat}, Longitude={iss_long}\")\n",
        "\n",
        "# Coordinates of Claremont:\n",
        "claremont_lat = 34.0967\n",
        "claremont_long = -117.7198\n",
        "\n",
        "lat1, long1, lat2, long2 = map(radians, [iss_lat, iss_long, claremont_lat, claremont_long])\n",
        "dlat = lat2 - lat1\n",
        "dlong = long2 - long1\n",
        "a = sin(dlat/2)**2 + cos(lat1) * cos(lat2) * sin(dlong/2)**2\n",
        "c = 2 * asin(sqrt(a))\n",
        "radius = 3956\n",
        "distance_manual = radius * c\n",
        "\n",
        "print(f\"Manual Distance Calculation (without AI): {distance_manual:.2f} miles\")\n"
      ],
      "metadata": {
        "id": "knTWTlxbwKKh",
        "colab": {
          "base_uri": "https://localhost:8080/"
        },
        "outputId": "bd1f0668-3dee-40f3-df0a-46b151faa4a2"
      },
      "execution_count": 1,
      "outputs": [
        {
          "output_type": "stream",
          "name": "stdout",
          "text": [
            "ISS Current Location: Latitude=49.0997, Longitude=173.9977\n",
            "Manual Distance Calculation (without AI): 3546.55 miles\n"
          ]
        }
      ]
    },
    {
      "cell_type": "code",
      "source": [
        "def haversine(lat1, long1, lat2, long2):\n",
        "    from math import radians, sin, cos, sqrt, asin\n",
        "    long1, lat1, long2, lat2 = map(radians, [long1, lat1, long2, lat2])\n",
        "    dlong = long2 - long1\n",
        "    dlat = lat2 - lat1\n",
        "    trig = sin(dlat/2)**2 + cos(lat1) * cos(lat2) * sin(dlong/2)**2\n",
        "    radius = 3956\n",
        "    return radius * 2 * asin(sqrt(trig))\n",
        "\n",
        "distance_ai = haversine(iss_lat, iss_long, claremont_lat, claremont_long)\n",
        "\n",
        "print(f\"Distance Calculation (using AI/haversine function): {distance_ai:.2f} miles\")\n",
        "\n",
        "# Comparing both results\n",
        "if abs(distance_manual - distance_ai) < 0.01:\n",
        "    print(\"Both calculations are similar!\")\n",
        "else:\n",
        "    print(\"There is a difference.\")\n"
      ],
      "metadata": {
        "id": "vBY5T3TlwPtw",
        "colab": {
          "base_uri": "https://localhost:8080/"
        },
        "outputId": "850de92e-04e3-499d-c76f-535b31feafb2"
      },
      "execution_count": 2,
      "outputs": [
        {
          "output_type": "stream",
          "name": "stdout",
          "text": [
            "Distance Calculation (using AI/haversine function): 3546.55 miles\n",
            "Both calculations are similar!\n"
          ]
        }
      ]
    },
    {
      "cell_type": "markdown",
      "source": [
        "Vice-versa is ok, too...\n",
        "\n",
        "<br>\n",
        "<hr>\n",
        "<br>"
      ],
      "metadata": {
        "id": "llb-BkBawpBi"
      }
    },
    {
      "cell_type": "markdown",
      "source": [
        "<b>Let's try another ISS \"endpoint\" ~ one with all of the <i>people</i> in space.</b>\n",
        "\n",
        "It's at this url:  [http://api.open-notify.org/astros.json](http://api.open-notify.org/astros.json)"
      ],
      "metadata": {
        "id": "7xDIVZevPFjt"
      }
    },
    {
      "cell_type": "code",
      "source": [
        "#\n",
        "# we assign the url and use requests.get to obtain the result into result_astro\n",
        "#\n",
        "#    Remember, result_astro will be an object that contains many fields (not a simple string)\n",
        "#\n",
        "\n",
        "import requests\n",
        "\n",
        "url = \"http://api.open-notify.org/astros.json\"   # this is sometimes called an \"endpoint\" ...\n",
        "result_astro = requests.get(url)\n",
        "result_astro\n",
        "\n",
        "# if it succeeded, you should see <Response [200]>"
      ],
      "metadata": {
        "id": "LtS4sj_0PGeB",
        "colab": {
          "base_uri": "https://localhost:8080/"
        },
        "outputId": "2b1fa796-ef42-44e3-bebd-be1101a6e276"
      },
      "execution_count": 3,
      "outputs": [
        {
          "output_type": "execute_result",
          "data": {
            "text/plain": [
              "<Response [200]>"
            ]
          },
          "metadata": {},
          "execution_count": 3
        }
      ]
    },
    {
      "cell_type": "code",
      "source": [
        "# If the request succeeded, we know the result is a JSON file, and we can obtain it that way.\n",
        "# Let's call our dictionary something more specific:\n",
        "\n",
        "astronauts = result_astro.json()\n",
        "d = astronauts   # a shorter variable for convenience..\n",
        "\n",
        "\n",
        "# Remember:  astronauts will be a _dictionary_\n",
        "note = \"\"\" here's yesterday evening's result - it _should_ be the same this morning!\n",
        "\n",
        "{\"people\": [{\"craft\": \"ISS\", \"name\": \"Oleg Kononenko\"}, {\"craft\": \"ISS\", \"name\": \"Nikolai Chub\"},\n",
        "{\"craft\": \"ISS\", \"name\": \"Tracy Caldwell Dyson\"}, {\"craft\": \"ISS\", \"name\": \"Matthew Dominick\"},\n",
        "{\"craft\": \"ISS\", \"name\": \"Michael Barratt\"}, {\"craft\": \"ISS\", \"name\": \"Jeanette Epps\"},\n",
        "{\"craft\": \"ISS\", \"name\": \"Alexander Grebenkin\"}, {\"craft\": \"ISS\", \"name\": \"Butch Wilmore\"},\n",
        "{\"craft\": \"ISS\", \"name\": \"Sunita Williams\"}, {\"craft\": \"Tiangong\", \"name\": \"Econ176_Participant_6 Guangsu\"},\n",
        "{\"craft\": \"Tiangong\", \"name\": \"Econ176_Participant_6 Cong\"}, {\"craft\": \"Tiangong\", \"name\": \"Ye Guangfu\"}], \"number\": 12, \"message\": \"success\"}\n",
        "\"\"\"\n",
        "print(d)"
      ],
      "metadata": {
        "id": "gcJrJBRAPJEj",
        "colab": {
          "base_uri": "https://localhost:8080/"
        },
        "outputId": "873b4e2d-e76b-4923-a9d1-a49454f12d58"
      },
      "execution_count": 4,
      "outputs": [
        {
          "output_type": "stream",
          "name": "stdout",
          "text": [
            "{'people': [{'craft': 'ISS', 'name': 'Oleg Kononenko'}, {'craft': 'ISS', 'name': 'Nikolai Chub'}, {'craft': 'ISS', 'name': 'Tracy Caldwell Dyson'}, {'craft': 'ISS', 'name': 'Matthew Dominick'}, {'craft': 'ISS', 'name': 'Michael Barratt'}, {'craft': 'ISS', 'name': 'Jeanette Epps'}, {'craft': 'ISS', 'name': 'Alexander Grebenkin'}, {'craft': 'ISS', 'name': 'Butch Wilmore'}, {'craft': 'ISS', 'name': 'Sunita Williams'}, {'craft': 'Tiangong', 'name': 'Econ176_Participant_6 Guangsu'}, {'craft': 'Tiangong', 'name': 'Econ176_Participant_6 Cong'}, {'craft': 'Tiangong', 'name': 'Ye Guangfu'}], 'number': 12, 'message': 'success'}\n"
          ]
        }
      ]
    },
    {
      "cell_type": "code",
      "source": [
        "d['people']"
      ],
      "metadata": {
        "id": "Uo64-x3z5IZ6",
        "colab": {
          "base_uri": "https://localhost:8080/"
        },
        "outputId": "381a5f16-7ee2-4d2e-fc2b-c158b48f61a3"
      },
      "execution_count": 5,
      "outputs": [
        {
          "output_type": "execute_result",
          "data": {
            "text/plain": [
              "[{'craft': 'ISS', 'name': 'Oleg Kononenko'},\n",
              " {'craft': 'ISS', 'name': 'Nikolai Chub'},\n",
              " {'craft': 'ISS', 'name': 'Tracy Caldwell Dyson'},\n",
              " {'craft': 'ISS', 'name': 'Matthew Dominick'},\n",
              " {'craft': 'ISS', 'name': 'Michael Barratt'},\n",
              " {'craft': 'ISS', 'name': 'Jeanette Epps'},\n",
              " {'craft': 'ISS', 'name': 'Alexander Grebenkin'},\n",
              " {'craft': 'ISS', 'name': 'Butch Wilmore'},\n",
              " {'craft': 'ISS', 'name': 'Sunita Williams'},\n",
              " {'craft': 'Tiangong', 'name': 'Econ176_Participant_6 Guangsu'},\n",
              " {'craft': 'Tiangong', 'name': 'Econ176_Participant_6 Cong'},\n",
              " {'craft': 'Tiangong', 'name': 'Ye Guangfu'}]"
            ]
          },
          "metadata": {},
          "execution_count": 5
        }
      ]
    },
    {
      "cell_type": "markdown",
      "source": [
        "This is pretty intricate!\n",
        "\n",
        "Let's try unpacking this - _parsing it_ - with an in-class, break-out challenge..."
      ],
      "metadata": {
        "id": "7WhxgDSHPSTD"
      }
    },
    {
      "cell_type": "markdown",
      "source": [
        "#### <font color=\"Coral\"><b>Task 1</b></font>: &nbsp;&nbsp; In-class break-out ...\n",
        "\n",
        "<br>\n",
        "<hr>\n",
        "<br>"
      ],
      "metadata": {
        "id": "at7zPuUpVIVt"
      }
    },
    {
      "cell_type": "markdown",
      "source": [
        "### Ok!  \n",
        "\n",
        "#### You should add to your resume that\n",
        "+ you have experience with traditional _web-scraping_\n",
        "+ and with making - and interpreting - _API calls_\n",
        "+ whether they convey plain-text or json-structured data...\n",
        "\n",
        "<br>\n",
        "\n",
        "Let's go deeper, to\n",
        "+ see how the API \"endpoints\" themselves are implemented\n",
        "+ see how parameters can be used in calling API endpoints\n",
        "  + at least, with GET requests\n",
        "  + POST requests are also common - that's for another day\n"
      ],
      "metadata": {
        "id": "T1NFcrONPY2g"
      }
    },
    {
      "cell_type": "markdown",
      "source": [
        "### _Behind the Curtain_ of an API:\n",
        "\n",
        "Let's watch _inside_ API calls, using CodeSandbox...\n",
        "\n",
        "Specifically, let's practice using <u>parameters</u> to an API call:\n"
      ],
      "metadata": {
        "id": "4f5KWWeHQntp"
      }
    },
    {
      "cell_type": "markdown",
      "source": [
        "### GET parameters\n",
        "\n",
        "The GET request includes all of the information needed in the URL itself!\n",
        "\n",
        "Here are a couple of images showing the _pieces_ of urls:\n",
        "\n",
        "<img src=\"https://static.semrush.com/blog/uploads/media/ca/37/ca3737d8edb5cf079aaf1f11ae01d286/mMREmiwXSrryVyv8IxbVFgje7ICFhfqWnca7W0db36KjX35vzLTnStkFynEd9NBoXXH-JYKCm2deskxgLo_vxzEvl-qLpVOgtwc78rhFI2Rm1pBK-j2SwMKWz0CXU42STjzUVcF1vaRTFbw_6wvH_5A.webp\">"
      ],
      "metadata": {
        "id": "XMYvGOavXRi8"
      }
    },
    {
      "cell_type": "markdown",
      "source": [
        "#### Using query-string parameters\n",
        "\n",
        "**Challenge!**\n",
        "\n",
        "Team up with people nearby and make API calls to the endpoints\n",
        "\n",
        "+ `url = \"https://fvcjsw-5000.csb.app/econ176_mystery0\"`\n",
        "+ `url = \"https://fvcjsw-5000.csb.app/econ176_mystery1\"`\n",
        "+ `url = \"https://fvcjsw-5000.csb.app/econ176_mystery2\"`\n",
        "+ `url = \"https://fvcjsw-5000.csb.app/econ176_mystery3\"`\n",
        "\n",
        "_each_ of which uses query-string parameters\n",
        "+ `x` (an integer) and\n",
        "+ `y` (an integer)\n",
        "\n",
        "and see if you can determine what each one is doing... and how the parameters are being used?!\n",
        "\n",
        "<br>\n",
        "\n"
      ],
      "metadata": {
        "id": "TAnc83BOYOVN"
      }
    },
    {
      "cell_type": "code",
      "source": [
        "#\n",
        "# Try it - from a browser or from here...\n",
        "\n",
        "import requests\n",
        "\n",
        "url = \"https://fvcjsw-5000.csb.app/econ176_mystery0?x=1&y=3\"    # perhaps try from browser first!\n",
        "result_ft = requests.get(url)\n",
        "# print(result_ft)              # prints the status_code\n",
        "\n",
        "d = result_ft.json()            # here are the _contents_\n",
        "d"
      ],
      "metadata": {
        "id": "hBJDkS1GY5Gs"
      },
      "execution_count": null,
      "outputs": []
    },
    {
      "cell_type": "markdown",
      "source": [
        "We can create larger custom API calls, as well...\n",
        "\n",
        "For example,"
      ],
      "metadata": {
        "id": "CwuCqIN_7-2U"
      }
    },
    {
      "cell_type": "code",
      "source": [
        "#\n",
        "# A larger API call to the same CodeSandbox server\n",
        "\n",
        "import requests\n",
        "\n",
        "url = \"https://fvcjsw-5000.csb.app/fintech\"    # try this from your browser first!\n",
        "result_ft = requests.get(url)\n",
        "result_ft"
      ],
      "metadata": {
        "id": "U2AwbFH9Qi5T",
        "colab": {
          "base_uri": "https://localhost:8080/"
        },
        "outputId": "87e88782-b375-43ad-8572-3320e731a15d"
      },
      "execution_count": null,
      "outputs": [
        {
          "output_type": "execute_result",
          "data": {
            "text/plain": [
              "<Response [200]>"
            ]
          },
          "metadata": {},
          "execution_count": 50
        }
      ]
    },
    {
      "cell_type": "code",
      "source": [
        "#\n",
        "# Let's view ... then parse and interpret!\n",
        "\n",
        "d = result_ft.json()                  # try .text, as well...\n",
        "print(f\"The resulting data is {d}\")"
      ],
      "metadata": {
        "id": "CVNmIQpfVtGS",
        "colab": {
          "base_uri": "https://localhost:8080/"
        },
        "outputId": "f38c64dc-d3bd-44da-d08f-c204e9270f7e"
      },
      "execution_count": null,
      "outputs": [
        {
          "output_type": "stream",
          "name": "stdout",
          "text": [
            "The resulting data is {'Number': 176, 'Initials': ['AC', 'AL', 'AN', 'AP', 'AZ', 'CL', 'CM', 'CW', 'CZ', 'DS', 'EC', 'ED', 'EG', 'ES', 'HV', 'IC', 'IG', 'JB', 'JN', 'JT', 'KR', 'LA', 'LG', 'LS', 'LW', 'MD', 'ND', 'NM', 'NV', 'NW', 'OB', 'RK', 'RL', 'RP', 'SB', 'SC', 'SD', 'SF', 'SS', 'TC', 'TS', 'VN', 'VVP', 'YM', 'ZD', 'ZY'], 'Departments': ['Econ', 'CS']}\n"
          ]
        }
      ]
    },
    {
      "cell_type": "code",
      "source": [],
      "metadata": {
        "id": "vZhC_aD05pz1"
      },
      "execution_count": null,
      "outputs": []
    },
    {
      "cell_type": "markdown",
      "source": [
        "**Challenge**:   extract your initials from `d`   &nbsp;&nbsp; 😀\n",
        "\n",
        "\n",
        "<b><font color=\"DodgerBlue\">Hint</font></b>: &nbsp;&nbsp; Start with &nbsp;&nbsp;  ``d[ <something> ]``   &nbsp;&nbsp;   What's the ``something``?\n",
        "\n",
        "<i>Only do one step at a time...</i>  &nbsp;&nbsp; This is key!"
      ],
      "metadata": {
        "id": "UdVuiv7BWBT_"
      }
    },
    {
      "cell_type": "code",
      "source": [
        "#\n",
        "# see if you can extract only your initials from d\n",
        "d\n",
        "\n",
        "# we're not finished yet! :)"
      ],
      "metadata": {
        "id": "peSrlnS1WGmC"
      },
      "execution_count": null,
      "outputs": []
    },
    {
      "cell_type": "markdown",
      "source": [
        "<br>\n",
        "<hr>\n",
        "<br>\n",
        "\n",
        "### Another API, now _finance-inspired_ ...\n",
        "\n",
        "There are **lots** of finance APIs. I'm currently skeptical that they're materially different, though I'm happy to be convinced... .\n",
        "\n",
        "One material difference is price! The kind folks at _Alphavantage_ have offered us an Econ176-specific set of API keys. Let's dive in!\n",
        "\n",
        "Before using your key, try a demonostration call at this endpoint:\n",
        "\n",
        "`https://www.alphavantage.co/query?function=TIME_SERIES_DAILY&symbol=IBM&apikey=demo`\n",
        "\n",
        "which, as ever, is this link:\n",
        "\n",
        "[https://www.alphavantage.co/query?function=TIME_SERIES_DAILY&symbol=IBM&apikey=demo](https://www.alphavantage.co/query?function=TIME_SERIES_DAILY&symbol=IBM&apikey=demo)\n",
        "\n",
        "You'll see that it's the last 100 days of information from IBM. To obtain other symbols' data - or other data - you'll need to use your API key. Notice that the demo url, above, has `demo` as the `apikey` (it only works for IBM 😀)\n",
        "\n",
        "You should have your own API key, from class on 2/6:\n",
        "+ if you use that string of characters in place of ``demo`` above, you should be able to make calls to _any_ of the Alphavantage APIs\n",
        "+ it has \"medium\" bandwidth - for us, we are making single calls and then analyzing them, which will not stress any limits <br> <font size=\"-2\">(Do avoid fast loops: if too much bandwidth is used, they APIs will automatically disable the key.)</font>\n",
        "+ _Experiment!_"
      ],
      "metadata": {
        "id": "A8HUzkJ57z_l"
      }
    },
    {
      "cell_type": "markdown",
      "source": [
        "### Getting comfortable with documentation...\n",
        "\n",
        "APIs come with widely varying documentation\n",
        "+ sometimes you're guessing (as we did above!)\n",
        "+ more often, they're documented... **but** the documentation tends to have lots of idiosynrasies (there's not as much standardization as one might hope on how these things are discussed, the computing languages presumed, etc.)\n",
        "\n",
        "So, it's a worthy task - and challenge - to get familiar with the many kinds and conventions of documentation out there.\n",
        "\n",
        "Take a look at the [Alphvantage documentation](https://www.alphavantage.co/documentation/):\n",
        "+ specifically, find the section for the `TIME_SERIES_DAILY` function\n",
        "+ read over the parameters\n",
        "+ click on some of the examples\n",
        "+ see if you can reconcile the outputs you're seeing with the parameters provided\n",
        "\n",
        "Next, we'll try it out...\n",
        "\n",
        "... and will determine the best \"single-share\" strategy for investing -- for your choice of stock -- over the past 100 days. <br> <font size=\"-2\">(You might remember this as a cs5 homework, the [\"TT Securities\" problem](https://www.cs.hmc.edu/twiki/bin/view/CS5Fall2023/TTSecuritiesGold).)</font>\n",
        "\n",
        "<br>\n",
        "<hr>\n",
        "<br>"
      ],
      "metadata": {
        "id": "SOMPBTuObOVK"
      }
    },
    {
      "cell_type": "markdown",
      "source": [
        "### Your tasks!\n",
        "\n",
        "**<font color=\"Coral\">Part 1</font>: &nbsp;&nbsp; <font color=\"DodgerBlue\">Single-share Analysis</font>** &nbsp; using TIME_SERIES_DAILY\n",
        "\n",
        "So, your tasks include\n",
        "+ get your API working - the first cell below will help\n",
        "+ make sure you're getting data! - the second cell below will help with that!\n",
        "+ choose another stock symbol\n",
        "  + for now, let's stick with the compact data of the last 100 days\n",
        "  + also, be sure to make _one_ call and then code-develop with that data\n",
        "  + it will quickly annoy API providers if you make too many calls\n",
        "  + there are automatic \"shutoffs\" to stop responding in this case...\n",
        "  + it's not clear when the \"shutoff\" stops - possibly never\n",
        "\n",
        "<br>\n",
        "\n",
        "So, after making one call, explore the resulting data (dictionary) so that you\n",
        "+ programmatically extract the 100 prices (let's use the **closing** price)\n",
        "+ create a list with them\n",
        "+ find the maximum and the minimum\n",
        "  + also find the _date_ of the max and the _date_ of the min\n",
        "  + be sure to print those out...\n",
        "+ create a **graph** of your list &nbsp; (suggestion: use AI for graphing help)\n",
        "  + get the AI to highlight the max and the min\n",
        "+ \"Single-share\" analysis: &nbsp; Find the buy day and sell day that maximize `(sell price - buy price)`\n",
        "  + make sure that you sell _at or after_ you buy...\n",
        "+ print your results\n",
        "+ re-graph your 100-day signal, and highlight the buy day and the sell day you just found\n",
        "  + you might ask to use ``seaborn`` or ``matplotlib`` - both are libraries available in Colab (and libraries that the AI knows well)\n",
        "\n",
        "<br>\n",
        "\n",
        "Once you have a workflow that works, try it with a different stock symbol!\n",
        "+ do the same thing for the other signal: print the best single-share strategy - and graph\n",
        "+ compare the results in your overall reflection below\n",
        "+ you could wrap the workflow pieces into a function that takes a stock symbol as input! (This is optional and cs-y.)\n",
        "\n",
        "<br>\n",
        "\n",
        "**<font color=\"Coral\">Part 2</font>: &nbsp;&nbsp; <font color=\"DodgerBlue\">Use and Analyze <u>another</u> Alphavantage API</font>** &nbsp; ... of your choice\n",
        "+ Look over the left-hand column of APIs in the [Alphavantage documentation](https://www.alphavantage.co/documentation/)\n",
        "+ Choose another API that seems interesting to you, then\n",
        "+ Explore and tinker to successfully use it, then\n",
        "+ Analyze a subset of the data from the resulting call, then\n",
        "+ Share, briefly, what you found.\n",
        "  + The analysis does not need to be involved. For example,\n",
        "  + finding the max and min of a value is wonderful - and definitely enough\n",
        "  + or, the average, or sum, or ... really anything,\n",
        "  + as long as it means you've looked through each time step of the data-sequence received  <font size=\"-1\">(not each piece of data, just each time step)</font>\n",
        "+ <font color=\"Coral\"><b>EC</b></font> Totally optional: <font size=\"-1\">Find a function for comparing time-series trends, import it, and then use it to compare one of your stock prices with your _other_ Alphavantage signal. Report what you find! (up to +10%) &nbsp;&nbsp; Initial library leads: ``statsmodels``, ``darts``, and/or ``sktime`` ...</font>\n",
        "\n",
        "<br>\n",
        "\n",
        "Some of the other APIs that look especially interesting, at least to me:\n",
        "+ News & Sentiments\n",
        "+ Income Statement / Balance Sheet\n",
        "+ GDP per capita\n",
        "+ Exchange rates\n",
        "+ Coffee!\n",
        "\n"
      ],
      "metadata": {
        "id": "JoWz9bO2bEDY"
      }
    },
    {
      "cell_type": "markdown",
      "source": [
        "<br>\n",
        "<hr>\n",
        "<br>\n",
        "\n",
        "### Onward!"
      ],
      "metadata": {
        "id": "XNsogBoYq-wC"
      }
    },
    {
      "cell_type": "code",
      "source": [
        "#\n",
        "# Let's request!   Just using the demo, for now:\n",
        "\n",
        "import requests\n",
        "\n",
        "url = \"https://www.alphavantage.co/query?function=TIME_SERIES_DAILY&symbol=MSFT&apikey=demo\"    # demo version\n",
        "result = requests.get(url)\n",
        "result"
      ],
      "metadata": {
        "id": "rk8_s7LGeQD2",
        "colab": {
          "base_uri": "https://localhost:8080/"
        },
        "outputId": "410b9c34-6823-4c61-d1e8-5ea2b5bcff8b"
      },
      "execution_count": 6,
      "outputs": [
        {
          "output_type": "execute_result",
          "data": {
            "text/plain": [
              "<Response [200]>"
            ]
          },
          "metadata": {},
          "execution_count": 6
        }
      ]
    },
    {
      "cell_type": "code",
      "source": [
        "#\n",
        "# Let's view ... then parse and interpret!\n",
        "\n",
        "d = result.json()\n",
        "print(d)"
      ],
      "metadata": {
        "id": "TBDyZgH-ecKL",
        "colab": {
          "base_uri": "https://localhost:8080/"
        },
        "outputId": "dd26f497-511f-48b4-d6ff-9c92ebe76aa2"
      },
      "execution_count": 8,
      "outputs": [
        {
          "output_type": "stream",
          "name": "stdout",
          "text": [
            "{'Meta Data': {'1. Information': 'Daily Prices (open, high, low, close) and Volumes', '2. Symbol': 'MSFT', '3. Last Refreshed': '2025-02-14', '4. Output Size': 'Compact', '5. Time Zone': 'US/Eastern'}, 'Time Series (Daily)': {'2025-02-14': {'1. open': '407.7900', '2. high': '408.9100', '3. low': '405.8800', '4. close': '408.4300', '5. volume': '22758464'}, '2025-02-13': {'1. open': '407.0000', '2. high': '411.0000', '3. low': '406.3600', '4. close': '410.5400', '5. volume': '23891731'}, '2025-02-12': {'1. open': '407.2100', '2. high': '410.7500', '3. low': '404.3673', '4. close': '409.0400', '5. volume': '19121734'}, '2025-02-11': {'1. open': '409.6400', '2. high': '412.4900', '3. low': '409.3000', '4. close': '411.4400', '5. volume': '18140592'}, '2025-02-10': {'1. open': '413.7100', '2. high': '415.4624', '3. low': '410.9200', '4. close': '412.2200', '5. volume': '20817919'}, '2025-02-07': {'1. open': '416.4800', '2. high': '418.6500', '3. low': '408.1000', '4. close': '409.7500', '5. volume': '22886844'}, '2025-02-06': {'1. open': '414.0000', '2. high': '418.2000', '3. low': '414.0000', '4. close': '415.8200', '5. volume': '16309755'}, '2025-02-05': {'1. open': '412.3500', '2. high': '413.8270', '3. low': '410.4000', '4. close': '413.2900', '5. volume': '16336188'}, '2025-02-04': {'1. open': '412.6850', '2. high': '413.9199', '3. low': '409.7400', '4. close': '412.3700', '5. volume': '20532096'}, '2025-02-03': {'1. open': '411.6000', '2. high': '415.4100', '3. low': '408.6600', '4. close': '410.9200', '5. volume': '25679149'}, '2025-01-31': {'1. open': '418.9800', '2. high': '420.6900', '3. low': '414.9100', '4. close': '415.0600', '5. volume': '34223388'}, '2025-01-30': {'1. open': '418.7700', '2. high': '422.8600', '3. low': '413.1600', '4. close': '414.9900', '5. volume': '54586260'}, '2025-01-29': {'1. open': '446.6900', '2. high': '446.8800', '3. low': '440.4000', '4. close': '442.3300', '5. volume': '23581370'}, '2025-01-28': {'1. open': '434.6000', '2. high': '448.3800', '3. low': '431.3800', '4. close': '447.2000', '5. volume': '23491703'}, '2025-01-27': {'1. open': '424.0100', '2. high': '435.2000', '3. low': '423.5000', '4. close': '434.5600', '5. volume': '35647805'}, '2025-01-24': {'1. open': '445.1600', '2. high': '446.6500', '3. low': '441.4000', '4. close': '444.0600', '5. volume': '15549453'}, '2025-01-23': {'1. open': '442.0000', '2. high': '446.7500', '3. low': '441.5048', '4. close': '446.7100', '5. volume': '18389270'}, '2025-01-22': {'1. open': '437.5600', '2. high': '447.2700', '3. low': '436.0000', '4. close': '446.2000', '5. volume': '27803811'}, '2025-01-21': {'1. open': '430.2000', '2. high': '430.8999', '3. low': '425.5950', '4. close': '428.5000', '5. volume': '26085703'}, '2025-01-17': {'1. open': '434.0850', '2. high': '434.4800', '3. low': '428.1700', '4. close': '429.0300', '5. volume': '26197507'}, '2025-01-16': {'1. open': '428.6950', '2. high': '429.4900', '3. low': '424.3900', '4. close': '424.5800', '5. volume': '15300023'}, '2025-01-15': {'1. open': '419.1300', '2. high': '428.1500', '3. low': '418.2650', '4. close': '426.3100', '5. volume': '19637838'}, '2025-01-14': {'1. open': '417.8100', '2. high': '419.7400', '3. low': '410.7200', '4. close': '415.6700', '5. volume': '16935856'}, '2025-01-13': {'1. open': '415.2350', '2. high': '418.5000', '3. low': '412.2900', '4. close': '417.1900', '5. volume': '17604780'}, '2025-01-10': {'1. open': '424.6300', '2. high': '424.7100', '3. low': '415.0200', '4. close': '418.9500', '5. volume': '20201132'}, '2025-01-08': {'1. open': '423.4600', '2. high': '426.9700', '3. low': '421.5400', '4. close': '424.5600', '5. volume': '15054575'}, '2025-01-07': {'1. open': '429.0000', '2. high': '430.6500', '3. low': '420.8000', '4. close': '422.3700', '5. volume': '18139065'}, '2025-01-06': {'1. open': '428.0000', '2. high': '434.3200', '3. low': '425.4774', '4. close': '427.8500', '5. volume': '20573648'}, '2025-01-03': {'1. open': '421.0800', '2. high': '424.0300', '3. low': '419.5400', '4. close': '423.3500', '5. volume': '16662943'}, '2025-01-02': {'1. open': '425.5300', '2. high': '426.0700', '3. low': '414.8500', '4. close': '418.5800', '5. volume': '16896469'}, '2024-12-31': {'1. open': '426.1000', '2. high': '426.7300', '3. low': '420.6600', '4. close': '421.5000', '5. volume': '13246509'}, '2024-12-30': {'1. open': '426.0600', '2. high': '427.5500', '3. low': '421.9000', '4. close': '424.8300', '5. volume': '13158703'}, '2024-12-27': {'1. open': '434.6000', '2. high': '435.2200', '3. low': '426.3500', '4. close': '430.5300', '5. volume': '18117713'}, '2024-12-26': {'1. open': '439.0800', '2. high': '440.9400', '3. low': '436.6300', '4. close': '438.1100', '5. volume': '8199927'}, '2024-12-24': {'1. open': '434.6500', '2. high': '439.6000', '3. low': '434.1900', '4. close': '439.3300', '5. volume': '7164543'}, '2024-12-23': {'1. open': '436.7400', '2. high': '437.6500', '3. low': '432.8300', '4. close': '435.2500', '5. volume': '19152519'}, '2024-12-20': {'1. open': '433.1100', '2. high': '443.7400', '3. low': '428.6300', '4. close': '436.6000', '5. volume': '64263694'}, '2024-12-19': {'1. open': '441.6200', '2. high': '443.1834', '3. low': '436.3200', '4. close': '437.0300', '5. volume': '22963681'}, '2024-12-18': {'1. open': '451.3200', '2. high': '452.6500', '3. low': '437.0200', '4. close': '437.3900', '5. volume': '24444545'}, '2024-12-17': {'1. open': '451.0100', '2. high': '455.2900', '3. low': '449.5700', '4. close': '454.4600', '5. volume': '22733494'}, '2024-12-16': {'1. open': '447.2700', '2. high': '452.1800', '3. low': '445.2800', '4. close': '451.5900', '5. volume': '23598834'}, '2024-12-13': {'1. open': '448.4350', '2. high': '451.4300', '3. low': '445.5800', '4. close': '447.2700', '5. volume': '20177833'}, '2024-12-12': {'1. open': '449.1100', '2. high': '456.1648', '3. low': '449.1100', '4. close': '449.5600', '5. volume': '20834779'}, '2024-12-11': {'1. open': '444.0500', '2. high': '450.3500', '3. low': '444.0500', '4. close': '448.9900', '5. volume': '19200208'}, '2024-12-10': {'1. open': '444.3900', '2. high': '449.6200', '3. low': '441.6000', '4. close': '443.3300', '5. volume': '18469459'}, '2024-12-09': {'1. open': '442.6000', '2. high': '448.3300', '3. low': '440.5000', '4. close': '446.0200', '5. volume': '19144388'}, '2024-12-06': {'1. open': '442.3000', '2. high': '446.1000', '3. low': '441.7703', '4. close': '443.5700', '5. volume': '18821002'}, '2024-12-05': {'1. open': '437.9200', '2. high': '444.6600', '3. low': '436.1710', '4. close': '442.6200', '5. volume': '21697775'}, '2024-12-04': {'1. open': '433.0300', '2. high': '439.6700', '3. low': '432.6300', '4. close': '437.4200', '5. volume': '26009429'}, '2024-12-03': {'1. open': '429.8400', '2. high': '432.4700', '3. low': '427.7400', '4. close': '431.2000', '5. volume': '18301987'}, '2024-12-02': {'1. open': '421.5700', '2. high': '433.0000', '3. low': '421.3100', '4. close': '430.9800', '5. volume': '20207223'}, '2024-11-29': {'1. open': '420.0900', '2. high': '424.8800', '3. low': '417.8000', '4. close': '423.4600', '5. volume': '16271921'}, '2024-11-27': {'1. open': '425.1050', '2. high': '427.2299', '3. low': '422.0200', '4. close': '422.9900', '5. volume': '18332444'}, '2024-11-26': {'1. open': '419.5850', '2. high': '429.0414', '3. low': '418.8500', '4. close': '427.9900', '5. volume': '23458889'}, '2024-11-25': {'1. open': '418.3800', '2. high': '421.0800', '3. low': '414.8500', '4. close': '418.7900', '5. volume': '27691090'}, '2024-11-22': {'1. open': '411.3650', '2. high': '417.4000', '3. low': '411.0600', '4. close': '417.0000', '5. volume': '24814626'}, '2024-11-21': {'1. open': '419.5000', '2. high': '419.7800', '3. low': '410.2887', '4. close': '412.8700', '5. volume': '20780162'}, '2024-11-20': {'1. open': '416.8700', '2. high': '417.2900', '3. low': '410.5800', '4. close': '415.4900', '5. volume': '19191655'}, '2024-11-19': {'1. open': '413.1100', '2. high': '417.9400', '3. low': '411.5500', '4. close': '417.7900', '5. volume': '18133529'}, '2024-11-18': {'1. open': '414.8700', '2. high': '418.4037', '3. low': '412.1000', '4. close': '415.7600', '5. volume': '24742013'}, '2024-11-15': {'1. open': '419.8200', '2. high': '422.8000', '3. low': '413.6400', '4. close': '415.0000', '5. volume': '28247644'}, '2024-11-14': {'1. open': '425.0000', '2. high': '428.1700', '3. low': '420.0000', '4. close': '426.8900', '5. volume': '30246881'}, '2024-11-13': {'1. open': '421.6400', '2. high': '429.3250', '3. low': '418.2100', '4. close': '425.2000', '5. volume': '21502185'}, '2024-11-12': {'1. open': '418.2500', '2. high': '424.4400', '3. low': '417.2000', '4. close': '423.0300', '5. volume': '19401204'}, '2024-11-11': {'1. open': '422.5150', '2. high': '424.8100', '3. low': '416.0000', '4. close': '418.0100', '5. volume': '24503321'}, '2024-11-08': {'1. open': '425.3200', '2. high': '426.5000', '3. low': '421.7800', '4. close': '422.5400', '5. volume': '16891414'}, '2024-11-07': {'1. open': '421.2800', '2. high': '426.8500', '3. low': '419.8800', '4. close': '425.4300', '5. volume': '19901782'}, '2024-11-06': {'1. open': '412.4200', '2. high': '420.4500', '3. low': '410.5200', '4. close': '420.1800', '5. volume': '26681842'}, '2024-11-05': {'1. open': '408.3700', '2. high': '414.9000', '3. low': '408.0800', '4. close': '411.4600', '5. volume': '17626011'}, '2024-11-04': {'1. open': '409.8000', '2. high': '410.4150', '3. low': '405.5713', '4. close': '408.4600', '5. volume': '19672286'}, '2024-11-01': {'1. open': '409.0100', '2. high': '415.5000', '3. low': '407.5000', '4. close': '410.3700', '5. volume': '24230442'}, '2024-10-31': {'1. open': '415.3600', '2. high': '416.1600', '3. low': '406.3000', '4. close': '406.3500', '5. volume': '53970981'}, '2024-10-30': {'1. open': '437.4350', '2. high': '438.5000', '3. low': '432.1000', '4. close': '432.5300', '5. volume': '29749149'}, '2024-10-29': {'1. open': '428.0000', '2. high': '433.1700', '3. low': '425.8001', '4. close': '431.9500', '5. volume': '17644080'}, '2024-10-28': {'1. open': '431.6550', '2. high': '431.9400', '3. low': '426.3000', '4. close': '426.5900', '5. volume': '14882444'}, '2024-10-25': {'1. open': '426.7600', '2. high': '432.5200', '3. low': '426.5650', '4. close': '428.1500', '5. volume': '16899064'}, '2024-10-24': {'1. open': '425.3250', '2. high': '425.9782', '3. low': '422.4000', '4. close': '424.7300', '5. volume': '13581631'}, '2024-10-23': {'1. open': '430.8550', '2. high': '431.0800', '3. low': '422.5300', '4. close': '424.6000', '5. volume': '19654379'}, '2024-10-22': {'1. open': '418.4900', '2. high': '430.5793', '3. low': '418.0400', '4. close': '427.5100', '5. volume': '25482197'}, '2024-10-21': {'1. open': '416.1200', '2. high': '418.9600', '3. low': '413.7501', '4. close': '418.7800', '5. volume': '14206115'}, '2024-10-18': {'1. open': '417.1400', '2. high': '419.6500', '3. low': '416.2601', '4. close': '418.1600', '5. volume': '17145317'}, '2024-10-17': {'1. open': '422.3600', '2. high': '422.5000', '3. low': '415.5900', '4. close': '416.7200', '5. volume': '14820004'}, '2024-10-16': {'1. open': '415.1700', '2. high': '416.3600', '3. low': '410.4800', '4. close': '416.1200', '5. volume': '15508932'}, '2024-10-15': {'1. open': '422.1800', '2. high': '422.4800', '3. low': '415.2600', '4. close': '418.7400', '5. volume': '18900201'}, '2024-10-14': {'1. open': '417.7700', '2. high': '424.0400', '3. low': '417.5200', '4. close': '419.1400', '5. volume': '16653086'}, '2024-10-11': {'1. open': '416.1350', '2. high': '417.1300', '3. low': '413.2500', '4. close': '416.3200', '5. volume': '14144944'}, '2024-10-10': {'1. open': '415.2250', '2. high': '417.3500', '3. low': '413.1500', '4. close': '415.8400', '5. volume': '13848376'}, '2024-10-09': {'1. open': '415.8600', '2. high': '420.3800', '3. low': '414.3000', '4. close': '417.4600', '5. volume': '14974257'}, '2024-10-08': {'1. open': '410.9000', '2. high': '415.6600', '3. low': '408.1700', '4. close': '414.7100', '5. volume': '19229261'}, '2024-10-07': {'1. open': '416.0000', '2. high': '417.1100', '3. low': '409.0000', '4. close': '409.5400', '5. volume': '20919761'}, '2024-10-04': {'1. open': '418.2400', '2. high': '419.7500', '3. low': '414.9700', '4. close': '416.0600', '5. volume': '19190913'}, '2024-10-03': {'1. open': '417.6300', '2. high': '419.5500', '3. low': '414.2900', '4. close': '416.5400', '5. volume': '13686421'}, '2024-10-02': {'1. open': '422.5800', '2. high': '422.8200', '3. low': '416.7100', '4. close': '417.1300', '5. volume': '16582257'}, '2024-10-01': {'1. open': '428.4500', '2. high': '428.4800', '3. low': '418.8100', '4. close': '420.6900', '5. volume': '19092945'}, '2024-09-30': {'1. open': '428.2100', '2. high': '430.4200', '3. low': '425.3700', '4. close': '430.3000', '5. volume': '16854606'}, '2024-09-27': {'1. open': '431.5200', '2. high': '431.8500', '3. low': '427.4700', '4. close': '428.0200', '5. volume': '14896131'}, '2024-09-26': {'1. open': '435.0850', '2. high': '435.3000', '3. low': '429.1300', '4. close': '431.3100', '5. volume': '14492044'}, '2024-09-25': {'1. open': '429.8300', '2. high': '433.1190', '3. low': '428.5700', '4. close': '432.1100', '5. volume': '13396364'}, '2024-09-24': {'1. open': '433.0000', '2. high': '433.3500', '3. low': '426.1000', '4. close': '429.1700', '5. volume': '17015754'}, '2024-09-23': {'1. open': '434.2800', '2. high': '436.4600', '3. low': '430.3889', '4. close': '433.5100', '5. volume': '15128891'}}}\n"
          ]
        }
      ]
    },
    {
      "cell_type": "code",
      "source": [
        "#\n",
        "# Let's look at all of the keys...\n",
        "\n",
        "for k in d['Time Series (Daily)']:\n",
        "    print(k)\n",
        "# Let's look at all of the keys...\n",
        "\n",
        "# Aha! they are dates... let's create a function to compare two dates"
      ],
      "metadata": {
        "id": "KWq-he7JHXOO",
        "colab": {
          "base_uri": "https://localhost:8080/"
        },
        "outputId": "bb6ff31b-2b7d-4319-b658-232ec96ed9b7"
      },
      "execution_count": 9,
      "outputs": [
        {
          "output_type": "stream",
          "name": "stdout",
          "text": [
            "2025-02-14\n",
            "2025-02-13\n",
            "2025-02-12\n",
            "2025-02-11\n",
            "2025-02-10\n",
            "2025-02-07\n",
            "2025-02-06\n",
            "2025-02-05\n",
            "2025-02-04\n",
            "2025-02-03\n",
            "2025-01-31\n",
            "2025-01-30\n",
            "2025-01-29\n",
            "2025-01-28\n",
            "2025-01-27\n",
            "2025-01-24\n",
            "2025-01-23\n",
            "2025-01-22\n",
            "2025-01-21\n",
            "2025-01-17\n",
            "2025-01-16\n",
            "2025-01-15\n",
            "2025-01-14\n",
            "2025-01-13\n",
            "2025-01-10\n",
            "2025-01-08\n",
            "2025-01-07\n",
            "2025-01-06\n",
            "2025-01-03\n",
            "2025-01-02\n",
            "2024-12-31\n",
            "2024-12-30\n",
            "2024-12-27\n",
            "2024-12-26\n",
            "2024-12-24\n",
            "2024-12-23\n",
            "2024-12-20\n",
            "2024-12-19\n",
            "2024-12-18\n",
            "2024-12-17\n",
            "2024-12-16\n",
            "2024-12-13\n",
            "2024-12-12\n",
            "2024-12-11\n",
            "2024-12-10\n",
            "2024-12-09\n",
            "2024-12-06\n",
            "2024-12-05\n",
            "2024-12-04\n",
            "2024-12-03\n",
            "2024-12-02\n",
            "2024-11-29\n",
            "2024-11-27\n",
            "2024-11-26\n",
            "2024-11-25\n",
            "2024-11-22\n",
            "2024-11-21\n",
            "2024-11-20\n",
            "2024-11-19\n",
            "2024-11-18\n",
            "2024-11-15\n",
            "2024-11-14\n",
            "2024-11-13\n",
            "2024-11-12\n",
            "2024-11-11\n",
            "2024-11-08\n",
            "2024-11-07\n",
            "2024-11-06\n",
            "2024-11-05\n",
            "2024-11-04\n",
            "2024-11-01\n",
            "2024-10-31\n",
            "2024-10-30\n",
            "2024-10-29\n",
            "2024-10-28\n",
            "2024-10-25\n",
            "2024-10-24\n",
            "2024-10-23\n",
            "2024-10-22\n",
            "2024-10-21\n",
            "2024-10-18\n",
            "2024-10-17\n",
            "2024-10-16\n",
            "2024-10-15\n",
            "2024-10-14\n",
            "2024-10-11\n",
            "2024-10-10\n",
            "2024-10-09\n",
            "2024-10-08\n",
            "2024-10-07\n",
            "2024-10-04\n",
            "2024-10-03\n",
            "2024-10-02\n",
            "2024-10-01\n",
            "2024-09-30\n",
            "2024-09-27\n",
            "2024-09-26\n",
            "2024-09-25\n",
            "2024-09-24\n",
            "2024-09-23\n"
          ]
        }
      ]
    },
    {
      "cell_type": "code",
      "source": [
        "#\n",
        "# here is one way to make a list of all of the dates:\n",
        "\n",
        "DATES = list(d['Time Series (Daily)'].keys())\n",
        "DATES\n",
        "\n",
        "# Notice, they're backwards!"
      ],
      "metadata": {
        "id": "E0kMmNzg8vb0",
        "colab": {
          "base_uri": "https://localhost:8080/"
        },
        "outputId": "33f42da0-4505-498b-d4d4-4c7ec47b3961"
      },
      "execution_count": 10,
      "outputs": [
        {
          "output_type": "execute_result",
          "data": {
            "text/plain": [
              "['2025-02-14',\n",
              " '2025-02-13',\n",
              " '2025-02-12',\n",
              " '2025-02-11',\n",
              " '2025-02-10',\n",
              " '2025-02-07',\n",
              " '2025-02-06',\n",
              " '2025-02-05',\n",
              " '2025-02-04',\n",
              " '2025-02-03',\n",
              " '2025-01-31',\n",
              " '2025-01-30',\n",
              " '2025-01-29',\n",
              " '2025-01-28',\n",
              " '2025-01-27',\n",
              " '2025-01-24',\n",
              " '2025-01-23',\n",
              " '2025-01-22',\n",
              " '2025-01-21',\n",
              " '2025-01-17',\n",
              " '2025-01-16',\n",
              " '2025-01-15',\n",
              " '2025-01-14',\n",
              " '2025-01-13',\n",
              " '2025-01-10',\n",
              " '2025-01-08',\n",
              " '2025-01-07',\n",
              " '2025-01-06',\n",
              " '2025-01-03',\n",
              " '2025-01-02',\n",
              " '2024-12-31',\n",
              " '2024-12-30',\n",
              " '2024-12-27',\n",
              " '2024-12-26',\n",
              " '2024-12-24',\n",
              " '2024-12-23',\n",
              " '2024-12-20',\n",
              " '2024-12-19',\n",
              " '2024-12-18',\n",
              " '2024-12-17',\n",
              " '2024-12-16',\n",
              " '2024-12-13',\n",
              " '2024-12-12',\n",
              " '2024-12-11',\n",
              " '2024-12-10',\n",
              " '2024-12-09',\n",
              " '2024-12-06',\n",
              " '2024-12-05',\n",
              " '2024-12-04',\n",
              " '2024-12-03',\n",
              " '2024-12-02',\n",
              " '2024-11-29',\n",
              " '2024-11-27',\n",
              " '2024-11-26',\n",
              " '2024-11-25',\n",
              " '2024-11-22',\n",
              " '2024-11-21',\n",
              " '2024-11-20',\n",
              " '2024-11-19',\n",
              " '2024-11-18',\n",
              " '2024-11-15',\n",
              " '2024-11-14',\n",
              " '2024-11-13',\n",
              " '2024-11-12',\n",
              " '2024-11-11',\n",
              " '2024-11-08',\n",
              " '2024-11-07',\n",
              " '2024-11-06',\n",
              " '2024-11-05',\n",
              " '2024-11-04',\n",
              " '2024-11-01',\n",
              " '2024-10-31',\n",
              " '2024-10-30',\n",
              " '2024-10-29',\n",
              " '2024-10-28',\n",
              " '2024-10-25',\n",
              " '2024-10-24',\n",
              " '2024-10-23',\n",
              " '2024-10-22',\n",
              " '2024-10-21',\n",
              " '2024-10-18',\n",
              " '2024-10-17',\n",
              " '2024-10-16',\n",
              " '2024-10-15',\n",
              " '2024-10-14',\n",
              " '2024-10-11',\n",
              " '2024-10-10',\n",
              " '2024-10-09',\n",
              " '2024-10-08',\n",
              " '2024-10-07',\n",
              " '2024-10-04',\n",
              " '2024-10-03',\n",
              " '2024-10-02',\n",
              " '2024-10-01',\n",
              " '2024-09-30',\n",
              " '2024-09-27',\n",
              " '2024-09-26',\n",
              " '2024-09-25',\n",
              " '2024-09-24',\n",
              " '2024-09-23']"
            ]
          },
          "metadata": {},
          "execution_count": 10
        }
      ]
    },
    {
      "cell_type": "code",
      "source": [
        "#\n",
        "# Let's flip the DATES around:\n",
        "DATES.reverse()\n",
        "DATES\n",
        "\n",
        "# Yay!"
      ],
      "metadata": {
        "id": "IuqKF3DM85Ft",
        "colab": {
          "base_uri": "https://localhost:8080/"
        },
        "outputId": "23d7573a-5531-42c0-ec88-f6cb387be4a0"
      },
      "execution_count": 11,
      "outputs": [
        {
          "output_type": "execute_result",
          "data": {
            "text/plain": [
              "['2024-09-23',\n",
              " '2024-09-24',\n",
              " '2024-09-25',\n",
              " '2024-09-26',\n",
              " '2024-09-27',\n",
              " '2024-09-30',\n",
              " '2024-10-01',\n",
              " '2024-10-02',\n",
              " '2024-10-03',\n",
              " '2024-10-04',\n",
              " '2024-10-07',\n",
              " '2024-10-08',\n",
              " '2024-10-09',\n",
              " '2024-10-10',\n",
              " '2024-10-11',\n",
              " '2024-10-14',\n",
              " '2024-10-15',\n",
              " '2024-10-16',\n",
              " '2024-10-17',\n",
              " '2024-10-18',\n",
              " '2024-10-21',\n",
              " '2024-10-22',\n",
              " '2024-10-23',\n",
              " '2024-10-24',\n",
              " '2024-10-25',\n",
              " '2024-10-28',\n",
              " '2024-10-29',\n",
              " '2024-10-30',\n",
              " '2024-10-31',\n",
              " '2024-11-01',\n",
              " '2024-11-04',\n",
              " '2024-11-05',\n",
              " '2024-11-06',\n",
              " '2024-11-07',\n",
              " '2024-11-08',\n",
              " '2024-11-11',\n",
              " '2024-11-12',\n",
              " '2024-11-13',\n",
              " '2024-11-14',\n",
              " '2024-11-15',\n",
              " '2024-11-18',\n",
              " '2024-11-19',\n",
              " '2024-11-20',\n",
              " '2024-11-21',\n",
              " '2024-11-22',\n",
              " '2024-11-25',\n",
              " '2024-11-26',\n",
              " '2024-11-27',\n",
              " '2024-11-29',\n",
              " '2024-12-02',\n",
              " '2024-12-03',\n",
              " '2024-12-04',\n",
              " '2024-12-05',\n",
              " '2024-12-06',\n",
              " '2024-12-09',\n",
              " '2024-12-10',\n",
              " '2024-12-11',\n",
              " '2024-12-12',\n",
              " '2024-12-13',\n",
              " '2024-12-16',\n",
              " '2024-12-17',\n",
              " '2024-12-18',\n",
              " '2024-12-19',\n",
              " '2024-12-20',\n",
              " '2024-12-23',\n",
              " '2024-12-24',\n",
              " '2024-12-26',\n",
              " '2024-12-27',\n",
              " '2024-12-30',\n",
              " '2024-12-31',\n",
              " '2025-01-02',\n",
              " '2025-01-03',\n",
              " '2025-01-06',\n",
              " '2025-01-07',\n",
              " '2025-01-08',\n",
              " '2025-01-10',\n",
              " '2025-01-13',\n",
              " '2025-01-14',\n",
              " '2025-01-15',\n",
              " '2025-01-16',\n",
              " '2025-01-17',\n",
              " '2025-01-21',\n",
              " '2025-01-22',\n",
              " '2025-01-23',\n",
              " '2025-01-24',\n",
              " '2025-01-27',\n",
              " '2025-01-28',\n",
              " '2025-01-29',\n",
              " '2025-01-30',\n",
              " '2025-01-31',\n",
              " '2025-02-03',\n",
              " '2025-02-04',\n",
              " '2025-02-05',\n",
              " '2025-02-06',\n",
              " '2025-02-07',\n",
              " '2025-02-10',\n",
              " '2025-02-11',\n",
              " '2025-02-12',\n",
              " '2025-02-13',\n",
              " '2025-02-14']"
            ]
          },
          "metadata": {},
          "execution_count": 11
        }
      ]
    },
    {
      "cell_type": "code",
      "source": [
        "# Oooh... Now let's see what's in each key (date)\n",
        "\n",
        "val = float(d['Time Series (Daily)']['2025-01-21']['4. close'])  # Aha! it's a dictionary again!  We will need to index again!!\n",
        "val"
      ],
      "metadata": {
        "id": "xaoVqBX7eo3E",
        "colab": {
          "base_uri": "https://localhost:8080/"
        },
        "outputId": "e57fa36e-9ab0-46b0-d438-3aa0ffb5159b"
      },
      "execution_count": 12,
      "outputs": [
        {
          "output_type": "execute_result",
          "data": {
            "text/plain": [
              "428.5"
            ]
          },
          "metadata": {},
          "execution_count": 12
        }
      ]
    },
    {
      "cell_type": "code",
      "source": [
        "# A small function to get the closing price on a date (date) using data (dictionary) d\n",
        "def get_closing(date, d):\n",
        "    close = float(d['Time Series (Daily)'][date]['4. close'])\n",
        "    return close"
      ],
      "metadata": {
        "id": "9VWqvWIte4Ia"
      },
      "execution_count": 13,
      "outputs": []
    },
    {
      "cell_type": "code",
      "source": [
        "# A loop to find the minimum closing price\n",
        "#\n",
        "\n",
        "min_price = 10000000\n",
        "min_key = \"nothing\"\n",
        "\n",
        "for date in d['Time Series (Daily)']:\n",
        "    closing =  get_closing(date, d)\n",
        "    # print(f\"date is {date} and closing is {closing}\")\n",
        "    if closing < min_price:\n",
        "        min_price = closing\n",
        "        min_price_date = date\n",
        "\n",
        "print(f\"min_price_date is {min_price_date} and min_price = {min_price}\")\n"
      ],
      "metadata": {
        "colab": {
          "base_uri": "https://localhost:8080/"
        },
        "id": "qCkmerfJBtfg",
        "outputId": "33365afd-72de-44f7-a7f9-7cc7b0c59118"
      },
      "execution_count": 16,
      "outputs": [
        {
          "output_type": "stream",
          "name": "stdout",
          "text": [
            "min_price_date is 2024-10-31 and min_price = 406.35\n"
          ]
        }
      ]
    },
    {
      "cell_type": "markdown",
      "source": [
        "#### Onward into the tasks, as listed above...\n",
        "+ perhaps first, make sure you can repeat the above cells with a _different_ stock ticker\n",
        "+ perhaps then create a **list** of all of the closing prices\n",
        "+ from there, you're ready for the analysis + graphing..."
      ],
      "metadata": {
        "id": "liGetEB-pxo0"
      }
    },
    {
      "cell_type": "code",
      "source": [
        "import requests\n",
        "import matplotlib.pyplot as plt\n",
        "\n",
        "def fetch_stock_data(symbol, api_key=\"demo\"):\n",
        "    url = f\"https://www.alphavantage.co/query?function=TIME_SERIES_DAILY&symbol={symbol}&apikey={api_key}\"\n",
        "    result = requests.get(url)\n",
        "    return result.json()\n",
        "\n",
        "def get_closing(date, data):\n",
        "    return float(data['Time Series (Daily)'][date]['4. close'])\n",
        "\n",
        "def analyze_stock(data):\n",
        "    time_series = data['Time Series (Daily)']\n",
        "    dates = list(time_series.keys())\n",
        "    closing_prices = [get_closing(date, data) for date in dates]\n",
        "\n",
        "    max_price = max(closing_prices)\n",
        "    min_price = min(closing_prices)\n",
        "    max_date = dates[closing_prices.index(max_price)]\n",
        "    min_date = dates[closing_prices.index(min_price)]\n",
        "\n",
        "    max_profit = 0\n",
        "    buy_date = sell_date = \"\"\n",
        "    for i in range(len(closing_prices)):\n",
        "        for j in range(i+1, len(closing_prices)):\n",
        "            profit = closing_prices[j] - closing_prices[i]\n",
        "            if profit > max_profit:\n",
        "                max_profit = profit\n",
        "                buy_date = dates[i]\n",
        "                sell_date = dates[j]\n",
        "\n",
        "    return dates, closing_prices, max_price, max_date, min_price, min_date, buy_date, sell_date, max_profit\n",
        "\n",
        "def plot_stock(dates, prices, max_price, max_date, min_price, min_date, buy_date, sell_date):\n",
        "    dates.reverse()\n",
        "    prices.reverse()\n",
        "    plt.figure(figsize=(12, 6))\n",
        "    plt.plot(dates, prices, label='Closing Prices')\n",
        "    plt.scatter([max_date], [max_price], color='red', label=f'Max: ${max_price}', marker='o')\n",
        "    plt.scatter([min_date], [min_price], color='green', label=f'Min: ${min_price}', marker='o')\n",
        "    plt.scatter([buy_date, sell_date], [prices[dates.index(buy_date)], prices[dates.index(sell_date)]], color='orange', label='Buy/Sell Points', marker='o')\n",
        "    plt.xlabel('Date')\n",
        "    plt.ylabel('Price (USD)')\n",
        "    plt.title('Stock Prices with Max/Min and Buy/Sell Points')\n",
        "    plt.xticks(rotation=45)\n",
        "    plt.legend()\n",
        "    plt.grid(True)\n",
        "    plt.show()\n",
        "\n",
        "symbol = input(\"Enter stock ticker symbol (e.g., AAPL, MSFT, IBM): \").upper()\n",
        "data = fetch_stock_data(symbol)\n",
        "dates, prices, max_price, max_date, min_price, min_date, buy_date, sell_date, max_profit = analyze_stock(data)\n",
        "\n",
        "print(f\"\\nMax Price: ${max_price} on {max_date}\")\n",
        "print(f\"Min Price: ${min_price} on {min_date}\")\n",
        "print(f\"Best Buy Date: {buy_date}, Sell Date: {sell_date}, Max Profit: ${max_profit:.2f}\")\n",
        "\n",
        "plot_stock(dates, prices, max_price, max_date, min_price, min_date, buy_date, sell_date)\n"
      ],
      "metadata": {
        "id": "vz3DLuVNpaau",
        "colab": {
          "base_uri": "https://localhost:8080/",
          "height": 702
        },
        "outputId": "cb0c98a0-e374-44ac-f556-ba78c1dafd28"
      },
      "execution_count": 1,
      "outputs": [
        {
          "output_type": "stream",
          "name": "stdout",
          "text": [
            "Enter stock ticker symbol (e.g., AAPL, MSFT, IBM): MSFT\n",
            "\n",
            "Max Price: $454.46 on 2024-12-17\n",
            "Min Price: $406.35 on 2024-10-31\n",
            "Best Buy Date: 2025-02-14, Sell Date: 2024-12-17, Max Profit: $46.03\n"
          ]
        },
        {
          "output_type": "display_data",
          "data": {
            "text/plain": [
              "<Figure size 1200x600 with 1 Axes>"
            ],
            "image/png": "[encoded data removed]"
          },
          "metadata": {}
        }
      ]
    },
    {
      "cell_type": "markdown",
      "source": [
        "<br>\n",
        "<hr>\n",
        "<br>\n",
        "\n",
        "### You're off and ~~running~~ **API'ing** !\n",
        "\n",
        "There's no stopping now...\n",
        "\n",
        "Include in this notebook - below - a short 4-6 sentence summary of\n",
        "+ Which of your two (or more) stocks offers better \"profit\" opportunity -- for a single-share -- if you had a time machine that worked for the past 100 days?\n",
        "+ What other API did you choose to try? What did you analyze from it?\n",
        "+ How difficult/accessible did you find the Alphavantage documentation?\n",
        "+ You're welcome to use AI for help + debugging\n",
        "  + what are your thoughts: &nbsp; Was AI helpful on this?  &nbsp;&nbsp;  Was AI <i>un</i>helpful on this? &nbsp; Both? &nbsp; Neither?\n",
        "+ Big-picture, how the API'ing and Python'ing went overall?\n"
      ],
      "metadata": {
        "id": "XsqCUyh0e5hG"
      }
    },
    {
      "cell_type": "markdown",
      "source": [
        "### Markdown cell for thoughts on this API/JSON/Python \"API and Analysis\" challenge:\n",
        "\n",
        "Feel free to use this cell for that reflection...\n",
        "\n",
        "In my analysis of IBM and MSFT stocks, I found that MSFT offered a better single-share profit opportunity with a maximum profit of 46.03 over the past 100 days, compared to IBM's 30.36. The MSFT stock showed more volatility and price growth potential, making it a better choice for short-term trading.\n",
        "\n",
        "I explored the Exchange Rate API from Alpha Vantage, analyzing the USD to EUR exchange rates over the past 100 days, identifying key trends and volatility that could impact international trades. The Alpha Vantage documentation was accessible, though it took time to navigate due to its extensive nature and parameters. Experimentation and trial-and-error helped me understand the API better.\n",
        "\n",
        "AI was helpful for debugging and guiding me through complex tasks. While it  was useful in helping me understand the bugs,  I still had to tweak and adapt the debugged code to my specific needs.\n",
        "\n",
        "<hr>\n",
        "\n",
        "<br>\n",
        "<br>\n",
        "<br>\n",
        "<br>\n",
        "\n",
        "<hr>\n",
        "\n",
        "<br>\n"
      ],
      "metadata": {
        "id": "1a5D-FU5nfhL"
      }
    },
    {
      "cell_type": "markdown",
      "source": [],
      "metadata": {
        "id": "CIKH4aMH3thp"
      }
    },
    {
      "cell_type": "markdown",
      "source": [
        "### Lab/Office hours...\n",
        "\n",
        "We'll have in-lab grutoring hours, in HMC's McGregor 205:\n",
        "+ Thursday, 2/13 from 7-9pm\n",
        "+ Friday, 2/14 from 1:30-3pm\n",
        "+ Sunday, 2/16 from 7:30-9:30pm\n",
        "\n",
        "<br>\n",
        "\n",
        "### Submitting...\n",
        "\n",
        "This \"API + Analysis\" challenge will be due:\n",
        "+ now, <font color=\"DarkRed\">Sunday</font> evening @ 11pm  (Feb. 16th)  \n",
        "+ Download this notebook and Submit to GradeScope\n",
        "+ Join Econ176 by adding Gradescope course code <tt><b>R7G3NG</b></tt>\n",
        "\n",
        "Onward!"
      ],
      "metadata": {
        "id": "1EqsfVrZnuoa"
      }
    }
  ]
}