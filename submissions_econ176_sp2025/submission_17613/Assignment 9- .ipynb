{
  "nbformat": 4,
  "nbformat_minor": 0,
  "metadata": {
    "colab": {
      "provenance": []
    },
    "kernelspec": {
      "name": "python3",
      "display_name": "Python 3"
    },
    "language_info": {
      "name": "python"
    }
  },
  "cells": [
    {
      "cell_type": "markdown",
      "source": [
        "# Welcome to Web3!\n",
        "\n",
        "### Blockchain programming using Ethereum and Web3.py\n",
        "\n",
        "<font size=\"-1\">motivated by <a href=\"https://snakecharmers.ethereum.org/a-developers-guide-to-ethereum-pt-1/\">A Developer's Guide to Ethereum</a> by M. Garreau</font>"
      ],
      "metadata": {
        "id": "f_2pfxIg1q3r"
      }
    },
    {
      "cell_type": "code",
      "source": [
        "# This will update Colab's libraries\n",
        "#      and will avoid several DeprecationWarnings in the future...\n",
        "\n",
        "import warnings\n",
        "warnings.filterwarnings(\"ignore\", category=ImportWarning, append=True)\n",
        "warnings.filterwarnings(\"ignore\", category=DeprecationWarning, append=True)\n",
        "\n",
        "# these may need to be repeated, and the append parameter seems suspiciously unintuitive (i.e., not-working)\n",
        "# this may not be needed\n",
        "# !pip install --upgrade ipykernel"
      ],
      "metadata": {
        "id": "uIfZST05VwzD"
      },
      "execution_count": 35,
      "outputs": []
    },
    {
      "cell_type": "code",
      "source": [
        "!pip install web3"
      ],
      "metadata": {
        "id": "snu1lb5E1nnl",
        "collapsed": true,
        "colab": {
          "base_uri": "https://localhost:8080/"
        },
        "outputId": "975ceb88-27b4-4f83-80dd-5a11b3e78a3a"
      },
      "execution_count": 36,
      "outputs": [
        {
          "output_type": "stream",
          "name": "stdout",
          "text": [
            "Requirement already satisfied: web3 in /usr/local/lib/python3.11/dist-packages (7.10.0)\n",
            "Requirement already satisfied: eth-abi>=5.0.1 in /usr/local/lib/python3.11/dist-packages (from web3) (5.2.0)\n",
            "Requirement already satisfied: eth-account>=0.13.1 in /usr/local/lib/python3.11/dist-packages (from web3) (0.13.6)\n",
            "Requirement already satisfied: eth-hash>=0.5.1 in /usr/local/lib/python3.11/dist-packages (from eth-hash[pycryptodome]>=0.5.1->web3) (0.7.1)\n",
            "Requirement already satisfied: eth-typing>=5.0.0 in /usr/local/lib/python3.11/dist-packages (from web3) (5.2.1)\n",
            "Requirement already satisfied: eth-utils>=5.0.0 in /usr/local/lib/python3.11/dist-packages (from web3) (5.3.0)\n",
            "Requirement already satisfied: hexbytes>=1.2.0 in /usr/local/lib/python3.11/dist-packages (from web3) (1.3.0)\n",
            "Requirement already satisfied: aiohttp>=3.7.4.post0 in /usr/local/lib/python3.11/dist-packages (from web3) (3.11.15)\n",
            "Requirement already satisfied: pydantic>=2.4.0 in /usr/local/lib/python3.11/dist-packages (from web3) (2.11.3)\n",
            "Requirement already satisfied: requests>=2.23.0 in /usr/local/lib/python3.11/dist-packages (from web3) (2.32.3)\n",
            "Requirement already satisfied: typing-extensions>=4.0.1 in /usr/local/lib/python3.11/dist-packages (from web3) (4.13.2)\n",
            "Requirement already satisfied: types-requests>=2.0.0 in /usr/local/lib/python3.11/dist-packages (from web3) (2.32.0.20250328)\n",
            "Requirement already satisfied: websockets<16.0.0,>=10.0.0 in /usr/local/lib/python3.11/dist-packages (from web3) (15.0.1)\n",
            "Requirement already satisfied: pyunormalize>=15.0.0 in /usr/local/lib/python3.11/dist-packages (from web3) (16.0.0)\n",
            "Requirement already satisfied: aiohappyeyeballs>=2.3.0 in /usr/local/lib/python3.11/dist-packages (from aiohttp>=3.7.4.post0->web3) (2.6.1)\n",
            "Requirement already satisfied: aiosignal>=1.1.2 in /usr/local/lib/python3.11/dist-packages (from aiohttp>=3.7.4.post0->web3) (1.3.2)\n",
            "Requirement already satisfied: attrs>=17.3.0 in /usr/local/lib/python3.11/dist-packages (from aiohttp>=3.7.4.post0->web3) (25.3.0)\n",
            "Requirement already satisfied: frozenlist>=1.1.1 in /usr/local/lib/python3.11/dist-packages (from aiohttp>=3.7.4.post0->web3) (1.5.0)\n",
            "Requirement already satisfied: multidict<7.0,>=4.5 in /usr/local/lib/python3.11/dist-packages (from aiohttp>=3.7.4.post0->web3) (6.4.3)\n",
            "Requirement already satisfied: propcache>=0.2.0 in /usr/local/lib/python3.11/dist-packages (from aiohttp>=3.7.4.post0->web3) (0.3.1)\n",
            "Requirement already satisfied: yarl<2.0,>=1.17.0 in /usr/local/lib/python3.11/dist-packages (from aiohttp>=3.7.4.post0->web3) (1.19.0)\n",
            "Requirement already satisfied: parsimonious<0.11.0,>=0.10.0 in /usr/local/lib/python3.11/dist-packages (from eth-abi>=5.0.1->web3) (0.10.0)\n",
            "Requirement already satisfied: bitarray>=2.4.0 in /usr/local/lib/python3.11/dist-packages (from eth-account>=0.13.1->web3) (3.3.1)\n",
            "Requirement already satisfied: eth-keyfile<0.9.0,>=0.7.0 in /usr/local/lib/python3.11/dist-packages (from eth-account>=0.13.1->web3) (0.8.1)\n",
            "Requirement already satisfied: eth-keys>=0.4.0 in /usr/local/lib/python3.11/dist-packages (from eth-account>=0.13.1->web3) (0.7.0)\n",
            "Requirement already satisfied: eth-rlp>=2.1.0 in /usr/local/lib/python3.11/dist-packages (from eth-account>=0.13.1->web3) (2.2.0)\n",
            "Requirement already satisfied: rlp>=1.0.0 in /usr/local/lib/python3.11/dist-packages (from eth-account>=0.13.1->web3) (4.1.0)\n",
            "Requirement already satisfied: ckzg>=2.0.0 in /usr/local/lib/python3.11/dist-packages (from eth-account>=0.13.1->web3) (2.1.1)\n",
            "Requirement already satisfied: pycryptodome<4,>=3.6.6 in /usr/local/lib/python3.11/dist-packages (from eth-hash[pycryptodome]>=0.5.1->web3) (3.22.0)\n",
            "Requirement already satisfied: cytoolz>=0.10.1 in /usr/local/lib/python3.11/dist-packages (from eth-utils>=5.0.0->web3) (1.0.1)\n",
            "Requirement already satisfied: annotated-types>=0.6.0 in /usr/local/lib/python3.11/dist-packages (from pydantic>=2.4.0->web3) (0.7.0)\n",
            "Requirement already satisfied: pydantic-core==2.33.1 in /usr/local/lib/python3.11/dist-packages (from pydantic>=2.4.0->web3) (2.33.1)\n",
            "Requirement already satisfied: typing-inspection>=0.4.0 in /usr/local/lib/python3.11/dist-packages (from pydantic>=2.4.0->web3) (0.4.0)\n",
            "Requirement already satisfied: charset-normalizer<4,>=2 in /usr/local/lib/python3.11/dist-packages (from requests>=2.23.0->web3) (3.4.1)\n",
            "Requirement already satisfied: idna<4,>=2.5 in /usr/local/lib/python3.11/dist-packages (from requests>=2.23.0->web3) (3.10)\n",
            "Requirement already satisfied: urllib3<3,>=1.21.1 in /usr/local/lib/python3.11/dist-packages (from requests>=2.23.0->web3) (2.3.0)\n",
            "Requirement already satisfied: certifi>=2017.4.17 in /usr/local/lib/python3.11/dist-packages (from requests>=2.23.0->web3) (2025.1.31)\n",
            "Requirement already satisfied: toolz>=0.8.0 in /usr/local/lib/python3.11/dist-packages (from cytoolz>=0.10.1->eth-utils>=5.0.0->web3) (0.12.1)\n",
            "Requirement already satisfied: regex>=2022.3.15 in /usr/local/lib/python3.11/dist-packages (from parsimonious<0.11.0,>=0.10.0->eth-abi>=5.0.1->web3) (2024.11.6)\n"
          ]
        }
      ]
    },
    {
      "cell_type": "code",
      "source": [
        "!pip install \"web3[tester]\""
      ],
      "metadata": {
        "id": "cbR4paJ213H4",
        "collapsed": true,
        "colab": {
          "base_uri": "https://localhost:8080/"
        },
        "outputId": "10aa299c-f41c-467e-85f7-eebe7987bc82"
      },
      "execution_count": 37,
      "outputs": [
        {
          "output_type": "stream",
          "name": "stdout",
          "text": [
            "Requirement already satisfied: web3[tester] in /usr/local/lib/python3.11/dist-packages (7.10.0)\n",
            "Requirement already satisfied: eth-abi>=5.0.1 in /usr/local/lib/python3.11/dist-packages (from web3[tester]) (5.2.0)\n",
            "Requirement already satisfied: eth-account>=0.13.1 in /usr/local/lib/python3.11/dist-packages (from web3[tester]) (0.13.6)\n",
            "Requirement already satisfied: eth-hash>=0.5.1 in /usr/local/lib/python3.11/dist-packages (from eth-hash[pycryptodome]>=0.5.1->web3[tester]) (0.7.1)\n",
            "Requirement already satisfied: eth-typing>=5.0.0 in /usr/local/lib/python3.11/dist-packages (from web3[tester]) (5.2.1)\n",
            "Requirement already satisfied: eth-utils>=5.0.0 in /usr/local/lib/python3.11/dist-packages (from web3[tester]) (5.3.0)\n",
            "Requirement already satisfied: hexbytes>=1.2.0 in /usr/local/lib/python3.11/dist-packages (from web3[tester]) (1.3.0)\n",
            "Requirement already satisfied: aiohttp>=3.7.4.post0 in /usr/local/lib/python3.11/dist-packages (from web3[tester]) (3.11.15)\n",
            "Requirement already satisfied: pydantic>=2.4.0 in /usr/local/lib/python3.11/dist-packages (from web3[tester]) (2.11.3)\n",
            "Requirement already satisfied: requests>=2.23.0 in /usr/local/lib/python3.11/dist-packages (from web3[tester]) (2.32.3)\n",
            "Requirement already satisfied: typing-extensions>=4.0.1 in /usr/local/lib/python3.11/dist-packages (from web3[tester]) (4.13.2)\n",
            "Requirement already satisfied: types-requests>=2.0.0 in /usr/local/lib/python3.11/dist-packages (from web3[tester]) (2.32.0.20250328)\n",
            "Requirement already satisfied: websockets<16.0.0,>=10.0.0 in /usr/local/lib/python3.11/dist-packages (from web3[tester]) (15.0.1)\n",
            "Requirement already satisfied: pyunormalize>=15.0.0 in /usr/local/lib/python3.11/dist-packages (from web3[tester]) (16.0.0)\n",
            "Requirement already satisfied: eth-tester<0.13.0b1,>=0.12.0b1 in /usr/local/lib/python3.11/dist-packages (from eth-tester[py-evm]<0.13.0b1,>=0.12.0b1; extra == \"tester\"->web3[tester]) (0.12.1b1)\n",
            "Requirement already satisfied: py-geth>=5.1.0 in /usr/local/lib/python3.11/dist-packages (from web3[tester]) (5.4.0)\n",
            "Requirement already satisfied: aiohappyeyeballs>=2.3.0 in /usr/local/lib/python3.11/dist-packages (from aiohttp>=3.7.4.post0->web3[tester]) (2.6.1)\n",
            "Requirement already satisfied: aiosignal>=1.1.2 in /usr/local/lib/python3.11/dist-packages (from aiohttp>=3.7.4.post0->web3[tester]) (1.3.2)\n",
            "Requirement already satisfied: attrs>=17.3.0 in /usr/local/lib/python3.11/dist-packages (from aiohttp>=3.7.4.post0->web3[tester]) (25.3.0)\n",
            "Requirement already satisfied: frozenlist>=1.1.1 in /usr/local/lib/python3.11/dist-packages (from aiohttp>=3.7.4.post0->web3[tester]) (1.5.0)\n",
            "Requirement already satisfied: multidict<7.0,>=4.5 in /usr/local/lib/python3.11/dist-packages (from aiohttp>=3.7.4.post0->web3[tester]) (6.4.3)\n",
            "Requirement already satisfied: propcache>=0.2.0 in /usr/local/lib/python3.11/dist-packages (from aiohttp>=3.7.4.post0->web3[tester]) (0.3.1)\n",
            "Requirement already satisfied: yarl<2.0,>=1.17.0 in /usr/local/lib/python3.11/dist-packages (from aiohttp>=3.7.4.post0->web3[tester]) (1.19.0)\n",
            "Requirement already satisfied: parsimonious<0.11.0,>=0.10.0 in /usr/local/lib/python3.11/dist-packages (from eth-abi>=5.0.1->web3[tester]) (0.10.0)\n",
            "Requirement already satisfied: bitarray>=2.4.0 in /usr/local/lib/python3.11/dist-packages (from eth-account>=0.13.1->web3[tester]) (3.3.1)\n",
            "Requirement already satisfied: eth-keyfile<0.9.0,>=0.7.0 in /usr/local/lib/python3.11/dist-packages (from eth-account>=0.13.1->web3[tester]) (0.8.1)\n",
            "Requirement already satisfied: eth-keys>=0.4.0 in /usr/local/lib/python3.11/dist-packages (from eth-account>=0.13.1->web3[tester]) (0.7.0)\n",
            "Requirement already satisfied: eth-rlp>=2.1.0 in /usr/local/lib/python3.11/dist-packages (from eth-account>=0.13.1->web3[tester]) (2.2.0)\n",
            "Requirement already satisfied: rlp>=1.0.0 in /usr/local/lib/python3.11/dist-packages (from eth-account>=0.13.1->web3[tester]) (4.1.0)\n",
            "Requirement already satisfied: ckzg>=2.0.0 in /usr/local/lib/python3.11/dist-packages (from eth-account>=0.13.1->web3[tester]) (2.1.1)\n",
            "Requirement already satisfied: pycryptodome<4,>=3.6.6 in /usr/local/lib/python3.11/dist-packages (from eth-hash[pycryptodome]>=0.5.1->web3[tester]) (3.22.0)\n",
            "Requirement already satisfied: semantic_version>=2.6.0 in /usr/local/lib/python3.11/dist-packages (from eth-tester<0.13.0b1,>=0.12.0b1->eth-tester[py-evm]<0.13.0b1,>=0.12.0b1; extra == \"tester\"->web3[tester]) (2.10.0)\n",
            "Requirement already satisfied: py-evm<0.11.0b0,>=0.10.0b0 in /usr/local/lib/python3.11/dist-packages (from eth-tester[py-evm]<0.13.0b1,>=0.12.0b1; extra == \"tester\"->web3[tester]) (0.10.1b2)\n",
            "Requirement already satisfied: cytoolz>=0.10.1 in /usr/local/lib/python3.11/dist-packages (from eth-utils>=5.0.0->web3[tester]) (1.0.1)\n",
            "Requirement already satisfied: annotated-types>=0.6.0 in /usr/local/lib/python3.11/dist-packages (from pydantic>=2.4.0->web3[tester]) (0.7.0)\n",
            "Requirement already satisfied: pydantic-core==2.33.1 in /usr/local/lib/python3.11/dist-packages (from pydantic>=2.4.0->web3[tester]) (2.33.1)\n",
            "Requirement already satisfied: typing-inspection>=0.4.0 in /usr/local/lib/python3.11/dist-packages (from pydantic>=2.4.0->web3[tester]) (0.4.0)\n",
            "Requirement already satisfied: charset-normalizer<4,>=2 in /usr/local/lib/python3.11/dist-packages (from requests>=2.23.0->web3[tester]) (3.4.1)\n",
            "Requirement already satisfied: idna<4,>=2.5 in /usr/local/lib/python3.11/dist-packages (from requests>=2.23.0->web3[tester]) (3.10)\n",
            "Requirement already satisfied: urllib3<3,>=1.21.1 in /usr/local/lib/python3.11/dist-packages (from requests>=2.23.0->web3[tester]) (2.3.0)\n",
            "Requirement already satisfied: certifi>=2017.4.17 in /usr/local/lib/python3.11/dist-packages (from requests>=2.23.0->web3[tester]) (2025.1.31)\n",
            "Requirement already satisfied: toolz>=0.8.0 in /usr/local/lib/python3.11/dist-packages (from cytoolz>=0.10.1->eth-utils>=5.0.0->web3[tester]) (0.12.1)\n",
            "Requirement already satisfied: safe-pysha3>=1.0.0 in /usr/local/lib/python3.11/dist-packages (from eth-hash>=0.5.1->eth-hash[pycryptodome]>=0.5.1->web3[tester]) (1.0.4)\n",
            "Requirement already satisfied: regex>=2022.3.15 in /usr/local/lib/python3.11/dist-packages (from parsimonious<0.11.0,>=0.10.0->eth-abi>=5.0.1->web3[tester]) (2024.11.6)\n",
            "Requirement already satisfied: cached-property>=1.5.1 in /usr/local/lib/python3.11/dist-packages (from py-evm<0.11.0b0,>=0.10.0b0->eth-tester[py-evm]<0.13.0b1,>=0.12.0b1; extra == \"tester\"->web3[tester]) (2.0.1)\n",
            "Requirement already satisfied: eth-bloom>=1.0.3 in /usr/local/lib/python3.11/dist-packages (from py-evm<0.11.0b0,>=0.10.0b0->eth-tester[py-evm]<0.13.0b1,>=0.12.0b1; extra == \"tester\"->web3[tester]) (3.1.0)\n",
            "Requirement already satisfied: lru-dict>=1.1.6 in /usr/local/lib/python3.11/dist-packages (from py-evm<0.11.0b0,>=0.10.0b0->eth-tester[py-evm]<0.13.0b1,>=0.12.0b1; extra == \"tester\"->web3[tester]) (1.3.0)\n",
            "Requirement already satisfied: py-ecc>=1.4.7 in /usr/local/lib/python3.11/dist-packages (from py-evm<0.11.0b0,>=0.10.0b0->eth-tester[py-evm]<0.13.0b1,>=0.12.0b1; extra == \"tester\"->web3[tester]) (8.0.0)\n",
            "Requirement already satisfied: trie>=2.0.0 in /usr/local/lib/python3.11/dist-packages (from py-evm<0.11.0b0,>=0.10.0b0->eth-tester[py-evm]<0.13.0b1,>=0.12.0b1; extra == \"tester\"->web3[tester]) (3.1.0)\n",
            "Requirement already satisfied: sortedcontainers>=2.1.0 in /usr/local/lib/python3.11/dist-packages (from trie>=2.0.0->py-evm<0.11.0b0,>=0.10.0b0->eth-tester[py-evm]<0.13.0b1,>=0.12.0b1; extra == \"tester\"->web3[tester]) (2.4.0)\n"
          ]
        }
      ]
    },
    {
      "cell_type": "markdown",
      "source": [
        "#### Let's check that the libraries are working...\n",
        "\n"
      ],
      "metadata": {
        "id": "2q58PDHC5ENi"
      }
    },
    {
      "cell_type": "code",
      "source": [
        "from web3 import Web3"
      ],
      "metadata": {
        "id": "Nrk1TQJH21Q7"
      },
      "execution_count": 38,
      "outputs": []
    },
    {
      "cell_type": "markdown",
      "source": [
        "#### Use auto-completion\n",
        "\n",
        "It's great to quickly review the data and functions in an object...\n",
        "\n",
        "Add a period at the end of the <tt>Web3</tt> object to see and review its fields:"
      ],
      "metadata": {
        "id": "TvlzVcBl25EQ"
      }
    },
    {
      "cell_type": "code",
      "source": [
        "# Check out whats available in the Web3 object, by\n",
        "#       typing a period . after Web3 below\n",
        "#       (make it Web3.  ~ then wait a moment...)\n",
        "\n",
        "# Here, add a period (the selector operator) and wait a moment\n",
        "#       a panel should popup to show all of the available fields\n",
        "\n",
        "# Check out from_wei and to_wei !\n",
        "\n",
        "Web3.from_wei"
      ],
      "metadata": {
        "id": "RiB-WY7L2s2c",
        "collapsed": true,
        "colab": {
          "base_uri": "https://localhost:8080/",
          "height": 120
        },
        "outputId": "223e4e81-7d8d-4c9b-caa4-69771fa99ce1"
      },
      "execution_count": 39,
      "outputs": [
        {
          "output_type": "execute_result",
          "data": {
            "text/plain": [
              "<function eth_utils.currency.from_wei(number: int, unit: str) -> Union[int, decimal.Decimal]>"
            ],
            "text/html": [
              "<div style=\"max-width:800px; border: 1px solid var(--colab-border-color);\"><style>\n",
              "      pre.function-repr-contents {\n",
              "        overflow-x: auto;\n",
              "        padding: 8px 12px;\n",
              "        max-height: 500px;\n",
              "      }\n",
              "\n",
              "      pre.function-repr-contents.function-repr-contents-collapsed {\n",
              "        cursor: pointer;\n",
              "        max-height: 100px;\n",
              "      }\n",
              "    </style>\n",
              "    <pre style=\"white-space: initial; background:\n",
              "         var(--colab-secondary-surface-color); padding: 8px 12px;\n",
              "         border-bottom: 1px solid var(--colab-border-color);\"><b>eth_utils.currency.from_wei</b><br/>def from_wei(number: int, unit: str) -&gt; Union[int, decimal.Decimal]</pre><pre class=\"function-repr-contents function-repr-contents-collapsed\" style=\"\"><a class=\"filepath\" style=\"display:none\" href=\"#\">/usr/local/lib/python3.11/dist-packages/eth_utils/currency.py</a>Takes a number of wei and converts it to any other ether unit.</pre>\n",
              "      <script>\n",
              "      if (google.colab.kernel.accessAllowed && google.colab.files && google.colab.files.view) {\n",
              "        for (const element of document.querySelectorAll('.filepath')) {\n",
              "          element.style.display = 'block'\n",
              "          element.onclick = (event) => {\n",
              "            event.preventDefault();\n",
              "            event.stopPropagation();\n",
              "            google.colab.files.view(element.textContent, 97);\n",
              "          };\n",
              "        }\n",
              "      }\n",
              "      for (const element of document.querySelectorAll('.function-repr-contents')) {\n",
              "        element.onclick = (event) => {\n",
              "          event.preventDefault();\n",
              "          event.stopPropagation();\n",
              "          element.classList.toggle('function-repr-contents-collapsed');\n",
              "        };\n",
              "      }\n",
              "      </script>\n",
              "      </div>"
            ]
          },
          "metadata": {},
          "execution_count": 39
        }
      ]
    },
    {
      "cell_type": "markdown",
      "source": [
        "#### Notice <tt>to_wei</tt> and <tt>from_wei</tt>\n",
        "\n",
        "... and many others!\n",
        "\n",
        "Here, let's use <tt>to_wei</tt> from the <tt>Web3</tt> object to convert among different units of Ether:"
      ],
      "metadata": {
        "id": "_HGqBb0A2zWX"
      }
    },
    {
      "cell_type": "code",
      "source": [
        "from web3 import Web3\n",
        "\n",
        "value_in_wei = Web3.to_wei(1, 'ether')\n",
        "print(f\"1 eth is {value_in_wei} wei.\")"
      ],
      "metadata": {
        "id": "WNKAK3vp5IJ5",
        "colab": {
          "base_uri": "https://localhost:8080/"
        },
        "outputId": "07c0a02f-c70e-4bf9-f1d0-8604043377d4"
      },
      "execution_count": 40,
      "outputs": [
        {
          "output_type": "stream",
          "name": "stdout",
          "text": [
            "1 eth is 1000000000000000000 wei.\n"
          ]
        }
      ]
    },
    {
      "cell_type": "markdown",
      "source": [
        "Here are names for the \"coins\" of the Ether realm:\n",
        "\n",
        "<img src=\"https://m.foolcdn.com/media/dubs/images/gwei-infographic.width-880.png\" height=\"284px\">\n",
        "\n",
        "The nicknames are a mix of computing and cryptography/Ethereum early-explorers...   😀"
      ],
      "metadata": {
        "id": "JA1RsldO7pi8"
      }
    },
    {
      "cell_type": "markdown",
      "source": [
        "#### Let's try out the <tt>gwei</tt> unit\n",
        "\n",
        "Gwei are the typical units for Ethereum's <i>gas</i>\n",
        "\n",
        "This also shows off the use of <tt>from_wei</tt>\n",
        "\n",
        "<font size=\"-1\"><i>Warning</i> &nbsp; We will use <i>floating-point</i> for readability. For exact artihmetic, everything must be in integers (and probably in <tt>wei</tt>).</font>"
      ],
      "metadata": {
        "id": "KksRX-ZpzhkQ"
      }
    },
    {
      "cell_type": "code",
      "source": [
        "# converting to other units...\n",
        "#            with the function Web3.from_wei\n",
        "\n",
        "value_in_gwei = float(Web3.from_wei(42_000_000_000, 'gwei'))\n",
        "value_in_gwei\n",
        "\n",
        "# Python allows underscores instead of commas:\n",
        "# gwei is short for \"gigawei\" which is 1 billion wei\n",
        "# Note that, in Python, the underscore is a legal \"thousands-separator\"  (cool!)"
      ],
      "metadata": {
        "id": "k2eud6uF7i05",
        "colab": {
          "base_uri": "https://localhost:8080/"
        },
        "outputId": "62c30bb5-ea62-4996-c9f4-e8592168eb04"
      },
      "execution_count": 41,
      "outputs": [
        {
          "output_type": "execute_result",
          "data": {
            "text/plain": [
              "42.0"
            ]
          },
          "metadata": {},
          "execution_count": 41
        }
      ]
    },
    {
      "cell_type": "markdown",
      "source": [
        "## <b><font color=\"DodgerBlue\">Challenge #1</font></b> &nbsp;&nbsp; <i>Current</i> currency conversion\n",
        "\n",
        "<b><font color=\"Coral\">Task</font></b> &nbsp;&nbsp;  Write a function that finds the value, in dollars, of 1 ether and finds the value, in ether and gwei, of 1 dollar. Use the <i>current</i> value of the currencies!\n",
        "\n",
        "For example, here is how the function might look when it's run:\n",
        "\n",
        "```\n",
        "# the call to your function:\n",
        "your_function()   # choose your own name\n",
        "\n",
        "# the output, printed:\n",
        "1 ether is currently  $1342.26\n",
        "\n",
        "1 dollar is currently .000745012143697942 ether\n",
        "1 dollar is about     745012.14 gwei\n",
        "```\n",
        "\n",
        "#### Remember <tt>requests</tt> ?\n",
        "\n",
        "<tt>requests</tt> was the Python library our API module used to make API requests to arbitrary endpoints (urls). This is a great way to help implement this function  et's get the current price of ETH...\n",
        "And use that to convert from dollars to gwei and gwei to dollars...\n",
        "\n",
        "<br>\n",
        "\n",
        "#### <i>Use the AI to build-in current ETH pricing...</i>\n",
        "\n",
        "+ Prompt Colab to use requests API to get the current price of ETH\n",
        "+ Test the code version(s) it provides to find one that works (and that you like)\n",
        "+ Continue on, to create your function above...\n",
        "+ Use better names! For example,  <tt>dollars_to_gwei</tt> or <tt>gwei_to_dollars</tt> would be reasonable helper functions\n",
        "+ (No requirement for a helper function in this case.)\n",
        "\n",
        "#### Show that it is working as desired!\n",
        "+ Run it!\n",
        "+ <b>Confirm</b> that they are correct by checking the \"opposite\" results in another cell..."
      ],
      "metadata": {
        "id": "cUdI5a_vGANw"
      }
    },
    {
      "cell_type": "code",
      "source": [
        "#\n",
        "# Feel free to create your own cells for this challenge...\n",
        "#"
      ],
      "metadata": {
        "id": "KmuI_pJ_KeX0"
      },
      "execution_count": 42,
      "outputs": []
    },
    {
      "cell_type": "code",
      "source": [
        "import requests\n",
        "import json\n",
        "\n",
        "def get_eth_price():\n",
        "    try:\n",
        "        url = 'https://api.coingecko.com/api/v3/simple/price?ids=ethereum&vs_currencies=usd'\n",
        "        response = requests.get(url)\n",
        "        response.raise_for_status()\n",
        "\n",
        "        data = json.loads(response.text)\n",
        "        eth_price = data['ethereum']['usd']\n",
        "        return eth_price\n",
        "    except requests.exceptions.RequestException as e:\n",
        "        print(f\"Error fetching ETH price: {e}\")\n",
        "        return None\n",
        "    except (KeyError, json.JSONDecodeError) as e:\n",
        "        print(f\"Error processing ETH price data: {e}\")\n",
        "        return None\n",
        "\n",
        "def currency_converter():\n",
        "    eth_price = get_eth_price()\n",
        "    if eth_price is not None:\n",
        "        print(f\"1 ether is currently ${eth_price:.2f}\")\n",
        "\n",
        "        dollar_to_eth = 1 / eth_price\n",
        "        print(f\"1 dollar is currently {dollar_to_eth} ether\")\n",
        "\n",
        "        dollar_to_gwei = dollar_to_eth * (10**9)\n",
        "        print(f\"1 dollar is about {dollar_to_gwei:.2f} gwei\")\n",
        "\n",
        "currency_converter()\n"
      ],
      "metadata": {
        "colab": {
          "base_uri": "https://localhost:8080/"
        },
        "id": "-E-HIFnKkLsH",
        "outputId": "1eac0334-ec1c-4f90-83c1-d5dc0e6d4ac9"
      },
      "execution_count": 43,
      "outputs": [
        {
          "output_type": "stream",
          "name": "stdout",
          "text": [
            "1 ether is currently $1601.82\n",
            "1 dollar is currently 0.0006242898702725649 ether\n",
            "1 dollar is about 624289.87 gwei\n"
          ]
        }
      ]
    },
    {
      "cell_type": "markdown",
      "source": [
        "## <b><font color=\"DodgerBlue\">Challenge #2</font></b> &nbsp;&nbsp; <i>Reflect</i> on the AI code success ...\n",
        "\n",
        "<b><font color=\"Coral\">Task</font></b> &nbsp;&nbsp;  In developing the above current-currency-conversion function,\n",
        "+ was the AI able to create the API call you needed?\n",
        "+ did it format the result as you'd hoped?\n",
        "+ were there things you had to add to the output code?\n",
        "+ and - bigger-picture - have you found the Colab AI more helpful as time goes on (or less so?!)\n",
        "\n",
        "<br>\n",
        "<hr>\n",
        "<br>\n",
        "\n",
        "<font size=\"-1\">Things working too smoothly? <br> Tired of typing/generating the same-old prose answers? <br> Liven up your Colab up with some <font color=\"DodgerBlue\">raw html</font>! <br> Copy the following into a _code_ cell:\n",
        "```\n",
        "%%html\n",
        "<marquee style='width: 30%; color: Coral;'><b>It Works!</b></marquee>\n",
        "```\n",
        "</font>"
      ],
      "metadata": {
        "id": "DWrzoJak4-q9"
      }
    },
    {
      "cell_type": "markdown",
      "source": [
        "The AI was able to create the API call I needed and successfully output the result I intended to get. I didn't need to do much editing to the outputted code. The Colab AI is pretty helpful!"
      ],
      "metadata": {
        "id": "4L6LmWobkxHh"
      }
    },
    {
      "cell_type": "code",
      "source": [
        "%%html\n",
        "<marquee style='width: 30%; color: Coral;'><b>It Works!</b></marquee>"
      ],
      "metadata": {
        "id": "XK2J9t6q6Zj8",
        "colab": {
          "base_uri": "https://localhost:8080/",
          "height": 38
        },
        "outputId": "7618d135-ad9d-4c3c-ff02-3688d5f6a0fc"
      },
      "execution_count": 10,
      "outputs": [
        {
          "output_type": "display_data",
          "data": {
            "text/plain": [
              "<IPython.core.display.HTML object>"
            ],
            "text/html": [
              "<marquee style='width: 30%; color: Coral;'><b>It Works!</b></marquee>\n"
            ]
          },
          "metadata": {}
        }
      ]
    },
    {
      "cell_type": "markdown",
      "source": [
        "<font color=\"Coral\"><b>task</b></font>\n",
        "\n",
        "#### Be sure to include at least one cell - of whatever sort - for your AI-success reflection...\n",
        "\n",
        "<font color=\"lightgray\" size=\"-2\">\n",
        "Look below for a \"cookie clicker\" application inside Colab! :)\n",
        "<font>\n",
        "\n",
        "<!-- Cookie Clicker (generalized snack version):  \n",
        "     Copy the code below into a code cell:  \n",
        "\n",
        "\n",
        "%%html\n",
        "<head>\n",
        "  <style>\n",
        "    button {\n",
        "      font-size: 2rem;        /*  1 rem is 16 pixels and 12 point */\n",
        "      padding: 10px 20px;     /*  x padding and y padding         */\n",
        "    }\n",
        "  </style>\n",
        "</head>\n",
        "<body>\n",
        "  <button id=\"snack\" onclick=\"increment()\">0</button>\n",
        "  <script>\n",
        "    let delta = 1;\n",
        "    function increment() {\n",
        "      const btn = document.getElementById('snack');        // our \"snack\" clicker!\n",
        "      let count = parseInt(btn.innerText);                 // get the button number\n",
        "      if (count >= 4.2 || count <= -4.2) { delta *= -1; }  // switch the direction\n",
        "      btn.innerText = count + delta;                       // update with the current delta\n",
        "    }\n",
        "  </script>\n",
        "</body>\n",
        "</html>\n",
        "\n",
        "\n",
        "-->\n",
        "\n"
      ],
      "metadata": {
        "id": "IDpPdTyy6eJv"
      }
    },
    {
      "cell_type": "markdown",
      "source": [
        "## Ok!  Let's connect to \"the\" Ethereum blockchain\n",
        "\n",
        "+ We will be using the <tt>Web3.py</tt> <i>TesterProvider</i>\n",
        "+ This is an Ethereum \"sandbox\" so that we won't have to stake any actual funds\n",
        "+ Plus, the sandbox blockchain will give us <i>lots</i> of ether!  😃"
      ],
      "metadata": {
        "id": "hUo-UOe6LGek"
      }
    },
    {
      "cell_type": "code",
      "source": [
        "#\n",
        "# Here, we create a blockchain-connected Web3 object\n",
        "#       Web3.EthereumTesterProvider() is our sandbox \"provider\"\n",
        "#\n",
        "# You WILL see some ImportWarnings...   (ignore those; they're Colab, not Ethereum or Web3)\n",
        "\n",
        "provider = Web3.EthereumTesterProvider()\n",
        "w3 = Web3(provider)\n",
        "print(\"w3 is\", w3)"
      ],
      "metadata": {
        "id": "PTby-GFYUZEB",
        "colab": {
          "base_uri": "https://localhost:8080/"
        },
        "outputId": "db78a35f-86f6-4833-a0cd-43d36b1e4aed"
      },
      "execution_count": 44,
      "outputs": [
        {
          "output_type": "stream",
          "name": "stdout",
          "text": [
            "w3 is <web3.main.Web3 object at 0x7f380f2c8a50>\n"
          ]
        },
        {
          "output_type": "stream",
          "name": "stderr",
          "text": [
            "<frozen importlib._bootstrap>:1047: ImportWarning: _PyDriveImportHook.find_spec() not found; falling back to find_module()\n",
            "<frozen importlib._bootstrap>:1047: ImportWarning: _BokehImportHook.find_spec() not found; falling back to find_module()\n"
          ]
        }
      ]
    },
    {
      "cell_type": "markdown",
      "source": [
        "#### Are we connected?"
      ],
      "metadata": {
        "id": "W7Ho-gs57UDY"
      }
    },
    {
      "cell_type": "code",
      "source": [
        "w3.is_connected()"
      ],
      "metadata": {
        "id": "p2uXil-AUnev",
        "colab": {
          "base_uri": "https://localhost:8080/"
        },
        "outputId": "791cf7a1-2959-4432-e6e1-978395cf6c21"
      },
      "execution_count": 45,
      "outputs": [
        {
          "output_type": "execute_result",
          "data": {
            "text/plain": [
              "True"
            ]
          },
          "metadata": {},
          "execution_count": 45
        }
      ]
    },
    {
      "cell_type": "code",
      "source": [
        "# Try using the completion panel and <tab> to find w3.eth.accounts ...\n",
        "\n",
        "w3"
      ],
      "metadata": {
        "id": "NxDHejh88U1d",
        "colab": {
          "base_uri": "https://localhost:8080/"
        },
        "outputId": "6931e74b-16be-468c-bd27-07e4482acfb1"
      },
      "execution_count": 46,
      "outputs": [
        {
          "output_type": "execute_result",
          "data": {
            "text/plain": [
              "<web3.main.Web3 at 0x7f380f2c8a50>"
            ]
          },
          "metadata": {},
          "execution_count": 46
        }
      ]
    },
    {
      "cell_type": "code",
      "source": [
        "# These are the public addresses of the accounts we have\n",
        "\n",
        "w3.eth.accounts"
      ],
      "metadata": {
        "id": "aeim-tGFUwNc",
        "colab": {
          "base_uri": "https://localhost:8080/"
        },
        "outputId": "f1683c55-e20e-4047-f0c1-d6a369c71cbd"
      },
      "execution_count": 47,
      "outputs": [
        {
          "output_type": "execute_result",
          "data": {
            "text/plain": [
              "['0x7E5F4552091A69125d5DfCb7b8C2659029395Bdf',\n",
              " '0x2B5AD5c4795c026514f8317c7a215E218DcCD6cF',\n",
              " '0x6813Eb9362372EEF6200f3b1dbC3f819671cBA69',\n",
              " '0x1efF47bc3a10a45D4B230B5d10E37751FE6AA718',\n",
              " '0xe1AB8145F7E55DC933d51a18c793F901A3A0b276',\n",
              " '0xE57bFE9F44b819898F47BF37E5AF72a0783e1141',\n",
              " '0xd41c057fd1c78805AAC12B0A94a405c0461A6FBb',\n",
              " '0xF1F6619B38A98d6De0800F1DefC0a6399eB6d30C',\n",
              " '0xF7Edc8FA1eCc32967F827C9043FcAe6ba73afA5c',\n",
              " '0x4CCeBa2d7D2B4fdcE4304d3e09a1fea9fbEb1528']"
            ]
          },
          "metadata": {},
          "execution_count": 47
        }
      ]
    },
    {
      "cell_type": "code",
      "source": [
        "# how many accounts do we have?\n",
        "len(w3.eth.accounts)"
      ],
      "metadata": {
        "id": "zRNUyWwiUqP-",
        "colab": {
          "base_uri": "https://localhost:8080/"
        },
        "outputId": "ee6d5e98-72ae-4924-ff8f-cc2d9a1ee4ff"
      },
      "execution_count": 48,
      "outputs": [
        {
          "output_type": "execute_result",
          "data": {
            "text/plain": [
              "10"
            ]
          },
          "metadata": {},
          "execution_count": 48
        }
      ]
    },
    {
      "cell_type": "markdown",
      "source": [
        "#### Nice!\n",
        "\n",
        "Let's see how much is in one of the accounts, say the one at index 3:"
      ],
      "metadata": {
        "id": "0-aFvrjP7ara"
      }
    },
    {
      "cell_type": "code",
      "source": [
        "current_account = w3.eth.accounts[3]  # let's use #3\n",
        "\n",
        "balance_in_wei = w3.eth.get_balance(current_account)\n",
        "\n",
        "print(f\"There are {balance_in_wei} wei in account #3.\")"
      ],
      "metadata": {
        "id": "WsklEYSi7n9f",
        "colab": {
          "base_uri": "https://localhost:8080/"
        },
        "outputId": "a218f372-04d9-4725-eb41-f1e5da9fe29a"
      },
      "execution_count": 49,
      "outputs": [
        {
          "output_type": "stream",
          "name": "stdout",
          "text": [
            "There are 1000000000000000000000000 wei in account #3.\n"
          ]
        }
      ]
    },
    {
      "cell_type": "markdown",
      "source": [
        "Let's see how big this is as a power of 10. &nbsp;&nbsp; (in floating point)"
      ],
      "metadata": {
        "id": "xTdgz7657Mha"
      }
    },
    {
      "cell_type": "code",
      "source": [
        "#\n",
        "# Let's see it in floating point...\n",
        "\n",
        "w = float(balance_in_wei)\n",
        "\n",
        "print(f\"There are a total of {w = } wei (in floating point), with 10**18 wei per ETH\")"
      ],
      "metadata": {
        "collapsed": true,
        "id": "9UH0Basd7IUc",
        "colab": {
          "base_uri": "https://localhost:8080/"
        },
        "outputId": "6ac7ade8-c884-4f25-aef6-09b76d35390a"
      },
      "execution_count": 50,
      "outputs": [
        {
          "output_type": "stream",
          "name": "stdout",
          "text": [
            "There are a total of w = 1e+24 wei (in floating point), with 10**18 wei per ETH\n"
          ]
        }
      ]
    },
    {
      "cell_type": "markdown",
      "source": [
        "## <b><font color=\"DodgerBlue\">Challenge #3</font></b> &nbsp;&nbsp; Count your gold! &nbsp; (or ether...)\n",
        "\n",
        "<b><font color=\"Coral\">Task</font></b> &nbsp;&nbsp;  Use your code from earlier in this notebook -- and any AI help you might want -- to create a new function (you choose the name) that\n",
        "+ finds the amount of Ether in ***all*** of your accounts\n",
        "+ adds it all up\n",
        "+ converts it to dollars\n",
        "+ prints out the total dollars you have ...\n",
        "+ and <tt>returns</tt> that value back from the function\n",
        "\n",
        "<br><br>"
      ],
      "metadata": {
        "id": "IRG355VY9DII"
      }
    },
    {
      "cell_type": "code",
      "source": [
        "#\n",
        "#  a small example of how to print all account balances\n",
        "#          feel free to adapt or remove\n",
        "\n",
        "#  this doesn't quite address the above challenge, but it's a start!\n",
        "\n",
        "index = 0\n",
        "for account in w3.eth.accounts:\n",
        "    balance_in_wei = w3.eth.get_balance(account)\n",
        "    balance_in_ETH = Web3.from_wei(balance_in_wei, 'ether')\n",
        "    print(f\"Account #{index}  amount: {balance_in_ETH}\")\n",
        "    index += 1"
      ],
      "metadata": {
        "id": "7O-V-3i5U1u1",
        "colab": {
          "base_uri": "https://localhost:8080/"
        },
        "outputId": "c77639d6-7bd1-42c5-e1cb-5078d4064fd7"
      },
      "execution_count": 51,
      "outputs": [
        {
          "output_type": "stream",
          "name": "stdout",
          "text": [
            "Account #0  amount: 1000000\n",
            "Account #1  amount: 1000000\n",
            "Account #2  amount: 1000000\n",
            "Account #3  amount: 1000000\n",
            "Account #4  amount: 1000000\n",
            "Account #5  amount: 1000000\n",
            "Account #6  amount: 1000000\n",
            "Account #7  amount: 1000000\n",
            "Account #8  amount: 1000000\n",
            "Account #9  amount: 1000000\n"
          ]
        }
      ]
    },
    {
      "cell_type": "code",
      "source": [
        "from decimal import Decimal\n",
        "\n",
        "def calculate_total_eth_in_dollars(w3, eth_to_usd_rate):\n",
        "    total_eth = Decimal('0')\n",
        "    for account in w3.eth.accounts:\n",
        "        balance_in_wei = w3.eth.get_balance(account)\n",
        "        balance_in_eth = Web3.from_wei(balance_in_wei, 'ether')\n",
        "        total_eth += balance_in_eth\n",
        "\n",
        "    eth_to_usd_rate = Decimal(str(eth_to_usd_rate))\n",
        "    total_dollars = total_eth * eth_to_usd_rate\n",
        "\n",
        "    print(f\"Total across all accounts: ${total_dollars:,.2f} USD\")\n",
        "    return total_dollars\n",
        "\n",
        "current_eth_price = get_eth_price()\n",
        "total_usd = calculate_total_eth_in_dollars(w3, current_eth_price)"
      ],
      "metadata": {
        "id": "9-hzO2-wLgKy",
        "colab": {
          "base_uri": "https://localhost:8080/"
        },
        "outputId": "b2b1f909-39f2-41c2-ebc6-70baa1ee7b01"
      },
      "execution_count": 52,
      "outputs": [
        {
          "output_type": "stream",
          "name": "stdout",
          "text": [
            "Total across all accounts: $16,018,200,000.00 USD\n"
          ]
        }
      ]
    },
    {
      "cell_type": "markdown",
      "source": [
        "## Let's transact!\n",
        "\n",
        "First, let's see the latest block in our blockchain...\n",
        "\n",
        "Then, let's create a single transaction and track its effects...\n",
        "\n",
        "Then, we'll run a whole marketplace's-worth of transactions!"
      ],
      "metadata": {
        "id": "UGDA4suz-FiZ"
      }
    },
    {
      "cell_type": "code",
      "source": [
        "# sometimes this helps...\n",
        "import warnings\n",
        "warnings.filterwarnings(\"ignore\", category=DeprecationWarning)"
      ],
      "metadata": {
        "id": "EqGzQsKE_cqw"
      },
      "execution_count": 53,
      "outputs": []
    },
    {
      "cell_type": "code",
      "source": [
        "#\n",
        "# Let's see the latest block in our blockchain:\n",
        "\n",
        "b = w3.eth.get_block('latest')   # this will be the \"genesis\" block\n",
        "b\n",
        "\n",
        "# Notice the number!"
      ],
      "metadata": {
        "id": "yHjX4x4BWe7Y",
        "colab": {
          "base_uri": "https://localhost:8080/"
        },
        "outputId": "71debae9-c745-42b5-cce4-f724e87a87c2"
      },
      "execution_count": 54,
      "outputs": [
        {
          "output_type": "execute_result",
          "data": {
            "text/plain": [
              "AttributeDict({'number': 0,\n",
              " 'hash': HexBytes('0xf630ebefcaab99fb6f78047b36d1436e738b1203b85f431de2d301f716b8275c'),\n",
              " 'parentHash': HexBytes('0x0000000000000000000000000000000000000000000000000000000000000000'),\n",
              " 'nonce': HexBytes('0x0000000000000000'),\n",
              " 'sha3Uncles': HexBytes('0x1dcc4de8dec75d7aab85b567b6ccd41ad312451b948a7413f0a142fd40d49347'),\n",
              " 'logsBloom': HexBytes('0x00'),\n",
              " 'transactionsRoot': HexBytes('0x56e81f171bcc55a6ff8345e692c0f86e5b48e01b996cadc001622fb5e363b421'),\n",
              " 'receiptsRoot': HexBytes('0x56e81f171bcc55a6ff8345e692c0f86e5b48e01b996cadc001622fb5e363b421'),\n",
              " 'stateRoot': HexBytes('0xf1588db9a9f1ed91effabdec31f93cb4212b008c8b8ba047fd55fabebf6fd727'),\n",
              " 'miner': '0x0000000000000000000000000000000000000000',\n",
              " 'difficulty': 0,\n",
              " 'totalDifficulty': 0,\n",
              " 'mixHash': HexBytes('0x0000000000000000000000000000000000000000000000000000000000000000'),\n",
              " 'size': 583,\n",
              " 'extraData': HexBytes('0x0000000000000000000000000000000000000000000000000000000000000000'),\n",
              " 'gasLimit': 30029122,\n",
              " 'gasUsed': 0,\n",
              " 'timestamp': 1745048445,\n",
              " 'transactions': [],\n",
              " 'uncles': [],\n",
              " 'baseFeePerGas': 1000000000,\n",
              " 'withdrawals': [],\n",
              " 'withdrawalsRoot': HexBytes('0x56e81f171bcc55a6ff8345e692c0f86e5b48e01b996cadc001622fb5e363b421'),\n",
              " 'parentBeaconBlockRoot': HexBytes('0x56e81f171bcc55a6ff8345e692c0f86e5b48e01b996cadc001622fb5e363b421'),\n",
              " 'blobGasUsed': 0,\n",
              " 'excessBlobGas': 0})"
            ]
          },
          "metadata": {},
          "execution_count": 54
        }
      ]
    },
    {
      "cell_type": "code",
      "source": [
        "# Let's check the block's number, specifically\n",
        "# Note that b is a dictionary:\n",
        "\n",
        "print(\"Block b's number is \", b['number'])"
      ],
      "metadata": {
        "id": "ENYx5Ot8B9Ai",
        "colab": {
          "base_uri": "https://localhost:8080/"
        },
        "outputId": "9ace5967-988d-48fb-fad1-dfac467d3ec9"
      },
      "execution_count": 55,
      "outputs": [
        {
          "output_type": "stream",
          "name": "stdout",
          "text": [
            "Block b's number is  0\n"
          ]
        }
      ]
    },
    {
      "cell_type": "markdown",
      "source": [
        "#### Now, let's try our single, one-time transaction\n",
        "\n",
        "<i>Warning</i>: &nbsp;&nbsp; If you run this more than once, it will transact more than once!\n",
        "\n",
        "<font size=\"-1\">This is not really a warning, actually. Try it! 😀</font>"
      ],
      "metadata": {
        "id": "2WqbpeKgAh6u"
      }
    },
    {
      "cell_type": "code",
      "source": [
        "# sometimes this helps with the warnings we don't want:\n",
        "warnings.filterwarnings(\"ignore\", category=ImportWarning)"
      ],
      "metadata": {
        "id": "e-E1vuZSBL0u"
      },
      "execution_count": 56,
      "outputs": []
    },
    {
      "cell_type": "code",
      "source": [
        "#\n",
        "# Let's create a single transaction:\n",
        "#       Notice that the transaction is a dictionary\n",
        "#       It's created, sent to the chain, and a hash is returned:\n",
        "\n",
        "transaction = {                          # the transaction is a dictionary!\n",
        "    'from': w3.eth.accounts[3],          # from acct 3\n",
        "    'to': w3.eth.accounts[8],            # to acct 8\n",
        "    'value': w3.to_wei(42000, 'ether')   # amount is 42,000 ether!\n",
        "}\n",
        "\n",
        "# now, we send the transaction to the blockchain:\n",
        "tx_hash = w3.eth.send_transaction(transaction)\n",
        "\n",
        "# let's look at its resulting hash\n",
        "print(\"Done!\\n\")\n",
        "print(f\"The transaction hash is ... {tx_hash = }\")"
      ],
      "metadata": {
        "id": "eCEm296LWtB_",
        "colab": {
          "base_uri": "https://localhost:8080/"
        },
        "outputId": "74347d80-33f3-4da9-9b1a-16596de0962e"
      },
      "execution_count": 57,
      "outputs": [
        {
          "output_type": "stream",
          "name": "stdout",
          "text": [
            "Done!\n",
            "\n",
            "The transaction hash is ... tx_hash = HexBytes('0x3d3c9ef273414609a1329c3dad2f57bb27f8c5e1cbe143619f29f0137fcea687')\n"
          ]
        }
      ]
    },
    {
      "cell_type": "code",
      "source": [
        "#\n",
        "# getting the transaction is possible through that transaction hash\n",
        "\n",
        "# It will return a dictionary of values:\n",
        "d = w3.eth.get_transaction(tx_hash)\n",
        "d"
      ],
      "metadata": {
        "id": "x_UIR_yBiJXf",
        "colab": {
          "base_uri": "https://localhost:8080/"
        },
        "outputId": "ae11f01c-5718-4a94-e2f3-d5812180ed81"
      },
      "execution_count": 58,
      "outputs": [
        {
          "output_type": "execute_result",
          "data": {
            "text/plain": [
              "AttributeDict({'type': 2,\n",
              " 'hash': HexBytes('0x3d3c9ef273414609a1329c3dad2f57bb27f8c5e1cbe143619f29f0137fcea687'),\n",
              " 'nonce': 0,\n",
              " 'blockHash': HexBytes('0xade4ecce54229751cc6ad49b0b8b2c9b687c4b890404d7ccd3d8f8528b927c26'),\n",
              " 'blockNumber': 1,\n",
              " 'transactionIndex': 0,\n",
              " 'from': '0x1efF47bc3a10a45D4B230B5d10E37751FE6AA718',\n",
              " 'to': '0xF7Edc8FA1eCc32967F827C9043FcAe6ba73afA5c',\n",
              " 'value': 42000000000000000000000,\n",
              " 'gas': 121000,\n",
              " 'input': HexBytes('0x'),\n",
              " 'chainId': 131277322940537,\n",
              " 'accessList': [],\n",
              " 'maxFeePerGas': 1000000000,\n",
              " 'maxPriorityFeePerGas': 1000000000,\n",
              " 'gasPrice': 1000000000,\n",
              " 'v': 0,\n",
              " 's': HexBytes('0x51b5d184d4bc6d12ed1d6806cf58287693fe1193d34aa652fe04d74bb0dd2ac9'),\n",
              " 'r': HexBytes('0xd43cc3b3a8d371fdc9532d1add9e1cc620ee8a50f0a87c25d54c9cf1560e7cc7'),\n",
              " 'y_parity': 0})"
            ]
          },
          "metadata": {},
          "execution_count": 58
        }
      ]
    },
    {
      "cell_type": "code",
      "source": [
        "#\n",
        "# let's get the block number from within those transaction details...\n",
        "\n",
        "block_number = d['blockNumber']\n",
        "print(f\"{block_number = }\")"
      ],
      "metadata": {
        "id": "3g6JVO7FDLrH",
        "colab": {
          "base_uri": "https://localhost:8080/"
        },
        "outputId": "ecb91888-f181-45b4-d855-b787c1253bb2"
      },
      "execution_count": 60,
      "outputs": [
        {
          "output_type": "stream",
          "name": "stdout",
          "text": [
            "block_number = 1\n"
          ]
        }
      ]
    },
    {
      "cell_type": "code",
      "source": [
        "#\n",
        "# Then, let's get that block, from the blocknumber!\n",
        "\n",
        "b = w3.eth.get_block(block_number)\n",
        "b"
      ],
      "metadata": {
        "id": "qS_WFmuEi6_a",
        "colab": {
          "base_uri": "https://localhost:8080/"
        },
        "outputId": "0593ea55-5049-4f0c-d016-e6251e14370d"
      },
      "execution_count": 61,
      "outputs": [
        {
          "output_type": "execute_result",
          "data": {
            "text/plain": [
              "AttributeDict({'number': 1,\n",
              " 'hash': HexBytes('0xade4ecce54229751cc6ad49b0b8b2c9b687c4b890404d7ccd3d8f8528b927c26'),\n",
              " 'parentHash': HexBytes('0xf630ebefcaab99fb6f78047b36d1436e738b1203b85f431de2d301f716b8275c'),\n",
              " 'nonce': HexBytes('0x0000000000000000'),\n",
              " 'sha3Uncles': HexBytes('0x1dcc4de8dec75d7aab85b567b6ccd41ad312451b948a7413f0a142fd40d49347'),\n",
              " 'logsBloom': HexBytes('0x00'),\n",
              " 'transactionsRoot': HexBytes('0x17d3e8d6d3c1eb2134fc842f7c17fef4d1331a2c77f66424dd2fe088939e3ca1'),\n",
              " 'receiptsRoot': HexBytes('0xf78dfb743fbd92ade140711c8bbc542b5e307f0ab7984eff35d751969fe57efa'),\n",
              " 'stateRoot': HexBytes('0xa4c270ad3b9e8e8a02a39e034b5e6e0fee6b2f496de6ca6a15d3e1678759f47a'),\n",
              " 'miner': '0x0000000000000000000000000000000000000000',\n",
              " 'difficulty': 0,\n",
              " 'totalDifficulty': 0,\n",
              " 'mixHash': HexBytes('0x8982a428b2059262b5800b57c3406fc9acf3826ade7a1b5f045acc3641cff847'),\n",
              " 'size': 714,\n",
              " 'extraData': HexBytes('0x0000000000000000000000000000000000000000000000000000000000000000'),\n",
              " 'gasLimit': 30029122,\n",
              " 'gasUsed': 21000,\n",
              " 'timestamp': 1745048446,\n",
              " 'transactions': [HexBytes('0x3d3c9ef273414609a1329c3dad2f57bb27f8c5e1cbe143619f29f0137fcea687')],\n",
              " 'uncles': [],\n",
              " 'baseFeePerGas': 875000000,\n",
              " 'withdrawals': [],\n",
              " 'withdrawalsRoot': HexBytes('0x56e81f171bcc55a6ff8345e692c0f86e5b48e01b996cadc001622fb5e363b421'),\n",
              " 'parentBeaconBlockRoot': HexBytes('0x56e81f171bcc55a6ff8345e692c0f86e5b48e01b996cadc001622fb5e363b421'),\n",
              " 'blobGasUsed': 0,\n",
              " 'excessBlobGas': 0})"
            ]
          },
          "metadata": {},
          "execution_count": 61
        }
      ]
    },
    {
      "cell_type": "code",
      "source": [
        "#\n",
        "# Which should be the same as getting the latest block:\n",
        "\n",
        "b = w3.eth.get_block('latest')\n",
        "b"
      ],
      "metadata": {
        "id": "xavr9-xrMyTB",
        "colab": {
          "base_uri": "https://localhost:8080/"
        },
        "outputId": "a5a4cbaf-db38-457a-801a-9395fc998e58"
      },
      "execution_count": 62,
      "outputs": [
        {
          "output_type": "execute_result",
          "data": {
            "text/plain": [
              "AttributeDict({'number': 1,\n",
              " 'hash': HexBytes('0xade4ecce54229751cc6ad49b0b8b2c9b687c4b890404d7ccd3d8f8528b927c26'),\n",
              " 'parentHash': HexBytes('0xf630ebefcaab99fb6f78047b36d1436e738b1203b85f431de2d301f716b8275c'),\n",
              " 'nonce': HexBytes('0x0000000000000000'),\n",
              " 'sha3Uncles': HexBytes('0x1dcc4de8dec75d7aab85b567b6ccd41ad312451b948a7413f0a142fd40d49347'),\n",
              " 'logsBloom': HexBytes('0x00'),\n",
              " 'transactionsRoot': HexBytes('0x17d3e8d6d3c1eb2134fc842f7c17fef4d1331a2c77f66424dd2fe088939e3ca1'),\n",
              " 'receiptsRoot': HexBytes('0xf78dfb743fbd92ade140711c8bbc542b5e307f0ab7984eff35d751969fe57efa'),\n",
              " 'stateRoot': HexBytes('0xa4c270ad3b9e8e8a02a39e034b5e6e0fee6b2f496de6ca6a15d3e1678759f47a'),\n",
              " 'miner': '0x0000000000000000000000000000000000000000',\n",
              " 'difficulty': 0,\n",
              " 'totalDifficulty': 0,\n",
              " 'mixHash': HexBytes('0x8982a428b2059262b5800b57c3406fc9acf3826ade7a1b5f045acc3641cff847'),\n",
              " 'size': 714,\n",
              " 'extraData': HexBytes('0x0000000000000000000000000000000000000000000000000000000000000000'),\n",
              " 'gasLimit': 30029122,\n",
              " 'gasUsed': 21000,\n",
              " 'timestamp': 1745048446,\n",
              " 'transactions': [HexBytes('0x3d3c9ef273414609a1329c3dad2f57bb27f8c5e1cbe143619f29f0137fcea687')],\n",
              " 'uncles': [],\n",
              " 'baseFeePerGas': 875000000,\n",
              " 'withdrawals': [],\n",
              " 'withdrawalsRoot': HexBytes('0x56e81f171bcc55a6ff8345e692c0f86e5b48e01b996cadc001622fb5e363b421'),\n",
              " 'parentBeaconBlockRoot': HexBytes('0x56e81f171bcc55a6ff8345e692c0f86e5b48e01b996cadc001622fb5e363b421'),\n",
              " 'blobGasUsed': 0,\n",
              " 'excessBlobGas': 0})"
            ]
          },
          "metadata": {},
          "execution_count": 62
        }
      ]
    },
    {
      "cell_type": "markdown",
      "source": [
        "### Let's see the <font color=\"DodgerBlue\"><b>current amount</b></font> in each of the accounts:"
      ],
      "metadata": {
        "id": "QATiTFfdCqWv"
      }
    },
    {
      "cell_type": "code",
      "source": [
        "#\n",
        "#  a small example of how to print all account balances\n",
        "#                  feel free to adapt or remove!\n",
        "\n",
        "index = 0\n",
        "for account in w3.eth.accounts:\n",
        "    balance_in_wei = w3.eth.get_balance(account)\n",
        "    balance_in_ETH = Web3.from_wei(balance_in_wei, 'ether')\n",
        "    print(f\"Account #{index}  amount: {balance_in_ETH} ether\")\n",
        "    index += 1\n",
        "\n",
        "\n",
        "# create total, function, return, ..."
      ],
      "metadata": {
        "id": "IFYC5jJgCmBk",
        "colab": {
          "base_uri": "https://localhost:8080/"
        },
        "outputId": "8494bfbf-8661-4d54-c235-d31a2992c758"
      },
      "execution_count": 63,
      "outputs": [
        {
          "output_type": "stream",
          "name": "stdout",
          "text": [
            "Account #0  amount: 1000000 ether\n",
            "Account #1  amount: 1000000 ether\n",
            "Account #2  amount: 1000000 ether\n",
            "Account #3  amount: 957999.999979 ether\n",
            "Account #4  amount: 1000000 ether\n",
            "Account #5  amount: 1000000 ether\n",
            "Account #6  amount: 1000000 ether\n",
            "Account #7  amount: 1000000 ether\n",
            "Account #8  amount: 1042000 ether\n",
            "Account #9  amount: 1000000 ether\n"
          ]
        }
      ]
    },
    {
      "cell_type": "markdown",
      "source": [
        "### What if we don't have enough currency for the requested transaction?\n",
        "\n",
        "If a transaction is requested for too-large an amount, the request fails and it is rolled back.\n",
        "\n",
        "Let's try it:"
      ],
      "metadata": {
        "id": "dm3Hhki6M_Eg"
      }
    },
    {
      "cell_type": "code",
      "source": [
        "#\n",
        "# Let's create a single transaction for TOO MUCH ether\n",
        "#       Notice that the transaction is a dictionary\n",
        "#       It's created, sent to the chain, and a hash is returned:\n",
        "\n",
        "transaction = {                          # the transaction is a dictionary!\n",
        "    'from': w3.eth.accounts[3],          # from acct 3\n",
        "    'to': w3.eth.accounts[8],            # to acct 8\n",
        "    'value': w3.to_wei(42_000_000, 'ether')   # amount is 42 _million_ ether!\n",
        "}\n",
        "\n",
        "# now, we send the transaction to the blockchain:\n",
        "tx_hash = w3.eth.send_transaction(transaction)\n",
        "\n",
        "# let's look at its resulting hash\n",
        "print(\"Done!\\n\")\n",
        "tx_hash"
      ],
      "metadata": {
        "id": "_otwuYijNO_G",
        "colab": {
          "base_uri": "https://localhost:8080/",
          "height": 356
        },
        "outputId": "d84ad1ce-aea5-4028-e497-4a14d9c6d171"
      },
      "execution_count": 64,
      "outputs": [
        {
          "output_type": "error",
          "ename": "ValidationError",
          "evalue": "Sender does not have enough balance to cover transaction value and gas  (has 957999999979000000000000, needs 42000000000021000000000000)",
          "traceback": [
            "\u001b[0;31m---------------------------------------------------------------------------\u001b[0m",
            "\u001b[0;31mValidationError\u001b[0m                           Traceback (most recent call last)",
            "\u001b[0;32m<ipython-input-64-f6f91bf269fe>\u001b[0m in \u001b[0;36m<cell line: 0>\u001b[0;34m()\u001b[0m\n\u001b[1;32m     11\u001b[0m \u001b[0;34m\u001b[0m\u001b[0m\n\u001b[1;32m     12\u001b[0m \u001b[0;31m# now, we send the transaction to the blockchain:\u001b[0m\u001b[0;34m\u001b[0m\u001b[0;34m\u001b[0m\u001b[0m\n\u001b[0;32m---> 13\u001b[0;31m \u001b[0mtx_hash\u001b[0m \u001b[0;34m=\u001b[0m \u001b[0mw3\u001b[0m\u001b[0;34m.\u001b[0m\u001b[0meth\u001b[0m\u001b[0;34m.\u001b[0m\u001b[0msend_transaction\u001b[0m\u001b[0;34m(\u001b[0m\u001b[0mtransaction\u001b[0m\u001b[0;34m)\u001b[0m\u001b[0;34m\u001b[0m\u001b[0;34m\u001b[0m\u001b[0m\n\u001b[0m\u001b[1;32m     14\u001b[0m \u001b[0;34m\u001b[0m\u001b[0m\n\u001b[1;32m     15\u001b[0m \u001b[0;31m# let's look at its resulting hash\u001b[0m\u001b[0;34m\u001b[0m\u001b[0;34m\u001b[0m\u001b[0m\n",
            "\u001b[0;32m/usr/local/lib/python3.11/dist-packages/web3/eth/eth.py\u001b[0m in \u001b[0;36msend_transaction\u001b[0;34m(self, transaction)\u001b[0m\n\u001b[1;32m    384\u001b[0m \u001b[0;34m\u001b[0m\u001b[0m\n\u001b[1;32m    385\u001b[0m     \u001b[0;32mdef\u001b[0m \u001b[0msend_transaction\u001b[0m\u001b[0;34m(\u001b[0m\u001b[0mself\u001b[0m\u001b[0;34m,\u001b[0m \u001b[0mtransaction\u001b[0m\u001b[0;34m:\u001b[0m \u001b[0mTxParams\u001b[0m\u001b[0;34m)\u001b[0m \u001b[0;34m->\u001b[0m \u001b[0mHexBytes\u001b[0m\u001b[0;34m:\u001b[0m\u001b[0;34m\u001b[0m\u001b[0;34m\u001b[0m\u001b[0m\n\u001b[0;32m--> 386\u001b[0;31m         \u001b[0;32mreturn\u001b[0m \u001b[0mself\u001b[0m\u001b[0;34m.\u001b[0m\u001b[0m_send_transaction\u001b[0m\u001b[0;34m(\u001b[0m\u001b[0mtransaction\u001b[0m\u001b[0;34m)\u001b[0m\u001b[0;34m\u001b[0m\u001b[0;34m\u001b[0m\u001b[0m\n\u001b[0m\u001b[1;32m    387\u001b[0m \u001b[0;34m\u001b[0m\u001b[0m\n\u001b[1;32m    388\u001b[0m     \u001b[0;31m# eth_sendRawTransaction\u001b[0m\u001b[0;34m\u001b[0m\u001b[0;34m\u001b[0m\u001b[0m\n",
            "\u001b[0;32m/usr/local/lib/python3.11/dist-packages/web3/module.py\u001b[0m in \u001b[0;36mcaller\u001b[0;34m(*args, **kwargs)\u001b[0m\n\u001b[1;32m    110\u001b[0m             \u001b[0mnull_result_formatters\u001b[0m\u001b[0;34m,\u001b[0m\u001b[0;34m\u001b[0m\u001b[0;34m\u001b[0m\u001b[0m\n\u001b[1;32m    111\u001b[0m         ) = response_formatters\n\u001b[0;32m--> 112\u001b[0;31m         result = w3.manager.request_blocking(\n\u001b[0m\u001b[1;32m    113\u001b[0m             \u001b[0mmethod_str\u001b[0m\u001b[0;34m,\u001b[0m \u001b[0mparams\u001b[0m\u001b[0;34m,\u001b[0m \u001b[0merror_formatters\u001b[0m\u001b[0;34m,\u001b[0m \u001b[0mnull_result_formatters\u001b[0m\u001b[0;34m\u001b[0m\u001b[0;34m\u001b[0m\u001b[0m\n\u001b[1;32m    114\u001b[0m         )\n",
            "\u001b[0;32m/usr/local/lib/python3.11/dist-packages/web3/manager.py\u001b[0m in \u001b[0;36mrequest_blocking\u001b[0;34m(self, method, params, error_formatters, null_result_formatters)\u001b[0m\n\u001b[1;32m    229\u001b[0m         \u001b[0mMake\u001b[0m \u001b[0ma\u001b[0m \u001b[0msynchronous\u001b[0m \u001b[0mrequest\u001b[0m \u001b[0musing\u001b[0m \u001b[0mthe\u001b[0m \u001b[0mprovider\u001b[0m\u001b[0;34m\u001b[0m\u001b[0;34m\u001b[0m\u001b[0m\n\u001b[1;32m    230\u001b[0m         \"\"\"\n\u001b[0;32m--> 231\u001b[0;31m         \u001b[0mresponse\u001b[0m \u001b[0;34m=\u001b[0m \u001b[0mself\u001b[0m\u001b[0;34m.\u001b[0m\u001b[0m_make_request\u001b[0m\u001b[0;34m(\u001b[0m\u001b[0mmethod\u001b[0m\u001b[0;34m,\u001b[0m \u001b[0mparams\u001b[0m\u001b[0;34m)\u001b[0m\u001b[0;34m\u001b[0m\u001b[0;34m\u001b[0m\u001b[0m\n\u001b[0m\u001b[1;32m    232\u001b[0m         return self.formatted_response(\n\u001b[1;32m    233\u001b[0m             \u001b[0mresponse\u001b[0m\u001b[0;34m,\u001b[0m \u001b[0mparams\u001b[0m\u001b[0;34m,\u001b[0m \u001b[0merror_formatters\u001b[0m\u001b[0;34m,\u001b[0m \u001b[0mnull_result_formatters\u001b[0m\u001b[0;34m\u001b[0m\u001b[0;34m\u001b[0m\u001b[0m\n",
            "\u001b[0;32m/usr/local/lib/python3.11/dist-packages/web3/manager.py\u001b[0m in \u001b[0;36m_make_request\u001b[0;34m(self, method, params)\u001b[0m\n\u001b[1;32m    161\u001b[0m         )\n\u001b[1;32m    162\u001b[0m         \u001b[0mself\u001b[0m\u001b[0;34m.\u001b[0m\u001b[0mlogger\u001b[0m\u001b[0;34m.\u001b[0m\u001b[0mdebug\u001b[0m\u001b[0;34m(\u001b[0m\u001b[0;34mf\"Making request. Method: {method}\"\u001b[0m\u001b[0;34m)\u001b[0m\u001b[0;34m\u001b[0m\u001b[0;34m\u001b[0m\u001b[0m\n\u001b[0;32m--> 163\u001b[0;31m         \u001b[0;32mreturn\u001b[0m \u001b[0mrequest_func\u001b[0m\u001b[0;34m(\u001b[0m\u001b[0mmethod\u001b[0m\u001b[0;34m,\u001b[0m \u001b[0mparams\u001b[0m\u001b[0;34m)\u001b[0m\u001b[0;34m\u001b[0m\u001b[0;34m\u001b[0m\u001b[0m\n\u001b[0m\u001b[1;32m    164\u001b[0m \u001b[0;34m\u001b[0m\u001b[0m\n\u001b[1;32m    165\u001b[0m     async def _coro_make_request(\n",
            "\u001b[0;32m/usr/local/lib/python3.11/dist-packages/web3/middleware/base.py\u001b[0m in \u001b[0;36mmiddleware\u001b[0;34m(method, params)\u001b[0m\n\u001b[1;32m     54\u001b[0m         \u001b[0;32mdef\u001b[0m \u001b[0mmiddleware\u001b[0m\u001b[0;34m(\u001b[0m\u001b[0mmethod\u001b[0m\u001b[0;34m:\u001b[0m \u001b[0;34m\"RPCEndpoint\"\u001b[0m\u001b[0;34m,\u001b[0m \u001b[0mparams\u001b[0m\u001b[0;34m:\u001b[0m \u001b[0mAny\u001b[0m\u001b[0;34m)\u001b[0m \u001b[0;34m->\u001b[0m \u001b[0;34m\"RPCResponse\"\u001b[0m\u001b[0;34m:\u001b[0m\u001b[0;34m\u001b[0m\u001b[0;34m\u001b[0m\u001b[0m\n\u001b[1;32m     55\u001b[0m             \u001b[0mmethod\u001b[0m\u001b[0;34m,\u001b[0m \u001b[0mparams\u001b[0m \u001b[0;34m=\u001b[0m \u001b[0mself\u001b[0m\u001b[0;34m.\u001b[0m\u001b[0mrequest_processor\u001b[0m\u001b[0;34m(\u001b[0m\u001b[0mmethod\u001b[0m\u001b[0;34m,\u001b[0m \u001b[0mparams\u001b[0m\u001b[0;34m)\u001b[0m\u001b[0;34m\u001b[0m\u001b[0;34m\u001b[0m\u001b[0m\n\u001b[0;32m---> 56\u001b[0;31m             \u001b[0;32mreturn\u001b[0m \u001b[0mself\u001b[0m\u001b[0;34m.\u001b[0m\u001b[0mresponse_processor\u001b[0m\u001b[0;34m(\u001b[0m\u001b[0mmethod\u001b[0m\u001b[0;34m,\u001b[0m \u001b[0mmake_request\u001b[0m\u001b[0;34m(\u001b[0m\u001b[0mmethod\u001b[0m\u001b[0;34m,\u001b[0m \u001b[0mparams\u001b[0m\u001b[0;34m)\u001b[0m\u001b[0;34m)\u001b[0m\u001b[0;34m\u001b[0m\u001b[0;34m\u001b[0m\u001b[0m\n\u001b[0m\u001b[1;32m     57\u001b[0m \u001b[0;34m\u001b[0m\u001b[0m\n\u001b[1;32m     58\u001b[0m         \u001b[0;32mreturn\u001b[0m \u001b[0mmiddleware\u001b[0m\u001b[0;34m\u001b[0m\u001b[0;34m\u001b[0m\u001b[0m\n",
            "\u001b[0;32m/usr/local/lib/python3.11/dist-packages/web3/middleware/base.py\u001b[0m in \u001b[0;36mmiddleware\u001b[0;34m(method, params)\u001b[0m\n\u001b[1;32m     54\u001b[0m         \u001b[0;32mdef\u001b[0m \u001b[0mmiddleware\u001b[0m\u001b[0;34m(\u001b[0m\u001b[0mmethod\u001b[0m\u001b[0;34m:\u001b[0m \u001b[0;34m\"RPCEndpoint\"\u001b[0m\u001b[0;34m,\u001b[0m \u001b[0mparams\u001b[0m\u001b[0;34m:\u001b[0m \u001b[0mAny\u001b[0m\u001b[0;34m)\u001b[0m \u001b[0;34m->\u001b[0m \u001b[0;34m\"RPCResponse\"\u001b[0m\u001b[0;34m:\u001b[0m\u001b[0;34m\u001b[0m\u001b[0;34m\u001b[0m\u001b[0m\n\u001b[1;32m     55\u001b[0m             \u001b[0mmethod\u001b[0m\u001b[0;34m,\u001b[0m \u001b[0mparams\u001b[0m \u001b[0;34m=\u001b[0m \u001b[0mself\u001b[0m\u001b[0;34m.\u001b[0m\u001b[0mrequest_processor\u001b[0m\u001b[0;34m(\u001b[0m\u001b[0mmethod\u001b[0m\u001b[0;34m,\u001b[0m \u001b[0mparams\u001b[0m\u001b[0;34m)\u001b[0m\u001b[0;34m\u001b[0m\u001b[0;34m\u001b[0m\u001b[0m\n\u001b[0;32m---> 56\u001b[0;31m             \u001b[0;32mreturn\u001b[0m \u001b[0mself\u001b[0m\u001b[0;34m.\u001b[0m\u001b[0mresponse_processor\u001b[0m\u001b[0;34m(\u001b[0m\u001b[0mmethod\u001b[0m\u001b[0;34m,\u001b[0m \u001b[0mmake_request\u001b[0m\u001b[0;34m(\u001b[0m\u001b[0mmethod\u001b[0m\u001b[0;34m,\u001b[0m \u001b[0mparams\u001b[0m\u001b[0;34m)\u001b[0m\u001b[0;34m)\u001b[0m\u001b[0;34m\u001b[0m\u001b[0;34m\u001b[0m\u001b[0m\n\u001b[0m\u001b[1;32m     57\u001b[0m \u001b[0;34m\u001b[0m\u001b[0m\n\u001b[1;32m     58\u001b[0m         \u001b[0;32mreturn\u001b[0m \u001b[0mmiddleware\u001b[0m\u001b[0;34m\u001b[0m\u001b[0;34m\u001b[0m\u001b[0m\n",
            "\u001b[0;32m/usr/local/lib/python3.11/dist-packages/web3/middleware/base.py\u001b[0m in \u001b[0;36mmiddleware\u001b[0;34m(method, params)\u001b[0m\n\u001b[1;32m     54\u001b[0m         \u001b[0;32mdef\u001b[0m \u001b[0mmiddleware\u001b[0m\u001b[0;34m(\u001b[0m\u001b[0mmethod\u001b[0m\u001b[0;34m:\u001b[0m \u001b[0;34m\"RPCEndpoint\"\u001b[0m\u001b[0;34m,\u001b[0m \u001b[0mparams\u001b[0m\u001b[0;34m:\u001b[0m \u001b[0mAny\u001b[0m\u001b[0;34m)\u001b[0m \u001b[0;34m->\u001b[0m \u001b[0;34m\"RPCResponse\"\u001b[0m\u001b[0;34m:\u001b[0m\u001b[0;34m\u001b[0m\u001b[0;34m\u001b[0m\u001b[0m\n\u001b[1;32m     55\u001b[0m             \u001b[0mmethod\u001b[0m\u001b[0;34m,\u001b[0m \u001b[0mparams\u001b[0m \u001b[0;34m=\u001b[0m \u001b[0mself\u001b[0m\u001b[0;34m.\u001b[0m\u001b[0mrequest_processor\u001b[0m\u001b[0;34m(\u001b[0m\u001b[0mmethod\u001b[0m\u001b[0;34m,\u001b[0m \u001b[0mparams\u001b[0m\u001b[0;34m)\u001b[0m\u001b[0;34m\u001b[0m\u001b[0;34m\u001b[0m\u001b[0m\n\u001b[0;32m---> 56\u001b[0;31m             \u001b[0;32mreturn\u001b[0m \u001b[0mself\u001b[0m\u001b[0;34m.\u001b[0m\u001b[0mresponse_processor\u001b[0m\u001b[0;34m(\u001b[0m\u001b[0mmethod\u001b[0m\u001b[0;34m,\u001b[0m \u001b[0mmake_request\u001b[0m\u001b[0;34m(\u001b[0m\u001b[0mmethod\u001b[0m\u001b[0;34m,\u001b[0m \u001b[0mparams\u001b[0m\u001b[0;34m)\u001b[0m\u001b[0;34m)\u001b[0m\u001b[0;34m\u001b[0m\u001b[0;34m\u001b[0m\u001b[0m\n\u001b[0m\u001b[1;32m     57\u001b[0m \u001b[0;34m\u001b[0m\u001b[0m\n\u001b[1;32m     58\u001b[0m         \u001b[0;32mreturn\u001b[0m \u001b[0mmiddleware\u001b[0m\u001b[0;34m\u001b[0m\u001b[0;34m\u001b[0m\u001b[0m\n",
            "\u001b[0;32m/usr/local/lib/python3.11/dist-packages/web3/middleware/base.py\u001b[0m in \u001b[0;36mmiddleware\u001b[0;34m(method, params)\u001b[0m\n\u001b[1;32m     54\u001b[0m         \u001b[0;32mdef\u001b[0m \u001b[0mmiddleware\u001b[0m\u001b[0;34m(\u001b[0m\u001b[0mmethod\u001b[0m\u001b[0;34m:\u001b[0m \u001b[0;34m\"RPCEndpoint\"\u001b[0m\u001b[0;34m,\u001b[0m \u001b[0mparams\u001b[0m\u001b[0;34m:\u001b[0m \u001b[0mAny\u001b[0m\u001b[0;34m)\u001b[0m \u001b[0;34m->\u001b[0m \u001b[0;34m\"RPCResponse\"\u001b[0m\u001b[0;34m:\u001b[0m\u001b[0;34m\u001b[0m\u001b[0;34m\u001b[0m\u001b[0m\n\u001b[1;32m     55\u001b[0m             \u001b[0mmethod\u001b[0m\u001b[0;34m,\u001b[0m \u001b[0mparams\u001b[0m \u001b[0;34m=\u001b[0m \u001b[0mself\u001b[0m\u001b[0;34m.\u001b[0m\u001b[0mrequest_processor\u001b[0m\u001b[0;34m(\u001b[0m\u001b[0mmethod\u001b[0m\u001b[0;34m,\u001b[0m \u001b[0mparams\u001b[0m\u001b[0;34m)\u001b[0m\u001b[0;34m\u001b[0m\u001b[0;34m\u001b[0m\u001b[0m\n\u001b[0;32m---> 56\u001b[0;31m             \u001b[0;32mreturn\u001b[0m \u001b[0mself\u001b[0m\u001b[0;34m.\u001b[0m\u001b[0mresponse_processor\u001b[0m\u001b[0;34m(\u001b[0m\u001b[0mmethod\u001b[0m\u001b[0;34m,\u001b[0m \u001b[0mmake_request\u001b[0m\u001b[0;34m(\u001b[0m\u001b[0mmethod\u001b[0m\u001b[0;34m,\u001b[0m \u001b[0mparams\u001b[0m\u001b[0;34m)\u001b[0m\u001b[0;34m)\u001b[0m\u001b[0;34m\u001b[0m\u001b[0;34m\u001b[0m\u001b[0m\n\u001b[0m\u001b[1;32m     57\u001b[0m \u001b[0;34m\u001b[0m\u001b[0m\n\u001b[1;32m     58\u001b[0m         \u001b[0;32mreturn\u001b[0m \u001b[0mmiddleware\u001b[0m\u001b[0;34m\u001b[0m\u001b[0;34m\u001b[0m\u001b[0m\n",
            "\u001b[0;32m/usr/local/lib/python3.11/dist-packages/web3/middleware/base.py\u001b[0m in \u001b[0;36mmiddleware\u001b[0;34m(method, params)\u001b[0m\n\u001b[1;32m     53\u001b[0m     \u001b[0;32mdef\u001b[0m \u001b[0mwrap_make_request\u001b[0m\u001b[0;34m(\u001b[0m\u001b[0mself\u001b[0m\u001b[0;34m,\u001b[0m \u001b[0mmake_request\u001b[0m\u001b[0;34m:\u001b[0m \u001b[0;34m\"MakeRequestFn\"\u001b[0m\u001b[0;34m)\u001b[0m \u001b[0;34m->\u001b[0m \u001b[0;34m\"MakeRequestFn\"\u001b[0m\u001b[0;34m:\u001b[0m\u001b[0;34m\u001b[0m\u001b[0;34m\u001b[0m\u001b[0m\n\u001b[1;32m     54\u001b[0m         \u001b[0;32mdef\u001b[0m \u001b[0mmiddleware\u001b[0m\u001b[0;34m(\u001b[0m\u001b[0mmethod\u001b[0m\u001b[0;34m:\u001b[0m \u001b[0;34m\"RPCEndpoint\"\u001b[0m\u001b[0;34m,\u001b[0m \u001b[0mparams\u001b[0m\u001b[0;34m:\u001b[0m \u001b[0mAny\u001b[0m\u001b[0;34m)\u001b[0m \u001b[0;34m->\u001b[0m \u001b[0;34m\"RPCResponse\"\u001b[0m\u001b[0;34m:\u001b[0m\u001b[0;34m\u001b[0m\u001b[0;34m\u001b[0m\u001b[0m\n\u001b[0;32m---> 55\u001b[0;31m             \u001b[0mmethod\u001b[0m\u001b[0;34m,\u001b[0m \u001b[0mparams\u001b[0m \u001b[0;34m=\u001b[0m \u001b[0mself\u001b[0m\u001b[0;34m.\u001b[0m\u001b[0mrequest_processor\u001b[0m\u001b[0;34m(\u001b[0m\u001b[0mmethod\u001b[0m\u001b[0;34m,\u001b[0m \u001b[0mparams\u001b[0m\u001b[0;34m)\u001b[0m\u001b[0;34m\u001b[0m\u001b[0;34m\u001b[0m\u001b[0m\n\u001b[0m\u001b[1;32m     56\u001b[0m             \u001b[0;32mreturn\u001b[0m \u001b[0mself\u001b[0m\u001b[0;34m.\u001b[0m\u001b[0mresponse_processor\u001b[0m\u001b[0;34m(\u001b[0m\u001b[0mmethod\u001b[0m\u001b[0;34m,\u001b[0m \u001b[0mmake_request\u001b[0m\u001b[0;34m(\u001b[0m\u001b[0mmethod\u001b[0m\u001b[0;34m,\u001b[0m \u001b[0mparams\u001b[0m\u001b[0;34m)\u001b[0m\u001b[0;34m)\u001b[0m\u001b[0;34m\u001b[0m\u001b[0;34m\u001b[0m\u001b[0m\n\u001b[1;32m     57\u001b[0m \u001b[0;34m\u001b[0m\u001b[0m\n",
            "\u001b[0;32m/usr/local/lib/python3.11/dist-packages/web3/middleware/buffered_gas_estimate.py\u001b[0m in \u001b[0;36mrequest_processor\u001b[0;34m(self, method, params)\u001b[0m\n\u001b[1;32m     41\u001b[0m                     \u001b[0mtransaction\u001b[0m\u001b[0;34m,\u001b[0m\u001b[0;34m\u001b[0m\u001b[0;34m\u001b[0m\u001b[0m\n\u001b[1;32m     42\u001b[0m                     \u001b[0;34m\"gas\"\u001b[0m\u001b[0;34m,\u001b[0m\u001b[0;34m\u001b[0m\u001b[0;34m\u001b[0m\u001b[0m\n\u001b[0;32m---> 43\u001b[0;31m                     \u001b[0mhex\u001b[0m\u001b[0;34m(\u001b[0m\u001b[0mget_buffered_gas_estimate\u001b[0m\u001b[0;34m(\u001b[0m\u001b[0mcast\u001b[0m\u001b[0;34m(\u001b[0m\u001b[0;34m\"Web3\"\u001b[0m\u001b[0;34m,\u001b[0m \u001b[0mself\u001b[0m\u001b[0;34m.\u001b[0m\u001b[0m_w3\u001b[0m\u001b[0;34m)\u001b[0m\u001b[0;34m,\u001b[0m \u001b[0mtransaction\u001b[0m\u001b[0;34m)\u001b[0m\u001b[0;34m)\u001b[0m\u001b[0;34m,\u001b[0m\u001b[0;34m\u001b[0m\u001b[0;34m\u001b[0m\u001b[0m\n\u001b[0m\u001b[1;32m     44\u001b[0m                 )\n\u001b[1;32m     45\u001b[0m                 \u001b[0mparams\u001b[0m \u001b[0;34m=\u001b[0m \u001b[0;34m(\u001b[0m\u001b[0mtransaction\u001b[0m\u001b[0;34m,\u001b[0m\u001b[0;34m)\u001b[0m\u001b[0;34m\u001b[0m\u001b[0;34m\u001b[0m\u001b[0m\n",
            "\u001b[0;32m/usr/local/lib/python3.11/dist-packages/web3/_utils/transactions.py\u001b[0m in \u001b[0;36mget_buffered_gas_estimate\u001b[0;34m(w3, transaction, gas_buffer)\u001b[0m\n\u001b[1;32m    159\u001b[0m     \u001b[0mgas_estimate_transaction\u001b[0m \u001b[0;34m=\u001b[0m \u001b[0mcast\u001b[0m\u001b[0;34m(\u001b[0m\u001b[0mTxParams\u001b[0m\u001b[0;34m,\u001b[0m \u001b[0mdict\u001b[0m\u001b[0;34m(\u001b[0m\u001b[0;34m**\u001b[0m\u001b[0mtransaction\u001b[0m\u001b[0;34m)\u001b[0m\u001b[0;34m)\u001b[0m\u001b[0;34m\u001b[0m\u001b[0;34m\u001b[0m\u001b[0m\n\u001b[1;32m    160\u001b[0m \u001b[0;34m\u001b[0m\u001b[0m\n\u001b[0;32m--> 161\u001b[0;31m     \u001b[0mgas_estimate\u001b[0m \u001b[0;34m=\u001b[0m \u001b[0mw3\u001b[0m\u001b[0;34m.\u001b[0m\u001b[0meth\u001b[0m\u001b[0;34m.\u001b[0m\u001b[0mestimate_gas\u001b[0m\u001b[0;34m(\u001b[0m\u001b[0mgas_estimate_transaction\u001b[0m\u001b[0;34m)\u001b[0m\u001b[0;34m\u001b[0m\u001b[0;34m\u001b[0m\u001b[0m\n\u001b[0m\u001b[1;32m    162\u001b[0m \u001b[0;34m\u001b[0m\u001b[0m\n\u001b[1;32m    163\u001b[0m     \u001b[0mgas_limit\u001b[0m \u001b[0;34m=\u001b[0m \u001b[0mget_block_gas_limit\u001b[0m\u001b[0;34m(\u001b[0m\u001b[0mw3\u001b[0m\u001b[0;34m)\u001b[0m\u001b[0;34m\u001b[0m\u001b[0;34m\u001b[0m\u001b[0m\n",
            "\u001b[0;32m/usr/local/lib/python3.11/dist-packages/web3/eth/eth.py\u001b[0m in \u001b[0;36mestimate_gas\u001b[0;34m(self, transaction, block_identifier, state_override)\u001b[0m\n\u001b[1;32m    314\u001b[0m         \u001b[0mstate_override\u001b[0m\u001b[0;34m:\u001b[0m \u001b[0mOptional\u001b[0m\u001b[0;34m[\u001b[0m\u001b[0mStateOverride\u001b[0m\u001b[0;34m]\u001b[0m \u001b[0;34m=\u001b[0m \u001b[0;32mNone\u001b[0m\u001b[0;34m,\u001b[0m\u001b[0;34m\u001b[0m\u001b[0;34m\u001b[0m\u001b[0m\n\u001b[1;32m    315\u001b[0m     ) -> int:\n\u001b[0;32m--> 316\u001b[0;31m         \u001b[0;32mreturn\u001b[0m \u001b[0mself\u001b[0m\u001b[0;34m.\u001b[0m\u001b[0m_estimate_gas\u001b[0m\u001b[0;34m(\u001b[0m\u001b[0mtransaction\u001b[0m\u001b[0;34m,\u001b[0m \u001b[0mblock_identifier\u001b[0m\u001b[0;34m,\u001b[0m \u001b[0mstate_override\u001b[0m\u001b[0;34m)\u001b[0m\u001b[0;34m\u001b[0m\u001b[0;34m\u001b[0m\u001b[0m\n\u001b[0m\u001b[1;32m    317\u001b[0m \u001b[0;34m\u001b[0m\u001b[0m\n\u001b[1;32m    318\u001b[0m     \u001b[0;31m# eth_getTransactionByHash\u001b[0m\u001b[0;34m\u001b[0m\u001b[0;34m\u001b[0m\u001b[0m\n",
            "\u001b[0;32m/usr/local/lib/python3.11/dist-packages/web3/module.py\u001b[0m in \u001b[0;36mcaller\u001b[0;34m(*args, **kwargs)\u001b[0m\n\u001b[1;32m    110\u001b[0m             \u001b[0mnull_result_formatters\u001b[0m\u001b[0;34m,\u001b[0m\u001b[0;34m\u001b[0m\u001b[0;34m\u001b[0m\u001b[0m\n\u001b[1;32m    111\u001b[0m         ) = response_formatters\n\u001b[0;32m--> 112\u001b[0;31m         result = w3.manager.request_blocking(\n\u001b[0m\u001b[1;32m    113\u001b[0m             \u001b[0mmethod_str\u001b[0m\u001b[0;34m,\u001b[0m \u001b[0mparams\u001b[0m\u001b[0;34m,\u001b[0m \u001b[0merror_formatters\u001b[0m\u001b[0;34m,\u001b[0m \u001b[0mnull_result_formatters\u001b[0m\u001b[0;34m\u001b[0m\u001b[0;34m\u001b[0m\u001b[0m\n\u001b[1;32m    114\u001b[0m         )\n",
            "\u001b[0;32m/usr/local/lib/python3.11/dist-packages/web3/manager.py\u001b[0m in \u001b[0;36mrequest_blocking\u001b[0;34m(self, method, params, error_formatters, null_result_formatters)\u001b[0m\n\u001b[1;32m    229\u001b[0m         \u001b[0mMake\u001b[0m \u001b[0ma\u001b[0m \u001b[0msynchronous\u001b[0m \u001b[0mrequest\u001b[0m \u001b[0musing\u001b[0m \u001b[0mthe\u001b[0m \u001b[0mprovider\u001b[0m\u001b[0;34m\u001b[0m\u001b[0;34m\u001b[0m\u001b[0m\n\u001b[1;32m    230\u001b[0m         \"\"\"\n\u001b[0;32m--> 231\u001b[0;31m         \u001b[0mresponse\u001b[0m \u001b[0;34m=\u001b[0m \u001b[0mself\u001b[0m\u001b[0;34m.\u001b[0m\u001b[0m_make_request\u001b[0m\u001b[0;34m(\u001b[0m\u001b[0mmethod\u001b[0m\u001b[0;34m,\u001b[0m \u001b[0mparams\u001b[0m\u001b[0;34m)\u001b[0m\u001b[0;34m\u001b[0m\u001b[0;34m\u001b[0m\u001b[0m\n\u001b[0m\u001b[1;32m    232\u001b[0m         return self.formatted_response(\n\u001b[1;32m    233\u001b[0m             \u001b[0mresponse\u001b[0m\u001b[0;34m,\u001b[0m \u001b[0mparams\u001b[0m\u001b[0;34m,\u001b[0m \u001b[0merror_formatters\u001b[0m\u001b[0;34m,\u001b[0m \u001b[0mnull_result_formatters\u001b[0m\u001b[0;34m\u001b[0m\u001b[0;34m\u001b[0m\u001b[0m\n",
            "\u001b[0;32m/usr/local/lib/python3.11/dist-packages/web3/manager.py\u001b[0m in \u001b[0;36m_make_request\u001b[0;34m(self, method, params)\u001b[0m\n\u001b[1;32m    161\u001b[0m         )\n\u001b[1;32m    162\u001b[0m         \u001b[0mself\u001b[0m\u001b[0;34m.\u001b[0m\u001b[0mlogger\u001b[0m\u001b[0;34m.\u001b[0m\u001b[0mdebug\u001b[0m\u001b[0;34m(\u001b[0m\u001b[0;34mf\"Making request. Method: {method}\"\u001b[0m\u001b[0;34m)\u001b[0m\u001b[0;34m\u001b[0m\u001b[0;34m\u001b[0m\u001b[0m\n\u001b[0;32m--> 163\u001b[0;31m         \u001b[0;32mreturn\u001b[0m \u001b[0mrequest_func\u001b[0m\u001b[0;34m(\u001b[0m\u001b[0mmethod\u001b[0m\u001b[0;34m,\u001b[0m \u001b[0mparams\u001b[0m\u001b[0;34m)\u001b[0m\u001b[0;34m\u001b[0m\u001b[0;34m\u001b[0m\u001b[0m\n\u001b[0m\u001b[1;32m    164\u001b[0m \u001b[0;34m\u001b[0m\u001b[0m\n\u001b[1;32m    165\u001b[0m     async def _coro_make_request(\n",
            "\u001b[0;32m/usr/local/lib/python3.11/dist-packages/web3/middleware/base.py\u001b[0m in \u001b[0;36mmiddleware\u001b[0;34m(method, params)\u001b[0m\n\u001b[1;32m     54\u001b[0m         \u001b[0;32mdef\u001b[0m \u001b[0mmiddleware\u001b[0m\u001b[0;34m(\u001b[0m\u001b[0mmethod\u001b[0m\u001b[0;34m:\u001b[0m \u001b[0;34m\"RPCEndpoint\"\u001b[0m\u001b[0;34m,\u001b[0m \u001b[0mparams\u001b[0m\u001b[0;34m:\u001b[0m \u001b[0mAny\u001b[0m\u001b[0;34m)\u001b[0m \u001b[0;34m->\u001b[0m \u001b[0;34m\"RPCResponse\"\u001b[0m\u001b[0;34m:\u001b[0m\u001b[0;34m\u001b[0m\u001b[0;34m\u001b[0m\u001b[0m\n\u001b[1;32m     55\u001b[0m             \u001b[0mmethod\u001b[0m\u001b[0;34m,\u001b[0m \u001b[0mparams\u001b[0m \u001b[0;34m=\u001b[0m \u001b[0mself\u001b[0m\u001b[0;34m.\u001b[0m\u001b[0mrequest_processor\u001b[0m\u001b[0;34m(\u001b[0m\u001b[0mmethod\u001b[0m\u001b[0;34m,\u001b[0m \u001b[0mparams\u001b[0m\u001b[0;34m)\u001b[0m\u001b[0;34m\u001b[0m\u001b[0;34m\u001b[0m\u001b[0m\n\u001b[0;32m---> 56\u001b[0;31m             \u001b[0;32mreturn\u001b[0m \u001b[0mself\u001b[0m\u001b[0;34m.\u001b[0m\u001b[0mresponse_processor\u001b[0m\u001b[0;34m(\u001b[0m\u001b[0mmethod\u001b[0m\u001b[0;34m,\u001b[0m \u001b[0mmake_request\u001b[0m\u001b[0;34m(\u001b[0m\u001b[0mmethod\u001b[0m\u001b[0;34m,\u001b[0m \u001b[0mparams\u001b[0m\u001b[0;34m)\u001b[0m\u001b[0;34m)\u001b[0m\u001b[0;34m\u001b[0m\u001b[0;34m\u001b[0m\u001b[0m\n\u001b[0m\u001b[1;32m     57\u001b[0m \u001b[0;34m\u001b[0m\u001b[0m\n\u001b[1;32m     58\u001b[0m         \u001b[0;32mreturn\u001b[0m \u001b[0mmiddleware\u001b[0m\u001b[0;34m\u001b[0m\u001b[0;34m\u001b[0m\u001b[0m\n",
            "\u001b[0;32m/usr/local/lib/python3.11/dist-packages/web3/middleware/base.py\u001b[0m in \u001b[0;36mmiddleware\u001b[0;34m(method, params)\u001b[0m\n\u001b[1;32m     54\u001b[0m         \u001b[0;32mdef\u001b[0m \u001b[0mmiddleware\u001b[0m\u001b[0;34m(\u001b[0m\u001b[0mmethod\u001b[0m\u001b[0;34m:\u001b[0m \u001b[0;34m\"RPCEndpoint\"\u001b[0m\u001b[0;34m,\u001b[0m \u001b[0mparams\u001b[0m\u001b[0;34m:\u001b[0m \u001b[0mAny\u001b[0m\u001b[0;34m)\u001b[0m \u001b[0;34m->\u001b[0m \u001b[0;34m\"RPCResponse\"\u001b[0m\u001b[0;34m:\u001b[0m\u001b[0;34m\u001b[0m\u001b[0;34m\u001b[0m\u001b[0m\n\u001b[1;32m     55\u001b[0m             \u001b[0mmethod\u001b[0m\u001b[0;34m,\u001b[0m \u001b[0mparams\u001b[0m \u001b[0;34m=\u001b[0m \u001b[0mself\u001b[0m\u001b[0;34m.\u001b[0m\u001b[0mrequest_processor\u001b[0m\u001b[0;34m(\u001b[0m\u001b[0mmethod\u001b[0m\u001b[0;34m,\u001b[0m \u001b[0mparams\u001b[0m\u001b[0;34m)\u001b[0m\u001b[0;34m\u001b[0m\u001b[0;34m\u001b[0m\u001b[0m\n\u001b[0;32m---> 56\u001b[0;31m             \u001b[0;32mreturn\u001b[0m \u001b[0mself\u001b[0m\u001b[0;34m.\u001b[0m\u001b[0mresponse_processor\u001b[0m\u001b[0;34m(\u001b[0m\u001b[0mmethod\u001b[0m\u001b[0;34m,\u001b[0m \u001b[0mmake_request\u001b[0m\u001b[0;34m(\u001b[0m\u001b[0mmethod\u001b[0m\u001b[0;34m,\u001b[0m \u001b[0mparams\u001b[0m\u001b[0;34m)\u001b[0m\u001b[0;34m)\u001b[0m\u001b[0;34m\u001b[0m\u001b[0;34m\u001b[0m\u001b[0m\n\u001b[0m\u001b[1;32m     57\u001b[0m \u001b[0;34m\u001b[0m\u001b[0m\n\u001b[1;32m     58\u001b[0m         \u001b[0;32mreturn\u001b[0m \u001b[0mmiddleware\u001b[0m\u001b[0;34m\u001b[0m\u001b[0;34m\u001b[0m\u001b[0m\n",
            "\u001b[0;32m/usr/local/lib/python3.11/dist-packages/web3/middleware/base.py\u001b[0m in \u001b[0;36mmiddleware\u001b[0;34m(method, params)\u001b[0m\n\u001b[1;32m     54\u001b[0m         \u001b[0;32mdef\u001b[0m \u001b[0mmiddleware\u001b[0m\u001b[0;34m(\u001b[0m\u001b[0mmethod\u001b[0m\u001b[0;34m:\u001b[0m \u001b[0;34m\"RPCEndpoint\"\u001b[0m\u001b[0;34m,\u001b[0m \u001b[0mparams\u001b[0m\u001b[0;34m:\u001b[0m \u001b[0mAny\u001b[0m\u001b[0;34m)\u001b[0m \u001b[0;34m->\u001b[0m \u001b[0;34m\"RPCResponse\"\u001b[0m\u001b[0;34m:\u001b[0m\u001b[0;34m\u001b[0m\u001b[0;34m\u001b[0m\u001b[0m\n\u001b[1;32m     55\u001b[0m             \u001b[0mmethod\u001b[0m\u001b[0;34m,\u001b[0m \u001b[0mparams\u001b[0m \u001b[0;34m=\u001b[0m \u001b[0mself\u001b[0m\u001b[0;34m.\u001b[0m\u001b[0mrequest_processor\u001b[0m\u001b[0;34m(\u001b[0m\u001b[0mmethod\u001b[0m\u001b[0;34m,\u001b[0m \u001b[0mparams\u001b[0m\u001b[0;34m)\u001b[0m\u001b[0;34m\u001b[0m\u001b[0;34m\u001b[0m\u001b[0m\n\u001b[0;32m---> 56\u001b[0;31m             \u001b[0;32mreturn\u001b[0m \u001b[0mself\u001b[0m\u001b[0;34m.\u001b[0m\u001b[0mresponse_processor\u001b[0m\u001b[0;34m(\u001b[0m\u001b[0mmethod\u001b[0m\u001b[0;34m,\u001b[0m \u001b[0mmake_request\u001b[0m\u001b[0;34m(\u001b[0m\u001b[0mmethod\u001b[0m\u001b[0;34m,\u001b[0m \u001b[0mparams\u001b[0m\u001b[0;34m)\u001b[0m\u001b[0;34m)\u001b[0m\u001b[0;34m\u001b[0m\u001b[0;34m\u001b[0m\u001b[0m\n\u001b[0m\u001b[1;32m     57\u001b[0m \u001b[0;34m\u001b[0m\u001b[0m\n\u001b[1;32m     58\u001b[0m         \u001b[0;32mreturn\u001b[0m \u001b[0mmiddleware\u001b[0m\u001b[0;34m\u001b[0m\u001b[0;34m\u001b[0m\u001b[0m\n",
            "\u001b[0;32m/usr/local/lib/python3.11/dist-packages/web3/middleware/base.py\u001b[0m in \u001b[0;36mmiddleware\u001b[0;34m(method, params)\u001b[0m\n\u001b[1;32m     54\u001b[0m         \u001b[0;32mdef\u001b[0m \u001b[0mmiddleware\u001b[0m\u001b[0;34m(\u001b[0m\u001b[0mmethod\u001b[0m\u001b[0;34m:\u001b[0m \u001b[0;34m\"RPCEndpoint\"\u001b[0m\u001b[0;34m,\u001b[0m \u001b[0mparams\u001b[0m\u001b[0;34m:\u001b[0m \u001b[0mAny\u001b[0m\u001b[0;34m)\u001b[0m \u001b[0;34m->\u001b[0m \u001b[0;34m\"RPCResponse\"\u001b[0m\u001b[0;34m:\u001b[0m\u001b[0;34m\u001b[0m\u001b[0;34m\u001b[0m\u001b[0m\n\u001b[1;32m     55\u001b[0m             \u001b[0mmethod\u001b[0m\u001b[0;34m,\u001b[0m \u001b[0mparams\u001b[0m \u001b[0;34m=\u001b[0m \u001b[0mself\u001b[0m\u001b[0;34m.\u001b[0m\u001b[0mrequest_processor\u001b[0m\u001b[0;34m(\u001b[0m\u001b[0mmethod\u001b[0m\u001b[0;34m,\u001b[0m \u001b[0mparams\u001b[0m\u001b[0;34m)\u001b[0m\u001b[0;34m\u001b[0m\u001b[0;34m\u001b[0m\u001b[0m\n\u001b[0;32m---> 56\u001b[0;31m             \u001b[0;32mreturn\u001b[0m \u001b[0mself\u001b[0m\u001b[0;34m.\u001b[0m\u001b[0mresponse_processor\u001b[0m\u001b[0;34m(\u001b[0m\u001b[0mmethod\u001b[0m\u001b[0;34m,\u001b[0m \u001b[0mmake_request\u001b[0m\u001b[0;34m(\u001b[0m\u001b[0mmethod\u001b[0m\u001b[0;34m,\u001b[0m \u001b[0mparams\u001b[0m\u001b[0;34m)\u001b[0m\u001b[0;34m)\u001b[0m\u001b[0;34m\u001b[0m\u001b[0;34m\u001b[0m\u001b[0m\n\u001b[0m\u001b[1;32m     57\u001b[0m \u001b[0;34m\u001b[0m\u001b[0m\n\u001b[1;32m     58\u001b[0m         \u001b[0;32mreturn\u001b[0m \u001b[0mmiddleware\u001b[0m\u001b[0;34m\u001b[0m\u001b[0;34m\u001b[0m\u001b[0m\n",
            "\u001b[0;32m/usr/local/lib/python3.11/dist-packages/web3/middleware/base.py\u001b[0m in \u001b[0;36mmiddleware\u001b[0;34m(method, params)\u001b[0m\n\u001b[1;32m     54\u001b[0m         \u001b[0;32mdef\u001b[0m \u001b[0mmiddleware\u001b[0m\u001b[0;34m(\u001b[0m\u001b[0mmethod\u001b[0m\u001b[0;34m:\u001b[0m \u001b[0;34m\"RPCEndpoint\"\u001b[0m\u001b[0;34m,\u001b[0m \u001b[0mparams\u001b[0m\u001b[0;34m:\u001b[0m \u001b[0mAny\u001b[0m\u001b[0;34m)\u001b[0m \u001b[0;34m->\u001b[0m \u001b[0;34m\"RPCResponse\"\u001b[0m\u001b[0;34m:\u001b[0m\u001b[0;34m\u001b[0m\u001b[0;34m\u001b[0m\u001b[0m\n\u001b[1;32m     55\u001b[0m             \u001b[0mmethod\u001b[0m\u001b[0;34m,\u001b[0m \u001b[0mparams\u001b[0m \u001b[0;34m=\u001b[0m \u001b[0mself\u001b[0m\u001b[0;34m.\u001b[0m\u001b[0mrequest_processor\u001b[0m\u001b[0;34m(\u001b[0m\u001b[0mmethod\u001b[0m\u001b[0;34m,\u001b[0m \u001b[0mparams\u001b[0m\u001b[0;34m)\u001b[0m\u001b[0;34m\u001b[0m\u001b[0;34m\u001b[0m\u001b[0m\n\u001b[0;32m---> 56\u001b[0;31m             \u001b[0;32mreturn\u001b[0m \u001b[0mself\u001b[0m\u001b[0;34m.\u001b[0m\u001b[0mresponse_processor\u001b[0m\u001b[0;34m(\u001b[0m\u001b[0mmethod\u001b[0m\u001b[0;34m,\u001b[0m \u001b[0mmake_request\u001b[0m\u001b[0;34m(\u001b[0m\u001b[0mmethod\u001b[0m\u001b[0;34m,\u001b[0m \u001b[0mparams\u001b[0m\u001b[0;34m)\u001b[0m\u001b[0;34m)\u001b[0m\u001b[0;34m\u001b[0m\u001b[0;34m\u001b[0m\u001b[0m\n\u001b[0m\u001b[1;32m     57\u001b[0m \u001b[0;34m\u001b[0m\u001b[0m\n\u001b[1;32m     58\u001b[0m         \u001b[0;32mreturn\u001b[0m \u001b[0mmiddleware\u001b[0m\u001b[0;34m\u001b[0m\u001b[0;34m\u001b[0m\u001b[0m\n",
            "\u001b[0;32m/usr/local/lib/python3.11/dist-packages/web3/middleware/base.py\u001b[0m in \u001b[0;36mmiddleware\u001b[0;34m(method, params)\u001b[0m\n\u001b[1;32m     54\u001b[0m         \u001b[0;32mdef\u001b[0m \u001b[0mmiddleware\u001b[0m\u001b[0;34m(\u001b[0m\u001b[0mmethod\u001b[0m\u001b[0;34m:\u001b[0m \u001b[0;34m\"RPCEndpoint\"\u001b[0m\u001b[0;34m,\u001b[0m \u001b[0mparams\u001b[0m\u001b[0;34m:\u001b[0m \u001b[0mAny\u001b[0m\u001b[0;34m)\u001b[0m \u001b[0;34m->\u001b[0m \u001b[0;34m\"RPCResponse\"\u001b[0m\u001b[0;34m:\u001b[0m\u001b[0;34m\u001b[0m\u001b[0;34m\u001b[0m\u001b[0m\n\u001b[1;32m     55\u001b[0m             \u001b[0mmethod\u001b[0m\u001b[0;34m,\u001b[0m \u001b[0mparams\u001b[0m \u001b[0;34m=\u001b[0m \u001b[0mself\u001b[0m\u001b[0;34m.\u001b[0m\u001b[0mrequest_processor\u001b[0m\u001b[0;34m(\u001b[0m\u001b[0mmethod\u001b[0m\u001b[0;34m,\u001b[0m \u001b[0mparams\u001b[0m\u001b[0;34m)\u001b[0m\u001b[0;34m\u001b[0m\u001b[0;34m\u001b[0m\u001b[0m\n\u001b[0;32m---> 56\u001b[0;31m             \u001b[0;32mreturn\u001b[0m \u001b[0mself\u001b[0m\u001b[0;34m.\u001b[0m\u001b[0mresponse_processor\u001b[0m\u001b[0;34m(\u001b[0m\u001b[0mmethod\u001b[0m\u001b[0;34m,\u001b[0m \u001b[0mmake_request\u001b[0m\u001b[0;34m(\u001b[0m\u001b[0mmethod\u001b[0m\u001b[0;34m,\u001b[0m \u001b[0mparams\u001b[0m\u001b[0;34m)\u001b[0m\u001b[0;34m)\u001b[0m\u001b[0;34m\u001b[0m\u001b[0;34m\u001b[0m\u001b[0m\n\u001b[0m\u001b[1;32m     57\u001b[0m \u001b[0;34m\u001b[0m\u001b[0m\n\u001b[1;32m     58\u001b[0m         \u001b[0;32mreturn\u001b[0m \u001b[0mmiddleware\u001b[0m\u001b[0;34m\u001b[0m\u001b[0;34m\u001b[0m\u001b[0m\n",
            "\u001b[0;32m/usr/local/lib/python3.11/dist-packages/web3/middleware/base.py\u001b[0m in \u001b[0;36mmiddleware\u001b[0;34m(method, params)\u001b[0m\n\u001b[1;32m     54\u001b[0m         \u001b[0;32mdef\u001b[0m \u001b[0mmiddleware\u001b[0m\u001b[0;34m(\u001b[0m\u001b[0mmethod\u001b[0m\u001b[0;34m:\u001b[0m \u001b[0;34m\"RPCEndpoint\"\u001b[0m\u001b[0;34m,\u001b[0m \u001b[0mparams\u001b[0m\u001b[0;34m:\u001b[0m \u001b[0mAny\u001b[0m\u001b[0;34m)\u001b[0m \u001b[0;34m->\u001b[0m \u001b[0;34m\"RPCResponse\"\u001b[0m\u001b[0;34m:\u001b[0m\u001b[0;34m\u001b[0m\u001b[0;34m\u001b[0m\u001b[0m\n\u001b[1;32m     55\u001b[0m             \u001b[0mmethod\u001b[0m\u001b[0;34m,\u001b[0m \u001b[0mparams\u001b[0m \u001b[0;34m=\u001b[0m \u001b[0mself\u001b[0m\u001b[0;34m.\u001b[0m\u001b[0mrequest_processor\u001b[0m\u001b[0;34m(\u001b[0m\u001b[0mmethod\u001b[0m\u001b[0;34m,\u001b[0m \u001b[0mparams\u001b[0m\u001b[0;34m)\u001b[0m\u001b[0;34m\u001b[0m\u001b[0;34m\u001b[0m\u001b[0m\n\u001b[0;32m---> 56\u001b[0;31m             \u001b[0;32mreturn\u001b[0m \u001b[0mself\u001b[0m\u001b[0;34m.\u001b[0m\u001b[0mresponse_processor\u001b[0m\u001b[0;34m(\u001b[0m\u001b[0mmethod\u001b[0m\u001b[0;34m,\u001b[0m \u001b[0mmake_request\u001b[0m\u001b[0;34m(\u001b[0m\u001b[0mmethod\u001b[0m\u001b[0;34m,\u001b[0m \u001b[0mparams\u001b[0m\u001b[0;34m)\u001b[0m\u001b[0;34m)\u001b[0m\u001b[0;34m\u001b[0m\u001b[0;34m\u001b[0m\u001b[0m\n\u001b[0m\u001b[1;32m     57\u001b[0m \u001b[0;34m\u001b[0m\u001b[0m\n\u001b[1;32m     58\u001b[0m         \u001b[0;32mreturn\u001b[0m \u001b[0mmiddleware\u001b[0m\u001b[0;34m\u001b[0m\u001b[0;34m\u001b[0m\u001b[0m\n",
            "\u001b[0;32m/usr/local/lib/python3.11/dist-packages/web3/providers/eth_tester/main.py\u001b[0m in \u001b[0;36mmake_request\u001b[0;34m(self, method, params)\u001b[0m\n\u001b[1;32m    185\u001b[0m \u001b[0;34m\u001b[0m\u001b[0m\n\u001b[1;32m    186\u001b[0m     \u001b[0;32mdef\u001b[0m \u001b[0mmake_request\u001b[0m\u001b[0;34m(\u001b[0m\u001b[0mself\u001b[0m\u001b[0;34m,\u001b[0m \u001b[0mmethod\u001b[0m\u001b[0;34m:\u001b[0m \u001b[0mRPCEndpoint\u001b[0m\u001b[0;34m,\u001b[0m \u001b[0mparams\u001b[0m\u001b[0;34m:\u001b[0m \u001b[0mAny\u001b[0m\u001b[0;34m)\u001b[0m \u001b[0;34m->\u001b[0m \u001b[0mRPCResponse\u001b[0m\u001b[0;34m:\u001b[0m\u001b[0;34m\u001b[0m\u001b[0;34m\u001b[0m\u001b[0m\n\u001b[0;32m--> 187\u001b[0;31m         response = _make_request(\n\u001b[0m\u001b[1;32m    188\u001b[0m             \u001b[0mmethod\u001b[0m\u001b[0;34m,\u001b[0m\u001b[0;34m\u001b[0m\u001b[0;34m\u001b[0m\u001b[0m\n\u001b[1;32m    189\u001b[0m             \u001b[0mparams\u001b[0m\u001b[0;34m,\u001b[0m\u001b[0;34m\u001b[0m\u001b[0;34m\u001b[0m\u001b[0m\n",
            "\u001b[0;32m/usr/local/lib/python3.11/dist-packages/web3/providers/eth_tester/main.py\u001b[0m in \u001b[0;36m_make_request\u001b[0;34m(method, params, api_endpoints, ethereum_tester_instance, request_id)\u001b[0m\n\u001b[1;32m    233\u001b[0m         \u001b[0;32mreturn\u001b[0m \u001b[0m_make_response\u001b[0m\u001b[0;34m(\u001b[0m\u001b[0me\u001b[0m\u001b[0;34m,\u001b[0m \u001b[0mrequest_id\u001b[0m\u001b[0;34m,\u001b[0m \u001b[0mmessage\u001b[0m\u001b[0;34m=\u001b[0m\u001b[0;34mf\"Unknown RPC Endpoint: {method}\"\u001b[0m\u001b[0;34m)\u001b[0m\u001b[0;34m\u001b[0m\u001b[0;34m\u001b[0m\u001b[0m\n\u001b[1;32m    234\u001b[0m     \u001b[0;32mtry\u001b[0m\u001b[0;34m:\u001b[0m\u001b[0;34m\u001b[0m\u001b[0;34m\u001b[0m\u001b[0m\n\u001b[0;32m--> 235\u001b[0;31m         \u001b[0mresponse\u001b[0m \u001b[0;34m=\u001b[0m \u001b[0mdelegator\u001b[0m\u001b[0;34m(\u001b[0m\u001b[0methereum_tester_instance\u001b[0m\u001b[0;34m,\u001b[0m \u001b[0mparams\u001b[0m\u001b[0;34m)\u001b[0m\u001b[0;34m\u001b[0m\u001b[0;34m\u001b[0m\u001b[0m\n\u001b[0m\u001b[1;32m    236\u001b[0m     \u001b[0;32mexcept\u001b[0m \u001b[0mNotImplementedError\u001b[0m \u001b[0;32mas\u001b[0m \u001b[0me\u001b[0m\u001b[0;34m:\u001b[0m\u001b[0;34m\u001b[0m\u001b[0;34m\u001b[0m\u001b[0m\n\u001b[1;32m    237\u001b[0m         return _make_response(\n",
            "\u001b[0;32m/usr/local/lib/python3.11/dist-packages/cytoolz/functoolz.pyx\u001b[0m in \u001b[0;36mcytoolz.functoolz.curry.__call__\u001b[0;34m()\u001b[0m\n",
            "\u001b[0;32m/usr/local/lib/python3.11/dist-packages/web3/providers/eth_tester/defaults.py\u001b[0m in \u001b[0;36mcall_eth_tester\u001b[0;34m(fn_name, eth_tester, fn_args, fn_kwargs)\u001b[0m\n\u001b[1;32m     83\u001b[0m \u001b[0;34m\u001b[0m\u001b[0m\n\u001b[1;32m     84\u001b[0m     \u001b[0;32mtry\u001b[0m\u001b[0;34m:\u001b[0m\u001b[0;34m\u001b[0m\u001b[0;34m\u001b[0m\u001b[0m\n\u001b[0;32m---> 85\u001b[0;31m         \u001b[0;32mreturn\u001b[0m \u001b[0mgetattr\u001b[0m\u001b[0;34m(\u001b[0m\u001b[0meth_tester\u001b[0m\u001b[0;34m,\u001b[0m \u001b[0mfn_name\u001b[0m\u001b[0;34m)\u001b[0m\u001b[0;34m(\u001b[0m\u001b[0;34m*\u001b[0m\u001b[0mfn_args\u001b[0m\u001b[0;34m,\u001b[0m \u001b[0;34m**\u001b[0m\u001b[0mfn_kwargs\u001b[0m\u001b[0;34m)\u001b[0m\u001b[0;34m\u001b[0m\u001b[0;34m\u001b[0m\u001b[0m\n\u001b[0m\u001b[1;32m     86\u001b[0m     \u001b[0;32mexcept\u001b[0m \u001b[0mTransactionFailed\u001b[0m \u001b[0;32mas\u001b[0m \u001b[0me\u001b[0m\u001b[0;34m:\u001b[0m\u001b[0;34m\u001b[0m\u001b[0;34m\u001b[0m\u001b[0m\n\u001b[1;32m     87\u001b[0m         \u001b[0mpossible_data\u001b[0m \u001b[0;34m=\u001b[0m \u001b[0me\u001b[0m\u001b[0;34m.\u001b[0m\u001b[0margs\u001b[0m\u001b[0;34m[\u001b[0m\u001b[0;36m0\u001b[0m\u001b[0;34m]\u001b[0m\u001b[0;34m\u001b[0m\u001b[0;34m\u001b[0m\u001b[0m\n",
            "\u001b[0;32m/usr/local/lib/python3.11/dist-packages/eth_tester/main.py\u001b[0m in \u001b[0;36mestimate_gas\u001b[0;34m(self, transaction, block_number)\u001b[0m\n\u001b[1;32m    511\u001b[0m         \u001b[0mself\u001b[0m\u001b[0;34m.\u001b[0m\u001b[0mvalidator\u001b[0m\u001b[0;34m.\u001b[0m\u001b[0mvalidate_inbound_block_number\u001b[0m\u001b[0;34m(\u001b[0m\u001b[0mblock_number\u001b[0m\u001b[0;34m)\u001b[0m\u001b[0;34m\u001b[0m\u001b[0;34m\u001b[0m\u001b[0m\n\u001b[1;32m    512\u001b[0m         \u001b[0mraw_block_number\u001b[0m \u001b[0;34m=\u001b[0m \u001b[0mself\u001b[0m\u001b[0;34m.\u001b[0m\u001b[0mnormalizer\u001b[0m\u001b[0;34m.\u001b[0m\u001b[0mnormalize_inbound_block_number\u001b[0m\u001b[0;34m(\u001b[0m\u001b[0mblock_number\u001b[0m\u001b[0;34m)\u001b[0m\u001b[0;34m\u001b[0m\u001b[0;34m\u001b[0m\u001b[0m\n\u001b[0;32m--> 513\u001b[0;31m         \u001b[0mraw_gas_estimate\u001b[0m \u001b[0;34m=\u001b[0m \u001b[0mself\u001b[0m\u001b[0;34m.\u001b[0m\u001b[0mbackend\u001b[0m\u001b[0;34m.\u001b[0m\u001b[0mestimate_gas\u001b[0m\u001b[0;34m(\u001b[0m\u001b[0mraw_transaction\u001b[0m\u001b[0;34m,\u001b[0m \u001b[0mraw_block_number\u001b[0m\u001b[0;34m)\u001b[0m\u001b[0;34m\u001b[0m\u001b[0;34m\u001b[0m\u001b[0m\n\u001b[0m\u001b[1;32m    514\u001b[0m         \u001b[0mself\u001b[0m\u001b[0;34m.\u001b[0m\u001b[0mvalidator\u001b[0m\u001b[0;34m.\u001b[0m\u001b[0mvalidate_outbound_gas_estimate\u001b[0m\u001b[0;34m(\u001b[0m\u001b[0mraw_gas_estimate\u001b[0m\u001b[0;34m)\u001b[0m\u001b[0;34m\u001b[0m\u001b[0;34m\u001b[0m\u001b[0m\n\u001b[1;32m    515\u001b[0m         \u001b[0mgas_estimate\u001b[0m \u001b[0;34m=\u001b[0m \u001b[0mself\u001b[0m\u001b[0;34m.\u001b[0m\u001b[0mnormalizer\u001b[0m\u001b[0;34m.\u001b[0m\u001b[0mnormalize_outbound_gas_estimate\u001b[0m\u001b[0;34m(\u001b[0m\u001b[0mraw_gas_estimate\u001b[0m\u001b[0;34m)\u001b[0m\u001b[0;34m\u001b[0m\u001b[0;34m\u001b[0m\u001b[0m\n",
            "\u001b[0;32m/usr/local/lib/python3.11/dist-packages/eth_utils/decorators.py\u001b[0m in \u001b[0;36mwrapped\u001b[0;34m(*args, **kwargs)\u001b[0m\n\u001b[1;32m    119\u001b[0m         \u001b[0;32mdef\u001b[0m \u001b[0mwrapped\u001b[0m\u001b[0;34m(\u001b[0m\u001b[0;34m*\u001b[0m\u001b[0margs\u001b[0m\u001b[0;34m:\u001b[0m \u001b[0mAny\u001b[0m\u001b[0;34m,\u001b[0m \u001b[0;34m**\u001b[0m\u001b[0mkwargs\u001b[0m\u001b[0;34m:\u001b[0m \u001b[0mAny\u001b[0m\u001b[0;34m)\u001b[0m \u001b[0;34m->\u001b[0m \u001b[0mT\u001b[0m\u001b[0;34m:\u001b[0m\u001b[0;34m\u001b[0m\u001b[0;34m\u001b[0m\u001b[0m\n\u001b[1;32m    120\u001b[0m             \u001b[0;32mtry\u001b[0m\u001b[0;34m:\u001b[0m\u001b[0;34m\u001b[0m\u001b[0;34m\u001b[0m\u001b[0m\n\u001b[0;32m--> 121\u001b[0;31m                 \u001b[0;32mreturn\u001b[0m \u001b[0mto_wrap\u001b[0m\u001b[0;34m(\u001b[0m\u001b[0;34m*\u001b[0m\u001b[0margs\u001b[0m\u001b[0;34m,\u001b[0m \u001b[0;34m**\u001b[0m\u001b[0mkwargs\u001b[0m\u001b[0;34m)\u001b[0m\u001b[0;34m\u001b[0m\u001b[0;34m\u001b[0m\u001b[0m\n\u001b[0m\u001b[1;32m    122\u001b[0m             \u001b[0;32mexcept\u001b[0m \u001b[0mold_exceptions\u001b[0m \u001b[0;32mas\u001b[0m \u001b[0merr\u001b[0m\u001b[0;34m:\u001b[0m\u001b[0;34m\u001b[0m\u001b[0;34m\u001b[0m\u001b[0m\n\u001b[1;32m    123\u001b[0m                 \u001b[0;32mtry\u001b[0m\u001b[0;34m:\u001b[0m\u001b[0;34m\u001b[0m\u001b[0;34m\u001b[0m\u001b[0m\n",
            "\u001b[0;32m/usr/local/lib/python3.11/dist-packages/eth_tester/backends/pyevm/main.py\u001b[0m in \u001b[0;36mestimate_gas\u001b[0;34m(self, transaction, block_number)\u001b[0m\n\u001b[1;32m    842\u001b[0m \u001b[0;34m\u001b[0m\u001b[0m\n\u001b[1;32m    843\u001b[0m         \u001b[0;32mif\u001b[0m \u001b[0mblock_number\u001b[0m \u001b[0;32min\u001b[0m \u001b[0;34m(\u001b[0m\u001b[0;34m\"latest\"\u001b[0m\u001b[0;34m,\u001b[0m \u001b[0;34m\"safe\"\u001b[0m\u001b[0;34m,\u001b[0m \u001b[0;34m\"finalized\"\u001b[0m\u001b[0;34m)\u001b[0m\u001b[0;34m:\u001b[0m\u001b[0;34m\u001b[0m\u001b[0;34m\u001b[0m\u001b[0m\n\u001b[0;32m--> 844\u001b[0;31m             \u001b[0;32mreturn\u001b[0m \u001b[0mself\u001b[0m\u001b[0;34m.\u001b[0m\u001b[0mchain\u001b[0m\u001b[0;34m.\u001b[0m\u001b[0mestimate_gas\u001b[0m\u001b[0;34m(\u001b[0m\u001b[0mspoofed_transaction\u001b[0m\u001b[0;34m)\u001b[0m\u001b[0;34m\u001b[0m\u001b[0;34m\u001b[0m\u001b[0m\n\u001b[0m\u001b[1;32m    845\u001b[0m         \u001b[0;32melif\u001b[0m \u001b[0mblock_number\u001b[0m \u001b[0;34m==\u001b[0m \u001b[0;34m\"earliest\"\u001b[0m\u001b[0;34m:\u001b[0m\u001b[0;34m\u001b[0m\u001b[0;34m\u001b[0m\u001b[0m\n\u001b[1;32m    846\u001b[0m             return self.chain.estimate_gas(\n",
            "\u001b[0;32m/usr/local/lib/python3.11/dist-packages/eth/chains/base.py\u001b[0m in \u001b[0;36mestimate_gas\u001b[0;34m(self, transaction, at_header)\u001b[0m\n\u001b[1;32m    489\u001b[0m             \u001b[0mat_header\u001b[0m \u001b[0;34m=\u001b[0m \u001b[0mself\u001b[0m\u001b[0;34m.\u001b[0m\u001b[0mget_canonical_head\u001b[0m\u001b[0;34m(\u001b[0m\u001b[0;34m)\u001b[0m\u001b[0;34m\u001b[0m\u001b[0;34m\u001b[0m\u001b[0m\n\u001b[1;32m    490\u001b[0m         \u001b[0;32mwith\u001b[0m \u001b[0mself\u001b[0m\u001b[0;34m.\u001b[0m\u001b[0mget_vm\u001b[0m\u001b[0;34m(\u001b[0m\u001b[0mat_header\u001b[0m\u001b[0;34m)\u001b[0m\u001b[0;34m.\u001b[0m\u001b[0min_costless_state\u001b[0m\u001b[0;34m(\u001b[0m\u001b[0;34m)\u001b[0m \u001b[0;32mas\u001b[0m \u001b[0mstate\u001b[0m\u001b[0;34m:\u001b[0m\u001b[0;34m\u001b[0m\u001b[0;34m\u001b[0m\u001b[0m\n\u001b[0;32m--> 491\u001b[0;31m             \u001b[0;32mreturn\u001b[0m \u001b[0mself\u001b[0m\u001b[0;34m.\u001b[0m\u001b[0mgas_estimator\u001b[0m\u001b[0;34m(\u001b[0m\u001b[0mstate\u001b[0m\u001b[0;34m,\u001b[0m \u001b[0mtransaction\u001b[0m\u001b[0;34m)\u001b[0m\u001b[0;34m\u001b[0m\u001b[0;34m\u001b[0m\u001b[0m\n\u001b[0m\u001b[1;32m    492\u001b[0m \u001b[0;34m\u001b[0m\u001b[0m\n\u001b[1;32m    493\u001b[0m     def import_block(\n",
            "\u001b[0;32m/usr/local/lib/python3.11/dist-packages/cytoolz/functoolz.pyx\u001b[0m in \u001b[0;36mcytoolz.functoolz.curry.__call__\u001b[0;34m()\u001b[0m\n",
            "\u001b[0;32m/usr/local/lib/python3.11/dist-packages/eth/estimators/gas.py\u001b[0m in \u001b[0;36mbinary_gas_search\u001b[0;34m(state, transaction, tolerance)\u001b[0m\n\u001b[1;32m     74\u001b[0m     )\n\u001b[1;32m     75\u001b[0m \u001b[0;34m\u001b[0m\u001b[0m\n\u001b[0;32m---> 76\u001b[0;31m     \u001b[0;32mif\u001b[0m \u001b[0m_get_computation_error\u001b[0m\u001b[0;34m(\u001b[0m\u001b[0mstate\u001b[0m\u001b[0;34m,\u001b[0m \u001b[0mminimum_transaction\u001b[0m\u001b[0;34m)\u001b[0m \u001b[0;32mis\u001b[0m \u001b[0;32mNone\u001b[0m\u001b[0;34m:\u001b[0m\u001b[0;34m\u001b[0m\u001b[0;34m\u001b[0m\u001b[0m\n\u001b[0m\u001b[1;32m     77\u001b[0m         \u001b[0;32mreturn\u001b[0m \u001b[0mtransaction\u001b[0m\u001b[0;34m.\u001b[0m\u001b[0mintrinsic_gas\u001b[0m\u001b[0;34m\u001b[0m\u001b[0;34m\u001b[0m\u001b[0m\n\u001b[1;32m     78\u001b[0m \u001b[0;34m\u001b[0m\u001b[0m\n",
            "\u001b[0;32m/usr/local/lib/python3.11/dist-packages/eth/estimators/gas.py\u001b[0m in \u001b[0;36m_get_computation_error\u001b[0;34m(state, transaction)\u001b[0m\n\u001b[1;32m     26\u001b[0m \u001b[0;34m\u001b[0m\u001b[0m\n\u001b[1;32m     27\u001b[0m     \u001b[0;32mtry\u001b[0m\u001b[0;34m:\u001b[0m\u001b[0;34m\u001b[0m\u001b[0;34m\u001b[0m\u001b[0m\n\u001b[0;32m---> 28\u001b[0;31m         \u001b[0mcomputation\u001b[0m \u001b[0;34m=\u001b[0m \u001b[0mstate\u001b[0m\u001b[0;34m.\u001b[0m\u001b[0mapply_transaction\u001b[0m\u001b[0;34m(\u001b[0m\u001b[0mtransaction\u001b[0m\u001b[0;34m)\u001b[0m\u001b[0;34m\u001b[0m\u001b[0;34m\u001b[0m\u001b[0m\n\u001b[0m\u001b[1;32m     29\u001b[0m         \u001b[0;32mif\u001b[0m \u001b[0mcomputation\u001b[0m\u001b[0;34m.\u001b[0m\u001b[0mis_error\u001b[0m\u001b[0;34m:\u001b[0m\u001b[0;34m\u001b[0m\u001b[0;34m\u001b[0m\u001b[0m\n\u001b[1;32m     30\u001b[0m             \u001b[0;32mreturn\u001b[0m \u001b[0mcomputation\u001b[0m\u001b[0;34m.\u001b[0m\u001b[0merror\u001b[0m\u001b[0;34m\u001b[0m\u001b[0;34m\u001b[0m\u001b[0m\n",
            "\u001b[0;32m/usr/local/lib/python3.11/dist-packages/eth/vm/forks/frontier/state.py\u001b[0m in \u001b[0;36mapply_transaction\u001b[0;34m(self, transaction)\u001b[0m\n\u001b[1;32m    221\u001b[0m     \u001b[0;32mdef\u001b[0m \u001b[0mapply_transaction\u001b[0m\u001b[0;34m(\u001b[0m\u001b[0mself\u001b[0m\u001b[0;34m,\u001b[0m \u001b[0mtransaction\u001b[0m\u001b[0;34m:\u001b[0m \u001b[0mSignedTransactionAPI\u001b[0m\u001b[0;34m)\u001b[0m \u001b[0;34m->\u001b[0m \u001b[0mComputationAPI\u001b[0m\u001b[0;34m:\u001b[0m\u001b[0;34m\u001b[0m\u001b[0;34m\u001b[0m\u001b[0m\n\u001b[1;32m    222\u001b[0m         \u001b[0mexecutor\u001b[0m \u001b[0;34m=\u001b[0m \u001b[0mself\u001b[0m\u001b[0;34m.\u001b[0m\u001b[0mget_transaction_executor\u001b[0m\u001b[0;34m(\u001b[0m\u001b[0;34m)\u001b[0m\u001b[0;34m\u001b[0m\u001b[0;34m\u001b[0m\u001b[0m\n\u001b[0;32m--> 223\u001b[0;31m         \u001b[0;32mreturn\u001b[0m \u001b[0mexecutor\u001b[0m\u001b[0;34m(\u001b[0m\u001b[0mtransaction\u001b[0m\u001b[0;34m)\u001b[0m\u001b[0;34m\u001b[0m\u001b[0;34m\u001b[0m\u001b[0m\n\u001b[0m\u001b[1;32m    224\u001b[0m \u001b[0;34m\u001b[0m\u001b[0m\n\u001b[1;32m    225\u001b[0m     \u001b[0;32mdef\u001b[0m \u001b[0mvalidate_transaction\u001b[0m\u001b[0;34m(\u001b[0m\u001b[0mself\u001b[0m\u001b[0;34m,\u001b[0m \u001b[0mtransaction\u001b[0m\u001b[0;34m:\u001b[0m \u001b[0mSignedTransactionAPI\u001b[0m\u001b[0;34m)\u001b[0m \u001b[0;34m->\u001b[0m \u001b[0;32mNone\u001b[0m\u001b[0;34m:\u001b[0m\u001b[0;34m\u001b[0m\u001b[0;34m\u001b[0m\u001b[0m\n",
            "\u001b[0;32m/usr/local/lib/python3.11/dist-packages/eth/vm/forks/cancun/state.py\u001b[0m in \u001b[0;36m__call__\u001b[0;34m(self, *args, **kwargs)\u001b[0m\n\u001b[1;32m     92\u001b[0m \u001b[0;32mclass\u001b[0m \u001b[0mCancunTransactionExecutor\u001b[0m\u001b[0;34m(\u001b[0m\u001b[0mShanghaiTransactionExecutor\u001b[0m\u001b[0;34m)\u001b[0m\u001b[0;34m:\u001b[0m\u001b[0;34m\u001b[0m\u001b[0;34m\u001b[0m\u001b[0m\n\u001b[1;32m     93\u001b[0m     \u001b[0;32mdef\u001b[0m \u001b[0m__call__\u001b[0m\u001b[0;34m(\u001b[0m\u001b[0mself\u001b[0m\u001b[0;34m,\u001b[0m \u001b[0;34m*\u001b[0m\u001b[0margs\u001b[0m\u001b[0;34m:\u001b[0m \u001b[0mAny\u001b[0m\u001b[0;34m,\u001b[0m \u001b[0;34m**\u001b[0m\u001b[0mkwargs\u001b[0m\u001b[0;34m:\u001b[0m \u001b[0mAny\u001b[0m\u001b[0;34m)\u001b[0m \u001b[0;34m->\u001b[0m \u001b[0mComputationAPI\u001b[0m\u001b[0;34m:\u001b[0m\u001b[0;34m\u001b[0m\u001b[0;34m\u001b[0m\u001b[0m\n\u001b[0;32m---> 94\u001b[0;31m         \u001b[0mret\u001b[0m \u001b[0;34m=\u001b[0m \u001b[0msuper\u001b[0m\u001b[0;34m(\u001b[0m\u001b[0;34m)\u001b[0m\u001b[0;34m.\u001b[0m\u001b[0m__call__\u001b[0m\u001b[0;34m(\u001b[0m\u001b[0;34m*\u001b[0m\u001b[0margs\u001b[0m\u001b[0;34m,\u001b[0m \u001b[0;34m**\u001b[0m\u001b[0mkwargs\u001b[0m\u001b[0;34m)\u001b[0m\u001b[0;34m\u001b[0m\u001b[0;34m\u001b[0m\u001b[0m\n\u001b[0m\u001b[1;32m     95\u001b[0m         \u001b[0mself\u001b[0m\u001b[0;34m.\u001b[0m\u001b[0mvm_state\u001b[0m\u001b[0;34m.\u001b[0m\u001b[0mclear_transient_storage\u001b[0m\u001b[0;34m(\u001b[0m\u001b[0;34m)\u001b[0m\u001b[0;34m\u001b[0m\u001b[0;34m\u001b[0m\u001b[0m\n\u001b[1;32m     96\u001b[0m         \u001b[0;32mreturn\u001b[0m \u001b[0mret\u001b[0m\u001b[0;34m\u001b[0m\u001b[0;34m\u001b[0m\u001b[0m\n",
            "\u001b[0;32m/usr/local/lib/python3.11/dist-packages/eth/vm/state.py\u001b[0m in \u001b[0;36m__call__\u001b[0;34m(self, transaction)\u001b[0m\n\u001b[1;32m    341\u001b[0m \u001b[0;34m\u001b[0m\u001b[0m\n\u001b[1;32m    342\u001b[0m     \u001b[0;32mdef\u001b[0m \u001b[0m__call__\u001b[0m\u001b[0;34m(\u001b[0m\u001b[0mself\u001b[0m\u001b[0;34m,\u001b[0m \u001b[0mtransaction\u001b[0m\u001b[0;34m:\u001b[0m \u001b[0mSignedTransactionAPI\u001b[0m\u001b[0;34m)\u001b[0m \u001b[0;34m->\u001b[0m \u001b[0mComputationAPI\u001b[0m\u001b[0;34m:\u001b[0m\u001b[0;34m\u001b[0m\u001b[0;34m\u001b[0m\u001b[0m\n\u001b[0;32m--> 343\u001b[0;31m         \u001b[0mself\u001b[0m\u001b[0;34m.\u001b[0m\u001b[0mvalidate_transaction\u001b[0m\u001b[0;34m(\u001b[0m\u001b[0mtransaction\u001b[0m\u001b[0;34m)\u001b[0m\u001b[0;34m\u001b[0m\u001b[0;34m\u001b[0m\u001b[0m\n\u001b[0m\u001b[1;32m    344\u001b[0m         \u001b[0mmessage\u001b[0m \u001b[0;34m=\u001b[0m \u001b[0mself\u001b[0m\u001b[0;34m.\u001b[0m\u001b[0mbuild_evm_message\u001b[0m\u001b[0;34m(\u001b[0m\u001b[0mtransaction\u001b[0m\u001b[0;34m)\u001b[0m\u001b[0;34m\u001b[0m\u001b[0;34m\u001b[0m\u001b[0m\n\u001b[1;32m    345\u001b[0m         \u001b[0mcomputation\u001b[0m \u001b[0;34m=\u001b[0m \u001b[0mself\u001b[0m\u001b[0;34m.\u001b[0m\u001b[0mbuild_computation\u001b[0m\u001b[0;34m(\u001b[0m\u001b[0mmessage\u001b[0m\u001b[0;34m,\u001b[0m \u001b[0mtransaction\u001b[0m\u001b[0;34m)\u001b[0m\u001b[0;34m\u001b[0m\u001b[0;34m\u001b[0m\u001b[0m\n",
            "\u001b[0;32m/usr/local/lib/python3.11/dist-packages/eth/vm/forks/frontier/state.py\u001b[0m in \u001b[0;36mvalidate_transaction\u001b[0;34m(self, transaction)\u001b[0m\n\u001b[1;32m     63\u001b[0m         \u001b[0;31m# Validate the transaction\u001b[0m\u001b[0;34m\u001b[0m\u001b[0;34m\u001b[0m\u001b[0m\n\u001b[1;32m     64\u001b[0m         \u001b[0mtransaction\u001b[0m\u001b[0;34m.\u001b[0m\u001b[0mvalidate\u001b[0m\u001b[0;34m(\u001b[0m\u001b[0;34m)\u001b[0m\u001b[0;34m\u001b[0m\u001b[0;34m\u001b[0m\u001b[0m\n\u001b[0;32m---> 65\u001b[0;31m         \u001b[0mself\u001b[0m\u001b[0;34m.\u001b[0m\u001b[0mvm_state\u001b[0m\u001b[0;34m.\u001b[0m\u001b[0mvalidate_transaction\u001b[0m\u001b[0;34m(\u001b[0m\u001b[0mtransaction\u001b[0m\u001b[0;34m)\u001b[0m\u001b[0;34m\u001b[0m\u001b[0;34m\u001b[0m\u001b[0m\n\u001b[0m\u001b[1;32m     66\u001b[0m \u001b[0;34m\u001b[0m\u001b[0m\n\u001b[1;32m     67\u001b[0m     \u001b[0;32mdef\u001b[0m \u001b[0mbuild_evm_message\u001b[0m\u001b[0;34m(\u001b[0m\u001b[0mself\u001b[0m\u001b[0;34m,\u001b[0m \u001b[0mtransaction\u001b[0m\u001b[0;34m:\u001b[0m \u001b[0mSignedTransactionAPI\u001b[0m\u001b[0;34m)\u001b[0m \u001b[0;34m->\u001b[0m \u001b[0mMessageAPI\u001b[0m\u001b[0;34m:\u001b[0m\u001b[0;34m\u001b[0m\u001b[0;34m\u001b[0m\u001b[0m\n",
            "\u001b[0;32m/usr/local/lib/python3.11/dist-packages/eth/vm/forks/cancun/state.py\u001b[0m in \u001b[0;36mvalidate_transaction\u001b[0;34m(self, transaction)\u001b[0m\n\u001b[1;32m    201\u001b[0m \u001b[0;34m\u001b[0m\u001b[0m\n\u001b[1;32m    202\u001b[0m     \u001b[0;32mdef\u001b[0m \u001b[0mvalidate_transaction\u001b[0m\u001b[0;34m(\u001b[0m\u001b[0mself\u001b[0m\u001b[0;34m,\u001b[0m \u001b[0mtransaction\u001b[0m\u001b[0;34m:\u001b[0m \u001b[0mSignedTransactionAPI\u001b[0m\u001b[0;34m)\u001b[0m \u001b[0;34m->\u001b[0m \u001b[0;32mNone\u001b[0m\u001b[0;34m:\u001b[0m\u001b[0;34m\u001b[0m\u001b[0;34m\u001b[0m\u001b[0m\n\u001b[0;32m--> 203\u001b[0;31m         \u001b[0msuper\u001b[0m\u001b[0;34m(\u001b[0m\u001b[0;34m)\u001b[0m\u001b[0;34m.\u001b[0m\u001b[0mvalidate_transaction\u001b[0m\u001b[0;34m(\u001b[0m\u001b[0mtransaction\u001b[0m\u001b[0;34m)\u001b[0m\u001b[0;34m\u001b[0m\u001b[0;34m\u001b[0m\u001b[0m\n\u001b[0m\u001b[1;32m    204\u001b[0m \u001b[0;34m\u001b[0m\u001b[0m\n\u001b[1;32m    205\u001b[0m         \u001b[0;31m# modify the check for sufficient balance\u001b[0m\u001b[0;34m\u001b[0m\u001b[0;34m\u001b[0m\u001b[0m\n",
            "\u001b[0;32m/usr/local/lib/python3.11/dist-packages/eth/vm/forks/london/state.py\u001b[0m in \u001b[0;36mvalidate_transaction\u001b[0;34m(self, transaction)\u001b[0m\n\u001b[1;32m    120\u001b[0m \u001b[0;34m\u001b[0m\u001b[0m\n\u001b[1;32m    121\u001b[0m     \u001b[0;32mdef\u001b[0m \u001b[0mvalidate_transaction\u001b[0m\u001b[0;34m(\u001b[0m\u001b[0mself\u001b[0m\u001b[0;34m,\u001b[0m \u001b[0mtransaction\u001b[0m\u001b[0;34m:\u001b[0m \u001b[0mSignedTransactionAPI\u001b[0m\u001b[0;34m)\u001b[0m \u001b[0;34m->\u001b[0m \u001b[0;32mNone\u001b[0m\u001b[0;34m:\u001b[0m\u001b[0;34m\u001b[0m\u001b[0;34m\u001b[0m\u001b[0m\n\u001b[0;32m--> 122\u001b[0;31m         validate_london_normalized_transaction(\n\u001b[0m\u001b[1;32m    123\u001b[0m             \u001b[0mstate\u001b[0m\u001b[0;34m=\u001b[0m\u001b[0mself\u001b[0m\u001b[0;34m,\u001b[0m\u001b[0;34m\u001b[0m\u001b[0;34m\u001b[0m\u001b[0m\n\u001b[1;32m    124\u001b[0m             \u001b[0mtransaction\u001b[0m\u001b[0;34m=\u001b[0m\u001b[0mtransaction\u001b[0m\u001b[0;34m,\u001b[0m\u001b[0;34m\u001b[0m\u001b[0;34m\u001b[0m\u001b[0m\n",
            "\u001b[0;32m/usr/local/lib/python3.11/dist-packages/eth/vm/forks/london/validation.py\u001b[0m in \u001b[0;36mvalidate_london_normalized_transaction\u001b[0;34m(state, transaction)\u001b[0m\n\u001b[1;32m     29\u001b[0m         )\n\u001b[1;32m     30\u001b[0m \u001b[0;34m\u001b[0m\u001b[0m\n\u001b[0;32m---> 31\u001b[0;31m     \u001b[0mvalidate_homestead_transaction\u001b[0m\u001b[0;34m(\u001b[0m\u001b[0mstate\u001b[0m\u001b[0;34m,\u001b[0m \u001b[0mtransaction\u001b[0m\u001b[0;34m)\u001b[0m\u001b[0;34m\u001b[0m\u001b[0;34m\u001b[0m\u001b[0m\n\u001b[0m",
            "\u001b[0;32m/usr/local/lib/python3.11/dist-packages/eth/vm/forks/homestead/validation.py\u001b[0m in \u001b[0;36mvalidate_homestead_transaction\u001b[0;34m(state, transaction)\u001b[0m\n\u001b[1;32m     21\u001b[0m         \u001b[0;32mraise\u001b[0m \u001b[0mValidationError\u001b[0m\u001b[0;34m(\u001b[0m\u001b[0;34m\"Invalid signature S value\"\u001b[0m\u001b[0;34m)\u001b[0m\u001b[0;34m\u001b[0m\u001b[0;34m\u001b[0m\u001b[0m\n\u001b[1;32m     22\u001b[0m \u001b[0;34m\u001b[0m\u001b[0m\n\u001b[0;32m---> 23\u001b[0;31m     \u001b[0mvalidate_frontier_transaction\u001b[0m\u001b[0;34m(\u001b[0m\u001b[0mstate\u001b[0m\u001b[0;34m,\u001b[0m \u001b[0mtransaction\u001b[0m\u001b[0;34m)\u001b[0m\u001b[0;34m\u001b[0m\u001b[0;34m\u001b[0m\u001b[0m\n\u001b[0m",
            "\u001b[0;32m/usr/local/lib/python3.11/dist-packages/eth/vm/forks/frontier/validation.py\u001b[0m in \u001b[0;36mvalidate_frontier_transaction\u001b[0;34m(state, transaction)\u001b[0m\n\u001b[1;32m     26\u001b[0m \u001b[0;34m\u001b[0m\u001b[0m\n\u001b[1;32m     27\u001b[0m     \u001b[0;32mif\u001b[0m \u001b[0msender_balance\u001b[0m \u001b[0;34m<\u001b[0m \u001b[0mtotal_cost\u001b[0m\u001b[0;34m:\u001b[0m\u001b[0;34m\u001b[0m\u001b[0;34m\u001b[0m\u001b[0m\n\u001b[0;32m---> 28\u001b[0;31m         raise ValidationError(\n\u001b[0m\u001b[1;32m     29\u001b[0m             \u001b[0;34mf\"Sender does not have enough balance to cover transaction value and gas \"\u001b[0m\u001b[0;34m\u001b[0m\u001b[0;34m\u001b[0m\u001b[0m\n\u001b[1;32m     30\u001b[0m             \u001b[0;34mf\" (has {sender_balance}, needs {total_cost})\"\u001b[0m\u001b[0;34m\u001b[0m\u001b[0;34m\u001b[0m\u001b[0m\n",
            "\u001b[0;31mValidationError\u001b[0m: Sender does not have enough balance to cover transaction value and gas  (has 957999999979000000000000, needs 42000000000021000000000000)"
          ]
        }
      ]
    },
    {
      "cell_type": "markdown",
      "source": [
        "### A `ValidationError` results!\n",
        "\n",
        "The transaction does ***not*** succeed.\n",
        "\n",
        "Any transaction should use `try ... except ...` error-handling blocks in order to catch these potential errors.\n",
        "\n",
        "Let's see how this will work:"
      ],
      "metadata": {
        "id": "F-4k84brNl3J"
      }
    },
    {
      "cell_type": "code",
      "source": [
        "#\n",
        "# Let's create a single transaction for TOO MUCH ether\n",
        "#       Notice that the transaction is a dictionary\n",
        "#       It's created, sent to the chain, and a hash is returned:\n",
        "\n",
        "from eth_utils import ValidationError\n",
        "\n",
        "transaction = {                           # the transaction is a dictionary!\n",
        "    'from': w3.eth.accounts[3],           # from acct 3\n",
        "    'to': w3.eth.accounts[8],             # to acct 8\n",
        "    'value': w3.to_wei(42_000, 'ether')   # change this to/from 42 _million_ ether!\n",
        "}\n",
        "\n",
        "# now, we send the transaction to the blockchain -- with a TRY/EXCEPT error-handler\"\n",
        "try:\n",
        "    tx_hash = w3.eth.send_transaction(transaction)\n",
        "    # let's look at its resulting hash\n",
        "    print(\"Success!\\n\")\n",
        "    print(f\"The {tx_hash = }\")\n",
        "except ValidationError as e:\n",
        "    print(\"Transaction failed: Insufficient funds.   This time we've _caught_ this exception. [[ Everything is fine... Nothing to see here... ]] \\n\")\n",
        "    print(f\"Here is the full ValidationError:\\n    {e}\")\n",
        "\n"
      ],
      "metadata": {
        "id": "BiLbis78N5os",
        "colab": {
          "base_uri": "https://localhost:8080/"
        },
        "outputId": "b2c42dd9-d453-4036-902c-7e90a0d03766"
      },
      "execution_count": 65,
      "outputs": [
        {
          "output_type": "stream",
          "name": "stdout",
          "text": [
            "Success!\n",
            "\n",
            "The tx_hash = HexBytes('0x80f5636e7ee599c8f4f114c23ac18ebf5529ad9cb3709c750b4d14e949219ce8')\n"
          ]
        }
      ]
    },
    {
      "cell_type": "markdown",
      "source": [
        "## <b><font color=\"DodgerBlue\">Challenge #4</font></b> &nbsp;&nbsp; A bustling  marketplace...\n",
        "\n",
        "<b><font color=\"Coral\">Task</font></b> &nbsp;&nbsp;  Use the example, above,  -- and any AI help you might want -- to create functions and cells that\n",
        "+ run <tt>N</tt> transactions, perhaps once every 2-3 seconds\n",
        "+ print what's running , e.g., \"Account 3 is sending 42,042 ether to Account 8\"\n",
        "+ uses random amounts (you choose the span that's ok)\n",
        "+ uses random accounts (you choose how to handle this randomness)\n",
        "\n",
        "<br><br>\n",
        "\n",
        "<b><font color=\"Coral\">Task 2</font></b> &nbsp;&nbsp;  Run your marketplace a small number of times, e.g., 10 transactions, and print the slate of account values at the end, <i>including the total across all of the accounts</i>.\n",
        "+ How much gas has been used, across all of the accounts?\n",
        "+ What are the <i>variance</i> and <i>inequality</i> (as measured by the <i>gini coefficient</i>) across all of the accounts?\n",
        "\n",
        "<br><br>\n",
        "\n",
        "<b><font color=\"Coral\">Task 3</font></b> &nbsp;&nbsp;  Run the same marketplace, but now for ***lots*** of transactions. Again, include the resulting account balances, the amount of gas used (total), and the measure of inequality -- which should be the <i>gini inequality</i> or <i>gini coefficient</i>  -- of the result. <br> <font size=\"-2\">How to implement  Gini inequality? Feel free to use AI or [Wikipedia](https://en.wikipedia.org/wiki/Gini_coefficient), which is probably what the AI will have used!</font>\n",
        "\n",
        "This time, add one more capability to your marketplace:\n",
        "+ when an account tries to overspend, it spends all it has and then stops spending (it doesn't crash!)\n",
        "+ one way to do this is to keep a list of the <i>insolvent</i> accounts, starting with the empty list `[ ]`\n",
        "+ Then, when an account tries to overspend, the transaction will be denied, but it would then go onto the insolvent list -- and will be ignored from then on.\n",
        "+ equivalently, you could start with a list of <i>solvent</i> accounts and then remove accounts from it when they first try to overspend...\n",
        "\n",
        "<br><br>\n",
        "\n",
        "<b><font color=\"Coral\"><u>Finale</u>: &nbsp; The Tontine</font></b> &nbsp;&nbsp;  Run the same marketplace, but now until there is only one account with positive balance...  This time, the questions are slightly different:\n",
        "+ how many \"generations\" did it take until one account\n",
        "+ for each generation, measure and remember the inequality-measure across all 10 accounts (for example, into a list)\n",
        "+ ***create a plot*** of the balances from the start until the Tontine is won.\n",
        "+ also, ***create a plot of the Gini inequality/coefficient*** across that time...\n",
        "\n",
        "You should adapt <i>how much</i> the accounts decide to exchange, so that this is both interesting and not too slow.\n",
        "\n",
        "<br>\n",
        "\n",
        "<b><font color=\"DodgerBlue\"><u>Reflection</u></font></b>: &nbsp; **Share your thoughts** on how this programming-and-simulation challenge went -- if you used AI, share how useful (or not) that was. This can be in a new text cell or in comments accompanying your executable cells...\n",
        "\n",
        "<br><br>\n",
        "<br><br>\n",
        "\n",
        "<hr>\n",
        "<br>"
      ],
      "metadata": {
        "id": "9jnW4_SKFa7Y"
      }
    },
    {
      "cell_type": "code",
      "source": [
        "import random\n",
        "import time\n",
        "import numpy as np\n",
        "import matplotlib.pyplot as plt\n",
        "from web3 import Web3\n",
        "\n",
        "provider = Web3.EthereumTesterProvider()\n",
        "w3 = Web3(provider)\n",
        "\n",
        "def gini_coefficient(balances):\n",
        "    balances = np.array(balances)\n",
        "    n = len(balances)\n",
        "    if n == 0:\n",
        "        return 0\n",
        "    diff_sum = 0\n",
        "    for i in range(n):\n",
        "        for j in range(n):\n",
        "            diff_sum += abs(balances[i] - balances[j])\n",
        "    return diff_sum / (2 * n * np.sum(balances))\n",
        "\n",
        "\n",
        "def run_marketplace(num_transactions, delay_seconds=None):\n",
        "    solvent_accounts = w3.eth.accounts.copy()\n",
        "    gas_used_total = 0\n",
        "    gini_history = []\n",
        "\n",
        "    for i in range(num_transactions):\n",
        "        if len(solvent_accounts) < 2:\n",
        "            break\n",
        "\n",
        "        sender, receiver = random.sample(solvent_accounts, 2)\n",
        "\n",
        "        sender_balance = w3.eth.get_balance(sender)\n",
        "        amount = random.randint(1, int(0.1 * sender_balance))\n",
        "\n",
        "        print(f\"Transaction {i+1}: Account {w3.eth.accounts.index(sender)} sending {Web3.from_wei(amount, 'ether'):.2f} ETH to Account {w3.eth.accounts.index(receiver)}\")\n",
        "\n",
        "        try:\n",
        "            tx_hash = w3.eth.send_transaction({\n",
        "                'from': sender,\n",
        "                'to': receiver,\n",
        "                'value': amount,\n",
        "                'gas': 21000\n",
        "            })\n",
        "\n",
        "            receipt = w3.eth.get_transaction_receipt(tx_hash)\n",
        "            gas_used_total += receipt['gasUsed']\n",
        "\n",
        "        except Exception as e:\n",
        "            print(f\"Transaction failed: {e}\")\n",
        "            solvent_accounts.remove(sender)\n",
        "            continue\n",
        "\n",
        "        if delay_seconds is not None:\n",
        "            time.sleep(delay_seconds)\n",
        "\n",
        "        if i % 10 == 0:\n",
        "            balances = [w3.eth.get_balance(acc) for acc in w3.eth.accounts]\n",
        "            gini = gini_coefficient(balances)\n",
        "            gini_history.append(gini)\n",
        "\n",
        "    print(\"\\nFinal Balances:\")\n",
        "    total = 0\n",
        "    balances = []\n",
        "    for i, account in enumerate(w3.eth.accounts):\n",
        "        balance = w3.eth.get_balance(account)\n",
        "        eth_balance = Web3.from_wei(balance, 'ether')\n",
        "        balances.append(eth_balance)\n",
        "        total += eth_balance\n",
        "        print(f\"Account {i}: {eth_balance:.2f} ETH\")\n",
        "\n",
        "    print(f\"\\nTotal ETH: {total:.2f}\")\n",
        "    print(f\"Total Gas Used: {gas_used_total}\")\n",
        "    print(f\"Final Gini Coefficient: {gini_coefficient(balances):.4f}\")\n",
        "\n",
        "    return gini_history\n",
        "\n",
        "gini_history_10 = run_marketplace(10, delay_seconds=2)\n",
        "\n",
        "gini_history_100 = run_marketplace(100, delay_seconds=0.001)\n",
        "\n",
        "plt.figure(figsize=(10, 5))\n",
        "plt.plot(gini_history_100)\n",
        "plt.title(\"Gini Coefficient Over 100 Transactions\")\n",
        "plt.xlabel(\"Transaction Batch (every 10 tx)\")\n",
        "plt.ylabel(\"Gini Coefficient\")\n",
        "plt.grid()\n",
        "plt.show()"
      ],
      "metadata": {
        "colab": {
          "base_uri": "https://localhost:8080/",
          "height": 1000
        },
        "id": "nuHKQwNnyfJq",
        "outputId": "8d4454ce-dd17-4eeb-ad47-f3572554c12b"
      },
      "execution_count": 66,
      "outputs": [
        {
          "output_type": "stream",
          "name": "stderr",
          "text": [
            "<frozen importlib._bootstrap>:1047: ImportWarning: _PyDriveImportHook.find_spec() not found; falling back to find_module()\n",
            "<frozen importlib._bootstrap>:1047: ImportWarning: _BokehImportHook.find_spec() not found; falling back to find_module()\n"
          ]
        },
        {
          "output_type": "stream",
          "name": "stdout",
          "text": [
            "Transaction 1: Account 5 sending 42139.20 ETH to Account 9\n",
            "Transaction 2: Account 8 sending 76139.19 ETH to Account 0\n",
            "Transaction 3: Account 9 sending 18506.91 ETH to Account 0\n",
            "Transaction 4: Account 0 sending 43972.42 ETH to Account 6\n",
            "Transaction 5: Account 6 sending 6198.64 ETH to Account 4\n",
            "Transaction 6: Account 1 sending 79957.93 ETH to Account 4\n",
            "Transaction 7: Account 7 sending 52089.00 ETH to Account 4\n",
            "Transaction 8: Account 7 sending 7147.66 ETH to Account 2\n",
            "Transaction 9: Account 5 sending 32451.15 ETH to Account 6\n",
            "Transaction 10: Account 0 sending 74867.14 ETH to Account 9\n",
            "\n",
            "Final Balances:\n",
            "Account 0: 975806.55 ETH\n",
            "Account 1: 920042.07 ETH\n",
            "Account 2: 1007147.66 ETH\n",
            "Account 3: 1000000.00 ETH\n",
            "Account 4: 1138245.56 ETH\n",
            "Account 5: 925409.65 ETH\n",
            "Account 6: 1070224.93 ETH\n",
            "Account 7: 940763.34 ETH\n",
            "Account 8: 923860.81 ETH\n",
            "Account 9: 1098499.43 ETH\n",
            "\n",
            "Total ETH: 10000000.00\n",
            "Total Gas Used: 210000\n",
            "Final Gini Coefficient: 0.0413\n",
            "Transaction 1: Account 5 sending 79732.86 ETH to Account 6\n",
            "Transaction 2: Account 0 sending 87525.25 ETH to Account 4\n",
            "Transaction 3: Account 6 sending 93310.41 ETH to Account 3\n",
            "Transaction 4: Account 7 sending 1625.35 ETH to Account 8\n",
            "Transaction 5: Account 8 sending 48024.38 ETH to Account 9\n",
            "Transaction 6: Account 1 sending 44116.70 ETH to Account 7\n",
            "Transaction 7: Account 8 sending 12765.33 ETH to Account 5\n",
            "Transaction 8: Account 5 sending 35765.60 ETH to Account 7\n",
            "Transaction 9: Account 3 sending 104852.55 ETH to Account 9\n",
            "Transaction 10: Account 7 sending 27194.34 ETH to Account 0\n",
            "Transaction 11: Account 3 sending 55062.58 ETH to Account 2\n",
            "Transaction 12: Account 0 sending 55604.78 ETH to Account 2\n",
            "Transaction 13: Account 7 sending 41096.82 ETH to Account 8\n",
            "Transaction 14: Account 8 sending 51056.74 ETH to Account 5\n",
            "Transaction 15: Account 9 sending 61895.24 ETH to Account 2\n",
            "Transaction 16: Account 6 sending 13255.22 ETH to Account 0\n",
            "Transaction 17: Account 9 sending 66802.48 ETH to Account 2\n",
            "Transaction 18: Account 4 sending 26518.11 ETH to Account 5\n",
            "Transaction 19: Account 5 sending 49630.99 ETH to Account 9\n",
            "Transaction 20: Account 3 sending 30199.63 ETH to Account 6\n",
            "Transaction 21: Account 7 sending 37340.39 ETH to Account 0\n",
            "Transaction 22: Account 4 sending 86736.86 ETH to Account 0\n",
            "Transaction 23: Account 9 sending 23366.68 ETH to Account 6\n",
            "Transaction 24: Account 9 sending 82556.45 ETH to Account 0\n",
            "Transaction 25: Account 8 sending 41222.32 ETH to Account 5\n",
            "Transaction 26: Account 9 sending 21962.32 ETH to Account 1\n",
            "Transaction 27: Account 3 sending 52177.57 ETH to Account 5\n",
            "Transaction 28: Account 2 sending 1447.15 ETH to Account 4\n",
            "Transaction 29: Account 0 sending 102869.39 ETH to Account 5\n",
            "Transaction 30: Account 4 sending 58117.79 ETH to Account 3\n",
            "Transaction 31: Account 4 sending 2638.57 ETH to Account 2\n",
            "Transaction 32: Account 7 sending 23108.66 ETH to Account 9\n",
            "Transaction 33: Account 0 sending 46101.37 ETH to Account 1\n",
            "Transaction 34: Account 8 sending 26820.38 ETH to Account 6\n",
            "Transaction 35: Account 2 sending 109332.66 ETH to Account 7\n",
            "Transaction 36: Account 2 sending 33549.52 ETH to Account 1\n",
            "Transaction 37: Account 7 sending 41581.95 ETH to Account 5\n",
            "Transaction 38: Account 0 sending 32232.71 ETH to Account 7\n",
            "Transaction 39: Account 0 sending 29245.48 ETH to Account 1\n",
            "Transaction 40: Account 0 sending 76008.15 ETH to Account 4\n",
            "Transaction 41: Account 8 sending 34780.98 ETH to Account 4\n",
            "Transaction 42: Account 3 sending 3829.88 ETH to Account 4\n",
            "Transaction 43: Account 6 sending 94597.59 ETH to Account 9\n",
            "Transaction 44: Account 4 sending 110898.73 ETH to Account 2\n",
            "Transaction 45: Account 7 sending 36723.79 ETH to Account 6\n",
            "Transaction 46: Account 2 sending 115993.30 ETH to Account 0\n",
            "Transaction 47: Account 1 sending 21252.55 ETH to Account 3\n",
            "Transaction 48: Account 4 sending 19611.72 ETH to Account 2\n",
            "Transaction 49: Account 8 sending 10686.03 ETH to Account 7\n",
            "Transaction 50: Account 6 sending 18185.51 ETH to Account 4\n",
            "Transaction 51: Account 0 sending 57648.48 ETH to Account 8\n",
            "Transaction 52: Account 6 sending 94155.10 ETH to Account 2\n",
            "Transaction 53: Account 2 sending 76020.51 ETH to Account 1\n",
            "Transaction 54: Account 9 sending 71167.84 ETH to Account 5\n",
            "Transaction 55: Account 9 sending 70259.84 ETH to Account 6\n",
            "Transaction 56: Account 3 sending 54779.69 ETH to Account 4\n",
            "Transaction 57: Account 7 sending 80517.12 ETH to Account 1\n",
            "Transaction 58: Account 1 sending 99879.37 ETH to Account 9\n",
            "Transaction 59: Account 4 sending 100880.58 ETH to Account 8\n",
            "Transaction 60: Account 2 sending 18865.07 ETH to Account 5\n",
            "Transaction 61: Account 2 sending 71750.67 ETH to Account 8\n",
            "Transaction 62: Account 2 sending 49313.16 ETH to Account 9\n",
            "Transaction 63: Account 6 sending 58702.49 ETH to Account 1\n",
            "Transaction 64: Account 5 sending 27557.90 ETH to Account 7\n",
            "Transaction 65: Account 7 sending 36925.70 ETH to Account 6\n",
            "Transaction 66: Account 5 sending 72354.68 ETH to Account 4\n",
            "Transaction 67: Account 0 sending 24089.17 ETH to Account 2\n",
            "Transaction 68: Account 7 sending 56287.98 ETH to Account 2\n",
            "Transaction 69: Account 9 sending 73838.11 ETH to Account 0\n",
            "Transaction 70: Account 9 sending 1830.13 ETH to Account 7\n",
            "Transaction 71: Account 7 sending 17074.24 ETH to Account 5\n",
            "Transaction 72: Account 3 sending 17250.35 ETH to Account 0\n",
            "Transaction 73: Account 6 sending 98333.28 ETH to Account 9\n",
            "Transaction 74: Account 3 sending 43526.89 ETH to Account 1\n",
            "Transaction 75: Account 6 sending 45658.74 ETH to Account 0\n",
            "Transaction 76: Account 5 sending 41480.14 ETH to Account 7\n",
            "Transaction 77: Account 4 sending 52185.90 ETH to Account 5\n",
            "Transaction 78: Account 7 sending 6259.23 ETH to Account 0\n",
            "Transaction 79: Account 8 sending 65114.64 ETH to Account 4\n",
            "Transaction 80: Account 4 sending 61693.37 ETH to Account 5\n",
            "Transaction 81: Account 1 sending 69063.99 ETH to Account 8\n",
            "Transaction 82: Account 7 sending 76608.23 ETH to Account 9\n",
            "Transaction 83: Account 8 sending 47286.99 ETH to Account 5\n",
            "Transaction 84: Account 3 sending 68567.87 ETH to Account 2\n",
            "Transaction 85: Account 2 sending 20302.77 ETH to Account 7\n",
            "Transaction 86: Account 2 sending 24923.61 ETH to Account 8\n",
            "Transaction 87: Account 0 sending 17357.17 ETH to Account 6\n",
            "Transaction 88: Account 1 sending 42031.17 ETH to Account 0\n",
            "Transaction 89: Account 3 sending 54240.39 ETH to Account 7\n",
            "Transaction 90: Account 0 sending 77169.69 ETH to Account 7\n",
            "Transaction 91: Account 8 sending 13291.32 ETH to Account 1\n",
            "Transaction 92: Account 9 sending 121174.39 ETH to Account 4\n",
            "Transaction 93: Account 6 sending 57346.59 ETH to Account 8\n",
            "Transaction 94: Account 6 sending 40307.43 ETH to Account 9\n",
            "Transaction 95: Account 8 sending 43195.98 ETH to Account 7\n",
            "Transaction 96: Account 3 sending 49621.45 ETH to Account 9\n",
            "Transaction 97: Account 7 sending 86582.95 ETH to Account 5\n",
            "Transaction 98: Account 4 sending 92860.01 ETH to Account 1\n",
            "Transaction 99: Account 6 sending 22183.18 ETH to Account 7\n",
            "Transaction 100: Account 7 sending 23709.17 ETH to Account 5\n",
            "\n",
            "Final Balances:\n",
            "Account 0: 918069.06 ETH\n",
            "Account 1: 1139475.33 ETH\n",
            "Account 2: 1101263.46 ETH\n",
            "Account 3: 638571.91 ETH\n",
            "Account 4: 1061304.22 ETH\n",
            "Account 5: 1325644.44 ETH\n",
            "Account 6: 755575.46 ETH\n",
            "Account 7: 868221.30 ETH\n",
            "Account 8: 953951.80 ETH\n",
            "Account 9: 1237923.03 ETH\n",
            "\n",
            "Total ETH: 10000000.00\n",
            "Total Gas Used: 2100000\n",
            "Final Gini Coefficient: 0.1157\n"
          ]
        },
        {
          "output_type": "display_data",
          "data": {
            "text/plain": [
              "<Figure size 1000x500 with 1 Axes>"
            ],
            "image/png": "[encoded data removed]"
          },
          "metadata": {}
        }
      ]
    },
    {
      "cell_type": "code",
      "source": [
        "import matplotlib.pyplot as plt\n",
        "import numpy as np\n",
        "import random\n",
        "from web3 import Web3\n",
        "\n",
        "def gini_coefficient(balances):\n",
        "    balances = np.array(balances)\n",
        "    n = len(balances)\n",
        "    if n == 0 or np.sum(balances) == 0:\n",
        "        return 0\n",
        "    diff_sum = 0\n",
        "    for i in range(n):\n",
        "        for j in range(n):\n",
        "            diff_sum += abs(balances[i] - balances[j])\n",
        "    return diff_sum / (2 * n * np.sum(balances))\n",
        "\n",
        "def run_tontine_with_metrics():\n",
        "    accounts = w3.eth.accounts.copy()\n",
        "    active_accounts = accounts.copy()\n",
        "    generation = 0\n",
        "\n",
        "    all_generations = []\n",
        "    all_balances = []\n",
        "    all_gini = []\n",
        "\n",
        "    initial_balances = [w3.eth.get_balance(acc) for acc in accounts]\n",
        "    all_balances.append(initial_balances)\n",
        "    all_gini.append(gini_coefficient(initial_balances))\n",
        "\n",
        "    while len([acc for acc in active_accounts if w3.eth.get_balance(acc) > 0]) > 1:\n",
        "        generation += 1\n",
        "        print(f\"\\nGeneration {generation} - {len(active_accounts)} active accounts\")\n",
        "\n",
        "        for _ in range(min(5, len(active_accounts))):  # Fewer transactions per gen\n",
        "            if len(active_accounts) < 2:\n",
        "                break\n",
        "\n",
        "            balances = {acc: w3.eth.get_balance(acc) for acc in active_accounts}\n",
        "\n",
        "            send_weights = [1/(balances[acc]+1) for acc in active_accounts]\n",
        "            sender = random.choices(active_accounts, weights=send_weights, k=1)[0]\n",
        "\n",
        "            if random.random() > 0.2:\n",
        "                receiver = max(active_accounts, key=lambda acc: balances[acc])\n",
        "            else:\n",
        "                receiver = random.choice([acc for acc in active_accounts if acc != sender])\n",
        "\n",
        "            current_gini = gini_coefficient(list(balances.values()))\n",
        "            sender_balance = balances[sender]\n",
        "\n",
        "            if current_gini > 0.7:\n",
        "                amount = random.randint(int(0.8 * sender_balance), sender_balance)\n",
        "            else:\n",
        "                amount = random.randint(int(0.3 * sender_balance), int(0.7 * sender_balance))\n",
        "\n",
        "            try:\n",
        "                tx_hash = w3.eth.send_transaction({\n",
        "                    'from': sender,\n",
        "                    'to': receiver,\n",
        "                    'value': amount,\n",
        "                    'gas': 21000\n",
        "                })\n",
        "\n",
        "                if w3.eth.get_balance(sender) == 0:\n",
        "                    active_accounts.remove(sender)\n",
        "\n",
        "            except Exception as e:\n",
        "                if sender in active_accounts:\n",
        "                    active_accounts.remove(sender)\n",
        "                continue\n",
        "\n",
        "        current_balances = [w3.eth.get_balance(acc) for acc in accounts]\n",
        "        all_balances.append(current_balances)\n",
        "        current_gini = gini_coefficient(current_balances)\n",
        "        all_gini.append(current_gini)\n",
        "        all_generations.append(generation)\n",
        "\n",
        "        print(f\"Gini coefficient: {current_gini:.4f}\")\n",
        "        print(\"Top 3 accounts:\")\n",
        "        sorted_accounts = sorted([(i, bal) for i, bal in enumerate(current_balances)],\n",
        "                                key=lambda x: x[1], reverse=True)[:3]\n",
        "        for idx, bal in sorted_accounts:\n",
        "            print(f\"  Account {idx}: {Web3.from_wei(bal, 'ether'):.2f} ETH\")\n",
        "\n",
        "    print(f\"\\n🏆 Tontine completed in {generation} generations!\")\n",
        "\n",
        "    eth_balances = np.array([[Web3.from_wei(b, 'ether') for b in gen] for gen in all_balances])\n",
        "\n",
        "    plt.figure(figsize=(15, 6))\n",
        "\n",
        "    plt.subplot(1, 2, 1)\n",
        "    for i in range(len(accounts)):\n",
        "        plt.plot(range(len(all_balances)), eth_balances[:, i], label=f\"Account {i}\")\n",
        "    plt.title(\"Account Balances Over Generations\")\n",
        "    plt.xlabel(\"Generation\")\n",
        "    plt.ylabel(\"ETH Balance\")\n",
        "    plt.legend()\n",
        "    plt.grid(True)\n",
        "\n",
        "    plt.subplot(1, 2, 2)\n",
        "    plt.plot(range(len(all_gini)), all_gini, 'r-', linewidth=2)\n",
        "    plt.title(\"Wealth Inequality (Gini Coefficient)\")\n",
        "    plt.xlabel(\"Generation\")\n",
        "    plt.ylabel(\"Gini Coefficient\")\n",
        "    plt.ylim(0, 1)\n",
        "    plt.grid(True)\n",
        "\n",
        "    plt.tight_layout()\n",
        "    plt.show()\n",
        "\n",
        "    return generation, all_balances, all_gini\n",
        "\n",
        "generations, balances, gini_values = run_tontine_with_metrics()"
      ],
      "metadata": {
        "colab": {
          "base_uri": "https://localhost:8080/",
          "height": 1000
        },
        "id": "NN_deec6zaHa",
        "outputId": "b476b5ed-2a07-4ca2-a039-7f03c6fbf1a8"
      },
      "execution_count": 67,
      "outputs": [
        {
          "output_type": "stream",
          "name": "stdout",
          "text": [
            "\n",
            "Generation 1 - 10 active accounts\n",
            "Gini coefficient: 0.3200\n",
            "Top 3 accounts:\n",
            "  Account 7: 2274027.02 ETH\n",
            "  Account 5: 1591964.87 ETH\n",
            "  Account 8: 1230384.56 ETH\n",
            "\n",
            "Generation 2 - 10 active accounts\n",
            "Gini coefficient: 0.4459\n",
            "Top 3 accounts:\n",
            "  Account 7: 3084266.55 ETH\n",
            "  Account 4: 1592013.98 ETH\n",
            "  Account 5: 1591964.87 ETH\n",
            "\n",
            "Generation 3 - 10 active accounts\n",
            "Gini coefficient: 0.4885\n",
            "Top 3 accounts:\n",
            "  Account 7: 3361050.59 ETH\n",
            "  Account 4: 1592013.98 ETH\n",
            "  Account 5: 1591964.87 ETH\n",
            "\n",
            "Generation 4 - 10 active accounts\n",
            "Gini coefficient: 0.4902\n",
            "Top 3 accounts:\n",
            "  Account 7: 3370479.47 ETH\n",
            "  Account 4: 1592013.98 ETH\n",
            "  Account 5: 1591964.87 ETH\n",
            "\n",
            "Generation 5 - 10 active accounts\n",
            "Gini coefficient: 0.4902\n",
            "Top 3 accounts:\n",
            "  Account 7: 3370701.35 ETH\n",
            "  Account 4: 1592013.98 ETH\n",
            "  Account 5: 1591964.87 ETH\n",
            "\n",
            "Generation 6 - 10 active accounts\n",
            "Gini coefficient: 0.4902\n",
            "Top 3 accounts:\n",
            "  Account 7: 3370710.34 ETH\n",
            "  Account 4: 1592013.98 ETH\n",
            "  Account 5: 1591964.87 ETH\n",
            "\n",
            "Generation 7 - 10 active accounts\n",
            "Gini coefficient: 0.4902\n",
            "Top 3 accounts:\n",
            "  Account 7: 3370710.64 ETH\n",
            "  Account 4: 1592013.98 ETH\n",
            "  Account 5: 1591964.87 ETH\n",
            "\n",
            "Generation 8 - 10 active accounts\n",
            "Gini coefficient: 0.4902\n",
            "Top 3 accounts:\n",
            "  Account 7: 3370710.65 ETH\n",
            "  Account 4: 1592013.98 ETH\n",
            "  Account 5: 1591964.87 ETH\n",
            "\n",
            "Generation 9 - 10 active accounts\n",
            "Gini coefficient: 0.5196\n",
            "Top 3 accounts:\n",
            "  Account 7: 3554495.39 ETH\n",
            "  Account 4: 1592013.98 ETH\n",
            "  Account 5: 1591964.87 ETH\n",
            "\n",
            "Generation 10 - 9 active accounts\n",
            "Gini coefficient: 0.5256\n",
            "Top 3 accounts:\n",
            "  Account 7: 3583267.90 ETH\n",
            "  Account 4: 1598741.52 ETH\n",
            "  Account 5: 1591964.87 ETH\n",
            "\n",
            "Generation 11 - 9 active accounts\n",
            "Gini coefficient: 0.5259\n",
            "Top 3 accounts:\n",
            "  Account 7: 3585162.73 ETH\n",
            "  Account 4: 1598741.52 ETH\n",
            "  Account 5: 1592260.97 ETH\n",
            "\n",
            "Generation 12 - 9 active accounts\n",
            "Gini coefficient: 0.5259\n",
            "Top 3 accounts:\n",
            "  Account 7: 3585211.66 ETH\n",
            "  Account 4: 1598741.52 ETH\n",
            "  Account 5: 1592260.97 ETH\n",
            "\n",
            "Generation 13 - 9 active accounts\n",
            "Gini coefficient: 0.5259\n",
            "Top 3 accounts:\n",
            "  Account 7: 3585212.43 ETH\n",
            "  Account 4: 1598741.52 ETH\n",
            "  Account 5: 1592260.97 ETH\n",
            "\n",
            "Generation 14 - 9 active accounts\n",
            "Gini coefficient: 0.5259\n",
            "Top 3 accounts:\n",
            "  Account 7: 3585212.45 ETH\n",
            "  Account 4: 1598741.52 ETH\n",
            "  Account 5: 1592260.97 ETH\n",
            "\n",
            "Generation 15 - 9 active accounts\n",
            "Gini coefficient: 0.5259\n",
            "Top 3 accounts:\n",
            "  Account 7: 3585212.45 ETH\n",
            "  Account 4: 1598741.52 ETH\n",
            "  Account 5: 1592260.97 ETH\n",
            "\n",
            "Generation 16 - 8 active accounts\n",
            "Gini coefficient: 0.6048\n",
            "Top 3 accounts:\n",
            "  Account 7: 4567870.01 ETH\n",
            "  Account 5: 1592260.97 ETH\n",
            "  Account 1: 1143627.60 ETH\n",
            "\n",
            "Generation 17 - 8 active accounts\n",
            "Gini coefficient: 0.6613\n",
            "Top 3 accounts:\n",
            "  Account 7: 4693020.11 ETH\n",
            "  Account 5: 2265417.04 ETH\n",
            "  Account 1: 1143627.60 ETH\n",
            "\n",
            "Generation 18 - 8 active accounts\n",
            "Gini coefficient: 0.6626\n",
            "Top 3 accounts:\n",
            "  Account 7: 4702334.50 ETH\n",
            "  Account 5: 2265417.04 ETH\n",
            "  Account 1: 1143627.60 ETH\n",
            "\n",
            "Generation 19 - 8 active accounts\n",
            "Gini coefficient: 0.6627\n",
            "Top 3 accounts:\n",
            "  Account 7: 4702857.30 ETH\n",
            "  Account 5: 2265417.04 ETH\n",
            "  Account 1: 1143627.60 ETH\n",
            "\n",
            "Generation 20 - 8 active accounts\n",
            "Gini coefficient: 0.6627\n",
            "Top 3 accounts:\n",
            "  Account 7: 4702867.37 ETH\n",
            "  Account 5: 2265417.04 ETH\n",
            "  Account 1: 1143627.60 ETH\n",
            "\n",
            "Generation 21 - 8 active accounts\n",
            "Gini coefficient: 0.6627\n",
            "Top 3 accounts:\n",
            "  Account 7: 4702867.81 ETH\n",
            "  Account 5: 2265417.04 ETH\n",
            "  Account 1: 1143627.60 ETH\n",
            "\n",
            "Generation 22 - 8 active accounts\n",
            "Gini coefficient: 0.6627\n",
            "Top 3 accounts:\n",
            "  Account 7: 4702867.82 ETH\n",
            "  Account 5: 2265417.04 ETH\n",
            "  Account 1: 1143627.60 ETH\n",
            "\n",
            "Generation 23 - 8 active accounts\n",
            "Gini coefficient: 0.6962\n",
            "Top 3 accounts:\n",
            "  Account 7: 5015308.25 ETH\n",
            "  Account 5: 2265417.04 ETH\n",
            "  Account 1: 1189649.88 ETH\n",
            "\n",
            "Generation 24 - 7 active accounts\n",
            "Gini coefficient: 0.7233\n",
            "Top 3 accounts:\n",
            "  Account 7: 5288286.84 ETH\n",
            "  Account 5: 2265417.04 ETH\n",
            "  Account 1: 1189649.88 ETH\n",
            "\n",
            "Generation 25 - 7 active accounts\n",
            "Gini coefficient: 0.7243\n",
            "Top 3 accounts:\n",
            "  Account 7: 5295254.06 ETH\n",
            "  Account 5: 2265417.04 ETH\n",
            "  Account 1: 1189649.88 ETH\n",
            "\n",
            "Generation 26 - 7 active accounts\n",
            "Gini coefficient: 0.7244\n",
            "Top 3 accounts:\n",
            "  Account 7: 5295502.20 ETH\n",
            "  Account 5: 2265417.04 ETH\n",
            "  Account 1: 1189788.14 ETH\n",
            "\n",
            "Generation 27 - 7 active accounts\n",
            "Gini coefficient: 0.7244\n",
            "Top 3 accounts:\n",
            "  Account 7: 5295510.67 ETH\n",
            "  Account 5: 2265417.04 ETH\n",
            "  Account 1: 1189788.14 ETH\n",
            "\n",
            "Generation 28 - 7 active accounts\n",
            "Gini coefficient: 0.7244\n",
            "Top 3 accounts:\n",
            "  Account 7: 5295511.08 ETH\n",
            "  Account 5: 2265417.04 ETH\n",
            "  Account 1: 1189788.14 ETH\n",
            "\n",
            "Generation 29 - 7 active accounts\n",
            "Gini coefficient: 0.7244\n",
            "Top 3 accounts:\n",
            "  Account 7: 5295511.10 ETH\n",
            "  Account 5: 2265417.04 ETH\n",
            "  Account 1: 1189788.14 ETH\n",
            "\n",
            "Generation 30 - 7 active accounts\n",
            "Gini coefficient: 0.7244\n",
            "Top 3 accounts:\n",
            "  Account 7: 5295511.10 ETH\n",
            "  Account 5: 2265417.04 ETH\n",
            "  Account 1: 1189788.14 ETH\n",
            "\n",
            "Generation 31 - 6 active accounts\n",
            "Gini coefficient: 0.7422\n",
            "Top 3 accounts:\n",
            "  Account 7: 5493937.68 ETH\n",
            "  Account 5: 2265417.04 ETH\n",
            "  Account 1: 1189788.14 ETH\n",
            "\n",
            "Generation 32 - 6 active accounts\n",
            "Gini coefficient: 0.7429\n",
            "Top 3 accounts:\n",
            "  Account 7: 5500841.97 ETH\n",
            "  Account 5: 2265417.04 ETH\n",
            "  Account 1: 1189788.14 ETH\n",
            "\n",
            "Generation 33 - 6 active accounts\n",
            "Gini coefficient: 0.7429\n",
            "Top 3 accounts:\n",
            "  Account 7: 5500962.05 ETH\n",
            "  Account 5: 2265417.04 ETH\n",
            "  Account 1: 1189788.14 ETH\n",
            "\n",
            "Generation 34 - 6 active accounts\n",
            "Gini coefficient: 0.7429\n",
            "Top 3 accounts:\n",
            "  Account 7: 5500964.41 ETH\n",
            "  Account 5: 2265417.04 ETH\n",
            "  Account 1: 1189788.14 ETH\n",
            "\n",
            "Generation 35 - 6 active accounts\n",
            "Gini coefficient: 0.7429\n",
            "Top 3 accounts:\n",
            "  Account 7: 5500964.44 ETH\n",
            "  Account 5: 2265417.04 ETH\n",
            "  Account 1: 1189788.14 ETH\n",
            "\n",
            "Generation 36 - 6 active accounts\n",
            "Gini coefficient: 0.7429\n",
            "Top 3 accounts:\n",
            "  Account 7: 5500964.45 ETH\n",
            "  Account 5: 2265417.04 ETH\n",
            "  Account 1: 1189788.14 ETH\n",
            "\n",
            "Generation 37 - 5 active accounts\n",
            "Gini coefficient: 0.7715\n",
            "Top 3 accounts:\n",
            "  Account 7: 5953579.72 ETH\n",
            "  Account 5: 2265417.04 ETH\n",
            "  Account 1: 1189788.14 ETH\n",
            "\n",
            "Generation 38 - 5 active accounts\n",
            "Gini coefficient: 0.7719\n",
            "Top 3 accounts:\n",
            "  Account 7: 5958277.81 ETH\n",
            "  Account 5: 2265417.04 ETH\n",
            "  Account 1: 1189788.14 ETH\n",
            "\n",
            "Generation 39 - 5 active accounts\n",
            "Gini coefficient: 0.7719\n",
            "Top 3 accounts:\n",
            "  Account 7: 5958334.54 ETH\n",
            "  Account 5: 2265417.04 ETH\n",
            "  Account 1: 1189788.14 ETH\n",
            "\n",
            "Generation 40 - 5 active accounts\n",
            "Gini coefficient: 0.7719\n",
            "Top 3 accounts:\n",
            "  Account 7: 5958335.72 ETH\n",
            "  Account 5: 2265417.04 ETH\n",
            "  Account 1: 1189788.14 ETH\n",
            "\n",
            "Generation 41 - 5 active accounts\n",
            "Gini coefficient: 0.7719\n",
            "Top 3 accounts:\n",
            "  Account 7: 5958335.75 ETH\n",
            "  Account 5: 2265417.04 ETH\n",
            "  Account 1: 1189788.14 ETH\n",
            "\n",
            "Generation 42 - 5 active accounts\n",
            "Gini coefficient: 0.7719\n",
            "Top 3 accounts:\n",
            "  Account 7: 5958335.75 ETH\n",
            "  Account 5: 2265417.04 ETH\n",
            "  Account 1: 1189788.14 ETH\n",
            "\n",
            "Generation 43 - 5 active accounts\n",
            "Gini coefficient: 0.8004\n",
            "Top 3 accounts:\n",
            "  Account 7: 6393530.83 ETH\n",
            "  Account 5: 2325760.06 ETH\n",
            "  Account 1: 1189788.14 ETH\n",
            "\n",
            "Generation 44 - 4 active accounts\n",
            "Gini coefficient: 0.8057\n",
            "Top 3 accounts:\n",
            "  Account 7: 6480502.02 ETH\n",
            "  Account 5: 2325760.06 ETH\n",
            "  Account 1: 1189788.14 ETH\n",
            "\n",
            "Generation 45 - 4 active accounts\n",
            "Gini coefficient: 0.8059\n",
            "Top 3 accounts:\n",
            "  Account 7: 6484087.35 ETH\n",
            "  Account 5: 2325760.06 ETH\n",
            "  Account 1: 1189788.14 ETH\n",
            "\n",
            "Generation 46 - 4 active accounts\n",
            "Gini coefficient: 0.8059\n",
            "Top 3 accounts:\n",
            "  Account 7: 6484395.35 ETH\n",
            "  Account 5: 2325760.06 ETH\n",
            "  Account 1: 1189813.01 ETH\n",
            "\n",
            "Generation 47 - 4 active accounts\n",
            "Gini coefficient: 0.8059\n",
            "Top 3 accounts:\n",
            "  Account 7: 6484425.07 ETH\n",
            "  Account 5: 2325760.06 ETH\n",
            "  Account 1: 1189813.01 ETH\n",
            "\n",
            "Generation 48 - 4 active accounts\n",
            "Gini coefficient: 0.8059\n",
            "Top 3 accounts:\n",
            "  Account 7: 6484426.75 ETH\n",
            "  Account 5: 2325760.06 ETH\n",
            "  Account 1: 1189813.01 ETH\n",
            "\n",
            "Generation 49 - 4 active accounts\n",
            "Gini coefficient: 0.8059\n",
            "Top 3 accounts:\n",
            "  Account 7: 6484426.88 ETH\n",
            "  Account 5: 2325760.08 ETH\n",
            "  Account 1: 1189813.01 ETH\n",
            "\n",
            "Generation 50 - 4 active accounts\n",
            "Gini coefficient: 0.8059\n",
            "Top 3 accounts:\n",
            "  Account 7: 6484426.90 ETH\n",
            "  Account 5: 2325760.08 ETH\n",
            "  Account 1: 1189813.01 ETH\n",
            "\n",
            "Generation 51 - 4 active accounts\n",
            "Gini coefficient: 0.8059\n",
            "Top 3 accounts:\n",
            "  Account 7: 6484426.90 ETH\n",
            "  Account 5: 2325760.08 ETH\n",
            "  Account 1: 1189813.01 ETH\n",
            "\n",
            "Generation 52 - 4 active accounts\n",
            "Gini coefficient: 0.8046\n",
            "Top 3 accounts:\n",
            "  Account 7: 6484426.90 ETH\n",
            "  Account 1: 2258935.75 ETH\n",
            "  Account 5: 1256637.34 ETH\n",
            "\n",
            "Generation 53 - 3 active accounts\n",
            "Gini coefficient: 0.8630\n",
            "Top 3 accounts:\n",
            "  Account 7: 8718217.10 ETH\n",
            "  Account 5: 715120.53 ETH\n",
            "  Account 1: 566662.37 ETH\n",
            "\n",
            "Generation 54 - 3 active accounts\n",
            "Gini coefficient: 0.8798\n",
            "Top 3 accounts:\n",
            "  Account 7: 9138442.84 ETH\n",
            "  Account 5: 715120.53 ETH\n",
            "  Account 1: 146436.63 ETH\n",
            "\n",
            "Generation 55 - 3 active accounts\n",
            "Gini coefficient: 0.8852\n",
            "Top 3 accounts:\n",
            "  Account 7: 9272470.74 ETH\n",
            "  Account 5: 715120.53 ETH\n",
            "  Account 1: 12408.72 ETH\n",
            "\n",
            "Generation 56 - 3 active accounts\n",
            "Gini coefficient: 0.8856\n",
            "Top 3 accounts:\n",
            "  Account 7: 9283635.28 ETH\n",
            "  Account 5: 715120.53 ETH\n",
            "  Account 1: 1244.19 ETH\n",
            "\n",
            "Generation 57 - 3 active accounts\n",
            "Gini coefficient: 0.8857\n",
            "Top 3 accounts:\n",
            "  Account 7: 9284780.36 ETH\n",
            "  Account 5: 715120.53 ETH\n",
            "  Account 1: 99.11 ETH\n",
            "\n",
            "Generation 58 - 3 active accounts\n",
            "Gini coefficient: 0.8857\n",
            "Top 3 accounts:\n",
            "  Account 7: 9284868.24 ETH\n",
            "  Account 5: 715120.53 ETH\n",
            "  Account 1: 11.22 ETH\n",
            "\n",
            "Generation 59 - 3 active accounts\n",
            "Gini coefficient: 0.8857\n",
            "Top 3 accounts:\n",
            "  Account 7: 9284876.81 ETH\n",
            "  Account 5: 715121.73 ETH\n",
            "  Account 1: 1.46 ETH\n",
            "\n",
            "Generation 60 - 3 active accounts\n",
            "Gini coefficient: 0.8857\n",
            "Top 3 accounts:\n",
            "  Account 7: 9284877.91 ETH\n",
            "  Account 5: 715121.99 ETH\n",
            "  Account 1: 0.10 ETH\n",
            "\n",
            "Generation 61 - 3 active accounts\n",
            "Gini coefficient: 0.8857\n",
            "Top 3 accounts:\n",
            "  Account 7: 9284878.00 ETH\n",
            "  Account 5: 715121.99 ETH\n",
            "  Account 1: 0.01 ETH\n",
            "\n",
            "Generation 62 - 3 active accounts\n",
            "Gini coefficient: 0.8857\n",
            "Top 3 accounts:\n",
            "  Account 7: 9284878.00 ETH\n",
            "  Account 5: 715121.99 ETH\n",
            "  Account 1: 0.00 ETH\n",
            "\n",
            "Generation 63 - 3 active accounts\n",
            "Gini coefficient: 0.8857\n",
            "Top 3 accounts:\n",
            "  Account 7: 9284878.00 ETH\n",
            "  Account 5: 715121.99 ETH\n",
            "  Account 1: 0.00 ETH\n",
            "\n",
            "Generation 64 - 3 active accounts\n",
            "Gini coefficient: 0.8915\n",
            "Top 3 accounts:\n",
            "  Account 7: 9575347.90 ETH\n",
            "  Account 5: 424652.10 ETH\n",
            "  Account 6: 0.00 ETH\n",
            "\n",
            "Generation 65 - 2 active accounts\n",
            "Gini coefficient: 0.8974\n",
            "Top 3 accounts:\n",
            "  Account 7: 9870426.87 ETH\n",
            "  Account 5: 129573.12 ETH\n",
            "  Account 6: 0.00 ETH\n",
            "\n",
            "Generation 66 - 2 active accounts\n",
            "Gini coefficient: 0.8995\n",
            "Top 3 accounts:\n",
            "  Account 7: 9975438.49 ETH\n",
            "  Account 5: 24561.50 ETH\n",
            "  Account 6: 0.00 ETH\n",
            "\n",
            "Generation 67 - 2 active accounts\n",
            "Gini coefficient: 0.8998\n",
            "Top 3 accounts:\n",
            "  Account 7: 9989976.86 ETH\n",
            "  Account 5: 10023.13 ETH\n",
            "  Account 6: 0.00 ETH\n",
            "\n",
            "Generation 68 - 2 active accounts\n",
            "Gini coefficient: 0.8999\n",
            "Top 3 accounts:\n",
            "  Account 7: 9997429.87 ETH\n",
            "  Account 5: 2570.13 ETH\n",
            "  Account 6: 0.00 ETH\n",
            "\n",
            "Generation 69 - 2 active accounts\n",
            "Gini coefficient: 0.9000\n",
            "Top 3 accounts:\n",
            "  Account 7: 9999371.32 ETH\n",
            "  Account 5: 628.67 ETH\n",
            "  Account 6: 0.00 ETH\n",
            "\n",
            "Generation 70 - 2 active accounts\n",
            "Gini coefficient: 0.9000\n",
            "Top 3 accounts:\n",
            "  Account 7: 9999900.87 ETH\n",
            "  Account 5: 99.12 ETH\n",
            "  Account 6: 0.00 ETH\n",
            "\n",
            "Generation 71 - 2 active accounts\n",
            "Gini coefficient: 0.9000\n",
            "Top 3 accounts:\n",
            "  Account 7: 9999977.88 ETH\n",
            "  Account 5: 22.11 ETH\n",
            "  Account 6: 0.00 ETH\n",
            "\n",
            "Generation 72 - 2 active accounts\n",
            "Gini coefficient: 0.9000\n",
            "Top 3 accounts:\n",
            "  Account 7: 9999994.06 ETH\n",
            "  Account 5: 5.93 ETH\n",
            "  Account 6: 0.00 ETH\n",
            "\n",
            "Generation 73 - 2 active accounts\n",
            "Gini coefficient: 0.9000\n",
            "Top 3 accounts:\n",
            "  Account 7: 9999998.00 ETH\n",
            "  Account 5: 1.99 ETH\n",
            "  Account 6: 0.00 ETH\n",
            "\n",
            "Generation 74 - 2 active accounts\n",
            "Gini coefficient: 0.9000\n",
            "Top 3 accounts:\n",
            "  Account 7: 9999999.68 ETH\n",
            "  Account 5: 0.31 ETH\n",
            "  Account 6: 0.00 ETH\n",
            "\n",
            "Generation 75 - 2 active accounts\n",
            "Gini coefficient: 0.9000\n",
            "Top 3 accounts:\n",
            "  Account 7: 9999999.95 ETH\n",
            "  Account 5: 0.04 ETH\n",
            "  Account 6: 0.00 ETH\n",
            "\n",
            "Generation 76 - 2 active accounts\n",
            "Gini coefficient: 0.9000\n",
            "Top 3 accounts:\n",
            "  Account 7: 9999999.98 ETH\n",
            "  Account 5: 0.01 ETH\n",
            "  Account 6: 0.00 ETH\n",
            "\n",
            "Generation 77 - 2 active accounts\n",
            "Gini coefficient: 0.9000\n",
            "Top 3 accounts:\n",
            "  Account 7: 9999999.99 ETH\n",
            "  Account 5: 0.00 ETH\n",
            "  Account 6: 0.00 ETH\n",
            "\n",
            "Generation 78 - 2 active accounts\n",
            "Gini coefficient: 0.9000\n",
            "Top 3 accounts:\n",
            "  Account 7: 9999999.99 ETH\n",
            "  Account 5: 0.00 ETH\n",
            "  Account 6: 0.00 ETH\n",
            "\n",
            "Generation 79 - 2 active accounts\n",
            "Gini coefficient: 0.9000\n",
            "Top 3 accounts:\n",
            "  Account 7: 9999999.99 ETH\n",
            "  Account 6: 0.00 ETH\n",
            "  Account 5: 0.00 ETH\n",
            "\n",
            "Generation 80 - 2 active accounts\n",
            "Gini coefficient: 0.9000\n",
            "Top 3 accounts:\n",
            "  Account 7: 9999999.99 ETH\n",
            "  Account 6: 0.00 ETH\n",
            "  Account 5: 0.00 ETH\n",
            "\n",
            "🏆 Tontine completed in 80 generations!\n"
          ]
        },
        {
          "output_type": "display_data",
          "data": {
            "text/plain": [
              "<Figure size 1500x600 with 2 Axes>"
            ],
            "image/png": "[encoded data removed]"
          },
          "metadata": {}
        }
      ]
    },
    {
      "cell_type": "markdown",
      "source": [
        "<b><font color=\"Coral\">Hint</font></b> &nbsp;&nbsp; Here is an example of the final cell used for the in-class example. Notice that\n",
        "+ the function `run_transactions()` does all of the work\n",
        "+ the two lines above simply \"reset\" all 10 ETH accounts to 1,000,000 ETH each (wow!)\n",
        "+ the function `run_transactions()` returns two lists:\n",
        "  + the list `GiniCoefficients` holds all of those gini coefficients for the whole tontine\n",
        "  + the line `AllBalances` holds ALL of the balances of all of the accounts for the whole tontine\n",
        "+ these two were used in order to plot the inequality values and balances..."
      ],
      "metadata": {
        "id": "HGN-TSnQJZEe"
      }
    },
    {
      "cell_type": "code",
      "source": [
        "# Example of resetting the universe and running the results:\n",
        "provider = Web3.EthereumTesterProvider()\n",
        "w3 = Web3(provider)\n",
        "\n",
        "GiniCoefficients, AllBalances = run_transactions()"
      ],
      "metadata": {
        "id": "59Sru958JYMQ"
      },
      "execution_count": null,
      "outputs": []
    },
    {
      "cell_type": "markdown",
      "source": [
        "Reflection:\n",
        "\n",
        "I think most of this challenge went pretty smoothly, the last part was a bit more difficult. I did use the help of AI, and it was more useful for simpler tasks and more difficult to work with for more detailed and complex tasks. There was some trial and error with it. It took me a while to get the simulation to run fast."
      ],
      "metadata": {
        "id": "3ygXE6ks9x02"
      }
    }
  ]
}