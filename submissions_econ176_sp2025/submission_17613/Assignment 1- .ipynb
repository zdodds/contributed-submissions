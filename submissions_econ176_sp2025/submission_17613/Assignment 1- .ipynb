{
  "nbformat": 4,
  "nbformat_minor": 0,
  "metadata": {
    "colab": {
      "provenance": []
    },
    "kernelspec": {
      "name": "python3",
      "display_name": "Python 3"
    },
    "language_info": {
      "name": "python"
    }
  },
  "cells": [
    {
      "cell_type": "markdown",
      "source": [
        "### Econ 176 APIs Day 2 - and ***first computing assignment***\n",
        "\n",
        "We're back! [Here was Day 1](https://colab.research.google.com/drive/1laKhKCXTFtCAGKrOqQfisbGPyQE-xexm#scrollTo=nCAN5xmzEP9t&uniqifier=1)\n",
        "\n",
        "<font size=\"-1\">Today, we'll continue building familiarity with APIs through calling and analyzing the results (using Python, of course!)"
      ],
      "metadata": {
        "id": "nCAN5xmzEP9t"
      }
    },
    {
      "cell_type": "markdown",
      "source": [
        "#### Where were we?\n",
        "\n",
        "We had tried the International Space Station API at [http://api.open-notify.org/iss-now.json](http://api.open-notify.org/iss-now.json) :"
      ],
      "metadata": {
        "id": "lZbQ6GUJHGA2"
      }
    },
    {
      "cell_type": "code",
      "source": [
        "# we assign the url and obtain the api-call result into result\n",
        "#    Note that result will be an object that contains many fields (not a simple string)\n",
        "#\n",
        "\n",
        "import requests\n",
        "\n",
        "url = \"http://api.open-notify.org/iss-now.json\"   # this is sometimes called an \"endpoint\" ...\n",
        "result = requests.get(url)\n",
        "result\n",
        "\n",
        "# if it succeeds, you should see <Response [200]>"
      ],
      "metadata": {
        "id": "th8zFD_8HEwh",
        "colab": {
          "base_uri": "https://localhost:8080/"
        },
        "outputId": "0d262a28-3857-4dea-bcbe-20087e50a6a0"
      },
      "execution_count": null,
      "outputs": [
        {
          "output_type": "execute_result",
          "data": {
            "text/plain": [
              "<Response [200]>"
            ]
          },
          "metadata": {},
          "execution_count": 1
        }
      ]
    },
    {
      "cell_type": "code",
      "source": [
        "#\n",
        "# In this case, we know the result is a JSON file, and we can obtain it that way:\n",
        "\n",
        "json_contents = result.json()      # needs to convert the text to a json dictionary...\n",
        "print(f\"json_contents is {json_contents}\")     # Aha!  Let's re/introduce f-strings...\n",
        "\n",
        "# Take a look... remember that a json object is a Python dictionary:"
      ],
      "metadata": {
        "id": "YVro11VYHUxA",
        "colab": {
          "base_uri": "https://localhost:8080/"
        },
        "outputId": "59e11bac-73da-4656-a2c8-e4ec9a2073f4"
      },
      "execution_count": null,
      "outputs": [
        {
          "output_type": "stream",
          "name": "stdout",
          "text": [
            "json_contents is {'iss_position': {'longitude': '170.3405', 'latitude': '51.2147'}, 'message': 'success', 'timestamp': 1739657012}\n"
          ]
        }
      ]
    },
    {
      "cell_type": "code",
      "source": [
        "#\n",
        "# Let's remind ourselves how dictionaries work:\n",
        "\n",
        "lat = json_contents['iss_position']['latitude']\n",
        "lat = float(lat)\n",
        "print(\"lat: \", lat)"
      ],
      "metadata": {
        "id": "bl1RQPr0HoFB",
        "colab": {
          "base_uri": "https://localhost:8080/"
        },
        "outputId": "87d9fe00-706d-4a1d-a5bf-ce0ad88ce979"
      },
      "execution_count": null,
      "outputs": [
        {
          "output_type": "stream",
          "name": "stdout",
          "text": [
            "lat:  51.2147\n"
          ]
        }
      ]
    },
    {
      "cell_type": "markdown",
      "source": [
        "Here is a function that returns the distance detween two (lat/long) pairs:\n",
        "\n",
        "\n",
        "<font size=\"-2\">\n",
        "\n",
        "```   \n",
        "def haversine(lat1, long1, lat2, long2):\n",
        "    \"\"\"\n",
        "    Calculate the great circle distance in kilometers between two points\n",
        "    on the earth (specified in decimal degrees)\n",
        "    \"\"\"\n",
        "    from math import *\n",
        "    # convert decimal degrees to radians\n",
        "    long1, lat1, long2, lat2 = map(radians, [long1, lat1, long2, lat2])\n",
        "\n",
        "    # haversine formula\n",
        "    dlong = long2 - long1\n",
        "    dlat = lat2 - lat1\n",
        "    trig = sin(dlat/2)**2 + cos(lat1) * cos(lat2) * sin(dlong/2)**2\n",
        "    # Radius of earth. Use 3956 for miles. 6371 for km.\n",
        "    radius = 3956  # we'll use miles!\n",
        "    return radius * 2 * asin(sqrt(trig))\n",
        "```\n",
        "</font>"
      ],
      "metadata": {
        "id": "pf698gsuHo-E"
      }
    },
    {
      "cell_type": "markdown",
      "source": [
        "#### <font color=\"Coral\"><b>Task 0</b></font> &nbsp;&nbsp; Let's, together, create a program that finds the distance from the ISS to Claremont\n",
        "+ It can just be a cell, it doesn't have to be its own function.\n",
        "+ But, let's definitely use the haversine function, above...\n",
        "\n",
        "\n",
        "\n"
      ],
      "metadata": {
        "id": "kk2MYKMmvkm5"
      }
    },
    {
      "cell_type": "code",
      "source": [
        "#\n",
        "# Let's make sure we \"unpack the process\" w/o AI\n",
        "#\n",
        "from math import *\n",
        "\n",
        "lat = json_contents['iss_position']['latitude']\n",
        "lat = float(lat)\n",
        "\n",
        "long = json_contents['iss_position']['longitude']\n",
        "long = float(long)\n",
        "\n",
        "def haversine(lat1, long1, lat2, long2):\n",
        "    \"\"\"\n",
        "    Calculate the great circle distance in kilometers between two points\n",
        "    on the earth (specified in decimal degrees)\n",
        "    \"\"\"\n",
        "    # convert decimal degrees to radians\n",
        "    long1, lat1, long2, lat2 = map(radians, [long1, lat1, long2, lat2])\n",
        "\n",
        "    # haversine formula\n",
        "    dlong = long2 - long1\n",
        "    dlat = lat2 - lat1\n",
        "    trig = sin(dlat/2)**2 + cos(lat1) * cos(lat2) * sin(dlong/2)**2\n",
        "    # Radius of earth. Use 3956 for miles. 6371 for km.\n",
        "    radius = 3956  # we'll use miles!\n",
        "    return radius * 2 * asin(sqrt(trig))\n",
        "\n",
        "print(haversine(lat, long, 34.1007, -117.7065))"
      ],
      "metadata": {
        "id": "knTWTlxbwKKh",
        "colab": {
          "base_uri": "https://localhost:8080/"
        },
        "outputId": "84c91913-e473-4c42-de1f-06e36cc1091f"
      },
      "execution_count": null,
      "outputs": [
        {
          "output_type": "stream",
          "name": "stdout",
          "text": [
            "3679.6636535680386\n"
          ]
        }
      ]
    },
    {
      "cell_type": "code",
      "source": [
        "#\n",
        "# Then, let's compare with AI's result...\n",
        "#\n",
        "\n",
        "from geopy.distance import geodesic\n",
        "\n",
        "def calculate_distance(coord1, coord2):\n",
        "    \"\"\"\n",
        "    Calculates the geodesic distance between two latitude/longitude pairs.\n",
        "\n",
        "    Parameters:\n",
        "    coord1 (tuple): A tuple containing (latitude, longitude) of the first location.\n",
        "    coord2 (tuple): A tuple containing (latitude, longitude) of the second location.\n",
        "\n",
        "    Returns:\n",
        "    float: Distance in kilometers between the two points.\n",
        "    \"\"\"\n",
        "    return geodesic(coord1, coord2).kilometers\n",
        "\n",
        "lat = json_contents['iss_position']['latitude']\n",
        "lat = float(lat)\n",
        "\n",
        "long = json_contents['iss_position']['longitude']\n",
        "long = float(long)\n",
        "\n",
        "coord1 = (lat, long)\n",
        "coord2 = (34.1007, -117.7065)\n",
        "print(calculate_distance(coord1, coord2))"
      ],
      "metadata": {
        "id": "vBY5T3TlwPtw",
        "colab": {
          "base_uri": "https://localhost:8080/"
        },
        "outputId": "71c34f15-cdd7-4674-d799-70a28a571879"
      },
      "execution_count": null,
      "outputs": [
        {
          "output_type": "stream",
          "name": "stdout",
          "text": [
            "5939.353352204808\n"
          ]
        }
      ]
    },
    {
      "cell_type": "markdown",
      "source": [
        "Vice-versa is ok, too...\n",
        "\n",
        "<br>\n",
        "<hr>\n",
        "<br>"
      ],
      "metadata": {
        "id": "llb-BkBawpBi"
      }
    },
    {
      "cell_type": "markdown",
      "source": [
        "<b>Let's try another ISS \"endpoint\" ~ one with all of the <i>people</i> in space.</b>\n",
        "\n",
        "It's at this url:  [http://api.open-notify.org/astros.json](http://api.open-notify.org/astros.json)"
      ],
      "metadata": {
        "id": "7xDIVZevPFjt"
      }
    },
    {
      "cell_type": "code",
      "source": [
        "#\n",
        "# we assign the url and use requests.get to obtain the result into result_astro\n",
        "#\n",
        "#    Remember, result_astro will be an object that contains many fields (not a simple string)\n",
        "#\n",
        "\n",
        "import requests\n",
        "\n",
        "url = \"http://api.open-notify.org/astros.json\"   # this is sometimes called an \"endpoint\" ...\n",
        "result_astro = requests.get(url)\n",
        "result_astro\n",
        "\n",
        "# if it succeeded, you should see <Response [200]>"
      ],
      "metadata": {
        "id": "LtS4sj_0PGeB",
        "colab": {
          "base_uri": "https://localhost:8080/"
        },
        "outputId": "72b992e9-6aba-4778-bc5b-607eaf76a06b"
      },
      "execution_count": null,
      "outputs": [
        {
          "output_type": "execute_result",
          "data": {
            "text/plain": [
              "<Response [200]>"
            ]
          },
          "metadata": {},
          "execution_count": 9
        }
      ]
    },
    {
      "cell_type": "code",
      "source": [
        "# If the request succeeded, we know the result is a JSON file, and we can obtain it that way.\n",
        "# Let's call our dictionary something more specific:\n",
        "\n",
        "astronauts = result_astro.json()\n",
        "d = astronauts   # a shorter variable for convenience..\n",
        "\n",
        "\n",
        "# Remember:  astronauts will be a _dictionary_\n",
        "note = \"\"\" here's yesterday evening's result - it _should_ be the same this morning!\n",
        "\n",
        "{\"people\": [{\"craft\": \"ISS\", \"name\": \"Oleg Kononenko\"}, {\"craft\": \"ISS\", \"name\": \"Nikolai Chub\"},\n",
        "{\"craft\": \"ISS\", \"name\": \"Tracy Caldwell Dyson\"}, {\"craft\": \"ISS\", \"name\": \"Matthew Dominick\"},\n",
        "{\"craft\": \"ISS\", \"name\": \"Michael Barratt\"}, {\"craft\": \"ISS\", \"name\": \"Jeanette Epps\"},\n",
        "{\"craft\": \"ISS\", \"name\": \"Alexander Grebenkin\"}, {\"craft\": \"ISS\", \"name\": \"Butch Wilmore\"},\n",
        "{\"craft\": \"ISS\", \"name\": \"Sunita Williams\"}, {\"craft\": \"Tiangong\", \"name\": \"Econ176_Participant_6 Guangsu\"},\n",
        "{\"craft\": \"Tiangong\", \"name\": \"Econ176_Participant_6 Cong\"}, {\"craft\": \"Tiangong\", \"name\": \"Ye Guangfu\"}], \"number\": 12, \"message\": \"success\"}\n",
        "\"\"\"\n",
        "print(d)"
      ],
      "metadata": {
        "id": "gcJrJBRAPJEj",
        "colab": {
          "base_uri": "https://localhost:8080/"
        },
        "outputId": "ecba74c4-bc42-412f-da1a-8d57cd687066"
      },
      "execution_count": null,
      "outputs": [
        {
          "output_type": "stream",
          "name": "stdout",
          "text": [
            "{'people': [{'craft': 'ISS', 'name': 'Oleg Kononenko'}, {'craft': 'ISS', 'name': 'Nikolai Chub'}, {'craft': 'ISS', 'name': 'Tracy Caldwell Dyson'}, {'craft': 'ISS', 'name': 'Matthew Dominick'}, {'craft': 'ISS', 'name': 'Michael Barratt'}, {'craft': 'ISS', 'name': 'Jeanette Epps'}, {'craft': 'ISS', 'name': 'Alexander Grebenkin'}, {'craft': 'ISS', 'name': 'Butch Wilmore'}, {'craft': 'ISS', 'name': 'Sunita Williams'}, {'craft': 'Tiangong', 'name': 'Econ176_Participant_6 Guangsu'}, {'craft': 'Tiangong', 'name': 'Econ176_Participant_6 Cong'}, {'craft': 'Tiangong', 'name': 'Ye Guangfu'}], 'number': 12, 'message': 'success'}\n"
          ]
        }
      ]
    },
    {
      "cell_type": "code",
      "source": [
        "d['people']"
      ],
      "metadata": {
        "id": "Uo64-x3z5IZ6",
        "colab": {
          "base_uri": "https://localhost:8080/"
        },
        "outputId": "8cd59687-bb41-42df-ba55-317e9f9e2133"
      },
      "execution_count": null,
      "outputs": [
        {
          "output_type": "execute_result",
          "data": {
            "text/plain": [
              "[{'craft': 'ISS', 'name': 'Oleg Kononenko'},\n",
              " {'craft': 'ISS', 'name': 'Nikolai Chub'},\n",
              " {'craft': 'ISS', 'name': 'Tracy Caldwell Dyson'},\n",
              " {'craft': 'ISS', 'name': 'Matthew Dominick'},\n",
              " {'craft': 'ISS', 'name': 'Michael Barratt'},\n",
              " {'craft': 'ISS', 'name': 'Jeanette Epps'},\n",
              " {'craft': 'ISS', 'name': 'Alexander Grebenkin'},\n",
              " {'craft': 'ISS', 'name': 'Butch Wilmore'},\n",
              " {'craft': 'ISS', 'name': 'Sunita Williams'},\n",
              " {'craft': 'Tiangong', 'name': 'Econ176_Participant_6 Guangsu'},\n",
              " {'craft': 'Tiangong', 'name': 'Econ176_Participant_6 Cong'},\n",
              " {'craft': 'Tiangong', 'name': 'Ye Guangfu'}]"
            ]
          },
          "metadata": {},
          "execution_count": 11
        }
      ]
    },
    {
      "cell_type": "markdown",
      "source": [
        "This is pretty intricate!\n",
        "\n",
        "Let's try unpacking this - _parsing it_ - with an in-class, break-out challenge..."
      ],
      "metadata": {
        "id": "7WhxgDSHPSTD"
      }
    },
    {
      "cell_type": "markdown",
      "source": [
        "#### <font color=\"Coral\"><b>Task 1</b></font>: &nbsp;&nbsp; In-class break-out ...\n",
        "\n",
        "<br>\n",
        "<hr>\n",
        "<br>"
      ],
      "metadata": {
        "id": "at7zPuUpVIVt"
      }
    },
    {
      "cell_type": "markdown",
      "source": [
        "### Ok!  \n",
        "\n",
        "#### You should add to your resume that\n",
        "+ you have experience with traditional _web-scraping_\n",
        "+ and with making - and interpreting - _API calls_\n",
        "+ whether they convey plain-text or json-structured data...\n",
        "\n",
        "<br>\n",
        "\n",
        "Let's go deeper, to\n",
        "+ see how the API \"endpoints\" themselves are implemented\n",
        "+ see how parameters can be used in calling API endpoints\n",
        "  + at least, with GET requests\n",
        "  + POST requests are also common - that's for another day\n"
      ],
      "metadata": {
        "id": "T1NFcrONPY2g"
      }
    },
    {
      "cell_type": "markdown",
      "source": [
        "### _Behind the Curtain_ of an API:\n",
        "\n",
        "Let's watch _inside_ API calls, using CodeSandbox...\n",
        "\n",
        "Specifically, let's practice using <u>parameters</u> to an API call:\n"
      ],
      "metadata": {
        "id": "4f5KWWeHQntp"
      }
    },
    {
      "cell_type": "markdown",
      "source": [
        "### GET parameters\n",
        "\n",
        "The GET request includes all of the information needed in the URL itself!\n",
        "\n",
        "Here are a couple of images showing the _pieces_ of urls:\n",
        "\n",
        "<img src=\"https://static.semrush.com/blog/uploads/media/ca/37/ca3737d8edb5cf079aaf1f11ae01d286/mMREmiwXSrryVyv8IxbVFgje7ICFhfqWnca7W0db36KjX35vzLTnStkFynEd9NBoXXH-JYKCm2deskxgLo_vxzEvl-qLpVOgtwc78rhFI2Rm1pBK-j2SwMKWz0CXU42STjzUVcF1vaRTFbw_6wvH_5A.webp\">"
      ],
      "metadata": {
        "id": "XMYvGOavXRi8"
      }
    },
    {
      "cell_type": "markdown",
      "source": [
        "#### Using query-string parameters\n",
        "\n",
        "**Challenge!**\n",
        "\n",
        "Team up with people nearby and make API calls to the endpoints\n",
        "\n",
        "+ `url = \"https://fvcjsw-5000.csb.app/econ176_mystery0\"`\n",
        "+ `url = \"https://fvcjsw-5000.csb.app/econ176_mystery1\"`\n",
        "+ `url = \"https://fvcjsw-5000.csb.app/econ176_mystery2\"`\n",
        "+ `url = \"https://fvcjsw-5000.csb.app/econ176_mystery3\"`\n",
        "\n",
        "_each_ of which uses query-string parameters\n",
        "+ `x` (an integer) and\n",
        "+ `y` (an integer)\n",
        "\n",
        "and see if you can determine what each one is doing... and how the parameters are being used?!\n",
        "\n",
        "<br>\n",
        "\n"
      ],
      "metadata": {
        "id": "TAnc83BOYOVN"
      }
    },
    {
      "cell_type": "code",
      "source": [
        "#\n",
        "# Try it - from a browser or from here...\n",
        "\n",
        "import requests\n",
        "\n",
        "url = \"https://fvcjsw-5000.csb.app/econ176_mystery0?x=1&y=3\"    # perhaps try from browser first!\n",
        "result_ft = requests.get(url)\n",
        "print(result_ft)              # prints the status_code\n",
        "\n",
        "d = result_ft.json()            # here are the _contents_\n",
        "d"
      ],
      "metadata": {
        "id": "hBJDkS1GY5Gs"
      },
      "execution_count": null,
      "outputs": []
    },
    {
      "cell_type": "markdown",
      "source": [
        "We can create larger custom API calls, as well...\n",
        "\n",
        "For example,"
      ],
      "metadata": {
        "id": "CwuCqIN_7-2U"
      }
    },
    {
      "cell_type": "code",
      "source": [
        "#\n",
        "# A larger API call to the same CodeSandbox server\n",
        "\n",
        "import requests\n",
        "\n",
        "url = \"https://fvcjsw-5000.csb.app/fintech\"    # try this from your browser first!\n",
        "result_ft = requests.get(url)\n",
        "result_ft"
      ],
      "metadata": {
        "id": "U2AwbFH9Qi5T",
        "colab": {
          "base_uri": "https://localhost:8080/"
        },
        "outputId": "be048ec6-4513-4c04-cbff-b2579aa4c476"
      },
      "execution_count": null,
      "outputs": [
        {
          "output_type": "execute_result",
          "data": {
            "text/plain": [
              "<Response [503]>"
            ]
          },
          "metadata": {},
          "execution_count": 15
        }
      ]
    },
    {
      "cell_type": "code",
      "source": [
        "#\n",
        "# Let's view ... then parse and interpret!\n",
        "\n",
        "# d = result_ft.json()                  # try .text, as well...\n",
        "# print(f\"The resulting data is {d}\")\n",
        "\n",
        "d = {'Number': 176, 'Initials': ['AC', 'AL', 'AN', 'AP', 'AZ', 'CL', 'CM', 'CW', 'CZ', 'DS', 'EC', 'ED', 'EG', 'ES', 'HV', 'IC', 'IG', 'JB', 'JN', 'JT', 'KR', 'LA', 'LG', 'LS', 'LW', 'MD', 'ND', 'NM', 'NV', 'NW', 'OB', 'RK', 'RL', 'RP', 'SB', 'SC', 'SD', 'SF', 'SS', 'TC', 'TS', 'VN', 'VVP', 'YM', 'ZD', 'ZY'], 'Departments': ['Econ', 'CS']}\n"
      ],
      "metadata": {
        "id": "CVNmIQpfVtGS",
        "collapsed": true
      },
      "execution_count": null,
      "outputs": []
    },
    {
      "cell_type": "markdown",
      "source": [
        "**Challenge**:   extract your initials from `d`   &nbsp;&nbsp; 😀\n",
        "\n",
        "\n",
        "<b><font color=\"DodgerBlue\">Hint</font></b>: &nbsp;&nbsp; Start with &nbsp;&nbsp;  ``d[ <something> ]``   &nbsp;&nbsp;   What's the ``something``?\n",
        "\n",
        "<i>Only do one step at a time...</i>  &nbsp;&nbsp; This is key!"
      ],
      "metadata": {
        "id": "UdVuiv7BWBT_"
      }
    },
    {
      "cell_type": "code",
      "source": [
        "#\n",
        "# see if you can extract only your initials from d\n",
        "\n",
        "print(d['Initials'][5])\n",
        "\n",
        "# we're not finished yet! :)"
      ],
      "metadata": {
        "id": "peSrlnS1WGmC",
        "colab": {
          "base_uri": "https://localhost:8080/"
        },
        "outputId": "b54b9258-664a-4c8f-ded1-78fd7aced6e1"
      },
      "execution_count": null,
      "outputs": [
        {
          "output_type": "stream",
          "name": "stdout",
          "text": [
            "CL\n"
          ]
        }
      ]
    },
    {
      "cell_type": "markdown",
      "source": [
        "<br>\n",
        "<hr>\n",
        "<br>\n",
        "\n",
        "### Another API, now _finance-inspired_ ...\n",
        "\n",
        "There are **lots** of finance APIs. I'm currently skeptical that they're materially different, though I'm happy to be convinced... .\n",
        "\n",
        "One material difference is price! The kind folks at _Alphavantage_ have offered us an Econ176-specific set of API keys. Let's dive in!\n",
        "\n",
        "Before using your key, try a demonostration call at this endpoint:\n",
        "\n",
        "`https://www.alphavantage.co/query?function=TIME_SERIES_DAILY&symbol=IBM&apikey=demo`\n",
        "\n",
        "which, as ever, is this link:\n",
        "\n",
        "[https://www.alphavantage.co/query?function=TIME_SERIES_DAILY&symbol=IBM&apikey=demo](https://www.alphavantage.co/query?function=TIME_SERIES_DAILY&symbol=IBM&apikey=demo)\n",
        "\n",
        "You'll see that it's the last 100 days of information from IBM. To obtain other symbols' data - or other data - you'll need to use your API key. Notice that the demo url, above, has `demo` as the `apikey` (it only works for IBM 😀)\n",
        "\n",
        "You should have your own API key, from class on 2/6:\n",
        "+ if you use that string of characters in place of ``demo`` above, you should be able to make calls to _any_ of the Alphavantage APIs\n",
        "+ it has \"medium\" bandwidth - for us, we are making single calls and then analyzing them, which will not stress any limits <br> <font size=\"-2\">(Do avoid fast loops: if too much bandwidth is used, they APIs will automatically disable the key.)</font>\n",
        "+ _Experiment!_"
      ],
      "metadata": {
        "id": "A8HUzkJ57z_l"
      }
    },
    {
      "cell_type": "markdown",
      "source": [
        "### Getting comfortable with documentation...\n",
        "\n",
        "APIs come with widely varying documentation\n",
        "+ sometimes you're guessing (as we did above!)\n",
        "+ more often, they're documented... **but** the documentation tends to have lots of idiosynrasies (there's not as much standardization as one might hope on how these things are discussed, the computing languages presumed, etc.)\n",
        "\n",
        "So, it's a worthy task - and challenge - to get familiar with the many kinds and conventions of documentation out there.\n",
        "\n",
        "Take a look at the [Alphvantage documentation](https://www.alphavantage.co/documentation/):\n",
        "+ specifically, find the section for the `TIME_SERIES_DAILY` function\n",
        "+ read over the parameters\n",
        "+ click on some of the examples\n",
        "+ see if you can reconcile the outputs you're seeing with the parameters provided\n",
        "\n",
        "Next, we'll try it out...\n",
        "\n",
        "... and will determine the best \"single-share\" strategy for investing -- for your choice of stock -- over the past 100 days. <br> <font size=\"-2\">(You might remember this as a cs5 homework, the [\"TT Securities\" problem](https://www.cs.hmc.edu/twiki/bin/view/CS5Fall2023/TTSecuritiesGold).)</font>\n",
        "\n",
        "<br>\n",
        "<hr>\n",
        "<br>"
      ],
      "metadata": {
        "id": "SOMPBTuObOVK"
      }
    },
    {
      "cell_type": "markdown",
      "source": [
        "### Your tasks!\n",
        "\n",
        "**<font color=\"Coral\">Part 1</font>: &nbsp;&nbsp; <font color=\"DodgerBlue\">Single-share Analysis</font>** &nbsp; using TIME_SERIES_DAILY\n",
        "\n",
        "So, your tasks include\n",
        "+ get your API working - the first cell below will help\n",
        "+ make sure you're getting data! - the second cell below will help with that!\n",
        "+ choose another stock symbol\n",
        "  + for now, let's stick with the compact data of the last 100 days\n",
        "  + also, be sure to make _one_ call and then code-develop with that data\n",
        "  + it will quickly annoy API providers if you make too many calls\n",
        "  + there are automatic \"shutoffs\" to stop responding in this case...\n",
        "  + it's not clear when the \"shutoff\" stops - possibly never\n",
        "\n",
        "<br>\n",
        "\n",
        "So, after making one call, explore the resulting data (dictionary) so that you\n",
        "+ programmatically extract the 100 prices (let's use the **closing** price)\n",
        "+ create a list with them\n",
        "+ find the maximum and the minimum\n",
        "  + also find the _date_ of the max and the _date_ of the min\n",
        "  + be sure to print those out...\n",
        "+ create a **graph** of your list &nbsp; (suggestion: use AI for graphing help)\n",
        "  + get the AI to highlight the max and the min\n",
        "+ \"Single-share\" analysis: &nbsp; Find the buy day and sell day that maximize `(sell price - buy price)`\n",
        "  + make sure that you sell _at or after_ you buy...\n",
        "+ print your results\n",
        "+ re-graph your 100-day signal, and highlight the buy day and the sell day you just found\n",
        "  + you might ask to use ``seaborn`` or ``matplotlib`` - both are libraries available in Colab (and libraries that the AI knows well)\n",
        "\n",
        "<br>\n",
        "\n",
        "Once you have a workflow that works, try it with a different stock symbol!\n",
        "+ do the same thing for the other signal: print the best single-share strategy - and graph\n",
        "+ compare the results in your overall reflection below\n",
        "+ you could wrap the workflow pieces into a function that takes a stock symbol as input! (This is optional and cs-y.)\n",
        "\n",
        "<br>\n",
        "\n",
        "**<font color=\"Coral\">Part 2</font>: &nbsp;&nbsp; <font color=\"DodgerBlue\">Use and Analyze <u>another</u> Alphavantage API</font>** &nbsp; ... of your choice\n",
        "+ Look over the left-hand column of APIs in the [Alphavantage documentation](https://www.alphavantage.co/documentation/)\n",
        "+ Choose another API that seems interesting to you, then\n",
        "+ Explore and tinker to successfully use it, then\n",
        "+ Analyze a subset of the data from the resulting call, then\n",
        "+ Share, briefly, what you found.\n",
        "  + The analysis does not need to be involved. For example,\n",
        "  + finding the max and min of a value is wonderful - and definitely enough\n",
        "  + or, the average, or sum, or ... really anything,\n",
        "  + as long as it means you've looked through each time step of the data-sequence received  <font size=\"-1\">(not each piece of data, just each time step)</font>\n",
        "+ <font color=\"Coral\"><b>EC</b></font> Totally optional: <font size=\"-1\">Find a function for comparing time-series trends, import it, and then use it to compare one of your stock prices with your _other_ Alphavantage signal. Report what you find! (up to +10%) &nbsp;&nbsp; Initial library leads: ``statsmodels``, ``darts``, and/or ``sktime`` ...</font>\n",
        "\n",
        "<br>\n",
        "\n",
        "Some of the other APIs that look especially interesting, at least to me:\n",
        "+ News & Sentiments\n",
        "+ Income Statement / Balance Sheet\n",
        "+ GDP per capita\n",
        "+ Exchange rates\n",
        "+ Coffee!\n",
        "\n"
      ],
      "metadata": {
        "id": "JoWz9bO2bEDY"
      }
    },
    {
      "cell_type": "markdown",
      "source": [
        "<br>\n",
        "<hr>\n",
        "<br>\n",
        "\n",
        "### Onward!"
      ],
      "metadata": {
        "id": "XNsogBoYq-wC"
      }
    },
    {
      "cell_type": "code",
      "source": [
        "#\n",
        "# Let's request!   Just using the demo, for now:\n",
        "\n",
        "import requests\n",
        "\n",
        "url = \"https://www.alphavantage.co/query?function=TIME_SERIES_DAILY&symbol=MSFT&apikey=demo\"    # demo version\n",
        "result = requests.get(url)\n",
        "result"
      ],
      "metadata": {
        "id": "rk8_s7LGeQD2",
        "colab": {
          "base_uri": "https://localhost:8080/"
        },
        "outputId": "45421dc3-35b0-49f8-f7db-b92bccdc4c2f"
      },
      "execution_count": null,
      "outputs": [
        {
          "output_type": "execute_result",
          "data": {
            "text/plain": [
              "<Response [200]>"
            ]
          },
          "metadata": {},
          "execution_count": 21
        }
      ]
    },
    {
      "cell_type": "code",
      "source": [
        "#\n",
        "# Let's view ... then parse and interpret!\n",
        "\n",
        "d = result.json()\n",
        "print(d)"
      ],
      "metadata": {
        "id": "TBDyZgH-ecKL",
        "collapsed": true
      },
      "execution_count": null,
      "outputs": []
    },
    {
      "cell_type": "code",
      "source": [
        "#\n",
        "# Let's look at all of the keys...\n",
        "\n",
        "for k in d['Time Series (Daily)']:\n",
        "    print(k)\n",
        "\n",
        "# Aha! they are dates... let's create a function to compare two dates"
      ],
      "metadata": {
        "id": "KWq-he7JHXOO"
      },
      "execution_count": null,
      "outputs": []
    },
    {
      "cell_type": "code",
      "source": [
        "#\n",
        "# here is one way to make a list of all of the dates:\n",
        "\n",
        "DATES = list(d['Time Series (Daily)'].keys())\n",
        "DATES\n",
        "\n",
        "# Notice, they're backwards!"
      ],
      "metadata": {
        "id": "E0kMmNzg8vb0"
      },
      "execution_count": null,
      "outputs": []
    },
    {
      "cell_type": "code",
      "source": [
        "#\n",
        "# Let's flip the DATES around:\n",
        "DATES.reverse()\n",
        "DATES\n",
        "\n",
        "# Yay!"
      ],
      "metadata": {
        "id": "IuqKF3DM85Ft"
      },
      "execution_count": null,
      "outputs": []
    },
    {
      "cell_type": "code",
      "source": [
        "# Oooh... Now let's see what's in each key (date)\n",
        "\n",
        "val = float(d['Time Series (Daily)']['2025-01-21']['4. close'])  # Aha! it's a dictionary again!  We will need to index again!!\n",
        "val"
      ],
      "metadata": {
        "id": "xaoVqBX7eo3E",
        "colab": {
          "base_uri": "https://localhost:8080/"
        },
        "outputId": "3b39704a-c9cc-43eb-f805-1483ddc068e8"
      },
      "execution_count": null,
      "outputs": [
        {
          "output_type": "execute_result",
          "data": {
            "text/plain": [
              "428.5"
            ]
          },
          "metadata": {},
          "execution_count": 31
        }
      ]
    },
    {
      "cell_type": "code",
      "source": [
        "# A small function to get the closing price on a date (date) using data (dictionary) d\n",
        "def get_closing(date, d):\n",
        "    close = float(d['Time Series (Daily)'][date]['4. close'])\n",
        "    return close"
      ],
      "metadata": {
        "id": "9VWqvWIte4Ia"
      },
      "execution_count": null,
      "outputs": []
    },
    {
      "cell_type": "code",
      "source": [
        "# A loop to find the minimum closing price\n",
        "#\n",
        "\n",
        "min_price = 10000000\n",
        "min_key = \"nothing\"\n",
        "\n",
        "for date in d['Time Series (Daily)']:\n",
        "    closing =  get_closing(date, d)\n",
        "    # print(f\"date is {date} and closing is {closing}\")\n",
        "    if closing < min_price:\n",
        "        min_price = closing\n",
        "        min_price_date = date\n",
        "\n",
        "print(f\"min_price_date is {min_price_date} and {min_price = }\")"
      ],
      "metadata": {
        "id": "qCkmerfJBtfg"
      },
      "execution_count": null,
      "outputs": []
    },
    {
      "cell_type": "markdown",
      "source": [
        "#### Onward into the tasks, as listed above...\n",
        "+ perhaps first, make sure you can repeat the above cells with a _different_ stock ticker\n",
        "+ perhaps then create a **list** of all of the closing prices\n",
        "+ from there, you're ready for the analysis + graphing..."
      ],
      "metadata": {
        "id": "liGetEB-pxo0"
      }
    },
    {
      "cell_type": "markdown",
      "source": [
        "**Part 1: Single-share Analysis using TIME_SERIES**"
      ],
      "metadata": {
        "id": "6-vFuuOvuS6M"
      }
    },
    {
      "cell_type": "code",
      "source": [
        "import requests\n",
        "import matplotlib.pyplot as plt\n",
        "import matplotlib.dates as mdates\n",
        "import pandas as pd"
      ],
      "metadata": {
        "id": "izEScACa48Go"
      },
      "execution_count": 1,
      "outputs": []
    },
    {
      "cell_type": "code",
      "source": [
        "# API is working\n",
        "\n",
        "# url with my API key\n",
        "# doing analysis on Disney stock\n",
        "url = \"https://www.alphavantage.co/query?function=TIME_SERIES_DAILY&symbol=DIS&outputsize=compact&apikey=1UMWVTKBKEGLJKQN\"\n",
        "\n",
        "result = requests.get(url)\n",
        "result"
      ],
      "metadata": {
        "id": "vz3DLuVNpaau",
        "colab": {
          "base_uri": "https://localhost:8080/"
        },
        "outputId": "868bc203-92e7-4c8f-b56a-3b6ea1307884"
      },
      "execution_count": 2,
      "outputs": [
        {
          "output_type": "execute_result",
          "data": {
            "text/plain": [
              "<Response [200]>"
            ]
          },
          "metadata": {},
          "execution_count": 2
        }
      ]
    },
    {
      "cell_type": "code",
      "source": [
        "# get data\n",
        "\n",
        "d = result.json()\n",
        "# print(d)\n",
        "\n",
        "# compact data with last 100 days\n",
        "\n",
        "# print(len(d[\"Time Series (Daily)\"]))\n",
        "\n",
        "# extract 100 closing prices and create a list with them\n",
        "\n",
        "closing_prices = []\n",
        "\n",
        "sorted_dates = sorted(d[\"Time Series (Daily)\"].keys())\n",
        "\n",
        "dates = [pd.to_datetime(date) for date in sorted_dates]\n",
        "\n",
        "for date in sorted_dates:\n",
        "    closing_prices.append(float(d[\"Time Series (Daily)\"][date][\"4. close\"]))\n",
        "\n",
        "print(closing_prices)\n",
        "\n",
        "# find the maximum and minimum closing prices\n",
        "\n",
        "max_price = max(closing_prices)\n",
        "date_max = sorted_dates[closing_prices.index(max_price)]\n",
        "min_price = min(closing_prices)\n",
        "date_min = sorted_dates[closing_prices.index(min_price)]\n",
        "\n",
        "print((max_price, date_max), (min_price, date_min))"
      ],
      "metadata": {
        "colab": {
          "base_uri": "https://localhost:8080/"
        },
        "id": "ArjEHw0G0uGP",
        "outputId": "ea4b5398-c8e8-43fb-9525-af191b5fb8f0"
      },
      "execution_count": 3,
      "outputs": [
        {
          "output_type": "stream",
          "name": "stdout",
          "text": [
            "[96.19, 94.05, 94.15, 93.63, 95.15, 92.39, 92.51, 93.6, 92.99, 94.13, 94.97, 94.22, 96.75, 96.54, 97.28, 96.62, 96.74, 96.24, 95.4, 95.03, 96.2, 96.13, 95.08, 96.2, 95.81, 95.79, 96.63, 98.89, 98.93, 99.02, 100.86, 100.99, 102.72, 109.12, 115.08, 113.54, 112.42, 114.26, 114.72, 115.65, 116.0, 115.45, 117.6, 117.47, 117.16, 116.45, 116.99, 116.5, 116.73, 114.61, 114.73, 114.61, 114.9, 113.34, 112.11, 113.02, 111.35, 111.37, 112.03, 111.4, 112.56, 112.55, 111.55, 110.8, 111.35, 110.82, 111.16, 111.05, 111.39, 109.76, 108.65, 108.08, 108.12, 108.18, 106.46, 107.02, 108.7, 108.81, 111.04, 112.16, 113.34, 112.14, 113.19, 113.43, 113.06, 114.0, 113.3, 110.54, 112.09, 110.86, 109.28, 109.02, 109.23, 109.59, 110.38, 109.56, 111.35, 110.55, 108.66, 111.2]\n",
            "(117.6, '2024-11-27') (92.39, '2024-10-07')\n"
          ]
        }
      ]
    },
    {
      "cell_type": "code",
      "source": [
        "# plot closing prices against dates\n",
        "\n",
        "plt.plot(dates, closing_prices)\n",
        "\n",
        "plt.gca().xaxis.set_major_locator(mdates.WeekdayLocator())\n",
        "plt.gca().xaxis.set_major_formatter(mdates.DateFormatter('%b %d, %Y'))\n",
        "plt.xticks(rotation=90)\n",
        "\n",
        "plt.xlabel('Date(Weekly)')\n",
        "plt.ylabel('Closing Price(USD)')\n",
        "plt.title('Disney Closing Prices in the Last 100 Days')\n",
        "\n",
        "# highlight max and min\n",
        "plt.scatter(pd.to_datetime(date_max), max_price, color='green', label=f'Max: {max_price}')\n",
        "plt.scatter(pd.to_datetime(date_min), min_price, color='red', label=f'Min: {min_price}')\n",
        "\n",
        "plt.text(pd.to_datetime(date_max), max_price, f\"  Max: {max_price}\", color='green', verticalalignment='bottom')\n",
        "plt.text(pd.to_datetime(date_min), min_price, f\"  Min: {min_price}\", color='red', verticalalignment='top')\n",
        "\n",
        "\n",
        "plt.show()"
      ],
      "metadata": {
        "colab": {
          "base_uri": "https://localhost:8080/",
          "height": 551
        },
        "id": "oDJsqScW6iJk",
        "outputId": "62f6ee4c-3f26-4acc-dd92-b2442bfbf01c"
      },
      "execution_count": 4,
      "outputs": [
        {
          "output_type": "display_data",
          "data": {
            "text/plain": [
              "<Figure size 640x480 with 1 Axes>"
            ],
            "image/png": "[encoded data removed]"
          },
          "metadata": {}
        }
      ]
    },
    {
      "cell_type": "code",
      "source": [
        "# single share analysis\n",
        "\n",
        "max_profit = 0\n",
        "best_profit = ()\n",
        "\n",
        "for i in range(len(closing_prices)):\n",
        "  for j in range(i+1, len(closing_prices)):\n",
        "    if (closing_prices[j] - closing_prices[i]) > max_profit:\n",
        "      max_profit = (closing_prices[j] - closing_prices[i])\n",
        "      best_profit = (closing_prices[i], closing_prices[j])\n",
        "\n",
        "buy_date = sorted_dates[closing_prices.index(best_profit[0])]\n",
        "sell_date = sorted_dates[closing_prices.index(best_profit[1])]\n",
        "print(\"Buy on \" + buy_date + \" for $\" + str(best_profit[0]) + \", and sell on \" + sell_date + \" for $\" + str(best_profit[1]) + \".\")\n",
        "profit = round(best_profit[1]-best_profit[0], 2)\n",
        "print(\"You will make $\" + str(profit) + \".\")"
      ],
      "metadata": {
        "colab": {
          "base_uri": "https://localhost:8080/"
        },
        "id": "DM06r0k67J8H",
        "outputId": "91a89656-71eb-413c-a526-1c0bdd05c1a7"
      },
      "execution_count": 5,
      "outputs": [
        {
          "output_type": "stream",
          "name": "stdout",
          "text": [
            "Buy on 2024-10-07 for $92.39, and sell on 2024-11-27 for $117.6.\n",
            "You will make $25.21.\n"
          ]
        }
      ]
    },
    {
      "cell_type": "code",
      "source": [
        "# regraph based on calculated results\n",
        "\n",
        "plt.plot(dates, closing_prices)\n",
        "\n",
        "plt.gca().xaxis.set_major_locator(mdates.WeekdayLocator())\n",
        "plt.gca().xaxis.set_major_formatter(mdates.DateFormatter('%b %d, %Y'))\n",
        "plt.xticks(rotation=90)\n",
        "\n",
        "plt.xlabel('Date(Weekly)')\n",
        "plt.ylabel('Closing Price(USD)')\n",
        "plt.title('Disney Closing Prices in the Last 100 Days')\n",
        "\n",
        "plt.scatter(pd.to_datetime(sell_date), best_profit[1], color='green', label=f'Sell: {best_profit[1]}')\n",
        "plt.scatter(pd.to_datetime(buy_date), best_profit[0], color='red', label=f'Buy: {best_profit[0]}')\n",
        "\n",
        "plt.text(pd.to_datetime(sell_date), best_profit[1], f'  Sell: {best_profit[1]}', color='green', verticalalignment='bottom')\n",
        "plt.text(pd.to_datetime(buy_date), best_profit[0], f'  Buy: {best_profit[0]}', color='red', verticalalignment='top')\n",
        "\n",
        "plt.show()"
      ],
      "metadata": {
        "colab": {
          "base_uri": "https://localhost:8080/",
          "height": 551
        },
        "id": "AOYULoXyBInT",
        "outputId": "d2a654fe-8e5d-49cd-a92f-9fbd8e5f4be2"
      },
      "execution_count": 6,
      "outputs": [
        {
          "output_type": "display_data",
          "data": {
            "text/plain": [
              "<Figure size 640x480 with 1 Axes>"
            ],
            "image/png": "[encoded data removed]"
          },
          "metadata": {}
        }
      ]
    },
    {
      "cell_type": "markdown",
      "source": [
        "Now with different stock symbols."
      ],
      "metadata": {
        "id": "CwApM-1vCulw"
      }
    },
    {
      "cell_type": "code",
      "source": [
        "# function that takes in stock symbol and finds best times to buy and sell\n",
        "\n",
        "\n",
        "def highest_stock_profit(stock_symbol):\n",
        "  url = \"https://www.alphavantage.co/query?function=TIME_SERIES_DAILY&symbol=\" + stock_symbol + \"&outputsize=compact&apikey=1UMWVTKBKEGLJKQN\"\n",
        "\n",
        "  result = requests.get(url)\n",
        "  d = result.json()\n",
        "\n",
        "  closing_prices = []\n",
        "\n",
        "  sorted_dates = sorted(d[\"Time Series (Daily)\"].keys())\n",
        "\n",
        "  dates = [pd.to_datetime(date) for date in sorted_dates]\n",
        "\n",
        "  for date in sorted_dates:\n",
        "      closing_prices.append(float(d[\"Time Series (Daily)\"][date][\"4. close\"]))\n",
        "\n",
        "  # single share analysis\n",
        "\n",
        "  max_profit = 0\n",
        "  best_profit = ()\n",
        "\n",
        "  for i in range(len(closing_prices)):\n",
        "    for j in range(i+1, len(closing_prices)):\n",
        "      if (closing_prices[j] - closing_prices[i]) > max_profit:\n",
        "        max_profit = (closing_prices[j] - closing_prices[i])\n",
        "        best_profit = (closing_prices[i], closing_prices[j])\n",
        "\n",
        "  buy_date = sorted_dates[closing_prices.index(best_profit[0])]\n",
        "  sell_date = sorted_dates[closing_prices.index(best_profit[1])]\n",
        "  print(\"Buy on \" + buy_date + \" for $\" + str(best_profit[0]) + \", and sell on \" + sell_date + \" for $\" + str(best_profit[1]) + \".\")\n",
        "  profit = round(best_profit[1]-best_profit[0], 2)\n",
        "  print(\"You will make $\" + str(profit) + \".\")\n",
        "\n",
        "  # graph based on calculated results\n",
        "\n",
        "  plt.plot(dates, closing_prices)\n",
        "\n",
        "  plt.gca().xaxis.set_major_locator(mdates.WeekdayLocator())\n",
        "  plt.gca().xaxis.set_major_formatter(mdates.DateFormatter('%b %d, %Y'))\n",
        "  plt.xticks(rotation=90)\n",
        "\n",
        "  plt.xlabel('Date(Weekly)')\n",
        "  plt.ylabel('Closing Price(USD)')\n",
        "  plt.title(stock_symbol + ' Closing Prices in the Last 100 Days')\n",
        "\n",
        "  plt.scatter(pd.to_datetime(sell_date), best_profit[1], color='green', label=f'Sell: {best_profit[1]}')\n",
        "  plt.scatter(pd.to_datetime(buy_date), best_profit[0], color='red', label=f'Buy: {best_profit[0]}')\n",
        "\n",
        "  plt.text(pd.to_datetime(sell_date), best_profit[1], f'  Sell: {best_profit[1]}', color='green', verticalalignment='bottom')\n",
        "  plt.text(pd.to_datetime(buy_date), best_profit[0], f'  Buy: {best_profit[0]}', color='red', verticalalignment='top')\n",
        "\n",
        "  plt.show()\n",
        "\n",
        "highest_stock_profit(\"MNST\")"
      ],
      "metadata": {
        "colab": {
          "base_uri": "https://localhost:8080/",
          "height": 587
        },
        "id": "trz4I_dTCyuQ",
        "outputId": "aaf9fc0b-1dde-4d44-f722-db5ecc4035ab"
      },
      "execution_count": 7,
      "outputs": [
        {
          "output_type": "stream",
          "name": "stdout",
          "text": [
            "Buy on 2024-10-07 for $49.24, and sell on 2024-11-13 for $56.38.\n",
            "You will make $7.14.\n"
          ]
        },
        {
          "output_type": "display_data",
          "data": {
            "text/plain": [
              "<Figure size 640x480 with 1 Axes>"
            ],
            "image/png": "[encoded data removed]"
          },
          "metadata": {}
        }
      ]
    },
    {
      "cell_type": "markdown",
      "source": [
        "**Part 2: Use and Analyze another Alphavantage**"
      ],
      "metadata": {
        "id": "JEvhdVo9G-XA"
      }
    },
    {
      "cell_type": "code",
      "source": [
        "import requests\n",
        "from datetime import datetime"
      ],
      "metadata": {
        "id": "1APtM9QsXUXV"
      },
      "execution_count": 8,
      "outputs": []
    },
    {
      "cell_type": "code",
      "source": [
        "# getting data on the global price of sugar\n",
        "\n",
        "url = \"https://www.alphavantage.co/query?function=SUGAR&symbol=DIS&apikey=1UMWVTKBKEGLJKQN\"\n",
        "result = requests.get(url)\n",
        "d = result.json()\n",
        "\n",
        "# find the average price of sugar each year for the past 10 years\n",
        "\n",
        "# filter data for last 10 years\n",
        "\n",
        "current_year = datetime.now().year\n",
        "\n",
        "sugar_prices = []\n",
        "\n",
        "for i in d[\"data\"]:\n",
        "    year = int(i[\"date\"][:4])\n",
        "    if current_year - year < 11:\n",
        "        sugar_prices.append(i)\n",
        "\n",
        "# calculate yearly averages\n",
        "\n",
        "def average(year):\n",
        "  adding = 0\n",
        "  for entry in sugar_prices:\n",
        "    if int(entry[\"date\"][0:4]) == year:\n",
        "      adding += float(entry[\"value\"])\n",
        "\n",
        "  return round(adding/12, 2)\n",
        "\n",
        "years = [2024, 2023, 2022, 2021, 2020, 2019, 2018, 2017, 2016, 2015]\n",
        "\n",
        "averages_list = []\n",
        "\n",
        "for year in years:\n",
        "  averages_list.append((year, average(year)))\n",
        "\n",
        "print(averages_list)"
      ],
      "metadata": {
        "colab": {
          "base_uri": "https://localhost:8080/"
        },
        "id": "O2gxqzD6WU3P",
        "outputId": "fcc48b09-0d32-4c2f-82de-257b434ab086"
      },
      "execution_count": 9,
      "outputs": [
        {
          "output_type": "stream",
          "name": "stdout",
          "text": [
            "[(2024, 20.74), (2023, 24.04), (2022, 18.83), (2021, 17.86), (2020, 12.88), (2019, 12.35), (2018, 12.25), (2017, 15.83), (2016, 18.14), (2015, 13.22)]\n"
          ]
        }
      ]
    },
    {
      "cell_type": "markdown",
      "source": [
        "Extra Credit"
      ],
      "metadata": {
        "id": "vypfoCJP-X2i"
      }
    },
    {
      "cell_type": "code",
      "source": [
        "!pip install darts\n",
        "import pandas as pd\n",
        "from darts import TimeSeries\n",
        "import requests\n",
        "from darts.metrics import rmse"
      ],
      "metadata": {
        "id": "blneRoOm-nBz",
        "collapsed": true
      },
      "execution_count": null,
      "outputs": []
    },
    {
      "cell_type": "code",
      "source": [
        "# used the monthly stock series instead of daily to match sugar\n",
        "stock_url = \"https://www.alphavantage.co/query?function=TIME_SERIES_MONTHLY&symbol=DIS&apikey=1UMWVTKBKEGLJKQN\"\n",
        "sugar_url = \"https://www.alphavantage.co/query?function=SUGAR&symbol=DIS&apikey=1UMWVTKBKEGLJKQN\"\n",
        "stock_result = requests.get(stock_url)\n",
        "sugar_result = requests.get(sugar_url)\n",
        "\n",
        "stock_data = stock_result.json()\n",
        "sugar_data = sugar_result.json()"
      ],
      "metadata": {
        "id": "PeCCBr_2-Z7i"
      },
      "execution_count": 12,
      "outputs": []
    },
    {
      "cell_type": "code",
      "source": [
        "# find stock averages\n",
        "\n",
        "def stock_average(year, dataset):\n",
        "    adding = 0\n",
        "    for date, values in dataset[\"Monthly Time Series\"].items():\n",
        "        if int(date[:4]) == year:\n",
        "            adding += float(values[\"4. close\"])\n",
        "    return round(adding / 12, 2)\n",
        "\n",
        "years = [2024, 2023, 2022, 2021, 2020, 2019, 2018, 2017, 2016, 2015]\n",
        "\n",
        "stock_averages_list = [(stock_average(year, stock_data)) for year in years]\n",
        "\n",
        "# finding sugar averages\n",
        "\n",
        "sugar_averages_list = []\n",
        "\n",
        "for year in years:\n",
        "  sugar_averages_list.append((average(year)))\n",
        "\n",
        "date_index = pd.date_range(start=f\"{years[-1]}-01-01\", periods=len(years), freq=\"YE\")\n",
        "\n",
        "stock_series = TimeSeries.from_times_and_values(date_index, stock_averages_list)\n",
        "sugar_series = TimeSeries.from_times_and_values(date_index, sugar_averages_list)\n",
        "\n",
        "\n",
        "root_mean_squared_error = rmse(stock_series, sugar_series)\n",
        "print(round(root_mean_squared_error, 2))\n"
      ],
      "metadata": {
        "colab": {
          "base_uri": "https://localhost:8080/"
        },
        "collapsed": true,
        "id": "d0yCwHgSB12m",
        "outputId": "0de77ff5-2a4a-4216-b9f7-f6f4a8a1017f"
      },
      "execution_count": 13,
      "outputs": [
        {
          "output_type": "stream",
          "name": "stdout",
          "text": [
            "102.1\n"
          ]
        }
      ]
    },
    {
      "cell_type": "code",
      "source": [
        "# Disney stock vs Monster stock\n",
        "\n",
        "mnst_stock_url = \"https://www.alphavantage.co/query?function=TIME_SERIES_MONTHLY&symbol=MNST&apikey=1UMWVTKBKEGLJKQN\"\n",
        "\n",
        "mnst_result = requests.get(mnst_stock_url)\n",
        "\n",
        "mnst_data = mnst_result.json()\n",
        "\n",
        "mnst_averages_list = [(stock_average(year, mnst_data)) for year in years]\n",
        "\n",
        "mnst_series = TimeSeries.from_times_and_values(date_index, mnst_averages_list)\n",
        "\n",
        "stock_rmse = rmse(stock_series, mnst_series)\n",
        "print(round(stock_rmse, 2))"
      ],
      "metadata": {
        "colab": {
          "base_uri": "https://localhost:8080/"
        },
        "id": "6jK3kRz8rIIv",
        "outputId": "9e9f9a49-51fd-47ba-da84-25207ba4aa6d"
      },
      "execution_count": 14,
      "outputs": [
        {
          "output_type": "stream",
          "name": "stdout",
          "text": [
            "50.94\n"
          ]
        }
      ]
    },
    {
      "cell_type": "markdown",
      "source": [
        "<br>\n",
        "<hr>\n",
        "<br>\n",
        "\n",
        "### You're off and ~~running~~ **API'ing** !\n",
        "\n",
        "There's no stopping now...\n",
        "\n",
        "Include in this notebook - below - a short 4-6 sentence summary of\n",
        "+ Which of your two (or more) stocks offers better \"profit\" opportunity -- for a single-share -- if you had a time machine that worked for the past 100 days?\n",
        "+ What other API did you choose to try? What did you analyze from it?\n",
        "+ How difficult/accessible did you find the Alphavantage documentation?\n",
        "+ You're welcome to use AI for help + debugging\n",
        "  + what are your thoughts: &nbsp; Was AI helpful on this?  &nbsp;&nbsp;  Was AI <i>un</i>helpful on this? &nbsp; Both? &nbsp; Neither?\n",
        "+ Big-picture, how the API'ing and Python'ing went overall?\n"
      ],
      "metadata": {
        "id": "XsqCUyh0e5hG"
      }
    },
    {
      "cell_type": "markdown",
      "source": [
        "### Markdown cell for thoughts on this API/JSON/Python \"API and Analysis\" challenge:\n",
        "\n",
        "Feel free to use this cell for that reflection...\n",
        "\n",
        "In part one, I compared Disney stock and Moster stock. This was interesting because Disney had a buy and sell price that was the same as the minimum and maximum. A lot of other stocks I tested with my function did as well. Monster stock is different because it had a buy and sell price different from its 100 day minumum and maximum combination. Disney has a much better profit opportunity because the difference between buy and sell price is much higher.\n",
        "\n",
        "In part two, I chose the sugar prices API. I analyzed average sugar prices per year for a decade. I thought the Alphavantage documentation was easy to read through and it wasn't too difficult to use. I used AI for debugging and it was very helpful, especially with interpreting error messages. I think this went well overall and I enjoyed the lab.\n",
        "\n",
        "For the extra credit, I found the root mean squared error for the stocks and sugar data. I got 102.1 which means that they data values are very different.\n",
        "\n",
        "I then compared Disney and Monster stock. I got a value of 50.94 which means the stock prices vary a good amount."
      ],
      "metadata": {
        "id": "1a5D-FU5nfhL"
      }
    },
    {
      "cell_type": "markdown",
      "source": [
        "### Lab/Office hours...\n",
        "\n",
        "We'll have in-lab grutoring hours, in HMC's McGregor 205:\n",
        "+ Thursday, 2/13 from 7-9pm\n",
        "+ Friday, 2/14 from 1:30-3pm\n",
        "+ Sunday, 2/16 from 7:30-9:30pm\n",
        "\n",
        "<br>\n",
        "\n",
        "### Submitting...\n",
        "\n",
        "This \"API + Analysis\" challenge will be due:\n",
        "+ now, <font color=\"DarkRed\">Sunday</font> evening @ 11pm  (Feb. 16th)  \n",
        "+ Download this notebook and Submit to GradeScope\n",
        "+ Join Econ176 by adding Gradescope course code <tt><b>R7G3NG</b></tt>\n",
        "\n",
        "Onward!"
      ],
      "metadata": {
        "id": "1EqsfVrZnuoa"
      }
    }
  ]
}