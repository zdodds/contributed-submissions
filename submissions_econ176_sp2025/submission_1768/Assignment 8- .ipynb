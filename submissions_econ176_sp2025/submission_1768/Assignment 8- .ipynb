{
  "nbformat": 4,
  "nbformat_minor": 0,
  "metadata": {
    "colab": {
      "provenance": []
    },
    "kernelspec": {
      "name": "python3",
      "display_name": "Python 3"
    },
    "language_info": {
      "name": "python"
    }
  },
  "cells": [
    {
      "cell_type": "markdown",
      "source": [
        "# Welcome to Web3!\n",
        "\n",
        "### Blockchain programming using Ethereum and Web3.py\n",
        "\n",
        "<font size=\"-1\">motivated by <a href=\"https://snakecharmers.ethereum.org/a-developers-guide-to-ethereum-pt-1/\">A Developer's Guide to Ethereum</a> by M. Garreau</font>"
      ],
      "metadata": {
        "id": "f_2pfxIg1q3r"
      }
    },
    {
      "cell_type": "code",
      "source": [
        "# This will update Colab's libraries\n",
        "#      and will avoid several DeprecationWarnings in the future...\n",
        "\n",
        "import warnings\n",
        "warnings.filterwarnings(\"ignore\", category=ImportWarning, append=True)\n",
        "warnings.filterwarnings(\"ignore\", category=DeprecationWarning, append=True)\n",
        "\n",
        "# these may need to be repeated, and the append parameter seems suspiciously unintuitive (i.e., not-working)\n",
        "# this may not be needed\n",
        "# !pip install --upgrade ipykernel"
      ],
      "metadata": {
        "id": "uIfZST05VwzD"
      },
      "execution_count": null,
      "outputs": []
    },
    {
      "cell_type": "code",
      "source": [
        "!pip install web3"
      ],
      "metadata": {
        "id": "snu1lb5E1nnl",
        "collapsed": true,
        "colab": {
          "base_uri": "https://localhost:8080/"
        },
        "outputId": "1ffaa4c5-427c-4cde-a42e-50d5fb6f989f"
      },
      "execution_count": null,
      "outputs": [
        {
          "output_type": "stream",
          "name": "stdout",
          "text": [
            "Collecting web3\n",
            "  Downloading web3-7.10.0-py3-none-any.whl.metadata (5.6 kB)\n",
            "Collecting eth-abi>=5.0.1 (from web3)\n",
            "  Downloading eth_abi-5.2.0-py3-none-any.whl.metadata (3.8 kB)\n",
            "Collecting eth-account>=0.13.1 (from web3)\n",
            "  Downloading eth_account-0.13.6-py3-none-any.whl.metadata (3.7 kB)\n",
            "Collecting eth-hash>=0.5.1 (from eth-hash[pycryptodome]>=0.5.1->web3)\n",
            "  Downloading eth_hash-0.7.1-py3-none-any.whl.metadata (4.2 kB)\n",
            "Collecting eth-typing>=5.0.0 (from web3)\n",
            "  Downloading eth_typing-5.2.1-py3-none-any.whl.metadata (3.2 kB)\n",
            "Collecting eth-utils>=5.0.0 (from web3)\n",
            "  Downloading eth_utils-5.3.0-py3-none-any.whl.metadata (5.7 kB)\n",
            "Collecting hexbytes>=1.2.0 (from web3)\n",
            "  Downloading hexbytes-1.3.0-py3-none-any.whl.metadata (3.3 kB)\n",
            "Requirement already satisfied: aiohttp>=3.7.4.post0 in /usr/local/lib/python3.11/dist-packages (from web3) (3.11.15)\n",
            "Requirement already satisfied: pydantic>=2.4.0 in /usr/local/lib/python3.11/dist-packages (from web3) (2.11.3)\n",
            "Requirement already satisfied: requests>=2.23.0 in /usr/local/lib/python3.11/dist-packages (from web3) (2.32.3)\n",
            "Requirement already satisfied: typing-extensions>=4.0.1 in /usr/local/lib/python3.11/dist-packages (from web3) (4.13.1)\n",
            "Collecting types-requests>=2.0.0 (from web3)\n",
            "  Downloading types_requests-2.32.0.20250328-py3-none-any.whl.metadata (2.3 kB)\n",
            "Requirement already satisfied: websockets<16.0.0,>=10.0.0 in /usr/local/lib/python3.11/dist-packages (from web3) (15.0.1)\n",
            "Collecting pyunormalize>=15.0.0 (from web3)\n",
            "  Downloading pyunormalize-16.0.0-py3-none-any.whl.metadata (4.0 kB)\n",
            "Requirement already satisfied: aiohappyeyeballs>=2.3.0 in /usr/local/lib/python3.11/dist-packages (from aiohttp>=3.7.4.post0->web3) (2.6.1)\n",
            "Requirement already satisfied: aiosignal>=1.1.2 in /usr/local/lib/python3.11/dist-packages (from aiohttp>=3.7.4.post0->web3) (1.3.2)\n",
            "Requirement already satisfied: attrs>=17.3.0 in /usr/local/lib/python3.11/dist-packages (from aiohttp>=3.7.4.post0->web3) (25.3.0)\n",
            "Requirement already satisfied: frozenlist>=1.1.1 in /usr/local/lib/python3.11/dist-packages (from aiohttp>=3.7.4.post0->web3) (1.5.0)\n",
            "Requirement already satisfied: multidict<7.0,>=4.5 in /usr/local/lib/python3.11/dist-packages (from aiohttp>=3.7.4.post0->web3) (6.4.2)\n",
            "Requirement already satisfied: propcache>=0.2.0 in /usr/local/lib/python3.11/dist-packages (from aiohttp>=3.7.4.post0->web3) (0.3.1)\n",
            "Requirement already satisfied: yarl<2.0,>=1.17.0 in /usr/local/lib/python3.11/dist-packages (from aiohttp>=3.7.4.post0->web3) (1.19.0)\n",
            "Collecting parsimonious<0.11.0,>=0.10.0 (from eth-abi>=5.0.1->web3)\n",
            "  Downloading parsimonious-0.10.0-py3-none-any.whl.metadata (25 kB)\n",
            "Collecting bitarray>=2.4.0 (from eth-account>=0.13.1->web3)\n",
            "  Downloading bitarray-3.3.1-cp311-cp311-manylinux_2_17_x86_64.manylinux2014_x86_64.whl.metadata (33 kB)\n",
            "Collecting eth-keyfile<0.9.0,>=0.7.0 (from eth-account>=0.13.1->web3)\n",
            "  Downloading eth_keyfile-0.8.1-py3-none-any.whl.metadata (8.5 kB)\n",
            "Collecting eth-keys>=0.4.0 (from eth-account>=0.13.1->web3)\n",
            "  Downloading eth_keys-0.7.0-py3-none-any.whl.metadata (13 kB)\n",
            "Collecting eth-rlp>=2.1.0 (from eth-account>=0.13.1->web3)\n",
            "  Downloading eth_rlp-2.2.0-py3-none-any.whl.metadata (3.3 kB)\n",
            "Collecting rlp>=1.0.0 (from eth-account>=0.13.1->web3)\n",
            "  Downloading rlp-4.1.0-py3-none-any.whl.metadata (3.2 kB)\n",
            "Collecting ckzg>=2.0.0 (from eth-account>=0.13.1->web3)\n",
            "  Downloading ckzg-2.1.1-cp311-cp311-manylinux_2_17_x86_64.manylinux2014_x86_64.whl.metadata (887 bytes)\n",
            "Collecting pycryptodome<4,>=3.6.6 (from eth-hash[pycryptodome]>=0.5.1->web3)\n",
            "  Downloading pycryptodome-3.22.0-cp37-abi3-manylinux_2_17_x86_64.manylinux2014_x86_64.whl.metadata (3.4 kB)\n",
            "Collecting cytoolz>=0.10.1 (from eth-utils>=5.0.0->web3)\n",
            "  Downloading cytoolz-1.0.1-cp311-cp311-manylinux_2_17_x86_64.manylinux2014_x86_64.whl.metadata (4.6 kB)\n",
            "Requirement already satisfied: annotated-types>=0.6.0 in /usr/local/lib/python3.11/dist-packages (from pydantic>=2.4.0->web3) (0.7.0)\n",
            "Requirement already satisfied: pydantic-core==2.33.1 in /usr/local/lib/python3.11/dist-packages (from pydantic>=2.4.0->web3) (2.33.1)\n",
            "Requirement already satisfied: typing-inspection>=0.4.0 in /usr/local/lib/python3.11/dist-packages (from pydantic>=2.4.0->web3) (0.4.0)\n",
            "Requirement already satisfied: charset-normalizer<4,>=2 in /usr/local/lib/python3.11/dist-packages (from requests>=2.23.0->web3) (3.4.1)\n",
            "Requirement already satisfied: idna<4,>=2.5 in /usr/local/lib/python3.11/dist-packages (from requests>=2.23.0->web3) (3.10)\n",
            "Requirement already satisfied: urllib3<3,>=1.21.1 in /usr/local/lib/python3.11/dist-packages (from requests>=2.23.0->web3) (2.3.0)\n",
            "Requirement already satisfied: certifi>=2017.4.17 in /usr/local/lib/python3.11/dist-packages (from requests>=2.23.0->web3) (2025.1.31)\n",
            "Requirement already satisfied: toolz>=0.8.0 in /usr/local/lib/python3.11/dist-packages (from cytoolz>=0.10.1->eth-utils>=5.0.0->web3) (0.12.1)\n",
            "Requirement already satisfied: regex>=2022.3.15 in /usr/local/lib/python3.11/dist-packages (from parsimonious<0.11.0,>=0.10.0->eth-abi>=5.0.1->web3) (2024.11.6)\n",
            "Downloading web3-7.10.0-py3-none-any.whl (1.4 MB)\n",
            "\u001b[2K   \u001b[90m━━━━━━━━━━━━━━━━━━━━━━━━━━━━━━━━━━━━━━━━\u001b[0m \u001b[32m1.4/1.4 MB\u001b[0m \u001b[31m18.0 MB/s\u001b[0m eta \u001b[36m0:00:00\u001b[0m\n",
            "\u001b[?25hDownloading eth_abi-5.2.0-py3-none-any.whl (28 kB)\n",
            "Downloading eth_account-0.13.6-py3-none-any.whl (586 kB)\n",
            "\u001b[2K   \u001b[90m━━━━━━━━━━━━━━━━━━━━━━━━━━━━━━━━━━━━━━━━\u001b[0m \u001b[32m587.0/587.0 kB\u001b[0m \u001b[31m27.0 MB/s\u001b[0m eta \u001b[36m0:00:00\u001b[0m\n",
            "\u001b[?25hDownloading eth_hash-0.7.1-py3-none-any.whl (8.0 kB)\n",
            "Downloading eth_typing-5.2.1-py3-none-any.whl (19 kB)\n",
            "Downloading eth_utils-5.3.0-py3-none-any.whl (102 kB)\n",
            "\u001b[2K   \u001b[90m━━━━━━━━━━━━━━━━━━━━━━━━━━━━━━━━━━━━━━━━\u001b[0m \u001b[32m102.5/102.5 kB\u001b[0m \u001b[31m7.2 MB/s\u001b[0m eta \u001b[36m0:00:00\u001b[0m\n",
            "\u001b[?25hDownloading hexbytes-1.3.0-py3-none-any.whl (4.9 kB)\n",
            "Downloading pyunormalize-16.0.0-py3-none-any.whl (49 kB)\n",
            "\u001b[2K   \u001b[90m━━━━━━━━━━━━━━━━━━━━━━━━━━━━━━━━━━━━━━━━\u001b[0m \u001b[32m49.2/49.2 kB\u001b[0m \u001b[31m3.1 MB/s\u001b[0m eta \u001b[36m0:00:00\u001b[0m\n",
            "\u001b[?25hDownloading types_requests-2.32.0.20250328-py3-none-any.whl (20 kB)\n",
            "Downloading bitarray-3.3.1-cp311-cp311-manylinux_2_17_x86_64.manylinux2014_x86_64.whl (306 kB)\n",
            "\u001b[2K   \u001b[90m━━━━━━━━━━━━━━━━━━━━━━━━━━━━━━━━━━━━━━━━\u001b[0m \u001b[32m306.6/306.6 kB\u001b[0m \u001b[31m16.2 MB/s\u001b[0m eta \u001b[36m0:00:00\u001b[0m\n",
            "\u001b[?25hDownloading ckzg-2.1.1-cp311-cp311-manylinux_2_17_x86_64.manylinux2014_x86_64.whl (170 kB)\n",
            "\u001b[2K   \u001b[90m━━━━━━━━━━━━━━━━━━━━━━━━━━━━━━━━━━━━━━━━\u001b[0m \u001b[32m170.5/170.5 kB\u001b[0m \u001b[31m11.2 MB/s\u001b[0m eta \u001b[36m0:00:00\u001b[0m\n",
            "\u001b[?25hDownloading cytoolz-1.0.1-cp311-cp311-manylinux_2_17_x86_64.manylinux2014_x86_64.whl (2.1 MB)\n",
            "\u001b[2K   \u001b[90m━━━━━━━━━━━━━━━━━━━━━━━━━━━━━━━━━━━━━━━━\u001b[0m \u001b[32m2.1/2.1 MB\u001b[0m \u001b[31m53.3 MB/s\u001b[0m eta \u001b[36m0:00:00\u001b[0m\n",
            "\u001b[?25hDownloading eth_keyfile-0.8.1-py3-none-any.whl (7.5 kB)\n",
            "Downloading eth_keys-0.7.0-py3-none-any.whl (20 kB)\n",
            "Downloading eth_rlp-2.2.0-py3-none-any.whl (4.4 kB)\n",
            "Downloading parsimonious-0.10.0-py3-none-any.whl (48 kB)\n",
            "\u001b[2K   \u001b[90m━━━━━━━━━━━━━━━━━━━━━━━━━━━━━━━━━━━━━━━━\u001b[0m \u001b[32m48.4/48.4 kB\u001b[0m \u001b[31m3.3 MB/s\u001b[0m eta \u001b[36m0:00:00\u001b[0m\n",
            "\u001b[?25hDownloading pycryptodome-3.22.0-cp37-abi3-manylinux_2_17_x86_64.manylinux2014_x86_64.whl (2.3 MB)\n",
            "\u001b[2K   \u001b[90m━━━━━━━━━━━━━━━━━━━━━━━━━━━━━━━━━━━━━━━━\u001b[0m \u001b[32m2.3/2.3 MB\u001b[0m \u001b[31m59.2 MB/s\u001b[0m eta \u001b[36m0:00:00\u001b[0m\n",
            "\u001b[?25hDownloading rlp-4.1.0-py3-none-any.whl (19 kB)\n",
            "Installing collected packages: ckzg, bitarray, types-requests, pyunormalize, pycryptodome, parsimonious, hexbytes, eth-typing, eth-hash, cytoolz, eth-utils, rlp, eth-keys, eth-abi, eth-rlp, eth-keyfile, eth-account, web3\n",
            "Successfully installed bitarray-3.3.1 ckzg-2.1.1 cytoolz-1.0.1 eth-abi-5.2.0 eth-account-0.13.6 eth-hash-0.7.1 eth-keyfile-0.8.1 eth-keys-0.7.0 eth-rlp-2.2.0 eth-typing-5.2.1 eth-utils-5.3.0 hexbytes-1.3.0 parsimonious-0.10.0 pycryptodome-3.22.0 pyunormalize-16.0.0 rlp-4.1.0 types-requests-2.32.0.20250328 web3-7.10.0\n"
          ]
        }
      ]
    },
    {
      "cell_type": "code",
      "source": [
        "!pip install \"web3[tester]\""
      ],
      "metadata": {
        "id": "cbR4paJ213H4",
        "collapsed": true,
        "colab": {
          "base_uri": "https://localhost:8080/"
        },
        "outputId": "2228fdd1-51a8-45cb-cd1b-d627752fc6da"
      },
      "execution_count": null,
      "outputs": [
        {
          "output_type": "stream",
          "name": "stdout",
          "text": [
            "Requirement already satisfied: web3[tester] in /usr/local/lib/python3.11/dist-packages (7.10.0)\n",
            "Requirement already satisfied: eth-abi>=5.0.1 in /usr/local/lib/python3.11/dist-packages (from web3[tester]) (5.2.0)\n",
            "Requirement already satisfied: eth-account>=0.13.1 in /usr/local/lib/python3.11/dist-packages (from web3[tester]) (0.13.6)\n",
            "Requirement already satisfied: eth-hash>=0.5.1 in /usr/local/lib/python3.11/dist-packages (from eth-hash[pycryptodome]>=0.5.1->web3[tester]) (0.7.1)\n",
            "Requirement already satisfied: eth-typing>=5.0.0 in /usr/local/lib/python3.11/dist-packages (from web3[tester]) (5.2.1)\n",
            "Requirement already satisfied: eth-utils>=5.0.0 in /usr/local/lib/python3.11/dist-packages (from web3[tester]) (5.3.0)\n",
            "Requirement already satisfied: hexbytes>=1.2.0 in /usr/local/lib/python3.11/dist-packages (from web3[tester]) (1.3.0)\n",
            "Requirement already satisfied: aiohttp>=3.7.4.post0 in /usr/local/lib/python3.11/dist-packages (from web3[tester]) (3.11.15)\n",
            "Requirement already satisfied: pydantic>=2.4.0 in /usr/local/lib/python3.11/dist-packages (from web3[tester]) (2.11.3)\n",
            "Requirement already satisfied: requests>=2.23.0 in /usr/local/lib/python3.11/dist-packages (from web3[tester]) (2.32.3)\n",
            "Requirement already satisfied: typing-extensions>=4.0.1 in /usr/local/lib/python3.11/dist-packages (from web3[tester]) (4.13.1)\n",
            "Requirement already satisfied: types-requests>=2.0.0 in /usr/local/lib/python3.11/dist-packages (from web3[tester]) (2.32.0.20250328)\n",
            "Requirement already satisfied: websockets<16.0.0,>=10.0.0 in /usr/local/lib/python3.11/dist-packages (from web3[tester]) (15.0.1)\n",
            "Requirement already satisfied: pyunormalize>=15.0.0 in /usr/local/lib/python3.11/dist-packages (from web3[tester]) (16.0.0)\n",
            "Collecting eth-tester<0.13.0b1,>=0.12.0b1 (from eth-tester[py-evm]<0.13.0b1,>=0.12.0b1; extra == \"tester\"->web3[tester])\n",
            "  Downloading eth_tester-0.12.1b1-py3-none-any.whl.metadata (38 kB)\n",
            "Collecting py-geth>=5.1.0 (from web3[tester])\n",
            "  Downloading py_geth-5.4.0-py3-none-any.whl.metadata (9.3 kB)\n",
            "Requirement already satisfied: aiohappyeyeballs>=2.3.0 in /usr/local/lib/python3.11/dist-packages (from aiohttp>=3.7.4.post0->web3[tester]) (2.6.1)\n",
            "Requirement already satisfied: aiosignal>=1.1.2 in /usr/local/lib/python3.11/dist-packages (from aiohttp>=3.7.4.post0->web3[tester]) (1.3.2)\n",
            "Requirement already satisfied: attrs>=17.3.0 in /usr/local/lib/python3.11/dist-packages (from aiohttp>=3.7.4.post0->web3[tester]) (25.3.0)\n",
            "Requirement already satisfied: frozenlist>=1.1.1 in /usr/local/lib/python3.11/dist-packages (from aiohttp>=3.7.4.post0->web3[tester]) (1.5.0)\n",
            "Requirement already satisfied: multidict<7.0,>=4.5 in /usr/local/lib/python3.11/dist-packages (from aiohttp>=3.7.4.post0->web3[tester]) (6.4.2)\n",
            "Requirement already satisfied: propcache>=0.2.0 in /usr/local/lib/python3.11/dist-packages (from aiohttp>=3.7.4.post0->web3[tester]) (0.3.1)\n",
            "Requirement already satisfied: yarl<2.0,>=1.17.0 in /usr/local/lib/python3.11/dist-packages (from aiohttp>=3.7.4.post0->web3[tester]) (1.19.0)\n",
            "Requirement already satisfied: parsimonious<0.11.0,>=0.10.0 in /usr/local/lib/python3.11/dist-packages (from eth-abi>=5.0.1->web3[tester]) (0.10.0)\n",
            "Requirement already satisfied: bitarray>=2.4.0 in /usr/local/lib/python3.11/dist-packages (from eth-account>=0.13.1->web3[tester]) (3.3.1)\n",
            "Requirement already satisfied: eth-keyfile<0.9.0,>=0.7.0 in /usr/local/lib/python3.11/dist-packages (from eth-account>=0.13.1->web3[tester]) (0.8.1)\n",
            "Requirement already satisfied: eth-keys>=0.4.0 in /usr/local/lib/python3.11/dist-packages (from eth-account>=0.13.1->web3[tester]) (0.7.0)\n",
            "Requirement already satisfied: eth-rlp>=2.1.0 in /usr/local/lib/python3.11/dist-packages (from eth-account>=0.13.1->web3[tester]) (2.2.0)\n",
            "Requirement already satisfied: rlp>=1.0.0 in /usr/local/lib/python3.11/dist-packages (from eth-account>=0.13.1->web3[tester]) (4.1.0)\n",
            "Requirement already satisfied: ckzg>=2.0.0 in /usr/local/lib/python3.11/dist-packages (from eth-account>=0.13.1->web3[tester]) (2.1.1)\n",
            "Requirement already satisfied: pycryptodome<4,>=3.6.6 in /usr/local/lib/python3.11/dist-packages (from eth-hash[pycryptodome]>=0.5.1->web3[tester]) (3.22.0)\n",
            "Collecting semantic_version>=2.6.0 (from eth-tester<0.13.0b1,>=0.12.0b1->eth-tester[py-evm]<0.13.0b1,>=0.12.0b1; extra == \"tester\"->web3[tester])\n",
            "  Downloading semantic_version-2.10.0-py2.py3-none-any.whl.metadata (9.7 kB)\n",
            "Collecting py-evm<0.11.0b0,>=0.10.0b0 (from eth-tester[py-evm]<0.13.0b1,>=0.12.0b1; extra == \"tester\"->web3[tester])\n",
            "  Downloading py_evm-0.10.1b2-py3-none-any.whl.metadata (7.4 kB)\n",
            "Requirement already satisfied: cytoolz>=0.10.1 in /usr/local/lib/python3.11/dist-packages (from eth-utils>=5.0.0->web3[tester]) (1.0.1)\n",
            "Requirement already satisfied: annotated-types>=0.6.0 in /usr/local/lib/python3.11/dist-packages (from pydantic>=2.4.0->web3[tester]) (0.7.0)\n",
            "Requirement already satisfied: pydantic-core==2.33.1 in /usr/local/lib/python3.11/dist-packages (from pydantic>=2.4.0->web3[tester]) (2.33.1)\n",
            "Requirement already satisfied: typing-inspection>=0.4.0 in /usr/local/lib/python3.11/dist-packages (from pydantic>=2.4.0->web3[tester]) (0.4.0)\n",
            "Requirement already satisfied: charset-normalizer<4,>=2 in /usr/local/lib/python3.11/dist-packages (from requests>=2.23.0->web3[tester]) (3.4.1)\n",
            "Requirement already satisfied: idna<4,>=2.5 in /usr/local/lib/python3.11/dist-packages (from requests>=2.23.0->web3[tester]) (3.10)\n",
            "Requirement already satisfied: urllib3<3,>=1.21.1 in /usr/local/lib/python3.11/dist-packages (from requests>=2.23.0->web3[tester]) (2.3.0)\n",
            "Requirement already satisfied: certifi>=2017.4.17 in /usr/local/lib/python3.11/dist-packages (from requests>=2.23.0->web3[tester]) (2025.1.31)\n",
            "Requirement already satisfied: toolz>=0.8.0 in /usr/local/lib/python3.11/dist-packages (from cytoolz>=0.10.1->eth-utils>=5.0.0->web3[tester]) (0.12.1)\n",
            "Collecting safe-pysha3>=1.0.0 (from eth-hash>=0.5.1->eth-hash[pycryptodome]>=0.5.1->web3[tester])\n",
            "  Downloading safe-pysha3-1.0.4.tar.gz (827 kB)\n",
            "\u001b[2K     \u001b[90m━━━━━━━━━━━━━━━━━━━━━━━━━━━━━━━━━━━━━━\u001b[0m \u001b[32m827.7/827.7 kB\u001b[0m \u001b[31m18.7 MB/s\u001b[0m eta \u001b[36m0:00:00\u001b[0m\n",
            "\u001b[?25h  Preparing metadata (setup.py) ... \u001b[?25l\u001b[?25hdone\n",
            "Requirement already satisfied: regex>=2022.3.15 in /usr/local/lib/python3.11/dist-packages (from parsimonious<0.11.0,>=0.10.0->eth-abi>=5.0.1->web3[tester]) (2024.11.6)\n",
            "Collecting cached-property>=1.5.1 (from py-evm<0.11.0b0,>=0.10.0b0->eth-tester[py-evm]<0.13.0b1,>=0.12.0b1; extra == \"tester\"->web3[tester])\n",
            "  Downloading cached_property-2.0.1-py3-none-any.whl.metadata (10 kB)\n",
            "Collecting eth-bloom>=1.0.3 (from py-evm<0.11.0b0,>=0.10.0b0->eth-tester[py-evm]<0.13.0b1,>=0.12.0b1; extra == \"tester\"->web3[tester])\n",
            "  Downloading eth_bloom-3.1.0-py3-none-any.whl.metadata (8.7 kB)\n",
            "Collecting lru-dict>=1.1.6 (from py-evm<0.11.0b0,>=0.10.0b0->eth-tester[py-evm]<0.13.0b1,>=0.12.0b1; extra == \"tester\"->web3[tester])\n",
            "  Downloading lru_dict-1.3.0-cp311-cp311-manylinux_2_5_x86_64.manylinux1_x86_64.manylinux_2_17_x86_64.manylinux2014_x86_64.whl.metadata (4.5 kB)\n",
            "Collecting py-ecc>=1.4.7 (from py-evm<0.11.0b0,>=0.10.0b0->eth-tester[py-evm]<0.13.0b1,>=0.12.0b1; extra == \"tester\"->web3[tester])\n",
            "  Downloading py_ecc-8.0.0-py3-none-any.whl.metadata (3.1 kB)\n",
            "Collecting trie>=2.0.0 (from py-evm<0.11.0b0,>=0.10.0b0->eth-tester[py-evm]<0.13.0b1,>=0.12.0b1; extra == \"tester\"->web3[tester])\n",
            "  Downloading trie-3.1.0-py3-none-any.whl.metadata (19 kB)\n",
            "Requirement already satisfied: sortedcontainers>=2.1.0 in /usr/local/lib/python3.11/dist-packages (from trie>=2.0.0->py-evm<0.11.0b0,>=0.10.0b0->eth-tester[py-evm]<0.13.0b1,>=0.12.0b1; extra == \"tester\"->web3[tester]) (2.4.0)\n",
            "Downloading eth_tester-0.12.1b1-py3-none-any.whl (75 kB)\n",
            "\u001b[2K   \u001b[90m━━━━━━━━━━━━━━━━━━━━━━━━━━━━━━━━━━━━━━━━\u001b[0m \u001b[32m75.3/75.3 kB\u001b[0m \u001b[31m3.5 MB/s\u001b[0m eta \u001b[36m0:00:00\u001b[0m\n",
            "\u001b[?25hDownloading py_geth-5.4.0-py3-none-any.whl (28 kB)\n",
            "Downloading py_evm-0.10.1b2-py3-none-any.whl (778 kB)\n",
            "\u001b[2K   \u001b[90m━━━━━━━━━━━━━━━━━━━━━━━━━━━━━━━━━━━━━━━━\u001b[0m \u001b[32m778.9/778.9 kB\u001b[0m \u001b[31m26.5 MB/s\u001b[0m eta \u001b[36m0:00:00\u001b[0m\n",
            "\u001b[?25hDownloading semantic_version-2.10.0-py2.py3-none-any.whl (15 kB)\n",
            "Downloading cached_property-2.0.1-py3-none-any.whl (7.4 kB)\n",
            "Downloading eth_bloom-3.1.0-py3-none-any.whl (5.8 kB)\n",
            "Downloading lru_dict-1.3.0-cp311-cp311-manylinux_2_5_x86_64.manylinux1_x86_64.manylinux_2_17_x86_64.manylinux2014_x86_64.whl (31 kB)\n",
            "Downloading py_ecc-8.0.0-py3-none-any.whl (47 kB)\n",
            "\u001b[2K   \u001b[90m━━━━━━━━━━━━━━━━━━━━━━━━━━━━━━━━━━━━━━━━\u001b[0m \u001b[32m47.8/47.8 kB\u001b[0m \u001b[31m3.0 MB/s\u001b[0m eta \u001b[36m0:00:00\u001b[0m\n",
            "\u001b[?25hDownloading trie-3.1.0-py3-none-any.whl (38 kB)\n",
            "Building wheels for collected packages: safe-pysha3\n",
            "  Building wheel for safe-pysha3 (setup.py) ... \u001b[?25l\u001b[?25hdone\n",
            "  Created wheel for safe-pysha3: filename=safe_pysha3-1.0.4-cp311-cp311-linux_x86_64.whl size=147637 sha256=641411368cdb706ffc13f2edac400197efb7bfa7f06d5110985e201027078adc\n",
            "  Stored in directory: /root/.cache/pip/wheels/b3/ef/41/7bba4fbb915ace87eea10e6a287a991a7ced54d98726906766\n",
            "Successfully built safe-pysha3\n",
            "Installing collected packages: safe-pysha3, semantic_version, lru-dict, cached-property, eth-bloom, py-geth, py-ecc, trie, py-evm, eth-tester\n",
            "Successfully installed cached-property-2.0.1 eth-bloom-3.1.0 eth-tester-0.12.1b1 lru-dict-1.3.0 py-ecc-8.0.0 py-evm-0.10.1b2 py-geth-5.4.0 safe-pysha3-1.0.4 semantic_version-2.10.0 trie-3.1.0\n"
          ]
        }
      ]
    },
    {
      "cell_type": "markdown",
      "source": [
        "#### Let's check that the libraries are working...\n",
        "\n"
      ],
      "metadata": {
        "id": "2q58PDHC5ENi"
      }
    },
    {
      "cell_type": "code",
      "source": [
        "from web3 import Web3"
      ],
      "metadata": {
        "id": "Nrk1TQJH21Q7"
      },
      "execution_count": null,
      "outputs": []
    },
    {
      "cell_type": "markdown",
      "source": [
        "#### Use auto-completion\n",
        "\n",
        "It's great to quickly review the data and functions in an object...\n",
        "\n",
        "Add a period at the end of the <tt>Web3</tt> object to see and review its fields:"
      ],
      "metadata": {
        "id": "TvlzVcBl25EQ"
      }
    },
    {
      "cell_type": "code",
      "source": [
        "# Check out whats available in the Web3 object, by\n",
        "#       typing a period . after Web3 below\n",
        "#       (make it Web3.  ~ then wait a moment...)\n",
        "\n",
        "# Here, add a period (the selector operator) and wait a moment\n",
        "#       a panel should popup to show all of the available fields\n",
        "\n",
        "# Check out from_wei and to_wei !\n",
        "\n",
        "Web3"
      ],
      "metadata": {
        "id": "RiB-WY7L2s2c",
        "collapsed": true,
        "colab": {
          "base_uri": "https://localhost:8080/",
          "height": 174
        },
        "outputId": "9028aeed-4e7f-4009-e06b-7cb8028f31cc"
      },
      "execution_count": null,
      "outputs": [
        {
          "output_type": "execute_result",
          "data": {
            "text/plain": [
              "web3.main.Web3"
            ],
            "text/html": [
              "<div style=\"max-width:800px; border: 1px solid var(--colab-border-color);\"><style>\n",
              "      pre.function-repr-contents {\n",
              "        overflow-x: auto;\n",
              "        padding: 8px 12px;\n",
              "        max-height: 500px;\n",
              "      }\n",
              "\n",
              "      pre.function-repr-contents.function-repr-contents-collapsed {\n",
              "        cursor: pointer;\n",
              "        max-height: 100px;\n",
              "      }\n",
              "    </style>\n",
              "    <pre style=\"white-space: initial; background:\n",
              "         var(--colab-secondary-surface-color); padding: 8px 12px;\n",
              "         border-bottom: 1px solid var(--colab-border-color);\"><b>web3.main.Web3</b><br/>def __init__(provider: Optional[BaseProvider]=None, middleware: Optional[Sequence[Any]]=None, modules: Optional[Dict[str, Union[Type[Module], Sequence[Any]]]]=None, external_modules: Optional[Dict[str, Union[Type[Module], Sequence[Any]]]]=None, ens: Union[ENS, &#x27;Empty&#x27;]=empty) -&gt; None</pre><pre class=\"function-repr-contents function-repr-contents-collapsed\" style=\"\"><a class=\"filepath\" style=\"display:none\" href=\"#\">/usr/local/lib/python3.11/dist-packages/web3/main.py</a>&lt;no docstring&gt;</pre>\n",
              "      <script>\n",
              "      if (google.colab.kernel.accessAllowed && google.colab.files && google.colab.files.view) {\n",
              "        for (const element of document.querySelectorAll('.filepath')) {\n",
              "          element.style.display = 'block'\n",
              "          element.onclick = (event) => {\n",
              "            event.preventDefault();\n",
              "            event.stopPropagation();\n",
              "            google.colab.files.view(element.textContent, 379);\n",
              "          };\n",
              "        }\n",
              "      }\n",
              "      for (const element of document.querySelectorAll('.function-repr-contents')) {\n",
              "        element.onclick = (event) => {\n",
              "          event.preventDefault();\n",
              "          event.stopPropagation();\n",
              "          element.classList.toggle('function-repr-contents-collapsed');\n",
              "        };\n",
              "      }\n",
              "      </script>\n",
              "      </div>"
            ]
          },
          "metadata": {},
          "execution_count": 5
        }
      ]
    },
    {
      "cell_type": "markdown",
      "source": [
        "#### Notice <tt>to_wei</tt> and <tt>from_wei</tt>\n",
        "\n",
        "... and many others!\n",
        "\n",
        "Here, let's use <tt>to_wei</tt> from the <tt>Web3</tt> object to convert among different units of Ether:"
      ],
      "metadata": {
        "id": "_HGqBb0A2zWX"
      }
    },
    {
      "cell_type": "code",
      "source": [
        "from web3 import Web3\n",
        "\n",
        "value_in_wei = Web3.to_wei(1, 'ether')\n",
        "print(f\"1 eth is {value_in_wei} wei.\")"
      ],
      "metadata": {
        "id": "WNKAK3vp5IJ5",
        "colab": {
          "base_uri": "https://localhost:8080/"
        },
        "outputId": "1b715eb8-4c45-44d1-afbe-65db057cb408"
      },
      "execution_count": null,
      "outputs": [
        {
          "output_type": "stream",
          "name": "stdout",
          "text": [
            "1 eth is 1000000000000000000 wei.\n"
          ]
        }
      ]
    },
    {
      "cell_type": "markdown",
      "source": [
        "Here are names for the \"coins\" of the Ether realm:\n",
        "\n",
        "<img src=\"https://m.foolcdn.com/media/dubs/images/gwei-infographic.width-880.png\" height=\"284px\">\n",
        "\n",
        "The nicknames are a mix of computing and cryptography/Ethereum early-explorers...   😀"
      ],
      "metadata": {
        "id": "JA1RsldO7pi8"
      }
    },
    {
      "cell_type": "markdown",
      "source": [
        "#### Let's try out the <tt>gwei</tt> unit\n",
        "\n",
        "Gwei are the typical units for Ethereum's <i>gas</i>\n",
        "\n",
        "This also shows off the use of <tt>from_wei</tt>\n",
        "\n",
        "<font size=\"-1\"><i>Warning</i> &nbsp; We will use <i>floating-point</i> for readability. For exact artihmetic, everything must be in integers (and probably in <tt>wei</tt>).</font>"
      ],
      "metadata": {
        "id": "KksRX-ZpzhkQ"
      }
    },
    {
      "cell_type": "code",
      "source": [
        "# converting to other units...\n",
        "#            with the function Web3.from_wei\n",
        "\n",
        "value_in_gwei = float(Web3.from_wei(42_000_000_000, 'gwei'))\n",
        "value_in_gwei\n",
        "\n",
        "# Python allows underscores instead of commas:\n",
        "# gwei is short for \"gigawei\" which is 1 billion wei\n",
        "# Note that, in Python, the underscore is a legal \"thousands-separator\"  (cool!)"
      ],
      "metadata": {
        "id": "k2eud6uF7i05",
        "colab": {
          "base_uri": "https://localhost:8080/"
        },
        "outputId": "8af8de63-7bd8-449c-d928-c283aaeece65"
      },
      "execution_count": null,
      "outputs": [
        {
          "output_type": "execute_result",
          "data": {
            "text/plain": [
              "42.0"
            ]
          },
          "metadata": {},
          "execution_count": 7
        }
      ]
    },
    {
      "cell_type": "markdown",
      "source": [
        "## <b><font color=\"DodgerBlue\">Challenge #1</font></b> &nbsp;&nbsp; <i>Current</i> currency conversion\n",
        "\n",
        "<b><font color=\"Coral\">Task</font></b> &nbsp;&nbsp;  Write a function that finds the value, in dollars, of 1 ether and finds the value, in ether and gwei, of 1 dollar. Use the <i>current</i> value of the currencies!\n",
        "\n",
        "For example, here is how the function might look when it's run:\n",
        "\n",
        "```\n",
        "# the call to your function:\n",
        "your_function()   # choose your own name\n",
        "\n",
        "# the output, printed:\n",
        "1 ether is currently  $1342.26\n",
        "\n",
        "1 dollar is currently .000745012143697942 ether\n",
        "1 dollar is about     745012.14 gwei\n",
        "```\n",
        "\n",
        "#### Remember <tt>requests</tt> ?\n",
        "\n",
        "<tt>requests</tt> was the Python library our API module used to make API requests to arbitrary endpoints (urls). This is a great way to help implement this function  et's get the current price of ETH...\n",
        "And use that to convert from dollars to gwei and gwei to dollars...\n",
        "\n",
        "<br>\n",
        "\n",
        "#### <i>Use the AI to build-in current ETH pricing...</i>\n",
        "\n",
        "+ Prompt Colab to use requests API to get the current price of ETH\n",
        "+ Test the code version(s) it provides to find one that works (and that you like)\n",
        "+ Continue on, to create your function above...\n",
        "+ Use better names! For example,  <tt>dollars_to_gwei</tt> or <tt>gwei_to_dollars</tt> would be reasonable helper functions\n",
        "+ (No requirement for a helper function in this case.)\n",
        "\n",
        "#### Show that it is working as desired!\n",
        "+ Run it!\n",
        "+ <b>Confirm</b> that they are correct by checking the \"opposite\" results in another cell..."
      ],
      "metadata": {
        "id": "cUdI5a_vGANw"
      }
    },
    {
      "cell_type": "code",
      "source": [
        "#Challenge 1\n",
        "import requests\n",
        "from web3 import Web3\n",
        "\n",
        "def ether_dollar_converter():\n",
        "    try:\n",
        "        # Fetch current ETH price from CoinGecko API\n",
        "        url = 'https://api.coingecko.com/api/v3/simple/price?ids=ethereum&vs_currencies=usd'\n",
        "        response = requests.get(url)\n",
        "        data = response.json()\n",
        "        eth_price_usd = data['ethereum']['usd']\n",
        "\n",
        "        # Calculations\n",
        "        ether_in_dollars = eth_price_usd\n",
        "        dollar_in_ether = 1 / eth_price_usd\n",
        "        dollar_in_gwei = dollar_in_ether * Web3.to_wei(1, 'ether') / 1e9 # Convert to Gwei\n",
        "\n",
        "        # Output\n",
        "        print(f\"1 ether is currently ${ether_in_dollars:.2f}\")\n",
        "        print(f\"1 dollar is currently {dollar_in_ether:.15f} ether\")\n",
        "        print(f\"1 dollar is about {dollar_in_gwei:.2f} gwei\")\n",
        "\n",
        "    except (requests.exceptions.RequestException, KeyError) as e:\n",
        "        print(f\"An error occurred: {e}\")\n",
        "        print(\"Please check your internet connection or the API endpoint.\")\n",
        "\n",
        "\n",
        "ether_dollar_converter()\n"
      ],
      "metadata": {
        "id": "KmuI_pJ_KeX0",
        "colab": {
          "base_uri": "https://localhost:8080/"
        },
        "outputId": "d061131e-a689-4adc-e78d-530c302df238"
      },
      "execution_count": 31,
      "outputs": [
        {
          "output_type": "stream",
          "name": "stdout",
          "text": [
            "1 ether is currently $1602.06\n",
            "1 dollar is currently 0.000624196347203 ether\n",
            "1 dollar is about 624196.35 gwei\n"
          ]
        }
      ]
    },
    {
      "cell_type": "markdown",
      "source": [
        "## <b><font color=\"DodgerBlue\">Challenge #2</font></b> &nbsp;&nbsp; <i>Reflect</i> on the AI code success ...\n",
        "\n",
        "<b><font color=\"Coral\">Task</font></b> &nbsp;&nbsp;  In developing the above current-currency-conversion function,\n",
        "+ was the AI able to create the API call you needed?\n",
        "+ did it format the result as you'd hoped?\n",
        "+ were there things you had to add to the output code?\n",
        "+ and - bigger-picture - have you found the Colab AI more helpful as time goes on (or less so?!)\n",
        "\n",
        "<br>\n",
        "<hr>\n",
        "<br>\n",
        "\n",
        "<font size=\"-1\">Things working too smoothly? <br> Tired of typing/generating the same-old prose answers? <br> Liven up your Colab up with some <font color=\"DodgerBlue\">raw html</font>! <br> Copy the following into a _code_ cell:\n",
        "```\n",
        "%%html\n",
        "<marquee style='width: 30%; color: Coral;'><b>It Works!</b></marquee>\n",
        "```\n",
        "</font>"
      ],
      "metadata": {
        "id": "DWrzoJak4-q9"
      }
    },
    {
      "cell_type": "code",
      "source": [
        "%%html\n",
        "<marquee style='width: 30%; color: Coral;'><b>It Works!</b></marquee>"
      ],
      "metadata": {
        "id": "XK2J9t6q6Zj8",
        "colab": {
          "base_uri": "https://localhost:8080/",
          "height": 38
        },
        "outputId": "72d0cf1f-7496-431f-e3a2-43eceafb91c7"
      },
      "execution_count": 32,
      "outputs": [
        {
          "output_type": "display_data",
          "data": {
            "text/plain": [
              "<IPython.core.display.HTML object>"
            ],
            "text/html": [
              "<marquee style='width: 30%; color: Coral;'><b>It Works!</b></marquee>\n"
            ]
          },
          "metadata": {}
        }
      ]
    },
    {
      "cell_type": "markdown",
      "source": [
        "Task 2:\n",
        "AI was able to properly create the API call and format the results how I wanted. I didn't have to add anything to the output code. I have found Colab AI has been much better than I expected. I have rarely encountered any bugs."
      ],
      "metadata": {
        "id": "XIHynckYfPw7"
      }
    },
    {
      "cell_type": "markdown",
      "source": [
        "<font color=\"Coral\"><b>task</b></font>\n",
        "\n",
        "#### Be sure to include at least one cell - of whatever sort - for your AI-success reflection...\n",
        "\n",
        "<font color=\"lightgray\" size=\"-2\">\n",
        "Look below for a \"cookie clicker\" application inside Colab! :)\n",
        "<font>\n",
        "\n",
        "<!-- Cookie Clicker (generalized snack version):  \n",
        "     Copy the code below into a code cell:  \n",
        "\n",
        "\n",
        "%%html\n",
        "<head>\n",
        "  <style>\n",
        "    button {\n",
        "      font-size: 2rem;        /*  1 rem is 16 pixels and 12 point */\n",
        "      padding: 10px 20px;     /*  x padding and y padding         */\n",
        "    }\n",
        "  </style>\n",
        "</head>\n",
        "<body>\n",
        "  <button id=\"snack\" onclick=\"increment()\">0</button>\n",
        "  <script>\n",
        "    let delta = 1;\n",
        "    function increment() {\n",
        "      const btn = document.getElementById('snack');        // our \"snack\" clicker!\n",
        "      let count = parseInt(btn.innerText);                 // get the button number\n",
        "      if (count >= 4.2 || count <= -4.2) { delta *= -1; }  // switch the direction\n",
        "      btn.innerText = count + delta;                       // update with the current delta\n",
        "    }\n",
        "  </script>\n",
        "</body>\n",
        "</html>\n",
        "\n",
        "\n",
        "-->\n",
        "\n"
      ],
      "metadata": {
        "id": "IDpPdTyy6eJv"
      }
    },
    {
      "cell_type": "markdown",
      "source": [
        "## Ok!  Let's connect to \"the\" Ethereum blockchain\n",
        "\n",
        "+ We will be using the <tt>Web3.py</tt> <i>TesterProvider</i>\n",
        "+ This is an Ethereum \"sandbox\" so that we won't have to stake any actual funds\n",
        "+ Plus, the sandbox blockchain will give us <i>lots</i> of ether!  😃"
      ],
      "metadata": {
        "id": "hUo-UOe6LGek"
      }
    },
    {
      "cell_type": "code",
      "source": [
        "#\n",
        "# Here, we create a blockchain-connected Web3 object\n",
        "#       Web3.EthereumTesterProvider() is our sandbox \"provider\"\n",
        "#\n",
        "# You WILL see some ImportWarnings...   (ignore those; they're Colab, not Ethereum or Web3)\n",
        "\n",
        "provider = Web3.EthereumTesterProvider()\n",
        "w3 = Web3(provider)\n",
        "print(\"w3 is\", w3)"
      ],
      "metadata": {
        "id": "PTby-GFYUZEB",
        "colab": {
          "base_uri": "https://localhost:8080/"
        },
        "outputId": "017b6fa0-9ee4-4fc1-c518-a9a5d9c5703e"
      },
      "execution_count": null,
      "outputs": [
        {
          "output_type": "stream",
          "name": "stdout",
          "text": [
            "w3 is <web3.main.Web3 object at 0x7a8e9841cdd0>\n"
          ]
        },
        {
          "output_type": "stream",
          "name": "stderr",
          "text": [
            "<frozen importlib._bootstrap>:1047: ImportWarning: _PyDrive2ImportHook.find_spec() not found; falling back to find_module()\n",
            "<frozen importlib._bootstrap>:1047: ImportWarning: _PyDriveImportHook.find_spec() not found; falling back to find_module()\n",
            "<frozen importlib._bootstrap>:1047: ImportWarning: _BokehImportHook.find_spec() not found; falling back to find_module()\n"
          ]
        }
      ]
    },
    {
      "cell_type": "markdown",
      "source": [
        "#### Are we connected?"
      ],
      "metadata": {
        "id": "W7Ho-gs57UDY"
      }
    },
    {
      "cell_type": "code",
      "source": [
        "w3.is_connected()"
      ],
      "metadata": {
        "id": "p2uXil-AUnev",
        "colab": {
          "base_uri": "https://localhost:8080/"
        },
        "outputId": "23d46e6f-8c69-460d-b3ef-00705c04da9d"
      },
      "execution_count": null,
      "outputs": [
        {
          "output_type": "execute_result",
          "data": {
            "text/plain": [
              "True"
            ]
          },
          "metadata": {},
          "execution_count": 10
        }
      ]
    },
    {
      "cell_type": "code",
      "source": [
        "# Try using the completion panel and <tab> to find w3.eth.accounts ...\n",
        "\n",
        "w3"
      ],
      "metadata": {
        "id": "NxDHejh88U1d",
        "colab": {
          "base_uri": "https://localhost:8080/"
        },
        "outputId": "5bfc057d-09a0-4aca-8211-9456d5ee1422"
      },
      "execution_count": null,
      "outputs": [
        {
          "output_type": "execute_result",
          "data": {
            "text/plain": [
              "<web3.main.Web3 at 0x7a8e9841cdd0>"
            ]
          },
          "metadata": {},
          "execution_count": 11
        }
      ]
    },
    {
      "cell_type": "code",
      "source": [
        "# These are the public addresses of the accounts we have\n",
        "\n",
        "w3.eth.accounts"
      ],
      "metadata": {
        "id": "aeim-tGFUwNc",
        "colab": {
          "base_uri": "https://localhost:8080/"
        },
        "outputId": "4e26a8b6-d806-4fb1-87be-14ae320667ee"
      },
      "execution_count": null,
      "outputs": [
        {
          "output_type": "execute_result",
          "data": {
            "text/plain": [
              "['0x7E5F4552091A69125d5DfCb7b8C2659029395Bdf',\n",
              " '0x2B5AD5c4795c026514f8317c7a215E218DcCD6cF',\n",
              " '0x6813Eb9362372EEF6200f3b1dbC3f819671cBA69',\n",
              " '0x1efF47bc3a10a45D4B230B5d10E37751FE6AA718',\n",
              " '0xe1AB8145F7E55DC933d51a18c793F901A3A0b276',\n",
              " '0xE57bFE9F44b819898F47BF37E5AF72a0783e1141',\n",
              " '0xd41c057fd1c78805AAC12B0A94a405c0461A6FBb',\n",
              " '0xF1F6619B38A98d6De0800F1DefC0a6399eB6d30C',\n",
              " '0xF7Edc8FA1eCc32967F827C9043FcAe6ba73afA5c',\n",
              " '0x4CCeBa2d7D2B4fdcE4304d3e09a1fea9fbEb1528']"
            ]
          },
          "metadata": {},
          "execution_count": 12
        }
      ]
    },
    {
      "cell_type": "code",
      "source": [
        "# how many accounts do we have?\n",
        "len(w3.eth.accounts)"
      ],
      "metadata": {
        "id": "zRNUyWwiUqP-",
        "colab": {
          "base_uri": "https://localhost:8080/"
        },
        "outputId": "e60a4203-6487-4ac2-c706-dc9c6607e528"
      },
      "execution_count": null,
      "outputs": [
        {
          "output_type": "execute_result",
          "data": {
            "text/plain": [
              "10"
            ]
          },
          "metadata": {},
          "execution_count": 13
        }
      ]
    },
    {
      "cell_type": "markdown",
      "source": [
        "#### Nice!\n",
        "\n",
        "Let's see how much is in one of the accounts, say the one at index 3:"
      ],
      "metadata": {
        "id": "0-aFvrjP7ara"
      }
    },
    {
      "cell_type": "code",
      "source": [
        "current_account = w3.eth.accounts[3]  # let's use #3\n",
        "\n",
        "balance_in_wei = w3.eth.get_balance(current_account)\n",
        "\n",
        "print(f\"There are {balance_in_wei} wei in account #3.\")"
      ],
      "metadata": {
        "id": "WsklEYSi7n9f",
        "colab": {
          "base_uri": "https://localhost:8080/"
        },
        "outputId": "77e20474-65a3-48de-e7ce-25f72e037395"
      },
      "execution_count": null,
      "outputs": [
        {
          "output_type": "stream",
          "name": "stdout",
          "text": [
            "There are 1000000000000000000000000 wei in account #3.\n"
          ]
        }
      ]
    },
    {
      "cell_type": "markdown",
      "source": [
        "Let's see how big this is as a power of 10. &nbsp;&nbsp; (in floating point)"
      ],
      "metadata": {
        "id": "xTdgz7657Mha"
      }
    },
    {
      "cell_type": "code",
      "source": [
        "#\n",
        "# Let's see it in floating point...\n",
        "\n",
        "w = float(balance_in_wei)\n",
        "\n",
        "print(f\"There are a total of {w = } wei (in floating point), with 10**18 wei per ETH\")"
      ],
      "metadata": {
        "collapsed": true,
        "id": "9UH0Basd7IUc",
        "colab": {
          "base_uri": "https://localhost:8080/"
        },
        "outputId": "739aa70f-d52d-4939-c6c7-4dcfea937d2a"
      },
      "execution_count": null,
      "outputs": [
        {
          "output_type": "stream",
          "name": "stdout",
          "text": [
            "There are a total of w = 1e+24 wei (in floating point), with 10**18 wei per ETH\n"
          ]
        }
      ]
    },
    {
      "cell_type": "markdown",
      "source": [
        "## <b><font color=\"DodgerBlue\">Challenge #3</font></b> &nbsp;&nbsp; Count your gold! &nbsp; (or ether...)\n",
        "\n",
        "<b><font color=\"Coral\">Task</font></b> &nbsp;&nbsp;  Use your code from earlier in this notebook -- and any AI help you might want -- to create a new function (you choose the name) that\n",
        "+ finds the amount of Ether in ***all*** of your accounts\n",
        "+ adds it all up\n",
        "+ converts it to dollars\n",
        "+ prints out the total dollars you have ...\n",
        "+ and <tt>returns</tt> that value back from the function\n",
        "\n",
        "<br><br>"
      ],
      "metadata": {
        "id": "IRG355VY9DII"
      }
    },
    {
      "cell_type": "code",
      "source": [
        "#\n",
        "#  a small example of how to print all account balances\n",
        "#          feel free to adapt or remove\n",
        "\n",
        "#  this doesn't quite address the above challenge, but it's a start!\n",
        "\n",
        "index = 0\n",
        "for account in w3.eth.accounts:\n",
        "    balance_in_wei = w3.eth.get_balance(account)\n",
        "    balance_in_ETH = Web3.from_wei(balance_in_wei, 'ether')\n",
        "    print(f\"Account #{index}  amount: {balance_in_ETH}\")\n",
        "    index += 1"
      ],
      "metadata": {
        "id": "7O-V-3i5U1u1",
        "colab": {
          "base_uri": "https://localhost:8080/"
        },
        "outputId": "1dfbac28-ca92-46f1-ab3a-c572f4f6991b"
      },
      "execution_count": null,
      "outputs": [
        {
          "output_type": "stream",
          "name": "stdout",
          "text": [
            "Account #0  amount: 1000000\n",
            "Account #1  amount: 1000000\n",
            "Account #2  amount: 1000000\n",
            "Account #3  amount: 1000000\n",
            "Account #4  amount: 1000000\n",
            "Account #5  amount: 1000000\n",
            "Account #6  amount: 1000000\n",
            "Account #7  amount: 1000000\n",
            "Account #8  amount: 1000000\n",
            "Account #9  amount: 1000000\n"
          ]
        }
      ]
    },
    {
      "cell_type": "code",
      "source": [
        "\n",
        "def total_ether_in_dollars():\n",
        "    \"\"\"\n",
        "    Calculates the total value of Ether across all accounts in the Web3 provider,\n",
        "    converts it to US dollars, prints the result, and returns the dollar value.\n",
        "    \"\"\"\n",
        "    try:\n",
        "        total_ether = 0\n",
        "        for account in w3.eth.accounts:\n",
        "            balance_wei = w3.eth.get_balance(account)\n",
        "            balance_ether = Web3.from_wei(balance_wei, 'ether')\n",
        "            total_ether += balance_ether\n",
        "\n",
        "        # Fetch current ETH price (same as before)\n",
        "        url = 'https://api.coingecko.com/api/v3/simple/price?ids=ethereum&vs_currencies=usd'\n",
        "        response = requests.get(url)\n",
        "        data = response.json()\n",
        "        eth_price_usd = data['ethereum']['usd']\n",
        "\n",
        "        total_dollars = float(total_ether) * eth_price_usd\n",
        "        print(f\"Total Ether across all accounts: {total_ether:.6f} ETH\")\n",
        "        print(f\"Total value in USD: ${total_dollars:.2f}\")\n",
        "        return total_dollars\n",
        "\n",
        "    except (requests.exceptions.RequestException, KeyError, ValueError) as e:\n",
        "        print(f\"An error occurred: {e}\")\n",
        "        return 0  # Return 0 in case of error\n",
        "\n",
        "\n",
        "total_ether_in_dollars()\n"
      ],
      "metadata": {
        "colab": {
          "base_uri": "https://localhost:8080/"
        },
        "id": "AwtmFuGGgx8O",
        "outputId": "f74d0aaf-dbbd-4324-e231-c57b353070cb"
      },
      "execution_count": 34,
      "outputs": [
        {
          "output_type": "stream",
          "name": "stdout",
          "text": [
            "Total Ether across all accounts: 9999999.999937 ETH\n",
            "Total value in USD: $15980599999.90\n"
          ]
        },
        {
          "output_type": "execute_result",
          "data": {
            "text/plain": [
              "15980599999.89932"
            ]
          },
          "metadata": {},
          "execution_count": 34
        }
      ]
    },
    {
      "cell_type": "markdown",
      "source": [
        "## Let's transact!\n",
        "\n",
        "First, let's see the latest block in our blockchain...\n",
        "\n",
        "Then, let's create a single transaction and track its effects...\n",
        "\n",
        "Then, we'll run a whole marketplace's-worth of transactions!"
      ],
      "metadata": {
        "id": "UGDA4suz-FiZ"
      }
    },
    {
      "cell_type": "code",
      "source": [
        "# sometimes this helps...\n",
        "import warnings\n",
        "warnings.filterwarnings(\"ignore\", category=DeprecationWarning)"
      ],
      "metadata": {
        "id": "EqGzQsKE_cqw"
      },
      "execution_count": null,
      "outputs": []
    },
    {
      "cell_type": "code",
      "source": [
        "#\n",
        "# Let's see the latest block in our blockchain:\n",
        "\n",
        "b = w3.eth.get_block('latest')   # this will be the \"genesis\" block\n",
        "b\n",
        "\n",
        "# Notice the number!"
      ],
      "metadata": {
        "id": "yHjX4x4BWe7Y",
        "colab": {
          "base_uri": "https://localhost:8080/"
        },
        "outputId": "1cfec716-4e6d-4ca5-da8b-ab7d6a994353"
      },
      "execution_count": null,
      "outputs": [
        {
          "output_type": "execute_result",
          "data": {
            "text/plain": [
              "AttributeDict({'number': 0,\n",
              " 'hash': HexBytes('0x03184d23b4d2a100950c5716b529360312c40743a5d9d1e15fd682d31d7950bd'),\n",
              " 'parentHash': HexBytes('0x0000000000000000000000000000000000000000000000000000000000000000'),\n",
              " 'nonce': HexBytes('0x0000000000000000'),\n",
              " 'sha3Uncles': HexBytes('0x1dcc4de8dec75d7aab85b567b6ccd41ad312451b948a7413f0a142fd40d49347'),\n",
              " 'logsBloom': HexBytes('0x00'),\n",
              " 'transactionsRoot': HexBytes('0x56e81f171bcc55a6ff8345e692c0f86e5b48e01b996cadc001622fb5e363b421'),\n",
              " 'receiptsRoot': HexBytes('0x56e81f171bcc55a6ff8345e692c0f86e5b48e01b996cadc001622fb5e363b421'),\n",
              " 'stateRoot': HexBytes('0xf1588db9a9f1ed91effabdec31f93cb4212b008c8b8ba047fd55fabebf6fd727'),\n",
              " 'miner': '0x0000000000000000000000000000000000000000',\n",
              " 'difficulty': 0,\n",
              " 'totalDifficulty': 0,\n",
              " 'mixHash': HexBytes('0x0000000000000000000000000000000000000000000000000000000000000000'),\n",
              " 'size': 583,\n",
              " 'extraData': HexBytes('0x0000000000000000000000000000000000000000000000000000000000000000'),\n",
              " 'gasLimit': 30029122,\n",
              " 'gasUsed': 0,\n",
              " 'timestamp': 1744737454,\n",
              " 'transactions': [],\n",
              " 'uncles': [],\n",
              " 'baseFeePerGas': 1000000000,\n",
              " 'withdrawals': [],\n",
              " 'withdrawalsRoot': HexBytes('0x56e81f171bcc55a6ff8345e692c0f86e5b48e01b996cadc001622fb5e363b421'),\n",
              " 'parentBeaconBlockRoot': HexBytes('0x56e81f171bcc55a6ff8345e692c0f86e5b48e01b996cadc001622fb5e363b421'),\n",
              " 'blobGasUsed': 0,\n",
              " 'excessBlobGas': 0})"
            ]
          },
          "metadata": {},
          "execution_count": 18
        }
      ]
    },
    {
      "cell_type": "code",
      "source": [
        "# Let's check the block's number, specifically\n",
        "# Note that b is a dictionary:\n",
        "\n",
        "print(\"Block b's number is \", b['number'])"
      ],
      "metadata": {
        "id": "ENYx5Ot8B9Ai",
        "colab": {
          "base_uri": "https://localhost:8080/"
        },
        "outputId": "7561d3eb-77ff-4908-b828-9bf4b0166e71"
      },
      "execution_count": null,
      "outputs": [
        {
          "output_type": "stream",
          "name": "stdout",
          "text": [
            "Block b's number is  0\n"
          ]
        }
      ]
    },
    {
      "cell_type": "markdown",
      "source": [
        "#### Now, let's try our single, one-time transaction\n",
        "\n",
        "<i>Warning</i>: &nbsp;&nbsp; If you run this more than once, it will transact more than once!\n",
        "\n",
        "<font size=\"-1\">This is not really a warning, actually. Try it! 😀</font>"
      ],
      "metadata": {
        "id": "2WqbpeKgAh6u"
      }
    },
    {
      "cell_type": "code",
      "source": [
        "# sometimes this helps with the warnings we don't want:\n",
        "warnings.filterwarnings(\"ignore\", category=ImportWarning)"
      ],
      "metadata": {
        "id": "e-E1vuZSBL0u"
      },
      "execution_count": null,
      "outputs": []
    },
    {
      "cell_type": "code",
      "source": [
        "#\n",
        "# Let's create a single transaction:\n",
        "#       Notice that the transaction is a dictionary\n",
        "#       It's created, sent to the chain, and a hash is returned:\n",
        "\n",
        "transaction = {                          # the transaction is a dictionary!\n",
        "    'from': w3.eth.accounts[3],          # from acct 3\n",
        "    'to': w3.eth.accounts[8],            # to acct 8\n",
        "    'value': w3.to_wei(42000, 'ether')   # amount is 42,000 ether!\n",
        "}\n",
        "\n",
        "# now, we send the transaction to the blockchain:\n",
        "tx_hash = w3.eth.send_transaction(transaction)\n",
        "\n",
        "# let's look at its resulting hash\n",
        "print(\"Done!\\n\")\n",
        "print(f\"The transaction hash is ... {tx_hash = }\")"
      ],
      "metadata": {
        "id": "eCEm296LWtB_",
        "colab": {
          "base_uri": "https://localhost:8080/"
        },
        "outputId": "10d18802-b664-4268-8924-65885a43575f"
      },
      "execution_count": null,
      "outputs": [
        {
          "output_type": "stream",
          "name": "stdout",
          "text": [
            "Done!\n",
            "\n",
            "The transaction hash is ... tx_hash = HexBytes('0x3d3c9ef273414609a1329c3dad2f57bb27f8c5e1cbe143619f29f0137fcea687')\n"
          ]
        }
      ]
    },
    {
      "cell_type": "code",
      "source": [
        "#\n",
        "# getting the transaction is possible through that transaction hash\n",
        "\n",
        "# It will return a dictionary of values:\n",
        "d = w3.eth.get_transaction(tx_hash)\n",
        "d"
      ],
      "metadata": {
        "id": "x_UIR_yBiJXf",
        "colab": {
          "base_uri": "https://localhost:8080/"
        },
        "outputId": "510ab615-bd96-4aa5-8db6-8dc8d2e56356"
      },
      "execution_count": null,
      "outputs": [
        {
          "output_type": "execute_result",
          "data": {
            "text/plain": [
              "AttributeDict({'type': 2,\n",
              " 'hash': HexBytes('0x3d3c9ef273414609a1329c3dad2f57bb27f8c5e1cbe143619f29f0137fcea687'),\n",
              " 'nonce': 0,\n",
              " 'blockHash': HexBytes('0x806f6f2dea47f683ac2bbb73e66281a4e0458b6036a9fa8ffcf3892de4846d16'),\n",
              " 'blockNumber': 1,\n",
              " 'transactionIndex': 0,\n",
              " 'from': '0x1efF47bc3a10a45D4B230B5d10E37751FE6AA718',\n",
              " 'to': '0xF7Edc8FA1eCc32967F827C9043FcAe6ba73afA5c',\n",
              " 'value': 42000000000000000000000,\n",
              " 'gas': 121000,\n",
              " 'input': HexBytes('0x'),\n",
              " 'chainId': 131277322940537,\n",
              " 'accessList': [],\n",
              " 'maxFeePerGas': 1000000000,\n",
              " 'maxPriorityFeePerGas': 1000000000,\n",
              " 'gasPrice': 1000000000,\n",
              " 'v': 0,\n",
              " 's': HexBytes('0x51b5d184d4bc6d12ed1d6806cf58287693fe1193d34aa652fe04d74bb0dd2ac9'),\n",
              " 'r': HexBytes('0xd43cc3b3a8d371fdc9532d1add9e1cc620ee8a50f0a87c25d54c9cf1560e7cc7'),\n",
              " 'y_parity': 0})"
            ]
          },
          "metadata": {},
          "execution_count": 22
        }
      ]
    },
    {
      "cell_type": "code",
      "source": [
        "#\n",
        "# let's get the block number from within those transaction details...\n",
        "\n",
        "block_number = d['blockNumber']\n",
        "print(f\"{block_number = }\")"
      ],
      "metadata": {
        "id": "3g6JVO7FDLrH",
        "colab": {
          "base_uri": "https://localhost:8080/"
        },
        "outputId": "8db8b38c-0880-4f77-c9c2-8614be733a8c"
      },
      "execution_count": null,
      "outputs": [
        {
          "output_type": "stream",
          "name": "stdout",
          "text": [
            "block_number = 1\n"
          ]
        }
      ]
    },
    {
      "cell_type": "code",
      "source": [
        "#\n",
        "# Then, let's get that block, from the blocknumber!\n",
        "\n",
        "b = w3.eth.get_block(block_number)\n",
        "b"
      ],
      "metadata": {
        "id": "qS_WFmuEi6_a",
        "colab": {
          "base_uri": "https://localhost:8080/"
        },
        "outputId": "aedcc24f-9273-4392-e9da-08db9cee0cca"
      },
      "execution_count": null,
      "outputs": [
        {
          "output_type": "execute_result",
          "data": {
            "text/plain": [
              "AttributeDict({'number': 1,\n",
              " 'hash': HexBytes('0x806f6f2dea47f683ac2bbb73e66281a4e0458b6036a9fa8ffcf3892de4846d16'),\n",
              " 'parentHash': HexBytes('0x03184d23b4d2a100950c5716b529360312c40743a5d9d1e15fd682d31d7950bd'),\n",
              " 'nonce': HexBytes('0x0000000000000000'),\n",
              " 'sha3Uncles': HexBytes('0x1dcc4de8dec75d7aab85b567b6ccd41ad312451b948a7413f0a142fd40d49347'),\n",
              " 'logsBloom': HexBytes('0x00'),\n",
              " 'transactionsRoot': HexBytes('0x17d3e8d6d3c1eb2134fc842f7c17fef4d1331a2c77f66424dd2fe088939e3ca1'),\n",
              " 'receiptsRoot': HexBytes('0xf78dfb743fbd92ade140711c8bbc542b5e307f0ab7984eff35d751969fe57efa'),\n",
              " 'stateRoot': HexBytes('0xa4c270ad3b9e8e8a02a39e034b5e6e0fee6b2f496de6ca6a15d3e1678759f47a'),\n",
              " 'miner': '0x0000000000000000000000000000000000000000',\n",
              " 'difficulty': 0,\n",
              " 'totalDifficulty': 0,\n",
              " 'mixHash': HexBytes('0x9f4c76c839b83738c155d7ee7dc54cdf0beee3bd510221bd3c6e89f51d70e3fc'),\n",
              " 'size': 714,\n",
              " 'extraData': HexBytes('0x0000000000000000000000000000000000000000000000000000000000000000'),\n",
              " 'gasLimit': 30029122,\n",
              " 'gasUsed': 21000,\n",
              " 'timestamp': 1744737455,\n",
              " 'transactions': [HexBytes('0x3d3c9ef273414609a1329c3dad2f57bb27f8c5e1cbe143619f29f0137fcea687')],\n",
              " 'uncles': [],\n",
              " 'baseFeePerGas': 875000000,\n",
              " 'withdrawals': [],\n",
              " 'withdrawalsRoot': HexBytes('0x56e81f171bcc55a6ff8345e692c0f86e5b48e01b996cadc001622fb5e363b421'),\n",
              " 'parentBeaconBlockRoot': HexBytes('0x56e81f171bcc55a6ff8345e692c0f86e5b48e01b996cadc001622fb5e363b421'),\n",
              " 'blobGasUsed': 0,\n",
              " 'excessBlobGas': 0})"
            ]
          },
          "metadata": {},
          "execution_count": 24
        }
      ]
    },
    {
      "cell_type": "code",
      "source": [
        "#\n",
        "# Which should be the same as getting the latest block:\n",
        "\n",
        "b = w3.eth.get_block('latest')\n",
        "b"
      ],
      "metadata": {
        "id": "xavr9-xrMyTB",
        "colab": {
          "base_uri": "https://localhost:8080/"
        },
        "outputId": "f76208e7-9bbd-49ae-b16d-f983641f7aab"
      },
      "execution_count": null,
      "outputs": [
        {
          "output_type": "execute_result",
          "data": {
            "text/plain": [
              "AttributeDict({'number': 1,\n",
              " 'hash': HexBytes('0x806f6f2dea47f683ac2bbb73e66281a4e0458b6036a9fa8ffcf3892de4846d16'),\n",
              " 'parentHash': HexBytes('0x03184d23b4d2a100950c5716b529360312c40743a5d9d1e15fd682d31d7950bd'),\n",
              " 'nonce': HexBytes('0x0000000000000000'),\n",
              " 'sha3Uncles': HexBytes('0x1dcc4de8dec75d7aab85b567b6ccd41ad312451b948a7413f0a142fd40d49347'),\n",
              " 'logsBloom': HexBytes('0x00'),\n",
              " 'transactionsRoot': HexBytes('0x17d3e8d6d3c1eb2134fc842f7c17fef4d1331a2c77f66424dd2fe088939e3ca1'),\n",
              " 'receiptsRoot': HexBytes('0xf78dfb743fbd92ade140711c8bbc542b5e307f0ab7984eff35d751969fe57efa'),\n",
              " 'stateRoot': HexBytes('0xa4c270ad3b9e8e8a02a39e034b5e6e0fee6b2f496de6ca6a15d3e1678759f47a'),\n",
              " 'miner': '0x0000000000000000000000000000000000000000',\n",
              " 'difficulty': 0,\n",
              " 'totalDifficulty': 0,\n",
              " 'mixHash': HexBytes('0x9f4c76c839b83738c155d7ee7dc54cdf0beee3bd510221bd3c6e89f51d70e3fc'),\n",
              " 'size': 714,\n",
              " 'extraData': HexBytes('0x0000000000000000000000000000000000000000000000000000000000000000'),\n",
              " 'gasLimit': 30029122,\n",
              " 'gasUsed': 21000,\n",
              " 'timestamp': 1744737455,\n",
              " 'transactions': [HexBytes('0x3d3c9ef273414609a1329c3dad2f57bb27f8c5e1cbe143619f29f0137fcea687')],\n",
              " 'uncles': [],\n",
              " 'baseFeePerGas': 875000000,\n",
              " 'withdrawals': [],\n",
              " 'withdrawalsRoot': HexBytes('0x56e81f171bcc55a6ff8345e692c0f86e5b48e01b996cadc001622fb5e363b421'),\n",
              " 'parentBeaconBlockRoot': HexBytes('0x56e81f171bcc55a6ff8345e692c0f86e5b48e01b996cadc001622fb5e363b421'),\n",
              " 'blobGasUsed': 0,\n",
              " 'excessBlobGas': 0})"
            ]
          },
          "metadata": {},
          "execution_count": 25
        }
      ]
    },
    {
      "cell_type": "markdown",
      "source": [
        "### Let's see the <font color=\"DodgerBlue\"><b>current amount</b></font> in each of the accounts:"
      ],
      "metadata": {
        "id": "QATiTFfdCqWv"
      }
    },
    {
      "cell_type": "code",
      "source": [
        "#\n",
        "#  a small example of how to print all account balances\n",
        "#                  feel free to adapt or remove!\n",
        "\n",
        "index = 0\n",
        "for account in w3.eth.accounts:\n",
        "    balance_in_wei = w3.eth.get_balance(account)\n",
        "    balance_in_ETH = Web3.from_wei(balance_in_wei, 'ether')\n",
        "    print(f\"Account #{index}  amount: {balance_in_ETH} ether\")\n",
        "    index += 1\n",
        "\n",
        "\n",
        "# create total, function, return, ..."
      ],
      "metadata": {
        "id": "IFYC5jJgCmBk",
        "colab": {
          "base_uri": "https://localhost:8080/"
        },
        "outputId": "464417cb-8b2a-4ba7-a79c-3d5b1b784d55"
      },
      "execution_count": null,
      "outputs": [
        {
          "output_type": "stream",
          "name": "stdout",
          "text": [
            "Account #0  amount: 1000000 ether\n",
            "Account #1  amount: 1000000 ether\n",
            "Account #2  amount: 1000000 ether\n",
            "Account #3  amount: 957999.999979 ether\n",
            "Account #4  amount: 1000000 ether\n",
            "Account #5  amount: 1000000 ether\n",
            "Account #6  amount: 1000000 ether\n",
            "Account #7  amount: 1000000 ether\n",
            "Account #8  amount: 1042000 ether\n",
            "Account #9  amount: 1000000 ether\n"
          ]
        }
      ]
    },
    {
      "cell_type": "markdown",
      "source": [
        "### What if we don't have enough currency for the requested transaction?\n",
        "\n",
        "If a transaction is requested for too-large an amount, the request fails and it is rolled back.\n",
        "\n",
        "Let's try it:"
      ],
      "metadata": {
        "id": "dm3Hhki6M_Eg"
      }
    },
    {
      "cell_type": "code",
      "source": [
        "#\n",
        "# Let's create a single transaction for TOO MUCH ether\n",
        "#       Notice that the transaction is a dictionary\n",
        "#       It's created, sent to the chain, and a hash is returned:\n",
        "\n",
        "transaction = {                          # the transaction is a dictionary!\n",
        "    'from': w3.eth.accounts[3],          # from acct 3\n",
        "    'to': w3.eth.accounts[8],            # to acct 8\n",
        "    'value': w3.to_wei(42_000_000, 'ether')   # amount is 42 _million_ ether!\n",
        "}\n",
        "\n",
        "# now, we send the transaction to the blockchain:\n",
        "tx_hash = w3.eth.send_transaction(transaction)\n",
        "\n",
        "# let's look at its resulting hash\n",
        "print(\"Done!\\n\")\n",
        "tx_hash"
      ],
      "metadata": {
        "id": "_otwuYijNO_G",
        "colab": {
          "base_uri": "https://localhost:8080/",
          "height": 400
        },
        "outputId": "59fd853b-9fac-4d9a-9bc6-a7431c259072"
      },
      "execution_count": null,
      "outputs": [
        {
          "output_type": "error",
          "ename": "ValidationError",
          "evalue": "Sender does not have enough balance to cover transaction value and gas  (has 915999999958000000000000, needs 42000000000021000000000000)",
          "traceback": [
            "\u001b[0;31m---------------------------------------------------------------------------\u001b[0m",
            "\u001b[0;31mValidationError\u001b[0m                           Traceback (most recent call last)",
            "\u001b[0;32m<ipython-input-29-f6f91bf269fe>\u001b[0m in \u001b[0;36m<cell line: 0>\u001b[0;34m()\u001b[0m\n\u001b[1;32m     11\u001b[0m \u001b[0;34m\u001b[0m\u001b[0m\n\u001b[1;32m     12\u001b[0m \u001b[0;31m# now, we send the transaction to the blockchain:\u001b[0m\u001b[0;34m\u001b[0m\u001b[0;34m\u001b[0m\u001b[0m\n\u001b[0;32m---> 13\u001b[0;31m \u001b[0mtx_hash\u001b[0m \u001b[0;34m=\u001b[0m \u001b[0mw3\u001b[0m\u001b[0;34m.\u001b[0m\u001b[0meth\u001b[0m\u001b[0;34m.\u001b[0m\u001b[0msend_transaction\u001b[0m\u001b[0;34m(\u001b[0m\u001b[0mtransaction\u001b[0m\u001b[0;34m)\u001b[0m\u001b[0;34m\u001b[0m\u001b[0;34m\u001b[0m\u001b[0m\n\u001b[0m\u001b[1;32m     14\u001b[0m \u001b[0;34m\u001b[0m\u001b[0m\n\u001b[1;32m     15\u001b[0m \u001b[0;31m# let's look at its resulting hash\u001b[0m\u001b[0;34m\u001b[0m\u001b[0;34m\u001b[0m\u001b[0m\n",
            "\u001b[0;32m/usr/local/lib/python3.11/dist-packages/web3/eth/eth.py\u001b[0m in \u001b[0;36msend_transaction\u001b[0;34m(self, transaction)\u001b[0m\n\u001b[1;32m    384\u001b[0m \u001b[0;34m\u001b[0m\u001b[0m\n\u001b[1;32m    385\u001b[0m     \u001b[0;32mdef\u001b[0m \u001b[0msend_transaction\u001b[0m\u001b[0;34m(\u001b[0m\u001b[0mself\u001b[0m\u001b[0;34m,\u001b[0m \u001b[0mtransaction\u001b[0m\u001b[0;34m:\u001b[0m \u001b[0mTxParams\u001b[0m\u001b[0;34m)\u001b[0m \u001b[0;34m->\u001b[0m \u001b[0mHexBytes\u001b[0m\u001b[0;34m:\u001b[0m\u001b[0;34m\u001b[0m\u001b[0;34m\u001b[0m\u001b[0m\n\u001b[0;32m--> 386\u001b[0;31m         \u001b[0;32mreturn\u001b[0m \u001b[0mself\u001b[0m\u001b[0;34m.\u001b[0m\u001b[0m_send_transaction\u001b[0m\u001b[0;34m(\u001b[0m\u001b[0mtransaction\u001b[0m\u001b[0;34m)\u001b[0m\u001b[0;34m\u001b[0m\u001b[0;34m\u001b[0m\u001b[0m\n\u001b[0m\u001b[1;32m    387\u001b[0m \u001b[0;34m\u001b[0m\u001b[0m\n\u001b[1;32m    388\u001b[0m     \u001b[0;31m# eth_sendRawTransaction\u001b[0m\u001b[0;34m\u001b[0m\u001b[0;34m\u001b[0m\u001b[0m\n",
            "\u001b[0;32m/usr/local/lib/python3.11/dist-packages/web3/module.py\u001b[0m in \u001b[0;36mcaller\u001b[0;34m(*args, **kwargs)\u001b[0m\n\u001b[1;32m    110\u001b[0m             \u001b[0mnull_result_formatters\u001b[0m\u001b[0;34m,\u001b[0m\u001b[0;34m\u001b[0m\u001b[0;34m\u001b[0m\u001b[0m\n\u001b[1;32m    111\u001b[0m         ) = response_formatters\n\u001b[0;32m--> 112\u001b[0;31m         result = w3.manager.request_blocking(\n\u001b[0m\u001b[1;32m    113\u001b[0m             \u001b[0mmethod_str\u001b[0m\u001b[0;34m,\u001b[0m \u001b[0mparams\u001b[0m\u001b[0;34m,\u001b[0m \u001b[0merror_formatters\u001b[0m\u001b[0;34m,\u001b[0m \u001b[0mnull_result_formatters\u001b[0m\u001b[0;34m\u001b[0m\u001b[0;34m\u001b[0m\u001b[0m\n\u001b[1;32m    114\u001b[0m         )\n",
            "\u001b[0;32m/usr/local/lib/python3.11/dist-packages/web3/manager.py\u001b[0m in \u001b[0;36mrequest_blocking\u001b[0;34m(self, method, params, error_formatters, null_result_formatters)\u001b[0m\n\u001b[1;32m    229\u001b[0m         \u001b[0mMake\u001b[0m \u001b[0ma\u001b[0m \u001b[0msynchronous\u001b[0m \u001b[0mrequest\u001b[0m \u001b[0musing\u001b[0m \u001b[0mthe\u001b[0m \u001b[0mprovider\u001b[0m\u001b[0;34m\u001b[0m\u001b[0;34m\u001b[0m\u001b[0m\n\u001b[1;32m    230\u001b[0m         \"\"\"\n\u001b[0;32m--> 231\u001b[0;31m         \u001b[0mresponse\u001b[0m \u001b[0;34m=\u001b[0m \u001b[0mself\u001b[0m\u001b[0;34m.\u001b[0m\u001b[0m_make_request\u001b[0m\u001b[0;34m(\u001b[0m\u001b[0mmethod\u001b[0m\u001b[0;34m,\u001b[0m \u001b[0mparams\u001b[0m\u001b[0;34m)\u001b[0m\u001b[0;34m\u001b[0m\u001b[0;34m\u001b[0m\u001b[0m\n\u001b[0m\u001b[1;32m    232\u001b[0m         return self.formatted_response(\n\u001b[1;32m    233\u001b[0m             \u001b[0mresponse\u001b[0m\u001b[0;34m,\u001b[0m \u001b[0mparams\u001b[0m\u001b[0;34m,\u001b[0m \u001b[0merror_formatters\u001b[0m\u001b[0;34m,\u001b[0m \u001b[0mnull_result_formatters\u001b[0m\u001b[0;34m\u001b[0m\u001b[0;34m\u001b[0m\u001b[0m\n",
            "\u001b[0;32m/usr/local/lib/python3.11/dist-packages/web3/manager.py\u001b[0m in \u001b[0;36m_make_request\u001b[0;34m(self, method, params)\u001b[0m\n\u001b[1;32m    161\u001b[0m         )\n\u001b[1;32m    162\u001b[0m         \u001b[0mself\u001b[0m\u001b[0;34m.\u001b[0m\u001b[0mlogger\u001b[0m\u001b[0;34m.\u001b[0m\u001b[0mdebug\u001b[0m\u001b[0;34m(\u001b[0m\u001b[0;34mf\"Making request. Method: {method}\"\u001b[0m\u001b[0;34m)\u001b[0m\u001b[0;34m\u001b[0m\u001b[0;34m\u001b[0m\u001b[0m\n\u001b[0;32m--> 163\u001b[0;31m         \u001b[0;32mreturn\u001b[0m \u001b[0mrequest_func\u001b[0m\u001b[0;34m(\u001b[0m\u001b[0mmethod\u001b[0m\u001b[0;34m,\u001b[0m \u001b[0mparams\u001b[0m\u001b[0;34m)\u001b[0m\u001b[0;34m\u001b[0m\u001b[0;34m\u001b[0m\u001b[0m\n\u001b[0m\u001b[1;32m    164\u001b[0m \u001b[0;34m\u001b[0m\u001b[0m\n\u001b[1;32m    165\u001b[0m     async def _coro_make_request(\n",
            "\u001b[0;32m/usr/local/lib/python3.11/dist-packages/web3/middleware/base.py\u001b[0m in \u001b[0;36mmiddleware\u001b[0;34m(method, params)\u001b[0m\n\u001b[1;32m     54\u001b[0m         \u001b[0;32mdef\u001b[0m \u001b[0mmiddleware\u001b[0m\u001b[0;34m(\u001b[0m\u001b[0mmethod\u001b[0m\u001b[0;34m:\u001b[0m \u001b[0;34m\"RPCEndpoint\"\u001b[0m\u001b[0;34m,\u001b[0m \u001b[0mparams\u001b[0m\u001b[0;34m:\u001b[0m \u001b[0mAny\u001b[0m\u001b[0;34m)\u001b[0m \u001b[0;34m->\u001b[0m \u001b[0;34m\"RPCResponse\"\u001b[0m\u001b[0;34m:\u001b[0m\u001b[0;34m\u001b[0m\u001b[0;34m\u001b[0m\u001b[0m\n\u001b[1;32m     55\u001b[0m             \u001b[0mmethod\u001b[0m\u001b[0;34m,\u001b[0m \u001b[0mparams\u001b[0m \u001b[0;34m=\u001b[0m \u001b[0mself\u001b[0m\u001b[0;34m.\u001b[0m\u001b[0mrequest_processor\u001b[0m\u001b[0;34m(\u001b[0m\u001b[0mmethod\u001b[0m\u001b[0;34m,\u001b[0m \u001b[0mparams\u001b[0m\u001b[0;34m)\u001b[0m\u001b[0;34m\u001b[0m\u001b[0;34m\u001b[0m\u001b[0m\n\u001b[0;32m---> 56\u001b[0;31m             \u001b[0;32mreturn\u001b[0m \u001b[0mself\u001b[0m\u001b[0;34m.\u001b[0m\u001b[0mresponse_processor\u001b[0m\u001b[0;34m(\u001b[0m\u001b[0mmethod\u001b[0m\u001b[0;34m,\u001b[0m \u001b[0mmake_request\u001b[0m\u001b[0;34m(\u001b[0m\u001b[0mmethod\u001b[0m\u001b[0;34m,\u001b[0m \u001b[0mparams\u001b[0m\u001b[0;34m)\u001b[0m\u001b[0;34m)\u001b[0m\u001b[0;34m\u001b[0m\u001b[0;34m\u001b[0m\u001b[0m\n\u001b[0m\u001b[1;32m     57\u001b[0m \u001b[0;34m\u001b[0m\u001b[0m\n\u001b[1;32m     58\u001b[0m         \u001b[0;32mreturn\u001b[0m \u001b[0mmiddleware\u001b[0m\u001b[0;34m\u001b[0m\u001b[0;34m\u001b[0m\u001b[0m\n",
            "\u001b[0;32m/usr/local/lib/python3.11/dist-packages/web3/middleware/base.py\u001b[0m in \u001b[0;36mmiddleware\u001b[0;34m(method, params)\u001b[0m\n\u001b[1;32m     54\u001b[0m         \u001b[0;32mdef\u001b[0m \u001b[0mmiddleware\u001b[0m\u001b[0;34m(\u001b[0m\u001b[0mmethod\u001b[0m\u001b[0;34m:\u001b[0m \u001b[0;34m\"RPCEndpoint\"\u001b[0m\u001b[0;34m,\u001b[0m \u001b[0mparams\u001b[0m\u001b[0;34m:\u001b[0m \u001b[0mAny\u001b[0m\u001b[0;34m)\u001b[0m \u001b[0;34m->\u001b[0m \u001b[0;34m\"RPCResponse\"\u001b[0m\u001b[0;34m:\u001b[0m\u001b[0;34m\u001b[0m\u001b[0;34m\u001b[0m\u001b[0m\n\u001b[1;32m     55\u001b[0m             \u001b[0mmethod\u001b[0m\u001b[0;34m,\u001b[0m \u001b[0mparams\u001b[0m \u001b[0;34m=\u001b[0m \u001b[0mself\u001b[0m\u001b[0;34m.\u001b[0m\u001b[0mrequest_processor\u001b[0m\u001b[0;34m(\u001b[0m\u001b[0mmethod\u001b[0m\u001b[0;34m,\u001b[0m \u001b[0mparams\u001b[0m\u001b[0;34m)\u001b[0m\u001b[0;34m\u001b[0m\u001b[0;34m\u001b[0m\u001b[0m\n\u001b[0;32m---> 56\u001b[0;31m             \u001b[0;32mreturn\u001b[0m \u001b[0mself\u001b[0m\u001b[0;34m.\u001b[0m\u001b[0mresponse_processor\u001b[0m\u001b[0;34m(\u001b[0m\u001b[0mmethod\u001b[0m\u001b[0;34m,\u001b[0m \u001b[0mmake_request\u001b[0m\u001b[0;34m(\u001b[0m\u001b[0mmethod\u001b[0m\u001b[0;34m,\u001b[0m \u001b[0mparams\u001b[0m\u001b[0;34m)\u001b[0m\u001b[0;34m)\u001b[0m\u001b[0;34m\u001b[0m\u001b[0;34m\u001b[0m\u001b[0m\n\u001b[0m\u001b[1;32m     57\u001b[0m \u001b[0;34m\u001b[0m\u001b[0m\n\u001b[1;32m     58\u001b[0m         \u001b[0;32mreturn\u001b[0m \u001b[0mmiddleware\u001b[0m\u001b[0;34m\u001b[0m\u001b[0;34m\u001b[0m\u001b[0m\n",
            "\u001b[0;32m/usr/local/lib/python3.11/dist-packages/web3/middleware/base.py\u001b[0m in \u001b[0;36mmiddleware\u001b[0;34m(method, params)\u001b[0m\n\u001b[1;32m     54\u001b[0m         \u001b[0;32mdef\u001b[0m \u001b[0mmiddleware\u001b[0m\u001b[0;34m(\u001b[0m\u001b[0mmethod\u001b[0m\u001b[0;34m:\u001b[0m \u001b[0;34m\"RPCEndpoint\"\u001b[0m\u001b[0;34m,\u001b[0m \u001b[0mparams\u001b[0m\u001b[0;34m:\u001b[0m \u001b[0mAny\u001b[0m\u001b[0;34m)\u001b[0m \u001b[0;34m->\u001b[0m \u001b[0;34m\"RPCResponse\"\u001b[0m\u001b[0;34m:\u001b[0m\u001b[0;34m\u001b[0m\u001b[0;34m\u001b[0m\u001b[0m\n\u001b[1;32m     55\u001b[0m             \u001b[0mmethod\u001b[0m\u001b[0;34m,\u001b[0m \u001b[0mparams\u001b[0m \u001b[0;34m=\u001b[0m \u001b[0mself\u001b[0m\u001b[0;34m.\u001b[0m\u001b[0mrequest_processor\u001b[0m\u001b[0;34m(\u001b[0m\u001b[0mmethod\u001b[0m\u001b[0;34m,\u001b[0m \u001b[0mparams\u001b[0m\u001b[0;34m)\u001b[0m\u001b[0;34m\u001b[0m\u001b[0;34m\u001b[0m\u001b[0m\n\u001b[0;32m---> 56\u001b[0;31m             \u001b[0;32mreturn\u001b[0m \u001b[0mself\u001b[0m\u001b[0;34m.\u001b[0m\u001b[0mresponse_processor\u001b[0m\u001b[0;34m(\u001b[0m\u001b[0mmethod\u001b[0m\u001b[0;34m,\u001b[0m \u001b[0mmake_request\u001b[0m\u001b[0;34m(\u001b[0m\u001b[0mmethod\u001b[0m\u001b[0;34m,\u001b[0m \u001b[0mparams\u001b[0m\u001b[0;34m)\u001b[0m\u001b[0;34m)\u001b[0m\u001b[0;34m\u001b[0m\u001b[0;34m\u001b[0m\u001b[0m\n\u001b[0m\u001b[1;32m     57\u001b[0m \u001b[0;34m\u001b[0m\u001b[0m\n\u001b[1;32m     58\u001b[0m         \u001b[0;32mreturn\u001b[0m \u001b[0mmiddleware\u001b[0m\u001b[0;34m\u001b[0m\u001b[0;34m\u001b[0m\u001b[0m\n",
            "\u001b[0;32m/usr/local/lib/python3.11/dist-packages/web3/middleware/base.py\u001b[0m in \u001b[0;36mmiddleware\u001b[0;34m(method, params)\u001b[0m\n\u001b[1;32m     54\u001b[0m         \u001b[0;32mdef\u001b[0m \u001b[0mmiddleware\u001b[0m\u001b[0;34m(\u001b[0m\u001b[0mmethod\u001b[0m\u001b[0;34m:\u001b[0m \u001b[0;34m\"RPCEndpoint\"\u001b[0m\u001b[0;34m,\u001b[0m \u001b[0mparams\u001b[0m\u001b[0;34m:\u001b[0m \u001b[0mAny\u001b[0m\u001b[0;34m)\u001b[0m \u001b[0;34m->\u001b[0m \u001b[0;34m\"RPCResponse\"\u001b[0m\u001b[0;34m:\u001b[0m\u001b[0;34m\u001b[0m\u001b[0;34m\u001b[0m\u001b[0m\n\u001b[1;32m     55\u001b[0m             \u001b[0mmethod\u001b[0m\u001b[0;34m,\u001b[0m \u001b[0mparams\u001b[0m \u001b[0;34m=\u001b[0m \u001b[0mself\u001b[0m\u001b[0;34m.\u001b[0m\u001b[0mrequest_processor\u001b[0m\u001b[0;34m(\u001b[0m\u001b[0mmethod\u001b[0m\u001b[0;34m,\u001b[0m \u001b[0mparams\u001b[0m\u001b[0;34m)\u001b[0m\u001b[0;34m\u001b[0m\u001b[0;34m\u001b[0m\u001b[0m\n\u001b[0;32m---> 56\u001b[0;31m             \u001b[0;32mreturn\u001b[0m \u001b[0mself\u001b[0m\u001b[0;34m.\u001b[0m\u001b[0mresponse_processor\u001b[0m\u001b[0;34m(\u001b[0m\u001b[0mmethod\u001b[0m\u001b[0;34m,\u001b[0m \u001b[0mmake_request\u001b[0m\u001b[0;34m(\u001b[0m\u001b[0mmethod\u001b[0m\u001b[0;34m,\u001b[0m \u001b[0mparams\u001b[0m\u001b[0;34m)\u001b[0m\u001b[0;34m)\u001b[0m\u001b[0;34m\u001b[0m\u001b[0;34m\u001b[0m\u001b[0m\n\u001b[0m\u001b[1;32m     57\u001b[0m \u001b[0;34m\u001b[0m\u001b[0m\n\u001b[1;32m     58\u001b[0m         \u001b[0;32mreturn\u001b[0m \u001b[0mmiddleware\u001b[0m\u001b[0;34m\u001b[0m\u001b[0;34m\u001b[0m\u001b[0m\n",
            "\u001b[0;32m/usr/local/lib/python3.11/dist-packages/web3/middleware/base.py\u001b[0m in \u001b[0;36mmiddleware\u001b[0;34m(method, params)\u001b[0m\n\u001b[1;32m     53\u001b[0m     \u001b[0;32mdef\u001b[0m \u001b[0mwrap_make_request\u001b[0m\u001b[0;34m(\u001b[0m\u001b[0mself\u001b[0m\u001b[0;34m,\u001b[0m \u001b[0mmake_request\u001b[0m\u001b[0;34m:\u001b[0m \u001b[0;34m\"MakeRequestFn\"\u001b[0m\u001b[0;34m)\u001b[0m \u001b[0;34m->\u001b[0m \u001b[0;34m\"MakeRequestFn\"\u001b[0m\u001b[0;34m:\u001b[0m\u001b[0;34m\u001b[0m\u001b[0;34m\u001b[0m\u001b[0m\n\u001b[1;32m     54\u001b[0m         \u001b[0;32mdef\u001b[0m \u001b[0mmiddleware\u001b[0m\u001b[0;34m(\u001b[0m\u001b[0mmethod\u001b[0m\u001b[0;34m:\u001b[0m \u001b[0;34m\"RPCEndpoint\"\u001b[0m\u001b[0;34m,\u001b[0m \u001b[0mparams\u001b[0m\u001b[0;34m:\u001b[0m \u001b[0mAny\u001b[0m\u001b[0;34m)\u001b[0m \u001b[0;34m->\u001b[0m \u001b[0;34m\"RPCResponse\"\u001b[0m\u001b[0;34m:\u001b[0m\u001b[0;34m\u001b[0m\u001b[0;34m\u001b[0m\u001b[0m\n\u001b[0;32m---> 55\u001b[0;31m             \u001b[0mmethod\u001b[0m\u001b[0;34m,\u001b[0m \u001b[0mparams\u001b[0m \u001b[0;34m=\u001b[0m \u001b[0mself\u001b[0m\u001b[0;34m.\u001b[0m\u001b[0mrequest_processor\u001b[0m\u001b[0;34m(\u001b[0m\u001b[0mmethod\u001b[0m\u001b[0;34m,\u001b[0m \u001b[0mparams\u001b[0m\u001b[0;34m)\u001b[0m\u001b[0;34m\u001b[0m\u001b[0;34m\u001b[0m\u001b[0m\n\u001b[0m\u001b[1;32m     56\u001b[0m             \u001b[0;32mreturn\u001b[0m \u001b[0mself\u001b[0m\u001b[0;34m.\u001b[0m\u001b[0mresponse_processor\u001b[0m\u001b[0;34m(\u001b[0m\u001b[0mmethod\u001b[0m\u001b[0;34m,\u001b[0m \u001b[0mmake_request\u001b[0m\u001b[0;34m(\u001b[0m\u001b[0mmethod\u001b[0m\u001b[0;34m,\u001b[0m \u001b[0mparams\u001b[0m\u001b[0;34m)\u001b[0m\u001b[0;34m)\u001b[0m\u001b[0;34m\u001b[0m\u001b[0;34m\u001b[0m\u001b[0m\n\u001b[1;32m     57\u001b[0m \u001b[0;34m\u001b[0m\u001b[0m\n",
            "\u001b[0;32m/usr/local/lib/python3.11/dist-packages/web3/middleware/buffered_gas_estimate.py\u001b[0m in \u001b[0;36mrequest_processor\u001b[0;34m(self, method, params)\u001b[0m\n\u001b[1;32m     41\u001b[0m                     \u001b[0mtransaction\u001b[0m\u001b[0;34m,\u001b[0m\u001b[0;34m\u001b[0m\u001b[0;34m\u001b[0m\u001b[0m\n\u001b[1;32m     42\u001b[0m                     \u001b[0;34m\"gas\"\u001b[0m\u001b[0;34m,\u001b[0m\u001b[0;34m\u001b[0m\u001b[0;34m\u001b[0m\u001b[0m\n\u001b[0;32m---> 43\u001b[0;31m                     \u001b[0mhex\u001b[0m\u001b[0;34m(\u001b[0m\u001b[0mget_buffered_gas_estimate\u001b[0m\u001b[0;34m(\u001b[0m\u001b[0mcast\u001b[0m\u001b[0;34m(\u001b[0m\u001b[0;34m\"Web3\"\u001b[0m\u001b[0;34m,\u001b[0m \u001b[0mself\u001b[0m\u001b[0;34m.\u001b[0m\u001b[0m_w3\u001b[0m\u001b[0;34m)\u001b[0m\u001b[0;34m,\u001b[0m \u001b[0mtransaction\u001b[0m\u001b[0;34m)\u001b[0m\u001b[0;34m)\u001b[0m\u001b[0;34m,\u001b[0m\u001b[0;34m\u001b[0m\u001b[0;34m\u001b[0m\u001b[0m\n\u001b[0m\u001b[1;32m     44\u001b[0m                 )\n\u001b[1;32m     45\u001b[0m                 \u001b[0mparams\u001b[0m \u001b[0;34m=\u001b[0m \u001b[0;34m(\u001b[0m\u001b[0mtransaction\u001b[0m\u001b[0;34m,\u001b[0m\u001b[0;34m)\u001b[0m\u001b[0;34m\u001b[0m\u001b[0;34m\u001b[0m\u001b[0m\n",
            "\u001b[0;32m/usr/local/lib/python3.11/dist-packages/web3/_utils/transactions.py\u001b[0m in \u001b[0;36mget_buffered_gas_estimate\u001b[0;34m(w3, transaction, gas_buffer)\u001b[0m\n\u001b[1;32m    159\u001b[0m     \u001b[0mgas_estimate_transaction\u001b[0m \u001b[0;34m=\u001b[0m \u001b[0mcast\u001b[0m\u001b[0;34m(\u001b[0m\u001b[0mTxParams\u001b[0m\u001b[0;34m,\u001b[0m \u001b[0mdict\u001b[0m\u001b[0;34m(\u001b[0m\u001b[0;34m**\u001b[0m\u001b[0mtransaction\u001b[0m\u001b[0;34m)\u001b[0m\u001b[0;34m)\u001b[0m\u001b[0;34m\u001b[0m\u001b[0;34m\u001b[0m\u001b[0m\n\u001b[1;32m    160\u001b[0m \u001b[0;34m\u001b[0m\u001b[0m\n\u001b[0;32m--> 161\u001b[0;31m     \u001b[0mgas_estimate\u001b[0m \u001b[0;34m=\u001b[0m \u001b[0mw3\u001b[0m\u001b[0;34m.\u001b[0m\u001b[0meth\u001b[0m\u001b[0;34m.\u001b[0m\u001b[0mestimate_gas\u001b[0m\u001b[0;34m(\u001b[0m\u001b[0mgas_estimate_transaction\u001b[0m\u001b[0;34m)\u001b[0m\u001b[0;34m\u001b[0m\u001b[0;34m\u001b[0m\u001b[0m\n\u001b[0m\u001b[1;32m    162\u001b[0m \u001b[0;34m\u001b[0m\u001b[0m\n\u001b[1;32m    163\u001b[0m     \u001b[0mgas_limit\u001b[0m \u001b[0;34m=\u001b[0m \u001b[0mget_block_gas_limit\u001b[0m\u001b[0;34m(\u001b[0m\u001b[0mw3\u001b[0m\u001b[0;34m)\u001b[0m\u001b[0;34m\u001b[0m\u001b[0;34m\u001b[0m\u001b[0m\n",
            "\u001b[0;32m/usr/local/lib/python3.11/dist-packages/web3/eth/eth.py\u001b[0m in \u001b[0;36mestimate_gas\u001b[0;34m(self, transaction, block_identifier, state_override)\u001b[0m\n\u001b[1;32m    314\u001b[0m         \u001b[0mstate_override\u001b[0m\u001b[0;34m:\u001b[0m \u001b[0mOptional\u001b[0m\u001b[0;34m[\u001b[0m\u001b[0mStateOverride\u001b[0m\u001b[0;34m]\u001b[0m \u001b[0;34m=\u001b[0m \u001b[0;32mNone\u001b[0m\u001b[0;34m,\u001b[0m\u001b[0;34m\u001b[0m\u001b[0;34m\u001b[0m\u001b[0m\n\u001b[1;32m    315\u001b[0m     ) -> int:\n\u001b[0;32m--> 316\u001b[0;31m         \u001b[0;32mreturn\u001b[0m \u001b[0mself\u001b[0m\u001b[0;34m.\u001b[0m\u001b[0m_estimate_gas\u001b[0m\u001b[0;34m(\u001b[0m\u001b[0mtransaction\u001b[0m\u001b[0;34m,\u001b[0m \u001b[0mblock_identifier\u001b[0m\u001b[0;34m,\u001b[0m \u001b[0mstate_override\u001b[0m\u001b[0;34m)\u001b[0m\u001b[0;34m\u001b[0m\u001b[0;34m\u001b[0m\u001b[0m\n\u001b[0m\u001b[1;32m    317\u001b[0m \u001b[0;34m\u001b[0m\u001b[0m\n\u001b[1;32m    318\u001b[0m     \u001b[0;31m# eth_getTransactionByHash\u001b[0m\u001b[0;34m\u001b[0m\u001b[0;34m\u001b[0m\u001b[0m\n",
            "\u001b[0;32m/usr/local/lib/python3.11/dist-packages/web3/module.py\u001b[0m in \u001b[0;36mcaller\u001b[0;34m(*args, **kwargs)\u001b[0m\n\u001b[1;32m    110\u001b[0m             \u001b[0mnull_result_formatters\u001b[0m\u001b[0;34m,\u001b[0m\u001b[0;34m\u001b[0m\u001b[0;34m\u001b[0m\u001b[0m\n\u001b[1;32m    111\u001b[0m         ) = response_formatters\n\u001b[0;32m--> 112\u001b[0;31m         result = w3.manager.request_blocking(\n\u001b[0m\u001b[1;32m    113\u001b[0m             \u001b[0mmethod_str\u001b[0m\u001b[0;34m,\u001b[0m \u001b[0mparams\u001b[0m\u001b[0;34m,\u001b[0m \u001b[0merror_formatters\u001b[0m\u001b[0;34m,\u001b[0m \u001b[0mnull_result_formatters\u001b[0m\u001b[0;34m\u001b[0m\u001b[0;34m\u001b[0m\u001b[0m\n\u001b[1;32m    114\u001b[0m         )\n",
            "\u001b[0;32m/usr/local/lib/python3.11/dist-packages/web3/manager.py\u001b[0m in \u001b[0;36mrequest_blocking\u001b[0;34m(self, method, params, error_formatters, null_result_formatters)\u001b[0m\n\u001b[1;32m    229\u001b[0m         \u001b[0mMake\u001b[0m \u001b[0ma\u001b[0m \u001b[0msynchronous\u001b[0m \u001b[0mrequest\u001b[0m \u001b[0musing\u001b[0m \u001b[0mthe\u001b[0m \u001b[0mprovider\u001b[0m\u001b[0;34m\u001b[0m\u001b[0;34m\u001b[0m\u001b[0m\n\u001b[1;32m    230\u001b[0m         \"\"\"\n\u001b[0;32m--> 231\u001b[0;31m         \u001b[0mresponse\u001b[0m \u001b[0;34m=\u001b[0m \u001b[0mself\u001b[0m\u001b[0;34m.\u001b[0m\u001b[0m_make_request\u001b[0m\u001b[0;34m(\u001b[0m\u001b[0mmethod\u001b[0m\u001b[0;34m,\u001b[0m \u001b[0mparams\u001b[0m\u001b[0;34m)\u001b[0m\u001b[0;34m\u001b[0m\u001b[0;34m\u001b[0m\u001b[0m\n\u001b[0m\u001b[1;32m    232\u001b[0m         return self.formatted_response(\n\u001b[1;32m    233\u001b[0m             \u001b[0mresponse\u001b[0m\u001b[0;34m,\u001b[0m \u001b[0mparams\u001b[0m\u001b[0;34m,\u001b[0m \u001b[0merror_formatters\u001b[0m\u001b[0;34m,\u001b[0m \u001b[0mnull_result_formatters\u001b[0m\u001b[0;34m\u001b[0m\u001b[0;34m\u001b[0m\u001b[0m\n",
            "\u001b[0;32m/usr/local/lib/python3.11/dist-packages/web3/manager.py\u001b[0m in \u001b[0;36m_make_request\u001b[0;34m(self, method, params)\u001b[0m\n\u001b[1;32m    161\u001b[0m         )\n\u001b[1;32m    162\u001b[0m         \u001b[0mself\u001b[0m\u001b[0;34m.\u001b[0m\u001b[0mlogger\u001b[0m\u001b[0;34m.\u001b[0m\u001b[0mdebug\u001b[0m\u001b[0;34m(\u001b[0m\u001b[0;34mf\"Making request. Method: {method}\"\u001b[0m\u001b[0;34m)\u001b[0m\u001b[0;34m\u001b[0m\u001b[0;34m\u001b[0m\u001b[0m\n\u001b[0;32m--> 163\u001b[0;31m         \u001b[0;32mreturn\u001b[0m \u001b[0mrequest_func\u001b[0m\u001b[0;34m(\u001b[0m\u001b[0mmethod\u001b[0m\u001b[0;34m,\u001b[0m \u001b[0mparams\u001b[0m\u001b[0;34m)\u001b[0m\u001b[0;34m\u001b[0m\u001b[0;34m\u001b[0m\u001b[0m\n\u001b[0m\u001b[1;32m    164\u001b[0m \u001b[0;34m\u001b[0m\u001b[0m\n\u001b[1;32m    165\u001b[0m     async def _coro_make_request(\n",
            "\u001b[0;32m/usr/local/lib/python3.11/dist-packages/web3/middleware/base.py\u001b[0m in \u001b[0;36mmiddleware\u001b[0;34m(method, params)\u001b[0m\n\u001b[1;32m     54\u001b[0m         \u001b[0;32mdef\u001b[0m \u001b[0mmiddleware\u001b[0m\u001b[0;34m(\u001b[0m\u001b[0mmethod\u001b[0m\u001b[0;34m:\u001b[0m \u001b[0;34m\"RPCEndpoint\"\u001b[0m\u001b[0;34m,\u001b[0m \u001b[0mparams\u001b[0m\u001b[0;34m:\u001b[0m \u001b[0mAny\u001b[0m\u001b[0;34m)\u001b[0m \u001b[0;34m->\u001b[0m \u001b[0;34m\"RPCResponse\"\u001b[0m\u001b[0;34m:\u001b[0m\u001b[0;34m\u001b[0m\u001b[0;34m\u001b[0m\u001b[0m\n\u001b[1;32m     55\u001b[0m             \u001b[0mmethod\u001b[0m\u001b[0;34m,\u001b[0m \u001b[0mparams\u001b[0m \u001b[0;34m=\u001b[0m \u001b[0mself\u001b[0m\u001b[0;34m.\u001b[0m\u001b[0mrequest_processor\u001b[0m\u001b[0;34m(\u001b[0m\u001b[0mmethod\u001b[0m\u001b[0;34m,\u001b[0m \u001b[0mparams\u001b[0m\u001b[0;34m)\u001b[0m\u001b[0;34m\u001b[0m\u001b[0;34m\u001b[0m\u001b[0m\n\u001b[0;32m---> 56\u001b[0;31m             \u001b[0;32mreturn\u001b[0m \u001b[0mself\u001b[0m\u001b[0;34m.\u001b[0m\u001b[0mresponse_processor\u001b[0m\u001b[0;34m(\u001b[0m\u001b[0mmethod\u001b[0m\u001b[0;34m,\u001b[0m \u001b[0mmake_request\u001b[0m\u001b[0;34m(\u001b[0m\u001b[0mmethod\u001b[0m\u001b[0;34m,\u001b[0m \u001b[0mparams\u001b[0m\u001b[0;34m)\u001b[0m\u001b[0;34m)\u001b[0m\u001b[0;34m\u001b[0m\u001b[0;34m\u001b[0m\u001b[0m\n\u001b[0m\u001b[1;32m     57\u001b[0m \u001b[0;34m\u001b[0m\u001b[0m\n\u001b[1;32m     58\u001b[0m         \u001b[0;32mreturn\u001b[0m \u001b[0mmiddleware\u001b[0m\u001b[0;34m\u001b[0m\u001b[0;34m\u001b[0m\u001b[0m\n",
            "\u001b[0;32m/usr/local/lib/python3.11/dist-packages/web3/middleware/base.py\u001b[0m in \u001b[0;36mmiddleware\u001b[0;34m(method, params)\u001b[0m\n\u001b[1;32m     54\u001b[0m         \u001b[0;32mdef\u001b[0m \u001b[0mmiddleware\u001b[0m\u001b[0;34m(\u001b[0m\u001b[0mmethod\u001b[0m\u001b[0;34m:\u001b[0m \u001b[0;34m\"RPCEndpoint\"\u001b[0m\u001b[0;34m,\u001b[0m \u001b[0mparams\u001b[0m\u001b[0;34m:\u001b[0m \u001b[0mAny\u001b[0m\u001b[0;34m)\u001b[0m \u001b[0;34m->\u001b[0m \u001b[0;34m\"RPCResponse\"\u001b[0m\u001b[0;34m:\u001b[0m\u001b[0;34m\u001b[0m\u001b[0;34m\u001b[0m\u001b[0m\n\u001b[1;32m     55\u001b[0m             \u001b[0mmethod\u001b[0m\u001b[0;34m,\u001b[0m \u001b[0mparams\u001b[0m \u001b[0;34m=\u001b[0m \u001b[0mself\u001b[0m\u001b[0;34m.\u001b[0m\u001b[0mrequest_processor\u001b[0m\u001b[0;34m(\u001b[0m\u001b[0mmethod\u001b[0m\u001b[0;34m,\u001b[0m \u001b[0mparams\u001b[0m\u001b[0;34m)\u001b[0m\u001b[0;34m\u001b[0m\u001b[0;34m\u001b[0m\u001b[0m\n\u001b[0;32m---> 56\u001b[0;31m             \u001b[0;32mreturn\u001b[0m \u001b[0mself\u001b[0m\u001b[0;34m.\u001b[0m\u001b[0mresponse_processor\u001b[0m\u001b[0;34m(\u001b[0m\u001b[0mmethod\u001b[0m\u001b[0;34m,\u001b[0m \u001b[0mmake_request\u001b[0m\u001b[0;34m(\u001b[0m\u001b[0mmethod\u001b[0m\u001b[0;34m,\u001b[0m \u001b[0mparams\u001b[0m\u001b[0;34m)\u001b[0m\u001b[0;34m)\u001b[0m\u001b[0;34m\u001b[0m\u001b[0;34m\u001b[0m\u001b[0m\n\u001b[0m\u001b[1;32m     57\u001b[0m \u001b[0;34m\u001b[0m\u001b[0m\n\u001b[1;32m     58\u001b[0m         \u001b[0;32mreturn\u001b[0m \u001b[0mmiddleware\u001b[0m\u001b[0;34m\u001b[0m\u001b[0;34m\u001b[0m\u001b[0m\n",
            "\u001b[0;32m/usr/local/lib/python3.11/dist-packages/web3/middleware/base.py\u001b[0m in \u001b[0;36mmiddleware\u001b[0;34m(method, params)\u001b[0m\n\u001b[1;32m     54\u001b[0m         \u001b[0;32mdef\u001b[0m \u001b[0mmiddleware\u001b[0m\u001b[0;34m(\u001b[0m\u001b[0mmethod\u001b[0m\u001b[0;34m:\u001b[0m \u001b[0;34m\"RPCEndpoint\"\u001b[0m\u001b[0;34m,\u001b[0m \u001b[0mparams\u001b[0m\u001b[0;34m:\u001b[0m \u001b[0mAny\u001b[0m\u001b[0;34m)\u001b[0m \u001b[0;34m->\u001b[0m \u001b[0;34m\"RPCResponse\"\u001b[0m\u001b[0;34m:\u001b[0m\u001b[0;34m\u001b[0m\u001b[0;34m\u001b[0m\u001b[0m\n\u001b[1;32m     55\u001b[0m             \u001b[0mmethod\u001b[0m\u001b[0;34m,\u001b[0m \u001b[0mparams\u001b[0m \u001b[0;34m=\u001b[0m \u001b[0mself\u001b[0m\u001b[0;34m.\u001b[0m\u001b[0mrequest_processor\u001b[0m\u001b[0;34m(\u001b[0m\u001b[0mmethod\u001b[0m\u001b[0;34m,\u001b[0m \u001b[0mparams\u001b[0m\u001b[0;34m)\u001b[0m\u001b[0;34m\u001b[0m\u001b[0;34m\u001b[0m\u001b[0m\n\u001b[0;32m---> 56\u001b[0;31m             \u001b[0;32mreturn\u001b[0m \u001b[0mself\u001b[0m\u001b[0;34m.\u001b[0m\u001b[0mresponse_processor\u001b[0m\u001b[0;34m(\u001b[0m\u001b[0mmethod\u001b[0m\u001b[0;34m,\u001b[0m \u001b[0mmake_request\u001b[0m\u001b[0;34m(\u001b[0m\u001b[0mmethod\u001b[0m\u001b[0;34m,\u001b[0m \u001b[0mparams\u001b[0m\u001b[0;34m)\u001b[0m\u001b[0;34m)\u001b[0m\u001b[0;34m\u001b[0m\u001b[0;34m\u001b[0m\u001b[0m\n\u001b[0m\u001b[1;32m     57\u001b[0m \u001b[0;34m\u001b[0m\u001b[0m\n\u001b[1;32m     58\u001b[0m         \u001b[0;32mreturn\u001b[0m \u001b[0mmiddleware\u001b[0m\u001b[0;34m\u001b[0m\u001b[0;34m\u001b[0m\u001b[0m\n",
            "\u001b[0;32m/usr/local/lib/python3.11/dist-packages/web3/middleware/base.py\u001b[0m in \u001b[0;36mmiddleware\u001b[0;34m(method, params)\u001b[0m\n\u001b[1;32m     54\u001b[0m         \u001b[0;32mdef\u001b[0m \u001b[0mmiddleware\u001b[0m\u001b[0;34m(\u001b[0m\u001b[0mmethod\u001b[0m\u001b[0;34m:\u001b[0m \u001b[0;34m\"RPCEndpoint\"\u001b[0m\u001b[0;34m,\u001b[0m \u001b[0mparams\u001b[0m\u001b[0;34m:\u001b[0m \u001b[0mAny\u001b[0m\u001b[0;34m)\u001b[0m \u001b[0;34m->\u001b[0m \u001b[0;34m\"RPCResponse\"\u001b[0m\u001b[0;34m:\u001b[0m\u001b[0;34m\u001b[0m\u001b[0;34m\u001b[0m\u001b[0m\n\u001b[1;32m     55\u001b[0m             \u001b[0mmethod\u001b[0m\u001b[0;34m,\u001b[0m \u001b[0mparams\u001b[0m \u001b[0;34m=\u001b[0m \u001b[0mself\u001b[0m\u001b[0;34m.\u001b[0m\u001b[0mrequest_processor\u001b[0m\u001b[0;34m(\u001b[0m\u001b[0mmethod\u001b[0m\u001b[0;34m,\u001b[0m \u001b[0mparams\u001b[0m\u001b[0;34m)\u001b[0m\u001b[0;34m\u001b[0m\u001b[0;34m\u001b[0m\u001b[0m\n\u001b[0;32m---> 56\u001b[0;31m             \u001b[0;32mreturn\u001b[0m \u001b[0mself\u001b[0m\u001b[0;34m.\u001b[0m\u001b[0mresponse_processor\u001b[0m\u001b[0;34m(\u001b[0m\u001b[0mmethod\u001b[0m\u001b[0;34m,\u001b[0m \u001b[0mmake_request\u001b[0m\u001b[0;34m(\u001b[0m\u001b[0mmethod\u001b[0m\u001b[0;34m,\u001b[0m \u001b[0mparams\u001b[0m\u001b[0;34m)\u001b[0m\u001b[0;34m)\u001b[0m\u001b[0;34m\u001b[0m\u001b[0;34m\u001b[0m\u001b[0m\n\u001b[0m\u001b[1;32m     57\u001b[0m \u001b[0;34m\u001b[0m\u001b[0m\n\u001b[1;32m     58\u001b[0m         \u001b[0;32mreturn\u001b[0m \u001b[0mmiddleware\u001b[0m\u001b[0;34m\u001b[0m\u001b[0;34m\u001b[0m\u001b[0m\n",
            "\u001b[0;32m/usr/local/lib/python3.11/dist-packages/web3/middleware/base.py\u001b[0m in \u001b[0;36mmiddleware\u001b[0;34m(method, params)\u001b[0m\n\u001b[1;32m     54\u001b[0m         \u001b[0;32mdef\u001b[0m \u001b[0mmiddleware\u001b[0m\u001b[0;34m(\u001b[0m\u001b[0mmethod\u001b[0m\u001b[0;34m:\u001b[0m \u001b[0;34m\"RPCEndpoint\"\u001b[0m\u001b[0;34m,\u001b[0m \u001b[0mparams\u001b[0m\u001b[0;34m:\u001b[0m \u001b[0mAny\u001b[0m\u001b[0;34m)\u001b[0m \u001b[0;34m->\u001b[0m \u001b[0;34m\"RPCResponse\"\u001b[0m\u001b[0;34m:\u001b[0m\u001b[0;34m\u001b[0m\u001b[0;34m\u001b[0m\u001b[0m\n\u001b[1;32m     55\u001b[0m             \u001b[0mmethod\u001b[0m\u001b[0;34m,\u001b[0m \u001b[0mparams\u001b[0m \u001b[0;34m=\u001b[0m \u001b[0mself\u001b[0m\u001b[0;34m.\u001b[0m\u001b[0mrequest_processor\u001b[0m\u001b[0;34m(\u001b[0m\u001b[0mmethod\u001b[0m\u001b[0;34m,\u001b[0m \u001b[0mparams\u001b[0m\u001b[0;34m)\u001b[0m\u001b[0;34m\u001b[0m\u001b[0;34m\u001b[0m\u001b[0m\n\u001b[0;32m---> 56\u001b[0;31m             \u001b[0;32mreturn\u001b[0m \u001b[0mself\u001b[0m\u001b[0;34m.\u001b[0m\u001b[0mresponse_processor\u001b[0m\u001b[0;34m(\u001b[0m\u001b[0mmethod\u001b[0m\u001b[0;34m,\u001b[0m \u001b[0mmake_request\u001b[0m\u001b[0;34m(\u001b[0m\u001b[0mmethod\u001b[0m\u001b[0;34m,\u001b[0m \u001b[0mparams\u001b[0m\u001b[0;34m)\u001b[0m\u001b[0;34m)\u001b[0m\u001b[0;34m\u001b[0m\u001b[0;34m\u001b[0m\u001b[0m\n\u001b[0m\u001b[1;32m     57\u001b[0m \u001b[0;34m\u001b[0m\u001b[0m\n\u001b[1;32m     58\u001b[0m         \u001b[0;32mreturn\u001b[0m \u001b[0mmiddleware\u001b[0m\u001b[0;34m\u001b[0m\u001b[0;34m\u001b[0m\u001b[0m\n",
            "\u001b[0;32m/usr/local/lib/python3.11/dist-packages/web3/middleware/base.py\u001b[0m in \u001b[0;36mmiddleware\u001b[0;34m(method, params)\u001b[0m\n\u001b[1;32m     54\u001b[0m         \u001b[0;32mdef\u001b[0m \u001b[0mmiddleware\u001b[0m\u001b[0;34m(\u001b[0m\u001b[0mmethod\u001b[0m\u001b[0;34m:\u001b[0m \u001b[0;34m\"RPCEndpoint\"\u001b[0m\u001b[0;34m,\u001b[0m \u001b[0mparams\u001b[0m\u001b[0;34m:\u001b[0m \u001b[0mAny\u001b[0m\u001b[0;34m)\u001b[0m \u001b[0;34m->\u001b[0m \u001b[0;34m\"RPCResponse\"\u001b[0m\u001b[0;34m:\u001b[0m\u001b[0;34m\u001b[0m\u001b[0;34m\u001b[0m\u001b[0m\n\u001b[1;32m     55\u001b[0m             \u001b[0mmethod\u001b[0m\u001b[0;34m,\u001b[0m \u001b[0mparams\u001b[0m \u001b[0;34m=\u001b[0m \u001b[0mself\u001b[0m\u001b[0;34m.\u001b[0m\u001b[0mrequest_processor\u001b[0m\u001b[0;34m(\u001b[0m\u001b[0mmethod\u001b[0m\u001b[0;34m,\u001b[0m \u001b[0mparams\u001b[0m\u001b[0;34m)\u001b[0m\u001b[0;34m\u001b[0m\u001b[0;34m\u001b[0m\u001b[0m\n\u001b[0;32m---> 56\u001b[0;31m             \u001b[0;32mreturn\u001b[0m \u001b[0mself\u001b[0m\u001b[0;34m.\u001b[0m\u001b[0mresponse_processor\u001b[0m\u001b[0;34m(\u001b[0m\u001b[0mmethod\u001b[0m\u001b[0;34m,\u001b[0m \u001b[0mmake_request\u001b[0m\u001b[0;34m(\u001b[0m\u001b[0mmethod\u001b[0m\u001b[0;34m,\u001b[0m \u001b[0mparams\u001b[0m\u001b[0;34m)\u001b[0m\u001b[0;34m)\u001b[0m\u001b[0;34m\u001b[0m\u001b[0;34m\u001b[0m\u001b[0m\n\u001b[0m\u001b[1;32m     57\u001b[0m \u001b[0;34m\u001b[0m\u001b[0m\n\u001b[1;32m     58\u001b[0m         \u001b[0;32mreturn\u001b[0m \u001b[0mmiddleware\u001b[0m\u001b[0;34m\u001b[0m\u001b[0;34m\u001b[0m\u001b[0m\n",
            "\u001b[0;32m/usr/local/lib/python3.11/dist-packages/web3/middleware/base.py\u001b[0m in \u001b[0;36mmiddleware\u001b[0;34m(method, params)\u001b[0m\n\u001b[1;32m     54\u001b[0m         \u001b[0;32mdef\u001b[0m \u001b[0mmiddleware\u001b[0m\u001b[0;34m(\u001b[0m\u001b[0mmethod\u001b[0m\u001b[0;34m:\u001b[0m \u001b[0;34m\"RPCEndpoint\"\u001b[0m\u001b[0;34m,\u001b[0m \u001b[0mparams\u001b[0m\u001b[0;34m:\u001b[0m \u001b[0mAny\u001b[0m\u001b[0;34m)\u001b[0m \u001b[0;34m->\u001b[0m \u001b[0;34m\"RPCResponse\"\u001b[0m\u001b[0;34m:\u001b[0m\u001b[0;34m\u001b[0m\u001b[0;34m\u001b[0m\u001b[0m\n\u001b[1;32m     55\u001b[0m             \u001b[0mmethod\u001b[0m\u001b[0;34m,\u001b[0m \u001b[0mparams\u001b[0m \u001b[0;34m=\u001b[0m \u001b[0mself\u001b[0m\u001b[0;34m.\u001b[0m\u001b[0mrequest_processor\u001b[0m\u001b[0;34m(\u001b[0m\u001b[0mmethod\u001b[0m\u001b[0;34m,\u001b[0m \u001b[0mparams\u001b[0m\u001b[0;34m)\u001b[0m\u001b[0;34m\u001b[0m\u001b[0;34m\u001b[0m\u001b[0m\n\u001b[0;32m---> 56\u001b[0;31m             \u001b[0;32mreturn\u001b[0m \u001b[0mself\u001b[0m\u001b[0;34m.\u001b[0m\u001b[0mresponse_processor\u001b[0m\u001b[0;34m(\u001b[0m\u001b[0mmethod\u001b[0m\u001b[0;34m,\u001b[0m \u001b[0mmake_request\u001b[0m\u001b[0;34m(\u001b[0m\u001b[0mmethod\u001b[0m\u001b[0;34m,\u001b[0m \u001b[0mparams\u001b[0m\u001b[0;34m)\u001b[0m\u001b[0;34m)\u001b[0m\u001b[0;34m\u001b[0m\u001b[0;34m\u001b[0m\u001b[0m\n\u001b[0m\u001b[1;32m     57\u001b[0m \u001b[0;34m\u001b[0m\u001b[0m\n\u001b[1;32m     58\u001b[0m         \u001b[0;32mreturn\u001b[0m \u001b[0mmiddleware\u001b[0m\u001b[0;34m\u001b[0m\u001b[0;34m\u001b[0m\u001b[0m\n",
            "\u001b[0;32m/usr/local/lib/python3.11/dist-packages/web3/providers/eth_tester/main.py\u001b[0m in \u001b[0;36mmake_request\u001b[0;34m(self, method, params)\u001b[0m\n\u001b[1;32m    185\u001b[0m \u001b[0;34m\u001b[0m\u001b[0m\n\u001b[1;32m    186\u001b[0m     \u001b[0;32mdef\u001b[0m \u001b[0mmake_request\u001b[0m\u001b[0;34m(\u001b[0m\u001b[0mself\u001b[0m\u001b[0;34m,\u001b[0m \u001b[0mmethod\u001b[0m\u001b[0;34m:\u001b[0m \u001b[0mRPCEndpoint\u001b[0m\u001b[0;34m,\u001b[0m \u001b[0mparams\u001b[0m\u001b[0;34m:\u001b[0m \u001b[0mAny\u001b[0m\u001b[0;34m)\u001b[0m \u001b[0;34m->\u001b[0m \u001b[0mRPCResponse\u001b[0m\u001b[0;34m:\u001b[0m\u001b[0;34m\u001b[0m\u001b[0;34m\u001b[0m\u001b[0m\n\u001b[0;32m--> 187\u001b[0;31m         response = _make_request(\n\u001b[0m\u001b[1;32m    188\u001b[0m             \u001b[0mmethod\u001b[0m\u001b[0;34m,\u001b[0m\u001b[0;34m\u001b[0m\u001b[0;34m\u001b[0m\u001b[0m\n\u001b[1;32m    189\u001b[0m             \u001b[0mparams\u001b[0m\u001b[0;34m,\u001b[0m\u001b[0;34m\u001b[0m\u001b[0;34m\u001b[0m\u001b[0m\n",
            "\u001b[0;32m/usr/local/lib/python3.11/dist-packages/web3/providers/eth_tester/main.py\u001b[0m in \u001b[0;36m_make_request\u001b[0;34m(method, params, api_endpoints, ethereum_tester_instance, request_id)\u001b[0m\n\u001b[1;32m    233\u001b[0m         \u001b[0;32mreturn\u001b[0m \u001b[0m_make_response\u001b[0m\u001b[0;34m(\u001b[0m\u001b[0me\u001b[0m\u001b[0;34m,\u001b[0m \u001b[0mrequest_id\u001b[0m\u001b[0;34m,\u001b[0m \u001b[0mmessage\u001b[0m\u001b[0;34m=\u001b[0m\u001b[0;34mf\"Unknown RPC Endpoint: {method}\"\u001b[0m\u001b[0;34m)\u001b[0m\u001b[0;34m\u001b[0m\u001b[0;34m\u001b[0m\u001b[0m\n\u001b[1;32m    234\u001b[0m     \u001b[0;32mtry\u001b[0m\u001b[0;34m:\u001b[0m\u001b[0;34m\u001b[0m\u001b[0;34m\u001b[0m\u001b[0m\n\u001b[0;32m--> 235\u001b[0;31m         \u001b[0mresponse\u001b[0m \u001b[0;34m=\u001b[0m \u001b[0mdelegator\u001b[0m\u001b[0;34m(\u001b[0m\u001b[0methereum_tester_instance\u001b[0m\u001b[0;34m,\u001b[0m \u001b[0mparams\u001b[0m\u001b[0;34m)\u001b[0m\u001b[0;34m\u001b[0m\u001b[0;34m\u001b[0m\u001b[0m\n\u001b[0m\u001b[1;32m    236\u001b[0m     \u001b[0;32mexcept\u001b[0m \u001b[0mNotImplementedError\u001b[0m \u001b[0;32mas\u001b[0m \u001b[0me\u001b[0m\u001b[0;34m:\u001b[0m\u001b[0;34m\u001b[0m\u001b[0;34m\u001b[0m\u001b[0m\n\u001b[1;32m    237\u001b[0m         return _make_response(\n",
            "\u001b[0;32m/usr/local/lib/python3.11/dist-packages/cytoolz/functoolz.pyx\u001b[0m in \u001b[0;36mcytoolz.functoolz.curry.__call__\u001b[0;34m()\u001b[0m\n",
            "\u001b[0;32m/usr/local/lib/python3.11/dist-packages/web3/providers/eth_tester/defaults.py\u001b[0m in \u001b[0;36mcall_eth_tester\u001b[0;34m(fn_name, eth_tester, fn_args, fn_kwargs)\u001b[0m\n\u001b[1;32m     83\u001b[0m \u001b[0;34m\u001b[0m\u001b[0m\n\u001b[1;32m     84\u001b[0m     \u001b[0;32mtry\u001b[0m\u001b[0;34m:\u001b[0m\u001b[0;34m\u001b[0m\u001b[0;34m\u001b[0m\u001b[0m\n\u001b[0;32m---> 85\u001b[0;31m         \u001b[0;32mreturn\u001b[0m \u001b[0mgetattr\u001b[0m\u001b[0;34m(\u001b[0m\u001b[0meth_tester\u001b[0m\u001b[0;34m,\u001b[0m \u001b[0mfn_name\u001b[0m\u001b[0;34m)\u001b[0m\u001b[0;34m(\u001b[0m\u001b[0;34m*\u001b[0m\u001b[0mfn_args\u001b[0m\u001b[0;34m,\u001b[0m \u001b[0;34m**\u001b[0m\u001b[0mfn_kwargs\u001b[0m\u001b[0;34m)\u001b[0m\u001b[0;34m\u001b[0m\u001b[0;34m\u001b[0m\u001b[0m\n\u001b[0m\u001b[1;32m     86\u001b[0m     \u001b[0;32mexcept\u001b[0m \u001b[0mTransactionFailed\u001b[0m \u001b[0;32mas\u001b[0m \u001b[0me\u001b[0m\u001b[0;34m:\u001b[0m\u001b[0;34m\u001b[0m\u001b[0;34m\u001b[0m\u001b[0m\n\u001b[1;32m     87\u001b[0m         \u001b[0mpossible_data\u001b[0m \u001b[0;34m=\u001b[0m \u001b[0me\u001b[0m\u001b[0;34m.\u001b[0m\u001b[0margs\u001b[0m\u001b[0;34m[\u001b[0m\u001b[0;36m0\u001b[0m\u001b[0;34m]\u001b[0m\u001b[0;34m\u001b[0m\u001b[0;34m\u001b[0m\u001b[0m\n",
            "\u001b[0;32m/usr/local/lib/python3.11/dist-packages/eth_tester/main.py\u001b[0m in \u001b[0;36mestimate_gas\u001b[0;34m(self, transaction, block_number)\u001b[0m\n\u001b[1;32m    511\u001b[0m         \u001b[0mself\u001b[0m\u001b[0;34m.\u001b[0m\u001b[0mvalidator\u001b[0m\u001b[0;34m.\u001b[0m\u001b[0mvalidate_inbound_block_number\u001b[0m\u001b[0;34m(\u001b[0m\u001b[0mblock_number\u001b[0m\u001b[0;34m)\u001b[0m\u001b[0;34m\u001b[0m\u001b[0;34m\u001b[0m\u001b[0m\n\u001b[1;32m    512\u001b[0m         \u001b[0mraw_block_number\u001b[0m \u001b[0;34m=\u001b[0m \u001b[0mself\u001b[0m\u001b[0;34m.\u001b[0m\u001b[0mnormalizer\u001b[0m\u001b[0;34m.\u001b[0m\u001b[0mnormalize_inbound_block_number\u001b[0m\u001b[0;34m(\u001b[0m\u001b[0mblock_number\u001b[0m\u001b[0;34m)\u001b[0m\u001b[0;34m\u001b[0m\u001b[0;34m\u001b[0m\u001b[0m\n\u001b[0;32m--> 513\u001b[0;31m         \u001b[0mraw_gas_estimate\u001b[0m \u001b[0;34m=\u001b[0m \u001b[0mself\u001b[0m\u001b[0;34m.\u001b[0m\u001b[0mbackend\u001b[0m\u001b[0;34m.\u001b[0m\u001b[0mestimate_gas\u001b[0m\u001b[0;34m(\u001b[0m\u001b[0mraw_transaction\u001b[0m\u001b[0;34m,\u001b[0m \u001b[0mraw_block_number\u001b[0m\u001b[0;34m)\u001b[0m\u001b[0;34m\u001b[0m\u001b[0;34m\u001b[0m\u001b[0m\n\u001b[0m\u001b[1;32m    514\u001b[0m         \u001b[0mself\u001b[0m\u001b[0;34m.\u001b[0m\u001b[0mvalidator\u001b[0m\u001b[0;34m.\u001b[0m\u001b[0mvalidate_outbound_gas_estimate\u001b[0m\u001b[0;34m(\u001b[0m\u001b[0mraw_gas_estimate\u001b[0m\u001b[0;34m)\u001b[0m\u001b[0;34m\u001b[0m\u001b[0;34m\u001b[0m\u001b[0m\n\u001b[1;32m    515\u001b[0m         \u001b[0mgas_estimate\u001b[0m \u001b[0;34m=\u001b[0m \u001b[0mself\u001b[0m\u001b[0;34m.\u001b[0m\u001b[0mnormalizer\u001b[0m\u001b[0;34m.\u001b[0m\u001b[0mnormalize_outbound_gas_estimate\u001b[0m\u001b[0;34m(\u001b[0m\u001b[0mraw_gas_estimate\u001b[0m\u001b[0;34m)\u001b[0m\u001b[0;34m\u001b[0m\u001b[0;34m\u001b[0m\u001b[0m\n",
            "\u001b[0;32m/usr/local/lib/python3.11/dist-packages/eth_utils/decorators.py\u001b[0m in \u001b[0;36mwrapped\u001b[0;34m(*args, **kwargs)\u001b[0m\n\u001b[1;32m    119\u001b[0m         \u001b[0;32mdef\u001b[0m \u001b[0mwrapped\u001b[0m\u001b[0;34m(\u001b[0m\u001b[0;34m*\u001b[0m\u001b[0margs\u001b[0m\u001b[0;34m:\u001b[0m \u001b[0mAny\u001b[0m\u001b[0;34m,\u001b[0m \u001b[0;34m**\u001b[0m\u001b[0mkwargs\u001b[0m\u001b[0;34m:\u001b[0m \u001b[0mAny\u001b[0m\u001b[0;34m)\u001b[0m \u001b[0;34m->\u001b[0m \u001b[0mT\u001b[0m\u001b[0;34m:\u001b[0m\u001b[0;34m\u001b[0m\u001b[0;34m\u001b[0m\u001b[0m\n\u001b[1;32m    120\u001b[0m             \u001b[0;32mtry\u001b[0m\u001b[0;34m:\u001b[0m\u001b[0;34m\u001b[0m\u001b[0;34m\u001b[0m\u001b[0m\n\u001b[0;32m--> 121\u001b[0;31m                 \u001b[0;32mreturn\u001b[0m \u001b[0mto_wrap\u001b[0m\u001b[0;34m(\u001b[0m\u001b[0;34m*\u001b[0m\u001b[0margs\u001b[0m\u001b[0;34m,\u001b[0m \u001b[0;34m**\u001b[0m\u001b[0mkwargs\u001b[0m\u001b[0;34m)\u001b[0m\u001b[0;34m\u001b[0m\u001b[0;34m\u001b[0m\u001b[0m\n\u001b[0m\u001b[1;32m    122\u001b[0m             \u001b[0;32mexcept\u001b[0m \u001b[0mold_exceptions\u001b[0m \u001b[0;32mas\u001b[0m \u001b[0merr\u001b[0m\u001b[0;34m:\u001b[0m\u001b[0;34m\u001b[0m\u001b[0;34m\u001b[0m\u001b[0m\n\u001b[1;32m    123\u001b[0m                 \u001b[0;32mtry\u001b[0m\u001b[0;34m:\u001b[0m\u001b[0;34m\u001b[0m\u001b[0;34m\u001b[0m\u001b[0m\n",
            "\u001b[0;32m/usr/local/lib/python3.11/dist-packages/eth_tester/backends/pyevm/main.py\u001b[0m in \u001b[0;36mestimate_gas\u001b[0;34m(self, transaction, block_number)\u001b[0m\n\u001b[1;32m    842\u001b[0m \u001b[0;34m\u001b[0m\u001b[0m\n\u001b[1;32m    843\u001b[0m         \u001b[0;32mif\u001b[0m \u001b[0mblock_number\u001b[0m \u001b[0;32min\u001b[0m \u001b[0;34m(\u001b[0m\u001b[0;34m\"latest\"\u001b[0m\u001b[0;34m,\u001b[0m \u001b[0;34m\"safe\"\u001b[0m\u001b[0;34m,\u001b[0m \u001b[0;34m\"finalized\"\u001b[0m\u001b[0;34m)\u001b[0m\u001b[0;34m:\u001b[0m\u001b[0;34m\u001b[0m\u001b[0;34m\u001b[0m\u001b[0m\n\u001b[0;32m--> 844\u001b[0;31m             \u001b[0;32mreturn\u001b[0m \u001b[0mself\u001b[0m\u001b[0;34m.\u001b[0m\u001b[0mchain\u001b[0m\u001b[0;34m.\u001b[0m\u001b[0mestimate_gas\u001b[0m\u001b[0;34m(\u001b[0m\u001b[0mspoofed_transaction\u001b[0m\u001b[0;34m)\u001b[0m\u001b[0;34m\u001b[0m\u001b[0;34m\u001b[0m\u001b[0m\n\u001b[0m\u001b[1;32m    845\u001b[0m         \u001b[0;32melif\u001b[0m \u001b[0mblock_number\u001b[0m \u001b[0;34m==\u001b[0m \u001b[0;34m\"earliest\"\u001b[0m\u001b[0;34m:\u001b[0m\u001b[0;34m\u001b[0m\u001b[0;34m\u001b[0m\u001b[0m\n\u001b[1;32m    846\u001b[0m             return self.chain.estimate_gas(\n",
            "\u001b[0;32m/usr/local/lib/python3.11/dist-packages/eth/chains/base.py\u001b[0m in \u001b[0;36mestimate_gas\u001b[0;34m(self, transaction, at_header)\u001b[0m\n\u001b[1;32m    489\u001b[0m             \u001b[0mat_header\u001b[0m \u001b[0;34m=\u001b[0m \u001b[0mself\u001b[0m\u001b[0;34m.\u001b[0m\u001b[0mget_canonical_head\u001b[0m\u001b[0;34m(\u001b[0m\u001b[0;34m)\u001b[0m\u001b[0;34m\u001b[0m\u001b[0;34m\u001b[0m\u001b[0m\n\u001b[1;32m    490\u001b[0m         \u001b[0;32mwith\u001b[0m \u001b[0mself\u001b[0m\u001b[0;34m.\u001b[0m\u001b[0mget_vm\u001b[0m\u001b[0;34m(\u001b[0m\u001b[0mat_header\u001b[0m\u001b[0;34m)\u001b[0m\u001b[0;34m.\u001b[0m\u001b[0min_costless_state\u001b[0m\u001b[0;34m(\u001b[0m\u001b[0;34m)\u001b[0m \u001b[0;32mas\u001b[0m \u001b[0mstate\u001b[0m\u001b[0;34m:\u001b[0m\u001b[0;34m\u001b[0m\u001b[0;34m\u001b[0m\u001b[0m\n\u001b[0;32m--> 491\u001b[0;31m             \u001b[0;32mreturn\u001b[0m \u001b[0mself\u001b[0m\u001b[0;34m.\u001b[0m\u001b[0mgas_estimator\u001b[0m\u001b[0;34m(\u001b[0m\u001b[0mstate\u001b[0m\u001b[0;34m,\u001b[0m \u001b[0mtransaction\u001b[0m\u001b[0;34m)\u001b[0m\u001b[0;34m\u001b[0m\u001b[0;34m\u001b[0m\u001b[0m\n\u001b[0m\u001b[1;32m    492\u001b[0m \u001b[0;34m\u001b[0m\u001b[0m\n\u001b[1;32m    493\u001b[0m     def import_block(\n",
            "\u001b[0;32m/usr/local/lib/python3.11/dist-packages/cytoolz/functoolz.pyx\u001b[0m in \u001b[0;36mcytoolz.functoolz.curry.__call__\u001b[0;34m()\u001b[0m\n",
            "\u001b[0;32m/usr/local/lib/python3.11/dist-packages/eth/estimators/gas.py\u001b[0m in \u001b[0;36mbinary_gas_search\u001b[0;34m(state, transaction, tolerance)\u001b[0m\n\u001b[1;32m     74\u001b[0m     )\n\u001b[1;32m     75\u001b[0m \u001b[0;34m\u001b[0m\u001b[0m\n\u001b[0;32m---> 76\u001b[0;31m     \u001b[0;32mif\u001b[0m \u001b[0m_get_computation_error\u001b[0m\u001b[0;34m(\u001b[0m\u001b[0mstate\u001b[0m\u001b[0;34m,\u001b[0m \u001b[0mminimum_transaction\u001b[0m\u001b[0;34m)\u001b[0m \u001b[0;32mis\u001b[0m \u001b[0;32mNone\u001b[0m\u001b[0;34m:\u001b[0m\u001b[0;34m\u001b[0m\u001b[0;34m\u001b[0m\u001b[0m\n\u001b[0m\u001b[1;32m     77\u001b[0m         \u001b[0;32mreturn\u001b[0m \u001b[0mtransaction\u001b[0m\u001b[0;34m.\u001b[0m\u001b[0mintrinsic_gas\u001b[0m\u001b[0;34m\u001b[0m\u001b[0;34m\u001b[0m\u001b[0m\n\u001b[1;32m     78\u001b[0m \u001b[0;34m\u001b[0m\u001b[0m\n",
            "\u001b[0;32m/usr/local/lib/python3.11/dist-packages/eth/estimators/gas.py\u001b[0m in \u001b[0;36m_get_computation_error\u001b[0;34m(state, transaction)\u001b[0m\n\u001b[1;32m     26\u001b[0m \u001b[0;34m\u001b[0m\u001b[0m\n\u001b[1;32m     27\u001b[0m     \u001b[0;32mtry\u001b[0m\u001b[0;34m:\u001b[0m\u001b[0;34m\u001b[0m\u001b[0;34m\u001b[0m\u001b[0m\n\u001b[0;32m---> 28\u001b[0;31m         \u001b[0mcomputation\u001b[0m \u001b[0;34m=\u001b[0m \u001b[0mstate\u001b[0m\u001b[0;34m.\u001b[0m\u001b[0mapply_transaction\u001b[0m\u001b[0;34m(\u001b[0m\u001b[0mtransaction\u001b[0m\u001b[0;34m)\u001b[0m\u001b[0;34m\u001b[0m\u001b[0;34m\u001b[0m\u001b[0m\n\u001b[0m\u001b[1;32m     29\u001b[0m         \u001b[0;32mif\u001b[0m \u001b[0mcomputation\u001b[0m\u001b[0;34m.\u001b[0m\u001b[0mis_error\u001b[0m\u001b[0;34m:\u001b[0m\u001b[0;34m\u001b[0m\u001b[0;34m\u001b[0m\u001b[0m\n\u001b[1;32m     30\u001b[0m             \u001b[0;32mreturn\u001b[0m \u001b[0mcomputation\u001b[0m\u001b[0;34m.\u001b[0m\u001b[0merror\u001b[0m\u001b[0;34m\u001b[0m\u001b[0;34m\u001b[0m\u001b[0m\n",
            "\u001b[0;32m/usr/local/lib/python3.11/dist-packages/eth/vm/forks/frontier/state.py\u001b[0m in \u001b[0;36mapply_transaction\u001b[0;34m(self, transaction)\u001b[0m\n\u001b[1;32m    221\u001b[0m     \u001b[0;32mdef\u001b[0m \u001b[0mapply_transaction\u001b[0m\u001b[0;34m(\u001b[0m\u001b[0mself\u001b[0m\u001b[0;34m,\u001b[0m \u001b[0mtransaction\u001b[0m\u001b[0;34m:\u001b[0m \u001b[0mSignedTransactionAPI\u001b[0m\u001b[0;34m)\u001b[0m \u001b[0;34m->\u001b[0m \u001b[0mComputationAPI\u001b[0m\u001b[0;34m:\u001b[0m\u001b[0;34m\u001b[0m\u001b[0;34m\u001b[0m\u001b[0m\n\u001b[1;32m    222\u001b[0m         \u001b[0mexecutor\u001b[0m \u001b[0;34m=\u001b[0m \u001b[0mself\u001b[0m\u001b[0;34m.\u001b[0m\u001b[0mget_transaction_executor\u001b[0m\u001b[0;34m(\u001b[0m\u001b[0;34m)\u001b[0m\u001b[0;34m\u001b[0m\u001b[0;34m\u001b[0m\u001b[0m\n\u001b[0;32m--> 223\u001b[0;31m         \u001b[0;32mreturn\u001b[0m \u001b[0mexecutor\u001b[0m\u001b[0;34m(\u001b[0m\u001b[0mtransaction\u001b[0m\u001b[0;34m)\u001b[0m\u001b[0;34m\u001b[0m\u001b[0;34m\u001b[0m\u001b[0m\n\u001b[0m\u001b[1;32m    224\u001b[0m \u001b[0;34m\u001b[0m\u001b[0m\n\u001b[1;32m    225\u001b[0m     \u001b[0;32mdef\u001b[0m \u001b[0mvalidate_transaction\u001b[0m\u001b[0;34m(\u001b[0m\u001b[0mself\u001b[0m\u001b[0;34m,\u001b[0m \u001b[0mtransaction\u001b[0m\u001b[0;34m:\u001b[0m \u001b[0mSignedTransactionAPI\u001b[0m\u001b[0;34m)\u001b[0m \u001b[0;34m->\u001b[0m \u001b[0;32mNone\u001b[0m\u001b[0;34m:\u001b[0m\u001b[0;34m\u001b[0m\u001b[0;34m\u001b[0m\u001b[0m\n",
            "\u001b[0;32m/usr/local/lib/python3.11/dist-packages/eth/vm/forks/cancun/state.py\u001b[0m in \u001b[0;36m__call__\u001b[0;34m(self, *args, **kwargs)\u001b[0m\n\u001b[1;32m     92\u001b[0m \u001b[0;32mclass\u001b[0m \u001b[0mCancunTransactionExecutor\u001b[0m\u001b[0;34m(\u001b[0m\u001b[0mShanghaiTransactionExecutor\u001b[0m\u001b[0;34m)\u001b[0m\u001b[0;34m:\u001b[0m\u001b[0;34m\u001b[0m\u001b[0;34m\u001b[0m\u001b[0m\n\u001b[1;32m     93\u001b[0m     \u001b[0;32mdef\u001b[0m \u001b[0m__call__\u001b[0m\u001b[0;34m(\u001b[0m\u001b[0mself\u001b[0m\u001b[0;34m,\u001b[0m \u001b[0;34m*\u001b[0m\u001b[0margs\u001b[0m\u001b[0;34m:\u001b[0m \u001b[0mAny\u001b[0m\u001b[0;34m,\u001b[0m \u001b[0;34m**\u001b[0m\u001b[0mkwargs\u001b[0m\u001b[0;34m:\u001b[0m \u001b[0mAny\u001b[0m\u001b[0;34m)\u001b[0m \u001b[0;34m->\u001b[0m \u001b[0mComputationAPI\u001b[0m\u001b[0;34m:\u001b[0m\u001b[0;34m\u001b[0m\u001b[0;34m\u001b[0m\u001b[0m\n\u001b[0;32m---> 94\u001b[0;31m         \u001b[0mret\u001b[0m \u001b[0;34m=\u001b[0m \u001b[0msuper\u001b[0m\u001b[0;34m(\u001b[0m\u001b[0;34m)\u001b[0m\u001b[0;34m.\u001b[0m\u001b[0m__call__\u001b[0m\u001b[0;34m(\u001b[0m\u001b[0;34m*\u001b[0m\u001b[0margs\u001b[0m\u001b[0;34m,\u001b[0m \u001b[0;34m**\u001b[0m\u001b[0mkwargs\u001b[0m\u001b[0;34m)\u001b[0m\u001b[0;34m\u001b[0m\u001b[0;34m\u001b[0m\u001b[0m\n\u001b[0m\u001b[1;32m     95\u001b[0m         \u001b[0mself\u001b[0m\u001b[0;34m.\u001b[0m\u001b[0mvm_state\u001b[0m\u001b[0;34m.\u001b[0m\u001b[0mclear_transient_storage\u001b[0m\u001b[0;34m(\u001b[0m\u001b[0;34m)\u001b[0m\u001b[0;34m\u001b[0m\u001b[0;34m\u001b[0m\u001b[0m\n\u001b[1;32m     96\u001b[0m         \u001b[0;32mreturn\u001b[0m \u001b[0mret\u001b[0m\u001b[0;34m\u001b[0m\u001b[0;34m\u001b[0m\u001b[0m\n",
            "\u001b[0;32m/usr/local/lib/python3.11/dist-packages/eth/vm/state.py\u001b[0m in \u001b[0;36m__call__\u001b[0;34m(self, transaction)\u001b[0m\n\u001b[1;32m    341\u001b[0m \u001b[0;34m\u001b[0m\u001b[0m\n\u001b[1;32m    342\u001b[0m     \u001b[0;32mdef\u001b[0m \u001b[0m__call__\u001b[0m\u001b[0;34m(\u001b[0m\u001b[0mself\u001b[0m\u001b[0;34m,\u001b[0m \u001b[0mtransaction\u001b[0m\u001b[0;34m:\u001b[0m \u001b[0mSignedTransactionAPI\u001b[0m\u001b[0;34m)\u001b[0m \u001b[0;34m->\u001b[0m \u001b[0mComputationAPI\u001b[0m\u001b[0;34m:\u001b[0m\u001b[0;34m\u001b[0m\u001b[0;34m\u001b[0m\u001b[0m\n\u001b[0;32m--> 343\u001b[0;31m         \u001b[0mself\u001b[0m\u001b[0;34m.\u001b[0m\u001b[0mvalidate_transaction\u001b[0m\u001b[0;34m(\u001b[0m\u001b[0mtransaction\u001b[0m\u001b[0;34m)\u001b[0m\u001b[0;34m\u001b[0m\u001b[0;34m\u001b[0m\u001b[0m\n\u001b[0m\u001b[1;32m    344\u001b[0m         \u001b[0mmessage\u001b[0m \u001b[0;34m=\u001b[0m \u001b[0mself\u001b[0m\u001b[0;34m.\u001b[0m\u001b[0mbuild_evm_message\u001b[0m\u001b[0;34m(\u001b[0m\u001b[0mtransaction\u001b[0m\u001b[0;34m)\u001b[0m\u001b[0;34m\u001b[0m\u001b[0;34m\u001b[0m\u001b[0m\n\u001b[1;32m    345\u001b[0m         \u001b[0mcomputation\u001b[0m \u001b[0;34m=\u001b[0m \u001b[0mself\u001b[0m\u001b[0;34m.\u001b[0m\u001b[0mbuild_computation\u001b[0m\u001b[0;34m(\u001b[0m\u001b[0mmessage\u001b[0m\u001b[0;34m,\u001b[0m \u001b[0mtransaction\u001b[0m\u001b[0;34m)\u001b[0m\u001b[0;34m\u001b[0m\u001b[0;34m\u001b[0m\u001b[0m\n",
            "\u001b[0;32m/usr/local/lib/python3.11/dist-packages/eth/vm/forks/frontier/state.py\u001b[0m in \u001b[0;36mvalidate_transaction\u001b[0;34m(self, transaction)\u001b[0m\n\u001b[1;32m     63\u001b[0m         \u001b[0;31m# Validate the transaction\u001b[0m\u001b[0;34m\u001b[0m\u001b[0;34m\u001b[0m\u001b[0m\n\u001b[1;32m     64\u001b[0m         \u001b[0mtransaction\u001b[0m\u001b[0;34m.\u001b[0m\u001b[0mvalidate\u001b[0m\u001b[0;34m(\u001b[0m\u001b[0;34m)\u001b[0m\u001b[0;34m\u001b[0m\u001b[0;34m\u001b[0m\u001b[0m\n\u001b[0;32m---> 65\u001b[0;31m         \u001b[0mself\u001b[0m\u001b[0;34m.\u001b[0m\u001b[0mvm_state\u001b[0m\u001b[0;34m.\u001b[0m\u001b[0mvalidate_transaction\u001b[0m\u001b[0;34m(\u001b[0m\u001b[0mtransaction\u001b[0m\u001b[0;34m)\u001b[0m\u001b[0;34m\u001b[0m\u001b[0;34m\u001b[0m\u001b[0m\n\u001b[0m\u001b[1;32m     66\u001b[0m \u001b[0;34m\u001b[0m\u001b[0m\n\u001b[1;32m     67\u001b[0m     \u001b[0;32mdef\u001b[0m \u001b[0mbuild_evm_message\u001b[0m\u001b[0;34m(\u001b[0m\u001b[0mself\u001b[0m\u001b[0;34m,\u001b[0m \u001b[0mtransaction\u001b[0m\u001b[0;34m:\u001b[0m \u001b[0mSignedTransactionAPI\u001b[0m\u001b[0;34m)\u001b[0m \u001b[0;34m->\u001b[0m \u001b[0mMessageAPI\u001b[0m\u001b[0;34m:\u001b[0m\u001b[0;34m\u001b[0m\u001b[0;34m\u001b[0m\u001b[0m\n",
            "\u001b[0;32m/usr/local/lib/python3.11/dist-packages/eth/vm/forks/cancun/state.py\u001b[0m in \u001b[0;36mvalidate_transaction\u001b[0;34m(self, transaction)\u001b[0m\n\u001b[1;32m    201\u001b[0m \u001b[0;34m\u001b[0m\u001b[0m\n\u001b[1;32m    202\u001b[0m     \u001b[0;32mdef\u001b[0m \u001b[0mvalidate_transaction\u001b[0m\u001b[0;34m(\u001b[0m\u001b[0mself\u001b[0m\u001b[0;34m,\u001b[0m \u001b[0mtransaction\u001b[0m\u001b[0;34m:\u001b[0m \u001b[0mSignedTransactionAPI\u001b[0m\u001b[0;34m)\u001b[0m \u001b[0;34m->\u001b[0m \u001b[0;32mNone\u001b[0m\u001b[0;34m:\u001b[0m\u001b[0;34m\u001b[0m\u001b[0;34m\u001b[0m\u001b[0m\n\u001b[0;32m--> 203\u001b[0;31m         \u001b[0msuper\u001b[0m\u001b[0;34m(\u001b[0m\u001b[0;34m)\u001b[0m\u001b[0;34m.\u001b[0m\u001b[0mvalidate_transaction\u001b[0m\u001b[0;34m(\u001b[0m\u001b[0mtransaction\u001b[0m\u001b[0;34m)\u001b[0m\u001b[0;34m\u001b[0m\u001b[0;34m\u001b[0m\u001b[0m\n\u001b[0m\u001b[1;32m    204\u001b[0m \u001b[0;34m\u001b[0m\u001b[0m\n\u001b[1;32m    205\u001b[0m         \u001b[0;31m# modify the check for sufficient balance\u001b[0m\u001b[0;34m\u001b[0m\u001b[0;34m\u001b[0m\u001b[0m\n",
            "\u001b[0;32m/usr/local/lib/python3.11/dist-packages/eth/vm/forks/london/state.py\u001b[0m in \u001b[0;36mvalidate_transaction\u001b[0;34m(self, transaction)\u001b[0m\n\u001b[1;32m    120\u001b[0m \u001b[0;34m\u001b[0m\u001b[0m\n\u001b[1;32m    121\u001b[0m     \u001b[0;32mdef\u001b[0m \u001b[0mvalidate_transaction\u001b[0m\u001b[0;34m(\u001b[0m\u001b[0mself\u001b[0m\u001b[0;34m,\u001b[0m \u001b[0mtransaction\u001b[0m\u001b[0;34m:\u001b[0m \u001b[0mSignedTransactionAPI\u001b[0m\u001b[0;34m)\u001b[0m \u001b[0;34m->\u001b[0m \u001b[0;32mNone\u001b[0m\u001b[0;34m:\u001b[0m\u001b[0;34m\u001b[0m\u001b[0;34m\u001b[0m\u001b[0m\n\u001b[0;32m--> 122\u001b[0;31m         validate_london_normalized_transaction(\n\u001b[0m\u001b[1;32m    123\u001b[0m             \u001b[0mstate\u001b[0m\u001b[0;34m=\u001b[0m\u001b[0mself\u001b[0m\u001b[0;34m,\u001b[0m\u001b[0;34m\u001b[0m\u001b[0;34m\u001b[0m\u001b[0m\n\u001b[1;32m    124\u001b[0m             \u001b[0mtransaction\u001b[0m\u001b[0;34m=\u001b[0m\u001b[0mtransaction\u001b[0m\u001b[0;34m,\u001b[0m\u001b[0;34m\u001b[0m\u001b[0;34m\u001b[0m\u001b[0m\n",
            "\u001b[0;32m/usr/local/lib/python3.11/dist-packages/eth/vm/forks/london/validation.py\u001b[0m in \u001b[0;36mvalidate_london_normalized_transaction\u001b[0;34m(state, transaction)\u001b[0m\n\u001b[1;32m     29\u001b[0m         )\n\u001b[1;32m     30\u001b[0m \u001b[0;34m\u001b[0m\u001b[0m\n\u001b[0;32m---> 31\u001b[0;31m     \u001b[0mvalidate_homestead_transaction\u001b[0m\u001b[0;34m(\u001b[0m\u001b[0mstate\u001b[0m\u001b[0;34m,\u001b[0m \u001b[0mtransaction\u001b[0m\u001b[0;34m)\u001b[0m\u001b[0;34m\u001b[0m\u001b[0;34m\u001b[0m\u001b[0m\n\u001b[0m",
            "\u001b[0;32m/usr/local/lib/python3.11/dist-packages/eth/vm/forks/homestead/validation.py\u001b[0m in \u001b[0;36mvalidate_homestead_transaction\u001b[0;34m(state, transaction)\u001b[0m\n\u001b[1;32m     21\u001b[0m         \u001b[0;32mraise\u001b[0m \u001b[0mValidationError\u001b[0m\u001b[0;34m(\u001b[0m\u001b[0;34m\"Invalid signature S value\"\u001b[0m\u001b[0;34m)\u001b[0m\u001b[0;34m\u001b[0m\u001b[0;34m\u001b[0m\u001b[0m\n\u001b[1;32m     22\u001b[0m \u001b[0;34m\u001b[0m\u001b[0m\n\u001b[0;32m---> 23\u001b[0;31m     \u001b[0mvalidate_frontier_transaction\u001b[0m\u001b[0;34m(\u001b[0m\u001b[0mstate\u001b[0m\u001b[0;34m,\u001b[0m \u001b[0mtransaction\u001b[0m\u001b[0;34m)\u001b[0m\u001b[0;34m\u001b[0m\u001b[0;34m\u001b[0m\u001b[0m\n\u001b[0m",
            "\u001b[0;32m/usr/local/lib/python3.11/dist-packages/eth/vm/forks/frontier/validation.py\u001b[0m in \u001b[0;36mvalidate_frontier_transaction\u001b[0;34m(state, transaction)\u001b[0m\n\u001b[1;32m     26\u001b[0m \u001b[0;34m\u001b[0m\u001b[0m\n\u001b[1;32m     27\u001b[0m     \u001b[0;32mif\u001b[0m \u001b[0msender_balance\u001b[0m \u001b[0;34m<\u001b[0m \u001b[0mtotal_cost\u001b[0m\u001b[0;34m:\u001b[0m\u001b[0;34m\u001b[0m\u001b[0;34m\u001b[0m\u001b[0m\n\u001b[0;32m---> 28\u001b[0;31m         raise ValidationError(\n\u001b[0m\u001b[1;32m     29\u001b[0m             \u001b[0;34mf\"Sender does not have enough balance to cover transaction value and gas \"\u001b[0m\u001b[0;34m\u001b[0m\u001b[0;34m\u001b[0m\u001b[0m\n\u001b[1;32m     30\u001b[0m             \u001b[0;34mf\" (has {sender_balance}, needs {total_cost})\"\u001b[0m\u001b[0;34m\u001b[0m\u001b[0;34m\u001b[0m\u001b[0m\n",
            "\u001b[0;31mValidationError\u001b[0m: Sender does not have enough balance to cover transaction value and gas  (has 915999999958000000000000, needs 42000000000021000000000000)"
          ]
        }
      ]
    },
    {
      "cell_type": "markdown",
      "source": [
        "### A `ValidationError` results!\n",
        "\n",
        "The transaction does ***not*** succeed.\n",
        "\n",
        "Any transaction should use `try ... except ...` error-handling blocks in order to catch these potential errors.\n",
        "\n",
        "Let's see how this will work:"
      ],
      "metadata": {
        "id": "F-4k84brNl3J"
      }
    },
    {
      "cell_type": "code",
      "source": [
        "#\n",
        "# Let's create a single transaction for TOO MUCH ether\n",
        "#       Notice that the transaction is a dictionary\n",
        "#       It's created, sent to the chain, and a hash is returned:\n",
        "\n",
        "from eth_utils import ValidationError\n",
        "\n",
        "transaction = {                           # the transaction is a dictionary!\n",
        "    'from': w3.eth.accounts[3],           # from acct 3\n",
        "    'to': w3.eth.accounts[8],             # to acct 8\n",
        "    'value': w3.to_wei(42_000, 'ether')   # change this to/from 42 _million_ ether!\n",
        "}\n",
        "\n",
        "# now, we send the transaction to the blockchain -- with a TRY/EXCEPT error-handler\"\n",
        "try:\n",
        "    tx_hash = w3.eth.send_transaction(transaction)\n",
        "    # let's look at its resulting hash\n",
        "    print(\"Success!\\n\")\n",
        "    print(f\"The {tx_hash = }\")\n",
        "except ValidationError as e:\n",
        "    print(\"Transaction failed: Insufficient funds.   This time we've _caught_ this exception. [[ Everything is fine... Nothing to see here... ]] \\n\")\n",
        "    print(f\"Here is the full ValidationError:\\n    {e}\")\n",
        "\n"
      ],
      "metadata": {
        "id": "BiLbis78N5os",
        "colab": {
          "base_uri": "https://localhost:8080/"
        },
        "outputId": "08487a57-01da-4dc9-ab06-fec7ddbd8f15"
      },
      "execution_count": null,
      "outputs": [
        {
          "output_type": "stream",
          "name": "stdout",
          "text": [
            "Success!\n",
            "\n",
            "The tx_hash = HexBytes('0x2a526eed099ba13372ff7d7529539455a1d14208f5c978f98d6c4503da93344e')\n"
          ]
        }
      ]
    },
    {
      "cell_type": "markdown",
      "source": [
        "## <b><font color=\"DodgerBlue\">Challenge #4</font></b> &nbsp;&nbsp; A bustling  marketplace...\n",
        "\n",
        "<b><font color=\"Coral\">Task</font></b> &nbsp;&nbsp;  Use the example, above,  -- and any AI help you might want -- to create functions and cells that\n",
        "+ run <tt>N</tt> transactions, perhaps once every 2-3 seconds\n",
        "+ print what's running , e.g., \"Account 3 is sending 42,042 ether to Account 8\"\n",
        "+ uses random amounts (you choose the span that's ok)\n",
        "+ uses random accounts (you choose how to handle this randomness)\n",
        "\n",
        "<br><br>\n",
        "\n",
        "<b><font color=\"Coral\">Task 2</font></b> &nbsp;&nbsp;  Run your marketplace a small number of times, e.g., 10 transactions, and print the slate of account values at the end, <i>including the total across all of the accounts</i>.\n",
        "+ How much gas has been used, across all of the accounts?\n",
        "+ What are the <i>variance</i> and <i>inequality</i> (as measured by the <i>gini coefficient</i>) across all of the accounts?\n",
        "\n",
        "<br><br>\n",
        "\n",
        "<b><font color=\"Coral\">Task 3</font></b> &nbsp;&nbsp;  Run the same marketplace, but now for ***lots*** of transactions. Again, include the resulting account balances, the amount of gas used (total), and the measure of inequality -- which should be the <i>gini inequality</i> or <i>gini coefficient</i>  -- of the result. <br> <font size=\"-2\">How to implement  Gini inequality? Feel free to use AI or [Wikipedia](https://en.wikipedia.org/wiki/Gini_coefficient), which is probably what the AI will have used!</font>\n",
        "\n",
        "This time, add one more capability to your marketplace:\n",
        "+ when an account tries to overspend, it spends all it has and then stops spending (it doesn't crash!)\n",
        "+ one way to do this is to keep a list of the <i>insolvent</i> accounts, starting with the empty list `[ ]`\n",
        "+ Then, when an account tries to overspend, the transaction will be denied, but it would then go onto the insolvent list -- and will be ignored from then on.\n",
        "+ equivalently, you could start with a list of <i>solvent</i> accounts and then remove accounts from it when they first try to overspend...\n",
        "\n",
        "<br><br>\n",
        "\n",
        "<b><font color=\"Coral\"><u>Finale</u>: &nbsp; The Tontine</font></b> &nbsp;&nbsp;  Run the same marketplace, but now until there is only one account with positive balance...  This time, the questions are slightly different:\n",
        "+ how many \"generations\" did it take until one account\n",
        "+ for each generation, measure and remember the inequality-measure across all 10 accounts (for example, into a list)\n",
        "+ ***create a plot*** of the balances from the start until the Tontine is won.\n",
        "+ also, ***create a plot of the Gini inequality/coefficient*** across that time...\n",
        "\n",
        "You should adapt <i>how much</i> the accounts decide to exchange, so that this is both interesting and not too slow.\n",
        "\n",
        "<br>\n",
        "\n",
        "<b><font color=\"DodgerBlue\"><u>Reflection</u></font></b>: &nbsp; **Share your thoughts** on how this programming-and-simulation challenge went -- if you used AI, share how useful (or not) that was. This can be in a new text cell or in comments accompanying your executable cells...\n",
        "\n",
        "<br><br>\n",
        "<br><br>\n",
        "\n",
        "<hr>\n",
        "<br>"
      ],
      "metadata": {
        "id": "9jnW4_SKFa7Y"
      }
    },
    {
      "cell_type": "code",
      "source": [
        "import warnings\n",
        "from web3 import Web3\n",
        "import requests\n",
        "from eth_utils import ValidationError\n",
        "import random\n",
        "import time\n",
        "import matplotlib.pyplot as plt\n",
        "\n",
        "def gini(x):\n",
        "    \"\"\"Compute Gini coefficient of array of values\"\"\"\n",
        "    diffsum = 0\n",
        "    for i, xi in enumerate(x[:-1], 1):\n",
        "        for xj in x[i:]:\n",
        "            diffsum += abs(xi - xj)\n",
        "    return diffsum / (len(x)**2 * sum(x))\n",
        "\n",
        "\n",
        "def run_transactions(num_transactions):\n",
        "    insolvent_accounts = []\n",
        "    GiniCoefficients = []\n",
        "    AllBalances = []\n",
        "    total_gas_used = 0\n",
        "    for _ in range(num_transactions):\n",
        "        balances = []\n",
        "        for account in w3.eth.accounts:\n",
        "            balances.append(w3.eth.get_balance(account))\n",
        "\n",
        "        gini_coefficient = gini(balances)\n",
        "        GiniCoefficients.append(gini_coefficient)\n",
        "        AllBalances.append(balances.copy()) # Append a copy to avoid modification\n",
        "\n",
        "        sender_account_index = random.choice([i for i in range(len(w3.eth.accounts)) if i not in insolvent_accounts])\n",
        "        receiver_account_index = random.choice([i for i in range(len(w3.eth.accounts)) if i != sender_account_index and i not in insolvent_accounts])\n",
        "\n",
        "        sender_account = w3.eth.accounts[sender_account_index]\n",
        "        receiver_account = w3.eth.accounts[receiver_account_index]\n",
        "\n",
        "        amount_ether = random.uniform(1, 500000)\n",
        "\n",
        "        transaction = {\n",
        "            'from': sender_account,\n",
        "            'to': receiver_account,\n",
        "            'value': w3.to_wei(amount_ether, 'ether')\n",
        "        }\n",
        "        try:\n",
        "            tx_hash = w3.eth.send_transaction(transaction)\n",
        "            print(f\"Account #{sender_account_index} sent {amount_ether:.2f} ETH to Account #{receiver_account_index}\")\n",
        "            d = w3.eth.get_transaction(tx_hash)\n",
        "            block_number = d['blockNumber']\n",
        "            b = w3.eth.get_block(block_number)\n",
        "            gas_used = b['gasUsed']\n",
        "            total_gas_used += gas_used\n",
        "            time.sleep(random.uniform(0.5, 1)) #reduced delay for faster execution.\n",
        "        except ValidationError as e:\n",
        "            print(f\"Account #{sender_account_index} tried to send {amount_ether:.2f} ETH, but failed due to insufficient funds.\")\n",
        "            insolvent_accounts.append(sender_account_index)\n",
        "\n",
        "    # Calculate final Gini coefficient\n",
        "    final_balances = []\n",
        "    for account in w3.eth.accounts:\n",
        "      final_balances.append(w3.eth.get_balance(account))\n",
        "\n",
        "    final_gini = gini(final_balances)\n",
        "    GiniCoefficients.append(final_gini) #add final gini to the list\n",
        "    AllBalances.append(final_balances)\n",
        "\n",
        "    return GiniCoefficients, AllBalances, total_gas_used\n",
        "\n"
      ],
      "metadata": {
        "id": "EY_r1diMi6jm"
      },
      "execution_count": 58,
      "outputs": []
    },
    {
      "cell_type": "markdown",
      "source": [
        "<b><font color=\"Coral\">Hint</font></b> &nbsp;&nbsp; Here is an example of the final cell used for the in-class example. Notice that\n",
        "+ the function `run_transactions()` does all of the work\n",
        "+ the two lines above simply \"reset\" all 10 ETH accounts to 1,000,000 ETH each (wow!)\n",
        "+ the function `run_transactions()` returns two lists:\n",
        "  + the list `GiniCoefficients` holds all of those gini coefficients for the whole tontine\n",
        "  + the line `AllBalances` holds ALL of the balances of all of the accounts for the whole tontine\n",
        "+ these two were used in order to plot the inequality values and balances..."
      ],
      "metadata": {
        "id": "HGN-TSnQJZEe"
      }
    },
    {
      "cell_type": "code",
      "source": [
        "#Tasks 1 and 2\n",
        "provider = Web3.EthereumTesterProvider()\n",
        "w3 = Web3(provider)\n",
        "GiniCoefficients, AllBalances, total_gas_used = run_transactions(10) # Run 10 transactions\n",
        "print(\"\\nFinal Account Balances:\")\n",
        "for i, balance in enumerate(AllBalances[-1]):\n",
        "    print(f\"Account {i}: {Web3.from_wei(balance, 'ether')} ETH\")\n",
        "\n",
        "print(f\"Final Gini Coefficient: {GiniCoefficients[-1]}\")\n",
        "print(f\"Total Gas Used: {total_gas_used} wei\")"
      ],
      "metadata": {
        "colab": {
          "base_uri": "https://localhost:8080/"
        },
        "id": "htZwflPoswLi",
        "outputId": "7e51099d-343c-4fde-a4d2-1a92b958766b"
      },
      "execution_count": 59,
      "outputs": [
        {
          "output_type": "stream",
          "name": "stderr",
          "text": [
            "<frozen importlib._bootstrap>:1047: ImportWarning: _PyDrive2ImportHook.find_spec() not found; falling back to find_module()\n",
            "<frozen importlib._bootstrap>:1047: ImportWarning: _PyDriveImportHook.find_spec() not found; falling back to find_module()\n",
            "<frozen importlib._bootstrap>:1047: ImportWarning: _BokehImportHook.find_spec() not found; falling back to find_module()\n"
          ]
        },
        {
          "output_type": "stream",
          "name": "stdout",
          "text": [
            "Account #3 sent 218322.15 ETH to Account #0\n",
            "Account #1 sent 200822.11 ETH to Account #5\n",
            "Account #8 sent 215495.95 ETH to Account #1\n",
            "Account #3 sent 208405.54 ETH to Account #1\n",
            "Account #5 sent 260119.11 ETH to Account #6\n",
            "Account #9 sent 7661.01 ETH to Account #5\n",
            "Account #9 sent 67996.63 ETH to Account #5\n",
            "Account #5 sent 332424.61 ETH to Account #8\n",
            "Account #8 sent 20364.51 ETH to Account #7\n",
            "Account #4 sent 121681.69 ETH to Account #6\n",
            "\n",
            "Final Account Balances:\n",
            "Account 0: 1218322.1548712428 ETH\n",
            "Account 1: 1223079.38511442135 ETH\n",
            "Account 2: 1000000 ETH\n",
            "Account 3: 573272.30117187334 ETH\n",
            "Account 4: 878318.31193591274 ETH\n",
            "Account 5: 683936.039741474711 ETH\n",
            "Account 6: 1381800.79694666132 ETH\n",
            "Account 7: 1020364.51066814397 ETH\n",
            "Account 8: 1096564.1424696893 ETH\n",
            "Account 9: 924342.356870580469 ETH\n",
            "Final Gini Coefficient: 0.013287808962004884\n",
            "Total Gas Used: 210000 wei\n"
          ]
        }
      ]
    },
    {
      "cell_type": "markdown",
      "source": [
        "For 10 transactions, the total gas used was 210000 wei and the final gini coefficient was 0.013287808962004884\n"
      ],
      "metadata": {
        "id": "w6S8ro1CtCoX"
      }
    },
    {
      "cell_type": "code",
      "source": [
        "#Task 3\n",
        "provider = Web3.EthereumTesterProvider()\n",
        "w3 = Web3(provider)\n",
        "GiniCoefficients, AllBalances, total_gas_used = run_transactions(100) # Run 100 transactions\n",
        "print(\"\\nFinal Account Balances:\")\n",
        "for i, balance in enumerate(AllBalances[-1]):\n",
        "    print(f\"Account {i}: {Web3.from_wei(balance, 'ether')} ETH\")\n",
        "\n",
        "print(f\"Final Gini Coefficient: {GiniCoefficients[-1]}\")\n",
        "print(f\"Total Gas Used: {total_gas_used} wei\")"
      ],
      "metadata": {
        "id": "-9qO8N7GV6cI",
        "colab": {
          "base_uri": "https://localhost:8080/"
        },
        "outputId": "6be3f472-68a0-4686-fa96-0680ff1c691a"
      },
      "execution_count": 60,
      "outputs": [
        {
          "output_type": "stream",
          "name": "stderr",
          "text": [
            "<frozen importlib._bootstrap>:1047: ImportWarning: _PyDrive2ImportHook.find_spec() not found; falling back to find_module()\n",
            "<frozen importlib._bootstrap>:1047: ImportWarning: _PyDriveImportHook.find_spec() not found; falling back to find_module()\n",
            "<frozen importlib._bootstrap>:1047: ImportWarning: _BokehImportHook.find_spec() not found; falling back to find_module()\n"
          ]
        },
        {
          "output_type": "stream",
          "name": "stdout",
          "text": [
            "Account #5 sent 322528.16 ETH to Account #6\n",
            "Account #4 sent 323835.08 ETH to Account #7\n",
            "Account #4 sent 336502.18 ETH to Account #8\n",
            "Account #0 sent 14442.75 ETH to Account #2\n",
            "Account #2 sent 164228.79 ETH to Account #7\n",
            "Account #3 sent 147316.20 ETH to Account #4\n",
            "Account #0 sent 291304.35 ETH to Account #7\n",
            "Account #7 sent 335485.01 ETH to Account #2\n",
            "Account #6 sent 325280.33 ETH to Account #2\n",
            "Account #9 sent 456663.75 ETH to Account #6\n",
            "Account #7 sent 435501.70 ETH to Account #8\n",
            "Account #2 sent 384068.83 ETH to Account #9\n",
            "Account #4 sent 348350.49 ETH to Account #9\n",
            "Account #6 sent 353972.56 ETH to Account #7\n",
            "Account #8 sent 251338.60 ETH to Account #7\n",
            "Account #9 sent 263710.90 ETH to Account #0\n",
            "Account #9 sent 62139.18 ETH to Account #8\n",
            "Account #2 sent 278987.80 ETH to Account #9\n",
            "Account #8 sent 25707.28 ETH to Account #5\n",
            "Account #4 sent 9717.98 ETH to Account #0\n",
            "Account #3 sent 321400.72 ETH to Account #7\n",
            "Account #0 sent 135385.51 ETH to Account #5\n",
            "Account #7 sent 284475.11 ETH to Account #3\n",
            "Account #3 sent 467917.45 ETH to Account #5\n",
            "Account #5 sent 337459.83 ETH to Account #1\n",
            "Account #1 sent 331736.53 ETH to Account #4\n",
            "Account #5 sent 17226.68 ETH to Account #3\n",
            "Account #9 sent 375952.24 ETH to Account #4\n",
            "Account #1 sent 448642.07 ETH to Account #5\n",
            "Account #0 sent 499134.01 ETH to Account #4\n",
            "Account #7 sent 109771.26 ETH to Account #9\n",
            "Account #4 sent 130774.30 ETH to Account #5\n",
            "Account #2 sent 446476.95 ETH to Account #6\n",
            "Account #7 sent 149374.84 ETH to Account #1\n",
            "Account #3 sent 309216.81 ETH to Account #1\n",
            "Account #5 sent 489303.83 ETH to Account #3\n",
            "Account #3 sent 312191.73 ETH to Account #0\n",
            "Account #1 sent 288872.57 ETH to Account #9\n",
            "Account #8 sent 45767.62 ETH to Account #9\n",
            "Account #9 sent 499627.40 ETH to Account #0\n",
            "Account #0 sent 373141.85 ETH to Account #4\n",
            "Account #9 sent 113282.43 ETH to Account #1\n",
            "Account #1 sent 297433.71 ETH to Account #4\n",
            "Account #8 sent 444712.65 ETH to Account #0\n",
            "Account #5 sent 269788.63 ETH to Account #3\n",
            "Account #3 sent 116785.19 ETH to Account #9\n",
            "Account #9 sent 344982.74 ETH to Account #3\n",
            "Account #4 sent 120465.56 ETH to Account #8\n",
            "Account #0 sent 39545.86 ETH to Account #2\n",
            "Account #6 sent 476550.63 ETH to Account #1\n",
            "Account #3 sent 81061.16 ETH to Account #9\n",
            "Account #5 sent 2302.59 ETH to Account #8\n",
            "Account #8 sent 136555.61 ETH to Account #9\n",
            "Account #4 sent 264421.04 ETH to Account #9\n",
            "Account #0 sent 227604.39 ETH to Account #9\n",
            "Account #5 sent 217281.66 ETH to Account #1\n",
            "Account #0 sent 263045.76 ETH to Account #1\n",
            "Account #7 sent 155248.52 ETH to Account #4\n",
            "Account #7 sent 220797.84 ETH to Account #3\n",
            "Account #5 sent 101791.57 ETH to Account #6\n",
            "Account #8 sent 33448.21 ETH to Account #2\n",
            "Account #6 sent 446215.89 ETH to Account #2\n",
            "Account #7 sent 42517.50 ETH to Account #2\n",
            "Account #5 sent 320693.66 ETH to Account #0\n",
            "Account #3 sent 62175.16 ETH to Account #9\n",
            "Account #0 sent 172566.53 ETH to Account #7\n",
            "Account #2 sent 475365.37 ETH to Account #9\n",
            "Account #6 sent 72448.64 ETH to Account #0\n",
            "Account #6 sent 87537.21 ETH to Account #7\n",
            "Account #0 sent 166705.76 ETH to Account #7\n",
            "Account #1 sent 351409.58 ETH to Account #8\n",
            "Account #7 sent 283886.70 ETH to Account #8\n",
            "Account #2 sent 377428.19 ETH to Account #3\n",
            "Account #5 tried to send 472039.85 ETH, but failed due to insufficient funds.\n",
            "Account #0 sent 433990.91 ETH to Account #8\n",
            "Account #7 sent 244461.14 ETH to Account #9\n",
            "Account #0 sent 293551.24 ETH to Account #9\n",
            "Account #1 sent 335851.31 ETH to Account #0\n",
            "Account #3 sent 384085.04 ETH to Account #7\n",
            "Account #6 sent 105026.78 ETH to Account #3\n",
            "Account #6 sent 451503.02 ETH to Account #3\n",
            "Account #6 tried to send 421132.87 ETH, but failed due to insufficient funds.\n",
            "Account #2 tried to send 440225.11 ETH, but failed due to insufficient funds.\n",
            "Account #7 sent 158884.65 ETH to Account #8\n",
            "Account #1 sent 227473.83 ETH to Account #3\n",
            "Account #9 sent 478202.94 ETH to Account #4\n",
            "Account #9 sent 345259.56 ETH to Account #3\n",
            "Account #4 sent 371787.62 ETH to Account #9\n",
            "Account #1 sent 490041.30 ETH to Account #0\n",
            "Account #7 sent 423375.87 ETH to Account #3\n",
            "Account #3 sent 472560.42 ETH to Account #0\n",
            "Account #9 sent 354174.48 ETH to Account #8\n",
            "Account #7 sent 128748.88 ETH to Account #3\n",
            "Account #1 tried to send 428972.32 ETH, but failed due to insufficient funds.\n",
            "Account #8 sent 387505.62 ETH to Account #7\n",
            "Account #8 sent 296020.13 ETH to Account #4\n",
            "Account #7 sent 233599.43 ETH to Account #9\n",
            "Account #7 sent 312861.83 ETH to Account #0\n",
            "Account #3 sent 206159.29 ETH to Account #4\n",
            "Account #7 sent 371963.23 ETH to Account #4\n",
            "\n",
            "Final Account Balances:\n",
            "Account 0: 1623998.872257272986 ETH\n",
            "Account 1: 94751.06647483198 ETH\n",
            "Account 2: 110379.626100211809 ETH\n",
            "Account 3: 1804521.789349004229 ETH\n",
            "Account 4: 2626454.39716361681 ETH\n",
            "Account 5: 130049.986309613569 ETH\n",
            "Account 6: 8925.37153448531 ETH\n",
            "Account 7: 13526.76142317518 ETH\n",
            "Account 8: 1918201.830756879283 ETH\n",
            "Account 9: 1669190.296614908844 ETH\n",
            "Final Gini Coefficient: 0.051609721238265245\n",
            "Total Gas Used: 2016000 wei\n"
          ]
        }
      ]
    },
    {
      "cell_type": "markdown",
      "source": [
        "For 100 transactions, the total gas used was 2016000 wei and the final gini coefficient was 0.051609721238265245"
      ],
      "metadata": {
        "id": "EkTKFVU6taAO"
      }
    },
    {
      "cell_type": "code",
      "source": [
        "#Task 4\n",
        "import warnings\n",
        "from web3 import Web3\n",
        "import requests\n",
        "from eth_utils import ValidationError\n",
        "import random\n",
        "import time\n",
        "import matplotlib.pyplot as plt\n",
        "\n",
        "# Suppress warnings\n",
        "warnings.filterwarnings(\"ignore\", category=DeprecationWarning)\n",
        "warnings.filterwarnings(\"ignore\", category=ImportWarning)\n",
        "\n",
        "# Connect to the Ethereum tester provider\n",
        "provider = Web3.EthereumTesterProvider()\n",
        "w3 = Web3(provider)\n",
        "\n",
        "def gini(x):\n",
        "    \"\"\"Compute Gini coefficient of array of values\"\"\"\n",
        "    diffsum = 0\n",
        "    for i, xi in enumerate(x[:-1], 1):\n",
        "        for xj in x[i:]:\n",
        "            diffsum += abs(xi - xj)\n",
        "    return diffsum / (len(x)**2 * sum(x))\n",
        "\n",
        "def run_tontine():\n",
        "    insolvent_accounts = []\n",
        "    GiniCoefficients = []\n",
        "    AllBalances = []\n",
        "    generations = 0\n",
        "\n",
        "    while True:\n",
        "        generations += 1\n",
        "        balances = []\n",
        "        for account in w3.eth.accounts:\n",
        "            balances.append(w3.eth.get_balance(account))\n",
        "\n",
        "        gini_coefficient = gini(balances)\n",
        "        GiniCoefficients.append(gini_coefficient)\n",
        "        AllBalances.append(balances.copy())\n",
        "\n",
        "        positive_balance_count = sum(1 for balance in balances if balance > 0)\n",
        "        if positive_balance_count <= 1:\n",
        "            break\n",
        "\n",
        "        valid_receivers = [i for i in range(len(w3.eth.accounts)) if i not in insolvent_accounts]\n",
        "        if len(valid_receivers) <= 1:\n",
        "            break\n",
        "\n",
        "        sender_account_index = random.choice(valid_receivers)\n",
        "        receiver_account_index = random.choice([i for i in valid_receivers if i != sender_account_index])\n",
        "\n",
        "        sender_account = w3.eth.accounts[sender_account_index]\n",
        "        receiver_account = w3.eth.accounts[receiver_account_index]\n",
        "\n",
        "        amount_ether = random.uniform(1, 500000) # Adjust transaction amount range\n",
        "\n",
        "        transaction = {\n",
        "            'from': sender_account,\n",
        "            'to': receiver_account,\n",
        "            'value': w3.to_wei(amount_ether, 'ether')\n",
        "        }\n",
        "\n",
        "        try:\n",
        "            tx_hash = w3.eth.send_transaction(transaction)\n",
        "            print(f\"Generation {generations}: Account #{sender_account_index} sent {amount_ether:.2f} ETH to Account #{receiver_account_index}\")\n",
        "            time.sleep(0.1)\n",
        "        except ValidationError as e:\n",
        "            print(f\"Generation {generations}: Account #{sender_account_index} tried to send {amount_ether:.2f} ETH, but failed due to insufficient funds.\")\n",
        "            insolvent_accounts.append(sender_account_index)\n",
        "\n",
        "    print(f\"\\nTontine completed in {generations} generations.\")\n",
        "    return GiniCoefficients, AllBalances, generations\n",
        "\n",
        "\n",
        "# Run the Tontine simulation\n",
        "GiniCoefficients, AllBalances, generations = run_tontine()\n",
        "\n",
        "\n",
        "# Plotting\n",
        "plt.figure(figsize=(12, 6))\n",
        "\n",
        "plt.subplot(1, 2, 1)\n",
        "for i in range(len(w3.eth.accounts)):\n",
        "    plt.plot([Web3.from_wei(balance[i], 'ether') for balance in AllBalances])\n",
        "plt.xlabel(\"Generations\")\n",
        "plt.ylabel(\"Ether Balance\")\n",
        "plt.title(\"Account Balances over Time\")\n",
        "plt.legend([f\"Account {i}\" for i in range(len(w3.eth.accounts))])\n",
        "\n",
        "plt.subplot(1, 2, 2)\n",
        "plt.plot(GiniCoefficients)\n",
        "plt.xlabel(\"Generations\")\n",
        "plt.ylabel(\"Gini Coefficient\")\n",
        "plt.title(\"Gini Inequality over Time\")\n",
        "\n",
        "\n",
        "plt.tight_layout()\n",
        "plt.show()\n"
      ],
      "metadata": {
        "colab": {
          "base_uri": "https://localhost:8080/",
          "height": 1000
        },
        "id": "SUz2l4dGmF6r",
        "outputId": "b04f36b2-3d8c-44d5-eeb4-00f28517a4dc"
      },
      "execution_count": 61,
      "outputs": [
        {
          "output_type": "stream",
          "name": "stderr",
          "text": [
            "<frozen importlib._bootstrap>:1047: ImportWarning: _PyDrive2ImportHook.find_spec() not found; falling back to find_module()\n",
            "<frozen importlib._bootstrap>:1047: ImportWarning: _PyDriveImportHook.find_spec() not found; falling back to find_module()\n",
            "<frozen importlib._bootstrap>:1047: ImportWarning: _BokehImportHook.find_spec() not found; falling back to find_module()\n"
          ]
        },
        {
          "output_type": "stream",
          "name": "stdout",
          "text": [
            "Generation 1: Account #6 sent 358855.40 ETH to Account #8\n",
            "Generation 2: Account #8 sent 446836.31 ETH to Account #2\n",
            "Generation 3: Account #6 sent 175296.67 ETH to Account #0\n",
            "Generation 4: Account #0 sent 269708.98 ETH to Account #7\n",
            "Generation 5: Account #3 sent 48451.35 ETH to Account #9\n",
            "Generation 6: Account #2 sent 325366.65 ETH to Account #3\n",
            "Generation 7: Account #1 sent 20436.05 ETH to Account #0\n",
            "Generation 8: Account #9 sent 178335.62 ETH to Account #0\n",
            "Generation 9: Account #3 sent 369621.28 ETH to Account #2\n",
            "Generation 10: Account #9 sent 457768.15 ETH to Account #8\n",
            "Generation 11: Account #9 sent 20615.14 ETH to Account #8\n",
            "Generation 12: Account #4 sent 148748.98 ETH to Account #7\n",
            "Generation 13: Account #1 sent 10228.34 ETH to Account #4\n",
            "Generation 14: Account #0 sent 426827.02 ETH to Account #3\n",
            "Generation 15: Account #4 sent 131047.83 ETH to Account #7\n",
            "Generation 16: Account #9 sent 261957.37 ETH to Account #1\n",
            "Generation 17: Account #9 sent 35436.85 ETH to Account #7\n",
            "Generation 18: Account #1 sent 477824.71 ETH to Account #6\n",
            "Generation 19: Account #0 sent 138157.25 ETH to Account #3\n",
            "Generation 20: Account #5 sent 476934.47 ETH to Account #0\n",
            "Generation 21: Account #4 sent 436598.90 ETH to Account #9\n",
            "Generation 22: Account #8 sent 14907.78 ETH to Account #3\n",
            "Generation 23: Account #4 sent 59477.52 ETH to Account #9\n",
            "Generation 24: Account #8 sent 437659.71 ETH to Account #7\n",
            "Generation 25: Account #8 sent 223624.14 ETH to Account #2\n",
            "Generation 26: Account #9 sent 183966.23 ETH to Account #0\n",
            "Generation 27: Account #5 sent 45767.14 ETH to Account #3\n",
            "Generation 28: Account #6 sent 393980.31 ETH to Account #5\n",
            "Generation 29: Account #3 sent 281113.33 ETH to Account #8\n",
            "Generation 30: Account #5 sent 248893.91 ETH to Account #0\n",
            "Generation 31: Account #2 sent 136982.09 ETH to Account #4\n",
            "Generation 32: Account #5 sent 76656.07 ETH to Account #8\n",
            "Generation 33: Account #8 sent 204402.20 ETH to Account #9\n",
            "Generation 34: Account #0 sent 385836.32 ETH to Account #3\n",
            "Generation 35: Account #6 sent 294066.38 ETH to Account #8\n",
            "Generation 36: Account #0 sent 255704.11 ETH to Account #7\n",
            "Generation 37: Account #4 sent 38468.39 ETH to Account #6\n",
            "Generation 38: Account #2 sent 361954.98 ETH to Account #0\n",
            "Generation 39: Account #4 tried to send 415390.69 ETH, but failed due to insufficient funds.\n",
            "Generation 40: Account #9 sent 230638.29 ETH to Account #3\n",
            "Generation 41: Account #0 sent 328138.11 ETH to Account #3\n",
            "Generation 42: Account #5 sent 416648.36 ETH to Account #1\n",
            "Generation 43: Account #6 tried to send 338230.31 ETH, but failed due to insufficient funds.\n",
            "Generation 44: Account #1 sent 367787.97 ETH to Account #8\n",
            "Generation 45: Account #5 tried to send 487467.24 ETH, but failed due to insufficient funds.\n",
            "Generation 46: Account #8 sent 280144.80 ETH to Account #0\n",
            "Generation 47: Account #1 sent 295386.74 ETH to Account #8\n",
            "Generation 48: Account #1 sent 319253.84 ETH to Account #7\n",
            "Generation 49: Account #9 tried to send 439863.75 ETH, but failed due to insufficient funds.\n",
            "Generation 50: Account #2 sent 292421.66 ETH to Account #7\n",
            "Generation 51: Account #1 tried to send 464294.33 ETH, but failed due to insufficient funds.\n",
            "Generation 52: Account #7 sent 324646.79 ETH to Account #8\n",
            "Generation 53: Account #2 sent 382486.34 ETH to Account #3\n",
            "Generation 54: Account #8 sent 273319.19 ETH to Account #0\n",
            "Generation 55: Account #8 sent 398843.67 ETH to Account #7\n",
            "Generation 56: Account #0 sent 94217.41 ETH to Account #2\n",
            "Generation 57: Account #7 sent 310954.04 ETH to Account #0\n",
            "Generation 58: Account #7 sent 258761.29 ETH to Account #8\n",
            "Generation 59: Account #3 sent 363393.13 ETH to Account #8\n",
            "Generation 60: Account #3 sent 439757.36 ETH to Account #2\n",
            "Generation 61: Account #7 sent 439100.32 ETH to Account #2\n",
            "Generation 62: Account #7 sent 135125.78 ETH to Account #0\n",
            "Generation 63: Account #8 sent 138364.00 ETH to Account #3\n",
            "Generation 64: Account #2 sent 212009.26 ETH to Account #3\n",
            "Generation 65: Account #3 sent 325637.27 ETH to Account #0\n",
            "Generation 66: Account #3 sent 340956.27 ETH to Account #8\n",
            "Generation 67: Account #7 sent 407781.96 ETH to Account #2\n",
            "Generation 68: Account #3 sent 448846.97 ETH to Account #7\n",
            "Generation 69: Account #7 sent 459526.90 ETH to Account #0\n",
            "Generation 70: Account #0 sent 339789.25 ETH to Account #2\n",
            "Generation 71: Account #0 sent 421130.64 ETH to Account #2\n",
            "Generation 72: Account #2 sent 349679.69 ETH to Account #8\n",
            "Generation 73: Account #7 sent 68644.37 ETH to Account #2\n",
            "Generation 74: Account #0 sent 434462.97 ETH to Account #2\n",
            "Generation 75: Account #7 sent 437908.87 ETH to Account #8\n",
            "Generation 76: Account #3 sent 396509.59 ETH to Account #0\n",
            "Generation 77: Account #8 sent 432768.23 ETH to Account #7\n",
            "Generation 78: Account #0 sent 3065.96 ETH to Account #3\n",
            "Generation 79: Account #3 sent 54572.04 ETH to Account #2\n",
            "Generation 80: Account #2 sent 13627.91 ETH to Account #8\n",
            "Generation 81: Account #2 sent 93774.36 ETH to Account #8\n",
            "Generation 82: Account #8 sent 195747.53 ETH to Account #2\n",
            "Generation 83: Account #0 sent 322086.99 ETH to Account #7\n",
            "Generation 84: Account #2 sent 281862.40 ETH to Account #8\n",
            "Generation 85: Account #2 sent 202883.54 ETH to Account #7\n",
            "Generation 86: Account #3 sent 325571.22 ETH to Account #0\n",
            "Generation 87: Account #3 sent 117788.63 ETH to Account #7\n",
            "Generation 88: Account #7 sent 493589.29 ETH to Account #2\n",
            "Generation 89: Account #3 sent 105212.72 ETH to Account #8\n",
            "Generation 90: Account #0 sent 316597.54 ETH to Account #7\n",
            "Generation 91: Account #7 sent 357266.77 ETH to Account #3\n",
            "Generation 92: Account #7 sent 442636.52 ETH to Account #3\n",
            "Generation 93: Account #0 sent 407096.32 ETH to Account #3\n",
            "Generation 94: Account #3 sent 299221.69 ETH to Account #8\n",
            "Generation 95: Account #8 sent 85630.76 ETH to Account #2\n",
            "Generation 96: Account #2 sent 19891.03 ETH to Account #3\n",
            "Generation 97: Account #2 sent 31827.67 ETH to Account #3\n",
            "Generation 98: Account #2 sent 338744.60 ETH to Account #3\n",
            "Generation 99: Account #3 sent 358988.55 ETH to Account #2\n",
            "Generation 100: Account #0 sent 100587.77 ETH to Account #3\n",
            "Generation 101: Account #3 sent 372935.09 ETH to Account #0\n",
            "Generation 102: Account #3 sent 429787.30 ETH to Account #7\n",
            "Generation 103: Account #2 sent 354871.50 ETH to Account #8\n",
            "Generation 104: Account #7 sent 59001.54 ETH to Account #0\n",
            "Generation 105: Account #3 tried to send 253847.50 ETH, but failed due to insufficient funds.\n",
            "Generation 106: Account #7 sent 319324.88 ETH to Account #2\n",
            "Generation 107: Account #2 sent 390636.80 ETH to Account #7\n",
            "Generation 108: Account #0 sent 56868.43 ETH to Account #8\n",
            "Generation 109: Account #0 sent 264183.44 ETH to Account #2\n",
            "Generation 110: Account #8 sent 374356.25 ETH to Account #0\n",
            "Generation 111: Account #0 sent 366801.04 ETH to Account #7\n",
            "Generation 112: Account #8 sent 393722.71 ETH to Account #0\n",
            "Generation 113: Account #2 sent 221584.26 ETH to Account #0\n",
            "Generation 114: Account #8 sent 333528.65 ETH to Account #0\n",
            "Generation 115: Account #2 sent 441895.28 ETH to Account #8\n",
            "Generation 116: Account #0 sent 495937.29 ETH to Account #2\n",
            "Generation 117: Account #8 sent 37666.40 ETH to Account #7\n",
            "Generation 118: Account #7 sent 197967.84 ETH to Account #0\n",
            "Generation 119: Account #7 sent 18848.67 ETH to Account #8\n",
            "Generation 120: Account #0 sent 42356.85 ETH to Account #7\n",
            "Generation 121: Account #0 sent 373676.25 ETH to Account #7\n",
            "Generation 122: Account #7 sent 353236.05 ETH to Account #0\n",
            "Generation 123: Account #0 sent 361130.57 ETH to Account #8\n",
            "Generation 124: Account #0 sent 59295.02 ETH to Account #2\n",
            "Generation 125: Account #2 sent 340035.06 ETH to Account #7\n",
            "Generation 126: Account #2 sent 412991.32 ETH to Account #8\n",
            "Generation 127: Account #7 sent 208988.17 ETH to Account #0\n",
            "Generation 128: Account #7 sent 237254.22 ETH to Account #0\n",
            "Generation 129: Account #2 sent 245868.17 ETH to Account #8\n",
            "Generation 130: Account #0 sent 199031.81 ETH to Account #8\n",
            "Generation 131: Account #0 sent 240785.36 ETH to Account #8\n",
            "Generation 132: Account #0 sent 388521.03 ETH to Account #2\n",
            "Generation 133: Account #8 sent 120280.99 ETH to Account #2\n",
            "Generation 134: Account #0 sent 400698.47 ETH to Account #8\n",
            "Generation 135: Account #0 sent 323800.57 ETH to Account #2\n",
            "Generation 136: Account #8 sent 44149.46 ETH to Account #0\n",
            "Generation 137: Account #0 tried to send 321296.20 ETH, but failed due to insufficient funds.\n",
            "Generation 138: Account #8 sent 78635.84 ETH to Account #2\n",
            "Generation 139: Account #2 sent 471287.42 ETH to Account #7\n",
            "Generation 140: Account #8 sent 36851.20 ETH to Account #7\n",
            "Generation 141: Account #2 sent 486270.18 ETH to Account #7\n",
            "Generation 142: Account #7 sent 222281.53 ETH to Account #2\n",
            "Generation 143: Account #2 sent 417186.67 ETH to Account #7\n",
            "Generation 144: Account #7 sent 428896.94 ETH to Account #8\n",
            "Generation 145: Account #2 sent 185443.90 ETH to Account #7\n",
            "Generation 146: Account #2 sent 300134.04 ETH to Account #7\n",
            "Generation 147: Account #2 sent 8323.73 ETH to Account #7\n",
            "Generation 148: Account #2 sent 129885.52 ETH to Account #8\n",
            "Generation 149: Account #8 sent 385630.00 ETH to Account #7\n",
            "Generation 150: Account #2 sent 453357.99 ETH to Account #7\n",
            "Generation 151: Account #2 sent 12673.55 ETH to Account #7\n",
            "Generation 152: Account #2 tried to send 246433.16 ETH, but failed due to insufficient funds.\n",
            "Generation 153: Account #8 sent 249871.35 ETH to Account #7\n",
            "Generation 154: Account #8 sent 242092.66 ETH to Account #7\n",
            "Generation 155: Account #8 sent 421491.75 ETH to Account #7\n",
            "Generation 156: Account #8 sent 280826.07 ETH to Account #7\n",
            "Generation 157: Account #8 sent 438052.91 ETH to Account #7\n",
            "Generation 158: Account #7 sent 447444.87 ETH to Account #8\n",
            "Generation 159: Account #7 sent 421579.56 ETH to Account #8\n",
            "Generation 160: Account #7 sent 59552.07 ETH to Account #8\n",
            "Generation 161: Account #7 sent 32069.42 ETH to Account #8\n",
            "Generation 162: Account #7 sent 288847.08 ETH to Account #8\n",
            "Generation 163: Account #7 sent 336438.53 ETH to Account #8\n",
            "Generation 164: Account #8 sent 481771.94 ETH to Account #7\n",
            "Generation 165: Account #8 sent 447931.04 ETH to Account #7\n",
            "Generation 166: Account #8 sent 391201.83 ETH to Account #7\n",
            "Generation 167: Account #7 sent 302451.22 ETH to Account #8\n",
            "Generation 168: Account #7 sent 470092.00 ETH to Account #8\n",
            "Generation 169: Account #8 sent 204983.83 ETH to Account #7\n",
            "Generation 170: Account #7 sent 111700.69 ETH to Account #8\n",
            "Generation 171: Account #7 sent 115423.76 ETH to Account #8\n",
            "Generation 172: Account #7 sent 417467.25 ETH to Account #8\n",
            "Generation 173: Account #8 sent 180914.11 ETH to Account #7\n",
            "Generation 174: Account #7 sent 421788.66 ETH to Account #8\n",
            "Generation 175: Account #7 sent 414133.20 ETH to Account #8\n",
            "Generation 176: Account #7 sent 312313.87 ETH to Account #8\n",
            "Generation 177: Account #7 sent 307956.05 ETH to Account #8\n",
            "Generation 178: Account #7 sent 269989.68 ETH to Account #8\n",
            "Generation 179: Account #8 sent 321880.43 ETH to Account #7\n",
            "Generation 180: Account #8 sent 255159.80 ETH to Account #7\n",
            "Generation 181: Account #8 sent 259263.14 ETH to Account #7\n",
            "Generation 182: Account #7 sent 184789.64 ETH to Account #8\n",
            "Generation 183: Account #8 sent 329620.17 ETH to Account #7\n",
            "Generation 184: Account #7 sent 261926.74 ETH to Account #8\n",
            "Generation 185: Account #8 sent 425961.26 ETH to Account #7\n",
            "Generation 186: Account #8 sent 158418.51 ETH to Account #7\n",
            "Generation 187: Account #8 sent 336604.92 ETH to Account #7\n",
            "Generation 188: Account #8 sent 186225.38 ETH to Account #7\n",
            "Generation 189: Account #7 sent 158010.43 ETH to Account #8\n",
            "Generation 190: Account #8 sent 20581.88 ETH to Account #7\n",
            "Generation 191: Account #7 sent 189326.97 ETH to Account #8\n",
            "Generation 192: Account #8 sent 352356.02 ETH to Account #7\n",
            "Generation 193: Account #8 sent 284356.67 ETH to Account #7\n",
            "Generation 194: Account #8 sent 147709.82 ETH to Account #7\n",
            "Generation 195: Account #8 sent 350399.10 ETH to Account #7\n",
            "Generation 196: Account #7 sent 443372.12 ETH to Account #8\n",
            "Generation 197: Account #8 sent 20541.64 ETH to Account #7\n",
            "Generation 198: Account #8 sent 216155.61 ETH to Account #7\n",
            "Generation 199: Account #8 sent 339578.43 ETH to Account #7\n",
            "Generation 200: Account #7 sent 370967.95 ETH to Account #8\n",
            "Generation 201: Account #7 sent 171675.65 ETH to Account #8\n",
            "Generation 202: Account #7 sent 331483.75 ETH to Account #8\n",
            "Generation 203: Account #8 sent 209845.54 ETH to Account #7\n",
            "Generation 204: Account #8 sent 268704.66 ETH to Account #7\n",
            "Generation 205: Account #7 sent 295646.79 ETH to Account #8\n",
            "Generation 206: Account #8 sent 287937.63 ETH to Account #7\n",
            "Generation 207: Account #7 sent 133997.12 ETH to Account #8\n",
            "Generation 208: Account #7 sent 166580.14 ETH to Account #8\n",
            "Generation 209: Account #7 sent 46587.32 ETH to Account #8\n",
            "Generation 210: Account #7 sent 162334.05 ETH to Account #8\n",
            "Generation 211: Account #8 sent 484604.74 ETH to Account #7\n",
            "Generation 212: Account #8 sent 82075.63 ETH to Account #7\n",
            "Generation 213: Account #8 sent 420841.08 ETH to Account #7\n",
            "Generation 214: Account #7 sent 398849.29 ETH to Account #8\n",
            "Generation 215: Account #8 sent 467600.89 ETH to Account #7\n",
            "Generation 216: Account #7 sent 351095.29 ETH to Account #8\n",
            "Generation 217: Account #8 sent 26314.15 ETH to Account #7\n",
            "Generation 218: Account #7 sent 175893.57 ETH to Account #8\n",
            "Generation 219: Account #8 sent 445544.08 ETH to Account #7\n",
            "Generation 220: Account #7 sent 366177.65 ETH to Account #8\n",
            "Generation 221: Account #7 sent 438405.48 ETH to Account #8\n",
            "Generation 222: Account #7 sent 412379.49 ETH to Account #8\n",
            "Generation 223: Account #8 sent 464906.69 ETH to Account #7\n",
            "Generation 224: Account #7 sent 314665.48 ETH to Account #8\n",
            "Generation 225: Account #7 sent 52411.78 ETH to Account #8\n",
            "Generation 226: Account #7 sent 341379.48 ETH to Account #8\n",
            "Generation 227: Account #8 sent 8650.64 ETH to Account #7\n",
            "Generation 228: Account #7 sent 93054.80 ETH to Account #8\n",
            "Generation 229: Account #8 sent 373754.47 ETH to Account #7\n",
            "Generation 230: Account #8 sent 401116.21 ETH to Account #7\n",
            "Generation 231: Account #7 sent 227030.09 ETH to Account #8\n",
            "Generation 232: Account #8 sent 104452.47 ETH to Account #7\n",
            "Generation 233: Account #7 sent 90161.73 ETH to Account #8\n",
            "Generation 234: Account #7 sent 381964.65 ETH to Account #8\n",
            "Generation 235: Account #8 sent 428740.02 ETH to Account #7\n",
            "Generation 236: Account #7 sent 180485.32 ETH to Account #8\n",
            "Generation 237: Account #8 sent 412706.88 ETH to Account #7\n",
            "Generation 238: Account #7 sent 156021.06 ETH to Account #8\n",
            "Generation 239: Account #7 sent 486818.81 ETH to Account #8\n",
            "Generation 240: Account #8 sent 443894.65 ETH to Account #7\n",
            "Generation 241: Account #7 sent 152923.24 ETH to Account #8\n",
            "Generation 242: Account #7 sent 369786.85 ETH to Account #8\n",
            "Generation 243: Account #7 sent 475865.77 ETH to Account #8\n",
            "Generation 244: Account #7 sent 449071.33 ETH to Account #8\n",
            "Generation 245: Account #8 sent 33224.74 ETH to Account #7\n",
            "Generation 246: Account #7 sent 405096.31 ETH to Account #8\n",
            "Generation 247: Account #8 sent 212040.27 ETH to Account #7\n",
            "Generation 248: Account #8 sent 345595.74 ETH to Account #7\n",
            "Generation 249: Account #8 sent 447725.01 ETH to Account #7\n",
            "Generation 250: Account #8 sent 246314.48 ETH to Account #7\n",
            "Generation 251: Account #8 sent 406245.84 ETH to Account #7\n",
            "Generation 252: Account #7 sent 477182.84 ETH to Account #8\n",
            "Generation 253: Account #7 sent 14180.14 ETH to Account #8\n",
            "Generation 254: Account #8 sent 414345.81 ETH to Account #7\n",
            "Generation 255: Account #8 sent 347309.75 ETH to Account #7\n",
            "Generation 256: Account #7 sent 268690.56 ETH to Account #8\n",
            "Generation 257: Account #7 sent 41908.10 ETH to Account #8\n",
            "Generation 258: Account #7 sent 358354.06 ETH to Account #8\n",
            "Generation 259: Account #8 sent 139882.85 ETH to Account #7\n",
            "Generation 260: Account #8 sent 132908.40 ETH to Account #7\n",
            "Generation 261: Account #8 sent 62402.32 ETH to Account #7\n",
            "Generation 262: Account #8 sent 437636.32 ETH to Account #7\n",
            "Generation 263: Account #7 sent 344353.98 ETH to Account #8\n",
            "Generation 264: Account #7 sent 110965.40 ETH to Account #8\n",
            "Generation 265: Account #8 sent 171127.60 ETH to Account #7\n",
            "Generation 266: Account #8 sent 255925.25 ETH to Account #7\n",
            "Generation 267: Account #8 sent 77922.50 ETH to Account #7\n",
            "Generation 268: Account #8 sent 74028.19 ETH to Account #7\n",
            "Generation 269: Account #7 sent 285177.70 ETH to Account #8\n",
            "Generation 270: Account #8 sent 308236.67 ETH to Account #7\n",
            "Generation 271: Account #7 sent 366056.83 ETH to Account #8\n",
            "Generation 272: Account #8 sent 405333.71 ETH to Account #7\n",
            "Generation 273: Account #8 sent 407007.58 ETH to Account #7\n",
            "Generation 274: Account #7 sent 352299.90 ETH to Account #8\n",
            "Generation 275: Account #8 sent 165094.51 ETH to Account #7\n",
            "Generation 276: Account #7 sent 74456.15 ETH to Account #8\n",
            "Generation 277: Account #7 sent 3521.37 ETH to Account #8\n",
            "Generation 278: Account #8 sent 462486.61 ETH to Account #7\n",
            "Generation 279: Account #8 sent 113601.35 ETH to Account #7\n",
            "Generation 280: Account #7 sent 326876.60 ETH to Account #8\n",
            "Generation 281: Account #8 sent 275136.97 ETH to Account #7\n",
            "Generation 282: Account #7 sent 12230.97 ETH to Account #8\n",
            "Generation 283: Account #8 sent 245503.06 ETH to Account #7\n",
            "Generation 284: Account #8 sent 279708.00 ETH to Account #7\n",
            "Generation 285: Account #8 sent 363208.12 ETH to Account #7\n",
            "Generation 286: Account #8 sent 479793.36 ETH to Account #7\n",
            "Generation 287: Account #7 sent 3856.90 ETH to Account #8\n",
            "Generation 288: Account #7 sent 150625.11 ETH to Account #8\n",
            "Generation 289: Account #7 sent 365306.11 ETH to Account #8\n",
            "Generation 290: Account #7 sent 243024.33 ETH to Account #8\n",
            "Generation 291: Account #8 sent 344923.51 ETH to Account #7\n",
            "Generation 292: Account #8 sent 62234.06 ETH to Account #7\n",
            "Generation 293: Account #8 sent 399802.57 ETH to Account #7\n",
            "Generation 294: Account #8 sent 349590.42 ETH to Account #7\n",
            "Generation 295: Account #7 sent 24303.71 ETH to Account #8\n",
            "Generation 296: Account #7 sent 299190.76 ETH to Account #8\n",
            "Generation 297: Account #8 sent 84147.62 ETH to Account #7\n",
            "Generation 298: Account #8 sent 379097.21 ETH to Account #7\n",
            "Generation 299: Account #8 sent 450366.88 ETH to Account #7\n",
            "Generation 300: Account #7 sent 161687.90 ETH to Account #8\n",
            "Generation 301: Account #7 sent 342094.72 ETH to Account #8\n",
            "Generation 302: Account #7 sent 206464.53 ETH to Account #8\n",
            "Generation 303: Account #7 sent 397591.56 ETH to Account #8\n",
            "Generation 304: Account #7 sent 247565.44 ETH to Account #8\n",
            "Generation 305: Account #8 sent 226900.50 ETH to Account #7\n",
            "Generation 306: Account #8 sent 315015.79 ETH to Account #7\n",
            "Generation 307: Account #8 sent 91410.31 ETH to Account #7\n",
            "Generation 308: Account #7 sent 117475.95 ETH to Account #8\n",
            "Generation 309: Account #7 sent 317814.64 ETH to Account #8\n",
            "Generation 310: Account #8 sent 329693.82 ETH to Account #7\n",
            "Generation 311: Account #8 sent 408962.06 ETH to Account #7\n",
            "Generation 312: Account #7 sent 338024.80 ETH to Account #8\n",
            "Generation 313: Account #7 sent 168893.09 ETH to Account #8\n",
            "Generation 314: Account #8 sent 48519.94 ETH to Account #7\n",
            "Generation 315: Account #7 sent 289920.48 ETH to Account #8\n",
            "Generation 316: Account #7 sent 312969.11 ETH to Account #8\n",
            "Generation 317: Account #7 sent 98665.28 ETH to Account #8\n",
            "Generation 318: Account #8 sent 163114.47 ETH to Account #7\n",
            "Generation 319: Account #8 sent 143929.11 ETH to Account #7\n",
            "Generation 320: Account #8 sent 71664.63 ETH to Account #7\n",
            "Generation 321: Account #8 sent 77860.32 ETH to Account #7\n",
            "Generation 322: Account #7 sent 338632.22 ETH to Account #8\n",
            "Generation 323: Account #7 sent 286783.63 ETH to Account #8\n",
            "Generation 324: Account #7 sent 408199.87 ETH to Account #8\n",
            "Generation 325: Account #8 sent 231151.51 ETH to Account #7\n",
            "Generation 326: Account #8 sent 438035.12 ETH to Account #7\n",
            "Generation 327: Account #7 sent 199024.56 ETH to Account #8\n",
            "Generation 328: Account #8 sent 78457.53 ETH to Account #7\n",
            "Generation 329: Account #8 sent 457313.76 ETH to Account #7\n",
            "Generation 330: Account #7 sent 21315.83 ETH to Account #8\n",
            "Generation 331: Account #7 sent 140241.74 ETH to Account #8\n",
            "Generation 332: Account #7 sent 327540.00 ETH to Account #8\n",
            "Generation 333: Account #8 sent 185752.68 ETH to Account #7\n",
            "Generation 334: Account #8 sent 238077.53 ETH to Account #7\n",
            "Generation 335: Account #7 sent 456811.65 ETH to Account #8\n",
            "Generation 336: Account #7 sent 118171.03 ETH to Account #8\n",
            "Generation 337: Account #8 sent 34203.75 ETH to Account #7\n",
            "Generation 338: Account #8 sent 209709.42 ETH to Account #7\n",
            "Generation 339: Account #7 sent 474970.16 ETH to Account #8\n",
            "Generation 340: Account #8 sent 265511.65 ETH to Account #7\n",
            "Generation 341: Account #7 sent 145951.02 ETH to Account #8\n",
            "Generation 342: Account #8 sent 321184.51 ETH to Account #7\n",
            "Generation 343: Account #7 sent 112767.07 ETH to Account #8\n",
            "Generation 344: Account #7 sent 356258.79 ETH to Account #8\n",
            "Generation 345: Account #8 sent 88161.51 ETH to Account #7\n",
            "Generation 346: Account #7 sent 113549.79 ETH to Account #8\n",
            "Generation 347: Account #8 sent 183418.44 ETH to Account #7\n",
            "Generation 348: Account #7 sent 174011.38 ETH to Account #8\n",
            "Generation 349: Account #8 sent 208026.33 ETH to Account #7\n",
            "Generation 350: Account #8 sent 337666.11 ETH to Account #7\n",
            "Generation 351: Account #7 sent 485616.87 ETH to Account #8\n",
            "Generation 352: Account #8 sent 55948.63 ETH to Account #7\n",
            "Generation 353: Account #8 sent 238095.49 ETH to Account #7\n",
            "Generation 354: Account #8 sent 88764.40 ETH to Account #7\n",
            "Generation 355: Account #8 sent 456289.46 ETH to Account #7\n",
            "Generation 356: Account #8 sent 35273.80 ETH to Account #7\n",
            "Generation 357: Account #7 sent 483328.58 ETH to Account #8\n",
            "Generation 358: Account #7 sent 304020.30 ETH to Account #8\n",
            "Generation 359: Account #8 sent 361372.86 ETH to Account #7\n",
            "Generation 360: Account #8 sent 237417.39 ETH to Account #7\n",
            "Generation 361: Account #7 sent 195051.16 ETH to Account #8\n",
            "Generation 362: Account #8 sent 95729.69 ETH to Account #7\n",
            "Generation 363: Account #8 sent 368201.43 ETH to Account #7\n",
            "Generation 364: Account #7 sent 87970.47 ETH to Account #8\n",
            "Generation 365: Account #8 sent 315226.95 ETH to Account #7\n",
            "Generation 366: Account #8 sent 394309.07 ETH to Account #7\n",
            "Generation 367: Account #7 sent 310585.11 ETH to Account #8\n",
            "Generation 368: Account #7 sent 67747.36 ETH to Account #8\n",
            "Generation 369: Account #8 sent 11687.51 ETH to Account #7\n",
            "Generation 370: Account #8 sent 203997.37 ETH to Account #7\n",
            "Generation 371: Account #7 sent 405086.26 ETH to Account #8\n",
            "Generation 372: Account #7 sent 395274.89 ETH to Account #8\n",
            "Generation 373: Account #7 sent 147707.18 ETH to Account #8\n",
            "Generation 374: Account #7 sent 427196.89 ETH to Account #8\n",
            "Generation 375: Account #8 sent 19781.85 ETH to Account #7\n",
            "Generation 376: Account #8 sent 443805.34 ETH to Account #7\n",
            "Generation 377: Account #8 sent 77939.40 ETH to Account #7\n",
            "Generation 378: Account #8 sent 234631.59 ETH to Account #7\n",
            "Generation 379: Account #8 sent 21936.26 ETH to Account #7\n",
            "Generation 380: Account #7 sent 12193.55 ETH to Account #8\n",
            "Generation 381: Account #8 sent 462964.41 ETH to Account #7\n",
            "Generation 382: Account #8 sent 125164.01 ETH to Account #7\n",
            "Generation 383: Account #7 sent 353155.83 ETH to Account #8\n",
            "Generation 384: Account #7 sent 117413.54 ETH to Account #8\n",
            "Generation 385: Account #7 sent 238917.41 ETH to Account #8\n",
            "Generation 386: Account #8 sent 428429.12 ETH to Account #7\n",
            "Generation 387: Account #7 sent 308230.58 ETH to Account #8\n",
            "Generation 388: Account #8 sent 255378.56 ETH to Account #7\n",
            "Generation 389: Account #8 sent 40809.85 ETH to Account #7\n",
            "Generation 390: Account #7 sent 120896.23 ETH to Account #8\n",
            "Generation 391: Account #8 sent 158951.32 ETH to Account #7\n",
            "Generation 392: Account #7 sent 48360.69 ETH to Account #8\n",
            "Generation 393: Account #8 sent 292160.56 ETH to Account #7\n",
            "Generation 394: Account #8 sent 295831.83 ETH to Account #7\n",
            "Generation 395: Account #7 sent 223213.63 ETH to Account #8\n",
            "Generation 396: Account #7 sent 57631.27 ETH to Account #8\n",
            "Generation 397: Account #8 sent 324715.91 ETH to Account #7\n",
            "Generation 398: Account #7 sent 369014.58 ETH to Account #8\n",
            "Generation 399: Account #8 sent 252368.55 ETH to Account #7\n",
            "Generation 400: Account #7 sent 482362.12 ETH to Account #8\n",
            "Generation 401: Account #8 sent 190462.32 ETH to Account #7\n",
            "Generation 402: Account #7 sent 95826.50 ETH to Account #8\n",
            "Generation 403: Account #8 sent 238433.44 ETH to Account #7\n",
            "Generation 404: Account #8 sent 440089.18 ETH to Account #7\n",
            "Generation 405: Account #8 sent 356788.22 ETH to Account #7\n",
            "Generation 406: Account #8 sent 89229.40 ETH to Account #7\n",
            "Generation 407: Account #7 sent 70564.61 ETH to Account #8\n",
            "Generation 408: Account #7 sent 58894.16 ETH to Account #8\n",
            "Generation 409: Account #7 sent 352529.76 ETH to Account #8\n",
            "Generation 410: Account #8 sent 190232.36 ETH to Account #7\n",
            "Generation 411: Account #8 sent 18958.99 ETH to Account #7\n",
            "Generation 412: Account #8 sent 309522.45 ETH to Account #7\n",
            "Generation 413: Account #7 sent 11666.15 ETH to Account #8\n",
            "Generation 414: Account #8 tried to send 312559.68 ETH, but failed due to insufficient funds.\n",
            "\n",
            "Tontine completed in 415 generations.\n"
          ]
        },
        {
          "output_type": "display_data",
          "data": {
            "text/plain": [
              "<Figure size 1200x600 with 2 Axes>"
            ],
            "image/png": "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\n"
          },
          "metadata": {}
        }
      ]
    },
    {
      "cell_type": "markdown",
      "source": [
        "This took 415 generations."
      ],
      "metadata": {
        "id": "kwsanbC8ur53"
      }
    },
    {
      "cell_type": "markdown",
      "source": [
        "Reflection: Running these simulations went well, and it was pretty fun to watch them run. I was honestly blown away this lab by how well the Colab AI was able to work. I'm usually pretty skeptical about giving AI large coding tasks instead of just bugs, especially when giving limited instruction, but I found that the AI was incredibly helpful when giving even limited information. I did have to make some tweaks, like how much the accounts were transferring, otherwise the simulation took far too long. It was interesting to see that the AI did not know how to calculate the gas, but I am guessing because that was a part of the library and maybe it did not know about all the functions of it.\n",
        "\n"
      ],
      "metadata": {
        "id": "trn6_wtLowY6"
      }
    }
  ]
}