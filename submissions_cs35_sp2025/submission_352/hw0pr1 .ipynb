{
 "cells": [
  {
   "cell_type": "markdown",
   "metadata": {
    "id": "EvgU28LMDkAm"
   },
   "source": [
    "### Jupyter Notebooks and Markdown!\n",
    "+ At heart, cs35 is about bridge-building between human expression and executable expression\n",
    "+ markdown is a popular language for human expression  (this cell is markdown)\n",
    "  + control-enter renders the Markdown  (\"runs\" it)\n",
    "+ python is a popular language for executable expression (see cells below!)"
   ]
  },
  {
   "cell_type": "markdown",
   "metadata": {
    "id": "FSU0SoPIDkAn"
   },
   "source": [
    "#### This is a Markdown cell, a <i>fourth-level</i> header\n",
    "+ If you've already used Markdown, e.g., in Discord, wiki editing, etc., wonderful!\n",
    "+ If you haven't used it, [this Markdown link](https://www.markdownguide.org/basic-syntax/) is a reference...\n",
    "+ Equally or more welcome: &nbsp; Dive in! &nbsp; Share! &nbsp; Ask!"
   ]
  },
  {
   "cell_type": "markdown",
   "metadata": {
    "id": "1aSsC9MjDkAn"
   },
   "source": [
    "#### <font color=\"Coral\">First task</font> -- is \"to markdown\":\n",
    "+ Here, use your markdown knowledge or research to...\n",
    "+ **bold** this item\n",
    "+ *italicize* this item\n",
    "+ ~~strikethrough~~ this item\n",
    "+ use fixed-width formatting for this item, i.e., code-style\n",
    "+ and then do something else `(your choice)` with this item\n",
    "+ BUT... <i><b><u>don't</u></b></i> use mark<u>up</u>, as this item does. Use mark<u>down</u>!\n",
    "+ That is to say, don't use tags like <tt>\\<i\\>this\\</i\\></tt> for any of the challenges above..."
   ]
  },
  {
   "cell_type": "code",
   "execution_count": null,
   "metadata": {
    "id": "S2iKhCwJDpD5"
   },
   "outputs": [],
   "source": []
  },
  {
   "cell_type": "markdown",
   "metadata": {
    "id": "VnDQRk5LDkAo"
   },
   "source": [
    "#### <font color=\"Coral\">Second task</font> -- Be sure to\n",
    "+ Change this list so that it uses <u>your</u> name and includes at least three \"fun facts\" about yourself, including at least two links and at least one link to a picture of you somewhere...\n",
    "+ CS35_Participant_11\n",
    "+ I've never had McDonalds\n",
    "+ My favorite color is [this specific blue](https://g.co/kgs/c7Gw8S7) \n",
    "+ <font color=\"blue\">Webb</font><font color=\"gold\">'26</font>.\n",
    "+ My Instagram is [@stephanrumigny](https://www.instagram.com/stephanrumigny/)"
   ]
  },
  {
   "cell_type": "markdown",
   "metadata": {
    "id": "NjKftI6XDkAo"
   },
   "source": [
    "#### <font color=\"Coral\">Third task</font> include a linked image via url:\n",
    "\n",
    "Heres a sick photo of myself\n",
    "\n",
    "<img src=\"https://media-hosting.imagekit.io//547789863aa143c4/Screenshot%202025-01-31%20at%201.36.38%E2%80%AFPM.png?Expires=1832967568&Key-Pair-Id=K2ZIVPTIP2VGHC&Signature=wH3SE0ryIUxrKl3sZojcfqBekdWammYmM-y6PThNIYGiaw-FLjW2FbRuhH6jLmhLNgrvHDOmumckXI0Bwx86SWZAgCx9e8WmbtOX3XoRNf590db6SBTe8PDUvCcQbV4up3YFTM4Ij-t0ABbPn3kTVMNqQUNnr8NBqK5kL9XY6xacUqLG7f6DKqQ5a2MlugFvvjh9fYAKTqedBkx7NwWnnivPS8Nce~yhi1pHIunczAQ92L82XTEjbWx-kDk0j5cFX5linUgqL1azwz-RfszSXc4Ekk-ZiP-~u6RyLHV8w874hEKOWgfSxL1Of1GP7s9dRnjUWf1uVCbtNx43ZSYXRg__\" height=250>"
   ]
  },
  {
   "cell_type": "markdown",
   "metadata": {
    "id": "yZLQpsS_DkAo"
   },
   "source": [
    "### Onward to Python!"
   ]
  },
  {
   "cell_type": "code",
   "execution_count": 1,
   "metadata": {
    "id": "wHSLJPv4DkAo"
   },
   "outputs": [
    {
     "name": "stdout",
     "output_type": "stream",
     "text": [
      "x is 43\n"
     ]
    },
    {
     "data": {
      "text/plain": [
       "42"
      ]
     },
     "execution_count": 1,
     "metadata": {},
     "output_type": "execute_result"
    }
   ],
   "source": [
    "#\n",
    "# python is a popular language for executable expression\n",
    "#     This is a python cell\n",
    "#     Try this shortcut: control-return or control-enter runs it:\n",
    "\n",
    "x = 43\n",
    "print(\"x is\", x)\n",
    "\n",
    "x -= 1\n",
    "x\n",
    "\n",
    "# notice that the last expression is the cell's output.\n",
    "# printing and outputting are different!"
   ]
  },
  {
   "cell_type": "markdown",
   "metadata": {
    "id": "H-wzwSk9DkAp"
   },
   "source": [
    "#### Python review in about 5-10 cells!\n",
    "\n",
    "cs5 in one day!"
   ]
  },
  {
   "cell_type": "code",
   "execution_count": null,
   "metadata": {
    "id": "EwoqglZ-DkAp"
   },
   "outputs": [],
   "source": [
    "#\n",
    "# Let's fit all of Python into the next five or so cells!\n",
    "#\n",
    "\n",
    "L = [7,8,9]\n",
    "\n",
    "print(\"L[1:] equals\", L[1:])    # slicing!\n",
    "\n",
    "print(f\"L[1:] equals {L[1:]}\")  # f strings!\n",
    "\n",
    "print(f\"{L[1:] = }\")            # cool = syntax, new for me...\n",
    "\n",
    "print()\n",
    "\n",
    "colleges = 'cmc scripps pitzer hmc'\n",
    "print(colleges)\n",
    "\n",
    "'c' in colleges          # in is in!"
   ]
  },
  {
   "cell_type": "markdown",
   "metadata": {
    "id": "FXUUQaecDkAp"
   },
   "source": [
    "#### Let's use f-strings more carefully ...\n"
   ]
  },
  {
   "cell_type": "code",
   "execution_count": null,
   "metadata": {
    "id": "Q2PiOIayDkAp"
   },
   "outputs": [],
   "source": [
    "x = 42\n",
    "\n",
    "print(\"x =\", x)    # \"regular\" print\n",
    "\n",
    "print(  f\"{x = }\" )  # f-string print"
   ]
  },
  {
   "cell_type": "code",
   "execution_count": null,
   "metadata": {
    "id": "U5bnIoY_DkAp"
   },
   "outputs": [],
   "source": [
    "\"\"\"wrong = 41\"\"\"\n",
    "snack = \"Poptarts\"\n",
    "\n",
    "# fs = f\"{snack}? I'll take {wrong+1}!\"\n",
    "# print(fs)\n",
    "\n",
    "for i in range(40,42+1):\n",
    "    print(f\"{snack}? I'll take {i}!\")\n"
   ]
  },
  {
   "cell_type": "markdown",
   "metadata": {
    "id": "X-HjbMXSDkAp"
   },
   "source": [
    "#### Notice that variables persist from cell to cell...\n",
    "\n",
    "Here, ``L`` and ``colleges`` are variables defined above.\n",
    "Their values are still present:\n"
   ]
  },
  {
   "cell_type": "code",
   "execution_count": null,
   "metadata": {
    "id": "G8Hb1QwiDkAp"
   },
   "outputs": [],
   "source": [
    "print(f\"{L=}  L.index(9) is\", L.index(9))     # calling methods (functions after a \".\")\n",
    "print()\n",
    "print(\"colleges.title() returns \", colleges.title())        # ditto!  Let's shout!\n",
    "print()\n",
    "print(\"# of c's in colleges:\", colleges.count('c'))\n",
    "print()\n",
    "print(colleges.replace('c','C'))"
   ]
  },
  {
   "cell_type": "markdown",
   "metadata": {
    "id": "EW6ummlpDkAp"
   },
   "source": [
    "#### ``split`` is a _really_ useful function\n",
    "\n",
    "Notice that it is called <i>by</i> the string being split.\n",
    "\n",
    "It returns a list!\n",
    "\n",
    "(Q'n: <i>How in the input being used?</i>)\n"
   ]
  },
  {
   "cell_type": "code",
   "execution_count": null,
   "metadata": {
    "id": "0t7YvsXoDkAp"
   },
   "outputs": [],
   "source": [
    "LoW = colleges.split()\n",
    "print(\"LoW is\", LoW)\n",
    "\n",
    "LoS = colleges.split('c')\n",
    "print(\"LoS is\", LoS)"
   ]
  },
  {
   "cell_type": "markdown",
   "metadata": {
    "id": "B9m1CwufDkAp"
   },
   "source": [
    "#### ``join`` is the _opposite_ of split"
   ]
  },
  {
   "cell_type": "code",
   "execution_count": null,
   "metadata": {
    "id": "7rwwKkd6DkAp"
   },
   "outputs": [],
   "source": [
    "LoW = [ \"word\", \"leisa\", \"we\", \"some\" ]\n",
    "''.join(LoW)"
   ]
  },
  {
   "cell_type": "markdown",
   "metadata": {
    "id": "WWItJeFBDkAq"
   },
   "source": [
    "#### <font color=\"Coral\">Fourth task</font>: &nbsp; add another example in the spirit of the one below...\n",
    "+ create (at least) three more variables and\n",
    "+ a sentence using all of them and\n",
    "+ render them in a single strings using f-strings...    \n",
    "\n",
    "Experiment!"
   ]
  },
  {
   "cell_type": "code",
   "execution_count": null,
   "metadata": {
    "id": "b41COs-WDkAq"
   },
   "outputs": [],
   "source": [
    "#\n",
    "# f-strings!\n",
    "#\n",
    "\n",
    "interface = \"jupyter\"\n",
    "language = \"python\"\n",
    "application = \"vscode\"\n",
    "\n",
    "print(f\"hello from {interface}, running {language}, within {application}...!\")\n",
    "print()\n",
    "\n",
    "company = \"Meta\"\n",
    "print(f\"{company} would be proud!\")\n",
    "print()\n",
    "\n",
    "#\n",
    "# Feel free to create your own quippy example here or in a new cell...\n",
    "#\n",
    "\n",
    "word1 = \"meow\"\n",
    "word2 = \"cat\"\n",
    "word3 = \"Webb\"\n",
    "\n",
    "print(f\"I was on the way to {word3} from HMC, but in the van, we heart a {word1}, meaning there was probably a {word2} in the car\")\n",
    "print()"
   ]
  },
  {
   "cell_type": "markdown",
   "metadata": {
    "id": "yvZBGSKPDkAq"
   },
   "source": [
    "#### **Remember**  _list comprehensions_  ?\n",
    "+ they are \"loops-in-lists\"\n",
    "+ or \"lists-with-loops\"\n",
    "\n"
   ]
  },
  {
   "cell_type": "code",
   "execution_count": null,
   "metadata": {
    "id": "9siikLqVDkAq"
   },
   "outputs": [],
   "source": [
    "# I <3 list comprehensions!\n",
    "[ 2*x for x in range(20,24) ]"
   ]
  },
  {
   "cell_type": "code",
   "execution_count": 6,
   "metadata": {
    "id": "D3xqoTL4DkAq"
   },
   "outputs": [
    {
     "name": "stdout",
     "output_type": "stream",
     "text": [
      "LC = [0, 2, 4, 6, 8, 10, 12, 14, 16, 18, 20, 22, 24, 26, 28, 30, 32, 34, 36, 38, 40, 42, 44, 46, 48, 50, 52, 54, 56, 58, 60, 62, 64, 66, 68, 70, 72, 74, 76, 78, 80, 82, 84, 86, 88, 90, 92, 94, 96, 98, 100, 102, 104, 106, 108, 110, 112, 114, 116, 118, 120, 122, 124, 126, 128, 130, 132, 134, 136, 138, 140, 142, 144, 146, 148, 150, 152, 154, 156, 158, 160, 162, 164, 166, 168, 170, 172, 174, 176, 178, 180, 182, 184, 186, 188, 190, 192, 194, 196, 198, 200, 202, 204, 206, 208, 210, 212, 214, 216, 218, 220, 222, 224, 226, 228, 230, 232, 234, 236, 238, 240, 242, 244, 246, 248, 250, 252, 254, 256, 258, 260, 262, 264, 266, 268, 270, 272, 274, 276, 278, 280, 282, 284, 286, 288, 290, 292, 294, 296, 298, 300, 302, 304, 306, 308, 310, 312, 314, 316, 318, 320, 322, 324, 326, 328, 330, 332, 334, 336, 338, 340, 342, 344, 346, 348, 350, 352, 354, 356, 358, 360, 362, 364, 366, 368, 370, 372, 374, 376, 378, 380, 382, 384, 386, 388, 390, 392, 394, 396, 398, 400, 402, 404, 406, 408, 410, 412, 414, 416, 418, 420, 422, 424, 426, 428, 430, 432, 434, 436, 438, 440, 442, 444, 446, 448, 450, 452, 454, 456, 458, 460, 462, 464, 466, 468, 470, 472, 474, 476, 478, 480, 482, 484, 486, 488, 490, 492, 494, 496, 498, 500, 502, 504, 506, 508, 510, 512, 514, 516, 518, 520, 522, 524, 526, 528, 530, 532, 534, 536, 538, 540, 542, 544, 546, 548, 550, 552, 554, 556, 558, 560, 562, 564, 566, 568, 570, 572, 574, 576, 578, 580, 582, 584, 586, 588, 590, 592, 594, 596, 598, 600, 602, 604, 606, 608, 610, 612, 614, 616, 618, 620, 622, 624, 626, 628, 630, 632, 634, 636, 638, 640, 642, 644, 646, 648, 650, 652, 654, 656, 658, 660, 662, 664, 666, 668, 670, 672, 674, 676, 678, 680, 682, 684, 686, 688, 690, 692, 694, 696, 698, 700, 702, 704, 706, 708, 710, 712, 714, 716, 718, 720, 722, 724, 726, 728, 730, 732, 734, 736, 738, 740, 742, 744, 746, 748, 750, 752, 754, 756, 758, 760, 762, 764, 766, 768, 770, 772, 774, 776, 778, 780, 782, 784, 786, 788, 790, 792, 794, 796, 798, 800, 802, 804, 806, 808, 810, 812, 814, 816, 818, 820, 822, 824, 826, 828, 830, 832, 834, 836, 838, 840, 842, 844, 846, 848, 850, 852, 854, 856, 858, 860, 862, 864, 866, 868, 870, 872, 874, 876, 878, 880, 882, 884, 886, 888, 890, 892, 894, 896, 898, 900, 902, 904, 906, 908, 910, 912, 914, 916, 918, 920, 922, 924, 926, 928, 930, 932, 934, 936, 938, 940, 942, 944, 946, 948, 950, 952, 954, 956, 958, 960, 962, 964, 966, 968, 970, 972, 974, 976, 978, 980, 982, 984, 986, 988, 990, 992, 994, 996, 998]\n",
      "\n",
      "answer = 500\n"
     ]
    }
   ],
   "source": [
    "#\n",
    "# Here is an example that uses list comprehensions to\n",
    "# count how many of the first 1000 integers are even\n",
    "\n",
    "LC = [ x for x in range(1000) if x % 2 == 0 ]\n",
    "print(f\"LC = {LC}\")\n",
    "print()\n",
    "\n",
    "answer = len(LC)\n",
    "print(f\"answer = {answer}\")\n"
   ]
  },
  {
   "cell_type": "markdown",
   "metadata": {
    "id": "sSW6Gr7XDkAq"
   },
   "source": [
    "#### <font color=\"Coral\">Fifth task</font>: &nbsp; <b>LC Challenge</b>\n",
    "\n",
    "Use list comprehensions to find how many of the first 1000 integers, _when squared_, contain the digit 4?\n",
    "+ Remember: ``str(x)`` converts ``x`` to a string\n",
    "\n",
    "Then, create a variation of this question -- of your own design -- and answer it! For example,\n",
    "+ what about checking for ``'4'`` and ``'2'`` ?\n",
    "+ what about checking for ``'4'`` or ``'2'`` ?\n",
    "+ even better: something else you've devised!\n",
    "\n",
    "Then , in a sentence-ish, explain your thinking:\n",
    "  + <i>why that question</i>\n",
    "  + <i>how did you answer it computationally?</i>\n",
    "  + <i>does the answer seem reasonable?</i>"
   ]
  },
  {
   "cell_type": "code",
   "execution_count": 8,
   "metadata": {},
   "outputs": [
    {
     "name": "stdout",
     "output_type": "stream",
     "text": [
      "[2, 7, 8, 12, 18, 20, 21, 22, 28, 29, 32, 38, 42, 43, 48, 49, 52, 57, 58, 59, 62, 64, 65, 66, 67, 68, 69, 70, 71, 72, 74, 78, 79, 80, 82, 88, 92, 93, 97, 98, 102, 107, 108, 112, 116, 118, 119, 120, 121, 122, 128, 129, 132, 136, 138, 142, 143, 148, 152, 153, 155, 156, 157, 158, 162, 168, 171, 172, 178, 179, 180, 182, 183, 185, 186, 187, 188, 191, 192, 193, 196, 198, 200, 201, 202, 203, 204, 205, 206, 207, 208, 209, 210, 211, 212, 213, 214, 215, 216, 217, 218, 219, 220, 221, 222, 223, 228, 229, 232, 233, 234, 238, 242, 243, 248, 252, 253, 254, 257, 258, 262, 268, 271, 272, 273, 278, 279, 280, 282, 288, 290, 291, 292, 293, 294, 298, 299, 302, 304, 307, 308, 309, 312, 317, 318, 320, 321, 322, 323, 324, 328, 329, 332, 338, 339, 342, 343, 347, 348, 352, 353, 357, 358, 362, 364, 367, 368, 371, 372, 375, 376, 377, 378, 379, 380, 381, 382, 383, 384, 385, 386, 387, 388, 392, 393, 398, 402, 403, 405, 406, 407, 408, 412, 418, 420, 421, 422, 426, 428, 429, 430, 432, 433, 438, 441, 442, 443, 448, 451, 452, 457, 458, 462, 463, 468, 471, 472, 474, 478, 479, 480, 482, 484, 488, 490, 491, 492, 493, 494, 495, 496, 497, 498, 499, 502, 504, 507, 508, 512, 514, 518, 520, 521, 522, 524, 528, 529, 532, 533, 538, 542, 543, 548, 549, 552, 557, 558, 559, 561, 562, 567, 568, 570, 571, 572, 574, 578, 579, 580, 582, 584, 585, 586, 587, 588, 589, 590, 591, 592, 593, 595, 597, 598, 602, 604, 607, 608, 612, 616, 618, 620, 621, 622, 628, 629, 632, 633, 634, 635, 636, 637, 638, 639, 640, 641, 642, 643, 644, 645, 646, 647, 648, 649, 650, 651, 652, 653, 654, 655, 656, 657, 658, 659, 660, 661, 662, 663, 664, 665, 666, 667, 668, 669, 670, 671, 672, 673, 674, 675, 676, 677, 678, 679, 680, 681, 682, 683, 684, 685, 686, 687, 688, 689, 690, 691, 692, 693, 694, 695, 696, 697, 698, 699, 700, 701, 702, 703, 704, 705, 706, 707, 708, 710, 712, 717, 718, 720, 721, 722, 724, 728, 729, 731, 732, 735, 736, 737, 738, 739, 740, 741, 742, 743, 748, 751, 752, 757, 758, 762, 768, 771, 772, 778, 779, 780, 782, 784, 788, 790, 792, 793, 794, 798, 799, 800, 801, 802, 803, 804, 805, 806, 807, 808, 809, 812, 815, 817, 818, 820, 821, 822, 828, 829, 832, 838, 842, 843, 845, 847, 848, 851, 852, 857, 858, 861, 862, 863, 864, 865, 866, 868, 871, 872, 878, 879, 880, 882, 884, 886, 888, 892, 893, 897, 898, 902, 903, 907, 908, 912, 917, 918, 919, 920, 921, 922, 926, 928, 929, 930, 932, 933, 935, 938, 941, 942, 943, 946, 948, 951, 952, 957, 958, 962, 968, 970, 971, 972, 973, 974, 977, 978, 979, 980, 982, 987, 988, 992, 993, 997, 998]\n"
     ]
    }
   ],
   "source": [
    "LC = [ x for x in range(1000) ]\n",
    "newLC = []\n",
    "\n",
    "for i in range(len(LC)):\n",
    "    if '4' in str(LC[i] * LC[i]):\n",
    "        newLC.append(LC[i])\n",
    "\n",
    "print(newLC)"
   ]
  },
  {
   "cell_type": "markdown",
   "metadata": {},
   "source": [
    "Variation:\n",
    "+ Find out how many of the first 1000 intergers, _when all their digits are added up_, is odd."
   ]
  },
  {
   "cell_type": "code",
   "execution_count": 11,
   "metadata": {},
   "outputs": [
    {
     "name": "stdout",
     "output_type": "stream",
     "text": [
      "[1, 3, 5, 7, 9, 10, 12, 14, 16, 18, 21, 23, 25, 27, 29, 30, 32, 34, 36, 38, 41, 43, 45, 47, 49, 50, 52, 54, 56, 58, 61, 63, 65, 67, 69, 70, 72, 74, 76, 78, 81, 83, 85, 87, 89, 90, 92, 94, 96, 98, 100, 102, 104, 106, 108, 111, 113, 115, 117, 119, 120, 122, 124, 126, 128, 131, 133, 135, 137, 139, 140, 142, 144, 146, 148, 151, 153, 155, 157, 159, 160, 162, 164, 166, 168, 171, 173, 175, 177, 179, 180, 182, 184, 186, 188, 191, 193, 195, 197, 199, 201, 203, 205, 207, 209, 210, 212, 214, 216, 218, 221, 223, 225, 227, 229, 230, 232, 234, 236, 238, 241, 243, 245, 247, 249, 250, 252, 254, 256, 258, 261, 263, 265, 267, 269, 270, 272, 274, 276, 278, 281, 283, 285, 287, 289, 290, 292, 294, 296, 298, 300, 302, 304, 306, 308, 311, 313, 315, 317, 319, 320, 322, 324, 326, 328, 331, 333, 335, 337, 339, 340, 342, 344, 346, 348, 351, 353, 355, 357, 359, 360, 362, 364, 366, 368, 371, 373, 375, 377, 379, 380, 382, 384, 386, 388, 391, 393, 395, 397, 399, 401, 403, 405, 407, 409, 410, 412, 414, 416, 418, 421, 423, 425, 427, 429, 430, 432, 434, 436, 438, 441, 443, 445, 447, 449, 450, 452, 454, 456, 458, 461, 463, 465, 467, 469, 470, 472, 474, 476, 478, 481, 483, 485, 487, 489, 490, 492, 494, 496, 498, 500, 502, 504, 506, 508, 511, 513, 515, 517, 519, 520, 522, 524, 526, 528, 531, 533, 535, 537, 539, 540, 542, 544, 546, 548, 551, 553, 555, 557, 559, 560, 562, 564, 566, 568, 571, 573, 575, 577, 579, 580, 582, 584, 586, 588, 591, 593, 595, 597, 599, 601, 603, 605, 607, 609, 610, 612, 614, 616, 618, 621, 623, 625, 627, 629, 630, 632, 634, 636, 638, 641, 643, 645, 647, 649, 650, 652, 654, 656, 658, 661, 663, 665, 667, 669, 670, 672, 674, 676, 678, 681, 683, 685, 687, 689, 690, 692, 694, 696, 698, 700, 702, 704, 706, 708, 711, 713, 715, 717, 719, 720, 722, 724, 726, 728, 731, 733, 735, 737, 739, 740, 742, 744, 746, 748, 751, 753, 755, 757, 759, 760, 762, 764, 766, 768, 771, 773, 775, 777, 779, 780, 782, 784, 786, 788, 791, 793, 795, 797, 799, 801, 803, 805, 807, 809, 810, 812, 814, 816, 818, 821, 823, 825, 827, 829, 830, 832, 834, 836, 838, 841, 843, 845, 847, 849, 850, 852, 854, 856, 858, 861, 863, 865, 867, 869, 870, 872, 874, 876, 878, 881, 883, 885, 887, 889, 890, 892, 894, 896, 898, 900, 902, 904, 906, 908, 911, 913, 915, 917, 919, 920, 922, 924, 926, 928, 931, 933, 935, 937, 939, 940, 942, 944, 946, 948, 951, 953, 955, 957, 959, 960, 962, 964, 966, 968, 971, 973, 975, 977, 979, 980, 982, 984, 986, 988, 991, 993, 995, 997, 999]\n"
     ]
    }
   ],
   "source": [
    "LC = [ x for x in range(1000) ]\n",
    "newLC = []\n",
    "\n",
    "for i in range(len(LC)):\n",
    "    num = list(str(LC[i]))\n",
    "    total = 0\n",
    "    for j in range(len(num)):\n",
    "        total = total + int(num[j])\n",
    "    if total % 2 == 1:\n",
    "        newLC.append(LC[i])\n",
    "\n",
    "print(newLC)"
   ]
  },
  {
   "cell_type": "markdown",
   "metadata": {},
   "source": [
    "Questions:\n",
    "  + <i>why that question</i>\n",
    "    + <b>Because I just branched it off of the idea from the example, but I added more steps and conditions</b>\n",
    "  + <i>how did you answer it computationally?</i>\n",
    "    + <b>I iterated through the entire list and split each number into its digits. The digits are then added together and the sum is % by 2. If the answer is 1, add to the list.</b>\n",
    "  + <i>does the answer seem reasonable?</i>\n",
    "    + <b>Yea, I skimmed through the list and all them seemed correct.</b>"
   ]
  },
  {
   "cell_type": "code",
   "execution_count": null,
   "metadata": {
    "id": "NYZlx_mSDkAq"
   },
   "outputs": [
    {
     "ename": "",
     "evalue": "",
     "output_type": "error",
     "traceback": [
      "\u001b[1;31mRunning cells with 'Python 3.12.5' requires the ipykernel package.\n",
      "\u001b[1;31mRun the following command to install 'ipykernel' into the Python environment. \n",
      "\u001b[1;31mCommand: '/usr/local/bin/python3 -m pip install ipykernel -U --user --force-reinstall'"
     ]
    }
   ],
   "source": [
    "# remember pwd? It's short for \"print working directory\"  (that is, your current folder)\n",
    "# It's a shell command, i.e., to be run at the terminal or command-line (or shell).\n",
    "\n",
    "# Since this is not python, python needs to know it's a special command:  %pwd does the trick\n",
    "%pwd"
   ]
  },
  {
   "cell_type": "code",
   "execution_count": null,
   "metadata": {
    "id": "vZcFAD0xDkAq"
   },
   "outputs": [
    {
     "ename": "",
     "evalue": "",
     "output_type": "error",
     "traceback": [
      "\u001b[1;31mRunning cells with 'Python 3.12.5' requires the ipykernel package.\n",
      "\u001b[1;31mRun the following command to install 'ipykernel' into the Python environment. \n",
      "\u001b[1;31mCommand: '/usr/local/bin/python3 -m pip install ipykernel -U --user --force-reinstall'"
     ]
    }
   ],
   "source": [
    "# Another important shell command:  ls (lists contents)\n",
    "%ls"
   ]
  },
  {
   "cell_type": "code",
   "execution_count": null,
   "metadata": {
    "id": "i2NYKhn9DkAq"
   },
   "outputs": [],
   "source": [
    "# the following cell shows cd, changing the current directory.\n",
    "# We will also try cd .. (to \"move up\" one level)\n",
    "\n",
    "# WARNING:  when cd does work, the _whole notebook_ has changed what it considers\n",
    "#           its \"current directory\"  You'll see this here:\n",
    "%cd intro_first"
   ]
  },
  {
   "cell_type": "code",
   "execution_count": null,
   "metadata": {
    "id": "BbsNDJvNDkAq"
   },
   "outputs": [],
   "source": [
    "# And, we need to be able to move \"up\" or \"outward\"!\n",
    "# To do this, use   cd ..     Here, in jupyter:\n",
    "\n",
    "%cd .."
   ]
  },
  {
   "cell_type": "code",
   "execution_count": null,
   "metadata": {
    "id": "AF1bK3ahDkAq"
   },
   "outputs": [],
   "source": [
    "# we can keep going!   cd .. \"goes up\" one directory level\n",
    "%cd .."
   ]
  },
  {
   "cell_type": "code",
   "execution_count": null,
   "metadata": {
    "id": "Fol2wm3cDkAq"
   },
   "outputs": [],
   "source": [
    "# you don't need a new cell each time...\n",
    "%pwd"
   ]
  },
  {
   "cell_type": "code",
   "execution_count": null,
   "metadata": {
    "id": "iCNpfKJlDkAq"
   },
   "outputs": [],
   "source": [
    "# Really, each notebook cell is a script, sharing state with the others\n",
    "\n",
    "# Here, our code is guarded by an if True:\n",
    "\n",
    "if False:\n",
    "    print(f\"It was True!\")\n",
    "\n",
    "# try changing the True to False.\n",
    "# There's no need to change the printing, because it won't print...\n",
    "\n",
    "# When submitting notebooks, we ask you to submit notebooks that run...\n",
    "# However, feel free to keep any+all non-running code! Simply comment it out\n",
    "# For example, with if False:\n",
    "# hashtags and \"\"\" triple-quoted strings \"\"\" also work ...\n",
    "# ... though they lose the code-structure and syntax highlighting! (As you see! :-)"
   ]
  },
  {
   "cell_type": "code",
   "execution_count": null,
   "metadata": {
    "id": "Fj9hL_l6DkAq"
   },
   "outputs": [],
   "source": [
    "# reminder: in each cell (script) all lines are run; only the last line is output\n",
    "y = 58\n",
    "x = y-7\n",
    "x = x-1\n",
    "x = x-8\n",
    "x"
   ]
  },
  {
   "cell_type": "code",
   "execution_count": null,
   "metadata": {
    "id": "7Zl0eWvZDkAq"
   },
   "outputs": [],
   "source": [
    "# BEWARE:  Variables are global through the notebook!\n",
    "# Here, y will be 58, from the cell above... if you've run that cell!\n",
    "y"
   ]
  },
  {
   "cell_type": "markdown",
   "metadata": {
    "id": "3fzywE6kDkAq"
   },
   "source": [
    "#### Let's function!  A first example, `plus1` and  its tests..."
   ]
  },
  {
   "cell_type": "code",
   "execution_count": null,
   "metadata": {
    "id": "VRpOBVjaDkAq"
   },
   "outputs": [],
   "source": [
    "# a good starting point!\n",
    "\n",
    "def plus1( N ):\n",
    "    \"\"\" returns a number one larger than its input \"\"\"\n",
    "    return N+1\n",
    "\n",
    "if True:\n",
    "    print(f\"plus1(41) -> {plus1(41)} should be {42}\")\n",
    "    print(f\"plus1(9000) -> {plus1(9000)} should be {9001}\")\n",
    "    assert plus1(41) == 42\n",
    "    assert plus1(9000) == 9001\n",
    "\n",
    "# print tests succeed and fail \"out loud\"\n",
    "# assert tests succeed silently and only fail \"out loud\" (and crash!)"
   ]
  },
  {
   "cell_type": "markdown",
   "metadata": {
    "id": "_mvNZ6FoDkAq"
   },
   "source": [
    "### Let's loop!\n",
    "\n",
    "Below,\n",
    "+ run this infinite loop - a while loop\n",
    "+ practice using the \"Interrupt\" (the square at the upper left of the cell) to kill it\n",
    "+ then, use the three-dots menu at the lower left to delete the cell's output...\n"
   ]
  },
  {
   "cell_type": "code",
   "execution_count": null,
   "metadata": {
    "id": "WPWcQHztDkAq"
   },
   "outputs": [],
   "source": [
    "#\n",
    "# An infinite loop...\n",
    "#\n",
    "\n",
    "print(f\"Start!\")\n",
    "i = 0\n",
    "\n",
    "while True:\n",
    "    print(i, end=\" \", flush=True)\n",
    "    i = i+1\n",
    "\n",
    "print(f\"End.\")\n"
   ]
  },
  {
   "cell_type": "markdown",
   "metadata": {
    "id": "a6Cjl46XDkAq"
   },
   "source": [
    "#### For-loop reminders...."
   ]
  },
  {
   "cell_type": "code",
   "execution_count": null,
   "metadata": {
    "id": "3tsT_rpPDkAq"
   },
   "outputs": [],
   "source": [
    "#\n",
    "# Let's loop!\n",
    "#\n",
    "\n",
    "snack = \"Poptarts\"\n",
    "\n",
    "for i in range(0,5):\n",
    "        print(f\"{snack}? I'll take {i}!\")"
   ]
  },
  {
   "cell_type": "code",
   "execution_count": null,
   "metadata": {
    "id": "SdSv8rq-DkAt"
   },
   "outputs": [],
   "source": [
    "# countdown( N )    emphasizes looping and printing (there is no return value!)\n",
    "#\n",
    "import time\n",
    "\n",
    "def countdown( N ):\n",
    "    \"\"\" counts downward from N to 0, printing  \"\"\"\n",
    "    for i in range(N,-1,-1):  # starts at N, ends at 0, steps by -1\n",
    "        print(\"i ==\", i)\n",
    "        time.sleep(0.2)\n",
    "\n",
    "    return    # no return value here!\n",
    "\n",
    "# testing countdown\n",
    "if True:\n",
    "    print(\"Testing countdown(5):\")\n",
    "    countdown(5)  # should print things -- with dramatic pauses!"
   ]
  },
  {
   "cell_type": "markdown",
   "metadata": {
    "id": "630SFsYhDkAt"
   },
   "source": [
    "#### The next cell shows a larger <b>script</b>, which calls the previous two functions:"
   ]
  },
  {
   "cell_type": "code",
   "execution_count": null,
   "metadata": {
    "id": "H0l7AEL5DkAt"
   },
   "outputs": [],
   "source": [
    "if True:\n",
    "    \"\"\" a cell for trying out the previous two cells \"\"\"\n",
    "\n",
    "    # sign on\n",
    "    print(f\"[[ Start! ]]\\n\")\n",
    "\n",
    "    # testing plus1\n",
    "    result = plus1( 41 )\n",
    "    print(f\"plus1(41) -> {result}\")\n",
    "    print()\n",
    "\n",
    "    # testing countdown\n",
    "    print(\"Testing countdown(4):\")\n",
    "    countdown(4)  # should print things -- with dramatic pauses!\n",
    "\n",
    "    # sign off\n",
    "    print(\"\\n[[ Fin. ]]\")"
   ]
  },
  {
   "cell_type": "markdown",
   "metadata": {
    "id": "2OEw-Vs8DkAt"
   },
   "source": [
    "#### The two mystery functions from our in-class exercise:"
   ]
  },
  {
   "cell_type": "code",
   "execution_count": null,
   "metadata": {
    "id": "G9sqryCdDkAt"
   },
   "outputs": [],
   "source": [
    "def mystery1( s ):\n",
    "    \"\"\" mystery function #1 \"\"\"\n",
    "    result = 0\n",
    "\n",
    "    for i in range(len(s)):\n",
    "        if s[i] in 'iI':\n",
    "            result += 1\n",
    "\n",
    "    return result\n",
    "\n",
    "result = mystery1(\"Aliens <3 caffeine\")\n",
    "print(result)"
   ]
  },
  {
   "cell_type": "code",
   "execution_count": null,
   "metadata": {
    "id": "Bn0XOnTLDkAu"
   },
   "outputs": [],
   "source": [
    "def mystery2( s ):\n",
    "    \"\"\" mystery function #2 \"\"\"\n",
    "    result = 0\n",
    "\n",
    "    for let in s:\n",
    "        if let in 'iI':\n",
    "            result += let\n",
    "\n",
    "    return result\n",
    "\n",
    "result = mystery2(\"I like caffeine\")\n",
    "print(result)"
   ]
  },
  {
   "cell_type": "markdown",
   "metadata": {
    "id": "FMMANXBdDkAu"
   },
   "source": [
    "#### Let's show two more functions:  \n",
    "+ ``count_eyes( s )`` and\n",
    "+ ``just_eyes( s )``"
   ]
  },
  {
   "cell_type": "code",
   "execution_count": null,
   "metadata": {
    "id": "07xHdVJNDkAu"
   },
   "outputs": [],
   "source": [
    "def count_eyes( s ):\n",
    "    \"\"\" returns the number of times i or I appears in the input string s \"\"\"\n",
    "    result = 0\n",
    "\n",
    "    for letter in s:\n",
    "        if letter in 'iI':  #  equivalent:   letter == 'i' or letter == 'I'\n",
    "            result += 1     #  add one to our overall result (our count)\n",
    "\n",
    "    return result           #  AFTER the loop, we're done!\n",
    "\n",
    "print(\"count_eyes('Yiiikes!') =\",count_eyes('Yiiikes!'))\n",
    "print(f\"{count_eyes('Yiiikes!') = }\")   # f-strings ⋮)\n",
    "print()\n",
    "print(f\"{count_eyes('Italy, icily, livelily!') = }\")"
   ]
  },
  {
   "cell_type": "code",
   "execution_count": null,
   "metadata": {
    "id": "V0ROn0yBDkAu"
   },
   "outputs": [],
   "source": [
    "def just_eyes( s ):\n",
    "    \"\"\" returns a string of only the letters i or I that appear in the input s \"\"\"\n",
    "    result = ''\n",
    "\n",
    "    for letter in s:\n",
    "        if letter in 'iI':    #  equivalent:   letter == 'i' or letter == 'I'\n",
    "            result += letter  #  add _the letter_ to our overall result, now a string\n",
    "\n",
    "    return result             #  AFTER the loop, we're done!\n",
    "\n",
    "print(\"just_eyes('Yiiikes!') =\",just_eyes('Yiiikes!'))\n",
    "print(f\"{just_eyes('Yiiikes!') = }\")   # f-strings ⋮)\n",
    "print()\n",
    "print(f\"{just_eyes('Italy, icily, livelily!') = }\")"
   ]
  },
  {
   "cell_type": "code",
   "execution_count": null,
   "metadata": {
    "id": "VYaVQJrJDkAu"
   },
   "outputs": [],
   "source": [
    "def GET_STRING_FROM_FILE(filename=None):\n",
    "    \"\"\" return all of the contents from the file, filename\n",
    "        will error if the file is not present, then return the empty string ''\n",
    "    \"\"\"\n",
    "    try:\n",
    "        if filename == None:  filename = \"input.txt\"\n",
    "        INPUT_FILENAME = filename\n",
    "        INPUT_FILE = open(INPUT_FILENAME, \"r\", encoding='utf-8')    # how to open a file\n",
    "        DATA = INPUT_FILE.read()                                    # and get all its contents\n",
    "        INPUT_FILE.close()                                          # close the file (optional)\n",
    "        #print(DATA)                                                # if we want to see it\n",
    "        return DATA                                                 # definitely want to return it!\n",
    "    except FileNotFoundError:                   # wasn't there\n",
    "        print(f\"file not found: {filename}\")    # print error\n",
    "        return ''                               # return empty string ''\n",
    "\n",
    "# split is a wonderful function, it returns a list.  Try it!\n",
    "INPUT_STRING = GET_STRING_FROM_FILE(\"input.txt\")\n",
    "\n",
    "# Let's print only some of this large string, with all of Shakespeare's sonnets:\n",
    "print(INPUT_STRING[0:200])\n"
   ]
  },
  {
   "cell_type": "markdown",
   "metadata": {
    "id": "4pm9F9ZrDkAu"
   },
   "source": [
    "#### Now, let's test our ``count_eyes`` function on all of the Sonnets:"
   ]
  },
  {
   "cell_type": "code",
   "execution_count": null,
   "metadata": {
    "id": "sgdUj6sZDkAu"
   },
   "outputs": [],
   "source": [
    "INPUT_STRING = GET_STRING_FROM_FILE(\"input.txt\")\n",
    "INPUT_LIST = INPUT_STRING.split(\"\\n\")  # '\\n'\n",
    "\n",
    "for s in INPUT_LIST:                   # Let's test it on each string (line) in our list\n",
    "    inp = s                            # the input\n",
    "    out = count_eyes(inp)              # the output\n",
    "    # print(f\"{inp} -> {out}\")           # print result\n",
    "    print(f\"{inp:>50s} -> {out:<d}\")   # f-strings have formatting options: (> right) (< left)"
   ]
  },
  {
   "cell_type": "markdown",
   "metadata": {
    "id": "_1Tak8e-DkAu"
   },
   "source": [
    "#### Now, let's <i>maximize</i> our ``count_eyes`` across all Sonnet lines:"
   ]
  },
  {
   "cell_type": "code",
   "execution_count": null,
   "metadata": {
    "id": "XGrzOR5lDkAu"
   },
   "outputs": [],
   "source": [
    "INPUT_STRING = GET_STRING_FROM_FILE(\"input.txt\")\n",
    "INPUT_LIST = INPUT_STRING.split(\"\\n\")  # '\\n'\n",
    "\n",
    "AllResults = []\n",
    "\n",
    "for s in INPUT_LIST:                   # Let's test it on each string (line) in our list\n",
    "    inp = s                            # the input\n",
    "    out = count_eyes(inp)              # the output\n",
    "    # print(f\"{inp} -> {out}\")           # print result\n",
    "    print(f\"{inp:>50s} -> {out:<d}\")   # f-strings have formatting options: (> right) (< left)\n",
    "    AllResults.append( [out,inp] )       # append the output and input as a _sublist_\n",
    "\n",
    "maximum_line = max(AllResults)          # take the maximum\n",
    "print(\"The max and maximum line:\", maximum_line)"
   ]
  },
  {
   "cell_type": "markdown",
   "metadata": {
    "id": "OnsO3NG_DkAu"
   },
   "source": [
    "#### Thoughts on the most i-y line:\n",
    "\n",
    "The line with the most 'i's was ``So CS35_Participant_2 lives this and this gives life to thee.``\n",
    "\n",
    "Of all the sonnets, I'm surprised that no line contained more than 5 \"i\"s.\n",
    "\n",
    "But, trying it again looking for 't's, the result was again 5! It was\n",
    "\n",
    "``When in eternal lines to time thou growest:``\n",
    "\n",
    "Maybe 5 is a more reasonable maximum than originally thought. (There are fewer than 50 characters per line, after all...)."
   ]
  },
  {
   "cell_type": "markdown",
   "metadata": {
    "id": "Rg2aqWWIDkAu"
   },
   "source": [
    "#### <b><font color=\"Coral\">Functions</font></b> to write for hw0pr1\n",
    "+ Python's <tt>str</tt> functions are documented at this [str documentation page](https://docs.python.org/3/library/stdtypes.html#text-sequence-type-str)\n",
    "  + find and read over how <tt>split</tt> works... (that way, too, you'll have a feel for the documentation)\n",
    "+ Python's <tt>string</tt> library, used via <tt>import string</tt> is at [the string library documentation page](https://docs.python.org/3/library/string.html)\n",
    "  + this has some useful constants and other capabilities. Most functionality is in the <tt>str</tt> datatype (class)\n",
    "  + not needed but fun: [all of Python's built-in modules](https://docs.python.org/3/py-modindex.html)\n",
    "+ Be sure to include at least two tests that run - and work - for each of these functions."
   ]
  },
  {
   "cell_type": "code",
   "execution_count": null,
   "metadata": {
    "id": "931WNVqbDkAu"
   },
   "outputs": [],
   "source": [
    "#\n",
    "# using python's string library\n",
    "#\n",
    "\n",
    "import string\n",
    "\n",
    "print(string.digits)\n",
    "print(string.punctuation)\n",
    "print(string.ascii_lowercase)"
   ]
  },
  {
   "cell_type": "code",
   "execution_count": null,
   "metadata": {
    "id": "R-J-kekkDkAu"
   },
   "outputs": [],
   "source": [
    "# plus1, countdown, count_eyes, and just_eyes are already complete :-)"
   ]
  },
  {
   "cell_type": "code",
   "execution_count": null,
   "metadata": {
    "id": "MkHdARNLDkAu"
   },
   "outputs": [],
   "source": [
    "#\n",
    "# times42( s ):      \twhich should print the string s 42 times (on separate lines)\n",
    "#\n",
    "\n",
    "def times42(s):\n",
    "    \"\"\"\n",
    "    prints string s 42 times; each on separate lines\n",
    "    \n",
    "    parameters:\n",
    "    s - str printed 42 times\n",
    "    \"\"\"\n",
    "    for i in range(42):\n",
    "        print(s)\n",
    "\n",
    "times42(\"MANGO\")\n",
    "times42(\"CS35_Participant_11 IS THE BEST\")\n"
   ]
  },
  {
   "cell_type": "code",
   "execution_count": null,
   "metadata": {
    "id": "cmSaM3uvDkAu"
   },
   "outputs": [],
   "source": [
    "#\n",
    "# alien( N ):          \twhich should return the string \"aliii...iiien\" with exactly N \"i\"s\n",
    "#\n",
    "\n",
    "def alien(N):\n",
    "    \"\"\"\n",
    "    Returns the string alien with N amt of \"i\"\n",
    "    \n",
    "    Parameters:\n",
    "    N, amt of times \"i\" appears\n",
    "    \n",
    "    Returns:\n",
    "    str with ali...ien\n",
    "    \"\"\"\n",
    "    return \"al\" + (\"i\" * N) + \"en\"\n",
    "\n",
    "print(alien(10)) \n",
    "print(alien(42)) \n"
   ]
  },
  {
   "cell_type": "code",
   "execution_count": null,
   "metadata": {
    "id": "vwgWQi39DkAu"
   },
   "outputs": [],
   "source": [
    "#\n",
    "# count_digits( s ):   returns the number of digits in the input string s\n",
    "#\n",
    "\n",
    "def count_digits(s):\n",
    "    ''' \n",
    "    counts the number of digits in the input string s \n",
    "    \n",
    "    Parameters:\n",
    "    s, the input string\n",
    "    \n",
    "    Returns:\n",
    "    int, the count of digit characters in s\n",
    "    '''\n",
    "    count = 0\n",
    "    for c in s:\n",
    "        if c.isdigit():\n",
    "            count += 1\n",
    "    return count\n",
    "\n",
    "print(count_digits(\"h3h3\")) \n",
    "print(count_digits(\"no digits here!\"))  \n"
   ]
  },
  {
   "cell_type": "code",
   "execution_count": null,
   "metadata": {
    "id": "k9zmNbyIDkAu"
   },
   "outputs": [],
   "source": [
    "#\n",
    "# just_digits( s ):   returns only the digits in the input string s\n",
    "#\n",
    "\n",
    "def just_digits(s):\n",
    "    ''' \n",
    "    returns only the digits in s \n",
    "    '''\n",
    "    result = \"\"\n",
    "    for c in s:\n",
    "        if c.isdigit():\n",
    "            result += c\n",
    "    return result\n",
    "\n",
    "print(just_digits(\"h3h3\"))  \n",
    "print(just_digits(\"no digits here!\")) \n"
   ]
  },
  {
   "cell_type": "code",
   "execution_count": null,
   "metadata": {
    "id": "s_i2ogDUDkAu"
   },
   "outputs": [],
   "source": [
    "#\n",
    "# just_text( s ):   returns a new version of s, where\n",
    "#                    everything has been lower-cased, and\n",
    "#                    all non-letters and non-spaces have been removed\n",
    "#                    (that is, just keep the \"text\")\n",
    "#\n",
    "#                    Hint: s.lower() returns an all lower-case version of s\n",
    "\n",
    "def just_text(s):\n",
    "    ''' f-docstrings are allowed, too :)\n",
    "         be sure to include a docstring here!\n",
    "\n",
    "          returns a lower-case version of s with only letters and space\n",
    "\n",
    "          s is the string \n",
    "    '''\n",
    "    result = \"\"\n",
    "    for c in s.lower():\n",
    "        if c.isalpha() or c == \" \":\n",
    "            result += c\n",
    "    return result\n",
    "\n",
    "print(just_text(\"The Weeknd is my fav artist\"))  \n",
    "print(just_text(\"My favorite song is Sao Paulo by the Weeknd\"))  "
   ]
  },
  {
   "cell_type": "markdown",
   "metadata": {
    "id": "O32D5nHfDkAv"
   },
   "source": [
    "#### Then, add two functions that you brainstorm, implement, and test...\n",
    "\n",
    "Here are a couple of examples - one of mine and one from a prior cs35 - to help the brainstorming.\n",
    "\n",
    "The key is that yours should be, well, yours! That is, something that would only have been created by you/your team -- explain the reasoning, the process you went through, and the process that ended up working.\n",
    "\n",
    "Here, both algorithmic creativity and content creativity are equally the goal. That said, the aim is 15-20 minutes. (Remember you can always adapt the individualized outcome you're aiming for!)\n"
   ]
  },
  {
   "cell_type": "code",
   "execution_count": null,
   "metadata": {
    "id": "oHcEWbYvDkAv"
   },
   "outputs": [],
   "source": [
    "#\n",
    "# your own string-transforming function:  up to you\n",
    "#    the goal: come up with something uniquely yours ...\n",
    "#              ... no need to go overboard (more challenges ahead!)\n",
    "#\n",
    "# be sure to show off at least two of your own tests, too\n",
    "#\n",
    "\n",
    "# Here's my example:\n",
    "\n",
    "def poptart_score(s):\n",
    "    \"\"\" returns the wordle score vs. \"poptart\" (exactly 7 letters)\n",
    "          $ will represent the correct letter in a correct spot\n",
    "          ~ will represent the correct letter in an incorrect spot\n",
    "    \"\"\"\n",
    "    # let's make sure s has exactly 7 letters\n",
    "    s = s + \"*\"*7   # add extra asterisks at the end to have at least 7 letters\n",
    "    s = s[0:7]      # trim to 7 letters using a slice\n",
    "\n",
    "    result = \"\"\n",
    "    for i in range(len(s)):  # loop over each index i, from 0 to len(s)-1\n",
    "        if \"poptart\"[i] == s[i]:\n",
    "            result += '$'    # correct letter, correct spot\n",
    "        elif s[i] in \"poptart\":\n",
    "            result += '~'    # correct letter, wrong spot\n",
    "        else:\n",
    "            result += ' '    # not a correct letter\n",
    "\n",
    "    return result\n",
    "\n",
    "#\n",
    "# be sure to run on a large string\n",
    "#\n",
    "INPUT_STRING = \"\"\"scripps claremontmckenna pitzer mudd pomona sci50l poptart\"\"\"\n",
    "INPUT_LIST = INPUT_STRING.split()\n",
    "for s in INPUT_LIST:              # Let's test it on each string (word) in our list\n",
    "    inp = s                       # the function input\n",
    "    out = poptart_score(s)       # the function output\n",
    "    inp7 = (s + \"*\"*7)[:7]          # a seven-character (padded/sliced) input\n",
    "    print(f\"{inp:>25s}  ->  |{inp7}|\")\n",
    "    print( f\"{'':>25s}      |{out}|\")      # f-strings to show the transformation\n",
    "    print( f\"{'':>25s}      |{'poptart'}|\\n\")"
   ]
  },
  {
   "cell_type": "code",
   "execution_count": null,
   "metadata": {
    "id": "a00gjDcKDkAv"
   },
   "outputs": [],
   "source": [
    "#\n",
    "# also be sure to run on at least one file find the results\n",
    "#     can be only printing, but if there's something to maximize or minimize,\n",
    "#     it is always fun to see what's \"best\" or \"worst\"\n",
    "#\n",
    "\n",
    "INPUT_STRING = GET_STRING_FROM_FILE(\"input.txt\")\n",
    "INPUT_LIST = INPUT_STRING.split(\"\\n\")  # '\\n'\n",
    "\n",
    "AllResults = []\n",
    "\n",
    "for s in INPUT_LIST:              # Let's test it on each string (word) in our list\n",
    "    inp = s                       # the function input\n",
    "    out = poptart_score(s)       # the function output\n",
    "    inp7 = (s + \"*\"*7)[:7]          # a seven-character (padded/sliced) input\n",
    "    print(f\"{inp[0:20]:>25s}  ->  |{inp7}|\")\n",
    "    print( f\"{'':>25s}      |{out}|\")      # f-strings to show the transformation\n",
    "    print( f\"{'':>25s}      |{'poptart'}|\\n\")\n",
    "    this_score = out.count(\"$\")*4 + out.count(\"~\")*2  # my scoring system!\n",
    "    AllResults.append( [out,inp] )       # append the output and input as a _sublist_\n",
    "\n",
    "maximum_line = max(AllResults)          # take the maximum\n",
    "print(\"The max and maximum line:\", maximum_line)"
   ]
  },
  {
   "cell_type": "markdown",
   "metadata": {
    "id": "cuo1oWZVDkAv"
   },
   "source": [
    "#### Example stolen from the past...\n",
    "+ And Kenneth + Charlie's function, as well...\n",
    "  + K+C's is more representative of what's imagined...\n",
    "  + Up to you!"
   ]
  },
  {
   "cell_type": "code",
   "execution_count": null,
   "metadata": {
    "id": "rD_PLmWPDkAv"
   },
   "outputs": [],
   "source": [
    "#\n",
    "# your own string-transforming function:  up to you\n",
    "#    encouraged: come up with something uniquely yours (or your team's)\n",
    "#                ... but no need to go overboard (more problems are ahead!)\n",
    "#\n",
    "# be sure to show off a couple of your own tests, too\n",
    "#\n",
    "\n",
    "# Here's Kenneth and Charlie's:\n",
    "\n",
    "\n",
    "def obish(s):\n",
    "    '''\n",
    "    Input: a string, s\n",
    "    Output: the string converted to obish (https://www.instructables.com/How-to-speak-Obish/)\n",
    "    '''\n",
    "    vowels = 'aeiouy'\n",
    "    outputStr = \"\"\n",
    "    for i in s:\n",
    "        if i in vowels:\n",
    "            outputStr += \"ob\"\n",
    "        outputStr += i\n",
    "    return outputStr\n",
    "\n",
    "print(obish('bingus'))\n",
    "print(obish('Kenneth goes to my school.'))\n",
    "print(obish('brb I have to get my laundry'))\n",
    "assert obish('bingus') == 'bobingobus'\n",
    "assert obish('Kenneth goes to my school.') == 'Kobennobeth goboobes tobo moby schoboobol.'\n",
    "assert obish('brb I have to get my laundry') == 'brb I hobavobe tobo gobet moby lobaobundroby'\n",
    "\n",
    "#\n",
    "# note from ZD:  not sure what I'd maximize here, but so be it!\n",
    "#"
   ]
  },
  {
   "cell_type": "code",
   "execution_count": null,
   "metadata": {
    "id": "PhKufs9_DkAv"
   },
   "outputs": [],
   "source": [
    "#\n",
    "# your own string-quantifying function:  again, up to you\n",
    "#   something uniquely yours: a question not-yet-asked :)\n",
    "#\n",
    "# be sure to show off at least two of your own tests, too\n",
    "#\n",
    "\n",
    "print(\"your function here! (Be sure to have small-example tests and a large-example test!)\")\n",
    "\n"
   ]
  },
  {
   "cell_type": "code",
   "execution_count": null,
   "metadata": {},
   "outputs": [],
   "source": [
    "\n",
    "def is_prime(n):\n",
    "    \"\"\"\n",
    "    checks if a number is prime\n",
    "\n",
    "    parameter:\n",
    "    n (int): number to check\n",
    "\n",
    "    returns:\n",
    "    bool value: True if prime, False otherwise\n",
    "    \"\"\"\n",
    "    if n < 2:\n",
    "        return False\n",
    "    for i in range(2, int(n ** 0.5) + 1):\n",
    "        if n % i == 0:\n",
    "            return False\n",
    "    return True\n",
    "\n",
    "# Example usage\n",
    "print(is_prime(11))  # Output: True"
   ]
  },
  {
   "cell_type": "code",
   "execution_count": null,
   "metadata": {},
   "outputs": [],
   "source": [
    "def organize(s):\n",
    "    \"\"\"\n",
    "    puts the letters in a string in alphabetical order\n",
    "\n",
    "    returns the alphabetized string\n",
    "    \"\"\"\n",
    "    return \"\".join(sorted(s))\n",
    "\n",
    "# Example usage\n",
    "print(organize(\"iphone\"))  # Output: \"ehinop\"\n",
    "print(organize(\"lamp\"))  # Output: \"almp\"\n",
    "print(organize(\"CS35_Participant_11\"))    # Output: \"aehnpst\"\n"
   ]
  },
  {
   "cell_type": "markdown",
   "metadata": {
    "id": "nuzrEhMrDkAv"
   },
   "source": [
    "#### <b><font color=\"Coral\">Reflections</font></b>\n",
    "\n",
    "In a short 4-6 sentence markdown cell, share\n",
    "+ Did you use AI?  (We hope so!)\n",
    "+ If so, which one(s)? was it helpful?\n",
    "+ Was there anything surprising about what it could help with?\n",
    "+ Was there anything surprising about what it _couldn't_ help with?\n",
    "\n",
    "+ I used AI to help me with my organizing function. It helped me realize that I could just use a command to sort the strings without the need for a lengthy function. The AI I used was ChatGPT, the go-to for most people. I originally was thinking of ways to write a lengthy procedure for the alphabetization system, but on second thought just asked AI if there was better approaches for python.\n",
    "\n",
    "Key question:\n",
    "+ Did you feel there was more reinforcement -- or more tension --    between \"helping accomplish\" and \"helping understand\"?\n",
    "\n",
    "AI has helped me with my efficency, teaching me new things about python and cool tricks to use to streamline my work. I feel like knowing this for the future will improve my coding skills, as opposed to having my utlizize AI as a crutch. Additionally, I know that AI does very well with scanning for syntax and logic errors which helps me a lot with my coding and further simplifies the process of coding for me. It definitely helps me understand what I need to do in the future, as I ask the AI to elaborate on responses I don't completely understand."
   ]
  },
  {
   "cell_type": "markdown",
   "metadata": {
    "id": "tXHDNn-8DkAv"
   },
   "source": [
    "#### <b><font color=\"Coral\">Submitting</font></b>\n",
    "+ _Do_ keep your cell outputs intact: <i>Don't clear them</i>\n",
    "+ If needed, use your choice of \"commenting out\":\n",
    "+ `if False:` , `# hashes` , `''' triple quotes '''`   for code that does not work\n",
    "+ _Do_ add context in comments or markdown both for things that worked (optional and welcome) and for things that you didn't get working (it shows you _know_ it's not working!)\n",
    "\n"
   ]
  }
 ],
 "metadata": {
  "colab": {
   "provenance": []
  },
  "kernelspec": {
   "display_name": "Python 3",
   "language": "python",
   "name": "python3"
  },
  "language_info": {
   "codemirror_mode": {
    "name": "ipython",
    "version": 3
   },
   "file_extension": ".py",
   "mimetype": "text/x-python",
   "name": "python",
   "nbconvert_exporter": "python",
   "pygments_lexer": "ipython3",
   "version": "3.12.5"
  },
  "orig_nbformat": 4
 },
 "nbformat": 4,
 "nbformat_minor": 0
}
