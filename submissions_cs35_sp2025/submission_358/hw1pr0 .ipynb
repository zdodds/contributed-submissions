{
  "nbformat": 4,
  "nbformat_minor": 0,
  "metadata": {
    "colab": {
      "provenance": []
    },
    "kernelspec": {
      "name": "python3",
      "display_name": "Python 3"
    },
    "language_info": {
      "name": "python"
    }
  },
  "cells": [
    {
      "cell_type": "markdown",
      "source": [
        "b) To some extend, it is imposible to make a non-bais AI for that they are made by human whos always bais. Moreover, who is there to judge if one's oppinions are bais or not and if they are, what are the level of bais. However, this does not neccessarily harms human or is \"unethical\". It can be assumed that an intentionally bais controlled AI must be better than the average human's bais. Thus, if an average human is no \"harm\" or is \"unethical\" to humanity then why would an AI."
      ],
      "metadata": {
        "id": "CncjWQ4pPhkd"
      }
    },
    {
      "cell_type": "code",
      "execution_count": null,
      "metadata": {
        "id": "rIQX0AXEPdwP"
      },
      "outputs": [],
      "source": []
    }
  ]
}