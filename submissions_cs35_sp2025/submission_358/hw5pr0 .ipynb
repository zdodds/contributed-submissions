{
  "cells": [
    {
      "cell_type": "markdown",
      "metadata": {
        "id": "7S6RX5RORQEY"
      },
      "source": [
        "<br>\n",
        "\n",
        "### cs35 Week5: Reading and response\n",
        "\n",
        "_More data!_   &nbsp;&nbsp; (hw5pr0.ipynb)\n",
        "\n",
        "In fact, can we _generate_ our own?!\n",
        "\n",
        "<hr>"
      ]
    },
    {
      "cell_type": "markdown",
      "metadata": {
        "id": "2h0mNu8uRQEa"
      },
      "source": [
        "<br>\n",
        "\n",
        "#### Reading for hw5...     (hw5pr0.ipynb)\n",
        "\n",
        "This week's reading is an [Economist article](https://www.economist.com/technology-quarterly/2020/06/11/for-ai-data-are-harder-to-come-by-than-you-think) (here is a [pdf version](https://drive.google.com/file/d/1tJC3jLjk_ZNzA1UTxREJGqzZg5pg2N24/view)) on the pitfalls and promise of the data-driven era we now inhabit.  \n",
        "\n",
        "The article takes a \"data-based\" view on the developments and concerns in AI. It's from about 5 years ago, and you'll notice that this is a _long_ time ago, AI-wise!\n",
        "\n",
        "One of the more durable ideas in this article is the possibility -- and possible importance -- of ***generating*** data to improve model-training, when available data is inequitable, inflexible, or insufficient in another way. (Amazon Go, on the other hand? [Gone.](https://foodinstitute.com/focus/rise-and-stall-of-amazon-go-illustrates-limits-of-ai/))   \n",
        "\n",
        "Using the article and your own experience, what are <font color=\"Coral\"><b>your thoughts on artificially generating data to assist AI/ML training</b></font>?  Possible jumping-off points include\n",
        "+ (1) echo-chamber effects: &nbsp; Can generated data yield more fairness -- or only reinforce existing biases?, or\n",
        "+ (2) implementation concerns: &nbsp; What process would artificially generate the data?, or\n",
        "+ (3) a specific example you've encountered, &nbsp; where a computational system generated data, but \"got things obviously wrong\" (you may have experiences several of these examples!)\n",
        "\n",
        "In the last case, the automatically-generated data may have made the world's data-landscape worse, not better.  \n",
        "\n",
        "Alternative and additional perspectives about artificially-generated data are more than welcome... &nbsp; .\n",
        "\n",
        "As with each week's reading, responses should be thoughtful, but need not be CS35_Participant_2: a 4-5 sentence paragraph is wonderful.\n",
        "\n",
        "<hr>"
      ]
    },
    {
      "cell_type": "markdown",
      "metadata": {
        "id": "jK2hWkTORQEb"
      },
      "source": [
        "#### Reading response\n",
        "\n",
        "The first thing I thought of while reading this was the enormous amount of jobs data creating in real life brings to the world. Things such as minicing shoppers require little specialise expirence, degree, and work expirence. This opens up job opportunities for many groups of people such as disabilied, people without higher education, and more that would normally be harder for them to find jobs. This is a huge market that provides many societal benefits.\n",
        "\n",
        "On the more AI side, I have used AI generated data for model training and occationally, they don't work as expected. around 1/10 times, the generated data contains error that cannot allow the data to be trained properly. These types of error is hard to be detected just by looking at the numbers, thus they are not noticed until the model has been training. This may be a programing error of my own, and I am not sure what are the percentage of occurence for other perdiction model."
      ]
    }
  ],
  "metadata": {
    "interpreter": {
      "hash": "7ccb4bb6bd67730c9185e6c24c983362cd7b4575b595bfae100d8d91e48f4f1e"
    },
    "kernelspec": {
      "display_name": "Python 3.8.8 64-bit (conda)",
      "language": "python",
      "name": "python3"
    },
    "language_info": {
      "codemirror_mode": {
        "name": "ipython",
        "version": 3
      },
      "file_extension": ".py",
      "mimetype": "text/x-python",
      "name": "python",
      "nbconvert_exporter": "python",
      "pygments_lexer": "ipython3",
      "version": "3.10.2"
    },
    "orig_nbformat": 4,
    "colab": {
      "provenance": []
    }
  },
  "nbformat": 4,
  "nbformat_minor": 0
}