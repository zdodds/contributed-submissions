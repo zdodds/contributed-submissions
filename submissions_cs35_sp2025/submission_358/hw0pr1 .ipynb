{
  "cells": [
    {
      "cell_type": "markdown",
      "metadata": {
        "id": "EvgU28LMDkAm"
      },
      "source": [
        "### Jupyter Notebooks and Markdown!\n",
        "+ At heart, cs35 is about bridge-building between human expression and executable expression\n",
        "+ markdown is a popular language for human expression  (this cell is markdown)\n",
        "  + control-enter renders the Markdown  (\"runs\" it)\n",
        "+ python is a popular language for executable expression (see cells below!)"
      ]
    },
    {
      "cell_type": "markdown",
      "metadata": {
        "id": "FSU0SoPIDkAn"
      },
      "source": [
        "#### This is a Markdown cell, a <i>fourth-level</i> header\n",
        "+ If you've already used Markdown, e.g., in Discord, wiki editing, etc., wonderful!\n",
        "+ If you haven't used it, [this Markdown link](https://www.markdownguide.org/basic-syntax/) is a reference...\n",
        "+ Equally or more welcome: &nbsp; Dive in! &nbsp; Share! &nbsp; Ask!"
      ]
    },
    {
      "cell_type": "markdown",
      "metadata": {
        "id": "1aSsC9MjDkAn"
      },
      "source": [
        "#### <font color=\"Coral\">First task</font> -- is \"to markdown\":\n",
        "+ Here, use your markdown knowledge or research to...\n",
        "+ **bold** this item\n",
        "+ *italicize* this item\n",
        "+ ~~strikethrough~~ this item\n",
        "+ use `fixed-width formatting` for this item, i.e., code-style\n",
        "+ and then do\n",
        "\n",
        "#something else (your choice) with this item\n",
        "\n",
        "+ BUT... <i><b><u>don't</u></b></i> use mark<u>up</u>, as this item does. Use mark<u>down</u>!\n",
        "+ That is to say, don't use tags like <tt>\\<i\\>this\\</i\\></tt> for any of the challenges above..."
      ]
    },
    {
      "cell_type": "code",
      "source": [],
      "metadata": {
        "id": "S2iKhCwJDpD5"
      },
      "execution_count": null,
      "outputs": []
    },
    {
      "cell_type": "markdown",
      "metadata": {
        "id": "VnDQRk5LDkAo"
      },
      "source": [
        "#### <font color=\"Coral\">Second task</font> -- Be sure to\n",
        "+ Change this list so that it uses <u>your</u> name and includes at least three \"fun facts\" about yourself, including at least two links and at least one link to a picture of you somewhere...\n",
        "+ For example, my answers are\n",
        "+ CS35_Participant_5 and CS35_Participant_6\n",
        "+ CS35_Participant_6 rides bike all the time\n",
        "+ CS35_Participant_5 love [fleabag](https://www.imdb.com/title/tt5687612/) and probably follow the <font color=\"DodgerBlue\">Dodgers</font> too closely, as well as <font color=\"Purple\">Wimbledon</font>.\n",
        "+ In particular, CS35_Participant_5 loves [Andrew Scott](https://www.imdb.com/name/nm0778831/)\n",
        "+ CS35_Participant_5 also believes that 0 is not a real number\n",
        "+ This is a photo of [CS35_Participant_6] (https://en.wikipedia.org/wiki/Peppa_Pig#/media/File:Peppa_Pig_logo.svg)"
      ]
    },
    {
      "cell_type": "markdown",
      "metadata": {
        "id": "NjKftI6XDkAo"
      },
      "source": [
        "#### <font color=\"Coral\">Third task</font> include a linked image via url: This is a _different_ Zach Dodds...\n",
        "This is another photo of CS35_Participant_6 reading\n",
        "\n",
        "<img src=\"data:image/jpeg;base64,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\" height=142>"
      ]
    },
    {
      "cell_type": "markdown",
      "metadata": {
        "id": "yZLQpsS_DkAo"
      },
      "source": [
        "### Onward to Python!"
      ]
    },
    {
      "cell_type": "code",
      "execution_count": null,
      "metadata": {
        "id": "wHSLJPv4DkAo"
      },
      "outputs": [],
      "source": [
        "#\n",
        "# python is a popular language for executable expression\n",
        "#     This is a python cell\n",
        "#     Try this shortcut: control-return or control-enter runs it:\n",
        "\n",
        "x = 43\n",
        "print(\"x is\", x)\n",
        "\n",
        "x -= 1\n",
        "x\n",
        "\n",
        "# notice that the last expression is the cell's output.\n",
        "# printing and outputting are different!"
      ]
    },
    {
      "cell_type": "markdown",
      "metadata": {
        "id": "H-wzwSk9DkAp"
      },
      "source": [
        "#### Python review in about 5-10 cells!\n",
        "\n",
        "cs5 in one day!"
      ]
    },
    {
      "cell_type": "code",
      "execution_count": 1,
      "metadata": {
        "id": "EwoqglZ-DkAp",
        "outputId": "d78cc3c9-c40b-47d2-bf58-9b5822084ae6",
        "colab": {
          "base_uri": "https://localhost:8080/"
        }
      },
      "outputs": [
        {
          "output_type": "stream",
          "name": "stdout",
          "text": [
            "L[1:] equals [8, 9]\n",
            "L[1:] equals [8, 9]\n",
            "L[1:] = [8, 9]\n",
            "\n",
            "cmc scripps pitzer hmc\n"
          ]
        },
        {
          "output_type": "execute_result",
          "data": {
            "text/plain": [
              "True"
            ]
          },
          "metadata": {},
          "execution_count": 1
        }
      ],
      "source": [
        "#\n",
        "# Let's fit all of Python into the next five or so cells!\n",
        "#\n",
        "\n",
        "L = [7,8,9]\n",
        "\n",
        "print(\"L[1:] equals\", L[1:])    # slicing!\n",
        "\n",
        "print(f\"L[1:] equals {L[1:]}\")  # f strings!\n",
        "\n",
        "print(f\"{L[1:] = }\")            # cool = syntax, new for me...\n",
        "\n",
        "print()\n",
        "\n",
        "colleges = 'cmc scripps pitzer hmc'\n",
        "print(colleges)\n",
        "\n",
        "'c' in colleges          # in is in!"
      ]
    },
    {
      "cell_type": "markdown",
      "metadata": {
        "id": "FXUUQaecDkAp"
      },
      "source": [
        "#### Let's use f-strings more carefully ...\n"
      ]
    },
    {
      "cell_type": "code",
      "execution_count": null,
      "metadata": {
        "id": "Q2PiOIayDkAp"
      },
      "outputs": [],
      "source": [
        "x = 42\n",
        "\n",
        "print(\"x =\", x)    # \"regular\" print\n",
        "\n",
        "print(  f\"{x = }\" )  # f-string print"
      ]
    },
    {
      "cell_type": "code",
      "execution_count": null,
      "metadata": {
        "id": "U5bnIoY_DkAp"
      },
      "outputs": [],
      "source": [
        "\"\"\"wrong = 41\"\"\"\n",
        "snack = \"Poptarts\"\n",
        "\n",
        "# fs = f\"{snack}? I'll take {wrong+1}!\"\n",
        "# print(fs)\n",
        "\n",
        "for i in range(40,42+1):\n",
        "    print(f\"{snack}? I'll take {i}!\")\n"
      ]
    },
    {
      "cell_type": "markdown",
      "metadata": {
        "id": "X-HjbMXSDkAp"
      },
      "source": [
        "#### Notice that variables persist from cell to cell...\n",
        "\n",
        "Here, ``L`` and ``colleges`` are variables defined above.\n",
        "Their values are still present:\n"
      ]
    },
    {
      "cell_type": "code",
      "execution_count": null,
      "metadata": {
        "id": "G8Hb1QwiDkAp"
      },
      "outputs": [],
      "source": [
        "print(f\"{L=}  L.index(9) is\", L.index(9))     # calling methods (functions after a \".\")\n",
        "print()\n",
        "print(\"colleges.title() returns \", colleges.title())        # ditto!  Let's shout!\n",
        "print()\n",
        "print(\"# of c's in colleges:\", colleges.count('c'))\n",
        "print()\n",
        "print(colleges.replace('c','C'))"
      ]
    },
    {
      "cell_type": "markdown",
      "metadata": {
        "id": "EW6ummlpDkAp"
      },
      "source": [
        "#### ``split`` is a _really_ useful function\n",
        "\n",
        "Notice that it is called <i>by</i> the string being split.\n",
        "\n",
        "It returns a list!\n",
        "\n",
        "(Q'n: <i>How in the input being used?</i>)\n"
      ]
    },
    {
      "cell_type": "code",
      "execution_count": null,
      "metadata": {
        "id": "0t7YvsXoDkAp"
      },
      "outputs": [],
      "source": [
        "LoW = colleges.split()\n",
        "print(\"LoW is\", LoW)\n",
        "\n",
        "LoS = colleges.split('c')\n",
        "print(\"LoS is\", LoS)"
      ]
    },
    {
      "cell_type": "markdown",
      "metadata": {
        "id": "B9m1CwufDkAp"
      },
      "source": [
        "#### ``join`` is the _opposite_ of split"
      ]
    },
    {
      "cell_type": "code",
      "execution_count": null,
      "metadata": {
        "id": "7rwwKkd6DkAp"
      },
      "outputs": [],
      "source": [
        "LoW = [ \"word\", \"leisa\", \"we\", \"some\" ]\n",
        "''.join(LoW)"
      ]
    },
    {
      "cell_type": "markdown",
      "metadata": {
        "id": "WWItJeFBDkAq"
      },
      "source": [
        "#### <font color=\"Coral\">Fourth task</font>: &nbsp; add another example in the spirit of the one below...\n",
        "+ create (at least) three more variables and\n",
        "+ a sentence using all of them and\n",
        "+ render them in a single strings using f-strings...    \n",
        "\n",
        "Experiment!"
      ]
    },
    {
      "cell_type": "code",
      "execution_count": 4,
      "metadata": {
        "id": "b41COs-WDkAq",
        "outputId": "23a8fa54-f439-483c-f17a-6e6945932e43",
        "colab": {
          "base_uri": "https://localhost:8080/"
        }
      },
      "outputs": [
        {
          "output_type": "stream",
          "name": "stdout",
          "text": [
            "hello from jupyter, running python, within vscode...!\n",
            "\n",
            "Meta would be proud!\n"
          ]
        }
      ],
      "source": [
        "#\n",
        "# f-strings!\n",
        "#\n",
        "\n",
        "interface = \"jupyter\"\n",
        "language = \"python\"\n",
        "application = \"vscode\"\n",
        "\n",
        "print(f\"hello from {interface}, running {language}, within {application}...!\")\n",
        "print()\n",
        "\n",
        "company = \"Meta\"\n",
        "print(f\"{company} would be proud!\")\n",
        "\n",
        "#\n",
        "# Feel free to create your own quippy example here or in a new cell...\n",
        "#"
      ]
    },
    {
      "cell_type": "code",
      "source": [
        "# my turn!\n",
        "\n",
        "animal = \"ducks\"\n",
        "people = \"CS35_Participant_6\"\n",
        "belief = \"spaghetti\"\n",
        "\n",
        "print(f\"Hi, I am {people} and I am also a {animal} who is believes in {belief}!\")\n",
        "print()\n"
      ],
      "metadata": {
        "id": "7RSv_d48Tm6s",
        "outputId": "c28d12c2-0e89-477c-efc2-6aaaa386e54d",
        "colab": {
          "base_uri": "https://localhost:8080/"
        }
      },
      "execution_count": 6,
      "outputs": [
        {
          "output_type": "stream",
          "name": "stdout",
          "text": [
            "Hi, I am CS35_Participant_6 and I am also a ducks who is believes in spaghetti!\n",
            "\n"
          ]
        }
      ]
    },
    {
      "cell_type": "markdown",
      "metadata": {
        "id": "yvZBGSKPDkAq"
      },
      "source": [
        "#### **Remember**  _list comprehensions_  ?\n",
        "+ they are \"loops-in-lists\"\n",
        "+ or \"lists-with-loops\"\n",
        "\n"
      ]
    },
    {
      "cell_type": "code",
      "execution_count": null,
      "metadata": {
        "id": "9siikLqVDkAq"
      },
      "outputs": [],
      "source": [
        "# I <3 list comprehensions!\n",
        "[ 2*x for x in range(20,24) ]"
      ]
    },
    {
      "cell_type": "code",
      "execution_count": null,
      "metadata": {
        "id": "D3xqoTL4DkAq"
      },
      "outputs": [],
      "source": [
        "#\n",
        "# Here is an example that uses list comprehensions to\n",
        "# count how many of the first 1000 integers are even\n",
        "\n",
        "LC = [ x for x in range(1000) if x % 2 == 0 ]\n",
        "print(f\"LC = {LC}\")\n",
        "print()\n",
        "\n",
        "answer = len(LC)\n",
        "print(f\"answer = {answer}\")\n"
      ]
    },
    {
      "cell_type": "markdown",
      "metadata": {
        "id": "sSW6Gr7XDkAq"
      },
      "source": [
        "#### <font color=\"Coral\">Fifth task</font>: &nbsp; <b>LC Challenge</b>\n",
        "\n",
        "Use list comprehensions to find how many of the first 1000 integers, _when squared_, contain the digit 4?\n",
        "+ Remember: ``str(x)`` converts ``x`` to a string\n",
        "\n",
        "Then, create a variation of this question -- of your own design -- and answer it! For example,\n",
        "+ what about checking for ``'4'`` and ``'2'`` ?\n",
        "+ what about checking for ``'4'`` or ``'2'`` ?\n",
        "+ even better: something else you've devised!\n",
        "\n",
        "Then , in a sentence-ish, explain your thinking:\n",
        "  + <i>why that question</i>\n",
        "  + <i>how did you answer it computationally?</i>\n",
        "  + <i>does the answer seem reasonable?</i>"
      ]
    },
    {
      "cell_type": "code",
      "source": [
        "count = 0\n",
        "\n",
        "for x in range (1000):\n",
        "  sqr = x**2\n",
        "  if '4' in str(sqr):\n",
        "    count += 1\n",
        "\n",
        "print(count)"
      ],
      "metadata": {
        "id": "fXuetmNecFs8",
        "outputId": "fc999050-143b-4bab-9dc3-131e1e537839",
        "colab": {
          "base_uri": "https://localhost:8080/"
        }
      },
      "execution_count": 9,
      "outputs": [
        {
          "output_type": "stream",
          "name": "stdout",
          "text": [
            "510\n"
          ]
        }
      ]
    },
    {
      "cell_type": "code",
      "source": [
        "# variation - if the lenght of the square is 5...\n",
        "\n",
        "count = 0\n",
        "\n",
        "for x in range (1000):\n",
        "  sqr = x**2\n",
        "  if len(str(sqr)) == 5:\n",
        "    #print(x)\n",
        "    count += 1\n",
        "\n",
        "print(count)"
      ],
      "metadata": {
        "id": "u4U2sLh3cjcz",
        "outputId": "f9514978-62d2-4028-a743-1032f577586c",
        "colab": {
          "base_uri": "https://localhost:8080/"
        }
      },
      "execution_count": 14,
      "outputs": [
        {
          "output_type": "stream",
          "name": "stdout",
          "text": [
            "\n",
            "217\n"
          ]
        }
      ]
    },
    {
      "cell_type": "markdown",
      "source": [
        "It might be interesting to manipulate the length instead of the content, so I change the if statemnt a little and used comparision. It does seem like a reasonable answer as I also tested that from 100 to 316, the square of it is 5 digit.  "
      ],
      "metadata": {
        "id": "s0bFv9Ddcx7s"
      }
    },
    {
      "cell_type": "code",
      "execution_count": 15,
      "metadata": {
        "id": "NYZlx_mSDkAq",
        "outputId": "f8028251-6624-4f93-c6c1-373bc012536e",
        "colab": {
          "base_uri": "https://localhost:8080/",
          "height": 35
        }
      },
      "outputs": [
        {
          "output_type": "execute_result",
          "data": {
            "text/plain": [
              "'/content'"
            ],
            "application/vnd.google.colaboratory.intrinsic+json": {
              "type": "string"
            }
          },
          "metadata": {},
          "execution_count": 15
        }
      ],
      "source": [
        "# remember pwd? It's short for \"print working directory\"  (that is, your current folder)\n",
        "# It's a shell command, i.e., to be run at the terminal or command-line (or shell).\n",
        "\n",
        "# Since this is not python, python needs to know it's a special command:  %pwd does the trick\n",
        "%pwd"
      ]
    },
    {
      "cell_type": "code",
      "execution_count": 16,
      "metadata": {
        "id": "vZcFAD0xDkAq",
        "outputId": "57a36d2f-29db-425c-c086-5078127480a7",
        "colab": {
          "base_uri": "https://localhost:8080/"
        }
      },
      "outputs": [
        {
          "output_type": "stream",
          "name": "stdout",
          "text": [
            "\u001b[0m\u001b[01;34msample_data\u001b[0m/\n"
          ]
        }
      ],
      "source": [
        "# Another important shell command:  ls (lists contents)\n",
        "%ls"
      ]
    },
    {
      "cell_type": "code",
      "execution_count": 17,
      "metadata": {
        "id": "i2NYKhn9DkAq",
        "outputId": "1ff56b4f-4d3f-4ea1-bbef-b374dbbaec81",
        "colab": {
          "base_uri": "https://localhost:8080/"
        }
      },
      "outputs": [
        {
          "output_type": "stream",
          "name": "stdout",
          "text": [
            "[Errno 2] No such file or directory: 'intro_first'\n",
            "/content\n"
          ]
        }
      ],
      "source": [
        "# the following cell shows cd, changing the current directory.\n",
        "# We will also try cd .. (to \"move up\" one level)\n",
        "\n",
        "# WARNING:  when cd does work, the _whole notebook_ has changed what it considers\n",
        "#           its \"current directory\"  You'll see this here:\n",
        "%cd intro_first"
      ]
    },
    {
      "cell_type": "code",
      "execution_count": 18,
      "metadata": {
        "id": "BbsNDJvNDkAq",
        "outputId": "bef64c0f-a936-4da1-834d-0301cc9ad2d0",
        "colab": {
          "base_uri": "https://localhost:8080/"
        }
      },
      "outputs": [
        {
          "output_type": "stream",
          "name": "stdout",
          "text": [
            "/\n"
          ]
        }
      ],
      "source": [
        "# And, we need to be able to move \"up\" or \"outward\"!\n",
        "# To do this, use   cd ..     Here, in jupyter:\n",
        "\n",
        "%cd .."
      ]
    },
    {
      "cell_type": "code",
      "execution_count": 19,
      "metadata": {
        "id": "AF1bK3ahDkAq",
        "outputId": "0ded44f1-79bf-4c4f-d211-f4cc093e42f2",
        "colab": {
          "base_uri": "https://localhost:8080/"
        }
      },
      "outputs": [
        {
          "output_type": "stream",
          "name": "stdout",
          "text": [
            "/\n"
          ]
        }
      ],
      "source": [
        "# we can keep going!   cd .. \"goes up\" one directory level\n",
        "%cd .."
      ]
    },
    {
      "cell_type": "code",
      "execution_count": 20,
      "metadata": {
        "id": "Fol2wm3cDkAq",
        "outputId": "e841322e-1994-4c78-d1dc-33a20228dd6d",
        "colab": {
          "base_uri": "https://localhost:8080/",
          "height": 35
        }
      },
      "outputs": [
        {
          "output_type": "execute_result",
          "data": {
            "text/plain": [
              "'/'"
            ],
            "application/vnd.google.colaboratory.intrinsic+json": {
              "type": "string"
            }
          },
          "metadata": {},
          "execution_count": 20
        }
      ],
      "source": [
        "# you don't need a new cell each time...\n",
        "%pwd"
      ]
    },
    {
      "cell_type": "code",
      "execution_count": 21,
      "metadata": {
        "id": "iCNpfKJlDkAq"
      },
      "outputs": [],
      "source": [
        "# Really, each notebook cell is a script, sharing state with the others\n",
        "\n",
        "# Here, our code is guarded by an if True:\n",
        "\n",
        "if False:\n",
        "    print(f\"It was True!\")\n",
        "\n",
        "# try changing the True to False.\n",
        "# There's no need to change the printing, because it won't print...\n",
        "\n",
        "# When submitting notebooks, we ask you to submit notebooks that run...\n",
        "# However, feel free to keep any+all non-running code! Simply comment it out\n",
        "# For example, with if False:\n",
        "# hashtags and \"\"\" triple-quoted strings \"\"\" also work ...\n",
        "# ... though they lose the code-structure and syntax highlighting! (As you see! :-)"
      ]
    },
    {
      "cell_type": "code",
      "execution_count": 22,
      "metadata": {
        "id": "Fj9hL_l6DkAq",
        "outputId": "2a9ba2be-a726-4caa-e2d8-dd627bddee2b",
        "colab": {
          "base_uri": "https://localhost:8080/"
        }
      },
      "outputs": [
        {
          "output_type": "execute_result",
          "data": {
            "text/plain": [
              "42"
            ]
          },
          "metadata": {},
          "execution_count": 22
        }
      ],
      "source": [
        "# reminder: in each cell (script) all lines are run; only the last line is output\n",
        "y = 58\n",
        "x = y-7\n",
        "x = x-1\n",
        "x = x-8\n",
        "x"
      ]
    },
    {
      "cell_type": "code",
      "execution_count": 23,
      "metadata": {
        "id": "7Zl0eWvZDkAq",
        "outputId": "1904456e-2b4b-44c1-d29f-45778ab0460b",
        "colab": {
          "base_uri": "https://localhost:8080/"
        }
      },
      "outputs": [
        {
          "output_type": "execute_result",
          "data": {
            "text/plain": [
              "58"
            ]
          },
          "metadata": {},
          "execution_count": 23
        }
      ],
      "source": [
        "# BEWARE:  Variables are global through the notebook!\n",
        "# Here, y will be 58, from the cell above... if you've run that cell!\n",
        "y"
      ]
    },
    {
      "cell_type": "markdown",
      "metadata": {
        "id": "3fzywE6kDkAq"
      },
      "source": [
        "#### Let's function!  A first example, `plus1` and  its tests..."
      ]
    },
    {
      "cell_type": "code",
      "execution_count": null,
      "metadata": {
        "id": "VRpOBVjaDkAq"
      },
      "outputs": [],
      "source": [
        "# a good starting point!\n",
        "\n",
        "def plus1( N ):\n",
        "    \"\"\" returns a number one larger than its input \"\"\"\n",
        "    return N+1\n",
        "\n",
        "if True:\n",
        "    print(f\"plus1(41) -> {plus1(41)} should be {42}\")\n",
        "    print(f\"plus1(9000) -> {plus1(9000)} should be {9001}\")\n",
        "    assert plus1(41) == 42\n",
        "    assert plus1(9000) == 9001\n",
        "\n",
        "# print tests succeed and fail \"out loud\"\n",
        "# assert tests succeed silently and only fail \"out loud\" (and crash!)"
      ]
    },
    {
      "cell_type": "markdown",
      "metadata": {
        "id": "_mvNZ6FoDkAq"
      },
      "source": [
        "### Let's loop!\n",
        "\n",
        "Below,\n",
        "+ run this infinite loop - a while loop\n",
        "+ practice using the \"Interrupt\" (the square at the upper left of the cell) to kill it\n",
        "+ then, use the three-dots menu at the lower left to delete the cell's output...\n"
      ]
    },
    {
      "cell_type": "code",
      "execution_count": 24,
      "metadata": {
        "id": "WPWcQHztDkAq",
        "outputId": "9d433419-247a-4554-f0e4-b867bfb6159f",
        "colab": {
          "base_uri": "https://localhost:8080/",
          "height": 420
        }
      },
      "outputs": [
        {
          "output_type": "stream",
          "name": "stdout",
          "text": [
            "Start!\n",
            "0 1 2 3 4 5 6 7 8 9 10 11 12 13 14 15 16 17 18 19 20 21 22 23 24 25 26 27 28 29 30 31 32 33 34 35 36 37 38 39 40 41 42 43 44 45 46 47 48 49 50 51 52 53 54 55 56 57 58 59 60 61 62 63 64 65 66 67 68 69 70 71 72 73 74 75 76 77 78 79 80 81 82 83 84 85 86 87 88 89 90 91 92 93 94 95 96 97 98 99 100 101 102 103 104 105 106 107 108 109 110 111 112 113 114 115 116 117 118 119 120 121 122 123 124 125 126 127 128 129 130 131 132 133 134 135 136 137 138 139 140 141 142 143 144 145 146 147 148 149 150 151 152 153 154 155 156 157 158 159 160 161 162 163 164 165 166 167 168 169 170 171 172 173 174 175 176 177 178 179 180 181 182 183 184 185 186 187 188 189 190 191 192 193 194 195 196 197 198 199 200 201 202 203 204 205 206 207 208 209 210 211 212 213 214 215 216 217 218 219 220 221 222 223 224 225 226 227 228 229 230 231 232 233 234 235 236 237 238 239 240 241 242 243 244 245 246 247 248 249 250 251 252 253 254 255 256 257 258 259 260 261 262 263 264 265 266 267 268 269 270 271 272 273 274 275 276 277 278 279 280 281 282 283 284 285 286 287 288 289 290 291 292 293 294 295 296 297 298 299 300 301 302 303 304 305 306 307 308 309 310 311 312 313 314 315 316 317 318 319 320 321 322 323 324 325 326 327 328 329 330 331 332 333 334 335 336 337 338 339 340 341 342 343 344 345 346 347 348 349 350 351 352 353 354 355 356 357 358 359 360 361 362 363 364 365 366 367 368 369 370 371 372 373 374 375 376 377 378 379 380 381 382 383 384 385 386 387 388 389 390 391 392 393 394 395 396 397 398 399 400 401 402 403 404 405 406 407 408 409 410 411 412 413 414 415 416 417 418 419 420 421 422 423 424 425 426 427 428 429 430 431 432 433 434 435 436 437 438 439 440 441 442 443 444 445 446 447 448 449 450 451 452 453 454 455 456 457 458 459 460 461 462 463 464 465 466 467 468 469 470 471 472 473 474 475 476 477 478 479 480 481 482 483 484 485 486 487 488 489 490 491 492 493 494 495 496 497 498 499 500 501 502 503 504 505 506 507 508 509 510 511 512 513 514 515 516 517 518 519 520 521 522 523 524 525 526 527 528 529 530 531 532 533 534 535 536 537 538 539 540 541 542 543 544 545 546 547 548 549 550 551 552 553 554 555 556 557 558 559 560 561 562 563 564 565 566 567 568 569 570 571 572 573 574 575 576 577 578 579 580 581 582 583 584 585 586 587 588 589 590 591 592 593 594 595 596 597 598 599 600 601 602 603 604 605 606 607 608 609 610 611 612 613 614 615 616 617 618 619 620 621 622 623 624 625 626 627 628 629 630 631 632 633 634 635 636 637 638 639 640 641 642 643 644 645 646 647 648 649 650 651 652 653 654 655 656 657 658 659 660 661 662 663 664 665 666 667 668 669 670 671 672 673 674 675 676 677 678 679 680 681 682 683 684 685 686 687 688 689 690 691 692 693 694 695 696 697 698 699 700 701 702 703 704 705 706 707 708 709 710 711 712 713 714 715 716 717 718 719 720 721 722 723 724 725 726 727 728 729 730 731 732 733 734 735 736 737 738 739 740 741 742 743 744 745 746 747 748 749 750 751 752 753 754 755 756 757 758 759 760 761 762 763 764 765 766 767 768 769 770 771 772 773 774 775 776 777 778 779 780 781 782 783 784 785 786 787 788 789 790 791 792 793 794 795 796 797 798 799 800 801 802 803 804 805 806 807 808 809 810 811 812 813 814 815 816 817 818 819 820 821 822 823 824 825 826 827 828 829 830 831 832 833 834 835 836 837 838 839 840 841 842 843 844 845 846 847 848 849 850 851 852 853 854 855 856 857 858 859 860 861 862 863 864 865 866 867 868 869 870 871 872 873 874 875 876 877 878 879 880 881 882 883 884 885 886 887 888 889 890 891 892 893 894 895 896 897 898 899 900 901 902 903 904 905 906 907 908 909 910 911 912 913 914 915 916 917 918 919 920 921 922 923 924 925 926 927 928 929 930 931 932 933 934 935 936 937 938 939 940 941 942 943 944 945 946 947 948 949 950 951 952 953 954 955 956 957 958 959 960 961 962 963 964 965 966 967 968 969 970 971 972 973 974 975 976 977 978 979 980 981 982 983 984 985 986 987 988 989 990 991 992 993 994 995 996 997 998 999 1000 1001 1002 1003 1004 1005 1006 1007 1008 1009 1010 1011 1012 1013 1014 1015 1016 1017 1018 1019 1020 1021 1022 1023 1024 1025 1026 1027 1028 1029 1030 1031 1032 1033 1034 1035 1036 1037 1038 1039 1040 1041 1042 1043 1044 1045 1046 1047 1048 1049 1050 1051 1052 1053 1054 1055 1056 1057 1058 1059 1060 1061 1062 1063 1064 1065 1066 1067 1068 1069 1070 1071 1072 1073 1074 1075 1076 1077 1078 1079 1080 1081 1082 1083 1084 1085 1086 1087 1088 1089 1090 1091 1092 1093 1094 1095 1096 1097 1098 1099 1100 1101 1102 1103 1104 1105 1106 1107 1108 1109 1110 1111 1112 1113 1114 1115 1116 1117 1118 1119 1120 1121 1122 1123 1124 1125 1126 1127 1128 1129 1130 1131 1132 1133 1134 1135 1136 1137 1138 1139 1140 1141 1142 1143 1144 1145 1146 1147 1148 1149 1150 1151 1152 1153 1154 1155 1156 1157 1158 1159 1160 1161 1162 1163 1164 1165 1166 1167 1168 1169 1170 1171 1172 1173 1174 1175 1176 1177 1178 1179 1180 1181 1182 1183 1184 1185 1186 1187 1188 1189 1190 1191 1192 1193 1194 1195 1196 1197 1198 1199 1200 1201 1202 1203 1204 1205 1206 1207 1208 1209 1210 1211 1212 1213 1214 1215 1216 1217 1218 1219 1220 1221 1222 1223 1224 1225 1226 1227 1228 1229 1230 1231 1232 1233 1234 1235 1236 1237 1238 1239 1240 1241 1242 1243 1244 1245 1246 1247 1248 1249 1250 1251 1252 1253 1254 1255 1256 1257 1258 1259 1260 1261 1262 1263 1264 1265 1266 1267 1268 1269 1270 1271 1272 1273 1274 1275 1276 1277 1278 1279 1280 1281 1282 1283 1284 1285 1286 1287 1288 1289 1290 1291 1292 1293 1294 1295 1296 1297 1298 1299 1300 1301 1302 1303 1304 1305 1306 1307 1308 1309 1310 1311 1312 1313 1314 1315 1316 1317 1318 1319 1320 1321 1322 1323 1324 1325 1326 1327 1328 1329 1330 1331 1332 1333 1334 1335 1336 1337 1338 1339 1340 1341 1342 1343 1344 1345 1346 1347 1348 1349 1350 1351 1352 1353 1354 1355 1356 1357 1358 1359 1360 1361 1362 1363 1364 1365 1366 1367 1368 1369 1370 1371 1372 1373 1374 1375 1376 1377 1378 1379 1380 1381 1382 1383 1384 1385 1386 1387 1388 1389 1390 1391 1392 1393 1394 1395 1396 1397 1398 1399 1400 1401 1402 1403 1404 1405 1406 1407 1408 1409 1410 1411 1412 1413 1414 1415 1416 1417 1418 1419 1420 1421 1422 1423 1424 1425 1426 1427 1428 1429 1430 1431 1432 1433 1434 1435 1436 1437 1438 1439 1440 1441 1442 1443 1444 1445 1446 1447 1448 1449 1450 1451 1452 1453 1454 1455 1456 1457 1458 1459 1460 1461 1462 1463 1464 1465 1466 1467 1468 1469 1470 1471 1472 1473 1474 1475 1476 1477 1478 1479 1480 1481 1482 1483 1484 1485 1486 1487 1488 1489 1490 1491 1492 1493 1494 1495 1496 1497 1498 1499 1500 1501 1502 1503 1504 1505 1506 1507 1508 1509 1510 1511 1512 1513 1514 1515 1516 1517 1518 1519 1520 1521 1522 1523 1524 1525 1526 1527 1528 1529 1530 1531 1532 1533 1534 1535 1536 1537 1538 1539 1540 1541 1542 1543 1544 1545 1546 1547 1548 1549 1550 1551 1552 1553 1554 1555 1556 1557 1558 1559 1560 1561 1562 1563 1564 1565 1566 1567 1568 1569 1570 1571 1572 1573 1574 1575 1576 1577 1578 1579 1580 1581 1582 1583 1584 1585 1586 1587 1588 1589 1590 1591 1592 1593 1594 1595 1596 1597 1598 1599 1600 1601 1602 1603 1604 1605 1606 1607 1608 1609 1610 1611 1612 1613 1614 1615 1616 1617 1618 1619 1620 1621 1622 1623 1624 1625 1626 1627 1628 1629 1630 1631 1632 1633 1634 1635 1636 1637 1638 1639 1640 1641 1642 1643 1644 1645 1646 1647 1648 1649 1650 1651 1652 1653 1654 1655 1656 1657 1658 1659 1660 1661 1662 1663 1664 1665 1666 1667 1668 1669 1670 1671 1672 1673 1674 1675 1676 1677 1678 1679 1680 1681 1682 1683 1684 1685 1686 1687 1688 1689 1690 1691 1692 1693 1694 1695 1696 1697 1698 1699 1700 1701 1702 1703 1704 1705 1706 1707 1708 1709 1710 1711 1712 1713 1714 1715 1716 1717 1718 1719 1720 1721 1722 1723 1724 1725 1726 1727 1728 1729 1730 1731 1732 1733 1734 1735 1736 1737 1738 1739 1740 1741 1742 1743 1744 1745 1746 1747 1748 1749 1750 1751 1752 1753 1754 1755 1756 1757 1758 1759 1760 1761 1762 1763 1764 1765 1766 1767 1768 1769 1770 1771 1772 1773 1774 1775 1776 1777 1778 1779 1780 1781 1782 1783 1784 1785 1786 1787 1788 1789 1790 1791 1792 1793 1794 1795 1796 1797 1798 1799 1800 1801 1802 1803 1804 1805 1806 1807 1808 1809 1810 1811 1812 1813 1814 1815 1816 1817 1818 1819 1820 1821 1822 1823 1824 1825 1826 1827 1828 1829 1830 1831 1832 1833 1834 1835 1836 1837 1838 1839 1840 1841 1842 1843 1844 1845 1846 1847 1848 1849 1850 1851 1852 1853 1854 1855 1856 1857 1858 1859 1860 1861 1862 1863 1864 1865 1866 1867 1868 1869 1870 1871 1872 1873 1874 1875 1876 1877 1878 1879 1880 1881 1882 1883 1884 1885 1886 1887 1888 1889 1890 1891 1892 1893 1894 1895 1896 1897 1898 1899 1900 1901 1902 1903 1904 1905 1906 1907 1908 1909 1910 1911 1912 1913 1914 1915 1916 1917 1918 1919 1920 1921 1922 1923 1924 1925 1926 1927 1928 1929 1930 1931 1932 1933 1934 1935 1936 1937 1938 1939 1940 1941 1942 1943 1944 1945 1946 1947 1948 1949 1950 1951 1952 1953 1954 1955 1956 1957 1958 1959 1960 1961 1962 1963 1964 1965 1966 1967 1968 1969 1970 1971 1972 1973 1974 1975 1976 1977 1978 1979 1980 1981 1982 1983 1984 1985 1986 1987 1988 1989 1990 1991 1992 1993 1994 1995 1996 1997 1998 1999 2000 2001 2002 2003 2004 2005 2006 2007 2008 2009 2010 2011 2012 2013 2014 2015 2016 2017 2018 2019 2020 2021 2022 2023 2024 2025 2026 2027 2028 2029 2030 2031 2032 2033 2034 2035 2036 2037 2038 2039 2040 2041 2042 2043 2044 2045 2046 2047 2048 2049 2050 2051 2052 2053 2054 2055 2056 2057 2058 2059 2060 2061 2062 2063 2064 2065 2066 2067 2068 2069 2070 2071 2072 2073 2074 2075 2076 2077 2078 2079 2080 2081 2082 2083 2084 2085 2086 2087 2088 2089 2090 2091 2092 2093 2094 2095 2096 2097 2098 2099 2100 2101 2102 2103 2104 2105 2106 2107 2108 2109 2110 2111 2112 2113 2114 2115 2116 2117 2118 2119 2120 2121 2122 2123 2124 2125 2126 2127 2128 2129 2130 2131 2132 2133 2134 2135 2136 2137 2138 2139 2140 2141 2142 2143 2144 2145 2146 2147 2148 2149 2150 2151 2152 2153 2154 2155 2156 2157 2158 2159 2160 2161 2162 2163 2164 2165 2166 2167 2168 2169 2170 2171 2172 2173 2174 2175 2176 2177 2178 2179 2180 2181 "
          ]
        },
        {
          "output_type": "error",
          "ename": "KeyboardInterrupt",
          "evalue": "",
          "traceback": [
            "\u001b[0;31m---------------------------------------------------------------------------\u001b[0m",
            "\u001b[0;31mKeyboardInterrupt\u001b[0m                         Traceback (most recent call last)",
            "\u001b[0;32m<ipython-input-24-b51bf97d9955>\u001b[0m in \u001b[0;36m<cell line: 0>\u001b[0;34m()\u001b[0m\n\u001b[1;32m      7\u001b[0m \u001b[0;34m\u001b[0m\u001b[0m\n\u001b[1;32m      8\u001b[0m \u001b[0;32mwhile\u001b[0m \u001b[0;32mTrue\u001b[0m\u001b[0;34m:\u001b[0m\u001b[0;34m\u001b[0m\u001b[0;34m\u001b[0m\u001b[0m\n\u001b[0;32m----> 9\u001b[0;31m     \u001b[0mprint\u001b[0m\u001b[0;34m(\u001b[0m\u001b[0mi\u001b[0m\u001b[0;34m,\u001b[0m \u001b[0mend\u001b[0m\u001b[0;34m=\u001b[0m\u001b[0;34m\" \"\u001b[0m\u001b[0;34m,\u001b[0m \u001b[0mflush\u001b[0m\u001b[0;34m=\u001b[0m\u001b[0;32mTrue\u001b[0m\u001b[0;34m)\u001b[0m\u001b[0;34m\u001b[0m\u001b[0;34m\u001b[0m\u001b[0m\n\u001b[0m\u001b[1;32m     10\u001b[0m     \u001b[0mi\u001b[0m \u001b[0;34m=\u001b[0m \u001b[0mi\u001b[0m\u001b[0;34m+\u001b[0m\u001b[0;36m1\u001b[0m\u001b[0;34m\u001b[0m\u001b[0;34m\u001b[0m\u001b[0m\n\u001b[1;32m     11\u001b[0m \u001b[0;34m\u001b[0m\u001b[0m\n",
            "\u001b[0;32m/usr/local/lib/python3.11/dist-packages/ipykernel/iostream.py\u001b[0m in \u001b[0;36mflush\u001b[0;34m(self)\u001b[0m\n\u001b[1;32m    348\u001b[0m                 \u001b[0mself\u001b[0m\u001b[0;34m.\u001b[0m\u001b[0mpub_thread\u001b[0m\u001b[0;34m.\u001b[0m\u001b[0mschedule\u001b[0m\u001b[0;34m(\u001b[0m\u001b[0mevt\u001b[0m\u001b[0;34m.\u001b[0m\u001b[0mset\u001b[0m\u001b[0;34m)\u001b[0m\u001b[0;34m\u001b[0m\u001b[0;34m\u001b[0m\u001b[0m\n\u001b[1;32m    349\u001b[0m                 \u001b[0;31m# and give a timeout to avoid\u001b[0m\u001b[0;34m\u001b[0m\u001b[0;34m\u001b[0m\u001b[0m\n\u001b[0;32m--> 350\u001b[0;31m                 \u001b[0;32mif\u001b[0m \u001b[0;32mnot\u001b[0m \u001b[0mevt\u001b[0m\u001b[0;34m.\u001b[0m\u001b[0mwait\u001b[0m\u001b[0;34m(\u001b[0m\u001b[0mself\u001b[0m\u001b[0;34m.\u001b[0m\u001b[0mflush_timeout\u001b[0m\u001b[0;34m)\u001b[0m\u001b[0;34m:\u001b[0m\u001b[0;34m\u001b[0m\u001b[0;34m\u001b[0m\u001b[0m\n\u001b[0m\u001b[1;32m    351\u001b[0m                     \u001b[0;31m# write directly to __stderr__ instead of warning because\u001b[0m\u001b[0;34m\u001b[0m\u001b[0;34m\u001b[0m\u001b[0m\n\u001b[1;32m    352\u001b[0m                     \u001b[0;31m# if this is happening sys.stderr may be the problem.\u001b[0m\u001b[0;34m\u001b[0m\u001b[0;34m\u001b[0m\u001b[0m\n",
            "\u001b[0;32m/usr/lib/python3.11/threading.py\u001b[0m in \u001b[0;36mwait\u001b[0;34m(self, timeout)\u001b[0m\n\u001b[1;32m    627\u001b[0m             \u001b[0msignaled\u001b[0m \u001b[0;34m=\u001b[0m \u001b[0mself\u001b[0m\u001b[0;34m.\u001b[0m\u001b[0m_flag\u001b[0m\u001b[0;34m\u001b[0m\u001b[0;34m\u001b[0m\u001b[0m\n\u001b[1;32m    628\u001b[0m             \u001b[0;32mif\u001b[0m \u001b[0;32mnot\u001b[0m \u001b[0msignaled\u001b[0m\u001b[0;34m:\u001b[0m\u001b[0;34m\u001b[0m\u001b[0;34m\u001b[0m\u001b[0m\n\u001b[0;32m--> 629\u001b[0;31m                 \u001b[0msignaled\u001b[0m \u001b[0;34m=\u001b[0m \u001b[0mself\u001b[0m\u001b[0;34m.\u001b[0m\u001b[0m_cond\u001b[0m\u001b[0;34m.\u001b[0m\u001b[0mwait\u001b[0m\u001b[0;34m(\u001b[0m\u001b[0mtimeout\u001b[0m\u001b[0;34m)\u001b[0m\u001b[0;34m\u001b[0m\u001b[0;34m\u001b[0m\u001b[0m\n\u001b[0m\u001b[1;32m    630\u001b[0m             \u001b[0;32mreturn\u001b[0m \u001b[0msignaled\u001b[0m\u001b[0;34m\u001b[0m\u001b[0;34m\u001b[0m\u001b[0m\n\u001b[1;32m    631\u001b[0m \u001b[0;34m\u001b[0m\u001b[0m\n",
            "\u001b[0;32m/usr/lib/python3.11/threading.py\u001b[0m in \u001b[0;36mwait\u001b[0;34m(self, timeout)\u001b[0m\n\u001b[1;32m    329\u001b[0m             \u001b[0;32melse\u001b[0m\u001b[0;34m:\u001b[0m\u001b[0;34m\u001b[0m\u001b[0;34m\u001b[0m\u001b[0m\n\u001b[1;32m    330\u001b[0m                 \u001b[0;32mif\u001b[0m \u001b[0mtimeout\u001b[0m \u001b[0;34m>\u001b[0m \u001b[0;36m0\u001b[0m\u001b[0;34m:\u001b[0m\u001b[0;34m\u001b[0m\u001b[0;34m\u001b[0m\u001b[0m\n\u001b[0;32m--> 331\u001b[0;31m                     \u001b[0mgotit\u001b[0m \u001b[0;34m=\u001b[0m \u001b[0mwaiter\u001b[0m\u001b[0;34m.\u001b[0m\u001b[0macquire\u001b[0m\u001b[0;34m(\u001b[0m\u001b[0;32mTrue\u001b[0m\u001b[0;34m,\u001b[0m \u001b[0mtimeout\u001b[0m\u001b[0;34m)\u001b[0m\u001b[0;34m\u001b[0m\u001b[0;34m\u001b[0m\u001b[0m\n\u001b[0m\u001b[1;32m    332\u001b[0m                 \u001b[0;32melse\u001b[0m\u001b[0;34m:\u001b[0m\u001b[0;34m\u001b[0m\u001b[0;34m\u001b[0m\u001b[0m\n\u001b[1;32m    333\u001b[0m                     \u001b[0mgotit\u001b[0m \u001b[0;34m=\u001b[0m \u001b[0mwaiter\u001b[0m\u001b[0;34m.\u001b[0m\u001b[0macquire\u001b[0m\u001b[0;34m(\u001b[0m\u001b[0;32mFalse\u001b[0m\u001b[0;34m)\u001b[0m\u001b[0;34m\u001b[0m\u001b[0;34m\u001b[0m\u001b[0m\n",
            "\u001b[0;31mKeyboardInterrupt\u001b[0m: "
          ]
        }
      ],
      "source": [
        "#\n",
        "# An infinite loop...\n",
        "#\n",
        "\n",
        "print(f\"Start!\")\n",
        "i = 0\n",
        "\n",
        "while True:\n",
        "    print(i, end=\" \", flush=True)\n",
        "    i = i+1\n",
        "\n",
        "print(f\"End.\")\n"
      ]
    },
    {
      "cell_type": "markdown",
      "metadata": {
        "id": "a6Cjl46XDkAq"
      },
      "source": [
        "#### For-loop reminders...."
      ]
    },
    {
      "cell_type": "code",
      "execution_count": 25,
      "metadata": {
        "id": "3tsT_rpPDkAq",
        "outputId": "0a7b169a-e34f-4a8e-e8d8-5e274e61203c",
        "colab": {
          "base_uri": "https://localhost:8080/"
        }
      },
      "outputs": [
        {
          "output_type": "stream",
          "name": "stdout",
          "text": [
            "Poptarts? I'll take 0!\n",
            "Poptarts? I'll take 1!\n",
            "Poptarts? I'll take 2!\n",
            "Poptarts? I'll take 3!\n",
            "Poptarts? I'll take 4!\n"
          ]
        }
      ],
      "source": [
        "#\n",
        "# Let's loop!\n",
        "#\n",
        "\n",
        "snack = \"Poptarts\"\n",
        "\n",
        "for i in range(0,5):\n",
        "        print(f\"{snack}? I'll take {i}!\")"
      ]
    },
    {
      "cell_type": "code",
      "execution_count": 26,
      "metadata": {
        "id": "SdSv8rq-DkAt",
        "outputId": "e8f46621-836b-45dd-b6a4-8558cb670274",
        "colab": {
          "base_uri": "https://localhost:8080/"
        }
      },
      "outputs": [
        {
          "output_type": "stream",
          "name": "stdout",
          "text": [
            "Testing countdown(5):\n",
            "i == 5\n",
            "i == 4\n",
            "i == 3\n",
            "i == 2\n",
            "i == 1\n",
            "i == 0\n"
          ]
        }
      ],
      "source": [
        "# countdown( N )    emphasizes looping and printing (there is no return value!)\n",
        "#\n",
        "import time\n",
        "\n",
        "def countdown( N ):\n",
        "    \"\"\" counts downward from N to 0, printing  \"\"\"\n",
        "    for i in range(N,-1,-1):  # starts at N, ends at 0, steps by -1\n",
        "        print(\"i ==\", i)\n",
        "        time.sleep(0.2)\n",
        "\n",
        "    return    # no return value here!\n",
        "\n",
        "# testing countdown\n",
        "if True:\n",
        "    print(\"Testing countdown(5):\")\n",
        "    countdown(5)  # should print things -- with dramatic pauses!"
      ]
    },
    {
      "cell_type": "markdown",
      "metadata": {
        "id": "630SFsYhDkAt"
      },
      "source": [
        "#### The next cell shows a larger <b>script</b>, which calls the previous two functions:"
      ]
    },
    {
      "cell_type": "code",
      "execution_count": 27,
      "metadata": {
        "id": "H0l7AEL5DkAt",
        "outputId": "71ddf30d-1958-4096-ab21-ada1aa5e203a",
        "colab": {
          "base_uri": "https://localhost:8080/",
          "height": 251
        }
      },
      "outputs": [
        {
          "output_type": "stream",
          "name": "stdout",
          "text": [
            "[[ Start! ]]\n",
            "\n"
          ]
        },
        {
          "output_type": "error",
          "ename": "NameError",
          "evalue": "name 'plus1' is not defined",
          "traceback": [
            "\u001b[0;31m---------------------------------------------------------------------------\u001b[0m",
            "\u001b[0;31mNameError\u001b[0m                                 Traceback (most recent call last)",
            "\u001b[0;32m<ipython-input-27-628a0b20f48c>\u001b[0m in \u001b[0;36m<cell line: 0>\u001b[0;34m()\u001b[0m\n\u001b[1;32m      6\u001b[0m \u001b[0;34m\u001b[0m\u001b[0m\n\u001b[1;32m      7\u001b[0m     \u001b[0;31m# testing plus1\u001b[0m\u001b[0;34m\u001b[0m\u001b[0;34m\u001b[0m\u001b[0m\n\u001b[0;32m----> 8\u001b[0;31m     \u001b[0mresult\u001b[0m \u001b[0;34m=\u001b[0m \u001b[0mplus1\u001b[0m\u001b[0;34m(\u001b[0m \u001b[0;36m41\u001b[0m \u001b[0;34m)\u001b[0m\u001b[0;34m\u001b[0m\u001b[0;34m\u001b[0m\u001b[0m\n\u001b[0m\u001b[1;32m      9\u001b[0m     \u001b[0mprint\u001b[0m\u001b[0;34m(\u001b[0m\u001b[0;34mf\"plus1(41) -> {result}\"\u001b[0m\u001b[0;34m)\u001b[0m\u001b[0;34m\u001b[0m\u001b[0;34m\u001b[0m\u001b[0m\n\u001b[1;32m     10\u001b[0m     \u001b[0mprint\u001b[0m\u001b[0;34m(\u001b[0m\u001b[0;34m)\u001b[0m\u001b[0;34m\u001b[0m\u001b[0;34m\u001b[0m\u001b[0m\n",
            "\u001b[0;31mNameError\u001b[0m: name 'plus1' is not defined"
          ]
        }
      ],
      "source": [
        "if True:\n",
        "    \"\"\" a cell for trying out the previous two cells \"\"\"\n",
        "\n",
        "    # sign on\n",
        "    print(f\"[[ Start! ]]\\n\")\n",
        "\n",
        "    # testing plus1\n",
        "    result = plus1( 41 )\n",
        "    print(f\"plus1(41) -> {result}\")\n",
        "    print()\n",
        "\n",
        "    # testing countdown\n",
        "    print(\"Testing countdown(4):\")\n",
        "    countdown(4)  # should print things -- with dramatic pauses!\n",
        "\n",
        "    # sign off\n",
        "    print(\"\\n[[ Fin. ]]\")"
      ]
    },
    {
      "cell_type": "markdown",
      "metadata": {
        "id": "2OEw-Vs8DkAt"
      },
      "source": [
        "#### The two mystery functions from our in-class exercise:"
      ]
    },
    {
      "cell_type": "code",
      "execution_count": 28,
      "metadata": {
        "id": "G9sqryCdDkAt",
        "outputId": "44014eca-49c2-4fa7-a32c-d2f286d925af",
        "colab": {
          "base_uri": "https://localhost:8080/"
        }
      },
      "outputs": [
        {
          "output_type": "stream",
          "name": "stdout",
          "text": [
            "2\n"
          ]
        }
      ],
      "source": [
        "def mystery1( s ):\n",
        "    \"\"\" mystery function #1 \"\"\"\n",
        "    result = 0\n",
        "\n",
        "    for i in range(len(s)):\n",
        "        if s[i] in 'iI':\n",
        "            result += 1\n",
        "\n",
        "    return result\n",
        "\n",
        "result = mystery1(\"Aliens <3 caffeine\")\n",
        "print(result)"
      ]
    },
    {
      "cell_type": "code",
      "execution_count": 29,
      "metadata": {
        "id": "Bn0XOnTLDkAu",
        "outputId": "728152d2-f7dd-4b4d-eb20-ffe39657ff13",
        "colab": {
          "base_uri": "https://localhost:8080/",
          "height": 323
        }
      },
      "outputs": [
        {
          "output_type": "error",
          "ename": "TypeError",
          "evalue": "unsupported operand type(s) for +=: 'int' and 'str'",
          "traceback": [
            "\u001b[0;31m---------------------------------------------------------------------------\u001b[0m",
            "\u001b[0;31mTypeError\u001b[0m                                 Traceback (most recent call last)",
            "\u001b[0;32m<ipython-input-29-0c9501585de2>\u001b[0m in \u001b[0;36m<cell line: 0>\u001b[0;34m()\u001b[0m\n\u001b[1;32m      9\u001b[0m     \u001b[0;32mreturn\u001b[0m \u001b[0mresult\u001b[0m\u001b[0;34m\u001b[0m\u001b[0;34m\u001b[0m\u001b[0m\n\u001b[1;32m     10\u001b[0m \u001b[0;34m\u001b[0m\u001b[0m\n\u001b[0;32m---> 11\u001b[0;31m \u001b[0mresult\u001b[0m \u001b[0;34m=\u001b[0m \u001b[0mmystery2\u001b[0m\u001b[0;34m(\u001b[0m\u001b[0;34m\"I like caffeine\"\u001b[0m\u001b[0;34m)\u001b[0m\u001b[0;34m\u001b[0m\u001b[0;34m\u001b[0m\u001b[0m\n\u001b[0m\u001b[1;32m     12\u001b[0m \u001b[0mprint\u001b[0m\u001b[0;34m(\u001b[0m\u001b[0mresult\u001b[0m\u001b[0;34m)\u001b[0m\u001b[0;34m\u001b[0m\u001b[0;34m\u001b[0m\u001b[0m\n",
            "\u001b[0;32m<ipython-input-29-0c9501585de2>\u001b[0m in \u001b[0;36mmystery2\u001b[0;34m(s)\u001b[0m\n\u001b[1;32m      5\u001b[0m     \u001b[0;32mfor\u001b[0m \u001b[0mlet\u001b[0m \u001b[0;32min\u001b[0m \u001b[0ms\u001b[0m\u001b[0;34m:\u001b[0m\u001b[0;34m\u001b[0m\u001b[0;34m\u001b[0m\u001b[0m\n\u001b[1;32m      6\u001b[0m         \u001b[0;32mif\u001b[0m \u001b[0mlet\u001b[0m \u001b[0;32min\u001b[0m \u001b[0;34m'iI'\u001b[0m\u001b[0;34m:\u001b[0m\u001b[0;34m\u001b[0m\u001b[0;34m\u001b[0m\u001b[0m\n\u001b[0;32m----> 7\u001b[0;31m             \u001b[0mresult\u001b[0m \u001b[0;34m+=\u001b[0m \u001b[0mlet\u001b[0m\u001b[0;34m\u001b[0m\u001b[0;34m\u001b[0m\u001b[0m\n\u001b[0m\u001b[1;32m      8\u001b[0m \u001b[0;34m\u001b[0m\u001b[0m\n\u001b[1;32m      9\u001b[0m     \u001b[0;32mreturn\u001b[0m \u001b[0mresult\u001b[0m\u001b[0;34m\u001b[0m\u001b[0;34m\u001b[0m\u001b[0m\n",
            "\u001b[0;31mTypeError\u001b[0m: unsupported operand type(s) for +=: 'int' and 'str'"
          ]
        }
      ],
      "source": [
        "def mystery2( s ):\n",
        "    \"\"\" mystery function #2 \"\"\"\n",
        "    result = 0\n",
        "\n",
        "    for let in s:\n",
        "        if let in 'iI':\n",
        "            result += let\n",
        "\n",
        "    return result\n",
        "\n",
        "result = mystery2(\"I like caffeine\")\n",
        "print(result)"
      ]
    },
    {
      "cell_type": "markdown",
      "metadata": {
        "id": "FMMANXBdDkAu"
      },
      "source": [
        "#### Let's show two more functions:  \n",
        "+ ``count_eyes( s )`` and\n",
        "+ ``just_eyes( s )``"
      ]
    },
    {
      "cell_type": "code",
      "execution_count": 30,
      "metadata": {
        "id": "07xHdVJNDkAu",
        "outputId": "87d4110c-4bea-441f-f15f-030274cec97e",
        "colab": {
          "base_uri": "https://localhost:8080/"
        }
      },
      "outputs": [
        {
          "output_type": "stream",
          "name": "stdout",
          "text": [
            "count_eyes('Yiiikes!') = 3\n",
            "count_eyes('Yiiikes!') = 3\n",
            "\n",
            "count_eyes('Italy, icily, livelily!') = 5\n"
          ]
        }
      ],
      "source": [
        "def count_eyes( s ):\n",
        "    \"\"\" returns the number of times i or I appears in the input string s \"\"\"\n",
        "    result = 0\n",
        "\n",
        "    for letter in s:\n",
        "        if letter in 'iI':  #  equivalent:   letter == 'i' or letter == 'I'\n",
        "            result += 1     #  add one to our overall result (our count)\n",
        "\n",
        "    return result           #  AFTER the loop, we're done!\n",
        "\n",
        "print(\"count_eyes('Yiiikes!') =\",count_eyes('Yiiikes!'))\n",
        "print(f\"{count_eyes('Yiiikes!') = }\")   # f-strings ⋮)\n",
        "print()\n",
        "print(f\"{count_eyes('Italy, icily, livelily!') = }\")"
      ]
    },
    {
      "cell_type": "code",
      "execution_count": null,
      "metadata": {
        "id": "V0ROn0yBDkAu"
      },
      "outputs": [],
      "source": [
        "def just_eyes( s ):\n",
        "    \"\"\" returns a string of only the letters i or I that appear in the input s \"\"\"\n",
        "    result = ''\n",
        "\n",
        "    for letter in s:\n",
        "        if letter in 'iI':    #  equivalent:   letter == 'i' or letter == 'I'\n",
        "            result += letter  #  add _the letter_ to our overall result, now a string\n",
        "\n",
        "    return result             #  AFTER the loop, we're done!\n",
        "\n",
        "print(\"just_eyes('Yiiikes!') =\",just_eyes('Yiiikes!'))\n",
        "print(f\"{just_eyes('Yiiikes!') = }\")   # f-strings ⋮)\n",
        "print()\n",
        "print(f\"{just_eyes('Italy, icily, livelily!') = }\")"
      ]
    },
    {
      "cell_type": "code",
      "execution_count": null,
      "metadata": {
        "id": "VYaVQJrJDkAu"
      },
      "outputs": [],
      "source": [
        "def GET_STRING_FROM_FILE(filename=None):\n",
        "    \"\"\" return all of the contents from the file, filename\n",
        "        will error if the file is not present, then return the empty string ''\n",
        "    \"\"\"\n",
        "    try:\n",
        "        if filename == None:  filename = \"input.txt\"\n",
        "        INPUT_FILENAME = filename\n",
        "        INPUT_FILE = open(INPUT_FILENAME, \"r\", encoding='utf-8')    # how to open a file\n",
        "        DATA = INPUT_FILE.read()                                    # and get all its contents\n",
        "        INPUT_FILE.close()                                          # close the file (optional)\n",
        "        #print(DATA)                                                # if we want to see it\n",
        "        return DATA                                                 # definitely want to return it!\n",
        "    except FileNotFoundError:                   # wasn't there\n",
        "        print(f\"file not found: {filename}\")    # print error\n",
        "        return ''                               # return empty string ''\n",
        "\n",
        "# split is a wonderful function, it returns a list.  Try it!\n",
        "INPUT_STRING = GET_STRING_FROM_FILE(\"input.txt\")\n",
        "\n",
        "# Let's print only some of this large string, with all of Shakespeare's sonnets:\n",
        "print(INPUT_STRING[0:200])\n"
      ]
    },
    {
      "cell_type": "markdown",
      "metadata": {
        "id": "4pm9F9ZrDkAu"
      },
      "source": [
        "#### Now, let's test our ``count_eyes`` function on all of the Sonnets:"
      ]
    },
    {
      "cell_type": "code",
      "execution_count": null,
      "metadata": {
        "id": "sgdUj6sZDkAu"
      },
      "outputs": [],
      "source": [
        "INPUT_STRING = GET_STRING_FROM_FILE(\"input.txt\")\n",
        "INPUT_LIST = INPUT_STRING.split(\"\\n\")  # '\\n'\n",
        "\n",
        "for s in INPUT_LIST:                   # Let's test it on each string (line) in our list\n",
        "    inp = s                            # the input\n",
        "    out = count_eyes(inp)              # the output\n",
        "    # print(f\"{inp} -> {out}\")           # print result\n",
        "    print(f\"{inp:>50s} -> {out:<d}\")   # f-strings have formatting options: (> right) (< left)"
      ]
    },
    {
      "cell_type": "markdown",
      "metadata": {
        "id": "_1Tak8e-DkAu"
      },
      "source": [
        "#### Now, let's <i>maximize</i> our ``count_eyes`` across all Sonnet lines:"
      ]
    },
    {
      "cell_type": "code",
      "execution_count": null,
      "metadata": {
        "id": "XGrzOR5lDkAu"
      },
      "outputs": [],
      "source": [
        "INPUT_STRING = GET_STRING_FROM_FILE(\"input.txt\")\n",
        "INPUT_LIST = INPUT_STRING.split(\"\\n\")  # '\\n'\n",
        "\n",
        "AllResults = []\n",
        "\n",
        "for s in INPUT_LIST:                   # Let's test it on each string (line) in our list\n",
        "    inp = s                            # the input\n",
        "    out = count_eyes(inp)              # the output\n",
        "    # print(f\"{inp} -> {out}\")           # print result\n",
        "    print(f\"{inp:>50s} -> {out:<d}\")   # f-strings have formatting options: (> right) (< left)\n",
        "    AllResults.append( [out,inp] )       # append the output and input as a _sublist_\n",
        "\n",
        "maximum_line = max(AllResults)          # take the maximum\n",
        "print(\"The max and maximum line:\", maximum_line)"
      ]
    },
    {
      "cell_type": "markdown",
      "metadata": {
        "id": "OnsO3NG_DkAu"
      },
      "source": [
        "#### Thoughts on the most i-y line:\n",
        "\n",
        "The line with the most 'i's was ``So CS35_Participant_2 lives this and this gives life to thee.``\n",
        "\n",
        "Of all the sonnets, I'm surprised that no line contained more than 5 \"i\"s.\n",
        "\n",
        "But, trying it again looking for 't's, the result was again 5! It was\n",
        "\n",
        "``When in eternal lines to time thou growest:``\n",
        "\n",
        "Maybe 5 is a more reasonable maximum than originally thought. (There are fewer than 50 characters per line, after all...)."
      ]
    },
    {
      "cell_type": "markdown",
      "metadata": {
        "id": "Rg2aqWWIDkAu"
      },
      "source": [
        "#### <b><font color=\"Coral\">Functions</font></b> to write for hw0pr1\n",
        "+ Python's <tt>str</tt> functions are documented at this [str documentation page](https://docs.python.org/3/library/stdtypes.html#text-sequence-type-str)\n",
        "  + find and read over how <tt>split</tt> works... (that way, too, you'll have a feel for the documentation)\n",
        "+ Python's <tt>string</tt> library, used via <tt>import string</tt> is at [the string library documentation page](https://docs.python.org/3/library/string.html)\n",
        "  + this has some useful constants and other capabilities. Most functionality is in the <tt>str</tt> datatype (class)\n",
        "  + not needed but fun: [all of Python's built-in modules](https://docs.python.org/3/py-modindex.html)\n",
        "+ Be sure to include at least two tests that run - and work - for each of these functions."
      ]
    },
    {
      "cell_type": "code",
      "execution_count": null,
      "metadata": {
        "id": "931WNVqbDkAu"
      },
      "outputs": [],
      "source": [
        "#\n",
        "# using python's string library\n",
        "#\n",
        "\n",
        "import string\n",
        "\n",
        "print(string.digits)\n",
        "print(string.punctuation)\n",
        "print(string.ascii_lowercase)"
      ]
    },
    {
      "cell_type": "code",
      "execution_count": null,
      "metadata": {
        "id": "R-J-kekkDkAu"
      },
      "outputs": [],
      "source": [
        "# plus1, countdown, count_eyes, and just_eyes are already complete :-)"
      ]
    },
    {
      "cell_type": "code",
      "execution_count": 31,
      "metadata": {
        "id": "MkHdARNLDkAu"
      },
      "outputs": [],
      "source": [
        "#\n",
        "# times42( s ):      \twhich should print the string s 42 times (on separate lines)\n",
        "#\n",
        "\n",
        "def times42( s ):\n",
        "    ''' print a string, s, 42 times\n",
        "    '''\n",
        "    for i in range (42):\n",
        "      print(s)\n",
        "    pass"
      ]
    },
    {
      "cell_type": "code",
      "execution_count": 38,
      "metadata": {
        "id": "cmSaM3uvDkAu"
      },
      "outputs": [],
      "source": [
        "#\n",
        "# alien( N ):          \twhich should return the string \"aliii...iiien\" with exactly N \"i\"s\n",
        "#\n",
        "\n",
        "def alien( N ):\n",
        "    ''' return N number of \"i\"s\n",
        "    '''\n",
        "    for i in range (N):\n",
        "        new = \"al\" + N*\"i\" +\"en\"\n",
        "    return (new)"
      ]
    },
    {
      "cell_type": "code",
      "execution_count": 5,
      "metadata": {
        "id": "vwgWQi39DkAu"
      },
      "outputs": [],
      "source": [
        "#\n",
        "# count_digits( s ):   returns the number of digits in the input string s\n",
        "#\n",
        "\n",
        "def count_digits( s ):\n",
        "    '''return number of digit of s'''\n",
        "    count = 0\n",
        "    for i in s:\n",
        "      if i.isdigit():\n",
        "        count += 1\n",
        "    return count"
      ]
    },
    {
      "cell_type": "code",
      "execution_count": 4,
      "metadata": {
        "id": "k9zmNbyIDkAu",
        "outputId": "fc3adba6-fc4e-4dfc-ca1d-7f864ad22951",
        "colab": {
          "base_uri": "https://localhost:8080/"
        }
      },
      "outputs": [
        {
          "output_type": "stream",
          "name": "stdout",
          "text": [
            "12345\n"
          ]
        }
      ],
      "source": [
        "#\n",
        "# just_digits( s ):   returns only the digits in the input string s\n",
        "#\n",
        "\n",
        "def just_digits( s ):\n",
        "    ''' return just eh digits of s'''\n",
        "    new = ''\n",
        "    for i in s:\n",
        "      if i.isdigit():\n",
        "        new += i\n",
        "    return new"
      ]
    },
    {
      "cell_type": "code",
      "execution_count": 6,
      "metadata": {
        "id": "s_i2ogDUDkAu",
        "outputId": "817c3438-5a9b-4dd4-dfa7-42d3c4e8239b",
        "colab": {
          "base_uri": "https://localhost:8080/"
        }
      },
      "outputs": [
        {
          "output_type": "stream",
          "name": "stdout",
          "text": [
            "jdff  dfdf\n"
          ]
        }
      ],
      "source": [
        "#\n",
        "# just_text( s ):   returns a new version of s, where\n",
        "#                    everything has been lower-cased, and\n",
        "#                    all non-letters and non-spaces have been removed\n",
        "#                    (that is, just keep the \"text\")\n",
        "#\n",
        "#                    Hint: s.lower() returns an all lower-case version of s\n",
        "\n",
        "def just_text( s ):\n",
        "    f''' f-docstrings are allowed, too :)\n",
        "         be sure to include a docstring here!\n",
        "    '''\n",
        "    new = s.lower()\n",
        "    for i in new:\n",
        "      if not i.isalpha() and not i.isspace():\n",
        "        new = new.replace(i,'')\n",
        "    return new"
      ]
    },
    {
      "cell_type": "markdown",
      "metadata": {
        "id": "O32D5nHfDkAv"
      },
      "source": [
        "#### Then, add two functions that you brainstorm, implement, and test...\n",
        "\n",
        "Here are a couple of examples - one of mine and one from a prior cs35 - to help the brainstorming.\n",
        "\n",
        "The key is that yours should be, well, yours! That is, something that would only have been created by you/your team -- explain the reasoning, the process you went through, and the process that ended up working.\n",
        "\n",
        "Here, both algorithmic creativity and content creativity are equally the goal. That said, the aim is 15-20 minutes. (Remember you can always adapt the individualized outcome you're aiming for!)\n"
      ]
    },
    {
      "cell_type": "code",
      "source": [
        "# my functions:\n",
        "\n",
        "def lemon(s):\n",
        "    \"\"\" return the amount of the word lemon from string s\n",
        "    for instance, you need 2 l,e,m,o, and n. to make 2 lemons\n",
        "    \"\"\"\n",
        "\n",
        "    lemon_tree = {'l':0, 'e':0, 'm':0, 'o':0, 'n':0}\n",
        "    s = just_text(s)\n",
        "    for i in s:\n",
        "      if i in lemon_tree:\n",
        "        lemon_tree[i] += 1\n",
        "\n",
        "    num_lemon = min(lemon_tree.values())\n",
        "    return num_lemon\n",
        "\n",
        "print(lemon(\"lemon, lemon, and lemons\")) #Should return 3\n",
        "print(lemon(\"Lemons are tasty, but my mom does not makes the best lime cake\")) #should return 2"
      ],
      "metadata": {
        "id": "LYKeSRhSdi1c",
        "outputId": "11bc6699-f6cf-4c02-9c7e-c8d0f43376b1",
        "colab": {
          "base_uri": "https://localhost:8080/"
        }
      },
      "execution_count": 27,
      "outputs": [
        {
          "output_type": "stream",
          "name": "stdout",
          "text": [
            "3\n",
            "2\n"
          ]
        }
      ]
    },
    {
      "cell_type": "code",
      "source": [
        "def college(grades):\n",
        "    \"\"\"\n",
        "    Takes in a list of letter grades.\n",
        "    - If any grade is below a B-, your offer gets rescinded.\n",
        "    - If more than half are B/B-/B+, you get a boo.\n",
        "    - If all are A's, you get a good job.\n",
        "    \"\"\"\n",
        "\n",
        "    B_grades = [\"B+\", \"B\", \"B-\"]\n",
        "    A_count = 0\n",
        "    B_count = 0\n",
        "\n",
        "    for grade in grades:\n",
        "        if grade in [\"C+\", \"C\", \"C-\", \"D\", \"F\"]:\n",
        "            return \"rescind offer, no school for you\"\n",
        "        if grade in B_grades:\n",
        "            B_count += 1\n",
        "        if grade == \"A\":\n",
        "            A_count += 1\n",
        "\n",
        "    if A_count == len(grades):\n",
        "        return \"good job\"\n",
        "    if B_count > len(grades) // 2:\n",
        "        return \"boo\"\n",
        "\n",
        "    return \"you're good\"\n",
        "\n",
        "print(college([\"A\", \"B\", \"C\", \"B\", \"C\"]))  # Should rescind offer\n",
        "print(college([\"A\", \"B\", \"B+\", \"B-\", \"A\"]))  # Should boo\n",
        "print(college([\"A\", \"A\", \"A\"]))  # Should say good job\n",
        "print(college([\"A\", \"B\", \"A\"]))  # Should say you're good"
      ],
      "metadata": {
        "id": "RzgxBDq9hpnb",
        "outputId": "95c2a84c-e747-4856-8f74-02b045a1d108",
        "colab": {
          "base_uri": "https://localhost:8080/"
        }
      },
      "execution_count": 28,
      "outputs": [
        {
          "output_type": "stream",
          "name": "stdout",
          "text": [
            "rescind offer, no school for you\n",
            "boo\n",
            "good job\n",
            "you're good\n"
          ]
        }
      ]
    },
    {
      "cell_type": "code",
      "execution_count": null,
      "metadata": {
        "id": "oHcEWbYvDkAv"
      },
      "outputs": [],
      "source": [
        "#\n",
        "# your own string-transforming function:  up to you\n",
        "#    the goal: come up with something uniquely yours ...\n",
        "#              ... no need to go overboard (more challenges ahead!)\n",
        "#\n",
        "# be sure to show off at least two of your own tests, too\n",
        "#\n",
        "\n",
        "# Here's my example:\n",
        "\n",
        "def poptart_score(s):\n",
        "    \"\"\" returns the wordle score vs. \"poptart\" (exactly 7 letters)\n",
        "          $ will represent the correct letter in a correct spot\n",
        "          ~ will represent the correct letter in an incorrect spot\n",
        "    \"\"\"\n",
        "    # let's make sure s has exactly 7 letters\n",
        "    s = s + \"*\"*7   # add extra asterisks at the end to have at least 7 letters\n",
        "    s = s[0:7]      # trim to 7 letters using a slice\n",
        "\n",
        "    result = \"\"\n",
        "    for i in range(len(s)):  # loop over each index i, from 0 to len(s)-1\n",
        "        if \"poptart\"[i] == s[i]:\n",
        "            result += '$'    # correct letter, correct spot\n",
        "        elif s[i] in \"poptart\":\n",
        "            result += '~'    # correct letter, wrong spot\n",
        "        else:\n",
        "            result += ' '    # not a correct letter\n",
        "\n",
        "    return result\n",
        "\n",
        "#\n",
        "# be sure to run on a large string\n",
        "#\n",
        "INPUT_STRING = \"\"\"scripps claremontmckenna pitzer mudd pomona sci50l poptart\"\"\"\n",
        "INPUT_LIST = INPUT_STRING.split()\n",
        "for s in INPUT_LIST:              # Let's test it on each string (word) in our list\n",
        "    inp = s                       # the function input\n",
        "    out = poptart_score(s)       # the function output\n",
        "    inp7 = (s + \"*\"*7)[:7]          # a seven-character (padded/sliced) input\n",
        "    print(f\"{inp:>25s}  ->  |{inp7}|\")\n",
        "    print( f\"{'':>25s}      |{out}|\")      # f-strings to show the transformation\n",
        "    print( f\"{'':>25s}      |{'poptart'}|\\n\")"
      ]
    },
    {
      "cell_type": "code",
      "execution_count": null,
      "metadata": {
        "id": "a00gjDcKDkAv"
      },
      "outputs": [],
      "source": [
        "#\n",
        "# also be sure to run on at least one file find the results\n",
        "#     can be only printing, but if there's something to maximize or minimize,\n",
        "#     it is always fun to see what's \"best\" or \"worst\"\n",
        "#\n",
        "\n",
        "INPUT_STRING = GET_STRING_FROM_FILE(\"input.txt\")\n",
        "INPUT_LIST = INPUT_STRING.split(\"\\n\")  # '\\n'\n",
        "\n",
        "AllResults = []\n",
        "\n",
        "for s in INPUT_LIST:              # Let's test it on each string (word) in our list\n",
        "    inp = s                       # the function input\n",
        "    out = poptart_score(s)       # the function output\n",
        "    inp7 = (s + \"*\"*7)[:7]          # a seven-character (padded/sliced) input\n",
        "    print(f\"{inp[0:20]:>25s}  ->  |{inp7}|\")\n",
        "    print( f\"{'':>25s}      |{out}|\")      # f-strings to show the transformation\n",
        "    print( f\"{'':>25s}      |{'poptart'}|\\n\")\n",
        "    this_score = out.count(\"$\")*4 + out.count(\"~\")*2  # my scoring system!\n",
        "    AllResults.append( [out,inp] )       # append the output and input as a _sublist_\n",
        "\n",
        "maximum_line = max(AllResults)          # take the maximum\n",
        "print(\"The max and maximum line:\", maximum_line)"
      ]
    },
    {
      "cell_type": "markdown",
      "metadata": {
        "id": "cuo1oWZVDkAv"
      },
      "source": [
        "#### Example stolen from the past...\n",
        "+ And Kenneth + Charlie's function, as well...\n",
        "  + K+C's is more representative of what's imagined...\n",
        "  + Up to you!"
      ]
    },
    {
      "cell_type": "code",
      "execution_count": null,
      "metadata": {
        "id": "rD_PLmWPDkAv"
      },
      "outputs": [],
      "source": [
        "#\n",
        "# your own string-transforming function:  up to you\n",
        "#    encouraged: come up with something uniquely yours (or your team's)\n",
        "#                ... but no need to go overboard (more problems are ahead!)\n",
        "#\n",
        "# be sure to show off a couple of your own tests, too\n",
        "#\n",
        "\n",
        "# Here's Kenneth and Charlie's:\n",
        "\n",
        "\n",
        "def obish(s):\n",
        "    '''\n",
        "    Input: a string, s\n",
        "    Output: the string converted to obish (https://www.instructables.com/How-to-speak-Obish/)\n",
        "    '''\n",
        "    vowels = 'aeiouy'\n",
        "    outputStr = \"\"\n",
        "    for i in s:\n",
        "        if i in vowels:\n",
        "            outputStr += \"ob\"\n",
        "        outputStr += i\n",
        "    return outputStr\n",
        "\n",
        "print(obish('bingus'))\n",
        "print(obish('Kenneth goes to my school.'))\n",
        "print(obish('brb I have to get my laundry'))\n",
        "assert obish('bingus') == 'bobingobus'\n",
        "assert obish('Kenneth goes to my school.') == 'Kobennobeth goboobes tobo moby schoboobol.'\n",
        "assert obish('brb I have to get my laundry') == 'brb I hobavobe tobo gobet moby lobaobundroby'\n",
        "\n",
        "#\n",
        "# note from ZD:  not sure what I'd maximize here, but so be it!\n",
        "#"
      ]
    },
    {
      "cell_type": "code",
      "execution_count": null,
      "metadata": {
        "id": "PhKufs9_DkAv"
      },
      "outputs": [],
      "source": [
        "#\n",
        "# your own string-quantifying function:  again, up to you\n",
        "#   something uniquely yours: a question not-yet-asked :)\n",
        "#\n",
        "# be sure to show off at least two of your own tests, too\n",
        "#\n",
        "\n",
        "print(\"your function here! (Be sure to have small-example tests and a large-example test!)\")\n",
        "\n"
      ]
    },
    {
      "cell_type": "markdown",
      "metadata": {
        "id": "nuzrEhMrDkAv"
      },
      "source": [
        "#### <b><font color=\"Coral\">Reflections</font></b>\n",
        "\n",
        "In a short 4-6 sentence markdown cell, share\n",
        "+ Did you use AI?  (We hope so!)\n",
        "+ If so, which one(s)? was it helpful?\n",
        "+ Was there anything surprising about what it could help with?\n",
        "+ Was there anything surprising about what it _couldn't_ help with?\n",
        "\n",
        "Key question:\n",
        "+ Did you feel there was more reinforcement -- or more tension --    between \"helping accomplish\" and \"helping understand\"?"
      ]
    },
    {
      "cell_type": "markdown",
      "source": [
        "1. I did use AI!\n",
        "2. it helps me with some specific things like bolding etc.\n",
        "3. no...\n",
        "4. no...\n",
        "\n",
        "5. I think there is a great balance because I make it explain to me a lot. In addition, it helps me catch small errors that I am too blind to see. However, when I am working on harder projects, it tends to not do very well."
      ],
      "metadata": {
        "id": "G1xP_aTAUK46"
      }
    },
    {
      "cell_type": "markdown",
      "metadata": {
        "id": "tXHDNn-8DkAv"
      },
      "source": [
        "#### <b><font color=\"Coral\">Submitting</font></b>\n",
        "+ _Do_ keep your cell outputs intact: <i>Don't clear them</i>\n",
        "+ If needed, use your choice of \"commenting out\":\n",
        "+ `if False:` , `# hashes` , `''' triple quotes '''`   for code that does not work\n",
        "+ _Do_ add context in comments or markdown both for things that worked (optional and welcome) and for things that you didn't get working (it shows you _know_ it's not working!)\n",
        "\n"
      ]
    }
  ],
  "metadata": {
    "kernelspec": {
      "display_name": "Python 3.10.4 64-bit",
      "language": "python",
      "name": "python3"
    },
    "language_info": {
      "codemirror_mode": {
        "name": "ipython",
        "version": 3
      },
      "file_extension": ".py",
      "mimetype": "text/x-python",
      "name": "python",
      "nbconvert_exporter": "python",
      "pygments_lexer": "ipython3",
      "version": "3.12.1"
    },
    "orig_nbformat": 4,
    "vscode": {
      "interpreter": {
        "hash": "aee8b7b246df8f9039afb4144a1f6fd8d2ca17a180786b69acc140d282b71a49"
      }
    },
    "colab": {
      "provenance": []
    }
  },
  "nbformat": 4,
  "nbformat_minor": 0
}