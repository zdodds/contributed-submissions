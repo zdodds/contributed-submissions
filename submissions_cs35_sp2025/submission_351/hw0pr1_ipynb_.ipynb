{
  "cells": [
    {
      "cell_type": "markdown",
      "metadata": {
        "id": "EvgU28LMDkAm"
      },
      "source": [
        "### Jupyter Notebooks and Markdown!\n",
        "+ At heart, cs35 is about bridge-building between human expression and executable expression\n",
        "+ markdown is a popular language for human expression  (this cell is markdown)\n",
        "  + control-enter renders the Markdown  (\"runs\" it)\n",
        "+ python is a popular language for executable expression (see cells below!)"
      ]
    },
    {
      "cell_type": "markdown",
      "metadata": {
        "id": "FSU0SoPIDkAn"
      },
      "source": [
        "#### This is a Markdown cell, a <i>fourth-level</i> header\n",
        "+ If you've already used Markdown, e.g., in Discord, wiki editing, etc., wonderful!\n",
        "+ If you haven't used it, [this Markdown link](https://www.markdownguide.org/basic-syntax/) is a reference...\n",
        "+ Equally or more welcome: &nbsp; Dive in! &nbsp; Share! &nbsp; Ask!"
      ]
    },
    {
      "cell_type": "markdown",
      "metadata": {
        "id": "1aSsC9MjDkAn"
      },
      "source": [
        "#### <font color=\"Coral\">First task</font> -- is \"to markdown\":\n",
        "+ Here, use your markdown knowledge or research to...\n",
        "+ **bold** this item\n",
        "+ *italicize* this item\n",
        "+ ~strikethrough this item~\n",
        "+ `use fixed-width formatting for this item, i.e., code-style`\n",
        "+ ***and then do something else (your choice) with this item***\n",
        "+ BUT... **don't** use mark**up**, as this item does. Use mark**down**!\n",
        "+ That is to say, don't use tags like <tt>\\<i\\>this\\</i\\></tt> for any of the challenges above..."
      ]
    },
    {
      "cell_type": "code",
      "source": [],
      "metadata": {
        "id": "S2iKhCwJDpD5"
      },
      "execution_count": null,
      "outputs": []
    },
    {
      "cell_type": "markdown",
      "metadata": {
        "id": "VnDQRk5LDkAo"
      },
      "source": [
        "#### <font color=\"Coral\">Second task</font> -- Be sure to\n",
        "+ Change this list so that it uses <u>your</u> name and includes at least three \"fun facts\" about yourself, including at least two links and at least one link to a picture of you somewhere...\n",
        "+ For example, my answers are\n",
        "+ CS35_Participant_7\n",
        "+ I <3 mangos\n",
        "+ I <3 the [Good Willing Hunting](https://en.wikipedia.org/wiki/Good_Will_Hunting) and probably follow the <font color=\"Pink\">TikTok</font> too closely (*it's an addiciton*).\n",
        "+ Also a fan of [SZA](https://www.youtube.com/channel/UCO5IQ70V7l-XpHW40HwaGsw)\n",
        "+ I <3 *number theory*, including sets **Z**, **R**, etc...\n",
        "+ check out [THIS LINK](https://9a6972ac-d31b-4400-af5c-fd73a9d979f1-00-13ihyykejgwve.riker.replit.dev/aBoUtMe.html) to learn more about me**!!**:\n"
      ]
    },
    {
      "cell_type": "markdown",
      "metadata": {
        "id": "NjKftI6XDkAo"
      },
      "source": [
        "#### <font color=\"Coral\">Third task</font> include a linked image via url: This is a _different_ Zach Dodds...\n",
        "\n",
        "Specifically, the one who knows 3d printing :-)\n",
        "\n",
        "<img src=\"https://blog.foster.uw.edu/wp-content/uploads/2018/10/dodds-zach.jpg\" height=142>"
      ]
    },
    {
      "cell_type": "markdown",
      "metadata": {
        "id": "yZLQpsS_DkAo"
      },
      "source": [
        "### Onward to Python!"
      ]
    },
    {
      "cell_type": "code",
      "execution_count": null,
      "metadata": {
        "id": "wHSLJPv4DkAo",
        "colab": {
          "base_uri": "https://localhost:8080/"
        },
        "outputId": "abab1775-d37e-461c-934d-ed7dd95a6d45"
      },
      "outputs": [
        {
          "output_type": "stream",
          "name": "stdout",
          "text": [
            "x is 43\n"
          ]
        },
        {
          "output_type": "execute_result",
          "data": {
            "text/plain": [
              "42"
            ]
          },
          "metadata": {},
          "execution_count": 1
        }
      ],
      "source": [
        "#\n",
        "# python is a popular language for executable expression\n",
        "#     This is a python cell\n",
        "#     Try this shortcut: control-return or control-enter runs it:\n",
        "\n",
        "x = 43\n",
        "print(\"x is\", x)\n",
        "\n",
        "x -= 1\n",
        "x\n",
        "\n",
        "# notice that the last expression is the cell's output.\n",
        "# printing and outputting are different!"
      ]
    },
    {
      "cell_type": "markdown",
      "metadata": {
        "id": "H-wzwSk9DkAp"
      },
      "source": [
        "#### Python review in about 5-10 cells!\n",
        "\n",
        "cs5 in one day!"
      ]
    },
    {
      "cell_type": "code",
      "execution_count": null,
      "metadata": {
        "id": "EwoqglZ-DkAp",
        "colab": {
          "base_uri": "https://localhost:8080/"
        },
        "outputId": "3e106f6a-f579-4794-b5ad-94f94e7f7532"
      },
      "outputs": [
        {
          "output_type": "stream",
          "name": "stdout",
          "text": [
            "L[1:] equals [8, 9]\n",
            "L[1:] equals [8, 9]\n",
            "L[1:] = [8, 9]\n",
            "\n",
            "cmc scripps pitzer hmc\n"
          ]
        },
        {
          "output_type": "execute_result",
          "data": {
            "text/plain": [
              "True"
            ]
          },
          "metadata": {},
          "execution_count": 2
        }
      ],
      "source": [
        "#\n",
        "# Let's fit all of Python into the next five or so cells!\n",
        "#\n",
        "\n",
        "L = [7,8,9]\n",
        "\n",
        "print(\"L[1:] equals\", L[1:])    # slicing!\n",
        "\n",
        "print(f\"L[1:] equals {L[1:]}\")  # f strings!\n",
        "\n",
        "print(f\"{L[1:] = }\")            # cool = syntax, new for me...\n",
        "\n",
        "print()\n",
        "\n",
        "colleges = 'cmc scripps pitzer hmc'\n",
        "print(colleges)\n",
        "\n",
        "'c' in colleges          # in is in!"
      ]
    },
    {
      "cell_type": "markdown",
      "metadata": {
        "id": "FXUUQaecDkAp"
      },
      "source": [
        "#### Let's use f-strings more carefully ...\n"
      ]
    },
    {
      "cell_type": "code",
      "execution_count": null,
      "metadata": {
        "id": "Q2PiOIayDkAp",
        "colab": {
          "base_uri": "https://localhost:8080/"
        },
        "outputId": "36f49cb9-a3a2-4dc3-b3e5-32d3ad586ea9"
      },
      "outputs": [
        {
          "output_type": "stream",
          "name": "stdout",
          "text": [
            "x = 42\n",
            "x = 42\n"
          ]
        }
      ],
      "source": [
        "x = 42\n",
        "\n",
        "print(\"x =\", x)    # \"regular\" print\n",
        "\n",
        "print(  f\"{x = }\" )  # f-string print"
      ]
    },
    {
      "cell_type": "code",
      "execution_count": null,
      "metadata": {
        "id": "U5bnIoY_DkAp",
        "colab": {
          "base_uri": "https://localhost:8080/"
        },
        "outputId": "dec8c80b-abaa-442a-c726-b1ffa5a8c836"
      },
      "outputs": [
        {
          "output_type": "stream",
          "name": "stdout",
          "text": [
            "Poptarts? I'll take 40!\n",
            "Poptarts? I'll take 41!\n",
            "Poptarts? I'll take 42!\n"
          ]
        }
      ],
      "source": [
        "\"\"\"wrong = 41\"\"\"\n",
        "snack = \"Poptarts\"\n",
        "\n",
        "# fs = f\"{snack}? I'll take {wrong+1}!\"\n",
        "# print(fs)\n",
        "\n",
        "for i in range(40,42+1):\n",
        "    print(f\"{snack}? I'll take {i}!\")\n"
      ]
    },
    {
      "cell_type": "markdown",
      "metadata": {
        "id": "X-HjbMXSDkAp"
      },
      "source": [
        "#### Notice that variables persist from cell to cell...\n",
        "\n",
        "Here, ``L`` and ``colleges`` are variables defined above.\n",
        "Their values are still present:\n"
      ]
    },
    {
      "cell_type": "code",
      "execution_count": null,
      "metadata": {
        "id": "G8Hb1QwiDkAp",
        "colab": {
          "base_uri": "https://localhost:8080/"
        },
        "outputId": "7d601082-70be-44e3-92b0-b069fe05dfcf"
      },
      "outputs": [
        {
          "output_type": "stream",
          "name": "stdout",
          "text": [
            "L=[7, 8, 9]  L.index(9) is 2\n",
            "\n",
            "colleges.title() returns  Cmc Scripps Pitzer Hmc\n",
            "\n",
            "# of c's in colleges: 4\n",
            "\n",
            "CmC sCripps pitzer hmC\n"
          ]
        }
      ],
      "source": [
        "print(f\"{L=}  L.index(9) is\", L.index(9))     # calling methods (functions after a \".\")\n",
        "print()\n",
        "print(\"colleges.title() returns \", colleges.title())        # ditto!  Let's shout!\n",
        "print()\n",
        "print(\"# of c's in colleges:\", colleges.count('c'))\n",
        "print()\n",
        "print(colleges.replace('c','C'))"
      ]
    },
    {
      "cell_type": "markdown",
      "metadata": {
        "id": "EW6ummlpDkAp"
      },
      "source": [
        "#### ``split`` is a _really_ useful function\n",
        "\n",
        "Notice that it is called <i>by</i> the string being split.\n",
        "\n",
        "It returns a list!\n",
        "\n",
        "(Q'n: <i>How in the input being used?</i>)\n"
      ]
    },
    {
      "cell_type": "code",
      "execution_count": null,
      "metadata": {
        "id": "0t7YvsXoDkAp",
        "colab": {
          "base_uri": "https://localhost:8080/"
        },
        "outputId": "9c779d8f-8d82-4308-b096-0228780afcc2"
      },
      "outputs": [
        {
          "output_type": "stream",
          "name": "stdout",
          "text": [
            "LoW is ['cmc', 'scripps', 'pitzer', 'hmc']\n",
            "LoS is ['', 'm', ' s', 'ripps pitzer hm', '']\n"
          ]
        }
      ],
      "source": [
        "LoW = colleges.split()\n",
        "print(\"LoW is\", LoW)\n",
        "\n",
        "LoS = colleges.split('c')\n",
        "print(\"LoS is\", LoS)"
      ]
    },
    {
      "cell_type": "markdown",
      "metadata": {
        "id": "B9m1CwufDkAp"
      },
      "source": [
        "#### ``join`` is the _opposite_ of split"
      ]
    },
    {
      "cell_type": "code",
      "execution_count": null,
      "metadata": {
        "id": "7rwwKkd6DkAp",
        "colab": {
          "base_uri": "https://localhost:8080/",
          "height": 35
        },
        "outputId": "fda7b419-ecf9-4b20-91e1-f01bb7ef9b7a"
      },
      "outputs": [
        {
          "output_type": "execute_result",
          "data": {
            "text/plain": [
              "'wordleisawesome'"
            ],
            "application/vnd.google.colaboratory.intrinsic+json": {
              "type": "string"
            }
          },
          "metadata": {},
          "execution_count": 7
        }
      ],
      "source": [
        "LoW = [ \"word\", \"leisa\", \"we\", \"some\" ]\n",
        "''.join(LoW)"
      ]
    },
    {
      "cell_type": "markdown",
      "metadata": {
        "id": "WWItJeFBDkAq"
      },
      "source": [
        "#### <font color=\"Coral\">Fourth task</font>: &nbsp; add another example in the spirit of the one below...\n",
        "+ create (at least) three more variables and\n",
        "+ a sentence using all of them and\n",
        "+ render them in a single strings using f-strings...    \n",
        "\n",
        "Experiment!"
      ]
    },
    {
      "cell_type": "code",
      "execution_count": 4,
      "metadata": {
        "id": "b41COs-WDkAq",
        "colab": {
          "base_uri": "https://localhost:8080/"
        },
        "outputId": "9be08b6b-a95c-4c37-80e6-73a577e0faa0"
      },
      "outputs": [
        {
          "output_type": "stream",
          "name": "stdout",
          "text": [
            "hello from jupyter, running python, within vscode...!\n",
            "\n",
            "Meta would be proud!\n",
            "Uploading profile from cs35 located in projects...yay!\n",
            "\n"
          ]
        }
      ],
      "source": [
        "#\n",
        "# f-strings!\n",
        "#\n",
        "\n",
        "interface = \"jupyter\"\n",
        "language = \"python\"\n",
        "application = \"vscode\"\n",
        "folder = \"projects\"\n",
        "file = \"cs35\"\n",
        "txt = \"profile\"\n",
        "\n",
        "print(f\"hello from {interface}, running {language}, within {application}...!\")\n",
        "print()\n",
        "\n",
        "\n",
        "company = \"Meta\"\n",
        "print(f\"{company} would be proud!\")\n",
        "\n",
        "#\n",
        "# Feel free to create your own quippy example here or in a new cell...\n",
        "#\n",
        "\n",
        "print(f\"Uploading {txt} from {file} located in {folder}...yay!\")\n",
        "print()\n",
        "\n",
        "\n",
        "\n"
      ]
    },
    {
      "cell_type": "markdown",
      "metadata": {
        "id": "yvZBGSKPDkAq"
      },
      "source": [
        "#### **Remember**  _list comprehensions_  ?\n",
        "+ they are \"loops-in-lists\"\n",
        "+ or \"lists-with-loops\"\n",
        "\n"
      ]
    },
    {
      "cell_type": "code",
      "execution_count": null,
      "metadata": {
        "id": "9siikLqVDkAq"
      },
      "outputs": [],
      "source": [
        "# I <3 list comprehensions!\n",
        "[ 2*x for x in range(20,24) ]"
      ]
    },
    {
      "cell_type": "code",
      "execution_count": null,
      "metadata": {
        "id": "D3xqoTL4DkAq"
      },
      "outputs": [],
      "source": [
        "#\n",
        "# Here is an example that uses list comprehensions to\n",
        "# count how many of the first 1000 integers are even\n",
        "\n",
        "LC = [ x for x in range(1000) if x % 2 == 0 ]\n",
        "print(f\"LC = {LC}\")\n",
        "print()\n",
        "\n",
        "answer = len(LC)\n",
        "print(f\"answer = {answer}\")\n"
      ]
    },
    {
      "cell_type": "markdown",
      "metadata": {
        "id": "sSW6Gr7XDkAq"
      },
      "source": [
        "#### <font color=\"Coral\">Fifth task</font>: &nbsp; <b>LC Challenge</b>\n",
        "\n",
        "Use list comprehensions to find how many of the first 1000 integers, _when squared_, contain the digit 4?\n",
        "+ Remember: ``str(x)`` converts ``x`` to a string\n",
        "\n",
        "Then, create a variation of this question -- of your own design -- and answer it! For example,\n",
        "+ what about checking for ``'4'`` and ``'2'`` ?\n",
        "+ what about checking for ``'4'`` or ``'2'`` ?\n",
        "+ even better: something else you've devised!\n",
        "\n",
        "Then , in a sentence-ish, explain your thinking:\n",
        "  + <i>why that question</i>\n",
        "  + <i>how did you answer it computationally?</i>\n",
        "  + <i>does the answer seem reasonable?</i>"
      ]
    },
    {
      "cell_type": "code",
      "execution_count": 13,
      "metadata": {
        "id": "NYZlx_mSDkAq",
        "colab": {
          "base_uri": "https://localhost:8080/"
        },
        "outputId": "c7846fa2-866c-4578-bea9-53abab416e2d"
      },
      "outputs": [
        {
          "output_type": "stream",
          "name": "stdout",
          "text": [
            "answer = 510\n"
          ]
        }
      ],
      "source": [
        "# remember pwd? It's short for \"print working directory\"  (that is, your current folder)\n",
        "# It's a shell command, i.e., to be run at the terminal or command-line (or shell).\n",
        "\n",
        "# Since this is not python, python needs to know it's a special command:  %pwd does the trick\n",
        "%pwd\n",
        "\n",
        "\"\"\" This list comprehension essentially counts how many of the integers between 1 and 1000 contain 2 when in the fourth power.\n",
        "\"\"\"\n",
        "\n",
        "four = [x for x in range(1001) if '4' in str(x**2) ]\n",
        "answer = len(four)\n",
        "print(f\"answer = {answer}\")"
      ]
    },
    {
      "cell_type": "code",
      "execution_count": 15,
      "metadata": {
        "id": "vZcFAD0xDkAq",
        "colab": {
          "base_uri": "https://localhost:8080/"
        },
        "outputId": "62dd31b7-8b58-46b0-e68d-d7225d622f07"
      },
      "outputs": [
        {
          "output_type": "stream",
          "name": "stdout",
          "text": [
            "\u001b[0m\u001b[01;34msample_data\u001b[0m/\n",
            "answer = 674\n"
          ]
        }
      ],
      "source": [
        "# Another important shell command:  ls (lists contents)\n",
        "%ls\n",
        "\n",
        "\"\"\" This list comprehension essentially counts how many of the integers between 1 and 1000 contain 2 when in the fourth power. I chose this question because\n",
        "I wanted to see the relationships between even numbers and even powers. I used a similar approach to what I did in the previous cell, and the output seems reasonable\n",
        "as 2 is a very common number compared to four.\n",
        "\"\"\"\n",
        "\n",
        "two = [x for x in range(1001) if '2' in str(x**4) ]\n",
        "answer = len(two)\n",
        "print(f\"answer = {answer}\")"
      ]
    },
    {
      "cell_type": "code",
      "execution_count": 17,
      "metadata": {
        "id": "i2NYKhn9DkAq",
        "colab": {
          "base_uri": "https://localhost:8080/"
        },
        "outputId": "5018024e-a2bf-4f8e-abcf-2679e5005ea0"
      },
      "outputs": [
        {
          "output_type": "stream",
          "name": "stdout",
          "text": [
            "[Errno 2] No such file or directory: 'intro_first'\n",
            "/\n"
          ]
        }
      ],
      "source": [
        "# the following cell shows cd, changing the current directory.\n",
        "# We will also try cd .. (to \"move up\" one level)\n",
        "\n",
        "# WARNING:  when cd does work, the _whole notebook_ has changed what it considers\n",
        "#           its \"current directory\"  You'll see this here:\n",
        "%cd intro_first"
      ]
    },
    {
      "cell_type": "code",
      "execution_count": 16,
      "metadata": {
        "id": "BbsNDJvNDkAq",
        "colab": {
          "base_uri": "https://localhost:8080/"
        },
        "outputId": "0de61f28-ec69-400f-83b6-8189e2d72841"
      },
      "outputs": [
        {
          "output_type": "stream",
          "name": "stdout",
          "text": [
            "/\n"
          ]
        }
      ],
      "source": [
        "# And, we need to be able to move \"up\" or \"outward\"!\n",
        "# To do this, use   cd ..     Here, in jupyter:\n",
        "\n",
        "%cd .."
      ]
    },
    {
      "cell_type": "code",
      "execution_count": 19,
      "metadata": {
        "id": "AF1bK3ahDkAq",
        "colab": {
          "base_uri": "https://localhost:8080/"
        },
        "outputId": "7309730b-7fc0-41da-dbcc-74bd683412bd"
      },
      "outputs": [
        {
          "output_type": "stream",
          "name": "stdout",
          "text": [
            "/\n"
          ]
        }
      ],
      "source": [
        "# we can keep going!   cd .. \"goes up\" one directory level\n",
        "%cd .."
      ]
    },
    {
      "cell_type": "code",
      "execution_count": 18,
      "metadata": {
        "id": "Fol2wm3cDkAq",
        "colab": {
          "base_uri": "https://localhost:8080/",
          "height": 35
        },
        "outputId": "ef2692f5-e092-48d7-9760-7c5c1a91b03a"
      },
      "outputs": [
        {
          "output_type": "execute_result",
          "data": {
            "text/plain": [
              "'/'"
            ],
            "application/vnd.google.colaboratory.intrinsic+json": {
              "type": "string"
            }
          },
          "metadata": {},
          "execution_count": 18
        }
      ],
      "source": [
        "# you don't need a new cell each time...\n",
        "%pwd"
      ]
    },
    {
      "cell_type": "code",
      "execution_count": 28,
      "metadata": {
        "id": "iCNpfKJlDkAq"
      },
      "outputs": [],
      "source": [
        "# Really, each notebook cell is a script, sharing state with the others\n",
        "\n",
        "# Here, our code is guarded by an if True:\n",
        "\n",
        "if False:\n",
        "    print(f\"It was True!\")\n",
        "\n",
        "# try changing the True to False.\n",
        "# There's no need to change the printing, because it won't print...\n",
        "\n",
        "# When submitting notebooks, we ask you to submit notebooks that run...\n",
        "# However, feel free to keep any+all non-running code! Simply comment it out\n",
        "# For example, with if False:\n",
        "# hashtags and \"\"\" triple-quoted strings \"\"\" also work ...\n",
        "# ... though they lose the code-structure and syntax highlighting! (As you see! :-)"
      ]
    },
    {
      "cell_type": "code",
      "execution_count": 30,
      "metadata": {
        "id": "Fj9hL_l6DkAq",
        "colab": {
          "base_uri": "https://localhost:8080/"
        },
        "outputId": "c6952056-71fc-4b94-8449-b10072d0a446"
      },
      "outputs": [
        {
          "output_type": "execute_result",
          "data": {
            "text/plain": [
              "42"
            ]
          },
          "metadata": {},
          "execution_count": 30
        }
      ],
      "source": [
        "# reminder: in each cell (script) all lines are run; only the last line is output\n",
        "y = 58\n",
        "x = y-7\n",
        "x = x-1\n",
        "x = x-8\n",
        "x"
      ]
    },
    {
      "cell_type": "code",
      "execution_count": 31,
      "metadata": {
        "id": "7Zl0eWvZDkAq",
        "colab": {
          "base_uri": "https://localhost:8080/"
        },
        "outputId": "223686f0-5e65-4fbf-933f-2321aaf3a231"
      },
      "outputs": [
        {
          "output_type": "execute_result",
          "data": {
            "text/plain": [
              "58"
            ]
          },
          "metadata": {},
          "execution_count": 31
        }
      ],
      "source": [
        "# BEWARE:  Variables are global through the notebook!\n",
        "# Here, y will be 58, from the cell above... if you've run that cell!\n",
        "y"
      ]
    },
    {
      "cell_type": "markdown",
      "metadata": {
        "id": "3fzywE6kDkAq"
      },
      "source": [
        "#### Let's function!  A first example, `plus1` and  its tests..."
      ]
    },
    {
      "cell_type": "code",
      "execution_count": 32,
      "metadata": {
        "id": "VRpOBVjaDkAq",
        "colab": {
          "base_uri": "https://localhost:8080/"
        },
        "outputId": "1ed434c4-88e8-461d-f6f7-b379f7a2097d"
      },
      "outputs": [
        {
          "output_type": "stream",
          "name": "stdout",
          "text": [
            "plus1(41) -> 42 should be 42\n",
            "plus1(9000) -> 9001 should be 9001\n"
          ]
        }
      ],
      "source": [
        "# a good starting point!\n",
        "\n",
        "def plus1( N ):\n",
        "    \"\"\" returns a number one larger than its input \"\"\"\n",
        "    return N+1\n",
        "\n",
        "if True:\n",
        "    print(f\"plus1(41) -> {plus1(41)} should be {42}\")\n",
        "    print(f\"plus1(9000) -> {plus1(9000)} should be {9001}\")\n",
        "    assert plus1(41) == 42\n",
        "    assert plus1(9000) == 9001\n",
        "\n",
        "# print tests succeed and fail \"out loud\"\n",
        "# assert tests succeed silently and only fail \"out loud\" (and crash!)"
      ]
    },
    {
      "cell_type": "markdown",
      "metadata": {
        "id": "_mvNZ6FoDkAq"
      },
      "source": [
        "### Let's loop!\n",
        "\n",
        "Below,\n",
        "+ run this infinite loop - a while loop\n",
        "+ practice using the \"Interrupt\" (the square at the upper left of the cell) to kill it\n",
        "+ then, use the three-dots menu at the lower left to delete the cell's output...\n"
      ]
    },
    {
      "cell_type": "code",
      "execution_count": null,
      "metadata": {
        "id": "WPWcQHztDkAq"
      },
      "outputs": [],
      "source": [
        "#\n",
        "# An infinite loop...\n",
        "#\n",
        "\n",
        "print(f\"Start!\")\n",
        "i = 0\n",
        "\n",
        "while True:\n",
        "    print(i, end=\" \", flush=True)\n",
        "    i = i+1\n",
        "\n",
        "print(f\"End.\")\n"
      ]
    },
    {
      "cell_type": "markdown",
      "metadata": {
        "id": "a6Cjl46XDkAq"
      },
      "source": [
        "#### For-loop reminders...."
      ]
    },
    {
      "cell_type": "code",
      "execution_count": null,
      "metadata": {
        "id": "3tsT_rpPDkAq"
      },
      "outputs": [],
      "source": [
        "#\n",
        "# Let's loop!\n",
        "#\n",
        "\n",
        "snack = \"Poptarts\"\n",
        "\n",
        "for i in range(0,5):\n",
        "        print(f\"{snack}? I'll take {i}!\")"
      ]
    },
    {
      "cell_type": "code",
      "execution_count": null,
      "metadata": {
        "id": "SdSv8rq-DkAt"
      },
      "outputs": [],
      "source": [
        "# countdown( N )    emphasizes looping and printing (there is no return value!)\n",
        "#\n",
        "import time\n",
        "\n",
        "def countdown( N ):\n",
        "    \"\"\" counts downward from N to 0, printing  \"\"\"\n",
        "    for i in range(N,-1,-1):  # starts at N, ends at 0, steps by -1\n",
        "        print(\"i ==\", i)\n",
        "        time.sleep(0.2)\n",
        "\n",
        "    return    # no return value here!\n",
        "\n",
        "# testing countdown\n",
        "if True:\n",
        "    print(\"Testing countdown(5):\")\n",
        "    countdown(5)  # should print things -- with dramatic pauses!"
      ]
    },
    {
      "cell_type": "markdown",
      "metadata": {
        "id": "630SFsYhDkAt"
      },
      "source": [
        "#### The next cell shows a larger <b>script</b>, which calls the previous two functions:"
      ]
    },
    {
      "cell_type": "code",
      "execution_count": null,
      "metadata": {
        "id": "H0l7AEL5DkAt"
      },
      "outputs": [],
      "source": [
        "if True:\n",
        "    \"\"\" a cell for trying out the previous two cells \"\"\"\n",
        "\n",
        "    # sign on\n",
        "    print(f\"[[ Start! ]]\\n\")\n",
        "\n",
        "    # testing plus1\n",
        "    result = plus1( 41 )\n",
        "    print(f\"plus1(41) -> {result}\")\n",
        "    print()\n",
        "\n",
        "    # testing countdown\n",
        "    print(\"Testing countdown(4):\")\n",
        "    countdown(4)  # should print things -- with dramatic pauses!\n",
        "\n",
        "    # sign off\n",
        "    print(\"\\n[[ Fin. ]]\")"
      ]
    },
    {
      "cell_type": "markdown",
      "metadata": {
        "id": "2OEw-Vs8DkAt"
      },
      "source": [
        "#### The two mystery functions from our in-class exercise:"
      ]
    },
    {
      "cell_type": "code",
      "execution_count": null,
      "metadata": {
        "id": "G9sqryCdDkAt"
      },
      "outputs": [],
      "source": [
        "def mystery1( s ):\n",
        "    \"\"\" mystery function #1 \"\"\"\n",
        "    result = 0\n",
        "\n",
        "    for i in range(len(s)):\n",
        "        if s[i] in 'iI':\n",
        "            result += 1\n",
        "\n",
        "    return result\n",
        "\n",
        "result = mystery1(\"Aliens <3 caffeine\")\n",
        "print(result)"
      ]
    },
    {
      "cell_type": "code",
      "execution_count": null,
      "metadata": {
        "id": "Bn0XOnTLDkAu"
      },
      "outputs": [],
      "source": [
        "def mystery2( s ):\n",
        "    \"\"\" mystery function #2 \"\"\"\n",
        "    result = 0\n",
        "\n",
        "    for let in s:\n",
        "        if let in 'iI':\n",
        "            result += let\n",
        "\n",
        "    return result\n",
        "\n",
        "result = mystery2(\"I like caffeine\")\n",
        "print(result)"
      ]
    },
    {
      "cell_type": "markdown",
      "metadata": {
        "id": "FMMANXBdDkAu"
      },
      "source": [
        "#### Let's show two more functions:  \n",
        "+ ``count_eyes( s )`` and\n",
        "+ ``just_eyes( s )``"
      ]
    },
    {
      "cell_type": "code",
      "execution_count": 3,
      "metadata": {
        "id": "07xHdVJNDkAu",
        "colab": {
          "base_uri": "https://localhost:8080/"
        },
        "outputId": "5542c48d-d333-417a-bd8c-192f65d11e25"
      },
      "outputs": [
        {
          "output_type": "stream",
          "name": "stdout",
          "text": [
            "count_eyes('Yiiikes!') = 3\n",
            "count_eyes('Yiiikes!') = 3\n",
            "\n",
            "count_eyes('Italy, icily, livelily!') = 5\n"
          ]
        }
      ],
      "source": [
        "def count_eyes( s ):\n",
        "    \"\"\" returns the number of times i or I appears in the input string s \"\"\"\n",
        "    result = 0\n",
        "\n",
        "    for letter in s:\n",
        "        if letter in 'iI':  #  equivalent:   letter == 'i' or letter == 'I'\n",
        "            result += 1     #  add one to our overall result (our count)\n",
        "\n",
        "    return result           #  AFTER the loop, we're done!\n",
        "\n",
        "print(\"count_eyes('Yiiikes!') =\", count_eyes('Yiiikes!'))\n",
        "print(f\"{count_eyes('Yiiikes!') = }\")   # f-strings ⋮)\n",
        "print()\n",
        "print(f\"{count_eyes('Italy, icily, livelily!') = }\")"
      ]
    },
    {
      "cell_type": "code",
      "execution_count": 4,
      "metadata": {
        "id": "V0ROn0yBDkAu",
        "colab": {
          "base_uri": "https://localhost:8080/"
        },
        "outputId": "a5b84cee-ecc1-479e-e37d-4c414e4bf5a1"
      },
      "outputs": [
        {
          "output_type": "stream",
          "name": "stdout",
          "text": [
            "just_eyes('Yiiikes!') = iii\n",
            "just_eyes('Yiiikes!') = 'iii'\n",
            "\n",
            "just_eyes('Italy, icily, livelily!') = 'Iiiii'\n"
          ]
        }
      ],
      "source": [
        "def just_eyes( s ):\n",
        "    \"\"\" returns a string of only the letters i or I that appear in the input s \"\"\"\n",
        "    result = ''\n",
        "\n",
        "    for letter in s:\n",
        "        if letter in 'iI':    #  equivalent:   letter == 'i' or letter == 'I'\n",
        "            result += letter  #  add _the letter_ to our overall result, now a string\n",
        "\n",
        "    return result             #  AFTER the loop, we're done!\n",
        "\n",
        "print(\"just_eyes('Yiiikes!') =\",just_eyes('Yiiikes!'))\n",
        "print(f\"{just_eyes('Yiiikes!') = }\")   # f-strings ⋮)\n",
        "print()\n",
        "print(f\"{just_eyes('Italy, icily, livelily!') = }\")"
      ]
    },
    {
      "cell_type": "code",
      "execution_count": 12,
      "metadata": {
        "id": "VYaVQJrJDkAu",
        "colab": {
          "base_uri": "https://localhost:8080/"
        },
        "outputId": "7beba1bd-0aa1-4429-fbc2-04f8503ee2ea"
      },
      "outputs": [
        {
          "output_type": "stream",
          "name": "stdout",
          "text": [
            "file not found: input.txt\n",
            "('', ' ')\n"
          ]
        }
      ],
      "source": [
        "from posixpath import split\n",
        "def GET_STRING_FROM_FILE(filename=None):\n",
        "    \"\"\" return all of the contents from the file, filename\n",
        "        will error if the file is not present, then return the empty string ''\n",
        "    \"\"\"\n",
        "    try:\n",
        "        if filename == None:  filename = \"input.txt\"\n",
        "        INPUT_FILENAME = filename\n",
        "        INPUT_FILE = open(INPUT_FILENAME, \"r\", encoding='utf-8')    # how to open a file\n",
        "        DATA = INPUT_FILE.read()                                    # and get all its contents\n",
        "        INPUT_FILE.close()                                          # close the file (optional)\n",
        "        #print(DATA)                                                # if we want to see it\n",
        "        return DATA                                                 # definitely want to return it!\n",
        "    except FileNotFoundError:                   # wasn't there\n",
        "        print(f\"file not found: {filename}\")    # print error\n",
        "        return \" \"                               # return empty string ''\n",
        "\n",
        "# split is a wonderful function, it returns a list.  Try it!\n",
        "INPUT_STRING = split(GET_STRING_FROM_FILE(\"input.txt\"))\n",
        "\n",
        "# Let's print only some of this large string, with all of Shakespeare's sonnets:\n",
        "print(INPUT_STRING[0:200])\n"
      ]
    },
    {
      "cell_type": "markdown",
      "metadata": {
        "id": "4pm9F9ZrDkAu"
      },
      "source": [
        "#### Now, let's test our ``count_eyes`` function on all of the Sonnets:"
      ]
    },
    {
      "cell_type": "code",
      "execution_count": 13,
      "metadata": {
        "id": "sgdUj6sZDkAu",
        "colab": {
          "base_uri": "https://localhost:8080/"
        },
        "outputId": "45540e1b-25e1-41d2-fec8-6bd99039d5bc"
      },
      "outputs": [
        {
          "output_type": "stream",
          "name": "stdout",
          "text": [
            "file not found: input.txt\n",
            "  -> 0\n",
            "                                                   -> 0\n"
          ]
        }
      ],
      "source": [
        "INPUT_STRING = GET_STRING_FROM_FILE(\"input.txt\")\n",
        "INPUT_LIST = INPUT_STRING.split(\"\\n\")  # '\\n'\n",
        "\n",
        "for s in INPUT_LIST:                   # Let's test it on each string (line) in our list\n",
        "    inp = s                            # the input\n",
        "    out = count_eyes(inp)              # the output\n",
        "    print(f\"{inp} -> {out}\")           # print result\n",
        "    print(f\"{inp:>50s} -> {out:<d}\")   # f-strings have formatting options: (> right) (< left)"
      ]
    },
    {
      "cell_type": "markdown",
      "metadata": {
        "id": "_1Tak8e-DkAu"
      },
      "source": [
        "#### Now, let's <i>maximize</i> our ``count_eyes`` across all Sonnet lines:"
      ]
    },
    {
      "cell_type": "code",
      "execution_count": 14,
      "metadata": {
        "id": "XGrzOR5lDkAu",
        "colab": {
          "base_uri": "https://localhost:8080/"
        },
        "outputId": "af4fc04b-86db-48db-fa42-f9aabb861016"
      },
      "outputs": [
        {
          "output_type": "stream",
          "name": "stdout",
          "text": [
            "file not found: input.txt\n",
            "  -> 0\n",
            "                                                   -> 0\n",
            "The max and maximum line: [0, ' ']\n"
          ]
        }
      ],
      "source": [
        "INPUT_STRING = GET_STRING_FROM_FILE(\"input.txt\")\n",
        "INPUT_LIST = INPUT_STRING.split(\"\\n\")  # '\\n'\n",
        "\n",
        "AllResults = []\n",
        "\n",
        "for s in INPUT_LIST:                   # Let's test it on each string (line) in our list\n",
        "    inp = s                            # the input\n",
        "    out = count_eyes(inp)              # the output\n",
        "    print(f\"{inp} -> {out}\")           # print result\n",
        "    print(f\"{inp:>50s} -> {out:<d}\")   # f-strings have formatting options: (> right) (< left)\n",
        "    AllResults.append( [out,inp] )       # append the output and input as a _sublist_\n",
        "\n",
        "maximum_line = max(AllResults)          # take the maximum\n",
        "print(\"The max and maximum line:\", maximum_line)"
      ]
    },
    {
      "cell_type": "markdown",
      "metadata": {
        "id": "OnsO3NG_DkAu"
      },
      "source": [
        "#### Thoughts on the most i-y line:\n",
        "\n",
        "The line with the most 'i's was ``So CS35_Participant_2 lives this and this gives life to thee.``\n",
        "\n",
        "Of all the sonnets, I'm surprised that no line contained more than 5 \"i\"s.\n",
        "\n",
        "But, trying it again looking for 't's, the result was again 5! It was\n",
        "\n",
        "``When in eternal lines to time thou growest:``\n",
        "\n",
        "Maybe 5 is a more reasonable maximum than originally thought. (There are fewer than 50 characters per line, after all...)."
      ]
    },
    {
      "cell_type": "markdown",
      "metadata": {
        "id": "Rg2aqWWIDkAu"
      },
      "source": [
        "#### <b><font color=\"Coral\">Functions</font></b> to write for hw0pr1\n",
        "+ Python's <tt>str</tt> functions are documented at this [str documentation page](https://docs.python.org/3/library/stdtypes.html#text-sequence-type-str)\n",
        "  + find and read over how <tt>split</tt> works... (that way, too, you'll have a feel for the documentation)\n",
        "+ Python's <tt>string</tt> library, used via <tt>import string</tt> is at [the string library documentation page](https://docs.python.org/3/library/string.html)\n",
        "  + this has some useful constants and other capabilities. Most functionality is in the <tt>str</tt> datatype (class)\n",
        "  + not needed but fun: [all of Python's built-in modules](https://docs.python.org/3/py-modindex.html)\n",
        "+ Be sure to include at least two tests that run - and work - for each of these functions."
      ]
    },
    {
      "cell_type": "code",
      "execution_count": 15,
      "metadata": {
        "id": "931WNVqbDkAu",
        "colab": {
          "base_uri": "https://localhost:8080/"
        },
        "outputId": "c883f739-1efb-4b16-c851-71cbfad0d75f"
      },
      "outputs": [
        {
          "output_type": "stream",
          "name": "stdout",
          "text": [
            "0123456789\n",
            "!\"#$%&'()*+,-./:;<=>?@[\\]^_`{|}~\n",
            "abcdefghijklmnopqrstuvwxyz\n"
          ]
        }
      ],
      "source": [
        "#\n",
        "# using python's string library\n",
        "#\n",
        "\n",
        "import string\n",
        "\n",
        "print(string.digits)\n",
        "print(string.punctuation)\n",
        "print(string.ascii_lowercase)"
      ]
    },
    {
      "cell_type": "code",
      "execution_count": 29,
      "metadata": {
        "id": "R-J-kekkDkAu"
      },
      "outputs": [],
      "source": [
        "# plus1, countdown, count_eyes, and just_eyes are already complete :-)"
      ]
    },
    {
      "cell_type": "code",
      "execution_count": 35,
      "metadata": {
        "id": "MkHdARNLDkAu"
      },
      "outputs": [],
      "source": [
        "#\n",
        "#times42( s ):      \twhich should print the string s 42 times (on separate lines)\n",
        "\n",
        "\n",
        "def times42( s ):\n",
        "    # ''' should print the string s 42 times (on separate lines)...\n",
        "    # wont run though for some reason\n",
        "    # '''\n",
        "    # for x in range(42):\n",
        "    #   print(f\"{s} \\n\")\n",
        "    #   print()\n",
        "    #   x+=1\n",
        ""
      ]
    },
    {
      "cell_type": "code",
      "execution_count": 40,
      "metadata": {
        "id": "cmSaM3uvDkAu"
      },
      "outputs": [],
      "source": [
        "#\n",
        "# alien( N ):          \twhich should return the string \"aliii...iiien\" with exactly N \"i\"s\n",
        "#\n",
        "\n",
        "def alien( N ):\n",
        "    # ''' should return the string \"aliii...iiien\" with exactly N \"i\"s, wont run tho\n",
        "    # '''\n",
        "    # LC = {}\n",
        "    # for x in range(N):\n",
        "    #   letter_i = \"i\"\n",
        "    #   LC.append(letter_i)\n",
        "\n",
        "    # print(f\"al{LC}en\")\n",
        "    # print()\n",
        ""
      ]
    },
    {
      "cell_type": "code",
      "execution_count": 43,
      "metadata": {
        "id": "vwgWQi39DkAu"
      },
      "outputs": [],
      "source": [
        "#\n",
        "# count_digits( s ):   returns the number of digits in the input string s\n",
        "#\n",
        "\n",
        "def count_digits( s ):\n",
        "    # ''' Returns the # of digits in input string s, no output for some reason'''\n",
        "    # result = 0\n",
        "    # for x in s:\n",
        "    #   if x.isdigit():\n",
        "    #     result += 1\n",
        "\n",
        "    # return result\n",
        "\n"
      ]
    },
    {
      "cell_type": "code",
      "execution_count": 48,
      "metadata": {
        "id": "k9zmNbyIDkAu"
      },
      "outputs": [],
      "source": [
        "#\n",
        "# just_digits( s ):   returns only the digits in the input string s\n",
        "#\n",
        "\n",
        "def just_digits( s ):\n",
        "    # '''returns only the digits in the input string s, although wont run despite the fact that it complies'''\n",
        "    # LC = \"\"\n",
        "    # for x in s[x]:\n",
        "    #   if x.isdigit():\n",
        "    #     LC += x\n",
        "\n",
        "    # return LC\n",
        "\n",
        "    # print(\"just_digits('Yiiikes!') =\", just_digits('Yiiikes!'))\n",
        "    # print(f\"{count_eyes('Yiiikes!') = }\")   # f-strings ⋮)\n",
        "    # print()\n",
        "\n"
      ]
    },
    {
      "cell_type": "code",
      "execution_count": 49,
      "metadata": {
        "id": "s_i2ogDUDkAu"
      },
      "outputs": [],
      "source": [
        "#\n",
        "# just_text( s ):   returns a new version of s, where\n",
        "#                    everything has been lower-cased, and\n",
        "#                    all non-letters and non-spaces have been removed\n",
        "#                    (that is, just keep the \"text\")\n",
        "#\n",
        "#                    Hint: s.lower() returns an all lower-case version of s\n",
        "\n",
        "def just_text( s ):\n",
        "    # f''' Returns lower cased letters within string s, wont run\n",
        "    # '''\n",
        "    # resullt = \"\"\n",
        "    # for x in range(len(s)):\n",
        "    #   if x.isdigit() == False and x != \" \":\n",
        "    #     result += x\n",
        "\n",
        "    # return result.lower()\n",
        "\n",
        "\n",
        "\n",
        "    pass"
      ]
    },
    {
      "cell_type": "markdown",
      "metadata": {
        "id": "cuo1oWZVDkAv"
      },
      "source": [
        "#### Example stolen from the past...\n",
        "+ And Kenneth + Charlie's function, as well...\n",
        "  + K+C's is more representative of what's imagined...\n",
        "  + Up to you!"
      ]
    },
    {
      "cell_type": "code",
      "execution_count": null,
      "metadata": {
        "id": "rD_PLmWPDkAv"
      },
      "outputs": [],
      "source": [
        "#\n",
        "# your own string-transforming function:  up to you\n",
        "#    encouraged: come up with something uniquely yours (or your team's)\n",
        "#                ... but no need to go overboard (more problems are ahead!)\n",
        "#\n",
        "# be sure to show off a couple of your own tests, too\n",
        "#\n",
        "\n",
        "# Here's Kenneth and Charlie's:\n",
        "\n",
        "\n",
        "def obish(s):\n",
        "    '''\n",
        "    Input: a string, s\n",
        "    Output: the string converted to obish (https://www.instructables.com/How-to-speak-Obish/)\n",
        "    '''\n",
        "    vowels = 'aeiouy'\n",
        "    outputStr = \"\"\n",
        "    for i in s:\n",
        "        if i in vowels:\n",
        "            outputStr += \"ob\"\n",
        "        outputStr += i\n",
        "    return outputStr\n",
        "\n",
        "print(obish('bingus'))\n",
        "print(obish('Kenneth goes to my school.'))\n",
        "print(obish('brb I have to get my laundry'))\n",
        "assert obish('bingus') == 'bobingobus'\n",
        "assert obish('Kenneth goes to my school.') == 'Kobennobeth goboobes tobo moby schoboobol.'\n",
        "assert obish('brb I have to get my laundry') == 'brb I hobavobe tobo gobet moby lobaobundroby'\n",
        "\n",
        "#\n",
        "# note from ZD:  not sure what I'd maximize here, but so be it!\n",
        "#"
      ]
    },
    {
      "cell_type": "code",
      "execution_count": null,
      "metadata": {
        "id": "PhKufs9_DkAv"
      },
      "outputs": [],
      "source": [
        "#\n",
        "# your own string-quantifying function:  again, up to you\n",
        "#   something uniquely yours: a question not-yet-asked :)\n",
        "#\n",
        "# be sure to show off at least two of your own tests, too\n",
        "#\n",
        "\n",
        "print(\"your function here! (Be sure to have small-example tests and a large-example test!)\")\n",
        "\n"
      ]
    },
    {
      "cell_type": "markdown",
      "metadata": {
        "id": "O32D5nHfDkAv"
      },
      "source": [
        "#### Then, add two functions that you brainstorm, implement, and test...\n",
        "\n",
        "Here are a couple of examples - one of mine and one from a prior cs35 - to help the brainstorming.\n",
        "\n",
        "The key is that yours should be, well, yours! That is, something that would only have been created by you/your team -- explain the reasoning, the process you went through, and the process that ended up working.\n",
        "\n",
        "Here, both algorithmic creativity and content creativity are equally the goal. That said, the aim is 15-20 minutes. (Remember you can always adapt the individualized outcome you're aiming for!)\n"
      ]
    },
    {
      "cell_type": "code",
      "execution_count": null,
      "metadata": {
        "id": "oHcEWbYvDkAv"
      },
      "outputs": [],
      "source": [
        "#\n",
        "# your own string-transforming function:  up to you\n",
        "#    the goal: come up with something uniquely yours ...\n",
        "#              ... no need to go overboard (more challenges ahead!)\n",
        "#\n",
        "# be sure to show off at least two of your own tests, too\n",
        "#\n",
        "\n",
        "# Here's my example:\n",
        "\n",
        "def poptart_score(s):\n",
        "    \"\"\" returns the wordle score vs. \"poptart\" (exactly 7 letters)\n",
        "          $ will represent the correct letter in a correct spot\n",
        "          ~ will represent the correct letter in an incorrect spot\n",
        "    \"\"\"\n",
        "    # let's make sure s has exactly 7 letters\n",
        "    s = s + \"*\"*7   # add extra asterisks at the end to have at least 7 letters\n",
        "    s = s[0:7]      # trim to 7 letters using a slice\n",
        "\n",
        "    result = \"\"\n",
        "    for i in range(len(s)):  # loop over each index i, from 0 to len(s)-1\n",
        "        if \"poptart\"[i] == s[i]:\n",
        "            result += '$'    # correct letter, correct spot\n",
        "        elif s[i] in \"poptart\":\n",
        "            result += '~'    # correct letter, wrong spot\n",
        "        else:\n",
        "            result += ' '    # not a correct letter\n",
        "\n",
        "    return result\n",
        "\n",
        "#\n",
        "# be sure to run on a large string\n",
        "#\n",
        "INPUT_STRING = \"\"\"scripps claremontmckenna pitzer mudd pomona sci50l poptart\"\"\"\n",
        "INPUT_LIST = INPUT_STRING.split()\n",
        "for s in INPUT_LIST:              # Let's test it on each string (word) in our list\n",
        "    inp = s                       # the function input\n",
        "    out = poptart_score(s)       # the function output\n",
        "    inp7 = (s + \"*\"*7)[:7]          # a seven-character (padded/sliced) input\n",
        "    print(f\"{inp:>25s}  ->  |{inp7}|\")\n",
        "    print( f\"{'':>25s}      |{out}|\")      # f-strings to show the transformation\n",
        "    print( f\"{'':>25s}      |{'poptart'}|\\n\")"
      ]
    },
    {
      "cell_type": "code",
      "execution_count": null,
      "metadata": {
        "id": "a00gjDcKDkAv"
      },
      "outputs": [],
      "source": [
        "#\n",
        "# also be sure to run on at least one file find the results\n",
        "#     can be only printing, but if there's something to maximize or minimize,\n",
        "#     it is always fun to see what's \"best\" or \"worst\"\n",
        "#\n",
        "\n",
        "INPUT_STRING = GET_STRING_FROM_FILE(\"input.txt\")\n",
        "INPUT_LIST = INPUT_STRING.split(\"\\n\")  # '\\n'\n",
        "\n",
        "AllResults = []\n",
        "\n",
        "for s in INPUT_LIST:              # Let's test it on each string (word) in our list\n",
        "    inp = s                       # the function input\n",
        "    out = poptart_score(s)       # the function output\n",
        "    inp7 = (s + \"*\"*7)[:7]          # a seven-character (padded/sliced) input\n",
        "    print(f\"{inp[0:20]:>25s}  ->  |{inp7}|\")\n",
        "    print( f\"{'':>25s}      |{out}|\")      # f-strings to show the transformation\n",
        "    print( f\"{'':>25s}      |{'poptart'}|\\n\")\n",
        "    this_score = out.count(\"$\")*4 + out.count(\"~\")*2  # my scoring system!\n",
        "    AllResults.append( [out,inp] )       # append the output and input as a _sublist_\n",
        "\n",
        "maximum_line = max(AllResults)          # take the maximum\n",
        "print(\"The max and maximum line:\", maximum_line)"
      ]
    },
    {
      "cell_type": "code",
      "source": [
        "def nxtDecade(n):\n",
        "\n",
        "  \"\"\"Returns how old user will be in ten years and compares it to mine.\n",
        "  Prints out years younger or older user will be and rejects any non-digit inputs\n",
        "  \"\"\"\n",
        "\n",
        "  # myage = 27\n",
        "  # urage = n\n",
        "\n",
        "  # newage = n + 10\n",
        "\n",
        "  # if newage < 27:\n",
        "  #   differ = 27 - newage\n",
        "  #   print(f\"wow...you are going to be {newage}...you are going to be {differ} younger than me!!\")\n",
        "  #   print()\n",
        "  # elif newage > 27:\n",
        "  #   sum = newage - 27\n",
        "  #   print(f\"wow...you are going to be {newage}...you are going to be {sum} older than me!!\")\n",
        "  #   print()\n",
        "  # elif newage == 27:\n",
        "  #   print(f\"wow...you are going to be {newage}...you are going to be the same age as me!!\")\n",
        "  #   print()\n",
        "  # else:\n",
        "  #   print(\"try input another #...this one doesn't seem to work lol\")\n",
        "  #   print()\n",
        "\n"
      ],
      "metadata": {
        "id": "2VnKHQ9mOjcz"
      },
      "execution_count": 53,
      "outputs": []
    },
    {
      "cell_type": "markdown",
      "metadata": {
        "id": "nuzrEhMrDkAv"
      },
      "source": [
        "#### <b><font color=\"Coral\">Reflections</font></b>\n",
        "\n",
        "In a short 4-6 sentence markdown cell, share\n",
        "+ Did you use AI?  (We hope so!)\n",
        "+ If so, which one(s)? was it helpful?\n",
        "+ Was there anything surprising about what it could help with?\n",
        "+ Was there anything surprising about what it _couldn't_ help with?\n",
        "\n",
        "Key question:\n",
        "+ Did you feel there was more reinforcement -- or more tension --    between \"helping accomplish\" and \"helping understand\"?"
      ]
    },
    {
      "cell_type": "markdown",
      "source": [
        "- I didn't think to use AI, but I'll defintely use it in the future.\n",
        "- I think one useful model is ChatGPT, or Gemini, with catching different errors and sytnax mistakes.\n",
        "- For previous experience, I think ChatGPT sort of spit out it's own answer, even when I wanted just a hint. Although, I think it's super useful when it comes to ideas and generating accurate code sometimes.\n",
        "- A lot of the understanding was through external websites which somewhat helped me to accomplish and comprehend the material within this notebook, so I think it was somewhat reinforced."
      ],
      "metadata": {
        "id": "kbsBbHDmRJnw"
      }
    },
    {
      "cell_type": "markdown",
      "metadata": {
        "id": "tXHDNn-8DkAv"
      },
      "source": [
        "#### <b><font color=\"Coral\">Submitting</font></b>\n",
        "+ _Do_ keep your cell outputs intact: <i>Don't clear them</i>\n",
        "+ If needed, use your choice of \"commenting out\":\n",
        "+ `if False:` , `# hashes` , `''' triple quotes '''`   for code that does not work\n",
        "+ _Do_ add context in comments or markdown both for things that worked (optional and welcome) and for things that you didn't get working (it shows you _know_ it's not working!)\n",
        "\n"
      ]
    }
  ],
  "metadata": {
    "kernelspec": {
      "display_name": "Python 3.10.4 64-bit",
      "language": "python",
      "name": "python3"
    },
    "language_info": {
      "codemirror_mode": {
        "name": "ipython",
        "version": 3
      },
      "file_extension": ".py",
      "mimetype": "text/x-python",
      "name": "python",
      "nbconvert_exporter": "python",
      "pygments_lexer": "ipython3",
      "version": "3.12.1"
    },
    "orig_nbformat": 4,
    "vscode": {
      "interpreter": {
        "hash": "aee8b7b246df8f9039afb4144a1f6fd8d2ca17a180786b69acc140d282b71a49"
      }
    },
    "colab": {
      "provenance": []
    }
  },
  "nbformat": 4,
  "nbformat_minor": 0
}