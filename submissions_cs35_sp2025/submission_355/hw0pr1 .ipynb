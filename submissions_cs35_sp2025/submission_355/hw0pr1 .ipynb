{
 "cells": [
  {
   "cell_type": "markdown",
   "metadata": {},
   "source": [
    "### Jupyter Notebooks and Markdown!\n",
    "+ At heart, cs35 is about bridge-building between human expression and executable expression\n",
    "+ markdown is a popular language for human expression  (this cell is markdown)\n",
    "  + control-enter renders the Markdown  (\"runs\" it)\n",
    "+ python is a popular language for executable expression (see cells below!)"
   ]
  },
  {
   "cell_type": "markdown",
   "metadata": {},
   "source": [
    "#### This is a Markdown cell, a <i>fourth-level</i> header\n",
    "+ If you've already used Markdown, e.g., in Discord, wiki editing, etc., wonderful!\n",
    "+ If you haven't used it, [this Markdown link](https://www.markdownguide.org/basic-syntax/) is a reference...\n",
    "+ Equally or more welcome: &nbsp; Dive in! &nbsp; Share! &nbsp; Ask!"
   ]
  },
  {
   "cell_type": "markdown",
   "metadata": {},
   "source": [
    "#### <font color=\"Coral\">First task</font> -- is \"to markdown\":\n",
    "+ Here, use your markdown knowledge or research to...\n",
    "+ **bold** this item\n",
    "+ *italicize* this item\n",
    "+ ~~strikethrough~~ this item\n",
    "+ use ```fixed-width formatting``` for this item, i.e., code-style\n",
    "+ and ***then do something else*** (your choice) with this item\n",
    "+ BUT... <i><b><u>don't</u></b></i> use mark<u>up</u>, as this item does. Use mark<u>down</u>!\n",
    "+ That is to say, don't use tags like <tt>\\<i\\>this\\</i\\></tt> for any of the challenges above..."
   ]
  },
  {
   "attachments": {},
   "cell_type": "markdown",
   "metadata": {},
   "source": [
    "#### <font color=\"Coral\">Second task</font> \n",
    "\n",
    "CS35_Participant_12\n",
    "+ I have a twin sister! \n",
    "+ I'd highly recommend' [Derry Girls](https://www.netflix.com/search?q=derry&jbv=80238565) if you're looking to casually bingewatch a show with friends. \n",
    "+ I love learning about all the new tools we're building in the context of aerospace and biomedical engineering, a few years ago I got to [shadow](https://magazine.hmc.edu/summer-2021/my-year-before-mudd/) a trial of new less invasive surgical instruments and interview the test users for their feedback! \n",
    "+ I think real (and fictional) languages are super cool and would encourage anyone with 15-ish minutes to check out one of the many [languages](https://en.wikipedia.org/wiki/Sindarin#:~:text=Sindarin%20is%20the%20language%20usually,greatly%20in%20grammar%20and%20structure.) that Tolkien came up with!"
   ]
  },
  {
   "attachments": {},
   "cell_type": "markdown",
   "metadata": {},
   "source": [
    "#### <font color=\"Coral\">Third task</font> include a linked image via url: this is some context as to where that one language fits in...\n",
    "\n",
    "\n",
    "<img src=\"https://upload.wikimedia.org/wikipedia/commons/d/d3/Elvish_Languages_Mapped_to_Kindreds_and_Migrations.svg\" height=300>"
   ]
  },
  {
   "cell_type": "markdown",
   "metadata": {},
   "source": [
    "### Onward to Python!"
   ]
  },
  {
   "cell_type": "code",
   "execution_count": 2,
   "metadata": {},
   "outputs": [
    {
     "name": "stdout",
     "output_type": "stream",
     "text": [
      "x is 43\n"
     ]
    },
    {
     "data": {
      "text/plain": [
       "42"
      ]
     },
     "execution_count": 2,
     "metadata": {},
     "output_type": "execute_result"
    }
   ],
   "source": [
    "#\n",
    "# python is a popular language for executable expression\n",
    "#     This is a python cell\n",
    "#     Try this shortcut: control-return or control-enter runs it:\n",
    "\n",
    "x = 43\n",
    "print(\"x is\", x)\n",
    "\n",
    "x -= 1\n",
    "x\n",
    "\n",
    "# notice that the last expression is the cell's output.\n",
    "# printing and outputting are different!  "
   ]
  },
  {
   "cell_type": "markdown",
   "metadata": {},
   "source": [
    "#### Python review in about 5-10 cells! \n",
    "\n",
    "cs5 in one day!"
   ]
  },
  {
   "cell_type": "code",
   "execution_count": 3,
   "metadata": {},
   "outputs": [
    {
     "name": "stdout",
     "output_type": "stream",
     "text": [
      "L[1:] equals [8, 9]\n",
      "L[1:] equals [8, 9]\n",
      "L[1:] = [8, 9]\n",
      "\n",
      "cmc scripps pitzer hmc\n"
     ]
    },
    {
     "data": {
      "text/plain": [
       "True"
      ]
     },
     "execution_count": 3,
     "metadata": {},
     "output_type": "execute_result"
    }
   ],
   "source": [
    "#\n",
    "# Let's fit all of Python into the next five or so cells!\n",
    "#\n",
    "\n",
    "L = [7,8,9]\n",
    "\n",
    "print(\"L[1:] equals\", L[1:])    # slicing!\n",
    "\n",
    "print(f\"L[1:] equals {L[1:]}\")  # f strings!\n",
    "\n",
    "print(f\"{L[1:] = }\")            # cool = syntax, new for me...\n",
    "\n",
    "print()\n",
    "\n",
    "colleges = 'cmc scripps pitzer hmc'\n",
    "print(colleges)\n",
    "\n",
    "'c' in colleges          # in is in!"
   ]
  },
  {
   "cell_type": "markdown",
   "metadata": {},
   "source": [
    "#### Let's use f-strings more carefully ...\n"
   ]
  },
  {
   "cell_type": "code",
   "execution_count": 4,
   "metadata": {},
   "outputs": [
    {
     "name": "stdout",
     "output_type": "stream",
     "text": [
      "x = 42\n",
      "x = 42\n"
     ]
    }
   ],
   "source": [
    "x = 42\n",
    "\n",
    "print(\"x =\", x)    # \"regular\" print\n",
    "\n",
    "print(  f\"{x = }\" )  # f-string print"
   ]
  },
  {
   "cell_type": "code",
   "execution_count": 5,
   "metadata": {},
   "outputs": [
    {
     "name": "stdout",
     "output_type": "stream",
     "text": [
      "Poptarts? I'll take 40!\n",
      "Poptarts? I'll take 41!\n",
      "Poptarts? I'll take 42!\n"
     ]
    }
   ],
   "source": [
    "\"\"\"wrong = 41\"\"\"\n",
    "snack = \"Poptarts\"\n",
    "\n",
    "# fs = f\"{snack}? I'll take {wrong+1}!\"\n",
    "# print(fs)\n",
    "\n",
    "for i in range(40,42+1):\n",
    "    print(f\"{snack}? I'll take {i}!\")\n"
   ]
  },
  {
   "cell_type": "markdown",
   "metadata": {},
   "source": [
    "#### Notice that variables persist from cell to cell...\n",
    "\n",
    "Here, ``L`` and ``colleges`` are variables defined above.\n",
    "Their values are still present:\n"
   ]
  },
  {
   "cell_type": "code",
   "execution_count": 6,
   "metadata": {},
   "outputs": [
    {
     "name": "stdout",
     "output_type": "stream",
     "text": [
      "L=[7, 8, 9]  L.index(9) is 2\n",
      "\n",
      "colleges.title() returns  Cmc Scripps Pitzer Hmc\n",
      "\n",
      "# of c's in colleges: 4\n",
      "\n",
      "CmC sCripps pitzer hmC\n"
     ]
    }
   ],
   "source": [
    "print(f\"{L=}  L.index(9) is\", L.index(9))     # calling methods (functions after a \".\")\n",
    "print()\n",
    "print(\"colleges.title() returns \", colleges.title())        # ditto!  Let's shout!\n",
    "print()\n",
    "print(\"# of c's in colleges:\", colleges.count('c'))\n",
    "print()\n",
    "print(colleges.replace('c','C'))"
   ]
  },
  {
   "cell_type": "markdown",
   "metadata": {},
   "source": [
    "#### ``split`` is a _really_ useful function\n",
    "\n",
    "Notice that it is called <i>by</i> the string being split.\n",
    "\n",
    "It returns a list!\n",
    "\n",
    "(Q'n: <i>How in the input being used?</i>)\n"
   ]
  },
  {
   "cell_type": "code",
   "execution_count": 7,
   "metadata": {},
   "outputs": [
    {
     "name": "stdout",
     "output_type": "stream",
     "text": [
      "LoW is ['cmc', 'scripps', 'pitzer', 'hmc']\n",
      "LoS is ['', 'm', ' s', 'ripps pitzer hm', '']\n"
     ]
    }
   ],
   "source": [
    "LoW = colleges.split()\n",
    "print(\"LoW is\", LoW)\n",
    "\n",
    "LoS = colleges.split('c')\n",
    "print(\"LoS is\", LoS)"
   ]
  },
  {
   "cell_type": "markdown",
   "metadata": {},
   "source": [
    "#### ``join`` is the _opposite_ of split"
   ]
  },
  {
   "cell_type": "code",
   "execution_count": 8,
   "metadata": {},
   "outputs": [
    {
     "data": {
      "text/plain": [
       "'wordleisawesome'"
      ]
     },
     "execution_count": 8,
     "metadata": {},
     "output_type": "execute_result"
    }
   ],
   "source": [
    "LoW = [ \"word\", \"leisa\", \"we\", \"some\" ]\n",
    "''.join(LoW)"
   ]
  },
  {
   "cell_type": "markdown",
   "metadata": {},
   "source": [
    "#### <font color=\"Coral\">Fourth task</font>: &nbsp; add another example in the spirit of the one below... \n",
    "+ create (at least) three more variables and\n",
    "+ a sentence using all of them and\n",
    "+ render them in a single strings using f-strings...    \n",
    "\n",
    "Experiment! "
   ]
  },
  {
   "cell_type": "code",
   "execution_count": 11,
   "metadata": {},
   "outputs": [
    {
     "name": "stdout",
     "output_type": "stream",
     "text": [
      "hello from jupyter, running python, within vscode...!\n",
      "\n",
      "Meta would be proud!\n",
      "\n",
      "how much caffeine is too much caffeine? Asking for a friend... Thanks (:\n",
      "\n"
     ]
    }
   ],
   "source": [
    "#\n",
    "# f-strings!\n",
    "#     \n",
    "\n",
    "interface = \"jupyter\"\n",
    "language = \"python\"\n",
    "application = \"vscode\"\n",
    "\n",
    "print(f\"hello from {interface}, running {language}, within {application}...!\")\n",
    "print()\n",
    "\n",
    "company = \"Meta\"\n",
    "print(f\"{company} would be proud!\")\n",
    "\n",
    "#\n",
    "# Feel free to create your own quippy example here or in a new cell...\n",
    "# \n",
    "\n",
    "drug = \"caffeine\" \n",
    "subject = \"a friend\"\n",
    "signOff = \"Thanks (:\"\n",
    "\n",
    "print()\n",
    "print(f\"how much {drug} is too much {drug}? Asking for {subject}... {signOff}\")\n",
    "print()"
   ]
  },
  {
   "cell_type": "markdown",
   "metadata": {},
   "source": [
    "#### **Remember**  _list comprehensions_  ?\n",
    "+ they are \"loops-in-lists\"\n",
    "+ or \"lists-with-loops\"\n",
    "\n"
   ]
  },
  {
   "cell_type": "code",
   "execution_count": 12,
   "metadata": {},
   "outputs": [
    {
     "data": {
      "text/plain": [
       "[40, 42, 44, 46]"
      ]
     },
     "execution_count": 12,
     "metadata": {},
     "output_type": "execute_result"
    }
   ],
   "source": [
    "# I <3 list comprehensions!\n",
    "[ 2*x for x in range(20,24) ]"
   ]
  },
  {
   "cell_type": "code",
   "execution_count": 13,
   "metadata": {},
   "outputs": [
    {
     "name": "stdout",
     "output_type": "stream",
     "text": [
      "LC = [0, 2, 4, 6, 8, 10, 12, 14, 16, 18, 20, 22, 24, 26, 28, 30, 32, 34, 36, 38, 40, 42, 44, 46, 48, 50, 52, 54, 56, 58, 60, 62, 64, 66, 68, 70, 72, 74, 76, 78, 80, 82, 84, 86, 88, 90, 92, 94, 96, 98, 100, 102, 104, 106, 108, 110, 112, 114, 116, 118, 120, 122, 124, 126, 128, 130, 132, 134, 136, 138, 140, 142, 144, 146, 148, 150, 152, 154, 156, 158, 160, 162, 164, 166, 168, 170, 172, 174, 176, 178, 180, 182, 184, 186, 188, 190, 192, 194, 196, 198, 200, 202, 204, 206, 208, 210, 212, 214, 216, 218, 220, 222, 224, 226, 228, 230, 232, 234, 236, 238, 240, 242, 244, 246, 248, 250, 252, 254, 256, 258, 260, 262, 264, 266, 268, 270, 272, 274, 276, 278, 280, 282, 284, 286, 288, 290, 292, 294, 296, 298, 300, 302, 304, 306, 308, 310, 312, 314, 316, 318, 320, 322, 324, 326, 328, 330, 332, 334, 336, 338, 340, 342, 344, 346, 348, 350, 352, 354, 356, 358, 360, 362, 364, 366, 368, 370, 372, 374, 376, 378, 380, 382, 384, 386, 388, 390, 392, 394, 396, 398, 400, 402, 404, 406, 408, 410, 412, 414, 416, 418, 420, 422, 424, 426, 428, 430, 432, 434, 436, 438, 440, 442, 444, 446, 448, 450, 452, 454, 456, 458, 460, 462, 464, 466, 468, 470, 472, 474, 476, 478, 480, 482, 484, 486, 488, 490, 492, 494, 496, 498, 500, 502, 504, 506, 508, 510, 512, 514, 516, 518, 520, 522, 524, 526, 528, 530, 532, 534, 536, 538, 540, 542, 544, 546, 548, 550, 552, 554, 556, 558, 560, 562, 564, 566, 568, 570, 572, 574, 576, 578, 580, 582, 584, 586, 588, 590, 592, 594, 596, 598, 600, 602, 604, 606, 608, 610, 612, 614, 616, 618, 620, 622, 624, 626, 628, 630, 632, 634, 636, 638, 640, 642, 644, 646, 648, 650, 652, 654, 656, 658, 660, 662, 664, 666, 668, 670, 672, 674, 676, 678, 680, 682, 684, 686, 688, 690, 692, 694, 696, 698, 700, 702, 704, 706, 708, 710, 712, 714, 716, 718, 720, 722, 724, 726, 728, 730, 732, 734, 736, 738, 740, 742, 744, 746, 748, 750, 752, 754, 756, 758, 760, 762, 764, 766, 768, 770, 772, 774, 776, 778, 780, 782, 784, 786, 788, 790, 792, 794, 796, 798, 800, 802, 804, 806, 808, 810, 812, 814, 816, 818, 820, 822, 824, 826, 828, 830, 832, 834, 836, 838, 840, 842, 844, 846, 848, 850, 852, 854, 856, 858, 860, 862, 864, 866, 868, 870, 872, 874, 876, 878, 880, 882, 884, 886, 888, 890, 892, 894, 896, 898, 900, 902, 904, 906, 908, 910, 912, 914, 916, 918, 920, 922, 924, 926, 928, 930, 932, 934, 936, 938, 940, 942, 944, 946, 948, 950, 952, 954, 956, 958, 960, 962, 964, 966, 968, 970, 972, 974, 976, 978, 980, 982, 984, 986, 988, 990, 992, 994, 996, 998]\n",
      "\n",
      "answer = 500\n"
     ]
    }
   ],
   "source": [
    "#\n",
    "# Here is an example that uses list comprehensions to\n",
    "# count how many of the first 1000 integers are even\n",
    "\n",
    "LC = [ x for x in range(1000) if x % 2 == 0 ]\n",
    "print(f\"LC = {LC}\")\n",
    "print()\n",
    "\n",
    "answer = len(LC)\n",
    "print(f\"answer = {answer}\")\n"
   ]
  },
  {
   "cell_type": "markdown",
   "metadata": {},
   "source": [
    "#### <font color=\"Coral\">Fifth task</font>: &nbsp; <b>LC Challenge</b>\n",
    "\n",
    "Use list comprehensions to find how many of the first 1000 integers, _when squared_, contain the digit 4?\n",
    "+ Remember: ``str(x)`` converts ``x`` to a string\n",
    "\n",
    "Then, create a variation of this question -- of your own design -- and answer it! For example,\n",
    "+ what about checking for ``'4'`` and ``'2'`` ?\n",
    "+ what about checking for ``'4'`` or ``'2'`` ?\n",
    "+ even better: something else you've devised!\n",
    "\n",
    "Then , in a sentence-ish, explain your thinking: \n",
    "  + <i>why that question</i> \n",
    "  + <i>how did you answer it computationally?</i>\n",
    "  + <i>does the answer seem reasonable?</i>"
   ]
  },
  {
   "cell_type": "code",
   "execution_count": 20,
   "metadata": {},
   "outputs": [
    {
     "name": "stdout",
     "output_type": "stream",
     "text": [
      "\n",
      "answer = 510\n",
      "answer = 909\n"
     ]
    }
   ],
   "source": [
    "#how many contain 4:\n",
    "LCsquared = [ x**2 for x in range(1000) ]\n",
    "print()\n",
    "\n",
    "LC4 = [ x for x in LCsquared if str(4) in str(x) ]\n",
    "\n",
    "answer = len(LC4)\n",
    "print(f\"answer = {answer}\")\n",
    "\n",
    "# how many in LCsquared contain single digit squares (ie 1, 4, 9)\n",
    "LC149 = [ x for x in LCsquared if str(4) in str(x) or str(1) in str(x) or str(9) in str(x) ]\n",
    "\n",
    "answer2 = len(LC149)\n",
    "print(f\"answer = {answer2}\")\n",
    "\n",
    "# I chose this question because we're squaring every term in range(1000), so I would expect more digits that are squares of a number than not.\n",
    "# I answered it computationally using an OR statement that counts a value if it has any of 1, 4, 9.\n",
    "# The answer is pretty high but within reason given that the max is 1000 numbers, the list has entries from 1 to 6 digits, and any one of those digits has to be one of three."
   ]
  },
  {
   "cell_type": "code",
   "execution_count": 26,
   "metadata": {},
   "outputs": [
    {
     "data": {
      "text/plain": [
       "'c:\\\\Users\\\\CS35_Participant_12\\\\OneDrive\\\\Desktop'"
      ]
     },
     "execution_count": 26,
     "metadata": {},
     "output_type": "execute_result"
    }
   ],
   "source": [
    "# remember pwd? It's short for \"print working directory\"  (that is, your current folder)\n",
    "# It's a shell command, i.e., to be run at the terminal or command-line (or shell).\n",
    "\n",
    "# Since this is not python, python needs to know it's a special command:  %pwd does the trick\n",
    "%pwd"
   ]
  },
  {
   "cell_type": "code",
   "execution_count": 29,
   "metadata": {},
   "outputs": [
    {
     "name": "stdout",
     "output_type": "stream",
     "text": [
      " Volume in drive C is OS\n",
      " Volume Serial Number is E4C4-6B90\n",
      "\n",
      " Directory of c:\\Users\\CS35_Participant_12\\OneDrive\\Desktop\\CS35\n",
      "\n",
      "01/28/2025  02:40 PM    <DIR>          .\n",
      "01/28/2025  02:22 PM    <DIR>          ..\n",
      "01/28/2025  02:41 PM            44,843 hw0pr1.ipynb\n",
      "01/28/2025  02:40 PM    <DIR>          week0\n",
      "01/28/2025  02:24 PM    <DIR>          xyz\n",
      "               1 File(s)         44,843 bytes\n",
      "               4 Dir(s)  280,360,480,768 bytes free\n"
     ]
    }
   ],
   "source": [
    "# Another important shell command:  ls (lists contents)\n",
    "%ls"
   ]
  },
  {
   "cell_type": "code",
   "execution_count": 33,
   "metadata": {},
   "outputs": [
    {
     "name": "stdout",
     "output_type": "stream",
     "text": [
      "c:\\Users\\CS35_Participant_12\\OneDrive\\Desktop\\CS35\\week0\\intro_first\\intro_first\n"
     ]
    },
    {
     "name": "stderr",
     "output_type": "stream",
     "text": [
      "C:\\Users\\CS35_Participant_12\\AppData\\Local\\Packages\\PythonSoftwareFoundation.Python.3.12_qbz5n2kfra8p0\\LocalCache\\local-packages\\Python312\\site-packages\\IPython\\core\\magics\\osm.py:417: UserWarning: This is now an optional IPython functionality, setting dhist requires you to install the `pickleshare` library.\n",
      "  self.shell.db['dhist'] = compress_dhist(dhist)[-100:]\n"
     ]
    }
   ],
   "source": [
    "# the following cell shows cd, changing the current directory. \n",
    "# We will also try cd .. (to \"move up\" one level)\n",
    "\n",
    "# WARNING:  when cd does work, the _whole notebook_ has changed what it considers\n",
    "#           its \"current directory\"  You'll see this here:\n",
    "\n",
    "%cd intro_first"
   ]
  },
  {
   "cell_type": "code",
   "execution_count": 34,
   "metadata": {},
   "outputs": [
    {
     "name": "stdout",
     "output_type": "stream",
     "text": [
      "c:\\Users\\CS35_Participant_12\\OneDrive\\Desktop\\CS35\\week0\\intro_first\n"
     ]
    }
   ],
   "source": [
    "# And, we need to be able to move \"up\" or \"outward\"!\n",
    "# To do this, use   cd ..     Here, in jupyter:\n",
    " \n",
    "%cd .."
   ]
  },
  {
   "cell_type": "code",
   "execution_count": 35,
   "metadata": {},
   "outputs": [
    {
     "name": "stdout",
     "output_type": "stream",
     "text": [
      "c:\\Users\\CS35_Participant_12\\OneDrive\\Desktop\\CS35\\week0\n"
     ]
    }
   ],
   "source": [
    "# we can keep going!   cd .. \"goes up\" one directory level\n",
    "%cd .."
   ]
  },
  {
   "cell_type": "code",
   "execution_count": 36,
   "metadata": {},
   "outputs": [
    {
     "data": {
      "text/plain": [
       "'c:\\\\Users\\\\CS35_Participant_12\\\\OneDrive\\\\Desktop\\\\CS35\\\\week0'"
      ]
     },
     "execution_count": 36,
     "metadata": {},
     "output_type": "execute_result"
    }
   ],
   "source": [
    "# you don't need a new cell each time...\n",
    "%pwd"
   ]
  },
  {
   "cell_type": "code",
   "execution_count": 10,
   "metadata": {},
   "outputs": [
    {
     "name": "stdout",
     "output_type": "stream",
     "text": [
      "It was True!\n"
     ]
    }
   ],
   "source": [
    "# Really, each notebook cell is a script, sharing state with the others\n",
    "\n",
    "# Here, our code is guarded by an if True:\n",
    "\n",
    "if True:\n",
    "    print(f\"It was True!\")\n",
    "\n",
    "# try changing the True to False. \n",
    "# There's no need to change the printing, because it won't print...\n",
    "\n",
    "# When submitting notebooks, we ask you to submit notebooks that run...\n",
    "# However, feel free to keep any+all non-running code! Simply comment it out\n",
    "# For example, with if False: \n",
    "# hashtags and \"\"\" triple-quoted strings \"\"\" also work ... \n",
    "# ... though they lose the code-structure and syntax highlighting! (As you see! :-)"
   ]
  },
  {
   "cell_type": "code",
   "execution_count": 11,
   "metadata": {},
   "outputs": [
    {
     "data": {
      "text/plain": [
       "42"
      ]
     },
     "execution_count": 11,
     "metadata": {},
     "output_type": "execute_result"
    }
   ],
   "source": [
    "# reminder: in each cell (script) all lines are run; only the last line is output\n",
    "y = 58\n",
    "x = y-7\n",
    "x = x-1\n",
    "x = x-8\n",
    "x"
   ]
  },
  {
   "cell_type": "code",
   "execution_count": 12,
   "metadata": {},
   "outputs": [
    {
     "data": {
      "text/plain": [
       "58"
      ]
     },
     "execution_count": 12,
     "metadata": {},
     "output_type": "execute_result"
    }
   ],
   "source": [
    "# BEWARE:  Variables are global through the notebook!\n",
    "# Here, y will be 58, from the cell above... if you've run that cell!\n",
    "y"
   ]
  },
  {
   "cell_type": "markdown",
   "metadata": {},
   "source": [
    "#### Let's function!  A first example, `plus1` and  its tests..."
   ]
  },
  {
   "cell_type": "code",
   "execution_count": 15,
   "metadata": {},
   "outputs": [
    {
     "name": "stdout",
     "output_type": "stream",
     "text": [
      "plus1(41) -> 42 should be 42\n",
      "plus1(9000) -> 9001 should be 9001\n"
     ]
    }
   ],
   "source": [
    "# a good starting point!\n",
    "\n",
    "def plus1( N ):\n",
    "    \"\"\" returns a number one larger than its input \"\"\"\n",
    "    return N+1\n",
    "\n",
    "if True:\n",
    "    print(f\"plus1(41) -> {plus1(41)} should be {42}\")\n",
    "    print(f\"plus1(9000) -> {plus1(9000)} should be {9001}\")\n",
    "    assert plus1(41) == 42\n",
    "    assert plus1(9000) == 9001\n",
    "\n",
    "# print tests succeed and fail \"out loud\" \n",
    "# assert tests succeed silently and only fail \"out loud\" (and crash!)"
   ]
  },
  {
   "cell_type": "markdown",
   "metadata": {},
   "source": [
    "### Let's loop!\n",
    "\n",
    "Below, \n",
    "+ run this infinite loop - a while loop\n",
    "+ practice using the \"Interrupt\" (the square at the upper left of the cell) to kill it\n",
    "+ then, use the three-dots menu at the lower left to delete the cell's output...\n"
   ]
  },
  {
   "cell_type": "code",
   "execution_count": null,
   "metadata": {},
   "outputs": [],
   "source": [
    "# \n",
    "# An infinite loop...\n",
    "#\n",
    "\n",
    "print(f\"Start!\")\n",
    "i = 0\n",
    "\n",
    "while True:\n",
    "    print(i, end=\" \", flush=True)\n",
    "    i = i+1\n",
    "    \n",
    "print(f\"End.\")\n"
   ]
  },
  {
   "cell_type": "markdown",
   "metadata": {},
   "source": [
    "#### For-loop reminders...."
   ]
  },
  {
   "cell_type": "code",
   "execution_count": 17,
   "metadata": {},
   "outputs": [
    {
     "name": "stdout",
     "output_type": "stream",
     "text": [
      "Poptarts? I'll take 0!\n",
      "Poptarts? I'll take 1!\n",
      "Poptarts? I'll take 2!\n",
      "Poptarts? I'll take 3!\n",
      "Poptarts? I'll take 4!\n"
     ]
    }
   ],
   "source": [
    "#\n",
    "# Let's loop!\n",
    "#\n",
    "\n",
    "snack = \"Poptarts\"\n",
    "\n",
    "for i in range(0,5):\n",
    "        print(f\"{snack}? I'll take {i}!\")"
   ]
  },
  {
   "cell_type": "code",
   "execution_count": 18,
   "metadata": {},
   "outputs": [
    {
     "name": "stdout",
     "output_type": "stream",
     "text": [
      "Testing countdown(5):\n",
      "i == 5\n",
      "i == 4\n",
      "i == 3\n",
      "i == 2\n",
      "i == 1\n",
      "i == 0\n"
     ]
    }
   ],
   "source": [
    "# countdown( N )    emphasizes looping and printing (there is no return value!)\n",
    "#\n",
    "import time\n",
    "\n",
    "def countdown( N ):\n",
    "    \"\"\" counts downward from N to 0, printing  \"\"\"\n",
    "    for i in range(N,-1,-1):  # starts at N, ends at 0, steps by -1\n",
    "        print(\"i ==\", i)\n",
    "        time.sleep(0.2)\n",
    "\n",
    "    return    # no return value here!\n",
    "\n",
    "# testing countdown\n",
    "if True:\n",
    "    print(\"Testing countdown(5):\")\n",
    "    countdown(5)  # should print things -- with dramatic pauses! "
   ]
  },
  {
   "cell_type": "markdown",
   "metadata": {},
   "source": [
    "#### The next cell shows a larger <b>script</b>, which calls the previous two functions:"
   ]
  },
  {
   "cell_type": "code",
   "execution_count": 19,
   "metadata": {},
   "outputs": [
    {
     "name": "stdout",
     "output_type": "stream",
     "text": [
      "[[ Start! ]]\n",
      "\n",
      "plus1(41) -> 42\n",
      "\n",
      "Testing countdown(4):\n",
      "i == 4\n",
      "i == 3\n",
      "i == 2\n",
      "i == 1\n",
      "i == 0\n",
      "\n",
      "[[ Fin. ]]\n"
     ]
    }
   ],
   "source": [
    "if True:\n",
    "    \"\"\" a cell for trying out the previous two cells \"\"\"\n",
    "\n",
    "    # sign on\n",
    "    print(f\"[[ Start! ]]\\n\")\n",
    "\n",
    "    # testing plus1\n",
    "    result = plus1( 41 )\n",
    "    print(f\"plus1(41) -> {result}\")\n",
    "    print()\n",
    "\n",
    "    # testing countdown\n",
    "    print(\"Testing countdown(4):\")\n",
    "    countdown(4)  # should print things -- with dramatic pauses! \n",
    "\n",
    "    # sign off\n",
    "    print(\"\\n[[ Fin. ]]\")"
   ]
  },
  {
   "cell_type": "markdown",
   "metadata": {},
   "source": [
    "#### The two mystery functions from our in-class exercise:"
   ]
  },
  {
   "cell_type": "code",
   "execution_count": 20,
   "metadata": {},
   "outputs": [
    {
     "name": "stdout",
     "output_type": "stream",
     "text": [
      "2\n"
     ]
    }
   ],
   "source": [
    "def mystery1( s ):\n",
    "    \"\"\" mystery function #1 \"\"\"\n",
    "    result = 0\n",
    "\n",
    "    for i in range(len(s)):\n",
    "        if s[i] in 'iI':  \n",
    "            result += 1     \n",
    "\n",
    "    return result                        \n",
    "\n",
    "result = mystery1(\"Aliens <3 caffeine\")\n",
    "print(result)\n",
    "\n",
    "# count number of i's in string"
   ]
  },
  {
   "cell_type": "code",
   "execution_count": 22,
   "metadata": {},
   "outputs": [
    {
     "name": "stdout",
     "output_type": "stream",
     "text": [
      "3\n"
     ]
    }
   ],
   "source": [
    "def mystery2( s ):\n",
    "    \"\"\" mystery function #2 \"\"\"\n",
    "    result = 0\n",
    "\n",
    "    for let in s:\n",
    "        if let in 'iI':  \n",
    "            result += 1  \n",
    "\n",
    "    return result                        \n",
    "\n",
    "result = mystery2(\"I like caffeine\")\n",
    "print(result)"
   ]
  },
  {
   "cell_type": "markdown",
   "metadata": {},
   "source": [
    "#### Let's show two more functions:  \n",
    "+ ``count_eyes( s )`` and \n",
    "+ ``just_eyes( s )``"
   ]
  },
  {
   "cell_type": "code",
   "execution_count": 23,
   "metadata": {},
   "outputs": [
    {
     "name": "stdout",
     "output_type": "stream",
     "text": [
      "count_eyes('Yiiikes!') = 3\n",
      "count_eyes('Yiiikes!') = 3\n",
      "\n",
      "count_eyes('Italy, icily, livelily!') = 5\n"
     ]
    }
   ],
   "source": [
    "def count_eyes( s ):\n",
    "    \"\"\" returns the number of times i or I appears in the input string s \"\"\"\n",
    "    result = 0\n",
    "\n",
    "    for letter in s:\n",
    "        if letter in 'iI':  #  equivalent:   letter == 'i' or letter == 'I'\n",
    "            result += 1     #  add one to our overall result (our count)\n",
    "\n",
    "    return result           #  AFTER the loop, we're done!\n",
    "\n",
    "print(\"count_eyes('Yiiikes!') =\",count_eyes('Yiiikes!'))\n",
    "print(f\"{count_eyes('Yiiikes!') = }\")   # f-strings ⋮)\n",
    "print()\n",
    "print(f\"{count_eyes('Italy, icily, livelily!') = }\") "
   ]
  },
  {
   "cell_type": "code",
   "execution_count": 24,
   "metadata": {},
   "outputs": [
    {
     "name": "stdout",
     "output_type": "stream",
     "text": [
      "just_eyes('Yiiikes!') = iii\n",
      "just_eyes('Yiiikes!') = 'iii'\n",
      "\n",
      "just_eyes('Italy, icily, livelily!') = 'Iiiii'\n"
     ]
    }
   ],
   "source": [
    "def just_eyes( s ):\n",
    "    \"\"\" returns a string of only the letters i or I that appear in the input s \"\"\"\n",
    "    result = ''\n",
    "\n",
    "    for letter in s:\n",
    "        if letter in 'iI':    #  equivalent:   letter == 'i' or letter == 'I'\n",
    "            result += letter  #  add _the letter_ to our overall result, now a string\n",
    "\n",
    "    return result             #  AFTER the loop, we're done!\n",
    "\n",
    "print(\"just_eyes('Yiiikes!') =\",just_eyes('Yiiikes!'))\n",
    "print(f\"{just_eyes('Yiiikes!') = }\")   # f-strings ⋮)\n",
    "print()\n",
    "print(f\"{just_eyes('Italy, icily, livelily!') = }\") "
   ]
  },
  {
   "cell_type": "code",
   "execution_count": 39,
   "metadata": {},
   "outputs": [
    {
     "name": "stdout",
     "output_type": "stream",
     "text": [
      "Shall I compare thee to a summer’s day?\n",
      "Thou art more lovely and more temperate:\n",
      "Rough winds do shake the darling buds of May,\n",
      "And summer’s lease hath all too short a date:\n",
      "Sometime too hot the eye of heaven shines,\n",
      "And often is his gold complexion dimm’d;\n",
      "And every fair from fair sometime declines,\n",
      "By chance or nature’s changing course untrimm’d;\n",
      "But thy eternal summer shall not fade\n",
      "Nor lose possession of that fair thou owest;\n",
      "Nor shall Death brag thou wander’st in his shade,\n",
      "When in eternal lines to time thou growest:\n",
      "So CS35_Participant_2 as men can breathe or eyes can see,\n",
      "So CS35_Participant_2 lives this and this gives life to thee.\n",
      "\n",
      "Shall I compare thee to a summer’s day?\n",
      "Thou art more lovely and more temperate:\n",
      "Rough winds do shake the darling buds of May,\n",
      "And summer’s lease hath all too short a date:\n",
      "Sometime too hot the eye of\n"
     ]
    }
   ],
   "source": [
    "def GET_STRING_FROM_FILE(filename=None):\n",
    "    \"\"\" return all of the contents from the file, filename\n",
    "        will error if the file is not present, then return the empty string ''\n",
    "    \"\"\"\n",
    "    try:\n",
    "        if filename == None:  filename = \"input.txt\"\n",
    "        INPUT_FILENAME = filename\n",
    "        INPUT_FILE = open(INPUT_FILENAME, \"r\", encoding='utf-8')    # how to open a file\n",
    "        DATA = INPUT_FILE.read()                                    # and get all its contents\n",
    "        INPUT_FILE.close()                                          # close the file (optional)\n",
    "        #print(DATA)                                                # if we want to see it\n",
    "        return DATA                                                 # definitely want to return it!\n",
    "    except FileNotFoundError:                   # wasn't there\n",
    "        print(f\"file not found: {filename}\")    # print error\n",
    "        return ''                               # return empty string ''\n",
    "\n",
    "# split is a wonderful function, it returns a list.  Try it!\n",
    "INPUT_STRING = GET_STRING_FROM_FILE(\"input.txt\")\n",
    "\n",
    "# Let's print only some of this large string, with all of Shakespeare's sonnets:\n",
    "print(INPUT_STRING[0:200])\n"
   ]
  },
  {
   "cell_type": "markdown",
   "metadata": {},
   "source": [
    "#### Now, let's test our ``count_eyes`` function on all of the Sonnets:"
   ]
  },
  {
   "cell_type": "code",
   "execution_count": 41,
   "metadata": {},
   "outputs": [
    {
     "name": "stdout",
     "output_type": "stream",
     "text": [
      "Shall I compare thee to a summer’s day?\n",
      "Thou art more lovely and more temperate:\n",
      "Rough winds do shake the darling buds of May,\n",
      "And summer’s lease hath all too short a date:\n",
      "Sometime too hot the eye of heaven shines,\n",
      "And often is his gold complexion dimm’d;\n",
      "And every fair from fair sometime declines,\n",
      "By chance or nature’s changing course untrimm’d;\n",
      "But thy eternal summer shall not fade\n",
      "Nor lose possession of that fair thou owest;\n",
      "Nor shall Death brag thou wander’st in his shade,\n",
      "When in eternal lines to time thou growest:\n",
      "So CS35_Participant_2 as men can breathe or eyes can see,\n",
      "So CS35_Participant_2 lives this and this gives life to thee.\n",
      "\n",
      "           Shall I compare thee to a summer’s day? -> 1\n",
      "          Thou art more lovely and more temperate: -> 0\n",
      "     Rough winds do shake the darling buds of May, -> 2\n",
      "     And summer’s lease hath all too short a date: -> 0\n",
      "        Sometime too hot the eye of heaven shines, -> 2\n",
      "          And often is his gold complexion dimm’d; -> 4\n",
      "       And every fair from fair sometime declines, -> 4\n",
      "  By chance or nature’s changing course untrimm’d; -> 2\n",
      "             But thy eternal summer shall not fade -> 0\n",
      "      Nor lose possession of that fair thou owest; -> 2\n",
      " Nor shall Death brag thou wander’st in his shade, -> 2\n",
      "       When in eternal lines to time thou growest: -> 3\n",
      "       So CS35_Participant_2 as men can breathe or eyes can see, -> 0\n",
      "   So CS35_Participant_2 lives this and this gives life to thee. -> 5\n",
      "                                                   -> 0\n"
     ]
    }
   ],
   "source": [
    "INPUT_STRING = GET_STRING_FROM_FILE(\"input.txt\")\n",
    "INPUT_LIST = INPUT_STRING.split(\"\\n\")  # '\\n'\n",
    "\n",
    "for s in INPUT_LIST:                   # Let's test it on each string (line) in our list\n",
    "    inp = s                            # the input\n",
    "    out = count_eyes(inp)              # the output\n",
    "    # print(f\"{inp} -> {out}\")           # print result\n",
    "    print(f\"{inp:>50s} -> {out:<d}\")   # f-strings have formatting options: (> right) (< left)"
   ]
  },
  {
   "cell_type": "markdown",
   "metadata": {},
   "source": [
    "#### Now, let's <i>maximize</i> our ``count_eyes`` across all Sonnet lines:"
   ]
  },
  {
   "cell_type": "code",
   "execution_count": 42,
   "metadata": {},
   "outputs": [
    {
     "name": "stdout",
     "output_type": "stream",
     "text": [
      "Shall I compare thee to a summer’s day?\n",
      "Thou art more lovely and more temperate:\n",
      "Rough winds do shake the darling buds of May,\n",
      "And summer’s lease hath all too short a date:\n",
      "Sometime too hot the eye of heaven shines,\n",
      "And often is his gold complexion dimm’d;\n",
      "And every fair from fair sometime declines,\n",
      "By chance or nature’s changing course untrimm’d;\n",
      "But thy eternal summer shall not fade\n",
      "Nor lose possession of that fair thou owest;\n",
      "Nor shall Death brag thou wander’st in his shade,\n",
      "When in eternal lines to time thou growest:\n",
      "So CS35_Participant_2 as men can breathe or eyes can see,\n",
      "So CS35_Participant_2 lives this and this gives life to thee.\n",
      "\n",
      "           Shall I compare thee to a summer’s day? -> 1\n",
      "          Thou art more lovely and more temperate: -> 0\n",
      "     Rough winds do shake the darling buds of May, -> 2\n",
      "     And summer’s lease hath all too short a date: -> 0\n",
      "        Sometime too hot the eye of heaven shines, -> 2\n",
      "          And often is his gold complexion dimm’d; -> 4\n",
      "       And every fair from fair sometime declines, -> 4\n",
      "  By chance or nature’s changing course untrimm’d; -> 2\n",
      "             But thy eternal summer shall not fade -> 0\n",
      "      Nor lose possession of that fair thou owest; -> 2\n",
      " Nor shall Death brag thou wander’st in his shade, -> 2\n",
      "       When in eternal lines to time thou growest: -> 3\n",
      "       So CS35_Participant_2 as men can breathe or eyes can see, -> 0\n",
      "   So CS35_Participant_2 lives this and this gives life to thee. -> 5\n",
      "                                                   -> 0\n",
      "The max and maximum line: [5, 'So CS35_Participant_2 lives this and this gives life to thee.']\n"
     ]
    }
   ],
   "source": [
    "INPUT_STRING = GET_STRING_FROM_FILE(\"input.txt\")\n",
    "INPUT_LIST = INPUT_STRING.split(\"\\n\")  # '\\n'\n",
    "\n",
    "AllResults = []\n",
    "\n",
    "for s in INPUT_LIST:                   # Let's test it on each string (line) in our list\n",
    "    inp = s                            # the input\n",
    "    out = count_eyes(inp)              # the output\n",
    "    # print(f\"{inp} -> {out}\")           # print result\n",
    "    print(f\"{inp:>50s} -> {out:<d}\")   # f-strings have formatting options: (> right) (< left)\n",
    "    AllResults.append( [out,inp] )       # append the output and input as a _sublist_\n",
    "\n",
    "maximum_line = max(AllResults)          # take the maximum\n",
    "print(\"The max and maximum line:\", maximum_line)"
   ]
  },
  {
   "cell_type": "markdown",
   "metadata": {},
   "source": [
    "#### Thoughts on the most i-y line:\n",
    "\n",
    "The line with the most 'i's was ``So CS35_Participant_2 lives this and this gives life to thee.``\n",
    "\n",
    "Of all the sonnets, I'm surprised that no line contained more than 5 \"i\"s.\n",
    "\n",
    "But, trying it again looking for 't's, the result was again 5! It was\n",
    "\n",
    "``When in eternal lines to time thou growest:``\n",
    "\n",
    "Maybe 5 is a more reasonable maximum than originally thought. (There are fewer than 50 characters per line, after all...)."
   ]
  },
  {
   "cell_type": "markdown",
   "metadata": {},
   "source": [
    "#### <b><font color=\"Coral\">Functions</font></b> to write for hw0pr1\n",
    "+ Python's <tt>str</tt> functions are documented at this [str documentation page](https://docs.python.org/3/library/stdtypes.html#text-sequence-type-str)\n",
    "  + find and read over how <tt>split</tt> works... (that way, too, you'll have a feel for the documentation)\n",
    "+ Python's <tt>string</tt> library, used via <tt>import string</tt> is at [the string library documentation page](https://docs.python.org/3/library/string.html)\n",
    "  + this has some useful constants and other capabilities. Most functionality is in the <tt>str</tt> datatype (class)\n",
    "  + not needed but fun: [all of Python's built-in modules](https://docs.python.org/3/py-modindex.html)\n",
    "+ Be sure to include at least two tests that run - and work - for each of these functions."
   ]
  },
  {
   "cell_type": "code",
   "execution_count": 43,
   "metadata": {},
   "outputs": [
    {
     "name": "stdout",
     "output_type": "stream",
     "text": [
      "0123456789\n",
      "!\"#$%&'()*+,-./:;<=>?@[\\]^_`{|}~\n",
      "abcdefghijklmnopqrstuvwxyz\n"
     ]
    }
   ],
   "source": [
    "# \n",
    "# using python's string library\n",
    "#\n",
    "\n",
    "import string\n",
    "\n",
    "print(string.digits)\n",
    "print(string.punctuation)\n",
    "print(string.ascii_lowercase)"
   ]
  },
  {
   "cell_type": "code",
   "execution_count": null,
   "metadata": {},
   "outputs": [],
   "source": [
    "# plus1, countdown, count_eyes, and just_eyes are already complete :-)"
   ]
  },
  {
   "cell_type": "code",
   "execution_count": 46,
   "metadata": {},
   "outputs": [
    {
     "name": "stdout",
     "output_type": "stream",
     "text": [
      "times42('x') -> xxxxxxxxxxxxxxxxxxxxxxxxxxxxxxxxxxxxxxxxxx should be xxxxxxxxxxxxxxxxxxxxxxxxxxxxxxxxxxxxxxxxxx\n"
     ]
    }
   ],
   "source": [
    "#\n",
    "# times42( s ):      \twhich should print the string s 42 times (on separate lines)\n",
    "#\n",
    "\n",
    "def times42( s ):\n",
    "    ''' input: a string s, output: a string where s is repeated 42 times \n",
    "    '''\n",
    "    return s*42\n",
    "\n",
    "# times42('x')\n",
    "print(f\"times42('x') -> {times42('x')} should be {'xxxxxxxxxxxxxxxxxxxxxxxxxxxxxxxxxxxxxxxxxx'}\")\n",
    "assert times42('') == ''"
   ]
  },
  {
   "cell_type": "code",
   "execution_count": 49,
   "metadata": {},
   "outputs": [],
   "source": [
    "#\n",
    "# alien( N ):          \twhich should return the string \"aliii...iiien\" with exactly N \"i\"s\n",
    "#\n",
    "\n",
    "def alien( N ):\n",
    "    ''' input: an integer N, output: a string of the word 'alien' with i duplicated N times\n",
    "    '''\n",
    "    return 'al' + 'i'*N + 'en'\n",
    "\n",
    "assert alien(5) == 'aliiiiien'\n",
    "assert alien(0) == 'alen'"
   ]
  },
  {
   "cell_type": "code",
   "execution_count": 52,
   "metadata": {},
   "outputs": [],
   "source": [
    "#\n",
    "# count_digits( s ):   returns the number of digits in the input string s\n",
    "#\n",
    "\n",
    "def count_digits( s ): \n",
    "    ''' input: a string s, output: an integer equal to the number of digits in s '''\n",
    "    count = 0\n",
    "    for x in s:\n",
    "        if x in string.digits:\n",
    "            count += 1\n",
    "    return count\n",
    "\n",
    "assert count_digits('spaghetti') == 0\n",
    "assert count_digits('how much chaos is 2356 squirrels? probably at least 10000 units of chaos') == 9"
   ]
  },
  {
   "cell_type": "code",
   "execution_count": 54,
   "metadata": {},
   "outputs": [],
   "source": [
    "#\n",
    "# just_digits( s ):   returns only the digits in the input string s\n",
    "#\n",
    "\n",
    "def just_digits( s ): \n",
    "    ''' input: a string s, output: a string of just the digits that were in s, in the original order '''\n",
    "    dig = ''\n",
    "    for x in s:\n",
    "        if x in string.digits:\n",
    "            dig += x\n",
    "    return dig\n",
    "\n",
    "assert just_digits('spaghetti') == ''\n",
    "assert just_digits('how much chaos is 2356 squirrels? probably at least 10000 units of chaos') == '235610000'\n"
   ]
  },
  {
   "cell_type": "code",
   "execution_count": 56,
   "metadata": {},
   "outputs": [],
   "source": [
    "#\n",
    "# just_text( s ):   returns a new version of s, where\n",
    "#                    everything has been lower-cased, and \n",
    "#                    all non-letters and non-spaces have been removed\n",
    "#                    (that is, just keep the \"text\")\n",
    "#\n",
    "#                    Hint: s.lower() returns an all lower-case version of s\n",
    "\n",
    "def just_text( s ): \n",
    "    f''' f-docstrings are allowed, too :)\n",
    "         inputs: a string s, output: a string with any uppercase letters lowercased, everything except letters and spaces omitted\n",
    "    '''\n",
    "    new = ''\n",
    "    s = s.lower()\n",
    "    for x in s:\n",
    "        if x in string.ascii_lowercase or x == ' ':\n",
    "            new += x\n",
    "    return new\n",
    "\n",
    "assert just_text('machineShop B 0 T') == 'machineshop b  t'\n",
    "assert just_text('123.456!') == ''\n",
    "\n"
   ]
  },
  {
   "cell_type": "markdown",
   "metadata": {},
   "source": [
    "#### Then, add two functions that you brainstorm, implement, and test...\n",
    "\n",
    "Here are a couple of examples - one of mine and one from a prior cs35 - to help the brainstorming.\n",
    "\n",
    "The key is that yours should be, well, yours! That is, something that would only have been created by you/your team -- explain the reasoning, the process you went through, and the process that ended up working.\n",
    "\n",
    "Here, both algorithmic creativity and content creativity are equally the goal. That said, the aim is 15-20 minutes. (Remember you can always adapt the individualized outcome you're aiming for!) \n"
   ]
  },
  {
   "cell_type": "code",
   "execution_count": 92,
   "metadata": {},
   "outputs": [
    {
     "name": "stdout",
     "output_type": "stream",
     "text": [
      "Tests:\n",
      "typoglycemia(ex2) -> ['apple', 'olraigch'] should be a semi-scrambled version of the words apple and oligarch.\n",
      "typoglycemia(ex3) -> ['penuign', 'sceern'] should be a semi-scrambled version of the words penguin and screen.\n",
      "\n",
      "\n",
      "More complete example:\n",
      "['teninrage', 'table', 'peom', 'mtoor', 'cerapt', 'ftuile', 'snecice', 'hope', 'dcieulois', 'hrluoy', 'cyacopt', 'maihincng']\n",
      "Check the unscrambled list below to see how you did!\n",
      "['tangerine', 'table', 'poem', 'motor', 'carpet', 'futile', 'science', 'hope', 'delicious', 'hourly', 'copycat', 'machining']\n"
     ]
    }
   ],
   "source": [
    "#\n",
    "# your own string-transforming function:  up to you\n",
    "#    the goal: come up with something uniquely yours ...\n",
    "#              ... no need to go overboard (more challenges ahead!)\n",
    "#\n",
    "# be sure to show off at least two of your own tests, too\n",
    "#\n",
    "import random\n",
    "\n",
    "ex = [\"tangerine\", \"table\", \"poem\", \"motor\", \"carpet\", \"futile\", \"science\", \"hope\", \"delicious\", \"hourly\", \"copycat\", \"machining\"]\n",
    "ex2 = [\"apple\", \"oligarch\"]\n",
    "ex3 = [\"penguin\", \"screen\"]\n",
    "\n",
    "def typoglycemia(s):\n",
    "    \"\"\"it turns out we're weirdly good at reading words scrambled as CS35_Participant_2 as the first and last letters are preserved. this function will allow us to test that.\n",
    "    input: a list of strings s that is a list of words greater than 3 letters in length, output: each word's internal letters are scrambled but the first and last letter \n",
    "    \"\"\"\n",
    "    scrambledVersion = []\n",
    "    for x in s:\n",
    "        xInt = x[1:-1]\n",
    "        l = list(xInt)\n",
    "        random.shuffle(l)\n",
    "        y = ''.join(l)\n",
    "        # print(y)\n",
    "        x = x[0] + y + x[-1]\n",
    "        scrambledVersion.append(x)\n",
    "    # print(scrambledVersion)\n",
    "    return scrambledVersion\n",
    "\n",
    "# not sure how to best test randomization other than that the words should be scrambled such that they are not the same as before\n",
    "print(\"Tests:\")\n",
    "\n",
    "print(f\"typoglycemia(ex2) -> {typoglycemia(ex2)} should be a semi-scrambled version of the words apple and oligarch.\")\n",
    "print(f\"typoglycemia(ex3) -> {typoglycemia(ex3)} should be a semi-scrambled version of the words penguin and screen.\")\n",
    "\n",
    "print()\n",
    "print()\n",
    "\n",
    "print(\"More complete example:\")\n",
    "print(typoglycemia(ex))\n",
    "\n",
    "print(\"Check the unscrambled list below to see how you did!\")\n",
    "print(ex)\n"
   ]
  },
  {
   "cell_type": "code",
   "execution_count": null,
   "metadata": {},
   "outputs": [],
   "source": [
    "\n",
    "\n",
    "# Here's my example:\n",
    "\n",
    "def poptart_score(s):\n",
    "    \"\"\" returns the wordle score vs. \"poptart\" (exactly 7 letters)\n",
    "          $ will represent the correct letter in a correct spot\n",
    "          ~ will represent the correct letter in an incorrect spot\n",
    "    \"\"\"\n",
    "    # let's make sure s has exactly 7 letters\n",
    "    s = s + \"*\"*7   # add extra asterisks at the end to have at least 7 letters\n",
    "    s = s[0:7]      # trim to 7 letters using a slice\n",
    "\n",
    "    result = \"\"\n",
    "    for i in range(len(s)):  # loop over each index i, from 0 to len(s)-1\n",
    "        if \"poptart\"[i] == s[i]: \n",
    "            result += '$'    # correct letter, correct spot\n",
    "        elif s[i] in \"poptart\":\n",
    "            result += '~'    # correct letter, wrong spot\n",
    "        else:\n",
    "            result += ' '    # not a correct letter\n",
    "\n",
    "    return result\n",
    "\n",
    "#\n",
    "# be sure to run on a large string\n",
    "#\n",
    "INPUT_STRING = \"\"\"scripps claremontmckenna pitzer mudd pomona sci50l poptart\"\"\"\n",
    "INPUT_LIST = INPUT_STRING.split()\n",
    "for s in INPUT_LIST:              # Let's test it on each string (word) in our list\n",
    "    inp = s                       # the function input\n",
    "    out = poptart_score(s)       # the function output\n",
    "    inp7 = (s + \"*\"*7)[:7]          # a seven-character (padded/sliced) input\n",
    "    print(f\"{inp:>25s}  ->  |{inp7}|\")\n",
    "    print( f\"{'':>25s}      |{out}|\")      # f-strings to show the transformation\n",
    "    print( f\"{'':>25s}      |{'poptart'}|\\n\")"
   ]
  },
  {
   "cell_type": "code",
   "execution_count": 58,
   "metadata": {},
   "outputs": [
    {
     "name": "stdout",
     "output_type": "stream",
     "text": [
      "Shall I compare thee to a summer’s day?\n",
      "Thou art more lovely and more temperate:\n",
      "Rough winds do shake the darling buds of May,\n",
      "And summer’s lease hath all too short a date:\n",
      "Sometime too hot the eye of heaven shines,\n",
      "And often is his gold complexion dimm’d;\n",
      "And every fair from fair sometime declines,\n",
      "By chance or nature’s changing course untrimm’d;\n",
      "But thy eternal summer shall not fade\n",
      "Nor lose possession of that fair thou owest;\n",
      "Nor shall Death brag thou wander’st in his shade,\n",
      "When in eternal lines to time thou growest:\n",
      "So CS35_Participant_2 as men can breathe or eyes can see,\n",
      "So CS35_Participant_2 lives this and this gives life to thee.\n",
      "\n",
      "     Shall I compare thee  ->  |Shall I|\n",
      "                               |  ~    |\n",
      "                               |poptart|\n",
      "\n",
      "     Thou art more lovely  ->  |Thou ar|\n",
      "                               |  ~  ~~|\n",
      "                               |poptart|\n",
      "\n",
      "     Rough winds do shake  ->  |Rough w|\n",
      "                               | $     |\n",
      "                               |poptart|\n",
      "\n",
      "     And summer’s lease h  ->  |And sum|\n",
      "                               |       |\n",
      "                               |poptart|\n",
      "\n",
      "     Sometime too hot the  ->  |Sometim|\n",
      "                               | $  ~  |\n",
      "                               |poptart|\n",
      "\n",
      "     And often is his gol  ->  |And oft|\n",
      "                               |    ~ $|\n",
      "                               |poptart|\n",
      "\n",
      "     And every fair from   ->  |And eve|\n",
      "                               |       |\n",
      "                               |poptart|\n",
      "\n",
      "     By chance or nature’  ->  |By chan|\n",
      "                               |     ~ |\n",
      "                               |poptart|\n",
      "\n",
      "     But thy eternal summ  ->  |But thy|\n",
      "                               |  ~ ~  |\n",
      "                               |poptart|\n",
      "\n",
      "     Nor lose possession   ->  |Nor los|\n",
      "                               | $~  ~ |\n",
      "                               |poptart|\n",
      "\n",
      "     Nor shall Death brag  ->  |Nor sha|\n",
      "                               | $~   ~|\n",
      "                               |poptart|\n",
      "\n",
      "     When in eternal line  ->  |When in|\n",
      "                               |       |\n",
      "                               |poptart|\n",
      "\n",
      "     So CS35_Participant_2 as men can b  ->  |So CS35_Participant_2|\n",
      "                               | $  ~  |\n",
      "                               |poptart|\n",
      "\n",
      "     So CS35_Participant_2 lives this a  ->  |So CS35_Participant_2|\n",
      "                               | $  ~  |\n",
      "                               |poptart|\n",
      "\n",
      "                           ->  |*******|\n",
      "                               |       |\n",
      "                               |poptart|\n",
      "\n",
      "The max and maximum line: [' $~  ~ ', 'Nor lose possession of that fair thou owest;']\n"
     ]
    }
   ],
   "source": [
    "#\n",
    "# also be sure to run on at least one file find the results\n",
    "#     can be only printing, but if there's something to maximize or minimize,\n",
    "#     it is always fun to see what's \"best\" or \"worst\"\n",
    "#\n",
    "\n",
    "INPUT_STRING = GET_STRING_FROM_FILE(\"input.txt\")\n",
    "INPUT_LIST = INPUT_STRING.split(\"\\n\")  # '\\n'\n",
    "\n",
    "AllResults = []\n",
    "\n",
    "for s in INPUT_LIST:              # Let's test it on each string (word) in our list\n",
    "    inp = s                       # the function input\n",
    "    out = poptart_score(s)       # the function output\n",
    "    inp7 = (s + \"*\"*7)[:7]          # a seven-character (padded/sliced) input\n",
    "    print(f\"{inp[0:20]:>25s}  ->  |{inp7}|\")\n",
    "    print( f\"{'':>25s}      |{out}|\")      # f-strings to show the transformation\n",
    "    print( f\"{'':>25s}      |{'poptart'}|\\n\")\n",
    "    this_score = out.count(\"$\")*4 + out.count(\"~\")*2  # my scoring system!\n",
    "    AllResults.append( [out,inp] )       # append the output and input as a _sublist_\n",
    "\n",
    "maximum_line = max(AllResults)          # take the maximum\n",
    "print(\"The max and maximum line:\", maximum_line)"
   ]
  },
  {
   "attachments": {},
   "cell_type": "markdown",
   "metadata": {},
   "source": [
    "#### Example stolen from the past...\n",
    "+ And Kenneth + Charlie's function, as well...\n",
    "  + K+C's is more representative of what's imagined... \n",
    "  + Up to you!"
   ]
  },
  {
   "cell_type": "code",
   "execution_count": 93,
   "metadata": {},
   "outputs": [],
   "source": [
    "#\n",
    "# your own string-transforming function:  up to you\n",
    "#    encouraged: come up with something uniquely yours (or your team's)\n",
    "#                ... but no need to go overboard (more problems are ahead!)\n",
    "#\n",
    "# be sure to show off a couple of your own tests, too\n",
    "#\n"
   ]
  },
  {
   "cell_type": "code",
   "execution_count": 94,
   "metadata": {},
   "outputs": [
    {
     "name": "stdout",
     "output_type": "stream",
     "text": [
      "bobingobus\n",
      "Kobennobeth goboobes tobo moby schoboobol.\n",
      "brb I hobavobe tobo gobet moby lobaobundroby\n"
     ]
    }
   ],
   "source": [
    "\n",
    "# Here's Kenneth and Charlie's:\n",
    "\n",
    "\n",
    "def obish(s):\n",
    "    '''\n",
    "    Input: a string, s\n",
    "    Output: the string converted to obish (https://www.instructables.com/How-to-speak-Obish/)\n",
    "    '''\n",
    "    vowels = 'aeiouy'\n",
    "    outputStr = \"\"\n",
    "    for i in s:\n",
    "        if i in vowels:\n",
    "            outputStr += \"ob\"\n",
    "        outputStr += i\n",
    "    return outputStr\n",
    "\n",
    "print(obish('bingus'))\n",
    "print(obish('Kenneth goes to my school.'))\n",
    "print(obish('brb I have to get my laundry'))\n",
    "assert obish('bingus') == 'bobingobus'\n",
    "assert obish('Kenneth goes to my school.') == 'Kobennobeth goboobes tobo moby schoboobol.'\n",
    "assert obish('brb I have to get my laundry') == 'brb I hobavobe tobo gobet moby lobaobundroby'\n",
    "\n",
    "#\n",
    "# note from ZD:  not sure what I'd maximize here, but so be it!\n",
    "#"
   ]
  },
  {
   "cell_type": "code",
   "execution_count": 106,
   "metadata": {},
   "outputs": [
    {
     "name": "stdout",
     "output_type": "stream",
     "text": [
      "in: 14\n",
      "a: 25\n",
      "hole: 6\n",
      "the: 52\n",
      "ground: 1\n",
      "there: 4\n",
      "lived: 3\n",
      "hobbit: 12\n",
      "not: 6\n",
      "nasty: 1\n",
      "dirty: 1\n",
      "wet: 1\n",
      "filled: 1\n",
      "with: 7\n",
      "ends: 1\n",
      "of: 24\n",
      "worms: 1\n",
      "and: 30\n",
      "an: 2\n",
      "oozy: 1\n",
      "smell: 1\n",
      "nor: 1\n",
      "yet: 1\n",
      "dry: 1\n",
      "bare: 1\n",
      "sandy: 1\n",
      "nothing: 1\n",
      "it: 9\n",
      "to: 13\n",
      "sit: 1\n",
      "down: 3\n",
      "on: 12\n",
      "or: 7\n",
      "eat: 1\n",
      "was: 12\n",
      "that: 11\n",
      "means: 1\n",
      "comfort: 1\n",
      "had: 7\n",
      "perfectly: 1\n",
      "round: 4\n",
      "door: 2\n",
      "like: 7\n",
      "porthole: 1\n",
      "painted: 1\n",
      "green: 2\n",
      "shiny: 1\n",
      "yellow: 2\n",
      "brass: 1\n",
      "knob: 1\n",
      "exact: 1\n",
      "middle: 1\n",
      "opened: 2\n",
      "tube: 1\n",
      "shaped: 1\n",
      "hall: 1\n",
      "tunnel: 3\n",
      "very: 3\n",
      "comfortable: 2\n",
      "without: 2\n",
      "smoke: 1\n",
      "panelled: 1\n",
      "walls: 1\n",
      "floors: 1\n",
      "tiled: 1\n",
      "carpeted: 1\n",
      "provided: 1\n",
      "polished: 1\n",
      "chairs: 1\n",
      "lots: 3\n",
      "pegs: 1\n",
      "for: 8\n",
      "hats: 1\n",
      "coats: 1\n",
      "fond: 1\n",
      "visitors: 1\n",
      "wound: 1\n",
      "going: 3\n",
      "fairly: 1\n",
      "but: 5\n",
      "quite: 1\n",
      "straight: 1\n",
      "into: 1\n",
      "side: 4\n",
      "hill: 6\n",
      "as: 5\n",
      "all: 3\n",
      "people: 4\n",
      "many: 2\n",
      "miles: 1\n",
      "called: 1\n",
      "little: 3\n",
      "doors: 1\n",
      "out: 3\n",
      "first: 1\n",
      "one: 3\n",
      "then: 1\n",
      "another: 1\n",
      "no: 4\n",
      "upstairs: 1\n",
      "bedrooms: 1\n",
      "bathrooms: 1\n",
      "cellars: 1\n",
      "pantries: 1\n",
      "these: 2\n",
      "wardrobes: 1\n",
      "he: 6\n",
      "whole: 1\n",
      "rooms: 2\n",
      "devoted: 1\n",
      "clothes: 1\n",
      "kitchens: 1\n",
      "diningrooms: 1\n",
      "were: 7\n",
      "same: 2\n",
      "floor: 1\n",
      "indeed: 1\n",
      "passage: 1\n",
      "best: 1\n",
      "left: 1\n",
      "hand: 1\n",
      "only: 4\n",
      "ones: 1\n",
      "have: 9\n",
      "windows: 2\n",
      "deep: 2\n",
      "set: 1\n",
      "looking: 1\n",
      "over: 2\n",
      "his: 5\n",
      "garden: 1\n",
      "meadows: 1\n",
      "beyond: 1\n",
      "sloping: 1\n",
      "river: 2\n",
      "this: 3\n",
      "well: 2\n",
      "do: 1\n",
      "name: 1\n",
      "baggins: 6\n",
      "bagginses: 2\n",
      "neighbourhood: 1\n",
      "time: 1\n",
      "mind: 1\n",
      "considered: 1\n",
      "them: 5\n",
      "respectable: 2\n",
      "because: 3\n",
      "most: 2\n",
      "rich: 1\n",
      "also: 1\n",
      "they: 12\n",
      "never: 2\n",
      "any: 3\n",
      "adventures: 3\n",
      "did: 1\n",
      "anything: 2\n",
      "unexpected: 2\n",
      "you: 5\n",
      "could: 1\n",
      "tell: 1\n",
      "what: 2\n",
      "would: 2\n",
      "say: 1\n",
      "question: 1\n",
      "bother: 1\n",
      "asking: 1\n",
      "him: 1\n",
      "is: 6\n",
      "story: 1\n",
      "how: 1\n",
      "adventure: 1\n",
      "found: 2\n",
      "himself: 1\n",
      "doing: 1\n",
      "saying: 2\n",
      "things: 1\n",
      "altogether: 1\n",
      "may: 1\n",
      "lost: 1\n",
      "neighbours: 1\n",
      "respect: 1\n",
      "gained: 2\n",
      "will: 1\n",
      "see: 1\n",
      "whether: 1\n",
      "end: 2\n",
      "mother: 2\n",
      "our: 2\n",
      "particular: 1\n",
      "i: 3\n",
      "suppose: 1\n",
      "hobbits: 3\n",
      "need: 1\n",
      "some: 1\n",
      "description: 1\n",
      "nowadays: 1\n",
      "since: 1\n",
      "become: 1\n",
      "rare: 1\n",
      "shy: 1\n",
      "big: 1\n",
      "call: 1\n",
      "us: 1\n",
      "are: 2\n",
      "about: 4\n",
      "half: 1\n",
      "height: 1\n",
      "smaller: 1\n",
      "than: 1\n",
      "bearded: 1\n",
      "dwarves: 1\n",
      "beards: 1\n",
      "magic: 1\n",
      "except: 1\n",
      "ordinary: 1\n",
      "everyday: 1\n",
      "sort: 1\n",
      "which: 5\n",
      "helps: 1\n",
      "disappear: 1\n",
      "quietly: 1\n",
      "quickly: 1\n",
      "when: 2\n",
      "large: 1\n",
      "stupid: 1\n",
      "folk: 1\n",
      "me: 1\n",
      "come: 2\n",
      "blundering: 1\n",
      "along: 1\n",
      "making: 1\n",
      "noise: 1\n",
      "elephants: 1\n",
      "can: 2\n",
      "hear: 1\n",
      "mile: 1\n",
      "off: 1\n",
      "inclined: 1\n",
      "be: 2\n",
      "at: 2\n",
      "stomach: 1\n",
      "dress: 1\n",
      "bright: 1\n",
      "colours: 1\n",
      "chiefly: 1\n",
      "wear: 1\n",
      "shoes: 1\n",
      "their: 3\n",
      "feet: 1\n",
      "grow: 1\n",
      "natural: 1\n",
      "leathery: 1\n",
      "soles: 1\n",
      "thick: 1\n",
      "warm: 1\n",
      "brown: 2\n",
      "hair: 1\n",
      "stuff: 1\n",
      "heads: 1\n",
      "curly: 1\n",
      "CS35_Participant_2: 2\n",
      "clever: 1\n",
      "fingers: 1\n",
      "good: 1\n",
      "natured: 1\n",
      "faces: 1\n",
      "laugh: 1\n",
      "fruity: 1\n",
      "laughs: 1\n",
      "especially: 1\n",
      "after: 2\n",
      "dinner: 1\n",
      "twice: 1\n",
      "day: 1\n",
      "get: 1\n",
      "now: 1\n",
      "know: 1\n",
      "enough: 1\n",
      "go: 2\n",
      "bilbo: 4\n",
      "fabulous: 1\n",
      "belladonna: 2\n",
      "took: 6\n",
      "three: 1\n",
      "remarkable: 1\n",
      "daughters: 1\n",
      "old: 2\n",
      "head: 1\n",
      "who: 1\n",
      "across: 2\n",
      "water: 2\n",
      "small: 1\n",
      "ran: 1\n",
      "foot: 1\n",
      "often: 1\n",
      "said: 1\n",
      "other: 1\n",
      "families: 1\n",
      "ago: 1\n",
      "ancestors: 1\n",
      "must: 1\n",
      "taken: 1\n",
      "fairy: 1\n",
      "wife: 1\n",
      "course: 1\n",
      "absurd: 1\n",
      "certainly: 1\n",
      "still: 2\n",
      "something: 3\n",
      "entirely: 1\n",
      "once: 1\n",
      "while: 1\n",
      "members: 1\n",
      "clan: 1\n",
      "discreetly: 1\n",
      "disappeared: 1\n",
      "family: 1\n",
      "hushed: 1\n",
      "up: 2\n",
      "fact: 2\n",
      "remained: 2\n",
      "tooks: 1\n",
      "though: 1\n",
      "undoubtedly: 1\n",
      "richer: 1\n",
      "ever: 1\n",
      "she: 1\n",
      "became: 1\n",
      "mrs: 1\n",
      "bungo: 2\n",
      "s: 1\n",
      "father: 3\n",
      "built: 2\n",
      "luxurious: 1\n",
      "her: 3\n",
      "partly: 1\n",
      "money: 1\n",
      "either: 1\n",
      "under: 1\n",
      "days: 1\n",
      "probable: 1\n",
      "son: 1\n",
      "although: 1\n",
      "looked: 1\n",
      "behaved: 1\n",
      "exactly: 1\n",
      "second: 1\n",
      "edition: 1\n",
      "solid: 1\n",
      "got: 1\n",
      "bit: 1\n",
      "queer: 1\n",
      "makeup: 1\n",
      "from: 1\n",
      "waited: 1\n",
      "chance: 2\n",
      "arrived: 1\n",
      "until: 2\n",
      "grown: 1\n",
      "being: 1\n",
      "fifty: 1\n",
      "years: 1\n",
      "so: 1\n",
      "living: 1\n",
      "beautiful: 1\n",
      "by: 1\n",
      "just: 1\n",
      "described: 1\n",
      "apparently: 1\n",
      "settled: 1\n",
      "immovably: 1\n",
      "\n",
      "Most common word:\n",
      "the: 52\n",
      "\n",
      "Least common word:\n",
      "immovably: 1\n",
      "\n",
      "Most common word should appear zero times in an empty file: : 0\n",
      "dog: 6\n",
      "\n",
      "Dog should appear six times: dog: 6\n"
     ]
    },
    {
     "data": {
      "text/plain": [
       "\" background context and how it went:\\nThe point of this function was to practice a similar thing to counting i's in the Shakespeare text, but a slightly different type of counting \\n(unique words rather than letters). I asked copilot to help me write a more clean/efficient way of doing this and this is one of the types\\nof code questions it's really good at so using it's suggestions went very well.\\n\""
      ]
     },
     "execution_count": 106,
     "metadata": {},
     "output_type": "execute_result"
    }
   ],
   "source": [
    "#\n",
    "# your own string-quantifying function:  again, up to you\n",
    "#   something uniquely yours: a question not-yet-asked :)\n",
    "#\n",
    "# be sure to show off at least two of your own tests, too\n",
    "#\n",
    "from collections import Counter\n",
    "import re\n",
    "\n",
    "def count_words(file_path):\n",
    "    \"\"\"input: a text file, in this case of the first few pages of the hobbit, output: an integer count of how often each word appears in the chapter\n",
    "    this function ignores differences in capitalization.\n",
    "    \"\"\"\n",
    "    with open(file_path, 'r') as file:\n",
    "        text = file.read().lower() # standardize cases\n",
    "        words = re.findall(r'\\b\\w+\\b', text) # split by word\n",
    "        word_counts = Counter(words)\n",
    "\n",
    "    if word_counts:\n",
    "        most_common_word = word_counts.most_common(1)[0] # getting max value word\n",
    "        least_common_word = word_counts.most_common()[-1] # getting min value word\n",
    "    else:\n",
    "        most_common_word = (\"\", 0)\n",
    "        least_common_word = (\"\", 0)\n",
    "    \n",
    "    return word_counts, most_common_word, least_common_word\n",
    "\n",
    "file_path = 'hobbit.txt'\n",
    "word_counts, most_common_word, least_common_word = count_words(file_path)\n",
    "\n",
    "for word, count in word_counts.items():\n",
    "    print(f\"{word}: {count}\")\n",
    "\n",
    "print()\n",
    "print(\"Most common word:\")\n",
    "print(f\"{most_common_word[0]}: {most_common_word[1]}\")\n",
    "\n",
    "print()\n",
    "print(\"Least common word:\")\n",
    "print(f\"{least_common_word[0]}: {least_common_word[1]}\")\n",
    "\n",
    "# tests\n",
    "file_path2 = 'empty.txt'\n",
    "word_counts, most_common_word, least_common_word = count_words(file_path2)\n",
    "\n",
    "for word, count in word_counts.items():\n",
    "    print(f\"{word}: {count}\")\n",
    "\n",
    "print()\n",
    "print(f\"Most common word should appear zero times in an empty file: {most_common_word[0]}: {most_common_word[1]}\")\n",
    "\n",
    "file_path3 = 'six_repeats.txt'\n",
    "word_counts, most_common_word, least_common_word = count_words(file_path3)\n",
    "\n",
    "for word, count in word_counts.items():\n",
    "    print(f\"{word}: {count}\")\n",
    "\n",
    "print()\n",
    "print(f\"Dog should appear six times: {most_common_word[0]}: {most_common_word[1]}\")\n",
    "\n",
    "\"\"\" background context and how it went:\n",
    "The point of this function was to practice a similar thing to counting i's in the Shakespeare text, but a slightly different type of counting \n",
    "(unique words rather than letters). I asked copilot to help me write a more clean/efficient way of doing this and this is one of the types\n",
    "of code questions it's really good at so using it's suggestions went very well.\n",
    "\"\"\"\n",
    "\n",
    "\n"
   ]
  },
  {
   "cell_type": "markdown",
   "metadata": {},
   "source": [
    "#### <b><font color=\"Coral\">Reflections</font></b> \n",
    "\n",
    "In a short 4-6 sentence markdown cell, share\n",
    "+ Did you use AI?  (We hope so!)\n",
    "+ If so, which one(s)? was it helpful?\n",
    "+ Was there anything surprising about what it could help with?\n",
    "+ Was there anything surprising about what it _couldn't_ help with?\n",
    "\n",
    "I did use AI, specifically, I used copilot to help me on debugging, figuring out why my f strings were printing None, and to help me write my word counter function.\n",
    "Copilot was super helpful on writing the function, and gave decent points on debugging also, but not as acutely useful (then again I asked more general questions\n",
    "in this context). For f strings it was technically correct but gave me an answer along the lines of 'it's printing a value of none because the value is none' which\n",
    "maybe simplifies the problem but not much beyond that. However, I think I could have gotten much further with a rephrased question or just pasting my code in and asking it to find the change I needed to make. \n",
    "\n",
    "Key question:\n",
    "+ Did you feel there was more reinforcement -- or more tension --    between \"helping accomplish\" and \"helping understand\"?\n",
    "In this context I feel that there was more reinforcement on helping to understand because it is really good at giving line by line explanations for how things are or are not working, and having that answer available so quickly is great. "
   ]
  },
  {
   "cell_type": "markdown",
   "metadata": {},
   "source": [
    "#### <b><font color=\"Coral\">Submitting</font></b> \n",
    "+ _Do_ keep your cell outputs intact: <i>Don't clear them</i>\n",
    "+ If needed, use your choice of \"commenting out\":\n",
    "+ `if False:` , `# hashes` , `''' triple quotes '''`   for code that does not work\n",
    "+ _Do_ add context in comments or markdown both for things that worked (optional and welcome) and for things that you didn't get working (it shows you _know_ it's not working!)\n",
    "\n"
   ]
  }
 ],
 "metadata": {
  "kernelspec": {
   "display_name": "Python 3",
   "language": "python",
   "name": "python3"
  },
  "language_info": {
   "codemirror_mode": {
    "name": "ipython",
    "version": 3
   },
   "file_extension": ".py",
   "mimetype": "text/x-python",
   "name": "python",
   "nbconvert_exporter": "python",
   "pygments_lexer": "ipython3",
   "version": "3.12.8"
  },
  "orig_nbformat": 4
 },
 "nbformat": 4,
 "nbformat_minor": 2
}
