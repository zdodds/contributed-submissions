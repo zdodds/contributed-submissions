{
 "cells": [
  {
   "attachments": {},
   "cell_type": "markdown",
   "metadata": {},
   "source": [
    "#### week3 ~ meta-programming of prose:  <i>What guidelines?</i>\n",
    "\n",
    "[the google doc with hw3's details](https://docs.google.com/document/d/17bJfQIeuNGVh5vP8Y2BjRbVSDyDUNTpIrH0lgYubiUU/edit?tab=t.0)\n",
    "\n",
    "<hr>"
   ]
  },
  {
   "attachments": {},
   "cell_type": "markdown",
   "metadata": {},
   "source": [
    "#### Reading for hw3...     (hw3pr0.ipynb)\n",
    "\n",
    "<br>\n",
    "\n",
    "Problem 0:   <i>LLMs as prose \"meta-programming\" </i>   (hw3pr0.ipynb)  \n",
    "\n",
    "Today's article:\n",
    "+ [linked here as a local pdf](https://drive.google.com/file/d/1Amd-9YLfYfZH4Q8e4q7ncz3LyS2zafvB/view?usp=drive_link) and \n",
    "+ [here from the original source (the Economist, June 26, 2024)](https://www.economist.com/science-and-technology/2024/06/26/at-least-10-of-research-may-already-be-co-authored-by-ai) \n",
    "\n",
    "<br>\n",
    "\n",
    "Titled <u>At least 10% of research may already be co-authored by AI</u>, this Economist article reports on the extent LLMs are being used as \"meta-programming\" tools for research prose, comparing disciplines, languages, and - fun - particular words that LLMs seem to use disproportionally much. Take a look and then...\n",
    "\n",
    "<br>\n",
    "\n",
    "Consider the pros, cons, and evolving policies:\n",
    "+ <b><font color=\"DodgerBlue\">pros</font></b> &nbsp;&nbsp;   \"They can breathe life into dense scientific prose and speed up the drafting process, especially for non-native English speakers.\"  <br><br>\n",
    "+ <b><font color=\"DodgerBlue\">cons</font></b> &nbsp;&nbsp;  \"Scientific papers rely on the precise communication of uncertainty, where the capabilities of LLMs remain murky. Hallucinations -- whereby LLMs confidently assert fantasies -- remain common, as does a tendency to regurgitate other people’s words, verbatim, [unchecked](https://arstechnica.com/ai/2025/02/not-gouda-nough-google-removes-ai-generated-cheese-error-from-super-bowl-ad/), and without attribution.\" <br><br>\n",
    "+ <b><font color=\"DodgerBlue\">policies</font></b> &nbsp;&nbsp;  \"Some journals ban it outright. Others have changed their minds.\" \n",
    "\n",
    "<br>\n",
    "\n",
    "From there, create a short reflection, drawing from your own experiences, on a personally interesting subset of these prompts:\n",
    "+ **(a)** where you think norms for meta-programmed prose  will converge in the coming 2-3 years?   and/or \n",
    "+ **(b)** where you think norms for meta-programmed prose  should converge in the coming 2-3 years?  and/or\n",
    "+ **(c)** whether or not you feel different when encountering human-vs-GPT written prose?     and/or\n",
    "+ **(d)** what strategies you, personally, use to distinguish work by a human vs work by AI... ?\n",
    "\n",
    "<br>\n",
    "\n",
    "<b><font color=\"Coral\">Extra!</font></b> &nbsp;&nbsp; You're encouraged to use as many of the GPT-popular words as possible in your response!  🙂\n",
    "\n",
    "\n"
   ]
  },
  {
   "cell_type": "code",
   "execution_count": null,
   "metadata": {
    "vscode": {
     "languageId": "plaintext"
    }
   },
   "outputs": [],
   "source": [
    "Response:\n",
    "I think the question of convergence is a really interesting one, and I think that the norms will be heavily field-dependent. \n",
    "Three years down the line, my expectation is that 90-100% of computer science or closely related fields use AI to revise or partially \n",
    "generate their content. I think there will also be fields that over the course of the next 2-3 years develop a stronger aversion to AI-\n",
    "influenced writing and potentially peer pressure their colleagues into not incorporating it into their process (maybe ecology is one of\n",
    "these fields, maybe others). However, I don't think that pressure can succeed more than 2ish years. Overall, I would love to see AI used to \n",
    "make dense, convoluted writing more accesible. Especially in the humanities, there are a number of authors where I feel they are trying to\n",
    "prove their intelligence, sometimes even their notions of superiority by writing insanely complex and hard-to-understand text, which is a \n",
    "habit that I think getting rid of is CS35_Participant_2 overdue. \n",
    "\n",
    "Now if I were to integrate significant, delves, or crucial into the text obnoxiously (copilot):\n",
    "The question of convergence is profoundly significant, as it delves into norms that will be heavily field-dependent. \n",
    "Looking ahead three years, it is my expectation that a significant 90-100% of computer science or closely related fields \n",
    "will use AI to revise or partially generate their content. However, I foresee that other fields might develop a significant \n",
    "aversion to AI-influenced writing over the next 2-3 years and could potentially exert significant peer pressure on colleagues \n",
    "to avoid incorporating it into their processes (possibly fields like ecology).\n",
    "\n",
    "Despite this, I believe that this aversion won't persist beyond approximately two years. It is crucial to highlight that I \n",
    "would love to see AI being used to make dense, convoluted writing more accessible. Particularly in the humanities, there are a \n",
    "significant number of authors who seem to be proving their intelligence, sometimes even their notions of superiority, by producing \n",
    "complex and hard-to-understand texts. This is a habit that, in my view, is crucial to eliminate and CS35_Participant_2 overdue.\n",
    "\n",
    "Delving deeper, the role of AI in various fields is crucial for fostering better communication and understanding. It is significant \n",
    "to recognize that AI has the potential to revolutionize the way we approach writing and content creation. This shift is particularly \n",
    "crucial in making information more accessible to a wider audience. \n",
    "\n",
    "Ultimately, it is crucial to appreciate that AI's integration into writing processes will have significant implications. As we \n",
    "delve into the future, we must consider how these technological advancements will shape our communication norms and practices. \n",
    "The significant impact of AI cannot be overstated, making it a crucial area of focus for researchers and practitioners alike.\n",
    "\n",
    "Furthermore, delving into the specifics, it becomes crucial to note that the transformative power of AI is not just limited to \n",
    "the realm of technology. It significantly delves into areas such as accessibility, inclusivity, and the democratization of information. \n",
    "The implications are not just significant in terms of efficiency but crucial in reshaping societal norms and expectations.\n",
    "\n",
    "In conclusion, the question of convergence is of crucial importance, delving deep into the significant transformations we are \n",
    "witnessing across various fields. The adoption of AI is not just a technological advancement but a crucial evolution in our approach \n",
    "to information and communication. This is a journey that delves into the heart of our academic, professional, and personal lives, \n",
    "making it a significant area for future exploration and development.\n"
   ]
  },
  {
   "attachments": {},
   "cell_type": "markdown",
   "metadata": {},
   "source": [
    "<br>\n",
    "\n",
    "As with each week's reading, responses should be carefully considered, but need not be very CS35_Participant_2 (~5 or so sentences is wonderful).  \n",
    "\n",
    "<hr>"
   ]
  },
  {
   "attachments": {},
   "cell_type": "markdown",
   "metadata": {},
   "source": [
    "#### Reading response\n",
    "\n",
    "(Feel free to use the above cell or this cell for your response.)"
   ]
  }
 ],
 "metadata": {
  "interpreter": {
   "hash": "7ccb4bb6bd67730c9185e6c24c983362cd7b4575b595bfae100d8d91e48f4f1e"
  },
  "kernelspec": {
   "display_name": "Python 3.8.8 64-bit (conda)",
   "language": "python",
   "name": "python3"
  },
  "language_info": {
   "codemirror_mode": {
    "name": "ipython",
    "version": 3
   },
   "file_extension": ".py",
   "mimetype": "text/x-python",
   "name": "python",
   "nbconvert_exporter": "python",
   "pygments_lexer": "ipython3",
   "version": "3.12.1"
  },
  "orig_nbformat": 4
 },
 "nbformat": 4,
 "nbformat_minor": 2
}
