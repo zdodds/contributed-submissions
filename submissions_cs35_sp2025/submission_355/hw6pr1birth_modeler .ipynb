{
 "cells": [
  {
   "cell_type": "markdown",
   "metadata": {},
   "source": [
    "#### Births Modeler: &nbsp; Using Decision Trees and Random Forests\n",
    "\n",
    "+ births clasification via decision trees and random forests...\n",
    "+ You're classifying \"above\" (above-median popularity of birthdays) vs \"below\" (below-median popularity of birthdays)\n",
    "+ Feel free to re-use the cleaned data from previous weeks (already here)\n",
    "+ Suggestion:  &nbsp; go cell-by-cell using the iris_modeler example, copying-and-adapting as you go..."
   ]
  },
  {
   "cell_type": "code",
   "execution_count": null,
   "metadata": {},
   "outputs": [],
   "source": [
    "#\n",
    "# hw6pr1births_modeler:  bday popularity modeling by month + day    \n",
    "#                                                 (above/below median: 190942)\n",
    "#\n",
    "\n",
    "#\n",
    "# SUGGESTION:  \n",
    "# \n",
    "# +++ copy-paste-and-alter from the week6 iris-modeling notebook into here +++\n",
    "#"
   ]
  },
  {
   "cell_type": "markdown",
   "metadata": {},
   "source": [
    "## Data set up...\n",
    "+ Use the cleaned data from prior weeks (it should be here in this folder as births_cleaned.csv)\n",
    "+ Be sure to get rid of the column with the **number of births** &nbsp;&nbsp; That makes the prediction \"too easy\"!\n",
    "+ Instead, see how well the DT/RF techniques can predict above/below-median popularity, just based on month and day...\n",
    "+ (It's quite a hard estimation problem!)"
   ]
  },
  {
   "cell_type": "code",
   "execution_count": 88,
   "metadata": {},
   "outputs": [
    {
     "name": "stdout",
     "output_type": "stream",
     "text": [
      "births_cleaned.csv : file read into a pandas dataframe.\n"
     ]
    }
   ],
   "source": [
    "# libraries!\n",
    "import numpy as np      # numpy is Python's \"array\" library\n",
    "import pandas as pd     # Pandas is Python's \"data\" library (\"dataframe\" == spreadsheet)\n",
    "\n",
    "# let's read in our flower data...\n",
    "# \n",
    "# iris_cleaned.csv should be in this folder ... iris -> births\n",
    "\n",
    "\n",
    "filename = 'births_cleaned.csv'\n",
    "df_tidy = pd.read_csv(filename)      # encoding = \"utf-8\", \"latin1\"\n",
    "print(f\"{filename} : file read into a pandas dataframe.\")\n",
    "\n"
   ]
  },
  {
   "cell_type": "code",
   "execution_count": 89,
   "metadata": {},
   "outputs": [
    {
     "name": "stdout",
     "output_type": "stream",
     "text": [
      "df_tidy.shape is (366, 4)\n",
      "\n"
     ]
    }
   ],
   "source": [
    "#\n",
    "# different version vary on how to see all rows (adapt to suit your system!)\n",
    "#\n",
    "print(f\"df_tidy.shape is {df_tidy.shape}\\n\")"
   ]
  },
  {
   "cell_type": "code",
   "execution_count": 90,
   "metadata": {},
   "outputs": [
    {
     "name": "stdout",
     "output_type": "stream",
     "text": [
      "<class 'pandas.core.frame.DataFrame'>\n",
      "RangeIndex: 366 entries, 0 to 365\n",
      "Data columns (total 4 columns):\n",
      " #   Column              Non-Null Count  Dtype \n",
      "---  ------              --------------  ----- \n",
      " 0   month               366 non-null    int64 \n",
      " 1   day                 366 non-null    int64 \n",
      " 2   births              366 non-null    int64 \n",
      " 3   above/below median  366 non-null    object\n",
      "dtypes: int64(3), object(1)\n",
      "memory usage: 11.6+ KB\n"
     ]
    }
   ],
   "source": [
    "df_tidy.info()  # prints column information"
   ]
  },
  {
   "cell_type": "code",
   "execution_count": 91,
   "metadata": {},
   "outputs": [
    {
     "data": {
      "text/html": [
       "<div>\n",
       "<style scoped>\n",
       "    .dataframe tbody tr th:only-of-type {\n",
       "        vertical-align: middle;\n",
       "    }\n",
       "\n",
       "    .dataframe tbody tr th {\n",
       "        vertical-align: top;\n",
       "    }\n",
       "\n",
       "    .dataframe thead th {\n",
       "        text-align: right;\n",
       "    }\n",
       "</style>\n",
       "<table border=\"1\" class=\"dataframe\">\n",
       "  <thead>\n",
       "    <tr style=\"text-align: right;\">\n",
       "      <th></th>\n",
       "      <th>month</th>\n",
       "      <th>day</th>\n",
       "      <th>births</th>\n",
       "      <th>above/below median</th>\n",
       "    </tr>\n",
       "  </thead>\n",
       "  <tbody>\n",
       "    <tr>\n",
       "      <th>0</th>\n",
       "      <td>2</td>\n",
       "      <td>29</td>\n",
       "      <td>46420</td>\n",
       "      <td>below</td>\n",
       "    </tr>\n",
       "    <tr>\n",
       "      <th>1</th>\n",
       "      <td>12</td>\n",
       "      <td>25</td>\n",
       "      <td>153778</td>\n",
       "      <td>below</td>\n",
       "    </tr>\n",
       "    <tr>\n",
       "      <th>2</th>\n",
       "      <td>1</td>\n",
       "      <td>1</td>\n",
       "      <td>160369</td>\n",
       "      <td>below</td>\n",
       "    </tr>\n",
       "    <tr>\n",
       "      <th>3</th>\n",
       "      <td>12</td>\n",
       "      <td>24</td>\n",
       "      <td>165050</td>\n",
       "      <td>below</td>\n",
       "    </tr>\n",
       "    <tr>\n",
       "      <th>4</th>\n",
       "      <td>1</td>\n",
       "      <td>2</td>\n",
       "      <td>169896</td>\n",
       "      <td>below</td>\n",
       "    </tr>\n",
       "    <tr>\n",
       "      <th>...</th>\n",
       "      <td>...</td>\n",
       "      <td>...</td>\n",
       "      <td>...</td>\n",
       "      <td>...</td>\n",
       "    </tr>\n",
       "    <tr>\n",
       "      <th>361</th>\n",
       "      <td>9</td>\n",
       "      <td>17</td>\n",
       "      <td>211263</td>\n",
       "      <td>above</td>\n",
       "    </tr>\n",
       "    <tr>\n",
       "      <th>362</th>\n",
       "      <td>9</td>\n",
       "      <td>24</td>\n",
       "      <td>211362</td>\n",
       "      <td>above</td>\n",
       "    </tr>\n",
       "    <tr>\n",
       "      <th>363</th>\n",
       "      <td>9</td>\n",
       "      <td>22</td>\n",
       "      <td>212673</td>\n",
       "      <td>above</td>\n",
       "    </tr>\n",
       "    <tr>\n",
       "      <th>364</th>\n",
       "      <td>9</td>\n",
       "      <td>23</td>\n",
       "      <td>212817</td>\n",
       "      <td>above</td>\n",
       "    </tr>\n",
       "    <tr>\n",
       "      <th>365</th>\n",
       "      <td>9</td>\n",
       "      <td>16</td>\n",
       "      <td>212915</td>\n",
       "      <td>above</td>\n",
       "    </tr>\n",
       "  </tbody>\n",
       "</table>\n",
       "<p>366 rows × 4 columns</p>\n",
       "</div>"
      ],
      "text/plain": [
       "     month  day  births above/below median\n",
       "0        2   29   46420              below\n",
       "1       12   25  153778              below\n",
       "2        1    1  160369              below\n",
       "3       12   24  165050              below\n",
       "4        1    2  169896              below\n",
       "..     ...  ...     ...                ...\n",
       "361      9   17  211263              above\n",
       "362      9   24  211362              above\n",
       "363      9   22  212673              above\n",
       "364      9   23  212817              above\n",
       "365      9   16  212915              above\n",
       "\n",
       "[366 rows x 4 columns]"
      ]
     },
     "execution_count": 91,
     "metadata": {},
     "output_type": "execute_result"
    }
   ],
   "source": [
    "df_tidy\n",
    "\n"
   ]
  },
  {
   "cell_type": "code",
   "execution_count": 92,
   "metadata": {},
   "outputs": [],
   "source": [
    "# ROW = 0\n",
    "# COLUMN = 1\n",
    "# df_model1 = df_tidy.drop('above/below median', axis=COLUMN )\n",
    "# df_model1\n",
    "\n",
    "df_model1 = df_tidy"
   ]
  },
  {
   "cell_type": "code",
   "execution_count": 120,
   "metadata": {},
   "outputs": [
    {
     "name": "stdout",
     "output_type": "stream",
     "text": [
      "COLUMNS is Index(['month', 'day', 'above/below_num'], dtype='object')\n",
      "\n",
      "COLUMNS[0] is month\n",
      "\n",
      "COL_INDEX is {'month': 0, 'day': 1, 'above/below_num': 2}\n",
      "\n",
      "\n",
      "above maps to 0\n",
      "below maps to 1\n"
     ]
    }
   ],
   "source": [
    "#\n",
    "# once we have all the columns we want, let's create an index of their names...\n",
    "\n",
    "#\n",
    "# Let's make sure we have all of our helpful variables in one place \n",
    "#       To be adapted if we drop/add more columns...\n",
    "#\n",
    "\n",
    "#\n",
    "# let's keep our column names in variables, for reference\n",
    "\n",
    "# df_model1 = df_tidy\n",
    "#\n",
    "COLUMNS = df_model1.columns            # \"list\" of columns\n",
    "print(f\"COLUMNS is {COLUMNS}\\n\")  \n",
    "  # It's a \"pandas\" list, called an Index\n",
    "  # use it just as a Python list of strings:\n",
    "print(f\"COLUMNS[0] is {COLUMNS[0]}\\n\")\n",
    "\n",
    "# let's create a dictionary to look up any column index by name\n",
    "COL_INDEX = {}\n",
    "for i, name in enumerate(COLUMNS):\n",
    "    COL_INDEX[name] = i  # using the name (as key), look up the value (i)\n",
    "print(f\"COL_INDEX is {COL_INDEX}\\n\\n\")\n",
    "\n",
    "\n",
    "\n",
    "\n",
    "# Feature names!\n",
    "#\n",
    "FEATURES = COLUMNS[0:2]\n",
    "\n",
    "#\n",
    "# and our \"species\" names\n",
    "#\n",
    "\n",
    "# all of scikit-learn's ML routines need numbers, not strings\n",
    "#   ... even for categories/classifications (like species!)\n",
    "#   so, we will convert the flower-species to numbers:\n",
    "\n",
    "SPECIES = ['above','below']   # int to str\n",
    "SPECIES_INDEX = {'above':0,'below':1}  # str to int\n",
    "\n",
    "def convert_species(speciesname):\n",
    "    \"\"\" return the species index (a unique integer/category) \"\"\"\n",
    "    return SPECIES_INDEX[speciesname]\n",
    "\n",
    "# Let's try it out...\n",
    "for name in SPECIES:\n",
    "    print(f\"{name} maps to {SPECIES_INDEX[name]}\")\n"
   ]
  },
  {
   "cell_type": "code",
   "execution_count": 122,
   "metadata": {},
   "outputs": [],
   "source": [
    "# df_model2 = df_model1.copy()\n",
    "\n",
    "# df_model2['above/below_num'] = df_model1['above/below median'].apply(convert_species)\n"
   ]
  },
  {
   "cell_type": "code",
   "execution_count": 123,
   "metadata": {},
   "outputs": [
    {
     "data": {
      "text/html": [
       "<div>\n",
       "<style scoped>\n",
       "    .dataframe tbody tr th:only-of-type {\n",
       "        vertical-align: middle;\n",
       "    }\n",
       "\n",
       "    .dataframe tbody tr th {\n",
       "        vertical-align: top;\n",
       "    }\n",
       "\n",
       "    .dataframe thead th {\n",
       "        text-align: right;\n",
       "    }\n",
       "</style>\n",
       "<table border=\"1\" class=\"dataframe\">\n",
       "  <thead>\n",
       "    <tr style=\"text-align: right;\">\n",
       "      <th></th>\n",
       "      <th>month</th>\n",
       "      <th>day</th>\n",
       "      <th>above/below_num</th>\n",
       "    </tr>\n",
       "  </thead>\n",
       "  <tbody>\n",
       "    <tr>\n",
       "      <th>0</th>\n",
       "      <td>2</td>\n",
       "      <td>29</td>\n",
       "      <td>1</td>\n",
       "    </tr>\n",
       "    <tr>\n",
       "      <th>1</th>\n",
       "      <td>12</td>\n",
       "      <td>25</td>\n",
       "      <td>1</td>\n",
       "    </tr>\n",
       "    <tr>\n",
       "      <th>2</th>\n",
       "      <td>1</td>\n",
       "      <td>1</td>\n",
       "      <td>1</td>\n",
       "    </tr>\n",
       "    <tr>\n",
       "      <th>3</th>\n",
       "      <td>12</td>\n",
       "      <td>24</td>\n",
       "      <td>1</td>\n",
       "    </tr>\n",
       "    <tr>\n",
       "      <th>4</th>\n",
       "      <td>1</td>\n",
       "      <td>2</td>\n",
       "      <td>1</td>\n",
       "    </tr>\n",
       "    <tr>\n",
       "      <th>...</th>\n",
       "      <td>...</td>\n",
       "      <td>...</td>\n",
       "      <td>...</td>\n",
       "    </tr>\n",
       "    <tr>\n",
       "      <th>361</th>\n",
       "      <td>9</td>\n",
       "      <td>17</td>\n",
       "      <td>0</td>\n",
       "    </tr>\n",
       "    <tr>\n",
       "      <th>362</th>\n",
       "      <td>9</td>\n",
       "      <td>24</td>\n",
       "      <td>0</td>\n",
       "    </tr>\n",
       "    <tr>\n",
       "      <th>363</th>\n",
       "      <td>9</td>\n",
       "      <td>22</td>\n",
       "      <td>0</td>\n",
       "    </tr>\n",
       "    <tr>\n",
       "      <th>364</th>\n",
       "      <td>9</td>\n",
       "      <td>23</td>\n",
       "      <td>0</td>\n",
       "    </tr>\n",
       "    <tr>\n",
       "      <th>365</th>\n",
       "      <td>9</td>\n",
       "      <td>16</td>\n",
       "      <td>0</td>\n",
       "    </tr>\n",
       "  </tbody>\n",
       "</table>\n",
       "<p>366 rows × 3 columns</p>\n",
       "</div>"
      ],
      "text/plain": [
       "     month  day  above/below_num\n",
       "0        2   29                1\n",
       "1       12   25                1\n",
       "2        1    1                1\n",
       "3       12   24                1\n",
       "4        1    2                1\n",
       "..     ...  ...              ...\n",
       "361      9   17                0\n",
       "362      9   24                0\n",
       "363      9   22                0\n",
       "364      9   23                0\n",
       "365      9   16                0\n",
       "\n",
       "[366 rows x 3 columns]"
      ]
     },
     "execution_count": 123,
     "metadata": {},
     "output_type": "execute_result"
    }
   ],
   "source": [
    "df_model1"
   ]
  },
  {
   "cell_type": "code",
   "execution_count": 124,
   "metadata": {},
   "outputs": [],
   "source": [
    "# df_model1 = df_model2\n",
    "\n",
    "# ROW = 0\n",
    "# COLUMN = 1\n",
    "# df_model1 = df_model1.drop('above/below median', axis=COLUMN )\n",
    "# df_model1"
   ]
  },
  {
   "cell_type": "code",
   "execution_count": 125,
   "metadata": {},
   "outputs": [],
   "source": [
    "# ROW = 0\n",
    "# COLUMN = 1\n",
    "# df_model1 = df_model1.drop('births', axis=COLUMN )\n",
    "# df_model1"
   ]
  },
  {
   "cell_type": "code",
   "execution_count": 126,
   "metadata": {},
   "outputs": [
    {
     "name": "stdout",
     "output_type": "stream",
     "text": [
      "[[ 2 29  1]\n",
      " [12 25  1]\n",
      " [ 1  1  1]\n",
      " ...\n",
      " [ 9 22  0]\n",
      " [ 9 23  0]\n",
      " [ 9 16  0]]\n"
     ]
    }
   ],
   "source": [
    "A = df_model1.to_numpy()   \n",
    "print(A)"
   ]
  },
  {
   "cell_type": "code",
   "execution_count": 127,
   "metadata": {},
   "outputs": [
    {
     "name": "stdout",
     "output_type": "stream",
     "text": [
      "[[ 2. 29.  1.]\n",
      " [12. 25.  1.]\n",
      " [ 1.  1.  1.]\n",
      " ...\n",
      " [ 9. 22.  0.]\n",
      " [ 9. 23.  0.]\n",
      " [ 9. 16.  0.]]\n"
     ]
    }
   ],
   "source": [
    "A = A.astype('float64')  # so many:  www.tutorialspoint.com/numpy/numpy_data_types.htm\n",
    "print(A)"
   ]
  },
  {
   "cell_type": "code",
   "execution_count": 128,
   "metadata": {},
   "outputs": [
    {
     "name": "stdout",
     "output_type": "stream",
     "text": [
      "\n",
      "The dataset has 366 rows and 3 cols\n"
     ]
    }
   ],
   "source": [
    "#\n",
    "# nice to have NUM_ROWS and NUM_COLS around\n",
    "#\n",
    "NUM_ROWS, NUM_COLS = A.shape\n",
    "print(f\"\\nThe dataset has {NUM_ROWS} rows and {NUM_COLS} cols\")"
   ]
  },
  {
   "cell_type": "code",
   "execution_count": null,
   "metadata": {},
   "outputs": [],
   "source": [
    "#\n",
    "# SUGGESTION:  \n",
    "# \n",
    "#   Copy-paste-and-adapt from the iris-modeling notebook.\n",
    "#\n",
    "#\n",
    "# This approach has the advantage of more deeply \"digesting\" the iris workflow ...\n",
    "#\n",
    "#      ... altering the parts that don't transfer, and taking the parts that do\n",
    "#"
   ]
  },
  {
   "cell_type": "code",
   "execution_count": 129,
   "metadata": {},
   "outputs": [
    {
     "name": "stdout",
     "output_type": "stream",
     "text": [
      "+++ Start of data definitions +++\n",
      "\n",
      "y_all (just the labels/species)   are \n",
      " [1. 1. 1. 1. 1. 1. 1. 1. 1. 1. 1. 1. 1. 1. 1. 1. 1. 1. 1. 1. 1. 1. 1. 1.\n",
      " 1. 1. 1. 1. 1. 1. 1. 1. 1. 1. 1. 1. 1. 1. 1. 1. 1. 1. 1. 1. 1. 1. 1. 1.\n",
      " 1. 1. 1. 1. 1. 1. 1. 1. 1. 1. 1. 1. 1. 1. 1. 1. 1. 1. 1. 1. 1. 1. 1. 1.\n",
      " 1. 1. 1. 1. 1. 1. 1. 1. 1. 1. 1. 1. 1. 1. 1. 1. 1. 1. 1. 1. 1. 1. 1. 1.\n",
      " 1. 1. 1. 1. 1. 1. 1. 1. 1. 1. 1. 1. 1. 1. 1. 1. 1. 1. 1. 1. 1. 1. 1. 1.\n",
      " 1. 1. 1. 1. 1. 1. 1. 1. 1. 1. 1. 1. 1. 1. 1. 1. 1. 1. 1. 1. 1. 1. 1. 1.\n",
      " 1. 1. 1. 1. 1. 1. 1. 1. 1. 1. 1. 1. 1. 1. 1. 1. 1. 1. 1. 1. 1. 1. 1. 1.\n",
      " 1. 1. 1. 1. 1. 1. 1. 1. 1. 1. 1. 1. 0. 0. 0. 0. 0. 0. 0. 0. 0. 0. 0. 0.\n",
      " 0. 0. 0. 0. 0. 0. 0. 0. 0. 0. 0. 0. 0. 0. 0. 0. 0. 0. 0. 0. 0. 0. 0. 0.\n",
      " 0. 0. 0. 0. 0. 0. 0. 0. 0. 0. 0. 0. 0. 0. 0. 0. 0. 0. 0. 0. 0. 0. 0. 0.\n",
      " 0. 0. 0. 0. 0. 0. 0. 0. 0. 0. 0. 0. 0. 0. 0. 0. 0. 0. 0. 0. 0. 0. 0. 0.\n",
      " 0. 0. 0. 0. 0. 0. 0. 0. 0. 0. 0. 0. 0. 0. 0. 0. 0. 0. 0. 0. 0. 0. 0. 0.\n",
      " 0. 0. 0. 0. 0. 0. 0. 0. 0. 0. 0. 0. 0. 0. 0. 0. 0. 0. 0. 0. 0. 0. 0. 0.\n",
      " 0. 0. 0. 0. 0. 0. 0. 0. 0. 0. 0. 0. 0. 0. 0. 0. 0. 0. 0. 0. 0. 0. 0. 0.\n",
      " 0. 0. 0. 0. 0. 0. 0. 0. 0. 0. 0. 0. 0. 0. 0. 0. 0. 0. 0. 0. 0. 0. 0. 0.\n",
      " 0. 0. 0. 0. 0. 0.]\n",
      "X_all (just the features, first few rows) are \n",
      " [[ 2. 29.]\n",
      " [12. 25.]]\n"
     ]
    }
   ],
   "source": [
    "print(\"+++ Start of data definitions +++\\n\")\n",
    "\n",
    "#\n",
    "# we could do this at the data-frame level, too!\n",
    "#\n",
    "\n",
    "X_all = A[:,0:2]  # X (features) ... is all rows, columns 0, 1, 2, 3\n",
    "y_all = A[:,2]    # y (labels) ... is all rows, column 4 only\n",
    "\n",
    "print(f\"y_all (just the labels/species)   are \\n {y_all}\")\n",
    "print(f\"X_all (just the features, first few rows) are \\n {X_all[0:2]}\")"
   ]
  },
  {
   "cell_type": "code",
   "execution_count": 130,
   "metadata": {},
   "outputs": [
    {
     "name": "stdout",
     "output_type": "stream",
     "text": [
      "The scrambled labels/species are \n",
      " [0. 1. 1. 1. 0. 0. 1. 1. 1. 0. 0. 0. 0. 1. 1. 0. 0. 1. 0. 1. 0. 1. 1. 1.\n",
      " 0. 0. 1. 1. 1. 0. 1. 1. 1. 0. 0. 0. 1. 0. 1. 1. 0. 1. 1. 1. 0. 0. 1. 0.\n",
      " 1. 1. 1. 0. 0. 0. 0. 1. 0. 1. 1. 1. 1. 1. 1. 0. 1. 1. 1. 1. 0. 0. 1. 1.\n",
      " 1. 0. 0. 1. 0. 1. 0. 1. 1. 1. 1. 0. 0. 0. 1. 0. 1. 0. 0. 0. 1. 0. 1. 0.\n",
      " 0. 1. 0. 0. 1. 0. 0. 0. 0. 0. 0. 1. 0. 0. 1. 1. 0. 1. 0. 1. 1. 1. 1. 0.\n",
      " 0. 0. 1. 1. 0. 1. 0. 0. 0. 1. 0. 0. 0. 0. 1. 1. 0. 1. 1. 1. 1. 0. 0. 0.\n",
      " 0. 1. 0. 1. 1. 0. 0. 1. 1. 1. 1. 0. 1. 0. 0. 0. 1. 0. 0. 0. 1. 0. 0. 1.\n",
      " 1. 1. 0. 0. 0. 0. 0. 1. 1. 0. 1. 0. 0. 0. 1. 0. 1. 0. 0. 1. 1. 0. 0. 1.\n",
      " 0. 0. 1. 1. 0. 1. 1. 0. 0. 0. 1. 0. 1. 1. 1. 0. 1. 0. 1. 1. 0. 0. 1. 0.\n",
      " 0. 0. 1. 1. 0. 1. 0. 1. 0. 0. 0. 0. 0. 0. 0. 1. 1. 1. 0. 0. 0. 1. 1. 0.\n",
      " 0. 0. 0. 0. 1. 0. 1. 0. 1. 1. 0. 0. 1. 1. 0. 1. 0. 1. 0. 1. 0. 1. 0. 1.\n",
      " 1. 1. 0. 0. 1. 1. 1. 0. 0. 0. 0. 0. 0. 1. 0. 0. 1. 0. 1. 1. 1. 0. 0. 0.\n",
      " 1. 0. 0. 0. 0. 1. 0. 1. 1. 0. 1. 1. 1. 0. 1. 1. 0. 1. 0. 0. 1. 0. 0. 1.\n",
      " 0. 1. 0. 1. 1. 0. 1. 1. 0. 1. 0. 1. 1. 1. 1. 1. 1. 1. 0. 1. 0. 1. 1. 1.\n",
      " 0. 1. 0. 1. 0. 1. 0. 1. 0. 1. 0. 0. 1. 1. 0. 1. 1. 0. 1. 1. 1. 0. 0. 1.\n",
      " 1. 0. 0. 1. 0. 0.]\n",
      "The corresponding data rows are \n",
      " [[ 9. 13.]\n",
      " [ 5. 24.]\n",
      " [ 3. 22.]\n",
      " [ 4. 12.]\n",
      " [11. 11.]]\n"
     ]
    }
   ],
   "source": [
    "#\n",
    "# we scramble the data, to remove (potential) dependence on its ordering: \n",
    "# \n",
    "indices = np.random.permutation(len(y_all))  # indices is a permutation-list\n",
    "\n",
    "# we scramble both X and y, necessarily with the same permutation\n",
    "X_permed = X_all[indices]              # we apply the _same_ permutation to each!\n",
    "y_permed = y_all[indices]              # again...\n",
    "print(f\"The scrambled labels/species are \\n {y_permed}\")\n",
    "print(f\"The corresponding data rows are \\n {X_permed[0:5]}\")"
   ]
  },
  {
   "cell_type": "code",
   "execution_count": 131,
   "metadata": {},
   "outputs": [
    {
     "name": "stdout",
     "output_type": "stream",
     "text": [
      "training with 292 rows;  testing with 74 rows\n",
      "\n",
      "Held-out data... (testing data: 74)\n",
      "y_test: [0. 0. 0. 0. 1. 0. 0. 0. 1. 0. 1. 1. 1. 1. 1. 0. 0. 0. 1. 0. 0. 0. 1. 1.\n",
      " 1. 1. 0. 0. 0. 0. 0. 0. 1. 0. 0. 0. 0. 1. 0. 0. 0. 0. 1. 1. 0. 0. 0. 0.\n",
      " 0. 0. 1. 0. 1. 0. 1. 0. 0. 1. 1. 1. 1. 0. 0. 1. 1. 0. 0. 0. 0. 1. 1. 0.\n",
      " 0. 1.]\n",
      "\n",
      "X_test (few rows): [[ 8. 28.]\n",
      " [ 8.  8.]\n",
      " [ 9. 12.]\n",
      " [ 9. 29.]\n",
      " [ 5. 31.]]\n",
      "\n",
      "Data used for modeling... (training data: 292)\n",
      "y_train: [1. 1. 1. 0. 1. 0. 1. 0. 1. 1. 1. 1. 1. 1. 1. 1. 0. 1. 0. 1. 0. 0. 1. 1.\n",
      " 1. 0. 1. 1. 0. 0. 1. 0. 0. 0. 0. 1. 1. 1. 0. 1. 1. 1. 1. 0. 1. 0. 1. 1.\n",
      " 1. 1. 0. 0. 1. 1. 1. 0. 0. 1. 1. 1. 1. 0. 0. 0. 1. 0. 1. 0. 1. 1. 0. 0.\n",
      " 1. 0. 1. 0. 0. 0. 0. 0. 1. 1. 0. 1. 0. 0. 1. 1. 0. 0. 0. 1. 1. 0. 0. 1.\n",
      " 1. 0. 0. 1. 1. 0. 1. 1. 0. 1. 1. 0. 0. 1. 0. 0. 1. 0. 1. 1. 1. 0. 1. 1.\n",
      " 1. 0. 1. 1. 0. 1. 1. 1. 1. 1. 0. 0. 1. 0. 0. 0. 1. 0. 0. 1. 1. 0. 1. 0.\n",
      " 1. 0. 0. 0. 1. 0. 0. 0. 1. 0. 0. 0. 1. 0. 0. 0. 0. 0. 1. 0. 1. 0. 0. 0.\n",
      " 0. 1. 1. 1. 1. 0. 1. 1. 0. 1. 0. 0. 1. 0. 0. 0. 1. 1. 0. 0. 0. 0. 0. 0.\n",
      " 1. 0. 1. 0. 0. 1. 1. 0. 0. 0. 0. 1. 1. 1. 1. 0. 1. 1. 1. 1. 0. 1. 0. 0.\n",
      " 0. 1. 0. 0. 0. 1. 1. 0. 1. 1. 1. 0. 0. 1. 0. 0. 1. 0. 0. 1. 1. 1. 1. 0.\n",
      " 1. 0. 0. 1. 0. 1. 1. 1. 0. 0. 1. 1. 0. 1. 1. 0. 0. 1. 0. 0. 1. 1. 1. 1.\n",
      " 1. 0. 1. 1. 1. 1. 0. 1. 1. 1. 1. 1. 0. 0. 1. 0. 0. 0. 1. 0. 0. 0. 1. 1.\n",
      " 0. 1. 1. 0.]\n",
      "\n",
      "X_train (few rows): [[ 6. 12.]\n",
      " [12. 26.]\n",
      " [ 3. 14.]\n",
      " [ 8.  3.]\n",
      " [ 5. 27.]]\n"
     ]
    }
   ],
   "source": [
    "#\n",
    "# We next separate into test data and training data ... \n",
    "#    + We will train on the training data...\n",
    "#    + We will _not_ look at the testing data to build the model\n",
    "#\n",
    "# Then, afterward, we will test on the testing data -- and see how well we do!\n",
    "#\n",
    "\n",
    "#\n",
    "# a common convention:  train on 80%, test on 20%    Let's define the TEST_PERCENT\n",
    "#\n",
    "\n",
    "from sklearn.model_selection import train_test_split\n",
    "\n",
    "X_train, X_test, y_train, y_test = train_test_split(X_permed, y_permed, test_size=0.2, random_state=42)\n",
    "\n",
    "print(f\"training with {len(y_train)} rows;  testing with {len(y_test)} rows\\n\" )\n",
    "\n",
    "print(f\"Held-out data... (testing data: {len(y_test)})\")\n",
    "print(f\"y_test: {y_test}\\n\")\n",
    "print(f\"X_test (few rows): {X_test[0:5,:]}\")  # 5 rows\n",
    "print()\n",
    "print(f\"Data used for modeling... (training data: {len(y_train)})\")\n",
    "print(f\"y_train: {y_train}\\n\")\n",
    "print(f\"X_train (few rows): {X_train[0:5,:]}\")  # 5 rows"
   ]
  },
  {
   "cell_type": "markdown",
   "metadata": {},
   "source": [
    "## First: &nbsp; _Decision Trees_"
   ]
  },
  {
   "cell_type": "code",
   "execution_count": 132,
   "metadata": {},
   "outputs": [
    {
     "data": {
      "text/html": [
       "<div>\n",
       "<style scoped>\n",
       "    .dataframe tbody tr th:only-of-type {\n",
       "        vertical-align: middle;\n",
       "    }\n",
       "\n",
       "    .dataframe tbody tr th {\n",
       "        vertical-align: top;\n",
       "    }\n",
       "\n",
       "    .dataframe thead th {\n",
       "        text-align: right;\n",
       "    }\n",
       "</style>\n",
       "<table border=\"1\" class=\"dataframe\">\n",
       "  <thead>\n",
       "    <tr style=\"text-align: right;\">\n",
       "      <th></th>\n",
       "      <th>month</th>\n",
       "      <th>day</th>\n",
       "      <th>above/below_num</th>\n",
       "    </tr>\n",
       "  </thead>\n",
       "  <tbody>\n",
       "    <tr>\n",
       "      <th>0</th>\n",
       "      <td>2</td>\n",
       "      <td>29</td>\n",
       "      <td>1</td>\n",
       "    </tr>\n",
       "    <tr>\n",
       "      <th>1</th>\n",
       "      <td>12</td>\n",
       "      <td>25</td>\n",
       "      <td>1</td>\n",
       "    </tr>\n",
       "    <tr>\n",
       "      <th>2</th>\n",
       "      <td>1</td>\n",
       "      <td>1</td>\n",
       "      <td>1</td>\n",
       "    </tr>\n",
       "    <tr>\n",
       "      <th>3</th>\n",
       "      <td>12</td>\n",
       "      <td>24</td>\n",
       "      <td>1</td>\n",
       "    </tr>\n",
       "    <tr>\n",
       "      <th>4</th>\n",
       "      <td>1</td>\n",
       "      <td>2</td>\n",
       "      <td>1</td>\n",
       "    </tr>\n",
       "    <tr>\n",
       "      <th>...</th>\n",
       "      <td>...</td>\n",
       "      <td>...</td>\n",
       "      <td>...</td>\n",
       "    </tr>\n",
       "    <tr>\n",
       "      <th>361</th>\n",
       "      <td>9</td>\n",
       "      <td>17</td>\n",
       "      <td>0</td>\n",
       "    </tr>\n",
       "    <tr>\n",
       "      <th>362</th>\n",
       "      <td>9</td>\n",
       "      <td>24</td>\n",
       "      <td>0</td>\n",
       "    </tr>\n",
       "    <tr>\n",
       "      <th>363</th>\n",
       "      <td>9</td>\n",
       "      <td>22</td>\n",
       "      <td>0</td>\n",
       "    </tr>\n",
       "    <tr>\n",
       "      <th>364</th>\n",
       "      <td>9</td>\n",
       "      <td>23</td>\n",
       "      <td>0</td>\n",
       "    </tr>\n",
       "    <tr>\n",
       "      <th>365</th>\n",
       "      <td>9</td>\n",
       "      <td>16</td>\n",
       "      <td>0</td>\n",
       "    </tr>\n",
       "  </tbody>\n",
       "</table>\n",
       "<p>366 rows × 3 columns</p>\n",
       "</div>"
      ],
      "text/plain": [
       "     month  day  above/below_num\n",
       "0        2   29                1\n",
       "1       12   25                1\n",
       "2        1    1                1\n",
       "3       12   24                1\n",
       "4        1    2                1\n",
       "..     ...  ...              ...\n",
       "361      9   17                0\n",
       "362      9   24                0\n",
       "363      9   22                0\n",
       "364      9   23                0\n",
       "365      9   16                0\n",
       "\n",
       "[366 rows x 3 columns]"
      ]
     },
     "execution_count": 132,
     "metadata": {},
     "output_type": "execute_result"
    }
   ],
   "source": [
    "df_model1"
   ]
  },
  {
   "cell_type": "code",
   "execution_count": 138,
   "metadata": {},
   "outputs": [
    {
     "name": "stdout",
     "output_type": "stream",
     "text": [
      "Created and trained a DT classifier with max depth = 1\n"
     ]
    }
   ],
   "source": [
    "#\n",
    "# +++ This is the \"Model-building and Model-training Cell\"\n",
    "#       \n",
    "# Create a DT model and train it! \n",
    "#\n",
    "from sklearn import tree      # for decision trees\n",
    "\n",
    "best_depth = 1   # we don't know what depth to use, so let's guess 1\n",
    "dtree_model = tree.DecisionTreeClassifier(max_depth=best_depth)\n",
    "\n",
    "# Let's train the model.   It's this one line:\n",
    "dtree_model.fit(X_train, y_train)                              # yay!  trained!\n",
    "print(\"Created and trained a DT classifier with max depth =\", best_depth) "
   ]
  },
  {
   "cell_type": "code",
   "execution_count": 139,
   "metadata": {},
   "outputs": [
    {
     "name": "stdout",
     "output_type": "stream",
     "text": [
      "Predicted labels: [0. 0. 0. 0. 1. 1. 0. 0. 1. 0. 1. 1. 1. 1. 1. 0. 0. 0. 1. 0. 0. 0. 0. 1.\n",
      " 0. 1. 0. 0. 0. 1. 0. 0. 0. 1. 0. 0. 0. 1. 0. 0. 0. 0. 1. 1. 0. 0. 0. 1.\n",
      " 1. 0. 1. 0. 1. 0. 1. 0. 0. 1. 0. 1. 1. 0. 0. 1. 0. 0. 0. 0. 0. 1. 1. 0.\n",
      " 0. 1.]\n",
      "Actual  labels  : [0. 0. 0. 0. 1. 0. 0. 0. 1. 0. 1. 1. 1. 1. 1. 0. 0. 0. 1. 0. 0. 0. 1. 1.\n",
      " 1. 1. 0. 0. 0. 0. 0. 0. 1. 0. 0. 0. 0. 1. 0. 0. 0. 0. 1. 1. 0. 0. 0. 0.\n",
      " 0. 0. 1. 0. 1. 0. 1. 0. 0. 1. 1. 1. 1. 0. 0. 1. 1. 0. 0. 0. 0. 1. 1. 0.\n",
      " 0. 1.]\n",
      "\n",
      "Results on test set:  64 correct out of 74 total.\n"
     ]
    }
   ],
   "source": [
    "#\n",
    "# +++ This cell will \"Model-testing Cell\"\n",
    "#\n",
    "# Now, let's see how well our model does on our \"held-out data\" (the testing data)\n",
    "#\n",
    "\n",
    "# We run our test set:\n",
    "\n",
    "# the function knn_model.predict is the instantiation of our model\n",
    "# it's what runs the k-nearest-neighbors algorithm:\n",
    "predicted_labels = dtree_model.predict(X_test)   \n",
    "actual_labels = y_test\n",
    "\n",
    "# Let's print them so we can compare...\n",
    "print(\"Predicted labels:\", predicted_labels)\n",
    "print(\"Actual  labels  :\", actual_labels)\n",
    "\n",
    "# And, some overall results\n",
    "num_correct = sum(predicted_labels == actual_labels)\n",
    "total = len(actual_labels)\n",
    "print(f\"\\nResults on test set:  {num_correct} correct out of {total} total.\")"
   ]
  },
  {
   "cell_type": "code",
   "execution_count": 140,
   "metadata": {},
   "outputs": [
    {
     "name": "stdout",
     "output_type": "stream",
     "text": [
      "row   0 :        above above          \n",
      "row   1 :        above above          \n",
      "row   2 :        above above          \n",
      "row   3 :        above above          \n",
      "row   4 :        below below          \n",
      "row   5 :        below above          incorrect\n",
      "row   6 :        above above          \n",
      "row   7 :        above above          \n",
      "row   8 :        below below          \n",
      "row   9 :        above above          \n",
      "row  10 :        below below          \n",
      "row  11 :        below below          \n",
      "row  12 :        below below          \n",
      "row  13 :        below below          \n",
      "row  14 :        below below          \n",
      "row  15 :        above above          \n",
      "row  16 :        above above          \n",
      "row  17 :        above above          \n",
      "row  18 :        below below          \n",
      "row  19 :        above above          \n",
      "row  20 :        above above          \n",
      "row  21 :        above above          \n",
      "row  22 :        above below          incorrect\n",
      "row  23 :        below below          \n",
      "row  24 :        above below          incorrect\n",
      "row  25 :        below below          \n",
      "row  26 :        above above          \n",
      "row  27 :        above above          \n",
      "row  28 :        above above          \n",
      "row  29 :        below above          incorrect\n",
      "row  30 :        above above          \n",
      "row  31 :        above above          \n",
      "row  32 :        above below          incorrect\n",
      "row  33 :        below above          incorrect\n",
      "row  34 :        above above          \n",
      "row  35 :        above above          \n",
      "row  36 :        above above          \n",
      "row  37 :        below below          \n",
      "row  38 :        above above          \n",
      "row  39 :        above above          \n",
      "row  40 :        above above          \n",
      "row  41 :        above above          \n",
      "row  42 :        below below          \n",
      "row  43 :        below below          \n",
      "row  44 :        above above          \n",
      "row  45 :        above above          \n",
      "row  46 :        above above          \n",
      "row  47 :        below above          incorrect\n",
      "row  48 :        below above          incorrect\n",
      "row  49 :        above above          \n",
      "row  50 :        below below          \n",
      "row  51 :        above above          \n",
      "row  52 :        below below          \n",
      "row  53 :        above above          \n",
      "row  54 :        below below          \n",
      "row  55 :        above above          \n",
      "row  56 :        above above          \n",
      "row  57 :        below below          \n",
      "row  58 :        above below          incorrect\n",
      "row  59 :        below below          \n",
      "row  60 :        below below          \n",
      "row  61 :        above above          \n",
      "row  62 :        above above          \n",
      "row  63 :        below below          \n",
      "row  64 :        above below          incorrect\n",
      "row  65 :        above above          \n",
      "row  66 :        above above          \n",
      "row  67 :        above above          \n",
      "row  68 :        above above          \n",
      "row  69 :        below below          \n",
      "row  70 :        below below          \n",
      "row  71 :        above above          \n",
      "row  72 :        above above          \n",
      "row  73 :        below below          \n",
      "\n",
      "Correct: 64 out of 74\n"
     ]
    },
    {
     "data": {
      "text/plain": [
       "64"
      ]
     },
     "execution_count": 140,
     "metadata": {},
     "output_type": "execute_result"
    }
   ],
   "source": [
    "#\n",
    "# Let's print these more helpfully, in a vertical table\n",
    "#\n",
    "\n",
    "def compare_labels(predicted_labels, actual_labels):\n",
    "    \"\"\" a more neatly formatted comparison \"\"\"\n",
    "    NUM_LABELS = len(predicted_labels)\n",
    "    num_correct = 0\n",
    "    \n",
    "    for i in range(NUM_LABELS):\n",
    "        p = int(round(predicted_labels[i]))         # round protects from fp error \n",
    "        a = int(round(actual_labels[i]))\n",
    "        result = \"incorrect\"\n",
    "        if p == a:  # if they match,\n",
    "            result = \"\"       # no longer incorrect\n",
    "            num_correct += 1  # and we count a match!\n",
    "\n",
    "        print(f\"row {i:>3d} : {SPECIES[p]:>12s} {SPECIES[a]:<12s}   {result}\")   \n",
    "\n",
    "    print()\n",
    "    print(\"Correct:\", num_correct, \"out of\", NUM_LABELS)\n",
    "    return num_correct\n",
    "\n",
    "# let's try it out!\n",
    "compare_labels(predicted_labels,actual_labels)"
   ]
  },
  {
   "cell_type": "code",
   "execution_count": 141,
   "metadata": {},
   "outputs": [
    {
     "name": "stdout",
     "output_type": "stream",
     "text": [
      "|--- feature_0 <= 5.50\n",
      "|   |--- class: 1.0\n",
      "|--- feature_0 >  5.50\n",
      "|   |--- class: 0.0\n",
      "\n"
     ]
    }
   ],
   "source": [
    "#\n",
    "# first, let's use text :)\n",
    "#\n",
    "text_representation = tree.export_text(dtree_model)\n",
    "print(text_representation)"
   ]
  },
  {
   "cell_type": "code",
   "execution_count": 142,
   "metadata": {},
   "outputs": [
    {
     "data": {
      "image/png": "[encoded data removed]",
      "text/plain": [
       "<Figure size 500x400 with 1 Axes>"
      ]
     },
     "metadata": {},
     "output_type": "display_data"
    }
   ],
   "source": [
    "#\n",
    "# Treeing!\n",
    "#\n",
    "import matplotlib.pyplot as plt \n",
    "\n",
    "fig = plt.figure(figsize=(5,4))              # Feel free to adjust this size...\n",
    "tree_plot = tree.plot_tree(dtree_model, \n",
    "                   feature_names=FEATURES,   # Glad to have these FEATURES...\n",
    "                   class_names=SPECIES,      # and these SPECIES...\n",
    "                   filled=True)"
   ]
  },
  {
   "cell_type": "code",
   "execution_count": 143,
   "metadata": {},
   "outputs": [
    {
     "name": "stdout",
     "output_type": "stream",
     "text": [
      "depth:  1  cv accuracy:  0.8083\n",
      "depth:  2  cv accuracy:  0.8015\n",
      "depth:  3  cv accuracy:  0.8220\n",
      "depth:  4  cv accuracy:  0.8217\n",
      "depth:  5  cv accuracy:  0.8183\n",
      "depth:  6  cv accuracy:  0.8287\n",
      "depth:  7  cv accuracy:  0.8183\n",
      "depth:  8  cv accuracy:  0.8321\n",
      "depth:  9  cv accuracy:  0.8423\n",
      "depth: 10  cv accuracy:  0.8355\n",
      "\n",
      "best_depth = 9 with acc: 0.8423144360023377 is our balance.\n",
      "\n",
      "Too deep and the tree will _overfit_ the training data.\n",
      "Too shallow and the tree will _underfit_ the training data.\n"
     ]
    }
   ],
   "source": [
    "#\n",
    "# To compare different tree-depths, we use cross validation\n",
    "#\n",
    "\n",
    "from sklearn.model_selection import cross_val_score\n",
    "\n",
    "#\n",
    "# cross-validation splits the training set into two pieces:\n",
    "#   + model-building and model-validation. We'll use \"build\" and \"validate\"\n",
    "#\n",
    "\n",
    "best_d = 1\n",
    "best_accuracy = 0.0\n",
    "\n",
    "for d in range(1,10+1):\n",
    "    cv_model = tree.DecisionTreeClassifier(max_depth=d)   # for each depth, d\n",
    "    cv_scores = cross_val_score( cv_model, X_train, y_train, cv=5 ) # 5 means 80/20 split\n",
    "    # print(cv_scores)  # we usually don't want to see the five individual scores \n",
    "    average_cv_accuracy = cv_scores.mean()  # more likely, only their average\n",
    "    print(f\"depth: {d:2d}  cv accuracy: {average_cv_accuracy:7.4f}\")\n",
    "    \n",
    "    if average_cv_accuracy > best_accuracy:\n",
    "        best_accuracy = average_cv_accuracy\n",
    "        best_d = d\n",
    "\n",
    "    \n",
    "    \n",
    "# assign best value of d to best_depth\n",
    "best_depth = best_d   # may have to hand-tune this, depending on what happens...\n",
    "print()\n",
    "print(f\"best_depth = {best_depth} with acc: {best_accuracy} is our balance.\")\n",
    "print()\n",
    "print(\"Too deep and the tree will _overfit_ the training data.\")\n",
    "print(\"Too shallow and the tree will _underfit_ the training data.\")"
   ]
  },
  {
   "cell_type": "code",
   "execution_count": 144,
   "metadata": {},
   "outputs": [
    {
     "name": "stdout",
     "output_type": "stream",
     "text": [
      "Created and trained a DT classifier with max depth = 9\n"
     ]
    }
   ],
   "source": [
    "#\n",
    "# Now, we re-create and re-run the  \"Model-building and -training Cell\"\n",
    "#\n",
    "# this time, with the best depth, best_d, found by cross-validation model tuning:\n",
    "#\n",
    "from sklearn import tree      # for decision trees\n",
    "\n",
    "# we should have best_depth from our cv exploration\n",
    "dtree_model_tuned = tree.DecisionTreeClassifier(max_depth=best_depth)\n",
    "\n",
    "# we train the model (it's one line!)\n",
    "dtree_model_tuned.fit(X_train, y_train)                              # yay!  trained!\n",
    "print(\"Created and trained a DT classifier with max depth =\", best_depth) "
   ]
  },
  {
   "cell_type": "code",
   "execution_count": 145,
   "metadata": {},
   "outputs": [
    {
     "data": {
      "image/png": "[encoded data removed]",
      "text/plain": [
       "<Figure size 900x600 with 1 Axes>"
      ]
     },
     "metadata": {},
     "output_type": "display_data"
    }
   ],
   "source": [
    "#\n",
    "# Now, let's see the tree!\n",
    "#\n",
    "\n",
    "filename = 'tree_data.gv'    # sometimes .dot is used, instead of .gv\n",
    "\n",
    "tree.export_graphviz(dtree_model_tuned, out_file=filename,  # the filename constructed above...!\n",
    "                            feature_names=FEATURES, # actual feature names, not species\n",
    "                            filled=True,              # fun!\n",
    "                            rotate=False,             # False for Up/Down; True for L/R\n",
    "                            class_names=SPECIES,      # good to have   \n",
    "                            leaves_parallel=True )    # lots of options!\n",
    "\n",
    "# Use this line to print the tree to the console in the dot language:\n",
    "# print(f\"file {filename} written. Try pasting its contents to  http://viz-js.com/\")\n",
    "\n",
    "# with open(filename, \"r\") as f:    # here, it will print to a file:\n",
    "#     all_file_text = f.read()\n",
    "#     print(all_file_text)\n",
    "\n",
    "#\n",
    "# Treeing using matplotlib:\n",
    "#\n",
    "fig = plt.figure(figsize=(9,6))\n",
    "tree_plot = tree.plot_tree(dtree_model_tuned, \n",
    "                   feature_names=FEATURES,   # Glad to have these!\n",
    "                   class_names=SPECIES,      # and these!!\n",
    "                   filled=True,\n",
    "                   rounded=True,\n",
    "                   fontsize=8)"
   ]
  },
  {
   "cell_type": "code",
   "execution_count": 146,
   "metadata": {},
   "outputs": [],
   "source": [
    "# tree doesn't seem to be a reasonable option here\n",
    "# I don't really expect it to work given the lack of connection between months/days and births"
   ]
  },
  {
   "cell_type": "code",
   "execution_count": 147,
   "metadata": {},
   "outputs": [
    {
     "name": "stdout",
     "output_type": "stream",
     "text": [
      "Predicted labels: [0. 0. 0. 0. 1. 1. 0. 0. 1. 0. 1. 1. 1. 1. 1. 0. 0. 0. 1. 0. 0. 1. 0. 1.\n",
      " 0. 1. 0. 0. 0. 1. 0. 0. 1. 1. 0. 1. 1. 1. 0. 0. 0. 0. 1. 1. 0. 0. 0. 1.\n",
      " 0. 0. 1. 1. 1. 0. 1. 0. 0. 1. 1. 1. 1. 0. 1. 1. 0. 0. 0. 1. 0. 1. 1. 0.\n",
      " 0. 1.]\n",
      "Actual labels: [0. 0. 0. 0. 1. 0. 0. 0. 1. 0. 1. 1. 1. 1. 1. 0. 0. 0. 1. 0. 0. 0. 1. 1.\n",
      " 1. 1. 0. 0. 0. 0. 0. 0. 1. 0. 0. 0. 0. 1. 0. 0. 0. 0. 1. 1. 0. 0. 0. 0.\n",
      " 0. 0. 1. 0. 1. 0. 1. 0. 0. 1. 1. 1. 1. 0. 0. 1. 1. 0. 0. 0. 0. 1. 1. 0.\n",
      " 0. 1.]\n",
      "\n",
      "row   0 :        above above          \n",
      "row   1 :        above above          \n",
      "row   2 :        above above          \n",
      "row   3 :        above above          \n",
      "row   4 :        below below          \n",
      "row   5 :        below above          incorrect\n",
      "row   6 :        above above          \n",
      "row   7 :        above above          \n",
      "row   8 :        below below          \n",
      "row   9 :        above above          \n",
      "row  10 :        below below          \n",
      "row  11 :        below below          \n",
      "row  12 :        below below          \n",
      "row  13 :        below below          \n",
      "row  14 :        below below          \n",
      "row  15 :        above above          \n",
      "row  16 :        above above          \n",
      "row  17 :        above above          \n",
      "row  18 :        below below          \n",
      "row  19 :        above above          \n",
      "row  20 :        above above          \n",
      "row  21 :        below above          incorrect\n",
      "row  22 :        above below          incorrect\n",
      "row  23 :        below below          \n",
      "row  24 :        above below          incorrect\n",
      "row  25 :        below below          \n",
      "row  26 :        above above          \n",
      "row  27 :        above above          \n",
      "row  28 :        above above          \n",
      "row  29 :        below above          incorrect\n",
      "row  30 :        above above          \n",
      "row  31 :        above above          \n",
      "row  32 :        below below          \n",
      "row  33 :        below above          incorrect\n",
      "row  34 :        above above          \n",
      "row  35 :        below above          incorrect\n",
      "row  36 :        below above          incorrect\n",
      "row  37 :        below below          \n",
      "row  38 :        above above          \n",
      "row  39 :        above above          \n",
      "row  40 :        above above          \n",
      "row  41 :        above above          \n",
      "row  42 :        below below          \n",
      "row  43 :        below below          \n",
      "row  44 :        above above          \n",
      "row  45 :        above above          \n",
      "row  46 :        above above          \n",
      "row  47 :        below above          incorrect\n",
      "row  48 :        above above          \n",
      "row  49 :        above above          \n",
      "row  50 :        below below          \n",
      "row  51 :        below above          incorrect\n",
      "row  52 :        below below          \n",
      "row  53 :        above above          \n",
      "row  54 :        below below          \n",
      "row  55 :        above above          \n",
      "row  56 :        above above          \n",
      "row  57 :        below below          \n",
      "row  58 :        below below          \n",
      "row  59 :        below below          \n",
      "row  60 :        below below          \n",
      "row  61 :        above above          \n",
      "row  62 :        below above          incorrect\n",
      "row  63 :        below below          \n",
      "row  64 :        above below          incorrect\n",
      "row  65 :        above above          \n",
      "row  66 :        above above          \n",
      "row  67 :        below above          incorrect\n",
      "row  68 :        above above          \n",
      "row  69 :        below below          \n",
      "row  70 :        below below          \n",
      "row  71 :        above above          \n",
      "row  72 :        above above          \n",
      "row  73 :        below below          \n",
      "\n",
      "Correct: 61 out of 74\n"
     ]
    },
    {
     "data": {
      "text/plain": [
       "61"
      ]
     },
     "execution_count": 147,
     "metadata": {},
     "output_type": "execute_result"
    }
   ],
   "source": [
    "#\n",
    "# Re-create and re-run the  \"Model-testing Cell\"     How does it do with best_k?!\n",
    "#\n",
    "predicted_labels = dtree_model_tuned.predict(X_test)\n",
    "actual_labels = y_test\n",
    "\n",
    "# Let's print them so we can compare...\n",
    "print(\"Predicted labels:\", predicted_labels)\n",
    "print(\"Actual labels:\", actual_labels)\n",
    "print()\n",
    "\n",
    "# and, we'll print our nicer table...\n",
    "compare_labels(predicted_labels,actual_labels)"
   ]
  },
  {
   "cell_type": "code",
   "execution_count": 149,
   "metadata": {},
   "outputs": [],
   "source": [
    "# tree depth 9 worse than depth 1"
   ]
  },
  {
   "cell_type": "code",
   "execution_count": 150,
   "metadata": {},
   "outputs": [
    {
     "name": "stdout",
     "output_type": "stream",
     "text": [
      "[0.58738738 0.41261262]\n",
      "\n",
      "Feature        month has   58.74% of the decision-making importance.\n",
      "Feature          day has   41.26% of the decision-making importance.\n"
     ]
    }
   ],
   "source": [
    "print(dtree_model_tuned.feature_importances_)\n",
    "print()\n",
    "\n",
    "# let's see them with each feature name:\n",
    "IMPs = dtree_model_tuned.feature_importances_\n",
    "\n",
    "# enumerate is great when you want indices _and_ elements!\n",
    "for i, importance in enumerate(IMPs):\n",
    "    perc = importance*100\n",
    "    print(f\"Feature {COLUMNS[i]:>12s} has {perc:>7.2f}% of the decision-making importance.\")"
   ]
  },
  {
   "cell_type": "code",
   "execution_count": 151,
   "metadata": {},
   "outputs": [
    {
     "name": "stdout",
     "output_type": "stream",
     "text": [
      "Created and trained a 'final' DT classifier with max depth = 9\n"
     ]
    }
   ],
   "source": [
    "#\n",
    "# Ok!  We have tuned our DT to use the \"best\" depth...\n",
    "#\n",
    "# Now, we use ALL available data to train our final predictive model:\n",
    "#\n",
    "\n",
    "from sklearn import tree      # for decision trees\n",
    "\n",
    "# we should have best_depth from our cv exploration\n",
    "dtree_model_final = tree.DecisionTreeClassifier(max_depth=best_depth)\n",
    "\n",
    "# we train the model (it's one line!)\n",
    "dtree_model_final.fit(X_all, y_all)                              # yay!  trained!\n",
    "print(\"Created and trained a 'final' DT classifier with max depth =\", best_depth) "
   ]
  },
  {
   "cell_type": "code",
   "execution_count": 152,
   "metadata": {},
   "outputs": [
    {
     "name": "stdout",
     "output_type": "stream",
     "text": [
      "[0.60125182 0.39874818]\n",
      "\n",
      "Feature        month has   60.13% of the decision-making importance.\n",
      "Feature          day has   39.87% of the decision-making importance.\n"
     ]
    }
   ],
   "source": [
    "#\n",
    "# final predictive model (decision trees), with tuned parameters + ALL data incorporated\n",
    "#\n",
    "\n",
    "def predictive_model( Features, Model ):\n",
    "    \"\"\" input: a list of four features \n",
    "                [ sepallen, sepalwid, petallen, petalwid ]\n",
    "        output: the predicted species of iris, from\n",
    "                  setosa (0), versicolor (1), virginica (2)\n",
    "    \"\"\"\n",
    "    our_features = np.asarray([Features])                 # extra brackets needed\n",
    "    predicted_species = Model.predict(our_features)       # The model's prediction!\n",
    "    predicted_species = int(round(predicted_species[0]))  # unpack the extra brackets\n",
    "    return predicted_species\n",
    "   \n",
    "\n",
    "#\n",
    "# feature importances!\n",
    "# \n",
    "#     feature importances are computed by tracking which feature is used at each decision-point\n",
    "#     weighted by how often that decision-point is checked \n",
    "# \n",
    "# feature importances are often even more \"important\" than predictions, \n",
    "#         because they invite the question, \"why\" (Here, not a computational, but a biological/botanical q'n)\n",
    "#\n",
    "\n",
    "print(dtree_model_final.feature_importances_)\n",
    "print()\n",
    "\n",
    "# let's see them with each feature name:\n",
    "IMPs = dtree_model_final.feature_importances_\n",
    "\n",
    "# enumerate is great when you want indices _and_ elements!\n",
    "for i, importance in enumerate(IMPs):\n",
    "    perc = importance*100\n",
    "    print(f\"Feature {COLUMNS[i]:>12s} has {perc:>7.2f}% of the decision-making importance.\")"
   ]
  },
  {
   "cell_type": "markdown",
   "metadata": {},
   "source": [
    "## Then: &nbsp; _Random Forests_"
   ]
  },
  {
   "cell_type": "code",
   "execution_count": null,
   "metadata": {},
   "outputs": [],
   "source": [
    "#\n",
    "# Here, use this week's iris-modeler to create, cross-validate, and model\n",
    "#       bday popularity using Random Forests\n",
    "#\n",
    "\n",
    "# Be sure to cross-validate on the TWO parameters: depth and number-of-estimators\n",
    "#    (the number-of-estimators is the number of trees used)"
   ]
  },
  {
   "cell_type": "code",
   "execution_count": 153,
   "metadata": {},
   "outputs": [
    {
     "name": "stdout",
     "output_type": "stream",
     "text": [
      "Built an RF with depth=1 and number of trees=42\n"
     ]
    }
   ],
   "source": [
    "#\n",
    "# +++ We're back at the \"Model-building and Model-training Cell\"\n",
    "#       \n",
    "# Create a RF model and train it! \n",
    "#\n",
    "from sklearn import tree      # for decision trees\n",
    "from sklearn import ensemble  # for random forests, an ensemble classifier\n",
    "\n",
    "best_d = 1            # we don't know what depth to use, so we guess...\n",
    "best_num_trees = 42   # again, we guess\n",
    "rforest_model = ensemble.RandomForestClassifier(max_depth=best_d, \n",
    "                                                n_estimators=best_num_trees,\n",
    "                                                max_samples=0.5)  \n",
    "# This max_samples=0.5 is the fraction of rows to use for each DT \n",
    "# For all of our forests, we will let max_samples be 0.5   \n",
    "\n",
    "# We'll explore best_d and best_num_trees...\n",
    "\n",
    "# we train the model (again, one line):\n",
    "rforest_model.fit(X_train, y_train)                              # yay!  trained!\n",
    "print(f\"Built an RF with depth={best_d} and number of trees={best_num_trees}\")  "
   ]
  },
  {
   "cell_type": "code",
   "execution_count": 154,
   "metadata": {},
   "outputs": [
    {
     "name": "stdout",
     "output_type": "stream",
     "text": [
      "Predicted labels: [0. 0. 0. 0. 1. 1. 0. 0. 1. 0. 1. 1. 1. 1. 1. 0. 0. 0. 1. 0. 0. 0. 0. 1.\n",
      " 0. 1. 0. 0. 0. 1. 0. 0. 0. 1. 0. 0. 0. 1. 0. 0. 0. 0. 1. 1. 0. 0. 0. 1.\n",
      " 1. 0. 1. 0. 1. 0. 1. 0. 0. 1. 0. 1. 1. 0. 0. 1. 0. 0. 0. 0. 0. 1. 1. 0.\n",
      " 0. 1.]\n",
      "Actual  labels  : [0. 0. 0. 0. 1. 0. 0. 0. 1. 0. 1. 1. 1. 1. 1. 0. 0. 0. 1. 0. 0. 0. 1. 1.\n",
      " 1. 1. 0. 0. 0. 0. 0. 0. 1. 0. 0. 0. 0. 1. 0. 0. 0. 0. 1. 1. 0. 0. 0. 0.\n",
      " 0. 0. 1. 0. 1. 0. 1. 0. 0. 1. 1. 1. 1. 0. 0. 1. 1. 0. 0. 0. 0. 1. 1. 0.\n",
      " 0. 1.]\n",
      "\n",
      "Results on test set:  64 correct out of 74 total.\n",
      "row   0 :        above above          \n",
      "row   1 :        above above          \n",
      "row   2 :        above above          \n",
      "row   3 :        above above          \n",
      "row   4 :        below below          \n",
      "row   5 :        below above          incorrect\n",
      "row   6 :        above above          \n",
      "row   7 :        above above          \n",
      "row   8 :        below below          \n",
      "row   9 :        above above          \n",
      "row  10 :        below below          \n",
      "row  11 :        below below          \n",
      "row  12 :        below below          \n",
      "row  13 :        below below          \n",
      "row  14 :        below below          \n",
      "row  15 :        above above          \n",
      "row  16 :        above above          \n",
      "row  17 :        above above          \n",
      "row  18 :        below below          \n",
      "row  19 :        above above          \n",
      "row  20 :        above above          \n",
      "row  21 :        above above          \n",
      "row  22 :        above below          incorrect\n",
      "row  23 :        below below          \n",
      "row  24 :        above below          incorrect\n",
      "row  25 :        below below          \n",
      "row  26 :        above above          \n",
      "row  27 :        above above          \n",
      "row  28 :        above above          \n",
      "row  29 :        below above          incorrect\n",
      "row  30 :        above above          \n",
      "row  31 :        above above          \n",
      "row  32 :        above below          incorrect\n",
      "row  33 :        below above          incorrect\n",
      "row  34 :        above above          \n",
      "row  35 :        above above          \n",
      "row  36 :        above above          \n",
      "row  37 :        below below          \n",
      "row  38 :        above above          \n",
      "row  39 :        above above          \n",
      "row  40 :        above above          \n",
      "row  41 :        above above          \n",
      "row  42 :        below below          \n",
      "row  43 :        below below          \n",
      "row  44 :        above above          \n",
      "row  45 :        above above          \n",
      "row  46 :        above above          \n",
      "row  47 :        below above          incorrect\n",
      "row  48 :        below above          incorrect\n",
      "row  49 :        above above          \n",
      "row  50 :        below below          \n",
      "row  51 :        above above          \n",
      "row  52 :        below below          \n",
      "row  53 :        above above          \n",
      "row  54 :        below below          \n",
      "row  55 :        above above          \n",
      "row  56 :        above above          \n",
      "row  57 :        below below          \n",
      "row  58 :        above below          incorrect\n",
      "row  59 :        below below          \n",
      "row  60 :        below below          \n",
      "row  61 :        above above          \n",
      "row  62 :        above above          \n",
      "row  63 :        below below          \n",
      "row  64 :        above below          incorrect\n",
      "row  65 :        above above          \n",
      "row  66 :        above above          \n",
      "row  67 :        above above          \n",
      "row  68 :        above above          \n",
      "row  69 :        below below          \n",
      "row  70 :        below below          \n",
      "row  71 :        above above          \n",
      "row  72 :        above above          \n",
      "row  73 :        below below          \n",
      "\n",
      "Correct: 64 out of 74\n"
     ]
    },
    {
     "data": {
      "text/plain": [
       "64"
      ]
     },
     "execution_count": 154,
     "metadata": {},
     "output_type": "execute_result"
    }
   ],
   "source": [
    "#\n",
    "# +++ This is the \"Model-testing Cell\"\n",
    "#\n",
    "# Now, let's see how well we did on our \"held-out data\" (the testing data)\n",
    "#\n",
    "\n",
    "# We run our test set!\n",
    "predicted_labels = rforest_model.predict(X_test)\n",
    "actual_labels = y_test\n",
    "\n",
    "# Let's print them so we can compare...\n",
    "print(\"Predicted labels:\", predicted_labels)\n",
    "print(\"Actual  labels  :\", actual_labels)\n",
    "\n",
    "# And, some overall results\n",
    "num_correct = sum(predicted_labels == actual_labels)\n",
    "total = len(actual_labels)\n",
    "print(f\"\\nResults on test set:  {num_correct} correct out of {total} total.\")\n",
    "\n",
    "# and, let's print our table, too...\n",
    "compare_labels(predicted_labels,actual_labels)"
   ]
  },
  {
   "cell_type": "code",
   "execution_count": 155,
   "metadata": {},
   "outputs": [
    {
     "name": "stdout",
     "output_type": "stream",
     "text": [
      "One of the forest's trees is DecisionTreeClassifier(max_depth=1, max_features='sqrt', random_state=909152451)\n",
      "file rf_tree_028.gv written. Try copying the result to http://viz-js.com/ \n",
      "\n",
      "digraph Tree {\n",
      "node [shape=box, style=\"filled\", color=\"black\", fontname=\"helvetica\"] ;\n",
      "graph [ranksep=equally, splines=polyline] ;\n",
      "edge [fontname=\"helvetica\"] ;\n",
      "0 [label=\"day <= 30.5\\ngini = 0.495\\nsamples = 117\\nvalue = [66, 80]\\nclass = below\", fillcolor=\"#dceefa\"] ;\n",
      "1 [label=\"gini = 0.498\\nsamples = 114\\nvalue = [66, 76]\\nclass = below\", fillcolor=\"#e5f2fc\"] ;\n",
      "0 -> 1 [labeldistance=2.5, labelangle=45, headlabel=\"True\"] ;\n",
      "2 [label=\"gini = 0.0\\nsamples = 3\\nvalue = [0, 4]\\nclass = below\", fillcolor=\"#399de5\"] ;\n",
      "0 -> 2 [labeldistance=2.5, labelangle=-45, headlabel=\"False\"] ;\n",
      "{rank=same ; 0} ;\n",
      "{rank=same ; 1; 2} ;\n",
      "}\n"
     ]
    },
    {
     "data": {
      "image/png": "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",
      "text/plain": [
       "<Figure size 500x400 with 1 Axes>"
      ]
     },
     "metadata": {},
     "output_type": "display_data"
    }
   ],
   "source": [
    "#\n",
    "# we can get the individual trees, if we want...\n",
    "#\n",
    "tree_index = 28   # which tree\n",
    "one_rf_tree = rforest_model.estimators_[tree_index]\n",
    "print(f\"One of the forest's trees is {one_rf_tree}\")\n",
    "\n",
    "# From there, it's possible to create a graphical version...\n",
    "filename = f'rf_tree_{tree_index:03d}.gv'             # f strings! Could save all trees, but we won't do so here. \n",
    "tree.export_graphviz(one_rf_tree, out_file=filename,  # the filename constructed above...!\n",
    "                            feature_names=FEATURES, # actual feature names, not species\n",
    "                            filled=True,              # fun!\n",
    "                            rotate=False,             # False for Up/Down; True for L/R\n",
    "                            class_names=SPECIES,      # good to have   \n",
    "                            leaves_parallel=True )    # lots of options!\n",
    "                            \n",
    "print(f\"file {filename} written. Try copying the result to http://viz-js.com/ \\n\")\n",
    "\n",
    "with open(filename, \"r\") as f:\n",
    "    file_text = f.read()\n",
    "    print(file_text)\n",
    "\n",
    "#\n",
    "# Treeing!\n",
    "#\n",
    "fig = plt.figure(figsize=(5,4))\n",
    "tree_plot = tree.plot_tree(one_rf_tree, \n",
    "                   feature_names=FEATURES,   # Glad to have these!\n",
    "                   class_names=SPECIES,      # and these!!\n",
    "                   filled=True)"
   ]
  },
  {
   "cell_type": "code",
   "execution_count": 156,
   "metadata": {},
   "outputs": [
    {
     "name": "stdout",
     "output_type": "stream",
     "text": [
      "depth:  1 ntrees:  50 cv accuracy:  0.8049\n",
      "depth:  1 ntrees: 150 cv accuracy:  0.7947\n",
      "depth:  1 ntrees: 250 cv accuracy:  0.8117\n",
      "depth:  2 ntrees:  50 cv accuracy:  0.8118\n",
      "depth:  2 ntrees: 150 cv accuracy:  0.8152\n",
      "depth:  2 ntrees: 250 cv accuracy:  0.8117\n",
      "depth:  3 ntrees:  50 cv accuracy:  0.8187\n",
      "depth:  3 ntrees: 150 cv accuracy:  0.8117\n",
      "depth:  3 ntrees: 250 cv accuracy:  0.8186\n",
      "depth:  4 ntrees:  50 cv accuracy:  0.8357\n",
      "depth:  4 ntrees: 150 cv accuracy:  0.8597\n",
      "depth:  4 ntrees: 250 cv accuracy:  0.8495\n",
      "depth:  5 ntrees:  50 cv accuracy:  0.8562\n",
      "depth:  5 ntrees: 150 cv accuracy:  0.8459\n",
      "depth:  5 ntrees: 250 cv accuracy:  0.8357\n",
      "\n",
      "best_depth: 4 and best_num_trees: 150 are our choices. Acc: 0.8597311513734658\n"
     ]
    }
   ],
   "source": [
    "#\n",
    "# So, to compare different parameters, let's use cv\n",
    "#\n",
    "\n",
    "from sklearn.model_selection import cross_val_score\n",
    "\n",
    "#\n",
    "# cross-validation splits the training set into two pieces:\n",
    "#   + model-building and model-validation. We'll use \"build\" and \"validate\"\n",
    "#\n",
    "\n",
    "#\n",
    "# lab task:  wrap this loop in another one! (or create an inner one...)\n",
    "#\n",
    "\n",
    "best_d = 1         # range(1,6)\n",
    "best_ntrees = 50   # [50,150,250]\n",
    "best_accuracy = 0\n",
    "\n",
    "for d in range(1,6):\n",
    "    for ntrees in [50,150,250]:\n",
    "        rforest_model = ensemble.RandomForestClassifier(max_depth=d, \n",
    "                                                        n_estimators=ntrees,\n",
    "                                                        max_samples=0.5)\n",
    "        cv_scores = cross_val_score( rforest_model, X_train, y_train, cv=5 ) # 5 means 80/20 split\n",
    "        average_cv_accuracy = cv_scores.mean()  # more likely, only their average\n",
    "        print(f\"depth: {d:2d} ntrees: {ntrees:3d} cv accuracy: {average_cv_accuracy:7.4f}\")\n",
    "        if average_cv_accuracy > best_accuracy:\n",
    "            best_accuracy = average_cv_accuracy\n",
    "            best_d = d\n",
    "            best_ntrees = ntrees\n",
    "\n",
    "# \n",
    "# your task: assign best values by keeping a \"running max\"\n",
    "#\n",
    "best_depth = best_d   \n",
    "best_num_trees = best_ntrees\n",
    "\n",
    "# This will be incorrect when initially run (you'll fix it):\n",
    "print()\n",
    "print(f\"best_depth: {best_depth} and best_num_trees: {best_num_trees} are our choices. Acc: {best_accuracy}\")  \n",
    "\n",
    "#\n",
    "# remember that the RF lab task is to complete this nested cross-validation loop!\n",
    "#"
   ]
  },
  {
   "cell_type": "code",
   "execution_count": 157,
   "metadata": {},
   "outputs": [
    {
     "name": "stdout",
     "output_type": "stream",
     "text": [
      "Built an RF classifier with depth=4 and ntrees=150\n"
     ]
    }
   ],
   "source": [
    "#\n",
    "# Now, we re-create and re-run the  \"Model-building and -training Cell\"\n",
    "#\n",
    "from sklearn import tree      # for decision trees\n",
    "from sklearn import ensemble  # for random forests\n",
    "best_depth =  best_depth\n",
    "best_num_trees = best_num_trees\n",
    "# we should have best_depth and best_num_trees\n",
    "rforest_model_tuned = ensemble.RandomForestClassifier(max_depth=best_depth, \n",
    "                                                      n_estimators=best_num_trees,\n",
    "                                                      max_samples=0.5)\n",
    "\n",
    "# we train the model (it's one line!)\n",
    "rforest_model_tuned.fit(X_train, y_train)                              # yay!  trained!\n",
    "print(f\"Built an RF classifier with depth={best_depth} and ntrees={best_num_trees}\") "
   ]
  },
  {
   "cell_type": "code",
   "execution_count": 158,
   "metadata": {},
   "outputs": [
    {
     "name": "stdout",
     "output_type": "stream",
     "text": [
      "Predicted labels: [0. 0. 0. 0. 1. 1. 0. 0. 1. 0. 1. 1. 1. 1. 1. 0. 0. 0. 1. 1. 0. 0. 0. 1.\n",
      " 0. 1. 0. 0. 0. 1. 0. 0. 0. 1. 0. 0. 0. 1. 0. 0. 0. 0. 1. 1. 0. 0. 0. 1.\n",
      " 1. 0. 1. 1. 1. 0. 1. 0. 0. 1. 0. 1. 1. 0. 0. 1. 0. 0. 0. 0. 0. 1. 1. 0.\n",
      " 0. 1.]\n",
      "Actual  labels  : [0. 0. 0. 0. 1. 0. 0. 0. 1. 0. 1. 1. 1. 1. 1. 0. 0. 0. 1. 0. 0. 0. 1. 1.\n",
      " 1. 1. 0. 0. 0. 0. 0. 0. 1. 0. 0. 0. 0. 1. 0. 0. 0. 0. 1. 1. 0. 0. 0. 0.\n",
      " 0. 0. 1. 0. 1. 0. 1. 0. 0. 1. 1. 1. 1. 0. 0. 1. 1. 0. 0. 0. 0. 1. 1. 0.\n",
      " 0. 1.]\n",
      "\n",
      "Results on test set:  62 correct out of 74 total.\n",
      "row   0 :        above above          \n",
      "row   1 :        above above          \n",
      "row   2 :        above above          \n",
      "row   3 :        above above          \n",
      "row   4 :        below below          \n",
      "row   5 :        below above          incorrect\n",
      "row   6 :        above above          \n",
      "row   7 :        above above          \n",
      "row   8 :        below below          \n",
      "row   9 :        above above          \n",
      "row  10 :        below below          \n",
      "row  11 :        below below          \n",
      "row  12 :        below below          \n",
      "row  13 :        below below          \n",
      "row  14 :        below below          \n",
      "row  15 :        above above          \n",
      "row  16 :        above above          \n",
      "row  17 :        above above          \n",
      "row  18 :        below below          \n",
      "row  19 :        below above          incorrect\n",
      "row  20 :        above above          \n",
      "row  21 :        above above          \n",
      "row  22 :        above below          incorrect\n",
      "row  23 :        below below          \n",
      "row  24 :        above below          incorrect\n",
      "row  25 :        below below          \n",
      "row  26 :        above above          \n",
      "row  27 :        above above          \n",
      "row  28 :        above above          \n",
      "row  29 :        below above          incorrect\n",
      "row  30 :        above above          \n",
      "row  31 :        above above          \n",
      "row  32 :        above below          incorrect\n",
      "row  33 :        below above          incorrect\n",
      "row  34 :        above above          \n",
      "row  35 :        above above          \n",
      "row  36 :        above above          \n",
      "row  37 :        below below          \n",
      "row  38 :        above above          \n",
      "row  39 :        above above          \n",
      "row  40 :        above above          \n",
      "row  41 :        above above          \n",
      "row  42 :        below below          \n",
      "row  43 :        below below          \n",
      "row  44 :        above above          \n",
      "row  45 :        above above          \n",
      "row  46 :        above above          \n",
      "row  47 :        below above          incorrect\n",
      "row  48 :        below above          incorrect\n",
      "row  49 :        above above          \n",
      "row  50 :        below below          \n",
      "row  51 :        below above          incorrect\n",
      "row  52 :        below below          \n",
      "row  53 :        above above          \n",
      "row  54 :        below below          \n",
      "row  55 :        above above          \n",
      "row  56 :        above above          \n",
      "row  57 :        below below          \n",
      "row  58 :        above below          incorrect\n",
      "row  59 :        below below          \n",
      "row  60 :        below below          \n",
      "row  61 :        above above          \n",
      "row  62 :        above above          \n",
      "row  63 :        below below          \n",
      "row  64 :        above below          incorrect\n",
      "row  65 :        above above          \n",
      "row  66 :        above above          \n",
      "row  67 :        above above          \n",
      "row  68 :        above above          \n",
      "row  69 :        below below          \n",
      "row  70 :        below below          \n",
      "row  71 :        above above          \n",
      "row  72 :        above above          \n",
      "row  73 :        below below          \n",
      "\n",
      "Correct: 62 out of 74\n"
     ]
    },
    {
     "data": {
      "text/plain": [
       "62"
      ]
     },
     "execution_count": 158,
     "metadata": {},
     "output_type": "execute_result"
    }
   ],
   "source": [
    "#\n",
    "# +++ This is our \"Model-testing Cell\"\n",
    "#\n",
    "# Now, let's see how well we did on our \"held-out data\" (the testing data)\n",
    "#\n",
    "\n",
    "# We run our test set!\n",
    "predicted_labels = rforest_model_tuned.predict(X_test)\n",
    "actual_labels = y_test\n",
    "\n",
    "# Let's print them so we can compare...\n",
    "print(\"Predicted labels:\", predicted_labels)\n",
    "print(\"Actual  labels  :\", actual_labels)\n",
    "\n",
    "# And, some overall results\n",
    "num_correct = sum(predicted_labels == actual_labels)\n",
    "total = len(actual_labels)\n",
    "print(f\"\\nResults on test set:  {num_correct} correct out of {total} total.\")\n",
    "\n",
    "# and, let's print our table, too...\n",
    "compare_labels(predicted_labels,actual_labels)"
   ]
  },
  {
   "cell_type": "code",
   "execution_count": 159,
   "metadata": {},
   "outputs": [
    {
     "name": "stdout",
     "output_type": "stream",
     "text": [
      "Built an RF classifier with depth=4 and ntrees=150\n"
     ]
    }
   ],
   "source": [
    "#\n",
    "# Ok!  We have tuned our RF to use the \"best\" parameters\n",
    "#\n",
    "# Now, we use ALL available data to train our final predictive model:\n",
    "#\n",
    "from sklearn import tree      # for decision trees\n",
    "from sklearn import ensemble  # for random forests\n",
    "\n",
    "# we should have best_depth and best_num_trees\n",
    "rforest_model_final = ensemble.RandomForestClassifier(max_depth=best_depth, \n",
    "                                                      n_estimators=best_num_trees,\n",
    "                                                      max_samples=0.5)\n",
    "\n",
    "# we train the model (it's one line!)\n",
    "rforest_model_final.fit(X_all, y_all)              # yay!  trained!\n",
    "print(f\"Built an RF classifier with depth={best_depth} and ntrees={best_num_trees}\") "
   ]
  },
  {
   "cell_type": "code",
   "execution_count": 161,
   "metadata": {},
   "outputs": [
    {
     "name": "stdout",
     "output_type": "stream",
     "text": [
      "I predict above from the features [9.0, 16.0]\n",
      "I predict above from the features [7.0, 4.0]\n",
      "I predict below from the features [3.0, 26.0]\n",
      "I predict below from the features [4.0, 1.0]\n"
     ]
    }
   ],
   "source": [
    "#\n",
    "# final predictive model (random forests), with tuned parameters + ALL data incorporated\n",
    "#\n",
    "\n",
    "def predictive_model( Features, Model ):\n",
    "    \"\"\" input: a list of four features \n",
    "                [ sepallen, sepalwid, petallen, petalwid ]\n",
    "        output: the predicted species of iris, from\n",
    "                  setosa (0), versicolor (1), virginica (2)\n",
    "    \"\"\"\n",
    "    our_features = np.asarray([Features])                 # extra brackets needed\n",
    "    predicted_species = Model.predict(our_features)       # The model's prediction!\n",
    "    predicted_species = int(round(predicted_species[0]))  # unpack the extra brackets\n",
    "    return predicted_species\n",
    "   \n",
    "#\n",
    "# Try it!\n",
    "# \n",
    "LoF = [\n",
    "[9.0, 16.0],   # most common\n",
    "[7.0, 4.0], # very below median\n",
    "[3.0, 26.0], #above, slightly\n",
    "[4.0, 1.0], #below\n",
    "]  \n",
    "\n",
    "\n",
    "# run on each one:\n",
    "for Features in LoF:\n",
    "    predicted_species = predictive_model( Features, rforest_model_final )  # pass in the model, too!\n",
    "    name = SPECIES[predicted_species]\n",
    "    print(f\"I predict {name} from the features {Features}\")    # Answers in the assignment... "
   ]
  },
  {
   "cell_type": "code",
   "execution_count": 162,
   "metadata": {},
   "outputs": [],
   "source": [
    "# 2/4 tests correct"
   ]
  },
  {
   "cell_type": "markdown",
   "metadata": {},
   "source": [
    "<br>\n",
    "<hr>\n",
    "<br>\n",
    "\n",
    "### Final, big-picture question:  \n",
    "+ What are the relative \"feature importances\" of the two features\n",
    "  + month\n",
    "  + day\n",
    "+ ... at least, in terms of \"birthday popularity,\" as we've defined it?\n",
    "\n",
    "Reflect, in a sentence or two, on the values of feature importances that you found.\n",
    "+ To use Erica Thompson's framing, \n",
    "+ how much trust (or weight) would you attribute to this model and its feature importances, \"outside of Model Land\"? "
   ]
  },
  {
   "cell_type": "code",
   "execution_count": 164,
   "metadata": {},
   "outputs": [
    {
     "data": {
      "text/plain": [
       "\"Months had about 60.1% importance, days 39.9%. This fluctuated substantially, but overall both features stayed at about half of the decision weighting. \\nSince neither really had much meaning wrt birth number, this isn't very surprising.\\nMonths seem to be slightly more important, which could be reasonable given the total variety of days when holidays occur in any month and the legal/financial aspects we discussed. \\nSome months also have clusters of holidays. \\n\\nTuning the model had basically no success, and so based on that, and based on intuition of what is being modeled I wouldn't put any trust into this model.\\n\""
      ]
     },
     "execution_count": 164,
     "metadata": {},
     "output_type": "execute_result"
    }
   ],
   "source": [
    "#\n",
    "# Your thoughts... / why...\n",
    "#\n",
    "\"\"\"Months had about 60.1% importance, days 39.9%. This fluctuated substantially, but overall both features stayed at about half of the decision weighting. \n",
    "Since neither really had much meaning wrt birth number, this isn't very surprising.\n",
    "Months seem to be slightly more important, which could be reasonable given the total variety of days when holidays occur in any month and the legal/financial aspects we discussed. \n",
    "Some months also have clusters of holidays. \n",
    "\n",
    "Tuning the model had basically no success, and so based on that, and based on intuition of what is being modeled I wouldn't put any trust into this model.\n",
    "\"\"\""
   ]
  },
  {
   "cell_type": "code",
   "execution_count": 1,
   "metadata": {},
   "outputs": [],
   "source": [
    "#\n",
    "# Welcome to the world of model-building workflows!!    \n",
    "#\n",
    "\n",
    "#\n",
    "# In fact, the next task on this hw is to run at least one more ML workflow:   \n",
    "#          (2) Digits, (ec) Your-own-data, ...\n",
    "#"
   ]
  },
  {
   "cell_type": "code",
   "execution_count": null,
   "metadata": {},
   "outputs": [],
   "source": []
  }
 ],
 "metadata": {
  "kernelspec": {
   "display_name": "Python 3",
   "language": "python",
   "name": "python3"
  },
  "language_info": {
   "codemirror_mode": {
    "name": "ipython",
    "version": 3
   },
   "file_extension": ".py",
   "mimetype": "text/x-python",
   "name": "python",
   "nbconvert_exporter": "python",
   "pygments_lexer": "ipython3",
   "version": "3.12.9"
  }
 },
 "nbformat": 4,
 "nbformat_minor": 4
}
