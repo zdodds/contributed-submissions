{
 "cells": [
  {
   "cell_type": "markdown",
   "metadata": {},
   "source": [
    "## hw1pr1: <i>Files!</i>\n",
    "+ walking through folders and files  (500 files - or many more!)\n",
    "+ analyzing, counting, inquiring, and <i>insight-producing</i> as we go!  "
   ]
  },
  {
   "cell_type": "code",
   "execution_count": 13,
   "metadata": {},
   "outputs": [
    {
     "data": {
      "text/plain": [
       "'/Users/annapark/Desktop/HMC CS35/starting_notebooks'"
      ]
     },
     "execution_count": 13,
     "metadata": {},
     "output_type": "execute_result"
    }
   ],
   "source": [
    "# Where are we?\n",
    "%pwd\n"
   ]
  },
  {
   "cell_type": "code",
   "execution_count": 14,
   "metadata": {},
   "outputs": [
    {
     "data": {
      "text/plain": [
       "'/Users/annapark/Desktop/HMC CS35/starting_notebooks'"
      ]
     },
     "execution_count": 14,
     "metadata": {},
     "output_type": "execute_result"
    }
   ],
   "source": [
    "'/Users/annapark/Desktop/HMC CS35/starting_notebooks'"
   ]
  },
  {
   "cell_type": "markdown",
   "metadata": {},
   "source": [
    "By the way, when I run the above cell on my desktop machine (Mac), the response is\n",
    "\n",
    "``'/Users/zacharydodds/Desktop/cs35/week1/starting_notebooks'``\n",
    "\n",
    "on a Windows laptop, the path uses a different separator. Mine is\n",
    "\n",
    "``'c:\\\\Users\\\\dodds\\\\OneDrive\\\\Desktop\\\\cs35\\\\week1\\\\starting_notebooks'``\n",
    "\n",
    "Your results will almost certainly differ.\n",
    "\n",
    "In fact, if they *don't* differ ... I'm _very_ interested! 🤔 🦔"
   ]
  },
  {
   "cell_type": "code",
   "execution_count": 15,
   "metadata": {},
   "outputs": [
    {
     "name": "stdout",
     "output_type": "stream",
     "text": [
      "\u001b[34mfiles_challenge\u001b[m\u001b[m/          hw1pr1.ipynb              intro_first_ss_small.png\n",
      "hw1pr0.ipynb              \u001b[34mintro_first\u001b[m\u001b[m/              \u001b[34mintro_second\u001b[m\u001b[m/\n"
     ]
    }
   ],
   "source": [
    "# what's here?\n",
    "%ls"
   ]
  },
  {
   "cell_type": "code",
   "execution_count": 16,
   "metadata": {},
   "outputs": [
    {
     "name": "stdout",
     "output_type": "stream",
     "text": [
      "/Users/annapark/Desktop/HMC CS35/starting_notebooks\n"
     ]
    }
   ],
   "source": [
    "# to move around:  cd stands for \"change directory\" (a directory is a folder)\n",
    "#    %cd intro_first    would move into the intro_first folder\n",
    "#    %cd .. moves \"up\" to the containing directory\n",
    "#    %cd .  doesn't move at all:  .  represents the current directory    \n",
    "\n",
    "# For now, let's not move anywhere\n",
    "%cd ."
   ]
  },
  {
   "cell_type": "markdown",
   "metadata": {},
   "source": [
    "In 2024, my Mac setup succeeds with a ``UserWarning`` that tells me to install the ``pickleshare`` library.\n",
    "\n",
    "I refuse based on snack-sharing principles!\n",
    "\n",
    "One can only share freely, not under admonishment/warning!\n",
    "\n",
    "(If this happens to you - let me know and we'll fix it...)"
   ]
  },
  {
   "cell_type": "code",
   "execution_count": 18,
   "metadata": {},
   "outputs": [],
   "source": [
    "# we will use a few file-handling \"system\" libraries. \n",
    "# These are built-in to python, so nothing to install - just to import:\n",
    "import os\n",
    "import os.path"
   ]
  },
  {
   "cell_type": "markdown",
   "metadata": {},
   "source": [
    "On first glance, it seems we can't open the file ``nottrue.ipynb`` ...\n",
    "\n",
    "It's in the folder ``intro_first`` -- see if you can open it ..."
   ]
  },
  {
   "cell_type": "code",
   "execution_count": 6,
   "metadata": {},
   "outputs": [
    {
     "name": "stdout",
     "output_type": "stream",
     "text": [
      "+++ Contents of the file nottrue.ipynb: +++\n",
      "\n"
     ]
    }
   ],
   "source": [
    "#\n",
    "# In fact, we can read it - it's just not a .ipynb file!\n",
    "#\n",
    "# Try it here, for your system:\n",
    "\n",
    "print(\"+++ Contents of the file nottrue.ipynb: +++\\n\")\n",
    "\n",
    "# Mac:    !cat  <filepath>  using forward slashes\n",
    "#\n",
    "# !cat ./intro_first/nottrue.ipynb       \n",
    "\n",
    "# Windows:  type <filepath>  using backslashes\n",
    "#\n",
    "# !type .\\\\intro_first\\\\nottrue.ipynb     \n",
    "# \n",
    "\n",
    "  "
   ]
  },
  {
   "cell_type": "markdown",
   "metadata": {},
   "source": [
    "We *could* use the command-line ``cat`` or ``type`` one file at a time ...\n",
    "\n",
    "But, what if we have to walk _500 files_ ?!  <font size=\"-2\">(Alas, this joke stays around for at least this whole week!)</font>\n",
    "\n",
    "  + Then, we need a function - and script - to access its contents. \n",
    "  + We started this last week, let's revisit it again here:"
   ]
  },
  {
   "cell_type": "code",
   "execution_count": 5,
   "metadata": {},
   "outputs": [
    {
     "name": "stdout",
     "output_type": "stream",
     "text": [
      "file_contents:\n",
      "\n",
      " Hi, everyone in cs35!\n",
      "\n",
      "As you're seeing, t\n"
     ]
    }
   ],
   "source": [
    "#\n",
    "# function to return the contents of a file (as one-big-string)\n",
    "#\n",
    "\n",
    "def GET_STRING_FROM_FILE(filename_as_string):\n",
    "    \"\"\" return all of the contents from the file, filename\n",
    "        will error if the file is not present, then return the empty string ''\n",
    "    \"\"\"\n",
    "    try:\n",
    "        # the encoding below is a common default, but not universal...\n",
    "        file_object = open(filename_as_string, \"r\", encoding='utf-8')    # open! (Other encodings: 'latin-1', 'utf-16', 'utf-32') \n",
    "        file_data = file_object.read()                                   # and get all its contents\n",
    "        file_object.close()                                              # close the file (optional)\n",
    "        #print(DATA)                                                     # if we want to see it\n",
    "        return file_data                                                 # definitely want to return it!\n",
    "    except FileNotFoundError:                             # it wasn't there\n",
    "        print(f\"file not found: {filename_as_string}\")    # print error\n",
    "        return ''                                         # return empty string ''\n",
    "    except UnicodeDecodeError:\n",
    "        print(f\"decoding error: {filename_as_string}\")    # encoding/decoding error  \n",
    "        return ''                                         # return empty string ''\n",
    "\n",
    "\n",
    "full_file_path = \"./intro_first/nottrue.ipynb\"\n",
    "file_contents = GET_STRING_FROM_FILE(full_file_path)      # reminder: file_contents = file_data from above\n",
    "\n",
    "# Let's print only some of this potentially large string, adapting as needed:\n",
    "print(\"file_contents:\\n\\n\", file_contents[0:42])          # let's then increase the 42..."
   ]
  },
  {
   "cell_type": "markdown",
   "metadata": {},
   "source": [
    "Notice that, in Python, the Mac/forwardslash/style paths work, _even on Windows_"
   ]
  },
  {
   "cell_type": "code",
   "execution_count": 6,
   "metadata": {},
   "outputs": [
    {
     "name": "stdout",
     "output_type": "stream",
     "text": [
      "file_contents:\n",
      "\n",
      " CS for Insight\n"
     ]
    }
   ],
   "source": [
    "####  Let's try one of the other files!  (or a non-existent file!)\n",
    "\n",
    "full_file_path = \"./intro_first/cs/file35.txt\"    # how about the others?!\n",
    "file_contents = GET_STRING_FROM_FILE(full_file_path)     \n",
    "print(\"file_contents:\\n\\n\", file_contents[0:42])"
   ]
  },
  {
   "cell_type": "markdown",
   "metadata": {},
   "source": [
    "#### But, we have 500 files...\n",
    "\n",
    "Let's write <font color=\"DodgerBlue\">_steppingstone_ functions</font> to make sense of our 500 files...\n",
    "\n",
    "Let's start by reminding ourselves we can write a function that returns.\n",
    "\n",
    "We'll call this Version 0:"
   ]
  },
  {
   "cell_type": "code",
   "execution_count": 10,
   "metadata": {},
   "outputs": [
    {
     "name": "stdout",
     "output_type": "stream",
     "text": [
      "[[ Start! ]]\n",
      "\n",
      "result = 42\n",
      "\n",
      "[[ Fin. ]]\n"
     ]
    }
   ],
   "source": [
    "#\n",
    "# Steppingstone, Version 0: does Python work?\n",
    "#\n",
    "\n",
    "import os\n",
    "import os.path\n",
    "\n",
    "def file_walker(path):\n",
    "    \"\"\" starting from the input, named path\n",
    "        \n",
    "        this function \"walks\" the whole path, including subfolders\n",
    "        and then... explores any questions we might want :)\n",
    "\n",
    "        call, for example, with    file_walker(\"./intro_first\") \n",
    "    \"\"\"\n",
    "    return 42  # just to check that it's working (v0)    \n",
    "\n",
    "#\n",
    "# when discovering, keep your data close (and your functions closer!)\n",
    "#\n",
    "if True:\n",
    "    \"\"\" overall script that runs examples \"\"\"\n",
    "    print(f\"[[ Start! ]]\\n\")     # sign on\n",
    "\n",
    "    path = \"./intro_first\"       # Remember: . means the current directory\n",
    "    result = file_walker(path)   # Run!\n",
    "\n",
    "    print(f\"result = {result}\")  # Yay for f-strings!\n",
    "\n",
    "    print(\"\\n[[ Fin. ]]\")        # sign off\n"
   ]
  },
  {
   "cell_type": "markdown",
   "metadata": {},
   "source": [
    "<hr>"
   ]
  },
  {
   "cell_type": "markdown",
   "metadata": {},
   "source": [
    "#### Introducing ``os.walk``\n",
    "\n",
    "The function ``os.walk(path)`` will walk _any number_ of files...\n",
    "\n",
    "Before we write a function, let's try  ``os.walk`` immediately:"
   ]
  },
  {
   "cell_type": "code",
   "execution_count": 11,
   "metadata": {},
   "outputs": [
    {
     "data": {
      "text/plain": [
       "<generator object walk at 0x128380040>"
      ]
     },
     "execution_count": 11,
     "metadata": {},
     "output_type": "execute_result"
    }
   ],
   "source": [
    "# os.walk returns the structure of a folder (directory)\n",
    "\n",
    "# Here, we \"walk\" the intro_examples subfolder:\n",
    "all_files = os.walk(\"./intro_first\")\n",
    "\n",
    "all_files     # oops! it's a \"generator object\""
   ]
  },
  {
   "cell_type": "code",
   "execution_count": 8,
   "metadata": {},
   "outputs": [
    {
     "name": "stdout",
     "output_type": "stream",
     "text": [
      "len(L) = 5\n",
      "L = [('./intro_first', ['cs', 'sci'], ['.DS_Store', 'nottrue.ipynb']), ('./intro_first/cs', [], ['.DS_Store', 'file35.txt', 'file181y.txt']), ('./intro_first/sci', ['50', '10'], ['.DS_Store']), ('./intro_first/sci/50', [], ['IDE.txt']), ('./intro_first/sci/10', [], ['IDE.txt'])]\n"
     ]
    }
   ],
   "source": [
    "import os\n",
    "L = list( os.walk( \"./intro_first\" ) )  \n",
    "print(f\"{len(L) = }\")\n",
    "print(f\"{L = }\")"
   ]
  },
  {
   "cell_type": "markdown",
   "metadata": {},
   "source": [
    "Here's a line-wrapped version of the list ``L``\n",
    "  + Below it, is a picture of the folder-and-file structure!  \n",
    "  + Our goal: mind-mapping the two representations!!"
   ]
  },
  {
   "cell_type": "markdown",
   "metadata": {},
   "source": [
    "``L = [('./intro_first', ['cs', 'sci'], ['.DS_Store', 'nottrue.ipynb']), \n",
    "('./intro_first/cs', [], ['.DS_Store', 'file35.txt', 'file181y.txt']), \n",
    "('./intro_first/sci', ['50', '10'], ['.DS_Store']), ('./intro_first/sci/50', [], ['IDE.txt']), ('./intro_first/sci/10', [], ['IDE.txt'])]``"
   ]
  },
  {
   "cell_type": "code",
   "execution_count": 9,
   "metadata": {},
   "outputs": [
    {
     "data": {
      "image/png": "[encoded data removed]",
      "text/plain": [
       "<IPython.core.display.Image object>"
      ]
     },
     "execution_count": 9,
     "metadata": {},
     "output_type": "execute_result"
    }
   ],
   "source": [
    "from IPython import display\n",
    "#\n",
    "# this is in the hw1pr1 folder\n",
    "#\n",
    "display.Image(\"./intro_first_ss_small.png\")   # local image"
   ]
  },
  {
   "cell_type": "markdown",
   "metadata": {},
   "source": [
    "See if you can match the _syntactic_ structure (the text!) with the _visual_ structure (the image!) \n",
    "\n",
    "<hr>\n",
    "\n",
    "Onward!"
   ]
  },
  {
   "cell_type": "code",
   "execution_count": 11,
   "metadata": {},
   "outputs": [
    {
     "name": "stdout",
     "output_type": "stream",
     "text": [
      "len(result) = 5\n",
      "result = [('./intro_first', ['cs', 'sci'], ['.DS_Store', 'nottrue.ipynb']), ('./intro_first/cs', [], ['.DS_Store', 'file35.txt', 'file181y.txt']), ('./intro_first/sci', ['50', '10'], ['.DS_Store']), ('./intro_first/sci/50', [], ['IDE.txt']), ('./intro_first/sci/10', [], ['IDE.txt'])]\n"
     ]
    }
   ],
   "source": [
    "path = \"./intro_first\"          # any path to any folder\n",
    "result = list(os.walk(path))    # this will \"walk\" all of the subfolders and files\n",
    "\n",
    "print(f\"{len(result) = }\")      # try c:/  (it took my machine 12.7 seconds!)\n",
    "print(f\"{result = }\")"
   ]
  },
  {
   "cell_type": "markdown",
   "metadata": {},
   "source": [
    "#### Now, let's incorporate ``os.walk`` into a series of functions..."
   ]
  },
  {
   "cell_type": "code",
   "execution_count": 12,
   "metadata": {},
   "outputs": [
    {
     "name": "stdout",
     "output_type": "stream",
     "text": [
      "[[ Start! ]]\n",
      "\n",
      "result = 5\n",
      "\n",
      "[[ Fin. ]]\n"
     ]
    }
   ],
   "source": [
    "#\n",
    "# Steppingstone, Version 1: call os.walk, return length, optionally print\n",
    "#\n",
    "\n",
    "import os\n",
    "import os.path\n",
    "\n",
    "def file_walker(path):\n",
    "    \"\"\" starting from the input, named path\n",
    "        \n",
    "        this function \"walks\" the whole path, including subfolders\n",
    "        and then... explores any questions we might want :)\n",
    "\n",
    "        call, for example, with    file_walker(\"./intro_first\") \n",
    "    \"\"\"\n",
    "    result = list(os.walk(path))     # perhaps try w/o converting to a list...\n",
    "    # print(f\"{len(result) = }\")\n",
    "    # print(f\"{result = }\")\n",
    "    num_folders = len(result)        # the len is the number of folders...\n",
    "    return num_folders\n",
    "\n",
    "#\n",
    "# when discovering, keep your data close (and your functions closer!)\n",
    "#\n",
    "if True:\n",
    "    \"\"\" overall script that runs examples \"\"\"\n",
    "    print(f\"[[ Start! ]]\\n\")     # sign on\n",
    "\n",
    "    path = \"./intro_first\"       # Remember: . means the current directory\n",
    "    result = file_walker(path)   # Run!\n",
    "\n",
    "    print(f\"result = {result}\")  # Yay for f-strings!\n",
    "\n",
    "    print(\"\\n[[ Fin. ]]\")        # sign off\n"
   ]
  },
  {
   "cell_type": "markdown",
   "metadata": {},
   "source": [
    "Ok!  But we didn't actually \"walk\" the folders -- or files! \n",
    "\n",
    "That is, we only counted, and didn't <u>consider</u>, each one...\n",
    "\n",
    "Let's print all of the folder names!\n"
   ]
  },
  {
   "cell_type": "code",
   "execution_count": 25,
   "metadata": {},
   "outputs": [
    {
     "name": "stdout",
     "output_type": "stream",
     "text": [
      "[[ Start! ]]\n",
      "\n",
      "currentpath = './intro_first'\n",
      "currentpath = './intro_first/cs'\n",
      "currentpath = './intro_first/sci'\n",
      "currentpath = './intro_first/sci/50'\n",
      "currentpath = './intro_first/sci/10'\n",
      "result = 5\n",
      "\n",
      "[[ Fin. ]]\n"
     ]
    }
   ],
   "source": [
    "#\n",
    "# Steppingstone, Version 2: print all of the folder names!\n",
    "#\n",
    "\n",
    "import os\n",
    "import os.path\n",
    "\n",
    "def file_walker(path):\n",
    "    \"\"\" starting from the input, named path\n",
    "        \n",
    "        this function \"walks\" the whole path, including subfolders\n",
    "        and then... explores any questions we might want :)\n",
    "\n",
    "        call, for example, with    file_walker(\"./intro_first\") \n",
    "    \"\"\"\n",
    "    result = list(os.walk(path))     # perhaps try w/o converting to a list...\n",
    "\n",
    "    for folder_tuple in result:\n",
    "        currentpath, subfolders, files = folder_tuple  # always three items, always these...\n",
    "        print(f\"{currentpath = }\")   # try non-f printing: it's worse!\n",
    "\n",
    "    num_folders = len(result)        # the len is the number of currentpaths...\n",
    "    return num_folders\n",
    "\n",
    "#\n",
    "# when discovering, keep your data close (and your functions closer!)\n",
    "#\n",
    "if True:\n",
    "    \"\"\" overall script that runs examples \"\"\"\n",
    "    print(f\"[[ Start! ]]\\n\")     # sign on\n",
    "\n",
    "    path = \"./intro_first\"       # Remember: . means the current directory\n",
    "    result = file_walker(path)   # Run!\n",
    "\n",
    "    print(f\"result = {result}\")  # Yay for f-strings!\n",
    "\n",
    "    print(\"\\n[[ Fin. ]]\")        # sign off\n"
   ]
  },
  {
   "cell_type": "markdown",
   "metadata": {},
   "source": [
    "If you're on Windows, you likely see some \"hidden MACOSX\" directories, ``__MACOSX``\n",
    "\n",
    "<font color=\"DodgerBlue\"><b>Task!</b></font> \n",
    "\n",
    "Change the above code so that it _skips_ any path that contains the string ``__MACOSX``\n",
    "\n",
    "We'll do this together..."
   ]
  },
  {
   "cell_type": "markdown",
   "metadata": {},
   "source": [
    "<hr>"
   ]
  },
  {
   "cell_type": "markdown",
   "metadata": {},
   "source": [
    "But, we want to see the files!\n",
    "\n",
    "Let's print all their full filenames (the full paths)!"
   ]
  },
  {
   "cell_type": "code",
   "execution_count": 26,
   "metadata": {},
   "outputs": [
    {
     "name": "stdout",
     "output_type": "stream",
     "text": [
      "[[ Start! ]]\n",
      "\n",
      "currentpath = './intro_first'\n",
      "   fullpath = './intro_first/.DS_Store'\n",
      "   fullpath = './intro_first/nottrue.ipynb'\n",
      "currentpath = './intro_first/cs'\n",
      "   fullpath = './intro_first/cs/.DS_Store'\n",
      "   fullpath = './intro_first/cs/file35.txt'\n",
      "   fullpath = './intro_first/cs/file181y.txt'\n",
      "currentpath = './intro_first/sci'\n",
      "   fullpath = './intro_first/sci/.DS_Store'\n",
      "currentpath = './intro_first/sci/50'\n",
      "   fullpath = './intro_first/sci/50/IDE.txt'\n",
      "currentpath = './intro_first/sci/10'\n",
      "   fullpath = './intro_first/sci/10/IDE.txt'\n",
      "result = 5\n",
      "\n",
      "[[ Fin. ]]\n"
     ]
    }
   ],
   "source": [
    "#\n",
    "# Steppingstone, Version 3: walk all of the files, printing each one's fullpath\n",
    "#\n",
    "\n",
    "import os\n",
    "import os.path\n",
    "\n",
    "def file_walker(path):\n",
    "    \"\"\" starting from the input, named path\n",
    "        \n",
    "        this function \"walks\" the whole path, including subfolders\n",
    "        and then... explores any questions we might want :)\n",
    "\n",
    "        call, for example, with    file_walker(\"./intro_first\") \n",
    "    \"\"\"\n",
    "    result = list(os.walk(path))     # perhaps try w/o converting to a list...\n",
    "\n",
    "    for folder_tuple in result:\n",
    "        currentpath, subfolders, files = folder_tuple  # always three items, always these...\n",
    "\n",
    "        if '__MACOSX' in currentpath: continue         # skip the rest of _this_ loop iteration: back to top\n",
    "\n",
    "        print(f\"{currentpath = }\") \n",
    "        \n",
    "        for file in files:       # remember, files is a list of filenames!\n",
    "            fullpath = currentpath + \"/\" + file           # construct the full path, or, better: os.path.join(currentpath,file)  \n",
    "            print(f\"   {fullpath = }\")\n",
    "            #contents = GET_STRING_FROM_FILE(fullpath)     # use the fullpath!\n",
    "            #print(f\"{contents[0:42] = }\")\n",
    "\n",
    "    num_folders = len(result)        # the len is the number of currentpaths...\n",
    "    return num_folders\n",
    "\n",
    "#\n",
    "# when discovering, keep your data close (and your functions closer!)\n",
    "#\n",
    "if True:\n",
    "    \"\"\" overall script that runs examples \"\"\"\n",
    "    print(f\"[[ Start! ]]\\n\")     # sign on\n",
    "\n",
    "    path = \"./intro_first\"       # Remember: . means the current directory\n",
    "    result = file_walker(path)   # Run!\n",
    "\n",
    "    print(f\"result = {result}\")  # Yay for f-strings!\n",
    "\n",
    "    print(\"\\n[[ Fin. ]]\")        # sign off\n"
   ]
  },
  {
   "cell_type": "markdown",
   "metadata": {},
   "source": [
    "**Aside**: &nbsp;&nbsp; It's possible to assemble paths using the operating system's \"correct\" character:"
   ]
  },
  {
   "cell_type": "code",
   "execution_count": 17,
   "metadata": {},
   "outputs": [
    {
     "data": {
      "text/plain": [
       "'/root/Users/secret_stuff/file_name'"
      ]
     },
     "execution_count": 17,
     "metadata": {},
     "output_type": "execute_result"
    }
   ],
   "source": [
    "os.path.join(\"/root/Users/secret_stuff\" , \"file_name\")"
   ]
  },
  {
   "cell_type": "markdown",
   "metadata": {},
   "source": [
    "Notice that it _joined_ the path and the file.\n",
    "\n",
    "<br>\n",
    "\n",
    "Since Python is happy with ``/`` we'll use that for now.\n",
    "\n",
    "<hr>"
   ]
  },
  {
   "cell_type": "markdown",
   "metadata": {},
   "source": [
    "#### But, we want to get all of the files' _contents_  !\n",
    "\n",
    "<u>Notice</u> there are lots of files named ``\".DS_Store\"`` ...\n",
    "\n",
    "They are binary data used by MacOS - they will cause trouble!\n",
    "\n",
    "Let's see the trouble, and then fix it:"
   ]
  },
  {
   "cell_type": "code",
   "execution_count": 30,
   "metadata": {},
   "outputs": [
    {
     "name": "stdout",
     "output_type": "stream",
     "text": [
      "[[ Start! ]]\n",
      "\n",
      "currentpath = './intro_first'\n",
      "   fullpath = './intro_first/nottrue.ipynb'\n",
      "   contents[0:42] = \"Hi, everyone in cs35!\\n\\nAs you're seeing, t\"\n",
      "currentpath = './intro_first/cs'\n",
      "   fullpath = './intro_first/cs/file35.txt'\n",
      "   contents[0:42] = 'CS for Insight'\n",
      "   fullpath = './intro_first/cs/file181y.txt'\n",
      "   contents[0:42] = 'CS for Inquiry'\n",
      "currentpath = './intro_first/sci'\n",
      "currentpath = './intro_first/sci/50'\n",
      "   fullpath = './intro_first/sci/50/IDE.txt'\n",
      "   contents[0:42] = 'Jupyter notebooks'\n",
      "currentpath = './intro_first/sci/10'\n",
      "   fullpath = './intro_first/sci/10/IDE.txt'\n",
      "   contents[0:42] = 'Colab notebooks'\n",
      "result = 5\n",
      "\n",
      "[[ Fin. ]]\n"
     ]
    }
   ],
   "source": [
    "#\n",
    "# Steppingstone, Version 4: walk all of the files, printing (bits of) each one's contents!\n",
    "#\n",
    "\n",
    "import os\n",
    "import os.path\n",
    "\n",
    "def file_walker(path):\n",
    "    \"\"\" starting from the input, named path\n",
    "        \n",
    "        this function \"walks\" the whole path, including subfolders\n",
    "        and then... explores any questions we might want :)\n",
    "\n",
    "        call, for example, with    file_walker(\"./intro_first\") \n",
    "    \"\"\"\n",
    "    result = list(os.walk(path))     # perhaps try w/o converting to a list...\n",
    "\n",
    "    for folder_tuple in result:\n",
    "        currentpath, subfolders, files = folder_tuple  # always three items, always these...\n",
    "        if '__MACOSX' in currentpath:  continue\n",
    "        print(f\"{currentpath = }\") \n",
    "\n",
    "        for file in files:       # remember, files is a list of filenames!\n",
    "            if file.startswith(\".\"):\n",
    "                continue# Skip dot files like .DS_Store\n",
    "            fullpath = currentpath + \"/\" + file           # construct the full path, or, better: os.path.join(currentpath,file)  \n",
    "            print(f\"   {fullpath = }\")\n",
    "            contents = GET_STRING_FROM_FILE(fullpath)     # use the fullpath!\n",
    "            print(f\"   {contents[0:42] = }\")\n",
    "\n",
    "    num_folders = len(result)        # the len is the number of currentpaths...\n",
    "    return num_folders\n",
    "\n",
    "#\n",
    "# when discovering, keep your data close (and your functions closer!)\n",
    "#\n",
    "if True:\n",
    "    \"\"\" overall script that runs examples \"\"\"\n",
    "    print(f\"[[ Start! ]]\\n\")     # sign on\n",
    "\n",
    "    path = \"./intro_first\"       # Remember: . means the current directory\n",
    "    result = file_walker(path)   # Run!\n",
    "\n",
    "    print(f\"result = {result}\")  # Yay for f-strings!\n",
    "\n",
    "    print(\"\\n[[ Fin. ]]\")        # sign off\n"
   ]
  },
  {
   "cell_type": "markdown",
   "metadata": {},
   "source": [
    "#### The encoding was wrong!  \n",
    "\n",
    "(Those ``.DS_store`` files are binary, not human-readable.)\n",
    "\n",
    "We could change to, say, latin-1 and see the bytes. But, let's not...\n",
    "\n",
    "We really just want to _algorithmically_ skip over those files. Let's try it:\n",
    "\n",
    "<font color=\"DodgerBlue\"><b>Task to try</b></font>\n",
    "\n",
    "Add an if statement in the above \"steppingstone function\" in order to simply skip over any file that begins with a dot (a period character: ``\".\"``)\n",
    "\n",
    "Then, run it again. (It's ok to leave those dot files' pathnames - or not...)"
   ]
  },
  {
   "cell_type": "markdown",
   "metadata": {},
   "source": [
    "<hr>"
   ]
  },
  {
   "cell_type": "markdown",
   "metadata": {},
   "source": [
    "####  Two examples leading into our 10,000-file challenges! \n",
    "\n",
    "<u>Example 1</u> &nbsp; Let's count how many ``.txt`` files we have... "
   ]
  },
  {
   "cell_type": "code",
   "execution_count": 31,
   "metadata": {},
   "outputs": [
    {
     "name": "stdout",
     "output_type": "stream",
     "text": [
      "[[ Start! ]]\n",
      "\n",
      "currentpath = './intro_first'\n",
      "   fullpath = './intro_first/.DS_Store'\n",
      "   fullpath = './intro_first/nottrue.ipynb'\n",
      "currentpath = './intro_first/cs'\n",
      "   fullpath = './intro_first/cs/.DS_Store'\n",
      "   fullpath = './intro_first/cs/file35.txt'\n",
      "Found a .txt file! Adding one...\n",
      "   fullpath = './intro_first/cs/file181y.txt'\n",
      "Found a .txt file! Adding one...\n",
      "currentpath = './intro_first/sci'\n",
      "   fullpath = './intro_first/sci/.DS_Store'\n",
      "currentpath = './intro_first/sci/50'\n",
      "   fullpath = './intro_first/sci/50/IDE.txt'\n",
      "Found a .txt file! Adding one...\n",
      "currentpath = './intro_first/sci/10'\n",
      "   fullpath = './intro_first/sci/10/IDE.txt'\n",
      "Found a .txt file! Adding one...\n",
      "num txt files = 4\n",
      "\n",
      "[[ Fin. ]]\n"
     ]
    }
   ],
   "source": [
    "#\n",
    "# Rolodex lead-in, example1: counting the number of .txt files...\n",
    "#\n",
    "\n",
    "import os\n",
    "import os.path\n",
    "\n",
    "def file_walker(path):\n",
    "    \"\"\" starting from the input, named path\n",
    "        \n",
    "        this function \"walks\" the whole path, including subfolders\n",
    "        and then... explores any questions we might want :)\n",
    "\n",
    "        call, for example, with    file_walker(\"./intro_first\") \n",
    "    \"\"\"\n",
    "    result = list(os.walk(path))     # perhaps try w/o converting to a list...\n",
    "    \n",
    "    count_txt = 0    # keep count of our .txt files\n",
    "\n",
    "    for folder_tuple in result:\n",
    "        currentpath, subfolders, files = folder_tuple  # always three items, always these...\n",
    "        if '__MACOSX' in currentpath:  continue\n",
    "        print(f\"{currentpath = }\") \n",
    "\n",
    "        for file in files:       # remember, files is a list of filenames!\n",
    "            fullpath = currentpath + \"/\" + file           # construct the full path, or, better: os.path.join(currentpath,file)  \n",
    "            print(f\"   {fullpath = }\")\n",
    "            if file[0] == \".\": continue      # skip files that start with dot\n",
    "            if file[-4:] == \".txt\":\n",
    "                print(\"Found a .txt file! Adding one...\")\n",
    "                count_txt += 1\n",
    "            #contents = GET_STRING_FROM_FILE(fullpath)     # use the fullpath!\n",
    "            #print(f\"   {contents[0:42] = }\")\n",
    "\n",
    "    return count_txt   # phew, we're finally returning something else!\n",
    "\n",
    "#\n",
    "# when discovering, keep your data close (and your functions closer!)\n",
    "#\n",
    "if True:\n",
    "    \"\"\" overall script that runs examples \"\"\"\n",
    "    print(f\"[[ Start! ]]\\n\")     # sign on\n",
    "\n",
    "    path = \"./intro_first\"       # Remember: . means the current directory\n",
    "    result = file_walker(path)   # Run!\n",
    "\n",
    "    print(f\"num txt files = {result}\")  # Yay for f-strings!\n",
    "\n",
    "    print(\"\\n[[ Fin. ]]\")        # sign off\n"
   ]
  },
  {
   "cell_type": "markdown",
   "metadata": {},
   "source": [
    "<font color=\"DodgerBlue\"><b>This is an example</b></font> of a short (1-3 sentence) markdown cell, giving interpretation and context for the above result...\n",
    "\n",
    "#### Number of ``.txt`` files\n",
    "  + It seems that this folder, ``intro_first`` has four (4) ``.txt`` files.  This seems reasonable!\n",
    "  + We could go further and see what _percentage_ of files are ``.txt`` ... \n",
    "  + It's also worth noting that we're trusting the file extension ``.txt`` here: some text files could be masquerading as other things... 😊?!"
   ]
  },
  {
   "cell_type": "markdown",
   "metadata": {},
   "source": [
    "The key idea is to ...\n",
    "  + share the results found, contextualized for us sapiens ...\n",
    "  + consider what else could be done, even if we're not doing so ...\n",
    "  + note possible incompletenesses, countervailing forces, concerns in general ...\n",
    "  + use emojis 🦔 !"
   ]
  },
  {
   "cell_type": "markdown",
   "metadata": {},
   "source": [
    "<hr>"
   ]
  },
  {
   "cell_type": "markdown",
   "metadata": {},
   "source": [
    "####  Second example: using file *contents* \n",
    "\n",
    "<u>Example 2</u> &nbsp; Let's count how many of the ``.txt`` files contain the substring ``'CS'`` -- not in the filename, but in the file ***contents***"
   ]
  },
  {
   "cell_type": "code",
   "execution_count": 32,
   "metadata": {},
   "outputs": [
    {
     "name": "stdout",
     "output_type": "stream",
     "text": [
      "[[ Start! ]]\n",
      "\n",
      "currentpath = './intro_first'\n",
      "   fullpath = './intro_first/.DS_Store'\n",
      "   fullpath = './intro_first/nottrue.ipynb'\n",
      "currentpath = './intro_first/cs'\n",
      "   fullpath = './intro_first/cs/.DS_Store'\n",
      "   fullpath = './intro_first/cs/file35.txt'\n",
      "        *** Found a 'CS' ... adding 1    (aka 2-True)\n",
      "   fullpath = './intro_first/cs/file181y.txt'\n",
      "        *** Found a 'CS' ... adding 1    (aka 2-True)\n",
      "currentpath = './intro_first/sci'\n",
      "   fullpath = './intro_first/sci/.DS_Store'\n",
      "currentpath = './intro_first/sci/50'\n",
      "   fullpath = './intro_first/sci/50/IDE.txt'\n",
      "currentpath = './intro_first/sci/10'\n",
      "   fullpath = './intro_first/sci/10/IDE.txt'\n",
      "\n",
      "num txt files       = 4\n",
      "num containing CS   = 2\n",
      "for a CS percentage of 50.00%\n",
      "\n",
      "[[ Fin. ]]\n"
     ]
    }
   ],
   "source": [
    "#\n",
    "# Rolodex lead-in, example2: counting the number of .txt files containing 'CS' ...\n",
    "#\n",
    "\n",
    "import os\n",
    "import os.path\n",
    "\n",
    "def file_walker(path):\n",
    "    \"\"\" starting from the input, named path\n",
    "        \n",
    "        this function \"walks\" the whole path, including subfolders\n",
    "        and then... explores any questions we might want :)\n",
    "\n",
    "        call, for example, with    file_walker(\"./intro_first\") \n",
    "    \"\"\"\n",
    "    result = list(os.walk(path))     # perhaps try w/o converting to a list...\n",
    "    \n",
    "    count_txt = 0    # keep count of our .txt files\n",
    "    count_CS = 0     # keep count of 'CS' substrings found\n",
    "\n",
    "    for folder_tuple in result:\n",
    "        currentpath, subfolders, files = folder_tuple  # always three items, always these...\n",
    "        if '__MACOSX' in currentpath:  continue\n",
    "        print(f\"{currentpath = }\") \n",
    "\n",
    "        for file in files:       # remember, files is a list of filenames!\n",
    "            fullpath = currentpath + \"/\" + file           # construct the full path, or, better: os.path.join(currentpath,file)  \n",
    "            print(f\"   {fullpath = }\")\n",
    "            if file[0] == \".\": continue      # skip files that start with dot\n",
    "\n",
    "            if file[-4:] == \".txt\":\n",
    "                # print(\"Found a .txt file! Adding one...\")\n",
    "                count_txt += 1\n",
    "                contents = GET_STRING_FROM_FILE(fullpath)     # use the fullpath!\n",
    "                if 'CS' in contents:\n",
    "                    print(\"        *** Found a 'CS' ... adding 1    (aka 2-True)\")\n",
    "                    count_CS += 1\n",
    "                # print(f\"   {contents[0:42] = }\")\n",
    "\n",
    "    return count_CS, count_txt   # oooh... we can return two things!\n",
    "\n",
    "#\n",
    "# when discovering, keep your data close (and your functions closer!)\n",
    "#\n",
    "if True:\n",
    "    \"\"\" overall script that runs examples \"\"\"\n",
    "    print(f\"[[ Start! ]]\\n\")     # sign on\n",
    "\n",
    "    path = \"./intro_first\"       # Remember: . means the current directory\n",
    "    result = file_walker(path)   # Run!\n",
    "\n",
    "    count_CS, count_txt = result\n",
    "    print()\n",
    "    print(f\"num txt files       = {count_txt}\")  \n",
    "    print(f\"num containing CS   = {count_CS}\")  \n",
    "    perc = count_CS*100/count_txt\n",
    "    print(f\"for a CS percentage of {perc:5.2f}%\")   # :5.2f means width of 5, 2 dec. places, for a _floating pt value\n",
    "\n",
    "    print(\"\\n[[ Fin. ]]\")        # sign off\n"
   ]
  },
  {
   "cell_type": "markdown",
   "metadata": {},
   "source": [
    "<font color=\"Coral\"><b>Results:</b></font> \n",
    "\n",
    "#### Number of ``CS``-content ``.txt`` files\n",
    "  + It seems that this folder, ``intro_first`` has two ``'CS'``-containing ``.txt`` files, out of four total ``.txt`` files, that is, ``50%`` <br><br>\n",
    "  + <u>Reflection</u>: _This seems computationally balanced._ <br><br>\n",
    "  + <u>Opportunities</u>: We could go further and try this in larger folders - such as this whole machine! Or, we could look for other things (like phone numbers or names in various formats). Or, really, we could ask-and-answer almost any algorithmic question about any subset of files on any machine at all... <br><br>\n",
    "  +   _The fox knows many things, but the hedgehog knows one big thing._ - [Archilochus](https://www.goodreads.com/author/quotes/7614908.Archilochus#:~:text=Archilochus%20Quotes&text=We%20don't%20rise%20to,the%20level%20of%20our%20training.&text=The%20fox%20knows%20many%20things,hedgehog%20knows%20one%20big%20thing.&text=Heart%2C%20my%20heart%2C%20so%20battered,the%20men%20who%20hate%20us.) 🦔 "
   ]
  },
  {
   "cell_type": "markdown",
   "metadata": {},
   "source": [
    "#### Trying other directories/folders\n",
    "\n",
    "The ``path`` can be _any_ folder on your local machine, allowing for _arbitrary_ local exploration and discovery...\n",
    "\n",
    "For example, this next cell will count <font color=\"Coral\"><b>how many folders</b></font> do I have, starting at some ``path``\n",
    "+ to count <font color=\"Coral\"><b>files</b></font>, you'll need to build from the examples above"
   ]
  },
  {
   "cell_type": "code",
   "execution_count": 43,
   "metadata": {},
   "outputs": [
    {
     "name": "stdout",
     "output_type": "stream",
     "text": [
      "len(result) = 5\n"
     ]
    }
   ],
   "source": [
    "path = \"./intro_first\"          # any path to any folder?!  intro_first contains _5_ folders total\n",
    "# path = \"./intro_second\"       # any path to any folder?!  intro_second contains _12_ folders total\n",
    "# path = \"./files_challenge\"    # this is the really large folder: it contains _23_ folders total\n",
    "\n",
    "# path = \"C:/\"                  # could use C:/  on windows or \"/\" on MacOS  \n",
    "# path = \".\"                    # could use \".\" for the current directory\n",
    "\n",
    "result = list(os.walk(path))    # this will \"walk\" all of the subfolders and files\n",
    "\n",
    "print(f\"{len(result) = }\")      # this took my machine 2m 47.4s seconds (for \"/\" with total 555695 folders)\n",
    "                                # and, it asked for permission a couple of times (I said no.)\n",
    "#print(f\"{result = }\")          # let's _not_ print it out..."
   ]
  },
  {
   "cell_type": "code",
   "execution_count": 54,
   "metadata": {},
   "outputs": [
    {
     "name": "stdout",
     "output_type": "stream",
     "text": [
      "Total .txt files: 6361\n",
      "Max directory depth: 11\n",
      "Phone number counts: {7: 670, 10: 5283, 11: 102, 'more': 306}\n",
      "909 area code count: 597\n"
     ]
    }
   ],
   "source": [
    "\n",
    "import os\n",
    "import os.path\n",
    "\n",
    "\n",
    "# Function to count .txt files\n",
    "def count_txt_files(path):\n",
    "    \"\"\"Counts the number of .txt files in the given directory and subdirectories.\"\"\"\n",
    "    result = list(os.walk(path))\n",
    "    return sum(len([file for file in files if file.endswith(\".txt\")]) for _, _, files in result)\n",
    "\n",
    "# Function to find max directory depth\n",
    "def max_directory_depth(path): \n",
    "    return max(root.count(os.sep) for root, _, _ in os.walk(path)) \n",
    "\n",
    "# Function to extract only digits from a string\n",
    "def extract_digits(text):\n",
    "    return \"\".join(c for c in text if c.isdigit())\n",
    "\n",
    "def categorize_phone_numbers(path):\n",
    "    \"\"\"Counts how many phone numbers have 7, 10, 11, or more digits.\"\"\"\n",
    "    \n",
    "    # Dictionary to store the count of different phone number lengths\n",
    "    phone_counts = {7: 0, 10: 0, 11: 0, \"more\": 0}\n",
    "\n",
    "    # Walk through every file in the directory\n",
    "    for root, _, files in os.walk(path):\n",
    "        for file in files:\n",
    "            if file.endswith(\".txt\"):  # Only check .txt files\n",
    "                file_path = os.path.join(root, file)\n",
    "\n",
    "                # Open the file and read the first line (phone number)\n",
    "                with open(file_path, \"r\", encoding=\"utf-8\") as f:\n",
    "                    phone_number = extract_digits(f.readline().strip())  # Keep only digits\n",
    "                    length = len(phone_number)  # Get how many digits the number has\n",
    "\n",
    "                    # Increase the count in the dictionary based on length\n",
    "                    if length in phone_counts:\n",
    "                        phone_counts[length] += 1\n",
    "                    else:\n",
    "                        phone_counts[\"more\"] += 1  # If it's longer than 11 digits, put it in \"more\"\n",
    "\n",
    "    return phone_counts\n",
    "\n",
    "\n",
    "def count_909_area_code(path):\n",
    "    \"\"\"Counts how many phone numbers start with the area code '909' (10-digit numbers only).\"\"\"\n",
    "    count = 0  # Start at 0 and count up\n",
    "    # Go through all folders and files in the directory\n",
    "    for root, _, files in os.walk(path):\n",
    "        for file in files:\n",
    "            if file.endswith(\".txt\"):  # Only check .txt files\n",
    "                file_path = os.path.join(root, file)\n",
    "\n",
    "                # Open the file and read the first line (phone number)\n",
    "                with open(file_path, \"r\", encoding=\"utf-8\") as f:\n",
    "                    phone_number = extract_digits(f.readline().strip())  # Keep only digits\n",
    "\n",
    "                    # Check if the number is 10 digits CS35_Participant_2 and starts with \"909\"\n",
    "                    if len(phone_number) == 10 and phone_number.startswith(\"909\"):\n",
    "                        count += 1  # Increase the count if it matches\n",
    "\n",
    "    return count\n",
    "\n",
    "\n",
    "# TESTING ALL FUNCTIONS \n",
    "if __name__ == \"__main__\":\n",
    "    # Modify this to the absolute path of your dataset\n",
    "    dataset_path = \"./files_challenge\"   # <-- Change this!\n",
    "\n",
    "    print(f\"Total .txt files: {count_txt_files(dataset_path)}\")\n",
    "    print(f\"Max directory depth: {max_directory_depth(dataset_path)}\")\n",
    "    print(f\"Phone number counts: {categorize_phone_numbers(dataset_path)}\")\n",
    "    print(f\"909 area code count: {count_909_area_code(dataset_path)}\")\n",
    "\n",
    "\n"
   ]
  },
  {
   "cell_type": "markdown",
   "metadata": {},
   "source": [
    "<font color=\"Coral\"><b>Results:</b></font>\n",
    "+ Total .txt files: <b>6361</b>\n",
    "+ Max directory depth: <b>11</b>\n",
    "+ Phone number counts: <b>{7: 670, 10: 5283, 11: 102, 'more': 306}</b>\n",
    "+ 909 area code counts: <b>597</b>"
   ]
  },
  {
   "cell_type": "code",
   "execution_count": 53,
   "metadata": {},
   "outputs": [
    {
     "name": "stdout",
     "output_type": "stream",
     "text": [
      "People with string 'Khaby':  (14 + 10)\n",
      "People with first name 'CS35_Participant_9': 15\n",
      "People with last name 'CS35_Participant_9': 15\n",
      "People with first name 'Khaby': 14\n",
      "People with last name 'D'Amelio': 0\n",
      "People with three 'i's: 302\n",
      "Person with most 'i's: Wisnieski, Cindi (5 'i's)\n"
     ]
    }
   ],
   "source": [
    "import os \n",
    "import os.path \n",
    "\n",
    "def extract_name_format(name_line):\n",
    "    \"\"\"Extracts the first and last name from a full name in 'First Last' format.\"\"\"\n",
    "    \n",
    "    name_line = name_line.strip()  # Remove any extra spaces from the beginning or end\n",
    "    parts = name_line.split()  # Split the name into separate words\n",
    "    \n",
    "    # First word is the first name, last word is the last name\n",
    "    first_name = parts[0] if len(parts) > 0 else \"\"  \n",
    "    last_name = parts[-1] if len(parts) > 1 else \"\"\n",
    "\n",
    "    return first_name.strip(), last_name.strip()  # Remove any extra spaces and return\n",
    "\n",
    "def count_names_with_three_is(directory):\n",
    "    \"\"\"Counts how many names have at least three 'i's (not necessarily in a row).\"\"\"\n",
    "    \n",
    "    count = 0  # Start the count at 0\n",
    "\n",
    "    for root, _, files in os.walk(directory):  # Walk through all folders and files\n",
    "        for file in files:\n",
    "            if file.endswith('.txt'):  # Only check .txt files\n",
    "                with open(os.path.join(root, file), 'r', encoding='utf-8') as f:\n",
    "                    _ = f.readline().strip()  # Skip phone number (first line)\n",
    "                    name_line = f.readline().strip().lower()  # Read second line (name) and make lowercase\n",
    "\n",
    "                    if name_line.count('i') >= 3:  # Count occurrences of \"i\"\n",
    "                        count += 1  # Increase count if the name has 3 or more \"i\"s\n",
    "\n",
    "    return count  # Return the final count\n",
    "\n",
    "\n",
    "def find_name_with_most_is(directory):\n",
    "    \"\"\"Finds the name that contains the most 'i's (uppercase or lowercase).\"\"\"\n",
    "    \n",
    "    max_i_count = 0  # Keeps track of the highest \"i\" count found\n",
    "    name_with_most_is = \"No name found\"  # Default if no name is found\n",
    "\n",
    "    for root, _, files in os.walk(directory):  # Walk through all folders and files\n",
    "        for file in files:\n",
    "            if file.endswith('.txt'):  # Only check .txt files\n",
    "                with open(os.path.join(root, file), 'r', encoding='utf-8') as f:\n",
    "                    _ = f.readline().strip()  # Skip phone number (first line)\n",
    "                    name_line = f.readline().strip()  # Read second line (name)\n",
    "                    i_count = name_line.lower().count('i')  # Count occurrences of \"i\" in the name\n",
    "\n",
    "                    if i_count > max_i_count:  # If this name has more \"i\"s than the previous max\n",
    "                        max_i_count = i_count  # Update the max count\n",
    "                        name_with_most_is = name_line  # Update the name with the most \"i\"s\n",
    "\n",
    "    return name_with_most_is, max_i_count  # Return the name and the number of \"i\"s\n",
    "\n",
    "\n",
    "def count_first_name_occurrences(directory, target_first_name):\n",
    "    \"\"\"Counts how many people have the given first name (case-insensitive).\"\"\"\n",
    "    \n",
    "    count = 0  # Start the count at 0\n",
    "\n",
    "    for root, _, files in os.walk(directory):  # Walk through all folders and files\n",
    "        for file in files:\n",
    "            if file.endswith('.txt'):  # Only check .txt files\n",
    "                file_path = os.path.join(root, file)\n",
    "\n",
    "                with open(file_path, \"r\", encoding=\"utf-8\") as f:\n",
    "                    _ = f.readline().strip()  # Skip phone number (first line)\n",
    "                    name_line = f.readline().strip()  # Read second line (name)\n",
    "\n",
    "                    first_name = name_line.split()[0] if name_line else \"\"  # Extract the first name\n",
    "\n",
    "                    if first_name.lower() == target_first_name.lower():  # Case-insensitive match\n",
    "                        count += 1  # Increase count if the name matches\n",
    "\n",
    "    return count  # Return the final count\n",
    "\n",
    "\n",
    "def count_last_name_occurrences(directory, target_last_name):\n",
    "    \"\"\"Counts how many people have the given last name (case-insensitive).\"\"\"\n",
    "    \n",
    "    count = 0  # Start the count at 0\n",
    "\n",
    "    for root, _, files in os.walk(directory):  # Walk through all folders and files\n",
    "        for file in files:\n",
    "            if file.endswith('.txt'):  # Only check .txt files\n",
    "                file_path = os.path.join(root, file)\n",
    "\n",
    "                with open(file_path, \"r\", encoding=\"utf-8\") as f:\n",
    "                    _ = f.readline().strip()  # Skip phone number (first line)\n",
    "                    name_line = f.readline().strip()  # Read second line (name)\n",
    "\n",
    "                    last_name = name_line.split()[-1] if name_line else \"\"  # Extract the last name\n",
    "\n",
    "                    if last_name.lower() == target_last_name.lower():  # Case-insensitive match\n",
    "                        count += 1  # Increase count if the name matches\n",
    "\n",
    "    return count  # Return the final count\n",
    "\n",
    "\n",
    "\n",
    "dataset_path = \"./files_challenge\"\n",
    "\n",
    "# Name-based functions\n",
    "print(f\"People with string 'Khaby':  ({int(count_first_name_occurrences(dataset_path, 'Khaby'))} + {int(count_last_name_occurrences(dataset_path, 'Khaby'))})\")\n",
    "print(f\"People with first name 'CS35_Participant_9': {count_first_name_occurrences(dataset_path, 'CS35_Participant_9')}\")\n",
    "print(f\"People with last name 'CS35_Participant_9': {count_last_name_occurrences(dataset_path, 'CS35_Participant_9')}\")\n",
    "print(f\"People with first name 'Khaby': {count_first_name_occurrences(dataset_path, 'Khaby')}\")\n",
    "print(f\"People with last name 'D'Amelio': {count_last_name_occurrences(dataset_path, 'DAmelio')}\")\n",
    "\n",
    "# Letter count functions\n",
    "print(f\"People with three 'i's: {count_names_with_three_is(dataset_path)}\")\n",
    "name, max_is = find_name_with_most_is(dataset_path)\n",
    "print(f\"Person with most 'i's: {name} ({max_is} 'i's)\")\n",
    "\n",
    "\n"
   ]
  },
  {
   "cell_type": "markdown",
   "metadata": {},
   "source": [
    "<font color=\"Coral\"><b>Results:</b></font>\n",
    "+ People with string 'Khaby': <b>(14+10)</b>\n",
    "+ People with first name 'CS35_Participant_9': <b>15</b>\n",
    "+ People with last name 'CS35_Participant_9': <b>15</b>\n",
    "+ People with first name 'Khaby': <b>14</b>\n",
    "+ People with last name 'D'Amelio': <b>0</b>\n",
    "+ People with three 'i's: <b>302</b>\n",
    "+ Person with most 'i's: <b> Winsnieski, Cindi (5 'i's)</b>"
   ]
  },
  {
   "cell_type": "code",
   "execution_count": 40,
   "metadata": {},
   "outputs": [
    {
     "name": "stdout",
     "output_type": "stream",
     "text": [
      "Most common last name: li (97 occurrences)\n",
      "Number of people with palindromic first names: 21\n",
      "Phone numbers containing repeating digits: 384\n"
     ]
    }
   ],
   "source": [
    "#Three own designs \n",
    "import os \n",
    "import os.path\n",
    "\n",
    "#1. what is the most common last name in the dataset?\n",
    "def most_common_last_name(directory):\n",
    "    last_name_counts = {}\n",
    "\n",
    "    for root, _, files in os.walk(directory):\n",
    "        for file in files:\n",
    "            if file.endswith('.txt'):\n",
    "                with open(os.path.join(root, file), 'r', encoding='utf-8') as f:\n",
    "                    _ = f.readline().strip()  # Skip phone number\n",
    "                    name_line = f.readline().strip()\n",
    "                    _, last_name = extract_name_format(name_line)\n",
    "\n",
    "                    last_name = last_name.lower()  # Normalize case\n",
    "                    last_name_counts[last_name] = last_name_counts.get(last_name, 0) + 1\n",
    "\n",
    "    # Find the most common last name\n",
    "    most_common = max(last_name_counts, key=last_name_counts.get)\n",
    "    return most_common, last_name_counts[most_common]\n",
    "\n",
    "\n",
    "#2. How many phone numbers contain repeating digits (e.g., 111, 222)?\n",
    "def repeating_digits(directory):\n",
    "    count = 0\n",
    "    repeating_patterns = [str(i) * 3 for i in range(10)]  # ['000', '111', '222', ..., '999']\n",
    "\n",
    "    for root, _, files in os.walk(directory):\n",
    "        for file in files:\n",
    "            if file.endswith('.txt'):\n",
    "                with open(os.path.join(root, file), 'r', encoding='utf-8') as f:\n",
    "                    phone_number = extract_digits(f.readline().strip())  # Extract digits\n",
    "\n",
    "                    if any(pattern in phone_number for pattern in repeating_patterns):\n",
    "                        count += 1\n",
    "\n",
    "    return count\n",
    "\n",
    "#3. How many people have palindromic first names?\n",
    "def count_palindromic_first_names(directory):\n",
    "    count = 0\n",
    "\n",
    "    for root, _, files in os.walk(directory):\n",
    "        for file in files:\n",
    "            if file.endswith('.txt'):\n",
    "                with open(os.path.join(root, file), 'r', encoding='utf-8') as f:\n",
    "                    _ = f.readline().strip()  # Skip phone number\n",
    "                    name_line = f.readline().strip()\n",
    "                    first_name, _ = extract_name_format(name_line)\n",
    "\n",
    "                    if first_name.lower() == first_name.lower()[::-1]:  # Check if palindrome\n",
    "                        count += 1\n",
    "\n",
    "    return count\n",
    "\n",
    "dataset_path = \"./files_challenge\"\n",
    "\n",
    "common_last_name, common_last_count = most_common_last_name(dataset_path)\n",
    "palindromic_name_count = count_palindromic_first_names(dataset_path)\n",
    "phones_with_repeating_digits = repeating_digits(dataset_path)\n",
    "\n",
    "# Print results\n",
    "print(f\"Most common last name: {common_last_name} ({common_last_count} occurrences)\")\n",
    "print(f\"Number of people with palindromic first names: {palindromic_name_count}\")\n",
    "print(f\"Phone numbers containing repeating digits: {phones_with_repeating_digits}\")\n",
    "\n"
   ]
  },
  {
   "cell_type": "markdown",
   "metadata": {},
   "source": [
    "<font color=\"Coral\"><b>Results:</b></font>\n",
    "+ Most common last name: <b>li (97 occurrences)</b>\n",
    "+ Number of people with palindromic first name: <b>21</b>\n",
    "+ Phone numbers containing repeating digits: <b>384</b>"
   ]
  },
  {
   "cell_type": "code",
   "execution_count": 41,
   "metadata": {},
   "outputs": [
    {
     "name": "stdout",
     "output_type": "stream",
     "text": [
      "Total files in '/Users/annapark/Downloads': 11295\n",
      "Number of .py files in '/Users/annapark/Downloads': 27\n",
      "Number of .jpg files in '/Users/annapark/Downloads': 28\n",
      "Number of .txt files in '/Users/annapark/Downloads': 6417\n",
      "Number of .pdf files in '/Users/annapark/Downloads': 565\n",
      "Deepest folder depth in '/Users/annapark/Downloads': 17\n"
     ]
    }
   ],
   "source": [
    "import os \n",
    "import os.path \n",
    "\n",
    "custom_directory = \"/Users/annapark/Downloads\" \n",
    "#1. How many total files are in the selected folder? \n",
    "def count_total_files(directory):\n",
    "    \"\"\"Counts the total number of files in the directory and its subdirectories.\"\"\"\n",
    "    count = sum(len(files) for _, _, files in os.walk(directory))\n",
    "    return count\n",
    "\n",
    "print(f\"Total files in '{custom_directory}': {count_total_files(custom_directory)}\")\n",
    "\n",
    "#2. how many files of a particular type exist (.py, .txt, .jpg)\n",
    "def count_files_by_extension(directory, extension):\n",
    "    \"\"\"Counts the number of files with a given extension.\"\"\"\n",
    "    count = sum(1 for _, _, files in os.walk(directory) for file in files if file.endswith(extension))\n",
    "    return count\n",
    "\n",
    "file_type = \".py\"  \n",
    "print(f\"Number of {file_type} files in '{custom_directory}': {count_files_by_extension(custom_directory, file_type)}\")\n",
    "\n",
    "file_type = \".jpg\"  # Change this to count different types (.txt, .jpg, etc.)\n",
    "print(f\"Number of {file_type} files in '{custom_directory}': {count_files_by_extension(custom_directory, file_type)}\")\n",
    "\n",
    "file_type = \".txt\"  # Change this to count different types (.txt, .jpg, etc.)\n",
    "print(f\"Number of {file_type} files in '{custom_directory}': {count_files_by_extension(custom_directory, file_type)}\")\n",
    "\n",
    "\n",
    "file_type = \".pdf\"  # Change this to count different types (.txt, .jpg, etc.)\n",
    "print(f\"Number of {file_type} files in '{custom_directory}': {count_files_by_extension(custom_directory, file_type)}\")\n",
    "\n",
    "#3. Deepest Folder nesting depth\n",
    "\n",
    "def max_folder_depth(directory):\n",
    "    \"\"\"Finds the maximum nesting depth of folders inside the directory.\"\"\"\n",
    "    if not os.path.exists(directory):\n",
    "        return -1  # Error if directory doesn't exist\n",
    "\n",
    "    depths = [root.count(os.sep) for root, _, _ in os.walk(directory)]\n",
    "    return max(depths) if depths else 0  # Prevents empty list error\n",
    "\n",
    "print(f\"Deepest folder depth in '{custom_directory}': {max_folder_depth(custom_directory)}\")\n",
    "\n"
   ]
  },
  {
   "cell_type": "markdown",
   "metadata": {},
   "source": [
    "<font color=\"Coral\"><b>Results:</b></font>\n",
    "+ Total files in '/Users/annapark/Downloads/': <b>11295</b>\n",
    "+ Number of .py files in '/Users/annapark/Downloads/': <b>27</b>\n",
    "+ Number of .jpg files in '/Users/annapark/Downloads/': <b>28</b>\n",
    "+ Number of .txt files in'/Users/annapark/Downloads/': <b>6417</b>\n",
    "+ Number of .pdf files in '/Users/annapark/Downloads/': <b>565</b>\n",
    "+ Deepest folder depth in '/Users/annapark/Downloads/': <b>17</b>"
   ]
  },
  {
   "cell_type": "code",
   "execution_count": 42,
   "metadata": {},
   "outputs": [
    {
     "name": "stdout",
     "output_type": "stream",
     "text": [
      "Number of files containing 'CS35_Participant_9': 132\n",
      "Number of files containing '()': 203\n",
      "Number of .jpeg files: 57\n",
      "Number of .jpg files: 35\n",
      "Number of .jpeg files is greater than .jpg files by 22 files!\n"
     ]
    }
   ],
   "source": [
    "import os \n",
    "import os.path\n",
    "\n",
    "custom_directory = \"/Users/annapark/Downloads\" \n",
    "#Three own questions \n",
    "#1. How many files are have my name \"CS35_Participant_9\" in it?\n",
    "def count_anna_files(custom_directory):\n",
    "    \"\"\"Counts the number of files with 'CS35_Participant_9' in their name (case-insensitive).\"\"\"\n",
    "    count = sum(1 for _, _, files in os.walk(custom_directory) for file in files if \"CS35_Participant_9\" in file)\n",
    "    return count\n",
    "\n",
    "anna_count = count_anna_files(custom_directory)\n",
    "print(f\"Number of files containing 'CS35_Participant_9': {anna_count}\")\n",
    "\n",
    "#2. How many files have \"()\" in it?\n",
    "def count_files_with_parentheses(custom_directory):\n",
    "    \"\"\"Counts the number of files with '()' in their name.\"\"\"\n",
    "    count = sum(1 for _, _, files in os.walk(custom_directory) for file in files if \"(\" in file and \")\" in file)\n",
    "    return count\n",
    "\n",
    "parentheses_count = count_files_with_parentheses(custom_directory)\n",
    "print(f\"Number of files containing '()': {parentheses_count}\")\n",
    "\n",
    "#3. Files: jpeg vs jpg. How many each?\n",
    "def count_jpeg_vs_jpg(custom_directory):\n",
    "    \"\"\"Counts the number of .jpeg and .jpg files separately.\"\"\"\n",
    "    jpeg_count = sum(1 for _, _, files in os.walk(custom_directory) for file in files if file.lower().endswith(\".jpeg\"))\n",
    "    jpg_count = sum(1 for _, _, files in os.walk(custom_directory) for file in files if file.lower().endswith(\".jpg\"))\n",
    "    \n",
    "    return jpeg_count, jpg_count\n",
    "\n",
    "jpeg_count, jpg_count = count_jpeg_vs_jpg(custom_directory)\n",
    "print(f\"Number of .jpeg files: {jpeg_count}\")\n",
    "print(f\"Number of .jpg files: {jpg_count}\")\n",
    "if jpeg_count > jpg_count:\n",
    "    print(f\"Number of .jpeg files is greater than .jpg files by {int(jpeg_count)- int(jpg_count)} files!\")\n",
    "elif jpg_count > jpeg_count: \n",
    "    print(f\"Number of .jpeg files is greater than .jpg files by {int(jpeg_count)- int(jpg_count)} files!\")\n",
    "else: print(f\"Same number of files! {jpeg_count}\")\n"
   ]
  },
  {
   "cell_type": "markdown",
   "metadata": {},
   "source": [
    "<font color=\"Coral\"><b>Results:</b></font>\n",
    "+ Number of files containing 'CS35_Participant_9': <b>132</b>\n",
    "+ Number of files containing '()': <b>203</b>\n",
    "+ Number of .jpeg files: <b>57</b>\n",
    "+ Number of .jpg files: <b>35</b>\n",
    "+ Number of .jpeg files is greater than .jpg files by 22 files!"
   ]
  }
 ],
 "metadata": {
  "kernelspec": {
   "display_name": "Python 3",
   "language": "python",
   "name": "python3"
  },
  "language_info": {
   "codemirror_mode": {
    "name": "ipython",
    "version": 3
   },
   "file_extension": ".py",
   "mimetype": "text/x-python",
   "name": "python",
   "nbconvert_exporter": "python",
   "pygments_lexer": "ipython3",
   "version": "3.13.2"
  },
  "orig_nbformat": 4
 },
 "nbformat": 4,
 "nbformat_minor": 2
}
