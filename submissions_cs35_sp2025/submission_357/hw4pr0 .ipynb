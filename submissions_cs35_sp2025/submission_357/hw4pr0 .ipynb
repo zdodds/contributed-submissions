{
  "cells": [
    {
      "cell_type": "markdown",
      "metadata": {
        "id": "Q7VN5akZo9eQ"
      },
      "source": [
        "<br>\n",
        "\n",
        "#### week4 ~ <i>... and into the data we dive ...</i>  &nbsp;&nbsp; (hw4pr0.ipynb)\n",
        "\n",
        "<a href=\"https://docs.google.com/document/d/1OdQ-01Gp7XAk9vbZ61zM3CaTdGsZVWEvZxgu1Z0toSY/edit?tab=t.0\">This week's hw page</a>\n",
        "\n",
        "<hr>"
      ]
    },
    {
      "cell_type": "markdown",
      "metadata": {
        "id": "TPzeAaYio9eT"
      },
      "source": [
        "<br>\n",
        "\n",
        "#### Reading for hw4...     (hw4pr0.ipynb)\n",
        "\n",
        "As we transition into AI/Machine Learning for the next few weeks, this week's reading takes a more <u>policy-based</u>, rather than socially-normed, view:\n",
        "+ it's a NYTimes article from a few years ago -- nice, because it has a definite, wide-angle stance on regulating AI:\n",
        "+ [How to Regulate Artificial Intelligence](https://www.nytimes.com/2017/09/01/opinion/artificial-intelligence-regulations-rules.html)\n",
        "+ [locally-hosted pdf copy](https://drive.google.com/file/d/1EZcygQdk40J0dJTZ1vp0F20rIoQU27nH/view)\n",
        "\n",
        "Consider the author's three proposed principles, which elaborate Isaac Asimov's \"laws\":\n",
        "+ AIs must obey human society's laws\n",
        "+ AIs must disclose themselves as such\n",
        "+ AIs cannot retain confidential information (w/o permission)\n",
        "\n",
        "Choose one (or more) of these principles with which to agree or disagree, bringing in your own experience and perspective.\n",
        "\n",
        "Alternative paths and balancing acts are, as always, welcome! For example -- this article was written before conversational AI was a reality. Do you feel there are differences in the appropriate principles or guidance for regulating today's AI agents and their authors?\n",
        "\n",
        "<hr>"
      ]
    },
    {
      "cell_type": "markdown",
      "metadata": {
        "id": "66hxsJSpo9eU"
      },
      "source": [
        "#### Reading response\n",
        "\n",
        "(Feel free to use this cell for your response.)"
      ]
    },
    {
      "cell_type": "markdown",
      "source": [
        "I strongly agree with the principle that AI must clearly disclose that it is not human. As AI systems become more advanced, they can mimic human speech and behavior so well that people might not realize they’re interacting with a machine. This can be a big problem, especially in areas like customer service, social media, and even education. For example, some students were tricked into thinking an AI teaching assistant was a real person, and political bots have been used to spread misinformation before elections. If AI doesn’t identify itself, it could be used to manipulate opinions, scam people, or create fake news. Transparency is important because it allows people to make informed decisions about whether to trust or engage with AI. While AI can be incredibly useful, it should never deceive us into thinking it’s something it’s not."
      ],
      "metadata": {
        "id": "9L-C_C3rpB_Q"
      }
    }
  ],
  "metadata": {
    "interpreter": {
      "hash": "7ccb4bb6bd67730c9185e6c24c983362cd7b4575b595bfae100d8d91e48f4f1e"
    },
    "kernelspec": {
      "display_name": "Python 3.8.8 64-bit (conda)",
      "language": "python",
      "name": "python3"
    },
    "language_info": {
      "codemirror_mode": {
        "name": "ipython",
        "version": 3
      },
      "file_extension": ".py",
      "mimetype": "text/x-python",
      "name": "python",
      "nbconvert_exporter": "python",
      "pygments_lexer": "ipython3",
      "version": "3.10.2"
    },
    "orig_nbformat": 4,
    "colab": {
      "provenance": []
    }
  },
  "nbformat": 4,
  "nbformat_minor": 0
}