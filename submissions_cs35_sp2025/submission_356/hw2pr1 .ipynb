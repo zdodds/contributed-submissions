{
 "cells": [
  {
   "attachments": {},
   "cell_type": "markdown",
   "metadata": {},
   "source": [
    "### week2 ~ APIs !\n",
    "\n",
    "<b>that is, _the-web-as-your-filesystem_ ...</b>  &nbsp;&nbsp; (hw2pr1.ipynb)\n",
    "\n",
    "[the google doc with hw2's details](https://docs.google.com/document/d/1z4HwpUL1-ImGX3j-6bddyZAfdv2SkRQHRNhF5Cu3Fkk/edit?tab=t.0)\n",
    "<hr>"
   ]
  },
  {
   "cell_type": "code",
   "execution_count": 1,
   "metadata": {},
   "outputs": [
    {
     "name": "stdout",
     "output_type": "stream",
     "text": [
      "[0, 1, 2, 3, 4, 5, 6, 7, 8, 9]\n"
     ]
    }
   ],
   "source": [
    "#\n",
    "# computing-styling trick of the day     (or, of the minute...)\n",
    "#\n",
    "# The setting for word-wrapping on the output is\n",
    "#     \"notebook.output.wordWrap\": true,   (in your settings.json file or from Code ... Settings ...) \n",
    "\n",
    "print( list(range(10)) )\n"
   ]
  },
  {
   "cell_type": "markdown",
   "metadata": {},
   "source": [
    "#### Let's see if you already have the requests library..."
   ]
  },
  {
   "cell_type": "code",
   "execution_count": 2,
   "metadata": {},
   "outputs": [],
   "source": [
    "#\n",
    "# see if we have the requests library...\n",
    "#\n",
    "\n",
    "import requests"
   ]
  },
  {
   "cell_type": "code",
   "execution_count": 3,
   "metadata": {},
   "outputs": [],
   "source": [
    "#\n",
    "# If you _don't_ have the requests library, let's install it!\n",
    "#\n",
    "\n",
    "# for me, it worked to uncomment and run this command, here in this cell:\n",
    "# !pip3 install requests  OR   !pip install requests\n",
    "\n",
    "# an alternative is to run, in a terminal, the command would be \n",
    "#  pip3 install requests  OR    pip install requests      (the ! is needed only if inside Python)\n",
    "\n",
    "# It's very system-dependent how much you have to \"restart\" in order to use\n",
    "# the new library (the notebook, VSCode, the Jupyter extension, etc.)\n",
    "\n",
    "# Troubles?  Let us know!  We'll work on it with you..."
   ]
  },
  {
   "cell_type": "code",
   "execution_count": 2,
   "metadata": {},
   "outputs": [],
   "source": [
    "#\n",
    "# hopefully, this now works! (if so, running will succeed silently)\n",
    "#\n",
    "\n",
    "import requests"
   ]
  },
  {
   "cell_type": "code",
   "execution_count": 4,
   "metadata": {},
   "outputs": [
    {
     "data": {
      "text/plain": [
       "<Response [200]>"
      ]
     },
     "execution_count": 4,
     "metadata": {},
     "output_type": "execute_result"
    }
   ],
   "source": [
    "#\n",
    "# let's try it on a simple webpage\n",
    "#\n",
    "\n",
    "#\n",
    "# we assign the url and obtain the api-call result into result\n",
    "#    Note that result will be an object that contains many fields (not a simple string)\n",
    "# \n",
    "\n",
    "url = \"https://www.cs.hmc.edu/~dodds/demo.html\"\n",
    "result = requests.get(url)\n",
    "result    \n",
    "\n",
    "# if it succeeded, you should see <Response [200]>\n",
    "# See the list of HTTP reponse codes for the full set!"
   ]
  },
  {
   "cell_type": "markdown",
   "metadata": {},
   "source": [
    "[Here is Wikipedia's list of all HTTP response codes](https://en.wikipedia.org/wiki/List_of_HTTP_status_codes)\n",
    "+ 100's: information\n",
    "+ 200's: success           \n",
    "+ 300's: redirects\n",
    "+ 400's + 500's: errors\n",
    "\n",
    "Perhaps familiar:  404 <br>\n",
    "Especially fun:  418\n"
   ]
  },
  {
   "cell_type": "code",
   "execution_count": 5,
   "metadata": {},
   "outputs": [
    {
     "data": {
      "text/plain": [
       "requests.models.Response"
      ]
     },
     "execution_count": 5,
     "metadata": {},
     "output_type": "execute_result"
    }
   ],
   "source": [
    "#\n",
    "# when exploring, you'll often obtain an unfamiliar object. \n",
    "# Here, we'll ask what type it is \n",
    "type(result)"
   ]
  },
  {
   "cell_type": "markdown",
   "metadata": {},
   "source": [
    "How to access the data inside this object, ``result`` ?\n",
    "\n",
    "One way: [Head over to the online documentation](https://requests.readthedocs.io/en/latest/api/#requests.Response)\n",
    "\n",
    "In addition, you can \"look around\" in Python:"
   ]
  },
  {
   "cell_type": "code",
   "execution_count": 6,
   "metadata": {},
   "outputs": [
    {
     "data": {
      "text/plain": [
       "'https://www.cs.hmc.edu/~dodds/demo.html'"
      ]
     },
     "execution_count": 6,
     "metadata": {},
     "output_type": "execute_result"
    }
   ],
   "source": [
    "# here is one of the data members within the result\n",
    "# it \"remembers\" (keeps track of) the url requested:\n",
    "result.url"
   ]
  },
  {
   "cell_type": "code",
   "execution_count": null,
   "metadata": {},
   "outputs": [],
   "source": [
    "# We can print all of the data members in an object with dir\n",
    "# Since dir returns a list, we will grab that list and loop over it:\n",
    "all_fields = dir(result)\n",
    "\n",
    "for field in all_fields:\n",
    "    if \"_\" not in field: \n",
    "        print(field)"
   ]
  },
  {
   "cell_type": "code",
   "execution_count": 8,
   "metadata": {},
   "outputs": [
    {
     "name": "stdout",
     "output_type": "stream",
     "text": [
      "result.url         is https://www.cs.hmc.edu/~dodds/demo.html\n",
      "result.raw         is <urllib3.response.HTTPResponse object at 0x10ae50e80>\n",
      "result.encoding    is ISO-8859-1\n",
      "result.status_code is 200\n"
     ]
    }
   ],
   "source": [
    "#\n",
    "# Let's try printing a few of those fields (data members): \n",
    "print(f\"result.url         is {result.url}\")  # the original url\n",
    "print(f\"result.raw         is {result.raw}\")  # another object!\n",
    "print(f\"result.encoding    is {result.encoding}\")  # utf-8 is very common\n",
    "print(f\"result.status_code is {result.status_code}\")  # 200 is success!"
   ]
  },
  {
   "cell_type": "code",
   "execution_count": null,
   "metadata": {},
   "outputs": [],
   "source": [
    "# In this case, the result is a text file (HTML) Let's see it!\n",
    "contents = result.text\n",
    "print(contents)"
   ]
  },
  {
   "cell_type": "code",
   "execution_count": 10,
   "metadata": {},
   "outputs": [],
   "source": [
    "# Yay!  \n",
    "# This shows that you are able to \"scrape\" an arbitrary HTML page... \n",
    "\n",
    "# Now, we're off to more _structured_ data-gathering..."
   ]
  },
  {
   "attachments": {},
   "cell_type": "markdown",
   "metadata": {},
   "source": [
    "#### Traversing the world - and web - <i>without a browser</i>.   \n",
    "\n",
    "<b>Using the ISS APIs</b> \n",
    "\n",
    "+ Here, you'll make some calls using `requests` to, first, the International Space Station API \n",
    "+ and, then, the US Geological Survey's earthquake API\n",
    "+ \"API\" is short for \"Application Programming Interface\" \n",
    "  + Admittedly, this is not a very informative name:\n",
    "  + The API is the set of services, which are functions and/or urls, provided by some software or site"
   ]
  },
  {
   "attachments": {},
   "cell_type": "markdown",
   "metadata": {},
   "source": [
    "Let's try it with the International Space Station api at [http://api.open-notify.org/iss-now.json](http://api.open-notify.org/iss-now.json)\n",
    "+ [This page has documentation on the ISS API](http://open-notify.org/Open-Notify-API/ISS-Location-Now/)"
   ]
  },
  {
   "cell_type": "code",
   "execution_count": 6,
   "metadata": {},
   "outputs": [
    {
     "data": {
      "text/plain": [
       "<Response [200]>"
      ]
     },
     "execution_count": 6,
     "metadata": {},
     "output_type": "execute_result"
    }
   ],
   "source": [
    "#\n",
    "# we assign the url and obtain the api-call result into result\n",
    "#    Note that result will be an object that contains many fields (not a simple string)\n",
    "# \n",
    "\n",
    "import requests\n",
    "\n",
    "url = \"http://api.open-notify.org/iss-now.json\"   # this is sometimes called an \"endpoint\" ...\n",
    "result = requests.get(url)\n",
    "result    \n",
    "\n",
    "# if it succeeds, you should see <Response [200]>"
   ]
  },
  {
   "cell_type": "code",
   "execution_count": 7,
   "metadata": {},
   "outputs": [
    {
     "name": "stdout",
     "output_type": "stream",
     "text": [
      "result.url         is http://api.open-notify.org/iss-now.json\n",
      "result.raw         is <urllib3.response.HTTPResponse object at 0x12511bfd0>\n",
      "result.encoding    is utf-8\n",
      "result.status_code is 200\n"
     ]
    }
   ],
   "source": [
    "#\n",
    "# Let's try printing those shorter fields from before:\n",
    "print(f\"result.url         is {result.url}\")  # the original url\n",
    "print(f\"result.raw         is {result.raw}\")  # another object!\n",
    "print(f\"result.encoding    is {result.encoding}\")  # utf-8 is very common\n",
    "print(f\"result.status_code is {result.status_code}\")  # 200 is success!"
   ]
  },
  {
   "cell_type": "code",
   "execution_count": null,
   "metadata": {},
   "outputs": [
    {
     "name": "stdout",
     "output_type": "stream",
     "text": [
      "{'iss_position': {'latitude': '-42.6203', 'longitude': '-8.7386'}, 'timestamp': 1739069717, 'message': 'success'}\n"
     ]
    }
   ],
   "source": [
    "#\n",
    "# In this case, we know the result is a JSON file, and we can obtain it that way:\n",
    "\n",
    "json_contents = result.json()\n",
    "print(json_contents)\n",
    "\n",
    "# Remember:  json_contents will be a _dictionary_"
   ]
  },
  {
   "cell_type": "code",
   "execution_count": 22,
   "metadata": {},
   "outputs": [
    {
     "data": {
      "text/plain": [
       "'success'"
      ]
     },
     "execution_count": 22,
     "metadata": {},
     "output_type": "execute_result"
    }
   ],
   "source": [
    "#\n",
    "# Let's re-remind ourselves how dictionaries work:\n",
    "\n",
    "json_contents['message']       # Challenge:  could we access the other components? What _types_ are they?!!"
   ]
  },
  {
   "cell_type": "code",
   "execution_count": 24,
   "metadata": {},
   "outputs": [
    {
     "data": {
      "text/plain": [
       "1738814153"
      ]
     },
     "execution_count": 24,
     "metadata": {},
     "output_type": "execute_result"
    }
   ],
   "source": [
    "json_contents['timestamp']"
   ]
  },
  {
   "cell_type": "code",
   "execution_count": 17,
   "metadata": {},
   "outputs": [
    {
     "data": {
      "text/plain": [
       "-8.7386"
      ]
     },
     "execution_count": 17,
     "metadata": {},
     "output_type": "execute_result"
    }
   ],
   "source": [
    "CS35_Participant_2 = float(json_contents['iss_position']['longitude'])\n",
    "CS35_Participant_2"
   ]
  },
  {
   "cell_type": "code",
   "execution_count": 13,
   "metadata": {},
   "outputs": [
    {
     "name": "stdout",
     "output_type": "stream",
     "text": [
      "['iss_position', 'timestamp', 'message']\n"
     ]
    }
   ],
   "source": [
    "#\n",
    "# In Python, we can use the resulting dictionary... let's see its keys:\n",
    "print(list(json_contents.keys()))  \n",
    "\n",
    "# Also, watch out for string vs. numeric types, e.g., for latitude and longitude.\n",
    "# At heart, _all_ web data are strings... .\n",
    "\n",
    "# These experiments will be helpful for problem 1, below :)"
   ]
  },
  {
   "cell_type": "markdown",
   "metadata": {},
   "source": [
    "<font color=\"Coral\"><b>Task 0a</b></font>  &nbsp;&nbsp; From here, \n",
    "+ extract the lat and CS35_Participant_2 of the ISS from ``json_contents``  (dictinoary practice!)\n",
    "+ copy the ``haversine`` function from the assignment\n",
    "+ find the lat/CS35_Participant_2 of Claremont (or grab it from the hw page! 😊 )\n",
    "+ combine these to find out how far, in miles, the ISS is from Claremont  \n",
    "+ <font size=\"-2\">you could _imagine_ writing a function to do all this (no need to - we'll do it with earthquakes!)</font>"
   ]
  },
  {
   "cell_type": "code",
   "execution_count": 18,
   "metadata": {},
   "outputs": [
    {
     "data": {
      "text/plain": [
       "-42.6203"
      ]
     },
     "execution_count": 18,
     "metadata": {},
     "output_type": "execute_result"
    }
   ],
   "source": [
    "lat = float(json_contents['iss_position']['latitude'])\n",
    "lat"
   ]
  },
  {
   "cell_type": "code",
   "execution_count": 30,
   "metadata": {},
   "outputs": [
    {
     "data": {
      "text/plain": [
       "8651.026294919777"
      ]
     },
     "execution_count": 30,
     "metadata": {},
     "output_type": "execute_result"
    }
   ],
   "source": [
    "def haversine(lat1, long1, lat2, long2):\n",
    "    \"\"\"\n",
    "    Calculate the great circle distance in kilometers between two points\n",
    "    on the earth (specified in decimal degrees)\n",
    "    \"\"\"\n",
    "    from math import sin, cos, radians, asin, sqrt   # this import is for the sin, cos, radians, ...\n",
    "    # convert decimal degrees to radians\n",
    "\n",
    "    long1, lat1, long2, lat2 = map(radians, [long1, lat1, long2, lat2])\n",
    "\n",
    "    # haversine formula\n",
    "    dlong = long2 - long1\n",
    "    dlat = lat2 - lat1\n",
    "    trig = sin(dlat/2)**2 + cos(lat1) * cos(lat2) * sin(dlong/2)**2\n",
    "    # Radius of earth. Use 3956 for miles. 6371 for km.\n",
    "    radius = 3956  # we'll use miles!\n",
    "    return radius * 2 * asin(sqrt(trig))\n",
    "\n",
    "haversine(-42.6203,-8.7386,34.0967,-117.719)"
   ]
  },
  {
   "cell_type": "markdown",
   "metadata": {},
   "source": [
    "#### Distance between ISS and Claremont\n",
    "  + 8651.026294919777 miles"
   ]
  },
  {
   "cell_type": "markdown",
   "metadata": {},
   "source": [
    "## JSON\n",
    "\n",
    "####  Let's make a brief JSON visit in Python\n",
    "\n",
    "The library ``json`` allows us to create and read arbitrary JSON data."
   ]
  },
  {
   "cell_type": "code",
   "execution_count": 3,
   "metadata": {},
   "outputs": [
    {
     "name": "stdout",
     "output_type": "stream",
     "text": [
      "{'key': 'value', 'fave': 42, 'list': [5, 6, 7, {'mascot': 'Aliiien'}]}\n"
     ]
    }
   ],
   "source": [
    "# JSON is a javascript dictionary format -- almost the same as a Python dictionary:\n",
    "data = { 'key':'value',  'fave':42,  'list':[5,6,7,{'mascot':'Aliiien'}] }\n",
    "print(data)\n",
    "\n",
    "# we can write in JSON format to a local file, named small42.json:\n",
    "import json \n",
    "\n",
    "with open(\"small.json\", \"w\") as f:\n",
    "    json.dump( data, f )"
   ]
  },
  {
   "cell_type": "code",
   "execution_count": 4,
   "metadata": {},
   "outputs": [
    {
     "name": "stdout",
     "output_type": "stream",
     "text": [
      "the dictionary = {'key': 'value', 'fave': 42, 'list': [5, 6, 7, {'mascot': 'Aliiien'}]}\n"
     ]
    }
   ],
   "source": [
    "# We can also read from a json file\n",
    "# The resulting data will be a _dictionary_:\n",
    "\n",
    "with open(\"small.json\", \"r\") as f:\n",
    "    dictionary = json.load( f )\n",
    "\n",
    "print(f\"the {dictionary = }\")"
   ]
  },
  {
   "cell_type": "code",
   "execution_count": 15,
   "metadata": {},
   "outputs": [
    {
     "data": {
      "text/plain": [
       "['key', 'fave', 'list']"
      ]
     },
     "execution_count": 15,
     "metadata": {},
     "output_type": "execute_result"
    }
   ],
   "source": [
    "# let's access this dictionary -- first, the keys:\n",
    "list(dictionary.keys()) # How do we get 'Aliiien' from newdata?"
   ]
  },
  {
   "cell_type": "code",
   "execution_count": null,
   "metadata": {},
   "outputs": [
    {
     "data": {
      "text/plain": [
       "'Aliiien'"
      ]
     },
     "execution_count": 29,
     "metadata": {},
     "output_type": "execute_result"
    }
   ],
   "source": [
    "# Task: use the dictionary to obtain (a) 'value' , (b) 42 , (c) 'Aliiien'  [tricky!]\n",
    "\n",
    "# remember that there are two ways to get the value from a key:\n",
    "# way 1:  dictionary['key']            # errors if 'key' isn't present\n",
    "# way 2:  dictionary.get('key')        # returns None if 'key' isn't present\n",
    "\n",
    "dictionary['key'] #a\n",
    "dictionary['fave'] #b\n",
    "dictionary['list'][3]['mascot'] #c"
   ]
  },
  {
   "cell_type": "markdown",
   "metadata": {},
   "source": [
    "Most of the time this will be done for us by the ``requests`` library. So, we will simply receive the dictionary of data sent.\n",
    "\n",
    "Then, the trick is to \"extract\" the data fragments we want. (Sometimes it feels like forensics - or archaeology!) Try excavating items one **layer** at a time..."
   ]
  },
  {
   "cell_type": "markdown",
   "metadata": {},
   "source": [
    "#### Remember: &nbsp; <i>not</i> every url returns json data...\n",
    "+ The url [https://www.cs.hmc.edu/~dodds/demo.html](https://www.cs.hmc.edu/~dodds/demo.html) returns a plain-text file with _markup_ text\n",
    "+ that is to say, with HTML tags, such as `<title>Title</title>` to designate the components of its content\n",
    "+ HTML stands for _hypertext markup language_   \n",
    "+ Often anything with tags similar to `<b>be bold!</b>` is called \"markup.\" \n",
    "\n",
    "Let's try our 5C homepages: they're HTML, not JSON:"
   ]
  },
  {
   "cell_type": "code",
   "execution_count": 3,
   "metadata": {},
   "outputs": [
    {
     "name": "stdout",
     "output_type": "stream",
     "text": [
      "result is <Response [200]>\n"
     ]
    }
   ],
   "source": [
    "import requests \n",
    "\n",
    "# here, we will obtain plain-text results from a request\n",
    "url = \"https://www.cs.hmc.edu/~dodds/demo.html\"  # try it + source\n",
    "# url = \"https://www.scrippscollege.edu/\"          # another possible site...\n",
    "# url = \"https://www.pitzer.edu/\"                  # another possible site...\n",
    "# url = \"https://www.cmc.edu/\"                     # and another!\n",
    "# url = \"https://www.cgu.edu/\"\n",
    "result = requests.get(url)        \n",
    "print(f\"result is {result}\")        # hopefully it's 200"
   ]
  },
  {
   "cell_type": "code",
   "execution_count": null,
   "metadata": {},
   "outputs": [],
   "source": [
    "# if the request was successful, the Response will be [200]. \n",
    "# Then, we can grab the text - or json - from the site:\n",
    "\n",
    "text = result.text                  # provides the HTML page as a large string...\n",
    "print(f\"len(text) is {len(text)}\")  # let's see how large the HTML page is... \n",
    "\n",
    "print(\"\\nThe first 242 characters are\\n\")\n",
    "print(text[:242])                  # we'll print the first few characters...  \n",
    "\n",
    "# change this to text[:] to see the whole document...\n",
    "# Notice that we can run many different analyses without having to re-call/re-scrape the page (this is good!)"
   ]
  },
  {
   "cell_type": "markdown",
   "metadata": {},
   "source": [
    "#### Declined requests!\n",
    "\n",
    "Caution: <i>See this week's reading!</i>"
   ]
  },
  {
   "cell_type": "markdown",
   "metadata": {},
   "source": [
    "#### For now let's focus on API calls providing JSON \n",
    "+ We're reading-aligned, as we should be!\n",
    "+ The open-ended problem (the finale in this notebook) offers the _option_ of scraping raw html -- up to you...\n",
    "\n",
    "<br>\n",
    "\n",
    "<b>Let's try another ISS \"endpoint\" ~ one with all of the <i>people</i> in space.</b>\n",
    "\n",
    "It's at this url:  [http://api.open-notify.org/astros.json](http://api.open-notify.org/astros.json)\n"
   ]
  },
  {
   "cell_type": "code",
   "execution_count": null,
   "metadata": {},
   "outputs": [
    {
     "data": {
      "text/plain": [
       "<Response [200]>"
      ]
     },
     "execution_count": 29,
     "metadata": {},
     "output_type": "execute_result"
    }
   ],
   "source": [
    "#\n",
    "# we assign the url and use requests.get to obtain the result into result_astro\n",
    "#\n",
    "#    Remember, result_astro will be an object that contains many fields (not a simple string)\n",
    "# \n",
    "\n",
    "import requests\n",
    "\n",
    "url = \"http://api.open-notify.org/astros.json\"   # this is sometimes called an \"endpoint\" ...\n",
    "result_astro = requests.get(url)\n",
    "result_astro\n",
    "\n",
    "# if it succeeded, you should see <Response [200]>"
   ]
  },
  {
   "cell_type": "code",
   "execution_count": null,
   "metadata": {},
   "outputs": [
    {
     "name": "stdout",
     "output_type": "stream",
     "text": [
      "{'people': [{'craft': 'ISS', 'name': 'Oleg Kononenko'}, {'craft': 'ISS', 'name': 'Nikolai Chub'}, {'craft': 'ISS', 'name': 'Tracy Caldwell Dyson'}, {'craft': 'ISS', 'name': 'Matthew Dominick'}, {'craft': 'ISS', 'name': 'Michael Barratt'}, {'craft': 'ISS', 'name': 'Jeanette Epps'}, {'craft': 'ISS', 'name': 'Alexander Grebenkin'}, {'craft': 'ISS', 'name': 'Butch Wilmore'}, {'craft': 'ISS', 'name': 'Sunita Williams'}, {'craft': 'Tiangong', 'name': 'Li Guangsu'}, {'craft': 'Tiangong', 'name': 'Li Cong'}, {'craft': 'Tiangong', 'name': 'Ye Guangfu'}], 'number': 12, 'message': 'success'}\n"
     ]
    },
    {
     "data": {
      "text/plain": [
       "''"
      ]
     },
     "execution_count": 30,
     "metadata": {},
     "output_type": "execute_result"
    }
   ],
   "source": [
    "# If the request succeeded, we know the result is a JSON file, and we can obtain it that way.\n",
    "# Let's call our dictionary something more specific:\n",
    "\n",
    "astronauts = result_astro.json()\n",
    "print(astronauts)\n",
    "d = astronauts     # d is shorter to type\n",
    "\n",
    "# Remember:  d and astronauts will be a _dictionary_\n",
    "\n",
    "note = \"\"\" here's yesterday's result - it _should_ be the same today!\n",
    "\n",
    "{\"people\": [{\"craft\": \"ISS\", \"name\": \"Oleg Kononenko\"}, {\"craft\": \"ISS\", \"name\": \"Nikolai Chub\"},\n",
    "{\"craft\": \"ISS\", \"name\": \"Tracy Caldwell Dyson\"}, {\"craft\": \"ISS\", \"name\": \"Matthew Dominick\"},\n",
    "{\"craft\": \"ISS\", \"name\": \"Michael Barratt\"}, {\"craft\": \"ISS\", \"name\": \"Jeanette Epps\"},\n",
    "{\"craft\": \"ISS\", \"name\": \"Alexander Grebenkin\"}, {\"craft\": \"ISS\", \"name\": \"Butch Wilmore\"},\n",
    "{\"craft\": \"ISS\", \"name\": \"Sunita Williams\"}, {\"craft\": \"Tiangong\", \"name\": \"Li Guangsu\"},\n",
    "{\"craft\": \"Tiangong\", \"name\": \"Li Cong\"}, {\"craft\": \"Tiangong\", \"name\": \"Ye Guangfu\"}], \"number\": 12, \"message\": \"success\"}\n",
    "\"\"\"\n",
    "\"\""
   ]
  },
  {
   "cell_type": "markdown",
   "metadata": {},
   "source": [
    "This is pretty intricate. Let's try unpacking this - _parsing it_ - with an in-class break-out challenge."
   ]
  },
  {
   "cell_type": "code",
   "execution_count": null,
   "metadata": {},
   "outputs": [],
   "source": [
    "#\n",
    "# Cell to try out parsing d  (astronauts)\n",
    "#\n",
    "\n",
    "d"
   ]
  },
  {
   "cell_type": "markdown",
   "metadata": {},
   "source": [
    "Let's compare with a whole other webservice: **earthquakes** \n",
    "\n",
    "<br>\n",
    "<hr>\n",
    "<br>\n",
    "\n",
    "#### Earthquake data\n",
    "\n",
    "[Here is the USGS Earthquate data API documentation](https://earthquake.usgs.gov/fdsnws/event/1/)\n",
    "\n",
    "Notice that the \"headline\" is the URL: &nbsp; This is the <i>domain</i> from which we'll access data.\n",
    "+ Underneath, there are several different <i>endpoints</i> \n",
    "+ We are going to focus on the <tt>count</tt> endpoint and the <tt>query</tt> endpoint\n",
    "+ along with their parameters\n",
    "  + the whole list of parameters is linked and available by scrolling down\n",
    "  + that said, it's easy to miss (well, at least I did! :)"
   ]
  },
  {
   "cell_type": "markdown",
   "metadata": {},
   "source": [
    "First, let's establish that, for these endpoints, we can make requests - by hand - in our browser!\n",
    "\n",
    "Try this link: <br><br>  [https://earthquake.usgs.gov/fdsnws/event/1/count?format=geojson&minmagnitude=5.0&starttime=2024-01-01&endtime=2024-02-01](https://earthquake.usgs.gov/fdsnws/event/1/count?format=geojson&minmagnitude=5.0&starttime=2024-01-01&endtime=2024-02-01)"
   ]
  },
  {
   "cell_type": "markdown",
   "metadata": {},
   "source": [
    "Ok! Let's parse this url. Requests in which there are parameters <i><b>in the url</b></i> are called GET requests:\n",
    "+ the <b>endpoint</b> is the first part: ``https://earthquake.usgs.gov/fdsnws/event/1/count``\n",
    "   + Notice that the forward-slashes are very much like our file-system trees from last week!\n",
    "   + In fact, they usually <i>are</i> file-system trees. They're just on the <i>server</i> side, instead of our \"client\" side...\n",
    "+ the <b>parameters</b> follow the question mark: ``format=geojson&minmagnitude=5.0&starttime=2024-01-01&endtime=2024-02-01``\n",
    "   + There are four parameters here. Parameters are separated by the ampersand <tt>&amp;</tt> character.\n",
    "   + Each one is in the format <tt>name=value</tt>  Here are the four:\n",
    "   + ``format=geojson`` specifies the desired format of the returned data. ``geojson`` is JSON with geographic data.\n",
    "   + ``minmagnitude=5.0`` specifies the minimum magnitude of earthquakes to consider. 5.0 is strong, if not always catastrophic.\n",
    "   + ``starttime=2024-01-01`` specifies the earlier time-endpoint to consider. (Jan 1, 2024)\n",
    "   + ``endtime=2024-02-01`` specifies the later time-endpoint to consider. (Feb 1, 2024)\n",
    "\n",
    "My result was this:  ``{\"count\":134,\"maxAllowed\":20000}``\n",
    "+ Earthquakes are always happening -- and they do get reclassified. So, the numbers can change - even in the past.\n",
    "\n",
    "Try it, in your browser.\n",
    "\n",
    "Also, try increasing the ``minmagnitude`` -- you'll see a progression of fewer and fewer quakes. (Fortunately!) \n",
    "\n",
    "<hr>"
   ]
  },
  {
   "cell_type": "markdown",
   "metadata": {},
   "source": [
    "Then, try it using a short Python script:"
   ]
  },
  {
   "cell_type": "code",
   "execution_count": 5,
   "metadata": {},
   "outputs": [
    {
     "name": "stdout",
     "output_type": "stream",
     "text": [
      "result is <Response [200]>\n",
      "the full url used was\n",
      " https://earthquake.usgs.gov/fdsnws/event/1/count?format=geojson&minmagnitude=5.0&starttime=2024-01-01&endtime=2024-02-01\n"
     ]
    }
   ],
   "source": [
    "#\n",
    "# Let's try the  count  endpoint, with geojson format (json with geographical data)\n",
    "#\n",
    "\n",
    "url = \"https://earthquake.usgs.gov/fdsnws/event/1/count?format=geojson&minmagnitude=5.0&starttime=2024-01-01&endtime=2024-02-01\"\n",
    "\n",
    "result = requests.get(url)                       # a named input, params, taking the value param_d, above\n",
    "print(f\"result is {result}\")                     # hopefully, this is 200\n",
    "print(f\"the full url used was\\n {result.url}\")   # it's nice to be able to see this"
   ]
  },
  {
   "cell_type": "code",
   "execution_count": 6,
   "metadata": {},
   "outputs": [
    {
     "name": "stdout",
     "output_type": "stream",
     "text": [
      "d ={'count': 133, 'maxAllowed': 20000}\n"
     ]
    }
   ],
   "source": [
    "# If it worked, we should be able to obtain the JSON. Remember, it's a dictionary. Let's use d:\n",
    "\n",
    "d = result.json()\n",
    "\n",
    "print(f\"{d =}\")"
   ]
  },
  {
   "cell_type": "markdown",
   "metadata": {},
   "source": [
    "#### Handling parameters separately...\n",
    "\n",
    "It's awkward to include all the parameters as part of the url.\n",
    "\n",
    "It's much more common to create a <i>dictionary</i> of the parameters, and then pass that to ``requests.get``\n",
    "\n",
    "Here is an example:"
   ]
  },
  {
   "cell_type": "code",
   "execution_count": 7,
   "metadata": {},
   "outputs": [
    {
     "name": "stdout",
     "output_type": "stream",
     "text": [
      "result is <Response [200]>\n",
      "the full url used was\n",
      " https://earthquake.usgs.gov/fdsnws/event/1/count?format=geojson&starttime=2025-01-01&endtime=2025-02-01&minmagnitude=5.0\n"
     ]
    }
   ],
   "source": [
    "#\n",
    "# Here is the endpoint\n",
    "#\n",
    "url = \"https://earthquake.usgs.gov/fdsnws/event/1/count\"\n",
    "\n",
    "# Let's use variables for three of the parameters:\n",
    "min_mag = 5.0               # the minimum magnitude considered a quake (min_mag)\n",
    "start_time = \"2025-01-01\"   # this is the year-month-day format of the start\n",
    "finish_time = \"2025-02-01\"  # similar for the end\n",
    "\n",
    "# we assemble a dictionary of our parameters, let's name it param_dictionary\n",
    "# there are many more parameters available. The problems below ask you to explore them...\n",
    "param_dictionary = { \"format\":\"geojson\",         # this is simply hard-coded to obtain json\n",
    "                     \"starttime\":start_time,\n",
    "                     \"endtime\":finish_time,\n",
    "                     \"minmagnitude\":min_mag,\n",
    "                     }\n",
    "\n",
    "# Here, we use requests to make the request. The parameters will be added by this API call:\n",
    "result = requests.get(url, params=param_dictionary)\n",
    "print(f\"result is {result}\")                     # hopefully, this is 200\n",
    "print(f\"the full url used was\\n {result.url}\")   # this will include the parameters!"
   ]
  },
  {
   "cell_type": "code",
   "execution_count": 8,
   "metadata": {},
   "outputs": [
    {
     "name": "stdout",
     "output_type": "stream",
     "text": [
      "JSON returned was d = {'count': 149, 'maxAllowed': 20000}\n"
     ]
    }
   ],
   "source": [
    "# If it worked, we should be able to see the json results:\n",
    "\n",
    "d = result.json()\n",
    "print(f\"JSON returned was {d = }\")"
   ]
  },
  {
   "cell_type": "markdown",
   "metadata": {},
   "source": [
    "From here, it would be possible to write one or more loops and build an earthquake dataset. For example,\n",
    "+ it would be possible to loop over the ``minmagnitude`` to get a distribution of different sized quakes (or a histogram)\n",
    "+ it would be possible to loop over one of the <i>time-endpoints</i>\n",
    "+ it would be possible to loop over one of the _other parameters_ e.g.,\n",
    "  + you can specify a circle around a specific ``latitude`` and ``longitude`` with a ``maxradiuskm`` (the radius)\n",
    "  + Claremont is at ``latitude=34.0967`` and ``longitude=-117.7198`` \n",
    "\n",
    "The next two cells have an example of a Claremont-centric quake-count question and answer:"
   ]
  },
  {
   "cell_type": "code",
   "execution_count": 11,
   "metadata": {},
   "outputs": [
    {
     "name": "stdout",
     "output_type": "stream",
     "text": [
      "result is <Response [200]>\n",
      "the full url used was\n",
      " https://earthquake.usgs.gov/fdsnws/event/1/count?format=geojson&starttime=2025-01-01&endtime=2025-02-01&minmagnitude=2.2&latitude=34.0967&longitude=-117.7198&maxradiuskm=300\n"
     ]
    }
   ],
   "source": [
    "#\n",
    "# How many quakes of magnitude >= 4.2 have been within 300km of Claremont \n",
    "#     + in Jan 2025\n",
    "#     + in Dec 2025\n",
    "#\n",
    "url = \"https://earthquake.usgs.gov/fdsnws/event/1/count\"\n",
    "\n",
    "# Let's use variables for three of the parameters:\n",
    "min_mag = 2.2               # the minimum magnitude considered a quake (min_mag)\n",
    "start_time = \"2025-01-01\"   # this is the year-month-day format of the start\n",
    "finish_time = \"2025-02-01\"  # similar for the end\n",
    "# start_time = \"2024-01-01\"   # similar, but for a year-CS35_Participant_2 span...\n",
    "# finish_time = \"2025-01-01\"  # similar for the end\n",
    "radius_in_km = 300\n",
    "\n",
    "# we assemble a dictionary of our parameters, let's name it param_dictionary\n",
    "# there are many more parameters available. The problems below ask you to explore them...\n",
    "param_dictionary = { \"format\":\"geojson\",         # this is simply hard-coded to obtain json\n",
    "                     \"starttime\":start_time,\n",
    "                     \"endtime\":finish_time,\n",
    "                     \"minmagnitude\":min_mag,\n",
    "                     \"latitude\":34.0967,\n",
    "                     \"longitude\":-117.7198,\n",
    "                     \"maxradiuskm\":radius_in_km,\n",
    "                     }\n",
    "\n",
    "# Here, we use requests to make the request. The parameters will be added by this API call:\n",
    "result = requests.get(url, params=param_dictionary)\n",
    "print(f\"result is {result}\")                     # hopefully, this is 200\n",
    "print(f\"the full url used was\\n {result.url}\")   # this will include the parameters!\n",
    "\n",
    "# We'll extract the final result in another cell:"
   ]
  },
  {
   "cell_type": "code",
   "execution_count": null,
   "metadata": {},
   "outputs": [
    {
     "name": "stdout",
     "output_type": "stream",
     "text": [
      "quake_count = {'count': 70, 'maxAllowed': 20000}\n"
     ]
    }
   ],
   "source": [
    "# Let's finish up here:\n",
    "quake_count = result.json()\n",
    "print(f\"{quake_count = }\")"
   ]
  },
  {
   "cell_type": "markdown",
   "metadata": {},
   "source": [
    "<font color=\"Coral\"><b>Try this, task \"0b\"</b></font>  &nbsp;&nbsp; \n",
    "+ Would you expect more or fewer quakes if a minimum magnitude of 2.2 were used? **More! The plates beneath us are constantly shifting and we might not feel it.**\n",
    "+ Try the above cells again for a minimum magnitude of 2.2 -- if that the difference you'd expect? **Yes count went from 1 to 70.**"
   ]
  },
  {
   "cell_type": "markdown",
   "metadata": {},
   "source": [
    "<font color=\"DodgerBlue\"><b>Quake-counting Results:</b></font> \n",
    "\n",
    "#### Number of Claremont-centric quakes\n",
    "  + <u>Overall</u> The API calls to the USGS showed that, within 300km of Claremont, there were\n",
    "    + 1 quake of magnitude 4.2 or larger within 300km of Claremont in Jan '25\n",
    "    + more quakes  of magitude 2.2 or larger within 300km of Claremont in Jan '25 <br><br>\n",
    "  + <u>Reflection</u>: _This is not enough data to establish a trend. (I hope!)_ That said, for the hw, you should include a **loop** over at least 10 values, as well as a text-formatted set of values. (It's ok for the output values to be in the computational cell(s), not the markdown cell. The markdown is really for reflection on results than reporting of results.) <br><br>\n",
    "  + <u>Opportunities</u>: In fact, there are lots of values over which the USGS API allows to vary. For example,  minmagnitude (or maxmagnitude), radius, location (lat/CS35_Participant_2), months (or other time-measurements) - and others. In addition, there is the chance to look at the details of each quake using the ``query`` endpoint. <br><br>"
   ]
  },
  {
   "cell_type": "markdown",
   "metadata": {},
   "source": [
    "Looping over API calls to gather data will be one of the hw problems.\n",
    "\n",
    "<hr>\n",
    "\n",
    "#### The ``query`` endpoint\n",
    "\n",
    "Let's see, too, that it's possible to obtain, not only a <i>count</i>, but also a <b>\"full report\"</b> of all of the earthquakes.\n",
    "\n",
    "To do so, the only change needed is from the endpoint ``count`` to the endpoint ``query``\n",
    "\n",
    "First, try it \"by hand\" -- by opening this url in your browser:\n",
    "\n",
    "[https://earthquake.usgs.gov/fdsnws/event/1/query?format=geojson&minmagnitude=6.8&starttime=2024-01-01&endtime=2024-02-01](https://earthquake.usgs.gov/fdsnws/event/1/query?format=geojson&minmagnitude=6.8&starttime=2024-01-01&endtime=2024-02-01)\n",
    "\n",
    "Take a look -- there is a lot more data!  \n",
    "\n",
    "Next, let's try it programmatically:"
   ]
  },
  {
   "cell_type": "code",
   "execution_count": 28,
   "metadata": {},
   "outputs": [
    {
     "name": "stdout",
     "output_type": "stream",
     "text": [
      "result is <Response [200]>\n",
      "the full url used was\n",
      " https://earthquake.usgs.gov/fdsnws/event/1/query?format=geojson&starttime=2025-01-01&endtime=2025-02-01&minmagnitude=6.5&maxmagnitude=7.0\n"
     ]
    }
   ],
   "source": [
    "#\n",
    "# Here is the endpoint\n",
    "#\n",
    "url = \"https://earthquake.usgs.gov/fdsnws/event/1/query\"\n",
    "\n",
    "# Let's use variables for three of the parameters:\n",
    "min_mag = 6.5 \n",
    "max_mag = 7.0              # the minimum magnitude considered a quake (min_mag)\n",
    "start_time = \"2025-01-01\"   # this is the year-month-day format of the start\n",
    "finish_time = \"2025-02-01\"  # similar for the end\n",
    "\n",
    "# we assemble a dictionary of our parameters, let's name it param_dictionary\n",
    "# there are many more parameters available. The problems below ask you to explore them...\n",
    "param_dictionary = { \"format\":\"geojson\",         # this is simply hard-coded to obtain json\n",
    "                     \"starttime\":start_time,\n",
    "                     \"endtime\":finish_time,\n",
    "                     \"minmagnitude\":min_mag,\n",
    "                     \"maxmagnitude\":max_mag\n",
    "                     }\n",
    "\n",
    "# Here, we use requests to make the request. The parameters will be added by this API call:\n",
    "result = requests.get(url, params=param_dictionary)\n",
    "print(f\"result is {result}\")                     # hopefully, this is 200\n",
    "print(f\"the full url used was\\n {result.url}\")   # this will include the parameters!"
   ]
  },
  {
   "cell_type": "code",
   "execution_count": null,
   "metadata": {},
   "outputs": [],
   "source": [
    "# If it worked, we should be able to see the json results:\n",
    "\n",
    "d = result.json()\n",
    "print(f\"JSON returned was {d = }\")"
   ]
  },
  {
   "cell_type": "code",
   "execution_count": null,
   "metadata": {},
   "outputs": [],
   "source": [
    "#\n",
    "# That's hard to read!\n",
    "# Let's pretty-print it with the json library\n",
    "#       Also, this version can be pasted into online formatters, e.g., https://jsonformatter.org/\n",
    "\n",
    "import json \n",
    "nice_string = json.dumps(d)   # this outputs a \"nicely formatted string\" using double quotes\n",
    "print(nice_string)\n"
   ]
  },
  {
   "cell_type": "markdown",
   "metadata": {},
   "source": [
    "but, we can do better! \n",
    "\n",
    "the \"dump string\" function, json.dumps, can output the formatted version, too...\n"
   ]
  },
  {
   "cell_type": "code",
   "execution_count": null,
   "metadata": {},
   "outputs": [],
   "source": [
    "import json \n",
    "nicer_string = json.dumps(d, indent=4)   # We can specify the indentation. \n",
    "print(nicer_string)                      # It's another tree structure... !"
   ]
  },
  {
   "cell_type": "markdown",
   "metadata": {},
   "source": [
    "<font color=\"Coral\"><b>Try this, also for Task 0b</b></font>  &nbsp;&nbsp; \n",
    "+ Look through the response to find where and when the largest eathquake was, in the previous year. **Southern Tibetan Plateau **\n",
    "+ What was its magnitude? **7.1**\n",
    "+ (optional) Do you see a way that - just by making small changes and re-running - you could find the second-biggest quake of '24?  Perhaps try it...  🦔 **added maximum magnitude into the dictionary and defined max_mag**"
   ]
  },
  {
   "cell_type": "markdown",
   "metadata": {},
   "source": [
    "<br>\n",
    "<hr>\n",
    "<br>\n",
    "\n",
    "\n",
    "\n",
    "#### Launching into hw2's challenges:\n",
    "+ <font color=\"Coral\"><b>Tasks1-2</b></font> &nbsp;&nbsp; ISS challenges:\n",
    "  + ``ISS_now()`` which will find and return the ISS's lat/CS35_Participant_2 (as floats)\n",
    "    + use the earlier examples as a starting point...\n",
    "  + ``ISS_distance()`` which will return the distance of the ISS from a city of your choice (a constant city, not a variable). It can be Claremont, but doesn't have to be. This will require using the <i>haversine</i> distance for global lat/CS35_Participant_2 coordinates...\n",
    "+ <font color=\"Coral\"><b>Tasks3-4</b></font> &nbsp;&nbsp; Earthquake challenges:\n",
    "  + ``Quake_loop()`` which will loop over a parameter of your choice, print a formatted list of quake-count data, and return that list\n",
    "  + ``Quake_compare(place1, place2)`` which will ask - and answer - a comparative question about \"quakiness\" for two different places, using the quake data... \n",
    "    + Here, the goal is to define which of the two places is \"quakiest.\"\n",
    "    + Notice that the definition of \"quakiest\" is up to you...\n",
    "    + The inputs, place1 and place2, can be lat/CS35_Participant_2 pairs - or strings, which then get looked up...\n",
    "\n",
    "<br>\n",
    "\n",
    "#### <font color=\"Coral\"><b>Task5</b></font> &nbsp;&nbsp; Open-ended, two-hop challenge\n",
    "\n",
    "Then, you'll choose or create an open-ended API task -- or create a variant of your own design from at least two APIs - or \"scrapes\" - of your choice.\n",
    "+ The key constraint is to be sure you meaningfully use the  <font color=\"DodgerBlue\">result</font>  from the first API call in order to customize the request of the second API call.\n",
    "+ Then, with the result of that second API call, interpret the data obtained to make a final \"statement\" -- which can be anywhere amid serious, silly, surreal -- that combines the two API insights.\n",
    "+ See below for a far-fetched superbowl-themed idea...\n",
    "\n",
    "\n"
   ]
  },
  {
   "cell_type": "code",
   "execution_count": 49,
   "metadata": {},
   "outputs": [
    {
     "data": {
      "text/plain": [
       "(-45.5388, -131.7348)"
      ]
     },
     "execution_count": 49,
     "metadata": {},
     "output_type": "execute_result"
    }
   ],
   "source": [
    "#\n",
    "# hw2: ISS tasks 1 and 2 ...\n",
    "# \n",
    "# Two functions:  ISS_now(), ISS_distance()\n",
    "import requests\n",
    "\n",
    "url = \"http://api.open-notify.org/iss-now.json\"   # this is sometimes called an \"endpoint\" ...\n",
    "result = requests.get(url)\n",
    "json_contents = result.json()\n",
    "\n",
    "#\n",
    "# Use the ISS examples above to write a function, named \n",
    "#     \n",
    "#      ISS_now()\n",
    "#\n",
    "# that uses requests to return the current latitude and longitude -- as floating-point values -- right now.\n",
    "# Be sure to test it! \n",
    "\n",
    "def ISS_now():\n",
    "    lat1 = float(json_contents['iss_position']['latitude'])\n",
    "    long1 = float(json_contents['iss_position']['longitude'])\n",
    "    return lat1, long1\n",
    "\n",
    "ISS_now()\n"
   ]
  },
  {
   "cell_type": "markdown",
   "metadata": {},
   "source": [
    "Feel free to create some new cells around this area to write and test ``ISS_now()`` ..."
   ]
  },
  {
   "cell_type": "code",
   "execution_count": 52,
   "metadata": {},
   "outputs": [
    {
     "name": "stdout",
     "output_type": "stream",
     "text": [
      "Distance of ISS from Manila, PH: 7761.46 miles\n"
     ]
    }
   ],
   "source": [
    "# \n",
    "# Once your ISS_now() function is working, write a new function\n",
    "#\n",
    "#       ISS_distance()\n",
    "#\n",
    "# which uses ISS_now to obtain the lat/CS35_Participant_2 of the ISS and then\n",
    "# uses the haversine distance (look up a Python implementation or use one of ours... :)\n",
    "# to compute the ISS's distance from a city of your choice.\n",
    "#\n",
    "# The haversine distance computes the \"great circle\" distance from two points on the globe\n",
    "#     using latitude and longitude  \n",
    "#\n",
    "def ISS_distance():\n",
    "    \"\"\"\n",
    "    Calculate the distance of the ISS at any given time to Manila, Philippines\n",
    "    \"\"\"\n",
    "    from math import sin, cos, radians, asin, sqrt   # this import is for the sin, cos, radians, ...\n",
    "    # convert decimal degrees to radians\n",
    "\n",
    "    lat1, long1 = ISS_now()\n",
    "    # Hardcoded the latitude and longitude of Manila, Philippines\n",
    "    lat2 = 14.5995\n",
    "    long2 = 120.9842\n",
    "\n",
    "    long1, lat1, long2, lat2 = map(radians, [long1, lat1, long2, lat2])\n",
    "\n",
    "    # haversine formula\n",
    "    dlong = long2 - long1\n",
    "    dlat = lat2 - lat1\n",
    "    trig = sin(dlat/2)**2 + cos(lat1) * cos(lat2) * sin(dlong/2)**2\n",
    "    \n",
    "    # Radius of earth. Use 3956 for miles. 6371 for km.\n",
    "    radius = 3956  # we'll use miles!\n",
    "    return radius * 2 * asin(sqrt(trig))\n",
    "\n",
    "distance = ISS_distance()\n",
    "\n",
    "# Print the result\n",
    "print(f\"Distance of ISS from Manila, PH: {distance:.2f} miles\")\n"
   ]
  },
  {
   "cell_type": "markdown",
   "metadata": {},
   "source": [
    "Feel free to create some new cells around this area to write and test ``ISS_distance()`` ..."
   ]
  },
  {
   "cell_type": "code",
   "execution_count": null,
   "metadata": {},
   "outputs": [],
   "source": [
    "#\n",
    "# Open-ended possibility:  \n",
    "#    (a) create a new function ISS_distance(place) that takes in a place name\n",
    "#    (b) find a service by which you can look up the lat + CS35_Participant_2 using the place name\n",
    "#         (b*)  I'm not sure how to do this - it's exploratory! \n",
    "#    (c) then, continue with the previous computation to find the ISS distance! :) \n",
    "#\n",
    "d = {}\n",
    "\n",
    "import requests\n",
    "from math import sin, cos, radians, asin, sqrt\n",
    "\n",
    "def ISS_distance(place):\n",
    "\n",
    "    url = f\"https://api.geodatasource.com/format=json&\"\n",
    "    result = requests.get(url).json()\n",
    "    \n",
    "    if result:\n",
    "        lat = d[place]\n",
    "        CS35_Participant_2 = float(result[0]['CS35_Participant_2'])\n",
    "        return lat, CS35_Participant_2\n",
    "    \n",
    "place_name = \"Manila\"\n",
    "distance = ISS_distance(place_name)\n",
    "\n",
    "print(f\"Distance of ISS from {place_name}: {distance:.2f} miles\")\n",
    "\n",
    "# The final problem of this hw2 is to take on _ONE_ open-ended possibility. \n",
    "#     (This ISS-themed one is only the first possibility.)\n",
    "#     Others, below, involve earthquakes, or your own choice of API exploration..."
   ]
  },
  {
   "cell_type": "markdown",
   "metadata": {},
   "source": [
    "#### USGS Challenges\n",
    "\n",
    "Tasks 3 and 4 use the earthquake API"
   ]
  },
  {
   "cell_type": "markdown",
   "metadata": {},
   "source": [
    "<font color=\"Coral\"><b>Tasks3-4</b></font> &nbsp;&nbsp; Earthquake challenges:\n",
    "  + ``Quake_loop()`` which will loop over a parameter of your choice, print a formatted list of quake-count data, and return that list\n",
    "  + ``Quake_compare(place1, place2)`` which will ask - and answer - a comparative question about \"quakiness\" for two different places, using the quake data... \n",
    "    + Here, the goal is to define which of the two places is \"quakiest.\"\n",
    "    + Notice that the definition of \"quakiest\" is up to you...\n",
    "    + The inputs, place1 and place2, can be lat/CS35_Participant_2 pairs - or strings, which then get looked up..."
   ]
  },
  {
   "cell_type": "code",
   "execution_count": 204,
   "metadata": {},
   "outputs": [
    {
     "name": "stdout",
     "output_type": "stream",
     "text": [
      "10\n",
      "4\n"
     ]
    }
   ],
   "source": [
    "import requests\n",
    "import time\n",
    "\n",
    "def get_num_quakes(start_time, finish_time, min_mag, latitude, longitude, max_radius_km):\n",
    "   \"\"\" returns the number of quakes in month (of '24)\n",
    "           of at least magnitude ...\n",
    "   \"\"\"\n",
    "   url = \"https://earthquake.usgs.gov/fdsnws/event/1/count\"\n",
    " \n",
    "   # we assemble a dictionary of our parameters, let's name it param_dictionary\n",
    "   # there are many more parameters available. The problems below ask you to explore them...\n",
    "   param_dictionary = { \"format\":\"geojson\",         # this is simply hard-coded to obtain json\n",
    "                        \"starttime\":start_time,\n",
    "                        \"endtime\":finish_time,\n",
    "                        \"minmagnitude\":min_mag,\n",
    "                        \"latitude\": latitude,         \n",
    "                        \"longitude\": longitude,      \n",
    "                        \"maxradiuskm\": max_radius_km\n",
    "                       }\n",
    "   \n",
    "   result = requests.get(url, params=param_dictionary)\n",
    "   # return f\"({result} the result.url is {result.url})\"\n",
    "   d = result.json()\n",
    "   count = d.get('count')\n",
    "   return count\n",
    "\n",
    "# Manila to rest of Luzon is a 200 km radius but max_radius_km max is 180\n",
    "print(get_num_quakes(\"2024-01-01\",\"2024-04-01\",4.0,14.5995,120.9842,180))\n",
    "print(get_num_quakes(\"2024-01-01\",\"2024-04-01\",4.0,34.0967,-117.7198,180))"
   ]
  },
  {
   "cell_type": "code",
   "execution_count": 206,
   "metadata": {},
   "outputs": [
    {
     "name": "stdout",
     "output_type": "stream",
     "text": [
      "Between 2024-01-01 and 2024-04-01, there were the following earthquakes\n",
      "Magnitude 2.0: 10 quakes\n",
      "Magnitude 3.0: 10 quakes\n",
      "Magnitude 4.0: 10 quakes\n",
      "Magnitude 5.0: 0 quakes\n",
      "Magnitude 6.0: 0 quakes\n",
      "Magnitude 7.0: 0 quakes\n",
      "Magnitude 8.0: 0 quakes\n",
      "Magnitude 9.0: 0 quakes\n",
      "Magnitude 10.0: 0 quakes\n"
     ]
    }
   ],
   "source": [
    "#\n",
    "# hw2: USGS Tasks 3 and 4 ...\n",
    "# \n",
    "# Two functions:  Quake_loop(), Quake_compare(place1, place2)\n",
    "\n",
    "#\n",
    "# Use the USGS (earthquake) examples above to write a function, named \n",
    "#     \n",
    "import requests\n",
    "import time\n",
    "\n",
    "magnitudes = [2.0,3.0,4.0,5.0,6.0,7.0,8.0,9.0,10.0] # the strongest earthquake magnitude was 9.5 in 1960!\n",
    "LoQ = []\n",
    "\n",
    "def Quake_loop():\n",
    "    ''' loops over different magnitudes to collect earthquake counts ''' \n",
    "    start_time = \"2024-01-01\"   \n",
    "    finish_time = \"2024-04-01\"\n",
    "    \n",
    "    latitude = 14.5995 #34.0967 \n",
    "    longitude = 120.9842 #-117.7198 \n",
    "    max_radius_km = 180  \n",
    "\n",
    "    LoQ = []\n",
    "\n",
    "    for magnitude in magnitudes:\n",
    "        count = get_num_quakes(start_time, finish_time, magnitude, latitude, longitude, max_radius_km)\n",
    "        LoQ.append(count)\n",
    "        \n",
    "    return LoQ\n",
    "LoQ = Quake_loop()\n",
    "\n",
    "print(f\"Between 2024-01-01 and 2024-04-01, there were the following earthquakes\")\n",
    "for i, magnitude in enumerate([2.0, 3.0, 4.0, 5.0, 6.0, 7.0, 8.0, 9.0, 10.0]):\n",
    "    print(f\"Magnitude {magnitude}: {LoQ[i]} quakes\")\n",
    "#\n",
    "# that uses requests within a loop of your own design in order to\n",
    "#   + obtain at least 10 distinct, comparable data elements (counts are encouraged; other items ok)\n",
    "#   + see the assignment page for an example where the looping iterates over the _month_\n",
    "#\n",
    "#   + choose your favorite parameter(s) to vary, e.g., magnitude, time, radius, location, etc.\n",
    "#   + it should collect all of those data elements into a list\n",
    "#   + and render the list in a neatly formatted chart (f-strings welcome; not required)\n",
    "#\n",
    "#   + in addition, include a overall reflection on the results, as well as a comment on additional effort\n",
    "#     that could expand your results (you need not run it), and any concerns or caveats about the data...\n",
    "#   + feel free to copy-paste-edit the markdown \"reflection-template,\" above  "
   ]
  },
  {
   "cell_type": "markdown",
   "metadata": {},
   "source": [
    "#### Number of Quakes within Luzon\n",
    "  + Using Manila as the reference point, 180 km radius captures most of the Luzon region. \n",
    "  + There are many minor and undetected quakes - 17k! The earth is constantly shifting beneath our feet. \n",
    "  + I wonder where the two 7.0 quakes were it would be more informative if the function could pinpoint the locations of the larger earthquakes, defined by a certain magnitude threshold. "
   ]
  },
  {
   "cell_type": "markdown",
   "metadata": {},
   "source": [
    "Feel free to create some new cells around this area to write and test ``Quake_loop()`` ..."
   ]
  },
  {
   "cell_type": "code",
   "execution_count": 208,
   "metadata": {},
   "outputs": [
    {
     "name": "stdout",
     "output_type": "stream",
     "text": [
      "Between 2024-01-01 and 2024-04-01, with magnitude ≥ 4.0 and radius ≤ 180 km:\n",
      "Claremont (34.0967, -117.7198) had 4 quakes.\n",
      "Manila (14.5995, 120.9842) had 10 quakes.\n",
      "Manila (14.5995, 120.9842) is quakier than Claremont (34.0967, -117.7198).\n"
     ]
    }
   ],
   "source": [
    "# \n",
    "# Once your Quake_loop() function is working, write a new function\n",
    "#\n",
    "def Quake_compare(place1, place2):\n",
    "    ''' determines which of two places is quakier based on specified time span, magnitude, and radius around the two chosen places'''\n",
    "#\n",
    "# and then your function should compare which of the two places is \"quakier\" (not a real word)\n",
    "# for a given time span (you choose), and a given strength-of-quakes (you choose), and\n",
    "# for a specific radius around each of the two places (you choose)\n",
    "#\n",
    "    start_time = f\"2024-01-01\"   \n",
    "    finish_time = f\"2024-04-01\"\n",
    "    min_mag = 4.0\n",
    "    max_radius_km = 180  \n",
    "\n",
    "    lat1, long1 = place1 \n",
    "    lat2, long2 = place2\n",
    "\n",
    "    count1 = get_num_quakes(start_time, finish_time, min_mag, lat1, long1, max_radius_km)\n",
    "    count2 = get_num_quakes(start_time, finish_time, min_mag, lat2, long2, max_radius_km)\n",
    "\n",
    "    print(f\"Between {start_time} and {finish_time}, with magnitude ≥ {min_mag} and radius ≤ {max_radius_km} km:\")\n",
    "    print(f\"Claremont {place1} had {count1} quakes.\")\n",
    "    print(f\"Manila {place2} had {count2} quakes.\")\n",
    "\n",
    "    if count1 > count2:\n",
    "        print(f\"Claremont {place1} is quakier than Manila {place2}.\")\n",
    "    elif count2 > count1:\n",
    "        print(f\"Manila {place2} is quakier than Claremont {place1}.\")\n",
    "    else:\n",
    "        print(f\"Claremont {place1} and Manila {place2} are just as quaky.\")\n",
    "\n",
    "place1 = (34.0967,-117.7198) # Claremont\n",
    "place2 = (14.5995,120.9842) # Manila\n",
    "\n",
    "Quake_compare(place1,place2)\n",
    "\n",
    "# As is clear, there is lots of freedom to design a \"comparison of quakiness\" -- wonderful!\n",
    "# Feel free to start somewhere, and tune the results.\n",
    "#\n",
    "# Your function should print the results it finds (in this case, it's not important to return\n",
    "# and specific value -- though you're encouraged (not required) to create a helper function and \n",
    "# then call it twice for the two locations! (That helper function would need a return value!)\n",
    "#\n",
    "#"
   ]
  },
  {
   "cell_type": "markdown",
   "metadata": {},
   "source": [
    "Feel free to create some new cells around this area to write and test ``Quake_compare(place1, place2)`` ..."
   ]
  },
  {
   "cell_type": "code",
   "execution_count": null,
   "metadata": {},
   "outputs": [],
   "source": []
  },
  {
   "cell_type": "markdown",
   "metadata": {},
   "source": [
    "#### Final API challenge:  an open-ended, two-hop API task...\n",
    "\n",
    "<font color=\"Coral\">Key constraint: _Use two hops!_</font>  &nbsp;&nbsp; Be sure to dome something that uses two separate API calls, in which the results of the first affect the second - culminating in an aggregate, overall result.\n",
    "\n",
    "Possibilities: \n",
    "  + You should use at least one other API. (See the hw2 page for links to many.)\n",
    "      + The [Poke API](https://pokeapi.co/)  or [one of these](https://medium.com/codex/15-fun-and-interesting-apis-to-use-for-your-next-coding-project-in-2022-86a4ff3a2742) or [one of the many, many more!](https://github.com/public-apis/public-apis)\n",
    "  + That said, <u><b>one</b></u> of the two can be ISS or USGS, as you used above.\n",
    "\n",
    "\n",
    "\n",
    "<font size=\"-2\">PS. My example of this is in ``superbowl_prediction.ipynb`` with the starter files. It used to be here, but it was too clutter-y... .</font>\n",
    "\n",
    "<br><hr><br>\n",
    "\n",
    "Big-picture, an important part of using API calls is gathering a _specific piece_ of data from an otherwise too-large ocean of raw material. That element then allows you to express a natural _next_ specific question, obtain its relevant data, and continue to build from there, with each round-trip branching into additional (possible) questions... .\n",
    "\n",
    "<br>\n",
    "\n",
    "Good luck API'ing!!\n",
    "\n",
    "<br>\n",
    "\n"
   ]
  },
  {
   "cell_type": "code",
   "execution_count": 227,
   "metadata": {},
   "outputs": [
    {
     "name": "stdout",
     "output_type": "stream",
     "text": [
      "I love UZI. I be saying the same thing about Steve Jobs. I be feeling just like UZI\n",
      "83 is the highest UHF channel on older televisions made before the late 1970s.\n"
     ]
    }
   ],
   "source": [
    "#\n",
    "import requests\n",
    "\n",
    "# \n",
    "\n",
    "def get_ye_quotes():\n",
    "   \"\"\" returns a funfact about the number of letters in a random kanye west quote ...\n",
    "   \"\"\"\n",
    "   url = \"https://api.kanye.rest\"\n",
    "\n",
    "   result = requests.get(url)\n",
    "   # return f\"({result} the result.url is {result.url})\"\n",
    "   d = result.json()\n",
    "   quote = d.get('quote')\n",
    "   print(quote)\n",
    "   number = str(len(quote)) \n",
    "   \n",
    "   url2 = f\"http://numbersapi.com/{number}/trivia\"\n",
    "\n",
    "   result2 = requests.get(url2)\n",
    "   print(result2.text) # get plain text\n",
    "\n",
    "get_ye_quotes()\n",
    "\n",
    "#"
   ]
  }
 ],
 "metadata": {
  "kernelspec": {
   "display_name": "base",
   "language": "python",
   "name": "python3"
  },
  "language_info": {
   "codemirror_mode": {
    "name": "ipython",
    "version": 3
   },
   "file_extension": ".py",
   "mimetype": "text/x-python",
   "name": "python",
   "nbconvert_exporter": "python",
   "pygments_lexer": "ipython3",
   "version": "3.12.7"
  },
  "orig_nbformat": 4
 },
 "nbformat": 4,
 "nbformat_minor": 2
}
