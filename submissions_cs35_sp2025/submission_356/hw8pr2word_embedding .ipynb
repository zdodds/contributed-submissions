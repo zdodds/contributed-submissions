{
 "cells": [
  {
   "cell_type": "markdown",
   "metadata": {},
   "source": [
    "## hw8pr2: &nbsp; Embeddings: computing with word _meanings_\n",
    "\n",
    "About a decade ago, the computing community proposed a representation of the _meaning_ of words as _embeddings_.\n",
    "\n",
    "Embeddings are large vectors of weights that capture a word's use in context. They can be created by training a neural network to \"predict the missing word\" (from lots of possible contexts where it appears). \n",
    "\n",
    "Here, you will try out the original word-embeddings, called Word2Vec. "
   ]
  },
  {
   "cell_type": "code",
   "execution_count": 56,
   "metadata": {},
   "outputs": [],
   "source": [
    "#\n",
    "# hw8pr2.py ~ cs35 ~ Word Embeddings: Computing with word _meanings_\n",
    "#\n",
    "\n",
    "# our usual libraries\n",
    "import numpy as np\n",
    "import matplotlib.pyplot as plt  \n",
    "import seaborn as sns"
   ]
  },
  {
   "attachments": {},
   "cell_type": "markdown",
   "metadata": {},
   "source": [
    "### Gensim is a library for word-meanings\n",
    "\n",
    "Most often, the _meaning_ of a word is a vector, or ***embedding*** that has been learned through a neural net:\n",
    "+ that net is trained to determine each word from its context\n",
    "+ many variations are now used\n",
    "+ here, we use the original embeddings -- which better illustrate many of their weaknesses! \n",
    "+ from the word2vec paper: https://arxiv.org/abs/1301.3781"
   ]
  },
  {
   "cell_type": "code",
   "execution_count": 57,
   "metadata": {},
   "outputs": [],
   "source": [
    "# Most important for hw8 is gensim, the word-embedding (word2vec) library\n",
    "# See if you already have it installed:\n",
    "import gensim\n",
    "\n",
    "# if not, try         \n",
    "# !pip install gensim"
   ]
  },
  {
   "cell_type": "code",
   "execution_count": 58,
   "metadata": {},
   "outputs": [],
   "source": [
    "#!pip install gensim"
   ]
  },
  {
   "cell_type": "code",
   "execution_count": 59,
   "metadata": {},
   "outputs": [
    {
     "name": "stderr",
     "output_type": "stream",
     "text": [
      "22772.81s - pydevd: Sending message related to process being replaced timed-out after 5 seconds\n"
     ]
    },
    {
     "name": "stdout",
     "output_type": "stream",
     "text": [
      "Lec_8_cs35_spr25_90pp.pdf               hw8pr1digits_dreamer.ipynb\n",
      "digits.csv                              hw8pr2word_embeddings.ipynb\n",
      "hw8pr0final_project_explorations.ipynb  word2vec_model.txt\n"
     ]
    }
   ],
   "source": [
    "# The word-embeddings are in the large file word2vec_model.txt\n",
    "\n",
    "# Make sure that file is here:\n",
    "%ls"
   ]
  },
  {
   "cell_type": "code",
   "execution_count": 60,
   "metadata": {},
   "outputs": [],
   "source": [
    "#\n",
    "# This function, read_word2vec_model, wraps the creation of a gensim model, let's say, m\n",
    "#\n",
    "#      To use it, run the line   m = read_word2vec_model()\n",
    "#\n",
    "\n",
    "from gensim.models import KeyedVectors\n",
    "\n",
    "def read_word2vec_model(filename = \"word2vec_model.txt\"):  \n",
    "    \"\"\" a function that reads a word2vec model from the file\n",
    "        \"word2vec_model.txt\" and returns a model object that\n",
    "        we will usually name m or model...\n",
    "    \"\"\"\n",
    "    try:\n",
    "        print(\"Starting to load the model in \", filename, \"...\")\n",
    "        model = KeyedVectors.load_word2vec_format(filename, binary=False)\n",
    "        print(\"Model loaded.\\n\")\n",
    "    except FileNotFoundError as e:\n",
    "        print(f\"  [WARNING]    The file {filename} was not found.     [WARNING]  \")\n",
    "        return None   # returning a placeholder, not a model\n",
    "\n",
    "    # let's print some attributes\n",
    "    print(\"The model built is\", model, \"\\n\")\n",
    "    print(\"The vocabulary has\", model.vectors.shape[0], \"words\")   # The vocabulary has 43981 words\n",
    "    print(\"Each word is a vector of size\", model.vector_size)  # 300\n",
    "    print(\"\\nTry m.get_vector('python') to see a the vector for 'python'!\")\n",
    "    print(\"m is dictionary-like, e.g., try 'python' in m\\n\")\n",
    "    model.fill_norms()  # freezes the model, m, as-is (no more training)\n",
    "    # we weren't going to train more, so no worries (in week7, at least)\n",
    "    return model\n"
   ]
  },
  {
   "cell_type": "code",
   "execution_count": 61,
   "metadata": {},
   "outputs": [
    {
     "name": "stdout",
     "output_type": "stream",
     "text": [
      "Starting to load the model in  word2vec_model.txt ...\n",
      "Model loaded.\n",
      "\n",
      "The model built is KeyedVectors<vector_size=300, 43981 keys> \n",
      "\n",
      "The vocabulary has 43981 words\n",
      "Each word is a vector of size 300\n",
      "\n",
      "Try m.get_vector('python') to see a the vector for 'python'!\n",
      "m is dictionary-like, e.g., try 'python' in m\n",
      "\n"
     ]
    }
   ],
   "source": [
    "# \n",
    "# best to run this only once... or once in a while, as needed\n",
    "#\n",
    "\n",
    "m = read_word2vec_model()"
   ]
  },
  {
   "cell_type": "code",
   "execution_count": 62,
   "metadata": {},
   "outputs": [
    {
     "name": "stdout",
     "output_type": "stream",
     "text": [
      "m is KeyedVectors<vector_size=300, 43981 keys>\n"
     ]
    }
   ],
   "source": [
    "print(f\"m is {m}\")   # let's see how it prints..."
   ]
  },
  {
   "cell_type": "code",
   "execution_count": 63,
   "metadata": {},
   "outputs": [
    {
     "data": {
      "text/plain": [
       "True"
      ]
     },
     "execution_count": 63,
     "metadata": {},
     "output_type": "execute_result"
    }
   ],
   "source": [
    "'python' in m"
   ]
  },
  {
   "cell_type": "code",
   "execution_count": 64,
   "metadata": {},
   "outputs": [
    {
     "data": {
      "text/plain": [
       "array([ 0.0731009 ,  0.0326895 , -0.107592  ,  0.041441  , -0.0519943 ,\n",
       "       -0.0310164 ,  0.017503  ,  0.0218788 , -0.0777341 ,  0.0756749 ,\n",
       "       -0.0122264 , -0.143113  , -0.0212353 , -0.0253537 , -0.0620328 ,\n",
       "       -0.0767045 ,  0.044015  ,  0.0208492 , -0.0689826 , -0.00855847,\n",
       "       -0.0229084 , -0.0561127 ,  0.0509647 ,  0.080308  ,  0.0126125 ,\n",
       "       -0.00868717, -0.102444  ,  0.0648642 ,  0.152379  , -0.0823672 ,\n",
       "       -0.010682  ,  0.0885448 , -0.00669234, -0.0432428 , -0.0240667 ,\n",
       "        0.0329469 , -0.0178891 ,  0.0607458 , -0.00242919,  0.0998703 ,\n",
       "       -0.0113255 , -0.00701408,  0.0240667 ,  0.0870004 , -0.00727148,\n",
       "       -0.0664086 ,  0.0383522 ,  0.0169882 ,  0.0365505 , -0.01879   ,\n",
       "        0.010682  ,  0.0013996 ,  0.148261  , -0.0736157 ,  0.0638346 ,\n",
       "       -0.0517369 ,  0.0844264 , -0.0432428 ,  0.0684678 ,  0.0355209 ,\n",
       "        0.0684678 , -0.0169882 , -0.0253537 , -0.017503  , -0.0700121 ,\n",
       "        0.0119046 , -0.0176317 , -0.0664086 , -0.047876  , -0.00711061,\n",
       "        0.038867  , -0.0299868 , -0.0272841 , -0.0561127 , -0.042728  ,\n",
       "        0.118918  ,  0.0957519 , -0.120977  , -0.00965241,  0.00160873,\n",
       "       -0.00456881,  0.0787637 , -0.016023  , -0.0054697 , -0.0512221 ,\n",
       "        0.0114542 , -0.107077  , -0.0499351 ,  0.0254824 , -0.0604884 ,\n",
       "       -0.0274128 ,  0.0005148 ,  0.0114542 ,  0.00920196, -0.0167308 ,\n",
       "       -0.0875152 , -0.0135777 ,  0.00588797,  0.0942075 , -0.0669234 ,\n",
       "       -0.0266406 , -0.0849412 ,  0.0198196 , -0.0849412 ,  0.0154439 ,\n",
       "        0.03758   ,  0.0148004 , -0.0656364 , -0.0705269 , -0.0658938 ,\n",
       "       -0.00894457, -0.0694973 ,  0.0525091 ,  0.143113  , -0.0227797 ,\n",
       "        0.0106177 , -0.0463316 , -0.106048  ,  0.0159587 ,  0.01879   ,\n",
       "       -0.0571423 , -0.0136421 , -0.0658938 , -0.00357139,  0.0135134 ,\n",
       "        0.045302  ,  0.0895744 ,  0.0218788 ,  0.0159587 , -0.0756749 ,\n",
       "        0.0162804 ,  0.0368079 , -0.0527665 ,  0.0885448 , -0.0808228 ,\n",
       "        0.114285  , -0.014736  ,  0.012162  ,  0.0483907 ,  0.138995  ,\n",
       "       -0.0238093 , -0.114799  , -0.0957519 ,  0.0530239 ,  0.0720713 ,\n",
       "        0.0190474 , -0.0471038 ,  0.0885448 ,  0.0110681 ,  0.00371618,\n",
       "        0.128699  , -0.0481333 , -0.107592  ,  0.0746453 ,  0.0797933 ,\n",
       "       -0.0633198 , -0.148261  ,  0.0284424 , -0.0150578 , -0.0130629 ,\n",
       "        0.0202057 , -0.0236806 ,  0.0424706 , -0.0196909 , -0.0512221 ,\n",
       "        0.00281529,  0.0715565 , -0.0643494 , -0.0365505 ,  0.0525091 ,\n",
       "       -0.00698191,  0.111196  , -0.0274128 ,  0.0777341 , -0.0548257 ,\n",
       "        0.0193048 ,  0.168853  ,  0.0972963 , -0.0669234 ,  0.014543  ,\n",
       "       -0.000736  ,  0.0664086 , -0.0245815 , -0.0323034 , -0.0110681 ,\n",
       "        0.00460098,  0.0191761 ,  0.0555979 , -0.00304051,  0.0024131 ,\n",
       "        0.0416984 , -0.0158943 , -0.0455594 ,  0.0530239 , -0.0177604 ,\n",
       "        0.0694973 , -0.0993555 , -0.0168595 , -0.0859708 , -0.030759  ,\n",
       "        0.0576571 , -0.0875152 ,  0.00450446,  0.0532813 ,  0.0463316 ,\n",
       "       -0.0347487 ,  0.128699  ,  0.0471038 ,  0.0741305 ,  0.0463316 ,\n",
       "       -0.0808228 , -0.0245815 ,  0.0126125 , -0.0823672 , -0.0720713 ,\n",
       "        0.0669234 ,  0.0772193 , -0.0286998 ,  0.0160873 ,  0.0509647 ,\n",
       "       -0.0373227 ,  0.0266406 , -0.0736157 , -0.0152508 , -0.0299868 ,\n",
       "       -0.0782489 , -0.0154439 ,  0.0584293 ,  0.00242919,  0.00669234,\n",
       "        0.0409262 , -0.0684678 , -0.0245815 , -0.0398966 ,  0.0530239 ,\n",
       "        0.0234232 ,  0.0947223 ,  0.0232945 ,  0.0437576 ,  0.0148647 ,\n",
       "        0.0378374 , -0.0146717 ,  0.0076254 , -0.0380948 ,  0.0355209 ,\n",
       "       -0.0445298 ,  0.0167308 , -0.00836542,  0.0368079 , -0.0355209 ,\n",
       "       -0.0610032 ,  0.0594588 ,  0.047876  , -0.0458168 ,  0.0792785 ,\n",
       "       -0.0101029 , -0.0386096 , -0.00201092, -0.0216214 ,  0.062805  ,\n",
       "        0.114285  ,  0.0731009 , -0.00875152, -0.0146073 ,  0.0279276 ,\n",
       "        0.0725861 , -0.0302442 ,  0.0391244 , -0.0220075 ,  0.00900892,\n",
       "       -0.0527665 ,  0.0302442 , -0.121492  ,  0.0604884 ,  0.0537961 ,\n",
       "        0.0229084 ,  0.0217501 ,  0.0731009 , -0.0209779 , -0.0050836 ,\n",
       "       -0.00344269,  0.0761897 ,  0.0432428 ,  0.0507073 , -0.0163447 ,\n",
       "       -0.0988407 ,  0.0171169 ,  0.010489  ,  0.0926631 ,  0.0137064 ,\n",
       "       -0.0592014 ,  0.00153634, -0.0298581 ,  0.0612606 ,  0.00888022,\n",
       "        0.0181465 , -0.0689826 ,  0.129214  , -0.0571423 , -0.00164091],\n",
       "      dtype=float32)"
      ]
     },
     "execution_count": 64,
     "metadata": {},
     "output_type": "execute_result"
    }
   ],
   "source": [
    "m.get_vector('python')"
   ]
  },
  {
   "cell_type": "markdown",
   "metadata": {},
   "source": [
    "#### Let's see the \"meaning\" (the vector or embedding) for 'queen':\n",
    "\n",
    "First, we'll make sure 'queen' is in the model, <tt>m</tt>"
   ]
  },
  {
   "cell_type": "code",
   "execution_count": 65,
   "metadata": {},
   "outputs": [
    {
     "data": {
      "text/plain": [
       "True"
      ]
     },
     "execution_count": 65,
     "metadata": {},
     "output_type": "execute_result"
    }
   ],
   "source": [
    "'queen' in m"
   ]
  },
  {
   "cell_type": "code",
   "execution_count": 27,
   "metadata": {},
   "outputs": [
    {
     "data": {
      "text/plain": [
       "array([ 0.00173332, -0.0474043 , -0.022896  ,  0.0407935 ,  0.0435346 ,\n",
       "       -0.0293455 , -0.0235409 , -0.0715902 , -0.0651406 ,  0.0183813 ,\n",
       "       -0.0249921 , -0.125767  ,  0.0343439 , -0.00026957,  0.043857  ,\n",
       "        0.0372462 ,  0.0240246 , -0.015479  ,  0.0217673 ,  0.0311192 ,\n",
       "        0.0628833 ,  0.045147  , -0.0780398 , -0.0391811 ,  0.021606  ,\n",
       "       -0.0175751 , -0.101903  ,  0.030313  ,  0.0622383 , -0.0551438 ,\n",
       "       -0.0515965 , -0.0432121 , -0.0272494 ,  0.0703003 , -0.117382  ,\n",
       "       -0.0435346 ,  0.0317641 ,  0.0870691 , -0.0312804 ,  0.0606259 ,\n",
       "        0.0353114 , -0.137376  ,  0.089004  , -0.00915032,  0.0580461 ,\n",
       "       -0.0372462 , -0.00136046,  0.0480493 ,  0.0515965 ,  0.0883591 ,\n",
       "       -0.00592554,  0.0325703 ,  0.0174944 , -0.0103193 , -0.0538539 ,\n",
       "       -0.0191875 , -0.113512  , -0.0570787 ,  0.03773   , -0.0298292 ,\n",
       "        0.044502  ,  0.0922288 , -0.0164464 ,  0.0428896 ,  0.0580461 ,\n",
       "       -0.0732026 , -0.0039302 ,  0.0464369 , -0.059981  ,  0.0391811 ,\n",
       "        0.0532089 ,  0.0709452 , -0.0699778 ,  0.0419222 , -0.033054  ,\n",
       "        0.045147  ,  0.0419222 ,  0.00505888,  0.0345052 , -0.00919063,\n",
       "       -0.019913  ,  0.00733638,  0.059981  , -0.022251  ,  0.0162045 ,\n",
       "        0.0509516 , -0.0825544 ,  0.0461144 ,  0.0973884 ,  0.0351501 ,\n",
       "        0.110933  , -0.073525  , -0.0412772 , -0.0174944 ,  0.0635282 ,\n",
       "        0.0225735 ,  0.0230572 , -0.017172  ,  0.0477268 ,  0.00148138,\n",
       "       -0.00334571, -0.0490167 ,  0.0719127 , -0.0644957 , -0.128991  ,\n",
       "        0.025637  , -0.189617  , -0.0261207 , -0.0133828 , -0.0619158 ,\n",
       "        0.0838444 ,  0.051919  ,  0.0412772 ,  0.0464369 ,  0.0664305 ,\n",
       "       -0.0193487 ,  0.0557887 , -0.0928738 ,  0.0567562 ,  0.0632057 ,\n",
       "        0.0399873 , -0.0496617 , -0.00229766, -0.0783622 ,  0.0461144 ,\n",
       "       -0.00276122, -0.0155596 ,  0.0483717 , -0.0187844 ,  0.033699  ,\n",
       "        0.0278944 ,  0.0699778 , -0.00604647,  0.166399  , -0.0160433 ,\n",
       "        0.0732026 , -0.0844893 ,  0.0112867 ,  0.0522415 , -0.0111255 ,\n",
       "        0.022251  , -0.0831994 ,  0.0152371 , -0.0240246 ,  0.026282  ,\n",
       "        0.0139472 , -0.00042577,  0.066753  , -0.0432121 , -0.019913  ,\n",
       "        0.012496  ,  0.0448245 ,  0.0369238 , -0.0812645 , -0.0790072 ,\n",
       "       -0.0780398 , -0.0142697 , -0.00959373,  0.0777173 , -0.00128991,\n",
       "       -0.0166076 ,  0.0609484 ,  0.166399  , -0.00220696, -0.011448  ,\n",
       "       -0.0249921 ,  0.0203161 , -0.103838  , -0.0124154 ,  0.0780398 ,\n",
       "       -0.0422447 ,  0.0509516 ,  0.0980334 ,  0.00894877, -0.0564337 ,\n",
       "       -0.07417   ,  0.00079612,  0.0349889 , -0.0109643 ,  0.00481702,\n",
       "       -0.0712677 ,  0.081587  , -0.0245083 , -0.033699  ,  0.0557887 ,\n",
       "       -0.0166076 ,  0.0686879 , -0.0127379 , -0.073525  ,  0.0909389 ,\n",
       "       -0.0196712 , -0.00580461,  0.00592554,  0.0293455 ,  0.0425671 ,\n",
       "        0.0603034 ,  0.0477268 ,  0.0343439 , -0.043857  , -0.107708  ,\n",
       "        0.0012748 , -0.0375687 , -0.0166883 , -0.0432121 ,  0.00729607,\n",
       "       -0.0483717 ,  0.0354726 ,  0.0761049 ,  0.0503066 ,  0.0751374 ,\n",
       "        0.0159627 ,  0.0224122 , -0.0224122 , -0.0851343 ,  0.037085  ,\n",
       "        0.00119922, -0.0396648 , -0.0703003 ,  0.037085  ,  0.0401485 ,\n",
       "        0.0225735 ,  0.0162045 ,  0.0902939 , -0.00099767, -0.0012496 ,\n",
       "        0.00063992,  0.0619158 , -0.0960985 ,  0.0298292 ,  0.0870691 ,\n",
       "       -0.0844893 , -0.0948086 , -0.134796  ,  0.0348277 ,  0.130926  ,\n",
       "       -0.0240246 , -0.0142697 , -0.0209611 , -0.00019903, -0.0380524 ,\n",
       "        0.103838  , -0.073525  ,  0.0448245 , -0.00648988,  0.0506291 ,\n",
       "        0.00118914, -0.0396648 ,  0.0214448 ,  0.0535314 , -0.0551438 ,\n",
       "        0.010803  , -0.00115891,  0.0622383 ,  0.0638507 ,  0.043857  ,\n",
       "        0.0224122 , -0.112867  , -0.0275719 , -0.0973884 , -0.00693328,\n",
       "        0.0293455 ,  0.107063  , -0.121897  , -0.0283781 , -0.0163658 ,\n",
       "        0.0435346 ,  0.0145921 ,  0.118672  ,  0.0709452 ,  0.0877141 ,\n",
       "       -0.0902939 ,  0.0777173 ,  0.03773   ,  0.029023  ,  0.0619158 ,\n",
       "       -0.109643  ,  0.0499841 , -0.0119317 , -0.0393424 ,  0.0915838 ,\n",
       "        0.0357951 , -0.0240246 ,  0.0767498 ,  0.00072558,  0.0786847 ,\n",
       "       -0.082232  , -0.0407935 , -0.052564  , -0.00198526,  0.0480493 ,\n",
       "       -0.00152169, -0.0744925 , -0.125122  , -0.124477  , -0.0272494 ,\n",
       "       -0.0136247 ,  0.0554663 , -0.015479  ,  0.0538539 ,  0.0509516 ],\n",
       "      dtype=float32)"
      ]
     },
     "execution_count": 27,
     "metadata": {},
     "output_type": "execute_result"
    }
   ],
   "source": [
    "m.get_vector('queen')"
   ]
  },
  {
   "attachments": {},
   "cell_type": "markdown",
   "metadata": {},
   "source": [
    "Let's use an <tt>if</tt> to check whether a particular word is in the model:"
   ]
  },
  {
   "cell_type": "code",
   "execution_count": 66,
   "metadata": {},
   "outputs": [
    {
     "name": "stdout",
     "output_type": "stream",
     "text": [
      "That word is NOT in m\n"
     ]
    }
   ],
   "source": [
    "if 'poptart' in m:\n",
    "    print(\"That word is in m\")\n",
    "else:\n",
    "    print(\"That word is NOT in m\")"
   ]
  },
  {
   "cell_type": "code",
   "execution_count": 68,
   "metadata": {},
   "outputs": [
    {
     "name": "stdout",
     "output_type": "stream",
     "text": [
      "That word is in m\n"
     ]
    }
   ],
   "source": [
    "if 'cookies' in m:\n",
    "    print(\"That word is in m\")\n",
    "else:\n",
    "    print(\"That word is NOT in m\")"
   ]
  },
  {
   "cell_type": "code",
   "execution_count": 69,
   "metadata": {},
   "outputs": [
    {
     "data": {
      "text/plain": [
       "array([ 2.97324e-02,  4.28927e-02, -7.08380e-02, -1.60035e-02,\n",
       "       -6.46640e-02,  1.22667e-02, -1.47037e-02, -3.93996e-03,\n",
       "       -5.13413e-02,  8.57854e-02,  6.10896e-02, -1.39076e-01,\n",
       "       -3.18446e-02, -1.56786e-02, -7.73368e-02, -3.80185e-02,\n",
       "        2.94075e-02, -1.60035e-02, -1.91717e-02, -3.96433e-02,\n",
       "        3.00574e-02,  1.98013e-03,  8.83850e-02,  3.76936e-02,\n",
       "       -4.35426e-02,  2.30711e-02, -5.94649e-02,  2.61581e-02,\n",
       "        1.58573e-01, -5.71903e-02, -3.43223e-03,  8.77351e-02,\n",
       "       -5.58905e-02, -4.71170e-02,  2.55894e-03,  1.29470e-03,\n",
       "        1.22667e-02, -2.35585e-02, -1.30790e-02,  7.60371e-02,\n",
       "        5.75152e-02, -1.57598e-02,  4.41925e-02,  3.81810e-02,\n",
       "       -1.00083e-01, -3.42817e-02,  2.69704e-02,  4.45174e-02,\n",
       "        6.62887e-02, -1.92530e-02, -1.05607e-02,  8.18861e-02,\n",
       "        1.11781e-01, -7.76618e-02,  9.42340e-02,  2.86358e-03,\n",
       "        4.38675e-02, -5.19912e-02,  1.09831e-01,  1.33227e-01,\n",
       "        1.30790e-02,  3.86684e-02,  3.81810e-02,  4.90667e-02,\n",
       "        4.30552e-03, -8.28609e-02, -1.36477e-02, -5.13413e-02,\n",
       "       -6.10896e-02, -2.05528e-02,  2.87576e-02,  1.26424e-03,\n",
       "        3.94808e-02, -4.19179e-02, -4.77669e-02,  3.16821e-02,\n",
       "       -4.28927e-02, -4.84168e-02,  9.45640e-05, -5.39408e-02,\n",
       "        5.11788e-03,  7.27876e-02,  5.36159e-02, -5.91399e-02,\n",
       "       -8.31859e-02,  6.66137e-03, -1.22829e-01, -3.33068e-02,\n",
       "        2.77828e-02, -2.40459e-02,  2.48583e-02,  3.24945e-02,\n",
       "       -4.64671e-02,  1.84406e-02, -7.75806e-03,  1.13731e-02,\n",
       "       -1.57598e-02,  2.95700e-02,  3.42817e-02, -3.21137e-04,\n",
       "        4.09430e-02, -1.14381e-01,  9.55338e-02, -9.74834e-02,\n",
       "        2.98949e-02, -2.12839e-02,  4.75232e-03, -1.97404e-02,\n",
       "       -5.65404e-02, -1.42976e-01, -6.88883e-02, -6.49889e-02,\n",
       "        4.25678e-02,  8.51355e-02, -2.24212e-02, -3.50940e-02,\n",
       "       -7.51435e-03, -1.10481e-01, -3.10322e-02, -6.41766e-03,\n",
       "       -2.37210e-02, -9.74834e-03, -4.45174e-02, -2.00653e-02,\n",
       "       -1.00083e-01,  3.49316e-02,  7.73368e-02, -1.02764e-02,\n",
       "        3.52565e-02, -5.71903e-02, -1.14381e-01,  7.60371e-02,\n",
       "       -4.54923e-02,  5.00415e-02, -7.75806e-03,  6.10896e-02,\n",
       "        1.29166e-02,  2.69704e-02,  3.41192e-02,  1.94967e-01,\n",
       "        2.37210e-02, -5.29660e-02,  5.32097e-03,  2.85951e-02,\n",
       "        2.51832e-02,  1.15030e-01, -8.22110e-02, -1.35664e-02,\n",
       "       -4.58172e-02, -4.25678e-02,  8.28609e-02, -2.36600e-03,\n",
       "       -1.39726e-01,  9.42340e-02,  5.16662e-02, -6.09271e-03,\n",
       "       -1.15680e-01, -1.06419e-02, -4.77669e-02, -1.36477e-02,\n",
       "        3.15196e-02, -3.00574e-03,  1.42976e-02, -8.96847e-02,\n",
       "       -4.19179e-02, -3.05448e-02,  4.28927e-02, -2.51832e-02,\n",
       "        2.53457e-02,  2.33960e-02,  2.38834e-02,  4.25678e-02,\n",
       "        1.99029e-02,  5.91399e-02,  1.17792e-02, -9.29342e-02,\n",
       "        8.18861e-02,  2.55082e-02, -5.16662e-02,  2.29086e-02,\n",
       "       -1.06582e-01, -5.26410e-02, -4.41925e-02, -1.34852e-02,\n",
       "       -7.01881e-02,  2.07965e-02,  2.14464e-02,  4.10243e-03,\n",
       "        1.68159e-02,  1.11131e-01,  3.88309e-02, -1.03982e-02,\n",
       "       -1.01383e-01,  6.01148e-02, -2.98543e-03,  3.39567e-02,\n",
       "       -9.68335e-02, -1.19580e-01, -9.55338e-02, -8.20486e-03,\n",
       "        8.90349e-02, -9.42340e-02, -2.27461e-03, -1.17792e-02,\n",
       "       -6.98631e-03, -8.69227e-03,  7.63620e-02, -1.34852e-02,\n",
       "        3.50940e-02,  3.42817e-02, -1.34527e-01, -4.25678e-02,\n",
       "       -4.15929e-02, -1.84569e-01,  1.00327e-02,  7.79867e-02,\n",
       "       -8.93598e-03, -1.24291e-02,  7.18940e-03,  2.29086e-02,\n",
       "        3.88309e-02, -1.56786e-02, -2.38834e-02, -3.76936e-02,\n",
       "        3.78561e-02,  1.41148e-03,  2.40459e-02,  2.00653e-02,\n",
       "       -3.02199e-02, -1.12918e-02,  5.91399e-02, -4.02931e-02,\n",
       "       -4.15929e-02,  9.38278e-03,  1.16168e-02,  7.50622e-02,\n",
       "        7.99364e-02,  1.44600e-02,  4.14305e-02, -5.19912e-03,\n",
       "        1.24779e-01, -5.62154e-02, -4.74419e-02, -6.40141e-02,\n",
       "        1.01383e-01, -3.75311e-02,  7.67682e-03,  2.82702e-02,\n",
       "        4.11055e-02, -3.39567e-02, -9.42340e-02, -1.16980e-02,\n",
       "       -2.38834e-02,  2.96512e-03,  7.53872e-02,  1.75470e-02,\n",
       "       -1.04632e-01, -4.25678e-02, -2.33960e-02, -1.92530e-02,\n",
       "        7.31126e-02,  4.19179e-02, -7.34375e-02,  3.07073e-02,\n",
       "        6.56388e-02,  7.50622e-02, -2.25837e-02, -2.14464e-02,\n",
       "       -2.01466e-02, -1.58411e-02, -3.07073e-02,  3.78561e-02,\n",
       "       -2.32335e-02,  1.67347e-02,  1.37127e-01,  2.07965e-02,\n",
       "       -6.82384e-02,  8.22110e-02, -2.81077e-02,  2.64830e-02,\n",
       "        3.96433e-02,  9.58587e-03,  6.23894e-02,  6.85633e-02,\n",
       "       -2.07965e-02, -1.18280e-01, -1.15030e-01, -9.91081e-03,\n",
       "        5.13413e-02,  4.22428e-02, -9.55338e-02,  1.86031e-02,\n",
       "       -3.21695e-02,  3.00574e-02, -1.32415e-02, -9.78896e-03,\n",
       "        7.31126e-03,  7.89616e-02, -7.40874e-02,  4.28927e-02],\n",
       "      dtype=float32)"
      ]
     },
     "execution_count": 69,
     "metadata": {},
     "output_type": "execute_result"
    }
   ],
   "source": [
    "#\n",
    "# So, we can check the \"meaning\" of 'king', 'queen', 'snake', and 'python':\n",
    "#\n",
    "m.get_vector('snake')   # m.get_vector('queen')  m.get_vector('snake')   m.get_vector('king')\n",
    "\n",
    "# which are not very useful ... until we compare them to other meanings:"
   ]
  },
  {
   "cell_type": "markdown",
   "metadata": {},
   "source": [
    "#### <tt>similarity</tt>\n",
    "\n",
    "The model has a built-in similarity method:"
   ]
  },
  {
   "cell_type": "code",
   "execution_count": 70,
   "metadata": {},
   "outputs": [
    {
     "data": {
      "text/plain": [
       "0.66062915"
      ]
     },
     "execution_count": 70,
     "metadata": {},
     "output_type": "execute_result"
    }
   ],
   "source": [
    "# Let's see the built-in similarity method\n",
    "m.similarity('python','snake')   # should be .6606292...\n",
    "\n",
    "#"
   ]
  },
  {
   "cell_type": "markdown",
   "metadata": {},
   "source": [
    "###  hw8pr2 Task #1: &nbsp;&nbsp; Let's re-implement <tt>similarity</tt> to create/build intuition:\n",
    "\n",
    "This is an example to run - it's already implemented: "
   ]
  },
  {
   "cell_type": "code",
   "execution_count": 71,
   "metadata": {},
   "outputs": [],
   "source": [
    "# First, a couple of variable-assignment statements\n",
    "# These might start to feel disturbingly meta ...\n",
    "python = m.get_vector('python')\n",
    "snake = m.get_vector('snake')\n",
    "language = m.get_vector('language')\n",
    "code = m.get_vector('code')\n",
    "queen = m.get_vector('queen')"
   ]
  },
  {
   "cell_type": "code",
   "execution_count": 72,
   "metadata": {},
   "outputs": [
    {
     "name": "stdout",
     "output_type": "stream",
     "text": [
      "np.linalg.norm(python) = 1.0000002\n",
      "np.dot(python, snake) = 0.66062933\n"
     ]
    }
   ],
   "source": [
    "import numpy as np\n",
    "print(f\"{np.linalg.norm(python) = }\")  # this is the length of the vector - always 1, watch out for rounding\n",
    "\n",
    "# the dot product is available in the numpy library\n",
    "print(f\"{np.dot(python, snake) = }\")\n",
    "\n",
    "# This is exactly the built-in similarity:"
   ]
  },
  {
   "cell_type": "code",
   "execution_count": 76,
   "metadata": {},
   "outputs": [
    {
     "name": "stdout",
     "output_type": "stream",
     "text": [
      "...which is   48.65 degrees\n"
     ]
    }
   ],
   "source": [
    "# we can use np to find the angle, in degrees, between the two vectors :-)\n",
    "deg = np.degrees(np.arccos(0.66063))  # dot is cosine; converting from radians to degrees\n",
    "print(f\"...which is {deg:7.2f} degrees\")\n",
    "\n",
    "# for unit vectors, \"dot product\" is the same as the \"cosine similarity\"  \n",
    "#     which is the cos of the angle between the two vectors"
   ]
  },
  {
   "cell_type": "code",
   "execution_count": 77,
   "metadata": {},
   "outputs": [
    {
     "data": {
      "text/plain": [
       "0.66062915"
      ]
     },
     "execution_count": 77,
     "metadata": {},
     "output_type": "execute_result"
    }
   ],
   "source": [
    "# Let's again see the built-in similarity method:\n",
    "m.similarity('python','snake')   # should be the same .6606292..."
   ]
  },
  {
   "cell_type": "code",
   "execution_count": 79,
   "metadata": {},
   "outputs": [
    {
     "data": {
      "text/plain": [
       "0.33937084674835205"
      ]
     },
     "execution_count": 79,
     "metadata": {},
     "output_type": "execute_result"
    }
   ],
   "source": [
    "m.distance( 'python', 'snake' )   # The distance is 1 minus the similarity"
   ]
  },
  {
   "cell_type": "code",
   "execution_count": 80,
   "metadata": {},
   "outputs": [
    {
     "data": {
      "text/plain": [
       "0.9787417557090521"
      ]
     },
     "execution_count": 80,
     "metadata": {},
     "output_type": "execute_result"
    }
   ],
   "source": [
    "m.distance( 'python', 'coffee' )   # let's see..."
   ]
  },
  {
   "cell_type": "code",
   "execution_count": 81,
   "metadata": {},
   "outputs": [
    {
     "data": {
      "text/plain": [
       "0.021258244"
      ]
     },
     "execution_count": 81,
     "metadata": {},
     "output_type": "execute_result"
    }
   ],
   "source": [
    "m.similarity('python','coffee')"
   ]
  },
  {
   "attachments": {},
   "cell_type": "markdown",
   "metadata": {},
   "source": [
    "<br>\n",
    "\n",
    "###  hw8pr2 Task #2: exploring dataset bias\n",
    "\n",
    "With the cell below as a starting point, explore different similarities to find one or more additional example of \"dataset bias\"\n",
    "\n",
    "Include a cell explaining your example. Also, show how the dataset itself can _quantify_ the bias.\n",
    "\n",
    "Here's a first example:"
   ]
  },
  {
   "cell_type": "code",
   "execution_count": 39,
   "metadata": {},
   "outputs": [
    {
     "name": "stdout",
     "output_type": "stream",
     "text": [
      "similarity w 'woman':    0.090\n",
      "similarity w 'man':      0.126\n",
      "\n",
      "similarity w 'person':   0.223\n"
     ]
    }
   ],
   "source": [
    "# with similarity, the biases of the datset can show through: let's check \"programmer\" vs \"woman\" and \"man\"\n",
    "#\n",
    "simw = m.similarity(\"programmer\",\"woman\")   # president  programmer\n",
    "print(f\"similarity w 'woman':  {simw:7.3f}\")\n",
    "\n",
    "simm = m.similarity(\"programmer\",\"man\")     # president  programmer\n",
    "print(f\"similarity w 'man':    {simm:7.3f}\")\n",
    "\n",
    "# notice that the values provide a starting-point to _quantify_ the bias in the dataset\n",
    "# quantifying dataset bias is currently a very active area of research\n",
    "# it would also be possible to compare both of these with \n",
    "print()\n",
    "simprs = m.similarity(\"programmer\",\"person\")    # try it!\n",
    "print(f\"similarity w 'person': {simprs:7.3f}\")"
   ]
  },
  {
   "cell_type": "code",
   "execution_count": null,
   "metadata": {},
   "outputs": [],
   "source": [
    "#\n",
    "# the dataset will reflect the biases of the training data / source-texts  (6B tokens from Google News)\n",
    "#\n",
    "# for task#2, as you explore possibilities, see if there is a way for the similarity-scores to quantify the biases present...\n",
    "# \n",
    "# key constraint: lots of tokens are missing..."
   ]
  },
  {
   "attachments": {},
   "cell_type": "markdown",
   "metadata": {},
   "source": [
    "<br>\n",
    "\n",
    "#### Computing multiple similarities..."
   ]
  },
  {
   "cell_type": "code",
   "execution_count": 83,
   "metadata": {},
   "outputs": [
    {
     "name": "stdout",
     "output_type": "stream",
     "text": [
      "python_snake  similarity: 0.660629153251648\n",
      "python_coffee similarity: 0.021258244290947914\n",
      "snake_coffee  similarity: 0.07976286113262177\n"
     ]
    }
   ],
   "source": [
    "# Let's compare multiple similarities:\n",
    "\n",
    "python_snake = m.similarity('python','snake')\n",
    "python_coffee = m.similarity('python','coffee')\n",
    "snake_coffee = m.similarity('snake','coffee')\n",
    "\n",
    "print(f\"python_snake  similarity: {python_snake}\")   # try :4.2f after the variable for formatting\n",
    "print(f\"python_coffee similarity: {python_coffee}\")  # 4 characters wide, 2 places after the decimal point\n",
    "print(f\"snake_coffee  similarity: {snake_coffee}\")"
   ]
  },
  {
   "cell_type": "code",
   "execution_count": 84,
   "metadata": {},
   "outputs": [],
   "source": [
    "#\n",
    "# Let's define an \"odd-one-out\" from any collection of words, \n",
    "# simply by considering all possible similarities (and adding them up for each word)\n",
    "\n",
    "\"\"\"\n",
    "here, for example:\n",
    "\n",
    "python_snake  similarity: .66\n",
    "python_coffee similarity: .02\n",
    "snake_coffee  similarity: .08\n",
    "\n",
    "So, summing the similarities for each word separately:\n",
    "  python:  .66 + .02 == .68\n",
    "  coffee:  .08 + .02 == .10\n",
    "  snake:   .66 + .08 == .74\n",
    "\n",
    "+++ In this case, \"coffee\" is the odd one out  (intuitive, in some ways)\n",
    "\n",
    "\n",
    "# What do you think about python, serpent, snake?\n",
    "# or python, serpent, snake, code?\n",
    "\n",
    "\"\"\"\n",
    "None"
   ]
  },
  {
   "cell_type": "code",
   "execution_count": 85,
   "metadata": {},
   "outputs": [
    {
     "data": {
      "text/plain": [
       "['snake', 'serpent', 'python', 'code', 'ai', 'ml', 'programming']"
      ]
     },
     "execution_count": 85,
     "metadata": {},
     "output_type": "execute_result"
    }
   ],
   "source": [
    "# notice that the split function makes creating lists-of-words a bit easier\n",
    "initial_words = \"snake serpent python code ai ml programming\".split()\n",
    "initial_words"
   ]
  },
  {
   "cell_type": "code",
   "execution_count": null,
   "metadata": {},
   "outputs": [
    {
     "name": "stdout",
     "output_type": "stream",
     "text": [
      "similarity between python and snake:   0.66\n",
      "similarity between python and serpent:   0.45\n",
      "similarity between python and python:   1.00\n",
      "similarity between python and code:   0.11\n",
      "  __  ai  __ was not in the vocabulary\n",
      "similarity between python and ml:   0.08\n",
      "similarity between python and programming:   0.09\n",
      "LoS is [0.66062915, 0.44771376, 1.0, 0.10966148, 0.08480783, 0.09035954]\n",
      "LoW is ['snake', 'serpent', 'python', 'code', 'ml', 'programming']\n"
     ]
    }
   ],
   "source": [
    "#\n",
    "# here is a _single_ keyword, with similarities computed against every word w in initial_words\n",
    "key = 'python'\n",
    "\n",
    "LoS = []\n",
    "LoW = []\n",
    "for w in initial_words:\n",
    "    if w in m:  # m is the word, w present in the vocabulary?\n",
    "        similarity = m.similarity(key,w)\n",
    "        print(f\"similarity between {key} and {w}: {similarity:6.2f}\", )\n",
    "        LoS.append( similarity )\n",
    "        LoW.append( w )\n",
    "    else:\n",
    "        print(f\"  __  {w}  __ was not in the vocabulary\", )   # not every word will be present\n",
    "\n",
    "print(f\"LoS is {LoS}\")\n",
    "print(f\"LoW is {LoW}\")\n"
   ]
  },
  {
   "attachments": {},
   "cell_type": "markdown",
   "metadata": {},
   "source": [
    "<br>\n",
    "\n",
    "###  hw8pr1 task #3: computing the \"odd-one-out\"\n",
    "\n",
    "Adapting the above cell as a starting point, create a function that computes the \"odd one out\"\n",
    "\n",
    "That is, <tt>odd_one_out( LoW, m )</tt> should\n",
    "+ take in LoW, a list-of-words\n",
    "+ take in m, a gensim word-embedding model (of type KeyedVectors)\n",
    "+ computing the similarities of all pairs-of-words across the elements of LoW\n",
    "+ return the word with the lowest _sum_ across all of those similarities\n",
    "+ (don't include any words not in the vocabulary)\n",
    "\n",
    "There are other ways to compute \"overall dissimilarity.\"  \n",
    "+ For our purposes, this is a reasonable first approach.\n",
    "+ Below is a cell with a signature line to get started:\n",
    "\n",
    "When you have built this, test it with three new examples of your own design\n",
    "+ Be sure that at least one example contains at least five words\n",
    "+ How well do your examples work?\n",
    "<br>"
   ]
  },
  {
   "cell_type": "code",
   "execution_count": 93,
   "metadata": {},
   "outputs": [],
   "source": [
    "#\n",
    "# here is a signature line for odd_one_out (a starting point)\n",
    "#\n",
    "\n",
    "def odd_one_out( LoW, m ):\n",
    "    \"\"\" \n",
    "        odd_one_out should take in LoW, a list-of-words\n",
    "        odd_one_out also takes in m, a gensim word-embedding model (of type KeyedVectors)\n",
    "        and it should return the word, w, in LoW that is _least_ like all the others\n",
    "\n",
    "        The idea:  run a pairwise-comparison of all words!\n",
    "        Then find the sum of the dis-similarities (and return the one with the largest sum)\n",
    "    \"\"\"\n",
    "\n",
    "    similarity_sums = {}\n",
    "\n",
    "    for word in LoW:\n",
    "        if word not in m:\n",
    "            continue\n",
    "\n",
    "        total_similarity = 0\n",
    "        for other in LoW:\n",
    "            if other != word and other in m:\n",
    "                total_similarity += m.similarity(word, other)\n",
    "\n",
    "        similarity_sums[word] = total_similarity\n",
    "\n",
    "    if not similarity_sums:\n",
    "        print(\"None of the words were in the model.\")\n",
    "        return None\n",
    "\n",
    "    odd_word = min(similarity_sums, key=similarity_sums.get)\n",
    "    return odd_word"
   ]
  },
  {
   "cell_type": "code",
   "execution_count": null,
   "metadata": {},
   "outputs": [
    {
     "data": {
      "text/plain": [
       "'cat'"
      ]
     },
     "execution_count": 94,
     "metadata": {},
     "output_type": "execute_result"
    }
   ],
   "source": [
    "# example 1\n",
    "LoW = ['apple', 'banana', 'grapes', 'cat']\n",
    "odd_one_out(LoW, m)\n",
    "\n",
    "#\n",
    "# Successful, as the model was able to pick out cat, which is the odd one out of all the different types of fruit.\n",
    "#"
   ]
  },
  {
   "cell_type": "code",
   "execution_count": null,
   "metadata": {},
   "outputs": [
    {
     "data": {
      "text/plain": [
       "'green'"
      ]
     },
     "execution_count": 98,
     "metadata": {},
     "output_type": "execute_result"
    }
   ],
   "source": [
    "# example 2\n",
    "LoW = ['red', 'blue', 'purple', 'black','green']\n",
    "odd_one_out(LoW, m)\n",
    "\n",
    "#\n",
    "# Other, as the group of words were not more similar than other in any way, they are all just different colors.\n",
    "#"
   ]
  },
  {
   "cell_type": "code",
   "execution_count": null,
   "metadata": {},
   "outputs": [
    {
     "data": {
      "text/plain": [
       "'mushrooms'"
      ]
     },
     "execution_count": 104,
     "metadata": {},
     "output_type": "execute_result"
    }
   ],
   "source": [
    "# example 3\n",
    "LoW = ['redvelvet', 'vanilla', 'chocolate', 'mushrooms','peanutbutter']\n",
    "odd_one_out(LoW, m)\n",
    "\n",
    "#\n",
    "# Successful, as the model was able to pick out mushrooms, which is the odd one out of all the typical ice cream flavors.\n",
    "#"
   ]
  },
  {
   "cell_type": "code",
   "execution_count": null,
   "metadata": {},
   "outputs": [],
   "source": [
    "#\n",
    "# Create and run three examples - of at least 4 words each - for your odd_one_out function.\n",
    "# For example,\n",
    "#        LoW = \"apple banana cat pear\".split()\n",
    "#\n",
    "# Also, note if you would describe them as successful, unsuccessful, or \"other\" !"
   ]
  },
  {
   "attachments": {},
   "cell_type": "markdown",
   "metadata": {},
   "source": [
    "<br>\n",
    "\n",
    "####  A _geometric_ view of word-vectors..."
   ]
  },
  {
   "cell_type": "code",
   "execution_count": 106,
   "metadata": {},
   "outputs": [],
   "source": [
    "#\n",
    "# This is an alternative view of the data -- within a projection of word-embedding space itself\n",
    "# This is in 2d. A 3d version is here: https://www.cs.cmu.edu/~dst/WordEmbeddingDemo/index.html\n",
    "#\n",
    "# Let's see the word vectors in two dimensions!\n",
    "#\n",
    "def visualize_wordvecs(wordlist, model):\n",
    "    \"\"\" example of finding an outlier with word2vec and graphically \"\"\"\n",
    "    # \n",
    "    # Are all of the works in the model?\n",
    "    #\n",
    "    for w in wordlist:\n",
    "        if w not in model:\n",
    "            print(\"Aargh - the model does not contain\", w)\n",
    "            print(\"Stopping...\")\n",
    "            return\n",
    "    #\n",
    "    # Next, we use PCA, Principal Components Analysis, to toss out 298 dimensions!\n",
    "    # and create a scatterplot of the words...\n",
    "    #\n",
    "    # Intuitive description of PCA:   https://setosa.io/ev/principal-component-analysis/\n",
    "    #\n",
    "    from sklearn.decomposition import PCA\n",
    "    import matplotlib.pyplot as plt\n",
    "    import numpy\n",
    "\n",
    "    pca = PCA(n_components=2)             # 2 dimensions\n",
    "    pca_model = pca.fit(model.vectors)    # all 43,981 words with 300 numbers each!\n",
    "    LoM = [model.get_vector(w) for w in wordlist]   # list of models for each word w\n",
    "    \n",
    "    word_vectors = numpy.vstack(LoM)     # vstack creates a vertical column from a list\n",
    "    transformed_words = pca_model.transform(word_vectors)  # transform to our 2d space\n",
    "\n",
    "    # scatterplot\n",
    "    plt.subplots(figsize=(15,10))  # (18, 12)\n",
    "    plt.scatter(transformed_words[:,0],transformed_words[:,1])\n",
    "    \n",
    "    # This is matplotlib's code for _annotating_ graphs (yay!)\n",
    "    for i, word in enumerate(wordlist):\n",
    "        plt.annotate(word, (transformed_words[i,0], transformed_words[i,1]), size='large')\n",
    "        # it's possible to be more sophisticated, but this is ok for now\n",
    "\n",
    "    plt.show()\n",
    "    return"
   ]
  },
  {
   "cell_type": "code",
   "execution_count": 116,
   "metadata": {},
   "outputs": [
    {
     "data": {
      "image/png": "[encoded data removed]",
      "text/plain": [
       "<Figure size 1500x1000 with 1 Axes>"
      ]
     },
     "metadata": {},
     "output_type": "display_data"
    }
   ],
   "source": [
    "#\n",
    "# Example of calling visualize_wordvecs...\n",
    "#\n",
    "#LoW = \"breakfast lunch dinner coffee snake senate\".split()     #  cereal python, one two three four five twelve\n",
    "LoW = \"one two three four\".split() \n",
    "#LoW = \"breakfast lunch dinner\".split()  \n",
    "visualize_wordvecs(LoW, m)    "
   ]
  },
  {
   "attachments": {},
   "cell_type": "markdown",
   "metadata": {},
   "source": [
    "###  hw8pr1 task #4: &nbsp; Your task: &nbsp;&nbsp; Create two more examples...\n",
    "\n",
    "Using your own choice of words, create two more examples in the spirit of the ones above.\n",
    "\n",
    "Let's say, at least four words for each. More words welcome!"
   ]
  },
  {
   "cell_type": "markdown",
   "metadata": {},
   "source": [
    "<br>\n",
    "\n",
    "<br>\n",
    "\n",
    "<hr>\n",
    "\n",
    "<br>\n",
    "\n",
    "####  **Optional** &nbsp; Visualizing vocabulary similarities as a heat map\n",
    "\n",
    "The next cell begins the process of visualizing similarity as a heat map.\n",
    "+ (optional, ec) &nbsp; The challenge is to expand this into a full 2d visualization of similarities\n",
    "+ First, for our two sets of words...\n",
    "  + <tt>Keys = [ 'python', 'ruby', 'r', 'c', 'java', 'coffee' ]</tt> , along with\n",
    "  + <tt>initial_words = \"snake serpent python code ai ml programming\".split()</tt>\n",
    "+ Then, for two more sets of words -- of your own design:\n",
    "\n",
    "<br>"
   ]
  },
  {
   "cell_type": "code",
   "execution_count": 151,
   "metadata": {},
   "outputs": [
    {
     "name": "stdout",
     "output_type": "stream",
     "text": [
      "similarity between python and snake:   0.66\n",
      "similarity between python and serpent:   0.45\n",
      "similarity between python and python:   1.00\n",
      "similarity between python and code:   0.11\n",
      "  __  ai  __ was not in the vocabulary\n",
      "similarity between python and ml:   0.08\n",
      "similarity between python and programming:   0.09\n",
      "LoS is [0.66062915, 0.44771376, 1.0, 0.10966148, 0.08480783, 0.09035954]\n",
      "LoW is ['snake', 'serpent', 'python', 'code', 'ml', 'programming']\n"
     ]
    },
    {
     "data": {
      "text/plain": [
       "'Result:'"
      ]
     },
     "execution_count": 151,
     "metadata": {},
     "output_type": "execute_result"
    },
    {
     "data": {
      "image/png": "[encoded data removed]",
      "text/plain": [
       "<Figure size 1500x1000 with 1 Axes>"
      ]
     },
     "metadata": {},
     "output_type": "display_data"
    }
   ],
   "source": [
    "# Starting point for visualizing 2d similarity via a heat map\n",
    "\n",
    "import pandas as pd\n",
    "import matplotlib.pyplot as plt\n",
    "import seaborn as sns\n",
    "sns.set_theme(style=\"darkgrid\")\n",
    "\n",
    "# adaptation of the previous similarity-based code\n",
    "key = 'python'      # this is a _single_ word - the task is to loop over the list, perhaps named Keys\n",
    "LoS = []\n",
    "LoW = []\n",
    "for w in initial_words:\n",
    "    if w in m:  # is the word, w present in the vocabulary?\n",
    "        similarity = m.similarity(key,w)\n",
    "        print(f\"similarity between {key} and {w}: {similarity:6.2f}\", )\n",
    "        LoS.append( similarity )\n",
    "        LoW.append( w )\n",
    "    else:\n",
    "        print(f\"  __  {w}  __ was not in the vocabulary\", )   # not every word will be present\n",
    "\n",
    "print(f\"LoS is {LoS}\")\n",
    "print(f\"LoW is {LoW}\")\n",
    "\n",
    "my_data_list = [ LoS ]\n",
    "my_dataframe = pd.DataFrame(my_data_list, columns=LoW)\n",
    "\n",
    "\n",
    "# Draw a heatmap with the numeric values in each cell\n",
    "f, ax = plt.subplots(figsize=(15,10))  # (18, 12)\n",
    "sns.heatmap(data=my_dataframe, annot=True, fmt=\"4.2f\", linewidths=2, yticklabels=[\"python\"], square=True, cmap=\"Purples\", cbar=False, ax=ax)\n",
    "\n",
    "ylocs, ylabels = plt.yticks()\n",
    "plt.setp(ylabels, rotation=0, fontsize=15)\n",
    "xlocs, xlabels = plt.xticks()\n",
    "plt.setp(xlabels, rotation=70, fontsize=15)\n",
    "\"Result:\"\n",
    "\n",
    "# The goal is to output a square heatmap with all of the similarities plotted..."
   ]
  },
  {
   "cell_type": "markdown",
   "metadata": {},
   "source": [
    "<br>\n",
    "\n",
    "### More word-embedding geometry:  Analogies\n",
    "+ These are an introduction to the analogy problem in hw8 (see the google doc for more detail!)\n",
    "+ For the moment, we'll keep the examples and explorations in this notebook:"
   ]
  },
  {
   "cell_type": "code",
   "execution_count": 108,
   "metadata": {},
   "outputs": [
    {
     "data": {
      "text/plain": [
       "[('snake', 0.660629153251648),\n",
       " ('crocodile', 0.6591363549232483),\n",
       " ('alligator', 0.64216548204422),\n",
       " ('boa', 0.5617719292640686),\n",
       " ('constrictor', 0.5378887057304382),\n",
       " ('constrictors', 0.5356364846229553),\n",
       " ('snakes', 0.5345131754875183),\n",
       " ('anaconda', 0.5207394957542419),\n",
       " ('rabbit', 0.5074971318244934),\n",
       " ('tortoise', 0.5046288967132568)]"
      ]
     },
     "execution_count": 108,
     "metadata": {},
     "output_type": "execute_result"
    }
   ],
   "source": [
    "#\n",
    "# Let's take a look at some additional \"geometry\" of word-meanings (cool!)\n",
    "#\n",
    "\n",
    "m.most_similar(positive='python', topn=10)  # negative='snake'"
   ]
  },
  {
   "cell_type": "code",
   "execution_count": 109,
   "metadata": {},
   "outputs": [
    {
     "data": {
      "text/plain": [
       "[('Java', 0.22111037373542786),\n",
       " ('Dior', 0.2102828174829483),\n",
       " ('Notte', 0.2078552097082138),\n",
       " ('os', 0.19944755733013153),\n",
       " ('frock', 0.19739562273025513),\n",
       " ('blouse', 0.19704443216323853),\n",
       " ('plaids', 0.19696447253227234),\n",
       " ('blazer', 0.1878664493560791),\n",
       " ('gown', 0.17895956337451935),\n",
       " ('Gala', 0.17834942042827606)]"
      ]
     },
     "execution_count": 109,
     "metadata": {},
     "output_type": "execute_result"
    }
   ],
   "source": [
    "#\n",
    "# With this most_similar method, we can \"subtract\" vectors, too:\n",
    "#\n",
    "\n",
    "m.most_similar(positive='python', negative='snake', topn=10) "
   ]
  },
  {
   "cell_type": "code",
   "execution_count": 110,
   "metadata": {},
   "outputs": [
    {
     "data": {
      "text/plain": [
       "[('queen', 0.7118193507194519),\n",
       " ('monarch', 0.6189674139022827),\n",
       " ('princess', 0.5902430415153503),\n",
       " ('prince', 0.5377321243286133),\n",
       " ('kings', 0.5236843228340149),\n",
       " ('queens', 0.5181135535240173),\n",
       " ('throne', 0.5005807280540466),\n",
       " ('royal', 0.4938204884529114),\n",
       " ('ruler', 0.49092739820480347),\n",
       " ('princes', 0.481081485748291)]"
      ]
     },
     "execution_count": 110,
     "metadata": {},
     "output_type": "execute_result"
    }
   ],
   "source": [
    "#\n",
    "# Here, see if you can determine the analogy that is being computed using word embeddings:\n",
    "# \n",
    "\n",
    "m.most_similar(positive=['king','woman'], negative=['man'], topn=10) "
   ]
  },
  {
   "cell_type": "code",
   "execution_count": 111,
   "metadata": {},
   "outputs": [
    {
     "name": "stdout",
     "output_type": "stream",
     "text": [
      "Testing most_similar on the king - man + woman example...\n"
     ]
    },
    {
     "data": {
      "text/plain": [
       "[('Milan', 0.7222139835357666),\n",
       " ('Rome', 0.7028312683105469),\n",
       " ('Italian', 0.5911272168159485),\n",
       " ('Tuscany', 0.5632814168930054),\n",
       " ('Bologna', 0.5608358383178711),\n",
       " ('Sicily', 0.559638261795044),\n",
       " ('Rimini', 0.5162100195884705),\n",
       " ('Venice', 0.5141453146934509),\n",
       " ('Turin', 0.5098267197608948),\n",
       " ('Budapest', 0.505317747592926)]"
      ]
     },
     "execution_count": 111,
     "metadata": {},
     "output_type": "execute_result"
    }
   ],
   "source": [
    "# \n",
    "# This problem is about building and testing analogies...\n",
    "# \n",
    "# This function has a hard-coded set of words, i.e., 'woman', 'king', and 'man'\n",
    "# Your tasks:\n",
    "#      + add inputs to the function \n",
    "#\n",
    "def test_most_similar(m):\n",
    "    \"\"\" example of most_similar \"\"\"\n",
    "    print(\"Testing most_similar on the king - man + woman example...\")\n",
    "    #results = m.most_similar(positive=['woman', 'king'], negative=['man'], topn=10) # topn == # of results\n",
    "    results = m.most_similar(positive=['Italy', 'Paris'], negative=['France'], topn=10) # topn == # of results\n",
    "    return results\n",
    "\n",
    "hard_coded_results = test_most_similar(m)\n",
    "hard_coded_results"
   ]
  },
  {
   "cell_type": "markdown",
   "metadata": {},
   "source": [
    "###  hw8pr1 task #5: &nbsp; Your task: &nbsp;&nbsp; two _analogy_ functions\n",
    "\n",
    "#### First, write `generate_analogy(word1, word2, word3, m)`  \n",
    "\n",
    "Create a function `generate_analogy(word1, word2, word3, m)` that \n",
    "+ first checks if all three words, `word1`, `word2`, `word3` are in the model `m`\n",
    "+ if not, it prints an error warning about this\n",
    "+ if so, it returns `word4`, where `word1` : `word2` :: `word3` : `word4`\n",
    "+ (This is using \"analogy notation\"!)\n",
    "+ Warning:  the ordering of the words in the most_similar call is DIFFERENT (watch out!)\n",
    "\n",
    "Be sure to test this on a few examples to find at least one that works well -- and one that does not!\n",
    "\n",
    "<br>\n",
    "<hr>\n",
    "<br>\n"
   ]
  },
  {
   "cell_type": "code",
   "execution_count": null,
   "metadata": {},
   "outputs": [],
   "source": [
    "#\n",
    "# here is a starting point for generate_analogy:\n",
    "\n",
    "def generate_analogy(w1, w2, w3, m):\n",
    "    \"\"\"\n",
    "    Solves the analogy: w1 is to w2 as w3 is to ??\n",
    "    Returns the best guess word from the model m.\n",
    "    \"\"\"\n",
    "    for w in [w1, w2, w3]:\n",
    "        if w not in m:\n",
    "            print(f\"'{w}' is not in the model.\")\n",
    "            return None\n",
    "\n",
    "    result = m.most_similar(positive=[w2, w3], negative=[w1], topn=1)\n",
    "\n",
    "    # Return the best match (word only)\n",
    "    return result[0][0]"
   ]
  },
  {
   "cell_type": "code",
   "execution_count": 118,
   "metadata": {},
   "outputs": [
    {
     "data": {
      "text/plain": [
       "'queen'"
      ]
     },
     "execution_count": 118,
     "metadata": {},
     "output_type": "execute_result"
    }
   ],
   "source": [
    "#\n",
    "# be sure to test -- and show off some of your own that work (and some that don't)\n",
    "#\n",
    "\n",
    "generate_analogy(\"man\", \"king\", \"woman\", m)  \n",
    "# generate_analogy(\"Germany\", \"Berlin\", \"France\", m)"
   ]
  },
  {
   "cell_type": "code",
   "execution_count": 119,
   "metadata": {},
   "outputs": [
    {
     "data": {
      "text/plain": [
       "'swimming'"
      ]
     },
     "execution_count": 119,
     "metadata": {},
     "output_type": "execute_result"
    }
   ],
   "source": [
    "generate_analogy(\"walk\", \"walking\", \"swim\", m)"
   ]
  },
  {
   "cell_type": "code",
   "execution_count": 122,
   "metadata": {},
   "outputs": [
    {
     "name": "stdout",
     "output_type": "stream",
     "text": [
      "'taco' is not in the model.\n"
     ]
    }
   ],
   "source": [
    "generate_analogy(\"sushi\", \"Japan\", \"taco\", m) # fail?"
   ]
  },
  {
   "cell_type": "markdown",
   "metadata": {},
   "source": [
    "#### Then, write `check_analogy(word1, word2, word3, word4, m)`\n",
    "+ This should return a \"score\" on how well the word2vec model `m` does at solving the analogy provided, i.e., \n",
    "  + `word1` : `word2` :: `word3` : `word4`\n",
    "+ that is, it should determine where word4 appears in the top 100 (use topn=100) most-similar words\n",
    "+ if it _doens't_ appear in the top-100, it should give a score of 0\n",
    "+ if it _does_ appear, it should give a score between 1 and 100, but\n",
    "  + a score of 100 means a perfect score. \n",
    "  + A score of 1 means that `word4` was the 100th in the list, which is index 99\n",
    "+ Try it out!   \n",
    "  + `check_analogy( \"man\", \"king\", \"woman\", \"queen\", m ) -> 100` <br>\n",
    "  + `check_analogy( \"woman\", \"man\", \"bicycle\", \"fish\", m ) -> 0` <br>\n",
    "  + `check_analogy( \"woman\", \"man\", \"bicycle\", \"pedestrian\", m ) -> 96` <br>\n",
    "\n",
    "And, again be sure to find at least four of your own `check_analogy` examples:\n",
    "  + at least one in the \"top quartile\" (75% to 100%) \n",
    "  + at least one in the \"next quartile\" (50% to 75%) \n",
    "  + at least one in the \"next quartile\" (25% to 50%) \n",
    "  + at least one in the \"bottom quartile\" (0% to 25%) "
   ]
  },
  {
   "cell_type": "code",
   "execution_count": 171,
   "metadata": {},
   "outputs": [],
   "source": [
    "#\n",
    "# your check_analogy function\n",
    "#\n",
    "def check_analogy(w1, w2, w3, w4, m):\n",
    "  \n",
    "    for w in [w1, w2, w3, w4]:\n",
    "        if w not in m:\n",
    "            print(f\"'{w}' not in the model.\")\n",
    "            return 0\n",
    "\n",
    "    try:\n",
    "        results = m.most_similar(positive=[w2, w3], negative=[w1], topn=100)\n",
    "    except KeyError:\n",
    "        return 0\n",
    "\n",
    "    for rank, (word, _) in enumerate(results):\n",
    "        if word == w4:\n",
    "            return 100 - rank  # Higher score for higher ranking\n",
    "\n",
    "    return 0  # Not found in top 100\n"
   ]
  },
  {
   "cell_type": "code",
   "execution_count": 259,
   "metadata": {},
   "outputs": [
    {
     "name": "stdout",
     "output_type": "stream",
     "text": [
      "Top quartile: 100\n",
      "Second quartile: 69\n",
      "Third quartile: 35\n",
      "Bottom quartile: 15\n"
     ]
    }
   ],
   "source": [
    "print(\"Top quartile:\", check_analogy(\"man\", \"king\", \"woman\", \"queen\", m))\n",
    "print(\"Second quartile:\", check_analogy(\"music\", \"guitar\", \"painting\", \"canvas\", m))\n",
    "print(\"Third quartile:\", check_analogy(\"fruit\", \"flower\", \"stump\", \"tree\", m))\n",
    "print(\"Bottom quartile:\", check_analogy( \"fall\", \"roast\", \"winter\", \"soup\", m ))\n"
   ]
  },
  {
   "cell_type": "code",
   "execution_count": null,
   "metadata": {},
   "outputs": [],
   "source": [
    "# completed with jen lim"
   ]
  }
 ],
 "metadata": {
  "kernelspec": {
   "display_name": "Python 3",
   "language": "python",
   "name": "python3"
  },
  "language_info": {
   "codemirror_mode": {
    "name": "ipython",
    "version": 3
   },
   "file_extension": ".py",
   "mimetype": "text/x-python",
   "name": "python",
   "nbconvert_exporter": "python",
   "pygments_lexer": "ipython3",
   "version": "3.13.2"
  }
 },
 "nbformat": 4,
 "nbformat_minor": 2
}
