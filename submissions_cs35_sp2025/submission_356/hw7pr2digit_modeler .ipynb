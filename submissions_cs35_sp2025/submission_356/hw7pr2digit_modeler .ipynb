{
 "cells": [
  {
   "attachments": {},
   "cell_type": "markdown",
   "metadata": {},
   "source": [
    "<br>\n",
    "\n",
    "###   <font color=\"Coral\">hw7pr2digits_modeler</font>\n",
    "+ digits clasification -- and regression -- via NNets\n",
    "\n",
    "Feel free to re-use your previous digits_cleaned.csv file \n"
   ]
  },
  {
   "attachments": {},
   "cell_type": "markdown",
   "metadata": {},
   "source": [
    "### First, use the iris example to create a digit-predicting NNet\n",
    "\n",
    "This is similar to the past two digits challenges, hw5 and hw6\n",
    "\n",
    "**However**, because we're using NNets, you'll need to\n",
    "+ create TEN categorical variables. You can use just one ``get_dummies`` pandas call\n",
    "+ use a SCALER to make sure the network can, in a fair way, \"hear\" all of the inputs "
   ]
  },
  {
   "cell_type": "code",
   "execution_count": 2,
   "metadata": {},
   "outputs": [],
   "source": [
    "import numpy as np      # numpy is Python's \"array\" library\n",
    "import pandas as pd     # Pandas is Python's \"data\" library (\"dataframe\" == spreadsheet)\n",
    "import matplotlib.pyplot as plt"
   ]
  },
  {
   "cell_type": "code",
   "execution_count": 3,
   "metadata": {},
   "outputs": [
    {
     "name": "stdout",
     "output_type": "stream",
     "text": [
      "digits_cleaned.csv : file read into a pandas dataframe.\n"
     ]
    }
   ],
   "source": [
    "filename = 'digits_cleaned.csv'\n",
    "df_tidy = pd.read_csv(filename)      # encoding = \"utf-8\", \"latin1\"\n",
    "print(f\"{filename} : file read into a pandas dataframe.\")"
   ]
  },
  {
   "cell_type": "code",
   "execution_count": 4,
   "metadata": {},
   "outputs": [
    {
     "name": "stdout",
     "output_type": "stream",
     "text": [
      "df_tidy.shape is (1768, 65)\n",
      "\n",
      "<class 'pandas.core.frame.DataFrame'>\n",
      "RangeIndex: 1768 entries, 0 to 1767\n",
      "Data columns (total 65 columns):\n",
      " #   Column        Non-Null Count  Dtype\n",
      "---  ------        --------------  -----\n",
      " 0   pix0          1768 non-null   int64\n",
      " 1   pix1          1768 non-null   int64\n",
      " 2   pix2          1768 non-null   int64\n",
      " 3   pix3          1768 non-null   int64\n",
      " 4   pix4          1768 non-null   int64\n",
      " 5   pix5          1768 non-null   int64\n",
      " 6   pix6          1768 non-null   int64\n",
      " 7   pix7          1768 non-null   int64\n",
      " 8   pix8          1768 non-null   int64\n",
      " 9   pix9          1768 non-null   int64\n",
      " 10  pix10         1768 non-null   int64\n",
      " 11  pix11         1768 non-null   int64\n",
      " 12  pix12         1768 non-null   int64\n",
      " 13  pix13         1768 non-null   int64\n",
      " 14  pix14         1768 non-null   int64\n",
      " 15  pix15         1768 non-null   int64\n",
      " 16  pix16         1768 non-null   int64\n",
      " 17  pix17         1768 non-null   int64\n",
      " 18  pix18         1768 non-null   int64\n",
      " 19  pix19         1768 non-null   int64\n",
      " 20  pix20         1768 non-null   int64\n",
      " 21  pix21         1768 non-null   int64\n",
      " 22  pix22         1768 non-null   int64\n",
      " 23  pix23         1768 non-null   int64\n",
      " 24  pix24         1768 non-null   int64\n",
      " 25  pix25         1768 non-null   int64\n",
      " 26  pix26         1768 non-null   int64\n",
      " 27  pix27         1768 non-null   int64\n",
      " 28  pix28         1768 non-null   int64\n",
      " 29  pix29         1768 non-null   int64\n",
      " 30  pix30         1768 non-null   int64\n",
      " 31  pix31         1768 non-null   int64\n",
      " 32  pix32         1768 non-null   int64\n",
      " 33  pix33         1768 non-null   int64\n",
      " 34  pix34         1768 non-null   int64\n",
      " 35  pix35         1768 non-null   int64\n",
      " 36  pix36         1768 non-null   int64\n",
      " 37  pix37         1768 non-null   int64\n",
      " 38  pix38         1768 non-null   int64\n",
      " 39  pix39         1768 non-null   int64\n",
      " 40  pix40         1768 non-null   int64\n",
      " 41  pix41         1768 non-null   int64\n",
      " 42  pix42         1768 non-null   int64\n",
      " 43  pix43         1768 non-null   int64\n",
      " 44  pix44         1768 non-null   int64\n",
      " 45  pix45         1768 non-null   int64\n",
      " 46  pix46         1768 non-null   int64\n",
      " 47  pix47         1768 non-null   int64\n",
      " 48  pix48         1768 non-null   int64\n",
      " 49  pix49         1768 non-null   int64\n",
      " 50  pix50         1768 non-null   int64\n",
      " 51  pix51         1768 non-null   int64\n",
      " 52  pix52         1768 non-null   int64\n",
      " 53  pix53         1768 non-null   int64\n",
      " 54  pix54         1768 non-null   int64\n",
      " 55  pix55         1768 non-null   int64\n",
      " 56  pix56         1768 non-null   int64\n",
      " 57  pix57         1768 non-null   int64\n",
      " 58  pix58         1768 non-null   int64\n",
      " 59  pix59         1768 non-null   int64\n",
      " 60  pix60         1768 non-null   int64\n",
      " 61  pix61         1768 non-null   int64\n",
      " 62  pix62         1768 non-null   int64\n",
      " 63  pix63         1768 non-null   int64\n",
      " 64  actual_digit  1768 non-null   int64\n",
      "dtypes: int64(65)\n",
      "memory usage: 897.9 KB\n"
     ]
    },
    {
     "data": {
      "text/html": [
       "<div>\n",
       "<style scoped>\n",
       "    .dataframe tbody tr th:only-of-type {\n",
       "        vertical-align: middle;\n",
       "    }\n",
       "\n",
       "    .dataframe tbody tr th {\n",
       "        vertical-align: top;\n",
       "    }\n",
       "\n",
       "    .dataframe thead th {\n",
       "        text-align: right;\n",
       "    }\n",
       "</style>\n",
       "<table border=\"1\" class=\"dataframe\">\n",
       "  <thead>\n",
       "    <tr style=\"text-align: right;\">\n",
       "      <th></th>\n",
       "      <th>pix0</th>\n",
       "      <th>pix1</th>\n",
       "      <th>pix2</th>\n",
       "      <th>pix3</th>\n",
       "      <th>pix4</th>\n",
       "      <th>pix5</th>\n",
       "      <th>pix6</th>\n",
       "      <th>pix7</th>\n",
       "      <th>pix8</th>\n",
       "      <th>pix9</th>\n",
       "      <th>...</th>\n",
       "      <th>pix55</th>\n",
       "      <th>pix56</th>\n",
       "      <th>pix57</th>\n",
       "      <th>pix58</th>\n",
       "      <th>pix59</th>\n",
       "      <th>pix60</th>\n",
       "      <th>pix61</th>\n",
       "      <th>pix62</th>\n",
       "      <th>pix63</th>\n",
       "      <th>actual_digit</th>\n",
       "    </tr>\n",
       "  </thead>\n",
       "  <tbody>\n",
       "    <tr>\n",
       "      <th>0</th>\n",
       "      <td>0</td>\n",
       "      <td>0</td>\n",
       "      <td>9</td>\n",
       "      <td>14</td>\n",
       "      <td>8</td>\n",
       "      <td>1</td>\n",
       "      <td>0</td>\n",
       "      <td>0</td>\n",
       "      <td>0</td>\n",
       "      <td>0</td>\n",
       "      <td>...</td>\n",
       "      <td>0</td>\n",
       "      <td>0</td>\n",
       "      <td>0</td>\n",
       "      <td>11</td>\n",
       "      <td>16</td>\n",
       "      <td>15</td>\n",
       "      <td>11</td>\n",
       "      <td>1</td>\n",
       "      <td>0</td>\n",
       "      <td>8</td>\n",
       "    </tr>\n",
       "    <tr>\n",
       "      <th>1</th>\n",
       "      <td>0</td>\n",
       "      <td>0</td>\n",
       "      <td>11</td>\n",
       "      <td>12</td>\n",
       "      <td>0</td>\n",
       "      <td>0</td>\n",
       "      <td>0</td>\n",
       "      <td>0</td>\n",
       "      <td>0</td>\n",
       "      <td>2</td>\n",
       "      <td>...</td>\n",
       "      <td>0</td>\n",
       "      <td>0</td>\n",
       "      <td>0</td>\n",
       "      <td>9</td>\n",
       "      <td>12</td>\n",
       "      <td>13</td>\n",
       "      <td>3</td>\n",
       "      <td>0</td>\n",
       "      <td>0</td>\n",
       "      <td>9</td>\n",
       "    </tr>\n",
       "    <tr>\n",
       "      <th>2</th>\n",
       "      <td>0</td>\n",
       "      <td>0</td>\n",
       "      <td>1</td>\n",
       "      <td>9</td>\n",
       "      <td>15</td>\n",
       "      <td>11</td>\n",
       "      <td>0</td>\n",
       "      <td>0</td>\n",
       "      <td>0</td>\n",
       "      <td>0</td>\n",
       "      <td>...</td>\n",
       "      <td>0</td>\n",
       "      <td>0</td>\n",
       "      <td>0</td>\n",
       "      <td>1</td>\n",
       "      <td>10</td>\n",
       "      <td>13</td>\n",
       "      <td>3</td>\n",
       "      <td>0</td>\n",
       "      <td>0</td>\n",
       "      <td>0</td>\n",
       "    </tr>\n",
       "    <tr>\n",
       "      <th>3</th>\n",
       "      <td>0</td>\n",
       "      <td>0</td>\n",
       "      <td>0</td>\n",
       "      <td>0</td>\n",
       "      <td>14</td>\n",
       "      <td>13</td>\n",
       "      <td>1</td>\n",
       "      <td>0</td>\n",
       "      <td>0</td>\n",
       "      <td>0</td>\n",
       "      <td>...</td>\n",
       "      <td>0</td>\n",
       "      <td>0</td>\n",
       "      <td>0</td>\n",
       "      <td>0</td>\n",
       "      <td>1</td>\n",
       "      <td>13</td>\n",
       "      <td>16</td>\n",
       "      <td>1</td>\n",
       "      <td>0</td>\n",
       "      <td>1</td>\n",
       "    </tr>\n",
       "    <tr>\n",
       "      <th>4</th>\n",
       "      <td>0</td>\n",
       "      <td>0</td>\n",
       "      <td>5</td>\n",
       "      <td>12</td>\n",
       "      <td>1</td>\n",
       "      <td>0</td>\n",
       "      <td>0</td>\n",
       "      <td>0</td>\n",
       "      <td>0</td>\n",
       "      <td>0</td>\n",
       "      <td>...</td>\n",
       "      <td>2</td>\n",
       "      <td>0</td>\n",
       "      <td>0</td>\n",
       "      <td>3</td>\n",
       "      <td>11</td>\n",
       "      <td>8</td>\n",
       "      <td>13</td>\n",
       "      <td>12</td>\n",
       "      <td>4</td>\n",
       "      <td>2</td>\n",
       "    </tr>\n",
       "  </tbody>\n",
       "</table>\n",
       "<p>5 rows × 65 columns</p>\n",
       "</div>"
      ],
      "text/plain": [
       "   pix0  pix1  pix2  pix3  pix4  pix5  pix6  pix7  pix8  pix9  ...  pix55  \\\n",
       "0     0     0     9    14     8     1     0     0     0     0  ...      0   \n",
       "1     0     0    11    12     0     0     0     0     0     2  ...      0   \n",
       "2     0     0     1     9    15    11     0     0     0     0  ...      0   \n",
       "3     0     0     0     0    14    13     1     0     0     0  ...      0   \n",
       "4     0     0     5    12     1     0     0     0     0     0  ...      2   \n",
       "\n",
       "   pix56  pix57  pix58  pix59  pix60  pix61  pix62  pix63  actual_digit  \n",
       "0      0      0     11     16     15     11      1      0             8  \n",
       "1      0      0      9     12     13      3      0      0             9  \n",
       "2      0      0      1     10     13      3      0      0             0  \n",
       "3      0      0      0      1     13     16      1      0             1  \n",
       "4      0      0      3     11      8     13     12      4             2  \n",
       "\n",
       "[5 rows x 65 columns]"
      ]
     },
     "execution_count": 4,
     "metadata": {},
     "output_type": "execute_result"
    }
   ],
   "source": [
    "print(f\"df_tidy.shape is {df_tidy.shape}\\n\")\n",
    "df_tidy.info()\n",
    "df_tidy.head()"
   ]
  },
  {
   "cell_type": "code",
   "execution_count": 7,
   "metadata": {},
   "outputs": [
    {
     "name": "stdout",
     "output_type": "stream",
     "text": [
      "   pix0  pix1  pix2  pix3  pix4  pix5  pix6  pix7  pix8  pix9  ...   is_0  \\\n",
      "0     0     0     9    14     8     1     0     0     0     0  ...  False   \n",
      "1     0     0    11    12     0     0     0     0     0     2  ...  False   \n",
      "2     0     0     1     9    15    11     0     0     0     0  ...   True   \n",
      "3     0     0     0     0    14    13     1     0     0     0  ...  False   \n",
      "4     0     0     5    12     1     0     0     0     0     0  ...  False   \n",
      "\n",
      "    is_1   is_2   is_3   is_4   is_5   is_6   is_7   is_8   is_9  \n",
      "0  False  False  False  False  False  False  False   True  False  \n",
      "1  False  False  False  False  False  False  False  False   True  \n",
      "2  False  False  False  False  False  False  False  False  False  \n",
      "3   True  False  False  False  False  False  False  False  False  \n",
      "4  False   True  False  False  False  False  False  False  False  \n",
      "\n",
      "[5 rows x 74 columns]\n"
     ]
    }
   ],
   "source": [
    "df_tidy_cat = pd.get_dummies(data=df_tidy, prefix=\"is\", columns=['actual_digit'])\n",
    "print(df_tidy_cat.head())"
   ]
  },
  {
   "cell_type": "code",
   "execution_count": 8,
   "metadata": {},
   "outputs": [
    {
     "data": {
      "text/html": [
       "<div>\n",
       "<style scoped>\n",
       "    .dataframe tbody tr th:only-of-type {\n",
       "        vertical-align: middle;\n",
       "    }\n",
       "\n",
       "    .dataframe tbody tr th {\n",
       "        vertical-align: top;\n",
       "    }\n",
       "\n",
       "    .dataframe thead th {\n",
       "        text-align: right;\n",
       "    }\n",
       "</style>\n",
       "<table border=\"1\" class=\"dataframe\">\n",
       "  <thead>\n",
       "    <tr style=\"text-align: right;\">\n",
       "      <th></th>\n",
       "      <th>pix0</th>\n",
       "      <th>pix1</th>\n",
       "      <th>pix2</th>\n",
       "      <th>pix3</th>\n",
       "      <th>pix4</th>\n",
       "      <th>pix5</th>\n",
       "      <th>pix6</th>\n",
       "      <th>pix7</th>\n",
       "      <th>pix8</th>\n",
       "      <th>pix9</th>\n",
       "      <th>...</th>\n",
       "      <th>is_0</th>\n",
       "      <th>is_1</th>\n",
       "      <th>is_2</th>\n",
       "      <th>is_3</th>\n",
       "      <th>is_4</th>\n",
       "      <th>is_5</th>\n",
       "      <th>is_6</th>\n",
       "      <th>is_7</th>\n",
       "      <th>is_8</th>\n",
       "      <th>is_9</th>\n",
       "    </tr>\n",
       "  </thead>\n",
       "  <tbody>\n",
       "    <tr>\n",
       "      <th>0</th>\n",
       "      <td>0</td>\n",
       "      <td>0</td>\n",
       "      <td>9</td>\n",
       "      <td>14</td>\n",
       "      <td>8</td>\n",
       "      <td>1</td>\n",
       "      <td>0</td>\n",
       "      <td>0</td>\n",
       "      <td>0</td>\n",
       "      <td>0</td>\n",
       "      <td>...</td>\n",
       "      <td>False</td>\n",
       "      <td>False</td>\n",
       "      <td>False</td>\n",
       "      <td>False</td>\n",
       "      <td>False</td>\n",
       "      <td>False</td>\n",
       "      <td>False</td>\n",
       "      <td>False</td>\n",
       "      <td>True</td>\n",
       "      <td>False</td>\n",
       "    </tr>\n",
       "    <tr>\n",
       "      <th>1</th>\n",
       "      <td>0</td>\n",
       "      <td>0</td>\n",
       "      <td>11</td>\n",
       "      <td>12</td>\n",
       "      <td>0</td>\n",
       "      <td>0</td>\n",
       "      <td>0</td>\n",
       "      <td>0</td>\n",
       "      <td>0</td>\n",
       "      <td>2</td>\n",
       "      <td>...</td>\n",
       "      <td>False</td>\n",
       "      <td>False</td>\n",
       "      <td>False</td>\n",
       "      <td>False</td>\n",
       "      <td>False</td>\n",
       "      <td>False</td>\n",
       "      <td>False</td>\n",
       "      <td>False</td>\n",
       "      <td>False</td>\n",
       "      <td>True</td>\n",
       "    </tr>\n",
       "    <tr>\n",
       "      <th>2</th>\n",
       "      <td>0</td>\n",
       "      <td>0</td>\n",
       "      <td>1</td>\n",
       "      <td>9</td>\n",
       "      <td>15</td>\n",
       "      <td>11</td>\n",
       "      <td>0</td>\n",
       "      <td>0</td>\n",
       "      <td>0</td>\n",
       "      <td>0</td>\n",
       "      <td>...</td>\n",
       "      <td>True</td>\n",
       "      <td>False</td>\n",
       "      <td>False</td>\n",
       "      <td>False</td>\n",
       "      <td>False</td>\n",
       "      <td>False</td>\n",
       "      <td>False</td>\n",
       "      <td>False</td>\n",
       "      <td>False</td>\n",
       "      <td>False</td>\n",
       "    </tr>\n",
       "    <tr>\n",
       "      <th>3</th>\n",
       "      <td>0</td>\n",
       "      <td>0</td>\n",
       "      <td>0</td>\n",
       "      <td>0</td>\n",
       "      <td>14</td>\n",
       "      <td>13</td>\n",
       "      <td>1</td>\n",
       "      <td>0</td>\n",
       "      <td>0</td>\n",
       "      <td>0</td>\n",
       "      <td>...</td>\n",
       "      <td>False</td>\n",
       "      <td>True</td>\n",
       "      <td>False</td>\n",
       "      <td>False</td>\n",
       "      <td>False</td>\n",
       "      <td>False</td>\n",
       "      <td>False</td>\n",
       "      <td>False</td>\n",
       "      <td>False</td>\n",
       "      <td>False</td>\n",
       "    </tr>\n",
       "    <tr>\n",
       "      <th>4</th>\n",
       "      <td>0</td>\n",
       "      <td>0</td>\n",
       "      <td>5</td>\n",
       "      <td>12</td>\n",
       "      <td>1</td>\n",
       "      <td>0</td>\n",
       "      <td>0</td>\n",
       "      <td>0</td>\n",
       "      <td>0</td>\n",
       "      <td>0</td>\n",
       "      <td>...</td>\n",
       "      <td>False</td>\n",
       "      <td>False</td>\n",
       "      <td>True</td>\n",
       "      <td>False</td>\n",
       "      <td>False</td>\n",
       "      <td>False</td>\n",
       "      <td>False</td>\n",
       "      <td>False</td>\n",
       "      <td>False</td>\n",
       "      <td>False</td>\n",
       "    </tr>\n",
       "  </tbody>\n",
       "</table>\n",
       "<p>5 rows × 74 columns</p>\n",
       "</div>"
      ],
      "text/plain": [
       "   pix0  pix1  pix2  pix3  pix4  pix5  pix6  pix7  pix8  pix9  ...   is_0  \\\n",
       "0     0     0     9    14     8     1     0     0     0     0  ...  False   \n",
       "1     0     0    11    12     0     0     0     0     0     2  ...  False   \n",
       "2     0     0     1     9    15    11     0     0     0     0  ...   True   \n",
       "3     0     0     0     0    14    13     1     0     0     0  ...  False   \n",
       "4     0     0     5    12     1     0     0     0     0     0  ...  False   \n",
       "\n",
       "    is_1   is_2   is_3   is_4   is_5   is_6   is_7   is_8   is_9  \n",
       "0  False  False  False  False  False  False  False   True  False  \n",
       "1  False  False  False  False  False  False  False  False   True  \n",
       "2  False  False  False  False  False  False  False  False  False  \n",
       "3   True  False  False  False  False  False  False  False  False  \n",
       "4  False   True  False  False  False  False  False  False  False  \n",
       "\n",
       "[5 rows x 74 columns]"
      ]
     },
     "execution_count": 8,
     "metadata": {},
     "output_type": "execute_result"
    }
   ],
   "source": [
    "df_model1 = df_tidy_cat.copy()\n",
    "df_model1.head()"
   ]
  },
  {
   "cell_type": "code",
   "execution_count": 9,
   "metadata": {},
   "outputs": [
    {
     "name": "stdout",
     "output_type": "stream",
     "text": [
      "COLUMNS is Index(['pix0', 'pix1', 'pix2', 'pix3', 'pix4', 'pix5', 'pix6', 'pix7', 'pix8',\n",
      "       'pix9', 'pix10', 'pix11', 'pix12', 'pix13', 'pix14', 'pix15', 'pix16',\n",
      "       'pix17', 'pix18', 'pix19', 'pix20', 'pix21', 'pix22', 'pix23', 'pix24',\n",
      "       'pix25', 'pix26', 'pix27', 'pix28', 'pix29', 'pix30', 'pix31', 'pix32',\n",
      "       'pix33', 'pix34', 'pix35', 'pix36', 'pix37', 'pix38', 'pix39', 'pix40',\n",
      "       'pix41', 'pix42', 'pix43', 'pix44', 'pix45', 'pix46', 'pix47', 'pix48',\n",
      "       'pix49', 'pix50', 'pix51', 'pix52', 'pix53', 'pix54', 'pix55', 'pix56',\n",
      "       'pix57', 'pix58', 'pix59', 'pix60', 'pix61', 'pix62', 'pix63', 'is_0',\n",
      "       'is_1', 'is_2', 'is_3', 'is_4', 'is_5', 'is_6', 'is_7', 'is_8', 'is_9'],\n",
      "      dtype='object')\n",
      "\n"
     ]
    }
   ],
   "source": [
    "COLUMNS = df_model1.columns          \n",
    "print(f\"COLUMNS is {COLUMNS}\\n\")  "
   ]
  },
  {
   "cell_type": "code",
   "execution_count": 10,
   "metadata": {},
   "outputs": [
    {
     "name": "stdout",
     "output_type": "stream",
     "text": [
      "COL_INDEX is {'pix0': 0, 'pix1': 1, 'pix2': 2, 'pix3': 3, 'pix4': 4, 'pix5': 5, 'pix6': 6, 'pix7': 7, 'pix8': 8, 'pix9': 9, 'pix10': 10, 'pix11': 11, 'pix12': 12, 'pix13': 13, 'pix14': 14, 'pix15': 15, 'pix16': 16, 'pix17': 17, 'pix18': 18, 'pix19': 19, 'pix20': 20, 'pix21': 21, 'pix22': 22, 'pix23': 23, 'pix24': 24, 'pix25': 25, 'pix26': 26, 'pix27': 27, 'pix28': 28, 'pix29': 29, 'pix30': 30, 'pix31': 31, 'pix32': 32, 'pix33': 33, 'pix34': 34, 'pix35': 35, 'pix36': 36, 'pix37': 37, 'pix38': 38, 'pix39': 39, 'pix40': 40, 'pix41': 41, 'pix42': 42, 'pix43': 43, 'pix44': 44, 'pix45': 45, 'pix46': 46, 'pix47': 47, 'pix48': 48, 'pix49': 49, 'pix50': 50, 'pix51': 51, 'pix52': 52, 'pix53': 53, 'pix54': 54, 'pix55': 55, 'pix56': 56, 'pix57': 57, 'pix58': 58, 'pix59': 59, 'pix60': 60, 'pix61': 61, 'pix62': 62, 'pix63': 63, 'is_0': 64, 'is_1': 65, 'is_2': 66, 'is_3': 67, 'is_4': 68, 'is_5': 69, 'is_6': 70, 'is_7': 71, 'is_8': 72, 'is_9': 73}\n",
      "\n",
      "\n"
     ]
    }
   ],
   "source": [
    "COL_INDEX = {}\n",
    "for i, name in enumerate(COLUMNS):\n",
    "    COL_INDEX[name] = i  \n",
    "print(f\"COL_INDEX is {COL_INDEX}\\n\\n\")"
   ]
  },
  {
   "cell_type": "code",
   "execution_count": 11,
   "metadata": {},
   "outputs": [],
   "source": [
    "DIGITS = ['0', '1', '2', '3', '4', '5', '6', '7', '8', '9']   # int to str\n",
    "DIGITS_INDEX = {'0':0, '1':1, '2':2, '3':3, '4':4, '5':5, '6':6, '7':7, '8':8, '9':9}  # str to int\n"
   ]
  },
  {
   "cell_type": "code",
   "execution_count": 12,
   "metadata": {},
   "outputs": [
    {
     "name": "stdout",
     "output_type": "stream",
     "text": [
      "Digit 0 maps to 0\n",
      "Digit 1 maps to 1\n",
      "Digit 2 maps to 2\n",
      "Digit 3 maps to 3\n",
      "Digit 4 maps to 4\n",
      "Digit 5 maps to 5\n",
      "Digit 6 maps to 6\n",
      "Digit 7 maps to 7\n",
      "Digit 8 maps to 8\n",
      "Digit 9 maps to 9\n"
     ]
    }
   ],
   "source": [
    "for name in DIGITS:\n",
    "    print(f\"Digit {name} maps to {DIGITS_INDEX[name]}\")"
   ]
  },
  {
   "cell_type": "code",
   "execution_count": 13,
   "metadata": {},
   "outputs": [
    {
     "name": "stdout",
     "output_type": "stream",
     "text": [
      "\n",
      "First few rows of array A:\n",
      "[[ 0.  0.  9. 14.  8.  1.  0.  0.  0.  0. 12. 14. 14. 12.  0.  0.  0.  0.\n",
      "   9. 10.  0. 15.  4.  0.  0.  0.  3. 16. 12. 14.  2.  0.  0.  0.  4. 16.\n",
      "  16.  2.  0.  0.  0.  3. 16.  8. 10. 13.  2.  0.  0.  1. 15.  1.  3. 16.\n",
      "   8.  0.  0.  0. 11. 16. 15. 11.  1.  0.  0.  0.  0.  0.  0.  0.  0.  0.\n",
      "   1.  0.]\n",
      " [ 0.  0. 11. 12.  0.  0.  0.  0.  0.  2. 16. 16. 16. 13.  0.  0.  0.  3.\n",
      "  16. 12. 10. 14.  0.  0.  0.  1. 16.  1. 12. 15.  0.  0.  0.  0. 13. 16.\n",
      "   9. 15.  2.  0.  0.  0.  0.  3.  0.  9. 11.  0.  0.  0.  0.  0.  9. 15.\n",
      "   4.  0.  0.  0.  9. 12. 13.  3.  0.  0.  0.  0.  0.  0.  0.  0.  0.  0.\n",
      "   0.  1.]\n",
      " [ 0.  0.  1.  9. 15. 11.  0.  0.  0.  0. 11. 16.  8. 14.  6.  0.  0.  2.\n",
      "  16. 10.  0.  9.  9.  0.  0.  1. 16.  4.  0.  8.  8.  0.  0.  4. 16.  4.\n",
      "   0.  8.  8.  0.  0.  1. 16.  5.  1. 11.  3.  0.  0.  0. 12. 12. 10. 10.\n",
      "   0.  0.  0.  0.  1. 10. 13.  3.  0.  0.  1.  0.  0.  0.  0.  0.  0.  0.\n",
      "   0.  0.]\n",
      " [ 0.  0.  0.  0. 14. 13.  1.  0.  0.  0.  0.  5. 16. 16.  2.  0.  0.  0.\n",
      "   0. 14. 16. 12.  0.  0.  0.  1. 10. 16. 16. 12.  0.  0.  0.  3. 12. 14.\n",
      "  16.  9.  0.  0.  0.  0.  0.  5. 16. 15.  0.  0.  0.  0.  0.  4. 16. 14.\n",
      "   0.  0.  0.  0.  0.  1. 13. 16.  1.  0.  0.  1.  0.  0.  0.  0.  0.  0.\n",
      "   0.  0.]\n",
      " [ 0.  0.  5. 12.  1.  0.  0.  0.  0.  0. 15. 14.  7.  0.  0.  0.  0.  0.\n",
      "  13.  1. 12.  0.  0.  0.  0.  2. 10.  0. 14.  0.  0.  0.  0.  0.  2.  0.\n",
      "  16.  1.  0.  0.  0.  0.  0.  6. 15.  0.  0.  0.  0.  0.  9. 16. 15.  9.\n",
      "   8.  2.  0.  0.  3. 11.  8. 13. 12.  4.  0.  0.  1.  0.  0.  0.  0.  0.\n",
      "   0.  0.]]\n"
     ]
    }
   ],
   "source": [
    "A = df_model1.to_numpy()   \n",
    "A = A.astype('float64')\n",
    "print(\"\\nFirst few rows of array A:\")\n",
    "print(A[:5,:])"
   ]
  },
  {
   "cell_type": "code",
   "execution_count": 14,
   "metadata": {},
   "outputs": [
    {
     "name": "stdout",
     "output_type": "stream",
     "text": [
      "\n",
      "The dataset has 1768 rows and 74 cols\n"
     ]
    }
   ],
   "source": [
    "NUM_ROWS, NUM_COLS = A.shape\n",
    "print(f\"\\nThe dataset has {NUM_ROWS} rows and {NUM_COLS} cols\")"
   ]
  },
  {
   "cell_type": "code",
   "execution_count": 15,
   "metadata": {},
   "outputs": [
    {
     "name": "stdout",
     "output_type": "stream",
     "text": [
      "digit #42 is [ 0.  0.  0. 10. 11.  0.  0.  0.  0.  0.  9. 16.  6.  0.  0.  0.  0.  0.\n",
      " 15. 13.  0.  0.  0.  0.  0.  0. 14. 10.  0.  0.  0.  0.  0.  1. 15. 12.\n",
      "  8.  2.  0.  0.  0.  0. 12. 16. 16. 16. 10.  1.  0.  0.  7. 16. 12. 12.\n",
      " 16.  4.  0.  0.  0.  9. 15. 12.  5.  0.  0.  0.  0.  0.  0.  0.  1.  0.\n",
      "  0.  0.]\n"
     ]
    }
   ],
   "source": [
    "n = 42  \n",
    "print(f\"digit #{n} is {A[n]}\")"
   ]
  },
  {
   "cell_type": "code",
   "execution_count": 16,
   "metadata": {},
   "outputs": [],
   "source": [
    "pixel_cols = [col for col in COL_INDEX.keys() if col.startswith('pix')]\n",
    "label_cols = [col for col in COL_INDEX.keys() if col.startswith('is_')]"
   ]
  },
  {
   "cell_type": "code",
   "execution_count": 17,
   "metadata": {},
   "outputs": [],
   "source": [
    "pixel_indices = [COL_INDEX[col] for col in pixel_cols]\n",
    "label_indices = [COL_INDEX[col] for col in label_cols]"
   ]
  },
  {
   "cell_type": "code",
   "execution_count": 19,
   "metadata": {},
   "outputs": [
    {
     "name": "stdout",
     "output_type": "stream",
     "text": [
      "y_all (just the labels/digits, first few rows) are \n",
      " [[0. 0. 0. 0. 0. 0. 0. 0. 1. 0.]\n",
      " [0. 0. 0. 0. 0. 0. 0. 0. 0. 1.]\n",
      " [1. 0. 0. 0. 0. 0. 0. 0. 0. 0.]\n",
      " [0. 1. 0. 0. 0. 0. 0. 0. 0. 0.]\n",
      " [0. 0. 1. 0. 0. 0. 0. 0. 0. 0.]]\n",
      "\n",
      "X_all (just the features, first few rows) are \n",
      " [[ 0.  0.  9. 14.  8.  1.  0.  0.  0.  0. 12. 14. 14. 12.  0.  0.  0.  0.\n",
      "   9. 10.  0. 15.  4.  0.  0.  0.  3. 16. 12. 14.  2.  0.  0.  0.  4. 16.\n",
      "  16.  2.  0.  0.  0.  3. 16.  8. 10. 13.  2.  0.  0.  1. 15.  1.  3. 16.\n",
      "   8.  0.  0.  0. 11. 16. 15. 11.  1.  0.]\n",
      " [ 0.  0. 11. 12.  0.  0.  0.  0.  0.  2. 16. 16. 16. 13.  0.  0.  0.  3.\n",
      "  16. 12. 10. 14.  0.  0.  0.  1. 16.  1. 12. 15.  0.  0.  0.  0. 13. 16.\n",
      "   9. 15.  2.  0.  0.  0.  0.  3.  0.  9. 11.  0.  0.  0.  0.  0.  9. 15.\n",
      "   4.  0.  0.  0.  9. 12. 13.  3.  0.  0.]\n",
      " [ 0.  0.  1.  9. 15. 11.  0.  0.  0.  0. 11. 16.  8. 14.  6.  0.  0.  2.\n",
      "  16. 10.  0.  9.  9.  0.  0.  1. 16.  4.  0.  8.  8.  0.  0.  4. 16.  4.\n",
      "   0.  8.  8.  0.  0.  1. 16.  5.  1. 11.  3.  0.  0.  0. 12. 12. 10. 10.\n",
      "   0.  0.  0.  0.  1. 10. 13.  3.  0.  0.]\n",
      " [ 0.  0.  0.  0. 14. 13.  1.  0.  0.  0.  0.  5. 16. 16.  2.  0.  0.  0.\n",
      "   0. 14. 16. 12.  0.  0.  0.  1. 10. 16. 16. 12.  0.  0.  0.  3. 12. 14.\n",
      "  16.  9.  0.  0.  0.  0.  0.  5. 16. 15.  0.  0.  0.  0.  0.  4. 16. 14.\n",
      "   0.  0.  0.  0.  0.  1. 13. 16.  1.  0.]\n",
      " [ 0.  0.  5. 12.  1.  0.  0.  0.  0.  0. 15. 14.  7.  0.  0.  0.  0.  0.\n",
      "  13.  1. 12.  0.  0.  0.  0.  2. 10.  0. 14.  0.  0.  0.  0.  0.  2.  0.\n",
      "  16.  1.  0.  0.  0.  0.  0.  6. 15.  0.  0.  0.  0.  0.  9. 16. 15.  9.\n",
      "   8.  2.  0.  0.  3. 11.  8. 13. 12.  4.]]\n"
     ]
    }
   ],
   "source": [
    "X_all = A[:, pixel_indices]   \n",
    "y_all = A[:, label_indices]   \n",
    "\n",
    "print(f\"y_all (just the labels/digits, first few rows) are \\n {y_all[0:5]}\")\n",
    "print()\n",
    "print(f\"X_all (just the features, first few rows) are \\n {X_all[0:5]}\")"
   ]
  },
  {
   "cell_type": "code",
   "execution_count": 20,
   "metadata": {},
   "outputs": [
    {
     "name": "stdout",
     "output_type": "stream",
     "text": [
      "The scrambled labels/digits are \n",
      " [[0. 0. 0. 0. 0. 1. 0. 0. 0. 0.]\n",
      " [0. 0. 0. 1. 0. 0. 0. 0. 0. 0.]\n",
      " [0. 0. 0. 0. 0. 0. 0. 0. 0. 1.]\n",
      " [0. 0. 0. 0. 0. 0. 1. 0. 0. 0.]\n",
      " [0. 0. 0. 1. 0. 0. 0. 0. 0. 0.]]\n",
      "\n",
      "The corresponding data rows are \n",
      " [[ 0.  3. 16. 13. 15. 16. 11.  0.  0.  5. 16. 14. 12.  8. 10.  0.  0.  2.\n",
      "  16. 12.  0.  0.  0.  0.  0.  0.  7. 16. 12.  0.  0.  0.  0.  0.  0.  7.\n",
      "  16.  8.  0.  0.  0.  0.  0.  0. 13. 11.  0.  0.  0.  3.  6.  8. 16.  7.\n",
      "   0.  0.  0.  2. 15. 15.  9.  0.  0.  0.]\n",
      " [ 0.  1. 11. 16. 16. 12.  0.  0.  0.  8. 16. 13. 16. 16.  3.  0.  0.  1.\n",
      "   5.  7. 16. 14.  0.  0.  0.  0.  0. 11. 16.  4.  0.  0.  0.  0.  0.  2.\n",
      "  15.  9.  0.  0.  0.  0.  0.  0. 11. 13.  0.  0.  0.  0.  3.  7. 15. 14.\n",
      "   0.  0.  0.  0. 14. 16. 16.  6.  0.  0.]\n",
      " [ 0.  0.  2. 13.  8.  6.  0.  0.  0.  0.  7. 14. 14. 16.  0.  0.  0.  0.\n",
      "   7.  9.  3. 16.  4.  0.  0.  0.  5. 14. 15. 16.  4.  0.  0.  0.  0.  3.\n",
      "   2. 13.  5.  0.  0.  0.  3.  0.  0. 12.  6.  0.  0.  1. 12.  6.  0. 11.\n",
      "   7.  0.  0.  0.  3. 12. 16. 16.  1.  0.]\n",
      " [ 0.  0.  5. 13.  1.  0.  0.  0.  0.  0. 12. 13.  1.  0.  0.  0.  0.  0.\n",
      "  16.  3.  0.  0.  0.  0.  0.  3. 16.  0.  0.  0.  0.  0.  0.  3. 16. 16.\n",
      "  14.  9.  0.  0.  0.  2. 16.  8.  3.  8.  9.  0.  0.  0. 14.  2.  0.  3.\n",
      "  16.  1.  0.  0.  6. 15. 16. 14.  5.  0.]\n",
      " [ 0.  0. 12. 16. 15.  1.  0.  0.  0.  5. 16. 10. 15.  8.  0.  0.  0.  1.\n",
      "   7.  3. 14.  6.  0.  0.  0.  0.  0. 12. 16.  7.  0.  0.  0.  0.  0.  3.\n",
      "  13. 16.  6.  0.  0.  0.  4.  0.  0. 15. 11.  0.  0.  2. 16. 10. 11. 16.\n",
      "   7.  0.  0.  0. 10. 16. 16. 10.  1.  0.]]\n"
     ]
    }
   ],
   "source": [
    "indices = np.random.permutation(len(y_all))  # indices is a permutation-list\n",
    "X_all = X_all[indices]              # apply the same permutation to each\n",
    "y_all = y_all[indices]              # again...\n",
    "\n",
    "print(f\"The scrambled labels/digits are \\n {y_all[0:5]}\")\n",
    "print()\n",
    "print(f\"The corresponding data rows are \\n {X_all[0:5]}\")\n"
   ]
  },
  {
   "cell_type": "code",
   "execution_count": 21,
   "metadata": {},
   "outputs": [
    {
     "name": "stdout",
     "output_type": "stream",
     "text": [
      "training with 1414 rows;  testing with 354 rows\n",
      "\n",
      "+++ Testing +++   Held-out data... (testing data: 354)\n",
      "\n",
      "y_test: [[0. 1. 0. 0. 0. 0. 0. 0. 0. 0.]\n",
      " [0. 0. 0. 0. 0. 0. 0. 0. 0. 1.]\n",
      " [0. 0. 0. 0. 0. 0. 0. 1. 0. 0.]\n",
      " [0. 0. 0. 0. 0. 0. 0. 1. 0. 0.]\n",
      " [0. 0. 1. 0. 0. 0. 0. 0. 0. 0.]]\n",
      "\n",
      "X_test (few rows): [[ 0.  0.  0.  0.  9. 16.  4.  0.  0.  0.  0.  5. 15. 16.  2.  0.  0.  3.\n",
      "  12. 16. 16. 14.  0.  0.  0. 10. 16. 15. 16. 15.  0.  0.  0.  1.  4.  0.\n",
      "  16. 13.  0.  0.  0.  0.  0.  0. 15. 13.  0.  0.  0.  0.  0.  0. 12. 16.\n",
      "  12.  0.  0.  0.  0.  0. 12. 16.  6.  0.]\n",
      " [ 0.  0.  1. 11. 12.  9.  5.  0.  0.  0. 14.  6.  1. 15. 10.  0.  0.  2.\n",
      "  12.  4. 12.  7. 10.  0.  0.  1. 13. 12.  3.  4.  8.  0.  0.  0.  0.  0.\n",
      "   0.  4.  8.  0.  0.  0.  3.  4.  0.  7.  6.  0.  0.  0. 12.  7.  3. 11.\n",
      "   0.  0.  0.  0.  3. 13. 15.  3.  0.  0.]\n",
      " [ 0.  0.  6. 16. 16. 16. 16. 10.  0.  0.  6. 10.  8. 14. 16.  3.  0.  0.\n",
      "   0.  0.  4. 16.  8.  0.  0.  0.  2. 10. 14. 15.  6.  0.  0.  0.  6. 16.\n",
      "  16. 16.  7.  0.  0.  0.  0. 15.  9.  0.  0.  0.  0.  0.  6. 16.  6.  0.\n",
      "   0.  0.  0.  0. 10. 13.  1.  0.  0.  0.]\n",
      " [ 0.  0.  2. 13. 16.  8.  0.  0.  0.  0. 13.  7.  7. 13.  0.  0.  0.  1.\n",
      "   7.  0.  7. 13.  2.  0.  0.  0.  1. 10. 16. 16. 13.  0.  0.  0.  6. 13.\n",
      "  16.  2.  0.  0.  0.  0.  1.  5. 11.  0.  0.  0.  0.  0.  0. 12.  4.  0.\n",
      "   0.  0.  0.  0.  2. 14.  0.  0.  0.  0.]\n",
      " [ 0.  5. 16. 15.  3.  0.  0.  0.  0. 11. 14. 11. 11.  0.  0.  0.  0.  8.\n",
      "  11.  4. 16.  0.  0.  0.  0.  0.  0.  4. 13.  0.  0.  0.  0.  0.  0.  8.\n",
      "  12.  0.  0.  0.  0.  0.  0. 13.  9.  5.  1.  0.  0.  1. 11. 16. 16. 16.\n",
      "  10.  0.  0.  5. 16. 14.  8.  6.  1.  0.]]\n",
      "\n",
      "\n",
      "+++ Training +++   Data used for modeling... (training data: 1414)\n",
      "\n",
      "y_train: [[0. 0. 0. 0. 1. 0. 0. 0. 0. 0.]\n",
      " [0. 0. 0. 0. 0. 0. 0. 0. 0. 1.]\n",
      " [0. 0. 0. 0. 1. 0. 0. 0. 0. 0.]\n",
      " [0. 0. 0. 0. 0. 0. 1. 0. 0. 0.]\n",
      " [0. 0. 0. 0. 0. 0. 0. 1. 0. 0.]]\n",
      "\n",
      "X_train (few rows): [[ 0.  0.  0.  7. 14.  0.  0.  0.  0.  0.  1. 14.  8.  0.  1.  0.  0.  0.\n",
      "   8. 14.  0.  9. 11.  0.  0.  1. 15.  6.  1. 14. 10.  0.  0.  8. 15.  0.\n",
      "   8. 16.  1.  0.  0. 10. 15.  9. 15. 15.  0.  0.  0.  5. 15. 14. 16.  6.\n",
      "   0.  0.  0.  0.  0.  8. 15.  2.  0.  0.]\n",
      " [ 0.  0. 13. 14.  9.  1.  0.  0.  0.  5. 16. 12. 12. 12.  1.  0.  0.  6.\n",
      "  16.  2.  2. 16.  5.  0.  0.  3. 16.  5.  3. 16.  9.  0.  0.  0.  9. 16.\n",
      "  16. 16. 10.  0.  0.  0.  0.  6.  7. 15.  9.  0.  0.  0.  0.  0.  6. 16.\n",
      "   5.  0.  0.  0. 10. 16. 16. 12.  0.  0.]\n",
      " [ 0.  0.  0.  2. 14.  2.  0.  0.  0.  0.  1. 13. 15.  6.  0.  0.  0.  0.\n",
      "  12. 15. 12. 11.  0.  0.  0.  5. 16.  4. 15.  6.  0.  0.  0. 12. 15.  8.\n",
      "  16. 16. 11.  0.  0.  6. 16. 16. 16.  8.  2.  0.  0.  0.  2.  6. 16.  0.\n",
      "   0.  0.  0.  0.  0.  2. 14.  0.  0.  0.]\n",
      " [ 0.  0.  3. 16. 14.  1.  0.  0.  0.  0. 11. 16.  6.  0.  0.  0.  0.  0.\n",
      "  15.  9.  1.  0.  0.  0.  0.  3. 16. 14. 16. 12.  2.  0.  0.  4. 16. 14.\n",
      "  13. 11. 14.  0.  0.  0. 16.  5.  3.  7. 16.  3.  0.  0. 11. 12.  8. 16.\n",
      "  10.  0.  0.  0.  2. 14. 16. 12.  0.  0.]\n",
      " [ 0.  0.  2.  8.  8.  8. 12.  2.  0.  0. 12. 16. 14. 14. 15.  1.  0.  0.\n",
      "  14.  9.  0. 12.  6.  0.  0.  0. 10.  2.  8. 11.  0.  0.  0.  0.  0.  2.\n",
      "  14.  3.  0.  0.  0.  0.  0.  9.  8.  0.  0.  0.  0.  0.  0. 14.  4.  0.\n",
      "   0.  0.  0.  0.  3. 15.  0.  0.  0.  0.]]\n"
     ]
    }
   ],
   "source": [
    "from sklearn.model_selection import train_test_split\n",
    "X_train, X_test, y_train, y_test = train_test_split(X_all, y_all, test_size=0.2)\n",
    "\n",
    "print(f\"training with {len(y_train)} rows;  testing with {len(y_test)} rows\\n\")\n",
    "print(f\"+++ Testing +++   Held-out data... (testing data: {len(y_test)})\\n\")\n",
    "print(f\"y_test: {y_test[0:5,:]}\\n\")\n",
    "print(f\"X_test (few rows): {X_test[0:5,:]}\")\n",
    "print(\"\\n\")\n",
    "print(f\"+++ Training +++   Data used for modeling... (training data: {len(y_train)})\\n\")\n",
    "print(f\"y_train: {y_train[0:5,:]}\\n\")\n",
    "print(f\"X_train (few rows): {X_train[0:5,:]}\")"
   ]
  },
  {
   "cell_type": "code",
   "execution_count": 22,
   "metadata": {},
   "outputs": [],
   "source": [
    "from sklearn.preprocessing import StandardScaler\n",
    "\n",
    "USE_SCALER = True\n",
    "\n",
    "if USE_SCALER == True:\n",
    "    scaler = StandardScaler()\n",
    "    scaler.fit(X_train)\n",
    "else:\n",
    "    scaler = StandardScaler(copy=True, with_mean=False, with_std=False)\n",
    "    scaler.fit(X_train)\n",
    "\n",
    "X_train_scaled = scaler.transform(X_train)\n",
    "X_test_scaled = scaler.transform(X_test)\n",
    "\n",
    "y_train_scaled = y_train.copy()\n",
    "y_test_scaled = y_test.copy()\n"
   ]
  },
  {
   "cell_type": "code",
   "execution_count": 23,
   "metadata": {},
   "outputs": [],
   "source": [
    "def ascii_table(X, y, scaler_to_invert=None):\n",
    "    \"\"\" print a table of inputs and outputs \"\"\"\n",
    "    np.set_printoptions(precision=2)  # Let's use less precision\n",
    "    if scaler_to_invert == None:  # don't use the scaler\n",
    "        X = X\n",
    "    else:\n",
    "        X = scaler_to_invert.inverse_transform(X)\n",
    "    print(f\"{'input ':>58s} -> {'pred':^7s} {'des':<5s}\")\n",
    "    for i in range(min(5, len(y))):  # Show only first 5 to avoid large output\n",
    "        print(f\"{str(X[i,0:5]):>58s} -> {'?':^7s} {str(y[i][0:3]):<21s}\")\n",
    "    print()"
   ]
  },
  {
   "cell_type": "code",
   "execution_count": 24,
   "metadata": {},
   "outputs": [
    {
     "name": "stdout",
     "output_type": "stream",
     "text": [
      "                                                    input  ->  pred   des  \n",
      "                           [ 0.   -0.34 -1.11 -1.19  0.49] ->    ?    [0. 0. 0.]           \n",
      "                           [ 0.   -0.34  1.65  0.49 -0.67] ->    ?    [0. 0. 0.]           \n",
      "                           [ 0.   -0.34 -1.11 -2.38  0.49] ->    ?    [0. 0. 0.]           \n",
      "                           [ 0.   -0.34 -0.47  0.97  0.49] ->    ?    [0. 0. 0.]           \n",
      "                           [ 0.   -0.34 -0.68 -0.95 -0.91] ->    ?    [0. 0. 0.]           \n",
      "\n",
      "                                                    input  ->  pred   des  \n",
      "                                     [ 0.  0.  0.  7. 14.] ->    ?    [0. 0. 0.]           \n",
      "                                     [ 0.  0. 13. 14.  9.] ->    ?    [0. 0. 0.]           \n",
      "                                     [ 0.  0.  0.  2. 14.] ->    ?    [0. 0. 0.]           \n",
      "                                     [ 0.  0.  3. 16. 14.] ->    ?    [0. 0. 0.]           \n",
      "                                          [0. 0. 2. 8. 8.] ->    ?    [0. 0. 0.]           \n",
      "\n"
     ]
    }
   ],
   "source": [
    "ascii_table(X_train_scaled[0:5,:], y_train_scaled[0:5], None)\n",
    "ascii_table(X_train_scaled[0:5,:], y_train_scaled[0:5], scaler_to_invert=scaler)"
   ]
  },
  {
   "cell_type": "code",
   "execution_count": 26,
   "metadata": {},
   "outputs": [],
   "source": [
    "from sklearn.neural_network import MLPClassifier\n",
    "\n",
    "\n",
    "nn_classifier = MLPClassifier(hidden_layer_sizes=(32, 16),  \n",
    "                    max_iter=500,\n",
    "                    verbose=True,\n",
    "                    shuffle=True,\n",
    "                    random_state=42,\n",
    "                    learning_rate_init=.05,\n",
    "                    learning_rate='adaptive')"
   ]
  },
  {
   "cell_type": "code",
   "execution_count": 27,
   "metadata": {},
   "outputs": [
    {
     "name": "stdout",
     "output_type": "stream",
     "text": [
      "\n",
      "\n",
      "++++++++++  TRAINING:  begin  +++++++++++++++\n",
      "\n",
      "\n",
      "Iteration 1, loss = 3.29901564\n",
      "Iteration 2, loss = 1.07446054\n",
      "Iteration 3, loss = 0.58745704\n",
      "Iteration 4, loss = 0.38896715\n",
      "Iteration 5, loss = 0.22211644\n",
      "Iteration 6, loss = 0.15144603\n",
      "Iteration 7, loss = 0.12559815\n",
      "Iteration 8, loss = 0.09172699\n",
      "Iteration 9, loss = 0.08031038\n",
      "Iteration 10, loss = 0.05909930\n",
      "Iteration 11, loss = 0.04251906\n",
      "Iteration 12, loss = 0.02948448\n",
      "Iteration 13, loss = 0.03199444\n",
      "Iteration 14, loss = 0.02698017\n",
      "Iteration 15, loss = 0.01896646\n",
      "Iteration 16, loss = 0.00906382\n",
      "Iteration 17, loss = 0.00811109\n",
      "Iteration 18, loss = 0.00604596\n",
      "Iteration 19, loss = 0.00511778\n",
      "Iteration 20, loss = 0.00427337\n",
      "Iteration 21, loss = 0.00368608\n",
      "Iteration 22, loss = 0.00344976\n",
      "Iteration 23, loss = 0.00318829\n",
      "Iteration 24, loss = 0.00341398\n",
      "Iteration 25, loss = 0.00245037\n",
      "Iteration 26, loss = 0.00211150\n",
      "Iteration 27, loss = 0.00178496\n",
      "Iteration 28, loss = 0.00161098\n",
      "Iteration 29, loss = 0.00147418\n",
      "Iteration 30, loss = 0.00137346\n",
      "Iteration 31, loss = 0.00128208\n",
      "Iteration 32, loss = 0.00119911\n",
      "Iteration 33, loss = 0.00113201\n",
      "Iteration 34, loss = 0.00107862\n",
      "Iteration 35, loss = 0.00104530\n",
      "Iteration 36, loss = 0.00098512\n",
      "Iteration 37, loss = 0.00093319\n",
      "Iteration 38, loss = 0.00089221\n",
      "Iteration 39, loss = 0.00085542\n",
      "Iteration 40, loss = 0.00082644\n",
      "Iteration 41, loss = 0.00081144\n",
      "Training loss did not improve more than tol=0.000100 for 10 consecutive epochs. Stopping.\n",
      "\n",
      "++++++++++  TRAINING:   end  +++++++++++++++\n",
      "The analog prediction error (the loss) is 0.0008114405892254544\n"
     ]
    }
   ],
   "source": [
    "\n",
    "print(\"\\n\\n++++++++++  TRAINING:  begin  +++++++++++++++\\n\\n\")\n",
    "nn_classifier.fit(X_train_scaled, y_train_scaled)\n",
    "print(\"\\n++++++++++  TRAINING:   end  +++++++++++++++\")\n",
    "print(f\"The analog prediction error (the loss) is {nn_classifier.loss_}\")"
   ]
  },
  {
   "cell_type": "code",
   "execution_count": 28,
   "metadata": {},
   "outputs": [],
   "source": [
    "def get_digit(A):\n",
    "    \"\"\" returns the digit for A ~ [1 0 0 0 0 0 0 0 0 0] or [0 1 0 0 0 0 0 0 0 0] or ... \"\"\"\n",
    "    for i in range(len(DIGITS)):\n",
    "        if A[i] == 1: \n",
    "            return DIGITS[i]  \n",
    "    return \"no digit\" "
   ]
  },
  {
   "cell_type": "code",
   "execution_count": 31,
   "metadata": {},
   "outputs": [],
   "source": [
    "def ascii_table_for_classifier(Xsc, y, nn, scaler):\n",
    "    \"\"\" a table including predictions using nn.predict \"\"\"\n",
    "    predictions = nn.predict(Xsc)            # all predictions\n",
    "    prediction_probs = nn.predict_proba(Xsc) # all prediction probabilities\n",
    "    Xpr = scaler.inverse_transform(Xsc)      # Xpr is the \"X to print\": the unscaled data\n",
    "    # count correct\n",
    "    num_correct = 0\n",
    "    # printing\n",
    "    print(f\"{'input ':>28s} -> {'pred':^12s} {'des.':^12s}\")\n",
    "    for i in range(min(20, len(y))):  # Show only first 20 to avoid large output\n",
    "        pred = predictions[i]\n",
    "        desired = y[i].astype(int)\n",
    "        pred_digit = get_digit(pred)\n",
    "        des_digit = get_digit(desired)\n",
    "        if pred_digit != des_digit: \n",
    "            result = \"  incorrect\"\n",
    "        else: \n",
    "            result = \"  correct\" \n",
    "            num_correct += 1\n",
    "        print(f\"{i:>3}: [...] -> {pred_digit:^12s} {des_digit:12s} {result:^10s}\")\n",
    "    print(f\"\\ncorrect predictions: {num_correct} out of {min(20, len(y))}\")"
   ]
  },
  {
   "cell_type": "code",
   "execution_count": 33,
   "metadata": {},
   "outputs": [],
   "source": [
    "# Function to visualize the testing results\n",
    "def ascii_table_for_classifier(Xsc, y, nn, scaler):\n",
    "    \"\"\" a table including predictions using nn.predict \"\"\"\n",
    "    predictions = nn.predict(Xsc)            # all predictions\n",
    "    prediction_probs = nn.predict_proba(Xsc) # all prediction probabilities\n",
    "    Xpr = scaler.inverse_transform(Xsc)      # Xpr is the \"X to print\": the unscaled data\n",
    "    # count correct\n",
    "    num_correct = 0\n",
    "    # printing\n",
    "    print(f\"{'input ':>28s} -> {'pred':^12s} {'des.':^12s}\")\n",
    "    for i in range(min(20, len(y))):  # Show only first 20 to avoid large output\n",
    "        pred = predictions[i]\n",
    "        desired = y[i].astype(int)\n",
    "        pred_digit = get_digit(pred)\n",
    "        des_digit = get_digit(desired)\n",
    "        if pred_digit != des_digit: \n",
    "            result = \"  incorrect\"\n",
    "        else: \n",
    "            result = \"  correct\" \n",
    "            num_correct += 1\n",
    "        print(f\"{i:>3}: [...] -> {pred_digit:^12s} {des_digit:12s} {result:^10s}\")\n",
    "    print(f\"\\ncorrect predictions: {num_correct} out of {min(20, len(y))}\")\n",
    "    \n",
    "    # Calculate overall accuracy\n",
    "    all_preds = nn.predict(Xsc)\n",
    "    all_correct = 0\n",
    "    for i in range(len(y)):\n",
    "        pred = all_preds[i]\n",
    "        desired = y[i].astype(int)\n",
    "        if get_digit(pred) == get_digit(desired):\n",
    "            all_correct += 1\n",
    "    print(f\"Overall accuracy: {all_correct/len(y)*100:.2f}%\")\n"
   ]
  },
  {
   "cell_type": "code",
   "execution_count": 34,
   "metadata": {},
   "outputs": [
    {
     "name": "stdout",
     "output_type": "stream",
     "text": [
      "\n",
      "Testing results:\n",
      "                      input  ->     pred         des.    \n",
      "  0: [...] ->      1       1              correct \n",
      "  1: [...] ->   no digit   9              incorrect\n",
      "  2: [...] ->      7       7              correct \n",
      "  3: [...] ->      7       7              correct \n",
      "  4: [...] ->      2       2              correct \n",
      "  5: [...] ->      5       5              correct \n",
      "  6: [...] ->      6       6              correct \n",
      "  7: [...] ->      2       2              correct \n",
      "  8: [...] ->      7       7              correct \n",
      "  9: [...] ->      8       8              correct \n",
      " 10: [...] ->      7       7              correct \n",
      " 11: [...] ->      1       1              correct \n",
      " 12: [...] ->      0       0              correct \n",
      " 13: [...] ->      2       2              correct \n",
      " 14: [...] ->      6       6              correct \n",
      " 15: [...] ->      4       4              correct \n",
      " 16: [...] ->      6       6              correct \n",
      " 17: [...] ->      3       3              correct \n",
      " 18: [...] ->      1       2              incorrect\n",
      " 19: [...] ->      9       9              correct \n",
      "\n",
      "correct predictions: 18 out of 20\n",
      "Overall accuracy: 96.61%\n"
     ]
    }
   ],
   "source": [
    "print(\"\\nTesting results:\")\n",
    "ascii_table_for_classifier(X_test_scaled, y_test_scaled, nn_classifier, scaler)"
   ]
  },
  {
   "cell_type": "code",
   "execution_count": 35,
   "metadata": {},
   "outputs": [],
   "source": [
    "def predictive_model(Features, MODEL, SCALER):\n",
    "    \"\"\" input: a list of 64 pixel features\n",
    "        output: the predicted digit, from 0-9\n",
    "    \"\"\"\n",
    "    our_features = np.asarray([Features])                 # extra brackets needed\n",
    "    scaled_features = SCALER.transform(our_features)      # we have to scale the features into \"scaled space\"\n",
    "    predicted_cat = MODEL.predict(scaled_features)        # then, the nnet can predict our \"cat\" variables\n",
    "    prediction_probs = MODEL.predict_proba(scaled_features) # all prediction probabilities\n",
    "    predicted_digit = get_digit(predicted_cat[0])         # get the digit name\n",
    "    return predicted_digit, prediction_probs"
   ]
  },
  {
   "cell_type": "code",
   "execution_count": 36,
   "metadata": {},
   "outputs": [
    {
     "name": "stdout",
     "output_type": "stream",
     "text": [
      "\n",
      "Testing the digits from the assignment:\n",
      "Digit 0: I predict 4\n"
     ]
    },
    {
     "data": {
      "image/png": "[encoded data removed]",
      "text/plain": [
       "<Figure size 200x200 with 1 Axes>"
      ]
     },
     "metadata": {},
     "output_type": "display_data"
    },
    {
     "name": "stdout",
     "output_type": "stream",
     "text": [
      "Digit 1: I predict 2\n"
     ]
    },
    {
     "data": {
      "image/png": "[encoded data removed]",
      "text/plain": [
       "<Figure size 200x200 with 1 Axes>"
      ]
     },
     "metadata": {},
     "output_type": "display_data"
    },
    {
     "name": "stdout",
     "output_type": "stream",
     "text": [
      "Digit 2: I predict 4\n"
     ]
    },
    {
     "data": {
      "image/png": "[encoded data removed]",
      "text/plain": [
       "<Figure size 200x200 with 1 Axes>"
      ]
     },
     "metadata": {},
     "output_type": "display_data"
    },
    {
     "name": "stdout",
     "output_type": "stream",
     "text": [
      "Digit 3: I predict 2\n"
     ]
    },
    {
     "data": {
      "image/png": "[encoded data removed]",
      "text/plain": [
       "<Figure size 200x200 with 1 Axes>"
      ]
     },
     "metadata": {},
     "output_type": "display_data"
    },
    {
     "name": "stdout",
     "output_type": "stream",
     "text": [
      "Digit 4: I predict 4\n"
     ]
    },
    {
     "data": {
      "image/png": "[encoded data removed]",
      "text/plain": [
       "<Figure size 200x200 with 1 Axes>"
      ]
     },
     "metadata": {},
     "output_type": "display_data"
    },
    {
     "name": "stdout",
     "output_type": "stream",
     "text": [
      "Digit 5: I predict 2\n"
     ]
    },
    {
     "data": {
      "image/png": "[encoded data removed]",
      "text/plain": [
       "<Figure size 200x200 with 1 Axes>"
      ]
     },
     "metadata": {},
     "output_type": "display_data"
    }
   ],
   "source": [
    "LoD = [\n",
    "    [0,0,0,8,14,0,0,0,0,0,5,16,11,0,0,0,0,1,15,14,1,6,0,0,0,7,16,5,3,16,8,0,0,8,16,8,14,16,2,0,0,0,6,14,16,11,0,0,0,0,0,6,16,4,0,0,0,0,0,10,15,0,0,0],\n",
    "    [0,0,0,5,14,12,2,0,0,0,7,15,8,14,4,0,0,0,6,2,3,13,1,0,0,0,0,1,13,4,0,0,0,0,1,11,9,0,0,0,0,8,16,13,0,0,0,0,0,5,14,16,11,2,0,0,0,0,0,6,12,13,3,0],\n",
    "    [0,0,0,3,16,3,0,0,0,0,0,12,16,2,0,0,0,0,8,16,16,4,0,0,0,7,16,15,16,12,11,0,0,8,16,16,16,13,3,0,0,0,0,7,14,1,0,0,0,0,0,6,16,0,0,0,0,0,0,4,14,0,0,0],\n",
    "    [0,0,0,3,15,10,1,0,0,0,0,11,10,16,4,0,0,0,0,12,1,15,6,0,0,0,0,3,4,15,4,0,0,0,0,6,15,6,0,0,0,4,15,16,9,0,0,0,0,0,13,16,15,9,3,0,0,0,0,4,9,14,7,0],\n",
    "    [0,0,0,3,16,3,0,0,0,0,0,10,16,11,0,0,0,0,4,16,16,8,0,0,0,2,14,12,16,5,0,0,0,10,16,14,16,16,11,0,0,5,12,13,16,8,3,0,0,0,0,2,15,3,0,0,0,0,0,4,12,0,0,0],\n",
    "    [0,0,7,15,15,4,0,0,0,8,16,16,16,4,0,0,0,8,15,8,16,4,0,0,0,0,0,10,15,0,0,0,0,0,1,15,9,0,0,0,0,0,6,16,2,0,0,0,0,0,8,16,8,11,9,0,0,0,9,16,16,12,3,0]\n",
    "]\n",
    "\n",
    "# Run prediction on each test digit\n",
    "print(\"\\nTesting the digits from the assignment:\")\n",
    "for i, digit_features in enumerate(LoD):\n",
    "    MODEL = nn_classifier\n",
    "    SCALER = scaler\n",
    "    name, probs = predictive_model(digit_features, MODEL, SCALER)\n",
    "    print(f\"Digit {i}: I predict {name}\")\n",
    "    \n",
    "    # Visualize the digit\n",
    "    digit_image = np.array(digit_features).reshape(8, 8)\n",
    "    plt.figure(figsize=(2, 2))\n",
    "    plt.imshow(digit_image, cmap='gray_r')\n",
    "    plt.title(f\"Digit {i}: Predicted as {name}\")\n",
    "    plt.show()\n"
   ]
  },
  {
   "attachments": {},
   "cell_type": "markdown",
   "metadata": {},
   "source": [
    "### Second, from the iris example create a _pixel-predicting_ &nbsp; NNet\n",
    "\n",
    "Choose a pixel to predict!\n",
    "+ It _can_ be #42 -- or choose another one?!\n",
    "+ This will be _regression_, not classification\n",
    "+ It will show off NNets' ability to generate or \"hallucinate\" pixels/digits/images/etc.!\n",
    "+ The _digit dreaming_ problem will extend this further..."
   ]
  },
  {
   "cell_type": "code",
   "execution_count": 37,
   "metadata": {},
   "outputs": [],
   "source": [
    "pixel_to_predict = 'pix42'\n",
    "pixel_to_predict_idx = COL_INDEX[pixel_to_predict]"
   ]
  },
  {
   "cell_type": "code",
   "execution_count": 38,
   "metadata": {},
   "outputs": [],
   "source": [
    "reg_y_all = A[:, pixel_to_predict_idx]\n"
   ]
  },
  {
   "cell_type": "code",
   "execution_count": 39,
   "metadata": {},
   "outputs": [],
   "source": [
    "other_pixel_indices = [COL_INDEX[col] for col in pixel_cols if col != pixel_to_predict]\n",
    "feature_indices = other_pixel_indices + label_indices\n"
   ]
  },
  {
   "cell_type": "code",
   "execution_count": 40,
   "metadata": {},
   "outputs": [
    {
     "name": "stdout",
     "output_type": "stream",
     "text": [
      "Regression y_all (pixel pix42 values) shape: (1768,)\n",
      "Regression X_all (other features) shape: (1768, 73)\n"
     ]
    }
   ],
   "source": [
    "reg_X_all = A[:, feature_indices]\n",
    "\n",
    "print(f\"Regression y_all (pixel {pixel_to_predict} values) shape: {reg_y_all.shape}\")\n",
    "print(f\"Regression X_all (other features) shape: {reg_X_all.shape}\")"
   ]
  },
  {
   "cell_type": "code",
   "execution_count": 41,
   "metadata": {},
   "outputs": [],
   "source": [
    "indices = np.random.permutation(len(reg_y_all))\n",
    "reg_X_all = reg_X_all[indices]\n",
    "reg_y_all = reg_y_all[indices]"
   ]
  },
  {
   "cell_type": "code",
   "execution_count": 42,
   "metadata": {},
   "outputs": [
    {
     "name": "stdout",
     "output_type": "stream",
     "text": [
      "Regression training with 1414 rows; testing with 354 rows\n",
      "\n"
     ]
    }
   ],
   "source": [
    "reg_X_train, reg_X_test, reg_y_train, reg_y_test = train_test_split(reg_X_all, reg_y_all, test_size=0.2)\n",
    "\n",
    "print(f\"Regression training with {len(reg_y_train)} rows; testing with {len(reg_y_test)} rows\\n\")"
   ]
  },
  {
   "cell_type": "code",
   "execution_count": 43,
   "metadata": {},
   "outputs": [],
   "source": [
    "reg_scaler = StandardScaler()\n",
    "reg_scaler.fit(reg_X_train)\n",
    "\n",
    "reg_X_train_scaled = reg_scaler.transform(reg_X_train)\n",
    "reg_X_test_scaled = reg_scaler.transform(reg_X_test)"
   ]
  },
  {
   "cell_type": "code",
   "execution_count": 44,
   "metadata": {},
   "outputs": [],
   "source": [
    "from sklearn.neural_network import MLPRegressor\n",
    "\n",
    "nn_regressor = MLPRegressor(hidden_layer_sizes=(32, 16),\n",
    "                     max_iter=500,\n",
    "                     verbose=True,\n",
    "                     shuffle=True,\n",
    "                     random_state=42,\n",
    "                     learning_rate_init=.05,\n",
    "                     learning_rate='adaptive')"
   ]
  },
  {
   "cell_type": "code",
   "execution_count": 45,
   "metadata": {},
   "outputs": [
    {
     "name": "stdout",
     "output_type": "stream",
     "text": [
      "\n",
      "\n",
      "++++++++++  REGRESSION TRAINING:  begin  +++++++++++++++\n",
      "\n",
      "\n",
      "Iteration 1, loss = 23.02388596\n",
      "Iteration 2, loss = 7.47505597\n",
      "Iteration 3, loss = 4.82243132\n",
      "Iteration 4, loss = 3.82432824\n",
      "Iteration 5, loss = 3.25175743\n",
      "Iteration 6, loss = 2.65492236\n",
      "Iteration 7, loss = 2.37316983\n",
      "Iteration 8, loss = 2.11888263\n",
      "Iteration 9, loss = 1.98049566\n",
      "Iteration 10, loss = 1.88873344\n",
      "Iteration 11, loss = 1.88180669\n",
      "Iteration 12, loss = 1.92839438\n",
      "Iteration 13, loss = 1.67918468\n",
      "Iteration 14, loss = 1.51991080\n",
      "Iteration 15, loss = 1.47143135\n",
      "Iteration 16, loss = 1.56951850\n",
      "Iteration 17, loss = 1.85926039\n",
      "Iteration 18, loss = 1.60058496\n",
      "Iteration 19, loss = 1.47192802\n",
      "Iteration 20, loss = 1.39117395\n",
      "Iteration 21, loss = 1.46000934\n",
      "Iteration 22, loss = 1.48183996\n",
      "Iteration 23, loss = 1.41828142\n",
      "Iteration 24, loss = 1.41316955\n",
      "Iteration 25, loss = 1.12265814\n",
      "Iteration 26, loss = 1.05554587\n",
      "Iteration 27, loss = 0.95497695\n",
      "Iteration 28, loss = 0.93003358\n",
      "Iteration 29, loss = 1.05834917\n",
      "Iteration 30, loss = 1.15277205\n",
      "Iteration 31, loss = 1.14159083\n",
      "Iteration 32, loss = 0.94159379\n",
      "Iteration 33, loss = 0.92858998\n",
      "Iteration 34, loss = 0.95325613\n",
      "Iteration 35, loss = 0.93732600\n",
      "Iteration 36, loss = 0.93474775\n",
      "Iteration 37, loss = 0.99458778\n",
      "Iteration 38, loss = 1.16509559\n",
      "Iteration 39, loss = 1.38689089\n",
      "Iteration 40, loss = 1.14137147\n",
      "Iteration 41, loss = 0.97831074\n",
      "Iteration 42, loss = 0.95072391\n",
      "Iteration 43, loss = 0.92299827\n",
      "Iteration 44, loss = 0.99868556\n",
      "Iteration 45, loss = 0.93850488\n",
      "Iteration 46, loss = 0.92101192\n",
      "Iteration 47, loss = 1.03647768\n",
      "Iteration 48, loss = 1.21569778\n",
      "Iteration 49, loss = 1.05514740\n",
      "Iteration 50, loss = 0.88803493\n",
      "Iteration 51, loss = 0.88969496\n",
      "Iteration 52, loss = 0.83846878\n",
      "Iteration 53, loss = 0.82191964\n",
      "Iteration 54, loss = 1.71633880\n",
      "Iteration 55, loss = 1.20857970\n",
      "Iteration 56, loss = 0.92289100\n",
      "Iteration 57, loss = 0.74157646\n",
      "Iteration 58, loss = 0.87861327\n",
      "Iteration 59, loss = 0.98946647\n",
      "Iteration 60, loss = 0.97411561\n",
      "Iteration 61, loss = 0.91771204\n",
      "Iteration 62, loss = 0.88110173\n",
      "Iteration 63, loss = 0.87270525\n",
      "Iteration 64, loss = 0.84590458\n",
      "Iteration 65, loss = 0.72325880\n",
      "Iteration 66, loss = 0.70703202\n",
      "Iteration 67, loss = 0.86397293\n",
      "Iteration 68, loss = 0.72436055\n",
      "Iteration 69, loss = 0.69905854\n",
      "Iteration 70, loss = 0.69352238\n",
      "Iteration 71, loss = 0.59911838\n",
      "Iteration 72, loss = 0.62931317\n",
      "Iteration 73, loss = 0.63578180\n",
      "Iteration 74, loss = 0.62411863\n",
      "Iteration 75, loss = 0.64414620\n",
      "Iteration 76, loss = 0.62447802\n",
      "Iteration 77, loss = 0.65767342\n",
      "Iteration 78, loss = 0.55700581\n",
      "Iteration 79, loss = 0.74506694\n",
      "Iteration 80, loss = 0.72105558\n",
      "Iteration 81, loss = 1.04364533\n",
      "Iteration 82, loss = 0.84969618\n",
      "Iteration 83, loss = 0.80138823\n",
      "Iteration 84, loss = 0.67626259\n",
      "Iteration 85, loss = 0.66799259\n",
      "Iteration 86, loss = 0.75541936\n",
      "Iteration 87, loss = 0.70159748\n",
      "Iteration 88, loss = 0.65049476\n",
      "Iteration 89, loss = 0.57278258\n",
      "Training loss did not improve more than tol=0.000100 for 10 consecutive epochs. Stopping.\n",
      "\n",
      "++++++++++  REGRESSION TRAINING:   end  +++++++++++++++\n",
      "The (squared) prediction error (the loss) is 0.573 \n",
      "And, its square root:         0.757 \n",
      "\n"
     ]
    }
   ],
   "source": [
    "print(\"\\n\\n++++++++++  REGRESSION TRAINING:  begin  +++++++++++++++\\n\\n\")\n",
    "nn_regressor.fit(reg_X_train_scaled, reg_y_train)\n",
    "print(\"\\n++++++++++  REGRESSION TRAINING:   end  +++++++++++++++\")\n",
    "print(f\"The (squared) prediction error (the loss) is {nn_regressor.loss_:<6.3f}\")\n",
    "print(f\"And, its square root:         {nn_regressor.loss_ ** 0.5:<6.3f}\")\n",
    "print()"
   ]
  },
  {
   "cell_type": "code",
   "execution_count": 47,
   "metadata": {},
   "outputs": [],
   "source": [
    "def ascii_table_for_regressor(Xsc, y, nn, scaler):\n",
    "    \"\"\" a table including predictions using nn.predict \"\"\"\n",
    "    predictions = nn.predict(Xsc) # all predictions\n",
    "    Xpr = scaler.inverse_transform(Xsc)  # Xpr is the \"X to print\": unscaled data!\n",
    "    # measure error\n",
    "    error = 0.0\n",
    "    # printing\n",
    "    print(f\"{'sample #':>10s} ->  {'pred':^6s}  {'des.':^6s}   {'absdiff':^10s}\")\n",
    "    for i in range(min(20, len(y))):  # Show only first 20 to avoid large output\n",
    "        pred = predictions[i]\n",
    "        desired = y[i]\n",
    "        result = abs(desired - pred)\n",
    "        error += result\n",
    "        print(f\"{i:>10d} ->  {pred:<+6.2f}  {desired:<+6.2f}   {result:^10.2f}\")\n",
    "\n",
    "    error_full = 0.0\n",
    "    for i in range(len(y)):\n",
    "        pred = predictions[i]\n",
    "        desired = y[i]\n",
    "        error_full += abs(desired - pred)\n",
    "\n",
    "    print(\"\\n\" + \"+++++   +++++   +++++           \")\n",
    "    print(f\"average abs diff error:   {error_full/len(y):<6.3f}\")\n",
    "    print(\"+++++   +++++   +++++           \")\n",
    "    return error_full/len(y)\n"
   ]
  },
  {
   "cell_type": "code",
   "execution_count": 48,
   "metadata": {},
   "outputs": [
    {
     "name": "stdout",
     "output_type": "stream",
     "text": [
      "\n",
      "Testing regression for pixel pix42:\n",
      "  sample # ->   pred    des.     absdiff  \n",
      "         0 ->  +3.36   +2.00       1.36   \n",
      "         1 ->  +0.81   +2.00       1.19   \n",
      "         2 ->  +13.72  +15.00      1.28   \n",
      "         3 ->  +5.14   +6.00       0.86   \n",
      "         4 ->  +0.16   +11.00     10.84   \n",
      "         5 ->  +1.33   +10.00      8.67   \n",
      "         6 ->  +15.03  +16.00      0.97   \n",
      "         7 ->  +0.16   +0.00       0.16   \n",
      "         8 ->  +14.69  +16.00      1.31   \n",
      "         9 ->  +9.47   +11.00      1.53   \n",
      "        10 ->  +10.70  +12.00      1.30   \n",
      "        11 ->  +11.86  +14.00      2.14   \n",
      "        12 ->  +0.16   +0.00       0.16   \n",
      "        13 ->  +0.16   +0.00       0.16   \n",
      "        14 ->  +0.88   +3.00       2.12   \n",
      "        15 ->  +9.53   +6.00       3.53   \n",
      "        16 ->  +0.98   +10.00      9.02   \n",
      "        17 ->  +13.00  +12.00      1.00   \n",
      "        18 ->  +3.42   +4.00       0.58   \n",
      "        19 ->  +0.16   +0.00       0.16   \n",
      "\n",
      "+++++   +++++   +++++           \n",
      "average abs diff error:   1.458 \n",
      "+++++   +++++   +++++           \n"
     ]
    }
   ],
   "source": [
    "print(f\"\\nTesting regression for pixel {pixel_to_predict}:\")\n",
    "avg_error = ascii_table_for_regressor(reg_X_test_scaled, reg_y_test, nn_regressor, reg_scaler)"
   ]
  },
  {
   "attachments": {},
   "cell_type": "markdown",
   "metadata": {},
   "source": [
    "<b>Predict-a-pixel</b> (regression)...\n",
    "+ As the penultimate part of this digits-analysis with NNets, \n",
    "+ create a regressor that predicts pixel 42 from the other 63 pixels!\n",
    "+ Remember that pixel 42 will be `A[:,42]`\n",
    "+ and, the other 63, plus the digit-species, will be `np.concatenate((A[:,0:42], A[:,43:]),axis=1)`\n",
    "+ see the iris_modeler for an example for the irises' botanical features..."
   ]
  },
  {
   "cell_type": "code",
   "execution_count": 49,
   "metadata": {},
   "outputs": [],
   "source": [
    "def predict_pixel(pixel_name, A, pixel_indices, label_indices, test_size=0.2, hidden_layers=(32, 16), random_state=42, verbose=False):\n",
    "    \"\"\"\n",
    "    Create and evaluate a neural network regressor to predict a specific pixel\n",
    "    from all other pixels and digit classifications.\n",
    "    \n",
    "    Args:\n",
    "        pixel_name: Name of the pixel to predict (e.g., 'pix42')\n",
    "        A: The full data array including pixels and digit classifications\n",
    "        pixel_indices: Dictionary mapping pixel names to column indices\n",
    "        label_indices: Dictionary mapping label names to column indices\n",
    "        test_size: Proportion of data to use for testing\n",
    "        hidden_layers: Tuple defining the neural network architecture\n",
    "        random_state: Random seed for reproducibility\n",
    "        verbose: Whether to print detailed training progress\n",
    "        \n",
    "    Returns:\n",
    "        avg_abs_error: Average absolute error for this pixel prediction\n",
    "    \"\"\"\n",
    "    # Get the index of the pixel to predict\n",
    "    pixel_idx = COL_INDEX[pixel_name]\n",
    "    \n",
    "    # Create X_all and y_all for regression\n",
    "    pixel_y_all = A[:, pixel_idx]\n",
    "    \n",
    "    # Get indices of all other pixels and labels\n",
    "    other_pixel_indices = [idx for idx in pixel_indices if idx != pixel_idx]\n",
    "    all_feature_indices = other_pixel_indices + label_indices\n",
    "    \n",
    "    # Create features array (all other pixels + labels)\n",
    "    pixel_X_all = A[:, all_feature_indices]\n",
    "    \n",
    "    if verbose:\n",
    "        print(f\"Regression y_all (pixel {pixel_idx} values) shape: {pixel_y_all.shape}\")\n",
    "        print(f\"Regression X_all (other features) shape: {pixel_X_all.shape}\")\n",
    "    \n",
    "    # Scramble the data\n",
    "    indices = np.random.permutation(len(pixel_y_all))\n",
    "    pixel_X_all = pixel_X_all[indices]\n",
    "    pixel_y_all = pixel_y_all[indices]\n",
    "    \n",
    "    # Split into training and testing sets\n",
    "    pixel_X_train, pixel_X_test, pixel_y_train, pixel_y_test = train_test_split(\n",
    "        pixel_X_all, pixel_y_all, test_size=test_size, random_state=random_state)\n",
    "    \n",
    "    if verbose:\n",
    "        print(f\"Regression training with {len(pixel_y_train)} rows; testing with {len(pixel_y_test)} rows\\n\")\n",
    "    \n",
    "    # Scale the data\n",
    "    pixel_scaler = StandardScaler()\n",
    "    pixel_scaler.fit(pixel_X_train)\n",
    "    \n",
    "    pixel_X_train_scaled = pixel_scaler.transform(pixel_X_train)\n",
    "    pixel_X_test_scaled = pixel_scaler.transform(pixel_X_test)\n",
    "    \n",
    "    # Train the regression model\n",
    "    pixel_nn_regressor = MLPRegressor(\n",
    "        hidden_layer_sizes=hidden_layers,\n",
    "        max_iter=500,\n",
    "        verbose=verbose,\n",
    "        shuffle=True,\n",
    "        random_state=random_state,\n",
    "        learning_rate_init=.05,\n",
    "        learning_rate='adaptive')\n",
    "    \n",
    "    if verbose:\n",
    "        print(f\"\\n\\n++++++++++  REGRESSION TRAINING FOR PIXEL {pixel_idx}:  begin  +++++++++++++++\\n\\n\")\n",
    "    \n",
    "    pixel_nn_regressor.fit(pixel_X_train_scaled, pixel_y_train)\n",
    "    \n",
    "    if verbose:\n",
    "        print(f\"\\n++++++++++  REGRESSION TRAINING FOR PIXEL {pixel_idx}:   end  +++++++++++++++\")\n",
    "        print(f\"The (squared) prediction error (the loss) is {pixel_nn_regressor.loss_:<6.3f}\")\n",
    "        print(f\"And, its square root:         {pixel_nn_regressor.loss_ ** 0.5:<6.3f}\")\n",
    "        print()\n",
    "    \n",
    "    # Calculate average absolute error\n",
    "    predictions = pixel_nn_regressor.predict(pixel_X_test_scaled)\n",
    "    abs_errors = [abs(predictions[i] - pixel_y_test[i]) for i in range(len(pixel_y_test))]\n",
    "    avg_abs_error = sum(abs_errors) / len(abs_errors)\n",
    "    \n",
    "    if verbose:\n",
    "        print(f\"Average absolute error for pixel {pixel_idx}: {avg_abs_error:.4f}\")\n",
    "    \n",
    "    return avg_abs_error\n"
   ]
  },
  {
   "cell_type": "code",
   "execution_count": 50,
   "metadata": {},
   "outputs": [
    {
     "name": "stdout",
     "output_type": "stream",
     "text": [
      "\n",
      "Evaluating predictability of all 64 pixels...\n",
      "Processed pixels 0-7\n",
      "Processed pixels 0-15\n",
      "Processed pixels 0-23\n",
      "Processed pixels 0-31\n",
      "Processed pixels 0-39\n",
      "Processed pixels 0-47\n",
      "Processed pixels 0-55\n",
      "Processed pixels 0-63\n"
     ]
    }
   ],
   "source": [
    "all_pixel_errors = []\n",
    "\n",
    "print(\"\\nEvaluating predictability of all 64 pixels...\")\n",
    "for pixel_num in range(64):\n",
    "    pixel_name = f'pix{pixel_num}'\n",
    "    error = predict_pixel(pixel_name, A, pixel_indices, label_indices, verbose=False)\n",
    "    all_pixel_errors.append(error)\n",
    "    if (pixel_num + 1) % 8 == 0:\n",
    "        print(f\"Processed pixels 0-{pixel_num}\")"
   ]
  },
  {
   "cell_type": "code",
   "execution_count": 52,
   "metadata": {},
   "outputs": [
    {
     "name": "stdout",
     "output_type": "stream",
     "text": [
      "\n",
      "Most predictable pixel: 0 with error 0.0001\n",
      "Least predictable pixel: 19 with error 2.2874\n"
     ]
    }
   ],
   "source": [
    "most_predictable = np.argmin(all_pixel_errors)\n",
    "least_predictable = np.argmax(all_pixel_errors)\n",
    "print(f\"\\nMost predictable pixel: {most_predictable} with error {all_pixel_errors[most_predictable]:.4f}\")\n",
    "print(f\"Least predictable pixel: {least_predictable} with error {all_pixel_errors[least_predictable]:.4f}\")"
   ]
  },
  {
   "cell_type": "code",
   "execution_count": 55,
   "metadata": {},
   "outputs": [
    {
     "data": {
      "image/png": "[encoded data removed]",
      "text/plain": [
       "<Figure size 1000x800 with 2 Axes>"
      ]
     },
     "metadata": {},
     "output_type": "display_data"
    },
    {
     "data": {
      "image/png": "[encoded data removed]",
      "text/plain": [
       "<Figure size 1200x600 with 1 Axes>"
      ]
     },
     "metadata": {},
     "output_type": "display_data"
    }
   ],
   "source": [
    "# Create a visualization of pixel predictability\n",
    "pixel_errors_2d = np.array(all_pixel_errors).reshape(8, 8)\n",
    "\n",
    "plt.figure(figsize=(10, 8))\n",
    "plt.imshow(pixel_errors_2d, cmap='viridis_r')  # viridis_r so darker is less predictable\n",
    "plt.colorbar(label='Average Absolute Error')\n",
    "plt.title('Predictability of Each Pixel (Lower Value = More Predictable)')\n",
    "\n",
    "# Add pixel indices as text in each cell\n",
    "for i in range(8):\n",
    "    for j in range(8):\n",
    "        pixel_idx = i * 8 + j\n",
    "        plt.text(j, i, str(pixel_idx), \n",
    "                 ha=\"center\", va=\"center\", \n",
    "                 color=\"white\" if pixel_errors_2d[i, j] > np.mean(all_pixel_errors) else \"black\")\n",
    "\n",
    "plt.savefig('pixel_predictability.png')\n",
    "plt.show()\n",
    "\n",
    "# Create a bar plot of all pixel errors\n",
    "plt.figure(figsize=(12, 6))\n",
    "plt.bar(range(64), all_pixel_errors)\n",
    "plt.axhline(y=np.mean(all_pixel_errors), color='r', linestyle='-', label='Mean Error')\n",
    "plt.xlabel('Pixel Index')\n",
    "plt.ylabel('Average Absolute Error')\n",
    "plt.title('Predictability of Each Pixel (Lower = More Predictable)')\n",
    "plt.xticks(range(0, 64, 4))\n",
    "plt.grid(axis='y', linestyle='--', alpha=0.7)\n",
    "plt.legend()\n",
    "plt.savefig('pixel_errors_bar.png')\n",
    "plt.show()"
   ]
  },
  {
   "cell_type": "markdown",
   "metadata": {},
   "source": [
    "Pixel 0 is the most predictable with an error of 0.0001, while pixel 19 is the least predictable with an error of 2.2874. The top-left corner pixel is highly predictable because it's consistently unused across digit samples, creating a pattern the model easily recognizes. Pixel 19's position in the middle region corresponds to an area where digits have maximum variation in their structural features, making it difficult for the model to predict based solely on surrounding pixels.RetryClaude can make mistakes. Please double-check responses."
   ]
  }
 ],
 "metadata": {
  "kernelspec": {
   "display_name": "Python 3.10.4 64-bit",
   "language": "python",
   "name": "python3"
  },
  "language_info": {
   "codemirror_mode": {
    "name": "ipython",
    "version": 3
   },
   "file_extension": ".py",
   "mimetype": "text/x-python",
   "name": "python",
   "nbconvert_exporter": "python",
   "pygments_lexer": "ipython3",
   "version": "3.9.6"
  },
  "vscode": {
   "interpreter": {
    "hash": "aee8b7b246df8f9039afb4144a1f6fd8d2ca17a180786b69acc140d282b71a49"
   }
  }
 },
 "nbformat": 4,
 "nbformat_minor": 4
}
