{
 "cells": [
  {
   "cell_type": "markdown",
   "metadata": {},
   "source": [
    "<br>\n",
    "\n",
    "### cs35 Week6: Reading and response \n",
    "\n",
    "_On the Uses and Misuses of Models_   &nbsp;&nbsp; (hw6pr0.ipynb)\n",
    "\n",
    "<hr>"
   ]
  },
  {
   "cell_type": "markdown",
   "metadata": {},
   "source": [
    "<br>\n",
    "\n",
    "#### Reading for hw6...     (hw6pr0.ipynb)\n",
    "\n",
    "This week's reading has two options:\n",
    "+ [Option 1] Georgia Meyer's review of <u>Escape from Model Land</u>, which addresses the troubles of over-trusting models -- and provides a path for balancing the skepticism and promise of models' _\"knowledge\"_  \n",
    "  + [Here is the link to the original review](https://www.lse.ac.uk/DSI/Research/Blog-posts/Book-review-Escape-from-Model-Land) &nbsp;&nbsp; and &nbsp;&nbsp; [here is a local copy](https://drive.google.com/file/d/1SCuPWPyHEQ2N5eycg48pcV6Rkg8CLzSe/view?usp=drive_link), &nbsp;&nbsp; just in case <br><br>\n",
    "+ [Option 2] Kate Harbath's short history of Cambridge Analytica, perhaps the most costly - and expensive - example of _modeling misuse_\n",
    "  + [Here is the link to the original article](https://bipartisanpolicy.org/blog/cambridge-analytica-controversy/#) &nbsp;&nbsp; and &nbsp;&nbsp; [here is a local copy](https://drive.google.com/file/d/1k0DeDBH0EBdVfApY1O205FXMDbsashzj/view?usp=drive_link), &nbsp;&nbsp; just in case <br><br>\n",
    "+ [Option 1+2] Feel free to read and respond to both (optional and ec, up to +10)\n",
    "\n",
    "\n",
    "#### The prompt(s)\n",
    "\n",
    "Using the article you choose - and your own experience - what are your thoughts on the ***trustworthiness*** of the models that modern approaches can and have created?   \n",
    "\n",
    "Possible jumping-off points include your thoughts on ...\n",
    "+ (1) the responsibility (and accountability) of the humans who **design and create** models. How should the source data affect models' scope and use?  For example, CA's models used _social media scraping_ ... <br><br>\n",
    "+ (2) the responsibility (and accountability) of the humans who **deploy and use** models. To what extent does it matter what the model is a model ***of*** ? For example, CA's models were models _of people_ ... <br><br>\n",
    "+ (3) an example you've encountered where an artificially-learned model was mis-deployed. This could be a non-artificially-learned model, for that matter! Was the responsibility for mis-deployment focused/individually-based? or was it diffuse/community-based? \n",
    "\n",
    "<br>\n",
    "\n",
    "Alternative directions on the tensions between model-trust and human-trust are more than welcome!  \n",
    "\n",
    "As with each week's reading, responses should be thoughtful, but need not be CS35_Participant_2: a 4-5 sentence paragraph is wonderful.\n",
    "\n",
    "<br>\n",
    "<br>\n",
    "<hr>\n",
    "<br>\n",
    "<br>"
   ]
  },
  {
   "cell_type": "code",
   "execution_count": null,
   "metadata": {
    "vscode": {
     "languageId": "plaintext"
    }
   },
   "outputs": [],
   "source": []
  },
  {
   "cell_type": "code",
   "execution_count": null,
   "metadata": {
    "vscode": {
     "languageId": "plaintext"
    }
   },
   "outputs": [],
   "source": []
  },
  {
   "cell_type": "markdown",
   "metadata": {},
   "source": [
    "#### Reading response\n",
    "\n",
    "Feel free to use this cell for your response(s).\n",
    "\n",
    "<br>\n",
    "<br>\n",
    "Georgia Meyer's review of Escape from Model Land \n",
    "I agree with the call for continuous reassessment of the models that modern approaches have created today. I feel that I tend to accept and take in \"information\" for what is given to me and now wish to be more proactive in understanding how such facts are backed up and insights are made. While true enough models are simplified abstractions of reality and are helpful in contextualizing the world we operate in, we must remember that these models are still bounded by assumptions and subject to changes as modern approaches iterate on such models. I appreciate how the review paves a path for us to balance the skepticism and trust of economic models, data models, and our own cognitive models. \n",
    "<hr>\n",
    "\n",
    "<br>"
   ]
  },
  {
   "cell_type": "markdown",
   "metadata": {},
   "source": [
    "No wonder data privacy is so important! Before my summer internship in the AdTech space and reading about the CA controversy, I barely comprehended the importance of data privacy- I have nothing to hide anyway, I thought. At my internship, there was one feature \"POI location\" that had individuals mapped out via data from partner network carriers. To honor privacy, data was hashed and individuals were not identifiable. It still freaked me out. Realizing that these data points can be modelled enlarges the data privacy issue in my mind- it's not whether or not I have anything to hide but a matter of what is done with my data and how it's used to target folks back again. It's interesting to observe today how the mission and joy of interconnectivity, sharing interests and bonding over them, can be construed for other agendas. "
   ]
  }
 ],
 "metadata": {
  "interpreter": {
   "hash": "7ccb4bb6bd67730c9185e6c24c983362cd7b4575b595bfae100d8d91e48f4f1e"
  },
  "kernelspec": {
   "display_name": "Python 3.8.8 64-bit (conda)",
   "language": "python",
   "name": "python3"
  },
  "language_info": {
   "codemirror_mode": {
    "name": "ipython",
    "version": 3
   },
   "file_extension": ".py",
   "mimetype": "text/x-python",
   "name": "python",
   "nbconvert_exporter": "python",
   "pygments_lexer": "ipython3",
   "version": "3.10.2"
  },
  "orig_nbformat": 4
 },
 "nbformat": 4,
 "nbformat_minor": 2
}
