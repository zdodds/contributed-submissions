{
 "cells": [
  {
   "cell_type": "markdown",
   "metadata": {},
   "source": [
    "# Homework 3:  Web-as-Output!\n",
    "\n",
    "Last week was dedicated to _consuming_ (or, perhaps, _gathering_) content **from** the web.\n",
    "\n",
    "This week and this notebook invites you into the world of _producing_ content for the web. The nice thing is\n",
    "  + the actual _producing_ happens in a scripting language\n",
    "  + and then the _formatting_ for the web can be done automatically\n",
    "  + whew!"
   ]
  },
  {
   "cell_type": "markdown",
   "metadata": {},
   "source": [
    "#### <font style=\"color:rgb(180,120,10);\"><b>hw3pr1, parts (a) and (b)</b>:  &nbsp; \"real\" webscraping...</font>\n",
    "\n",
    "This problem bridges input from the web with output to the web. Last week's use of APIs found and interpreted **structured** data, mostly JSON.  (For pre-defined APIs, JSON is what's used, most of the time!)\n",
    "\n",
    "What if a site has information you'd like to use, but only has HTML, but not JSON? In this case, <tt>requests</tt> will provide the raw HTML (as a string) and it'll be up to us to extract the information we want! We'll use \n",
    "  + Python string-handling and <tt>string</tt> libraries, and\n",
    "  + Python's _regular expression_ <tt>re</tt> library, a mini-language for string-matching and -manipulating."
   ]
  },
  {
   "cell_type": "markdown",
   "metadata": {},
   "source": [
    "First, an example.  We want to programmatically access the _best snacks_ on the <u>definitive snacks page</u>, which is [here at this url](https://www.cs.hmc.edu/~dodds/demo.html)\n",
    "\n",
    "Alas, this snack-centric web service seems not to have a JSON API! We will have to grab the whole HTML text. HTML is always sent over as a huge string..."
   ]
  },
  {
   "cell_type": "code",
   "execution_count": 58,
   "metadata": {},
   "outputs": [
    {
     "name": "stdout",
     "output_type": "stream",
     "text": [
      "result = <Response [200]>\n"
     ]
    }
   ],
   "source": [
    "import requests\n",
    "\n",
    "url = \"https://www.cs.hmc.edu/~dodds/demo.html\"\n",
    "result = requests.get(url)\n",
    "print(f\"{result = }\")"
   ]
  },
  {
   "cell_type": "code",
   "execution_count": 59,
   "metadata": {},
   "outputs": [
    {
     "name": "stdout",
     "output_type": "stream",
     "text": [
      "<html>\n",
      "  <head>\n",
      "    <title>My streamlined website</title>\n",
      "  </head>\n",
      "  <body>\n",
      "    <h1> Welcome! </h1>\n",
      "    <h2> The best numbers </h2>\n",
      "\n",
      "    <div id=\"numberlist\">\n",
      "      <ol>\n",
      "\t<li class=\"number\"> 35 </li>\n",
      "\t<li class=\"number\"> 42 </li>\n",
      "\t<li class=\"number\"> <a href=\"https://en.wikipedia.org/wiki/Rayo%27s_number\">Rayo's number</a> </li>\n",
      "      </ol>\n",
      "    </div>\n",
      "\n",
      "    <img src=\"./spam.jpg\" height=\"84px\">\n",
      "    <br><br>\n",
      "\n",
      "    <h2> The <s>only</s> best snacks </h2>\n",
      "\n",
      "    <div id=\"snacklist\">\n",
      "      <ul>\n",
      "\t<li class=\"snack\"> Poptarts </li>\n",
      "\t<li class=\"snack\"> Chocolate </li>\n",
      "\t<li class=\"snack\"> Coffee </li>\n",
      "      </ul>\n",
      "    </div>\n",
      "\n",
      "<!--    <a href=\"./demo_cat.html\">Aliens <3 cats!</a>  -->\n",
      "\n",
      "    <img src=\"./alien.png\" height=\"101px\">\n",
      "\n",
      "  </body>\n",
      "</html>\n",
      "\n",
      "\n",
      "\n",
      "\n"
     ]
    }
   ],
   "source": [
    "# Let's print the text we just grabbed:\n",
    "snack_page = result.text\n",
    "print(snack_page)\n",
    "\n",
    "text = snack_page         # ok to have many names..."
   ]
  },
  {
   "cell_type": "markdown",
   "metadata": {},
   "source": [
    "#### <font style=\"color:rgb(180,120,10);\"><b>hw3pr1a</b>:  &nbsp; snack-scraping, _an example to run_ </font>\n",
    "\n",
    "For this part, follow the cells below to scrape all of the snacks from the above string.\n",
    "\n",
    "Notice that all of the snacks have a _common context_ - namely, the HTML ``<li>`` and ``</li>`` tags in which they're embedded. In addition, they are all of _class_ ``\"snack\"``\n",
    "\n",
    "<br>\n",
    "<hr>"
   ]
  },
  {
   "cell_type": "markdown",
   "metadata": {},
   "source": [
    "Ooh... we notice that all of the snacks are inside ``li`` tags:\n",
    "+ These are _list items_ within an _unordered list_ \n",
    "+ Here is an example of one: ``<li class=\"snack\"> Poptarts </li>``\n",
    "+ Notice, too, that the ``class`` in each case is ``\"snack\"``\n",
    "\n",
    "There are three ways to grab all of these snacks!\n",
    "1. We can use the ``.find`` method all strings have! (We'll do this.)\n",
    "1. We can use regular expressions. See part (c)!\n",
    "1. We can use a library such as [BeautifulSoup](https://beautiful-soup-4.readthedocs.io/en/latest/)  [[Good choice for a **final** project, if you'd like...]]\n",
    "\n",
    "For now, let's show how ``.find`` can work:\n",
    "\n",
    "First, let's see/remember what the <tt>find</tt> method does:"
   ]
  },
  {
   "cell_type": "code",
   "execution_count": 1,
   "metadata": {},
   "outputs": [
    {
     "data": {
      "text/plain": [
       "4"
      ]
     },
     "execution_count": 1,
     "metadata": {},
     "output_type": "execute_result"
    }
   ],
   "source": [
    "#    0         1         2             # ten's place\n",
    "#    0123456789012345678901234567      # one's place\n",
    "s = \"abcdefghijklmnopqrstuvwxy&jk\"\n",
    "s.find(\"e\")                            # try 'a', 'j', 'hi', 'hit', and 'z' ! jk!\n",
    "\n",
    "                                       # s.find(\"a\",15)   # try (\"j\",15)\n"
   ]
  },
  {
   "cell_type": "markdown",
   "metadata": {},
   "source": [
    "Ok! Now we can create a plan...\n",
    "\n",
    "<br>\n",
    "<hr>\n",
    "\n",
    "Let's \n",
    "  + find each instance of ``<li class=\"snack\">``\n",
    "  + print their indices and\n",
    "  + print the string between them!"
   ]
  },
  {
   "cell_type": "code",
   "execution_count": 4,
   "metadata": {},
   "outputs": [
    {
     "name": "stdout",
     "output_type": "stream",
     "text": [
      "snack_slice = '<li class=\"snack\"> Poptarts </li>\\n\\t<li cla'\n",
      "snack_slice = '<li class=\"snack\"> Coffee </li>\\n      </ul'\n",
      "\n",
      "Complete!\n"
     ]
    }
   ],
   "source": [
    "end = 0\n",
    "\n",
    "while True:\n",
    "    start = snack_page.find('<li class=\"snack\">', end)\n",
    "    if start == -1: break     # stop if we're done!\n",
    "    end = start + 42          # 42 characters!\n",
    "    \n",
    "    snack_slice = snack_page[ start:end ]\n",
    "    print(f\"{snack_slice = }\")\n",
    "\n",
    "print(\"\\nComplete!\")\n"
   ]
  },
  {
   "cell_type": "markdown",
   "metadata": {},
   "source": [
    "Aargh!  We only got two snacks. &nbsp; ***Do you see why?***\n",
    "\n",
    "It's because we started the next ``find`` 42 characters after the first one, at ``end``, and it <u>ate into</u> the next snack. <br> So, it could only find the first and third snacks.\n",
    "\n",
    "<br>\n",
    "\n",
    "Let's repeat the process, more carefully\n",
    "  + We should find the following ``</li>``\n",
    "  + and then continue from there!"
   ]
  },
  {
   "cell_type": "code",
   "execution_count": 5,
   "metadata": {},
   "outputs": [
    {
     "name": "stdout",
     "output_type": "stream",
     "text": [
      "snack_slice = '<li class=\"snack\"> Poptarts </li>'\n",
      "snack_slice = '<li class=\"snack\"> Chocolate </li>'\n",
      "snack_slice = '<li class=\"snack\"> Coffee </li>'\n",
      "\n",
      "Complete!\n"
     ]
    }
   ],
   "source": [
    "end = 0\n",
    "\n",
    "while True:\n",
    "    start = snack_page.find('<li class=\"snack\">', end)\n",
    "    if start == -1: break     # stop if we're done!\n",
    "    end = snack_page.find('</li>', start)  # find the correct ending!\n",
    "    \n",
    "    snack_slice = snack_page[ start:end+5 ]\n",
    "    print(f\"{snack_slice = }\")\n",
    "\n",
    "print(\"\\nComplete!\")"
   ]
  },
  {
   "cell_type": "markdown",
   "metadata": {},
   "source": [
    "<b>We have our snacks!</b>\n",
    "\n",
    "Let's show how to get ***only*** the snacks, not the HTML and CSS...\n",
    "\n",
    "What's needed is the offset to the front of the snack, here in the variable ``FRONT``"
   ]
  },
  {
   "cell_type": "code",
   "execution_count": null,
   "metadata": {},
   "outputs": [
    {
     "name": "stdout",
     "output_type": "stream",
     "text": [
      "snack_slice = ' Poptarts '\n",
      "snack_slice = ' Chocolate '\n",
      "snack_slice = ' Coffee '\n",
      "\n",
      "Yay!!!\n"
     ]
    }
   ],
   "source": [
    "# we need the length of the search string!\n",
    "FRONT = len('<li class=\"snack\">')\n",
    "\n",
    "end = 0\n",
    "\n",
    "while True:\n",
    "    start = snack_page.find('<li class=\"snack\">', end)\n",
    "    if start == -1: break     # stop if we're done!\n",
    "    end = snack_page.find('</li>', start)  # find the correct ending!\n",
    "    \n",
    "    snack_slice = snack_page[ start+FRONT:end ]\n",
    "    print(f\"{snack_slice = }\")\n",
    "\n",
    "print(\"\\nYay!!!\")"
   ]
  },
  {
   "cell_type": "markdown",
   "metadata": {},
   "source": [
    "#### Scraping Success!  \n",
    "\n",
    "We have \n",
    "+ scraped a superior snack page that, alas, did not have a JSON API...\n",
    "+ written a special-purpose script that extracted the superior snacks from the page\n",
    "+ and shown that we have them (by printing them, but we could put them in a ~~fridge~~ list for future snack-use!)"
   ]
  },
  {
   "cell_type": "markdown",
   "metadata": {},
   "source": [
    "#### <font style=\"color:rgb(180,120,10);\"><b>hw3pr1b</b>:  &nbsp; Scrape another page and extract specific data - your choice -  from it ... </font>\n",
    "\n",
    "For this part, find another page - as large and complicated as you'd like - and scrape one or more pieces of information -- your choice -- from it...\n",
    "  + Be sure that your information-extraction involves some use of the function <tt>find</tt>  \n",
    "  + _or_ some use of the ``re`` regular expression library, which is introduced and used below.\n",
    "  + The other details are up to you...\n",
    "\n",
    "Ideas? Possibilities include\n",
    "+ Any page that allows you to scrape it will work -- in the past, students have used The Student Life, and then compared which college is mentioned the most...\n",
    "+ or the NYTimes, and see which of two cities/states/nation is mentioned the most\n",
    "+ Perhaps one or two Wikipedia page(s), or a landing page for an organization...\n",
    "+ With patience, you _can_ use ``find`` and/or ``re`` to extract arbitrary information... and this is a powerful foundation \n",
    "  + worth bragging about... 🍰 \n"
   ]
  },
  {
   "cell_type": "code",
   "execution_count": 63,
   "metadata": {},
   "outputs": [
    {
     "name": "stdout",
     "output_type": "stream",
     "text": [
      "result = <Response [200]>\n",
      "The word 'porridge' appears 16 times in Goldilocks and the Three Bears.\n"
     ]
    }
   ],
   "source": [
    "#\n",
    "# hw3pr1, part (b)\n",
    "#\n",
    "import requests\n",
    "from bs4 import BeautifulSoup\n",
    "import re\n",
    "\n",
    "#Counting how many times porridge is mentioned in Goldilocks and the Three Bears\n",
    "\n",
    "url = \"https://americanliterature.com/childrens-stories/goldilocks-and-the-three-bears\"\n",
    "result = requests.get(url)\n",
    "print(f\"{result = }\")\n",
    "\n",
    "goldi = result.text\n",
    "\n",
    "soup= BeautifulSoup(goldi,'html.parser') \n",
    "text = soup.get_text()\n",
    "\n",
    "porridge_count = len(re.findall(r\"porridge\",text,re.IGNORECASE))\n",
    "\n",
    "print(f\"The word 'porridge' appears {porridge_count} times in Goldilocks and the Three Bears.\")\n"
   ]
  },
  {
   "cell_type": "markdown",
   "metadata": {},
   "source": [
    "That's it for <b>hw3pr1</b>, parts (a) and (b) ...\n",
    "\n",
    "<br>\n",
    "<hr>\n",
    "<br>\n",
    "\n",
    "Onward to <b>hw3pr1</b>, part (c): &nbsp; _Writing your own web-engine_ &nbsp; (with regular expressions) \n",
    "  + We'll start by introducing _regular expressions_ - we'll see they provide a nice way to \"grab\" the <tt>&lt;li&gt;</tt> items from HTML...\n",
    "  + In fact, they're a great toolset for pretty much ***any*** text-extraction at all!\n",
    "\n",
    "  <br><br>"
   ]
  },
  {
   "cell_type": "markdown",
   "metadata": {},
   "source": [
    "#### <font style=\"color:rgb(180,120,10);\"><b>hw3pr2</b>  &nbsp; Regular Expressions: &nbsp;  A _better_ approach to list-item finding and extracting...</font>\n",
    "\n",
    "The list-item example above used one function to find the items and another to \"clearn them up.\"\n",
    "  + This is great! And, will work for absolutely anything you need (adding functions as you go...)\n",
    "\n",
    "**However**, there is a very powerful \"mini\" pattern-matching language that can help with many text-processing tasks: ***regular expressions***\n",
    "  + Sometimes called <tt>regex</tt>'es or <tt>re</tt>'s,\n",
    "  + regular expressions are a very compact languages for matching text patterns.\n",
    "  + the Python library is <tt>re</tt>\n",
    "\n",
    "Before unpacking the regex language, let's see it in action for the \"handle list-item tags\" challenge:"
   ]
  },
  {
   "cell_type": "code",
   "execution_count": 43,
   "metadata": {},
   "outputs": [],
   "source": [
    "# Let's import the regular expression library (it should be built-in)\n",
    "import re"
   ]
  },
  {
   "cell_type": "code",
   "execution_count": 44,
   "metadata": {},
   "outputs": [
    {
     "ename": "NameError",
     "evalue": "name 'snack_page' is not defined",
     "output_type": "error",
     "traceback": [
      "\u001b[0;31m---------------------------------------------------------------------------\u001b[0m",
      "\u001b[0;31mNameError\u001b[0m                                 Traceback (most recent call last)",
      "Cell \u001b[0;32mIn[44], line 5\u001b[0m\n\u001b[1;32m      1\u001b[0m \u001b[38;5;66;03m# REs are a whole language! \u001b[39;00m\n\u001b[1;32m      2\u001b[0m \u001b[38;5;66;03m# Let's see a strategic use, to get our snacks from the snack_page above:\u001b[39;00m\n\u001b[1;32m      3\u001b[0m \u001b[38;5;28;01mimport\u001b[39;00m \u001b[38;5;21;01mre\u001b[39;00m\n\u001b[0;32m----> 5\u001b[0m m \u001b[38;5;241m=\u001b[39m re\u001b[38;5;241m.\u001b[39mfindall(\u001b[38;5;124mr\u001b[39m\u001b[38;5;124m'\u001b[39m\u001b[38;5;124m<li class=\u001b[39m\u001b[38;5;124m\"\u001b[39m\u001b[38;5;124msnack\u001b[39m\u001b[38;5;124m\"\u001b[39m\u001b[38;5;124m>(.*)</li>\u001b[39m\u001b[38;5;124m'\u001b[39m, snack_page )      \u001b[38;5;66;03m# Yikes!    Common functions: findall, sub, search, match  \u001b[39;00m\n\u001b[1;32m      7\u001b[0m \u001b[38;5;28mprint\u001b[39m(\u001b[38;5;124mf\u001b[39m\u001b[38;5;124m\"\u001b[39m\u001b[38;5;132;01m{\u001b[39;00mm\u001b[38;5;250m \u001b[39m\u001b[38;5;132;01m= }\u001b[39;00m\u001b[38;5;124m\"\u001b[39m)\n",
      "\u001b[0;31mNameError\u001b[0m: name 'snack_page' is not defined"
     ]
    }
   ],
   "source": [
    "# REs are a whole language! \n",
    "# Let's see a strategic use, to get our snacks from the snack_page above:\n",
    "import re\n",
    "\n",
    "m = re.findall(r'<li class=\"snack\">(.*)</li>', snack_page )      # Yikes!    Common functions: findall, sub, search, match  \n",
    "\n",
    "print(f\"{m = }\")                                                 # Wow!!!"
   ]
  },
  {
   "cell_type": "markdown",
   "metadata": {},
   "source": [
    "### A nice example of RE's, _Regular Expressions_!  &nbsp;&nbsp; \n",
    "\n",
    "No turning back now...  😊\n",
    "\n",
    "<br>\n",
    "\n",
    "As a goal, let's build up to that large example above.  However, we won't use ``findall`` .\n",
    "\n",
    "It's more informative to use ``sub`` (for _substitution_), so we can see what's found -- and what it becomes."
   ]
  },
  {
   "cell_type": "code",
   "execution_count": 6,
   "metadata": {},
   "outputs": [
    {
     "data": {
      "text/plain": [
       "'Mildred Mudd'"
      ]
     },
     "execution_count": 6,
     "metadata": {},
     "output_type": "execute_result"
    }
   ],
   "source": [
    "# Let's try some smaller examples to build up to the snack_page example:\n",
    "\n",
    "# fundamental capabilities:  regex matching and substitution  \n",
    "#\n",
    "#    the regex:\n",
    "#      matcher:    replacer:   in this string:\n",
    "re.sub(r\"Harvey\",  \"Mildred\",  \"Harvey Mudd\")           # the 'r' is for 'raw' strings. They're best for re's."
   ]
  },
  {
   "cell_type": "code",
   "execution_count": 7,
   "metadata": {},
   "outputs": [
    {
     "data": {
      "text/plain": [
       "'This cat is cateful!'"
      ]
     },
     "execution_count": 7,
     "metadata": {},
     "output_type": "execute_result"
    }
   ],
   "source": [
    "re.sub(r\"car\", \"cat\",  \"This car is careful!\")          # we'll stick with substitution for now...  uh oh!  space or ,1"
   ]
  },
  {
   "cell_type": "code",
   "execution_count": 16,
   "metadata": {},
   "outputs": [
    {
     "data": {
      "text/plain": [
       "'a-a'"
      ]
     },
     "execution_count": 16,
     "metadata": {},
     "output_type": "execute_result"
    }
   ],
   "source": [
    "re.sub(r\"a.*a\", \"a-a\", \"alabama\")  "
   ]
  },
  {
   "cell_type": "code",
   "execution_count": 45,
   "metadata": {},
   "outputs": [
    {
     "data": {
      "text/plain": [
       "'Harvey Mudd'"
      ]
     },
     "execution_count": 45,
     "metadata": {},
     "output_type": "execute_result"
    }
   ],
   "source": [
    "re.sub(r\"d\", \"dd\", \"Harvey Mud\")          # try \"Mildred Mudd\""
   ]
  },
  {
   "cell_type": "code",
   "execution_count": 46,
   "metadata": {},
   "outputs": [
    {
     "data": {
      "text/plain": [
       "'Mildred Mudd'"
      ]
     },
     "execution_count": 46,
     "metadata": {},
     "output_type": "execute_result"
    }
   ],
   "source": [
    "# ANCHORS:  Patterns can be anchored:   $ meand the _end_\n",
    "re.sub(r\"d$\", \"dd\", \"Mildred Mud\" )   # $ signifies (matches) the END of the line"
   ]
  },
  {
   "cell_type": "code",
   "execution_count": 47,
   "metadata": {},
   "outputs": [
    {
     "data": {
      "text/plain": [
       "'ℳildred Mudd'"
      ]
     },
     "execution_count": 47,
     "metadata": {},
     "output_type": "execute_result"
    }
   ],
   "source": [
    "# ANCHORS:  Patterns can be anchored:   ^  means the _start_ \n",
    "re.sub(r\"^M\", \"ℳ\", \"Mildred Mudd\" )   # ^ signifies (matches) the START of the line  (unicode M :)"
   ]
  },
  {
   "cell_type": "code",
   "execution_count": 48,
   "metadata": {},
   "outputs": [
    {
     "data": {
      "text/plain": [
       "\"Isn't the alien sking this weekend? AiIIIiIIIeee!\""
      ]
     },
     "execution_count": 48,
     "metadata": {},
     "output_type": "execute_result"
    }
   ],
   "source": [
    "# PLUS  +   means one or more:\n",
    "re.sub(r\"i+\", \"i\", \"Isn't the aliiien skiing this weekend? AiiiIIIiiiiIIIeee!\" )   # try replacing with \"\" or \"I\" or \"𝒾\" or \"ⓘ\""
   ]
  },
  {
   "cell_type": "code",
   "execution_count": 49,
   "metadata": {},
   "outputs": [
    {
     "data": {
      "text/plain": [
       "\"isn't the alien sking this weekend? Aieee!\""
      ]
     },
     "execution_count": 49,
     "metadata": {},
     "output_type": "execute_result"
    }
   ],
   "source": [
    "# SquareBrackets  [iI]  mean any from that character group:\n",
    "re.sub(r\"[Ii]+\", \"i\", \"Isn't the aliiien skiing this weekend? AiiiIIIiiiiIIIeee!\" )   # it can vary within the group!"
   ]
  },
  {
   "cell_type": "code",
   "execution_count": 50,
   "metadata": {},
   "outputs": [
    {
     "data": {
      "text/plain": [
       "\"A**! Y**'** FOUND ** ******: 42!\""
      ]
     },
     "execution_count": 50,
     "metadata": {},
     "output_type": "execute_result"
    }
   ],
   "source": [
    "# SquareBrackets allow ranges, e.g., [a-z]\n",
    "re.sub(r\"[a-z]\", \"*\", \"Aha! You've FOUND my secret: 42!\")       # use a +,  add A-Z, show \\w, for \"word\" character"
   ]
  },
  {
   "cell_type": "code",
   "execution_count": 51,
   "metadata": {},
   "outputs": [
    {
     "data": {
      "text/plain": [
       "'Aliens <42 pets! They have 42 cats, 42 lemurs, and 42 manatees!'"
      ]
     },
     "execution_count": 51,
     "metadata": {},
     "output_type": "execute_result"
    }
   ],
   "source": [
    "# Let's try the range [0-9] and +\n",
    "re.sub(r\"[0-9]+\", \"42\",  \"Aliens <3 pets! They have 45 cats, 6 lemurs, and 789 manatees!\")   # DISCUSS!  no +? How to fix?!"
   ]
  },
  {
   "cell_type": "markdown",
   "metadata": {},
   "source": [
    "Ok! &nbsp;&nbsp; Let's expand our thought experiments:"
   ]
  },
  {
   "cell_type": "code",
   "execution_count": 52,
   "metadata": {},
   "outputs": [
    {
     "data": {
      "text/plain": [
       "'-S'"
      ]
     },
     "execution_count": 52,
     "metadata": {},
     "output_type": "execute_result"
    }
   ],
   "source": [
    "re.sub( r\"or\", \"and\", \"words or phrases\" )\n",
    "re.sub( r\"s\", \"-\", \"words or phrases\" )\n",
    "re.sub( r\"[aeiou]\", \"-\", \"words or phrases\" )\n",
    "\n",
    "re.sub( r\"$\", \" [end]\", \"words or phrases\" )\n",
    "re.sub( r\"^\", \"[start] \", \"words or phrases\" )\n",
    "\n",
    "# Challenge! The dot . matches _any_ single character:  \n",
    "re.sub( r\".\", \"-\", \"words or phrases\" )   # What will this do?\n",
    "\n",
    "re.sub( r\".s\", \"-S\", \"words or phrases\" )  # And this one?!\n",
    "\n",
    "re.sub( r\".+s\", \"-S\", \"words or phrases\" )  # And this one?!!"
   ]
  },
  {
   "cell_type": "markdown",
   "metadata": {},
   "source": [
    "There is one more \"common\" regular expression element. &nbsp;&nbsp; The star * means \"zero or more\" of what precedes it...\n",
    "\n",
    "It's similar to the plus + (which means 1 or more), _but * also allows for 0 times_ !  &nbsp;&nbsp; This can be mind-bending..."
   ]
  },
  {
   "cell_type": "code",
   "execution_count": 53,
   "metadata": {},
   "outputs": [
    {
     "data": {
      "text/plain": [
       "\"Favorite #'s:  47 47 47 47 47 47\""
      ]
     },
     "execution_count": 53,
     "metadata": {},
     "output_type": "execute_result"
    }
   ],
   "source": [
    "# The star (asterisk) matches ZERO or more times...\n",
    "re.sub(r\"42*\", \"47\", \"Favorite #'s:  4 42 422 4222 42222 422222\")       # try + {2}  {1,3}   (42)"
   ]
  },
  {
   "cell_type": "markdown",
   "metadata": {},
   "source": [
    "####   Ok!  Let's break out, to a more <font color=\"DodgerBlue\"><b>hands-on</b></font> medium...\n",
    "\n",
    "... to try out our ``\"alabama\"`` and ``\"Google\"`` regular-expression challenges... :) \n",
    "\n",
    "<br><br>"
   ]
  },
  {
   "cell_type": "markdown",
   "metadata": {},
   "source": [
    "We now have ***almost*** everything in that list-item-handling example from a while back. \n",
    "\n",
    "Let's take a look -- and add the idea of a _capture group_   &nbsp;&nbsp; (using parens)"
   ]
  },
  {
   "cell_type": "code",
   "execution_count": 60,
   "metadata": {},
   "outputs": [
    {
     "name": "stdout",
     "output_type": "stream",
     "text": [
      "m = [' Poptarts ', ' Chocolate ', ' Coffee ']\n"
     ]
    }
   ],
   "source": [
    "m = re.findall(r'<li class=\"snack\">(.*)</li>', snack_page )   # parens are a \"capture group\"   # try w/o it  # try search & sub\n",
    "                                                   # each set of parents \"captures\" the text inside it\n",
    "print(f\"{m = }\")                                   # it can even be used later, as \\1, \\2, \\3, etc. "
   ]
  },
  {
   "cell_type": "markdown",
   "metadata": {},
   "source": [
    "#### <font style=\"color:rgb(180,120,10);\"><b>hw3pr1, part(c)</b> &nbsp;&nbsp; Writing your own Web Engine &nbsp; _with Regular Expressions_ ... </font>\n",
    "\n",
    "A **web engine** is an informal term for software that makes content visible in a browser. For example,\n",
    "+ In Jupyter notebooks, we write _markdown_ and then VSCode renders it as _markup_\n",
    "+ Similarly, this happens in Google Colab and _anywhere_ markdown is used! \n",
    "  + to do this, the syntax <tt>_italic_</tt> gets transformed into <tt><i>italic</i></tt> by a \"markdown-to-markup\" web engine\n",
    "  + from there, the browser can render the latter using its markup: &nbsp; <i>italic</i>\n",
    "  + (in fact, it uses another web engine to go from markup to visible content)  \n",
    "  \n",
    "+ We will focus on implementing the **markdown-to-markup** step - and extending it, by adding a few features of your own design \n",
    "\n",
    "<b><font color=\"DodgerBlue\">Side note</font></b>: &nbsp;&nbsp; This is an example of _meta-programming_ for software! That is, writing programs that transform one sort of programs into another, more useful sort!\n",
    "+ Often, with strategic transformations along the way...\n",
    "+ Metaprogramming is poised to be a much larger part of the next two decades than it was in the last two...!"
   ]
  },
  {
   "cell_type": "markdown",
   "metadata": {},
   "source": [
    "<br>\n",
    "<hr>\n",
    "<br>"
   ]
  },
  {
   "cell_type": "markdown",
   "metadata": {},
   "source": [
    "The next cell has the _starting markdown_ for our **markdown-to-markup** web engine.  \n",
    "\n",
    "Because the next cell ***is*** markdown -- and it's in a notebook _with_ a markdown engine -- you'll see the markup, as usual!\n",
    "+ As usual, you can see the markdown by double-clicking the cell\n",
    "+ It's also available as a Python string in the following cell..."
   ]
  },
  {
   "cell_type": "markdown",
   "metadata": {},
   "source": [
    "# Claremont's Colleges - MARKDOWN version\n",
    "\n",
    "The Claremont Colleges are a *consortium* of **five** SoCal institutions. <br>\n",
    "We list them here.\n",
    "\n",
    "## The 5Cs: a list\n",
    "+ [Pomona](https://www.pomona.edu/)\n",
    "+ [CMC](https://www.cmc.edu/)\n",
    "+ [Pitzer](https://www.pitzer.edu/)\n",
    "+ [Scripps](https://www.scrippscollege.edu/)\n",
    "+ [HMC](https://www.hmc.edu/)\n",
    "\n",
    "The above's an _unordered_ list.  <br>\n",
    "At the 5Cs, we all agree there's __no__ order!\n",
    "\n",
    "---\n",
    "\n",
    "## Today's featured college: [CMC](https://coloradomtn.edu/)\n",
    "\n",
    "<img src=\"https://ygzm5vgh89zp-u4384.pressidiumcdn.com/wp-content/uploads/2017/06/GWS_campusview_1000x627.jpg\" height=160>\n",
    "\n",
    "---\n",
    "\n",
    "### Also featured: &nbsp; Scripps and Pitzer and Mudd and Pomona\n",
    "\n",
    "<img src=\"https://i0.wp.com/tsl.news/wp-content/uploads/2018/09/scripps.png?w=1430&ssl=1\" height=100px> &nbsp; \n",
    "<img src=\"https://upload.wikimedia.org/wikipedia/commons/f/f9/Brant_Clock_Tower%2C_Pitzer_College%2C_2016_%28cropped%29.jpg\" height=100px> &nbsp; \n",
    "<img src=\"https://www.hmc.edu/about/wp-content/uploads/sites/2/2020/02/campus-gv.jpg\" height=100px> &nbsp;\n",
    "<img src=\"https://upload.wikimedia.org/wikipedia/commons/4/46/Smith_Tower_and_the_San_Gabriel_Mountains.jpg\" height=100px>\n",
    "\n",
    "Are there _other_ schools in Claremont?\n",
    "\n",
    "### Claremont destinations\n",
    "+ _Pepo Melo_, a fantastic font of fruit!\n",
    "+ **Starbucks**, the center of Claremont's \"city,\" not as good as Scripps's _Motley_ \n",
    "+ ***Sancho's Tacos***, the village's newest establishment\n",
    "+ ~~In-and-out CS35_Participant_3~~ (not in Claremont, alas, but close! CMC-supported!)\n",
    "+ `42`nd Street Bagel, an HMC fave, definitely _well-numbered_\n",
    "+ Trader Joe's, providing fuel for the walk back to Pitzer _from Trader Joe's_\n",
    "\n",
    "---\n",
    "\n",
    "#### Regular Expression Code-of-the-Day \n",
    "`import re`               \n",
    "`pet_statement = re.sub(r'dog', 'cat', 'I <3 dogs')`\n",
    "\n",
    "#### New Construction of the ~~Day~~ _Decade_!\n",
    "\n",
    "<img src=\"https://www.cs.hmc.edu/~dodds/roberts_uc.png\" height=150> <br><br>\n",
    "\n",
    "CMC's **_Roberts Science Center_, also known as _\"The Rubiks Cube\"_** <br>\n",
    "Currently under construction, under deadline, and undeterred by SoCal sun, or rain... \n",
    "\n",
    "<br><br>\n"
   ]
  },
  {
   "cell_type": "code",
   "execution_count": 67,
   "metadata": {},
   "outputs": [],
   "source": [
    "#\n",
    "# Here is a code cell, with the entire first-draft markdown of the previous cell \n",
    "# \n",
    "# stored in the Python variable      original_markdown\n",
    "#\n",
    "\n",
    "original_markdown = \"\"\"\n",
    "\n",
    "# Claremont's Colleges - MARKDOWN version\n",
    "\n",
    "The Claremont Colleges are a *consortium* of **five** SoCal institutions. <br>\n",
    "We list them here.\n",
    "\n",
    "## The 5Cs: a list\n",
    "+ [Pomona](https://www.pomona.edu/)\n",
    "+ [CMC](https://www.cmc.edu/)\n",
    "+ [Pitzer](https://www.pitzer.edu/)\n",
    "+ [Scripps](https://www.scrippscollege.edu/)\n",
    "+ [HMC](https://www.hmc.edu/)\n",
    "\n",
    "The above's an _unordered_ list.  <br>\n",
    "At the 5Cs, we all agree there's __no__ order!\n",
    "\n",
    "---\n",
    "\n",
    "## Today's featured college: [CMC](https://coloradomtn.edu/)\n",
    "\n",
    "<img src=\"https://ygzm5vgh89zp-u4384.pressidiumcdn.com/wp-content/uploads/2017/06/GWS_campusview_1000x627.jpg\" height=160>\n",
    "\n",
    "---\n",
    "\n",
    "### Also featured: &nbsp; Scripps and Pitzer and Mudd and Pomona\n",
    "\n",
    "<img src=\"https://i0.wp.com/tsl.news/wp-content/uploads/2018/09/scripps.png?w=1430&ssl=1\" height=100px> &nbsp; \n",
    "<img src=\"https://upload.wikimedia.org/wikipedia/commons/f/f9/Brant_Clock_Tower%2C_Pitzer_College%2C_2016_%28cropped%29.jpg\" height=100px> &nbsp; \n",
    "<img src=\"https://www.hmc.edu/about/wp-content/uploads/sites/2/2020/02/campus-gv.jpg\" height=100px> &nbsp;\n",
    "<img src=\"https://upload.wikimedia.org/wikipedia/commons/4/46/Smith_Tower_and_the_San_Gabriel_Mountains.jpg\" height=100px>\n",
    "\n",
    "Are there _other_ schools in Claremont?\n",
    "\n",
    "### Claremont destinations\n",
    "+ _Pepo Melo_, a fantastic font of fruit!\n",
    "+ **Starbucks**, the center of Claremont's \"city,\" not as good as Scripps's _Motley_ \n",
    "+ ***Sancho's Tacos***, the village's newest establishment\n",
    "+ ~~In-and-out CS35_Participant_3~~ (not in Claremont, alas, but close! CMC-supported!)\n",
    "+ `42`nd Street Bagel, an HMC fave, definitely _well-numbered_\n",
    "+ Trader Joe's, providing fuel for the walk back to Pitzer _from Trader Joe's_\n",
    "\n",
    "---\n",
    "\n",
    "#### Regular Expression Code-of-the-Day \n",
    "`import re`               \n",
    "`pet_statement = re.sub(r'dog', 'cat', 'I <3 dogs')`\n",
    "\n",
    "#### New Construction of the ~~Day~~ _Decade_!\n",
    "\n",
    "<img src=\"https://www.cs.hmc.edu/~dodds/roberts_uc.png\" height=150> <br><br>\n",
    "\n",
    "CMC's **_Roberts Science Center_, also known as _\"The Rubiks Cube\"_** <br>\n",
    "Currently under construction, under deadline, and undeterred by SoCal sun, or rain... \n",
    "\n",
    "<br><br>\n",
    "\n",
    "\n",
    "\"\"\""
   ]
  },
  {
   "cell_type": "code",
   "execution_count": 134,
   "metadata": {},
   "outputs": [],
   "source": [
    "#\n",
    "# here is a function to write a string to a file (default name: output.html)\n",
    "#\n",
    "\n",
    "def write_to_file(contents, filename=\"output.html\"):\n",
    "    \"\"\" writes the string final_contents to the file filename \"\"\"\n",
    "    f = open(filename,\"w\")\n",
    "    print(contents, file=f)\n",
    "    print(f\"{filename = } written. Try opening it in a browser!\")\n",
    "    f.close()"
   ]
  },
  {
   "cell_type": "code",
   "execution_count": 133,
   "metadata": {},
   "outputs": [
    {
     "name": "stdout",
     "output_type": "stream",
     "text": [
      "filename = 'output.html' written. Try opening it in a browser!\n"
     ]
    }
   ],
   "source": [
    "#\n",
    "# Let's write our original_markdown to file...\n",
    "#\n",
    "\n",
    "write_to_file(original_markdown)"
   ]
  },
  {
   "cell_type": "markdown",
   "metadata": {},
   "source": [
    "#### <font color=\"Goldenrod\"><b>Your hw3pr1c task</b></font> is to create a set of functions that create a markdown-to-markup transformer!\n",
    "+ <b>including</b> at least these existing markdown features: headers, bold, italic, strikethrough (for Toby!), url-links, and item-lists\n",
    "+ <b>and you should design</b> at least three new markdown-features of your own. <font size=\"-2\">(This is ***modern*** markdown, not that stodgy markdown from the 90's!)</font>\n",
    "+ The assignment page has several suggestions. You'll add to the markdown source to show off your new features (and customize)\n",
    "\n",
    "<hr>\n",
    "\n",
    "To get started, the following cells have a couple of example transformations: \n",
    "+ how to convert the word ``MARKDOWN`` to the word ``MARKUP``\n",
    "+ how to convert all of the newlines to <tt>&lt;br&gt;</tt>\n",
    "+ how to handle the <tt># </tt>  top-level headers, which use <tt>&lt;h1&gt;</tt> and  <tt>&lt;/h1&gt;</tt> around their contents\n",
    "+ how to handle fixed-width (<tt>code-type</tt>) text, which converts backticks <tt>`</tt> to <tt>&lt;tt&gt;</tt>, e.g., <tt>&#96;code&#96;</tt> to <tt>&lt;tt&gt;code&lt;/tt&gt;</tt>\n",
    "\n",
    "It writes out the result to a file. \n",
    "+ Reload it directly in a browser to see how well it's doing.\n",
    "+ Then, dive into the other changes..."
   ]
  },
  {
   "cell_type": "code",
   "execution_count": 140,
   "metadata": {},
   "outputs": [
    {
     "name": "stdout",
     "output_type": "stream",
     "text": [
      "filename = 'output.html' written. Try opening it in a browser!\n"
     ]
    }
   ],
   "source": [
    "#\n",
    "# overall mardown-to-markup transformer\n",
    "#\n",
    "\n",
    "contents_v0 = original_markdown              # here is the input - be sure to run the functions, below:\n",
    "\n",
    "contents_v1 = handle_down_to_up(contents_v0)   #   blank lines to <br>\n",
    "contents_v2 = handle_newlines(contents_v1)   #   blank lines to <br>\n",
    "contents_v3 = handle_headers(contents_v2)    #   # title to <h1>title</h1>  (more needed: ## to <h2>, ... up to <h6>)\n",
    "contents_v4 = handle_code(contents_v3)       #   `code` to <tt>code</tt>\n",
    "contents_v5 = handle_text_stylings(contents_v4)\n",
    "contents_v6 = handle_lists(contents_v5)\n",
    "contents_v7 = handle_links(contents_v6)\n",
    "contents_v8 = feature1(contents_v7)\n",
    "contents_v9 = feature2(contents_v8)\n",
    "contents_v10 = feature3(contents_v9)\n",
    "\n",
    "final_contents = contents_v10                # here is the output - be sure it's the version you want!\n",
    "\n",
    "write_to_file(final_contents, \"output.html\") # now, written to file:  Reload it in your browser!"
   ]
  },
  {
   "cell_type": "code",
   "execution_count": 141,
   "metadata": {},
   "outputs": [
    {
     "name": "stdout",
     "output_type": "stream",
     "text": [
      "<br>\n",
      "<br>\n",
      "<h1>Claremont's Colleges - MARKUP version</h1>\n",
      "<br>\n",
      "The Claremont Colleges are a <i>consortium</i> of <b>five</b> SoCal institutions. <br>\n",
      "We list them here.\n",
      "<br>\n",
      "<h2>The 5Cs: a list</h2>\n",
      "<ul><li><a href=\"https://www.pomona.edu/\">Pomona</a></li></ul>\n",
      "<ul><li><a href=\"https://www.cmc.edu/\">CMC</a></li></ul>\n",
      "<ul><li><a href=\"https://www.pitzer.edu/\">Pitzer</a></li></ul>\n",
      "<ul><li><a href=\"https://www.scrippscollege.edu/\">Scripps</a></li></ul>\n",
      "<ul><li><a href=\"https://www.hmc.edu/\">HMC</a></li></ul>\n",
      "<br>\n",
      "The above's an <i>unordered</i> list.  <br>\n",
      "At the 5Cs, we all agree there's <b>no</b> order!\n",
      "<br>\n",
      "---\n",
      "<br>\n",
      "<h2>Today's featured college: <a href=\"https://coloradomtn.edu/\">CMC</a></h2>\n",
      "<br>\n",
      "<img src=\"https://ygzm5vgh89zp-u4384.pressidiumcdn.com/wp-content/uploads/2017/06/GWS<i>campusview</i>1000x627.jpg\" height=160>\n",
      "<br>\n",
      "---\n",
      "<br>\n",
      "<h3>Also featured: &nbsp; Scripps and Pitzer and Mudd and Pomona</h3>\n",
      "<br>\n",
      "<img src=\"https://i0.wp.com/tsl.news/wp-content/uploads/2018/09/scripps.png?w=1430&ssl=1\" height=100px> &nbsp; \n",
      "<img src=\"https://upload.wikimedia.org/wikipedia/commons/f/f9/Brant<i>Clock</i>Tower%2C<i>Pitzer</i>College%2C<i>2016</i>%28cropped%29.jpg\" height=100px> &nbsp; \n",
      "<img src=\"https://www.hmc.edu/about/wp-content/uploads/sites/2/2020/02/campus-gv.jpg\" height=100px> &nbsp;\n",
      "<img src=\"https://upload.wikimedia.org/wikipedia/commons/4/46/Smith<i>Tower</i>and<i>the</i>San<i>Gabriel</i>Mountains.jpg\" height=100px>\n",
      "<br>\n",
      "Are there <i>other</i> schools in Claremont?\n",
      "<br>\n",
      "<h3>Claremont destinations</h3>\n",
      "<ul><li><i>Pepo Melo</i>, a fantastic font of fruit!</li></ul>\n",
      "<ul><li><b>Starbucks</b>, the center of Claremont's \"city,\" not as good as Scripps's <i>Motley</i> </li></ul>\n",
      "<ul><li><b><i>Sancho's Tacos</b></i>, the village's newest establishment</li></ul>\n",
      "<ul><li><s>In-and-out CS35_Participant_3</s> (not in Claremont, alas, but close! CMC-supported!)</li></ul>\n",
      "<ul><li><tt>42</tt>nd Street Bagel, an HMC fave, definitely <i>well-numbered</i></li></ul>\n",
      "<ul><li>Trader Joe's, providing fuel for the walk back to Pitzer <i>from Trader Joe's</i></li></ul>\n",
      "<br>\n",
      "---\n",
      "<br>\n",
      "<h4>Regular Expression Code-of-the-Day </h4>\n",
      "<tt>import re</tt>               \n",
      "<tt>pet_statement = re.sub(r'dog', 'cat', 'I <3 dogs')</tt>\n",
      "<br>\n",
      "<h4>New Construction of the <s>Day</s> <i>Decade</i>!</h4>\n",
      "<br>\n",
      "<img src=\"https://www.cs.hmc.edu/~dodds/roberts_uc.png\" height=150> <br><br>\n",
      "<br>\n",
      "CMC's <b><i>Roberts Science Center</i>, also known as <i>\"The Rubiks Cube\"</i></b> <br>\n",
      "Currently under construction, under deadline, and undeterred by SoCal sun, or rain... \n",
      "<br>\n",
      "<br><br>\n",
      "<br>\n",
      "<br>\n",
      "<br>\n"
     ]
    }
   ],
   "source": [
    "# we can also print the final output's source - this should show the HTML (so far)\n",
    "print(final_contents)    \n",
    "# in addition, _do_ open up output.html in your browser and then View Source to see the same HTML (so far)"
   ]
  },
  {
   "cell_type": "code",
   "execution_count": 78,
   "metadata": {},
   "outputs": [
    {
     "name": "stdout",
     "output_type": "stream",
     "text": [
      "This is MARKUP text\n"
     ]
    }
   ],
   "source": [
    "# here is a function to change MARKDOWN to MARKUP\n",
    "#\n",
    "import re\n",
    "\n",
    "def handle_down_to_up(contents):\n",
    "    \"\"\" replace all instances of MARKDOWN with MARKUP \"\"\"\n",
    "    new_contents = re.sub(r\"MARKDOWN\", r\"MARKUP\", contents)  # simple substitution\n",
    "    return new_contents\n",
    "\n",
    "# Let's test this!\n",
    "if True:\n",
    "    old_contents = \"This is MARKDOWN text\"\n",
    "    new_contents = handle_down_to_up(old_contents) \n",
    "    print(new_contents)\n"
   ]
  },
  {
   "cell_type": "code",
   "execution_count": 79,
   "metadata": {},
   "outputs": [
    {
     "name": "stdout",
     "output_type": "stream",
     "text": [
      "<br>\n",
      "# Title\n",
      "<br>\n",
      "# Another title\n"
     ]
    }
   ],
   "source": [
    "# here is a function to handle blank lines (making them <br>)\n",
    "#\n",
    "import re\n",
    "\n",
    "def handle_newlines(contents):\n",
    "    \"\"\" replace all of the just-newline characters \\n with HTML newlines <br> \"\"\"\n",
    "    NewLines = []\n",
    "    OldLines = contents.split(\"\\n\")\n",
    "\n",
    "    for line in OldLines:\n",
    "        new_line = re.sub(r\"^\\s*$\", r\"<br>\", line)  # if a line has only space characters, \\s, we make an HTML newline <br>\n",
    "        NewLines.append(new_line)\n",
    "\n",
    "    new_contents = \"\\n\".join(NewLines)   # join with \\n characters so it's readable by humans\n",
    "    return new_contents\n",
    "\n",
    "\n",
    "# Let's test this!\n",
    "if True:\n",
    "    old_contents = \"\"\"\n",
    "# Title\n",
    "    \n",
    "# Another title\"\"\"\n",
    "    new_contents = handle_newlines(old_contents)\n",
    "    print(new_contents)"
   ]
  },
  {
   "cell_type": "code",
   "execution_count": 95,
   "metadata": {},
   "outputs": [
    {
     "name": "stdout",
     "output_type": "stream",
     "text": [
      "\n",
      "<h1>Title</h1>\n",
      "<br>\n",
      "<h1>H1</h1>\n",
      "<h2>H2</h2>\n",
      "<h3>H3</h3>\n",
      "<h4>H4</h4>\n",
      "<h5>H5</h5>\n",
      "<h6>H6</h6>\n"
     ]
    }
   ],
   "source": [
    "# here is a function to handle headers - right now only h1 (top-level)\n",
    "#\n",
    "import re\n",
    "\n",
    "def handle_headers(contents):\n",
    "    \"\"\" replace all of the #, ##, ###, ... ###### headers with <h1>, <h2>, <h3>, ... <h6> \"\"\"\n",
    "    NewLines = []\n",
    "    OldLines = contents.split(\"\\n\")\n",
    "\n",
    "    for line in OldLines:\n",
    "        for i in range(6, 0, -1):  # check for h6 h5 h4 h3 h2 h1 \n",
    "            pattern = r'^#{' + str(i) + r'}\\s+(.*)$' # str(i) is 654321 ^startswith$endswith\n",
    "            replacement = r'<h' + str(i) + r'>\\1</h' + str(i) + r'>' # capture the contents and wrap with <h1> and </h1>\n",
    "            if re.match(pattern, line):\n",
    "                line = re.sub(pattern, replacement, line)\n",
    "                break  # Stop after first match\n",
    "        NewLines.append(line)\n",
    "\n",
    "    new_contents = \"\\n\".join(NewLines)   # join with \\n characters so it's readable by humans\n",
    "    return new_contents\n",
    "\n",
    "# Let's test this!\n",
    "if True:\n",
    "    old_contents = \"\"\"\n",
    "# Title\n",
    "<br>\n",
    "# H1\n",
    "## H2\n",
    "### H3\n",
    "#### H4\n",
    "##### H5\n",
    "###### H6\"\"\"\n",
    "    new_contents = handle_headers(old_contents)\n",
    "    print(new_contents)"
   ]
  },
  {
   "cell_type": "code",
   "execution_count": 81,
   "metadata": {},
   "outputs": [
    {
     "name": "stdout",
     "output_type": "stream",
     "text": [
      "This is <tt>42</tt>   \n",
      "<br> \n",
      "Our regex library:  <tt>import re</tt>\n"
     ]
    }
   ],
   "source": [
    "# here is a function to handle code - using markdown backticks\n",
    "#\n",
    "import re\n",
    "\n",
    "def handle_code(contents):\n",
    "    \"\"\" replace all of the backtick content with <code> </code> \"\"\"\n",
    "    NewLines = []\n",
    "    OldLines = contents.split(\"\\n\")\n",
    "\n",
    "    for line in OldLines:\n",
    "        new_line = re.sub(r\"`(.*)`\", r\"<tt>\\1</tt>\", line)  # capture the contents and wrap with <code> and </code>\n",
    "        NewLines.append(new_line)\n",
    "\n",
    "    new_contents = \"\\n\".join(NewLines)   # join with \\n characters so it's readable by humans\n",
    "    return new_contents\n",
    "\n",
    "# Let's test this!\n",
    "if True:\n",
    "    old_contents = \"\"\"\\\n",
    "This is <tt>42</tt>   \n",
    "<br> \n",
    "Our regex library:  <tt>import re</tt>\"\"\"\n",
    "    new_contents = handle_code(old_contents)\n",
    "    print(new_contents)"
   ]
  },
  {
   "cell_type": "code",
   "execution_count": null,
   "metadata": {},
   "outputs": [
    {
     "name": "stdout",
     "output_type": "stream",
     "text": [
      "\n",
      "<s>strikethrough</s>\n",
      "<b>bold</b> and <b>bold</b>\n",
      "<i>italic</i> and <i>italic</i>\n",
      "\n"
     ]
    }
   ],
   "source": [
    "# functions to handle word-stylings\n",
    "# completed with jen lim\n",
    "#\n",
    "import re\n",
    "\n",
    "def handle_text_stylings(contents):\n",
    "    \"\"\" replace tildes with <s></s> for strikethrough\n",
    "    replace two asterisks **bold** and two underscores __bold__ with <b></b> for bold\n",
    "    replace asterisks *italic* and underscores _italic_ for italic\n",
    "    \"\"\"\n",
    "    contents = re.sub(r'~~(.*?)~~', r'<s>\\1</s>', contents) #strikethrough\n",
    "    contents = re.sub(r'\\*\\*(.*?)\\*\\*|__(.*?)__', r'<b>\\1\\2</b>', contents) #bold\n",
    "    contents = re.sub(r'\\*(.*?)\\*|_(.*?)_', r'<i>\\1\\2</i>', contents) #italic\n",
    "\n",
    "    return contents\n",
    "\n",
    "# Let's test this!\n",
    "if True:\n",
    "    old_contents = \"\"\"\n",
    "~~strikethrough~~\n",
    "**bold** and __bold__\n",
    "*italic* and _italic_\n",
    "\"\"\"\n",
    "    new_contents = handle_text_stylings(old_contents)\n",
    "    print(new_contents)"
   ]
  },
  {
   "cell_type": "code",
   "execution_count": 122,
   "metadata": {},
   "outputs": [
    {
     "name": "stdout",
     "output_type": "stream",
     "text": [
      " \n",
      "<ul><li>list item</li></ul>\n",
      "<ul><li>list item2</li></ul>\n",
      "\n"
     ]
    }
   ],
   "source": [
    "def handle_lists(contents):\n",
    "    \"\"\" Convert markdown lists to markup lists. \"\"\"\n",
    "    contents = re.sub(r'^\\+ (.*)', r'<ul><li>\\1</li></ul>', contents, flags=re.MULTILINE)\n",
    "    return contents\n",
    "\n",
    "# Let's test this!\n",
    "if True:\n",
    "    old_contents = \"\"\" \n",
    "+ list item\n",
    "+ list item2\n",
    "\"\"\"\n",
    "    new_contents = handle_lists(old_contents)\n",
    "    print(new_contents)"
   ]
  },
  {
   "cell_type": "code",
   "execution_count": 124,
   "metadata": {},
   "outputs": [
    {
     "name": "stdout",
     "output_type": "stream",
     "text": [
      "\n",
      "<a href=\"https://www.google.com\">Google</a>\n",
      "<a href=\"https://americanliterature.com/childrens-stories/goldilocks-and-the-three-bears\">Goldilocks and the Three bears</a>\n",
      "\n"
     ]
    }
   ],
   "source": [
    "def handle_links(contents):\n",
    "    \"\"\" Convert markdown links [text](url) into HTML links <a href='url'>text</a>. \"\"\"\n",
    "    contents = re.sub(r'\\[(.*?)\\]\\((.*?)\\)', r'<a href=\"\\g<2>\">\\g<1></a>', contents)\n",
    "    return contents\n",
    "\n",
    "# Let's test this!\n",
    "if True:\n",
    "    old_contents = \"\"\"\n",
    "[Google](https://www.google.com)\n",
    "[Goldilocks and the Three bears](https://americanliterature.com/childrens-stories/goldilocks-and-the-three-bears)\n",
    "\"\"\"\n",
    "    new_contents = handle_links(old_contents)\n",
    "    print(new_contents)"
   ]
  },
  {
   "cell_type": "code",
   "execution_count": 125,
   "metadata": {},
   "outputs": [
    {
     "name": "stdout",
     "output_type": "stream",
     "text": [
      "\n",
      " This is *Wow* and _Yikes_.\n",
      " This is __Yikes__.\n",
      "\n"
     ]
    },
    {
     "name": "stderr",
     "output_type": "stream",
     "text": [
      "<>:9: SyntaxWarning: invalid escape sequence '\\*'\n",
      "<>:9: SyntaxWarning: invalid escape sequence '\\*'\n",
      "/var/folders/sb/fcml8myd34d74tm8j9ww_l600000gn/T/ipykernel_4855/3055760968.py:9: SyntaxWarning: invalid escape sequence '\\*'\n",
      "  old_contents = \"\"\"\n"
     ]
    }
   ],
   "source": [
    "def feature1(contents):\n",
    "    \"\"\" removes backslashes that interupt asterisks and underscores \"\"\"\n",
    "    contents = re.sub(r'\\\\\\*', '*', contents) #replace \\* with *\n",
    "    contents = re.sub(r'\\\\_', '_', contents)\n",
    "    return contents\n",
    "\n",
    "# Let's test this!\n",
    "if True:\n",
    "    old_contents = \"\"\"\n",
    " This is \\*Wow\\* and \\_Yikes\\_.\n",
    " This is \\_\\_Yikes\\_\\_.\n",
    "\"\"\"\n",
    "    new_contents = feature1(old_contents)\n",
    "    print(new_contents)"
   ]
  },
  {
   "cell_type": "code",
   "execution_count": 129,
   "metadata": {},
   "outputs": [
    {
     "name": "stdout",
     "output_type": "stream",
     "text": [
      "\n",
      "Y = e<sup>x</sup> (Superscript)\n",
      "<sub>Sub</sub>Script (Subscript)\n",
      "\n"
     ]
    }
   ],
   "source": [
    "def feature2(contents):\n",
    "    \"\"\" converts markdown superscript and subscript to markup \"\"\"\n",
    "    contents = re.sub(r'@@(.*?)@@', r'<sup>\\1</sup>', contents) #superscript\n",
    "    contents = re.sub(r'%%(.*?)%%', r'<sub>\\1</sub>', contents) #subscript\n",
    "    return contents\n",
    "\n",
    "# Let's test this!\n",
    "if True:\n",
    "    old_contents = \"\"\"\n",
    "Y = e@@x@@ (Superscript)\n",
    "%%Sub%%Script (Subscript)\n",
    "\"\"\"\n",
    "    new_contents = feature2(old_contents)\n",
    "    print(new_contents)"
   ]
  },
  {
   "cell_type": "code",
   "execution_count": 130,
   "metadata": {},
   "outputs": [
    {
     "name": "stdout",
     "output_type": "stream",
     "text": [
      "\n",
      "<span style=\"color:red;\">red text</span>\n",
      "<span style=\"color:DodgerBlue;\">Go Dodgers!</span>\n",
      "\n"
     ]
    }
   ],
   "source": [
    "def feature3(contents):\n",
    "    \"\"\" converts markdown for text colors to markup \"\"\"\n",
    "    contents = re.sub(r'\\{color:([\\w#]+)\\|(.*?)\\}', r'<span style=\"color:\\1;\">\\2</span>', contents)\n",
    "    return contents\n",
    "\n",
    "# Let's test this!\n",
    "if True:\n",
    "    old_contents = \"\"\"\n",
    "{color:red|red text}\n",
    "{color:DodgerBlue|Go Dodgers!}\n",
    "\"\"\"\n",
    "    new_contents = feature3(old_contents)\n",
    "    print(new_contents)"
   ]
  },
  {
   "cell_type": "markdown",
   "metadata": {},
   "source": [
    "#### <font style=\"color:rgb(180,120,10);\"><b>hw3pr1 part(c)</b>  &nbsp;&nbsp; More transformations!</font>\n",
    "\n",
    "Your task is to make sure you can run the above transformations:\n",
    "+ For each one, one at a time, try it on the small example\n",
    "+ Then, uncomment it from the large (overall) example\n",
    "+ Be **sure** to change the final ``final_contents`` variable\n",
    "  + Forgetting this is the most common bug (not really a bug - just not running!)\n",
    "\n",
    "<br>\n",
    "<hr>\n",
    "<br>\n",
    "\n",
    "From there, implement the other markdown-to-markup transformations as noted in [HW3's gdocs page](https://docs.google.com/document/d/17bJfQIeuNGVh5vP8Y2BjRbVSDyDUNTpIrH0lgYubiUU/edit?tab=t.0) :\n",
    "+ add new functions and cells -- or reuse other ones -- as you prefer\n",
    "  + do keep things organized, either way!\n",
    "+ handle all six levels of headers ``<h1>`` through ``<h6>``\n",
    "+ handle at least the five word-stylings noted, including _italic_, **bold**, ~~strikethrough~~, unordered lists, and [urls](https://docs.google.com/document/d/1IKZk9mbVkvsf9tl14EZD2CuNYhy3lQvO4Lnk89RmA-0/edit)\n",
    "+ and, handle, at least <b><font color=\"DodgerBlue\">three more features-or-stylings</font></b> of your own design. (See that gdocs hw page for several possibilities...)\n",
    "  + Note that you're welcome to _add prose to the original markdown page_ to show of your creative transformations\n",
    "  + Please don't _remove_ any of the original markdown, however -- that is for testing the various transformations, as well...\n",
    "\n",
    "<br>\n",
    "\n",
    "Lots of room for creativity, for sure...   \n",
    "\n",
    "<br>\n",
    "\n",
    "#### <font style=\"color:rgb(180,120,10);\"><b>Be sure your <u>final output HTML</u> is present!</b></font>\n",
    "+ This should show the result of _all_ the transformations:\n",
    "+ both the starting ones (such as strikethrough, bold, etc.)\n",
    "+ and your own creations :)\n",
    "\n",
    "\n",
    "\n",
    "<br>\n",
    "<hr>\n",
    "<br>\n",
    "\n",
    "<font color=\"DodgerBlue\"><b>Meta-programming</b></font> -- that is, writing programs to help you write programs -- is mind-bending, for sure. \n",
    "+ As AI rises, there's no avoiding it: &nbsp;&nbsp; We have definitively entered the era of meta-programming ...\n",
    "\n",
    "Once your neurons are suitably _\"bent\"_ ... you'll find ***lots*** of uses for it! \n"
   ]
  }
 ],
 "metadata": {
  "kernelspec": {
   "display_name": "base",
   "language": "python",
   "name": "python3"
  },
  "language_info": {
   "codemirror_mode": {
    "name": "ipython",
    "version": 3
   },
   "file_extension": ".py",
   "mimetype": "text/x-python",
   "name": "python",
   "nbconvert_exporter": "python",
   "pygments_lexer": "ipython3",
   "version": "3.12.7"
  }
 },
 "nbformat": 4,
 "nbformat_minor": 2
}
