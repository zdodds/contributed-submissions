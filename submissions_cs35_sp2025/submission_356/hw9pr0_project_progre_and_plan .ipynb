{
  "cells": [
    {
      "cell_type": "markdown",
      "metadata": {
        "id": "cfCK8CCLa5-s"
      },
      "source": [
        "<br>\n",
        "\n",
        "## Final project preliminaries\n",
        "\n",
        "<font color=\"Teal\"><b>Exploring how much an idea \"pushes back\" - including its technologies, libraries, and online resources ...</b></font>\n",
        "\n"
      ]
    },
    {
      "cell_type": "markdown",
      "metadata": {
        "id": "1gAMoA_KN5L0"
      },
      "source": [
        "<br>\n",
        "\n",
        "#### Here are the  [cs35 project guidelines](https://docs.google.com/document/d/1DwoOJCy6GGECvzSOE4BDPVcEgVtvChglnz03-uxx7mA/edit)  with more details.\n",
        "\n",
        "And here is the [Colab version](https://colab.research.google.com/drive/1kASM8K0vqu40S5xjBS-hXf-bIDcQPZtz#scrollTo=1gAMoA_KN5L0) of this notebook. If Colab works better for your project, wonderful!\n",
        "\n",
        "<br>\n"
      ]
    },
    {
      "cell_type": "markdown",
      "metadata": {
        "id": "a4Zfie5Hi4HL"
      },
      "source": [
        "#### **What you've tried**\n",
        "+ What are the things you've tried <b><u>so far</u></b> - and how has it gone?  \n",
        "  + This is the most important effort!  \n",
        "  + <b>Note</b>: If you have _lots_ of ideas and can't decide... look for online guides or walkthroughs for several of them and see which are most promising (and interesting!)\n",
        "  + include, here in the Python cells above/below, the explorations and/or experiments you've pursued\n",
        "  + if you're using plain-python files or other notebook files, submit those, in addition or instead\n",
        "    + <font size=\"-2\">if you submit other files instead, include these reflections in the files you submit...</font>\n",
        "  + include any other <i>small</i> data files/links/resources you've collected\n",
        "\n",
        "<br>\n",
        "<br>"
      ]
    },
    {
      "cell_type": "markdown",
      "metadata": {
        "id": "4uQyFyn8a5-v"
      },
      "source": [
        "#### **Your Project Plan,** <font size=\"-1\">as of this moment...</font>\n",
        "\n",
        "+ <b><font color=\"DodgerBlue\">Share</font></b> a paragraph or so on your project exploration so far -- and your summer of the idea/plan + its background\n",
        "  + This is intentionally ***progress-first***\n",
        "  + **Try things out** before dedicating too much to a single, specific path...\n",
        "+ <b><font color=\"Coral\">Share</font></b>: &nbsp; What resources/libraries/walkthroughs have you found?\n",
        "+ <b><font color=\"Coral\">Share</font></b>: &nbsp; What datasets are you using? <font size=\"-1\">if applicable for your project</font>\n",
        "\n",
        "<br>\n",
        "<br>"
      ]
    },
    {
      "cell_type": "markdown",
      "metadata": {
        "id": "Pu-GIB1Ci5vN"
      },
      "source": [
        "#### **Looking ahead**\n",
        "+ Specifically, what task do you plan to try <b><u>next</u></b>?\n",
        "+ More generally, how do you plan to go _beyond_ existing resources...\n",
        "  + If it's not shared above, describe how you envision _personalizing_ and/or _individualizing_ your project..."
      ]
    },
    {
      "cell_type": "markdown",
      "metadata": {
        "id": "-WN2VW3ZMhTl"
      },
      "source": [
        "<br><br>\n",
        "<hr>\n",
        "<br><br>\n",
        "\n",
        "Feel free to use this notebook to summarize your prelimiaries so far ...\n",
        "\n",
        "<br>\n",
        "\n",
        "... ***or*** &nbsp;&nbsp; include your responses to these questions in other  notebooks or plain-python files!\n",
        "\n",
        "<br><br>\n",
        "<hr>\n",
        "<br><br>"
      ]
    },
    {
      "cell_type": "code",
      "execution_count": 3,
      "metadata": {
        "id": "wNRpycUQa5-v"
      },
      "outputs": [],
      "source": [
        "#\n",
        "#  Feel free to interleave markdown or plain-text throughout...\n",
        "#\n",
        "#       If your project doesn't work well with notebooks, plain-python is 100% ok.\n",
        "#"
      ]
    },
    {
      "cell_type": "markdown",
      "metadata": {},
      "source": [
        "Ideas\n",
        "1. Predicting the price of wine using ML models. Kaggle has a dataset on wine quality. This seems like an ok and doable project. \n",
        "\n",
        "2. Predicting whether an artist will have many records or stay a one-hit wonder using ML models. Unsure what datapoints there are available for music features e.g. bpm.\n",
        "\n",
        "3. Comparing travel options (flights from different airports + ride to/from airport) using API hops. Inspired by ISS_distance from week2 or using maps to calculate home to each airport being considered, then predicting the price of rideshare rides or calculating the cost of gas for the trip to the airport, adding that to the cost of the flights to inform user which flight to take. This is particularly meant for cost minimization, but of course time is also of the essence. E.g. Travelling from Claremont to LAX for a cheaper flight or CMC to ONT for a more expensive flight- Ubers to and from LAX are costly so will see if that ride+flight trip is <i>really</i> cheaper overall. Time commitment is definitely a no go for LAX vs ONT from Claremont. \n",
        "\n",
        "I'm most interested in #3. Few things that need to be checked: can we use google flights API, public APIs to calculate distance, does uber/lyft have an API for their pricing (probably not)."
      ]
    }
  ],
  "metadata": {
    "colab": {
      "provenance": []
    },
    "kernelspec": {
      "display_name": "Python 3",
      "language": "python",
      "name": "python3"
    },
    "language_info": {
      "codemirror_mode": {
        "name": "ipython",
        "version": 3
      },
      "file_extension": ".py",
      "mimetype": "text/x-python",
      "name": "python",
      "nbconvert_exporter": "python",
      "pygments_lexer": "ipython3",
      "version": "3.10.6"
    }
  },
  "nbformat": 4,
  "nbformat_minor": 0
}
