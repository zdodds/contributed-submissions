{
 "cells": [
  {
   "attachments": {},
   "cell_type": "markdown",
   "metadata": {},
   "source": [
    "#### week3 ~ meta-programming of prose:  <i>What guidelines?</i>\n",
    "\n",
    "[the google doc with hw3's details](https://docs.google.com/document/d/17bJfQIeuNGVh5vP8Y2BjRbVSDyDUNTpIrH0lgYubiUU/edit?tab=t.0)\n",
    "\n",
    "<hr>"
   ]
  },
  {
   "attachments": {},
   "cell_type": "markdown",
   "metadata": {},
   "source": [
    "#### Reading for hw3...     (hw3pr0.ipynb)\n",
    "\n",
    "<br>\n",
    "\n",
    "Problem 0:   <i>LLMs as prose \"meta-programming\" </i>   (hw3pr0.ipynb)  \n",
    "\n",
    "Today's article:\n",
    "+ [linked here as a local pdf](https://drive.google.com/file/d/1Amd-9YLfYfZH4Q8e4q7ncz3LyS2zafvB/view?usp=drive_link) and \n",
    "+ [here from the original source (the Economist, June 26, 2024)](https://www.economist.com/science-and-technology/2024/06/26/at-least-10-of-research-may-already-be-co-authored-by-ai) \n",
    "\n",
    "<br>\n",
    "\n",
    "Titled <u>At least 10% of research may already be co-authored by AI</u>, this Economist article reports on the extent LLMs are being used as \"meta-programming\" tools for research prose, comparing disciplines, languages, and - fun - particular words that LLMs seem to use disproportionally much. Take a look and then...\n",
    "\n",
    "<br>\n",
    "\n",
    "Consider the pros, cons, and evolving policies:\n",
    "+ <b><font color=\"DodgerBlue\">pros</font></b> &nbsp;&nbsp;   \"They can breathe life into dense scientific prose and speed up the drafting process, especially for non-native English speakers.\"  <br><br>\n",
    "+ <b><font color=\"DodgerBlue\">cons</font></b> &nbsp;&nbsp;  \"Scientific papers rely on the precise communication of uncertainty, where the capabilities of LLMs remain murky. Hallucinations -- whereby LLMs confidently assert fantasies -- remain common, as does a tendency to regurgitate other people’s words, verbatim, [unchecked](https://arstechnica.com/ai/2025/02/not-gouda-nough-google-removes-ai-generated-cheese-error-from-super-bowl-ad/), and without attribution.\" <br><br>\n",
    "+ <b><font color=\"DodgerBlue\">policies</font></b> &nbsp;&nbsp;  \"Some journals ban it outright. Others have changed their minds.\" \n",
    "\n",
    "<br>\n",
    "\n",
    "From there, create a short reflection, drawing from your own experiences, on a personally interesting subset of these prompts:\n",
    "+ **(a)** where you think norms for meta-programmed prose  will converge in the coming 2-3 years?   and/or \n",
    "+ **(b)** where you think norms for meta-programmed prose  should converge in the coming 2-3 years?  and/or\n",
    "+ **(c)** whether or not you feel different when encountering human-vs-GPT written prose?     and/or\n",
    "+ **(d)** what strategies you, personally, use to distinguish work by a human vs work by AI... ?\n",
    "\n",
    "<br>\n",
    "\n",
    "<b><font color=\"Coral\">Extra!</font></b> &nbsp;&nbsp; You're encouraged to use as many of the GPT-popular words as possible in your response!  🙂\n",
    "\n",
    "\n"
   ]
  },
  {
   "attachments": {},
   "cell_type": "markdown",
   "metadata": {},
   "source": [
    "<br>\n",
    "\n",
    "As with each week's reading, responses should be carefully considered, but need not be very CS35_Participant_2 (~5 or so sentences is wonderful).  \n",
    "\n",
    "<hr>"
   ]
  },
  {
   "attachments": {},
   "cell_type": "markdown",
   "metadata": {},
   "source": [
    "#### Reading response\n",
    "CS35_Participant_10 and anya raghuvanshi\n",
    "\n",
    "I think the norms for meta-programmed prose should focus on establishing AI as a tool, allowing us to reach and extend the **potential** of our work. I used to avoid using LLMs because I simply didn't \"trust\" it, but I realized that if I didn't start learning how to use it appropriately and effectively, I'd risk falling behind. I now primarily use AI to edit, summarize, and explain **crucial** concepts, which aids my own learning and helps me reach deeper **insights** more quickly. It's definitely interesting to see how the need to reframe my understanding of AI has converged to what seems to be the norm- AI in every day applications. I think the introduction of OpenAI's Operator, although with different use cases to creating prose, will be **pivotal** in reframing or some might say correcting the notion and use of AI. We're entering another *realm*! It'll be interesting to see how the use cases for AI extends, develops, and becomes more **intricate**. I'll be attending Peter Langland-Hassan's Ath Talk \"Why AI is (Probably) Creative, and Why That’s OK\" and hope to **delve** more into this topic."
   ]
  }
 ],
 "metadata": {
  "interpreter": {
   "hash": "7ccb4bb6bd67730c9185e6c24c983362cd7b4575b595bfae100d8d91e48f4f1e"
  },
  "kernelspec": {
   "display_name": "Python 3.8.8 64-bit (conda)",
   "language": "python",
   "name": "python3"
  },
  "language_info": {
   "codemirror_mode": {
    "name": "ipython",
    "version": 3
   },
   "file_extension": ".py",
   "mimetype": "text/x-python",
   "name": "python",
   "nbconvert_exporter": "python",
   "pygments_lexer": "ipython3",
   "version": "3.12.1"
  },
  "orig_nbformat": 4
 },
 "nbformat": 4,
 "nbformat_minor": 2
}
