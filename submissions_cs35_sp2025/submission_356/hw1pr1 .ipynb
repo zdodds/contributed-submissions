{
 "cells": [
  {
   "cell_type": "markdown",
   "metadata": {},
   "source": [
    "## hw1pr1: <i>Files!</i>\n",
    "+ walking through folders and files  (500 files - or many more!)\n",
    "+ analyzing, counting, inquiring, and <i>insight-producing</i> as we go!  "
   ]
  },
  {
   "cell_type": "code",
   "execution_count": 2,
   "metadata": {},
   "outputs": [
    {
     "data": {
      "text/plain": [
       "'/Users/amandadee/Desktop/week1/starting_notebooks'"
      ]
     },
     "execution_count": 2,
     "metadata": {},
     "output_type": "execute_result"
    }
   ],
   "source": [
    "# Where are we?\n",
    "%pwd"
   ]
  },
  {
   "cell_type": "markdown",
   "metadata": {},
   "source": [
    "By the way, when I run the above cell on my desktop machine (Mac), the response is\n",
    "\n",
    "``'/Users/zacharydodds/Desktop/cs35/week1/starting_notebooks'``\n",
    "\n",
    "on a Windows laptop, the path uses a different separator. Mine is\n",
    "\n",
    "``'c:\\\\Users\\\\dodds\\\\OneDrive\\\\Desktop\\\\cs35\\\\week1\\\\starting_notebooks'``\n",
    "\n",
    "Your results will almost certainly differ.\n",
    "\n",
    "In fact, if they *don't* differ ... I'm _very_ interested! 🤔 🦔"
   ]
  },
  {
   "cell_type": "code",
   "execution_count": 1,
   "metadata": {},
   "outputs": [
    {
     "name": "stdout",
     "output_type": "stream",
     "text": [
      "\u001b[34mget_files_challenge_and_place_here\u001b[m\u001b[m/ \u001b[34mintro_first\u001b[m\u001b[m/\n",
      "hw1pr0.ipynb                        intro_first_ss_small.png\n",
      "hw1pr1.ipynb                        \u001b[34mintro_second\u001b[m\u001b[m/\n"
     ]
    }
   ],
   "source": [
    "# what's here?\n",
    "%ls"
   ]
  },
  {
   "cell_type": "code",
   "execution_count": 3,
   "metadata": {},
   "outputs": [
    {
     "name": "stdout",
     "output_type": "stream",
     "text": [
      "/Users/amandadee/Desktop/week1/starting_notebooks\n"
     ]
    }
   ],
   "source": [
    "# to move around:  cd stands for \"change directory\" (a directory is a folder)\n",
    "#    %cd intro_first    would move into the intro_first folder\n",
    "#    %cd .. moves \"up\" to the containing directory\n",
    "#    %cd .  doesn't move at all:  .  represents the current directory    \n",
    "\n",
    "# For now, let's not move anywhere\n",
    "%cd ."
   ]
  },
  {
   "cell_type": "markdown",
   "metadata": {},
   "source": [
    "In 2024, my Mac setup succeeds with a ``UserWarning`` that tells me to install the ``pickleshare`` library.\n",
    "\n",
    "I refuse based on snack-sharing principles!\n",
    "\n",
    "One can only share freely, not under admonishment/warning!\n",
    "\n",
    "(If this happens to you - let me know and we'll fix it...)"
   ]
  },
  {
   "cell_type": "code",
   "execution_count": 3,
   "metadata": {},
   "outputs": [],
   "source": [
    "# we will use a few file-handling \"system\" libraries. \n",
    "# These are built-in to python, so nothing to install - just to import:\n",
    "import os\n",
    "import os.path"
   ]
  },
  {
   "cell_type": "markdown",
   "metadata": {},
   "source": [
    "On first glance, it seems we can't open the file ``nottrue.ipynb`` ...\n",
    "\n",
    "It's in the folder ``intro_first`` -- see if you can open it ..."
   ]
  },
  {
   "cell_type": "code",
   "execution_count": 26,
   "metadata": {},
   "outputs": [
    {
     "name": "stdout",
     "output_type": "stream",
     "text": [
      "+++ Contents of the file nottrue.ipynb: +++\n",
      "\n",
      "final_list = []\n"
     ]
    }
   ],
   "source": [
    "#\n",
    "# In fact, we can read it - it's just not a .ipynb file!\n",
    "#\n",
    "# Try it here, for your system:\n",
    "\n",
    "print(\"+++ Contents of the file nottrue.ipynb: +++\\n\")\n",
    "\n",
    "# Mac:    !cat  <filepath>  using forward slashes\n",
    "#\n",
    "# !cat ./intro_first/nottrue.ipynb       \n",
    "\n",
    "# Windows:  type <filepath>  using backslashes\n",
    "#\n",
    "# !type .\\\\intro_first\\\\nottrue.ipynb      \n",
    "\n",
    "L = os.walk(\"./intro_first/nottrue.ipynb\") #root\n",
    "final_list = list(L)\n",
    "print(f\"{final_list = }\")"
   ]
  },
  {
   "cell_type": "markdown",
   "metadata": {},
   "source": [
    "We *could* use the command-line ``cat`` or ``type`` one file at a time ...\n",
    "\n",
    "But, what if we have to walk _500 files_ ?!  <font size=\"-2\">(Alas, this joke stays around for at least this whole week!)</font>\n",
    "\n",
    "  + Then, we need a function - and script - to access its contents. \n",
    "  + We started this last week, let's revisit it again here:"
   ]
  },
  {
   "cell_type": "code",
   "execution_count": 27,
   "metadata": {},
   "outputs": [
    {
     "name": "stdout",
     "output_type": "stream",
     "text": [
      "file_contents:\n",
      "\n",
      " Hi, everyone in cs35!\n",
      "\n",
      "As you're seeing, t\n"
     ]
    }
   ],
   "source": [
    "#\n",
    "# function to return the contents of a file (as one-big-string)\n",
    "#\n",
    "\n",
    "def GET_STRING_FROM_FILE(filename_as_string):\n",
    "    \"\"\" return all of the contents from the file, filename\n",
    "        will error if the file is not present, then return the empty string ''\n",
    "    \"\"\"\n",
    "    try:\n",
    "        # the encoding below is a common default, but not universal...\n",
    "        file_object = open(filename_as_string, \"r\", encoding='utf-8')    # open! (Other encodings: 'latin-1', 'utf-16', 'utf-32') \n",
    "        file_data = file_object.read()                                   # and get all its contents\n",
    "        file_object.close()                                              # close the file (optional)\n",
    "        #print(DATA)                                                     # if we want to see it\n",
    "        return file_data                                                 # definitely want to return it!\n",
    "    except FileNotFoundError:                             # it wasn't there\n",
    "        print(f\"file not found: {filename_as_string}\")    # print error\n",
    "        return ''                                         # return empty string ''\n",
    "    except UnicodeDecodeError:\n",
    "        print(f\"decoding error: {filename_as_string}\")    # encoding/decoding error  \n",
    "        return ''                                         # return empty string ''\n",
    "\n",
    "\n",
    "full_file_path = \"./intro_first/nottrue.ipynb\"\n",
    "file_contents = GET_STRING_FROM_FILE(full_file_path)      # reminder: file_contents = file_data from above\n",
    "\n",
    "# Let's print only some of this potentially large string, adapting as needed:\n",
    "print(\"file_contents:\\n\\n\", file_contents[0:42])          # let's then increase the 42..."
   ]
  },
  {
   "cell_type": "markdown",
   "metadata": {},
   "source": [
    "Notice that, in Python, the Mac/forwardslash/style paths work, _even on Windows_"
   ]
  },
  {
   "cell_type": "code",
   "execution_count": 28,
   "metadata": {},
   "outputs": [
    {
     "name": "stdout",
     "output_type": "stream",
     "text": [
      "file_contents:\n",
      "\n",
      " CS for Insight\n"
     ]
    }
   ],
   "source": [
    "####  Let's try one of the other files!  (or a non-existent file!)\n",
    "\n",
    "full_file_path = \"./intro_first/cs/file35.txt\"    # how about the others?!\n",
    "file_contents = GET_STRING_FROM_FILE(full_file_path)     \n",
    "print(\"file_contents:\\n\\n\", file_contents[0:42])"
   ]
  },
  {
   "cell_type": "markdown",
   "metadata": {},
   "source": [
    "#### But, we have 500 files...\n",
    "\n",
    "Let's write <font color=\"DodgerBlue\">_steppingstone_ functions</font> to make sense of our 500 files...\n",
    "\n",
    "Let's start by reminding ourselves we can write a function that returns.\n",
    "\n",
    "We'll call this Version 0:"
   ]
  },
  {
   "cell_type": "code",
   "execution_count": 29,
   "metadata": {},
   "outputs": [
    {
     "name": "stdout",
     "output_type": "stream",
     "text": [
      "[[ Start! ]]\n",
      "\n",
      "result = 42\n",
      "\n",
      "[[ Fin. ]]\n"
     ]
    }
   ],
   "source": [
    "#\n",
    "# Steppingstone, Version 0: does Python work?\n",
    "#\n",
    "\n",
    "import os\n",
    "import os.path\n",
    "\n",
    "def file_walker(path):\n",
    "    \"\"\" starting from the input, named path\n",
    "        \n",
    "        this function \"walks\" the whole path, including subfolders\n",
    "        and then... explores any questions we might want :)\n",
    "\n",
    "        call, for example, with    file_walker(\"./intro_first\") \n",
    "    \"\"\"\n",
    "    return 42  # just to check that it's working (v0)    \n",
    "\n",
    "#\n",
    "# when discovering, keep your data close (and your functions closer!)\n",
    "#\n",
    "if True:\n",
    "    \"\"\" overall script that runs examples \"\"\"\n",
    "    print(f\"[[ Start! ]]\\n\")     # sign on\n",
    "\n",
    "    path = \"./intro_first\"       # Remember: . means the current directory\n",
    "    result = file_walker(path)   # Run!\n",
    "\n",
    "    print(f\"result = {result}\")  # Yay for f-strings!\n",
    "\n",
    "    print(\"\\n[[ Fin. ]]\")        # sign off\n"
   ]
  },
  {
   "cell_type": "markdown",
   "metadata": {},
   "source": [
    "<hr>"
   ]
  },
  {
   "cell_type": "markdown",
   "metadata": {},
   "source": [
    "#### Introducing ``os.walk``\n",
    "\n",
    "The function ``os.walk(path)`` will walk _any number_ of files...\n",
    "\n",
    "Before we write a function, let's try  ``os.walk`` immediately:"
   ]
  },
  {
   "cell_type": "code",
   "execution_count": 30,
   "metadata": {},
   "outputs": [
    {
     "data": {
      "text/plain": [
       "<generator object walk at 0x1044d7e10>"
      ]
     },
     "execution_count": 30,
     "metadata": {},
     "output_type": "execute_result"
    }
   ],
   "source": [
    "# os.walk returns the structure of a folder (directory)\n",
    "\n",
    "# Here, we \"walk\" the intro_examples subfolder:\n",
    "all_files = os.walk(\"./intro_first\")\n",
    "\n",
    "all_files     # oops! it's a \"generator object\""
   ]
  },
  {
   "cell_type": "code",
   "execution_count": 31,
   "metadata": {},
   "outputs": [
    {
     "name": "stdout",
     "output_type": "stream",
     "text": [
      "len(L) = 5\n",
      "L = [('./intro_first', ['cs', 'sci'], ['.DS_Store', 'nottrue.ipynb']), ('./intro_first/cs', [], ['.DS_Store', 'file35.txt', 'file181y.txt']), ('./intro_first/sci', ['50', '10'], ['.DS_Store']), ('./intro_first/sci/50', [], ['IDE.txt']), ('./intro_first/sci/10', [], ['IDE.txt'])]\n"
     ]
    }
   ],
   "source": [
    "import os\n",
    "L = list( os.walk( \"./intro_first\" ) )  \n",
    "print(f\"{len(L) = }\")\n",
    "print(f\"{L = }\")"
   ]
  },
  {
   "cell_type": "markdown",
   "metadata": {},
   "source": [
    "Here's a line-wrapped version of the list ``L``\n",
    "  + Below it, is a picture of the folder-and-file structure!  \n",
    "  + Our goal: mind-mapping the two representations!!"
   ]
  },
  {
   "cell_type": "markdown",
   "metadata": {},
   "source": [
    "``L = [('./intro_first', ['cs', 'sci'], ['.DS_Store', 'nottrue.ipynb']), \n",
    "('./intro_first/cs', [], ['.DS_Store', 'file35.txt', 'file181y.txt']), \n",
    "('./intro_first/sci', ['50', '10'], ['.DS_Store']), ('./intro_first/sci/50', [], ['IDE.txt']), ('./intro_first/sci/10', [], ['IDE.txt'])]``"
   ]
  },
  {
   "cell_type": "code",
   "execution_count": 9,
   "metadata": {},
   "outputs": [
    {
     "data": {
      "image/png": "[encoded data removed]",
      "text/plain": [
       "<IPython.core.display.Image object>"
      ]
     },
     "execution_count": 9,
     "metadata": {},
     "output_type": "execute_result"
    }
   ],
   "source": [
    "from IPython import display\n",
    "#\n",
    "# this is in the hw1pr1 folder\n",
    "#\n",
    "display.Image(\"./intro_first_ss_small.png\")   # local image"
   ]
  },
  {
   "cell_type": "markdown",
   "metadata": {},
   "source": [
    "See if you can match the _syntactic_ structure (the text!) with the _visual_ structure (the image!) \n",
    "\n",
    "<hr>\n",
    "\n",
    "Onward!"
   ]
  },
  {
   "cell_type": "code",
   "execution_count": 32,
   "metadata": {},
   "outputs": [
    {
     "name": "stdout",
     "output_type": "stream",
     "text": [
      "len(result) = 5\n",
      "result = [('./intro_first', ['cs', 'sci'], ['.DS_Store', 'nottrue.ipynb']), ('./intro_first/cs', [], ['.DS_Store', 'file35.txt', 'file181y.txt']), ('./intro_first/sci', ['50', '10'], ['.DS_Store']), ('./intro_first/sci/50', [], ['IDE.txt']), ('./intro_first/sci/10', [], ['IDE.txt'])]\n"
     ]
    }
   ],
   "source": [
    "path = \"./intro_first\"          # any path to any folder\n",
    "result = list(os.walk(path))    # this will \"walk\" all of the subfolders and files\n",
    "\n",
    "print(f\"{len(result) = }\")      # try c:/  (it took my machine 12.7 seconds!)\n",
    "print(f\"{result = }\")"
   ]
  },
  {
   "cell_type": "markdown",
   "metadata": {},
   "source": [
    "#### Now, let's incorporate ``os.walk`` into a series of functions..."
   ]
  },
  {
   "cell_type": "code",
   "execution_count": 33,
   "metadata": {},
   "outputs": [
    {
     "name": "stdout",
     "output_type": "stream",
     "text": [
      "[[ Start! ]]\n",
      "\n",
      "result = 5\n",
      "\n",
      "[[ Fin. ]]\n"
     ]
    }
   ],
   "source": [
    "#\n",
    "# Steppingstone, Version 1: call os.walk, return length, optionally print\n",
    "#\n",
    "\n",
    "import os\n",
    "import os.path\n",
    "\n",
    "def file_walker(path):\n",
    "    \"\"\" starting from the input, named path\n",
    "        \n",
    "        this function \"walks\" the whole path, including subfolders\n",
    "        and then... explores any questions we might want :)\n",
    "\n",
    "        call, for example, with    file_walker(\"./intro_first\") \n",
    "    \"\"\"\n",
    "    result = list(os.walk(path))     # perhaps try w/o converting to a list...\n",
    "    # print(f\"{len(result) = }\")\n",
    "    # print(f\"{result = }\")\n",
    "    num_folders = len(result)        # the len is the number of folders...\n",
    "    return num_folders\n",
    "\n",
    "#\n",
    "# when discovering, keep your data close (and your functions closer!)\n",
    "#\n",
    "if True:\n",
    "    \"\"\" overall script that runs examples \"\"\"\n",
    "    print(f\"[[ Start! ]]\\n\")     # sign on\n",
    "\n",
    "    path = \"./intro_first\"       # Remember: . means the current directory\n",
    "    result = file_walker(path)   # Run!\n",
    "\n",
    "    print(f\"result = {result}\")  # Yay for f-strings!\n",
    "\n",
    "    print(\"\\n[[ Fin. ]]\")        # sign off\n"
   ]
  },
  {
   "cell_type": "markdown",
   "metadata": {},
   "source": [
    "Ok!  But we didn't actually \"walk\" the folders -- or files! \n",
    "\n",
    "That is, we only counted, and didn't <u>consider</u>, each one...\n",
    "\n",
    "Let's print all of the folder names!\n"
   ]
  },
  {
   "cell_type": "code",
   "execution_count": null,
   "metadata": {},
   "outputs": [],
   "source": [
    "#\n",
    "# Steppingstone, Version 2: print all of the folder names!\n",
    "#\n",
    "\n",
    "import os\n",
    "import os.path\n",
    "\n",
    "def file_walker(path):\n",
    "    \"\"\" starting from the input, named path\n",
    "        \n",
    "        this function \"walks\" the whole path, including subfolders\n",
    "        and then... explores any questions we might want :)\n",
    "\n",
    "        call, for example, with    file_walker(\"./intro_first\") \n",
    "    \"\"\"\n",
    "    result = list(os.walk(path))     # perhaps try w/o converting to a list...\n",
    "\n",
    "    for folder_tuple in result:\n",
    "        currentpath, subfolders, files = folder_tuple  # always three items, always these...\n",
    "        print(f\"{currentpath = }\")   # try non-f printing: it's worse!\n",
    "\n",
    "    num_folders = len(result)        # the len is the number of currentpaths...\n",
    "    return num_folders\n",
    "\n",
    "#\n",
    "# when discovering, keep your data close (and your functions closer!)\n",
    "#\n",
    "if True:\n",
    "    \"\"\" overall script that runs examples \"\"\"\n",
    "    print(f\"[[ Start! ]]\\n\")     # sign on\n",
    "\n",
    "    path = \"./intro_first\"       # Remember: . means the current directory\n",
    "    result = file_walker(path)   # Run!\n",
    "\n",
    "    print(f\"result = {result}\")  # Yay for f-strings!\n",
    "\n",
    "    print(\"\\n[[ Fin. ]]\")        # sign off\n"
   ]
  },
  {
   "cell_type": "markdown",
   "metadata": {},
   "source": [
    "If you're on Windows, you likely see some \"hidden MACOSX\" directories, ``__MACOSX``\n",
    "\n",
    "<font color=\"DodgerBlue\"><b>Task!</b></font> \n",
    "\n",
    "Change the above code so that it _skips_ any path that contains the string ``__MACOSX``\n",
    "\n",
    "We'll do this together..."
   ]
  },
  {
   "cell_type": "markdown",
   "metadata": {},
   "source": [
    "<hr>"
   ]
  },
  {
   "cell_type": "markdown",
   "metadata": {},
   "source": [
    "But, we want to see the files!\n",
    "\n",
    "Let's print all their full filenames (the full paths)!"
   ]
  },
  {
   "cell_type": "code",
   "execution_count": null,
   "metadata": {},
   "outputs": [],
   "source": [
    "#\n",
    "# Steppingstone, Version 3: walk all of the files, printing each one's fullpath\n",
    "#\n",
    "\n",
    "import os\n",
    "import os.path\n",
    "\n",
    "def file_walker(path):\n",
    "    \"\"\" starting from the input, named path\n",
    "        \n",
    "        this function \"walks\" the whole path, including subfolders\n",
    "        and then... explores any questions we might want :)\n",
    "\n",
    "        call, for example, with    file_walker(\"./intro_first\") \n",
    "    \"\"\"\n",
    "    result = list(os.walk(path))     # perhaps try w/o converting to a list...\n",
    "\n",
    "    for folder_tuple in result:\n",
    "        currentpath, subfolders, files = folder_tuple  # always three items, always these...\n",
    "\n",
    "        if '__MACOSX' in currentpath: continue         # skip the rest of _this_ loop iteration: back to top\n",
    "\n",
    "        print(f\"{currentpath = }\") \n",
    "        \n",
    "        for file in files:       # remember, files is a list of filenames!\n",
    "            fullpath = currentpath + \"/\" + file           # construct the full path, or, better: os.path.join(currentpath,file)  \n",
    "            print(f\"   {fullpath = }\")\n",
    "            #contents = GET_STRING_FROM_FILE(fullpath)     # use the fullpath!\n",
    "            #print(f\"{contents[0:42] = }\")\n",
    "\n",
    "    num_folders = len(result)        # the len is the number of currentpaths...\n",
    "    return num_folders\n",
    "\n",
    "#\n",
    "# when discovering, keep your data close (and your functions closer!)\n",
    "#\n",
    "if True:\n",
    "    \"\"\" overall script that runs examples \"\"\"\n",
    "    print(f\"[[ Start! ]]\\n\")     # sign on\n",
    "\n",
    "    path = \"./intro_first\"       # Remember: . means the current directory\n",
    "    result = file_walker(path)   # Run!\n",
    "\n",
    "    print(f\"result = {result}\")  # Yay for f-strings!\n",
    "\n",
    "    print(\"\\n[[ Fin. ]]\")        # sign off\n"
   ]
  },
  {
   "cell_type": "markdown",
   "metadata": {},
   "source": [
    "**Aside**: &nbsp;&nbsp; It's possible to assemble paths using the operating system's \"correct\" character:"
   ]
  },
  {
   "cell_type": "code",
   "execution_count": 36,
   "metadata": {},
   "outputs": [
    {
     "data": {
      "text/plain": [
       "'/root/Users/secret_stuff/file_name'"
      ]
     },
     "execution_count": 36,
     "metadata": {},
     "output_type": "execute_result"
    }
   ],
   "source": [
    "os.path.join(\"/root/Users/secret_stuff\" , \"file_name\")"
   ]
  },
  {
   "cell_type": "markdown",
   "metadata": {},
   "source": [
    "Notice that it _joined_ the path and the file.\n",
    "\n",
    "<br>\n",
    "\n",
    "Since Python is happy with ``/`` we'll use that for now.\n",
    "\n",
    "<hr>"
   ]
  },
  {
   "cell_type": "markdown",
   "metadata": {},
   "source": [
    "#### But, we want to get all of the files' _contents_  !\n",
    "\n",
    "<u>Notice</u> there are lots of files named ``\".DS_Store\"`` ...\n",
    "\n",
    "They are binary data used by MacOS - they will cause trouble!\n",
    "\n",
    "Let's see the trouble, and then fix it:"
   ]
  },
  {
   "cell_type": "code",
   "execution_count": null,
   "metadata": {},
   "outputs": [],
   "source": [
    "#\n",
    "# Steppingstone, Version 4: walk all of the files, printing (bits of) each one's contents!\n",
    "#\n",
    "\n",
    "import os\n",
    "import os.path\n",
    "\n",
    "def file_walker(path):\n",
    "    \"\"\" starting from the input, named path\n",
    "        \n",
    "        this function \"walks\" the whole path, including subfolders\n",
    "        and then... explores any questions we might want :)\n",
    "\n",
    "        call, for example, with    file_walker(\"./intro_first\") \n",
    "    \"\"\"\n",
    "    result = list(os.walk(path))     # perhaps try w/o converting to a list...\n",
    "\n",
    "    for folder_tuple in result:\n",
    "        currentpath, subfolders, files = folder_tuple  # always three items, always these...\n",
    "        if '__MACOSX' in currentpath:  continue\n",
    "        print(f\"{currentpath = }\") \n",
    "\n",
    "        for file in files:       # remember, files is a list of filenames!\n",
    "            fullpath = currentpath + \"/\" + file           # construct the full path, or, better: os.path.join(currentpath,file)  \n",
    "            print(f\"   {fullpath = }\")\n",
    "            contents = GET_STRING_FROM_FILE(fullpath)     # use the fullpath!\n",
    "            print(f\"   {contents[0:42] = }\")\n",
    "\n",
    "    num_folders = len(result)        # the len is the number of currentpaths...\n",
    "    return num_folders\n",
    "\n",
    "#\n",
    "# when discovering, keep your data close (and your functions closer!)\n",
    "#\n",
    "if True:\n",
    "    \"\"\" overall script that runs examples \"\"\"\n",
    "    print(f\"[[ Start! ]]\\n\")     # sign on\n",
    "\n",
    "    path = \"./intro_first\"       # Remember: . means the current directory\n",
    "    result = file_walker(path)   # Run!\n",
    "\n",
    "    print(f\"result = {result}\")  # Yay for f-strings!\n",
    "\n",
    "    print(\"\\n[[ Fin. ]]\")        # sign off\n"
   ]
  },
  {
   "cell_type": "markdown",
   "metadata": {},
   "source": [
    "#### The encoding was wrong!  \n",
    "\n",
    "(Those ``.DS_store`` files are binary, not human-readable.)\n",
    "\n",
    "We could change to, say, latin-1 and see the bytes. But, let's not...\n",
    "\n",
    "We really just want to _algorithmically_ skip over those files. Let's try it:\n",
    "\n",
    "<font color=\"DodgerBlue\"><b>Task to try</b></font>\n",
    "\n",
    "Add an if statement in the above \"steppingstone function\" in order to simply skip over any file that begins with a dot (a period character: ``\".\"``)\n",
    "\n",
    "Then, run it again. (It's ok to leave those dot files' pathnames - or not...)"
   ]
  },
  {
   "cell_type": "markdown",
   "metadata": {},
   "source": [
    "<hr>"
   ]
  },
  {
   "cell_type": "markdown",
   "metadata": {},
   "source": [
    "####  Two examples leading into our 10,000-file challenges! \n",
    "\n",
    "<u>Example 1</u> &nbsp; Let's count how many ``.txt`` files we have... "
   ]
  },
  {
   "cell_type": "code",
   "execution_count": null,
   "metadata": {},
   "outputs": [],
   "source": [
    "#\n",
    "# Rolodex lead-in, example1: counting the number of .txt files...\n",
    "#\n",
    "\n",
    "import os\n",
    "import os.path\n",
    "\n",
    "def file_walker(path):\n",
    "    \"\"\" starting from the input, named path\n",
    "        \n",
    "        this function \"walks\" the whole path, including subfolders\n",
    "        and then... explores any questions we might want :)\n",
    "\n",
    "        call, for example, with    file_walker(\"./intro_first\") \n",
    "    \"\"\"\n",
    "    result = list(os.walk(path))     # perhaps try w/o converting to a list...\n",
    "    \n",
    "    count_txt = 0    # keep count of our .txt files\n",
    "\n",
    "    for folder_tuple in result:\n",
    "        currentpath, subfolders, files = folder_tuple  # always three items, always these...\n",
    "        if '__MACOSX' in currentpath:  continue\n",
    "        print(f\"{currentpath = }\") \n",
    "\n",
    "        for file in files:       # remember, files is a list of filenames!\n",
    "            fullpath = currentpath + \"/\" + file           # construct the full path, or, better: os.path.join(currentpath,file)  \n",
    "            print(f\"   {fullpath = }\")\n",
    "            if file[0] == \".\": continue      # skip files that start with dot\n",
    "            if file[-4:] == \".txt\":\n",
    "                print(\"Found a .txt file! Adding one...\")\n",
    "                count_txt += 1\n",
    "            #contents = GET_STRING_FROM_FILE(fullpath)     # use the fullpath!\n",
    "            #print(f\"   {contents[0:42] = }\")\n",
    "\n",
    "    return count_txt   # phew, we're finally returning something else!\n",
    "\n",
    "#\n",
    "# when discovering, keep your data close (and your functions closer!)\n",
    "#\n",
    "if True:\n",
    "    \"\"\" overall script that runs examples \"\"\"\n",
    "    print(f\"[[ Start! ]]\\n\")     # sign on\n",
    "\n",
    "    path = \"./intro_first\"       # Remember: . means the current directory\n",
    "    result = file_walker(path)   # Run!\n",
    "\n",
    "    print(f\"num txt files = {result}\")  # Yay for f-strings!\n",
    "\n",
    "    print(\"\\n[[ Fin. ]]\")        # sign off\n"
   ]
  },
  {
   "cell_type": "markdown",
   "metadata": {},
   "source": [
    "<font color=\"DodgerBlue\"><b>This is an example</b></font> of a short (1-3 sentence) markdown cell, giving interpretation and context for the above result...\n",
    "\n",
    "#### Number of ``.txt`` files\n",
    "  + It seems that this folder, ``intro_first`` has four (4) ``.txt`` files.  This seems reasonable!\n",
    "  + We could go further and see what _percentage_ of files are ``.txt`` ... \n",
    "  + It's also worth noting that we're trusting the file extension ``.txt`` here: some text files could be masquerading as other things... 😊?!"
   ]
  },
  {
   "cell_type": "markdown",
   "metadata": {},
   "source": [
    "The key idea is to ...\n",
    "  + share the results found, contextualized for us sapiens ...\n",
    "  + consider what else could be done, even if we're not doing so ...\n",
    "  + note possible incompletenesses, countervailing forces, concerns in general ...\n",
    "  + use emojis 🦔 !"
   ]
  },
  {
   "cell_type": "markdown",
   "metadata": {},
   "source": [
    "<hr>"
   ]
  },
  {
   "cell_type": "markdown",
   "metadata": {},
   "source": [
    "####  Second example: using file *contents* \n",
    "\n",
    "<u>Example 2</u> &nbsp; Let's count how many of the ``.txt`` files contain the substring ``'CS'`` -- not in the filename, but in the file ***contents***"
   ]
  },
  {
   "cell_type": "code",
   "execution_count": null,
   "metadata": {},
   "outputs": [],
   "source": [
    "#\n",
    "# Rolodex lead-in, example2: counting the number of .txt files containing 'CS' ...\n",
    "#\n",
    "\n",
    "import os\n",
    "import os.path\n",
    "\n",
    "def file_walker(path):\n",
    "    \"\"\" starting from the input, named path\n",
    "        \n",
    "        this function \"walks\" the whole path, including subfolders\n",
    "        and then... explores any questions we might want :)\n",
    "\n",
    "        call, for example, with    file_walker(\"./intro_first\") \n",
    "    \"\"\"\n",
    "    result = list(os.walk(path))     # perhaps try w/o converting to a list...\n",
    "    \n",
    "    count_txt = 0    # keep count of our .txt files\n",
    "    count_CS = 0     # keep count of 'CS' substrings found\n",
    "\n",
    "    for folder_tuple in result:\n",
    "        currentpath, subfolders, files = folder_tuple  # always three items, always these...\n",
    "        if '__MACOSX' in currentpath:  continue\n",
    "        print(f\"{currentpath = }\") \n",
    "\n",
    "        for file in files:       # remember, files is a list of filenames!\n",
    "            fullpath = currentpath + \"/\" + file           # construct the full path, or, better: os.path.join(currentpath,file)  \n",
    "            print(f\"   {fullpath = }\")\n",
    "            if file[0] == \".\": continue      # skip files that start with dot\n",
    "\n",
    "            if file[-4:] == \".txt\":\n",
    "                # print(\"Found a .txt file! Adding one...\")\n",
    "                count_txt += 1\n",
    "                contents = GET_STRING_FROM_FILE(fullpath)     # use the fullpath!\n",
    "                if 'CS' in contents:\n",
    "                    print(\"        *** Found a 'CS' ... adding 1    (aka 2-True)\")\n",
    "                    count_CS += 1\n",
    "                # print(f\"   {contents[0:42] = }\")\n",
    "\n",
    "    return count_CS, count_txt   # oooh... we can return two things!\n",
    "\n",
    "#\n",
    "# when discovering, keep your data close (and your functions closer!)\n",
    "#\n",
    "if True:\n",
    "    \"\"\" overall script that runs examples \"\"\"\n",
    "    print(f\"[[ Start! ]]\\n\")     # sign on\n",
    "\n",
    "    path = \"./intro_first\"       # Remember: . means the current directory\n",
    "    result = file_walker(path)   # Run!\n",
    "\n",
    "    count_CS, count_txt = result\n",
    "    print()\n",
    "    print(f\"num txt files       = {count_txt}\")  \n",
    "    print(f\"num containing CS   = {count_CS}\")  \n",
    "    perc = count_CS*100/count_txt\n",
    "    print(f\"for a CS percentage of {perc:5.2f}%\")   # :5.2f means width of 5, 2 dec. places, for a _floating pt value\n",
    "\n",
    "    print(\"\\n[[ Fin. ]]\")        # sign off\n"
   ]
  },
  {
   "cell_type": "markdown",
   "metadata": {},
   "source": [
    "<font color=\"Coral\"><b>Results:</b></font> \n",
    "\n",
    "#### Number of ``CS``-content ``.txt`` files\n",
    "  + It seems that this folder, ``intro_first`` has two ``'CS'``-containing ``.txt`` files, out of four total ``.txt`` files, that is, ``50%`` <br><br>\n",
    "  + <u>Reflection</u>: _This seems computationally balanced._ <br><br>\n",
    "  + <u>Opportunities</u>: We could go further and try this in larger folders - such as this whole machine! Or, we could look for other things (like phone numbers or names in various formats). Or, really, we could ask-and-answer almost any algorithmic question about any subset of files on any machine at all... <br><br>\n",
    "  +   _The fox knows many things, but the hedgehog knows one big thing._ - [Archilochus](https://www.goodreads.com/author/quotes/7614908.Archilochus#:~:text=Archilochus%20Quotes&text=We%20don't%20rise%20to,the%20level%20of%20our%20training.&text=The%20fox%20knows%20many%20things,hedgehog%20knows%20one%20big%20thing.&text=Heart%2C%20my%20heart%2C%20so%20battered,the%20men%20who%20hate%20us.) 🦔 "
   ]
  },
  {
   "cell_type": "markdown",
   "metadata": {},
   "source": [
    "#### Trying other directories/folders\n",
    "\n",
    "The ``path`` can be _any_ folder on your local machine, allowing for _arbitrary_ local exploration and discovery...\n",
    "\n",
    "For example, this next cell will count <font color=\"Coral\"><b>how many folders</b></font> do I have, starting at some ``path``\n",
    "+ to count <font color=\"Coral\"><b>files</b></font>, you'll need to build from the examples above"
   ]
  },
  {
   "cell_type": "code",
   "execution_count": 40,
   "metadata": {},
   "outputs": [
    {
     "name": "stdout",
     "output_type": "stream",
     "text": [
      "len(result) = 5\n"
     ]
    }
   ],
   "source": [
    "path = \"./intro_first\"          # any path to any folder?!  intro_first contains _5_ folders total\n",
    "# path = \"./intro_second\"       # any path to any folder?!  intro_second contains _12_ folders total\n",
    "# path = \"./files_challenge\"    # this is the really large folder: it contains _23_ folders total\n",
    "\n",
    "# path = \"C:/\"                  # could use C:/  on windows or \"/\" on MacOS  \n",
    "# path = \".\"                    # could use \".\" for the current directory\n",
    "\n",
    "result = list(os.walk(path))    # this will \"walk\" all of the subfolders and files\n",
    "\n",
    "print(f\"{len(result) = }\")      # this took my machine 2m 47.4s seconds (for \"/\" with total 555695 folders)\n",
    "                                # and, it asked for permission a couple of times (I said no.)\n",
    "#print(f\"{result = }\")          # let's _not_ print it out..."
   ]
  },
  {
   "cell_type": "markdown",
   "metadata": {},
   "source": [
    "#### <font color=\"DodgerBlue\"><b>Your task</b></font>: The Rolodex challenge!\n",
    "+ Here is [the homework page that describes hw1's challenges...](https://docs.google.com/document/d/1SXgPlR00aIxahDi3OYR8y9-AODNwBuLbQsLLt9AKSa4/edit)\n",
    "+ A few questions are \"our\" design\n",
    "+ Then, ask-and-answer more are of _your_ design\n",
    "+ And, you'll answer _your_ questions from at least two other \"root\" directories (the ``path`` that gets everything started is sometimes called the \"root\": the folder whose files your functions _walk_! :)\n",
    "+ Create a short <font color=\"Coral\"><b>Results:</b></font> section after each of \"our\" and _your_ questions. Feel free to use the template above.\n",
    "+ Good luck, walking <i>far more</i> than one thousand files!\n",
    "\n",
    "<br>\n"
   ]
  },
  {
   "cell_type": "code",
   "execution_count": 213,
   "metadata": {},
   "outputs": [
    {
     "name": "stdout",
     "output_type": "stream",
     "text": [
      "/Users/amandadee/Desktop/week1.1/week1_sum24/hw1pr1\n"
     ]
    }
   ],
   "source": [
    "cd '/Users/amandadee/Desktop/week1.1/week1_sum24/hw1pr1'"
   ]
  },
  {
   "cell_type": "markdown",
   "metadata": {},
   "source": [
    "### [[Part A]]    Phone-number files"
   ]
  },
  {
   "cell_type": "code",
   "execution_count": null,
   "metadata": {},
   "outputs": [],
   "source": [
    "# How many .txt files are in the entire folder? \n",
    "# Hint: the starting file, above, helps a lot on this one!  It's many thousands of them...\n",
    "\n",
    "import os\n",
    "import os.path\n",
    "\n",
    "def file_walker(path):\n",
    "    \"\"\" starting from the input, named path\n",
    "        \n",
    "        this function \"walks\" the whole path, including subfolders\n",
    "        and then... explores any questions we might want :)\n",
    "\n",
    "        call, for example, with    file_walker(\"./intro_first\") \n",
    "    \"\"\"\n",
    "    result = list(os.walk(path))     # perhaps try w/o converting to a list...\n",
    "    \n",
    "    count_txt = 0    # keep count of our .txt files\n",
    "\n",
    "    for folder_tuple in result:\n",
    "        currentpath, subfolders, files = folder_tuple  # always three items, always these...\n",
    "        if '__MACOSX' in currentpath:  continue\n",
    "        print(f\"{currentpath = }\") \n",
    "\n",
    "        for file in files:       # remember, files is a list of filenames!\n",
    "            fullpath = currentpath + \"/\" + file           # construct the full path, or, better: os.path.join(currentpath,file)  \n",
    "            print(f\"   {fullpath = }\")\n",
    "            if file[0] == \".\": continue      # skip files that start with dot\n",
    "            if file[-4:] == \".txt\":\n",
    "                print(\"Found a .txt file! Adding one...\")\n",
    "                count_txt += 1\n",
    "            #contents = GET_STRING_FROM_FILE(fullpath)     # use the fullpath!\n",
    "            #print(f\"   {contents[0:42] = }\")\n",
    "\n",
    "    return count_txt   # phew, we're finally returning something else!\n",
    "\n",
    "#\n",
    "# when discovering, keep your data close (and your functions closer!)\n",
    "#\n",
    "if True:\n",
    "    \"\"\" overall script that runs examples \"\"\"\n",
    "    print(f\"[[ Start! ]]\\n\")     # sign on\n",
    "\n",
    "    path = \".\"       # Remember: . means the current directory\n",
    "    result = file_walker(path)   # Run!\n",
    "\n",
    "    print(f\"num txt files = {result}\")  # Yay for f-strings!\n",
    "\n",
    "    print(\"\\n[[ Fin. ]]\")        # sign off"
   ]
  },
  {
   "cell_type": "markdown",
   "metadata": {},
   "source": [
    "#### Number of ``.txt`` files\n",
    "  + Folder ``hw1pr1`` from path '/Users/amandadee/Desktop/week1.1/week1_sum24/hw1pr1' has 11892 ``.txt`` files\n",
    "  + Sounds about right for a large phonebook of files (around 10,000)"
   ]
  },
  {
   "cell_type": "code",
   "execution_count": null,
   "metadata": {},
   "outputs": [],
   "source": [
    "# What is the maximum depth of directories in the entire folder (in other words, what's the maximum number of times that it's possible to move deeper into a subdirectory, overall)? \n",
    "# Hint: count the number of forward-slashes and backward-slashes!\n",
    "# How to count?  Here is an example:    'geese'.count('e')  returns 3.    'a/b/c'.count('/')  returns 2.\n",
    "# Try small examples in a custom cell (it's tricky with the '\\\\' character, so you'll want to pre-debug this!\n",
    "# Key:  it's discovery -- don't try to solve it, rather explore + discover your way, zig-zag'ing towards useful stuff!\n",
    "\n",
    "import os\n",
    "import os.path\n",
    "\n",
    "def max_depth(path):\n",
    "    max_depth = 0\n",
    "\n",
    "    result = os.walk(path)     # perhaps try w/o converting to a list...\n",
    "\n",
    "    for folder_tuple in result:\n",
    "        currentpath, subfolders, files = folder_tuple  # always three items, always these...\n",
    "        print(f\"{currentpath = }\")   # try non-f printing: it's worse!\n",
    "\n",
    "        depth = max(currentpath.count('/'),currentpath.count('\\\\')) # to get separator slashes\n",
    "\n",
    "        max_depth = max(max_depth,depth) # store new max depth if depth is greater than previously stored\n",
    "\n",
    "    return max_depth\n",
    "\n",
    "path = \".\"\n",
    "result = max_depth(path)\n",
    "print(f\"Maximum directory depth: {result}\")\n"
   ]
  },
  {
   "cell_type": "markdown",
   "metadata": {},
   "source": [
    "#### Maximum depth of directories in the entire folder\n",
    "  + Folder ``hw1pr1`` seems to have a maximum directory depth of 10!\n",
    "  + Probably would comment out print(f\"{currentpath =}\") and print the full longest filepath to double check the max directory depth."
   ]
  },
  {
   "cell_type": "code",
   "execution_count": null,
   "metadata": {},
   "outputs": [],
   "source": [
    "# Across all of the files, how many of the phone numbers contain exactly 10 digits? 7 digits? 11 digits? \n",
    "# Hint:  Remember the function from week0 where you extracted only  the digits?  That will be helpful!\n",
    "# Here, you might want a function with an extra input to indicate the number of digits to search for!\n",
    "\n",
    "# Of the exactly-ten-digit phone numbers, how many are in the area code 909 (the area code will be the first three digits of a ten-digit number). \n",
    "# Hint: cleaning, slicing, Python - yay!\n",
    "\n",
    "# Are there any phone numbers that have more than 10 digits? \n",
    "\n",
    "import os\n",
    "\n",
    "def just_digits(s):\n",
    "    ''' returns only the digits in input string s '''\n",
    "    digits = []\n",
    "\n",
    "    for i in s:\n",
    "        if i.isdigit():\n",
    "            digits.append(i)\n",
    "\n",
    "    return ''.join(digits)\n",
    "\n",
    "def file_walker(path,exact_digits = None):\n",
    "    ''' returns number of phone numbers that contain exactly 7,10,11(,12,13) digits '''\n",
    "    ''' also counts how many of the 10-digit numbers are in the area code 909 '''\n",
    "    result = list(os.walk(path))  # perhaps try w/o converting to a list...\n",
    "    \n",
    "    count_digits = {7:0,10:0,11:0,12:0,13:0}  # dictionary to store counts of 7,10,11(,12,13) digit lengths\n",
    "    count_909 = 0 # keep count of 909 phone numbers\n",
    "\n",
    "    for folder_tuple in result:\n",
    "        currentpath, subfolders, files = folder_tuple  # always three items, always these...\n",
    "        if '__MACOSX' in currentpath:\n",
    "            continue\n",
    "        \n",
    "        for file in files:\n",
    "            if file.startswith('.') or not file.endswith('.txt'):\n",
    "                continue\n",
    "            \n",
    "            fullpath = os.path.join(currentpath, file)\n",
    "            with open(fullpath, 'r', encoding='utf-8', errors='ignore') as f:\n",
    "                contents = f.read()\n",
    "                digits = just_digits(contents)\n",
    "                length = len(digits)\n",
    "                \n",
    "                if length in count_digits:  # only count lengths if 7,10,11(,12,13) digits\n",
    "                    count_digits[length] += 1\n",
    "\n",
    "                    if length == 10 and digits.startswith(\"909\"): # only count phone numbers if in the area code 909\n",
    "                        count_909 += 1\n",
    "    \n",
    "    return count_digits, count_909\n",
    "\n",
    "path = \".\"\n",
    "count_digits, count_909 = file_walker(path)\n",
    "for length in [7,10,11,12,13]:\n",
    "    print(f\"Total {length}-digit phone numbers: {count_digits[length]}\")\n",
    "print(f\"Total 10-digit phone numbers in area code 909: {count_909}\")"
   ]
  },
  {
   "cell_type": "markdown",
   "metadata": {},
   "source": [
    "#### Total phone numbers that have exactly 7, 10, 11 digits\n",
    "  + Digits dictionary {7 : 1216, 10 : 10375, 11 : 80} where key is [7,10,11] and values are [1216,10375,80] \n",
    "  + Human insight needed to be inputted to know that phone numbers are either 7 digits, 10 with area code, and 11 with country code. How else might it be coded otherwise? "
   ]
  },
  {
   "cell_type": "markdown",
   "metadata": {},
   "source": [
    "#### Total phone numbers that are in the area code 909 (assume 10 digits)\n",
    "  + 1188 phone numbers with area code 909. That should be a little less than the total number of students of CMC! Assuming all are local to the Inland Empire region or international and got their numbers around here. \n",
    "  + What more might be done.. record the different countries by assuming local (US) phone numbers as 7 digits, 10 digits, or 11 digits starting with '+1' or '1' using just_digits(). Hmm what about countries with country code that has 2 numbers i.e. New Zealand +64 thus making it 12 digits.."
   ]
  },
  {
   "cell_type": "code",
   "execution_count": null,
   "metadata": {},
   "outputs": [],
   "source": [
    "# How many people have your last name?    \n",
    "# Hint#1:   use the presence of a comma to determine whether the last name is 1st or 2nd!\n",
    "# Hint#2:   watch out for newline characters, '\\n'    Consider s.split('\\n'), s.strip(), s.startswith, …\n",
    "\n",
    "# Choose another first name present:  How many people have that last name?\n",
    "\n",
    "# How many people have your first name? \n",
    "\n",
    "# Choose another first name present: How many people have that first name?\n",
    "# The answers to these 4 questions are collated in the following markdown\n",
    "\n",
    "import os\n",
    "\n",
    "def get_string_from_file(filepath):\n",
    "    try:\n",
    "        with open(filepath, \"r\", encoding=\"utf-8\", errors=\"ignore\") as f:\n",
    "            return f.read().strip()  # remove unnecessary whitespace\n",
    "    except Exception as e:\n",
    "        print(f\"Error reading {filepath}: {e}\")\n",
    "        return \"\"\n",
    "\n",
    "def clean_name(name):\n",
    "    ''' removes all elements other than string. '''\n",
    "    return \"\".join([c for c in name if c.isalpha() or c == \" \" or c == \",\"]).strip() # isalpha is alphabet\n",
    "\n",
    "def file_walker(path, target_first_name=None, target_last_name=None):\n",
    "    ''' counts people by first and last names. '''\n",
    "    \n",
    "    first_name_count = 0\n",
    "    last_name_count = 0\n",
    "\n",
    "    for currentpath, _, files in os.walk(path):  \n",
    "        if '__MACOSX' in currentpath:\n",
    "            continue\n",
    "        \n",
    "        print(f\"{currentpath = }\")  \n",
    "\n",
    "        for file in files:\n",
    "            fullpath = os.path.join(currentpath, file)\n",
    "\n",
    "            if file.startswith(\".\") or not file.endswith(\".txt\"):  \n",
    "                continue  \n",
    "\n",
    "            contents = get_string_from_file(fullpath)\n",
    "            name = clean_name(contents)  \n",
    "\n",
    "            if \",\" in name:\n",
    "                # Format: LastName, FirstName\n",
    "                parts = name.split(\",\")\n",
    "                if len(parts) >= 2:\n",
    "                    last_name = parts[0].strip().lower()\n",
    "                    first_name = parts[1].strip().lower()\n",
    "            else:\n",
    "                # Format: FirstName LastName\n",
    "                parts = name.split()\n",
    "                if len(parts) >= 2:\n",
    "                    first_name = parts[0].strip().lower()\n",
    "                    last_name = parts[-1].strip().lower()\n",
    "\n",
    "            # count occurrences\n",
    "            if target_first_name and first_name == target_first_name.lower():\n",
    "                first_name_count += 1\n",
    "            if target_last_name and last_name == target_last_name.lower():\n",
    "                last_name_count += 1\n",
    "\n",
    "    return first_name_count, last_name_count\n",
    "\n",
    "if True:\n",
    "    print(f\"[[ Start! ]]\\n\")  \n",
    "\n",
    "    path = \".\"  \n",
    "    target_first_name = \"Emmie\"  # Change this to any first name\n",
    "    target_last_name = \"Canel\"       # Change this to any last name\n",
    "\n",
    "    first_name_count, last_name_count = file_walker(path, target_first_name, target_last_name)\n",
    "\n",
    "    print(f\"\\nTotal people with first name '{target_first_name}': {first_name_count}\")\n",
    "    print(f\"Total people with last name '{target_last_name}': {last_name_count}\")\n",
    "\n",
    "    print(\"\\n[[ Fin. ]]\")  "
   ]
  },
  {
   "cell_type": "markdown",
   "metadata": {},
   "source": [
    "#### First names and Last Names\n",
    "  + How many people have your last name? 0 people have the last name 'CS35_Participant_10' \n",
    "  + Choose another last  name present: 1 people have the last name 'Canel' \n",
    "  + How many people have your first name? 2 people have the first name 'CS35_Participant_10' \n",
    "  + Choose another first name present: 5 people have the first name 'Emmie'   \n",
    "  + We could check how many variations of a particular name there are e.g. Cat Cath Cathy Catherine. We could check how many variations of a particular name there are to see name popularity. \n",
    "  + We could improve this by allowing user input for names instead of hardcoding the target first and last name. \n",
    "  + I have two given names! In cases where there are more than 3 unique names to a person, I'd probably take the first entry or first entry after the comma as the first name and same thought for the last name. This assumes that folks don't prefer their second given name. \n"
   ]
  },
  {
   "cell_type": "markdown",
   "metadata": {},
   "source": [
    "#### Phone numbers with more than 10 digits\n",
    "  + Yes! 189 phone numbers with 12-digits and 0 numbers with 13-digits\n",
    "  + Made tweaks to the code earlier knowing from a google search 'Yes, there are phone numbers with more than 10 digits. The length of a phone number depends on the country. For example, China's phone numbers can have up to 13 digits, while Mozambique and Brazil's phone numbers can have up to 12 digits.'"
   ]
  },
  {
   "cell_type": "code",
   "execution_count": null,
   "metadata": {},
   "outputs": [],
   "source": [
    "# How many people have three \"i\"'s somewhere in their name (not necessarily consecutiiive!)\n",
    "# s.count(\"i\") is a friend!    (This can be case sensitive/insensitive: that is up to you.)\n",
    "\n",
    "import os\n",
    "\n",
    "def get_string_from_file(filepath):\n",
    "    try:\n",
    "        with open(filepath, \"r\", encoding=\"utf-8\", errors=\"ignore\") as f:\n",
    "            return f.read().strip()  # remove unnecessary whitespace\n",
    "    except Exception as e:\n",
    "        print(f\"Error reading {filepath}: {e}\")\n",
    "        return \"\"\n",
    "\n",
    "def clean_name(name):\n",
    "    ''' removes all elements other than string. '''\n",
    "    return \"\".join([c for c in name if c.isalpha() or c == \" \" or c == \",\"]).strip() # isalpha is alphabet\n",
    "\n",
    "def count_eyes(s):\n",
    "    ''' returns the number of times i or I appears in the input string s '''\n",
    "    result = 0\n",
    "    for i in range(len(s)): \n",
    "        if s[i] in 'iI': \n",
    "            result += 1\n",
    "    return result\n",
    "\n",
    "def file_walker(path):\n",
    "    '''counts names with at least 3 i or Is'''\n",
    "    count_three_i = 0  # count names with at least 3 iIs\n",
    "\n",
    "    for currentpath, _, files in os.walk(path):  \n",
    "        if '__MACOSX' in currentpath:\n",
    "            continue\n",
    "        print(f\"{currentpath = }\")  \n",
    "\n",
    "        for file in files:\n",
    "            fullpath = os.path.join(currentpath, file)\n",
    "\n",
    "            if file.startswith(\".\") or not file.endswith(\".txt\"):  \n",
    "                continue  \n",
    "\n",
    "            contents = get_string_from_file(fullpath)\n",
    "            name = clean_name(contents)  \n",
    "\n",
    "            i_count = count_eyes(name)  # Count 'i' and 'I' using provided method\n",
    "\n",
    "            if i_count >= 3:\n",
    "                print(f\"{name} has {i_count} iIs\")\n",
    "                count_three_i += 1\n",
    "\n",
    "    return count_three_i\n",
    "\n",
    "path = \".\"  \n",
    "count_three_i = file_walker(path)\n",
    "print(f\"Total people with at least 3 'iI's in their name: {count_three_i}\")"
   ]
  },
  {
   "cell_type": "markdown",
   "metadata": {},
   "source": [
    "#### Counting eyes in names\n",
    "  + 525 people have at least 3 letter iIs in their name! - This is not consecutive and case insensitive.\n",
    "  + I am guessing (less to) no people will have 3 consecutive i's in their name."
   ]
  },
  {
   "cell_type": "markdown",
   "metadata": {},
   "source": [
    "### [[Part B]]    [Exploring your own files!]   "
   ]
  },
  {
   "cell_type": "code",
   "execution_count": null,
   "metadata": {},
   "outputs": [],
   "source": [
    "# Chosen top-level folder\n",
    "cd /Users/amandadee/Desktop/cs5"
   ]
  },
  {
   "cell_type": "code",
   "execution_count": null,
   "metadata": {},
   "outputs": [],
   "source": [
    "# How many files are there total?  (Choose somewhere with at least 42 files.)\n",
    "\n",
    "import os\n",
    "import os.path\n",
    "\n",
    "def file_walker(path):\n",
    "    \"\"\" Walks the entire directory structure from `path` \n",
    "        and counts the total number of files (all file types).\n",
    "    \"\"\"\n",
    "    result = list(os.walk(path))  # Convert generator to list for processing\n",
    "    \n",
    "    total_files = 0  # Count of all files\n",
    "\n",
    "    for folder_tuple in result:\n",
    "        currentpath, subfolders, files = folder_tuple  # always three items, always these...\n",
    "        if '__MACOSX' in currentpath: continue         # skip the rest of _this_ loop iteration: back to top\n",
    "\n",
    "        print(f\"{currentpath = }\") \n",
    "        \n",
    "        for file in files:  \n",
    "            if file.startswith(\".\"):  \n",
    "                continue \n",
    "            \n",
    "            fullpath = os.path.join(currentpath, file)  #  full file path\n",
    "            print(f\"   {fullpath = }\")  \n",
    "            \n",
    "            total_files += 1  \n",
    "\n",
    "    return total_files \n",
    "\n",
    "path = \".\"  \n",
    "result = file_walker(path) \n",
    "\n",
    "print(f\"Total number of files = {result}\") "
   ]
  },
  {
   "cell_type": "markdown",
   "metadata": {},
   "source": [
    "#### Number of files\n",
    "  + Folder ``cs5`` from path '/Users/amandadee/Desktop/cs5' has a total of 116 files\n",
    "  + Sounds about right from the multiple downloads from sophomore year !"
   ]
  },
  {
   "cell_type": "code",
   "execution_count": null,
   "metadata": {},
   "outputs": [],
   "source": [
    "# How deep was the deepest path present?\n",
    "\n",
    "import os\n",
    "import os.path\n",
    "\n",
    "def max_depth(path):\n",
    "    max_depth = 0\n",
    "\n",
    "    result = os.walk(path)     # perhaps try w/o converting to a list...\n",
    "\n",
    "    for folder_tuple in result:\n",
    "        currentpath, subfolders, files = folder_tuple  # always three items, always these...\n",
    "        print(f\"{currentpath = }\")   # try non-f printing: it's worse!\n",
    "\n",
    "        depth = max(currentpath.count('/'),currentpath.count('\\\\')) # to get separator slashes\n",
    "\n",
    "        max_depth = max(max_depth,depth) # store new max depth if depth is greater than previously stored\n",
    "\n",
    "    return max_depth\n",
    "\n",
    "path = \".\"\n",
    "result = max_depth(path)\n",
    "print(f\"Maximum directory depth: {result}\")"
   ]
  },
  {
   "cell_type": "markdown",
   "metadata": {},
   "source": [
    "#### Maximum directory depth\n",
    "  + Folder ``cs5`` from path '/Users/amandadee/Desktop/cs5' has a maximum directory depth of 3.\n",
    "  + Sounds about right since I hate having too many subfolders within main folders- I can't keep track."
   ]
  },
  {
   "cell_type": "code",
   "execution_count": null,
   "metadata": {},
   "outputs": [],
   "source": [
    "# How many \".py\" files\n",
    "import os\n",
    "import os.path\n",
    "\n",
    "def file_walker(path):\n",
    "    \"\"\" starting from the input, named path\n",
    "        \n",
    "        this function \"walks\" the whole path, including subfolders\n",
    "        and then... explores any questions we might want :)\n",
    "\n",
    "        call, for example, with    file_walker(\"./intro_first\") \n",
    "    \"\"\"\n",
    "    result = list(os.walk(path))     # perhaps try w/o converting to a list...\n",
    "    \n",
    "    count_py = 0    # keep count of our .py files\n",
    "\n",
    "    for folder_tuple in result:\n",
    "        currentpath, subfolders, files = folder_tuple  # always three items, always these...\n",
    "        if '__MACOSX' in currentpath:  continue\n",
    "        print(f\"{currentpath = }\") \n",
    "\n",
    "        for file in files:       # remember, files is a list of filenames!\n",
    "            fullpath = currentpath + \"/\" + file           # construct the full path, or, better: os.path.join(currentpath,file)  \n",
    "            print(f\"   {fullpath = }\")\n",
    "            if file[0] == \".\": continue      # skip files that start with dot\n",
    "            if file[-3:] == \".py\":\n",
    "                print(\"Found a .py file! Adding one...\")\n",
    "                count_py += 1\n",
    "            #contents = GET_STRING_FROM_FILE(fullpath)     # use the fullpath!\n",
    "            #print(f\"   {contents[0:42] = }\")\n",
    "\n",
    "    return count_py   # phew, we're finally returning something else!\n",
    "\n",
    "#\n",
    "# when discovering, keep your data close (and your functions closer!)\n",
    "#\n",
    "if True:\n",
    "    \"\"\" overall script that runs examples \"\"\"\n",
    "    print(f\"[[ Start! ]]\\n\")     # sign on\n",
    "\n",
    "    path = \".\"       # Remember: . means the current directory\n",
    "    result = file_walker(path)   # Run!\n",
    "\n",
    "    print(f\"num py files = {result}\")  # Yay for f-strings!\n",
    "\n",
    "    print(\"\\n[[ Fin. ]]\")        # sign off"
   ]
  },
  {
   "cell_type": "markdown",
   "metadata": {},
   "source": [
    "#### Number of ``.py`` files\n",
    "  + Folder ``cs5`` from path '/Users/amandadee/Desktop/cs5' has 39 ``.py`` files\n",
    "  + Sounds about right ~15 weeks a semester and 2 or 3 python files for each week"
   ]
  },
  {
   "cell_type": "code",
   "execution_count": null,
   "metadata": {},
   "outputs": [],
   "source": [
    "# Which is the deepest folder \n",
    "#\n",
    "\n",
    "import os\n",
    "\n",
    "def deepest_folder(path):\n",
    "    result = list(os.walk(path))  \n",
    "    max_depth = 0\n",
    "    deepest_folder = \"\"\n",
    "\n",
    "    for folder_tuple in result:\n",
    "        currentpath, _, _ = folder_tuple  \n",
    "        depth = max(currentpath.count('/'), currentpath.count('\\\\'))\n",
    "\n",
    "        if depth > max_depth:\n",
    "            max_depth = depth\n",
    "            deepest_folder = currentpath  \n",
    "\n",
    "    return deepest_folder, max_depth\n",
    "\n",
    "path = \".\"\n",
    "deepest_folder, max_depth = deepest_folder(path)\n",
    "\n",
    "print(f\"Deepest Folder: {deepest_folder}\")\n",
    "print(f\"Maximum Depth: {max_depth}\")"
   ]
  },
  {
   "cell_type": "markdown",
   "metadata": {},
   "source": [
    "#### Deepest folder\n",
    "  + Knowing that my Folder ``cs5``'s maximum directory depth is 3.. it seems that the deepest folder is ``./hw3pr1_f22/notebook_version/__pycache__``\n",
    "  + What if I had multiple folders with depths of 3.. next time, how would I return all of them? I assume my result above was the first one from a chronological file walkthrough."
   ]
  },
  {
   "cell_type": "code",
   "execution_count": null,
   "metadata": {},
   "outputs": [],
   "source": [
    "# How many files have hw in the filename aka how many hw files did i submit in sophomore year !\n",
    "\n",
    "import os\n",
    "import os.path\n",
    "\n",
    "def file_walker(path):\n",
    "    \"\"\" starting from the input, named path\n",
    "        \n",
    "        this function \"walks\" the whole path, including subfolders\n",
    "        and then... explores any questions we might want :)\n",
    "\n",
    "        call, for example, with    file_walker(\"./intro_first\") \n",
    "    \"\"\"\n",
    "    result = list(os.walk(path))     # perhaps try w/o converting to a list...\n",
    "    \n",
    "    count_py = 0    # keep count of our .py files\n",
    "    count_hw = 0     # keep count of 'hw' substrings found\n",
    "\n",
    "    for folder_tuple in result:\n",
    "        currentpath, subfolders, files = folder_tuple  # always three items, always these...\n",
    "        if '__MACOSX' in currentpath:  continue\n",
    "        print(f\"{currentpath = }\") \n",
    "\n",
    "        for file in files:       # remember, files is a list of filenames!\n",
    "            fullpath = currentpath + \"/\" + file           # construct the full path, or, better: os.path.join(currentpath,file)  \n",
    "            print(f\"   {fullpath = }\")\n",
    "            if file[0] == \".\": continue      # skip files that start with dot\n",
    "\n",
    "            if file[-3:] == \".py\":\n",
    "                # print(\"Found a .py file! Adding one...\")\n",
    "                count_py += 1\n",
    "                \n",
    "                if file.startswith(\"hw\"):\n",
    "                    print(\"        *** Found 'hw' in filename ... adding 1    (aka 2-True)\")\n",
    "                    count_hw += 1\n",
    "                # print(f\"   {contents[0:42] = }\")\n",
    "\n",
    "    return count_hw, count_py   # oooh... we can return two things!\n",
    "\n",
    "#\n",
    "# when discovering, keep your data close (and your functions closer!)\n",
    "#\n",
    "if True:\n",
    "    print(f\"[[ Start! ]]\\n\")  \n",
    "\n",
    "    path = \".\"  \n",
    "    count_hw, count_py = file_walker(path)  \n",
    "\n",
    "    print()\n",
    "    print(f\"Total .py files       = {count_py}\")  \n",
    "    print(f\".py files containing 'hw' in filename = {count_hw}\")  \n",
    "\n",
    "    if count_py > 0:\n",
    "        perc = count_hw * 100 / count_py\n",
    "        print(f\"Percentage of 'hw' .py files = {perc:5.2f}%\")  \n",
    "    else:\n",
    "        print(\"No .py files found, so percentage calculation is not applicable.\")\n",
    "\n",
    "    print(\"\\n[[ Fin. ]]\") "
   ]
  },
  {
   "cell_type": "markdown",
   "metadata": {},
   "source": [
    "#### Number of ``hw`` in ``.py`` files\n",
    "  + Folder ``cs5`` from path '/Users/amandadee/Desktop/cs5' has 39 ``.py`` files and of those 32 are entitled ``hw``\n",
    "  + 32/39 = ~82% checks out! 7 of those files might include starter files, midterms, finals, misc. "
   ]
  }
 ],
 "metadata": {
  "kernelspec": {
   "display_name": "base",
   "language": "python",
   "name": "python3"
  },
  "language_info": {
   "codemirror_mode": {
    "name": "ipython",
    "version": 3
   },
   "file_extension": ".py",
   "mimetype": "text/x-python",
   "name": "python",
   "nbconvert_exporter": "python",
   "pygments_lexer": "ipython3",
   "version": "3.12.7"
  },
  "orig_nbformat": 4
 },
 "nbformat": 4,
 "nbformat_minor": 2
}
