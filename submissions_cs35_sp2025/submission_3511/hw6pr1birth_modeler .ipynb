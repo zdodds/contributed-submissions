{
 "cells": [
  {
   "cell_type": "markdown",
   "metadata": {},
   "source": [
    "#### Births Modeler: &nbsp; Using Decision Trees and Random Forests\n",
    "\n",
    "+ births clasification via decision trees and random forests...\n",
    "+ You're classifying \"above\" (above-median popularity of birthdays) vs \"below\" (below-median popularity of birthdays)\n",
    "+ Feel free to re-use the cleaned data from previous weeks (already here)\n",
    "+ Suggestion:  &nbsp; go cell-by-cell using the iris_modeler example, copying-and-adapting as you go..."
   ]
  },
  {
   "cell_type": "markdown",
   "metadata": {},
   "source": [
    "I AM USING MY OWN BIRTHS_CLEANED.CSV\n",
    "\n",
    "THAT IS WHY I HAVE THIS \"BIRTHNUM\" COLUMN"
   ]
  },
  {
   "cell_type": "code",
   "execution_count": null,
   "metadata": {},
   "outputs": [],
   "source": [
    "#\n",
    "# hw6pr1births_modeler:  bday popularity modeling by month + day    \n",
    "#                                                 (above/below median: 190942)\n",
    "#\n",
    "\n",
    "#\n",
    "# SUGGESTION:  \n",
    "# \n",
    "# +++ copy-paste-and-alter from the week6 iris-modeling notebook into here +++\n",
    "#"
   ]
  },
  {
   "cell_type": "markdown",
   "metadata": {},
   "source": [
    "## Data set up...\n",
    "+ Use the cleaned data from prior weeks (it should be here in this folder as births_cleaned.csv)\n",
    "+ Be sure to get rid of the column with the **number of births** &nbsp;&nbsp; That makes the prediction \"too easy\"!\n",
    "+ Instead, see how well the DT/RF techniques can predict above/below-median popularity, just based on month and day...\n",
    "+ (It's quite a hard estimation problem!)"
   ]
  },
  {
   "cell_type": "code",
   "execution_count": 1,
   "metadata": {},
   "outputs": [],
   "source": [
    "# libraries!\n",
    "import numpy as np      # numpy is Python's \"array\" library\n",
    "import pandas as pd     # Pandas is Python's \"data\" library (\"dataframe\" == spreadsheet)"
   ]
  },
  {
   "cell_type": "markdown",
   "metadata": {},
   "source": [
    "## First: &nbsp; _Decision Trees_"
   ]
  },
  {
   "cell_type": "code",
   "execution_count": null,
   "metadata": {},
   "outputs": [],
   "source": [
    "#\n",
    "# SUGGESTION:  \n",
    "# \n",
    "#   Copy-paste-and-adapt from the iris-modeling notebook.\n",
    "#\n",
    "#\n",
    "# This approach has the advantage of more deeply \"digesting\" the iris workflow ...\n",
    "#\n",
    "#      ... altering the parts that don't transfer, and taking the parts that do\n",
    "#"
   ]
  },
  {
   "cell_type": "code",
   "execution_count": 34,
   "metadata": {},
   "outputs": [
    {
     "name": "stdout",
     "output_type": "stream",
     "text": [
      "births_cleaned.csv : file read into a pandas dataframe.\n"
     ]
    }
   ],
   "source": [
    "# let's read in our data...\n",
    "# \n",
    "# \n",
    "filename = 'births_cleaned.csv'\n",
    "df_tidy = pd.read_csv(filename)      # encoding = \"utf-8\", \"latin1\"\n",
    "print(f\"{filename} : file read into a pandas dataframe.\")"
   ]
  },
  {
   "cell_type": "code",
   "execution_count": 42,
   "metadata": {},
   "outputs": [
    {
     "data": {
      "text/html": [
       "<div>\n",
       "<style scoped>\n",
       "    .dataframe tbody tr th:only-of-type {\n",
       "        vertical-align: middle;\n",
       "    }\n",
       "\n",
       "    .dataframe tbody tr th {\n",
       "        vertical-align: top;\n",
       "    }\n",
       "\n",
       "    .dataframe thead th {\n",
       "        text-align: right;\n",
       "    }\n",
       "</style>\n",
       "<table border=\"1\" class=\"dataframe\">\n",
       "  <thead>\n",
       "    <tr style=\"text-align: right;\">\n",
       "      <th></th>\n",
       "      <th>month</th>\n",
       "      <th>day</th>\n",
       "      <th>birthnum</th>\n",
       "    </tr>\n",
       "  </thead>\n",
       "  <tbody>\n",
       "    <tr>\n",
       "      <th>0</th>\n",
       "      <td>1</td>\n",
       "      <td>1</td>\n",
       "      <td>1</td>\n",
       "    </tr>\n",
       "    <tr>\n",
       "      <th>1</th>\n",
       "      <td>1</td>\n",
       "      <td>2</td>\n",
       "      <td>1</td>\n",
       "    </tr>\n",
       "    <tr>\n",
       "      <th>2</th>\n",
       "      <td>1</td>\n",
       "      <td>3</td>\n",
       "      <td>1</td>\n",
       "    </tr>\n",
       "    <tr>\n",
       "      <th>3</th>\n",
       "      <td>1</td>\n",
       "      <td>4</td>\n",
       "      <td>1</td>\n",
       "    </tr>\n",
       "    <tr>\n",
       "      <th>4</th>\n",
       "      <td>1</td>\n",
       "      <td>5</td>\n",
       "      <td>1</td>\n",
       "    </tr>\n",
       "    <tr>\n",
       "      <th>...</th>\n",
       "      <td>...</td>\n",
       "      <td>...</td>\n",
       "      <td>...</td>\n",
       "    </tr>\n",
       "    <tr>\n",
       "      <th>361</th>\n",
       "      <td>12</td>\n",
       "      <td>27</td>\n",
       "      <td>0</td>\n",
       "    </tr>\n",
       "    <tr>\n",
       "      <th>362</th>\n",
       "      <td>12</td>\n",
       "      <td>28</td>\n",
       "      <td>0</td>\n",
       "    </tr>\n",
       "    <tr>\n",
       "      <th>363</th>\n",
       "      <td>12</td>\n",
       "      <td>29</td>\n",
       "      <td>0</td>\n",
       "    </tr>\n",
       "    <tr>\n",
       "      <th>364</th>\n",
       "      <td>12</td>\n",
       "      <td>30</td>\n",
       "      <td>0</td>\n",
       "    </tr>\n",
       "    <tr>\n",
       "      <th>365</th>\n",
       "      <td>12</td>\n",
       "      <td>31</td>\n",
       "      <td>0</td>\n",
       "    </tr>\n",
       "  </tbody>\n",
       "</table>\n",
       "<p>366 rows × 3 columns</p>\n",
       "</div>"
      ],
      "text/plain": [
       "     month  day  birthnum\n",
       "0        1    1         1\n",
       "1        1    2         1\n",
       "2        1    3         1\n",
       "3        1    4         1\n",
       "4        1    5         1\n",
       "..     ...  ...       ...\n",
       "361     12   27         0\n",
       "362     12   28         0\n",
       "363     12   29         0\n",
       "364     12   30         0\n",
       "365     12   31         0\n",
       "\n",
       "[366 rows x 3 columns]"
      ]
     },
     "execution_count": 42,
     "metadata": {},
     "output_type": "execute_result"
    }
   ],
   "source": [
    "#\n",
    "# All of the columns need to be numeric, we'll drop irisname\n",
    "ROW = 0\n",
    "COLUMN = 1\n",
    "df_model1 = df_tidy.drop('births', axis=COLUMN )\n",
    "df_model1 = df_model1.drop('above/below median', axis=COLUMN )\n",
    "df_model1"
   ]
  },
  {
   "cell_type": "code",
   "execution_count": 67,
   "metadata": {},
   "outputs": [
    {
     "name": "stdout",
     "output_type": "stream",
     "text": [
      "COLUMNS is Index(['month', 'day', 'birthnum'], dtype='object')\n",
      "\n",
      "COLUMNS[0] is month\n",
      "\n",
      "COL_INDEX is {'month': 0, 'day': 1, 'birthnum': 2}\n",
      "\n",
      "\n",
      "Index(['month', 'day'], dtype='object')\n",
      "above maps to 0\n",
      "below maps to 1\n"
     ]
    }
   ],
   "source": [
    "#\n",
    "# once we have all the columns we want, let's create an index of their names...\n",
    "\n",
    "#\n",
    "# Let's make sure we have all of our helpful variables in one place \n",
    "#       To be adapted if we drop/add more columns...\n",
    "#\n",
    "\n",
    "#\n",
    "# let's keep our column names in variables, for reference\n",
    "#\n",
    "COLUMNS = df_model1.columns            # \"list\" of columns\n",
    "print(f\"COLUMNS is {COLUMNS}\\n\")  \n",
    "  # It's a \"pandas\" list, called an Index\n",
    "  # use it just as a Python list of strings:\n",
    "print(f\"COLUMNS[0] is {COLUMNS[0]}\\n\")\n",
    "\n",
    "# let's create a dictionary to look up any column index by name\n",
    "COL_INDEX = {}\n",
    "for i, name in enumerate(COLUMNS):\n",
    "    COL_INDEX[name] = i  # using the name (as key), look up the value (i)\n",
    "print(f\"COL_INDEX is {COL_INDEX}\\n\\n\")\n",
    "\n",
    "#\n",
    "# Feature names!\n",
    "#\n",
    "FEATURES = COLUMNS[0:2]\n",
    "print(FEATURES)\n",
    "#\n",
    "# and our \"species\" names\n",
    "#\n",
    "\n",
    "# all of scikit-learn's ML routines need numbers, not strings\n",
    "#   ... even for categories/classifications (like species!)\n",
    "#   so, we will convert the flower-species to numbers:\n",
    "\n",
    "SPECIES = ['above','below']   # int to str this is not right lol but i think it fine\n",
    "SPECIES_INDEX = {'above':0,'below':1}  # str to int\n",
    "\n",
    "# Let's try it out...\n",
    "for name in SPECIES:\n",
    "    print(f\"{name} maps to {SPECIES_INDEX[name]}\")"
   ]
  },
  {
   "cell_type": "code",
   "execution_count": 44,
   "metadata": {},
   "outputs": [
    {
     "name": "stdout",
     "output_type": "stream",
     "text": [
      "[[ 1  1  1]\n",
      " [ 1  2  1]\n",
      " [ 1  3  1]\n",
      " ...\n",
      " [12 29  0]\n",
      " [12 30  0]\n",
      " [12 31  0]]\n"
     ]
    }
   ],
   "source": [
    "# let's convert our dataframe to a numpy array, named A\n",
    "#\n",
    "\n",
    "A = df_model1.to_numpy()  \n",
    "print(A)\n"
   ]
  },
  {
   "cell_type": "code",
   "execution_count": 46,
   "metadata": {},
   "outputs": [
    {
     "name": "stdout",
     "output_type": "stream",
     "text": [
      "[[ 1.  1.  1.]\n",
      " [ 1.  2.  1.]\n",
      " [ 1.  3.  1.]\n",
      " ...\n",
      " [12. 29.  0.]\n",
      " [12. 30.  0.]\n",
      " [12. 31.  0.]]\n"
     ]
    }
   ],
   "source": [
    "#\n",
    "# let's make sure it's all floating-point (here, it already is, but in other datasets it might not be)\n",
    "#\n",
    "A = A.astype('float64')  # so many:  www.tutorialspoint.com/numpy/numpy_data_types.htm\n",
    "print(A)"
   ]
  },
  {
   "cell_type": "code",
   "execution_count": 45,
   "metadata": {},
   "outputs": [
    {
     "name": "stdout",
     "output_type": "stream",
     "text": [
      "\n",
      "The dataset has 366 rows and 3 cols\n"
     ]
    }
   ],
   "source": [
    "#\n",
    "# nice to have NUM_ROWS and NUM_COLS around\n",
    "#\n",
    "NUM_ROWS, NUM_COLS = A.shape\n",
    "print(f\"\\nThe dataset has {NUM_ROWS} rows and {NUM_COLS} cols\")"
   ]
  },
  {
   "cell_type": "code",
   "execution_count": 53,
   "metadata": {},
   "outputs": [
    {
     "name": "stdout",
     "output_type": "stream",
     "text": [
      "flower #42 is [ 2. 12.  0.]\n",
      "  Its month is 2.0\n",
      "  Its day is 12.0\n",
      "  Its birthnum is 0.0\n",
      "  Its species is above (i.e., 0)\n"
     ]
    }
   ],
   "source": [
    "# let's use all our variables, to reinforce that we have\n",
    "# (1) their names...\n",
    "# (2) access and control over each...\n",
    "\n",
    "# choose a row index, n:\n",
    "n = 42\n",
    "print(f\"flower #{n} is {A[n]}\")\n",
    "\n",
    "for i in range(len(COLUMNS)):\n",
    "    colname = COLUMNS[i]\n",
    "    value = A[n][i]\n",
    "    print(f\"  Its {colname} is {value}\")\n",
    "\n",
    "species_index = COL_INDEX['birthnum']\n",
    "species_num = int(round(A[n][species_index]))\n",
    "species = SPECIES[species_num]\n",
    "print(f\"  Its species is {species} (i.e., {species_num})\")"
   ]
  },
  {
   "cell_type": "code",
   "execution_count": 54,
   "metadata": {},
   "outputs": [
    {
     "name": "stdout",
     "output_type": "stream",
     "text": [
      "+++ Start of data definitions +++\n",
      "\n",
      "y_all (just the labels/species)   are \n",
      " [1. 1. 1. 1. 1. 1. 1. 1. 1. 1. 1. 1. 1. 0. 1. 1. 1. 1. 1. 1. 0. 1. 1. 1.\n",
      " 1. 1. 1. 1. 1. 1. 1. 1. 1. 1. 1. 1. 1. 1. 1. 1. 0. 0. 0. 1. 0. 1. 1. 0.\n",
      " 0. 1. 1. 1. 1. 1. 0. 0. 0. 1. 1. 1. 1. 1. 0. 0. 0. 1. 1. 1. 1. 0. 0. 1.\n",
      " 1. 1. 1. 1. 0. 1. 1. 1. 1. 1. 1. 1. 0. 1. 1. 1. 1. 1. 1. 1. 1. 1. 1. 1.\n",
      " 1. 1. 1. 1. 1. 1. 1. 1. 1. 1. 1. 1. 1. 1. 1. 1. 1. 1. 1. 1. 1. 1. 1. 1.\n",
      " 1. 1. 1. 1. 1. 1. 1. 1. 1. 1. 1. 1. 1. 1. 1. 1. 1. 1. 1. 1. 0. 1. 1. 1.\n",
      " 1. 1. 1. 1. 1. 1. 1. 1. 1. 0. 0. 1. 1. 1. 1. 1. 0. 0. 0. 1. 1. 1. 1. 0.\n",
      " 0. 0. 1. 0. 1. 0. 0. 0. 0. 0. 0. 0. 0. 0. 0. 0. 0. 1. 1. 0. 0. 0. 0. 0.\n",
      " 0. 0. 0. 0. 0. 0. 0. 0. 0. 0. 0. 0. 0. 0. 0. 0. 0. 0. 0. 0. 0. 0. 0. 0.\n",
      " 0. 0. 0. 0. 0. 0. 0. 0. 0. 0. 0. 0. 0. 0. 0. 0. 0. 0. 0. 0. 0. 0. 0. 0.\n",
      " 0. 0. 0. 0. 0. 0. 0. 0. 0. 0. 0. 0. 0. 0. 0. 0. 0. 0. 0. 0. 0. 0. 0. 0.\n",
      " 0. 0. 0. 0. 0. 0. 0. 0. 0. 0. 0. 0. 0. 0. 0. 0. 0. 0. 0. 0. 0. 0. 0. 0.\n",
      " 0. 0. 0. 1. 0. 0. 0. 0. 1. 1. 1. 0. 0. 0. 0. 1. 1. 1. 1. 0. 0. 0. 1. 0.\n",
      " 1. 0. 0. 0. 0. 1. 0. 1. 0. 0. 0. 0. 0. 0. 1. 1. 1. 1. 1. 1. 1. 1. 1. 0.\n",
      " 0. 1. 1. 1. 1. 1. 0. 0. 0. 1. 0. 1. 0. 0. 0. 0. 0. 0. 0. 0. 1. 1. 1. 1.\n",
      " 1. 0. 0. 0. 0. 0.]\n",
      "X_all (just the features, first few rows) are \n",
      " [[1. 1.]\n",
      " [1. 2.]\n",
      " [1. 3.]\n",
      " [1. 4.]\n",
      " [1. 5.]]\n"
     ]
    }
   ],
   "source": [
    "print(\"+++ Start of data definitions +++\\n\")\n",
    "\n",
    "#\n",
    "# we could do this at the data-frame level, too!\n",
    "#\n",
    "\n",
    "X_all = A[:,0:2]  # X (features) ... is all rows, columns 0, 1, 2, 3\n",
    "y_all = A[:,2]    # y (labels) ... is all rows, column 4 only\n",
    "\n",
    "print(f\"y_all (just the labels/species)   are \\n {y_all}\")\n",
    "print(f\"X_all (just the features, first few rows) are \\n {X_all[0:5]}\")"
   ]
  },
  {
   "cell_type": "code",
   "execution_count": 55,
   "metadata": {},
   "outputs": [
    {
     "name": "stdout",
     "output_type": "stream",
     "text": [
      "The scrambled labels/species are \n",
      " [1. 0. 1. 1. 1. 0. 0. 1. 1. 1. 0. 1. 0. 0. 0. 1. 1. 1. 1. 1. 1. 0. 1. 1.\n",
      " 0. 0. 0. 0. 0. 1. 0. 0. 0. 0. 0. 1. 0. 1. 1. 0. 0. 0. 1. 1. 1. 1. 0. 0.\n",
      " 0. 0. 0. 1. 1. 0. 0. 0. 0. 1. 0. 0. 0. 1. 0. 1. 0. 0. 0. 1. 1. 1. 0. 1.\n",
      " 0. 0. 0. 0. 1. 1. 0. 1. 1. 1. 0. 1. 1. 1. 1. 0. 0. 1. 1. 0. 0. 0. 1. 1.\n",
      " 1. 0. 0. 0. 0. 0. 0. 0. 1. 0. 0. 1. 1. 1. 1. 0. 1. 0. 1. 1. 1. 0. 1. 0.\n",
      " 1. 1. 1. 1. 0. 0. 0. 0. 1. 1. 1. 0. 1. 0. 0. 0. 1. 0. 0. 0. 1. 1. 1. 0.\n",
      " 0. 1. 1. 0. 0. 1. 1. 1. 1. 0. 1. 0. 0. 1. 0. 0. 1. 0. 0. 0. 0. 0. 0. 1.\n",
      " 1. 1. 1. 1. 1. 0. 1. 0. 0. 0. 1. 1. 0. 1. 1. 1. 1. 0. 1. 0. 1. 1. 0. 1.\n",
      " 0. 0. 0. 1. 1. 1. 0. 1. 0. 0. 1. 0. 0. 0. 0. 0. 0. 0. 1. 1. 1. 1. 1. 0.\n",
      " 1. 1. 1. 0. 0. 0. 1. 1. 1. 0. 1. 1. 0. 1. 1. 0. 1. 1. 0. 1. 0. 1. 1. 0.\n",
      " 1. 0. 1. 1. 1. 0. 1. 1. 1. 1. 1. 0. 1. 0. 0. 0. 1. 0. 0. 0. 0. 0. 1. 0.\n",
      " 1. 0. 0. 0. 0. 1. 1. 0. 0. 1. 0. 0. 0. 1. 0. 0. 1. 0. 0. 0. 0. 1. 0. 1.\n",
      " 1. 0. 0. 1. 0. 1. 0. 1. 0. 1. 0. 0. 1. 0. 1. 0. 0. 1. 0. 1. 1. 1. 1. 0.\n",
      " 0. 1. 1. 1. 0. 1. 1. 0. 1. 1. 1. 1. 0. 0. 0. 1. 0. 1. 0. 0. 0. 1. 1. 0.\n",
      " 0. 1. 1. 1. 0. 0. 1. 0. 1. 0. 1. 1. 0. 0. 1. 1. 0. 1. 1. 0. 0. 1. 0. 0.\n",
      " 0. 1. 1. 0. 1. 0.]\n",
      "The corresponding data rows are \n",
      " [[ 5. 29.]\n",
      " [10. 10.]\n",
      " [ 1. 13.]\n",
      " [ 4. 29.]\n",
      " [ 5. 28.]]\n"
     ]
    }
   ],
   "source": [
    "#\n",
    "# we scramble the data, to remove (potential) dependence on its ordering: \n",
    "# \n",
    "indices = np.random.permutation(len(y_all))  # indices is a permutation-list\n",
    "\n",
    "# we scramble both X and y, necessarily with the same permutation\n",
    "X_permed = X_all[indices]              # we apply the _same_ permutation to each!\n",
    "y_permed = y_all[indices]              # again...\n",
    "print(f\"The scrambled labels/species are \\n {y_permed}\")\n",
    "print(f\"The corresponding data rows are \\n {X_permed[0:5]}\")"
   ]
  },
  {
   "cell_type": "code",
   "execution_count": 56,
   "metadata": {},
   "outputs": [
    {
     "name": "stdout",
     "output_type": "stream",
     "text": [
      "training with 292 rows;  testing with 74 rows\n",
      "\n",
      "Held-out data... (testing data: 74)\n",
      "y_test: [0. 0. 1. 1. 1. 1. 1. 0. 1. 0. 1. 0. 1. 0. 0. 0. 1. 0. 0. 0. 1. 0. 0. 0.\n",
      " 1. 1. 0. 0. 1. 1. 0. 1. 1. 1. 1. 1. 1. 1. 1. 0. 1. 1. 0. 0. 1. 0. 1. 0.\n",
      " 0. 1. 1. 1. 0. 1. 0. 1. 0. 1. 0. 1. 1. 1. 0. 0. 0. 0. 1. 0. 0. 0. 1. 0.\n",
      " 1. 1.]\n",
      "\n",
      "X_test (few rows): [[ 7. 25.]\n",
      " [12. 15.]\n",
      " [ 1. 31.]\n",
      " [ 5.  8.]\n",
      " [ 1.  9.]]\n",
      "\n",
      "Data used for modeling... (training data: 292)\n",
      "y_train: [0. 1. 0. 1. 1. 1. 0. 0. 1. 0. 1. 0. 0. 0. 1. 1. 1. 0. 0. 0. 1. 1. 1. 1.\n",
      " 0. 0. 0. 1. 1. 0. 0. 0. 1. 1. 0. 1. 0. 0. 1. 1. 0. 1. 1. 1. 1. 1. 0. 1.\n",
      " 0. 0. 1. 1. 1. 1. 0. 1. 0. 0. 0. 1. 0. 1. 0. 0. 1. 0. 1. 0. 0. 1. 0. 1.\n",
      " 1. 1. 0. 1. 0. 1. 0. 0. 0. 0. 1. 1. 1. 0. 1. 1. 0. 1. 1. 0. 0. 1. 0. 1.\n",
      " 0. 0. 1. 0. 1. 0. 0. 1. 0. 1. 1. 1. 0. 0. 1. 1. 1. 1. 0. 1. 0. 1. 0. 0.\n",
      " 0. 1. 1. 1. 0. 1. 1. 1. 1. 1. 1. 0. 1. 1. 0. 0. 0. 1. 1. 0. 1. 0. 1. 0.\n",
      " 1. 0. 1. 0. 0. 0. 1. 1. 0. 0. 0. 1. 0. 1. 1. 1. 1. 0. 0. 0. 1. 1. 0. 1.\n",
      " 0. 1. 0. 1. 0. 1. 0. 0. 1. 0. 0. 1. 1. 0. 1. 1. 1. 0. 1. 1. 1. 1. 0. 0.\n",
      " 1. 0. 0. 0. 0. 0. 0. 0. 1. 0. 0. 0. 0. 0. 0. 1. 1. 0. 0. 0. 0. 0. 1. 1.\n",
      " 0. 0. 0. 0. 1. 1. 1. 0. 0. 1. 1. 0. 0. 1. 1. 0. 0. 0. 0. 0. 0. 1. 0. 0.\n",
      " 0. 0. 1. 1. 0. 0. 1. 0. 1. 0. 0. 0. 0. 1. 0. 1. 0. 0. 1. 1. 0. 0. 1. 0.\n",
      " 0. 1. 1. 0. 1. 1. 0. 1. 1. 0. 0. 1. 1. 1. 1. 0. 0. 0. 1. 1. 0. 1. 1. 1.\n",
      " 0. 1. 0. 0.]\n",
      "\n",
      "X_train (few rows): [[ 9. 20.]\n",
      " [ 5. 30.]\n",
      " [11. 16.]\n",
      " [11.  8.]\n",
      " [12.  7.]]\n"
     ]
    }
   ],
   "source": [
    "#\n",
    "# We next separate into test data and training data ... \n",
    "#    + We will train on the training data...\n",
    "#    + We will _not_ look at the testing data to build the model\n",
    "#\n",
    "# Then, afterward, we will test on the testing data -- and see how well we do!\n",
    "#\n",
    "\n",
    "#\n",
    "# a common convention:  train on 80%, test on 20%    Let's define the TEST_PERCENT\n",
    "#\n",
    "\n",
    "from sklearn.model_selection import train_test_split\n",
    "\n",
    "X_train, X_test, y_train, y_test = train_test_split(X_permed, y_permed, test_size=0.2, random_state=42)\n",
    "\n",
    "print(f\"training with {len(y_train)} rows;  testing with {len(y_test)} rows\\n\" )\n",
    "\n",
    "print(f\"Held-out data... (testing data: {len(y_test)})\")\n",
    "print(f\"y_test: {y_test}\\n\")\n",
    "print(f\"X_test (few rows): {X_test[0:5,:]}\")  # 5 rows\n",
    "print()\n",
    "print(f\"Data used for modeling... (training data: {len(y_train)})\")\n",
    "print(f\"y_train: {y_train}\\n\")\n",
    "print(f\"X_train (few rows): {X_train[0:5,:]}\")  # 5 rows"
   ]
  },
  {
   "cell_type": "code",
   "execution_count": 57,
   "metadata": {},
   "outputs": [
    {
     "name": "stdout",
     "output_type": "stream",
     "text": [
      "Created and trained a DT classifier with max depth = 1\n"
     ]
    }
   ],
   "source": [
    "#\n",
    "# +++ This is the \"Model-building and Model-training Cell\"\n",
    "#       \n",
    "# Create a DT model and train it! \n",
    "#\n",
    "from sklearn import tree      # for decision trees\n",
    "\n",
    "best_depth = 1   # we don't know what depth to use, so let's guess 1\n",
    "dtree_model = tree.DecisionTreeClassifier(max_depth=best_depth)\n",
    "\n",
    "# Let's train the model.   It's this one line:\n",
    "dtree_model.fit(X_train, y_train)                              # yay!  trained!\n",
    "print(\"Created and trained a DT classifier with max depth =\", best_depth) "
   ]
  },
  {
   "cell_type": "code",
   "execution_count": 58,
   "metadata": {},
   "outputs": [
    {
     "name": "stdout",
     "output_type": "stream",
     "text": [
      "Predicted labels: [0. 0. 1. 1. 1. 1. 1. 0. 1. 0. 1. 0. 1. 0. 0. 0. 1. 0. 0. 0. 0. 0. 0. 0.\n",
      " 1. 1. 0. 0. 1. 1. 0. 0. 1. 0. 1. 0. 0. 1. 1. 0. 1. 1. 1. 0. 1. 0. 1. 0.\n",
      " 0. 1. 1. 0. 0. 1. 0. 0. 0. 1. 0. 0. 0. 0. 0. 0. 1. 0. 0. 0. 0. 0. 1. 0.\n",
      " 1. 1.]\n",
      "Actual  labels  : [0. 0. 1. 1. 1. 1. 1. 0. 1. 0. 1. 0. 1. 0. 0. 0. 1. 0. 0. 0. 1. 0. 0. 0.\n",
      " 1. 1. 0. 0. 1. 1. 0. 1. 1. 1. 1. 1. 1. 1. 1. 0. 1. 1. 0. 0. 1. 0. 1. 0.\n",
      " 0. 1. 1. 1. 0. 1. 0. 1. 0. 1. 0. 1. 1. 1. 0. 0. 0. 0. 1. 0. 0. 0. 1. 0.\n",
      " 1. 1.]\n",
      "\n",
      "Results on test set:  61 correct out of 74 total.\n"
     ]
    }
   ],
   "source": [
    "#\n",
    "# +++ This cell will \"Model-testing Cell\"\n",
    "#\n",
    "# Now, let's see how well our model does on our \"held-out data\" (the testing data)\n",
    "#\n",
    "\n",
    "# We run our test set:\n",
    "\n",
    "# the function knn_model.predict is the instantiation of our model\n",
    "# it's what runs the k-nearest-neighbors algorithm:\n",
    "predicted_labels = dtree_model.predict(X_test)   \n",
    "actual_labels = y_test\n",
    "\n",
    "# Let's print them so we can compare...\n",
    "print(\"Predicted labels:\", predicted_labels)\n",
    "print(\"Actual  labels  :\", actual_labels)\n",
    "\n",
    "# And, some overall results\n",
    "num_correct = sum(predicted_labels == actual_labels)\n",
    "total = len(actual_labels)\n",
    "print(f\"\\nResults on test set:  {num_correct} correct out of {total} total.\")"
   ]
  },
  {
   "cell_type": "code",
   "execution_count": 59,
   "metadata": {},
   "outputs": [
    {
     "name": "stdout",
     "output_type": "stream",
     "text": [
      "row   0 :        above above          \n",
      "row   1 :        above above          \n",
      "row   2 :        below below          \n",
      "row   3 :        below below          \n",
      "row   4 :        below below          \n",
      "row   5 :        below below          \n",
      "row   6 :        below below          \n",
      "row   7 :        above above          \n",
      "row   8 :        below below          \n",
      "row   9 :        above above          \n",
      "row  10 :        below below          \n",
      "row  11 :        above above          \n",
      "row  12 :        below below          \n",
      "row  13 :        above above          \n",
      "row  14 :        above above          \n",
      "row  15 :        above above          \n",
      "row  16 :        below below          \n",
      "row  17 :        above above          \n",
      "row  18 :        above above          \n",
      "row  19 :        above above          \n",
      "row  20 :        above below          incorrect\n",
      "row  21 :        above above          \n",
      "row  22 :        above above          \n",
      "row  23 :        above above          \n",
      "row  24 :        below below          \n",
      "row  25 :        below below          \n",
      "row  26 :        above above          \n",
      "row  27 :        above above          \n",
      "row  28 :        below below          \n",
      "row  29 :        below below          \n",
      "row  30 :        above above          \n",
      "row  31 :        above below          incorrect\n",
      "row  32 :        below below          \n",
      "row  33 :        above below          incorrect\n",
      "row  34 :        below below          \n",
      "row  35 :        above below          incorrect\n",
      "row  36 :        above below          incorrect\n",
      "row  37 :        below below          \n",
      "row  38 :        below below          \n",
      "row  39 :        above above          \n",
      "row  40 :        below below          \n",
      "row  41 :        below below          \n",
      "row  42 :        below above          incorrect\n",
      "row  43 :        above above          \n",
      "row  44 :        below below          \n",
      "row  45 :        above above          \n",
      "row  46 :        below below          \n",
      "row  47 :        above above          \n",
      "row  48 :        above above          \n",
      "row  49 :        below below          \n",
      "row  50 :        below below          \n",
      "row  51 :        above below          incorrect\n",
      "row  52 :        above above          \n",
      "row  53 :        below below          \n",
      "row  54 :        above above          \n",
      "row  55 :        above below          incorrect\n",
      "row  56 :        above above          \n",
      "row  57 :        below below          \n",
      "row  58 :        above above          \n",
      "row  59 :        above below          incorrect\n",
      "row  60 :        above below          incorrect\n",
      "row  61 :        above below          incorrect\n",
      "row  62 :        above above          \n",
      "row  63 :        above above          \n",
      "row  64 :        below above          incorrect\n",
      "row  65 :        above above          \n",
      "row  66 :        above below          incorrect\n",
      "row  67 :        above above          \n",
      "row  68 :        above above          \n",
      "row  69 :        above above          \n",
      "row  70 :        below below          \n",
      "row  71 :        above above          \n",
      "row  72 :        below below          \n",
      "row  73 :        below below          \n",
      "\n",
      "Correct: 61 out of 74\n"
     ]
    },
    {
     "data": {
      "text/plain": [
       "61"
      ]
     },
     "execution_count": 59,
     "metadata": {},
     "output_type": "execute_result"
    }
   ],
   "source": [
    "#\n",
    "# Let's print these more helpfully, in a vertical table\n",
    "#\n",
    "\n",
    "def compare_labels(predicted_labels, actual_labels):\n",
    "    \"\"\" a more neatly formatted comparison \"\"\"\n",
    "    NUM_LABELS = len(predicted_labels)\n",
    "    num_correct = 0\n",
    "    \n",
    "    for i in range(NUM_LABELS):\n",
    "        p = int(round(predicted_labels[i]))         # round protects from fp error \n",
    "        a = int(round(actual_labels[i]))\n",
    "        result = \"incorrect\"\n",
    "        if p == a:  # if they match,\n",
    "            result = \"\"       # no longer incorrect\n",
    "            num_correct += 1  # and we count a match!\n",
    "\n",
    "        print(f\"row {i:>3d} : {SPECIES[p]:>12s} {SPECIES[a]:<12s}   {result}\")   \n",
    "\n",
    "    print()\n",
    "    print(\"Correct:\", num_correct, \"out of\", NUM_LABELS)\n",
    "    return num_correct\n",
    "\n",
    "# let's try it out!\n",
    "compare_labels(predicted_labels,actual_labels)"
   ]
  },
  {
   "cell_type": "code",
   "execution_count": 60,
   "metadata": {},
   "outputs": [
    {
     "name": "stdout",
     "output_type": "stream",
     "text": [
      "|--- feature_0 <= 5.50\n",
      "|   |--- class: 1.0\n",
      "|--- feature_0 >  5.50\n",
      "|   |--- class: 0.0\n",
      "\n"
     ]
    }
   ],
   "source": [
    "#\n",
    "# first, let's use text :)\n",
    "#\n",
    "text_representation = tree.export_text(dtree_model)\n",
    "print(text_representation)"
   ]
  },
  {
   "cell_type": "code",
   "execution_count": 68,
   "metadata": {},
   "outputs": [
    {
     "name": "stdout",
     "output_type": "stream",
     "text": [
      "# file tree_data.gv written. Try pasting its contents to  http://viz-js.com/\n",
      "\n",
      "digraph Tree {\n",
      "node [shape=box, style=\"filled\", color=\"black\", fontname=\"helvetica\"] ;\n",
      "graph [ranksep=equally, splines=polyline] ;\n",
      "edge [fontname=\"helvetica\"] ;\n",
      "0 [label=\"month <= 5.5\\ngini = 0.499\\nsamples = 292\\nvalue = [151, 141]\\nclass = above\", fillcolor=\"#fdf7f2\"] ;\n",
      "1 [label=\"gini = 0.24\\nsamples = 122\\nvalue = [17, 105]\\nclass = below\", fillcolor=\"#59ade9\"] ;\n",
      "0 -> 1 [labeldistance=2.5, labelangle=45, headlabel=\"True\"] ;\n",
      "2 [label=\"gini = 0.334\\nsamples = 170\\nvalue = [134, 36]\\nclass = above\", fillcolor=\"#eca36e\"] ;\n",
      "0 -> 2 [labeldistance=2.5, labelangle=-45, headlabel=\"False\"] ;\n",
      "{rank=same ; 0} ;\n",
      "{rank=same ; 1; 2} ;\n",
      "}\n"
     ]
    }
   ],
   "source": [
    "#\n",
    "# Now, let's see the tree!\n",
    "#\n",
    "\n",
    "filename = 'tree_data.gv'    # sometimes .dot is used, instead of .gv\n",
    "\n",
    "tree.export_graphviz(dtree_model, out_file=filename,  # the filename constructed above...!\n",
    "                            feature_names=FEATURES,   # actual feature names, not species\n",
    "                            filled=True,              # fun!\n",
    "                            rotate=False,             # False for Up/Down; True for L/R\n",
    "                            class_names=SPECIES,      # Yay! we created this  \n",
    "                            leaves_parallel=True )    # lots of options!\n",
    "\n",
    "print(f\"# file {filename} written. Try pasting its contents to  http://viz-js.com/\")\n",
    "print()\n",
    "\n",
    "with open(filename, \"r\") as f:\n",
    "    all_file_text = f.read()\n",
    "    print(all_file_text)"
   ]
  },
  {
   "cell_type": "code",
   "execution_count": 69,
   "metadata": {},
   "outputs": [
    {
     "data": {
      "image/png": "[encoded data removed]",
      "text/plain": [
       "<Figure size 500x400 with 1 Axes>"
      ]
     },
     "metadata": {},
     "output_type": "display_data"
    }
   ],
   "source": [
    "#\n",
    "# Treeing!\n",
    "#\n",
    "import matplotlib.pyplot as plt \n",
    "\n",
    "fig = plt.figure(figsize=(5,4))              # Feel free to adjust this size...\n",
    "tree_plot = tree.plot_tree(dtree_model, \n",
    "                   feature_names=FEATURES,   # Glad to have these FEATURES...\n",
    "                   class_names=SPECIES,      # and these SPECIES...\n",
    "                   filled=True)"
   ]
  },
  {
   "cell_type": "code",
   "execution_count": 70,
   "metadata": {},
   "outputs": [
    {
     "name": "stdout",
     "output_type": "stream",
     "text": [
      "depth:  1  cv accuracy:  0.8189\n",
      "depth:  2  cv accuracy:  0.8189\n",
      "depth:  3  cv accuracy:  0.8396\n",
      "depth:  4  cv accuracy:  0.8051\n",
      "depth:  5  cv accuracy:  0.8186\n",
      "depth:  6  cv accuracy:  0.8220\n",
      "depth:  7  cv accuracy:  0.8154\n",
      "depth:  8  cv accuracy:  0.8119\n",
      "depth:  9  cv accuracy:  0.8358\n",
      "depth: 10  cv accuracy:  0.8222\n",
      "\n",
      "best_depth = 3 with acc: 0.8395675043834014 is our balance.\n",
      "\n",
      "Too deep and the tree will _overfit_ the training data.\n",
      "Too shallow and the tree will _underfit_ the training data.\n"
     ]
    }
   ],
   "source": [
    "#\n",
    "# To compare different tree-depths, we use cross validation\n",
    "#\n",
    "\n",
    "from sklearn.model_selection import cross_val_score\n",
    "\n",
    "#\n",
    "# cross-validation splits the training set into two pieces:\n",
    "#   + model-building and model-validation. We'll use \"build\" and \"validate\"\n",
    "#\n",
    "\n",
    "best_d = 1\n",
    "best_accuracy = 0.0\n",
    "\n",
    "for d in range(1,10+1):\n",
    "    cv_model = tree.DecisionTreeClassifier(max_depth=d)   # for each depth, d\n",
    "    cv_scores = cross_val_score( cv_model, X_train, y_train, cv=5 ) # 5 means 80/20 split\n",
    "    # print(cv_scores)  # we usually don't want to see the five individual scores \n",
    "    average_cv_accuracy = cv_scores.mean()  # more likely, only their average\n",
    "    print(f\"depth: {d:2d}  cv accuracy: {average_cv_accuracy:7.4f}\")\n",
    "    \n",
    "    if average_cv_accuracy > best_accuracy:\n",
    "        best_accuracy = average_cv_accuracy\n",
    "        best_d = d\n",
    "\n",
    "    \n",
    "    \n",
    "# assign best value of d to best_depth\n",
    "best_depth = best_d   # may have to hand-tune this, depending on what happens...\n",
    "print()\n",
    "print(f\"best_depth = {best_depth} with acc: {best_accuracy} is our balance.\")\n",
    "print()\n",
    "print(\"Too deep and the tree will _overfit_ the training data.\")\n",
    "print(\"Too shallow and the tree will _underfit_ the training data.\")"
   ]
  },
  {
   "cell_type": "code",
   "execution_count": 71,
   "metadata": {},
   "outputs": [
    {
     "name": "stdout",
     "output_type": "stream",
     "text": [
      "Created and trained a DT classifier with max depth = 3\n"
     ]
    }
   ],
   "source": [
    "#\n",
    "# Now, we re-create and re-run the  \"Model-building and -training Cell\"\n",
    "#\n",
    "# this time, with the best depth, best_d, found by cross-validation model tuning:\n",
    "#\n",
    "from sklearn import tree      # for decision trees\n",
    "\n",
    "# we should have best_depth from our cv exploration\n",
    "dtree_model_tuned = tree.DecisionTreeClassifier(max_depth=best_depth)\n",
    "\n",
    "# we train the model (it's one line!)\n",
    "dtree_model_tuned.fit(X_train, y_train)                              # yay!  trained!\n",
    "print(\"Created and trained a DT classifier with max depth =\", best_depth) "
   ]
  },
  {
   "cell_type": "code",
   "execution_count": 72,
   "metadata": {},
   "outputs": [
    {
     "data": {
      "image/png": "[encoded data removed]",
      "text/plain": [
       "<Figure size 900x600 with 1 Axes>"
      ]
     },
     "metadata": {},
     "output_type": "display_data"
    }
   ],
   "source": [
    "#\n",
    "# Now, let's see the tree!\n",
    "#\n",
    "\n",
    "filename = 'tree_data.gv'    # sometimes .dot is used, instead of .gv\n",
    "\n",
    "tree.export_graphviz(dtree_model_tuned, out_file=filename,  # the filename constructed above...!\n",
    "                            feature_names=FEATURES, # actual feature names, not species\n",
    "                            filled=True,              # fun!\n",
    "                            rotate=False,             # False for Up/Down; True for L/R\n",
    "                            class_names=SPECIES,      # good to have   \n",
    "                            leaves_parallel=True )    # lots of options!\n",
    "\n",
    "# Use this line to print the tree to the console in the dot language:\n",
    "# print(f\"file {filename} written. Try pasting its contents to  http://viz-js.com/\")\n",
    "\n",
    "# with open(filename, \"r\") as f:    # here, it will print to a file:\n",
    "#     all_file_text = f.read()\n",
    "#     print(all_file_text)\n",
    "\n",
    "#\n",
    "# Treeing using matplotlib:\n",
    "#\n",
    "fig = plt.figure(figsize=(9,6))\n",
    "tree_plot = tree.plot_tree(dtree_model_tuned, \n",
    "                   feature_names=FEATURES,   # Glad to have these!\n",
    "                   class_names=SPECIES,      # and these!!\n",
    "                   filled=True,\n",
    "                   rounded=True,\n",
    "                   fontsize=8)"
   ]
  },
  {
   "cell_type": "code",
   "execution_count": 73,
   "metadata": {},
   "outputs": [
    {
     "name": "stdout",
     "output_type": "stream",
     "text": [
      "Predicted labels: [0. 0. 1. 1. 1. 1. 1. 0. 1. 0. 1. 0. 1. 0. 0. 0. 1. 0. 0. 0. 1. 0. 0. 0.\n",
      " 1. 1. 0. 0. 1. 1. 0. 0. 1. 0. 1. 0. 0. 1. 1. 0. 1. 1. 1. 0. 1. 0. 1. 0.\n",
      " 0. 1. 1. 0. 0. 1. 0. 0. 0. 1. 0. 1. 1. 0. 0. 0. 1. 0. 0. 0. 0. 0. 1. 0.\n",
      " 1. 1.]\n",
      "Actual labels: [0. 0. 1. 1. 1. 1. 1. 0. 1. 0. 1. 0. 1. 0. 0. 0. 1. 0. 0. 0. 1. 0. 0. 0.\n",
      " 1. 1. 0. 0. 1. 1. 0. 1. 1. 1. 1. 1. 1. 1. 1. 0. 1. 1. 0. 0. 1. 0. 1. 0.\n",
      " 0. 1. 1. 1. 0. 1. 0. 1. 0. 1. 0. 1. 1. 1. 0. 0. 0. 0. 1. 0. 0. 0. 1. 0.\n",
      " 1. 1.]\n",
      "\n",
      "row   0 :        above above          \n",
      "row   1 :        above above          \n",
      "row   2 :        below below          \n",
      "row   3 :        below below          \n",
      "row   4 :        below below          \n",
      "row   5 :        below below          \n",
      "row   6 :        below below          \n",
      "row   7 :        above above          \n",
      "row   8 :        below below          \n",
      "row   9 :        above above          \n",
      "row  10 :        below below          \n",
      "row  11 :        above above          \n",
      "row  12 :        below below          \n",
      "row  13 :        above above          \n",
      "row  14 :        above above          \n",
      "row  15 :        above above          \n",
      "row  16 :        below below          \n",
      "row  17 :        above above          \n",
      "row  18 :        above above          \n",
      "row  19 :        above above          \n",
      "row  20 :        below below          \n",
      "row  21 :        above above          \n",
      "row  22 :        above above          \n",
      "row  23 :        above above          \n",
      "row  24 :        below below          \n",
      "row  25 :        below below          \n",
      "row  26 :        above above          \n",
      "row  27 :        above above          \n",
      "row  28 :        below below          \n",
      "row  29 :        below below          \n",
      "row  30 :        above above          \n",
      "row  31 :        above below          incorrect\n",
      "row  32 :        below below          \n",
      "row  33 :        above below          incorrect\n",
      "row  34 :        below below          \n",
      "row  35 :        above below          incorrect\n",
      "row  36 :        above below          incorrect\n",
      "row  37 :        below below          \n",
      "row  38 :        below below          \n",
      "row  39 :        above above          \n",
      "row  40 :        below below          \n",
      "row  41 :        below below          \n",
      "row  42 :        below above          incorrect\n",
      "row  43 :        above above          \n",
      "row  44 :        below below          \n",
      "row  45 :        above above          \n",
      "row  46 :        below below          \n",
      "row  47 :        above above          \n",
      "row  48 :        above above          \n",
      "row  49 :        below below          \n",
      "row  50 :        below below          \n",
      "row  51 :        above below          incorrect\n",
      "row  52 :        above above          \n",
      "row  53 :        below below          \n",
      "row  54 :        above above          \n",
      "row  55 :        above below          incorrect\n",
      "row  56 :        above above          \n",
      "row  57 :        below below          \n",
      "row  58 :        above above          \n",
      "row  59 :        below below          \n",
      "row  60 :        below below          \n",
      "row  61 :        above below          incorrect\n",
      "row  62 :        above above          \n",
      "row  63 :        above above          \n",
      "row  64 :        below above          incorrect\n",
      "row  65 :        above above          \n",
      "row  66 :        above below          incorrect\n",
      "row  67 :        above above          \n",
      "row  68 :        above above          \n",
      "row  69 :        above above          \n",
      "row  70 :        below below          \n",
      "row  71 :        above above          \n",
      "row  72 :        below below          \n",
      "row  73 :        below below          \n",
      "\n",
      "Correct: 64 out of 74\n"
     ]
    },
    {
     "data": {
      "text/plain": [
       "64"
      ]
     },
     "execution_count": 73,
     "metadata": {},
     "output_type": "execute_result"
    }
   ],
   "source": [
    "#\n",
    "# Re-create and re-run the  \"Model-testing Cell\"     How does it do with best_k?!\n",
    "#\n",
    "predicted_labels = dtree_model_tuned.predict(X_test)\n",
    "actual_labels = y_test\n",
    "\n",
    "# Let's print them so we can compare...\n",
    "print(\"Predicted labels:\", predicted_labels)\n",
    "print(\"Actual labels:\", actual_labels)\n",
    "print()\n",
    "\n",
    "# and, we'll print our nicer table...\n",
    "compare_labels(predicted_labels,actual_labels)"
   ]
  },
  {
   "cell_type": "code",
   "execution_count": 83,
   "metadata": {},
   "outputs": [
    {
     "name": "stdout",
     "output_type": "stream",
     "text": [
      "I predict above from the features [10, 4.2]\n",
      "I predict below from the features [1.5, 1.5]\n",
      "I predict below from the features [2, -1]\n",
      "I predict below from the features [-10, 0]\n",
      "I predict below from the features [0, 0]\n",
      "I predict below from the features [2, 32]\n",
      "I predict above from the features [9.2, 6.5]\n",
      "I predict below from the features [3.14159, 2.71828]\n",
      "I predict below from the features [42, 42]\n"
     ]
    }
   ],
   "source": [
    "#\n",
    "# final predictive model (decision trees), with tuned parameters + ALL data incorporated\n",
    "#\n",
    "\n",
    "def predictive_model( Features, Model ):\n",
    "    \"\"\" input: a list of four features \n",
    "                [ sepallen, sepalwid, petallen, petalwid ]\n",
    "        output: the predicted species of iris, from\n",
    "                  setosa (0), versicolor (1), virginica (2)\n",
    "    \"\"\"\n",
    "    our_features = np.asarray([Features])                 # extra brackets needed\n",
    "    predicted_species = Model.predict(our_features)       # The model's prediction!\n",
    "    predicted_species = int(round(predicted_species[0]))  # unpack the extra brackets\n",
    "    return predicted_species\n",
    "   \n",
    "#\n",
    "# Try it!\n",
    "# \n",
    "# Features = eval(input(\"Enter new Features: \"))\n",
    "#\n",
    "# Features = [6.7,3.3,5.7,0.1]  # [5.8,2.7,4.1,1.0] [4.6,3.6,3.0,2.2] [6.7,3.3,5.7,2.1]\n",
    "\n",
    "LoF = [[10,4.2],\n",
    "[1.5,1.5],\n",
    "[2,-1],\n",
    "[-10,0],\n",
    "[0,0],\n",
    "[2,32],\n",
    "[9.2,6.5],\n",
    "[3.14159,2.71828],\n",
    "[42,42]]\n",
    "\n",
    "\n",
    "# run on each one:\n",
    "for Features in LoF:\n",
    "    predicted_species = predictive_model( Features, dtree_model_final )  # pass in the model, too!\n",
    "    name = SPECIES[predicted_species]\n",
    "    print(f\"I predict {name} from the features {Features}\")    # Answers in the assignment..."
   ]
  },
  {
   "cell_type": "code",
   "execution_count": 74,
   "metadata": {},
   "outputs": [
    {
     "name": "stdout",
     "output_type": "stream",
     "text": [
      "[0.96239145 0.03760855]\n",
      "\n",
      "Feature        month has   96.24% of the decision-making importance.\n",
      "Feature          day has    3.76% of the decision-making importance.\n"
     ]
    }
   ],
   "source": [
    "print(dtree_model_tuned.feature_importances_)\n",
    "print()\n",
    "\n",
    "# let's see them with each feature name:\n",
    "IMPs = dtree_model_tuned.feature_importances_\n",
    "\n",
    "# enumerate is great when you want indices _and_ elements!\n",
    "for i, importance in enumerate(IMPs):\n",
    "    perc = importance*100\n",
    "    print(f\"Feature {COLUMNS[i]:>12s} has {perc:>7.2f}% of the decision-making importance.\")"
   ]
  },
  {
   "cell_type": "markdown",
   "metadata": {},
   "source": [
    "I think this is peculiar, but expected. Since every birthday in a month likely follows the same trend, it is best to use the month as a deciding factor than the date."
   ]
  },
  {
   "cell_type": "code",
   "execution_count": 75,
   "metadata": {},
   "outputs": [
    {
     "name": "stdout",
     "output_type": "stream",
     "text": [
      "Created and trained a 'final' DT classifier with max depth = 3\n"
     ]
    }
   ],
   "source": [
    "#\n",
    "# Ok!  We have tuned our DT to use the \"best\" depth...\n",
    "#\n",
    "# Now, we use ALL available data to train our final predictive model:\n",
    "#\n",
    "\n",
    "from sklearn import tree      # for decision trees\n",
    "\n",
    "# we should have best_depth from our cv exploration\n",
    "dtree_model_final = tree.DecisionTreeClassifier(max_depth=best_depth)\n",
    "\n",
    "# we train the model (it's one line!)\n",
    "dtree_model_final.fit(X_all, y_all)                              # yay!  trained!\n",
    "print(\"Created and trained a 'final' DT classifier with max depth =\", best_depth) "
   ]
  },
  {
   "cell_type": "markdown",
   "metadata": {},
   "source": [
    "## Then: &nbsp; _Random Forests_"
   ]
  },
  {
   "cell_type": "code",
   "execution_count": null,
   "metadata": {},
   "outputs": [],
   "source": [
    "#\n",
    "# Here, use this week's iris-modeler to create, cross-validate, and model\n",
    "#       bday popularity using Random Forests\n",
    "#\n",
    "\n",
    "# Be sure to cross-validate on the TWO parameters: depth and number-of-estimators\n",
    "#    (the number-of-estimators is the number of trees used)"
   ]
  },
  {
   "cell_type": "code",
   "execution_count": 76,
   "metadata": {},
   "outputs": [
    {
     "name": "stdout",
     "output_type": "stream",
     "text": [
      "Built an RF with depth=1 and number of trees=42\n"
     ]
    }
   ],
   "source": [
    "#\n",
    "# +++ We're back at the \"Model-building and Model-training Cell\"\n",
    "#       \n",
    "# Create a RF model and train it! \n",
    "#\n",
    "from sklearn import tree      # for decision trees\n",
    "from sklearn import ensemble  # for random forests, an ensemble classifier\n",
    "\n",
    "best_d = 1            # we don't know what depth to use, so we guess...\n",
    "best_num_trees = 42   # again, we guess\n",
    "rforest_model = ensemble.RandomForestClassifier(max_depth=best_d, \n",
    "                                                n_estimators=best_num_trees,\n",
    "                                                max_samples=0.5)  \n",
    "# This max_samples=0.5 is the fraction of rows to use for each DT \n",
    "# For all of our forests, we will let max_samples be 0.5   \n",
    "\n",
    "# We'll explore best_d and best_num_trees...\n",
    "\n",
    "# we train the model (again, one line):\n",
    "rforest_model.fit(X_train, y_train)                              # yay!  trained!\n",
    "print(f\"Built an RF with depth={best_d} and number of trees={best_num_trees}\")  "
   ]
  },
  {
   "cell_type": "code",
   "execution_count": 77,
   "metadata": {},
   "outputs": [
    {
     "name": "stdout",
     "output_type": "stream",
     "text": [
      "Predicted labels: [0. 0. 1. 1. 1. 1. 1. 0. 1. 0. 1. 0. 1. 0. 0. 0. 1. 0. 0. 0. 0. 0. 0. 0.\n",
      " 1. 1. 0. 0. 1. 1. 0. 0. 1. 0. 1. 0. 0. 1. 1. 0. 1. 1. 1. 0. 1. 0. 1. 0.\n",
      " 0. 1. 1. 0. 0. 1. 0. 0. 0. 1. 0. 0. 0. 0. 0. 0. 1. 0. 0. 0. 0. 0. 1. 0.\n",
      " 1. 1.]\n",
      "Actual  labels  : [0. 0. 1. 1. 1. 1. 1. 0. 1. 0. 1. 0. 1. 0. 0. 0. 1. 0. 0. 0. 1. 0. 0. 0.\n",
      " 1. 1. 0. 0. 1. 1. 0. 1. 1. 1. 1. 1. 1. 1. 1. 0. 1. 1. 0. 0. 1. 0. 1. 0.\n",
      " 0. 1. 1. 1. 0. 1. 0. 1. 0. 1. 0. 1. 1. 1. 0. 0. 0. 0. 1. 0. 0. 0. 1. 0.\n",
      " 1. 1.]\n",
      "\n",
      "Results on test set:  61 correct out of 74 total.\n",
      "row   0 :        above above          \n",
      "row   1 :        above above          \n",
      "row   2 :        below below          \n",
      "row   3 :        below below          \n",
      "row   4 :        below below          \n",
      "row   5 :        below below          \n",
      "row   6 :        below below          \n",
      "row   7 :        above above          \n",
      "row   8 :        below below          \n",
      "row   9 :        above above          \n",
      "row  10 :        below below          \n",
      "row  11 :        above above          \n",
      "row  12 :        below below          \n",
      "row  13 :        above above          \n",
      "row  14 :        above above          \n",
      "row  15 :        above above          \n",
      "row  16 :        below below          \n",
      "row  17 :        above above          \n",
      "row  18 :        above above          \n",
      "row  19 :        above above          \n",
      "row  20 :        above below          incorrect\n",
      "row  21 :        above above          \n",
      "row  22 :        above above          \n",
      "row  23 :        above above          \n",
      "row  24 :        below below          \n",
      "row  25 :        below below          \n",
      "row  26 :        above above          \n",
      "row  27 :        above above          \n",
      "row  28 :        below below          \n",
      "row  29 :        below below          \n",
      "row  30 :        above above          \n",
      "row  31 :        above below          incorrect\n",
      "row  32 :        below below          \n",
      "row  33 :        above below          incorrect\n",
      "row  34 :        below below          \n",
      "row  35 :        above below          incorrect\n",
      "row  36 :        above below          incorrect\n",
      "row  37 :        below below          \n",
      "row  38 :        below below          \n",
      "row  39 :        above above          \n",
      "row  40 :        below below          \n",
      "row  41 :        below below          \n",
      "row  42 :        below above          incorrect\n",
      "row  43 :        above above          \n",
      "row  44 :        below below          \n",
      "row  45 :        above above          \n",
      "row  46 :        below below          \n",
      "row  47 :        above above          \n",
      "row  48 :        above above          \n",
      "row  49 :        below below          \n",
      "row  50 :        below below          \n",
      "row  51 :        above below          incorrect\n",
      "row  52 :        above above          \n",
      "row  53 :        below below          \n",
      "row  54 :        above above          \n",
      "row  55 :        above below          incorrect\n",
      "row  56 :        above above          \n",
      "row  57 :        below below          \n",
      "row  58 :        above above          \n",
      "row  59 :        above below          incorrect\n",
      "row  60 :        above below          incorrect\n",
      "row  61 :        above below          incorrect\n",
      "row  62 :        above above          \n",
      "row  63 :        above above          \n",
      "row  64 :        below above          incorrect\n",
      "row  65 :        above above          \n",
      "row  66 :        above below          incorrect\n",
      "row  67 :        above above          \n",
      "row  68 :        above above          \n",
      "row  69 :        above above          \n",
      "row  70 :        below below          \n",
      "row  71 :        above above          \n",
      "row  72 :        below below          \n",
      "row  73 :        below below          \n",
      "\n",
      "Correct: 61 out of 74\n"
     ]
    },
    {
     "data": {
      "text/plain": [
       "61"
      ]
     },
     "execution_count": 77,
     "metadata": {},
     "output_type": "execute_result"
    }
   ],
   "source": [
    "#\n",
    "# +++ This is the \"Model-testing Cell\"\n",
    "#\n",
    "# Now, let's see how well we did on our \"held-out data\" (the testing data)\n",
    "#\n",
    "\n",
    "# We run our test set!\n",
    "predicted_labels = rforest_model.predict(X_test)\n",
    "actual_labels = y_test\n",
    "\n",
    "# Let's print them so we can compare...\n",
    "print(\"Predicted labels:\", predicted_labels)\n",
    "print(\"Actual  labels  :\", actual_labels)\n",
    "\n",
    "# And, some overall results\n",
    "num_correct = sum(predicted_labels == actual_labels)\n",
    "total = len(actual_labels)\n",
    "print(f\"\\nResults on test set:  {num_correct} correct out of {total} total.\")\n",
    "\n",
    "# and, let's print our table, too...\n",
    "compare_labels(predicted_labels,actual_labels)"
   ]
  },
  {
   "cell_type": "code",
   "execution_count": 78,
   "metadata": {},
   "outputs": [
    {
     "name": "stdout",
     "output_type": "stream",
     "text": [
      "One of the forest's trees is DecisionTreeClassifier(max_depth=1, max_features='sqrt', random_state=374023197)\n",
      "file rf_tree_028.gv written. Try copying the result to http://viz-js.com/ \n",
      "\n",
      "digraph Tree {\n",
      "node [shape=box, style=\"filled\", color=\"black\", fontname=\"helvetica\"] ;\n",
      "graph [ranksep=equally, splines=polyline] ;\n",
      "edge [fontname=\"helvetica\"] ;\n",
      "0 [label=\"month <= 5.5\\ngini = 0.5\\nsamples = 115\\nvalue = [74, 72]\\nclass = above\", fillcolor=\"#fefcfa\"] ;\n",
      "1 [label=\"gini = 0.153\\nsamples = 45\\nvalue = [5, 55]\\nclass = below\", fillcolor=\"#4ba6e7\"] ;\n",
      "0 -> 1 [labeldistance=2.5, labelangle=45, headlabel=\"True\"] ;\n",
      "2 [label=\"gini = 0.317\\nsamples = 70\\nvalue = [69, 17]\\nclass = above\", fillcolor=\"#eba06a\"] ;\n",
      "0 -> 2 [labeldistance=2.5, labelangle=-45, headlabel=\"False\"] ;\n",
      "{rank=same ; 0} ;\n",
      "{rank=same ; 1; 2} ;\n",
      "}\n"
     ]
    },
    {
     "data": {
      "image/png": "[encoded data removed]",
      "text/plain": [
       "<Figure size 500x400 with 1 Axes>"
      ]
     },
     "metadata": {},
     "output_type": "display_data"
    }
   ],
   "source": [
    "#\n",
    "# we can get the individual trees, if we want...\n",
    "#\n",
    "tree_index = 28   # which tree\n",
    "one_rf_tree = rforest_model.estimators_[tree_index]\n",
    "print(f\"One of the forest's trees is {one_rf_tree}\")\n",
    "\n",
    "# From there, it's possible to create a graphical version...\n",
    "filename = f'rf_tree_{tree_index:03d}.gv'             # f strings! Could save all trees, but we won't do so here. \n",
    "tree.export_graphviz(one_rf_tree, out_file=filename,  # the filename constructed above...!\n",
    "                            feature_names=FEATURES, # actual feature names, not species\n",
    "                            filled=True,              # fun!\n",
    "                            rotate=False,             # False for Up/Down; True for L/R\n",
    "                            class_names=SPECIES,      # good to have   \n",
    "                            leaves_parallel=True )    # lots of options!\n",
    "                            \n",
    "print(f\"file {filename} written. Try copying the result to http://viz-js.com/ \\n\")\n",
    "\n",
    "with open(filename, \"r\") as f:\n",
    "    file_text = f.read()\n",
    "    print(file_text)\n",
    "\n",
    "#\n",
    "# Treeing!\n",
    "#\n",
    "fig = plt.figure(figsize=(5,4))\n",
    "tree_plot = tree.plot_tree(one_rf_tree, \n",
    "                   feature_names=FEATURES,   # Glad to have these!\n",
    "                   class_names=SPECIES,      # and these!!\n",
    "                   filled=True)"
   ]
  },
  {
   "cell_type": "code",
   "execution_count": 79,
   "metadata": {},
   "outputs": [
    {
     "name": "stdout",
     "output_type": "stream",
     "text": [
      "depth:  1 ntrees:  50 cv accuracy:  0.8189\n",
      "depth:  1 ntrees: 150 cv accuracy:  0.8189\n",
      "depth:  1 ntrees: 250 cv accuracy:  0.8189\n",
      "depth:  2 ntrees:  50 cv accuracy:  0.8155\n",
      "depth:  2 ntrees: 150 cv accuracy:  0.8155\n",
      "depth:  2 ntrees: 250 cv accuracy:  0.8155\n",
      "depth:  3 ntrees:  50 cv accuracy:  0.8086\n",
      "depth:  3 ntrees: 150 cv accuracy:  0.8121\n",
      "depth:  3 ntrees: 250 cv accuracy:  0.8121\n",
      "depth:  4 ntrees:  50 cv accuracy:  0.8122\n",
      "depth:  4 ntrees: 150 cv accuracy:  0.8191\n",
      "depth:  4 ntrees: 250 cv accuracy:  0.8190\n",
      "depth:  5 ntrees:  50 cv accuracy:  0.8361\n",
      "depth:  5 ntrees: 150 cv accuracy:  0.8361\n",
      "depth:  5 ntrees: 250 cv accuracy:  0.8156\n",
      "\n",
      "best_depth: 5 and best_num_trees: 50 are our choices. Acc: 0.8360607831677381\n"
     ]
    }
   ],
   "source": [
    "#\n",
    "# So, to compare different parameters, let's use cv\n",
    "#\n",
    "\n",
    "from sklearn.model_selection import cross_val_score\n",
    "\n",
    "#\n",
    "# cross-validation splits the training set into two pieces:\n",
    "#   + model-building and model-validation. We'll use \"build\" and \"validate\"\n",
    "#\n",
    "\n",
    "#\n",
    "# lab task:  wrap this loop in another one! (or create an inner one...)\n",
    "#\n",
    "\n",
    "best_d = 1         # range(1,6)\n",
    "best_ntrees = 50   # [50,150,250]\n",
    "best_accuracy = 0\n",
    "\n",
    "for d in range(1,6):\n",
    "    for ntrees in [50,150,250]:\n",
    "        rforest_model = ensemble.RandomForestClassifier(max_depth=d, \n",
    "                                                        n_estimators=ntrees,\n",
    "                                                        max_samples=0.5)\n",
    "        cv_scores = cross_val_score( rforest_model, X_train, y_train, cv=5 ) # 5 means 80/20 split\n",
    "        average_cv_accuracy = cv_scores.mean()  # more likely, only their average\n",
    "        print(f\"depth: {d:2d} ntrees: {ntrees:3d} cv accuracy: {average_cv_accuracy:7.4f}\")\n",
    "        if average_cv_accuracy > best_accuracy:\n",
    "            best_accuracy = average_cv_accuracy\n",
    "            best_d = d\n",
    "            best_ntrees = ntrees\n",
    "\n",
    "# \n",
    "# your task: assign best values by keeping a \"running max\"\n",
    "#\n",
    "best_depth = best_d   \n",
    "best_num_trees = best_ntrees\n",
    "\n",
    "# This will be incorrect when initially run (you'll fix it):\n",
    "print()\n",
    "print(f\"best_depth: {best_depth} and best_num_trees: {best_num_trees} are our choices. Acc: {best_accuracy}\")  \n",
    "\n",
    "#\n",
    "# remember that the RF lab task is to complete this nested cross-validation loop!\n",
    "#"
   ]
  },
  {
   "cell_type": "code",
   "execution_count": 80,
   "metadata": {},
   "outputs": [
    {
     "name": "stdout",
     "output_type": "stream",
     "text": [
      "Built an RF classifier with depth=5 and ntrees=50\n"
     ]
    }
   ],
   "source": [
    "#\n",
    "# Now, we re-create and re-run the  \"Model-building and -training Cell\"\n",
    "#\n",
    "from sklearn import tree      # for decision trees\n",
    "from sklearn import ensemble  # for random forests\n",
    "best_depth =  best_depth\n",
    "best_num_trees = best_num_trees\n",
    "# we should have best_depth and best_num_trees\n",
    "rforest_model_tuned = ensemble.RandomForestClassifier(max_depth=best_depth, \n",
    "                                                      n_estimators=best_num_trees,\n",
    "                                                      max_samples=0.5)\n",
    "\n",
    "# we train the model (it's one line!)\n",
    "rforest_model_tuned.fit(X_train, y_train)                              # yay!  trained!\n",
    "print(f\"Built an RF classifier with depth={best_depth} and ntrees={best_num_trees}\") "
   ]
  },
  {
   "cell_type": "code",
   "execution_count": 81,
   "metadata": {},
   "outputs": [
    {
     "name": "stdout",
     "output_type": "stream",
     "text": [
      "Predicted labels: [0. 0. 1. 1. 1. 1. 1. 0. 1. 0. 1. 0. 1. 0. 0. 0. 1. 0. 0. 0. 1. 0. 0. 0.\n",
      " 1. 1. 0. 0. 1. 1. 0. 0. 1. 0. 1. 1. 0. 1. 1. 0. 1. 1. 1. 0. 1. 0. 1. 0.\n",
      " 0. 1. 1. 0. 0. 1. 0. 0. 0. 1. 1. 1. 1. 0. 0. 0. 1. 0. 0. 0. 0. 0. 1. 0.\n",
      " 1. 1.]\n",
      "Actual  labels  : [0. 0. 1. 1. 1. 1. 1. 0. 1. 0. 1. 0. 1. 0. 0. 0. 1. 0. 0. 0. 1. 0. 0. 0.\n",
      " 1. 1. 0. 0. 1. 1. 0. 1. 1. 1. 1. 1. 1. 1. 1. 0. 1. 1. 0. 0. 1. 0. 1. 0.\n",
      " 0. 1. 1. 1. 0. 1. 0. 1. 0. 1. 0. 1. 1. 1. 0. 0. 0. 0. 1. 0. 0. 0. 1. 0.\n",
      " 1. 1.]\n",
      "\n",
      "Results on test set:  64 correct out of 74 total.\n",
      "row   0 :        above above          \n",
      "row   1 :        above above          \n",
      "row   2 :        below below          \n",
      "row   3 :        below below          \n",
      "row   4 :        below below          \n",
      "row   5 :        below below          \n",
      "row   6 :        below below          \n",
      "row   7 :        above above          \n",
      "row   8 :        below below          \n",
      "row   9 :        above above          \n",
      "row  10 :        below below          \n",
      "row  11 :        above above          \n",
      "row  12 :        below below          \n",
      "row  13 :        above above          \n",
      "row  14 :        above above          \n",
      "row  15 :        above above          \n",
      "row  16 :        below below          \n",
      "row  17 :        above above          \n",
      "row  18 :        above above          \n",
      "row  19 :        above above          \n",
      "row  20 :        below below          \n",
      "row  21 :        above above          \n",
      "row  22 :        above above          \n",
      "row  23 :        above above          \n",
      "row  24 :        below below          \n",
      "row  25 :        below below          \n",
      "row  26 :        above above          \n",
      "row  27 :        above above          \n",
      "row  28 :        below below          \n",
      "row  29 :        below below          \n",
      "row  30 :        above above          \n",
      "row  31 :        above below          incorrect\n",
      "row  32 :        below below          \n",
      "row  33 :        above below          incorrect\n",
      "row  34 :        below below          \n",
      "row  35 :        below below          \n",
      "row  36 :        above below          incorrect\n",
      "row  37 :        below below          \n",
      "row  38 :        below below          \n",
      "row  39 :        above above          \n",
      "row  40 :        below below          \n",
      "row  41 :        below below          \n",
      "row  42 :        below above          incorrect\n",
      "row  43 :        above above          \n",
      "row  44 :        below below          \n",
      "row  45 :        above above          \n",
      "row  46 :        below below          \n",
      "row  47 :        above above          \n",
      "row  48 :        above above          \n",
      "row  49 :        below below          \n",
      "row  50 :        below below          \n",
      "row  51 :        above below          incorrect\n",
      "row  52 :        above above          \n",
      "row  53 :        below below          \n",
      "row  54 :        above above          \n",
      "row  55 :        above below          incorrect\n",
      "row  56 :        above above          \n",
      "row  57 :        below below          \n",
      "row  58 :        below above          incorrect\n",
      "row  59 :        below below          \n",
      "row  60 :        below below          \n",
      "row  61 :        above below          incorrect\n",
      "row  62 :        above above          \n",
      "row  63 :        above above          \n",
      "row  64 :        below above          incorrect\n",
      "row  65 :        above above          \n",
      "row  66 :        above below          incorrect\n",
      "row  67 :        above above          \n",
      "row  68 :        above above          \n",
      "row  69 :        above above          \n",
      "row  70 :        below below          \n",
      "row  71 :        above above          \n",
      "row  72 :        below below          \n",
      "row  73 :        below below          \n",
      "\n",
      "Correct: 64 out of 74\n"
     ]
    },
    {
     "data": {
      "text/plain": [
       "64"
      ]
     },
     "execution_count": 81,
     "metadata": {},
     "output_type": "execute_result"
    }
   ],
   "source": [
    "#\n",
    "# +++ This is our \"Model-testing Cell\"\n",
    "#\n",
    "# Now, let's see how well we did on our \"held-out data\" (the testing data)\n",
    "#\n",
    "\n",
    "# We run our test set!\n",
    "predicted_labels = rforest_model_tuned.predict(X_test)\n",
    "actual_labels = y_test\n",
    "\n",
    "# Let's print them so we can compare...\n",
    "print(\"Predicted labels:\", predicted_labels)\n",
    "print(\"Actual  labels  :\", actual_labels)\n",
    "\n",
    "# And, some overall results\n",
    "num_correct = sum(predicted_labels == actual_labels)\n",
    "total = len(actual_labels)\n",
    "print(f\"\\nResults on test set:  {num_correct} correct out of {total} total.\")\n",
    "\n",
    "# and, let's print our table, too...\n",
    "compare_labels(predicted_labels,actual_labels)"
   ]
  },
  {
   "cell_type": "code",
   "execution_count": 82,
   "metadata": {},
   "outputs": [
    {
     "name": "stdout",
     "output_type": "stream",
     "text": [
      "Built an RF classifier with depth=5 and ntrees=50\n"
     ]
    }
   ],
   "source": [
    "#\n",
    "# Ok!  We have tuned our RF to use the \"best\" parameters\n",
    "#\n",
    "# Now, we use ALL available data to train our final predictive model:\n",
    "#\n",
    "from sklearn import tree      # for decision trees\n",
    "from sklearn import ensemble  # for random forests\n",
    "\n",
    "# we should have best_depth and best_num_trees\n",
    "rforest_model_final = ensemble.RandomForestClassifier(max_depth=best_depth, \n",
    "                                                      n_estimators=best_num_trees,\n",
    "                                                      max_samples=0.5)\n",
    "\n",
    "# we train the model (it's one line!)\n",
    "rforest_model_final.fit(X_all, y_all)              # yay!  trained!\n",
    "print(f\"Built an RF classifier with depth={best_depth} and ntrees={best_num_trees}\") "
   ]
  },
  {
   "cell_type": "code",
   "execution_count": 84,
   "metadata": {},
   "outputs": [
    {
     "name": "stdout",
     "output_type": "stream",
     "text": [
      "I predict above from the features [10, 4.2]\n",
      "I predict below from the features [1.5, 1.5]\n",
      "I predict below from the features [2, -1]\n",
      "I predict below from the features [-10, 0]\n",
      "I predict below from the features [0, 0]\n",
      "I predict below from the features [2, 32]\n",
      "I predict above from the features [9.2, 6.5]\n",
      "I predict below from the features [3.14159, 2.71828]\n",
      "I predict above from the features [42, 42]\n"
     ]
    }
   ],
   "source": [
    "#\n",
    "# final predictive model (random forests), with tuned parameters + ALL data incorporated\n",
    "#\n",
    "\n",
    "def predictive_model( Features, Model ):\n",
    "    \"\"\" input: a list of four features \n",
    "                [ sepallen, sepalwid, petallen, petalwid ]\n",
    "        output: the predicted species of iris, from\n",
    "                  setosa (0), versicolor (1), virginica (2)\n",
    "    \"\"\"\n",
    "    our_features = np.asarray([Features])                 # extra brackets needed\n",
    "    predicted_species = Model.predict(our_features)       # The model's prediction!\n",
    "    predicted_species = int(round(predicted_species[0]))  # unpack the extra brackets\n",
    "    return predicted_species\n",
    "   \n",
    "#\n",
    "# Try it!\n",
    "# \n",
    "# Features = eval(input(\"Enter new Features: \"))\n",
    "#\n",
    "# Features = [6.7,3.3,5.7,0.1]  # [5.8,2.7,4.1,1.0] [4.6,3.6,3.0,2.2] [6.7,3.3,5.7,2.1]\n",
    "\n",
    "LoF = [[10,4.2],\n",
    "[1.5,1.5],\n",
    "[2,-1],\n",
    "[-10,0],\n",
    "[0,0],\n",
    "[2,32],\n",
    "[9.2,6.5],\n",
    "[3.14159,2.71828],\n",
    "[42,42]]\n",
    "\n",
    "\n",
    "# run on each one:\n",
    "for Features in LoF:\n",
    "    predicted_species = predictive_model( Features, rforest_model_final )  # pass in the model, too!\n",
    "    name = SPECIES[predicted_species]\n",
    "    print(f\"I predict {name} from the features {Features}\")    # Answers in the assignment..."
   ]
  },
  {
   "cell_type": "code",
   "execution_count": 85,
   "metadata": {},
   "outputs": [
    {
     "name": "stdout",
     "output_type": "stream",
     "text": [
      "[0.77389274 0.22610726]\n",
      "\n",
      "Feature        month has   77.39% of the decision-making importance.\n",
      "Feature          day has   22.61% of the decision-making importance.\n"
     ]
    }
   ],
   "source": [
    "#\n",
    "# feature importances are often even more \"important\" than predictions...\n",
    "#\n",
    "#    Random forests can provide a much \"smoother\" measure of feature importance, since\n",
    "#                   they integrate over so many individual models (each tree)\n",
    "#\n",
    "#    That is, it's much less likely that a feature will have 0% importance, unless it never varies\n",
    "#\n",
    "\n",
    "print(rforest_model_final.feature_importances_)\n",
    "print()\n",
    "\n",
    "# let's see them with each feature name:\n",
    "IMPs = rforest_model_final.feature_importances_\n",
    "\n",
    "# enumerate is great when you want indices _and_ elements!\n",
    "for i, importance in enumerate(IMPs):\n",
    "    perc = importance*100\n",
    "    print(f\"Feature {COLUMNS[i]:>12s} has {perc:>7.2f}% of the decision-making importance.\")"
   ]
  },
  {
   "cell_type": "markdown",
   "metadata": {},
   "source": [
    "This one is every more interesting. Although month is still at an majority, the day is also considered now. Since the accuracy is very similar, I suppose both approaches work well. This probably puts a bigger concern on holidays and such"
   ]
  },
  {
   "cell_type": "markdown",
   "metadata": {},
   "source": [
    "<br>\n",
    "<hr>\n",
    "<br>\n",
    "\n",
    "### Final, big-picture question:  \n",
    "+ What are the relative \"feature importances\" of the two features\n",
    "  + month\n",
    "  + day\n",
    "+ ... at least, in terms of \"birthday popularity,\" as we've defined it?\n",
    "\n",
    "Reflect, in a sentence or two, on the values of feature importances that you found.\n",
    "+ To use Erica Thompson's framing, \n",
    "+ how much trust (or weight) would you attribute to this model and its feature importances, \"outside of Model Land\"? "
   ]
  },
  {
   "cell_type": "markdown",
   "metadata": {},
   "source": [
    "Generally, the month seems to be an more important factor than the date. Although the random forest model placed a slighter higher emphasis on date.\n",
    "\n",
    "If one were to ask me to predict above/below, I'd have no clue at all. In this case, I would trust my model since this is based on statistics. Whereas if I were to do it, it would be based on sheer luck.\n",
    "\n",
    "In addition, I don't see any issues with placing too much weight on these models since I cannot imagine them harming the world in any way if it goes wrong."
   ]
  },
  {
   "cell_type": "code",
   "execution_count": 1,
   "metadata": {},
   "outputs": [],
   "source": [
    "#\n",
    "# Welcome to the world of model-building workflows!!    \n",
    "#\n",
    "\n",
    "#\n",
    "# In fact, the next task on this hw is to run at least one more ML workflow:   \n",
    "#          (2) Digits, (ec) Your-own-data, ...\n",
    "#"
   ]
  }
 ],
 "metadata": {
  "kernelspec": {
   "display_name": "Python 3",
   "language": "python",
   "name": "python3"
  },
  "language_info": {
   "codemirror_mode": {
    "name": "ipython",
    "version": 3
   },
   "file_extension": ".py",
   "mimetype": "text/x-python",
   "name": "python",
   "nbconvert_exporter": "python",
   "pygments_lexer": "ipython3",
   "version": "3.9.6"
  }
 },
 "nbformat": 4,
 "nbformat_minor": 4
}
