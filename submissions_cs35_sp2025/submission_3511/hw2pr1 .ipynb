{
  "cells": [
    {
      "cell_type": "markdown",
      "metadata": {
        "id": "bqrTnEZEWq_X"
      },
      "source": [
        "### week2 ~ APIs !\n",
        "\n",
        "<b>that is, _the-web-as-your-filesystem_ ...</b>  &nbsp;&nbsp; (hw2pr1.ipynb)\n",
        "\n",
        "[the google doc with hw2's details](https://docs.google.com/document/d/1z4HwpUL1-ImGX3j-6bddyZAfdv2SkRQHRNhF5Cu3Fkk/edit?tab=t.0)\n",
        "<hr>"
      ]
    },
    {
      "cell_type": "code",
      "execution_count": 24,
      "metadata": {
        "id": "YWTRTAoEWq_Y",
        "colab": {
          "base_uri": "https://localhost:8080/"
        },
        "outputId": "0c0f5219-1680-4577-bfa8-f19382b685e6"
      },
      "outputs": [
        {
          "output_type": "stream",
          "name": "stdout",
          "text": [
            "[0, 1, 2, 3, 4, 5, 6, 7, 8, 9, 10, 11, 12, 13, 14, 15, 16, 17, 18, 19, 20, 21, 22, 23, 24, 25, 26, 27, 28, 29, 30, 31, 32, 33, 34, 35, 36, 37, 38, 39, 40, 41, 42, 43, 44, 45, 46, 47, 48, 49, 50, 51, 52, 53, 54, 55, 56, 57, 58, 59, 60, 61, 62, 63, 64, 65, 66, 67, 68, 69, 70, 71, 72, 73, 74, 75, 76, 77, 78, 79, 80, 81, 82, 83, 84, 85, 86, 87, 88, 89, 90, 91, 92, 93, 94, 95, 96, 97, 98, 99]\n"
          ]
        }
      ],
      "source": [
        "#\n",
        "# computing-styling trick of the day     (or, of the minute...)\n",
        "#\n",
        "# The setting for word-wrapping on the output is\n",
        "#     \"notebook.output.wordWrap\": true,   (in your settings.json file or from Code ... Settings ...)\n",
        "\n",
        "print( list(range(100)) )\n"
      ]
    },
    {
      "cell_type": "markdown",
      "metadata": {
        "id": "UVqKoTDPWq_Z"
      },
      "source": [
        "#### Let's see if you already have the requests library..."
      ]
    },
    {
      "cell_type": "code",
      "execution_count": 25,
      "metadata": {
        "id": "Kra1ql6OWq_Z"
      },
      "outputs": [],
      "source": [
        "#\n",
        "# see if we have the requests library...\n",
        "#\n",
        "\n",
        "import requests"
      ]
    },
    {
      "cell_type": "code",
      "source": [
        "%pip install requests"
      ],
      "metadata": {
        "id": "OV5F9_p5WuX0",
        "outputId": "9eb1be75-83ff-4143-96b9-9ede97692f49",
        "colab": {
          "base_uri": "https://localhost:8080/"
        }
      },
      "execution_count": 26,
      "outputs": [
        {
          "output_type": "stream",
          "name": "stdout",
          "text": [
            "Requirement already satisfied: requests in /usr/local/lib/python3.11/dist-packages (2.32.3)\n",
            "Requirement already satisfied: charset-normalizer<4,>=2 in /usr/local/lib/python3.11/dist-packages (from requests) (3.4.1)\n",
            "Requirement already satisfied: idna<4,>=2.5 in /usr/local/lib/python3.11/dist-packages (from requests) (3.10)\n",
            "Requirement already satisfied: urllib3<3,>=1.21.1 in /usr/local/lib/python3.11/dist-packages (from requests) (2.3.0)\n",
            "Requirement already satisfied: certifi>=2017.4.17 in /usr/local/lib/python3.11/dist-packages (from requests) (2025.1.31)\n"
          ]
        }
      ]
    },
    {
      "cell_type": "code",
      "execution_count": 27,
      "metadata": {
        "id": "kxTh_sd-Wq_Z"
      },
      "outputs": [],
      "source": [
        "#\n",
        "# If you _don't_ have the requests library, let's install it!\n",
        "#\n",
        "\n",
        "# for me, it worked to uncomment and run this command, here in this cell:\n",
        "# !pip3 install requests  OR   !pip install requests\n",
        "\n",
        "# an alternative is to run, in a terminal, the command would be\n",
        "#  pip3 install requests  OR    pip install requests      (the ! is needed only if inside Python)\n",
        "\n",
        "# It's very system-dependent how much you have to \"restart\" in order to use\n",
        "# the new library (the notebook, VSCode, the Jupyter extension, etc.)\n",
        "\n",
        "# Troubles?  Let us know!  We'll work on it with you..."
      ]
    },
    {
      "cell_type": "code",
      "execution_count": 28,
      "metadata": {
        "id": "2VpFJq5oWq_Z"
      },
      "outputs": [],
      "source": [
        "#\n",
        "# hopefully, this now works! (if so, running will succeed silently)\n",
        "#\n",
        "\n",
        "import requests"
      ]
    },
    {
      "cell_type": "code",
      "execution_count": 29,
      "metadata": {
        "id": "iVHbQ49HWq_Z",
        "outputId": "8714d5d3-f423-4aff-cf12-ef377c99ccdc",
        "colab": {
          "base_uri": "https://localhost:8080/"
        }
      },
      "outputs": [
        {
          "output_type": "execute_result",
          "data": {
            "text/plain": [
              "<Response [200]>"
            ]
          },
          "metadata": {},
          "execution_count": 29
        }
      ],
      "source": [
        "#\n",
        "# let's try it on a simple webpage\n",
        "#\n",
        "\n",
        "#\n",
        "# we assign the url and obtain the api-call result into result\n",
        "#    Note that result will be an object that contains many fields (not a simple string)\n",
        "#\n",
        "\n",
        "url = \"https://www.cs.hmc.edu/~dodds/demo.html\"\n",
        "result = requests.get(url)\n",
        "result\n",
        "\n",
        "# if it succeeded, you should see <Response [200]>\n",
        "# See the list of HTTP reponse codes for the full set!"
      ]
    },
    {
      "cell_type": "markdown",
      "metadata": {
        "id": "RJpt0T_7Wq_Z"
      },
      "source": [
        "[Here is Wikipedia's list of all HTTP response codes](https://en.wikipedia.org/wiki/List_of_HTTP_status_codes)\n",
        "+ 100's: information\n",
        "+ 200's: success           \n",
        "+ 300's: redirects\n",
        "+ 400's + 500's: errors\n",
        "\n",
        "Perhaps familiar:  404 <br>\n",
        "Especially fun:  418\n"
      ]
    },
    {
      "cell_type": "code",
      "execution_count": 30,
      "metadata": {
        "id": "6slUkTd-Wq_Z",
        "outputId": "0b2b63c0-1f7f-47d2-a4dc-ad0a0249e653",
        "colab": {
          "base_uri": "https://localhost:8080/",
          "height": 139
        }
      },
      "outputs": [
        {
          "output_type": "execute_result",
          "data": {
            "text/plain": [
              "requests.models.Response"
            ],
            "text/html": [
              "<div style=\"max-width:800px; border: 1px solid var(--colab-border-color);\"><style>\n",
              "      pre.function-repr-contents {\n",
              "        overflow-x: auto;\n",
              "        padding: 8px 12px;\n",
              "        max-height: 500px;\n",
              "      }\n",
              "\n",
              "      pre.function-repr-contents.function-repr-contents-collapsed {\n",
              "        cursor: pointer;\n",
              "        max-height: 100px;\n",
              "      }\n",
              "    </style>\n",
              "    <pre style=\"white-space: initial; background:\n",
              "         var(--colab-secondary-surface-color); padding: 8px 12px;\n",
              "         border-bottom: 1px solid var(--colab-border-color);\"><b>requests.models.Response</b><br/>def __init__()</pre><pre class=\"function-repr-contents function-repr-contents-collapsed\" style=\"\"><a class=\"filepath\" style=\"display:none\" href=\"#\">/usr/local/lib/python3.11/dist-packages/requests/models.py</a>The :class:`Response &lt;Response&gt;` object, which contains a\n",
              "server&#x27;s response to an HTTP request.</pre>\n",
              "      <script>\n",
              "      if (google.colab.kernel.accessAllowed && google.colab.files && google.colab.files.view) {\n",
              "        for (const element of document.querySelectorAll('.filepath')) {\n",
              "          element.style.display = 'block'\n",
              "          element.onclick = (event) => {\n",
              "            event.preventDefault();\n",
              "            event.stopPropagation();\n",
              "            google.colab.files.view(element.textContent, 640);\n",
              "          };\n",
              "        }\n",
              "      }\n",
              "      for (const element of document.querySelectorAll('.function-repr-contents')) {\n",
              "        element.onclick = (event) => {\n",
              "          event.preventDefault();\n",
              "          event.stopPropagation();\n",
              "          element.classList.toggle('function-repr-contents-collapsed');\n",
              "        };\n",
              "      }\n",
              "      </script>\n",
              "      </div>"
            ]
          },
          "metadata": {},
          "execution_count": 30
        }
      ],
      "source": [
        "#\n",
        "# when exploring, you'll often obtain an unfamiliar object.\n",
        "# Here, we'll ask what type it is\n",
        "type(result)"
      ]
    },
    {
      "cell_type": "markdown",
      "metadata": {
        "id": "OLPNZCJrWq_Z"
      },
      "source": [
        "How to access the data inside this object, ``result`` ?\n",
        "\n",
        "One way: [Head over to the online documentation](https://requests.readthedocs.io/en/latest/api/#requests.Response)\n",
        "\n",
        "In addition, you can \"look around\" in Python:"
      ]
    },
    {
      "cell_type": "code",
      "execution_count": 31,
      "metadata": {
        "id": "1f7G3zOmWq_a",
        "outputId": "e78c2ea8-dbc9-4a61-aaec-912636b20d4e",
        "colab": {
          "base_uri": "https://localhost:8080/",
          "height": 35
        }
      },
      "outputs": [
        {
          "output_type": "execute_result",
          "data": {
            "text/plain": [
              "'https://www.cs.hmc.edu/~dodds/demo.html'"
            ],
            "application/vnd.google.colaboratory.intrinsic+json": {
              "type": "string"
            }
          },
          "metadata": {},
          "execution_count": 31
        }
      ],
      "source": [
        "# here is one of the data members within the result\n",
        "# it \"remembers\" (keeps track of) the url requested:\n",
        "result.url"
      ]
    },
    {
      "cell_type": "code",
      "execution_count": 32,
      "metadata": {
        "id": "JOLHi9XMWq_a",
        "outputId": "b384df9e-ba13-4b76-86d4-ae19d050445d",
        "colab": {
          "base_uri": "https://localhost:8080/"
        }
      },
      "outputs": [
        {
          "output_type": "stream",
          "name": "stdout",
          "text": [
            "close\n",
            "connection\n",
            "content\n",
            "cookies\n",
            "elapsed\n",
            "encoding\n",
            "headers\n",
            "history\n",
            "json\n",
            "links\n",
            "next\n",
            "ok\n",
            "raw\n",
            "reason\n",
            "request\n",
            "text\n",
            "url\n"
          ]
        }
      ],
      "source": [
        "# We can print all of the data members in an object with dir\n",
        "# Since dir returns a list, we will grab that list and loop over it:\n",
        "all_fields = dir(result)\n",
        "\n",
        "for field in all_fields:\n",
        "    if \"_\" not in field:\n",
        "        print(field)"
      ]
    },
    {
      "cell_type": "code",
      "execution_count": 33,
      "metadata": {
        "id": "Yhqk4LfdWq_a",
        "outputId": "323662d8-0977-4902-d439-515182cd9caf",
        "colab": {
          "base_uri": "https://localhost:8080/"
        }
      },
      "outputs": [
        {
          "output_type": "stream",
          "name": "stdout",
          "text": [
            "result.url         is https://www.cs.hmc.edu/~dodds/demo.html\n",
            "result.raw         is <urllib3.response.HTTPResponse object at 0x7f8265fdb8b0>\n",
            "result.encoding    is ISO-8859-1\n",
            "result.status_code is 200\n"
          ]
        }
      ],
      "source": [
        "#\n",
        "# Let's try printing a few of those fields (data members):\n",
        "print(f\"result.url         is {result.url}\")  # the original url\n",
        "print(f\"result.raw         is {result.raw}\")  # another object!\n",
        "print(f\"result.encoding    is {result.encoding}\")  # utf-8 is very common\n",
        "print(f\"result.status_code is {result.status_code}\")  # 200 is success!"
      ]
    },
    {
      "cell_type": "code",
      "execution_count": 34,
      "metadata": {
        "id": "P9_ZBwp4Wq_a",
        "outputId": "f56ef410-da22-4cb6-96cc-5958be7b2761",
        "colab": {
          "base_uri": "https://localhost:8080/"
        }
      },
      "outputs": [
        {
          "output_type": "stream",
          "name": "stdout",
          "text": [
            "<html>\n",
            "  <head>\n",
            "    <title>My streamlined website</title>\n",
            "  </head>\n",
            "  <body>\n",
            "    <h1> Welcome! </h1>\n",
            "    <h2> The best numbers </h2>\n",
            "\n",
            "    <div id=\"numberlist\">\n",
            "      <ol>\n",
            "\t<li class=\"number\"> 35 </li>\n",
            "\t<li class=\"number\"> 42 </li>\n",
            "\t<li class=\"number\"> <a href=\"https://en.wikipedia.org/wiki/Rayo%27s_number\">Rayo's number</a> </li>\n",
            "      </ol>\n",
            "    </div>\n",
            "\n",
            "    <img src=\"./spam.jpg\" height=\"84px\">\n",
            "    <br><br>\n",
            "\n",
            "    <h2> The <s>only</s> best snacks </h2>\n",
            "\n",
            "    <div id=\"snacklist\">\n",
            "      <ul>\n",
            "\t<li class=\"snack\"> Poptarts </li>\n",
            "\t<li class=\"snack\"> Chocolate </li>\n",
            "\t<li class=\"snack\"> Coffee </li>\n",
            "      </ul>\n",
            "    </div>\n",
            "\n",
            "<!--    <a href=\"./demo_cat.html\">Aliens <3 cats!</a>  -->\n",
            "\n",
            "    <img src=\"./alien.png\" height=\"101px\">\n",
            "\n",
            "  </body>\n",
            "</html>\n",
            "\n",
            "\n",
            "\n",
            "\n"
          ]
        }
      ],
      "source": [
        "# In this case, the result is a text file (HTML) Let's see it!\n",
        "contents = result.text\n",
        "print(contents)"
      ]
    },
    {
      "cell_type": "code",
      "execution_count": 35,
      "metadata": {
        "id": "VLRPDD4GWq_a"
      },
      "outputs": [],
      "source": [
        "# Yay!\n",
        "# This shows that you are able to \"scrape\" an arbitrary HTML page...\n",
        "\n",
        "# Now, we're off to more _structured_ data-gathering..."
      ]
    },
    {
      "cell_type": "markdown",
      "metadata": {
        "id": "SQx50kMXWq_a"
      },
      "source": [
        "#### Traversing the world - and web - <i>without a browser</i>.   \n",
        "\n",
        "<b>Using the ISS APIs</b>\n",
        "\n",
        "+ Here, you'll make some calls using `requests` to, first, the International Space Station API\n",
        "+ and, then, the US Geological Survey's earthquake API\n",
        "+ \"API\" is short for \"Application Programming Interface\"\n",
        "  + Admittedly, this is not a very informative name:\n",
        "  + The API is the set of services, which are functions and/or urls, provided by some software or site"
      ]
    },
    {
      "cell_type": "markdown",
      "metadata": {
        "id": "F_JWrznVWq_a"
      },
      "source": [
        "Let's try it with the International Space Station api at [http://api.open-notify.org/iss-now.json](http://api.open-notify.org/iss-now.json)\n",
        "+ [This page has documentation on the ISS API](http://open-notify.org/Open-Notify-API/ISS-Location-Now/)"
      ]
    },
    {
      "cell_type": "code",
      "execution_count": 36,
      "metadata": {
        "id": "hpzqXB3IWq_a",
        "outputId": "1a9072b8-8df9-4fd3-f263-4b6f3dd4475a",
        "colab": {
          "base_uri": "https://localhost:8080/"
        }
      },
      "outputs": [
        {
          "output_type": "execute_result",
          "data": {
            "text/plain": [
              "<Response [200]>"
            ]
          },
          "metadata": {},
          "execution_count": 36
        }
      ],
      "source": [
        "#\n",
        "# we assign the url and obtain the api-call result into result\n",
        "#    Note that result will be an object that contains many fields (not a simple string)\n",
        "#\n",
        "\n",
        "import requests\n",
        "\n",
        "url = \"http://api.open-notify.org/iss-now.json\"   # this is sometimes called an \"endpoint\" ...\n",
        "result = requests.get(url)\n",
        "result\n",
        "\n",
        "# if it succeeds, you should see <Response [200]>"
      ]
    },
    {
      "cell_type": "code",
      "execution_count": 37,
      "metadata": {
        "id": "YROTRJjLWq_b",
        "outputId": "b6532f19-cfab-4dff-8ae8-0be1e03590f1",
        "colab": {
          "base_uri": "https://localhost:8080/"
        }
      },
      "outputs": [
        {
          "output_type": "stream",
          "name": "stdout",
          "text": [
            "result.url         is http://api.open-notify.org/iss-now.json\n",
            "result.raw         is <urllib3.response.HTTPResponse object at 0x7f82663c5ea0>\n",
            "result.encoding    is utf-8\n",
            "result.status_code is 200\n"
          ]
        }
      ],
      "source": [
        "#\n",
        "# Let's try printing those shorter fields from before:\n",
        "print(f\"result.url         is {result.url}\")  # the original url\n",
        "print(f\"result.raw         is {result.raw}\")  # another object!\n",
        "print(f\"result.encoding    is {result.encoding}\")  # utf-8 is very common\n",
        "print(f\"result.status_code is {result.status_code}\")  # 200 is success!"
      ]
    },
    {
      "cell_type": "code",
      "execution_count": 38,
      "metadata": {
        "id": "gz5N1fF9Wq_b",
        "outputId": "67352612-fcb2-49b1-cbc8-640c16a94135",
        "colab": {
          "base_uri": "https://localhost:8080/"
        }
      },
      "outputs": [
        {
          "output_type": "stream",
          "name": "stdout",
          "text": [
            "{'message': 'success', 'timestamp': 1739505814, 'iss_position': {'latitude': '32.9203', 'longitude': '21.8542'}}\n"
          ]
        }
      ],
      "source": [
        "#\n",
        "# In this case, we know the result is a JSON file, and we can obtain it that way:\n",
        "json_contents = result.json()\n",
        "print(json_contents)\n",
        "\n",
        "# Remember:  json_contents will be a _dictionary_"
      ]
    },
    {
      "cell_type": "code",
      "execution_count": 39,
      "metadata": {
        "id": "Ihm23TlrWq_b",
        "colab": {
          "base_uri": "https://localhost:8080/",
          "height": 35
        },
        "outputId": "b480262c-b161-4653-e64e-61e6f5028bad"
      },
      "outputs": [
        {
          "output_type": "execute_result",
          "data": {
            "text/plain": [
              "'21.8542'"
            ],
            "application/vnd.google.colaboratory.intrinsic+json": {
              "type": "string"
            }
          },
          "metadata": {},
          "execution_count": 39
        }
      ],
      "source": [
        "#\n",
        "# Let's re-remind ourselves how dictionaries work:\n",
        "\n",
        "json_contents['iss_position']['longitude']\n",
        "    # Challenge:  could we access the other components? What _types_ are they?!!"
      ]
    },
    {
      "cell_type": "code",
      "execution_count": 40,
      "metadata": {
        "id": "Q32QH8oJWq_b",
        "outputId": "d03a52e8-9e76-4270-8fa3-49d884a5de5f",
        "colab": {
          "base_uri": "https://localhost:8080/"
        }
      },
      "outputs": [
        {
          "output_type": "stream",
          "name": "stdout",
          "text": [
            "['message', 'timestamp', 'iss_position']\n"
          ]
        }
      ],
      "source": [
        "#\n",
        "# In Python, we can use the resulting dictionary... let's see its keys:\n",
        "print(list(json_contents.keys()))\n",
        "\n",
        "# Also, watch out for string vs. numeric types, e.g., for latitude and longitude.\n",
        "# At heart, _all_ web data are strings... .\n",
        "\n",
        "# These experiments will be helpful for problem 1, below :)"
      ]
    },
    {
      "cell_type": "markdown",
      "metadata": {
        "id": "ley0IBppWq_b"
      },
      "source": [
        "<font color=\"Coral\"><b>Task 0a</b></font>  &nbsp;&nbsp; From here,\n",
        "+ extract the lat and CS35_Participant_2 of the ISS from ``json_contents``  (dictinoary practice!)\n",
        "+ copy the ``haversine`` function from the assignment\n",
        "+ find the lat/CS35_Participant_2 of Claremont (or grab it from the hw page! 😊 )\n",
        "+ combine these to find out how far, in miles, the ISS is from Claremont  \n",
        "+ <font size=\"-2\">you could _imagine_ writing a function to do all this (no need to - we'll do it with earthquakes!)</font>"
      ]
    },
    {
      "cell_type": "code",
      "source": [
        "from math import *    # this import is for the sin, cos, radians, ...\n",
        "# lat and CS35_Participant_2 of ISS from json_contents\n",
        "lat = float(json_contents['iss_position']['latitude'])\n",
        "CS35_Participant_2 = float(json_contents['iss_position']['longitude'])\n",
        "\n",
        "#haversine function\n",
        "def haversine(lat1, long1, lat2, long2):\n",
        "    \"\"\"\n",
        "    Calculate the great circle distance in kilometers between two points\n",
        "    on the earth (specified in decimal degrees)\n",
        "    \"\"\"\n",
        "    # convert decimal degrees to radians\n",
        "    long1, lat1, long2, lat2 = map(radians, [long1, lat1, long2, lat2])\n",
        "\n",
        "\n",
        "    # haversine formula\n",
        "    dlong = long2 - long1\n",
        "    dlat = lat2 - lat1\n",
        "    trig = sin(dlat/2)**2 + cos(lat1) * cos(lat2) * sin(dlong/2)**2\n",
        "    # Radius of earth. Use 3956 for miles. 6371 for km.\n",
        "    radius = 3956  # we'll use miles!\n",
        "    return radius * 2 * asin(sqrt(trig))\n",
        "\n",
        "#lat/CS35_Participant_2 of Claremont\n",
        "c_lat = 34.0967\n",
        "c_long = -117.7198\n",
        "\n",
        "#how far, in miles, the ISS is from Claremont\n",
        "CS35_Participant_2, lat, c_long, c_lat = map(radians, [CS35_Participant_2, lat, c_long, c_lat])\n",
        "\n",
        "distance = haversine(CS35_Participant_2, lat, c_long, c_lat)\n",
        "#print(distance)\n",
        "\n"
      ],
      "metadata": {
        "id": "X_ghPfR8b4lD"
      },
      "execution_count": 41,
      "outputs": []
    },
    {
      "cell_type": "markdown",
      "metadata": {
        "id": "logYZ4XbWq_b"
      },
      "source": [
        "## JSON\n",
        "\n",
        "####  Let's make a brief JSON visit in Python\n",
        "\n",
        "The library ``json`` allows us to create and read arbitrary JSON data."
      ]
    },
    {
      "cell_type": "code",
      "execution_count": 42,
      "metadata": {
        "id": "OVgSnGfAWq_b",
        "outputId": "7411db91-9034-4365-c8f7-fe132eac7caf",
        "colab": {
          "base_uri": "https://localhost:8080/"
        }
      },
      "outputs": [
        {
          "output_type": "stream",
          "name": "stdout",
          "text": [
            "{'key': 'value', 'fave': 42, 'list': [5, 6, 7, {'mascot': 'Aliiien'}]}\n"
          ]
        }
      ],
      "source": [
        "# JSON is a javascript dictionary format -- almost the same as a Python dictionary:\n",
        "data = { 'key':'value',  'fave':42,  'list':[5,6,7,{'mascot':'Aliiien'}] }\n",
        "print(data)\n",
        "\n",
        "# we can write in JSON format to a local file, named small42.json:\n",
        "import json\n",
        "\n",
        "with open(\"small.json\", \"w\") as f:\n",
        "    json.dump( data, f )"
      ]
    },
    {
      "cell_type": "code",
      "execution_count": 43,
      "metadata": {
        "id": "Pg6Y-T15Wq_b",
        "outputId": "9d66f3c8-402d-46d5-bbb3-d78e3c4f2e7b",
        "colab": {
          "base_uri": "https://localhost:8080/"
        }
      },
      "outputs": [
        {
          "output_type": "stream",
          "name": "stdout",
          "text": [
            "the dictionary = {'key': 'value', 'fave': 42, 'list': [5, 6, 7, {'mascot': 'Aliiien'}]}\n"
          ]
        }
      ],
      "source": [
        "# We can also read from a json file\n",
        "# The resulting data will be a _dictionary_:\n",
        "\n",
        "with open(\"small.json\", \"r\") as f:\n",
        "    dictionary = json.load( f )\n",
        "\n",
        "print(f\"the {dictionary = }\")"
      ]
    },
    {
      "cell_type": "code",
      "execution_count": 44,
      "metadata": {
        "id": "vMwLTztOWq_c",
        "outputId": "44389366-2a02-41a7-c857-23eb78147ab3",
        "colab": {
          "base_uri": "https://localhost:8080/"
        }
      },
      "outputs": [
        {
          "output_type": "execute_result",
          "data": {
            "text/plain": [
              "['key', 'fave', 'list']"
            ]
          },
          "metadata": {},
          "execution_count": 44
        }
      ],
      "source": [
        "# let's access this dictionary -- first, the keys:\n",
        "list(dictionary.keys())   # How do we get 'Aliiien' from newdata?"
      ]
    },
    {
      "cell_type": "code",
      "execution_count": 45,
      "metadata": {
        "id": "FiY3Vb-FWq_c",
        "outputId": "580108e0-04b2-4334-a888-020adaa6f68f",
        "colab": {
          "base_uri": "https://localhost:8080/",
          "height": 35
        }
      },
      "outputs": [
        {
          "output_type": "execute_result",
          "data": {
            "text/plain": [
              "'value'"
            ],
            "application/vnd.google.colaboratory.intrinsic+json": {
              "type": "string"
            }
          },
          "metadata": {},
          "execution_count": 45
        }
      ],
      "source": [
        "# Task: use the dictionary to obtain (a) 'value' , (b) 42 , (c) 'Aliiien'  [tricky!]\n",
        "\n",
        "# remember that there are two ways to get the value from a key:\n",
        "# way 1:  dictionary['key']            # errors if 'key' isn't present\n",
        "# way 2:  dictionary.get('key')        # returns None if 'key' isn't present\n",
        "\n",
        "dictionary['key']"
      ]
    },
    {
      "cell_type": "markdown",
      "metadata": {
        "id": "ImkNqhMjWq_c"
      },
      "source": [
        "Most of the time this will be done for us by the ``requests`` library. So, we will simply receive the dictionary of data sent.\n",
        "\n",
        "Then, the trick is to \"extract\" the data fragments we want. (Sometimes it feels like forensics - or archaeology!) Try excavating items one **layer** at a time..."
      ]
    },
    {
      "cell_type": "markdown",
      "metadata": {
        "id": "QqSK472IWq_c"
      },
      "source": [
        "#### Remember: &nbsp; <i>not</i> every url returns json data...\n",
        "+ The url [https://www.cs.hmc.edu/~dodds/demo.html](https://www.cs.hmc.edu/~dodds/demo.html) returns a plain-text file with _markup_ text\n",
        "+ that is to say, with HTML tags, such as `<title>Title</title>` to designate the components of its content\n",
        "+ HTML stands for _hypertext markup language_   \n",
        "+ Often anything with tags similar to `<b>be bold!</b>` is called \"markup.\"\n",
        "\n",
        "Let's try our 5C homepages: they're HTML, not JSON:"
      ]
    },
    {
      "cell_type": "code",
      "execution_count": 46,
      "metadata": {
        "id": "n58To-6qWq_c",
        "outputId": "7f530cd3-de6a-4099-ea2e-23214abb9f12",
        "colab": {
          "base_uri": "https://localhost:8080/"
        }
      },
      "outputs": [
        {
          "output_type": "stream",
          "name": "stdout",
          "text": [
            "result is <Response [200]>\n"
          ]
        }
      ],
      "source": [
        "import requests\n",
        "\n",
        "# here, we will obtain plain-text results from a request\n",
        "url = \"https://www.cs.hmc.edu/~dodds/demo.html\"  # try it + source\n",
        "# url = \"https://www.scrippscollege.edu/\"          # another possible site...\n",
        "# url = \"https://www.pitzer.edu/\"                  # another possible site...\n",
        "# url = \"https://www.cmc.edu/\"                     # and another!\n",
        "# url = \"https://www.cgu.edu/\"\n",
        "result = requests.get(url)\n",
        "print(f\"result is {result}\")        # hopefully it's 200"
      ]
    },
    {
      "cell_type": "code",
      "execution_count": 47,
      "metadata": {
        "id": "vqd6cxmJWq_c",
        "outputId": "5569f714-1638-44e6-83be-33510a457a3f",
        "colab": {
          "base_uri": "https://localhost:8080/"
        }
      },
      "outputs": [
        {
          "output_type": "stream",
          "name": "stdout",
          "text": [
            "len(text) is 744\n",
            "\n",
            "The first 242 characters are\n",
            "\n",
            "<html>\n",
            "  <head>\n",
            "    <title>My streamlined website</title>\n",
            "  </head>\n",
            "  <body>\n",
            "    <h1> Welcome! </h1>\n",
            "    <h2> The best numbers </h2>\n",
            "\n",
            "    <div id=\"numberlist\">\n",
            "      <ol>\n",
            "\t<li class=\"number\"> 35 </li>\n",
            "\t<li class=\"number\"> 42 </li>\n",
            "\t<li class=\n"
          ]
        }
      ],
      "source": [
        "# if the request was successful, the Response will be [200].\n",
        "# Then, we can grab the text - or json - from the site:\n",
        "\n",
        "text = result.text                  # provides the HTML page as a large string...\n",
        "print(f\"len(text) is {len(text)}\")  # let's see how large the HTML page is...\n",
        "\n",
        "print(\"\\nThe first 242 characters are\\n\")\n",
        "print(text[:242])                  # we'll print the first few characters...\n",
        "\n",
        "# change this to text[:] to see the whole document...\n",
        "# Notice that we can run many different analyses without having to re-call/re-scrape the page (this is good!)"
      ]
    },
    {
      "cell_type": "markdown",
      "metadata": {
        "id": "CWNNABf-Wq_c"
      },
      "source": [
        "#### Declined requests!\n",
        "\n",
        "Caution: <i>See this week's reading!</i>"
      ]
    },
    {
      "cell_type": "markdown",
      "metadata": {
        "id": "kSbDSjd3Wq_c"
      },
      "source": [
        "#### For now let's focus on API calls providing JSON\n",
        "+ We're reading-aligned, as we should be!\n",
        "+ The open-ended problem (the finale in this notebook) offers the _option_ of scraping raw html -- up to you...\n",
        "\n",
        "<br>\n",
        "\n",
        "<b>Let's try another ISS \"endpoint\" ~ one with all of the <i>people</i> in space.</b>\n",
        "\n",
        "It's at this url:  [http://api.open-notify.org/astros.json](http://api.open-notify.org/astros.json)\n"
      ]
    },
    {
      "cell_type": "code",
      "execution_count": 48,
      "metadata": {
        "id": "wlEIkRRpWq_c",
        "outputId": "a1f30c55-2b68-4507-c30e-48d390e900b6",
        "colab": {
          "base_uri": "https://localhost:8080/"
        }
      },
      "outputs": [
        {
          "output_type": "execute_result",
          "data": {
            "text/plain": [
              "<Response [200]>"
            ]
          },
          "metadata": {},
          "execution_count": 48
        }
      ],
      "source": [
        "#\n",
        "# we assign the url and use requests.get to obtain the result into result_astro\n",
        "#\n",
        "#    Remember, result_astro will be an object that contains many fields (not a simple string)\n",
        "#\n",
        "\n",
        "import requests\n",
        "\n",
        "url = \"http://api.open-notify.org/astros.json\"   # this is sometimes called an \"endpoint\" ...\n",
        "result_astro = requests.get(url)\n",
        "result_astro\n",
        "\n",
        "# if it succeeded, you should see <Response [200]>"
      ]
    },
    {
      "cell_type": "code",
      "execution_count": 49,
      "metadata": {
        "id": "6kBAPGSTWq_c",
        "outputId": "cb87cd3c-3c21-499a-c7ba-65b26fd924cf",
        "colab": {
          "base_uri": "https://localhost:8080/",
          "height": 73
        }
      },
      "outputs": [
        {
          "output_type": "stream",
          "name": "stdout",
          "text": [
            "{'people': [{'craft': 'ISS', 'name': 'Oleg Kononenko'}, {'craft': 'ISS', 'name': 'Nikolai Chub'}, {'craft': 'ISS', 'name': 'Tracy Caldwell Dyson'}, {'craft': 'ISS', 'name': 'Matthew Dominick'}, {'craft': 'ISS', 'name': 'Michael Barratt'}, {'craft': 'ISS', 'name': 'Jeanette Epps'}, {'craft': 'ISS', 'name': 'Alexander Grebenkin'}, {'craft': 'ISS', 'name': 'Butch Wilmore'}, {'craft': 'ISS', 'name': 'Sunita Williams'}, {'craft': 'Tiangong', 'name': 'Li Guangsu'}, {'craft': 'Tiangong', 'name': 'Li Cong'}, {'craft': 'Tiangong', 'name': 'Ye Guangfu'}], 'number': 12, 'message': 'success'}\n"
          ]
        },
        {
          "output_type": "execute_result",
          "data": {
            "text/plain": [
              "''"
            ],
            "application/vnd.google.colaboratory.intrinsic+json": {
              "type": "string"
            }
          },
          "metadata": {},
          "execution_count": 49
        }
      ],
      "source": [
        "# If the request succeeded, we know the result is a JSON file, and we can obtain it that way.\n",
        "# Let's call our dictionary something more specific:\n",
        "\n",
        "astronauts = result_astro.json()\n",
        "print(astronauts)\n",
        "d = astronauts     # d is shorter to type\n",
        "\n",
        "# Remember:  d and astronauts will be a _dictionary_\n",
        "\n",
        "note = \"\"\" here's yesterday's result - it _should_ be the same today!\n",
        "\n",
        "{\"people\": [{\"craft\": \"ISS\", \"name\": \"Oleg Kononenko\"}, {\"craft\": \"ISS\", \"name\": \"Nikolai Chub\"},\n",
        "{\"craft\": \"ISS\", \"name\": \"Tracy Caldwell Dyson\"}, {\"craft\": \"ISS\", \"name\": \"Matthew Dominick\"},\n",
        "{\"craft\": \"ISS\", \"name\": \"Michael Barratt\"}, {\"craft\": \"ISS\", \"name\": \"Jeanette Epps\"},\n",
        "{\"craft\": \"ISS\", \"name\": \"Alexander Grebenkin\"}, {\"craft\": \"ISS\", \"name\": \"Butch Wilmore\"},\n",
        "{\"craft\": \"ISS\", \"name\": \"Sunita Williams\"}, {\"craft\": \"Tiangong\", \"name\": \"Li Guangsu\"},\n",
        "{\"craft\": \"Tiangong\", \"name\": \"Li Cong\"}, {\"craft\": \"Tiangong\", \"name\": \"Ye Guangfu\"}], \"number\": 12, \"message\": \"success\"}\n",
        "\"\"\"\n",
        "\"\""
      ]
    },
    {
      "cell_type": "markdown",
      "metadata": {
        "id": "pe9yd3TNWq_c"
      },
      "source": [
        "This is pretty intricate. Let's try unpacking this - _parsing it_ - with an in-class break-out challenge."
      ]
    },
    {
      "cell_type": "code",
      "source": [
        "d['people'][0]['name']"
      ],
      "metadata": {
        "id": "58AnTlQSiA1I",
        "outputId": "234669dd-28c5-4577-bf50-9fdb7bc959e5",
        "colab": {
          "base_uri": "https://localhost:8080/",
          "height": 35
        }
      },
      "execution_count": 50,
      "outputs": [
        {
          "output_type": "execute_result",
          "data": {
            "text/plain": [
              "'Oleg Kononenko'"
            ],
            "application/vnd.google.colaboratory.intrinsic+json": {
              "type": "string"
            }
          },
          "metadata": {},
          "execution_count": 50
        }
      ]
    },
    {
      "cell_type": "code",
      "execution_count": 51,
      "metadata": {
        "id": "rth4xeD3Wq_c",
        "outputId": "f4052b70-74c8-4845-ac81-9e751b543c7b",
        "colab": {
          "base_uri": "https://localhost:8080/"
        }
      },
      "outputs": [
        {
          "output_type": "execute_result",
          "data": {
            "text/plain": [
              "{'people': [{'craft': 'ISS', 'name': 'Oleg Kononenko'},\n",
              "  {'craft': 'ISS', 'name': 'Nikolai Chub'},\n",
              "  {'craft': 'ISS', 'name': 'Tracy Caldwell Dyson'},\n",
              "  {'craft': 'ISS', 'name': 'Matthew Dominick'},\n",
              "  {'craft': 'ISS', 'name': 'Michael Barratt'},\n",
              "  {'craft': 'ISS', 'name': 'Jeanette Epps'},\n",
              "  {'craft': 'ISS', 'name': 'Alexander Grebenkin'},\n",
              "  {'craft': 'ISS', 'name': 'Butch Wilmore'},\n",
              "  {'craft': 'ISS', 'name': 'Sunita Williams'},\n",
              "  {'craft': 'Tiangong', 'name': 'Li Guangsu'},\n",
              "  {'craft': 'Tiangong', 'name': 'Li Cong'},\n",
              "  {'craft': 'Tiangong', 'name': 'Ye Guangfu'}],\n",
              " 'number': 12,\n",
              " 'message': 'success'}"
            ]
          },
          "metadata": {},
          "execution_count": 51
        }
      ],
      "source": [
        "#\n",
        "# Cell to try out parsing d  (astronauts)\n",
        "#\n",
        "\n",
        "d"
      ]
    },
    {
      "cell_type": "markdown",
      "metadata": {
        "id": "_Jwpg_B9Wq_c"
      },
      "source": [
        "Let's compare with a whole other webservice: **earthquakes**\n",
        "\n",
        "<br>\n",
        "<hr>\n",
        "<br>\n",
        "\n",
        "#### Earthquake data\n",
        "\n",
        "[Here is the USGS Earthquate data API documentation](https://earthquake.usgs.gov/fdsnws/event/1/)\n",
        "\n",
        "Notice that the \"headline\" is the URL: &nbsp; This is the <i>domain</i> from which we'll access data.\n",
        "+ Underneath, there are several different <i>endpoints</i>\n",
        "+ We are going to focus on the <tt>count</tt> endpoint and the <tt>query</tt> endpoint\n",
        "+ along with their parameters\n",
        "  + the whole list of parameters is linked and available by scrolling down\n",
        "  + that said, it's easy to miss (well, at least I did! :)"
      ]
    },
    {
      "cell_type": "markdown",
      "metadata": {
        "id": "TK9Wuxh5Wq_h"
      },
      "source": [
        "First, let's establish that, for these endpoints, we can make requests - by hand - in our browser!\n",
        "\n",
        "Try this link: <br><br>  [https://earthquake.usgs.gov/fdsnws/event/1/count?format=geojson&minmagnitude=5.0&starttime=2024-01-01&endtime=2024-02-01](https://earthquake.usgs.gov/fdsnws/event/1/count?format=geojson&minmagnitude=5.0&starttime=2024-01-01&endtime=2024-02-01)"
      ]
    },
    {
      "cell_type": "markdown",
      "metadata": {
        "id": "qLX2l5tcWq_h"
      },
      "source": [
        "Ok! Let's parse this url. Requests in which there are parameters <i><b>in the url</b></i> are called GET requests:\n",
        "+ the <b>endpoint</b> is the first part: ``https://earthquake.usgs.gov/fdsnws/event/1/count``\n",
        "   + Notice that the forward-slashes are very much like our file-system trees from last week!\n",
        "   + In fact, they usually <i>are</i> file-system trees. They're just on the <i>server</i> side, instead of our \"client\" side...\n",
        "+ the <b>parameters</b> follow the question mark: ``format=geojson&minmagnitude=5.0&starttime=2024-01-01&endtime=2024-02-01``\n",
        "   + There are four parameters here. Parameters are separated by the ampersand <tt>&amp;</tt> character.\n",
        "   + Each one is in the format <tt>name=value</tt>  Here are the four:\n",
        "   + ``format=geojson`` specifies the desired format of the returned data. ``geojson`` is JSON with geographic data.\n",
        "   + ``minmagnitude=5.0`` specifies the minimum magnitude of earthquakes to consider. 5.0 is strong, if not always catastrophic.\n",
        "   + ``starttime=2024-01-01`` specifies the earlier time-endpoint to consider. (Jan 1, 2024)\n",
        "   + ``endtime=2024-02-01`` specifies the later time-endpoint to consider. (Feb 1, 2024)\n",
        "\n",
        "My result was this:  ``{\"count\":134,\"maxAllowed\":20000}``\n",
        "+ Earthquakes are always happening -- and they do get reclassified. So, the numbers can change - even in the past.\n",
        "\n",
        "Try it, in your browser.\n",
        "\n",
        "Also, try increasing the ``minmagnitude`` -- you'll see a progression of fewer and fewer quakes. (Fortunately!)\n",
        "\n",
        "<hr>"
      ]
    },
    {
      "cell_type": "markdown",
      "metadata": {
        "id": "yT3EO1mpWq_h"
      },
      "source": [
        "Then, try it using a short Python script:"
      ]
    },
    {
      "cell_type": "code",
      "execution_count": 52,
      "metadata": {
        "id": "a47lqUj1Wq_h",
        "outputId": "a921ffd4-d338-4b8f-bbed-ce145d2a8d08",
        "colab": {
          "base_uri": "https://localhost:8080/"
        }
      },
      "outputs": [
        {
          "output_type": "stream",
          "name": "stdout",
          "text": [
            "result is <Response [200]>\n",
            "the full url used was\n",
            " https://earthquake.usgs.gov/fdsnws/event/1/count?format=geojson&minmagnitude=5.0&starttime=2024-01-01&endtime=2024-02-01\n"
          ]
        }
      ],
      "source": [
        "#\n",
        "# Let's try the  count  endpoint, with geojson format (json with geographical data)\n",
        "#\n",
        "\n",
        "url = \"https://earthquake.usgs.gov/fdsnws/event/1/count?format=geojson&minmagnitude=5.0&starttime=2024-01-01&endtime=2024-02-01\"\n",
        "\n",
        "result = requests.get(url)                       # a named input, params, taking the value param_d, above\n",
        "print(f\"result is {result}\")                     # hopefully, this is 200\n",
        "print(f\"the full url used was\\n {result.url}\")   # it's nice to be able to see this"
      ]
    },
    {
      "cell_type": "code",
      "execution_count": 53,
      "metadata": {
        "id": "biLX3y-BWq_h",
        "outputId": "32046e12-8da0-413f-d4f3-7c52ce519fe6",
        "colab": {
          "base_uri": "https://localhost:8080/"
        }
      },
      "outputs": [
        {
          "output_type": "stream",
          "name": "stdout",
          "text": [
            "d ={'count': 133, 'maxAllowed': 20000}\n"
          ]
        }
      ],
      "source": [
        "# If it worked, we should be able to obtain the JSON. Remember, it's a dictionary. Let's use d:\n",
        "\n",
        "d = result.json()\n",
        "\n",
        "print(f\"{d =}\")"
      ]
    },
    {
      "cell_type": "markdown",
      "metadata": {
        "id": "mxagelqNWq_h"
      },
      "source": [
        "#### Handling parameters separately...\n",
        "\n",
        "It's awkward to include all the parameters as part of the url.\n",
        "\n",
        "It's much more common to create a <i>dictionary</i> of the parameters, and then pass that to ``requests.get``\n",
        "\n",
        "Here is an example:"
      ]
    },
    {
      "cell_type": "code",
      "execution_count": 54,
      "metadata": {
        "id": "FnwIBAvzWq_h",
        "outputId": "6234243d-924d-4680-bcfe-25e05919c901",
        "colab": {
          "base_uri": "https://localhost:8080/"
        }
      },
      "outputs": [
        {
          "output_type": "stream",
          "name": "stdout",
          "text": [
            "result is <Response [200]>\n",
            "the full url used was\n",
            " https://earthquake.usgs.gov/fdsnws/event/1/count?format=geojson&starttime=2025-01-01&endtime=2025-02-01&minmagnitude=5.0\n"
          ]
        }
      ],
      "source": [
        "#\n",
        "# Here is the endpoint\n",
        "#\n",
        "url = \"https://earthquake.usgs.gov/fdsnws/event/1/count\"\n",
        "\n",
        "# Let's use variables for three of the parameters:\n",
        "min_mag = 5.0               # the minimum magnitude considered a quake (min_mag)\n",
        "start_time = \"2025-01-01\"   # this is the year-month-day format of the start\n",
        "finish_time = \"2025-02-01\"  # similar for the end\n",
        "\n",
        "# we assemble a dictionary of our parameters, let's name it param_dictionary\n",
        "# there are many more parameters available. The problems below ask you to explore them...\n",
        "param_dictionary = { \"format\":\"geojson\",         # this is simply hard-coded to obtain json\n",
        "                     \"starttime\":start_time,\n",
        "                     \"endtime\":finish_time,\n",
        "                     \"minmagnitude\":min_mag,\n",
        "                     }\n",
        "\n",
        "# Here, we use requests to make the request. The parameters will be added by this API call:\n",
        "result = requests.get(url, params=param_dictionary)\n",
        "print(f\"result is {result}\")                     # hopefully, this is 200\n",
        "print(f\"the full url used was\\n {result.url}\")   # this will include the parameters!"
      ]
    },
    {
      "cell_type": "code",
      "execution_count": 55,
      "metadata": {
        "id": "_oj4HVILWq_i",
        "outputId": "f3a4fe6f-1222-4fa8-ee9f-ab605cc1d24a",
        "colab": {
          "base_uri": "https://localhost:8080/"
        }
      },
      "outputs": [
        {
          "output_type": "stream",
          "name": "stdout",
          "text": [
            "JSON returned was d = {'count': 151, 'maxAllowed': 20000}\n"
          ]
        }
      ],
      "source": [
        "# If it worked, we should be able to see the json results:\n",
        "\n",
        "d = result.json()\n",
        "print(f\"JSON returned was {d = }\")"
      ]
    },
    {
      "cell_type": "markdown",
      "metadata": {
        "id": "xmKEjZ1xWq_i"
      },
      "source": [
        "From here, it would be possible to write one or more loops and build an earthquake dataset. For example,\n",
        "+ it would be possible to loop over the ``minmagnitude`` to get a distribution of different sized quakes (or a histogram)\n",
        "+ it would be possible to loop over one of the <i>time-endpoints</i>\n",
        "+ it would be possible to loop over one of the _other parameters_ e.g.,\n",
        "  + you can specify a circle around a specific ``latitude`` and ``longitude`` with a ``maxradiuskm`` (the radius)\n",
        "  + Claremont is at ``latitude=34.0967`` and ``longitude=-117.7198``\n",
        "\n",
        "The next two cells have an example of a Claremont-centric quake-count question and answer:"
      ]
    },
    {
      "cell_type": "code",
      "execution_count": 73,
      "metadata": {
        "id": "2mjYA23eWq_i",
        "outputId": "fd9869d1-31be-454b-db0c-cc4720c378e8",
        "colab": {
          "base_uri": "https://localhost:8080/"
        }
      },
      "outputs": [
        {
          "output_type": "stream",
          "name": "stdout",
          "text": [
            "result is <Response [200]>\n",
            "the full url used was\n",
            " https://earthquake.usgs.gov/fdsnws/event/1/count?format=geojson&starttime=2025-01-01&endtime=2025-02-01&minmagnitude=2.2&latitude=34.0967&longitude=-117.7198&maxradiuskm=300\n"
          ]
        }
      ],
      "source": [
        "#\n",
        "# How many quakes of magnitude >= 4.2 have been within 300km of Claremont\n",
        "#     + in Jan 2025\n",
        "#     + in Dec 2025\n",
        "#\n",
        "url = \"https://earthquake.usgs.gov/fdsnws/event/1/count\"\n",
        "\n",
        "# Let's use variables for three of the parameters:\n",
        "min_mag = 2.2           # the minimum magnitude considered a quake (min_mag)\n",
        "start_time = \"2025-01-01\"   # this is the year-month-day format of the start\n",
        "finish_time = \"2025-02-01\"  # similar for the end\n",
        "# start_time = \"2024-01-01\"   # similar, but for a year-CS35_Participant_2 span...\n",
        "# finish_time = \"2025-01-01\"  # similar for the end\n",
        "radius_in_km = 300\n",
        "\n",
        "# we assemble a dictionary of our parameters, let's name it param_dictionary\n",
        "# there are many more parameters available. The problems below ask you to explore them...\n",
        "param_dictionary = { \"format\":\"geojson\",         # this is simply hard-coded to obtain json\n",
        "                     \"starttime\":start_time,\n",
        "                     \"endtime\":finish_time,\n",
        "                     \"minmagnitude\":min_mag,\n",
        "                     \"latitude\":34.0967,\n",
        "                     \"longitude\":-117.7198,\n",
        "                     \"maxradiuskm\":radius_in_km,\n",
        "                     }\n",
        "\n",
        "# Here, we use requests to make the request. The parameters will be added by this API call:\n",
        "result = requests.get(url, params=param_dictionary)\n",
        "print(f\"result is {result}\")                     # hopefully, this is 200\n",
        "print(f\"the full url used was\\n {result.url}\")   # this will include the parameters!\n",
        "\n",
        "# We'll extract the final result in another cell:"
      ]
    },
    {
      "cell_type": "code",
      "execution_count": 74,
      "metadata": {
        "id": "aA3gkJ5zWq_i",
        "outputId": "5b90ccf6-44d0-442b-ad7e-751de675cab9",
        "colab": {
          "base_uri": "https://localhost:8080/"
        }
      },
      "outputs": [
        {
          "output_type": "stream",
          "name": "stdout",
          "text": [
            "quake_count = {'count': 70, 'maxAllowed': 20000}\n"
          ]
        }
      ],
      "source": [
        "# Let's finish up here:\n",
        "quake_count = result.json()\n",
        "print(f\"{quake_count = }\")"
      ]
    },
    {
      "cell_type": "markdown",
      "metadata": {
        "id": "UELKFeTOWq_i"
      },
      "source": [
        "<font color=\"Coral\"><b>Try this, task \"0b\"</b></font>  &nbsp;&nbsp;\n",
        "+ Would you expect more or fewer quakes if a minimum magnitude of 2.2 were used?\n",
        "+ Try the above cells again for a minimum magnitude of 2.2 -- if that the difference you'd expect?"
      ]
    },
    {
      "cell_type": "markdown",
      "source": [
        "I expect more! As the minimum magnitude will also count everything above 4.2 and also between 2.2 and 4.2.\n",
        "And I am right :)"
      ],
      "metadata": {
        "id": "4bcjOtSynyp6"
      }
    },
    {
      "cell_type": "markdown",
      "metadata": {
        "id": "LmQcm1ulWq_i"
      },
      "source": [
        "<font color=\"DodgerBlue\"><b>Quake-counting Results:</b></font>\n",
        "\n",
        "#### Number of Claremont-centric quakes\n",
        "  + <u>Overall</u> The API calls to the USGS showed that, within 300km of Claremont, there were\n",
        "    + 1 quake of magnitude 4.2 or larger within 300km of Claremont in Jan '25\n",
        "    + more quakes  of magitude 2.2 or larger within 300km of Claremont in Jan '25 <br><br>\n",
        "  + <u>Reflection</u>: _This is not enough data to establish a trend. (I hope!)_ That said, for the hw, you should include a **loop** over at least 10 values, as well as a text-formatted set of values. (It's ok for the output values to be in the computational cell(s), not the markdown cell. The markdown is really for reflection on results than reporting of results.) <br><br>\n",
        "  + <u>Opportunities</u>: In fact, there are lots of values over which the USGS API allows to vary. For example,  minmagnitude (or maxmagnitude), radius, location (lat/CS35_Participant_2), months (or other time-measurements) - and others. In addition, there is the chance to look at the details of each quake using the ``query`` endpoint. <br><br>"
      ]
    },
    {
      "cell_type": "markdown",
      "metadata": {
        "id": "EmTPST-5Wq_i"
      },
      "source": [
        "Looping over API calls to gather data will be one of the hw problems.\n",
        "\n",
        "<hr>\n",
        "\n",
        "#### The ``query`` endpoint\n",
        "\n",
        "Let's see, too, that it's possible to obtain, not only a <i>count</i>, but also a <b>\"full report\"</b> of all of the earthquakes.\n",
        "\n",
        "To do so, the only change needed is from the endpoint ``count`` to the endpoint ``query``\n",
        "\n",
        "First, try it \"by hand\" -- by opening this url in your browser:\n",
        "\n",
        "[https://earthquake.usgs.gov/fdsnws/event/1/query?format=geojson&minmagnitude=6.8&starttime=2024-01-01&endtime=2024-02-01](https://earthquake.usgs.gov/fdsnws/event/1/query?format=geojson&minmagnitude=6.8&starttime=2024-01-01&endtime=2024-02-01)\n",
        "\n",
        "Take a look -- there is a lot more data!  \n",
        "\n",
        "Next, let's try it programmatically:"
      ]
    },
    {
      "cell_type": "code",
      "execution_count": 58,
      "metadata": {
        "id": "OXgxz56dWq_i",
        "outputId": "bd1345c9-ce35-4410-d407-0c6f9c837c0a",
        "colab": {
          "base_uri": "https://localhost:8080/"
        }
      },
      "outputs": [
        {
          "output_type": "stream",
          "name": "stdout",
          "text": [
            "result is <Response [200]>\n",
            "the full url used was\n",
            " https://earthquake.usgs.gov/fdsnws/event/1/query?format=geojson&starttime=2025-01-01&endtime=2025-02-01&minmagnitude=6.5\n"
          ]
        }
      ],
      "source": [
        "#\n",
        "# Here is the endpoint\n",
        "#\n",
        "url = \"https://earthquake.usgs.gov/fdsnws/event/1/query\"\n",
        "\n",
        "# Let's use variables for three of the parameters:\n",
        "min_mag = 6.5               # the minimum magnitude considered a quake (min_mag)\n",
        "start_time = \"2025-01-01\"   # this is the year-month-day format of the start\n",
        "finish_time = \"2025-02-01\"  # similar for the end\n",
        "\n",
        "# we assemble a dictionary of our parameters, let's name it param_dictionary\n",
        "# there are many more parameters available. The problems below ask you to explore them...\n",
        "param_dictionary = { \"format\":\"geojson\",         # this is simply hard-coded to obtain json\n",
        "                     \"starttime\":start_time,\n",
        "                     \"endtime\":finish_time,\n",
        "                     \"minmagnitude\":min_mag,\n",
        "                     }\n",
        "\n",
        "# Here, we use requests to make the request. The parameters will be added by this API call:\n",
        "result = requests.get(url, params=param_dictionary)\n",
        "print(f\"result is {result}\")                     # hopefully, this is 200\n",
        "print(f\"the full url used was\\n {result.url}\")   # this will include the parameters!"
      ]
    },
    {
      "cell_type": "code",
      "execution_count": 59,
      "metadata": {
        "id": "SSrNllMBWq_i",
        "outputId": "f4784195-cd74-450f-c275-a9c1a7b84f84",
        "colab": {
          "base_uri": "https://localhost:8080/"
        }
      },
      "outputs": [
        {
          "output_type": "stream",
          "name": "stdout",
          "text": [
            "JSON returned was d = {'type': 'FeatureCollection', 'metadata': {'generated': 1739505819000, 'url': 'https://earthquake.usgs.gov/fdsnws/event/1/query?format=geojson&starttime=2025-01-01&endtime=2025-02-01&minmagnitude=6.5', 'title': 'USGS Earthquakes', 'status': 200, 'api': '1.14.1', 'count': 2}, 'features': [{'type': 'Feature', 'properties': {'mag': 6.8, 'place': '12 km ESE of Miyazaki, Japan', 'time': 1736770772300, 'updated': 1738679872023, 'tz': None, 'url': 'https://earthquake.usgs.gov/earthquakes/eventpage/us6000pjny', 'detail': 'https://earthquake.usgs.gov/fdsnws/event/1/query?eventid=us6000pjny&format=geojson', 'felt': 35, 'cdi': 8.5, 'mmi': 6.206, 'alert': 'green', 'status': 'reviewed', 'tsunami': 1, 'sig': 741, 'net': 'us', 'code': '6000pjny', 'ids': ',at00sq10wm,pt25013000,us6000pjny,usauto6000pjny,', 'sources': ',at,pt,us,usauto,', 'types': ',dyfi,ground-failure,impact-link,impact-text,internal-moment-tensor,internal-origin,losspager,moment-tensor,origin,phase-data,shakemap,', 'nst': 151, 'dmin': 0.98, 'rms': 0.99, 'gap': 18, 'magType': 'mww', 'type': 'earthquake', 'title': 'M 6.8 - 12 km ESE of Miyazaki, Japan'}, 'geometry': {'type': 'Point', 'coordinates': [131.53, 31.8525, 39]}, 'id': 'us6000pjny'}, {'type': 'Feature', 'properties': {'mag': 7.1, 'place': '2025 Southern Tibetan Plateau Earthquake', 'time': 1736211916716, 'updated': 1738121358298, 'tz': None, 'url': 'https://earthquake.usgs.gov/earthquakes/eventpage/us6000pi9w', 'detail': 'https://earthquake.usgs.gov/fdsnws/event/1/query?eventid=us6000pi9w&format=geojson', 'felt': 864, 'cdi': 9.1, 'mmi': 9.212, 'alert': 'red', 'status': 'reviewed', 'tsunami': 0, 'sig': 2786, 'net': 'us', 'code': '6000pi9w', 'ids': ',us6000pi9w,usauto6000pi9w,pt25007000,', 'sources': ',us,usauto,pt,', 'types': ',dyfi,earthquake-name,finite-fault,general-text,ground-failure,impact-text,internal-moment-tensor,internal-origin,losspager,moment-tensor,origin,phase-data,shakemap,', 'nst': 315, 'dmin': 3.47, 'rms': 0.57, 'gap': 17, 'magType': 'mww', 'type': 'earthquake', 'title': 'M 7.1 - 2025 Southern Tibetan Plateau Earthquake'}, 'geometry': {'type': 'Point', 'coordinates': [87.375, 28.5733, 10]}, 'id': 'us6000pi9w'}], 'bbox': [87.375, 28.5733, 10, 131.53, 31.8525, 39]}\n"
          ]
        }
      ],
      "source": [
        "# If it worked, we should be able to see the json results:\n",
        "\n",
        "d = result.json()\n",
        "print(f\"JSON returned was {d = }\")"
      ]
    },
    {
      "cell_type": "code",
      "execution_count": 60,
      "metadata": {
        "id": "KMiyZ_zlWq_i",
        "outputId": "1cf15924-4bcf-4afc-867c-57c3598aa62b",
        "colab": {
          "base_uri": "https://localhost:8080/"
        }
      },
      "outputs": [
        {
          "output_type": "stream",
          "name": "stdout",
          "text": [
            "{\"type\": \"FeatureCollection\", \"metadata\": {\"generated\": 1739505819000, \"url\": \"https://earthquake.usgs.gov/fdsnws/event/1/query?format=geojson&starttime=2025-01-01&endtime=2025-02-01&minmagnitude=6.5\", \"title\": \"USGS Earthquakes\", \"status\": 200, \"api\": \"1.14.1\", \"count\": 2}, \"features\": [{\"type\": \"Feature\", \"properties\": {\"mag\": 6.8, \"place\": \"12 km ESE of Miyazaki, Japan\", \"time\": 1736770772300, \"updated\": 1738679872023, \"tz\": null, \"url\": \"https://earthquake.usgs.gov/earthquakes/eventpage/us6000pjny\", \"detail\": \"https://earthquake.usgs.gov/fdsnws/event/1/query?eventid=us6000pjny&format=geojson\", \"felt\": 35, \"cdi\": 8.5, \"mmi\": 6.206, \"alert\": \"green\", \"status\": \"reviewed\", \"tsunami\": 1, \"sig\": 741, \"net\": \"us\", \"code\": \"6000pjny\", \"ids\": \",at00sq10wm,pt25013000,us6000pjny,usauto6000pjny,\", \"sources\": \",at,pt,us,usauto,\", \"types\": \",dyfi,ground-failure,impact-link,impact-text,internal-moment-tensor,internal-origin,losspager,moment-tensor,origin,phase-data,shakemap,\", \"nst\": 151, \"dmin\": 0.98, \"rms\": 0.99, \"gap\": 18, \"magType\": \"mww\", \"type\": \"earthquake\", \"title\": \"M 6.8 - 12 km ESE of Miyazaki, Japan\"}, \"geometry\": {\"type\": \"Point\", \"coordinates\": [131.53, 31.8525, 39]}, \"id\": \"us6000pjny\"}, {\"type\": \"Feature\", \"properties\": {\"mag\": 7.1, \"place\": \"2025 Southern Tibetan Plateau Earthquake\", \"time\": 1736211916716, \"updated\": 1738121358298, \"tz\": null, \"url\": \"https://earthquake.usgs.gov/earthquakes/eventpage/us6000pi9w\", \"detail\": \"https://earthquake.usgs.gov/fdsnws/event/1/query?eventid=us6000pi9w&format=geojson\", \"felt\": 864, \"cdi\": 9.1, \"mmi\": 9.212, \"alert\": \"red\", \"status\": \"reviewed\", \"tsunami\": 0, \"sig\": 2786, \"net\": \"us\", \"code\": \"6000pi9w\", \"ids\": \",us6000pi9w,usauto6000pi9w,pt25007000,\", \"sources\": \",us,usauto,pt,\", \"types\": \",dyfi,earthquake-name,finite-fault,general-text,ground-failure,impact-text,internal-moment-tensor,internal-origin,losspager,moment-tensor,origin,phase-data,shakemap,\", \"nst\": 315, \"dmin\": 3.47, \"rms\": 0.57, \"gap\": 17, \"magType\": \"mww\", \"type\": \"earthquake\", \"title\": \"M 7.1 - 2025 Southern Tibetan Plateau Earthquake\"}, \"geometry\": {\"type\": \"Point\", \"coordinates\": [87.375, 28.5733, 10]}, \"id\": \"us6000pi9w\"}], \"bbox\": [87.375, 28.5733, 10, 131.53, 31.8525, 39]}\n"
          ]
        }
      ],
      "source": [
        "#\n",
        "# That's hard to read!\n",
        "# Let's pretty-print it with the json library\n",
        "#       Also, this version can be pasted into online formatters, e.g., https://jsonformatter.org/\n",
        "\n",
        "import json\n",
        "nice_string = json.dumps(d)   # this outputs a \"nicely formatted string\" using double quotes\n",
        "print(nice_string)\n",
        "\n"
      ]
    },
    {
      "cell_type": "markdown",
      "metadata": {
        "id": "_OtHEV64Wq_i"
      },
      "source": [
        "but, we can do better!\n",
        "\n",
        "the \"dump string\" function, json.dumps, can output the formatted version, too...\n"
      ]
    },
    {
      "cell_type": "code",
      "execution_count": 75,
      "metadata": {
        "id": "FOg5YVzhWq_i",
        "outputId": "9a5292bb-52d8-42f7-a451-c8400edc7b56",
        "colab": {
          "base_uri": "https://localhost:8080/"
        },
        "collapsed": true
      },
      "outputs": [
        {
          "output_type": "stream",
          "name": "stdout",
          "text": [
            "{\n",
            "    \"type\": \"FeatureCollection\",\n",
            "    \"metadata\": {\n",
            "        \"generated\": 1739505819000,\n",
            "        \"url\": \"https://earthquake.usgs.gov/fdsnws/event/1/query?format=geojson&starttime=2025-01-01&endtime=2025-02-01&minmagnitude=6.5\",\n",
            "        \"title\": \"USGS Earthquakes\",\n",
            "        \"status\": 200,\n",
            "        \"api\": \"1.14.1\",\n",
            "        \"count\": 2\n",
            "    },\n",
            "    \"features\": [\n",
            "        {\n",
            "            \"type\": \"Feature\",\n",
            "            \"properties\": {\n",
            "                \"mag\": 6.8,\n",
            "                \"place\": \"12 km ESE of Miyazaki, Japan\",\n",
            "                \"time\": 1736770772300,\n",
            "                \"updated\": 1738679872023,\n",
            "                \"tz\": null,\n",
            "                \"url\": \"https://earthquake.usgs.gov/earthquakes/eventpage/us6000pjny\",\n",
            "                \"detail\": \"https://earthquake.usgs.gov/fdsnws/event/1/query?eventid=us6000pjny&format=geojson\",\n",
            "                \"felt\": 35,\n",
            "                \"cdi\": 8.5,\n",
            "                \"mmi\": 6.206,\n",
            "                \"alert\": \"green\",\n",
            "                \"status\": \"reviewed\",\n",
            "                \"tsunami\": 1,\n",
            "                \"sig\": 741,\n",
            "                \"net\": \"us\",\n",
            "                \"code\": \"6000pjny\",\n",
            "                \"ids\": \",at00sq10wm,pt25013000,us6000pjny,usauto6000pjny,\",\n",
            "                \"sources\": \",at,pt,us,usauto,\",\n",
            "                \"types\": \",dyfi,ground-failure,impact-link,impact-text,internal-moment-tensor,internal-origin,losspager,moment-tensor,origin,phase-data,shakemap,\",\n",
            "                \"nst\": 151,\n",
            "                \"dmin\": 0.98,\n",
            "                \"rms\": 0.99,\n",
            "                \"gap\": 18,\n",
            "                \"magType\": \"mww\",\n",
            "                \"type\": \"earthquake\",\n",
            "                \"title\": \"M 6.8 - 12 km ESE of Miyazaki, Japan\"\n",
            "            },\n",
            "            \"geometry\": {\n",
            "                \"type\": \"Point\",\n",
            "                \"coordinates\": [\n",
            "                    131.53,\n",
            "                    31.8525,\n",
            "                    39\n",
            "                ]\n",
            "            },\n",
            "            \"id\": \"us6000pjny\"\n",
            "        },\n",
            "        {\n",
            "            \"type\": \"Feature\",\n",
            "            \"properties\": {\n",
            "                \"mag\": 7.1,\n",
            "                \"place\": \"2025 Southern Tibetan Plateau Earthquake\",\n",
            "                \"time\": 1736211916716,\n",
            "                \"updated\": 1738121358298,\n",
            "                \"tz\": null,\n",
            "                \"url\": \"https://earthquake.usgs.gov/earthquakes/eventpage/us6000pi9w\",\n",
            "                \"detail\": \"https://earthquake.usgs.gov/fdsnws/event/1/query?eventid=us6000pi9w&format=geojson\",\n",
            "                \"felt\": 864,\n",
            "                \"cdi\": 9.1,\n",
            "                \"mmi\": 9.212,\n",
            "                \"alert\": \"red\",\n",
            "                \"status\": \"reviewed\",\n",
            "                \"tsunami\": 0,\n",
            "                \"sig\": 2786,\n",
            "                \"net\": \"us\",\n",
            "                \"code\": \"6000pi9w\",\n",
            "                \"ids\": \",us6000pi9w,usauto6000pi9w,pt25007000,\",\n",
            "                \"sources\": \",us,usauto,pt,\",\n",
            "                \"types\": \",dyfi,earthquake-name,finite-fault,general-text,ground-failure,impact-text,internal-moment-tensor,internal-origin,losspager,moment-tensor,origin,phase-data,shakemap,\",\n",
            "                \"nst\": 315,\n",
            "                \"dmin\": 3.47,\n",
            "                \"rms\": 0.57,\n",
            "                \"gap\": 17,\n",
            "                \"magType\": \"mww\",\n",
            "                \"type\": \"earthquake\",\n",
            "                \"title\": \"M 7.1 - 2025 Southern Tibetan Plateau Earthquake\"\n",
            "            },\n",
            "            \"geometry\": {\n",
            "                \"type\": \"Point\",\n",
            "                \"coordinates\": [\n",
            "                    87.375,\n",
            "                    28.5733,\n",
            "                    10\n",
            "                ]\n",
            "            },\n",
            "            \"id\": \"us6000pi9w\"\n",
            "        }\n",
            "    ],\n",
            "    \"bbox\": [\n",
            "        87.375,\n",
            "        28.5733,\n",
            "        10,\n",
            "        131.53,\n",
            "        31.8525,\n",
            "        39\n",
            "    ]\n",
            "}\n"
          ]
        }
      ],
      "source": [
        "import json\n",
        "nicer_string = json.dumps(d, indent=4)   # We can specify the indentation.\n",
        "print(nicer_string)                      # It's another tree structure... !"
      ]
    },
    {
      "cell_type": "markdown",
      "metadata": {
        "id": "pp0aDUfzWq_i"
      },
      "source": [
        "<font color=\"Coral\"><b>Try this, also for Task 0b</b></font>  &nbsp;&nbsp;\n",
        "+ Look through the response to find where and when the largest eathquake was, in the previous year\n",
        "+ What was its magnitude?\n",
        "+ (optional) Do you see a way that - just by making small changes and re-running - you could find the second-biggest quake of '24?  Perhaps try it...  🦔"
      ]
    },
    {
      "cell_type": "markdown",
      "source": [],
      "metadata": {
        "id": "ru5tzjpjpuOy"
      }
    },
    {
      "cell_type": "markdown",
      "source": [
        "the largest earthquake last year was... at 2025 Southern Tibetan Plateau Earthquake and the magnitude was 7.1"
      ],
      "metadata": {
        "id": "7vHDaF85pxCp"
      }
    },
    {
      "cell_type": "markdown",
      "metadata": {
        "id": "0YVO8t93Wq_i"
      },
      "source": [
        "<br>\n",
        "<hr>\n",
        "<br>\n",
        "\n",
        "\n",
        "\n",
        "#### Launching into hw2's challenges:\n",
        "+ <font color=\"Coral\"><b>Tasks1-2</b></font> &nbsp;&nbsp; ISS challenges:\n",
        "  + ``ISS_now()`` which will find and return the ISS's lat/CS35_Participant_2 (as floats)\n",
        "    + use the earlier examples as a starting point...\n",
        "  + ``ISS_distance()`` which will return the distance of the ISS from a city of your choice (a constant city, not a variable). It can be Claremont, but doesn't have to be. This will require using the <i>haversine</i> distance for global lat/CS35_Participant_2 coordinates...\n",
        "+ <font color=\"Coral\"><b>Tasks3-4</b></font> &nbsp;&nbsp; Earthquake challenges:\n",
        "  + ``Quake_loop()`` which will loop over a parameter of your choice, print a formatted list of quake-count data, and return that list\n",
        "  + ``Quake_compare(place1, place2)`` which will ask - and answer - a comparative question about \"quakiness\" for two different places, using the quake data...\n",
        "    + Here, the goal is to define which of the two places is \"quakiest.\"\n",
        "    + Notice that the definition of \"quakiest\" is up to you...\n",
        "    + The inputs, place1 and place2, can be lat/CS35_Participant_2 pairs - or strings, which then get looked up...\n",
        "\n",
        "<br>\n",
        "\n",
        "#### <font color=\"Coral\"><b>Task5</b></font> &nbsp;&nbsp; Open-ended, two-hop challenge\n",
        "\n",
        "Then, you'll choose or create an open-ended API task -- or create a variant of your own design from at least two APIs - or \"scrapes\" - of your choice.\n",
        "+ The key constraint is to be sure you meaningfully use the  <font color=\"DodgerBlue\">result</font>  from the first API call in order to customize the request of the second API call.\n",
        "+ Then, with the result of that second API call, interpret the data obtained to make a final \"statement\" -- which can be anywhere amid serious, silly, surreal -- that combines the two API insights.\n",
        "+ See below for a far-fetched superbowl-themed idea...\n",
        "\n",
        "\n"
      ]
    },
    {
      "cell_type": "code",
      "execution_count": 78,
      "metadata": {
        "id": "vxDUDuyFWq_i",
        "colab": {
          "base_uri": "https://localhost:8080/"
        },
        "outputId": "9eb07ba8-7145-41c7-f7f8-22bdda1a1c1a"
      },
      "outputs": [
        {
          "output_type": "execute_result",
          "data": {
            "text/plain": [
              "(32.9203, 21.8542)"
            ]
          },
          "metadata": {},
          "execution_count": 78
        }
      ],
      "source": [
        "#\n",
        "# hw2: ISS tasks 1 and 2 ...\n",
        "#\n",
        "# Two functions:  ISS_now(), ISS_distance()\n",
        "\n",
        "#\n",
        "# Use the ISS examples above to write a function, named\n",
        "#\n",
        "#      ISS_now()\n",
        "#\n",
        "# that uses requests to return the current latitude and longitude -- as floating-point values -- right now.\n",
        "# Be sure to test it!"
      ]
    },
    {
      "cell_type": "markdown",
      "metadata": {
        "id": "CJbcjz0NWq_i"
      },
      "source": [
        "Feel free to create some new cells around this area to write and test ``ISS_now()`` ..."
      ]
    },
    {
      "cell_type": "code",
      "source": [
        "def ISS_now():\n",
        "  lat = float(json_contents['iss_position']['latitude'])\n",
        "  CS35_Participant_2 = float(json_contents['iss_position']['longitude'])\n",
        "  return lat, CS35_Participant_2\n",
        "\n",
        "# ISS_now()"
      ],
      "metadata": {
        "id": "RiT5du9b26I6"
      },
      "execution_count": null,
      "outputs": []
    },
    {
      "cell_type": "code",
      "execution_count": 81,
      "metadata": {
        "id": "z100VhZqWq_i"
      },
      "outputs": [],
      "source": [
        "#\n",
        "# Once your ISS_now() function is working, write a new function\n",
        "#\n",
        "#       ISS_distance()\n",
        "#\n",
        "# which uses ISS_now to obtain the lat/CS35_Participant_2 of the ISS and then\n",
        "# uses the haversine distance (look up a Python implementation or use one of ours... :)\n",
        "# to compute the ISS's distance from a city of your choice.\n",
        "#\n",
        "# The haversine distance computes the \"great circle\" distance from two points on the globe\n",
        "#     using latitude and longitude\n",
        "#"
      ]
    },
    {
      "cell_type": "markdown",
      "metadata": {
        "id": "2eaHbgoNWq_i"
      },
      "source": [
        "Feel free to create some new cells around this area to write and test ``ISS_distance()`` ..."
      ]
    },
    {
      "cell_type": "code",
      "source": [
        "def ISS_distance():\n",
        "  lat1, long1 = ISS_now()\n",
        "  #choosen lat/CS35_Participant_2 values...\n",
        "  lat2 = 34.0967\n",
        "  long2 = -117.7198\n",
        "  # convert decimal degrees to radians\n",
        "  long1, lat1, long2, lat2 = map(radians, [long1, lat1, long2, lat2])\n",
        "  # haversine formula\n",
        "  dlong = long2 - long1\n",
        "  dlat = lat2 - lat1\n",
        "  trig = sin(dlat/2)**2 + cos(lat1) * cos(lat2) * sin(dlong/2)**2\n",
        "  # Radius of earth. Use 3956 for miles. 6371 for km.\n",
        "  radius = 3956  # we'll use miles!\n",
        "  final = radius * 2 * asin(sqrt(trig))\n",
        "  return final\n",
        "# ISS_distance()"
      ],
      "metadata": {
        "id": "8nx6LnNM24X8"
      },
      "execution_count": 96,
      "outputs": []
    },
    {
      "cell_type": "code",
      "execution_count": 64,
      "metadata": {
        "id": "lw1hFHp4Wq_j"
      },
      "outputs": [],
      "source": [
        "#\n",
        "# Open-ended possibility:\n",
        "#    (a) create a new function ISS_distance(place) that takes in a place name\n",
        "#    (b) find a service by which you can look up the lat + CS35_Participant_2 using the place name\n",
        "#         (b*)  I'm not sure how to do this - it's exploratory!\n",
        "#    (c) then, continue with the previous computation to find the ISS distance! :)\n",
        "#\n",
        "\n",
        "# The final problem of this hw2 is to take on _ONE_ open-ended possibility.\n",
        "#     (This ISS-themed one is only the first possibility.)\n",
        "#     Others, below, involve earthquakes, or your own choice of API exploration..."
      ]
    },
    {
      "cell_type": "markdown",
      "metadata": {
        "id": "6znIlN9eWq_j"
      },
      "source": [
        "#### USGS Challenges\n",
        "\n",
        "Tasks 3 and 4 use the earthquake API"
      ]
    },
    {
      "cell_type": "code",
      "execution_count": 65,
      "metadata": {
        "id": "YZVR91IOWq_j"
      },
      "outputs": [],
      "source": [
        "#\n",
        "# hw2: USGS Tasks 3 and 4 ...\n",
        "#\n",
        "# Two functions:  Quake_loop(), Quake_compare(place1, place2)\n",
        "\n",
        "#\n",
        "# Use the USGS (earthquake) examples above to write a function, named\n",
        "#\n",
        "#      Quake_loop()\n",
        "#\n",
        "# that uses requests within a loop of your own design in order to\n",
        "#   + obtain at least 10 distinct, comparable data elements (counts are encouraged; other items ok)\n",
        "#   + see the assignment page for an example where the looping iterates over the _month_\n",
        "#\n",
        "#   + choose your favorite parameter(s) to vary, e.g., magnitude, time, radius, location, etc.\n",
        "#   + it should collect all of those data elements into a list\n",
        "#   + and render the list in a neatly formatted chart (f-strings welcome; not required)\n",
        "#\n",
        "#   + in addition, include a overall reflection on the results, as well as a comment on additional effort\n",
        "#     that could expand your results (you need not run it), and any concerns or caveats about the data...\n",
        "#   + feel free to copy-paste-edit the markdown \"reflection-template,\" above"
      ]
    },
    {
      "cell_type": "code",
      "source": [
        "import requests\n",
        "import time\n",
        "\n",
        "def Quake_loop(year, min_mag,max_mag):\n",
        "  \"\"\" returns the number of quakes in a year\n",
        "  within the given magnitude\"\"\"\n",
        "\n",
        "  url = \"https://earthquake.usgs.gov/fdsnws/event/1/count\"\n",
        "  min_mag = min_mag\n",
        "  max_mag = max_mag\n",
        "  start_time = f\"{year:02d}-01-01\"\n",
        "  finish_time = f\"{year:02d}-12-01\"\n",
        "  param_dictionary = { \"format\":\"geojson\",\n",
        "                      \"starttime\":start_time,\n",
        "                      \"endtime\":finish_time,\n",
        "                      \"minmagnitude\":min_mag,\n",
        "                      \"maxmagnitude\":max_mag,\n",
        "                    }\n",
        "\n",
        "  time.sleep(2)\n",
        "  result = requests.get(url, params=param_dictionary)\n",
        "  d = result.json()\n",
        "  number_of_quakes = d['count']\n",
        "  print(f\"The results for {year = } were {number_of_quakes = }\")\n",
        "  return number_of_quakes\n",
        "\n",
        "\n",
        "LoQ = []\n",
        "for year in range(2005,2015):\n",
        "  min_mag = 4.2\n",
        "  max_mag = 6.0\n",
        "\n",
        "  result = Quake_loop(year,min_mag,max_mag)\n",
        "  LoQ += [result]\n",
        "\n",
        "print(f\"The list of quake-numbers is {LoQ = }\")\n",
        "\n",
        "\"\"\"comments:\n",
        "\n",
        "year 2009 is supprisingly low on earthquakes within 4.2 and 6.0!\n",
        "It is definently not a stable number, thoughout this 10 years but\n",
        "the year that I was born, 2006, has a very average and normal number\n",
        "of earthqueakes within the range.\n",
        "This has a lot of help from the sample code in the doc.\n",
        "\"\"\""
      ],
      "metadata": {
        "colab": {
          "base_uri": "https://localhost:8080/"
        },
        "id": "YedTtYklthjb",
        "outputId": "951fe44d-e7f1-4037-c0f7-a10de2b8c7d2"
      },
      "execution_count": 98,
      "outputs": [
        {
          "output_type": "stream",
          "name": "stdout",
          "text": [
            "The results for year = 2005 were number_of_quakes = 12133\n",
            "The results for year = 2006 were number_of_quakes = 10931\n",
            "The results for year = 2007 were number_of_quakes = 10791\n",
            "The results for year = 2008 were number_of_quakes = 10123\n",
            "The results for year = 2009 were number_of_quakes = 7410\n",
            "The results for year = 2010 were number_of_quakes = 9309\n",
            "The results for year = 2011 were number_of_quakes = 12903\n",
            "The results for year = 2012 were number_of_quakes = 9807\n",
            "The results for year = 2013 were number_of_quakes = 10246\n",
            "The results for year = 2014 were number_of_quakes = 13453\n",
            "The list of quake-numbers is LoQ = [12133, 10931, 10791, 10123, 7410, 9309, 12903, 9807, 10246, 13453]\n"
          ]
        }
      ]
    },
    {
      "cell_type": "markdown",
      "metadata": {
        "id": "dY1jrm77Wq_j"
      },
      "source": [
        "Feel free to create some new cells around this area to write and test ``Quake_loop()`` ..."
      ]
    },
    {
      "cell_type": "code",
      "execution_count": 66,
      "metadata": {
        "id": "mw-EgwxNWq_j"
      },
      "outputs": [],
      "source": [
        "#\n",
        "# Once your Quake_loop() function is working, write a new function\n",
        "#\n",
        "#       Quake_compare(place1, place2)\n",
        "#\n",
        "# where place1 should be a 2-element tuple:  (latitude1, longitude1)\n",
        "# and  place2 should be a 2-element tuple:  (latitude2, longitude2)\n",
        "#\n",
        "# and then your function should compare which of the two places is \"quakier\" (not a real word)\n",
        "# for a given time span (you choose), and a given strength-of-quakes (you choose), and\n",
        "# for a specific radius around each of the two places (you choose)\n",
        "#\n",
        "# As is clear, there is lots of freedom to design a \"comparison of quakiness\" -- wonderful!\n",
        "# Feel free to start somewhere, and tune the results.\n",
        "#\n",
        "# Your function should print the results it finds (in this case, it's not important to return\n",
        "# and specific value -- though you're encouraged (not required) to create a helper function and\n",
        "# then call it twice for the two locations! (That helper function would need a return value!)\n",
        "#\n",
        "#\n"
      ]
    },
    {
      "cell_type": "markdown",
      "metadata": {
        "id": "OWacnpFuWq_j"
      },
      "source": [
        "Feel free to create some new cells around this area to write and test ``Quake_compare(place1, place2)`` ..."
      ]
    },
    {
      "cell_type": "code",
      "execution_count": 185,
      "metadata": {
        "id": "7h5Iwk1vWq_j",
        "colab": {
          "base_uri": "https://localhost:8080/"
        },
        "outputId": "c4e8efc2-c995-49af-d71c-63a9cbe1a7c7"
      },
      "outputs": [
        {
          "output_type": "stream",
          "name": "stdout",
          "text": [
            "place1 is quakier\n"
          ]
        }
      ],
      "source": [
        "def Quake_compare(place1, place2):\n",
        "  s_time,e_time = \"2025-01-01\",\"2025-02-01\"\n",
        "  min_mag = 4.2\n",
        "  max_mag = 6.0\n",
        "  rad = 100\n",
        "  quakier1 = helper(place1,s_time,e_time,min_mag,max_mag,rad)\n",
        "  quakier2 = helper(place2,s_time,e_time,min_mag,max_mag,rad)\n",
        "  if quakier1 > quakier2:\n",
        "    print(\"place1 is quakier\")\n",
        "  else:\n",
        "    print(\"place2 is quakier\")\n",
        "\n",
        "def helper(place,s_time,e_time,min_mag,max_mag,rad):\n",
        "  url = \"https://earthquake.usgs.gov/fdsnws/event/1/count\"\n",
        "  min_mag = min_mag\n",
        "  max_mag = max_mag\n",
        "  start_time = s_time\n",
        "  finish_time = e_time\n",
        "  param_dictionary = { \"format\":\"geojson\",\n",
        "                      \"starttime\":start_time,\n",
        "                      \"endtime\":finish_time,\n",
        "                      \"minmagnitude\":min_mag,\n",
        "                      \"maxmagnitude\":max_mag,\n",
        "                      \"maxradius\":rad,\n",
        "                      \"latitude\":place[0],\n",
        "                      \"longitude\":place[1]\n",
        "                    }\n",
        "  time.sleep(2)\n",
        "  result = requests.get(url, params=param_dictionary)\n",
        "  d = result.json()\n",
        "  number_of_quakes = d['count']\n",
        "  #print(\"The results for latitude of\",place[0], \"longitude of\",place[1], f\"were {number_of_quakes = }\")\n",
        "  return number_of_quakes\n",
        "\n",
        "\n",
        "coordinates1 = (34.0967, -117.7198) #randome places lol\n",
        "coordinates2 = (40.7128, -74.0060)\n",
        "Quake_compare(coordinates1,coordinates2)"
      ]
    },
    {
      "cell_type": "markdown",
      "metadata": {
        "id": "kUmMUX-rWq_j"
      },
      "source": [
        "#### Final API challenge:  an open-ended, two-hop API task...\n",
        "\n",
        "<font color=\"Coral\">Key constraint: _Use two hops!_</font>  &nbsp;&nbsp; Be sure to dome something that uses two separate API calls, in which the results of the first affect the second - culminating in an aggregate, overall result.\n",
        "\n",
        "Possibilities:\n",
        "  + You should use at least one other API. (See the hw2 page for links to many.)\n",
        "      + The [Poke API](https://pokeapi.co/)  or [one of these](https://medium.com/codex/15-fun-and-interesting-apis-to-use-for-your-next-coding-project-in-2022-86a4ff3a2742) or [one of the many, many more!](https://github.com/public-apis/public-apis)\n",
        "  + That said, <u><b>one</b></u> of the two can be ISS or USGS, as you used above.\n",
        "\n",
        "\n",
        "\n",
        "<font size=\"-2\">PS. My example of this is in ``superbowl_prediction.ipynb`` with the starter files. It used to be here, but it was too clutter-y... .</font>\n",
        "\n",
        "<br><hr><br>\n",
        "\n",
        "Big-picture, an important part of using API calls is gathering a _specific piece_ of data from an otherwise too-large ocean of raw material. That element then allows you to express a natural _next_ specific question, obtain its relevant data, and continue to build from there, with each round-trip branching into additional (possible) questions... .\n",
        "\n",
        "<br>\n",
        "\n",
        "Good luck API'ing!!\n",
        "\n",
        "<br>\n",
        "\n"
      ]
    },
    {
      "cell_type": "code",
      "execution_count": 160,
      "metadata": {
        "id": "4IrmllXBWq_j",
        "colab": {
          "base_uri": "https://localhost:8080/"
        },
        "outputId": "87e6db31-3102-4546-e10d-61b2895ceb35"
      },
      "outputs": [
        {
          "output_type": "stream",
          "name": "stdout",
          "text": [
            "Sunrise: 2025-02-13 14:37:31 UTC\n",
            "Sunset: 2025-02-14 01:32:51 UTC\n"
          ]
        }
      ],
      "source": [
        "import requests\n",
        "import time\n",
        "from datetime import datetime\n",
        "\n",
        "appid = 'a353fe9f76bf2dd79d85c1dd86bbe259'  # Your API key\n",
        "\n",
        "def see_sun(coor):\n",
        "    \"\"\"\n",
        "    By entering latitude and longitude, this function returns the sunrise and sunset\n",
        "    time of today in UTC\n",
        "    \"\"\"\n",
        "    url = \"https://api.openweathermap.org/data/2.5/weather\"\n",
        "\n",
        "    # Correct parameters with 'lat' and 'lon'\n",
        "    params = {\n",
        "        \"lat\": coor[0],  # latitude\n",
        "        \"lon\": coor[1],  # longitude\n",
        "        \"appid\": appid\n",
        "    }\n",
        "\n",
        "    time.sleep(2)  # Avoid hitting API limits\n",
        "    result = requests.get(url, params=params)\n",
        "    d = result.json()\n",
        "\n",
        "    sunrise = d[\"sys\"][\"sunrise\"]\n",
        "    sunset = d[\"sys\"][\"sunset\"]\n",
        "    sunrise_time = datetime.utcfromtimestamp(sunrise).strftime('%Y-%m-%d %H:%M:%S UTC')\n",
        "    sunset_time = datetime.utcfromtimestamp(sunset).strftime('%Y-%m-%d %H:%M:%S UTC')\n",
        "\n",
        "    return sunrise_time, sunset_time\n",
        "\n",
        "# Example usage\n",
        "place = (34.0967, -117.7198)  # Example coordinates\n",
        "sunrise,sunset = see_sun(place)\n",
        "\n",
        "print(f\"Sunrise: {sunrise}\")\n",
        "print(f\"Sunset: {sunset}\")"
      ]
    },
    {
      "cell_type": "code",
      "source": [
        "import requests\n",
        "import time\n",
        "\n",
        "def good_place(place):\n",
        "  \"\"\" this function determines if the place is good to live in or not base on the\n",
        "  sunset and sunrise time with the number of earth quakes from the past one year\n",
        "  \"\"\"\n",
        "\n",
        "  url = \"https://earthquake.usgs.gov/fdsnws/event/1/count\"\n",
        "  min_mag = 4.2\n",
        "  start_time = f\"2024-01-01\"\n",
        "  finish_time = f\"2024-12-01\"\n",
        "\n",
        "  rad = 100\n",
        "  param_dictionary = { \"format\":\"geojson\",\n",
        "                      \"starttime\":start_time,\n",
        "                      \"endtime\":finish_time,\n",
        "                      \"minmagnitude\":min_mag,\n",
        "                      \"maxradius\":rad,\n",
        "                      \"latitude\":place[0],\n",
        "                      \"longitude\":place[1]\n",
        "                    }\n",
        "  time.sleep(2)\n",
        "  result = requests.get(url, params=param_dictionary)\n",
        "  d = result.json()\n",
        "  number_of_quakes = d['count']\n",
        "  # print(f\"The results for {year = } were {number_of_quakes = }\")\n",
        "  sunrise, sunset = see_sun(place)\n",
        "  sunrise_time = datetime.strptime(sunrise, '%Y-%m-%d %H:%M:%S UTC')\n",
        "  sunset_time = datetime.strptime(sunset, '%Y-%m-%d %H:%M:%S UTC')\n",
        "\n",
        "  # Extract the hour from both times\n",
        "  sunrise_hour = sunrise_time.hour\n",
        "  sunset_hour = sunset_time.hour\n",
        "\n",
        "  # Conditions for good place\n",
        "  target_sunrise_time = 6  # 6 AM\n",
        "  target_sunset_time = 18  # 6 PM\n",
        "\n",
        "  # Check if sunrise is after 6 AM, sunset is before 6 PM, and number of quakes is low\n",
        "  if sunrise_hour >= target_sunrise_time and sunset_hour <= target_sunset_time and number_of_quakes < 1000:\n",
        "      return True\n",
        "  else:\n",
        "      return False\n",
        "\n",
        "#example input\n",
        "place = (34.0967, -117.7198)\n",
        "result = good_place(place)\n",
        "if result:\n",
        "  print(\"The place is good to live in\")\n",
        "else:\n",
        "  print(\"The place is not good to live in\")"
      ],
      "metadata": {
        "id": "N-LjkpuFUEIZ",
        "outputId": "d151b639-89ab-4388-b6f8-fed4f3a42eb6",
        "colab": {
          "base_uri": "https://localhost:8080/"
        }
      },
      "execution_count": 194,
      "outputs": [
        {
          "output_type": "stream",
          "name": "stdout",
          "text": [
            "The place is not good to live in\n"
          ]
        }
      ]
    }
  ],
  "metadata": {
    "kernelspec": {
      "display_name": "Python 3",
      "language": "python",
      "name": "python3"
    },
    "language_info": {
      "codemirror_mode": {
        "name": "ipython",
        "version": 3
      },
      "file_extension": ".py",
      "mimetype": "text/x-python",
      "name": "python",
      "nbconvert_exporter": "python",
      "pygments_lexer": "ipython3",
      "version": "3.12.1"
    },
    "orig_nbformat": 4,
    "colab": {
      "provenance": []
    }
  },
  "nbformat": 4,
  "nbformat_minor": 0
}