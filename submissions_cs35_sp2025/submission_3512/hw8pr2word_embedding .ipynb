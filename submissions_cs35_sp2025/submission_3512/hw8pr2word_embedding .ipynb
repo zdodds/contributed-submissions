{
 "cells": [
  {
   "cell_type": "markdown",
   "metadata": {},
   "source": [
    "## hw8pr2: &nbsp; Embeddings: computing with word _meanings_\n",
    "\n",
    "About a decade ago, the computing community proposed a representation of the _meaning_ of words as _embeddings_.\n",
    "\n",
    "Embeddings are large vectors of weights that capture a word's use in context. They can be created by training a neural network to \"predict the missing word\" (from lots of possible contexts where it appears). \n",
    "\n",
    "Here, you will try out the original word-embeddings, called Word2Vec. "
   ]
  },
  {
   "cell_type": "code",
   "execution_count": 3,
   "metadata": {},
   "outputs": [],
   "source": [
    "#\n",
    "# hw8pr2.py ~ cs35 ~ Word Embeddings: Computing with word _meanings_\n",
    "#\n",
    "\n",
    "# our usual libraries\n",
    "import numpy as np\n",
    "import matplotlib.pyplot as plt  \n",
    "import seaborn as sns"
   ]
  },
  {
   "attachments": {},
   "cell_type": "markdown",
   "metadata": {},
   "source": [
    "### Gensim is a library for word-meanings\n",
    "\n",
    "Most often, the _meaning_ of a word is a vector, or ***embedding*** that has been learned through a neural net:\n",
    "+ that net is trained to determine each word from its context\n",
    "+ many variations are now used\n",
    "+ here, we use the original embeddings -- which better illustrate many of their weaknesses! \n",
    "+ from the word2vec paper: https://arxiv.org/abs/1301.3781"
   ]
  },
  {
   "cell_type": "code",
   "execution_count": 21,
   "metadata": {},
   "outputs": [],
   "source": [
    "# Most important for hw8 is gensim, the word-embedding (word2vec) library\n",
    "# See if you already have it installed:\n",
    "import gensim\n",
    "\n",
    "# if not, try         \n",
    "# !pip install gensim"
   ]
  },
  {
   "cell_type": "code",
   "execution_count": null,
   "metadata": {},
   "outputs": [],
   "source": [
    "# !pip install gensim"
   ]
  },
  {
   "cell_type": "code",
   "execution_count": 22,
   "metadata": {},
   "outputs": [
    {
     "name": "stdout",
     "output_type": "stream",
     "text": [
      "digits.csv                              hw8pr2word_embeddings.ipynb\n",
      "hw8pr0final_project_explorations.ipynb  word2vec_model.txt\n",
      "hw8pr1digits_dreamer.ipynb\n"
     ]
    }
   ],
   "source": [
    "# The word-embeddings are in the large file word2vec_model.txt\n",
    "\n",
    "# Make sure that file is here:\n",
    "%ls"
   ]
  },
  {
   "cell_type": "code",
   "execution_count": 23,
   "metadata": {},
   "outputs": [],
   "source": [
    "#\n",
    "# This function, read_word2vec_model, wraps the creation of a gensim model, let's say, m\n",
    "#\n",
    "#      To use it, run the line   m = read_word2vec_model()\n",
    "#\n",
    "\n",
    "from gensim.models import KeyedVectors\n",
    "\n",
    "def read_word2vec_model(filename = \"word2vec_model.txt\"):  \n",
    "    \"\"\" a function that reads a word2vec model from the file\n",
    "        \"word2vec_model.txt\" and returns a model object that\n",
    "        we will usually name m or model...\n",
    "    \"\"\"\n",
    "    try:\n",
    "        print(\"Starting to load the model in \", filename, \"...\")\n",
    "        model = KeyedVectors.load_word2vec_format(filename, binary=False)\n",
    "        print(\"Model loaded.\\n\")\n",
    "    except FileNotFoundError as e:\n",
    "        print(f\"  [WARNING]    The file {filename} was not found.     [WARNING]  \")\n",
    "        return None   # returning a placeholder, not a model\n",
    "\n",
    "    # let's print some attributes\n",
    "    print(\"The model built is\", model, \"\\n\")\n",
    "    print(\"The vocabulary has\", model.vectors.shape[0], \"words\")   # The vocabulary has 43981 words\n",
    "    print(\"Each word is a vector of size\", model.vector_size)  # 300\n",
    "    print(\"\\nTry m.get_vector('python') to see a the vector for 'python'!\")\n",
    "    print(\"m is dictionary-like, e.g., try 'python' in m\\n\")\n",
    "    model.fill_norms()  # freezes the model, m, as-is (no more training)\n",
    "    # we weren't going to train more, so no worries (in week7, at least)\n",
    "    return model\n"
   ]
  },
  {
   "cell_type": "code",
   "execution_count": 27,
   "metadata": {},
   "outputs": [
    {
     "name": "stdout",
     "output_type": "stream",
     "text": [
      "Starting to load the model in  word2vec_model.txt ...\n",
      "Model loaded.\n",
      "\n",
      "The model built is KeyedVectors<vector_size=300, 43981 keys> \n",
      "\n",
      "The vocabulary has 43981 words\n",
      "Each word is a vector of size 300\n",
      "\n",
      "Try m.get_vector('python') to see a the vector for 'python'!\n",
      "m is dictionary-like, e.g., try 'python' in m\n",
      "\n"
     ]
    }
   ],
   "source": [
    "# \n",
    "# best to run this only once... or once in a while, as needed\n",
    "#\n",
    "\n",
    "m = read_word2vec_model()"
   ]
  },
  {
   "cell_type": "code",
   "execution_count": 25,
   "metadata": {},
   "outputs": [
    {
     "name": "stdout",
     "output_type": "stream",
     "text": [
      "m is KeyedVectors<vector_size=300, 43981 keys>\n"
     ]
    }
   ],
   "source": [
    "print(f\"m is {m}\")   # let's see how it prints..."
   ]
  },
  {
   "cell_type": "code",
   "execution_count": 26,
   "metadata": {},
   "outputs": [
    {
     "data": {
      "text/plain": [
       "True"
      ]
     },
     "execution_count": 26,
     "metadata": {},
     "output_type": "execute_result"
    }
   ],
   "source": [
    "'python' in m"
   ]
  },
  {
   "cell_type": "code",
   "execution_count": 16,
   "metadata": {},
   "outputs": [
    {
     "data": {
      "text/plain": [
       "array([ 0.0731009 ,  0.0326895 , -0.107592  ,  0.041441  , -0.0519943 ,\n",
       "       -0.0310164 ,  0.017503  ,  0.0218788 , -0.0777341 ,  0.0756749 ,\n",
       "       -0.0122264 , -0.143113  , -0.0212353 , -0.0253537 , -0.0620328 ,\n",
       "       -0.0767045 ,  0.044015  ,  0.0208492 , -0.0689826 , -0.00855847,\n",
       "       -0.0229084 , -0.0561127 ,  0.0509647 ,  0.080308  ,  0.0126125 ,\n",
       "       -0.00868717, -0.102444  ,  0.0648642 ,  0.152379  , -0.0823672 ,\n",
       "       -0.010682  ,  0.0885448 , -0.00669234, -0.0432428 , -0.0240667 ,\n",
       "        0.0329469 , -0.0178891 ,  0.0607458 , -0.00242919,  0.0998703 ,\n",
       "       -0.0113255 , -0.00701408,  0.0240667 ,  0.0870004 , -0.00727148,\n",
       "       -0.0664086 ,  0.0383522 ,  0.0169882 ,  0.0365505 , -0.01879   ,\n",
       "        0.010682  ,  0.0013996 ,  0.148261  , -0.0736157 ,  0.0638346 ,\n",
       "       -0.0517369 ,  0.0844264 , -0.0432428 ,  0.0684678 ,  0.0355209 ,\n",
       "        0.0684678 , -0.0169882 , -0.0253537 , -0.017503  , -0.0700121 ,\n",
       "        0.0119046 , -0.0176317 , -0.0664086 , -0.047876  , -0.00711061,\n",
       "        0.038867  , -0.0299868 , -0.0272841 , -0.0561127 , -0.042728  ,\n",
       "        0.118918  ,  0.0957519 , -0.120977  , -0.00965241,  0.00160873,\n",
       "       -0.00456881,  0.0787637 , -0.016023  , -0.0054697 , -0.0512221 ,\n",
       "        0.0114542 , -0.107077  , -0.0499351 ,  0.0254824 , -0.0604884 ,\n",
       "       -0.0274128 ,  0.0005148 ,  0.0114542 ,  0.00920196, -0.0167308 ,\n",
       "       -0.0875152 , -0.0135777 ,  0.00588797,  0.0942075 , -0.0669234 ,\n",
       "       -0.0266406 , -0.0849412 ,  0.0198196 , -0.0849412 ,  0.0154439 ,\n",
       "        0.03758   ,  0.0148004 , -0.0656364 , -0.0705269 , -0.0658938 ,\n",
       "       -0.00894457, -0.0694973 ,  0.0525091 ,  0.143113  , -0.0227797 ,\n",
       "        0.0106177 , -0.0463316 , -0.106048  ,  0.0159587 ,  0.01879   ,\n",
       "       -0.0571423 , -0.0136421 , -0.0658938 , -0.00357139,  0.0135134 ,\n",
       "        0.045302  ,  0.0895744 ,  0.0218788 ,  0.0159587 , -0.0756749 ,\n",
       "        0.0162804 ,  0.0368079 , -0.0527665 ,  0.0885448 , -0.0808228 ,\n",
       "        0.114285  , -0.014736  ,  0.012162  ,  0.0483907 ,  0.138995  ,\n",
       "       -0.0238093 , -0.114799  , -0.0957519 ,  0.0530239 ,  0.0720713 ,\n",
       "        0.0190474 , -0.0471038 ,  0.0885448 ,  0.0110681 ,  0.00371618,\n",
       "        0.128699  , -0.0481333 , -0.107592  ,  0.0746453 ,  0.0797933 ,\n",
       "       -0.0633198 , -0.148261  ,  0.0284424 , -0.0150578 , -0.0130629 ,\n",
       "        0.0202057 , -0.0236806 ,  0.0424706 , -0.0196909 , -0.0512221 ,\n",
       "        0.00281529,  0.0715565 , -0.0643494 , -0.0365505 ,  0.0525091 ,\n",
       "       -0.00698191,  0.111196  , -0.0274128 ,  0.0777341 , -0.0548257 ,\n",
       "        0.0193048 ,  0.168853  ,  0.0972963 , -0.0669234 ,  0.014543  ,\n",
       "       -0.000736  ,  0.0664086 , -0.0245815 , -0.0323034 , -0.0110681 ,\n",
       "        0.00460098,  0.0191761 ,  0.0555979 , -0.00304051,  0.0024131 ,\n",
       "        0.0416984 , -0.0158943 , -0.0455594 ,  0.0530239 , -0.0177604 ,\n",
       "        0.0694973 , -0.0993555 , -0.0168595 , -0.0859708 , -0.030759  ,\n",
       "        0.0576571 , -0.0875152 ,  0.00450446,  0.0532813 ,  0.0463316 ,\n",
       "       -0.0347487 ,  0.128699  ,  0.0471038 ,  0.0741305 ,  0.0463316 ,\n",
       "       -0.0808228 , -0.0245815 ,  0.0126125 , -0.0823672 , -0.0720713 ,\n",
       "        0.0669234 ,  0.0772193 , -0.0286998 ,  0.0160873 ,  0.0509647 ,\n",
       "       -0.0373227 ,  0.0266406 , -0.0736157 , -0.0152508 , -0.0299868 ,\n",
       "       -0.0782489 , -0.0154439 ,  0.0584293 ,  0.00242919,  0.00669234,\n",
       "        0.0409262 , -0.0684678 , -0.0245815 , -0.0398966 ,  0.0530239 ,\n",
       "        0.0234232 ,  0.0947223 ,  0.0232945 ,  0.0437576 ,  0.0148647 ,\n",
       "        0.0378374 , -0.0146717 ,  0.0076254 , -0.0380948 ,  0.0355209 ,\n",
       "       -0.0445298 ,  0.0167308 , -0.00836542,  0.0368079 , -0.0355209 ,\n",
       "       -0.0610032 ,  0.0594588 ,  0.047876  , -0.0458168 ,  0.0792785 ,\n",
       "       -0.0101029 , -0.0386096 , -0.00201092, -0.0216214 ,  0.062805  ,\n",
       "        0.114285  ,  0.0731009 , -0.00875152, -0.0146073 ,  0.0279276 ,\n",
       "        0.0725861 , -0.0302442 ,  0.0391244 , -0.0220075 ,  0.00900892,\n",
       "       -0.0527665 ,  0.0302442 , -0.121492  ,  0.0604884 ,  0.0537961 ,\n",
       "        0.0229084 ,  0.0217501 ,  0.0731009 , -0.0209779 , -0.0050836 ,\n",
       "       -0.00344269,  0.0761897 ,  0.0432428 ,  0.0507073 , -0.0163447 ,\n",
       "       -0.0988407 ,  0.0171169 ,  0.010489  ,  0.0926631 ,  0.0137064 ,\n",
       "       -0.0592014 ,  0.00153634, -0.0298581 ,  0.0612606 ,  0.00888022,\n",
       "        0.0181465 , -0.0689826 ,  0.129214  , -0.0571423 , -0.00164091],\n",
       "      dtype=float32)"
      ]
     },
     "execution_count": 16,
     "metadata": {},
     "output_type": "execute_result"
    }
   ],
   "source": [
    "m.get_vector('python')"
   ]
  },
  {
   "cell_type": "markdown",
   "metadata": {},
   "source": [
    "#### Let's see the \"meaning\" (the vector or embedding) for 'queen':\n",
    "\n",
    "First, we'll make sure 'queen' is in the model, <tt>m</tt>"
   ]
  },
  {
   "cell_type": "code",
   "execution_count": 28,
   "metadata": {},
   "outputs": [
    {
     "data": {
      "text/plain": [
       "True"
      ]
     },
     "execution_count": 28,
     "metadata": {},
     "output_type": "execute_result"
    }
   ],
   "source": [
    "'queen' in m"
   ]
  },
  {
   "cell_type": "code",
   "execution_count": 29,
   "metadata": {},
   "outputs": [
    {
     "data": {
      "text/plain": [
       "array([ 0.00173332, -0.0474043 , -0.022896  ,  0.0407935 ,  0.0435346 ,\n",
       "       -0.0293455 , -0.0235409 , -0.0715902 , -0.0651406 ,  0.0183813 ,\n",
       "       -0.0249921 , -0.125767  ,  0.0343439 , -0.00026957,  0.043857  ,\n",
       "        0.0372462 ,  0.0240246 , -0.015479  ,  0.0217673 ,  0.0311192 ,\n",
       "        0.0628833 ,  0.045147  , -0.0780398 , -0.0391811 ,  0.021606  ,\n",
       "       -0.0175751 , -0.101903  ,  0.030313  ,  0.0622383 , -0.0551438 ,\n",
       "       -0.0515965 , -0.0432121 , -0.0272494 ,  0.0703003 , -0.117382  ,\n",
       "       -0.0435346 ,  0.0317641 ,  0.0870691 , -0.0312804 ,  0.0606259 ,\n",
       "        0.0353114 , -0.137376  ,  0.089004  , -0.00915032,  0.0580461 ,\n",
       "       -0.0372462 , -0.00136046,  0.0480493 ,  0.0515965 ,  0.0883591 ,\n",
       "       -0.00592554,  0.0325703 ,  0.0174944 , -0.0103193 , -0.0538539 ,\n",
       "       -0.0191875 , -0.113512  , -0.0570787 ,  0.03773   , -0.0298292 ,\n",
       "        0.044502  ,  0.0922288 , -0.0164464 ,  0.0428896 ,  0.0580461 ,\n",
       "       -0.0732026 , -0.0039302 ,  0.0464369 , -0.059981  ,  0.0391811 ,\n",
       "        0.0532089 ,  0.0709452 , -0.0699778 ,  0.0419222 , -0.033054  ,\n",
       "        0.045147  ,  0.0419222 ,  0.00505888,  0.0345052 , -0.00919063,\n",
       "       -0.019913  ,  0.00733638,  0.059981  , -0.022251  ,  0.0162045 ,\n",
       "        0.0509516 , -0.0825544 ,  0.0461144 ,  0.0973884 ,  0.0351501 ,\n",
       "        0.110933  , -0.073525  , -0.0412772 , -0.0174944 ,  0.0635282 ,\n",
       "        0.0225735 ,  0.0230572 , -0.017172  ,  0.0477268 ,  0.00148138,\n",
       "       -0.00334571, -0.0490167 ,  0.0719127 , -0.0644957 , -0.128991  ,\n",
       "        0.025637  , -0.189617  , -0.0261207 , -0.0133828 , -0.0619158 ,\n",
       "        0.0838444 ,  0.051919  ,  0.0412772 ,  0.0464369 ,  0.0664305 ,\n",
       "       -0.0193487 ,  0.0557887 , -0.0928738 ,  0.0567562 ,  0.0632057 ,\n",
       "        0.0399873 , -0.0496617 , -0.00229766, -0.0783622 ,  0.0461144 ,\n",
       "       -0.00276122, -0.0155596 ,  0.0483717 , -0.0187844 ,  0.033699  ,\n",
       "        0.0278944 ,  0.0699778 , -0.00604647,  0.166399  , -0.0160433 ,\n",
       "        0.0732026 , -0.0844893 ,  0.0112867 ,  0.0522415 , -0.0111255 ,\n",
       "        0.022251  , -0.0831994 ,  0.0152371 , -0.0240246 ,  0.026282  ,\n",
       "        0.0139472 , -0.00042577,  0.066753  , -0.0432121 , -0.019913  ,\n",
       "        0.012496  ,  0.0448245 ,  0.0369238 , -0.0812645 , -0.0790072 ,\n",
       "       -0.0780398 , -0.0142697 , -0.00959373,  0.0777173 , -0.00128991,\n",
       "       -0.0166076 ,  0.0609484 ,  0.166399  , -0.00220696, -0.011448  ,\n",
       "       -0.0249921 ,  0.0203161 , -0.103838  , -0.0124154 ,  0.0780398 ,\n",
       "       -0.0422447 ,  0.0509516 ,  0.0980334 ,  0.00894877, -0.0564337 ,\n",
       "       -0.07417   ,  0.00079612,  0.0349889 , -0.0109643 ,  0.00481702,\n",
       "       -0.0712677 ,  0.081587  , -0.0245083 , -0.033699  ,  0.0557887 ,\n",
       "       -0.0166076 ,  0.0686879 , -0.0127379 , -0.073525  ,  0.0909389 ,\n",
       "       -0.0196712 , -0.00580461,  0.00592554,  0.0293455 ,  0.0425671 ,\n",
       "        0.0603034 ,  0.0477268 ,  0.0343439 , -0.043857  , -0.107708  ,\n",
       "        0.0012748 , -0.0375687 , -0.0166883 , -0.0432121 ,  0.00729607,\n",
       "       -0.0483717 ,  0.0354726 ,  0.0761049 ,  0.0503066 ,  0.0751374 ,\n",
       "        0.0159627 ,  0.0224122 , -0.0224122 , -0.0851343 ,  0.037085  ,\n",
       "        0.00119922, -0.0396648 , -0.0703003 ,  0.037085  ,  0.0401485 ,\n",
       "        0.0225735 ,  0.0162045 ,  0.0902939 , -0.00099767, -0.0012496 ,\n",
       "        0.00063992,  0.0619158 , -0.0960985 ,  0.0298292 ,  0.0870691 ,\n",
       "       -0.0844893 , -0.0948086 , -0.134796  ,  0.0348277 ,  0.130926  ,\n",
       "       -0.0240246 , -0.0142697 , -0.0209611 , -0.00019903, -0.0380524 ,\n",
       "        0.103838  , -0.073525  ,  0.0448245 , -0.00648988,  0.0506291 ,\n",
       "        0.00118914, -0.0396648 ,  0.0214448 ,  0.0535314 , -0.0551438 ,\n",
       "        0.010803  , -0.00115891,  0.0622383 ,  0.0638507 ,  0.043857  ,\n",
       "        0.0224122 , -0.112867  , -0.0275719 , -0.0973884 , -0.00693328,\n",
       "        0.0293455 ,  0.107063  , -0.121897  , -0.0283781 , -0.0163658 ,\n",
       "        0.0435346 ,  0.0145921 ,  0.118672  ,  0.0709452 ,  0.0877141 ,\n",
       "       -0.0902939 ,  0.0777173 ,  0.03773   ,  0.029023  ,  0.0619158 ,\n",
       "       -0.109643  ,  0.0499841 , -0.0119317 , -0.0393424 ,  0.0915838 ,\n",
       "        0.0357951 , -0.0240246 ,  0.0767498 ,  0.00072558,  0.0786847 ,\n",
       "       -0.082232  , -0.0407935 , -0.052564  , -0.00198526,  0.0480493 ,\n",
       "       -0.00152169, -0.0744925 , -0.125122  , -0.124477  , -0.0272494 ,\n",
       "       -0.0136247 ,  0.0554663 , -0.015479  ,  0.0538539 ,  0.0509516 ],\n",
       "      dtype=float32)"
      ]
     },
     "execution_count": 29,
     "metadata": {},
     "output_type": "execute_result"
    }
   ],
   "source": [
    "m.get_vector('queen')"
   ]
  },
  {
   "attachments": {},
   "cell_type": "markdown",
   "metadata": {},
   "source": [
    "Let's use an <tt>if</tt> to check whether a particular word is in the model:"
   ]
  },
  {
   "cell_type": "code",
   "execution_count": 30,
   "metadata": {},
   "outputs": [
    {
     "name": "stdout",
     "output_type": "stream",
     "text": [
      "That word is NOT in m\n"
     ]
    }
   ],
   "source": [
    "if 'poptart' in m:\n",
    "    print(\"That word is in m\")\n",
    "else:\n",
    "    print(\"That word is NOT in m\")"
   ]
  },
  {
   "cell_type": "code",
   "execution_count": 35,
   "metadata": {},
   "outputs": [
    {
     "data": {
      "text/plain": [
       "array([ 4.34064e-02,  1.02628e-02,  2.96526e-03,  4.81172e-02,\n",
       "       -8.83269e-03, -1.24499e-02,  3.85274e-02, -6.83062e-02,\n",
       "        1.76654e-02,  1.25172e-01, -8.34479e-02, -1.04310e-01,\n",
       "       -6.12400e-02, -8.58033e-03, -5.78752e-02, -5.85481e-02,\n",
       "        1.19452e-02,  1.79808e-03,  1.59830e-02,  4.44158e-02,\n",
       "        4.71077e-02,  3.88639e-02,  2.05255e-02,  4.71077e-02,\n",
       "        3.48261e-02, -6.09035e-02, -8.68128e-02,  2.06096e-02,\n",
       "        1.17769e-01, -1.07254e-02,  3.60037e-02,  2.12826e-02,\n",
       "        4.29017e-02,  1.37958e-01, -1.11040e-01,  2.89376e-02,\n",
       "        1.34593e-02,  2.01890e-03,  2.42268e-02,  5.95576e-02,\n",
       "        4.77807e-02, -7.97466e-02,  9.75802e-02,  4.91266e-02,\n",
       "        1.17769e-01, -8.24385e-03, -3.78544e-02,  1.14404e-02,\n",
       "       -1.88431e-02,  5.27859e-03, -5.58563e-02,  5.45103e-02,\n",
       "       -8.95046e-02,  6.93997e-03, -5.61928e-02,  4.67923e-04,\n",
       "       -4.97996e-02, -1.96002e-02,  1.48053e-02, -8.49621e-03,\n",
       "        6.39319e-02,  1.54109e-01,  3.30175e-03,  4.54253e-02,\n",
       "        3.39848e-02, -6.39319e-02, -3.44896e-02, -4.60983e-02,\n",
       "       -4.30699e-02,  9.75802e-02,  4.23969e-02,  1.83384e-02,\n",
       "       -6.12400e-02,  2.96106e-02, -7.52882e-03,  7.06616e-03,\n",
       "       -4.81172e-02,  8.66445e-03,  4.77807e-02, -3.63402e-02,\n",
       "        4.77807e-02,  3.06200e-02, -2.59092e-02, -7.36058e-03,\n",
       "        5.95576e-02,  1.59830e-02, -9.15235e-02,  3.07041e-03,\n",
       "        5.14820e-02,  1.30387e-02,  8.21020e-02, -4.29017e-02,\n",
       "       -7.50358e-02, -6.25859e-02,  1.02628e-02,  1.96843e-02,\n",
       "       -9.96833e-03,  4.29017e-03,  3.33119e-02, -7.97466e-02,\n",
       "        2.00208e-02,  2.30491e-02,  2.43951e-02, -1.06329e-01,\n",
       "       -7.40264e-02,  5.01361e-02, -1.47380e-01, -3.23865e-03,\n",
       "        5.31644e-02, -2.64140e-02,  9.95991e-02,  9.55613e-02,\n",
       "       -1.67585e-04, -4.71077e-02,  1.11713e-01, -8.47939e-02,\n",
       "       -1.04625e-03, -7.30169e-02,  4.30699e-02,  9.28695e-02,\n",
       "        7.03251e-02,  2.84329e-02, -6.93156e-02, -5.51833e-02,\n",
       "       -1.30387e-02, -4.13875e-02,  3.97051e-02, -1.41323e-02,\n",
       "       -1.36276e-02, -3.09565e-02,  2.18714e-03,  6.99886e-02,\n",
       "        6.42684e-02,  9.42154e-02,  2.17032e-02,  4.87901e-02,\n",
       "       -3.38166e-02,  4.77807e-02,  6.29224e-02,  5.98941e-02,\n",
       "        5.98941e-02, -8.17655e-02,  6.15765e-02,  2.18714e-02,\n",
       "        8.14290e-02, -7.20075e-02,  3.01153e-02, -5.72022e-02,\n",
       "       -2.72552e-02,  8.37844e-02, -3.06200e-02,  4.37429e-02,\n",
       "       -7.46994e-02, -5.98941e-02, -1.23826e-01, -2.84329e-02,\n",
       "       -2.23762e-02,  1.74971e-02,  4.67712e-02, -2.57410e-02,\n",
       "       -5.65292e-02,  3.97471e-03,  1.53437e-01, -7.43629e-02,\n",
       "       -3.83591e-02, -6.62873e-02,  5.88846e-02, -4.30699e-02,\n",
       "        9.14815e-04,  6.62873e-02, -6.02306e-02,  4.81172e-02,\n",
       "        1.00945e-01,  3.90321e-02,  2.05255e-02, -2.20397e-02,\n",
       "        3.43213e-02, -9.37948e-03,  6.77173e-03,  1.47212e-02,\n",
       "       -8.47939e-02,  2.20397e-02, -7.77277e-02, -5.82117e-02,\n",
       "        9.98936e-04,  2.82646e-02,  1.17769e-01,  1.48894e-02,\n",
       "        4.57618e-02,  4.91266e-02,  2.62457e-02,  2.06096e-02,\n",
       "       -4.10510e-02,  9.46360e-04, -2.17032e-02, -9.37948e-03,\n",
       "       -1.66139e-03, -2.82646e-02, -8.58033e-03, -1.37958e-01,\n",
       "       -3.68450e-02,  1.46370e-02,  2.67504e-02, -4.02098e-02,\n",
       "        2.54045e-02, -3.17977e-02,  3.71814e-02,  5.45103e-02,\n",
       "        1.46370e-02,  4.37429e-02,  1.24499e-02,  9.21965e-02,\n",
       "       -3.48261e-02, -1.04310e-01, -1.98525e-02,  1.74130e-02,\n",
       "        1.81386e-04, -7.13345e-02, -4.77807e-02, -3.09144e-03,\n",
       "       -9.58978e-03, -4.87901e-02,  7.13345e-02, -5.45103e-02,\n",
       "        4.40794e-02,  5.14820e-02, -7.73912e-03, -2.91058e-02,\n",
       "        4.22287e-02,  7.43629e-02, -7.36899e-02, -1.07675e-01,\n",
       "       -1.28537e-01,  1.40903e-03,  3.70132e-02,  3.68450e-02,\n",
       "        2.52363e-02,  3.09144e-03, -1.33752e-02, -4.47523e-02,\n",
       "        5.14820e-02, -7.40264e-02, -6.33535e-04,  3.41531e-02,\n",
       "        5.41739e-02, -3.93686e-02, -7.06616e-02,  3.41531e-02,\n",
       "        1.27191e-01, -6.79697e-02,  1.21975e-02,  3.76862e-02,\n",
       "        4.54253e-02,  5.75387e-02,  8.10925e-02,  3.61720e-02,\n",
       "       -1.70934e-01, -5.65292e-02, -5.38374e-02, -1.80019e-02,\n",
       "        3.54990e-02,  8.37844e-02, -6.49413e-02,  1.74971e-02,\n",
       "       -3.23024e-02, -2.30491e-02,  7.82324e-03,  2.62457e-02,\n",
       "        9.95991e-02,  1.07002e-01, -1.85066e-02,  7.87372e-02,\n",
       "        8.66445e-03,  2.33856e-02, -4.17240e-02, -7.43629e-02,\n",
       "       -9.42154e-02, -1.05992e-02, -1.16423e-01,  5.28279e-02,\n",
       "        8.04196e-02, -7.16710e-02,  1.28537e-01,  2.82646e-02,\n",
       "        8.68128e-02, -2.62457e-02, -1.60671e-02, -7.69706e-03,\n",
       "        1.03048e-02, -2.04414e-02, -1.60881e-03, -8.41209e-02,\n",
       "       -7.23440e-02, -9.89262e-02, -1.56465e-02, -6.12400e-02,\n",
       "       -9.62343e-02, -2.96106e-02,  3.14612e-02,  8.68128e-02],\n",
       "      dtype=float32)"
      ]
     },
     "execution_count": 35,
     "metadata": {},
     "output_type": "execute_result"
    }
   ],
   "source": [
    "#\n",
    "# So, we can check the \"meaning\" of 'king', 'queen', 'snake', and 'python':\n",
    "#\n",
    "#m.get_vector('snake')   \n",
    "#m.get_vector('queen')  \n",
    "#m.get_vector('snake')   \n",
    "m.get_vector('king')\n",
    "\n",
    "# which are not very useful ... until we compare them to other meanings:"
   ]
  },
  {
   "cell_type": "markdown",
   "metadata": {},
   "source": [
    "#### <tt>similarity</tt>\n",
    "\n",
    "The model has a built-in similarity method:"
   ]
  },
  {
   "cell_type": "code",
   "execution_count": 36,
   "metadata": {},
   "outputs": [
    {
     "data": {
      "text/plain": [
       "0.66062915"
      ]
     },
     "execution_count": 36,
     "metadata": {},
     "output_type": "execute_result"
    }
   ],
   "source": [
    "# Let's see the built-in similarity method\n",
    "m.similarity('python','snake')   # should be .6606292...\n",
    "\n",
    "#"
   ]
  },
  {
   "cell_type": "markdown",
   "metadata": {},
   "source": [
    "###  hw8pr2 Task #1: &nbsp;&nbsp; Let's re-implement <tt>similarity</tt> to create/build intuition:\n",
    "\n",
    "This is an example to run - it's already implemented: "
   ]
  },
  {
   "cell_type": "code",
   "execution_count": 37,
   "metadata": {},
   "outputs": [],
   "source": [
    "# First, a couple of variable-assignment statements\n",
    "# These might start to feel disturbingly meta ...\n",
    "python = m.get_vector('python')\n",
    "snake = m.get_vector('snake')\n",
    "language = m.get_vector('language')\n",
    "code = m.get_vector('code')\n",
    "queen = m.get_vector('queen')"
   ]
  },
  {
   "cell_type": "code",
   "execution_count": 38,
   "metadata": {},
   "outputs": [
    {
     "name": "stdout",
     "output_type": "stream",
     "text": [
      "np.linalg.norm(python) = 1.0000002\n",
      "np.dot(python, snake) = 0.66062933\n"
     ]
    }
   ],
   "source": [
    "import numpy as np\n",
    "print(f\"{np.linalg.norm(python) = }\")  # this is the length of the vector - always 1, watch out for rounding\n",
    "\n",
    "# the dot product is available in the numpy library\n",
    "print(f\"{np.dot(python, snake) = }\")\n",
    "\n",
    "# This is exactly the built-in similarity:"
   ]
  },
  {
   "cell_type": "code",
   "execution_count": 39,
   "metadata": {},
   "outputs": [
    {
     "name": "stdout",
     "output_type": "stream",
     "text": [
      "...which is   48.65 degrees\n"
     ]
    }
   ],
   "source": [
    "# we can use np to find the angle, in degrees, between the two vectors :-)\n",
    "deg = np.degrees(np.arccos(0.66063))  # dot is cosine; converting from radians to degrees\n",
    "print(f\"...which is {deg:7.2f} degrees\")\n",
    "\n",
    "# for unit vectors, \"dot product\" is the same as the \"cosine similarity\"  \n",
    "#     which is the cos of the angle between the two vectors"
   ]
  },
  {
   "cell_type": "code",
   "execution_count": 40,
   "metadata": {},
   "outputs": [
    {
     "data": {
      "text/plain": [
       "0.66062915"
      ]
     },
     "execution_count": 40,
     "metadata": {},
     "output_type": "execute_result"
    }
   ],
   "source": [
    "# Let's again see the built-in similarity method:\n",
    "m.similarity('python','snake')   # should be the same .6606292..."
   ]
  },
  {
   "cell_type": "code",
   "execution_count": 41,
   "metadata": {},
   "outputs": [
    {
     "data": {
      "text/plain": [
       "0.33937084674835205"
      ]
     },
     "execution_count": 41,
     "metadata": {},
     "output_type": "execute_result"
    }
   ],
   "source": [
    "m.distance( 'python', 'snake' )   # The distance is 1 minus the similarity"
   ]
  },
  {
   "cell_type": "code",
   "execution_count": 42,
   "metadata": {},
   "outputs": [
    {
     "data": {
      "text/plain": [
       "0.9787417557090521"
      ]
     },
     "execution_count": 42,
     "metadata": {},
     "output_type": "execute_result"
    }
   ],
   "source": [
    "m.distance( 'python', 'coffee' )   # let's see..."
   ]
  },
  {
   "cell_type": "code",
   "execution_count": 43,
   "metadata": {},
   "outputs": [
    {
     "data": {
      "text/plain": [
       "0.021258244"
      ]
     },
     "execution_count": 43,
     "metadata": {},
     "output_type": "execute_result"
    }
   ],
   "source": [
    "m.similarity('python','coffee')"
   ]
  },
  {
   "attachments": {},
   "cell_type": "markdown",
   "metadata": {},
   "source": [
    "<br>\n",
    "\n",
    "###  hw8pr2 Task #2: exploring dataset bias\n",
    "\n",
    "With the cell below as a starting point, explore different similarities to find one or more additional example of \"dataset bias\"\n",
    "\n",
    "Include a cell explaining your example. Also, show how the dataset itself can _quantify_ the bias.\n",
    "\n",
    "Here's a first example:"
   ]
  },
  {
   "cell_type": "code",
   "execution_count": 44,
   "metadata": {},
   "outputs": [
    {
     "name": "stdout",
     "output_type": "stream",
     "text": [
      "similarity w 'woman':    0.090\n",
      "similarity w 'man':      0.126\n",
      "\n",
      "similarity w 'person':   0.223\n"
     ]
    }
   ],
   "source": [
    "# with similarity, the biases of the datset can show through: let's check \"programmer\" vs \"woman\" and \"man\"\n",
    "#\n",
    "simw = m.similarity(\"programmer\",\"woman\")   # president  programmer\n",
    "print(f\"similarity w 'woman':  {simw:7.3f}\")\n",
    "\n",
    "simm = m.similarity(\"programmer\",\"man\")     # president  programmer\n",
    "print(f\"similarity w 'man':    {simm:7.3f}\")\n",
    "\n",
    "# notice that the values provide a starting-point to _quantify_ the bias in the dataset\n",
    "# quantifying dataset bias is currently a very active area of research\n",
    "# it would also be possible to compare both of these with \n",
    "print()\n",
    "simprs = m.similarity(\"programmer\",\"person\")    # try it!\n",
    "print(f\"similarity w 'person': {simprs:7.3f}\")"
   ]
  },
  {
   "cell_type": "code",
   "execution_count": 45,
   "metadata": {},
   "outputs": [],
   "source": [
    "#\n",
    "# the dataset will reflect the biases of the training data / source-texts  (6B tokens from Google News)\n",
    "#\n",
    "# for task#2, as you explore possibilities, see if there is a way for the similarity-scores to quantify the biases present...\n",
    "# \n",
    "# key constraint: lots of tokens are missing..."
   ]
  },
  {
   "attachments": {},
   "cell_type": "markdown",
   "metadata": {},
   "source": [
    "<br>\n",
    "\n",
    "#### Computing multiple similarities..."
   ]
  },
  {
   "cell_type": "code",
   "execution_count": 48,
   "metadata": {},
   "outputs": [
    {
     "name": "stdout",
     "output_type": "stream",
     "text": [
      "python_snake  similarity: 0.66\n",
      "python_coffee similarity: 0.02\n",
      "snake_coffee  similarity: 0.08\n"
     ]
    }
   ],
   "source": [
    "# Let's compare multiple similarities:\n",
    "\n",
    "python_snake = m.similarity('python','snake')\n",
    "python_coffee = m.similarity('python','coffee')\n",
    "snake_coffee = m.similarity('snake','coffee')\n",
    "\n",
    "print(f\"python_snake  similarity: {python_snake:4.2f}\")   # try :4.2f after the variable for formatting\n",
    "print(f\"python_coffee similarity: {python_coffee:4.2f}\")  # 4 characters wide, 2 places after the decimal point\n",
    "print(f\"snake_coffee  similarity: {snake_coffee:4.2f}\")"
   ]
  },
  {
   "cell_type": "code",
   "execution_count": null,
   "metadata": {},
   "outputs": [],
   "source": [
    "#\n",
    "# Let's define an \"odd-one-out\" from any collection of words, \n",
    "# simply by considering all possible similarities (and adding them up for each word)\n",
    "\n",
    "\"\"\"\n",
    "here, for example:\n",
    "\n",
    "python_snake  similarity: .66\n",
    "python_coffee similarity: .02\n",
    "snake_coffee  similarity: .08\n",
    "\n",
    "So, summing the similarities for each word separately:\n",
    "  python:  .66 + .02 == .68\n",
    "  coffee:  .08 + .02 == .10\n",
    "  snake:   .66 + .08 == .74\n",
    "\n",
    "+++ In this case, \"coffee\" is the odd one out  (intuitive, in some ways)\n",
    "\n",
    "\n",
    "# What do you think about python, serpent, snake?\n",
    "# or python, serpent, snake, code?\n",
    "\n",
    "\"\"\"\n",
    "None"
   ]
  },
  {
   "cell_type": "code",
   "execution_count": 49,
   "metadata": {},
   "outputs": [
    {
     "data": {
      "text/plain": [
       "['snake', 'serpent', 'python', 'code', 'ai', 'ml', 'programming']"
      ]
     },
     "execution_count": 49,
     "metadata": {},
     "output_type": "execute_result"
    }
   ],
   "source": [
    "# notice that the split function makes creating lists-of-words a bit easier\n",
    "initial_words = \"snake serpent python code ai ml programming\".split()\n",
    "initial_words"
   ]
  },
  {
   "cell_type": "code",
   "execution_count": 50,
   "metadata": {},
   "outputs": [
    {
     "name": "stdout",
     "output_type": "stream",
     "text": [
      "similarity between python and snake:   0.66\n",
      "similarity between python and serpent:   0.45\n",
      "similarity between python and python:   1.00\n",
      "similarity between python and code:   0.11\n",
      "  __  ai  __ was not in the vocabulary\n",
      "similarity between python and ml:   0.08\n",
      "similarity between python and programming:   0.09\n",
      "LoS is [0.66062915, 0.44771376, 1.0, 0.10966148, 0.08480783, 0.09035954]\n",
      "LoW is ['snake', 'serpent', 'python', 'code', 'ml', 'programming']\n"
     ]
    }
   ],
   "source": [
    "#\n",
    "# here is a _single_ keyword, with similarities computed against every word w in initial_words\n",
    "key = 'python'\n",
    "\n",
    "LoS = []\n",
    "LoW = []\n",
    "for w in initial_words:\n",
    "    if w in m:  # is the word, w present in the vocabulary?\n",
    "        similarity = m.similarity(key,w)\n",
    "        print(f\"similarity between {key} and {w}: {similarity:6.2f}\", )\n",
    "        LoS.append( similarity )\n",
    "        LoW.append( w )\n",
    "    else:\n",
    "        print(f\"  __  {w}  __ was not in the vocabulary\", )   # not every word will be present\n",
    "\n",
    "print(f\"LoS is {LoS}\")\n",
    "print(f\"LoW is {LoW}\")\n"
   ]
  },
  {
   "attachments": {},
   "cell_type": "markdown",
   "metadata": {},
   "source": [
    "<br>\n",
    "\n",
    "###  hw8pr1 task #3: computing the \"odd-one-out\"\n",
    "\n",
    "Adapting the above cell as a starting point, create a function that computes the \"odd one out\"\n",
    "\n",
    "That is, <tt>odd_one_out( LoW, m )</tt> should\n",
    "+ take in LoW, a list-of-words\n",
    "+ take in m, a gensim word-embedding model (of type KeyedVectors)\n",
    "+ computing the similarities of all pairs-of-words across the elements of LoW\n",
    "+ return the word with the lowest _sum_ across all of those similarities\n",
    "+ (don't include any words not in the vocabulary)\n",
    "\n",
    "There are other ways to compute \"overall dissimilarity.\"  \n",
    "+ For our purposes, this is a reasonable first approach.\n",
    "+ Below is a cell with a signature line to get started:\n",
    "\n",
    "When you have built this, test it with three new examples of your own design\n",
    "+ Be sure that at least one example contains at least five words\n",
    "+ How well do your examples work?\n",
    "<br>"
   ]
  },
  {
   "cell_type": "code",
   "execution_count": 89,
   "metadata": {},
   "outputs": [
    {
     "name": "stdout",
     "output_type": "stream",
     "text": [
      "machine's similarity value is   2.24\n",
      "philosophy's similarity value is   1.43\n",
      "computer's similarity value is   2.22\n",
      "robot's similarity value is   2.08\n",
      "technology's similarity value is   2.09\n",
      "The odd word out is: philosophy\n"
     ]
    }
   ],
   "source": [
    "#\n",
    "# here is a signature line for odd_one_out (a starting point)\n",
    "#\n",
    "\n",
    "\n",
    "def odd_one_out( LoW, m ):\n",
    "    LoS = []\n",
    "    for i in range(len(LoW)):\n",
    "        key = LoW[i]\n",
    "        similarity = 0\n",
    "\n",
    "        if key not in m:\n",
    "            print(f\"{key} was not in the vocabulary\", )\n",
    "            continue\n",
    "        else :\n",
    "            for w in LoW:\n",
    "                if w in m:  # is the word, w present in the vocabulary?\n",
    "                    sim = m.similarity(key,w)\n",
    "                    similarity += sim\n",
    "                    # print(f\"similarity between {key} and {w}: {sim:6.2f}\", )\n",
    "                else:\n",
    "                    # print(f\"  __  {w}  __ was not in the vocabulary\", )   # not every word will be present\n",
    "                    similarity += 0\n",
    "            print(f\"{LoW[i]}'s similarity value is {similarity:6.2f}\")\n",
    "            LoS.append( similarity )\n",
    "\n",
    "    # find the word with the lowest similarity score\n",
    "    min_sim = min(LoS)\n",
    "    min_index = LoS.index(min_sim)\n",
    "    oddword = LoW[min_index]\n",
    "    \n",
    "    return print(f\"The odd word out is: {oddword}\")\n",
    "\n",
    "\n",
    "LoW = \"machine philosophy computer robot technology\".split()\n",
    "odd_one_out(LoW, m)\n",
    "    \n"
   ]
  },
  {
   "cell_type": "code",
   "execution_count": 90,
   "metadata": {},
   "outputs": [
    {
     "name": "stdout",
     "output_type": "stream",
     "text": [
      "water's similarity value is   1.52\n",
      "spicy's similarity value is   2.22\n",
      "sweet's similarity value is   2.09\n",
      "salty's similarity value is   2.43\n",
      "The odd word out is: water\n",
      "\n",
      "jump's similarity value is   2.19\n",
      "hop's similarity value is   2.31\n",
      "skip's similarity value is   2.21\n",
      "run's similarity value is   2.15\n",
      "sit's similarity value is   2.14\n",
      "teacup was not in the vocabulary\n",
      "The odd word out is: sit\n"
     ]
    }
   ],
   "source": [
    "LoW2 = \"water spicy sweet salty\".split()\n",
    "odd_one_out(LoW2, m)\n",
    "\n",
    "print()\n",
    "\n",
    "LoW3 = \"jump hop skip run sit teacup\".split()\n",
    "odd_one_out(LoW3, m)"
   ]
  },
  {
   "cell_type": "markdown",
   "metadata": {},
   "source": [
    "I'd say both were pretty sucessful!"
   ]
  },
  {
   "attachments": {},
   "cell_type": "markdown",
   "metadata": {},
   "source": [
    "<br>\n",
    "\n",
    "####  A _geometric_ view of word-vectors..."
   ]
  },
  {
   "cell_type": "code",
   "execution_count": 91,
   "metadata": {},
   "outputs": [],
   "source": [
    "#\n",
    "# This is an alternative view of the data -- within a projection of word-embedding space itself\n",
    "# This is in 2d. A 3d version is here: https://www.cs.cmu.edu/~dst/WordEmbeddingDemo/index.html\n",
    "#\n",
    "# Let's see the word vectors in two dimensions!\n",
    "#\n",
    "def visualize_wordvecs(wordlist, model):\n",
    "    \"\"\" example of finding an outlier with word2vec and graphically \"\"\"\n",
    "    # \n",
    "    # Are all of the works in the model?\n",
    "    #\n",
    "    for w in wordlist:\n",
    "        if w not in model:\n",
    "            print(\"Aargh - the model does not contain\", w)\n",
    "            print(\"Stopping...\")\n",
    "            return\n",
    "    #\n",
    "    # Next, we use PCA, Principal Components Analysis, to toss out 298 dimensions!\n",
    "    # and create a scatterplot of the words...\n",
    "    #\n",
    "    # Intuitive description of PCA:   https://setosa.io/ev/principal-component-analysis/\n",
    "    #\n",
    "    from sklearn.decomposition import PCA\n",
    "    import matplotlib.pyplot as plt\n",
    "    import numpy\n",
    "\n",
    "    pca = PCA(n_components=2)             # 2 dimensions\n",
    "    pca_model = pca.fit(model.vectors)    # all 43,981 words with 300 numbers each!\n",
    "    LoM = [model.get_vector(w) for w in wordlist]   # list of models for each word w\n",
    "    \n",
    "    word_vectors = numpy.vstack(LoM)     # vstack creates a vertical column from a list\n",
    "    transformed_words = pca_model.transform(word_vectors)  # transform to our 2d space\n",
    "\n",
    "    # scatterplot\n",
    "    plt.subplots(figsize=(15,10))  # (18, 12)\n",
    "    plt.scatter(transformed_words[:,0],transformed_words[:,1])\n",
    "    \n",
    "    # This is matplotlib's code for _annotating_ graphs (yay!)\n",
    "    for i, word in enumerate(wordlist):\n",
    "        plt.annotate(word, (transformed_words[i,0], transformed_words[i,1]), size='large')\n",
    "        # it's possible to be more sophisticated, but this is ok for now\n",
    "\n",
    "    plt.show()\n",
    "    return"
   ]
  },
  {
   "cell_type": "code",
   "execution_count": 92,
   "metadata": {},
   "outputs": [
    {
     "data": {
      "image/png": "[encoded data removed]",
      "text/plain": [
       "<Figure size 1500x1000 with 1 Axes>"
      ]
     },
     "metadata": {},
     "output_type": "display_data"
    }
   ],
   "source": [
    "#\n",
    "# Example of calling visualize_wordvecs...\n",
    "#\n",
    "#LoW = \"breakfast lunch dinner coffee snake senate\".split()     #  cereal python, one two three four five twelve\n",
    "LoW = \"one two three four\".split() \n",
    "#LoW = \"breakfast lunch dinner\".split()  \n",
    "visualize_wordvecs(LoW, m)    "
   ]
  },
  {
   "attachments": {},
   "cell_type": "markdown",
   "metadata": {},
   "source": [
    "###  hw8pr1 task #4: &nbsp; Your task: &nbsp;&nbsp; Create two more examples...\n",
    "\n",
    "Using your own choice of words, create two more examples in the spirit of the ones above.\n",
    "\n",
    "Let's say, at least four words for each. More words welcome!"
   ]
  },
  {
   "cell_type": "code",
   "execution_count": 93,
   "metadata": {},
   "outputs": [
    {
     "data": {
      "image/png": "[encoded data removed]",
      "text/plain": [
       "<Figure size 1500x1000 with 1 Axes>"
      ]
     },
     "metadata": {},
     "output_type": "display_data"
    }
   ],
   "source": [
    "#\n",
    "# Example of calling visualize_wordvecs...\n",
    "\n",
    "LoW = \"hot cold lukewarm spicy sweet\".split() \n",
    "visualize_wordvecs(LoW, m)    "
   ]
  },
  {
   "cell_type": "code",
   "execution_count": 97,
   "metadata": {},
   "outputs": [
    {
     "data": {
      "image/png": "[encoded data removed]",
      "text/plain": [
       "<Figure size 1500x1000 with 1 Axes>"
      ]
     },
     "metadata": {},
     "output_type": "display_data"
    }
   ],
   "source": [
    "#\n",
    "# Example of calling visualize_wordvecs...\n",
    "\n",
    "LoW = \"wand wizard poison frog fantasy pencil\".split() \n",
    "visualize_wordvecs(LoW, m)    "
   ]
  },
  {
   "cell_type": "markdown",
   "metadata": {},
   "source": [
    "<br>\n",
    "\n",
    "<br>\n",
    "\n",
    "<hr>\n",
    "\n",
    "<br>\n",
    "\n",
    "####  **Optional** &nbsp; Visualizing vocabulary similarities as a heat map\n",
    "\n",
    "The next cell begins the process of visualizing similarity as a heat map.\n",
    "+ (optional, ec) &nbsp; The challenge is to expand this into a full 2d visualization of similarities\n",
    "+ First, for our two sets of words...\n",
    "  + <tt>Keys = [ 'python', 'ruby', 'r', 'c', 'java', 'coffee' ]</tt> , along with\n",
    "  + <tt>initial_words = \"snake serpent python code ai ml programming\".split()</tt>\n",
    "+ Then, for two more sets of words -- of your own design:\n",
    "\n",
    "<br>"
   ]
  },
  {
   "cell_type": "code",
   "execution_count": 98,
   "metadata": {},
   "outputs": [
    {
     "name": "stdout",
     "output_type": "stream",
     "text": [
      "similarity between python and snake:   0.66\n",
      "similarity between python and serpent:   0.45\n",
      "similarity between python and python:   1.00\n",
      "similarity between python and code:   0.11\n",
      "  __  ai  __ was not in the vocabulary\n",
      "similarity between python and ml:   0.08\n",
      "similarity between python and programming:   0.09\n",
      "LoS is [0.66062915, 0.44771376, 1.0, 0.10966148, 0.08480783, 0.09035954]\n",
      "LoW is ['snake', 'serpent', 'python', 'code', 'ml', 'programming']\n"
     ]
    },
    {
     "data": {
      "text/plain": [
       "'Result:'"
      ]
     },
     "execution_count": 98,
     "metadata": {},
     "output_type": "execute_result"
    },
    {
     "data": {
      "image/png": "[encoded data removed]",
      "text/plain": [
       "<Figure size 1500x1000 with 1 Axes>"
      ]
     },
     "metadata": {},
     "output_type": "display_data"
    }
   ],
   "source": [
    "# Starting point for visualizing 2d similarity via a heat map\n",
    "\n",
    "import pandas as pd\n",
    "import matplotlib.pyplot as plt\n",
    "import seaborn as sns\n",
    "sns.set_theme(style=\"darkgrid\")\n",
    "\n",
    "# adaptation of the previous similarity-based code\n",
    "key = 'python'      # this is a _single_ word - the task is to loop over the list, perhaps named Keys\n",
    "LoS = []\n",
    "LoW = []\n",
    "for w in initial_words:\n",
    "    if w in m:  # is the word, w present in the vocabulary?\n",
    "        similarity = m.similarity(key,w)\n",
    "        print(f\"similarity between {key} and {w}: {similarity:6.2f}\", )\n",
    "        LoS.append( similarity )\n",
    "        LoW.append( w )\n",
    "    else:\n",
    "        print(f\"  __  {w}  __ was not in the vocabulary\", )   # not every word will be present\n",
    "\n",
    "print(f\"LoS is {LoS}\")\n",
    "print(f\"LoW is {LoW}\")\n",
    "\n",
    "my_data_list = [ LoS ]\n",
    "my_dataframe = pd.DataFrame(my_data_list, columns=LoW)\n",
    "\n",
    "\n",
    "# Draw a heatmap with the numeric values in each cell\n",
    "f, ax = plt.subplots(figsize=(15,10))  # (18, 12)\n",
    "sns.heatmap(data=my_dataframe, annot=True, fmt=\"4.2f\", linewidths=2, yticklabels=[\"python\"], square=True, cmap=\"Purples\", cbar=False, ax=ax)\n",
    "\n",
    "ylocs, ylabels = plt.yticks()\n",
    "plt.setp(ylabels, rotation=0, fontsize=15)\n",
    "xlocs, xlabels = plt.xticks()\n",
    "plt.setp(xlabels, rotation=70, fontsize=15)\n",
    "\"Result:\"\n",
    "\n",
    "# The goal is to output a square heatmap with all of the similarities plotted..."
   ]
  },
  {
   "cell_type": "markdown",
   "metadata": {},
   "source": [
    "<br>\n",
    "\n",
    "### More word-embedding geometry:  Analogies\n",
    "+ These are an introduction to the analogy problem in hw8 (see the google doc for more detail!)\n",
    "+ For the moment, we'll keep the examples and explorations in this notebook:"
   ]
  },
  {
   "cell_type": "code",
   "execution_count": 99,
   "metadata": {},
   "outputs": [
    {
     "data": {
      "text/plain": [
       "[('snake', 0.660629153251648),\n",
       " ('crocodile', 0.6591363549232483),\n",
       " ('alligator', 0.64216548204422),\n",
       " ('boa', 0.5617719292640686),\n",
       " ('constrictor', 0.5378887057304382),\n",
       " ('constrictors', 0.5356364846229553),\n",
       " ('snakes', 0.5345131754875183),\n",
       " ('anaconda', 0.5207394957542419),\n",
       " ('rabbit', 0.5074971318244934),\n",
       " ('tortoise', 0.5046288967132568)]"
      ]
     },
     "execution_count": 99,
     "metadata": {},
     "output_type": "execute_result"
    }
   ],
   "source": [
    "#\n",
    "# Let's take a look at some additional \"geometry\" of word-meanings (cool!)\n",
    "#\n",
    "\n",
    "m.most_similar(positive='python', topn=10)  # negative='snake'"
   ]
  },
  {
   "cell_type": "code",
   "execution_count": 100,
   "metadata": {},
   "outputs": [
    {
     "data": {
      "text/plain": [
       "[('Java', 0.22111037373542786),\n",
       " ('Dior', 0.2102828174829483),\n",
       " ('Notte', 0.2078552097082138),\n",
       " ('os', 0.19944755733013153),\n",
       " ('frock', 0.19739562273025513),\n",
       " ('blouse', 0.19704443216323853),\n",
       " ('plaids', 0.19696447253227234),\n",
       " ('blazer', 0.1878664493560791),\n",
       " ('gown', 0.17895956337451935),\n",
       " ('Gala', 0.17834942042827606)]"
      ]
     },
     "execution_count": 100,
     "metadata": {},
     "output_type": "execute_result"
    }
   ],
   "source": [
    "#\n",
    "# With this most_similar method, we can \"subtract\" vectors, too:\n",
    "#\n",
    "\n",
    "m.most_similar(positive='python', negative='snake', topn=10) "
   ]
  },
  {
   "cell_type": "code",
   "execution_count": 101,
   "metadata": {},
   "outputs": [
    {
     "data": {
      "text/plain": [
       "[('queen', 0.7118193507194519),\n",
       " ('monarch', 0.6189674139022827),\n",
       " ('princess', 0.5902430415153503),\n",
       " ('prince', 0.5377321243286133),\n",
       " ('kings', 0.5236843228340149),\n",
       " ('queens', 0.5181135535240173),\n",
       " ('throne', 0.5005807280540466),\n",
       " ('royal', 0.4938204884529114),\n",
       " ('ruler', 0.49092739820480347),\n",
       " ('princes', 0.481081485748291)]"
      ]
     },
     "execution_count": 101,
     "metadata": {},
     "output_type": "execute_result"
    }
   ],
   "source": [
    "#\n",
    "# Here, see if you can determine the analogy that is being computed using word embeddings:\n",
    "# \n",
    "\n",
    "m.most_similar(positive=['king','woman'], negative=['man'], topn=10) "
   ]
  },
  {
   "cell_type": "code",
   "execution_count": 123,
   "metadata": {},
   "outputs": [
    {
     "name": "stdout",
     "output_type": "stream",
     "text": [
      "Testing most_similar on the king - man + woman example...\n"
     ]
    },
    {
     "data": {
      "text/plain": [
       "[('Milan', 0.7222139835357666),\n",
       " ('Rome', 0.7028312683105469),\n",
       " ('Italian', 0.5911272168159485),\n",
       " ('Tuscany', 0.5632814168930054),\n",
       " ('Bologna', 0.5608358383178711),\n",
       " ('Sicily', 0.559638261795044),\n",
       " ('Rimini', 0.5162100195884705),\n",
       " ('Venice', 0.5141453146934509),\n",
       " ('Turin', 0.5098267197608948),\n",
       " ('Budapest', 0.505317747592926)]"
      ]
     },
     "execution_count": 123,
     "metadata": {},
     "output_type": "execute_result"
    }
   ],
   "source": [
    "# \n",
    "# This problem is about building and testing analogies...\n",
    "# \n",
    "# This function has a hard-coded set of words, i.e., 'woman', 'king', and 'man'\n",
    "# Your tasks:\n",
    "#      + add inputs to the function \n",
    "#\n",
    "def test_most_similar(m):\n",
    "    \"\"\" example of most_similar \"\"\"\n",
    "    print(\"Testing most_similar on the king - man + woman example...\")\n",
    "    #results = m.most_similar(positive=['woman', 'king'], negative=['man'], topn=10) # topn == # of results\n",
    "    results = m.most_similar(positive=['Italy', 'Paris'], negative=['France'], topn=10) # topn == # of results\n",
    "    return results\n",
    "\n",
    "hard_coded_results = test_most_similar(m)\n",
    "hard_coded_results"
   ]
  },
  {
   "cell_type": "markdown",
   "metadata": {},
   "source": [
    "###  hw8pr1 task #5: &nbsp; Your task: &nbsp;&nbsp; two _analogy_ functions\n",
    "\n",
    "#### First, write `generate_analogy(word1, word2, word3, m)`  \n",
    "\n",
    "Create a function `generate_analogy(word1, word2, word3, m)` that \n",
    "+ first checks if all three words, `word1`, `word2`, `word3` are in the model `m`\n",
    "+ if not, it prints an error warning about this\n",
    "+ if so, it returns `word4`, where `word1` : `word2` :: `word3` : `word4`\n",
    "+ (This is using \"analogy notation\"!)\n",
    "+ Warning:  the ordering of the words in the most_similar call is DIFFERENT (watch out!)\n",
    "\n",
    "Be sure to test this on a few examples to find at least one that works well -- and one that does not!\n",
    "\n",
    "<br>\n",
    "<hr>\n",
    "<br>\n"
   ]
  },
  {
   "cell_type": "code",
   "execution_count": 253,
   "metadata": {},
   "outputs": [],
   "source": [
    "#\n",
    "# here is a starting point for generate_analogy:\n",
    "\n",
    "def generate_analogy(w1, w2, w3, m):\n",
    "  \"\"\" returns word2vec's \"answer\" for w1:w2 :: w3:?? \"\"\"\n",
    "  if w3 not in m:  # example check\n",
    "    print(f\"{w3} was not in the model.\")\n",
    "    return None\n",
    "  else:\n",
    "    return m.most_similar(positive=[w2,w3], negative=[w1], topn=10)\n",
    "\n"
   ]
  },
  {
   "cell_type": "markdown",
   "metadata": {},
   "source": [
    "By closely looking at the above combinations, this is the one that works. This kind of makes sense, as the analogous word should be like w3 (given), but also like w2 since you're looking for basically a neighbor of w2 that's also close to w3. I guess I'm just not sure why we have to specify w4 is unlike w1. It makes sense that w4 is not close to w1, but I don't know why the function doesn't work without that specification."
   ]
  },
  {
   "cell_type": "code",
   "execution_count": 249,
   "metadata": {},
   "outputs": [
    {
     "data": {
      "text/plain": [
       "[('queen', 0.7118193507194519),\n",
       " ('monarch', 0.6189674139022827),\n",
       " ('princess', 0.5902430415153503),\n",
       " ('prince', 0.5377321243286133),\n",
       " ('kings', 0.5236843228340149),\n",
       " ('queens', 0.5181135535240173),\n",
       " ('throne', 0.5005807280540466),\n",
       " ('royal', 0.4938204884529114),\n",
       " ('ruler', 0.49092739820480347),\n",
       " ('princes', 0.481081485748291)]"
      ]
     },
     "execution_count": 249,
     "metadata": {},
     "output_type": "execute_result"
    }
   ],
   "source": [
    "#\n",
    "# be sure to test -- and show off some of your own that work (and some that don't)\n",
    "#\n",
    "\n",
    "generate_analogy(\"man\", \"king\", \"woman\", m)  \n",
    "#generate_analogy(\"Germany\", \"Berlin\", \"France\", m)  "
   ]
  },
  {
   "cell_type": "code",
   "execution_count": 136,
   "metadata": {},
   "outputs": [
    {
     "data": {
      "text/plain": [
       "[('highway', 0.4199281334877014),\n",
       " ('lane', 0.4136943221092224),\n",
       " ('lanes', 0.3839748501777649),\n",
       " ('freeway', 0.3805706202983856),\n",
       " ('roadway', 0.3695536255836487),\n",
       " ('pedestrian', 0.35753726959228516),\n",
       " ('roads', 0.33856526017189026),\n",
       " ('Highway', 0.3303002417087555),\n",
       " ('expressway', 0.3276396095752716),\n",
       " ('trail', 0.32492595911026)]"
      ]
     },
     "execution_count": 136,
     "metadata": {},
     "output_type": "execute_result"
    }
   ],
   "source": [
    "# since the above two work very well\n",
    "# here are two that don't work as well\n",
    "#generate_analogy(\"cake\", \"sweet\", \"chips\", m)  # top answer is 'chip', 'Chips', 'smart' .... 'salty' is the 6th option (not bad, but not as good)\n",
    "generate_analogy(\"bricks\", \"road\", \"glass\", m) \n"
   ]
  },
  {
   "cell_type": "markdown",
   "metadata": {},
   "source": [
    "#### Then, write `check_analogy(word1, word2, word3, word4, m)`\n",
    "+ This should return a \"score\" on how well the word2vec model `m` does at solving the analogy provided, i.e., \n",
    "  + `word1` : `word2` :: `word3` : `word4`\n",
    "+ that is, it should determine where word4 appears in the top 100 (use topn=100) most-similar words\n",
    "+ if it _doens't_ appear in the top-100, it should give a score of 0\n",
    "+ if it _does_ appear, it should give a score between 1 and 100, but\n",
    "  + a score of 100 means a perfect score. \n",
    "  + A score of 1 means that `word4` was the 100th in the list, which is index 99\n",
    "+ Try it out!   \n",
    "  + `check_analogy( \"man\", \"king\", \"woman\", \"queen\", m ) -> 100` <br>\n",
    "  + `check_analogy( \"woman\", \"man\", \"bicycle\", \"fish\", m ) -> 0` <br>\n",
    "  + `check_analogy( \"woman\", \"man\", \"bicycle\", \"pedestrian\", m ) -> 96` <br>\n",
    "\n",
    "And, again be sure to find at least four of your own `check_analogy` examples:\n",
    "  + at least one in the \"top quartile\" (75% to 100%) \n",
    "  + at least one in the \"next quartile\" (50% to 75%) \n",
    "  + at least one in the \"next quartile\" (25% to 50%) \n",
    "  + at least one in the \"bottom quartile\" (0% to 25%) "
   ]
  },
  {
   "cell_type": "code",
   "execution_count": 250,
   "metadata": {},
   "outputs": [],
   "source": [
    "#\n",
    "# your check_analogy function\n",
    "#\n",
    "def generate_analogy_noprint(w1, w2, w3, m):\n",
    "  \"\"\" returns word2vec's \"answer\" for w1:w2 :: w3:?? \"\"\"\n",
    "  if w3 not in m:  # example check\n",
    "    print(f\"{w3} was not in the model.\")\n",
    "    return None\n",
    "  else:\n",
    "    analogy_list = m.most_similar(positive=[w2,w3], negative=[w1], topn=100)\n",
    "    return analogy_list\n",
    "\n",
    "\n",
    "def check_analogy(w1, w2, w3, w4, m):\n",
    "    analogy_list = generate_analogy_noprint(w1, w2, w3, m)\n",
    "    word4 = str(w4)\n",
    "    \n",
    "    for i in range(0,99):\n",
    "        if word4 in analogy_list[i]:\n",
    "            return print(f\"{100-i} is your analogy score\")\n",
    "        else:\n",
    "            continue\n",
    "    \n",
    "    return print(\"Your analogy score is 0\")"
   ]
  },
  {
   "cell_type": "code",
   "execution_count": 251,
   "metadata": {},
   "outputs": [
    {
     "name": "stdout",
     "output_type": "stream",
     "text": [
      "Your analogy score is 0\n"
     ]
    }
   ],
   "source": [
    "#\n",
    "# and examples from each quartile!\n",
    "#\n",
    "check_analogy(\"house\", \"home\", \"car\", \"fish\", m) # bottom quartile\n"
   ]
  },
  {
   "cell_type": "code",
   "execution_count": 234,
   "metadata": {},
   "outputs": [
    {
     "name": "stdout",
     "output_type": "stream",
     "text": [
      "35 is your analogy score\n"
     ]
    }
   ],
   "source": [
    "check_analogy( \"blue\", \"sky\", \"green\", \"tree\", m ) # next quartile"
   ]
  },
  {
   "cell_type": "code",
   "execution_count": 245,
   "metadata": {},
   "outputs": [
    {
     "name": "stdout",
     "output_type": "stream",
     "text": [
      "64 is your analogy score\n"
     ]
    }
   ],
   "source": [
    "check_analogy(\"chair\", \"sit\", \"treadmill\", \"stroll\", m) # next quartile"
   ]
  },
  {
   "cell_type": "code",
   "execution_count": 256,
   "metadata": {},
   "outputs": [
    {
     "name": "stdout",
     "output_type": "stream",
     "text": [
      "86 is your analogy score\n"
     ]
    }
   ],
   "source": [
    "check_analogy(\"in\", \"out\", \"up\", \"into\", m) # top quartile"
   ]
  },
  {
   "cell_type": "code",
   "execution_count": 237,
   "metadata": {},
   "outputs": [
    {
     "name": "stdout",
     "output_type": "stream",
     "text": [
      "100 is your analogy score\n"
     ]
    }
   ],
   "source": [
    "check_analogy(\"in\", \"out\", \"up\", \"down\", m) # top quartile"
   ]
  },
  {
   "cell_type": "code",
   "execution_count": null,
   "metadata": {},
   "outputs": [],
   "source": []
  }
 ],
 "metadata": {
  "kernelspec": {
   "display_name": "Python 3",
   "language": "python",
   "name": "python3"
  },
  "language_info": {
   "codemirror_mode": {
    "name": "ipython",
    "version": 3
   },
   "file_extension": ".py",
   "mimetype": "text/x-python",
   "name": "python",
   "nbconvert_exporter": "python",
   "pygments_lexer": "ipython3",
   "version": "3.12.3"
  }
 },
 "nbformat": 4,
 "nbformat_minor": 2
}
