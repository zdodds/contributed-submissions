{
  "cells": [
    {
      "cell_type": "markdown",
      "metadata": {
        "id": "cfCK8CCLa5-s"
      },
      "source": [
        "<br>\n",
        "\n",
        "## Final project preliminaries\n",
        "\n",
        "<font color=\"Teal\"><b>Exploring how much an idea \"pushes back\" - including its technologies, libraries, and online resources ...</b></font>\n",
        "\n"
      ]
    },
    {
      "cell_type": "markdown",
      "metadata": {
        "id": "1gAMoA_KN5L0"
      },
      "source": [
        "<br>\n",
        "\n",
        "#### Here are the  [cs35 project guidelines](https://docs.google.com/document/d/1DwoOJCy6GGECvzSOE4BDPVcEgVtvChglnz03-uxx7mA/edit)  with more details.\n",
        "\n",
        "And here is the [Colab version](https://colab.research.google.com/drive/1kASM8K0vqu40S5xjBS-hXf-bIDcQPZtz#scrollTo=1gAMoA_KN5L0) of this notebook. If Colab works better for your project, wonderful!\n",
        "\n",
        "<br>\n"
      ]
    },
    {
      "cell_type": "markdown",
      "metadata": {
        "id": "a4Zfie5Hi4HL"
      },
      "source": [
        "#### **What you've tried**\n",
        "+ What are the things you've tried <b><u>so far</u></b> - and how has it gone?  \n",
        "  + This is the most important effort!  \n",
        "  + <b>Note</b>: If you have _lots_ of ideas and can't decide... look for online guides or walkthroughs for several of them and see which are most promising (and interesting!)\n",
        "  + include, here in the Python cells above/below, the explorations and/or experiments you've pursued\n",
        "  + if you're using plain-python files or other notebook files, submit those, in addition or instead\n",
        "    + <font size=\"-2\">if you submit other files instead, include these reflections in the files you submit...</font>\n",
        "  + include any other <i>small</i> data files/links/resources you've collected\n",
        "\n",
        "<br>\n",
        "<br>"
      ]
    },
    {
      "cell_type": "markdown",
      "metadata": {
        "id": "4uQyFyn8a5-v"
      },
      "source": [
        "#### **Your Project Plan,** <font size=\"-1\">as of this moment...</font>\n",
        "\n",
        "+ <b><font color=\"DodgerBlue\">Share</font></b> a paragraph or so on your project exploration so far -- and your summer of the idea/plan + its background\n",
        "  + This is intentionally ***progress-first***\n",
        "  + **Try things out** before dedicating too much to a single, specific path...\n",
        "+ <b><font color=\"Coral\">Share</font></b>: &nbsp; What resources/libraries/walkthroughs have you found?\n",
        "+ <b><font color=\"Coral\">Share</font></b>: &nbsp; What datasets are you using? <font size=\"-1\">if applicable for your project</font>\n",
        "\n",
        "<br>\n",
        "<br>"
      ]
    },
    {
      "cell_type": "markdown",
      "metadata": {
        "id": "Pu-GIB1Ci5vN"
      },
      "source": [
        "#### **Looking ahead**\n",
        "+ Specifically, what task do you plan to try <b><u>next</u></b>?\n",
        "+ More generally, how do you plan to go _beyond_ existing resources...\n",
        "  + If it's not shared above, describe how you envision _personalizing_ and/or _individualizing_ your project..."
      ]
    },
    {
      "cell_type": "markdown",
      "metadata": {
        "id": "-WN2VW3ZMhTl"
      },
      "source": [
        "<br><br>\n",
        "<hr>\n",
        "<br><br>\n",
        "\n",
        "#### <b><font color=\"DodgerBlue\">what do i want to do/why</font></b>\n",
        "I wanted my project to relate to something else I'm doing, and since the biophysics course I'm enrolled in also has an open-ended final project, I thought I'd fuse the two projects to do something cool. My current idea is to use online databases to construct a NN which can take in protein sequence data and tell us what secondary structures are within the protein. \n",
        "\n",
        "This feels like a rather straightforward use of NNs, and there are datasets I've already found which contain the information I need (ProteinNet, in particular), so I'm currently exploring extensions to this project. Perhaps considering more features about the protein, and having it be able to generate sequences that fit a series of features would be more challenging and interesting? Or considering the tertiary structure as well to create an image from the sequence? That seems significantly more challenging though\n",
        "\n",
        "<br><br>\n",
        "\n",
        "PS. Came up with idea before I knew about AlphaFold! \n",
        "\n",
        "<br>\n",
        "\n",
        "#### <b><font color=\"Coral\">datasets</font></b>\n",
        "Paper introducing ProteinNet: https://bmcbioinformatics.biomedcentral.com/articles/10.1186/s12859-019-2932-0\n",
        "\n",
        "ProteinNet Github: https://github.com/aqlaboratory/proteinnet\n",
        "\n",
        "Info on how the secondary and tertiary structure data is represented: https://github.com/aqlaboratory/proteinnet/blob/master/docs/proteinnet_records.md\n",
        "+ I think secondary data should be simple, as there is a 1 letter code for each structure (alpha helix, beta sheet, etc.)\n",
        "+ tertiary data is trickier, but all of the positions of the amino acids are encoded as vectors. Perhaps displaying each dimension would be possible?"
      ]
    },
    {
      "cell_type": "markdown",
      "metadata": {},
      "source": [
        "#### <b>looking ahead </b>\n",
        "\n",
        "I'll have to understand their data formatting, now that I've downloaded their files. After looking at the files themselves, I think it could be a real challenge to transfer that information into Python, at least formatting-wise. From there I can perhaps get more creative with data vis or creating protein visuals (ambitious), or otherwise thinking about how I can make this project more of my own.\n",
        "\n"
      ]
    }
  ],
  "metadata": {
    "colab": {
      "provenance": []
    },
    "kernelspec": {
      "display_name": "Python 3.10.4 64-bit",
      "language": "python",
      "name": "python3"
    },
    "language_info": {
      "codemirror_mode": {
        "name": "ipython",
        "version": 3
      },
      "file_extension": ".py",
      "mimetype": "text/x-python",
      "name": "python",
      "nbconvert_exporter": "python",
      "pygments_lexer": "ipython3",
      "version": "3.10.4"
    },
    "vscode": {
      "interpreter": {
        "hash": "aee8b7b246df8f9039afb4144a1f6fd8d2ca17a180786b69acc140d282b71a49"
      }
    }
  },
  "nbformat": 4,
  "nbformat_minor": 0
}
