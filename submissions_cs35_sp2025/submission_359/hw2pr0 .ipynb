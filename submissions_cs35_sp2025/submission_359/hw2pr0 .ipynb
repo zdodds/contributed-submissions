{
 "cells": [
  {
   "attachments": {},
   "cell_type": "markdown",
   "metadata": {},
   "source": [
    "#### week2 ~ the-web-as-our-filesystem: <i>to scrape or not to scrape</i> ?\n",
    "\n",
    "[the google doc with hw2's details](https://docs.google.com/document/d/1z4HwpUL1-ImGX3j-6bddyZAfdv2SkRQHRNhF5Cu3Fkk/edit?tab=t.0)\n",
    "\n",
    "<hr>"
   ]
  },
  {
   "attachments": {},
   "cell_type": "markdown",
   "metadata": {},
   "source": [
    "#### Reading for hw2...     (hw2pr0.ipynb)\n",
    "\n",
    "\n",
    "<br>\n",
    "Problem 0:      <i><b>(When)  Is webscraping legal and/or ethical?     [10 pts]</b></i>\n",
    "\n",
    "This week's reading includes 1++ short articles:\n",
    "+ The first article  is entitled, [Is Web Scraping Ethical](https://scrapeops.io/web-scraping-playbook/ethics-of-web-scraping/) by ScrapeOps.io (they're not impartial: they're a webscraping-tools company!)\n",
    "\n",
    "<br>\n",
    "\n",
    "+ The \"+\" article is Meta's [Facebook Terms of Service](https://www.facebook.com/terms.php).  (Perhaps this should be the \"+1\" article?)\n",
    "  + We're definitely _not_ asking you to read the whole Facebook/Meta ToS!  Rather, find your way to Section 3, Subsection 2 ***\"What you can share and do on Meta.\"***   It's relatively short: it's one \"screenful.\" \n",
    "  + The one sub-sub-section to consider especially carefully is 3.2.3.\n",
    "\n",
    "<br>\n",
    "\n",
    "+ In addition, we share this _flowchart_ of webscraping, from [this article by Sophie Chou of the MIT Media Lab and Pro Publica](https://www.storybench.org/to-scrape-or-not-to-scrape-the-technical-and-ethical-challenges-of-collecting-data-off-the-web/) (you need not read the article - if you do open it, notice the first line of the <i>above-the-fold</i> Python script!)\n",
    "\n",
    "<br>\n",
    "\n",
    "<img src=\"https://www.storybench.org/wp-content/uploads/2016/04/flowchart_final.jpeg\" height=\"500px\">\n",
    "\n",
    "<br>\n"
   ]
  },
  {
   "attachments": {},
   "cell_type": "markdown",
   "metadata": {},
   "source": [
    "Then, in response to these resources, reflect on any <u>one of these three prompts</u>:   \n",
    "+ (**Prompt A**) Look over Sophie Chiu's \"Should you scrape?\" flowchart. Find one decision node that you particularly agree -- or disagree -- with and elaborate on why. (Feel free to note whether you feel this hw adheres to the chart!)  \n",
    "+ (**Prompt B**) At the end of the first article there is a set of \"Principles for Responsible Scraping\" Looking that over, find one principle you particularly agree -- or disagree -- with and elaborate on why.  \n",
    "+ (**Prompt C**) Having read some of Facebook's ToS, consider its stated requirement \"You may not access or collect data from our Products using automated means...\"  Elaborate on what you think \"automated means\" includes -- and doesn't include.   \n",
    "\n",
    "<br>\n",
    "\n",
    "As with each week's reading, responses should be carefully considered, but need not be very CS35_Participant_2 (~5 or so sentences is wonderful).  \n",
    "\n",
    "<hr>"
   ]
  },
  {
   "attachments": {},
   "cell_type": "markdown",
   "metadata": {},
   "source": [
    "#### Reading response\n",
    "\n",
    "Prompt B) One of the \"Principles for Responsible Scraping\" that I particularly agreed with was 'I will scrape with the goal of creating value with your data, not simply duplicating it.' I feel like this is a principle that could potentially justify web scraping that is against outlined Terms of Service. Given that the data is publically available, it seems that blanket-statement bans of web scraping prevent potential positive services that could be generated through webscraping. I could imagine that  However, I understand that web scraping can also facilitate negative impacts on websites and users, so I understand why companies might include that sort of statement in their Terms of Service. One of the \"Principles of Ethical Scraping\" that I felt a bit more conflicted about was the one that suggested that scrapers make sure that they are clearly identified to website owners. Although this seems best in theory, I can imagine that this could result in additional roadblocks for scrapers who are trying to operate ethically, without affecting unethical scraping. "
   ]
  }
 ],
 "metadata": {
  "interpreter": {
   "hash": "7ccb4bb6bd67730c9185e6c24c983362cd7b4575b595bfae100d8d91e48f4f1e"
  },
  "kernelspec": {
   "display_name": "Python 3.8.8 64-bit (conda)",
   "language": "python",
   "name": "python3"
  },
  "language_info": {
   "codemirror_mode": {
    "name": "ipython",
    "version": 3
   },
   "file_extension": ".py",
   "mimetype": "text/x-python",
   "name": "python",
   "nbconvert_exporter": "python",
   "pygments_lexer": "ipython3",
   "version": "3.12.1"
  },
  "orig_nbformat": 4
 },
 "nbformat": 4,
 "nbformat_minor": 2
}
