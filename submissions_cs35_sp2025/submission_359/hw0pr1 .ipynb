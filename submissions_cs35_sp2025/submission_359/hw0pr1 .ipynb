{
  "cells": [
    {
      "cell_type": "markdown",
      "metadata": {
        "id": "0keK2MEapMGN"
      },
      "source": [
        "### Jupyter Notebooks and Markdown!\n",
        "+ At heart, cs35 is about bridge-building between human expression and executable expression\n",
        "+ markdown is a popular language for human expression  (this cell is markdown)\n",
        "  + control-enter renders the Markdown  (\"runs\" it)\n",
        "+ python is a popular language for executable expression (see cells below!)"
      ]
    },
    {
      "cell_type": "markdown",
      "metadata": {
        "id": "UsHtg92UpMGP"
      },
      "source": [
        "#### This is a Markdown cell, a <i>fourth-level</i> header\n",
        "+ If you've already used Markdown, e.g., in Discord, wiki editing, etc., wonderful!\n",
        "+ If you haven't used it, [this Markdown link](https://www.markdownguide.org/basic-syntax/) is a reference...\n",
        "+ Equally or more welcome: &nbsp; Dive in! &nbsp; Share! &nbsp; Ask!"
      ]
    },
    {
      "cell_type": "markdown",
      "metadata": {
        "id": "oB9O_LRmpMGQ"
      },
      "source": [
        "#### <font color=\"Coral\">First task</font> -- is \"to markdown\":\n",
        "+ Here, use your markdown knowledge or research to...\n",
        "+ __bold this item__\n",
        "+ *italicize this item*\n",
        "+ ~~strikethrough this item~~\n",
        "+ `use fixed-width formatting for this item, i.e., code-style`\n",
        "+ ## and then do something else (your choice) with this item\n",
        "+ BUT... <i><b><u>don't</u></b></i> use mark<u>up</u>, as this item does. Use mark<u>down</u>!\n",
        "+ That is to say, don't use tags like <tt>\\<i\\>this\\</i\\></tt> for any of the challenges above..."
      ]
    },
    {
      "cell_type": "markdown",
      "metadata": {
        "id": "s854WO43pMGQ"
      },
      "source": [
        "#### <font color=\"Coral\">Second task</font> -- Be sure to\n",
        "+ Change this list so that it uses <u>your</u> name and includes at least three \"fun facts\" about yourself, including at least two links and at least one link to a picture of you somewhere...\n",
        "+ **CS35_Participant_3**\n",
        "+ I love chocolate ice cream\n",
        "+ Just finished watching the TV show [Abbott Elementary](https://abc.com/show/e4f28254-2fc4-4cc1-b9bb-eee0564c178e)\n",
        "+ I've taken piano lessons throughout college, most recently learning a [piece](https://www.youtube.com/watch?v=j7bwFCNzcno) by Ravel\n",
        "\n",
        "+ On the Pomona-Pitzer [Track/Cross Country](https://sagehens.com/sports/womens-track-and-field/roster/CS35_Participant_3-CS35_Participant_3/8830) teams - ran a (1 second) 6k PR last season!"
      ]
    },
    {
      "cell_type": "code",
      "execution_count": null,
      "metadata": {
        "id": "xHl89szhtlLT"
      },
      "outputs": [],
      "source": []
    },
    {
      "cell_type": "markdown",
      "metadata": {
        "id": "hGyU4Tm8pMGQ"
      },
      "source": [
        "#### <font color=\"Coral\">Third task</font> include a linked image via url: Here is an image of the sea salt chocolate chip cookies I am craving...\n",
        "\n",
        "\n",
        "<img src=\"https://cheneetoday.com/wp-content/uploads/2021/03/small-batch-chocolate-chip-cookies.jpg\" height=200>"
      ]
    },
    {
      "cell_type": "markdown",
      "metadata": {
        "id": "neklQlpfpMGQ"
      },
      "source": [
        "### Onward to Python!"
      ]
    },
    {
      "cell_type": "code",
      "execution_count": 1,
      "metadata": {
        "colab": {
          "base_uri": "https://localhost:8080/"
        },
        "id": "RviHCRelpMGQ",
        "outputId": "485f219b-a836-494a-a8a0-a0402dfba4af"
      },
      "outputs": [
        {
          "name": "stdout",
          "output_type": "stream",
          "text": [
            "x is 43\n"
          ]
        },
        {
          "data": {
            "text/plain": [
              "42"
            ]
          },
          "execution_count": 1,
          "metadata": {},
          "output_type": "execute_result"
        }
      ],
      "source": [
        "#\n",
        "# python is a popular language for executable expression\n",
        "#     This is a python cell\n",
        "#     Try this shortcut: control-return or control-enter runs it:\n",
        "\n",
        "x = 43\n",
        "print(\"x is\", x)\n",
        "\n",
        "x -= 1\n",
        "x\n",
        "\n",
        "# notice that the last expression is the cell's output.\n",
        "# printing and outputting are different!"
      ]
    },
    {
      "cell_type": "markdown",
      "metadata": {
        "id": "LUXLBmP5pMGR"
      },
      "source": [
        "#### Python review in about 5-10 cells!\n",
        "\n",
        "cs5 in one day!"
      ]
    },
    {
      "cell_type": "code",
      "execution_count": null,
      "metadata": {
        "colab": {
          "base_uri": "https://localhost:8080/"
        },
        "id": "IZzKVHfNpMGS",
        "outputId": "32fe344d-8c56-4c3e-a749-6f3c118684e2"
      },
      "outputs": [
        {
          "name": "stdout",
          "output_type": "stream",
          "text": [
            "L[1:] equals [8, 9]\n",
            "L[1:] equals [8, 9]\n",
            "L[1:] = [8, 9]\n",
            "\n",
            "cmc scripps pitzer hmc\n"
          ]
        },
        {
          "data": {
            "text/plain": [
              "True"
            ]
          },
          "execution_count": 2,
          "metadata": {},
          "output_type": "execute_result"
        }
      ],
      "source": [
        "#\n",
        "# Let's fit all of Python into the next five or so cells!\n",
        "#\n",
        "\n",
        "L = [7,8,9]\n",
        "\n",
        "print(\"L[1:] equals\", L[1:])    # slicing!\n",
        "\n",
        "print(f\"L[1:] equals {L[1:]}\")  # f strings!\n",
        "\n",
        "print(f\"{L[1:] = }\")            # cool = syntax, new for me...\n",
        "\n",
        "print()\n",
        "\n",
        "colleges = 'cmc scripps pitzer hmc'\n",
        "print(colleges)\n",
        "\n",
        "'c' in colleges          # in is in!"
      ]
    },
    {
      "cell_type": "markdown",
      "metadata": {
        "id": "9ZB24PuKpMGS"
      },
      "source": [
        "#### Let's use f-strings more carefully ...\n"
      ]
    },
    {
      "cell_type": "code",
      "execution_count": null,
      "metadata": {
        "colab": {
          "base_uri": "https://localhost:8080/"
        },
        "id": "0_LqDdOlpMGS",
        "outputId": "c23d10bc-c556-41e3-a6ae-f9629831a793"
      },
      "outputs": [
        {
          "name": "stdout",
          "output_type": "stream",
          "text": [
            "x = 42\n",
            "x = 42\n"
          ]
        }
      ],
      "source": [
        "x = 42\n",
        "\n",
        "print(\"x =\", x)    # \"regular\" print\n",
        "\n",
        "print(  f\"{x = }\" )  # f-string print"
      ]
    },
    {
      "cell_type": "code",
      "execution_count": null,
      "metadata": {
        "colab": {
          "base_uri": "https://localhost:8080/"
        },
        "id": "o6Igk7PMpMGS",
        "outputId": "395c94dc-d69c-484e-d74d-0a77090ea936"
      },
      "outputs": [
        {
          "name": "stdout",
          "output_type": "stream",
          "text": [
            "Poptarts? I'll take 40!\n",
            "Poptarts? I'll take 41!\n",
            "Poptarts? I'll take 42!\n"
          ]
        }
      ],
      "source": [
        "\"\"\"wrong = 41\"\"\"\n",
        "snack = \"Poptarts\"\n",
        "\n",
        "# fs = f\"{snack}? I'll take {wrong+1}!\"\n",
        "# print(fs)\n",
        "\n",
        "for i in range(40,42+1):\n",
        "    print(f\"{snack}? I'll take {i}!\")\n"
      ]
    },
    {
      "cell_type": "markdown",
      "metadata": {
        "id": "gFqizA-QpMGS"
      },
      "source": [
        "#### Notice that variables persist from cell to cell...\n",
        "\n",
        "Here, ``L`` and ``colleges`` are variables defined above.\n",
        "Their values are still present:\n"
      ]
    },
    {
      "cell_type": "code",
      "execution_count": null,
      "metadata": {
        "colab": {
          "base_uri": "https://localhost:8080/"
        },
        "id": "Auso67LnpMGS",
        "outputId": "6193160b-6f83-44b5-9161-c0b9ec05b341"
      },
      "outputs": [
        {
          "name": "stdout",
          "output_type": "stream",
          "text": [
            "L=[7, 8, 9]  L.index(9) is 2\n",
            "\n",
            "colleges.title() returns  Cmc Scripps Pitzer Hmc\n",
            "\n",
            "# of c's in colleges: 4\n",
            "\n",
            "CmC sCripps pitzer hmC\n"
          ]
        }
      ],
      "source": [
        "print(f\"{L=}  L.index(9) is\", L.index(9))     # calling methods (functions after a \".\")\n",
        "print()\n",
        "print(\"colleges.title() returns \", colleges.title())        # ditto!  Let's shout!\n",
        "print()\n",
        "print(\"# of c's in colleges:\", colleges.count('c'))\n",
        "print()\n",
        "print(colleges.replace('c','C'))"
      ]
    },
    {
      "cell_type": "markdown",
      "metadata": {
        "id": "F5XZKvaQpMGS"
      },
      "source": [
        "#### ``split`` is a _really_ useful function\n",
        "\n",
        "Notice that it is called <i>by</i> the string being split.\n",
        "\n",
        "It returns a list!\n",
        "\n",
        "(Q'n: <i>How in the input being used?</i>)\n"
      ]
    },
    {
      "cell_type": "code",
      "execution_count": null,
      "metadata": {
        "colab": {
          "base_uri": "https://localhost:8080/"
        },
        "id": "fGzjCZwqpMGS",
        "outputId": "5a9b9348-f116-4a46-ff1c-e4f8ab1cc293"
      },
      "outputs": [
        {
          "name": "stdout",
          "output_type": "stream",
          "text": [
            "LoW is ['cmc', 'scripps', 'pitzer', 'hmc']\n",
            "LoS is ['', 'm', ' s', 'ripps pitzer hm', '']\n"
          ]
        }
      ],
      "source": [
        "LoW = colleges.split()\n",
        "print(\"LoW is\", LoW)\n",
        "\n",
        "LoS = colleges.split('c')\n",
        "print(\"LoS is\", LoS)"
      ]
    },
    {
      "cell_type": "markdown",
      "metadata": {
        "id": "1V0BLBRTpMGT"
      },
      "source": [
        "#### ``join`` is the _opposite_ of split"
      ]
    },
    {
      "cell_type": "code",
      "execution_count": 2,
      "metadata": {
        "colab": {
          "base_uri": "https://localhost:8080/",
          "height": 35
        },
        "id": "g8WeYpVzpMGT",
        "outputId": "da3f4983-5461-4dab-e6a2-ee36c2b2a5b9"
      },
      "outputs": [
        {
          "data": {
            "application/vnd.google.colaboratory.intrinsic+json": {
              "type": "string"
            },
            "text/plain": [
              "'wordleisawesome'"
            ]
          },
          "execution_count": 2,
          "metadata": {},
          "output_type": "execute_result"
        }
      ],
      "source": [
        "LoW = [ \"word\", \"leisa\", \"we\", \"some\" ]\n",
        "''.join(LoW)"
      ]
    },
    {
      "cell_type": "markdown",
      "metadata": {
        "id": "vYFhyOllpMGT"
      },
      "source": [
        "#### <font color=\"Coral\">Fourth task</font>: &nbsp; add another example in the spirit of the one below...\n",
        "+ create (at least) three more variables and\n",
        "+ a sentence using all of them and\n",
        "+ render them in a single strings using f-strings...    \n",
        "\n",
        "Experiment!"
      ]
    },
    {
      "cell_type": "code",
      "execution_count": 4,
      "metadata": {
        "colab": {
          "base_uri": "https://localhost:8080/"
        },
        "id": "Lxm03NkxpMGT",
        "outputId": "64637d6b-e7f9-4738-a959-da4089b52b93"
      },
      "outputs": [
        {
          "name": "stdout",
          "output_type": "stream",
          "text": [
            "hello from jupyter, running python, within vscode...!\n",
            "\n",
            "Meta would be proud!\n",
            "Flight 1028 departs from ONT at 10:35am and arrives in DFW at 12:22pm\n"
          ]
        }
      ],
      "source": [
        "#\n",
        "# f-strings!\n",
        "#\n",
        "\n",
        "interface = \"jupyter\"\n",
        "language = \"python\"\n",
        "application = \"vscode\"\n",
        "\n",
        "print(f\"hello from {interface}, running {language}, within {application}...!\")\n",
        "print()\n",
        "\n",
        "company = \"Meta\"\n",
        "print(f\"{company} would be proud!\")\n",
        "\n",
        "#\n",
        "# Feel free to create your own quippy example here or in a new cell...\n",
        "#\n",
        "\n",
        "flight = 1028\n",
        "departure = \"ONT\"\n",
        "arrival = \"DFW\"\n",
        "dtime = \"10:35am\"\n",
        "atime = \"12:22pm\"\n",
        "\n",
        "print(f\"Flight {flight} departs from {departure} at {dtime} and arrives in {arrival} at {atime}\")\n",
        "\n"
      ]
    },
    {
      "cell_type": "markdown",
      "metadata": {
        "id": "_aDq2ggspMGT"
      },
      "source": [
        "#### **Remember**  _list comprehensions_  ?\n",
        "+ they are \"loops-in-lists\"\n",
        "+ or \"lists-with-loops\"\n",
        "\n"
      ]
    },
    {
      "cell_type": "code",
      "execution_count": 5,
      "metadata": {
        "colab": {
          "base_uri": "https://localhost:8080/"
        },
        "id": "qDD8fQvapMGT",
        "outputId": "181a796c-54c0-4113-a941-d4a70272375f"
      },
      "outputs": [
        {
          "data": {
            "text/plain": [
              "[40, 42, 44, 46]"
            ]
          },
          "execution_count": 5,
          "metadata": {},
          "output_type": "execute_result"
        }
      ],
      "source": [
        "# I <3 list comprehensions!\n",
        "[ 2*x for x in range(20,24) ]"
      ]
    },
    {
      "cell_type": "code",
      "execution_count": 12,
      "metadata": {
        "colab": {
          "base_uri": "https://localhost:8080/"
        },
        "id": "bonKhd8HpMGT",
        "outputId": "94da8e47-1274-453c-88a2-8bbfcde41524"
      },
      "outputs": [
        {
          "name": "stdout",
          "output_type": "stream",
          "text": [
            "LC = [0, 2, 4, 6, 8, 10, 12, 14, 16, 18, 20, 22, 24, 26, 28, 30, 32, 34, 36, 38, 40, 42, 44, 46, 48, 50, 52, 54, 56, 58, 60, 62, 64, 66, 68, 70, 72, 74, 76, 78, 80, 82, 84, 86, 88, 90, 92, 94, 96, 98, 100, 102, 104, 106, 108, 110, 112, 114, 116, 118, 120, 122, 124, 126, 128, 130, 132, 134, 136, 138, 140, 142, 144, 146, 148, 150, 152, 154, 156, 158, 160, 162, 164, 166, 168, 170, 172, 174, 176, 178, 180, 182, 184, 186, 188, 190, 192, 194, 196, 198, 200, 202, 204, 206, 208, 210, 212, 214, 216, 218, 220, 222, 224, 226, 228, 230, 232, 234, 236, 238, 240, 242, 244, 246, 248, 250, 252, 254, 256, 258, 260, 262, 264, 266, 268, 270, 272, 274, 276, 278, 280, 282, 284, 286, 288, 290, 292, 294, 296, 298, 300, 302, 304, 306, 308, 310, 312, 314, 316, 318, 320, 322, 324, 326, 328, 330, 332, 334, 336, 338, 340, 342, 344, 346, 348, 350, 352, 354, 356, 358, 360, 362, 364, 366, 368, 370, 372, 374, 376, 378, 380, 382, 384, 386, 388, 390, 392, 394, 396, 398, 400, 402, 404, 406, 408, 410, 412, 414, 416, 418, 420, 422, 424, 426, 428, 430, 432, 434, 436, 438, 440, 442, 444, 446, 448, 450, 452, 454, 456, 458, 460, 462, 464, 466, 468, 470, 472, 474, 476, 478, 480, 482, 484, 486, 488, 490, 492, 494, 496, 498, 500, 502, 504, 506, 508, 510, 512, 514, 516, 518, 520, 522, 524, 526, 528, 530, 532, 534, 536, 538, 540, 542, 544, 546, 548, 550, 552, 554, 556, 558, 560, 562, 564, 566, 568, 570, 572, 574, 576, 578, 580, 582, 584, 586, 588, 590, 592, 594, 596, 598, 600, 602, 604, 606, 608, 610, 612, 614, 616, 618, 620, 622, 624, 626, 628, 630, 632, 634, 636, 638, 640, 642, 644, 646, 648, 650, 652, 654, 656, 658, 660, 662, 664, 666, 668, 670, 672, 674, 676, 678, 680, 682, 684, 686, 688, 690, 692, 694, 696, 698, 700, 702, 704, 706, 708, 710, 712, 714, 716, 718, 720, 722, 724, 726, 728, 730, 732, 734, 736, 738, 740, 742, 744, 746, 748, 750, 752, 754, 756, 758, 760, 762, 764, 766, 768, 770, 772, 774, 776, 778, 780, 782, 784, 786, 788, 790, 792, 794, 796, 798, 800, 802, 804, 806, 808, 810, 812, 814, 816, 818, 820, 822, 824, 826, 828, 830, 832, 834, 836, 838, 840, 842, 844, 846, 848, 850, 852, 854, 856, 858, 860, 862, 864, 866, 868, 870, 872, 874, 876, 878, 880, 882, 884, 886, 888, 890, 892, 894, 896, 898, 900, 902, 904, 906, 908, 910, 912, 914, 916, 918, 920, 922, 924, 926, 928, 930, 932, 934, 936, 938, 940, 942, 944, 946, 948, 950, 952, 954, 956, 958, 960, 962, 964, 966, 968, 970, 972, 974, 976, 978, 980, 982, 984, 986, 988, 990, 992, 994, 996, 998]\n",
            "\n",
            "answer = 500\n"
          ]
        }
      ],
      "source": [
        "#\n",
        "# Here is an example that uses list comprehensions to\n",
        "# count how many of the first 1000 integers are even\n",
        "\n",
        "LC = [ x for x in range(1000) if x % 2 == 0 ]\n",
        "print(f\"LC = {LC}\")\n",
        "print()\n",
        "\n",
        "answer = len(LC)\n",
        "print(f\"answer = {answer}\")\n"
      ]
    },
    {
      "cell_type": "markdown",
      "metadata": {
        "id": "dPC_jPgspMGT"
      },
      "source": [
        "#### <font color=\"Coral\">Fifth task</font>: &nbsp; <b>LC Challenge</b>\n",
        "\n",
        "Use list comprehensions to find how many of the first 1000 integers, _when squared_, contain the digit 4?\n",
        "+ Remember: ``str(x)`` converts ``x`` to a string\n",
        "\n",
        "Then, create a variation of this question -- of your own design -- and answer it! For example,\n",
        "+ what about checking for ``'4'`` and ``'2'`` ?\n",
        "+ what about checking for ``'4'`` or ``'2'`` ?\n",
        "+ even better: something else you've devised!\n",
        "\n",
        "Then , in a sentence-ish, explain your thinking:\n",
        "  + <i>why that question</i>\n",
        "  + <i>how did you answer it computationally?</i>\n",
        "  + <i>does the answer seem reasonable?</i>"
      ]
    },
    {
      "cell_type": "code",
      "execution_count": 23,
      "metadata": {
        "colab": {
          "base_uri": "https://localhost:8080/"
        },
        "id": "kqZfGf-Hj-PZ",
        "outputId": "65473d44-bc2d-4c2d-80a4-b73d3edcf1c1"
      },
      "outputs": [
        {
          "name": "stdout",
          "output_type": "stream",
          "text": [
            "[4, 49, 64, 144, 324, 400, 441, 484, 784, 841, 1024, 1444, 1764, 1849, 2304, 2401, 2704, 3249, 3364, 3481, 3844, 4096, 4225, 4356, 4489, 4624, 4761, 4900, 5041, 5184, 5476, 6084, 6241, 6400, 6724, 7744, 8464, 8649, 9409, 9604, 10404, 11449, 11664, 12544, 13456, 13924, 14161, 14400, 14641, 14884, 16384, 16641, 17424, 18496, 19044, 20164, 20449, 21904, 23104, 23409, 24025, 24336, 24649, 24964, 26244, 28224, 29241, 29584, 31684, 32041, 32400, 33124, 33489, 34225, 34596, 34969, 35344, 36481, 36864, 37249, 38416, 39204, 40000, 40401, 40804, 41209, 41616, 42025, 42436, 42849, 43264, 43681, 44100, 44521, 44944, 45369, 45796, 46225, 46656, 47089, 47524, 47961, 48400, 48841, 49284, 49729, 51984, 52441, 53824, 54289, 54756, 56644, 58564, 59049, 61504, 63504, 64009, 64516, 66049, 66564, 68644, 71824, 73441, 73984, 74529, 77284, 77841, 78400, 79524, 82944, 84100, 84681, 85264, 85849, 86436, 88804, 89401, 91204, 92416, 94249, 94864, 95481, 97344, 100489, 101124, 102400, 103041, 103684, 104329, 104976, 107584, 108241, 110224, 114244, 114921, 116964, 117649, 120409, 121104, 123904, 124609, 127449, 128164, 131044, 132496, 134689, 135424, 137641, 138384, 140625, 141376, 142129, 142884, 143641, 144400, 145161, 145924, 146689, 147456, 148225, 148996, 149769, 150544, 153664, 154449, 158404, 161604, 162409, 164025, 164836, 165649, 166464, 169744, 174724, 176400, 177241, 178084, 181476, 183184, 184041, 184900, 186624, 187489, 191844, 194481, 195364, 196249, 200704, 203401, 204304, 208849, 209764, 213444, 214369, 219024, 221841, 222784, 224676, 228484, 229441, 230400, 232324, 234256, 238144, 240100, 241081, 242064, 243049, 244036, 245025, 246016, 247009, 248004, 249001, 252004, 254016, 257049, 258064, 262144, 264196, 268324, 270400, 271441, 272484, 274576, 278784, 279841, 283024, 284089, 289444, 293764, 294849, 300304, 301401, 304704, 310249, 311364, 312481, 314721, 315844, 321489, 322624, 324900, 326041, 327184, 329476, 334084, 335241, 336400, 338724, 341056, 342225, 343396, 344569, 345744, 346921, 348100, 349281, 350464, 351649, 354025, 356409, 357604, 362404, 364816, 368449, 369664, 374544, 379456, 381924, 384400, 385641, 386884, 394384, 395641, 399424, 400689, 401956, 403225, 404496, 405769, 407044, 408321, 409600, 410881, 412164, 413449, 414736, 416025, 417316, 418609, 419904, 421201, 422500, 423801, 425104, 426409, 427716, 429025, 430336, 431649, 432964, 434281, 435600, 436921, 438244, 439569, 440896, 442225, 443556, 444889, 446224, 447561, 448900, 450241, 451584, 452929, 454276, 455625, 456976, 458329, 459684, 461041, 462400, 463761, 465124, 466489, 467856, 469225, 470596, 471969, 473344, 474721, 476100, 477481, 478864, 480249, 481636, 483025, 484416, 485809, 487204, 488601, 490000, 491401, 492804, 494209, 495616, 497025, 498436, 499849, 501264, 504100, 506944, 514089, 515524, 518400, 519841, 521284, 524176, 529984, 531441, 534361, 535824, 540225, 541696, 543169, 544644, 546121, 547600, 549081, 550564, 552049, 559504, 564001, 565504, 573049, 574564, 580644, 589824, 594441, 595984, 605284, 606841, 608400, 611524, 614656, 620944, 624100, 627264, 628849, 630436, 636804, 638401, 640000, 641601, 643204, 644809, 646416, 648025, 649636, 651249, 652864, 654481, 659344, 664225, 667489, 669124, 672400, 674041, 675684, 685584, 687241, 692224, 702244, 708964, 710649, 714025, 717409, 719104, 724201, 725904, 734449, 736164, 741321, 743044, 744769, 746496, 748225, 749956, 753424, 758641, 760384, 770884, 772641, 774400, 777924, 781456, 784996, 788544, 795664, 797449, 804609, 806404, 813604, 815409, 822649, 824464, 831744, 840889, 842724, 844561, 846400, 848241, 850084, 857476, 861184, 863041, 864900, 868624, 870489, 874225, 879844, 885481, 887364, 889249, 894916, 898704, 904401, 906304, 915849, 917764, 925444, 937024, 940900, 942841, 944784, 946729, 948676, 954529, 956484, 958441, 960400, 964324, 974169, 976144, 984064, 986049, 994009, 996004]\n",
            "510 of the first 1000 integers contain the digit 4 when squared.\n"
          ]
        }
      ],
      "source": [
        "LC2 = [x*x for x in range(1000) if '4' in str(x*x)]\n",
        "print(LC2)\n",
        "answer2 = len(LC2)\n",
        "print(f\"{answer2} of the first 1000 integers contain the digit 4 when squared.\")"
      ]
    },
    {
      "cell_type": "code",
      "execution_count": 25,
      "metadata": {
        "colab": {
          "base_uri": "https://localhost:8080/"
        },
        "id": "TxKsqQoulILf",
        "outputId": "add1f35c-09c4-46bb-98dc-e9148b5839fa"
      },
      "outputs": [
        {
          "name": "stdout",
          "output_type": "stream",
          "text": [
            "[4, 25, 49, 64, 121, 144, 225, 256, 289, 324, 400, 441, 484, 529, 625, 729, 784, 841, 1024, 1225, 1296, 1444, 1521, 1764, 1849, 2025, 2116, 2209, 2304, 2401, 2500, 2601, 2704, 2809, 2916, 3025, 3249, 3364, 3481, 3721, 3844, 4096, 4225, 4356, 4489, 4624, 4761, 4900, 5041, 5184, 5329, 5476, 5625, 5929, 6084, 6241, 6400, 6724, 7225, 7744, 7921, 8281, 8464, 8649, 9025, 9216, 9409, 9604, 10201, 10404, 11025, 11236, 11449, 11664, 12100, 12321, 12544, 12769, 12996, 13225, 13456, 13924, 14161, 14400, 14641, 14884, 15129, 15625, 16129, 16384, 16641, 17424, 18225, 18496, 19044, 19321, 20164, 20449, 20736, 21025, 21316, 21609, 21904, 22201, 22500, 22801, 23104, 23409, 23716, 24025, 24336, 24649, 24964, 25281, 25600, 25921, 26244, 26569, 26896, 27225, 27556, 27889, 28224, 28561, 28900, 29241, 29584, 29929, 30276, 30625, 31329, 31684, 32041, 32400, 32761, 33124, 33489, 34225, 34596, 34969, 35344, 35721, 36481, 36864, 37249, 38025, 38416, 39204, 40000, 40401, 40804, 41209, 41616, 42025, 42436, 42849, 43264, 43681, 44100, 44521, 44944, 45369, 45796, 46225, 46656, 47089, 47524, 47961, 48400, 48841, 49284, 49729, 50625, 51529, 51984, 52441, 52900, 53824, 54289, 54756, 55225, 56644, 57121, 58564, 59049, 60025, 61504, 62001, 62500, 63504, 64009, 64516, 65025, 66049, 66564, 68121, 68644, 70225, 71289, 71824, 72361, 72900, 73441, 73984, 74529, 75625, 76729, 77284, 77841, 78400, 79524, 81225, 82369, 82944, 83521, 84100, 84681, 85264, 85849, 86436, 87025, 88209, 88804, 89401, 91204, 92416, 93025, 94249, 94864, 95481, 96721, 97344, 99225, 100489, 101124, 102400, 103041, 103684, 104329, 104976, 105625, 106276, 106929, 107584, 108241, 110224, 112225, 112896, 114244, 114921, 116281, 116964, 117649, 119025, 120409, 121104, 121801, 122500, 123201, 123904, 124609, 125316, 126025, 126736, 127449, 128164, 128881, 129600, 130321, 131044, 132496, 133225, 134689, 135424, 137641, 138384, 139129, 140625, 141376, 142129, 142884, 143641, 144400, 145161, 145924, 146689, 147456, 148225, 148996, 149769, 150544, 151321, 152100, 152881, 153664, 154449, 155236, 156025, 158404, 159201, 161604, 162409, 163216, 164025, 164836, 165649, 166464, 167281, 168921, 169744, 172225, 174724, 176400, 177241, 178084, 178929, 180625, 181476, 182329, 183184, 184041, 184900, 186624, 187489, 189225, 191844, 192721, 194481, 195364, 196249, 198025, 200704, 201601, 202500, 203401, 204304, 205209, 206116, 207025, 207936, 208849, 209764, 210681, 211600, 212521, 213444, 214369, 215296, 216225, 217156, 218089, 219024, 219961, 220900, 221841, 222784, 223729, 224676, 225625, 226576, 227529, 228484, 229441, 230400, 231361, 232324, 233289, 234256, 235225, 236196, 237169, 238144, 239121, 240100, 241081, 242064, 243049, 244036, 245025, 246016, 247009, 248004, 249001, 250000, 251001, 252004, 253009, 254016, 255025, 256036, 257049, 258064, 259081, 260100, 261121, 262144, 263169, 264196, 265225, 266256, 267289, 268324, 269361, 270400, 271441, 272484, 273529, 274576, 275625, 276676, 277729, 278784, 279841, 280900, 281961, 283024, 284089, 285156, 286225, 287296, 288369, 289444, 290521, 291600, 292681, 293764, 294849, 295936, 297025, 298116, 299209, 300304, 301401, 302500, 304704, 308025, 310249, 311364, 312481, 314721, 315844, 319225, 320356, 321489, 322624, 323761, 324900, 326041, 327184, 328329, 329476, 330625, 332929, 334084, 335241, 336400, 338724, 341056, 342225, 343396, 344569, 345744, 346921, 348100, 349281, 350464, 351649, 352836, 354025, 355216, 356409, 357604, 361201, 362404, 364816, 366025, 367236, 368449, 369664, 372100, 373321, 374544, 378225, 379456, 381924, 384400, 385641, 386884, 388129, 390625, 393129, 394384, 395641, 399424, 400689, 401956, 403225, 404496, 405769, 407044, 408321, 409600, 410881, 412164, 413449, 414736, 416025, 417316, 418609, 419904, 421201, 422500, 423801, 425104, 426409, 427716, 429025, 430336, 431649, 432964, 434281, 435600, 436921, 438244, 439569, 440896, 442225, 443556, 444889, 446224, 447561, 448900, 450241, 451584, 452929, 454276, 455625, 456976, 458329, 459684, 461041, 462400, 463761, 465124, 466489, 467856, 469225, 470596, 471969, 473344, 474721, 476100, 477481, 478864, 480249, 481636, 483025, 484416, 485809, 487204, 488601, 490000, 491401, 492804, 494209, 495616, 497025, 498436, 499849, 501264, 502681, 504100, 505521, 506944, 511225, 512656, 514089, 515524, 518400, 519841, 521284, 522729, 524176, 525625, 527076, 528529, 529984, 531441, 532900, 534361, 535824, 537289, 540225, 541696, 543169, 544644, 546121, 547600, 549081, 550564, 552049, 555025, 559504, 562500, 564001, 565504, 570025, 573049, 574564, 579121, 580644, 582169, 585225, 588289, 589824, 592900, 594441, 595984, 597529, 600625, 602176, 603729, 605284, 606841, 608400, 611524, 614656, 616225, 620944, 622521, 624100, 625681, 627264, 628849, 630436, 632025, 635209, 636804, 638401, 640000, 641601, 643204, 644809, 646416, 648025, 649636, 651249, 652864, 654481, 657721, 659344, 662596, 664225, 667489, 669124, 672400, 674041, 675684, 677329, 680625, 682276, 683929, 685584, 687241, 692224, 697225, 702244, 703921, 707281, 708964, 710649, 712336, 714025, 717409, 719104, 720801, 722500, 724201, 725904, 727609, 729316, 731025, 732736, 734449, 736164, 741321, 743044, 744769, 746496, 748225, 749956, 753424, 758641, 760384, 762129, 765625, 769129, 770884, 772641, 774400, 777924, 781456, 783225, 784996, 788544, 790321, 792100, 795664, 797449, 799236, 801025, 802816, 804609, 806404, 808201, 813604, 815409, 817216, 819025, 820836, 822649, 824464, 826281, 828100, 829921, 831744, 837225, 840889, 842724, 844561, 846400, 848241, 850084, 851929, 855625, 857476, 859329, 861184, 863041, 864900, 868624, 870489, 872356, 874225, 879844, 881721, 885481, 887364, 889249, 893025, 894916, 898704, 902500, 904401, 906304, 908209, 912025, 915849, 917764, 921600, 923521, 925444, 927369, 929296, 931225, 937024, 940900, 942841, 944784, 946729, 948676, 950625, 952576, 954529, 956484, 958441, 960400, 962361, 964324, 966289, 968256, 970225, 972196, 974169, 976144, 978121, 982081, 984064, 986049, 990025, 992016, 994009, 996004]\n",
            "793 of the first 1000 integers contain the digit 4 or 2 when squared.\n"
          ]
        }
      ],
      "source": [
        "LC3 = [x*x for x in range(1000) if '4' in str(x*x) or '2' in str(x*x)]\n",
        "print(LC3)\n",
        "answer3 = len(LC3)\n",
        "print(f\"{answer3} of the first 1000 integers contain the digit 4 or 2 when squared.\")\n",
        "\n",
        "\"\"\" I was interested in this question since it seemed like the majority of numbers would contain at least one '2' or '4', and the result seems reasonable\n",
        "with that in mind -- over 3/4s of all the squared numbers contain one or the other. I answered this by doing a list comprehension and an if statement to\n",
        "verify that the values contained either 2 and 4.\n",
        "\"\"\""
      ]
    },
    {
      "cell_type": "code",
      "execution_count": 3,
      "metadata": {
        "colab": {
          "base_uri": "https://localhost:8080/",
          "height": 35
        },
        "id": "wCBv2-oQpMGT",
        "outputId": "fc39a588-0dd8-4743-ce00-0b12e90ac353"
      },
      "outputs": [
        {
          "data": {
            "text/plain": [
              "'/Users/isabelburger/Downloads'"
            ]
          },
          "execution_count": 3,
          "metadata": {},
          "output_type": "execute_result"
        }
      ],
      "source": [
        "# remember pwd? It's short for \"print working directory\"  (that is, your current folder)\n",
        "# It's a shell command, i.e., to be run at the terminal or command-line (or shell).\n",
        "\n",
        "# Since this is not python, python needs to know it's a special command:  %pwd does the trick\n",
        "%pwd"
      ]
    },
    {
      "cell_type": "code",
      "execution_count": 2,
      "metadata": {
        "colab": {
          "base_uri": "https://localhost:8080/"
        },
        "id": "4qLX28g7pMGT",
        "outputId": "bcc536a9-a6b4-423a-a3ed-df314a6c5660"
      },
      "outputs": [
        {
          "name": "stdout",
          "output_type": "stream",
          "text": [
            "22.txt\n",
            "Copy_of_hw0pr1.ipynb\n",
            "alien.png\n",
            "allsonnets.txt\n",
            "drive-download-20250202T220533Z-001.zip\n",
            "hw0pr1.ipynb\n",
            "hw0pr2_not_due_until_hw1.ipynb\n",
            "input.txt\n",
            "lec0_cs35_spr25.pdf\n",
            "samiam.txt\n",
            "spam.jpg\n",
            "~$Burger_Isabel_PPT.pptx\n",
            "~$FP_Personal_Statement_Template (1).dotx\n",
            "~$em 110AL ChemDraw Worksheet.docx\n",
            "~$lab.xlsx\n",
            "~$nal_Report_Template_Mac_2011_final.dotx\n",
            "~$netics of dehydrohalogenation 10:2.docx\n",
            "~$p1+-+Isolation+Purification+and+Characterization+of+Piperine+Lab+Worksheet+2024 (1).docx\n",
            "~$p1+-+Isolation+Purification+and+Characterization+of+Piperine+Lab+Worksheet+2024.docx\n",
            "~$p5+-+Kinetics+of+Dehydrohalogentation+Worksheet+2023-1.docx\n",
            "~$p6+-+Bromination+of+Limonene+Worksheet+2023.docx\n"
          ]
        }
      ],
      "source": [
        "# Another important shell command:  ls (lists contents)\n",
        "%ls"
      ]
    },
    {
      "cell_type": "code",
      "execution_count": 54,
      "metadata": {
        "colab": {
          "base_uri": "https://localhost:8080/"
        },
        "id": "fkjIhQgapMGT",
        "outputId": "5028b245-ec41-45a8-82ad-dfcc8716dfec"
      },
      "outputs": [
        {
          "name": "stdout",
          "output_type": "stream",
          "text": [
            "[Errno 2] No such file or directory: 'intro_first'\n",
            "/\n"
          ]
        }
      ],
      "source": [
        "# the following cell shows cd, changing the current directory.\n",
        "# We will also try cd .. (to \"move up\" one level)\n",
        "\n",
        "# WARNING:  when cd does work, the _whole notebook_ has changed what it considers\n",
        "#           its \"current directory\"  You'll see this here:\n",
        "%cd intro_first"
      ]
    },
    {
      "cell_type": "code",
      "execution_count": 55,
      "metadata": {
        "colab": {
          "base_uri": "https://localhost:8080/"
        },
        "id": "ERcKkv11pMGT",
        "outputId": "011956cb-b8bd-48b5-e29a-3bcd72e6ce00"
      },
      "outputs": [
        {
          "name": "stdout",
          "output_type": "stream",
          "text": [
            "/\n"
          ]
        }
      ],
      "source": [
        "# And, we need to be able to move \"up\" or \"outward\"!\n",
        "# To do this, use   cd ..     Here, in jupyter:\n",
        "\n",
        "%cd .."
      ]
    },
    {
      "cell_type": "code",
      "execution_count": 56,
      "metadata": {
        "colab": {
          "base_uri": "https://localhost:8080/"
        },
        "id": "wE6aup1YpMGT",
        "outputId": "cce255eb-797f-41a0-faec-a73206b80365"
      },
      "outputs": [
        {
          "name": "stdout",
          "output_type": "stream",
          "text": [
            "/\n"
          ]
        }
      ],
      "source": [
        "# we can keep going!   cd .. \"goes up\" one directory level\n",
        "%cd .."
      ]
    },
    {
      "cell_type": "code",
      "execution_count": 57,
      "metadata": {
        "colab": {
          "base_uri": "https://localhost:8080/",
          "height": 35
        },
        "id": "7VAc1YMspMGU",
        "outputId": "cce56f39-a0c6-46d0-a995-5b670e12acc3"
      },
      "outputs": [
        {
          "data": {
            "application/vnd.google.colaboratory.intrinsic+json": {
              "type": "string"
            },
            "text/plain": [
              "'/'"
            ]
          },
          "execution_count": 57,
          "metadata": {},
          "output_type": "execute_result"
        }
      ],
      "source": [
        "# you don't need a new cell each time...\n",
        "%pwd"
      ]
    },
    {
      "cell_type": "code",
      "execution_count": 33,
      "metadata": {
        "id": "RYTHcmfypMGU"
      },
      "outputs": [],
      "source": [
        "# Really, each notebook cell is a script, sharing state with the others\n",
        "\n",
        "# Here, our code is guarded by an if True:\n",
        "\n",
        "if False:\n",
        "    print(f\"It was True!\")\n",
        "\n",
        "# try changing the True to False.\n",
        "# There's no need to change the printing, because it won't print...\n",
        "\n",
        "# When submitting notebooks, we ask you to submit notebooks that run...\n",
        "# However, feel free to keep any+all non-running code! Simply comment it out\n",
        "# For example, with if False:\n",
        "# hashtags and \"\"\" triple-quoted strings \"\"\" also work ...\n",
        "# ... though they lose the code-structure and syntax highlighting! (As you see! :-)"
      ]
    },
    {
      "cell_type": "code",
      "execution_count": 34,
      "metadata": {
        "colab": {
          "base_uri": "https://localhost:8080/"
        },
        "id": "sMrCCQeupMGU",
        "outputId": "336a1ff8-2f98-482e-d098-ebba64384248"
      },
      "outputs": [
        {
          "data": {
            "text/plain": [
              "42"
            ]
          },
          "execution_count": 34,
          "metadata": {},
          "output_type": "execute_result"
        }
      ],
      "source": [
        "# reminder: in each cell (script) all lines are run; only the last line is output\n",
        "y = 58\n",
        "x = y-7\n",
        "x = x-1\n",
        "x = x-8\n",
        "x"
      ]
    },
    {
      "cell_type": "code",
      "execution_count": 35,
      "metadata": {
        "colab": {
          "base_uri": "https://localhost:8080/"
        },
        "id": "6qmyRMZ8pMGU",
        "outputId": "bb04b92d-e058-41a2-aaeb-a6707998efd4"
      },
      "outputs": [
        {
          "data": {
            "text/plain": [
              "58"
            ]
          },
          "execution_count": 35,
          "metadata": {},
          "output_type": "execute_result"
        }
      ],
      "source": [
        "# BEWARE:  Variables are global through the notebook!\n",
        "# Here, y will be 58, from the cell above... if you've run that cell!\n",
        "y"
      ]
    },
    {
      "cell_type": "markdown",
      "metadata": {
        "id": "hpTJ2WZ4pMGU"
      },
      "source": [
        "#### Let's function!  A first example, `plus1` and  its tests..."
      ]
    },
    {
      "cell_type": "code",
      "execution_count": 36,
      "metadata": {
        "colab": {
          "base_uri": "https://localhost:8080/"
        },
        "id": "Y2MyDE8FpMGU",
        "outputId": "f872832a-97f6-48cb-f119-97e839484a90"
      },
      "outputs": [
        {
          "name": "stdout",
          "output_type": "stream",
          "text": [
            "plus1(41) -> 42 should be 42\n",
            "plus1(9000) -> 9001 should be 9001\n"
          ]
        }
      ],
      "source": [
        "# a good starting point!\n",
        "\n",
        "def plus1( N ):\n",
        "    \"\"\" returns a number one larger than its input \"\"\"\n",
        "    return N+1\n",
        "\n",
        "if True:\n",
        "    print(f\"plus1(41) -> {plus1(41)} should be {42}\")\n",
        "    print(f\"plus1(9000) -> {plus1(9000)} should be {9001}\")\n",
        "    assert plus1(41) == 42\n",
        "    assert plus1(9000) == 9001\n",
        "\n",
        "# print tests succeed and fail \"out loud\"\n",
        "# assert tests succeed silently and only fail \"out loud\" (and crash!)"
      ]
    },
    {
      "cell_type": "markdown",
      "metadata": {
        "id": "EfU_oQzqpMGU"
      },
      "source": [
        "### Let's loop!\n",
        "\n",
        "Below,\n",
        "+ run this infinite loop - a while loop\n",
        "+ practice using the \"Interrupt\" (the square at the upper left of the cell) to kill it\n",
        "+ then, use the three-dots menu at the lower left to delete the cell's output...\n"
      ]
    },
    {
      "cell_type": "code",
      "execution_count": 37,
      "metadata": {
        "colab": {
          "base_uri": "https://localhost:8080/",
          "height": 420
        },
        "id": "oRyGAyE8pMGU",
        "outputId": "57e78fe8-fbd5-42ff-960d-26fd97a326ac"
      },
      "outputs": [
        {
          "name": "stdout",
          "output_type": "stream",
          "text": [
            "Start!\n",
            "0 1 2 3 4 5 6 7 8 9 10 11 12 13 14 15 16 17 18 19 20 21 22 23 24 25 26 27 28 29 30 31 32 33 34 35 36 37 38 39 40 41 42 43 44 45 46 47 48 49 50 51 52 53 54 55 56 57 58 59 60 61 62 63 64 65 66 67 68 69 70 71 72 73 74 75 76 77 78 79 80 81 82 83 84 85 86 87 88 89 90 91 92 93 94 95 96 97 98 99 100 101 102 103 104 105 106 107 108 109 110 111 112 113 114 115 116 117 118 119 120 121 122 123 124 125 126 127 128 129 130 131 132 133 134 135 136 137 138 139 140 141 142 143 144 145 146 147 148 149 150 151 152 153 154 155 156 157 158 159 160 161 162 163 164 165 166 167 168 169 170 171 172 173 174 175 176 177 178 179 180 181 182 183 184 185 186 187 188 189 190 191 192 193 194 195 196 197 198 199 200 201 202 203 204 205 206 207 208 209 210 211 212 213 214 215 216 217 218 219 220 221 222 223 224 225 226 227 228 229 230 231 232 233 234 235 236 237 238 239 240 241 242 243 244 245 246 247 248 249 250 251 252 253 254 255 256 257 258 259 260 261 262 263 264 265 266 267 268 269 270 271 272 273 274 275 276 277 278 279 280 281 282 283 284 285 286 287 288 289 290 291 292 293 294 295 296 297 298 299 300 301 302 303 304 305 306 307 308 309 310 311 312 313 314 315 316 317 318 319 320 321 322 323 324 325 326 327 328 329 330 331 332 333 334 335 336 337 338 339 340 341 342 343 344 345 346 347 348 349 350 351 352 353 354 355 356 357 358 359 360 361 362 363 364 365 366 367 368 369 370 371 372 373 374 375 376 377 378 379 380 381 382 383 384 385 386 387 388 389 390 391 392 393 394 395 396 397 398 399 400 401 402 403 404 405 406 407 408 409 410 411 412 413 414 415 416 417 418 419 420 421 422 423 424 425 426 427 428 429 430 431 432 433 434 435 436 437 438 439 440 441 442 443 444 445 446 447 448 449 450 451 452 453 454 455 456 457 458 459 460 461 462 463 464 465 466 467 468 469 470 471 472 473 474 475 476 477 478 479 480 481 482 483 484 485 486 487 488 489 490 491 492 493 494 495 496 497 498 499 500 501 502 503 504 505 506 507 508 509 510 511 512 513 514 515 516 517 518 519 520 521 522 523 524 525 526 527 528 529 530 531 532 533 534 535 536 537 538 539 540 541 542 543 544 545 546 547 548 549 550 551 552 553 554 555 556 557 558 559 560 561 562 563 564 565 566 567 568 569 570 571 572 573 574 575 576 577 578 579 580 581 582 583 584 585 586 587 588 589 590 591 592 593 594 595 596 597 598 599 600 601 602 603 604 605 606 607 608 609 610 611 612 613 614 615 616 617 618 619 620 621 622 623 624 625 626 627 628 629 630 631 632 633 634 635 636 637 638 639 640 641 642 643 644 645 646 647 648 649 650 651 652 653 654 655 656 657 658 659 660 661 662 663 664 665 666 667 668 669 670 671 672 673 674 675 676 677 678 679 680 681 682 683 684 685 686 687 688 689 690 691 692 693 694 695 696 697 698 699 700 701 702 703 704 705 706 707 708 709 710 711 712 713 714 715 716 717 718 719 720 721 722 723 724 725 726 727 728 729 730 731 732 733 734 735 736 737 738 739 740 741 742 743 744 745 746 747 748 749 750 751 752 753 754 755 756 757 758 759 760 761 762 763 764 765 766 767 768 769 770 771 772 773 774 775 776 777 778 779 780 781 782 783 784 785 786 787 788 789 790 791 792 793 794 795 796 797 798 799 800 801 802 803 804 805 806 807 808 809 810 811 812 813 814 815 816 817 818 819 820 821 822 823 824 825 826 827 828 829 830 831 832 833 834 835 836 837 838 839 840 841 842 843 844 845 846 847 848 849 850 851 852 853 854 855 856 857 858 859 860 861 862 863 864 865 866 867 868 869 870 871 872 873 874 875 876 877 878 879 880 881 882 883 884 885 886 887 888 889 890 891 892 893 894 895 896 897 898 899 900 901 902 903 904 905 906 907 908 909 910 911 912 913 914 915 916 917 918 919 920 921 922 923 924 925 926 927 928 929 930 931 932 933 934 935 936 937 938 939 940 941 942 943 944 945 946 947 948 949 950 951 952 953 954 955 956 957 958 959 960 961 962 963 964 965 966 967 968 969 970 971 972 973 974 975 976 977 978 979 980 981 982 983 984 985 986 987 988 989 990 991 992 993 994 995 996 997 998 999 1000 1001 1002 1003 1004 1005 1006 1007 1008 1009 1010 1011 1012 1013 1014 1015 1016 1017 1018 1019 1020 1021 1022 1023 1024 1025 1026 1027 1028 1029 1030 1031 1032 1033 1034 1035 1036 1037 1038 1039 1040 1041 1042 1043 1044 1045 1046 1047 1048 1049 1050 1051 1052 1053 1054 1055 1056 1057 1058 1059 1060 1061 1062 1063 1064 1065 1066 1067 1068 1069 1070 1071 1072 1073 1074 1075 1076 1077 1078 1079 1080 1081 1082 1083 1084 1085 1086 1087 1088 1089 1090 1091 1092 1093 1094 1095 1096 1097 1098 1099 1100 1101 1102 1103 1104 1105 1106 1107 1108 1109 1110 1111 1112 1113 1114 1115 1116 1117 1118 1119 1120 1121 1122 1123 1124 1125 1126 1127 1128 1129 1130 1131 1132 1133 1134 1135 1136 1137 1138 1139 1140 1141 1142 1143 1144 1145 1146 1147 1148 1149 1150 1151 1152 1153 1154 1155 1156 1157 1158 1159 1160 1161 1162 1163 1164 1165 1166 1167 1168 1169 1170 1171 1172 1173 1174 1175 1176 1177 1178 1179 1180 1181 1182 1183 1184 1185 1186 1187 1188 1189 1190 1191 1192 1193 1194 1195 1196 1197 1198 1199 1200 1201 1202 1203 1204 1205 1206 1207 1208 1209 1210 1211 1212 1213 1214 1215 1216 1217 1218 1219 1220 1221 1222 1223 1224 1225 1226 1227 1228 1229 1230 1231 1232 1233 1234 1235 1236 1237 1238 1239 1240 1241 1242 1243 1244 1245 1246 1247 1248 1249 1250 1251 1252 1253 1254 1255 1256 1257 1258 1259 1260 1261 1262 1263 1264 1265 1266 1267 1268 1269 1270 1271 1272 1273 1274 1275 1276 1277 1278 1279 1280 1281 1282 1283 1284 1285 1286 1287 1288 1289 1290 1291 1292 1293 1294 1295 1296 1297 1298 1299 1300 1301 1302 1303 1304 1305 1306 1307 1308 1309 1310 1311 1312 1313 1314 1315 1316 1317 1318 1319 1320 1321 1322 1323 1324 1325 1326 1327 1328 1329 1330 1331 1332 1333 1334 1335 1336 1337 1338 1339 1340 1341 1342 1343 1344 1345 1346 1347 1348 1349 1350 1351 1352 1353 1354 1355 1356 1357 1358 1359 1360 1361 1362 1363 1364 1365 1366 1367 1368 1369 1370 1371 1372 1373 1374 1375 1376 1377 1378 1379 1380 1381 1382 1383 1384 1385 1386 1387 1388 1389 1390 1391 1392 1393 1394 1395 1396 1397 1398 1399 1400 1401 1402 1403 1404 1405 1406 1407 1408 1409 1410 1411 1412 1413 1414 1415 1416 1417 1418 1419 1420 1421 1422 1423 1424 1425 1426 1427 1428 1429 1430 1431 1432 1433 1434 1435 1436 1437 1438 1439 1440 1441 1442 1443 1444 1445 1446 1447 1448 1449 1450 1451 1452 1453 1454 1455 1456 1457 1458 1459 1460 1461 1462 1463 1464 1465 1466 1467 1468 1469 1470 1471 1472 1473 1474 1475 1476 1477 1478 1479 1480 1481 1482 1483 1484 1485 1486 1487 1488 1489 1490 1491 1492 1493 1494 1495 1496 1497 1498 1499 1500 1501 1502 1503 1504 1505 1506 1507 1508 1509 1510 1511 1512 1513 1514 1515 1516 1517 1518 1519 1520 1521 1522 1523 1524 1525 1526 1527 1528 1529 1530 1531 1532 1533 1534 1535 1536 1537 1538 1539 1540 1541 1542 1543 1544 1545 1546 1547 1548 1549 1550 1551 1552 1553 1554 1555 1556 1557 1558 1559 1560 1561 1562 1563 1564 1565 1566 1567 1568 1569 1570 1571 1572 1573 1574 1575 1576 1577 1578 1579 1580 1581 1582 1583 1584 1585 1586 1587 1588 1589 1590 1591 1592 1593 1594 1595 1596 1597 1598 1599 1600 1601 1602 1603 1604 1605 1606 1607 1608 1609 1610 1611 1612 1613 1614 1615 1616 1617 1618 1619 1620 1621 1622 1623 1624 1625 1626 1627 1628 1629 1630 1631 1632 1633 1634 1635 1636 1637 1638 1639 1640 1641 1642 1643 1644 1645 1646 1647 1648 1649 1650 1651 1652 1653 1654 1655 1656 1657 1658 1659 1660 1661 1662 1663 1664 1665 1666 1667 1668 1669 1670 1671 1672 1673 1674 1675 1676 1677 1678 1679 1680 1681 1682 1683 1684 1685 1686 1687 1688 1689 1690 1691 1692 1693 1694 1695 1696 1697 1698 1699 1700 1701 1702 1703 1704 1705 1706 1707 1708 1709 1710 1711 1712 1713 1714 1715 1716 1717 1718 1719 1720 1721 1722 1723 1724 1725 1726 1727 1728 1729 1730 1731 1732 1733 1734 1735 1736 1737 1738 1739 1740 1741 1742 1743 1744 1745 1746 1747 1748 1749 1750 1751 1752 1753 1754 1755 1756 1757 1758 1759 1760 1761 1762 1763 1764 1765 1766 1767 1768 1769 1770 1771 1772 1773 1774 1775 1776 1777 1778 1779 1780 1781 1782 1783 1784 1785 1786 1787 1788 1789 1790 1791 1792 1793 1794 1795 1796 1797 1798 1799 1800 1801 1802 1803 1804 1805 1806 1807 1808 1809 1810 1811 1812 1813 1814 1815 1816 1817 1818 1819 1820 1821 1822 1823 1824 1825 1826 1827 1828 1829 1830 1831 1832 1833 1834 1835 1836 1837 1838 1839 1840 1841 1842 1843 1844 1845 1846 1847 1848 1849 1850 1851 1852 1853 1854 1855 1856 1857 1858 1859 1860 1861 1862 1863 1864 1865 1866 1867 1868 1869 1870 1871 1872 1873 1874 1875 1876 1877 1878 1879 1880 1881 1882 1883 1884 1885 1886 1887 1888 1889 1890 1891 1892 1893 1894 1895 1896 1897 1898 1899 1900 1901 1902 1903 1904 1905 1906 1907 1908 1909 1910 1911 1912 1913 1914 1915 1916 1917 1918 1919 1920 1921 1922 1923 1924 1925 1926 1927 1928 1929 1930 1931 1932 1933 1934 1935 1936 1937 1938 1939 1940 1941 1942 1943 1944 1945 1946 1947 1948 1949 1950 1951 1952 1953 1954 1955 1956 1957 1958 1959 1960 1961 1962 1963 1964 1965 1966 1967 1968 1969 1970 1971 1972 1973 1974 1975 1976 1977 1978 1979 1980 1981 1982 1983 1984 1985 1986 1987 1988 1989 1990 1991 1992 1993 1994 1995 1996 1997 1998 1999 2000 2001 2002 2003 2004 2005 2006 2007 2008 2009 2010 2011 2012 2013 2014 2015 2016 2017 2018 2019 2020 2021 2022 2023 2024 2025 2026 2027 2028 2029 2030 2031 2032 2033 2034 2035 2036 2037 2038 2039 2040 2041 2042 2043 2044 2045 2046 2047 2048 2049 2050 2051 2052 2053 2054 2055 2056 2057 2058 2059 2060 2061 2062 2063 2064 2065 2066 2067 2068 2069 2070 2071 2072 2073 2074 2075 2076 2077 2078 2079 2080 2081 2082 2083 2084 2085 2086 2087 2088 2089 2090 2091 2092 2093 2094 2095 2096 2097 2098 2099 2100 2101 2102 2103 2104 2105 2106 2107 2108 2109 2110 2111 2112 2113 2114 2115 2116 2117 2118 2119 2120 2121 2122 2123 2124 2125 2126 2127 2128 2129 2130 2131 2132 2133 2134 2135 2136 2137 2138 2139 2140 2141 2142 2143 2144 2145 2146 2147 2148 2149 2150 2151 2152 2153 2154 2155 2156 2157 2158 2159 2160 2161 2162 2163 2164 2165 2166 2167 2168 2169 2170 2171 2172 2173 2174 2175 2176 2177 2178 2179 2180 2181 2182 2183 2184 2185 2186 2187 2188 2189 2190 2191 2192 2193 2194 2195 2196 2197 2198 2199 2200 2201 2202 2203 2204 2205 2206 2207 2208 2209 2210 2211 2212 2213 2214 2215 2216 2217 2218 2219 2220 2221 2222 2223 2224 2225 2226 2227 2228 2229 2230 2231 2232 2233 2234 2235 2236 2237 2238 2239 2240 2241 2242 2243 2244 2245 2246 2247 2248 2249 2250 2251 2252 2253 2254 2255 2256 2257 2258 2259 2260 2261 2262 2263 2264 2265 2266 2267 2268 2269 2270 2271 2272 2273 "
          ]
        },
        {
          "ename": "KeyboardInterrupt",
          "evalue": "",
          "output_type": "error",
          "traceback": [
            "\u001b[0;31m---------------------------------------------------------------------------\u001b[0m",
            "\u001b[0;31mKeyboardInterrupt\u001b[0m                         Traceback (most recent call last)",
            "\u001b[0;32m<ipython-input-37-b51bf97d9955>\u001b[0m in \u001b[0;36m<cell line: 0>\u001b[0;34m()\u001b[0m\n\u001b[1;32m      7\u001b[0m \u001b[0;34m\u001b[0m\u001b[0m\n\u001b[1;32m      8\u001b[0m \u001b[0;32mwhile\u001b[0m \u001b[0;32mTrue\u001b[0m\u001b[0;34m:\u001b[0m\u001b[0;34m\u001b[0m\u001b[0;34m\u001b[0m\u001b[0m\n\u001b[0;32m----> 9\u001b[0;31m     \u001b[0mprint\u001b[0m\u001b[0;34m(\u001b[0m\u001b[0mi\u001b[0m\u001b[0;34m,\u001b[0m \u001b[0mend\u001b[0m\u001b[0;34m=\u001b[0m\u001b[0;34m\" \"\u001b[0m\u001b[0;34m,\u001b[0m \u001b[0mflush\u001b[0m\u001b[0;34m=\u001b[0m\u001b[0;32mTrue\u001b[0m\u001b[0;34m)\u001b[0m\u001b[0;34m\u001b[0m\u001b[0;34m\u001b[0m\u001b[0m\n\u001b[0m\u001b[1;32m     10\u001b[0m     \u001b[0mi\u001b[0m \u001b[0;34m=\u001b[0m \u001b[0mi\u001b[0m\u001b[0;34m+\u001b[0m\u001b[0;36m1\u001b[0m\u001b[0;34m\u001b[0m\u001b[0;34m\u001b[0m\u001b[0m\n\u001b[1;32m     11\u001b[0m \u001b[0;34m\u001b[0m\u001b[0m\n",
            "\u001b[0;32m/usr/local/lib/python3.11/dist-packages/ipykernel/iostream.py\u001b[0m in \u001b[0;36mflush\u001b[0;34m(self)\u001b[0m\n\u001b[1;32m    348\u001b[0m                 \u001b[0mself\u001b[0m\u001b[0;34m.\u001b[0m\u001b[0mpub_thread\u001b[0m\u001b[0;34m.\u001b[0m\u001b[0mschedule\u001b[0m\u001b[0;34m(\u001b[0m\u001b[0mevt\u001b[0m\u001b[0;34m.\u001b[0m\u001b[0mset\u001b[0m\u001b[0;34m)\u001b[0m\u001b[0;34m\u001b[0m\u001b[0;34m\u001b[0m\u001b[0m\n\u001b[1;32m    349\u001b[0m                 \u001b[0;31m# and give a timeout to avoid\u001b[0m\u001b[0;34m\u001b[0m\u001b[0;34m\u001b[0m\u001b[0m\n\u001b[0;32m--> 350\u001b[0;31m                 \u001b[0;32mif\u001b[0m \u001b[0;32mnot\u001b[0m \u001b[0mevt\u001b[0m\u001b[0;34m.\u001b[0m\u001b[0mwait\u001b[0m\u001b[0;34m(\u001b[0m\u001b[0mself\u001b[0m\u001b[0;34m.\u001b[0m\u001b[0mflush_timeout\u001b[0m\u001b[0;34m)\u001b[0m\u001b[0;34m:\u001b[0m\u001b[0;34m\u001b[0m\u001b[0;34m\u001b[0m\u001b[0m\n\u001b[0m\u001b[1;32m    351\u001b[0m                     \u001b[0;31m# write directly to __stderr__ instead of warning because\u001b[0m\u001b[0;34m\u001b[0m\u001b[0;34m\u001b[0m\u001b[0m\n\u001b[1;32m    352\u001b[0m                     \u001b[0;31m# if this is happening sys.stderr may be the problem.\u001b[0m\u001b[0;34m\u001b[0m\u001b[0;34m\u001b[0m\u001b[0m\n",
            "\u001b[0;32m/usr/lib/python3.11/threading.py\u001b[0m in \u001b[0;36mwait\u001b[0;34m(self, timeout)\u001b[0m\n\u001b[1;32m    627\u001b[0m             \u001b[0msignaled\u001b[0m \u001b[0;34m=\u001b[0m \u001b[0mself\u001b[0m\u001b[0;34m.\u001b[0m\u001b[0m_flag\u001b[0m\u001b[0;34m\u001b[0m\u001b[0;34m\u001b[0m\u001b[0m\n\u001b[1;32m    628\u001b[0m             \u001b[0;32mif\u001b[0m \u001b[0;32mnot\u001b[0m \u001b[0msignaled\u001b[0m\u001b[0;34m:\u001b[0m\u001b[0;34m\u001b[0m\u001b[0;34m\u001b[0m\u001b[0m\n\u001b[0;32m--> 629\u001b[0;31m                 \u001b[0msignaled\u001b[0m \u001b[0;34m=\u001b[0m \u001b[0mself\u001b[0m\u001b[0;34m.\u001b[0m\u001b[0m_cond\u001b[0m\u001b[0;34m.\u001b[0m\u001b[0mwait\u001b[0m\u001b[0;34m(\u001b[0m\u001b[0mtimeout\u001b[0m\u001b[0;34m)\u001b[0m\u001b[0;34m\u001b[0m\u001b[0;34m\u001b[0m\u001b[0m\n\u001b[0m\u001b[1;32m    630\u001b[0m             \u001b[0;32mreturn\u001b[0m \u001b[0msignaled\u001b[0m\u001b[0;34m\u001b[0m\u001b[0;34m\u001b[0m\u001b[0m\n\u001b[1;32m    631\u001b[0m \u001b[0;34m\u001b[0m\u001b[0m\n",
            "\u001b[0;32m/usr/lib/python3.11/threading.py\u001b[0m in \u001b[0;36mwait\u001b[0;34m(self, timeout)\u001b[0m\n\u001b[1;32m    329\u001b[0m             \u001b[0;32melse\u001b[0m\u001b[0;34m:\u001b[0m\u001b[0;34m\u001b[0m\u001b[0;34m\u001b[0m\u001b[0m\n\u001b[1;32m    330\u001b[0m                 \u001b[0;32mif\u001b[0m \u001b[0mtimeout\u001b[0m \u001b[0;34m>\u001b[0m \u001b[0;36m0\u001b[0m\u001b[0;34m:\u001b[0m\u001b[0;34m\u001b[0m\u001b[0;34m\u001b[0m\u001b[0m\n\u001b[0;32m--> 331\u001b[0;31m                     \u001b[0mgotit\u001b[0m \u001b[0;34m=\u001b[0m \u001b[0mwaiter\u001b[0m\u001b[0;34m.\u001b[0m\u001b[0macquire\u001b[0m\u001b[0;34m(\u001b[0m\u001b[0;32mTrue\u001b[0m\u001b[0;34m,\u001b[0m \u001b[0mtimeout\u001b[0m\u001b[0;34m)\u001b[0m\u001b[0;34m\u001b[0m\u001b[0;34m\u001b[0m\u001b[0m\n\u001b[0m\u001b[1;32m    332\u001b[0m                 \u001b[0;32melse\u001b[0m\u001b[0;34m:\u001b[0m\u001b[0;34m\u001b[0m\u001b[0;34m\u001b[0m\u001b[0m\n\u001b[1;32m    333\u001b[0m                     \u001b[0mgotit\u001b[0m \u001b[0;34m=\u001b[0m \u001b[0mwaiter\u001b[0m\u001b[0;34m.\u001b[0m\u001b[0macquire\u001b[0m\u001b[0;34m(\u001b[0m\u001b[0;32mFalse\u001b[0m\u001b[0;34m)\u001b[0m\u001b[0;34m\u001b[0m\u001b[0;34m\u001b[0m\u001b[0m\n",
            "\u001b[0;31mKeyboardInterrupt\u001b[0m: "
          ]
        }
      ],
      "source": [
        "#\n",
        "# An infinite loop...\n",
        "#\n",
        "\n",
        "print(f\"Start!\")\n",
        "i = 0\n",
        "\n",
        "while True:\n",
        "    print(i, end=\" \", flush=True)\n",
        "    i = i+1\n",
        "\n",
        "print(f\"End.\")\n"
      ]
    },
    {
      "cell_type": "markdown",
      "metadata": {
        "id": "yF_y3GttpMGU"
      },
      "source": [
        "#### For-loop reminders...."
      ]
    },
    {
      "cell_type": "code",
      "execution_count": 38,
      "metadata": {
        "colab": {
          "base_uri": "https://localhost:8080/"
        },
        "id": "8I2rqE0MpMGU",
        "outputId": "a92d9712-126d-4c0e-d402-7606b06c07e2"
      },
      "outputs": [
        {
          "name": "stdout",
          "output_type": "stream",
          "text": [
            "Poptarts? I'll take 0!\n",
            "Poptarts? I'll take 1!\n",
            "Poptarts? I'll take 2!\n",
            "Poptarts? I'll take 3!\n",
            "Poptarts? I'll take 4!\n"
          ]
        }
      ],
      "source": [
        "#\n",
        "# Let's loop!\n",
        "#\n",
        "\n",
        "snack = \"Poptarts\"\n",
        "\n",
        "for i in range(0,5):\n",
        "        print(f\"{snack}? I'll take {i}!\")"
      ]
    },
    {
      "cell_type": "code",
      "execution_count": 41,
      "metadata": {
        "colab": {
          "base_uri": "https://localhost:8080/"
        },
        "id": "VnMwVhWBpMGZ",
        "outputId": "8d644c45-7af6-4e2a-8d70-9190f771db03"
      },
      "outputs": [
        {
          "name": "stdout",
          "output_type": "stream",
          "text": [
            "Testing countdown(5):\n",
            "i == 5\n",
            "i == 4\n",
            "i == 3\n",
            "i == 2\n",
            "i == 1\n",
            "i == 0\n"
          ]
        }
      ],
      "source": [
        "# countdown( N )    emphasizes looping and printing (there is no return value!)\n",
        "#\n",
        "import time\n",
        "\n",
        "def countdown( N ):\n",
        "    \"\"\" counts downward from N to 0, printing  \"\"\"\n",
        "    for i in range(N,-1,-1):  # starts at N, ends at 0, steps by -1\n",
        "        print(\"i ==\", i)\n",
        "        time.sleep(0.2)\n",
        "\n",
        "    return    # no return value here!\n",
        "\n",
        "# testing countdown\n",
        "if True:\n",
        "    print(\"Testing countdown(5):\")\n",
        "    countdown(5)  # should print things -- with dramatic pauses!"
      ]
    },
    {
      "cell_type": "markdown",
      "metadata": {
        "id": "HZVGpT0IpMGZ"
      },
      "source": [
        "#### The next cell shows a larger <b>script</b>, which calls the previous two functions:"
      ]
    },
    {
      "cell_type": "code",
      "execution_count": 42,
      "metadata": {
        "colab": {
          "base_uri": "https://localhost:8080/"
        },
        "id": "uONTH82tpMGZ",
        "outputId": "4f6bb036-33b7-4175-b41c-8c6d1c02e743"
      },
      "outputs": [
        {
          "name": "stdout",
          "output_type": "stream",
          "text": [
            "[[ Start! ]]\n",
            "\n",
            "plus1(41) -> 42\n",
            "\n",
            "Testing countdown(4):\n",
            "i == 4\n",
            "i == 3\n",
            "i == 2\n",
            "i == 1\n",
            "i == 0\n",
            "\n",
            "[[ Fin. ]]\n"
          ]
        }
      ],
      "source": [
        "if True:\n",
        "    \"\"\" a cell for trying out the previous two cells \"\"\"\n",
        "\n",
        "    # sign on\n",
        "    print(f\"[[ Start! ]]\\n\")\n",
        "\n",
        "    # testing plus1\n",
        "    result = plus1( 41 )\n",
        "    print(f\"plus1(41) -> {result}\")\n",
        "    print()\n",
        "\n",
        "    # testing countdown\n",
        "    print(\"Testing countdown(4):\")\n",
        "    countdown(4)  # should print things -- with dramatic pauses!\n",
        "\n",
        "    # sign off\n",
        "    print(\"\\n[[ Fin. ]]\")"
      ]
    },
    {
      "cell_type": "markdown",
      "metadata": {
        "id": "O_uieCvJpMGa"
      },
      "source": [
        "#### The two mystery functions from our in-class exercise:"
      ]
    },
    {
      "cell_type": "code",
      "execution_count": 46,
      "metadata": {
        "colab": {
          "base_uri": "https://localhost:8080/"
        },
        "id": "Q3Alb2Y4pMGa",
        "outputId": "269c1bbe-0c13-4126-bcc3-f65234a43a82"
      },
      "outputs": [
        {
          "name": "stdout",
          "output_type": "stream",
          "text": [
            "2\n"
          ]
        }
      ],
      "source": [
        "def mystery1( s ):\n",
        "    \"\"\" mystery function #1 \"\"\"\n",
        "    result = 0\n",
        "\n",
        "    for i in range(len(s)):\n",
        "        if s[i] in 'iI':\n",
        "            result += 1\n",
        "\n",
        "    return result\n",
        "\n",
        "result = mystery1(\"Aliens <3 caffeine\")\n",
        "print(result)"
      ]
    },
    {
      "cell_type": "code",
      "execution_count": 48,
      "metadata": {
        "colab": {
          "base_uri": "https://localhost:8080/"
        },
        "id": "1AOdrN9_pMGa",
        "outputId": "2dc0fec2-bb18-4bab-af71-944b0c6b581c"
      },
      "outputs": [
        {
          "name": "stdout",
          "output_type": "stream",
          "text": [
            "Iii\n"
          ]
        }
      ],
      "source": [
        "def mystery2( s ):\n",
        "    \"\"\" mystery function #2 \"\"\"\n",
        "    result = ''\n",
        "\n",
        "    for let in s:\n",
        "        if let in 'iI':\n",
        "            result += let\n",
        "\n",
        "    return result\n",
        "\n",
        "result = mystery2(\"I like caffeine\")\n",
        "print(result)"
      ]
    },
    {
      "cell_type": "markdown",
      "metadata": {
        "id": "8jtLylHqpMGa"
      },
      "source": [
        "#### Let's show two more functions:  \n",
        "+ ``count_eyes( s )`` and\n",
        "+ ``just_eyes( s )``"
      ]
    },
    {
      "cell_type": "code",
      "execution_count": 6,
      "metadata": {
        "colab": {
          "base_uri": "https://localhost:8080/"
        },
        "id": "ph3ngGRLpMGa",
        "outputId": "bdc8c237-a34c-46de-83f7-b636a7914ca6"
      },
      "outputs": [
        {
          "name": "stdout",
          "output_type": "stream",
          "text": [
            "count_eyes('Yiiikes!') = 3\n",
            "count_eyes('Yiiikes!') = 3\n",
            "\n",
            "count_eyes('Italy, icily, livelily!') = 5\n"
          ]
        }
      ],
      "source": [
        "def count_eyes( s ):\n",
        "    \"\"\" returns the number of times i or I appears in the input string s \"\"\"\n",
        "    result = 0\n",
        "\n",
        "    for letter in s:\n",
        "        if letter in 'iI':  #  equivalent:   letter == 'i' or letter == 'I'\n",
        "            result += 1     #  add one to our overall result (our count)\n",
        "\n",
        "    return result           #  AFTER the loop, we're done!\n",
        "\n",
        "print(\"count_eyes('Yiiikes!') =\",count_eyes('Yiiikes!'))\n",
        "print(f\"{count_eyes('Yiiikes!') = }\")   # f-strings ⋮)\n",
        "print()\n",
        "print(f\"{count_eyes('Italy, icily, livelily!') = }\")"
      ]
    },
    {
      "cell_type": "code",
      "execution_count": 50,
      "metadata": {
        "colab": {
          "base_uri": "https://localhost:8080/"
        },
        "id": "Oxss7s98pMGa",
        "outputId": "b61b34ff-e8c5-4e34-db78-91ced4b2d294"
      },
      "outputs": [
        {
          "name": "stdout",
          "output_type": "stream",
          "text": [
            "just_eyes('Yiiikes!') = iii\n",
            "just_eyes('Yiiikes!') = 'iii'\n",
            "\n",
            "just_eyes('Italy, icily, livelily!') = 'Iiiii'\n"
          ]
        }
      ],
      "source": [
        "def just_eyes( s ):\n",
        "    \"\"\" returns a string of only the letters i or I that appear in the input s \"\"\"\n",
        "    result = ''\n",
        "\n",
        "    for letter in s:\n",
        "        if letter in 'iI':    #  equivalent:   letter == 'i' or letter == 'I'\n",
        "            result += letter  #  add _the letter_ to our overall result, now a string\n",
        "\n",
        "    return result             #  AFTER the loop, we're done!\n",
        "\n",
        "print(\"just_eyes('Yiiikes!') =\",just_eyes('Yiiikes!'))\n",
        "print(f\"{just_eyes('Yiiikes!') = }\")   # f-strings ⋮)\n",
        "print()\n",
        "print(f\"{just_eyes('Italy, icily, livelily!') = }\")"
      ]
    },
    {
      "cell_type": "code",
      "execution_count": 4,
      "metadata": {
        "colab": {
          "base_uri": "https://localhost:8080/"
        },
        "id": "pnQdOmR_pMGa",
        "outputId": "95752078-d662-4631-da71-7e515ac0fe05"
      },
      "outputs": [
        {
          "name": "stdout",
          "output_type": "stream",
          "text": [
            "Shall I compare thee to a summer’s day?\n",
            "Thou art more lovely and more temperate:\n",
            "Rough winds do shake the darling buds of May,\n",
            "And summer’s lease hath all too short a date:\n",
            "Sometime too hot the eye of\n"
          ]
        }
      ],
      "source": [
        "def GET_STRING_FROM_FILE(filename=None):\n",
        "    \"\"\" return all of the contents from the file, filename\n",
        "        will error if the file is not present, then return the empty string ''\n",
        "    \"\"\"\n",
        "    try:\n",
        "        if filename == None:  filename = \"input.txt\"\n",
        "        INPUT_FILENAME = filename\n",
        "        INPUT_FILE = open(INPUT_FILENAME, \"r\", encoding='utf-8')    # how to open a file\n",
        "        DATA = INPUT_FILE.read()                                    # and get all its contents\n",
        "        INPUT_FILE.close()                                          # close the file (optional)\n",
        "        #print(DATA)                                                # if we want to see it\n",
        "        return DATA                                                 # definitely want to return it!\n",
        "    except FileNotFoundError:                   # wasn't there\n",
        "        print(f\"file not found: {filename}\")    # print error\n",
        "        return ''                               # return empty string ''\n",
        "\n",
        "# split is a wonderful function, it returns a list.  Try it!\n",
        "INPUT_STRING = GET_STRING_FROM_FILE(\"input.txt\")\n",
        "\n",
        "# Let's print only some of this large string, with all of Shakespeare's sonnets:\n",
        "print(INPUT_STRING[0:200])\n"
      ]
    },
    {
      "cell_type": "markdown",
      "metadata": {
        "id": "g59Jp0AppMGa"
      },
      "source": [
        "#### Now, let's test our ``count_eyes`` function on all of the Sonnets:"
      ]
    },
    {
      "cell_type": "code",
      "execution_count": 7,
      "metadata": {
        "id": "Z_JCpyvppMGa"
      },
      "outputs": [
        {
          "name": "stdout",
          "output_type": "stream",
          "text": [
            "           Shall I compare thee to a summer’s day? -> 1\n",
            "          Thou art more lovely and more temperate: -> 0\n",
            "     Rough winds do shake the darling buds of May, -> 2\n",
            "     And summer’s lease hath all too short a date: -> 0\n",
            "        Sometime too hot the eye of heaven shines, -> 2\n",
            "          And often is his gold complexion dimm’d; -> 4\n",
            "       And every fair from fair sometime declines, -> 4\n",
            "  By chance or nature’s changing course untrimm’d; -> 2\n",
            "             But thy eternal summer shall not fade -> 0\n",
            "      Nor lose possession of that fair thou owest; -> 2\n",
            " Nor shall Death brag thou wander’st in his shade, -> 2\n",
            "       When in eternal lines to time thou growest: -> 3\n",
            "       So CS35_Participant_2 as men can breathe or eyes can see, -> 0\n",
            "   So CS35_Participant_2 lives this and this gives life to thee. -> 5\n",
            "                                                   -> 0\n"
          ]
        }
      ],
      "source": [
        "INPUT_STRING = GET_STRING_FROM_FILE(\"input.txt\")\n",
        "INPUT_LIST = INPUT_STRING.split(\"\\n\")  # '\\n'\n",
        "\n",
        "for s in INPUT_LIST:                   # Let's test it on each string (line) in our list\n",
        "    inp = s                            # the input\n",
        "    out = count_eyes(inp)              # the output\n",
        "    # print(f\"{inp} -> {out}\")           # print result\n",
        "    print(f\"{inp:>50s} -> {out:<d}\")   # f-strings have formatting options: (> right) (< left)"
      ]
    },
    {
      "cell_type": "markdown",
      "metadata": {
        "id": "GTBw4HwlpMGb"
      },
      "source": [
        "#### Now, let's <i>maximize</i> our ``count_eyes`` across all Sonnet lines:"
      ]
    },
    {
      "cell_type": "code",
      "execution_count": 8,
      "metadata": {
        "id": "TBLuE54QpMGb"
      },
      "outputs": [
        {
          "name": "stdout",
          "output_type": "stream",
          "text": [
            "           Shall I compare thee to a summer’s day? -> 1\n",
            "          Thou art more lovely and more temperate: -> 0\n",
            "     Rough winds do shake the darling buds of May, -> 2\n",
            "     And summer’s lease hath all too short a date: -> 0\n",
            "        Sometime too hot the eye of heaven shines, -> 2\n",
            "          And often is his gold complexion dimm’d; -> 4\n",
            "       And every fair from fair sometime declines, -> 4\n",
            "  By chance or nature’s changing course untrimm’d; -> 2\n",
            "             But thy eternal summer shall not fade -> 0\n",
            "      Nor lose possession of that fair thou owest; -> 2\n",
            " Nor shall Death brag thou wander’st in his shade, -> 2\n",
            "       When in eternal lines to time thou growest: -> 3\n",
            "       So CS35_Participant_2 as men can breathe or eyes can see, -> 0\n",
            "   So CS35_Participant_2 lives this and this gives life to thee. -> 5\n",
            "                                                   -> 0\n",
            "The max and maximum line: [5, 'So CS35_Participant_2 lives this and this gives life to thee.']\n"
          ]
        }
      ],
      "source": [
        "INPUT_STRING = GET_STRING_FROM_FILE(\"input.txt\")\n",
        "INPUT_LIST = INPUT_STRING.split(\"\\n\")  # '\\n'\n",
        "\n",
        "AllResults = []\n",
        "\n",
        "for s in INPUT_LIST:                   # Let's test it on each string (line) in our list\n",
        "    inp = s                            # the input\n",
        "    out = count_eyes(inp)              # the output\n",
        "    # print(f\"{inp} -> {out}\")           # print result\n",
        "    print(f\"{inp:>50s} -> {out:<d}\")   # f-strings have formatting options: (> right) (< left)\n",
        "    AllResults.append( [out,inp] )       # append the output and input as a _sublist_\n",
        "\n",
        "maximum_line = max(AllResults)          # take the maximum\n",
        "print(\"The max and maximum line:\", maximum_line)"
      ]
    },
    {
      "cell_type": "markdown",
      "metadata": {
        "id": "Zr_Rat9OpMGb"
      },
      "source": [
        "#### Thoughts on the most i-y line:\n",
        "\n",
        "The line with the most 'i's was ``So CS35_Participant_2 lives this and this gives life to thee.``\n",
        "\n",
        "Of all the sonnets, I'm surprised that no line contained more than 5 \"i\"s.\n",
        "\n",
        "But, trying it again looking for 't's, the result was again 5! It was\n",
        "\n",
        "``When in eternal lines to time thou growest:``\n",
        "\n",
        "Maybe 5 is a more reasonable maximum than originally thought. (There are fewer than 50 characters per line, after all...)."
      ]
    },
    {
      "cell_type": "markdown",
      "metadata": {
        "id": "LaKBKvm0pMGb"
      },
      "source": [
        "#### <b><font color=\"Coral\">Functions</font></b> to write for hw0pr1\n",
        "+ Python's <tt>str</tt> functions are documented at this [str documentation page](https://docs.python.org/3/library/stdtypes.html#text-sequence-type-str)\n",
        "  + find and read over how <tt>split</tt> works... (that way, too, you'll have a feel for the documentation)\n",
        "+ Python's <tt>string</tt> library, used via <tt>import string</tt> is at [the string library documentation page](https://docs.python.org/3/library/string.html)\n",
        "  + this has some useful constants and other capabilities. Most functionality is in the <tt>str</tt> datatype (class)\n",
        "  + not needed but fun: [all of Python's built-in modules](https://docs.python.org/3/py-modindex.html)\n",
        "+ Be sure to include at least two tests that run - and work - for each of these functions."
      ]
    },
    {
      "cell_type": "code",
      "execution_count": 9,
      "metadata": {
        "id": "9c4E5UYRpMGb"
      },
      "outputs": [
        {
          "name": "stdout",
          "output_type": "stream",
          "text": [
            "0123456789\n",
            "!\"#$%&'()*+,-./:;<=>?@[\\]^_`{|}~\n",
            "abcdefghijklmnopqrstuvwxyz\n"
          ]
        }
      ],
      "source": [
        "#\n",
        "# using python's string library\n",
        "#\n",
        "\n",
        "import string\n",
        "\n",
        "print(string.digits)\n",
        "print(string.punctuation)\n",
        "print(string.ascii_lowercase)"
      ]
    },
    {
      "cell_type": "code",
      "execution_count": 10,
      "metadata": {
        "id": "8qy-08dypMGb"
      },
      "outputs": [],
      "source": [
        "# plus1, countdown, count_eyes, and just_eyes are already complete :-)"
      ]
    },
    {
      "cell_type": "code",
      "execution_count": 18,
      "metadata": {
        "id": "elo2wTCzpMGb"
      },
      "outputs": [
        {
          "name": "stdout",
          "output_type": "stream",
          "text": [
            "yay\n",
            "yay\n",
            "yay\n",
            "yay\n",
            "yay\n",
            "yay\n",
            "yay\n",
            "yay\n",
            "yay\n",
            "yay\n",
            "yay\n",
            "yay\n",
            "yay\n",
            "yay\n",
            "yay\n",
            "yay\n",
            "yay\n",
            "yay\n",
            "yay\n",
            "yay\n",
            "yay\n",
            "yay\n",
            "yay\n",
            "yay\n",
            "yay\n",
            "yay\n",
            "yay\n",
            "yay\n",
            "yay\n",
            "yay\n",
            "yay\n",
            "yay\n",
            "yay\n",
            "yay\n",
            "yay\n",
            "yay\n",
            "yay\n",
            "yay\n",
            "yay\n",
            "yay\n",
            "yay\n",
            "yay\n"
          ]
        }
      ],
      "source": [
        "#\n",
        "# times42( s ):      \twhich should print the string s 42 times (on separate lines)\n",
        "#\n",
        "\n",
        "def times42( s ):\n",
        "    ''' prints the given string s 42 times on separate lines\n",
        "    '''\n",
        "    for i in range(42):\n",
        "        print(s)\n",
        "\n",
        "times42(\"yay\")"
      ]
    },
    {
      "cell_type": "code",
      "execution_count": 15,
      "metadata": {
        "id": "VAC8o7KppMGb"
      },
      "outputs": [
        {
          "data": {
            "text/plain": [
              "'aliiiiien'"
            ]
          },
          "execution_count": 15,
          "metadata": {},
          "output_type": "execute_result"
        }
      ],
      "source": [
        "#\n",
        "# alien( N ):          \twhich should return the string \"aliii...iiien\" with exactly N \"i\"s\n",
        "#\n",
        "\n",
        "def alien( N ):\n",
        "    ''' returns the word alien with N number of 'i's\n",
        "    '''\n",
        "    return \"al\" + \"i\"*N + \"en\"\n",
        "\n",
        "alien(5)\n"
      ]
    },
    {
      "cell_type": "code",
      "execution_count": 24,
      "metadata": {
        "id": "ukAf4Mr9pMGb"
      },
      "outputs": [
        {
          "data": {
            "text/plain": [
              "3"
            ]
          },
          "execution_count": 24,
          "metadata": {},
          "output_type": "execute_result"
        }
      ],
      "source": [
        "#\n",
        "# count_digits( s ):   returns the number of digits in the input string s\n",
        "#\n",
        "\n",
        "def remOne(s, e):\n",
        "    rstring = ''\n",
        "    for x in s:\n",
        "        if x != e:\n",
        "            rstring += x\n",
        "    return rstring\n",
        "        \n",
        "\n",
        "def count_digits( s ):\n",
        "    '''returns the number of digits 0-9 in the input string s'''\n",
        "    digitsNotSeen = '0123456789'\n",
        "    count = 0 \n",
        "    for i in range(len(s)):\n",
        "        if s[i] in digitsNotSeen:\n",
        "            count += 1\n",
        "            digitsNotSeen = remOne(digitsNotSeen, s[i])\n",
        "    return count \n",
        "\n",
        "count_digits('01asdkfjldsk9999')\n",
        "\n"
      ]
    },
    {
      "cell_type": "code",
      "execution_count": 28,
      "metadata": {
        "id": "W4PexPSqpMGb"
      },
      "outputs": [
        {
          "data": {
            "text/plain": [
              "'12365'"
            ]
          },
          "execution_count": 28,
          "metadata": {},
          "output_type": "execute_result"
        }
      ],
      "source": [
        "#\n",
        "# just_digits( s ):   returns only the digits in the input string s\n",
        "#\n",
        "\n",
        "def just_digits( s ):\n",
        "    ''' returns a string listing the digits contained in the input string s '''\n",
        "    digitsSeen = ''\n",
        "    for i in range(len(s)):\n",
        "        if s[i] not in digitsSeen:\n",
        "            digitsSeen += s[i]\n",
        "    return digitsSeen \n",
        "    \n",
        "just_digits('1233652222')"
      ]
    },
    {
      "cell_type": "code",
      "execution_count": 32,
      "metadata": {
        "id": "DNmGH_JOpMGb"
      },
      "outputs": [
        {
          "data": {
            "text/plain": [
              "'once upon a time'"
            ]
          },
          "execution_count": 32,
          "metadata": {},
          "output_type": "execute_result"
        }
      ],
      "source": [
        "#\n",
        "# just_text( s ):   returns a new version of s, where\n",
        "#                    everything has been lower-cased, and\n",
        "#                    all non-letters and non-spaces have been removed\n",
        "#                    (that is, just keep the \"text\")\n",
        "#\n",
        "#                    Hint: s.lower() returns an all lower-case version of s\n",
        "\n",
        "def just_text( s ):\n",
        "    ''' returns lowercase string s removing all characters that aren't letters or spaces \n",
        "    '''\n",
        "    rstring2 = ''\n",
        "    lcs = s.lower()\n",
        "    text = string.ascii_lowercase + \" \"\n",
        "    for x in lcs:\n",
        "        if x in text:\n",
        "            rstring2 += x\n",
        "    return rstring2\n",
        "\n",
        "\n",
        "just_text(\"OncE3432 upon019 )(^%$^&^())a TIME...\")\n"
      ]
    },
    {
      "cell_type": "markdown",
      "metadata": {
        "id": "fEspIje4pMGb"
      },
      "source": [
        "#### Then, add two functions that you brainstorm, implement, and test...\n",
        "\n",
        "Here are a couple of examples - one of mine and one from a prior cs35 - to help the brainstorming.\n",
        "\n",
        "The key is that yours should be, well, yours! That is, something that would only have been created by you/your team -- explain the reasoning, the process you went through, and the process that ended up working.\n",
        "\n",
        "Here, both algorithmic creativity and content creativity are equally the goal. That said, the aim is 15-20 minutes. (Remember you can always adapt the individualized outcome you're aiming for!)\n"
      ]
    },
    {
      "cell_type": "code",
      "execution_count": null,
      "metadata": {
        "id": "T6l18OFCpMGb"
      },
      "outputs": [],
      "source": [
        "#\n",
        "# your own string-transforming function:  up to you\n",
        "#    the goal: come up with something uniquely yours ...\n",
        "#              ... no need to go overboard (more challenges ahead!)\n",
        "#\n",
        "# be sure to show off at least two of your own tests, too\n",
        "#\n",
        "\n",
        "# Here's my example:\n",
        "\n",
        "def poptart_score(s):\n",
        "    \"\"\" returns the wordle score vs. \"poptart\" (exactly 7 letters)\n",
        "          $ will represent the correct letter in a correct spot\n",
        "          ~ will represent the correct letter in an incorrect spot\n",
        "    \"\"\"\n",
        "    # let's make sure s has exactly 7 letters\n",
        "    s = s + \"*\"*7   # add extra asterisks at the end to have at least 7 letters\n",
        "    s = s[0:7]      # trim to 7 letters using a slice\n",
        "\n",
        "    result = \"\"\n",
        "    for i in range(len(s)):  # loop over each index i, from 0 to len(s)-1\n",
        "        if \"poptart\"[i] == s[i]:\n",
        "            result += '$'    # correct letter, correct spot\n",
        "        elif s[i] in \"poptart\":\n",
        "            result += '~'    # correct letter, wrong spot\n",
        "        else:\n",
        "            result += ' '    # not a correct letter\n",
        "\n",
        "    return result\n",
        "\n",
        "#\n",
        "# be sure to run on a large string\n",
        "#\n",
        "INPUT_STRING = \"\"\"scripps claremontmckenna pitzer mudd pomona sci50l poptart\"\"\"\n",
        "INPUT_LIST = INPUT_STRING.split()\n",
        "for s in INPUT_LIST:              # Let's test it on each string (word) in our list\n",
        "    inp = s                       # the function input\n",
        "    out = poptart_score(s)       # the function output\n",
        "    inp7 = (s + \"*\"*7)[:7]          # a seven-character (padded/sliced) input\n",
        "    print(f\"{inp:>25s}  ->  |{inp7}|\")\n",
        "    print( f\"{'':>25s}      |{out}|\")      # f-strings to show the transformation\n",
        "    print( f\"{'':>25s}      |{'poptart'}|\\n\")"
      ]
    },
    {
      "cell_type": "code",
      "execution_count": null,
      "metadata": {
        "id": "oIKDOofMpMGc"
      },
      "outputs": [],
      "source": [
        "#\n",
        "# also be sure to run on at least one file find the results\n",
        "#     can be only printing, but if there's something to maximize or minimize,\n",
        "#     it is always fun to see what's \"best\" or \"worst\"\n",
        "#\n",
        "\n",
        "INPUT_STRING = GET_STRING_FROM_FILE(\"input.txt\")\n",
        "INPUT_LIST = INPUT_STRING.split(\"\\n\")  # '\\n'\n",
        "\n",
        "AllResults = []\n",
        "\n",
        "for s in INPUT_LIST:              # Let's test it on each string (word) in our list\n",
        "    inp = s                       # the function input\n",
        "    out = poptart_score(s)       # the function output\n",
        "    inp7 = (s + \"*\"*7)[:7]          # a seven-character (padded/sliced) input\n",
        "    print(f\"{inp[0:20]:>25s}  ->  |{inp7}|\")\n",
        "    print( f\"{'':>25s}      |{out}|\")      # f-strings to show the transformation\n",
        "    print( f\"{'':>25s}      |{'poptart'}|\\n\")\n",
        "    this_score = out.count(\"$\")*4 + out.count(\"~\")*2  # my scoring system!\n",
        "    AllResults.append( [out,inp] )       # append the output and input as a _sublist_\n",
        "\n",
        "maximum_line = max(AllResults)          # take the maximum\n",
        "print(\"The max and maximum line:\", maximum_line)"
      ]
    },
    {
      "cell_type": "markdown",
      "metadata": {
        "id": "6-YV2ee_pMGc"
      },
      "source": [
        "#### Example stolen from the past...\n",
        "+ And Kenneth + Charlie's function, as well...\n",
        "  + K+C's is more representative of what's imagined...\n",
        "  + Up to you!"
      ]
    },
    {
      "cell_type": "code",
      "execution_count": null,
      "metadata": {
        "id": "nA5kHqEEpMGc"
      },
      "outputs": [],
      "source": [
        "#\n",
        "# your own string-transforming function:  up to you\n",
        "#    encouraged: come up with something uniquely yours (or your team's)\n",
        "#                ... but no need to go overboard (more problems are ahead!)\n",
        "#\n",
        "# be sure to show off a couple of your own tests, too\n",
        "#\n",
        "\n",
        "# Here's Kenneth and Charlie's:\n",
        "\n",
        "\n",
        "def obish(s):\n",
        "    '''\n",
        "    Input: a string, s\n",
        "    Output: the string converted to obish (https://www.instructables.com/How-to-speak-Obish/)\n",
        "    '''\n",
        "    vowels = 'aeiouy'\n",
        "    outputStr = \"\"\n",
        "    for i in s:\n",
        "        if i in vowels:\n",
        "            outputStr += \"ob\"\n",
        "        outputStr += i\n",
        "    return outputStr\n",
        "\n",
        "print(obish('bingus'))\n",
        "print(obish('Kenneth goes to my school.'))\n",
        "print(obish('brb I have to get my laundry'))\n",
        "assert obish('bingus') == 'bobingobus'\n",
        "assert obish('Kenneth goes to my school.') == 'Kobennobeth goboobes tobo moby schoboobol.'\n",
        "assert obish('brb I have to get my laundry') == 'brb I hobavobe tobo gobet moby lobaobundroby'\n",
        "\n",
        "#\n",
        "# note from ZD:  not sure what I'd maximize here, but so be it!\n",
        "#"
      ]
    },
    {
      "cell_type": "code",
      "execution_count": 45,
      "metadata": {
        "id": "b4MR78OppMGc"
      },
      "outputs": [
        {
          "name": "stdout",
          "output_type": "stream",
          "text": [
            "your function here! (Be sure to have small-example tests and a large-example test!)\n",
            "5\n",
            "5\n",
            "27\n",
            "9\n",
            "The max and maximum line: [66, 'So CS35_Participant_2 as men can breathe or eyes can see,']\n"
          ]
        }
      ],
      "source": [
        "#\n",
        "# your own string-quantifying function:  again, up to you\n",
        "#   something uniquely yours: a question not-yet-asked :)\n",
        "#\n",
        "# be sure to show off at least two of your own tests, too\n",
        "#\n",
        "\n",
        "print(\"your function here! (Be sure to have small-example tests and a large-example test!)\")\n",
        "\n",
        "def calcSpeak(s): \n",
        "    letNumDict = {\n",
        "    \"A\": \"4\", \"a\": \"4\",\n",
        "    \"E\": \"3\", \"e\": \"3\",\n",
        "    \"I\": \"1\", \"i\": \"1\",\n",
        "    \"O\": \"0\", \"o\": \"0\",\n",
        "    \"L\": \"1\", \"l\": \"1\",\n",
        "    \"B\": \"8\", \"b\": \"8\",\n",
        "    \"S\": \"5\", \"s\": \"5\",\n",
        "    }\n",
        "    rstring3 = \"\"\n",
        "    for x in s:\n",
        "        if x in letNumDict.keys():\n",
        "            rstring3 += letNumDict[x]\n",
        "        else:\n",
        "            rstring3 += x\n",
        "    return rstring3\n",
        "\n",
        "assert calcSpeak('Table') == 'T4813'\n",
        "assert calcSpeak('Sea') == '534'\n",
        "\n",
        "\n",
        "def wordValue(s):\n",
        "    sum = 0\n",
        "    for x in s:\n",
        "        if x in '0123456789':\n",
        "            sum += int(x)\n",
        "    return sum\n",
        "\n",
        "print(wordValue(calcSpeak('Stop')))\n",
        "print(wordValue(calcSpeak('Yield')))\n",
        "print(wordValue(calcSpeak('Pedestrian Crossing')))\n",
        "print(wordValue(calcSpeak('School Zone')))\n",
        "\n",
        "\n",
        "INPUT_SONNET = GET_STRING_FROM_FILE(\"allsonnets.txt\")\n",
        "SONNET_WORD_LIST = INPUT_STRING.split(\"\\n\")  # '\\n'\n",
        "\n",
        "\n",
        "TheResults = []\n",
        "\n",
        "for s in SONNET_WORD_LIST:              # Let's test it on each string (word) in our list\n",
        "    word = s                       # the function input\n",
        "    score = wordValue(calcSpeak(s))       # the function output\n",
        "    TheResults.append( [score,word] )       # append the output and input as a _sublist_\n",
        "\n",
        "max_line = max(TheResults)          # take the maximum\n",
        "print(\"The max and maximum line:\", max_line)\n",
        "\n",
        "\n"
      ]
    },
    {
      "cell_type": "markdown",
      "metadata": {},
      "source": [
        "#### <b><font color=\"Coral\">Reflections</font></b>\n",
        "\n",
        "In a short 4-6 sentence markdown cell, share\n",
        "+ Did you use AI?  (We hope so!)\n",
        "+ If so, which one(s)? was it helpful?\n",
        "+ Was there anything surprising about what it could help with?\n",
        "+ Was there anything surprising about what it _couldn't_ help with?\n",
        "\n",
        "Key question:\n",
        "+ Did you feel there was more reinforcement -- or more tension --    between \"helping accomplish\" and \"helping understand\"?"
      ]
    },
    {
      "cell_type": "markdown",
      "metadata": {},
      "source": [
        "\n",
        "I really didn't use AI much for this assignment, although I did refer to ChatGPT a couple times for thinking of words to put into my calcSpeak function.\n",
        "I didn't try to use it for any complicated purposes, so I didn't see much that was surprising about what it was able to help with. However, in my experience\n",
        "using AI for help during CS005, it is surprisingly unable to help with tasks involving counting or numbers in general, like the 4 fours exercise. In general,\n",
        "I don't use AI super much for CS, because I have found it helpful in trying to understand concepts (like to explain things or provide examples) but not as helpful\n",
        "in accomplishing things... but I know other find it very helpful for generating code. "
      ]
    },
    {
      "cell_type": "markdown",
      "metadata": {
        "id": "_QkLI6QcpMGc"
      },
      "source": [
        "#### <b><font color=\"Coral\">Submitting</font></b>\n",
        "+ _Do_ keep your cell outputs intact: <i>Don't clear them</i>\n",
        "+ If needed, use your choice of \"commenting out\":\n",
        "+ `if False:` , `# hashes` , `''' triple quotes '''`   for code that does not work\n",
        "+ _Do_ add context in comments or markdown both for things that worked (optional and welcome) and for things that you didn't get working (it shows you _know_ it's not working!)\n",
        "\n"
      ]
    }
  ],
  "metadata": {
    "colab": {
      "provenance": []
    },
    "kernelspec": {
      "display_name": "base",
      "language": "python",
      "name": "python3"
    },
    "language_info": {
      "codemirror_mode": {
        "name": "ipython",
        "version": 3
      },
      "file_extension": ".py",
      "mimetype": "text/x-python",
      "name": "python",
      "nbconvert_exporter": "python",
      "pygments_lexer": "ipython3",
      "version": "3.10.13"
    },
    "orig_nbformat": 4
  },
  "nbformat": 4,
  "nbformat_minor": 0
}
