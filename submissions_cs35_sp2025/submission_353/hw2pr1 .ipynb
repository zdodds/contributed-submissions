{
 "cells": [
  {
   "attachments": {},
   "cell_type": "markdown",
   "metadata": {},
   "source": [
    "### week2 ~ APIs !\n",
    "\n",
    "<b>that is, _the-web-as-your-filesystem_ ...</b>  &nbsp;&nbsp; (hw2pr1.ipynb)\n",
    "\n",
    "[the google doc with hw2's details](https://docs.google.com/document/d/1z4HwpUL1-ImGX3j-6bddyZAfdv2SkRQHRNhF5Cu3Fkk/edit?tab=t.0)\n",
    "<hr>"
   ]
  },
  {
   "cell_type": "code",
   "execution_count": 29,
   "metadata": {},
   "outputs": [
    {
     "name": "stdout",
     "output_type": "stream",
     "text": [
      "[0, 1, 2, 3, 4, 5, 6, 7, 8, 9, 10, 11, 12, 13, 14, 15, 16, 17, 18, 19, 20, 21, 22, 23, 24, 25, 26, 27, 28, 29, 30, 31, 32, 33, 34, 35, 36, 37, 38, 39, 40, 41, 42, 43, 44, 45, 46, 47, 48, 49, 50, 51, 52, 53, 54, 55, 56, 57, 58, 59, 60, 61, 62, 63, 64, 65, 66, 67, 68, 69, 70, 71, 72, 73, 74, 75, 76, 77, 78, 79, 80, 81, 82, 83, 84, 85, 86, 87, 88, 89, 90, 91, 92, 93, 94, 95, 96, 97, 98, 99]\n"
     ]
    }
   ],
   "source": [
    "#\n",
    "# computing-styling trick of the day     (or, of the minute...)\n",
    "#\n",
    "# The setting for word-wrapping on the output is\n",
    "#     \"notebook.output.wordWrap\": true,   (in your settings.json file or from Code ... Settings ...) \n",
    "\n",
    "print( list(range(100)) )\n"
   ]
  },
  {
   "cell_type": "markdown",
   "metadata": {},
   "source": [
    "#### Let's see if you already have the requests library..."
   ]
  },
  {
   "cell_type": "code",
   "execution_count": 30,
   "metadata": {},
   "outputs": [],
   "source": [
    "#\n",
    "# see if we have the requests library...\n",
    "#\n",
    "\n",
    "import requests"
   ]
  },
  {
   "cell_type": "code",
   "execution_count": 31,
   "metadata": {},
   "outputs": [
    {
     "name": "stdout",
     "output_type": "stream",
     "text": [
      "Note: you may need to restart the kernel to use updated packages.Requirement already satisfied: requests in c:\\users\\user\\appdata\\local\\programs\\python\\python312\\lib\\site-packages (2.32.3)\n",
      "Requirement already satisfied: charset-normalizer<4,>=2 in c:\\users\\user\\appdata\\local\\programs\\python\\python312\\lib\\site-packages (from requests) (3.4.1)\n",
      "Requirement already satisfied: idna<4,>=2.5 in c:\\users\\user\\appdata\\local\\programs\\python\\python312\\lib\\site-packages (from requests) (3.10)\n",
      "Requirement already satisfied: urllib3<3,>=1.21.1 in c:\\users\\user\\appdata\\local\\programs\\python\\python312\\lib\\site-packages (from requests) (2.3.0)\n",
      "Requirement already satisfied: certifi>=2017.4.17 in c:\\users\\user\\appdata\\local\\programs\\python\\python312\\lib\\site-packages (from requests) (2025.1.31)\n",
      "\n"
     ]
    },
    {
     "name": "stderr",
     "output_type": "stream",
     "text": [
      "\n",
      "[notice] A new release of pip is available: 23.2.1 -> 25.0\n",
      "[notice] To update, run: python.exe -m pip install --upgrade pip\n"
     ]
    }
   ],
   "source": [
    "%pip install requests"
   ]
  },
  {
   "cell_type": "code",
   "execution_count": 32,
   "metadata": {},
   "outputs": [],
   "source": [
    "#\n",
    "# If you _don't_ have the requests library, let's install it!\n",
    "#\n",
    "\n",
    "# for me, it worked to uncomment and run this command, here in this cell:\n",
    "# !pip3 install requests  OR   !pip install requests\n",
    "\n",
    "# an alternative is to run, in a terminal, the command would be \n",
    "#  pip3 install requests  OR    pip install requests      (the ! is needed only if inside Python)\n",
    "\n",
    "# It's very system-dependent how much you have to \"restart\" in order to use\n",
    "# the new library (the notebook, VSCode, the Jupyter extension, etc.)\n",
    "\n",
    "# Troubles?  Let us know!  We'll work on it with you..."
   ]
  },
  {
   "cell_type": "code",
   "execution_count": 33,
   "metadata": {},
   "outputs": [],
   "source": [
    "#\n",
    "# hopefully, this now works! (if so, running will succeed silently)\n",
    "#\n",
    "\n",
    "import requests"
   ]
  },
  {
   "cell_type": "code",
   "execution_count": 110,
   "metadata": {},
   "outputs": [
    {
     "data": {
      "text/plain": [
       "<Response [404]>"
      ]
     },
     "execution_count": 110,
     "metadata": {},
     "output_type": "execute_result"
    }
   ],
   "source": [
    "#\n",
    "# let's try it on a simple webpage\n",
    "#\n",
    "\n",
    "#\n",
    "# we assign the url and obtain the api-call result into result\n",
    "#    Note that result will be an object that contains many fields (not a simple string)\n",
    "# \n",
    "\n",
    "url = \"https://www.cs.hmc.edu/~dodds/demo42.html\"\n",
    "result = requests.get(url)\n",
    "result    \n",
    "\n",
    "# if it succeeded, you should see <Response [200]>\n",
    "# See the list of HTTP reponse codes for the full set!"
   ]
  },
  {
   "cell_type": "markdown",
   "metadata": {},
   "source": [
    "[Here is Wikipedia's list of all HTTP response codes](https://en.wikipedia.org/wiki/List_of_HTTP_status_codes)\n",
    "+ 100's: information\n",
    "+ 200's: success           \n",
    "+ 300's: redirects\n",
    "+ 400's + 500's: errors\n",
    "\n",
    "Perhaps familiar:  404 <br>\n",
    "Especially fun:  418\n"
   ]
  },
  {
   "cell_type": "code",
   "execution_count": 35,
   "metadata": {},
   "outputs": [
    {
     "data": {
      "text/plain": [
       "requests.models.Response"
      ]
     },
     "execution_count": 35,
     "metadata": {},
     "output_type": "execute_result"
    }
   ],
   "source": [
    "#\n",
    "# when exploring, you'll often obtain an unfamiliar object. \n",
    "# Here, we'll ask what type it is \n",
    "type(result)"
   ]
  },
  {
   "cell_type": "markdown",
   "metadata": {},
   "source": [
    "How to access the data inside this object, ``result`` ?\n",
    "\n",
    "One way: [Head over to the online documentation](https://requests.readthedocs.io/en/latest/api/#requests.Response)\n",
    "\n",
    "In addition, you can \"look around\" in Python:"
   ]
  },
  {
   "cell_type": "code",
   "execution_count": 36,
   "metadata": {},
   "outputs": [
    {
     "data": {
      "text/plain": [
       "'https://www.cs.hmc.edu/~dodds/demo42.html'"
      ]
     },
     "execution_count": 36,
     "metadata": {},
     "output_type": "execute_result"
    }
   ],
   "source": [
    "# here is one of the data members within the result\n",
    "# it \"remembers\" (keeps track of) the url requested:\n",
    "result.url"
   ]
  },
  {
   "cell_type": "code",
   "execution_count": 37,
   "metadata": {},
   "outputs": [
    {
     "name": "stdout",
     "output_type": "stream",
     "text": [
      "close\n",
      "connection\n",
      "content\n",
      "cookies\n",
      "elapsed\n",
      "encoding\n",
      "headers\n",
      "history\n",
      "json\n",
      "links\n",
      "next\n",
      "ok\n",
      "raw\n",
      "reason\n",
      "request\n",
      "text\n",
      "url\n"
     ]
    }
   ],
   "source": [
    "# We can print all of the data members in an object with dir\n",
    "# Since dir returns a list, we will grab that list and loop over it:\n",
    "all_fields = dir(result)\n",
    "\n",
    "for field in all_fields:\n",
    "    if \"_\" not in field: \n",
    "        print(field)"
   ]
  },
  {
   "cell_type": "code",
   "execution_count": 44,
   "metadata": {},
   "outputs": [
    {
     "name": "stdout",
     "output_type": "stream",
     "text": [
      "result.url         is http://api.open-notify.org/iss-now.json\n",
      "result.raw         is <urllib3.response.HTTPResponse object at 0x000001C70635E020>\n",
      "result.encoding    is UTF-8\n",
      "result.status_code is 502\n"
     ]
    }
   ],
   "source": [
    "#\n",
    "# Let's try printing a few of those fields (data members): \n",
    "print(f\"result.url         is {result.url}\")  # the original url\n",
    "print(f\"result.raw         is {result.raw}\")  # another object!\n",
    "print(f\"result.encoding    is {result.encoding}\")  # utf-8 is very common\n",
    "print(f\"result.status_code is {result.status_code}\")  # 200 is success!"
   ]
  },
  {
   "cell_type": "code",
   "execution_count": 45,
   "metadata": {},
   "outputs": [
    {
     "name": "stdout",
     "output_type": "stream",
     "text": [
      "\n",
      "                    <!doctype html>\n",
      "                    <html>\n",
      "                        <head>\n",
      "                            <meta charset='utf-8'>\n",
      "                            <title></title><style type='text/css'> @charset 'utf-8';\n",
      "                        html, body          { height: 100%; margin: 0; }\n",
      "                        body                { font-family: 'Helvetica Neue','Helvetica','Segoe UI', Arial, sans-serif; color:#5c5c5c; background: #fafafa}\n",
      "                        a                   { text-decoration: none; color: #169ad5; }\n",
      "                        a:focus             { outline: none; }\n",
      "                        a:hover             { color: #878b97; text-decoration: none; }\n",
      "                        a:hover .button     { background-color: #0E9FF4; }\n",
      "                        .buttonrow          { float: left; width: 100%; }\n",
      "                        .customcontent      { float: left; width: 100%; margin-bottom: 1em; }\n",
      "                        .button             { float: left; font-size: 0.8em; background-color: #0985ce; color: #fff; padding: .7em 1em; border-radius: .25em; margin-right: 1.25em; margin-bottom: 1em; }\n",
      "                        .buttonform:hover   { background-color: #0E9FF4; }\n",
      "                        .buttonform         { float: left; font-size: 0.8em; background-color: #0985ce; color: #fff; padding: .7em 1em; border-radius: .25em; margin-top: 0em; margin-left: 0em; margin-right: 1.25em; margin-bottom: 1em; border: none; cursor: pointer; font-family: 'Helvetica Neue','Helvetica','Segoe UI', Arial, sans-serif; font-weight: 400; }\n",
      "                        .greenbg            { background-color: #71a865; }\n",
      "                        a:hover .greenbg    { background-color: #80d483; }\n",
      "                        .content            { margin-left: 330px; max-width: 450px;}\n",
      "\n",
      "                        h1                  { font-size: 1.7em; }\n",
      "                        h1, h4, a           { font-weight: normal; }\n",
      "                        h4                  { font-size: 1.0em; line-height: 1.4em; }\n",
      "                        h5                  { margin-top: 2em; margin-bottom: 0.5em; }\n",
      "                        h5 a                { font-weight: bold; }\n",
      "                        ul                  { margin-top: 0.2em; }\n",
      "\n",
      "                        .accessdeniedtextfont                   { font-size: 1em; font-weight: normal;}\n",
      "                        .accessdeniedcategoryfont               { font-size: 1em; color: #e76644; }\n",
      "                        a.accessdeniedcategoryfont              { color: #169ad5; }\n",
      "                        a.accessdeniedcategoryfont:hover        { color: #878b97; }\n",
      "\n",
      "                        .logo                   { height: 70px; width: 125px; margin-bottom: 15vh; background-size: contain; background-repeat: no-repeat; }\n",
      "                        .contentHolder          { margin: 0 auto; width: 75%; }\n",
      "                        .image                  { width: 256px;height: 256px; float:left; }\n",
      "                        .bottom                 { width: 100%; float:left; }\n",
      "                        .bottomlogo             { height: 60px; width: 70px; margin-left:auto; margin-right:auto; background-size: 100%; background-repeat: no-repeat; background-image:url(data:image/png;base64,iVBORw0KGgoAAAANSUhEUgAAAHMAAAAtCAMAAACqGaRTAAAAGXRFWHRTb2Z0d2FyZQBBZG9iZSBJbWFnZVJlYWR5ccllPAAAADBQTFRFAHC3frfbv9vtn8nk3+32IILAr9LoQJTJj8DfYKbS7/b6EHm8UJ3OMIvFz+Tx////aCnDGwAAABB0Uk5T////////////////////AOAjXRkAAAHDSURBVHja7JbJYoQgDEDZNxX+/29LwhKwDvXSXkoODmjMy0Yclv5e2GZu5mZu5mb+G6bhXRTeiJJzU5ZJNMF9yIvQFkUh5tdlrKaCJFsLZtSMBOy4ekMbVO4Ce1F1cIH+NmUJO3kMthbMi81MTzs3MRmL35icHvqU1IhcMA04OeRWgvrJua0u5Otls4A5e2fClVnOT/g16IF9kdusd4Rb2JgnV3xvkAAP1I15NmXw9EoW3HrRQ5mph62CKMsyV+ogJgYhbkwkdVeDRS9/ZkI4nBpT1DJWSFwy4cJJWWDYaCssmWqoug/l3cEM5Va33FKTiJba0hZG0rODr87noMh0eGJ2KT00M6tyCXno+Vah55lgTjqhcsmM6WOctSbO0nFRL2afyOqnmes5Mi9RTUPB3FM95y5xb+Ztzoyd+5YNfdvDoR4K1Lf2Fpju3qyZGiqmm1VX6Cvm/XySBLZiqj43NOoZbGAjPc2hz0wsr5cGlWUSzZQ/cC59Yk5dAenx0whdM2/zlo+mdHrHLHnS4xFbM/t3BZVH5hHTi9xy2ZpAuLxrJ6Z9VLu2aov6LQRlg4NHkC0T9n+TzdzMzdzMzfw9+RJgAM1N+beP7X5aAAAAAElFTkSuQmCC);}\n",
      "\n",
      "                        .ooops                  { background-image:url(data:image/png;base64,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);}\n",
      "                        .ok                 { background-image:url(data:image/png;base64,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);}\n",
      "                        .stop-blocked           { background-image:url(data:image/png;base64,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);}\n",
      "                        .stop-certificate       { background-image:url(data:image/png;base64,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);}\n",
      "                        .stop-corrupt-file      { background-image:url(data:image/png;base64,iVBORw0KGgoAAAANSUhEUgAAAQAAAAEACAMAAABrrFhUAAAAGXRFWHRTb2Z0d2FyZQBBZG9iZSBJbWFnZVJlYWR5ccllPAAAADBQTFRF7qWY99jT766j65qM6pOE8bWr////9MnB9cnC6pSE/vj3++vo8r60/PHw+uTg////SeMjNQAAABB0Uk5T////////////////////AOAjXRkAAAShSURBVHja7N3ZmqMgEAVg0XYUROv933aSnjWJC0ix1uGu+4rzU0Jh0l93JHx0AAAAAAAAAAB8j+lLyJgAAAAAAAAAAAAAAAAAAAAAAAAAAAAAAAAAAAAAAAAAAAAAAAAAAAAAAAAAAAAAAAAAAAAAAAAAAAAAAACAe3S9/+gaAujMD/8xNwOgn/mNYIBn/mUUC/C9/svQiwX4lV9LBfi9/loswJ/8QgH+rr9UgH/5RQL8t/4yAf7PLxDgZf0lArzmFwfwtv7yAN7zCwP4WH9pAJ/5RQHsrL8sgL38ggB2118SwH5+QQDzbn5RAHv5ZVUAzwAAAAAAAAAAAAAAAAAAAAAAAAAAAAAAAAAAAAAAAAAAAAAAAAAAAAAAAAAAAAAAAAAAAAAAAAAAAAAAAAAAAAAAAAAAAAAAAAAAAAAA8AVQUgDUAcAmBEBvwgG+AHAAQFIACAAHAJ0WAdAfAvQyKmA8BJhkAEyHAEoGwHYIsMgAWA8BaJAA8Br59adeAoA9AZgkAKgTgEUCwHoCwLsJlAnwlvjtR9s+gD0FUO0DLKcApnmAt8DvADS2DmAvABTjhbCfmUYf7wn4AGBuBksb+iPvxy+sblpAXQKsTecfzCUA91uRsoalawDVMsDqAEBdu/lHcgFouAQ2J4B2S6AnNwAlqAB2AVotgZFcARotgdUZoM1ewJI7wNZg/s8m8ASA981QGWMmHwDT2qVQHwQ9AqBZN3Yr3DwBGtsHtSVfgKUpgM54A7T1b5g38gfg/r5IeS3AFcDaykmgjx+AU4B2OuKF7gGwfkiQb/31THcBTBPXwpFuA9AytL0BXAI0sA0MC4UA1H8rUhQGUHs3YCkUoO6NcKRggKo3wosN0A2g4tdDw3V+F4Bqj4KrA8AZoNaLoUt+N4A6D0NFfAA1CrjldwWo717kmN8ZoLJ2QFtiBngI1NQSOud3B6iqBtzzewBUVAMe+X0AqqkBn/xeAJXUwEzRAKroBxTFBChfwDO/N0DpAr75/QGK/tzY6f4XClDw7fhG/jsAtBX6jsjh/Q8PQKFvyfo7+e8BFNkQ2FtJbgKQKewwuPgAkB+gtNdkg6LUAKTK2Qh0t1B6AFqKuRuNhnIAkCnkm2RTQIYggDL+xOz+488AkH8jCHn8OQAeG0HeIrCG8gLk7QgCy58FIOdjEFr+TADZzsPg8ucCyHMaMJQ/H0CGx6BfqSQAMok/PJyY5s0GQDQPde1+7AC0JmsJWHY/foBUV+Ru45wzK0CSvpBz+dkB4hcB7/JHAIhcBMzLHwMg5nHAvvxxAGiN9KJkMlQHQJTGUDOe/fEB+C/JwxxnorEAiDbWK+JoqDaA52aoC978EgDQyvMcDFPEOUYFeD4H4UUwrlQvQHhTELP6kwA8zgNd4N6fECCgL9LWUAsAd7eCfk0xtyQAj9aw8278tjQzSwRAZvLaDTuVaF7JALwI4p78uQCcG6NhMtQmgBuBNUmnlBbgmsCuiSeUGuCcIHn8HADHBBni5wHYJ8gSPxfAJ0Gm+PkAXvqCtAdfKQBPgu8GuZtNxknkBHjeEYZ0TW+RAPkHAAAAAAAAQPL4KcAASqVCY7SpWAoAAAAASUVORK5CYII=\n",
      "                        );}\n",
      "                        .stop-insecure          { background-image:url(data:image/png;base64,iVBORw0KGgoAAAANSUhEUgAAAQAAAAEACAMAAABrrFhUAAAAGXRFWHRTb2Z0d2FyZQBBZG9iZSBJbWFnZVJlYWR5ccllPAAAADBQTFRF99jT6pOE/PHw8bWr////9MnB9crD+uTg766j/vj38r6065qM7qeb++vo7aGT////GI5ImwAAABB0Uk5T////////////////////AOAjXRkAAATlSURBVHja7NztdqMgEAZgF0UF1Ln/u91ud8+exEYB+R7e+dmahHkCw6A9HajzGAAAAAAAAAAA+A75q5OQAAAAAAAAAAAAAAAAAAAAAAAAAAAAAAAAAAAAAAAAAAAAAAAAAAAAAAAAAAAAAAAAAAAAAAAAAAAAAAAAAAAAAAAA6WJbv2LrE+DQg5j+hRjk0RmAXqZT7LojgFVMH0LoTgDMMF3EcvQAsKrpMtTIH0BPt6G5A1jyzyJQEmCcpvICBQE2ZQeYNsYAu0P+kzBsAeTkFDNXAHNaAGoe169lMc7nvuhgCvA+AdRLtdPvNANTgLcs9+OmOzxYAry1APu50g35tsJSAMN9pX/dIXaWAK8rYP3QI7xOAcMQ4DXBxTZDVoYAo22NvwpJhgDSOsNVpl6oPMBFjVssa4QPwEV6MwA6B5AAYA2wyv+huwSIMUcAAAAAAAAAAAAAAFoC0ItzvDweUH9/ohkAOD4N+hwSAAAAAAAAAAAAAAAAAAAAAAAAAAAAAAAAAAAAAAAAAAAAAAAAAAAAAAAAAAAAAAAAAAAAAADEARh6ARguAJZeABYAAOAjAPUCQFkBjjUgjrwA2f+3ZZlYLwHWPgDGS4BO/q2svAQY+gBYLgH2PgDEJQCZHvI/6BqgiyqobwC6qILDDcDeXQk4AfRQBN5LwBlA91YCzgAddAL7LYDqbQWcAWjsbAX8ABg6WwE/ALjvAxvZAJjvA4MVQLDO3ygrAO/zgCY7AOsyKBwA6OCb/0guAIynwOIEwHcKrOQGMHQ0AT4CcJ0CI7kCMJ0CwhmAZy+gyR1gYZj/zybwBoDjiWAmHwDF7lC4kRcAzdwAFk8AbnVQky8Ar0cEh/IG4PWUaCF/AE5/L6LpCYBgsxNs6hEAn454p2cAXB4SzPQUQLE4Fo70GIB2w7sAWAEYlAGzUwhA+6ciW4K237feDWgKBWi7EI4UDNB0IbQUQDeAhm8PGXv+LgDNbgW2DcAZoNWDoUv+bgBtboZuqbld1aKAY2aOl7V3LnJNzPU61VhDpCkyQGMCzvm7AzQl4J6/B0BDAh75+wA0I+CTvxdAIwIzJQNooh/wzMjz8voFfBPyvb52Ae98vF9Q9XNjp/NfKEDFp+MH+T8BoKXSe0QO93/iAFR6l2x9kv8zgCobAv0ok4cApKrbDGbKClDbbTLzOI/HL6ShokKw7ZQfgPZqHpmMikoAkKrkL8lkQA5BAHX0xSYshbBXV1AIApZ/DADaC3cEWlFZgLIdgQkefjhAyWUQOv0jARRbBsHTPxZAmd3AxBl6nHcpsAxWQTUBkMr88FBGGnc0AKI54yQ4dqoPgMTWVPWLD5DriHwsMcccFSDLhhjz648OkH4SxP36EwAkngSRv/4UACm3g+hffxoAEolulEhFbQCkaQy3Pc1Qk7xr/EOymdMMNBUA0RK1GI6KWgOIWQxTFL8MACTirAMjE44xKUCcdTAKahcgfB2knP1ZAML2g2S1PyNASF+kFXEAeFoKVpFjbFkAvj7G+0HqtmQaWZ6PISW9quGRa1zZALwI0u78pQCcGyMjFfEEcCPQKuuQ8gLYCbTIPKDcAPcE2dMvAXBNUCD9MgCfCYqkXwrgJ0Gh9MsBvPUFeTe+WgD+EHw3yMesCg6iJMD3GeEoPQLqPAAAAAAAAAA9x28BBgD3XwychP/UMwAAAABJRU5ErkJggg==);}\n",
      "                        .stop-malware           { background-image:url(data:image/png;base64,iVBORw0KGgoAAAANSUhEUgAAAQAAAAEACAMAAABrrFhUAAAAGXRFWHRTb2Z0d2FyZQBBZG9iZSBJbWFnZVJlYWR5ccllPAAAADBQTFRF9MnB/PHw99XP6pOE+N3Z8bWq////+uTg/vj365qM7qeb8r61766j++vo7aGT////Bb002wAAABB0Uk5T////////////////////AOAjXRkAAAZdSURBVHja7N3pktsgDABgQ3xwGOv937Z7dHedxAc3lix+dWYzKfoMQmC27eDmrWMABmAABmAABvj+8+MmrWMABmAABmAABmAABmAABmAABmAABmAABmAABmAABmAABmAABmAABmAABmAABmAABmAABmAABmAABmAABmAABmAABmAABmAABmAABmAABmAABmAABmAABmAABsjY9Nx9NjvfE8D242/rB6IAtu/t9k8GMT41Me9+w4AXQH6GJrcGfz++ta3PPdzuTzAA2O/IzHv8btxoTu99w4IUoPvufucX/5bA/4EyEwOYxp0mdz5JDMCOu22+A4BW+wDiDgAHA2AchxsAuCMAeQOAo/hf5wBFgPkQYLw9wMwA9AD6EICnqlcLEgDjtC5xF/8cYNxIA+CpyNfHq8Dqk0aNyAH+Rrv63REacTwCxO8n7W/8SmM9D+j+BIbXp7rXfqxWBaNFfCL0EsV5/D8CcmP0YDwTHNS6yvWJ/ytiPW3MCZyHoquY5SJGryYWd3RMhOxUWLsxockS8Vc+Ft86APWOH/ux+OpwOKbZBw2A4zOQ/WRY7G1J/TdDVkXEbx50ADwXwJO3BJgBHkMogHnQAuhCATpiACIUQNACMOFJ0JACiFgIO1IAUzjARAogog4YKQEsMZUg5kIopvI7rQwtHoBhLNIGNABTGYCJAbAA9GUAejQApgyAwbMKmH56aiImXvH8Hb1BtAwm7wXL1sIMUP9I7EpHoi0A5hiAmRCAjgHQhAAeEctAwSOhBgAR70YkKQB7pRzYAmC5UgpokQTdvaeAiSqFy70bqg1gIs+H3EIDwEZv/0q9H60L0CVsgJXFDyDTzgAscoDVdS8XsBI4VXQxqAfwdN0rIBea1brRa7wA5vlB2oBxr0velKsFoF8HsgwogVaXyxxWAPuWyrzOy91b+sR+XV7NISXx34i3tQFkGYD1bd/zW5Pr3674uWmcG6DfAZjKAHQhdcHzQyj0O0NTS4D1BfLTu5EkAR5ael+NrgwAdQAej3lzNZje4ywEAK0BPkpE+fpviMitvW9tAFMN4LNMtP3/+Kbe7vzNZQDmXYC5JoDXZC0CMOwCdPcA6HYB5D0Apl0Adw8AsQsAeTeeNvlyV1fixuAC+wB5qb+3wynv+BZVYDtsDwAyZ0HzMYSnpLPtz5Oh3L86Jw8Ash89XLGJAwDQ9ON/TgGvAJY+gD0EkPQB3CGAutsMeAWA4WYz4A2gv9kMeAOgvg4YOAMgvg7IUwBBOn6tTgFgpgxg4RyAdBoUHgCw0I1/AB8AwtXg5AVAdwjM4AcgbzQANgGoDoEBfAGIDgHhDUCzFrDgDzARjP+9CDwAoLgjkBACoMhtCg0EAdDLg1MgALU8aCEUgNYrgkUFA9D6b5cmCAcAc4MJcAggyKwERkUB0FkJHMQBUHlJICEWQJHYFg4QDQBO004ApwAE0oB2kAKAf1ckIQ0AezVgIRUAdyIcIBkAdSI8SYB+AIiPh/R5/D4AaJeCswXAGwDrxtBBLgCci6GEfAAYBfzi9wXAty/yjN8bQCEriCxkBkAm4B2/PwAqAf/4AwAQCQTEHwKARiAk/iAAJAISigGgqAfC4g8FuL5AYPzBAFcXCI0/HODSe0Ov/V8qwIUFIuKPAYDpomdEHuc/eQAueko2x8QfB3DJgsBGRRIJAMqiT/9pAFc7JtM91AYAeaFEYBzUBwB3mVcmg4IWAKAucpMsJYYkgGvUxfHTPwMA9Brx9M8BAK5xRWAVtAVoWxFomdr9dICW62Hq8M8E0GwaJA//XABtVoPE7J8XoMFqMAu4EgCoyi8Pc/U7G0DdXLg4uB4ACIMq++UHqLVFXqasfc75ZVUWxJyPPztA+UGQ9/EXACg8CDI//hIAJZeD7I+/DACIQgclnQIcAGUGgXFFuloGIP8mOcPGtyoAwJQ1GQ4KsAHknAclkl8FABB55oEu2ceiAHnmwSAAL0D6PCg5+qsApK0HxXJ/RYCUusgqoAAQmwpmUaNvVQA+UkHwi1Qz1elZJQBQXVA2XGSlflUDCCLQ9XpVEcC7MNKdApoAfgRWVe1SXYBzAisqd6g2wDFB9fBbAOwTNAi/DcA2QZPwWwG8EzQKvx3AU11Qd+G7CsAnwfJd9amGnWgJ8LVHqFf0XhKgfWMABmAABmCAO7d/AgwANMl4To2KbbQAAAAASUVORK5CYII=\n",
      "                        );}\n",
      "                        .stop-security          { background-image:url(data:image/png;base64,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\n",
      "                        );}\n",
      "                        .stop-security-2                { background-image:url(data:image/png;base64,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);}\n",
      "                        .warn-block             { background-image:url(data:image/png;base64,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);}\n",
      "                        .warn-corrupt-file      { background-image:url(data:image/png;base64,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);}\n",
      "                        .warn-malware           { background-image:url(data:image/png;base64,iVBORw0KGgoAAAANSUhEUgAAAQAAAAEACAMAAABrrFhUAAAAGXRFWHRTb2Z0d2FyZQBBZG9iZSBJbWFnZVJlYWR5ccllPAAAADBQTFRF/9Oj/7tw/7Zm/////9qy/8iM/+3Z//r1/795//bs/+XJ/8SD//Hi/82W/9+8////oICvwgAAABB0Uk5T////////////////////AOAjXRkAAAglSURBVHja7N3tWuQqDADgNAMU6Me5/7s9ru7qjAMtBEIpkL8+q/LaISRAF/7rPGAADIABMAAGwAAYAANgAAyAATAABsAAGAADYAAMgAEwAAbAABgA/GEsLPgZy7ab7gCsxJdYbFcAVuNbTLYbgHVBZ2jVB4BAb0AHALPEg1jm1gHMgocxrW0DrBNiXQJQ2fiLCxQFmBfE2gSguvEXnglLAgAGxtYmgMXgEC0CmCkcANcGAWTE+HFpD2DHqBCtAUR9AP6EaQwAIsePsi0AhdGhmgKQ8QC6JQCLhBDtAMwTBWCamwEQSApoBcAgMVQjAJIKINsAUEgO2wSApgPouQEAgQkh7g9AS4HlSgJ2AEgaP39ziBtgxcRQNweQqQDLvQEsJsd+Z4BZpwMwlwS8AAIzBNwXwGCWMLcF2PIAyLsCKMwU9qYAOheAvifAjtlC3BEgsQgolQr5AAAzBtwPYMWsoW4HIPMCyLsBWMwc9l4As84NwNUdYwIQmD3EnQDMlB+AqSTgAQCG8TN1x1gAFLKEug3AwgOg7wJgkSn2ewDMExcAR0kAN5kB2UqC/N/SIGOsNwCQnACyfgCLrGGrB9C8ALp2AIHMIeoG4EuB36nQVA0AyB5QM4DCAqEqBpAlAGS9ABaLhK0VgH8GZCgJcgIILBSiTgCDxcJUCSDLAWw1AigsGKpCAF0SQNcHsGPR2GsDKJUCs6fCXACAhQPqAlixeKxVAcjyALImAIsXhK0HYNZXAOTZMM8CIPCSELUAmOkagCzdsRwAG14UUAeAwstCVQGwXAew1ACw44VhrwegFwEalHl8hLGCnEbTS4JkAGoRAOvjKZS8KhWmAhwWAcvHX1g5p4hFPX6FdT5J25/vMHF2x1IB5OHz+fmEO35/mB9v4XrTmP78yspZEiQCHBYB8DWyzfeF3/H+aRJfX5CMqTAR4HD2+vvrvy2UN/f4Hc+ACgDQVwIcFwEeAD17AN4/LSEAid2xJICTIsADYB/eEBSAtFQIjCnQDbD4x//4vagIAkgrCVL+8VkR4AY4eADe5sEwgKTuWArAQgIwRwCKBCCvATjtgzkB9OMwSAApJQEd4LwIcALIYwBNAkjojgHXDEgEkCSAhJKADBCwGV4QgN4dIwPIYIDXBZ6MmAPgEQpAT4XAlAKfAB7zy6flcPyz69+HAJBLAipASAsDXOkdjgHAtWAIabotZQGCdgKmn0X/d8rcHyfxr8M2Kd/iIG8qBKYU+N0Qee132MdpfFnpn4bRGvbDiCUBMKXAv7/Ur2EEjP9LYHE8PDzzIHDNgH8F7HO1D4+gEM8do4imsykGENPBfBIIHP/HH/2oS5S5JKAAxG2GBw/blRTimsWqDEDsZjjM5PFHbjrpMgDRm+ELUWCN3nMRJQAIJ2L1Shm/jd9zIqTCeADKZvikCOMvs2EOfCkwvBEWtknAc3YsGoC4jyljAYibhZIbgLoZbot8AgglQSQAeTM8PhEQf1JsdywSgLoZvsVPgtSTR4ITgHwidi+UBeK7Y3EA5BOxhIUAGXvjA6CfiKUshMqcHYsBiCgCQLyEJa0EX79H+PSzcAEEFwHT+mCI8NLA8gCEn4i1D5YI/gTGlAQRAOF5SfEAhK/CgQMgogi4HCCiOxYOENGcEDwAEY0ImR8gpgiYWB4BNXGkQuApArbXFEYCUa/fI24RpnMDpF2LE8xPfEJJEAiQeDP8AoDQVAjMRQCxHZJSDsalQmAuAs6Pxnkj9SKGygiQfC2uaDEUlQohaxGQc2mUfhXJ5gLIcC2OMAumX8UJ6o4BewqkTgIZriOLPAA5rsXJ8nNgYEkAWYuAnDvEc4afu+UAyHAznFgcZfjoqXSADO/GIPdH0gWWdIDkFJjSH0t/+vZUgOTXQy1rsRKYVBIAbxFAPhxBPyQRWRIAbwp8Oh4jIqbC3eZLBiYJQGdLfxCxPbQ+76XNiVWhTAEQuab/z7+jniNWAJAtGVg6QGIK/Fn+mSVmPfj1J99m312y2JKADpBIL95mMojJ/j/zZ+JMLKgAqa+HEu/HvSBm9fO9gpCMqRAYU6BwrGa2k3ng5XLFZPIUhkADSF6GOe8MHS+MzOLqoyRXxooCkP56KPfFyengtMhOujqblAqBsQ/muz4vPQ2y9/do5AI4SIXAVgT4AdwErteIZAPwd8cg54nYYIDPV8i8jB70QS+VszsGjH0wcbLDI0EIZYUAedJMzvG2QhMJoAsABHfTcwBscQBZXg9VFYAvFQJXH6w6AB0DkOcdsekANiOApzsGHEXAazWY0NEA10sF8pYEwFEEvPwBk6aTNVN73F8SAM9OwL8fGXuyheE7PHOGAVzzjtgSIcMABDYbNgTgqnfElggdArBhwyHOAVTL43dcJwGuFFhpwBlA2w+AoySAvh6A91QInT0Ab6kQOkoBzu4Y5G4E1g9gDwBEBwAIxg+guwDYvQBrD+P/WAwpH8DeBQAq4wOQfQAI70dg6gNA+gD6mAI+JgEfgOoEAGcPgOgFQA2AzgF2D8DWC4Do/QkQYw4YAE4A2wuAGSvBvmuBzQvQSR70N0Rsf1PAr5ZYF58B2XtTVB0AzFNvD8DvjZEOuoJr53uD4mRzdG58a2A7PR+wNj0NLPP5EZmWBd7H7zolZpZWxw9z2EHJGZoc/rSHH5ZWDU6F0kRdmLCNEUgVfWvMtlMbTrCSbo7OdmsgI2iwKW+QWK3Y5E0ZtAShzl4llP6/z988BsAAGAADYAAMgAEwAAbAABgAA2AADIABMAAGwAAYAANgAAyAjuJ/AQYALWsUhkOLqnMAAAAASUVORK5CYII=);}\n",
      "                        .warn-suspicious        { background-image:url(data:image/png;base64,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);}\n",
      "                        .warn-unreg-protocol{ background-image:url(data:image/png;base64,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);}\n",
      "\n",
      "\n",
      "                        .red                { color: #e76644;}\n",
      "                        .orange             { color: #ff9800;}\n",
      "                        .yellow             { color: #d1c330;}\n",
      "                        .green              { color: #87c98a;}\n",
      "\n",
      "                        .show-hide,\n",
      "                        .hide-show               {   width:100%; float:left; color: #B8B8B8; padding-left: 1.2em; background-repeat: no-repeat; background-position: -0.4em -0.1em; line-height: 1.6em; background-size: 1.5em; }\n",
      "                        a.show-hide, a.hide-show { font-weight: 700; color: #B8B8B8; font-size: 0.8em;}\n",
      "                        .show-hide               { background-image:url(data:image/png;base64,iVBORw0KGgoAAAANSUhEUgAAABQAAAAUCAYAAACNiR0NAAAAGXRFWHRTb2Z0d2FyZQBBZG9iZSBJbWFnZVJlYWR5ccllPAAAAGdJREFUeNpiYBgFo2DgASMuifbu6e+BlAAQfwBix8rSzAtAMRB/PxAbQJUZgsSR9THhscwRahjYEKBhDmiGJaIbhteFUFcaQA0RQJMCGbaAJC/jMRSnYUQZiGZoIT7DRsEoIBMABBgAXDEhZ8xfUKMAAAAASUVORK5CYII=); }\n",
      "                        .hide-show               { background-image:url(data:image/png;base64,iVBORw0KGgoAAAANSUhEUgAAABQAAAAUCAYAAACNiR0NAAAAGXRFWHRTb2Z0d2FyZQBBZG9iZSBJbWFnZVJlYWR5ccllPAAAAGhJREFUeNpiYBgFo4ChvXv6eyBOIFY9ExFqBIB4PrGGEmPgAyhNlKHEGBgIxB+INZSggZWlmReghsLAfIoMBLoIFIb9SEKJlHp5PxAbwAwDungBpQYSbRixBhJtGLEJW2E0e9MXAAQYAIenHoslMtqSAAAAAElFTkSuQmCC\n",
      "                        ); }\n",
      "                        .hiddenText             { font-size: 0.8em; display: block; padding-left: 1.2em; color: #B8B8B8;}\n",
      "                        .hidden                 { display:none;}\n",
      "                        .ellipsis               { white-space: nowrap;overflow: hidden;text-overflow: ellipsis;}\n",
      "\n",
      "                        li                      { font-size: 100%; }\n",
      "\n",
      "                        .hiddenText ul          { list-style-type: none; padding-left: 0; }\n",
      "                        .hiddenText ul.interior { padding-left: 1em; }\n",
      "                        .dropdowns              { float: left;  width: 100%; margin-bottom: 1.5em; margin-top: 0.3em; }\n",
      "\n",
      "\n",
      "                        .logoSophosFooter       { background-color: #007AC6; width: 100%; height: 2em; float:left;width:100%;}\n",
      "                        .logoSophosFooterText   { float:right; height: 1em; padding:0.5em 5.7em; color: #eaeafa;\n",
      "                                background-repeat: no-repeat;\n",
      "                                background-position: right 40%;\n",
      "                                background-size: 6em;\n",
      "                                background-image:url(data:image/png;base64,iVBORw0KGgoAAAANSUhEUgAAAHMAAAAtCAYAAACdx1RhAAAAGXRFWHRTb2Z0d2FyZQBBZG9iZSBJbWFnZVJlYWR5ccllPAAAA4hJREFUeNrsmd1x2kAQx4mHAvSW5E2pIEoFERUYKgBXAKqAuAJBBUAF4AqACqIOorckb6SCZM+zmrlsVqfTCWHP5P+bucECnXS3X7e7HgwAAAAAAAAAAAAAAAAAAAAAAOB18iZ04vcfP8f0saSReE45vX/3diSeMaOPexopjcj6qTT309jRnJMyZ+rxvguNtT2f5ubWegv6LVP2Zd9j3r8Vv6f8fvMZi/dVaz7UyCsXc1rJq4lhoCLNRvYdDMEo7ugwBLNho7QZ3bsSQo9ZkD6Maf6DpZDEY659z1mse8Pr0jB7GvM7jVIn9N6Lpch93545DJy3FNclDxeF9fdeUWTB1h0L612QMH6RYL4ErnVjhEvzyy6CYo+d1ew7EvupjL3yrLyjvHpVpm3dj20EzVaaikUb7ykUz69C75I99OIRuiMWni34OY2sgyKNcS1ESJ2IEJ5wtKnWnPI+LsI4M5q36sMz767wjFPL++/FdWYr0sBCWsuQ6fNwo3AaD0ro7MJYWfNJvPfZKJW9Rl097pbKzNkCQ7y6lEKx2Irrjy+YKH4W14caQzooRiTD6bylvHoPswfLWp/DCy3Q5blra6OxODvqPKwUz/T2Lpq3UM6ofxIduu9YkwBpyc1f3t8QqSplJbwP+7sqSXLJdu0w8qsrM1PKCZcnmvNjoqXsHTHP/e1x365GQSEe0iZMRpa8jp7yqpQ9aqvQIGWytX1w1JmR8n1eF556Zhti5Q2lS1t5FSSvT5yI+cpr2TYfCfXMKtRkDeHOrstizgpLK9TGDRmkbAK09aAnR6atFuUcetOmOtkRahPNi7k0yhpq7411fLWOGsOevWInSoSYNxhbCk5rPEfWdOdrdEkCOQvhjpUErSqpopCQbIyD5q99s/a+slkXUyUReVKy4UgIJeGQ1JhB3ipUK2tOlEiSe5zVLuY3z2ZF/9J1tkSiDDHK3NL8qZ3x0fhG3xVsyVrLbdW1g9MFzhFWVuPA7OsrZ6lnLl1SJWqcrNDdpmQLqd+Dw6xPj1PLgCsm3OFJRWaZ1qT6j4MXxvSHOYLMZKZec15PHIryofWe724gh5JbXwfRpRlxx+TgqNdMm2/UUNfdUqFmvSMOu5caJRqj7bLmYiBahb4E/QuMzwtXzVSGhEVz7vQZTsW6L7KNqNzTuI/qvHcpz6PjU7wWgwUAAAAAAAAAAAAAAAAA/lv+CDAAR2B524u274UAAAAASUVORK5CYII=);}\n",
      "                        .logoSophosFooterText a     { color: #fafaff; }\n",
      "                        .logoSophosFooterFont       { font-size: 0.8em; color: #e0e0e0; float: left; }\n",
      "                        .fwrapper                   { min-height: 100%; height: auto !important; margin: 0 auto -2em; }\n",
      "                        footer, .fpush              { height: 2em; margin: 0;}\n",
      "\n",
      "\n",
      "\n",
      "                        .spinnerpara    { background-repeat:no-repeat; background-position:left center; padding-left:25px; background-image:url(data:image/gif;base64,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); }@media only screen and (max-width: 1024px)  {\n",
      "                        .contentHolder      { margin: 0 auto; width: 80%;}\n",
      "                        .image              { width: 192px; height: 192px; float: left; background-size: 100%; margin-top: 5%; margin-right: auto;}\n",
      "                        .content            { margin-left: 220px; max-width: 450px;}\n",
      "                        }@media only screen and (max-width: 824px)  {\n",
      "                        .contentHolder      { margin: 0 auto; width: 90%;}\n",
      "                        .image              { width: 128px; height: 128px; float: left; background-size: 100%; margin-top: 5%;}\n",
      "                        .content            { margin-left: 150px; max-width: 450px;}\n",
      "                        }@media only screen and (max-device-width: 630px)  {\n",
      "                        body            { font-size: 3vw; }\n",
      "                        .contentHolder  { margin: 0 auto; width: 90%; }\n",
      "                        .image          { display:block; width: 33vw; height: 33vw; float: none; background-size: 100%; margin-top:5vw; margin-left:auto;}\n",
      "                        .content        { margin-left: 0; max-width:100%}\n",
      "                        .logo           { height: 8vw; width: 20vw; margin-bottom: 1vw; background-repeat: no-repeat; background-size: 20vw; }\n",
      "                        .bottomlogo     { height: 6.5vw; width: 8vw; background-repeat: no-repeat; background-size: 25vw;}\n",
      "                        .dropdowns      {-webkit-text-size-adjust:none;}\n",
      "                        }@media only screen and (max-width: 630px)  {\n",
      "                        .contentHolder      { margin: 0 auto; width: 400px;}\n",
      "                        .image              { display:block; width: 128px; height: 128px; float: none; background-size: 100%; margin:auto;}\n",
      "                        .content            { margin-left: 0;}\n",
      "                        }\n",
      "                        .shake { -webkit-animation: shake 0.5s 1;-moz-animation: shake 0.5s 1;}@-webkit-keyframes shake {\n",
      "                        0%      { -webkit-transform: translate(2px, 1px) rotate(0deg); }\n",
      "                        10%     { -webkit-transform: translate(-1px, -2px) rotate(-1deg); }\n",
      "                        20%     { -webkit-transform: translate(-3px, 0px) rotate(1deg); }\n",
      "                        30%     { -webkit-transform: translate(0px, 2px) rotate(0deg); }\n",
      "                        40%     { -webkit-transform: translate(1px, -1px) rotate(1deg); }\n",
      "                        50%     { -webkit-transform: translate(-1px, 2px) rotate(-1deg); }\n",
      "                        60%     { -webkit-transform: translate(-3px, 1px) rotate(0deg); }\n",
      "                        70%     { -webkit-transform: translate(2px, 1px) rotate(-1deg); }\n",
      "                        80%     { -webkit-transform: translate(-1px, -1px) rotate(1deg); }\n",
      "                        90%     { -webkit-transform: translate(2px, 2px) rotate(0deg); }\n",
      "                        100%    { -webkit-transform: translate(1px, -2px) rotate(-1deg); }\n",
      "                        }\n",
      "                        .shake:focus {\n",
      "                        -webkit-animation-name: shake;\n",
      "                        -webkit-animation-duration: 0.5s;\n",
      "                        -webkit-transform-origin:50% 50%;\n",
      "                        -webkit-animation-iteration-count: infinite;\n",
      "                        -webkit-animation-timing-function: linear;\n",
      "                        }\n",
      "                       sophos { margin-bottom: 10%; } </style>\n",
      "                            \n",
      "                    <script type='text/javascript'>\n",
      "                        function toggleDiv(divId, noEllipsis) {\n",
      "                            var hidbit=document.getElementById(divId);\n",
      "                            var togbit=document.getElementById(divId+'_lnk');\n",
      "\n",
      "                            if(togbit.className=='hide-show') {\n",
      "                                togbit.className='show-hide';\n",
      "                                hidbit.className= noEllipsis ? 'hiddenText' : 'hiddenText ellipsis';\n",
      "                            } else {\n",
      "                                hidbit.className='hidden hiddenText';\n",
      "                                togbit.className='hide-show';\n",
      "                            }\n",
      "                        }\n",
      "                    </script>\n",
      "                            \n",
      "                    \n",
      "                    <script type='text/javascript'>\n",
      "                        function shortenURL(originalUrl) {\n",
      "                            if (typeof originalUrl === 'undefined') {\n",
      "                                return '';\n",
      "                            }\n",
      "\n",
      "                            if (originalUrl.length <= 40) {\n",
      "                                return originalUrl;\n",
      "                            }\n",
      "\n",
      "                            var shortenedUrl = originalUrl;\n",
      "                            try {\n",
      "                                var pattern = /((http|ftp|https):\\/\\/)(.+?\\/).*(\\/.+?)$/i;\n",
      "                                if (!pattern.test(originalUrl)) {\n",
      "                                    return originalUrl;\n",
      "                                }\n",
      "                                pattern.exec(originalUrl);\n",
      "                                shortenedUrl = RegExp.$1 + RegExp.$3 + '..' + RegExp.$4;\n",
      "                            } catch (e) {}\n",
      "\n",
      "                            return shortenedUrl;\n",
      "                        }\n",
      "\n",
      "                        function segmentText(text) {\n",
      "                            var segments = text.match(/.{1,43}/g);\n",
      "                            return segments.join('\\n');\n",
      "                        }\n",
      "                    </script>\n",
      "                    <script type='text/javascript'>\n",
      "                        function displayTitleAndText(id) {\n",
      "                            var elt = document.getElementById(id);\n",
      "                            try {\n",
      "                                var decoded = decodeURIComponent(elt.title);\n",
      "                            } catch(e) {\n",
      "                                decoded = elt.title;\n",
      "                            }\n",
      "\n",
      "                            elt.appendChild(document.createTextNode(decoded));\n",
      "                            elt.title = segmentText(decoded);\n",
      "                        }\n",
      "                    </script>\n",
      "                            \n",
      "        <script type='text/javascript'>\n",
      "            function showLongUrlMsg() {\n",
      "                if() {\n",
      "                    displayTitleAndText('url_msg');\n",
      "                }\n",
      "            }\n",
      "        </script>\n",
      "                            <script type='text/javascript'>\n",
      "                                var NOT_AVAIL = 'Not available';\n",
      "                                var SITE_NOT_AVAIL = 'Website not available';\n",
      "                                var CONN_PRBLM = 'Connection problem';\n",
      "                                var FW_ERR = 'Firewall error';\n",
      "                                var SITE_ERR = 'Website error';\n",
      "                                var NOT_FOUND = 'Content not found'\n",
      "                                var COMM_PRBLM = 'Communication problem';\n",
      "                                var ERROR = 'Something went wrong';\n",
      "                                var AUTH_ERR_TITLE = 'Authentication failure';                            \n",
      "\n",
      "                                window.onload = function() {\n",
      "                                    generateText('connection_fail');\n",
      "                                    displayTitleAndText('urlSpan');\n",
      "                                    showLongUrlMsg();\n",
      "                                }\n",
      "\n",
      "                                function generateText(cause) {\n",
      "                                    var TEXT = {\n",
      "                                        connection_fail: [\n",
      "                                            NOT_AVAIL, SITE_NOT_AVAIL,\n",
      "                                            'The website you requested cannot be accessed. It may work if you try again later.',\n",
      "                                            \"We found the website's address but were unable to connect to the web server.\"\n",
      "                                        ],\n",
      "                                        server_error: [\n",
      "                                            CONN_PRBLM, COMM_PRBLM,\n",
      "                                            'Your page cannot load because of a communication error with the website.',\n",
      "                                            'Communication with the web server was interrupted because it behaved in an unexpected way.'\n",
      "                                        ],\n",
      "                                        dns_lookup_timeout: [\n",
      "                                            NOT_AVAIL, SITE_NOT_AVAIL,\n",
      "                                            'The website you requested cannot be accessed. It may work if you try again later.',\n",
      "                                            'The DNS server did not respond to our request for an address lookup.'\n",
      "                                        ],\n",
      "                                        dns_lookup_unexpected_response: [\n",
      "                                            NOT_AVAIL, SITE_NOT_AVAIL,\n",
      "                                            'We could not locate the website. It may work if you try again later.',\n",
      "                                            'The DNS server was unable to respond to our address lookup, or the response was invalid.'\n",
      "                                        ],\n",
      "                                        dns_no_domain: [\n",
      "                                            NOT_AVAIL,\n",
      "                                            SITE_NOT_AVAIL,\n",
      "                                            'The website you requested cannot be located. Did you enter the name correctly?',\n",
      "                                            \"The DNS server responded that the domain name does not exist. Either you entered the website URL incorrectly or there is something wrong with the website's domain information.\"\n",
      "                                        ],\n",
      "                                        browser_error: [\n",
      "                                            CONN_PRBLM, COMM_PRBLM,\n",
      "                                            'Your page cannot load because of an error communicating with your browser.',\n",
      "                                            'Communication with your browser was interrupted because it did not behave in an expected way.'\n",
      "                                        ],\n",
      "                                        internal_error: [\n",
      "                                            FW_ERR, ERROR,\n",
      "                                            'Your page cannot load because of an internal error on this firewall. It may work if you try again later.',\n",
      "                                            'An internal error occurred. If it persists, please contact your Administrator.'\n",
      "                                        ],\n",
      "                                        transaction_error: [\n",
      "                                            SITE_ERR, SITE_ERR,\n",
      "                                            'Your page cannot load because the website is sending invalid content.',\n",
      "                                            'The website is sending invalid content that the firewall cannot handle. It may be sending too much data.'\n",
      "                                        ],\n",
      "                                        not_found: [\n",
      "                                            NOT_FOUND, NOT_FOUND,\n",
      "                                            'The content you are trying to access does not exist.',\n",
      "                                            'The URL requested by your browser is trying to download content directly from the firewall. The firewall cannot locate the requested content.'\n",
      "                                        ],\n",
      "                                        auth_failure: [\n",
      "                                            AUTH_ERR_TITLE, AUTH_ERR_TITLE,\n",
      "                                            'The firewall is currently unable to authenticate users.',\n",
      "                                            'Authentication isn&#39;t working or is incorrectly configured on your organization&#39;s firewall. Contact your administrator.'\n",
      "                                        ]\n",
      "                                    };\n",
      "\n",
      "                                    if (TEXT[cause]) {\n",
      "                                        document.title = TEXT[cause][0];\n",
      "                                        document.getElementById('title').innerHTML = TEXT[cause][1];\n",
      "                                        document.getElementById('desc').innerHTML = TEXT[cause][2];\n",
      "                                        document.getElementById('reason').innerHTML = TEXT[cause][3];\n",
      "                                    }\n",
      "                                }\n",
      "                            </script>\n",
      "                        </head>\n",
      "                \n",
      "                    <body id='reStyle'>\n",
      "                        <div class='fwrapper'>\n",
      "                            <div class='logo' style='background-image: url(data:image/png;base64,iVBORw0KGgoAAAANSUhEUgAAAHMAAAAtCAMAAACqGaRTAAAAGXRFWHRTb2Z0d2FyZQBBZG9iZSBJbWFnZVJlYWR5ccllPAAAADBQTFRFAHC3frfbv9vtn8nk3+32IILAr9LoQJTJj8DfYKbS7/b6EHm8UJ3OMIvFz+Tx////aCnDGwAAABB0Uk5T////////////////////AOAjXRkAAAHDSURBVHja7JbJYoQgDEDZNxX+/29LwhKwDvXSXkoODmjMy0Yclv5e2GZu5mZu5mb+G6bhXRTeiJJzU5ZJNMF9yIvQFkUh5tdlrKaCJFsLZtSMBOy4ekMbVO4Ce1F1cIH+NmUJO3kMthbMi81MTzs3MRmL35icHvqU1IhcMA04OeRWgvrJua0u5Otls4A5e2fClVnOT/g16IF9kdusd4Rb2JgnV3xvkAAP1I15NmXw9EoW3HrRQ5mph62CKMsyV+ogJgYhbkwkdVeDRS9/ZkI4nBpT1DJWSFwy4cJJWWDYaCssmWqoug/l3cEM5Va33FKTiJba0hZG0rODr87noMh0eGJ2KT00M6tyCXno+Vah55lgTjqhcsmM6WOctSbO0nFRL2afyOqnmes5Mi9RTUPB3FM95y5xb+Ztzoyd+5YNfdvDoR4K1Lf2Fpju3qyZGiqmm1VX6Cvm/XySBLZiqj43NOoZbGAjPc2hz0wsr5cGlWUSzZQ/cC59Yk5dAenx0whdM2/zlo+mdHrHLHnS4xFbM/t3BZVH5hHTi9xy2ZpAuLxrJ6Z9VLu2aov6LQRlg4NHkC0T9n+TzdzMzdzMzfw9+RJgAM1N+beP7X5aAAAAAElFTkSuQmCC);'></div>\n",
      "                            <div class='contentHolder'>\n",
      "                                <div class='image ooops shake'></div>\n",
      "                                <div class='content'>\n",
      "                                    <h1 id='title' class='yellow'></h1>\n",
      "                                    <h4 id='desc'></h4>\n",
      "                                    <div class='buttonrow'>\n",
      "                                        <a href='javascript:history.back()'><div class='button'>Return to previous page</div></a>\n",
      "                                    </div>\n",
      "\n",
      "                                    <br><br><br>\n",
      "                                    <div class='dropdowns'>\n",
      "                                        <a href='javascript:toggleDiv(\"reason\", true);' id='reason_lnk' class='hide-show'>Reason for this message</a>\n",
      "                                        <div id='reason' class='hidden hiddenText ellipsis'></div>\n",
      "\n",
      "                                        <br>\n",
      "                                        <a href='javascript:toggleDiv(\"about\");' id='about_lnk' class='hide-show'>About this request</a>\n",
      "                                        <div id='about' class='hidden hiddenText ellipsis'>URL: <span id='urlSpan' title='http://api.open-notify.org/iss-now.json'></span>&nbsp;&nbsp;&nbsp;<span id='url_msg' title='(URL detail removed)'></span></div>\n",
      "                                    </div>\n",
      "                                </div>\n",
      "                            </div>\n",
      "                            <div></div>\n",
      "                            <div class='fpush'></div>\n",
      "                        </div>\n",
      "                        <footer>\n",
      "                        <div class='logoSophosFooter'>\n",
      "                            <div class='logoSophosFooterText'>\n",
      "                                <span class='logoSophosFooterFont'>Protected by</span>\n",
      "                            </div>\n",
      "                        </div>\n",
      "                    </footer>\n",
      "                    </body>\n",
      "                </html>\n"
     ]
    }
   ],
   "source": [
    "# In this case, the result is a text file (HTML) Let's see it!\n",
    "contents = result.text\n",
    "print(contents)"
   ]
  },
  {
   "cell_type": "code",
   "execution_count": null,
   "metadata": {},
   "outputs": [],
   "source": [
    "# Yay!  \n",
    "# This shows that you are able to \"scrape\" an arbitrary HTML page... \n",
    "\n",
    "# Now, we're off to more _structured_ data-gathering..."
   ]
  },
  {
   "attachments": {},
   "cell_type": "markdown",
   "metadata": {},
   "source": [
    "#### Traversing the world - and web - <i>without a browser</i>.   \n",
    "\n",
    "<b>Using the ISS APIs</b> \n",
    "\n",
    "+ Here, you'll make some calls using `requests` to, first, the International Space Station API \n",
    "+ and, then, the US Geological Survey's earthquake API\n",
    "+ \"API\" is short for \"Application Programming Interface\" \n",
    "  + Admittedly, this is not a very informative name:\n",
    "  + The API is the set of services, which are functions and/or urls, provided by some software or site"
   ]
  },
  {
   "attachments": {},
   "cell_type": "markdown",
   "metadata": {},
   "source": [
    "Let's try it with the International Space Station api at [http://api.open-notify.org/iss-now.json](http://api.open-notify.org/iss-now.json)\n",
    "+ [This page has documentation on the ISS API](http://open-notify.org/Open-Notify-API/ISS-Location-Now/)"
   ]
  },
  {
   "cell_type": "code",
   "execution_count": 46,
   "metadata": {},
   "outputs": [
    {
     "data": {
      "text/plain": [
       "<Response [200]>"
      ]
     },
     "execution_count": 46,
     "metadata": {},
     "output_type": "execute_result"
    }
   ],
   "source": [
    "#\n",
    "# we assign the url and obtain the api-call result into result\n",
    "#    Note that result will be an object that contains many fields (not a simple string)\n",
    "# \n",
    "\n",
    "import requests\n",
    "\n",
    "url = \"http://api.open-notify.org/iss-now.json\"   # this is sometimes called an \"endpoint\" ...\n",
    "result = requests.get(url)\n",
    "result    \n",
    "\n",
    "# if it succeeds, you should see <Response [200]>"
   ]
  },
  {
   "cell_type": "code",
   "execution_count": 47,
   "metadata": {},
   "outputs": [
    {
     "name": "stdout",
     "output_type": "stream",
     "text": [
      "result.url         is http://api.open-notify.org/iss-now.json\n",
      "result.raw         is <urllib3.response.HTTPResponse object at 0x000001C70636AB30>\n",
      "result.encoding    is utf-8\n",
      "result.status_code is 200\n"
     ]
    }
   ],
   "source": [
    "#\n",
    "# Let's try printing those shorter fields from before:\n",
    "print(f\"result.url         is {result.url}\")  # the original url\n",
    "print(f\"result.raw         is {result.raw}\")  # another object!\n",
    "print(f\"result.encoding    is {result.encoding}\")  # utf-8 is very common\n",
    "print(f\"result.status_code is {result.status_code}\")  # 200 is success!"
   ]
  },
  {
   "cell_type": "code",
   "execution_count": 48,
   "metadata": {},
   "outputs": [
    {
     "name": "stdout",
     "output_type": "stream",
     "text": [
      "{'message': 'success', 'timestamp': 1739386908, 'iss_position': {'longitude': '59.1489', 'latitude': '-50.7064'}}\n"
     ]
    }
   ],
   "source": [
    "#\n",
    "# In this case, we know the result is a JSON file, and we can obtain it that way:\n",
    "json_contents = result.json()\n",
    "print(json_contents)\n",
    "\n",
    "# Remember:  json_contents will be a _dictionary_"
   ]
  },
  {
   "cell_type": "code",
   "execution_count": 106,
   "metadata": {},
   "outputs": [
    {
     "name": "stdout",
     "output_type": "stream",
     "text": [
      "59.1489\n",
      "-50.7064\n"
     ]
    }
   ],
   "source": [
    "#\n",
    "# Let's re-remind ourselves how dictionaries work:\n",
    "\n",
    "long1 = float(json_contents['iss_position']['longitude'])\n",
    "lat1 = float(json_contents['iss_position']['latitude'])        # Challenge:  could we access the other components? What _types_ are they?!!\n",
    "\n",
    "print(long1)\n",
    "print(lat1)"
   ]
  },
  {
   "cell_type": "code",
   "execution_count": 50,
   "metadata": {},
   "outputs": [
    {
     "name": "stdout",
     "output_type": "stream",
     "text": [
      "['message', 'timestamp', 'iss_position']\n"
     ]
    }
   ],
   "source": [
    "#\n",
    "# In Python, we can use the resulting dictionary... let's see its keys:\n",
    "print(list(json_contents.keys()))  \n",
    "\n",
    "# Also, watch out for string vs. numeric types, e.g., for latitude and longitude.\n",
    "# At heart, _all_ web data are strings... .\n",
    "\n",
    "# These experiments will be helpful for problem 1, below :)"
   ]
  },
  {
   "cell_type": "markdown",
   "metadata": {},
   "source": [
    "<font color=\"Coral\"><b>Task 0a</b></font>  &nbsp;&nbsp; From here, \n",
    "+ extract the lat and CS35_Participant_2 of the ISS from ``json_contents``  (dictinoary practice!)\n",
    "+ copy the ``haversine`` function from the assignment\n",
    "+ find the lat/CS35_Participant_2 of Claremont (or grab it from the hw page! 😊 )\n",
    "+ combine these to find out how far, in miles, the ISS is from Claremont  \n",
    "+ <font size=\"-2\">you could _imagine_ writing a function to do all this (no need to - we'll do it with earthquakes!)</font>"
   ]
  },
  {
   "cell_type": "code",
   "execution_count": 51,
   "metadata": {},
   "outputs": [
    {
     "data": {
      "text/plain": [
       "4507.077921623413"
      ]
     },
     "execution_count": 51,
     "metadata": {},
     "output_type": "execute_result"
    }
   ],
   "source": [
    "def haversine(lat1, long1, lat2, long2):\n",
    "    \"\"\"\n",
    "    Calculate the great circle distance in kilometers between two points\n",
    "    on the earth (specified in decimal degrees)\n",
    "    \"\"\"\n",
    "    from math import radians, sin, cos, sqrt, asin  # this import is for the sin, cos, radians, ...\n",
    "    # convert decimal degrees to radians\n",
    "    long1, lat1, long2, lat2 = map(radians, [long1, lat1, long2, lat2])\n",
    "\n",
    "\n",
    "    # haversine formula\n",
    "    dlong = long2 - long1\n",
    "    dlat = lat2 - lat1\n",
    "    trig = sin(dlat/2)**2 + cos(lat1) * cos(lat2) * sin(dlong/2)**2\n",
    "    # Radius of earth. Use 3956 for miles. 6371 for km.\n",
    "    radius = 3956  # we'll use miles!\n",
    "    return radius * 2 * asin(sqrt(trig))\n",
    "\n",
    "long2 = 34.0967\n",
    "lat2 = -117.7198\n",
    "\n",
    "haversine(lat1, long1, lat2, long2)"
   ]
  },
  {
   "cell_type": "markdown",
   "metadata": {},
   "source": [
    "## JSON\n",
    "\n",
    "####  Let's make a brief JSON visit in Python\n",
    "\n",
    "The library ``json`` allows us to create and read arbitrary JSON data."
   ]
  },
  {
   "cell_type": "code",
   "execution_count": 52,
   "metadata": {},
   "outputs": [
    {
     "name": "stdout",
     "output_type": "stream",
     "text": [
      "{'key': 'value', 'fave': 42, 'list': [5, 6, 7, {'mascot': 'Aliiien'}]}\n"
     ]
    }
   ],
   "source": [
    "# JSON is a javascript dictionary format -- almost the same as a Python dictionary:\n",
    "data = { 'key':'value',  'fave':42,  'list':[5,6,7,{'mascot':'Aliiien'}] }\n",
    "print(data)\n",
    "\n",
    "# we can write in JSON format to a local file, named small42.json:\n",
    "import json \n",
    "\n",
    "with open(\"small.json\", \"w\") as f:\n",
    "    json.dump( data, f )"
   ]
  },
  {
   "cell_type": "code",
   "execution_count": 53,
   "metadata": {},
   "outputs": [
    {
     "name": "stdout",
     "output_type": "stream",
     "text": [
      "the dictionary = {'key': 'value', 'fave': 42, 'list': [5, 6, 7, {'mascot': 'Aliiien'}]}\n"
     ]
    }
   ],
   "source": [
    "# We can also read from a json file\n",
    "# The resulting data will be a _dictionary_:\n",
    "\n",
    "with open(\"small.json\", \"r\") as f:\n",
    "    dictionary = json.load( f )\n",
    "\n",
    "print(f\"the {dictionary = }\")"
   ]
  },
  {
   "cell_type": "code",
   "execution_count": 54,
   "metadata": {},
   "outputs": [
    {
     "data": {
      "text/plain": [
       "['key', 'fave', 'list']"
      ]
     },
     "execution_count": 54,
     "metadata": {},
     "output_type": "execute_result"
    }
   ],
   "source": [
    "# let's access this dictionary -- first, the keys:\n",
    "list(dictionary.keys())   # How do we get 'Aliiien' from newdata?"
   ]
  },
  {
   "cell_type": "code",
   "execution_count": 55,
   "metadata": {},
   "outputs": [
    {
     "data": {
      "text/plain": [
       "'value'"
      ]
     },
     "execution_count": 55,
     "metadata": {},
     "output_type": "execute_result"
    }
   ],
   "source": [
    "# Task: use the dictionary to obtain (a) 'value' , (b) 42 , (c) 'Aliiien'  [tricky!]\n",
    "\n",
    "# remember that there are two ways to get the value from a key:\n",
    "# way 1:  dictionary['key']            # errors if 'key' isn't present\n",
    "# way 2:  dictionary.get('key')        # returns None if 'key' isn't present\n",
    "\n",
    "dictionary['key']"
   ]
  },
  {
   "cell_type": "markdown",
   "metadata": {},
   "source": [
    "Most of the time this will be done for us by the ``requests`` library. So, we will simply receive the dictionary of data sent.\n",
    "\n",
    "Then, the trick is to \"extract\" the data fragments we want. (Sometimes it feels like forensics - or archaeology!) Try excavating items one **layer** at a time..."
   ]
  },
  {
   "cell_type": "markdown",
   "metadata": {},
   "source": [
    "#### Remember: &nbsp; <i>not</i> every url returns json data...\n",
    "+ The url [https://www.cs.hmc.edu/~dodds/demo.html](https://www.cs.hmc.edu/~dodds/demo.html) returns a plain-text file with _markup_ text\n",
    "+ that is to say, with HTML tags, such as `<title>Title</title>` to designate the components of its content\n",
    "+ HTML stands for _hypertext markup language_   \n",
    "+ Often anything with tags similar to `<b>be bold!</b>` is called \"markup.\" \n",
    "\n",
    "Let's try our 5C homepages: they're HTML, not JSON:"
   ]
  },
  {
   "cell_type": "code",
   "execution_count": 56,
   "metadata": {},
   "outputs": [
    {
     "name": "stdout",
     "output_type": "stream",
     "text": [
      "result is <Response [200]>\n"
     ]
    }
   ],
   "source": [
    "import requests \n",
    "\n",
    "# here, we will obtain plain-text results from a request\n",
    "url = \"https://www.cs.hmc.edu/~dodds/demo.html\"  # try it + source\n",
    "# url = \"https://www.scrippscollege.edu/\"          # another possible site...\n",
    "# url = \"https://www.pitzer.edu/\"                  # another possible site...\n",
    "# url = \"https://www.cmc.edu/\"                     # and another!\n",
    "# url = \"https://www.cgu.edu/\"\n",
    "result = requests.get(url)        \n",
    "print(f\"result is {result}\")        # hopefully it's 200"
   ]
  },
  {
   "cell_type": "code",
   "execution_count": 58,
   "metadata": {},
   "outputs": [
    {
     "name": "stdout",
     "output_type": "stream",
     "text": [
      "len(text) is 744\n",
      "\n",
      "The first 242 characters are\n",
      "\n",
      "<html>\n",
      "  <head>\n",
      "    <title>My streamlined website</title>\n",
      "  </head>\n",
      "  <body>\n",
      "    <h1> Welcome! </h1>\n",
      "    <h2> The best numbers </h2>\n",
      "\n",
      "    <div id=\"numberlist\">\n",
      "      <ol>\n",
      "\t<li class=\"number\"> 35 </li>\n",
      "\t<li class=\"number\"> 42 </li>\n",
      "\t<li class=\n"
     ]
    }
   ],
   "source": [
    "# if the request was successful, the Response will be [200]. \n",
    "# Then, we can grab the text - or json - from the site:\n",
    "\n",
    "text = result.text                  # provides the HTML page as a large string...\n",
    "print(f\"len(text) is {len(text)}\")  # let's see how large the HTML page is... \n",
    "\n",
    "print(\"\\nThe first 242 characters are\\n\")\n",
    "print(text[:242])                  # we'll print the first few characters...  \n",
    "\n",
    "# change this to text[:] to see the whole document...\n",
    "# Notice that we can run many different analyses without having to re-call/re-scrape the page (this is good!)"
   ]
  },
  {
   "cell_type": "markdown",
   "metadata": {},
   "source": [
    "#### Declined requests!\n",
    "\n",
    "Caution: <i>See this week's reading!</i>"
   ]
  },
  {
   "cell_type": "markdown",
   "metadata": {},
   "source": [
    "#### For now let's focus on API calls providing JSON \n",
    "+ We're reading-aligned, as we should be!\n",
    "+ The open-ended problem (the finale in this notebook) offers the _option_ of scraping raw html -- up to you...\n",
    "\n",
    "<br>\n",
    "\n",
    "<b>Let's try another ISS \"endpoint\" ~ one with all of the <i>people</i> in space.</b>\n",
    "\n",
    "It's at this url:  [http://api.open-notify.org/astros.json](http://api.open-notify.org/astros.json)\n"
   ]
  },
  {
   "cell_type": "code",
   "execution_count": 59,
   "metadata": {},
   "outputs": [
    {
     "data": {
      "text/plain": [
       "<Response [200]>"
      ]
     },
     "execution_count": 59,
     "metadata": {},
     "output_type": "execute_result"
    }
   ],
   "source": [
    "#\n",
    "# we assign the url and use requests.get to obtain the result into result_astro\n",
    "#\n",
    "#    Remember, result_astro will be an object that contains many fields (not a simple string)\n",
    "# \n",
    "\n",
    "import requests\n",
    "\n",
    "url = \"http://api.open-notify.org/astros.json\"   # this is sometimes called an \"endpoint\" ...\n",
    "result_astro = requests.get(url)\n",
    "result_astro\n",
    "\n",
    "# if it succeeded, you should see <Response [200]>"
   ]
  },
  {
   "cell_type": "code",
   "execution_count": 60,
   "metadata": {},
   "outputs": [
    {
     "name": "stdout",
     "output_type": "stream",
     "text": [
      "{'people': [{'craft': 'ISS', 'name': 'Oleg Kononenko'}, {'craft': 'ISS', 'name': 'Nikolai Chub'}, {'craft': 'ISS', 'name': 'Tracy Caldwell Dyson'}, {'craft': 'ISS', 'name': 'Matthew Dominick'}, {'craft': 'ISS', 'name': 'Michael Barratt'}, {'craft': 'ISS', 'name': 'Jeanette Epps'}, {'craft': 'ISS', 'name': 'Alexander Grebenkin'}, {'craft': 'ISS', 'name': 'Butch Wilmore'}, {'craft': 'ISS', 'name': 'Sunita Williams'}, {'craft': 'Tiangong', 'name': 'Li Guangsu'}, {'craft': 'Tiangong', 'name': 'Li Cong'}, {'craft': 'Tiangong', 'name': 'Ye Guangfu'}], 'number': 12, 'message': 'success'}\n"
     ]
    },
    {
     "data": {
      "text/plain": [
       "''"
      ]
     },
     "execution_count": 60,
     "metadata": {},
     "output_type": "execute_result"
    }
   ],
   "source": [
    "# If the request succeeded, we know the result is a JSON file, and we can obtain it that way.\n",
    "# Let's call our dictionary something more specific:\n",
    "\n",
    "astronauts = result_astro.json()\n",
    "print(astronauts)\n",
    "d = astronauts     # d is shorter to type\n",
    "\n",
    "# Remember:  d and astronauts will be a _dictionary_\n",
    "\n",
    "note = \"\"\" here's yesterday's result - it _should_ be the same today!\n",
    "\n",
    "{\"people\": [{\"craft\": \"ISS\", \"name\": \"Oleg Kononenko\"}, {\"craft\": \"ISS\", \"name\": \"Nikolai Chub\"},\n",
    "{\"craft\": \"ISS\", \"name\": \"Tracy Caldwell Dyson\"}, {\"craft\": \"ISS\", \"name\": \"Matthew Dominick\"},\n",
    "{\"craft\": \"ISS\", \"name\": \"Michael Barratt\"}, {\"craft\": \"ISS\", \"name\": \"Jeanette Epps\"},\n",
    "{\"craft\": \"ISS\", \"name\": \"Alexander Grebenkin\"}, {\"craft\": \"ISS\", \"name\": \"Butch Wilmore\"},\n",
    "{\"craft\": \"ISS\", \"name\": \"Sunita Williams\"}, {\"craft\": \"Tiangong\", \"name\": \"Li Guangsu\"},\n",
    "{\"craft\": \"Tiangong\", \"name\": \"Li Cong\"}, {\"craft\": \"Tiangong\", \"name\": \"Ye Guangfu\"}], \"number\": 12, \"message\": \"success\"}\n",
    "\"\"\"\n",
    "\"\""
   ]
  },
  {
   "cell_type": "markdown",
   "metadata": {},
   "source": [
    "This is pretty intricate. Let's try unpacking this - _parsing it_ - with an in-class break-out challenge."
   ]
  },
  {
   "cell_type": "code",
   "execution_count": 61,
   "metadata": {},
   "outputs": [
    {
     "name": "stdout",
     "output_type": "stream",
     "text": [
      "Michael Barratt\n"
     ]
    },
    {
     "data": {
      "text/plain": [
       "'hi'"
      ]
     },
     "execution_count": 61,
     "metadata": {},
     "output_type": "execute_result"
    }
   ],
   "source": [
    "#\n",
    "# Cell to try out parsing d  (astronauts)\n",
    "#\n",
    "\n",
    "print(d['people'][4]['name'])\n",
    "d['people'][4]['name'][3:0:-2]\n"
   ]
  },
  {
   "cell_type": "markdown",
   "metadata": {},
   "source": [
    "Let's compare with a whole other webservice: **earthquakes** \n",
    "\n",
    "<br>\n",
    "<hr>\n",
    "<br>\n",
    "\n",
    "#### Earthquake data\n",
    "\n",
    "[Here is the USGS Earthquate data API documentation](https://earthquake.usgs.gov/fdsnws/event/1/)\n",
    "\n",
    "Notice that the \"headline\" is the URL: &nbsp; This is the <i>domain</i> from which we'll access data.\n",
    "+ Underneath, there are several different <i>endpoints</i> \n",
    "+ We are going to focus on the <tt>count</tt> endpoint and the <tt>query</tt> endpoint\n",
    "+ along with their parameters\n",
    "  + the whole list of parameters is linked and available by scrolling down\n",
    "  + that said, it's easy to miss (well, at least I did! :)"
   ]
  },
  {
   "cell_type": "markdown",
   "metadata": {},
   "source": [
    "First, let's establish that, for these endpoints, we can make requests - by hand - in our browser!\n",
    "\n",
    "Try this link: <br><br>  [https://earthquake.usgs.gov/fdsnws/event/1/count?format=geojson&minmagnitude=5.0&starttime=2024-01-01&endtime=2024-02-01](https://earthquake.usgs.gov/fdsnws/event/1/count?format=geojson&minmagnitude=5.0&starttime=2024-01-01&endtime=2024-02-01)"
   ]
  },
  {
   "cell_type": "markdown",
   "metadata": {},
   "source": [
    "Ok! Let's parse this url. Requests in which there are parameters <i><b>in the url</b></i> are called GET requests:\n",
    "+ the <b>endpoint</b> is the first part: ``https://earthquake.usgs.gov/fdsnws/event/1/count``\n",
    "   + Notice that the forward-slashes are very much like our file-system trees from last week!\n",
    "   + In fact, they usually <i>are</i> file-system trees. They're just on the <i>server</i> side, instead of our \"client\" side...\n",
    "+ the <b>parameters</b> follow the question mark: ``format=geojson&minmagnitude=5.0&starttime=2024-01-01&endtime=2024-02-01``\n",
    "   + There are four parameters here. Parameters are separated by the ampersand <tt>&amp;</tt> character.\n",
    "   + Each one is in the format <tt>name=value</tt>  Here are the four:\n",
    "   + ``format=geojson`` specifies the desired format of the returned data. ``geojson`` is JSON with geographic data.\n",
    "   + ``minmagnitude=5.0`` specifies the minimum magnitude of earthquakes to consider. 5.0 is strong, if not always catastrophic.\n",
    "   + ``starttime=2024-01-01`` specifies the earlier time-endpoint to consider. (Jan 1, 2024)\n",
    "   + ``endtime=2024-02-01`` specifies the later time-endpoint to consider. (Feb 1, 2024)\n",
    "\n",
    "My result was this:  ``{\"count\":134,\"maxAllowed\":20000}``\n",
    "+ Earthquakes are always happening -- and they do get reclassified. So, the numbers can change - even in the past.\n",
    "\n",
    "Try it, in your browser.\n",
    "\n",
    "Also, try increasing the ``minmagnitude`` -- you'll see a progression of fewer and fewer quakes. (Fortunately!) \n",
    "\n",
    "<hr>"
   ]
  },
  {
   "cell_type": "markdown",
   "metadata": {},
   "source": [
    "Then, try it using a short Python script:"
   ]
  },
  {
   "cell_type": "code",
   "execution_count": 62,
   "metadata": {},
   "outputs": [
    {
     "name": "stdout",
     "output_type": "stream",
     "text": [
      "result is <Response [200]>\n",
      "the full url used was\n",
      " https://earthquake.usgs.gov/fdsnws/event/1/count?format=geojson&minmagnitude=5.0&starttime=2024-01-01&endtime=2024-02-01\n"
     ]
    }
   ],
   "source": [
    "#\n",
    "# Let's try the  count  endpoint, with geojson format (json with geographical data)\n",
    "#\n",
    "\n",
    "url = \"https://earthquake.usgs.gov/fdsnws/event/1/count?format=geojson&minmagnitude=5.0&starttime=2024-01-01&endtime=2024-02-01\"\n",
    "\n",
    "result = requests.get(url)                       # a named input, params, taking the value param_d, above\n",
    "print(f\"result is {result}\")                     # hopefully, this is 200\n",
    "print(f\"the full url used was\\n {result.url}\")   # it's nice to be able to see this"
   ]
  },
  {
   "cell_type": "code",
   "execution_count": 63,
   "metadata": {},
   "outputs": [
    {
     "name": "stdout",
     "output_type": "stream",
     "text": [
      "d ={'count': 133, 'maxAllowed': 20000}\n"
     ]
    }
   ],
   "source": [
    "# If it worked, we should be able to obtain the JSON. Remember, it's a dictionary. Let's use d:\n",
    "\n",
    "d = result.json()\n",
    "\n",
    "print(f\"{d =}\")"
   ]
  },
  {
   "cell_type": "markdown",
   "metadata": {},
   "source": [
    "#### Handling parameters separately...\n",
    "\n",
    "It's awkward to include all the parameters as part of the url.\n",
    "\n",
    "It's much more common to create a <i>dictionary</i> of the parameters, and then pass that to ``requests.get``\n",
    "\n",
    "Here is an example:"
   ]
  },
  {
   "cell_type": "code",
   "execution_count": 64,
   "metadata": {},
   "outputs": [
    {
     "name": "stdout",
     "output_type": "stream",
     "text": [
      "result is <Response [200]>\n",
      "the full url used was\n",
      " https://earthquake.usgs.gov/fdsnws/event/1/count?format=geojson&starttime=2025-01-01&endtime=2025-02-01&minmagnitude=4.2\n"
     ]
    }
   ],
   "source": [
    "#\n",
    "# Here is the endpoint\n",
    "#\n",
    "url = \"https://earthquake.usgs.gov/fdsnws/event/1/count\"\n",
    "\n",
    "# Let's use variables for three of the parameters:\n",
    "min_mag = 4.2               # the minimum magnitude considered a quake (min_mag)\n",
    "start_time = \"2025-01-01\"   # this is the year-month-day format of the start\n",
    "finish_time = \"2025-02-01\"  # similar for the end\n",
    "\n",
    "# we assemble a dictionary of our parameters, let's name it param_dictionary\n",
    "# there are many more parameters available. The problems below ask you to explore them...\n",
    "param_dictionary = { \"format\":\"geojson\",         # this is simply hard-coded to obtain json\n",
    "                     \"starttime\":start_time,\n",
    "                     \"endtime\":finish_time,\n",
    "                     \"minmagnitude\":min_mag,\n",
    "                     }\n",
    "\n",
    "# Here, we use requests to make the request. The parameters will be added by this API call:\n",
    "result = requests.get(url, params=param_dictionary)\n",
    "print(f\"result is {result}\")                     # hopefully, this is 200\n",
    "print(f\"the full url used was\\n {result.url}\")   # this will include the parameters!"
   ]
  },
  {
   "cell_type": "code",
   "execution_count": 65,
   "metadata": {},
   "outputs": [
    {
     "name": "stdout",
     "output_type": "stream",
     "text": [
      "JSON returned was d = {'count': 1121, 'maxAllowed': 20000}\n"
     ]
    }
   ],
   "source": [
    "# If it worked, we should be able to see the json results:\n",
    "\n",
    "d = result.json()\n",
    "print(f\"JSON returned was {d = }\")"
   ]
  },
  {
   "cell_type": "markdown",
   "metadata": {},
   "source": [
    "From here, it would be possible to write one or more loops and build an earthquake dataset. For example,\n",
    "+ it would be possible to loop over the ``minmagnitude`` to get a distribution of different sized quakes (or a histogram)\n",
    "+ it would be possible to loop over one of the <i>time-endpoints</i>\n",
    "+ it would be possible to loop over one of the _other parameters_ e.g.,\n",
    "  + you can specify a circle around a specific ``latitude`` and ``longitude`` with a ``maxradiuskm`` (the radius)\n",
    "  + Claremont is at ``latitude=34.0967`` and ``longitude=-117.7198`` \n",
    "\n",
    "The next two cells have an example of a Claremont-centric quake-count question and answer:"
   ]
  },
  {
   "cell_type": "code",
   "execution_count": 66,
   "metadata": {},
   "outputs": [
    {
     "name": "stdout",
     "output_type": "stream",
     "text": [
      "result is <Response [200]>\n",
      "the full url used was\n",
      " https://earthquake.usgs.gov/fdsnws/event/1/count?format=geojson&starttime=2025-01-01&endtime=2025-02-01&minmagnitude=4.2&latitude=34.0967&longitude=-117.7198&maxradiuskm=300\n"
     ]
    }
   ],
   "source": [
    "#\n",
    "# How many quakes of magnitude >= 4.2 have been within 300km of Claremont \n",
    "#     + in Jan 2025\n",
    "#     + in Dec 2025\n",
    "#\n",
    "url = \"https://earthquake.usgs.gov/fdsnws/event/1/count\"\n",
    "\n",
    "# Let's use variables for three of the parameters:\n",
    "min_mag = 4.2               # the minimum magnitude considered a quake (min_mag)\n",
    "start_time = \"2025-01-01\"   # this is the year-month-day format of the start\n",
    "finish_time = \"2025-02-01\"  # similar for the end\n",
    "# start_time = \"2024-01-01\"   # similar, but for a year-CS35_Participant_2 span...\n",
    "# finish_time = \"2025-01-01\"  # similar for the end\n",
    "radius_in_km = 300\n",
    "\n",
    "# we assemble a dictionary of our parameters, let's name it param_dictionary\n",
    "# there are many more parameters available. The problems below ask you to explore them...\n",
    "param_dictionary = { \"format\":\"geojson\",         # this is simply hard-coded to obtain json\n",
    "                     \"starttime\":start_time,\n",
    "                     \"endtime\":finish_time,\n",
    "                     \"minmagnitude\":min_mag,\n",
    "                     \"latitude\":34.0967,\n",
    "                     \"longitude\":-117.7198,\n",
    "                     \"maxradiuskm\":radius_in_km,\n",
    "                     }\n",
    "\n",
    "# Here, we use requests to make the request. The parameters will be added by this API call:\n",
    "result = requests.get(url, params=param_dictionary)\n",
    "print(f\"result is {result}\")                     # hopefully, this is 200\n",
    "print(f\"the full url used was\\n {result.url}\")   # this will include the parameters!\n",
    "\n",
    "# We'll extract the final result in another cell:"
   ]
  },
  {
   "cell_type": "code",
   "execution_count": 67,
   "metadata": {},
   "outputs": [
    {
     "name": "stdout",
     "output_type": "stream",
     "text": [
      "quake_count = {'count': 1, 'maxAllowed': 20000}\n"
     ]
    }
   ],
   "source": [
    "# Let's finish up here:\n",
    "quake_count = result.json()\n",
    "print(f\"{quake_count = }\")"
   ]
  },
  {
   "cell_type": "markdown",
   "metadata": {},
   "source": [
    "<font color=\"Coral\"><b>Try this, task \"0b\"</b></font>  &nbsp;&nbsp; \n",
    "+ Would you expect more or fewer quakes if a minimum magnitude of 2.2 were used?\n",
    "+ Try the above cells again for a minimum magnitude of 2.2 -- if that the difference you'd expect?"
   ]
  },
  {
   "cell_type": "markdown",
   "metadata": {},
   "source": [
    "<font color=\"DodgerBlue\"><b>Quake-counting Results:</b></font> \n",
    "\n",
    "#### Number of Claremont-centric quakes\n",
    "  + <u>Overall</u> The API calls to the USGS showed that, within 300km of Claremont, there were\n",
    "    + 1 quake of magnitude 4.2 or larger within 300km of Claremont in Jan '25\n",
    "    + more quakes  of magitude 2.2 or larger within 300km of Claremont in Jan '25 <br><br>\n",
    "  + <u>Reflection</u>: _This is not enough data to establish a trend. (I hope!)_ That said, for the hw, you should include a **loop** over at least 10 values, as well as a text-formatted set of values. (It's ok for the output values to be in the computational cell(s), not the markdown cell. The markdown is really for reflection on results than reporting of results.) <br><br>\n",
    "  + <u>Opportunities</u>: In fact, there are lots of values over which the USGS API allows to vary. For example,  minmagnitude (or maxmagnitude), radius, location (lat/CS35_Participant_2), months (or other time-measurements) - and others. In addition, there is the chance to look at the details of each quake using the ``query`` endpoint. <br><br>"
   ]
  },
  {
   "cell_type": "markdown",
   "metadata": {},
   "source": [
    "Looping over API calls to gather data will be one of the hw problems.\n",
    "\n",
    "<hr>\n",
    "\n",
    "#### The ``query`` endpoint\n",
    "\n",
    "Let's see, too, that it's possible to obtain, not only a <i>count</i>, but also a <b>\"full report\"</b> of all of the earthquakes.\n",
    "\n",
    "To do so, the only change needed is from the endpoint ``count`` to the endpoint ``query``\n",
    "\n",
    "First, try it \"by hand\" -- by opening this url in your browser:\n",
    "\n",
    "[https://earthquake.usgs.gov/fdsnws/event/1/query?format=geojson&minmagnitude=6.8&starttime=2024-01-01&endtime=2024-02-01](https://earthquake.usgs.gov/fdsnws/event/1/query?format=geojson&minmagnitude=6.8&starttime=2024-01-01&endtime=2024-02-01)\n",
    "\n",
    "Take a look -- there is a lot more data!  \n",
    "\n",
    "Next, let's try it programmatically:"
   ]
  },
  {
   "cell_type": "code",
   "execution_count": 102,
   "metadata": {},
   "outputs": [
    {
     "name": "stdout",
     "output_type": "stream",
     "text": [
      "result is <Response [200]>\n",
      "the full url used was\n",
      " https://earthquake.usgs.gov/fdsnws/event/1/query?format=geojson&starttime=2024-01-01&endtime=2024-12-31&minmagnitude=7.5\n"
     ]
    }
   ],
   "source": [
    "#\n",
    "# Here is the endpoint\n",
    "#\n",
    "url = \"https://earthquake.usgs.gov/fdsnws/event/1/query\"\n",
    "\n",
    "# Let's use variables for three of the parameters:\n",
    "min_mag = 7.5           # the minimum magnitude considered a quake (min_mag)\n",
    "start_time = \"2024-01-01\"   # this is the year-month-day format of the start\n",
    "finish_time = \"2024-12-31\"  # similar for the end\n",
    "\n",
    "# we assemble a dictionary of our parameters, let's name it param_dictionary\n",
    "# there are many more parameters available. The problems below ask you to explore them...\n",
    "param_dictionary = { \"format\":\"geojson\",         # this is simply hard-coded to obtain json\n",
    "                     \"starttime\":start_time,\n",
    "                     \"endtime\":finish_time,\n",
    "                     \"minmagnitude\":min_mag,\n",
    "                     }\n",
    "\n",
    "# Here, we use requests to make the request. The parameters will be added by this API call:\n",
    "result = requests.get(url, params=param_dictionary)\n",
    "print(f\"result is {result}\")                     # hopefully, this is 200\n",
    "print(f\"the full url used was\\n {result.url}\")   # this will include the parameters!"
   ]
  },
  {
   "cell_type": "code",
   "execution_count": 103,
   "metadata": {},
   "outputs": [
    {
     "name": "stdout",
     "output_type": "stream",
     "text": [
      "JSON returned was d = {'type': 'FeatureCollection', 'metadata': {'generated': 1739387808000, 'url': 'https://earthquake.usgs.gov/fdsnws/event/1/query?format=geojson&starttime=2024-01-01&endtime=2024-12-31&minmagnitude=7.5', 'title': 'USGS Earthquakes', 'status': 200, 'api': '1.14.1', 'count': 1}, 'features': [{'type': 'Feature', 'properties': {'mag': 7.5, 'place': '2024 Noto Peninsula, Japan Earthquake', 'time': 1704093009476, 'updated': 1732717030012, 'tz': None, 'url': 'https://earthquake.usgs.gov/earthquakes/eventpage/us6000m0xl', 'detail': 'https://earthquake.usgs.gov/fdsnws/event/1/query?eventid=us6000m0xl&format=geojson', 'felt': 354, 'cdi': 8.9, 'mmi': 8.793, 'alert': 'red', 'status': 'reviewed', 'tsunami': 1, 'sig': 2315, 'net': 'us', 'code': '6000m0xl', 'ids': ',pt24001001,at00s6kml3,us6000m0xl,', 'sources': ',pt,at,us,', 'types': ',dyfi,earthquake-name,finite-fault,general-text,ground-failure,impact-link,impact-text,internal-origin,losspager,moment-tensor,origin,phase-data,shakemap,', 'nst': 282, 'dmin': 0.957, 'rms': 0.55, 'gap': 36, 'magType': 'mww', 'type': 'earthquake', 'title': 'M 7.5 - 2024 Noto Peninsula, Japan Earthquake'}, 'geometry': {'type': 'Point', 'coordinates': [137.271, 37.4874, 10]}, 'id': 'us6000m0xl'}]}\n"
     ]
    }
   ],
   "source": [
    "# If it worked, we should be able to see the json results:\n",
    "\n",
    "d = result.json()\n",
    "print(f\"JSON returned was {d = }\")"
   ]
  },
  {
   "cell_type": "code",
   "execution_count": 104,
   "metadata": {},
   "outputs": [
    {
     "name": "stdout",
     "output_type": "stream",
     "text": [
      "{\"type\": \"FeatureCollection\", \"metadata\": {\"generated\": 1739387808000, \"url\": \"https://earthquake.usgs.gov/fdsnws/event/1/query?format=geojson&starttime=2024-01-01&endtime=2024-12-31&minmagnitude=7.5\", \"title\": \"USGS Earthquakes\", \"status\": 200, \"api\": \"1.14.1\", \"count\": 1}, \"features\": [{\"type\": \"Feature\", \"properties\": {\"mag\": 7.5, \"place\": \"2024 Noto Peninsula, Japan Earthquake\", \"time\": 1704093009476, \"updated\": 1732717030012, \"tz\": null, \"url\": \"https://earthquake.usgs.gov/earthquakes/eventpage/us6000m0xl\", \"detail\": \"https://earthquake.usgs.gov/fdsnws/event/1/query?eventid=us6000m0xl&format=geojson\", \"felt\": 354, \"cdi\": 8.9, \"mmi\": 8.793, \"alert\": \"red\", \"status\": \"reviewed\", \"tsunami\": 1, \"sig\": 2315, \"net\": \"us\", \"code\": \"6000m0xl\", \"ids\": \",pt24001001,at00s6kml3,us6000m0xl,\", \"sources\": \",pt,at,us,\", \"types\": \",dyfi,earthquake-name,finite-fault,general-text,ground-failure,impact-link,impact-text,internal-origin,losspager,moment-tensor,origin,phase-data,shakemap,\", \"nst\": 282, \"dmin\": 0.957, \"rms\": 0.55, \"gap\": 36, \"magType\": \"mww\", \"type\": \"earthquake\", \"title\": \"M 7.5 - 2024 Noto Peninsula, Japan Earthquake\"}, \"geometry\": {\"type\": \"Point\", \"coordinates\": [137.271, 37.4874, 10]}, \"id\": \"us6000m0xl\"}]}\n"
     ]
    }
   ],
   "source": [
    "#\n",
    "# That's hard to read!\n",
    "# Let's pretty-print it with the json library\n",
    "#       Also, this version can be pasted into online formatters, e.g., https://jsonformatter.org/\n",
    "\n",
    "import json \n",
    "nice_string = json.dumps(d)   # this outputs a \"nicely formatted string\" using double quotes\n",
    "print(nice_string)\n",
    "\n"
   ]
  },
  {
   "cell_type": "markdown",
   "metadata": {},
   "source": [
    "but, we can do better! \n",
    "\n",
    "the \"dump string\" function, json.dumps, can output the formatted version, too...\n"
   ]
  },
  {
   "cell_type": "code",
   "execution_count": 105,
   "metadata": {},
   "outputs": [
    {
     "name": "stdout",
     "output_type": "stream",
     "text": [
      "{\n",
      "    \"type\": \"FeatureCollection\",\n",
      "    \"metadata\": {\n",
      "        \"generated\": 1739387808000,\n",
      "        \"url\": \"https://earthquake.usgs.gov/fdsnws/event/1/query?format=geojson&starttime=2024-01-01&endtime=2024-12-31&minmagnitude=7.5\",\n",
      "        \"title\": \"USGS Earthquakes\",\n",
      "        \"status\": 200,\n",
      "        \"api\": \"1.14.1\",\n",
      "        \"count\": 1\n",
      "    },\n",
      "    \"features\": [\n",
      "        {\n",
      "            \"type\": \"Feature\",\n",
      "            \"properties\": {\n",
      "                \"mag\": 7.5,\n",
      "                \"place\": \"2024 Noto Peninsula, Japan Earthquake\",\n",
      "                \"time\": 1704093009476,\n",
      "                \"updated\": 1732717030012,\n",
      "                \"tz\": null,\n",
      "                \"url\": \"https://earthquake.usgs.gov/earthquakes/eventpage/us6000m0xl\",\n",
      "                \"detail\": \"https://earthquake.usgs.gov/fdsnws/event/1/query?eventid=us6000m0xl&format=geojson\",\n",
      "                \"felt\": 354,\n",
      "                \"cdi\": 8.9,\n",
      "                \"mmi\": 8.793,\n",
      "                \"alert\": \"red\",\n",
      "                \"status\": \"reviewed\",\n",
      "                \"tsunami\": 1,\n",
      "                \"sig\": 2315,\n",
      "                \"net\": \"us\",\n",
      "                \"code\": \"6000m0xl\",\n",
      "                \"ids\": \",pt24001001,at00s6kml3,us6000m0xl,\",\n",
      "                \"sources\": \",pt,at,us,\",\n",
      "                \"types\": \",dyfi,earthquake-name,finite-fault,general-text,ground-failure,impact-link,impact-text,internal-origin,losspager,moment-tensor,origin,phase-data,shakemap,\",\n",
      "                \"nst\": 282,\n",
      "                \"dmin\": 0.957,\n",
      "                \"rms\": 0.55,\n",
      "                \"gap\": 36,\n",
      "                \"magType\": \"mww\",\n",
      "                \"type\": \"earthquake\",\n",
      "                \"title\": \"M 7.5 - 2024 Noto Peninsula, Japan Earthquake\"\n",
      "            },\n",
      "            \"geometry\": {\n",
      "                \"type\": \"Point\",\n",
      "                \"coordinates\": [\n",
      "                    137.271,\n",
      "                    37.4874,\n",
      "                    10\n",
      "                ]\n",
      "            },\n",
      "            \"id\": \"us6000m0xl\"\n",
      "        }\n",
      "    ]\n",
      "}\n"
     ]
    }
   ],
   "source": [
    "import json \n",
    "nicer_string = json.dumps(d, indent=4)   # We can specify the indentation. \n",
    "print(nicer_string)                      # It's another tree structure... !"
   ]
  },
  {
   "cell_type": "markdown",
   "metadata": {},
   "source": [
    "<font color=\"Coral\"><b>Try this, also for Task 0b</b></font>  &nbsp;&nbsp; \n",
    "+ Look through the response to find where and when the largest eathquake was, in the previous year\n",
    "+ What was its magnitude?\n",
    "+ (optional) Do you see a way that - just by making small changes and re-running - you could find the second-biggest quake of '24?  Perhaps try it...  🦔"
   ]
  },
  {
   "cell_type": "markdown",
   "metadata": {},
   "source": [
    "+  2024 Noto Peninsula, Japan Earthquake at time 1704093009476 with magnitude 7.5"
   ]
  },
  {
   "cell_type": "markdown",
   "metadata": {},
   "source": [
    "<br>\n",
    "<hr>\n",
    "<br>\n",
    "\n",
    "\n",
    "\n",
    "#### Launching into hw2's challenges:\n",
    "+ <font color=\"Coral\"><b>Tasks1-2</b></font> &nbsp;&nbsp; ISS challenges:\n",
    "  + ``ISS_now()`` which will find and return the ISS's lat/CS35_Participant_2 (as floats)\n",
    "    + use the earlier examples as a starting point...\n",
    "  + ``ISS_distance()`` which will return the distance of the ISS from a city of your choice (a constant city, not a variable). It can be Claremont, but doesn't have to be. This will require using the <i>haversine</i> distance for global lat/CS35_Participant_2 coordinates...\n",
    "+ <font color=\"Coral\"><b>Tasks3-4</b></font> &nbsp;&nbsp; Earthquake challenges:\n",
    "  + ``Quake_loop()`` which will loop over a parameter of your choice, print a formatted list of quake-count data, and return that list\n",
    "  + ``Quake_compare(place1, place2)`` which will ask - and answer - a comparative question about \"quakiness\" for two different places, using the quake data... \n",
    "    + Here, the goal is to define which of the two places is \"quakiest.\"\n",
    "    + Notice that the definition of \"quakiest\" is up to you...\n",
    "    + The inputs, place1 and place2, can be lat/CS35_Participant_2 pairs - or strings, which then get looked up...\n",
    "\n",
    "<br>\n",
    "\n",
    "#### <font color=\"Coral\"><b>Task5</b></font> &nbsp;&nbsp; Open-ended, two-hop challenge\n",
    "\n",
    "Then, you'll choose or create an open-ended API task -- or create a variant of your own design from at least two APIs - or \"scrapes\" - of your choice.\n",
    "+ The key constraint is to be sure you meaningfully use the  <font color=\"DodgerBlue\">result</font>  from the first API call in order to customize the request of the second API call.\n",
    "+ Then, with the result of that second API call, interpret the data obtained to make a final \"statement\" -- which can be anywhere amid serious, silly, surreal -- that combines the two API insights.\n",
    "+ See below for a far-fetched superbowl-themed idea...\n",
    "\n",
    "\n"
   ]
  },
  {
   "cell_type": "code",
   "execution_count": 2,
   "metadata": {},
   "outputs": [
    {
     "data": {
      "text/plain": [
       "(-137.4178, 5.8459)"
      ]
     },
     "execution_count": 2,
     "metadata": {},
     "output_type": "execute_result"
    }
   ],
   "source": [
    "#\n",
    "# hw2: ISS tasks 1 and 2 ...\n",
    "# \n",
    "# Two functions:  ISS_now(), ISS_distance()\n",
    "\n",
    "#\n",
    "# Use the ISS examples above to write a function, named \n",
    "#     \n",
    "#      ISS_now()\n",
    "#\n",
    "# that uses requests to return the current latitude and longitude -- as floating-point values -- right now.\n",
    "# Be sure to test it! \n",
    "\n",
    "import requests\n",
    "\n",
    "def ISS_now():\n",
    "    url = \"http://api.open-notify.org/iss-now.json\"   # this is sometimes called an \"endpoint\" ...\n",
    "    result = requests.get(url)\n",
    "    result    \n",
    "    json_contents = result.json()\n",
    "    long1 = float(json_contents['iss_position']['longitude'])\n",
    "    lat1 = float(json_contents['iss_position']['latitude'])\n",
    "    return long1, lat1\n",
    "\n",
    "ISS_now()"
   ]
  },
  {
   "cell_type": "markdown",
   "metadata": {},
   "source": [
    "Feel free to create some new cells around this area to write and test ``ISS_now()`` ..."
   ]
  },
  {
   "cell_type": "code",
   "execution_count": null,
   "metadata": {},
   "outputs": [
    {
     "data": {
      "text/plain": [
       "4718.761154245355"
      ]
     },
     "execution_count": 3,
     "metadata": {},
     "output_type": "execute_result"
    }
   ],
   "source": [
    "# \n",
    "# Once your ISS_now() function is working, write a new function\n",
    "#\n",
    "#       ISS_distance()\n",
    "#\n",
    "# which uses ISS_now to obtain the lat/CS35_Participant_2 of the ISS and then\n",
    "# uses the haversine distance (look up a Python implementation or use one of ours... :)\n",
    "# to compute the ISS's distance from a city of your choice.\n",
    "#\n",
    "# The haversine distance computes the \"great circle\" distance from two points on the globe\n",
    "#     using latitude and longitude  \n",
    "#\n",
    "def ISS_distance(long2, lat2):\n",
    "    from math import radians, sin, cos, sqrt, asin  # this import is for the sin, cos, radians, ...\n",
    "    \n",
    "    long1, lat1 = ISS_now()\n",
    "    # convert decimal degrees to radians\n",
    "    long1, lat1, long2, lat2 = map(radians, [long1, lat1, long2, lat2])\n",
    "\n",
    "\n",
    "    # haversine formula\n",
    "    dlong = long2 - long1\n",
    "    dlat = lat2 - lat1\n",
    "    trig = sin(dlat/2)**2 + cos(lat1) * cos(lat2) * sin(dlong/2)**2\n",
    "    # Radius of earth. Use 3956 for miles. 6371 for km.\n",
    "    radius = 3956  # we'll use miles!\n",
    "    return radius * 2 * asin(sqrt(trig))\n",
    "\n",
    "ISS_distance(34.0967, -117.7198)\n"
   ]
  },
  {
   "cell_type": "markdown",
   "metadata": {},
   "source": [
    "Feel free to create some new cells around this area to write and test ``ISS_distance()`` ..."
   ]
  },
  {
   "cell_type": "code",
   "execution_count": null,
   "metadata": {},
   "outputs": [],
   "source": [
    "#\n",
    "# Open-ended possibility:  \n",
    "#    (a) create a new function ISS_distance(place) that takes in a place name\n",
    "#    (b) find a service by which you can look up the lat + CS35_Participant_2 using the place name\n",
    "#         (b*)  I'm not sure how to do this - it's exploratory! \n",
    "#    (c) then, continue with the previous computation to find the ISS distance! :) \n",
    "#\n",
    "\n",
    "# The final problem of this hw2 is to take on _ONE_ open-ended possibility. \n",
    "#     (This ISS-themed one is only the first possibility.)\n",
    "#     Others, below, involve earthquakes, or your own choice of API exploration..."
   ]
  },
  {
   "cell_type": "markdown",
   "metadata": {},
   "source": [
    "#### USGS Challenges\n",
    "\n",
    "Tasks 3 and 4 use the earthquake API"
   ]
  },
  {
   "cell_type": "code",
   "execution_count": null,
   "metadata": {},
   "outputs": [
    {
     "name": "stdout",
     "output_type": "stream",
     "text": [
      "Month      Mag        Radius(km)   Quakes    \n",
      "==========================================\n",
      "1          1.1        110          143       \n",
      "2          1.2        120          160       \n",
      "3          1.3        130          116       \n",
      "4          1.4        140          113       \n",
      "5          1.5        150          105       \n",
      "6          1.6        160          79        \n",
      "7          1.7        170          80        \n",
      "8          1.8        180          403       \n",
      "9          1.9        190          110       \n",
      "10         2.0        200          54        \n",
      "[(1, 1.1, 110, 143), 966, (2, 1.2, 120, 160), 966, (3, 1.3, 130, 116), 966, (4, 1.4, 140, 113), 966, (5, 1.5, 150, 105), 966, (6, 1.6, 160, 79), 966, (7, 1.7, 170, 80), 966, (8, 1.8, 180, 403), 966, (9, 1.9, 190, 110), 966, (10, 2.0, 200, 54), 966]\n"
     ]
    }
   ],
   "source": [
    "#\n",
    "# hw2: USGS Tasks 3 and 4 ...\n",
    "# \n",
    "# Two functions:  Quake_loop(), Quake_compare(place1, place2)\n",
    "\n",
    "#\n",
    "# Use the USGS (earthquake) examples above to write a function, named \n",
    "#     \n",
    "#      Quake_loop()\n",
    "#\n",
    "# that uses requests within a loop of your own design in order to\n",
    "#   + obtain at least 10 distinct, comparable data elements (counts are encouraged; other items ok)\n",
    "#   + see the assignment page for an example where the looping iterates over the _month_\n",
    "#\n",
    "#   + choose your favorite parameter(s) to vary, e.g., magnitude, time, radius, location, etc.\n",
    "#   + it should collect all of those data elements into a list\n",
    "#   + and render the list in a neatly formatted chart (f-strings welcome; not required)\n",
    "#\n",
    "#   + in addition, include a overall reflection on the results, as well as a comment on additional effort\n",
    "#     that could expand your results (you need not run it), and any concerns or caveats about the data...\n",
    "#   + feel free to copy-paste-edit the markdown \"reflection-template,\" above  \n",
    "\n",
    "import requests\n",
    "import time\n",
    "\n",
    "\n",
    "#\n",
    "# Here is an example of using a for-loop with the USGS API\n",
    "#\n",
    "import requests\n",
    "import time\n",
    "\n",
    "\n",
    "def get_num_quakes(latitude, longitude, month, magnitude, radius):\n",
    "   \"\"\" returns the number of quakes in month (of '24)\n",
    "           of at least magnitude ...\n",
    "   \"\"\"\n",
    "\n",
    "\n",
    "   url = \"https://earthquake.usgs.gov/fdsnws/event/1/count\"\n",
    "\n",
    "\n",
    "   # Let's use variables for three of the parameters:\n",
    "   min_mag = magnitude         # the minimum magnitude considered a quake (min_mag)\n",
    "   start_time = f\"2024-{month:02d}-01\"   # this is the year-month-day format of the start\n",
    "   finish_time = f\"2024-{month+1:02d}-01\"  # similar for the end (f-strings! :)\n",
    "\n",
    "\n",
    "   # we assemble a dictionary of our parameters, let's name it param_dictionary\n",
    "   # there are many more parameters available. The problems below ask you to explore them...\n",
    "   param_dictionary = { \"format\": \"geojson\",\n",
    "                        \"starttime\": start_time,\n",
    "                        \"endtime\": finish_time,\n",
    "                        \"minmagnitude\": magnitude,\n",
    "                        \"latitude\": latitude,\n",
    "                        \"longitude\": longitude,\n",
    "                        \"maxradiuskm\": radius,\n",
    "                       }\n",
    "\n",
    "\n",
    "   # Here, we use requests to make the request. The parameters will be added by this API call:\n",
    "   time.sleep(2)\n",
    "   result = requests.get(url, params=param_dictionary)\n",
    "   # print(f\"result is {result}\")                     # hopefully, this is 200\n",
    "   # print(f\"the full url used: {result.url}\")   # this will include the parameters!\n",
    "   d = result.json()\n",
    "   number_of_quakes = d['count']\n",
    "   return number_of_quakes\n",
    "\n",
    "\n",
    "\n",
    "\n",
    "def Quake_loop():\n",
    "    print(f\"{'Month':<10} {'Mag':<10} {'Radius(km)':<12} {'Quakes':<10}\")\n",
    "    print(\"=\" * 42)\n",
    "    LoQ = []\n",
    "    latitude = 34.0967\n",
    "    longitude = -117.7198\n",
    "    for month in range(1,11):\n",
    "        magnitude = 1.0 + (month * 0.1)  # Vary magnitude slightly\n",
    "        radius = 100 + (month * 10)  # Increase radius over months\n",
    "        quake_count = get_num_quakes(latitude, longitude, month, magnitude, radius)\n",
    "\n",
    "        LoQ.append((month, round(magnitude, 1), radius, quake_count))\n",
    "        print(f\"{month:<10} {round(magnitude,1):<10} {radius:<12} {quake_count:<10}\")\n",
    "        LoQ += [result]\n",
    "    return LoQ\n",
    "\n",
    "print(Quake_loop())\n",
    "\n",
    "'''\n",
    "I decide to use magnitude and raidus, increasing both by a small factor. I wanted to see the corrlation between how increaing raidus versus magnitiude would affect the counting.\n",
    "I would be interested in graphing this and seeing the trends it tends to go into. I noticed it leveled out at the start then dipped, then went crazy. I wonder if \n",
    "increasing radius makes more quakes appear or magnitude. I can hypothesis its radius from the data, but I wonder how much would I need to increase magnitiude by to \n",
    "equal it out. \n",
    "'''"
   ]
  },
  {
   "cell_type": "markdown",
   "metadata": {},
   "source": [
    "Feel free to create some new cells around this area to write and test ``Quake_loop()`` ..."
   ]
  },
  {
   "cell_type": "code",
   "execution_count": 19,
   "metadata": {},
   "outputs": [
    {
     "name": "stdout",
     "output_type": "stream",
     "text": [
      "Location 1 (34.05, -118.25) is quakier!\n"
     ]
    }
   ],
   "source": [
    "# \n",
    "# Once your Quake_loop() function is working, write a new function\n",
    "#\n",
    "#       Quake_compare(place1, place2)\n",
    "#\n",
    "# where place1 should be a 2-element tuple:  (latitude1, longitude1)\n",
    "# and  place2 should be a 2-element tuple:  (latitude2, longitude2)\n",
    "#\n",
    "# and then your function should compare which of the two places is \"quakier\" (not a real word)\n",
    "# for a given time span (you choose), and a given strength-of-quakes (you choose), and\n",
    "# for a specific radius around each of the two places (you choose)\n",
    "#\n",
    "# As is clear, there is lots of freedom to design a \"comparison of quakiness\" -- wonderful!\n",
    "# Feel free to start somewhere, and tune the results.\n",
    "#\n",
    "# Your function should print the results it finds (in this case, it's not important to return\n",
    "# and specific value -- though you're encouraged (not required) to create a helper function and \n",
    "# then call it twice for the two locations! (That helper function would need a return value!)\n",
    "#\n",
    "#\n",
    "\n",
    "place1 = (34.05, -118.25)\n",
    "place2 = (0.0, 0.0)\n",
    "\n",
    "def Quake_compare(place1, place2):\n",
    "    start_time = \"2024-01-01\"\n",
    "    end_time = \"2024-12-31\"\n",
    "    magnitude = 1  \n",
    "    radius = 300\n",
    "\n",
    "    lat1, long1 = place1\n",
    "    lat2, long2 = place2\n",
    "\n",
    "    quakesUno = get_num_quakes(lat1, long1, 1, magnitude, radius)\n",
    "    quakesDos = get_num_quakes(lat2, long2, 1, magnitude, radius)\n",
    "\n",
    "    if quakesUno > quakesDos:\n",
    "        print(f\"Location 1 ({lat1}, {long1}) is quakier!\")\n",
    "    elif quakesDos > quakesUno:\n",
    "        print(f\"Location 2 ({lat2}, {long2}) is quakier!\")\n",
    "    elif quakesUno == quakesDos:\n",
    "        print(\"Both are the same amt of quakieness\")\n",
    "    else:\n",
    "        print(\"error\")\n",
    "\n",
    "Quake_compare(place1, place2)"
   ]
  },
  {
   "cell_type": "markdown",
   "metadata": {},
   "source": [
    "Feel free to create some new cells around this area to write and test ``Quake_compare(place1, place2)`` ..."
   ]
  },
  {
   "cell_type": "code",
   "execution_count": null,
   "metadata": {},
   "outputs": [],
   "source": []
  },
  {
   "cell_type": "markdown",
   "metadata": {},
   "source": [
    "#### Final API challenge:  an open-ended, two-hop API task...\n",
    "\n",
    "<font color=\"Coral\">Key constraint: _Use two hops!_</font>  &nbsp;&nbsp; Be sure to dome something that uses two separate API calls, in which the results of the first affect the second - culminating in an aggregate, overall result.\n",
    "\n",
    "Possibilities: \n",
    "  + You should use at least one other API. (See the hw2 page for links to many.)\n",
    "      + The [Poke API](https://pokeapi.co/)  or [one of these](https://medium.com/codex/15-fun-and-interesting-apis-to-use-for-your-next-coding-project-in-2022-86a4ff3a2742) or [one of the many, many more!](https://github.com/public-apis/public-apis)\n",
    "  + That said, <u><b>one</b></u> of the two can be ISS or USGS, as you used above.\n",
    "\n",
    "\n",
    "\n",
    "<font size=\"-2\">PS. My example of this is in ``superbowl_prediction.ipynb`` with the starter files. It used to be here, but it was too clutter-y... .</font>\n",
    "\n",
    "<br><hr><br>\n",
    "\n",
    "Big-picture, an important part of using API calls is gathering a _specific piece_ of data from an otherwise too-large ocean of raw material. That element then allows you to express a natural _next_ specific question, obtain its relevant data, and continue to build from there, with each round-trip branching into additional (possible) questions... .\n",
    "\n",
    "<br>\n",
    "\n",
    "Good luck API'ing!!\n",
    "\n",
    "<br>\n",
    "\n"
   ]
  },
  {
   "cell_type": "code",
   "execution_count": 20,
   "metadata": {},
   "outputs": [
    {
     "name": "stdout",
     "output_type": "stream",
     "text": [
      "pikachu is Pokédex entry #25.\n",
      "Fun fact about 25: 25 is the number of points needed to win a set in volleyball under rally scoring rules.\n"
     ]
    }
   ],
   "source": [
    "'''\n",
    "My script calls in the PokeAPI and the Numbers API. A user can type in any Pokemon they want and whatever PokeDex number the Pokemon has, \n",
    "the script will grab that PokeDex number and find it in the Numbers API. The Number API contains trivia on many number, so it will \n",
    "give a fun fact about that number. \n",
    "\n",
    "Note: the Numbers API is not full-proof, as many numbers do not have any trivia on them and will give out boring answers, but the early generations of Pokemon should give manu fun facts.\n",
    "'''\n",
    "import requests\n",
    "\n",
    "def pokeAPI(pokemonName):\n",
    "    url = f\"https://pokeapi.co/api/v2/pokemon/{pokemonName.lower()}/\"\n",
    "    response = requests.get(url)\n",
    "\n",
    "    if response.status_code == 200:\n",
    "        data = response.json()\n",
    "        num = data[\"id\"]\n",
    "        return num\n",
    "    else:\n",
    "        print(\"Pokémon not found!\")\n",
    "        return None\n",
    "\n",
    "def numbersAPI(number):\n",
    "    url = f\"http://numbersapi.com/{number}\"\n",
    "    response = requests.get(url)\n",
    "\n",
    "    if response.status_code == 200:\n",
    "        return response.text\n",
    "    else:\n",
    "        return None\n",
    "\n",
    "pokemon = input(\"Enter a Pokemon name: \")\n",
    "pokedex = pokeAPI(pokemon)\n",
    "\n",
    "if pokedex:\n",
    "\n",
    "    print(f\"{pokemon} is Pokédex entry #{pokedex}.\")\n",
    "\n",
    "    numFact = numbersAPI(pokedex)\n",
    "    if numFact:\n",
    "        print(f\"Fun fact about {pokedex}: {numFact}\")\n",
    "\n"
   ]
  }
 ],
 "metadata": {
  "kernelspec": {
   "display_name": "Python 3",
   "language": "python",
   "name": "python3"
  },
  "language_info": {
   "codemirror_mode": {
    "name": "ipython",
    "version": 3
   },
   "file_extension": ".py",
   "mimetype": "text/x-python",
   "name": "python",
   "nbconvert_exporter": "python",
   "pygments_lexer": "ipython3",
   "version": "3.12.1"
  },
  "orig_nbformat": 4
 },
 "nbformat": 4,
 "nbformat_minor": 2
}
