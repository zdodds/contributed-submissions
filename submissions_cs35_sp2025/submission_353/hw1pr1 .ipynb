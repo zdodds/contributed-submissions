{
 "cells": [
  {
   "cell_type": "markdown",
   "metadata": {},
   "source": [
    "## hw1pr1: <i>Files!</i>\n",
    "+ walking through folders and files  (500 files - or many more!)\n",
    "+ analyzing, counting, inquiring, and <i>insight-producing</i> as we go!  "
   ]
  },
  {
   "cell_type": "code",
   "execution_count": 5,
   "metadata": {},
   "outputs": [
    {
     "data": {
      "text/plain": [
       "'c:\\\\Users\\\\tonyr\\\\Downloads\\\\starting_notebooks\\\\starting_notebooks'"
      ]
     },
     "execution_count": 5,
     "metadata": {},
     "output_type": "execute_result"
    }
   ],
   "source": [
    "# Where are we?\n",
    "%pwd"
   ]
  },
  {
   "cell_type": "markdown",
   "metadata": {},
   "source": [
    "By the way, when I run the above cell on my desktop machine (Mac), the response is\n",
    "\n",
    "``'/Users/zacharydodds/Desktop/cs35/week1/starting_notebooks'``\n",
    "\n",
    "on a Windows laptop, the path uses a different separator. Mine is\n",
    "\n",
    "``'c:\\\\Users\\\\dodds\\\\OneDrive\\\\Desktop\\\\cs35\\\\week1\\\\starting_notebooks'``\n",
    "\n",
    "Your results will almost certainly differ.\n",
    "\n",
    "In fact, if they *don't* differ ... I'm _very_ interested! 🤔 🦔"
   ]
  },
  {
   "cell_type": "code",
   "execution_count": null,
   "metadata": {},
   "outputs": [],
   "source": [
    "# what's here?\n",
    "%ls"
   ]
  },
  {
   "cell_type": "code",
   "execution_count": null,
   "metadata": {},
   "outputs": [],
   "source": [
    "# to move around:  cd stands for \"change directory\" (a directory is a folder)\n",
    "#    %cd intro_first    would move into the intro_first folder\n",
    "#    %cd .. moves \"up\" to the containing directory\n",
    "#    %cd .  doesn't move at all:  .  represents the current directory    \n",
    "\n",
    "# For now, let's not move anywhere\n",
    "%cd ."
   ]
  },
  {
   "cell_type": "markdown",
   "metadata": {},
   "source": [
    "In 2024, my Mac setup succeeds with a ``UserWarning`` that tells me to install the ``pickleshare`` library.\n",
    "\n",
    "I refuse based on snack-sharing principles!\n",
    "\n",
    "One can only share freely, not under admonishment/warning!\n",
    "\n",
    "(If this happens to you - let me know and we'll fix it...)"
   ]
  },
  {
   "cell_type": "code",
   "execution_count": null,
   "metadata": {},
   "outputs": [],
   "source": [
    "# we will use a few file-handling \"system\" libraries. \n",
    "# These are built-in to python, so nothing to install - just to import:\n",
    "import os\n",
    "import os.path"
   ]
  },
  {
   "cell_type": "markdown",
   "metadata": {},
   "source": [
    "On first glance, it seems we can't open the file ``nottrue.ipynb`` ...\n",
    "\n",
    "It's in the folder ``intro_first`` -- see if you can open it ..."
   ]
  },
  {
   "cell_type": "code",
   "execution_count": null,
   "metadata": {},
   "outputs": [],
   "source": [
    "#\n",
    "# In fact, we can read it - it's just not a .ipynb file!\n",
    "#\n",
    "# Try it here, for your system:\n",
    "\n",
    "print(\"+++ Contents of the file nottrue.ipynb: +++\\n\")\n",
    "\n",
    "# Mac:    !cat  <filepath>  using forward slashes\n",
    "#\n",
    "# !cat ./intro_first/nottrue.ipynb       \n",
    "\n",
    "# Windows:  type <filepath>  using backslashes\n",
    "#\n",
    "# !type .\\\\intro_first\\\\nottrue.ipynb       "
   ]
  },
  {
   "cell_type": "markdown",
   "metadata": {},
   "source": [
    "We *could* use the command-line ``cat`` or ``type`` one file at a time ...\n",
    "\n",
    "But, what if we have to walk _500 files_ ?!  <font size=\"-2\">(Alas, this joke stays around for at least this whole week!)</font>\n",
    "\n",
    "  + Then, we need a function - and script - to access its contents. \n",
    "  + We started this last week, let's revisit it again here:"
   ]
  },
  {
   "cell_type": "code",
   "execution_count": null,
   "metadata": {},
   "outputs": [],
   "source": [
    "#\n",
    "# function to return the contents of a file (as one-big-string)\n",
    "#\n",
    "\n",
    "def GET_STRING_FROM_FILE(filename_as_string):\n",
    "    \"\"\" return all of the contents from the file, filename\n",
    "        will error if the file is not present, then return the empty string ''\n",
    "    \"\"\"\n",
    "    try:\n",
    "        # the encoding below is a common default, but not universal...\n",
    "        file_object = open(filename_as_string, \"r\", encoding='utf-8')    # open! (Other encodings: 'latin-1', 'utf-16', 'utf-32') \n",
    "        file_data = file_object.read()                                   # and get all its contents\n",
    "        file_object.close()                                              # close the file (optional)\n",
    "        #print(DATA)                                                     # if we want to see it\n",
    "        return file_data                                                 # definitely want to return it!\n",
    "    except FileNotFoundError:                             # it wasn't there\n",
    "        print(f\"file not found: {filename_as_string}\")    # print error\n",
    "        return ''                                         # return empty string ''\n",
    "    except UnicodeDecodeError:\n",
    "        print(f\"decoding error: {filename_as_string}\")    # encoding/decoding error  \n",
    "        return ''                                         # return empty string ''\n",
    "\n",
    "\n",
    "full_file_path = \"./intro_first/nottrue.ipynb\"\n",
    "file_contents = GET_STRING_FROM_FILE(full_file_path)      # reminder: file_contents = file_data from above\n",
    "\n",
    "# Let's print only some of this potentially large string, adapting as needed:\n",
    "print(\"file_contents:\\n\\n\", file_contents[0:42])          # let's then increase the 42..."
   ]
  },
  {
   "cell_type": "markdown",
   "metadata": {},
   "source": [
    "Notice that, in Python, the Mac/forwardslash/style paths work, _even on Windows_"
   ]
  },
  {
   "cell_type": "code",
   "execution_count": null,
   "metadata": {},
   "outputs": [],
   "source": [
    "####  Let's try one of the other files!  (or a non-existent file!)\n",
    "\n",
    "full_file_path = \"./intro_first/cs/file35.txt\"    # how about the others?!\n",
    "file_contents = GET_STRING_FROM_FILE(full_file_path)     \n",
    "print(\"file_contents:\\n\\n\", file_contents[0:42])"
   ]
  },
  {
   "cell_type": "markdown",
   "metadata": {},
   "source": [
    "#### But, we have 500 files...\n",
    "\n",
    "Let's write <font color=\"DodgerBlue\">_steppingstone_ functions</font> to make sense of our 500 files...\n",
    "\n",
    "Let's start by reminding ourselves we can write a function that returns.\n",
    "\n",
    "We'll call this Version 0:"
   ]
  },
  {
   "cell_type": "code",
   "execution_count": null,
   "metadata": {},
   "outputs": [],
   "source": [
    "#\n",
    "# Steppingstone, Version 0: does Python work?\n",
    "#\n",
    "\n",
    "import os\n",
    "import os.path\n",
    "\n",
    "def file_walker(path):\n",
    "    \"\"\" starting from the input, named path\n",
    "        \n",
    "        this function \"walks\" the whole path, including subfolders\n",
    "        and then... explores any questions we might want :)\n",
    "\n",
    "        call, for example, with    file_walker(\"./intro_first\") \n",
    "    \"\"\"\n",
    "    return 42  # just to check that it's working (v0)    \n",
    "\n",
    "#\n",
    "# when discovering, keep your data close (and your functions closer!)\n",
    "#\n",
    "if True:\n",
    "    \"\"\" overall script that runs examples \"\"\"\n",
    "    print(f\"[[ Start! ]]\\n\")     # sign on\n",
    "\n",
    "    path = \"./intro_first\"       # Remember: . means the current directory\n",
    "    result = file_walker(path)   # Run!\n",
    "\n",
    "    print(f\"result = {result}\")  # Yay for f-strings!\n",
    "\n",
    "    print(\"\\n[[ Fin. ]]\")        # sign off\n"
   ]
  },
  {
   "cell_type": "markdown",
   "metadata": {},
   "source": [
    "<hr>"
   ]
  },
  {
   "cell_type": "markdown",
   "metadata": {},
   "source": [
    "#### Introducing ``os.walk``\n",
    "\n",
    "The function ``os.walk(path)`` will walk _any number_ of files...\n",
    "\n",
    "Before we write a function, let's try  ``os.walk`` immediately:"
   ]
  },
  {
   "cell_type": "code",
   "execution_count": null,
   "metadata": {},
   "outputs": [],
   "source": [
    "# os.walk returns the structure of a folder (directory)\n",
    "\n",
    "# Here, we \"walk\" the intro_examples subfolder:\n",
    "all_files = os.walk(\"./intro_first\")\n",
    "\n",
    "all_files     # oops! it's a \"generator object\""
   ]
  },
  {
   "cell_type": "code",
   "execution_count": null,
   "metadata": {},
   "outputs": [],
   "source": [
    "import os\n",
    "L = list( os.walk( \"./intro_first\" ) )  \n",
    "print(f\"{len(L) = }\")\n",
    "print(f\"{L = }\")"
   ]
  },
  {
   "cell_type": "markdown",
   "metadata": {},
   "source": [
    "Here's a line-wrapped version of the list ``L``\n",
    "  + Below it, is a picture of the folder-and-file structure!  \n",
    "  + Our goal: mind-mapping the two representations!!"
   ]
  },
  {
   "cell_type": "markdown",
   "metadata": {},
   "source": [
    "``L = [('./intro_first', ['cs', 'sci'], ['.DS_Store', 'nottrue.ipynb']), \n",
    "('./intro_first/cs', [], ['.DS_Store', 'file35.txt', 'file181y.txt']), \n",
    "('./intro_first/sci', ['50', '10'], ['.DS_Store']), ('./intro_first/sci/50', [], ['IDE.txt']), ('./intro_first/sci/10', [], ['IDE.txt'])]``"
   ]
  },
  {
   "cell_type": "code",
   "execution_count": null,
   "metadata": {},
   "outputs": [],
   "source": [
    "from IPython import display\n",
    "#\n",
    "# this is in the hw1pr1 folder\n",
    "#\n",
    "display.Image(\"./intro_first_ss_small.png\")   # local image"
   ]
  },
  {
   "cell_type": "markdown",
   "metadata": {},
   "source": [
    "See if you can match the _syntactic_ structure (the text!) with the _visual_ structure (the image!) \n",
    "\n",
    "<hr>\n",
    "\n",
    "Onward!"
   ]
  },
  {
   "cell_type": "code",
   "execution_count": null,
   "metadata": {},
   "outputs": [],
   "source": [
    "path = \"./intro_first\"          # any path to any folder\n",
    "result = list(os.walk(path))    # this will \"walk\" all of the subfolders and files\n",
    "\n",
    "print(f\"{len(result) = }\")      # try c:/  (it took my machine 12.7 seconds!)\n",
    "print(f\"{result = }\")"
   ]
  },
  {
   "cell_type": "markdown",
   "metadata": {},
   "source": [
    "#### Now, let's incorporate ``os.walk`` into a series of functions..."
   ]
  },
  {
   "cell_type": "code",
   "execution_count": null,
   "metadata": {},
   "outputs": [],
   "source": [
    "#\n",
    "# Steppingstone, Version 1: call os.walk, return length, optionally print\n",
    "#\n",
    "\n",
    "import os\n",
    "import os.path\n",
    "\n",
    "def file_walker(path):\n",
    "    \"\"\" starting from the input, named path\n",
    "        \n",
    "        this function \"walks\" the whole path, including subfolders\n",
    "        and then... explores any questions we might want :)\n",
    "\n",
    "        call, for example, with    file_walker(\"./intro_first\") \n",
    "    \"\"\"\n",
    "    result = list(os.walk(path))     # perhaps try w/o converting to a list...\n",
    "    # print(f\"{len(result) = }\")\n",
    "    # print(f\"{result = }\")\n",
    "    num_folders = len(result)        # the len is the number of folders...\n",
    "    return num_folders\n",
    "\n",
    "#\n",
    "# when discovering, keep your data close (and your functions closer!)\n",
    "#\n",
    "if True:\n",
    "    \"\"\" overall script that runs examples \"\"\"\n",
    "    print(f\"[[ Start! ]]\\n\")     # sign on\n",
    "\n",
    "    path = \"./intro_first\"       # Remember: . means the current directory\n",
    "    result = file_walker(path)   # Run!\n",
    "\n",
    "    print(f\"result = {result}\")  # Yay for f-strings!\n",
    "\n",
    "    print(\"\\n[[ Fin. ]]\")        # sign off\n"
   ]
  },
  {
   "cell_type": "markdown",
   "metadata": {},
   "source": [
    "Ok!  But we didn't actually \"walk\" the folders -- or files! \n",
    "\n",
    "That is, we only counted, and didn't <u>consider</u>, each one...\n",
    "\n",
    "Let's print all of the folder names!\n"
   ]
  },
  {
   "cell_type": "code",
   "execution_count": null,
   "metadata": {},
   "outputs": [],
   "source": [
    "#\n",
    "# Steppingstone, Version 2: print all of the folder names!\n",
    "#\n",
    "\n",
    "import os\n",
    "import os.path\n",
    "\n",
    "def file_walker(path):\n",
    "    \"\"\" starting from the input, named path\n",
    "        \n",
    "        this function \"walks\" the whole path, including subfolders\n",
    "        and then... explores any questions we might want :)\n",
    "\n",
    "        call, for example, with    file_walker(\"./intro_first\") \n",
    "    \"\"\"\n",
    "    result = list(os.walk(path))     # perhaps try w/o converting to a list...\n",
    "\n",
    "    for folder_tuple in result:\n",
    "        currentpath, subfolders, files = folder_tuple  # always three items, always these...\n",
    "        print(f\"{currentpath = }\")   # try non-f printing: it's worse!\n",
    "\n",
    "    num_folders = len(result)        # the len is the number of currentpaths...\n",
    "    return num_folders\n",
    "\n",
    "#\n",
    "# when discovering, keep your data close (and your functions closer!)\n",
    "#\n",
    "if True:\n",
    "    \"\"\" overall script that runs examples \"\"\"\n",
    "    print(f\"[[ Start! ]]\\n\")     # sign on\n",
    "\n",
    "    path = \"./intro_first\"       # Remember: . means the current directory\n",
    "    result = file_walker(path)   # Run!\n",
    "\n",
    "    print(f\"result = {result}\")  # Yay for f-strings!\n",
    "\n",
    "    print(\"\\n[[ Fin. ]]\")        # sign off\n"
   ]
  },
  {
   "cell_type": "markdown",
   "metadata": {},
   "source": [
    "If you're on Windows, you likely see some \"hidden MACOSX\" directories, ``__MACOSX``\n",
    "\n",
    "<font color=\"DodgerBlue\"><b>Task!</b></font> \n",
    "\n",
    "Change the above code so that it _skips_ any path that contains the string ``__MACOSX``\n",
    "\n",
    "We'll do this together..."
   ]
  },
  {
   "cell_type": "markdown",
   "metadata": {},
   "source": [
    "<hr>"
   ]
  },
  {
   "cell_type": "markdown",
   "metadata": {},
   "source": [
    "But, we want to see the files!\n",
    "\n",
    "Let's print all their full filenames (the full paths)!"
   ]
  },
  {
   "cell_type": "code",
   "execution_count": null,
   "metadata": {},
   "outputs": [],
   "source": [
    "#\n",
    "# Steppingstone, Version 3: walk all of the files, printing each one's fullpath\n",
    "#\n",
    "\n",
    "import os\n",
    "import os.path\n",
    "\n",
    "def file_walker(path):\n",
    "    \"\"\" starting from the input, named path\n",
    "        \n",
    "        this function \"walks\" the whole path, including subfolders\n",
    "        and then... explores any questions we might want :)\n",
    "\n",
    "        call, for example, with    file_walker(\"./intro_first\") \n",
    "    \"\"\"\n",
    "    result = list(os.walk(path))     # perhaps try w/o converting to a list...\n",
    "\n",
    "    for folder_tuple in result:\n",
    "        currentpath, subfolders, files = folder_tuple  # always three items, always these...\n",
    "\n",
    "        if '__MACOSX' in currentpath: continue         # skip the rest of _this_ loop iteration: back to top\n",
    "\n",
    "        print(f\"{currentpath = }\") \n",
    "        \n",
    "        for file in files:       # remember, files is a list of filenames!\n",
    "            fullpath = currentpath + \"/\" + file           # construct the full path, or, better: os.path.join(currentpath,file)  \n",
    "            print(f\"   {fullpath = }\")\n",
    "            #contents = GET_STRING_FROM_FILE(fullpath)     # use the fullpath!\n",
    "            #print(f\"{contents[0:42] = }\")\n",
    "\n",
    "    num_folders = len(result)        # the len is the number of currentpaths...\n",
    "    return num_folders\n",
    "\n",
    "#\n",
    "# when discovering, keep your data close (and your functions closer!)\n",
    "#\n",
    "if True:\n",
    "    \"\"\" overall script that runs examples \"\"\"\n",
    "    print(f\"[[ Start! ]]\\n\")     # sign on\n",
    "\n",
    "    path = \"./intro_first\"       # Remember: . means the current directory\n",
    "    result = file_walker(path)   # Run!\n",
    "\n",
    "    print(f\"result = {result}\")  # Yay for f-strings!\n",
    "\n",
    "    print(\"\\n[[ Fin. ]]\")        # sign off\n"
   ]
  },
  {
   "cell_type": "markdown",
   "metadata": {},
   "source": [
    "**Aside**: &nbsp;&nbsp; It's possible to assemble paths using the operating system's \"correct\" character:"
   ]
  },
  {
   "cell_type": "code",
   "execution_count": null,
   "metadata": {},
   "outputs": [],
   "source": [
    "os.path.join(\"/root/Users/secret_stuff\" , \"file_name\")"
   ]
  },
  {
   "cell_type": "markdown",
   "metadata": {},
   "source": [
    "Notice that it _joined_ the path and the file.\n",
    "\n",
    "<br>\n",
    "\n",
    "Since Python is happy with ``/`` we'll use that for now.\n",
    "\n",
    "<hr>"
   ]
  },
  {
   "cell_type": "markdown",
   "metadata": {},
   "source": [
    "#### But, we want to get all of the files' _contents_  !\n",
    "\n",
    "<u>Notice</u> there are lots of files named ``\".DS_Store\"`` ...\n",
    "\n",
    "They are binary data used by MacOS - they will cause trouble!\n",
    "\n",
    "Let's see the trouble, and then fix it:"
   ]
  },
  {
   "cell_type": "code",
   "execution_count": null,
   "metadata": {},
   "outputs": [],
   "source": [
    "#\n",
    "# Steppingstone, Version 4: walk all of the files, printing (bits of) each one's contents!\n",
    "#\n",
    "\n",
    "import os\n",
    "import os.path\n",
    "\n",
    "def file_walker(path):\n",
    "    \"\"\" starting from the input, named path\n",
    "        \n",
    "        this function \"walks\" the whole path, including subfolders\n",
    "        and then... explores any questions we might want :)\n",
    "\n",
    "        call, for example, with    file_walker(\"./intro_first\") \n",
    "    \"\"\"\n",
    "    result = list(os.walk(path))     # perhaps try w/o converting to a list...\n",
    "\n",
    "    for folder_tuple in result:\n",
    "        currentpath, subfolders, files = folder_tuple  # always three items, always these...\n",
    "        if '__MACOSX' in currentpath:  continue\n",
    "        print(f\"{currentpath = }\") \n",
    "\n",
    "        for file in files:       # remember, files is a list of filenames!\n",
    "            fullpath = currentpath + \"/\" + file           # construct the full path, or, better: os.path.join(currentpath,file)  \n",
    "            print(f\"   {fullpath = }\")\n",
    "            contents = GET_STRING_FROM_FILE(fullpath)     # use the fullpath!\n",
    "            print(f\"   {contents[0:42] = }\")\n",
    "\n",
    "    num_folders = len(result)        # the len is the number of currentpaths...\n",
    "    return num_folders\n",
    "\n",
    "#\n",
    "# when discovering, keep your data close (and your functions closer!)\n",
    "#\n",
    "if True:\n",
    "    \"\"\" overall script that runs examples \"\"\"\n",
    "    print(f\"[[ Start! ]]\\n\")     # sign on\n",
    "\n",
    "    path = \"./intro_first\"       # Remember: . means the current directory\n",
    "    result = file_walker(path)   # Run!\n",
    "\n",
    "    print(f\"result = {result}\")  # Yay for f-strings!\n",
    "\n",
    "    print(\"\\n[[ Fin. ]]\")        # sign off\n"
   ]
  },
  {
   "cell_type": "markdown",
   "metadata": {},
   "source": [
    "#### The encoding was wrong!  \n",
    "\n",
    "(Those ``.DS_store`` files are binary, not human-readable.)\n",
    "\n",
    "We could change to, say, latin-1 and see the bytes. But, let's not...\n",
    "\n",
    "We really just want to _algorithmically_ skip over those files. Let's try it:\n",
    "\n",
    "<font color=\"DodgerBlue\"><b>Task to try</b></font>\n",
    "\n",
    "Add an if statement in the above \"steppingstone function\" in order to simply skip over any file that begins with a dot (a period character: ``\".\"``)\n",
    "\n",
    "Then, run it again. (It's ok to leave those dot files' pathnames - or not...)"
   ]
  },
  {
   "cell_type": "markdown",
   "metadata": {},
   "source": [
    "<hr>"
   ]
  },
  {
   "cell_type": "markdown",
   "metadata": {},
   "source": [
    "####  Two examples leading into our 10,000-file challenges! \n",
    "\n",
    "<u>Example 1</u> &nbsp; Let's count how many ``.txt`` files we have... "
   ]
  },
  {
   "cell_type": "code",
   "execution_count": null,
   "metadata": {},
   "outputs": [],
   "source": [
    "#\n",
    "# Rolodex lead-in, example1: counting the number of .txt files...\n",
    "#\n",
    "\n",
    "import os\n",
    "import os.path\n",
    "\n",
    "def file_walker(path):\n",
    "    \"\"\" starting from the input, named path\n",
    "        \n",
    "        this function \"walks\" the whole path, including subfolders\n",
    "        and then... explores any questions we might want :)\n",
    "\n",
    "        call, for example, with    file_walker(\"./intro_first\") \n",
    "    \"\"\"\n",
    "    result = list(os.walk(path))     # perhaps try w/o converting to a list...\n",
    "    \n",
    "    count_txt = 0    # keep count of our .txt files\n",
    "\n",
    "    for folder_tuple in result:\n",
    "        currentpath, subfolders, files = folder_tuple  # always three items, always these...\n",
    "        if '__MACOSX' in currentpath:  continue\n",
    "        print(f\"{currentpath = }\") \n",
    "\n",
    "        for file in files:       # remember, files is a list of filenames!\n",
    "            fullpath = currentpath + \"/\" + file           # construct the full path, or, better: os.path.join(currentpath,file)  \n",
    "            print(f\"   {fullpath = }\")\n",
    "            if file[0] == \".\": continue      # skip files that start with dot\n",
    "            if file[-4:] == \".txt\":\n",
    "                print(\"Found a .txt file! Adding one...\")\n",
    "                count_txt += 1\n",
    "            #contents = GET_STRING_FROM_FILE(fullpath)     # use the fullpath!\n",
    "            #print(f\"   {contents[0:42] = }\")\n",
    "\n",
    "    return count_txt   # phew, we're finally returning something else!\n",
    "\n",
    "#\n",
    "# when discovering, keep your data close (and your functions closer!)\n",
    "#\n",
    "if True:\n",
    "    \"\"\" overall script that runs examples \"\"\"\n",
    "    print(f\"[[ Start! ]]\\n\")     # sign on\n",
    "\n",
    "    path = \"./intro_first\"       # Remember: . means the current directory\n",
    "    result = file_walker(path)   # Run!\n",
    "\n",
    "    print(f\"num txt files = {result}\")  # Yay for f-strings!\n",
    "\n",
    "    print(\"\\n[[ Fin. ]]\")        # sign off\n"
   ]
  },
  {
   "cell_type": "markdown",
   "metadata": {},
   "source": [
    "<font color=\"DodgerBlue\"><b>This is an example</b></font> of a short (1-3 sentence) markdown cell, giving interpretation and context for the above result...\n",
    "\n",
    "#### Number of ``.txt`` files\n",
    "  + It seems that this folder, ``intro_first`` has four (4) ``.txt`` files.  This seems reasonable!\n",
    "  + We could go further and see what _percentage_ of files are ``.txt`` ... \n",
    "  + It's also worth noting that we're trusting the file extension ``.txt`` here: some text files could be masquerading as other things... 😊?!"
   ]
  },
  {
   "cell_type": "markdown",
   "metadata": {},
   "source": [
    "The key idea is to ...\n",
    "  + share the results found, contextualized for us sapiens ...\n",
    "  + consider what else could be done, even if we're not doing so ...\n",
    "  + note possible incompletenesses, countervailing forces, concerns in general ...\n",
    "  + use emojis 🦔 !"
   ]
  },
  {
   "cell_type": "markdown",
   "metadata": {},
   "source": [
    "<hr>"
   ]
  },
  {
   "cell_type": "markdown",
   "metadata": {},
   "source": [
    "####  Second example: using file *contents* \n",
    "\n",
    "<u>Example 2</u> &nbsp; Let's count how many of the ``.txt`` files contain the substring ``'CS'`` -- not in the filename, but in the file ***contents***"
   ]
  },
  {
   "cell_type": "code",
   "execution_count": null,
   "metadata": {},
   "outputs": [],
   "source": [
    "#\n",
    "# Rolodex lead-in, example2: counting the number of .txt files containing 'CS' ...\n",
    "#\n",
    "\n",
    "import os\n",
    "import os.path\n",
    "\n",
    "def file_walker(path):\n",
    "    \"\"\" starting from the input, named path\n",
    "        \n",
    "        this function \"walks\" the whole path, including subfolders\n",
    "        and then... explores any questions we might want :)\n",
    "\n",
    "        call, for example, with    file_walker(\"./intro_first\") \n",
    "    \"\"\"\n",
    "    result = list(os.walk(path))     # perhaps try w/o converting to a list...\n",
    "    \n",
    "    count_txt = 0    # keep count of our .txt files\n",
    "    count_CS = 0     # keep count of 'CS' substrings found\n",
    "\n",
    "    for folder_tuple in result:\n",
    "        currentpath, subfolders, files = folder_tuple  # always three items, always these...\n",
    "        if '__MACOSX' in currentpath:  continue\n",
    "        print(f\"{currentpath = }\") \n",
    "\n",
    "        for file in files:       # remember, files is a list of filenames!\n",
    "            fullpath = currentpath + \"/\" + file           # construct the full path, or, better: os.path.join(currentpath,file)  \n",
    "            print(f\"   {fullpath = }\")\n",
    "            if file[0] == \".\": continue      # skip files that start with dot\n",
    "\n",
    "            if file[-4:] == \".txt\":\n",
    "                # print(\"Found a .txt file! Adding one...\")\n",
    "                count_txt += 1\n",
    "                contents = GET_STRING_FROM_FILE(fullpath)     # use the fullpath!\n",
    "                if 'CS' in contents:\n",
    "                    print(\"        *** Found a 'CS' ... adding 1    (aka 2-True)\")\n",
    "                    count_CS += 1\n",
    "                # print(f\"   {contents[0:42] = }\")\n",
    "\n",
    "    return count_CS, count_txt   # oooh... we can return two things!\n",
    "\n",
    "#\n",
    "# when discovering, keep your data close (and your functions closer!)\n",
    "#\n",
    "if True:\n",
    "    \"\"\" overall script that runs examples \"\"\"\n",
    "    print(f\"[[ Start! ]]\\n\")     # sign on\n",
    "\n",
    "    path = \"./intro_first\"       # Remember: . means the current directory\n",
    "    result = file_walker(path)   # Run!\n",
    "\n",
    "    count_CS, count_txt = result\n",
    "    print()\n",
    "    print(f\"num txt files       = {count_txt}\")  \n",
    "    print(f\"num containing CS   = {count_CS}\")  \n",
    "    perc = count_CS*100/count_txt\n",
    "    print(f\"for a CS percentage of {perc:5.2f}%\")   # :5.2f means width of 5, 2 dec. places, for a _floating pt value\n",
    "\n",
    "    print(\"\\n[[ Fin. ]]\")        # sign off\n"
   ]
  },
  {
   "cell_type": "markdown",
   "metadata": {},
   "source": [
    "<font color=\"Coral\"><b>Results:</b></font> \n",
    "\n",
    "#### Number of ``CS``-content ``.txt`` files\n",
    "  + It seems that this folder, ``intro_first`` has two ``'CS'``-containing ``.txt`` files, out of four total ``.txt`` files, that is, ``50%`` <br><br>\n",
    "  + <u>Reflection</u>: _This seems computationally balanced._ <br><br>\n",
    "  + <u>Opportunities</u>: We could go further and try this in larger folders - such as this whole machine! Or, we could look for other things (like phone numbers or names in various formats). Or, really, we could ask-and-answer almost any algorithmic question about any subset of files on any machine at all... <br><br>\n",
    "  +   _The fox knows many things, but the hedgehog knows one big thing._ - [Archilochus](https://www.goodreads.com/author/quotes/7614908.Archilochus#:~:text=Archilochus%20Quotes&text=We%20don't%20rise%20to,the%20level%20of%20our%20training.&text=The%20fox%20knows%20many%20things,hedgehog%20knows%20one%20big%20thing.&text=Heart%2C%20my%20heart%2C%20so%20battered,the%20men%20who%20hate%20us.) 🦔 "
   ]
  },
  {
   "cell_type": "markdown",
   "metadata": {},
   "source": [
    "#### Trying other directories/folders\n",
    "\n",
    "The ``path`` can be _any_ folder on your local machine, allowing for _arbitrary_ local exploration and discovery...\n",
    "\n",
    "For example, this next cell will count <font color=\"Coral\"><b>how many folders</b></font> do I have, starting at some ``path``\n",
    "+ to count <font color=\"Coral\"><b>files</b></font>, you'll need to build from the examples above"
   ]
  },
  {
   "cell_type": "code",
   "execution_count": null,
   "metadata": {},
   "outputs": [],
   "source": [
    "path = \"./intro_first\"          # any path to any folder?!  intro_first contains _5_ folders total\n",
    "# path = \"./intro_second\"       # any path to any folder?!  intro_second contains _12_ folders total\n",
    "# path = \"./files_challenge\"    # this is the really large folder: it contains _23_ folders total\n",
    "\n",
    "# path = \"C:/\"                  # could use C:/  on windows or \"/\" on MacOS  \n",
    "# path = \".\"                    # could use \".\" for the current directory\n",
    "\n",
    "result = list(os.walk(path))    # this will \"walk\" all of the subfolders and files\n",
    "\n",
    "print(f\"{len(result) = }\")      # this took my machine 2m 47.4s seconds (for \"/\" with total 555695 folders)\n",
    "                                # and, it asked for permission a couple of times (I said no.)\n",
    "#print(f\"{result = }\")          # let's _not_ print it out..."
   ]
  },
  {
   "cell_type": "markdown",
   "metadata": {},
   "source": [
    "#### <font color=\"DodgerBlue\"><b>Your task</b></font>: The Rolodex challenge!\n",
    "+ Here is [the homework page that describes hw1's challenges...](https://docs.google.com/document/d/1SXgPlR00aIxahDi3OYR8y9-AODNwBuLbQsLLt9AKSa4/edit)\n",
    "+ A few questions are \"our\" design\n",
    "+ Then, ask-and-answer more are of _your_ design\n",
    "+ And, you'll answer _your_ questions from at least two other \"root\" directories (the ``path`` that gets everything started is sometimes called the \"root\": the folder whose files your functions _walk_! :)\n",
    "+ Create a short <font color=\"Coral\"><b>Results:</b></font> section after each of \"our\" and _your_ questions. Feel free to use the template above.\n",
    "+ Good luck, walking <i>far more</i> than one thousand files!\n",
    "\n",
    "<br>\n"
   ]
  },
  {
   "cell_type": "code",
   "execution_count": null,
   "metadata": {},
   "outputs": [
    {
     "name": "stdout",
     "output_type": "stream",
     "text": [
      "Total .txt files: 12722\n",
      "Maximum directory depth: 12\n",
      "Phone numbers by length: {7: 1409, 10: 7170, 11: 87}\n",
      "10-digit phone numbers in area code 909: 286\n",
      "People with three 'i's in their name: 241\n",
      "Most 'i's in a name: 5 (Wisnieski, Cindi)\n",
      "People with 'Khaby' in their name: 26\n",
      "People with last name counts: {'Khaby': 3, \"D'Amelio\": 0}\n"
     ]
    }
   ],
   "source": [
    "import os\n",
    "\n",
    "def count_txt(directory):\n",
    "    txt_count = 0\n",
    "    max_depth = 0\n",
    "    \n",
    "    for root, _, files in os.walk(directory):\n",
    "        txt_count += sum(1 for file in files if file.endswith(\".txt\"))\n",
    "        depth = root.count(os.sep)\n",
    "        max_depth = max(max_depth, depth)\n",
    "    \n",
    "    return txt_count, max_depth\n",
    "\n",
    "def analyze_phone_numbers(directory):\n",
    "    phone_counts = {7: 0, 10: 0, 11: 0}\n",
    "    area_code_909_count = 0\n",
    "    \n",
    "    for root, _, files in os.walk(directory):\n",
    "        for file in files:\n",
    "            if file.endswith(\".txt\"):\n",
    "                with open(os.path.join(root, file), 'r', encoding='utf-8', errors='ignore') as f:\n",
    "                    for line in f:\n",
    "                        words = line.split()\n",
    "                        for word in words:\n",
    "                            cleaned_number = ''.join(filter(str.isdigit, word))\n",
    "                            num_length = len(cleaned_number)\n",
    "                            if num_length in phone_counts:\n",
    "                                phone_counts[num_length] += 1\n",
    "                                if num_length == 10 and cleaned_number.startswith(\"909\"):\n",
    "                                    area_code_909_count += 1\n",
    "    \n",
    "    return phone_counts, area_code_909_count\n",
    "\n",
    "def analyze_names(directory):\n",
    "    three_i_count = 0\n",
    "    max_i_name = \"\"\n",
    "    max_i_count = 0\n",
    "    khaby_name_count = 0\n",
    "    last_name_counts = {\"Khaby\": 0, \"D'Amelio\": 0}\n",
    "    \n",
    "    for root, _, files in os.walk(directory):\n",
    "        for file in files:\n",
    "            if file.endswith(\".txt\"):\n",
    "                with open(os.path.join(root, file), 'r', encoding='utf-8', errors='ignore') as f:\n",
    "                    for line in f:\n",
    "                        name = line.strip()\n",
    "                        if all(c.isalpha() or c.isspace() or c == ',' for c in name):\n",
    "                            i_count = name.lower().count(\"i\")\n",
    "                            if i_count >= 3:\n",
    "                                three_i_count += 1\n",
    "                            if i_count > max_i_count:\n",
    "                                max_i_count = i_count\n",
    "                                max_i_name = name\n",
    "                            if \"khaby\" in name.lower():\n",
    "                                khaby_name_count += 1\n",
    "                            if \",\" in name:\n",
    "                                last_name = name.split(\",\")[0].strip()\n",
    "                                if last_name in last_name_counts:\n",
    "                                    last_name_counts[last_name] += 1\n",
    "    \n",
    "    return three_i_count, max_i_name, max_i_count, khaby_name_count, last_name_counts\n",
    "\n",
    "directory = \"./files_challenge\" \n",
    "num_txt_files, max_depth = count_txt(directory)\n",
    "phone_data, area_909 = analyze_phone_numbers(directory)\n",
    "three_i_count, max_i_name, max_i_count, khaby_name_count, last_name_counts = analyze_names(directory)\n",
    "\n",
    "print(f\"Total .txt files: {num_txt_files}\")\n",
    "print(f\"Maximum directory depth: {max_depth}\")\n",
    "print(f\"Phone numbers by length: {phone_data}\")\n",
    "print(f\"10-digit phone numbers in area code 909: {area_909}\")\n",
    "print(f\"People with three 'i's in their name: {three_i_count}\")\n",
    "print(f\"Most 'i's in a name: {max_i_count} ({max_i_name})\")\n",
    "print(f\"People with 'Khaby' in their name: {khaby_name_count}\")\n",
    "print(f\"People with last name counts: {last_name_counts}\")\n",
    "\n",
    "\"\"\"\n",
    "(a) 1. How many phone numbers add up to > 42, 2.How many phone numbers end with a prime number (1,3,5,7), 3. How many different last names start with the letter g\n",
    "\n",
    "\n",
    "\"\"\"\n"
   ]
  },
  {
   "cell_type": "code",
   "execution_count": null,
   "metadata": {},
   "outputs": [
    {
     "name": "stdout",
     "output_type": "stream",
     "text": [
      " Volume in drive C is OS\n",
      " Volume Serial Number is 6859-0BE1\n",
      "\n",
      " Directory of c:\\Users\\tonyr\\Downloads\\starting_notebooks\\starting_notebooks\n",
      "\n",
      "02/05/2025  07:25 PM    <DIR>          .\n",
      "02/05/2025  07:25 PM    <DIR>          ..\n",
      "02/05/2025  07:25 PM            10,244 .DS_Store\n",
      "01/29/2025  11:14 AM    <DIR>          get_files_challenge_and_place_here\n",
      "02/05/2025  07:25 PM             6,764 hw1pr0.ipynb\n",
      "02/05/2025  08:22 PM            41,785 hw1pr1.ipynb\n",
      "02/05/2025  07:25 PM    <DIR>          intro_first\n",
      "02/05/2025  07:25 PM            19,942 intro_first_ss_small.png\n",
      "02/05/2025  07:25 PM    <DIR>          intro_second\n",
      "               4 File(s)         78,735 bytes\n",
      "               5 Dir(s)  22,577,475,584 bytes free\n"
     ]
    }
   ],
   "source": [
    "%"
   ]
  },
  {
   "cell_type": "code",
   "execution_count": 14,
   "metadata": {},
   "outputs": [
    {
     "name": "stdout",
     "output_type": "stream",
     "text": [
      "Total .txt files: 0\n",
      "Maximum directory depth: 0\n",
      "Phone numbers by length: {7: 0, 10: 0, 11: 0}\n",
      "10-digit phone numbers in area code 909: 0\n",
      "People with three 'i's in their name: 0\n",
      "Most 'i's in a name: 0 ()\n",
      "People with 'Khaby' in their name: 0\n",
      "People with last name counts: {'Khaby': 0, \"D'Amelio\": 0}\n"
     ]
    }
   ],
   "source": [
    "import os\n",
    "\n",
    "def count_png(directory):\n",
    "    png_count = 0\n",
    "    for root, _, files in os.walk(directory):\n",
    "        png_count += sum(1 for file in files if file.endswith(\".png\"))\n",
    "    return png_count\n",
    "\n",
    "\n",
    "def analyze_screenshots_2024(directory):\n",
    "    screenshot_count = 0\n",
    "    count_2024 = 0\n",
    "    for root, _, files in os.walk(directory):\n",
    "        for file in files:\n",
    "            if file.endswith(\".png\"):\n",
    "                with open(os.path.join(root, file), 'r', encoding='utf-8', errors='ignore') as f:\n",
    "                    for line in f:\n",
    "                        name = line.strip()\n",
    "                        if all(c.isalpha() or c.isspace() or c == ',' for c in name):\n",
    "                            if \"Screenshot\" in name.lower():\n",
    "                                screenshot_count += 1\n",
    "                            if \"2024\" in name:\n",
    "                                count_2024 += 1\n",
    "    \n",
    "    return screenshot_count, count_2024\n",
    "\n",
    "directory = \"./Screenshots\" \n",
    "number_of_pngs = count_png(directory)\n",
    "number_of_screenshots, count2024 = analyze_screenshots_2024(directory)\n",
    "\n",
    "\n",
    "print(f\"Number of PNGS: {number_of_pngs}\")\n",
    "print(f\"Number of screenshots: {number_of_screenshots}\")\n",
    "print(f\"Count of 2024: {count2024}\")\n"
   ]
  }
 ],
 "metadata": {
  "kernelspec": {
   "display_name": "Python 3",
   "language": "python",
   "name": "python3"
  },
  "language_info": {
   "codemirror_mode": {
    "name": "ipython",
    "version": 3
   },
   "file_extension": ".py",
   "mimetype": "text/x-python",
   "name": "python",
   "nbconvert_exporter": "python",
   "pygments_lexer": "ipython3",
   "version": "3.11.9"
  },
  "orig_nbformat": 4
 },
 "nbformat": 4,
 "nbformat_minor": 2
}
