{
 "cells": [
  {
   "attachments": {},
   "cell_type": "markdown",
   "metadata": {},
   "source": [
    "#### week2 ~ the-web-as-our-filesystem: <i>to scrape or not to scrape</i> ?\n",
    "\n",
    "[the google doc with hw2's details](https://docs.google.com/document/d/1z4HwpUL1-ImGX3j-6bddyZAfdv2SkRQHRNhF5Cu3Fkk/edit?tab=t.0)\n",
    "\n",
    "<hr>"
   ]
  },
  {
   "attachments": {},
   "cell_type": "markdown",
   "metadata": {},
   "source": [
    "#### Reading for hw2...     (hw2pr0.ipynb)\n",
    "\n",
    "\n",
    "<br>\n",
    "Problem 0:      <i><b>(When)  Is webscraping legal and/or ethical?     [10 pts]</b></i>\n",
    "\n",
    "This week's reading includes 1++ short articles:\n",
    "+ The first article  is entitled, [Is Web Scraping Ethical](https://scrapeops.io/web-scraping-playbook/ethics-of-web-scraping/) by ScrapeOps.io (they're not impartial: they're a webscraping-tools company!)\n",
    "\n",
    "<br>\n",
    "\n",
    "+ The \"+\" article is Meta's [Facebook Terms of Service](https://www.facebook.com/terms.php).  (Perhaps this should be the \"+1\" article?)\n",
    "  + We're definitely _not_ asking you to read the whole Facebook/Meta ToS!  Rather, find your way to Section 3, Subsection 2 ***\"What you can share and do on Meta.\"***   It's relatively short: it's one \"screenful.\" \n",
    "  + The one sub-sub-section to consider especially carefully is 3.2.3.\n",
    "\n",
    "<br>\n",
    "\n",
    "+ In addition, we share this _flowchart_ of webscraping, from [this article by Sophie Chou of the MIT Media Lab and Pro Publica](https://www.storybench.org/to-scrape-or-not-to-scrape-the-technical-and-ethical-challenges-of-collecting-data-off-the-web/) (you need not read the article - if you do open it, notice the first line of the <i>above-the-fold</i> Python script!)\n",
    "\n",
    "<br>\n",
    "\n",
    "<img src=\"https://www.storybench.org/wp-content/uploads/2016/04/flowchart_final.jpeg\" height=\"500px\">\n",
    "\n",
    "<br>\n"
   ]
  },
  {
   "attachments": {},
   "cell_type": "markdown",
   "metadata": {},
   "source": [
    "Then, in response to these resources, reflect on any <u>one of these three prompts</u>:   \n",
    "+ (**Prompt A**) Look over Sophie Chiu's \"Should you scrape?\" flowchart. Find one decision node that you particularly agree -- or disagree -- with and elaborate on why. (Feel free to note whether you feel this hw adheres to the chart!)  \n",
    "+ (**Prompt B**) At the end of the first article there is a set of \"Principles for Responsible Scraping\" Looking that over, find one principle you particularly agree -- or disagree -- with and elaborate on why.  \n",
    "+ (**Prompt C**) Having read some of Facebook's ToS, consider its stated requirement \"You may not access or collect data from our Products using automated means...\"  Elaborate on what you think \"automated means\" includes -- and doesn't include.   \n",
    "\n",
    "<br>\n",
    "\n",
    "As with each week's reading, responses should be carefully considered, but need not be very CS35_Participant_2 (~5 or so sentences is wonderful).  \n",
    "\n",
    "<hr>"
   ]
  },
  {
   "attachments": {},
   "cell_type": "markdown",
   "metadata": {},
   "source": [
    "#### Reading response\n",
    "\n",
    "Facebook’s Terms of Service (ToS) explicitly prohibit users from accessing or collecting data from its products using \"automated means.\" I believe that \"Automated means\" broadly refers to any software or script that collects or interacts with Facebook’s platform without human intervention. This includes web scraping tools, bots,  scripts, and unauthorized APIs that extract information from Facebooks feed. The primary concern behind Facebook’s restriction is the potential misuse of user data, including privacy violations, spam, and misinformation dissemination. For example, web scrapers such as BeautifulSoup or Scrapy are often used to extract data from websites where such tools can collect vast amounts of publicly available user information, including names, posts, and comments.The prohibition against \"automated means\" is largely aimed at preventing data exploitation and manipulation. Some key activities that fall under this prohibition include web scraping, automated data collection, fake engagement tools, unauthorized API usage, and mass account creation. While Facebook’s policies strictly limit unauthorized automated activities, certain automation processes might still be allowed under specific conditions. These include official API usage, accessibility tools, scheduling tools, and internal Facebook automation for content moderation and security. Facebook’s restriction on \"automated means\" is not just a policy decision but also a measure to comply with data privacy regulations such as the General Data Protection Regulation (GDPR) and the California Consumer Privacy Act (CCPA). Unauthorized data collection can result in severe legal consequences, as seen in high-profile cases such as the Cambridge Analytica scandal, where user data was harvested without consent for political purposes.\n",
    "\n"
   ]
  }
 ],
 "metadata": {
  "interpreter": {
   "hash": "7ccb4bb6bd67730c9185e6c24c983362cd7b4575b595bfae100d8d91e48f4f1e"
  },
  "kernelspec": {
   "display_name": "Python 3.8.8 64-bit (conda)",
   "language": "python",
   "name": "python3"
  },
  "language_info": {
   "codemirror_mode": {
    "name": "ipython",
    "version": 3
   },
   "file_extension": ".py",
   "mimetype": "text/x-python",
   "name": "python",
   "nbconvert_exporter": "python",
   "pygments_lexer": "ipython3",
   "version": "3.12.1"
  },
  "orig_nbformat": 4
 },
 "nbformat": 4,
 "nbformat_minor": 2
}
