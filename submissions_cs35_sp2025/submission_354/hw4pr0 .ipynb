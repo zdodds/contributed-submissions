{
 "cells": [
  {
   "attachments": {},
   "cell_type": "markdown",
   "metadata": {},
   "source": [
    "<br>\n",
    "\n",
    "#### week4 ~ <i>... and into the data we dive ...</i>  &nbsp;&nbsp; (hw4pr0.ipynb)\n",
    "\n",
    "<a href=\"https://docs.google.com/document/d/1OdQ-01Gp7XAk9vbZ61zM3CaTdGsZVWEvZxgu1Z0toSY/edit?tab=t.0\">This week's hw page</a>\n",
    "\n",
    "<hr>"
   ]
  },
  {
   "attachments": {},
   "cell_type": "markdown",
   "metadata": {},
   "source": [
    "<br>\n",
    "\n",
    "#### Reading for hw4...     (hw4pr0.ipynb)\n",
    "\n",
    "As we transition into AI/Machine Learning for the next few weeks, this week's reading takes a more <u>policy-based</u>, rather than socially-normed, view:\n",
    "+ it's a NYTimes article from a few years ago -- nice, because it has a definite, wide-angle stance on regulating AI:\n",
    "+ [How to Regulate Artificial Intelligence](https://www.nytimes.com/2017/09/01/opinion/artificial-intelligence-regulations-rules.html)\n",
    "+ [locally-hosted pdf copy](https://drive.google.com/file/d/1EZcygQdk40J0dJTZ1vp0F20rIoQU27nH/view)\n",
    "\n",
    "Consider the author's three proposed principles, which elaborate Isaac Asimov's \"laws\":\n",
    "+ AIs must obey human society's laws\n",
    "+ AIs must disclose themselves as such\n",
    "+ AIs cannot retain confidential information (w/o permission)\n",
    "\n",
    "Choose one (or more) of these principles with which to agree or disagree, bringing in your own experience and perspective. \n",
    "\n",
    "Alternative paths and balancing acts are, as always, welcome! For example -- this article was written before conversational AI was a reality. Do you feel there are differences in the appropriate principles or guidance for regulating today's AI agents and their authors?\n",
    "\n",
    "<hr>"
   ]
  },
  {
   "attachments": {},
   "cell_type": "markdown",
   "metadata": {},
   "source": [
    "#### Reading response\n",
    "\n",
    "I agree with Isaac Asimov's law that AIs must disclose themselves as such as I have experienced it myself before and think it is crucial to regulate AI. In the text, it states that \"an A.I. system must clearly disclose that it is not human\" (Etzioni 2). This means that there should be a symbol or watermark that allows viewers to know for sure it was not human-created. In the modern world, it is hard for me to tell if pictures online are real or AI-generated, so having this rule will allow me to credit the real human creator."
   ]
  }
 ],
 "metadata": {
  "interpreter": {
   "hash": "7ccb4bb6bd67730c9185e6c24c983362cd7b4575b595bfae100d8d91e48f4f1e"
  },
  "kernelspec": {
   "display_name": "Python 3.8.8 64-bit (conda)",
   "language": "python",
   "name": "python3"
  },
  "language_info": {
   "codemirror_mode": {
    "name": "ipython",
    "version": 3
   },
   "file_extension": ".py",
   "mimetype": "text/x-python",
   "name": "python",
   "nbconvert_exporter": "python",
   "pygments_lexer": "ipython3",
   "version": "3.10.2"
  },
  "orig_nbformat": 4
 },
 "nbformat": 4,
 "nbformat_minor": 2
}
