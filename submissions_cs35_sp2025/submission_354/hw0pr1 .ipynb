{
 "cells": [
  {
   "cell_type": "markdown",
   "metadata": {
    "id": "EvgU28LMDkAm"
   },
   "source": [
    "### Jupyter Notebooks and Markdown!\n",
    "+ At heart, cs35 is about bridge-building between human expression and executable expression\n",
    "+ markdown is a popular language for human expression  (this cell is markdown)\n",
    "  + control-enter renders the Markdown  (\"runs\" it)\n",
    "+ python is a popular language for executable expression (see cells below!)"
   ]
  },
  {
   "cell_type": "markdown",
   "metadata": {
    "id": "FSU0SoPIDkAn"
   },
   "source": [
    "#### This is a Markdown cell, a <i>fourth-level</i> header\n",
    "+ If you've already used Markdown, e.g., in Discord, wiki editing, etc., wonderful!\n",
    "+ If you haven't used it, [this Markdown link](https://www.markdownguide.org/basic-syntax/) is a reference...\n",
    "+ Equally or more welcome: &nbsp; Dive in! &nbsp; Share! &nbsp; Ask!"
   ]
  },
  {
   "cell_type": "markdown",
   "metadata": {
    "id": "1aSsC9MjDkAn"
   },
   "source": [
    "#### <font color=\"Coral\">First task</font> -- is \"to markdown\":\n",
    "+ Here, use your markdown knowledge or research to...\n",
    "+ **bold this item**\n",
    "+ *italicize this item*\n",
    "+ ~~strikethrough this item~~\n",
    "+ `use fixed-width formatting for this item, i.e., code-style`\n",
    "+ #### <font color=\"Coral\">and then do something else (your choice) with this item</font>\n",
    "+ BUT... <i><b><u>don't</u></b></i> use mark<u>up</u>, as this item does. Use mark<u>down</u>!\n",
    "+ That is to say, don't use tags like <tt>\\<i\\>this\\</i\\></tt> for any of the challenges above..."
   ]
  },
  {
   "cell_type": "code",
   "execution_count": null,
   "metadata": {
    "id": "S2iKhCwJDpD5"
   },
   "outputs": [],
   "source": []
  },
  {
   "cell_type": "markdown",
   "metadata": {
    "id": "VnDQRk5LDkAo"
   },
   "source": [
    "#### <font color=\"Coral\">Second task</font> -- Be sure to\n",
    "+ Change this list so that it uses <u>your</u> name and includes at least three \"fun facts\" about yourself, including at least two links and at least one link to a picture of you somewhere...\n",
    "+ For example, my answers are\n",
    "+ Jack CS35_Participant_4\n",
    "+ I <3 baseball\n",
    "+ I <3 the Big Bang Theory\n",
    "+ Also a fan of Juice Wrld\n",
    "+ I <3 (https://www.roblox.com/home)\n",
    "+ and (https://playvalorant.com/en-us/)\n",
    "+ I am here too! (https://www.maxpreps.com/ca/claremont/the-webb-school-gauls/athletes/jack-CS35_Participant_4/?careerid=bvj2bksg3t5n7)"
   ]
  },
  {
   "cell_type": "markdown",
   "metadata": {
    "id": "NjKftI6XDkAo"
   },
   "source": [
    "#### <font color=\"Coral\">Third task</font> include a linked image via url: This is Hainan, China\n",
    "\n",
    ":D It is fun!\n",
    "\n",
    "<img src=\"./hainan.jpeg\" height=142>"
   ]
  },
  {
   "cell_type": "markdown",
   "metadata": {
    "id": "yZLQpsS_DkAo"
   },
   "source": [
    "### Onward to Python!"
   ]
  },
  {
   "cell_type": "code",
   "execution_count": 1,
   "metadata": {
    "id": "wHSLJPv4DkAo"
   },
   "outputs": [
    {
     "name": "stdout",
     "output_type": "stream",
     "text": [
      "x is 43\n"
     ]
    },
    {
     "data": {
      "text/plain": [
       "42"
      ]
     },
     "execution_count": 1,
     "metadata": {},
     "output_type": "execute_result"
    }
   ],
   "source": [
    "#\n",
    "# python is a popular language for executable expression\n",
    "#     This is a python cell\n",
    "#     Try this shortcut: control-return or control-enter runs it:\n",
    "\n",
    "x = 43\n",
    "print(\"x is\", x)\n",
    "\n",
    "x -= 1\n",
    "x\n",
    "\n",
    "# notice that the last expression is the cell's output.\n",
    "# printing and outputting are different!"
   ]
  },
  {
   "cell_type": "markdown",
   "metadata": {
    "id": "H-wzwSk9DkAp"
   },
   "source": [
    "#### Python review in about 5-10 cells!\n",
    "\n",
    "cs5 in one day!"
   ]
  },
  {
   "cell_type": "code",
   "execution_count": 2,
   "metadata": {
    "id": "EwoqglZ-DkAp"
   },
   "outputs": [
    {
     "name": "stdout",
     "output_type": "stream",
     "text": [
      "L[1:] equals [8, 9]\n",
      "L[1:] equals [8, 9]\n",
      "L[1:] = [8, 9]\n",
      "\n",
      "cmc scripps pitzer hmc\n"
     ]
    },
    {
     "data": {
      "text/plain": [
       "True"
      ]
     },
     "execution_count": 2,
     "metadata": {},
     "output_type": "execute_result"
    }
   ],
   "source": [
    "#\n",
    "# Let's fit all of Python into the next five or so cells!\n",
    "#\n",
    "\n",
    "L = [7,8,9]\n",
    "\n",
    "print(\"L[1:] equals\", L[1:])    # slicing!\n",
    "\n",
    "print(f\"L[1:] equals {L[1:]}\")  # f strings!\n",
    "\n",
    "print(f\"{L[1:] = }\")            # cool = syntax, new for me...\n",
    "\n",
    "print()\n",
    "\n",
    "colleges = 'cmc scripps pitzer hmc'\n",
    "print(colleges)\n",
    "\n",
    "'c' in colleges          # in is in!"
   ]
  },
  {
   "cell_type": "markdown",
   "metadata": {
    "id": "FXUUQaecDkAp"
   },
   "source": [
    "#### Let's use f-strings more carefully ...\n"
   ]
  },
  {
   "cell_type": "code",
   "execution_count": 3,
   "metadata": {
    "id": "Q2PiOIayDkAp"
   },
   "outputs": [
    {
     "name": "stdout",
     "output_type": "stream",
     "text": [
      "x = 42\n",
      "x = 42\n"
     ]
    }
   ],
   "source": [
    "x = 42\n",
    "\n",
    "print(\"x =\", x)    # \"regular\" print\n",
    "\n",
    "print(  f\"{x = }\" )  # f-string print"
   ]
  },
  {
   "cell_type": "code",
   "execution_count": 4,
   "metadata": {
    "id": "U5bnIoY_DkAp"
   },
   "outputs": [
    {
     "name": "stdout",
     "output_type": "stream",
     "text": [
      "Poptarts? I'll take 40!\n",
      "Poptarts? I'll take 41!\n",
      "Poptarts? I'll take 42!\n"
     ]
    }
   ],
   "source": [
    "\"\"\"wrong = 41\"\"\"\n",
    "snack = \"Poptarts\"\n",
    "\n",
    "# fs = f\"{snack}? I'll take {wrong+1}!\"\n",
    "# print(fs)\n",
    "\n",
    "for i in range(40,42+1):\n",
    "    print(f\"{snack}? I'll take {i}!\")\n"
   ]
  },
  {
   "cell_type": "markdown",
   "metadata": {
    "id": "X-HjbMXSDkAp"
   },
   "source": [
    "#### Notice that variables persist from cell to cell...\n",
    "\n",
    "Here, ``L`` and ``colleges`` are variables defined above.\n",
    "Their values are still present:\n"
   ]
  },
  {
   "cell_type": "code",
   "execution_count": 5,
   "metadata": {
    "id": "G8Hb1QwiDkAp"
   },
   "outputs": [
    {
     "name": "stdout",
     "output_type": "stream",
     "text": [
      "L=[7, 8, 9]  L.index(9) is 2\n",
      "\n",
      "colleges.title() returns  Cmc Scripps Pitzer Hmc\n",
      "\n",
      "# of c's in colleges: 4\n",
      "\n",
      "CmC sCripps pitzer hmC\n"
     ]
    }
   ],
   "source": [
    "print(f\"{L=}  L.index(9) is\", L.index(9))     # calling methods (functions after a \".\")\n",
    "print()\n",
    "print(\"colleges.title() returns \", colleges.title())        # ditto!  Let's shout!\n",
    "print()\n",
    "print(\"# of c's in colleges:\", colleges.count('c'))\n",
    "print()\n",
    "print(colleges.replace('c','C'))"
   ]
  },
  {
   "cell_type": "markdown",
   "metadata": {
    "id": "EW6ummlpDkAp"
   },
   "source": [
    "#### ``split`` is a _really_ useful function\n",
    "\n",
    "Notice that it is called <i>by</i> the string being split.\n",
    "\n",
    "It returns a list!\n",
    "\n",
    "(Q'n: <i>How in the input being used?</i>)\n"
   ]
  },
  {
   "cell_type": "code",
   "execution_count": 6,
   "metadata": {
    "id": "0t7YvsXoDkAp"
   },
   "outputs": [
    {
     "name": "stdout",
     "output_type": "stream",
     "text": [
      "LoW is ['cmc', 'scripps', 'pitzer', 'hmc']\n",
      "LoS is ['', 'm', ' s', 'ripps pitzer hm', '']\n"
     ]
    }
   ],
   "source": [
    "LoW = colleges.split()\n",
    "print(\"LoW is\", LoW)\n",
    "\n",
    "LoS = colleges.split('c')\n",
    "print(\"LoS is\", LoS)"
   ]
  },
  {
   "cell_type": "markdown",
   "metadata": {
    "id": "B9m1CwufDkAp"
   },
   "source": [
    "#### ``join`` is the _opposite_ of split"
   ]
  },
  {
   "cell_type": "code",
   "execution_count": 7,
   "metadata": {
    "id": "7rwwKkd6DkAp"
   },
   "outputs": [
    {
     "data": {
      "text/plain": [
       "'wordleisawesome'"
      ]
     },
     "execution_count": 7,
     "metadata": {},
     "output_type": "execute_result"
    }
   ],
   "source": [
    "LoW = [ \"word\", \"leisa\", \"we\", \"some\" ]\n",
    "''.join(LoW)"
   ]
  },
  {
   "cell_type": "markdown",
   "metadata": {
    "id": "WWItJeFBDkAq"
   },
   "source": [
    "#### <font color=\"Coral\">Fourth task</font>: &nbsp; add another example in the spirit of the one below...\n",
    "+ create (at least) three more variables and\n",
    "+ a sentence using all of them and\n",
    "+ render them in a single strings using f-strings...    \n",
    "\n",
    "Experiment!"
   ]
  },
  {
   "cell_type": "code",
   "execution_count": 11,
   "metadata": {
    "id": "b41COs-WDkAq"
   },
   "outputs": [
    {
     "name": "stdout",
     "output_type": "stream",
     "text": [
      "hello from Chongqing, where the weather is windy, where we are shopping...!\n",
      "\n",
      "I go to Webb! I like playing baseball.\n"
     ]
    }
   ],
   "source": [
    "#\n",
    "# f-strings!\n",
    "#\n",
    "\n",
    "city = \"Chongqing\"\n",
    "weather = \"windy\"\n",
    "activity = \"shopping\"\n",
    "\n",
    "print(f\"hello from {city}, where the weather is {weather}, where we are {activity}...!\")\n",
    "print()\n",
    "\n",
    "school = \"Webb\"\n",
    "sport = \"baseball\"\n",
    "print(f\"I go to {school}! I like playing {sport}.\")\n",
    "\n",
    "#\n",
    "# Feel free to create your own quippy example here or in a new cell...\n",
    "#"
   ]
  },
  {
   "cell_type": "markdown",
   "metadata": {
    "id": "yvZBGSKPDkAq"
   },
   "source": [
    "#### **Remember**  _list comprehensions_  ?\n",
    "+ they are \"loops-in-lists\"\n",
    "+ or \"lists-with-loops\"\n",
    "\n"
   ]
  },
  {
   "cell_type": "code",
   "execution_count": 12,
   "metadata": {
    "id": "9siikLqVDkAq"
   },
   "outputs": [
    {
     "data": {
      "text/plain": [
       "[40, 42, 44, 46]"
      ]
     },
     "execution_count": 12,
     "metadata": {},
     "output_type": "execute_result"
    }
   ],
   "source": [
    "# I <3 list comprehensions!\n",
    "[ 2*x for x in range(20,24) ]"
   ]
  },
  {
   "cell_type": "code",
   "execution_count": 13,
   "metadata": {
    "id": "D3xqoTL4DkAq"
   },
   "outputs": [
    {
     "name": "stdout",
     "output_type": "stream",
     "text": [
      "LC = [0, 2, 4, 6, 8, 10, 12, 14, 16, 18, 20, 22, 24, 26, 28, 30, 32, 34, 36, 38, 40, 42, 44, 46, 48, 50, 52, 54, 56, 58, 60, 62, 64, 66, 68, 70, 72, 74, 76, 78, 80, 82, 84, 86, 88, 90, 92, 94, 96, 98, 100, 102, 104, 106, 108, 110, 112, 114, 116, 118, 120, 122, 124, 126, 128, 130, 132, 134, 136, 138, 140, 142, 144, 146, 148, 150, 152, 154, 156, 158, 160, 162, 164, 166, 168, 170, 172, 174, 176, 178, 180, 182, 184, 186, 188, 190, 192, 194, 196, 198, 200, 202, 204, 206, 208, 210, 212, 214, 216, 218, 220, 222, 224, 226, 228, 230, 232, 234, 236, 238, 240, 242, 244, 246, 248, 250, 252, 254, 256, 258, 260, 262, 264, 266, 268, 270, 272, 274, 276, 278, 280, 282, 284, 286, 288, 290, 292, 294, 296, 298, 300, 302, 304, 306, 308, 310, 312, 314, 316, 318, 320, 322, 324, 326, 328, 330, 332, 334, 336, 338, 340, 342, 344, 346, 348, 350, 352, 354, 356, 358, 360, 362, 364, 366, 368, 370, 372, 374, 376, 378, 380, 382, 384, 386, 388, 390, 392, 394, 396, 398, 400, 402, 404, 406, 408, 410, 412, 414, 416, 418, 420, 422, 424, 426, 428, 430, 432, 434, 436, 438, 440, 442, 444, 446, 448, 450, 452, 454, 456, 458, 460, 462, 464, 466, 468, 470, 472, 474, 476, 478, 480, 482, 484, 486, 488, 490, 492, 494, 496, 498, 500, 502, 504, 506, 508, 510, 512, 514, 516, 518, 520, 522, 524, 526, 528, 530, 532, 534, 536, 538, 540, 542, 544, 546, 548, 550, 552, 554, 556, 558, 560, 562, 564, 566, 568, 570, 572, 574, 576, 578, 580, 582, 584, 586, 588, 590, 592, 594, 596, 598, 600, 602, 604, 606, 608, 610, 612, 614, 616, 618, 620, 622, 624, 626, 628, 630, 632, 634, 636, 638, 640, 642, 644, 646, 648, 650, 652, 654, 656, 658, 660, 662, 664, 666, 668, 670, 672, 674, 676, 678, 680, 682, 684, 686, 688, 690, 692, 694, 696, 698, 700, 702, 704, 706, 708, 710, 712, 714, 716, 718, 720, 722, 724, 726, 728, 730, 732, 734, 736, 738, 740, 742, 744, 746, 748, 750, 752, 754, 756, 758, 760, 762, 764, 766, 768, 770, 772, 774, 776, 778, 780, 782, 784, 786, 788, 790, 792, 794, 796, 798, 800, 802, 804, 806, 808, 810, 812, 814, 816, 818, 820, 822, 824, 826, 828, 830, 832, 834, 836, 838, 840, 842, 844, 846, 848, 850, 852, 854, 856, 858, 860, 862, 864, 866, 868, 870, 872, 874, 876, 878, 880, 882, 884, 886, 888, 890, 892, 894, 896, 898, 900, 902, 904, 906, 908, 910, 912, 914, 916, 918, 920, 922, 924, 926, 928, 930, 932, 934, 936, 938, 940, 942, 944, 946, 948, 950, 952, 954, 956, 958, 960, 962, 964, 966, 968, 970, 972, 974, 976, 978, 980, 982, 984, 986, 988, 990, 992, 994, 996, 998]\n",
      "\n",
      "answer = 500\n"
     ]
    }
   ],
   "source": [
    "#\n",
    "# Here is an example that uses list comprehensions to\n",
    "# count how many of the first 1000 integers are even\n",
    "\n",
    "LC = [ x for x in range(1000) if x % 2 == 0 ]\n",
    "print(f\"LC = {LC}\")\n",
    "print()\n",
    "\n",
    "answer = len(LC)\n",
    "print(f\"answer = {answer}\")\n"
   ]
  },
  {
   "cell_type": "markdown",
   "metadata": {
    "id": "sSW6Gr7XDkAq"
   },
   "source": [
    "#### <font color=\"Coral\">Fifth task</font>: &nbsp; <b>LC Challenge</b>\n",
    "\n",
    "Use list comprehensions to find how many of the first 1000 integers, _when squared_, contain the digit 4?\n",
    "+ Remember: ``str(x)`` converts ``x`` to a string\n",
    "\n",
    "Then, create a variation of this question -- of your own design -- and answer it! For example,\n",
    "+ what about checking for ``'4'`` and ``'2'`` ?\n",
    "+ what about checking for ``'4'`` or ``'2'`` ?\n",
    "+ even better: something else you've devised!\n",
    "\n",
    "Then , in a sentence-ish, explain your thinking:\n",
    "  + <i>why that question</i>\n",
    "  + <i>how did you answer it computationally?</i>\n",
    "  + <i>does the answer seem reasonable?</i>"
   ]
  },
  {
   "cell_type": "code",
   "execution_count": null,
   "metadata": {
    "id": "NYZlx_mSDkAq"
   },
   "outputs": [],
   "source": [
    "# remember pwd? It's short for \"print working directory\"  (that is, your current folder)\n",
    "# It's a shell command, i.e., to be run at the terminal or command-line (or shell).\n",
    "\n",
    "# Since this is not python, python needs to know it's a special command:  %pwd does the trick\n",
    "%pwd"
   ]
  },
  {
   "cell_type": "code",
   "execution_count": null,
   "metadata": {
    "id": "vZcFAD0xDkAq"
   },
   "outputs": [],
   "source": [
    "# Another important shell command:  ls (lists contents)\n",
    "%ls"
   ]
  },
  {
   "cell_type": "code",
   "execution_count": null,
   "metadata": {
    "id": "i2NYKhn9DkAq"
   },
   "outputs": [],
   "source": [
    "# the following cell shows cd, changing the current directory.\n",
    "# We will also try cd .. (to \"move up\" one level)\n",
    "\n",
    "# WARNING:  when cd does work, the _whole notebook_ has changed what it considers\n",
    "#           its \"current directory\"  You'll see this here:\n",
    "%cd intro_first"
   ]
  },
  {
   "cell_type": "code",
   "execution_count": null,
   "metadata": {
    "id": "BbsNDJvNDkAq"
   },
   "outputs": [],
   "source": [
    "# And, we need to be able to move \"up\" or \"outward\"!\n",
    "# To do this, use   cd ..     Here, in jupyter:\n",
    "\n",
    "%cd .."
   ]
  },
  {
   "cell_type": "code",
   "execution_count": null,
   "metadata": {
    "id": "AF1bK3ahDkAq"
   },
   "outputs": [],
   "source": [
    "# we can keep going!   cd .. \"goes up\" one directory level\n",
    "%cd .."
   ]
  },
  {
   "cell_type": "code",
   "execution_count": null,
   "metadata": {
    "id": "Fol2wm3cDkAq"
   },
   "outputs": [],
   "source": [
    "# you don't need a new cell each time...\n",
    "%pwd"
   ]
  },
  {
   "cell_type": "code",
   "execution_count": null,
   "metadata": {
    "id": "iCNpfKJlDkAq"
   },
   "outputs": [],
   "source": [
    "# Really, each notebook cell is a script, sharing state with the others\n",
    "\n",
    "# Here, our code is guarded by an if True:\n",
    "\n",
    "if False:\n",
    "    print(f\"It was True!\")\n",
    "\n",
    "# try changing the True to False.\n",
    "# There's no need to change the printing, because it won't print...\n",
    "\n",
    "# When submitting notebooks, we ask you to submit notebooks that run...\n",
    "# However, feel free to keep any+all non-running code! Simply comment it out\n",
    "# For example, with if False:\n",
    "# hashtags and \"\"\" triple-quoted strings \"\"\" also work ...\n",
    "# ... though they lose the code-structure and syntax highlighting! (As you see! :-)"
   ]
  },
  {
   "cell_type": "code",
   "execution_count": null,
   "metadata": {
    "id": "Fj9hL_l6DkAq"
   },
   "outputs": [],
   "source": [
    "# reminder: in each cell (script) all lines are run; only the last line is output\n",
    "y = 58\n",
    "x = y-7\n",
    "x = x-1\n",
    "x = x-8\n",
    "x"
   ]
  },
  {
   "cell_type": "code",
   "execution_count": null,
   "metadata": {
    "id": "7Zl0eWvZDkAq"
   },
   "outputs": [],
   "source": [
    "# BEWARE:  Variables are global through the notebook!\n",
    "# Here, y will be 58, from the cell above... if you've run that cell!\n",
    "y"
   ]
  },
  {
   "cell_type": "markdown",
   "metadata": {
    "id": "3fzywE6kDkAq"
   },
   "source": [
    "#### Let's function!  A first example, `plus1` and  its tests..."
   ]
  },
  {
   "cell_type": "code",
   "execution_count": null,
   "metadata": {
    "id": "VRpOBVjaDkAq"
   },
   "outputs": [],
   "source": [
    "# a good starting point!\n",
    "\n",
    "def plus1( N ):\n",
    "    \"\"\" returns a number one larger than its input \"\"\"\n",
    "    return N+1\n",
    "\n",
    "if True:\n",
    "    print(f\"plus1(41) -> {plus1(41)} should be {42}\")\n",
    "    print(f\"plus1(9000) -> {plus1(9000)} should be {9001}\")\n",
    "    assert plus1(41) == 42\n",
    "    assert plus1(9000) == 9001\n",
    "\n",
    "# print tests succeed and fail \"out loud\"\n",
    "# assert tests succeed silently and only fail \"out loud\" (and crash!)"
   ]
  },
  {
   "cell_type": "markdown",
   "metadata": {
    "id": "_mvNZ6FoDkAq"
   },
   "source": [
    "### Let's loop!\n",
    "\n",
    "Below,\n",
    "+ run this infinite loop - a while loop\n",
    "+ practice using the \"Interrupt\" (the square at the upper left of the cell) to kill it\n",
    "+ then, use the three-dots menu at the lower left to delete the cell's output...\n"
   ]
  },
  {
   "cell_type": "code",
   "execution_count": null,
   "metadata": {
    "id": "WPWcQHztDkAq"
   },
   "outputs": [],
   "source": [
    "#\n",
    "# An infinite loop...\n",
    "#\n",
    "\n",
    "print(f\"Start!\")\n",
    "i = 0\n",
    "\n",
    "while True:\n",
    "    print(i, end=\" \", flush=True)\n",
    "    i = i+1\n",
    "\n",
    "print(f\"End.\")\n"
   ]
  },
  {
   "cell_type": "markdown",
   "metadata": {
    "id": "a6Cjl46XDkAq"
   },
   "source": [
    "#### For-loop reminders...."
   ]
  },
  {
   "cell_type": "code",
   "execution_count": null,
   "metadata": {
    "id": "3tsT_rpPDkAq"
   },
   "outputs": [],
   "source": [
    "#\n",
    "# Let's loop!\n",
    "#\n",
    "\n",
    "snack = \"Poptarts\"\n",
    "\n",
    "for i in range(0,5):\n",
    "        print(f\"{snack}? I'll take {i}!\")"
   ]
  },
  {
   "cell_type": "code",
   "execution_count": null,
   "metadata": {
    "id": "SdSv8rq-DkAt"
   },
   "outputs": [],
   "source": [
    "# countdown( N )    emphasizes looping and printing (there is no return value!)\n",
    "#\n",
    "import time\n",
    "\n",
    "def countdown( N ):\n",
    "    \"\"\" counts downward from N to 0, printing  \"\"\"\n",
    "    for i in range(N,-1,-1):  # starts at N, ends at 0, steps by -1\n",
    "        print(\"i ==\", i)\n",
    "        time.sleep(0.2)\n",
    "\n",
    "    return    # no return value here!\n",
    "\n",
    "# testing countdown\n",
    "if True:\n",
    "    print(\"Testing countdown(5):\")\n",
    "    countdown(5)  # should print things -- with dramatic pauses!"
   ]
  },
  {
   "cell_type": "markdown",
   "metadata": {
    "id": "630SFsYhDkAt"
   },
   "source": [
    "#### The next cell shows a larger <b>script</b>, which calls the previous two functions:"
   ]
  },
  {
   "cell_type": "code",
   "execution_count": null,
   "metadata": {
    "id": "H0l7AEL5DkAt"
   },
   "outputs": [],
   "source": [
    "if True:\n",
    "    \"\"\" a cell for trying out the previous two cells \"\"\"\n",
    "\n",
    "    # sign on\n",
    "    print(f\"[[ Start! ]]\\n\")\n",
    "\n",
    "    # testing plus1\n",
    "    result = plus1( 41 )\n",
    "    print(f\"plus1(41) -> {result}\")\n",
    "    print()\n",
    "\n",
    "    # testing countdown\n",
    "    print(\"Testing countdown(4):\")\n",
    "    countdown(4)  # should print things -- with dramatic pauses!\n",
    "\n",
    "    # sign off\n",
    "    print(\"\\n[[ Fin. ]]\")"
   ]
  },
  {
   "cell_type": "markdown",
   "metadata": {
    "id": "2OEw-Vs8DkAt"
   },
   "source": [
    "#### The two mystery functions from our in-class exercise:"
   ]
  },
  {
   "cell_type": "code",
   "execution_count": null,
   "metadata": {
    "id": "G9sqryCdDkAt"
   },
   "outputs": [],
   "source": [
    "def mystery1( s ):\n",
    "    \"\"\" mystery function #1 \"\"\"\n",
    "    result = 0\n",
    "\n",
    "    for i in range(len(s)):\n",
    "        if s[i] in 'iI':\n",
    "            result += 1\n",
    "\n",
    "    return result\n",
    "\n",
    "result = mystery1(\"Aliens <3 caffeine\")\n",
    "print(result)"
   ]
  },
  {
   "cell_type": "code",
   "execution_count": null,
   "metadata": {
    "id": "Bn0XOnTLDkAu"
   },
   "outputs": [],
   "source": [
    "def mystery2( s ):\n",
    "    \"\"\" mystery function #2 \"\"\"\n",
    "    result = 0\n",
    "\n",
    "    for let in s:\n",
    "        if let in 'iI':\n",
    "            result += let\n",
    "\n",
    "    return result\n",
    "\n",
    "result = mystery2(\"I like caffeine\")\n",
    "print(result)"
   ]
  },
  {
   "cell_type": "markdown",
   "metadata": {
    "id": "FMMANXBdDkAu"
   },
   "source": [
    "#### Let's show two more functions:  \n",
    "+ ``count_eyes( s )`` and\n",
    "+ ``just_eyes( s )``"
   ]
  },
  {
   "cell_type": "code",
   "execution_count": null,
   "metadata": {
    "id": "07xHdVJNDkAu"
   },
   "outputs": [],
   "source": [
    "def count_eyes( s ):\n",
    "    \"\"\" returns the number of times i or I appears in the input string s \"\"\"\n",
    "    result = 0\n",
    "\n",
    "    for letter in s:\n",
    "        if letter in 'iI':  #  equivalent:   letter == 'i' or letter == 'I'\n",
    "            result += 1     #  add one to our overall result (our count)\n",
    "\n",
    "    return result           #  AFTER the loop, we're done!\n",
    "\n",
    "print(\"count_eyes('Yiiikes!') =\",count_eyes('Yiiikes!'))\n",
    "print(f\"{count_eyes('Yiiikes!') = }\")   # f-strings ⋮)\n",
    "print()\n",
    "print(f\"{count_eyes('Italy, icily, livelily!') = }\")"
   ]
  },
  {
   "cell_type": "code",
   "execution_count": null,
   "metadata": {
    "id": "V0ROn0yBDkAu"
   },
   "outputs": [],
   "source": [
    "def just_eyes( s ):\n",
    "    \"\"\" returns a string of only the letters i or I that appear in the input s \"\"\"\n",
    "    result = ''\n",
    "\n",
    "    for letter in s:\n",
    "        if letter in 'iI':    #  equivalent:   letter == 'i' or letter == 'I'\n",
    "            result += letter  #  add _the letter_ to our overall result, now a string\n",
    "\n",
    "    return result             #  AFTER the loop, we're done!\n",
    "\n",
    "print(\"just_eyes('Yiiikes!') =\",just_eyes('Yiiikes!'))\n",
    "print(f\"{just_eyes('Yiiikes!') = }\")   # f-strings ⋮)\n",
    "print()\n",
    "print(f\"{just_eyes('Italy, icily, livelily!') = }\")"
   ]
  },
  {
   "cell_type": "code",
   "execution_count": null,
   "metadata": {
    "id": "VYaVQJrJDkAu"
   },
   "outputs": [],
   "source": [
    "def GET_STRING_FROM_FILE(filename=None):\n",
    "    \"\"\" return all of the contents from the file, filename\n",
    "        will error if the file is not present, then return the empty string ''\n",
    "    \"\"\"\n",
    "    try:\n",
    "        if filename == None:  filename = \"input.txt\"\n",
    "        INPUT_FILENAME = filename\n",
    "        INPUT_FILE = open(INPUT_FILENAME, \"r\", encoding='utf-8')    # how to open a file\n",
    "        DATA = INPUT_FILE.read()                                    # and get all its contents\n",
    "        INPUT_FILE.close()                                          # close the file (optional)\n",
    "        #print(DATA)                                                # if we want to see it\n",
    "        return DATA                                                 # definitely want to return it!\n",
    "    except FileNotFoundError:                   # wasn't there\n",
    "        print(f\"file not found: {filename}\")    # print error\n",
    "        return ''                               # return empty string ''\n",
    "\n",
    "# split is a wonderful function, it returns a list.  Try it!\n",
    "INPUT_STRING = GET_STRING_FROM_FILE(\"input.txt\")\n",
    "\n",
    "# Let's print only some of this large string, with all of Shakespeare's sonnets:\n",
    "print(INPUT_STRING[0:200])\n"
   ]
  },
  {
   "cell_type": "markdown",
   "metadata": {
    "id": "4pm9F9ZrDkAu"
   },
   "source": [
    "#### Now, let's test our ``count_eyes`` function on all of the Sonnets:"
   ]
  },
  {
   "cell_type": "code",
   "execution_count": null,
   "metadata": {
    "id": "sgdUj6sZDkAu"
   },
   "outputs": [],
   "source": [
    "INPUT_STRING = GET_STRING_FROM_FILE(\"input.txt\")\n",
    "INPUT_LIST = INPUT_STRING.split(\"\\n\")  # '\\n'\n",
    "\n",
    "for s in INPUT_LIST:                   # Let's test it on each string (line) in our list\n",
    "    inp = s                            # the input\n",
    "    out = count_eyes(inp)              # the output\n",
    "    # print(f\"{inp} -> {out}\")           # print result\n",
    "    print(f\"{inp:>50s} -> {out:<d}\")   # f-strings have formatting options: (> right) (< left)"
   ]
  },
  {
   "cell_type": "markdown",
   "metadata": {
    "id": "_1Tak8e-DkAu"
   },
   "source": [
    "#### Now, let's <i>maximize</i> our ``count_eyes`` across all Sonnet lines:"
   ]
  },
  {
   "cell_type": "code",
   "execution_count": null,
   "metadata": {
    "id": "XGrzOR5lDkAu"
   },
   "outputs": [],
   "source": [
    "INPUT_STRING = GET_STRING_FROM_FILE(\"input.txt\")\n",
    "INPUT_LIST = INPUT_STRING.split(\"\\n\")  # '\\n'\n",
    "\n",
    "AllResults = []\n",
    "\n",
    "for s in INPUT_LIST:                   # Let's test it on each string (line) in our list\n",
    "    inp = s                            # the input\n",
    "    out = count_eyes(inp)              # the output\n",
    "    # print(f\"{inp} -> {out}\")           # print result\n",
    "    print(f\"{inp:>50s} -> {out:<d}\")   # f-strings have formatting options: (> right) (< left)\n",
    "    AllResults.append( [out,inp] )       # append the output and input as a _sublist_\n",
    "\n",
    "maximum_line = max(AllResults)          # take the maximum\n",
    "print(\"The max and maximum line:\", maximum_line)"
   ]
  },
  {
   "cell_type": "markdown",
   "metadata": {
    "id": "OnsO3NG_DkAu"
   },
   "source": [
    "#### Thoughts on the most i-y line:\n",
    "\n",
    "The line with the most 'i's was ``So CS35_Participant_2 lives this and this gives life to thee.``\n",
    "\n",
    "Of all the sonnets, I'm surprised that no line contained more than 5 \"i\"s.\n",
    "\n",
    "But, trying it again looking for 't's, the result was again 5! It was\n",
    "\n",
    "``When in eternal lines to time thou growest:``\n",
    "\n",
    "Maybe 5 is a more reasonable maximum than originally thought. (There are fewer than 50 characters per line, after all...)."
   ]
  },
  {
   "cell_type": "markdown",
   "metadata": {
    "id": "Rg2aqWWIDkAu"
   },
   "source": [
    "#### <b><font color=\"Coral\">Functions</font></b> to write for hw0pr1\n",
    "+ Python's <tt>str</tt> functions are documented at this [str documentation page](https://docs.python.org/3/library/stdtypes.html#text-sequence-type-str)\n",
    "  + find and read over how <tt>split</tt> works... (that way, too, you'll have a feel for the documentation)\n",
    "+ Python's <tt>string</tt> library, used via <tt>import string</tt> is at [the string library documentation page](https://docs.python.org/3/library/string.html)\n",
    "  + this has some useful constants and other capabilities. Most functionality is in the <tt>str</tt> datatype (class)\n",
    "  + not needed but fun: [all of Python's built-in modules](https://docs.python.org/3/py-modindex.html)\n",
    "+ Be sure to include at least two tests that run - and work - for each of these functions."
   ]
  },
  {
   "cell_type": "code",
   "execution_count": 14,
   "metadata": {
    "id": "931WNVqbDkAu"
   },
   "outputs": [
    {
     "name": "stdout",
     "output_type": "stream",
     "text": [
      "0123456789\n",
      "!\"#$%&'()*+,-./:;<=>?@[\\]^_`{|}~\n",
      "abcdefghijklmnopqrstuvwxyz\n"
     ]
    }
   ],
   "source": [
    "#\n",
    "# using python's string library\n",
    "#\n",
    "\n",
    "import string\n",
    "\n",
    "print(string.digits)\n",
    "print(string.punctuation)\n",
    "print(string.ascii_lowercase)"
   ]
  },
  {
   "cell_type": "code",
   "execution_count": null,
   "metadata": {
    "id": "R-J-kekkDkAu"
   },
   "outputs": [],
   "source": [
    "# plus1, countdown, count_eyes, and just_eyes are already complete :-)"
   ]
  },
  {
   "cell_type": "code",
   "execution_count": 18,
   "metadata": {
    "id": "MkHdARNLDkAu"
   },
   "outputs": [
    {
     "name": "stdout",
     "output_type": "stream",
     "text": [
      "Test 1: Printing 'Hello'\n",
      "Hello\n",
      "Hello\n",
      "Hello\n",
      "Hello\n",
      "Hello\n",
      "Hello\n",
      "Hello\n",
      "Hello\n",
      "Hello\n",
      "Hello\n",
      "Hello\n",
      "Hello\n",
      "Hello\n",
      "Hello\n",
      "Hello\n",
      "Hello\n",
      "Hello\n",
      "Hello\n",
      "Hello\n",
      "Hello\n",
      "Hello\n",
      "Hello\n",
      "Hello\n",
      "Hello\n",
      "Hello\n",
      "Hello\n",
      "Hello\n",
      "Hello\n",
      "Hello\n",
      "Hello\n",
      "Hello\n",
      "Hello\n",
      "Hello\n",
      "Hello\n",
      "Hello\n",
      "Hello\n",
      "Hello\n",
      "Hello\n",
      "Hello\n",
      "Hello\n",
      "Hello\n",
      "Hello\n",
      "Test 2: Printing 'Python is fun!'\n",
      "Python is fun!\n",
      "Python is fun!\n",
      "Python is fun!\n",
      "Python is fun!\n",
      "Python is fun!\n",
      "Python is fun!\n",
      "Python is fun!\n",
      "Python is fun!\n",
      "Python is fun!\n",
      "Python is fun!\n",
      "Python is fun!\n",
      "Python is fun!\n",
      "Python is fun!\n",
      "Python is fun!\n",
      "Python is fun!\n",
      "Python is fun!\n",
      "Python is fun!\n",
      "Python is fun!\n",
      "Python is fun!\n",
      "Python is fun!\n",
      "Python is fun!\n",
      "Python is fun!\n",
      "Python is fun!\n",
      "Python is fun!\n",
      "Python is fun!\n",
      "Python is fun!\n",
      "Python is fun!\n",
      "Python is fun!\n",
      "Python is fun!\n",
      "Python is fun!\n",
      "Python is fun!\n",
      "Python is fun!\n",
      "Python is fun!\n",
      "Python is fun!\n",
      "Python is fun!\n",
      "Python is fun!\n",
      "Python is fun!\n",
      "Python is fun!\n",
      "Python is fun!\n",
      "Python is fun!\n",
      "Python is fun!\n",
      "Python is fun!\n"
     ]
    }
   ],
   "source": [
    "#\n",
    "# times42( s ):      \twhich should print the string s 42 times (on separate lines)\n",
    "#\n",
    "\n",
    "def times42( s ):\n",
    "    ''' Prints the string s exactly 42 times, each on a new line.\n",
    "    '''\n",
    "    for _ in range(42):\n",
    "        print(s)\n",
    "    pass\n",
    "\n",
    "print(\"Test 1: Printing 'Hello'\")\n",
    "times42(\"Hello\")\n",
    "\n",
    "print(\"Test 2: Printing 'Python is fun!'\")\n",
    "times42(\"Python is fun!\")"
   ]
  },
  {
   "cell_type": "code",
   "execution_count": 20,
   "metadata": {
    "id": "cmSaM3uvDkAu"
   },
   "outputs": [
    {
     "name": "stdout",
     "output_type": "stream",
     "text": [
      "Test 1: aliiiiien\n",
      "Test 2: aliiiiiiiiiien\n"
     ]
    }
   ],
   "source": [
    "#\n",
    "# alien( N ):          \twhich should return the string \"aliii...iiien\" with exactly N \"i\"s\n",
    "#\n",
    "\n",
    "def alien( N ):\n",
    "    ''' Returns the string 'aliii...iiien' with exactly N \"i\" characters.\n",
    "    '''\n",
    "    if N < 0:\n",
    "        return \"Error: N must be a non-negative integer.\"\n",
    "    \n",
    "    return \"al\" + \"i\" * N + \"en\"\n",
    "    pass\n",
    "\n",
    "print(\"Test 1:\", alien(5))\n",
    "print(\"Test 2:\", alien(10))"
   ]
  },
  {
   "cell_type": "code",
   "execution_count": 22,
   "metadata": {
    "id": "vwgWQi39DkAu"
   },
   "outputs": [
    {
     "name": "stdout",
     "output_type": "stream",
     "text": [
      "Test 1 3\n",
      "Test 2 0\n"
     ]
    }
   ],
   "source": [
    "#\n",
    "# count_digits( s ):   returns the number of digits in the input string s\n",
    "#\n",
    "\n",
    "def count_digits( s ):\n",
    "    ''' Returns the number of digits in the input string s. '''\n",
    "    return sum(1 for char in s if char.isdigit())\n",
    "    pass\n",
    "\n",
    "print(\"Test 1\", count_digits(\"abc123\"))\n",
    "print(\"Test 2\", count_digits(\"no\"))"
   ]
  },
  {
   "cell_type": "code",
   "execution_count": null,
   "metadata": {
    "id": "k9zmNbyIDkAu"
   },
   "outputs": [
    {
     "name": "stdout",
     "output_type": "stream",
     "text": [
      "Test 1: 123\n",
      "Test 2: \n"
     ]
    }
   ],
   "source": [
    "#\n",
    "# just_digits( s ):   returns only the digits in the input string s\n",
    "#\n",
    "\n",
    "def just_digits( s ):\n",
    "    ''' Returns a string containing only the digits from the input string s. '''\n",
    "    return \"\".join(char for char in s if char.isdigit())\n",
    "\n",
    "    pass\n",
    "\n",
    "print(\"Test 1:\", just_digits(\"abc123\"))\n",
    "print(\"Test 2:\", just_digits(\"no\"))"
   ]
  },
  {
   "cell_type": "code",
   "execution_count": 24,
   "metadata": {
    "id": "s_i2ogDUDkAu"
   },
   "outputs": [
    {
     "name": "stdout",
     "output_type": "stream",
     "text": [
      "Test 1: hello webb \n",
      "Test 2: cs is cool\n"
     ]
    }
   ],
   "source": [
    "#\n",
    "# just_text( s ):   returns a new version of s, where\n",
    "#                    everything has been lower-cased, and\n",
    "#                    all non-letters and non-spaces have been removed\n",
    "#                    (that is, just keep the \"text\")\n",
    "#\n",
    "#                    Hint: s.lower() returns an all lower-case version of s\n",
    "\n",
    "def just_text( s ):\n",
    "    f''' return lowercased, keeping only letters and spaces\n",
    "    '''\n",
    "    return \"\".join(char.lower() for char in s if char.isalpha() or char.isspace())\n",
    "    pass\n",
    "\n",
    "print(\"Test 1:\", just_text(\"Hello, Webb! 123\"))\n",
    "print(\"Test 2:\", just_text(\"CS is COOL!\"))"
   ]
  },
  {
   "cell_type": "markdown",
   "metadata": {
    "id": "O32D5nHfDkAv"
   },
   "source": [
    "#### Then, add two functions that you brainstorm, implement, and test...\n",
    "\n",
    "Here are a couple of examples - one of mine and one from a prior cs35 - to help the brainstorming.\n",
    "\n",
    "The key is that yours should be, well, yours! That is, something that would only have been created by you/your team -- explain the reasoning, the process you went through, and the process that ended up working.\n",
    "\n",
    "Here, both algorithmic creativity and content creativity are equally the goal. That said, the aim is 15-20 minutes. (Remember you can always adapt the individualized outcome you're aiming for!)\n"
   ]
  },
  {
   "cell_type": "code",
   "execution_count": 29,
   "metadata": {
    "id": "rD_PLmWPDkAv"
   },
   "outputs": [
    {
     "name": "stdout",
     "output_type": "stream",
     "text": [
      "fun is CS\n",
      "Disneyland\n"
     ]
    }
   ],
   "source": [
    "def reverse_words(s):\n",
    "    words = s.strip().split()\n",
    "    \n",
    "   \n",
    "    if not words:\n",
    "        return \"Please reenter actual words to reverse\"\n",
    "\n",
    "    reversed_sentence = \" \".join(words[::-1])\n",
    "\n",
    "    return reversed_sentence\n",
    "\n",
    "#\n",
    "# The reasoning behind this function is the influence from the earlier functions I had to write for hw0pr1. I originally wanted to just reverse the letters, but thought it would be too easy. I had to think for a while on how I can reverse the words instead of the letters. The process that ended up working was thinking about how the code for reversing the letters work and working from there.\n",
    "#\n",
    "print(reverse_words(\"CS is fun\"))\n",
    "print(reverse_words(\"Disneyland\"))\n"
   ]
  },
  {
   "cell_type": "code",
   "execution_count": null,
   "metadata": {
    "id": "PhKufs9_DkAv"
   },
   "outputs": [
    {
     "name": "stdout",
     "output_type": "stream",
     "text": [
      "hELLO wORLD!\n",
      "pUIUINIUnininuninIUNINJNIJNjnjninjNJINInjinijnJINijnijninjnininij\n"
     ]
    }
   ],
   "source": [
    "def falsereality(s):\n",
    "    return \"\".join(char.lower() if char.isupper() else char.upper() for char in s)\n",
    "\n",
    "\n",
    "#\n",
    "# I wanted to create something that is easy but also complicated at the same time. The process of creating this was just looking at past notes and doing some research online. The process worked great.\n",
    "\n",
    "print(falsereality(\"Hello World!\"))\n",
    "print(falsereality(\"PuiuiniuNININUNINiuninjnijnJNJNINJnjiniNJINIJNjinIJNIJNINJNININIJ\"))\n",
    "\n"
   ]
  },
  {
   "cell_type": "markdown",
   "metadata": {
    "id": "nuzrEhMrDkAv"
   },
   "source": [
    "#### <b><font color=\"Coral\">Reflections</font></b>\n",
    "\n",
    "In a short 4-6 sentence markdown cell, share\n",
    "+ Did you use AI?  (We hope so!)\n",
    "+ If so, which one(s)? was it helpful?\n",
    "+ Was there anything surprising about what it could help with?\n",
    "+ Was there anything surprising about what it _couldn't_ help with?\n",
    "\n",
    "Key question:\n",
    "+ Did you feel there was more reinforcement -- or more tension --    between \"helping accomplish\" and \"helping understand\"?"
   ]
  },
  {
   "cell_type": "markdown",
   "metadata": {},
   "source": [
    "I used Al alittle, just when I was stuck. ChatGPT was the one that I used due to its simplicity. Nothing really surprised me about what it could help me with. I was surprised that sometimes it would not get what I was trying to communicate with it."
   ]
  },
  {
   "cell_type": "markdown",
   "metadata": {
    "id": "tXHDNn-8DkAv"
   },
   "source": [
    "#### <b><font color=\"Coral\">Submitting</font></b>\n",
    "+ _Do_ keep your cell outputs intact: <i>Don't clear them</i>\n",
    "+ If needed, use your choice of \"commenting out\":\n",
    "+ `if False:` , `# hashes` , `''' triple quotes '''`   for code that does not work\n",
    "+ _Do_ add context in comments or markdown both for things that worked (optional and welcome) and for things that you didn't get working (it shows you _know_ it's not working!)\n",
    "\n"
   ]
  }
 ],
 "metadata": {
  "colab": {
   "provenance": []
  },
  "kernelspec": {
   "display_name": "Python 3",
   "language": "python",
   "name": "python3"
  },
  "language_info": {
   "codemirror_mode": {
    "name": "ipython",
    "version": 3
   },
   "file_extension": ".py",
   "mimetype": "text/x-python",
   "name": "python",
   "nbconvert_exporter": "python",
   "pygments_lexer": "ipython3",
   "version": "3.12.1"
  },
  "orig_nbformat": 4
 },
 "nbformat": 4,
 "nbformat_minor": 0
}
