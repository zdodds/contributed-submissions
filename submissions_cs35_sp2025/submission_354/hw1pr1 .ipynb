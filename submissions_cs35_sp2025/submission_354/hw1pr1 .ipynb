{
 "cells": [
  {
   "cell_type": "markdown",
   "metadata": {},
   "source": [
    "## hw1pr1: <i>Files!</i>\n",
    "+ walking through folders and files  (500 files - or many more!)\n",
    "+ analyzing, counting, inquiring, and <i>insight-producing</i> as we go!  "
   ]
  },
  {
   "cell_type": "code",
   "execution_count": 45,
   "metadata": {},
   "outputs": [
    {
     "data": {
      "text/plain": [
       "'/Users/jackyuan/Downloads/starting_notebooks'"
      ]
     },
     "execution_count": 45,
     "metadata": {},
     "output_type": "execute_result"
    }
   ],
   "source": [
    "# Where are we?\n",
    "%pwd"
   ]
  },
  {
   "cell_type": "code",
   "execution_count": null,
   "metadata": {},
   "outputs": [],
   "source": []
  },
  {
   "cell_type": "markdown",
   "metadata": {},
   "source": [
    "By the way, when I run the above cell on my desktop machine (Mac), the response is\n",
    "\n",
    "``'/Users/zacharydodds/Desktop/cs35/week1/starting_notebooks'``\n",
    "\n",
    "on a Windows laptop, the path uses a different separator. Mine is\n",
    "\n",
    "``'c:\\\\Users\\\\dodds\\\\OneDrive\\\\Desktop\\\\cs35\\\\week1\\\\starting_notebooks'``\n",
    "\n",
    "Your results will almost certainly differ.\n",
    "\n",
    "In fact, if they *don't* differ ... I'm _very_ interested! 🤔 🦔"
   ]
  },
  {
   "cell_type": "code",
   "execution_count": 20,
   "metadata": {},
   "outputs": [
    {
     "name": "stdout",
     "output_type": "stream",
     "text": [
      "\u001b[34mget_files_challenge_and_place_here\u001b[m\u001b[m/ \u001b[34mintro_first\u001b[m\u001b[m/\n",
      "hw1pr0.ipynb                        intro_first_ss_small.png\n",
      "hw1pr1.ipynb                        \u001b[34mintro_second\u001b[m\u001b[m/\n"
     ]
    }
   ],
   "source": [
    "# what's here?\n",
    "%ls"
   ]
  },
  {
   "cell_type": "code",
   "execution_count": 21,
   "metadata": {},
   "outputs": [
    {
     "name": "stdout",
     "output_type": "stream",
     "text": [
      "/Users/jackyuan/Downloads/starting_notebooks\n"
     ]
    },
    {
     "name": "stderr",
     "output_type": "stream",
     "text": [
      "/Library/Frameworks/Python.framework/Versions/3.12/lib/python3.12/site-packages/IPython/core/magics/osm.py:417: UserWarning: This is now an optional IPython functionality, setting dhist requires you to install the `pickleshare` library.\n",
      "  self.shell.db['dhist'] = compress_dhist(dhist)[-100:]\n"
     ]
    }
   ],
   "source": [
    "# to move around:  cd stands for \"change directory\" (a directory is a folder)\n",
    "#    %cd intro_first    would move into the intro_first folder\n",
    "#    %cd .. moves \"up\" to the containing directory\n",
    "#    %cd .  doesn't move at all:  .  represents the current directory    \n",
    "\n",
    "# For now, let's not move anywhere\n",
    "%cd ."
   ]
  },
  {
   "cell_type": "markdown",
   "metadata": {},
   "source": [
    "In 2024, my Mac setup succeeds with a ``UserWarning`` that tells me to install the ``pickleshare`` library.\n",
    "\n",
    "I refuse based on snack-sharing principles!\n",
    "\n",
    "One can only share freely, not under admonishment/warning!\n",
    "\n",
    "(If this happens to you - let me know and we'll fix it...)"
   ]
  },
  {
   "cell_type": "code",
   "execution_count": 23,
   "metadata": {},
   "outputs": [],
   "source": [
    "# we will use a few file-handling \"system\" libraries. \n",
    "# These are built-in to python, so nothing to install - just to import:\n",
    "import os\n",
    "import os.path"
   ]
  },
  {
   "cell_type": "markdown",
   "metadata": {},
   "source": [
    "On first glance, it seems we can't open the file ``nottrue.ipynb`` ...\n",
    "\n",
    "It's in the folder ``intro_first`` -- see if you can open it ..."
   ]
  },
  {
   "cell_type": "code",
   "execution_count": 25,
   "metadata": {},
   "outputs": [
    {
     "name": "stdout",
     "output_type": "stream",
     "text": [
      "+++ Contents of the file nottrue.ipynb: +++\n",
      "\n"
     ]
    }
   ],
   "source": [
    "#\n",
    "# In fact, we can read it - it's just not a .ipynb file!\n",
    "#\n",
    "# Try it here, for your system:\n",
    "\n",
    "print(\"+++ Contents of the file nottrue.ipynb: +++\\n\")\n",
    "\n",
    "# Mac:    !cat  <filepath>  using forward slashes\n",
    "#\n",
    "# !cat ./intro_first/nottrue.ipynb       \n",
    "\n",
    "# Windows:  type <filepath>  using backslashes\n",
    "#\n",
    "# !type .\\\\intro_first\\\\nottrue.ipynb       "
   ]
  },
  {
   "cell_type": "markdown",
   "metadata": {},
   "source": [
    "We *could* use the command-line ``cat`` or ``type`` one file at a time ...\n",
    "\n",
    "But, what if we have to walk _500 files_ ?!  <font size=\"-2\">(Alas, this joke stays around for at least this whole week!)</font>\n",
    "\n",
    "  + Then, we need a function - and script - to access its contents. \n",
    "  + We started this last week, let's revisit it again here:"
   ]
  },
  {
   "cell_type": "code",
   "execution_count": 26,
   "metadata": {},
   "outputs": [
    {
     "name": "stdout",
     "output_type": "stream",
     "text": [
      "file_contents:\n",
      "\n",
      " Hi, everyone in cs35!\n",
      "\n",
      "As you're seeing, t\n"
     ]
    }
   ],
   "source": [
    "#\n",
    "# function to return the contents of a file (as one-big-string)\n",
    "#\n",
    "\n",
    "def GET_STRING_FROM_FILE(filename_as_string):\n",
    "    \"\"\" return all of the contents from the file, filename\n",
    "        will error if the file is not present, then return the empty string ''\n",
    "    \"\"\"\n",
    "    try:\n",
    "        # the encoding below is a common default, but not universal...\n",
    "        file_object = open(filename_as_string, \"r\", encoding='utf-8')    # open! (Other encodings: 'latin-1', 'utf-16', 'utf-32') \n",
    "        file_data = file_object.read()                                   # and get all its contents\n",
    "        file_object.close()                                              # close the file (optional)\n",
    "        #print(DATA)                                                     # if we want to see it\n",
    "        return file_data                                                 # definitely want to return it!\n",
    "    except FileNotFoundError:                             # it wasn't there\n",
    "        print(f\"file not found: {filename_as_string}\")    # print error\n",
    "        return ''                                         # return empty string ''\n",
    "    except UnicodeDecodeError:\n",
    "        print(f\"decoding error: {filename_as_string}\")    # encoding/decoding error  \n",
    "        return ''                                         # return empty string ''\n",
    "\n",
    "\n",
    "full_file_path = \"./intro_first/nottrue.ipynb\"\n",
    "file_contents = GET_STRING_FROM_FILE(full_file_path)      # reminder: file_contents = file_data from above\n",
    "\n",
    "# Let's print only some of this potentially large string, adapting as needed:\n",
    "print(\"file_contents:\\n\\n\", file_contents[0:42])          # let's then increase the 42..."
   ]
  },
  {
   "cell_type": "markdown",
   "metadata": {},
   "source": [
    "Notice that, in Python, the Mac/forwardslash/style paths work, _even on Windows_"
   ]
  },
  {
   "cell_type": "code",
   "execution_count": 28,
   "metadata": {},
   "outputs": [
    {
     "name": "stdout",
     "output_type": "stream",
     "text": [
      "file_contents:\n",
      "\n",
      " CS for Insight\n"
     ]
    }
   ],
   "source": [
    "####  Let's try one of the other files!  (or a non-existent file!)\n",
    "\n",
    "full_file_path = \"./intro_first/cs/file35.txt\"    # how about the others?!\n",
    "file_contents = GET_STRING_FROM_FILE(full_file_path)     \n",
    "print(\"file_contents:\\n\\n\", file_contents[0:42])"
   ]
  },
  {
   "cell_type": "markdown",
   "metadata": {},
   "source": [
    "#### But, we have 500 files...\n",
    "\n",
    "Let's write <font color=\"DodgerBlue\">_steppingstone_ functions</font> to make sense of our 500 files...\n",
    "\n",
    "Let's start by reminding ourselves we can write a function that returns.\n",
    "\n",
    "We'll call this Version 0:"
   ]
  },
  {
   "cell_type": "code",
   "execution_count": 29,
   "metadata": {},
   "outputs": [
    {
     "name": "stdout",
     "output_type": "stream",
     "text": [
      "[[ Start! ]]\n",
      "\n",
      "result = 42\n",
      "\n",
      "[[ Fin. ]]\n"
     ]
    }
   ],
   "source": [
    "#\n",
    "# Steppingstone, Version 0: does Python work?\n",
    "#\n",
    "\n",
    "import os\n",
    "import os.path\n",
    "\n",
    "def file_walker(path):\n",
    "    \"\"\" starting from the input, named path\n",
    "        \n",
    "        this function \"walks\" the whole path, including subfolders\n",
    "        and then... explores any questions we might want :)\n",
    "\n",
    "        call, for example, with    file_walker(\"./intro_first\") \n",
    "    \"\"\"\n",
    "    return 42  # just to check that it's working (v0)    \n",
    "\n",
    "#\n",
    "# when discovering, keep your data close (and your functions closer!)\n",
    "#\n",
    "if True:\n",
    "    \"\"\" overall script that runs examples \"\"\"\n",
    "    print(f\"[[ Start! ]]\\n\")     # sign on\n",
    "\n",
    "    path = \"./intro_first\"       # Remember: . means the current directory\n",
    "    result = file_walker(path)   # Run!\n",
    "\n",
    "    print(f\"result = {result}\")  # Yay for f-strings!\n",
    "\n",
    "    print(\"\\n[[ Fin. ]]\")        # sign off\n"
   ]
  },
  {
   "cell_type": "markdown",
   "metadata": {},
   "source": [
    "<hr>"
   ]
  },
  {
   "cell_type": "markdown",
   "metadata": {},
   "source": [
    "#### Introducing ``os.walk``\n",
    "\n",
    "The function ``os.walk(path)`` will walk _any number_ of files...\n",
    "\n",
    "Before we write a function, let's try  ``os.walk`` immediately:"
   ]
  },
  {
   "cell_type": "code",
   "execution_count": 32,
   "metadata": {},
   "outputs": [
    {
     "data": {
      "text/plain": [
       "<generator object walk at 0x10a67da20>"
      ]
     },
     "execution_count": 32,
     "metadata": {},
     "output_type": "execute_result"
    }
   ],
   "source": [
    "# os.walk returns the structure of a folder (directory)\n",
    "\n",
    "# Here, we \"walk\" the intro_examples subfolder:\n",
    "all_files = os.walk(\"./intro_first\")\n",
    "\n",
    "all_files     # oops! it's a \"generator object\""
   ]
  },
  {
   "cell_type": "code",
   "execution_count": 86,
   "metadata": {},
   "outputs": [
    {
     "name": "stdout",
     "output_type": "stream",
     "text": [
      "len(L) = 5\n",
      "L = [('./intro_first', ['cs', 'sci'], ['.DS_Store', 'nottrue.ipynb']), ('./intro_first/cs', [], ['.DS_Store', 'file35.txt', 'file181y.txt']), ('./intro_first/sci', ['50', '10'], ['.DS_Store']), ('./intro_first/sci/50', [], ['IDE.txt']), ('./intro_first/sci/10', [], ['IDE.txt'])]\n"
     ]
    }
   ],
   "source": [
    "import os\n",
    "L = list( os.walk( \"./intro_first\" ) )  \n",
    "print(f\"{len(L) = }\")\n",
    "print(f\"{L = }\")"
   ]
  },
  {
   "cell_type": "markdown",
   "metadata": {},
   "source": [
    "Here's a line-wrapped version of the list ``L``\n",
    "  + Below it, is a picture of the folder-and-file structure!  \n",
    "  + Our goal: mind-mapping the two representations!!"
   ]
  },
  {
   "cell_type": "markdown",
   "metadata": {},
   "source": [
    "``L = [('./intro_first', ['cs', 'sci'], ['.DS_Store', 'nottrue.ipynb']), \n",
    "('./intro_first/cs', [], ['.DS_Store', 'file35.txt', 'file181y.txt']), \n",
    "('./intro_first/sci', ['50', '10'], ['.DS_Store']), ('./intro_first/sci/50', [], ['IDE.txt']), ('./intro_first/sci/10', [], ['IDE.txt'])]``"
   ]
  },
  {
   "cell_type": "code",
   "execution_count": 87,
   "metadata": {},
   "outputs": [
    {
     "data": {
      "image/png": "[encoded data removed]",
      "text/plain": [
       "<IPython.core.display.Image object>"
      ]
     },
     "execution_count": 87,
     "metadata": {},
     "output_type": "execute_result"
    }
   ],
   "source": [
    "from IPython import display\n",
    "#\n",
    "# this is in the hw1pr1 folder\n",
    "#\n",
    "display.Image(\"./intro_first_ss_small.png\")   # local image"
   ]
  },
  {
   "cell_type": "markdown",
   "metadata": {},
   "source": [
    "See if you can match the _syntactic_ structure (the text!) with the _visual_ structure (the image!) \n",
    "\n",
    "<hr>\n",
    "\n",
    "Onward!"
   ]
  },
  {
   "cell_type": "code",
   "execution_count": 88,
   "metadata": {},
   "outputs": [
    {
     "name": "stdout",
     "output_type": "stream",
     "text": [
      "len(result) = 5\n",
      "result = [('./intro_first', ['cs', 'sci'], ['.DS_Store', 'nottrue.ipynb']), ('./intro_first/cs', [], ['.DS_Store', 'file35.txt', 'file181y.txt']), ('./intro_first/sci', ['50', '10'], ['.DS_Store']), ('./intro_first/sci/50', [], ['IDE.txt']), ('./intro_first/sci/10', [], ['IDE.txt'])]\n"
     ]
    }
   ],
   "source": [
    "path = \"./intro_first\"          # any path to any folder\n",
    "result = list(os.walk(path))    # this will \"walk\" all of the subfolders and files\n",
    "\n",
    "print(f\"{len(result) = }\")      # try c:/  (it took my machine 12.7 seconds!)\n",
    "print(f\"{result = }\")"
   ]
  },
  {
   "cell_type": "markdown",
   "metadata": {},
   "source": [
    "#### Now, let's incorporate ``os.walk`` into a series of functions..."
   ]
  },
  {
   "cell_type": "code",
   "execution_count": 57,
   "metadata": {},
   "outputs": [
    {
     "name": "stdout",
     "output_type": "stream",
     "text": [
      "[[ Start! ]]\n",
      "\n",
      "result = 5\n",
      "\n",
      "[[ Fin. ]]\n"
     ]
    }
   ],
   "source": [
    "#\n",
    "# Steppingstone, Version 1: call os.walk, return length, optionally print\n",
    "#\n",
    "\n",
    "import os\n",
    "import os.path\n",
    "\n",
    "def file_walker(path):\n",
    "    \"\"\" starting from the input, named path\n",
    "        \n",
    "        this function \"walks\" the whole path, including subfolders\n",
    "        and then... explores any questions we might want :)\n",
    "\n",
    "        call, for example, with    file_walker(\"./intro_first\") \n",
    "    \"\"\"\n",
    "    result = list(os.walk(path))     # perhaps try w/o converting to a list...\n",
    "    # print(f\"{len(result) = }\")\n",
    "    # print(f\"{result = }\")\n",
    "    num_folders = len(result)        # the len is the number of folders...\n",
    "    return num_folders\n",
    "\n",
    "#\n",
    "# when discovering, keep your data close (and your functions closer!)\n",
    "#\n",
    "if True:\n",
    "    \"\"\" overall script that runs examples \"\"\"\n",
    "    print(f\"[[ Start! ]]\\n\")     # sign on\n",
    "\n",
    "    path = \"./intro_first\"       # Remember: . means the current directory\n",
    "    result = file_walker(path)   # Run!\n",
    "\n",
    "    print(f\"result = {result}\")  # Yay for f-strings!\n",
    "\n",
    "    print(\"\\n[[ Fin. ]]\")        # sign off\n"
   ]
  },
  {
   "cell_type": "markdown",
   "metadata": {},
   "source": [
    "Ok!  But we didn't actually \"walk\" the folders -- or files! \n",
    "\n",
    "That is, we only counted, and didn't <u>consider</u>, each one...\n",
    "\n",
    "Let's print all of the folder names!\n"
   ]
  },
  {
   "cell_type": "code",
   "execution_count": 18,
   "metadata": {},
   "outputs": [
    {
     "name": "stdout",
     "output_type": "stream",
     "text": [
      "[[ Start! ]]\n",
      "\n",
      "currentpath = './intro_first'\n",
      "currentpath = './intro_first/cs'\n",
      "currentpath = './intro_first/sci'\n",
      "currentpath = './intro_first/sci/50'\n",
      "currentpath = './intro_first/sci/10'\n",
      "result = 5\n",
      "\n",
      "[[ Fin. ]]\n"
     ]
    }
   ],
   "source": [
    "#\n",
    "# Steppingstone, Version 2: print all of the folder names!\n",
    "#\n",
    "\n",
    "import os\n",
    "import os.path\n",
    "\n",
    "def file_walker(path):\n",
    "    \"\"\" starting from the input, named path\n",
    "        \n",
    "        this function \"walks\" the whole path, including subfolders\n",
    "        and then... explores any questions we might want :)\n",
    "\n",
    "        call, for example, with    file_walker(\"./intro_first\") \n",
    "    \"\"\"\n",
    "    result = list(os.walk(path))     # perhaps try w/o converting to a list...\n",
    "\n",
    "    for folder_tuple in result:\n",
    "        currentpath, subfolders, files = folder_tuple  # always three items, always these...\n",
    "        print(f\"{currentpath = }\")   # try non-f printing: it's worse!\n",
    "\n",
    "    num_folders = len(result)        # the len is the number of currentpaths...\n",
    "    return num_folders\n",
    "\n",
    "#\n",
    "# when discovering, keep your data close (and your functions closer!)\n",
    "#\n",
    "if True:\n",
    "    \"\"\" overall script that runs examples \"\"\"\n",
    "    print(f\"[[ Start! ]]\\n\")     # sign on\n",
    "\n",
    "    path = \"./intro_first\"       # Remember: . means the current directory\n",
    "    result = file_walker(path)   # Run!\n",
    "\n",
    "    print(f\"result = {result}\")  # Yay for f-strings!\n",
    "\n",
    "    print(\"\\n[[ Fin. ]]\")        # sign off\n"
   ]
  },
  {
   "cell_type": "markdown",
   "metadata": {},
   "source": [
    "If you're on Windows, you likely see some \"hidden MACOSX\" directories, ``__MACOSX``\n",
    "\n",
    "<font color=\"DodgerBlue\"><b>Task!</b></font> \n",
    "\n",
    "Change the above code so that it _skips_ any path that contains the string ``__MACOSX``\n",
    "\n",
    "We'll do this together..."
   ]
  },
  {
   "cell_type": "markdown",
   "metadata": {},
   "source": [
    "<hr>"
   ]
  },
  {
   "cell_type": "markdown",
   "metadata": {},
   "source": [
    "But, we want to see the files!\n",
    "\n",
    "Let's print all their full filenames (the full paths)!"
   ]
  },
  {
   "cell_type": "code",
   "execution_count": 59,
   "metadata": {},
   "outputs": [
    {
     "name": "stdout",
     "output_type": "stream",
     "text": [
      "[[ Start! ]]\n",
      "\n",
      "currentpath = './intro_first'\n",
      "   fullpath = './intro_first/.DS_Store'\n",
      "   fullpath = './intro_first/nottrue.ipynb'\n",
      "currentpath = './intro_first/cs'\n",
      "   fullpath = './intro_first/cs/.DS_Store'\n",
      "   fullpath = './intro_first/cs/file35.txt'\n",
      "   fullpath = './intro_first/cs/file181y.txt'\n",
      "currentpath = './intro_first/sci'\n",
      "   fullpath = './intro_first/sci/.DS_Store'\n",
      "currentpath = './intro_first/sci/50'\n",
      "   fullpath = './intro_first/sci/50/IDE.txt'\n",
      "currentpath = './intro_first/sci/10'\n",
      "   fullpath = './intro_first/sci/10/IDE.txt'\n",
      "result = 5\n",
      "\n",
      "[[ Fin. ]]\n"
     ]
    }
   ],
   "source": [
    "#\n",
    "# Steppingstone, Version 3: walk all of the files, printing each one's fullpath\n",
    "#\n",
    "\n",
    "import os\n",
    "import os.path\n",
    "\n",
    "def file_walker(path):\n",
    "    \"\"\" starting from the input, named path\n",
    "        \n",
    "        this function \"walks\" the whole path, including subfolders\n",
    "        and then... explores any questions we might want :)\n",
    "\n",
    "        call, for example, with    file_walker(\"./intro_first\") \n",
    "    \"\"\"\n",
    "    result = list(os.walk(path))     # perhaps try w/o converting to a list...\n",
    "\n",
    "    for folder_tuple in result:\n",
    "        currentpath, subfolders, files = folder_tuple  # always three items, always these...\n",
    "\n",
    "        if '__MACOSX' in currentpath: continue         # skip the rest of _this_ loop iteration: back to top\n",
    "\n",
    "        print(f\"{currentpath = }\") \n",
    "        \n",
    "        for file in files:       # remember, files is a list of filenames!\n",
    "            fullpath = currentpath + \"/\" + file           # construct the full path, or, better: os.path.join(currentpath,file)  \n",
    "            print(f\"   {fullpath = }\")\n",
    "            #contents = GET_STRING_FROM_FILE(fullpath)     # use the fullpath!\n",
    "            #print(f\"{contents[0:42] = }\")\n",
    "\n",
    "    num_folders = len(result)        # the len is the number of currentpaths...\n",
    "    return num_folders\n",
    "\n",
    "#\n",
    "# when discovering, keep your data close (and your functions closer!)\n",
    "#\n",
    "if True:\n",
    "    \"\"\" overall script that runs examples \"\"\"\n",
    "    print(f\"[[ Start! ]]\\n\")     # sign on\n",
    "\n",
    "    path = \"./intro_first\"       # Remember: . means the current directory\n",
    "    result = file_walker(path)   # Run!\n",
    "\n",
    "    print(f\"result = {result}\")  # Yay for f-strings!\n",
    "\n",
    "    print(\"\\n[[ Fin. ]]\")        # sign off\n"
   ]
  },
  {
   "cell_type": "markdown",
   "metadata": {},
   "source": [
    "**Aside**: &nbsp;&nbsp; It's possible to assemble paths using the operating system's \"correct\" character:"
   ]
  },
  {
   "cell_type": "code",
   "execution_count": 60,
   "metadata": {},
   "outputs": [
    {
     "data": {
      "text/plain": [
       "'/root/Users/secret_stuff/file_name'"
      ]
     },
     "execution_count": 60,
     "metadata": {},
     "output_type": "execute_result"
    }
   ],
   "source": [
    "os.path.join(\"/root/Users/secret_stuff\" , \"file_name\")"
   ]
  },
  {
   "cell_type": "markdown",
   "metadata": {},
   "source": [
    "Notice that it _joined_ the path and the file.\n",
    "\n",
    "<br>\n",
    "\n",
    "Since Python is happy with ``/`` we'll use that for now.\n",
    "\n",
    "<hr>"
   ]
  },
  {
   "cell_type": "markdown",
   "metadata": {},
   "source": [
    "#### But, we want to get all of the files' _contents_  !\n",
    "\n",
    "<u>Notice</u> there are lots of files named ``\".DS_Store\"`` ...\n",
    "\n",
    "They are binary data used by MacOS - they will cause trouble!\n",
    "\n",
    "Let's see the trouble, and then fix it:"
   ]
  },
  {
   "cell_type": "code",
   "execution_count": 42,
   "metadata": {},
   "outputs": [
    {
     "name": "stdout",
     "output_type": "stream",
     "text": [
      "[[ Start! ]]\n",
      "\n",
      "currentpath = './intro_first'\n",
      "   fullpath = './intro_first/nottrue.ipynb'\n",
      "   contents[0:42] = \"Hi, everyone in cs35!\\n\\nAs you're seeing, t\"\n",
      "currentpath = './intro_first/cs'\n",
      "   fullpath = './intro_first/cs/file35.txt'\n",
      "   contents[0:42] = 'CS for Insight'\n",
      "   fullpath = './intro_first/cs/file181y.txt'\n",
      "   contents[0:42] = 'CS for Inquiry'\n",
      "currentpath = './intro_first/sci'\n",
      "currentpath = './intro_first/sci/50'\n",
      "   fullpath = './intro_first/sci/50/IDE.txt'\n",
      "   contents[0:42] = 'Jupyter notebooks'\n",
      "currentpath = './intro_first/sci/10'\n",
      "   fullpath = './intro_first/sci/10/IDE.txt'\n",
      "   contents[0:42] = 'Colab notebooks'\n",
      "result = 5\n",
      "\n",
      "[[ Fin. ]]\n"
     ]
    }
   ],
   "source": [
    "#\n",
    "# Steppingstone, Version 4: walk all of the files, printing (bits of) each one's contents!\n",
    "#\n",
    "\n",
    "import os\n",
    "import os.path\n",
    "\n",
    "def file_walker(path):\n",
    "    \"\"\" starting from the input, named path\n",
    "        \n",
    "        this function \"walks\" the whole path, including subfolders\n",
    "        and then... explores any questions we might want :)\n",
    "\n",
    "        call, for example, with    file_walker(\"./intro_first\") \n",
    "    \"\"\"\n",
    "    result = list(os.walk(path))     # perhaps try w/o converting to a list...\n",
    "\n",
    "    for folder_tuple in result:\n",
    "        currentpath, subfolders, files = folder_tuple  # always three items, always these...\n",
    "        if '__MACOSX' in currentpath:  continue\n",
    "        print(f\"{currentpath = }\") \n",
    "\n",
    "        for file in files:       # remember, files is a list of filenames!\n",
    "            if file.startswith(\".\"):  # Skip files that start with a dot\n",
    "                continue\n",
    "\n",
    "            fullpath = currentpath + \"/\" + file           # construct the full path, or, better: os.path.join(currentpath,file)  \n",
    "            print(f\"   {fullpath = }\")\n",
    "\n",
    "            contents = GET_STRING_FROM_FILE(fullpath)     # use the fullpath!\n",
    "            print(f\"   {contents[0:42] = }\")\n",
    "\n",
    "    num_folders = len(result)        # the len is the number of currentpaths...\n",
    "    return num_folders\n",
    "\n",
    "#\n",
    "# when discovering, keep your data close (and your functions closer!)\n",
    "#\n",
    "if True:\n",
    "    \"\"\" overall script that runs examples \"\"\"\n",
    "    print(f\"[[ Start! ]]\\n\")     # sign on\n",
    "\n",
    "    path = \"./intro_first\"       # Remember: . means the current directory\n",
    "    result = file_walker(path)   # Run!\n",
    "\n",
    "    print(f\"result = {result}\")  # Yay for f-strings!\n",
    "\n",
    "    print(\"\\n[[ Fin. ]]\")        # sign off\n"
   ]
  },
  {
   "cell_type": "markdown",
   "metadata": {},
   "source": [
    "#### The encoding was wrong!  \n",
    "\n",
    "(Those ``.DS_store`` files are binary, not human-readable.)\n",
    "\n",
    "We could change to, say, latin-1 and see the bytes. But, let's not...\n",
    "\n",
    "We really just want to _algorithmically_ skip over those files. Let's try it:\n",
    "\n",
    "<font color=\"DodgerBlue\"><b>Task to try</b></font>\n",
    "\n",
    "Add an if statement in the above \"steppingstone function\" in order to simply skip over any file that begins with a dot (a period character: ``\".\"``)\n",
    "\n",
    "Then, run it again. (It's ok to leave those dot files' pathnames - or not...)"
   ]
  },
  {
   "cell_type": "markdown",
   "metadata": {},
   "source": [
    "<hr>"
   ]
  },
  {
   "cell_type": "markdown",
   "metadata": {},
   "source": [
    "####  Two examples leading into our 10,000-file challenges! \n",
    "\n",
    "<u>Example 1</u> &nbsp; Let's count how many ``.txt`` files we have... "
   ]
  },
  {
   "cell_type": "code",
   "execution_count": 43,
   "metadata": {},
   "outputs": [
    {
     "name": "stdout",
     "output_type": "stream",
     "text": [
      "[[ Start! ]]\n",
      "\n",
      "currentpath = './intro_first'\n",
      "   fullpath = './intro_first/.DS_Store'\n",
      "   fullpath = './intro_first/nottrue.ipynb'\n",
      "currentpath = './intro_first/cs'\n",
      "   fullpath = './intro_first/cs/.DS_Store'\n",
      "   fullpath = './intro_first/cs/file35.txt'\n",
      "Found a .txt file! Adding one...\n",
      "   fullpath = './intro_first/cs/file181y.txt'\n",
      "Found a .txt file! Adding one...\n",
      "currentpath = './intro_first/sci'\n",
      "   fullpath = './intro_first/sci/.DS_Store'\n",
      "currentpath = './intro_first/sci/50'\n",
      "   fullpath = './intro_first/sci/50/IDE.txt'\n",
      "Found a .txt file! Adding one...\n",
      "currentpath = './intro_first/sci/10'\n",
      "   fullpath = './intro_first/sci/10/IDE.txt'\n",
      "Found a .txt file! Adding one...\n",
      "num txt files = 4\n",
      "\n",
      "[[ Fin. ]]\n"
     ]
    }
   ],
   "source": [
    "#\n",
    "# Rolodex lead-in, example1: counting the number of .txt files...\n",
    "#\n",
    "\n",
    "import os\n",
    "import os.path\n",
    "\n",
    "def file_walker(path):\n",
    "    \"\"\" starting from the input, named path\n",
    "        \n",
    "        this function \"walks\" the whole path, including subfolders\n",
    "        and then... explores any questions we might want :)\n",
    "\n",
    "        call, for example, with    file_walker(\"./intro_first\") \n",
    "    \"\"\"\n",
    "    result = list(os.walk(path))     # perhaps try w/o converting to a list...\n",
    "    \n",
    "    count_txt = 0    # keep count of our .txt files\n",
    "\n",
    "    for folder_tuple in result:\n",
    "        currentpath, subfolders, files = folder_tuple  # always three items, always these...\n",
    "        if '__MACOSX' in currentpath:  continue\n",
    "        print(f\"{currentpath = }\") \n",
    "\n",
    "        for file in files:       # remember, files is a list of filenames!\n",
    "            fullpath = currentpath + \"/\" + file           # construct the full path, or, better: os.path.join(currentpath,file)  \n",
    "            print(f\"   {fullpath = }\")\n",
    "            if file[0] == \".\": continue      # skip files that start with dot\n",
    "            if file[-4:] == \".txt\":\n",
    "                print(\"Found a .txt file! Adding one...\")\n",
    "                count_txt += 1\n",
    "            #contents = GET_STRING_FROM_FILE(fullpath)     # use the fullpath!\n",
    "            #print(f\"   {contents[0:42] = }\")\n",
    "\n",
    "    return count_txt   # phew, we're finally returning something else!\n",
    "\n",
    "#\n",
    "# when discovering, keep your data close (and your functions closer!)\n",
    "#\n",
    "if True:\n",
    "    \"\"\" overall script that runs examples \"\"\"\n",
    "    print(f\"[[ Start! ]]\\n\")     # sign on\n",
    "\n",
    "    path = \"./intro_first\"       # Remember: . means the current directory\n",
    "    result = file_walker(path)   # Run!\n",
    "\n",
    "    print(f\"num txt files = {result}\")  # Yay for f-strings!\n",
    "\n",
    "    print(\"\\n[[ Fin. ]]\")        # sign off\n"
   ]
  },
  {
   "cell_type": "markdown",
   "metadata": {},
   "source": [
    "<font color=\"DodgerBlue\"><b>This is an example</b></font> of a short (1-3 sentence) markdown cell, giving interpretation and context for the above result...\n",
    "\n",
    "#### Number of ``.txt`` files\n",
    "  + It seems that this folder, ``intro_first`` has four (4) ``.txt`` files.  This seems reasonable!\n",
    "  + We could go further and see what _percentage_ of files are ``.txt`` ... \n",
    "  + It's also worth noting that we're trusting the file extension ``.txt`` here: some text files could be masquerading as other things... 😊?!"
   ]
  },
  {
   "cell_type": "markdown",
   "metadata": {},
   "source": [
    "The key idea is to ...\n",
    "  + share the results found, contextualized for us sapiens ...\n",
    "  + consider what else could be done, even if we're not doing so ...\n",
    "  + note possible incompletenesses, countervailing forces, concerns in general ...\n",
    "  + use emojis 🦔 !"
   ]
  },
  {
   "cell_type": "markdown",
   "metadata": {},
   "source": [
    "<hr>"
   ]
  },
  {
   "cell_type": "markdown",
   "metadata": {},
   "source": [
    "####  Second example: using file *contents* \n",
    "\n",
    "<u>Example 2</u> &nbsp; Let's count how many of the ``.txt`` files contain the substring ``'CS'`` -- not in the filename, but in the file ***contents***"
   ]
  },
  {
   "cell_type": "code",
   "execution_count": 63,
   "metadata": {},
   "outputs": [
    {
     "name": "stdout",
     "output_type": "stream",
     "text": [
      "[[ Start! ]]\n",
      "\n",
      "currentpath = './intro_first'\n",
      "   fullpath = './intro_first/.DS_Store'\n",
      "   fullpath = './intro_first/nottrue.ipynb'\n",
      "currentpath = './intro_first/cs'\n",
      "   fullpath = './intro_first/cs/.DS_Store'\n",
      "   fullpath = './intro_first/cs/file35.txt'\n",
      "        *** Found a 'CS' ... adding 1    (aka 2-True)\n",
      "   fullpath = './intro_first/cs/file181y.txt'\n",
      "        *** Found a 'CS' ... adding 1    (aka 2-True)\n",
      "currentpath = './intro_first/sci'\n",
      "   fullpath = './intro_first/sci/.DS_Store'\n",
      "currentpath = './intro_first/sci/50'\n",
      "   fullpath = './intro_first/sci/50/IDE.txt'\n",
      "currentpath = './intro_first/sci/10'\n",
      "   fullpath = './intro_first/sci/10/IDE.txt'\n",
      "\n",
      "num txt files       = 4\n",
      "num containing CS   = 2\n",
      "for a CS percentage of 50.00%\n",
      "\n",
      "[[ Fin. ]]\n"
     ]
    }
   ],
   "source": [
    "#\n",
    "# Rolodex lead-in, example2: counting the number of .txt files containing 'CS' ...\n",
    "#\n",
    "\n",
    "import os\n",
    "import os.path\n",
    "\n",
    "def file_walker(path):\n",
    "    \"\"\" starting from the input, named path\n",
    "        \n",
    "        this function \"walks\" the whole path, including subfolders\n",
    "        and then... explores any questions we might want :)\n",
    "\n",
    "        call, for example, with    file_walker(\"./intro_first\") \n",
    "    \"\"\"\n",
    "    result = list(os.walk(path))     # perhaps try w/o converting to a list...\n",
    "    \n",
    "    count_txt = 0    # keep count of our .txt files\n",
    "    count_CS = 0     # keep count of 'CS' substrings found\n",
    "\n",
    "    for folder_tuple in result:\n",
    "        currentpath, subfolders, files = folder_tuple  # always three items, always these...\n",
    "        if '__MACOSX' in currentpath:  continue\n",
    "        print(f\"{currentpath = }\") \n",
    "\n",
    "        for file in files:       # remember, files is a list of filenames!\n",
    "            fullpath = currentpath + \"/\" + file           # construct the full path, or, better: os.path.join(currentpath,file)  \n",
    "            print(f\"   {fullpath = }\")\n",
    "            if file[0] == \".\": continue      # skip files that start with dot\n",
    "\n",
    "            if file[-4:] == \".txt\":\n",
    "                # print(\"Found a .txt file! Adding one...\")\n",
    "                count_txt += 1\n",
    "                contents = GET_STRING_FROM_FILE(fullpath)     # use the fullpath!\n",
    "                if 'CS' in contents:\n",
    "                    print(\"        *** Found a 'CS' ... adding 1    (aka 2-True)\")\n",
    "                    count_CS += 1\n",
    "                # print(f\"   {contents[0:42] = }\")\n",
    "\n",
    "    return count_CS, count_txt   # oooh... we can return two things!\n",
    "\n",
    "#\n",
    "# when discovering, keep your data close (and your functions closer!)\n",
    "#\n",
    "if True:\n",
    "    \"\"\" overall script that runs examples \"\"\"\n",
    "    print(f\"[[ Start! ]]\\n\")     # sign on\n",
    "\n",
    "    path = \"./intro_first\"       # Remember: . means the current directory\n",
    "    result = file_walker(path)   # Run!\n",
    "\n",
    "    count_CS, count_txt = result\n",
    "    print()\n",
    "    print(f\"num txt files       = {count_txt}\")  \n",
    "    print(f\"num containing CS   = {count_CS}\")  \n",
    "    perc = count_CS*100/count_txt\n",
    "    print(f\"for a CS percentage of {perc:5.2f}%\")   # :5.2f means width of 5, 2 dec. places, for a _floating pt value\n",
    "\n",
    "    print(\"\\n[[ Fin. ]]\")        # sign off\n"
   ]
  },
  {
   "cell_type": "markdown",
   "metadata": {},
   "source": [
    "<font color=\"Coral\"><b>Results:</b></font> \n",
    "\n",
    "#### Number of ``CS``-content ``.txt`` files\n",
    "  + It seems that this folder, ``intro_first`` has two ``'CS'``-containing ``.txt`` files, out of four total ``.txt`` files, that is, ``50%`` <br><br>\n",
    "  + <u>Reflection</u>: _This seems computationally balanced._ <br><br>\n",
    "  + <u>Opportunities</u>: We could go further and try this in larger folders - such as this whole machine! Or, we could look for other things (like phone numbers or names in various formats). Or, really, we could ask-and-answer almost any algorithmic question about any subset of files on any machine at all... <br><br>\n",
    "  +   _The fox knows many things, but the hedgehog knows one big thing._ - [Archilochus](https://www.goodreads.com/author/quotes/7614908.Archilochus#:~:text=Archilochus%20Quotes&text=We%20don't%20rise%20to,the%20level%20of%20our%20training.&text=The%20fox%20knows%20many%20things,hedgehog%20knows%20one%20big%20thing.&text=Heart%2C%20my%20heart%2C%20so%20battered,the%20men%20who%20hate%20us.) 🦔 "
   ]
  },
  {
   "cell_type": "markdown",
   "metadata": {},
   "source": [
    "#### Trying other directories/folders\n",
    "\n",
    "The ``path`` can be _any_ folder on your local machine, allowing for _arbitrary_ local exploration and discovery...\n",
    "\n",
    "For example, this next cell will count <font color=\"Coral\"><b>how many folders</b></font> do I have, starting at some ``path``\n",
    "+ to count <font color=\"Coral\"><b>files</b></font>, you'll need to build from the examples above"
   ]
  },
  {
   "cell_type": "code",
   "execution_count": 64,
   "metadata": {},
   "outputs": [
    {
     "name": "stdout",
     "output_type": "stream",
     "text": [
      "len(result) = 5\n"
     ]
    }
   ],
   "source": [
    "path = \"./intro_first\"          # any path to any folder?!  intro_first contains _5_ folders total\n",
    "# path = \"./intro_second\"       # any path to any folder?!  intro_second contains _12_ folders total\n",
    "# path = \"./files_challenge\"    # this is the really large folder: it contains _23_ folders total\n",
    "\n",
    "# path = \"C:/\"                  # could use C:/  on windows or \"/\" on MacOS  \n",
    "# path = \".\"                    # could use \".\" for the current directory\n",
    "\n",
    "result = list(os.walk(path))    # this will \"walk\" all of the subfolders and files\n",
    "\n",
    "print(f\"{len(result) = }\")      # this took my machine 2m 47.4s seconds (for \"/\" with total 555695 folders)\n",
    "                                # and, it asked for permission a couple of times (I said no.)\n",
    "#print(f\"{result = }\")          # let's _not_ print it out..."
   ]
  },
  {
   "cell_type": "markdown",
   "metadata": {},
   "source": [
    "#### <font color=\"DodgerBlue\"><b>Your task</b></font>: The Rolodex challenge!\n",
    "+ Here is [the homework page that describes hw1's challenges...](https://docs.google.com/document/d/1SXgPlR00aIxahDi3OYR8y9-AODNwBuLbQsLLt9AKSa4/edit)\n",
    "+ A few questions are \"our\" design\n",
    "+ Then, ask-and-answer more are of _your_ design\n",
    "+ And, you'll answer _your_ questions from at least two other \"root\" directories (the ``path`` that gets everything started is sometimes called the \"root\": the folder whose files your functions _walk_! :)\n",
    "+ Create a short <font color=\"Coral\"><b>Results:</b></font> section after each of \"our\" and _your_ questions. Feel free to use the template above.\n",
    "+ Good luck, walking <i>far more</i> than one thousand files!\n",
    "\n",
    "<br>\n"
   ]
  },
  {
   "cell_type": "code",
   "execution_count": 95,
   "metadata": {},
   "outputs": [
    {
     "name": "stdout",
     "output_type": "stream",
     "text": [
      "Number of .txt files: 72\n"
     ]
    }
   ],
   "source": [
    "import os\n",
    "\n",
    "def count_txtfiles(root_path):\n",
    "    \"\"\"Count the number of .txt files in a directory (including subdirectories).\"\"\"\n",
    "    txt_count = sum(len([f for f in files if f.endswith('.txt')]) for _, _, files in os.walk(root_path))\n",
    "    return txt_count\n",
    "\n",
    "root_folder = \".\"  \n",
    "print(f\"Number of .txt files: {count_txtfiles(root_folder)}\")\n"
   ]
  },
  {
   "cell_type": "markdown",
   "metadata": {},
   "source": [
    "<font color=\"Coral\"><b>Results:</b></font> \n",
    "\n",
    "Number of .txt files: 72"
   ]
  },
  {
   "cell_type": "code",
   "execution_count": 94,
   "metadata": {},
   "outputs": [
    {
     "name": "stdout",
     "output_type": "stream",
     "text": [
      "Max folder depth: 5\n"
     ]
    }
   ],
   "source": [
    "def max_folder_depth(root_path):\n",
    "    \"\"\"Find the deepest folder depth in a directory tree.\"\"\"\n",
    "    return max(root.count(os.sep) for root, _, _ in os.walk(root_path)) - root_path.count(os.sep)\n",
    "\n",
    "print(f\"Max folder depth: {max_folder_depth(root_folder)}\")\n"
   ]
  },
  {
   "cell_type": "markdown",
   "metadata": {},
   "source": [
    "<font color=\"Coral\"><b>Results:</b></font> \n",
    "\n",
    "Max folder depth: 5"
   ]
  },
  {
   "cell_type": "code",
   "execution_count": 96,
   "metadata": {},
   "outputs": [
    {
     "name": "stdout",
     "output_type": "stream",
     "text": [
      "{7: 32, 10: 23, 11: 5}\n"
     ]
    }
   ],
   "source": [
    "\n",
    "\n",
    "def extract_digits(s):\n",
    "    \"\"\"Extract digits from a string.\"\"\"\n",
    "    return \"\".join(re.findall(r\"\\d\", s))\n",
    "\n",
    "def count_phone_numbers(root_path):\n",
    "    \"\"\"Count phone numbers based on digit length (7, 10, 11).\"\"\"\n",
    "    phone_counts = {7: 0, 10: 0, 11: 0}\n",
    "\n",
    "    for root, _, files in os.walk(root_path):\n",
    "        for file in files:\n",
    "            if file.endswith('.txt'):\n",
    "                with open(os.path.join(root, file), 'r', encoding='utf-8') as f:\n",
    "                    phone_number = extract_digits(f.readline().strip())\n",
    "                    length = len(phone_number)\n",
    "                    if length in phone_counts:\n",
    "                        phone_counts[length] += 1\n",
    "\n",
    "    return phone_counts\n",
    "\n",
    "print(count_phone_numbers(root_folder))\n"
   ]
  },
  {
   "cell_type": "markdown",
   "metadata": {},
   "source": [
    "<font color=\"Coral\"><b>Results:</b></font> \n",
    "\n",
    "{7: 32, 10: 23, 11: 5}"
   ]
  },
  {
   "cell_type": "code",
   "execution_count": 97,
   "metadata": {},
   "outputs": [
    {
     "name": "stdout",
     "output_type": "stream",
     "text": [
      "909 area code numbers: 0\n"
     ]
    }
   ],
   "source": [
    "def count_909_numbers(root_path):\n",
    "    \"\"\"Count phone numbers that start with 909.\"\"\"\n",
    "    count_909 = 0\n",
    "\n",
    "    for root, _, files in os.walk(root_path):\n",
    "        for file in files:\n",
    "            if file.endswith('.txt'):\n",
    "                with open(os.path.join(root, file), 'r', encoding='utf-8') as f:\n",
    "                    phone_number = extract_digits(f.readline().strip())\n",
    "                    if len(phone_number) == 10 and phone_number.startswith(\"909\"):\n",
    "                        count_909 += 1\n",
    "\n",
    "    return count_909\n",
    "\n",
    "print(f\"909 area code numbers: {count_909_numbers(root_folder)}\")\n"
   ]
  },
  {
   "cell_type": "markdown",
   "metadata": {},
   "source": [
    "<font color=\"Coral\"><b>Results:</b></font> \n",
    "\n",
    "909 area code numbers: 0"
   ]
  },
  {
   "cell_type": "code",
   "execution_count": null,
   "metadata": {},
   "outputs": [
    {
     "name": "stdout",
     "output_type": "stream",
     "text": [
      "Names with three 'i's: 4\n"
     ]
    }
   ],
   "source": [
    "def count_names_with_three_i(root_path):\n",
    "    \"\"\"Count names that contain at least three 'i's.\"\"\"\n",
    "    count = 0\n",
    "    for root, _, files in os.walk(root_path):\n",
    "        for file in files:\n",
    "            if file.endswith('.txt'):\n",
    "                with open(os.path.join(root, file), 'r', encoding='utf-8') as f:\n",
    "                    f.readline() \n",
    "                    name = f.readline().strip()\n",
    "                    if name.lower().count(\"i\") >= 3:\n",
    "                        count += 1\n",
    "    return count\n",
    "\n",
    "print(f\"Names with three 'i's: {count_names_with_three_i(root_folder)}\")\n"
   ]
  },
  {
   "cell_type": "markdown",
   "metadata": {},
   "source": [
    "<font color=\"Coral\"><b>Results:</b></font> \n",
    "\n",
    "Names with three 'i's: 4"
   ]
  },
  {
   "cell_type": "code",
   "execution_count": 101,
   "metadata": {},
   "outputs": [
    {
     "name": "stdout",
     "output_type": "stream",
     "text": [
      "Numbers with more than 10 digits: 5\n"
     ]
    }
   ],
   "source": [
    "def count_large_phone_numbers(root_path):\n",
    "    \"\"\"Count phone numbers with more than 10 digits.\"\"\"\n",
    "    count = 0\n",
    "    for root, _, files in os.walk(root_path):\n",
    "        for file in files:\n",
    "            if file.endswith('.txt'):\n",
    "                with open(os.path.join(root, file), 'r', encoding='utf-8') as f:\n",
    "                    phone_number = extract_digits(f.readline().strip())\n",
    "                    if len(phone_number) > 10:\n",
    "                        count += 1\n",
    "    return count\n",
    "\n",
    "print(f\"Numbers with more than 10 digits: {count_large_phone_numbers(root_folder)}\")\n"
   ]
  },
  {
   "cell_type": "markdown",
   "metadata": {},
   "source": [
    "<font color=\"Coral\"><b>Results:</b></font> \n",
    "\n",
    "Numbers with more than 10 digits: 5"
   ]
  },
  {
   "cell_type": "code",
   "execution_count": null,
   "metadata": {},
   "outputs": [
    {
     "name": "stdout",
     "output_type": "stream",
     "text": [
      "People with last name 'CS35_Participant_4': 0\n",
      "People with last name 'Smith': 0\n"
     ]
    }
   ],
   "source": [
    "import os\n",
    "\n",
    "def count_last_name(root_path, last_name):\n",
    "    \"\"\"Count occurrences of a given last name in the dataset.\"\"\"\n",
    "    last_name = last_name.lower()\n",
    "    count = 0\n",
    "\n",
    "    for root, _, files in os.walk(root_path):\n",
    "        for file in files:\n",
    "            if file.endswith('.txt'): \n",
    "                file_path = os.path.join(root, file)\n",
    "                with open(file_path, 'r', encoding='utf-8') as f:\n",
    "                    f.readline() \n",
    "                    name_line = f.readline().strip().lower()\n",
    "\n",
    "                    if not name_line:\n",
    "                        print(f\"Skipping empty name in {file_path}\")\n",
    "                        continue \n",
    "\n",
    "                    if \",\" in name_line:  \n",
    "                        extracted_last_name = name_line.split(\",\")[0].strip()\n",
    "                    else: \n",
    "                        name_parts = name_line.split()\n",
    "                        if len(name_parts) < 2:\n",
    "                            print(f\"Unexpected format in {file_path}: '{name_line}'\")\n",
    "                            continue  \n",
    "                        extracted_last_name = name_parts[-1] \n",
    "\n",
    "                    if extracted_last_name == last_name:\n",
    "                        count += 1\n",
    "\n",
    "    return count\n",
    "\n",
    "\n",
    "root_folder = \"./phonebook_data\"  \n",
    "\n",
    "\n",
    "print(f\"People with last name 'CS35_Participant_4': {count_last_name(root_folder, 'CS35_Participant_4')}\")\n",
    "print(f\"People with last name 'Smith': {count_last_name(root_folder, 'Smith')}\")\n"
   ]
  },
  {
   "cell_type": "markdown",
   "metadata": {},
   "source": [
    "<font color=\"Coral\"><b>Results:</b></font> \n",
    "\n",
    "People with last name 'CS35_Participant_4': 0\n",
    "\n",
    "People with last name 'Smith': 0"
   ]
  },
  {
   "cell_type": "code",
   "execution_count": null,
   "metadata": {},
   "outputs": [
    {
     "ename": "IndexError",
     "evalue": "list index out of range",
     "output_type": "error",
     "traceback": [
      "\u001b[0;31m---------------------------------------------------------------------------\u001b[0m",
      "\u001b[0;31mIndexError\u001b[0m                                Traceback (most recent call last)",
      "Cell \u001b[0;32mIn[118], line 24\u001b[0m\n\u001b[1;32m     21\u001b[0m     \u001b[38;5;28;01mreturn\u001b[39;00m count\n\u001b[1;32m     23\u001b[0m \u001b[38;5;66;03m# Example usage\u001b[39;00m\n\u001b[0;32m---> 24\u001b[0m \u001b[38;5;28mprint\u001b[39m(\u001b[38;5;124mf\u001b[39m\u001b[38;5;124m\"\u001b[39m\u001b[38;5;124mPeople with first name \u001b[39m\u001b[38;5;124m'\u001b[39m\u001b[38;5;124mJack\u001b[39m\u001b[38;5;124m'\u001b[39m\u001b[38;5;124m: \u001b[39m\u001b[38;5;132;01m{\u001b[39;00m\u001b[43mcount_first_name\u001b[49m\u001b[43m(\u001b[49m\u001b[43mroot_folder\u001b[49m\u001b[43m,\u001b[49m\u001b[38;5;250;43m \u001b[39;49m\u001b[38;5;124;43m'\u001b[39;49m\u001b[38;5;124;43mJack\u001b[39;49m\u001b[38;5;124;43m'\u001b[39;49m\u001b[43m)\u001b[49m\u001b[38;5;132;01m}\u001b[39;00m\u001b[38;5;124m\"\u001b[39m)\n\u001b[1;32m     25\u001b[0m \u001b[38;5;28mprint\u001b[39m(\u001b[38;5;124mf\u001b[39m\u001b[38;5;124m\"\u001b[39m\u001b[38;5;124mPeople with first name \u001b[39m\u001b[38;5;124m'\u001b[39m\u001b[38;5;124mBob\u001b[39m\u001b[38;5;124m'\u001b[39m\u001b[38;5;124m: \u001b[39m\u001b[38;5;132;01m{\u001b[39;00mcount_first_name(root_folder,\u001b[38;5;250m \u001b[39m\u001b[38;5;124m'\u001b[39m\u001b[38;5;124mEmily\u001b[39m\u001b[38;5;124m'\u001b[39m)\u001b[38;5;132;01m}\u001b[39;00m\u001b[38;5;124m\"\u001b[39m)\n",
      "Cell \u001b[0;32mIn[118], line 16\u001b[0m, in \u001b[0;36mcount_first_name\u001b[0;34m(root_path, first_name)\u001b[0m\n\u001b[1;32m     14\u001b[0m     extracted_first_name \u001b[38;5;241m=\u001b[39m name_line\u001b[38;5;241m.\u001b[39msplit(\u001b[38;5;124m\"\u001b[39m\u001b[38;5;124m,\u001b[39m\u001b[38;5;124m\"\u001b[39m)[\u001b[38;5;241m1\u001b[39m]\u001b[38;5;241m.\u001b[39mstrip()\n\u001b[1;32m     15\u001b[0m \u001b[38;5;28;01melse\u001b[39;00m:  \u001b[38;5;66;03m# Format: \"First Last\"\u001b[39;00m\n\u001b[0;32m---> 16\u001b[0m     extracted_first_name \u001b[38;5;241m=\u001b[39m \u001b[43mname_line\u001b[49m\u001b[38;5;241;43m.\u001b[39;49m\u001b[43msplit\u001b[49m\u001b[43m(\u001b[49m\u001b[43m)\u001b[49m\u001b[43m[\u001b[49m\u001b[38;5;241;43m0\u001b[39;49m\u001b[43m]\u001b[49m\n\u001b[1;32m     18\u001b[0m \u001b[38;5;28;01mif\u001b[39;00m extracted_first_name \u001b[38;5;241m==\u001b[39m first_name:\n\u001b[1;32m     19\u001b[0m     count \u001b[38;5;241m+\u001b[39m\u001b[38;5;241m=\u001b[39m \u001b[38;5;241m1\u001b[39m\n",
      "\u001b[0;31mIndexError\u001b[0m: list index out of range"
     ]
    }
   ],
   "source": [
    "def count_first_name(root_path, first_name):\n",
    "    \"\"\"Count occurrences of a given first name in the dataset.\"\"\"\n",
    "    first_name = first_name.lower()\n",
    "    count = 0\n",
    "\n",
    "    for root, _, files in os.walk(root_path):\n",
    "        for file in files:\n",
    "            if file.endswith('.txt'): \n",
    "                with open(os.path.join(root, file), 'r', encoding='utf-8') as f:\n",
    "                    f.readline() \n",
    "                    name_line = f.readline().strip().lower()\n",
    "                    \n",
    "                    if \",\" in name_line: \n",
    "                        extracted_first_name = name_line.split(\",\")[1].strip()\n",
    "                    else: \n",
    "                        extracted_first_name = name_line.split()[0]\n",
    "\n",
    "                    if extracted_first_name == first_name:\n",
    "                        count += 1\n",
    "\n",
    "    return count\n",
    "\n",
    "# Example usage\n",
    "print(f\"People with first name 'Jack': {count_first_name(root_folder, 'Jack')}\")\n",
    "print(f\"People with first name 'Bob': {count_first_name(root_folder, 'Emily')}\")\n"
   ]
  },
  {
   "cell_type": "markdown",
   "metadata": {},
   "source": [
    "<font color=\"Coral\"><b>Results:</b></font> \n",
    "\n",
    "People with first name 'Jack': 0\n",
    "\n",
    "People with first name 'Chris': 0"
   ]
  },
  {
   "cell_type": "code",
   "execution_count": null,
   "metadata": {},
   "outputs": [
    {
     "name": "stdout",
     "output_type": "stream",
     "text": [
      "Checking file: ./intro_second/hp/samiam.txt | Phone: \n",
      "Checking file: ./intro_second/hp/hp1.txt | Phone: \n",
      "Checking file: ./intro_second/phone_files/02/0042.txt | Phone: 6044044078\n",
      "Checking file: ./intro_second/phone_files/00/01.txt | Phone: 3465227890\n",
      "Checking file: ./intro_second/phone_files/00/00.txt | Phone: 3754601\n",
      "Checking file: ./intro_second/phone_files/00/02.txt | Phone: 7294843\n",
      "Checking file: ./intro_second/phone_files/00/03.txt | Phone: 6713296288\n",
      "Checking file: ./intro_second/phone_files/00/07.txt | Phone: 5912173\n",
      "Checking file: ./intro_second/phone_files/00/06.txt | Phone: 2515446593\n",
      "Checking file: ./intro_second/phone_files/00/10.txt | Phone: 7134680\n",
      "Checking file: ./intro_second/phone_files/00/04.txt | Phone: 4317568367\n",
      "Checking file: ./intro_second/phone_files/00/05.txt | Phone: 5355858\n",
      "Checking file: ./intro_second/phone_files/00/08.txt | Phone: 2236381\n",
      "Checking file: ./intro_second/phone_files/00/09.txt | Phone: 8972435\n",
      "Checking file: ./intro_second/phone_files/01/0038.txt | Phone: 88851042338\n",
      "Checking file: ./intro_second/phone_files/01/0039.txt | Phone: 92213077970\n",
      "Checking file: ./intro_second/phone_files/01/76.txt | Phone: 7849637778\n",
      "Checking file: ./intro_second/phone_files/01/62.txt | Phone: 5754903\n",
      "Checking file: ./intro_second/phone_files/01/63.txt | Phone: 5125659720\n",
      "Checking file: ./intro_second/phone_files/01/77.txt | Phone: 9977569\n",
      "Checking file: ./intro_second/phone_files/01/61.txt | Phone: 8649243\n",
      "Checking file: ./intro_second/phone_files/01/75.txt | Phone: 3617931704\n",
      "Checking file: ./intro_second/phone_files/01/74.txt | Phone: 9363873152\n",
      "Checking file: ./intro_second/phone_files/01/60.txt | Phone: 7648735930\n",
      "Checking file: ./intro_second/phone_files/01/64.txt | Phone: 1728260\n",
      "Checking file: ./intro_second/phone_files/01/70.txt | Phone: 5572567834\n",
      "Checking file: ./intro_second/phone_files/01/58.txt | Phone: 7393603\n",
      "Checking file: ./intro_second/phone_files/01/59.txt | Phone: 8444468194\n",
      "Checking file: ./intro_second/phone_files/01/71.txt | Phone: 5165300\n",
      "Checking file: ./intro_second/phone_files/01/65.txt | Phone: 6655362\n",
      "Checking file: ./intro_second/phone_files/01/73.txt | Phone: 17812165700\n",
      "Checking file: ./intro_second/phone_files/01/67.txt | Phone: 6007207\n",
      "Checking file: ./intro_second/phone_files/01/0049.txt | Phone: 3075082121\n",
      "Checking file: ./intro_second/phone_files/01/0048.txt | Phone: 8619441\n",
      "Checking file: ./intro_second/phone_files/01/66.txt | Phone: 9179124\n",
      "Checking file: ./intro_second/phone_files/01/72.txt | Phone: 7684564\n",
      "Checking file: ./intro_second/phone_files/01/57.txt | Phone: 8668283367\n",
      "Checking file: ./intro_second/phone_files/01/0045.txt | Phone: 8224171064\n",
      "Checking file: ./intro_second/phone_files/01/0051.txt | Phone: 7573270000\n",
      "Checking file: ./intro_second/phone_files/01/80.txt | Phone: 7837386\n",
      "Checking file: ./intro_second/phone_files/01/81.txt | Phone: 1609797\n",
      "Checking file: ./intro_second/phone_files/01/0050.txt | Phone: 6856685\n",
      "Checking file: ./intro_second/phone_files/01/0044.txt | Phone: 3619818544\n",
      "Checking file: ./intro_second/phone_files/01/56.txt | Phone: 8478175\n",
      "Checking file: ./intro_second/phone_files/01/68.txt | Phone: 4193812982\n",
      "Checking file: ./intro_second/phone_files/01/0052.txt | Phone: 91665693578\n",
      "Checking file: ./intro_second/phone_files/01/54.txt | Phone: 8311305254\n",
      "Checking file: ./intro_second/phone_files/01/0046.txt | Phone: 5469662\n",
      "Checking file: ./intro_second/phone_files/01/83.txt | Phone: 2604692449\n",
      "Checking file: ./intro_second/phone_files/01/82.txt | Phone: 6862556\n",
      "Checking file: ./intro_second/phone_files/01/0047.txt | Phone: 6797762\n",
      "Checking file: ./intro_second/phone_files/01/55.txt | Phone: 3809772\n",
      "Checking file: ./intro_second/phone_files/01/69.txt | Phone: 5771506\n",
      "Checking file: ./intro_second/phone_files/01/0043.txt | Phone: 0960436200\n",
      "Checking file: ./intro_second/phone_files/01/79.txt | Phone: 5084878\n",
      "Checking file: ./intro_second/phone_files/01/86.txt | Phone: 1313059\n",
      "Checking file: ./intro_second/phone_files/01/78.txt | Phone: 5815207092\n",
      "Checking file: ./intro_second/phone_files/01/0042.txt | Phone: 6044044078\n",
      "Checking file: ./intro_second/phone_files/01/0040.txt | Phone: 27760253321\n",
      "Checking file: ./intro_second/phone_files/01/85.txt | Phone: 8209744\n",
      "Checking file: ./intro_second/phone_files/01/84.txt | Phone: 5179872\n",
      "Checking file: ./intro_second/phone_files/01/0041.txt | Phone: 4931286\n",
      "Checking file: ./intro_second/test/big_dog.txt | Phone: \n",
      "Checking file: ./intro_second/test/sub/hello.txt | Phone: \n",
      "Checking file: ./intro_second/test/sub/subSub/deepSub/seaFloor.txt | Phone: \n",
      "Checking file: ./intro_second/addresses/2005.txt | Phone: \n",
      "Checking file: ./intro_second/addresses/2013.txt | Phone: \n",
      "Checking file: ./intro_second/addresses/2009.txt | Phone: \n",
      "Numbers containing '42': 1\n"
     ]
    }
   ],
   "source": [
    "def count_numbers_with_42(path):\n",
    "    count = 0\n",
    "    for root, _, files in os.walk(path):\n",
    "        for file in files:\n",
    "            if file.endswith('.txt'):\n",
    "                file_path = os.path.join(root, file)\n",
    "                with open(file_path, 'r', encoding='utf-8') as f:\n",
    "                    phone_number = extract_digits(f.readline().strip())\n",
    "                    print(f\"Checking file: {file_path} | Phone: {phone_number}\") \n",
    "                    if \"42\" in phone_number:\n",
    "                        count += 1\n",
    "    return count\n",
    "\n",
    "root_folder = \"./intro_second\"\n",
    "\n",
    "print(f\"Numbers containing '42': {count_numbers_with_42(root_folder)}\")\n"
   ]
  },
  {
   "cell_type": "markdown",
   "metadata": {},
   "source": [
    "<font color=\"Coral\"><b>Results:</b></font> \n",
    "\n",
    "Numbers containing '42': 1"
   ]
  },
  {
   "cell_type": "code",
   "execution_count": null,
   "metadata": {},
   "outputs": [
    {
     "name": "stdout",
     "output_type": "stream",
     "text": [
      "Amy\n"
     ]
    }
   ],
   "source": [
    "from collections import Counter\n",
    "import os\n",
    "\n",
    "def most_common_first_name(root_path):\n",
    "    \"\"\"Find the most common first name in the dataset.\"\"\"\n",
    "    first_names = Counter()\n",
    "    \n",
    "    for root, _, files in os.walk(root_path):\n",
    "        for file in files:\n",
    "            if file.endswith('.txt'):\n",
    "                file_path = os.path.join(root, file)\n",
    "                with open(file_path, 'r', encoding='utf-8') as f:\n",
    "                    f.readline() \n",
    "                    name_line = f.readline().strip()\n",
    "\n",
    "                    if \",\" in name_line: \n",
    "                        first_name = name_line.split(\",\")[-1].strip()\n",
    "                    else:  \n",
    "                        name_parts = name_line.split()\n",
    "                        first_name = name_parts[0] if name_parts else None\n",
    "\n",
    "                    if first_name:\n",
    "                        first_names[first_name] += 1\n",
    "\n",
    "    return first_names.most_common(1)[0][0] if first_names else \"No valid names found\"\n",
    "\n",
    "\n",
    "root_folder = \"./intro_second\"\n",
    "\n",
    "\n",
    "print(most_common_first_name(root_folder))\n",
    "\n",
    "\n"
   ]
  },
  {
   "cell_type": "markdown",
   "metadata": {},
   "source": [
    "<font color=\"Coral\"><b>Results:</b></font> \n",
    "\n",
    "Most common first name: Amy"
   ]
  },
  {
   "cell_type": "code",
   "execution_count": null,
   "metadata": {},
   "outputs": [
    {
     "name": "stdout",
     "output_type": "stream",
     "text": [
      "Number of unique last names: 39\n"
     ]
    }
   ],
   "source": [
    "def count_unique_last_names(root_path):\n",
    "    \"\"\"Count the number of unique last names in the dataset.\"\"\"\n",
    "    unique_last_names = set()\n",
    "    \n",
    "    for root, _, files in os.walk(root_path):\n",
    "        for file in files:\n",
    "            if file.endswith('.txt'):\n",
    "                file_path = os.path.join(root, file)\n",
    "                with open(file_path, 'r', encoding='utf-8') as f:\n",
    "                    f.readline()  \n",
    "                    name_line = f.readline().strip()\n",
    "\n",
    "                    if \",\" in name_line:  \n",
    "                        last_name = name_line.split(\",\")[0].strip()\n",
    "                    else: \n",
    "                        name_parts = name_line.split()\n",
    "                        last_name = name_parts[-1] if len(name_parts) > 1 else None\n",
    "\n",
    "                    if last_name:\n",
    "                        unique_last_names.add(last_name)\n",
    "\n",
    "    return len(unique_last_names)\n",
    "\n",
    "\n",
    "root_folder = \"./intro_second\"\n",
    "\n",
    "\n",
    "print(f\"Number of unique last names: {count_unique_last_names(root_folder)}\")\n"
   ]
  },
  {
   "cell_type": "markdown",
   "metadata": {},
   "source": [
    "<font color=\"Coral\"><b>Results:</b></font> \n",
    "\n",
    "Number of unique last names: 39"
   ]
  },
  {
   "cell_type": "code",
   "execution_count": null,
   "metadata": {},
   "outputs": [
    {
     "name": "stdout",
     "output_type": "stream",
     "text": [
      "Total number of files: 7083\n",
      "Deepest path depth: 11\n"
     ]
    }
   ],
   "source": [
    "\n",
    "import os\n",
    "\n",
    "\n",
    "def count_total_files(root_path):\n",
    "    \"\"\"Count the total number of files in a directory and its subdirectories.\"\"\"\n",
    "    total_files = sum(len(files) for _, _, files in os.walk(root_path))\n",
    "    return total_files\n",
    "\n",
    "\n",
    "def find_deepest_path(root_path):\n",
    "    \"\"\"Find the deepest path depth in a directory tree.\"\"\"\n",
    "    max_depth = 0\n",
    "    for root, _, _ in os.walk(root_path):\n",
    "        depth = root[len(root_path):].count(os.sep) \n",
    "        max_depth = max(max_depth, depth)\n",
    "    return max_depth\n",
    "\n",
    "\n",
    "downloads_folder = \"/Users/jackyuan/Downloads\" \n",
    "\n",
    "\n",
    "total_files = count_total_files(downloads_folder)\n",
    "deepest_path = find_deepest_path(downloads_folder)\n",
    "\n",
    "print(f\"Total number of files: {total_files}\")\n",
    "print(f\"Deepest path depth: {deepest_path}\")\n"
   ]
  },
  {
   "cell_type": "markdown",
   "metadata": {},
   "source": [
    "<font color=\"Coral\"><b>Results:</b></font> \n",
    "\n",
    "Total number of files: 7083\n",
    "\n",
    "Deepest path depth: 11"
   ]
  },
  {
   "cell_type": "code",
   "execution_count": null,
   "metadata": {},
   "outputs": [
    {
     "name": "stdout",
     "output_type": "stream",
     "text": [
      "Number of screenshot files: 1\n",
      "Number of PDF files: 349\n",
      "Largest file: /Users/jackyuan/Downloads/Discussion.mp4 (1292288173 bytes)\n"
     ]
    }
   ],
   "source": [
    "import os\n",
    "\n",
    "\n",
    "downloads_folder = \"/Users/jackyuan/Downloads\"\n",
    "\n",
    "\n",
    "def count_screenshot_files(root_path):\n",
    "    \"\"\"Count the number of files with 'Screen Shot' in the filename.\"\"\"\n",
    "    count = 0\n",
    "    for root, _, files in os.walk(root_path):\n",
    "        for file in files:\n",
    "            if \"Screen Shot\" in file:\n",
    "                count += 1\n",
    "    return count\n",
    "\n",
    "\n",
    "def count_pdf_files(root_path):\n",
    "    \"\"\"Count the number of PDF files in the directory.\"\"\"\n",
    "    count = sum(1 for _, _, files in os.walk(root_path) for file in files if file.endswith('.pdf'))\n",
    "    return count\n",
    "\n",
    "\n",
    "def find_largest_file(root_path):\n",
    "    \"\"\"Find the largest file in the directory.\"\"\"\n",
    "    largest_file = None\n",
    "    largest_size = 0\n",
    "    for root, _, files in os.walk(root_path):\n",
    "        for file in files:\n",
    "            file_path = os.path.join(root, file)\n",
    "            try:\n",
    "                size = os.path.getsize(file_path)\n",
    "                if size > largest_size:\n",
    "                    largest_file = file_path\n",
    "                    largest_size = size\n",
    "            except Exception:\n",
    "                pass  \n",
    "\n",
    "    return largest_file, largest_size\n",
    "\n",
    "\n",
    "screenshot_count = count_screenshot_files(downloads_folder)\n",
    "pdf_count = count_pdf_files(downloads_folder)\n",
    "largest_file, largest_size = find_largest_file(downloads_folder)\n",
    "\n",
    "\n",
    "print(f\"Number of screenshot files: {screenshot_count}\")\n",
    "print(f\"Number of PDF files: {pdf_count}\")\n",
    "print(f\"Largest file: {largest_file} ({largest_size} bytes)\")\n",
    "\n"
   ]
  },
  {
   "cell_type": "markdown",
   "metadata": {},
   "source": [
    "<font color=\"Coral\"><b>Results:</b></font> \n",
    "\n",
    "Number of screenshot files: 1\n",
    "\n",
    "Number of PDF files: 349\n",
    "\n",
    "Largest file: /Users/jackyuan/Downloads/Discussion.mp4 (1292288173 bytes)\n",
    "\n",
    "<font color=\"Coral\"><b>Reflection:</b></font> \n",
    "\n",
    "These answers surprised me as I thought I would have more screenshot files. I was interested in why the largest file is a video so I looked through it. I discovered it was a pretty CS35_Participant_2 video that I recorded and edited for my class last year. The number of PDF files did not surprise me though."
   ]
  }
 ],
 "metadata": {
  "kernelspec": {
   "display_name": "Python 3",
   "language": "python",
   "name": "python3"
  },
  "language_info": {
   "codemirror_mode": {
    "name": "ipython",
    "version": 3
   },
   "file_extension": ".py",
   "mimetype": "text/x-python",
   "name": "python",
   "nbconvert_exporter": "python",
   "pygments_lexer": "ipython3",
   "version": "3.12.1"
  },
  "orig_nbformat": 4
 },
 "nbformat": 4,
 "nbformat_minor": 2
}
