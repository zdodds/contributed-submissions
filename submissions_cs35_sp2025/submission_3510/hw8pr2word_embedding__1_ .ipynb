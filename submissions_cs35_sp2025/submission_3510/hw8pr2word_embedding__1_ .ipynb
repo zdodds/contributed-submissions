{
 "cells": [
  {
   "cell_type": "markdown",
   "metadata": {},
   "source": [
    "## hw8pr2: &nbsp; Embeddings: computing with word _meanings_\n",
    "\n",
    "About a decade ago, the computing community proposed a representation of the _meaning_ of words as _embeddings_.\n",
    "\n",
    "Embeddings are large vectors of weights that capture a word's use in context. They can be created by training a neural network to \"predict the missing word\" (from lots of possible contexts where it appears). \n",
    "\n",
    "Here, you will try out the original word-embeddings, called Word2Vec. "
   ]
  },
  {
   "cell_type": "code",
   "execution_count": 10,
   "metadata": {},
   "outputs": [],
   "source": [
    "#\n",
    "# hw8pr2.py ~ cs35 ~ Word Embeddings: Computing with word _meanings_\n",
    "#\n",
    "\n",
    "# our usual libraries\n",
    "import numpy as np\n",
    "import matplotlib.pyplot as plt  \n",
    "import seaborn as sns"
   ]
  },
  {
   "attachments": {},
   "cell_type": "markdown",
   "metadata": {},
   "source": [
    "### Gensim is a library for word-meanings\n",
    "\n",
    "Most often, the _meaning_ of a word is a vector, or ***embedding*** that has been learned through a neural net:\n",
    "+ that net is trained to determine each word from its context\n",
    "+ many variations are now used\n",
    "+ here, we use the original embeddings -- which better illustrate many of their weaknesses! \n",
    "+ from the word2vec paper: https://arxiv.org/abs/1301.3781"
   ]
  },
  {
   "cell_type": "code",
   "execution_count": 11,
   "metadata": {},
   "outputs": [
    {
     "name": "stdout",
     "output_type": "stream",
     "text": [
      "Requirement already satisfied: gensim in /Library/Frameworks/Python.framework/Versions/3.12/lib/python3.12/site-packages (4.3.3)\n",
      "Requirement already satisfied: numpy<2.0,>=1.18.5 in /Library/Frameworks/Python.framework/Versions/3.12/lib/python3.12/site-packages (from gensim) (1.26.4)\n",
      "Requirement already satisfied: scipy<1.14.0,>=1.7.0 in /Library/Frameworks/Python.framework/Versions/3.12/lib/python3.12/site-packages (from gensim) (1.13.1)\n",
      "Requirement already satisfied: smart-open>=1.8.1 in /Library/Frameworks/Python.framework/Versions/3.12/lib/python3.12/site-packages (from gensim) (7.1.0)\n",
      "Requirement already satisfied: wrapt in /Library/Frameworks/Python.framework/Versions/3.12/lib/python3.12/site-packages (from smart-open>=1.8.1->gensim) (1.17.2)\n"
     ]
    }
   ],
   "source": [
    "# Most important for hw8 is gensim, the word-embedding (word2vec) library\n",
    "# See if you already have it installed:\n",
    "#import gensim\n",
    "\n",
    "# if not, try         \n",
    "!pip install gensim"
   ]
  },
  {
   "cell_type": "code",
   "execution_count": null,
   "metadata": {},
   "outputs": [],
   "source": [
    "# !pip install gensim"
   ]
  },
  {
   "cell_type": "code",
   "execution_count": 12,
   "metadata": {},
   "outputs": [
    {
     "name": "stdout",
     "output_type": "stream",
     "text": [
      "01 神學大全 第一冊：論天主三位一體（I. Q 1~43） (Thomas Aquinas (santo)) (Z-Library).pdf\n",
      "06-7-24.pdf\n",
      "07530203.pdf\n",
      "1-s2.0-S2213177921005837-main.pdf\n",
      "1012868606267-10557326579-ticket.pdf\n",
      "104_weierstrass (1) (1).pdf\n",
      "104_weierstrass (1).pdf\n",
      "1103053942.pdf\n",
      "11daa872-3de0-4883-be79-32b89719ca5f\n",
      "1214437136.pdf\n",
      "1357324.jpeg\n",
      "144_HW_3.pdf\n",
      "165_Final_project_report.pdf\n",
      "165_final_project (1).pdf\n",
      "165_final_project.pdf\n",
      "171_HW_5.pdf\n",
      "18-functions and continuity notes.pdf\n",
      "1Q84 BOOK 2 (村上春树) (Z-Library).mobi\n",
      "1ResearchProjectData.csv\n",
      "1ResearchProjectData.sav\n",
      "2001：太空漫游（读客熊猫君出品。刘慈欣说：我所有作品都是对《2001：太空漫游》的拙劣模仿！科幻历史上不可超越的至高神作！） (阿瑟·克拉克 [... (Z-Library).pdf\n",
      "2008.pdf\n",
      "22-uniform convergence.pdf\n",
      "24S-135-Homework01 (1).tex\n",
      "24S-135-Homework01.tex\n",
      "24S-135-Homework02.tex\n",
      "24S-135-Homework08 4XP .pdf\n",
      "24S-135-HomeworkTemplate (1).tex\n",
      "24S-135-HomeworkTemplate (3).tex\n",
      "24S-135-HomeworkTemplate.tex\n",
      "4-fields order bounds.pdf\n",
      "5303c476725ac6ee4b4f6dbc357c2a34.jpg\n",
      "5308.pdf\n",
      "6:28:2024 meeting notes.pdf\n",
      "7-closure and dense sets (1).pdf\n",
      "7-closure and dense sets.pdf\n",
      "8843 (1).pdf\n",
      "8843 (2).pdf\n",
      "8843 (3).pdf\n",
      "8843 (4).pdf\n",
      "8843 (5).pdf\n",
      "8843 (6).pdf\n",
      "8843 (7).pdf\n",
      "8843.pdf\n",
      "978-0-8176-4495-6.pdf\n",
      "978-3-642-62010-2.pdf\n",
      "978-981-13-1393-6.pdf\n",
      "97995553-1-30216.mp3\n",
      "A Comprehensive Introduction to Differential Geometry, Vol.1, 3rd Edition (Michael Spivak) (Z-Library).pdf\n",
      "A First Course in Modular Forms (Fred Diamond, CS35_Participant_6 Shurman) (Z-Library).pdf\n",
      "A Friendly Introduction to Numerical Analysis (Brian Bradie) (Z-Library).pdf\n",
      "A18013175.pdf\n",
      "ARHI 151_The Arts of Japan_Midterm (3.24).pdf\n",
      "ASIA 83 essay.pdf\n",
      "Abstract Algebra Third Edition (David S. Dummit, Richard M. Foote) (Z-Library).pdf\n",
      "Advanced Modern Algebra (Joseph J. Rotman) (Z-Library).pdf\n",
      "Aguilar-Fraga Thesis Poster.pdf\n",
      "Alg_Topology_HW4 (1).pdf\n",
      "Alg_Topology_HW4.pdf\n",
      "Alg_Topology_HW7.pdf\n",
      "Alg_Topology_HW8.pdf\n",
      "Algebraic Geometry (Robin Hartshorne) (Z-Library).pdf\n",
      "Algebraic Geometry 1 From Algebraic Varieties to Schemes (Kenji Ueno) (Z-Library).pdf\n",
      "Algebraic Geometry 2 Sheaves and Cohomology (Kenji Ueno, 上野 健爾) (Z-Library).pdf\n",
      "Algebraic Geometry 3 Further Study of Schemes (Translations of Mathematical Monographs) (Kenji Ueno) (Z-Library).pdf\n",
      "Algebraic topology (Allen Hatcher) (Z-Library).pdf\n",
      "Algebraic_Topologists_Presentation_Proposal.pdf\n",
      "Algebraic_Topology_Notes (1).pdf\n",
      "Allen Weiss, The Limits of Metaphor_Ideology and Representation in the Zen Garden.pdf\n",
      "An Introduction to Manifolds Second Edition (Loring W. Tu) (Z-Library).pdf\n",
      "Arts in Japan(Midterm).docx\n",
      "Assignment5.pdf\n",
      "BEIBEI_156695400_da2-1-192.mp3\n",
      "BEIBEI_204840120-1-16 (1).mp4\n",
      "BEIBEI_204840120-1-16.mp4\n",
      "BEIBEI_28883973-1-16.mp3\n",
      "BEIBEI_296472092-1-208.mp3\n",
      "BEIBEI_854531638-1-208.mp3\n",
      "Bouguettaya_Review_Early_Wildfire_Detection.pdf\n",
      "Brown _ Levinson, Politeness.pdf\n",
      "CV (1).pdf\n",
      "CV (2).pdf\n",
      "CV (3).pdf\n",
      "CV (4).pdf\n",
      "CV.pdf\n",
      "Chapter 3_ Basis.tex\n",
      "Chapter_2__Fundamentals_of_Topology.pdf\n",
      "Chapter_3__The_building_blocks_of_a_topology__basis_and_subbasis.pdf\n",
      "Chapter_4_Separation_Properties.pdf\n",
      "Chapter_6__Compactness.pdf\n",
      "Chapter_7__Continuity.pdf\n",
      "Chapter_8__Connectedness.pdf\n",
      "Cheatsheet.pdf\n",
      "Classical Electrodynamics, 3rd edition (John David Jackson) (Z-Library).pdf\n",
      "Coaldrake, The Grand Shrines of Ise and Izumo.pdf\n",
      "Coalescent Homo Superior (Destinys Children) (Stephen Baxter) (Z-Library).epub\n",
      "Colloquial Ukrainian (Ian Press, Stefan Pugh) (Z-Library).djvu\n",
      "Colloquial Ukrainian The Complete Course for Beginners (Ian Press Stefan Pugh) (Z-Library).pdf\n",
      "Complex Analysis ( etc.) (Z-Library).pdf\n",
      "Concert Report (Double Bass Concerto, Symphony _Paris_, and _Peter and the Wolf_).pdf\n",
      "Concert Report (European music before 1700).pdf\n",
      "Concert Report (Prokofiev Piano Concerto No 1) (1).pdf\n",
      "Concert Report (Prokofiev Piano Concerto No 1).pdf\n",
      "Concert Report 1 (1).pdf\n",
      "Concert Report 1.pdf\n",
      "Concert Report 2 Schubert's piano works for four hands.pdf\n",
      "Concert Report 3.pdf\n",
      "Concert Report 4.pdf\n",
      "Concert report 1 (2).pdf\n",
      "Concert report 2.pdf\n",
      "Concise Introduction to Tonal Harmony (L Poundie Burstein) (Z-Library).pdf\n",
      "ConversationAnalysis _25.pptx\n",
      "Copy of Critical analysis proposal template.pdf\n",
      "Copy of Homework #2 .pdf\n",
      "Copy of Homework #3.pdf\n",
      "Copy of Homework #4.pdf\n",
      "Copy of Q&A for reference letter (Jenna).pdf\n",
      "Copy of hw0pr1.ipynb\n",
      "Copy of hw0pr2.ipynb\n",
      "Course-Credit-No-Credit-Form 2-SP, Luo.pdf\n",
      "Course-Credit-No-Credit-Form 2-SP.pdf\n",
      "Coverletter_for_NYU_REU (1).pdf\n",
      "Coverletter_for_NYU_REU.pdf\n",
      "Critical Analysis (Jenna Luo).pdf\n",
      "DALL·E 2024-10-12 15.02.52 - A cozy, vintage-style coffee shop located at the stormy seashore, featuring large wooden tables that dominate the small interior space. The tables are.webp\n",
      "David Copperfield (Charles Dickens) (Z-Library).pdf\n",
      "Definition_Example_Sheet (1).pdf\n",
      "Definition_Example_Sheet.pdf\n",
      "Dewangan_FIgLib_SmokeyNet (1).pdf\n",
      "Dewangan_FIgLib_SmokeyNet.pdf\n",
      "Eckert and Podesva, Non-binary approaches to gender and sexuality.pdf\n",
      "EigenFacesDemo-master.zip\n",
      "Elliptic Curves (Anthony W. Knapp) (Z-Library).pdf\n",
      "Elliptic Curves, Modular Forms, and Their L-functions (Student Mathematical Library, Vol. 58) (Alvaro Lozano-Robledo) (Z-Library).pdf\n",
      "Exam1-solutions.pdf\n",
      "FXMathTools.pkg\n",
      "First Nights - Monteverdi Orfeo.pdf\n",
      "Fourier Analysis An Introduction (Elias M. Stein, Rami Shakarchi) (Z-Library).pdf\n",
      "Galois定理与群论 (刘培杰) (Z-Library).pdf\n",
      "Generative AI entails a credit–blame asymmetry.pdf\n",
      "Gershon, Breaking up is hard to do.pdf\n",
      "Goffman on footing, Forms of Talk pgs 124-128 (1).pdf\n",
      "Goffman on footing, Forms of Talk pgs 124-128.pdf\n",
      "Goffman,  Forms of Talk, 144-146 on animator, author, and principal (1).pdf\n",
      "Goffman,  Forms of Talk, 144-146 on animator, author, and principal.pdf\n",
      "HW 1 - Math Autobiography.pdf\n",
      "HW Special 5.pdf\n",
      "HW Special 9.pdf\n",
      "HW9 ela .pdf\n",
      "HW9.pdf\n",
      "HW_1.pdf\n",
      "HW_1_My_math_autobiography.pdf\n",
      "High School Math Inquiry-Based Demo Lesson.mp4\n",
      "Homology_definition_sheet.pdf\n",
      "I-20_Luo_Yuanyuan_N0032782960_1702401918762.pdf\n",
      "IMG_053784E68088-1.jpeg\n",
      "IMG_0794.jpg\n",
      "IMG_0831.HEIC\n",
      "IMG_0832.HEIC\n",
      "IMG_0834.HEIC\n",
      "IMG_0A2625B5A646-1.jpeg\n",
      "IMG_1068.jpg\n",
      "IMG_1069.jpg\n",
      "IMG_1070.jpg\n",
      "IMG_1071.jpg\n",
      "IMG_1094.jpg\n",
      "IMG_1098.jpg\n",
      "IMG_1100.jpg\n",
      "IMG_1101.jpg\n",
      "IMG_1102.jpg\n",
      "IMG_1111.jpg\n",
      "IMG_1112.jpg\n",
      "IMG_1113.jpg\n",
      "IMG_1115.jpg\n",
      "IMG_1118.jpg\n",
      "IMG_1119.jpg\n",
      "IMG_1120.jpg\n",
      "IMG_1121.jpg\n",
      "IMG_1125.jpg\n",
      "IMG_1126.jpg\n",
      "IMG_1127.jpg\n",
      "IMG_2136.HEIC\n",
      "IMG_2AE58D81A43F-1.jpeg\n",
      "IMG_2B1741E50260-1.jpeg\n",
      "IMG_2BF550E49635-1.jpeg\n",
      "IMG_3238.heic\n",
      "IMG_32696F4DB71D-1.jpeg\n",
      "IMG_3452.heic\n",
      "IMG_3453.heic\n",
      "IMG_3499.HEIC\n",
      "IMG_3611.HEIC\n",
      "IMG_3612.HEIC\n",
      "IMG_3613.HEIC\n",
      "IMG_36FBFB696918-1.jpeg\n",
      "IMG_37316A220072-1.jpeg\n",
      "IMG_39BF076778BF-1.jpeg\n",
      "IMG_3A6EEC9CA717-1.jpeg\n",
      "IMG_413AA4401C0B-1.jpeg\n",
      "IMG_47D4443A6FAF-1.jpeg\n",
      "IMG_4A47F8585563-1.jpeg\n",
      "IMG_4BDB42081303-1.jpeg\n",
      "IMG_5072BE72AFC7-1.jpeg\n",
      "IMG_575BC37FF5F4-1 2.jpeg\n",
      "IMG_575BC37FF5F4-1.jpeg\n",
      "IMG_611D2DB04379-1.jpeg\n",
      "IMG_68274CBDDDDA-1.jpeg\n",
      "IMG_6A1A0DDEA80B-1.jpeg\n",
      "IMG_6C3DE9B7D315-1.jpeg\n",
      "IMG_70CD9E9DA2E4-1.jpeg\n",
      "IMG_761D9A52FCCB-1.jpeg\n",
      "IMG_8023.heic\n",
      "IMG_83CCDAD989A6-1.jpeg\n",
      "IMG_845BABB70740-1.jpeg\n",
      "IMG_8C69B1F58E98-1.jpeg\n",
      "IMG_8FDC7248F60B-1.jpeg\n",
      "IMG_92075BD7F464-1.jpeg\n",
      "IMG_9336EBFFC52B-1.jpeg\n",
      "IMG_9350.JPEG\n",
      "IMG_9572.HEIC\n",
      "IMG_99BB22F0A76A-1.jpeg\n",
      "IMG_A02270095E32-1.jpeg\n",
      "IMG_A12F308033EF-1.jpeg\n",
      "IMG_A169BD9C854E-1.jpeg\n",
      "IMG_A4F059026225-1.jpeg\n",
      "IMG_A85509757921-1.jpeg\n",
      "IMG_ABA19ED53B28-1.jpeg\n",
      "IMG_B16214F2E27D-1.jpeg\n",
      "IMG_BFEEE63DBBAB-1.jpeg\n",
      "IMG_D714609CDE1C-1.jpeg\n",
      "IMG_DABB9BA5A551-1.jpeg\n",
      "IMG_E05D27BE68B0-1 2.jpeg\n",
      "IMG_E05D27BE68B0-1.jpeg\n",
      "IMG_E4CE362D009B-1.jpeg\n",
      "IMG_EAD48E61909B-1.jpeg\n",
      "IMG_EF66BB07B8CA-1.jpeg\n",
      "IMG_FA36AAD602A5-1.jpeg\n",
      "ISU_Project_statement.pdf\n",
      "Indexicalities, communities of practice,  personas, and stance.pptx\n",
      "Introduction to Analytic Number Theory (Tom M. Apostol) (Z-Library) (1).pdf\n",
      "Introduction to Analytic Number Theory (Tom M. Apostol) (Z-Library).pdf\n",
      "Introduction to Smooth Manifolds (John M. Lee) (Z-Library).pdf\n",
      "JavaCodingPack-0.4.2.zip\n",
      "Javier_Colloquium_talk.pdf\n",
      "Jean Pierre Serre.pdf\n",
      "Jenna Luo -- Critical Analysis Rubric 2024.pdf\n",
      "Knots and links (Dale Rolfsen) (Z-Library).djvu\n",
      "Kobayshi, The Appearance of Pottery.pdf\n",
      "Language classrooms_25_02_02_19_27_39.pdf\n",
      "Latex_HW_1.pdf\n",
      "Life at Harvey Mudd College.pptx\n",
      "Lippi-Green, The standard languge myth.pdf\n",
      "Luo HMC passfail form.pdf\n",
      "MATH144_Assignment3 (1).pdf\n",
      "MATH144_Assignment3.pdf\n",
      "MATH171_HW_5.pdf\n",
      "MATH_144_HW_1 (1).pdf\n",
      "MATH_144_HW_1.pdf\n",
      "MATH_144_HW_3.pdf\n",
      "MATH_144_HW_7.pdf\n",
      "MATH_144_HW_8.pdf\n",
      "MATH_144_Homework_3.pdf\n",
      "MATH_144_Homework_4 (1).pdf\n",
      "MATH_144_Homework_4.pdf\n",
      "MATH_144_Homework_5.pdf\n",
      "MATH_171_HW_10.pdf\n",
      "MATH_171_HW_2.pdf\n",
      "MATH_171_HW_4.pdf\n",
      "MATH_171_HW_7.pdf\n",
      "MATH_171_HW_8.pdf\n",
      "MATH_171_HW_9.pdf\n",
      "MATH_174_HW_3.pdf\n",
      "MATH_174_HW_4.pdf\n",
      "MATH_174_HW_5.pdf\n",
      "MATH_174_Project_Proposal (1).pdf\n",
      "MATH_174_Project_Proposal.pdf\n",
      "MATH_55_HW_10.pdf\n",
      "MATH_55_HW_11.pdf\n",
      "MATH_55_HW_12.pdf\n",
      "MATH_55_HW_5.pdf\n",
      "MATH_55_HW_6.pdf\n",
      "MATH_55_HW_7.pdf\n",
      "MATH_55_HW_8.pdf\n",
      "MATH_55_HW_9 (1).pdf\n",
      "MATH_55_HW_9.pdf\n",
      "MacTeX.pkg\n",
      "Mason, 13-22.pdf\n",
      "Mason, 57-99.pdf\n",
      "Mason, Chapter 4 (2).pdf\n",
      "Mason, “Chapter 6, Pax Tokugawa” (1), 278-292..pdf\n",
      "Math 165_ Linear Systems.pdf\n",
      "Math 165_ Steepest Descent Techniques.pdf\n",
      "Math 199 Colloquium Report (1).pdf\n",
      "Math 199 Colloquium Report (2).pdf\n",
      "Math 199 Colloquium Report 2.pdf\n",
      "Math 199 Colloquium Report.pdf\n",
      "Math Major at College (1).pptx\n",
      "Math Major at College.pptx\n",
      "Math180Spring2024Exam2.pdf\n",
      "Math180Spring2024Notes (1).pdf\n",
      "Math180Spring2024Notes.pdf\n",
      "Math_165_Fall_2024_Final__Copy_ (1).pdf\n",
      "Math_165_Fall_2024_Final__Copy_.pdf\n",
      "Math_165_Fall_2024_Midterm__Copy_ (1).pdf\n",
      "Math_165_Fall_2024_Midterm__Copy_.pdf\n",
      "Math_165_Fall_2024____Homework_Assignment_10__Copy_.pdf\n",
      "Math_165_Fall_2024____Homework_Assignment_11__Copy_.pdf\n",
      "Math_165_Fall_2024____Homework_Assignment_1__Copy_ (1).pdf\n",
      "Math_165_Fall_2024____Homework_Assignment_1__Copy_.pdf\n",
      "Math_165_Fall_2024____Homework_Assignment_2__Copy_ (1).pdf\n",
      "Math_165_Fall_2024____Homework_Assignment_2__Copy_.pdf\n",
      "Math_165_Fall_2024____Homework_Assignment_3__Copy_.pdf\n",
      "Math_165_Fall_2024____Homework_Assignment_4__Copy_.pdf\n",
      "Math_165_Fall_2024____Homework_Assignment_5__Copy_ (1).pdf\n",
      "Math_165_Fall_2024____Homework_Assignment_5__Copy_.pdf\n",
      "Math_165_Fall_2024____Homework_Assignment_6__Copy_.pdf\n",
      "Math_165_Fall_2024____Homework_Assignment_7__Copy_.pdf\n",
      "Math_165_Fall_2024____Homework_Assignment_8__Copy_.pdf\n",
      "Math_165_Fall_2024____Homework_Assignment_9__Copy_ (1).pdf\n",
      "Math_165_Fall_2024____Homework_Assignment_9__Copy_.pdf\n",
      "Math_171_HW_3.pdf\n",
      "Mendelssohn - Hebrides piano solo arrangement   scores.mp3\n",
      "Midterm_Problems.pdf\n",
      "Mirror symmetry (Kentaro Hori, Kentaro Hori, Sheldon Katz etc.) (Z-Library).pdf\n",
      "Modular Forms and Fermat’s Last Theorem (Gary Cornell, Joseph H. Silverman etc.) (Z-Library).pdf\n",
      "Moduli_Theory_Research_Project (1).pdf\n",
      "Moduli_Theory_Research_Project (2).pdf\n",
      "Moduli_Theory_Research_Project-26 (1).pdf\n",
      "Moduli_Theory_Research_Project-26.pdf\n",
      "Moduli_Theory_Research_Project.pdf\n",
      "Mohapatra Early Wildfire Detection Review.pdf\n",
      "Muse_Hub.dmg\n",
      "Musimathics The Mathematical Foundations of Music. Volume 1 (Gareth Loy) (Z-Library).pdf\n",
      "NY_Math_Test_Results_2006-2012.csv\n",
      "NeteaseMusic_2.3.21_1077_web.dmg\n",
      "Never Stop Pushing My Life from a Wyoming Farm to the Olympic Medals Stand (Rulon Gardner, Bob Schaller) (Z-Library).pdf\n",
      "Notebook_Reflection (1).pdf\n",
      "Notebook_Reflection-merged.pdf\n",
      "Notebook_Reflection.pdf\n",
      "Numerical analysis (Burden R.L., Faires J.D.) (Z-Library).pdf\n",
      "Ordinary Differential Equations (Edward L. Ince) (Z-Library).pdf\n",
      "Orfeo Analysis.pdf\n",
      "Outline_of_the_Paper (1).pdf\n",
      "Outline_of_the_Paper.pdf\n",
      "PDE project.tex\n",
      "PDE_project.pdf\n",
      "P_Nestohedra_Classification_Theorem_3rd_draft_ (1).pdf\n",
      "P_Nestohedra_Classification_Theorem_3rd_draft_-1 (1).pdf\n",
      "P_Nestohedra_Classification_Theorem_3rd_draft_-1.pdf\n",
      "P_Nestohedra_Classification_Theorem_3rd_draft_-2.pdf\n",
      "P_Nestohedra_Classification_Theorem_3rd_draft_.pdf\n",
      "Paper 2.pdf\n",
      "Partial Differential Equations I Basic Theory Second Edition (Michael E. Taylor) (Z-Library).pdf\n",
      "Physics, Volume 2 (Halliday, David, Resnick, Robert, Krane etc.) (Z-Library).pdf\n",
      "Piller_Language-ideologies.pdf\n",
      "Possible_topics_for_the_research.pdf\n",
      "Projective geometry an introduction (Rey Casse) (Z-Library).pdf\n",
      "Prompt 1_ Three Modern Musics.pdf\n",
      "Prompt 2_ Shostakovich 13th Symphony.pdf\n",
      "Q&A for reference letter (Jenna) (1).pdf\n",
      "Q&A for reference letter (Jenna) (2).pdf\n",
      "Q&A for reference letter (Jenna).pdf\n",
      "Quantum Fields and Strings A Course for Mathematicians, Vol. 2 (Pierre Deligne, Pavel Etingof, Daniel S. Freed etc.) (Z-Library).djvu\n",
      "Reading reflection.pdf\n",
      "Real Analysis - 2nd Edition (Gerald B. Folland) (Z-Library).pdf\n",
      "Real Analysis Fourth Edition (H.L. Royden, P.M. Fitzpatrick) (Z-Library).pdf\n",
      "Real and Complex Analysis (Walter Rudin) (Z-Library).pdf\n",
      "Real estate.csv\n",
      "Rep Theory HW2.tex\n",
      "Rep_Theorey_HW_2 (1).pdf\n",
      "Rep_Theorey_HW_2 (2).pdf\n",
      "Rep_Theorey_HW_2 (3).pdf\n",
      "Rep_Theorey_HW_2.pdf\n",
      "Representation theory-An intro(GTM).pdf\n",
      "Research Write Up\n",
      "Research_Proposal (1).pdf\n",
      "Research_Proposal (2).pdf\n",
      "Research_Proposal (3).pdf\n",
      "Research_Proposal (4).pdf\n",
      "Research_Proposal.pdf\n",
      "Resonances-v7.pdf\n",
      "Resume (1).pdf\n",
      "Resume.pdf\n",
      "Robson, E. 2023 The Ancient World.pdf\n",
      "SMALLApplicationDocGeneral.doc\n",
      "SUAMI_statement_of_purpose.pdf\n",
      "Saville-Troike, The Ethnography of Communication,.pdf\n",
      "Sonata No. 2 In F Major, K.280.pdf\n",
      "Statement #227168.pdf\n",
      "Statement #229490.pdf\n",
      "Summa Contra Gentiles (St. Thomas Aquinas [Aquinas, St. Thomas]) (Z-Library).epub\n",
      "Survey Response.pdf\n",
      "Teach Yourself Ukrainian (Teach Yourself Languages) (James Dingley, Olena Bekh) (Z-Library).pdf\n",
      "The Knot Book (Colin Adams) (Z-Library).pdf\n",
      "The Oxford Illustrated History Of The Book (James Raven) (Z-Library).pdf\n",
      "The Perfect Dictatorship China in the 21st Century (Stein Ringen) (Z-Library).pdf\n",
      "The Poem of Empedocles A Text and Translation (Brad Inwood) (Z-Library).pdf\n",
      "The Ricci flow techniques and applications. Part I Geometric Aspects (Bennett Chow, Sun-Chin Chu, David Glickenstein etc.) (Z-Library).djvu\n",
      "The proof of Pd,n^A isomorphic to Bl_GA(P^{n-d-2})^d.tex\n",
      "The workplace_25_02_02_19_28_43.pdf\n",
      "Theory of Functions of a Complex Variable Volume 1 (A. I. Markushevich) (Z-Library).pdf\n",
      "Theory of Functions of a Complex Variable, Volume 3 (A I Markushevich) (Z-Library).pdf\n",
      "Theory of Sets (Nicolas Bourbaki (auth.)) (Z-Library).pdf\n",
      "Theory of ordinary differential equations (Earl A. Coddington, Norman Levinson) (Z-Library).pdf\n",
      "Timeline.pdf\n",
      "\u001b[34mToplogy-Through-Inquiry-theorems-only\u001b[m\u001b[m/\n",
      "\u001b[34mToplogy-Through-Inquiry-theorems-only 2\u001b[m\u001b[m/\n",
      "\u001b[34mToplogy-Through-Inquiry-theorems-only 3\u001b[m\u001b[m/\n",
      "Topology Through Inquiry (Michael Starbird Francis Edward Su) (Z-Library).pdf\n",
      "Topology-Through-Inquiry-theorems-only.zip\n",
      "Toric Varieties (David Cox, John Little, Hal Schenck) (Z-Library).pdf\n",
      "Transcript Traditional Math class.pdf\n",
      "Transcription for IBL math class.pdf\n",
      "Ulrike_Tillmann.pdf\n",
      "Unit_5__Countable_Features_of_Spaces.pdf\n",
      "Untitled document (1).pdf\n",
      "Untitled document.pdf\n",
      "VSCode-darwin-universal.zip\n",
      "Visual Analysis.docx\n",
      "W5 Homework.pdf\n",
      "Weight Training For Dummies (LaReine Chabut) (Z-Library).pdf\n",
      "What are culture-specific ways of communication and why__25_02_02_19_29_11.pdf\n",
      "Wheelwright-KanoPaintersSixteenth-1981.pdf\n",
      "YCAC-data-1.zip\n",
      "CS35_Participant_5, Section 6.3 on politeness theory.pdf\n",
      "Zimman2018TransgenderVoices.pdf\n",
      "[Previous research poster]P_Nestohedra_Classification_Theorem.pdf\n",
      "[数学名著译丛]代数学II ([荷兰]范德瓦尔登) (Z-Library).pdf\n",
      "[数学名著译丛]代数学I【数字版】 ([荷兰]范德瓦尔登) (Z-Library).pdf\n",
      "_Final Reflection Essay (Jenna).pdf\n",
      "_Yuanyuan_Luo_1759690_7000320000.pdf\n",
      "a588eadef14686bd3decb9734e0d602d.JPG\n",
      "\u001b[34marXiv-1005.2551v1\u001b[m\u001b[m/\n",
      "\u001b[34marXiv-1005.2551v1 2\u001b[m\u001b[m/\n",
      "arXiv-1005.2551v1.tar.gz\n",
      "archive (1).zip\n",
      "archive (2).zip\n",
      "archive (3).zip\n",
      "archive (4).zip\n",
      "archive.zip\n",
      "backup_codes.txt\n",
      "births.csv\n",
      "births_cleaned.csv\n",
      "build_garage.csv\n",
      "cities (1).csv\n",
      "cities.csv\n",
      "copy_of_the_summary (1).pdf\n",
      "copy_of_the_summary.pdf\n",
      "digits.csv\n",
      "digits_cleaned.csv\n",
      "federal (1).pdf\n",
      "federal.pdf\n",
      "\u001b[34mfiles_challenge\u001b[m\u001b[m/\n",
      "files_challenge.zip\n",
      "fw8ben 2.pdf\n",
      "fw8ben.pdf\n",
      "history_CA.pdf\n",
      "hmcposter.cls\n",
      "housing.csv\n",
      "hw01-sol.pdf\n",
      "hw02-sols.pdf\n",
      "hw03-sols_annotated.pdf\n",
      "hw04-sols (1).pdf\n",
      "hw04-sols.pdf\n",
      "hw05-sols.pdf\n",
      "hw06-sols.pdf\n",
      "hw07-sols.pdf\n",
      "hw08-sols.pdf\n",
      "hw09-sols.pdf\n",
      "hw11-sol.pdf\n",
      "hw12-sol.pdf\n",
      "hw2pr0 (1).ipynb\n",
      "hw2pr0.ipynb\n",
      "hw2pr1.ipynb\n",
      "hw3pr0.ipynb\n",
      "hw3pr1.ipynb\n",
      "hw4pr0.ipynb\n",
      "hw4pr1 (1).ipynb\n",
      "hw4pr1.ipynb\n",
      "hw5pr0.ipynb\n",
      "hw5pr1births_cleaner.ipynb\n",
      "hw5pr1births_modeler (1).ipynb\n",
      "hw5pr1births_modeler.ipynb\n",
      "hw5pr1births_modeler_2cols.ipynb\n",
      "hw5pr1iris_cleaner.ipynb\n",
      "hw5pr1iris_modeler.ipynb\n",
      "hw5pr2digits_cleaner.ipynb\n",
      "hw5pr2digits_modeler.ipynb\n",
      "hw6pr0.ipynb\n",
      "hw6pr1births_modeler (1).ipynb\n",
      "hw6pr1births_modeler.ipynb\n",
      "hw6pr1iris_modeler.ipynb\n",
      "hw6pr2digits_modeler.ipynb\n",
      "hw7_example_modeler.ipynb\n",
      "hw7pr1iris_modeler (1).ipynb\n",
      "hw7pr1iris_modeler.ipynb\n",
      "hw7pr2digits_modeler.ipynb\n",
      "hw8pr0final_project_explorations.ipynb\n",
      "hw8pr1digits_dreamer.ipynb\n",
      "hw8pr2word_embeddings (1).ipynb\n",
      "hw8pr2word_embeddings.ipynb\n",
      "iris.csv\n",
      "iris_cleaned.csv\n",
      "iris_wid.csv\n",
      "label_pdf_2025-4-7.pdf\n",
      "login.html\n",
      "luojenna_233500000000001183_233500000000218734_Visual Analysis.docx\n",
      "luojenna_233500000000001183_233500000000227420_Arts in Japan(Midterm).docx\n",
      "math276.zip\n",
      "monday presentation.pdf\n",
      "newborn2.csv\n",
      "ode.pdf\n",
      "output.html\n",
      "pdfcoffee.com-shostakovich-piano-concerto-2pdf.pdf\n",
      "personal_statement.pdf\n",
      "pixels vs dm_importance.csv\n",
      "poster-draft-2.pdf\n",
      "python-3.12.1-macos11.pkg\n",
      "rf_tree_028.gv\n",
      "s10801-015-0629-7.pdf\n",
      "sleep_cycle_productivity.csv\n",
      "small.json\n",
      "sonata form essay.pdf\n",
      "\u001b[34mstarting_notebooks\u001b[m\u001b[m/\n",
      "starting_notebooks.zip\n",
      "submission_167721558 (1).pdf\n",
      "submission_167721558.pdf\n",
      "survey lung cancer.csv\n",
      "tech-report-evaluation.pdf\n",
      "transcript-inquiry-based-learning.docx\n",
      "tree_data.gv\n",
      "videoplayback (1).mp4\n",
      "word2vec_model.txt\n",
      "y2mate.com - Schoenberg String Quartet No4  I Allegro molto energico.mp3\n",
      "下载\n",
      "乌克兰语 第1册 (周国易编) (Z-Library).pdf\n",
      "人性的镜子：动物伦理14讲 (钱永祥) (Z-Library).epub\n",
      "俄罗斯量子杂志 数学问题征解100题 (刘培杰) (Z-Library).pdf\n",
      "初等数论 (潘承洞 潘承彪) (Z-Library).pdf\n",
      "力量训练531：练就强大力量的高效训练体系 (吉姆．文德勒 (Jim Wendler)) (Z-Library).pdf\n",
      "华章数学译丛（1）：数学分析原理 (卢丁 (作者), 赵慈庚 (译者)) (Z-Library).pdf\n",
      "博尔赫斯全集 小说卷 (博尔赫斯,王永年) (Z-Library).pdf\n",
      "原子物理学 (杨福家) (Z-Library).pdf\n",
      "反异教大全 第1卷 论上帝 (（意）托马斯·阿奎那著；段德智译) (Z-Library).pdf\n",
      "古今数学思想 (Vol - Vol4) (莫里斯·克莱因（Morris Kline）著；张理京等译) (Z-Library).pdf\n",
      "史记（点校本二十四史修订本 2014平装版） (司马迁, 裴骃, 张守节) (Z-Library).pdf\n",
      "唐诗宋词元曲古文(共6册)(豆瓣均分9.0，经典畅销30年！余秋雨、章培恒力荐！) (上海辞书出品) (上海辞书出版社文学鉴赏辞典编纂中心) (Z-Library).mobi\n",
      "复分析导论：单复变函数 (沙巴特, 胥鸣伟, 李振宇) (Z-Library).pdf\n",
      "复分析导论：多复变函数 (沙巴特) (Z-Library).pdf\n",
      "复分析：可视化方法 (特里斯坦·尼达姆) (Z-Library).pdf\n",
      "复变函数论方法(第6版) ([俄]M.A.拉夫连季耶夫等(译者)施祥林等) (Z-Library).pdf\n",
      "实分析中的反例 (汪林) (Z-Library).pdf\n",
      "常微分方程教程 (丁同仁 李承治) (Z-Library).pdf\n",
      "截屏2025-01-26 16.40.54.png\n",
      "截屏2025-02-07 16.09.47.png\n",
      "截屏2025-04-05 22.06.39.png\n",
      "数学名著译丛 常微分方程 (阿诺尔德) (Z-Library).pdf\n",
      "数学物理方法 I (R.柯朗 D.希尔伯特) (Z-Library).pdf\n",
      "数学物理方法II ([德]R.柯朗 D.希尔伯特) (Z-Library).pdf\n",
      "数学物理方程及其近似方法_程建春编著_7-03-013292-0 (1).pdf\n",
      "数学物理方程及其近似方法_程建春编著_7-03-013292-0.pdf\n",
      "数学物理方程（第3版） (谷超豪 李大潜 陈恕行) (Z-Library).pdf\n",
      "数论导引(第5版) (G·H·哈代) (Z-Library).pdf\n",
      "朗道理论物理学教程 第一卷 力学(第五版)【带书签】 (Л. Д. 朗道, Е. М. 栗弗席兹 著, 李俊峰, 鞠国兴 译校) (Z-Library).pdf\n",
      "枪炮,病菌与钢铁  人类社会的命运  Qiang pao,Bing jun yu gang tie  Ren lei she hui de ming yun (Jared Diamond) (Z-Library).pdf\n",
      "死亡哲学 第三版 (段德智) (Z-Library).pdf\n",
      "泛函分析中的反例 (汪林) (Z-Library).pdf\n",
      "洛阳伽蓝记 (杨衒之) (Z-Library).pdf\n",
      "海伯利安四部曲(套装共4册)(附插画4张+本系列番外《螺旋的遗孤》) (丹•西蒙斯 [丹•西蒙斯]) (Z-Library).pdf\n",
      "理论力学 上册 (朱照宣, 周起钊, 殷金生) (Z-Library).pdf\n",
      "理论力学 下 (朱照宣, 周起钊, 殷金生) (Z-Library).pdf\n",
      "神学大全 第一集 论上帝 第1卷 论上帝的本质 ([意] 阿奎那，段德智) (Z-Library).epub\n",
      "神学大全 第一集 论上帝 第1卷 论上帝的本质 ([意] 阿奎那，段德智) (Z-Library).pdf\n",
      "西方哲学史(修订版·英汉对照版) - 弗兰克·梯利 (弗兰克·梯利) (Z-Library).epub\n",
      "西方哲学史（上卷）：及其与从古代到现代的政治、社会情况的联系 ([英] 罗素 著 何兆武  李约瑟  马元德 译) (Z-Library).pdf\n",
      "解析数论基础 (潘承洞 潘承彪) (Z-Library).pdf\n",
      "谁是新中国——中国现代史辨 (辛灏年) (Z-Library).pdf\n",
      "谈美·谈美书简 (朱光潜) (Z-Library).epub\n",
      "贝贝_Beethoven Symphony No.9 瓦尔特.mp3\n",
      "贝贝_Carmina Burana.mp3\n",
      "贝贝_Rachmaninoff Piano concerto No. 3 Yunchan Lim (1).mp4\n",
      "贝贝_Rachmaninoff Piano concerto No. 3 Yunchan Lim.mp4\n",
      "超越普特南试题-大学数学竞赛中的方法与技巧勒兹万·吉尔卡，蒂图·安德烈埃斯库著；郑元禄译 (刘培杰) (Z-Library).pdf\n",
      "量子力学 (Claude Cohen-Tannoudji, Bernard Diu etc.) (Z-Library) (1).pdf\n",
      "量子力学 (Claude Cohen-Tannoudji, Bernard Diu etc.) (Z-Library).pdf\n",
      "集合论导引 第1卷 (冯琦) (Z-Library).pdf\n"
     ]
    }
   ],
   "source": [
    "# The word-embeddings are in the large file word2vec_model.txt\n",
    "\n",
    "# Make sure that file is here:\n",
    "%ls"
   ]
  },
  {
   "cell_type": "code",
   "execution_count": 1,
   "metadata": {},
   "outputs": [],
   "source": [
    "#\n",
    "# This function, read_word2vec_model, wraps the creation of a gensim model, let's say, m\n",
    "#\n",
    "#      To use it, run the line   m = read_word2vec_model()\n",
    "#\n",
    "\n",
    "from gensim.models import KeyedVectors\n",
    "\n",
    "def read_word2vec_model(filename = \"word2vec_model.txt\"):  \n",
    "    \"\"\" a function that reads a word2vec model from the file\n",
    "        \"word2vec_model.txt\" and returns a model object that\n",
    "        we will usually name m or model...\n",
    "    \"\"\"\n",
    "    try:\n",
    "        print(\"Starting to load the model in \", filename, \"...\")\n",
    "        model = KeyedVectors.load_word2vec_format(filename, binary=False)\n",
    "        print(\"Model loaded.\\n\")\n",
    "    except FileNotFoundError as e:\n",
    "        print(f\"  [WARNING]    The file {filename} was not found.     [WARNING]  \")\n",
    "        return None   # returning a placeholder, not a model\n",
    "\n",
    "    # let's print some attributes\n",
    "    print(\"The model built is\", model, \"\\n\")\n",
    "    print(\"The vocabulary has\", model.vectors.shape[0], \"words\")   # The vocabulary has 43981 words\n",
    "    print(\"Each word is a vector of size\", model.vector_size)  # 300\n",
    "    print(\"\\nTry m.get_vector('python') to see a the vector for 'python'!\")\n",
    "    print(\"m is dictionary-like, e.g., try 'python' in m\\n\")\n",
    "    model.fill_norms()  # freezes the model, m, as-is (no more training)\n",
    "    # we weren't going to train more, so no worries (in week7, at least)\n",
    "    return model\n"
   ]
  },
  {
   "cell_type": "code",
   "execution_count": 2,
   "metadata": {},
   "outputs": [
    {
     "name": "stdout",
     "output_type": "stream",
     "text": [
      "Starting to load the model in  word2vec_model.txt ...\n",
      "Model loaded.\n",
      "\n",
      "The model built is KeyedVectors<vector_size=300, 43981 keys> \n",
      "\n",
      "The vocabulary has 43981 words\n",
      "Each word is a vector of size 300\n",
      "\n",
      "Try m.get_vector('python') to see a the vector for 'python'!\n",
      "m is dictionary-like, e.g., try 'python' in m\n",
      "\n"
     ]
    }
   ],
   "source": [
    "# \n",
    "# best to run this only once... or once in a while, as needed\n",
    "#\n",
    "\n",
    "m = read_word2vec_model()"
   ]
  },
  {
   "cell_type": "code",
   "execution_count": 3,
   "metadata": {},
   "outputs": [
    {
     "name": "stdout",
     "output_type": "stream",
     "text": [
      "m is KeyedVectors<vector_size=300, 43981 keys>\n"
     ]
    }
   ],
   "source": [
    "print(f\"m is {m}\")   # let's see how it prints..."
   ]
  },
  {
   "cell_type": "code",
   "execution_count": 4,
   "metadata": {},
   "outputs": [
    {
     "data": {
      "text/plain": [
       "True"
      ]
     },
     "execution_count": 4,
     "metadata": {},
     "output_type": "execute_result"
    }
   ],
   "source": [
    "'python' in m"
   ]
  },
  {
   "cell_type": "code",
   "execution_count": null,
   "metadata": {},
   "outputs": [],
   "source": [
    "m.get_vector('python')"
   ]
  },
  {
   "cell_type": "markdown",
   "metadata": {},
   "source": [
    "#### Let's see the \"meaning\" (the vector or embedding) for 'queen':\n",
    "\n",
    "First, we'll make sure 'queen' is in the model, <tt>m</tt>"
   ]
  },
  {
   "cell_type": "code",
   "execution_count": 5,
   "metadata": {},
   "outputs": [
    {
     "data": {
      "text/plain": [
       "True"
      ]
     },
     "execution_count": 5,
     "metadata": {},
     "output_type": "execute_result"
    }
   ],
   "source": [
    "'queen' in m"
   ]
  },
  {
   "cell_type": "code",
   "execution_count": 6,
   "metadata": {},
   "outputs": [
    {
     "data": {
      "text/plain": [
       "array([ 0.00173332, -0.0474043 , -0.022896  ,  0.0407935 ,  0.0435346 ,\n",
       "       -0.0293455 , -0.0235409 , -0.0715902 , -0.0651406 ,  0.0183813 ,\n",
       "       -0.0249921 , -0.125767  ,  0.0343439 , -0.00026957,  0.043857  ,\n",
       "        0.0372462 ,  0.0240246 , -0.015479  ,  0.0217673 ,  0.0311192 ,\n",
       "        0.0628833 ,  0.045147  , -0.0780398 , -0.0391811 ,  0.021606  ,\n",
       "       -0.0175751 , -0.101903  ,  0.030313  ,  0.0622383 , -0.0551438 ,\n",
       "       -0.0515965 , -0.0432121 , -0.0272494 ,  0.0703003 , -0.117382  ,\n",
       "       -0.0435346 ,  0.0317641 ,  0.0870691 , -0.0312804 ,  0.0606259 ,\n",
       "        0.0353114 , -0.137376  ,  0.089004  , -0.00915032,  0.0580461 ,\n",
       "       -0.0372462 , -0.00136046,  0.0480493 ,  0.0515965 ,  0.0883591 ,\n",
       "       -0.00592554,  0.0325703 ,  0.0174944 , -0.0103193 , -0.0538539 ,\n",
       "       -0.0191875 , -0.113512  , -0.0570787 ,  0.03773   , -0.0298292 ,\n",
       "        0.044502  ,  0.0922288 , -0.0164464 ,  0.0428896 ,  0.0580461 ,\n",
       "       -0.0732026 , -0.0039302 ,  0.0464369 , -0.059981  ,  0.0391811 ,\n",
       "        0.0532089 ,  0.0709452 , -0.0699778 ,  0.0419222 , -0.033054  ,\n",
       "        0.045147  ,  0.0419222 ,  0.00505888,  0.0345052 , -0.00919063,\n",
       "       -0.019913  ,  0.00733638,  0.059981  , -0.022251  ,  0.0162045 ,\n",
       "        0.0509516 , -0.0825544 ,  0.0461144 ,  0.0973884 ,  0.0351501 ,\n",
       "        0.110933  , -0.073525  , -0.0412772 , -0.0174944 ,  0.0635282 ,\n",
       "        0.0225735 ,  0.0230572 , -0.017172  ,  0.0477268 ,  0.00148138,\n",
       "       -0.00334571, -0.0490167 ,  0.0719127 , -0.0644957 , -0.128991  ,\n",
       "        0.025637  , -0.189617  , -0.0261207 , -0.0133828 , -0.0619158 ,\n",
       "        0.0838444 ,  0.051919  ,  0.0412772 ,  0.0464369 ,  0.0664305 ,\n",
       "       -0.0193487 ,  0.0557887 , -0.0928738 ,  0.0567562 ,  0.0632057 ,\n",
       "        0.0399873 , -0.0496617 , -0.00229766, -0.0783622 ,  0.0461144 ,\n",
       "       -0.00276122, -0.0155596 ,  0.0483717 , -0.0187844 ,  0.033699  ,\n",
       "        0.0278944 ,  0.0699778 , -0.00604647,  0.166399  , -0.0160433 ,\n",
       "        0.0732026 , -0.0844893 ,  0.0112867 ,  0.0522415 , -0.0111255 ,\n",
       "        0.022251  , -0.0831994 ,  0.0152371 , -0.0240246 ,  0.026282  ,\n",
       "        0.0139472 , -0.00042577,  0.066753  , -0.0432121 , -0.019913  ,\n",
       "        0.012496  ,  0.0448245 ,  0.0369238 , -0.0812645 , -0.0790072 ,\n",
       "       -0.0780398 , -0.0142697 , -0.00959373,  0.0777173 , -0.00128991,\n",
       "       -0.0166076 ,  0.0609484 ,  0.166399  , -0.00220696, -0.011448  ,\n",
       "       -0.0249921 ,  0.0203161 , -0.103838  , -0.0124154 ,  0.0780398 ,\n",
       "       -0.0422447 ,  0.0509516 ,  0.0980334 ,  0.00894877, -0.0564337 ,\n",
       "       -0.07417   ,  0.00079612,  0.0349889 , -0.0109643 ,  0.00481702,\n",
       "       -0.0712677 ,  0.081587  , -0.0245083 , -0.033699  ,  0.0557887 ,\n",
       "       -0.0166076 ,  0.0686879 , -0.0127379 , -0.073525  ,  0.0909389 ,\n",
       "       -0.0196712 , -0.00580461,  0.00592554,  0.0293455 ,  0.0425671 ,\n",
       "        0.0603034 ,  0.0477268 ,  0.0343439 , -0.043857  , -0.107708  ,\n",
       "        0.0012748 , -0.0375687 , -0.0166883 , -0.0432121 ,  0.00729607,\n",
       "       -0.0483717 ,  0.0354726 ,  0.0761049 ,  0.0503066 ,  0.0751374 ,\n",
       "        0.0159627 ,  0.0224122 , -0.0224122 , -0.0851343 ,  0.037085  ,\n",
       "        0.00119922, -0.0396648 , -0.0703003 ,  0.037085  ,  0.0401485 ,\n",
       "        0.0225735 ,  0.0162045 ,  0.0902939 , -0.00099767, -0.0012496 ,\n",
       "        0.00063992,  0.0619158 , -0.0960985 ,  0.0298292 ,  0.0870691 ,\n",
       "       -0.0844893 , -0.0948086 , -0.134796  ,  0.0348277 ,  0.130926  ,\n",
       "       -0.0240246 , -0.0142697 , -0.0209611 , -0.00019903, -0.0380524 ,\n",
       "        0.103838  , -0.073525  ,  0.0448245 , -0.00648988,  0.0506291 ,\n",
       "        0.00118914, -0.0396648 ,  0.0214448 ,  0.0535314 , -0.0551438 ,\n",
       "        0.010803  , -0.00115891,  0.0622383 ,  0.0638507 ,  0.043857  ,\n",
       "        0.0224122 , -0.112867  , -0.0275719 , -0.0973884 , -0.00693328,\n",
       "        0.0293455 ,  0.107063  , -0.121897  , -0.0283781 , -0.0163658 ,\n",
       "        0.0435346 ,  0.0145921 ,  0.118672  ,  0.0709452 ,  0.0877141 ,\n",
       "       -0.0902939 ,  0.0777173 ,  0.03773   ,  0.029023  ,  0.0619158 ,\n",
       "       -0.109643  ,  0.0499841 , -0.0119317 , -0.0393424 ,  0.0915838 ,\n",
       "        0.0357951 , -0.0240246 ,  0.0767498 ,  0.00072558,  0.0786847 ,\n",
       "       -0.082232  , -0.0407935 , -0.052564  , -0.00198526,  0.0480493 ,\n",
       "       -0.00152169, -0.0744925 , -0.125122  , -0.124477  , -0.0272494 ,\n",
       "       -0.0136247 ,  0.0554663 , -0.015479  ,  0.0538539 ,  0.0509516 ],\n",
       "      dtype=float32)"
      ]
     },
     "execution_count": 6,
     "metadata": {},
     "output_type": "execute_result"
    }
   ],
   "source": [
    "m.get_vector('queen')"
   ]
  },
  {
   "attachments": {},
   "cell_type": "markdown",
   "metadata": {},
   "source": [
    "Let's use an <tt>if</tt> to check whether a particular word is in the model:"
   ]
  },
  {
   "cell_type": "code",
   "execution_count": 7,
   "metadata": {},
   "outputs": [
    {
     "name": "stdout",
     "output_type": "stream",
     "text": [
      "That word is NOT in m\n"
     ]
    }
   ],
   "source": [
    "if 'poptart' in m:\n",
    "    print(\"That word is in m\")\n",
    "else:\n",
    "    print(\"That word is NOT in m\")"
   ]
  },
  {
   "cell_type": "code",
   "execution_count": 8,
   "metadata": {},
   "outputs": [
    {
     "data": {
      "text/plain": [
       "array([ 2.97324e-02,  4.28927e-02, -7.08380e-02, -1.60035e-02,\n",
       "       -6.46640e-02,  1.22667e-02, -1.47037e-02, -3.93996e-03,\n",
       "       -5.13413e-02,  8.57854e-02,  6.10896e-02, -1.39076e-01,\n",
       "       -3.18446e-02, -1.56786e-02, -7.73368e-02, -3.80185e-02,\n",
       "        2.94075e-02, -1.60035e-02, -1.91717e-02, -3.96433e-02,\n",
       "        3.00574e-02,  1.98013e-03,  8.83850e-02,  3.76936e-02,\n",
       "       -4.35426e-02,  2.30711e-02, -5.94649e-02,  2.61581e-02,\n",
       "        1.58573e-01, -5.71903e-02, -3.43223e-03,  8.77351e-02,\n",
       "       -5.58905e-02, -4.71170e-02,  2.55894e-03,  1.29470e-03,\n",
       "        1.22667e-02, -2.35585e-02, -1.30790e-02,  7.60371e-02,\n",
       "        5.75152e-02, -1.57598e-02,  4.41925e-02,  3.81810e-02,\n",
       "       -1.00083e-01, -3.42817e-02,  2.69704e-02,  4.45174e-02,\n",
       "        6.62887e-02, -1.92530e-02, -1.05607e-02,  8.18861e-02,\n",
       "        1.11781e-01, -7.76618e-02,  9.42340e-02,  2.86358e-03,\n",
       "        4.38675e-02, -5.19912e-02,  1.09831e-01,  1.33227e-01,\n",
       "        1.30790e-02,  3.86684e-02,  3.81810e-02,  4.90667e-02,\n",
       "        4.30552e-03, -8.28609e-02, -1.36477e-02, -5.13413e-02,\n",
       "       -6.10896e-02, -2.05528e-02,  2.87576e-02,  1.26424e-03,\n",
       "        3.94808e-02, -4.19179e-02, -4.77669e-02,  3.16821e-02,\n",
       "       -4.28927e-02, -4.84168e-02,  9.45640e-05, -5.39408e-02,\n",
       "        5.11788e-03,  7.27876e-02,  5.36159e-02, -5.91399e-02,\n",
       "       -8.31859e-02,  6.66137e-03, -1.22829e-01, -3.33068e-02,\n",
       "        2.77828e-02, -2.40459e-02,  2.48583e-02,  3.24945e-02,\n",
       "       -4.64671e-02,  1.84406e-02, -7.75806e-03,  1.13731e-02,\n",
       "       -1.57598e-02,  2.95700e-02,  3.42817e-02, -3.21137e-04,\n",
       "        4.09430e-02, -1.14381e-01,  9.55338e-02, -9.74834e-02,\n",
       "        2.98949e-02, -2.12839e-02,  4.75232e-03, -1.97404e-02,\n",
       "       -5.65404e-02, -1.42976e-01, -6.88883e-02, -6.49889e-02,\n",
       "        4.25678e-02,  8.51355e-02, -2.24212e-02, -3.50940e-02,\n",
       "       -7.51435e-03, -1.10481e-01, -3.10322e-02, -6.41766e-03,\n",
       "       -2.37210e-02, -9.74834e-03, -4.45174e-02, -2.00653e-02,\n",
       "       -1.00083e-01,  3.49316e-02,  7.73368e-02, -1.02764e-02,\n",
       "        3.52565e-02, -5.71903e-02, -1.14381e-01,  7.60371e-02,\n",
       "       -4.54923e-02,  5.00415e-02, -7.75806e-03,  6.10896e-02,\n",
       "        1.29166e-02,  2.69704e-02,  3.41192e-02,  1.94967e-01,\n",
       "        2.37210e-02, -5.29660e-02,  5.32097e-03,  2.85951e-02,\n",
       "        2.51832e-02,  1.15030e-01, -8.22110e-02, -1.35664e-02,\n",
       "       -4.58172e-02, -4.25678e-02,  8.28609e-02, -2.36600e-03,\n",
       "       -1.39726e-01,  9.42340e-02,  5.16662e-02, -6.09271e-03,\n",
       "       -1.15680e-01, -1.06419e-02, -4.77669e-02, -1.36477e-02,\n",
       "        3.15196e-02, -3.00574e-03,  1.42976e-02, -8.96847e-02,\n",
       "       -4.19179e-02, -3.05448e-02,  4.28927e-02, -2.51832e-02,\n",
       "        2.53457e-02,  2.33960e-02,  2.38834e-02,  4.25678e-02,\n",
       "        1.99029e-02,  5.91399e-02,  1.17792e-02, -9.29342e-02,\n",
       "        8.18861e-02,  2.55082e-02, -5.16662e-02,  2.29086e-02,\n",
       "       -1.06582e-01, -5.26410e-02, -4.41925e-02, -1.34852e-02,\n",
       "       -7.01881e-02,  2.07965e-02,  2.14464e-02,  4.10243e-03,\n",
       "        1.68159e-02,  1.11131e-01,  3.88309e-02, -1.03982e-02,\n",
       "       -1.01383e-01,  6.01148e-02, -2.98543e-03,  3.39567e-02,\n",
       "       -9.68335e-02, -1.19580e-01, -9.55338e-02, -8.20486e-03,\n",
       "        8.90349e-02, -9.42340e-02, -2.27461e-03, -1.17792e-02,\n",
       "       -6.98631e-03, -8.69227e-03,  7.63620e-02, -1.34852e-02,\n",
       "        3.50940e-02,  3.42817e-02, -1.34527e-01, -4.25678e-02,\n",
       "       -4.15929e-02, -1.84569e-01,  1.00327e-02,  7.79867e-02,\n",
       "       -8.93598e-03, -1.24291e-02,  7.18940e-03,  2.29086e-02,\n",
       "        3.88309e-02, -1.56786e-02, -2.38834e-02, -3.76936e-02,\n",
       "        3.78561e-02,  1.41148e-03,  2.40459e-02,  2.00653e-02,\n",
       "       -3.02199e-02, -1.12918e-02,  5.91399e-02, -4.02931e-02,\n",
       "       -4.15929e-02,  9.38278e-03,  1.16168e-02,  7.50622e-02,\n",
       "        7.99364e-02,  1.44600e-02,  4.14305e-02, -5.19912e-03,\n",
       "        1.24779e-01, -5.62154e-02, -4.74419e-02, -6.40141e-02,\n",
       "        1.01383e-01, -3.75311e-02,  7.67682e-03,  2.82702e-02,\n",
       "        4.11055e-02, -3.39567e-02, -9.42340e-02, -1.16980e-02,\n",
       "       -2.38834e-02,  2.96512e-03,  7.53872e-02,  1.75470e-02,\n",
       "       -1.04632e-01, -4.25678e-02, -2.33960e-02, -1.92530e-02,\n",
       "        7.31126e-02,  4.19179e-02, -7.34375e-02,  3.07073e-02,\n",
       "        6.56388e-02,  7.50622e-02, -2.25837e-02, -2.14464e-02,\n",
       "       -2.01466e-02, -1.58411e-02, -3.07073e-02,  3.78561e-02,\n",
       "       -2.32335e-02,  1.67347e-02,  1.37127e-01,  2.07965e-02,\n",
       "       -6.82384e-02,  8.22110e-02, -2.81077e-02,  2.64830e-02,\n",
       "        3.96433e-02,  9.58587e-03,  6.23894e-02,  6.85633e-02,\n",
       "       -2.07965e-02, -1.18280e-01, -1.15030e-01, -9.91081e-03,\n",
       "        5.13413e-02,  4.22428e-02, -9.55338e-02,  1.86031e-02,\n",
       "       -3.21695e-02,  3.00574e-02, -1.32415e-02, -9.78896e-03,\n",
       "        7.31126e-03,  7.89616e-02, -7.40874e-02,  4.28927e-02],\n",
       "      dtype=float32)"
      ]
     },
     "execution_count": 8,
     "metadata": {},
     "output_type": "execute_result"
    }
   ],
   "source": [
    "#\n",
    "# So, we can check the \"meaning\" of 'king', 'queen', 'snake', and 'python':\n",
    "#\n",
    "m.get_vector('snake')   # m.get_vector('queen')  m.get_vector('snake')   m.get_vector('king')\n",
    "\n",
    "# which are not very useful ... until we compare them to other meanings:"
   ]
  },
  {
   "cell_type": "markdown",
   "metadata": {},
   "source": [
    "#### <tt>similarity</tt>\n",
    "\n",
    "The model has a built-in similarity method:"
   ]
  },
  {
   "cell_type": "code",
   "execution_count": 9,
   "metadata": {},
   "outputs": [
    {
     "data": {
      "text/plain": [
       "0.66062915"
      ]
     },
     "execution_count": 9,
     "metadata": {},
     "output_type": "execute_result"
    }
   ],
   "source": [
    "# Let's see the built-in similarity method\n",
    "m.similarity('python','snake')   # should be .6606292...\n",
    "\n",
    "#"
   ]
  },
  {
   "cell_type": "markdown",
   "metadata": {},
   "source": [
    "###  hw8pr2 Task #1: &nbsp;&nbsp; Let's re-implement <tt>similarity</tt> to create/build intuition:\n",
    "\n",
    "This is an example to run - it's already implemented: "
   ]
  },
  {
   "cell_type": "code",
   "execution_count": 10,
   "metadata": {},
   "outputs": [],
   "source": [
    "# First, a couple of variable-assignment statements\n",
    "# These might start to feel disturbingly meta ...\n",
    "python = m.get_vector('python')\n",
    "snake = m.get_vector('snake')\n",
    "language = m.get_vector('language')\n",
    "code = m.get_vector('code')\n",
    "queen = m.get_vector('queen')"
   ]
  },
  {
   "cell_type": "code",
   "execution_count": 11,
   "metadata": {},
   "outputs": [
    {
     "name": "stdout",
     "output_type": "stream",
     "text": [
      "np.linalg.norm(python) = 1.0000002\n",
      "np.dot(python, snake) = 0.66062933\n"
     ]
    }
   ],
   "source": [
    "import numpy as np\n",
    "print(f\"{np.linalg.norm(python) = }\")  # this is the length of the vector - always 1, watch out for rounding\n",
    "\n",
    "# the dot product is available in the numpy library\n",
    "print(f\"{np.dot(python, snake) = }\")\n",
    "\n",
    "# This is exactly the built-in similarity:"
   ]
  },
  {
   "cell_type": "code",
   "execution_count": null,
   "metadata": {},
   "outputs": [],
   "source": [
    "# we can use np to find the angle, in degrees, between the two vectors :-)\n",
    "deg = np.degrees(np.arccos(0.66063))  # dot is cosine; converting from radians to degrees\n",
    "print(f\"...which is {deg:7.2f} degrees\")\n",
    "\n",
    "# for unit vectors, \"dot product\" is the same as the \"cosine similarity\"  \n",
    "#     which is the cos of the angle between the two vectors"
   ]
  },
  {
   "cell_type": "code",
   "execution_count": null,
   "metadata": {},
   "outputs": [],
   "source": [
    "# Let's again see the built-in similarity method:\n",
    "m.similarity('python','snake')   # should be the same .6606292..."
   ]
  },
  {
   "cell_type": "code",
   "execution_count": null,
   "metadata": {},
   "outputs": [],
   "source": [
    "m.distance( 'python', 'snake' )   # The distance is 1 minus the similarity"
   ]
  },
  {
   "cell_type": "code",
   "execution_count": null,
   "metadata": {},
   "outputs": [],
   "source": [
    "m.distance( 'python', 'coffee' )   # let's see..."
   ]
  },
  {
   "cell_type": "code",
   "execution_count": null,
   "metadata": {},
   "outputs": [],
   "source": [
    "m.similarity('python','coffee')"
   ]
  },
  {
   "attachments": {},
   "cell_type": "markdown",
   "metadata": {},
   "source": [
    "<br>\n",
    "\n",
    "###  hw8pr2 Task #2: exploring dataset bias\n",
    "\n",
    "With the cell below as a starting point, explore different similarities to find one or more additional example of \"dataset bias\"\n",
    "\n",
    "Include a cell explaining your example. Also, show how the dataset itself can _quantify_ the bias.\n",
    "\n",
    "Here's a first example:"
   ]
  },
  {
   "cell_type": "code",
   "execution_count": 12,
   "metadata": {},
   "outputs": [
    {
     "name": "stdout",
     "output_type": "stream",
     "text": [
      "similarity w 'woman':    0.090\n",
      "similarity w 'man':      0.126\n",
      "\n",
      "similarity w 'person':   0.223\n"
     ]
    }
   ],
   "source": [
    "# with similarity, the biases of the datset can show through: let's check \"programmer\" vs \"woman\" and \"man\"\n",
    "#\n",
    "simw = m.similarity(\"programmer\",\"woman\")   # president  programmer\n",
    "print(f\"similarity w 'woman':  {simw:7.3f}\")\n",
    "\n",
    "simm = m.similarity(\"programmer\",\"man\")     # president  programmer\n",
    "print(f\"similarity w 'man':    {simm:7.3f}\")\n",
    "\n",
    "# notice that the values provide a starting-point to _quantify_ the bias in the dataset\n",
    "# quantifying dataset bias is currently a very active area of research\n",
    "# it would also be possible to compare both of these with \n",
    "print()\n",
    "simprs = m.similarity(\"programmer\",\"person\")    # try it!\n",
    "print(f\"similarity w 'person': {simprs:7.3f}\")"
   ]
  },
  {
   "cell_type": "code",
   "execution_count": null,
   "metadata": {},
   "outputs": [],
   "source": [
    "#\n",
    "# the dataset will reflect the biases of the training data / source-texts  (6B tokens from Google News)\n",
    "#\n",
    "# for task#2, as you explore possibilities, see if there is a way for the similarity-scores to quantify the biases present...\n",
    "# \n",
    "# key constraint: lots of tokens are missing..."
   ]
  },
  {
   "attachments": {},
   "cell_type": "markdown",
   "metadata": {},
   "source": [
    "<br>\n",
    "\n",
    "#### Computing multiple similarities..."
   ]
  },
  {
   "cell_type": "code",
   "execution_count": 13,
   "metadata": {},
   "outputs": [
    {
     "name": "stdout",
     "output_type": "stream",
     "text": [
      "python_snake  similarity: 0.660629153251648\n",
      "python_coffee similarity: 0.021258244290947914\n",
      "snake_coffee  similarity: 0.07976286113262177\n"
     ]
    }
   ],
   "source": [
    "# Let's compare multiple similarities:\n",
    "\n",
    "python_snake = m.similarity('python','snake')\n",
    "python_coffee = m.similarity('python','coffee')\n",
    "snake_coffee = m.similarity('snake','coffee')\n",
    "\n",
    "print(f\"python_snake  similarity: {python_snake}\")   # try :4.2f after the variable for formatting\n",
    "print(f\"python_coffee similarity: {python_coffee}\")  # 4 characters wide, 2 places after the decimal point\n",
    "print(f\"snake_coffee  similarity: {snake_coffee}\")"
   ]
  },
  {
   "cell_type": "code",
   "execution_count": null,
   "metadata": {},
   "outputs": [],
   "source": [
    "#\n",
    "# Let's define an \"odd-one-out\" from any collection of words, \n",
    "# simply by considering all possible similarities (and adding them up for each word)\n",
    "\n",
    "\"\"\"\n",
    "here, for example:\n",
    "\n",
    "python_snake  similarity: .66\n",
    "python_coffee similarity: .02\n",
    "snake_coffee  similarity: .08\n",
    "\n",
    "So, summing the similarities for each word separately:\n",
    "  python:  .66 + .02 == .68\n",
    "  coffee:  .08 + .02 == .10\n",
    "  snake:   .66 + .08 == .74\n",
    "\n",
    "+++ In this case, \"coffee\" is the odd one out  (intuitive, in some ways)\n",
    "\n",
    "\n",
    "# What do you think about python, serpent, snake?\n",
    "# or python, serpent, snake, code?\n",
    "\n",
    "\"\"\"\n",
    "None"
   ]
  },
  {
   "cell_type": "code",
   "execution_count": 14,
   "metadata": {},
   "outputs": [
    {
     "data": {
      "text/plain": [
       "['snake', 'serpent', 'python', 'code', 'ai', 'ml', 'programming']"
      ]
     },
     "execution_count": 14,
     "metadata": {},
     "output_type": "execute_result"
    }
   ],
   "source": [
    "# notice that the split function makes creating lists-of-words a bit easier\n",
    "initial_words = \"snake serpent python code ai ml programming\".split()\n",
    "initial_words"
   ]
  },
  {
   "cell_type": "code",
   "execution_count": 15,
   "metadata": {},
   "outputs": [
    {
     "name": "stdout",
     "output_type": "stream",
     "text": [
      "similarity between python and snake:   0.66\n",
      "similarity between python and serpent:   0.45\n",
      "similarity between python and python:   1.00\n",
      "similarity between python and code:   0.11\n",
      "  __  ai  __ was not in the vocabulary\n",
      "similarity between python and ml:   0.08\n",
      "similarity between python and programming:   0.09\n",
      "LoS is [0.66062915, 0.44771376, 1.0, 0.10966148, 0.08480783, 0.09035954]\n",
      "LoW is ['snake', 'serpent', 'python', 'code', 'ml', 'programming']\n"
     ]
    }
   ],
   "source": [
    "#\n",
    "# here is a _single_ keyword, with similarities computed against every word w in initial_words\n",
    "key = 'python'\n",
    "\n",
    "LoS = []\n",
    "LoW = []\n",
    "for w in initial_words:\n",
    "    if w in m:  # is the word, w present in the vocabulary?\n",
    "        similarity = m.similarity(key,w)\n",
    "        print(f\"similarity between {key} and {w}: {similarity:6.2f}\", )\n",
    "        LoS.append( similarity )\n",
    "        LoW.append( w )\n",
    "    else:\n",
    "        print(f\"  __  {w}  __ was not in the vocabulary\", )   # not every word will be present\n",
    "\n",
    "print(f\"LoS is {LoS}\")\n",
    "print(f\"LoW is {LoW}\")\n"
   ]
  },
  {
   "cell_type": "markdown",
   "metadata": {},
   "source": [
    "Example: Comparing the similarities between musician, philosopher, mathematician, physicist, scientist, and artist"
   ]
  },
  {
   "cell_type": "code",
   "execution_count": 16,
   "metadata": {},
   "outputs": [
    {
     "name": "stdout",
     "output_type": "stream",
     "text": [
      "musician_philosopher  similarity: 0.40087151527404785\n",
      "musician_mathematician similarity: 0.3795289993286133\n",
      "musician_physicist  similarity: 0.3178832530975342\n",
      "musician_artist  similarity: 0.683772087097168\n"
     ]
    }
   ],
   "source": [
    "# Let's compare multiple similarities:\n",
    "\n",
    "musician_philosopher = m.similarity('musician','philosopher')\n",
    "musician_mathematician = m.similarity('musician','mathematician')\n",
    "musician_physicist = m.similarity('musician','physicist')\n",
    "musician_artist = m.similarity('musician','artist')\n",
    "\n",
    "print(f\"musician_philosopher  similarity: {musician_philosopher}\")   # try :4.2f after the variable for formatting\n",
    "print(f\"musician_mathematician similarity: {musician_mathematician}\")  # 4 characters wide, 2 places after the decimal point\n",
    "print(f\"musician_physicist  similarity: {musician_physicist}\")\n",
    "print(f\"musician_artist  similarity: {musician_artist}\")"
   ]
  },
  {
   "cell_type": "code",
   "execution_count": 18,
   "metadata": {},
   "outputs": [
    {
     "data": {
      "text/plain": [
       "['musician',\n",
       " 'philosopher',\n",
       " 'mathematician',\n",
       " 'physicist',\n",
       " 'scientist',\n",
       " 'artist']"
      ]
     },
     "execution_count": 18,
     "metadata": {},
     "output_type": "execute_result"
    }
   ],
   "source": [
    "people = \"musician philosopher mathematician physicist scientist artist\".split()\n",
    "people"
   ]
  },
  {
   "cell_type": "code",
   "execution_count": 19,
   "metadata": {},
   "outputs": [
    {
     "name": "stdout",
     "output_type": "stream",
     "text": [
      "similarity between musician and musician:   1.00\n",
      "similarity between musician and philosopher:   0.40\n",
      "similarity between musician and mathematician:   0.38\n",
      "similarity between musician and physicist:   0.32\n",
      "similarity between musician and scientist:   0.28\n",
      "similarity between musician and artist:   0.68\n",
      "LoS is [1.0, 0.40087152, 0.379529, 0.31788325, 0.28448194, 0.6837721]\n",
      "LoW is ['musician', 'philosopher', 'mathematician', 'physicist', 'scientist', 'artist']\n"
     ]
    }
   ],
   "source": [
    "key = 'musician'\n",
    "\n",
    "LoS = []\n",
    "LoW = []\n",
    "for p in people:\n",
    "    if p in m:  # is the word, w present in the vocabulary?\n",
    "        similarity = m.similarity(key,p)\n",
    "        print(f\"similarity between {key} and {p}: {similarity:6.2f}\", )\n",
    "        LoS.append( similarity )\n",
    "        LoW.append( p )\n",
    "    else:\n",
    "        print(f\"  __  {p}  __ was not in the vocabulary\", )   # not every word will be present\n",
    "\n",
    "print(f\"LoS is {LoS}\")\n",
    "print(f\"LoW is {LoW}\")"
   ]
  },
  {
   "cell_type": "code",
   "execution_count": 20,
   "metadata": {},
   "outputs": [
    {
     "name": "stdout",
     "output_type": "stream",
     "text": [
      "similarity between philosopher and musician:   0.40\n",
      "similarity between philosopher and philosopher:   1.00\n",
      "similarity between philosopher and mathematician:   0.60\n",
      "similarity between philosopher and physicist:   0.50\n",
      "similarity between philosopher and scientist:   0.42\n",
      "similarity between philosopher and artist:   0.34\n",
      "LoS is [0.40087152, 1.0, 0.6021041, 0.4972618, 0.41936857, 0.34335732]\n",
      "LoW is ['musician', 'philosopher', 'mathematician', 'physicist', 'scientist', 'artist']\n"
     ]
    }
   ],
   "source": [
    "key = 'philosopher'\n",
    "\n",
    "LoS = []\n",
    "LoW = []\n",
    "for p in people:\n",
    "    if p in m:  # is the word, w present in the vocabulary?\n",
    "        similarity = m.similarity(key,p)\n",
    "        print(f\"similarity between {key} and {p}: {similarity:6.2f}\", )\n",
    "        LoS.append( similarity )\n",
    "        LoW.append( p )\n",
    "    else:\n",
    "        print(f\"  __  {p}  __ was not in the vocabulary\", )   # not every word will be present\n",
    "\n",
    "print(f\"LoS is {LoS}\")\n",
    "print(f\"LoW is {LoW}\")"
   ]
  },
  {
   "cell_type": "code",
   "execution_count": 21,
   "metadata": {},
   "outputs": [
    {
     "name": "stdout",
     "output_type": "stream",
     "text": [
      "similarity between mathematician and musician:   0.38\n",
      "similarity between mathematician and philosopher:   0.60\n",
      "similarity between mathematician and mathematician:   1.00\n",
      "similarity between mathematician and physicist:   0.69\n",
      "similarity between mathematician and scientist:   0.58\n",
      "similarity between mathematician and artist:   0.30\n",
      "LoS is [0.379529, 0.6021041, 1.0, 0.6928618, 0.5794289, 0.2952537]\n",
      "LoW is ['musician', 'philosopher', 'mathematician', 'physicist', 'scientist', 'artist']\n"
     ]
    }
   ],
   "source": [
    "key = 'mathematician'\n",
    "\n",
    "LoS = []\n",
    "LoW = []\n",
    "for p in people:\n",
    "    if p in m:  # is the word, w present in the vocabulary?\n",
    "        similarity = m.similarity(key,p)\n",
    "        print(f\"similarity between {key} and {p}: {similarity:6.2f}\", )\n",
    "        LoS.append( similarity )\n",
    "        LoW.append( p )\n",
    "    else:\n",
    "        print(f\"  __  {p}  __ was not in the vocabulary\", )   # not every word will be present\n",
    "\n",
    "print(f\"LoS is {LoS}\")\n",
    "print(f\"LoW is {LoW}\")"
   ]
  },
  {
   "cell_type": "code",
   "execution_count": 22,
   "metadata": {},
   "outputs": [
    {
     "name": "stdout",
     "output_type": "stream",
     "text": [
      "similarity between physicist and musician:   0.32\n",
      "similarity between physicist and philosopher:   0.50\n",
      "similarity between physicist and mathematician:   0.69\n",
      "similarity between physicist and physicist:   1.00\n",
      "similarity between physicist and scientist:   0.74\n",
      "similarity between physicist and artist:   0.24\n",
      "LoS is [0.31788325, 0.4972618, 0.6928618, 1.0, 0.7408766, 0.24280126]\n",
      "LoW is ['musician', 'philosopher', 'mathematician', 'physicist', 'scientist', 'artist']\n"
     ]
    }
   ],
   "source": [
    "key = 'physicist'\n",
    "\n",
    "LoS = []\n",
    "LoW = []\n",
    "for p in people:\n",
    "    if p in m:  # is the word, w present in the vocabulary?\n",
    "        similarity = m.similarity(key,p)\n",
    "        print(f\"similarity between {key} and {p}: {similarity:6.2f}\", )\n",
    "        LoS.append( similarity )\n",
    "        LoW.append( p )\n",
    "    else:\n",
    "        print(f\"  __  {p}  __ was not in the vocabulary\", )   # not every word will be present\n",
    "\n",
    "print(f\"LoS is {LoS}\")\n",
    "print(f\"LoW is {LoW}\")"
   ]
  },
  {
   "cell_type": "code",
   "execution_count": 23,
   "metadata": {},
   "outputs": [
    {
     "name": "stdout",
     "output_type": "stream",
     "text": [
      "similarity between scientist and musician:   0.28\n",
      "similarity between scientist and philosopher:   0.42\n",
      "similarity between scientist and mathematician:   0.58\n",
      "similarity between scientist and physicist:   0.74\n",
      "similarity between scientist and scientist:   1.00\n",
      "similarity between scientist and artist:   0.27\n",
      "LoS is [0.28448194, 0.41936857, 0.5794289, 0.7408766, 0.99999994, 0.27172416]\n",
      "LoW is ['musician', 'philosopher', 'mathematician', 'physicist', 'scientist', 'artist']\n"
     ]
    }
   ],
   "source": [
    "key = 'scientist'\n",
    "\n",
    "LoS = []\n",
    "LoW = []\n",
    "for p in people:\n",
    "    if p in m:  # is the word, w present in the vocabulary?\n",
    "        similarity = m.similarity(key,p)\n",
    "        print(f\"similarity between {key} and {p}: {similarity:6.2f}\", )\n",
    "        LoS.append( similarity )\n",
    "        LoW.append( p )\n",
    "    else:\n",
    "        print(f\"  __  {p}  __ was not in the vocabulary\", )   # not every word will be present\n",
    "\n",
    "print(f\"LoS is {LoS}\")\n",
    "print(f\"LoW is {LoW}\")"
   ]
  },
  {
   "cell_type": "code",
   "execution_count": 24,
   "metadata": {},
   "outputs": [
    {
     "name": "stdout",
     "output_type": "stream",
     "text": [
      "similarity between artist and musician:   0.68\n",
      "similarity between artist and philosopher:   0.34\n",
      "similarity between artist and mathematician:   0.30\n",
      "similarity between artist and physicist:   0.24\n",
      "similarity between artist and scientist:   0.27\n",
      "similarity between artist and artist:   1.00\n",
      "LoS is [0.6837721, 0.34335732, 0.2952537, 0.24280126, 0.27172416, 0.99999994]\n",
      "LoW is ['musician', 'philosopher', 'mathematician', 'physicist', 'scientist', 'artist']\n"
     ]
    }
   ],
   "source": [
    "key = 'artist'\n",
    "\n",
    "LoS = []\n",
    "LoW = []\n",
    "for p in people:\n",
    "    if p in m:  # is the word, w present in the vocabulary?\n",
    "        similarity = m.similarity(key,p)\n",
    "        print(f\"similarity between {key} and {p}: {similarity:6.2f}\", )\n",
    "        LoS.append( similarity )\n",
    "        LoW.append( p )\n",
    "    else:\n",
    "        print(f\"  __  {p}  __ was not in the vocabulary\", )   # not every word will be present\n",
    "\n",
    "print(f\"LoS is {LoS}\")\n",
    "print(f\"LoW is {LoW}\")"
   ]
  },
  {
   "cell_type": "code",
   "execution_count": 28,
   "metadata": {},
   "outputs": [
    {
     "name": "stdout",
     "output_type": "stream",
     "text": [
      "similarity between musician and philosopher:   0.40\n",
      "similarity between musician and mathematician:   0.38\n",
      "similarity between musician and physicist:   0.32\n",
      "similarity between musician and scientist:   0.28\n",
      "similarity between musician and artist:   0.68\n",
      "similarity between philosopher and musician:   0.40\n",
      "similarity between philosopher and mathematician:   0.60\n",
      "similarity between philosopher and physicist:   0.50\n",
      "similarity between philosopher and scientist:   0.42\n",
      "similarity between philosopher and artist:   0.34\n",
      "similarity between mathematician and musician:   0.38\n",
      "similarity between mathematician and philosopher:   0.60\n",
      "similarity between mathematician and physicist:   0.69\n",
      "similarity between mathematician and scientist:   0.58\n",
      "similarity between mathematician and artist:   0.30\n",
      "similarity between physicist and musician:   0.32\n",
      "similarity between physicist and philosopher:   0.50\n",
      "similarity between physicist and mathematician:   0.69\n",
      "similarity between physicist and scientist:   0.74\n",
      "similarity between physicist and artist:   0.24\n",
      "similarity between scientist and musician:   0.28\n",
      "similarity between scientist and philosopher:   0.42\n",
      "similarity between scientist and mathematician:   0.58\n",
      "similarity between scientist and physicist:   0.74\n",
      "similarity between scientist and artist:   0.27\n",
      "similarity between artist and musician:   0.68\n",
      "similarity between artist and philosopher:   0.34\n",
      "similarity between artist and mathematician:   0.30\n",
      "similarity between artist and physicist:   0.24\n",
      "similarity between artist and scientist:   0.27\n",
      "LoS is [0.40087152, 0.379529, 0.31788325, 0.28448194, 0.6837721, 0.40087152, 0.6021041, 0.4972618, 0.41936857, 0.34335732, 0.379529, 0.6021041, 0.6928618, 0.5794289, 0.2952537, 0.31788325, 0.4972618, 0.6928618, 0.7408766, 0.24280126, 0.28448194, 0.41936857, 0.5794289, 0.7408766, 0.27172416, 0.6837721, 0.34335732, 0.2952537, 0.24280126, 0.27172416]\n",
      "LoW is ['musician/philosopher', 'musician/mathematician', 'musician/physicist', 'musician/scientist', 'musician/artist', 'philosopher/musician', 'philosopher/mathematician', 'philosopher/physicist', 'philosopher/scientist', 'philosopher/artist', 'mathematician/musician', 'mathematician/philosopher', 'mathematician/physicist', 'mathematician/scientist', 'mathematician/artist', 'physicist/musician', 'physicist/philosopher', 'physicist/mathematician', 'physicist/scientist', 'physicist/artist', 'scientist/musician', 'scientist/philosopher', 'scientist/mathematician', 'scientist/physicist', 'scientist/artist', 'artist/musician', 'artist/philosopher', 'artist/mathematician', 'artist/physicist', 'artist/scientist']\n"
     ]
    }
   ],
   "source": [
    "LoS = []\n",
    "LoW = []\n",
    "for p in people:\n",
    "    for j in people:  # is the word, w present in the vocabulary?\n",
    "        if p != j:\n",
    "            similarity = m.similarity(p,j)\n",
    "            print(f\"similarity between {p} and {j}: {similarity:6.2f}\", )\n",
    "            LoS.append( similarity )\n",
    "            LoW.append( p + \"/\" + j )\n",
    "\n",
    "print(f\"LoS is {LoS}\")\n",
    "print(f\"LoW is {LoW}\")"
   ]
  },
  {
   "cell_type": "markdown",
   "metadata": {},
   "source": [
    "Among the these words, \"physicist\" and \"scientist\" are the most closely related words while \"artist\" and \"physicist\" are the least closely related words."
   ]
  },
  {
   "attachments": {},
   "cell_type": "markdown",
   "metadata": {},
   "source": [
    "<br>\n",
    "\n",
    "###  hw8pr1 task #3: computing the \"odd-one-out\"\n",
    "\n",
    "Adapting the above cell as a starting point, create a function that computes the \"odd one out\"\n",
    "\n",
    "That is, <tt>odd_one_out( LoW, m )</tt> should\n",
    "+ take in LoW, a list-of-words\n",
    "+ take in m, a gensim word-embedding model (of type KeyedVectors)\n",
    "+ computing the similarities of all pairs-of-words across the elements of LoW\n",
    "+ return the word with the lowest _sum_ across all of those similarities\n",
    "+ (don't include any words not in the vocabulary)\n",
    "\n",
    "There are other ways to compute \"overall dissimilarity.\"  \n",
    "+ For our purposes, this is a reasonable first approach.\n",
    "+ Below is a cell with a signature line to get started:\n",
    "\n",
    "When you have built this, test it with three new examples of your own design\n",
    "+ Be sure that at least one example contains at least five words\n",
    "+ How well do your examples work?\n",
    "<br>"
   ]
  },
  {
   "cell_type": "code",
   "execution_count": 31,
   "metadata": {},
   "outputs": [
    {
     "name": "stdout",
     "output_type": "stream",
     "text": [
      "[0.40087152, 0.379529, 0.31788325, 0.28448194, 0.6837721, 0.40087152, 0.6021041, 0.4972618, 0.41936857, 0.34335732, 0.379529, 0.6021041, 0.6928618, 0.5794289, 0.2952537, 0.31788325, 0.4972618, 0.6928618, 0.7408766, 0.24280126, 0.28448194, 0.41936857, 0.5794289, 0.7408766, 0.27172416, 0.6837721, 0.34335732, 0.2952537, 0.24280126, 0.27172416]\n",
      "['musician/philosopher', 'musician/mathematician', 'musician/physicist', 'musician/scientist', 'musician/artist', 'philosopher/musician', 'philosopher/mathematician', 'philosopher/physicist', 'philosopher/scientist', 'philosopher/artist', 'mathematician/musician', 'mathematician/philosopher', 'mathematician/physicist', 'mathematician/scientist', 'mathematician/artist', 'physicist/musician', 'physicist/philosopher', 'physicist/mathematician', 'physicist/scientist', 'physicist/artist', 'scientist/musician', 'scientist/philosopher', 'scientist/mathematician', 'scientist/physicist', 'scientist/artist', 'artist/musician', 'artist/philosopher', 'artist/mathematician', 'artist/physicist', 'artist/scientist']\n",
      "{'musician/philosopher': 0.40087152, 'musician/mathematician': 0.379529, 'musician/physicist': 0.31788325, 'musician/scientist': 0.28448194, 'musician/artist': 0.6837721, 'philosopher/musician': 0.40087152, 'philosopher/mathematician': 0.6021041, 'philosopher/physicist': 0.4972618, 'philosopher/scientist': 0.41936857, 'philosopher/artist': 0.34335732, 'mathematician/musician': 0.379529, 'mathematician/philosopher': 0.6021041, 'mathematician/physicist': 0.6928618, 'mathematician/scientist': 0.5794289, 'mathematician/artist': 0.2952537, 'physicist/musician': 0.31788325, 'physicist/philosopher': 0.4972618, 'physicist/mathematician': 0.6928618, 'physicist/scientist': 0.7408766, 'physicist/artist': 0.24280126, 'scientist/musician': 0.28448194, 'scientist/philosopher': 0.41936857, 'scientist/mathematician': 0.5794289, 'scientist/physicist': 0.7408766, 'scientist/artist': 0.27172416, 'artist/musician': 0.6837721, 'artist/philosopher': 0.34335732, 'artist/mathematician': 0.2952537, 'artist/physicist': 0.24280126, 'artist/scientist': 0.27172416}\n"
     ]
    }
   ],
   "source": [
    "print(LoS)\n",
    "print(LoW)\n",
    "word_compare = {}\n",
    "for i in range(len(LoS)):\n",
    "    word_compare[LoW[i]] = LoS[i]\n",
    "print(word_compare)"
   ]
  },
  {
   "cell_type": "code",
   "execution_count": 54,
   "metadata": {},
   "outputs": [],
   "source": [
    "#\n",
    "# here is a signature line for odd_one_out (a starting point)\n",
    "#\n",
    "sum_dic = {}\n",
    "def odd_one_out( LoW, m ):\n",
    "    \"\"\" \n",
    "        odd_one_out should take in LoW, a list-of-words\n",
    "        odd_one_out also takes in m, a gensim word-embedding model (of type KeyedVectors)\n",
    "        and it should return the word, w, in LoW that is _least_ like all the others\n",
    "\n",
    "        The idea:  run a pairwise-comparison of all words!\n",
    "        Then find the sum of the dis-similarities (and return the one with the largest sum)\n",
    "    \"\"\"\n",
    "    for i in LoW:\n",
    "        for j in LoW:\n",
    "            if i not in LoW or j not in LoW:\n",
    "                print(\"Some word is not included in the list :)\")\n",
    "            if i != j:\n",
    "                wordsum = m.similarity(i, j)\n",
    "                print(f\"The similarity for {i} is {wordsum}\")\n",
    "                sum_dic[i] = wordsum \n",
    "    max_key,max_value = max(sum_dic.items(), key=lambda item: item[1])               \n",
    "    print(sum_dic)\n",
    "    print(f\"The word with the largest sum is {max_key}, and the sum is {max_value}\")\n",
    "\n",
    "\n",
    "\n",
    "                \n",
    "\n",
    "\n",
    "        \n",
    "\n",
    "\n",
    "\n",
    "\n",
    "\n",
    "    \n",
    "\n",
    "\n",
    "\n",
    "\n"
   ]
  },
  {
   "cell_type": "code",
   "execution_count": null,
   "metadata": {},
   "outputs": [],
   "source": [
    "#\n",
    "# Create and run three examples - of at least 4 words each - for your odd_one_out function.\n",
    "# For example,\n",
    "#        LoW = \"apple banana cat pear\".split()\n",
    "#\n",
    "# Also, note if you would describe them as successful, unsuccessful, or \"other\" !"
   ]
  },
  {
   "cell_type": "code",
   "execution_count": 55,
   "metadata": {},
   "outputs": [
    {
     "name": "stdout",
     "output_type": "stream",
     "text": [
      "The similarity for king is 0.6510958671569824\n",
      "The similarity for king is 0.6159993410110474\n",
      "The similarity for king is 0.0834137499332428\n",
      "The similarity for queen is 0.6510958671569824\n",
      "The similarity for queen is 0.5534095764160156\n",
      "The similarity for queen is 0.08382406085729599\n",
      "The similarity for prince is 0.6159993410110474\n",
      "The similarity for prince is 0.5534095764160156\n",
      "The similarity for prince is 0.07261732965707779\n",
      "The similarity for coffee is 0.0834137499332428\n",
      "The similarity for coffee is 0.08382406085729599\n",
      "The similarity for coffee is 0.07261732965707779\n",
      "{'king': 0.08341375, 'queen': 0.08382406, 'prince': 0.07261733, 'coffee': 0.07261733}\n",
      "The word with the largest sum is queen, and the sum is 0.08382406085729599\n",
      "None\n",
      "The similarity for musician is 0.40087151527404785\n",
      "The similarity for musician is 0.3795289993286133\n",
      "The similarity for musician is 0.3178832530975342\n",
      "The similarity for musician is 0.284481942653656\n",
      "The similarity for musician is 0.683772087097168\n",
      "The similarity for philosopher is 0.40087151527404785\n",
      "The similarity for philosopher is 0.602104127407074\n",
      "The similarity for philosopher is 0.49726179242134094\n",
      "The similarity for philosopher is 0.41936856508255005\n",
      "The similarity for philosopher is 0.3433573246002197\n",
      "The similarity for mathematician is 0.3795289993286133\n",
      "The similarity for mathematician is 0.602104127407074\n",
      "The similarity for mathematician is 0.692861795425415\n",
      "The similarity for mathematician is 0.5794289112091064\n",
      "The similarity for mathematician is 0.2952536940574646\n",
      "The similarity for physicist is 0.3178832530975342\n",
      "The similarity for physicist is 0.49726179242134094\n",
      "The similarity for physicist is 0.692861795425415\n",
      "The similarity for physicist is 0.7408766150474548\n",
      "The similarity for physicist is 0.2428012639284134\n",
      "The similarity for scientist is 0.284481942653656\n",
      "The similarity for scientist is 0.41936856508255005\n",
      "The similarity for scientist is 0.5794289112091064\n",
      "The similarity for scientist is 0.7408766150474548\n",
      "The similarity for scientist is 0.2717241644859314\n",
      "The similarity for artist is 0.683772087097168\n",
      "The similarity for artist is 0.3433573246002197\n",
      "The similarity for artist is 0.2952536940574646\n",
      "The similarity for artist is 0.2428012639284134\n",
      "The similarity for artist is 0.2717241644859314\n",
      "{'king': 0.08341375, 'queen': 0.08382406, 'prince': 0.07261733, 'coffee': 0.07261733, 'musician': 0.6837721, 'philosopher': 0.34335732, 'mathematician': 0.2952537, 'physicist': 0.24280126, 'scientist': 0.27172416, 'artist': 0.27172416}\n",
      "The word with the largest sum is musician, and the sum is 0.683772087097168\n",
      "None\n",
      "The similarity for coffee is 0.5635292530059814\n"
     ]
    },
    {
     "ename": "KeyError",
     "evalue": "\"Key 'CS' not present\"",
     "output_type": "error",
     "traceback": [
      "\u001b[0;31m---------------------------------------------------------------------------\u001b[0m",
      "\u001b[0;31mKeyError\u001b[0m                                  Traceback (most recent call last)",
      "Cell \u001b[0;32mIn[55], line 6\u001b[0m\n\u001b[1;32m      4\u001b[0m \u001b[38;5;28mprint\u001b[39m(odd_one_out(wordlist1, m))\n\u001b[1;32m      5\u001b[0m \u001b[38;5;28mprint\u001b[39m(odd_one_out(wordlist2,m))\n\u001b[0;32m----> 6\u001b[0m \u001b[38;5;28mprint\u001b[39m(\u001b[43modd_one_out\u001b[49m\u001b[43m(\u001b[49m\u001b[43mwordlist3\u001b[49m\u001b[43m,\u001b[49m\u001b[43mm\u001b[49m\u001b[43m)\u001b[49m)\n",
      "Cell \u001b[0;32mIn[54], line 19\u001b[0m, in \u001b[0;36modd_one_out\u001b[0;34m(LoW, m)\u001b[0m\n\u001b[1;32m     17\u001b[0m     \u001b[38;5;28mprint\u001b[39m(\u001b[38;5;124m\"\u001b[39m\u001b[38;5;124mSome word is not included in the list :)\u001b[39m\u001b[38;5;124m\"\u001b[39m)\n\u001b[1;32m     18\u001b[0m \u001b[38;5;28;01mif\u001b[39;00m i \u001b[38;5;241m!=\u001b[39m j:\n\u001b[0;32m---> 19\u001b[0m     wordsum \u001b[38;5;241m=\u001b[39m \u001b[43mm\u001b[49m\u001b[38;5;241;43m.\u001b[39;49m\u001b[43msimilarity\u001b[49m\u001b[43m(\u001b[49m\u001b[43mi\u001b[49m\u001b[43m,\u001b[49m\u001b[43m \u001b[49m\u001b[43mj\u001b[49m\u001b[43m)\u001b[49m\n\u001b[1;32m     20\u001b[0m     \u001b[38;5;28mprint\u001b[39m(\u001b[38;5;124mf\u001b[39m\u001b[38;5;124m\"\u001b[39m\u001b[38;5;124mThe similarity for \u001b[39m\u001b[38;5;132;01m{\u001b[39;00mi\u001b[38;5;132;01m}\u001b[39;00m\u001b[38;5;124m is \u001b[39m\u001b[38;5;132;01m{\u001b[39;00mwordsum\u001b[38;5;132;01m}\u001b[39;00m\u001b[38;5;124m\"\u001b[39m)\n\u001b[1;32m     21\u001b[0m     sum_dic[i] \u001b[38;5;241m=\u001b[39m wordsum \n",
      "File \u001b[0;32m/Library/Frameworks/Python.framework/Versions/3.12/lib/python3.12/site-packages/gensim/models/keyedvectors.py:1234\u001b[0m, in \u001b[0;36mKeyedVectors.similarity\u001b[0;34m(self, w1, w2)\u001b[0m\n\u001b[1;32m   1218\u001b[0m \u001b[38;5;28;01mdef\u001b[39;00m\u001b[38;5;250m \u001b[39m\u001b[38;5;21msimilarity\u001b[39m(\u001b[38;5;28mself\u001b[39m, w1, w2):\n\u001b[1;32m   1219\u001b[0m \u001b[38;5;250m    \u001b[39m\u001b[38;5;124;03m\"\"\"Compute cosine similarity between two keys.\u001b[39;00m\n\u001b[1;32m   1220\u001b[0m \n\u001b[1;32m   1221\u001b[0m \u001b[38;5;124;03m    Parameters\u001b[39;00m\n\u001b[0;32m   (...)\u001b[0m\n\u001b[1;32m   1232\u001b[0m \n\u001b[1;32m   1233\u001b[0m \u001b[38;5;124;03m    \"\"\"\u001b[39;00m\n\u001b[0;32m-> 1234\u001b[0m     \u001b[38;5;28;01mreturn\u001b[39;00m dot(matutils\u001b[38;5;241m.\u001b[39munitvec(\u001b[38;5;28mself\u001b[39m[w1]), matutils\u001b[38;5;241m.\u001b[39munitvec(\u001b[38;5;28;43mself\u001b[39;49m\u001b[43m[\u001b[49m\u001b[43mw2\u001b[49m\u001b[43m]\u001b[49m))\n",
      "File \u001b[0;32m/Library/Frameworks/Python.framework/Versions/3.12/lib/python3.12/site-packages/gensim/models/keyedvectors.py:403\u001b[0m, in \u001b[0;36mKeyedVectors.__getitem__\u001b[0;34m(self, key_or_keys)\u001b[0m\n\u001b[1;32m    389\u001b[0m \u001b[38;5;250m\u001b[39m\u001b[38;5;124;03m\"\"\"Get vector representation of `key_or_keys`.\u001b[39;00m\n\u001b[1;32m    390\u001b[0m \n\u001b[1;32m    391\u001b[0m \u001b[38;5;124;03mParameters\u001b[39;00m\n\u001b[0;32m   (...)\u001b[0m\n\u001b[1;32m    400\u001b[0m \n\u001b[1;32m    401\u001b[0m \u001b[38;5;124;03m\"\"\"\u001b[39;00m\n\u001b[1;32m    402\u001b[0m \u001b[38;5;28;01mif\u001b[39;00m \u001b[38;5;28misinstance\u001b[39m(key_or_keys, _KEY_TYPES):\n\u001b[0;32m--> 403\u001b[0m     \u001b[38;5;28;01mreturn\u001b[39;00m \u001b[38;5;28;43mself\u001b[39;49m\u001b[38;5;241;43m.\u001b[39;49m\u001b[43mget_vector\u001b[49m\u001b[43m(\u001b[49m\u001b[43mkey_or_keys\u001b[49m\u001b[43m)\u001b[49m\n\u001b[1;32m    405\u001b[0m \u001b[38;5;28;01mreturn\u001b[39;00m vstack([\u001b[38;5;28mself\u001b[39m\u001b[38;5;241m.\u001b[39mget_vector(key) \u001b[38;5;28;01mfor\u001b[39;00m key \u001b[38;5;129;01min\u001b[39;00m key_or_keys])\n",
      "File \u001b[0;32m/Library/Frameworks/Python.framework/Versions/3.12/lib/python3.12/site-packages/gensim/models/keyedvectors.py:446\u001b[0m, in \u001b[0;36mKeyedVectors.get_vector\u001b[0;34m(self, key, norm)\u001b[0m\n\u001b[1;32m    422\u001b[0m \u001b[38;5;28;01mdef\u001b[39;00m\u001b[38;5;250m \u001b[39m\u001b[38;5;21mget_vector\u001b[39m(\u001b[38;5;28mself\u001b[39m, key, norm\u001b[38;5;241m=\u001b[39m\u001b[38;5;28;01mFalse\u001b[39;00m):\n\u001b[1;32m    423\u001b[0m \u001b[38;5;250m    \u001b[39m\u001b[38;5;124;03m\"\"\"Get the key's vector, as a 1D numpy array.\u001b[39;00m\n\u001b[1;32m    424\u001b[0m \n\u001b[1;32m    425\u001b[0m \u001b[38;5;124;03m    Parameters\u001b[39;00m\n\u001b[0;32m   (...)\u001b[0m\n\u001b[1;32m    444\u001b[0m \n\u001b[1;32m    445\u001b[0m \u001b[38;5;124;03m    \"\"\"\u001b[39;00m\n\u001b[0;32m--> 446\u001b[0m     index \u001b[38;5;241m=\u001b[39m \u001b[38;5;28;43mself\u001b[39;49m\u001b[38;5;241;43m.\u001b[39;49m\u001b[43mget_index\u001b[49m\u001b[43m(\u001b[49m\u001b[43mkey\u001b[49m\u001b[43m)\u001b[49m\n\u001b[1;32m    447\u001b[0m     \u001b[38;5;28;01mif\u001b[39;00m norm:\n\u001b[1;32m    448\u001b[0m         \u001b[38;5;28mself\u001b[39m\u001b[38;5;241m.\u001b[39mfill_norms()\n",
      "File \u001b[0;32m/Library/Frameworks/Python.framework/Versions/3.12/lib/python3.12/site-packages/gensim/models/keyedvectors.py:420\u001b[0m, in \u001b[0;36mKeyedVectors.get_index\u001b[0;34m(self, key, default)\u001b[0m\n\u001b[1;32m    418\u001b[0m     \u001b[38;5;28;01mreturn\u001b[39;00m default\n\u001b[1;32m    419\u001b[0m \u001b[38;5;28;01melse\u001b[39;00m:\n\u001b[0;32m--> 420\u001b[0m     \u001b[38;5;28;01mraise\u001b[39;00m \u001b[38;5;167;01mKeyError\u001b[39;00m(\u001b[38;5;124mf\u001b[39m\u001b[38;5;124m\"\u001b[39m\u001b[38;5;124mKey \u001b[39m\u001b[38;5;124m'\u001b[39m\u001b[38;5;132;01m{\u001b[39;00mkey\u001b[38;5;132;01m}\u001b[39;00m\u001b[38;5;124m'\u001b[39m\u001b[38;5;124m not present\u001b[39m\u001b[38;5;124m\"\u001b[39m)\n",
      "\u001b[0;31mKeyError\u001b[0m: \"Key 'CS' not present\""
     ]
    }
   ],
   "source": [
    "wordlist1 = \"king queen prince coffee\".split()\n",
    "wordlist2 = \"musician philosopher mathematician physicist scientist artist\".split()\n",
    "wordlist3 = \"coffee tea CS math\".split()\n",
    "print(odd_one_out(wordlist1, m))\n",
    "print(odd_one_out(wordlist2,m))\n",
    "print(odd_one_out(wordlist3,m))\n",
    "        "
   ]
  },
  {
   "attachments": {},
   "cell_type": "markdown",
   "metadata": {},
   "source": [
    "<br>\n",
    "\n",
    "####  A _geometric_ view of word-vectors..."
   ]
  },
  {
   "cell_type": "code",
   "execution_count": 41,
   "metadata": {},
   "outputs": [],
   "source": [
    "#\n",
    "# This is an alternative view of the data -- within a projection of word-embedding space itself\n",
    "# This is in 2d. A 3d version is here: https://www.cs.cmu.edu/~dst/WordEmbeddingDemo/index.html\n",
    "#\n",
    "# Let's see the word vectors in two dimensions!\n",
    "#\n",
    "def visualize_wordvecs(wordlist, model):\n",
    "    \"\"\" example of finding an outlier with word2vec and graphically \"\"\"\n",
    "    # \n",
    "    # Are all of the works in the model?\n",
    "    #\n",
    "    for w in wordlist:\n",
    "        if w not in model:\n",
    "            print(\"Aargh - the model does not contain\", w)\n",
    "            print(\"Stopping...\")\n",
    "            return\n",
    "    #\n",
    "    # Next, we use PCA, Principal Components Analysis, to toss out 298 dimensions!\n",
    "    # and create a scatterplot of the words...\n",
    "    #\n",
    "    # Intuitive description of PCA:   https://setosa.io/ev/principal-component-analysis/\n",
    "    #\n",
    "    from sklearn.decomposition import PCA\n",
    "    import matplotlib.pyplot as plt\n",
    "    import numpy\n",
    "\n",
    "    pca = PCA(n_components=2)             # 2 dimensions\n",
    "    pca_model = pca.fit(model.vectors)    # all 43,981 words with 300 numbers each!\n",
    "    LoM = [model.get_vector(w) for w in wordlist]   # list of models for each word w\n",
    "    \n",
    "    word_vectors = numpy.vstack(LoM)     # vstack creates a vertical column from a list\n",
    "    transformed_words = pca_model.transform(word_vectors)  # transform to our 2d space\n",
    "\n",
    "    # scatterplot\n",
    "    plt.subplots(figsize=(15,10))  # (18, 12)\n",
    "    plt.scatter(transformed_words[:,0],transformed_words[:,1])\n",
    "    \n",
    "    # This is matplotlib's code for _annotating_ graphs (yay!)\n",
    "    for i, word in enumerate(wordlist):\n",
    "        plt.annotate(word, (transformed_words[i,0], transformed_words[i,1]), size='large')\n",
    "        # it's possible to be more sophisticated, but this is ok for now\n",
    "\n",
    "    plt.show()\n",
    "    return"
   ]
  },
  {
   "cell_type": "code",
   "execution_count": 42,
   "metadata": {},
   "outputs": [
    {
     "data": {
      "image/png": "[encoded data removed]",
      "text/plain": [
       "<Figure size 1500x1000 with 1 Axes>"
      ]
     },
     "metadata": {},
     "output_type": "display_data"
    }
   ],
   "source": [
    "#\n",
    "# Example of calling visualize_wordvecs...\n",
    "#\n",
    "#LoW = \"breakfast lunch dinner coffee snake senate\".split()     #  cereal python, one two three four five twelve\n",
    "LoW = \"one two three four\".split() \n",
    "#LoW = \"breakfast lunch dinner\".split()  \n",
    "visualize_wordvecs(LoW, m)    "
   ]
  },
  {
   "attachments": {},
   "cell_type": "markdown",
   "metadata": {},
   "source": [
    "###  hw8pr1 task #4: &nbsp; Your task: &nbsp;&nbsp; Create two more examples...\n",
    "\n",
    "Using your own choice of words, create two more examples in the spirit of the ones above.\n",
    "\n",
    "Let's say, at least four words for each. More words welcome!"
   ]
  },
  {
   "cell_type": "code",
   "execution_count": 57,
   "metadata": {},
   "outputs": [
    {
     "data": {
      "image/png": "[encoded data removed]",
      "text/plain": [
       "<Figure size 1500x1000 with 1 Axes>"
      ]
     },
     "metadata": {},
     "output_type": "display_data"
    }
   ],
   "source": [
    "#\n",
    "# Example of calling visualize_wordvecs...\n",
    "#\n",
    "#LoW = \"breakfast lunch dinner coffee snake senate\".split()     #  cereal python, one two three four five twelve\n",
    "LoW2 = \"America Japan China India France\".split() \n",
    "visualize_wordvecs(LoW2, m)    "
   ]
  },
  {
   "cell_type": "code",
   "execution_count": 58,
   "metadata": {},
   "outputs": [
    {
     "data": {
      "image/png": "[encoded data removed]",
      "text/plain": [
       "<Figure size 1500x1000 with 1 Axes>"
      ]
     },
     "metadata": {},
     "output_type": "display_data"
    }
   ],
   "source": [
    "# Comparing language\n",
    "LoW3 = \"English French German Russian Chinese Japanese\".split() \n",
    "visualize_wordvecs(LoW3, m) "
   ]
  },
  {
   "cell_type": "code",
   "execution_count": 63,
   "metadata": {},
   "outputs": [
    {
     "data": {
      "image/png": "[encoded data removed]",
      "text/plain": [
       "<Figure size 1500x1000 with 1 Axes>"
      ]
     },
     "metadata": {},
     "output_type": "display_data"
    }
   ],
   "source": [
    "# Comparing STEM subjects\n",
    "LoW4 = \"engineering math physics biology chemistry\".split()\n",
    "visualize_wordvecs(LoW4,m)"
   ]
  },
  {
   "cell_type": "markdown",
   "metadata": {},
   "source": [
    "<br>\n",
    "\n",
    "<br>\n",
    "\n",
    "<hr>\n",
    "\n",
    "<br>\n",
    "\n",
    "####  **Optional** &nbsp; Visualizing vocabulary similarities as a heat map\n",
    "\n",
    "The next cell begins the process of visualizing similarity as a heat map.\n",
    "+ (optional, ec) &nbsp; The challenge is to expand this into a full 2d visualization of similarities\n",
    "+ First, for our two sets of words...\n",
    "  + <tt>Keys = [ 'python', 'ruby', 'r', 'c', 'java', 'coffee' ]</tt> , along with\n",
    "  + <tt>initial_words = \"snake serpent python code ai ml programming\".split()</tt>\n",
    "+ Then, for two more sets of words -- of your own design:\n",
    "\n",
    "<br>"
   ]
  },
  {
   "cell_type": "code",
   "execution_count": 43,
   "metadata": {},
   "outputs": [
    {
     "name": "stdout",
     "output_type": "stream",
     "text": [
      "similarity between python and musician:   0.08\n",
      "similarity between python and philosopher:   0.05\n",
      "similarity between python and mathematician:   0.03\n",
      "similarity between python and physicist:  -0.02\n",
      "similarity between python and scientist:   0.03\n",
      "similarity between python and artist:   0.15\n",
      "LoS is [0.07785391, 0.045812987, 0.02609564, -0.015833125, 0.025086502, 0.1495049]\n",
      "LoW is ['musician', 'philosopher', 'mathematician', 'physicist', 'scientist', 'artist']\n"
     ]
    },
    {
     "data": {
      "text/plain": [
       "'Result:'"
      ]
     },
     "execution_count": 43,
     "metadata": {},
     "output_type": "execute_result"
    },
    {
     "data": {
      "image/png": "[encoded data removed]",
      "text/plain": [
       "<Figure size 1500x1000 with 1 Axes>"
      ]
     },
     "metadata": {},
     "output_type": "display_data"
    }
   ],
   "source": [
    "# Starting point for visualizing 2d similarity via a heat map\n",
    "\n",
    "import pandas as pd\n",
    "import matplotlib.pyplot as plt\n",
    "import seaborn as sns\n",
    "sns.set_theme(style=\"darkgrid\")\n",
    "\n",
    "# adaptation of the previous similarity-based code\n",
    "key = 'python'      # this is a _single_ word - the task is to loop over the list, perhaps named Keys\n",
    "LoS = []\n",
    "LoW = []\n",
    "for w in initial_words:\n",
    "    if w in m:  # is the word, w present in the vocabulary?\n",
    "        similarity = m.similarity(key,w)\n",
    "        print(f\"similarity between {key} and {w}: {similarity:6.2f}\", )\n",
    "        LoS.append( similarity )\n",
    "        LoW.append( w )\n",
    "    else:\n",
    "        print(f\"  __  {w}  __ was not in the vocabulary\", )   # not every word will be present\n",
    "\n",
    "print(f\"LoS is {LoS}\")\n",
    "print(f\"LoW is {LoW}\")\n",
    "\n",
    "my_data_list = [ LoS ]\n",
    "my_dataframe = pd.DataFrame(my_data_list, columns=LoW)\n",
    "\n",
    "\n",
    "# Draw a heatmap with the numeric values in each cell\n",
    "f, ax = plt.subplots(figsize=(15,10))  # (18, 12)\n",
    "sns.heatmap(data=my_dataframe, annot=True, fmt=\"4.2f\", linewidths=2, yticklabels=[\"python\"], square=True, cmap=\"Purples\", cbar=False, ax=ax)\n",
    "\n",
    "ylocs, ylabels = plt.yticks()\n",
    "plt.setp(ylabels, rotation=0, fontsize=15)\n",
    "xlocs, xlabels = plt.xticks()\n",
    "plt.setp(xlabels, rotation=70, fontsize=15)\n",
    "\"Result:\"\n",
    "\n",
    "# The goal is to output a square heatmap with all of the similarities plotted..."
   ]
  },
  {
   "cell_type": "markdown",
   "metadata": {},
   "source": [
    "<br>\n",
    "\n",
    "### More word-embedding geometry:  Analogies\n",
    "+ These are an introduction to the analogy problem in hw8 (see the google doc for more detail!)\n",
    "+ For the moment, we'll keep the examples and explorations in this notebook:"
   ]
  },
  {
   "cell_type": "code",
   "execution_count": 44,
   "metadata": {},
   "outputs": [
    {
     "data": {
      "text/plain": [
       "[('snake', 0.660629153251648),\n",
       " ('crocodile', 0.6591363549232483),\n",
       " ('alligator', 0.64216548204422),\n",
       " ('boa', 0.5617719292640686),\n",
       " ('constrictor', 0.5378887057304382),\n",
       " ('constrictors', 0.5356364846229553),\n",
       " ('snakes', 0.5345131754875183),\n",
       " ('anaconda', 0.5207394957542419),\n",
       " ('rabbit', 0.5074971318244934),\n",
       " ('tortoise', 0.5046288967132568)]"
      ]
     },
     "execution_count": 44,
     "metadata": {},
     "output_type": "execute_result"
    }
   ],
   "source": [
    "#\n",
    "# Let's take a look at some additional \"geometry\" of word-meanings (cool!)\n",
    "#\n",
    "\n",
    "m.most_similar(positive='python', topn=10)  # negative='snake'"
   ]
  },
  {
   "cell_type": "code",
   "execution_count": 45,
   "metadata": {},
   "outputs": [
    {
     "data": {
      "text/plain": [
       "[('Java', 0.22111037373542786),\n",
       " ('Dior', 0.2102828174829483),\n",
       " ('Notte', 0.2078552097082138),\n",
       " ('os', 0.19944755733013153),\n",
       " ('frock', 0.19739562273025513),\n",
       " ('blouse', 0.19704443216323853),\n",
       " ('plaids', 0.19696447253227234),\n",
       " ('blazer', 0.1878664493560791),\n",
       " ('gown', 0.17895956337451935),\n",
       " ('Gala', 0.17834942042827606)]"
      ]
     },
     "execution_count": 45,
     "metadata": {},
     "output_type": "execute_result"
    }
   ],
   "source": [
    "#\n",
    "# With this most_similar method, we can \"subtract\" vectors, too:\n",
    "#\n",
    "\n",
    "m.most_similar(positive='python', negative='snake', topn=10) "
   ]
  },
  {
   "cell_type": "code",
   "execution_count": 66,
   "metadata": {},
   "outputs": [
    {
     "data": {
      "text/plain": [
       "[('kingdom', 0.24925880134105682),\n",
       " ('illegitimate', 0.23341096937656403),\n",
       " ('Sultan', 0.2278379201889038),\n",
       " ('Wilcke', 0.22153809666633606),\n",
       " ('filed', 0.21197128295898438),\n",
       " ('Ministry', 0.20485468208789825),\n",
       " ('discriminating', 0.1962185800075531),\n",
       " ('demand', 0.1950933039188385),\n",
       " ('Kant', 0.1901511698961258),\n",
       " ('decree', 0.18994896113872528)]"
      ]
     },
     "execution_count": 66,
     "metadata": {},
     "output_type": "execute_result"
    }
   ],
   "source": [
    "#\n",
    "# Here, see if you can determine the analogy that is being computed using word embeddings:\n",
    "# \n",
    "\n",
    "m.most_similar(positive=['king','woman'], negative=['man'], topn=10) "
   ]
  },
  {
   "cell_type": "code",
   "execution_count": 84,
   "metadata": {},
   "outputs": [
    {
     "name": "stdout",
     "output_type": "stream",
     "text": [
      "Testing most_similar on the king - man + woman example...\n"
     ]
    },
    {
     "data": {
      "text/plain": [
       "[('queen', 0.7118193507194519),\n",
       " ('monarch', 0.6189674139022827),\n",
       " ('princess', 0.5902430415153503),\n",
       " ('prince', 0.5377321243286133),\n",
       " ('kings', 0.5236843228340149),\n",
       " ('queens', 0.5181135535240173),\n",
       " ('throne', 0.5005807280540466),\n",
       " ('royal', 0.4938204884529114),\n",
       " ('ruler', 0.49092739820480347),\n",
       " ('princes', 0.481081485748291),\n",
       " ('goddess', 0.46613654494285583),\n",
       " ('kingdom', 0.455056756734848),\n",
       " ('palace', 0.45176565647125244),\n",
       " ('Princess', 0.43754076957702637),\n",
       " ('Queen', 0.43463781476020813),\n",
       " ('commoner', 0.4212746322154999),\n",
       " ('rajah', 0.4193156957626343),\n",
       " ('Duchess', 0.4068228304386139),\n",
       " ('emperor', 0.40543416142463684),\n",
       " ('Camilla', 0.4017578065395355),\n",
       " ('thrones', 0.3998573422431946),\n",
       " ('courtiers', 0.39595720171928406),\n",
       " ('regal', 0.3819999694824219),\n",
       " ('rulers', 0.37942641973495483),\n",
       " ('Sihanouk', 0.37839287519454956),\n",
       " ('sultans', 0.37643030285835266),\n",
       " ('King', 0.3749903440475464),\n",
       " ('nobles', 0.3740980923175812),\n",
       " ('emperors', 0.3723597228527069),\n",
       " ('courtesan', 0.37156444787979126),\n",
       " ('diva', 0.3690403699874878),\n",
       " ('bride', 0.3666728138923645),\n",
       " ('Dowager', 0.3612475097179413),\n",
       " ('curtseyed', 0.35585373640060425),\n",
       " ('kingdoms', 0.3506543040275574),\n",
       " ('Highness', 0.34930360317230225),\n",
       " ('aristocracy', 0.34892433881759644),\n",
       " ('courtier', 0.34654101729393005),\n",
       " ('nobleman', 0.3452429175376892),\n",
       " ('heroine', 0.3448053300380707),\n",
       " ('Belshazzar', 0.3442690372467041),\n",
       " ('ogress', 0.3426985442638397),\n",
       " ('imperial', 0.34133121371269226),\n",
       " ('mama', 0.3412654995918274),\n",
       " ('Sultan', 0.34003791213035583),\n",
       " ('crowned', 0.3379901945590973),\n",
       " ('harem', 0.3344113826751709),\n",
       " ('she', 0.3341125249862671),\n",
       " ('supreme', 0.33347487449645996),\n",
       " ('Siamese', 0.3322351276874542),\n",
       " ('maids', 0.33205997943878174),\n",
       " ('maid', 0.33087587356567383),\n",
       " ('crone', 0.3306196928024292),\n",
       " ('Boadicea', 0.33009275794029236),\n",
       " ('divan', 0.3291460871696472),\n",
       " ('divorcee', 0.32877013087272644),\n",
       " ('Rulers', 0.32863062620162964),\n",
       " ('lady', 0.3282867968082428),\n",
       " ('virgin', 0.32769253849983215),\n",
       " ('betrothal', 0.3270758390426636),\n",
       " ('fairy', 0.32676973938941956),\n",
       " ('niece', 0.32642677426338196),\n",
       " ('coquette', 0.3263770043849945),\n",
       " ('Scheherazade', 0.3255190849304199),\n",
       " (\"she'd\", 0.32508301734924316),\n",
       " ('illegitimate', 0.32436156272888184),\n",
       " ('sovereigns', 0.3243144452571869),\n",
       " ('knight', 0.32419854402542114),\n",
       " ('mother', 0.3241254687309265),\n",
       " ('republic', 0.32143670320510864),\n",
       " ('mistress', 0.31943729519844055),\n",
       " ('nightingale', 0.3191378116607666),\n",
       " ('wifely', 0.31844520568847656),\n",
       " ('betrothed', 0.31801220774650574),\n",
       " ('Hrothgar', 0.3179088532924652),\n",
       " ('beauteous', 0.3171955645084381),\n",
       " ('dauphin', 0.31691694259643555),\n",
       " ('commoners', 0.3167206048965454),\n",
       " ('crown', 0.3164826035499573),\n",
       " ('matriarch', 0.3160872161388397),\n",
       " ('majesty', 0.3160141408443451),\n",
       " ('Auntie', 0.314759224653244),\n",
       " ('metis', 0.31426700949668884),\n",
       " ('Gaveston', 0.31426188349723816),\n",
       " ('mermaid', 0.31315815448760986),\n",
       " ('tyrant', 0.31304246187210083),\n",
       " ('witch', 0.3126247227191925),\n",
       " ('deities', 0.31241902709007263),\n",
       " ('Habsburg', 0.3121723234653473),\n",
       " ('despot', 0.3120529353618622),\n",
       " ('husbands', 0.3108447194099426),\n",
       " ('fairies', 0.31050392985343933),\n",
       " ('matron', 0.3104967474937439),\n",
       " ('nobility', 0.3093676269054413),\n",
       " ('colony', 0.3089243769645691),\n",
       " ('bishop', 0.30822885036468506),\n",
       " ('hers', 0.30730119347572327),\n",
       " ('conqueror', 0.30670854449272156),\n",
       " ('Astarte', 0.3062826097011566),\n",
       " ('Throne', 0.3059627115726471)]"
      ]
     },
     "execution_count": 84,
     "metadata": {},
     "output_type": "execute_result"
    }
   ],
   "source": [
    "# \n",
    "# This problem is about building and testing analogies...\n",
    "# \n",
    "# This function has a hard-coded set of words, i.e., 'woman', 'king', and 'man'\n",
    "# Your tasks:\n",
    "#      + add inputs to the function \n",
    "#\n",
    "def test_most_similar(m):\n",
    "    \"\"\" example of most_similar \"\"\"\n",
    "    print(\"Testing most_similar on the king - man + woman example...\")\n",
    "    #results = m.most_similar(positive=['woman', 'king'], negative=['man'], topn=10) # topn == # of results\n",
    "    results = m.most_similar(positive=['woman', 'king'], negative=['man'], topn=100) # topn == # of results\n",
    "    return results\n",
    "\n",
    "hard_coded_results = test_most_similar(m)\n",
    "hard_coded_results"
   ]
  },
  {
   "cell_type": "code",
   "execution_count": 115,
   "metadata": {},
   "outputs": [
    {
     "data": {
      "text/plain": [
       "('Throne', 0.3059627115726471)"
      ]
     },
     "execution_count": 115,
     "metadata": {},
     "output_type": "execute_result"
    }
   ],
   "source": [
    "hard_coded_results[99]"
   ]
  },
  {
   "cell_type": "markdown",
   "metadata": {},
   "source": [
    "###  hw8pr1 task #5: &nbsp; Your task: &nbsp;&nbsp; two _analogy_ functions\n",
    "\n",
    "#### First, write `generate_analogy(word1, word2, word3, m)`  \n",
    "\n",
    "Create a function `generate_analogy(word1, word2, word3, m)` that \n",
    "+ first checks if all three words, `word1`, `word2`, `word3` are in the model `m`\n",
    "+ if not, it prints an error warning about this\n",
    "+ if so, it returns `word4`, where `word1` : `word2` :: `word3` : `word4`\n",
    "+ (This is using \"analogy notation\"!)\n",
    "+ Warning:  the ordering of the words in the most_similar call is DIFFERENT (watch out!)\n",
    "\n",
    "Be sure to test this on a few examples to find at least one that works well -- and one that does not!\n",
    "\n",
    "<br>\n",
    "<hr>\n",
    "<br>\n"
   ]
  },
  {
   "cell_type": "code",
   "execution_count": 86,
   "metadata": {},
   "outputs": [],
   "source": [
    "#\n",
    "# here is a starting point for generate_analogy:\n",
    "\n",
    "def generate_analogy(w1, w2, w3, m):\n",
    "  \"\"\" returns word2vec's \"answer\" for w1:w2 :: w3:?? \"\"\"\n",
    "  if w1 not in m:  # example check\n",
    "    print(f\"{w1} was not in the model.\")\n",
    "    return\n",
    "  if w2 not in m:  # example check\n",
    "    print(f\"{w2} was not in the model.\")\n",
    "    return\n",
    "  if w3 not in m:  # example check\n",
    "    print(f\"{w3} was not in the model.\")\n",
    "    return\n",
    "  else:\n",
    "    results = m.most_similar(positive=[w3, w2], negative=[w1], topn=100)\n",
    "    return results[0]\n",
    "\n",
    "  \n",
    "\n",
    "\n",
    "    return None\n",
    "\n",
    "  return \"queen\"   # somtimes correct! :-)"
   ]
  },
  {
   "cell_type": "code",
   "execution_count": 85,
   "metadata": {},
   "outputs": [
    {
     "data": {
      "text/plain": [
       "('Paris', 0.7672387361526489)"
      ]
     },
     "execution_count": 85,
     "metadata": {},
     "output_type": "execute_result"
    }
   ],
   "source": [
    "#\n",
    "# be sure to test -- and show off some of your own that work (and some that don't)\n",
    "#\n",
    "\n",
    "generate_analogy(\"man\", \"king\", \"woman\", m)  \n",
    "generate_analogy(\"Germany\", \"Berlin\", \"France\", m)  "
   ]
  },
  {
   "cell_type": "markdown",
   "metadata": {},
   "source": [
    "#### Then, write `check_analogy(word1, word2, word3, word4, m)`\n",
    "+ This should return a \"score\" on how well the word2vec model `m` does at solving the analogy provided, i.e., \n",
    "  + `word1` : `word2` :: `word3` : `word4`\n",
    "+ that is, it should determine where word4 appears in the top 100 (use topn=100) most-similar words\n",
    "+ if it _doens't_ appear in the top-100, it should give a score of 0\n",
    "+ if it _does_ appear, it should give a score between 1 and 100, but\n",
    "  + a score of 100 means a perfect score. \n",
    "  + A score of 1 means that `word4` was the 100th in the list, which is index 99\n",
    "+ Try it out!   \n",
    "  + `check_analogy( \"man\", \"king\", \"woman\", \"queen\", m ) -> 100` <br>\n",
    "  + `check_analogy( \"woman\", \"man\", \"bicycle\", \"fish\", m ) -> 0` <br>\n",
    "  + `check_analogy( \"woman\", \"man\", \"bicycle\", \"pedestrian\", m ) -> 96` <br>\n",
    "\n",
    "And, again be sure to find at least four of your own `check_analogy` examples:\n",
    "  + at least one in the \"top quartile\" (75% to 100%) \n",
    "  + at least one in the \"next quartile\" (50% to 75%) \n",
    "  + at least one in the \"next quartile\" (25% to 50%) \n",
    "  + at least one in the \"bottom quartile\" (0% to 25%) "
   ]
  },
  {
   "cell_type": "code",
   "execution_count": 116,
   "metadata": {},
   "outputs": [
    {
     "name": "stdout",
     "output_type": "stream",
     "text": [
      "5\n",
      "0\n",
      "96\n",
      "75\n",
      "50\n",
      "25\n",
      "1\n"
     ]
    }
   ],
   "source": [
    "#\n",
    "# your check_analogy function\n",
    "#\n",
    "def check_analogy(w1,w2,w3,w4,m):\n",
    "    '''return a \"score\" on how well the word2vec model `m` does at solving the analogy provided'''\n",
    "    results = m.most_similar(positive=[w3, w2], negative=[w1], topn=100)\n",
    "    score = 100\n",
    "    for result in results:\n",
    "        if w4 == result[0]:\n",
    "            return score  #score\n",
    "            \n",
    "        score -= 1\n",
    "    return score\n",
    "\n",
    "\n",
    "   \n",
    " #       print(\"The 4th word is not contained in the list\")\n",
    "  #      return\n",
    "   # else:\n",
    "    #    print(f\"Given {w1},{w2}.{w3},{w4}, the value is {i}\")\n",
    "\n",
    "\n",
    "\n",
    "print(check_analogy( \"man\", \"king\", \"woman\", \"bishop\", m ))\n",
    "print(check_analogy( \"woman\", \"man\", \"bicycle\", \"fish\", m ))\n",
    "print(check_analogy( \"woman\", \"man\", \"bicycle\", \"pedestrian\", m ))\n",
    "print(check_analogy( \"man\", \"king\", \"woman\", \"sultans\", m ))\n",
    "print(check_analogy( \"man\", \"king\", \"woman\", \"maids\", m ))\n",
    "print(check_analogy( \"man\", \"king\", \"woman\", \"beauteous\", m ))\n",
    "print(check_analogy( \"man\", \"king\", \"woman\", \"Throne\", m ))\n",
    "\n",
    "\n",
    "\n",
    "\n",
    "\n"
   ]
  },
  {
   "cell_type": "code",
   "execution_count": null,
   "metadata": {},
   "outputs": [],
   "source": [
    "#\n",
    "# and examples from each quartile!\n",
    "#\n",
    "\n"
   ]
  },
  {
   "cell_type": "markdown",
   "metadata": {},
   "source": []
  }
 ],
 "metadata": {
  "kernelspec": {
   "display_name": "Python 3",
   "language": "python",
   "name": "python3"
  },
  "language_info": {
   "codemirror_mode": {
    "name": "ipython",
    "version": 3
   },
   "file_extension": ".py",
   "mimetype": "text/x-python",
   "name": "python",
   "nbconvert_exporter": "python",
   "pygments_lexer": "ipython3",
   "version": "3.12.1"
  }
 },
 "nbformat": 4,
 "nbformat_minor": 2
}
